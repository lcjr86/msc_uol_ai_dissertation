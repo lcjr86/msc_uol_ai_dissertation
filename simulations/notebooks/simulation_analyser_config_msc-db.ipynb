{
 "cells": [
  {
   "attachments": {},
   "cell_type": "markdown",
   "metadata": {},
   "source": [
    "# Simulation Analyser (msc_config results)"
   ]
  },
  {
   "cell_type": "markdown",
   "metadata": {},
   "source": [
    "## Import relevant libraries"
   ]
  },
  {
   "cell_type": "code",
   "execution_count": 1,
   "metadata": {},
   "outputs": [],
   "source": [
    "import pandas as pd\n",
    "\n",
    "import plotly.express as px\n",
    "import plotly.graph_objects as go\n",
    "from plotly.subplots import make_subplots\n",
    "\n",
    "import os\n",
    "import quantstats as qs\n",
    "\n",
    "import sqlite3\n",
    "from sqlalchemy import create_engine"
   ]
  },
  {
   "cell_type": "code",
   "execution_count": 2,
   "metadata": {},
   "outputs": [],
   "source": [
    "def get_and_process_simulation_data(config_file_name_without_extension):\n",
    "    try:\n",
    "        \n",
    "        # Get the data\n",
    "        db_address = 'sqlite:///../results/data/db/simulation.db'\n",
    "        engine = create_engine(db_address, echo=False)\n",
    "        sqlite_connection = engine.connect()\n",
    "\n",
    "        input_tbl_name = \"tbl_simulation_results\" + \"_\" + config_file_name_without_extension\n",
    "        \n",
    "        sql_command = \"SELECT * FROM \" + input_tbl_name\n",
    "\n",
    "        df = pd.read_sql(sql_command, sqlite_connection)\n",
    "\n",
    "        sqlite_connection.close()\n",
    "\n",
    "        return df\n",
    "\n",
    "    except Exception as e:\n",
    "        print(e)"
   ]
  },
  {
   "attachments": {},
   "cell_type": "markdown",
   "metadata": {},
   "source": [
    "## Compare: Same `ccy` & `feat_package` with different `time-to-chart (timestamp)`"
   ]
  },
  {
   "cell_type": "code",
   "execution_count": 35,
   "metadata": {},
   "outputs": [],
   "source": [
    "def get_boxplot_total_profit_diff_time_to_chart(df_sim_results, feat_package):\n",
    "    \n",
    "    str_title = f\"Total Profit Percentage (in %) x different time-to-chart (Across different models) <br>ccy:{df_sim_results.ccy.unique()[0]} - feat_package:{feat_package}\"\n",
    "\n",
    "    list_of_colours = ['blue', 'green', 'orange', 'violet']\n",
    "\n",
    "    fig = make_subplots(rows=2, cols=2, subplot_titles=(\"A2C\", \"PPO\", \"DQN\", \"RANDOM\"), shared_yaxes='all')\n",
    "\n",
    "    #fig.add_trace(go.Box(y = df_sim_results[(df_sim_results['data_frequency_train'] == '5m') & (df_sim_results['model_type'] == 'A2C')]['fmt_total_profit_percentage'], name=\"5min\", showlegend=False, line=dict(color=list_of_colours[0])), row=1, col=1)\n",
    "    fig.add_trace(go.Box(y = df_sim_results[(df_sim_results['data_frequency_train'] == '15m') & (df_sim_results['model_type'] == 'A2C')]['fmt_total_profit_percentage'], name=\"15min\", showlegend=False, line=dict(color=list_of_colours[1])), row=1, col=1)\n",
    "    fig.add_trace(go.Box(y = df_sim_results[(df_sim_results['data_frequency_train'] == '1h') & (df_sim_results['model_type'] == 'A2C')]['fmt_total_profit_percentage'], name=\"1h\", showlegend=False, line=dict(color=list_of_colours[2])), row=1, col=1)\n",
    "    fig.add_trace(go.Box(y = df_sim_results[(df_sim_results['data_frequency_train'] == '1d') & (df_sim_results['model_type'] == 'A2C')]['fmt_total_profit_percentage'], name=\"1d\", showlegend=False, line=dict(color=list_of_colours[3])), row=1, col=1)\n",
    "\n",
    "    #fig.add_trace(go.Box(y = df_sim_results[(df_sim_results['data_frequency_train'] == '5m') & (df_sim_results['model_type'] == 'PPO')]['fmt_total_profit_percentage'], name=\"5min\", showlegend=False, line=dict(color=list_of_colours[0])), row=1, col=2)\n",
    "    fig.add_trace(go.Box(y = df_sim_results[(df_sim_results['data_frequency_train'] == '15m') & (df_sim_results['model_type'] == 'PPO')]['fmt_total_profit_percentage'], name=\"15min\", showlegend=False, line=dict(color=list_of_colours[1])), row=1, col=2)\n",
    "    fig.add_trace(go.Box(y = df_sim_results[(df_sim_results['data_frequency_train'] == '1h') & (df_sim_results['model_type'] == 'PPO')]['fmt_total_profit_percentage'], name=\"1h\", showlegend=False, line=dict(color=list_of_colours[2])), row=1, col=2)\n",
    "    fig.add_trace(go.Box(y = df_sim_results[(df_sim_results['data_frequency_train'] == '1d') & (df_sim_results['model_type'] == 'PPO')]['fmt_total_profit_percentage'], name=\"1d\", showlegend=False, line=dict(color=list_of_colours[3])), row=1, col=2)\n",
    "\n",
    "    #fig.add_trace(go.Box(y = df_sim_results[(df_sim_results['data_frequency_train'] == '5m') & (df_sim_results['model_type'] == 'DQN')]['fmt_total_profit_percentage'], name=\"5min\", showlegend=False, line=dict(color=list_of_colours[0])), row=2, col=1)\n",
    "    fig.add_trace(go.Box(y = df_sim_results[(df_sim_results['data_frequency_train'] == '15m') & (df_sim_results['model_type'] == 'DQN')]['fmt_total_profit_percentage'], name=\"15min\", showlegend=False, line=dict(color=list_of_colours[1])), row=2, col=1)\n",
    "    fig.add_trace(go.Box(y = df_sim_results[(df_sim_results['data_frequency_train'] == '1h') & (df_sim_results['model_type'] == 'DQN')]['fmt_total_profit_percentage'], name=\"1h\", showlegend=False, line=dict(color=list_of_colours[2])), row=2, col=1)\n",
    "    fig.add_trace(go.Box(y = df_sim_results[(df_sim_results['data_frequency_train'] == '1d') & (df_sim_results['model_type'] == 'DQN')]['fmt_total_profit_percentage'], name=\"1d\", showlegend=False, line=dict(color=list_of_colours[3])), row=2, col=1)\n",
    "\n",
    "    #fig.add_trace(go.Box(y = df_sim_results[(df_sim_results['data_frequency_train'] == '5m') & (df_sim_results['model_type'] == 'RANDOM')]['fmt_total_profit_percentage'], name=\"5min\", showlegend=False, line=dict(color=list_of_colours[0])), row=2, col=2)\n",
    "    fig.add_trace(go.Box(y = df_sim_results[(df_sim_results['data_frequency_train'] == '15m') & (df_sim_results['model_type'] == 'RANDOM')]['fmt_total_profit_percentage'], name=\"15min\", showlegend=False, line=dict(color=list_of_colours[1])), row=2, col=2)\n",
    "    fig.add_trace(go.Box(y = df_sim_results[(df_sim_results['data_frequency_train'] == '1h') & (df_sim_results['model_type'] == 'RANDOM')]['fmt_total_profit_percentage'], name=\"1h\", showlegend=False, line=dict(color=list_of_colours[2])), row=2, col=2)\n",
    "    fig.add_trace(go.Box(y = df_sim_results[(df_sim_results['data_frequency_train'] == '1d') & (df_sim_results['model_type'] == 'RANDOM')]['fmt_total_profit_percentage'], name=\"1d\", showlegend=False, line=dict(color=list_of_colours[3])), row=2, col=2)\n",
    "\n",
    "    fig.update_xaxes(title_text = \"time-to-chart\", title_standoff = 25)\n",
    "\n",
    "    fig.update_yaxes(title_text = \"Total Profit Percentage (in %)\", title_standoff = 25)\n",
    "\n",
    "    fig.update_layout(title=str_title, title_x=0.5, width=1200, height=800)\n",
    "    fig.show()    "
   ]
  },
  {
   "cell_type": "code",
   "execution_count": 53,
   "metadata": {},
   "outputs": [],
   "source": [
    "def get_histogramplot_total_profit_diff_time_to_chart(df_sim_results, feat_package):\n",
    "    \n",
    "    str_title = f\"Total Profit Percentage (in %) x different time-to-chart (Across different models) <br>ccy:{df_sim_results.ccy.unique()[0]} - feat_package:{feat_package}\"\n",
    "\n",
    "    list_of_colours = ['blue', 'green', 'orange', 'violet']\n",
    "\n",
    "    fig = make_subplots(rows=2, cols=2, subplot_titles=(\"A2C\", \"PPO\", \"DQN\", \"RANDOM\"), shared_xaxes='all', shared_yaxes='all')\n",
    "\n",
    "    #fig.add_trace(go.Histogram(x = df_sim_results[(df_sim_results['data_frequency_train'] == '5m') & (df_sim_results['model_type'] == 'A2C')]['fmt_total_profit_percentage'], name=\"5min\", marker_color=list_of_colours[0]), row=1, col=1)\n",
    "    fig.add_trace(go.Histogram(x = df_sim_results[(df_sim_results['data_frequency_train'] == '15m') & (df_sim_results['model_type'] == 'A2C')]['fmt_total_profit_percentage'], name=\"15min\", marker_color=list_of_colours[1]), row=1, col=1)\n",
    "    fig.add_trace(go.Histogram(x = df_sim_results[(df_sim_results['data_frequency_train'] == '1h') & (df_sim_results['model_type'] == 'A2C')]['fmt_total_profit_percentage'], name=\"1h\", marker_color=list_of_colours[2]), row=1, col=1)\n",
    "    fig.add_trace(go.Histogram(x = df_sim_results[(df_sim_results['data_frequency_train'] == '1d') & (df_sim_results['model_type'] == 'A2C')]['fmt_total_profit_percentage'], name=\"1d\", marker_color=list_of_colours[3]), row=1, col=1)\n",
    "\n",
    "    #fig.add_trace(go.Histogram(x = df_sim_results[(df_sim_results['data_frequency_train'] == '5m') & (df_sim_results['model_type'] == 'PPO')]['fmt_total_profit_percentage'], name=\"5min\", marker_color=list_of_colours[0], showlegend=False), row=1, col=2)\n",
    "    fig.add_trace(go.Histogram(x = df_sim_results[(df_sim_results['data_frequency_train'] == '15m') & (df_sim_results['model_type'] == 'PPO')]['fmt_total_profit_percentage'], name=\"15min\", marker_color=list_of_colours[1], showlegend=False), row=1, col=2)\n",
    "    fig.add_trace(go.Histogram(x = df_sim_results[(df_sim_results['data_frequency_train'] == '1h') & (df_sim_results['model_type'] == 'PPO')]['fmt_total_profit_percentage'], name=\"1h\", marker_color=list_of_colours[2], showlegend=False), row=1, col=2)\n",
    "    fig.add_trace(go.Histogram(x = df_sim_results[(df_sim_results['data_frequency_train'] == '1d') & (df_sim_results['model_type'] == 'PPO')]['fmt_total_profit_percentage'], name=\"1d\", marker_color=list_of_colours[3], showlegend=False), row=1, col=2)\n",
    "\n",
    "    #fig.add_trace(go.Histogram(x = df_sim_results[(df_sim_results['data_frequency_train'] == '5m') & (df_sim_results['model_type'] == 'DQN')]['fmt_total_profit_percentage'], name=\"5min\", marker_color=list_of_colours[0], showlegend=False), row=2, col=1)\n",
    "    fig.add_trace(go.Histogram(x = df_sim_results[(df_sim_results['data_frequency_train'] == '15m') & (df_sim_results['model_type'] == 'DQN')]['fmt_total_profit_percentage'], name=\"15min\", marker_color=list_of_colours[1], showlegend=False), row=2, col=1)\n",
    "    fig.add_trace(go.Histogram(x = df_sim_results[(df_sim_results['data_frequency_train'] == '1h') & (df_sim_results['model_type'] == 'DQN')]['fmt_total_profit_percentage'], name=\"1h\", marker_color=list_of_colours[2], showlegend=False), row=2, col=1)\n",
    "    fig.add_trace(go.Histogram(x = df_sim_results[(df_sim_results['data_frequency_train'] == '1d') & (df_sim_results['model_type'] == 'DQN')]['fmt_total_profit_percentage'], name=\"1d\", marker_color=list_of_colours[3], showlegend=False), row=2, col=1)\n",
    "\n",
    "    #fig.add_trace(go.Histogram(x = df_sim_results[(df_sim_results['data_frequency_train'] == '5m') & (df_sim_results['model_type'] == 'RANDOM')]['fmt_total_profit_percentage'], name=\"5min\", marker_color=list_of_colours[0], showlegend=False), row=2, col=2)\n",
    "    fig.add_trace(go.Histogram(x = df_sim_results[(df_sim_results['data_frequency_train'] == '15m') & (df_sim_results['model_type'] == 'RANDOM')]['fmt_total_profit_percentage'], name=\"15min\", marker_color=list_of_colours[1], showlegend=False), row=2, col=2)\n",
    "    fig.add_trace(go.Histogram(x = df_sim_results[(df_sim_results['data_frequency_train'] == '1h') & (df_sim_results['model_type'] == 'RANDOM')]['fmt_total_profit_percentage'], name=\"1h\", marker_color=list_of_colours[2], showlegend=False), row=2, col=2)\n",
    "    fig.add_trace(go.Histogram(x = df_sim_results[(df_sim_results['data_frequency_train'] == '1d') & (df_sim_results['model_type'] == 'RANDOM')]['fmt_total_profit_percentage'], name=\"1d\", marker_color=list_of_colours[3], showlegend=False), row=2, col=2)\n",
    "\n",
    "    fig.update_xaxes(title_text = \"Total Profit Percentage (in %)\", title_standoff = 25)\n",
    "\n",
    "    fig.update_yaxes(title_text = \"Number of simulations\", title_standoff = 25)\n",
    "\n",
    "    fig.update_layout(title=str_title, title_x=0.5, width=1200, height=800)\n",
    "\n",
    "    fig.show()    "
   ]
  },
  {
   "cell_type": "code",
   "execution_count": 54,
   "metadata": {},
   "outputs": [],
   "source": [
    "def get_meanplot_total_profit_diff_time_to_chart(df_sim_results, feat_package):\n",
    "\n",
    "    str_title = f\"MEDIAN : Total Profit Percentage (in %) x different time-to-chart (Across different models) <br>ccy:{df_sim_results.ccy.unique()[0]} - feat_package:{feat_package}\"\n",
    "\n",
    "    list_of_colours = ['blue', 'green', 'orange', 'violet']\n",
    "\n",
    "    df_sim_results_stats = df_sim_results.groupby(['data_frequency_train', 'model_type'])['fmt_total_profit_percentage'].agg(['min', 'mean', 'median', 'max']).reset_index()\n",
    "\n",
    "    fig = go.Figure()\n",
    "\n",
    "    #fig.add_trace(go.Scatter(name='A2C:5m', x = [df_sim_results_stats[(df_sim_results_stats['data_frequency_train'] == '5m') & (df_sim_results_stats['model_type'] == 'A2C')]['median'].values[0], df_sim_results_stats[(df_sim_results_stats['data_frequency_train'] == '5m') & (df_sim_results_stats['model_type'] == 'A2C')]['median'].values[0]], y = [3], mode = \"markers\", marker=dict(color=list_of_colours[0], marker_symbol=\"circle\", marker_size=10, legendgroup = '1'))\n",
    "    fig.add_trace(go.Scatter(name='A2C: 15m', x = [df_sim_results_stats[(df_sim_results_stats['data_frequency_train'] == '15m') & (df_sim_results_stats['model_type'] == 'A2C')]['median'].values[0], df_sim_results_stats[(df_sim_results_stats['data_frequency_train'] == '15m') & (df_sim_results_stats['model_type'] == 'A2C')]['median'].values[0]], y = [3], mode = \"markers+text\", marker=dict(color=list_of_colours[1]), marker_symbol=\"circle\", marker_size=10, legendgroup = '1'))\n",
    "    fig.add_trace(go.Scatter(name='A2C:1h', x = [df_sim_results_stats[(df_sim_results_stats['data_frequency_train'] == '1h') & (df_sim_results_stats['model_type'] == 'A2C')]['median'].values[0], df_sim_results_stats[(df_sim_results_stats['data_frequency_train'] == '1h') & (df_sim_results_stats['model_type'] == 'A2C')]['median'].values[0]], y = [3], mode = \"markers+text\", marker=dict(color=list_of_colours[2]), marker_symbol=\"circle\", marker_size=10, legendgroup = '1'))\n",
    "    fig.add_trace(go.Scatter(name='A2C:1d', x = [df_sim_results_stats[(df_sim_results_stats['data_frequency_train'] == '1d') & (df_sim_results_stats['model_type'] == 'A2C')]['median'].values[0], df_sim_results_stats[(df_sim_results_stats['data_frequency_train'] == '1d') & (df_sim_results_stats['model_type'] == 'A2C')]['median'].values[0]], y = [3], mode = \"markers+text\", marker=dict(color=list_of_colours[3]), marker_symbol=\"circle\", marker_size=10, legendgroup = '1'))\n",
    "\n",
    "    #fig.add_annotation(x=df_sim_results_stats[(df_sim_results_stats['data_frequency_train'] == '5m') & (df_sim_results_stats['model_type'] == 'A2C')]['median'].values[0], y=3, xref=\"x\", xanchor=\"center\", yref=\"y\", text=str(round(df_sim_results_stats[(df_sim_results_stats['data_frequency_train'] == '5m') & (df_sim_results_stats['model_type'] == 'A2C')]['median'].values[0], 4)), align=\"center\", textangle=45)\n",
    "    fig.add_annotation(x=df_sim_results_stats[(df_sim_results_stats['data_frequency_train'] == '15m') & (df_sim_results_stats['model_type'] == 'A2C')]['median'].values[0], y=3, xref=\"x\", xanchor=\"center\", yref=\"y\", text=str(round(df_sim_results_stats[(df_sim_results_stats['data_frequency_train'] == '15m') & (df_sim_results_stats['model_type'] == 'A2C')]['median'].values[0], 4)), align=\"center\", textangle=45)\n",
    "    fig.add_annotation(x=df_sim_results_stats[(df_sim_results_stats['data_frequency_train'] == '1h') & (df_sim_results_stats['model_type'] == 'A2C')]['median'].values[0], y=3, xref=\"x\", xanchor=\"center\", yref=\"y\", text=str(round(df_sim_results_stats[(df_sim_results_stats['data_frequency_train'] == '1h') & (df_sim_results_stats['model_type'] == 'A2C')]['median'].values[0], 4)), align=\"center\", textangle=45)\n",
    "    fig.add_annotation(x=df_sim_results_stats[(df_sim_results_stats['data_frequency_train'] == '1d') & (df_sim_results_stats['model_type'] == 'A2C')]['median'].values[0], y=3, xref=\"x\", xanchor=\"center\", yref=\"y\", text=str(round(df_sim_results_stats[(df_sim_results_stats['data_frequency_train'] == '1d') & (df_sim_results_stats['model_type'] == 'A2C')]['median'].values[0], 4)), align=\"center\", textangle=45)\n",
    "\n",
    "    #fig.add_trace(go.Scatter(name='PPO: 5m', x = [df_sim_results_stats[(df_sim_results_stats['data_frequency_train'] == '5m') & (df_sim_results_stats['model_type'] == 'PPO')]['median'].values[0], df_sim_results_stats[(df_sim_results_stats['data_frequency_train'] == '5m') & (df_sim_results_stats['model_type'] == 'PPO')]['median'].values[0]], y = [2], mode = \"markers\", marker=dict(color=list_of_colours[0], marker_symbol=\"square\", marker_size=10, legendgroup = '2'))\n",
    "    fig.add_trace(go.Scatter(name='PPO: 15m', x = [df_sim_results_stats[(df_sim_results_stats['data_frequency_train'] == '15m') & (df_sim_results_stats['model_type'] == 'PPO')]['median'].values[0], df_sim_results_stats[(df_sim_results_stats['data_frequency_train'] == '15m') & (df_sim_results_stats['model_type'] == 'PPO')]['median'].values[0]], y = [2], mode = \"markers\", marker=dict(color=list_of_colours[1]), marker_symbol=\"square\", marker_size=10, legendgroup = '2'))\n",
    "    fig.add_trace(go.Scatter(name='PPO: 1h', x = [df_sim_results_stats[(df_sim_results_stats['data_frequency_train'] == '1h') & (df_sim_results_stats['model_type'] == 'PPO')]['median'].values[0], df_sim_results_stats[(df_sim_results_stats['data_frequency_train'] == '1h') & (df_sim_results_stats['model_type'] == 'PPO')]['median'].values[0]], y = [2], mode = \"markers\", marker=dict(color=list_of_colours[2]), marker_symbol=\"square\", marker_size=10, legendgroup = '2'))\n",
    "    fig.add_trace(go.Scatter(name='PPO: 1d', x = [df_sim_results_stats[(df_sim_results_stats['data_frequency_train'] == '1d') & (df_sim_results_stats['model_type'] == 'PPO')]['median'].values[0], df_sim_results_stats[(df_sim_results_stats['data_frequency_train'] == '1d') & (df_sim_results_stats['model_type'] == 'PPO')]['median'].values[0]], y = [2], mode = \"markers\", marker=dict(color=list_of_colours[3]), marker_symbol=\"square\", marker_size=10, legendgroup = '2'))\n",
    "\n",
    "    #fig.add_annotation(x=df_sim_results_stats[(df_sim_results_stats['data_frequency_train'] == '5m') & (df_sim_results_stats['model_type'] == 'PPO')]['median'].values[0], y=2, xref=\"x\", xanchor=\"center\", yref=\"y\", text=str(round(df_sim_results_stats[(df_sim_results_stats['data_frequency_train'] == '5m') & (df_sim_results_stats['model_type'] == 'PPO')]['median'].values[0], 4)), align=\"center\", textangle=45)\n",
    "    fig.add_annotation(x=df_sim_results_stats[(df_sim_results_stats['data_frequency_train'] == '15m') & (df_sim_results_stats['model_type'] == 'PPO')]['median'].values[0], y=2, xref=\"x\", xanchor=\"center\", yref=\"y\", text=str(round(df_sim_results_stats[(df_sim_results_stats['data_frequency_train'] == '15m') & (df_sim_results_stats['model_type'] == 'PPO')]['median'].values[0], 4)), align=\"center\", textangle=45)\n",
    "    fig.add_annotation(x=df_sim_results_stats[(df_sim_results_stats['data_frequency_train'] == '1h') & (df_sim_results_stats['model_type'] == 'PPO')]['median'].values[0], y=2, xref=\"x\", xanchor=\"center\", yref=\"y\", text=str(round(df_sim_results_stats[(df_sim_results_stats['data_frequency_train'] == '1h') & (df_sim_results_stats['model_type'] == 'PPO')]['median'].values[0], 4)), align=\"center\", textangle=45)\n",
    "    fig.add_annotation(x=df_sim_results_stats[(df_sim_results_stats['data_frequency_train'] == '1d') & (df_sim_results_stats['model_type'] == 'PPO')]['median'].values[0], y=2, xref=\"x\", xanchor=\"center\", yref=\"y\", text=str(round(df_sim_results_stats[(df_sim_results_stats['data_frequency_train'] == '1d') & (df_sim_results_stats['model_type'] == 'PPO')]['median'].values[0], 4)), align=\"center\", textangle=45)\n",
    "\n",
    "    #fig.add_trace(go.Scatter(name='DQN: 5m', x = [df_sim_results_stats[(df_sim_results_stats['data_frequency_train'] == '5m') & (df_sim_results_stats['model_type'] == 'DQN')]['median'].values[0], df_sim_results_stats[(df_sim_results_stats['data_frequency_train'] == '5m') & (df_sim_results_stats['model_type'] == 'DQN')]['median'].values[0]], y = [1],  mode = \"markers\", marker=dict(color=list_of_colours[0], marker_symbol=\"diamond\", marker_size=10, legendgroup = '3'))\n",
    "    fig.add_trace(go.Scatter(name='DQN: 15m', x = [df_sim_results_stats[(df_sim_results_stats['data_frequency_train'] == '15m') & (df_sim_results_stats['model_type'] == 'DQN')]['median'].values[0], df_sim_results_stats[(df_sim_results_stats['data_frequency_train'] == '15m') & (df_sim_results_stats['model_type'] == 'DQN')]['median'].values[0]], y = [1], mode = \"markers\", marker=dict(color=list_of_colours[1]), marker_symbol=\"diamond\", marker_size=10, legendgroup = '3'))\n",
    "    fig.add_trace(go.Scatter(name='DQN: 1h', x = [df_sim_results_stats[(df_sim_results_stats['data_frequency_train'] == '1h') & (df_sim_results_stats['model_type'] == 'DQN')]['median'].values[0], df_sim_results_stats[(df_sim_results_stats['data_frequency_train'] == '1h') & (df_sim_results_stats['model_type'] == 'DQN')]['median'].values[0]], y = [1], mode = \"markers\", marker=dict(color=list_of_colours[2]), marker_symbol=\"diamond\", marker_size=10, legendgroup = '3'))\n",
    "    fig.add_trace(go.Scatter(name='DQN: 1d', x = [df_sim_results_stats[(df_sim_results_stats['data_frequency_train'] == '1d') & (df_sim_results_stats['model_type'] == 'DQN')]['median'].values[0], df_sim_results_stats[(df_sim_results_stats['data_frequency_train'] == '1d') & (df_sim_results_stats['model_type'] == 'DQN')]['median'].values[0]], y = [1], mode = \"markers\", marker=dict(color=list_of_colours[3]), marker_symbol=\"diamond\", marker_size=10, legendgroup = '3'))\n",
    "\n",
    "    #fig.add_annotation(x=df_sim_results_stats[(df_sim_results_stats['data_frequency_train'] == '5m') & (df_sim_results_stats['model_type'] == 'DQN')]['median'].values[0], y=1, xref=\"x\", xanchor=\"center\", yref=\"y\", text=str(round(df_sim_results_stats[(df_sim_results_stats['data_frequency_train'] == '5m') & (df_sim_results_stats['model_type'] == 'DQN')]['median'].values[0], 4)), align=\"center\", textangle=45)\n",
    "    fig.add_annotation(x=df_sim_results_stats[(df_sim_results_stats['data_frequency_train'] == '15m') & (df_sim_results_stats['model_type'] == 'DQN')]['median'].values[0], y=1, xref=\"x\", xanchor=\"center\", yref=\"y\", text=str(round(df_sim_results_stats[(df_sim_results_stats['data_frequency_train'] == '15m') & (df_sim_results_stats['model_type'] == 'DQN')]['median'].values[0], 4)), align=\"center\", textangle=45)\n",
    "    fig.add_annotation(x=df_sim_results_stats[(df_sim_results_stats['data_frequency_train'] == '1h') & (df_sim_results_stats['model_type'] == 'DQN')]['median'].values[0], y=1, xref=\"x\", xanchor=\"center\", yref=\"y\", text=str(round(df_sim_results_stats[(df_sim_results_stats['data_frequency_train'] == '1h') & (df_sim_results_stats['model_type'] == 'DQN')]['median'].values[0], 4)), align=\"center\", textangle=45)\n",
    "    fig.add_annotation(x=df_sim_results_stats[(df_sim_results_stats['data_frequency_train'] == '1d') & (df_sim_results_stats['model_type'] == 'DQN')]['median'].values[0], y=1, xref=\"x\", xanchor=\"center\", yref=\"y\", text=str(round(df_sim_results_stats[(df_sim_results_stats['data_frequency_train'] == '1d') & (df_sim_results_stats['model_type'] == 'DQN')]['median'].values[0], 4)), align=\"center\", textangle=45)\n",
    "\n",
    "    #fig.add_trace(go.Scatter(name='RANDOM: 5m', x = [df_sim_results_stats[(df_sim_results_stats['data_frequency_train'] == '5m') & (df_sim_results_stats['model_type'] == 'RANDOM')]['median'].values[0], df_sim_results_stats[(df_sim_results_stats['data_frequency_train'] == '5m') & (df_sim_results_stats['model_type'] == 'RANDOM')]['median'].values[0]], y = [0], mode = \"markers+text\", marker=dict(color=list_of_colours[0], marker_symbol=\"circle\", marker_size=10, legendgroup = '4'))\n",
    "    fig.add_trace(go.Scatter(name='RANDOM: 15m', x = [df_sim_results_stats[(df_sim_results_stats['data_frequency_train'] == '15m') & (df_sim_results_stats['model_type'] == 'RANDOM')]['median'].values[0], df_sim_results_stats[(df_sim_results_stats['data_frequency_train'] == '15m') & (df_sim_results_stats['model_type'] == 'RANDOM')]['median'].values[0]], y = [0],  mode = \"markers+text\", marker=dict(color=list_of_colours[1]), marker_symbol=\"cross\", marker_size=10, legendgroup = '4'))\n",
    "    fig.add_trace(go.Scatter(name='RANDOM: 1h', x = [df_sim_results_stats[(df_sim_results_stats['data_frequency_train'] == '1h') & (df_sim_results_stats['model_type'] == 'RANDOM')]['median'].values[0], df_sim_results_stats[(df_sim_results_stats['data_frequency_train'] == '1h') & (df_sim_results_stats['model_type'] == 'RANDOM')]['median'].values[0]], y = [0], mode = \"markers+text\", marker=dict(color=list_of_colours[2]), marker_symbol=\"cross\", marker_size=10, legendgroup = '4'))\n",
    "    fig.add_trace(go.Scatter(name='RANDOM: 1d', x = [df_sim_results_stats[(df_sim_results_stats['data_frequency_train'] == '1d') & (df_sim_results_stats['model_type'] == 'RANDOM')]['median'].values[0], df_sim_results_stats[(df_sim_results_stats['data_frequency_train'] == '1d') & (df_sim_results_stats['model_type'] == 'RANDOM')]['median'].values[0]], y = [0], mode = \"markers+text\", marker=dict(color=list_of_colours[3]), marker_symbol=\"cross\", marker_size=10, legendgroup = '4'))\n",
    "\n",
    "    #fig.add_annotation(x=df_sim_results_stats[(df_sim_results_stats['data_frequency_train'] == '5m') & (df_sim_results_stats['model_type'] == 'RANDOM')]['median'].values[0], y=0, xref=\"x\", xanchor=\"center\", yref=\"y\", text=str(round(df_sim_results_stats[(df_sim_results_stats['data_frequency_train'] == '5m') & (df_sim_results_stats['model_type'] == 'RANDOM')]['median'].values[0], 4)), align=\"center\", textangle=45)\n",
    "    fig.add_annotation(x=df_sim_results_stats[(df_sim_results_stats['data_frequency_train'] == '15m') & (df_sim_results_stats['model_type'] == 'RANDOM')]['median'].values[0], y=0, xref=\"x\", xanchor=\"center\", yref=\"y\", text=str(round(df_sim_results_stats[(df_sim_results_stats['data_frequency_train'] == '15m') & (df_sim_results_stats['model_type'] == 'RANDOM')]['median'].values[0], 4)), align=\"center\", textangle=45)\n",
    "    fig.add_annotation(x=df_sim_results_stats[(df_sim_results_stats['data_frequency_train'] == '1h') & (df_sim_results_stats['model_type'] == 'RANDOM')]['median'].values[0], y=0, xref=\"x\", xanchor=\"center\", yref=\"y\", text=str(round(df_sim_results_stats[(df_sim_results_stats['data_frequency_train'] == '1h') & (df_sim_results_stats['model_type'] == 'RANDOM')]['median'].values[0], 4)), align=\"center\", textangle=45)\n",
    "    fig.add_annotation(x=df_sim_results_stats[(df_sim_results_stats['data_frequency_train'] == '1d') & (df_sim_results_stats['model_type'] == 'RANDOM')]['median'].values[0], y=0, xref=\"x\", xanchor=\"center\", yref=\"y\", text=str(round(df_sim_results_stats[(df_sim_results_stats['data_frequency_train'] == '1d') & (df_sim_results_stats['model_type'] == 'RANDOM')]['median'].values[0], 4)), align=\"center\", textangle=45)\n",
    "\n",
    "    fig.update_xaxes(title_text = \"Total Profit Percentage (in %)\", title_standoff = 25)\n",
    "    fig.update_yaxes(showticklabels=False)\n",
    "\n",
    "    fig.update_layout(title=str_title, title_x=0.5, width=1200, height=800, legend_tracegroupgap=125)\n",
    "    fig.show()  "
   ]
  },
  {
   "attachments": {},
   "cell_type": "markdown",
   "metadata": {},
   "source": [
    "### `ccy=BTCUSDT` & `feat_package=1` "
   ]
  },
  {
   "attachments": {},
   "cell_type": "markdown",
   "metadata": {},
   "source": [
    "#### Parameters"
   ]
  },
  {
   "cell_type": "code",
   "execution_count": 55,
   "metadata": {},
   "outputs": [],
   "source": [
    "#list_ccy = ['BTCUSDT', 'BNBUSDT', 'ETHUSDT']\n",
    "#list_timestamp = [\"1d\", \"1h\", \"15m\", \"5m\"]\n",
    "#list_feat = ['1', '2', '3']\n",
    "\n",
    "list_ccy = ['BTCUSDT']\n",
    "#list_timestamp = [\"1d\", \"1h\", \"15m\", \"5m\"]\n",
    "list_timestamp = [\"1d\", \"1h\", \"15m\"]\n",
    "list_feat = ['1']\n",
    "\n",
    "list_config_file_name = []\n",
    "for ccy in list_ccy:\n",
    "    for timestamp in list_timestamp:\n",
    "        for feat in list_feat:\n",
    "            config_file_name = \"config_msc_\" + ccy + \"_\" + timestamp + \"_feat_package\" + feat\n",
    "            list_config_file_name.append(config_file_name)"
   ]
  },
  {
   "attachments": {},
   "cell_type": "markdown",
   "metadata": {},
   "source": [
    "#### Get the data"
   ]
  },
  {
   "cell_type": "code",
   "execution_count": 56,
   "metadata": {},
   "outputs": [],
   "source": [
    "df_sim_results = pd.DataFrame()\n",
    "for config_file_name in list_config_file_name:\n",
    "    df_sim_results_temp = get_and_process_simulation_data(config_file_name)\n",
    "    df_sim_results_temp['config_file_name'] = config_file_name\n",
    "    df_sim_results = pd.concat([df_sim_results, df_sim_results_temp], axis=0)"
   ]
  },
  {
   "attachments": {},
   "cell_type": "markdown",
   "metadata": {},
   "source": [
    "#### Plot the results"
   ]
  },
  {
   "cell_type": "code",
   "execution_count": 57,
   "metadata": {},
   "outputs": [
    {
     "data": {
      "application/vnd.plotly.v1+json": {
       "config": {
        "plotlyServerURL": "https://plot.ly"
       },
       "data": [
        {
         "line": {
          "color": "green"
         },
         "name": "15min",
         "showlegend": false,
         "type": "box",
         "xaxis": "x",
         "y": [
          4.2182312954456735,
          0.6829982085942321,
          2.3574650261620533,
          0.7808499171005456,
          -0.9346713706918974,
          -6.497089797175115,
          -2.759621765627218,
          2.321997377181906,
          1.0598988339849402,
          0.13828204474335415,
          1.7046963776591761,
          -8.102917186784698,
          0.182187144703283,
          2.3435619458663126,
          8.936572452606683,
          -5.066490223486908,
          -0.1371693003958674,
          3.873445527660113,
          4.326723128768228,
          -3.5521476831352317,
          0.4208274188025163,
          -3.7372997898172278,
          14.48889595217764,
          4.343141130974737,
          -1.1931130638815235,
          -0.17237339116725758,
          -2.7890277374544636,
          1.7961921300086336,
          -3.778493935454208,
          -1.1779435369175806,
          3.9426675153266144,
          -1.3460087897081419,
          1.2035237717435754,
          7.763190124442332,
          -4.196624415163097,
          1.4869839568477872,
          2.7413415544797815,
          -6.7723852402860825,
          -4.05823216325868,
          7.016040183742911,
          1.3061649667910347,
          -8.37881156082264,
          1.7380039770113154,
          1.7312697991775927,
          0.5365489939699541,
          3.656944491949421,
          3.6272826489958554,
          -1.3282150898806688,
          0.7549632636802084,
          -0.3406038057577776,
          0.8002914233383063,
          2.652247957717302,
          10.096739736530491,
          2.673859415799873,
          -0.6394418026732129,
          -5.433378861955895,
          5.879222855177413,
          -0.13030228302571834,
          1.135712272275402,
          -5.887240429688889,
          0.6808386294641755,
          -1.934529161049603,
          -10.349331540089779,
          0.9631854720315802,
          -6.765285840711066,
          -1.9472908500425268,
          -0.2349147720321909,
          -0.06193181797085057,
          -4.772144786885613,
          -4.52158095852484,
          4.708680630629636,
          -2.1205232910907146,
          1.1547098646959464,
          -3.9316116375361587,
          0.11161013698068878,
          -5.23469987423254,
          2.2974671817060477,
          -3.540805749822795,
          -2.0849296042985688,
          4.340688096267553,
          4.21425304344234,
          2.3604003745800517,
          -5.15725918027663,
          -1.6909423212295493,
          4.9209979749962995,
          -0.6274905752897797,
          2.5511034912140573,
          0.6843401951651673,
          -6.902054424080395,
          -0.34615481007570503,
          -1.0842516095152521,
          -0.6720159481116261,
          5.027768740565697,
          -0.226623240728141,
          0.6173065476378525,
          -0.33394596092227724,
          2.6393911306841655,
          -2.157130964030607,
          -2.007411081532806,
          -4.200111418721109
         ],
         "yaxis": "y"
        },
        {
         "line": {
          "color": "orange"
         },
         "name": "1h",
         "showlegend": false,
         "type": "box",
         "xaxis": "x",
         "y": [
          -20.406542510581883,
          -37.00974144204535,
          -5.622929374605812,
          -36.067694114121394,
          -41.24862915858494,
          -7.542743944656771,
          -11.730789439472488,
          -53.37047610386681,
          -19.249034652293805,
          -34.07926504605584,
          -27.23824646179569,
          -26.65838150355776,
          -28.979047458941565,
          -45.55453229698168,
          4.076907144734143,
          -20.509530778627337,
          -34.85967937062778,
          -25.339847345004994,
          -64.44133088908143,
          -40.780087900577364,
          -45.78836590715147,
          -26.890239322403897,
          -16.338707142266905,
          -9.523548805572336,
          -43.04439686990897,
          -26.965434157609337,
          -12.15971910902639,
          33.95937296771334,
          -24.145899698628558,
          -55.724122768231965,
          -15.27343951589354,
          -13.703353539127916,
          -31.49718370446053,
          -20.480316071198267,
          -21.39880412998403,
          -34.03838008476923,
          -40.08569048489632,
          -37.739310307981086,
          -20.118731774821008,
          -59.83121130527318,
          -24.366435513998663,
          -47.547403479242234,
          -48.923651828729255,
          -38.778694192038934,
          -41.783975852150114,
          17.826960676204173,
          -49.80421156073055,
          0.6641052888670673,
          -18.791510762162922,
          14.66312575133546,
          -39.67248936693613,
          -35.05670346877228,
          -47.17452436798427,
          -29.049723332619394,
          38.45888507842812,
          -41.922643191204486,
          -35.65394899715717,
          -32.34580565436551,
          -42.935560003200465,
          -36.958490226112374,
          -14.985716678282246,
          -15.58315807939411,
          -64.46468034186454,
          -12.554684281773154,
          -23.402064071027738,
          -17.773175502800953,
          -10.481309897413492,
          30.98936319307537,
          -56.884920404735496,
          15.89801676405238,
          -36.200456175424186,
          -41.564676379809804,
          -48.361111074702954,
          11.486806574719521,
          -15.043410265527314,
          -14.527166775891043,
          -33.45670867935196,
          -50.501123558488835,
          -30.929325341596503,
          -53.688804315586204,
          -37.727803493435886,
          -37.04278626535369,
          -53.158713397277815,
          -49.49318875698692,
          -33.4152276764608,
          5.3958317460341965,
          -30.98085738704228,
          -14.671540349315027,
          -1.473235328771183,
          -2.150574719771148,
          -25.234346444724977,
          -43.759959406751584,
          -50.99595779002303,
          -36.95489591704442,
          -17.06000075186459,
          -39.43272675902865,
          -3.981686847123289,
          -48.289319970432686,
          -17.157735016712326,
          -18.745691423721745
         ],
         "yaxis": "y"
        },
        {
         "line": {
          "color": "violet"
         },
         "name": "1d",
         "showlegend": false,
         "type": "box",
         "xaxis": "x",
         "y": [
          -60.84733117751712,
          -52.16956608875284,
          -30.742085614948834,
          -32.81724199480157,
          -50.583653408824624,
          -30.347690416058416,
          -46.56904659050197,
          -73.5547235033762,
          -27.712186946455354,
          -49.26636315289619,
          -52.81932310974449,
          -37.50111123465024,
          -40.06186452930856,
          -63.032079818814914,
          -26.239193050048513,
          -1.1683014566073568,
          -47.721665277424094,
          -21.475624623492052,
          -60.16316950184435,
          -38.922479989710666,
          -7.9913287734585285,
          -73.09491993927013,
          -50.71409312301647,
          -41.866366224142205,
          -44.59940181166181,
          -13.473845950827867,
          -50.21410659847032,
          -60.64775808223719,
          -67.1159041433431,
          -57.71665568239148,
          -36.320848383470505,
          -44.39483832643541,
          -24.831464785193713,
          -18.330214784896327,
          -66.66426153699489,
          -44.47640979557007,
          -44.113872614565494,
          -50.065327158490966,
          -63.023240883074564,
          -49.95427644510719,
          -37.10167304142421,
          -64.5104194505614,
          11.307190882751428,
          -36.819887375226855,
          -23.737267001284433,
          -27.38534420156392,
          -40.429427185524105,
          -44.2876025990297,
          -27.41611918898631,
          -61.23882961766909,
          -59.7620870713512,
          -42.077067089601684,
          -37.4685226875332,
          -9.577241452561935,
          -51.53800522548182,
          -47.133306739244794,
          -58.731995065940325,
          -28.280128720684814,
          -45.85855480244512,
          -55.41900314695452,
          -44.703016308929314,
          -49.583682209359466,
          -40.07664922078247,
          -53.11453813724003,
          -61.697536011570705,
          -49.1753435321813,
          -22.439647528126816,
          -27.20842347092517,
          -26.722798075380883,
          -17.557513039073193,
          -67.00322377053726,
          -70.2418286157183,
          -45.56108208834409,
          -60.420493345694325,
          -69.79487912685553,
          -53.04274298677068,
          -49.046068976627076,
          -64.13792296744512,
          -54.648740686884366,
          -62.19190218292483,
          -11.978416775422607,
          -42.557811837328444,
          -17.7345811436733,
          -29.338868881967205,
          -44.97994022749726,
          -58.18023053315036,
          -65.1476340671654,
          -40.06504524030261,
          -58.37529042428211,
          -27.70900739924953,
          -54.18220247121026,
          -61.731929521922055,
          -61.02776651435813,
          -70.9334265928171,
          -37.950542278490296,
          -43.34975351113787,
          -28.50736681245003,
          -55.05636806082885,
          -45.796111645315406,
          -72.54869538576021
         ],
         "yaxis": "y"
        },
        {
         "line": {
          "color": "green"
         },
         "name": "15min",
         "showlegend": false,
         "type": "box",
         "xaxis": "x2",
         "y": [
          -62.33152752263334,
          -62.751722300073375,
          -41.301979419417954,
          -26.276639033479942,
          -22.299816076025568,
          -44.2877887387224,
          -44.255577599603946,
          -68.11268725613115,
          -17.79491057743272,
          -50.41339714421164,
          -71.77949505916278,
          -51.15030368300302,
          -31.561993512815935,
          -76.70140365427628,
          -54.56324396621872,
          -28.007179686477258,
          -57.78355481314619,
          -48.889727689272014,
          -62.18032111905883,
          -64.12198609183714,
          -58.43275517333719,
          -64.3294666258634,
          -42.91516889545536,
          -39.57615432874108,
          -21.60108471794312,
          -43.52051905033972,
          -51.12082644030953,
          -23.428045516573015,
          -41.48254743311216,
          -55.83025709517209,
          -71.1546115865071,
          -23.60615420352441,
          -30.692812774542098,
          -65.63326945739695,
          -40.96441669859261,
          -22.250742353767873,
          -37.337394220228944,
          -18.437909335669687,
          -21.384484861281962,
          -6.129282351071097,
          -7.041628611342377,
          -40.1654986506744,
          -31.012135075543757,
          -33.40551429752551,
          -43.89378375487283,
          -16.50765020616759,
          -58.493309575669585,
          -53.57061274341872,
          -64.0211476435708,
          -5.711085326723408,
          -46.052298104592104,
          -33.34251260458404,
          -52.17522553100827,
          -28.71792554953352,
          -50.2265608084705,
          -35.8594336059233,
          -7.805334482568361,
          -56.32894372389745,
          -48.741108384353026,
          -46.02394272302308,
          -18.20288805844771,
          -51.57249847744827,
          16.21197938235488,
          -55.56357953803298,
          -19.105910802892488,
          -42.71788324140352,
          -40.50281374919905,
          -37.17901023754141,
          -41.08376497249262,
          -59.01678629701424,
          -35.961897809259504,
          -58.60182929386812,
          -53.425222224890504,
          -36.033472469528114,
          -38.54980318484278,
          -43.20064508777903,
          -59.67517179209436,
          -51.58868489904237,
          -39.725380821899314,
          -30.46584790099587,
          -40.91502691462576,
          -38.372483960294915,
          -36.78870668794211,
          -64.02363839389733,
          -25.044546894386176,
          -41.95599734091534,
          -33.17637099432149,
          -45.52082966011351,
          -27.977115883726032,
          -48.79308535264742,
          -59.09907758531844,
          -60.34407905942074,
          -54.53900562848668,
          -59.78874928306632,
          -53.94013534145419,
          -51.74079669036138,
          -66.47735640904943,
          -49.2116668164719,
          -57.098674532539384,
          12.926712751505786
         ],
         "yaxis": "y2"
        },
        {
         "line": {
          "color": "orange"
         },
         "name": "1h",
         "showlegend": false,
         "type": "box",
         "xaxis": "x2",
         "y": [
          3.652539980303904,
          -50.65184557246154,
          -20.058622608282473,
          -59.65912076432127,
          -40.147950419973114,
          -62.11907651306581,
          -37.8687121255186,
          -5.988291404461766,
          -4.798719979675258,
          -48.953458928866176,
          -5.506198949123675,
          -52.87802949766669,
          -58.748340560326604,
          -55.46821927236958,
          -32.00662793217,
          -30.331532495669645,
          -37.40669051191545,
          -50.97887374380263,
          -28.528051195646675,
          -45.36183304573075,
          -53.23549135517389,
          5.6108748690228305,
          -43.152461966898805,
          -60.30818856495045,
          -43.27743578694284,
          -33.3930098153638,
          -44.57283406308798,
          -23.34841066964565,
          -5.928443537840467,
          -70.18764189198842,
          -19.586150781013934,
          -12.464138886746156,
          -27.396149261664327,
          -33.41816928418123,
          -37.95199553104753,
          -32.9177009719073,
          -58.03163616763135,
          2.156233156203702,
          -47.65984590700781,
          -63.27562614562061,
          -38.22898553035097,
          -16.61765464016507,
          -42.08755989625126,
          -28.28584550296941,
          19.480428820988905,
          -49.81230975425973,
          -47.4185909552061,
          -47.10968100181287,
          -41.384144111407494,
          -6.76859197445745,
          -47.820186180821736,
          -37.26212775186604,
          -59.81302904700999,
          -45.77872358685724,
          83.80568396584738,
          -18.625388729486957,
          -60.61673116201729,
          -1.8946561424062258,
          -3.2060539881553995,
          -44.82274342018354,
          -14.495292148461214,
          -24.57674787519727,
          -40.92958422461736,
          -48.96502848579202,
          6.350355845466149,
          -46.29587292009481,
          -49.44133605279818,
          -53.602101812015256,
          -37.41970707965313,
          -41.06183576946063,
          -28.04826973266773,
          -14.122416069179689,
          -27.012145152806877,
          -6.038029676491141,
          -21.939693394081672,
          -27.11302421014279,
          -30.48485955652659,
          -64.58882522965308,
          -8.394378485254917,
          -38.00586097200106,
          -26.826090571628836,
          -47.08618856642588,
          -39.78028520405381,
          -47.74082168841053,
          -40.73674214902627,
          -34.03099505860272,
          -41.999371134294464,
          -32.79992754377168,
          26.543881383669564,
          -62.71504001762693,
          -48.81768592918686,
          -1.455697843119319,
          -44.14623917688185,
          -57.671528527565805,
          -35.73839790760651,
          -8.477210718020201,
          -70.80035396543052,
          -12.886554434071229,
          -48.37273428998532,
          -6.628315110660388
         ],
         "yaxis": "y2"
        },
        {
         "line": {
          "color": "violet"
         },
         "name": "1d",
         "showlegend": false,
         "type": "box",
         "xaxis": "x2",
         "y": [
          -58.05680958304491,
          -51.121076683388836,
          -56.62997757629068,
          -17.859136218048143,
          -33.94955197090829,
          -45.894339691401996,
          -59.96126465945277,
          -61.06156834739149,
          -27.685728227383464,
          -56.565355520541274,
          -36.43102421594973,
          -37.66379389290273,
          -33.8256155748101,
          -50.78717582986514,
          -15.893754145400397,
          -57.811519310525405,
          -41.51253647567654,
          -44.9386351445001,
          -66.57460367086327,
          -60.35397910553908,
          -63.08715131066847,
          1.2019347206454034,
          -48.747670939510634,
          -48.73992240755162,
          -36.14603320585711,
          -49.628412101115686,
          -56.62943876780662,
          -56.61067803521925,
          -35.06510897888291,
          -36.56658481219076,
          -57.783595493200245,
          -32.247890724338355,
          -55.97101915771909,
          -37.19390154100749,
          -64.01431388828134,
          -52.100045998076716,
          -35.369617326253014,
          -37.005027770907105,
          -8.236118906181256,
          -44.6839968093468,
          -31.66957486826114,
          -24.669306097513644,
          -45.822968995101675,
          -73.53883691127301,
          -48.70193063269978,
          -23.5413586176203,
          -74.13110283157773,
          -52.64971650122384,
          -37.203261074086846,
          -26.123164145272327,
          -43.430546375371215,
          -33.89375833855761,
          -26.730201539398735,
          -43.70864101014846,
          -44.4602857905477,
          -70.96296073885026,
          -45.84188398589772,
          -66.59070597758725,
          9.233151815144659,
          -47.78089530058453,
          -9.27898576596995,
          -32.777811256478806,
          -55.502029462577696,
          -14.321613885202588,
          -53.603562298224276,
          -44.04709463391926,
          -61.729077682539966,
          -54.40674448511758,
          -22.945810920344744,
          -48.24934263752875,
          -50.246938185676186,
          -34.87750164280151,
          -13.922219051015272,
          -46.77007931769646,
          -31.71690756234974,
          -32.2276683589451,
          -31.024200325560326,
          -61.37211963016483,
          6.963547838608397,
          -22.711906532837766,
          -20.15344569433244,
          -53.01767473094572,
          -46.50077913958348,
          -53.82475225605706,
          -46.49013947120929,
          -46.07313240572718,
          -69.40401881196233,
          -43.87316566633564,
          -46.414031389909674,
          -41.11135438480993,
          -49.01521618552327,
          -50.608603556756826,
          -9.288208617825045,
          -29.669031733968133,
          -39.71807929450301,
          -10.796793864954335,
          -52.96679863865704,
          -60.26369011498146,
          -67.68701035096841,
          -46.147085670123886
         ],
         "yaxis": "y2"
        },
        {
         "line": {
          "color": "green"
         },
         "name": "15min",
         "showlegend": false,
         "type": "box",
         "xaxis": "x3",
         "y": [
          -14.54373582129711,
          -27.886251192461742,
          -16.439127199641725,
          -16.359829595936127,
          -38.44165396043553,
          -33.45668640532846,
          -25.715342992222347,
          -43.54516809091219,
          -37.41846805879568,
          -30.537370033485413,
          -2.5140011864838496,
          -47.8993744464261,
          -50.866325411064174,
          -8.411326387848629,
          -15.897888297106588,
          -33.56572261754482,
          -36.36233971367893,
          -45.448767164698964,
          -30.40269769824243,
          -57.77277780242998,
          -30.709640572701925,
          -8.95174047071674,
          -54.30475025437621,
          -35.423654784343505,
          -28.32952189056269,
          -49.86816832928138,
          -38.88386831149183,
          -33.87464009557143,
          -37.775235552648944,
          -63.0670014409652,
          -44.89003367840216,
          -21.682080048938246,
          -32.28612114887087,
          -50.835016234917084,
          -37.122463755609004,
          44.63058503333479,
          -54.13563390925194,
          -8.01730066997466,
          -33.35189723790736,
          -44.857919345151196,
          -42.81080901015988,
          -53.60671512824291,
          -30.243730655218382,
          5.35706599996244,
          -32.74374751306537,
          -22.392670558581084,
          -24.339414890715105,
          -14.830907774526247,
          -14.050652379462491,
          -37.50020547159657,
          -33.90070131028129,
          -26.147873551776122,
          -34.15806187052253,
          7.234861554790872,
          -38.866873308708236,
          -34.63910473990111,
          -47.05208278466904,
          -34.01974634018323,
          -58.55323584522182,
          -22.37753245073446,
          -52.80656355673925,
          -70.78059794083055,
          -49.201423041678126,
          -31.531680821689523,
          -59.09597513342071,
          -42.529758717127564,
          4.610850403203504,
          -45.77039205246306,
          -30.905967581804184,
          -31.315742422200344,
          -30.599802726295366,
          -29.2234014306752,
          -25.742149189235263,
          -19.52165683401287,
          -10.430550225780566,
          -27.643485458582575,
          -30.258450099977075,
          -34.49778771522665,
          -26.268733290391566,
          -14.350119264728288,
          -34.97899589433635,
          -51.142423241203176,
          -37.44977696416187,
          -42.21031985380781,
          -33.06786725898314,
          -46.519551958508224,
          16.148449981401814,
          -40.54519403312461,
          -37.53291605827218,
          -41.74808272524339,
          -12.562600619332665,
          -25.09732395778589,
          -19.98556396406209,
          -46.43014003635706,
          -17.07303540979751,
          -39.175461901787536,
          -45.960242372300165,
          -45.34362277655156,
          -40.29609178770956,
          -34.202169853914825
         ],
         "yaxis": "y3"
        },
        {
         "line": {
          "color": "orange"
         },
         "name": "1h",
         "showlegend": false,
         "type": "box",
         "xaxis": "x3",
         "y": [
          -62.95242833936634,
          -36.17830375875146,
          -30.123110308643707,
          -51.77749217789855,
          -27.192557275598304,
          -35.14899219304694,
          -13.801729257008832,
          -52.49460926120699,
          -41.75113052683411,
          -17.565524739111492,
          -35.903762176759166,
          -44.77914772460616,
          -47.059030684655454,
          -17.12932407072906,
          -26.62571728733152,
          -38.69132991758124,
          -54.10333095390861,
          -31.524119389387216,
          -41.80473477705282,
          -54.031278556743466,
          -40.08697288763262,
          -40.65055777221795,
          -62.83021124693919,
          -18.401422260385235,
          -46.43743469600273,
          -38.79745192524232,
          9.838465710361778,
          -33.382858046008735,
          -43.40015273011082,
          -45.77102021885769,
          -29.21237433924393,
          -23.067485102900463,
          -44.85117166892534,
          -66.34662145771175,
          -44.53275552506416,
          -27.97739125499309,
          -22.962446849935315,
          -15.083019911348018,
          -29.49315045302846,
          -50.34262506763414,
          -39.45779871819137,
          -65.73956450689633,
          -52.03539254089616,
          -43.630248615301916,
          -48.367781014323384,
          -35.606172943036064,
          -27.618012531312488,
          -23.912970223641928,
          -32.4187738147387,
          -22.9887551067703,
          -36.96471112539852,
          -53.55170064939132,
          -50.385580607850436,
          -52.43368625406728,
          -32.28045637437964,
          33.2598801905867,
          3.6163433825777025,
          -58.46490529102735,
          -52.36002249865641,
          -30.50491119929347,
          -14.303655366047153,
          -26.19016034563486,
          35.30083243700683,
          -18.207642102922016,
          -41.93844878828359,
          -28.55415047289628,
          7.438808197961366,
          -59.98979858332838,
          -21.52306256556633,
          -34.94403866984985,
          -33.318555245422864,
          -16.764705075987784,
          -15.13977624901739,
          -33.02978401448764,
          -64.16678351544263,
          -4.639193236566353,
          -34.62089238770487,
          -38.03805533579013,
          -51.729930805404344,
          -58.20939341833016,
          -39.22300998208408,
          -42.549869663315,
          -30.968370433982084,
          -31.086341528544647,
          -30.036879875672128,
          -15.407115048156472,
          -44.75768555515095,
          -55.18213568745281,
          -1.3014109583131095,
          -48.918159570933696,
          -26.05018327096641,
          -49.54973115139912,
          -59.05982820192297,
          -11.885668359433854,
          -6.556895064649448,
          -35.040603112249116,
          -36.42087575857408,
          -27.27684012362872,
          -60.90616487501934,
          -0.21902332471638308
         ],
         "yaxis": "y3"
        },
        {
         "line": {
          "color": "violet"
         },
         "name": "1d",
         "showlegend": false,
         "type": "box",
         "xaxis": "x3",
         "y": [
          -28.91348223468263,
          -40.813810080665945,
          -61.997807014097404,
          -49.933803304043245,
          -38.84708522107735,
          -17.359280256755117,
          2.248420699548781,
          -34.46434982645711,
          -17.95325885850939,
          -0.37633999795866346,
          -18.60393896260557,
          -42.11162754670479,
          -31.92078384432786,
          -9.991567103225274,
          -24.061086139773547,
          -42.20471354480376,
          1.197999697463148,
          -33.38045564707205,
          5.851464012770347,
          -40.08676051689167,
          -27.696470068735792,
          -26.375213965881137,
          -31.010767584435207,
          -14.57515275353124,
          -20.497874096478384,
          -24.913306346220953,
          -38.11723018420293,
          -27.383875464486916,
          -13.095964718061548,
          -35.555609436662024,
          -19.368779897130185,
          -44.63266134779338,
          -17.98567290908528,
          -14.019902246027016,
          -32.14771971469166,
          -47.40398885856871,
          -35.82914639634549,
          -31.413831595194264,
          -48.59870932793584,
          13.306380895341597,
          -4.883319017642873,
          -8.0165079965121,
          -21.545443416458532,
          -42.88336235789275,
          -51.29345830698207,
          -9.638820727560738,
          -40.50257594854426,
          -21.890271842850773,
          23.11544858930017,
          -26.301876719289197,
          -49.58991037103232,
          34.14820645352663,
          -34.35278084594998,
          -13.977286485858297,
          -51.07830830335247,
          -43.19388777220371,
          -28.644244717136747,
          -10.528341814560015,
          -8.490600669132931,
          -37.27532003415463,
          8.205653279715875,
          -46.3597999218259,
          -26.07550300020248,
          -27.231058485796943,
          -0.1885523387927357,
          10.81619983666351,
          -27.443195969776657,
          20.979863102919126,
          -4.862695132355244,
          -58.32786243013351,
          -15.344239288736683,
          -37.368566502874025,
          -17.98864782231423,
          -7.563871655067089,
          -1.1859160891145804,
          -16.573633540612732,
          -46.973238990813115,
          -20.716124872681252,
          -9.734343893110164,
          -0.37022491769259647,
          -18.854987788928135,
          -20.289956051813107,
          11.64413477381081,
          -33.7224222721409,
          -35.129843617183454,
          -12.502160826301289,
          -21.15448246353391,
          -19.954716201390042,
          -13.146435580373495,
          -58.685125862312006,
          2.953809865249335,
          -28.799919285782604,
          -37.470968291816256,
          -45.49631483968033,
          -16.041935734388236,
          -14.485140258522977,
          -36.17388304913839,
          -43.87683919277222,
          24.37201006136187,
          10.504928499860156
         ],
         "yaxis": "y3"
        },
        {
         "line": {
          "color": "green"
         },
         "name": "15min",
         "showlegend": false,
         "type": "box",
         "xaxis": "x4",
         "y": [
          -14.924632984311149,
          -3.5734405687344317,
          -37.68623622136236,
          -54.30085874057552,
          -46.14968489837579,
          -34.28550506958461,
          -38.96410638684477,
          -54.561668079228774,
          -37.95900655798624,
          -23.46179478372803,
          -48.63734956190498,
          -45.77032176362897,
          -14.43315187936487,
          -53.75051343784008,
          -37.39535542250676,
          -39.06659731148161,
          -41.97069830463522,
          -60.9567096089392,
          -50.98430087613232,
          -28.667781428439753,
          -19.716252831322024,
          -49.37515169830695,
          -14.852793900893035,
          -50.90966396905077,
          -63.298487078541484,
          -29.81882570755092,
          -26.559269213745452,
          -20.90684460058587,
          -45.9801465616001,
          -67.92218069690786,
          -33.13926793024818,
          -58.54181083022001,
          -54.60979495344817,
          33.43485933364947,
          -30.16193173614138,
          28.282579714054854,
          -68.5735567078895,
          -50.319143959247306,
          -11.421862441354458,
          11.143645682299507,
          -36.80198391621021,
          -40.739345135230074,
          -31.332727690856654,
          -63.741854925343944,
          40.46557293070292,
          -46.760652404584114,
          -51.62336235270673,
          -3.3813233529185527,
          -26.77373425727402,
          -38.21565761874469,
          -47.72263633995687,
          -67.2135495481567,
          -68.12745870338277,
          -17.174547547684107,
          4.870684816177828,
          -49.02714139823801,
          -6.539756471649383,
          -35.64336823929547,
          -31.95440931567245,
          -45.24977480655426,
          -20.17955213859981,
          -61.36362033781615,
          -38.98820754894145,
          -9.9900308778055,
          -47.16398406264004,
          -35.577855842276996,
          -55.50335157475047,
          -20.882724406788032,
          -39.99052974186548,
          7.479555812418437,
          -60.88879154905611,
          -40.660370231513745,
          -23.926968646495993,
          -23.75508965895703,
          -43.70856775022549,
          -54.85345903934764,
          -37.3905423134826,
          -53.33262186943559,
          -37.71207446113185,
          12.184156308151305,
          -54.83894702710903,
          -61.85914419607169,
          -31.543145632572532,
          -45.315479253031846,
          -51.600496897963865,
          -42.83903804483016,
          -20.055450010219666,
          -70.04701508523502,
          -61.82518406747247,
          -28.443099980017184,
          -52.7023455528588,
          -51.04347169262968,
          -59.19561491612701,
          -2.5895840381314095,
          -51.40223849721106,
          -53.9269072012436,
          -43.71130083710625,
          -21.770429941374204,
          -26.02188647302839,
          -50.83692044075544
         ],
         "yaxis": "y4"
        },
        {
         "line": {
          "color": "orange"
         },
         "name": "1h",
         "showlegend": false,
         "type": "box",
         "xaxis": "x4",
         "y": [
          -46.289790669497165,
          -54.78903334427084,
          -62.37925712480382,
          -31.01858253968438,
          -4.426430170193518,
          -60.72234749219145,
          -59.02631720877605,
          -69.46105229892106,
          -47.27082402130605,
          -39.53920778404245,
          -13.538656291173734,
          -58.078102248476135,
          -58.11752660933228,
          -61.24004352964023,
          -32.51053020746293,
          -41.21697616088521,
          -23.302137853324577,
          -6.530599882824173,
          -18.045640590263968,
          -26.477994596438435,
          -48.19271934142074,
          -39.56972392823541,
          -49.067506662151985,
          -61.18711457511108,
          -62.71702580377519,
          -2.756312931981797,
          -31.080555312291523,
          -39.54450095127582,
          25.644516556300267,
          -9.984731522777091,
          -49.006755591589645,
          -34.1061815722614,
          -47.03521380019349,
          -52.72185316744022,
          -62.42041130331093,
          -41.48441461863126,
          -40.34649797519116,
          -5.806441601481749,
          -48.94641770750893,
          -35.30579146987335,
          -21.11590638634926,
          -60.54171978519243,
          -47.139667450079514,
          -65.71382204934069,
          -36.85876966125432,
          -51.53475774868582,
          -40.96846221498554,
          -59.074168194238055,
          -19.75533026264229,
          -66.75205006414441,
          1.3826063061884941,
          -59.375592160200455,
          -33.51205800170563,
          -68.35363286910349,
          -30.254904929873828,
          -42.04355256922129,
          -44.68754229219499,
          -51.478085007563124,
          -37.906470284458806,
          -53.217866909527835,
          -53.66455888033301,
          -53.298093356869394,
          -46.64689666931504,
          -53.554035688139734,
          -39.89601415261432,
          -30.0666256598757,
          -49.60649163196141,
          -54.894262080060294,
          -22.393448466711796,
          -35.68465663259225,
          -28.2942812599398,
          -75.06254016216131,
          -37.57999191416454,
          -40.866056743113596,
          -12.628786056716734,
          -67.93015142751261,
          -56.029440448905966,
          -59.56742896931896,
          -27.418178349369526,
          -35.41256572614808,
          -53.46793810305874,
          -29.132512726684322,
          -37.84496026053606,
          -36.2336401472482,
          -51.30455988624229,
          -54.084954634773474,
          -10.315203466327427,
          -52.33434136714952,
          -51.641051464144624,
          -52.326941340500554,
          -52.01821070614909,
          -28.386226115569368,
          -53.96357111249065,
          -60.959995107375306,
          -25.085255959412013,
          -0.7273663652638596,
          -28.606597442004343,
          -72.66167291718077,
          -52.1098590546882,
          -6.263652444888368
         ],
         "yaxis": "y4"
        },
        {
         "line": {
          "color": "violet"
         },
         "name": "1d",
         "showlegend": false,
         "type": "box",
         "xaxis": "x4",
         "y": [
          -25.22999948224751,
          -51.68799715142989,
          -1.632942701363549,
          -26.230012795799375,
          -59.27441853366429,
          -25.572742473067056,
          -29.658345506023476,
          -34.32438443376604,
          -38.019487323047244,
          -40.71391843346276,
          -47.186354482874904,
          -38.3618438115094,
          -60.53313332905796,
          -31.643072486614987,
          -33.697577495358686,
          -33.44965674557204,
          -30.20542737426335,
          -22.055063123296257,
          -33.40795754397281,
          -41.792409859047375,
          -65.75343746083884,
          -18.30963894563955,
          -40.916802123558625,
          -0.4264043872512113,
          7.07482339070491,
          -45.86247339485167,
          -11.68513129727835,
          -37.47179545523303,
          -71.53432067296617,
          -24.843377506046938,
          -29.29336978596667,
          -50.522720748863534,
          -48.50319074882745,
          -47.732178744997626,
          -56.930879347617555,
          -25.24514333272657,
          -29.423982923640846,
          -8.649438501024287,
          -10.037771206229563,
          -42.20998858067194,
          -40.65853154146488,
          -34.85493311680447,
          -23.70435091012453,
          -42.7174765748766,
          -38.52408420829712,
          -61.24841606020253,
          -67.39149786646327,
          1.769866117062624,
          -48.54313312013446,
          -49.30705487510184,
          -45.64406984092152,
          -50.49012759787311,
          -45.01353023854011,
          -35.64393634763936,
          4.702716464553136,
          -28.546590514966354,
          -43.69725688838021,
          -56.83633889588076,
          -35.469110806109626,
          -55.42990753170615,
          -44.444997930298,
          -56.60707902456829,
          -41.19554698289149,
          -48.80488465585899,
          -44.4738255576336,
          -42.64393994890747,
          -44.51904986187388,
          -52.95898649721955,
          -48.13988426525828,
          -51.625914593767355,
          -45.636945364190986,
          -24.614305870066445,
          -42.816851219858776,
          -60.12051669877889,
          -35.196636263142814,
          -35.494350815281216,
          -50.62288032071434,
          -1.3318195548589151,
          -66.41023624185671,
          -15.395588677245875,
          -29.01682638356614,
          -42.75319574787806,
          7.283672958714016,
          -65.71003090005011,
          -36.49508905488715,
          3.6619517831585124,
          -2.7416015493949897,
          -52.81323733213369,
          -61.694579497295685,
          -56.43960051184411,
          -57.55123872823715,
          -50.762123369094404,
          -39.92466634325032,
          -50.73921592036796,
          -48.28372201657319,
          -18.102336572399146,
          -6.559570151311367,
          -35.63322983034089,
          -43.43073510043855,
          -28.303659782712863
         ],
         "yaxis": "y4"
        }
       ],
       "layout": {
        "annotations": [
         {
          "font": {
           "size": 16
          },
          "showarrow": false,
          "text": "A2C",
          "x": 0.225,
          "xanchor": "center",
          "xref": "paper",
          "y": 1,
          "yanchor": "bottom",
          "yref": "paper"
         },
         {
          "font": {
           "size": 16
          },
          "showarrow": false,
          "text": "PPO",
          "x": 0.775,
          "xanchor": "center",
          "xref": "paper",
          "y": 1,
          "yanchor": "bottom",
          "yref": "paper"
         },
         {
          "font": {
           "size": 16
          },
          "showarrow": false,
          "text": "DQN",
          "x": 0.225,
          "xanchor": "center",
          "xref": "paper",
          "y": 0.375,
          "yanchor": "bottom",
          "yref": "paper"
         },
         {
          "font": {
           "size": 16
          },
          "showarrow": false,
          "text": "RANDOM",
          "x": 0.775,
          "xanchor": "center",
          "xref": "paper",
          "y": 0.375,
          "yanchor": "bottom",
          "yref": "paper"
         }
        ],
        "height": 800,
        "template": {
         "data": {
          "bar": [
           {
            "error_x": {
             "color": "#2a3f5f"
            },
            "error_y": {
             "color": "#2a3f5f"
            },
            "marker": {
             "line": {
              "color": "#E5ECF6",
              "width": 0.5
             },
             "pattern": {
              "fillmode": "overlay",
              "size": 10,
              "solidity": 0.2
             }
            },
            "type": "bar"
           }
          ],
          "barpolar": [
           {
            "marker": {
             "line": {
              "color": "#E5ECF6",
              "width": 0.5
             },
             "pattern": {
              "fillmode": "overlay",
              "size": 10,
              "solidity": 0.2
             }
            },
            "type": "barpolar"
           }
          ],
          "carpet": [
           {
            "aaxis": {
             "endlinecolor": "#2a3f5f",
             "gridcolor": "white",
             "linecolor": "white",
             "minorgridcolor": "white",
             "startlinecolor": "#2a3f5f"
            },
            "baxis": {
             "endlinecolor": "#2a3f5f",
             "gridcolor": "white",
             "linecolor": "white",
             "minorgridcolor": "white",
             "startlinecolor": "#2a3f5f"
            },
            "type": "carpet"
           }
          ],
          "choropleth": [
           {
            "colorbar": {
             "outlinewidth": 0,
             "ticks": ""
            },
            "type": "choropleth"
           }
          ],
          "contour": [
           {
            "colorbar": {
             "outlinewidth": 0,
             "ticks": ""
            },
            "colorscale": [
             [
              0,
              "#0d0887"
             ],
             [
              0.1111111111111111,
              "#46039f"
             ],
             [
              0.2222222222222222,
              "#7201a8"
             ],
             [
              0.3333333333333333,
              "#9c179e"
             ],
             [
              0.4444444444444444,
              "#bd3786"
             ],
             [
              0.5555555555555556,
              "#d8576b"
             ],
             [
              0.6666666666666666,
              "#ed7953"
             ],
             [
              0.7777777777777778,
              "#fb9f3a"
             ],
             [
              0.8888888888888888,
              "#fdca26"
             ],
             [
              1,
              "#f0f921"
             ]
            ],
            "type": "contour"
           }
          ],
          "contourcarpet": [
           {
            "colorbar": {
             "outlinewidth": 0,
             "ticks": ""
            },
            "type": "contourcarpet"
           }
          ],
          "heatmap": [
           {
            "colorbar": {
             "outlinewidth": 0,
             "ticks": ""
            },
            "colorscale": [
             [
              0,
              "#0d0887"
             ],
             [
              0.1111111111111111,
              "#46039f"
             ],
             [
              0.2222222222222222,
              "#7201a8"
             ],
             [
              0.3333333333333333,
              "#9c179e"
             ],
             [
              0.4444444444444444,
              "#bd3786"
             ],
             [
              0.5555555555555556,
              "#d8576b"
             ],
             [
              0.6666666666666666,
              "#ed7953"
             ],
             [
              0.7777777777777778,
              "#fb9f3a"
             ],
             [
              0.8888888888888888,
              "#fdca26"
             ],
             [
              1,
              "#f0f921"
             ]
            ],
            "type": "heatmap"
           }
          ],
          "heatmapgl": [
           {
            "colorbar": {
             "outlinewidth": 0,
             "ticks": ""
            },
            "colorscale": [
             [
              0,
              "#0d0887"
             ],
             [
              0.1111111111111111,
              "#46039f"
             ],
             [
              0.2222222222222222,
              "#7201a8"
             ],
             [
              0.3333333333333333,
              "#9c179e"
             ],
             [
              0.4444444444444444,
              "#bd3786"
             ],
             [
              0.5555555555555556,
              "#d8576b"
             ],
             [
              0.6666666666666666,
              "#ed7953"
             ],
             [
              0.7777777777777778,
              "#fb9f3a"
             ],
             [
              0.8888888888888888,
              "#fdca26"
             ],
             [
              1,
              "#f0f921"
             ]
            ],
            "type": "heatmapgl"
           }
          ],
          "histogram": [
           {
            "marker": {
             "pattern": {
              "fillmode": "overlay",
              "size": 10,
              "solidity": 0.2
             }
            },
            "type": "histogram"
           }
          ],
          "histogram2d": [
           {
            "colorbar": {
             "outlinewidth": 0,
             "ticks": ""
            },
            "colorscale": [
             [
              0,
              "#0d0887"
             ],
             [
              0.1111111111111111,
              "#46039f"
             ],
             [
              0.2222222222222222,
              "#7201a8"
             ],
             [
              0.3333333333333333,
              "#9c179e"
             ],
             [
              0.4444444444444444,
              "#bd3786"
             ],
             [
              0.5555555555555556,
              "#d8576b"
             ],
             [
              0.6666666666666666,
              "#ed7953"
             ],
             [
              0.7777777777777778,
              "#fb9f3a"
             ],
             [
              0.8888888888888888,
              "#fdca26"
             ],
             [
              1,
              "#f0f921"
             ]
            ],
            "type": "histogram2d"
           }
          ],
          "histogram2dcontour": [
           {
            "colorbar": {
             "outlinewidth": 0,
             "ticks": ""
            },
            "colorscale": [
             [
              0,
              "#0d0887"
             ],
             [
              0.1111111111111111,
              "#46039f"
             ],
             [
              0.2222222222222222,
              "#7201a8"
             ],
             [
              0.3333333333333333,
              "#9c179e"
             ],
             [
              0.4444444444444444,
              "#bd3786"
             ],
             [
              0.5555555555555556,
              "#d8576b"
             ],
             [
              0.6666666666666666,
              "#ed7953"
             ],
             [
              0.7777777777777778,
              "#fb9f3a"
             ],
             [
              0.8888888888888888,
              "#fdca26"
             ],
             [
              1,
              "#f0f921"
             ]
            ],
            "type": "histogram2dcontour"
           }
          ],
          "mesh3d": [
           {
            "colorbar": {
             "outlinewidth": 0,
             "ticks": ""
            },
            "type": "mesh3d"
           }
          ],
          "parcoords": [
           {
            "line": {
             "colorbar": {
              "outlinewidth": 0,
              "ticks": ""
             }
            },
            "type": "parcoords"
           }
          ],
          "pie": [
           {
            "automargin": true,
            "type": "pie"
           }
          ],
          "scatter": [
           {
            "fillpattern": {
             "fillmode": "overlay",
             "size": 10,
             "solidity": 0.2
            },
            "type": "scatter"
           }
          ],
          "scatter3d": [
           {
            "line": {
             "colorbar": {
              "outlinewidth": 0,
              "ticks": ""
             }
            },
            "marker": {
             "colorbar": {
              "outlinewidth": 0,
              "ticks": ""
             }
            },
            "type": "scatter3d"
           }
          ],
          "scattercarpet": [
           {
            "marker": {
             "colorbar": {
              "outlinewidth": 0,
              "ticks": ""
             }
            },
            "type": "scattercarpet"
           }
          ],
          "scattergeo": [
           {
            "marker": {
             "colorbar": {
              "outlinewidth": 0,
              "ticks": ""
             }
            },
            "type": "scattergeo"
           }
          ],
          "scattergl": [
           {
            "marker": {
             "colorbar": {
              "outlinewidth": 0,
              "ticks": ""
             }
            },
            "type": "scattergl"
           }
          ],
          "scattermapbox": [
           {
            "marker": {
             "colorbar": {
              "outlinewidth": 0,
              "ticks": ""
             }
            },
            "type": "scattermapbox"
           }
          ],
          "scatterpolar": [
           {
            "marker": {
             "colorbar": {
              "outlinewidth": 0,
              "ticks": ""
             }
            },
            "type": "scatterpolar"
           }
          ],
          "scatterpolargl": [
           {
            "marker": {
             "colorbar": {
              "outlinewidth": 0,
              "ticks": ""
             }
            },
            "type": "scatterpolargl"
           }
          ],
          "scatterternary": [
           {
            "marker": {
             "colorbar": {
              "outlinewidth": 0,
              "ticks": ""
             }
            },
            "type": "scatterternary"
           }
          ],
          "surface": [
           {
            "colorbar": {
             "outlinewidth": 0,
             "ticks": ""
            },
            "colorscale": [
             [
              0,
              "#0d0887"
             ],
             [
              0.1111111111111111,
              "#46039f"
             ],
             [
              0.2222222222222222,
              "#7201a8"
             ],
             [
              0.3333333333333333,
              "#9c179e"
             ],
             [
              0.4444444444444444,
              "#bd3786"
             ],
             [
              0.5555555555555556,
              "#d8576b"
             ],
             [
              0.6666666666666666,
              "#ed7953"
             ],
             [
              0.7777777777777778,
              "#fb9f3a"
             ],
             [
              0.8888888888888888,
              "#fdca26"
             ],
             [
              1,
              "#f0f921"
             ]
            ],
            "type": "surface"
           }
          ],
          "table": [
           {
            "cells": {
             "fill": {
              "color": "#EBF0F8"
             },
             "line": {
              "color": "white"
             }
            },
            "header": {
             "fill": {
              "color": "#C8D4E3"
             },
             "line": {
              "color": "white"
             }
            },
            "type": "table"
           }
          ]
         },
         "layout": {
          "annotationdefaults": {
           "arrowcolor": "#2a3f5f",
           "arrowhead": 0,
           "arrowwidth": 1
          },
          "autotypenumbers": "strict",
          "coloraxis": {
           "colorbar": {
            "outlinewidth": 0,
            "ticks": ""
           }
          },
          "colorscale": {
           "diverging": [
            [
             0,
             "#8e0152"
            ],
            [
             0.1,
             "#c51b7d"
            ],
            [
             0.2,
             "#de77ae"
            ],
            [
             0.3,
             "#f1b6da"
            ],
            [
             0.4,
             "#fde0ef"
            ],
            [
             0.5,
             "#f7f7f7"
            ],
            [
             0.6,
             "#e6f5d0"
            ],
            [
             0.7,
             "#b8e186"
            ],
            [
             0.8,
             "#7fbc41"
            ],
            [
             0.9,
             "#4d9221"
            ],
            [
             1,
             "#276419"
            ]
           ],
           "sequential": [
            [
             0,
             "#0d0887"
            ],
            [
             0.1111111111111111,
             "#46039f"
            ],
            [
             0.2222222222222222,
             "#7201a8"
            ],
            [
             0.3333333333333333,
             "#9c179e"
            ],
            [
             0.4444444444444444,
             "#bd3786"
            ],
            [
             0.5555555555555556,
             "#d8576b"
            ],
            [
             0.6666666666666666,
             "#ed7953"
            ],
            [
             0.7777777777777778,
             "#fb9f3a"
            ],
            [
             0.8888888888888888,
             "#fdca26"
            ],
            [
             1,
             "#f0f921"
            ]
           ],
           "sequentialminus": [
            [
             0,
             "#0d0887"
            ],
            [
             0.1111111111111111,
             "#46039f"
            ],
            [
             0.2222222222222222,
             "#7201a8"
            ],
            [
             0.3333333333333333,
             "#9c179e"
            ],
            [
             0.4444444444444444,
             "#bd3786"
            ],
            [
             0.5555555555555556,
             "#d8576b"
            ],
            [
             0.6666666666666666,
             "#ed7953"
            ],
            [
             0.7777777777777778,
             "#fb9f3a"
            ],
            [
             0.8888888888888888,
             "#fdca26"
            ],
            [
             1,
             "#f0f921"
            ]
           ]
          },
          "colorway": [
           "#636efa",
           "#EF553B",
           "#00cc96",
           "#ab63fa",
           "#FFA15A",
           "#19d3f3",
           "#FF6692",
           "#B6E880",
           "#FF97FF",
           "#FECB52"
          ],
          "font": {
           "color": "#2a3f5f"
          },
          "geo": {
           "bgcolor": "white",
           "lakecolor": "white",
           "landcolor": "#E5ECF6",
           "showlakes": true,
           "showland": true,
           "subunitcolor": "white"
          },
          "hoverlabel": {
           "align": "left"
          },
          "hovermode": "closest",
          "mapbox": {
           "style": "light"
          },
          "paper_bgcolor": "white",
          "plot_bgcolor": "#E5ECF6",
          "polar": {
           "angularaxis": {
            "gridcolor": "white",
            "linecolor": "white",
            "ticks": ""
           },
           "bgcolor": "#E5ECF6",
           "radialaxis": {
            "gridcolor": "white",
            "linecolor": "white",
            "ticks": ""
           }
          },
          "scene": {
           "xaxis": {
            "backgroundcolor": "#E5ECF6",
            "gridcolor": "white",
            "gridwidth": 2,
            "linecolor": "white",
            "showbackground": true,
            "ticks": "",
            "zerolinecolor": "white"
           },
           "yaxis": {
            "backgroundcolor": "#E5ECF6",
            "gridcolor": "white",
            "gridwidth": 2,
            "linecolor": "white",
            "showbackground": true,
            "ticks": "",
            "zerolinecolor": "white"
           },
           "zaxis": {
            "backgroundcolor": "#E5ECF6",
            "gridcolor": "white",
            "gridwidth": 2,
            "linecolor": "white",
            "showbackground": true,
            "ticks": "",
            "zerolinecolor": "white"
           }
          },
          "shapedefaults": {
           "line": {
            "color": "#2a3f5f"
           }
          },
          "ternary": {
           "aaxis": {
            "gridcolor": "white",
            "linecolor": "white",
            "ticks": ""
           },
           "baxis": {
            "gridcolor": "white",
            "linecolor": "white",
            "ticks": ""
           },
           "bgcolor": "#E5ECF6",
           "caxis": {
            "gridcolor": "white",
            "linecolor": "white",
            "ticks": ""
           }
          },
          "title": {
           "x": 0.05
          },
          "xaxis": {
           "automargin": true,
           "gridcolor": "white",
           "linecolor": "white",
           "ticks": "",
           "title": {
            "standoff": 15
           },
           "zerolinecolor": "white",
           "zerolinewidth": 2
          },
          "yaxis": {
           "automargin": true,
           "gridcolor": "white",
           "linecolor": "white",
           "ticks": "",
           "title": {
            "standoff": 15
           },
           "zerolinecolor": "white",
           "zerolinewidth": 2
          }
         }
        },
        "title": {
         "text": "Total Profit Percentage (in %) x different time-to-chart (Across different models) <br>ccy:BTCUSDT - feat_package:1",
         "x": 0.5
        },
        "width": 1200,
        "xaxis": {
         "anchor": "y",
         "domain": [
          0,
          0.45
         ],
         "title": {
          "standoff": 25,
          "text": "time-to-chart"
         }
        },
        "xaxis2": {
         "anchor": "y2",
         "domain": [
          0.55,
          1
         ],
         "title": {
          "standoff": 25,
          "text": "time-to-chart"
         }
        },
        "xaxis3": {
         "anchor": "y3",
         "domain": [
          0,
          0.45
         ],
         "title": {
          "standoff": 25,
          "text": "time-to-chart"
         }
        },
        "xaxis4": {
         "anchor": "y4",
         "domain": [
          0.55,
          1
         ],
         "title": {
          "standoff": 25,
          "text": "time-to-chart"
         }
        },
        "yaxis": {
         "anchor": "x",
         "domain": [
          0.625,
          1
         ],
         "matches": "y3",
         "title": {
          "standoff": 25,
          "text": "Total Profit Percentage (in %)"
         }
        },
        "yaxis2": {
         "anchor": "x2",
         "domain": [
          0.625,
          1
         ],
         "matches": "y3",
         "showticklabels": false,
         "title": {
          "standoff": 25,
          "text": "Total Profit Percentage (in %)"
         }
        },
        "yaxis3": {
         "anchor": "x3",
         "domain": [
          0,
          0.375
         ],
         "title": {
          "standoff": 25,
          "text": "Total Profit Percentage (in %)"
         }
        },
        "yaxis4": {
         "anchor": "x4",
         "domain": [
          0,
          0.375
         ],
         "matches": "y3",
         "showticklabels": false,
         "title": {
          "standoff": 25,
          "text": "Total Profit Percentage (in %)"
         }
        }
       }
      }
     },
     "metadata": {},
     "output_type": "display_data"
    }
   ],
   "source": [
    "fig_output = get_boxplot_total_profit_diff_time_to_chart(df_sim_results, list_feat[0])"
   ]
  },
  {
   "cell_type": "code",
   "execution_count": 58,
   "metadata": {},
   "outputs": [
    {
     "data": {
      "application/vnd.plotly.v1+json": {
       "config": {
        "plotlyServerURL": "https://plot.ly"
       },
       "data": [
        {
         "marker": {
          "color": "green"
         },
         "name": "15min",
         "type": "histogram",
         "x": [
          4.2182312954456735,
          0.6829982085942321,
          2.3574650261620533,
          0.7808499171005456,
          -0.9346713706918974,
          -6.497089797175115,
          -2.759621765627218,
          2.321997377181906,
          1.0598988339849402,
          0.13828204474335415,
          1.7046963776591761,
          -8.102917186784698,
          0.182187144703283,
          2.3435619458663126,
          8.936572452606683,
          -5.066490223486908,
          -0.1371693003958674,
          3.873445527660113,
          4.326723128768228,
          -3.5521476831352317,
          0.4208274188025163,
          -3.7372997898172278,
          14.48889595217764,
          4.343141130974737,
          -1.1931130638815235,
          -0.17237339116725758,
          -2.7890277374544636,
          1.7961921300086336,
          -3.778493935454208,
          -1.1779435369175806,
          3.9426675153266144,
          -1.3460087897081419,
          1.2035237717435754,
          7.763190124442332,
          -4.196624415163097,
          1.4869839568477872,
          2.7413415544797815,
          -6.7723852402860825,
          -4.05823216325868,
          7.016040183742911,
          1.3061649667910347,
          -8.37881156082264,
          1.7380039770113154,
          1.7312697991775927,
          0.5365489939699541,
          3.656944491949421,
          3.6272826489958554,
          -1.3282150898806688,
          0.7549632636802084,
          -0.3406038057577776,
          0.8002914233383063,
          2.652247957717302,
          10.096739736530491,
          2.673859415799873,
          -0.6394418026732129,
          -5.433378861955895,
          5.879222855177413,
          -0.13030228302571834,
          1.135712272275402,
          -5.887240429688889,
          0.6808386294641755,
          -1.934529161049603,
          -10.349331540089779,
          0.9631854720315802,
          -6.765285840711066,
          -1.9472908500425268,
          -0.2349147720321909,
          -0.06193181797085057,
          -4.772144786885613,
          -4.52158095852484,
          4.708680630629636,
          -2.1205232910907146,
          1.1547098646959464,
          -3.9316116375361587,
          0.11161013698068878,
          -5.23469987423254,
          2.2974671817060477,
          -3.540805749822795,
          -2.0849296042985688,
          4.340688096267553,
          4.21425304344234,
          2.3604003745800517,
          -5.15725918027663,
          -1.6909423212295493,
          4.9209979749962995,
          -0.6274905752897797,
          2.5511034912140573,
          0.6843401951651673,
          -6.902054424080395,
          -0.34615481007570503,
          -1.0842516095152521,
          -0.6720159481116261,
          5.027768740565697,
          -0.226623240728141,
          0.6173065476378525,
          -0.33394596092227724,
          2.6393911306841655,
          -2.157130964030607,
          -2.007411081532806,
          -4.200111418721109
         ],
         "xaxis": "x",
         "yaxis": "y"
        },
        {
         "marker": {
          "color": "orange"
         },
         "name": "1h",
         "type": "histogram",
         "x": [
          -20.406542510581883,
          -37.00974144204535,
          -5.622929374605812,
          -36.067694114121394,
          -41.24862915858494,
          -7.542743944656771,
          -11.730789439472488,
          -53.37047610386681,
          -19.249034652293805,
          -34.07926504605584,
          -27.23824646179569,
          -26.65838150355776,
          -28.979047458941565,
          -45.55453229698168,
          4.076907144734143,
          -20.509530778627337,
          -34.85967937062778,
          -25.339847345004994,
          -64.44133088908143,
          -40.780087900577364,
          -45.78836590715147,
          -26.890239322403897,
          -16.338707142266905,
          -9.523548805572336,
          -43.04439686990897,
          -26.965434157609337,
          -12.15971910902639,
          33.95937296771334,
          -24.145899698628558,
          -55.724122768231965,
          -15.27343951589354,
          -13.703353539127916,
          -31.49718370446053,
          -20.480316071198267,
          -21.39880412998403,
          -34.03838008476923,
          -40.08569048489632,
          -37.739310307981086,
          -20.118731774821008,
          -59.83121130527318,
          -24.366435513998663,
          -47.547403479242234,
          -48.923651828729255,
          -38.778694192038934,
          -41.783975852150114,
          17.826960676204173,
          -49.80421156073055,
          0.6641052888670673,
          -18.791510762162922,
          14.66312575133546,
          -39.67248936693613,
          -35.05670346877228,
          -47.17452436798427,
          -29.049723332619394,
          38.45888507842812,
          -41.922643191204486,
          -35.65394899715717,
          -32.34580565436551,
          -42.935560003200465,
          -36.958490226112374,
          -14.985716678282246,
          -15.58315807939411,
          -64.46468034186454,
          -12.554684281773154,
          -23.402064071027738,
          -17.773175502800953,
          -10.481309897413492,
          30.98936319307537,
          -56.884920404735496,
          15.89801676405238,
          -36.200456175424186,
          -41.564676379809804,
          -48.361111074702954,
          11.486806574719521,
          -15.043410265527314,
          -14.527166775891043,
          -33.45670867935196,
          -50.501123558488835,
          -30.929325341596503,
          -53.688804315586204,
          -37.727803493435886,
          -37.04278626535369,
          -53.158713397277815,
          -49.49318875698692,
          -33.4152276764608,
          5.3958317460341965,
          -30.98085738704228,
          -14.671540349315027,
          -1.473235328771183,
          -2.150574719771148,
          -25.234346444724977,
          -43.759959406751584,
          -50.99595779002303,
          -36.95489591704442,
          -17.06000075186459,
          -39.43272675902865,
          -3.981686847123289,
          -48.289319970432686,
          -17.157735016712326,
          -18.745691423721745
         ],
         "xaxis": "x",
         "yaxis": "y"
        },
        {
         "marker": {
          "color": "violet"
         },
         "name": "1d",
         "type": "histogram",
         "x": [
          -60.84733117751712,
          -52.16956608875284,
          -30.742085614948834,
          -32.81724199480157,
          -50.583653408824624,
          -30.347690416058416,
          -46.56904659050197,
          -73.5547235033762,
          -27.712186946455354,
          -49.26636315289619,
          -52.81932310974449,
          -37.50111123465024,
          -40.06186452930856,
          -63.032079818814914,
          -26.239193050048513,
          -1.1683014566073568,
          -47.721665277424094,
          -21.475624623492052,
          -60.16316950184435,
          -38.922479989710666,
          -7.9913287734585285,
          -73.09491993927013,
          -50.71409312301647,
          -41.866366224142205,
          -44.59940181166181,
          -13.473845950827867,
          -50.21410659847032,
          -60.64775808223719,
          -67.1159041433431,
          -57.71665568239148,
          -36.320848383470505,
          -44.39483832643541,
          -24.831464785193713,
          -18.330214784896327,
          -66.66426153699489,
          -44.47640979557007,
          -44.113872614565494,
          -50.065327158490966,
          -63.023240883074564,
          -49.95427644510719,
          -37.10167304142421,
          -64.5104194505614,
          11.307190882751428,
          -36.819887375226855,
          -23.737267001284433,
          -27.38534420156392,
          -40.429427185524105,
          -44.2876025990297,
          -27.41611918898631,
          -61.23882961766909,
          -59.7620870713512,
          -42.077067089601684,
          -37.4685226875332,
          -9.577241452561935,
          -51.53800522548182,
          -47.133306739244794,
          -58.731995065940325,
          -28.280128720684814,
          -45.85855480244512,
          -55.41900314695452,
          -44.703016308929314,
          -49.583682209359466,
          -40.07664922078247,
          -53.11453813724003,
          -61.697536011570705,
          -49.1753435321813,
          -22.439647528126816,
          -27.20842347092517,
          -26.722798075380883,
          -17.557513039073193,
          -67.00322377053726,
          -70.2418286157183,
          -45.56108208834409,
          -60.420493345694325,
          -69.79487912685553,
          -53.04274298677068,
          -49.046068976627076,
          -64.13792296744512,
          -54.648740686884366,
          -62.19190218292483,
          -11.978416775422607,
          -42.557811837328444,
          -17.7345811436733,
          -29.338868881967205,
          -44.97994022749726,
          -58.18023053315036,
          -65.1476340671654,
          -40.06504524030261,
          -58.37529042428211,
          -27.70900739924953,
          -54.18220247121026,
          -61.731929521922055,
          -61.02776651435813,
          -70.9334265928171,
          -37.950542278490296,
          -43.34975351113787,
          -28.50736681245003,
          -55.05636806082885,
          -45.796111645315406,
          -72.54869538576021
         ],
         "xaxis": "x",
         "yaxis": "y"
        },
        {
         "marker": {
          "color": "green"
         },
         "name": "15min",
         "showlegend": false,
         "type": "histogram",
         "x": [
          -62.33152752263334,
          -62.751722300073375,
          -41.301979419417954,
          -26.276639033479942,
          -22.299816076025568,
          -44.2877887387224,
          -44.255577599603946,
          -68.11268725613115,
          -17.79491057743272,
          -50.41339714421164,
          -71.77949505916278,
          -51.15030368300302,
          -31.561993512815935,
          -76.70140365427628,
          -54.56324396621872,
          -28.007179686477258,
          -57.78355481314619,
          -48.889727689272014,
          -62.18032111905883,
          -64.12198609183714,
          -58.43275517333719,
          -64.3294666258634,
          -42.91516889545536,
          -39.57615432874108,
          -21.60108471794312,
          -43.52051905033972,
          -51.12082644030953,
          -23.428045516573015,
          -41.48254743311216,
          -55.83025709517209,
          -71.1546115865071,
          -23.60615420352441,
          -30.692812774542098,
          -65.63326945739695,
          -40.96441669859261,
          -22.250742353767873,
          -37.337394220228944,
          -18.437909335669687,
          -21.384484861281962,
          -6.129282351071097,
          -7.041628611342377,
          -40.1654986506744,
          -31.012135075543757,
          -33.40551429752551,
          -43.89378375487283,
          -16.50765020616759,
          -58.493309575669585,
          -53.57061274341872,
          -64.0211476435708,
          -5.711085326723408,
          -46.052298104592104,
          -33.34251260458404,
          -52.17522553100827,
          -28.71792554953352,
          -50.2265608084705,
          -35.8594336059233,
          -7.805334482568361,
          -56.32894372389745,
          -48.741108384353026,
          -46.02394272302308,
          -18.20288805844771,
          -51.57249847744827,
          16.21197938235488,
          -55.56357953803298,
          -19.105910802892488,
          -42.71788324140352,
          -40.50281374919905,
          -37.17901023754141,
          -41.08376497249262,
          -59.01678629701424,
          -35.961897809259504,
          -58.60182929386812,
          -53.425222224890504,
          -36.033472469528114,
          -38.54980318484278,
          -43.20064508777903,
          -59.67517179209436,
          -51.58868489904237,
          -39.725380821899314,
          -30.46584790099587,
          -40.91502691462576,
          -38.372483960294915,
          -36.78870668794211,
          -64.02363839389733,
          -25.044546894386176,
          -41.95599734091534,
          -33.17637099432149,
          -45.52082966011351,
          -27.977115883726032,
          -48.79308535264742,
          -59.09907758531844,
          -60.34407905942074,
          -54.53900562848668,
          -59.78874928306632,
          -53.94013534145419,
          -51.74079669036138,
          -66.47735640904943,
          -49.2116668164719,
          -57.098674532539384,
          12.926712751505786
         ],
         "xaxis": "x2",
         "yaxis": "y2"
        },
        {
         "marker": {
          "color": "orange"
         },
         "name": "1h",
         "showlegend": false,
         "type": "histogram",
         "x": [
          3.652539980303904,
          -50.65184557246154,
          -20.058622608282473,
          -59.65912076432127,
          -40.147950419973114,
          -62.11907651306581,
          -37.8687121255186,
          -5.988291404461766,
          -4.798719979675258,
          -48.953458928866176,
          -5.506198949123675,
          -52.87802949766669,
          -58.748340560326604,
          -55.46821927236958,
          -32.00662793217,
          -30.331532495669645,
          -37.40669051191545,
          -50.97887374380263,
          -28.528051195646675,
          -45.36183304573075,
          -53.23549135517389,
          5.6108748690228305,
          -43.152461966898805,
          -60.30818856495045,
          -43.27743578694284,
          -33.3930098153638,
          -44.57283406308798,
          -23.34841066964565,
          -5.928443537840467,
          -70.18764189198842,
          -19.586150781013934,
          -12.464138886746156,
          -27.396149261664327,
          -33.41816928418123,
          -37.95199553104753,
          -32.9177009719073,
          -58.03163616763135,
          2.156233156203702,
          -47.65984590700781,
          -63.27562614562061,
          -38.22898553035097,
          -16.61765464016507,
          -42.08755989625126,
          -28.28584550296941,
          19.480428820988905,
          -49.81230975425973,
          -47.4185909552061,
          -47.10968100181287,
          -41.384144111407494,
          -6.76859197445745,
          -47.820186180821736,
          -37.26212775186604,
          -59.81302904700999,
          -45.77872358685724,
          83.80568396584738,
          -18.625388729486957,
          -60.61673116201729,
          -1.8946561424062258,
          -3.2060539881553995,
          -44.82274342018354,
          -14.495292148461214,
          -24.57674787519727,
          -40.92958422461736,
          -48.96502848579202,
          6.350355845466149,
          -46.29587292009481,
          -49.44133605279818,
          -53.602101812015256,
          -37.41970707965313,
          -41.06183576946063,
          -28.04826973266773,
          -14.122416069179689,
          -27.012145152806877,
          -6.038029676491141,
          -21.939693394081672,
          -27.11302421014279,
          -30.48485955652659,
          -64.58882522965308,
          -8.394378485254917,
          -38.00586097200106,
          -26.826090571628836,
          -47.08618856642588,
          -39.78028520405381,
          -47.74082168841053,
          -40.73674214902627,
          -34.03099505860272,
          -41.999371134294464,
          -32.79992754377168,
          26.543881383669564,
          -62.71504001762693,
          -48.81768592918686,
          -1.455697843119319,
          -44.14623917688185,
          -57.671528527565805,
          -35.73839790760651,
          -8.477210718020201,
          -70.80035396543052,
          -12.886554434071229,
          -48.37273428998532,
          -6.628315110660388
         ],
         "xaxis": "x2",
         "yaxis": "y2"
        },
        {
         "marker": {
          "color": "violet"
         },
         "name": "1d",
         "showlegend": false,
         "type": "histogram",
         "x": [
          -58.05680958304491,
          -51.121076683388836,
          -56.62997757629068,
          -17.859136218048143,
          -33.94955197090829,
          -45.894339691401996,
          -59.96126465945277,
          -61.06156834739149,
          -27.685728227383464,
          -56.565355520541274,
          -36.43102421594973,
          -37.66379389290273,
          -33.8256155748101,
          -50.78717582986514,
          -15.893754145400397,
          -57.811519310525405,
          -41.51253647567654,
          -44.9386351445001,
          -66.57460367086327,
          -60.35397910553908,
          -63.08715131066847,
          1.2019347206454034,
          -48.747670939510634,
          -48.73992240755162,
          -36.14603320585711,
          -49.628412101115686,
          -56.62943876780662,
          -56.61067803521925,
          -35.06510897888291,
          -36.56658481219076,
          -57.783595493200245,
          -32.247890724338355,
          -55.97101915771909,
          -37.19390154100749,
          -64.01431388828134,
          -52.100045998076716,
          -35.369617326253014,
          -37.005027770907105,
          -8.236118906181256,
          -44.6839968093468,
          -31.66957486826114,
          -24.669306097513644,
          -45.822968995101675,
          -73.53883691127301,
          -48.70193063269978,
          -23.5413586176203,
          -74.13110283157773,
          -52.64971650122384,
          -37.203261074086846,
          -26.123164145272327,
          -43.430546375371215,
          -33.89375833855761,
          -26.730201539398735,
          -43.70864101014846,
          -44.4602857905477,
          -70.96296073885026,
          -45.84188398589772,
          -66.59070597758725,
          9.233151815144659,
          -47.78089530058453,
          -9.27898576596995,
          -32.777811256478806,
          -55.502029462577696,
          -14.321613885202588,
          -53.603562298224276,
          -44.04709463391926,
          -61.729077682539966,
          -54.40674448511758,
          -22.945810920344744,
          -48.24934263752875,
          -50.246938185676186,
          -34.87750164280151,
          -13.922219051015272,
          -46.77007931769646,
          -31.71690756234974,
          -32.2276683589451,
          -31.024200325560326,
          -61.37211963016483,
          6.963547838608397,
          -22.711906532837766,
          -20.15344569433244,
          -53.01767473094572,
          -46.50077913958348,
          -53.82475225605706,
          -46.49013947120929,
          -46.07313240572718,
          -69.40401881196233,
          -43.87316566633564,
          -46.414031389909674,
          -41.11135438480993,
          -49.01521618552327,
          -50.608603556756826,
          -9.288208617825045,
          -29.669031733968133,
          -39.71807929450301,
          -10.796793864954335,
          -52.96679863865704,
          -60.26369011498146,
          -67.68701035096841,
          -46.147085670123886
         ],
         "xaxis": "x2",
         "yaxis": "y2"
        },
        {
         "marker": {
          "color": "green"
         },
         "name": "15min",
         "showlegend": false,
         "type": "histogram",
         "x": [
          -14.54373582129711,
          -27.886251192461742,
          -16.439127199641725,
          -16.359829595936127,
          -38.44165396043553,
          -33.45668640532846,
          -25.715342992222347,
          -43.54516809091219,
          -37.41846805879568,
          -30.537370033485413,
          -2.5140011864838496,
          -47.8993744464261,
          -50.866325411064174,
          -8.411326387848629,
          -15.897888297106588,
          -33.56572261754482,
          -36.36233971367893,
          -45.448767164698964,
          -30.40269769824243,
          -57.77277780242998,
          -30.709640572701925,
          -8.95174047071674,
          -54.30475025437621,
          -35.423654784343505,
          -28.32952189056269,
          -49.86816832928138,
          -38.88386831149183,
          -33.87464009557143,
          -37.775235552648944,
          -63.0670014409652,
          -44.89003367840216,
          -21.682080048938246,
          -32.28612114887087,
          -50.835016234917084,
          -37.122463755609004,
          44.63058503333479,
          -54.13563390925194,
          -8.01730066997466,
          -33.35189723790736,
          -44.857919345151196,
          -42.81080901015988,
          -53.60671512824291,
          -30.243730655218382,
          5.35706599996244,
          -32.74374751306537,
          -22.392670558581084,
          -24.339414890715105,
          -14.830907774526247,
          -14.050652379462491,
          -37.50020547159657,
          -33.90070131028129,
          -26.147873551776122,
          -34.15806187052253,
          7.234861554790872,
          -38.866873308708236,
          -34.63910473990111,
          -47.05208278466904,
          -34.01974634018323,
          -58.55323584522182,
          -22.37753245073446,
          -52.80656355673925,
          -70.78059794083055,
          -49.201423041678126,
          -31.531680821689523,
          -59.09597513342071,
          -42.529758717127564,
          4.610850403203504,
          -45.77039205246306,
          -30.905967581804184,
          -31.315742422200344,
          -30.599802726295366,
          -29.2234014306752,
          -25.742149189235263,
          -19.52165683401287,
          -10.430550225780566,
          -27.643485458582575,
          -30.258450099977075,
          -34.49778771522665,
          -26.268733290391566,
          -14.350119264728288,
          -34.97899589433635,
          -51.142423241203176,
          -37.44977696416187,
          -42.21031985380781,
          -33.06786725898314,
          -46.519551958508224,
          16.148449981401814,
          -40.54519403312461,
          -37.53291605827218,
          -41.74808272524339,
          -12.562600619332665,
          -25.09732395778589,
          -19.98556396406209,
          -46.43014003635706,
          -17.07303540979751,
          -39.175461901787536,
          -45.960242372300165,
          -45.34362277655156,
          -40.29609178770956,
          -34.202169853914825
         ],
         "xaxis": "x3",
         "yaxis": "y3"
        },
        {
         "marker": {
          "color": "orange"
         },
         "name": "1h",
         "showlegend": false,
         "type": "histogram",
         "x": [
          -62.95242833936634,
          -36.17830375875146,
          -30.123110308643707,
          -51.77749217789855,
          -27.192557275598304,
          -35.14899219304694,
          -13.801729257008832,
          -52.49460926120699,
          -41.75113052683411,
          -17.565524739111492,
          -35.903762176759166,
          -44.77914772460616,
          -47.059030684655454,
          -17.12932407072906,
          -26.62571728733152,
          -38.69132991758124,
          -54.10333095390861,
          -31.524119389387216,
          -41.80473477705282,
          -54.031278556743466,
          -40.08697288763262,
          -40.65055777221795,
          -62.83021124693919,
          -18.401422260385235,
          -46.43743469600273,
          -38.79745192524232,
          9.838465710361778,
          -33.382858046008735,
          -43.40015273011082,
          -45.77102021885769,
          -29.21237433924393,
          -23.067485102900463,
          -44.85117166892534,
          -66.34662145771175,
          -44.53275552506416,
          -27.97739125499309,
          -22.962446849935315,
          -15.083019911348018,
          -29.49315045302846,
          -50.34262506763414,
          -39.45779871819137,
          -65.73956450689633,
          -52.03539254089616,
          -43.630248615301916,
          -48.367781014323384,
          -35.606172943036064,
          -27.618012531312488,
          -23.912970223641928,
          -32.4187738147387,
          -22.9887551067703,
          -36.96471112539852,
          -53.55170064939132,
          -50.385580607850436,
          -52.43368625406728,
          -32.28045637437964,
          33.2598801905867,
          3.6163433825777025,
          -58.46490529102735,
          -52.36002249865641,
          -30.50491119929347,
          -14.303655366047153,
          -26.19016034563486,
          35.30083243700683,
          -18.207642102922016,
          -41.93844878828359,
          -28.55415047289628,
          7.438808197961366,
          -59.98979858332838,
          -21.52306256556633,
          -34.94403866984985,
          -33.318555245422864,
          -16.764705075987784,
          -15.13977624901739,
          -33.02978401448764,
          -64.16678351544263,
          -4.639193236566353,
          -34.62089238770487,
          -38.03805533579013,
          -51.729930805404344,
          -58.20939341833016,
          -39.22300998208408,
          -42.549869663315,
          -30.968370433982084,
          -31.086341528544647,
          -30.036879875672128,
          -15.407115048156472,
          -44.75768555515095,
          -55.18213568745281,
          -1.3014109583131095,
          -48.918159570933696,
          -26.05018327096641,
          -49.54973115139912,
          -59.05982820192297,
          -11.885668359433854,
          -6.556895064649448,
          -35.040603112249116,
          -36.42087575857408,
          -27.27684012362872,
          -60.90616487501934,
          -0.21902332471638308
         ],
         "xaxis": "x3",
         "yaxis": "y3"
        },
        {
         "marker": {
          "color": "violet"
         },
         "name": "1d",
         "showlegend": false,
         "type": "histogram",
         "x": [
          -28.91348223468263,
          -40.813810080665945,
          -61.997807014097404,
          -49.933803304043245,
          -38.84708522107735,
          -17.359280256755117,
          2.248420699548781,
          -34.46434982645711,
          -17.95325885850939,
          -0.37633999795866346,
          -18.60393896260557,
          -42.11162754670479,
          -31.92078384432786,
          -9.991567103225274,
          -24.061086139773547,
          -42.20471354480376,
          1.197999697463148,
          -33.38045564707205,
          5.851464012770347,
          -40.08676051689167,
          -27.696470068735792,
          -26.375213965881137,
          -31.010767584435207,
          -14.57515275353124,
          -20.497874096478384,
          -24.913306346220953,
          -38.11723018420293,
          -27.383875464486916,
          -13.095964718061548,
          -35.555609436662024,
          -19.368779897130185,
          -44.63266134779338,
          -17.98567290908528,
          -14.019902246027016,
          -32.14771971469166,
          -47.40398885856871,
          -35.82914639634549,
          -31.413831595194264,
          -48.59870932793584,
          13.306380895341597,
          -4.883319017642873,
          -8.0165079965121,
          -21.545443416458532,
          -42.88336235789275,
          -51.29345830698207,
          -9.638820727560738,
          -40.50257594854426,
          -21.890271842850773,
          23.11544858930017,
          -26.301876719289197,
          -49.58991037103232,
          34.14820645352663,
          -34.35278084594998,
          -13.977286485858297,
          -51.07830830335247,
          -43.19388777220371,
          -28.644244717136747,
          -10.528341814560015,
          -8.490600669132931,
          -37.27532003415463,
          8.205653279715875,
          -46.3597999218259,
          -26.07550300020248,
          -27.231058485796943,
          -0.1885523387927357,
          10.81619983666351,
          -27.443195969776657,
          20.979863102919126,
          -4.862695132355244,
          -58.32786243013351,
          -15.344239288736683,
          -37.368566502874025,
          -17.98864782231423,
          -7.563871655067089,
          -1.1859160891145804,
          -16.573633540612732,
          -46.973238990813115,
          -20.716124872681252,
          -9.734343893110164,
          -0.37022491769259647,
          -18.854987788928135,
          -20.289956051813107,
          11.64413477381081,
          -33.7224222721409,
          -35.129843617183454,
          -12.502160826301289,
          -21.15448246353391,
          -19.954716201390042,
          -13.146435580373495,
          -58.685125862312006,
          2.953809865249335,
          -28.799919285782604,
          -37.470968291816256,
          -45.49631483968033,
          -16.041935734388236,
          -14.485140258522977,
          -36.17388304913839,
          -43.87683919277222,
          24.37201006136187,
          10.504928499860156
         ],
         "xaxis": "x3",
         "yaxis": "y3"
        },
        {
         "marker": {
          "color": "green"
         },
         "name": "15min",
         "showlegend": false,
         "type": "histogram",
         "x": [
          -14.924632984311149,
          -3.5734405687344317,
          -37.68623622136236,
          -54.30085874057552,
          -46.14968489837579,
          -34.28550506958461,
          -38.96410638684477,
          -54.561668079228774,
          -37.95900655798624,
          -23.46179478372803,
          -48.63734956190498,
          -45.77032176362897,
          -14.43315187936487,
          -53.75051343784008,
          -37.39535542250676,
          -39.06659731148161,
          -41.97069830463522,
          -60.9567096089392,
          -50.98430087613232,
          -28.667781428439753,
          -19.716252831322024,
          -49.37515169830695,
          -14.852793900893035,
          -50.90966396905077,
          -63.298487078541484,
          -29.81882570755092,
          -26.559269213745452,
          -20.90684460058587,
          -45.9801465616001,
          -67.92218069690786,
          -33.13926793024818,
          -58.54181083022001,
          -54.60979495344817,
          33.43485933364947,
          -30.16193173614138,
          28.282579714054854,
          -68.5735567078895,
          -50.319143959247306,
          -11.421862441354458,
          11.143645682299507,
          -36.80198391621021,
          -40.739345135230074,
          -31.332727690856654,
          -63.741854925343944,
          40.46557293070292,
          -46.760652404584114,
          -51.62336235270673,
          -3.3813233529185527,
          -26.77373425727402,
          -38.21565761874469,
          -47.72263633995687,
          -67.2135495481567,
          -68.12745870338277,
          -17.174547547684107,
          4.870684816177828,
          -49.02714139823801,
          -6.539756471649383,
          -35.64336823929547,
          -31.95440931567245,
          -45.24977480655426,
          -20.17955213859981,
          -61.36362033781615,
          -38.98820754894145,
          -9.9900308778055,
          -47.16398406264004,
          -35.577855842276996,
          -55.50335157475047,
          -20.882724406788032,
          -39.99052974186548,
          7.479555812418437,
          -60.88879154905611,
          -40.660370231513745,
          -23.926968646495993,
          -23.75508965895703,
          -43.70856775022549,
          -54.85345903934764,
          -37.3905423134826,
          -53.33262186943559,
          -37.71207446113185,
          12.184156308151305,
          -54.83894702710903,
          -61.85914419607169,
          -31.543145632572532,
          -45.315479253031846,
          -51.600496897963865,
          -42.83903804483016,
          -20.055450010219666,
          -70.04701508523502,
          -61.82518406747247,
          -28.443099980017184,
          -52.7023455528588,
          -51.04347169262968,
          -59.19561491612701,
          -2.5895840381314095,
          -51.40223849721106,
          -53.9269072012436,
          -43.71130083710625,
          -21.770429941374204,
          -26.02188647302839,
          -50.83692044075544
         ],
         "xaxis": "x4",
         "yaxis": "y4"
        },
        {
         "marker": {
          "color": "orange"
         },
         "name": "1h",
         "showlegend": false,
         "type": "histogram",
         "x": [
          -46.289790669497165,
          -54.78903334427084,
          -62.37925712480382,
          -31.01858253968438,
          -4.426430170193518,
          -60.72234749219145,
          -59.02631720877605,
          -69.46105229892106,
          -47.27082402130605,
          -39.53920778404245,
          -13.538656291173734,
          -58.078102248476135,
          -58.11752660933228,
          -61.24004352964023,
          -32.51053020746293,
          -41.21697616088521,
          -23.302137853324577,
          -6.530599882824173,
          -18.045640590263968,
          -26.477994596438435,
          -48.19271934142074,
          -39.56972392823541,
          -49.067506662151985,
          -61.18711457511108,
          -62.71702580377519,
          -2.756312931981797,
          -31.080555312291523,
          -39.54450095127582,
          25.644516556300267,
          -9.984731522777091,
          -49.006755591589645,
          -34.1061815722614,
          -47.03521380019349,
          -52.72185316744022,
          -62.42041130331093,
          -41.48441461863126,
          -40.34649797519116,
          -5.806441601481749,
          -48.94641770750893,
          -35.30579146987335,
          -21.11590638634926,
          -60.54171978519243,
          -47.139667450079514,
          -65.71382204934069,
          -36.85876966125432,
          -51.53475774868582,
          -40.96846221498554,
          -59.074168194238055,
          -19.75533026264229,
          -66.75205006414441,
          1.3826063061884941,
          -59.375592160200455,
          -33.51205800170563,
          -68.35363286910349,
          -30.254904929873828,
          -42.04355256922129,
          -44.68754229219499,
          -51.478085007563124,
          -37.906470284458806,
          -53.217866909527835,
          -53.66455888033301,
          -53.298093356869394,
          -46.64689666931504,
          -53.554035688139734,
          -39.89601415261432,
          -30.0666256598757,
          -49.60649163196141,
          -54.894262080060294,
          -22.393448466711796,
          -35.68465663259225,
          -28.2942812599398,
          -75.06254016216131,
          -37.57999191416454,
          -40.866056743113596,
          -12.628786056716734,
          -67.93015142751261,
          -56.029440448905966,
          -59.56742896931896,
          -27.418178349369526,
          -35.41256572614808,
          -53.46793810305874,
          -29.132512726684322,
          -37.84496026053606,
          -36.2336401472482,
          -51.30455988624229,
          -54.084954634773474,
          -10.315203466327427,
          -52.33434136714952,
          -51.641051464144624,
          -52.326941340500554,
          -52.01821070614909,
          -28.386226115569368,
          -53.96357111249065,
          -60.959995107375306,
          -25.085255959412013,
          -0.7273663652638596,
          -28.606597442004343,
          -72.66167291718077,
          -52.1098590546882,
          -6.263652444888368
         ],
         "xaxis": "x4",
         "yaxis": "y4"
        },
        {
         "marker": {
          "color": "violet"
         },
         "name": "1d",
         "showlegend": false,
         "type": "histogram",
         "x": [
          -25.22999948224751,
          -51.68799715142989,
          -1.632942701363549,
          -26.230012795799375,
          -59.27441853366429,
          -25.572742473067056,
          -29.658345506023476,
          -34.32438443376604,
          -38.019487323047244,
          -40.71391843346276,
          -47.186354482874904,
          -38.3618438115094,
          -60.53313332905796,
          -31.643072486614987,
          -33.697577495358686,
          -33.44965674557204,
          -30.20542737426335,
          -22.055063123296257,
          -33.40795754397281,
          -41.792409859047375,
          -65.75343746083884,
          -18.30963894563955,
          -40.916802123558625,
          -0.4264043872512113,
          7.07482339070491,
          -45.86247339485167,
          -11.68513129727835,
          -37.47179545523303,
          -71.53432067296617,
          -24.843377506046938,
          -29.29336978596667,
          -50.522720748863534,
          -48.50319074882745,
          -47.732178744997626,
          -56.930879347617555,
          -25.24514333272657,
          -29.423982923640846,
          -8.649438501024287,
          -10.037771206229563,
          -42.20998858067194,
          -40.65853154146488,
          -34.85493311680447,
          -23.70435091012453,
          -42.7174765748766,
          -38.52408420829712,
          -61.24841606020253,
          -67.39149786646327,
          1.769866117062624,
          -48.54313312013446,
          -49.30705487510184,
          -45.64406984092152,
          -50.49012759787311,
          -45.01353023854011,
          -35.64393634763936,
          4.702716464553136,
          -28.546590514966354,
          -43.69725688838021,
          -56.83633889588076,
          -35.469110806109626,
          -55.42990753170615,
          -44.444997930298,
          -56.60707902456829,
          -41.19554698289149,
          -48.80488465585899,
          -44.4738255576336,
          -42.64393994890747,
          -44.51904986187388,
          -52.95898649721955,
          -48.13988426525828,
          -51.625914593767355,
          -45.636945364190986,
          -24.614305870066445,
          -42.816851219858776,
          -60.12051669877889,
          -35.196636263142814,
          -35.494350815281216,
          -50.62288032071434,
          -1.3318195548589151,
          -66.41023624185671,
          -15.395588677245875,
          -29.01682638356614,
          -42.75319574787806,
          7.283672958714016,
          -65.71003090005011,
          -36.49508905488715,
          3.6619517831585124,
          -2.7416015493949897,
          -52.81323733213369,
          -61.694579497295685,
          -56.43960051184411,
          -57.55123872823715,
          -50.762123369094404,
          -39.92466634325032,
          -50.73921592036796,
          -48.28372201657319,
          -18.102336572399146,
          -6.559570151311367,
          -35.63322983034089,
          -43.43073510043855,
          -28.303659782712863
         ],
         "xaxis": "x4",
         "yaxis": "y4"
        }
       ],
       "layout": {
        "annotations": [
         {
          "font": {
           "size": 16
          },
          "showarrow": false,
          "text": "A2C",
          "x": 0.225,
          "xanchor": "center",
          "xref": "paper",
          "y": 1,
          "yanchor": "bottom",
          "yref": "paper"
         },
         {
          "font": {
           "size": 16
          },
          "showarrow": false,
          "text": "PPO",
          "x": 0.775,
          "xanchor": "center",
          "xref": "paper",
          "y": 1,
          "yanchor": "bottom",
          "yref": "paper"
         },
         {
          "font": {
           "size": 16
          },
          "showarrow": false,
          "text": "DQN",
          "x": 0.225,
          "xanchor": "center",
          "xref": "paper",
          "y": 0.375,
          "yanchor": "bottom",
          "yref": "paper"
         },
         {
          "font": {
           "size": 16
          },
          "showarrow": false,
          "text": "RANDOM",
          "x": 0.775,
          "xanchor": "center",
          "xref": "paper",
          "y": 0.375,
          "yanchor": "bottom",
          "yref": "paper"
         }
        ],
        "height": 800,
        "template": {
         "data": {
          "bar": [
           {
            "error_x": {
             "color": "#2a3f5f"
            },
            "error_y": {
             "color": "#2a3f5f"
            },
            "marker": {
             "line": {
              "color": "#E5ECF6",
              "width": 0.5
             },
             "pattern": {
              "fillmode": "overlay",
              "size": 10,
              "solidity": 0.2
             }
            },
            "type": "bar"
           }
          ],
          "barpolar": [
           {
            "marker": {
             "line": {
              "color": "#E5ECF6",
              "width": 0.5
             },
             "pattern": {
              "fillmode": "overlay",
              "size": 10,
              "solidity": 0.2
             }
            },
            "type": "barpolar"
           }
          ],
          "carpet": [
           {
            "aaxis": {
             "endlinecolor": "#2a3f5f",
             "gridcolor": "white",
             "linecolor": "white",
             "minorgridcolor": "white",
             "startlinecolor": "#2a3f5f"
            },
            "baxis": {
             "endlinecolor": "#2a3f5f",
             "gridcolor": "white",
             "linecolor": "white",
             "minorgridcolor": "white",
             "startlinecolor": "#2a3f5f"
            },
            "type": "carpet"
           }
          ],
          "choropleth": [
           {
            "colorbar": {
             "outlinewidth": 0,
             "ticks": ""
            },
            "type": "choropleth"
           }
          ],
          "contour": [
           {
            "colorbar": {
             "outlinewidth": 0,
             "ticks": ""
            },
            "colorscale": [
             [
              0,
              "#0d0887"
             ],
             [
              0.1111111111111111,
              "#46039f"
             ],
             [
              0.2222222222222222,
              "#7201a8"
             ],
             [
              0.3333333333333333,
              "#9c179e"
             ],
             [
              0.4444444444444444,
              "#bd3786"
             ],
             [
              0.5555555555555556,
              "#d8576b"
             ],
             [
              0.6666666666666666,
              "#ed7953"
             ],
             [
              0.7777777777777778,
              "#fb9f3a"
             ],
             [
              0.8888888888888888,
              "#fdca26"
             ],
             [
              1,
              "#f0f921"
             ]
            ],
            "type": "contour"
           }
          ],
          "contourcarpet": [
           {
            "colorbar": {
             "outlinewidth": 0,
             "ticks": ""
            },
            "type": "contourcarpet"
           }
          ],
          "heatmap": [
           {
            "colorbar": {
             "outlinewidth": 0,
             "ticks": ""
            },
            "colorscale": [
             [
              0,
              "#0d0887"
             ],
             [
              0.1111111111111111,
              "#46039f"
             ],
             [
              0.2222222222222222,
              "#7201a8"
             ],
             [
              0.3333333333333333,
              "#9c179e"
             ],
             [
              0.4444444444444444,
              "#bd3786"
             ],
             [
              0.5555555555555556,
              "#d8576b"
             ],
             [
              0.6666666666666666,
              "#ed7953"
             ],
             [
              0.7777777777777778,
              "#fb9f3a"
             ],
             [
              0.8888888888888888,
              "#fdca26"
             ],
             [
              1,
              "#f0f921"
             ]
            ],
            "type": "heatmap"
           }
          ],
          "heatmapgl": [
           {
            "colorbar": {
             "outlinewidth": 0,
             "ticks": ""
            },
            "colorscale": [
             [
              0,
              "#0d0887"
             ],
             [
              0.1111111111111111,
              "#46039f"
             ],
             [
              0.2222222222222222,
              "#7201a8"
             ],
             [
              0.3333333333333333,
              "#9c179e"
             ],
             [
              0.4444444444444444,
              "#bd3786"
             ],
             [
              0.5555555555555556,
              "#d8576b"
             ],
             [
              0.6666666666666666,
              "#ed7953"
             ],
             [
              0.7777777777777778,
              "#fb9f3a"
             ],
             [
              0.8888888888888888,
              "#fdca26"
             ],
             [
              1,
              "#f0f921"
             ]
            ],
            "type": "heatmapgl"
           }
          ],
          "histogram": [
           {
            "marker": {
             "pattern": {
              "fillmode": "overlay",
              "size": 10,
              "solidity": 0.2
             }
            },
            "type": "histogram"
           }
          ],
          "histogram2d": [
           {
            "colorbar": {
             "outlinewidth": 0,
             "ticks": ""
            },
            "colorscale": [
             [
              0,
              "#0d0887"
             ],
             [
              0.1111111111111111,
              "#46039f"
             ],
             [
              0.2222222222222222,
              "#7201a8"
             ],
             [
              0.3333333333333333,
              "#9c179e"
             ],
             [
              0.4444444444444444,
              "#bd3786"
             ],
             [
              0.5555555555555556,
              "#d8576b"
             ],
             [
              0.6666666666666666,
              "#ed7953"
             ],
             [
              0.7777777777777778,
              "#fb9f3a"
             ],
             [
              0.8888888888888888,
              "#fdca26"
             ],
             [
              1,
              "#f0f921"
             ]
            ],
            "type": "histogram2d"
           }
          ],
          "histogram2dcontour": [
           {
            "colorbar": {
             "outlinewidth": 0,
             "ticks": ""
            },
            "colorscale": [
             [
              0,
              "#0d0887"
             ],
             [
              0.1111111111111111,
              "#46039f"
             ],
             [
              0.2222222222222222,
              "#7201a8"
             ],
             [
              0.3333333333333333,
              "#9c179e"
             ],
             [
              0.4444444444444444,
              "#bd3786"
             ],
             [
              0.5555555555555556,
              "#d8576b"
             ],
             [
              0.6666666666666666,
              "#ed7953"
             ],
             [
              0.7777777777777778,
              "#fb9f3a"
             ],
             [
              0.8888888888888888,
              "#fdca26"
             ],
             [
              1,
              "#f0f921"
             ]
            ],
            "type": "histogram2dcontour"
           }
          ],
          "mesh3d": [
           {
            "colorbar": {
             "outlinewidth": 0,
             "ticks": ""
            },
            "type": "mesh3d"
           }
          ],
          "parcoords": [
           {
            "line": {
             "colorbar": {
              "outlinewidth": 0,
              "ticks": ""
             }
            },
            "type": "parcoords"
           }
          ],
          "pie": [
           {
            "automargin": true,
            "type": "pie"
           }
          ],
          "scatter": [
           {
            "fillpattern": {
             "fillmode": "overlay",
             "size": 10,
             "solidity": 0.2
            },
            "type": "scatter"
           }
          ],
          "scatter3d": [
           {
            "line": {
             "colorbar": {
              "outlinewidth": 0,
              "ticks": ""
             }
            },
            "marker": {
             "colorbar": {
              "outlinewidth": 0,
              "ticks": ""
             }
            },
            "type": "scatter3d"
           }
          ],
          "scattercarpet": [
           {
            "marker": {
             "colorbar": {
              "outlinewidth": 0,
              "ticks": ""
             }
            },
            "type": "scattercarpet"
           }
          ],
          "scattergeo": [
           {
            "marker": {
             "colorbar": {
              "outlinewidth": 0,
              "ticks": ""
             }
            },
            "type": "scattergeo"
           }
          ],
          "scattergl": [
           {
            "marker": {
             "colorbar": {
              "outlinewidth": 0,
              "ticks": ""
             }
            },
            "type": "scattergl"
           }
          ],
          "scattermapbox": [
           {
            "marker": {
             "colorbar": {
              "outlinewidth": 0,
              "ticks": ""
             }
            },
            "type": "scattermapbox"
           }
          ],
          "scatterpolar": [
           {
            "marker": {
             "colorbar": {
              "outlinewidth": 0,
              "ticks": ""
             }
            },
            "type": "scatterpolar"
           }
          ],
          "scatterpolargl": [
           {
            "marker": {
             "colorbar": {
              "outlinewidth": 0,
              "ticks": ""
             }
            },
            "type": "scatterpolargl"
           }
          ],
          "scatterternary": [
           {
            "marker": {
             "colorbar": {
              "outlinewidth": 0,
              "ticks": ""
             }
            },
            "type": "scatterternary"
           }
          ],
          "surface": [
           {
            "colorbar": {
             "outlinewidth": 0,
             "ticks": ""
            },
            "colorscale": [
             [
              0,
              "#0d0887"
             ],
             [
              0.1111111111111111,
              "#46039f"
             ],
             [
              0.2222222222222222,
              "#7201a8"
             ],
             [
              0.3333333333333333,
              "#9c179e"
             ],
             [
              0.4444444444444444,
              "#bd3786"
             ],
             [
              0.5555555555555556,
              "#d8576b"
             ],
             [
              0.6666666666666666,
              "#ed7953"
             ],
             [
              0.7777777777777778,
              "#fb9f3a"
             ],
             [
              0.8888888888888888,
              "#fdca26"
             ],
             [
              1,
              "#f0f921"
             ]
            ],
            "type": "surface"
           }
          ],
          "table": [
           {
            "cells": {
             "fill": {
              "color": "#EBF0F8"
             },
             "line": {
              "color": "white"
             }
            },
            "header": {
             "fill": {
              "color": "#C8D4E3"
             },
             "line": {
              "color": "white"
             }
            },
            "type": "table"
           }
          ]
         },
         "layout": {
          "annotationdefaults": {
           "arrowcolor": "#2a3f5f",
           "arrowhead": 0,
           "arrowwidth": 1
          },
          "autotypenumbers": "strict",
          "coloraxis": {
           "colorbar": {
            "outlinewidth": 0,
            "ticks": ""
           }
          },
          "colorscale": {
           "diverging": [
            [
             0,
             "#8e0152"
            ],
            [
             0.1,
             "#c51b7d"
            ],
            [
             0.2,
             "#de77ae"
            ],
            [
             0.3,
             "#f1b6da"
            ],
            [
             0.4,
             "#fde0ef"
            ],
            [
             0.5,
             "#f7f7f7"
            ],
            [
             0.6,
             "#e6f5d0"
            ],
            [
             0.7,
             "#b8e186"
            ],
            [
             0.8,
             "#7fbc41"
            ],
            [
             0.9,
             "#4d9221"
            ],
            [
             1,
             "#276419"
            ]
           ],
           "sequential": [
            [
             0,
             "#0d0887"
            ],
            [
             0.1111111111111111,
             "#46039f"
            ],
            [
             0.2222222222222222,
             "#7201a8"
            ],
            [
             0.3333333333333333,
             "#9c179e"
            ],
            [
             0.4444444444444444,
             "#bd3786"
            ],
            [
             0.5555555555555556,
             "#d8576b"
            ],
            [
             0.6666666666666666,
             "#ed7953"
            ],
            [
             0.7777777777777778,
             "#fb9f3a"
            ],
            [
             0.8888888888888888,
             "#fdca26"
            ],
            [
             1,
             "#f0f921"
            ]
           ],
           "sequentialminus": [
            [
             0,
             "#0d0887"
            ],
            [
             0.1111111111111111,
             "#46039f"
            ],
            [
             0.2222222222222222,
             "#7201a8"
            ],
            [
             0.3333333333333333,
             "#9c179e"
            ],
            [
             0.4444444444444444,
             "#bd3786"
            ],
            [
             0.5555555555555556,
             "#d8576b"
            ],
            [
             0.6666666666666666,
             "#ed7953"
            ],
            [
             0.7777777777777778,
             "#fb9f3a"
            ],
            [
             0.8888888888888888,
             "#fdca26"
            ],
            [
             1,
             "#f0f921"
            ]
           ]
          },
          "colorway": [
           "#636efa",
           "#EF553B",
           "#00cc96",
           "#ab63fa",
           "#FFA15A",
           "#19d3f3",
           "#FF6692",
           "#B6E880",
           "#FF97FF",
           "#FECB52"
          ],
          "font": {
           "color": "#2a3f5f"
          },
          "geo": {
           "bgcolor": "white",
           "lakecolor": "white",
           "landcolor": "#E5ECF6",
           "showlakes": true,
           "showland": true,
           "subunitcolor": "white"
          },
          "hoverlabel": {
           "align": "left"
          },
          "hovermode": "closest",
          "mapbox": {
           "style": "light"
          },
          "paper_bgcolor": "white",
          "plot_bgcolor": "#E5ECF6",
          "polar": {
           "angularaxis": {
            "gridcolor": "white",
            "linecolor": "white",
            "ticks": ""
           },
           "bgcolor": "#E5ECF6",
           "radialaxis": {
            "gridcolor": "white",
            "linecolor": "white",
            "ticks": ""
           }
          },
          "scene": {
           "xaxis": {
            "backgroundcolor": "#E5ECF6",
            "gridcolor": "white",
            "gridwidth": 2,
            "linecolor": "white",
            "showbackground": true,
            "ticks": "",
            "zerolinecolor": "white"
           },
           "yaxis": {
            "backgroundcolor": "#E5ECF6",
            "gridcolor": "white",
            "gridwidth": 2,
            "linecolor": "white",
            "showbackground": true,
            "ticks": "",
            "zerolinecolor": "white"
           },
           "zaxis": {
            "backgroundcolor": "#E5ECF6",
            "gridcolor": "white",
            "gridwidth": 2,
            "linecolor": "white",
            "showbackground": true,
            "ticks": "",
            "zerolinecolor": "white"
           }
          },
          "shapedefaults": {
           "line": {
            "color": "#2a3f5f"
           }
          },
          "ternary": {
           "aaxis": {
            "gridcolor": "white",
            "linecolor": "white",
            "ticks": ""
           },
           "baxis": {
            "gridcolor": "white",
            "linecolor": "white",
            "ticks": ""
           },
           "bgcolor": "#E5ECF6",
           "caxis": {
            "gridcolor": "white",
            "linecolor": "white",
            "ticks": ""
           }
          },
          "title": {
           "x": 0.05
          },
          "xaxis": {
           "automargin": true,
           "gridcolor": "white",
           "linecolor": "white",
           "ticks": "",
           "title": {
            "standoff": 15
           },
           "zerolinecolor": "white",
           "zerolinewidth": 2
          },
          "yaxis": {
           "automargin": true,
           "gridcolor": "white",
           "linecolor": "white",
           "ticks": "",
           "title": {
            "standoff": 15
           },
           "zerolinecolor": "white",
           "zerolinewidth": 2
          }
         }
        },
        "title": {
         "text": "Total Profit Percentage (in %) x different time-to-chart (Across different models) <br>ccy:BTCUSDT - feat_package:1",
         "x": 0.5
        },
        "width": 1200,
        "xaxis": {
         "anchor": "y",
         "domain": [
          0,
          0.45
         ],
         "matches": "x3",
         "showticklabels": false,
         "title": {
          "standoff": 25,
          "text": "Total Profit Percentage (in %)"
         }
        },
        "xaxis2": {
         "anchor": "y2",
         "domain": [
          0.55,
          1
         ],
         "matches": "x3",
         "showticklabels": false,
         "title": {
          "standoff": 25,
          "text": "Total Profit Percentage (in %)"
         }
        },
        "xaxis3": {
         "anchor": "y3",
         "domain": [
          0,
          0.45
         ],
         "title": {
          "standoff": 25,
          "text": "Total Profit Percentage (in %)"
         }
        },
        "xaxis4": {
         "anchor": "y4",
         "domain": [
          0.55,
          1
         ],
         "matches": "x3",
         "title": {
          "standoff": 25,
          "text": "Total Profit Percentage (in %)"
         }
        },
        "yaxis": {
         "anchor": "x",
         "domain": [
          0.625,
          1
         ],
         "matches": "y3",
         "title": {
          "standoff": 25,
          "text": "Number of simulations"
         }
        },
        "yaxis2": {
         "anchor": "x2",
         "domain": [
          0.625,
          1
         ],
         "matches": "y3",
         "showticklabels": false,
         "title": {
          "standoff": 25,
          "text": "Number of simulations"
         }
        },
        "yaxis3": {
         "anchor": "x3",
         "domain": [
          0,
          0.375
         ],
         "title": {
          "standoff": 25,
          "text": "Number of simulations"
         }
        },
        "yaxis4": {
         "anchor": "x4",
         "domain": [
          0,
          0.375
         ],
         "matches": "y3",
         "showticklabels": false,
         "title": {
          "standoff": 25,
          "text": "Number of simulations"
         }
        }
       }
      }
     },
     "metadata": {},
     "output_type": "display_data"
    }
   ],
   "source": [
    "fig_output = get_histogramplot_total_profit_diff_time_to_chart(df_sim_results, list_feat[0])"
   ]
  },
  {
   "cell_type": "code",
   "execution_count": 42,
   "metadata": {},
   "outputs": [
    {
     "data": {
      "application/vnd.plotly.v1+json": {
       "config": {
        "plotlyServerURL": "https://plot.ly"
       },
       "data": [
        {
         "legendgroup": "1",
         "marker": {
          "color": "green",
          "size": 10,
          "symbol": "circle"
         },
         "mode": "markers+text",
         "name": "A2C: 15m",
         "type": "scatter",
         "x": [
          0.12494609086202146,
          0.12494609086202146
         ],
         "y": [
          3
         ]
        },
        {
         "legendgroup": "1",
         "marker": {
          "color": "orange",
          "size": 10,
          "symbol": "circle"
         },
         "mode": "markers+text",
         "name": "A2C:1h",
         "type": "scatter",
         "x": [
          -29.989524337107948,
          -29.989524337107948
         ],
         "y": [
          3
         ]
        },
        {
         "legendgroup": "1",
         "marker": {
          "color": "violet",
          "size": 10,
          "symbol": "circle"
         },
         "mode": "markers+text",
         "name": "A2C:1d",
         "type": "scatter",
         "x": [
          -45.82733322388026,
          -45.82733322388026
         ],
         "y": [
          3
         ]
        },
        {
         "legendgroup": "2",
         "marker": {
          "color": "green",
          "size": 10,
          "symbol": "square"
         },
         "mode": "markers",
         "name": "PPO: 15m",
         "type": "scatter",
         "x": [
          -43.360582069059376,
          -43.360582069059376
         ],
         "y": [
          2
         ]
        },
        {
         "legendgroup": "2",
         "marker": {
          "color": "orange",
          "size": 10,
          "symbol": "square"
         },
         "mode": "markers",
         "name": "PPO: 1h",
         "type": "scatter",
         "x": [
          -37.910353828283064,
          -37.910353828283064
         ],
         "y": [
          2
         ]
        },
        {
         "legendgroup": "2",
         "marker": {
          "color": "violet",
          "size": 10,
          "symbol": "square"
         },
         "mode": "markers",
         "name": "PPO: 1d",
         "type": "scatter",
         "x": [
          -45.8324264904997,
          -45.8324264904997
         ],
         "y": [
          2
         ]
        },
        {
         "legendgroup": "3",
         "marker": {
          "color": "green",
          "size": 10,
          "symbol": "diamond"
         },
         "mode": "markers",
         "name": "DQN: 15m",
         "type": "scatter",
         "x": [
          -33.88767070292636,
          -33.88767070292636
         ],
         "y": [
          1
         ]
        },
        {
         "legendgroup": "3",
         "marker": {
          "color": "orange",
          "size": 10,
          "symbol": "diamond"
         },
         "mode": "markers",
         "name": "DQN: 1h",
         "type": "scatter",
         "x": [
          -35.377582568041504,
          -35.377582568041504
         ],
         "y": [
          1
         ]
        },
        {
         "legendgroup": "3",
         "marker": {
          "color": "violet",
          "size": 10,
          "symbol": "diamond"
         },
         "mode": "markers",
         "name": "DQN: 1d",
         "type": "scatter",
         "x": [
          -22.975678991312158,
          -22.975678991312158
         ],
         "y": [
          1
         ]
        },
        {
         "legendgroup": "4",
         "marker": {
          "color": "green",
          "size": 10,
          "symbol": "cross"
         },
         "mode": "markers+text",
         "name": "RANDOM: 15m",
         "type": "scatter",
         "x": [
          -39.528563526673544,
          -39.528563526673544
         ],
         "y": [
          0
         ]
        },
        {
         "legendgroup": "4",
         "marker": {
          "color": "orange",
          "size": 10,
          "symbol": "cross"
         },
         "mode": "markers+text",
         "name": "RANDOM: 1h",
         "type": "scatter",
         "x": [
          -45.48866648084608,
          -45.48866648084608
         ],
         "y": [
          0
         ]
        },
        {
         "legendgroup": "4",
         "marker": {
          "color": "violet",
          "size": 10,
          "symbol": "cross"
         },
         "mode": "markers+text",
         "name": "RANDOM: 1d",
         "type": "scatter",
         "x": [
          -40.815360278510695,
          -40.815360278510695
         ],
         "y": [
          0
         ]
        }
       ],
       "layout": {
        "annotations": [
         {
          "align": "center",
          "text": "0.1249",
          "textangle": 45,
          "x": 0.12494609086202146,
          "xanchor": "center",
          "xref": "x",
          "y": 3,
          "yref": "y"
         },
         {
          "align": "center",
          "text": "-29.9895",
          "textangle": 45,
          "x": -29.989524337107948,
          "xanchor": "center",
          "xref": "x",
          "y": 3,
          "yref": "y"
         },
         {
          "align": "center",
          "text": "-45.8273",
          "textangle": 45,
          "x": -45.82733322388026,
          "xanchor": "center",
          "xref": "x",
          "y": 3,
          "yref": "y"
         },
         {
          "align": "center",
          "text": "-43.3606",
          "textangle": 45,
          "x": -43.360582069059376,
          "xanchor": "center",
          "xref": "x",
          "y": 2,
          "yref": "y"
         },
         {
          "align": "center",
          "text": "-37.9104",
          "textangle": 45,
          "x": -37.910353828283064,
          "xanchor": "center",
          "xref": "x",
          "y": 2,
          "yref": "y"
         },
         {
          "align": "center",
          "text": "-45.8324",
          "textangle": 45,
          "x": -45.8324264904997,
          "xanchor": "center",
          "xref": "x",
          "y": 2,
          "yref": "y"
         },
         {
          "align": "center",
          "text": "-33.8877",
          "textangle": 45,
          "x": -33.88767070292636,
          "xanchor": "center",
          "xref": "x",
          "y": 1,
          "yref": "y"
         },
         {
          "align": "center",
          "text": "-35.3776",
          "textangle": 45,
          "x": -35.377582568041504,
          "xanchor": "center",
          "xref": "x",
          "y": 1,
          "yref": "y"
         },
         {
          "align": "center",
          "text": "-22.9757",
          "textangle": 45,
          "x": -22.975678991312158,
          "xanchor": "center",
          "xref": "x",
          "y": 1,
          "yref": "y"
         },
         {
          "align": "center",
          "text": "-39.5286",
          "textangle": 45,
          "x": -39.528563526673544,
          "xanchor": "center",
          "xref": "x",
          "y": 0,
          "yref": "y"
         },
         {
          "align": "center",
          "text": "-45.4887",
          "textangle": 45,
          "x": -45.48866648084608,
          "xanchor": "center",
          "xref": "x",
          "y": 0,
          "yref": "y"
         },
         {
          "align": "center",
          "text": "-40.8154",
          "textangle": 45,
          "x": -40.815360278510695,
          "xanchor": "center",
          "xref": "x",
          "y": 0,
          "yref": "y"
         }
        ],
        "height": 800,
        "legend": {
         "tracegroupgap": 125
        },
        "template": {
         "data": {
          "bar": [
           {
            "error_x": {
             "color": "#2a3f5f"
            },
            "error_y": {
             "color": "#2a3f5f"
            },
            "marker": {
             "line": {
              "color": "#E5ECF6",
              "width": 0.5
             },
             "pattern": {
              "fillmode": "overlay",
              "size": 10,
              "solidity": 0.2
             }
            },
            "type": "bar"
           }
          ],
          "barpolar": [
           {
            "marker": {
             "line": {
              "color": "#E5ECF6",
              "width": 0.5
             },
             "pattern": {
              "fillmode": "overlay",
              "size": 10,
              "solidity": 0.2
             }
            },
            "type": "barpolar"
           }
          ],
          "carpet": [
           {
            "aaxis": {
             "endlinecolor": "#2a3f5f",
             "gridcolor": "white",
             "linecolor": "white",
             "minorgridcolor": "white",
             "startlinecolor": "#2a3f5f"
            },
            "baxis": {
             "endlinecolor": "#2a3f5f",
             "gridcolor": "white",
             "linecolor": "white",
             "minorgridcolor": "white",
             "startlinecolor": "#2a3f5f"
            },
            "type": "carpet"
           }
          ],
          "choropleth": [
           {
            "colorbar": {
             "outlinewidth": 0,
             "ticks": ""
            },
            "type": "choropleth"
           }
          ],
          "contour": [
           {
            "colorbar": {
             "outlinewidth": 0,
             "ticks": ""
            },
            "colorscale": [
             [
              0,
              "#0d0887"
             ],
             [
              0.1111111111111111,
              "#46039f"
             ],
             [
              0.2222222222222222,
              "#7201a8"
             ],
             [
              0.3333333333333333,
              "#9c179e"
             ],
             [
              0.4444444444444444,
              "#bd3786"
             ],
             [
              0.5555555555555556,
              "#d8576b"
             ],
             [
              0.6666666666666666,
              "#ed7953"
             ],
             [
              0.7777777777777778,
              "#fb9f3a"
             ],
             [
              0.8888888888888888,
              "#fdca26"
             ],
             [
              1,
              "#f0f921"
             ]
            ],
            "type": "contour"
           }
          ],
          "contourcarpet": [
           {
            "colorbar": {
             "outlinewidth": 0,
             "ticks": ""
            },
            "type": "contourcarpet"
           }
          ],
          "heatmap": [
           {
            "colorbar": {
             "outlinewidth": 0,
             "ticks": ""
            },
            "colorscale": [
             [
              0,
              "#0d0887"
             ],
             [
              0.1111111111111111,
              "#46039f"
             ],
             [
              0.2222222222222222,
              "#7201a8"
             ],
             [
              0.3333333333333333,
              "#9c179e"
             ],
             [
              0.4444444444444444,
              "#bd3786"
             ],
             [
              0.5555555555555556,
              "#d8576b"
             ],
             [
              0.6666666666666666,
              "#ed7953"
             ],
             [
              0.7777777777777778,
              "#fb9f3a"
             ],
             [
              0.8888888888888888,
              "#fdca26"
             ],
             [
              1,
              "#f0f921"
             ]
            ],
            "type": "heatmap"
           }
          ],
          "heatmapgl": [
           {
            "colorbar": {
             "outlinewidth": 0,
             "ticks": ""
            },
            "colorscale": [
             [
              0,
              "#0d0887"
             ],
             [
              0.1111111111111111,
              "#46039f"
             ],
             [
              0.2222222222222222,
              "#7201a8"
             ],
             [
              0.3333333333333333,
              "#9c179e"
             ],
             [
              0.4444444444444444,
              "#bd3786"
             ],
             [
              0.5555555555555556,
              "#d8576b"
             ],
             [
              0.6666666666666666,
              "#ed7953"
             ],
             [
              0.7777777777777778,
              "#fb9f3a"
             ],
             [
              0.8888888888888888,
              "#fdca26"
             ],
             [
              1,
              "#f0f921"
             ]
            ],
            "type": "heatmapgl"
           }
          ],
          "histogram": [
           {
            "marker": {
             "pattern": {
              "fillmode": "overlay",
              "size": 10,
              "solidity": 0.2
             }
            },
            "type": "histogram"
           }
          ],
          "histogram2d": [
           {
            "colorbar": {
             "outlinewidth": 0,
             "ticks": ""
            },
            "colorscale": [
             [
              0,
              "#0d0887"
             ],
             [
              0.1111111111111111,
              "#46039f"
             ],
             [
              0.2222222222222222,
              "#7201a8"
             ],
             [
              0.3333333333333333,
              "#9c179e"
             ],
             [
              0.4444444444444444,
              "#bd3786"
             ],
             [
              0.5555555555555556,
              "#d8576b"
             ],
             [
              0.6666666666666666,
              "#ed7953"
             ],
             [
              0.7777777777777778,
              "#fb9f3a"
             ],
             [
              0.8888888888888888,
              "#fdca26"
             ],
             [
              1,
              "#f0f921"
             ]
            ],
            "type": "histogram2d"
           }
          ],
          "histogram2dcontour": [
           {
            "colorbar": {
             "outlinewidth": 0,
             "ticks": ""
            },
            "colorscale": [
             [
              0,
              "#0d0887"
             ],
             [
              0.1111111111111111,
              "#46039f"
             ],
             [
              0.2222222222222222,
              "#7201a8"
             ],
             [
              0.3333333333333333,
              "#9c179e"
             ],
             [
              0.4444444444444444,
              "#bd3786"
             ],
             [
              0.5555555555555556,
              "#d8576b"
             ],
             [
              0.6666666666666666,
              "#ed7953"
             ],
             [
              0.7777777777777778,
              "#fb9f3a"
             ],
             [
              0.8888888888888888,
              "#fdca26"
             ],
             [
              1,
              "#f0f921"
             ]
            ],
            "type": "histogram2dcontour"
           }
          ],
          "mesh3d": [
           {
            "colorbar": {
             "outlinewidth": 0,
             "ticks": ""
            },
            "type": "mesh3d"
           }
          ],
          "parcoords": [
           {
            "line": {
             "colorbar": {
              "outlinewidth": 0,
              "ticks": ""
             }
            },
            "type": "parcoords"
           }
          ],
          "pie": [
           {
            "automargin": true,
            "type": "pie"
           }
          ],
          "scatter": [
           {
            "fillpattern": {
             "fillmode": "overlay",
             "size": 10,
             "solidity": 0.2
            },
            "type": "scatter"
           }
          ],
          "scatter3d": [
           {
            "line": {
             "colorbar": {
              "outlinewidth": 0,
              "ticks": ""
             }
            },
            "marker": {
             "colorbar": {
              "outlinewidth": 0,
              "ticks": ""
             }
            },
            "type": "scatter3d"
           }
          ],
          "scattercarpet": [
           {
            "marker": {
             "colorbar": {
              "outlinewidth": 0,
              "ticks": ""
             }
            },
            "type": "scattercarpet"
           }
          ],
          "scattergeo": [
           {
            "marker": {
             "colorbar": {
              "outlinewidth": 0,
              "ticks": ""
             }
            },
            "type": "scattergeo"
           }
          ],
          "scattergl": [
           {
            "marker": {
             "colorbar": {
              "outlinewidth": 0,
              "ticks": ""
             }
            },
            "type": "scattergl"
           }
          ],
          "scattermapbox": [
           {
            "marker": {
             "colorbar": {
              "outlinewidth": 0,
              "ticks": ""
             }
            },
            "type": "scattermapbox"
           }
          ],
          "scatterpolar": [
           {
            "marker": {
             "colorbar": {
              "outlinewidth": 0,
              "ticks": ""
             }
            },
            "type": "scatterpolar"
           }
          ],
          "scatterpolargl": [
           {
            "marker": {
             "colorbar": {
              "outlinewidth": 0,
              "ticks": ""
             }
            },
            "type": "scatterpolargl"
           }
          ],
          "scatterternary": [
           {
            "marker": {
             "colorbar": {
              "outlinewidth": 0,
              "ticks": ""
             }
            },
            "type": "scatterternary"
           }
          ],
          "surface": [
           {
            "colorbar": {
             "outlinewidth": 0,
             "ticks": ""
            },
            "colorscale": [
             [
              0,
              "#0d0887"
             ],
             [
              0.1111111111111111,
              "#46039f"
             ],
             [
              0.2222222222222222,
              "#7201a8"
             ],
             [
              0.3333333333333333,
              "#9c179e"
             ],
             [
              0.4444444444444444,
              "#bd3786"
             ],
             [
              0.5555555555555556,
              "#d8576b"
             ],
             [
              0.6666666666666666,
              "#ed7953"
             ],
             [
              0.7777777777777778,
              "#fb9f3a"
             ],
             [
              0.8888888888888888,
              "#fdca26"
             ],
             [
              1,
              "#f0f921"
             ]
            ],
            "type": "surface"
           }
          ],
          "table": [
           {
            "cells": {
             "fill": {
              "color": "#EBF0F8"
             },
             "line": {
              "color": "white"
             }
            },
            "header": {
             "fill": {
              "color": "#C8D4E3"
             },
             "line": {
              "color": "white"
             }
            },
            "type": "table"
           }
          ]
         },
         "layout": {
          "annotationdefaults": {
           "arrowcolor": "#2a3f5f",
           "arrowhead": 0,
           "arrowwidth": 1
          },
          "autotypenumbers": "strict",
          "coloraxis": {
           "colorbar": {
            "outlinewidth": 0,
            "ticks": ""
           }
          },
          "colorscale": {
           "diverging": [
            [
             0,
             "#8e0152"
            ],
            [
             0.1,
             "#c51b7d"
            ],
            [
             0.2,
             "#de77ae"
            ],
            [
             0.3,
             "#f1b6da"
            ],
            [
             0.4,
             "#fde0ef"
            ],
            [
             0.5,
             "#f7f7f7"
            ],
            [
             0.6,
             "#e6f5d0"
            ],
            [
             0.7,
             "#b8e186"
            ],
            [
             0.8,
             "#7fbc41"
            ],
            [
             0.9,
             "#4d9221"
            ],
            [
             1,
             "#276419"
            ]
           ],
           "sequential": [
            [
             0,
             "#0d0887"
            ],
            [
             0.1111111111111111,
             "#46039f"
            ],
            [
             0.2222222222222222,
             "#7201a8"
            ],
            [
             0.3333333333333333,
             "#9c179e"
            ],
            [
             0.4444444444444444,
             "#bd3786"
            ],
            [
             0.5555555555555556,
             "#d8576b"
            ],
            [
             0.6666666666666666,
             "#ed7953"
            ],
            [
             0.7777777777777778,
             "#fb9f3a"
            ],
            [
             0.8888888888888888,
             "#fdca26"
            ],
            [
             1,
             "#f0f921"
            ]
           ],
           "sequentialminus": [
            [
             0,
             "#0d0887"
            ],
            [
             0.1111111111111111,
             "#46039f"
            ],
            [
             0.2222222222222222,
             "#7201a8"
            ],
            [
             0.3333333333333333,
             "#9c179e"
            ],
            [
             0.4444444444444444,
             "#bd3786"
            ],
            [
             0.5555555555555556,
             "#d8576b"
            ],
            [
             0.6666666666666666,
             "#ed7953"
            ],
            [
             0.7777777777777778,
             "#fb9f3a"
            ],
            [
             0.8888888888888888,
             "#fdca26"
            ],
            [
             1,
             "#f0f921"
            ]
           ]
          },
          "colorway": [
           "#636efa",
           "#EF553B",
           "#00cc96",
           "#ab63fa",
           "#FFA15A",
           "#19d3f3",
           "#FF6692",
           "#B6E880",
           "#FF97FF",
           "#FECB52"
          ],
          "font": {
           "color": "#2a3f5f"
          },
          "geo": {
           "bgcolor": "white",
           "lakecolor": "white",
           "landcolor": "#E5ECF6",
           "showlakes": true,
           "showland": true,
           "subunitcolor": "white"
          },
          "hoverlabel": {
           "align": "left"
          },
          "hovermode": "closest",
          "mapbox": {
           "style": "light"
          },
          "paper_bgcolor": "white",
          "plot_bgcolor": "#E5ECF6",
          "polar": {
           "angularaxis": {
            "gridcolor": "white",
            "linecolor": "white",
            "ticks": ""
           },
           "bgcolor": "#E5ECF6",
           "radialaxis": {
            "gridcolor": "white",
            "linecolor": "white",
            "ticks": ""
           }
          },
          "scene": {
           "xaxis": {
            "backgroundcolor": "#E5ECF6",
            "gridcolor": "white",
            "gridwidth": 2,
            "linecolor": "white",
            "showbackground": true,
            "ticks": "",
            "zerolinecolor": "white"
           },
           "yaxis": {
            "backgroundcolor": "#E5ECF6",
            "gridcolor": "white",
            "gridwidth": 2,
            "linecolor": "white",
            "showbackground": true,
            "ticks": "",
            "zerolinecolor": "white"
           },
           "zaxis": {
            "backgroundcolor": "#E5ECF6",
            "gridcolor": "white",
            "gridwidth": 2,
            "linecolor": "white",
            "showbackground": true,
            "ticks": "",
            "zerolinecolor": "white"
           }
          },
          "shapedefaults": {
           "line": {
            "color": "#2a3f5f"
           }
          },
          "ternary": {
           "aaxis": {
            "gridcolor": "white",
            "linecolor": "white",
            "ticks": ""
           },
           "baxis": {
            "gridcolor": "white",
            "linecolor": "white",
            "ticks": ""
           },
           "bgcolor": "#E5ECF6",
           "caxis": {
            "gridcolor": "white",
            "linecolor": "white",
            "ticks": ""
           }
          },
          "title": {
           "x": 0.05
          },
          "xaxis": {
           "automargin": true,
           "gridcolor": "white",
           "linecolor": "white",
           "ticks": "",
           "title": {
            "standoff": 15
           },
           "zerolinecolor": "white",
           "zerolinewidth": 2
          },
          "yaxis": {
           "automargin": true,
           "gridcolor": "white",
           "linecolor": "white",
           "ticks": "",
           "title": {
            "standoff": 15
           },
           "zerolinecolor": "white",
           "zerolinewidth": 2
          }
         }
        },
        "title": {
         "text": "MEDIAN : Total Profit Percentage (in %) x different time-to-chart (Across different models) <br>ccy:BTCUSDT - feat_package:1",
         "x": 0.5
        },
        "width": 1200,
        "xaxis": {
         "title": {
          "standoff": 25,
          "text": "Total Profit Percentage (in %)"
         }
        },
        "yaxis": {
         "showticklabels": false
        }
       }
      }
     },
     "metadata": {},
     "output_type": "display_data"
    }
   ],
   "source": [
    "fig_output = get_meanplot_total_profit_diff_time_to_chart(df_sim_results, list_feat[0])"
   ]
  },
  {
   "attachments": {},
   "cell_type": "markdown",
   "metadata": {},
   "source": [
    "### `ccy=BTCUSDT` & `feat_package=2` "
   ]
  },
  {
   "attachments": {},
   "cell_type": "markdown",
   "metadata": {},
   "source": [
    "#### Parameters"
   ]
  },
  {
   "cell_type": "code",
   "execution_count": 43,
   "metadata": {},
   "outputs": [],
   "source": [
    "#list_ccy = ['BTCUSDT', 'BNBUSDT', 'ETHUSDT']\n",
    "#list_timestamp = [\"1d\", \"1h\", \"15m\", \"5m\"]\n",
    "#list_feat = ['1', '2', '3']\n",
    "\n",
    "list_ccy = ['BTCUSDT']\n",
    "#list_timestamp = [\"1d\", \"1h\", \"15m\", \"5m\"]\n",
    "list_timestamp = [\"1d\", \"1h\", \"15m\"]\n",
    "list_feat = ['2']\n",
    "\n",
    "list_config_file_name = []\n",
    "for ccy in list_ccy:\n",
    "    for timestamp in list_timestamp:\n",
    "        for feat in list_feat:\n",
    "            config_file_name = \"config_msc_\" + ccy + \"_\" + timestamp + \"_feat_package\" + feat\n",
    "            list_config_file_name.append(config_file_name)"
   ]
  },
  {
   "attachments": {},
   "cell_type": "markdown",
   "metadata": {},
   "source": [
    "#### Get the data"
   ]
  },
  {
   "cell_type": "code",
   "execution_count": 44,
   "metadata": {},
   "outputs": [],
   "source": [
    "df_sim_results = pd.DataFrame()\n",
    "for config_file_name in list_config_file_name:\n",
    "    df_sim_results_temp = get_and_process_simulation_data(config_file_name)\n",
    "    df_sim_results_temp['config_file_name'] = config_file_name\n",
    "    df_sim_results = pd.concat([df_sim_results, df_sim_results_temp], axis=0)"
   ]
  },
  {
   "attachments": {},
   "cell_type": "markdown",
   "metadata": {},
   "source": [
    "#### Plot the results"
   ]
  },
  {
   "cell_type": "code",
   "execution_count": 45,
   "metadata": {},
   "outputs": [
    {
     "data": {
      "application/vnd.plotly.v1+json": {
       "config": {
        "plotlyServerURL": "https://plot.ly"
       },
       "data": [
        {
         "line": {
          "color": "green"
         },
         "name": "15min",
         "showlegend": false,
         "type": "box",
         "xaxis": "x",
         "y": [
          -65.84887974816142,
          -67.24612913264329,
          -64.02224049600329,
          -65.99787624739947,
          -57.72066589318512,
          -60.027062746219364,
          -58.51442734717782,
          -59.24858898625435,
          -61.53904619999597,
          -64.45654819885489,
          -61.51997295619738,
          -60.958212741099274,
          -67.77843724246391,
          -65.68612186308047,
          -65.83847177390933,
          -61.57738167834373,
          -61.984099311886084,
          -62.645739992782666,
          -63.133466470609136,
          -57.90590759673524,
          -61.857701655045716,
          -62.4397866171698,
          -66.27391989472471,
          -65.9851177222942,
          -61.84608566380887,
          -61.330848709934706,
          -56.71519376925114,
          -67.03300759020337,
          -60.38617603943053,
          -64.60001252186703,
          -58.72564539209131,
          -66.7948775190386,
          -60.39861020906554,
          -66.36243778976863,
          -63.52763423011471,
          -60.674890589801045,
          -67.45044679242027,
          -64.6009060343148,
          -64.81417506516556,
          -58.67305448190246,
          -62.88813157995802,
          -63.735690050908374,
          -61.15944870909005,
          -64.83023978620352,
          -57.4223100225545,
          -61.02949112459199,
          -61.97353774729593,
          -63.60371208733851,
          -64.30843134632995,
          -60.7882351666245,
          -63.62528167384907,
          -65.57969578242404,
          -62.011941423811834,
          -58.75357833845596,
          -64.00053113182378,
          -63.41337151497921,
          -55.218413125103716,
          -69.55597360604642,
          -66.51218508388052,
          -63.054260368205895,
          -64.33449964897966,
          -64.71038642134926,
          -68.3995703622085,
          -59.25372310235299,
          -60.21690977104228,
          -64.3373321428555,
          -63.99235789603769,
          -66.7918718908774,
          -60.905392496655764,
          -60.51453591921745,
          -64.84932226373719,
          -64.05801281999679,
          -67.36237348276853,
          -65.141314619103,
          -61.12800732239948,
          -61.94599329517736,
          -66.35463334323887,
          -65.6386029862548,
          -62.18986376969533,
          -64.99464139666975,
          -61.799997915998176,
          -67.4987531078449,
          -56.941891265184594,
          -60.356054586471394,
          -64.36817554752527,
          -64.069181435358,
          -64.04318606826156,
          -64.76611219726509,
          -66.43378694897189,
          -65.4530243815988,
          -68.33756718502899,
          -60.78269016033744,
          -64.8117521225797,
          -60.843271356173204,
          -63.15516936703036,
          -64.5236640529529,
          -67.02504519546231,
          -67.20124133677437,
          -61.61489891515972,
          -63.23304465312536
         ],
         "yaxis": "y"
        },
        {
         "line": {
          "color": "orange"
         },
         "name": "1h",
         "showlegend": false,
         "type": "box",
         "xaxis": "x",
         "y": [
          -5.314654645749862,
          2.8732003553064933,
          4.703848599301308,
          -30.43273268731248,
          -35.47069800117308,
          3.261653340301973,
          -38.980234458942405,
          -42.8208352176488,
          -19.61899409192628,
          -18.62356246275809,
          -9.003797714600259,
          -46.10184713698845,
          -14.958815359059418,
          -10.947791858822898,
          -39.830661274506426,
          -27.0149436461425,
          -4.150530057964163,
          -14.638352675381238,
          -27.310328004708307,
          7.73841430107256,
          -32.066490577478405,
          5.180636785812887,
          -53.990521171270146,
          -23.244883209813406,
          -65.80382839556135,
          -47.61629895774788,
          -13.140535451912871,
          -27.089968418756317,
          -22.333983732764707,
          -7.845823429892896,
          -21.035688314622657,
          -37.619311317176276,
          -41.97072375877966,
          -35.061244063558064,
          -39.297525934577635,
          -24.484152059253017,
          -12.160330200922974,
          9.304003051565445,
          -36.07732788613448,
          -50.207019904637264,
          -43.8338941405862,
          0.19689808004499376,
          -34.65416890602167,
          3.2163083910363044,
          2.243078010402244,
          -5.260940887089472,
          5.891717421239107,
          -5.2467269458488675,
          -17.951027612365223,
          -36.2937879742216,
          -43.30118409213439,
          -52.918181238787334,
          -52.74206886944369,
          -44.134670222769024,
          -19.679567642896068,
          -14.514777365216403,
          -55.82438331761015,
          6.107777882927312,
          -31.20388156402193,
          -24.555142034456757,
          -38.86128004314556,
          -48.11691452622112,
          -3.5517719294536065,
          -59.900096043721106,
          -22.4325397977273,
          -35.44286648784956,
          -49.68119983406524,
          -31.070635900401513,
          9.397095743508777,
          -21.071628020482024,
          -18.079221628467714,
          -42.1511773531152,
          -40.66086469700137,
          -14.880096624639606,
          -50.46081565073271,
          -22.678084773174266,
          -22.994550823904337,
          88.78265323898984,
          -28.788537450545515,
          -22.55801208452577,
          -42.54597464934516,
          -1.4739116604508773,
          -39.89234955522326,
          5.320769258394531,
          -48.78964419463633,
          -42.61623948983277,
          -15.692553956126364,
          -56.465168327418645,
          -42.39674579652974,
          -40.53281043571304,
          -39.1434208923949,
          -24.763186277232997,
          12.304256092724408,
          -56.00656653269161,
          -40.406067669260224,
          -62.61287467278505,
          -9.977519252744937,
          -34.057506375937194,
          35.91549668735667,
          -49.08151092961821
         ],
         "yaxis": "y"
        },
        {
         "line": {
          "color": "violet"
         },
         "name": "1d",
         "showlegend": false,
         "type": "box",
         "xaxis": "x",
         "y": [
          -59.64656575759544,
          -48.518593277722466,
          -56.983321692912845,
          -59.57766154009158,
          -0.5646405891570394,
          -34.84443199944431,
          -46.10453962870802,
          -61.09451636437916,
          -42.28159051157402,
          12.263404943355516,
          -40.65379410733865,
          -52.67842271467313,
          -36.716724134965574,
          -27.869666319785825,
          -29.904268126605228,
          -58.093969422693725,
          -38.3232804128191,
          -27.809040815633324,
          -64.88910529758056,
          -37.9846911076602,
          -12.481928212309846,
          -47.02028612066652,
          -57.702154911364055,
          -63.530473681934886,
          0.7168155500925755,
          -7.227926409184471,
          -50.800456956858895,
          -39.00695785476477,
          -47.586444921225294,
          -62.54345640099474,
          -31.411040653191257,
          -19.296905504167185,
          -14.102140217028602,
          -34.127016093290116,
          -30.138846736771153,
          -44.083819731309106,
          -6.524556035267448,
          -21.62851335233459,
          -45.703362114090154,
          -55.779541354067575,
          -49.59090802853484,
          -59.148481575351376,
          -26.03703523082972,
          -40.90848706460983,
          -38.19486782520393,
          -56.76435564122036,
          -12.2029989332731,
          -43.72965092518876,
          -59.01874790544937,
          -43.71320327984063,
          -60.67833783498995,
          -35.3697753693086,
          -50.85055917579089,
          -11.392659132046523,
          -31.34130797091712,
          -40.68078312803277,
          -50.729113388004954,
          -12.300837838643709,
          -43.71228893744474,
          -72.41120432297248,
          -50.22437841936409,
          -41.57867116251109,
          -52.434713844538514,
          -32.394068295643564,
          -18.721968051336823,
          -57.946117260006034,
          -34.82013065032401,
          -57.9683177250419,
          -22.31428846488909,
          -14.43104302481969,
          -63.15468132485942,
          -16.19787006229033,
          -41.54374950226405,
          -54.874959893874035,
          -44.32338990819742,
          -35.554170374937954,
          -25.197759732792115,
          -27.346037644040745,
          -32.13233186722311,
          -56.447681630177904,
          -43.92587762361304,
          -61.67042715228336,
          -58.38709840781331,
          -61.62514341265872,
          -17.658417440458905,
          -66.51382239252054,
          -50.41081329419428,
          -12.478309383553576,
          -47.39159712784154,
          -57.02544565784855,
          -11.333671320813432,
          -18.38451789721509,
          -32.17873372725142,
          -41.752924763468656,
          -38.725949103767356,
          -29.89307283737158,
          -5.807615204425831,
          -29.95701194377324,
          -31.707744318024822,
          -29.194092827854924
         ],
         "yaxis": "y"
        },
        {
         "line": {
          "color": "green"
         },
         "name": "15min",
         "showlegend": false,
         "type": "box",
         "xaxis": "x2",
         "y": [
          -38.310235978450166,
          -52.760974432723195,
          -61.89545685921922,
          -55.468385374245386,
          -45.95525274606703,
          -68.32102497028413,
          -65.77635829737312,
          -31.51287994494435,
          -61.289479363972134,
          -54.76651516927109,
          -68.83452019977237,
          -50.83700472669969,
          -58.17818372590684,
          4.330416220263844,
          -51.295128764514516,
          -51.60086151569554,
          -54.86235185139907,
          -57.90232130867034,
          -59.905570593448985,
          -55.208837056160846,
          -37.01595285324919,
          -63.14393895671476,
          -48.0500137941908,
          -39.60972964657056,
          -62.279872416976346,
          -55.98898059457819,
          -65.22161880879524,
          -58.84947365209179,
          -65.8013191919248,
          -66.97239961612631,
          -73.11648991141821,
          -34.24659930279622,
          -54.42798420359642,
          -58.21315952159489,
          -63.30318871237615,
          -43.76104059464253,
          -52.270321747847646,
          -57.351269432297805,
          -62.395246806149714,
          -40.72272204956883,
          -35.61564915522496,
          -69.48161768995095,
          -51.81619342941832,
          -55.078521802514956,
          -46.620243155319955,
          -53.21550143960909,
          -66.09223999159107,
          -51.62171282726413,
          -41.40850944847456,
          -70.04374972500355,
          -41.35053587043124,
          -63.814408239012344,
          -59.522381104959706,
          -54.71550113390593,
          -52.53247118905355,
          -49.966941047291755,
          -53.032324987934295,
          -46.92762058879298,
          -51.38465494012223,
          -49.537236592291265,
          -64.76552679742737,
          -51.571213190969885,
          -63.56722973114899,
          -55.23747428324117,
          -76.15557208552943,
          -51.60783045942128,
          -39.3813453259841,
          -43.20345958208921,
          -52.136095471780266,
          -75.09603217087886,
          -38.53814437222687,
          -61.07979237738874,
          -55.27312517991483,
          -52.18320918009053,
          -47.64965498667743,
          -49.08040369165194,
          -39.479603583532516,
          -60.01920596673684,
          -62.98455970297705,
          -49.140619815418496,
          -53.15561080927884,
          -41.14188326364546,
          -37.39377843335565,
          -50.7912806781631,
          -44.70057902841877,
          -57.00394521383263,
          -54.942781488647576,
          -36.175598786213456,
          -68.06622670510878,
          -55.009632936732935,
          -62.17183201992087,
          -65.8402564909308,
          -56.61470918637915,
          -52.65682820126712,
          -54.88767775233949,
          -77.2351551106178,
          -57.49670559356335,
          -58.154904609130455,
          -69.96054766716807,
          -53.057300414126715
         ],
         "yaxis": "y2"
        },
        {
         "line": {
          "color": "orange"
         },
         "name": "1h",
         "showlegend": false,
         "type": "box",
         "xaxis": "x2",
         "y": [
          -22.128525497116147,
          -31.31226024057573,
          -33.09601642864393,
          -29.01481783280504,
          -39.101847908544194,
          -1.651648054619692,
          -51.91528353591757,
          -39.75941462341981,
          -46.48797092326393,
          -63.14703026037183,
          -44.06539277801984,
          -61.16297784366493,
          -30.89861998494644,
          -60.796174991432025,
          -69.55749085976419,
          -56.420598669745495,
          -61.61590148772095,
          -51.16393926234517,
          -48.23380561634024,
          -50.971224088152425,
          -48.8510293448384,
          -30.45369434682721,
          -46.272365556172524,
          -56.22706951891274,
          -42.41498867387702,
          -41.93792432398905,
          9.672008562204493,
          -29.395639642120585,
          -19.094268709282858,
          -50.202571221132295,
          -30.054257105501037,
          -54.301106070808714,
          -43.617098653954855,
          -58.44765816841999,
          -41.274771751630425,
          -11.597276334531447,
          -56.354477112120705,
          -59.77609064720608,
          -43.34122218451441,
          -66.72639289538034,
          6.338758133092703,
          -62.826862959216044,
          -18.96603875528784,
          -40.593026675950824,
          -60.09766360613915,
          -42.35585911421871,
          -41.95685846136429,
          -37.70483983312869,
          -65.53116845064363,
          -24.687988800187956,
          -33.81600429897742,
          -75.88990118633583,
          -40.313047647508725,
          -54.874860093623745,
          -53.8446981754767,
          -14.210985869579417,
          -53.397555150831536,
          -50.85601150294023,
          -46.15153068043397,
          -39.1209498398307,
          -46.92124727517375,
          -12.229023173137843,
          -27.17320198228299,
          -61.91170360392846,
          -52.612514180215484,
          -23.771081239709325,
          -23.048354653586923,
          -50.69724809829788,
          -70.4609020620351,
          -34.5787405379747,
          -47.29092902801232,
          -45.7597494804043,
          -61.82871808545127,
          -54.780690867598956,
          -45.56571591514752,
          -7.08106416733556,
          -51.077865456711336,
          -16.02842487596112,
          -54.67416034500323,
          -44.407078677301214,
          -66.06292044582347,
          -30.156965116052948,
          -53.72828479649265,
          -57.78707034255455,
          -19.09169135695373,
          -33.19403380306287,
          -52.6542775915656,
          -29.354325259583902,
          -40.72006775557799,
          -44.0543133950079,
          -15.400466980677374,
          -68.54031069946302,
          -64.06927597618808,
          -49.52608779762067,
          -63.39503017426229,
          8.40955856002803,
          -3.2948763969342876,
          -36.709459564187455,
          -59.75665966428518,
          -67.88948784463808
         ],
         "yaxis": "y2"
        },
        {
         "line": {
          "color": "violet"
         },
         "name": "1d",
         "showlegend": false,
         "type": "box",
         "xaxis": "x2",
         "y": [
          0.9450882395194871,
          -51.87149107599347,
          -46.98431007867002,
          -58.08542765545827,
          -38.804838728646374,
          -50.95102986028082,
          -32.74195437365104,
          -65.24695023680665,
          -46.834153641908536,
          -70.80017161543898,
          -11.396086447801457,
          -33.28423268789407,
          -6.450148671171196,
          -41.41980650423618,
          -41.43940973275573,
          -38.42647842146722,
          -50.86592373888267,
          -57.38762638744335,
          -62.94389776799155,
          -59.32295880637335,
          -59.35102214450742,
          -40.86990601340925,
          -9.586012959431633,
          -52.684378166964294,
          -63.907611164530806,
          -36.463795711964984,
          -57.77188587723393,
          -26.95437565167732,
          -34.666219620061824,
          -38.118240580806514,
          -57.74457073611548,
          -45.70417261863432,
          27.715085329705236,
          -34.88355205979128,
          -42.84608756493904,
          -23.88711141823302,
          -27.428950364804194,
          -52.32187060707947,
          -55.878185802846026,
          -63.21904659864255,
          -25.23041117490483,
          -38.59750013040587,
          -42.12578238519469,
          -45.358800742911875,
          -59.34851441273936,
          -23.425643017526887,
          -42.62568203312343,
          -35.84191730461953,
          -37.43898408555793,
          -34.02999230632815,
          -56.28657178235535,
          -30.85220431388561,
          -45.83786606241355,
          -39.41916040587351,
          -41.78643458924309,
          -34.5949826268392,
          -32.27911720441481,
          -32.42737355910336,
          -45.285565299926944,
          -25.395038865730413,
          16.01072887174986,
          -32.97711330571419,
          -11.186276031223418,
          -59.476375173951055,
          -58.49390957257601,
          -46.11177021752199,
          -72.41401223842622,
          -18.80417339007362,
          -35.83861252447813,
          -17.67922513613356,
          -55.654875914628434,
          -15.958851639555881,
          -60.70296028572141,
          -34.96126393062379,
          -34.85213331549013,
          -65.0883218545994,
          -37.373459435970105,
          -39.592745376294346,
          -53.065212820027305,
          -52.61070191657986,
          -54.661175888639036,
          -44.259888814198334,
          -46.06907860980469,
          -37.13648420474662,
          -45.96666116305934,
          -36.45405224732401,
          -25.535380659972297,
          -41.47197955740458,
          -45.12723275626244,
          -27.701821505536227,
          -56.68807668534963,
          -50.552712337870176,
          -6.330516366855276,
          8.33229713959156,
          -33.931661548990775,
          -10.421336960832338,
          -48.52401307870904,
          -42.904007579562794,
          -20.36722449988414,
          1.4192999018740826
         ],
         "yaxis": "y2"
        },
        {
         "line": {
          "color": "green"
         },
         "name": "15min",
         "showlegend": false,
         "type": "box",
         "xaxis": "x3",
         "y": [
          4.9166378733378036,
          10.752485612288542,
          0.45163785346125085,
          10.79678187151738,
          24.07224921514657,
          0.30437021275349085,
          0.15697367658451533,
          7.280504638909324,
          8.552811731273223,
          8.006412610386636,
          18.502911089934003,
          5.438492662761263,
          -2.142382241439922,
          0.03250508905445759,
          -0.2272973728748351,
          16.624993433538048,
          26.697767615565617,
          13.841814002486363,
          -3.376248987997421,
          12.894365048807433,
          6.535691238601649,
          11.498478413586666,
          20.245777846367474,
          -0.6625974204095941,
          4.756765844491717,
          13.09718981024841,
          7.189776043422036,
          25.326165312728065,
          8.805527971877392,
          6.811021840243048,
          13.762103525033108,
          -4.252944700354455,
          2.9933313796187244,
          23.826568603258135,
          6.3730097055935575,
          15.819467890815764,
          13.30718195341396,
          14.43165766599417,
          28.04595085070012,
          11.177584237266935,
          5.690609290031334,
          9.781422067468014,
          2.322282989206359,
          27.90686172466419,
          12.890809912788148,
          20.612147373850487,
          23.66452105467385,
          37.227944416667704,
          9.056088131731045,
          32.11525447779915,
          13.89717310683627,
          -6.266889300030765,
          4.812323553944564,
          -4.418415782682605,
          2.680638012056824,
          18.008016343166556,
          2.9495717559863133,
          16.175974947977203,
          2.0233760012187574,
          7.904874159260911,
          7.922879819002682,
          -3.3628626029177044,
          -1.7068310424684818,
          8.242873875159207,
          16.038865533637427,
          16.57091790554739,
          -7.945593772099391,
          2.634268018741781,
          -2.1393679269306243,
          8.929904488406692,
          11.51261894339266,
          11.132952344910784,
          5.966225728983732,
          1.320354523438927,
          11.494352920613915,
          12.472428299428962,
          1.3354124008870816,
          10.140220973420178,
          -1.5581373302391177,
          -19.124549999605446,
          -1.3954973143023408,
          -8.379992019506666,
          19.0195693978356,
          14.227609040576162,
          7.382569184122878,
          10.266689541876527,
          -1.2074752514900866,
          15.088284924118799,
          1.3428718827986241,
          16.769585618569117,
          2.9203036413972816,
          13.256735214775727,
          0.9119463166759711,
          13.741401677811037,
          11.048023736146773,
          21.706340439243,
          21.09758043608474,
          14.39467643929282,
          0.29340655291301143,
          3.8742082875077077
         ],
         "yaxis": "y3"
        },
        {
         "line": {
          "color": "orange"
         },
         "name": "1h",
         "showlegend": false,
         "type": "box",
         "xaxis": "x3",
         "y": [
          -38.888781523763704,
          -17.407779848832185,
          -33.933638243418585,
          -47.913790866107334,
          -47.76145242783563,
          -15.676197220185362,
          -43.038495532014444,
          -44.75318161575493,
          -56.399609590351176,
          -60.93550668450571,
          -41.91550171008821,
          -34.31936291399988,
          -47.495229666514184,
          -21.956308427889503,
          -48.65726582531013,
          -50.25326747029624,
          -58.18440482134963,
          -22.387103433494005,
          -17.505305243191195,
          -44.83310907808081,
          -36.59300292175922,
          -32.5254018549636,
          5.456784576247964,
          -37.78937198047308,
          -10.404613427773713,
          -43.90589875883577,
          -46.06345946737084,
          -61.82087722815992,
          -62.55192201963622,
          -59.04674345201577,
          -44.66593843792403,
          -32.964731600923805,
          -22.771921788550642,
          -19.928361823398255,
          -13.541817354253926,
          -36.03995950301881,
          -42.19547495822601,
          -42.73512790214921,
          -16.775938805249492,
          10.301109668957453,
          -22.44190448454867,
          -40.46958375881502,
          -50.35200433423499,
          -47.94602422837809,
          -20.810436409187073,
          -40.475990687390194,
          -51.618065373657686,
          -61.057885567685446,
          -57.102631710222475,
          -62.72991103226923,
          -31.451199761810102,
          -39.132971634726474,
          -28.583466146483826,
          -28.45092843029685,
          -41.386277048744255,
          -20.095318349772462,
          -25.48475303084683,
          -48.711138224490384,
          -15.643563260423443,
          -58.42855938541884,
          -42.20513561775419,
          -50.70406909040494,
          -43.76600813979348,
          -57.24943205035712,
          -36.12262542964465,
          -36.3682088285285,
          -69.5099061650086,
          -30.513309604788063,
          -37.128663659317674,
          -41.61411780475762,
          -42.17451879201787,
          -43.161751343987206,
          -26.481766445799792,
          -56.050020179589524,
          -50.215121594303646,
          -35.33533925031047,
          -35.12066742438942,
          -37.91498550486071,
          -47.99566002221478,
          -55.81104141170768,
          -58.4279324248142,
          -25.6669967690113,
          -41.4826783443628,
          -65.86376945928988,
          -54.08969835468067,
          -40.97993035194194,
          -42.7130436193564,
          -67.30882368892063,
          -36.01397244746766,
          11.511472086470187,
          -58.81172338271088,
          -48.78971319694564,
          6.823760818635005,
          26.695894448251,
          -37.68160535445214,
          -34.735122301179864,
          -34.49308627054085,
          -72.95951748105153,
          -44.095198680030855,
          -38.61184681947027
         ],
         "yaxis": "y3"
        },
        {
         "line": {
          "color": "violet"
         },
         "name": "1d",
         "showlegend": false,
         "type": "box",
         "xaxis": "x3",
         "y": [
          -56.26942210244861,
          -0.01429588889378941,
          -51.45270741329875,
          3.2247143592941674,
          -40.410075488030586,
          -51.3730600585385,
          -7.695738264381502,
          -28.091045409794223,
          -30.127622298057734,
          -35.52985649212887,
          -35.100297399409875,
          -37.89542072703998,
          -11.55179037905043,
          -39.04152201777381,
          -6.2324699204855065,
          -1.8419500868421368,
          -23.119486467732596,
          -36.22829138343624,
          -48.17197953564758,
          -50.449219390233345,
          -8.59231743670794,
          0,
          -57.10854147007598,
          -55.416491813556505,
          -45.459447348807494,
          -30.19883669574869,
          30.05381626832704,
          -35.819181492000396,
          -9.986162753548689,
          -32.54528100636187,
          -19.433506323772853,
          -52.16605144423063,
          -24.304407798844206,
          12.797600481011862,
          -35.9818960202986,
          -9.204635196037781,
          -16.17035779142133,
          -33.63156328662029,
          -9.570856890443336,
          -45.160527124496994,
          -18.444057031490136,
          -27.03906760775339,
          -50.76056665045733,
          -47.80037206569424,
          3.2402329597074564,
          -48.238395053515795,
          -28.448052839894633,
          -58.470220697308065,
          -51.62881954542582,
          -21.397504085906494,
          -54.43103033850735,
          -34.689175276764026,
          -43.27793579878333,
          -47.54717804849468,
          -27.01497836862027,
          -52.58787580207071,
          -0.7650160342023371,
          11.84100225731488,
          21.126661396377976,
          -28.24693092644668,
          -48.39561856240443,
          -41.03502589953075,
          34.88551654261176,
          -56.07111379982446,
          -28.39748978330363,
          -14.602833016992712,
          -40.30056933948399,
          12.736032928095419,
          -52.93669910350282,
          -31.433309131318254,
          19.96401675632118,
          -6.189136503757664,
          -23.445442079860012,
          -22.88440585882632,
          -54.69915824325089,
          -45.16217340148406,
          0,
          -25.906777122847046,
          -19.3515532604,
          -56.36884080740444,
          -42.03874188044552,
          23.51195881041017,
          -56.97680467104729,
          -26.294146286737565,
          -2.2974306481395534,
          -24.416871874943457,
          -54.43900505463174,
          -22.781770905512943,
          -9.95931371961486,
          -9.523427780620208,
          -40.00030470601711,
          -31.44589143224342,
          -32.41233633030218,
          15.35858644014021,
          -49.55417973323137,
          -39.32715005681649,
          -52.11415319741872,
          -1.870197110477656,
          -44.768193814379075,
          -1.4277479913437752
         ],
         "yaxis": "y3"
        },
        {
         "line": {
          "color": "green"
         },
         "name": "15min",
         "showlegend": false,
         "type": "box",
         "xaxis": "x4",
         "y": [
          -37.40566803615728,
          -33.84163401154375,
          -23.61908090578907,
          -45.42893196502135,
          -53.35264530312595,
          -19.271727809933616,
          -49.67046258892223,
          -2.9615697268115637,
          -28.30969634283719,
          -61.83873307245382,
          -45.11028953023977,
          -58.42440875586321,
          -11.949807864626226,
          43.72266165848904,
          -28.161561124954016,
          -29.3622781811957,
          -49.48553796665759,
          -36.279193172215784,
          -36.81988958584967,
          -26.095625196794593,
          -41.667719450454356,
          -41.437944622149494,
          -58.66004725682361,
          -29.49306069890829,
          -45.22451100375824,
          -15.620254510481303,
          -17.321258233307766,
          -51.1331949768791,
          -32.3706408194696,
          -43.44736381338434,
          -24.3198034047293,
          -44.83782700609389,
          -57.03367342214848,
          -13.103664053636377,
          -47.81279260516028,
          -65.49375541530547,
          -41.674145640274006,
          -58.58681886569273,
          -42.27289622510677,
          -47.81120061967984,
          -28.484385203053975,
          -49.31286093084118,
          -62.25562913804295,
          -45.84317161779522,
          -23.348567298550037,
          -49.54226385875036,
          -40.49945279134028,
          -56.27992644308857,
          -43.46261251079293,
          -66.97184426586097,
          -40.69643721545777,
          -59.26732118020208,
          -43.17249492842162,
          -59.401853459803064,
          -25.464319475272102,
          -19.029519689936524,
          -35.48051510799278,
          -48.240595459108185,
          -39.844871606966414,
          -44.688061246291156,
          -31.701375315760682,
          -30.335660709897493,
          -49.76328604727702,
          -2.49337175387786,
          -27.757018811194513,
          -57.53635733246378,
          8.70229578261592,
          -22.467773666391764,
          -59.73295871858648,
          -58.41980798411042,
          -30.15071303269873,
          -40.07090347694399,
          -47.96279969651835,
          -17.657905571626596,
          24.587578164359634,
          -51.92108523087451,
          -53.69614120574664,
          -31.41302313864808,
          -8.827507133572364,
          -65.09822922818971,
          -39.6418769901425,
          -49.55291935330789,
          -51.82754534641667,
          1.4706182999172368,
          -58.487425157054986,
          -38.31600838126709,
          -70.10255084879158,
          -30.9317474635473,
          -51.20660905564309,
          -46.79936268068611,
          -23.668953332109343,
          -54.51814429204633,
          -52.98689358338535,
          -18.697786796056015,
          -26.738381098696852,
          -62.63073998856654,
          -43.49277562158902,
          -44.08368145923771,
          -56.5021103246242,
          -42.8387931725711
         ],
         "yaxis": "y4"
        },
        {
         "line": {
          "color": "orange"
         },
         "name": "1h",
         "showlegend": false,
         "type": "box",
         "xaxis": "x4",
         "y": [
          -25.391272522010155,
          -52.91599163648005,
          -36.00734117615983,
          -53.87524127727312,
          -42.36473014388756,
          -43.6640297422498,
          -0.15351918822661403,
          -57.71263163629984,
          -55.40325404505305,
          -23.68006754222831,
          -4.083505282941912,
          -38.76041987544998,
          -33.49504135675681,
          -15.935004832984045,
          -37.20225729084717,
          -27.362020363182417,
          -33.83932327723409,
          -50.608761580867856,
          18.428522893801723,
          -68.97429664526454,
          -50.945614605446195,
          -60.94060547230683,
          -19.21140805089989,
          -31.061644175221048,
          -31.8265920567936,
          -54.71493919288986,
          -50.36697269616472,
          -58.69722053758959,
          -19.415484624514455,
          -37.36317431829863,
          -34.45689960063329,
          -36.282116859282546,
          -46.85726757857256,
          -41.75749603641206,
          -55.69502227450727,
          -65.79612418645122,
          -50.080412312054776,
          -42.1403172828276,
          -26.66283547162682,
          -45.47099627859531,
          -52.14372637557392,
          -41.52361111923219,
          -29.321902533210555,
          -60.26374525965122,
          -32.115211192727834,
          -32.27334565456753,
          -37.70674697198948,
          7.268868907825432,
          -60.235458210247806,
          -31.914545401738593,
          -6.8010448689273195,
          -45.56206626389907,
          -47.104833007225345,
          -3.0291429391379743,
          -43.30946164333004,
          3.8724423918156337,
          -47.51546640410429,
          -46.5812465120694,
          -53.810674008640866,
          -70.7430944860233,
          -60.97776472507306,
          -59.65190331562519,
          -9.429262201077703,
          -33.680456059355166,
          -54.2238294877003,
          -43.995287254790085,
          14.00847216815495,
          -35.33133925473273,
          -60.66910995904236,
          -48.43490895083463,
          -52.10616989411682,
          -50.87364578802234,
          -40.79211875982926,
          -18.751433537984074,
          -43.14920559892516,
          -46.311001899015146,
          -26.446209641902307,
          -44.98556805828875,
          -42.49939673821079,
          -65.49974770206745,
          -64.67847935552207,
          -41.87834382565685,
          -49.29108897229406,
          -34.44783047242911,
          -21.006826131839375,
          -43.422382098131116,
          -31.369029569610174,
          -63.88366621103154,
          -32.934792704027984,
          -56.15056693703955,
          -34.73801634757693,
          -32.251798213399084,
          -28.06038866406717,
          -64.4509778257964,
          -14.88676615830834,
          -35.67823677190434,
          -63.56168279782589,
          -68.0735884790929,
          -33.36938204820664,
          -61.97325632517864
         ],
         "yaxis": "y4"
        },
        {
         "line": {
          "color": "violet"
         },
         "name": "1d",
         "showlegend": false,
         "type": "box",
         "xaxis": "x4",
         "y": [
          -57.45703734562409,
          -45.53908220236149,
          -50.95074656214528,
          -35.70051681436242,
          -41.324868005359896,
          -57.554468422866314,
          -44.85043229166992,
          -48.96562260159973,
          -53.04718914512554,
          -44.464576251266664,
          -47.796749125217644,
          -30.139360213915346,
          -54.10736202304503,
          -54.74822936520041,
          -46.5810052001139,
          -55.51185454396557,
          -37.07693869579576,
          -45.19976568710584,
          -70.72617645495369,
          -24.633708387746033,
          -21.18675415154877,
          -58.37210198498318,
          -49.15581009796895,
          -42.03937120110165,
          -22.913862886841297,
          -10.344830822270445,
          -36.28889510046464,
          -60.31304672029819,
          -62.21881760430208,
          -73.84242135032596,
          -65.2450987009814,
          -7.367487054968014,
          -34.08427596818902,
          -69.08536807671182,
          -68.00404430992432,
          -54.93533549496714,
          -2.0663813775010142,
          -48.92410743064407,
          -52.07928000041849,
          -53.73414521473134,
          -46.29654476374472,
          -70.3069497319665,
          -60.454318967967225,
          -53.375318154107745,
          -45.78974502158572,
          -66.6419743783658,
          -31.446530513764394,
          -36.98331075230363,
          -41.83804183722501,
          -32.36923839447439,
          -25.5158001481007,
          -45.01200904829668,
          -30.384902400703552,
          -35.684042406975394,
          -62.42256638839252,
          -17.81988114507812,
          -31.438641314490525,
          -45.28452954085837,
          -43.753671459958234,
          -36.345285605113176,
          -27.780079830407445,
          -38.74036370911676,
          -50.89708072305823,
          -27.817247677376745,
          -53.09720193788245,
          -49.649389686763456,
          -44.93388834367942,
          -69.8655369078911,
          -3.87636333197654,
          -74.33646149825277,
          -42.48520543122335,
          -32.552372812632214,
          -28.2498966494672,
          -51.92003552138893,
          -27.91358675565845,
          -28.347354663872203,
          -51.6235728042495,
          -27.0556955469892,
          -50.83457042347093,
          -33.638175547771276,
          -19.79960620096176,
          -33.54333793970039,
          -30.2082121049396,
          -56.99422382902415,
          7.422744474460541,
          -55.11074672255801,
          -14.531132986860651,
          -48.498468162201426,
          -65.70616932919621,
          -49.36816248820747,
          -40.7537754370148,
          -36.201815384747896,
          -36.25728199522472,
          -38.1257252215952,
          6.940975124763726,
          -12.100408413677965,
          -23.79768707612214,
          -61.53932214788133,
          -50.30613752718558,
          -24.547607694141917
         ],
         "yaxis": "y4"
        }
       ],
       "layout": {
        "annotations": [
         {
          "font": {
           "size": 16
          },
          "showarrow": false,
          "text": "A2C",
          "x": 0.225,
          "xanchor": "center",
          "xref": "paper",
          "y": 1,
          "yanchor": "bottom",
          "yref": "paper"
         },
         {
          "font": {
           "size": 16
          },
          "showarrow": false,
          "text": "PPO",
          "x": 0.775,
          "xanchor": "center",
          "xref": "paper",
          "y": 1,
          "yanchor": "bottom",
          "yref": "paper"
         },
         {
          "font": {
           "size": 16
          },
          "showarrow": false,
          "text": "DQN",
          "x": 0.225,
          "xanchor": "center",
          "xref": "paper",
          "y": 0.375,
          "yanchor": "bottom",
          "yref": "paper"
         },
         {
          "font": {
           "size": 16
          },
          "showarrow": false,
          "text": "RANDOM",
          "x": 0.775,
          "xanchor": "center",
          "xref": "paper",
          "y": 0.375,
          "yanchor": "bottom",
          "yref": "paper"
         }
        ],
        "height": 800,
        "template": {
         "data": {
          "bar": [
           {
            "error_x": {
             "color": "#2a3f5f"
            },
            "error_y": {
             "color": "#2a3f5f"
            },
            "marker": {
             "line": {
              "color": "#E5ECF6",
              "width": 0.5
             },
             "pattern": {
              "fillmode": "overlay",
              "size": 10,
              "solidity": 0.2
             }
            },
            "type": "bar"
           }
          ],
          "barpolar": [
           {
            "marker": {
             "line": {
              "color": "#E5ECF6",
              "width": 0.5
             },
             "pattern": {
              "fillmode": "overlay",
              "size": 10,
              "solidity": 0.2
             }
            },
            "type": "barpolar"
           }
          ],
          "carpet": [
           {
            "aaxis": {
             "endlinecolor": "#2a3f5f",
             "gridcolor": "white",
             "linecolor": "white",
             "minorgridcolor": "white",
             "startlinecolor": "#2a3f5f"
            },
            "baxis": {
             "endlinecolor": "#2a3f5f",
             "gridcolor": "white",
             "linecolor": "white",
             "minorgridcolor": "white",
             "startlinecolor": "#2a3f5f"
            },
            "type": "carpet"
           }
          ],
          "choropleth": [
           {
            "colorbar": {
             "outlinewidth": 0,
             "ticks": ""
            },
            "type": "choropleth"
           }
          ],
          "contour": [
           {
            "colorbar": {
             "outlinewidth": 0,
             "ticks": ""
            },
            "colorscale": [
             [
              0,
              "#0d0887"
             ],
             [
              0.1111111111111111,
              "#46039f"
             ],
             [
              0.2222222222222222,
              "#7201a8"
             ],
             [
              0.3333333333333333,
              "#9c179e"
             ],
             [
              0.4444444444444444,
              "#bd3786"
             ],
             [
              0.5555555555555556,
              "#d8576b"
             ],
             [
              0.6666666666666666,
              "#ed7953"
             ],
             [
              0.7777777777777778,
              "#fb9f3a"
             ],
             [
              0.8888888888888888,
              "#fdca26"
             ],
             [
              1,
              "#f0f921"
             ]
            ],
            "type": "contour"
           }
          ],
          "contourcarpet": [
           {
            "colorbar": {
             "outlinewidth": 0,
             "ticks": ""
            },
            "type": "contourcarpet"
           }
          ],
          "heatmap": [
           {
            "colorbar": {
             "outlinewidth": 0,
             "ticks": ""
            },
            "colorscale": [
             [
              0,
              "#0d0887"
             ],
             [
              0.1111111111111111,
              "#46039f"
             ],
             [
              0.2222222222222222,
              "#7201a8"
             ],
             [
              0.3333333333333333,
              "#9c179e"
             ],
             [
              0.4444444444444444,
              "#bd3786"
             ],
             [
              0.5555555555555556,
              "#d8576b"
             ],
             [
              0.6666666666666666,
              "#ed7953"
             ],
             [
              0.7777777777777778,
              "#fb9f3a"
             ],
             [
              0.8888888888888888,
              "#fdca26"
             ],
             [
              1,
              "#f0f921"
             ]
            ],
            "type": "heatmap"
           }
          ],
          "heatmapgl": [
           {
            "colorbar": {
             "outlinewidth": 0,
             "ticks": ""
            },
            "colorscale": [
             [
              0,
              "#0d0887"
             ],
             [
              0.1111111111111111,
              "#46039f"
             ],
             [
              0.2222222222222222,
              "#7201a8"
             ],
             [
              0.3333333333333333,
              "#9c179e"
             ],
             [
              0.4444444444444444,
              "#bd3786"
             ],
             [
              0.5555555555555556,
              "#d8576b"
             ],
             [
              0.6666666666666666,
              "#ed7953"
             ],
             [
              0.7777777777777778,
              "#fb9f3a"
             ],
             [
              0.8888888888888888,
              "#fdca26"
             ],
             [
              1,
              "#f0f921"
             ]
            ],
            "type": "heatmapgl"
           }
          ],
          "histogram": [
           {
            "marker": {
             "pattern": {
              "fillmode": "overlay",
              "size": 10,
              "solidity": 0.2
             }
            },
            "type": "histogram"
           }
          ],
          "histogram2d": [
           {
            "colorbar": {
             "outlinewidth": 0,
             "ticks": ""
            },
            "colorscale": [
             [
              0,
              "#0d0887"
             ],
             [
              0.1111111111111111,
              "#46039f"
             ],
             [
              0.2222222222222222,
              "#7201a8"
             ],
             [
              0.3333333333333333,
              "#9c179e"
             ],
             [
              0.4444444444444444,
              "#bd3786"
             ],
             [
              0.5555555555555556,
              "#d8576b"
             ],
             [
              0.6666666666666666,
              "#ed7953"
             ],
             [
              0.7777777777777778,
              "#fb9f3a"
             ],
             [
              0.8888888888888888,
              "#fdca26"
             ],
             [
              1,
              "#f0f921"
             ]
            ],
            "type": "histogram2d"
           }
          ],
          "histogram2dcontour": [
           {
            "colorbar": {
             "outlinewidth": 0,
             "ticks": ""
            },
            "colorscale": [
             [
              0,
              "#0d0887"
             ],
             [
              0.1111111111111111,
              "#46039f"
             ],
             [
              0.2222222222222222,
              "#7201a8"
             ],
             [
              0.3333333333333333,
              "#9c179e"
             ],
             [
              0.4444444444444444,
              "#bd3786"
             ],
             [
              0.5555555555555556,
              "#d8576b"
             ],
             [
              0.6666666666666666,
              "#ed7953"
             ],
             [
              0.7777777777777778,
              "#fb9f3a"
             ],
             [
              0.8888888888888888,
              "#fdca26"
             ],
             [
              1,
              "#f0f921"
             ]
            ],
            "type": "histogram2dcontour"
           }
          ],
          "mesh3d": [
           {
            "colorbar": {
             "outlinewidth": 0,
             "ticks": ""
            },
            "type": "mesh3d"
           }
          ],
          "parcoords": [
           {
            "line": {
             "colorbar": {
              "outlinewidth": 0,
              "ticks": ""
             }
            },
            "type": "parcoords"
           }
          ],
          "pie": [
           {
            "automargin": true,
            "type": "pie"
           }
          ],
          "scatter": [
           {
            "fillpattern": {
             "fillmode": "overlay",
             "size": 10,
             "solidity": 0.2
            },
            "type": "scatter"
           }
          ],
          "scatter3d": [
           {
            "line": {
             "colorbar": {
              "outlinewidth": 0,
              "ticks": ""
             }
            },
            "marker": {
             "colorbar": {
              "outlinewidth": 0,
              "ticks": ""
             }
            },
            "type": "scatter3d"
           }
          ],
          "scattercarpet": [
           {
            "marker": {
             "colorbar": {
              "outlinewidth": 0,
              "ticks": ""
             }
            },
            "type": "scattercarpet"
           }
          ],
          "scattergeo": [
           {
            "marker": {
             "colorbar": {
              "outlinewidth": 0,
              "ticks": ""
             }
            },
            "type": "scattergeo"
           }
          ],
          "scattergl": [
           {
            "marker": {
             "colorbar": {
              "outlinewidth": 0,
              "ticks": ""
             }
            },
            "type": "scattergl"
           }
          ],
          "scattermapbox": [
           {
            "marker": {
             "colorbar": {
              "outlinewidth": 0,
              "ticks": ""
             }
            },
            "type": "scattermapbox"
           }
          ],
          "scatterpolar": [
           {
            "marker": {
             "colorbar": {
              "outlinewidth": 0,
              "ticks": ""
             }
            },
            "type": "scatterpolar"
           }
          ],
          "scatterpolargl": [
           {
            "marker": {
             "colorbar": {
              "outlinewidth": 0,
              "ticks": ""
             }
            },
            "type": "scatterpolargl"
           }
          ],
          "scatterternary": [
           {
            "marker": {
             "colorbar": {
              "outlinewidth": 0,
              "ticks": ""
             }
            },
            "type": "scatterternary"
           }
          ],
          "surface": [
           {
            "colorbar": {
             "outlinewidth": 0,
             "ticks": ""
            },
            "colorscale": [
             [
              0,
              "#0d0887"
             ],
             [
              0.1111111111111111,
              "#46039f"
             ],
             [
              0.2222222222222222,
              "#7201a8"
             ],
             [
              0.3333333333333333,
              "#9c179e"
             ],
             [
              0.4444444444444444,
              "#bd3786"
             ],
             [
              0.5555555555555556,
              "#d8576b"
             ],
             [
              0.6666666666666666,
              "#ed7953"
             ],
             [
              0.7777777777777778,
              "#fb9f3a"
             ],
             [
              0.8888888888888888,
              "#fdca26"
             ],
             [
              1,
              "#f0f921"
             ]
            ],
            "type": "surface"
           }
          ],
          "table": [
           {
            "cells": {
             "fill": {
              "color": "#EBF0F8"
             },
             "line": {
              "color": "white"
             }
            },
            "header": {
             "fill": {
              "color": "#C8D4E3"
             },
             "line": {
              "color": "white"
             }
            },
            "type": "table"
           }
          ]
         },
         "layout": {
          "annotationdefaults": {
           "arrowcolor": "#2a3f5f",
           "arrowhead": 0,
           "arrowwidth": 1
          },
          "autotypenumbers": "strict",
          "coloraxis": {
           "colorbar": {
            "outlinewidth": 0,
            "ticks": ""
           }
          },
          "colorscale": {
           "diverging": [
            [
             0,
             "#8e0152"
            ],
            [
             0.1,
             "#c51b7d"
            ],
            [
             0.2,
             "#de77ae"
            ],
            [
             0.3,
             "#f1b6da"
            ],
            [
             0.4,
             "#fde0ef"
            ],
            [
             0.5,
             "#f7f7f7"
            ],
            [
             0.6,
             "#e6f5d0"
            ],
            [
             0.7,
             "#b8e186"
            ],
            [
             0.8,
             "#7fbc41"
            ],
            [
             0.9,
             "#4d9221"
            ],
            [
             1,
             "#276419"
            ]
           ],
           "sequential": [
            [
             0,
             "#0d0887"
            ],
            [
             0.1111111111111111,
             "#46039f"
            ],
            [
             0.2222222222222222,
             "#7201a8"
            ],
            [
             0.3333333333333333,
             "#9c179e"
            ],
            [
             0.4444444444444444,
             "#bd3786"
            ],
            [
             0.5555555555555556,
             "#d8576b"
            ],
            [
             0.6666666666666666,
             "#ed7953"
            ],
            [
             0.7777777777777778,
             "#fb9f3a"
            ],
            [
             0.8888888888888888,
             "#fdca26"
            ],
            [
             1,
             "#f0f921"
            ]
           ],
           "sequentialminus": [
            [
             0,
             "#0d0887"
            ],
            [
             0.1111111111111111,
             "#46039f"
            ],
            [
             0.2222222222222222,
             "#7201a8"
            ],
            [
             0.3333333333333333,
             "#9c179e"
            ],
            [
             0.4444444444444444,
             "#bd3786"
            ],
            [
             0.5555555555555556,
             "#d8576b"
            ],
            [
             0.6666666666666666,
             "#ed7953"
            ],
            [
             0.7777777777777778,
             "#fb9f3a"
            ],
            [
             0.8888888888888888,
             "#fdca26"
            ],
            [
             1,
             "#f0f921"
            ]
           ]
          },
          "colorway": [
           "#636efa",
           "#EF553B",
           "#00cc96",
           "#ab63fa",
           "#FFA15A",
           "#19d3f3",
           "#FF6692",
           "#B6E880",
           "#FF97FF",
           "#FECB52"
          ],
          "font": {
           "color": "#2a3f5f"
          },
          "geo": {
           "bgcolor": "white",
           "lakecolor": "white",
           "landcolor": "#E5ECF6",
           "showlakes": true,
           "showland": true,
           "subunitcolor": "white"
          },
          "hoverlabel": {
           "align": "left"
          },
          "hovermode": "closest",
          "mapbox": {
           "style": "light"
          },
          "paper_bgcolor": "white",
          "plot_bgcolor": "#E5ECF6",
          "polar": {
           "angularaxis": {
            "gridcolor": "white",
            "linecolor": "white",
            "ticks": ""
           },
           "bgcolor": "#E5ECF6",
           "radialaxis": {
            "gridcolor": "white",
            "linecolor": "white",
            "ticks": ""
           }
          },
          "scene": {
           "xaxis": {
            "backgroundcolor": "#E5ECF6",
            "gridcolor": "white",
            "gridwidth": 2,
            "linecolor": "white",
            "showbackground": true,
            "ticks": "",
            "zerolinecolor": "white"
           },
           "yaxis": {
            "backgroundcolor": "#E5ECF6",
            "gridcolor": "white",
            "gridwidth": 2,
            "linecolor": "white",
            "showbackground": true,
            "ticks": "",
            "zerolinecolor": "white"
           },
           "zaxis": {
            "backgroundcolor": "#E5ECF6",
            "gridcolor": "white",
            "gridwidth": 2,
            "linecolor": "white",
            "showbackground": true,
            "ticks": "",
            "zerolinecolor": "white"
           }
          },
          "shapedefaults": {
           "line": {
            "color": "#2a3f5f"
           }
          },
          "ternary": {
           "aaxis": {
            "gridcolor": "white",
            "linecolor": "white",
            "ticks": ""
           },
           "baxis": {
            "gridcolor": "white",
            "linecolor": "white",
            "ticks": ""
           },
           "bgcolor": "#E5ECF6",
           "caxis": {
            "gridcolor": "white",
            "linecolor": "white",
            "ticks": ""
           }
          },
          "title": {
           "x": 0.05
          },
          "xaxis": {
           "automargin": true,
           "gridcolor": "white",
           "linecolor": "white",
           "ticks": "",
           "title": {
            "standoff": 15
           },
           "zerolinecolor": "white",
           "zerolinewidth": 2
          },
          "yaxis": {
           "automargin": true,
           "gridcolor": "white",
           "linecolor": "white",
           "ticks": "",
           "title": {
            "standoff": 15
           },
           "zerolinecolor": "white",
           "zerolinewidth": 2
          }
         }
        },
        "title": {
         "text": "Total Profit Percentage (in %) x different time-to-chart (Across different models) <br>ccy:BTCUSDT - feat_package:2",
         "x": 0.5
        },
        "width": 1200,
        "xaxis": {
         "anchor": "y",
         "domain": [
          0,
          0.45
         ],
         "title": {
          "standoff": 25,
          "text": "time-to-chart"
         }
        },
        "xaxis2": {
         "anchor": "y2",
         "domain": [
          0.55,
          1
         ],
         "title": {
          "standoff": 25,
          "text": "time-to-chart"
         }
        },
        "xaxis3": {
         "anchor": "y3",
         "domain": [
          0,
          0.45
         ],
         "title": {
          "standoff": 25,
          "text": "time-to-chart"
         }
        },
        "xaxis4": {
         "anchor": "y4",
         "domain": [
          0.55,
          1
         ],
         "title": {
          "standoff": 25,
          "text": "time-to-chart"
         }
        },
        "yaxis": {
         "anchor": "x",
         "domain": [
          0.625,
          1
         ],
         "matches": "y3",
         "title": {
          "standoff": 25,
          "text": "Total Profit Percentage (in %)"
         }
        },
        "yaxis2": {
         "anchor": "x2",
         "domain": [
          0.625,
          1
         ],
         "matches": "y3",
         "showticklabels": false,
         "title": {
          "standoff": 25,
          "text": "Total Profit Percentage (in %)"
         }
        },
        "yaxis3": {
         "anchor": "x3",
         "domain": [
          0,
          0.375
         ],
         "title": {
          "standoff": 25,
          "text": "Total Profit Percentage (in %)"
         }
        },
        "yaxis4": {
         "anchor": "x4",
         "domain": [
          0,
          0.375
         ],
         "matches": "y3",
         "showticklabels": false,
         "title": {
          "standoff": 25,
          "text": "Total Profit Percentage (in %)"
         }
        }
       }
      }
     },
     "metadata": {},
     "output_type": "display_data"
    }
   ],
   "source": [
    "fig_output = get_boxplot_total_profit_diff_time_to_chart(df_sim_results, list_feat[0])"
   ]
  },
  {
   "cell_type": "code",
   "execution_count": 46,
   "metadata": {},
   "outputs": [
    {
     "data": {
      "application/vnd.plotly.v1+json": {
       "config": {
        "plotlyServerURL": "https://plot.ly"
       },
       "data": [
        {
         "marker": {
          "color": "green"
         },
         "name": "15min",
         "type": "histogram",
         "x": [
          -65.84887974816142,
          -67.24612913264329,
          -64.02224049600329,
          -65.99787624739947,
          -57.72066589318512,
          -60.027062746219364,
          -58.51442734717782,
          -59.24858898625435,
          -61.53904619999597,
          -64.45654819885489,
          -61.51997295619738,
          -60.958212741099274,
          -67.77843724246391,
          -65.68612186308047,
          -65.83847177390933,
          -61.57738167834373,
          -61.984099311886084,
          -62.645739992782666,
          -63.133466470609136,
          -57.90590759673524,
          -61.857701655045716,
          -62.4397866171698,
          -66.27391989472471,
          -65.9851177222942,
          -61.84608566380887,
          -61.330848709934706,
          -56.71519376925114,
          -67.03300759020337,
          -60.38617603943053,
          -64.60001252186703,
          -58.72564539209131,
          -66.7948775190386,
          -60.39861020906554,
          -66.36243778976863,
          -63.52763423011471,
          -60.674890589801045,
          -67.45044679242027,
          -64.6009060343148,
          -64.81417506516556,
          -58.67305448190246,
          -62.88813157995802,
          -63.735690050908374,
          -61.15944870909005,
          -64.83023978620352,
          -57.4223100225545,
          -61.02949112459199,
          -61.97353774729593,
          -63.60371208733851,
          -64.30843134632995,
          -60.7882351666245,
          -63.62528167384907,
          -65.57969578242404,
          -62.011941423811834,
          -58.75357833845596,
          -64.00053113182378,
          -63.41337151497921,
          -55.218413125103716,
          -69.55597360604642,
          -66.51218508388052,
          -63.054260368205895,
          -64.33449964897966,
          -64.71038642134926,
          -68.3995703622085,
          -59.25372310235299,
          -60.21690977104228,
          -64.3373321428555,
          -63.99235789603769,
          -66.7918718908774,
          -60.905392496655764,
          -60.51453591921745,
          -64.84932226373719,
          -64.05801281999679,
          -67.36237348276853,
          -65.141314619103,
          -61.12800732239948,
          -61.94599329517736,
          -66.35463334323887,
          -65.6386029862548,
          -62.18986376969533,
          -64.99464139666975,
          -61.799997915998176,
          -67.4987531078449,
          -56.941891265184594,
          -60.356054586471394,
          -64.36817554752527,
          -64.069181435358,
          -64.04318606826156,
          -64.76611219726509,
          -66.43378694897189,
          -65.4530243815988,
          -68.33756718502899,
          -60.78269016033744,
          -64.8117521225797,
          -60.843271356173204,
          -63.15516936703036,
          -64.5236640529529,
          -67.02504519546231,
          -67.20124133677437,
          -61.61489891515972,
          -63.23304465312536
         ],
         "xaxis": "x",
         "yaxis": "y"
        },
        {
         "marker": {
          "color": "orange"
         },
         "name": "1h",
         "type": "histogram",
         "x": [
          -5.314654645749862,
          2.8732003553064933,
          4.703848599301308,
          -30.43273268731248,
          -35.47069800117308,
          3.261653340301973,
          -38.980234458942405,
          -42.8208352176488,
          -19.61899409192628,
          -18.62356246275809,
          -9.003797714600259,
          -46.10184713698845,
          -14.958815359059418,
          -10.947791858822898,
          -39.830661274506426,
          -27.0149436461425,
          -4.150530057964163,
          -14.638352675381238,
          -27.310328004708307,
          7.73841430107256,
          -32.066490577478405,
          5.180636785812887,
          -53.990521171270146,
          -23.244883209813406,
          -65.80382839556135,
          -47.61629895774788,
          -13.140535451912871,
          -27.089968418756317,
          -22.333983732764707,
          -7.845823429892896,
          -21.035688314622657,
          -37.619311317176276,
          -41.97072375877966,
          -35.061244063558064,
          -39.297525934577635,
          -24.484152059253017,
          -12.160330200922974,
          9.304003051565445,
          -36.07732788613448,
          -50.207019904637264,
          -43.8338941405862,
          0.19689808004499376,
          -34.65416890602167,
          3.2163083910363044,
          2.243078010402244,
          -5.260940887089472,
          5.891717421239107,
          -5.2467269458488675,
          -17.951027612365223,
          -36.2937879742216,
          -43.30118409213439,
          -52.918181238787334,
          -52.74206886944369,
          -44.134670222769024,
          -19.679567642896068,
          -14.514777365216403,
          -55.82438331761015,
          6.107777882927312,
          -31.20388156402193,
          -24.555142034456757,
          -38.86128004314556,
          -48.11691452622112,
          -3.5517719294536065,
          -59.900096043721106,
          -22.4325397977273,
          -35.44286648784956,
          -49.68119983406524,
          -31.070635900401513,
          9.397095743508777,
          -21.071628020482024,
          -18.079221628467714,
          -42.1511773531152,
          -40.66086469700137,
          -14.880096624639606,
          -50.46081565073271,
          -22.678084773174266,
          -22.994550823904337,
          88.78265323898984,
          -28.788537450545515,
          -22.55801208452577,
          -42.54597464934516,
          -1.4739116604508773,
          -39.89234955522326,
          5.320769258394531,
          -48.78964419463633,
          -42.61623948983277,
          -15.692553956126364,
          -56.465168327418645,
          -42.39674579652974,
          -40.53281043571304,
          -39.1434208923949,
          -24.763186277232997,
          12.304256092724408,
          -56.00656653269161,
          -40.406067669260224,
          -62.61287467278505,
          -9.977519252744937,
          -34.057506375937194,
          35.91549668735667,
          -49.08151092961821
         ],
         "xaxis": "x",
         "yaxis": "y"
        },
        {
         "marker": {
          "color": "violet"
         },
         "name": "1d",
         "type": "histogram",
         "x": [
          -59.64656575759544,
          -48.518593277722466,
          -56.983321692912845,
          -59.57766154009158,
          -0.5646405891570394,
          -34.84443199944431,
          -46.10453962870802,
          -61.09451636437916,
          -42.28159051157402,
          12.263404943355516,
          -40.65379410733865,
          -52.67842271467313,
          -36.716724134965574,
          -27.869666319785825,
          -29.904268126605228,
          -58.093969422693725,
          -38.3232804128191,
          -27.809040815633324,
          -64.88910529758056,
          -37.9846911076602,
          -12.481928212309846,
          -47.02028612066652,
          -57.702154911364055,
          -63.530473681934886,
          0.7168155500925755,
          -7.227926409184471,
          -50.800456956858895,
          -39.00695785476477,
          -47.586444921225294,
          -62.54345640099474,
          -31.411040653191257,
          -19.296905504167185,
          -14.102140217028602,
          -34.127016093290116,
          -30.138846736771153,
          -44.083819731309106,
          -6.524556035267448,
          -21.62851335233459,
          -45.703362114090154,
          -55.779541354067575,
          -49.59090802853484,
          -59.148481575351376,
          -26.03703523082972,
          -40.90848706460983,
          -38.19486782520393,
          -56.76435564122036,
          -12.2029989332731,
          -43.72965092518876,
          -59.01874790544937,
          -43.71320327984063,
          -60.67833783498995,
          -35.3697753693086,
          -50.85055917579089,
          -11.392659132046523,
          -31.34130797091712,
          -40.68078312803277,
          -50.729113388004954,
          -12.300837838643709,
          -43.71228893744474,
          -72.41120432297248,
          -50.22437841936409,
          -41.57867116251109,
          -52.434713844538514,
          -32.394068295643564,
          -18.721968051336823,
          -57.946117260006034,
          -34.82013065032401,
          -57.9683177250419,
          -22.31428846488909,
          -14.43104302481969,
          -63.15468132485942,
          -16.19787006229033,
          -41.54374950226405,
          -54.874959893874035,
          -44.32338990819742,
          -35.554170374937954,
          -25.197759732792115,
          -27.346037644040745,
          -32.13233186722311,
          -56.447681630177904,
          -43.92587762361304,
          -61.67042715228336,
          -58.38709840781331,
          -61.62514341265872,
          -17.658417440458905,
          -66.51382239252054,
          -50.41081329419428,
          -12.478309383553576,
          -47.39159712784154,
          -57.02544565784855,
          -11.333671320813432,
          -18.38451789721509,
          -32.17873372725142,
          -41.752924763468656,
          -38.725949103767356,
          -29.89307283737158,
          -5.807615204425831,
          -29.95701194377324,
          -31.707744318024822,
          -29.194092827854924
         ],
         "xaxis": "x",
         "yaxis": "y"
        },
        {
         "marker": {
          "color": "green"
         },
         "name": "15min",
         "showlegend": false,
         "type": "histogram",
         "x": [
          -38.310235978450166,
          -52.760974432723195,
          -61.89545685921922,
          -55.468385374245386,
          -45.95525274606703,
          -68.32102497028413,
          -65.77635829737312,
          -31.51287994494435,
          -61.289479363972134,
          -54.76651516927109,
          -68.83452019977237,
          -50.83700472669969,
          -58.17818372590684,
          4.330416220263844,
          -51.295128764514516,
          -51.60086151569554,
          -54.86235185139907,
          -57.90232130867034,
          -59.905570593448985,
          -55.208837056160846,
          -37.01595285324919,
          -63.14393895671476,
          -48.0500137941908,
          -39.60972964657056,
          -62.279872416976346,
          -55.98898059457819,
          -65.22161880879524,
          -58.84947365209179,
          -65.8013191919248,
          -66.97239961612631,
          -73.11648991141821,
          -34.24659930279622,
          -54.42798420359642,
          -58.21315952159489,
          -63.30318871237615,
          -43.76104059464253,
          -52.270321747847646,
          -57.351269432297805,
          -62.395246806149714,
          -40.72272204956883,
          -35.61564915522496,
          -69.48161768995095,
          -51.81619342941832,
          -55.078521802514956,
          -46.620243155319955,
          -53.21550143960909,
          -66.09223999159107,
          -51.62171282726413,
          -41.40850944847456,
          -70.04374972500355,
          -41.35053587043124,
          -63.814408239012344,
          -59.522381104959706,
          -54.71550113390593,
          -52.53247118905355,
          -49.966941047291755,
          -53.032324987934295,
          -46.92762058879298,
          -51.38465494012223,
          -49.537236592291265,
          -64.76552679742737,
          -51.571213190969885,
          -63.56722973114899,
          -55.23747428324117,
          -76.15557208552943,
          -51.60783045942128,
          -39.3813453259841,
          -43.20345958208921,
          -52.136095471780266,
          -75.09603217087886,
          -38.53814437222687,
          -61.07979237738874,
          -55.27312517991483,
          -52.18320918009053,
          -47.64965498667743,
          -49.08040369165194,
          -39.479603583532516,
          -60.01920596673684,
          -62.98455970297705,
          -49.140619815418496,
          -53.15561080927884,
          -41.14188326364546,
          -37.39377843335565,
          -50.7912806781631,
          -44.70057902841877,
          -57.00394521383263,
          -54.942781488647576,
          -36.175598786213456,
          -68.06622670510878,
          -55.009632936732935,
          -62.17183201992087,
          -65.8402564909308,
          -56.61470918637915,
          -52.65682820126712,
          -54.88767775233949,
          -77.2351551106178,
          -57.49670559356335,
          -58.154904609130455,
          -69.96054766716807,
          -53.057300414126715
         ],
         "xaxis": "x2",
         "yaxis": "y2"
        },
        {
         "marker": {
          "color": "orange"
         },
         "name": "1h",
         "showlegend": false,
         "type": "histogram",
         "x": [
          -22.128525497116147,
          -31.31226024057573,
          -33.09601642864393,
          -29.01481783280504,
          -39.101847908544194,
          -1.651648054619692,
          -51.91528353591757,
          -39.75941462341981,
          -46.48797092326393,
          -63.14703026037183,
          -44.06539277801984,
          -61.16297784366493,
          -30.89861998494644,
          -60.796174991432025,
          -69.55749085976419,
          -56.420598669745495,
          -61.61590148772095,
          -51.16393926234517,
          -48.23380561634024,
          -50.971224088152425,
          -48.8510293448384,
          -30.45369434682721,
          -46.272365556172524,
          -56.22706951891274,
          -42.41498867387702,
          -41.93792432398905,
          9.672008562204493,
          -29.395639642120585,
          -19.094268709282858,
          -50.202571221132295,
          -30.054257105501037,
          -54.301106070808714,
          -43.617098653954855,
          -58.44765816841999,
          -41.274771751630425,
          -11.597276334531447,
          -56.354477112120705,
          -59.77609064720608,
          -43.34122218451441,
          -66.72639289538034,
          6.338758133092703,
          -62.826862959216044,
          -18.96603875528784,
          -40.593026675950824,
          -60.09766360613915,
          -42.35585911421871,
          -41.95685846136429,
          -37.70483983312869,
          -65.53116845064363,
          -24.687988800187956,
          -33.81600429897742,
          -75.88990118633583,
          -40.313047647508725,
          -54.874860093623745,
          -53.8446981754767,
          -14.210985869579417,
          -53.397555150831536,
          -50.85601150294023,
          -46.15153068043397,
          -39.1209498398307,
          -46.92124727517375,
          -12.229023173137843,
          -27.17320198228299,
          -61.91170360392846,
          -52.612514180215484,
          -23.771081239709325,
          -23.048354653586923,
          -50.69724809829788,
          -70.4609020620351,
          -34.5787405379747,
          -47.29092902801232,
          -45.7597494804043,
          -61.82871808545127,
          -54.780690867598956,
          -45.56571591514752,
          -7.08106416733556,
          -51.077865456711336,
          -16.02842487596112,
          -54.67416034500323,
          -44.407078677301214,
          -66.06292044582347,
          -30.156965116052948,
          -53.72828479649265,
          -57.78707034255455,
          -19.09169135695373,
          -33.19403380306287,
          -52.6542775915656,
          -29.354325259583902,
          -40.72006775557799,
          -44.0543133950079,
          -15.400466980677374,
          -68.54031069946302,
          -64.06927597618808,
          -49.52608779762067,
          -63.39503017426229,
          8.40955856002803,
          -3.2948763969342876,
          -36.709459564187455,
          -59.75665966428518,
          -67.88948784463808
         ],
         "xaxis": "x2",
         "yaxis": "y2"
        },
        {
         "marker": {
          "color": "violet"
         },
         "name": "1d",
         "showlegend": false,
         "type": "histogram",
         "x": [
          0.9450882395194871,
          -51.87149107599347,
          -46.98431007867002,
          -58.08542765545827,
          -38.804838728646374,
          -50.95102986028082,
          -32.74195437365104,
          -65.24695023680665,
          -46.834153641908536,
          -70.80017161543898,
          -11.396086447801457,
          -33.28423268789407,
          -6.450148671171196,
          -41.41980650423618,
          -41.43940973275573,
          -38.42647842146722,
          -50.86592373888267,
          -57.38762638744335,
          -62.94389776799155,
          -59.32295880637335,
          -59.35102214450742,
          -40.86990601340925,
          -9.586012959431633,
          -52.684378166964294,
          -63.907611164530806,
          -36.463795711964984,
          -57.77188587723393,
          -26.95437565167732,
          -34.666219620061824,
          -38.118240580806514,
          -57.74457073611548,
          -45.70417261863432,
          27.715085329705236,
          -34.88355205979128,
          -42.84608756493904,
          -23.88711141823302,
          -27.428950364804194,
          -52.32187060707947,
          -55.878185802846026,
          -63.21904659864255,
          -25.23041117490483,
          -38.59750013040587,
          -42.12578238519469,
          -45.358800742911875,
          -59.34851441273936,
          -23.425643017526887,
          -42.62568203312343,
          -35.84191730461953,
          -37.43898408555793,
          -34.02999230632815,
          -56.28657178235535,
          -30.85220431388561,
          -45.83786606241355,
          -39.41916040587351,
          -41.78643458924309,
          -34.5949826268392,
          -32.27911720441481,
          -32.42737355910336,
          -45.285565299926944,
          -25.395038865730413,
          16.01072887174986,
          -32.97711330571419,
          -11.186276031223418,
          -59.476375173951055,
          -58.49390957257601,
          -46.11177021752199,
          -72.41401223842622,
          -18.80417339007362,
          -35.83861252447813,
          -17.67922513613356,
          -55.654875914628434,
          -15.958851639555881,
          -60.70296028572141,
          -34.96126393062379,
          -34.85213331549013,
          -65.0883218545994,
          -37.373459435970105,
          -39.592745376294346,
          -53.065212820027305,
          -52.61070191657986,
          -54.661175888639036,
          -44.259888814198334,
          -46.06907860980469,
          -37.13648420474662,
          -45.96666116305934,
          -36.45405224732401,
          -25.535380659972297,
          -41.47197955740458,
          -45.12723275626244,
          -27.701821505536227,
          -56.68807668534963,
          -50.552712337870176,
          -6.330516366855276,
          8.33229713959156,
          -33.931661548990775,
          -10.421336960832338,
          -48.52401307870904,
          -42.904007579562794,
          -20.36722449988414,
          1.4192999018740826
         ],
         "xaxis": "x2",
         "yaxis": "y2"
        },
        {
         "marker": {
          "color": "green"
         },
         "name": "15min",
         "showlegend": false,
         "type": "histogram",
         "x": [
          4.9166378733378036,
          10.752485612288542,
          0.45163785346125085,
          10.79678187151738,
          24.07224921514657,
          0.30437021275349085,
          0.15697367658451533,
          7.280504638909324,
          8.552811731273223,
          8.006412610386636,
          18.502911089934003,
          5.438492662761263,
          -2.142382241439922,
          0.03250508905445759,
          -0.2272973728748351,
          16.624993433538048,
          26.697767615565617,
          13.841814002486363,
          -3.376248987997421,
          12.894365048807433,
          6.535691238601649,
          11.498478413586666,
          20.245777846367474,
          -0.6625974204095941,
          4.756765844491717,
          13.09718981024841,
          7.189776043422036,
          25.326165312728065,
          8.805527971877392,
          6.811021840243048,
          13.762103525033108,
          -4.252944700354455,
          2.9933313796187244,
          23.826568603258135,
          6.3730097055935575,
          15.819467890815764,
          13.30718195341396,
          14.43165766599417,
          28.04595085070012,
          11.177584237266935,
          5.690609290031334,
          9.781422067468014,
          2.322282989206359,
          27.90686172466419,
          12.890809912788148,
          20.612147373850487,
          23.66452105467385,
          37.227944416667704,
          9.056088131731045,
          32.11525447779915,
          13.89717310683627,
          -6.266889300030765,
          4.812323553944564,
          -4.418415782682605,
          2.680638012056824,
          18.008016343166556,
          2.9495717559863133,
          16.175974947977203,
          2.0233760012187574,
          7.904874159260911,
          7.922879819002682,
          -3.3628626029177044,
          -1.7068310424684818,
          8.242873875159207,
          16.038865533637427,
          16.57091790554739,
          -7.945593772099391,
          2.634268018741781,
          -2.1393679269306243,
          8.929904488406692,
          11.51261894339266,
          11.132952344910784,
          5.966225728983732,
          1.320354523438927,
          11.494352920613915,
          12.472428299428962,
          1.3354124008870816,
          10.140220973420178,
          -1.5581373302391177,
          -19.124549999605446,
          -1.3954973143023408,
          -8.379992019506666,
          19.0195693978356,
          14.227609040576162,
          7.382569184122878,
          10.266689541876527,
          -1.2074752514900866,
          15.088284924118799,
          1.3428718827986241,
          16.769585618569117,
          2.9203036413972816,
          13.256735214775727,
          0.9119463166759711,
          13.741401677811037,
          11.048023736146773,
          21.706340439243,
          21.09758043608474,
          14.39467643929282,
          0.29340655291301143,
          3.8742082875077077
         ],
         "xaxis": "x3",
         "yaxis": "y3"
        },
        {
         "marker": {
          "color": "orange"
         },
         "name": "1h",
         "showlegend": false,
         "type": "histogram",
         "x": [
          -38.888781523763704,
          -17.407779848832185,
          -33.933638243418585,
          -47.913790866107334,
          -47.76145242783563,
          -15.676197220185362,
          -43.038495532014444,
          -44.75318161575493,
          -56.399609590351176,
          -60.93550668450571,
          -41.91550171008821,
          -34.31936291399988,
          -47.495229666514184,
          -21.956308427889503,
          -48.65726582531013,
          -50.25326747029624,
          -58.18440482134963,
          -22.387103433494005,
          -17.505305243191195,
          -44.83310907808081,
          -36.59300292175922,
          -32.5254018549636,
          5.456784576247964,
          -37.78937198047308,
          -10.404613427773713,
          -43.90589875883577,
          -46.06345946737084,
          -61.82087722815992,
          -62.55192201963622,
          -59.04674345201577,
          -44.66593843792403,
          -32.964731600923805,
          -22.771921788550642,
          -19.928361823398255,
          -13.541817354253926,
          -36.03995950301881,
          -42.19547495822601,
          -42.73512790214921,
          -16.775938805249492,
          10.301109668957453,
          -22.44190448454867,
          -40.46958375881502,
          -50.35200433423499,
          -47.94602422837809,
          -20.810436409187073,
          -40.475990687390194,
          -51.618065373657686,
          -61.057885567685446,
          -57.102631710222475,
          -62.72991103226923,
          -31.451199761810102,
          -39.132971634726474,
          -28.583466146483826,
          -28.45092843029685,
          -41.386277048744255,
          -20.095318349772462,
          -25.48475303084683,
          -48.711138224490384,
          -15.643563260423443,
          -58.42855938541884,
          -42.20513561775419,
          -50.70406909040494,
          -43.76600813979348,
          -57.24943205035712,
          -36.12262542964465,
          -36.3682088285285,
          -69.5099061650086,
          -30.513309604788063,
          -37.128663659317674,
          -41.61411780475762,
          -42.17451879201787,
          -43.161751343987206,
          -26.481766445799792,
          -56.050020179589524,
          -50.215121594303646,
          -35.33533925031047,
          -35.12066742438942,
          -37.91498550486071,
          -47.99566002221478,
          -55.81104141170768,
          -58.4279324248142,
          -25.6669967690113,
          -41.4826783443628,
          -65.86376945928988,
          -54.08969835468067,
          -40.97993035194194,
          -42.7130436193564,
          -67.30882368892063,
          -36.01397244746766,
          11.511472086470187,
          -58.81172338271088,
          -48.78971319694564,
          6.823760818635005,
          26.695894448251,
          -37.68160535445214,
          -34.735122301179864,
          -34.49308627054085,
          -72.95951748105153,
          -44.095198680030855,
          -38.61184681947027
         ],
         "xaxis": "x3",
         "yaxis": "y3"
        },
        {
         "marker": {
          "color": "violet"
         },
         "name": "1d",
         "showlegend": false,
         "type": "histogram",
         "x": [
          -56.26942210244861,
          -0.01429588889378941,
          -51.45270741329875,
          3.2247143592941674,
          -40.410075488030586,
          -51.3730600585385,
          -7.695738264381502,
          -28.091045409794223,
          -30.127622298057734,
          -35.52985649212887,
          -35.100297399409875,
          -37.89542072703998,
          -11.55179037905043,
          -39.04152201777381,
          -6.2324699204855065,
          -1.8419500868421368,
          -23.119486467732596,
          -36.22829138343624,
          -48.17197953564758,
          -50.449219390233345,
          -8.59231743670794,
          0,
          -57.10854147007598,
          -55.416491813556505,
          -45.459447348807494,
          -30.19883669574869,
          30.05381626832704,
          -35.819181492000396,
          -9.986162753548689,
          -32.54528100636187,
          -19.433506323772853,
          -52.16605144423063,
          -24.304407798844206,
          12.797600481011862,
          -35.9818960202986,
          -9.204635196037781,
          -16.17035779142133,
          -33.63156328662029,
          -9.570856890443336,
          -45.160527124496994,
          -18.444057031490136,
          -27.03906760775339,
          -50.76056665045733,
          -47.80037206569424,
          3.2402329597074564,
          -48.238395053515795,
          -28.448052839894633,
          -58.470220697308065,
          -51.62881954542582,
          -21.397504085906494,
          -54.43103033850735,
          -34.689175276764026,
          -43.27793579878333,
          -47.54717804849468,
          -27.01497836862027,
          -52.58787580207071,
          -0.7650160342023371,
          11.84100225731488,
          21.126661396377976,
          -28.24693092644668,
          -48.39561856240443,
          -41.03502589953075,
          34.88551654261176,
          -56.07111379982446,
          -28.39748978330363,
          -14.602833016992712,
          -40.30056933948399,
          12.736032928095419,
          -52.93669910350282,
          -31.433309131318254,
          19.96401675632118,
          -6.189136503757664,
          -23.445442079860012,
          -22.88440585882632,
          -54.69915824325089,
          -45.16217340148406,
          0,
          -25.906777122847046,
          -19.3515532604,
          -56.36884080740444,
          -42.03874188044552,
          23.51195881041017,
          -56.97680467104729,
          -26.294146286737565,
          -2.2974306481395534,
          -24.416871874943457,
          -54.43900505463174,
          -22.781770905512943,
          -9.95931371961486,
          -9.523427780620208,
          -40.00030470601711,
          -31.44589143224342,
          -32.41233633030218,
          15.35858644014021,
          -49.55417973323137,
          -39.32715005681649,
          -52.11415319741872,
          -1.870197110477656,
          -44.768193814379075,
          -1.4277479913437752
         ],
         "xaxis": "x3",
         "yaxis": "y3"
        },
        {
         "marker": {
          "color": "green"
         },
         "name": "15min",
         "showlegend": false,
         "type": "histogram",
         "x": [
          -37.40566803615728,
          -33.84163401154375,
          -23.61908090578907,
          -45.42893196502135,
          -53.35264530312595,
          -19.271727809933616,
          -49.67046258892223,
          -2.9615697268115637,
          -28.30969634283719,
          -61.83873307245382,
          -45.11028953023977,
          -58.42440875586321,
          -11.949807864626226,
          43.72266165848904,
          -28.161561124954016,
          -29.3622781811957,
          -49.48553796665759,
          -36.279193172215784,
          -36.81988958584967,
          -26.095625196794593,
          -41.667719450454356,
          -41.437944622149494,
          -58.66004725682361,
          -29.49306069890829,
          -45.22451100375824,
          -15.620254510481303,
          -17.321258233307766,
          -51.1331949768791,
          -32.3706408194696,
          -43.44736381338434,
          -24.3198034047293,
          -44.83782700609389,
          -57.03367342214848,
          -13.103664053636377,
          -47.81279260516028,
          -65.49375541530547,
          -41.674145640274006,
          -58.58681886569273,
          -42.27289622510677,
          -47.81120061967984,
          -28.484385203053975,
          -49.31286093084118,
          -62.25562913804295,
          -45.84317161779522,
          -23.348567298550037,
          -49.54226385875036,
          -40.49945279134028,
          -56.27992644308857,
          -43.46261251079293,
          -66.97184426586097,
          -40.69643721545777,
          -59.26732118020208,
          -43.17249492842162,
          -59.401853459803064,
          -25.464319475272102,
          -19.029519689936524,
          -35.48051510799278,
          -48.240595459108185,
          -39.844871606966414,
          -44.688061246291156,
          -31.701375315760682,
          -30.335660709897493,
          -49.76328604727702,
          -2.49337175387786,
          -27.757018811194513,
          -57.53635733246378,
          8.70229578261592,
          -22.467773666391764,
          -59.73295871858648,
          -58.41980798411042,
          -30.15071303269873,
          -40.07090347694399,
          -47.96279969651835,
          -17.657905571626596,
          24.587578164359634,
          -51.92108523087451,
          -53.69614120574664,
          -31.41302313864808,
          -8.827507133572364,
          -65.09822922818971,
          -39.6418769901425,
          -49.55291935330789,
          -51.82754534641667,
          1.4706182999172368,
          -58.487425157054986,
          -38.31600838126709,
          -70.10255084879158,
          -30.9317474635473,
          -51.20660905564309,
          -46.79936268068611,
          -23.668953332109343,
          -54.51814429204633,
          -52.98689358338535,
          -18.697786796056015,
          -26.738381098696852,
          -62.63073998856654,
          -43.49277562158902,
          -44.08368145923771,
          -56.5021103246242,
          -42.8387931725711
         ],
         "xaxis": "x4",
         "yaxis": "y4"
        },
        {
         "marker": {
          "color": "orange"
         },
         "name": "1h",
         "showlegend": false,
         "type": "histogram",
         "x": [
          -25.391272522010155,
          -52.91599163648005,
          -36.00734117615983,
          -53.87524127727312,
          -42.36473014388756,
          -43.6640297422498,
          -0.15351918822661403,
          -57.71263163629984,
          -55.40325404505305,
          -23.68006754222831,
          -4.083505282941912,
          -38.76041987544998,
          -33.49504135675681,
          -15.935004832984045,
          -37.20225729084717,
          -27.362020363182417,
          -33.83932327723409,
          -50.608761580867856,
          18.428522893801723,
          -68.97429664526454,
          -50.945614605446195,
          -60.94060547230683,
          -19.21140805089989,
          -31.061644175221048,
          -31.8265920567936,
          -54.71493919288986,
          -50.36697269616472,
          -58.69722053758959,
          -19.415484624514455,
          -37.36317431829863,
          -34.45689960063329,
          -36.282116859282546,
          -46.85726757857256,
          -41.75749603641206,
          -55.69502227450727,
          -65.79612418645122,
          -50.080412312054776,
          -42.1403172828276,
          -26.66283547162682,
          -45.47099627859531,
          -52.14372637557392,
          -41.52361111923219,
          -29.321902533210555,
          -60.26374525965122,
          -32.115211192727834,
          -32.27334565456753,
          -37.70674697198948,
          7.268868907825432,
          -60.235458210247806,
          -31.914545401738593,
          -6.8010448689273195,
          -45.56206626389907,
          -47.104833007225345,
          -3.0291429391379743,
          -43.30946164333004,
          3.8724423918156337,
          -47.51546640410429,
          -46.5812465120694,
          -53.810674008640866,
          -70.7430944860233,
          -60.97776472507306,
          -59.65190331562519,
          -9.429262201077703,
          -33.680456059355166,
          -54.2238294877003,
          -43.995287254790085,
          14.00847216815495,
          -35.33133925473273,
          -60.66910995904236,
          -48.43490895083463,
          -52.10616989411682,
          -50.87364578802234,
          -40.79211875982926,
          -18.751433537984074,
          -43.14920559892516,
          -46.311001899015146,
          -26.446209641902307,
          -44.98556805828875,
          -42.49939673821079,
          -65.49974770206745,
          -64.67847935552207,
          -41.87834382565685,
          -49.29108897229406,
          -34.44783047242911,
          -21.006826131839375,
          -43.422382098131116,
          -31.369029569610174,
          -63.88366621103154,
          -32.934792704027984,
          -56.15056693703955,
          -34.73801634757693,
          -32.251798213399084,
          -28.06038866406717,
          -64.4509778257964,
          -14.88676615830834,
          -35.67823677190434,
          -63.56168279782589,
          -68.0735884790929,
          -33.36938204820664,
          -61.97325632517864
         ],
         "xaxis": "x4",
         "yaxis": "y4"
        },
        {
         "marker": {
          "color": "violet"
         },
         "name": "1d",
         "showlegend": false,
         "type": "histogram",
         "x": [
          -57.45703734562409,
          -45.53908220236149,
          -50.95074656214528,
          -35.70051681436242,
          -41.324868005359896,
          -57.554468422866314,
          -44.85043229166992,
          -48.96562260159973,
          -53.04718914512554,
          -44.464576251266664,
          -47.796749125217644,
          -30.139360213915346,
          -54.10736202304503,
          -54.74822936520041,
          -46.5810052001139,
          -55.51185454396557,
          -37.07693869579576,
          -45.19976568710584,
          -70.72617645495369,
          -24.633708387746033,
          -21.18675415154877,
          -58.37210198498318,
          -49.15581009796895,
          -42.03937120110165,
          -22.913862886841297,
          -10.344830822270445,
          -36.28889510046464,
          -60.31304672029819,
          -62.21881760430208,
          -73.84242135032596,
          -65.2450987009814,
          -7.367487054968014,
          -34.08427596818902,
          -69.08536807671182,
          -68.00404430992432,
          -54.93533549496714,
          -2.0663813775010142,
          -48.92410743064407,
          -52.07928000041849,
          -53.73414521473134,
          -46.29654476374472,
          -70.3069497319665,
          -60.454318967967225,
          -53.375318154107745,
          -45.78974502158572,
          -66.6419743783658,
          -31.446530513764394,
          -36.98331075230363,
          -41.83804183722501,
          -32.36923839447439,
          -25.5158001481007,
          -45.01200904829668,
          -30.384902400703552,
          -35.684042406975394,
          -62.42256638839252,
          -17.81988114507812,
          -31.438641314490525,
          -45.28452954085837,
          -43.753671459958234,
          -36.345285605113176,
          -27.780079830407445,
          -38.74036370911676,
          -50.89708072305823,
          -27.817247677376745,
          -53.09720193788245,
          -49.649389686763456,
          -44.93388834367942,
          -69.8655369078911,
          -3.87636333197654,
          -74.33646149825277,
          -42.48520543122335,
          -32.552372812632214,
          -28.2498966494672,
          -51.92003552138893,
          -27.91358675565845,
          -28.347354663872203,
          -51.6235728042495,
          -27.0556955469892,
          -50.83457042347093,
          -33.638175547771276,
          -19.79960620096176,
          -33.54333793970039,
          -30.2082121049396,
          -56.99422382902415,
          7.422744474460541,
          -55.11074672255801,
          -14.531132986860651,
          -48.498468162201426,
          -65.70616932919621,
          -49.36816248820747,
          -40.7537754370148,
          -36.201815384747896,
          -36.25728199522472,
          -38.1257252215952,
          6.940975124763726,
          -12.100408413677965,
          -23.79768707612214,
          -61.53932214788133,
          -50.30613752718558,
          -24.547607694141917
         ],
         "xaxis": "x4",
         "yaxis": "y4"
        }
       ],
       "layout": {
        "annotations": [
         {
          "font": {
           "size": 16
          },
          "showarrow": false,
          "text": "A2C",
          "x": 0.225,
          "xanchor": "center",
          "xref": "paper",
          "y": 1,
          "yanchor": "bottom",
          "yref": "paper"
         },
         {
          "font": {
           "size": 16
          },
          "showarrow": false,
          "text": "PPO",
          "x": 0.775,
          "xanchor": "center",
          "xref": "paper",
          "y": 1,
          "yanchor": "bottom",
          "yref": "paper"
         },
         {
          "font": {
           "size": 16
          },
          "showarrow": false,
          "text": "DQN",
          "x": 0.225,
          "xanchor": "center",
          "xref": "paper",
          "y": 0.375,
          "yanchor": "bottom",
          "yref": "paper"
         },
         {
          "font": {
           "size": 16
          },
          "showarrow": false,
          "text": "RANDOM",
          "x": 0.775,
          "xanchor": "center",
          "xref": "paper",
          "y": 0.375,
          "yanchor": "bottom",
          "yref": "paper"
         }
        ],
        "height": 800,
        "template": {
         "data": {
          "bar": [
           {
            "error_x": {
             "color": "#2a3f5f"
            },
            "error_y": {
             "color": "#2a3f5f"
            },
            "marker": {
             "line": {
              "color": "#E5ECF6",
              "width": 0.5
             },
             "pattern": {
              "fillmode": "overlay",
              "size": 10,
              "solidity": 0.2
             }
            },
            "type": "bar"
           }
          ],
          "barpolar": [
           {
            "marker": {
             "line": {
              "color": "#E5ECF6",
              "width": 0.5
             },
             "pattern": {
              "fillmode": "overlay",
              "size": 10,
              "solidity": 0.2
             }
            },
            "type": "barpolar"
           }
          ],
          "carpet": [
           {
            "aaxis": {
             "endlinecolor": "#2a3f5f",
             "gridcolor": "white",
             "linecolor": "white",
             "minorgridcolor": "white",
             "startlinecolor": "#2a3f5f"
            },
            "baxis": {
             "endlinecolor": "#2a3f5f",
             "gridcolor": "white",
             "linecolor": "white",
             "minorgridcolor": "white",
             "startlinecolor": "#2a3f5f"
            },
            "type": "carpet"
           }
          ],
          "choropleth": [
           {
            "colorbar": {
             "outlinewidth": 0,
             "ticks": ""
            },
            "type": "choropleth"
           }
          ],
          "contour": [
           {
            "colorbar": {
             "outlinewidth": 0,
             "ticks": ""
            },
            "colorscale": [
             [
              0,
              "#0d0887"
             ],
             [
              0.1111111111111111,
              "#46039f"
             ],
             [
              0.2222222222222222,
              "#7201a8"
             ],
             [
              0.3333333333333333,
              "#9c179e"
             ],
             [
              0.4444444444444444,
              "#bd3786"
             ],
             [
              0.5555555555555556,
              "#d8576b"
             ],
             [
              0.6666666666666666,
              "#ed7953"
             ],
             [
              0.7777777777777778,
              "#fb9f3a"
             ],
             [
              0.8888888888888888,
              "#fdca26"
             ],
             [
              1,
              "#f0f921"
             ]
            ],
            "type": "contour"
           }
          ],
          "contourcarpet": [
           {
            "colorbar": {
             "outlinewidth": 0,
             "ticks": ""
            },
            "type": "contourcarpet"
           }
          ],
          "heatmap": [
           {
            "colorbar": {
             "outlinewidth": 0,
             "ticks": ""
            },
            "colorscale": [
             [
              0,
              "#0d0887"
             ],
             [
              0.1111111111111111,
              "#46039f"
             ],
             [
              0.2222222222222222,
              "#7201a8"
             ],
             [
              0.3333333333333333,
              "#9c179e"
             ],
             [
              0.4444444444444444,
              "#bd3786"
             ],
             [
              0.5555555555555556,
              "#d8576b"
             ],
             [
              0.6666666666666666,
              "#ed7953"
             ],
             [
              0.7777777777777778,
              "#fb9f3a"
             ],
             [
              0.8888888888888888,
              "#fdca26"
             ],
             [
              1,
              "#f0f921"
             ]
            ],
            "type": "heatmap"
           }
          ],
          "heatmapgl": [
           {
            "colorbar": {
             "outlinewidth": 0,
             "ticks": ""
            },
            "colorscale": [
             [
              0,
              "#0d0887"
             ],
             [
              0.1111111111111111,
              "#46039f"
             ],
             [
              0.2222222222222222,
              "#7201a8"
             ],
             [
              0.3333333333333333,
              "#9c179e"
             ],
             [
              0.4444444444444444,
              "#bd3786"
             ],
             [
              0.5555555555555556,
              "#d8576b"
             ],
             [
              0.6666666666666666,
              "#ed7953"
             ],
             [
              0.7777777777777778,
              "#fb9f3a"
             ],
             [
              0.8888888888888888,
              "#fdca26"
             ],
             [
              1,
              "#f0f921"
             ]
            ],
            "type": "heatmapgl"
           }
          ],
          "histogram": [
           {
            "marker": {
             "pattern": {
              "fillmode": "overlay",
              "size": 10,
              "solidity": 0.2
             }
            },
            "type": "histogram"
           }
          ],
          "histogram2d": [
           {
            "colorbar": {
             "outlinewidth": 0,
             "ticks": ""
            },
            "colorscale": [
             [
              0,
              "#0d0887"
             ],
             [
              0.1111111111111111,
              "#46039f"
             ],
             [
              0.2222222222222222,
              "#7201a8"
             ],
             [
              0.3333333333333333,
              "#9c179e"
             ],
             [
              0.4444444444444444,
              "#bd3786"
             ],
             [
              0.5555555555555556,
              "#d8576b"
             ],
             [
              0.6666666666666666,
              "#ed7953"
             ],
             [
              0.7777777777777778,
              "#fb9f3a"
             ],
             [
              0.8888888888888888,
              "#fdca26"
             ],
             [
              1,
              "#f0f921"
             ]
            ],
            "type": "histogram2d"
           }
          ],
          "histogram2dcontour": [
           {
            "colorbar": {
             "outlinewidth": 0,
             "ticks": ""
            },
            "colorscale": [
             [
              0,
              "#0d0887"
             ],
             [
              0.1111111111111111,
              "#46039f"
             ],
             [
              0.2222222222222222,
              "#7201a8"
             ],
             [
              0.3333333333333333,
              "#9c179e"
             ],
             [
              0.4444444444444444,
              "#bd3786"
             ],
             [
              0.5555555555555556,
              "#d8576b"
             ],
             [
              0.6666666666666666,
              "#ed7953"
             ],
             [
              0.7777777777777778,
              "#fb9f3a"
             ],
             [
              0.8888888888888888,
              "#fdca26"
             ],
             [
              1,
              "#f0f921"
             ]
            ],
            "type": "histogram2dcontour"
           }
          ],
          "mesh3d": [
           {
            "colorbar": {
             "outlinewidth": 0,
             "ticks": ""
            },
            "type": "mesh3d"
           }
          ],
          "parcoords": [
           {
            "line": {
             "colorbar": {
              "outlinewidth": 0,
              "ticks": ""
             }
            },
            "type": "parcoords"
           }
          ],
          "pie": [
           {
            "automargin": true,
            "type": "pie"
           }
          ],
          "scatter": [
           {
            "fillpattern": {
             "fillmode": "overlay",
             "size": 10,
             "solidity": 0.2
            },
            "type": "scatter"
           }
          ],
          "scatter3d": [
           {
            "line": {
             "colorbar": {
              "outlinewidth": 0,
              "ticks": ""
             }
            },
            "marker": {
             "colorbar": {
              "outlinewidth": 0,
              "ticks": ""
             }
            },
            "type": "scatter3d"
           }
          ],
          "scattercarpet": [
           {
            "marker": {
             "colorbar": {
              "outlinewidth": 0,
              "ticks": ""
             }
            },
            "type": "scattercarpet"
           }
          ],
          "scattergeo": [
           {
            "marker": {
             "colorbar": {
              "outlinewidth": 0,
              "ticks": ""
             }
            },
            "type": "scattergeo"
           }
          ],
          "scattergl": [
           {
            "marker": {
             "colorbar": {
              "outlinewidth": 0,
              "ticks": ""
             }
            },
            "type": "scattergl"
           }
          ],
          "scattermapbox": [
           {
            "marker": {
             "colorbar": {
              "outlinewidth": 0,
              "ticks": ""
             }
            },
            "type": "scattermapbox"
           }
          ],
          "scatterpolar": [
           {
            "marker": {
             "colorbar": {
              "outlinewidth": 0,
              "ticks": ""
             }
            },
            "type": "scatterpolar"
           }
          ],
          "scatterpolargl": [
           {
            "marker": {
             "colorbar": {
              "outlinewidth": 0,
              "ticks": ""
             }
            },
            "type": "scatterpolargl"
           }
          ],
          "scatterternary": [
           {
            "marker": {
             "colorbar": {
              "outlinewidth": 0,
              "ticks": ""
             }
            },
            "type": "scatterternary"
           }
          ],
          "surface": [
           {
            "colorbar": {
             "outlinewidth": 0,
             "ticks": ""
            },
            "colorscale": [
             [
              0,
              "#0d0887"
             ],
             [
              0.1111111111111111,
              "#46039f"
             ],
             [
              0.2222222222222222,
              "#7201a8"
             ],
             [
              0.3333333333333333,
              "#9c179e"
             ],
             [
              0.4444444444444444,
              "#bd3786"
             ],
             [
              0.5555555555555556,
              "#d8576b"
             ],
             [
              0.6666666666666666,
              "#ed7953"
             ],
             [
              0.7777777777777778,
              "#fb9f3a"
             ],
             [
              0.8888888888888888,
              "#fdca26"
             ],
             [
              1,
              "#f0f921"
             ]
            ],
            "type": "surface"
           }
          ],
          "table": [
           {
            "cells": {
             "fill": {
              "color": "#EBF0F8"
             },
             "line": {
              "color": "white"
             }
            },
            "header": {
             "fill": {
              "color": "#C8D4E3"
             },
             "line": {
              "color": "white"
             }
            },
            "type": "table"
           }
          ]
         },
         "layout": {
          "annotationdefaults": {
           "arrowcolor": "#2a3f5f",
           "arrowhead": 0,
           "arrowwidth": 1
          },
          "autotypenumbers": "strict",
          "coloraxis": {
           "colorbar": {
            "outlinewidth": 0,
            "ticks": ""
           }
          },
          "colorscale": {
           "diverging": [
            [
             0,
             "#8e0152"
            ],
            [
             0.1,
             "#c51b7d"
            ],
            [
             0.2,
             "#de77ae"
            ],
            [
             0.3,
             "#f1b6da"
            ],
            [
             0.4,
             "#fde0ef"
            ],
            [
             0.5,
             "#f7f7f7"
            ],
            [
             0.6,
             "#e6f5d0"
            ],
            [
             0.7,
             "#b8e186"
            ],
            [
             0.8,
             "#7fbc41"
            ],
            [
             0.9,
             "#4d9221"
            ],
            [
             1,
             "#276419"
            ]
           ],
           "sequential": [
            [
             0,
             "#0d0887"
            ],
            [
             0.1111111111111111,
             "#46039f"
            ],
            [
             0.2222222222222222,
             "#7201a8"
            ],
            [
             0.3333333333333333,
             "#9c179e"
            ],
            [
             0.4444444444444444,
             "#bd3786"
            ],
            [
             0.5555555555555556,
             "#d8576b"
            ],
            [
             0.6666666666666666,
             "#ed7953"
            ],
            [
             0.7777777777777778,
             "#fb9f3a"
            ],
            [
             0.8888888888888888,
             "#fdca26"
            ],
            [
             1,
             "#f0f921"
            ]
           ],
           "sequentialminus": [
            [
             0,
             "#0d0887"
            ],
            [
             0.1111111111111111,
             "#46039f"
            ],
            [
             0.2222222222222222,
             "#7201a8"
            ],
            [
             0.3333333333333333,
             "#9c179e"
            ],
            [
             0.4444444444444444,
             "#bd3786"
            ],
            [
             0.5555555555555556,
             "#d8576b"
            ],
            [
             0.6666666666666666,
             "#ed7953"
            ],
            [
             0.7777777777777778,
             "#fb9f3a"
            ],
            [
             0.8888888888888888,
             "#fdca26"
            ],
            [
             1,
             "#f0f921"
            ]
           ]
          },
          "colorway": [
           "#636efa",
           "#EF553B",
           "#00cc96",
           "#ab63fa",
           "#FFA15A",
           "#19d3f3",
           "#FF6692",
           "#B6E880",
           "#FF97FF",
           "#FECB52"
          ],
          "font": {
           "color": "#2a3f5f"
          },
          "geo": {
           "bgcolor": "white",
           "lakecolor": "white",
           "landcolor": "#E5ECF6",
           "showlakes": true,
           "showland": true,
           "subunitcolor": "white"
          },
          "hoverlabel": {
           "align": "left"
          },
          "hovermode": "closest",
          "mapbox": {
           "style": "light"
          },
          "paper_bgcolor": "white",
          "plot_bgcolor": "#E5ECF6",
          "polar": {
           "angularaxis": {
            "gridcolor": "white",
            "linecolor": "white",
            "ticks": ""
           },
           "bgcolor": "#E5ECF6",
           "radialaxis": {
            "gridcolor": "white",
            "linecolor": "white",
            "ticks": ""
           }
          },
          "scene": {
           "xaxis": {
            "backgroundcolor": "#E5ECF6",
            "gridcolor": "white",
            "gridwidth": 2,
            "linecolor": "white",
            "showbackground": true,
            "ticks": "",
            "zerolinecolor": "white"
           },
           "yaxis": {
            "backgroundcolor": "#E5ECF6",
            "gridcolor": "white",
            "gridwidth": 2,
            "linecolor": "white",
            "showbackground": true,
            "ticks": "",
            "zerolinecolor": "white"
           },
           "zaxis": {
            "backgroundcolor": "#E5ECF6",
            "gridcolor": "white",
            "gridwidth": 2,
            "linecolor": "white",
            "showbackground": true,
            "ticks": "",
            "zerolinecolor": "white"
           }
          },
          "shapedefaults": {
           "line": {
            "color": "#2a3f5f"
           }
          },
          "ternary": {
           "aaxis": {
            "gridcolor": "white",
            "linecolor": "white",
            "ticks": ""
           },
           "baxis": {
            "gridcolor": "white",
            "linecolor": "white",
            "ticks": ""
           },
           "bgcolor": "#E5ECF6",
           "caxis": {
            "gridcolor": "white",
            "linecolor": "white",
            "ticks": ""
           }
          },
          "title": {
           "x": 0.05
          },
          "xaxis": {
           "automargin": true,
           "gridcolor": "white",
           "linecolor": "white",
           "ticks": "",
           "title": {
            "standoff": 15
           },
           "zerolinecolor": "white",
           "zerolinewidth": 2
          },
          "yaxis": {
           "automargin": true,
           "gridcolor": "white",
           "linecolor": "white",
           "ticks": "",
           "title": {
            "standoff": 15
           },
           "zerolinecolor": "white",
           "zerolinewidth": 2
          }
         }
        },
        "title": {
         "text": "Total Profit Percentage (in %) x different time-to-chart (Across different models) <br>ccy:BTCUSDT - feat_package:2",
         "x": 0.5
        },
        "width": 1200,
        "xaxis": {
         "anchor": "y",
         "domain": [
          0,
          0.45
         ],
         "title": {
          "standoff": 25,
          "text": "Total Profit Percentage (in %)"
         }
        },
        "xaxis2": {
         "anchor": "y2",
         "domain": [
          0.55,
          1
         ],
         "title": {
          "standoff": 25,
          "text": "Total Profit Percentage (in %)"
         }
        },
        "xaxis3": {
         "anchor": "y3",
         "domain": [
          0,
          0.45
         ],
         "title": {
          "standoff": 25,
          "text": "Total Profit Percentage (in %)"
         }
        },
        "xaxis4": {
         "anchor": "y4",
         "domain": [
          0.55,
          1
         ],
         "title": {
          "standoff": 25,
          "text": "Total Profit Percentage (in %)"
         }
        },
        "yaxis": {
         "anchor": "x",
         "domain": [
          0.625,
          1
         ],
         "matches": "y3",
         "title": {
          "standoff": 25,
          "text": "Number of simulations"
         }
        },
        "yaxis2": {
         "anchor": "x2",
         "domain": [
          0.625,
          1
         ],
         "matches": "y3",
         "showticklabels": false,
         "title": {
          "standoff": 25,
          "text": "Number of simulations"
         }
        },
        "yaxis3": {
         "anchor": "x3",
         "domain": [
          0,
          0.375
         ],
         "title": {
          "standoff": 25,
          "text": "Number of simulations"
         }
        },
        "yaxis4": {
         "anchor": "x4",
         "domain": [
          0,
          0.375
         ],
         "matches": "y3",
         "showticklabels": false,
         "title": {
          "standoff": 25,
          "text": "Number of simulations"
         }
        }
       }
      }
     },
     "metadata": {},
     "output_type": "display_data"
    }
   ],
   "source": [
    "fig_output = get_histogramplot_total_profit_diff_time_to_chart(df_sim_results, list_feat[0])"
   ]
  },
  {
   "cell_type": "code",
   "execution_count": 47,
   "metadata": {},
   "outputs": [
    {
     "data": {
      "application/vnd.plotly.v1+json": {
       "config": {
        "plotlyServerURL": "https://plot.ly"
       },
       "data": [
        {
         "legendgroup": "1",
         "marker": {
          "color": "green",
          "size": 10,
          "symbol": "circle"
         },
         "mode": "markers+text",
         "name": "A2C: 15m",
         "type": "scatter",
         "x": [
          -63.61449688059379,
          -63.61449688059379
         ],
         "y": [
          3
         ]
        },
        {
         "legendgroup": "1",
         "marker": {
          "color": "orange",
          "size": 10,
          "symbol": "circle"
         },
         "mode": "markers+text",
         "name": "A2C:1h",
         "type": "scatter",
         "x": [
          -27.052456032449406,
          -27.052456032449406
         ],
         "y": [
          3
         ]
        },
        {
         "legendgroup": "1",
         "marker": {
          "color": "violet",
          "size": 10,
          "symbol": "circle"
         },
         "mode": "markers+text",
         "name": "A2C:1d",
         "type": "scatter",
         "x": [
          -40.7946350963213,
          -40.7946350963213
         ],
         "y": [
          3
         ]
        },
        {
         "legendgroup": "2",
         "marker": {
          "color": "green",
          "size": 10,
          "symbol": "square"
         },
         "mode": "markers",
         "name": "PPO: 15m",
         "type": "scatter",
         "x": [
          -54.81443351033508,
          -54.81443351033508
         ],
         "y": [
          2
         ]
        },
        {
         "legendgroup": "2",
         "marker": {
          "color": "orange",
          "size": 10,
          "symbol": "square"
         },
         "mode": "markers",
         "name": "PPO: 1h",
         "type": "scatter",
         "x": [
          -45.66273269777591,
          -45.66273269777591
         ],
         "y": [
          2
         ]
        },
        {
         "legendgroup": "2",
         "marker": {
          "color": "violet",
          "size": 10,
          "symbol": "square"
         },
         "mode": "markers",
         "name": "PPO: 1d",
         "type": "scatter",
         "x": [
          -41.14485625882271,
          -41.14485625882271
         ],
         "y": [
          2
         ]
        },
        {
         "legendgroup": "3",
         "marker": {
          "color": "green",
          "size": 10,
          "symbol": "diamond"
         },
         "mode": "markers",
         "name": "DQN: 15m",
         "type": "scatter",
         "x": [
          8.679169851575308,
          8.679169851575308
         ],
         "y": [
          1
         ]
        },
        {
         "legendgroup": "3",
         "marker": {
          "color": "orange",
          "size": 10,
          "symbol": "diamond"
         },
         "mode": "markers",
         "name": "DQN: 1h",
         "type": "scatter",
         "x": [
          -41.43447769655353,
          -41.43447769655353
         ],
         "y": [
          1
         ]
        },
        {
         "legendgroup": "3",
         "marker": {
          "color": "violet",
          "size": 10,
          "symbol": "diamond"
         },
         "mode": "markers",
         "name": "DQN: 1d",
         "type": "scatter",
         "x": [
          -30.163229496903213,
          -30.163229496903213
         ],
         "y": [
          1
         ]
        },
        {
         "legendgroup": "4",
         "marker": {
          "color": "green",
          "size": 10,
          "symbol": "cross"
         },
         "mode": "markers+text",
         "name": "RANDOM: 15m",
         "type": "scatter",
         "x": [
          -42.55584469883894,
          -42.55584469883894
         ],
         "y": [
          0
         ]
        },
        {
         "legendgroup": "4",
         "marker": {
          "color": "orange",
          "size": 10,
          "symbol": "cross"
         },
         "mode": "markers+text",
         "name": "RANDOM: 1h",
         "type": "scatter",
         "x": [
          -42.25252371335758,
          -42.25252371335758
         ],
         "y": [
          0
         ]
        },
        {
         "legendgroup": "4",
         "marker": {
          "color": "violet",
          "size": 10,
          "symbol": "cross"
         },
         "mode": "markers+text",
         "name": "RANDOM: 1d",
         "type": "scatter",
         "x": [
          -44.892160317674666,
          -44.892160317674666
         ],
         "y": [
          0
         ]
        }
       ],
       "layout": {
        "annotations": [
         {
          "align": "center",
          "text": "-63.6145",
          "textangle": 45,
          "x": -63.61449688059379,
          "xanchor": "center",
          "xref": "x",
          "y": 3,
          "yref": "y"
         },
         {
          "align": "center",
          "text": "-27.0525",
          "textangle": 45,
          "x": -27.052456032449406,
          "xanchor": "center",
          "xref": "x",
          "y": 3,
          "yref": "y"
         },
         {
          "align": "center",
          "text": "-40.7946",
          "textangle": 45,
          "x": -40.7946350963213,
          "xanchor": "center",
          "xref": "x",
          "y": 3,
          "yref": "y"
         },
         {
          "align": "center",
          "text": "-54.8144",
          "textangle": 45,
          "x": -54.81443351033508,
          "xanchor": "center",
          "xref": "x",
          "y": 2,
          "yref": "y"
         },
         {
          "align": "center",
          "text": "-45.6627",
          "textangle": 45,
          "x": -45.66273269777591,
          "xanchor": "center",
          "xref": "x",
          "y": 2,
          "yref": "y"
         },
         {
          "align": "center",
          "text": "-41.1449",
          "textangle": 45,
          "x": -41.14485625882271,
          "xanchor": "center",
          "xref": "x",
          "y": 2,
          "yref": "y"
         },
         {
          "align": "center",
          "text": "8.6792",
          "textangle": 45,
          "x": 8.679169851575308,
          "xanchor": "center",
          "xref": "x",
          "y": 1,
          "yref": "y"
         },
         {
          "align": "center",
          "text": "-41.4345",
          "textangle": 45,
          "x": -41.43447769655353,
          "xanchor": "center",
          "xref": "x",
          "y": 1,
          "yref": "y"
         },
         {
          "align": "center",
          "text": "-30.1632",
          "textangle": 45,
          "x": -30.163229496903213,
          "xanchor": "center",
          "xref": "x",
          "y": 1,
          "yref": "y"
         },
         {
          "align": "center",
          "text": "-42.5558",
          "textangle": 45,
          "x": -42.55584469883894,
          "xanchor": "center",
          "xref": "x",
          "y": 0,
          "yref": "y"
         },
         {
          "align": "center",
          "text": "-42.2525",
          "textangle": 45,
          "x": -42.25252371335758,
          "xanchor": "center",
          "xref": "x",
          "y": 0,
          "yref": "y"
         },
         {
          "align": "center",
          "text": "-44.8922",
          "textangle": 45,
          "x": -44.892160317674666,
          "xanchor": "center",
          "xref": "x",
          "y": 0,
          "yref": "y"
         }
        ],
        "height": 800,
        "legend": {
         "tracegroupgap": 125
        },
        "template": {
         "data": {
          "bar": [
           {
            "error_x": {
             "color": "#2a3f5f"
            },
            "error_y": {
             "color": "#2a3f5f"
            },
            "marker": {
             "line": {
              "color": "#E5ECF6",
              "width": 0.5
             },
             "pattern": {
              "fillmode": "overlay",
              "size": 10,
              "solidity": 0.2
             }
            },
            "type": "bar"
           }
          ],
          "barpolar": [
           {
            "marker": {
             "line": {
              "color": "#E5ECF6",
              "width": 0.5
             },
             "pattern": {
              "fillmode": "overlay",
              "size": 10,
              "solidity": 0.2
             }
            },
            "type": "barpolar"
           }
          ],
          "carpet": [
           {
            "aaxis": {
             "endlinecolor": "#2a3f5f",
             "gridcolor": "white",
             "linecolor": "white",
             "minorgridcolor": "white",
             "startlinecolor": "#2a3f5f"
            },
            "baxis": {
             "endlinecolor": "#2a3f5f",
             "gridcolor": "white",
             "linecolor": "white",
             "minorgridcolor": "white",
             "startlinecolor": "#2a3f5f"
            },
            "type": "carpet"
           }
          ],
          "choropleth": [
           {
            "colorbar": {
             "outlinewidth": 0,
             "ticks": ""
            },
            "type": "choropleth"
           }
          ],
          "contour": [
           {
            "colorbar": {
             "outlinewidth": 0,
             "ticks": ""
            },
            "colorscale": [
             [
              0,
              "#0d0887"
             ],
             [
              0.1111111111111111,
              "#46039f"
             ],
             [
              0.2222222222222222,
              "#7201a8"
             ],
             [
              0.3333333333333333,
              "#9c179e"
             ],
             [
              0.4444444444444444,
              "#bd3786"
             ],
             [
              0.5555555555555556,
              "#d8576b"
             ],
             [
              0.6666666666666666,
              "#ed7953"
             ],
             [
              0.7777777777777778,
              "#fb9f3a"
             ],
             [
              0.8888888888888888,
              "#fdca26"
             ],
             [
              1,
              "#f0f921"
             ]
            ],
            "type": "contour"
           }
          ],
          "contourcarpet": [
           {
            "colorbar": {
             "outlinewidth": 0,
             "ticks": ""
            },
            "type": "contourcarpet"
           }
          ],
          "heatmap": [
           {
            "colorbar": {
             "outlinewidth": 0,
             "ticks": ""
            },
            "colorscale": [
             [
              0,
              "#0d0887"
             ],
             [
              0.1111111111111111,
              "#46039f"
             ],
             [
              0.2222222222222222,
              "#7201a8"
             ],
             [
              0.3333333333333333,
              "#9c179e"
             ],
             [
              0.4444444444444444,
              "#bd3786"
             ],
             [
              0.5555555555555556,
              "#d8576b"
             ],
             [
              0.6666666666666666,
              "#ed7953"
             ],
             [
              0.7777777777777778,
              "#fb9f3a"
             ],
             [
              0.8888888888888888,
              "#fdca26"
             ],
             [
              1,
              "#f0f921"
             ]
            ],
            "type": "heatmap"
           }
          ],
          "heatmapgl": [
           {
            "colorbar": {
             "outlinewidth": 0,
             "ticks": ""
            },
            "colorscale": [
             [
              0,
              "#0d0887"
             ],
             [
              0.1111111111111111,
              "#46039f"
             ],
             [
              0.2222222222222222,
              "#7201a8"
             ],
             [
              0.3333333333333333,
              "#9c179e"
             ],
             [
              0.4444444444444444,
              "#bd3786"
             ],
             [
              0.5555555555555556,
              "#d8576b"
             ],
             [
              0.6666666666666666,
              "#ed7953"
             ],
             [
              0.7777777777777778,
              "#fb9f3a"
             ],
             [
              0.8888888888888888,
              "#fdca26"
             ],
             [
              1,
              "#f0f921"
             ]
            ],
            "type": "heatmapgl"
           }
          ],
          "histogram": [
           {
            "marker": {
             "pattern": {
              "fillmode": "overlay",
              "size": 10,
              "solidity": 0.2
             }
            },
            "type": "histogram"
           }
          ],
          "histogram2d": [
           {
            "colorbar": {
             "outlinewidth": 0,
             "ticks": ""
            },
            "colorscale": [
             [
              0,
              "#0d0887"
             ],
             [
              0.1111111111111111,
              "#46039f"
             ],
             [
              0.2222222222222222,
              "#7201a8"
             ],
             [
              0.3333333333333333,
              "#9c179e"
             ],
             [
              0.4444444444444444,
              "#bd3786"
             ],
             [
              0.5555555555555556,
              "#d8576b"
             ],
             [
              0.6666666666666666,
              "#ed7953"
             ],
             [
              0.7777777777777778,
              "#fb9f3a"
             ],
             [
              0.8888888888888888,
              "#fdca26"
             ],
             [
              1,
              "#f0f921"
             ]
            ],
            "type": "histogram2d"
           }
          ],
          "histogram2dcontour": [
           {
            "colorbar": {
             "outlinewidth": 0,
             "ticks": ""
            },
            "colorscale": [
             [
              0,
              "#0d0887"
             ],
             [
              0.1111111111111111,
              "#46039f"
             ],
             [
              0.2222222222222222,
              "#7201a8"
             ],
             [
              0.3333333333333333,
              "#9c179e"
             ],
             [
              0.4444444444444444,
              "#bd3786"
             ],
             [
              0.5555555555555556,
              "#d8576b"
             ],
             [
              0.6666666666666666,
              "#ed7953"
             ],
             [
              0.7777777777777778,
              "#fb9f3a"
             ],
             [
              0.8888888888888888,
              "#fdca26"
             ],
             [
              1,
              "#f0f921"
             ]
            ],
            "type": "histogram2dcontour"
           }
          ],
          "mesh3d": [
           {
            "colorbar": {
             "outlinewidth": 0,
             "ticks": ""
            },
            "type": "mesh3d"
           }
          ],
          "parcoords": [
           {
            "line": {
             "colorbar": {
              "outlinewidth": 0,
              "ticks": ""
             }
            },
            "type": "parcoords"
           }
          ],
          "pie": [
           {
            "automargin": true,
            "type": "pie"
           }
          ],
          "scatter": [
           {
            "fillpattern": {
             "fillmode": "overlay",
             "size": 10,
             "solidity": 0.2
            },
            "type": "scatter"
           }
          ],
          "scatter3d": [
           {
            "line": {
             "colorbar": {
              "outlinewidth": 0,
              "ticks": ""
             }
            },
            "marker": {
             "colorbar": {
              "outlinewidth": 0,
              "ticks": ""
             }
            },
            "type": "scatter3d"
           }
          ],
          "scattercarpet": [
           {
            "marker": {
             "colorbar": {
              "outlinewidth": 0,
              "ticks": ""
             }
            },
            "type": "scattercarpet"
           }
          ],
          "scattergeo": [
           {
            "marker": {
             "colorbar": {
              "outlinewidth": 0,
              "ticks": ""
             }
            },
            "type": "scattergeo"
           }
          ],
          "scattergl": [
           {
            "marker": {
             "colorbar": {
              "outlinewidth": 0,
              "ticks": ""
             }
            },
            "type": "scattergl"
           }
          ],
          "scattermapbox": [
           {
            "marker": {
             "colorbar": {
              "outlinewidth": 0,
              "ticks": ""
             }
            },
            "type": "scattermapbox"
           }
          ],
          "scatterpolar": [
           {
            "marker": {
             "colorbar": {
              "outlinewidth": 0,
              "ticks": ""
             }
            },
            "type": "scatterpolar"
           }
          ],
          "scatterpolargl": [
           {
            "marker": {
             "colorbar": {
              "outlinewidth": 0,
              "ticks": ""
             }
            },
            "type": "scatterpolargl"
           }
          ],
          "scatterternary": [
           {
            "marker": {
             "colorbar": {
              "outlinewidth": 0,
              "ticks": ""
             }
            },
            "type": "scatterternary"
           }
          ],
          "surface": [
           {
            "colorbar": {
             "outlinewidth": 0,
             "ticks": ""
            },
            "colorscale": [
             [
              0,
              "#0d0887"
             ],
             [
              0.1111111111111111,
              "#46039f"
             ],
             [
              0.2222222222222222,
              "#7201a8"
             ],
             [
              0.3333333333333333,
              "#9c179e"
             ],
             [
              0.4444444444444444,
              "#bd3786"
             ],
             [
              0.5555555555555556,
              "#d8576b"
             ],
             [
              0.6666666666666666,
              "#ed7953"
             ],
             [
              0.7777777777777778,
              "#fb9f3a"
             ],
             [
              0.8888888888888888,
              "#fdca26"
             ],
             [
              1,
              "#f0f921"
             ]
            ],
            "type": "surface"
           }
          ],
          "table": [
           {
            "cells": {
             "fill": {
              "color": "#EBF0F8"
             },
             "line": {
              "color": "white"
             }
            },
            "header": {
             "fill": {
              "color": "#C8D4E3"
             },
             "line": {
              "color": "white"
             }
            },
            "type": "table"
           }
          ]
         },
         "layout": {
          "annotationdefaults": {
           "arrowcolor": "#2a3f5f",
           "arrowhead": 0,
           "arrowwidth": 1
          },
          "autotypenumbers": "strict",
          "coloraxis": {
           "colorbar": {
            "outlinewidth": 0,
            "ticks": ""
           }
          },
          "colorscale": {
           "diverging": [
            [
             0,
             "#8e0152"
            ],
            [
             0.1,
             "#c51b7d"
            ],
            [
             0.2,
             "#de77ae"
            ],
            [
             0.3,
             "#f1b6da"
            ],
            [
             0.4,
             "#fde0ef"
            ],
            [
             0.5,
             "#f7f7f7"
            ],
            [
             0.6,
             "#e6f5d0"
            ],
            [
             0.7,
             "#b8e186"
            ],
            [
             0.8,
             "#7fbc41"
            ],
            [
             0.9,
             "#4d9221"
            ],
            [
             1,
             "#276419"
            ]
           ],
           "sequential": [
            [
             0,
             "#0d0887"
            ],
            [
             0.1111111111111111,
             "#46039f"
            ],
            [
             0.2222222222222222,
             "#7201a8"
            ],
            [
             0.3333333333333333,
             "#9c179e"
            ],
            [
             0.4444444444444444,
             "#bd3786"
            ],
            [
             0.5555555555555556,
             "#d8576b"
            ],
            [
             0.6666666666666666,
             "#ed7953"
            ],
            [
             0.7777777777777778,
             "#fb9f3a"
            ],
            [
             0.8888888888888888,
             "#fdca26"
            ],
            [
             1,
             "#f0f921"
            ]
           ],
           "sequentialminus": [
            [
             0,
             "#0d0887"
            ],
            [
             0.1111111111111111,
             "#46039f"
            ],
            [
             0.2222222222222222,
             "#7201a8"
            ],
            [
             0.3333333333333333,
             "#9c179e"
            ],
            [
             0.4444444444444444,
             "#bd3786"
            ],
            [
             0.5555555555555556,
             "#d8576b"
            ],
            [
             0.6666666666666666,
             "#ed7953"
            ],
            [
             0.7777777777777778,
             "#fb9f3a"
            ],
            [
             0.8888888888888888,
             "#fdca26"
            ],
            [
             1,
             "#f0f921"
            ]
           ]
          },
          "colorway": [
           "#636efa",
           "#EF553B",
           "#00cc96",
           "#ab63fa",
           "#FFA15A",
           "#19d3f3",
           "#FF6692",
           "#B6E880",
           "#FF97FF",
           "#FECB52"
          ],
          "font": {
           "color": "#2a3f5f"
          },
          "geo": {
           "bgcolor": "white",
           "lakecolor": "white",
           "landcolor": "#E5ECF6",
           "showlakes": true,
           "showland": true,
           "subunitcolor": "white"
          },
          "hoverlabel": {
           "align": "left"
          },
          "hovermode": "closest",
          "mapbox": {
           "style": "light"
          },
          "paper_bgcolor": "white",
          "plot_bgcolor": "#E5ECF6",
          "polar": {
           "angularaxis": {
            "gridcolor": "white",
            "linecolor": "white",
            "ticks": ""
           },
           "bgcolor": "#E5ECF6",
           "radialaxis": {
            "gridcolor": "white",
            "linecolor": "white",
            "ticks": ""
           }
          },
          "scene": {
           "xaxis": {
            "backgroundcolor": "#E5ECF6",
            "gridcolor": "white",
            "gridwidth": 2,
            "linecolor": "white",
            "showbackground": true,
            "ticks": "",
            "zerolinecolor": "white"
           },
           "yaxis": {
            "backgroundcolor": "#E5ECF6",
            "gridcolor": "white",
            "gridwidth": 2,
            "linecolor": "white",
            "showbackground": true,
            "ticks": "",
            "zerolinecolor": "white"
           },
           "zaxis": {
            "backgroundcolor": "#E5ECF6",
            "gridcolor": "white",
            "gridwidth": 2,
            "linecolor": "white",
            "showbackground": true,
            "ticks": "",
            "zerolinecolor": "white"
           }
          },
          "shapedefaults": {
           "line": {
            "color": "#2a3f5f"
           }
          },
          "ternary": {
           "aaxis": {
            "gridcolor": "white",
            "linecolor": "white",
            "ticks": ""
           },
           "baxis": {
            "gridcolor": "white",
            "linecolor": "white",
            "ticks": ""
           },
           "bgcolor": "#E5ECF6",
           "caxis": {
            "gridcolor": "white",
            "linecolor": "white",
            "ticks": ""
           }
          },
          "title": {
           "x": 0.05
          },
          "xaxis": {
           "automargin": true,
           "gridcolor": "white",
           "linecolor": "white",
           "ticks": "",
           "title": {
            "standoff": 15
           },
           "zerolinecolor": "white",
           "zerolinewidth": 2
          },
          "yaxis": {
           "automargin": true,
           "gridcolor": "white",
           "linecolor": "white",
           "ticks": "",
           "title": {
            "standoff": 15
           },
           "zerolinecolor": "white",
           "zerolinewidth": 2
          }
         }
        },
        "title": {
         "text": "MEDIAN : Total Profit Percentage (in %) x different time-to-chart (Across different models) <br>ccy:BTCUSDT - feat_package:2",
         "x": 0.5
        },
        "width": 1200,
        "xaxis": {
         "title": {
          "standoff": 25,
          "text": "Total Profit Percentage (in %)"
         }
        },
        "yaxis": {
         "showticklabels": false
        }
       }
      }
     },
     "metadata": {},
     "output_type": "display_data"
    }
   ],
   "source": [
    "fig_output = get_meanplot_total_profit_diff_time_to_chart(df_sim_results, list_feat[0])"
   ]
  },
  {
   "attachments": {},
   "cell_type": "markdown",
   "metadata": {},
   "source": [
    "### `ccy=BTCUSDT` & `feat_package=3`"
   ]
  },
  {
   "attachments": {},
   "cell_type": "markdown",
   "metadata": {},
   "source": [
    "#### Parameters"
   ]
  },
  {
   "cell_type": "code",
   "execution_count": 48,
   "metadata": {},
   "outputs": [],
   "source": [
    "#list_ccy = ['BTCUSDT', 'BNBUSDT', 'ETHUSDT']\n",
    "#list_timestamp = [\"1d\", \"1h\", \"15m\", \"5m\"]\n",
    "#list_feat = ['1', '2', '3']\n",
    "\n",
    "list_ccy = ['BTCUSDT']\n",
    "#list_timestamp = [\"1d\", \"1h\", \"15m\", \"5m\"]\n",
    "list_timestamp = [\"1d\", \"1h\", \"15m\"]\n",
    "list_feat = ['3']\n",
    "\n",
    "list_config_file_name = []\n",
    "for ccy in list_ccy:\n",
    "    for timestamp in list_timestamp:\n",
    "        for feat in list_feat:\n",
    "            config_file_name = \"config_msc_\" + ccy + \"_\" + timestamp + \"_feat_package\" + feat\n",
    "            list_config_file_name.append(config_file_name)"
   ]
  },
  {
   "attachments": {},
   "cell_type": "markdown",
   "metadata": {},
   "source": [
    "#### Get the data"
   ]
  },
  {
   "cell_type": "code",
   "execution_count": 49,
   "metadata": {},
   "outputs": [],
   "source": [
    "df_sim_results = pd.DataFrame()\n",
    "for config_file_name in list_config_file_name:\n",
    "    df_sim_results_temp = get_and_process_simulation_data(config_file_name)\n",
    "    df_sim_results_temp['config_file_name'] = config_file_name\n",
    "    df_sim_results = pd.concat([df_sim_results, df_sim_results_temp], axis=0)"
   ]
  },
  {
   "attachments": {},
   "cell_type": "markdown",
   "metadata": {},
   "source": [
    "#### Plot the results"
   ]
  },
  {
   "cell_type": "code",
   "execution_count": 50,
   "metadata": {},
   "outputs": [
    {
     "data": {
      "application/vnd.plotly.v1+json": {
       "config": {
        "plotlyServerURL": "https://plot.ly"
       },
       "data": [
        {
         "line": {
          "color": "green"
         },
         "name": "15min",
         "showlegend": false,
         "type": "box",
         "xaxis": "x",
         "y": [
          -64.01404547945621,
          0,
          -58.9834222234021,
          -32.70316247832814,
          -58.69466890441991,
          -32.96674408530858,
          -63.9823370823376,
          -49.66266666753,
          -57.8954388613956,
          0,
          0,
          -46.0313661525373,
          -2.4097550510429944,
          -9.31620151811331,
          -57.529021710199935,
          -63.891345889697604,
          -53.69213620820996,
          -58.182351771692844,
          0,
          -55.1711530413526,
          -64.49488679985119,
          0,
          0,
          -54.340318597639815,
          -15.102274512061143,
          0,
          -18.759052768779416,
          -63.47195522107479,
          -58.56010085609002,
          0,
          0,
          -62.98058982466046,
          -48.53252321758127,
          0,
          0,
          -56.52526684239898,
          0,
          -65.21574240031639,
          -24.260524217354796,
          -58.539286544466876,
          -63.730666313433616,
          -56.453723803412316,
          0,
          -5.952878498034897,
          -59.264337328630454,
          -64.93971604425053,
          -56.24294256318068,
          -53.5567547213881,
          -64.43808054150875,
          -54.51017839930907,
          0,
          -14.771269676518717,
          0,
          0,
          0,
          -55.70906374068164,
          -56.73141817699927,
          0,
          -13.057591742817308,
          -54.29094508895299,
          -63.189755961850544,
          -54.2372947202731,
          0,
          -52.536989555264235,
          -16.101653029373985,
          -56.160156227236556,
          0,
          1.0521553872216316,
          0,
          -58.26132911323412,
          0,
          -25.40941738003908,
          -15.611824181336164,
          -58.739099363430924,
          0,
          -23.886338124137886,
          -63.160205487292444,
          -57.67853109408563,
          -8.47500680317289,
          -63.94121177621681,
          -58.56738605355074,
          0,
          -47.91288143589859,
          -54.76418178078417,
          -49.27844401263821,
          -16.30993011170775,
          0,
          -55.11731678134777,
          0,
          -52.24668380797846,
          -12.269422505883087,
          -58.26615048483236,
          0,
          0,
          -20.107044359284075,
          0,
          0,
          -56.719676961166144,
          0,
          -14.168280544265798
         ],
         "yaxis": "y"
        },
        {
         "line": {
          "color": "orange"
         },
         "name": "1h",
         "showlegend": false,
         "type": "box",
         "xaxis": "x",
         "y": [
          -35.70749434689675,
          -50.97942752774731,
          -42.04534188370286,
          -42.23912716376896,
          -70.04121408476483,
          -60.1826108066686,
          -53.451653379699984,
          -59.137892883031405,
          -63.33882718701307,
          -38.45115338266931,
          -54.325487036274836,
          -55.13692712954816,
          -72.94304571926136,
          -61.24315680795569,
          -37.262565668420436,
          -69.91895506276961,
          -60.40960193122977,
          -43.434902229517114,
          -66.67961494278138,
          -64.85004883771384,
          -40.01962951222258,
          -45.89438938120601,
          -61.34894150989831,
          -52.44427609064783,
          -56.87521251133894,
          -49.60074153032667,
          -50.76407481028288,
          -21.56417652423508,
          -56.46687109752329,
          -59.018620638985354,
          -51.41860472956693,
          -60.68592986547645,
          -54.35719021824409,
          -47.33567013315204,
          -65.33837582367863,
          -66.34788354500172,
          -50.83122894212359,
          -41.95022817362536,
          -63.45393009411201,
          -18.282260340606836,
          -55.4959964172111,
          -56.482502408776504,
          -62.10013232588613,
          -44.062433135517445,
          -32.130852670803925,
          -73.48010956675218,
          -54.25909472756605,
          -55.4791222214655,
          -60.12726041596235,
          -67.30184844530372,
          -69.53034915835988,
          -48.09223668035233,
          -27.9874459746148,
          -12.360629905339016,
          -51.7341571549043,
          -70.3374397283066,
          -54.39931848696183,
          -60.358708233186164,
          -52.180999302550205,
          -65.78833735373254,
          -32.48192224079299,
          -53.20168868382575,
          -44.687834492870515,
          -74.03331772668949,
          -60.83139726022735,
          -60.89480765525119,
          -54.14259121180631,
          -52.75390974287364,
          -7.776483182046334,
          -23.99704593433356,
          -48.65345597391665,
          -40.08254983712708,
          -33.50583224985348,
          -47.15824967212563,
          -54.80487092744957,
          -30.044989848702784,
          -25.659039373192705,
          -23.277110258897103,
          -50.468688841361256,
          -64.09691078084656,
          -58.11808300309353,
          -64.20108979924177,
          -46.10666787300176,
          -66.27047644218172,
          -73.9733609303046,
          -68.8017529830232,
          -42.463877920322325,
          -60.78223964643909,
          -59.91584661006677,
          -53.40836582717954,
          -52.09937231399846,
          -62.610931609688905,
          -38.7288566759747,
          -59.29341883900238,
          -61.196701455894065,
          -48.89456463908509,
          -60.44861960050629,
          -51.57808924235441,
          -65.8745305008763,
          -65.4071837166597
         ],
         "yaxis": "y"
        },
        {
         "line": {
          "color": "violet"
         },
         "name": "1d",
         "showlegend": false,
         "type": "box",
         "xaxis": "x",
         "y": [
          -10.447520508400999,
          -28.708452852855448,
          -8.732434386733367,
          -36.161690839941116,
          -66.66885089219865,
          -63.49304584914246,
          -68.94359550499661,
          -64.6533084339395,
          -35.853543066065285,
          -46.830219147573175,
          -25.86972449740088,
          -37.950616312458685,
          -65.05351878792165,
          -38.43124271481514,
          -46.71337214983578,
          -42.82069730167495,
          -33.39378652539852,
          -63.36200048953303,
          -64.77258282112538,
          -64.82787340637377,
          -27.307389598004917,
          -45.38658501282011,
          -64.56578243016031,
          -71.19310862150968,
          -41.32990385192824,
          -53.20693773685732,
          -15.456902508347659,
          -43.88823596511023,
          -52.33293778856658,
          -64.54292382758015,
          -43.97197697763075,
          -28.295491163151322,
          -64.41023934014684,
          -31.695393016957652,
          -28.991122089564236,
          -31.464696648199276,
          -29.30015395630918,
          -50.210510056607795,
          -64.98485852817689,
          -72.47251418172713,
          -47.13338596279628,
          -17.160579550335587,
          -62.61430152467097,
          -34.08044021979364,
          -28.325272248906387,
          -41.19178792946546,
          -23.059086274623187,
          -26.859213151056405,
          -53.881040622708795,
          6.629814276364465,
          -66.6193427447037,
          -62.96436248492584,
          -59.040643508150524,
          -11.871326568238382,
          -25.895423615469937,
          -52.66079083726353,
          -54.64242898857199,
          -69.00237950216454,
          -52.93195077675876,
          -32.46372495240459,
          -41.39974487674875,
          -62.54403774593171,
          -61.8880255805324,
          -49.49991695569871,
          -53.07709822902407,
          -37.71172719865513,
          -32.18202418780917,
          -16.762381357388268,
          -46.663354040421325,
          -49.855809518496066,
          -26.369352070364982,
          -57.96821393981093,
          -52.798902670861516,
          -58.56169402787269,
          -64.93050112060253,
          -59.99336613617554,
          -44.1089387332481,
          -45.25251911992479,
          -32.191832508954775,
          -74.94973659886868,
          -4.8521359179024,
          -55.9709932720525,
          -45.507445202956745,
          -46.01341816454121,
          -44.26560367971866,
          17.197203422996466,
          -65.3120086110701,
          -59.28593488761481,
          -51.09561523285543,
          -45.11022968158331,
          -31.073435227107126,
          -63.26207329404436,
          -22.984795535322288,
          -52.995360746553224,
          -19.89003706004141,
          -60.679627934180466,
          -58.37363968912956,
          -17.891596704371658,
          -74.52496377487081,
          -59.692927278751284
         ],
         "yaxis": "y"
        },
        {
         "line": {
          "color": "green"
         },
         "name": "15min",
         "showlegend": false,
         "type": "box",
         "xaxis": "x2",
         "y": [
          -2.505517498520482,
          13.98516594037249,
          -19.83594251963573,
          -2.490792518082985,
          8.953397265869567,
          -14.520605313083468,
          10.455256507355305,
          -6.085047346358219,
          -17.62199319073945,
          6.1768889112418845,
          -7.89897399642615,
          -20.15280863547566,
          -20.838178497257708,
          5.0593764860001444,
          -22.6841728301839,
          -19.653120894237432,
          -28.300817666592724,
          14.0793878904661,
          -9.107764837055111,
          -9.040148290162486,
          -8.269739075686577,
          -25.37826280343528,
          14.105482147503533,
          -1.6530482067177665,
          -16.418453379273924,
          0.3037446530503418,
          -25.31642271534862,
          -13.613493237548646,
          -36.36483321705967,
          21.541847766528697,
          3.805976418051693,
          -13.953910525954495,
          -22.515413030940234,
          -19.768151384521847,
          -12.652796390566468,
          15.695617087786772,
          -8.476256468948007,
          -26.881605414667355,
          23.41690133095544,
          -39.5537982586214,
          -21.33047432805929,
          -30.625762287908465,
          3.447366057720158,
          2.755137111660888,
          9.384378190650434,
          13.58260870249337,
          -12.933482377564843,
          -24.51258941987129,
          -17.847528577086138,
          -8.531343574575212,
          -23.120664984234217,
          7.796639845154174,
          -25.17476911034694,
          -13.45407945371585,
          -12.176504050268699,
          -20.255185249511353,
          3.2634051752312265,
          -39.37337472781769,
          -6.215591882222982,
          7.70343885263316,
          -13.081975336035256,
          -11.430550258397776,
          -12.469937012837907,
          -32.26542775961296,
          5.545627346775905,
          31.592124652997967,
          -20.538215385611036,
          -11.416158538525812,
          -18.958006700672126,
          -25.087734474169043,
          8.30892809300041,
          11.14565507137093,
          -3.2865172278503163,
          -2.6380928103857393,
          -12.997473082762735,
          6.234993704529401,
          8.176072119590705,
          18.244945582830162,
          -23.894591127262444,
          -19.135135226093723,
          8.819039924266626,
          -4.325672704538086,
          -21.420250149404787,
          -23.102122263897407,
          -13.839128130631517,
          -26.93058322177585,
          -24.499675677179212,
          -15.196564719274708,
          -30.43813736866895,
          -4.925157495312893,
          -3.57518854449298,
          -7.264544403421769,
          -2.409574269306214,
          29.16539477657656,
          -4.55839732886284,
          3.9479511152448854,
          9.746026899578242,
          36.789745747478506,
          2.0135570789186596,
          -4.4409675632825385
         ],
         "yaxis": "y2"
        },
        {
         "line": {
          "color": "orange"
         },
         "name": "1h",
         "showlegend": false,
         "type": "box",
         "xaxis": "x2",
         "y": [
          -42.607223782360016,
          -45.49070288000648,
          -48.88182443112168,
          -42.84370350075572,
          -4.664928177016003,
          -8.997986545045523,
          -30.924825632012308,
          -9.46078603598931,
          -47.55888396819201,
          -37.517335671955706,
          -42.09232127774195,
          -56.42854002879667,
          -53.81384566069614,
          -11.717969992779187,
          -41.62715615438761,
          -48.68339322102797,
          -11.170785019948326,
          -40.739710992669366,
          -56.43873777300765,
          32.97646980011004,
          -35.48442024694711,
          -45.61282541202909,
          -65.89108943513425,
          -31.497087360448806,
          -37.486494634947576,
          -39.19052181893659,
          -26.481716011593115,
          -43.135576943416446,
          -34.02514209013301,
          -42.238768111365154,
          -19.20953312433443,
          -46.17302234506426,
          -20.127815981572716,
          -58.072841896661465,
          -48.99397214572855,
          12.396616184988286,
          -2.83882367471171,
          -32.546853441935056,
          -49.249214575157765,
          -61.15137798601224,
          -39.592107902127275,
          -63.52576263985122,
          -74.85640381698101,
          -43.396305388823166,
          -42.782787871971884,
          -58.08016726436098,
          -67.0151883926779,
          -43.79208687492968,
          -55.80484461540149,
          -41.7698637139426,
          -24.337333468080026,
          -30.860045409069002,
          -41.82633775191652,
          -16.970940507429244,
          -62.26213886111793,
          -34.178740357122614,
          -25.519600868412052,
          -34.503855496910354,
          -58.81337044302395,
          -42.85550902167885,
          5.136374597989635,
          -48.34946378255803,
          -44.83375293639903,
          -32.49184385946029,
          -52.06312517951034,
          -60.666857072840585,
          -41.15577502680725,
          -37.64341260903017,
          -38.98110480015807,
          -45.39469088871656,
          -28.615366440363765,
          -46.27944380137063,
          4.346436588032132,
          -44.4202289532312,
          -59.855652284364936,
          -48.49966302759341,
          -33.94297260105969,
          -57.61672504672761,
          -56.688422633203174,
          -30.32579009680977,
          -50.907058927751734,
          -36.89989351875928,
          -53.82066748573645,
          -46.483878108097166,
          -32.82150174971178,
          -56.450297978194484,
          -47.226825864116904,
          -36.19797451080071,
          -55.264952547215366,
          -59.78443097076451,
          -14.079574329604338,
          -12.873876365439152,
          -35.238070780852816,
          -31.69569983136392,
          -32.915418277829886,
          -35.98719171718924,
          -41.11332369301146,
          -47.41369573057605,
          -54.711468438361585,
          -1.6400197864117283
         ],
         "yaxis": "y2"
        },
        {
         "line": {
          "color": "violet"
         },
         "name": "1d",
         "showlegend": false,
         "type": "box",
         "xaxis": "x2",
         "y": [
          -56.69108571370902,
          -29.843536989361162,
          -29.943658639670858,
          -48.34886858317948,
          -53.08292014792584,
          -11.216052030856494,
          -51.261235925755535,
          -40.88399354207476,
          -53.55843308183571,
          -44.96003145165193,
          -37.18036266382803,
          -62.53334100504666,
          -48.71954275435558,
          -48.86409954427277,
          -34.95319772160151,
          -34.78950864845991,
          -42.63179856042959,
          5.256357976986026,
          -34.695220295857744,
          -53.611657219259776,
          14.17097757910959,
          -41.51792812050874,
          -20.773805740511932,
          -61.638458547525346,
          -51.630746665679,
          -48.195358142548905,
          4.786038683086491,
          -46.75599135483508,
          -19.9887917121401,
          -48.794924527940296,
          -22.866758986871293,
          -45.86079519436338,
          -26.735509954795756,
          -56.131317275286754,
          -50.5808217067365,
          -47.03859358333114,
          30.71026043146794,
          -30.73995684891647,
          -36.541986607662025,
          -45.01812381161575,
          -18.1970169615581,
          17.160101166982187,
          -43.236361926093956,
          -58.75166886151787,
          -38.90745903195327,
          -2.840922048110117,
          -45.061564589899085,
          -11.330735833566475,
          -36.974224813787245,
          -39.820766163481025,
          -28.98370440504663,
          -46.94456864621639,
          -29.867909597710394,
          -26.47885688767507,
          5.6003197303744034,
          -25.818695644277557,
          -62.389191083975206,
          -51.3426067621132,
          -34.597011264765364,
          -50.42807806595795,
          -14.708839011071372,
          -57.609250662072384,
          -18.685748180198345,
          -28.794729911669837,
          -34.81434070345802,
          -31.7476444922412,
          -29.20603137076644,
          -57.52204348405405,
          -41.30931929526712,
          -53.86793923624401,
          -8.787587694429078,
          -53.606291511104764,
          -34.09839689542273,
          -39.51952672616713,
          -44.90295521548071,
          -47.80579728262325,
          -41.79511776493931,
          -31.63787563134396,
          -50.2793314064449,
          -13.603745364474628,
          -52.04896754157182,
          -33.04095166187974,
          -24.809770980965496,
          -35.366055369479156,
          -39.86349037442237,
          11.950533033262811,
          -56.4041657085071,
          -30.257604257706262,
          12.59084052342998,
          -33.457081189943594,
          -43.28996833503438,
          -60.31311688177507,
          -61.94060897021143,
          -50.575046630599665,
          -36.32290945309029,
          -61.72075957616586,
          -37.957785917595324,
          -36.18258356052395,
          -61.0623054667759,
          -31.622566451891053
         ],
         "yaxis": "y2"
        },
        {
         "line": {
          "color": "green"
         },
         "name": "15min",
         "showlegend": false,
         "type": "box",
         "xaxis": "x3",
         "y": [
          -25.35393208342237,
          -15.953472455090957,
          -7.6250329453221415,
          -8.28110132501414,
          -24.589098960948043,
          -27.238892396587744,
          -32.94365089659006,
          -34.783162013353994,
          -22.34334107439161,
          -25.56512671543939,
          -41.36820221388272,
          -13.902561703546256,
          -9.296527750940054,
          -28.197688538711763,
          -30.341487532516464,
          -16.727702441438918,
          -10.810177658772668,
          -28.70287534255005,
          -25.33564646037889,
          -38.55086250930984,
          -30.671760538868874,
          -20.638865115684133,
          -24.77326361976584,
          -26.347604531194268,
          -12.279726581928907,
          -12.278348176087594,
          -31.42093874279297,
          -35.62420780673964,
          -27.130083169334384,
          -25.895065246500458,
          -23.11275928188451,
          -23.979657023503044,
          -31.441209668780136,
          -22.390384277197718,
          -17.2280501565395,
          -44.68859748293317,
          -14.734502334761457,
          -16.236406628709187,
          -24.452960041926342,
          -26.111834510981836,
          -21.727558021129823,
          -17.939600787763354,
          -31.604677279623516,
          -4.249279156615804,
          -31.486235567338394,
          -17.422722599003603,
          -23.154292701673718,
          -22.006131292873153,
          -31.20095773451813,
          -11.285274894394648,
          -26.43004380942221,
          -40.41883846374863,
          -28.35150976778428,
          -20.33079193534595,
          -26.95630950580724,
          -24.27022444270187,
          -17.741609571501648,
          -31.35779064561246,
          -24.259365660514685,
          -20.68927644557873,
          -20.03866976462857,
          -17.029622091619323,
          -29.83715390930883,
          -33.664945575579374,
          -27.712793077790664,
          -11.407629428004018,
          -11.98267973682503,
          -33.89696237969866,
          -30.691586673020677,
          -9.753620857695255,
          -17.06038230548804,
          -31.84406302287823,
          -30.394008621906966,
          -27.003332457939134,
          -9.47456146490705,
          -26.92949150941374,
          -38.495237954296826,
          -39.197575381232554,
          -13.893516025537156,
          -21.13705527775004,
          -26.29169453548277,
          -10.606394770894523,
          -29.62389522161074,
          -31.98354529852866,
          -18.9927300860367,
          -10.422234587456236,
          -17.957601703530813,
          -16.743777900101296,
          -20.885671877917623,
          -21.9588756540505,
          -19.27268931060072,
          -15.89331058707767,
          -15.957618766134408,
          -25.65106113153066,
          -24.19691051423395,
          -26.126259067957747,
          -34.686784837917415,
          -19.812818488346462,
          -21.333676374819845,
          -31.419230770276528
         ],
         "yaxis": "y3"
        },
        {
         "line": {
          "color": "orange"
         },
         "name": "1h",
         "showlegend": false,
         "type": "box",
         "xaxis": "x3",
         "y": [
          8.153220124041983,
          -0.2668299814126973,
          -69.76021513992382,
          5.384586140028058,
          -61.55955005422131,
          -36.336097950353995,
          -47.470899044689475,
          -58.4854128373814,
          -55.40095397836677,
          -61.05840005745784,
          -41.185764712261765,
          -57.628887821429856,
          -42.09958805622639,
          -28.207567074438433,
          -22.23411535568435,
          -30.984056715629173,
          -25.45137481924449,
          -38.79168827944006,
          -24.447936016545434,
          -3.277878589779959,
          -39.96482843122726,
          -19.605461938947542,
          -38.74028599850197,
          -55.1248624983192,
          -15.51499622977236,
          -40.915148123125974,
          19.79442225757344,
          -15.622400334499787,
          -37.206524617884085,
          -19.772414143501983,
          -50.10968730159484,
          -41.987788767513756,
          14.900962714347997,
          -12.491995802163125,
          -37.1861862823734,
          -12.956545438640498,
          -44.03184129959597,
          -39.90901469848925,
          -46.70411080032979,
          -47.70539939575955,
          -28.39537497416683,
          -56.11252371050027,
          -28.128890822426566,
          -63.55858151397469,
          -29.721211266471357,
          -29.71071935458759,
          -40.425354787060975,
          -38.783232123845146,
          -48.53451209287084,
          2.9994421829196316,
          -40.01266151795383,
          13.988170478693274,
          -6.7325217889893985,
          -35.38423358319991,
          -62.65390043525261,
          -10.531290331375198,
          -39.61191732589327,
          -17.525463328112277,
          -48.95693156286948,
          -59.0409248971826,
          -13.67756017392373,
          11.458183581770932,
          -43.0097099011024,
          -49.72468376626353,
          -5.004895971584478,
          -53.277472377941635,
          -36.71171179693656,
          -56.490057457309625,
          -22.145580131635633,
          -48.08071979516508,
          -21.107533309712924,
          -31.12915850869824,
          -17.99301993596104,
          -32.24366073545523,
          -55.567260199574456,
          -76.08765915714777,
          -38.6462952559805,
          -43.29885227431556,
          -30.003059467356263,
          -33.515375792016,
          -41.44126559100903,
          -61.204363262187464,
          -32.69730482778982,
          -21.224785559575764,
          8.607835394545926,
          -14.885393250389434,
          -50.86320070133667,
          -26.12532005523476,
          -66.04223245519363,
          -66.86877469347891,
          -56.80256893373738,
          -45.28373440381993,
          -12.007898303373754,
          -53.29304856284664,
          -60.67931407426239,
          -21.694223671040536,
          -25.11969270824754,
          3.124357667964728,
          -70.43206033300397,
          -53.76867594542095
         ],
         "yaxis": "y3"
        },
        {
         "line": {
          "color": "violet"
         },
         "name": "1d",
         "showlegend": false,
         "type": "box",
         "xaxis": "x3",
         "y": [
          -53.62150665645598,
          -46.87087308358403,
          -43.37132412383551,
          -10.398091499182115,
          -20.776123481683626,
          -20.989119695770565,
          -35.958253804394744,
          -23.014514621637574,
          -26.196592922855586,
          -8.489875618131105,
          -34.92589347988964,
          -0.458932988645,
          -16.174199096845477,
          -27.438473744434198,
          -36.00023324608187,
          -21.63163212202238,
          -41.33773281251,
          -22.97042913746813,
          -47.7970018477988,
          -59.07794327510347,
          -42.54039904082694,
          -58.437090307042915,
          11.136452233509274,
          -46.181587601812566,
          -16.35229831263123,
          -19.655529656763083,
          -24.573056908251665,
          -43.74913171347779,
          -39.608252118970576,
          -22.11661622126998,
          -12.942344341013012,
          -61.28778086027399,
          2.5060591120890097,
          -0.6858713877950562,
          -16.523902908080068,
          -43.56275235245813,
          -27.690584359772608,
          -45.953023544585946,
          -49.9814318848157,
          -44.33222651650828,
          -37.19981358580077,
          -12.49953570478125,
          -25.629066920609876,
          -38.96526609204539,
          -49.96425360506248,
          -51.60841692457985,
          -46.65222857692913,
          -13.240199751742733,
          -17.363612059746803,
          -23.778622146917517,
          -41.2890686898773,
          -53.23698936080476,
          -37.75122670258349,
          11.375109795819238,
          -35.03697933028446,
          -16.759509542942695,
          -11.77229951632709,
          -3.0051319024242074,
          -52.031151586518696,
          -29.582110599512557,
          -43.39288511340247,
          25.86602776239577,
          21.47175952677798,
          -17.730358262088973,
          -53.37081706344045,
          -57.44966361703656,
          -31.477515406554247,
          -20.434719139706658,
          -47.97485572219345,
          -33.31741941180283,
          15.525792149623218,
          -52.03898099063969,
          4.923534524508599,
          -36.66666552140907,
          -9.228276586162332,
          4.714312487163652,
          8.441569678492634,
          -55.14770020262374,
          -44.73642969422408,
          -2.1464910175188923,
          -25.205151025321815,
          0.3759030295761745,
          -22.200781580592032,
          -38.40620309524299,
          -12.12192115885874,
          -53.222072532061915,
          -9.418844075289734,
          -0.550852770905208,
          -22.902808168190305,
          -3.5122717660181935,
          -30.688541155063064,
          -37.88544699537313,
          3.8796729760875115,
          -49.16403113218014,
          -55.71181759633963,
          10.266213572412264,
          -42.377657761851076,
          -24.96424819928397,
          -56.362619053090434,
          -49.56291840924233
         ],
         "yaxis": "y3"
        },
        {
         "line": {
          "color": "green"
         },
         "name": "15min",
         "showlegend": false,
         "type": "box",
         "xaxis": "x4",
         "y": [
          -40.479057012256106,
          -52.870930847161304,
          -26.976769400543343,
          -22.404673107186536,
          -58.174516131158306,
          -49.8600350650768,
          -33.15886365121933,
          -49.424774837878175,
          -17.401940962970396,
          -55.64354128832717,
          -10.231005231257129,
          -28.14897055766197,
          -53.486667293420275,
          -51.12889835504688,
          -33.19843171411417,
          -12.535273764096356,
          -58.22839116376144,
          -67.21696691036236,
          -51.217665771836394,
          -43.101065640531345,
          -10.755549496273487,
          -62.961790708247335,
          -25.692299414037244,
          -39.097665178194895,
          -48.1325995145258,
          -51.729688957231865,
          6.775433149751864,
          -30.497556566726324,
          -23.777974657356072,
          -39.902422468022536,
          -53.52343644130205,
          -40.06250938136024,
          -19.08812937205505,
          -59.909298385497145,
          -40.889607295220365,
          -53.56188264313057,
          -46.04645531253336,
          -51.595815060966245,
          -45.38948510995488,
          -59.8025563876924,
          -31.590941253446736,
          -35.867810385309475,
          -34.2061554175307,
          -45.44266267273682,
          -33.21511253615874,
          -52.78025068748079,
          -34.714379812202345,
          -32.412545509928805,
          -52.8250825548555,
          -60.43836908029747,
          -28.40354218804535,
          -42.01936010795531,
          9.465085177196997,
          -30.015262401496535,
          -39.70540440914784,
          -37.53074452477987,
          -48.83239296837012,
          -0.715960500948265,
          -50.670451436067964,
          -46.4316487880334,
          -43.728019707070686,
          -34.11481901542054,
          -69.26435376541133,
          -51.13805228366315,
          -48.78959184546683,
          -57.04156929234012,
          -48.7905419740715,
          47.95049838241192,
          -9.697596194561376,
          -47.409998349289296,
          -30.65659896389552,
          -29.938134657867366,
          4.559404287874624,
          20.400659407653233,
          -47.140854532379585,
          -44.68028486472549,
          -63.220304690138526,
          -78.26655779905977,
          -56.47444917245221,
          -41.41891150096377,
          -49.43347550375059,
          -66.12299519051912,
          -29.68125450238531,
          -66.27543283118551,
          -45.74731521519474,
          -75.56151887956159,
          -37.44037658154349,
          -73.41930838075483,
          -48.990477883876494,
          -57.07466953061078,
          -14.535004338646662,
          -60.378206496804296,
          -39.78002238989895,
          -31.314294404748644,
          -37.70647665892722,
          11.784824642701297,
          -59.71632419434171,
          -37.2092565782284,
          -34.234153020580436,
          -20.511341356428403
         ],
         "yaxis": "y4"
        },
        {
         "line": {
          "color": "orange"
         },
         "name": "1h",
         "showlegend": false,
         "type": "box",
         "xaxis": "x4",
         "y": [
          -16.40353391853038,
          -50.59895484938406,
          -15.211842524581776,
          -56.4963802332682,
          -66.30109117583287,
          -10.414093354860887,
          -27.79754905947688,
          -36.275693108934604,
          -53.22326875655013,
          -30.37745593924597,
          -39.76481902492996,
          -41.37279147133627,
          -19.625777325760364,
          -17.19505610499151,
          -44.39707788369714,
          -41.317720745446174,
          -6.319643801550246,
          -21.679514722201787,
          -28.904746760232914,
          -33.37331424066288,
          -55.896524682907824,
          -58.72955467085125,
          -69.45758310681423,
          -67.637176209533,
          -43.629941790564374,
          -54.76890098058078,
          -68.37541913464679,
          -54.20745246698699,
          -44.6576002726893,
          -45.78320993408537,
          -46.68945349152598,
          -26.08068677592138,
          -51.06144823324015,
          -48.1341679538455,
          -57.65547453311053,
          -66.30852281834561,
          -40.28287947694215,
          -37.13706467793021,
          -44.62200170450965,
          -60.14141681064451,
          -44.85300779488238,
          -41.26891169075071,
          -26.75742901863861,
          -25.966580925841008,
          -74.283647151247,
          -67.12407089071802,
          14.207558248516294,
          -33.624557312436195,
          67.2971281070504,
          -33.99215960812037,
          -56.85221859002512,
          -27.169444765070814,
          -52.31125053354091,
          -28.900566776242208,
          -56.99680793500459,
          -43.371562511622805,
          7.432688529368758,
          42.34875993276284,
          27.543557034632936,
          -23.016133469128842,
          -45.408092107351116,
          -17.736429080286765,
          -44.93368917148971,
          -29.945430694090113,
          -62.31547286097692,
          -60.64569974260172,
          -30.879789628114462,
          -42.33438088078677,
          -43.806945270906496,
          25.79765432515193,
          -10.790159041489822,
          -67.58422181469264,
          -62.804069780988016,
          -37.9980154489658,
          -63.32757676584744,
          -21.74955950971419,
          -52.032816819426344,
          -52.40259841079078,
          -46.142422890339994,
          -37.925195751533046,
          -43.949596792669276,
          3.292497197763411,
          -50.38904071304113,
          -35.18682364420756,
          25.684985310716833,
          -59.5560554910063,
          -45.32337960202769,
          -32.53635953725483,
          -19.017241515807402,
          -37.30665906938345,
          -38.423915945495466,
          -55.46137514267754,
          -57.45220154805424,
          -42.26298010364546,
          -39.94119348441602,
          -54.79158460899093,
          -55.68393701382832,
          -45.90851052933272,
          -43.22167803620004,
          -30.38560260144607
         ],
         "yaxis": "y4"
        },
        {
         "line": {
          "color": "violet"
         },
         "name": "1d",
         "showlegend": false,
         "type": "box",
         "xaxis": "x4",
         "y": [
          -23.05920878780775,
          -68.96915901047974,
          -42.739141869187314,
          -47.74828886570308,
          -57.355210580949304,
          -71.44412638604074,
          -6.789516250584093,
          -43.66988657943087,
          -66.92713939226495,
          11.028012392297981,
          -58.8953424787984,
          -30.865414422510106,
          -48.06330979486517,
          57.57639739478102,
          -24.260978191055205,
          -47.14354428478621,
          -17.190961877360223,
          -58.750781533745176,
          -45.241046799390084,
          -64.75727647157497,
          -30.176351255863743,
          9.418148599965882,
          -53.80080947800884,
          -46.41090498553121,
          -39.077553316155665,
          -55.93780824412179,
          -38.71579593295576,
          -39.53529441966066,
          14.478802138173052,
          -29.668765675463316,
          -18.735817855607493,
          -22.165070958903232,
          -40.78053736036884,
          -51.896248610547225,
          -37.414332844596686,
          -69.08312431445205,
          -39.86085057988365,
          -58.57219463567124,
          -43.01382837108461,
          -52.28110656604199,
          -58.043615672153045,
          1.0159306511292154,
          -34.53473951334208,
          -68.75139840509684,
          -2.1155069891706457,
          -32.70127851147133,
          -42.402666750408954,
          -62.143239275950776,
          -10.53149856284481,
          -22.898022718690893,
          -59.406200009850686,
          -58.31688191879023,
          -48.66358797202467,
          -24.037053067378032,
          -29.922441349614303,
          -56.61980797111051,
          -35.91089588622805,
          -22.507777632080593,
          -51.442048738226276,
          -34.20090369233988,
          -34.857247070965094,
          -52.01067703840183,
          -57.90346103713583,
          -44.438038645094856,
          -18.197167277712765,
          -44.69971257193096,
          -5.667004646225604,
          -60.05138636753065,
          -53.63040804844461,
          -50.42752882142638,
          -34.368389342753815,
          -64.20691764358396,
          -44.560431233764085,
          -38.32514660559839,
          -49.88159594194468,
          -66.08034896077723,
          -57.466853953154605,
          -63.65604809950468,
          -21.251618554313644,
          -57.844926229388285,
          -31.856329729326973,
          -57.46101796706954,
          -32.51280624084949,
          3.0568695123647904,
          -62.12824323080417,
          -67.03545969785067,
          -24.103444193154154,
          -24.92400365666828,
          -38.86912469143857,
          -55.92994247167571,
          -60.94383290877383,
          -50.79333188124977,
          -28.28824150856536,
          -65.43555992681453,
          -64.20460480462046,
          -61.19984220947242,
          25.965259146161166,
          -42.810708465958584,
          -40.91172265397126,
          -50.79163669034287
         ],
         "yaxis": "y4"
        }
       ],
       "layout": {
        "annotations": [
         {
          "font": {
           "size": 16
          },
          "showarrow": false,
          "text": "A2C",
          "x": 0.225,
          "xanchor": "center",
          "xref": "paper",
          "y": 1,
          "yanchor": "bottom",
          "yref": "paper"
         },
         {
          "font": {
           "size": 16
          },
          "showarrow": false,
          "text": "PPO",
          "x": 0.775,
          "xanchor": "center",
          "xref": "paper",
          "y": 1,
          "yanchor": "bottom",
          "yref": "paper"
         },
         {
          "font": {
           "size": 16
          },
          "showarrow": false,
          "text": "DQN",
          "x": 0.225,
          "xanchor": "center",
          "xref": "paper",
          "y": 0.375,
          "yanchor": "bottom",
          "yref": "paper"
         },
         {
          "font": {
           "size": 16
          },
          "showarrow": false,
          "text": "RANDOM",
          "x": 0.775,
          "xanchor": "center",
          "xref": "paper",
          "y": 0.375,
          "yanchor": "bottom",
          "yref": "paper"
         }
        ],
        "height": 800,
        "template": {
         "data": {
          "bar": [
           {
            "error_x": {
             "color": "#2a3f5f"
            },
            "error_y": {
             "color": "#2a3f5f"
            },
            "marker": {
             "line": {
              "color": "#E5ECF6",
              "width": 0.5
             },
             "pattern": {
              "fillmode": "overlay",
              "size": 10,
              "solidity": 0.2
             }
            },
            "type": "bar"
           }
          ],
          "barpolar": [
           {
            "marker": {
             "line": {
              "color": "#E5ECF6",
              "width": 0.5
             },
             "pattern": {
              "fillmode": "overlay",
              "size": 10,
              "solidity": 0.2
             }
            },
            "type": "barpolar"
           }
          ],
          "carpet": [
           {
            "aaxis": {
             "endlinecolor": "#2a3f5f",
             "gridcolor": "white",
             "linecolor": "white",
             "minorgridcolor": "white",
             "startlinecolor": "#2a3f5f"
            },
            "baxis": {
             "endlinecolor": "#2a3f5f",
             "gridcolor": "white",
             "linecolor": "white",
             "minorgridcolor": "white",
             "startlinecolor": "#2a3f5f"
            },
            "type": "carpet"
           }
          ],
          "choropleth": [
           {
            "colorbar": {
             "outlinewidth": 0,
             "ticks": ""
            },
            "type": "choropleth"
           }
          ],
          "contour": [
           {
            "colorbar": {
             "outlinewidth": 0,
             "ticks": ""
            },
            "colorscale": [
             [
              0,
              "#0d0887"
             ],
             [
              0.1111111111111111,
              "#46039f"
             ],
             [
              0.2222222222222222,
              "#7201a8"
             ],
             [
              0.3333333333333333,
              "#9c179e"
             ],
             [
              0.4444444444444444,
              "#bd3786"
             ],
             [
              0.5555555555555556,
              "#d8576b"
             ],
             [
              0.6666666666666666,
              "#ed7953"
             ],
             [
              0.7777777777777778,
              "#fb9f3a"
             ],
             [
              0.8888888888888888,
              "#fdca26"
             ],
             [
              1,
              "#f0f921"
             ]
            ],
            "type": "contour"
           }
          ],
          "contourcarpet": [
           {
            "colorbar": {
             "outlinewidth": 0,
             "ticks": ""
            },
            "type": "contourcarpet"
           }
          ],
          "heatmap": [
           {
            "colorbar": {
             "outlinewidth": 0,
             "ticks": ""
            },
            "colorscale": [
             [
              0,
              "#0d0887"
             ],
             [
              0.1111111111111111,
              "#46039f"
             ],
             [
              0.2222222222222222,
              "#7201a8"
             ],
             [
              0.3333333333333333,
              "#9c179e"
             ],
             [
              0.4444444444444444,
              "#bd3786"
             ],
             [
              0.5555555555555556,
              "#d8576b"
             ],
             [
              0.6666666666666666,
              "#ed7953"
             ],
             [
              0.7777777777777778,
              "#fb9f3a"
             ],
             [
              0.8888888888888888,
              "#fdca26"
             ],
             [
              1,
              "#f0f921"
             ]
            ],
            "type": "heatmap"
           }
          ],
          "heatmapgl": [
           {
            "colorbar": {
             "outlinewidth": 0,
             "ticks": ""
            },
            "colorscale": [
             [
              0,
              "#0d0887"
             ],
             [
              0.1111111111111111,
              "#46039f"
             ],
             [
              0.2222222222222222,
              "#7201a8"
             ],
             [
              0.3333333333333333,
              "#9c179e"
             ],
             [
              0.4444444444444444,
              "#bd3786"
             ],
             [
              0.5555555555555556,
              "#d8576b"
             ],
             [
              0.6666666666666666,
              "#ed7953"
             ],
             [
              0.7777777777777778,
              "#fb9f3a"
             ],
             [
              0.8888888888888888,
              "#fdca26"
             ],
             [
              1,
              "#f0f921"
             ]
            ],
            "type": "heatmapgl"
           }
          ],
          "histogram": [
           {
            "marker": {
             "pattern": {
              "fillmode": "overlay",
              "size": 10,
              "solidity": 0.2
             }
            },
            "type": "histogram"
           }
          ],
          "histogram2d": [
           {
            "colorbar": {
             "outlinewidth": 0,
             "ticks": ""
            },
            "colorscale": [
             [
              0,
              "#0d0887"
             ],
             [
              0.1111111111111111,
              "#46039f"
             ],
             [
              0.2222222222222222,
              "#7201a8"
             ],
             [
              0.3333333333333333,
              "#9c179e"
             ],
             [
              0.4444444444444444,
              "#bd3786"
             ],
             [
              0.5555555555555556,
              "#d8576b"
             ],
             [
              0.6666666666666666,
              "#ed7953"
             ],
             [
              0.7777777777777778,
              "#fb9f3a"
             ],
             [
              0.8888888888888888,
              "#fdca26"
             ],
             [
              1,
              "#f0f921"
             ]
            ],
            "type": "histogram2d"
           }
          ],
          "histogram2dcontour": [
           {
            "colorbar": {
             "outlinewidth": 0,
             "ticks": ""
            },
            "colorscale": [
             [
              0,
              "#0d0887"
             ],
             [
              0.1111111111111111,
              "#46039f"
             ],
             [
              0.2222222222222222,
              "#7201a8"
             ],
             [
              0.3333333333333333,
              "#9c179e"
             ],
             [
              0.4444444444444444,
              "#bd3786"
             ],
             [
              0.5555555555555556,
              "#d8576b"
             ],
             [
              0.6666666666666666,
              "#ed7953"
             ],
             [
              0.7777777777777778,
              "#fb9f3a"
             ],
             [
              0.8888888888888888,
              "#fdca26"
             ],
             [
              1,
              "#f0f921"
             ]
            ],
            "type": "histogram2dcontour"
           }
          ],
          "mesh3d": [
           {
            "colorbar": {
             "outlinewidth": 0,
             "ticks": ""
            },
            "type": "mesh3d"
           }
          ],
          "parcoords": [
           {
            "line": {
             "colorbar": {
              "outlinewidth": 0,
              "ticks": ""
             }
            },
            "type": "parcoords"
           }
          ],
          "pie": [
           {
            "automargin": true,
            "type": "pie"
           }
          ],
          "scatter": [
           {
            "fillpattern": {
             "fillmode": "overlay",
             "size": 10,
             "solidity": 0.2
            },
            "type": "scatter"
           }
          ],
          "scatter3d": [
           {
            "line": {
             "colorbar": {
              "outlinewidth": 0,
              "ticks": ""
             }
            },
            "marker": {
             "colorbar": {
              "outlinewidth": 0,
              "ticks": ""
             }
            },
            "type": "scatter3d"
           }
          ],
          "scattercarpet": [
           {
            "marker": {
             "colorbar": {
              "outlinewidth": 0,
              "ticks": ""
             }
            },
            "type": "scattercarpet"
           }
          ],
          "scattergeo": [
           {
            "marker": {
             "colorbar": {
              "outlinewidth": 0,
              "ticks": ""
             }
            },
            "type": "scattergeo"
           }
          ],
          "scattergl": [
           {
            "marker": {
             "colorbar": {
              "outlinewidth": 0,
              "ticks": ""
             }
            },
            "type": "scattergl"
           }
          ],
          "scattermapbox": [
           {
            "marker": {
             "colorbar": {
              "outlinewidth": 0,
              "ticks": ""
             }
            },
            "type": "scattermapbox"
           }
          ],
          "scatterpolar": [
           {
            "marker": {
             "colorbar": {
              "outlinewidth": 0,
              "ticks": ""
             }
            },
            "type": "scatterpolar"
           }
          ],
          "scatterpolargl": [
           {
            "marker": {
             "colorbar": {
              "outlinewidth": 0,
              "ticks": ""
             }
            },
            "type": "scatterpolargl"
           }
          ],
          "scatterternary": [
           {
            "marker": {
             "colorbar": {
              "outlinewidth": 0,
              "ticks": ""
             }
            },
            "type": "scatterternary"
           }
          ],
          "surface": [
           {
            "colorbar": {
             "outlinewidth": 0,
             "ticks": ""
            },
            "colorscale": [
             [
              0,
              "#0d0887"
             ],
             [
              0.1111111111111111,
              "#46039f"
             ],
             [
              0.2222222222222222,
              "#7201a8"
             ],
             [
              0.3333333333333333,
              "#9c179e"
             ],
             [
              0.4444444444444444,
              "#bd3786"
             ],
             [
              0.5555555555555556,
              "#d8576b"
             ],
             [
              0.6666666666666666,
              "#ed7953"
             ],
             [
              0.7777777777777778,
              "#fb9f3a"
             ],
             [
              0.8888888888888888,
              "#fdca26"
             ],
             [
              1,
              "#f0f921"
             ]
            ],
            "type": "surface"
           }
          ],
          "table": [
           {
            "cells": {
             "fill": {
              "color": "#EBF0F8"
             },
             "line": {
              "color": "white"
             }
            },
            "header": {
             "fill": {
              "color": "#C8D4E3"
             },
             "line": {
              "color": "white"
             }
            },
            "type": "table"
           }
          ]
         },
         "layout": {
          "annotationdefaults": {
           "arrowcolor": "#2a3f5f",
           "arrowhead": 0,
           "arrowwidth": 1
          },
          "autotypenumbers": "strict",
          "coloraxis": {
           "colorbar": {
            "outlinewidth": 0,
            "ticks": ""
           }
          },
          "colorscale": {
           "diverging": [
            [
             0,
             "#8e0152"
            ],
            [
             0.1,
             "#c51b7d"
            ],
            [
             0.2,
             "#de77ae"
            ],
            [
             0.3,
             "#f1b6da"
            ],
            [
             0.4,
             "#fde0ef"
            ],
            [
             0.5,
             "#f7f7f7"
            ],
            [
             0.6,
             "#e6f5d0"
            ],
            [
             0.7,
             "#b8e186"
            ],
            [
             0.8,
             "#7fbc41"
            ],
            [
             0.9,
             "#4d9221"
            ],
            [
             1,
             "#276419"
            ]
           ],
           "sequential": [
            [
             0,
             "#0d0887"
            ],
            [
             0.1111111111111111,
             "#46039f"
            ],
            [
             0.2222222222222222,
             "#7201a8"
            ],
            [
             0.3333333333333333,
             "#9c179e"
            ],
            [
             0.4444444444444444,
             "#bd3786"
            ],
            [
             0.5555555555555556,
             "#d8576b"
            ],
            [
             0.6666666666666666,
             "#ed7953"
            ],
            [
             0.7777777777777778,
             "#fb9f3a"
            ],
            [
             0.8888888888888888,
             "#fdca26"
            ],
            [
             1,
             "#f0f921"
            ]
           ],
           "sequentialminus": [
            [
             0,
             "#0d0887"
            ],
            [
             0.1111111111111111,
             "#46039f"
            ],
            [
             0.2222222222222222,
             "#7201a8"
            ],
            [
             0.3333333333333333,
             "#9c179e"
            ],
            [
             0.4444444444444444,
             "#bd3786"
            ],
            [
             0.5555555555555556,
             "#d8576b"
            ],
            [
             0.6666666666666666,
             "#ed7953"
            ],
            [
             0.7777777777777778,
             "#fb9f3a"
            ],
            [
             0.8888888888888888,
             "#fdca26"
            ],
            [
             1,
             "#f0f921"
            ]
           ]
          },
          "colorway": [
           "#636efa",
           "#EF553B",
           "#00cc96",
           "#ab63fa",
           "#FFA15A",
           "#19d3f3",
           "#FF6692",
           "#B6E880",
           "#FF97FF",
           "#FECB52"
          ],
          "font": {
           "color": "#2a3f5f"
          },
          "geo": {
           "bgcolor": "white",
           "lakecolor": "white",
           "landcolor": "#E5ECF6",
           "showlakes": true,
           "showland": true,
           "subunitcolor": "white"
          },
          "hoverlabel": {
           "align": "left"
          },
          "hovermode": "closest",
          "mapbox": {
           "style": "light"
          },
          "paper_bgcolor": "white",
          "plot_bgcolor": "#E5ECF6",
          "polar": {
           "angularaxis": {
            "gridcolor": "white",
            "linecolor": "white",
            "ticks": ""
           },
           "bgcolor": "#E5ECF6",
           "radialaxis": {
            "gridcolor": "white",
            "linecolor": "white",
            "ticks": ""
           }
          },
          "scene": {
           "xaxis": {
            "backgroundcolor": "#E5ECF6",
            "gridcolor": "white",
            "gridwidth": 2,
            "linecolor": "white",
            "showbackground": true,
            "ticks": "",
            "zerolinecolor": "white"
           },
           "yaxis": {
            "backgroundcolor": "#E5ECF6",
            "gridcolor": "white",
            "gridwidth": 2,
            "linecolor": "white",
            "showbackground": true,
            "ticks": "",
            "zerolinecolor": "white"
           },
           "zaxis": {
            "backgroundcolor": "#E5ECF6",
            "gridcolor": "white",
            "gridwidth": 2,
            "linecolor": "white",
            "showbackground": true,
            "ticks": "",
            "zerolinecolor": "white"
           }
          },
          "shapedefaults": {
           "line": {
            "color": "#2a3f5f"
           }
          },
          "ternary": {
           "aaxis": {
            "gridcolor": "white",
            "linecolor": "white",
            "ticks": ""
           },
           "baxis": {
            "gridcolor": "white",
            "linecolor": "white",
            "ticks": ""
           },
           "bgcolor": "#E5ECF6",
           "caxis": {
            "gridcolor": "white",
            "linecolor": "white",
            "ticks": ""
           }
          },
          "title": {
           "x": 0.05
          },
          "xaxis": {
           "automargin": true,
           "gridcolor": "white",
           "linecolor": "white",
           "ticks": "",
           "title": {
            "standoff": 15
           },
           "zerolinecolor": "white",
           "zerolinewidth": 2
          },
          "yaxis": {
           "automargin": true,
           "gridcolor": "white",
           "linecolor": "white",
           "ticks": "",
           "title": {
            "standoff": 15
           },
           "zerolinecolor": "white",
           "zerolinewidth": 2
          }
         }
        },
        "title": {
         "text": "Total Profit Percentage (in %) x different time-to-chart (Across different models) <br>ccy:BTCUSDT - feat_package:3",
         "x": 0.5
        },
        "width": 1200,
        "xaxis": {
         "anchor": "y",
         "domain": [
          0,
          0.45
         ],
         "title": {
          "standoff": 25,
          "text": "time-to-chart"
         }
        },
        "xaxis2": {
         "anchor": "y2",
         "domain": [
          0.55,
          1
         ],
         "title": {
          "standoff": 25,
          "text": "time-to-chart"
         }
        },
        "xaxis3": {
         "anchor": "y3",
         "domain": [
          0,
          0.45
         ],
         "title": {
          "standoff": 25,
          "text": "time-to-chart"
         }
        },
        "xaxis4": {
         "anchor": "y4",
         "domain": [
          0.55,
          1
         ],
         "title": {
          "standoff": 25,
          "text": "time-to-chart"
         }
        },
        "yaxis": {
         "anchor": "x",
         "domain": [
          0.625,
          1
         ],
         "matches": "y3",
         "title": {
          "standoff": 25,
          "text": "Total Profit Percentage (in %)"
         }
        },
        "yaxis2": {
         "anchor": "x2",
         "domain": [
          0.625,
          1
         ],
         "matches": "y3",
         "showticklabels": false,
         "title": {
          "standoff": 25,
          "text": "Total Profit Percentage (in %)"
         }
        },
        "yaxis3": {
         "anchor": "x3",
         "domain": [
          0,
          0.375
         ],
         "title": {
          "standoff": 25,
          "text": "Total Profit Percentage (in %)"
         }
        },
        "yaxis4": {
         "anchor": "x4",
         "domain": [
          0,
          0.375
         ],
         "matches": "y3",
         "showticklabels": false,
         "title": {
          "standoff": 25,
          "text": "Total Profit Percentage (in %)"
         }
        }
       }
      }
     },
     "metadata": {},
     "output_type": "display_data"
    }
   ],
   "source": [
    "fig_output = get_boxplot_total_profit_diff_time_to_chart(df_sim_results, list_feat[0])"
   ]
  },
  {
   "cell_type": "code",
   "execution_count": 51,
   "metadata": {},
   "outputs": [
    {
     "data": {
      "application/vnd.plotly.v1+json": {
       "config": {
        "plotlyServerURL": "https://plot.ly"
       },
       "data": [
        {
         "marker": {
          "color": "green"
         },
         "name": "15min",
         "type": "histogram",
         "x": [
          -64.01404547945621,
          0,
          -58.9834222234021,
          -32.70316247832814,
          -58.69466890441991,
          -32.96674408530858,
          -63.9823370823376,
          -49.66266666753,
          -57.8954388613956,
          0,
          0,
          -46.0313661525373,
          -2.4097550510429944,
          -9.31620151811331,
          -57.529021710199935,
          -63.891345889697604,
          -53.69213620820996,
          -58.182351771692844,
          0,
          -55.1711530413526,
          -64.49488679985119,
          0,
          0,
          -54.340318597639815,
          -15.102274512061143,
          0,
          -18.759052768779416,
          -63.47195522107479,
          -58.56010085609002,
          0,
          0,
          -62.98058982466046,
          -48.53252321758127,
          0,
          0,
          -56.52526684239898,
          0,
          -65.21574240031639,
          -24.260524217354796,
          -58.539286544466876,
          -63.730666313433616,
          -56.453723803412316,
          0,
          -5.952878498034897,
          -59.264337328630454,
          -64.93971604425053,
          -56.24294256318068,
          -53.5567547213881,
          -64.43808054150875,
          -54.51017839930907,
          0,
          -14.771269676518717,
          0,
          0,
          0,
          -55.70906374068164,
          -56.73141817699927,
          0,
          -13.057591742817308,
          -54.29094508895299,
          -63.189755961850544,
          -54.2372947202731,
          0,
          -52.536989555264235,
          -16.101653029373985,
          -56.160156227236556,
          0,
          1.0521553872216316,
          0,
          -58.26132911323412,
          0,
          -25.40941738003908,
          -15.611824181336164,
          -58.739099363430924,
          0,
          -23.886338124137886,
          -63.160205487292444,
          -57.67853109408563,
          -8.47500680317289,
          -63.94121177621681,
          -58.56738605355074,
          0,
          -47.91288143589859,
          -54.76418178078417,
          -49.27844401263821,
          -16.30993011170775,
          0,
          -55.11731678134777,
          0,
          -52.24668380797846,
          -12.269422505883087,
          -58.26615048483236,
          0,
          0,
          -20.107044359284075,
          0,
          0,
          -56.719676961166144,
          0,
          -14.168280544265798
         ],
         "xaxis": "x",
         "yaxis": "y"
        },
        {
         "marker": {
          "color": "orange"
         },
         "name": "1h",
         "type": "histogram",
         "x": [
          -35.70749434689675,
          -50.97942752774731,
          -42.04534188370286,
          -42.23912716376896,
          -70.04121408476483,
          -60.1826108066686,
          -53.451653379699984,
          -59.137892883031405,
          -63.33882718701307,
          -38.45115338266931,
          -54.325487036274836,
          -55.13692712954816,
          -72.94304571926136,
          -61.24315680795569,
          -37.262565668420436,
          -69.91895506276961,
          -60.40960193122977,
          -43.434902229517114,
          -66.67961494278138,
          -64.85004883771384,
          -40.01962951222258,
          -45.89438938120601,
          -61.34894150989831,
          -52.44427609064783,
          -56.87521251133894,
          -49.60074153032667,
          -50.76407481028288,
          -21.56417652423508,
          -56.46687109752329,
          -59.018620638985354,
          -51.41860472956693,
          -60.68592986547645,
          -54.35719021824409,
          -47.33567013315204,
          -65.33837582367863,
          -66.34788354500172,
          -50.83122894212359,
          -41.95022817362536,
          -63.45393009411201,
          -18.282260340606836,
          -55.4959964172111,
          -56.482502408776504,
          -62.10013232588613,
          -44.062433135517445,
          -32.130852670803925,
          -73.48010956675218,
          -54.25909472756605,
          -55.4791222214655,
          -60.12726041596235,
          -67.30184844530372,
          -69.53034915835988,
          -48.09223668035233,
          -27.9874459746148,
          -12.360629905339016,
          -51.7341571549043,
          -70.3374397283066,
          -54.39931848696183,
          -60.358708233186164,
          -52.180999302550205,
          -65.78833735373254,
          -32.48192224079299,
          -53.20168868382575,
          -44.687834492870515,
          -74.03331772668949,
          -60.83139726022735,
          -60.89480765525119,
          -54.14259121180631,
          -52.75390974287364,
          -7.776483182046334,
          -23.99704593433356,
          -48.65345597391665,
          -40.08254983712708,
          -33.50583224985348,
          -47.15824967212563,
          -54.80487092744957,
          -30.044989848702784,
          -25.659039373192705,
          -23.277110258897103,
          -50.468688841361256,
          -64.09691078084656,
          -58.11808300309353,
          -64.20108979924177,
          -46.10666787300176,
          -66.27047644218172,
          -73.9733609303046,
          -68.8017529830232,
          -42.463877920322325,
          -60.78223964643909,
          -59.91584661006677,
          -53.40836582717954,
          -52.09937231399846,
          -62.610931609688905,
          -38.7288566759747,
          -59.29341883900238,
          -61.196701455894065,
          -48.89456463908509,
          -60.44861960050629,
          -51.57808924235441,
          -65.8745305008763,
          -65.4071837166597
         ],
         "xaxis": "x",
         "yaxis": "y"
        },
        {
         "marker": {
          "color": "violet"
         },
         "name": "1d",
         "type": "histogram",
         "x": [
          -10.447520508400999,
          -28.708452852855448,
          -8.732434386733367,
          -36.161690839941116,
          -66.66885089219865,
          -63.49304584914246,
          -68.94359550499661,
          -64.6533084339395,
          -35.853543066065285,
          -46.830219147573175,
          -25.86972449740088,
          -37.950616312458685,
          -65.05351878792165,
          -38.43124271481514,
          -46.71337214983578,
          -42.82069730167495,
          -33.39378652539852,
          -63.36200048953303,
          -64.77258282112538,
          -64.82787340637377,
          -27.307389598004917,
          -45.38658501282011,
          -64.56578243016031,
          -71.19310862150968,
          -41.32990385192824,
          -53.20693773685732,
          -15.456902508347659,
          -43.88823596511023,
          -52.33293778856658,
          -64.54292382758015,
          -43.97197697763075,
          -28.295491163151322,
          -64.41023934014684,
          -31.695393016957652,
          -28.991122089564236,
          -31.464696648199276,
          -29.30015395630918,
          -50.210510056607795,
          -64.98485852817689,
          -72.47251418172713,
          -47.13338596279628,
          -17.160579550335587,
          -62.61430152467097,
          -34.08044021979364,
          -28.325272248906387,
          -41.19178792946546,
          -23.059086274623187,
          -26.859213151056405,
          -53.881040622708795,
          6.629814276364465,
          -66.6193427447037,
          -62.96436248492584,
          -59.040643508150524,
          -11.871326568238382,
          -25.895423615469937,
          -52.66079083726353,
          -54.64242898857199,
          -69.00237950216454,
          -52.93195077675876,
          -32.46372495240459,
          -41.39974487674875,
          -62.54403774593171,
          -61.8880255805324,
          -49.49991695569871,
          -53.07709822902407,
          -37.71172719865513,
          -32.18202418780917,
          -16.762381357388268,
          -46.663354040421325,
          -49.855809518496066,
          -26.369352070364982,
          -57.96821393981093,
          -52.798902670861516,
          -58.56169402787269,
          -64.93050112060253,
          -59.99336613617554,
          -44.1089387332481,
          -45.25251911992479,
          -32.191832508954775,
          -74.94973659886868,
          -4.8521359179024,
          -55.9709932720525,
          -45.507445202956745,
          -46.01341816454121,
          -44.26560367971866,
          17.197203422996466,
          -65.3120086110701,
          -59.28593488761481,
          -51.09561523285543,
          -45.11022968158331,
          -31.073435227107126,
          -63.26207329404436,
          -22.984795535322288,
          -52.995360746553224,
          -19.89003706004141,
          -60.679627934180466,
          -58.37363968912956,
          -17.891596704371658,
          -74.52496377487081,
          -59.692927278751284
         ],
         "xaxis": "x",
         "yaxis": "y"
        },
        {
         "marker": {
          "color": "green"
         },
         "name": "15min",
         "showlegend": false,
         "type": "histogram",
         "x": [
          -2.505517498520482,
          13.98516594037249,
          -19.83594251963573,
          -2.490792518082985,
          8.953397265869567,
          -14.520605313083468,
          10.455256507355305,
          -6.085047346358219,
          -17.62199319073945,
          6.1768889112418845,
          -7.89897399642615,
          -20.15280863547566,
          -20.838178497257708,
          5.0593764860001444,
          -22.6841728301839,
          -19.653120894237432,
          -28.300817666592724,
          14.0793878904661,
          -9.107764837055111,
          -9.040148290162486,
          -8.269739075686577,
          -25.37826280343528,
          14.105482147503533,
          -1.6530482067177665,
          -16.418453379273924,
          0.3037446530503418,
          -25.31642271534862,
          -13.613493237548646,
          -36.36483321705967,
          21.541847766528697,
          3.805976418051693,
          -13.953910525954495,
          -22.515413030940234,
          -19.768151384521847,
          -12.652796390566468,
          15.695617087786772,
          -8.476256468948007,
          -26.881605414667355,
          23.41690133095544,
          -39.5537982586214,
          -21.33047432805929,
          -30.625762287908465,
          3.447366057720158,
          2.755137111660888,
          9.384378190650434,
          13.58260870249337,
          -12.933482377564843,
          -24.51258941987129,
          -17.847528577086138,
          -8.531343574575212,
          -23.120664984234217,
          7.796639845154174,
          -25.17476911034694,
          -13.45407945371585,
          -12.176504050268699,
          -20.255185249511353,
          3.2634051752312265,
          -39.37337472781769,
          -6.215591882222982,
          7.70343885263316,
          -13.081975336035256,
          -11.430550258397776,
          -12.469937012837907,
          -32.26542775961296,
          5.545627346775905,
          31.592124652997967,
          -20.538215385611036,
          -11.416158538525812,
          -18.958006700672126,
          -25.087734474169043,
          8.30892809300041,
          11.14565507137093,
          -3.2865172278503163,
          -2.6380928103857393,
          -12.997473082762735,
          6.234993704529401,
          8.176072119590705,
          18.244945582830162,
          -23.894591127262444,
          -19.135135226093723,
          8.819039924266626,
          -4.325672704538086,
          -21.420250149404787,
          -23.102122263897407,
          -13.839128130631517,
          -26.93058322177585,
          -24.499675677179212,
          -15.196564719274708,
          -30.43813736866895,
          -4.925157495312893,
          -3.57518854449298,
          -7.264544403421769,
          -2.409574269306214,
          29.16539477657656,
          -4.55839732886284,
          3.9479511152448854,
          9.746026899578242,
          36.789745747478506,
          2.0135570789186596,
          -4.4409675632825385
         ],
         "xaxis": "x2",
         "yaxis": "y2"
        },
        {
         "marker": {
          "color": "orange"
         },
         "name": "1h",
         "showlegend": false,
         "type": "histogram",
         "x": [
          -42.607223782360016,
          -45.49070288000648,
          -48.88182443112168,
          -42.84370350075572,
          -4.664928177016003,
          -8.997986545045523,
          -30.924825632012308,
          -9.46078603598931,
          -47.55888396819201,
          -37.517335671955706,
          -42.09232127774195,
          -56.42854002879667,
          -53.81384566069614,
          -11.717969992779187,
          -41.62715615438761,
          -48.68339322102797,
          -11.170785019948326,
          -40.739710992669366,
          -56.43873777300765,
          32.97646980011004,
          -35.48442024694711,
          -45.61282541202909,
          -65.89108943513425,
          -31.497087360448806,
          -37.486494634947576,
          -39.19052181893659,
          -26.481716011593115,
          -43.135576943416446,
          -34.02514209013301,
          -42.238768111365154,
          -19.20953312433443,
          -46.17302234506426,
          -20.127815981572716,
          -58.072841896661465,
          -48.99397214572855,
          12.396616184988286,
          -2.83882367471171,
          -32.546853441935056,
          -49.249214575157765,
          -61.15137798601224,
          -39.592107902127275,
          -63.52576263985122,
          -74.85640381698101,
          -43.396305388823166,
          -42.782787871971884,
          -58.08016726436098,
          -67.0151883926779,
          -43.79208687492968,
          -55.80484461540149,
          -41.7698637139426,
          -24.337333468080026,
          -30.860045409069002,
          -41.82633775191652,
          -16.970940507429244,
          -62.26213886111793,
          -34.178740357122614,
          -25.519600868412052,
          -34.503855496910354,
          -58.81337044302395,
          -42.85550902167885,
          5.136374597989635,
          -48.34946378255803,
          -44.83375293639903,
          -32.49184385946029,
          -52.06312517951034,
          -60.666857072840585,
          -41.15577502680725,
          -37.64341260903017,
          -38.98110480015807,
          -45.39469088871656,
          -28.615366440363765,
          -46.27944380137063,
          4.346436588032132,
          -44.4202289532312,
          -59.855652284364936,
          -48.49966302759341,
          -33.94297260105969,
          -57.61672504672761,
          -56.688422633203174,
          -30.32579009680977,
          -50.907058927751734,
          -36.89989351875928,
          -53.82066748573645,
          -46.483878108097166,
          -32.82150174971178,
          -56.450297978194484,
          -47.226825864116904,
          -36.19797451080071,
          -55.264952547215366,
          -59.78443097076451,
          -14.079574329604338,
          -12.873876365439152,
          -35.238070780852816,
          -31.69569983136392,
          -32.915418277829886,
          -35.98719171718924,
          -41.11332369301146,
          -47.41369573057605,
          -54.711468438361585,
          -1.6400197864117283
         ],
         "xaxis": "x2",
         "yaxis": "y2"
        },
        {
         "marker": {
          "color": "violet"
         },
         "name": "1d",
         "showlegend": false,
         "type": "histogram",
         "x": [
          -56.69108571370902,
          -29.843536989361162,
          -29.943658639670858,
          -48.34886858317948,
          -53.08292014792584,
          -11.216052030856494,
          -51.261235925755535,
          -40.88399354207476,
          -53.55843308183571,
          -44.96003145165193,
          -37.18036266382803,
          -62.53334100504666,
          -48.71954275435558,
          -48.86409954427277,
          -34.95319772160151,
          -34.78950864845991,
          -42.63179856042959,
          5.256357976986026,
          -34.695220295857744,
          -53.611657219259776,
          14.17097757910959,
          -41.51792812050874,
          -20.773805740511932,
          -61.638458547525346,
          -51.630746665679,
          -48.195358142548905,
          4.786038683086491,
          -46.75599135483508,
          -19.9887917121401,
          -48.794924527940296,
          -22.866758986871293,
          -45.86079519436338,
          -26.735509954795756,
          -56.131317275286754,
          -50.5808217067365,
          -47.03859358333114,
          30.71026043146794,
          -30.73995684891647,
          -36.541986607662025,
          -45.01812381161575,
          -18.1970169615581,
          17.160101166982187,
          -43.236361926093956,
          -58.75166886151787,
          -38.90745903195327,
          -2.840922048110117,
          -45.061564589899085,
          -11.330735833566475,
          -36.974224813787245,
          -39.820766163481025,
          -28.98370440504663,
          -46.94456864621639,
          -29.867909597710394,
          -26.47885688767507,
          5.6003197303744034,
          -25.818695644277557,
          -62.389191083975206,
          -51.3426067621132,
          -34.597011264765364,
          -50.42807806595795,
          -14.708839011071372,
          -57.609250662072384,
          -18.685748180198345,
          -28.794729911669837,
          -34.81434070345802,
          -31.7476444922412,
          -29.20603137076644,
          -57.52204348405405,
          -41.30931929526712,
          -53.86793923624401,
          -8.787587694429078,
          -53.606291511104764,
          -34.09839689542273,
          -39.51952672616713,
          -44.90295521548071,
          -47.80579728262325,
          -41.79511776493931,
          -31.63787563134396,
          -50.2793314064449,
          -13.603745364474628,
          -52.04896754157182,
          -33.04095166187974,
          -24.809770980965496,
          -35.366055369479156,
          -39.86349037442237,
          11.950533033262811,
          -56.4041657085071,
          -30.257604257706262,
          12.59084052342998,
          -33.457081189943594,
          -43.28996833503438,
          -60.31311688177507,
          -61.94060897021143,
          -50.575046630599665,
          -36.32290945309029,
          -61.72075957616586,
          -37.957785917595324,
          -36.18258356052395,
          -61.0623054667759,
          -31.622566451891053
         ],
         "xaxis": "x2",
         "yaxis": "y2"
        },
        {
         "marker": {
          "color": "green"
         },
         "name": "15min",
         "showlegend": false,
         "type": "histogram",
         "x": [
          -25.35393208342237,
          -15.953472455090957,
          -7.6250329453221415,
          -8.28110132501414,
          -24.589098960948043,
          -27.238892396587744,
          -32.94365089659006,
          -34.783162013353994,
          -22.34334107439161,
          -25.56512671543939,
          -41.36820221388272,
          -13.902561703546256,
          -9.296527750940054,
          -28.197688538711763,
          -30.341487532516464,
          -16.727702441438918,
          -10.810177658772668,
          -28.70287534255005,
          -25.33564646037889,
          -38.55086250930984,
          -30.671760538868874,
          -20.638865115684133,
          -24.77326361976584,
          -26.347604531194268,
          -12.279726581928907,
          -12.278348176087594,
          -31.42093874279297,
          -35.62420780673964,
          -27.130083169334384,
          -25.895065246500458,
          -23.11275928188451,
          -23.979657023503044,
          -31.441209668780136,
          -22.390384277197718,
          -17.2280501565395,
          -44.68859748293317,
          -14.734502334761457,
          -16.236406628709187,
          -24.452960041926342,
          -26.111834510981836,
          -21.727558021129823,
          -17.939600787763354,
          -31.604677279623516,
          -4.249279156615804,
          -31.486235567338394,
          -17.422722599003603,
          -23.154292701673718,
          -22.006131292873153,
          -31.20095773451813,
          -11.285274894394648,
          -26.43004380942221,
          -40.41883846374863,
          -28.35150976778428,
          -20.33079193534595,
          -26.95630950580724,
          -24.27022444270187,
          -17.741609571501648,
          -31.35779064561246,
          -24.259365660514685,
          -20.68927644557873,
          -20.03866976462857,
          -17.029622091619323,
          -29.83715390930883,
          -33.664945575579374,
          -27.712793077790664,
          -11.407629428004018,
          -11.98267973682503,
          -33.89696237969866,
          -30.691586673020677,
          -9.753620857695255,
          -17.06038230548804,
          -31.84406302287823,
          -30.394008621906966,
          -27.003332457939134,
          -9.47456146490705,
          -26.92949150941374,
          -38.495237954296826,
          -39.197575381232554,
          -13.893516025537156,
          -21.13705527775004,
          -26.29169453548277,
          -10.606394770894523,
          -29.62389522161074,
          -31.98354529852866,
          -18.9927300860367,
          -10.422234587456236,
          -17.957601703530813,
          -16.743777900101296,
          -20.885671877917623,
          -21.9588756540505,
          -19.27268931060072,
          -15.89331058707767,
          -15.957618766134408,
          -25.65106113153066,
          -24.19691051423395,
          -26.126259067957747,
          -34.686784837917415,
          -19.812818488346462,
          -21.333676374819845,
          -31.419230770276528
         ],
         "xaxis": "x3",
         "yaxis": "y3"
        },
        {
         "marker": {
          "color": "orange"
         },
         "name": "1h",
         "showlegend": false,
         "type": "histogram",
         "x": [
          8.153220124041983,
          -0.2668299814126973,
          -69.76021513992382,
          5.384586140028058,
          -61.55955005422131,
          -36.336097950353995,
          -47.470899044689475,
          -58.4854128373814,
          -55.40095397836677,
          -61.05840005745784,
          -41.185764712261765,
          -57.628887821429856,
          -42.09958805622639,
          -28.207567074438433,
          -22.23411535568435,
          -30.984056715629173,
          -25.45137481924449,
          -38.79168827944006,
          -24.447936016545434,
          -3.277878589779959,
          -39.96482843122726,
          -19.605461938947542,
          -38.74028599850197,
          -55.1248624983192,
          -15.51499622977236,
          -40.915148123125974,
          19.79442225757344,
          -15.622400334499787,
          -37.206524617884085,
          -19.772414143501983,
          -50.10968730159484,
          -41.987788767513756,
          14.900962714347997,
          -12.491995802163125,
          -37.1861862823734,
          -12.956545438640498,
          -44.03184129959597,
          -39.90901469848925,
          -46.70411080032979,
          -47.70539939575955,
          -28.39537497416683,
          -56.11252371050027,
          -28.128890822426566,
          -63.55858151397469,
          -29.721211266471357,
          -29.71071935458759,
          -40.425354787060975,
          -38.783232123845146,
          -48.53451209287084,
          2.9994421829196316,
          -40.01266151795383,
          13.988170478693274,
          -6.7325217889893985,
          -35.38423358319991,
          -62.65390043525261,
          -10.531290331375198,
          -39.61191732589327,
          -17.525463328112277,
          -48.95693156286948,
          -59.0409248971826,
          -13.67756017392373,
          11.458183581770932,
          -43.0097099011024,
          -49.72468376626353,
          -5.004895971584478,
          -53.277472377941635,
          -36.71171179693656,
          -56.490057457309625,
          -22.145580131635633,
          -48.08071979516508,
          -21.107533309712924,
          -31.12915850869824,
          -17.99301993596104,
          -32.24366073545523,
          -55.567260199574456,
          -76.08765915714777,
          -38.6462952559805,
          -43.29885227431556,
          -30.003059467356263,
          -33.515375792016,
          -41.44126559100903,
          -61.204363262187464,
          -32.69730482778982,
          -21.224785559575764,
          8.607835394545926,
          -14.885393250389434,
          -50.86320070133667,
          -26.12532005523476,
          -66.04223245519363,
          -66.86877469347891,
          -56.80256893373738,
          -45.28373440381993,
          -12.007898303373754,
          -53.29304856284664,
          -60.67931407426239,
          -21.694223671040536,
          -25.11969270824754,
          3.124357667964728,
          -70.43206033300397,
          -53.76867594542095
         ],
         "xaxis": "x3",
         "yaxis": "y3"
        },
        {
         "marker": {
          "color": "violet"
         },
         "name": "1d",
         "showlegend": false,
         "type": "histogram",
         "x": [
          -53.62150665645598,
          -46.87087308358403,
          -43.37132412383551,
          -10.398091499182115,
          -20.776123481683626,
          -20.989119695770565,
          -35.958253804394744,
          -23.014514621637574,
          -26.196592922855586,
          -8.489875618131105,
          -34.92589347988964,
          -0.458932988645,
          -16.174199096845477,
          -27.438473744434198,
          -36.00023324608187,
          -21.63163212202238,
          -41.33773281251,
          -22.97042913746813,
          -47.7970018477988,
          -59.07794327510347,
          -42.54039904082694,
          -58.437090307042915,
          11.136452233509274,
          -46.181587601812566,
          -16.35229831263123,
          -19.655529656763083,
          -24.573056908251665,
          -43.74913171347779,
          -39.608252118970576,
          -22.11661622126998,
          -12.942344341013012,
          -61.28778086027399,
          2.5060591120890097,
          -0.6858713877950562,
          -16.523902908080068,
          -43.56275235245813,
          -27.690584359772608,
          -45.953023544585946,
          -49.9814318848157,
          -44.33222651650828,
          -37.19981358580077,
          -12.49953570478125,
          -25.629066920609876,
          -38.96526609204539,
          -49.96425360506248,
          -51.60841692457985,
          -46.65222857692913,
          -13.240199751742733,
          -17.363612059746803,
          -23.778622146917517,
          -41.2890686898773,
          -53.23698936080476,
          -37.75122670258349,
          11.375109795819238,
          -35.03697933028446,
          -16.759509542942695,
          -11.77229951632709,
          -3.0051319024242074,
          -52.031151586518696,
          -29.582110599512557,
          -43.39288511340247,
          25.86602776239577,
          21.47175952677798,
          -17.730358262088973,
          -53.37081706344045,
          -57.44966361703656,
          -31.477515406554247,
          -20.434719139706658,
          -47.97485572219345,
          -33.31741941180283,
          15.525792149623218,
          -52.03898099063969,
          4.923534524508599,
          -36.66666552140907,
          -9.228276586162332,
          4.714312487163652,
          8.441569678492634,
          -55.14770020262374,
          -44.73642969422408,
          -2.1464910175188923,
          -25.205151025321815,
          0.3759030295761745,
          -22.200781580592032,
          -38.40620309524299,
          -12.12192115885874,
          -53.222072532061915,
          -9.418844075289734,
          -0.550852770905208,
          -22.902808168190305,
          -3.5122717660181935,
          -30.688541155063064,
          -37.88544699537313,
          3.8796729760875115,
          -49.16403113218014,
          -55.71181759633963,
          10.266213572412264,
          -42.377657761851076,
          -24.96424819928397,
          -56.362619053090434,
          -49.56291840924233
         ],
         "xaxis": "x3",
         "yaxis": "y3"
        },
        {
         "marker": {
          "color": "green"
         },
         "name": "15min",
         "showlegend": false,
         "type": "histogram",
         "x": [
          -40.479057012256106,
          -52.870930847161304,
          -26.976769400543343,
          -22.404673107186536,
          -58.174516131158306,
          -49.8600350650768,
          -33.15886365121933,
          -49.424774837878175,
          -17.401940962970396,
          -55.64354128832717,
          -10.231005231257129,
          -28.14897055766197,
          -53.486667293420275,
          -51.12889835504688,
          -33.19843171411417,
          -12.535273764096356,
          -58.22839116376144,
          -67.21696691036236,
          -51.217665771836394,
          -43.101065640531345,
          -10.755549496273487,
          -62.961790708247335,
          -25.692299414037244,
          -39.097665178194895,
          -48.1325995145258,
          -51.729688957231865,
          6.775433149751864,
          -30.497556566726324,
          -23.777974657356072,
          -39.902422468022536,
          -53.52343644130205,
          -40.06250938136024,
          -19.08812937205505,
          -59.909298385497145,
          -40.889607295220365,
          -53.56188264313057,
          -46.04645531253336,
          -51.595815060966245,
          -45.38948510995488,
          -59.8025563876924,
          -31.590941253446736,
          -35.867810385309475,
          -34.2061554175307,
          -45.44266267273682,
          -33.21511253615874,
          -52.78025068748079,
          -34.714379812202345,
          -32.412545509928805,
          -52.8250825548555,
          -60.43836908029747,
          -28.40354218804535,
          -42.01936010795531,
          9.465085177196997,
          -30.015262401496535,
          -39.70540440914784,
          -37.53074452477987,
          -48.83239296837012,
          -0.715960500948265,
          -50.670451436067964,
          -46.4316487880334,
          -43.728019707070686,
          -34.11481901542054,
          -69.26435376541133,
          -51.13805228366315,
          -48.78959184546683,
          -57.04156929234012,
          -48.7905419740715,
          47.95049838241192,
          -9.697596194561376,
          -47.409998349289296,
          -30.65659896389552,
          -29.938134657867366,
          4.559404287874624,
          20.400659407653233,
          -47.140854532379585,
          -44.68028486472549,
          -63.220304690138526,
          -78.26655779905977,
          -56.47444917245221,
          -41.41891150096377,
          -49.43347550375059,
          -66.12299519051912,
          -29.68125450238531,
          -66.27543283118551,
          -45.74731521519474,
          -75.56151887956159,
          -37.44037658154349,
          -73.41930838075483,
          -48.990477883876494,
          -57.07466953061078,
          -14.535004338646662,
          -60.378206496804296,
          -39.78002238989895,
          -31.314294404748644,
          -37.70647665892722,
          11.784824642701297,
          -59.71632419434171,
          -37.2092565782284,
          -34.234153020580436,
          -20.511341356428403
         ],
         "xaxis": "x4",
         "yaxis": "y4"
        },
        {
         "marker": {
          "color": "orange"
         },
         "name": "1h",
         "showlegend": false,
         "type": "histogram",
         "x": [
          -16.40353391853038,
          -50.59895484938406,
          -15.211842524581776,
          -56.4963802332682,
          -66.30109117583287,
          -10.414093354860887,
          -27.79754905947688,
          -36.275693108934604,
          -53.22326875655013,
          -30.37745593924597,
          -39.76481902492996,
          -41.37279147133627,
          -19.625777325760364,
          -17.19505610499151,
          -44.39707788369714,
          -41.317720745446174,
          -6.319643801550246,
          -21.679514722201787,
          -28.904746760232914,
          -33.37331424066288,
          -55.896524682907824,
          -58.72955467085125,
          -69.45758310681423,
          -67.637176209533,
          -43.629941790564374,
          -54.76890098058078,
          -68.37541913464679,
          -54.20745246698699,
          -44.6576002726893,
          -45.78320993408537,
          -46.68945349152598,
          -26.08068677592138,
          -51.06144823324015,
          -48.1341679538455,
          -57.65547453311053,
          -66.30852281834561,
          -40.28287947694215,
          -37.13706467793021,
          -44.62200170450965,
          -60.14141681064451,
          -44.85300779488238,
          -41.26891169075071,
          -26.75742901863861,
          -25.966580925841008,
          -74.283647151247,
          -67.12407089071802,
          14.207558248516294,
          -33.624557312436195,
          67.2971281070504,
          -33.99215960812037,
          -56.85221859002512,
          -27.169444765070814,
          -52.31125053354091,
          -28.900566776242208,
          -56.99680793500459,
          -43.371562511622805,
          7.432688529368758,
          42.34875993276284,
          27.543557034632936,
          -23.016133469128842,
          -45.408092107351116,
          -17.736429080286765,
          -44.93368917148971,
          -29.945430694090113,
          -62.31547286097692,
          -60.64569974260172,
          -30.879789628114462,
          -42.33438088078677,
          -43.806945270906496,
          25.79765432515193,
          -10.790159041489822,
          -67.58422181469264,
          -62.804069780988016,
          -37.9980154489658,
          -63.32757676584744,
          -21.74955950971419,
          -52.032816819426344,
          -52.40259841079078,
          -46.142422890339994,
          -37.925195751533046,
          -43.949596792669276,
          3.292497197763411,
          -50.38904071304113,
          -35.18682364420756,
          25.684985310716833,
          -59.5560554910063,
          -45.32337960202769,
          -32.53635953725483,
          -19.017241515807402,
          -37.30665906938345,
          -38.423915945495466,
          -55.46137514267754,
          -57.45220154805424,
          -42.26298010364546,
          -39.94119348441602,
          -54.79158460899093,
          -55.68393701382832,
          -45.90851052933272,
          -43.22167803620004,
          -30.38560260144607
         ],
         "xaxis": "x4",
         "yaxis": "y4"
        },
        {
         "marker": {
          "color": "violet"
         },
         "name": "1d",
         "showlegend": false,
         "type": "histogram",
         "x": [
          -23.05920878780775,
          -68.96915901047974,
          -42.739141869187314,
          -47.74828886570308,
          -57.355210580949304,
          -71.44412638604074,
          -6.789516250584093,
          -43.66988657943087,
          -66.92713939226495,
          11.028012392297981,
          -58.8953424787984,
          -30.865414422510106,
          -48.06330979486517,
          57.57639739478102,
          -24.260978191055205,
          -47.14354428478621,
          -17.190961877360223,
          -58.750781533745176,
          -45.241046799390084,
          -64.75727647157497,
          -30.176351255863743,
          9.418148599965882,
          -53.80080947800884,
          -46.41090498553121,
          -39.077553316155665,
          -55.93780824412179,
          -38.71579593295576,
          -39.53529441966066,
          14.478802138173052,
          -29.668765675463316,
          -18.735817855607493,
          -22.165070958903232,
          -40.78053736036884,
          -51.896248610547225,
          -37.414332844596686,
          -69.08312431445205,
          -39.86085057988365,
          -58.57219463567124,
          -43.01382837108461,
          -52.28110656604199,
          -58.043615672153045,
          1.0159306511292154,
          -34.53473951334208,
          -68.75139840509684,
          -2.1155069891706457,
          -32.70127851147133,
          -42.402666750408954,
          -62.143239275950776,
          -10.53149856284481,
          -22.898022718690893,
          -59.406200009850686,
          -58.31688191879023,
          -48.66358797202467,
          -24.037053067378032,
          -29.922441349614303,
          -56.61980797111051,
          -35.91089588622805,
          -22.507777632080593,
          -51.442048738226276,
          -34.20090369233988,
          -34.857247070965094,
          -52.01067703840183,
          -57.90346103713583,
          -44.438038645094856,
          -18.197167277712765,
          -44.69971257193096,
          -5.667004646225604,
          -60.05138636753065,
          -53.63040804844461,
          -50.42752882142638,
          -34.368389342753815,
          -64.20691764358396,
          -44.560431233764085,
          -38.32514660559839,
          -49.88159594194468,
          -66.08034896077723,
          -57.466853953154605,
          -63.65604809950468,
          -21.251618554313644,
          -57.844926229388285,
          -31.856329729326973,
          -57.46101796706954,
          -32.51280624084949,
          3.0568695123647904,
          -62.12824323080417,
          -67.03545969785067,
          -24.103444193154154,
          -24.92400365666828,
          -38.86912469143857,
          -55.92994247167571,
          -60.94383290877383,
          -50.79333188124977,
          -28.28824150856536,
          -65.43555992681453,
          -64.20460480462046,
          -61.19984220947242,
          25.965259146161166,
          -42.810708465958584,
          -40.91172265397126,
          -50.79163669034287
         ],
         "xaxis": "x4",
         "yaxis": "y4"
        }
       ],
       "layout": {
        "annotations": [
         {
          "font": {
           "size": 16
          },
          "showarrow": false,
          "text": "A2C",
          "x": 0.225,
          "xanchor": "center",
          "xref": "paper",
          "y": 1,
          "yanchor": "bottom",
          "yref": "paper"
         },
         {
          "font": {
           "size": 16
          },
          "showarrow": false,
          "text": "PPO",
          "x": 0.775,
          "xanchor": "center",
          "xref": "paper",
          "y": 1,
          "yanchor": "bottom",
          "yref": "paper"
         },
         {
          "font": {
           "size": 16
          },
          "showarrow": false,
          "text": "DQN",
          "x": 0.225,
          "xanchor": "center",
          "xref": "paper",
          "y": 0.375,
          "yanchor": "bottom",
          "yref": "paper"
         },
         {
          "font": {
           "size": 16
          },
          "showarrow": false,
          "text": "RANDOM",
          "x": 0.775,
          "xanchor": "center",
          "xref": "paper",
          "y": 0.375,
          "yanchor": "bottom",
          "yref": "paper"
         }
        ],
        "height": 800,
        "template": {
         "data": {
          "bar": [
           {
            "error_x": {
             "color": "#2a3f5f"
            },
            "error_y": {
             "color": "#2a3f5f"
            },
            "marker": {
             "line": {
              "color": "#E5ECF6",
              "width": 0.5
             },
             "pattern": {
              "fillmode": "overlay",
              "size": 10,
              "solidity": 0.2
             }
            },
            "type": "bar"
           }
          ],
          "barpolar": [
           {
            "marker": {
             "line": {
              "color": "#E5ECF6",
              "width": 0.5
             },
             "pattern": {
              "fillmode": "overlay",
              "size": 10,
              "solidity": 0.2
             }
            },
            "type": "barpolar"
           }
          ],
          "carpet": [
           {
            "aaxis": {
             "endlinecolor": "#2a3f5f",
             "gridcolor": "white",
             "linecolor": "white",
             "minorgridcolor": "white",
             "startlinecolor": "#2a3f5f"
            },
            "baxis": {
             "endlinecolor": "#2a3f5f",
             "gridcolor": "white",
             "linecolor": "white",
             "minorgridcolor": "white",
             "startlinecolor": "#2a3f5f"
            },
            "type": "carpet"
           }
          ],
          "choropleth": [
           {
            "colorbar": {
             "outlinewidth": 0,
             "ticks": ""
            },
            "type": "choropleth"
           }
          ],
          "contour": [
           {
            "colorbar": {
             "outlinewidth": 0,
             "ticks": ""
            },
            "colorscale": [
             [
              0,
              "#0d0887"
             ],
             [
              0.1111111111111111,
              "#46039f"
             ],
             [
              0.2222222222222222,
              "#7201a8"
             ],
             [
              0.3333333333333333,
              "#9c179e"
             ],
             [
              0.4444444444444444,
              "#bd3786"
             ],
             [
              0.5555555555555556,
              "#d8576b"
             ],
             [
              0.6666666666666666,
              "#ed7953"
             ],
             [
              0.7777777777777778,
              "#fb9f3a"
             ],
             [
              0.8888888888888888,
              "#fdca26"
             ],
             [
              1,
              "#f0f921"
             ]
            ],
            "type": "contour"
           }
          ],
          "contourcarpet": [
           {
            "colorbar": {
             "outlinewidth": 0,
             "ticks": ""
            },
            "type": "contourcarpet"
           }
          ],
          "heatmap": [
           {
            "colorbar": {
             "outlinewidth": 0,
             "ticks": ""
            },
            "colorscale": [
             [
              0,
              "#0d0887"
             ],
             [
              0.1111111111111111,
              "#46039f"
             ],
             [
              0.2222222222222222,
              "#7201a8"
             ],
             [
              0.3333333333333333,
              "#9c179e"
             ],
             [
              0.4444444444444444,
              "#bd3786"
             ],
             [
              0.5555555555555556,
              "#d8576b"
             ],
             [
              0.6666666666666666,
              "#ed7953"
             ],
             [
              0.7777777777777778,
              "#fb9f3a"
             ],
             [
              0.8888888888888888,
              "#fdca26"
             ],
             [
              1,
              "#f0f921"
             ]
            ],
            "type": "heatmap"
           }
          ],
          "heatmapgl": [
           {
            "colorbar": {
             "outlinewidth": 0,
             "ticks": ""
            },
            "colorscale": [
             [
              0,
              "#0d0887"
             ],
             [
              0.1111111111111111,
              "#46039f"
             ],
             [
              0.2222222222222222,
              "#7201a8"
             ],
             [
              0.3333333333333333,
              "#9c179e"
             ],
             [
              0.4444444444444444,
              "#bd3786"
             ],
             [
              0.5555555555555556,
              "#d8576b"
             ],
             [
              0.6666666666666666,
              "#ed7953"
             ],
             [
              0.7777777777777778,
              "#fb9f3a"
             ],
             [
              0.8888888888888888,
              "#fdca26"
             ],
             [
              1,
              "#f0f921"
             ]
            ],
            "type": "heatmapgl"
           }
          ],
          "histogram": [
           {
            "marker": {
             "pattern": {
              "fillmode": "overlay",
              "size": 10,
              "solidity": 0.2
             }
            },
            "type": "histogram"
           }
          ],
          "histogram2d": [
           {
            "colorbar": {
             "outlinewidth": 0,
             "ticks": ""
            },
            "colorscale": [
             [
              0,
              "#0d0887"
             ],
             [
              0.1111111111111111,
              "#46039f"
             ],
             [
              0.2222222222222222,
              "#7201a8"
             ],
             [
              0.3333333333333333,
              "#9c179e"
             ],
             [
              0.4444444444444444,
              "#bd3786"
             ],
             [
              0.5555555555555556,
              "#d8576b"
             ],
             [
              0.6666666666666666,
              "#ed7953"
             ],
             [
              0.7777777777777778,
              "#fb9f3a"
             ],
             [
              0.8888888888888888,
              "#fdca26"
             ],
             [
              1,
              "#f0f921"
             ]
            ],
            "type": "histogram2d"
           }
          ],
          "histogram2dcontour": [
           {
            "colorbar": {
             "outlinewidth": 0,
             "ticks": ""
            },
            "colorscale": [
             [
              0,
              "#0d0887"
             ],
             [
              0.1111111111111111,
              "#46039f"
             ],
             [
              0.2222222222222222,
              "#7201a8"
             ],
             [
              0.3333333333333333,
              "#9c179e"
             ],
             [
              0.4444444444444444,
              "#bd3786"
             ],
             [
              0.5555555555555556,
              "#d8576b"
             ],
             [
              0.6666666666666666,
              "#ed7953"
             ],
             [
              0.7777777777777778,
              "#fb9f3a"
             ],
             [
              0.8888888888888888,
              "#fdca26"
             ],
             [
              1,
              "#f0f921"
             ]
            ],
            "type": "histogram2dcontour"
           }
          ],
          "mesh3d": [
           {
            "colorbar": {
             "outlinewidth": 0,
             "ticks": ""
            },
            "type": "mesh3d"
           }
          ],
          "parcoords": [
           {
            "line": {
             "colorbar": {
              "outlinewidth": 0,
              "ticks": ""
             }
            },
            "type": "parcoords"
           }
          ],
          "pie": [
           {
            "automargin": true,
            "type": "pie"
           }
          ],
          "scatter": [
           {
            "fillpattern": {
             "fillmode": "overlay",
             "size": 10,
             "solidity": 0.2
            },
            "type": "scatter"
           }
          ],
          "scatter3d": [
           {
            "line": {
             "colorbar": {
              "outlinewidth": 0,
              "ticks": ""
             }
            },
            "marker": {
             "colorbar": {
              "outlinewidth": 0,
              "ticks": ""
             }
            },
            "type": "scatter3d"
           }
          ],
          "scattercarpet": [
           {
            "marker": {
             "colorbar": {
              "outlinewidth": 0,
              "ticks": ""
             }
            },
            "type": "scattercarpet"
           }
          ],
          "scattergeo": [
           {
            "marker": {
             "colorbar": {
              "outlinewidth": 0,
              "ticks": ""
             }
            },
            "type": "scattergeo"
           }
          ],
          "scattergl": [
           {
            "marker": {
             "colorbar": {
              "outlinewidth": 0,
              "ticks": ""
             }
            },
            "type": "scattergl"
           }
          ],
          "scattermapbox": [
           {
            "marker": {
             "colorbar": {
              "outlinewidth": 0,
              "ticks": ""
             }
            },
            "type": "scattermapbox"
           }
          ],
          "scatterpolar": [
           {
            "marker": {
             "colorbar": {
              "outlinewidth": 0,
              "ticks": ""
             }
            },
            "type": "scatterpolar"
           }
          ],
          "scatterpolargl": [
           {
            "marker": {
             "colorbar": {
              "outlinewidth": 0,
              "ticks": ""
             }
            },
            "type": "scatterpolargl"
           }
          ],
          "scatterternary": [
           {
            "marker": {
             "colorbar": {
              "outlinewidth": 0,
              "ticks": ""
             }
            },
            "type": "scatterternary"
           }
          ],
          "surface": [
           {
            "colorbar": {
             "outlinewidth": 0,
             "ticks": ""
            },
            "colorscale": [
             [
              0,
              "#0d0887"
             ],
             [
              0.1111111111111111,
              "#46039f"
             ],
             [
              0.2222222222222222,
              "#7201a8"
             ],
             [
              0.3333333333333333,
              "#9c179e"
             ],
             [
              0.4444444444444444,
              "#bd3786"
             ],
             [
              0.5555555555555556,
              "#d8576b"
             ],
             [
              0.6666666666666666,
              "#ed7953"
             ],
             [
              0.7777777777777778,
              "#fb9f3a"
             ],
             [
              0.8888888888888888,
              "#fdca26"
             ],
             [
              1,
              "#f0f921"
             ]
            ],
            "type": "surface"
           }
          ],
          "table": [
           {
            "cells": {
             "fill": {
              "color": "#EBF0F8"
             },
             "line": {
              "color": "white"
             }
            },
            "header": {
             "fill": {
              "color": "#C8D4E3"
             },
             "line": {
              "color": "white"
             }
            },
            "type": "table"
           }
          ]
         },
         "layout": {
          "annotationdefaults": {
           "arrowcolor": "#2a3f5f",
           "arrowhead": 0,
           "arrowwidth": 1
          },
          "autotypenumbers": "strict",
          "coloraxis": {
           "colorbar": {
            "outlinewidth": 0,
            "ticks": ""
           }
          },
          "colorscale": {
           "diverging": [
            [
             0,
             "#8e0152"
            ],
            [
             0.1,
             "#c51b7d"
            ],
            [
             0.2,
             "#de77ae"
            ],
            [
             0.3,
             "#f1b6da"
            ],
            [
             0.4,
             "#fde0ef"
            ],
            [
             0.5,
             "#f7f7f7"
            ],
            [
             0.6,
             "#e6f5d0"
            ],
            [
             0.7,
             "#b8e186"
            ],
            [
             0.8,
             "#7fbc41"
            ],
            [
             0.9,
             "#4d9221"
            ],
            [
             1,
             "#276419"
            ]
           ],
           "sequential": [
            [
             0,
             "#0d0887"
            ],
            [
             0.1111111111111111,
             "#46039f"
            ],
            [
             0.2222222222222222,
             "#7201a8"
            ],
            [
             0.3333333333333333,
             "#9c179e"
            ],
            [
             0.4444444444444444,
             "#bd3786"
            ],
            [
             0.5555555555555556,
             "#d8576b"
            ],
            [
             0.6666666666666666,
             "#ed7953"
            ],
            [
             0.7777777777777778,
             "#fb9f3a"
            ],
            [
             0.8888888888888888,
             "#fdca26"
            ],
            [
             1,
             "#f0f921"
            ]
           ],
           "sequentialminus": [
            [
             0,
             "#0d0887"
            ],
            [
             0.1111111111111111,
             "#46039f"
            ],
            [
             0.2222222222222222,
             "#7201a8"
            ],
            [
             0.3333333333333333,
             "#9c179e"
            ],
            [
             0.4444444444444444,
             "#bd3786"
            ],
            [
             0.5555555555555556,
             "#d8576b"
            ],
            [
             0.6666666666666666,
             "#ed7953"
            ],
            [
             0.7777777777777778,
             "#fb9f3a"
            ],
            [
             0.8888888888888888,
             "#fdca26"
            ],
            [
             1,
             "#f0f921"
            ]
           ]
          },
          "colorway": [
           "#636efa",
           "#EF553B",
           "#00cc96",
           "#ab63fa",
           "#FFA15A",
           "#19d3f3",
           "#FF6692",
           "#B6E880",
           "#FF97FF",
           "#FECB52"
          ],
          "font": {
           "color": "#2a3f5f"
          },
          "geo": {
           "bgcolor": "white",
           "lakecolor": "white",
           "landcolor": "#E5ECF6",
           "showlakes": true,
           "showland": true,
           "subunitcolor": "white"
          },
          "hoverlabel": {
           "align": "left"
          },
          "hovermode": "closest",
          "mapbox": {
           "style": "light"
          },
          "paper_bgcolor": "white",
          "plot_bgcolor": "#E5ECF6",
          "polar": {
           "angularaxis": {
            "gridcolor": "white",
            "linecolor": "white",
            "ticks": ""
           },
           "bgcolor": "#E5ECF6",
           "radialaxis": {
            "gridcolor": "white",
            "linecolor": "white",
            "ticks": ""
           }
          },
          "scene": {
           "xaxis": {
            "backgroundcolor": "#E5ECF6",
            "gridcolor": "white",
            "gridwidth": 2,
            "linecolor": "white",
            "showbackground": true,
            "ticks": "",
            "zerolinecolor": "white"
           },
           "yaxis": {
            "backgroundcolor": "#E5ECF6",
            "gridcolor": "white",
            "gridwidth": 2,
            "linecolor": "white",
            "showbackground": true,
            "ticks": "",
            "zerolinecolor": "white"
           },
           "zaxis": {
            "backgroundcolor": "#E5ECF6",
            "gridcolor": "white",
            "gridwidth": 2,
            "linecolor": "white",
            "showbackground": true,
            "ticks": "",
            "zerolinecolor": "white"
           }
          },
          "shapedefaults": {
           "line": {
            "color": "#2a3f5f"
           }
          },
          "ternary": {
           "aaxis": {
            "gridcolor": "white",
            "linecolor": "white",
            "ticks": ""
           },
           "baxis": {
            "gridcolor": "white",
            "linecolor": "white",
            "ticks": ""
           },
           "bgcolor": "#E5ECF6",
           "caxis": {
            "gridcolor": "white",
            "linecolor": "white",
            "ticks": ""
           }
          },
          "title": {
           "x": 0.05
          },
          "xaxis": {
           "automargin": true,
           "gridcolor": "white",
           "linecolor": "white",
           "ticks": "",
           "title": {
            "standoff": 15
           },
           "zerolinecolor": "white",
           "zerolinewidth": 2
          },
          "yaxis": {
           "automargin": true,
           "gridcolor": "white",
           "linecolor": "white",
           "ticks": "",
           "title": {
            "standoff": 15
           },
           "zerolinecolor": "white",
           "zerolinewidth": 2
          }
         }
        },
        "title": {
         "text": "Total Profit Percentage (in %) x different time-to-chart (Across different models) <br>ccy:BTCUSDT - feat_package:3",
         "x": 0.5
        },
        "width": 1200,
        "xaxis": {
         "anchor": "y",
         "domain": [
          0,
          0.45
         ],
         "title": {
          "standoff": 25,
          "text": "Total Profit Percentage (in %)"
         }
        },
        "xaxis2": {
         "anchor": "y2",
         "domain": [
          0.55,
          1
         ],
         "title": {
          "standoff": 25,
          "text": "Total Profit Percentage (in %)"
         }
        },
        "xaxis3": {
         "anchor": "y3",
         "domain": [
          0,
          0.45
         ],
         "title": {
          "standoff": 25,
          "text": "Total Profit Percentage (in %)"
         }
        },
        "xaxis4": {
         "anchor": "y4",
         "domain": [
          0.55,
          1
         ],
         "title": {
          "standoff": 25,
          "text": "Total Profit Percentage (in %)"
         }
        },
        "yaxis": {
         "anchor": "x",
         "domain": [
          0.625,
          1
         ],
         "matches": "y3",
         "title": {
          "standoff": 25,
          "text": "Number of simulations"
         }
        },
        "yaxis2": {
         "anchor": "x2",
         "domain": [
          0.625,
          1
         ],
         "matches": "y3",
         "showticklabels": false,
         "title": {
          "standoff": 25,
          "text": "Number of simulations"
         }
        },
        "yaxis3": {
         "anchor": "x3",
         "domain": [
          0,
          0.375
         ],
         "title": {
          "standoff": 25,
          "text": "Number of simulations"
         }
        },
        "yaxis4": {
         "anchor": "x4",
         "domain": [
          0,
          0.375
         ],
         "matches": "y3",
         "showticklabels": false,
         "title": {
          "standoff": 25,
          "text": "Number of simulations"
         }
        }
       }
      }
     },
     "metadata": {},
     "output_type": "display_data"
    }
   ],
   "source": [
    "fig_output = get_histogramplot_total_profit_diff_time_to_chart(df_sim_results, list_feat[0])"
   ]
  },
  {
   "cell_type": "code",
   "execution_count": 52,
   "metadata": {},
   "outputs": [
    {
     "data": {
      "application/vnd.plotly.v1+json": {
       "config": {
        "plotlyServerURL": "https://plot.ly"
       },
       "data": [
        {
         "legendgroup": "1",
         "marker": {
          "color": "green",
          "size": 10,
          "symbol": "circle"
         },
         "mode": "markers+text",
         "name": "A2C: 15m",
         "type": "scatter",
         "x": [
          -32.83495328181836,
          -32.83495328181836
         ],
         "y": [
          3
         ]
        },
        {
         "legendgroup": "1",
         "marker": {
          "color": "orange",
          "size": 10,
          "symbol": "circle"
         },
         "mode": "markers+text",
         "name": "A2C:1h",
         "type": "scatter",
         "x": [
          -54.34133862725946,
          -54.34133862725946
         ],
         "y": [
          3
         ]
        },
        {
         "legendgroup": "1",
         "marker": {
          "color": "violet",
          "size": 10,
          "symbol": "circle"
         },
         "mode": "markers+text",
         "name": "A2C:1d",
         "type": "scatter",
         "x": [
          -46.68836309512855,
          -46.68836309512855
         ],
         "y": [
          3
         ]
        },
        {
         "legendgroup": "2",
         "marker": {
          "color": "green",
          "size": 10,
          "symbol": "square"
         },
         "mode": "markers",
         "name": "PPO: 15m",
         "type": "scatter",
         "x": [
          -8.78574593236885,
          -8.78574593236885
         ],
         "y": [
          2
         ]
        },
        {
         "legendgroup": "2",
         "marker": {
          "color": "orange",
          "size": 10,
          "symbol": "square"
         },
         "mode": "markers",
         "name": "PPO: 1h",
         "type": "scatter",
         "x": [
          -41.959329514829236,
          -41.959329514829236
         ],
         "y": [
          2
         ]
        },
        {
         "legendgroup": "2",
         "marker": {
          "color": "violet",
          "size": 10,
          "symbol": "square"
         },
         "mode": "markers",
         "name": "PPO: 1d",
         "type": "scatter",
         "x": [
          -39.2134928790602,
          -39.2134928790602
         ],
         "y": [
          2
         ]
        },
        {
         "legendgroup": "3",
         "marker": {
          "color": "green",
          "size": 10,
          "symbol": "diamond"
         },
         "mode": "markers",
         "name": "DQN: 15m",
         "type": "scatter",
         "x": [
          -24.264795051608278,
          -24.264795051608278
         ],
         "y": [
          1
         ]
        },
        {
         "legendgroup": "3",
         "marker": {
          "color": "orange",
          "size": 10,
          "symbol": "diamond"
         },
         "mode": "markers",
         "name": "DQN: 1h",
         "type": "scatter",
         "x": [
          -37.92640993693229,
          -37.92640993693229
         ],
         "y": [
          1
         ]
        },
        {
         "legendgroup": "3",
         "marker": {
          "color": "violet",
          "size": 10,
          "symbol": "diamond"
         },
         "mode": "markers",
         "name": "DQN: 1d",
         "type": "scatter",
         "x": [
          -27.564529052103403,
          -27.564529052103403
         ],
         "y": [
          1
         ]
        },
        {
         "legendgroup": "4",
         "marker": {
          "color": "green",
          "size": 10,
          "symbol": "cross"
         },
         "mode": "markers+text",
         "name": "RANDOM: 15m",
         "type": "scatter",
         "x": [
          -42.56021287424333,
          -42.56021287424333
         ],
         "y": [
          0
         ]
        },
        {
         "legendgroup": "4",
         "marker": {
          "color": "orange",
          "size": 10,
          "symbol": "cross"
         },
         "mode": "markers+text",
         "name": "RANDOM: 1h",
         "type": "scatter",
         "x": [
          -42.77802945849341,
          -42.77802945849341
         ],
         "y": [
          0
         ]
        },
        {
         "legendgroup": "4",
         "marker": {
          "color": "violet",
          "size": 10,
          "symbol": "cross"
         },
         "mode": "markers+text",
         "name": "RANDOM: 1d",
         "type": "scatter",
         "x": [
          -44.053962612262865,
          -44.053962612262865
         ],
         "y": [
          0
         ]
        }
       ],
       "layout": {
        "annotations": [
         {
          "align": "center",
          "text": "-32.835",
          "textangle": 45,
          "x": -32.83495328181836,
          "xanchor": "center",
          "xref": "x",
          "y": 3,
          "yref": "y"
         },
         {
          "align": "center",
          "text": "-54.3413",
          "textangle": 45,
          "x": -54.34133862725946,
          "xanchor": "center",
          "xref": "x",
          "y": 3,
          "yref": "y"
         },
         {
          "align": "center",
          "text": "-46.6884",
          "textangle": 45,
          "x": -46.68836309512855,
          "xanchor": "center",
          "xref": "x",
          "y": 3,
          "yref": "y"
         },
         {
          "align": "center",
          "text": "-8.7857",
          "textangle": 45,
          "x": -8.78574593236885,
          "xanchor": "center",
          "xref": "x",
          "y": 2,
          "yref": "y"
         },
         {
          "align": "center",
          "text": "-41.9593",
          "textangle": 45,
          "x": -41.959329514829236,
          "xanchor": "center",
          "xref": "x",
          "y": 2,
          "yref": "y"
         },
         {
          "align": "center",
          "text": "-39.2135",
          "textangle": 45,
          "x": -39.2134928790602,
          "xanchor": "center",
          "xref": "x",
          "y": 2,
          "yref": "y"
         },
         {
          "align": "center",
          "text": "-24.2648",
          "textangle": 45,
          "x": -24.264795051608278,
          "xanchor": "center",
          "xref": "x",
          "y": 1,
          "yref": "y"
         },
         {
          "align": "center",
          "text": "-37.9264",
          "textangle": 45,
          "x": -37.92640993693229,
          "xanchor": "center",
          "xref": "x",
          "y": 1,
          "yref": "y"
         },
         {
          "align": "center",
          "text": "-27.5645",
          "textangle": 45,
          "x": -27.564529052103403,
          "xanchor": "center",
          "xref": "x",
          "y": 1,
          "yref": "y"
         },
         {
          "align": "center",
          "text": "-42.5602",
          "textangle": 45,
          "x": -42.56021287424333,
          "xanchor": "center",
          "xref": "x",
          "y": 0,
          "yref": "y"
         },
         {
          "align": "center",
          "text": "-42.778",
          "textangle": 45,
          "x": -42.77802945849341,
          "xanchor": "center",
          "xref": "x",
          "y": 0,
          "yref": "y"
         },
         {
          "align": "center",
          "text": "-44.054",
          "textangle": 45,
          "x": -44.053962612262865,
          "xanchor": "center",
          "xref": "x",
          "y": 0,
          "yref": "y"
         }
        ],
        "height": 800,
        "legend": {
         "tracegroupgap": 125
        },
        "template": {
         "data": {
          "bar": [
           {
            "error_x": {
             "color": "#2a3f5f"
            },
            "error_y": {
             "color": "#2a3f5f"
            },
            "marker": {
             "line": {
              "color": "#E5ECF6",
              "width": 0.5
             },
             "pattern": {
              "fillmode": "overlay",
              "size": 10,
              "solidity": 0.2
             }
            },
            "type": "bar"
           }
          ],
          "barpolar": [
           {
            "marker": {
             "line": {
              "color": "#E5ECF6",
              "width": 0.5
             },
             "pattern": {
              "fillmode": "overlay",
              "size": 10,
              "solidity": 0.2
             }
            },
            "type": "barpolar"
           }
          ],
          "carpet": [
           {
            "aaxis": {
             "endlinecolor": "#2a3f5f",
             "gridcolor": "white",
             "linecolor": "white",
             "minorgridcolor": "white",
             "startlinecolor": "#2a3f5f"
            },
            "baxis": {
             "endlinecolor": "#2a3f5f",
             "gridcolor": "white",
             "linecolor": "white",
             "minorgridcolor": "white",
             "startlinecolor": "#2a3f5f"
            },
            "type": "carpet"
           }
          ],
          "choropleth": [
           {
            "colorbar": {
             "outlinewidth": 0,
             "ticks": ""
            },
            "type": "choropleth"
           }
          ],
          "contour": [
           {
            "colorbar": {
             "outlinewidth": 0,
             "ticks": ""
            },
            "colorscale": [
             [
              0,
              "#0d0887"
             ],
             [
              0.1111111111111111,
              "#46039f"
             ],
             [
              0.2222222222222222,
              "#7201a8"
             ],
             [
              0.3333333333333333,
              "#9c179e"
             ],
             [
              0.4444444444444444,
              "#bd3786"
             ],
             [
              0.5555555555555556,
              "#d8576b"
             ],
             [
              0.6666666666666666,
              "#ed7953"
             ],
             [
              0.7777777777777778,
              "#fb9f3a"
             ],
             [
              0.8888888888888888,
              "#fdca26"
             ],
             [
              1,
              "#f0f921"
             ]
            ],
            "type": "contour"
           }
          ],
          "contourcarpet": [
           {
            "colorbar": {
             "outlinewidth": 0,
             "ticks": ""
            },
            "type": "contourcarpet"
           }
          ],
          "heatmap": [
           {
            "colorbar": {
             "outlinewidth": 0,
             "ticks": ""
            },
            "colorscale": [
             [
              0,
              "#0d0887"
             ],
             [
              0.1111111111111111,
              "#46039f"
             ],
             [
              0.2222222222222222,
              "#7201a8"
             ],
             [
              0.3333333333333333,
              "#9c179e"
             ],
             [
              0.4444444444444444,
              "#bd3786"
             ],
             [
              0.5555555555555556,
              "#d8576b"
             ],
             [
              0.6666666666666666,
              "#ed7953"
             ],
             [
              0.7777777777777778,
              "#fb9f3a"
             ],
             [
              0.8888888888888888,
              "#fdca26"
             ],
             [
              1,
              "#f0f921"
             ]
            ],
            "type": "heatmap"
           }
          ],
          "heatmapgl": [
           {
            "colorbar": {
             "outlinewidth": 0,
             "ticks": ""
            },
            "colorscale": [
             [
              0,
              "#0d0887"
             ],
             [
              0.1111111111111111,
              "#46039f"
             ],
             [
              0.2222222222222222,
              "#7201a8"
             ],
             [
              0.3333333333333333,
              "#9c179e"
             ],
             [
              0.4444444444444444,
              "#bd3786"
             ],
             [
              0.5555555555555556,
              "#d8576b"
             ],
             [
              0.6666666666666666,
              "#ed7953"
             ],
             [
              0.7777777777777778,
              "#fb9f3a"
             ],
             [
              0.8888888888888888,
              "#fdca26"
             ],
             [
              1,
              "#f0f921"
             ]
            ],
            "type": "heatmapgl"
           }
          ],
          "histogram": [
           {
            "marker": {
             "pattern": {
              "fillmode": "overlay",
              "size": 10,
              "solidity": 0.2
             }
            },
            "type": "histogram"
           }
          ],
          "histogram2d": [
           {
            "colorbar": {
             "outlinewidth": 0,
             "ticks": ""
            },
            "colorscale": [
             [
              0,
              "#0d0887"
             ],
             [
              0.1111111111111111,
              "#46039f"
             ],
             [
              0.2222222222222222,
              "#7201a8"
             ],
             [
              0.3333333333333333,
              "#9c179e"
             ],
             [
              0.4444444444444444,
              "#bd3786"
             ],
             [
              0.5555555555555556,
              "#d8576b"
             ],
             [
              0.6666666666666666,
              "#ed7953"
             ],
             [
              0.7777777777777778,
              "#fb9f3a"
             ],
             [
              0.8888888888888888,
              "#fdca26"
             ],
             [
              1,
              "#f0f921"
             ]
            ],
            "type": "histogram2d"
           }
          ],
          "histogram2dcontour": [
           {
            "colorbar": {
             "outlinewidth": 0,
             "ticks": ""
            },
            "colorscale": [
             [
              0,
              "#0d0887"
             ],
             [
              0.1111111111111111,
              "#46039f"
             ],
             [
              0.2222222222222222,
              "#7201a8"
             ],
             [
              0.3333333333333333,
              "#9c179e"
             ],
             [
              0.4444444444444444,
              "#bd3786"
             ],
             [
              0.5555555555555556,
              "#d8576b"
             ],
             [
              0.6666666666666666,
              "#ed7953"
             ],
             [
              0.7777777777777778,
              "#fb9f3a"
             ],
             [
              0.8888888888888888,
              "#fdca26"
             ],
             [
              1,
              "#f0f921"
             ]
            ],
            "type": "histogram2dcontour"
           }
          ],
          "mesh3d": [
           {
            "colorbar": {
             "outlinewidth": 0,
             "ticks": ""
            },
            "type": "mesh3d"
           }
          ],
          "parcoords": [
           {
            "line": {
             "colorbar": {
              "outlinewidth": 0,
              "ticks": ""
             }
            },
            "type": "parcoords"
           }
          ],
          "pie": [
           {
            "automargin": true,
            "type": "pie"
           }
          ],
          "scatter": [
           {
            "fillpattern": {
             "fillmode": "overlay",
             "size": 10,
             "solidity": 0.2
            },
            "type": "scatter"
           }
          ],
          "scatter3d": [
           {
            "line": {
             "colorbar": {
              "outlinewidth": 0,
              "ticks": ""
             }
            },
            "marker": {
             "colorbar": {
              "outlinewidth": 0,
              "ticks": ""
             }
            },
            "type": "scatter3d"
           }
          ],
          "scattercarpet": [
           {
            "marker": {
             "colorbar": {
              "outlinewidth": 0,
              "ticks": ""
             }
            },
            "type": "scattercarpet"
           }
          ],
          "scattergeo": [
           {
            "marker": {
             "colorbar": {
              "outlinewidth": 0,
              "ticks": ""
             }
            },
            "type": "scattergeo"
           }
          ],
          "scattergl": [
           {
            "marker": {
             "colorbar": {
              "outlinewidth": 0,
              "ticks": ""
             }
            },
            "type": "scattergl"
           }
          ],
          "scattermapbox": [
           {
            "marker": {
             "colorbar": {
              "outlinewidth": 0,
              "ticks": ""
             }
            },
            "type": "scattermapbox"
           }
          ],
          "scatterpolar": [
           {
            "marker": {
             "colorbar": {
              "outlinewidth": 0,
              "ticks": ""
             }
            },
            "type": "scatterpolar"
           }
          ],
          "scatterpolargl": [
           {
            "marker": {
             "colorbar": {
              "outlinewidth": 0,
              "ticks": ""
             }
            },
            "type": "scatterpolargl"
           }
          ],
          "scatterternary": [
           {
            "marker": {
             "colorbar": {
              "outlinewidth": 0,
              "ticks": ""
             }
            },
            "type": "scatterternary"
           }
          ],
          "surface": [
           {
            "colorbar": {
             "outlinewidth": 0,
             "ticks": ""
            },
            "colorscale": [
             [
              0,
              "#0d0887"
             ],
             [
              0.1111111111111111,
              "#46039f"
             ],
             [
              0.2222222222222222,
              "#7201a8"
             ],
             [
              0.3333333333333333,
              "#9c179e"
             ],
             [
              0.4444444444444444,
              "#bd3786"
             ],
             [
              0.5555555555555556,
              "#d8576b"
             ],
             [
              0.6666666666666666,
              "#ed7953"
             ],
             [
              0.7777777777777778,
              "#fb9f3a"
             ],
             [
              0.8888888888888888,
              "#fdca26"
             ],
             [
              1,
              "#f0f921"
             ]
            ],
            "type": "surface"
           }
          ],
          "table": [
           {
            "cells": {
             "fill": {
              "color": "#EBF0F8"
             },
             "line": {
              "color": "white"
             }
            },
            "header": {
             "fill": {
              "color": "#C8D4E3"
             },
             "line": {
              "color": "white"
             }
            },
            "type": "table"
           }
          ]
         },
         "layout": {
          "annotationdefaults": {
           "arrowcolor": "#2a3f5f",
           "arrowhead": 0,
           "arrowwidth": 1
          },
          "autotypenumbers": "strict",
          "coloraxis": {
           "colorbar": {
            "outlinewidth": 0,
            "ticks": ""
           }
          },
          "colorscale": {
           "diverging": [
            [
             0,
             "#8e0152"
            ],
            [
             0.1,
             "#c51b7d"
            ],
            [
             0.2,
             "#de77ae"
            ],
            [
             0.3,
             "#f1b6da"
            ],
            [
             0.4,
             "#fde0ef"
            ],
            [
             0.5,
             "#f7f7f7"
            ],
            [
             0.6,
             "#e6f5d0"
            ],
            [
             0.7,
             "#b8e186"
            ],
            [
             0.8,
             "#7fbc41"
            ],
            [
             0.9,
             "#4d9221"
            ],
            [
             1,
             "#276419"
            ]
           ],
           "sequential": [
            [
             0,
             "#0d0887"
            ],
            [
             0.1111111111111111,
             "#46039f"
            ],
            [
             0.2222222222222222,
             "#7201a8"
            ],
            [
             0.3333333333333333,
             "#9c179e"
            ],
            [
             0.4444444444444444,
             "#bd3786"
            ],
            [
             0.5555555555555556,
             "#d8576b"
            ],
            [
             0.6666666666666666,
             "#ed7953"
            ],
            [
             0.7777777777777778,
             "#fb9f3a"
            ],
            [
             0.8888888888888888,
             "#fdca26"
            ],
            [
             1,
             "#f0f921"
            ]
           ],
           "sequentialminus": [
            [
             0,
             "#0d0887"
            ],
            [
             0.1111111111111111,
             "#46039f"
            ],
            [
             0.2222222222222222,
             "#7201a8"
            ],
            [
             0.3333333333333333,
             "#9c179e"
            ],
            [
             0.4444444444444444,
             "#bd3786"
            ],
            [
             0.5555555555555556,
             "#d8576b"
            ],
            [
             0.6666666666666666,
             "#ed7953"
            ],
            [
             0.7777777777777778,
             "#fb9f3a"
            ],
            [
             0.8888888888888888,
             "#fdca26"
            ],
            [
             1,
             "#f0f921"
            ]
           ]
          },
          "colorway": [
           "#636efa",
           "#EF553B",
           "#00cc96",
           "#ab63fa",
           "#FFA15A",
           "#19d3f3",
           "#FF6692",
           "#B6E880",
           "#FF97FF",
           "#FECB52"
          ],
          "font": {
           "color": "#2a3f5f"
          },
          "geo": {
           "bgcolor": "white",
           "lakecolor": "white",
           "landcolor": "#E5ECF6",
           "showlakes": true,
           "showland": true,
           "subunitcolor": "white"
          },
          "hoverlabel": {
           "align": "left"
          },
          "hovermode": "closest",
          "mapbox": {
           "style": "light"
          },
          "paper_bgcolor": "white",
          "plot_bgcolor": "#E5ECF6",
          "polar": {
           "angularaxis": {
            "gridcolor": "white",
            "linecolor": "white",
            "ticks": ""
           },
           "bgcolor": "#E5ECF6",
           "radialaxis": {
            "gridcolor": "white",
            "linecolor": "white",
            "ticks": ""
           }
          },
          "scene": {
           "xaxis": {
            "backgroundcolor": "#E5ECF6",
            "gridcolor": "white",
            "gridwidth": 2,
            "linecolor": "white",
            "showbackground": true,
            "ticks": "",
            "zerolinecolor": "white"
           },
           "yaxis": {
            "backgroundcolor": "#E5ECF6",
            "gridcolor": "white",
            "gridwidth": 2,
            "linecolor": "white",
            "showbackground": true,
            "ticks": "",
            "zerolinecolor": "white"
           },
           "zaxis": {
            "backgroundcolor": "#E5ECF6",
            "gridcolor": "white",
            "gridwidth": 2,
            "linecolor": "white",
            "showbackground": true,
            "ticks": "",
            "zerolinecolor": "white"
           }
          },
          "shapedefaults": {
           "line": {
            "color": "#2a3f5f"
           }
          },
          "ternary": {
           "aaxis": {
            "gridcolor": "white",
            "linecolor": "white",
            "ticks": ""
           },
           "baxis": {
            "gridcolor": "white",
            "linecolor": "white",
            "ticks": ""
           },
           "bgcolor": "#E5ECF6",
           "caxis": {
            "gridcolor": "white",
            "linecolor": "white",
            "ticks": ""
           }
          },
          "title": {
           "x": 0.05
          },
          "xaxis": {
           "automargin": true,
           "gridcolor": "white",
           "linecolor": "white",
           "ticks": "",
           "title": {
            "standoff": 15
           },
           "zerolinecolor": "white",
           "zerolinewidth": 2
          },
          "yaxis": {
           "automargin": true,
           "gridcolor": "white",
           "linecolor": "white",
           "ticks": "",
           "title": {
            "standoff": 15
           },
           "zerolinecolor": "white",
           "zerolinewidth": 2
          }
         }
        },
        "title": {
         "text": "MEDIAN : Total Profit Percentage (in %) x different time-to-chart (Across different models) <br>ccy:BTCUSDT - feat_package:3",
         "x": 0.5
        },
        "width": 1200,
        "xaxis": {
         "title": {
          "standoff": 25,
          "text": "Total Profit Percentage (in %)"
         }
        },
        "yaxis": {
         "showticklabels": false
        }
       }
      }
     },
     "metadata": {},
     "output_type": "display_data"
    }
   ],
   "source": [
    "fig_output = get_meanplot_total_profit_diff_time_to_chart(df_sim_results, list_feat[0])"
   ]
  },
  {
   "attachments": {},
   "cell_type": "markdown",
   "metadata": {},
   "source": [
    "### `ccy=ETHUSDT` & `feat_package=1` "
   ]
  },
  {
   "attachments": {},
   "cell_type": "markdown",
   "metadata": {},
   "source": [
    "#### Parameters"
   ]
  },
  {
   "cell_type": "code",
   "execution_count": null,
   "metadata": {},
   "outputs": [],
   "source": [
    "#list_ccy = ['BTCUSDT', 'BNBUSDT', 'ETHUSDT']\n",
    "#list_timestamp = [\"1d\", \"1h\", \"15m\", \"5m\"]\n",
    "#list_feat = ['1', '2', '3']\n",
    "\n",
    "list_ccy = ['ETHUSDT']\n",
    "#list_timestamp = [\"1d\", \"1h\", \"15m\", \"5m\"]\n",
    "list_timestamp = [\"1d\", \"1h\", \"15m\"]\n",
    "list_feat = ['1']\n",
    "\n",
    "list_config_file_name = []\n",
    "for ccy in list_ccy:\n",
    "    for timestamp in list_timestamp:\n",
    "        for feat in list_feat:\n",
    "            config_file_name = \"config_msc_\" + ccy + \"_\" + timestamp + \"_feat_package\" + feat\n",
    "            list_config_file_name.append(config_file_name)"
   ]
  },
  {
   "attachments": {},
   "cell_type": "markdown",
   "metadata": {},
   "source": [
    "#### Get the data"
   ]
  },
  {
   "cell_type": "code",
   "execution_count": null,
   "metadata": {},
   "outputs": [],
   "source": [
    "df_sim_results = pd.DataFrame()\n",
    "for config_file_name in list_config_file_name:\n",
    "    df_sim_results_temp = get_and_process_simulation_data(config_file_name)\n",
    "    df_sim_results_temp['config_file_name'] = config_file_name\n",
    "    df_sim_results = pd.concat([df_sim_results, df_sim_results_temp], axis=0)"
   ]
  },
  {
   "attachments": {},
   "cell_type": "markdown",
   "metadata": {},
   "source": [
    "#### Plot the results"
   ]
  },
  {
   "cell_type": "code",
   "execution_count": null,
   "metadata": {},
   "outputs": [],
   "source": [
    "fig_output = get_boxplot_total_profit_diff_time_to_chart(df_sim_results, list_feat[0])"
   ]
  },
  {
   "cell_type": "code",
   "execution_count": null,
   "metadata": {},
   "outputs": [],
   "source": [
    "fig_output = get_histogramplot_total_profit_diff_time_to_chart(df_sim_results, list_feat[0])"
   ]
  },
  {
   "cell_type": "code",
   "execution_count": null,
   "metadata": {},
   "outputs": [],
   "source": [
    "fig_output = get_meanplot_total_profit_diff_time_to_chart(df_sim_results, list_feat[0])"
   ]
  },
  {
   "attachments": {},
   "cell_type": "markdown",
   "metadata": {},
   "source": [
    "## Compare: Same `time-to-chart (timestamp)` & `feat_package` with different `ccy`"
   ]
  },
  {
   "attachments": {},
   "cell_type": "markdown",
   "metadata": {},
   "source": [
    "## Compare: Same `ccy` & `time-to-chart (timestamp)` with different `feat_package`"
   ]
  },
  {
   "cell_type": "code",
   "execution_count": 75,
   "metadata": {},
   "outputs": [],
   "source": [
    "def get_boxplot_total_profit_diff_feature(df_sim_results, timestamp):\n",
    "    \n",
    "    str_title = f\"Total Profit Percentage (in %) x different feat_package (Across different models) <br>ccy:{df_sim_results.ccy.unique()[0]} - time-to-chart:{timestamp}\"\n",
    "\n",
    "    list_of_colours = ['blue', 'grey', 'red']\n",
    "\n",
    "    fig = make_subplots(rows=2, cols=2, subplot_titles=(\"A2C\", \"PPO\", \"DQN\", \"RANDOM\"), shared_yaxes='all')\n",
    "\n",
    "    fig.add_trace(go.Box(y = df_sim_results[(df_sim_results['feat_package'] == 1) & (df_sim_results['model_type'] == 'A2C')]['fmt_total_profit_percentage'], name=\"1\", showlegend=False, line=dict(color=list_of_colours[0])), row=1, col=1)\n",
    "    fig.add_trace(go.Box(y = df_sim_results[(df_sim_results['feat_package'] == 2) & (df_sim_results['model_type'] == 'A2C')]['fmt_total_profit_percentage'], name=\"2\", showlegend=False, line=dict(color=list_of_colours[1])), row=1, col=1)\n",
    "    fig.add_trace(go.Box(y = df_sim_results[(df_sim_results['feat_package'] == 3) & (df_sim_results['model_type'] == 'A2C')]['fmt_total_profit_percentage'], name=\"3\", showlegend=False, line=dict(color=list_of_colours[2])), row=1, col=1)\n",
    "\n",
    "    fig.add_trace(go.Box(y = df_sim_results[(df_sim_results['feat_package'] == 1) & (df_sim_results['model_type'] == 'PPO')]['fmt_total_profit_percentage'], name=\"1\", showlegend=False, line=dict(color=list_of_colours[0])), row=1, col=2)\n",
    "    fig.add_trace(go.Box(y = df_sim_results[(df_sim_results['feat_package'] == 2) & (df_sim_results['model_type'] == 'PPO')]['fmt_total_profit_percentage'], name=\"2\", showlegend=False, line=dict(color=list_of_colours[1])), row=1, col=2)\n",
    "    fig.add_trace(go.Box(y = df_sim_results[(df_sim_results['feat_package'] == 3) & (df_sim_results['model_type'] == 'PPO')]['fmt_total_profit_percentage'], name=\"3\", showlegend=False, line=dict(color=list_of_colours[2])), row=1, col=2)\n",
    "\n",
    "    fig.add_trace(go.Box(y = df_sim_results[(df_sim_results['feat_package'] == 1) & (df_sim_results['model_type'] == 'DQN')]['fmt_total_profit_percentage'], name=\"1\", showlegend=False, line=dict(color=list_of_colours[0])), row=2, col=1)\n",
    "    fig.add_trace(go.Box(y = df_sim_results[(df_sim_results['feat_package'] == 2) & (df_sim_results['model_type'] == 'DQN')]['fmt_total_profit_percentage'], name=\"2\", showlegend=False, line=dict(color=list_of_colours[1])), row=2, col=1)\n",
    "    fig.add_trace(go.Box(y = df_sim_results[(df_sim_results['feat_package'] == 3) & (df_sim_results['model_type'] == 'DQN')]['fmt_total_profit_percentage'], name=\"3\", showlegend=False, line=dict(color=list_of_colours[2])), row=2, col=1)\n",
    "\n",
    "    fig.add_trace(go.Box(y = df_sim_results[(df_sim_results['feat_package'] == 1) & (df_sim_results['model_type'] == 'RANDOM')]['fmt_total_profit_percentage'], name=\"1\", showlegend=False, line=dict(color=list_of_colours[0])), row=2, col=2)\n",
    "    fig.add_trace(go.Box(y = df_sim_results[(df_sim_results['feat_package'] == 2) & (df_sim_results['model_type'] == 'RANDOM')]['fmt_total_profit_percentage'], name=\"2\", showlegend=False, line=dict(color=list_of_colours[1])), row=2, col=2)\n",
    "    fig.add_trace(go.Box(y = df_sim_results[(df_sim_results['feat_package'] == 3) & (df_sim_results['model_type'] == 'RANDOM')]['fmt_total_profit_percentage'], name=\"3\", showlegend=False, line=dict(color=list_of_colours[2])), row=2, col=2)\n",
    "\n",
    "    fig.update_xaxes(title_text = \"feat_package\", title_standoff = 25)\n",
    "\n",
    "    fig.update_yaxes(title_text = \"Total Profit Percentage (in %)\", title_standoff = 25)\n",
    "\n",
    "    fig.update_layout(title=str_title, title_x=0.5, width=1200, height=800)\n",
    "    fig.show()    "
   ]
  },
  {
   "cell_type": "code",
   "execution_count": 79,
   "metadata": {},
   "outputs": [],
   "source": [
    "def get_histogramplot_total_profit_diff_feature(df_sim_results, timestamp):\n",
    "    \n",
    "    str_title = f\"Total Profit Percentage (in %) x different feat_package (Across different models) <br>ccy:{df_sim_results.ccy.unique()[0]} - time-to-chart:{timestamp}\"\n",
    "\n",
    "    list_of_colours = ['blue', 'grey', 'red']\n",
    "\n",
    "    fig = make_subplots(rows=2, cols=2, subplot_titles=(\"A2C\", \"PPO\", \"DQN\", \"RANDOM\"), shared_xaxes='all', shared_yaxes='all')\n",
    "\n",
    "    fig.add_trace(go.Histogram(x = df_sim_results[(df_sim_results['feat_package'] == 1) & (df_sim_results['model_type'] == 'A2C')]['fmt_total_profit_percentage'], name=\"1\", marker_color=list_of_colours[0]), row=1, col=1)\n",
    "    fig.add_trace(go.Histogram(x = df_sim_results[(df_sim_results['feat_package'] == 2) & (df_sim_results['model_type'] == 'A2C')]['fmt_total_profit_percentage'], name=\"2\", marker_color=list_of_colours[1]), row=1, col=1)\n",
    "    fig.add_trace(go.Histogram(x = df_sim_results[(df_sim_results['feat_package'] == 3) & (df_sim_results['model_type'] == 'A2C')]['fmt_total_profit_percentage'], name=\"3\", marker_color=list_of_colours[2]), row=1, col=1)\n",
    "\n",
    "    fig.add_trace(go.Histogram(x = df_sim_results[(df_sim_results['feat_package'] == 1) & (df_sim_results['model_type'] == 'PPO')]['fmt_total_profit_percentage'], name=\"1\", marker_color=list_of_colours[0], showlegend=False), row=1, col=2)\n",
    "    fig.add_trace(go.Histogram(x = df_sim_results[(df_sim_results['feat_package'] == 2) & (df_sim_results['model_type'] == 'PPO')]['fmt_total_profit_percentage'], name=\"2\", marker_color=list_of_colours[1], showlegend=False), row=1, col=2)\n",
    "    fig.add_trace(go.Histogram(x = df_sim_results[(df_sim_results['feat_package'] == 3) & (df_sim_results['model_type'] == 'PPO')]['fmt_total_profit_percentage'], name=\"3\", marker_color=list_of_colours[2], showlegend=False), row=1, col=2)\n",
    "\n",
    "    fig.add_trace(go.Histogram(x = df_sim_results[(df_sim_results['feat_package'] == 1) & (df_sim_results['model_type'] == 'DQN')]['fmt_total_profit_percentage'], name=\"1\", marker_color=list_of_colours[0], showlegend=False), row=2, col=1)\n",
    "    fig.add_trace(go.Histogram(x = df_sim_results[(df_sim_results['feat_package'] == 2) & (df_sim_results['model_type'] == 'DQN')]['fmt_total_profit_percentage'], name=\"2\", marker_color=list_of_colours[1], showlegend=False), row=2, col=1)\n",
    "    fig.add_trace(go.Histogram(x = df_sim_results[(df_sim_results['feat_package'] == 3) & (df_sim_results['model_type'] == 'DQN')]['fmt_total_profit_percentage'], name=\"3\", marker_color=list_of_colours[2], showlegend=False), row=2, col=1)\n",
    "\n",
    "    fig.add_trace(go.Histogram(x = df_sim_results[(df_sim_results['feat_package'] == 1) & (df_sim_results['model_type'] == 'RANDOM')]['fmt_total_profit_percentage'], name=\"1\", marker_color=list_of_colours[0], showlegend=False), row=2, col=2)\n",
    "    fig.add_trace(go.Histogram(x = df_sim_results[(df_sim_results['feat_package'] == 2) & (df_sim_results['model_type'] == 'RANDOM')]['fmt_total_profit_percentage'], name=\"2\", marker_color=list_of_colours[1], showlegend=False), row=2, col=2)\n",
    "    fig.add_trace(go.Histogram(x = df_sim_results[(df_sim_results['feat_package'] == 3) & (df_sim_results['model_type'] == 'RANDOM')]['fmt_total_profit_percentage'], name=\"3\", marker_color=list_of_colours[2], showlegend=False), row=2, col=2)\n",
    "\n",
    "    fig.update_xaxes(title_text = \"Total Profit Percentage (in %)\", title_standoff = 25)\n",
    "\n",
    "    fig.update_yaxes(title_text = \"Number of simulations\", title_standoff = 25)\n",
    "\n",
    "    fig.update_layout(title=str_title, title_x=0.5, width=1200, height=800)\n",
    "\n",
    "    fig.show()    "
   ]
  },
  {
   "cell_type": "code",
   "execution_count": 83,
   "metadata": {},
   "outputs": [],
   "source": [
    "def get_meanplot_total_profit_diff_time_feature(df_sim_results, timestamp):\n",
    "\n",
    "    str_title = f\"MEDIAN : Total Profit Percentage (in %) x different feat_package (Across different models) <br>ccy:{df_sim_results.ccy.unique()[0]} - time-to-chart:{timestamp}\"\n",
    "\n",
    "    list_of_colours = ['blue', 'grey', 'red']\n",
    "\n",
    "    df_sim_results_stats = df_sim_results.groupby(['feat_package', 'model_type'])['fmt_total_profit_percentage'].agg(['min', 'mean', 'median', 'max']).reset_index()\n",
    "\n",
    "    fig = go.Figure()\n",
    "\n",
    "    fig.add_trace(go.Scatter(name='A2C: 1', x = [df_sim_results_stats[(df_sim_results_stats['feat_package'] == 1) & (df_sim_results_stats['model_type'] == 'A2C')]['median'].values[0], df_sim_results_stats[(df_sim_results_stats['feat_package'] == 1) & (df_sim_results_stats['model_type'] == 'A2C')]['median'].values[0]], y = [3], mode = \"markers+text\", marker=dict(color=list_of_colours[0]), marker_symbol=\"circle\", marker_size=10, legendgroup = '1'))\n",
    "    fig.add_trace(go.Scatter(name='A2C:2', x = [df_sim_results_stats[(df_sim_results_stats['feat_package'] == 2) & (df_sim_results_stats['model_type'] == 'A2C')]['median'].values[0], df_sim_results_stats[(df_sim_results_stats['feat_package'] == 2) & (df_sim_results_stats['model_type'] == 'A2C')]['median'].values[0]], y = [3], mode = \"markers+text\", marker=dict(color=list_of_colours[1]), marker_symbol=\"circle\", marker_size=10, legendgroup = '1'))\n",
    "    fig.add_trace(go.Scatter(name='A2C:3', x = [df_sim_results_stats[(df_sim_results_stats['feat_package'] == 3) & (df_sim_results_stats['model_type'] == 'A2C')]['median'].values[0], df_sim_results_stats[(df_sim_results_stats['feat_package'] == 3) & (df_sim_results_stats['model_type'] == 'A2C')]['median'].values[0]], y = [3], mode = \"markers+text\", marker=dict(color=list_of_colours[2]), marker_symbol=\"circle\", marker_size=10, legendgroup = '1'))\n",
    "\n",
    "    fig.add_annotation(x=df_sim_results_stats[(df_sim_results_stats['feat_package'] == 1) & (df_sim_results_stats['model_type'] == 'A2C')]['median'].values[0], y=3, xref=\"x\", xanchor=\"center\", yref=\"y\", text=str(round(df_sim_results_stats[(df_sim_results_stats['feat_package'] == 1) & (df_sim_results_stats['model_type'] == 'A2C')]['median'].values[0], 4)), align=\"center\", textangle=45)\n",
    "    fig.add_annotation(x=df_sim_results_stats[(df_sim_results_stats['feat_package'] == 2) & (df_sim_results_stats['model_type'] == 'A2C')]['median'].values[0], y=3, xref=\"x\", xanchor=\"center\", yref=\"y\", text=str(round(df_sim_results_stats[(df_sim_results_stats['feat_package'] == 2) & (df_sim_results_stats['model_type'] == 'A2C')]['median'].values[0], 4)), align=\"center\", textangle=45)\n",
    "    fig.add_annotation(x=df_sim_results_stats[(df_sim_results_stats['feat_package'] == 3) & (df_sim_results_stats['model_type'] == 'A2C')]['median'].values[0], y=3, xref=\"x\", xanchor=\"center\", yref=\"y\", text=str(round(df_sim_results_stats[(df_sim_results_stats['feat_package'] == 3) & (df_sim_results_stats['model_type'] == 'A2C')]['median'].values[0], 4)), align=\"center\", textangle=45)\n",
    "\n",
    "    fig.add_trace(go.Scatter(name='PPO: 1', x = [df_sim_results_stats[(df_sim_results_stats['feat_package'] == 1) & (df_sim_results_stats['model_type'] == 'PPO')]['median'].values[0], df_sim_results_stats[(df_sim_results_stats['feat_package'] == 1) & (df_sim_results_stats['model_type'] == 'PPO')]['median'].values[0]], y = [2], mode = \"markers\", marker=dict(color=list_of_colours[0]), marker_symbol=\"square\", marker_size=10, legendgroup = '2'))\n",
    "    fig.add_trace(go.Scatter(name='PPO: 2', x = [df_sim_results_stats[(df_sim_results_stats['feat_package'] == 2) & (df_sim_results_stats['model_type'] == 'PPO')]['median'].values[0], df_sim_results_stats[(df_sim_results_stats['feat_package'] == 2) & (df_sim_results_stats['model_type'] == 'PPO')]['median'].values[0]], y = [2], mode = \"markers\", marker=dict(color=list_of_colours[1]), marker_symbol=\"square\", marker_size=10, legendgroup = '2'))\n",
    "    fig.add_trace(go.Scatter(name='PPO: 3', x = [df_sim_results_stats[(df_sim_results_stats['feat_package'] == 3) & (df_sim_results_stats['model_type'] == 'PPO')]['median'].values[0], df_sim_results_stats[(df_sim_results_stats['feat_package'] == 3) & (df_sim_results_stats['model_type'] == 'PPO')]['median'].values[0]], y = [2], mode = \"markers\", marker=dict(color=list_of_colours[2]), marker_symbol=\"square\", marker_size=10, legendgroup = '2'))\n",
    "\n",
    "    fig.add_annotation(x=df_sim_results_stats[(df_sim_results_stats['feat_package'] == 1) & (df_sim_results_stats['model_type'] == 'PPO')]['median'].values[0], y=2, xref=\"x\", xanchor=\"center\", yref=\"y\", text=str(round(df_sim_results_stats[(df_sim_results_stats['feat_package'] == 1) & (df_sim_results_stats['model_type'] == 'PPO')]['median'].values[0], 4)), align=\"center\", textangle=45)\n",
    "    fig.add_annotation(x=df_sim_results_stats[(df_sim_results_stats['feat_package'] == 2) & (df_sim_results_stats['model_type'] == 'PPO')]['median'].values[0], y=2, xref=\"x\", xanchor=\"center\", yref=\"y\", text=str(round(df_sim_results_stats[(df_sim_results_stats['feat_package'] == 2) & (df_sim_results_stats['model_type'] == 'PPO')]['median'].values[0], 4)), align=\"center\", textangle=45)\n",
    "    fig.add_annotation(x=df_sim_results_stats[(df_sim_results_stats['feat_package'] == 3) & (df_sim_results_stats['model_type'] == 'PPO')]['median'].values[0], y=2, xref=\"x\", xanchor=\"center\", yref=\"y\", text=str(round(df_sim_results_stats[(df_sim_results_stats['feat_package'] == 3) & (df_sim_results_stats['model_type'] == 'PPO')]['median'].values[0], 4)), align=\"center\", textangle=45)\n",
    "\n",
    "    fig.add_trace(go.Scatter(name='DQN: 1', x = [df_sim_results_stats[(df_sim_results_stats['feat_package'] == 1) & (df_sim_results_stats['model_type'] == 'DQN')]['median'].values[0], df_sim_results_stats[(df_sim_results_stats['feat_package'] == 1) & (df_sim_results_stats['model_type'] == 'DQN')]['median'].values[0]], y = [1], mode = \"markers\", marker=dict(color=list_of_colours[0]), marker_symbol=\"diamond\", marker_size=10, legendgroup = '3'))\n",
    "    fig.add_trace(go.Scatter(name='DQN: 2', x = [df_sim_results_stats[(df_sim_results_stats['feat_package'] == 2) & (df_sim_results_stats['model_type'] == 'DQN')]['median'].values[0], df_sim_results_stats[(df_sim_results_stats['feat_package'] == 2) & (df_sim_results_stats['model_type'] == 'DQN')]['median'].values[0]], y = [1], mode = \"markers\", marker=dict(color=list_of_colours[1]), marker_symbol=\"diamond\", marker_size=10, legendgroup = '3'))\n",
    "    fig.add_trace(go.Scatter(name='DQN: 3', x = [df_sim_results_stats[(df_sim_results_stats['feat_package'] == 3) & (df_sim_results_stats['model_type'] == 'DQN')]['median'].values[0], df_sim_results_stats[(df_sim_results_stats['feat_package'] == 3) & (df_sim_results_stats['model_type'] == 'DQN')]['median'].values[0]], y = [1], mode = \"markers\", marker=dict(color=list_of_colours[2]), marker_symbol=\"diamond\", marker_size=10, legendgroup = '3'))\n",
    "\n",
    "    fig.add_annotation(x=df_sim_results_stats[(df_sim_results_stats['feat_package'] == 1) & (df_sim_results_stats['model_type'] == 'DQN')]['median'].values[0], y=1, xref=\"x\", xanchor=\"center\", yref=\"y\", text=str(round(df_sim_results_stats[(df_sim_results_stats['feat_package'] == 1) & (df_sim_results_stats['model_type'] == 'DQN')]['median'].values[0], 4)), align=\"center\", textangle=45)\n",
    "    fig.add_annotation(x=df_sim_results_stats[(df_sim_results_stats['feat_package'] == 2) & (df_sim_results_stats['model_type'] == 'DQN')]['median'].values[0], y=1, xref=\"x\", xanchor=\"center\", yref=\"y\", text=str(round(df_sim_results_stats[(df_sim_results_stats['feat_package'] == 2) & (df_sim_results_stats['model_type'] == 'DQN')]['median'].values[0], 4)), align=\"center\", textangle=45)\n",
    "    fig.add_annotation(x=df_sim_results_stats[(df_sim_results_stats['feat_package'] == 3) & (df_sim_results_stats['model_type'] == 'DQN')]['median'].values[0], y=1, xref=\"x\", xanchor=\"center\", yref=\"y\", text=str(round(df_sim_results_stats[(df_sim_results_stats['feat_package'] == 3) & (df_sim_results_stats['model_type'] == 'DQN')]['median'].values[0], 4)), align=\"center\", textangle=45)\n",
    "\n",
    "    fig.add_trace(go.Scatter(name='RANDOM: 1', x = [df_sim_results_stats[(df_sim_results_stats['feat_package'] == 1) & (df_sim_results_stats['model_type'] == 'RANDOM')]['median'].values[0], df_sim_results_stats[(df_sim_results_stats['feat_package'] == 1) & (df_sim_results_stats['model_type'] == 'RANDOM')]['median'].values[0]], y = [0],  mode = \"markers+text\", marker=dict(color=list_of_colours[0]), marker_symbol=\"cross\", marker_size=10, legendgroup = '4'))\n",
    "    fig.add_trace(go.Scatter(name='RANDOM: 2', x = [df_sim_results_stats[(df_sim_results_stats['feat_package'] == 2) & (df_sim_results_stats['model_type'] == 'RANDOM')]['median'].values[0], df_sim_results_stats[(df_sim_results_stats['feat_package'] == 2) & (df_sim_results_stats['model_type'] == 'RANDOM')]['median'].values[0]], y = [0], mode = \"markers+text\", marker=dict(color=list_of_colours[1]), marker_symbol=\"cross\", marker_size=10, legendgroup = '4'))\n",
    "    fig.add_trace(go.Scatter(name='RANDOM: 3', x = [df_sim_results_stats[(df_sim_results_stats['feat_package'] == 3) & (df_sim_results_stats['model_type'] == 'RANDOM')]['median'].values[0], df_sim_results_stats[(df_sim_results_stats['feat_package'] == 3) & (df_sim_results_stats['model_type'] == 'RANDOM')]['median'].values[0]], y = [0], mode = \"markers+text\", marker=dict(color=list_of_colours[2]), marker_symbol=\"cross\", marker_size=10, legendgroup = '4'))\n",
    "\n",
    "    fig.add_annotation(x=df_sim_results_stats[(df_sim_results_stats['feat_package'] == 1) & (df_sim_results_stats['model_type'] == 'RANDOM')]['median'].values[0], y=0, xref=\"x\", xanchor=\"center\", yref=\"y\", text=str(round(df_sim_results_stats[(df_sim_results_stats['feat_package'] == 1) & (df_sim_results_stats['model_type'] == 'RANDOM')]['median'].values[0], 4)), align=\"center\", textangle=45)\n",
    "    fig.add_annotation(x=df_sim_results_stats[(df_sim_results_stats['feat_package'] == 2) & (df_sim_results_stats['model_type'] == 'RANDOM')]['median'].values[0], y=0, xref=\"x\", xanchor=\"center\", yref=\"y\", text=str(round(df_sim_results_stats[(df_sim_results_stats['feat_package'] == 2) & (df_sim_results_stats['model_type'] == 'RANDOM')]['median'].values[0], 4)), align=\"center\", textangle=45)\n",
    "    fig.add_annotation(x=df_sim_results_stats[(df_sim_results_stats['feat_package'] == 3) & (df_sim_results_stats['model_type'] == 'RANDOM')]['median'].values[0], y=0, xref=\"x\", xanchor=\"center\", yref=\"y\", text=str(round(df_sim_results_stats[(df_sim_results_stats['feat_package'] == 3) & (df_sim_results_stats['model_type'] == 'RANDOM')]['median'].values[0], 4)), align=\"center\", textangle=45)\n",
    "\n",
    "    fig.update_xaxes(title_text = \"Total Profit Percentage (in %)\", title_standoff = 25)\n",
    "    fig.update_yaxes(showticklabels=False)\n",
    "\n",
    "    fig.update_layout(title=str_title, title_x=0.5, width=1200, height=800, legend_tracegroupgap=125)\n",
    "    fig.show()  "
   ]
  },
  {
   "attachments": {},
   "cell_type": "markdown",
   "metadata": {},
   "source": [
    "### `ccy=BTCUSDT` & `time-to-chart=1d` "
   ]
  },
  {
   "attachments": {},
   "cell_type": "markdown",
   "metadata": {},
   "source": [
    "#### Parameters"
   ]
  },
  {
   "cell_type": "code",
   "execution_count": 76,
   "metadata": {},
   "outputs": [],
   "source": [
    "#list_ccy = ['BTCUSDT', 'BNBUSDT', 'ETHUSDT']\n",
    "#list_timestamp = [\"1d\", \"1h\", \"15m\", \"5m\"]\n",
    "#list_feat = ['1', '2', '3']\n",
    "\n",
    "list_ccy = ['BTCUSDT']\n",
    "#list_timestamp = [\"1d\", \"1h\", \"15m\", \"5m\"]\n",
    "list_timestamp = [\"1d\"]\n",
    "list_feat = ['1', '2', '3']\n",
    "\n",
    "list_config_file_name = []\n",
    "for ccy in list_ccy:\n",
    "    for timestamp in list_timestamp:\n",
    "        for feat in list_feat:\n",
    "            config_file_name = \"config_msc_\" + ccy + \"_\" + timestamp + \"_feat_package\" + feat\n",
    "            list_config_file_name.append(config_file_name)"
   ]
  },
  {
   "attachments": {},
   "cell_type": "markdown",
   "metadata": {},
   "source": [
    "#### Get the data"
   ]
  },
  {
   "cell_type": "code",
   "execution_count": 77,
   "metadata": {},
   "outputs": [],
   "source": [
    "df_sim_results = pd.DataFrame()\n",
    "for config_file_name in list_config_file_name:\n",
    "    df_sim_results_temp = get_and_process_simulation_data(config_file_name)\n",
    "    df_sim_results_temp['feat_package'] = int(config_file_name[-1])\n",
    "    df_sim_results = pd.concat([df_sim_results, df_sim_results_temp], axis=0)"
   ]
  },
  {
   "attachments": {},
   "cell_type": "markdown",
   "metadata": {},
   "source": [
    "#### Plot the results"
   ]
  },
  {
   "cell_type": "code",
   "execution_count": 78,
   "metadata": {},
   "outputs": [
    {
     "data": {
      "application/vnd.plotly.v1+json": {
       "config": {
        "plotlyServerURL": "https://plot.ly"
       },
       "data": [
        {
         "line": {
          "color": "blue"
         },
         "name": "1",
         "showlegend": false,
         "type": "box",
         "xaxis": "x",
         "y": [
          -60.84733117751712,
          -52.16956608875284,
          -30.742085614948834,
          -32.81724199480157,
          -50.583653408824624,
          -30.347690416058416,
          -46.56904659050197,
          -73.5547235033762,
          -27.712186946455354,
          -49.26636315289619,
          -52.81932310974449,
          -37.50111123465024,
          -40.06186452930856,
          -63.032079818814914,
          -26.239193050048513,
          -1.1683014566073568,
          -47.721665277424094,
          -21.475624623492052,
          -60.16316950184435,
          -38.922479989710666,
          -7.9913287734585285,
          -73.09491993927013,
          -50.71409312301647,
          -41.866366224142205,
          -44.59940181166181,
          -13.473845950827867,
          -50.21410659847032,
          -60.64775808223719,
          -67.1159041433431,
          -57.71665568239148,
          -36.320848383470505,
          -44.39483832643541,
          -24.831464785193713,
          -18.330214784896327,
          -66.66426153699489,
          -44.47640979557007,
          -44.113872614565494,
          -50.065327158490966,
          -63.023240883074564,
          -49.95427644510719,
          -37.10167304142421,
          -64.5104194505614,
          11.307190882751428,
          -36.819887375226855,
          -23.737267001284433,
          -27.38534420156392,
          -40.429427185524105,
          -44.2876025990297,
          -27.41611918898631,
          -61.23882961766909,
          -59.7620870713512,
          -42.077067089601684,
          -37.4685226875332,
          -9.577241452561935,
          -51.53800522548182,
          -47.133306739244794,
          -58.731995065940325,
          -28.280128720684814,
          -45.85855480244512,
          -55.41900314695452,
          -44.703016308929314,
          -49.583682209359466,
          -40.07664922078247,
          -53.11453813724003,
          -61.697536011570705,
          -49.1753435321813,
          -22.439647528126816,
          -27.20842347092517,
          -26.722798075380883,
          -17.557513039073193,
          -67.00322377053726,
          -70.2418286157183,
          -45.56108208834409,
          -60.420493345694325,
          -69.79487912685553,
          -53.04274298677068,
          -49.046068976627076,
          -64.13792296744512,
          -54.648740686884366,
          -62.19190218292483,
          -11.978416775422607,
          -42.557811837328444,
          -17.7345811436733,
          -29.338868881967205,
          -44.97994022749726,
          -58.18023053315036,
          -65.1476340671654,
          -40.06504524030261,
          -58.37529042428211,
          -27.70900739924953,
          -54.18220247121026,
          -61.731929521922055,
          -61.02776651435813,
          -70.9334265928171,
          -37.950542278490296,
          -43.34975351113787,
          -28.50736681245003,
          -55.05636806082885,
          -45.796111645315406,
          -72.54869538576021
         ],
         "yaxis": "y"
        },
        {
         "line": {
          "color": "grey"
         },
         "name": "2",
         "showlegend": false,
         "type": "box",
         "xaxis": "x",
         "y": [
          -59.64656575759544,
          -48.518593277722466,
          -56.983321692912845,
          -59.57766154009158,
          -0.5646405891570394,
          -34.84443199944431,
          -46.10453962870802,
          -61.09451636437916,
          -42.28159051157402,
          12.263404943355516,
          -40.65379410733865,
          -52.67842271467313,
          -36.716724134965574,
          -27.869666319785825,
          -29.904268126605228,
          -58.093969422693725,
          -38.3232804128191,
          -27.809040815633324,
          -64.88910529758056,
          -37.9846911076602,
          -12.481928212309846,
          -47.02028612066652,
          -57.702154911364055,
          -63.530473681934886,
          0.7168155500925755,
          -7.227926409184471,
          -50.800456956858895,
          -39.00695785476477,
          -47.586444921225294,
          -62.54345640099474,
          -31.411040653191257,
          -19.296905504167185,
          -14.102140217028602,
          -34.127016093290116,
          -30.138846736771153,
          -44.083819731309106,
          -6.524556035267448,
          -21.62851335233459,
          -45.703362114090154,
          -55.779541354067575,
          -49.59090802853484,
          -59.148481575351376,
          -26.03703523082972,
          -40.90848706460983,
          -38.19486782520393,
          -56.76435564122036,
          -12.2029989332731,
          -43.72965092518876,
          -59.01874790544937,
          -43.71320327984063,
          -60.67833783498995,
          -35.3697753693086,
          -50.85055917579089,
          -11.392659132046523,
          -31.34130797091712,
          -40.68078312803277,
          -50.729113388004954,
          -12.300837838643709,
          -43.71228893744474,
          -72.41120432297248,
          -50.22437841936409,
          -41.57867116251109,
          -52.434713844538514,
          -32.394068295643564,
          -18.721968051336823,
          -57.946117260006034,
          -34.82013065032401,
          -57.9683177250419,
          -22.31428846488909,
          -14.43104302481969,
          -63.15468132485942,
          -16.19787006229033,
          -41.54374950226405,
          -54.874959893874035,
          -44.32338990819742,
          -35.554170374937954,
          -25.197759732792115,
          -27.346037644040745,
          -32.13233186722311,
          -56.447681630177904,
          -43.92587762361304,
          -61.67042715228336,
          -58.38709840781331,
          -61.62514341265872,
          -17.658417440458905,
          -66.51382239252054,
          -50.41081329419428,
          -12.478309383553576,
          -47.39159712784154,
          -57.02544565784855,
          -11.333671320813432,
          -18.38451789721509,
          -32.17873372725142,
          -41.752924763468656,
          -38.725949103767356,
          -29.89307283737158,
          -5.807615204425831,
          -29.95701194377324,
          -31.707744318024822,
          -29.194092827854924
         ],
         "yaxis": "y"
        },
        {
         "line": {
          "color": "red"
         },
         "name": "3",
         "showlegend": false,
         "type": "box",
         "xaxis": "x",
         "y": [
          -10.447520508400999,
          -28.708452852855448,
          -8.732434386733367,
          -36.161690839941116,
          -66.66885089219865,
          -63.49304584914246,
          -68.94359550499661,
          -64.6533084339395,
          -35.853543066065285,
          -46.830219147573175,
          -25.86972449740088,
          -37.950616312458685,
          -65.05351878792165,
          -38.43124271481514,
          -46.71337214983578,
          -42.82069730167495,
          -33.39378652539852,
          -63.36200048953303,
          -64.77258282112538,
          -64.82787340637377,
          -27.307389598004917,
          -45.38658501282011,
          -64.56578243016031,
          -71.19310862150968,
          -41.32990385192824,
          -53.20693773685732,
          -15.456902508347659,
          -43.88823596511023,
          -52.33293778856658,
          -64.54292382758015,
          -43.97197697763075,
          -28.295491163151322,
          -64.41023934014684,
          -31.695393016957652,
          -28.991122089564236,
          -31.464696648199276,
          -29.30015395630918,
          -50.210510056607795,
          -64.98485852817689,
          -72.47251418172713,
          -47.13338596279628,
          -17.160579550335587,
          -62.61430152467097,
          -34.08044021979364,
          -28.325272248906387,
          -41.19178792946546,
          -23.059086274623187,
          -26.859213151056405,
          -53.881040622708795,
          6.629814276364465,
          -66.6193427447037,
          -62.96436248492584,
          -59.040643508150524,
          -11.871326568238382,
          -25.895423615469937,
          -52.66079083726353,
          -54.64242898857199,
          -69.00237950216454,
          -52.93195077675876,
          -32.46372495240459,
          -41.39974487674875,
          -62.54403774593171,
          -61.8880255805324,
          -49.49991695569871,
          -53.07709822902407,
          -37.71172719865513,
          -32.18202418780917,
          -16.762381357388268,
          -46.663354040421325,
          -49.855809518496066,
          -26.369352070364982,
          -57.96821393981093,
          -52.798902670861516,
          -58.56169402787269,
          -64.93050112060253,
          -59.99336613617554,
          -44.1089387332481,
          -45.25251911992479,
          -32.191832508954775,
          -74.94973659886868,
          -4.8521359179024,
          -55.9709932720525,
          -45.507445202956745,
          -46.01341816454121,
          -44.26560367971866,
          17.197203422996466,
          -65.3120086110701,
          -59.28593488761481,
          -51.09561523285543,
          -45.11022968158331,
          -31.073435227107126,
          -63.26207329404436,
          -22.984795535322288,
          -52.995360746553224,
          -19.89003706004141,
          -60.679627934180466,
          -58.37363968912956,
          -17.891596704371658,
          -74.52496377487081,
          -59.692927278751284
         ],
         "yaxis": "y"
        },
        {
         "line": {
          "color": "blue"
         },
         "name": "1",
         "showlegend": false,
         "type": "box",
         "xaxis": "x2",
         "y": [
          -58.05680958304491,
          -51.121076683388836,
          -56.62997757629068,
          -17.859136218048143,
          -33.94955197090829,
          -45.894339691401996,
          -59.96126465945277,
          -61.06156834739149,
          -27.685728227383464,
          -56.565355520541274,
          -36.43102421594973,
          -37.66379389290273,
          -33.8256155748101,
          -50.78717582986514,
          -15.893754145400397,
          -57.811519310525405,
          -41.51253647567654,
          -44.9386351445001,
          -66.57460367086327,
          -60.35397910553908,
          -63.08715131066847,
          1.2019347206454034,
          -48.747670939510634,
          -48.73992240755162,
          -36.14603320585711,
          -49.628412101115686,
          -56.62943876780662,
          -56.61067803521925,
          -35.06510897888291,
          -36.56658481219076,
          -57.783595493200245,
          -32.247890724338355,
          -55.97101915771909,
          -37.19390154100749,
          -64.01431388828134,
          -52.100045998076716,
          -35.369617326253014,
          -37.005027770907105,
          -8.236118906181256,
          -44.6839968093468,
          -31.66957486826114,
          -24.669306097513644,
          -45.822968995101675,
          -73.53883691127301,
          -48.70193063269978,
          -23.5413586176203,
          -74.13110283157773,
          -52.64971650122384,
          -37.203261074086846,
          -26.123164145272327,
          -43.430546375371215,
          -33.89375833855761,
          -26.730201539398735,
          -43.70864101014846,
          -44.4602857905477,
          -70.96296073885026,
          -45.84188398589772,
          -66.59070597758725,
          9.233151815144659,
          -47.78089530058453,
          -9.27898576596995,
          -32.777811256478806,
          -55.502029462577696,
          -14.321613885202588,
          -53.603562298224276,
          -44.04709463391926,
          -61.729077682539966,
          -54.40674448511758,
          -22.945810920344744,
          -48.24934263752875,
          -50.246938185676186,
          -34.87750164280151,
          -13.922219051015272,
          -46.77007931769646,
          -31.71690756234974,
          -32.2276683589451,
          -31.024200325560326,
          -61.37211963016483,
          6.963547838608397,
          -22.711906532837766,
          -20.15344569433244,
          -53.01767473094572,
          -46.50077913958348,
          -53.82475225605706,
          -46.49013947120929,
          -46.07313240572718,
          -69.40401881196233,
          -43.87316566633564,
          -46.414031389909674,
          -41.11135438480993,
          -49.01521618552327,
          -50.608603556756826,
          -9.288208617825045,
          -29.669031733968133,
          -39.71807929450301,
          -10.796793864954335,
          -52.96679863865704,
          -60.26369011498146,
          -67.68701035096841,
          -46.147085670123886
         ],
         "yaxis": "y2"
        },
        {
         "line": {
          "color": "grey"
         },
         "name": "2",
         "showlegend": false,
         "type": "box",
         "xaxis": "x2",
         "y": [
          0.9450882395194871,
          -51.87149107599347,
          -46.98431007867002,
          -58.08542765545827,
          -38.804838728646374,
          -50.95102986028082,
          -32.74195437365104,
          -65.24695023680665,
          -46.834153641908536,
          -70.80017161543898,
          -11.396086447801457,
          -33.28423268789407,
          -6.450148671171196,
          -41.41980650423618,
          -41.43940973275573,
          -38.42647842146722,
          -50.86592373888267,
          -57.38762638744335,
          -62.94389776799155,
          -59.32295880637335,
          -59.35102214450742,
          -40.86990601340925,
          -9.586012959431633,
          -52.684378166964294,
          -63.907611164530806,
          -36.463795711964984,
          -57.77188587723393,
          -26.95437565167732,
          -34.666219620061824,
          -38.118240580806514,
          -57.74457073611548,
          -45.70417261863432,
          27.715085329705236,
          -34.88355205979128,
          -42.84608756493904,
          -23.88711141823302,
          -27.428950364804194,
          -52.32187060707947,
          -55.878185802846026,
          -63.21904659864255,
          -25.23041117490483,
          -38.59750013040587,
          -42.12578238519469,
          -45.358800742911875,
          -59.34851441273936,
          -23.425643017526887,
          -42.62568203312343,
          -35.84191730461953,
          -37.43898408555793,
          -34.02999230632815,
          -56.28657178235535,
          -30.85220431388561,
          -45.83786606241355,
          -39.41916040587351,
          -41.78643458924309,
          -34.5949826268392,
          -32.27911720441481,
          -32.42737355910336,
          -45.285565299926944,
          -25.395038865730413,
          16.01072887174986,
          -32.97711330571419,
          -11.186276031223418,
          -59.476375173951055,
          -58.49390957257601,
          -46.11177021752199,
          -72.41401223842622,
          -18.80417339007362,
          -35.83861252447813,
          -17.67922513613356,
          -55.654875914628434,
          -15.958851639555881,
          -60.70296028572141,
          -34.96126393062379,
          -34.85213331549013,
          -65.0883218545994,
          -37.373459435970105,
          -39.592745376294346,
          -53.065212820027305,
          -52.61070191657986,
          -54.661175888639036,
          -44.259888814198334,
          -46.06907860980469,
          -37.13648420474662,
          -45.96666116305934,
          -36.45405224732401,
          -25.535380659972297,
          -41.47197955740458,
          -45.12723275626244,
          -27.701821505536227,
          -56.68807668534963,
          -50.552712337870176,
          -6.330516366855276,
          8.33229713959156,
          -33.931661548990775,
          -10.421336960832338,
          -48.52401307870904,
          -42.904007579562794,
          -20.36722449988414,
          1.4192999018740826
         ],
         "yaxis": "y2"
        },
        {
         "line": {
          "color": "red"
         },
         "name": "3",
         "showlegend": false,
         "type": "box",
         "xaxis": "x2",
         "y": [
          -56.69108571370902,
          -29.843536989361162,
          -29.943658639670858,
          -48.34886858317948,
          -53.08292014792584,
          -11.216052030856494,
          -51.261235925755535,
          -40.88399354207476,
          -53.55843308183571,
          -44.96003145165193,
          -37.18036266382803,
          -62.53334100504666,
          -48.71954275435558,
          -48.86409954427277,
          -34.95319772160151,
          -34.78950864845991,
          -42.63179856042959,
          5.256357976986026,
          -34.695220295857744,
          -53.611657219259776,
          14.17097757910959,
          -41.51792812050874,
          -20.773805740511932,
          -61.638458547525346,
          -51.630746665679,
          -48.195358142548905,
          4.786038683086491,
          -46.75599135483508,
          -19.9887917121401,
          -48.794924527940296,
          -22.866758986871293,
          -45.86079519436338,
          -26.735509954795756,
          -56.131317275286754,
          -50.5808217067365,
          -47.03859358333114,
          30.71026043146794,
          -30.73995684891647,
          -36.541986607662025,
          -45.01812381161575,
          -18.1970169615581,
          17.160101166982187,
          -43.236361926093956,
          -58.75166886151787,
          -38.90745903195327,
          -2.840922048110117,
          -45.061564589899085,
          -11.330735833566475,
          -36.974224813787245,
          -39.820766163481025,
          -28.98370440504663,
          -46.94456864621639,
          -29.867909597710394,
          -26.47885688767507,
          5.6003197303744034,
          -25.818695644277557,
          -62.389191083975206,
          -51.3426067621132,
          -34.597011264765364,
          -50.42807806595795,
          -14.708839011071372,
          -57.609250662072384,
          -18.685748180198345,
          -28.794729911669837,
          -34.81434070345802,
          -31.7476444922412,
          -29.20603137076644,
          -57.52204348405405,
          -41.30931929526712,
          -53.86793923624401,
          -8.787587694429078,
          -53.606291511104764,
          -34.09839689542273,
          -39.51952672616713,
          -44.90295521548071,
          -47.80579728262325,
          -41.79511776493931,
          -31.63787563134396,
          -50.2793314064449,
          -13.603745364474628,
          -52.04896754157182,
          -33.04095166187974,
          -24.809770980965496,
          -35.366055369479156,
          -39.86349037442237,
          11.950533033262811,
          -56.4041657085071,
          -30.257604257706262,
          12.59084052342998,
          -33.457081189943594,
          -43.28996833503438,
          -60.31311688177507,
          -61.94060897021143,
          -50.575046630599665,
          -36.32290945309029,
          -61.72075957616586,
          -37.957785917595324,
          -36.18258356052395,
          -61.0623054667759,
          -31.622566451891053
         ],
         "yaxis": "y2"
        },
        {
         "line": {
          "color": "blue"
         },
         "name": "1",
         "showlegend": false,
         "type": "box",
         "xaxis": "x3",
         "y": [
          -28.91348223468263,
          -40.813810080665945,
          -61.997807014097404,
          -49.933803304043245,
          -38.84708522107735,
          -17.359280256755117,
          2.248420699548781,
          -34.46434982645711,
          -17.95325885850939,
          -0.37633999795866346,
          -18.60393896260557,
          -42.11162754670479,
          -31.92078384432786,
          -9.991567103225274,
          -24.061086139773547,
          -42.20471354480376,
          1.197999697463148,
          -33.38045564707205,
          5.851464012770347,
          -40.08676051689167,
          -27.696470068735792,
          -26.375213965881137,
          -31.010767584435207,
          -14.57515275353124,
          -20.497874096478384,
          -24.913306346220953,
          -38.11723018420293,
          -27.383875464486916,
          -13.095964718061548,
          -35.555609436662024,
          -19.368779897130185,
          -44.63266134779338,
          -17.98567290908528,
          -14.019902246027016,
          -32.14771971469166,
          -47.40398885856871,
          -35.82914639634549,
          -31.413831595194264,
          -48.59870932793584,
          13.306380895341597,
          -4.883319017642873,
          -8.0165079965121,
          -21.545443416458532,
          -42.88336235789275,
          -51.29345830698207,
          -9.638820727560738,
          -40.50257594854426,
          -21.890271842850773,
          23.11544858930017,
          -26.301876719289197,
          -49.58991037103232,
          34.14820645352663,
          -34.35278084594998,
          -13.977286485858297,
          -51.07830830335247,
          -43.19388777220371,
          -28.644244717136747,
          -10.528341814560015,
          -8.490600669132931,
          -37.27532003415463,
          8.205653279715875,
          -46.3597999218259,
          -26.07550300020248,
          -27.231058485796943,
          -0.1885523387927357,
          10.81619983666351,
          -27.443195969776657,
          20.979863102919126,
          -4.862695132355244,
          -58.32786243013351,
          -15.344239288736683,
          -37.368566502874025,
          -17.98864782231423,
          -7.563871655067089,
          -1.1859160891145804,
          -16.573633540612732,
          -46.973238990813115,
          -20.716124872681252,
          -9.734343893110164,
          -0.37022491769259647,
          -18.854987788928135,
          -20.289956051813107,
          11.64413477381081,
          -33.7224222721409,
          -35.129843617183454,
          -12.502160826301289,
          -21.15448246353391,
          -19.954716201390042,
          -13.146435580373495,
          -58.685125862312006,
          2.953809865249335,
          -28.799919285782604,
          -37.470968291816256,
          -45.49631483968033,
          -16.041935734388236,
          -14.485140258522977,
          -36.17388304913839,
          -43.87683919277222,
          24.37201006136187,
          10.504928499860156
         ],
         "yaxis": "y3"
        },
        {
         "line": {
          "color": "grey"
         },
         "name": "2",
         "showlegend": false,
         "type": "box",
         "xaxis": "x3",
         "y": [
          -56.26942210244861,
          -0.01429588889378941,
          -51.45270741329875,
          3.2247143592941674,
          -40.410075488030586,
          -51.3730600585385,
          -7.695738264381502,
          -28.091045409794223,
          -30.127622298057734,
          -35.52985649212887,
          -35.100297399409875,
          -37.89542072703998,
          -11.55179037905043,
          -39.04152201777381,
          -6.2324699204855065,
          -1.8419500868421368,
          -23.119486467732596,
          -36.22829138343624,
          -48.17197953564758,
          -50.449219390233345,
          -8.59231743670794,
          0,
          -57.10854147007598,
          -55.416491813556505,
          -45.459447348807494,
          -30.19883669574869,
          30.05381626832704,
          -35.819181492000396,
          -9.986162753548689,
          -32.54528100636187,
          -19.433506323772853,
          -52.16605144423063,
          -24.304407798844206,
          12.797600481011862,
          -35.9818960202986,
          -9.204635196037781,
          -16.17035779142133,
          -33.63156328662029,
          -9.570856890443336,
          -45.160527124496994,
          -18.444057031490136,
          -27.03906760775339,
          -50.76056665045733,
          -47.80037206569424,
          3.2402329597074564,
          -48.238395053515795,
          -28.448052839894633,
          -58.470220697308065,
          -51.62881954542582,
          -21.397504085906494,
          -54.43103033850735,
          -34.689175276764026,
          -43.27793579878333,
          -47.54717804849468,
          -27.01497836862027,
          -52.58787580207071,
          -0.7650160342023371,
          11.84100225731488,
          21.126661396377976,
          -28.24693092644668,
          -48.39561856240443,
          -41.03502589953075,
          34.88551654261176,
          -56.07111379982446,
          -28.39748978330363,
          -14.602833016992712,
          -40.30056933948399,
          12.736032928095419,
          -52.93669910350282,
          -31.433309131318254,
          19.96401675632118,
          -6.189136503757664,
          -23.445442079860012,
          -22.88440585882632,
          -54.69915824325089,
          -45.16217340148406,
          0,
          -25.906777122847046,
          -19.3515532604,
          -56.36884080740444,
          -42.03874188044552,
          23.51195881041017,
          -56.97680467104729,
          -26.294146286737565,
          -2.2974306481395534,
          -24.416871874943457,
          -54.43900505463174,
          -22.781770905512943,
          -9.95931371961486,
          -9.523427780620208,
          -40.00030470601711,
          -31.44589143224342,
          -32.41233633030218,
          15.35858644014021,
          -49.55417973323137,
          -39.32715005681649,
          -52.11415319741872,
          -1.870197110477656,
          -44.768193814379075,
          -1.4277479913437752
         ],
         "yaxis": "y3"
        },
        {
         "line": {
          "color": "red"
         },
         "name": "3",
         "showlegend": false,
         "type": "box",
         "xaxis": "x3",
         "y": [
          -53.62150665645598,
          -46.87087308358403,
          -43.37132412383551,
          -10.398091499182115,
          -20.776123481683626,
          -20.989119695770565,
          -35.958253804394744,
          -23.014514621637574,
          -26.196592922855586,
          -8.489875618131105,
          -34.92589347988964,
          -0.458932988645,
          -16.174199096845477,
          -27.438473744434198,
          -36.00023324608187,
          -21.63163212202238,
          -41.33773281251,
          -22.97042913746813,
          -47.7970018477988,
          -59.07794327510347,
          -42.54039904082694,
          -58.437090307042915,
          11.136452233509274,
          -46.181587601812566,
          -16.35229831263123,
          -19.655529656763083,
          -24.573056908251665,
          -43.74913171347779,
          -39.608252118970576,
          -22.11661622126998,
          -12.942344341013012,
          -61.28778086027399,
          2.5060591120890097,
          -0.6858713877950562,
          -16.523902908080068,
          -43.56275235245813,
          -27.690584359772608,
          -45.953023544585946,
          -49.9814318848157,
          -44.33222651650828,
          -37.19981358580077,
          -12.49953570478125,
          -25.629066920609876,
          -38.96526609204539,
          -49.96425360506248,
          -51.60841692457985,
          -46.65222857692913,
          -13.240199751742733,
          -17.363612059746803,
          -23.778622146917517,
          -41.2890686898773,
          -53.23698936080476,
          -37.75122670258349,
          11.375109795819238,
          -35.03697933028446,
          -16.759509542942695,
          -11.77229951632709,
          -3.0051319024242074,
          -52.031151586518696,
          -29.582110599512557,
          -43.39288511340247,
          25.86602776239577,
          21.47175952677798,
          -17.730358262088973,
          -53.37081706344045,
          -57.44966361703656,
          -31.477515406554247,
          -20.434719139706658,
          -47.97485572219345,
          -33.31741941180283,
          15.525792149623218,
          -52.03898099063969,
          4.923534524508599,
          -36.66666552140907,
          -9.228276586162332,
          4.714312487163652,
          8.441569678492634,
          -55.14770020262374,
          -44.73642969422408,
          -2.1464910175188923,
          -25.205151025321815,
          0.3759030295761745,
          -22.200781580592032,
          -38.40620309524299,
          -12.12192115885874,
          -53.222072532061915,
          -9.418844075289734,
          -0.550852770905208,
          -22.902808168190305,
          -3.5122717660181935,
          -30.688541155063064,
          -37.88544699537313,
          3.8796729760875115,
          -49.16403113218014,
          -55.71181759633963,
          10.266213572412264,
          -42.377657761851076,
          -24.96424819928397,
          -56.362619053090434,
          -49.56291840924233
         ],
         "yaxis": "y3"
        },
        {
         "line": {
          "color": "blue"
         },
         "name": "1",
         "showlegend": false,
         "type": "box",
         "xaxis": "x4",
         "y": [
          -25.22999948224751,
          -51.68799715142989,
          -1.632942701363549,
          -26.230012795799375,
          -59.27441853366429,
          -25.572742473067056,
          -29.658345506023476,
          -34.32438443376604,
          -38.019487323047244,
          -40.71391843346276,
          -47.186354482874904,
          -38.3618438115094,
          -60.53313332905796,
          -31.643072486614987,
          -33.697577495358686,
          -33.44965674557204,
          -30.20542737426335,
          -22.055063123296257,
          -33.40795754397281,
          -41.792409859047375,
          -65.75343746083884,
          -18.30963894563955,
          -40.916802123558625,
          -0.4264043872512113,
          7.07482339070491,
          -45.86247339485167,
          -11.68513129727835,
          -37.47179545523303,
          -71.53432067296617,
          -24.843377506046938,
          -29.29336978596667,
          -50.522720748863534,
          -48.50319074882745,
          -47.732178744997626,
          -56.930879347617555,
          -25.24514333272657,
          -29.423982923640846,
          -8.649438501024287,
          -10.037771206229563,
          -42.20998858067194,
          -40.65853154146488,
          -34.85493311680447,
          -23.70435091012453,
          -42.7174765748766,
          -38.52408420829712,
          -61.24841606020253,
          -67.39149786646327,
          1.769866117062624,
          -48.54313312013446,
          -49.30705487510184,
          -45.64406984092152,
          -50.49012759787311,
          -45.01353023854011,
          -35.64393634763936,
          4.702716464553136,
          -28.546590514966354,
          -43.69725688838021,
          -56.83633889588076,
          -35.469110806109626,
          -55.42990753170615,
          -44.444997930298,
          -56.60707902456829,
          -41.19554698289149,
          -48.80488465585899,
          -44.4738255576336,
          -42.64393994890747,
          -44.51904986187388,
          -52.95898649721955,
          -48.13988426525828,
          -51.625914593767355,
          -45.636945364190986,
          -24.614305870066445,
          -42.816851219858776,
          -60.12051669877889,
          -35.196636263142814,
          -35.494350815281216,
          -50.62288032071434,
          -1.3318195548589151,
          -66.41023624185671,
          -15.395588677245875,
          -29.01682638356614,
          -42.75319574787806,
          7.283672958714016,
          -65.71003090005011,
          -36.49508905488715,
          3.6619517831585124,
          -2.7416015493949897,
          -52.81323733213369,
          -61.694579497295685,
          -56.43960051184411,
          -57.55123872823715,
          -50.762123369094404,
          -39.92466634325032,
          -50.73921592036796,
          -48.28372201657319,
          -18.102336572399146,
          -6.559570151311367,
          -35.63322983034089,
          -43.43073510043855,
          -28.303659782712863
         ],
         "yaxis": "y4"
        },
        {
         "line": {
          "color": "grey"
         },
         "name": "2",
         "showlegend": false,
         "type": "box",
         "xaxis": "x4",
         "y": [
          -57.45703734562409,
          -45.53908220236149,
          -50.95074656214528,
          -35.70051681436242,
          -41.324868005359896,
          -57.554468422866314,
          -44.85043229166992,
          -48.96562260159973,
          -53.04718914512554,
          -44.464576251266664,
          -47.796749125217644,
          -30.139360213915346,
          -54.10736202304503,
          -54.74822936520041,
          -46.5810052001139,
          -55.51185454396557,
          -37.07693869579576,
          -45.19976568710584,
          -70.72617645495369,
          -24.633708387746033,
          -21.18675415154877,
          -58.37210198498318,
          -49.15581009796895,
          -42.03937120110165,
          -22.913862886841297,
          -10.344830822270445,
          -36.28889510046464,
          -60.31304672029819,
          -62.21881760430208,
          -73.84242135032596,
          -65.2450987009814,
          -7.367487054968014,
          -34.08427596818902,
          -69.08536807671182,
          -68.00404430992432,
          -54.93533549496714,
          -2.0663813775010142,
          -48.92410743064407,
          -52.07928000041849,
          -53.73414521473134,
          -46.29654476374472,
          -70.3069497319665,
          -60.454318967967225,
          -53.375318154107745,
          -45.78974502158572,
          -66.6419743783658,
          -31.446530513764394,
          -36.98331075230363,
          -41.83804183722501,
          -32.36923839447439,
          -25.5158001481007,
          -45.01200904829668,
          -30.384902400703552,
          -35.684042406975394,
          -62.42256638839252,
          -17.81988114507812,
          -31.438641314490525,
          -45.28452954085837,
          -43.753671459958234,
          -36.345285605113176,
          -27.780079830407445,
          -38.74036370911676,
          -50.89708072305823,
          -27.817247677376745,
          -53.09720193788245,
          -49.649389686763456,
          -44.93388834367942,
          -69.8655369078911,
          -3.87636333197654,
          -74.33646149825277,
          -42.48520543122335,
          -32.552372812632214,
          -28.2498966494672,
          -51.92003552138893,
          -27.91358675565845,
          -28.347354663872203,
          -51.6235728042495,
          -27.0556955469892,
          -50.83457042347093,
          -33.638175547771276,
          -19.79960620096176,
          -33.54333793970039,
          -30.2082121049396,
          -56.99422382902415,
          7.422744474460541,
          -55.11074672255801,
          -14.531132986860651,
          -48.498468162201426,
          -65.70616932919621,
          -49.36816248820747,
          -40.7537754370148,
          -36.201815384747896,
          -36.25728199522472,
          -38.1257252215952,
          6.940975124763726,
          -12.100408413677965,
          -23.79768707612214,
          -61.53932214788133,
          -50.30613752718558,
          -24.547607694141917
         ],
         "yaxis": "y4"
        },
        {
         "line": {
          "color": "red"
         },
         "name": "3",
         "showlegend": false,
         "type": "box",
         "xaxis": "x4",
         "y": [
          -23.05920878780775,
          -68.96915901047974,
          -42.739141869187314,
          -47.74828886570308,
          -57.355210580949304,
          -71.44412638604074,
          -6.789516250584093,
          -43.66988657943087,
          -66.92713939226495,
          11.028012392297981,
          -58.8953424787984,
          -30.865414422510106,
          -48.06330979486517,
          57.57639739478102,
          -24.260978191055205,
          -47.14354428478621,
          -17.190961877360223,
          -58.750781533745176,
          -45.241046799390084,
          -64.75727647157497,
          -30.176351255863743,
          9.418148599965882,
          -53.80080947800884,
          -46.41090498553121,
          -39.077553316155665,
          -55.93780824412179,
          -38.71579593295576,
          -39.53529441966066,
          14.478802138173052,
          -29.668765675463316,
          -18.735817855607493,
          -22.165070958903232,
          -40.78053736036884,
          -51.896248610547225,
          -37.414332844596686,
          -69.08312431445205,
          -39.86085057988365,
          -58.57219463567124,
          -43.01382837108461,
          -52.28110656604199,
          -58.043615672153045,
          1.0159306511292154,
          -34.53473951334208,
          -68.75139840509684,
          -2.1155069891706457,
          -32.70127851147133,
          -42.402666750408954,
          -62.143239275950776,
          -10.53149856284481,
          -22.898022718690893,
          -59.406200009850686,
          -58.31688191879023,
          -48.66358797202467,
          -24.037053067378032,
          -29.922441349614303,
          -56.61980797111051,
          -35.91089588622805,
          -22.507777632080593,
          -51.442048738226276,
          -34.20090369233988,
          -34.857247070965094,
          -52.01067703840183,
          -57.90346103713583,
          -44.438038645094856,
          -18.197167277712765,
          -44.69971257193096,
          -5.667004646225604,
          -60.05138636753065,
          -53.63040804844461,
          -50.42752882142638,
          -34.368389342753815,
          -64.20691764358396,
          -44.560431233764085,
          -38.32514660559839,
          -49.88159594194468,
          -66.08034896077723,
          -57.466853953154605,
          -63.65604809950468,
          -21.251618554313644,
          -57.844926229388285,
          -31.856329729326973,
          -57.46101796706954,
          -32.51280624084949,
          3.0568695123647904,
          -62.12824323080417,
          -67.03545969785067,
          -24.103444193154154,
          -24.92400365666828,
          -38.86912469143857,
          -55.92994247167571,
          -60.94383290877383,
          -50.79333188124977,
          -28.28824150856536,
          -65.43555992681453,
          -64.20460480462046,
          -61.19984220947242,
          25.965259146161166,
          -42.810708465958584,
          -40.91172265397126,
          -50.79163669034287
         ],
         "yaxis": "y4"
        }
       ],
       "layout": {
        "annotations": [
         {
          "font": {
           "size": 16
          },
          "showarrow": false,
          "text": "A2C",
          "x": 0.225,
          "xanchor": "center",
          "xref": "paper",
          "y": 1,
          "yanchor": "bottom",
          "yref": "paper"
         },
         {
          "font": {
           "size": 16
          },
          "showarrow": false,
          "text": "PPO",
          "x": 0.775,
          "xanchor": "center",
          "xref": "paper",
          "y": 1,
          "yanchor": "bottom",
          "yref": "paper"
         },
         {
          "font": {
           "size": 16
          },
          "showarrow": false,
          "text": "DQN",
          "x": 0.225,
          "xanchor": "center",
          "xref": "paper",
          "y": 0.375,
          "yanchor": "bottom",
          "yref": "paper"
         },
         {
          "font": {
           "size": 16
          },
          "showarrow": false,
          "text": "RANDOM",
          "x": 0.775,
          "xanchor": "center",
          "xref": "paper",
          "y": 0.375,
          "yanchor": "bottom",
          "yref": "paper"
         }
        ],
        "height": 800,
        "template": {
         "data": {
          "bar": [
           {
            "error_x": {
             "color": "#2a3f5f"
            },
            "error_y": {
             "color": "#2a3f5f"
            },
            "marker": {
             "line": {
              "color": "#E5ECF6",
              "width": 0.5
             },
             "pattern": {
              "fillmode": "overlay",
              "size": 10,
              "solidity": 0.2
             }
            },
            "type": "bar"
           }
          ],
          "barpolar": [
           {
            "marker": {
             "line": {
              "color": "#E5ECF6",
              "width": 0.5
             },
             "pattern": {
              "fillmode": "overlay",
              "size": 10,
              "solidity": 0.2
             }
            },
            "type": "barpolar"
           }
          ],
          "carpet": [
           {
            "aaxis": {
             "endlinecolor": "#2a3f5f",
             "gridcolor": "white",
             "linecolor": "white",
             "minorgridcolor": "white",
             "startlinecolor": "#2a3f5f"
            },
            "baxis": {
             "endlinecolor": "#2a3f5f",
             "gridcolor": "white",
             "linecolor": "white",
             "minorgridcolor": "white",
             "startlinecolor": "#2a3f5f"
            },
            "type": "carpet"
           }
          ],
          "choropleth": [
           {
            "colorbar": {
             "outlinewidth": 0,
             "ticks": ""
            },
            "type": "choropleth"
           }
          ],
          "contour": [
           {
            "colorbar": {
             "outlinewidth": 0,
             "ticks": ""
            },
            "colorscale": [
             [
              0,
              "#0d0887"
             ],
             [
              0.1111111111111111,
              "#46039f"
             ],
             [
              0.2222222222222222,
              "#7201a8"
             ],
             [
              0.3333333333333333,
              "#9c179e"
             ],
             [
              0.4444444444444444,
              "#bd3786"
             ],
             [
              0.5555555555555556,
              "#d8576b"
             ],
             [
              0.6666666666666666,
              "#ed7953"
             ],
             [
              0.7777777777777778,
              "#fb9f3a"
             ],
             [
              0.8888888888888888,
              "#fdca26"
             ],
             [
              1,
              "#f0f921"
             ]
            ],
            "type": "contour"
           }
          ],
          "contourcarpet": [
           {
            "colorbar": {
             "outlinewidth": 0,
             "ticks": ""
            },
            "type": "contourcarpet"
           }
          ],
          "heatmap": [
           {
            "colorbar": {
             "outlinewidth": 0,
             "ticks": ""
            },
            "colorscale": [
             [
              0,
              "#0d0887"
             ],
             [
              0.1111111111111111,
              "#46039f"
             ],
             [
              0.2222222222222222,
              "#7201a8"
             ],
             [
              0.3333333333333333,
              "#9c179e"
             ],
             [
              0.4444444444444444,
              "#bd3786"
             ],
             [
              0.5555555555555556,
              "#d8576b"
             ],
             [
              0.6666666666666666,
              "#ed7953"
             ],
             [
              0.7777777777777778,
              "#fb9f3a"
             ],
             [
              0.8888888888888888,
              "#fdca26"
             ],
             [
              1,
              "#f0f921"
             ]
            ],
            "type": "heatmap"
           }
          ],
          "heatmapgl": [
           {
            "colorbar": {
             "outlinewidth": 0,
             "ticks": ""
            },
            "colorscale": [
             [
              0,
              "#0d0887"
             ],
             [
              0.1111111111111111,
              "#46039f"
             ],
             [
              0.2222222222222222,
              "#7201a8"
             ],
             [
              0.3333333333333333,
              "#9c179e"
             ],
             [
              0.4444444444444444,
              "#bd3786"
             ],
             [
              0.5555555555555556,
              "#d8576b"
             ],
             [
              0.6666666666666666,
              "#ed7953"
             ],
             [
              0.7777777777777778,
              "#fb9f3a"
             ],
             [
              0.8888888888888888,
              "#fdca26"
             ],
             [
              1,
              "#f0f921"
             ]
            ],
            "type": "heatmapgl"
           }
          ],
          "histogram": [
           {
            "marker": {
             "pattern": {
              "fillmode": "overlay",
              "size": 10,
              "solidity": 0.2
             }
            },
            "type": "histogram"
           }
          ],
          "histogram2d": [
           {
            "colorbar": {
             "outlinewidth": 0,
             "ticks": ""
            },
            "colorscale": [
             [
              0,
              "#0d0887"
             ],
             [
              0.1111111111111111,
              "#46039f"
             ],
             [
              0.2222222222222222,
              "#7201a8"
             ],
             [
              0.3333333333333333,
              "#9c179e"
             ],
             [
              0.4444444444444444,
              "#bd3786"
             ],
             [
              0.5555555555555556,
              "#d8576b"
             ],
             [
              0.6666666666666666,
              "#ed7953"
             ],
             [
              0.7777777777777778,
              "#fb9f3a"
             ],
             [
              0.8888888888888888,
              "#fdca26"
             ],
             [
              1,
              "#f0f921"
             ]
            ],
            "type": "histogram2d"
           }
          ],
          "histogram2dcontour": [
           {
            "colorbar": {
             "outlinewidth": 0,
             "ticks": ""
            },
            "colorscale": [
             [
              0,
              "#0d0887"
             ],
             [
              0.1111111111111111,
              "#46039f"
             ],
             [
              0.2222222222222222,
              "#7201a8"
             ],
             [
              0.3333333333333333,
              "#9c179e"
             ],
             [
              0.4444444444444444,
              "#bd3786"
             ],
             [
              0.5555555555555556,
              "#d8576b"
             ],
             [
              0.6666666666666666,
              "#ed7953"
             ],
             [
              0.7777777777777778,
              "#fb9f3a"
             ],
             [
              0.8888888888888888,
              "#fdca26"
             ],
             [
              1,
              "#f0f921"
             ]
            ],
            "type": "histogram2dcontour"
           }
          ],
          "mesh3d": [
           {
            "colorbar": {
             "outlinewidth": 0,
             "ticks": ""
            },
            "type": "mesh3d"
           }
          ],
          "parcoords": [
           {
            "line": {
             "colorbar": {
              "outlinewidth": 0,
              "ticks": ""
             }
            },
            "type": "parcoords"
           }
          ],
          "pie": [
           {
            "automargin": true,
            "type": "pie"
           }
          ],
          "scatter": [
           {
            "fillpattern": {
             "fillmode": "overlay",
             "size": 10,
             "solidity": 0.2
            },
            "type": "scatter"
           }
          ],
          "scatter3d": [
           {
            "line": {
             "colorbar": {
              "outlinewidth": 0,
              "ticks": ""
             }
            },
            "marker": {
             "colorbar": {
              "outlinewidth": 0,
              "ticks": ""
             }
            },
            "type": "scatter3d"
           }
          ],
          "scattercarpet": [
           {
            "marker": {
             "colorbar": {
              "outlinewidth": 0,
              "ticks": ""
             }
            },
            "type": "scattercarpet"
           }
          ],
          "scattergeo": [
           {
            "marker": {
             "colorbar": {
              "outlinewidth": 0,
              "ticks": ""
             }
            },
            "type": "scattergeo"
           }
          ],
          "scattergl": [
           {
            "marker": {
             "colorbar": {
              "outlinewidth": 0,
              "ticks": ""
             }
            },
            "type": "scattergl"
           }
          ],
          "scattermapbox": [
           {
            "marker": {
             "colorbar": {
              "outlinewidth": 0,
              "ticks": ""
             }
            },
            "type": "scattermapbox"
           }
          ],
          "scatterpolar": [
           {
            "marker": {
             "colorbar": {
              "outlinewidth": 0,
              "ticks": ""
             }
            },
            "type": "scatterpolar"
           }
          ],
          "scatterpolargl": [
           {
            "marker": {
             "colorbar": {
              "outlinewidth": 0,
              "ticks": ""
             }
            },
            "type": "scatterpolargl"
           }
          ],
          "scatterternary": [
           {
            "marker": {
             "colorbar": {
              "outlinewidth": 0,
              "ticks": ""
             }
            },
            "type": "scatterternary"
           }
          ],
          "surface": [
           {
            "colorbar": {
             "outlinewidth": 0,
             "ticks": ""
            },
            "colorscale": [
             [
              0,
              "#0d0887"
             ],
             [
              0.1111111111111111,
              "#46039f"
             ],
             [
              0.2222222222222222,
              "#7201a8"
             ],
             [
              0.3333333333333333,
              "#9c179e"
             ],
             [
              0.4444444444444444,
              "#bd3786"
             ],
             [
              0.5555555555555556,
              "#d8576b"
             ],
             [
              0.6666666666666666,
              "#ed7953"
             ],
             [
              0.7777777777777778,
              "#fb9f3a"
             ],
             [
              0.8888888888888888,
              "#fdca26"
             ],
             [
              1,
              "#f0f921"
             ]
            ],
            "type": "surface"
           }
          ],
          "table": [
           {
            "cells": {
             "fill": {
              "color": "#EBF0F8"
             },
             "line": {
              "color": "white"
             }
            },
            "header": {
             "fill": {
              "color": "#C8D4E3"
             },
             "line": {
              "color": "white"
             }
            },
            "type": "table"
           }
          ]
         },
         "layout": {
          "annotationdefaults": {
           "arrowcolor": "#2a3f5f",
           "arrowhead": 0,
           "arrowwidth": 1
          },
          "autotypenumbers": "strict",
          "coloraxis": {
           "colorbar": {
            "outlinewidth": 0,
            "ticks": ""
           }
          },
          "colorscale": {
           "diverging": [
            [
             0,
             "#8e0152"
            ],
            [
             0.1,
             "#c51b7d"
            ],
            [
             0.2,
             "#de77ae"
            ],
            [
             0.3,
             "#f1b6da"
            ],
            [
             0.4,
             "#fde0ef"
            ],
            [
             0.5,
             "#f7f7f7"
            ],
            [
             0.6,
             "#e6f5d0"
            ],
            [
             0.7,
             "#b8e186"
            ],
            [
             0.8,
             "#7fbc41"
            ],
            [
             0.9,
             "#4d9221"
            ],
            [
             1,
             "#276419"
            ]
           ],
           "sequential": [
            [
             0,
             "#0d0887"
            ],
            [
             0.1111111111111111,
             "#46039f"
            ],
            [
             0.2222222222222222,
             "#7201a8"
            ],
            [
             0.3333333333333333,
             "#9c179e"
            ],
            [
             0.4444444444444444,
             "#bd3786"
            ],
            [
             0.5555555555555556,
             "#d8576b"
            ],
            [
             0.6666666666666666,
             "#ed7953"
            ],
            [
             0.7777777777777778,
             "#fb9f3a"
            ],
            [
             0.8888888888888888,
             "#fdca26"
            ],
            [
             1,
             "#f0f921"
            ]
           ],
           "sequentialminus": [
            [
             0,
             "#0d0887"
            ],
            [
             0.1111111111111111,
             "#46039f"
            ],
            [
             0.2222222222222222,
             "#7201a8"
            ],
            [
             0.3333333333333333,
             "#9c179e"
            ],
            [
             0.4444444444444444,
             "#bd3786"
            ],
            [
             0.5555555555555556,
             "#d8576b"
            ],
            [
             0.6666666666666666,
             "#ed7953"
            ],
            [
             0.7777777777777778,
             "#fb9f3a"
            ],
            [
             0.8888888888888888,
             "#fdca26"
            ],
            [
             1,
             "#f0f921"
            ]
           ]
          },
          "colorway": [
           "#636efa",
           "#EF553B",
           "#00cc96",
           "#ab63fa",
           "#FFA15A",
           "#19d3f3",
           "#FF6692",
           "#B6E880",
           "#FF97FF",
           "#FECB52"
          ],
          "font": {
           "color": "#2a3f5f"
          },
          "geo": {
           "bgcolor": "white",
           "lakecolor": "white",
           "landcolor": "#E5ECF6",
           "showlakes": true,
           "showland": true,
           "subunitcolor": "white"
          },
          "hoverlabel": {
           "align": "left"
          },
          "hovermode": "closest",
          "mapbox": {
           "style": "light"
          },
          "paper_bgcolor": "white",
          "plot_bgcolor": "#E5ECF6",
          "polar": {
           "angularaxis": {
            "gridcolor": "white",
            "linecolor": "white",
            "ticks": ""
           },
           "bgcolor": "#E5ECF6",
           "radialaxis": {
            "gridcolor": "white",
            "linecolor": "white",
            "ticks": ""
           }
          },
          "scene": {
           "xaxis": {
            "backgroundcolor": "#E5ECF6",
            "gridcolor": "white",
            "gridwidth": 2,
            "linecolor": "white",
            "showbackground": true,
            "ticks": "",
            "zerolinecolor": "white"
           },
           "yaxis": {
            "backgroundcolor": "#E5ECF6",
            "gridcolor": "white",
            "gridwidth": 2,
            "linecolor": "white",
            "showbackground": true,
            "ticks": "",
            "zerolinecolor": "white"
           },
           "zaxis": {
            "backgroundcolor": "#E5ECF6",
            "gridcolor": "white",
            "gridwidth": 2,
            "linecolor": "white",
            "showbackground": true,
            "ticks": "",
            "zerolinecolor": "white"
           }
          },
          "shapedefaults": {
           "line": {
            "color": "#2a3f5f"
           }
          },
          "ternary": {
           "aaxis": {
            "gridcolor": "white",
            "linecolor": "white",
            "ticks": ""
           },
           "baxis": {
            "gridcolor": "white",
            "linecolor": "white",
            "ticks": ""
           },
           "bgcolor": "#E5ECF6",
           "caxis": {
            "gridcolor": "white",
            "linecolor": "white",
            "ticks": ""
           }
          },
          "title": {
           "x": 0.05
          },
          "xaxis": {
           "automargin": true,
           "gridcolor": "white",
           "linecolor": "white",
           "ticks": "",
           "title": {
            "standoff": 15
           },
           "zerolinecolor": "white",
           "zerolinewidth": 2
          },
          "yaxis": {
           "automargin": true,
           "gridcolor": "white",
           "linecolor": "white",
           "ticks": "",
           "title": {
            "standoff": 15
           },
           "zerolinecolor": "white",
           "zerolinewidth": 2
          }
         }
        },
        "title": {
         "text": "Total Profit Percentage (in %) x different feat_package (Across different models) <br>ccy:BTCUSDT - time-to-chart:1d",
         "x": 0.5
        },
        "width": 1200,
        "xaxis": {
         "anchor": "y",
         "domain": [
          0,
          0.45
         ],
         "title": {
          "standoff": 25,
          "text": "feat_package"
         }
        },
        "xaxis2": {
         "anchor": "y2",
         "domain": [
          0.55,
          1
         ],
         "title": {
          "standoff": 25,
          "text": "feat_package"
         }
        },
        "xaxis3": {
         "anchor": "y3",
         "domain": [
          0,
          0.45
         ],
         "title": {
          "standoff": 25,
          "text": "feat_package"
         }
        },
        "xaxis4": {
         "anchor": "y4",
         "domain": [
          0.55,
          1
         ],
         "title": {
          "standoff": 25,
          "text": "feat_package"
         }
        },
        "yaxis": {
         "anchor": "x",
         "domain": [
          0.625,
          1
         ],
         "matches": "y3",
         "title": {
          "standoff": 25,
          "text": "Total Profit Percentage (in %)"
         }
        },
        "yaxis2": {
         "anchor": "x2",
         "domain": [
          0.625,
          1
         ],
         "matches": "y3",
         "showticklabels": false,
         "title": {
          "standoff": 25,
          "text": "Total Profit Percentage (in %)"
         }
        },
        "yaxis3": {
         "anchor": "x3",
         "domain": [
          0,
          0.375
         ],
         "title": {
          "standoff": 25,
          "text": "Total Profit Percentage (in %)"
         }
        },
        "yaxis4": {
         "anchor": "x4",
         "domain": [
          0,
          0.375
         ],
         "matches": "y3",
         "showticklabels": false,
         "title": {
          "standoff": 25,
          "text": "Total Profit Percentage (in %)"
         }
        }
       }
      }
     },
     "metadata": {},
     "output_type": "display_data"
    }
   ],
   "source": [
    "fig_output = get_boxplot_total_profit_diff_feature(df_sim_results, list_timestamp[0])"
   ]
  },
  {
   "cell_type": "code",
   "execution_count": 80,
   "metadata": {},
   "outputs": [
    {
     "data": {
      "application/vnd.plotly.v1+json": {
       "config": {
        "plotlyServerURL": "https://plot.ly"
       },
       "data": [
        {
         "marker": {
          "color": "blue"
         },
         "name": "1",
         "type": "histogram",
         "x": [
          -60.84733117751712,
          -52.16956608875284,
          -30.742085614948834,
          -32.81724199480157,
          -50.583653408824624,
          -30.347690416058416,
          -46.56904659050197,
          -73.5547235033762,
          -27.712186946455354,
          -49.26636315289619,
          -52.81932310974449,
          -37.50111123465024,
          -40.06186452930856,
          -63.032079818814914,
          -26.239193050048513,
          -1.1683014566073568,
          -47.721665277424094,
          -21.475624623492052,
          -60.16316950184435,
          -38.922479989710666,
          -7.9913287734585285,
          -73.09491993927013,
          -50.71409312301647,
          -41.866366224142205,
          -44.59940181166181,
          -13.473845950827867,
          -50.21410659847032,
          -60.64775808223719,
          -67.1159041433431,
          -57.71665568239148,
          -36.320848383470505,
          -44.39483832643541,
          -24.831464785193713,
          -18.330214784896327,
          -66.66426153699489,
          -44.47640979557007,
          -44.113872614565494,
          -50.065327158490966,
          -63.023240883074564,
          -49.95427644510719,
          -37.10167304142421,
          -64.5104194505614,
          11.307190882751428,
          -36.819887375226855,
          -23.737267001284433,
          -27.38534420156392,
          -40.429427185524105,
          -44.2876025990297,
          -27.41611918898631,
          -61.23882961766909,
          -59.7620870713512,
          -42.077067089601684,
          -37.4685226875332,
          -9.577241452561935,
          -51.53800522548182,
          -47.133306739244794,
          -58.731995065940325,
          -28.280128720684814,
          -45.85855480244512,
          -55.41900314695452,
          -44.703016308929314,
          -49.583682209359466,
          -40.07664922078247,
          -53.11453813724003,
          -61.697536011570705,
          -49.1753435321813,
          -22.439647528126816,
          -27.20842347092517,
          -26.722798075380883,
          -17.557513039073193,
          -67.00322377053726,
          -70.2418286157183,
          -45.56108208834409,
          -60.420493345694325,
          -69.79487912685553,
          -53.04274298677068,
          -49.046068976627076,
          -64.13792296744512,
          -54.648740686884366,
          -62.19190218292483,
          -11.978416775422607,
          -42.557811837328444,
          -17.7345811436733,
          -29.338868881967205,
          -44.97994022749726,
          -58.18023053315036,
          -65.1476340671654,
          -40.06504524030261,
          -58.37529042428211,
          -27.70900739924953,
          -54.18220247121026,
          -61.731929521922055,
          -61.02776651435813,
          -70.9334265928171,
          -37.950542278490296,
          -43.34975351113787,
          -28.50736681245003,
          -55.05636806082885,
          -45.796111645315406,
          -72.54869538576021
         ],
         "xaxis": "x",
         "yaxis": "y"
        },
        {
         "marker": {
          "color": "grey"
         },
         "name": "2",
         "type": "histogram",
         "x": [
          -59.64656575759544,
          -48.518593277722466,
          -56.983321692912845,
          -59.57766154009158,
          -0.5646405891570394,
          -34.84443199944431,
          -46.10453962870802,
          -61.09451636437916,
          -42.28159051157402,
          12.263404943355516,
          -40.65379410733865,
          -52.67842271467313,
          -36.716724134965574,
          -27.869666319785825,
          -29.904268126605228,
          -58.093969422693725,
          -38.3232804128191,
          -27.809040815633324,
          -64.88910529758056,
          -37.9846911076602,
          -12.481928212309846,
          -47.02028612066652,
          -57.702154911364055,
          -63.530473681934886,
          0.7168155500925755,
          -7.227926409184471,
          -50.800456956858895,
          -39.00695785476477,
          -47.586444921225294,
          -62.54345640099474,
          -31.411040653191257,
          -19.296905504167185,
          -14.102140217028602,
          -34.127016093290116,
          -30.138846736771153,
          -44.083819731309106,
          -6.524556035267448,
          -21.62851335233459,
          -45.703362114090154,
          -55.779541354067575,
          -49.59090802853484,
          -59.148481575351376,
          -26.03703523082972,
          -40.90848706460983,
          -38.19486782520393,
          -56.76435564122036,
          -12.2029989332731,
          -43.72965092518876,
          -59.01874790544937,
          -43.71320327984063,
          -60.67833783498995,
          -35.3697753693086,
          -50.85055917579089,
          -11.392659132046523,
          -31.34130797091712,
          -40.68078312803277,
          -50.729113388004954,
          -12.300837838643709,
          -43.71228893744474,
          -72.41120432297248,
          -50.22437841936409,
          -41.57867116251109,
          -52.434713844538514,
          -32.394068295643564,
          -18.721968051336823,
          -57.946117260006034,
          -34.82013065032401,
          -57.9683177250419,
          -22.31428846488909,
          -14.43104302481969,
          -63.15468132485942,
          -16.19787006229033,
          -41.54374950226405,
          -54.874959893874035,
          -44.32338990819742,
          -35.554170374937954,
          -25.197759732792115,
          -27.346037644040745,
          -32.13233186722311,
          -56.447681630177904,
          -43.92587762361304,
          -61.67042715228336,
          -58.38709840781331,
          -61.62514341265872,
          -17.658417440458905,
          -66.51382239252054,
          -50.41081329419428,
          -12.478309383553576,
          -47.39159712784154,
          -57.02544565784855,
          -11.333671320813432,
          -18.38451789721509,
          -32.17873372725142,
          -41.752924763468656,
          -38.725949103767356,
          -29.89307283737158,
          -5.807615204425831,
          -29.95701194377324,
          -31.707744318024822,
          -29.194092827854924
         ],
         "xaxis": "x",
         "yaxis": "y"
        },
        {
         "marker": {
          "color": "red"
         },
         "name": "3",
         "type": "histogram",
         "x": [
          -10.447520508400999,
          -28.708452852855448,
          -8.732434386733367,
          -36.161690839941116,
          -66.66885089219865,
          -63.49304584914246,
          -68.94359550499661,
          -64.6533084339395,
          -35.853543066065285,
          -46.830219147573175,
          -25.86972449740088,
          -37.950616312458685,
          -65.05351878792165,
          -38.43124271481514,
          -46.71337214983578,
          -42.82069730167495,
          -33.39378652539852,
          -63.36200048953303,
          -64.77258282112538,
          -64.82787340637377,
          -27.307389598004917,
          -45.38658501282011,
          -64.56578243016031,
          -71.19310862150968,
          -41.32990385192824,
          -53.20693773685732,
          -15.456902508347659,
          -43.88823596511023,
          -52.33293778856658,
          -64.54292382758015,
          -43.97197697763075,
          -28.295491163151322,
          -64.41023934014684,
          -31.695393016957652,
          -28.991122089564236,
          -31.464696648199276,
          -29.30015395630918,
          -50.210510056607795,
          -64.98485852817689,
          -72.47251418172713,
          -47.13338596279628,
          -17.160579550335587,
          -62.61430152467097,
          -34.08044021979364,
          -28.325272248906387,
          -41.19178792946546,
          -23.059086274623187,
          -26.859213151056405,
          -53.881040622708795,
          6.629814276364465,
          -66.6193427447037,
          -62.96436248492584,
          -59.040643508150524,
          -11.871326568238382,
          -25.895423615469937,
          -52.66079083726353,
          -54.64242898857199,
          -69.00237950216454,
          -52.93195077675876,
          -32.46372495240459,
          -41.39974487674875,
          -62.54403774593171,
          -61.8880255805324,
          -49.49991695569871,
          -53.07709822902407,
          -37.71172719865513,
          -32.18202418780917,
          -16.762381357388268,
          -46.663354040421325,
          -49.855809518496066,
          -26.369352070364982,
          -57.96821393981093,
          -52.798902670861516,
          -58.56169402787269,
          -64.93050112060253,
          -59.99336613617554,
          -44.1089387332481,
          -45.25251911992479,
          -32.191832508954775,
          -74.94973659886868,
          -4.8521359179024,
          -55.9709932720525,
          -45.507445202956745,
          -46.01341816454121,
          -44.26560367971866,
          17.197203422996466,
          -65.3120086110701,
          -59.28593488761481,
          -51.09561523285543,
          -45.11022968158331,
          -31.073435227107126,
          -63.26207329404436,
          -22.984795535322288,
          -52.995360746553224,
          -19.89003706004141,
          -60.679627934180466,
          -58.37363968912956,
          -17.891596704371658,
          -74.52496377487081,
          -59.692927278751284
         ],
         "xaxis": "x",
         "yaxis": "y"
        },
        {
         "marker": {
          "color": "blue"
         },
         "name": "1",
         "showlegend": false,
         "type": "histogram",
         "x": [
          -58.05680958304491,
          -51.121076683388836,
          -56.62997757629068,
          -17.859136218048143,
          -33.94955197090829,
          -45.894339691401996,
          -59.96126465945277,
          -61.06156834739149,
          -27.685728227383464,
          -56.565355520541274,
          -36.43102421594973,
          -37.66379389290273,
          -33.8256155748101,
          -50.78717582986514,
          -15.893754145400397,
          -57.811519310525405,
          -41.51253647567654,
          -44.9386351445001,
          -66.57460367086327,
          -60.35397910553908,
          -63.08715131066847,
          1.2019347206454034,
          -48.747670939510634,
          -48.73992240755162,
          -36.14603320585711,
          -49.628412101115686,
          -56.62943876780662,
          -56.61067803521925,
          -35.06510897888291,
          -36.56658481219076,
          -57.783595493200245,
          -32.247890724338355,
          -55.97101915771909,
          -37.19390154100749,
          -64.01431388828134,
          -52.100045998076716,
          -35.369617326253014,
          -37.005027770907105,
          -8.236118906181256,
          -44.6839968093468,
          -31.66957486826114,
          -24.669306097513644,
          -45.822968995101675,
          -73.53883691127301,
          -48.70193063269978,
          -23.5413586176203,
          -74.13110283157773,
          -52.64971650122384,
          -37.203261074086846,
          -26.123164145272327,
          -43.430546375371215,
          -33.89375833855761,
          -26.730201539398735,
          -43.70864101014846,
          -44.4602857905477,
          -70.96296073885026,
          -45.84188398589772,
          -66.59070597758725,
          9.233151815144659,
          -47.78089530058453,
          -9.27898576596995,
          -32.777811256478806,
          -55.502029462577696,
          -14.321613885202588,
          -53.603562298224276,
          -44.04709463391926,
          -61.729077682539966,
          -54.40674448511758,
          -22.945810920344744,
          -48.24934263752875,
          -50.246938185676186,
          -34.87750164280151,
          -13.922219051015272,
          -46.77007931769646,
          -31.71690756234974,
          -32.2276683589451,
          -31.024200325560326,
          -61.37211963016483,
          6.963547838608397,
          -22.711906532837766,
          -20.15344569433244,
          -53.01767473094572,
          -46.50077913958348,
          -53.82475225605706,
          -46.49013947120929,
          -46.07313240572718,
          -69.40401881196233,
          -43.87316566633564,
          -46.414031389909674,
          -41.11135438480993,
          -49.01521618552327,
          -50.608603556756826,
          -9.288208617825045,
          -29.669031733968133,
          -39.71807929450301,
          -10.796793864954335,
          -52.96679863865704,
          -60.26369011498146,
          -67.68701035096841,
          -46.147085670123886
         ],
         "xaxis": "x2",
         "yaxis": "y2"
        },
        {
         "marker": {
          "color": "grey"
         },
         "name": "2",
         "showlegend": false,
         "type": "histogram",
         "x": [
          0.9450882395194871,
          -51.87149107599347,
          -46.98431007867002,
          -58.08542765545827,
          -38.804838728646374,
          -50.95102986028082,
          -32.74195437365104,
          -65.24695023680665,
          -46.834153641908536,
          -70.80017161543898,
          -11.396086447801457,
          -33.28423268789407,
          -6.450148671171196,
          -41.41980650423618,
          -41.43940973275573,
          -38.42647842146722,
          -50.86592373888267,
          -57.38762638744335,
          -62.94389776799155,
          -59.32295880637335,
          -59.35102214450742,
          -40.86990601340925,
          -9.586012959431633,
          -52.684378166964294,
          -63.907611164530806,
          -36.463795711964984,
          -57.77188587723393,
          -26.95437565167732,
          -34.666219620061824,
          -38.118240580806514,
          -57.74457073611548,
          -45.70417261863432,
          27.715085329705236,
          -34.88355205979128,
          -42.84608756493904,
          -23.88711141823302,
          -27.428950364804194,
          -52.32187060707947,
          -55.878185802846026,
          -63.21904659864255,
          -25.23041117490483,
          -38.59750013040587,
          -42.12578238519469,
          -45.358800742911875,
          -59.34851441273936,
          -23.425643017526887,
          -42.62568203312343,
          -35.84191730461953,
          -37.43898408555793,
          -34.02999230632815,
          -56.28657178235535,
          -30.85220431388561,
          -45.83786606241355,
          -39.41916040587351,
          -41.78643458924309,
          -34.5949826268392,
          -32.27911720441481,
          -32.42737355910336,
          -45.285565299926944,
          -25.395038865730413,
          16.01072887174986,
          -32.97711330571419,
          -11.186276031223418,
          -59.476375173951055,
          -58.49390957257601,
          -46.11177021752199,
          -72.41401223842622,
          -18.80417339007362,
          -35.83861252447813,
          -17.67922513613356,
          -55.654875914628434,
          -15.958851639555881,
          -60.70296028572141,
          -34.96126393062379,
          -34.85213331549013,
          -65.0883218545994,
          -37.373459435970105,
          -39.592745376294346,
          -53.065212820027305,
          -52.61070191657986,
          -54.661175888639036,
          -44.259888814198334,
          -46.06907860980469,
          -37.13648420474662,
          -45.96666116305934,
          -36.45405224732401,
          -25.535380659972297,
          -41.47197955740458,
          -45.12723275626244,
          -27.701821505536227,
          -56.68807668534963,
          -50.552712337870176,
          -6.330516366855276,
          8.33229713959156,
          -33.931661548990775,
          -10.421336960832338,
          -48.52401307870904,
          -42.904007579562794,
          -20.36722449988414,
          1.4192999018740826
         ],
         "xaxis": "x2",
         "yaxis": "y2"
        },
        {
         "marker": {
          "color": "red"
         },
         "name": "3",
         "showlegend": false,
         "type": "histogram",
         "x": [
          -56.69108571370902,
          -29.843536989361162,
          -29.943658639670858,
          -48.34886858317948,
          -53.08292014792584,
          -11.216052030856494,
          -51.261235925755535,
          -40.88399354207476,
          -53.55843308183571,
          -44.96003145165193,
          -37.18036266382803,
          -62.53334100504666,
          -48.71954275435558,
          -48.86409954427277,
          -34.95319772160151,
          -34.78950864845991,
          -42.63179856042959,
          5.256357976986026,
          -34.695220295857744,
          -53.611657219259776,
          14.17097757910959,
          -41.51792812050874,
          -20.773805740511932,
          -61.638458547525346,
          -51.630746665679,
          -48.195358142548905,
          4.786038683086491,
          -46.75599135483508,
          -19.9887917121401,
          -48.794924527940296,
          -22.866758986871293,
          -45.86079519436338,
          -26.735509954795756,
          -56.131317275286754,
          -50.5808217067365,
          -47.03859358333114,
          30.71026043146794,
          -30.73995684891647,
          -36.541986607662025,
          -45.01812381161575,
          -18.1970169615581,
          17.160101166982187,
          -43.236361926093956,
          -58.75166886151787,
          -38.90745903195327,
          -2.840922048110117,
          -45.061564589899085,
          -11.330735833566475,
          -36.974224813787245,
          -39.820766163481025,
          -28.98370440504663,
          -46.94456864621639,
          -29.867909597710394,
          -26.47885688767507,
          5.6003197303744034,
          -25.818695644277557,
          -62.389191083975206,
          -51.3426067621132,
          -34.597011264765364,
          -50.42807806595795,
          -14.708839011071372,
          -57.609250662072384,
          -18.685748180198345,
          -28.794729911669837,
          -34.81434070345802,
          -31.7476444922412,
          -29.20603137076644,
          -57.52204348405405,
          -41.30931929526712,
          -53.86793923624401,
          -8.787587694429078,
          -53.606291511104764,
          -34.09839689542273,
          -39.51952672616713,
          -44.90295521548071,
          -47.80579728262325,
          -41.79511776493931,
          -31.63787563134396,
          -50.2793314064449,
          -13.603745364474628,
          -52.04896754157182,
          -33.04095166187974,
          -24.809770980965496,
          -35.366055369479156,
          -39.86349037442237,
          11.950533033262811,
          -56.4041657085071,
          -30.257604257706262,
          12.59084052342998,
          -33.457081189943594,
          -43.28996833503438,
          -60.31311688177507,
          -61.94060897021143,
          -50.575046630599665,
          -36.32290945309029,
          -61.72075957616586,
          -37.957785917595324,
          -36.18258356052395,
          -61.0623054667759,
          -31.622566451891053
         ],
         "xaxis": "x2",
         "yaxis": "y2"
        },
        {
         "marker": {
          "color": "blue"
         },
         "name": "1",
         "showlegend": false,
         "type": "histogram",
         "x": [
          -28.91348223468263,
          -40.813810080665945,
          -61.997807014097404,
          -49.933803304043245,
          -38.84708522107735,
          -17.359280256755117,
          2.248420699548781,
          -34.46434982645711,
          -17.95325885850939,
          -0.37633999795866346,
          -18.60393896260557,
          -42.11162754670479,
          -31.92078384432786,
          -9.991567103225274,
          -24.061086139773547,
          -42.20471354480376,
          1.197999697463148,
          -33.38045564707205,
          5.851464012770347,
          -40.08676051689167,
          -27.696470068735792,
          -26.375213965881137,
          -31.010767584435207,
          -14.57515275353124,
          -20.497874096478384,
          -24.913306346220953,
          -38.11723018420293,
          -27.383875464486916,
          -13.095964718061548,
          -35.555609436662024,
          -19.368779897130185,
          -44.63266134779338,
          -17.98567290908528,
          -14.019902246027016,
          -32.14771971469166,
          -47.40398885856871,
          -35.82914639634549,
          -31.413831595194264,
          -48.59870932793584,
          13.306380895341597,
          -4.883319017642873,
          -8.0165079965121,
          -21.545443416458532,
          -42.88336235789275,
          -51.29345830698207,
          -9.638820727560738,
          -40.50257594854426,
          -21.890271842850773,
          23.11544858930017,
          -26.301876719289197,
          -49.58991037103232,
          34.14820645352663,
          -34.35278084594998,
          -13.977286485858297,
          -51.07830830335247,
          -43.19388777220371,
          -28.644244717136747,
          -10.528341814560015,
          -8.490600669132931,
          -37.27532003415463,
          8.205653279715875,
          -46.3597999218259,
          -26.07550300020248,
          -27.231058485796943,
          -0.1885523387927357,
          10.81619983666351,
          -27.443195969776657,
          20.979863102919126,
          -4.862695132355244,
          -58.32786243013351,
          -15.344239288736683,
          -37.368566502874025,
          -17.98864782231423,
          -7.563871655067089,
          -1.1859160891145804,
          -16.573633540612732,
          -46.973238990813115,
          -20.716124872681252,
          -9.734343893110164,
          -0.37022491769259647,
          -18.854987788928135,
          -20.289956051813107,
          11.64413477381081,
          -33.7224222721409,
          -35.129843617183454,
          -12.502160826301289,
          -21.15448246353391,
          -19.954716201390042,
          -13.146435580373495,
          -58.685125862312006,
          2.953809865249335,
          -28.799919285782604,
          -37.470968291816256,
          -45.49631483968033,
          -16.041935734388236,
          -14.485140258522977,
          -36.17388304913839,
          -43.87683919277222,
          24.37201006136187,
          10.504928499860156
         ],
         "xaxis": "x3",
         "yaxis": "y3"
        },
        {
         "marker": {
          "color": "grey"
         },
         "name": "2",
         "showlegend": false,
         "type": "histogram",
         "x": [
          -56.26942210244861,
          -0.01429588889378941,
          -51.45270741329875,
          3.2247143592941674,
          -40.410075488030586,
          -51.3730600585385,
          -7.695738264381502,
          -28.091045409794223,
          -30.127622298057734,
          -35.52985649212887,
          -35.100297399409875,
          -37.89542072703998,
          -11.55179037905043,
          -39.04152201777381,
          -6.2324699204855065,
          -1.8419500868421368,
          -23.119486467732596,
          -36.22829138343624,
          -48.17197953564758,
          -50.449219390233345,
          -8.59231743670794,
          0,
          -57.10854147007598,
          -55.416491813556505,
          -45.459447348807494,
          -30.19883669574869,
          30.05381626832704,
          -35.819181492000396,
          -9.986162753548689,
          -32.54528100636187,
          -19.433506323772853,
          -52.16605144423063,
          -24.304407798844206,
          12.797600481011862,
          -35.9818960202986,
          -9.204635196037781,
          -16.17035779142133,
          -33.63156328662029,
          -9.570856890443336,
          -45.160527124496994,
          -18.444057031490136,
          -27.03906760775339,
          -50.76056665045733,
          -47.80037206569424,
          3.2402329597074564,
          -48.238395053515795,
          -28.448052839894633,
          -58.470220697308065,
          -51.62881954542582,
          -21.397504085906494,
          -54.43103033850735,
          -34.689175276764026,
          -43.27793579878333,
          -47.54717804849468,
          -27.01497836862027,
          -52.58787580207071,
          -0.7650160342023371,
          11.84100225731488,
          21.126661396377976,
          -28.24693092644668,
          -48.39561856240443,
          -41.03502589953075,
          34.88551654261176,
          -56.07111379982446,
          -28.39748978330363,
          -14.602833016992712,
          -40.30056933948399,
          12.736032928095419,
          -52.93669910350282,
          -31.433309131318254,
          19.96401675632118,
          -6.189136503757664,
          -23.445442079860012,
          -22.88440585882632,
          -54.69915824325089,
          -45.16217340148406,
          0,
          -25.906777122847046,
          -19.3515532604,
          -56.36884080740444,
          -42.03874188044552,
          23.51195881041017,
          -56.97680467104729,
          -26.294146286737565,
          -2.2974306481395534,
          -24.416871874943457,
          -54.43900505463174,
          -22.781770905512943,
          -9.95931371961486,
          -9.523427780620208,
          -40.00030470601711,
          -31.44589143224342,
          -32.41233633030218,
          15.35858644014021,
          -49.55417973323137,
          -39.32715005681649,
          -52.11415319741872,
          -1.870197110477656,
          -44.768193814379075,
          -1.4277479913437752
         ],
         "xaxis": "x3",
         "yaxis": "y3"
        },
        {
         "marker": {
          "color": "red"
         },
         "name": "3",
         "showlegend": false,
         "type": "histogram",
         "x": [
          -53.62150665645598,
          -46.87087308358403,
          -43.37132412383551,
          -10.398091499182115,
          -20.776123481683626,
          -20.989119695770565,
          -35.958253804394744,
          -23.014514621637574,
          -26.196592922855586,
          -8.489875618131105,
          -34.92589347988964,
          -0.458932988645,
          -16.174199096845477,
          -27.438473744434198,
          -36.00023324608187,
          -21.63163212202238,
          -41.33773281251,
          -22.97042913746813,
          -47.7970018477988,
          -59.07794327510347,
          -42.54039904082694,
          -58.437090307042915,
          11.136452233509274,
          -46.181587601812566,
          -16.35229831263123,
          -19.655529656763083,
          -24.573056908251665,
          -43.74913171347779,
          -39.608252118970576,
          -22.11661622126998,
          -12.942344341013012,
          -61.28778086027399,
          2.5060591120890097,
          -0.6858713877950562,
          -16.523902908080068,
          -43.56275235245813,
          -27.690584359772608,
          -45.953023544585946,
          -49.9814318848157,
          -44.33222651650828,
          -37.19981358580077,
          -12.49953570478125,
          -25.629066920609876,
          -38.96526609204539,
          -49.96425360506248,
          -51.60841692457985,
          -46.65222857692913,
          -13.240199751742733,
          -17.363612059746803,
          -23.778622146917517,
          -41.2890686898773,
          -53.23698936080476,
          -37.75122670258349,
          11.375109795819238,
          -35.03697933028446,
          -16.759509542942695,
          -11.77229951632709,
          -3.0051319024242074,
          -52.031151586518696,
          -29.582110599512557,
          -43.39288511340247,
          25.86602776239577,
          21.47175952677798,
          -17.730358262088973,
          -53.37081706344045,
          -57.44966361703656,
          -31.477515406554247,
          -20.434719139706658,
          -47.97485572219345,
          -33.31741941180283,
          15.525792149623218,
          -52.03898099063969,
          4.923534524508599,
          -36.66666552140907,
          -9.228276586162332,
          4.714312487163652,
          8.441569678492634,
          -55.14770020262374,
          -44.73642969422408,
          -2.1464910175188923,
          -25.205151025321815,
          0.3759030295761745,
          -22.200781580592032,
          -38.40620309524299,
          -12.12192115885874,
          -53.222072532061915,
          -9.418844075289734,
          -0.550852770905208,
          -22.902808168190305,
          -3.5122717660181935,
          -30.688541155063064,
          -37.88544699537313,
          3.8796729760875115,
          -49.16403113218014,
          -55.71181759633963,
          10.266213572412264,
          -42.377657761851076,
          -24.96424819928397,
          -56.362619053090434,
          -49.56291840924233
         ],
         "xaxis": "x3",
         "yaxis": "y3"
        },
        {
         "marker": {
          "color": "blue"
         },
         "name": "1",
         "showlegend": false,
         "type": "histogram",
         "x": [
          -25.22999948224751,
          -51.68799715142989,
          -1.632942701363549,
          -26.230012795799375,
          -59.27441853366429,
          -25.572742473067056,
          -29.658345506023476,
          -34.32438443376604,
          -38.019487323047244,
          -40.71391843346276,
          -47.186354482874904,
          -38.3618438115094,
          -60.53313332905796,
          -31.643072486614987,
          -33.697577495358686,
          -33.44965674557204,
          -30.20542737426335,
          -22.055063123296257,
          -33.40795754397281,
          -41.792409859047375,
          -65.75343746083884,
          -18.30963894563955,
          -40.916802123558625,
          -0.4264043872512113,
          7.07482339070491,
          -45.86247339485167,
          -11.68513129727835,
          -37.47179545523303,
          -71.53432067296617,
          -24.843377506046938,
          -29.29336978596667,
          -50.522720748863534,
          -48.50319074882745,
          -47.732178744997626,
          -56.930879347617555,
          -25.24514333272657,
          -29.423982923640846,
          -8.649438501024287,
          -10.037771206229563,
          -42.20998858067194,
          -40.65853154146488,
          -34.85493311680447,
          -23.70435091012453,
          -42.7174765748766,
          -38.52408420829712,
          -61.24841606020253,
          -67.39149786646327,
          1.769866117062624,
          -48.54313312013446,
          -49.30705487510184,
          -45.64406984092152,
          -50.49012759787311,
          -45.01353023854011,
          -35.64393634763936,
          4.702716464553136,
          -28.546590514966354,
          -43.69725688838021,
          -56.83633889588076,
          -35.469110806109626,
          -55.42990753170615,
          -44.444997930298,
          -56.60707902456829,
          -41.19554698289149,
          -48.80488465585899,
          -44.4738255576336,
          -42.64393994890747,
          -44.51904986187388,
          -52.95898649721955,
          -48.13988426525828,
          -51.625914593767355,
          -45.636945364190986,
          -24.614305870066445,
          -42.816851219858776,
          -60.12051669877889,
          -35.196636263142814,
          -35.494350815281216,
          -50.62288032071434,
          -1.3318195548589151,
          -66.41023624185671,
          -15.395588677245875,
          -29.01682638356614,
          -42.75319574787806,
          7.283672958714016,
          -65.71003090005011,
          -36.49508905488715,
          3.6619517831585124,
          -2.7416015493949897,
          -52.81323733213369,
          -61.694579497295685,
          -56.43960051184411,
          -57.55123872823715,
          -50.762123369094404,
          -39.92466634325032,
          -50.73921592036796,
          -48.28372201657319,
          -18.102336572399146,
          -6.559570151311367,
          -35.63322983034089,
          -43.43073510043855,
          -28.303659782712863
         ],
         "xaxis": "x4",
         "yaxis": "y4"
        },
        {
         "marker": {
          "color": "grey"
         },
         "name": "2",
         "showlegend": false,
         "type": "histogram",
         "x": [
          -57.45703734562409,
          -45.53908220236149,
          -50.95074656214528,
          -35.70051681436242,
          -41.324868005359896,
          -57.554468422866314,
          -44.85043229166992,
          -48.96562260159973,
          -53.04718914512554,
          -44.464576251266664,
          -47.796749125217644,
          -30.139360213915346,
          -54.10736202304503,
          -54.74822936520041,
          -46.5810052001139,
          -55.51185454396557,
          -37.07693869579576,
          -45.19976568710584,
          -70.72617645495369,
          -24.633708387746033,
          -21.18675415154877,
          -58.37210198498318,
          -49.15581009796895,
          -42.03937120110165,
          -22.913862886841297,
          -10.344830822270445,
          -36.28889510046464,
          -60.31304672029819,
          -62.21881760430208,
          -73.84242135032596,
          -65.2450987009814,
          -7.367487054968014,
          -34.08427596818902,
          -69.08536807671182,
          -68.00404430992432,
          -54.93533549496714,
          -2.0663813775010142,
          -48.92410743064407,
          -52.07928000041849,
          -53.73414521473134,
          -46.29654476374472,
          -70.3069497319665,
          -60.454318967967225,
          -53.375318154107745,
          -45.78974502158572,
          -66.6419743783658,
          -31.446530513764394,
          -36.98331075230363,
          -41.83804183722501,
          -32.36923839447439,
          -25.5158001481007,
          -45.01200904829668,
          -30.384902400703552,
          -35.684042406975394,
          -62.42256638839252,
          -17.81988114507812,
          -31.438641314490525,
          -45.28452954085837,
          -43.753671459958234,
          -36.345285605113176,
          -27.780079830407445,
          -38.74036370911676,
          -50.89708072305823,
          -27.817247677376745,
          -53.09720193788245,
          -49.649389686763456,
          -44.93388834367942,
          -69.8655369078911,
          -3.87636333197654,
          -74.33646149825277,
          -42.48520543122335,
          -32.552372812632214,
          -28.2498966494672,
          -51.92003552138893,
          -27.91358675565845,
          -28.347354663872203,
          -51.6235728042495,
          -27.0556955469892,
          -50.83457042347093,
          -33.638175547771276,
          -19.79960620096176,
          -33.54333793970039,
          -30.2082121049396,
          -56.99422382902415,
          7.422744474460541,
          -55.11074672255801,
          -14.531132986860651,
          -48.498468162201426,
          -65.70616932919621,
          -49.36816248820747,
          -40.7537754370148,
          -36.201815384747896,
          -36.25728199522472,
          -38.1257252215952,
          6.940975124763726,
          -12.100408413677965,
          -23.79768707612214,
          -61.53932214788133,
          -50.30613752718558,
          -24.547607694141917
         ],
         "xaxis": "x4",
         "yaxis": "y4"
        },
        {
         "marker": {
          "color": "red"
         },
         "name": "3",
         "showlegend": false,
         "type": "histogram",
         "x": [
          -23.05920878780775,
          -68.96915901047974,
          -42.739141869187314,
          -47.74828886570308,
          -57.355210580949304,
          -71.44412638604074,
          -6.789516250584093,
          -43.66988657943087,
          -66.92713939226495,
          11.028012392297981,
          -58.8953424787984,
          -30.865414422510106,
          -48.06330979486517,
          57.57639739478102,
          -24.260978191055205,
          -47.14354428478621,
          -17.190961877360223,
          -58.750781533745176,
          -45.241046799390084,
          -64.75727647157497,
          -30.176351255863743,
          9.418148599965882,
          -53.80080947800884,
          -46.41090498553121,
          -39.077553316155665,
          -55.93780824412179,
          -38.71579593295576,
          -39.53529441966066,
          14.478802138173052,
          -29.668765675463316,
          -18.735817855607493,
          -22.165070958903232,
          -40.78053736036884,
          -51.896248610547225,
          -37.414332844596686,
          -69.08312431445205,
          -39.86085057988365,
          -58.57219463567124,
          -43.01382837108461,
          -52.28110656604199,
          -58.043615672153045,
          1.0159306511292154,
          -34.53473951334208,
          -68.75139840509684,
          -2.1155069891706457,
          -32.70127851147133,
          -42.402666750408954,
          -62.143239275950776,
          -10.53149856284481,
          -22.898022718690893,
          -59.406200009850686,
          -58.31688191879023,
          -48.66358797202467,
          -24.037053067378032,
          -29.922441349614303,
          -56.61980797111051,
          -35.91089588622805,
          -22.507777632080593,
          -51.442048738226276,
          -34.20090369233988,
          -34.857247070965094,
          -52.01067703840183,
          -57.90346103713583,
          -44.438038645094856,
          -18.197167277712765,
          -44.69971257193096,
          -5.667004646225604,
          -60.05138636753065,
          -53.63040804844461,
          -50.42752882142638,
          -34.368389342753815,
          -64.20691764358396,
          -44.560431233764085,
          -38.32514660559839,
          -49.88159594194468,
          -66.08034896077723,
          -57.466853953154605,
          -63.65604809950468,
          -21.251618554313644,
          -57.844926229388285,
          -31.856329729326973,
          -57.46101796706954,
          -32.51280624084949,
          3.0568695123647904,
          -62.12824323080417,
          -67.03545969785067,
          -24.103444193154154,
          -24.92400365666828,
          -38.86912469143857,
          -55.92994247167571,
          -60.94383290877383,
          -50.79333188124977,
          -28.28824150856536,
          -65.43555992681453,
          -64.20460480462046,
          -61.19984220947242,
          25.965259146161166,
          -42.810708465958584,
          -40.91172265397126,
          -50.79163669034287
         ],
         "xaxis": "x4",
         "yaxis": "y4"
        }
       ],
       "layout": {
        "annotations": [
         {
          "font": {
           "size": 16
          },
          "showarrow": false,
          "text": "A2C",
          "x": 0.225,
          "xanchor": "center",
          "xref": "paper",
          "y": 1,
          "yanchor": "bottom",
          "yref": "paper"
         },
         {
          "font": {
           "size": 16
          },
          "showarrow": false,
          "text": "PPO",
          "x": 0.775,
          "xanchor": "center",
          "xref": "paper",
          "y": 1,
          "yanchor": "bottom",
          "yref": "paper"
         },
         {
          "font": {
           "size": 16
          },
          "showarrow": false,
          "text": "DQN",
          "x": 0.225,
          "xanchor": "center",
          "xref": "paper",
          "y": 0.375,
          "yanchor": "bottom",
          "yref": "paper"
         },
         {
          "font": {
           "size": 16
          },
          "showarrow": false,
          "text": "RANDOM",
          "x": 0.775,
          "xanchor": "center",
          "xref": "paper",
          "y": 0.375,
          "yanchor": "bottom",
          "yref": "paper"
         }
        ],
        "height": 800,
        "template": {
         "data": {
          "bar": [
           {
            "error_x": {
             "color": "#2a3f5f"
            },
            "error_y": {
             "color": "#2a3f5f"
            },
            "marker": {
             "line": {
              "color": "#E5ECF6",
              "width": 0.5
             },
             "pattern": {
              "fillmode": "overlay",
              "size": 10,
              "solidity": 0.2
             }
            },
            "type": "bar"
           }
          ],
          "barpolar": [
           {
            "marker": {
             "line": {
              "color": "#E5ECF6",
              "width": 0.5
             },
             "pattern": {
              "fillmode": "overlay",
              "size": 10,
              "solidity": 0.2
             }
            },
            "type": "barpolar"
           }
          ],
          "carpet": [
           {
            "aaxis": {
             "endlinecolor": "#2a3f5f",
             "gridcolor": "white",
             "linecolor": "white",
             "minorgridcolor": "white",
             "startlinecolor": "#2a3f5f"
            },
            "baxis": {
             "endlinecolor": "#2a3f5f",
             "gridcolor": "white",
             "linecolor": "white",
             "minorgridcolor": "white",
             "startlinecolor": "#2a3f5f"
            },
            "type": "carpet"
           }
          ],
          "choropleth": [
           {
            "colorbar": {
             "outlinewidth": 0,
             "ticks": ""
            },
            "type": "choropleth"
           }
          ],
          "contour": [
           {
            "colorbar": {
             "outlinewidth": 0,
             "ticks": ""
            },
            "colorscale": [
             [
              0,
              "#0d0887"
             ],
             [
              0.1111111111111111,
              "#46039f"
             ],
             [
              0.2222222222222222,
              "#7201a8"
             ],
             [
              0.3333333333333333,
              "#9c179e"
             ],
             [
              0.4444444444444444,
              "#bd3786"
             ],
             [
              0.5555555555555556,
              "#d8576b"
             ],
             [
              0.6666666666666666,
              "#ed7953"
             ],
             [
              0.7777777777777778,
              "#fb9f3a"
             ],
             [
              0.8888888888888888,
              "#fdca26"
             ],
             [
              1,
              "#f0f921"
             ]
            ],
            "type": "contour"
           }
          ],
          "contourcarpet": [
           {
            "colorbar": {
             "outlinewidth": 0,
             "ticks": ""
            },
            "type": "contourcarpet"
           }
          ],
          "heatmap": [
           {
            "colorbar": {
             "outlinewidth": 0,
             "ticks": ""
            },
            "colorscale": [
             [
              0,
              "#0d0887"
             ],
             [
              0.1111111111111111,
              "#46039f"
             ],
             [
              0.2222222222222222,
              "#7201a8"
             ],
             [
              0.3333333333333333,
              "#9c179e"
             ],
             [
              0.4444444444444444,
              "#bd3786"
             ],
             [
              0.5555555555555556,
              "#d8576b"
             ],
             [
              0.6666666666666666,
              "#ed7953"
             ],
             [
              0.7777777777777778,
              "#fb9f3a"
             ],
             [
              0.8888888888888888,
              "#fdca26"
             ],
             [
              1,
              "#f0f921"
             ]
            ],
            "type": "heatmap"
           }
          ],
          "heatmapgl": [
           {
            "colorbar": {
             "outlinewidth": 0,
             "ticks": ""
            },
            "colorscale": [
             [
              0,
              "#0d0887"
             ],
             [
              0.1111111111111111,
              "#46039f"
             ],
             [
              0.2222222222222222,
              "#7201a8"
             ],
             [
              0.3333333333333333,
              "#9c179e"
             ],
             [
              0.4444444444444444,
              "#bd3786"
             ],
             [
              0.5555555555555556,
              "#d8576b"
             ],
             [
              0.6666666666666666,
              "#ed7953"
             ],
             [
              0.7777777777777778,
              "#fb9f3a"
             ],
             [
              0.8888888888888888,
              "#fdca26"
             ],
             [
              1,
              "#f0f921"
             ]
            ],
            "type": "heatmapgl"
           }
          ],
          "histogram": [
           {
            "marker": {
             "pattern": {
              "fillmode": "overlay",
              "size": 10,
              "solidity": 0.2
             }
            },
            "type": "histogram"
           }
          ],
          "histogram2d": [
           {
            "colorbar": {
             "outlinewidth": 0,
             "ticks": ""
            },
            "colorscale": [
             [
              0,
              "#0d0887"
             ],
             [
              0.1111111111111111,
              "#46039f"
             ],
             [
              0.2222222222222222,
              "#7201a8"
             ],
             [
              0.3333333333333333,
              "#9c179e"
             ],
             [
              0.4444444444444444,
              "#bd3786"
             ],
             [
              0.5555555555555556,
              "#d8576b"
             ],
             [
              0.6666666666666666,
              "#ed7953"
             ],
             [
              0.7777777777777778,
              "#fb9f3a"
             ],
             [
              0.8888888888888888,
              "#fdca26"
             ],
             [
              1,
              "#f0f921"
             ]
            ],
            "type": "histogram2d"
           }
          ],
          "histogram2dcontour": [
           {
            "colorbar": {
             "outlinewidth": 0,
             "ticks": ""
            },
            "colorscale": [
             [
              0,
              "#0d0887"
             ],
             [
              0.1111111111111111,
              "#46039f"
             ],
             [
              0.2222222222222222,
              "#7201a8"
             ],
             [
              0.3333333333333333,
              "#9c179e"
             ],
             [
              0.4444444444444444,
              "#bd3786"
             ],
             [
              0.5555555555555556,
              "#d8576b"
             ],
             [
              0.6666666666666666,
              "#ed7953"
             ],
             [
              0.7777777777777778,
              "#fb9f3a"
             ],
             [
              0.8888888888888888,
              "#fdca26"
             ],
             [
              1,
              "#f0f921"
             ]
            ],
            "type": "histogram2dcontour"
           }
          ],
          "mesh3d": [
           {
            "colorbar": {
             "outlinewidth": 0,
             "ticks": ""
            },
            "type": "mesh3d"
           }
          ],
          "parcoords": [
           {
            "line": {
             "colorbar": {
              "outlinewidth": 0,
              "ticks": ""
             }
            },
            "type": "parcoords"
           }
          ],
          "pie": [
           {
            "automargin": true,
            "type": "pie"
           }
          ],
          "scatter": [
           {
            "fillpattern": {
             "fillmode": "overlay",
             "size": 10,
             "solidity": 0.2
            },
            "type": "scatter"
           }
          ],
          "scatter3d": [
           {
            "line": {
             "colorbar": {
              "outlinewidth": 0,
              "ticks": ""
             }
            },
            "marker": {
             "colorbar": {
              "outlinewidth": 0,
              "ticks": ""
             }
            },
            "type": "scatter3d"
           }
          ],
          "scattercarpet": [
           {
            "marker": {
             "colorbar": {
              "outlinewidth": 0,
              "ticks": ""
             }
            },
            "type": "scattercarpet"
           }
          ],
          "scattergeo": [
           {
            "marker": {
             "colorbar": {
              "outlinewidth": 0,
              "ticks": ""
             }
            },
            "type": "scattergeo"
           }
          ],
          "scattergl": [
           {
            "marker": {
             "colorbar": {
              "outlinewidth": 0,
              "ticks": ""
             }
            },
            "type": "scattergl"
           }
          ],
          "scattermapbox": [
           {
            "marker": {
             "colorbar": {
              "outlinewidth": 0,
              "ticks": ""
             }
            },
            "type": "scattermapbox"
           }
          ],
          "scatterpolar": [
           {
            "marker": {
             "colorbar": {
              "outlinewidth": 0,
              "ticks": ""
             }
            },
            "type": "scatterpolar"
           }
          ],
          "scatterpolargl": [
           {
            "marker": {
             "colorbar": {
              "outlinewidth": 0,
              "ticks": ""
             }
            },
            "type": "scatterpolargl"
           }
          ],
          "scatterternary": [
           {
            "marker": {
             "colorbar": {
              "outlinewidth": 0,
              "ticks": ""
             }
            },
            "type": "scatterternary"
           }
          ],
          "surface": [
           {
            "colorbar": {
             "outlinewidth": 0,
             "ticks": ""
            },
            "colorscale": [
             [
              0,
              "#0d0887"
             ],
             [
              0.1111111111111111,
              "#46039f"
             ],
             [
              0.2222222222222222,
              "#7201a8"
             ],
             [
              0.3333333333333333,
              "#9c179e"
             ],
             [
              0.4444444444444444,
              "#bd3786"
             ],
             [
              0.5555555555555556,
              "#d8576b"
             ],
             [
              0.6666666666666666,
              "#ed7953"
             ],
             [
              0.7777777777777778,
              "#fb9f3a"
             ],
             [
              0.8888888888888888,
              "#fdca26"
             ],
             [
              1,
              "#f0f921"
             ]
            ],
            "type": "surface"
           }
          ],
          "table": [
           {
            "cells": {
             "fill": {
              "color": "#EBF0F8"
             },
             "line": {
              "color": "white"
             }
            },
            "header": {
             "fill": {
              "color": "#C8D4E3"
             },
             "line": {
              "color": "white"
             }
            },
            "type": "table"
           }
          ]
         },
         "layout": {
          "annotationdefaults": {
           "arrowcolor": "#2a3f5f",
           "arrowhead": 0,
           "arrowwidth": 1
          },
          "autotypenumbers": "strict",
          "coloraxis": {
           "colorbar": {
            "outlinewidth": 0,
            "ticks": ""
           }
          },
          "colorscale": {
           "diverging": [
            [
             0,
             "#8e0152"
            ],
            [
             0.1,
             "#c51b7d"
            ],
            [
             0.2,
             "#de77ae"
            ],
            [
             0.3,
             "#f1b6da"
            ],
            [
             0.4,
             "#fde0ef"
            ],
            [
             0.5,
             "#f7f7f7"
            ],
            [
             0.6,
             "#e6f5d0"
            ],
            [
             0.7,
             "#b8e186"
            ],
            [
             0.8,
             "#7fbc41"
            ],
            [
             0.9,
             "#4d9221"
            ],
            [
             1,
             "#276419"
            ]
           ],
           "sequential": [
            [
             0,
             "#0d0887"
            ],
            [
             0.1111111111111111,
             "#46039f"
            ],
            [
             0.2222222222222222,
             "#7201a8"
            ],
            [
             0.3333333333333333,
             "#9c179e"
            ],
            [
             0.4444444444444444,
             "#bd3786"
            ],
            [
             0.5555555555555556,
             "#d8576b"
            ],
            [
             0.6666666666666666,
             "#ed7953"
            ],
            [
             0.7777777777777778,
             "#fb9f3a"
            ],
            [
             0.8888888888888888,
             "#fdca26"
            ],
            [
             1,
             "#f0f921"
            ]
           ],
           "sequentialminus": [
            [
             0,
             "#0d0887"
            ],
            [
             0.1111111111111111,
             "#46039f"
            ],
            [
             0.2222222222222222,
             "#7201a8"
            ],
            [
             0.3333333333333333,
             "#9c179e"
            ],
            [
             0.4444444444444444,
             "#bd3786"
            ],
            [
             0.5555555555555556,
             "#d8576b"
            ],
            [
             0.6666666666666666,
             "#ed7953"
            ],
            [
             0.7777777777777778,
             "#fb9f3a"
            ],
            [
             0.8888888888888888,
             "#fdca26"
            ],
            [
             1,
             "#f0f921"
            ]
           ]
          },
          "colorway": [
           "#636efa",
           "#EF553B",
           "#00cc96",
           "#ab63fa",
           "#FFA15A",
           "#19d3f3",
           "#FF6692",
           "#B6E880",
           "#FF97FF",
           "#FECB52"
          ],
          "font": {
           "color": "#2a3f5f"
          },
          "geo": {
           "bgcolor": "white",
           "lakecolor": "white",
           "landcolor": "#E5ECF6",
           "showlakes": true,
           "showland": true,
           "subunitcolor": "white"
          },
          "hoverlabel": {
           "align": "left"
          },
          "hovermode": "closest",
          "mapbox": {
           "style": "light"
          },
          "paper_bgcolor": "white",
          "plot_bgcolor": "#E5ECF6",
          "polar": {
           "angularaxis": {
            "gridcolor": "white",
            "linecolor": "white",
            "ticks": ""
           },
           "bgcolor": "#E5ECF6",
           "radialaxis": {
            "gridcolor": "white",
            "linecolor": "white",
            "ticks": ""
           }
          },
          "scene": {
           "xaxis": {
            "backgroundcolor": "#E5ECF6",
            "gridcolor": "white",
            "gridwidth": 2,
            "linecolor": "white",
            "showbackground": true,
            "ticks": "",
            "zerolinecolor": "white"
           },
           "yaxis": {
            "backgroundcolor": "#E5ECF6",
            "gridcolor": "white",
            "gridwidth": 2,
            "linecolor": "white",
            "showbackground": true,
            "ticks": "",
            "zerolinecolor": "white"
           },
           "zaxis": {
            "backgroundcolor": "#E5ECF6",
            "gridcolor": "white",
            "gridwidth": 2,
            "linecolor": "white",
            "showbackground": true,
            "ticks": "",
            "zerolinecolor": "white"
           }
          },
          "shapedefaults": {
           "line": {
            "color": "#2a3f5f"
           }
          },
          "ternary": {
           "aaxis": {
            "gridcolor": "white",
            "linecolor": "white",
            "ticks": ""
           },
           "baxis": {
            "gridcolor": "white",
            "linecolor": "white",
            "ticks": ""
           },
           "bgcolor": "#E5ECF6",
           "caxis": {
            "gridcolor": "white",
            "linecolor": "white",
            "ticks": ""
           }
          },
          "title": {
           "x": 0.05
          },
          "xaxis": {
           "automargin": true,
           "gridcolor": "white",
           "linecolor": "white",
           "ticks": "",
           "title": {
            "standoff": 15
           },
           "zerolinecolor": "white",
           "zerolinewidth": 2
          },
          "yaxis": {
           "automargin": true,
           "gridcolor": "white",
           "linecolor": "white",
           "ticks": "",
           "title": {
            "standoff": 15
           },
           "zerolinecolor": "white",
           "zerolinewidth": 2
          }
         }
        },
        "title": {
         "text": "Total Profit Percentage (in %) x different time-to-chart (Across different models) <br>ccy:BTCUSDT - time-to-chart:1d",
         "x": 0.5
        },
        "width": 1200,
        "xaxis": {
         "anchor": "y",
         "domain": [
          0,
          0.45
         ],
         "matches": "x3",
         "showticklabels": false,
         "title": {
          "standoff": 25,
          "text": "Total Profit Percentage (in %)"
         }
        },
        "xaxis2": {
         "anchor": "y2",
         "domain": [
          0.55,
          1
         ],
         "matches": "x3",
         "showticklabels": false,
         "title": {
          "standoff": 25,
          "text": "Total Profit Percentage (in %)"
         }
        },
        "xaxis3": {
         "anchor": "y3",
         "domain": [
          0,
          0.45
         ],
         "title": {
          "standoff": 25,
          "text": "Total Profit Percentage (in %)"
         }
        },
        "xaxis4": {
         "anchor": "y4",
         "domain": [
          0.55,
          1
         ],
         "matches": "x3",
         "title": {
          "standoff": 25,
          "text": "Total Profit Percentage (in %)"
         }
        },
        "yaxis": {
         "anchor": "x",
         "domain": [
          0.625,
          1
         ],
         "matches": "y3",
         "title": {
          "standoff": 25,
          "text": "Number of simulations"
         }
        },
        "yaxis2": {
         "anchor": "x2",
         "domain": [
          0.625,
          1
         ],
         "matches": "y3",
         "showticklabels": false,
         "title": {
          "standoff": 25,
          "text": "Number of simulations"
         }
        },
        "yaxis3": {
         "anchor": "x3",
         "domain": [
          0,
          0.375
         ],
         "title": {
          "standoff": 25,
          "text": "Number of simulations"
         }
        },
        "yaxis4": {
         "anchor": "x4",
         "domain": [
          0,
          0.375
         ],
         "matches": "y3",
         "showticklabels": false,
         "title": {
          "standoff": 25,
          "text": "Number of simulations"
         }
        }
       }
      }
     },
     "metadata": {},
     "output_type": "display_data"
    }
   ],
   "source": [
    "fig_output = get_histogramplot_total_profit_diff_feature(df_sim_results, list_timestamp[0])"
   ]
  },
  {
   "cell_type": "code",
   "execution_count": 84,
   "metadata": {},
   "outputs": [
    {
     "data": {
      "application/vnd.plotly.v1+json": {
       "config": {
        "plotlyServerURL": "https://plot.ly"
       },
       "data": [
        {
         "legendgroup": "1",
         "marker": {
          "color": "blue",
          "size": 10,
          "symbol": "circle"
         },
         "mode": "markers+text",
         "name": "A2C: 1",
         "type": "scatter",
         "x": [
          -45.82733322388026,
          -45.82733322388026
         ],
         "y": [
          3
         ]
        },
        {
         "legendgroup": "1",
         "marker": {
          "color": "grey",
          "size": 10,
          "symbol": "circle"
         },
         "mode": "markers+text",
         "name": "A2C:2",
         "type": "scatter",
         "x": [
          -40.7946350963213,
          -40.7946350963213
         ],
         "y": [
          3
         ]
        },
        {
         "legendgroup": "1",
         "marker": {
          "color": "red",
          "size": 10,
          "symbol": "circle"
         },
         "mode": "markers+text",
         "name": "A2C:3",
         "type": "scatter",
         "x": [
          -46.68836309512855,
          -46.68836309512855
         ],
         "y": [
          3
         ]
        },
        {
         "legendgroup": "2",
         "marker": {
          "color": "blue",
          "size": 10,
          "symbol": "square"
         },
         "mode": "markers",
         "name": "PPO: 1",
         "type": "scatter",
         "x": [
          -45.8324264904997,
          -45.8324264904997
         ],
         "y": [
          2
         ]
        },
        {
         "legendgroup": "2",
         "marker": {
          "color": "grey",
          "size": 10,
          "symbol": "square"
         },
         "mode": "markers",
         "name": "PPO: 2",
         "type": "scatter",
         "x": [
          -41.14485625882271,
          -41.14485625882271
         ],
         "y": [
          2
         ]
        },
        {
         "legendgroup": "2",
         "marker": {
          "color": "red",
          "size": 10,
          "symbol": "square"
         },
         "mode": "markers",
         "name": "PPO: 3",
         "type": "scatter",
         "x": [
          -39.2134928790602,
          -39.2134928790602
         ],
         "y": [
          2
         ]
        },
        {
         "legendgroup": "3",
         "marker": {
          "color": "blue",
          "size": 10,
          "symbol": "diamond"
         },
         "mode": "markers",
         "name": "DQN: 1",
         "type": "scatter",
         "x": [
          -22.975678991312158,
          -22.975678991312158
         ],
         "y": [
          1
         ]
        },
        {
         "legendgroup": "3",
         "marker": {
          "color": "grey",
          "size": 10,
          "symbol": "diamond"
         },
         "mode": "markers",
         "name": "DQN: 2",
         "type": "scatter",
         "x": [
          -30.163229496903213,
          -30.163229496903213
         ],
         "y": [
          1
         ]
        },
        {
         "legendgroup": "3",
         "marker": {
          "color": "red",
          "size": 10,
          "symbol": "diamond"
         },
         "mode": "markers",
         "name": "DQN: 3",
         "type": "scatter",
         "x": [
          -27.564529052103403,
          -27.564529052103403
         ],
         "y": [
          1
         ]
        },
        {
         "legendgroup": "4",
         "marker": {
          "color": "blue",
          "size": 10,
          "symbol": "cross"
         },
         "mode": "markers+text",
         "name": "RANDOM: 1",
         "type": "scatter",
         "x": [
          -40.815360278510695,
          -40.815360278510695
         ],
         "y": [
          0
         ]
        },
        {
         "legendgroup": "4",
         "marker": {
          "color": "grey",
          "size": 10,
          "symbol": "cross"
         },
         "mode": "markers+text",
         "name": "RANDOM: 2",
         "type": "scatter",
         "x": [
          -44.892160317674666,
          -44.892160317674666
         ],
         "y": [
          0
         ]
        },
        {
         "legendgroup": "4",
         "marker": {
          "color": "red",
          "size": 10,
          "symbol": "cross"
         },
         "mode": "markers+text",
         "name": "RANDOM: 3",
         "type": "scatter",
         "x": [
          -44.053962612262865,
          -44.053962612262865
         ],
         "y": [
          0
         ]
        }
       ],
       "layout": {
        "annotations": [
         {
          "align": "center",
          "text": "-45.8273",
          "textangle": 45,
          "x": -45.82733322388026,
          "xanchor": "center",
          "xref": "x",
          "y": 3,
          "yref": "y"
         },
         {
          "align": "center",
          "text": "-40.7946",
          "textangle": 45,
          "x": -40.7946350963213,
          "xanchor": "center",
          "xref": "x",
          "y": 3,
          "yref": "y"
         },
         {
          "align": "center",
          "text": "-46.6884",
          "textangle": 45,
          "x": -46.68836309512855,
          "xanchor": "center",
          "xref": "x",
          "y": 3,
          "yref": "y"
         },
         {
          "align": "center",
          "text": "-45.8324",
          "textangle": 45,
          "x": -45.8324264904997,
          "xanchor": "center",
          "xref": "x",
          "y": 2,
          "yref": "y"
         },
         {
          "align": "center",
          "text": "-41.1449",
          "textangle": 45,
          "x": -41.14485625882271,
          "xanchor": "center",
          "xref": "x",
          "y": 2,
          "yref": "y"
         },
         {
          "align": "center",
          "text": "-39.2135",
          "textangle": 45,
          "x": -39.2134928790602,
          "xanchor": "center",
          "xref": "x",
          "y": 2,
          "yref": "y"
         },
         {
          "align": "center",
          "text": "-22.9757",
          "textangle": 45,
          "x": -22.975678991312158,
          "xanchor": "center",
          "xref": "x",
          "y": 1,
          "yref": "y"
         },
         {
          "align": "center",
          "text": "-30.1632",
          "textangle": 45,
          "x": -30.163229496903213,
          "xanchor": "center",
          "xref": "x",
          "y": 1,
          "yref": "y"
         },
         {
          "align": "center",
          "text": "-27.5645",
          "textangle": 45,
          "x": -27.564529052103403,
          "xanchor": "center",
          "xref": "x",
          "y": 1,
          "yref": "y"
         },
         {
          "align": "center",
          "text": "-40.8154",
          "textangle": 45,
          "x": -40.815360278510695,
          "xanchor": "center",
          "xref": "x",
          "y": 0,
          "yref": "y"
         },
         {
          "align": "center",
          "text": "-44.8922",
          "textangle": 45,
          "x": -44.892160317674666,
          "xanchor": "center",
          "xref": "x",
          "y": 0,
          "yref": "y"
         },
         {
          "align": "center",
          "text": "-44.054",
          "textangle": 45,
          "x": -44.053962612262865,
          "xanchor": "center",
          "xref": "x",
          "y": 0,
          "yref": "y"
         }
        ],
        "height": 800,
        "legend": {
         "tracegroupgap": 125
        },
        "template": {
         "data": {
          "bar": [
           {
            "error_x": {
             "color": "#2a3f5f"
            },
            "error_y": {
             "color": "#2a3f5f"
            },
            "marker": {
             "line": {
              "color": "#E5ECF6",
              "width": 0.5
             },
             "pattern": {
              "fillmode": "overlay",
              "size": 10,
              "solidity": 0.2
             }
            },
            "type": "bar"
           }
          ],
          "barpolar": [
           {
            "marker": {
             "line": {
              "color": "#E5ECF6",
              "width": 0.5
             },
             "pattern": {
              "fillmode": "overlay",
              "size": 10,
              "solidity": 0.2
             }
            },
            "type": "barpolar"
           }
          ],
          "carpet": [
           {
            "aaxis": {
             "endlinecolor": "#2a3f5f",
             "gridcolor": "white",
             "linecolor": "white",
             "minorgridcolor": "white",
             "startlinecolor": "#2a3f5f"
            },
            "baxis": {
             "endlinecolor": "#2a3f5f",
             "gridcolor": "white",
             "linecolor": "white",
             "minorgridcolor": "white",
             "startlinecolor": "#2a3f5f"
            },
            "type": "carpet"
           }
          ],
          "choropleth": [
           {
            "colorbar": {
             "outlinewidth": 0,
             "ticks": ""
            },
            "type": "choropleth"
           }
          ],
          "contour": [
           {
            "colorbar": {
             "outlinewidth": 0,
             "ticks": ""
            },
            "colorscale": [
             [
              0,
              "#0d0887"
             ],
             [
              0.1111111111111111,
              "#46039f"
             ],
             [
              0.2222222222222222,
              "#7201a8"
             ],
             [
              0.3333333333333333,
              "#9c179e"
             ],
             [
              0.4444444444444444,
              "#bd3786"
             ],
             [
              0.5555555555555556,
              "#d8576b"
             ],
             [
              0.6666666666666666,
              "#ed7953"
             ],
             [
              0.7777777777777778,
              "#fb9f3a"
             ],
             [
              0.8888888888888888,
              "#fdca26"
             ],
             [
              1,
              "#f0f921"
             ]
            ],
            "type": "contour"
           }
          ],
          "contourcarpet": [
           {
            "colorbar": {
             "outlinewidth": 0,
             "ticks": ""
            },
            "type": "contourcarpet"
           }
          ],
          "heatmap": [
           {
            "colorbar": {
             "outlinewidth": 0,
             "ticks": ""
            },
            "colorscale": [
             [
              0,
              "#0d0887"
             ],
             [
              0.1111111111111111,
              "#46039f"
             ],
             [
              0.2222222222222222,
              "#7201a8"
             ],
             [
              0.3333333333333333,
              "#9c179e"
             ],
             [
              0.4444444444444444,
              "#bd3786"
             ],
             [
              0.5555555555555556,
              "#d8576b"
             ],
             [
              0.6666666666666666,
              "#ed7953"
             ],
             [
              0.7777777777777778,
              "#fb9f3a"
             ],
             [
              0.8888888888888888,
              "#fdca26"
             ],
             [
              1,
              "#f0f921"
             ]
            ],
            "type": "heatmap"
           }
          ],
          "heatmapgl": [
           {
            "colorbar": {
             "outlinewidth": 0,
             "ticks": ""
            },
            "colorscale": [
             [
              0,
              "#0d0887"
             ],
             [
              0.1111111111111111,
              "#46039f"
             ],
             [
              0.2222222222222222,
              "#7201a8"
             ],
             [
              0.3333333333333333,
              "#9c179e"
             ],
             [
              0.4444444444444444,
              "#bd3786"
             ],
             [
              0.5555555555555556,
              "#d8576b"
             ],
             [
              0.6666666666666666,
              "#ed7953"
             ],
             [
              0.7777777777777778,
              "#fb9f3a"
             ],
             [
              0.8888888888888888,
              "#fdca26"
             ],
             [
              1,
              "#f0f921"
             ]
            ],
            "type": "heatmapgl"
           }
          ],
          "histogram": [
           {
            "marker": {
             "pattern": {
              "fillmode": "overlay",
              "size": 10,
              "solidity": 0.2
             }
            },
            "type": "histogram"
           }
          ],
          "histogram2d": [
           {
            "colorbar": {
             "outlinewidth": 0,
             "ticks": ""
            },
            "colorscale": [
             [
              0,
              "#0d0887"
             ],
             [
              0.1111111111111111,
              "#46039f"
             ],
             [
              0.2222222222222222,
              "#7201a8"
             ],
             [
              0.3333333333333333,
              "#9c179e"
             ],
             [
              0.4444444444444444,
              "#bd3786"
             ],
             [
              0.5555555555555556,
              "#d8576b"
             ],
             [
              0.6666666666666666,
              "#ed7953"
             ],
             [
              0.7777777777777778,
              "#fb9f3a"
             ],
             [
              0.8888888888888888,
              "#fdca26"
             ],
             [
              1,
              "#f0f921"
             ]
            ],
            "type": "histogram2d"
           }
          ],
          "histogram2dcontour": [
           {
            "colorbar": {
             "outlinewidth": 0,
             "ticks": ""
            },
            "colorscale": [
             [
              0,
              "#0d0887"
             ],
             [
              0.1111111111111111,
              "#46039f"
             ],
             [
              0.2222222222222222,
              "#7201a8"
             ],
             [
              0.3333333333333333,
              "#9c179e"
             ],
             [
              0.4444444444444444,
              "#bd3786"
             ],
             [
              0.5555555555555556,
              "#d8576b"
             ],
             [
              0.6666666666666666,
              "#ed7953"
             ],
             [
              0.7777777777777778,
              "#fb9f3a"
             ],
             [
              0.8888888888888888,
              "#fdca26"
             ],
             [
              1,
              "#f0f921"
             ]
            ],
            "type": "histogram2dcontour"
           }
          ],
          "mesh3d": [
           {
            "colorbar": {
             "outlinewidth": 0,
             "ticks": ""
            },
            "type": "mesh3d"
           }
          ],
          "parcoords": [
           {
            "line": {
             "colorbar": {
              "outlinewidth": 0,
              "ticks": ""
             }
            },
            "type": "parcoords"
           }
          ],
          "pie": [
           {
            "automargin": true,
            "type": "pie"
           }
          ],
          "scatter": [
           {
            "fillpattern": {
             "fillmode": "overlay",
             "size": 10,
             "solidity": 0.2
            },
            "type": "scatter"
           }
          ],
          "scatter3d": [
           {
            "line": {
             "colorbar": {
              "outlinewidth": 0,
              "ticks": ""
             }
            },
            "marker": {
             "colorbar": {
              "outlinewidth": 0,
              "ticks": ""
             }
            },
            "type": "scatter3d"
           }
          ],
          "scattercarpet": [
           {
            "marker": {
             "colorbar": {
              "outlinewidth": 0,
              "ticks": ""
             }
            },
            "type": "scattercarpet"
           }
          ],
          "scattergeo": [
           {
            "marker": {
             "colorbar": {
              "outlinewidth": 0,
              "ticks": ""
             }
            },
            "type": "scattergeo"
           }
          ],
          "scattergl": [
           {
            "marker": {
             "colorbar": {
              "outlinewidth": 0,
              "ticks": ""
             }
            },
            "type": "scattergl"
           }
          ],
          "scattermapbox": [
           {
            "marker": {
             "colorbar": {
              "outlinewidth": 0,
              "ticks": ""
             }
            },
            "type": "scattermapbox"
           }
          ],
          "scatterpolar": [
           {
            "marker": {
             "colorbar": {
              "outlinewidth": 0,
              "ticks": ""
             }
            },
            "type": "scatterpolar"
           }
          ],
          "scatterpolargl": [
           {
            "marker": {
             "colorbar": {
              "outlinewidth": 0,
              "ticks": ""
             }
            },
            "type": "scatterpolargl"
           }
          ],
          "scatterternary": [
           {
            "marker": {
             "colorbar": {
              "outlinewidth": 0,
              "ticks": ""
             }
            },
            "type": "scatterternary"
           }
          ],
          "surface": [
           {
            "colorbar": {
             "outlinewidth": 0,
             "ticks": ""
            },
            "colorscale": [
             [
              0,
              "#0d0887"
             ],
             [
              0.1111111111111111,
              "#46039f"
             ],
             [
              0.2222222222222222,
              "#7201a8"
             ],
             [
              0.3333333333333333,
              "#9c179e"
             ],
             [
              0.4444444444444444,
              "#bd3786"
             ],
             [
              0.5555555555555556,
              "#d8576b"
             ],
             [
              0.6666666666666666,
              "#ed7953"
             ],
             [
              0.7777777777777778,
              "#fb9f3a"
             ],
             [
              0.8888888888888888,
              "#fdca26"
             ],
             [
              1,
              "#f0f921"
             ]
            ],
            "type": "surface"
           }
          ],
          "table": [
           {
            "cells": {
             "fill": {
              "color": "#EBF0F8"
             },
             "line": {
              "color": "white"
             }
            },
            "header": {
             "fill": {
              "color": "#C8D4E3"
             },
             "line": {
              "color": "white"
             }
            },
            "type": "table"
           }
          ]
         },
         "layout": {
          "annotationdefaults": {
           "arrowcolor": "#2a3f5f",
           "arrowhead": 0,
           "arrowwidth": 1
          },
          "autotypenumbers": "strict",
          "coloraxis": {
           "colorbar": {
            "outlinewidth": 0,
            "ticks": ""
           }
          },
          "colorscale": {
           "diverging": [
            [
             0,
             "#8e0152"
            ],
            [
             0.1,
             "#c51b7d"
            ],
            [
             0.2,
             "#de77ae"
            ],
            [
             0.3,
             "#f1b6da"
            ],
            [
             0.4,
             "#fde0ef"
            ],
            [
             0.5,
             "#f7f7f7"
            ],
            [
             0.6,
             "#e6f5d0"
            ],
            [
             0.7,
             "#b8e186"
            ],
            [
             0.8,
             "#7fbc41"
            ],
            [
             0.9,
             "#4d9221"
            ],
            [
             1,
             "#276419"
            ]
           ],
           "sequential": [
            [
             0,
             "#0d0887"
            ],
            [
             0.1111111111111111,
             "#46039f"
            ],
            [
             0.2222222222222222,
             "#7201a8"
            ],
            [
             0.3333333333333333,
             "#9c179e"
            ],
            [
             0.4444444444444444,
             "#bd3786"
            ],
            [
             0.5555555555555556,
             "#d8576b"
            ],
            [
             0.6666666666666666,
             "#ed7953"
            ],
            [
             0.7777777777777778,
             "#fb9f3a"
            ],
            [
             0.8888888888888888,
             "#fdca26"
            ],
            [
             1,
             "#f0f921"
            ]
           ],
           "sequentialminus": [
            [
             0,
             "#0d0887"
            ],
            [
             0.1111111111111111,
             "#46039f"
            ],
            [
             0.2222222222222222,
             "#7201a8"
            ],
            [
             0.3333333333333333,
             "#9c179e"
            ],
            [
             0.4444444444444444,
             "#bd3786"
            ],
            [
             0.5555555555555556,
             "#d8576b"
            ],
            [
             0.6666666666666666,
             "#ed7953"
            ],
            [
             0.7777777777777778,
             "#fb9f3a"
            ],
            [
             0.8888888888888888,
             "#fdca26"
            ],
            [
             1,
             "#f0f921"
            ]
           ]
          },
          "colorway": [
           "#636efa",
           "#EF553B",
           "#00cc96",
           "#ab63fa",
           "#FFA15A",
           "#19d3f3",
           "#FF6692",
           "#B6E880",
           "#FF97FF",
           "#FECB52"
          ],
          "font": {
           "color": "#2a3f5f"
          },
          "geo": {
           "bgcolor": "white",
           "lakecolor": "white",
           "landcolor": "#E5ECF6",
           "showlakes": true,
           "showland": true,
           "subunitcolor": "white"
          },
          "hoverlabel": {
           "align": "left"
          },
          "hovermode": "closest",
          "mapbox": {
           "style": "light"
          },
          "paper_bgcolor": "white",
          "plot_bgcolor": "#E5ECF6",
          "polar": {
           "angularaxis": {
            "gridcolor": "white",
            "linecolor": "white",
            "ticks": ""
           },
           "bgcolor": "#E5ECF6",
           "radialaxis": {
            "gridcolor": "white",
            "linecolor": "white",
            "ticks": ""
           }
          },
          "scene": {
           "xaxis": {
            "backgroundcolor": "#E5ECF6",
            "gridcolor": "white",
            "gridwidth": 2,
            "linecolor": "white",
            "showbackground": true,
            "ticks": "",
            "zerolinecolor": "white"
           },
           "yaxis": {
            "backgroundcolor": "#E5ECF6",
            "gridcolor": "white",
            "gridwidth": 2,
            "linecolor": "white",
            "showbackground": true,
            "ticks": "",
            "zerolinecolor": "white"
           },
           "zaxis": {
            "backgroundcolor": "#E5ECF6",
            "gridcolor": "white",
            "gridwidth": 2,
            "linecolor": "white",
            "showbackground": true,
            "ticks": "",
            "zerolinecolor": "white"
           }
          },
          "shapedefaults": {
           "line": {
            "color": "#2a3f5f"
           }
          },
          "ternary": {
           "aaxis": {
            "gridcolor": "white",
            "linecolor": "white",
            "ticks": ""
           },
           "baxis": {
            "gridcolor": "white",
            "linecolor": "white",
            "ticks": ""
           },
           "bgcolor": "#E5ECF6",
           "caxis": {
            "gridcolor": "white",
            "linecolor": "white",
            "ticks": ""
           }
          },
          "title": {
           "x": 0.05
          },
          "xaxis": {
           "automargin": true,
           "gridcolor": "white",
           "linecolor": "white",
           "ticks": "",
           "title": {
            "standoff": 15
           },
           "zerolinecolor": "white",
           "zerolinewidth": 2
          },
          "yaxis": {
           "automargin": true,
           "gridcolor": "white",
           "linecolor": "white",
           "ticks": "",
           "title": {
            "standoff": 15
           },
           "zerolinecolor": "white",
           "zerolinewidth": 2
          }
         }
        },
        "title": {
         "text": "MEDIAN : Total Profit Percentage (in %) x different time-to-chart (Across different models) <br>ccy:BTCUSDT - time-to-chart:1d",
         "x": 0.5
        },
        "width": 1200,
        "xaxis": {
         "title": {
          "standoff": 25,
          "text": "Total Profit Percentage (in %)"
         }
        },
        "yaxis": {
         "showticklabels": false
        }
       }
      }
     },
     "metadata": {},
     "output_type": "display_data"
    }
   ],
   "source": [
    "fig_output = get_meanplot_total_profit_diff_time_feature(df_sim_results, list_timestamp[0])"
   ]
  },
  {
   "attachments": {},
   "cell_type": "markdown",
   "metadata": {},
   "source": [
    "### `ccy=BTCUSDT` & `time-to-chart=1h`"
   ]
  },
  {
   "attachments": {},
   "cell_type": "markdown",
   "metadata": {},
   "source": [
    "#### Parameters"
   ]
  },
  {
   "cell_type": "code",
   "execution_count": 85,
   "metadata": {},
   "outputs": [],
   "source": [
    "#list_ccy = ['BTCUSDT', 'BNBUSDT', 'ETHUSDT']\n",
    "#list_timestamp = [\"1d\", \"1h\", \"15m\", \"5m\"]\n",
    "#list_feat = ['1', '2', '3']\n",
    "\n",
    "list_ccy = ['BTCUSDT']\n",
    "#list_timestamp = [\"1d\", \"1h\", \"15m\", \"5m\"]\n",
    "list_timestamp = [\"1h\"]\n",
    "list_feat = ['1', '2', '3']\n",
    "\n",
    "list_config_file_name = []\n",
    "for ccy in list_ccy:\n",
    "    for timestamp in list_timestamp:\n",
    "        for feat in list_feat:\n",
    "            config_file_name = \"config_msc_\" + ccy + \"_\" + timestamp + \"_feat_package\" + feat\n",
    "            list_config_file_name.append(config_file_name)"
   ]
  },
  {
   "attachments": {},
   "cell_type": "markdown",
   "metadata": {},
   "source": [
    "#### Get the data"
   ]
  },
  {
   "cell_type": "code",
   "execution_count": 86,
   "metadata": {},
   "outputs": [],
   "source": [
    "df_sim_results = pd.DataFrame()\n",
    "for config_file_name in list_config_file_name:\n",
    "    df_sim_results_temp = get_and_process_simulation_data(config_file_name)\n",
    "    df_sim_results_temp['feat_package'] = int(config_file_name[-1])\n",
    "    df_sim_results = pd.concat([df_sim_results, df_sim_results_temp], axis=0)"
   ]
  },
  {
   "attachments": {},
   "cell_type": "markdown",
   "metadata": {},
   "source": [
    "#### Plot the results"
   ]
  },
  {
   "cell_type": "code",
   "execution_count": 87,
   "metadata": {},
   "outputs": [
    {
     "data": {
      "application/vnd.plotly.v1+json": {
       "config": {
        "plotlyServerURL": "https://plot.ly"
       },
       "data": [
        {
         "line": {
          "color": "blue"
         },
         "name": "1",
         "showlegend": false,
         "type": "box",
         "xaxis": "x",
         "y": [
          -20.406542510581883,
          -37.00974144204535,
          -5.622929374605812,
          -36.067694114121394,
          -41.24862915858494,
          -7.542743944656771,
          -11.730789439472488,
          -53.37047610386681,
          -19.249034652293805,
          -34.07926504605584,
          -27.23824646179569,
          -26.65838150355776,
          -28.979047458941565,
          -45.55453229698168,
          4.076907144734143,
          -20.509530778627337,
          -34.85967937062778,
          -25.339847345004994,
          -64.44133088908143,
          -40.780087900577364,
          -45.78836590715147,
          -26.890239322403897,
          -16.338707142266905,
          -9.523548805572336,
          -43.04439686990897,
          -26.965434157609337,
          -12.15971910902639,
          33.95937296771334,
          -24.145899698628558,
          -55.724122768231965,
          -15.27343951589354,
          -13.703353539127916,
          -31.49718370446053,
          -20.480316071198267,
          -21.39880412998403,
          -34.03838008476923,
          -40.08569048489632,
          -37.739310307981086,
          -20.118731774821008,
          -59.83121130527318,
          -24.366435513998663,
          -47.547403479242234,
          -48.923651828729255,
          -38.778694192038934,
          -41.783975852150114,
          17.826960676204173,
          -49.80421156073055,
          0.6641052888670673,
          -18.791510762162922,
          14.66312575133546,
          -39.67248936693613,
          -35.05670346877228,
          -47.17452436798427,
          -29.049723332619394,
          38.45888507842812,
          -41.922643191204486,
          -35.65394899715717,
          -32.34580565436551,
          -42.935560003200465,
          -36.958490226112374,
          -14.985716678282246,
          -15.58315807939411,
          -64.46468034186454,
          -12.554684281773154,
          -23.402064071027738,
          -17.773175502800953,
          -10.481309897413492,
          30.98936319307537,
          -56.884920404735496,
          15.89801676405238,
          -36.200456175424186,
          -41.564676379809804,
          -48.361111074702954,
          11.486806574719521,
          -15.043410265527314,
          -14.527166775891043,
          -33.45670867935196,
          -50.501123558488835,
          -30.929325341596503,
          -53.688804315586204,
          -37.727803493435886,
          -37.04278626535369,
          -53.158713397277815,
          -49.49318875698692,
          -33.4152276764608,
          5.3958317460341965,
          -30.98085738704228,
          -14.671540349315027,
          -1.473235328771183,
          -2.150574719771148,
          -25.234346444724977,
          -43.759959406751584,
          -50.99595779002303,
          -36.95489591704442,
          -17.06000075186459,
          -39.43272675902865,
          -3.981686847123289,
          -48.289319970432686,
          -17.157735016712326,
          -18.745691423721745
         ],
         "yaxis": "y"
        },
        {
         "line": {
          "color": "grey"
         },
         "name": "2",
         "showlegend": false,
         "type": "box",
         "xaxis": "x",
         "y": [
          -5.314654645749862,
          2.8732003553064933,
          4.703848599301308,
          -30.43273268731248,
          -35.47069800117308,
          3.261653340301973,
          -38.980234458942405,
          -42.8208352176488,
          -19.61899409192628,
          -18.62356246275809,
          -9.003797714600259,
          -46.10184713698845,
          -14.958815359059418,
          -10.947791858822898,
          -39.830661274506426,
          -27.0149436461425,
          -4.150530057964163,
          -14.638352675381238,
          -27.310328004708307,
          7.73841430107256,
          -32.066490577478405,
          5.180636785812887,
          -53.990521171270146,
          -23.244883209813406,
          -65.80382839556135,
          -47.61629895774788,
          -13.140535451912871,
          -27.089968418756317,
          -22.333983732764707,
          -7.845823429892896,
          -21.035688314622657,
          -37.619311317176276,
          -41.97072375877966,
          -35.061244063558064,
          -39.297525934577635,
          -24.484152059253017,
          -12.160330200922974,
          9.304003051565445,
          -36.07732788613448,
          -50.207019904637264,
          -43.8338941405862,
          0.19689808004499376,
          -34.65416890602167,
          3.2163083910363044,
          2.243078010402244,
          -5.260940887089472,
          5.891717421239107,
          -5.2467269458488675,
          -17.951027612365223,
          -36.2937879742216,
          -43.30118409213439,
          -52.918181238787334,
          -52.74206886944369,
          -44.134670222769024,
          -19.679567642896068,
          -14.514777365216403,
          -55.82438331761015,
          6.107777882927312,
          -31.20388156402193,
          -24.555142034456757,
          -38.86128004314556,
          -48.11691452622112,
          -3.5517719294536065,
          -59.900096043721106,
          -22.4325397977273,
          -35.44286648784956,
          -49.68119983406524,
          -31.070635900401513,
          9.397095743508777,
          -21.071628020482024,
          -18.079221628467714,
          -42.1511773531152,
          -40.66086469700137,
          -14.880096624639606,
          -50.46081565073271,
          -22.678084773174266,
          -22.994550823904337,
          88.78265323898984,
          -28.788537450545515,
          -22.55801208452577,
          -42.54597464934516,
          -1.4739116604508773,
          -39.89234955522326,
          5.320769258394531,
          -48.78964419463633,
          -42.61623948983277,
          -15.692553956126364,
          -56.465168327418645,
          -42.39674579652974,
          -40.53281043571304,
          -39.1434208923949,
          -24.763186277232997,
          12.304256092724408,
          -56.00656653269161,
          -40.406067669260224,
          -62.61287467278505,
          -9.977519252744937,
          -34.057506375937194,
          35.91549668735667,
          -49.08151092961821
         ],
         "yaxis": "y"
        },
        {
         "line": {
          "color": "red"
         },
         "name": "3",
         "showlegend": false,
         "type": "box",
         "xaxis": "x",
         "y": [
          -35.70749434689675,
          -50.97942752774731,
          -42.04534188370286,
          -42.23912716376896,
          -70.04121408476483,
          -60.1826108066686,
          -53.451653379699984,
          -59.137892883031405,
          -63.33882718701307,
          -38.45115338266931,
          -54.325487036274836,
          -55.13692712954816,
          -72.94304571926136,
          -61.24315680795569,
          -37.262565668420436,
          -69.91895506276961,
          -60.40960193122977,
          -43.434902229517114,
          -66.67961494278138,
          -64.85004883771384,
          -40.01962951222258,
          -45.89438938120601,
          -61.34894150989831,
          -52.44427609064783,
          -56.87521251133894,
          -49.60074153032667,
          -50.76407481028288,
          -21.56417652423508,
          -56.46687109752329,
          -59.018620638985354,
          -51.41860472956693,
          -60.68592986547645,
          -54.35719021824409,
          -47.33567013315204,
          -65.33837582367863,
          -66.34788354500172,
          -50.83122894212359,
          -41.95022817362536,
          -63.45393009411201,
          -18.282260340606836,
          -55.4959964172111,
          -56.482502408776504,
          -62.10013232588613,
          -44.062433135517445,
          -32.130852670803925,
          -73.48010956675218,
          -54.25909472756605,
          -55.4791222214655,
          -60.12726041596235,
          -67.30184844530372,
          -69.53034915835988,
          -48.09223668035233,
          -27.9874459746148,
          -12.360629905339016,
          -51.7341571549043,
          -70.3374397283066,
          -54.39931848696183,
          -60.358708233186164,
          -52.180999302550205,
          -65.78833735373254,
          -32.48192224079299,
          -53.20168868382575,
          -44.687834492870515,
          -74.03331772668949,
          -60.83139726022735,
          -60.89480765525119,
          -54.14259121180631,
          -52.75390974287364,
          -7.776483182046334,
          -23.99704593433356,
          -48.65345597391665,
          -40.08254983712708,
          -33.50583224985348,
          -47.15824967212563,
          -54.80487092744957,
          -30.044989848702784,
          -25.659039373192705,
          -23.277110258897103,
          -50.468688841361256,
          -64.09691078084656,
          -58.11808300309353,
          -64.20108979924177,
          -46.10666787300176,
          -66.27047644218172,
          -73.9733609303046,
          -68.8017529830232,
          -42.463877920322325,
          -60.78223964643909,
          -59.91584661006677,
          -53.40836582717954,
          -52.09937231399846,
          -62.610931609688905,
          -38.7288566759747,
          -59.29341883900238,
          -61.196701455894065,
          -48.89456463908509,
          -60.44861960050629,
          -51.57808924235441,
          -65.8745305008763,
          -65.4071837166597
         ],
         "yaxis": "y"
        },
        {
         "line": {
          "color": "blue"
         },
         "name": "1",
         "showlegend": false,
         "type": "box",
         "xaxis": "x2",
         "y": [
          3.652539980303904,
          -50.65184557246154,
          -20.058622608282473,
          -59.65912076432127,
          -40.147950419973114,
          -62.11907651306581,
          -37.8687121255186,
          -5.988291404461766,
          -4.798719979675258,
          -48.953458928866176,
          -5.506198949123675,
          -52.87802949766669,
          -58.748340560326604,
          -55.46821927236958,
          -32.00662793217,
          -30.331532495669645,
          -37.40669051191545,
          -50.97887374380263,
          -28.528051195646675,
          -45.36183304573075,
          -53.23549135517389,
          5.6108748690228305,
          -43.152461966898805,
          -60.30818856495045,
          -43.27743578694284,
          -33.3930098153638,
          -44.57283406308798,
          -23.34841066964565,
          -5.928443537840467,
          -70.18764189198842,
          -19.586150781013934,
          -12.464138886746156,
          -27.396149261664327,
          -33.41816928418123,
          -37.95199553104753,
          -32.9177009719073,
          -58.03163616763135,
          2.156233156203702,
          -47.65984590700781,
          -63.27562614562061,
          -38.22898553035097,
          -16.61765464016507,
          -42.08755989625126,
          -28.28584550296941,
          19.480428820988905,
          -49.81230975425973,
          -47.4185909552061,
          -47.10968100181287,
          -41.384144111407494,
          -6.76859197445745,
          -47.820186180821736,
          -37.26212775186604,
          -59.81302904700999,
          -45.77872358685724,
          83.80568396584738,
          -18.625388729486957,
          -60.61673116201729,
          -1.8946561424062258,
          -3.2060539881553995,
          -44.82274342018354,
          -14.495292148461214,
          -24.57674787519727,
          -40.92958422461736,
          -48.96502848579202,
          6.350355845466149,
          -46.29587292009481,
          -49.44133605279818,
          -53.602101812015256,
          -37.41970707965313,
          -41.06183576946063,
          -28.04826973266773,
          -14.122416069179689,
          -27.012145152806877,
          -6.038029676491141,
          -21.939693394081672,
          -27.11302421014279,
          -30.48485955652659,
          -64.58882522965308,
          -8.394378485254917,
          -38.00586097200106,
          -26.826090571628836,
          -47.08618856642588,
          -39.78028520405381,
          -47.74082168841053,
          -40.73674214902627,
          -34.03099505860272,
          -41.999371134294464,
          -32.79992754377168,
          26.543881383669564,
          -62.71504001762693,
          -48.81768592918686,
          -1.455697843119319,
          -44.14623917688185,
          -57.671528527565805,
          -35.73839790760651,
          -8.477210718020201,
          -70.80035396543052,
          -12.886554434071229,
          -48.37273428998532,
          -6.628315110660388
         ],
         "yaxis": "y2"
        },
        {
         "line": {
          "color": "grey"
         },
         "name": "2",
         "showlegend": false,
         "type": "box",
         "xaxis": "x2",
         "y": [
          -22.128525497116147,
          -31.31226024057573,
          -33.09601642864393,
          -29.01481783280504,
          -39.101847908544194,
          -1.651648054619692,
          -51.91528353591757,
          -39.75941462341981,
          -46.48797092326393,
          -63.14703026037183,
          -44.06539277801984,
          -61.16297784366493,
          -30.89861998494644,
          -60.796174991432025,
          -69.55749085976419,
          -56.420598669745495,
          -61.61590148772095,
          -51.16393926234517,
          -48.23380561634024,
          -50.971224088152425,
          -48.8510293448384,
          -30.45369434682721,
          -46.272365556172524,
          -56.22706951891274,
          -42.41498867387702,
          -41.93792432398905,
          9.672008562204493,
          -29.395639642120585,
          -19.094268709282858,
          -50.202571221132295,
          -30.054257105501037,
          -54.301106070808714,
          -43.617098653954855,
          -58.44765816841999,
          -41.274771751630425,
          -11.597276334531447,
          -56.354477112120705,
          -59.77609064720608,
          -43.34122218451441,
          -66.72639289538034,
          6.338758133092703,
          -62.826862959216044,
          -18.96603875528784,
          -40.593026675950824,
          -60.09766360613915,
          -42.35585911421871,
          -41.95685846136429,
          -37.70483983312869,
          -65.53116845064363,
          -24.687988800187956,
          -33.81600429897742,
          -75.88990118633583,
          -40.313047647508725,
          -54.874860093623745,
          -53.8446981754767,
          -14.210985869579417,
          -53.397555150831536,
          -50.85601150294023,
          -46.15153068043397,
          -39.1209498398307,
          -46.92124727517375,
          -12.229023173137843,
          -27.17320198228299,
          -61.91170360392846,
          -52.612514180215484,
          -23.771081239709325,
          -23.048354653586923,
          -50.69724809829788,
          -70.4609020620351,
          -34.5787405379747,
          -47.29092902801232,
          -45.7597494804043,
          -61.82871808545127,
          -54.780690867598956,
          -45.56571591514752,
          -7.08106416733556,
          -51.077865456711336,
          -16.02842487596112,
          -54.67416034500323,
          -44.407078677301214,
          -66.06292044582347,
          -30.156965116052948,
          -53.72828479649265,
          -57.78707034255455,
          -19.09169135695373,
          -33.19403380306287,
          -52.6542775915656,
          -29.354325259583902,
          -40.72006775557799,
          -44.0543133950079,
          -15.400466980677374,
          -68.54031069946302,
          -64.06927597618808,
          -49.52608779762067,
          -63.39503017426229,
          8.40955856002803,
          -3.2948763969342876,
          -36.709459564187455,
          -59.75665966428518,
          -67.88948784463808
         ],
         "yaxis": "y2"
        },
        {
         "line": {
          "color": "red"
         },
         "name": "3",
         "showlegend": false,
         "type": "box",
         "xaxis": "x2",
         "y": [
          -42.607223782360016,
          -45.49070288000648,
          -48.88182443112168,
          -42.84370350075572,
          -4.664928177016003,
          -8.997986545045523,
          -30.924825632012308,
          -9.46078603598931,
          -47.55888396819201,
          -37.517335671955706,
          -42.09232127774195,
          -56.42854002879667,
          -53.81384566069614,
          -11.717969992779187,
          -41.62715615438761,
          -48.68339322102797,
          -11.170785019948326,
          -40.739710992669366,
          -56.43873777300765,
          32.97646980011004,
          -35.48442024694711,
          -45.61282541202909,
          -65.89108943513425,
          -31.497087360448806,
          -37.486494634947576,
          -39.19052181893659,
          -26.481716011593115,
          -43.135576943416446,
          -34.02514209013301,
          -42.238768111365154,
          -19.20953312433443,
          -46.17302234506426,
          -20.127815981572716,
          -58.072841896661465,
          -48.99397214572855,
          12.396616184988286,
          -2.83882367471171,
          -32.546853441935056,
          -49.249214575157765,
          -61.15137798601224,
          -39.592107902127275,
          -63.52576263985122,
          -74.85640381698101,
          -43.396305388823166,
          -42.782787871971884,
          -58.08016726436098,
          -67.0151883926779,
          -43.79208687492968,
          -55.80484461540149,
          -41.7698637139426,
          -24.337333468080026,
          -30.860045409069002,
          -41.82633775191652,
          -16.970940507429244,
          -62.26213886111793,
          -34.178740357122614,
          -25.519600868412052,
          -34.503855496910354,
          -58.81337044302395,
          -42.85550902167885,
          5.136374597989635,
          -48.34946378255803,
          -44.83375293639903,
          -32.49184385946029,
          -52.06312517951034,
          -60.666857072840585,
          -41.15577502680725,
          -37.64341260903017,
          -38.98110480015807,
          -45.39469088871656,
          -28.615366440363765,
          -46.27944380137063,
          4.346436588032132,
          -44.4202289532312,
          -59.855652284364936,
          -48.49966302759341,
          -33.94297260105969,
          -57.61672504672761,
          -56.688422633203174,
          -30.32579009680977,
          -50.907058927751734,
          -36.89989351875928,
          -53.82066748573645,
          -46.483878108097166,
          -32.82150174971178,
          -56.450297978194484,
          -47.226825864116904,
          -36.19797451080071,
          -55.264952547215366,
          -59.78443097076451,
          -14.079574329604338,
          -12.873876365439152,
          -35.238070780852816,
          -31.69569983136392,
          -32.915418277829886,
          -35.98719171718924,
          -41.11332369301146,
          -47.41369573057605,
          -54.711468438361585,
          -1.6400197864117283
         ],
         "yaxis": "y2"
        },
        {
         "line": {
          "color": "blue"
         },
         "name": "1",
         "showlegend": false,
         "type": "box",
         "xaxis": "x3",
         "y": [
          -62.95242833936634,
          -36.17830375875146,
          -30.123110308643707,
          -51.77749217789855,
          -27.192557275598304,
          -35.14899219304694,
          -13.801729257008832,
          -52.49460926120699,
          -41.75113052683411,
          -17.565524739111492,
          -35.903762176759166,
          -44.77914772460616,
          -47.059030684655454,
          -17.12932407072906,
          -26.62571728733152,
          -38.69132991758124,
          -54.10333095390861,
          -31.524119389387216,
          -41.80473477705282,
          -54.031278556743466,
          -40.08697288763262,
          -40.65055777221795,
          -62.83021124693919,
          -18.401422260385235,
          -46.43743469600273,
          -38.79745192524232,
          9.838465710361778,
          -33.382858046008735,
          -43.40015273011082,
          -45.77102021885769,
          -29.21237433924393,
          -23.067485102900463,
          -44.85117166892534,
          -66.34662145771175,
          -44.53275552506416,
          -27.97739125499309,
          -22.962446849935315,
          -15.083019911348018,
          -29.49315045302846,
          -50.34262506763414,
          -39.45779871819137,
          -65.73956450689633,
          -52.03539254089616,
          -43.630248615301916,
          -48.367781014323384,
          -35.606172943036064,
          -27.618012531312488,
          -23.912970223641928,
          -32.4187738147387,
          -22.9887551067703,
          -36.96471112539852,
          -53.55170064939132,
          -50.385580607850436,
          -52.43368625406728,
          -32.28045637437964,
          33.2598801905867,
          3.6163433825777025,
          -58.46490529102735,
          -52.36002249865641,
          -30.50491119929347,
          -14.303655366047153,
          -26.19016034563486,
          35.30083243700683,
          -18.207642102922016,
          -41.93844878828359,
          -28.55415047289628,
          7.438808197961366,
          -59.98979858332838,
          -21.52306256556633,
          -34.94403866984985,
          -33.318555245422864,
          -16.764705075987784,
          -15.13977624901739,
          -33.02978401448764,
          -64.16678351544263,
          -4.639193236566353,
          -34.62089238770487,
          -38.03805533579013,
          -51.729930805404344,
          -58.20939341833016,
          -39.22300998208408,
          -42.549869663315,
          -30.968370433982084,
          -31.086341528544647,
          -30.036879875672128,
          -15.407115048156472,
          -44.75768555515095,
          -55.18213568745281,
          -1.3014109583131095,
          -48.918159570933696,
          -26.05018327096641,
          -49.54973115139912,
          -59.05982820192297,
          -11.885668359433854,
          -6.556895064649448,
          -35.040603112249116,
          -36.42087575857408,
          -27.27684012362872,
          -60.90616487501934,
          -0.21902332471638308
         ],
         "yaxis": "y3"
        },
        {
         "line": {
          "color": "grey"
         },
         "name": "2",
         "showlegend": false,
         "type": "box",
         "xaxis": "x3",
         "y": [
          -38.888781523763704,
          -17.407779848832185,
          -33.933638243418585,
          -47.913790866107334,
          -47.76145242783563,
          -15.676197220185362,
          -43.038495532014444,
          -44.75318161575493,
          -56.399609590351176,
          -60.93550668450571,
          -41.91550171008821,
          -34.31936291399988,
          -47.495229666514184,
          -21.956308427889503,
          -48.65726582531013,
          -50.25326747029624,
          -58.18440482134963,
          -22.387103433494005,
          -17.505305243191195,
          -44.83310907808081,
          -36.59300292175922,
          -32.5254018549636,
          5.456784576247964,
          -37.78937198047308,
          -10.404613427773713,
          -43.90589875883577,
          -46.06345946737084,
          -61.82087722815992,
          -62.55192201963622,
          -59.04674345201577,
          -44.66593843792403,
          -32.964731600923805,
          -22.771921788550642,
          -19.928361823398255,
          -13.541817354253926,
          -36.03995950301881,
          -42.19547495822601,
          -42.73512790214921,
          -16.775938805249492,
          10.301109668957453,
          -22.44190448454867,
          -40.46958375881502,
          -50.35200433423499,
          -47.94602422837809,
          -20.810436409187073,
          -40.475990687390194,
          -51.618065373657686,
          -61.057885567685446,
          -57.102631710222475,
          -62.72991103226923,
          -31.451199761810102,
          -39.132971634726474,
          -28.583466146483826,
          -28.45092843029685,
          -41.386277048744255,
          -20.095318349772462,
          -25.48475303084683,
          -48.711138224490384,
          -15.643563260423443,
          -58.42855938541884,
          -42.20513561775419,
          -50.70406909040494,
          -43.76600813979348,
          -57.24943205035712,
          -36.12262542964465,
          -36.3682088285285,
          -69.5099061650086,
          -30.513309604788063,
          -37.128663659317674,
          -41.61411780475762,
          -42.17451879201787,
          -43.161751343987206,
          -26.481766445799792,
          -56.050020179589524,
          -50.215121594303646,
          -35.33533925031047,
          -35.12066742438942,
          -37.91498550486071,
          -47.99566002221478,
          -55.81104141170768,
          -58.4279324248142,
          -25.6669967690113,
          -41.4826783443628,
          -65.86376945928988,
          -54.08969835468067,
          -40.97993035194194,
          -42.7130436193564,
          -67.30882368892063,
          -36.01397244746766,
          11.511472086470187,
          -58.81172338271088,
          -48.78971319694564,
          6.823760818635005,
          26.695894448251,
          -37.68160535445214,
          -34.735122301179864,
          -34.49308627054085,
          -72.95951748105153,
          -44.095198680030855,
          -38.61184681947027
         ],
         "yaxis": "y3"
        },
        {
         "line": {
          "color": "red"
         },
         "name": "3",
         "showlegend": false,
         "type": "box",
         "xaxis": "x3",
         "y": [
          8.153220124041983,
          -0.2668299814126973,
          -69.76021513992382,
          5.384586140028058,
          -61.55955005422131,
          -36.336097950353995,
          -47.470899044689475,
          -58.4854128373814,
          -55.40095397836677,
          -61.05840005745784,
          -41.185764712261765,
          -57.628887821429856,
          -42.09958805622639,
          -28.207567074438433,
          -22.23411535568435,
          -30.984056715629173,
          -25.45137481924449,
          -38.79168827944006,
          -24.447936016545434,
          -3.277878589779959,
          -39.96482843122726,
          -19.605461938947542,
          -38.74028599850197,
          -55.1248624983192,
          -15.51499622977236,
          -40.915148123125974,
          19.79442225757344,
          -15.622400334499787,
          -37.206524617884085,
          -19.772414143501983,
          -50.10968730159484,
          -41.987788767513756,
          14.900962714347997,
          -12.491995802163125,
          -37.1861862823734,
          -12.956545438640498,
          -44.03184129959597,
          -39.90901469848925,
          -46.70411080032979,
          -47.70539939575955,
          -28.39537497416683,
          -56.11252371050027,
          -28.128890822426566,
          -63.55858151397469,
          -29.721211266471357,
          -29.71071935458759,
          -40.425354787060975,
          -38.783232123845146,
          -48.53451209287084,
          2.9994421829196316,
          -40.01266151795383,
          13.988170478693274,
          -6.7325217889893985,
          -35.38423358319991,
          -62.65390043525261,
          -10.531290331375198,
          -39.61191732589327,
          -17.525463328112277,
          -48.95693156286948,
          -59.0409248971826,
          -13.67756017392373,
          11.458183581770932,
          -43.0097099011024,
          -49.72468376626353,
          -5.004895971584478,
          -53.277472377941635,
          -36.71171179693656,
          -56.490057457309625,
          -22.145580131635633,
          -48.08071979516508,
          -21.107533309712924,
          -31.12915850869824,
          -17.99301993596104,
          -32.24366073545523,
          -55.567260199574456,
          -76.08765915714777,
          -38.6462952559805,
          -43.29885227431556,
          -30.003059467356263,
          -33.515375792016,
          -41.44126559100903,
          -61.204363262187464,
          -32.69730482778982,
          -21.224785559575764,
          8.607835394545926,
          -14.885393250389434,
          -50.86320070133667,
          -26.12532005523476,
          -66.04223245519363,
          -66.86877469347891,
          -56.80256893373738,
          -45.28373440381993,
          -12.007898303373754,
          -53.29304856284664,
          -60.67931407426239,
          -21.694223671040536,
          -25.11969270824754,
          3.124357667964728,
          -70.43206033300397,
          -53.76867594542095
         ],
         "yaxis": "y3"
        },
        {
         "line": {
          "color": "blue"
         },
         "name": "1",
         "showlegend": false,
         "type": "box",
         "xaxis": "x4",
         "y": [
          -46.289790669497165,
          -54.78903334427084,
          -62.37925712480382,
          -31.01858253968438,
          -4.426430170193518,
          -60.72234749219145,
          -59.02631720877605,
          -69.46105229892106,
          -47.27082402130605,
          -39.53920778404245,
          -13.538656291173734,
          -58.078102248476135,
          -58.11752660933228,
          -61.24004352964023,
          -32.51053020746293,
          -41.21697616088521,
          -23.302137853324577,
          -6.530599882824173,
          -18.045640590263968,
          -26.477994596438435,
          -48.19271934142074,
          -39.56972392823541,
          -49.067506662151985,
          -61.18711457511108,
          -62.71702580377519,
          -2.756312931981797,
          -31.080555312291523,
          -39.54450095127582,
          25.644516556300267,
          -9.984731522777091,
          -49.006755591589645,
          -34.1061815722614,
          -47.03521380019349,
          -52.72185316744022,
          -62.42041130331093,
          -41.48441461863126,
          -40.34649797519116,
          -5.806441601481749,
          -48.94641770750893,
          -35.30579146987335,
          -21.11590638634926,
          -60.54171978519243,
          -47.139667450079514,
          -65.71382204934069,
          -36.85876966125432,
          -51.53475774868582,
          -40.96846221498554,
          -59.074168194238055,
          -19.75533026264229,
          -66.75205006414441,
          1.3826063061884941,
          -59.375592160200455,
          -33.51205800170563,
          -68.35363286910349,
          -30.254904929873828,
          -42.04355256922129,
          -44.68754229219499,
          -51.478085007563124,
          -37.906470284458806,
          -53.217866909527835,
          -53.66455888033301,
          -53.298093356869394,
          -46.64689666931504,
          -53.554035688139734,
          -39.89601415261432,
          -30.0666256598757,
          -49.60649163196141,
          -54.894262080060294,
          -22.393448466711796,
          -35.68465663259225,
          -28.2942812599398,
          -75.06254016216131,
          -37.57999191416454,
          -40.866056743113596,
          -12.628786056716734,
          -67.93015142751261,
          -56.029440448905966,
          -59.56742896931896,
          -27.418178349369526,
          -35.41256572614808,
          -53.46793810305874,
          -29.132512726684322,
          -37.84496026053606,
          -36.2336401472482,
          -51.30455988624229,
          -54.084954634773474,
          -10.315203466327427,
          -52.33434136714952,
          -51.641051464144624,
          -52.326941340500554,
          -52.01821070614909,
          -28.386226115569368,
          -53.96357111249065,
          -60.959995107375306,
          -25.085255959412013,
          -0.7273663652638596,
          -28.606597442004343,
          -72.66167291718077,
          -52.1098590546882,
          -6.263652444888368
         ],
         "yaxis": "y4"
        },
        {
         "line": {
          "color": "grey"
         },
         "name": "2",
         "showlegend": false,
         "type": "box",
         "xaxis": "x4",
         "y": [
          -25.391272522010155,
          -52.91599163648005,
          -36.00734117615983,
          -53.87524127727312,
          -42.36473014388756,
          -43.6640297422498,
          -0.15351918822661403,
          -57.71263163629984,
          -55.40325404505305,
          -23.68006754222831,
          -4.083505282941912,
          -38.76041987544998,
          -33.49504135675681,
          -15.935004832984045,
          -37.20225729084717,
          -27.362020363182417,
          -33.83932327723409,
          -50.608761580867856,
          18.428522893801723,
          -68.97429664526454,
          -50.945614605446195,
          -60.94060547230683,
          -19.21140805089989,
          -31.061644175221048,
          -31.8265920567936,
          -54.71493919288986,
          -50.36697269616472,
          -58.69722053758959,
          -19.415484624514455,
          -37.36317431829863,
          -34.45689960063329,
          -36.282116859282546,
          -46.85726757857256,
          -41.75749603641206,
          -55.69502227450727,
          -65.79612418645122,
          -50.080412312054776,
          -42.1403172828276,
          -26.66283547162682,
          -45.47099627859531,
          -52.14372637557392,
          -41.52361111923219,
          -29.321902533210555,
          -60.26374525965122,
          -32.115211192727834,
          -32.27334565456753,
          -37.70674697198948,
          7.268868907825432,
          -60.235458210247806,
          -31.914545401738593,
          -6.8010448689273195,
          -45.56206626389907,
          -47.104833007225345,
          -3.0291429391379743,
          -43.30946164333004,
          3.8724423918156337,
          -47.51546640410429,
          -46.5812465120694,
          -53.810674008640866,
          -70.7430944860233,
          -60.97776472507306,
          -59.65190331562519,
          -9.429262201077703,
          -33.680456059355166,
          -54.2238294877003,
          -43.995287254790085,
          14.00847216815495,
          -35.33133925473273,
          -60.66910995904236,
          -48.43490895083463,
          -52.10616989411682,
          -50.87364578802234,
          -40.79211875982926,
          -18.751433537984074,
          -43.14920559892516,
          -46.311001899015146,
          -26.446209641902307,
          -44.98556805828875,
          -42.49939673821079,
          -65.49974770206745,
          -64.67847935552207,
          -41.87834382565685,
          -49.29108897229406,
          -34.44783047242911,
          -21.006826131839375,
          -43.422382098131116,
          -31.369029569610174,
          -63.88366621103154,
          -32.934792704027984,
          -56.15056693703955,
          -34.73801634757693,
          -32.251798213399084,
          -28.06038866406717,
          -64.4509778257964,
          -14.88676615830834,
          -35.67823677190434,
          -63.56168279782589,
          -68.0735884790929,
          -33.36938204820664,
          -61.97325632517864
         ],
         "yaxis": "y4"
        },
        {
         "line": {
          "color": "red"
         },
         "name": "3",
         "showlegend": false,
         "type": "box",
         "xaxis": "x4",
         "y": [
          -16.40353391853038,
          -50.59895484938406,
          -15.211842524581776,
          -56.4963802332682,
          -66.30109117583287,
          -10.414093354860887,
          -27.79754905947688,
          -36.275693108934604,
          -53.22326875655013,
          -30.37745593924597,
          -39.76481902492996,
          -41.37279147133627,
          -19.625777325760364,
          -17.19505610499151,
          -44.39707788369714,
          -41.317720745446174,
          -6.319643801550246,
          -21.679514722201787,
          -28.904746760232914,
          -33.37331424066288,
          -55.896524682907824,
          -58.72955467085125,
          -69.45758310681423,
          -67.637176209533,
          -43.629941790564374,
          -54.76890098058078,
          -68.37541913464679,
          -54.20745246698699,
          -44.6576002726893,
          -45.78320993408537,
          -46.68945349152598,
          -26.08068677592138,
          -51.06144823324015,
          -48.1341679538455,
          -57.65547453311053,
          -66.30852281834561,
          -40.28287947694215,
          -37.13706467793021,
          -44.62200170450965,
          -60.14141681064451,
          -44.85300779488238,
          -41.26891169075071,
          -26.75742901863861,
          -25.966580925841008,
          -74.283647151247,
          -67.12407089071802,
          14.207558248516294,
          -33.624557312436195,
          67.2971281070504,
          -33.99215960812037,
          -56.85221859002512,
          -27.169444765070814,
          -52.31125053354091,
          -28.900566776242208,
          -56.99680793500459,
          -43.371562511622805,
          7.432688529368758,
          42.34875993276284,
          27.543557034632936,
          -23.016133469128842,
          -45.408092107351116,
          -17.736429080286765,
          -44.93368917148971,
          -29.945430694090113,
          -62.31547286097692,
          -60.64569974260172,
          -30.879789628114462,
          -42.33438088078677,
          -43.806945270906496,
          25.79765432515193,
          -10.790159041489822,
          -67.58422181469264,
          -62.804069780988016,
          -37.9980154489658,
          -63.32757676584744,
          -21.74955950971419,
          -52.032816819426344,
          -52.40259841079078,
          -46.142422890339994,
          -37.925195751533046,
          -43.949596792669276,
          3.292497197763411,
          -50.38904071304113,
          -35.18682364420756,
          25.684985310716833,
          -59.5560554910063,
          -45.32337960202769,
          -32.53635953725483,
          -19.017241515807402,
          -37.30665906938345,
          -38.423915945495466,
          -55.46137514267754,
          -57.45220154805424,
          -42.26298010364546,
          -39.94119348441602,
          -54.79158460899093,
          -55.68393701382832,
          -45.90851052933272,
          -43.22167803620004,
          -30.38560260144607
         ],
         "yaxis": "y4"
        }
       ],
       "layout": {
        "annotations": [
         {
          "font": {
           "size": 16
          },
          "showarrow": false,
          "text": "A2C",
          "x": 0.225,
          "xanchor": "center",
          "xref": "paper",
          "y": 1,
          "yanchor": "bottom",
          "yref": "paper"
         },
         {
          "font": {
           "size": 16
          },
          "showarrow": false,
          "text": "PPO",
          "x": 0.775,
          "xanchor": "center",
          "xref": "paper",
          "y": 1,
          "yanchor": "bottom",
          "yref": "paper"
         },
         {
          "font": {
           "size": 16
          },
          "showarrow": false,
          "text": "DQN",
          "x": 0.225,
          "xanchor": "center",
          "xref": "paper",
          "y": 0.375,
          "yanchor": "bottom",
          "yref": "paper"
         },
         {
          "font": {
           "size": 16
          },
          "showarrow": false,
          "text": "RANDOM",
          "x": 0.775,
          "xanchor": "center",
          "xref": "paper",
          "y": 0.375,
          "yanchor": "bottom",
          "yref": "paper"
         }
        ],
        "height": 800,
        "template": {
         "data": {
          "bar": [
           {
            "error_x": {
             "color": "#2a3f5f"
            },
            "error_y": {
             "color": "#2a3f5f"
            },
            "marker": {
             "line": {
              "color": "#E5ECF6",
              "width": 0.5
             },
             "pattern": {
              "fillmode": "overlay",
              "size": 10,
              "solidity": 0.2
             }
            },
            "type": "bar"
           }
          ],
          "barpolar": [
           {
            "marker": {
             "line": {
              "color": "#E5ECF6",
              "width": 0.5
             },
             "pattern": {
              "fillmode": "overlay",
              "size": 10,
              "solidity": 0.2
             }
            },
            "type": "barpolar"
           }
          ],
          "carpet": [
           {
            "aaxis": {
             "endlinecolor": "#2a3f5f",
             "gridcolor": "white",
             "linecolor": "white",
             "minorgridcolor": "white",
             "startlinecolor": "#2a3f5f"
            },
            "baxis": {
             "endlinecolor": "#2a3f5f",
             "gridcolor": "white",
             "linecolor": "white",
             "minorgridcolor": "white",
             "startlinecolor": "#2a3f5f"
            },
            "type": "carpet"
           }
          ],
          "choropleth": [
           {
            "colorbar": {
             "outlinewidth": 0,
             "ticks": ""
            },
            "type": "choropleth"
           }
          ],
          "contour": [
           {
            "colorbar": {
             "outlinewidth": 0,
             "ticks": ""
            },
            "colorscale": [
             [
              0,
              "#0d0887"
             ],
             [
              0.1111111111111111,
              "#46039f"
             ],
             [
              0.2222222222222222,
              "#7201a8"
             ],
             [
              0.3333333333333333,
              "#9c179e"
             ],
             [
              0.4444444444444444,
              "#bd3786"
             ],
             [
              0.5555555555555556,
              "#d8576b"
             ],
             [
              0.6666666666666666,
              "#ed7953"
             ],
             [
              0.7777777777777778,
              "#fb9f3a"
             ],
             [
              0.8888888888888888,
              "#fdca26"
             ],
             [
              1,
              "#f0f921"
             ]
            ],
            "type": "contour"
           }
          ],
          "contourcarpet": [
           {
            "colorbar": {
             "outlinewidth": 0,
             "ticks": ""
            },
            "type": "contourcarpet"
           }
          ],
          "heatmap": [
           {
            "colorbar": {
             "outlinewidth": 0,
             "ticks": ""
            },
            "colorscale": [
             [
              0,
              "#0d0887"
             ],
             [
              0.1111111111111111,
              "#46039f"
             ],
             [
              0.2222222222222222,
              "#7201a8"
             ],
             [
              0.3333333333333333,
              "#9c179e"
             ],
             [
              0.4444444444444444,
              "#bd3786"
             ],
             [
              0.5555555555555556,
              "#d8576b"
             ],
             [
              0.6666666666666666,
              "#ed7953"
             ],
             [
              0.7777777777777778,
              "#fb9f3a"
             ],
             [
              0.8888888888888888,
              "#fdca26"
             ],
             [
              1,
              "#f0f921"
             ]
            ],
            "type": "heatmap"
           }
          ],
          "heatmapgl": [
           {
            "colorbar": {
             "outlinewidth": 0,
             "ticks": ""
            },
            "colorscale": [
             [
              0,
              "#0d0887"
             ],
             [
              0.1111111111111111,
              "#46039f"
             ],
             [
              0.2222222222222222,
              "#7201a8"
             ],
             [
              0.3333333333333333,
              "#9c179e"
             ],
             [
              0.4444444444444444,
              "#bd3786"
             ],
             [
              0.5555555555555556,
              "#d8576b"
             ],
             [
              0.6666666666666666,
              "#ed7953"
             ],
             [
              0.7777777777777778,
              "#fb9f3a"
             ],
             [
              0.8888888888888888,
              "#fdca26"
             ],
             [
              1,
              "#f0f921"
             ]
            ],
            "type": "heatmapgl"
           }
          ],
          "histogram": [
           {
            "marker": {
             "pattern": {
              "fillmode": "overlay",
              "size": 10,
              "solidity": 0.2
             }
            },
            "type": "histogram"
           }
          ],
          "histogram2d": [
           {
            "colorbar": {
             "outlinewidth": 0,
             "ticks": ""
            },
            "colorscale": [
             [
              0,
              "#0d0887"
             ],
             [
              0.1111111111111111,
              "#46039f"
             ],
             [
              0.2222222222222222,
              "#7201a8"
             ],
             [
              0.3333333333333333,
              "#9c179e"
             ],
             [
              0.4444444444444444,
              "#bd3786"
             ],
             [
              0.5555555555555556,
              "#d8576b"
             ],
             [
              0.6666666666666666,
              "#ed7953"
             ],
             [
              0.7777777777777778,
              "#fb9f3a"
             ],
             [
              0.8888888888888888,
              "#fdca26"
             ],
             [
              1,
              "#f0f921"
             ]
            ],
            "type": "histogram2d"
           }
          ],
          "histogram2dcontour": [
           {
            "colorbar": {
             "outlinewidth": 0,
             "ticks": ""
            },
            "colorscale": [
             [
              0,
              "#0d0887"
             ],
             [
              0.1111111111111111,
              "#46039f"
             ],
             [
              0.2222222222222222,
              "#7201a8"
             ],
             [
              0.3333333333333333,
              "#9c179e"
             ],
             [
              0.4444444444444444,
              "#bd3786"
             ],
             [
              0.5555555555555556,
              "#d8576b"
             ],
             [
              0.6666666666666666,
              "#ed7953"
             ],
             [
              0.7777777777777778,
              "#fb9f3a"
             ],
             [
              0.8888888888888888,
              "#fdca26"
             ],
             [
              1,
              "#f0f921"
             ]
            ],
            "type": "histogram2dcontour"
           }
          ],
          "mesh3d": [
           {
            "colorbar": {
             "outlinewidth": 0,
             "ticks": ""
            },
            "type": "mesh3d"
           }
          ],
          "parcoords": [
           {
            "line": {
             "colorbar": {
              "outlinewidth": 0,
              "ticks": ""
             }
            },
            "type": "parcoords"
           }
          ],
          "pie": [
           {
            "automargin": true,
            "type": "pie"
           }
          ],
          "scatter": [
           {
            "fillpattern": {
             "fillmode": "overlay",
             "size": 10,
             "solidity": 0.2
            },
            "type": "scatter"
           }
          ],
          "scatter3d": [
           {
            "line": {
             "colorbar": {
              "outlinewidth": 0,
              "ticks": ""
             }
            },
            "marker": {
             "colorbar": {
              "outlinewidth": 0,
              "ticks": ""
             }
            },
            "type": "scatter3d"
           }
          ],
          "scattercarpet": [
           {
            "marker": {
             "colorbar": {
              "outlinewidth": 0,
              "ticks": ""
             }
            },
            "type": "scattercarpet"
           }
          ],
          "scattergeo": [
           {
            "marker": {
             "colorbar": {
              "outlinewidth": 0,
              "ticks": ""
             }
            },
            "type": "scattergeo"
           }
          ],
          "scattergl": [
           {
            "marker": {
             "colorbar": {
              "outlinewidth": 0,
              "ticks": ""
             }
            },
            "type": "scattergl"
           }
          ],
          "scattermapbox": [
           {
            "marker": {
             "colorbar": {
              "outlinewidth": 0,
              "ticks": ""
             }
            },
            "type": "scattermapbox"
           }
          ],
          "scatterpolar": [
           {
            "marker": {
             "colorbar": {
              "outlinewidth": 0,
              "ticks": ""
             }
            },
            "type": "scatterpolar"
           }
          ],
          "scatterpolargl": [
           {
            "marker": {
             "colorbar": {
              "outlinewidth": 0,
              "ticks": ""
             }
            },
            "type": "scatterpolargl"
           }
          ],
          "scatterternary": [
           {
            "marker": {
             "colorbar": {
              "outlinewidth": 0,
              "ticks": ""
             }
            },
            "type": "scatterternary"
           }
          ],
          "surface": [
           {
            "colorbar": {
             "outlinewidth": 0,
             "ticks": ""
            },
            "colorscale": [
             [
              0,
              "#0d0887"
             ],
             [
              0.1111111111111111,
              "#46039f"
             ],
             [
              0.2222222222222222,
              "#7201a8"
             ],
             [
              0.3333333333333333,
              "#9c179e"
             ],
             [
              0.4444444444444444,
              "#bd3786"
             ],
             [
              0.5555555555555556,
              "#d8576b"
             ],
             [
              0.6666666666666666,
              "#ed7953"
             ],
             [
              0.7777777777777778,
              "#fb9f3a"
             ],
             [
              0.8888888888888888,
              "#fdca26"
             ],
             [
              1,
              "#f0f921"
             ]
            ],
            "type": "surface"
           }
          ],
          "table": [
           {
            "cells": {
             "fill": {
              "color": "#EBF0F8"
             },
             "line": {
              "color": "white"
             }
            },
            "header": {
             "fill": {
              "color": "#C8D4E3"
             },
             "line": {
              "color": "white"
             }
            },
            "type": "table"
           }
          ]
         },
         "layout": {
          "annotationdefaults": {
           "arrowcolor": "#2a3f5f",
           "arrowhead": 0,
           "arrowwidth": 1
          },
          "autotypenumbers": "strict",
          "coloraxis": {
           "colorbar": {
            "outlinewidth": 0,
            "ticks": ""
           }
          },
          "colorscale": {
           "diverging": [
            [
             0,
             "#8e0152"
            ],
            [
             0.1,
             "#c51b7d"
            ],
            [
             0.2,
             "#de77ae"
            ],
            [
             0.3,
             "#f1b6da"
            ],
            [
             0.4,
             "#fde0ef"
            ],
            [
             0.5,
             "#f7f7f7"
            ],
            [
             0.6,
             "#e6f5d0"
            ],
            [
             0.7,
             "#b8e186"
            ],
            [
             0.8,
             "#7fbc41"
            ],
            [
             0.9,
             "#4d9221"
            ],
            [
             1,
             "#276419"
            ]
           ],
           "sequential": [
            [
             0,
             "#0d0887"
            ],
            [
             0.1111111111111111,
             "#46039f"
            ],
            [
             0.2222222222222222,
             "#7201a8"
            ],
            [
             0.3333333333333333,
             "#9c179e"
            ],
            [
             0.4444444444444444,
             "#bd3786"
            ],
            [
             0.5555555555555556,
             "#d8576b"
            ],
            [
             0.6666666666666666,
             "#ed7953"
            ],
            [
             0.7777777777777778,
             "#fb9f3a"
            ],
            [
             0.8888888888888888,
             "#fdca26"
            ],
            [
             1,
             "#f0f921"
            ]
           ],
           "sequentialminus": [
            [
             0,
             "#0d0887"
            ],
            [
             0.1111111111111111,
             "#46039f"
            ],
            [
             0.2222222222222222,
             "#7201a8"
            ],
            [
             0.3333333333333333,
             "#9c179e"
            ],
            [
             0.4444444444444444,
             "#bd3786"
            ],
            [
             0.5555555555555556,
             "#d8576b"
            ],
            [
             0.6666666666666666,
             "#ed7953"
            ],
            [
             0.7777777777777778,
             "#fb9f3a"
            ],
            [
             0.8888888888888888,
             "#fdca26"
            ],
            [
             1,
             "#f0f921"
            ]
           ]
          },
          "colorway": [
           "#636efa",
           "#EF553B",
           "#00cc96",
           "#ab63fa",
           "#FFA15A",
           "#19d3f3",
           "#FF6692",
           "#B6E880",
           "#FF97FF",
           "#FECB52"
          ],
          "font": {
           "color": "#2a3f5f"
          },
          "geo": {
           "bgcolor": "white",
           "lakecolor": "white",
           "landcolor": "#E5ECF6",
           "showlakes": true,
           "showland": true,
           "subunitcolor": "white"
          },
          "hoverlabel": {
           "align": "left"
          },
          "hovermode": "closest",
          "mapbox": {
           "style": "light"
          },
          "paper_bgcolor": "white",
          "plot_bgcolor": "#E5ECF6",
          "polar": {
           "angularaxis": {
            "gridcolor": "white",
            "linecolor": "white",
            "ticks": ""
           },
           "bgcolor": "#E5ECF6",
           "radialaxis": {
            "gridcolor": "white",
            "linecolor": "white",
            "ticks": ""
           }
          },
          "scene": {
           "xaxis": {
            "backgroundcolor": "#E5ECF6",
            "gridcolor": "white",
            "gridwidth": 2,
            "linecolor": "white",
            "showbackground": true,
            "ticks": "",
            "zerolinecolor": "white"
           },
           "yaxis": {
            "backgroundcolor": "#E5ECF6",
            "gridcolor": "white",
            "gridwidth": 2,
            "linecolor": "white",
            "showbackground": true,
            "ticks": "",
            "zerolinecolor": "white"
           },
           "zaxis": {
            "backgroundcolor": "#E5ECF6",
            "gridcolor": "white",
            "gridwidth": 2,
            "linecolor": "white",
            "showbackground": true,
            "ticks": "",
            "zerolinecolor": "white"
           }
          },
          "shapedefaults": {
           "line": {
            "color": "#2a3f5f"
           }
          },
          "ternary": {
           "aaxis": {
            "gridcolor": "white",
            "linecolor": "white",
            "ticks": ""
           },
           "baxis": {
            "gridcolor": "white",
            "linecolor": "white",
            "ticks": ""
           },
           "bgcolor": "#E5ECF6",
           "caxis": {
            "gridcolor": "white",
            "linecolor": "white",
            "ticks": ""
           }
          },
          "title": {
           "x": 0.05
          },
          "xaxis": {
           "automargin": true,
           "gridcolor": "white",
           "linecolor": "white",
           "ticks": "",
           "title": {
            "standoff": 15
           },
           "zerolinecolor": "white",
           "zerolinewidth": 2
          },
          "yaxis": {
           "automargin": true,
           "gridcolor": "white",
           "linecolor": "white",
           "ticks": "",
           "title": {
            "standoff": 15
           },
           "zerolinecolor": "white",
           "zerolinewidth": 2
          }
         }
        },
        "title": {
         "text": "Total Profit Percentage (in %) x different feat_package (Across different models) <br>ccy:BTCUSDT - time-to-chart:1h",
         "x": 0.5
        },
        "width": 1200,
        "xaxis": {
         "anchor": "y",
         "domain": [
          0,
          0.45
         ],
         "title": {
          "standoff": 25,
          "text": "feat_package"
         }
        },
        "xaxis2": {
         "anchor": "y2",
         "domain": [
          0.55,
          1
         ],
         "title": {
          "standoff": 25,
          "text": "feat_package"
         }
        },
        "xaxis3": {
         "anchor": "y3",
         "domain": [
          0,
          0.45
         ],
         "title": {
          "standoff": 25,
          "text": "feat_package"
         }
        },
        "xaxis4": {
         "anchor": "y4",
         "domain": [
          0.55,
          1
         ],
         "title": {
          "standoff": 25,
          "text": "feat_package"
         }
        },
        "yaxis": {
         "anchor": "x",
         "domain": [
          0.625,
          1
         ],
         "matches": "y3",
         "title": {
          "standoff": 25,
          "text": "Total Profit Percentage (in %)"
         }
        },
        "yaxis2": {
         "anchor": "x2",
         "domain": [
          0.625,
          1
         ],
         "matches": "y3",
         "showticklabels": false,
         "title": {
          "standoff": 25,
          "text": "Total Profit Percentage (in %)"
         }
        },
        "yaxis3": {
         "anchor": "x3",
         "domain": [
          0,
          0.375
         ],
         "title": {
          "standoff": 25,
          "text": "Total Profit Percentage (in %)"
         }
        },
        "yaxis4": {
         "anchor": "x4",
         "domain": [
          0,
          0.375
         ],
         "matches": "y3",
         "showticklabels": false,
         "title": {
          "standoff": 25,
          "text": "Total Profit Percentage (in %)"
         }
        }
       }
      }
     },
     "metadata": {},
     "output_type": "display_data"
    }
   ],
   "source": [
    "fig_output = get_boxplot_total_profit_diff_feature(df_sim_results, list_timestamp[0])"
   ]
  },
  {
   "cell_type": "code",
   "execution_count": 88,
   "metadata": {},
   "outputs": [
    {
     "data": {
      "application/vnd.plotly.v1+json": {
       "config": {
        "plotlyServerURL": "https://plot.ly"
       },
       "data": [
        {
         "marker": {
          "color": "blue"
         },
         "name": "1",
         "type": "histogram",
         "x": [
          -20.406542510581883,
          -37.00974144204535,
          -5.622929374605812,
          -36.067694114121394,
          -41.24862915858494,
          -7.542743944656771,
          -11.730789439472488,
          -53.37047610386681,
          -19.249034652293805,
          -34.07926504605584,
          -27.23824646179569,
          -26.65838150355776,
          -28.979047458941565,
          -45.55453229698168,
          4.076907144734143,
          -20.509530778627337,
          -34.85967937062778,
          -25.339847345004994,
          -64.44133088908143,
          -40.780087900577364,
          -45.78836590715147,
          -26.890239322403897,
          -16.338707142266905,
          -9.523548805572336,
          -43.04439686990897,
          -26.965434157609337,
          -12.15971910902639,
          33.95937296771334,
          -24.145899698628558,
          -55.724122768231965,
          -15.27343951589354,
          -13.703353539127916,
          -31.49718370446053,
          -20.480316071198267,
          -21.39880412998403,
          -34.03838008476923,
          -40.08569048489632,
          -37.739310307981086,
          -20.118731774821008,
          -59.83121130527318,
          -24.366435513998663,
          -47.547403479242234,
          -48.923651828729255,
          -38.778694192038934,
          -41.783975852150114,
          17.826960676204173,
          -49.80421156073055,
          0.6641052888670673,
          -18.791510762162922,
          14.66312575133546,
          -39.67248936693613,
          -35.05670346877228,
          -47.17452436798427,
          -29.049723332619394,
          38.45888507842812,
          -41.922643191204486,
          -35.65394899715717,
          -32.34580565436551,
          -42.935560003200465,
          -36.958490226112374,
          -14.985716678282246,
          -15.58315807939411,
          -64.46468034186454,
          -12.554684281773154,
          -23.402064071027738,
          -17.773175502800953,
          -10.481309897413492,
          30.98936319307537,
          -56.884920404735496,
          15.89801676405238,
          -36.200456175424186,
          -41.564676379809804,
          -48.361111074702954,
          11.486806574719521,
          -15.043410265527314,
          -14.527166775891043,
          -33.45670867935196,
          -50.501123558488835,
          -30.929325341596503,
          -53.688804315586204,
          -37.727803493435886,
          -37.04278626535369,
          -53.158713397277815,
          -49.49318875698692,
          -33.4152276764608,
          5.3958317460341965,
          -30.98085738704228,
          -14.671540349315027,
          -1.473235328771183,
          -2.150574719771148,
          -25.234346444724977,
          -43.759959406751584,
          -50.99595779002303,
          -36.95489591704442,
          -17.06000075186459,
          -39.43272675902865,
          -3.981686847123289,
          -48.289319970432686,
          -17.157735016712326,
          -18.745691423721745
         ],
         "xaxis": "x",
         "yaxis": "y"
        },
        {
         "marker": {
          "color": "grey"
         },
         "name": "2",
         "type": "histogram",
         "x": [
          -5.314654645749862,
          2.8732003553064933,
          4.703848599301308,
          -30.43273268731248,
          -35.47069800117308,
          3.261653340301973,
          -38.980234458942405,
          -42.8208352176488,
          -19.61899409192628,
          -18.62356246275809,
          -9.003797714600259,
          -46.10184713698845,
          -14.958815359059418,
          -10.947791858822898,
          -39.830661274506426,
          -27.0149436461425,
          -4.150530057964163,
          -14.638352675381238,
          -27.310328004708307,
          7.73841430107256,
          -32.066490577478405,
          5.180636785812887,
          -53.990521171270146,
          -23.244883209813406,
          -65.80382839556135,
          -47.61629895774788,
          -13.140535451912871,
          -27.089968418756317,
          -22.333983732764707,
          -7.845823429892896,
          -21.035688314622657,
          -37.619311317176276,
          -41.97072375877966,
          -35.061244063558064,
          -39.297525934577635,
          -24.484152059253017,
          -12.160330200922974,
          9.304003051565445,
          -36.07732788613448,
          -50.207019904637264,
          -43.8338941405862,
          0.19689808004499376,
          -34.65416890602167,
          3.2163083910363044,
          2.243078010402244,
          -5.260940887089472,
          5.891717421239107,
          -5.2467269458488675,
          -17.951027612365223,
          -36.2937879742216,
          -43.30118409213439,
          -52.918181238787334,
          -52.74206886944369,
          -44.134670222769024,
          -19.679567642896068,
          -14.514777365216403,
          -55.82438331761015,
          6.107777882927312,
          -31.20388156402193,
          -24.555142034456757,
          -38.86128004314556,
          -48.11691452622112,
          -3.5517719294536065,
          -59.900096043721106,
          -22.4325397977273,
          -35.44286648784956,
          -49.68119983406524,
          -31.070635900401513,
          9.397095743508777,
          -21.071628020482024,
          -18.079221628467714,
          -42.1511773531152,
          -40.66086469700137,
          -14.880096624639606,
          -50.46081565073271,
          -22.678084773174266,
          -22.994550823904337,
          88.78265323898984,
          -28.788537450545515,
          -22.55801208452577,
          -42.54597464934516,
          -1.4739116604508773,
          -39.89234955522326,
          5.320769258394531,
          -48.78964419463633,
          -42.61623948983277,
          -15.692553956126364,
          -56.465168327418645,
          -42.39674579652974,
          -40.53281043571304,
          -39.1434208923949,
          -24.763186277232997,
          12.304256092724408,
          -56.00656653269161,
          -40.406067669260224,
          -62.61287467278505,
          -9.977519252744937,
          -34.057506375937194,
          35.91549668735667,
          -49.08151092961821
         ],
         "xaxis": "x",
         "yaxis": "y"
        },
        {
         "marker": {
          "color": "red"
         },
         "name": "3",
         "type": "histogram",
         "x": [
          -35.70749434689675,
          -50.97942752774731,
          -42.04534188370286,
          -42.23912716376896,
          -70.04121408476483,
          -60.1826108066686,
          -53.451653379699984,
          -59.137892883031405,
          -63.33882718701307,
          -38.45115338266931,
          -54.325487036274836,
          -55.13692712954816,
          -72.94304571926136,
          -61.24315680795569,
          -37.262565668420436,
          -69.91895506276961,
          -60.40960193122977,
          -43.434902229517114,
          -66.67961494278138,
          -64.85004883771384,
          -40.01962951222258,
          -45.89438938120601,
          -61.34894150989831,
          -52.44427609064783,
          -56.87521251133894,
          -49.60074153032667,
          -50.76407481028288,
          -21.56417652423508,
          -56.46687109752329,
          -59.018620638985354,
          -51.41860472956693,
          -60.68592986547645,
          -54.35719021824409,
          -47.33567013315204,
          -65.33837582367863,
          -66.34788354500172,
          -50.83122894212359,
          -41.95022817362536,
          -63.45393009411201,
          -18.282260340606836,
          -55.4959964172111,
          -56.482502408776504,
          -62.10013232588613,
          -44.062433135517445,
          -32.130852670803925,
          -73.48010956675218,
          -54.25909472756605,
          -55.4791222214655,
          -60.12726041596235,
          -67.30184844530372,
          -69.53034915835988,
          -48.09223668035233,
          -27.9874459746148,
          -12.360629905339016,
          -51.7341571549043,
          -70.3374397283066,
          -54.39931848696183,
          -60.358708233186164,
          -52.180999302550205,
          -65.78833735373254,
          -32.48192224079299,
          -53.20168868382575,
          -44.687834492870515,
          -74.03331772668949,
          -60.83139726022735,
          -60.89480765525119,
          -54.14259121180631,
          -52.75390974287364,
          -7.776483182046334,
          -23.99704593433356,
          -48.65345597391665,
          -40.08254983712708,
          -33.50583224985348,
          -47.15824967212563,
          -54.80487092744957,
          -30.044989848702784,
          -25.659039373192705,
          -23.277110258897103,
          -50.468688841361256,
          -64.09691078084656,
          -58.11808300309353,
          -64.20108979924177,
          -46.10666787300176,
          -66.27047644218172,
          -73.9733609303046,
          -68.8017529830232,
          -42.463877920322325,
          -60.78223964643909,
          -59.91584661006677,
          -53.40836582717954,
          -52.09937231399846,
          -62.610931609688905,
          -38.7288566759747,
          -59.29341883900238,
          -61.196701455894065,
          -48.89456463908509,
          -60.44861960050629,
          -51.57808924235441,
          -65.8745305008763,
          -65.4071837166597
         ],
         "xaxis": "x",
         "yaxis": "y"
        },
        {
         "marker": {
          "color": "blue"
         },
         "name": "1",
         "showlegend": false,
         "type": "histogram",
         "x": [
          3.652539980303904,
          -50.65184557246154,
          -20.058622608282473,
          -59.65912076432127,
          -40.147950419973114,
          -62.11907651306581,
          -37.8687121255186,
          -5.988291404461766,
          -4.798719979675258,
          -48.953458928866176,
          -5.506198949123675,
          -52.87802949766669,
          -58.748340560326604,
          -55.46821927236958,
          -32.00662793217,
          -30.331532495669645,
          -37.40669051191545,
          -50.97887374380263,
          -28.528051195646675,
          -45.36183304573075,
          -53.23549135517389,
          5.6108748690228305,
          -43.152461966898805,
          -60.30818856495045,
          -43.27743578694284,
          -33.3930098153638,
          -44.57283406308798,
          -23.34841066964565,
          -5.928443537840467,
          -70.18764189198842,
          -19.586150781013934,
          -12.464138886746156,
          -27.396149261664327,
          -33.41816928418123,
          -37.95199553104753,
          -32.9177009719073,
          -58.03163616763135,
          2.156233156203702,
          -47.65984590700781,
          -63.27562614562061,
          -38.22898553035097,
          -16.61765464016507,
          -42.08755989625126,
          -28.28584550296941,
          19.480428820988905,
          -49.81230975425973,
          -47.4185909552061,
          -47.10968100181287,
          -41.384144111407494,
          -6.76859197445745,
          -47.820186180821736,
          -37.26212775186604,
          -59.81302904700999,
          -45.77872358685724,
          83.80568396584738,
          -18.625388729486957,
          -60.61673116201729,
          -1.8946561424062258,
          -3.2060539881553995,
          -44.82274342018354,
          -14.495292148461214,
          -24.57674787519727,
          -40.92958422461736,
          -48.96502848579202,
          6.350355845466149,
          -46.29587292009481,
          -49.44133605279818,
          -53.602101812015256,
          -37.41970707965313,
          -41.06183576946063,
          -28.04826973266773,
          -14.122416069179689,
          -27.012145152806877,
          -6.038029676491141,
          -21.939693394081672,
          -27.11302421014279,
          -30.48485955652659,
          -64.58882522965308,
          -8.394378485254917,
          -38.00586097200106,
          -26.826090571628836,
          -47.08618856642588,
          -39.78028520405381,
          -47.74082168841053,
          -40.73674214902627,
          -34.03099505860272,
          -41.999371134294464,
          -32.79992754377168,
          26.543881383669564,
          -62.71504001762693,
          -48.81768592918686,
          -1.455697843119319,
          -44.14623917688185,
          -57.671528527565805,
          -35.73839790760651,
          -8.477210718020201,
          -70.80035396543052,
          -12.886554434071229,
          -48.37273428998532,
          -6.628315110660388
         ],
         "xaxis": "x2",
         "yaxis": "y2"
        },
        {
         "marker": {
          "color": "grey"
         },
         "name": "2",
         "showlegend": false,
         "type": "histogram",
         "x": [
          -22.128525497116147,
          -31.31226024057573,
          -33.09601642864393,
          -29.01481783280504,
          -39.101847908544194,
          -1.651648054619692,
          -51.91528353591757,
          -39.75941462341981,
          -46.48797092326393,
          -63.14703026037183,
          -44.06539277801984,
          -61.16297784366493,
          -30.89861998494644,
          -60.796174991432025,
          -69.55749085976419,
          -56.420598669745495,
          -61.61590148772095,
          -51.16393926234517,
          -48.23380561634024,
          -50.971224088152425,
          -48.8510293448384,
          -30.45369434682721,
          -46.272365556172524,
          -56.22706951891274,
          -42.41498867387702,
          -41.93792432398905,
          9.672008562204493,
          -29.395639642120585,
          -19.094268709282858,
          -50.202571221132295,
          -30.054257105501037,
          -54.301106070808714,
          -43.617098653954855,
          -58.44765816841999,
          -41.274771751630425,
          -11.597276334531447,
          -56.354477112120705,
          -59.77609064720608,
          -43.34122218451441,
          -66.72639289538034,
          6.338758133092703,
          -62.826862959216044,
          -18.96603875528784,
          -40.593026675950824,
          -60.09766360613915,
          -42.35585911421871,
          -41.95685846136429,
          -37.70483983312869,
          -65.53116845064363,
          -24.687988800187956,
          -33.81600429897742,
          -75.88990118633583,
          -40.313047647508725,
          -54.874860093623745,
          -53.8446981754767,
          -14.210985869579417,
          -53.397555150831536,
          -50.85601150294023,
          -46.15153068043397,
          -39.1209498398307,
          -46.92124727517375,
          -12.229023173137843,
          -27.17320198228299,
          -61.91170360392846,
          -52.612514180215484,
          -23.771081239709325,
          -23.048354653586923,
          -50.69724809829788,
          -70.4609020620351,
          -34.5787405379747,
          -47.29092902801232,
          -45.7597494804043,
          -61.82871808545127,
          -54.780690867598956,
          -45.56571591514752,
          -7.08106416733556,
          -51.077865456711336,
          -16.02842487596112,
          -54.67416034500323,
          -44.407078677301214,
          -66.06292044582347,
          -30.156965116052948,
          -53.72828479649265,
          -57.78707034255455,
          -19.09169135695373,
          -33.19403380306287,
          -52.6542775915656,
          -29.354325259583902,
          -40.72006775557799,
          -44.0543133950079,
          -15.400466980677374,
          -68.54031069946302,
          -64.06927597618808,
          -49.52608779762067,
          -63.39503017426229,
          8.40955856002803,
          -3.2948763969342876,
          -36.709459564187455,
          -59.75665966428518,
          -67.88948784463808
         ],
         "xaxis": "x2",
         "yaxis": "y2"
        },
        {
         "marker": {
          "color": "red"
         },
         "name": "3",
         "showlegend": false,
         "type": "histogram",
         "x": [
          -42.607223782360016,
          -45.49070288000648,
          -48.88182443112168,
          -42.84370350075572,
          -4.664928177016003,
          -8.997986545045523,
          -30.924825632012308,
          -9.46078603598931,
          -47.55888396819201,
          -37.517335671955706,
          -42.09232127774195,
          -56.42854002879667,
          -53.81384566069614,
          -11.717969992779187,
          -41.62715615438761,
          -48.68339322102797,
          -11.170785019948326,
          -40.739710992669366,
          -56.43873777300765,
          32.97646980011004,
          -35.48442024694711,
          -45.61282541202909,
          -65.89108943513425,
          -31.497087360448806,
          -37.486494634947576,
          -39.19052181893659,
          -26.481716011593115,
          -43.135576943416446,
          -34.02514209013301,
          -42.238768111365154,
          -19.20953312433443,
          -46.17302234506426,
          -20.127815981572716,
          -58.072841896661465,
          -48.99397214572855,
          12.396616184988286,
          -2.83882367471171,
          -32.546853441935056,
          -49.249214575157765,
          -61.15137798601224,
          -39.592107902127275,
          -63.52576263985122,
          -74.85640381698101,
          -43.396305388823166,
          -42.782787871971884,
          -58.08016726436098,
          -67.0151883926779,
          -43.79208687492968,
          -55.80484461540149,
          -41.7698637139426,
          -24.337333468080026,
          -30.860045409069002,
          -41.82633775191652,
          -16.970940507429244,
          -62.26213886111793,
          -34.178740357122614,
          -25.519600868412052,
          -34.503855496910354,
          -58.81337044302395,
          -42.85550902167885,
          5.136374597989635,
          -48.34946378255803,
          -44.83375293639903,
          -32.49184385946029,
          -52.06312517951034,
          -60.666857072840585,
          -41.15577502680725,
          -37.64341260903017,
          -38.98110480015807,
          -45.39469088871656,
          -28.615366440363765,
          -46.27944380137063,
          4.346436588032132,
          -44.4202289532312,
          -59.855652284364936,
          -48.49966302759341,
          -33.94297260105969,
          -57.61672504672761,
          -56.688422633203174,
          -30.32579009680977,
          -50.907058927751734,
          -36.89989351875928,
          -53.82066748573645,
          -46.483878108097166,
          -32.82150174971178,
          -56.450297978194484,
          -47.226825864116904,
          -36.19797451080071,
          -55.264952547215366,
          -59.78443097076451,
          -14.079574329604338,
          -12.873876365439152,
          -35.238070780852816,
          -31.69569983136392,
          -32.915418277829886,
          -35.98719171718924,
          -41.11332369301146,
          -47.41369573057605,
          -54.711468438361585,
          -1.6400197864117283
         ],
         "xaxis": "x2",
         "yaxis": "y2"
        },
        {
         "marker": {
          "color": "blue"
         },
         "name": "1",
         "showlegend": false,
         "type": "histogram",
         "x": [
          -62.95242833936634,
          -36.17830375875146,
          -30.123110308643707,
          -51.77749217789855,
          -27.192557275598304,
          -35.14899219304694,
          -13.801729257008832,
          -52.49460926120699,
          -41.75113052683411,
          -17.565524739111492,
          -35.903762176759166,
          -44.77914772460616,
          -47.059030684655454,
          -17.12932407072906,
          -26.62571728733152,
          -38.69132991758124,
          -54.10333095390861,
          -31.524119389387216,
          -41.80473477705282,
          -54.031278556743466,
          -40.08697288763262,
          -40.65055777221795,
          -62.83021124693919,
          -18.401422260385235,
          -46.43743469600273,
          -38.79745192524232,
          9.838465710361778,
          -33.382858046008735,
          -43.40015273011082,
          -45.77102021885769,
          -29.21237433924393,
          -23.067485102900463,
          -44.85117166892534,
          -66.34662145771175,
          -44.53275552506416,
          -27.97739125499309,
          -22.962446849935315,
          -15.083019911348018,
          -29.49315045302846,
          -50.34262506763414,
          -39.45779871819137,
          -65.73956450689633,
          -52.03539254089616,
          -43.630248615301916,
          -48.367781014323384,
          -35.606172943036064,
          -27.618012531312488,
          -23.912970223641928,
          -32.4187738147387,
          -22.9887551067703,
          -36.96471112539852,
          -53.55170064939132,
          -50.385580607850436,
          -52.43368625406728,
          -32.28045637437964,
          33.2598801905867,
          3.6163433825777025,
          -58.46490529102735,
          -52.36002249865641,
          -30.50491119929347,
          -14.303655366047153,
          -26.19016034563486,
          35.30083243700683,
          -18.207642102922016,
          -41.93844878828359,
          -28.55415047289628,
          7.438808197961366,
          -59.98979858332838,
          -21.52306256556633,
          -34.94403866984985,
          -33.318555245422864,
          -16.764705075987784,
          -15.13977624901739,
          -33.02978401448764,
          -64.16678351544263,
          -4.639193236566353,
          -34.62089238770487,
          -38.03805533579013,
          -51.729930805404344,
          -58.20939341833016,
          -39.22300998208408,
          -42.549869663315,
          -30.968370433982084,
          -31.086341528544647,
          -30.036879875672128,
          -15.407115048156472,
          -44.75768555515095,
          -55.18213568745281,
          -1.3014109583131095,
          -48.918159570933696,
          -26.05018327096641,
          -49.54973115139912,
          -59.05982820192297,
          -11.885668359433854,
          -6.556895064649448,
          -35.040603112249116,
          -36.42087575857408,
          -27.27684012362872,
          -60.90616487501934,
          -0.21902332471638308
         ],
         "xaxis": "x3",
         "yaxis": "y3"
        },
        {
         "marker": {
          "color": "grey"
         },
         "name": "2",
         "showlegend": false,
         "type": "histogram",
         "x": [
          -38.888781523763704,
          -17.407779848832185,
          -33.933638243418585,
          -47.913790866107334,
          -47.76145242783563,
          -15.676197220185362,
          -43.038495532014444,
          -44.75318161575493,
          -56.399609590351176,
          -60.93550668450571,
          -41.91550171008821,
          -34.31936291399988,
          -47.495229666514184,
          -21.956308427889503,
          -48.65726582531013,
          -50.25326747029624,
          -58.18440482134963,
          -22.387103433494005,
          -17.505305243191195,
          -44.83310907808081,
          -36.59300292175922,
          -32.5254018549636,
          5.456784576247964,
          -37.78937198047308,
          -10.404613427773713,
          -43.90589875883577,
          -46.06345946737084,
          -61.82087722815992,
          -62.55192201963622,
          -59.04674345201577,
          -44.66593843792403,
          -32.964731600923805,
          -22.771921788550642,
          -19.928361823398255,
          -13.541817354253926,
          -36.03995950301881,
          -42.19547495822601,
          -42.73512790214921,
          -16.775938805249492,
          10.301109668957453,
          -22.44190448454867,
          -40.46958375881502,
          -50.35200433423499,
          -47.94602422837809,
          -20.810436409187073,
          -40.475990687390194,
          -51.618065373657686,
          -61.057885567685446,
          -57.102631710222475,
          -62.72991103226923,
          -31.451199761810102,
          -39.132971634726474,
          -28.583466146483826,
          -28.45092843029685,
          -41.386277048744255,
          -20.095318349772462,
          -25.48475303084683,
          -48.711138224490384,
          -15.643563260423443,
          -58.42855938541884,
          -42.20513561775419,
          -50.70406909040494,
          -43.76600813979348,
          -57.24943205035712,
          -36.12262542964465,
          -36.3682088285285,
          -69.5099061650086,
          -30.513309604788063,
          -37.128663659317674,
          -41.61411780475762,
          -42.17451879201787,
          -43.161751343987206,
          -26.481766445799792,
          -56.050020179589524,
          -50.215121594303646,
          -35.33533925031047,
          -35.12066742438942,
          -37.91498550486071,
          -47.99566002221478,
          -55.81104141170768,
          -58.4279324248142,
          -25.6669967690113,
          -41.4826783443628,
          -65.86376945928988,
          -54.08969835468067,
          -40.97993035194194,
          -42.7130436193564,
          -67.30882368892063,
          -36.01397244746766,
          11.511472086470187,
          -58.81172338271088,
          -48.78971319694564,
          6.823760818635005,
          26.695894448251,
          -37.68160535445214,
          -34.735122301179864,
          -34.49308627054085,
          -72.95951748105153,
          -44.095198680030855,
          -38.61184681947027
         ],
         "xaxis": "x3",
         "yaxis": "y3"
        },
        {
         "marker": {
          "color": "red"
         },
         "name": "3",
         "showlegend": false,
         "type": "histogram",
         "x": [
          8.153220124041983,
          -0.2668299814126973,
          -69.76021513992382,
          5.384586140028058,
          -61.55955005422131,
          -36.336097950353995,
          -47.470899044689475,
          -58.4854128373814,
          -55.40095397836677,
          -61.05840005745784,
          -41.185764712261765,
          -57.628887821429856,
          -42.09958805622639,
          -28.207567074438433,
          -22.23411535568435,
          -30.984056715629173,
          -25.45137481924449,
          -38.79168827944006,
          -24.447936016545434,
          -3.277878589779959,
          -39.96482843122726,
          -19.605461938947542,
          -38.74028599850197,
          -55.1248624983192,
          -15.51499622977236,
          -40.915148123125974,
          19.79442225757344,
          -15.622400334499787,
          -37.206524617884085,
          -19.772414143501983,
          -50.10968730159484,
          -41.987788767513756,
          14.900962714347997,
          -12.491995802163125,
          -37.1861862823734,
          -12.956545438640498,
          -44.03184129959597,
          -39.90901469848925,
          -46.70411080032979,
          -47.70539939575955,
          -28.39537497416683,
          -56.11252371050027,
          -28.128890822426566,
          -63.55858151397469,
          -29.721211266471357,
          -29.71071935458759,
          -40.425354787060975,
          -38.783232123845146,
          -48.53451209287084,
          2.9994421829196316,
          -40.01266151795383,
          13.988170478693274,
          -6.7325217889893985,
          -35.38423358319991,
          -62.65390043525261,
          -10.531290331375198,
          -39.61191732589327,
          -17.525463328112277,
          -48.95693156286948,
          -59.0409248971826,
          -13.67756017392373,
          11.458183581770932,
          -43.0097099011024,
          -49.72468376626353,
          -5.004895971584478,
          -53.277472377941635,
          -36.71171179693656,
          -56.490057457309625,
          -22.145580131635633,
          -48.08071979516508,
          -21.107533309712924,
          -31.12915850869824,
          -17.99301993596104,
          -32.24366073545523,
          -55.567260199574456,
          -76.08765915714777,
          -38.6462952559805,
          -43.29885227431556,
          -30.003059467356263,
          -33.515375792016,
          -41.44126559100903,
          -61.204363262187464,
          -32.69730482778982,
          -21.224785559575764,
          8.607835394545926,
          -14.885393250389434,
          -50.86320070133667,
          -26.12532005523476,
          -66.04223245519363,
          -66.86877469347891,
          -56.80256893373738,
          -45.28373440381993,
          -12.007898303373754,
          -53.29304856284664,
          -60.67931407426239,
          -21.694223671040536,
          -25.11969270824754,
          3.124357667964728,
          -70.43206033300397,
          -53.76867594542095
         ],
         "xaxis": "x3",
         "yaxis": "y3"
        },
        {
         "marker": {
          "color": "blue"
         },
         "name": "1",
         "showlegend": false,
         "type": "histogram",
         "x": [
          -46.289790669497165,
          -54.78903334427084,
          -62.37925712480382,
          -31.01858253968438,
          -4.426430170193518,
          -60.72234749219145,
          -59.02631720877605,
          -69.46105229892106,
          -47.27082402130605,
          -39.53920778404245,
          -13.538656291173734,
          -58.078102248476135,
          -58.11752660933228,
          -61.24004352964023,
          -32.51053020746293,
          -41.21697616088521,
          -23.302137853324577,
          -6.530599882824173,
          -18.045640590263968,
          -26.477994596438435,
          -48.19271934142074,
          -39.56972392823541,
          -49.067506662151985,
          -61.18711457511108,
          -62.71702580377519,
          -2.756312931981797,
          -31.080555312291523,
          -39.54450095127582,
          25.644516556300267,
          -9.984731522777091,
          -49.006755591589645,
          -34.1061815722614,
          -47.03521380019349,
          -52.72185316744022,
          -62.42041130331093,
          -41.48441461863126,
          -40.34649797519116,
          -5.806441601481749,
          -48.94641770750893,
          -35.30579146987335,
          -21.11590638634926,
          -60.54171978519243,
          -47.139667450079514,
          -65.71382204934069,
          -36.85876966125432,
          -51.53475774868582,
          -40.96846221498554,
          -59.074168194238055,
          -19.75533026264229,
          -66.75205006414441,
          1.3826063061884941,
          -59.375592160200455,
          -33.51205800170563,
          -68.35363286910349,
          -30.254904929873828,
          -42.04355256922129,
          -44.68754229219499,
          -51.478085007563124,
          -37.906470284458806,
          -53.217866909527835,
          -53.66455888033301,
          -53.298093356869394,
          -46.64689666931504,
          -53.554035688139734,
          -39.89601415261432,
          -30.0666256598757,
          -49.60649163196141,
          -54.894262080060294,
          -22.393448466711796,
          -35.68465663259225,
          -28.2942812599398,
          -75.06254016216131,
          -37.57999191416454,
          -40.866056743113596,
          -12.628786056716734,
          -67.93015142751261,
          -56.029440448905966,
          -59.56742896931896,
          -27.418178349369526,
          -35.41256572614808,
          -53.46793810305874,
          -29.132512726684322,
          -37.84496026053606,
          -36.2336401472482,
          -51.30455988624229,
          -54.084954634773474,
          -10.315203466327427,
          -52.33434136714952,
          -51.641051464144624,
          -52.326941340500554,
          -52.01821070614909,
          -28.386226115569368,
          -53.96357111249065,
          -60.959995107375306,
          -25.085255959412013,
          -0.7273663652638596,
          -28.606597442004343,
          -72.66167291718077,
          -52.1098590546882,
          -6.263652444888368
         ],
         "xaxis": "x4",
         "yaxis": "y4"
        },
        {
         "marker": {
          "color": "grey"
         },
         "name": "2",
         "showlegend": false,
         "type": "histogram",
         "x": [
          -25.391272522010155,
          -52.91599163648005,
          -36.00734117615983,
          -53.87524127727312,
          -42.36473014388756,
          -43.6640297422498,
          -0.15351918822661403,
          -57.71263163629984,
          -55.40325404505305,
          -23.68006754222831,
          -4.083505282941912,
          -38.76041987544998,
          -33.49504135675681,
          -15.935004832984045,
          -37.20225729084717,
          -27.362020363182417,
          -33.83932327723409,
          -50.608761580867856,
          18.428522893801723,
          -68.97429664526454,
          -50.945614605446195,
          -60.94060547230683,
          -19.21140805089989,
          -31.061644175221048,
          -31.8265920567936,
          -54.71493919288986,
          -50.36697269616472,
          -58.69722053758959,
          -19.415484624514455,
          -37.36317431829863,
          -34.45689960063329,
          -36.282116859282546,
          -46.85726757857256,
          -41.75749603641206,
          -55.69502227450727,
          -65.79612418645122,
          -50.080412312054776,
          -42.1403172828276,
          -26.66283547162682,
          -45.47099627859531,
          -52.14372637557392,
          -41.52361111923219,
          -29.321902533210555,
          -60.26374525965122,
          -32.115211192727834,
          -32.27334565456753,
          -37.70674697198948,
          7.268868907825432,
          -60.235458210247806,
          -31.914545401738593,
          -6.8010448689273195,
          -45.56206626389907,
          -47.104833007225345,
          -3.0291429391379743,
          -43.30946164333004,
          3.8724423918156337,
          -47.51546640410429,
          -46.5812465120694,
          -53.810674008640866,
          -70.7430944860233,
          -60.97776472507306,
          -59.65190331562519,
          -9.429262201077703,
          -33.680456059355166,
          -54.2238294877003,
          -43.995287254790085,
          14.00847216815495,
          -35.33133925473273,
          -60.66910995904236,
          -48.43490895083463,
          -52.10616989411682,
          -50.87364578802234,
          -40.79211875982926,
          -18.751433537984074,
          -43.14920559892516,
          -46.311001899015146,
          -26.446209641902307,
          -44.98556805828875,
          -42.49939673821079,
          -65.49974770206745,
          -64.67847935552207,
          -41.87834382565685,
          -49.29108897229406,
          -34.44783047242911,
          -21.006826131839375,
          -43.422382098131116,
          -31.369029569610174,
          -63.88366621103154,
          -32.934792704027984,
          -56.15056693703955,
          -34.73801634757693,
          -32.251798213399084,
          -28.06038866406717,
          -64.4509778257964,
          -14.88676615830834,
          -35.67823677190434,
          -63.56168279782589,
          -68.0735884790929,
          -33.36938204820664,
          -61.97325632517864
         ],
         "xaxis": "x4",
         "yaxis": "y4"
        },
        {
         "marker": {
          "color": "red"
         },
         "name": "3",
         "showlegend": false,
         "type": "histogram",
         "x": [
          -16.40353391853038,
          -50.59895484938406,
          -15.211842524581776,
          -56.4963802332682,
          -66.30109117583287,
          -10.414093354860887,
          -27.79754905947688,
          -36.275693108934604,
          -53.22326875655013,
          -30.37745593924597,
          -39.76481902492996,
          -41.37279147133627,
          -19.625777325760364,
          -17.19505610499151,
          -44.39707788369714,
          -41.317720745446174,
          -6.319643801550246,
          -21.679514722201787,
          -28.904746760232914,
          -33.37331424066288,
          -55.896524682907824,
          -58.72955467085125,
          -69.45758310681423,
          -67.637176209533,
          -43.629941790564374,
          -54.76890098058078,
          -68.37541913464679,
          -54.20745246698699,
          -44.6576002726893,
          -45.78320993408537,
          -46.68945349152598,
          -26.08068677592138,
          -51.06144823324015,
          -48.1341679538455,
          -57.65547453311053,
          -66.30852281834561,
          -40.28287947694215,
          -37.13706467793021,
          -44.62200170450965,
          -60.14141681064451,
          -44.85300779488238,
          -41.26891169075071,
          -26.75742901863861,
          -25.966580925841008,
          -74.283647151247,
          -67.12407089071802,
          14.207558248516294,
          -33.624557312436195,
          67.2971281070504,
          -33.99215960812037,
          -56.85221859002512,
          -27.169444765070814,
          -52.31125053354091,
          -28.900566776242208,
          -56.99680793500459,
          -43.371562511622805,
          7.432688529368758,
          42.34875993276284,
          27.543557034632936,
          -23.016133469128842,
          -45.408092107351116,
          -17.736429080286765,
          -44.93368917148971,
          -29.945430694090113,
          -62.31547286097692,
          -60.64569974260172,
          -30.879789628114462,
          -42.33438088078677,
          -43.806945270906496,
          25.79765432515193,
          -10.790159041489822,
          -67.58422181469264,
          -62.804069780988016,
          -37.9980154489658,
          -63.32757676584744,
          -21.74955950971419,
          -52.032816819426344,
          -52.40259841079078,
          -46.142422890339994,
          -37.925195751533046,
          -43.949596792669276,
          3.292497197763411,
          -50.38904071304113,
          -35.18682364420756,
          25.684985310716833,
          -59.5560554910063,
          -45.32337960202769,
          -32.53635953725483,
          -19.017241515807402,
          -37.30665906938345,
          -38.423915945495466,
          -55.46137514267754,
          -57.45220154805424,
          -42.26298010364546,
          -39.94119348441602,
          -54.79158460899093,
          -55.68393701382832,
          -45.90851052933272,
          -43.22167803620004,
          -30.38560260144607
         ],
         "xaxis": "x4",
         "yaxis": "y4"
        }
       ],
       "layout": {
        "annotations": [
         {
          "font": {
           "size": 16
          },
          "showarrow": false,
          "text": "A2C",
          "x": 0.225,
          "xanchor": "center",
          "xref": "paper",
          "y": 1,
          "yanchor": "bottom",
          "yref": "paper"
         },
         {
          "font": {
           "size": 16
          },
          "showarrow": false,
          "text": "PPO",
          "x": 0.775,
          "xanchor": "center",
          "xref": "paper",
          "y": 1,
          "yanchor": "bottom",
          "yref": "paper"
         },
         {
          "font": {
           "size": 16
          },
          "showarrow": false,
          "text": "DQN",
          "x": 0.225,
          "xanchor": "center",
          "xref": "paper",
          "y": 0.375,
          "yanchor": "bottom",
          "yref": "paper"
         },
         {
          "font": {
           "size": 16
          },
          "showarrow": false,
          "text": "RANDOM",
          "x": 0.775,
          "xanchor": "center",
          "xref": "paper",
          "y": 0.375,
          "yanchor": "bottom",
          "yref": "paper"
         }
        ],
        "height": 800,
        "template": {
         "data": {
          "bar": [
           {
            "error_x": {
             "color": "#2a3f5f"
            },
            "error_y": {
             "color": "#2a3f5f"
            },
            "marker": {
             "line": {
              "color": "#E5ECF6",
              "width": 0.5
             },
             "pattern": {
              "fillmode": "overlay",
              "size": 10,
              "solidity": 0.2
             }
            },
            "type": "bar"
           }
          ],
          "barpolar": [
           {
            "marker": {
             "line": {
              "color": "#E5ECF6",
              "width": 0.5
             },
             "pattern": {
              "fillmode": "overlay",
              "size": 10,
              "solidity": 0.2
             }
            },
            "type": "barpolar"
           }
          ],
          "carpet": [
           {
            "aaxis": {
             "endlinecolor": "#2a3f5f",
             "gridcolor": "white",
             "linecolor": "white",
             "minorgridcolor": "white",
             "startlinecolor": "#2a3f5f"
            },
            "baxis": {
             "endlinecolor": "#2a3f5f",
             "gridcolor": "white",
             "linecolor": "white",
             "minorgridcolor": "white",
             "startlinecolor": "#2a3f5f"
            },
            "type": "carpet"
           }
          ],
          "choropleth": [
           {
            "colorbar": {
             "outlinewidth": 0,
             "ticks": ""
            },
            "type": "choropleth"
           }
          ],
          "contour": [
           {
            "colorbar": {
             "outlinewidth": 0,
             "ticks": ""
            },
            "colorscale": [
             [
              0,
              "#0d0887"
             ],
             [
              0.1111111111111111,
              "#46039f"
             ],
             [
              0.2222222222222222,
              "#7201a8"
             ],
             [
              0.3333333333333333,
              "#9c179e"
             ],
             [
              0.4444444444444444,
              "#bd3786"
             ],
             [
              0.5555555555555556,
              "#d8576b"
             ],
             [
              0.6666666666666666,
              "#ed7953"
             ],
             [
              0.7777777777777778,
              "#fb9f3a"
             ],
             [
              0.8888888888888888,
              "#fdca26"
             ],
             [
              1,
              "#f0f921"
             ]
            ],
            "type": "contour"
           }
          ],
          "contourcarpet": [
           {
            "colorbar": {
             "outlinewidth": 0,
             "ticks": ""
            },
            "type": "contourcarpet"
           }
          ],
          "heatmap": [
           {
            "colorbar": {
             "outlinewidth": 0,
             "ticks": ""
            },
            "colorscale": [
             [
              0,
              "#0d0887"
             ],
             [
              0.1111111111111111,
              "#46039f"
             ],
             [
              0.2222222222222222,
              "#7201a8"
             ],
             [
              0.3333333333333333,
              "#9c179e"
             ],
             [
              0.4444444444444444,
              "#bd3786"
             ],
             [
              0.5555555555555556,
              "#d8576b"
             ],
             [
              0.6666666666666666,
              "#ed7953"
             ],
             [
              0.7777777777777778,
              "#fb9f3a"
             ],
             [
              0.8888888888888888,
              "#fdca26"
             ],
             [
              1,
              "#f0f921"
             ]
            ],
            "type": "heatmap"
           }
          ],
          "heatmapgl": [
           {
            "colorbar": {
             "outlinewidth": 0,
             "ticks": ""
            },
            "colorscale": [
             [
              0,
              "#0d0887"
             ],
             [
              0.1111111111111111,
              "#46039f"
             ],
             [
              0.2222222222222222,
              "#7201a8"
             ],
             [
              0.3333333333333333,
              "#9c179e"
             ],
             [
              0.4444444444444444,
              "#bd3786"
             ],
             [
              0.5555555555555556,
              "#d8576b"
             ],
             [
              0.6666666666666666,
              "#ed7953"
             ],
             [
              0.7777777777777778,
              "#fb9f3a"
             ],
             [
              0.8888888888888888,
              "#fdca26"
             ],
             [
              1,
              "#f0f921"
             ]
            ],
            "type": "heatmapgl"
           }
          ],
          "histogram": [
           {
            "marker": {
             "pattern": {
              "fillmode": "overlay",
              "size": 10,
              "solidity": 0.2
             }
            },
            "type": "histogram"
           }
          ],
          "histogram2d": [
           {
            "colorbar": {
             "outlinewidth": 0,
             "ticks": ""
            },
            "colorscale": [
             [
              0,
              "#0d0887"
             ],
             [
              0.1111111111111111,
              "#46039f"
             ],
             [
              0.2222222222222222,
              "#7201a8"
             ],
             [
              0.3333333333333333,
              "#9c179e"
             ],
             [
              0.4444444444444444,
              "#bd3786"
             ],
             [
              0.5555555555555556,
              "#d8576b"
             ],
             [
              0.6666666666666666,
              "#ed7953"
             ],
             [
              0.7777777777777778,
              "#fb9f3a"
             ],
             [
              0.8888888888888888,
              "#fdca26"
             ],
             [
              1,
              "#f0f921"
             ]
            ],
            "type": "histogram2d"
           }
          ],
          "histogram2dcontour": [
           {
            "colorbar": {
             "outlinewidth": 0,
             "ticks": ""
            },
            "colorscale": [
             [
              0,
              "#0d0887"
             ],
             [
              0.1111111111111111,
              "#46039f"
             ],
             [
              0.2222222222222222,
              "#7201a8"
             ],
             [
              0.3333333333333333,
              "#9c179e"
             ],
             [
              0.4444444444444444,
              "#bd3786"
             ],
             [
              0.5555555555555556,
              "#d8576b"
             ],
             [
              0.6666666666666666,
              "#ed7953"
             ],
             [
              0.7777777777777778,
              "#fb9f3a"
             ],
             [
              0.8888888888888888,
              "#fdca26"
             ],
             [
              1,
              "#f0f921"
             ]
            ],
            "type": "histogram2dcontour"
           }
          ],
          "mesh3d": [
           {
            "colorbar": {
             "outlinewidth": 0,
             "ticks": ""
            },
            "type": "mesh3d"
           }
          ],
          "parcoords": [
           {
            "line": {
             "colorbar": {
              "outlinewidth": 0,
              "ticks": ""
             }
            },
            "type": "parcoords"
           }
          ],
          "pie": [
           {
            "automargin": true,
            "type": "pie"
           }
          ],
          "scatter": [
           {
            "fillpattern": {
             "fillmode": "overlay",
             "size": 10,
             "solidity": 0.2
            },
            "type": "scatter"
           }
          ],
          "scatter3d": [
           {
            "line": {
             "colorbar": {
              "outlinewidth": 0,
              "ticks": ""
             }
            },
            "marker": {
             "colorbar": {
              "outlinewidth": 0,
              "ticks": ""
             }
            },
            "type": "scatter3d"
           }
          ],
          "scattercarpet": [
           {
            "marker": {
             "colorbar": {
              "outlinewidth": 0,
              "ticks": ""
             }
            },
            "type": "scattercarpet"
           }
          ],
          "scattergeo": [
           {
            "marker": {
             "colorbar": {
              "outlinewidth": 0,
              "ticks": ""
             }
            },
            "type": "scattergeo"
           }
          ],
          "scattergl": [
           {
            "marker": {
             "colorbar": {
              "outlinewidth": 0,
              "ticks": ""
             }
            },
            "type": "scattergl"
           }
          ],
          "scattermapbox": [
           {
            "marker": {
             "colorbar": {
              "outlinewidth": 0,
              "ticks": ""
             }
            },
            "type": "scattermapbox"
           }
          ],
          "scatterpolar": [
           {
            "marker": {
             "colorbar": {
              "outlinewidth": 0,
              "ticks": ""
             }
            },
            "type": "scatterpolar"
           }
          ],
          "scatterpolargl": [
           {
            "marker": {
             "colorbar": {
              "outlinewidth": 0,
              "ticks": ""
             }
            },
            "type": "scatterpolargl"
           }
          ],
          "scatterternary": [
           {
            "marker": {
             "colorbar": {
              "outlinewidth": 0,
              "ticks": ""
             }
            },
            "type": "scatterternary"
           }
          ],
          "surface": [
           {
            "colorbar": {
             "outlinewidth": 0,
             "ticks": ""
            },
            "colorscale": [
             [
              0,
              "#0d0887"
             ],
             [
              0.1111111111111111,
              "#46039f"
             ],
             [
              0.2222222222222222,
              "#7201a8"
             ],
             [
              0.3333333333333333,
              "#9c179e"
             ],
             [
              0.4444444444444444,
              "#bd3786"
             ],
             [
              0.5555555555555556,
              "#d8576b"
             ],
             [
              0.6666666666666666,
              "#ed7953"
             ],
             [
              0.7777777777777778,
              "#fb9f3a"
             ],
             [
              0.8888888888888888,
              "#fdca26"
             ],
             [
              1,
              "#f0f921"
             ]
            ],
            "type": "surface"
           }
          ],
          "table": [
           {
            "cells": {
             "fill": {
              "color": "#EBF0F8"
             },
             "line": {
              "color": "white"
             }
            },
            "header": {
             "fill": {
              "color": "#C8D4E3"
             },
             "line": {
              "color": "white"
             }
            },
            "type": "table"
           }
          ]
         },
         "layout": {
          "annotationdefaults": {
           "arrowcolor": "#2a3f5f",
           "arrowhead": 0,
           "arrowwidth": 1
          },
          "autotypenumbers": "strict",
          "coloraxis": {
           "colorbar": {
            "outlinewidth": 0,
            "ticks": ""
           }
          },
          "colorscale": {
           "diverging": [
            [
             0,
             "#8e0152"
            ],
            [
             0.1,
             "#c51b7d"
            ],
            [
             0.2,
             "#de77ae"
            ],
            [
             0.3,
             "#f1b6da"
            ],
            [
             0.4,
             "#fde0ef"
            ],
            [
             0.5,
             "#f7f7f7"
            ],
            [
             0.6,
             "#e6f5d0"
            ],
            [
             0.7,
             "#b8e186"
            ],
            [
             0.8,
             "#7fbc41"
            ],
            [
             0.9,
             "#4d9221"
            ],
            [
             1,
             "#276419"
            ]
           ],
           "sequential": [
            [
             0,
             "#0d0887"
            ],
            [
             0.1111111111111111,
             "#46039f"
            ],
            [
             0.2222222222222222,
             "#7201a8"
            ],
            [
             0.3333333333333333,
             "#9c179e"
            ],
            [
             0.4444444444444444,
             "#bd3786"
            ],
            [
             0.5555555555555556,
             "#d8576b"
            ],
            [
             0.6666666666666666,
             "#ed7953"
            ],
            [
             0.7777777777777778,
             "#fb9f3a"
            ],
            [
             0.8888888888888888,
             "#fdca26"
            ],
            [
             1,
             "#f0f921"
            ]
           ],
           "sequentialminus": [
            [
             0,
             "#0d0887"
            ],
            [
             0.1111111111111111,
             "#46039f"
            ],
            [
             0.2222222222222222,
             "#7201a8"
            ],
            [
             0.3333333333333333,
             "#9c179e"
            ],
            [
             0.4444444444444444,
             "#bd3786"
            ],
            [
             0.5555555555555556,
             "#d8576b"
            ],
            [
             0.6666666666666666,
             "#ed7953"
            ],
            [
             0.7777777777777778,
             "#fb9f3a"
            ],
            [
             0.8888888888888888,
             "#fdca26"
            ],
            [
             1,
             "#f0f921"
            ]
           ]
          },
          "colorway": [
           "#636efa",
           "#EF553B",
           "#00cc96",
           "#ab63fa",
           "#FFA15A",
           "#19d3f3",
           "#FF6692",
           "#B6E880",
           "#FF97FF",
           "#FECB52"
          ],
          "font": {
           "color": "#2a3f5f"
          },
          "geo": {
           "bgcolor": "white",
           "lakecolor": "white",
           "landcolor": "#E5ECF6",
           "showlakes": true,
           "showland": true,
           "subunitcolor": "white"
          },
          "hoverlabel": {
           "align": "left"
          },
          "hovermode": "closest",
          "mapbox": {
           "style": "light"
          },
          "paper_bgcolor": "white",
          "plot_bgcolor": "#E5ECF6",
          "polar": {
           "angularaxis": {
            "gridcolor": "white",
            "linecolor": "white",
            "ticks": ""
           },
           "bgcolor": "#E5ECF6",
           "radialaxis": {
            "gridcolor": "white",
            "linecolor": "white",
            "ticks": ""
           }
          },
          "scene": {
           "xaxis": {
            "backgroundcolor": "#E5ECF6",
            "gridcolor": "white",
            "gridwidth": 2,
            "linecolor": "white",
            "showbackground": true,
            "ticks": "",
            "zerolinecolor": "white"
           },
           "yaxis": {
            "backgroundcolor": "#E5ECF6",
            "gridcolor": "white",
            "gridwidth": 2,
            "linecolor": "white",
            "showbackground": true,
            "ticks": "",
            "zerolinecolor": "white"
           },
           "zaxis": {
            "backgroundcolor": "#E5ECF6",
            "gridcolor": "white",
            "gridwidth": 2,
            "linecolor": "white",
            "showbackground": true,
            "ticks": "",
            "zerolinecolor": "white"
           }
          },
          "shapedefaults": {
           "line": {
            "color": "#2a3f5f"
           }
          },
          "ternary": {
           "aaxis": {
            "gridcolor": "white",
            "linecolor": "white",
            "ticks": ""
           },
           "baxis": {
            "gridcolor": "white",
            "linecolor": "white",
            "ticks": ""
           },
           "bgcolor": "#E5ECF6",
           "caxis": {
            "gridcolor": "white",
            "linecolor": "white",
            "ticks": ""
           }
          },
          "title": {
           "x": 0.05
          },
          "xaxis": {
           "automargin": true,
           "gridcolor": "white",
           "linecolor": "white",
           "ticks": "",
           "title": {
            "standoff": 15
           },
           "zerolinecolor": "white",
           "zerolinewidth": 2
          },
          "yaxis": {
           "automargin": true,
           "gridcolor": "white",
           "linecolor": "white",
           "ticks": "",
           "title": {
            "standoff": 15
           },
           "zerolinecolor": "white",
           "zerolinewidth": 2
          }
         }
        },
        "title": {
         "text": "Total Profit Percentage (in %) x different time-to-chart (Across different models) <br>ccy:BTCUSDT - time-to-chart:1h",
         "x": 0.5
        },
        "width": 1200,
        "xaxis": {
         "anchor": "y",
         "domain": [
          0,
          0.45
         ],
         "matches": "x3",
         "showticklabels": false,
         "title": {
          "standoff": 25,
          "text": "Total Profit Percentage (in %)"
         }
        },
        "xaxis2": {
         "anchor": "y2",
         "domain": [
          0.55,
          1
         ],
         "matches": "x3",
         "showticklabels": false,
         "title": {
          "standoff": 25,
          "text": "Total Profit Percentage (in %)"
         }
        },
        "xaxis3": {
         "anchor": "y3",
         "domain": [
          0,
          0.45
         ],
         "title": {
          "standoff": 25,
          "text": "Total Profit Percentage (in %)"
         }
        },
        "xaxis4": {
         "anchor": "y4",
         "domain": [
          0.55,
          1
         ],
         "matches": "x3",
         "title": {
          "standoff": 25,
          "text": "Total Profit Percentage (in %)"
         }
        },
        "yaxis": {
         "anchor": "x",
         "domain": [
          0.625,
          1
         ],
         "matches": "y3",
         "title": {
          "standoff": 25,
          "text": "Number of simulations"
         }
        },
        "yaxis2": {
         "anchor": "x2",
         "domain": [
          0.625,
          1
         ],
         "matches": "y3",
         "showticklabels": false,
         "title": {
          "standoff": 25,
          "text": "Number of simulations"
         }
        },
        "yaxis3": {
         "anchor": "x3",
         "domain": [
          0,
          0.375
         ],
         "title": {
          "standoff": 25,
          "text": "Number of simulations"
         }
        },
        "yaxis4": {
         "anchor": "x4",
         "domain": [
          0,
          0.375
         ],
         "matches": "y3",
         "showticklabels": false,
         "title": {
          "standoff": 25,
          "text": "Number of simulations"
         }
        }
       }
      }
     },
     "metadata": {},
     "output_type": "display_data"
    }
   ],
   "source": [
    "fig_output = get_histogramplot_total_profit_diff_feature(df_sim_results, list_timestamp[0])"
   ]
  },
  {
   "cell_type": "code",
   "execution_count": 89,
   "metadata": {},
   "outputs": [
    {
     "data": {
      "application/vnd.plotly.v1+json": {
       "config": {
        "plotlyServerURL": "https://plot.ly"
       },
       "data": [
        {
         "legendgroup": "1",
         "marker": {
          "color": "blue",
          "size": 10,
          "symbol": "circle"
         },
         "mode": "markers+text",
         "name": "A2C: 1",
         "type": "scatter",
         "x": [
          -29.989524337107948,
          -29.989524337107948
         ],
         "y": [
          3
         ]
        },
        {
         "legendgroup": "1",
         "marker": {
          "color": "grey",
          "size": 10,
          "symbol": "circle"
         },
         "mode": "markers+text",
         "name": "A2C:2",
         "type": "scatter",
         "x": [
          -27.052456032449406,
          -27.052456032449406
         ],
         "y": [
          3
         ]
        },
        {
         "legendgroup": "1",
         "marker": {
          "color": "red",
          "size": 10,
          "symbol": "circle"
         },
         "mode": "markers+text",
         "name": "A2C:3",
         "type": "scatter",
         "x": [
          -54.34133862725946,
          -54.34133862725946
         ],
         "y": [
          3
         ]
        },
        {
         "legendgroup": "2",
         "marker": {
          "color": "blue",
          "size": 10,
          "symbol": "square"
         },
         "mode": "markers",
         "name": "PPO: 1",
         "type": "scatter",
         "x": [
          -37.910353828283064,
          -37.910353828283064
         ],
         "y": [
          2
         ]
        },
        {
         "legendgroup": "2",
         "marker": {
          "color": "grey",
          "size": 10,
          "symbol": "square"
         },
         "mode": "markers",
         "name": "PPO: 2",
         "type": "scatter",
         "x": [
          -45.66273269777591,
          -45.66273269777591
         ],
         "y": [
          2
         ]
        },
        {
         "legendgroup": "2",
         "marker": {
          "color": "red",
          "size": 10,
          "symbol": "square"
         },
         "mode": "markers",
         "name": "PPO: 3",
         "type": "scatter",
         "x": [
          -41.959329514829236,
          -41.959329514829236
         ],
         "y": [
          2
         ]
        },
        {
         "legendgroup": "3",
         "marker": {
          "color": "blue",
          "size": 10,
          "symbol": "diamond"
         },
         "mode": "markers",
         "name": "DQN: 1",
         "type": "scatter",
         "x": [
          -35.377582568041504,
          -35.377582568041504
         ],
         "y": [
          1
         ]
        },
        {
         "legendgroup": "3",
         "marker": {
          "color": "grey",
          "size": 10,
          "symbol": "diamond"
         },
         "mode": "markers",
         "name": "DQN: 2",
         "type": "scatter",
         "x": [
          -41.43447769655353,
          -41.43447769655353
         ],
         "y": [
          1
         ]
        },
        {
         "legendgroup": "3",
         "marker": {
          "color": "red",
          "size": 10,
          "symbol": "diamond"
         },
         "mode": "markers",
         "name": "DQN: 3",
         "type": "scatter",
         "x": [
          -37.92640993693229,
          -37.92640993693229
         ],
         "y": [
          1
         ]
        },
        {
         "legendgroup": "4",
         "marker": {
          "color": "blue",
          "size": 10,
          "symbol": "cross"
         },
         "mode": "markers+text",
         "name": "RANDOM: 1",
         "type": "scatter",
         "x": [
          -45.48866648084608,
          -45.48866648084608
         ],
         "y": [
          0
         ]
        },
        {
         "legendgroup": "4",
         "marker": {
          "color": "grey",
          "size": 10,
          "symbol": "cross"
         },
         "mode": "markers+text",
         "name": "RANDOM: 2",
         "type": "scatter",
         "x": [
          -42.25252371335758,
          -42.25252371335758
         ],
         "y": [
          0
         ]
        },
        {
         "legendgroup": "4",
         "marker": {
          "color": "red",
          "size": 10,
          "symbol": "cross"
         },
         "mode": "markers+text",
         "name": "RANDOM: 3",
         "type": "scatter",
         "x": [
          -42.77802945849341,
          -42.77802945849341
         ],
         "y": [
          0
         ]
        }
       ],
       "layout": {
        "annotations": [
         {
          "align": "center",
          "text": "-29.9895",
          "textangle": 45,
          "x": -29.989524337107948,
          "xanchor": "center",
          "xref": "x",
          "y": 3,
          "yref": "y"
         },
         {
          "align": "center",
          "text": "-27.0525",
          "textangle": 45,
          "x": -27.052456032449406,
          "xanchor": "center",
          "xref": "x",
          "y": 3,
          "yref": "y"
         },
         {
          "align": "center",
          "text": "-54.3413",
          "textangle": 45,
          "x": -54.34133862725946,
          "xanchor": "center",
          "xref": "x",
          "y": 3,
          "yref": "y"
         },
         {
          "align": "center",
          "text": "-37.9104",
          "textangle": 45,
          "x": -37.910353828283064,
          "xanchor": "center",
          "xref": "x",
          "y": 2,
          "yref": "y"
         },
         {
          "align": "center",
          "text": "-45.6627",
          "textangle": 45,
          "x": -45.66273269777591,
          "xanchor": "center",
          "xref": "x",
          "y": 2,
          "yref": "y"
         },
         {
          "align": "center",
          "text": "-41.9593",
          "textangle": 45,
          "x": -41.959329514829236,
          "xanchor": "center",
          "xref": "x",
          "y": 2,
          "yref": "y"
         },
         {
          "align": "center",
          "text": "-35.3776",
          "textangle": 45,
          "x": -35.377582568041504,
          "xanchor": "center",
          "xref": "x",
          "y": 1,
          "yref": "y"
         },
         {
          "align": "center",
          "text": "-41.4345",
          "textangle": 45,
          "x": -41.43447769655353,
          "xanchor": "center",
          "xref": "x",
          "y": 1,
          "yref": "y"
         },
         {
          "align": "center",
          "text": "-37.9264",
          "textangle": 45,
          "x": -37.92640993693229,
          "xanchor": "center",
          "xref": "x",
          "y": 1,
          "yref": "y"
         },
         {
          "align": "center",
          "text": "-45.4887",
          "textangle": 45,
          "x": -45.48866648084608,
          "xanchor": "center",
          "xref": "x",
          "y": 0,
          "yref": "y"
         },
         {
          "align": "center",
          "text": "-42.2525",
          "textangle": 45,
          "x": -42.25252371335758,
          "xanchor": "center",
          "xref": "x",
          "y": 0,
          "yref": "y"
         },
         {
          "align": "center",
          "text": "-42.778",
          "textangle": 45,
          "x": -42.77802945849341,
          "xanchor": "center",
          "xref": "x",
          "y": 0,
          "yref": "y"
         }
        ],
        "height": 800,
        "legend": {
         "tracegroupgap": 125
        },
        "template": {
         "data": {
          "bar": [
           {
            "error_x": {
             "color": "#2a3f5f"
            },
            "error_y": {
             "color": "#2a3f5f"
            },
            "marker": {
             "line": {
              "color": "#E5ECF6",
              "width": 0.5
             },
             "pattern": {
              "fillmode": "overlay",
              "size": 10,
              "solidity": 0.2
             }
            },
            "type": "bar"
           }
          ],
          "barpolar": [
           {
            "marker": {
             "line": {
              "color": "#E5ECF6",
              "width": 0.5
             },
             "pattern": {
              "fillmode": "overlay",
              "size": 10,
              "solidity": 0.2
             }
            },
            "type": "barpolar"
           }
          ],
          "carpet": [
           {
            "aaxis": {
             "endlinecolor": "#2a3f5f",
             "gridcolor": "white",
             "linecolor": "white",
             "minorgridcolor": "white",
             "startlinecolor": "#2a3f5f"
            },
            "baxis": {
             "endlinecolor": "#2a3f5f",
             "gridcolor": "white",
             "linecolor": "white",
             "minorgridcolor": "white",
             "startlinecolor": "#2a3f5f"
            },
            "type": "carpet"
           }
          ],
          "choropleth": [
           {
            "colorbar": {
             "outlinewidth": 0,
             "ticks": ""
            },
            "type": "choropleth"
           }
          ],
          "contour": [
           {
            "colorbar": {
             "outlinewidth": 0,
             "ticks": ""
            },
            "colorscale": [
             [
              0,
              "#0d0887"
             ],
             [
              0.1111111111111111,
              "#46039f"
             ],
             [
              0.2222222222222222,
              "#7201a8"
             ],
             [
              0.3333333333333333,
              "#9c179e"
             ],
             [
              0.4444444444444444,
              "#bd3786"
             ],
             [
              0.5555555555555556,
              "#d8576b"
             ],
             [
              0.6666666666666666,
              "#ed7953"
             ],
             [
              0.7777777777777778,
              "#fb9f3a"
             ],
             [
              0.8888888888888888,
              "#fdca26"
             ],
             [
              1,
              "#f0f921"
             ]
            ],
            "type": "contour"
           }
          ],
          "contourcarpet": [
           {
            "colorbar": {
             "outlinewidth": 0,
             "ticks": ""
            },
            "type": "contourcarpet"
           }
          ],
          "heatmap": [
           {
            "colorbar": {
             "outlinewidth": 0,
             "ticks": ""
            },
            "colorscale": [
             [
              0,
              "#0d0887"
             ],
             [
              0.1111111111111111,
              "#46039f"
             ],
             [
              0.2222222222222222,
              "#7201a8"
             ],
             [
              0.3333333333333333,
              "#9c179e"
             ],
             [
              0.4444444444444444,
              "#bd3786"
             ],
             [
              0.5555555555555556,
              "#d8576b"
             ],
             [
              0.6666666666666666,
              "#ed7953"
             ],
             [
              0.7777777777777778,
              "#fb9f3a"
             ],
             [
              0.8888888888888888,
              "#fdca26"
             ],
             [
              1,
              "#f0f921"
             ]
            ],
            "type": "heatmap"
           }
          ],
          "heatmapgl": [
           {
            "colorbar": {
             "outlinewidth": 0,
             "ticks": ""
            },
            "colorscale": [
             [
              0,
              "#0d0887"
             ],
             [
              0.1111111111111111,
              "#46039f"
             ],
             [
              0.2222222222222222,
              "#7201a8"
             ],
             [
              0.3333333333333333,
              "#9c179e"
             ],
             [
              0.4444444444444444,
              "#bd3786"
             ],
             [
              0.5555555555555556,
              "#d8576b"
             ],
             [
              0.6666666666666666,
              "#ed7953"
             ],
             [
              0.7777777777777778,
              "#fb9f3a"
             ],
             [
              0.8888888888888888,
              "#fdca26"
             ],
             [
              1,
              "#f0f921"
             ]
            ],
            "type": "heatmapgl"
           }
          ],
          "histogram": [
           {
            "marker": {
             "pattern": {
              "fillmode": "overlay",
              "size": 10,
              "solidity": 0.2
             }
            },
            "type": "histogram"
           }
          ],
          "histogram2d": [
           {
            "colorbar": {
             "outlinewidth": 0,
             "ticks": ""
            },
            "colorscale": [
             [
              0,
              "#0d0887"
             ],
             [
              0.1111111111111111,
              "#46039f"
             ],
             [
              0.2222222222222222,
              "#7201a8"
             ],
             [
              0.3333333333333333,
              "#9c179e"
             ],
             [
              0.4444444444444444,
              "#bd3786"
             ],
             [
              0.5555555555555556,
              "#d8576b"
             ],
             [
              0.6666666666666666,
              "#ed7953"
             ],
             [
              0.7777777777777778,
              "#fb9f3a"
             ],
             [
              0.8888888888888888,
              "#fdca26"
             ],
             [
              1,
              "#f0f921"
             ]
            ],
            "type": "histogram2d"
           }
          ],
          "histogram2dcontour": [
           {
            "colorbar": {
             "outlinewidth": 0,
             "ticks": ""
            },
            "colorscale": [
             [
              0,
              "#0d0887"
             ],
             [
              0.1111111111111111,
              "#46039f"
             ],
             [
              0.2222222222222222,
              "#7201a8"
             ],
             [
              0.3333333333333333,
              "#9c179e"
             ],
             [
              0.4444444444444444,
              "#bd3786"
             ],
             [
              0.5555555555555556,
              "#d8576b"
             ],
             [
              0.6666666666666666,
              "#ed7953"
             ],
             [
              0.7777777777777778,
              "#fb9f3a"
             ],
             [
              0.8888888888888888,
              "#fdca26"
             ],
             [
              1,
              "#f0f921"
             ]
            ],
            "type": "histogram2dcontour"
           }
          ],
          "mesh3d": [
           {
            "colorbar": {
             "outlinewidth": 0,
             "ticks": ""
            },
            "type": "mesh3d"
           }
          ],
          "parcoords": [
           {
            "line": {
             "colorbar": {
              "outlinewidth": 0,
              "ticks": ""
             }
            },
            "type": "parcoords"
           }
          ],
          "pie": [
           {
            "automargin": true,
            "type": "pie"
           }
          ],
          "scatter": [
           {
            "fillpattern": {
             "fillmode": "overlay",
             "size": 10,
             "solidity": 0.2
            },
            "type": "scatter"
           }
          ],
          "scatter3d": [
           {
            "line": {
             "colorbar": {
              "outlinewidth": 0,
              "ticks": ""
             }
            },
            "marker": {
             "colorbar": {
              "outlinewidth": 0,
              "ticks": ""
             }
            },
            "type": "scatter3d"
           }
          ],
          "scattercarpet": [
           {
            "marker": {
             "colorbar": {
              "outlinewidth": 0,
              "ticks": ""
             }
            },
            "type": "scattercarpet"
           }
          ],
          "scattergeo": [
           {
            "marker": {
             "colorbar": {
              "outlinewidth": 0,
              "ticks": ""
             }
            },
            "type": "scattergeo"
           }
          ],
          "scattergl": [
           {
            "marker": {
             "colorbar": {
              "outlinewidth": 0,
              "ticks": ""
             }
            },
            "type": "scattergl"
           }
          ],
          "scattermapbox": [
           {
            "marker": {
             "colorbar": {
              "outlinewidth": 0,
              "ticks": ""
             }
            },
            "type": "scattermapbox"
           }
          ],
          "scatterpolar": [
           {
            "marker": {
             "colorbar": {
              "outlinewidth": 0,
              "ticks": ""
             }
            },
            "type": "scatterpolar"
           }
          ],
          "scatterpolargl": [
           {
            "marker": {
             "colorbar": {
              "outlinewidth": 0,
              "ticks": ""
             }
            },
            "type": "scatterpolargl"
           }
          ],
          "scatterternary": [
           {
            "marker": {
             "colorbar": {
              "outlinewidth": 0,
              "ticks": ""
             }
            },
            "type": "scatterternary"
           }
          ],
          "surface": [
           {
            "colorbar": {
             "outlinewidth": 0,
             "ticks": ""
            },
            "colorscale": [
             [
              0,
              "#0d0887"
             ],
             [
              0.1111111111111111,
              "#46039f"
             ],
             [
              0.2222222222222222,
              "#7201a8"
             ],
             [
              0.3333333333333333,
              "#9c179e"
             ],
             [
              0.4444444444444444,
              "#bd3786"
             ],
             [
              0.5555555555555556,
              "#d8576b"
             ],
             [
              0.6666666666666666,
              "#ed7953"
             ],
             [
              0.7777777777777778,
              "#fb9f3a"
             ],
             [
              0.8888888888888888,
              "#fdca26"
             ],
             [
              1,
              "#f0f921"
             ]
            ],
            "type": "surface"
           }
          ],
          "table": [
           {
            "cells": {
             "fill": {
              "color": "#EBF0F8"
             },
             "line": {
              "color": "white"
             }
            },
            "header": {
             "fill": {
              "color": "#C8D4E3"
             },
             "line": {
              "color": "white"
             }
            },
            "type": "table"
           }
          ]
         },
         "layout": {
          "annotationdefaults": {
           "arrowcolor": "#2a3f5f",
           "arrowhead": 0,
           "arrowwidth": 1
          },
          "autotypenumbers": "strict",
          "coloraxis": {
           "colorbar": {
            "outlinewidth": 0,
            "ticks": ""
           }
          },
          "colorscale": {
           "diverging": [
            [
             0,
             "#8e0152"
            ],
            [
             0.1,
             "#c51b7d"
            ],
            [
             0.2,
             "#de77ae"
            ],
            [
             0.3,
             "#f1b6da"
            ],
            [
             0.4,
             "#fde0ef"
            ],
            [
             0.5,
             "#f7f7f7"
            ],
            [
             0.6,
             "#e6f5d0"
            ],
            [
             0.7,
             "#b8e186"
            ],
            [
             0.8,
             "#7fbc41"
            ],
            [
             0.9,
             "#4d9221"
            ],
            [
             1,
             "#276419"
            ]
           ],
           "sequential": [
            [
             0,
             "#0d0887"
            ],
            [
             0.1111111111111111,
             "#46039f"
            ],
            [
             0.2222222222222222,
             "#7201a8"
            ],
            [
             0.3333333333333333,
             "#9c179e"
            ],
            [
             0.4444444444444444,
             "#bd3786"
            ],
            [
             0.5555555555555556,
             "#d8576b"
            ],
            [
             0.6666666666666666,
             "#ed7953"
            ],
            [
             0.7777777777777778,
             "#fb9f3a"
            ],
            [
             0.8888888888888888,
             "#fdca26"
            ],
            [
             1,
             "#f0f921"
            ]
           ],
           "sequentialminus": [
            [
             0,
             "#0d0887"
            ],
            [
             0.1111111111111111,
             "#46039f"
            ],
            [
             0.2222222222222222,
             "#7201a8"
            ],
            [
             0.3333333333333333,
             "#9c179e"
            ],
            [
             0.4444444444444444,
             "#bd3786"
            ],
            [
             0.5555555555555556,
             "#d8576b"
            ],
            [
             0.6666666666666666,
             "#ed7953"
            ],
            [
             0.7777777777777778,
             "#fb9f3a"
            ],
            [
             0.8888888888888888,
             "#fdca26"
            ],
            [
             1,
             "#f0f921"
            ]
           ]
          },
          "colorway": [
           "#636efa",
           "#EF553B",
           "#00cc96",
           "#ab63fa",
           "#FFA15A",
           "#19d3f3",
           "#FF6692",
           "#B6E880",
           "#FF97FF",
           "#FECB52"
          ],
          "font": {
           "color": "#2a3f5f"
          },
          "geo": {
           "bgcolor": "white",
           "lakecolor": "white",
           "landcolor": "#E5ECF6",
           "showlakes": true,
           "showland": true,
           "subunitcolor": "white"
          },
          "hoverlabel": {
           "align": "left"
          },
          "hovermode": "closest",
          "mapbox": {
           "style": "light"
          },
          "paper_bgcolor": "white",
          "plot_bgcolor": "#E5ECF6",
          "polar": {
           "angularaxis": {
            "gridcolor": "white",
            "linecolor": "white",
            "ticks": ""
           },
           "bgcolor": "#E5ECF6",
           "radialaxis": {
            "gridcolor": "white",
            "linecolor": "white",
            "ticks": ""
           }
          },
          "scene": {
           "xaxis": {
            "backgroundcolor": "#E5ECF6",
            "gridcolor": "white",
            "gridwidth": 2,
            "linecolor": "white",
            "showbackground": true,
            "ticks": "",
            "zerolinecolor": "white"
           },
           "yaxis": {
            "backgroundcolor": "#E5ECF6",
            "gridcolor": "white",
            "gridwidth": 2,
            "linecolor": "white",
            "showbackground": true,
            "ticks": "",
            "zerolinecolor": "white"
           },
           "zaxis": {
            "backgroundcolor": "#E5ECF6",
            "gridcolor": "white",
            "gridwidth": 2,
            "linecolor": "white",
            "showbackground": true,
            "ticks": "",
            "zerolinecolor": "white"
           }
          },
          "shapedefaults": {
           "line": {
            "color": "#2a3f5f"
           }
          },
          "ternary": {
           "aaxis": {
            "gridcolor": "white",
            "linecolor": "white",
            "ticks": ""
           },
           "baxis": {
            "gridcolor": "white",
            "linecolor": "white",
            "ticks": ""
           },
           "bgcolor": "#E5ECF6",
           "caxis": {
            "gridcolor": "white",
            "linecolor": "white",
            "ticks": ""
           }
          },
          "title": {
           "x": 0.05
          },
          "xaxis": {
           "automargin": true,
           "gridcolor": "white",
           "linecolor": "white",
           "ticks": "",
           "title": {
            "standoff": 15
           },
           "zerolinecolor": "white",
           "zerolinewidth": 2
          },
          "yaxis": {
           "automargin": true,
           "gridcolor": "white",
           "linecolor": "white",
           "ticks": "",
           "title": {
            "standoff": 15
           },
           "zerolinecolor": "white",
           "zerolinewidth": 2
          }
         }
        },
        "title": {
         "text": "MEDIAN : Total Profit Percentage (in %) x different time-to-chart (Across different models) <br>ccy:BTCUSDT - time-to-chart:1h",
         "x": 0.5
        },
        "width": 1200,
        "xaxis": {
         "title": {
          "standoff": 25,
          "text": "Total Profit Percentage (in %)"
         }
        },
        "yaxis": {
         "showticklabels": false
        }
       }
      }
     },
     "metadata": {},
     "output_type": "display_data"
    }
   ],
   "source": [
    "fig_output = get_meanplot_total_profit_diff_time_feature(df_sim_results, list_timestamp[0])"
   ]
  },
  {
   "cell_type": "markdown",
   "metadata": {},
   "source": []
  }
 ],
 "metadata": {
  "kernelspec": {
   "display_name": "msc_uol_ai_dissertation",
   "language": "python",
   "name": "python3"
  },
  "language_info": {
   "codemirror_mode": {
    "name": "ipython",
    "version": 3
   },
   "file_extension": ".py",
   "mimetype": "text/x-python",
   "name": "python",
   "nbconvert_exporter": "python",
   "pygments_lexer": "ipython3",
   "version": "3.8.13 | packaged by conda-forge | (default, Mar 25 2022, 06:04:14) \n[Clang 12.0.1 ]"
  },
  "orig_nbformat": 4,
  "vscode": {
   "interpreter": {
    "hash": "0c0f2ae3d5d9aa27c4a2afc20f28a2482dc1006477ab22953abc78c31c7bb5b2"
   }
  }
 },
 "nbformat": 4,
 "nbformat_minor": 2
}
