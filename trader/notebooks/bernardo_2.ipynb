{
 "cells": [
  {
   "cell_type": "code",
   "execution_count": 1,
   "metadata": {},
   "outputs": [],
   "source": [
    "import warnings\n",
    "warnings.filterwarnings('ignore')\n",
    "\n",
    "from configparser import ConfigParser\n",
    "\n",
    "from typing import Callable\n",
    "\n",
    "import gym\n",
    "import gym_anytrading\n",
    "\n",
    "from gym_anytrading.envs import CryptoEnvLogINFER\n",
    "\n",
    "from stable_baselines3.common.vec_env import DummyVecEnv, SubprocVecEnv\n",
    "from stable_baselines3 import A2C, PPO, DQN\n",
    "from stable_baselines3.common.evaluation import evaluate_policy\n",
    "from stable_baselines3.common.env_util import make_vec_env\n",
    "from stable_baselines3.common.utils import set_random_seed\n",
    "\n",
    "from stable_baselines3.dqn.policies import MlpPolicy\n",
    "\n",
    "import tensorflow as tf\n",
    "\n",
    "import numpy as np\n",
    "import pandas as pd\n",
    "import plotly.express as px\n",
    "import plotly.graph_objects as go\n",
    "from plotly.subplots import make_subplots\n",
    "import os\n",
    "import datetime\n",
    "\n",
    "import multiprocessing\n",
    "\n",
    "import quantstats as qs\n",
    "\n",
    "import sqlite3\n",
    "from sqlalchemy import create_engine"
   ]
  },
  {
   "cell_type": "code",
   "execution_count": 2,
   "metadata": {},
   "outputs": [
    {
     "name": "stdout",
     "output_type": "stream",
     "text": [
      "['../../simulations/config_files/config_03a_mix_infer.ini']\n"
     ]
    }
   ],
   "source": [
    "configur = ConfigParser()\n",
    "config_file_name = \"config_03a_mix_infer.ini\"\n",
    "print (configur.read(os.path.join('../../simulations/config_files', config_file_name)))"
   ]
  },
  {
   "cell_type": "code",
   "execution_count": 3,
   "metadata": {},
   "outputs": [],
   "source": [
    "config_file_name_without_extension = config_file_name.replace(\".ini\", \"\")\n",
    "\n",
    "ccy = configur.get('data', 'ccy')\n",
    "\n",
    "data_frequency_train = configur.get('data', 'data_frequency_train')\n",
    "data_frequency_val = configur.get('data', 'data_frequency_val')\n",
    "\n",
    "start_date_train = configur.get('environment', 'start_date')\n",
    "\n",
    "window_size = configur.getint('environment', 'window_size')\n",
    "list_features = configur.get('environment', 'features').split(',')\n",
    "target = configur.get('environment', 'target')"
   ]
  },
  {
   "cell_type": "code",
   "execution_count": 4,
   "metadata": {},
   "outputs": [
    {
     "name": "stdout",
     "output_type": "stream",
     "text": [
      "The loaded_model has 0 transitions in its buffer\n",
      "The loaded_model has 165368 transitions in its buffer\n"
     ]
    }
   ],
   "source": [
    "model_name = \"DQN\"\n",
    "# the saved model does not contain the replay buffer\n",
    "loaded_model = DQN.load(\"../../simulations/save_models_components/model/model_DQN_\"+ config_file_name_without_extension + \".zip\")\n",
    "print(f\"The loaded_model has {loaded_model.replay_buffer.size()} transitions in its buffer\")\n",
    "\n",
    "# load it into the loaded_model\n",
    "loaded_model.load_replay_buffer(\"../../simulations/save_models_components/replay_buffer/replay_buffer_DQN_\" + config_file_name_without_extension + \".pkl\")\n",
    "\n",
    "# now the loaded replay is not empty anymore\n",
    "print(f\"The loaded_model has {loaded_model.replay_buffer.size()} transitions in its buffer\")\n",
    "\n",
    "saved_policy = MlpPolicy.load(\"../../simulations/save_models_components/policy/policy_DQN_\" + config_file_name_without_extension)"
   ]
  },
  {
   "cell_type": "code",
   "execution_count": 15,
   "metadata": {},
   "outputs": [],
   "source": [
    "mid_date='2023-01-01 00:00:00'\n",
    "end_date='2023-01-31 09:00:00'"
   ]
  },
  {
   "cell_type": "code",
   "execution_count": 16,
   "metadata": {},
   "outputs": [],
   "source": [
    "def get_and_process_data(ccy, data_frequency, start_date, end_date):\n",
    "    try:\n",
    "        \n",
    "        # Get the data\n",
    "        db_address = 'sqlite:///../../data/db/crypto.db'\n",
    "        engine = create_engine(db_address, echo=False)\n",
    "        sqlite_connection = engine.connect()\n",
    "\n",
    "        input_tbl_name = \"tbl_all_features\" + \"_\" + ccy + \"_\" + data_frequency\n",
    "        \n",
    "        sql_command = \"SELECT * FROM \" + input_tbl_name\n",
    "\n",
    "        if(start_date!=\"\" and end_date!=\"\"):\n",
    "            \n",
    "            sd = datetime.datetime.strptime(start_date,'%d %b, %Y').strftime('%Y-%m-%d')\n",
    "            ed = datetime.datetime.strptime(end_date,'%d %b, %Y').strftime('%Y-%m-%d')\n",
    "\n",
    "            sql_append = \" WHERE \" + \"date(date) >= \" + \"'\" + sd + \"'\" + \" AND date(date) <= \" + \"'\" + ed + \"'\"\n",
    "            sql_command = sql_command + sql_append\n",
    "\n",
    "        df = pd.read_sql(sql_command, sqlite_connection)\n",
    "\n",
    "        sqlite_connection.close()\n",
    "\n",
    "        # Converting Date Column to DateTime Type\n",
    "        # Set the index on the dataframe\n",
    "        df['date_index'] = df['date']\n",
    "        df.set_index('date_index', inplace=True)\n",
    "\n",
    "        return df\n",
    "\n",
    "    except Exception as e:\n",
    "        print(e)"
   ]
  },
  {
   "cell_type": "code",
   "execution_count": 17,
   "metadata": {},
   "outputs": [],
   "source": [
    "# Format the data\n",
    "start_date_temp = datetime.datetime.strptime(mid_date,'%Y-%m-%d %H:%M:%S')\n",
    "start_date_temp2 = start_date_temp + datetime.timedelta(days=-(window_size+1))\n",
    "start_date_db = start_date_temp2.strftime('%d %b, %Y')\n",
    "end_date_db = datetime.datetime.strptime(end_date,'%Y-%m-%d %H:%M:%S').strftime('%d %b, %Y')\n"
   ]
  },
  {
   "cell_type": "code",
   "execution_count": 18,
   "metadata": {},
   "outputs": [],
   "source": [
    "def my_process_data(env):\n",
    "    start = env.frame_bound[0] - env.window_size\n",
    "    end = env.frame_bound[1]\n",
    "    prices = env.df.loc[:, target].to_numpy()[start:end]\n",
    "    signal_features = env.df.loc[:, list_features].to_numpy()[start:end]\n",
    "    dates = env.df.index.to_numpy()[start:end]\n",
    "    return prices, signal_features, dates\n",
    "\n",
    "class MyEnv(CryptoEnvLogINFER):\n",
    "    _process_data = my_process_data"
   ]
  },
  {
   "cell_type": "code",
   "execution_count": 19,
   "metadata": {},
   "outputs": [],
   "source": [
    "timestamp='1h'\n",
    "if(timestamp=='15m'):\n",
    "    data_frequency_val = timestamp\n",
    "    df_val = get_and_process_data(ccy, '15m', start_date_db, end_date_db)\n",
    "elif(timestamp=='30m'):\n",
    "    data_frequency_val = timestamp\n",
    "    df_val = get_and_process_data(ccy, '30m', start_date_db, end_date_db)\n",
    "elif(timestamp=='1h'):\n",
    "    data_frequency_val = timestamp\n",
    "    df_val = get_and_process_data(ccy, '1h', start_date_db, end_date_db)\n",
    "else:\n",
    "    df_val = get_and_process_data(ccy, data_frequency_val, start_date_db, end_date_db)\n",
    "\n",
    "mid_date_id_val = int(df_val.index.get_loc(datetime.datetime.strptime(mid_date,'%Y-%m-%d %H:%M:%S').strftime('%Y-%m-%d %H:%M:%S.%f')))\n",
    "end_date_id_val = int(df_val.index.get_loc(datetime.datetime.strptime(end_date,'%Y-%m-%d %H:%M:%S').strftime('%Y-%m-%d %H:%M:%S.%f')))\n",
    "env = MyEnv(df=df_val, frame_bound=(mid_date_id_val,end_date_id_val), window_size=window_size)"
   ]
  },
  {
   "cell_type": "code",
   "execution_count": 20,
   "metadata": {},
   "outputs": [],
   "source": [
    "num_of_simulations=1000"
   ]
  },
  {
   "cell_type": "code",
   "execution_count": 21,
   "metadata": {},
   "outputs": [],
   "source": [
    "df_sim_results = pd.DataFrame()\n",
    "df_robot_actions_and_env_final = pd.DataFrame()\n",
    "\n",
    "df_sim_results_temp = pd.DataFrame(columns=['total_reward_cash', 'total_profit_percentage', 'fmt_total_profit_percentage', 'num_of_trades'])\n",
    "df_robot_actions_and_env_temp = pd.DataFrame(columns=['dates', 'prices', 'actions', 'total_reward_cash', 'total_profit_percentage', 'fmt_total_profit_percentage', 'num_of_trades', 'sim_id'])\n",
    "\n",
    "list_sim_id = []\n",
    "\n",
    "sim_id = 1\n",
    "for i in range(num_of_simulations):   \n",
    "\n",
    "    #Setting up the Agent Environment\n",
    "    obs = env.reset()\n",
    "\n",
    "    list_sim_id.append(sim_id)\n",
    "\n",
    "    while True: \n",
    "        obs = obs[np.newaxis, ...]\n",
    "\n",
    "        action, _states = loaded_model.predict(obs)\n",
    "        \n",
    "        obs, rewards, done, info = env.step(action)\n",
    "        \n",
    "        if done:\n",
    "            df_sim_results_temp = df_sim_results_temp.append(info, ignore_index=True, sort=False)\n",
    "            break\n",
    "\n",
    "    # Export robot actions plot and data\n",
    "    fig, df_robot_actions = env.render_all()\n",
    "    # fig.write_html(os.path.join('results', 'plots', 'robot_actions', 'robot_actions_' + config_file_name_without_extension + '_sim_id_' + str(sim_id) + '.html'))\n",
    "\n",
    "    # Export the history of details (the info dict inside of the environment)\n",
    "    df_sim_env_data = pd.DataFrame.from_dict(env.history)\n",
    "\n",
    "    # Merge robot actions data + sim env data\n",
    "    df_sim_env_data_initial = pd.DataFrame(columns=['total_reward_cash', 'total_profit_percentage', 'fmt_total_profit_percentage', 'num_of_trades'])\n",
    "    for i in range(0, window_size + 1):\n",
    "        df_sim_env_data_initial = df_sim_env_data_initial.append(pd.Series([0, 0, 0, 0], index=df_sim_env_data_initial.columns), ignore_index=True)\n",
    "    \n",
    "    df_sim_env_data_temp = df_sim_env_data_initial.append(df_sim_env_data, ignore_index=True)\n",
    "    \n",
    "    df_robot_actions_and_env_temp = pd.merge(df_robot_actions, df_sim_env_data_temp, left_index=True, right_index=True, how = \"outer\")\n",
    "    df_robot_actions_and_env_temp['sim_id'] = sim_id\n",
    "\n",
    "    df_robot_actions_and_env_final = pd.concat([df_robot_actions_and_env_final, df_robot_actions_and_env_temp], axis=0)\n",
    "\n",
    "    sim_id = sim_id + 1\n",
    "\n",
    "df_sim_results_temp['sim_id'] = list_sim_id\n",
    "df_sim_results_temp['ccy'] = ccy\n",
    "df_sim_results_temp['data_frequency_train'] = data_frequency_train\n",
    "df_sim_results_temp['data_frequency_val'] = data_frequency_val\n",
    "df_sim_results_temp['window_size'] = window_size\n",
    "df_sim_results_temp['start_date'] = start_date_train\n",
    "df_sim_results_temp['mid_date'] = mid_date\n",
    "df_sim_results_temp['end_date'] = end_date\n",
    "df_sim_results_temp['target'] = target\n",
    "df_sim_results_temp['list_features'] = str(list_features)\n",
    "df_sim_results_temp['model_type'] = model_name \n",
    "df_sim_results_temp['num_of_simulations'] = num_of_simulations   \n",
    "\n",
    "df_sim_results = pd.concat([df_sim_results, df_sim_results_temp], axis=0)"
   ]
  },
  {
   "cell_type": "code",
   "execution_count": 22,
   "metadata": {},
   "outputs": [],
   "source": [
    "df_sim_results = df_sim_results.reset_index(drop=True)\n",
    "df_sim_results = df_sim_results.drop_duplicates()\n",
    "\n",
    "## SIMULATION RESULTS\n",
    "\n",
    "# Format data type\n",
    "df_sim_results['start_date'] = pd.to_datetime(df_sim_results['start_date'])\n",
    "df_sim_results['mid_date'] = pd.to_datetime(df_sim_results['mid_date'])\n",
    "df_sim_results['end_date'] = pd.to_datetime(df_sim_results['end_date'])\n",
    "\n",
    "# Write to the db\n",
    "db_address = 'sqlite:///../results/data/db/trader.db'\n",
    "engine = create_engine(db_address, echo=False)\n",
    "sqlite_connection = engine.connect()\n",
    "\n",
    "output_tbl_name = \"tbl_trader_bernardo2_simulation_results_\" + config_file_name_without_extension\n",
    "\n",
    "df_sim_results.to_sql(output_tbl_name, sqlite_connection, if_exists='replace', index=False)\n",
    "\n",
    "sqlite_connection.close()\n",
    "\n",
    "## ROBOT ACTIONS and ENV RESULTS\n",
    "\n",
    "# Format data type\n",
    "df_robot_actions_and_env_final['dates'] = pd.to_datetime(df_robot_actions_and_env_final['dates'])\n",
    "df_robot_actions_and_env_final['total_reward_cash'] = df_robot_actions_and_env_final['total_reward_cash'].astype(float)\n",
    "df_robot_actions_and_env_final['total_profit_percentage'] = df_robot_actions_and_env_final['total_profit_percentage'].astype(float)\n",
    "df_robot_actions_and_env_final['fmt_total_profit_percentage'] = df_robot_actions_and_env_final['fmt_total_profit_percentage'].astype(float)\n",
    "df_robot_actions_and_env_final['num_of_trades'] = df_robot_actions_and_env_final['num_of_trades'].astype(float)\n",
    "\n",
    "# Write to the db\n",
    "db_address = 'sqlite:///../results/data/db/trader.db'\n",
    "engine = create_engine(db_address, echo=False)\n",
    "sqlite_connection = engine.connect()\n",
    "\n",
    "output_tbl_name = \"tbl_trader_bernardo2_robot_actions_and_env_\" + config_file_name_without_extension\n",
    "\n",
    "df_robot_actions_and_env_final.to_sql(output_tbl_name, sqlite_connection, if_exists='replace', index=False)\n",
    "\n",
    "sqlite_connection.close()"
   ]
  },
  {
   "attachments": {},
   "cell_type": "markdown",
   "metadata": {},
   "source": [
    "## Get Data"
   ]
  },
  {
   "cell_type": "code",
   "execution_count": 23,
   "metadata": {},
   "outputs": [],
   "source": [
    "def get_and_process_trader_data(config_file_name_without_extension):\n",
    "    try:\n",
    "        \n",
    "        # Get the data\n",
    "        db_address = 'sqlite:///../results/data/db/trader.db'\n",
    "        engine = create_engine(db_address, echo=False)\n",
    "        sqlite_connection = engine.connect()\n",
    "\n",
    "        input_tbl_name = \"tbl_trader_bernardo2_simulation_results\" + \"_\" + config_file_name_without_extension\n",
    "        \n",
    "        sql_command = \"SELECT * FROM \" + input_tbl_name\n",
    "\n",
    "        df = pd.read_sql(sql_command, sqlite_connection)\n",
    "\n",
    "        sqlite_connection.close()\n",
    "\n",
    "        return df\n",
    "\n",
    "    except Exception as e:\n",
    "        print(e)"
   ]
  },
  {
   "cell_type": "code",
   "execution_count": 24,
   "metadata": {},
   "outputs": [],
   "source": [
    "df_trader_results = get_and_process_trader_data(config_file_name_without_extension)"
   ]
  },
  {
   "cell_type": "code",
   "execution_count": 25,
   "metadata": {},
   "outputs": [
    {
     "data": {
      "application/vnd.plotly.v1+json": {
       "config": {
        "plotlyServerURL": "https://plot.ly"
       },
       "data": [
        {
         "alignmentgroup": "True",
         "boxpoints": "all",
         "hovertemplate": "model_type=DQN<br>fmt_total_profit_percentage=%{y}<extra></extra>",
         "legendgroup": "DQN",
         "marker": {
          "color": "#FF7F0E"
         },
         "name": "DQN",
         "notched": false,
         "offsetgroup": "DQN",
         "orientation": "v",
         "showlegend": true,
         "type": "box",
         "x0": " ",
         "xaxis": "x",
         "y": [
          34.310233402585546,
          37.37291325887,
          43.227341883869805,
          35.07967055909387,
          42.87562393090356,
          32.10341265234611,
          35.838205632801575,
          36.27139388444576,
          30.16966794743128,
          26.0036917498492,
          22.31117978836592,
          38.95663757750425,
          42.54002511856505,
          36.39700784211044,
          42.59000379457505,
          33.122915520869526,
          36.81915349856044,
          32.74496997939069,
          37.029169269598825,
          29.793104138773142,
          31.691294999679087,
          38.594240338132124,
          38.04048913121847,
          35.39289424473115,
          34.62198093739693,
          53.16592954209567,
          41.17834646603002,
          37.3078489721999,
          32.31192209763228,
          37.4491969081145,
          41.560445260702664,
          31.667469701022256,
          41.91539429062408,
          41.04327494626705,
          24.429837811421763,
          35.10827899967799,
          38.25459520353882,
          39.33291190274457,
          43.43097348406906,
          40.88856058353756,
          32.2967643032126,
          41.863025631311125,
          40.57478927283638,
          32.542761863888515,
          35.18671041613739,
          27.209597534548745,
          40.486777415298114,
          31.431845227123635,
          32.68640467895572,
          21.063010846954676,
          33.77175534345804,
          41.76947189056226,
          38.90363659741001,
          37.89891954587048,
          30.537006602813022,
          28.762601580167235,
          34.196252918730764,
          33.656477177044366,
          38.619724424632864,
          35.952410316907326,
          41.41716116331231,
          29.10256695315814,
          33.115622748855685,
          17.826901806008966,
          39.31811586715928,
          38.35578136211364,
          33.54515210734665,
          54.73190583831169,
          42.54023254593346,
          46.32953262888515,
          38.12052868799536,
          42.27062703236988,
          31.280557059657575,
          40.33946733577252,
          40.60442966008602,
          34.15760878197867,
          33.44251772646527,
          33.75753251271123,
          34.53040625546975,
          31.996228567267828,
          36.781550693502666,
          41.28168390870697,
          38.21819464554292,
          47.822331174618895,
          26.58555954161148,
          42.633164157701245,
          31.55567661462979,
          42.11985243649714,
          35.95225203908432,
          37.971578928037,
          39.43709173528751,
          32.49189140130142,
          21.316312598291386,
          39.94709744926492,
          36.27600240612941,
          30.61571865480399,
          39.36200824414371,
          39.815394313200734,
          39.477550251325646,
          31.149351569473403,
          43.855373655336116,
          49.65458084510435,
          35.47426979003403,
          35.64020841546886,
          45.349419985742514,
          36.423365151728724,
          37.821282732750205,
          38.04771498089296,
          38.88679990915882,
          41.93654644447713,
          41.18753962298787,
          31.303057839196,
          24.372212442295638,
          20.610866928685567,
          37.32540978197421,
          29.26795931731818,
          37.056667294479475,
          33.58068728802341,
          31.887563257971017,
          33.65585651806491,
          39.146696648580104,
          34.59593976425492,
          40.992496344858644,
          34.694678188421534,
          34.14073615472759,
          38.18567151490322,
          29.237053962219317,
          30.93461933589794,
          39.1335700845072,
          40.36833925986245,
          40.312488086043196,
          32.57616520094457,
          32.20185649536222,
          42.7108616549794,
          40.09184920429665,
          36.9422109888039,
          36.090133241978606,
          34.36630951488895,
          32.968870045594365,
          35.15990779467846,
          39.99139064785937,
          43.18960772990441,
          42.53042337622504,
          34.596739409188324,
          41.61508945838113,
          35.683414132503174,
          28.873131873917046,
          31.854401561480138,
          35.946816017743764,
          32.69990831307845,
          16.37028688982227,
          37.452486062687385,
          35.142570923369185,
          40.17792629217802,
          31.14675776061393,
          38.77035031984926,
          42.77710620662229,
          36.999721012414334,
          38.63423997937723,
          39.149441122304985,
          29.090295712008185,
          35.04440476200605,
          36.761939472217534,
          34.206841678574015,
          33.512894623448105,
          36.913758229013396,
          35.3897987396232,
          42.20205855321873,
          35.598460451596694,
          41.62584427117404,
          40.602186332009516,
          43.045804921215414,
          37.75272928527163,
          35.67348851076011,
          35.01146012692402,
          37.873211566531765,
          37.81508571064334,
          30.602668430890546,
          35.302367745321476,
          44.773911610125275,
          37.15766560925686,
          31.211684765061023,
          32.56809568473644,
          25.71682118048213,
          40.34418228109651,
          28.714738409706065,
          39.06613416677085,
          39.118892561779276,
          36.24056923992887,
          39.962666627334364,
          47.99354793187251,
          33.88454388629949,
          38.79116629668084,
          32.432626326148295,
          34.220959700726475,
          37.5565572420816,
          45.314224949035896,
          42.106425916323985,
          36.2944850063148,
          35.93787052395765,
          41.712559283896475,
          37.69846555081369,
          32.639853362203674,
          32.26108205746328,
          35.08761713789254,
          44.78354853416568,
          36.3618011660213,
          31.844253195185402,
          27.003862194199147,
          29.10151449248457,
          29.550174383642403,
          38.695796148876724,
          43.36265793587548,
          27.34821456657761,
          37.89846592545909,
          45.27629070745935,
          43.25215384839582,
          42.90609097050111,
          25.10975653797143,
          40.54659886049126,
          40.096232579096494,
          39.832942002826385,
          32.54312694442003,
          41.67196793047159,
          37.9258694649596,
          31.539042132126085,
          38.27417854739594,
          34.457812803517605,
          33.317807546064174,
          40.52650470620114,
          34.132398355974814,
          41.08226815333644,
          33.21988053183382,
          34.1410712048239,
          39.310531853183875,
          41.50990219171615,
          44.531508676661204,
          35.42158194939744,
          26.141453363072298,
          32.684136652280316,
          35.196568947243925,
          40.61241537325051,
          36.34654365786123,
          44.49629402609423,
          40.23885183260487,
          40.92359505850452,
          25.492386433310067,
          37.09534162593353,
          36.34604621540749,
          37.07040020121044,
          39.69279873759896,
          35.51625410993977,
          37.338907474160486,
          17.702673871507702,
          40.455592116945915,
          35.2247218733319,
          21.001590654970226,
          31.659011064269606,
          39.74390945459368,
          36.65596003899947,
          36.36975773544544,
          38.59149225666903,
          30.48309212901956,
          39.29871300165395,
          35.56481723387588,
          31.40597704038297,
          36.52410449197745,
          45.85191828047341,
          34.1012932039394,
          25.820207461077203,
          34.396757860361205,
          38.0794609824038,
          27.538536661383727,
          40.83049877065885,
          44.96266032616643,
          42.13967901352902,
          40.663796787307696,
          42.56088042969775,
          39.484221430991994,
          37.018584158340026,
          45.10705957370305,
          30.746134402622193,
          44.113717766102,
          34.54913079653401,
          32.63003074123969,
          37.251820949797995,
          31.390311186709408,
          34.51620670899202,
          32.62915359599361,
          36.872649629470054,
          38.08605042040662,
          37.01684316345304,
          36.5471504214254,
          36.74829513533056,
          33.71136262968661,
          32.56251963962888,
          38.720013382611015,
          31.650587566905088,
          30.269701809686843,
          32.26422202815087,
          42.73557998968249,
          27.841714976960198,
          29.598601778999402,
          28.5883403726354,
          38.027343834418815,
          42.92624874576214,
          41.32822285641304,
          39.36879223293879,
          35.76491617998943,
          37.81807226586737,
          38.25348188473323,
          34.22637439126983,
          37.33898392134505,
          40.77124475875311,
          35.92260688532036,
          40.60220752746044,
          16.89206151598084,
          32.24847644161879,
          29.239493156169782,
          34.77348170405206,
          36.0632139675124,
          36.596963408884164,
          42.026687093173166,
          37.20890382478921,
          32.05344471010185,
          35.60134067673213,
          45.1911847914704,
          42.22665491975191,
          34.1036968354846,
          38.674105757705405,
          39.92836844482355,
          34.54957734543533,
          34.01806248256767,
          36.45162454762085,
          23.820880854160098,
          24.024453544456126,
          39.353286415509324,
          36.108495495110574,
          39.553042231644994,
          24.675445285363228,
          35.70937360960782,
          37.104987407209464,
          48.15024568323274,
          37.08277887558265,
          36.778496214243006,
          34.08703237860588,
          37.88978959864748,
          32.96610566584614,
          27.41980075650028,
          38.545585411679184,
          35.410282711651256,
          34.75739925921235,
          29.928862683893232,
          30.694254676281286,
          44.678794891375404,
          42.15821554459291,
          38.82632926261971,
          32.641786244721224,
          25.087671983478188,
          33.9478024970536,
          42.176084293109284,
          35.926076887551204,
          30.24213118061563,
          34.42241599387952,
          27.24511534910723,
          42.38259949002905,
          37.84116901945238,
          39.99396206526438,
          34.33562103869021,
          41.75627713946446,
          36.17864042690455,
          29.47704022146138,
          36.98369525438188,
          36.97830941274744,
          25.0438140557649,
          31.801844857035853,
          39.076056364442536,
          40.076451144308045,
          31.37837023343808,
          39.691032638700776,
          39.66539064509007,
          36.86585919733487,
          37.75638355816331,
          40.47705525569536,
          41.48959014554614,
          26.72564092031884,
          32.78246854525126,
          33.698159860559215,
          40.02570499905591,
          34.06273324126325,
          44.158178602590525,
          38.542314252629865,
          34.54645694068177,
          22.32016338842371,
          37.06398269963549,
          21.678372217752774,
          38.78684428077295,
          38.07838026331576,
          37.00464627427416,
          37.871754317002605,
          24.0048220547574,
          40.430870801181484,
          36.994261274972985,
          38.923003990902515,
          34.177759698312784,
          28.981731178686076,
          37.58284621387933,
          42.279021863440526,
          41.224788269086865,
          35.96642773725775,
          21.275609826430152,
          40.092945765486874,
          32.87331251338097,
          27.42121770695669,
          45.411143773293006,
          31.25636471344886,
          35.894693761829274,
          38.92113712904121,
          43.45402018134492,
          42.21356810977595,
          37.25222429582304,
          42.891418665998195,
          34.32629649832533,
          37.295010938950604,
          33.081159781270976,
          19.07389571595539,
          34.84999258571484,
          40.85222659440144,
          42.21654410726552,
          46.64761548698044,
          39.11213651280767,
          34.517436564796576,
          32.67052936777644,
          32.31336467647918,
          38.55607913119161,
          34.61384882345182,
          31.0450551050246,
          33.38414694019241,
          37.53483276702567,
          42.933759873405776,
          40.742194141593146,
          39.5327565603804,
          36.220292089144834,
          33.601109356340245,
          31.514644678451464,
          36.72751994429295,
          48.67676492553406,
          34.90899084211405,
          43.59936362320482,
          43.91219494546055,
          41.12470762002691,
          40.72023511784491,
          35.33438726687825,
          31.43303953831529,
          34.6038236884638,
          23.0863438570456,
          38.008223102268055,
          38.39097776903901,
          22.256391096887263,
          31.379432538229658,
          36.980782091494866,
          38.41059941441605,
          41.15971540611436,
          38.29965921886816,
          39.29341200922059,
          35.13744496192681,
          35.81221729920867,
          44.14641795096694,
          38.33465033099843,
          39.205040831876126,
          36.20805996972203,
          34.059195077452365,
          33.85471837424527,
          38.6716830937875,
          42.53909273687071,
          30.332802192636432,
          33.97221408904325,
          32.008294534530094,
          32.68710065517799,
          32.96134084827011,
          35.468301108270374,
          38.545466067868304,
          38.78988134478223,
          43.18234358969395,
          31.685372055237938,
          34.63519241492712,
          25.683373240295303,
          33.9919032145789,
          35.52112013654107,
          31.335839000566512,
          38.93969248305895,
          38.18269413232463,
          35.60260462535538,
          46.68297744093912,
          38.8020089928859,
          36.46935723292941,
          35.76060506578636,
          36.589832704891734,
          42.183323498153904,
          36.455162163622276,
          38.06427528529734,
          37.941740652063835,
          50.226328465579904,
          44.84280997545569,
          36.06538382760298,
          33.37098032303108,
          32.81509760637435,
          48.70590743796175,
          42.86601503044123,
          29.385246700038216,
          29.857648905188118,
          39.105767092313435,
          41.285577008649234,
          42.43673602543039,
          41.03735307298773,
          39.34169828302796,
          33.922291219669695,
          33.133556022294016,
          40.19896947287685,
          29.449035856416607,
          30.11237234383577,
          38.621516919500884,
          29.158049988280823,
          42.71459497382737,
          26.5267402518933,
          35.861064940043555,
          30.476815469760332,
          26.51215555920232,
          38.24045950666823,
          39.60175534159733,
          36.75741418911465,
          43.70004222996704,
          34.608264683079625,
          46.94188281769702,
          37.118823406955606,
          35.106509043512006,
          39.79498874624075,
          39.54314246768469,
          25.121827655123454,
          23.850209849416636,
          37.26663064137898,
          36.656443952220144,
          29.089666440438844,
          43.320201641404175,
          37.28603453082664,
          38.3754786047519,
          33.92501655698894,
          29.17205706658905,
          41.990527720487236,
          37.30738798288529,
          44.19142045941753,
          39.23298496175636,
          39.31396012718198,
          32.95223728127983,
          25.66401183281297,
          35.5008229794191,
          36.94601082043183,
          31.993893836016916,
          42.20019882929282,
          38.39754340185899,
          33.34243585504464,
          41.785820807050996,
          36.15803071958017,
          33.853704337838344,
          36.288377727360334,
          34.72681918286915,
          40.680148236207756,
          45.95103373489504,
          34.96094052926813,
          37.253402237884444,
          27.557221154667054,
          36.817614641361644,
          40.74087091405123,
          37.60689354365054,
          30.96630986889659,
          40.39678812185572,
          39.23645342487718,
          37.00077559364172,
          45.89395051804508,
          31.886241199585253,
          39.648118936647194,
          41.291702104857194,
          34.89338445591883,
          35.74846606573907,
          44.230614347647986,
          39.62031966336217,
          43.17640161309377,
          29.974688534181748,
          42.01774342843112,
          32.536677057904015,
          43.53409685671528,
          34.27815992986274,
          32.38058908167001,
          33.84116883291672,
          39.51602975802149,
          28.619844034148436,
          41.289458835114104,
          38.59345544811181,
          40.29823496020602,
          37.515421044966125,
          37.33936960279689,
          34.51184168033568,
          42.357573299569815,
          40.681241990366956,
          47.8394585615495,
          46.756232575186864,
          42.91425416314223,
          37.035243480274275,
          45.303112262823866,
          30.150293453216115,
          34.16207818758936,
          44.749976548493905,
          36.1074297552197,
          32.712883808469726,
          41.638790611919994,
          39.54626803140855,
          34.85593843637604,
          35.56886732765818,
          43.20564869304244,
          39.69688666290363,
          41.33480023474378,
          37.66715578399673,
          22.6523034053675,
          41.05275676475652,
          35.715448381799185,
          41.612204323839606,
          39.64904245831566,
          34.82233584808307,
          44.71028887907982,
          36.4549585127717,
          41.26732679687366,
          46.427592345638466,
          27.584258066464116,
          37.02819230092669,
          35.6155747834914,
          34.18524909726759,
          42.55719617326976,
          38.58537910315323,
          38.222345129921955,
          45.63452485189574,
          43.15826387696789,
          39.14548612890365,
          42.73289364098159,
          42.34467555434047,
          35.77026835479171,
          33.47177465238285,
          35.81739648033477,
          28.618925188391174,
          37.74916306087659,
          20.99888204943319,
          30.521836119637612,
          39.66846048074613,
          34.28467411863998,
          29.87798324214561,
          38.89153406073367,
          37.824309637911234,
          34.93042172124967,
          35.981550512122084,
          36.94480518297054,
          36.666230655577834,
          41.12418108311464,
          38.16700504365627,
          35.242271783799836,
          29.73348818435515,
          32.73246686945814,
          34.83820103211552,
          50.354398490096976,
          37.46701292164425,
          38.8416600976075,
          43.223641889854726,
          32.920438455621735,
          50.92666633259502,
          36.91522601437312,
          40.628164815361,
          24.9841938343357,
          32.84665001979978,
          35.76136383463078,
          37.055281339109555,
          33.723029661985905,
          44.13165270097805,
          35.59319788519102,
          30.84571160335241,
          39.11143115044635,
          34.490309665059904,
          40.54336061064752,
          40.159218665415544,
          38.874963554195155,
          44.48329308372336,
          41.48384036858212,
          32.572852936501604,
          39.265277431962645,
          34.40206403084407,
          34.92958295957565,
          39.693393074603954,
          42.0991805356548,
          35.003823462709875,
          38.86811541565187,
          45.04493377588121,
          30.756307167660445,
          34.490604871767005,
          40.91140881369546,
          37.69129328320082,
          40.368836302442816,
          40.292930908542644,
          40.9412926913207,
          33.61372229917319,
          34.53794821608356,
          31.195589122720293,
          35.63323886766572,
          37.06096777783403,
          38.82033903525881,
          40.65074058445495,
          40.863613319148364,
          35.32420724654657,
          36.85020091028057,
          30.798531698744647,
          42.56904964847763,
          29.282219766722562,
          29.526924633379604,
          31.597572860774626,
          22.750948748927446,
          24.034272220146914,
          35.00864153930245,
          34.46907923204194,
          31.429517603662482,
          48.45573290486451,
          35.31408576931536,
          37.18751412990078,
          33.68848380373819,
          38.432139217332725,
          44.779844215806406,
          33.01231569572363,
          25.318449873542303,
          37.20952060314373,
          34.791997922659945,
          40.22829085524635,
          30.785544862261215,
          34.77616411209261,
          46.63031347193376,
          31.543862419944467,
          33.672176988266585,
          31.29413381522077,
          46.27014755779897,
          37.42671723644511,
          30.355908651755435,
          33.16582614689112,
          40.74223240301964,
          31.207881419219575,
          33.66912049363684,
          38.54669725638091,
          41.66883791705098,
          30.37806769233773,
          36.76176834782172,
          44.14734185464506,
          39.97236700585998,
          37.233098027679844,
          32.66673921200534,
          26.939744291952717,
          36.4270225881893,
          39.719137853807894,
          34.10069900127657,
          40.42286658181955,
          37.93295132267798,
          41.17459133583754,
          33.719734960767745,
          23.71471512937513,
          38.67816788884897,
          45.433167410232336,
          33.95877922023172,
          32.06777968785968,
          34.72951138669942,
          26.137172973647836,
          39.73587461199515,
          40.601372459601535,
          44.40701372168241,
          42.559593631087054,
          39.826283239369076,
          33.051335989258554,
          18.10341282148673,
          33.99479570160946,
          36.02477352183657,
          41.27152621881764,
          35.80707093969413,
          30.954593723876144,
          45.13732577484502,
          41.30681791628008,
          36.393788406810955,
          33.281568587452085,
          39.02326452003708,
          39.45045221195027,
          36.55527604662774,
          36.91562743521584,
          40.210744038075276,
          35.05239807243259,
          31.52262596664468,
          40.32318276463389,
          28.913721550333893,
          37.72398453520831,
          34.88585849368893,
          29.892224433563253,
          38.734990834473784,
          39.34237315205327,
          14.41894479114103,
          37.326613173999505,
          37.055841838040116,
          40.03176521164187,
          41.37535173260327,
          34.12133927829619,
          45.63251227286409,
          27.95249934889712,
          32.93226429253326,
          34.40904632787436,
          39.47421156873712,
          33.85387950722105,
          28.31450904760926,
          32.46936969143104,
          38.23495564244092,
          34.634561823837394,
          38.09149497096178,
          28.989454241885305,
          33.27286035850621,
          32.93962699274884,
          38.76990281435966,
          36.001529324562064,
          36.99978797735399,
          32.795914316249664,
          30.67088132202638,
          31.291978088120032,
          39.893581127112384,
          39.733083558433876,
          33.28108365384337,
          36.188743550087786,
          38.14418439031941,
          36.43765610192118,
          36.80890021088228,
          40.73499770582012,
          32.708778130483964,
          31.53763518096686,
          33.654378786539205,
          29.985241367892492,
          36.26267054024457,
          37.24717439981673,
          41.849979776046474,
          40.49756639118889,
          24.4594458064999,
          28.8010911886712,
          34.91067862469672,
          32.27379048763099,
          33.01545643940016,
          40.704293163213244,
          37.878309104226936,
          36.15465356975476,
          41.82841898291814,
          41.28430022019969,
          37.26010292252331,
          42.26409329475269,
          37.66287802465796,
          36.34461418243089,
          38.779192333527845,
          39.66256866957736,
          38.84999206155979,
          33.777042431512136,
          47.2466650280009,
          32.29346006172133,
          28.22857736084723,
          44.2323380265788,
          33.785516039239205,
          33.24291172927283,
          38.90209650647907,
          32.2230551511314,
          46.67546089257073,
          26.84400697168052,
          34.56243912390089,
          35.33533005550118,
          38.22119434285967,
          41.01894500751764,
          40.4931546140844,
          29.681619233199275,
          33.36203163507916,
          36.02001257160523,
          27.60150939680066,
          35.31036421139957,
          32.877409391338055,
          40.99248486151961,
          39.53352228216651,
          29.797341737715556,
          41.061058513907156,
          42.499656614465486,
          39.25548866486357,
          34.67198322847622,
          31.00845411889084,
          34.64395700101941,
          30.226017387983383,
          33.11205881562349,
          23.259748806846403,
          33.68431473612728,
          33.03320624537467,
          42.31929896826199,
          35.502262373965586,
          40.15157515157037,
          43.36046079988909,
          35.453208909977384,
          40.63913391086662,
          34.112174236071205,
          36.22663328900244,
          40.244431369043184,
          44.910618422969506,
          43.267165846843625,
          44.34059522069062,
          38.494726313358726,
          34.72423780198206,
          37.20145013044211,
          35.26135839169358,
          29.07340727734866,
          32.77248815827012,
          33.81482026568909,
          36.881106181770164,
          31.950432907836678,
          30.15348991699758,
          31.08882101673438,
          37.746538523873866,
          33.110311579376074,
          41.877478281620654,
          34.81880308873484,
          34.087197311262884,
          23.653054466600043,
          37.77980550117277,
          40.95539213557853,
          41.656678479293596,
          29.314830656987724,
          35.90250808344795,
          29.029991869864013,
          33.7707041391452,
          36.32580501399818,
          42.14772744852384,
          24.039709034229183,
          30.47919229421201,
          49.26548635463075,
          36.531750619497735,
          32.72208457129668,
          35.77623902307383,
          37.44586325908627,
          41.553495239627416,
          27.207726829746704,
          34.67629393783203,
          39.32650937584094,
          39.1229424399157,
          39.16581745258769,
          30.867622777983627,
          40.61790963918155,
          39.666830541251684,
          47.32609194298752,
          40.5413603175157,
          38.354042320437884,
          39.283433859176675,
          34.11390025369021,
          41.93720505575143,
          43.28343910053718,
          44.05265972929699,
          34.386716563458975,
          36.4657294020003,
          50.286393666105454,
          29.598390350553316,
          36.84769533497925,
          32.49834844723631,
          30.439178868323125,
          37.63443393573851,
          39.826530951781876,
          37.315140193867634,
          35.709045112061474,
          36.42514346198171,
          35.79104886917275,
          36.581337956839086,
          34.29289279733754,
          43.23659993767897,
          37.55473945864458,
          35.023265751110074,
          28.511492033655305,
          33.35857380085614,
          50.195835972643586,
          42.11260980818561,
          42.502137690075095,
          33.264795423454196,
          30.2808934521414,
          42.00975220915444,
          31.456010894058718,
          29.440493035808867,
          42.95701611351554,
          41.61741145445068,
          27.40782368603081,
          40.11526021938898,
          41.30059479285584,
          35.581884868058935,
          43.968322832904775,
          44.59847210269323,
          33.48492474367166,
          38.78275292218068,
          35.756550056606315,
          31.88024731786223,
          38.194453431101195
         ],
         "y0": " ",
         "yaxis": "y"
        }
       ],
       "layout": {
        "boxmode": "group",
        "height": 600,
        "legend": {
         "title": {
          "text": "model_type"
         },
         "tracegroupgap": 0
        },
        "margin": {
         "t": 60
        },
        "template": {
         "data": {
          "bar": [
           {
            "error_x": {
             "color": "#2a3f5f"
            },
            "error_y": {
             "color": "#2a3f5f"
            },
            "marker": {
             "line": {
              "color": "#E5ECF6",
              "width": 0.5
             },
             "pattern": {
              "fillmode": "overlay",
              "size": 10,
              "solidity": 0.2
             }
            },
            "type": "bar"
           }
          ],
          "barpolar": [
           {
            "marker": {
             "line": {
              "color": "#E5ECF6",
              "width": 0.5
             },
             "pattern": {
              "fillmode": "overlay",
              "size": 10,
              "solidity": 0.2
             }
            },
            "type": "barpolar"
           }
          ],
          "carpet": [
           {
            "aaxis": {
             "endlinecolor": "#2a3f5f",
             "gridcolor": "white",
             "linecolor": "white",
             "minorgridcolor": "white",
             "startlinecolor": "#2a3f5f"
            },
            "baxis": {
             "endlinecolor": "#2a3f5f",
             "gridcolor": "white",
             "linecolor": "white",
             "minorgridcolor": "white",
             "startlinecolor": "#2a3f5f"
            },
            "type": "carpet"
           }
          ],
          "choropleth": [
           {
            "colorbar": {
             "outlinewidth": 0,
             "ticks": ""
            },
            "type": "choropleth"
           }
          ],
          "contour": [
           {
            "colorbar": {
             "outlinewidth": 0,
             "ticks": ""
            },
            "colorscale": [
             [
              0,
              "#0d0887"
             ],
             [
              0.1111111111111111,
              "#46039f"
             ],
             [
              0.2222222222222222,
              "#7201a8"
             ],
             [
              0.3333333333333333,
              "#9c179e"
             ],
             [
              0.4444444444444444,
              "#bd3786"
             ],
             [
              0.5555555555555556,
              "#d8576b"
             ],
             [
              0.6666666666666666,
              "#ed7953"
             ],
             [
              0.7777777777777778,
              "#fb9f3a"
             ],
             [
              0.8888888888888888,
              "#fdca26"
             ],
             [
              1,
              "#f0f921"
             ]
            ],
            "type": "contour"
           }
          ],
          "contourcarpet": [
           {
            "colorbar": {
             "outlinewidth": 0,
             "ticks": ""
            },
            "type": "contourcarpet"
           }
          ],
          "heatmap": [
           {
            "colorbar": {
             "outlinewidth": 0,
             "ticks": ""
            },
            "colorscale": [
             [
              0,
              "#0d0887"
             ],
             [
              0.1111111111111111,
              "#46039f"
             ],
             [
              0.2222222222222222,
              "#7201a8"
             ],
             [
              0.3333333333333333,
              "#9c179e"
             ],
             [
              0.4444444444444444,
              "#bd3786"
             ],
             [
              0.5555555555555556,
              "#d8576b"
             ],
             [
              0.6666666666666666,
              "#ed7953"
             ],
             [
              0.7777777777777778,
              "#fb9f3a"
             ],
             [
              0.8888888888888888,
              "#fdca26"
             ],
             [
              1,
              "#f0f921"
             ]
            ],
            "type": "heatmap"
           }
          ],
          "heatmapgl": [
           {
            "colorbar": {
             "outlinewidth": 0,
             "ticks": ""
            },
            "colorscale": [
             [
              0,
              "#0d0887"
             ],
             [
              0.1111111111111111,
              "#46039f"
             ],
             [
              0.2222222222222222,
              "#7201a8"
             ],
             [
              0.3333333333333333,
              "#9c179e"
             ],
             [
              0.4444444444444444,
              "#bd3786"
             ],
             [
              0.5555555555555556,
              "#d8576b"
             ],
             [
              0.6666666666666666,
              "#ed7953"
             ],
             [
              0.7777777777777778,
              "#fb9f3a"
             ],
             [
              0.8888888888888888,
              "#fdca26"
             ],
             [
              1,
              "#f0f921"
             ]
            ],
            "type": "heatmapgl"
           }
          ],
          "histogram": [
           {
            "marker": {
             "pattern": {
              "fillmode": "overlay",
              "size": 10,
              "solidity": 0.2
             }
            },
            "type": "histogram"
           }
          ],
          "histogram2d": [
           {
            "colorbar": {
             "outlinewidth": 0,
             "ticks": ""
            },
            "colorscale": [
             [
              0,
              "#0d0887"
             ],
             [
              0.1111111111111111,
              "#46039f"
             ],
             [
              0.2222222222222222,
              "#7201a8"
             ],
             [
              0.3333333333333333,
              "#9c179e"
             ],
             [
              0.4444444444444444,
              "#bd3786"
             ],
             [
              0.5555555555555556,
              "#d8576b"
             ],
             [
              0.6666666666666666,
              "#ed7953"
             ],
             [
              0.7777777777777778,
              "#fb9f3a"
             ],
             [
              0.8888888888888888,
              "#fdca26"
             ],
             [
              1,
              "#f0f921"
             ]
            ],
            "type": "histogram2d"
           }
          ],
          "histogram2dcontour": [
           {
            "colorbar": {
             "outlinewidth": 0,
             "ticks": ""
            },
            "colorscale": [
             [
              0,
              "#0d0887"
             ],
             [
              0.1111111111111111,
              "#46039f"
             ],
             [
              0.2222222222222222,
              "#7201a8"
             ],
             [
              0.3333333333333333,
              "#9c179e"
             ],
             [
              0.4444444444444444,
              "#bd3786"
             ],
             [
              0.5555555555555556,
              "#d8576b"
             ],
             [
              0.6666666666666666,
              "#ed7953"
             ],
             [
              0.7777777777777778,
              "#fb9f3a"
             ],
             [
              0.8888888888888888,
              "#fdca26"
             ],
             [
              1,
              "#f0f921"
             ]
            ],
            "type": "histogram2dcontour"
           }
          ],
          "mesh3d": [
           {
            "colorbar": {
             "outlinewidth": 0,
             "ticks": ""
            },
            "type": "mesh3d"
           }
          ],
          "parcoords": [
           {
            "line": {
             "colorbar": {
              "outlinewidth": 0,
              "ticks": ""
             }
            },
            "type": "parcoords"
           }
          ],
          "pie": [
           {
            "automargin": true,
            "type": "pie"
           }
          ],
          "scatter": [
           {
            "fillpattern": {
             "fillmode": "overlay",
             "size": 10,
             "solidity": 0.2
            },
            "type": "scatter"
           }
          ],
          "scatter3d": [
           {
            "line": {
             "colorbar": {
              "outlinewidth": 0,
              "ticks": ""
             }
            },
            "marker": {
             "colorbar": {
              "outlinewidth": 0,
              "ticks": ""
             }
            },
            "type": "scatter3d"
           }
          ],
          "scattercarpet": [
           {
            "marker": {
             "colorbar": {
              "outlinewidth": 0,
              "ticks": ""
             }
            },
            "type": "scattercarpet"
           }
          ],
          "scattergeo": [
           {
            "marker": {
             "colorbar": {
              "outlinewidth": 0,
              "ticks": ""
             }
            },
            "type": "scattergeo"
           }
          ],
          "scattergl": [
           {
            "marker": {
             "colorbar": {
              "outlinewidth": 0,
              "ticks": ""
             }
            },
            "type": "scattergl"
           }
          ],
          "scattermapbox": [
           {
            "marker": {
             "colorbar": {
              "outlinewidth": 0,
              "ticks": ""
             }
            },
            "type": "scattermapbox"
           }
          ],
          "scatterpolar": [
           {
            "marker": {
             "colorbar": {
              "outlinewidth": 0,
              "ticks": ""
             }
            },
            "type": "scatterpolar"
           }
          ],
          "scatterpolargl": [
           {
            "marker": {
             "colorbar": {
              "outlinewidth": 0,
              "ticks": ""
             }
            },
            "type": "scatterpolargl"
           }
          ],
          "scatterternary": [
           {
            "marker": {
             "colorbar": {
              "outlinewidth": 0,
              "ticks": ""
             }
            },
            "type": "scatterternary"
           }
          ],
          "surface": [
           {
            "colorbar": {
             "outlinewidth": 0,
             "ticks": ""
            },
            "colorscale": [
             [
              0,
              "#0d0887"
             ],
             [
              0.1111111111111111,
              "#46039f"
             ],
             [
              0.2222222222222222,
              "#7201a8"
             ],
             [
              0.3333333333333333,
              "#9c179e"
             ],
             [
              0.4444444444444444,
              "#bd3786"
             ],
             [
              0.5555555555555556,
              "#d8576b"
             ],
             [
              0.6666666666666666,
              "#ed7953"
             ],
             [
              0.7777777777777778,
              "#fb9f3a"
             ],
             [
              0.8888888888888888,
              "#fdca26"
             ],
             [
              1,
              "#f0f921"
             ]
            ],
            "type": "surface"
           }
          ],
          "table": [
           {
            "cells": {
             "fill": {
              "color": "#EBF0F8"
             },
             "line": {
              "color": "white"
             }
            },
            "header": {
             "fill": {
              "color": "#C8D4E3"
             },
             "line": {
              "color": "white"
             }
            },
            "type": "table"
           }
          ]
         },
         "layout": {
          "annotationdefaults": {
           "arrowcolor": "#2a3f5f",
           "arrowhead": 0,
           "arrowwidth": 1
          },
          "autotypenumbers": "strict",
          "coloraxis": {
           "colorbar": {
            "outlinewidth": 0,
            "ticks": ""
           }
          },
          "colorscale": {
           "diverging": [
            [
             0,
             "#8e0152"
            ],
            [
             0.1,
             "#c51b7d"
            ],
            [
             0.2,
             "#de77ae"
            ],
            [
             0.3,
             "#f1b6da"
            ],
            [
             0.4,
             "#fde0ef"
            ],
            [
             0.5,
             "#f7f7f7"
            ],
            [
             0.6,
             "#e6f5d0"
            ],
            [
             0.7,
             "#b8e186"
            ],
            [
             0.8,
             "#7fbc41"
            ],
            [
             0.9,
             "#4d9221"
            ],
            [
             1,
             "#276419"
            ]
           ],
           "sequential": [
            [
             0,
             "#0d0887"
            ],
            [
             0.1111111111111111,
             "#46039f"
            ],
            [
             0.2222222222222222,
             "#7201a8"
            ],
            [
             0.3333333333333333,
             "#9c179e"
            ],
            [
             0.4444444444444444,
             "#bd3786"
            ],
            [
             0.5555555555555556,
             "#d8576b"
            ],
            [
             0.6666666666666666,
             "#ed7953"
            ],
            [
             0.7777777777777778,
             "#fb9f3a"
            ],
            [
             0.8888888888888888,
             "#fdca26"
            ],
            [
             1,
             "#f0f921"
            ]
           ],
           "sequentialminus": [
            [
             0,
             "#0d0887"
            ],
            [
             0.1111111111111111,
             "#46039f"
            ],
            [
             0.2222222222222222,
             "#7201a8"
            ],
            [
             0.3333333333333333,
             "#9c179e"
            ],
            [
             0.4444444444444444,
             "#bd3786"
            ],
            [
             0.5555555555555556,
             "#d8576b"
            ],
            [
             0.6666666666666666,
             "#ed7953"
            ],
            [
             0.7777777777777778,
             "#fb9f3a"
            ],
            [
             0.8888888888888888,
             "#fdca26"
            ],
            [
             1,
             "#f0f921"
            ]
           ]
          },
          "colorway": [
           "#636efa",
           "#EF553B",
           "#00cc96",
           "#ab63fa",
           "#FFA15A",
           "#19d3f3",
           "#FF6692",
           "#B6E880",
           "#FF97FF",
           "#FECB52"
          ],
          "font": {
           "color": "#2a3f5f"
          },
          "geo": {
           "bgcolor": "white",
           "lakecolor": "white",
           "landcolor": "#E5ECF6",
           "showlakes": true,
           "showland": true,
           "subunitcolor": "white"
          },
          "hoverlabel": {
           "align": "left"
          },
          "hovermode": "closest",
          "mapbox": {
           "style": "light"
          },
          "paper_bgcolor": "white",
          "plot_bgcolor": "#E5ECF6",
          "polar": {
           "angularaxis": {
            "gridcolor": "white",
            "linecolor": "white",
            "ticks": ""
           },
           "bgcolor": "#E5ECF6",
           "radialaxis": {
            "gridcolor": "white",
            "linecolor": "white",
            "ticks": ""
           }
          },
          "scene": {
           "xaxis": {
            "backgroundcolor": "#E5ECF6",
            "gridcolor": "white",
            "gridwidth": 2,
            "linecolor": "white",
            "showbackground": true,
            "ticks": "",
            "zerolinecolor": "white"
           },
           "yaxis": {
            "backgroundcolor": "#E5ECF6",
            "gridcolor": "white",
            "gridwidth": 2,
            "linecolor": "white",
            "showbackground": true,
            "ticks": "",
            "zerolinecolor": "white"
           },
           "zaxis": {
            "backgroundcolor": "#E5ECF6",
            "gridcolor": "white",
            "gridwidth": 2,
            "linecolor": "white",
            "showbackground": true,
            "ticks": "",
            "zerolinecolor": "white"
           }
          },
          "shapedefaults": {
           "line": {
            "color": "#2a3f5f"
           }
          },
          "ternary": {
           "aaxis": {
            "gridcolor": "white",
            "linecolor": "white",
            "ticks": ""
           },
           "baxis": {
            "gridcolor": "white",
            "linecolor": "white",
            "ticks": ""
           },
           "bgcolor": "#E5ECF6",
           "caxis": {
            "gridcolor": "white",
            "linecolor": "white",
            "ticks": ""
           }
          },
          "title": {
           "x": 0.05
          },
          "xaxis": {
           "automargin": true,
           "gridcolor": "white",
           "linecolor": "white",
           "ticks": "",
           "title": {
            "standoff": 15
           },
           "zerolinecolor": "white",
           "zerolinewidth": 2
          },
          "yaxis": {
           "automargin": true,
           "gridcolor": "white",
           "linecolor": "white",
           "ticks": "",
           "title": {
            "standoff": 15
           },
           "zerolinecolor": "white",
           "zerolinewidth": 2
          }
         }
        },
        "width": 800,
        "xaxis": {
         "anchor": "y",
         "domain": [
          0,
          1
         ]
        },
        "yaxis": {
         "anchor": "x",
         "domain": [
          0,
          1
         ],
         "title": {
          "text": "fmt_total_profit_percentage"
         }
        }
       }
      }
     },
     "metadata": {},
     "output_type": "display_data"
    }
   ],
   "source": [
    "fig = px.box(df_trader_results, y=\"fmt_total_profit_percentage\", color=\"model_type\", points=\"all\", color_discrete_sequence=[ \"#FF7F0E\", \"#00CC96\", \"#10aded\", \"#8A56EF\"],  width=800, height=600)\n",
    "fig.show()"
   ]
  },
  {
   "cell_type": "code",
   "execution_count": 26,
   "metadata": {},
   "outputs": [
    {
     "data": {
      "application/vnd.plotly.v1+json": {
       "config": {
        "plotlyServerURL": "https://plot.ly"
       },
       "data": [
        {
         "alignmentgroup": "True",
         "bingroup": "x",
         "hovertemplate": "model_type=DQN<br>fmt_total_profit_percentage=%{x}<br>count=%{y}<extra></extra>",
         "legendgroup": "DQN",
         "marker": {
          "color": "#FF7F0E",
          "pattern": {
           "shape": ""
          }
         },
         "name": "DQN",
         "offsetgroup": "DQN",
         "orientation": "v",
         "showlegend": true,
         "type": "histogram",
         "x": [
          34.310233402585546,
          37.37291325887,
          43.227341883869805,
          35.07967055909387,
          42.87562393090356,
          32.10341265234611,
          35.838205632801575,
          36.27139388444576,
          30.16966794743128,
          26.0036917498492,
          22.31117978836592,
          38.95663757750425,
          42.54002511856505,
          36.39700784211044,
          42.59000379457505,
          33.122915520869526,
          36.81915349856044,
          32.74496997939069,
          37.029169269598825,
          29.793104138773142,
          31.691294999679087,
          38.594240338132124,
          38.04048913121847,
          35.39289424473115,
          34.62198093739693,
          53.16592954209567,
          41.17834646603002,
          37.3078489721999,
          32.31192209763228,
          37.4491969081145,
          41.560445260702664,
          31.667469701022256,
          41.91539429062408,
          41.04327494626705,
          24.429837811421763,
          35.10827899967799,
          38.25459520353882,
          39.33291190274457,
          43.43097348406906,
          40.88856058353756,
          32.2967643032126,
          41.863025631311125,
          40.57478927283638,
          32.542761863888515,
          35.18671041613739,
          27.209597534548745,
          40.486777415298114,
          31.431845227123635,
          32.68640467895572,
          21.063010846954676,
          33.77175534345804,
          41.76947189056226,
          38.90363659741001,
          37.89891954587048,
          30.537006602813022,
          28.762601580167235,
          34.196252918730764,
          33.656477177044366,
          38.619724424632864,
          35.952410316907326,
          41.41716116331231,
          29.10256695315814,
          33.115622748855685,
          17.826901806008966,
          39.31811586715928,
          38.35578136211364,
          33.54515210734665,
          54.73190583831169,
          42.54023254593346,
          46.32953262888515,
          38.12052868799536,
          42.27062703236988,
          31.280557059657575,
          40.33946733577252,
          40.60442966008602,
          34.15760878197867,
          33.44251772646527,
          33.75753251271123,
          34.53040625546975,
          31.996228567267828,
          36.781550693502666,
          41.28168390870697,
          38.21819464554292,
          47.822331174618895,
          26.58555954161148,
          42.633164157701245,
          31.55567661462979,
          42.11985243649714,
          35.95225203908432,
          37.971578928037,
          39.43709173528751,
          32.49189140130142,
          21.316312598291386,
          39.94709744926492,
          36.27600240612941,
          30.61571865480399,
          39.36200824414371,
          39.815394313200734,
          39.477550251325646,
          31.149351569473403,
          43.855373655336116,
          49.65458084510435,
          35.47426979003403,
          35.64020841546886,
          45.349419985742514,
          36.423365151728724,
          37.821282732750205,
          38.04771498089296,
          38.88679990915882,
          41.93654644447713,
          41.18753962298787,
          31.303057839196,
          24.372212442295638,
          20.610866928685567,
          37.32540978197421,
          29.26795931731818,
          37.056667294479475,
          33.58068728802341,
          31.887563257971017,
          33.65585651806491,
          39.146696648580104,
          34.59593976425492,
          40.992496344858644,
          34.694678188421534,
          34.14073615472759,
          38.18567151490322,
          29.237053962219317,
          30.93461933589794,
          39.1335700845072,
          40.36833925986245,
          40.312488086043196,
          32.57616520094457,
          32.20185649536222,
          42.7108616549794,
          40.09184920429665,
          36.9422109888039,
          36.090133241978606,
          34.36630951488895,
          32.968870045594365,
          35.15990779467846,
          39.99139064785937,
          43.18960772990441,
          42.53042337622504,
          34.596739409188324,
          41.61508945838113,
          35.683414132503174,
          28.873131873917046,
          31.854401561480138,
          35.946816017743764,
          32.69990831307845,
          16.37028688982227,
          37.452486062687385,
          35.142570923369185,
          40.17792629217802,
          31.14675776061393,
          38.77035031984926,
          42.77710620662229,
          36.999721012414334,
          38.63423997937723,
          39.149441122304985,
          29.090295712008185,
          35.04440476200605,
          36.761939472217534,
          34.206841678574015,
          33.512894623448105,
          36.913758229013396,
          35.3897987396232,
          42.20205855321873,
          35.598460451596694,
          41.62584427117404,
          40.602186332009516,
          43.045804921215414,
          37.75272928527163,
          35.67348851076011,
          35.01146012692402,
          37.873211566531765,
          37.81508571064334,
          30.602668430890546,
          35.302367745321476,
          44.773911610125275,
          37.15766560925686,
          31.211684765061023,
          32.56809568473644,
          25.71682118048213,
          40.34418228109651,
          28.714738409706065,
          39.06613416677085,
          39.118892561779276,
          36.24056923992887,
          39.962666627334364,
          47.99354793187251,
          33.88454388629949,
          38.79116629668084,
          32.432626326148295,
          34.220959700726475,
          37.5565572420816,
          45.314224949035896,
          42.106425916323985,
          36.2944850063148,
          35.93787052395765,
          41.712559283896475,
          37.69846555081369,
          32.639853362203674,
          32.26108205746328,
          35.08761713789254,
          44.78354853416568,
          36.3618011660213,
          31.844253195185402,
          27.003862194199147,
          29.10151449248457,
          29.550174383642403,
          38.695796148876724,
          43.36265793587548,
          27.34821456657761,
          37.89846592545909,
          45.27629070745935,
          43.25215384839582,
          42.90609097050111,
          25.10975653797143,
          40.54659886049126,
          40.096232579096494,
          39.832942002826385,
          32.54312694442003,
          41.67196793047159,
          37.9258694649596,
          31.539042132126085,
          38.27417854739594,
          34.457812803517605,
          33.317807546064174,
          40.52650470620114,
          34.132398355974814,
          41.08226815333644,
          33.21988053183382,
          34.1410712048239,
          39.310531853183875,
          41.50990219171615,
          44.531508676661204,
          35.42158194939744,
          26.141453363072298,
          32.684136652280316,
          35.196568947243925,
          40.61241537325051,
          36.34654365786123,
          44.49629402609423,
          40.23885183260487,
          40.92359505850452,
          25.492386433310067,
          37.09534162593353,
          36.34604621540749,
          37.07040020121044,
          39.69279873759896,
          35.51625410993977,
          37.338907474160486,
          17.702673871507702,
          40.455592116945915,
          35.2247218733319,
          21.001590654970226,
          31.659011064269606,
          39.74390945459368,
          36.65596003899947,
          36.36975773544544,
          38.59149225666903,
          30.48309212901956,
          39.29871300165395,
          35.56481723387588,
          31.40597704038297,
          36.52410449197745,
          45.85191828047341,
          34.1012932039394,
          25.820207461077203,
          34.396757860361205,
          38.0794609824038,
          27.538536661383727,
          40.83049877065885,
          44.96266032616643,
          42.13967901352902,
          40.663796787307696,
          42.56088042969775,
          39.484221430991994,
          37.018584158340026,
          45.10705957370305,
          30.746134402622193,
          44.113717766102,
          34.54913079653401,
          32.63003074123969,
          37.251820949797995,
          31.390311186709408,
          34.51620670899202,
          32.62915359599361,
          36.872649629470054,
          38.08605042040662,
          37.01684316345304,
          36.5471504214254,
          36.74829513533056,
          33.71136262968661,
          32.56251963962888,
          38.720013382611015,
          31.650587566905088,
          30.269701809686843,
          32.26422202815087,
          42.73557998968249,
          27.841714976960198,
          29.598601778999402,
          28.5883403726354,
          38.027343834418815,
          42.92624874576214,
          41.32822285641304,
          39.36879223293879,
          35.76491617998943,
          37.81807226586737,
          38.25348188473323,
          34.22637439126983,
          37.33898392134505,
          40.77124475875311,
          35.92260688532036,
          40.60220752746044,
          16.89206151598084,
          32.24847644161879,
          29.239493156169782,
          34.77348170405206,
          36.0632139675124,
          36.596963408884164,
          42.026687093173166,
          37.20890382478921,
          32.05344471010185,
          35.60134067673213,
          45.1911847914704,
          42.22665491975191,
          34.1036968354846,
          38.674105757705405,
          39.92836844482355,
          34.54957734543533,
          34.01806248256767,
          36.45162454762085,
          23.820880854160098,
          24.024453544456126,
          39.353286415509324,
          36.108495495110574,
          39.553042231644994,
          24.675445285363228,
          35.70937360960782,
          37.104987407209464,
          48.15024568323274,
          37.08277887558265,
          36.778496214243006,
          34.08703237860588,
          37.88978959864748,
          32.96610566584614,
          27.41980075650028,
          38.545585411679184,
          35.410282711651256,
          34.75739925921235,
          29.928862683893232,
          30.694254676281286,
          44.678794891375404,
          42.15821554459291,
          38.82632926261971,
          32.641786244721224,
          25.087671983478188,
          33.9478024970536,
          42.176084293109284,
          35.926076887551204,
          30.24213118061563,
          34.42241599387952,
          27.24511534910723,
          42.38259949002905,
          37.84116901945238,
          39.99396206526438,
          34.33562103869021,
          41.75627713946446,
          36.17864042690455,
          29.47704022146138,
          36.98369525438188,
          36.97830941274744,
          25.0438140557649,
          31.801844857035853,
          39.076056364442536,
          40.076451144308045,
          31.37837023343808,
          39.691032638700776,
          39.66539064509007,
          36.86585919733487,
          37.75638355816331,
          40.47705525569536,
          41.48959014554614,
          26.72564092031884,
          32.78246854525126,
          33.698159860559215,
          40.02570499905591,
          34.06273324126325,
          44.158178602590525,
          38.542314252629865,
          34.54645694068177,
          22.32016338842371,
          37.06398269963549,
          21.678372217752774,
          38.78684428077295,
          38.07838026331576,
          37.00464627427416,
          37.871754317002605,
          24.0048220547574,
          40.430870801181484,
          36.994261274972985,
          38.923003990902515,
          34.177759698312784,
          28.981731178686076,
          37.58284621387933,
          42.279021863440526,
          41.224788269086865,
          35.96642773725775,
          21.275609826430152,
          40.092945765486874,
          32.87331251338097,
          27.42121770695669,
          45.411143773293006,
          31.25636471344886,
          35.894693761829274,
          38.92113712904121,
          43.45402018134492,
          42.21356810977595,
          37.25222429582304,
          42.891418665998195,
          34.32629649832533,
          37.295010938950604,
          33.081159781270976,
          19.07389571595539,
          34.84999258571484,
          40.85222659440144,
          42.21654410726552,
          46.64761548698044,
          39.11213651280767,
          34.517436564796576,
          32.67052936777644,
          32.31336467647918,
          38.55607913119161,
          34.61384882345182,
          31.0450551050246,
          33.38414694019241,
          37.53483276702567,
          42.933759873405776,
          40.742194141593146,
          39.5327565603804,
          36.220292089144834,
          33.601109356340245,
          31.514644678451464,
          36.72751994429295,
          48.67676492553406,
          34.90899084211405,
          43.59936362320482,
          43.91219494546055,
          41.12470762002691,
          40.72023511784491,
          35.33438726687825,
          31.43303953831529,
          34.6038236884638,
          23.0863438570456,
          38.008223102268055,
          38.39097776903901,
          22.256391096887263,
          31.379432538229658,
          36.980782091494866,
          38.41059941441605,
          41.15971540611436,
          38.29965921886816,
          39.29341200922059,
          35.13744496192681,
          35.81221729920867,
          44.14641795096694,
          38.33465033099843,
          39.205040831876126,
          36.20805996972203,
          34.059195077452365,
          33.85471837424527,
          38.6716830937875,
          42.53909273687071,
          30.332802192636432,
          33.97221408904325,
          32.008294534530094,
          32.68710065517799,
          32.96134084827011,
          35.468301108270374,
          38.545466067868304,
          38.78988134478223,
          43.18234358969395,
          31.685372055237938,
          34.63519241492712,
          25.683373240295303,
          33.9919032145789,
          35.52112013654107,
          31.335839000566512,
          38.93969248305895,
          38.18269413232463,
          35.60260462535538,
          46.68297744093912,
          38.8020089928859,
          36.46935723292941,
          35.76060506578636,
          36.589832704891734,
          42.183323498153904,
          36.455162163622276,
          38.06427528529734,
          37.941740652063835,
          50.226328465579904,
          44.84280997545569,
          36.06538382760298,
          33.37098032303108,
          32.81509760637435,
          48.70590743796175,
          42.86601503044123,
          29.385246700038216,
          29.857648905188118,
          39.105767092313435,
          41.285577008649234,
          42.43673602543039,
          41.03735307298773,
          39.34169828302796,
          33.922291219669695,
          33.133556022294016,
          40.19896947287685,
          29.449035856416607,
          30.11237234383577,
          38.621516919500884,
          29.158049988280823,
          42.71459497382737,
          26.5267402518933,
          35.861064940043555,
          30.476815469760332,
          26.51215555920232,
          38.24045950666823,
          39.60175534159733,
          36.75741418911465,
          43.70004222996704,
          34.608264683079625,
          46.94188281769702,
          37.118823406955606,
          35.106509043512006,
          39.79498874624075,
          39.54314246768469,
          25.121827655123454,
          23.850209849416636,
          37.26663064137898,
          36.656443952220144,
          29.089666440438844,
          43.320201641404175,
          37.28603453082664,
          38.3754786047519,
          33.92501655698894,
          29.17205706658905,
          41.990527720487236,
          37.30738798288529,
          44.19142045941753,
          39.23298496175636,
          39.31396012718198,
          32.95223728127983,
          25.66401183281297,
          35.5008229794191,
          36.94601082043183,
          31.993893836016916,
          42.20019882929282,
          38.39754340185899,
          33.34243585504464,
          41.785820807050996,
          36.15803071958017,
          33.853704337838344,
          36.288377727360334,
          34.72681918286915,
          40.680148236207756,
          45.95103373489504,
          34.96094052926813,
          37.253402237884444,
          27.557221154667054,
          36.817614641361644,
          40.74087091405123,
          37.60689354365054,
          30.96630986889659,
          40.39678812185572,
          39.23645342487718,
          37.00077559364172,
          45.89395051804508,
          31.886241199585253,
          39.648118936647194,
          41.291702104857194,
          34.89338445591883,
          35.74846606573907,
          44.230614347647986,
          39.62031966336217,
          43.17640161309377,
          29.974688534181748,
          42.01774342843112,
          32.536677057904015,
          43.53409685671528,
          34.27815992986274,
          32.38058908167001,
          33.84116883291672,
          39.51602975802149,
          28.619844034148436,
          41.289458835114104,
          38.59345544811181,
          40.29823496020602,
          37.515421044966125,
          37.33936960279689,
          34.51184168033568,
          42.357573299569815,
          40.681241990366956,
          47.8394585615495,
          46.756232575186864,
          42.91425416314223,
          37.035243480274275,
          45.303112262823866,
          30.150293453216115,
          34.16207818758936,
          44.749976548493905,
          36.1074297552197,
          32.712883808469726,
          41.638790611919994,
          39.54626803140855,
          34.85593843637604,
          35.56886732765818,
          43.20564869304244,
          39.69688666290363,
          41.33480023474378,
          37.66715578399673,
          22.6523034053675,
          41.05275676475652,
          35.715448381799185,
          41.612204323839606,
          39.64904245831566,
          34.82233584808307,
          44.71028887907982,
          36.4549585127717,
          41.26732679687366,
          46.427592345638466,
          27.584258066464116,
          37.02819230092669,
          35.6155747834914,
          34.18524909726759,
          42.55719617326976,
          38.58537910315323,
          38.222345129921955,
          45.63452485189574,
          43.15826387696789,
          39.14548612890365,
          42.73289364098159,
          42.34467555434047,
          35.77026835479171,
          33.47177465238285,
          35.81739648033477,
          28.618925188391174,
          37.74916306087659,
          20.99888204943319,
          30.521836119637612,
          39.66846048074613,
          34.28467411863998,
          29.87798324214561,
          38.89153406073367,
          37.824309637911234,
          34.93042172124967,
          35.981550512122084,
          36.94480518297054,
          36.666230655577834,
          41.12418108311464,
          38.16700504365627,
          35.242271783799836,
          29.73348818435515,
          32.73246686945814,
          34.83820103211552,
          50.354398490096976,
          37.46701292164425,
          38.8416600976075,
          43.223641889854726,
          32.920438455621735,
          50.92666633259502,
          36.91522601437312,
          40.628164815361,
          24.9841938343357,
          32.84665001979978,
          35.76136383463078,
          37.055281339109555,
          33.723029661985905,
          44.13165270097805,
          35.59319788519102,
          30.84571160335241,
          39.11143115044635,
          34.490309665059904,
          40.54336061064752,
          40.159218665415544,
          38.874963554195155,
          44.48329308372336,
          41.48384036858212,
          32.572852936501604,
          39.265277431962645,
          34.40206403084407,
          34.92958295957565,
          39.693393074603954,
          42.0991805356548,
          35.003823462709875,
          38.86811541565187,
          45.04493377588121,
          30.756307167660445,
          34.490604871767005,
          40.91140881369546,
          37.69129328320082,
          40.368836302442816,
          40.292930908542644,
          40.9412926913207,
          33.61372229917319,
          34.53794821608356,
          31.195589122720293,
          35.63323886766572,
          37.06096777783403,
          38.82033903525881,
          40.65074058445495,
          40.863613319148364,
          35.32420724654657,
          36.85020091028057,
          30.798531698744647,
          42.56904964847763,
          29.282219766722562,
          29.526924633379604,
          31.597572860774626,
          22.750948748927446,
          24.034272220146914,
          35.00864153930245,
          34.46907923204194,
          31.429517603662482,
          48.45573290486451,
          35.31408576931536,
          37.18751412990078,
          33.68848380373819,
          38.432139217332725,
          44.779844215806406,
          33.01231569572363,
          25.318449873542303,
          37.20952060314373,
          34.791997922659945,
          40.22829085524635,
          30.785544862261215,
          34.77616411209261,
          46.63031347193376,
          31.543862419944467,
          33.672176988266585,
          31.29413381522077,
          46.27014755779897,
          37.42671723644511,
          30.355908651755435,
          33.16582614689112,
          40.74223240301964,
          31.207881419219575,
          33.66912049363684,
          38.54669725638091,
          41.66883791705098,
          30.37806769233773,
          36.76176834782172,
          44.14734185464506,
          39.97236700585998,
          37.233098027679844,
          32.66673921200534,
          26.939744291952717,
          36.4270225881893,
          39.719137853807894,
          34.10069900127657,
          40.42286658181955,
          37.93295132267798,
          41.17459133583754,
          33.719734960767745,
          23.71471512937513,
          38.67816788884897,
          45.433167410232336,
          33.95877922023172,
          32.06777968785968,
          34.72951138669942,
          26.137172973647836,
          39.73587461199515,
          40.601372459601535,
          44.40701372168241,
          42.559593631087054,
          39.826283239369076,
          33.051335989258554,
          18.10341282148673,
          33.99479570160946,
          36.02477352183657,
          41.27152621881764,
          35.80707093969413,
          30.954593723876144,
          45.13732577484502,
          41.30681791628008,
          36.393788406810955,
          33.281568587452085,
          39.02326452003708,
          39.45045221195027,
          36.55527604662774,
          36.91562743521584,
          40.210744038075276,
          35.05239807243259,
          31.52262596664468,
          40.32318276463389,
          28.913721550333893,
          37.72398453520831,
          34.88585849368893,
          29.892224433563253,
          38.734990834473784,
          39.34237315205327,
          14.41894479114103,
          37.326613173999505,
          37.055841838040116,
          40.03176521164187,
          41.37535173260327,
          34.12133927829619,
          45.63251227286409,
          27.95249934889712,
          32.93226429253326,
          34.40904632787436,
          39.47421156873712,
          33.85387950722105,
          28.31450904760926,
          32.46936969143104,
          38.23495564244092,
          34.634561823837394,
          38.09149497096178,
          28.989454241885305,
          33.27286035850621,
          32.93962699274884,
          38.76990281435966,
          36.001529324562064,
          36.99978797735399,
          32.795914316249664,
          30.67088132202638,
          31.291978088120032,
          39.893581127112384,
          39.733083558433876,
          33.28108365384337,
          36.188743550087786,
          38.14418439031941,
          36.43765610192118,
          36.80890021088228,
          40.73499770582012,
          32.708778130483964,
          31.53763518096686,
          33.654378786539205,
          29.985241367892492,
          36.26267054024457,
          37.24717439981673,
          41.849979776046474,
          40.49756639118889,
          24.4594458064999,
          28.8010911886712,
          34.91067862469672,
          32.27379048763099,
          33.01545643940016,
          40.704293163213244,
          37.878309104226936,
          36.15465356975476,
          41.82841898291814,
          41.28430022019969,
          37.26010292252331,
          42.26409329475269,
          37.66287802465796,
          36.34461418243089,
          38.779192333527845,
          39.66256866957736,
          38.84999206155979,
          33.777042431512136,
          47.2466650280009,
          32.29346006172133,
          28.22857736084723,
          44.2323380265788,
          33.785516039239205,
          33.24291172927283,
          38.90209650647907,
          32.2230551511314,
          46.67546089257073,
          26.84400697168052,
          34.56243912390089,
          35.33533005550118,
          38.22119434285967,
          41.01894500751764,
          40.4931546140844,
          29.681619233199275,
          33.36203163507916,
          36.02001257160523,
          27.60150939680066,
          35.31036421139957,
          32.877409391338055,
          40.99248486151961,
          39.53352228216651,
          29.797341737715556,
          41.061058513907156,
          42.499656614465486,
          39.25548866486357,
          34.67198322847622,
          31.00845411889084,
          34.64395700101941,
          30.226017387983383,
          33.11205881562349,
          23.259748806846403,
          33.68431473612728,
          33.03320624537467,
          42.31929896826199,
          35.502262373965586,
          40.15157515157037,
          43.36046079988909,
          35.453208909977384,
          40.63913391086662,
          34.112174236071205,
          36.22663328900244,
          40.244431369043184,
          44.910618422969506,
          43.267165846843625,
          44.34059522069062,
          38.494726313358726,
          34.72423780198206,
          37.20145013044211,
          35.26135839169358,
          29.07340727734866,
          32.77248815827012,
          33.81482026568909,
          36.881106181770164,
          31.950432907836678,
          30.15348991699758,
          31.08882101673438,
          37.746538523873866,
          33.110311579376074,
          41.877478281620654,
          34.81880308873484,
          34.087197311262884,
          23.653054466600043,
          37.77980550117277,
          40.95539213557853,
          41.656678479293596,
          29.314830656987724,
          35.90250808344795,
          29.029991869864013,
          33.7707041391452,
          36.32580501399818,
          42.14772744852384,
          24.039709034229183,
          30.47919229421201,
          49.26548635463075,
          36.531750619497735,
          32.72208457129668,
          35.77623902307383,
          37.44586325908627,
          41.553495239627416,
          27.207726829746704,
          34.67629393783203,
          39.32650937584094,
          39.1229424399157,
          39.16581745258769,
          30.867622777983627,
          40.61790963918155,
          39.666830541251684,
          47.32609194298752,
          40.5413603175157,
          38.354042320437884,
          39.283433859176675,
          34.11390025369021,
          41.93720505575143,
          43.28343910053718,
          44.05265972929699,
          34.386716563458975,
          36.4657294020003,
          50.286393666105454,
          29.598390350553316,
          36.84769533497925,
          32.49834844723631,
          30.439178868323125,
          37.63443393573851,
          39.826530951781876,
          37.315140193867634,
          35.709045112061474,
          36.42514346198171,
          35.79104886917275,
          36.581337956839086,
          34.29289279733754,
          43.23659993767897,
          37.55473945864458,
          35.023265751110074,
          28.511492033655305,
          33.35857380085614,
          50.195835972643586,
          42.11260980818561,
          42.502137690075095,
          33.264795423454196,
          30.2808934521414,
          42.00975220915444,
          31.456010894058718,
          29.440493035808867,
          42.95701611351554,
          41.61741145445068,
          27.40782368603081,
          40.11526021938898,
          41.30059479285584,
          35.581884868058935,
          43.968322832904775,
          44.59847210269323,
          33.48492474367166,
          38.78275292218068,
          35.756550056606315,
          31.88024731786223,
          38.194453431101195
         ],
         "xaxis": "x",
         "yaxis": "y"
        },
        {
         "alignmentgroup": "True",
         "boxpoints": "all",
         "customdata": [
          [
           5555.189999999999,
           40,
           1
          ],
          [
           6097.150000000031,
           30,
           2
          ],
          [
           7130.970000000034,
           44,
           3
          ],
          [
           5867,
           32,
           4
          ],
          [
           7109.859999999982,
           46,
           5
          ],
          [
           5339.120000000028,
           42,
           6
          ],
          [
           5933.380000000001,
           28,
           7
          ],
          [
           6173.510000000006,
           38,
           8
          ],
          [
           5083.940000000013,
           42,
           9
          ],
          [
           4309.390000000003,
           38,
           10
          ],
          [
           3862.340000000011,
           30,
           11
          ],
          [
           6421.639999999999,
           26,
           12
          ],
          [
           6931.93,
           32,
           13
          ],
          [
           6060.059999999987,
           42,
           14
          ],
          [
           7116.830000000005,
           32,
           15
          ],
          [
           5503.350000000017,
           38,
           16
          ],
          [
           6068.780000000032,
           46,
           17
          ],
          [
           5395.7900000000045,
           36,
           18
          ],
          [
           6116.07,
           44,
           19
          ],
          [
           5058.249999999996,
           47,
           20
          ],
          [
           5466.830000000013,
           34,
           21
          ],
          [
           6348.050000000003,
           28,
           22
          ],
          [
           6375.85000000002,
           42,
           23
          ],
          [
           5903.979999999974,
           28,
           24
          ],
          [
           5835.820000000007,
           32,
           25
          ],
          [
           8426.64000000001,
           46,
           26
          ],
          [
           6811.500000000011,
           40,
           27
          ],
          [
           6231.73,
           22,
           28
          ],
          [
           5559.619999999981,
           40,
           29
          ],
          [
           6264.34,
           24,
           30
          ],
          [
           6891.220000000027,
           22,
           31
          ],
          [
           5248.270000000008,
           28,
           32
          ],
          [
           6871.389999999999,
           26,
           33
          ],
          [
           6789.540000000019,
           30,
           34
          ],
          [
           4277.669999999995,
           52,
           35
          ],
          [
           5759.700000000026,
           56,
           36
          ],
          [
           6399.049999999999,
           46,
           37
          ],
          [
           6518.80000000001,
           26,
           38
          ],
          [
           7111.980000000007,
           38,
           39
          ],
          [
           6754.110000000004,
           38,
           40
          ],
          [
           5552.830000000024,
           40,
           41
          ],
          [
           6975.8299999999945,
           32,
           42
          ],
          [
           6747.02,
           34,
           43
          ],
          [
           5394.800000000003,
           32,
           44
          ],
          [
           5985.190000000006,
           32,
           45
          ],
          [
           4462.630000000008,
           46,
           46
          ],
          [
           6821.679999999993,
           56,
           47
          ],
          [
           5322.909999999982,
           38,
           48
          ],
          [
           5460.229999999992,
           35,
           49
          ],
          [
           3666.1399999999885,
           46,
           50
          ],
          [
           5727.970000000001,
           32,
           51
          ],
          [
           6832.98,
           46,
           52
          ],
          [
           6586.949999999993,
           30,
           53
          ],
          [
           6269.65000000002,
           52,
           54
          ],
          [
           5331.4400000000205,
           32,
           55
          ],
          [
           5100.229999999985,
           45,
           56
          ],
          [
           5737.189999999995,
           28,
           57
          ],
          [
           5575.6700000000055,
           30,
           58
          ],
          [
           6414.060000000001,
           44,
           59
          ],
          [
           6070.849999999973,
           44,
           60
          ],
          [
           6860.379999999994,
           34,
           61
          ],
          [
           5077.429999999982,
           44,
           62
          ],
          [
           5492.680000000011,
           38,
           63
          ],
          [
           3109.9000000000015,
           44,
           64
          ],
          [
           6495.280000000006,
           38,
           65
          ],
          [
           6347.660000000007,
           34,
           66
          ],
          [
           5586.799999999996,
           26,
           67
          ],
          [
           8832.440000000013,
           46,
           68
          ],
          [
           6995.040000000008,
           48,
           69
          ],
          [
           7591.769999999993,
           40,
           70
          ],
          [
           6323.9200000000055,
           28,
           71
          ],
          [
           6969.069999999992,
           48,
           72
          ],
          [
           5360.880000000008,
           30,
           73
          ],
          [
           6626.020000000015,
           32,
           74
          ],
          [
           6739.940000000002,
           48,
           75
          ],
          [
           5688.5899999999965,
           30,
           76
          ],
          [
           5475.1100000000115,
           40,
           77
          ],
          [
           5698.710000000014,
           32,
           78
          ],
          [
           5740.900000000009,
           38,
           79
          ],
          [
           5365.610000000015,
           26,
           80
          ],
          [
           6244.970000000027,
           32,
           81
          ],
          [
           6895.420000000016,
           30,
           82
          ],
          [
           6401.100000000002,
           30,
           83
          ],
          [
           7723.7400000000125,
           38,
           84
          ],
          [
           4555.580000000005,
           28,
           85
          ],
          [
           7060.979999999996,
           30,
           86
          ],
          [
           5419.129999999994,
           48,
           87
          ],
          [
           6892.09,
           42,
           88
          ],
          [
           5950.420000000009,
           26,
           89
          ],
          [
           6307.280000000006,
           38,
           90
          ],
          [
           6565.700000000023,
           24,
           91
          ],
          [
           5475.970000000023,
           36,
           92
          ],
          [
           3698.8500000000276,
           48,
           93
          ],
          [
           6702.299999999981,
           40,
           94
          ],
          [
           6070.8299999999945,
           34,
           95
          ],
          [
           5102.660000000011,
           40,
           96
          ],
          [
           6530.330000000013,
           26,
           97
          ],
          [
           6494.049999999992,
           34,
           98
          ],
          [
           6669.1000000000095,
           36,
           99
          ],
          [
           5423.940000000002,
           24,
           100
          ],
          [
           7265.150000000005,
           46,
           101
          ],
          [
           8271.510000000002,
           40,
           102
          ],
          [
           5998.309999999994,
           42,
           103
          ],
          [
           5929.370000000024,
           32,
           104
          ],
          [
           7584.819999999989,
           32,
           105
          ],
          [
           6092.340000000004,
           28,
           106
          ],
          [
           6296.160000000018,
           26,
           107
          ],
          [
           6319.6600000000035,
           48,
           108
          ],
          [
           6426.890000000014,
           28,
           109
          ],
          [
           6950.179999999993,
           60,
           110
          ],
          [
           6839.2400000000125,
           34,
           111
          ],
          [
           5198.9000000000015,
           30,
           112
          ],
          [
           4225.829999999991,
           30,
           113
          ],
          [
           3418.3300000000127,
           46,
           114
          ],
          [
           6290.109999999997,
           38,
           115
          ],
          [
           5123.04000000003,
           36,
           116
          ],
          [
           6204.039999999997,
           36,
           117
          ],
          [
           5758.840000000022,
           48,
           118
          ],
          [
           5392.390000000003,
           40,
           119
          ],
          [
           5659.170000000009,
           47,
           120
          ],
          [
           6617.050000000003,
           44,
           121
          ],
          [
           5880.6500000000015,
           44,
           122
          ],
          [
           6648.069999999996,
           38,
           123
          ],
          [
           5825.320000000018,
           42,
           124
          ],
          [
           5871.670000000002,
           48,
           125
          ],
          [
           6345.010000000006,
           24,
           126
          ],
          [
           4944.680000000004,
           30,
           127
          ],
          [
           5189.3100000000195,
           40,
           128
          ],
          [
           6518.699999999997,
           34,
           129
          ],
          [
           6679.390000000014,
           38,
           130
          ],
          [
           6541.570000000003,
           25,
           131
          ],
          [
           5380.239999999991,
           40,
           132
          ],
          [
           5307.300000000036,
           52,
           133
          ],
          [
           6937.260000000009,
           24,
           134
          ],
          [
           6613.369999999992,
           55,
           135
          ],
          [
           6197.829999999998,
           45,
           136
          ],
          [
           6033.119999999999,
           32,
           137
          ],
          [
           5685.189999999999,
           47,
           138
          ],
          [
           5518.910000000007,
           26,
           139
          ],
          [
           6012.280000000013,
           20,
           140
          ],
          [
           6586.840000000007,
           40,
           141
          ],
          [
           7148.870000000003,
           32,
           142
          ],
          [
           6927.960000000003,
           38,
           143
          ],
          [
           5796.730000000003,
           32,
           144
          ],
          [
           6906.9399999999805,
           32,
           145
          ],
          [
           5942.7300000000105,
           32,
           146
          ],
          [
           4985.869999999999,
           36,
           147
          ],
          [
           5341.250000000007,
           28,
           148
          ],
          [
           5973.2900000000045,
           28,
           149
          ],
          [
           5548.760000000009,
           40,
           150
          ],
          [
           2646.5299999999916,
           42,
           151
          ],
          [
           6180.980000000007,
           34,
           152
          ],
          [
           5922.270000000015,
           32,
           153
          ],
          [
           6713.610000000026,
           50,
           154
          ],
          [
           5312.720000000005,
           42,
           155
          ],
          [
           6342.920000000002,
           52,
           156
          ],
          [
           7060.87000000001,
           44,
           157
          ],
          [
           6183.280000000006,
           24,
           158
          ],
          [
           6414.390000000007,
           28,
           159
          ],
          [
           6519.750000000022,
           24,
           160
          ],
          [
           5161.299999999999,
           34,
           161
          ],
          [
           5802.770000000015,
           36,
           162
          ],
          [
           6216.430000000011,
           32,
           163
          ],
          [
           5822.0400000000045,
           44,
           164
          ],
          [
           5570.339999999993,
           32,
           165
          ],
          [
           6317.729999999992,
           38,
           166
          ],
          [
           5895.380000000012,
           26,
           167
          ],
          [
           6861.60999999999,
           50,
           168
          ],
          [
           6048.579999999984,
           34,
           169
          ],
          [
           6901.040000000001,
           34,
           170
          ],
          [
           6736.830000000005,
           44,
           171
          ],
          [
           7072.23,
           42,
           172
          ],
          [
           6314.639999999999,
           38,
           173
          ],
          [
           6102.130000000016,
           50,
           174
          ],
          [
           5750.729999999985,
           44,
           175
          ],
          [
           6356.929999999997,
           34,
           176
          ],
          [
           6372.190000000013,
           30,
           177
          ],
          [
           5259.030000000024,
           38,
           178
          ],
          [
           5902.550000000003,
           32,
           179
          ],
          [
           7406.869999999992,
           32,
           180
          ],
          [
           6166.9100000000035,
           26,
           181
          ],
          [
           5301.940000000006,
           34,
           182
          ],
          [
           5624.180000000026,
           54,
           183
          ],
          [
           4301.470000000008,
           52,
           184
          ],
          [
           6721.760000000006,
           46,
           185
          ],
          [
           4911.269999999986,
           46,
           186
          ],
          [
           6580.050000000007,
           34,
           187
          ],
          [
           6487.590000000011,
           38,
           188
          ],
          [
           6012.630000000019,
           40,
           189
          ],
          [
           6658.440000000006,
           46,
           190
          ],
          [
           7805.380000000019,
           40,
           191
          ],
          [
           5767.989999999991,
           40,
           192
          ],
          [
           6406.930000000008,
           30,
           193
          ],
          [
           5468.780000000006,
           48,
           194
          ],
          [
           5885.130000000019,
           50,
           195
          ],
          [
           6309.279999999995,
           40,
           196
          ],
          [
           7503.259999999998,
           38,
           197
          ],
          [
           7021.269999999986,
           46,
           198
          ],
          [
           6136.119999999995,
           46,
           199
          ],
          [
           5971.709999999992,
           32,
           200
          ],
          [
           6976.310000000005,
           24,
           201
          ],
          [
           6248.489999999991,
           36,
           202
          ],
          [
           5418.53999999999,
           26,
           203
          ],
          [
           5397.449999999997,
           48,
           204
          ],
          [
           5804.460000000017,
           32,
           205
          ],
          [
           7433.9200000000055,
           30,
           206
          ],
          [
           6227.71000000001,
           44,
           207
          ],
          [
           5478.040000000019,
           38,
           208
          ],
          [
           4531.220000000008,
           28,
           209
          ],
          [
           4975.02,
           54,
           210
          ],
          [
           5092.140000000014,
           38,
           211
          ],
          [
           6483.01000000002,
           50,
           212
          ],
          [
           7089.879999999997,
           44,
           213
          ],
          [
           4459.770000000008,
           23,
           214
          ],
          [
           6351.080000000031,
           26,
           215
          ],
          [
           7492.280000000024,
           34,
           216
          ],
          [
           7187.320000000003,
           40,
           217
          ],
          [
           7202.910000000007,
           32,
           218
          ],
          [
           4415.549999999999,
           54,
           219
          ],
          [
           6737.020000000004,
           38,
           220
          ],
          [
           6630.550000000003,
           32,
           221
          ],
          [
           6692.610000000033,
           52,
           222
          ],
          [
           5406.530000000028,
           36,
           223
          ],
          [
           6991.840000000004,
           40,
           224
          ],
          [
           6272.91,
           46,
           225
          ],
          [
           5308.950000000015,
           42,
           226
          ],
          [
           6302.349999999991,
           40,
           227
          ],
          [
           5758.3500000000095,
           34,
           228
          ],
          [
           5581.389999999981,
           35,
           229
          ],
          [
           6772.679999999997,
           32,
           230
          ],
          [
           5752.220000000008,
           42,
           231
          ],
          [
           6812.940000000006,
           40,
           232
          ],
          [
           5508.149999999983,
           40,
           233
          ],
          [
           5676.03999999999,
           40,
           234
          ],
          [
           6487.499999999993,
           42,
           235
          ],
          [
           6922.890000000018,
           32,
           236
          ],
          [
           7281.43,
           34,
           237
          ],
          [
           5911.220000000012,
           44,
           238
          ],
          [
           4495.6000000000095,
           32,
           239
          ],
          [
           5499.560000000027,
           36,
           240
          ],
          [
           5939.570000000003,
           33,
           241
          ],
          [
           6762.400000000009,
           24,
           242
          ],
          [
           6206.079999999991,
           40,
           243
          ],
          [
           7179.229999999989,
           34,
           244
          ],
          [
           6652.910000000014,
           40,
           245
          ],
          [
           6897.620000000003,
           38,
           246
          ],
          [
           4221.379999999994,
           42,
           247
          ],
          [
           6191.419999999987,
           46,
           248
          ],
          [
           6063,
           20,
           249
          ],
          [
           6138.000000000015,
           42,
           250
          ],
          [
           6560.569999999996,
           40,
           251
          ],
          [
           5887.849999999991,
           30,
           252
          ],
          [
           6207.520000000008,
           48,
           253
          ],
          [
           3353.4500000000153,
           46,
           254
          ],
          [
           6727.2900000000045,
           50,
           255
          ],
          [
           5806.950000000004,
           30,
           256
          ],
          [
           3382.1900000000205,
           41,
           257
          ],
          [
           5425.279999999977,
           52,
           258
          ],
          [
           6597.020000000008,
           30,
           259
          ],
          [
           6231.230000000014,
           36,
           260
          ],
          [
           6067.8999999999905,
           32,
           261
          ],
          [
           6544.319999999985,
           56,
           262
          ],
          [
           5211.310000000009,
           36,
           263
          ],
          [
           6527.720000000027,
           42,
           264
          ],
          [
           6004.520000000022,
           36,
           265
          ],
          [
           5421.170000000016,
           34,
           266
          ],
          [
           6134.710000000003,
           32,
           267
          ],
          [
           7532.249999999993,
           44,
           268
          ],
          [
           5749.190000000013,
           34,
           269
          ],
          [
           4243.90000000002,
           28,
           270
          ],
          [
           5750.940000000031,
           32,
           271
          ],
          [
           6573.130000000016,
           36,
           272
          ],
          [
           4754.8899999999885,
           36,
           273
          ],
          [
           6831.680000000004,
           48,
           274
          ],
          [
           7324.120000000024,
           46,
           275
          ],
          [
           7020.1900000000205,
           46,
           276
          ],
          [
           6771.100000000002,
           24,
           277
          ],
          [
           7050.570000000003,
           32,
           278
          ],
          [
           6598.630000000016,
           44,
           279
          ],
          [
           6233.520000000004,
           40,
           280
          ],
          [
           7478.090000000011,
           32,
           281
          ],
          [
           5194.7199999999975,
           36,
           282
          ],
          [
           7221.930000000008,
           42,
           283
          ],
          [
           5848.730000000007,
           43,
           284
          ],
          [
           5576.37000000001,
           38,
           285
          ],
          [
           6337.630000000005,
           34,
           286
          ],
          [
           5410.329999999998,
           47,
           287
          ],
          [
           5820.510000000017,
           28,
           288
          ],
          [
           5474.819999999989,
           26,
           289
          ],
          [
           6144.46000000001,
           30,
           290
          ],
          [
           6349.529999999995,
           48,
           291
          ],
          [
           6155.859999999997,
           30,
           292
          ],
          [
           6082.099999999984,
           38,
           293
          ],
          [
           6037.119999999988,
           40,
           294
          ],
          [
           5618.920000000009,
           34,
           295
          ],
          [
           5536.160000000014,
           28,
           296
          ],
          [
           6482.690000000006,
           34,
           297
          ],
          [
           5381.410000000007,
           46,
           298
          ],
          [
           5050.290000000001,
           56,
           299
          ],
          [
           5499.89000000001,
           54,
           300
          ],
          [
           7073.379999999976,
           30,
           301
          ],
          [
           4705.6500000000015,
           28,
           302
          ],
          [
           5036.799999999992,
           32,
           303
          ],
          [
           4963.689999999991,
           40,
           304
          ],
          [
           6306.470000000005,
           42,
           305
          ],
          [
           7233.959999999992,
           46,
           306
          ],
          [
           6909.649999999998,
           42,
           307
          ],
          [
           6648.23,
           36,
           308
          ],
          [
           6011.24000000002,
           32,
           309
          ],
          [
           6374.0400000000045,
           36,
           310
          ],
          [
           6373.070000000029,
           28,
           311
          ],
          [
           5794.9000000000015,
           26,
           312
          ],
          [
           6287.410000000018,
           44,
           313
          ],
          [
           6855.879999999997,
           34,
           314
          ],
          [
           6056.560000000012,
           36,
           315
          ],
          [
           6741.9399999999805,
           26,
           316
          ],
          [
           2956.2500000000036,
           44,
           317
          ],
          [
           5501.929999999993,
           40,
           318
          ],
          [
           4846.10000000002,
           44,
           319
          ],
          [
           5759.450000000008,
           26,
           320
          ],
          [
           5999.840000000004,
           36,
           321
          ],
          [
           5986.499999999989,
           48,
           322
          ],
          [
           6956.330000000002,
           38,
           323
          ],
          [
           6273.170000000002,
           28,
           324
          ],
          [
           5436.75,
           34,
           325
          ],
          [
           5933.980000000029,
           42,
           326
          ],
          [
           7435.399999999998,
           36,
           327
          ],
          [
           7051.640000000003,
           50,
           328
          ],
          [
           5823.769999999993,
           64,
           329
          ],
          [
           6379.560000000009,
           44,
           330
          ],
          [
           6679.21000000001,
           24,
           331
          ],
          [
           5824.30000000001,
           30,
           332
          ],
          [
           5761.730000000007,
           62,
           333
          ],
          [
           6051.560000000009,
           32,
           334
          ],
          [
           4163.170000000016,
           28,
           335
          ],
          [
           4058.609999999997,
           35,
           336
          ],
          [
           6746.8399999999965,
           48,
           337
          ],
          [
           5993.0899999999965,
           36,
           338
          ],
          [
           6580.619999999984,
           46,
           339
          ],
          [
           3947.5499999999993,
           58,
           340
          ],
          [
           5991.560000000001,
           34,
           341
          ],
          [
           6203.919999999998,
           26,
           342
          ],
          [
           7918.670000000009,
           34,
           343
          ],
          [
           6211.880000000016,
           38,
           344
          ],
          [
           6183.8999999999905,
           48,
           345
          ],
          [
           5669.490000000038,
           40,
           346
          ],
          [
           6344.470000000005,
           44,
           347
          ],
          [
           5450.810000000001,
           30,
           348
          ],
          [
           4524.070000000003,
           24,
           349
          ],
          [
           6374.020000000004,
           24,
           350
          ],
          [
           5946.049999999999,
           30,
           351
          ],
          [
           5774.229999999992,
           16,
           352
          ],
          [
           5047.439999999999,
           36,
           353
          ],
          [
           5324.959999999988,
           38,
           354
          ],
          [
           7407.380000000012,
           34,
           355
          ],
          [
           7132.4000000000015,
           38,
           356
          ],
          [
           6413.489999999994,
           30,
           357
          ],
          [
           5605.819999999992,
           42,
           358
          ],
          [
           4424.0799999999945,
           20,
           359
          ],
          [
           5631.56000000003,
           40,
           360
          ],
          [
           6957.660000000007,
           28,
           361
          ],
          [
           6073.639999999999,
           48,
           362
          ],
          [
           5209.900000000012,
           40,
           363
          ],
          [
           5805.939999999995,
           32,
           364
          ],
          [
           4454.470000000019,
           40,
           365
          ],
          [
           6935.93,
           34,
           366
          ],
          [
           6308.370000000021,
           22,
           367
          ],
          [
           6547.970000000008,
           42,
           368
          ],
          [
           5827.250000000015,
           22,
           369
          ],
          [
           7063.380000000012,
           48,
           370
          ],
          [
           6162.799999999999,
           46,
           371
          ],
          [
           5187.319999999992,
           40,
           372
          ],
          [
           6196.159999999993,
           50,
           373
          ],
          [
           6258.2099999999955,
           44,
           374
          ],
          [
           4340.110000000019,
           40,
           375
          ],
          [
           5290.189999999999,
           48,
           376
          ],
          [
           6424.58000000002,
           46,
           377
          ],
          [
           6783.040000000001,
           40,
           378
          ],
          [
           5362.410000000014,
           38,
           379
          ],
          [
           6539.720000000005,
           26,
           380
          ],
          [
           6542.42000000002,
           44,
           381
          ],
          [
           6194.549999999996,
           30,
           382
          ],
          [
           6291.940000000006,
           32,
           383
          ],
          [
           6748.419999999998,
           34,
           384
          ],
          [
           6885.590000000007,
           45,
           385
          ],
          [
           4590.330000000005,
           38,
           386
          ],
          [
           5500.620000000028,
           24,
           387
          ],
          [
           5611.900000000005,
           26,
           388
          ],
          [
           6539.8299999999945,
           40,
           389
          ],
          [
           5697.380000000008,
           34,
           390
          ],
          [
           7184.430000000004,
           34,
           391
          ],
          [
           6423.080000000005,
           26,
           392
          ],
          [
           5725.010000000009,
           46,
           393
          ],
          [
           3769.0700000000397,
           44,
           394
          ],
          [
           6210.0400000000045,
           42,
           395
          ],
          [
           3604.679999999993,
           38,
           396
          ],
          [
           6509.86999999997,
           46,
           397
          ],
          [
           6460.800000000025,
           28,
           398
          ],
          [
           6134.960000000021,
           26,
           399
          ],
          [
           6350.719999999994,
           30,
           400
          ],
          [
           4308.669999999998,
           48,
           401
          ],
          [
           6715.470000000008,
           24,
           402
          ],
          [
           6234.300000000021,
           30,
           403
          ],
          [
           6489.42000000002,
           28,
           404
          ],
          [
           5709.060000000001,
           34,
           405
          ],
          [
           4862.220000000005,
           26,
           406
          ],
          [
           6386.510000000013,
           28,
           407
          ],
          [
           7008.62000000001,
           42,
           408
          ],
          [
           6816.639999999996,
           20,
           409
          ],
          [
           6023.060000000009,
           42,
           410
          ],
          [
           3663.4900000000016,
           34,
           411
          ],
          [
           6577.830000000013,
           30,
           412
          ],
          [
           5477.910000000033,
           48,
           413
          ],
          [
           4621.6100000000115,
           30,
           414
          ],
          [
           7464.400000000005,
           42,
           415
          ],
          [
           5232.820000000014,
           38,
           416
          ],
          [
           5995.470000000016,
           36,
           417
          ],
          [
           6586.489999999987,
           32,
           418
          ],
          [
           7142.510000000013,
           32,
           419
          ],
          [
           7025.900000000005,
           30,
           420
          ],
          [
           6202.420000000009,
           32,
           421
          ],
          [
           7056.65000000002,
           48,
           422
          ],
          [
           5741.3999999999905,
           30,
           423
          ],
          [
           6245.549999999999,
           34,
           424
          ],
          [
           5528.9000000000015,
           18,
           425
          ],
          [
           3362.510000000024,
           40,
           426
          ],
          [
           5886.080000000002,
           34,
           427
          ],
          [
           6794.870000000021,
           36,
           428
          ],
          [
           6987.490000000016,
           38,
           429
          ],
          [
           7799.989999999998,
           34,
           430
          ],
          [
           6415.830000000013,
           36,
           431
          ],
          [
           5798.000000000007,
           28,
           432
          ],
          [
           5410.080000000005,
           36,
           433
          ],
          [
           5483.130000000001,
           34,
           434
          ],
          [
           6461.210000000006,
           34,
           435
          ],
          [
           5887.360000000015,
           32,
           436
          ],
          [
           5218.87000000001,
           28,
           437
          ],
          [
           5527.110000000004,
           32,
           438
          ],
          [
           6301.970000000027,
           42,
           439
          ],
          [
           7139.850000000013,
           30,
           440
          ],
          [
           6847.190000000028,
           30,
           441
          ],
          [
           6603.529999999999,
           52,
           442
          ],
          [
           6236.910000000025,
           40,
           443
          ],
          [
           5633.739999999987,
           46,
           444
          ],
          [
           5244.869999999999,
           29,
           445
          ],
          [
           6115.989999999983,
           40,
           446
          ],
          [
           7979.529999999981,
           50,
           447
          ],
          [
           5900.960000000014,
           36,
           448
          ],
          [
           7237.080000000009,
           36,
           449
          ],
          [
           7327.140000000007,
           30,
           450
          ],
          [
           6807.409999999985,
           34,
           451
          ],
          [
           6713.080000000013,
           38,
           452
          ],
          [
           5939.580000000013,
           28,
           453
          ],
          [
           5313.330000000009,
           34,
           454
          ],
          [
           5735.030000000039,
           36,
           455
          ],
          [
           3792.199999999997,
           42,
           456
          ],
          [
           6353.519999999979,
           42,
           457
          ],
          [
           6398.7300000000105,
           28,
           458
          ],
          [
           4032.1100000000115,
           44,
           459
          ],
          [
           5333.019999999993,
           52,
           460
          ],
          [
           6161.350000000017,
           30,
           461
          ],
          [
           6416.970000000001,
           34,
           462
          ],
          [
           6854.660000000007,
           38,
           463
          ],
          [
           6239.860000000015,
           30,
           464
          ],
          [
           6474.079999999998,
           38,
           465
          ],
          [
           6096.91,
           44,
           466
          ],
          [
           6028.559999999994,
           36,
           467
          ],
          [
           7325.630000000023,
           32,
           468
          ],
          [
           6350.200000000008,
           38,
           469
          ],
          [
           6435.060000000009,
           36,
           470
          ],
          [
           6062.910000000022,
           51,
           471
          ],
          [
           5860.009999999991,
           32,
           472
          ],
          [
           5728.709999999999,
           30,
           473
          ],
          [
           6346.35999999999,
           30,
           474
          ],
          [
           7218.6499999999905,
           52,
           475
          ],
          [
           5137.359999999986,
           44,
           476
          ],
          [
           5703.899999999998,
           38,
           477
          ],
          [
           5334.1800000000185,
           36,
           478
          ],
          [
           5546.580000000005,
           26,
           479
          ],
          [
           5493.820000000003,
           18,
           480
          ],
          [
           5860.289999999979,
           34,
           481
          ],
          [
           6306.84,
           36,
           482
          ],
          [
           6429.640000000014,
           24,
           483
          ],
          [
           7030.049999999985,
           36,
           484
          ],
          [
           5385.040000000019,
           32,
           485
          ],
          [
           6047.709999999988,
           30,
           486
          ],
          [
           4460.000000000007,
           36,
           487
          ],
          [
           5657.440000000024,
           40,
           488
          ],
          [
           5969.610000000008,
           36,
           489
          ],
          [
           5328.609999999993,
           44,
           490
          ],
          [
           6538.840000000018,
           28,
           491
          ],
          [
           6513.279999999984,
           30,
           492
          ],
          [
           5930.080000000031,
           30,
           493
          ],
          [
           7652.209999999985,
           38,
           494
          ],
          [
           6508.869999999992,
           28,
           495
          ],
          [
           6084.050000000025,
           48,
           496
          ],
          [
           5951.9699999999975,
           25,
           497
          ],
          [
           6089.590000000026,
           30,
           498
          ],
          [
           7048.769999999979,
           46,
           499
          ],
          [
           6053.420000000002,
           20,
           500
          ],
          [
           6289.9699999999975,
           44,
           501
          ],
          [
           6316.400000000016,
           32,
           502
          ],
          [
           8162.810000000001,
           24,
           503
          ],
          [
           7465.769999999997,
           24,
           504
          ],
          [
           6099.910000000007,
           44,
           505
          ],
          [
           5538.570000000018,
           52,
           506
          ],
          [
           5484.40000000002,
           30,
           507
          ],
          [
           8100.59,
           26,
           508
          ],
          [
           7166.9699999999975,
           42,
           509
          ],
          [
           4949.630000000023,
           28,
           510
          ],
          [
           5022.760000000017,
           38,
           511
          ],
          [
           6470.300000000014,
           42,
           512
          ],
          [
           6866.19000000001,
           34,
           513
          ],
          [
           7054.090000000007,
           34,
           514
          ],
          [
           6844.93,
           38,
           515
          ],
          [
           6480.2800000000025,
           36,
           516
          ],
          [
           5739.91,
           36,
           517
          ],
          [
           5614.310000000016,
           36,
           518
          ],
          [
           6622.100000000002,
           42,
           519
          ],
          [
           5240.190000000002,
           38,
           520
          ],
          [
           5091.4399999999805,
           38,
           521
          ],
          [
           6429.640000000018,
           44,
           522
          ],
          [
           4840.819999999985,
           32,
           523
          ],
          [
           7301.230000000007,
           40,
           524
          ],
          [
           4463.679999999989,
           24,
           525
          ],
          [
           5937.500000000011,
           34,
           526
          ],
          [
           5240.2400000000125,
           28,
           527
          ],
          [
           4530.770000000008,
           27,
           528
          ],
          [
           6297.959999999992,
           54,
           529
          ],
          [
           6602.1000000000095,
           14,
           530
          ],
          [
           6145.979999999996,
           36,
           531
          ],
          [
           7191.909999999989,
           42,
           532
          ],
          [
           5824.270000000011,
           42,
           533
          ],
          [
           7783.080000000016,
           32,
           534
          ],
          [
           6303.490000000009,
           56,
           535
          ],
          [
           6098.790000000008,
           30,
           536
          ],
          [
           6674.550000000007,
           28,
           537
          ],
          [
           6564.259999999995,
           36,
           538
          ],
          [
           4267.579999999984,
           40,
           539
          ],
          [
           4284.28999999999,
           47,
           540
          ],
          [
           6247.390000000007,
           26,
           541
          ],
          [
           6256.820000000003,
           42,
           542
          ],
          [
           4970.6400000000285,
           46,
           543
          ],
          [
           7140.910000000018,
           50,
           544
          ],
          [
           6304.240000000027,
           40,
           545
          ],
          [
           6348.68,
           30,
           546
          ],
          [
           5681.850000000024,
           16,
           547
          ],
          [
           4921.390000000018,
           50,
           548
          ],
          [
           7033.400000000012,
           42,
           549
          ],
          [
           6174.76000000002,
           36,
           550
          ],
          [
           7299.460000000006,
           34,
           551
          ],
          [
           6617.689999999991,
           30,
           552
          ],
          [
           6561.439999999999,
           26,
           553
          ],
          [
           5466.489999999998,
           24,
           554
          ],
          [
           4659.040000000008,
           28,
           555
          ],
          [
           5980.119999999995,
           28,
           556
          ],
          [
           6106.21000000001,
           40,
           557
          ],
          [
           5290.899999999998,
           38,
           558
          ],
          [
           7016.380000000023,
           40,
           559
          ],
          [
           6403.9100000000035,
           60,
           560
          ],
          [
           5699.320000000014,
           38,
           561
          ],
          [
           6805.870000000003,
           46,
           562
          ],
          [
           6027.279999999984,
           40,
           563
          ],
          [
           5730.28000000001,
           42,
           564
          ],
          [
           6151.179999999993,
           30,
           565
          ],
          [
           5891.340000000011,
           44,
           566
          ],
          [
           6762.320000000007,
           44,
           567
          ],
          [
           7356.840000000022,
           40,
           568
          ],
          [
           5785.599999999988,
           48,
           569
          ],
          [
           6059.5199999999895,
           42,
           570
          ],
          [
           4594.469999999983,
           44,
           571
          ],
          [
           6164.6600000000035,
           36,
           572
          ],
          [
           6672.940000000013,
           26,
           573
          ],
          [
           6262.599999999995,
           34,
           574
          ],
          [
           5348.2900000000045,
           22,
           575
          ],
          [
           6775.749999999996,
           33,
           576
          ],
          [
           6578.639999999996,
           42,
           577
          ],
          [
           6158.470000000019,
           36,
           578
          ],
          [
           7567.029999999999,
           44,
           579
          ],
          [
           5340.810000000001,
           38,
           580
          ],
          [
           6510.689999999999,
           30,
           581
          ],
          [
           6878.929999999997,
           34,
           582
          ],
          [
           5905.790000000012,
           30,
           583
          ],
          [
           6123.930000000011,
           38,
           584
          ],
          [
           7360.650000000009,
           30,
           585
          ],
          [
           6598.2900000000045,
           58,
           586
          ],
          [
           7141.2699999999895,
           32,
           587
          ],
          [
           5003.769999999993,
           50,
           588
          ],
          [
           6871.030000000013,
           52,
           589
          ],
          [
           5403.419999999991,
           32,
           590
          ],
          [
           7239.190000000028,
           32,
           591
          ],
          [
           5752.460000000017,
           46,
           592
          ],
          [
           5480.44000000001,
           44,
           593
          ],
          [
           5687.759999999998,
           36,
           594
          ],
          [
           6553.539999999997,
           32,
           595
          ],
          [
           4848.579999999998,
           42,
           596
          ],
          [
           6829.040000000008,
           32,
           597
          ],
          [
           6503.970000000005,
           32,
           598
          ],
          [
           6780.490000000002,
           32,
           599
          ],
          [
           6235.720000000001,
           44,
           600
          ],
          [
           6198.19000000001,
           40,
           601
          ],
          [
           5868.69000000001,
           44,
           602
          ],
          [
           7153.780000000013,
           36,
           603
          ],
          [
           6848.709999999988,
           36,
           604
          ],
          [
           7955.419999999987,
           42,
           605
          ],
          [
           7656.730000000007,
           48,
           606
          ],
          [
           6991.879999999997,
           34,
           607
          ],
          [
           6134.799999999988,
           30,
           608
          ],
          [
           7364.450000000001,
           24,
           609
          ],
          [
           5192.9599999999955,
           28,
           610
          ],
          [
           5724.810000000009,
           44,
           611
          ],
          [
           7362.73,
           40,
           612
          ],
          [
           5999.010000000006,
           32,
           613
          ],
          [
           5761.7099999999955,
           34,
           614
          ],
          [
           6864.779999999999,
           22,
           615
          ],
          [
           6485.880000000012,
           40,
           616
          ],
          [
           5860.2099999999955,
           42,
           617
          ],
          [
           5899.429999999989,
           42,
           618
          ],
          [
           7135.229999999978,
           30,
           619
          ],
          [
           6613.980000000014,
           26,
           620
          ],
          [
           6859.900000000012,
           32,
           621
          ],
          [
           6346.519999999997,
           58,
           622
          ],
          [
           3771.559999999994,
           32,
           623
          ],
          [
           6822.879999999997,
           46,
           624
          ],
          [
           5952.530000000013,
           38,
           625
          ],
          [
           6842.5700000000215,
           38,
           626
          ],
          [
           6655.130000000001,
           37,
           627
          ],
          [
           5848.060000000009,
           34,
           628
          ],
          [
           7141.149999999994,
           30,
           629
          ],
          [
           6128.190000000006,
           28,
           630
          ],
          [
           6808.350000000006,
           38,
           631
          ],
          [
           7584.719999999983,
           42,
           632
          ],
          [
           4800.050000000007,
           40,
           633
          ],
          [
           6286.010000000006,
           42,
           634
          ],
          [
           5994.060000000016,
           44,
           635
          ],
          [
           5741.050000000014,
           42,
           636
          ],
          [
           7132.130000000008,
           30,
           637
          ],
          [
           6284.399999999987,
           38,
           638
          ],
          [
           6267.170000000016,
           24,
           639
          ],
          [
           7679.849999999988,
           52,
           640
          ],
          [
           7293.840000000004,
           32,
           641
          ],
          [
           6483.420000000002,
           36,
           642
          ],
          [
           6915.519999999982,
           38,
           643
          ],
          [
           7060.460000000014,
           34,
           644
          ],
          [
           6014.339999999993,
           36,
           645
          ],
          [
           5698.859999999993,
           40,
           646
          ],
          [
           6041.259999999991,
           30,
           647
          ],
          [
           4793.09,
           44,
           648
          ],
          [
           6247.569999999996,
           40,
           649
          ],
          [
           3356.6900000000023,
           28,
           650
          ],
          [
           5141.799999999985,
           38,
           651
          ],
          [
           6562.060000000023,
           50,
           652
          ],
          [
           5935.469999999976,
           36,
           653
          ],
          [
           5084.3600000000115,
           44,
           654
          ],
          [
           6541.64000000001,
           38,
           655
          ],
          [
           6507.069999999989,
           44,
           656
          ],
          [
           5881.660000000018,
           34,
           657
          ],
          [
           5951.32,
           38,
           658
          ],
          [
           6090.329999999987,
           36,
           659
          ],
          [
           6130.34,
           20,
           660
          ],
          [
           6801.510000000002,
           34,
           661
          ],
          [
           6211.240000000005,
           34,
           662
          ],
          [
           5877.3700000000135,
           50,
           663
          ],
          [
           5063.6100000000115,
           36,
           664
          ],
          [
           5454.920000000016,
           40,
           665
          ],
          [
           5770.19000000001,
           52,
           666
          ],
          [
           8232.940000000006,
           24,
           667
          ],
          [
           6440.489999999998,
           40,
           668
          ],
          [
           6551.160000000014,
           38,
           669
          ],
          [
           7160.849999999995,
           38,
           670
          ],
          [
           5597.549999999999,
           38,
           671
          ],
          [
           8229.340000000011,
           42,
           672
          ],
          [
           6197.609999999982,
           29,
           673
          ],
          [
           6864.150000000005,
           38,
           674
          ],
          [
           4350.340000000018,
           48,
           675
          ],
          [
           5678.1300000000265,
           40,
           676
          ],
          [
           5969.2400000000125,
           26,
           677
          ],
          [
           6243.240000000023,
           54,
           678
          ],
          [
           5622.680000000004,
           30,
           679
          ],
          [
           7298.069999999996,
           32,
           680
          ],
          [
           6063.48,
           28,
           681
          ],
          [
           5323.270000000011,
           42,
           682
          ],
          [
           6500.050000000014,
           22,
           683
          ],
          [
           5712.079999999998,
           44,
           684
          ],
          [
           6873.670000000009,
           34,
           685
          ],
          [
           6678.6100000000115,
           42,
           686
          ],
          [
           6567.31000000003,
           24,
           687
          ],
          [
           7427.180000000033,
           46,
           688
          ],
          [
           6996.400000000016,
           36,
           689
          ],
          [
           5621.670000000024,
           22,
           690
          ],
          [
           6577.420000000002,
           32,
           691
          ],
          [
           5990.249999999996,
           42,
           692
          ],
          [
           5882.900000000016,
           34,
           693
          ],
          [
           6667.840000000018,
           44,
           694
          ],
          [
           6918.759999999995,
           42,
           695
          ],
          [
           5765.210000000014,
           26,
           696
          ],
          [
           6519.409999999996,
           50,
           697
          ],
          [
           7343.890000000003,
           34,
           698
          ],
          [
           5063.380000000012,
           48,
           699
          ],
          [
           5815.880000000008,
           42,
           700
          ],
          [
           6798.270000000008,
           42,
           701
          ],
          [
           6217.460000000014,
           40,
           702
          ],
          [
           6757.910000000022,
           48,
           703
          ],
          [
           6740.500000000007,
           28,
           704
          ],
          [
           6798.530000000006,
           38,
           705
          ],
          [
           5702.880000000001,
           32,
           706
          ],
          [
           5726.210000000003,
           28,
           707
          ],
          [
           5383.869999999995,
           36,
           708
          ],
          [
           5857.950000000023,
           30,
           709
          ],
          [
           6218.020000000026,
           40,
           710
          ],
          [
           6365.7300000000105,
           24,
           711
          ],
          [
           6831.669999999987,
           28,
           712
          ],
          [
           6720.629999999997,
           40,
           713
          ],
          [
           6005.1000000000095,
           34,
           714
          ],
          [
           6320.350000000006,
           50,
           715
          ],
          [
           5133.990000000023,
           46,
           716
          ],
          [
           7141.160000000014,
           32,
           717
          ],
          [
           4980.71000000001,
           38,
           718
          ],
          [
           5068.269999999986,
           38,
           719
          ],
          [
           5404.620000000006,
           34,
           720
          ],
          [
           3780.5300000000207,
           20,
           721
          ],
          [
           4180.240000000009,
           40,
           722
          ],
          [
           5976.6700000000055,
           28,
           723
          ],
          [
           5817.230000000018,
           46,
           724
          ],
          [
           5254.529999999999,
           42,
           725
          ],
          [
           7946.449999999993,
           36,
           726
          ],
          [
           5922.980000000021,
           38,
           727
          ],
          [
           6225.950000000008,
           38,
           728
          ],
          [
           5557.840000000007,
           50,
           729
          ],
          [
           6423.500000000007,
           48,
           730
          ],
          [
           7275.3500000000095,
           48,
           731
          ],
          [
           5492.069999999996,
           32,
           732
          ],
          [
           4412.170000000013,
           50,
           733
          ],
          [
           6253.690000000035,
           24,
           734
          ],
          [
           5831.30000000001,
           36,
           735
          ],
          [
           6742.939999999988,
           44,
           736
          ],
          [
           5129.579999999998,
           46,
           737
          ],
          [
           5859.200000000019,
           32,
           738
          ],
          [
           7837.680000000004,
           32,
           739
          ],
          [
           5344.62999999999,
           32,
           740
          ],
          [
           5656.189999999988,
           36,
           741
          ],
          [
           5205.049999999999,
           24,
           742
          ],
          [
           7697.880000000005,
           38,
           743
          ],
          [
           6290.560000000005,
           36,
           744
          ],
          [
           5051.670000000013,
           34,
           745
          ],
          [
           5643.450000000012,
           30,
           746
          ],
          [
           6732.310000000016,
           36,
           747
          ],
          [
           5041.349999999973,
           50,
           748
          ],
          [
           5667.889999999996,
           46,
           749
          ],
          [
           6456.140000000003,
           24,
           750
          ],
          [
           6940.859999999986,
           30,
           751
          ],
          [
           5128.189999999999,
           36,
           752
          ],
          [
           6267.039999999997,
           40,
           753
          ],
          [
           7180.8299999999945,
           56,
           754
          ],
          [
           6593.789999999994,
           42,
           755
          ],
          [
           6171.470000000008,
           28,
           756
          ],
          [
           5564.049999999996,
           46,
           757
          ],
          [
           4468.6000000000095,
           46,
           758
          ],
          [
           5911.500000000007,
           48,
           759
          ],
          [
           6568.760000000002,
           26,
           760
          ],
          [
           5877.540000000008,
           26,
           761
          ],
          [
           6615.169999999987,
           42,
           762
          ],
          [
           6298.740000000002,
           34,
           763
          ],
          [
           6829.0999999999985,
           42,
           764
          ],
          [
           5605.090000000007,
           34,
           765
          ],
          [
           4156.44000000001,
           42,
           766
          ],
          [
           6588.770000000022,
           36,
           767
          ],
          [
           7552.270000000004,
           44,
           768
          ],
          [
           5727.610000000004,
           35,
           769
          ],
          [
           5388.3399999999965,
           26,
           770
          ],
          [
           5833.7699999999895,
           40,
           771
          ],
          [
           4339.949999999993,
           54,
           772
          ],
          [
           6604.390000000007,
           30,
           773
          ],
          [
           6692.810000000012,
           24,
           774
          ],
          [
           7366.770000000004,
           40,
           775
          ],
          [
           7091.140000000021,
           32,
           776
          ],
          [
           6768.14000000001,
           48,
           777
          ],
          [
           5511.300000000043,
           48,
           778
          ],
          [
           3066.2899999999972,
           39,
           779
          ],
          [
           5763.950000000015,
           28,
           780
          ],
          [
           6019.120000000024,
           40,
           781
          ],
          [
           6857.380000000001,
           30,
           782
          ],
          [
           5893.28000000001,
           40,
           783
          ],
          [
           5241.730000000007,
           40,
           784
          ],
          [
           7454.040000000001,
           48,
           785
          ],
          [
           6890.9699999999975,
           32,
           786
          ],
          [
           6037.8700000000135,
           27,
           787
          ],
          [
           5675.050000000014,
           36,
           788
          ],
          [
           6540.550000000003,
           20,
           789
          ],
          [
           6548.980000000007,
           38,
           790
          ],
          [
           6090.970000000012,
           30,
           791
          ],
          [
           6197.260000000013,
           38,
           792
          ],
          [
           6745.440000000006,
           34,
           793
          ],
          [
           6087.8500000000095,
           38,
           794
          ],
          [
           5331.4300000000185,
           30,
           795
          ],
          [
           6697.810000000001,
           46,
           796
          ],
          [
           4746.000000000018,
           54,
           797
          ],
          [
           6295.849999999988,
           38,
           798
          ],
          [
           5859.470000000027,
           44,
           799
          ],
          [
           5186.419999999995,
           42,
           800
          ],
          [
           6408.7500000000255,
           42,
           801
          ],
          [
           6545.70000000003,
           30,
           802
          ],
          [
           2506.9600000000064,
           26,
           803
          ],
          [
           6238.509999999995,
           32,
           804
          ],
          [
           6235.090000000007,
           44,
           805
          ],
          [
           6878.60000000002,
           36,
           806
          ],
          [
           6705.030000000013,
           42,
           807
          ],
          [
           5675.919999999998,
           46,
           808
          ],
          [
           7608.020000000004,
           38,
           809
          ],
          [
           4798.419999999991,
           44,
           810
          ],
          [
           5546.729999999996,
           40,
           811
          ],
          [
           5834.830000000009,
           42,
           812
          ],
          [
           6662.1500000000015,
           28,
           813
          ],
          [
           5583.41999999998,
           42,
           814
          ],
          [
           4877.670000000035,
           44,
           815
          ],
          [
           5467.529999999988,
           32,
           816
          ],
          [
           6364.530000000017,
           24,
           817
          ],
          [
           5763.300000000007,
           34,
           818
          ],
          [
           6485.560000000009,
           38,
           819
          ],
          [
           4924.680000000026,
           50,
           820
          ],
          [
           5581.42000000002,
           32,
           821
          ],
          [
           5542,
           34,
           822
          ],
          [
           6517.170000000002,
           52,
           823
          ],
          [
           5989.500000000004,
           42,
           824
          ],
          [
           6166.230000000003,
           16,
           825
          ],
          [
           5507.730000000007,
           22,
           826
          ],
          [
           5181.380000000008,
           62,
           827
          ],
          [
           5527.250000000018,
           36,
           828
          ],
          [
           6702.359999999993,
           28,
           829
          ],
          [
           6713.330000000002,
           40,
           830
          ],
          [
           5683.029999999988,
           24,
           831
          ],
          [
           6132.780000000028,
           24,
           832
          ],
          [
           6354.820000000014,
           28,
           833
          ],
          [
           6144.439999999995,
           26,
           834
          ],
          [
           6076.359999999979,
           46,
           835
          ],
          [
           6807.709999999985,
           34,
           836
          ],
          [
           5684.270000000015,
           28,
           837
          ],
          [
           5381.269999999986,
           36,
           838
          ],
          [
           5617.9000000000015,
           22,
           839
          ],
          [
           5275.4000000000015,
           42,
           840
          ],
          [
           6155.950000000012,
           66,
           841
          ],
          [
           6247.40000000002,
           30,
           842
          ],
          [
           7001.9100000000035,
           28,
           843
          ],
          [
           6771.230000000014,
           28,
           844
          ],
          [
           4335.200000000001,
           38,
           845
          ],
          [
           4869.579999999991,
           28,
           846
          ],
          [
           5861.730000000007,
           42,
           847
          ],
          [
           5514.380000000005,
           40,
           848
          ],
          [
           5633.140000000014,
           38,
           849
          ],
          [
           6767.060000000005,
           46,
           850
          ],
          [
           6323.380000000019,
           36,
           851
          ],
          [
           6053.000000000011,
           34,
           852
          ],
          [
           6941.239999999991,
           40,
           853
          ],
          [
           6813.470000000019,
           54,
           854
          ],
          [
           6314.579999999987,
           44,
           855
          ],
          [
           6991.410000000022,
           28,
           856
          ],
          [
           6229.710000000014,
           32,
           857
          ],
          [
           6008.250000000007,
           32,
           858
          ],
          [
           6581.520000000019,
           46,
           859
          ],
          [
           6590.33000000002,
           28,
           860
          ],
          [
           6419.699999999993,
           38,
           861
          ],
          [
           5638.100000000017,
           46,
           862
          ],
          [
           7702.109999999997,
           32,
           863
          ],
          [
           5469.789999999983,
           46,
           864
          ],
          [
           4683.390000000003,
           29,
           865
          ],
          [
           7322.589999999986,
           36,
           866
          ],
          [
           5763.720000000012,
           46,
           867
          ],
          [
           5652.100000000006,
           34,
           868
          ],
          [
           6449.189999999991,
           40,
           869
          ],
          [
           5420.330000000013,
           32,
           870
          ],
          [
           7774.099999999995,
           30,
           871
          ],
          [
           4442.790000000008,
           36,
           872
          ],
          [
           5848.430000000022,
           32,
           873
          ],
          [
           5950.2400000000125,
           32,
           874
          ],
          [
           6368.190000000024,
           24,
           875
          ],
          [
           6719.09,
           32,
           876
          ],
          [
           6809.010000000006,
           36,
           877
          ],
          [
           4930.70000000003,
           50,
           878
          ],
          [
           5547.720000000005,
           56,
           879
          ],
          [
           6148.150000000005,
           36,
           880
          ],
          [
           4876.070000000003,
           44,
           881
          ],
          [
           5959.880000000016,
           36,
           882
          ],
          [
           5629.2099999999955,
           36,
           883
          ],
          [
           6792.640000000014,
           30,
           884
          ],
          [
           6549.239999999991,
           30,
           885
          ],
          [
           5023.160000000007,
           60,
           886
          ],
          [
           6858.139999999985,
           26,
           887
          ],
          [
           6982.770000000004,
           28,
           888
          ],
          [
           6587.330000000005,
           36,
           889
          ],
          [
           5770.430000000015,
           28,
           890
          ],
          [
           5192.91,
           40,
           891
          ],
          [
           5878.479999999996,
           36,
           892
          ],
          [
           5184.939999999984,
           28,
           893
          ],
          [
           5524.330000000013,
           28,
           894
          ],
          [
           3850.430000000004,
           34,
           895
          ],
          [
           5705.649999999998,
           42,
           896
          ],
          [
           5547.620000000006,
           34,
           897
          ],
          [
           7006.779999999999,
           38,
           898
          ],
          [
           5948.380000000012,
           40,
           899
          ],
          [
           6656.620000000006,
           36,
           900
          ],
          [
           7178.289999999997,
           34,
           901
          ],
          [
           6005.289999999983,
           34,
           902
          ],
          [
           6876.150000000012,
           38,
           903
          ],
          [
           5652.889999999996,
           32,
           904
          ],
          [
           6053.099999999991,
           28,
           905
          ],
          [
           6681.560000000001,
           42,
           906
          ],
          [
           7362.850000000006,
           34,
           907
          ],
          [
           7171.119999999992,
           24,
           908
          ],
          [
           7319.210000000017,
           26,
           909
          ],
          [
           6533.750000000004,
           36,
           910
          ],
          [
           5800.249999999993,
           42,
           911
          ],
          [
           6172.980000000003,
           28,
           912
          ],
          [
           5950.299999999985,
           44,
           913
          ],
          [
           4929.3600000000115,
           34,
           914
          ],
          [
           5483.219999999979,
           48,
           915
          ],
          [
           5680.369999999992,
           48,
           916
          ],
          [
           6152.3500000000095,
           46,
           917
          ],
          [
           5360.839999999986,
           48,
           918
          ],
          [
           5320.379999999994,
           44,
           919
          ],
          [
           5058.970000000019,
           44,
           920
          ],
          [
           6261.27,
           46,
           921
          ],
          [
           5570.970000000008,
           44,
           922
          ],
          [
           6952.750000000015,
           34,
           923
          ],
          [
           5836.460000000025,
           20,
           924
          ],
          [
           5735.8500000000095,
           32,
           925
          ],
          [
           4112.9100000000035,
           56,
           926
          ],
          [
           6379.779999999999,
           38,
           927
          ],
          [
           6791.009999999995,
           30,
           928
          ],
          [
           6939.139999999999,
           32,
           929
          ],
          [
           5103.680000000015,
           38,
           930
          ],
          [
           5905.599999999995,
           46,
           931
          ],
          [
           5095.730000000007,
           38,
           932
          ],
          [
           5673.130000000001,
           31,
           933
          ],
          [
           6113.260000000017,
           30,
           934
          ],
          [
           6933.100000000002,
           34,
           935
          ],
          [
           4210.300000000003,
           42,
           936
          ],
          [
           5398.029999999988,
           42,
           937
          ],
          [
           8127.630000000012,
           28,
           938
          ],
          [
           6127.710000000006,
           50,
           939
          ],
          [
           5635.920000000016,
           36,
           940
          ],
          [
           6028.109999999979,
           38,
           941
          ],
          [
           6304.489999999998,
           42,
           942
          ],
          [
           6814.380000000023,
           44,
           943
          ],
          [
           4472.80999999999,
           38,
           944
          ],
          [
           5853.400000000012,
           42,
           945
          ],
          [
           6556.940000000002,
           36,
           946
          ],
          [
           6527.510000000013,
           32,
           947
          ],
          [
           6519.880000000001,
           42,
           948
          ],
          [
           5068.049999999985,
           38,
           949
          ],
          [
           6754.900000000012,
           30,
           950
          ],
          [
           6583.789999999986,
           32,
           951
          ],
          [
           7814.8500000000095,
           38,
           952
          ],
          [
           6778.510000000024,
           46,
           953
          ],
          [
           6414.6900000000205,
           29,
           954
          ],
          [
           6563.1100000000115,
           28,
           955
          ],
          [
           5664.340000000015,
           30,
           956
          ],
          [
           6843.60999999999,
           38,
           957
          ],
          [
           7146.130000000008,
           50,
           958
          ],
          [
           7349.519999999986,
           34,
           959
          ],
          [
           5747.010000000002,
           34,
           960
          ],
          [
           6112.160000000007,
           20,
           961
          ],
          [
           8213.58000000003,
           58,
           962
          ],
          [
           4933.490000000009,
           37,
           963
          ],
          [
           6161.9800000000105,
           36,
           964
          ],
          [
           5782.940000000002,
           36,
           965
          ],
          [
           5188.91,
           40,
           966
          ],
          [
           6491.430000000011,
           37,
           967
          ],
          [
           6640.070000000025,
           34,
           968
          ],
          [
           6204.420000000002,
           30,
           969
          ],
          [
           5968.910000000014,
           42,
           970
          ],
          [
           6087.160000000022,
           60,
           971
          ],
          [
           5944.490000000016,
           42,
           972
          ],
          [
           6073.2900000000045,
           24,
           973
          ],
          [
           5741.099999999984,
           44,
           974
          ],
          [
           7184.82999999998,
           48,
           975
          ],
          [
           6313.790000000012,
           32,
           976
          ],
          [
           5856.710000000017,
           38,
           977
          ],
          [
           4763.730000000025,
           54,
           978
          ],
          [
           5625.330000000005,
           22,
           979
          ],
          [
           8035.16,
           40,
           980
          ],
          [
           6984.570000000007,
           40,
           981
          ],
          [
           7025.380000000005,
           44,
           982
          ],
          [
           5519.290000000019,
           56,
           983
          ],
          [
           4886,
           42,
           984
          ],
          [
           6926.769999999982,
           44,
           985
          ],
          [
           5395.249999999993,
           38,
           986
          ],
          [
           5048.160000000029,
           52,
           987
          ],
          [
           7024.05000000001,
           18,
           988
          ],
          [
           6896.859999999997,
           34,
           989
          ],
          [
           4656.129999999994,
           32,
           990
          ],
          [
           6583.720000000005,
           44,
           991
          ],
          [
           6947.810000000009,
           32,
           992
          ],
          [
           5978.900000000005,
           38,
           993
          ],
          [
           7270.090000000007,
           28,
           994
          ],
          [
           7224.970000000012,
           46,
           995
          ],
          [
           5608.540000000012,
           38,
           996
          ],
          [
           6469.049999999999,
           35,
           997
          ],
          [
           6099.019999999993,
           42,
           998
          ],
          [
           5327.710000000032,
           48,
           999
          ],
          [
           6443.8799999999865,
           34,
           1000
          ]
         ],
         "fillcolor": "rgba(255,255,255,0)",
         "hoveron": "points",
         "hovertemplate": "model_type=DQN<br>fmt_total_profit_percentage=%{x}<br>total_reward_cash=%{customdata[0]}<br>num_of_trades=%{customdata[1]}<br>sim_id=%{customdata[2]}<extra></extra>",
         "jitter": 0,
         "legendgroup": "DQN",
         "line": {
          "color": "rgba(255,255,255,0)"
         },
         "marker": {
          "color": "#FF7F0E",
          "symbol": "line-ns-open"
         },
         "name": "DQN",
         "offsetgroup": "DQN",
         "showlegend": false,
         "type": "box",
         "x": [
          34.310233402585546,
          37.37291325887,
          43.227341883869805,
          35.07967055909387,
          42.87562393090356,
          32.10341265234611,
          35.838205632801575,
          36.27139388444576,
          30.16966794743128,
          26.0036917498492,
          22.31117978836592,
          38.95663757750425,
          42.54002511856505,
          36.39700784211044,
          42.59000379457505,
          33.122915520869526,
          36.81915349856044,
          32.74496997939069,
          37.029169269598825,
          29.793104138773142,
          31.691294999679087,
          38.594240338132124,
          38.04048913121847,
          35.39289424473115,
          34.62198093739693,
          53.16592954209567,
          41.17834646603002,
          37.3078489721999,
          32.31192209763228,
          37.4491969081145,
          41.560445260702664,
          31.667469701022256,
          41.91539429062408,
          41.04327494626705,
          24.429837811421763,
          35.10827899967799,
          38.25459520353882,
          39.33291190274457,
          43.43097348406906,
          40.88856058353756,
          32.2967643032126,
          41.863025631311125,
          40.57478927283638,
          32.542761863888515,
          35.18671041613739,
          27.209597534548745,
          40.486777415298114,
          31.431845227123635,
          32.68640467895572,
          21.063010846954676,
          33.77175534345804,
          41.76947189056226,
          38.90363659741001,
          37.89891954587048,
          30.537006602813022,
          28.762601580167235,
          34.196252918730764,
          33.656477177044366,
          38.619724424632864,
          35.952410316907326,
          41.41716116331231,
          29.10256695315814,
          33.115622748855685,
          17.826901806008966,
          39.31811586715928,
          38.35578136211364,
          33.54515210734665,
          54.73190583831169,
          42.54023254593346,
          46.32953262888515,
          38.12052868799536,
          42.27062703236988,
          31.280557059657575,
          40.33946733577252,
          40.60442966008602,
          34.15760878197867,
          33.44251772646527,
          33.75753251271123,
          34.53040625546975,
          31.996228567267828,
          36.781550693502666,
          41.28168390870697,
          38.21819464554292,
          47.822331174618895,
          26.58555954161148,
          42.633164157701245,
          31.55567661462979,
          42.11985243649714,
          35.95225203908432,
          37.971578928037,
          39.43709173528751,
          32.49189140130142,
          21.316312598291386,
          39.94709744926492,
          36.27600240612941,
          30.61571865480399,
          39.36200824414371,
          39.815394313200734,
          39.477550251325646,
          31.149351569473403,
          43.855373655336116,
          49.65458084510435,
          35.47426979003403,
          35.64020841546886,
          45.349419985742514,
          36.423365151728724,
          37.821282732750205,
          38.04771498089296,
          38.88679990915882,
          41.93654644447713,
          41.18753962298787,
          31.303057839196,
          24.372212442295638,
          20.610866928685567,
          37.32540978197421,
          29.26795931731818,
          37.056667294479475,
          33.58068728802341,
          31.887563257971017,
          33.65585651806491,
          39.146696648580104,
          34.59593976425492,
          40.992496344858644,
          34.694678188421534,
          34.14073615472759,
          38.18567151490322,
          29.237053962219317,
          30.93461933589794,
          39.1335700845072,
          40.36833925986245,
          40.312488086043196,
          32.57616520094457,
          32.20185649536222,
          42.7108616549794,
          40.09184920429665,
          36.9422109888039,
          36.090133241978606,
          34.36630951488895,
          32.968870045594365,
          35.15990779467846,
          39.99139064785937,
          43.18960772990441,
          42.53042337622504,
          34.596739409188324,
          41.61508945838113,
          35.683414132503174,
          28.873131873917046,
          31.854401561480138,
          35.946816017743764,
          32.69990831307845,
          16.37028688982227,
          37.452486062687385,
          35.142570923369185,
          40.17792629217802,
          31.14675776061393,
          38.77035031984926,
          42.77710620662229,
          36.999721012414334,
          38.63423997937723,
          39.149441122304985,
          29.090295712008185,
          35.04440476200605,
          36.761939472217534,
          34.206841678574015,
          33.512894623448105,
          36.913758229013396,
          35.3897987396232,
          42.20205855321873,
          35.598460451596694,
          41.62584427117404,
          40.602186332009516,
          43.045804921215414,
          37.75272928527163,
          35.67348851076011,
          35.01146012692402,
          37.873211566531765,
          37.81508571064334,
          30.602668430890546,
          35.302367745321476,
          44.773911610125275,
          37.15766560925686,
          31.211684765061023,
          32.56809568473644,
          25.71682118048213,
          40.34418228109651,
          28.714738409706065,
          39.06613416677085,
          39.118892561779276,
          36.24056923992887,
          39.962666627334364,
          47.99354793187251,
          33.88454388629949,
          38.79116629668084,
          32.432626326148295,
          34.220959700726475,
          37.5565572420816,
          45.314224949035896,
          42.106425916323985,
          36.2944850063148,
          35.93787052395765,
          41.712559283896475,
          37.69846555081369,
          32.639853362203674,
          32.26108205746328,
          35.08761713789254,
          44.78354853416568,
          36.3618011660213,
          31.844253195185402,
          27.003862194199147,
          29.10151449248457,
          29.550174383642403,
          38.695796148876724,
          43.36265793587548,
          27.34821456657761,
          37.89846592545909,
          45.27629070745935,
          43.25215384839582,
          42.90609097050111,
          25.10975653797143,
          40.54659886049126,
          40.096232579096494,
          39.832942002826385,
          32.54312694442003,
          41.67196793047159,
          37.9258694649596,
          31.539042132126085,
          38.27417854739594,
          34.457812803517605,
          33.317807546064174,
          40.52650470620114,
          34.132398355974814,
          41.08226815333644,
          33.21988053183382,
          34.1410712048239,
          39.310531853183875,
          41.50990219171615,
          44.531508676661204,
          35.42158194939744,
          26.141453363072298,
          32.684136652280316,
          35.196568947243925,
          40.61241537325051,
          36.34654365786123,
          44.49629402609423,
          40.23885183260487,
          40.92359505850452,
          25.492386433310067,
          37.09534162593353,
          36.34604621540749,
          37.07040020121044,
          39.69279873759896,
          35.51625410993977,
          37.338907474160486,
          17.702673871507702,
          40.455592116945915,
          35.2247218733319,
          21.001590654970226,
          31.659011064269606,
          39.74390945459368,
          36.65596003899947,
          36.36975773544544,
          38.59149225666903,
          30.48309212901956,
          39.29871300165395,
          35.56481723387588,
          31.40597704038297,
          36.52410449197745,
          45.85191828047341,
          34.1012932039394,
          25.820207461077203,
          34.396757860361205,
          38.0794609824038,
          27.538536661383727,
          40.83049877065885,
          44.96266032616643,
          42.13967901352902,
          40.663796787307696,
          42.56088042969775,
          39.484221430991994,
          37.018584158340026,
          45.10705957370305,
          30.746134402622193,
          44.113717766102,
          34.54913079653401,
          32.63003074123969,
          37.251820949797995,
          31.390311186709408,
          34.51620670899202,
          32.62915359599361,
          36.872649629470054,
          38.08605042040662,
          37.01684316345304,
          36.5471504214254,
          36.74829513533056,
          33.71136262968661,
          32.56251963962888,
          38.720013382611015,
          31.650587566905088,
          30.269701809686843,
          32.26422202815087,
          42.73557998968249,
          27.841714976960198,
          29.598601778999402,
          28.5883403726354,
          38.027343834418815,
          42.92624874576214,
          41.32822285641304,
          39.36879223293879,
          35.76491617998943,
          37.81807226586737,
          38.25348188473323,
          34.22637439126983,
          37.33898392134505,
          40.77124475875311,
          35.92260688532036,
          40.60220752746044,
          16.89206151598084,
          32.24847644161879,
          29.239493156169782,
          34.77348170405206,
          36.0632139675124,
          36.596963408884164,
          42.026687093173166,
          37.20890382478921,
          32.05344471010185,
          35.60134067673213,
          45.1911847914704,
          42.22665491975191,
          34.1036968354846,
          38.674105757705405,
          39.92836844482355,
          34.54957734543533,
          34.01806248256767,
          36.45162454762085,
          23.820880854160098,
          24.024453544456126,
          39.353286415509324,
          36.108495495110574,
          39.553042231644994,
          24.675445285363228,
          35.70937360960782,
          37.104987407209464,
          48.15024568323274,
          37.08277887558265,
          36.778496214243006,
          34.08703237860588,
          37.88978959864748,
          32.96610566584614,
          27.41980075650028,
          38.545585411679184,
          35.410282711651256,
          34.75739925921235,
          29.928862683893232,
          30.694254676281286,
          44.678794891375404,
          42.15821554459291,
          38.82632926261971,
          32.641786244721224,
          25.087671983478188,
          33.9478024970536,
          42.176084293109284,
          35.926076887551204,
          30.24213118061563,
          34.42241599387952,
          27.24511534910723,
          42.38259949002905,
          37.84116901945238,
          39.99396206526438,
          34.33562103869021,
          41.75627713946446,
          36.17864042690455,
          29.47704022146138,
          36.98369525438188,
          36.97830941274744,
          25.0438140557649,
          31.801844857035853,
          39.076056364442536,
          40.076451144308045,
          31.37837023343808,
          39.691032638700776,
          39.66539064509007,
          36.86585919733487,
          37.75638355816331,
          40.47705525569536,
          41.48959014554614,
          26.72564092031884,
          32.78246854525126,
          33.698159860559215,
          40.02570499905591,
          34.06273324126325,
          44.158178602590525,
          38.542314252629865,
          34.54645694068177,
          22.32016338842371,
          37.06398269963549,
          21.678372217752774,
          38.78684428077295,
          38.07838026331576,
          37.00464627427416,
          37.871754317002605,
          24.0048220547574,
          40.430870801181484,
          36.994261274972985,
          38.923003990902515,
          34.177759698312784,
          28.981731178686076,
          37.58284621387933,
          42.279021863440526,
          41.224788269086865,
          35.96642773725775,
          21.275609826430152,
          40.092945765486874,
          32.87331251338097,
          27.42121770695669,
          45.411143773293006,
          31.25636471344886,
          35.894693761829274,
          38.92113712904121,
          43.45402018134492,
          42.21356810977595,
          37.25222429582304,
          42.891418665998195,
          34.32629649832533,
          37.295010938950604,
          33.081159781270976,
          19.07389571595539,
          34.84999258571484,
          40.85222659440144,
          42.21654410726552,
          46.64761548698044,
          39.11213651280767,
          34.517436564796576,
          32.67052936777644,
          32.31336467647918,
          38.55607913119161,
          34.61384882345182,
          31.0450551050246,
          33.38414694019241,
          37.53483276702567,
          42.933759873405776,
          40.742194141593146,
          39.5327565603804,
          36.220292089144834,
          33.601109356340245,
          31.514644678451464,
          36.72751994429295,
          48.67676492553406,
          34.90899084211405,
          43.59936362320482,
          43.91219494546055,
          41.12470762002691,
          40.72023511784491,
          35.33438726687825,
          31.43303953831529,
          34.6038236884638,
          23.0863438570456,
          38.008223102268055,
          38.39097776903901,
          22.256391096887263,
          31.379432538229658,
          36.980782091494866,
          38.41059941441605,
          41.15971540611436,
          38.29965921886816,
          39.29341200922059,
          35.13744496192681,
          35.81221729920867,
          44.14641795096694,
          38.33465033099843,
          39.205040831876126,
          36.20805996972203,
          34.059195077452365,
          33.85471837424527,
          38.6716830937875,
          42.53909273687071,
          30.332802192636432,
          33.97221408904325,
          32.008294534530094,
          32.68710065517799,
          32.96134084827011,
          35.468301108270374,
          38.545466067868304,
          38.78988134478223,
          43.18234358969395,
          31.685372055237938,
          34.63519241492712,
          25.683373240295303,
          33.9919032145789,
          35.52112013654107,
          31.335839000566512,
          38.93969248305895,
          38.18269413232463,
          35.60260462535538,
          46.68297744093912,
          38.8020089928859,
          36.46935723292941,
          35.76060506578636,
          36.589832704891734,
          42.183323498153904,
          36.455162163622276,
          38.06427528529734,
          37.941740652063835,
          50.226328465579904,
          44.84280997545569,
          36.06538382760298,
          33.37098032303108,
          32.81509760637435,
          48.70590743796175,
          42.86601503044123,
          29.385246700038216,
          29.857648905188118,
          39.105767092313435,
          41.285577008649234,
          42.43673602543039,
          41.03735307298773,
          39.34169828302796,
          33.922291219669695,
          33.133556022294016,
          40.19896947287685,
          29.449035856416607,
          30.11237234383577,
          38.621516919500884,
          29.158049988280823,
          42.71459497382737,
          26.5267402518933,
          35.861064940043555,
          30.476815469760332,
          26.51215555920232,
          38.24045950666823,
          39.60175534159733,
          36.75741418911465,
          43.70004222996704,
          34.608264683079625,
          46.94188281769702,
          37.118823406955606,
          35.106509043512006,
          39.79498874624075,
          39.54314246768469,
          25.121827655123454,
          23.850209849416636,
          37.26663064137898,
          36.656443952220144,
          29.089666440438844,
          43.320201641404175,
          37.28603453082664,
          38.3754786047519,
          33.92501655698894,
          29.17205706658905,
          41.990527720487236,
          37.30738798288529,
          44.19142045941753,
          39.23298496175636,
          39.31396012718198,
          32.95223728127983,
          25.66401183281297,
          35.5008229794191,
          36.94601082043183,
          31.993893836016916,
          42.20019882929282,
          38.39754340185899,
          33.34243585504464,
          41.785820807050996,
          36.15803071958017,
          33.853704337838344,
          36.288377727360334,
          34.72681918286915,
          40.680148236207756,
          45.95103373489504,
          34.96094052926813,
          37.253402237884444,
          27.557221154667054,
          36.817614641361644,
          40.74087091405123,
          37.60689354365054,
          30.96630986889659,
          40.39678812185572,
          39.23645342487718,
          37.00077559364172,
          45.89395051804508,
          31.886241199585253,
          39.648118936647194,
          41.291702104857194,
          34.89338445591883,
          35.74846606573907,
          44.230614347647986,
          39.62031966336217,
          43.17640161309377,
          29.974688534181748,
          42.01774342843112,
          32.536677057904015,
          43.53409685671528,
          34.27815992986274,
          32.38058908167001,
          33.84116883291672,
          39.51602975802149,
          28.619844034148436,
          41.289458835114104,
          38.59345544811181,
          40.29823496020602,
          37.515421044966125,
          37.33936960279689,
          34.51184168033568,
          42.357573299569815,
          40.681241990366956,
          47.8394585615495,
          46.756232575186864,
          42.91425416314223,
          37.035243480274275,
          45.303112262823866,
          30.150293453216115,
          34.16207818758936,
          44.749976548493905,
          36.1074297552197,
          32.712883808469726,
          41.638790611919994,
          39.54626803140855,
          34.85593843637604,
          35.56886732765818,
          43.20564869304244,
          39.69688666290363,
          41.33480023474378,
          37.66715578399673,
          22.6523034053675,
          41.05275676475652,
          35.715448381799185,
          41.612204323839606,
          39.64904245831566,
          34.82233584808307,
          44.71028887907982,
          36.4549585127717,
          41.26732679687366,
          46.427592345638466,
          27.584258066464116,
          37.02819230092669,
          35.6155747834914,
          34.18524909726759,
          42.55719617326976,
          38.58537910315323,
          38.222345129921955,
          45.63452485189574,
          43.15826387696789,
          39.14548612890365,
          42.73289364098159,
          42.34467555434047,
          35.77026835479171,
          33.47177465238285,
          35.81739648033477,
          28.618925188391174,
          37.74916306087659,
          20.99888204943319,
          30.521836119637612,
          39.66846048074613,
          34.28467411863998,
          29.87798324214561,
          38.89153406073367,
          37.824309637911234,
          34.93042172124967,
          35.981550512122084,
          36.94480518297054,
          36.666230655577834,
          41.12418108311464,
          38.16700504365627,
          35.242271783799836,
          29.73348818435515,
          32.73246686945814,
          34.83820103211552,
          50.354398490096976,
          37.46701292164425,
          38.8416600976075,
          43.223641889854726,
          32.920438455621735,
          50.92666633259502,
          36.91522601437312,
          40.628164815361,
          24.9841938343357,
          32.84665001979978,
          35.76136383463078,
          37.055281339109555,
          33.723029661985905,
          44.13165270097805,
          35.59319788519102,
          30.84571160335241,
          39.11143115044635,
          34.490309665059904,
          40.54336061064752,
          40.159218665415544,
          38.874963554195155,
          44.48329308372336,
          41.48384036858212,
          32.572852936501604,
          39.265277431962645,
          34.40206403084407,
          34.92958295957565,
          39.693393074603954,
          42.0991805356548,
          35.003823462709875,
          38.86811541565187,
          45.04493377588121,
          30.756307167660445,
          34.490604871767005,
          40.91140881369546,
          37.69129328320082,
          40.368836302442816,
          40.292930908542644,
          40.9412926913207,
          33.61372229917319,
          34.53794821608356,
          31.195589122720293,
          35.63323886766572,
          37.06096777783403,
          38.82033903525881,
          40.65074058445495,
          40.863613319148364,
          35.32420724654657,
          36.85020091028057,
          30.798531698744647,
          42.56904964847763,
          29.282219766722562,
          29.526924633379604,
          31.597572860774626,
          22.750948748927446,
          24.034272220146914,
          35.00864153930245,
          34.46907923204194,
          31.429517603662482,
          48.45573290486451,
          35.31408576931536,
          37.18751412990078,
          33.68848380373819,
          38.432139217332725,
          44.779844215806406,
          33.01231569572363,
          25.318449873542303,
          37.20952060314373,
          34.791997922659945,
          40.22829085524635,
          30.785544862261215,
          34.77616411209261,
          46.63031347193376,
          31.543862419944467,
          33.672176988266585,
          31.29413381522077,
          46.27014755779897,
          37.42671723644511,
          30.355908651755435,
          33.16582614689112,
          40.74223240301964,
          31.207881419219575,
          33.66912049363684,
          38.54669725638091,
          41.66883791705098,
          30.37806769233773,
          36.76176834782172,
          44.14734185464506,
          39.97236700585998,
          37.233098027679844,
          32.66673921200534,
          26.939744291952717,
          36.4270225881893,
          39.719137853807894,
          34.10069900127657,
          40.42286658181955,
          37.93295132267798,
          41.17459133583754,
          33.719734960767745,
          23.71471512937513,
          38.67816788884897,
          45.433167410232336,
          33.95877922023172,
          32.06777968785968,
          34.72951138669942,
          26.137172973647836,
          39.73587461199515,
          40.601372459601535,
          44.40701372168241,
          42.559593631087054,
          39.826283239369076,
          33.051335989258554,
          18.10341282148673,
          33.99479570160946,
          36.02477352183657,
          41.27152621881764,
          35.80707093969413,
          30.954593723876144,
          45.13732577484502,
          41.30681791628008,
          36.393788406810955,
          33.281568587452085,
          39.02326452003708,
          39.45045221195027,
          36.55527604662774,
          36.91562743521584,
          40.210744038075276,
          35.05239807243259,
          31.52262596664468,
          40.32318276463389,
          28.913721550333893,
          37.72398453520831,
          34.88585849368893,
          29.892224433563253,
          38.734990834473784,
          39.34237315205327,
          14.41894479114103,
          37.326613173999505,
          37.055841838040116,
          40.03176521164187,
          41.37535173260327,
          34.12133927829619,
          45.63251227286409,
          27.95249934889712,
          32.93226429253326,
          34.40904632787436,
          39.47421156873712,
          33.85387950722105,
          28.31450904760926,
          32.46936969143104,
          38.23495564244092,
          34.634561823837394,
          38.09149497096178,
          28.989454241885305,
          33.27286035850621,
          32.93962699274884,
          38.76990281435966,
          36.001529324562064,
          36.99978797735399,
          32.795914316249664,
          30.67088132202638,
          31.291978088120032,
          39.893581127112384,
          39.733083558433876,
          33.28108365384337,
          36.188743550087786,
          38.14418439031941,
          36.43765610192118,
          36.80890021088228,
          40.73499770582012,
          32.708778130483964,
          31.53763518096686,
          33.654378786539205,
          29.985241367892492,
          36.26267054024457,
          37.24717439981673,
          41.849979776046474,
          40.49756639118889,
          24.4594458064999,
          28.8010911886712,
          34.91067862469672,
          32.27379048763099,
          33.01545643940016,
          40.704293163213244,
          37.878309104226936,
          36.15465356975476,
          41.82841898291814,
          41.28430022019969,
          37.26010292252331,
          42.26409329475269,
          37.66287802465796,
          36.34461418243089,
          38.779192333527845,
          39.66256866957736,
          38.84999206155979,
          33.777042431512136,
          47.2466650280009,
          32.29346006172133,
          28.22857736084723,
          44.2323380265788,
          33.785516039239205,
          33.24291172927283,
          38.90209650647907,
          32.2230551511314,
          46.67546089257073,
          26.84400697168052,
          34.56243912390089,
          35.33533005550118,
          38.22119434285967,
          41.01894500751764,
          40.4931546140844,
          29.681619233199275,
          33.36203163507916,
          36.02001257160523,
          27.60150939680066,
          35.31036421139957,
          32.877409391338055,
          40.99248486151961,
          39.53352228216651,
          29.797341737715556,
          41.061058513907156,
          42.499656614465486,
          39.25548866486357,
          34.67198322847622,
          31.00845411889084,
          34.64395700101941,
          30.226017387983383,
          33.11205881562349,
          23.259748806846403,
          33.68431473612728,
          33.03320624537467,
          42.31929896826199,
          35.502262373965586,
          40.15157515157037,
          43.36046079988909,
          35.453208909977384,
          40.63913391086662,
          34.112174236071205,
          36.22663328900244,
          40.244431369043184,
          44.910618422969506,
          43.267165846843625,
          44.34059522069062,
          38.494726313358726,
          34.72423780198206,
          37.20145013044211,
          35.26135839169358,
          29.07340727734866,
          32.77248815827012,
          33.81482026568909,
          36.881106181770164,
          31.950432907836678,
          30.15348991699758,
          31.08882101673438,
          37.746538523873866,
          33.110311579376074,
          41.877478281620654,
          34.81880308873484,
          34.087197311262884,
          23.653054466600043,
          37.77980550117277,
          40.95539213557853,
          41.656678479293596,
          29.314830656987724,
          35.90250808344795,
          29.029991869864013,
          33.7707041391452,
          36.32580501399818,
          42.14772744852384,
          24.039709034229183,
          30.47919229421201,
          49.26548635463075,
          36.531750619497735,
          32.72208457129668,
          35.77623902307383,
          37.44586325908627,
          41.553495239627416,
          27.207726829746704,
          34.67629393783203,
          39.32650937584094,
          39.1229424399157,
          39.16581745258769,
          30.867622777983627,
          40.61790963918155,
          39.666830541251684,
          47.32609194298752,
          40.5413603175157,
          38.354042320437884,
          39.283433859176675,
          34.11390025369021,
          41.93720505575143,
          43.28343910053718,
          44.05265972929699,
          34.386716563458975,
          36.4657294020003,
          50.286393666105454,
          29.598390350553316,
          36.84769533497925,
          32.49834844723631,
          30.439178868323125,
          37.63443393573851,
          39.826530951781876,
          37.315140193867634,
          35.709045112061474,
          36.42514346198171,
          35.79104886917275,
          36.581337956839086,
          34.29289279733754,
          43.23659993767897,
          37.55473945864458,
          35.023265751110074,
          28.511492033655305,
          33.35857380085614,
          50.195835972643586,
          42.11260980818561,
          42.502137690075095,
          33.264795423454196,
          30.2808934521414,
          42.00975220915444,
          31.456010894058718,
          29.440493035808867,
          42.95701611351554,
          41.61741145445068,
          27.40782368603081,
          40.11526021938898,
          41.30059479285584,
          35.581884868058935,
          43.968322832904775,
          44.59847210269323,
          33.48492474367166,
          38.78275292218068,
          35.756550056606315,
          31.88024731786223,
          38.194453431101195
         ],
         "xaxis": "x2",
         "yaxis": "y2"
        }
       ],
       "layout": {
        "barmode": "relative",
        "height": 600,
        "legend": {
         "title": {
          "text": "model_type"
         },
         "tracegroupgap": 0
        },
        "margin": {
         "t": 60
        },
        "template": {
         "data": {
          "bar": [
           {
            "error_x": {
             "color": "#2a3f5f"
            },
            "error_y": {
             "color": "#2a3f5f"
            },
            "marker": {
             "line": {
              "color": "#E5ECF6",
              "width": 0.5
             },
             "pattern": {
              "fillmode": "overlay",
              "size": 10,
              "solidity": 0.2
             }
            },
            "type": "bar"
           }
          ],
          "barpolar": [
           {
            "marker": {
             "line": {
              "color": "#E5ECF6",
              "width": 0.5
             },
             "pattern": {
              "fillmode": "overlay",
              "size": 10,
              "solidity": 0.2
             }
            },
            "type": "barpolar"
           }
          ],
          "carpet": [
           {
            "aaxis": {
             "endlinecolor": "#2a3f5f",
             "gridcolor": "white",
             "linecolor": "white",
             "minorgridcolor": "white",
             "startlinecolor": "#2a3f5f"
            },
            "baxis": {
             "endlinecolor": "#2a3f5f",
             "gridcolor": "white",
             "linecolor": "white",
             "minorgridcolor": "white",
             "startlinecolor": "#2a3f5f"
            },
            "type": "carpet"
           }
          ],
          "choropleth": [
           {
            "colorbar": {
             "outlinewidth": 0,
             "ticks": ""
            },
            "type": "choropleth"
           }
          ],
          "contour": [
           {
            "colorbar": {
             "outlinewidth": 0,
             "ticks": ""
            },
            "colorscale": [
             [
              0,
              "#0d0887"
             ],
             [
              0.1111111111111111,
              "#46039f"
             ],
             [
              0.2222222222222222,
              "#7201a8"
             ],
             [
              0.3333333333333333,
              "#9c179e"
             ],
             [
              0.4444444444444444,
              "#bd3786"
             ],
             [
              0.5555555555555556,
              "#d8576b"
             ],
             [
              0.6666666666666666,
              "#ed7953"
             ],
             [
              0.7777777777777778,
              "#fb9f3a"
             ],
             [
              0.8888888888888888,
              "#fdca26"
             ],
             [
              1,
              "#f0f921"
             ]
            ],
            "type": "contour"
           }
          ],
          "contourcarpet": [
           {
            "colorbar": {
             "outlinewidth": 0,
             "ticks": ""
            },
            "type": "contourcarpet"
           }
          ],
          "heatmap": [
           {
            "colorbar": {
             "outlinewidth": 0,
             "ticks": ""
            },
            "colorscale": [
             [
              0,
              "#0d0887"
             ],
             [
              0.1111111111111111,
              "#46039f"
             ],
             [
              0.2222222222222222,
              "#7201a8"
             ],
             [
              0.3333333333333333,
              "#9c179e"
             ],
             [
              0.4444444444444444,
              "#bd3786"
             ],
             [
              0.5555555555555556,
              "#d8576b"
             ],
             [
              0.6666666666666666,
              "#ed7953"
             ],
             [
              0.7777777777777778,
              "#fb9f3a"
             ],
             [
              0.8888888888888888,
              "#fdca26"
             ],
             [
              1,
              "#f0f921"
             ]
            ],
            "type": "heatmap"
           }
          ],
          "heatmapgl": [
           {
            "colorbar": {
             "outlinewidth": 0,
             "ticks": ""
            },
            "colorscale": [
             [
              0,
              "#0d0887"
             ],
             [
              0.1111111111111111,
              "#46039f"
             ],
             [
              0.2222222222222222,
              "#7201a8"
             ],
             [
              0.3333333333333333,
              "#9c179e"
             ],
             [
              0.4444444444444444,
              "#bd3786"
             ],
             [
              0.5555555555555556,
              "#d8576b"
             ],
             [
              0.6666666666666666,
              "#ed7953"
             ],
             [
              0.7777777777777778,
              "#fb9f3a"
             ],
             [
              0.8888888888888888,
              "#fdca26"
             ],
             [
              1,
              "#f0f921"
             ]
            ],
            "type": "heatmapgl"
           }
          ],
          "histogram": [
           {
            "marker": {
             "pattern": {
              "fillmode": "overlay",
              "size": 10,
              "solidity": 0.2
             }
            },
            "type": "histogram"
           }
          ],
          "histogram2d": [
           {
            "colorbar": {
             "outlinewidth": 0,
             "ticks": ""
            },
            "colorscale": [
             [
              0,
              "#0d0887"
             ],
             [
              0.1111111111111111,
              "#46039f"
             ],
             [
              0.2222222222222222,
              "#7201a8"
             ],
             [
              0.3333333333333333,
              "#9c179e"
             ],
             [
              0.4444444444444444,
              "#bd3786"
             ],
             [
              0.5555555555555556,
              "#d8576b"
             ],
             [
              0.6666666666666666,
              "#ed7953"
             ],
             [
              0.7777777777777778,
              "#fb9f3a"
             ],
             [
              0.8888888888888888,
              "#fdca26"
             ],
             [
              1,
              "#f0f921"
             ]
            ],
            "type": "histogram2d"
           }
          ],
          "histogram2dcontour": [
           {
            "colorbar": {
             "outlinewidth": 0,
             "ticks": ""
            },
            "colorscale": [
             [
              0,
              "#0d0887"
             ],
             [
              0.1111111111111111,
              "#46039f"
             ],
             [
              0.2222222222222222,
              "#7201a8"
             ],
             [
              0.3333333333333333,
              "#9c179e"
             ],
             [
              0.4444444444444444,
              "#bd3786"
             ],
             [
              0.5555555555555556,
              "#d8576b"
             ],
             [
              0.6666666666666666,
              "#ed7953"
             ],
             [
              0.7777777777777778,
              "#fb9f3a"
             ],
             [
              0.8888888888888888,
              "#fdca26"
             ],
             [
              1,
              "#f0f921"
             ]
            ],
            "type": "histogram2dcontour"
           }
          ],
          "mesh3d": [
           {
            "colorbar": {
             "outlinewidth": 0,
             "ticks": ""
            },
            "type": "mesh3d"
           }
          ],
          "parcoords": [
           {
            "line": {
             "colorbar": {
              "outlinewidth": 0,
              "ticks": ""
             }
            },
            "type": "parcoords"
           }
          ],
          "pie": [
           {
            "automargin": true,
            "type": "pie"
           }
          ],
          "scatter": [
           {
            "fillpattern": {
             "fillmode": "overlay",
             "size": 10,
             "solidity": 0.2
            },
            "type": "scatter"
           }
          ],
          "scatter3d": [
           {
            "line": {
             "colorbar": {
              "outlinewidth": 0,
              "ticks": ""
             }
            },
            "marker": {
             "colorbar": {
              "outlinewidth": 0,
              "ticks": ""
             }
            },
            "type": "scatter3d"
           }
          ],
          "scattercarpet": [
           {
            "marker": {
             "colorbar": {
              "outlinewidth": 0,
              "ticks": ""
             }
            },
            "type": "scattercarpet"
           }
          ],
          "scattergeo": [
           {
            "marker": {
             "colorbar": {
              "outlinewidth": 0,
              "ticks": ""
             }
            },
            "type": "scattergeo"
           }
          ],
          "scattergl": [
           {
            "marker": {
             "colorbar": {
              "outlinewidth": 0,
              "ticks": ""
             }
            },
            "type": "scattergl"
           }
          ],
          "scattermapbox": [
           {
            "marker": {
             "colorbar": {
              "outlinewidth": 0,
              "ticks": ""
             }
            },
            "type": "scattermapbox"
           }
          ],
          "scatterpolar": [
           {
            "marker": {
             "colorbar": {
              "outlinewidth": 0,
              "ticks": ""
             }
            },
            "type": "scatterpolar"
           }
          ],
          "scatterpolargl": [
           {
            "marker": {
             "colorbar": {
              "outlinewidth": 0,
              "ticks": ""
             }
            },
            "type": "scatterpolargl"
           }
          ],
          "scatterternary": [
           {
            "marker": {
             "colorbar": {
              "outlinewidth": 0,
              "ticks": ""
             }
            },
            "type": "scatterternary"
           }
          ],
          "surface": [
           {
            "colorbar": {
             "outlinewidth": 0,
             "ticks": ""
            },
            "colorscale": [
             [
              0,
              "#0d0887"
             ],
             [
              0.1111111111111111,
              "#46039f"
             ],
             [
              0.2222222222222222,
              "#7201a8"
             ],
             [
              0.3333333333333333,
              "#9c179e"
             ],
             [
              0.4444444444444444,
              "#bd3786"
             ],
             [
              0.5555555555555556,
              "#d8576b"
             ],
             [
              0.6666666666666666,
              "#ed7953"
             ],
             [
              0.7777777777777778,
              "#fb9f3a"
             ],
             [
              0.8888888888888888,
              "#fdca26"
             ],
             [
              1,
              "#f0f921"
             ]
            ],
            "type": "surface"
           }
          ],
          "table": [
           {
            "cells": {
             "fill": {
              "color": "#EBF0F8"
             },
             "line": {
              "color": "white"
             }
            },
            "header": {
             "fill": {
              "color": "#C8D4E3"
             },
             "line": {
              "color": "white"
             }
            },
            "type": "table"
           }
          ]
         },
         "layout": {
          "annotationdefaults": {
           "arrowcolor": "#2a3f5f",
           "arrowhead": 0,
           "arrowwidth": 1
          },
          "autotypenumbers": "strict",
          "coloraxis": {
           "colorbar": {
            "outlinewidth": 0,
            "ticks": ""
           }
          },
          "colorscale": {
           "diverging": [
            [
             0,
             "#8e0152"
            ],
            [
             0.1,
             "#c51b7d"
            ],
            [
             0.2,
             "#de77ae"
            ],
            [
             0.3,
             "#f1b6da"
            ],
            [
             0.4,
             "#fde0ef"
            ],
            [
             0.5,
             "#f7f7f7"
            ],
            [
             0.6,
             "#e6f5d0"
            ],
            [
             0.7,
             "#b8e186"
            ],
            [
             0.8,
             "#7fbc41"
            ],
            [
             0.9,
             "#4d9221"
            ],
            [
             1,
             "#276419"
            ]
           ],
           "sequential": [
            [
             0,
             "#0d0887"
            ],
            [
             0.1111111111111111,
             "#46039f"
            ],
            [
             0.2222222222222222,
             "#7201a8"
            ],
            [
             0.3333333333333333,
             "#9c179e"
            ],
            [
             0.4444444444444444,
             "#bd3786"
            ],
            [
             0.5555555555555556,
             "#d8576b"
            ],
            [
             0.6666666666666666,
             "#ed7953"
            ],
            [
             0.7777777777777778,
             "#fb9f3a"
            ],
            [
             0.8888888888888888,
             "#fdca26"
            ],
            [
             1,
             "#f0f921"
            ]
           ],
           "sequentialminus": [
            [
             0,
             "#0d0887"
            ],
            [
             0.1111111111111111,
             "#46039f"
            ],
            [
             0.2222222222222222,
             "#7201a8"
            ],
            [
             0.3333333333333333,
             "#9c179e"
            ],
            [
             0.4444444444444444,
             "#bd3786"
            ],
            [
             0.5555555555555556,
             "#d8576b"
            ],
            [
             0.6666666666666666,
             "#ed7953"
            ],
            [
             0.7777777777777778,
             "#fb9f3a"
            ],
            [
             0.8888888888888888,
             "#fdca26"
            ],
            [
             1,
             "#f0f921"
            ]
           ]
          },
          "colorway": [
           "#636efa",
           "#EF553B",
           "#00cc96",
           "#ab63fa",
           "#FFA15A",
           "#19d3f3",
           "#FF6692",
           "#B6E880",
           "#FF97FF",
           "#FECB52"
          ],
          "font": {
           "color": "#2a3f5f"
          },
          "geo": {
           "bgcolor": "white",
           "lakecolor": "white",
           "landcolor": "#E5ECF6",
           "showlakes": true,
           "showland": true,
           "subunitcolor": "white"
          },
          "hoverlabel": {
           "align": "left"
          },
          "hovermode": "closest",
          "mapbox": {
           "style": "light"
          },
          "paper_bgcolor": "white",
          "plot_bgcolor": "#E5ECF6",
          "polar": {
           "angularaxis": {
            "gridcolor": "white",
            "linecolor": "white",
            "ticks": ""
           },
           "bgcolor": "#E5ECF6",
           "radialaxis": {
            "gridcolor": "white",
            "linecolor": "white",
            "ticks": ""
           }
          },
          "scene": {
           "xaxis": {
            "backgroundcolor": "#E5ECF6",
            "gridcolor": "white",
            "gridwidth": 2,
            "linecolor": "white",
            "showbackground": true,
            "ticks": "",
            "zerolinecolor": "white"
           },
           "yaxis": {
            "backgroundcolor": "#E5ECF6",
            "gridcolor": "white",
            "gridwidth": 2,
            "linecolor": "white",
            "showbackground": true,
            "ticks": "",
            "zerolinecolor": "white"
           },
           "zaxis": {
            "backgroundcolor": "#E5ECF6",
            "gridcolor": "white",
            "gridwidth": 2,
            "linecolor": "white",
            "showbackground": true,
            "ticks": "",
            "zerolinecolor": "white"
           }
          },
          "shapedefaults": {
           "line": {
            "color": "#2a3f5f"
           }
          },
          "ternary": {
           "aaxis": {
            "gridcolor": "white",
            "linecolor": "white",
            "ticks": ""
           },
           "baxis": {
            "gridcolor": "white",
            "linecolor": "white",
            "ticks": ""
           },
           "bgcolor": "#E5ECF6",
           "caxis": {
            "gridcolor": "white",
            "linecolor": "white",
            "ticks": ""
           }
          },
          "title": {
           "x": 0.05
          },
          "xaxis": {
           "automargin": true,
           "gridcolor": "white",
           "linecolor": "white",
           "ticks": "",
           "title": {
            "standoff": 15
           },
           "zerolinecolor": "white",
           "zerolinewidth": 2
          },
          "yaxis": {
           "automargin": true,
           "gridcolor": "white",
           "linecolor": "white",
           "ticks": "",
           "title": {
            "standoff": 15
           },
           "zerolinecolor": "white",
           "zerolinewidth": 2
          }
         }
        },
        "width": 800,
        "xaxis": {
         "anchor": "y",
         "domain": [
          0,
          1
         ],
         "title": {
          "text": "fmt_total_profit_percentage"
         }
        },
        "xaxis2": {
         "anchor": "y2",
         "domain": [
          0,
          1
         ],
         "matches": "x",
         "showgrid": true,
         "showticklabels": false
        },
        "yaxis": {
         "anchor": "x",
         "domain": [
          0,
          0.7326
         ],
         "title": {
          "text": "count"
         }
        },
        "yaxis2": {
         "anchor": "x2",
         "domain": [
          0.7426,
          1
         ],
         "matches": "y2",
         "showgrid": false,
         "showline": false,
         "showticklabels": false,
         "ticks": ""
        }
       }
      }
     },
     "metadata": {},
     "output_type": "display_data"
    }
   ],
   "source": [
    "fig = px.histogram(df_trader_results, x=\"fmt_total_profit_percentage\", color=\"model_type\", color_discrete_sequence=[ \"#FF7F0E\", \"#00CC96\", \"#10aded\", \"#8A56EF\"],  width=800, height=600, marginal=\"rug\", # can be `box`, `violin`\n",
    "                         hover_data=['total_reward_cash','fmt_total_profit_percentage', 'num_of_trades', 'sim_id'])\n",
    "fig.show()"
   ]
  },
  {
   "cell_type": "code",
   "execution_count": 27,
   "metadata": {},
   "outputs": [],
   "source": [
    "df_trader_results_stats = df_trader_results.groupby(['model_type'])['fmt_total_profit_percentage'].agg(['median']).reset_index()"
   ]
  },
  {
   "cell_type": "code",
   "execution_count": 28,
   "metadata": {},
   "outputs": [],
   "source": [
    "# i_A2C = np.argmin(np.abs(df_trader_results[df_trader_results['model_type']=='A2C']['fmt_total_profit_percentage'] - df_trader_results_stats[df_trader_results_stats['model_type']=='A2C']['median'].values[0]))\n",
    "# median_sim_id_A2C = df_trader_results[df_trader_results['model_type']=='A2C'].iloc[i_A2C]['sim_id']\n",
    "\n",
    "# i_PPO = np.argmin(np.abs(df_trader_results[df_trader_results['model_type']=='PPO']['fmt_total_profit_percentage'] - df_trader_results_stats[df_trader_results_stats['model_type']=='PPO']['median'].values[0]))\n",
    "# median_sim_id_PPO = df_trader_results[df_trader_results['model_type']=='PPO'].iloc[i_PPO]['sim_id']\n",
    "\n",
    "i_DQN = np.argmin(np.abs(df_trader_results[df_trader_results['model_type']=='DQN']['fmt_total_profit_percentage'] - df_trader_results_stats[df_trader_results_stats['model_type']=='DQN']['median'].values[0]))\n",
    "median_sim_id_DQN = df_trader_results[df_trader_results['model_type']=='DQN'].iloc[i_DQN]['sim_id']\n",
    "\n",
    "# i_RANDOM = np.argmin(np.abs(df_trader_results[df_trader_results['model_type']=='RANDOM']['fmt_total_profit_percentage'] - df_trader_results_stats[df_trader_results_stats['model_type']=='RANDOM']['median'].values[0]))\n",
    "# median_sim_id_RANDOM = df_trader_results[df_trader_results['model_type']=='RANDOM'].iloc[i_RANDOM]['sim_id']"
   ]
  },
  {
   "cell_type": "code",
   "execution_count": 29,
   "metadata": {},
   "outputs": [],
   "source": [
    "def get_and_process_trader_robot_actions_and_env_data_one_sim_id(config_file_name_without_extension, sim_id):\n",
    "    try:\n",
    "        \n",
    "        # Get the data\n",
    "        db_address = 'sqlite:///../results/data/db/trader.db'\n",
    "        engine = create_engine(db_address, echo=False)\n",
    "        sqlite_connection = engine.connect()\n",
    "\n",
    "        input_tbl_name = \"tbl_trader_bernardo2_robot_actions_and_env\" + \"_\" + config_file_name_without_extension\n",
    "        \n",
    "        sql_command = \"SELECT * FROM \" + input_tbl_name\n",
    "        \n",
    "        sql_append = \" WHERE \" + \"sim_id = \" + str(sim_id)\n",
    "        \n",
    "        sql_command = sql_command + sql_append\n",
    "\n",
    "        df = pd.read_sql(sql_command, sqlite_connection)\n",
    "\n",
    "        sqlite_connection.close()\n",
    "\n",
    "        return df\n",
    "\n",
    "    except Exception as e:\n",
    "        print(e)"
   ]
  },
  {
   "cell_type": "code",
   "execution_count": 30,
   "metadata": {},
   "outputs": [],
   "source": [
    "def plot_robot_actions_all_models(config_file_name_without_extension, sim_id_A2C, sim_id_PPO, sim_id_DQN, sim_id_RANDOM):\n",
    "    \n",
    "    # df_robot_actions_sim_id_A2C = get_and_process_trader_robot_actions_and_env_data_one_sim_id(config_file_name_without_extension, sim_id_A2C)\n",
    "    # df_robot_actions_sim_id_PPO = get_and_process_trader_robot_actions_and_env_data_one_sim_id(config_file_name_without_extension, sim_id_PPO)\n",
    "    df_robot_actions_sim_id_DQN = get_and_process_trader_robot_actions_and_env_data_one_sim_id(config_file_name_without_extension, sim_id_DQN)\n",
    "    # df_robot_actions_sim_id_RANDOM = get_and_process_trader_robot_actions_and_env_data_one_sim_id(config_file_name_without_extension, sim_id_RANDOM)\n",
    "\n",
    "    # df_simulation_sim_id_A2C = df_trader_results[df_trader_results['sim_id'] == sim_id_A2C]\n",
    "    # df_simulation_sim_id_PPO = df_trader_results[df_trader_results['sim_id'] == sim_id_PPO]\n",
    "    df_simulation_sim_id_DQN = df_trader_results[df_trader_results['sim_id'] == sim_id_DQN]\n",
    "    # df_simulation_sim_id_RANDOM = df_trader_results[df_trader_results['sim_id'] == sim_id_RANDOM]\n",
    "\n",
    "    # str_title_A2C = f\"sim_id: {sim_id_A2C} | model_type: {df_simulation_sim_id_A2C.model_type.values[0]} | Total Profit percentage {round(df_simulation_sim_id_A2C.fmt_total_profit_percentage.values[0],2)}%\"\n",
    "    # str_title_PPO = f\"sim_id: {sim_id_PPO} | model_type: {df_simulation_sim_id_PPO.model_type.values[0]} | Total Profit percentage {round(df_simulation_sim_id_PPO.fmt_total_profit_percentage.values[0],2)}%\"\n",
    "    str_title_DQN = f\"sim_id: {sim_id_DQN} | model_type: {df_simulation_sim_id_DQN.model_type.values[0]} | Total Profit percentage {round(df_simulation_sim_id_DQN.fmt_total_profit_percentage.values[0],2)}%\"\n",
    "    # str_title_RANDOM = f\"sim_id: {sim_id_RANDOM} | model_type: {df_simulation_sim_id_RANDOM.model_type.values[0]} | Total Profit percentage {round(df_simulation_sim_id_RANDOM.fmt_total_profit_percentage.values[0],2)}%\"\n",
    "\n",
    "    str_title = \"The median profit percentage results per model\"\n",
    "\n",
    "    fig = make_subplots(rows=4, cols=1, subplot_titles=(\"\", \"\", str_title_DQN, \"\"))\n",
    "\n",
    "    # fig.add_trace(go.Scatter(name='Price', x=df_robot_actions_sim_id_A2C[\"dates\"], y=df_robot_actions_sim_id_A2C[\"prices\"], mode='lines', marker_color='#969696', legendgroup = '1'), row=1, col=1)\n",
    "    # fig.add_trace(go.Scatter(name='Long', x=df_robot_actions_sim_id_A2C[df_robot_actions_sim_id_A2C['actions'] == 1]['dates'], y=df_robot_actions_sim_id_A2C[df_robot_actions_sim_id_A2C['actions'] == 1]['prices'], mode='markers', marker_symbol='circle', marker_size=10, marker_color='#228b22', legendgroup = '1'), row=1, col=1)\n",
    "    # fig.add_trace(go.Scatter(name='Short', x=df_robot_actions_sim_id_A2C[df_robot_actions_sim_id_A2C['actions'] == 0]['dates'], y=df_robot_actions_sim_id_A2C[df_robot_actions_sim_id_A2C['actions'] == 0]['prices'], mode='markers', marker_symbol='circle', marker_size=10, marker_color='#c83232', legendgroup = '1'), row=1, col=1)\n",
    "\n",
    "    # fig.add_trace(go.Scatter(name='Price', x=df_robot_actions_sim_id_PPO[\"dates\"], y=df_robot_actions_sim_id_PPO[\"prices\"], mode='lines', marker_color='#969696', legendgroup = '2'), row=2, col=1)\n",
    "    # fig.add_trace(go.Scatter(name='Long', x=df_robot_actions_sim_id_PPO[df_robot_actions_sim_id_PPO['actions'] == 1]['dates'], y=df_robot_actions_sim_id_PPO[df_robot_actions_sim_id_PPO['actions'] == 1]['prices'], mode='markers', marker_symbol='circle', marker_size=10, marker_color='#228b22', legendgroup = '2'), row=2, col=1)\n",
    "    # fig.add_trace(go.Scatter(name='Short', x=df_robot_actions_sim_id_PPO[df_robot_actions_sim_id_PPO['actions'] == 0]['dates'], y=df_robot_actions_sim_id_PPO[df_robot_actions_sim_id_PPO['actions'] == 0]['prices'], mode='markers', marker_symbol='circle', marker_size=10, marker_color='#c83232', legendgroup = '2'), row=2, col=1)\n",
    "\n",
    "    fig.add_trace(go.Scatter(name='Price', x=df_robot_actions_sim_id_DQN[\"dates\"], y=df_robot_actions_sim_id_DQN[\"prices\"], mode='lines', marker_color='#969696', legendgroup = '3'), row=3, col=1)\n",
    "    fig.add_trace(go.Scatter(name='Long', x=df_robot_actions_sim_id_DQN[df_robot_actions_sim_id_DQN['actions'] == 1]['dates'], y=df_robot_actions_sim_id_DQN[df_robot_actions_sim_id_DQN['actions'] == 1]['prices'], mode='markers', marker_symbol='circle', marker_size=10, marker_color='#228b22', legendgroup = '3'), row=3, col=1)\n",
    "    fig.add_trace(go.Scatter(name='Short', x=df_robot_actions_sim_id_DQN[df_robot_actions_sim_id_DQN['actions'] == 0]['dates'], y=df_robot_actions_sim_id_DQN[df_robot_actions_sim_id_DQN['actions'] == 0]['prices'], mode='markers', marker_symbol='circle', marker_size=10, marker_color='#c83232', legendgroup = '3'), row=3, col=1)\n",
    "\n",
    "    # fig.add_trace(go.Scatter(name='Price', x=df_robot_actions_sim_id_RANDOM[\"dates\"], y=df_robot_actions_sim_id_RANDOM[\"prices\"], mode='lines', marker_color='#969696', legendgroup = '4'), row=4, col=1)\n",
    "    # fig.add_trace(go.Scatter(name='Long', x=df_robot_actions_sim_id_RANDOM[df_robot_actions_sim_id_RANDOM['actions'] == 1]['dates'], y=df_robot_actions_sim_id_RANDOM[df_robot_actions_sim_id_RANDOM['actions'] == 1]['prices'], mode='markers', marker_symbol='circle', marker_size=10, marker_color='#228b22', legendgroup = '4'), row=4, col=1)\n",
    "    # fig.add_trace(go.Scatter(name='Short', x=df_robot_actions_sim_id_RANDOM[df_robot_actions_sim_id_RANDOM['actions'] == 0]['dates'], y=df_robot_actions_sim_id_RANDOM[df_robot_actions_sim_id_RANDOM['actions'] == 0]['prices'], mode='markers', marker_symbol='circle', marker_size=10, marker_color='#c83232', legendgroup = '4'), row=4, col=1)\n",
    "\n",
    "    fig.update_xaxes(title_text = \"Dates\", title_standoff = 25)\n",
    "\n",
    "    fig.update_yaxes(title_text = \"\", title_standoff = 25)\n",
    "\n",
    "    fig.update_layout(title=str_title, title_x=0.5, width=1200, height=800, legend_tracegroupgap=125)\n",
    "    fig.show()"
   ]
  },
  {
   "cell_type": "code",
   "execution_count": 31,
   "metadata": {},
   "outputs": [
    {
     "data": {
      "application/vnd.plotly.v1+json": {
       "config": {
        "plotlyServerURL": "https://plot.ly"
       },
       "data": [
        {
         "legendgroup": "3",
         "marker": {
          "color": "#969696"
         },
         "mode": "lines",
         "name": "Price",
         "type": "scatter",
         "x": [
          "2022-12-31 19:00:00.000000",
          "2022-12-31 20:00:00.000000",
          "2022-12-31 21:00:00.000000",
          "2022-12-31 22:00:00.000000",
          "2022-12-31 23:00:00.000000",
          "2023-01-01 00:00:00.000000",
          "2023-01-01 01:00:00.000000",
          "2023-01-01 02:00:00.000000",
          "2023-01-01 03:00:00.000000",
          "2023-01-01 04:00:00.000000",
          "2023-01-01 05:00:00.000000",
          "2023-01-01 06:00:00.000000",
          "2023-01-01 07:00:00.000000",
          "2023-01-01 08:00:00.000000",
          "2023-01-01 09:00:00.000000",
          "2023-01-01 10:00:00.000000",
          "2023-01-01 11:00:00.000000",
          "2023-01-01 12:00:00.000000",
          "2023-01-01 13:00:00.000000",
          "2023-01-01 14:00:00.000000",
          "2023-01-01 15:00:00.000000",
          "2023-01-01 16:00:00.000000",
          "2023-01-01 17:00:00.000000",
          "2023-01-01 18:00:00.000000",
          "2023-01-01 19:00:00.000000",
          "2023-01-01 20:00:00.000000",
          "2023-01-01 21:00:00.000000",
          "2023-01-01 22:00:00.000000",
          "2023-01-01 23:00:00.000000",
          "2023-01-02 00:00:00.000000",
          "2023-01-02 01:00:00.000000",
          "2023-01-02 02:00:00.000000",
          "2023-01-02 03:00:00.000000",
          "2023-01-02 04:00:00.000000",
          "2023-01-02 05:00:00.000000",
          "2023-01-02 06:00:00.000000",
          "2023-01-02 07:00:00.000000",
          "2023-01-02 08:00:00.000000",
          "2023-01-02 09:00:00.000000",
          "2023-01-02 10:00:00.000000",
          "2023-01-02 11:00:00.000000",
          "2023-01-02 12:00:00.000000",
          "2023-01-02 13:00:00.000000",
          "2023-01-02 14:00:00.000000",
          "2023-01-02 15:00:00.000000",
          "2023-01-02 16:00:00.000000",
          "2023-01-02 17:00:00.000000",
          "2023-01-02 18:00:00.000000",
          "2023-01-02 19:00:00.000000",
          "2023-01-02 20:00:00.000000",
          "2023-01-02 21:00:00.000000",
          "2023-01-02 22:00:00.000000",
          "2023-01-02 23:00:00.000000",
          "2023-01-03 00:00:00.000000",
          "2023-01-03 01:00:00.000000",
          "2023-01-03 02:00:00.000000",
          "2023-01-03 03:00:00.000000",
          "2023-01-03 04:00:00.000000",
          "2023-01-03 05:00:00.000000",
          "2023-01-03 06:00:00.000000",
          "2023-01-03 07:00:00.000000",
          "2023-01-03 08:00:00.000000",
          "2023-01-03 09:00:00.000000",
          "2023-01-03 10:00:00.000000",
          "2023-01-03 11:00:00.000000",
          "2023-01-03 12:00:00.000000",
          "2023-01-03 13:00:00.000000",
          "2023-01-03 14:00:00.000000",
          "2023-01-03 15:00:00.000000",
          "2023-01-03 16:00:00.000000",
          "2023-01-03 17:00:00.000000",
          "2023-01-03 18:00:00.000000",
          "2023-01-03 19:00:00.000000",
          "2023-01-03 20:00:00.000000",
          "2023-01-03 21:00:00.000000",
          "2023-01-03 22:00:00.000000",
          "2023-01-03 23:00:00.000000",
          "2023-01-04 00:00:00.000000",
          "2023-01-04 01:00:00.000000",
          "2023-01-04 02:00:00.000000",
          "2023-01-04 03:00:00.000000",
          "2023-01-04 04:00:00.000000",
          "2023-01-04 05:00:00.000000",
          "2023-01-04 06:00:00.000000",
          "2023-01-04 07:00:00.000000",
          "2023-01-04 08:00:00.000000",
          "2023-01-04 09:00:00.000000",
          "2023-01-04 10:00:00.000000",
          "2023-01-04 11:00:00.000000",
          "2023-01-04 12:00:00.000000",
          "2023-01-04 13:00:00.000000",
          "2023-01-04 14:00:00.000000",
          "2023-01-04 15:00:00.000000",
          "2023-01-04 16:00:00.000000",
          "2023-01-04 17:00:00.000000",
          "2023-01-04 18:00:00.000000",
          "2023-01-04 19:00:00.000000",
          "2023-01-04 20:00:00.000000",
          "2023-01-04 21:00:00.000000",
          "2023-01-04 22:00:00.000000",
          "2023-01-04 23:00:00.000000",
          "2023-01-05 00:00:00.000000",
          "2023-01-05 01:00:00.000000",
          "2023-01-05 02:00:00.000000",
          "2023-01-05 03:00:00.000000",
          "2023-01-05 04:00:00.000000",
          "2023-01-05 05:00:00.000000",
          "2023-01-05 06:00:00.000000",
          "2023-01-05 07:00:00.000000",
          "2023-01-05 08:00:00.000000",
          "2023-01-05 09:00:00.000000",
          "2023-01-05 10:00:00.000000",
          "2023-01-05 11:00:00.000000",
          "2023-01-05 12:00:00.000000",
          "2023-01-05 13:00:00.000000",
          "2023-01-05 14:00:00.000000",
          "2023-01-05 15:00:00.000000",
          "2023-01-05 16:00:00.000000",
          "2023-01-05 17:00:00.000000",
          "2023-01-05 18:00:00.000000",
          "2023-01-05 19:00:00.000000",
          "2023-01-05 20:00:00.000000",
          "2023-01-05 21:00:00.000000",
          "2023-01-05 22:00:00.000000",
          "2023-01-05 23:00:00.000000",
          "2023-01-06 00:00:00.000000",
          "2023-01-06 01:00:00.000000",
          "2023-01-06 02:00:00.000000",
          "2023-01-06 03:00:00.000000",
          "2023-01-06 04:00:00.000000",
          "2023-01-06 05:00:00.000000",
          "2023-01-06 06:00:00.000000",
          "2023-01-06 07:00:00.000000",
          "2023-01-06 08:00:00.000000",
          "2023-01-06 09:00:00.000000",
          "2023-01-06 10:00:00.000000",
          "2023-01-06 11:00:00.000000",
          "2023-01-06 12:00:00.000000",
          "2023-01-06 13:00:00.000000",
          "2023-01-06 14:00:00.000000",
          "2023-01-06 15:00:00.000000",
          "2023-01-06 16:00:00.000000",
          "2023-01-06 17:00:00.000000",
          "2023-01-06 18:00:00.000000",
          "2023-01-06 19:00:00.000000",
          "2023-01-06 20:00:00.000000",
          "2023-01-06 21:00:00.000000",
          "2023-01-06 22:00:00.000000",
          "2023-01-06 23:00:00.000000",
          "2023-01-07 00:00:00.000000",
          "2023-01-07 01:00:00.000000",
          "2023-01-07 02:00:00.000000",
          "2023-01-07 03:00:00.000000",
          "2023-01-07 04:00:00.000000",
          "2023-01-07 05:00:00.000000",
          "2023-01-07 06:00:00.000000",
          "2023-01-07 07:00:00.000000",
          "2023-01-07 08:00:00.000000",
          "2023-01-07 09:00:00.000000",
          "2023-01-07 10:00:00.000000",
          "2023-01-07 11:00:00.000000",
          "2023-01-07 12:00:00.000000",
          "2023-01-07 13:00:00.000000",
          "2023-01-07 14:00:00.000000",
          "2023-01-07 15:00:00.000000",
          "2023-01-07 16:00:00.000000",
          "2023-01-07 17:00:00.000000",
          "2023-01-07 18:00:00.000000",
          "2023-01-07 19:00:00.000000",
          "2023-01-07 20:00:00.000000",
          "2023-01-07 21:00:00.000000",
          "2023-01-07 22:00:00.000000",
          "2023-01-07 23:00:00.000000",
          "2023-01-08 00:00:00.000000",
          "2023-01-08 01:00:00.000000",
          "2023-01-08 02:00:00.000000",
          "2023-01-08 03:00:00.000000",
          "2023-01-08 04:00:00.000000",
          "2023-01-08 05:00:00.000000",
          "2023-01-08 06:00:00.000000",
          "2023-01-08 07:00:00.000000",
          "2023-01-08 08:00:00.000000",
          "2023-01-08 09:00:00.000000",
          "2023-01-08 10:00:00.000000",
          "2023-01-08 11:00:00.000000",
          "2023-01-08 12:00:00.000000",
          "2023-01-08 13:00:00.000000",
          "2023-01-08 14:00:00.000000",
          "2023-01-08 15:00:00.000000",
          "2023-01-08 16:00:00.000000",
          "2023-01-08 17:00:00.000000",
          "2023-01-08 18:00:00.000000",
          "2023-01-08 19:00:00.000000",
          "2023-01-08 20:00:00.000000",
          "2023-01-08 21:00:00.000000",
          "2023-01-08 22:00:00.000000",
          "2023-01-08 23:00:00.000000",
          "2023-01-09 00:00:00.000000",
          "2023-01-09 01:00:00.000000",
          "2023-01-09 02:00:00.000000",
          "2023-01-09 03:00:00.000000",
          "2023-01-09 04:00:00.000000",
          "2023-01-09 05:00:00.000000",
          "2023-01-09 06:00:00.000000",
          "2023-01-09 07:00:00.000000",
          "2023-01-09 08:00:00.000000",
          "2023-01-09 09:00:00.000000",
          "2023-01-09 10:00:00.000000",
          "2023-01-09 11:00:00.000000",
          "2023-01-09 12:00:00.000000",
          "2023-01-09 13:00:00.000000",
          "2023-01-09 14:00:00.000000",
          "2023-01-09 15:00:00.000000",
          "2023-01-09 16:00:00.000000",
          "2023-01-09 17:00:00.000000",
          "2023-01-09 18:00:00.000000",
          "2023-01-09 19:00:00.000000",
          "2023-01-09 20:00:00.000000",
          "2023-01-09 21:00:00.000000",
          "2023-01-09 22:00:00.000000",
          "2023-01-09 23:00:00.000000",
          "2023-01-10 00:00:00.000000",
          "2023-01-10 01:00:00.000000",
          "2023-01-10 02:00:00.000000",
          "2023-01-10 03:00:00.000000",
          "2023-01-10 04:00:00.000000",
          "2023-01-10 05:00:00.000000",
          "2023-01-10 06:00:00.000000",
          "2023-01-10 07:00:00.000000",
          "2023-01-10 08:00:00.000000",
          "2023-01-10 09:00:00.000000",
          "2023-01-10 10:00:00.000000",
          "2023-01-10 11:00:00.000000",
          "2023-01-10 12:00:00.000000",
          "2023-01-10 13:00:00.000000",
          "2023-01-10 14:00:00.000000",
          "2023-01-10 15:00:00.000000",
          "2023-01-10 16:00:00.000000",
          "2023-01-10 17:00:00.000000",
          "2023-01-10 18:00:00.000000",
          "2023-01-10 19:00:00.000000",
          "2023-01-10 20:00:00.000000",
          "2023-01-10 21:00:00.000000",
          "2023-01-10 22:00:00.000000",
          "2023-01-10 23:00:00.000000",
          "2023-01-11 00:00:00.000000",
          "2023-01-11 01:00:00.000000",
          "2023-01-11 02:00:00.000000",
          "2023-01-11 03:00:00.000000",
          "2023-01-11 04:00:00.000000",
          "2023-01-11 05:00:00.000000",
          "2023-01-11 06:00:00.000000",
          "2023-01-11 07:00:00.000000",
          "2023-01-11 08:00:00.000000",
          "2023-01-11 09:00:00.000000",
          "2023-01-11 10:00:00.000000",
          "2023-01-11 11:00:00.000000",
          "2023-01-11 12:00:00.000000",
          "2023-01-11 13:00:00.000000",
          "2023-01-11 14:00:00.000000",
          "2023-01-11 15:00:00.000000",
          "2023-01-11 16:00:00.000000",
          "2023-01-11 17:00:00.000000",
          "2023-01-11 18:00:00.000000",
          "2023-01-11 19:00:00.000000",
          "2023-01-11 20:00:00.000000",
          "2023-01-11 21:00:00.000000",
          "2023-01-11 22:00:00.000000",
          "2023-01-11 23:00:00.000000",
          "2023-01-12 00:00:00.000000",
          "2023-01-12 01:00:00.000000",
          "2023-01-12 02:00:00.000000",
          "2023-01-12 03:00:00.000000",
          "2023-01-12 04:00:00.000000",
          "2023-01-12 05:00:00.000000",
          "2023-01-12 06:00:00.000000",
          "2023-01-12 07:00:00.000000",
          "2023-01-12 08:00:00.000000",
          "2023-01-12 09:00:00.000000",
          "2023-01-12 10:00:00.000000",
          "2023-01-12 11:00:00.000000",
          "2023-01-12 12:00:00.000000",
          "2023-01-12 13:00:00.000000",
          "2023-01-12 14:00:00.000000",
          "2023-01-12 15:00:00.000000",
          "2023-01-12 16:00:00.000000",
          "2023-01-12 17:00:00.000000",
          "2023-01-12 18:00:00.000000",
          "2023-01-12 19:00:00.000000",
          "2023-01-12 20:00:00.000000",
          "2023-01-12 21:00:00.000000",
          "2023-01-12 22:00:00.000000",
          "2023-01-12 23:00:00.000000",
          "2023-01-13 00:00:00.000000",
          "2023-01-13 01:00:00.000000",
          "2023-01-13 02:00:00.000000",
          "2023-01-13 03:00:00.000000",
          "2023-01-13 04:00:00.000000",
          "2023-01-13 05:00:00.000000",
          "2023-01-13 06:00:00.000000",
          "2023-01-13 07:00:00.000000",
          "2023-01-13 08:00:00.000000",
          "2023-01-13 09:00:00.000000",
          "2023-01-13 10:00:00.000000",
          "2023-01-13 11:00:00.000000",
          "2023-01-13 12:00:00.000000",
          "2023-01-13 13:00:00.000000",
          "2023-01-13 14:00:00.000000",
          "2023-01-13 15:00:00.000000",
          "2023-01-13 16:00:00.000000",
          "2023-01-13 17:00:00.000000",
          "2023-01-13 18:00:00.000000",
          "2023-01-13 19:00:00.000000",
          "2023-01-13 20:00:00.000000",
          "2023-01-13 21:00:00.000000",
          "2023-01-13 22:00:00.000000",
          "2023-01-13 23:00:00.000000",
          "2023-01-14 00:00:00.000000",
          "2023-01-14 01:00:00.000000",
          "2023-01-14 02:00:00.000000",
          "2023-01-14 03:00:00.000000",
          "2023-01-14 04:00:00.000000",
          "2023-01-14 05:00:00.000000",
          "2023-01-14 06:00:00.000000",
          "2023-01-14 07:00:00.000000",
          "2023-01-14 08:00:00.000000",
          "2023-01-14 09:00:00.000000",
          "2023-01-14 10:00:00.000000",
          "2023-01-14 11:00:00.000000",
          "2023-01-14 12:00:00.000000",
          "2023-01-14 13:00:00.000000",
          "2023-01-14 14:00:00.000000",
          "2023-01-14 15:00:00.000000",
          "2023-01-14 16:00:00.000000",
          "2023-01-14 17:00:00.000000",
          "2023-01-14 18:00:00.000000",
          "2023-01-14 19:00:00.000000",
          "2023-01-14 20:00:00.000000",
          "2023-01-14 21:00:00.000000",
          "2023-01-14 22:00:00.000000",
          "2023-01-14 23:00:00.000000",
          "2023-01-15 00:00:00.000000",
          "2023-01-15 01:00:00.000000",
          "2023-01-15 02:00:00.000000",
          "2023-01-15 03:00:00.000000",
          "2023-01-15 04:00:00.000000",
          "2023-01-15 05:00:00.000000",
          "2023-01-15 06:00:00.000000",
          "2023-01-15 07:00:00.000000",
          "2023-01-15 08:00:00.000000",
          "2023-01-15 09:00:00.000000",
          "2023-01-15 10:00:00.000000",
          "2023-01-15 11:00:00.000000",
          "2023-01-15 12:00:00.000000",
          "2023-01-15 13:00:00.000000",
          "2023-01-15 14:00:00.000000",
          "2023-01-15 15:00:00.000000",
          "2023-01-15 16:00:00.000000",
          "2023-01-15 17:00:00.000000",
          "2023-01-15 18:00:00.000000",
          "2023-01-15 19:00:00.000000",
          "2023-01-15 20:00:00.000000",
          "2023-01-15 21:00:00.000000",
          "2023-01-15 22:00:00.000000",
          "2023-01-15 23:00:00.000000",
          "2023-01-16 00:00:00.000000",
          "2023-01-16 01:00:00.000000",
          "2023-01-16 02:00:00.000000",
          "2023-01-16 03:00:00.000000",
          "2023-01-16 04:00:00.000000",
          "2023-01-16 05:00:00.000000",
          "2023-01-16 06:00:00.000000",
          "2023-01-16 07:00:00.000000",
          "2023-01-16 08:00:00.000000",
          "2023-01-16 09:00:00.000000",
          "2023-01-16 10:00:00.000000",
          "2023-01-16 11:00:00.000000",
          "2023-01-16 12:00:00.000000",
          "2023-01-16 13:00:00.000000",
          "2023-01-16 14:00:00.000000",
          "2023-01-16 15:00:00.000000",
          "2023-01-16 16:00:00.000000",
          "2023-01-16 17:00:00.000000",
          "2023-01-16 18:00:00.000000",
          "2023-01-16 19:00:00.000000",
          "2023-01-16 20:00:00.000000",
          "2023-01-16 21:00:00.000000",
          "2023-01-16 22:00:00.000000",
          "2023-01-16 23:00:00.000000",
          "2023-01-17 00:00:00.000000",
          "2023-01-17 01:00:00.000000",
          "2023-01-17 02:00:00.000000",
          "2023-01-17 03:00:00.000000",
          "2023-01-17 04:00:00.000000",
          "2023-01-17 05:00:00.000000",
          "2023-01-17 06:00:00.000000",
          "2023-01-17 07:00:00.000000",
          "2023-01-17 08:00:00.000000",
          "2023-01-17 09:00:00.000000",
          "2023-01-17 10:00:00.000000",
          "2023-01-17 11:00:00.000000",
          "2023-01-17 12:00:00.000000",
          "2023-01-17 13:00:00.000000",
          "2023-01-17 14:00:00.000000",
          "2023-01-17 15:00:00.000000",
          "2023-01-17 16:00:00.000000",
          "2023-01-17 17:00:00.000000",
          "2023-01-17 18:00:00.000000",
          "2023-01-17 19:00:00.000000",
          "2023-01-17 20:00:00.000000",
          "2023-01-17 21:00:00.000000",
          "2023-01-17 22:00:00.000000",
          "2023-01-17 23:00:00.000000",
          "2023-01-18 00:00:00.000000",
          "2023-01-18 01:00:00.000000",
          "2023-01-18 02:00:00.000000",
          "2023-01-18 03:00:00.000000",
          "2023-01-18 04:00:00.000000",
          "2023-01-18 05:00:00.000000",
          "2023-01-18 06:00:00.000000",
          "2023-01-18 07:00:00.000000",
          "2023-01-18 08:00:00.000000",
          "2023-01-18 09:00:00.000000",
          "2023-01-18 10:00:00.000000",
          "2023-01-18 11:00:00.000000",
          "2023-01-18 12:00:00.000000",
          "2023-01-18 13:00:00.000000",
          "2023-01-18 14:00:00.000000",
          "2023-01-18 15:00:00.000000",
          "2023-01-18 16:00:00.000000",
          "2023-01-18 17:00:00.000000",
          "2023-01-18 18:00:00.000000",
          "2023-01-18 19:00:00.000000",
          "2023-01-18 20:00:00.000000",
          "2023-01-18 21:00:00.000000",
          "2023-01-18 22:00:00.000000",
          "2023-01-18 23:00:00.000000",
          "2023-01-19 00:00:00.000000",
          "2023-01-19 01:00:00.000000",
          "2023-01-19 02:00:00.000000",
          "2023-01-19 03:00:00.000000",
          "2023-01-19 04:00:00.000000",
          "2023-01-19 05:00:00.000000",
          "2023-01-19 06:00:00.000000",
          "2023-01-19 07:00:00.000000",
          "2023-01-19 08:00:00.000000",
          "2023-01-19 09:00:00.000000",
          "2023-01-19 10:00:00.000000",
          "2023-01-19 11:00:00.000000",
          "2023-01-19 12:00:00.000000",
          "2023-01-19 13:00:00.000000",
          "2023-01-19 14:00:00.000000",
          "2023-01-19 15:00:00.000000",
          "2023-01-19 16:00:00.000000",
          "2023-01-19 17:00:00.000000",
          "2023-01-19 18:00:00.000000",
          "2023-01-19 19:00:00.000000",
          "2023-01-19 20:00:00.000000",
          "2023-01-19 21:00:00.000000",
          "2023-01-19 22:00:00.000000",
          "2023-01-19 23:00:00.000000",
          "2023-01-20 00:00:00.000000",
          "2023-01-20 01:00:00.000000",
          "2023-01-20 02:00:00.000000",
          "2023-01-20 03:00:00.000000",
          "2023-01-20 04:00:00.000000",
          "2023-01-20 05:00:00.000000",
          "2023-01-20 06:00:00.000000",
          "2023-01-20 07:00:00.000000",
          "2023-01-20 08:00:00.000000",
          "2023-01-20 09:00:00.000000",
          "2023-01-20 10:00:00.000000",
          "2023-01-20 11:00:00.000000",
          "2023-01-20 12:00:00.000000",
          "2023-01-20 13:00:00.000000",
          "2023-01-20 14:00:00.000000",
          "2023-01-20 15:00:00.000000",
          "2023-01-20 16:00:00.000000",
          "2023-01-20 17:00:00.000000",
          "2023-01-20 18:00:00.000000",
          "2023-01-20 19:00:00.000000",
          "2023-01-20 20:00:00.000000",
          "2023-01-20 21:00:00.000000",
          "2023-01-20 22:00:00.000000",
          "2023-01-20 23:00:00.000000",
          "2023-01-21 00:00:00.000000",
          "2023-01-21 01:00:00.000000",
          "2023-01-21 02:00:00.000000",
          "2023-01-21 03:00:00.000000",
          "2023-01-21 04:00:00.000000",
          "2023-01-21 05:00:00.000000",
          "2023-01-21 06:00:00.000000",
          "2023-01-21 07:00:00.000000",
          "2023-01-21 08:00:00.000000",
          "2023-01-21 09:00:00.000000",
          "2023-01-21 10:00:00.000000",
          "2023-01-21 11:00:00.000000",
          "2023-01-21 12:00:00.000000",
          "2023-01-21 13:00:00.000000",
          "2023-01-21 14:00:00.000000",
          "2023-01-21 15:00:00.000000",
          "2023-01-21 16:00:00.000000",
          "2023-01-21 17:00:00.000000",
          "2023-01-21 18:00:00.000000",
          "2023-01-21 19:00:00.000000",
          "2023-01-21 20:00:00.000000",
          "2023-01-21 21:00:00.000000",
          "2023-01-21 22:00:00.000000",
          "2023-01-21 23:00:00.000000",
          "2023-01-22 00:00:00.000000",
          "2023-01-22 01:00:00.000000",
          "2023-01-22 02:00:00.000000",
          "2023-01-22 03:00:00.000000",
          "2023-01-22 04:00:00.000000",
          "2023-01-22 05:00:00.000000",
          "2023-01-22 06:00:00.000000",
          "2023-01-22 07:00:00.000000",
          "2023-01-22 08:00:00.000000",
          "2023-01-22 09:00:00.000000",
          "2023-01-22 10:00:00.000000",
          "2023-01-22 11:00:00.000000",
          "2023-01-22 12:00:00.000000",
          "2023-01-22 13:00:00.000000",
          "2023-01-22 14:00:00.000000",
          "2023-01-22 15:00:00.000000",
          "2023-01-22 16:00:00.000000",
          "2023-01-22 17:00:00.000000",
          "2023-01-22 18:00:00.000000",
          "2023-01-22 19:00:00.000000",
          "2023-01-22 20:00:00.000000",
          "2023-01-22 21:00:00.000000",
          "2023-01-22 22:00:00.000000",
          "2023-01-22 23:00:00.000000",
          "2023-01-23 00:00:00.000000",
          "2023-01-23 01:00:00.000000",
          "2023-01-23 02:00:00.000000",
          "2023-01-23 03:00:00.000000",
          "2023-01-23 04:00:00.000000",
          "2023-01-23 05:00:00.000000",
          "2023-01-23 06:00:00.000000",
          "2023-01-23 07:00:00.000000",
          "2023-01-23 08:00:00.000000",
          "2023-01-23 09:00:00.000000",
          "2023-01-23 10:00:00.000000",
          "2023-01-23 11:00:00.000000",
          "2023-01-23 12:00:00.000000",
          "2023-01-23 13:00:00.000000",
          "2023-01-23 14:00:00.000000",
          "2023-01-23 15:00:00.000000",
          "2023-01-23 16:00:00.000000",
          "2023-01-23 17:00:00.000000",
          "2023-01-23 18:00:00.000000",
          "2023-01-23 19:00:00.000000",
          "2023-01-23 20:00:00.000000",
          "2023-01-23 21:00:00.000000",
          "2023-01-23 22:00:00.000000",
          "2023-01-23 23:00:00.000000",
          "2023-01-24 00:00:00.000000",
          "2023-01-24 01:00:00.000000",
          "2023-01-24 02:00:00.000000",
          "2023-01-24 03:00:00.000000",
          "2023-01-24 04:00:00.000000",
          "2023-01-24 05:00:00.000000",
          "2023-01-24 06:00:00.000000",
          "2023-01-24 07:00:00.000000",
          "2023-01-24 08:00:00.000000",
          "2023-01-24 09:00:00.000000",
          "2023-01-24 10:00:00.000000",
          "2023-01-24 11:00:00.000000",
          "2023-01-24 12:00:00.000000",
          "2023-01-24 13:00:00.000000",
          "2023-01-24 14:00:00.000000",
          "2023-01-24 15:00:00.000000",
          "2023-01-24 16:00:00.000000",
          "2023-01-24 17:00:00.000000",
          "2023-01-24 18:00:00.000000",
          "2023-01-24 19:00:00.000000",
          "2023-01-24 20:00:00.000000",
          "2023-01-24 21:00:00.000000",
          "2023-01-24 22:00:00.000000",
          "2023-01-24 23:00:00.000000",
          "2023-01-25 00:00:00.000000",
          "2023-01-25 01:00:00.000000",
          "2023-01-25 02:00:00.000000",
          "2023-01-25 03:00:00.000000",
          "2023-01-25 04:00:00.000000",
          "2023-01-25 05:00:00.000000",
          "2023-01-25 06:00:00.000000",
          "2023-01-25 07:00:00.000000",
          "2023-01-25 08:00:00.000000",
          "2023-01-25 09:00:00.000000",
          "2023-01-25 10:00:00.000000",
          "2023-01-25 11:00:00.000000",
          "2023-01-25 12:00:00.000000",
          "2023-01-25 13:00:00.000000",
          "2023-01-25 14:00:00.000000",
          "2023-01-25 15:00:00.000000",
          "2023-01-25 16:00:00.000000",
          "2023-01-25 17:00:00.000000",
          "2023-01-25 18:00:00.000000",
          "2023-01-25 19:00:00.000000",
          "2023-01-25 20:00:00.000000",
          "2023-01-25 21:00:00.000000",
          "2023-01-25 22:00:00.000000",
          "2023-01-25 23:00:00.000000",
          "2023-01-26 00:00:00.000000",
          "2023-01-26 01:00:00.000000",
          "2023-01-26 02:00:00.000000",
          "2023-01-26 03:00:00.000000",
          "2023-01-26 04:00:00.000000",
          "2023-01-26 05:00:00.000000",
          "2023-01-26 06:00:00.000000",
          "2023-01-26 07:00:00.000000",
          "2023-01-26 08:00:00.000000",
          "2023-01-26 09:00:00.000000",
          "2023-01-26 10:00:00.000000",
          "2023-01-26 11:00:00.000000",
          "2023-01-26 12:00:00.000000",
          "2023-01-26 13:00:00.000000",
          "2023-01-26 14:00:00.000000",
          "2023-01-26 15:00:00.000000",
          "2023-01-26 16:00:00.000000",
          "2023-01-26 17:00:00.000000",
          "2023-01-26 18:00:00.000000",
          "2023-01-26 19:00:00.000000",
          "2023-01-26 20:00:00.000000",
          "2023-01-26 21:00:00.000000",
          "2023-01-26 22:00:00.000000",
          "2023-01-26 23:00:00.000000",
          "2023-01-27 00:00:00.000000",
          "2023-01-27 01:00:00.000000",
          "2023-01-27 02:00:00.000000",
          "2023-01-27 03:00:00.000000",
          "2023-01-27 04:00:00.000000",
          "2023-01-27 05:00:00.000000",
          "2023-01-27 06:00:00.000000",
          "2023-01-27 07:00:00.000000",
          "2023-01-27 08:00:00.000000",
          "2023-01-27 09:00:00.000000",
          "2023-01-27 10:00:00.000000",
          "2023-01-27 11:00:00.000000",
          "2023-01-27 12:00:00.000000",
          "2023-01-27 13:00:00.000000",
          "2023-01-27 14:00:00.000000",
          "2023-01-27 15:00:00.000000",
          "2023-01-27 16:00:00.000000",
          "2023-01-27 17:00:00.000000",
          "2023-01-27 18:00:00.000000",
          "2023-01-27 19:00:00.000000",
          "2023-01-27 20:00:00.000000",
          "2023-01-27 21:00:00.000000",
          "2023-01-27 22:00:00.000000",
          "2023-01-27 23:00:00.000000",
          "2023-01-28 00:00:00.000000",
          "2023-01-28 01:00:00.000000",
          "2023-01-28 02:00:00.000000",
          "2023-01-28 03:00:00.000000",
          "2023-01-28 04:00:00.000000",
          "2023-01-28 05:00:00.000000",
          "2023-01-28 06:00:00.000000",
          "2023-01-28 07:00:00.000000",
          "2023-01-28 08:00:00.000000",
          "2023-01-28 09:00:00.000000",
          "2023-01-28 10:00:00.000000",
          "2023-01-28 11:00:00.000000",
          "2023-01-28 12:00:00.000000",
          "2023-01-28 13:00:00.000000",
          "2023-01-28 14:00:00.000000",
          "2023-01-28 15:00:00.000000",
          "2023-01-28 16:00:00.000000",
          "2023-01-28 17:00:00.000000",
          "2023-01-28 18:00:00.000000",
          "2023-01-28 19:00:00.000000",
          "2023-01-28 20:00:00.000000",
          "2023-01-28 21:00:00.000000",
          "2023-01-28 22:00:00.000000",
          "2023-01-28 23:00:00.000000",
          "2023-01-29 00:00:00.000000",
          "2023-01-29 01:00:00.000000",
          "2023-01-29 02:00:00.000000",
          "2023-01-29 03:00:00.000000",
          "2023-01-29 04:00:00.000000",
          "2023-01-29 05:00:00.000000",
          "2023-01-29 06:00:00.000000",
          "2023-01-29 07:00:00.000000",
          "2023-01-29 08:00:00.000000",
          "2023-01-29 09:00:00.000000",
          "2023-01-29 10:00:00.000000",
          "2023-01-29 11:00:00.000000",
          "2023-01-29 12:00:00.000000",
          "2023-01-29 13:00:00.000000",
          "2023-01-29 14:00:00.000000",
          "2023-01-29 15:00:00.000000",
          "2023-01-29 16:00:00.000000",
          "2023-01-29 17:00:00.000000",
          "2023-01-29 18:00:00.000000",
          "2023-01-29 19:00:00.000000",
          "2023-01-29 20:00:00.000000",
          "2023-01-29 21:00:00.000000",
          "2023-01-29 22:00:00.000000",
          "2023-01-29 23:00:00.000000",
          "2023-01-30 00:00:00.000000",
          "2023-01-30 01:00:00.000000",
          "2023-01-30 02:00:00.000000",
          "2023-01-30 03:00:00.000000",
          "2023-01-30 04:00:00.000000",
          "2023-01-30 05:00:00.000000",
          "2023-01-30 06:00:00.000000",
          "2023-01-30 07:00:00.000000",
          "2023-01-30 08:00:00.000000",
          "2023-01-30 09:00:00.000000",
          "2023-01-30 10:00:00.000000",
          "2023-01-30 11:00:00.000000",
          "2023-01-30 12:00:00.000000",
          "2023-01-30 13:00:00.000000",
          "2023-01-30 14:00:00.000000",
          "2023-01-30 15:00:00.000000",
          "2023-01-30 16:00:00.000000",
          "2023-01-30 17:00:00.000000",
          "2023-01-30 18:00:00.000000",
          "2023-01-30 19:00:00.000000",
          "2023-01-30 20:00:00.000000",
          "2023-01-30 21:00:00.000000",
          "2023-01-30 22:00:00.000000",
          "2023-01-30 23:00:00.000000",
          "2023-01-31 00:00:00.000000",
          "2023-01-31 01:00:00.000000",
          "2023-01-31 02:00:00.000000",
          "2023-01-31 03:00:00.000000",
          "2023-01-31 04:00:00.000000",
          "2023-01-31 05:00:00.000000",
          "2023-01-31 06:00:00.000000",
          "2023-01-31 07:00:00.000000",
          "2023-01-31 08:00:00.000000"
         ],
         "xaxis": "x3",
         "y": [
          16577.79,
          16570.14,
          16568.6,
          16548.28,
          16520.81,
          16542.4,
          16529.67,
          16551.47,
          16548.19,
          16533.04,
          16521.85,
          16530.71,
          16539.79,
          16526.19,
          16513.34,
          16537.88,
          16548.34,
          16556.66,
          16560.93,
          16548.04,
          16542.94,
          16558.73,
          16565.14,
          16578.85,
          16591.88,
          16603.08,
          16604.51,
          16606.68,
          16602.12,
          16616.75,
          16588.35,
          16565.04,
          16587.85,
          16661.94,
          16639.44,
          16647.58,
          16641.1,
          16721.28,
          16733.71,
          16717.5,
          16727.95,
          16735.11,
          16721.54,
          16694.78,
          16698.69,
          16734.66,
          16710.88,
          16715.42,
          16723.81,
          16737.56,
          16728.52,
          16757.76,
          16698.4,
          16672.87,
          16695.59,
          16677.6,
          16674.03,
          16691.81,
          16685.64,
          16725.5,
          16727.58,
          16729.74,
          16715.22,
          16741.31,
          16724.32,
          16721.03,
          16710.85,
          16725.53,
          16661.23,
          16676.94,
          16622.58,
          16633.65,
          16645.08,
          16643.37,
          16661.37,
          16664.63,
          16677.11,
          16675.18,
          16660.53,
          16701.97,
          16736.52,
          16862.02,
          16860.5,
          16857.57,
          16878.18,
          16869.44,
          16864.95,
          16844.91,
          16844.92,
          16835.35,
          16812.19,
          16828.2,
          16830.12,
          16854.05,
          16858.85,
          16893.24,
          16948.04,
          16842.36,
          16806.49,
          16826.81,
          16826.68,
          16850.36,
          16828.45,
          16832.9,
          16836.8,
          16827.71,
          16836.41,
          16844.12,
          16817.13,
          16823.64,
          16807.53,
          16807.12,
          16825.08,
          16833.6,
          16822.13,
          16780.25,
          16829.59,
          16842.94,
          16838.28,
          16814.48,
          16841.93,
          16863.85,
          16859.02,
          16848.51,
          16837.85,
          16831.85,
          16859.78,
          16827.8,
          16837.06,
          16833.56,
          16822.99,
          16810.18,
          16786.86,
          16794.06,
          16802.11,
          16787.1,
          16767.06,
          16738.22,
          16731.02,
          16774.19,
          16748.82,
          16840.82,
          16827.21,
          16821.27,
          16850.45,
          16939.91,
          16897.48,
          16931.27,
          16958.35,
          16950.65,
          16978.18,
          16950.02,
          16944.24,
          16952.46,
          16938.27,
          16934.28,
          16933.29,
          16948.09,
          16929.76,
          16928.51,
          16922.51,
          16918.3,
          16916.14,
          16919.34,
          16937.92,
          16940.42,
          16922.79,
          16928.85,
          16938.12,
          16944.05,
          16945.77,
          16939.31,
          16936.31,
          16943.57,
          16926.66,
          16929.82,
          16931.18,
          16944.02,
          16934.75,
          16943.73,
          16950.92,
          16953.77,
          16946.07,
          16935.6,
          16936.41,
          16927.42,
          16923.75,
          16933.03,
          16952.44,
          17000.43,
          16936.87,
          16928.5,
          16929.84,
          16927.25,
          16966.67,
          16957.46,
          16963.14,
          17127.83,
          17184.51,
          17175.02,
          17191.47,
          17197,
          17226.49,
          17205.95,
          17189.24,
          17198.48,
          17191.68,
          17238.38,
          17264.5,
          17238.93,
          17249.06,
          17226.9,
          17264.25,
          17268.49,
          17327.84,
          17356.96,
          17350.71,
          17293.69,
          17221.29,
          17182.48,
          17204.83,
          17178.26,
          17219.19,
          17194.39,
          17185.94,
          17205.72,
          17221.68,
          17228.77,
          17203.95,
          17203.2,
          17256.34,
          17247.71,
          17271.02,
          17252.89,
          17224.15,
          17246.05,
          17286.59,
          17327.7,
          17302.15,
          17325.97,
          17433.95,
          17432.85,
          17477.15,
          17463.56,
          17428.08,
          17440.66,
          17466.02,
          17458.05,
          17388.2,
          17416.14,
          17408.39,
          17406.3,
          17437.29,
          17446.65,
          17447.6,
          17446.71,
          17441.24,
          17437.75,
          17418.56,
          17413.43,
          17413.97,
          17332.43,
          17347.62,
          17382.08,
          17487.09,
          17550.29,
          17550.57,
          17558.6,
          17556.41,
          17943.26,
          18264.1,
          18221.51,
          18207.54,
          18224.68,
          18215.66,
          18087.54,
          18147.77,
          18138.22,
          18151.52,
          18164.67,
          18185.6,
          18200.8,
          18268.94,
          18284.91,
          17998.56,
          18086.62,
          18134.55,
          18837.06,
          18796.93,
          18885.35,
          19048.95,
          18830.07,
          18913.92,
          18846.62,
          18771.61,
          18811.48,
          18835.48,
          18876.37,
          18821.27,
          18787.71,
          18852.68,
          18824.25,
          18842.15,
          18910.23,
          19042.01,
          18920.95,
          18864.59,
          18854.84,
          18996.27,
          19261.19,
          19133.39,
          19256.06,
          19292.44,
          19362.01,
          19473.67,
          19816.81,
          19849.41,
          19930.01,
          20891.67,
          20927.44,
          20938.93,
          20967.23,
          20894.86,
          20841.62,
          20955.57,
          20897.36,
          21003.35,
          20523.75,
          20496.77,
          20721.73,
          20911.19,
          20940.71,
          20834.4,
          20786.74,
          20810.66,
          20755.78,
          20757.99,
          20783.68,
          20877.47,
          20900.66,
          20989.97,
          20954.92,
          20767.05,
          20770.29,
          20672.91,
          20719.09,
          20698.14,
          20749.76,
          20717,
          20735.69,
          20617.71,
          20750.59,
          20732.83,
          20722.23,
          20694.03,
          20705.79,
          20787.58,
          20908.28,
          20869.2,
          20920.23,
          20817.94,
          20870.15,
          20905.69,
          20900.62,
          20911.27,
          20871.5,
          20966.58,
          21182.87,
          21209.31,
          21075.68,
          21148.99,
          21187.16,
          21149.8,
          21109.23,
          20747.7,
          20824.08,
          20850.68,
          20817.56,
          20787.54,
          20827.47,
          20860.68,
          20994.17,
          20998.5,
          21103.99,
          21281.97,
          21308.57,
          21292,
          21132.36,
          21185.89,
          21185.65,
          21109.52,
          21041.3,
          21102.13,
          21124.57,
          21159.29,
          21151.21,
          21075.27,
          21133.65,
          21200.95,
          21174.92,
          21129.69,
          21219.75,
          21252.23,
          21235.07,
          21281.66,
          21176.06,
          21162.92,
          21220.78,
          21362.89,
          21336.46,
          21390.44,
          21312.63,
          21232.38,
          21134.81,
          21202.97,
          21243.96,
          21292.56,
          21258.54,
          21279.61,
          21311.33,
          21261.76,
          21307.94,
          21249.31,
          21230.09,
          21183.83,
          21204.67,
          21259.18,
          21403.31,
          21424.3,
          21042.73,
          20845.47,
          20887.85,
          20936.83,
          20906.54,
          20732.6,
          20780.36,
          20805.8,
          20677.47,
          20694.01,
          20716.95,
          20763.66,
          20748.04,
          20810.18,
          20814.82,
          20828.59,
          20818.95,
          20769.06,
          20795.39,
          20796.47,
          20743.72,
          20727.03,
          20776.95,
          20799.4,
          20876.44,
          20875.41,
          20841.16,
          20977.73,
          21090.95,
          21102.44,
          20932.98,
          21065.23,
          21071.59,
          21054.74,
          21117.28,
          21079.66,
          21087.74,
          20991.01,
          20982.27,
          20943.73,
          20959.44,
          20946.15,
          20959.17,
          20962.16,
          20963.51,
          21089.54,
          21058.68,
          21153.97,
          21144.77,
          21313.29,
          21353.61,
          21384.49,
          21496.67,
          22288.37,
          22315.41,
          22595.08,
          22667.21,
          22576.17,
          22563.99,
          22551.05,
          22547.35,
          22597.96,
          22573.98,
          22620.93,
          22638.36,
          22700.63,
          23037.49,
          22777.52,
          22905.65,
          23039.5,
          22930.04,
          22955.26,
          22998.9,
          23197.45,
          23226.65,
          23248.52,
          23270.5,
          23093.38,
          23204.64,
          22759.71,
          22783.55,
          22877.48,
          22792.13,
          22707.64,
          22758.3,
          22847.79,
          22878.37,
          22919.67,
          22895.2,
          22909.76,
          22856.68,
          22872.97,
          22783.61,
          22869.56,
          22897.79,
          22990.41,
          22794.51,
          22819.28,
          22922.34,
          22838,
          22722.15,
          22459.46,
          22585.37,
          22676.48,
          22707.88,
          22745.28,
          22699.37,
          22752.05,
          22661.02,
          22758.32,
          22723.63,
          22773.33,
          22695.9,
          22719.28,
          22784.18,
          22909.95,
          22904.58,
          22910.74,
          22798.41,
          22622.05,
          22853.14,
          22911.17,
          23065.22,
          22936.2,
          22792.47,
          23022.64,
          22996,
          22925.32,
          22916.45,
          22986.44,
          23089.46,
          23036.68,
          23079.27,
          23072.15,
          23118.17,
          23095.63,
          23054.08,
          23053.12,
          22852.79,
          22902.51,
          22917.66,
          22964.13,
          22859.93,
          22859.1,
          22931.36,
          22875.18,
          22913.49,
          22999.85,
          23018.53,
          23010.34,
          22902.84,
          22755.52,
          22632.89,
          22652.23,
          22490.64,
          22549.89,
          22643.61,
          22624.83,
          22670.72,
          22713.76,
          22712.45,
          22659.72,
          22607.26,
          22611.9,
          22598.47,
          22694.23,
          22595.72,
          22435.47,
          22577.86,
          22629.75,
          22568.94,
          22724.9,
          22748.86,
          22938.09,
          23592.55,
          22932.2,
          23060.94,
          23240.42,
          23163.24,
          23178.98,
          23136.16,
          23179.35,
          23147.48,
          23087.87,
          22966.73,
          23003.87,
          22970.7,
          22939.26,
          22992.94,
          23120.96,
          23128.35,
          23039.35,
          22958.02,
          23003.98,
          22982.85,
          23037.16,
          23070,
          23112.57,
          23081.77,
          23003.79,
          23009.65,
          22925.5,
          22647.48,
          22781.67,
          22772.62,
          22802.81,
          23034.92,
          23002.92,
          23072.77,
          22964.51,
          22947.87,
          22948.04,
          22967.47,
          22932.41,
          22899.82,
          22967.66,
          22933.96,
          23129.72,
          23204.74,
          23183.91,
          23253.06,
          23108.82,
          23080.88,
          23008.22,
          23074.16,
          23151.84,
          23090.53,
          23086.84,
          23117.44,
          23092.24,
          23066.38,
          23038.21,
          22991.51,
          22978.64,
          22998.6,
          22974.47,
          22981.51,
          22955.25,
          22970.1,
          22949.43,
          23012.54,
          23018.14,
          23018.96,
          22998.31,
          23039.35,
          22966.91,
          23001.41,
          22977.63,
          23022.6,
          23112.95,
          23232.32,
          23143.08,
          23193.43,
          23228.89,
          23249.5,
          23198.58,
          23203.86,
          23172.28,
          23296.8,
          23448.03,
          23432.17,
          23478.21,
          23538.94,
          23538.58,
          23525.09,
          23586.44,
          23591.38,
          23678.99,
          23897.84,
          23698.65,
          23794.2,
          23765.93,
          23742.3,
          23751.43,
          23670.08,
          23645.76,
          23701.44,
          23717.76,
          23728.71,
          23692.38,
          23642.81,
          23548.76,
          23191.2,
          23243.54,
          23077.47,
          23076.27,
          23057.19,
          23287.7,
          23178.51,
          23170.38,
          23108.94,
          23138.83,
          22784.86,
          22697.83,
          22743.7,
          22729.81,
          22826.15,
          22828.32,
          22830.23,
          22857.93,
          22835.01,
          22861.59,
          22759.14,
          22812.12,
          22978.24
         ],
         "yaxis": "y3"
        },
        {
         "legendgroup": "3",
         "marker": {
          "color": "#228b22",
          "size": 10,
          "symbol": "circle"
         },
         "mode": "markers",
         "name": "Long",
         "type": "scatter",
         "x": [
          "2023-01-01 01:00:00.000000",
          "2023-01-01 02:00:00.000000",
          "2023-01-01 03:00:00.000000",
          "2023-01-01 04:00:00.000000",
          "2023-01-01 05:00:00.000000",
          "2023-01-01 06:00:00.000000",
          "2023-01-01 07:00:00.000000",
          "2023-01-01 08:00:00.000000",
          "2023-01-01 09:00:00.000000",
          "2023-01-01 10:00:00.000000",
          "2023-01-01 11:00:00.000000",
          "2023-01-01 12:00:00.000000",
          "2023-01-01 13:00:00.000000",
          "2023-01-01 14:00:00.000000",
          "2023-01-01 16:00:00.000000",
          "2023-01-01 17:00:00.000000",
          "2023-01-01 18:00:00.000000",
          "2023-01-01 19:00:00.000000",
          "2023-01-01 20:00:00.000000",
          "2023-01-01 21:00:00.000000",
          "2023-01-01 22:00:00.000000",
          "2023-01-01 23:00:00.000000",
          "2023-01-02 00:00:00.000000",
          "2023-01-02 01:00:00.000000",
          "2023-01-02 02:00:00.000000",
          "2023-01-02 03:00:00.000000",
          "2023-01-02 04:00:00.000000",
          "2023-01-02 05:00:00.000000",
          "2023-01-02 06:00:00.000000",
          "2023-01-02 07:00:00.000000",
          "2023-01-02 08:00:00.000000",
          "2023-01-02 09:00:00.000000",
          "2023-01-02 10:00:00.000000",
          "2023-01-02 11:00:00.000000",
          "2023-01-02 12:00:00.000000",
          "2023-01-02 13:00:00.000000",
          "2023-01-02 14:00:00.000000",
          "2023-01-02 15:00:00.000000",
          "2023-01-02 16:00:00.000000",
          "2023-01-02 17:00:00.000000",
          "2023-01-02 18:00:00.000000",
          "2023-01-02 19:00:00.000000",
          "2023-01-02 20:00:00.000000",
          "2023-01-02 21:00:00.000000",
          "2023-01-02 22:00:00.000000",
          "2023-01-02 23:00:00.000000",
          "2023-01-03 00:00:00.000000",
          "2023-01-03 01:00:00.000000",
          "2023-01-03 03:00:00.000000",
          "2023-01-03 04:00:00.000000",
          "2023-01-03 05:00:00.000000",
          "2023-01-03 06:00:00.000000",
          "2023-01-03 07:00:00.000000",
          "2023-01-03 08:00:00.000000",
          "2023-01-03 09:00:00.000000",
          "2023-01-03 10:00:00.000000",
          "2023-01-03 11:00:00.000000",
          "2023-01-03 12:00:00.000000",
          "2023-01-03 13:00:00.000000",
          "2023-01-03 14:00:00.000000",
          "2023-01-03 15:00:00.000000",
          "2023-01-03 17:00:00.000000",
          "2023-01-03 18:00:00.000000",
          "2023-01-03 19:00:00.000000",
          "2023-01-03 20:00:00.000000",
          "2023-01-03 21:00:00.000000",
          "2023-01-03 22:00:00.000000",
          "2023-01-03 23:00:00.000000",
          "2023-01-04 00:00:00.000000",
          "2023-01-04 01:00:00.000000",
          "2023-01-04 02:00:00.000000",
          "2023-01-04 03:00:00.000000",
          "2023-01-04 04:00:00.000000",
          "2023-01-04 05:00:00.000000",
          "2023-01-04 06:00:00.000000",
          "2023-01-04 08:00:00.000000",
          "2023-01-04 09:00:00.000000",
          "2023-01-04 10:00:00.000000",
          "2023-01-04 11:00:00.000000",
          "2023-01-04 12:00:00.000000",
          "2023-01-04 13:00:00.000000",
          "2023-01-04 14:00:00.000000",
          "2023-01-04 15:00:00.000000",
          "2023-01-04 16:00:00.000000",
          "2023-01-04 17:00:00.000000",
          "2023-01-04 18:00:00.000000",
          "2023-01-04 19:00:00.000000",
          "2023-01-04 20:00:00.000000",
          "2023-01-04 21:00:00.000000",
          "2023-01-04 22:00:00.000000",
          "2023-01-04 23:00:00.000000",
          "2023-01-05 00:00:00.000000",
          "2023-01-05 01:00:00.000000",
          "2023-01-05 02:00:00.000000",
          "2023-01-05 03:00:00.000000",
          "2023-01-05 04:00:00.000000",
          "2023-01-05 05:00:00.000000",
          "2023-01-05 06:00:00.000000",
          "2023-01-05 07:00:00.000000",
          "2023-01-05 08:00:00.000000",
          "2023-01-05 09:00:00.000000",
          "2023-01-05 10:00:00.000000",
          "2023-01-05 11:00:00.000000",
          "2023-01-05 12:00:00.000000",
          "2023-01-05 13:00:00.000000",
          "2023-01-05 14:00:00.000000",
          "2023-01-05 15:00:00.000000",
          "2023-01-05 16:00:00.000000",
          "2023-01-05 17:00:00.000000",
          "2023-01-05 18:00:00.000000",
          "2023-01-05 19:00:00.000000",
          "2023-01-05 20:00:00.000000",
          "2023-01-05 21:00:00.000000",
          "2023-01-05 22:00:00.000000",
          "2023-01-05 23:00:00.000000",
          "2023-01-06 00:00:00.000000",
          "2023-01-06 01:00:00.000000",
          "2023-01-06 02:00:00.000000",
          "2023-01-06 03:00:00.000000",
          "2023-01-06 04:00:00.000000",
          "2023-01-06 05:00:00.000000",
          "2023-01-06 06:00:00.000000",
          "2023-01-06 07:00:00.000000",
          "2023-01-06 09:00:00.000000",
          "2023-01-06 10:00:00.000000",
          "2023-01-06 11:00:00.000000",
          "2023-01-06 13:00:00.000000",
          "2023-01-06 14:00:00.000000",
          "2023-01-06 15:00:00.000000",
          "2023-01-06 16:00:00.000000",
          "2023-01-06 17:00:00.000000",
          "2023-01-06 18:00:00.000000",
          "2023-01-06 19:00:00.000000",
          "2023-01-06 20:00:00.000000",
          "2023-01-06 21:00:00.000000",
          "2023-01-06 22:00:00.000000",
          "2023-01-07 00:00:00.000000",
          "2023-01-07 01:00:00.000000",
          "2023-01-07 02:00:00.000000",
          "2023-01-07 03:00:00.000000",
          "2023-01-07 04:00:00.000000",
          "2023-01-07 05:00:00.000000",
          "2023-01-07 06:00:00.000000",
          "2023-01-07 07:00:00.000000",
          "2023-01-07 08:00:00.000000",
          "2023-01-07 09:00:00.000000",
          "2023-01-07 10:00:00.000000",
          "2023-01-07 11:00:00.000000",
          "2023-01-07 12:00:00.000000",
          "2023-01-07 13:00:00.000000",
          "2023-01-07 14:00:00.000000",
          "2023-01-07 16:00:00.000000",
          "2023-01-07 17:00:00.000000",
          "2023-01-07 18:00:00.000000",
          "2023-01-07 19:00:00.000000",
          "2023-01-07 20:00:00.000000",
          "2023-01-07 21:00:00.000000",
          "2023-01-07 22:00:00.000000",
          "2023-01-07 23:00:00.000000",
          "2023-01-08 00:00:00.000000",
          "2023-01-08 01:00:00.000000",
          "2023-01-08 02:00:00.000000",
          "2023-01-08 03:00:00.000000",
          "2023-01-08 04:00:00.000000",
          "2023-01-08 05:00:00.000000",
          "2023-01-08 06:00:00.000000",
          "2023-01-08 07:00:00.000000",
          "2023-01-08 08:00:00.000000",
          "2023-01-08 09:00:00.000000",
          "2023-01-08 10:00:00.000000",
          "2023-01-08 11:00:00.000000",
          "2023-01-08 12:00:00.000000",
          "2023-01-08 13:00:00.000000",
          "2023-01-08 14:00:00.000000",
          "2023-01-08 15:00:00.000000",
          "2023-01-08 16:00:00.000000",
          "2023-01-08 17:00:00.000000",
          "2023-01-08 18:00:00.000000",
          "2023-01-08 19:00:00.000000",
          "2023-01-08 20:00:00.000000",
          "2023-01-08 21:00:00.000000",
          "2023-01-08 22:00:00.000000",
          "2023-01-08 23:00:00.000000",
          "2023-01-09 00:00:00.000000",
          "2023-01-09 01:00:00.000000",
          "2023-01-09 02:00:00.000000",
          "2023-01-09 03:00:00.000000",
          "2023-01-09 04:00:00.000000",
          "2023-01-09 05:00:00.000000",
          "2023-01-09 06:00:00.000000",
          "2023-01-09 07:00:00.000000",
          "2023-01-09 08:00:00.000000",
          "2023-01-09 09:00:00.000000",
          "2023-01-09 10:00:00.000000",
          "2023-01-09 11:00:00.000000",
          "2023-01-09 12:00:00.000000",
          "2023-01-09 13:00:00.000000",
          "2023-01-09 14:00:00.000000",
          "2023-01-09 15:00:00.000000",
          "2023-01-09 16:00:00.000000",
          "2023-01-09 17:00:00.000000",
          "2023-01-09 18:00:00.000000",
          "2023-01-09 19:00:00.000000",
          "2023-01-09 20:00:00.000000",
          "2023-01-09 21:00:00.000000",
          "2023-01-09 22:00:00.000000",
          "2023-01-09 23:00:00.000000",
          "2023-01-10 00:00:00.000000",
          "2023-01-10 01:00:00.000000",
          "2023-01-10 02:00:00.000000",
          "2023-01-10 03:00:00.000000",
          "2023-01-10 04:00:00.000000",
          "2023-01-10 05:00:00.000000",
          "2023-01-10 06:00:00.000000",
          "2023-01-10 07:00:00.000000",
          "2023-01-10 08:00:00.000000",
          "2023-01-10 09:00:00.000000",
          "2023-01-10 10:00:00.000000",
          "2023-01-10 11:00:00.000000",
          "2023-01-10 12:00:00.000000",
          "2023-01-10 13:00:00.000000",
          "2023-01-10 14:00:00.000000",
          "2023-01-10 15:00:00.000000",
          "2023-01-10 16:00:00.000000",
          "2023-01-10 17:00:00.000000",
          "2023-01-10 18:00:00.000000",
          "2023-01-10 19:00:00.000000",
          "2023-01-10 20:00:00.000000",
          "2023-01-10 21:00:00.000000",
          "2023-01-10 22:00:00.000000",
          "2023-01-10 23:00:00.000000",
          "2023-01-11 00:00:00.000000",
          "2023-01-11 01:00:00.000000",
          "2023-01-11 02:00:00.000000",
          "2023-01-11 03:00:00.000000",
          "2023-01-11 04:00:00.000000",
          "2023-01-11 05:00:00.000000",
          "2023-01-11 06:00:00.000000",
          "2023-01-11 07:00:00.000000",
          "2023-01-11 08:00:00.000000",
          "2023-01-11 09:00:00.000000",
          "2023-01-11 10:00:00.000000",
          "2023-01-11 11:00:00.000000",
          "2023-01-11 12:00:00.000000",
          "2023-01-11 13:00:00.000000",
          "2023-01-11 14:00:00.000000",
          "2023-01-11 15:00:00.000000",
          "2023-01-11 16:00:00.000000",
          "2023-01-11 17:00:00.000000",
          "2023-01-11 18:00:00.000000",
          "2023-01-11 19:00:00.000000",
          "2023-01-11 21:00:00.000000",
          "2023-01-11 22:00:00.000000",
          "2023-01-11 23:00:00.000000",
          "2023-01-12 00:00:00.000000",
          "2023-01-12 01:00:00.000000",
          "2023-01-12 02:00:00.000000",
          "2023-01-12 03:00:00.000000",
          "2023-01-12 04:00:00.000000",
          "2023-01-12 05:00:00.000000",
          "2023-01-12 06:00:00.000000",
          "2023-01-12 07:00:00.000000",
          "2023-01-12 08:00:00.000000",
          "2023-01-12 09:00:00.000000",
          "2023-01-12 10:00:00.000000",
          "2023-01-12 11:00:00.000000",
          "2023-01-12 12:00:00.000000",
          "2023-01-12 13:00:00.000000",
          "2023-01-12 14:00:00.000000",
          "2023-01-12 15:00:00.000000",
          "2023-01-12 16:00:00.000000",
          "2023-01-12 17:00:00.000000",
          "2023-01-12 18:00:00.000000",
          "2023-01-12 20:00:00.000000",
          "2023-01-12 21:00:00.000000",
          "2023-01-12 22:00:00.000000",
          "2023-01-12 23:00:00.000000",
          "2023-01-13 00:00:00.000000",
          "2023-01-13 01:00:00.000000",
          "2023-01-13 02:00:00.000000",
          "2023-01-13 03:00:00.000000",
          "2023-01-13 04:00:00.000000",
          "2023-01-13 05:00:00.000000",
          "2023-01-13 06:00:00.000000",
          "2023-01-13 08:00:00.000000",
          "2023-01-13 09:00:00.000000",
          "2023-01-13 10:00:00.000000",
          "2023-01-13 11:00:00.000000",
          "2023-01-13 12:00:00.000000",
          "2023-01-13 13:00:00.000000",
          "2023-01-13 14:00:00.000000",
          "2023-01-13 15:00:00.000000",
          "2023-01-13 16:00:00.000000",
          "2023-01-13 17:00:00.000000",
          "2023-01-13 18:00:00.000000",
          "2023-01-13 19:00:00.000000",
          "2023-01-13 20:00:00.000000",
          "2023-01-13 21:00:00.000000",
          "2023-01-13 22:00:00.000000",
          "2023-01-13 23:00:00.000000",
          "2023-01-14 00:00:00.000000",
          "2023-01-14 01:00:00.000000",
          "2023-01-14 02:00:00.000000",
          "2023-01-14 03:00:00.000000",
          "2023-01-14 04:00:00.000000",
          "2023-01-14 05:00:00.000000",
          "2023-01-14 06:00:00.000000",
          "2023-01-14 07:00:00.000000",
          "2023-01-14 08:00:00.000000",
          "2023-01-14 09:00:00.000000",
          "2023-01-14 10:00:00.000000",
          "2023-01-14 11:00:00.000000",
          "2023-01-14 12:00:00.000000",
          "2023-01-14 13:00:00.000000",
          "2023-01-14 15:00:00.000000",
          "2023-01-14 16:00:00.000000",
          "2023-01-14 17:00:00.000000",
          "2023-01-14 18:00:00.000000",
          "2023-01-14 19:00:00.000000",
          "2023-01-14 20:00:00.000000",
          "2023-01-14 21:00:00.000000",
          "2023-01-14 22:00:00.000000",
          "2023-01-14 23:00:00.000000",
          "2023-01-15 00:00:00.000000",
          "2023-01-15 01:00:00.000000",
          "2023-01-15 02:00:00.000000",
          "2023-01-15 03:00:00.000000",
          "2023-01-15 04:00:00.000000",
          "2023-01-15 05:00:00.000000",
          "2023-01-15 06:00:00.000000",
          "2023-01-15 07:00:00.000000",
          "2023-01-15 08:00:00.000000",
          "2023-01-15 09:00:00.000000",
          "2023-01-15 10:00:00.000000",
          "2023-01-15 11:00:00.000000",
          "2023-01-15 12:00:00.000000",
          "2023-01-15 13:00:00.000000",
          "2023-01-15 14:00:00.000000",
          "2023-01-15 15:00:00.000000",
          "2023-01-15 16:00:00.000000",
          "2023-01-15 17:00:00.000000",
          "2023-01-15 18:00:00.000000",
          "2023-01-15 19:00:00.000000",
          "2023-01-15 20:00:00.000000",
          "2023-01-15 21:00:00.000000",
          "2023-01-15 22:00:00.000000",
          "2023-01-15 23:00:00.000000",
          "2023-01-16 00:00:00.000000",
          "2023-01-16 01:00:00.000000",
          "2023-01-16 02:00:00.000000",
          "2023-01-16 03:00:00.000000",
          "2023-01-16 04:00:00.000000",
          "2023-01-16 05:00:00.000000",
          "2023-01-16 06:00:00.000000",
          "2023-01-16 07:00:00.000000",
          "2023-01-16 08:00:00.000000",
          "2023-01-16 09:00:00.000000",
          "2023-01-16 10:00:00.000000",
          "2023-01-16 11:00:00.000000",
          "2023-01-16 12:00:00.000000",
          "2023-01-16 13:00:00.000000",
          "2023-01-16 14:00:00.000000",
          "2023-01-16 15:00:00.000000",
          "2023-01-16 17:00:00.000000",
          "2023-01-16 18:00:00.000000",
          "2023-01-16 19:00:00.000000",
          "2023-01-16 20:00:00.000000",
          "2023-01-16 21:00:00.000000",
          "2023-01-16 22:00:00.000000",
          "2023-01-16 23:00:00.000000",
          "2023-01-17 00:00:00.000000",
          "2023-01-17 01:00:00.000000",
          "2023-01-17 02:00:00.000000",
          "2023-01-17 03:00:00.000000",
          "2023-01-17 04:00:00.000000",
          "2023-01-17 05:00:00.000000",
          "2023-01-17 06:00:00.000000",
          "2023-01-17 07:00:00.000000",
          "2023-01-17 08:00:00.000000",
          "2023-01-17 09:00:00.000000",
          "2023-01-17 10:00:00.000000",
          "2023-01-17 11:00:00.000000",
          "2023-01-17 12:00:00.000000",
          "2023-01-17 13:00:00.000000",
          "2023-01-17 14:00:00.000000",
          "2023-01-17 15:00:00.000000",
          "2023-01-17 16:00:00.000000",
          "2023-01-17 17:00:00.000000",
          "2023-01-17 18:00:00.000000",
          "2023-01-17 19:00:00.000000",
          "2023-01-17 20:00:00.000000",
          "2023-01-17 21:00:00.000000",
          "2023-01-17 22:00:00.000000",
          "2023-01-17 23:00:00.000000",
          "2023-01-18 00:00:00.000000",
          "2023-01-18 01:00:00.000000",
          "2023-01-18 02:00:00.000000",
          "2023-01-18 03:00:00.000000",
          "2023-01-18 04:00:00.000000",
          "2023-01-18 05:00:00.000000",
          "2023-01-18 06:00:00.000000",
          "2023-01-18 07:00:00.000000",
          "2023-01-18 08:00:00.000000",
          "2023-01-18 09:00:00.000000",
          "2023-01-18 10:00:00.000000",
          "2023-01-18 11:00:00.000000",
          "2023-01-18 12:00:00.000000",
          "2023-01-18 13:00:00.000000",
          "2023-01-18 14:00:00.000000",
          "2023-01-18 15:00:00.000000",
          "2023-01-18 16:00:00.000000",
          "2023-01-18 17:00:00.000000",
          "2023-01-18 18:00:00.000000",
          "2023-01-18 19:00:00.000000",
          "2023-01-18 20:00:00.000000",
          "2023-01-18 21:00:00.000000",
          "2023-01-18 22:00:00.000000",
          "2023-01-18 23:00:00.000000",
          "2023-01-19 00:00:00.000000",
          "2023-01-19 01:00:00.000000",
          "2023-01-19 02:00:00.000000",
          "2023-01-19 03:00:00.000000",
          "2023-01-19 04:00:00.000000",
          "2023-01-19 05:00:00.000000",
          "2023-01-19 06:00:00.000000",
          "2023-01-19 07:00:00.000000",
          "2023-01-19 08:00:00.000000",
          "2023-01-19 09:00:00.000000",
          "2023-01-19 10:00:00.000000",
          "2023-01-19 11:00:00.000000",
          "2023-01-19 12:00:00.000000",
          "2023-01-19 13:00:00.000000",
          "2023-01-19 14:00:00.000000",
          "2023-01-19 15:00:00.000000",
          "2023-01-19 16:00:00.000000",
          "2023-01-19 17:00:00.000000",
          "2023-01-19 18:00:00.000000",
          "2023-01-19 19:00:00.000000",
          "2023-01-19 20:00:00.000000",
          "2023-01-19 21:00:00.000000",
          "2023-01-19 22:00:00.000000",
          "2023-01-19 23:00:00.000000",
          "2023-01-20 00:00:00.000000",
          "2023-01-20 01:00:00.000000",
          "2023-01-20 02:00:00.000000",
          "2023-01-20 03:00:00.000000",
          "2023-01-20 04:00:00.000000",
          "2023-01-20 05:00:00.000000",
          "2023-01-20 06:00:00.000000",
          "2023-01-20 07:00:00.000000",
          "2023-01-20 08:00:00.000000",
          "2023-01-20 09:00:00.000000",
          "2023-01-20 10:00:00.000000",
          "2023-01-20 11:00:00.000000",
          "2023-01-20 12:00:00.000000",
          "2023-01-20 13:00:00.000000",
          "2023-01-20 14:00:00.000000",
          "2023-01-20 15:00:00.000000",
          "2023-01-20 16:00:00.000000",
          "2023-01-20 17:00:00.000000",
          "2023-01-20 18:00:00.000000",
          "2023-01-20 19:00:00.000000",
          "2023-01-20 20:00:00.000000",
          "2023-01-20 21:00:00.000000",
          "2023-01-20 22:00:00.000000",
          "2023-01-20 23:00:00.000000",
          "2023-01-21 00:00:00.000000",
          "2023-01-21 01:00:00.000000",
          "2023-01-21 02:00:00.000000",
          "2023-01-21 03:00:00.000000",
          "2023-01-21 04:00:00.000000",
          "2023-01-21 05:00:00.000000",
          "2023-01-21 06:00:00.000000",
          "2023-01-21 07:00:00.000000",
          "2023-01-21 08:00:00.000000",
          "2023-01-21 09:00:00.000000",
          "2023-01-21 10:00:00.000000",
          "2023-01-21 11:00:00.000000",
          "2023-01-21 12:00:00.000000",
          "2023-01-21 13:00:00.000000",
          "2023-01-21 14:00:00.000000",
          "2023-01-21 15:00:00.000000",
          "2023-01-21 16:00:00.000000",
          "2023-01-21 17:00:00.000000",
          "2023-01-21 18:00:00.000000",
          "2023-01-21 19:00:00.000000",
          "2023-01-21 20:00:00.000000",
          "2023-01-21 21:00:00.000000",
          "2023-01-21 22:00:00.000000",
          "2023-01-21 23:00:00.000000",
          "2023-01-22 00:00:00.000000",
          "2023-01-22 01:00:00.000000",
          "2023-01-22 02:00:00.000000",
          "2023-01-22 03:00:00.000000",
          "2023-01-22 04:00:00.000000",
          "2023-01-22 05:00:00.000000",
          "2023-01-22 06:00:00.000000",
          "2023-01-22 07:00:00.000000",
          "2023-01-22 08:00:00.000000",
          "2023-01-22 09:00:00.000000",
          "2023-01-22 10:00:00.000000",
          "2023-01-22 11:00:00.000000",
          "2023-01-22 12:00:00.000000",
          "2023-01-22 13:00:00.000000",
          "2023-01-22 14:00:00.000000",
          "2023-01-22 15:00:00.000000",
          "2023-01-22 16:00:00.000000",
          "2023-01-22 17:00:00.000000",
          "2023-01-22 19:00:00.000000",
          "2023-01-22 20:00:00.000000",
          "2023-01-22 21:00:00.000000",
          "2023-01-22 22:00:00.000000",
          "2023-01-22 23:00:00.000000",
          "2023-01-23 00:00:00.000000",
          "2023-01-23 01:00:00.000000",
          "2023-01-23 02:00:00.000000",
          "2023-01-23 03:00:00.000000",
          "2023-01-23 04:00:00.000000",
          "2023-01-23 05:00:00.000000",
          "2023-01-23 06:00:00.000000",
          "2023-01-23 07:00:00.000000",
          "2023-01-23 08:00:00.000000",
          "2023-01-23 09:00:00.000000",
          "2023-01-23 10:00:00.000000",
          "2023-01-23 11:00:00.000000",
          "2023-01-23 12:00:00.000000",
          "2023-01-23 13:00:00.000000",
          "2023-01-23 14:00:00.000000",
          "2023-01-23 15:00:00.000000",
          "2023-01-23 16:00:00.000000",
          "2023-01-23 17:00:00.000000",
          "2023-01-23 18:00:00.000000",
          "2023-01-23 19:00:00.000000",
          "2023-01-23 20:00:00.000000",
          "2023-01-23 21:00:00.000000",
          "2023-01-23 22:00:00.000000",
          "2023-01-23 23:00:00.000000",
          "2023-01-24 00:00:00.000000",
          "2023-01-24 02:00:00.000000",
          "2023-01-24 03:00:00.000000",
          "2023-01-24 04:00:00.000000",
          "2023-01-24 05:00:00.000000",
          "2023-01-24 06:00:00.000000",
          "2023-01-24 07:00:00.000000",
          "2023-01-24 08:00:00.000000",
          "2023-01-24 09:00:00.000000",
          "2023-01-24 10:00:00.000000",
          "2023-01-24 11:00:00.000000",
          "2023-01-24 12:00:00.000000",
          "2023-01-24 13:00:00.000000",
          "2023-01-24 14:00:00.000000",
          "2023-01-24 15:00:00.000000",
          "2023-01-24 16:00:00.000000",
          "2023-01-24 17:00:00.000000",
          "2023-01-24 18:00:00.000000",
          "2023-01-24 19:00:00.000000",
          "2023-01-24 20:00:00.000000",
          "2023-01-24 21:00:00.000000",
          "2023-01-24 22:00:00.000000",
          "2023-01-24 23:00:00.000000",
          "2023-01-25 01:00:00.000000",
          "2023-01-25 02:00:00.000000",
          "2023-01-25 03:00:00.000000",
          "2023-01-25 04:00:00.000000",
          "2023-01-25 05:00:00.000000",
          "2023-01-25 06:00:00.000000",
          "2023-01-25 07:00:00.000000",
          "2023-01-25 08:00:00.000000",
          "2023-01-25 09:00:00.000000",
          "2023-01-25 11:00:00.000000",
          "2023-01-25 12:00:00.000000",
          "2023-01-25 13:00:00.000000",
          "2023-01-25 14:00:00.000000",
          "2023-01-25 15:00:00.000000",
          "2023-01-25 16:00:00.000000",
          "2023-01-25 17:00:00.000000",
          "2023-01-25 18:00:00.000000",
          "2023-01-25 19:00:00.000000",
          "2023-01-25 21:00:00.000000",
          "2023-01-25 22:00:00.000000",
          "2023-01-25 23:00:00.000000",
          "2023-01-26 00:00:00.000000",
          "2023-01-26 01:00:00.000000",
          "2023-01-26 02:00:00.000000",
          "2023-01-26 03:00:00.000000",
          "2023-01-26 04:00:00.000000",
          "2023-01-26 05:00:00.000000",
          "2023-01-26 06:00:00.000000",
          "2023-01-26 07:00:00.000000",
          "2023-01-26 08:00:00.000000",
          "2023-01-26 09:00:00.000000",
          "2023-01-26 10:00:00.000000",
          "2023-01-26 11:00:00.000000",
          "2023-01-26 13:00:00.000000",
          "2023-01-26 14:00:00.000000",
          "2023-01-26 15:00:00.000000",
          "2023-01-26 16:00:00.000000",
          "2023-01-26 17:00:00.000000",
          "2023-01-26 18:00:00.000000",
          "2023-01-26 19:00:00.000000",
          "2023-01-26 20:00:00.000000",
          "2023-01-26 21:00:00.000000",
          "2023-01-26 22:00:00.000000",
          "2023-01-26 23:00:00.000000",
          "2023-01-27 00:00:00.000000",
          "2023-01-27 01:00:00.000000",
          "2023-01-27 02:00:00.000000",
          "2023-01-27 03:00:00.000000",
          "2023-01-27 04:00:00.000000",
          "2023-01-27 05:00:00.000000",
          "2023-01-27 06:00:00.000000",
          "2023-01-27 07:00:00.000000",
          "2023-01-27 08:00:00.000000",
          "2023-01-27 09:00:00.000000",
          "2023-01-27 10:00:00.000000",
          "2023-01-27 11:00:00.000000",
          "2023-01-27 12:00:00.000000",
          "2023-01-27 13:00:00.000000",
          "2023-01-27 14:00:00.000000",
          "2023-01-27 15:00:00.000000",
          "2023-01-27 16:00:00.000000",
          "2023-01-27 17:00:00.000000",
          "2023-01-27 18:00:00.000000",
          "2023-01-27 19:00:00.000000",
          "2023-01-27 20:00:00.000000",
          "2023-01-27 21:00:00.000000",
          "2023-01-27 22:00:00.000000",
          "2023-01-27 23:00:00.000000",
          "2023-01-28 00:00:00.000000",
          "2023-01-28 01:00:00.000000",
          "2023-01-28 02:00:00.000000",
          "2023-01-28 03:00:00.000000",
          "2023-01-28 04:00:00.000000",
          "2023-01-28 05:00:00.000000",
          "2023-01-28 06:00:00.000000",
          "2023-01-28 07:00:00.000000",
          "2023-01-28 08:00:00.000000",
          "2023-01-28 09:00:00.000000",
          "2023-01-28 10:00:00.000000",
          "2023-01-28 11:00:00.000000",
          "2023-01-28 12:00:00.000000",
          "2023-01-28 13:00:00.000000",
          "2023-01-28 14:00:00.000000",
          "2023-01-28 15:00:00.000000",
          "2023-01-28 16:00:00.000000",
          "2023-01-28 17:00:00.000000",
          "2023-01-28 18:00:00.000000",
          "2023-01-28 19:00:00.000000",
          "2023-01-28 20:00:00.000000",
          "2023-01-28 21:00:00.000000",
          "2023-01-28 22:00:00.000000",
          "2023-01-28 23:00:00.000000",
          "2023-01-29 00:00:00.000000",
          "2023-01-29 01:00:00.000000",
          "2023-01-29 02:00:00.000000",
          "2023-01-29 04:00:00.000000",
          "2023-01-29 05:00:00.000000",
          "2023-01-29 06:00:00.000000",
          "2023-01-29 07:00:00.000000",
          "2023-01-29 08:00:00.000000",
          "2023-01-29 09:00:00.000000",
          "2023-01-29 10:00:00.000000",
          "2023-01-29 11:00:00.000000",
          "2023-01-29 12:00:00.000000",
          "2023-01-29 13:00:00.000000",
          "2023-01-29 14:00:00.000000",
          "2023-01-29 15:00:00.000000",
          "2023-01-29 16:00:00.000000",
          "2023-01-29 17:00:00.000000",
          "2023-01-29 18:00:00.000000",
          "2023-01-29 19:00:00.000000",
          "2023-01-29 20:00:00.000000",
          "2023-01-29 21:00:00.000000",
          "2023-01-29 22:00:00.000000",
          "2023-01-29 23:00:00.000000",
          "2023-01-30 00:00:00.000000",
          "2023-01-30 01:00:00.000000",
          "2023-01-30 02:00:00.000000",
          "2023-01-30 03:00:00.000000",
          "2023-01-30 04:00:00.000000",
          "2023-01-30 05:00:00.000000",
          "2023-01-30 06:00:00.000000",
          "2023-01-30 07:00:00.000000",
          "2023-01-30 08:00:00.000000",
          "2023-01-30 09:00:00.000000",
          "2023-01-30 10:00:00.000000",
          "2023-01-30 11:00:00.000000",
          "2023-01-30 12:00:00.000000",
          "2023-01-30 13:00:00.000000",
          "2023-01-30 14:00:00.000000",
          "2023-01-30 15:00:00.000000",
          "2023-01-30 16:00:00.000000",
          "2023-01-30 17:00:00.000000",
          "2023-01-30 18:00:00.000000",
          "2023-01-30 19:00:00.000000",
          "2023-01-30 20:00:00.000000",
          "2023-01-30 21:00:00.000000",
          "2023-01-30 22:00:00.000000",
          "2023-01-30 23:00:00.000000",
          "2023-01-31 00:00:00.000000",
          "2023-01-31 01:00:00.000000",
          "2023-01-31 02:00:00.000000",
          "2023-01-31 03:00:00.000000",
          "2023-01-31 04:00:00.000000",
          "2023-01-31 05:00:00.000000",
          "2023-01-31 06:00:00.000000",
          "2023-01-31 07:00:00.000000",
          "2023-01-31 08:00:00.000000"
         ],
         "xaxis": "x3",
         "y": [
          16529.67,
          16551.47,
          16548.19,
          16533.04,
          16521.85,
          16530.71,
          16539.79,
          16526.19,
          16513.34,
          16537.88,
          16548.34,
          16556.66,
          16560.93,
          16548.04,
          16558.73,
          16565.14,
          16578.85,
          16591.88,
          16603.08,
          16604.51,
          16606.68,
          16602.12,
          16616.75,
          16588.35,
          16565.04,
          16587.85,
          16661.94,
          16639.44,
          16647.58,
          16641.1,
          16721.28,
          16733.71,
          16717.5,
          16727.95,
          16735.11,
          16721.54,
          16694.78,
          16698.69,
          16734.66,
          16710.88,
          16715.42,
          16723.81,
          16737.56,
          16728.52,
          16757.76,
          16698.4,
          16672.87,
          16695.59,
          16674.03,
          16691.81,
          16685.64,
          16725.5,
          16727.58,
          16729.74,
          16715.22,
          16741.31,
          16724.32,
          16721.03,
          16710.85,
          16725.53,
          16661.23,
          16622.58,
          16633.65,
          16645.08,
          16643.37,
          16661.37,
          16664.63,
          16677.11,
          16675.18,
          16660.53,
          16701.97,
          16736.52,
          16862.02,
          16860.5,
          16857.57,
          16869.44,
          16864.95,
          16844.91,
          16844.92,
          16835.35,
          16812.19,
          16828.2,
          16830.12,
          16854.05,
          16858.85,
          16893.24,
          16948.04,
          16842.36,
          16806.49,
          16826.81,
          16826.68,
          16850.36,
          16828.45,
          16832.9,
          16836.8,
          16827.71,
          16836.41,
          16844.12,
          16817.13,
          16823.64,
          16807.53,
          16807.12,
          16825.08,
          16833.6,
          16822.13,
          16780.25,
          16829.59,
          16842.94,
          16838.28,
          16814.48,
          16841.93,
          16863.85,
          16859.02,
          16848.51,
          16837.85,
          16831.85,
          16859.78,
          16827.8,
          16837.06,
          16833.56,
          16822.99,
          16810.18,
          16786.86,
          16802.11,
          16787.1,
          16767.06,
          16731.02,
          16774.19,
          16748.82,
          16840.82,
          16827.21,
          16821.27,
          16850.45,
          16939.91,
          16897.48,
          16931.27,
          16950.65,
          16978.18,
          16950.02,
          16944.24,
          16952.46,
          16938.27,
          16934.28,
          16933.29,
          16948.09,
          16929.76,
          16928.51,
          16922.51,
          16918.3,
          16916.14,
          16919.34,
          16940.42,
          16922.79,
          16928.85,
          16938.12,
          16944.05,
          16945.77,
          16939.31,
          16936.31,
          16943.57,
          16926.66,
          16929.82,
          16931.18,
          16944.02,
          16934.75,
          16943.73,
          16950.92,
          16953.77,
          16946.07,
          16935.6,
          16936.41,
          16927.42,
          16923.75,
          16933.03,
          16952.44,
          17000.43,
          16936.87,
          16928.5,
          16929.84,
          16927.25,
          16966.67,
          16957.46,
          16963.14,
          17127.83,
          17184.51,
          17175.02,
          17191.47,
          17197,
          17226.49,
          17205.95,
          17189.24,
          17198.48,
          17191.68,
          17238.38,
          17264.5,
          17238.93,
          17249.06,
          17226.9,
          17264.25,
          17268.49,
          17327.84,
          17356.96,
          17350.71,
          17293.69,
          17221.29,
          17182.48,
          17204.83,
          17178.26,
          17219.19,
          17194.39,
          17185.94,
          17205.72,
          17221.68,
          17228.77,
          17203.95,
          17203.2,
          17256.34,
          17247.71,
          17271.02,
          17252.89,
          17224.15,
          17246.05,
          17286.59,
          17327.7,
          17302.15,
          17325.97,
          17433.95,
          17432.85,
          17477.15,
          17463.56,
          17428.08,
          17440.66,
          17466.02,
          17458.05,
          17388.2,
          17416.14,
          17408.39,
          17406.3,
          17437.29,
          17446.65,
          17447.6,
          17446.71,
          17441.24,
          17437.75,
          17418.56,
          17413.43,
          17413.97,
          17332.43,
          17347.62,
          17382.08,
          17487.09,
          17550.57,
          17558.6,
          17556.41,
          17943.26,
          18264.1,
          18221.51,
          18207.54,
          18224.68,
          18215.66,
          18087.54,
          18147.77,
          18138.22,
          18151.52,
          18164.67,
          18185.6,
          18200.8,
          18268.94,
          18284.91,
          17998.56,
          18086.62,
          18134.55,
          18837.06,
          18885.35,
          19048.95,
          18830.07,
          18913.92,
          18846.62,
          18771.61,
          18811.48,
          18835.48,
          18876.37,
          18821.27,
          18787.71,
          18824.25,
          18842.15,
          18910.23,
          19042.01,
          18920.95,
          18864.59,
          18854.84,
          18996.27,
          19261.19,
          19133.39,
          19256.06,
          19292.44,
          19362.01,
          19473.67,
          19816.81,
          19849.41,
          19930.01,
          20891.67,
          20927.44,
          20938.93,
          20967.23,
          20894.86,
          20841.62,
          20955.57,
          20897.36,
          21003.35,
          20523.75,
          20496.77,
          20721.73,
          20911.19,
          20834.4,
          20786.74,
          20810.66,
          20755.78,
          20757.99,
          20783.68,
          20877.47,
          20900.66,
          20989.97,
          20954.92,
          20767.05,
          20770.29,
          20672.91,
          20719.09,
          20698.14,
          20749.76,
          20717,
          20735.69,
          20617.71,
          20750.59,
          20732.83,
          20722.23,
          20694.03,
          20705.79,
          20787.58,
          20908.28,
          20869.2,
          20920.23,
          20817.94,
          20870.15,
          20905.69,
          20900.62,
          20911.27,
          20871.5,
          20966.58,
          21182.87,
          21209.31,
          21075.68,
          21148.99,
          21187.16,
          21149.8,
          21109.23,
          20747.7,
          20824.08,
          20850.68,
          20817.56,
          20787.54,
          20827.47,
          20860.68,
          20998.5,
          21103.99,
          21281.97,
          21308.57,
          21292,
          21132.36,
          21185.89,
          21185.65,
          21109.52,
          21041.3,
          21102.13,
          21124.57,
          21159.29,
          21151.21,
          21075.27,
          21133.65,
          21200.95,
          21174.92,
          21129.69,
          21219.75,
          21252.23,
          21235.07,
          21281.66,
          21176.06,
          21162.92,
          21220.78,
          21362.89,
          21336.46,
          21390.44,
          21312.63,
          21232.38,
          21134.81,
          21202.97,
          21243.96,
          21292.56,
          21258.54,
          21279.61,
          21311.33,
          21261.76,
          21307.94,
          21249.31,
          21230.09,
          21183.83,
          21204.67,
          21259.18,
          21403.31,
          21424.3,
          21042.73,
          20845.47,
          20887.85,
          20936.83,
          20906.54,
          20732.6,
          20780.36,
          20805.8,
          20677.47,
          20694.01,
          20716.95,
          20763.66,
          20748.04,
          20810.18,
          20814.82,
          20828.59,
          20818.95,
          20769.06,
          20795.39,
          20796.47,
          20743.72,
          20727.03,
          20776.95,
          20799.4,
          20876.44,
          20875.41,
          20841.16,
          20977.73,
          21090.95,
          21102.44,
          20932.98,
          21065.23,
          21071.59,
          21054.74,
          21117.28,
          21079.66,
          21087.74,
          20991.01,
          20982.27,
          20943.73,
          20959.44,
          20946.15,
          20959.17,
          20962.16,
          20963.51,
          21089.54,
          21058.68,
          21153.97,
          21144.77,
          21313.29,
          21353.61,
          21384.49,
          21496.67,
          22288.37,
          22315.41,
          22595.08,
          22667.21,
          22576.17,
          22563.99,
          22551.05,
          22547.35,
          22597.96,
          22573.98,
          22620.93,
          22638.36,
          22700.63,
          23037.49,
          22777.52,
          22905.65,
          23039.5,
          22930.04,
          22955.26,
          22998.9,
          23197.45,
          23226.65,
          23248.52,
          23270.5,
          23093.38,
          23204.64,
          22759.71,
          22783.55,
          22877.48,
          22792.13,
          22707.64,
          22758.3,
          22847.79,
          22878.37,
          22919.67,
          22895.2,
          22909.76,
          22856.68,
          22872.97,
          22783.61,
          22869.56,
          22897.79,
          22990.41,
          22794.51,
          22819.28,
          22838,
          22722.15,
          22459.46,
          22585.37,
          22676.48,
          22707.88,
          22745.28,
          22699.37,
          22752.05,
          22661.02,
          22758.32,
          22723.63,
          22773.33,
          22695.9,
          22719.28,
          22784.18,
          22909.95,
          22904.58,
          22910.74,
          22798.41,
          22622.05,
          22853.14,
          22911.17,
          23065.22,
          22936.2,
          22792.47,
          23022.64,
          22996,
          22925.32,
          22916.45,
          23089.46,
          23036.68,
          23079.27,
          23072.15,
          23118.17,
          23095.63,
          23054.08,
          23053.12,
          22852.79,
          22902.51,
          22917.66,
          22964.13,
          22859.93,
          22859.1,
          22931.36,
          22875.18,
          22913.49,
          22999.85,
          23018.53,
          23010.34,
          22902.84,
          22755.52,
          22652.23,
          22490.64,
          22549.89,
          22643.61,
          22624.83,
          22670.72,
          22713.76,
          22712.45,
          22659.72,
          22611.9,
          22598.47,
          22694.23,
          22595.72,
          22435.47,
          22577.86,
          22629.75,
          22568.94,
          22724.9,
          22938.09,
          23592.55,
          22932.2,
          23060.94,
          23240.42,
          23163.24,
          23178.98,
          23136.16,
          23179.35,
          23147.48,
          23087.87,
          22966.73,
          23003.87,
          22970.7,
          22939.26,
          23120.96,
          23128.35,
          23039.35,
          22958.02,
          23003.98,
          22982.85,
          23037.16,
          23070,
          23112.57,
          23081.77,
          23003.79,
          23009.65,
          22925.5,
          22647.48,
          22781.67,
          22772.62,
          22802.81,
          23034.92,
          23002.92,
          23072.77,
          22964.51,
          22947.87,
          22948.04,
          22967.47,
          22932.41,
          22899.82,
          22967.66,
          22933.96,
          23129.72,
          23204.74,
          23183.91,
          23253.06,
          23108.82,
          23080.88,
          23008.22,
          23074.16,
          23151.84,
          23090.53,
          23086.84,
          23117.44,
          23092.24,
          23066.38,
          23038.21,
          22991.51,
          22978.64,
          22998.6,
          22974.47,
          22981.51,
          22955.25,
          22970.1,
          22949.43,
          23012.54,
          23018.14,
          23018.96,
          22998.31,
          23039.35,
          22966.91,
          23001.41,
          22977.63,
          23022.6,
          23112.95,
          23232.32,
          23193.43,
          23228.89,
          23249.5,
          23198.58,
          23203.86,
          23172.28,
          23296.8,
          23448.03,
          23432.17,
          23478.21,
          23538.94,
          23538.58,
          23525.09,
          23586.44,
          23591.38,
          23678.99,
          23897.84,
          23698.65,
          23794.2,
          23765.93,
          23742.3,
          23751.43,
          23670.08,
          23645.76,
          23701.44,
          23717.76,
          23728.71,
          23692.38,
          23642.81,
          23548.76,
          23191.2,
          23243.54,
          23077.47,
          23076.27,
          23057.19,
          23287.7,
          23178.51,
          23170.38,
          23108.94,
          23138.83,
          22784.86,
          22697.83,
          22743.7,
          22729.81,
          22826.15,
          22828.32,
          22830.23,
          22857.93,
          22835.01,
          22861.59,
          22759.14,
          22812.12,
          22978.24
         ],
         "yaxis": "y3"
        },
        {
         "legendgroup": "3",
         "marker": {
          "color": "#c83232",
          "size": 10,
          "symbol": "circle"
         },
         "mode": "markers",
         "name": "Short",
         "type": "scatter",
         "x": [
          "2023-01-01 15:00:00.000000",
          "2023-01-03 02:00:00.000000",
          "2023-01-03 16:00:00.000000",
          "2023-01-04 07:00:00.000000",
          "2023-01-06 08:00:00.000000",
          "2023-01-06 12:00:00.000000",
          "2023-01-06 23:00:00.000000",
          "2023-01-07 15:00:00.000000",
          "2023-01-11 20:00:00.000000",
          "2023-01-12 19:00:00.000000",
          "2023-01-13 07:00:00.000000",
          "2023-01-14 14:00:00.000000",
          "2023-01-16 16:00:00.000000",
          "2023-01-22 18:00:00.000000",
          "2023-01-24 01:00:00.000000",
          "2023-01-25 00:00:00.000000",
          "2023-01-25 10:00:00.000000",
          "2023-01-25 20:00:00.000000",
          "2023-01-26 12:00:00.000000",
          "2023-01-29 03:00:00.000000"
         ],
         "xaxis": "x3",
         "y": [
          16542.94,
          16677.6,
          16676.94,
          16878.18,
          16794.06,
          16738.22,
          16958.35,
          16937.92,
          17550.29,
          18796.93,
          18852.68,
          20940.71,
          20994.17,
          22922.34,
          22986.44,
          22632.89,
          22607.26,
          22748.86,
          22992.94,
          23143.08
         ],
         "yaxis": "y3"
        }
       ],
       "layout": {
        "annotations": [
         {
          "font": {
           "size": 16
          },
          "showarrow": false,
          "text": "sim_id: 294 | model_type: DQN | Total Profit percentage 36.75%",
          "x": 0.5,
          "xanchor": "center",
          "xref": "paper",
          "y": 0.4375,
          "yanchor": "bottom",
          "yref": "paper"
         }
        ],
        "height": 800,
        "legend": {
         "tracegroupgap": 125
        },
        "template": {
         "data": {
          "bar": [
           {
            "error_x": {
             "color": "#2a3f5f"
            },
            "error_y": {
             "color": "#2a3f5f"
            },
            "marker": {
             "line": {
              "color": "#E5ECF6",
              "width": 0.5
             },
             "pattern": {
              "fillmode": "overlay",
              "size": 10,
              "solidity": 0.2
             }
            },
            "type": "bar"
           }
          ],
          "barpolar": [
           {
            "marker": {
             "line": {
              "color": "#E5ECF6",
              "width": 0.5
             },
             "pattern": {
              "fillmode": "overlay",
              "size": 10,
              "solidity": 0.2
             }
            },
            "type": "barpolar"
           }
          ],
          "carpet": [
           {
            "aaxis": {
             "endlinecolor": "#2a3f5f",
             "gridcolor": "white",
             "linecolor": "white",
             "minorgridcolor": "white",
             "startlinecolor": "#2a3f5f"
            },
            "baxis": {
             "endlinecolor": "#2a3f5f",
             "gridcolor": "white",
             "linecolor": "white",
             "minorgridcolor": "white",
             "startlinecolor": "#2a3f5f"
            },
            "type": "carpet"
           }
          ],
          "choropleth": [
           {
            "colorbar": {
             "outlinewidth": 0,
             "ticks": ""
            },
            "type": "choropleth"
           }
          ],
          "contour": [
           {
            "colorbar": {
             "outlinewidth": 0,
             "ticks": ""
            },
            "colorscale": [
             [
              0,
              "#0d0887"
             ],
             [
              0.1111111111111111,
              "#46039f"
             ],
             [
              0.2222222222222222,
              "#7201a8"
             ],
             [
              0.3333333333333333,
              "#9c179e"
             ],
             [
              0.4444444444444444,
              "#bd3786"
             ],
             [
              0.5555555555555556,
              "#d8576b"
             ],
             [
              0.6666666666666666,
              "#ed7953"
             ],
             [
              0.7777777777777778,
              "#fb9f3a"
             ],
             [
              0.8888888888888888,
              "#fdca26"
             ],
             [
              1,
              "#f0f921"
             ]
            ],
            "type": "contour"
           }
          ],
          "contourcarpet": [
           {
            "colorbar": {
             "outlinewidth": 0,
             "ticks": ""
            },
            "type": "contourcarpet"
           }
          ],
          "heatmap": [
           {
            "colorbar": {
             "outlinewidth": 0,
             "ticks": ""
            },
            "colorscale": [
             [
              0,
              "#0d0887"
             ],
             [
              0.1111111111111111,
              "#46039f"
             ],
             [
              0.2222222222222222,
              "#7201a8"
             ],
             [
              0.3333333333333333,
              "#9c179e"
             ],
             [
              0.4444444444444444,
              "#bd3786"
             ],
             [
              0.5555555555555556,
              "#d8576b"
             ],
             [
              0.6666666666666666,
              "#ed7953"
             ],
             [
              0.7777777777777778,
              "#fb9f3a"
             ],
             [
              0.8888888888888888,
              "#fdca26"
             ],
             [
              1,
              "#f0f921"
             ]
            ],
            "type": "heatmap"
           }
          ],
          "heatmapgl": [
           {
            "colorbar": {
             "outlinewidth": 0,
             "ticks": ""
            },
            "colorscale": [
             [
              0,
              "#0d0887"
             ],
             [
              0.1111111111111111,
              "#46039f"
             ],
             [
              0.2222222222222222,
              "#7201a8"
             ],
             [
              0.3333333333333333,
              "#9c179e"
             ],
             [
              0.4444444444444444,
              "#bd3786"
             ],
             [
              0.5555555555555556,
              "#d8576b"
             ],
             [
              0.6666666666666666,
              "#ed7953"
             ],
             [
              0.7777777777777778,
              "#fb9f3a"
             ],
             [
              0.8888888888888888,
              "#fdca26"
             ],
             [
              1,
              "#f0f921"
             ]
            ],
            "type": "heatmapgl"
           }
          ],
          "histogram": [
           {
            "marker": {
             "pattern": {
              "fillmode": "overlay",
              "size": 10,
              "solidity": 0.2
             }
            },
            "type": "histogram"
           }
          ],
          "histogram2d": [
           {
            "colorbar": {
             "outlinewidth": 0,
             "ticks": ""
            },
            "colorscale": [
             [
              0,
              "#0d0887"
             ],
             [
              0.1111111111111111,
              "#46039f"
             ],
             [
              0.2222222222222222,
              "#7201a8"
             ],
             [
              0.3333333333333333,
              "#9c179e"
             ],
             [
              0.4444444444444444,
              "#bd3786"
             ],
             [
              0.5555555555555556,
              "#d8576b"
             ],
             [
              0.6666666666666666,
              "#ed7953"
             ],
             [
              0.7777777777777778,
              "#fb9f3a"
             ],
             [
              0.8888888888888888,
              "#fdca26"
             ],
             [
              1,
              "#f0f921"
             ]
            ],
            "type": "histogram2d"
           }
          ],
          "histogram2dcontour": [
           {
            "colorbar": {
             "outlinewidth": 0,
             "ticks": ""
            },
            "colorscale": [
             [
              0,
              "#0d0887"
             ],
             [
              0.1111111111111111,
              "#46039f"
             ],
             [
              0.2222222222222222,
              "#7201a8"
             ],
             [
              0.3333333333333333,
              "#9c179e"
             ],
             [
              0.4444444444444444,
              "#bd3786"
             ],
             [
              0.5555555555555556,
              "#d8576b"
             ],
             [
              0.6666666666666666,
              "#ed7953"
             ],
             [
              0.7777777777777778,
              "#fb9f3a"
             ],
             [
              0.8888888888888888,
              "#fdca26"
             ],
             [
              1,
              "#f0f921"
             ]
            ],
            "type": "histogram2dcontour"
           }
          ],
          "mesh3d": [
           {
            "colorbar": {
             "outlinewidth": 0,
             "ticks": ""
            },
            "type": "mesh3d"
           }
          ],
          "parcoords": [
           {
            "line": {
             "colorbar": {
              "outlinewidth": 0,
              "ticks": ""
             }
            },
            "type": "parcoords"
           }
          ],
          "pie": [
           {
            "automargin": true,
            "type": "pie"
           }
          ],
          "scatter": [
           {
            "fillpattern": {
             "fillmode": "overlay",
             "size": 10,
             "solidity": 0.2
            },
            "type": "scatter"
           }
          ],
          "scatter3d": [
           {
            "line": {
             "colorbar": {
              "outlinewidth": 0,
              "ticks": ""
             }
            },
            "marker": {
             "colorbar": {
              "outlinewidth": 0,
              "ticks": ""
             }
            },
            "type": "scatter3d"
           }
          ],
          "scattercarpet": [
           {
            "marker": {
             "colorbar": {
              "outlinewidth": 0,
              "ticks": ""
             }
            },
            "type": "scattercarpet"
           }
          ],
          "scattergeo": [
           {
            "marker": {
             "colorbar": {
              "outlinewidth": 0,
              "ticks": ""
             }
            },
            "type": "scattergeo"
           }
          ],
          "scattergl": [
           {
            "marker": {
             "colorbar": {
              "outlinewidth": 0,
              "ticks": ""
             }
            },
            "type": "scattergl"
           }
          ],
          "scattermapbox": [
           {
            "marker": {
             "colorbar": {
              "outlinewidth": 0,
              "ticks": ""
             }
            },
            "type": "scattermapbox"
           }
          ],
          "scatterpolar": [
           {
            "marker": {
             "colorbar": {
              "outlinewidth": 0,
              "ticks": ""
             }
            },
            "type": "scatterpolar"
           }
          ],
          "scatterpolargl": [
           {
            "marker": {
             "colorbar": {
              "outlinewidth": 0,
              "ticks": ""
             }
            },
            "type": "scatterpolargl"
           }
          ],
          "scatterternary": [
           {
            "marker": {
             "colorbar": {
              "outlinewidth": 0,
              "ticks": ""
             }
            },
            "type": "scatterternary"
           }
          ],
          "surface": [
           {
            "colorbar": {
             "outlinewidth": 0,
             "ticks": ""
            },
            "colorscale": [
             [
              0,
              "#0d0887"
             ],
             [
              0.1111111111111111,
              "#46039f"
             ],
             [
              0.2222222222222222,
              "#7201a8"
             ],
             [
              0.3333333333333333,
              "#9c179e"
             ],
             [
              0.4444444444444444,
              "#bd3786"
             ],
             [
              0.5555555555555556,
              "#d8576b"
             ],
             [
              0.6666666666666666,
              "#ed7953"
             ],
             [
              0.7777777777777778,
              "#fb9f3a"
             ],
             [
              0.8888888888888888,
              "#fdca26"
             ],
             [
              1,
              "#f0f921"
             ]
            ],
            "type": "surface"
           }
          ],
          "table": [
           {
            "cells": {
             "fill": {
              "color": "#EBF0F8"
             },
             "line": {
              "color": "white"
             }
            },
            "header": {
             "fill": {
              "color": "#C8D4E3"
             },
             "line": {
              "color": "white"
             }
            },
            "type": "table"
           }
          ]
         },
         "layout": {
          "annotationdefaults": {
           "arrowcolor": "#2a3f5f",
           "arrowhead": 0,
           "arrowwidth": 1
          },
          "autotypenumbers": "strict",
          "coloraxis": {
           "colorbar": {
            "outlinewidth": 0,
            "ticks": ""
           }
          },
          "colorscale": {
           "diverging": [
            [
             0,
             "#8e0152"
            ],
            [
             0.1,
             "#c51b7d"
            ],
            [
             0.2,
             "#de77ae"
            ],
            [
             0.3,
             "#f1b6da"
            ],
            [
             0.4,
             "#fde0ef"
            ],
            [
             0.5,
             "#f7f7f7"
            ],
            [
             0.6,
             "#e6f5d0"
            ],
            [
             0.7,
             "#b8e186"
            ],
            [
             0.8,
             "#7fbc41"
            ],
            [
             0.9,
             "#4d9221"
            ],
            [
             1,
             "#276419"
            ]
           ],
           "sequential": [
            [
             0,
             "#0d0887"
            ],
            [
             0.1111111111111111,
             "#46039f"
            ],
            [
             0.2222222222222222,
             "#7201a8"
            ],
            [
             0.3333333333333333,
             "#9c179e"
            ],
            [
             0.4444444444444444,
             "#bd3786"
            ],
            [
             0.5555555555555556,
             "#d8576b"
            ],
            [
             0.6666666666666666,
             "#ed7953"
            ],
            [
             0.7777777777777778,
             "#fb9f3a"
            ],
            [
             0.8888888888888888,
             "#fdca26"
            ],
            [
             1,
             "#f0f921"
            ]
           ],
           "sequentialminus": [
            [
             0,
             "#0d0887"
            ],
            [
             0.1111111111111111,
             "#46039f"
            ],
            [
             0.2222222222222222,
             "#7201a8"
            ],
            [
             0.3333333333333333,
             "#9c179e"
            ],
            [
             0.4444444444444444,
             "#bd3786"
            ],
            [
             0.5555555555555556,
             "#d8576b"
            ],
            [
             0.6666666666666666,
             "#ed7953"
            ],
            [
             0.7777777777777778,
             "#fb9f3a"
            ],
            [
             0.8888888888888888,
             "#fdca26"
            ],
            [
             1,
             "#f0f921"
            ]
           ]
          },
          "colorway": [
           "#636efa",
           "#EF553B",
           "#00cc96",
           "#ab63fa",
           "#FFA15A",
           "#19d3f3",
           "#FF6692",
           "#B6E880",
           "#FF97FF",
           "#FECB52"
          ],
          "font": {
           "color": "#2a3f5f"
          },
          "geo": {
           "bgcolor": "white",
           "lakecolor": "white",
           "landcolor": "#E5ECF6",
           "showlakes": true,
           "showland": true,
           "subunitcolor": "white"
          },
          "hoverlabel": {
           "align": "left"
          },
          "hovermode": "closest",
          "mapbox": {
           "style": "light"
          },
          "paper_bgcolor": "white",
          "plot_bgcolor": "#E5ECF6",
          "polar": {
           "angularaxis": {
            "gridcolor": "white",
            "linecolor": "white",
            "ticks": ""
           },
           "bgcolor": "#E5ECF6",
           "radialaxis": {
            "gridcolor": "white",
            "linecolor": "white",
            "ticks": ""
           }
          },
          "scene": {
           "xaxis": {
            "backgroundcolor": "#E5ECF6",
            "gridcolor": "white",
            "gridwidth": 2,
            "linecolor": "white",
            "showbackground": true,
            "ticks": "",
            "zerolinecolor": "white"
           },
           "yaxis": {
            "backgroundcolor": "#E5ECF6",
            "gridcolor": "white",
            "gridwidth": 2,
            "linecolor": "white",
            "showbackground": true,
            "ticks": "",
            "zerolinecolor": "white"
           },
           "zaxis": {
            "backgroundcolor": "#E5ECF6",
            "gridcolor": "white",
            "gridwidth": 2,
            "linecolor": "white",
            "showbackground": true,
            "ticks": "",
            "zerolinecolor": "white"
           }
          },
          "shapedefaults": {
           "line": {
            "color": "#2a3f5f"
           }
          },
          "ternary": {
           "aaxis": {
            "gridcolor": "white",
            "linecolor": "white",
            "ticks": ""
           },
           "baxis": {
            "gridcolor": "white",
            "linecolor": "white",
            "ticks": ""
           },
           "bgcolor": "#E5ECF6",
           "caxis": {
            "gridcolor": "white",
            "linecolor": "white",
            "ticks": ""
           }
          },
          "title": {
           "x": 0.05
          },
          "xaxis": {
           "automargin": true,
           "gridcolor": "white",
           "linecolor": "white",
           "ticks": "",
           "title": {
            "standoff": 15
           },
           "zerolinecolor": "white",
           "zerolinewidth": 2
          },
          "yaxis": {
           "automargin": true,
           "gridcolor": "white",
           "linecolor": "white",
           "ticks": "",
           "title": {
            "standoff": 15
           },
           "zerolinecolor": "white",
           "zerolinewidth": 2
          }
         }
        },
        "title": {
         "text": "The median profit percentage results per model",
         "x": 0.5
        },
        "width": 1200,
        "xaxis": {
         "anchor": "y",
         "domain": [
          0,
          1
         ],
         "title": {
          "standoff": 25,
          "text": "Dates"
         }
        },
        "xaxis2": {
         "anchor": "y2",
         "domain": [
          0,
          1
         ],
         "title": {
          "standoff": 25,
          "text": "Dates"
         }
        },
        "xaxis3": {
         "anchor": "y3",
         "domain": [
          0,
          1
         ],
         "title": {
          "standoff": 25,
          "text": "Dates"
         }
        },
        "xaxis4": {
         "anchor": "y4",
         "domain": [
          0,
          1
         ],
         "title": {
          "standoff": 25,
          "text": "Dates"
         }
        },
        "yaxis": {
         "anchor": "x",
         "domain": [
          0.84375,
          1
         ],
         "title": {
          "standoff": 25,
          "text": ""
         }
        },
        "yaxis2": {
         "anchor": "x2",
         "domain": [
          0.5625,
          0.71875
         ],
         "title": {
          "standoff": 25,
          "text": ""
         }
        },
        "yaxis3": {
         "anchor": "x3",
         "domain": [
          0.28125,
          0.4375
         ],
         "title": {
          "standoff": 25,
          "text": ""
         }
        },
        "yaxis4": {
         "anchor": "x4",
         "domain": [
          0,
          0.15625
         ],
         "title": {
          "standoff": 25,
          "text": ""
         }
        }
       }
      }
     },
     "metadata": {},
     "output_type": "display_data"
    }
   ],
   "source": [
    "plot_robot_actions_all_models(config_file_name_without_extension, \"\", \"\", median_sim_id_DQN, \"\")"
   ]
  },
  {
   "cell_type": "code",
   "execution_count": 32,
   "metadata": {},
   "outputs": [],
   "source": [
    "def get_and_process_trader_robot_actions_and_env_data_all_sim_id(config_file_name_without_extension):\n",
    "    try:\n",
    "        \n",
    "        # Get the data\n",
    "        db_address = 'sqlite:///../results/data/db/trader.db'\n",
    "        engine = create_engine(db_address, echo=False)\n",
    "        sqlite_connection = engine.connect()\n",
    "\n",
    "        input_tbl_name = \"tbl_trader_bernardo2_robot_actions_and_env\" + \"_\" + config_file_name_without_extension\n",
    "        \n",
    "        sql_command = \"SELECT * FROM \" + input_tbl_name + \" AS t1 \"\n",
    "        \n",
    "        sql_append = \"LEFT JOIN (SELECT sim_id, model_type FROM tbl_trader_bernardo_simulation_results_config_03a_mix_infer) AS t2 ON t1.sim_id = t2.sim_id\"\n",
    "        \n",
    "        sql_command = sql_command + sql_append\n",
    "\n",
    "        df = pd.read_sql(sql_command, sqlite_connection)\n",
    "\n",
    "        sqlite_connection.close()\n",
    "\n",
    "        return df\n",
    "\n",
    "    except Exception as e:\n",
    "        print(e)"
   ]
  },
  {
   "cell_type": "code",
   "execution_count": 33,
   "metadata": {},
   "outputs": [],
   "source": [
    "def plot_trader_robot_actions_all_sim_id_all_models(config_file_name_without_extension, sim_id_A2C, sim_id_PPO, sim_id_DQN, sim_id_RANDOM):\n",
    "    \n",
    "    df_robot_actions_and_env_all_sim_id = get_and_process_trader_robot_actions_and_env_data_all_sim_id(config_file_name_without_extension)\n",
    "\n",
    "    # df_robot_actions_and_env_all_sim_id_A2C = df_robot_actions_and_env_all_sim_id[df_robot_actions_and_env_all_sim_id['model_type'] == 'A2C']\n",
    "    # df_robot_actions_and_env_all_sim_id_PPO = df_robot_actions_and_env_all_sim_id[df_robot_actions_and_env_all_sim_id['model_type'] == 'PPO']\n",
    "    df_robot_actions_and_env_all_sim_id_DQN = df_robot_actions_and_env_all_sim_id[df_robot_actions_and_env_all_sim_id['model_type'] == 'DQN']\n",
    "    # df_robot_actions_and_env_all_sim_id_RANDOM = df_robot_actions_and_env_all_sim_id[df_robot_actions_and_env_all_sim_id['model_type'] == 'RANDOM']    \n",
    "\n",
    "    # df_model_type_action_count_A2C = df_robot_actions_and_env_all_sim_id_A2C.assign(val=1).pivot_table(values='val', index=['dates'], columns=['model_type', 'actions'], aggfunc='count').stack(0).reset_index()\n",
    "    # df_model_type_action_count_A2C.rename(columns = {0.0:'action_short_count', 1.0:'action_long_count'}, inplace = True)\n",
    "\n",
    "    # df_model_type_action_count_PPO = df_robot_actions_and_env_all_sim_id_PPO.assign(val=1).pivot_table(values='val', index=['dates'], columns=['model_type', 'actions'], aggfunc='count').stack(0).reset_index()\n",
    "    # df_model_type_action_count_PPO.rename(columns = {0.0:'action_short_count', 1.0:'action_long_count'}, inplace = True)\n",
    "\n",
    "    df_model_type_action_count_DQN = df_robot_actions_and_env_all_sim_id_DQN.assign(val=1).pivot_table(values='val', index=['dates'], columns=['model_type', 'actions'], aggfunc='count').stack(0).reset_index()\n",
    "    df_model_type_action_count_DQN.rename(columns = {0.0:'action_short_count', 1.0:'action_long_count'}, inplace = True)\n",
    "\n",
    "    # df_model_type_action_count_RANDOM = df_robot_actions_and_env_all_sim_id_RANDOM.assign(val=1).pivot_table(values='val', index=['dates'], columns=['model_type', 'actions'], aggfunc='count').stack(0).reset_index()\n",
    "    # df_model_type_action_count_RANDOM.rename(columns = {0.0:'action_short_count', 1.0:'action_long_count'}, inplace = True)        \n",
    "\n",
    "    # df_robot_actions_sim_id_A2C = get_and_process_trader_robot_actions_and_env_data_one_sim_id(config_file_name_without_extension, sim_id_A2C)\n",
    "    # df_robot_actions_sim_id_PPO = get_and_process_trader_robot_actions_and_env_data_one_sim_id(config_file_name_without_extension, sim_id_PPO)\n",
    "    df_robot_actions_sim_id_DQN = get_and_process_trader_robot_actions_and_env_data_one_sim_id(config_file_name_without_extension, sim_id_DQN)\n",
    "    # df_robot_actions_sim_id_RANDOM = get_and_process_trader_robot_actions_and_env_data_one_sim_id(config_file_name_without_extension, sim_id_RANDOM)\n",
    "\n",
    "    # df_simulation_sim_id_A2C = df_trader_results[df_trader_results['sim_id'] == sim_id_A2C]\n",
    "    # df_simulation_sim_id_PPO = df_trader_results[df_trader_results['sim_id'] == sim_id_PPO]\n",
    "    df_simulation_sim_id_DQN = df_trader_results[df_trader_results['sim_id'] == sim_id_DQN]\n",
    "    # df_simulation_sim_id_RANDOM = df_trader_results[df_trader_results['sim_id'] == sim_id_RANDOM]\n",
    "\n",
    "    # str_title_A2C = f\"Median sim_id: {sim_id_A2C} | model_type: {df_simulation_sim_id_A2C.model_type.values[0]} | Total Profit percentage {round(df_simulation_sim_id_A2C.fmt_total_profit_percentage.values[0],2)}%\"\n",
    "    # str_title_PPO = f\"Median sim_id: {sim_id_PPO} | model_type: {df_simulation_sim_id_PPO.model_type.values[0]} | Total Profit percentage {round(df_simulation_sim_id_PPO.fmt_total_profit_percentage.values[0],2)}%\"\n",
    "    str_title_DQN = f\"Median sim_id: {sim_id_DQN} | model_type: {df_simulation_sim_id_DQN.model_type.values[0]} | Total Profit percentage {round(df_simulation_sim_id_DQN.fmt_total_profit_percentage.values[0],2)}%\"\n",
    "    # str_title_RANDOM = f\"Median sim_id: {sim_id_RANDOM} | model_type: {df_simulation_sim_id_RANDOM.model_type.values[0]} | Total Profit percentage {round(df_simulation_sim_id_RANDOM.fmt_total_profit_percentage.values[0],2)}%\"\n",
    "\n",
    "    str_title = f\"Median Total Profit Results x Overall view of actions (across all the simulations)\"\n",
    "\n",
    "    fig = make_subplots(rows=4, cols=1, subplot_titles=(\"\", \"\", str_title_DQN, \"\"), shared_xaxes='all', shared_yaxes='all', specs=[[{\"secondary_y\": True}], [{\"secondary_y\": True}], [{\"secondary_y\": True}], [{\"secondary_y\": True}]]) \n",
    "\n",
    "    # fig.add_trace(go.Scatter(name='Price', x=df_robot_actions_sim_id_A2C[\"dates\"], y=df_robot_actions_sim_id_A2C[\"prices\"], mode='lines', marker_color='#969696', legendgroup = '1'), row=1, col=1, secondary_y=True)\n",
    "    # fig.add_trace(go.Scatter(name='Long', x=df_robot_actions_sim_id_A2C[df_robot_actions_sim_id_A2C['actions'] == 1]['dates'], y=df_robot_actions_sim_id_A2C[df_robot_actions_sim_id_A2C['actions'] == 1]['prices'], mode='markers', marker_symbol='circle', marker_size=10, marker_color='#228b22', legendgroup = '1'), row=1, col=1, secondary_y=True)\n",
    "    # fig.add_trace(go.Scatter(name='Short', x=df_robot_actions_sim_id_A2C[df_robot_actions_sim_id_A2C['actions'] == 0]['dates'], y=df_robot_actions_sim_id_A2C[df_robot_actions_sim_id_A2C['actions'] == 0]['prices'], mode='markers', marker_symbol='circle', marker_size=10, marker_color='#c83232', legendgroup = '1'), row=1, col=1, secondary_y=True)\n",
    "\n",
    "    # fig.add_trace(go.Bar(x=df_model_type_action_count_A2C['dates'], y=df_model_type_action_count_A2C['action_long_count'], name='Long', marker_color=' #b3ffb3', legendgroup = '1'), row=1, col=1, secondary_y=False)\n",
    "    # fig.add_trace(go.Bar(x=df_model_type_action_count_A2C['dates'], y=df_model_type_action_count_A2C['action_short_count'], name='Short', marker_color='#ffb2b2', legendgroup = '1'), row=1, col=1, secondary_y=False)\n",
    "\n",
    "    # fig.add_trace(go.Scatter(name='Price', x=df_robot_actions_sim_id_PPO[\"dates\"], y=df_robot_actions_sim_id_PPO[\"prices\"], mode='lines', marker_color='#969696', legendgroup = '2'), row=2, col=1, secondary_y=True)\n",
    "    # fig.add_trace(go.Scatter(name='Long', x=df_robot_actions_sim_id_PPO[df_robot_actions_sim_id_PPO['actions'] == 1]['dates'], y=df_robot_actions_sim_id_PPO[df_robot_actions_sim_id_PPO['actions'] == 1]['prices'], mode='markers', marker_symbol='circle', marker_size=10, marker_color='#228b22', legendgroup = '2'), row=2, col=1, secondary_y=True)\n",
    "    # fig.add_trace(go.Scatter(name='Short', x=df_robot_actions_sim_id_PPO[df_robot_actions_sim_id_PPO['actions'] == 0]['dates'], y=df_robot_actions_sim_id_PPO[df_robot_actions_sim_id_PPO['actions'] == 0]['prices'], mode='markers', marker_symbol='circle', marker_size=10, marker_color='#c83232', legendgroup = '2'), row=2, col=1, secondary_y=True)\n",
    "\n",
    "    # fig.add_trace(go.Bar(x=df_model_type_action_count_PPO['dates'], y=df_model_type_action_count_PPO['action_long_count'], name='Long', marker_color=' #b3ffb3', legendgroup = '2'), row=2, col=1, secondary_y=False)\n",
    "    # fig.add_trace(go.Bar(x=df_model_type_action_count_PPO['dates'], y=df_model_type_action_count_PPO['action_short_count'], name='Short', marker_color='#ffb2b2', legendgroup = '2'), row=2, col=1, secondary_y=False)\n",
    "\n",
    "    fig.add_trace(go.Scatter(name='Price', x=df_robot_actions_sim_id_DQN[\"dates\"], y=df_robot_actions_sim_id_DQN[\"prices\"], mode='lines', marker_color='#969696', legendgroup = '3'), row=3, col=1, secondary_y=True)\n",
    "    fig.add_trace(go.Scatter(name='Long', x=df_robot_actions_sim_id_DQN[df_robot_actions_sim_id_DQN['actions'] == 1]['dates'], y=df_robot_actions_sim_id_DQN[df_robot_actions_sim_id_DQN['actions'] == 1]['prices'], mode='markers', marker_symbol='circle', marker_size=10, marker_color='#228b22', legendgroup = '3'), row=3, col=1, secondary_y=True)\n",
    "    fig.add_trace(go.Scatter(name='Short', x=df_robot_actions_sim_id_DQN[df_robot_actions_sim_id_DQN['actions'] == 0]['dates'], y=df_robot_actions_sim_id_DQN[df_robot_actions_sim_id_DQN['actions'] == 0]['prices'], mode='markers', marker_symbol='circle', marker_size=10, marker_color='#c83232', legendgroup = '3'), row=3, col=1, secondary_y=True)\n",
    "\n",
    "    fig.add_trace(go.Bar(x=df_model_type_action_count_DQN['dates'], y=df_model_type_action_count_DQN['action_long_count'], name='Long', marker_color=' #b3ffb3', legendgroup = '3'), row=3, col=1, secondary_y=False)\n",
    "    fig.add_trace(go.Bar(x=df_model_type_action_count_DQN['dates'], y=df_model_type_action_count_DQN['action_short_count'], name='Short', marker_color='#ffb2b2', legendgroup = '3'), row=3, col=1, secondary_y=False)\n",
    "\n",
    "    # fig.add_trace(go.Scatter(name='Price', x=df_robot_actions_sim_id_RANDOM[\"dates\"], y=df_robot_actions_sim_id_RANDOM[\"prices\"], mode='lines', marker_color='#969696', legendgroup = '4'), row=4, col=1, secondary_y=True)\n",
    "    # fig.add_trace(go.Scatter(name='Long', x=df_robot_actions_sim_id_RANDOM[df_robot_actions_sim_id_RANDOM['actions'] == 1]['dates'], y=df_robot_actions_sim_id_RANDOM[df_robot_actions_sim_id_RANDOM['actions'] == 1]['prices'], mode='markers', marker_symbol='circle', marker_size=10, marker_color='#228b22', legendgroup = '4'), row=4, col=1, secondary_y=True)\n",
    "    # fig.add_trace(go.Scatter(name='Short', x=df_robot_actions_sim_id_RANDOM[df_robot_actions_sim_id_RANDOM['actions'] == 0]['dates'], y=df_robot_actions_sim_id_RANDOM[df_robot_actions_sim_id_RANDOM['actions'] == 0]['prices'], mode='markers', marker_symbol='circle', marker_size=10, marker_color='#c83232', legendgroup = '4'), row=4, col=1, secondary_y=True)\n",
    "\n",
    "    # fig.add_trace(go.Bar(x=df_model_type_action_count_RANDOM['dates'], y=df_model_type_action_count_RANDOM['action_long_count'], name='Long', marker_color=' #b3ffb3', legendgroup = '4'), row=4, col=1, secondary_y=False)\n",
    "    # fig.add_trace(go.Bar(x=df_model_type_action_count_RANDOM['dates'], y=df_model_type_action_count_RANDOM['action_short_count'], name='Short', marker_color='#ffb2b2', legendgroup = '4'), row=4, col=1, secondary_y=False)\n",
    "\n",
    "    fig.update_yaxes(title_text=\"Proportion of trades<br>across all the simulations\", secondary_y=False)\n",
    "    fig.update_yaxes(title_text=f\"CCY level with the<br>sim_id actions related\", secondary_y=True)\n",
    "\n",
    "    fig.update_layout(barmode='stack', xaxis={'categoryorder':'category ascending'}, title=str_title, title_x=0.5, width=1200, height=800, legend_tracegroupgap=82, font={'size': 8})\n",
    "\n",
    "    fig.show()    "
   ]
  },
  {
   "cell_type": "code",
   "execution_count": 34,
   "metadata": {},
   "outputs": [
    {
     "data": {
      "application/vnd.plotly.v1+json": {
       "config": {
        "plotlyServerURL": "https://plot.ly"
       },
       "data": [
        {
         "legendgroup": "3",
         "marker": {
          "color": "#969696"
         },
         "mode": "lines",
         "name": "Price",
         "type": "scatter",
         "x": [
          "2022-12-31 19:00:00.000000",
          "2022-12-31 20:00:00.000000",
          "2022-12-31 21:00:00.000000",
          "2022-12-31 22:00:00.000000",
          "2022-12-31 23:00:00.000000",
          "2023-01-01 00:00:00.000000",
          "2023-01-01 01:00:00.000000",
          "2023-01-01 02:00:00.000000",
          "2023-01-01 03:00:00.000000",
          "2023-01-01 04:00:00.000000",
          "2023-01-01 05:00:00.000000",
          "2023-01-01 06:00:00.000000",
          "2023-01-01 07:00:00.000000",
          "2023-01-01 08:00:00.000000",
          "2023-01-01 09:00:00.000000",
          "2023-01-01 10:00:00.000000",
          "2023-01-01 11:00:00.000000",
          "2023-01-01 12:00:00.000000",
          "2023-01-01 13:00:00.000000",
          "2023-01-01 14:00:00.000000",
          "2023-01-01 15:00:00.000000",
          "2023-01-01 16:00:00.000000",
          "2023-01-01 17:00:00.000000",
          "2023-01-01 18:00:00.000000",
          "2023-01-01 19:00:00.000000",
          "2023-01-01 20:00:00.000000",
          "2023-01-01 21:00:00.000000",
          "2023-01-01 22:00:00.000000",
          "2023-01-01 23:00:00.000000",
          "2023-01-02 00:00:00.000000",
          "2023-01-02 01:00:00.000000",
          "2023-01-02 02:00:00.000000",
          "2023-01-02 03:00:00.000000",
          "2023-01-02 04:00:00.000000",
          "2023-01-02 05:00:00.000000",
          "2023-01-02 06:00:00.000000",
          "2023-01-02 07:00:00.000000",
          "2023-01-02 08:00:00.000000",
          "2023-01-02 09:00:00.000000",
          "2023-01-02 10:00:00.000000",
          "2023-01-02 11:00:00.000000",
          "2023-01-02 12:00:00.000000",
          "2023-01-02 13:00:00.000000",
          "2023-01-02 14:00:00.000000",
          "2023-01-02 15:00:00.000000",
          "2023-01-02 16:00:00.000000",
          "2023-01-02 17:00:00.000000",
          "2023-01-02 18:00:00.000000",
          "2023-01-02 19:00:00.000000",
          "2023-01-02 20:00:00.000000",
          "2023-01-02 21:00:00.000000",
          "2023-01-02 22:00:00.000000",
          "2023-01-02 23:00:00.000000",
          "2023-01-03 00:00:00.000000",
          "2023-01-03 01:00:00.000000",
          "2023-01-03 02:00:00.000000",
          "2023-01-03 03:00:00.000000",
          "2023-01-03 04:00:00.000000",
          "2023-01-03 05:00:00.000000",
          "2023-01-03 06:00:00.000000",
          "2023-01-03 07:00:00.000000",
          "2023-01-03 08:00:00.000000",
          "2023-01-03 09:00:00.000000",
          "2023-01-03 10:00:00.000000",
          "2023-01-03 11:00:00.000000",
          "2023-01-03 12:00:00.000000",
          "2023-01-03 13:00:00.000000",
          "2023-01-03 14:00:00.000000",
          "2023-01-03 15:00:00.000000",
          "2023-01-03 16:00:00.000000",
          "2023-01-03 17:00:00.000000",
          "2023-01-03 18:00:00.000000",
          "2023-01-03 19:00:00.000000",
          "2023-01-03 20:00:00.000000",
          "2023-01-03 21:00:00.000000",
          "2023-01-03 22:00:00.000000",
          "2023-01-03 23:00:00.000000",
          "2023-01-04 00:00:00.000000",
          "2023-01-04 01:00:00.000000",
          "2023-01-04 02:00:00.000000",
          "2023-01-04 03:00:00.000000",
          "2023-01-04 04:00:00.000000",
          "2023-01-04 05:00:00.000000",
          "2023-01-04 06:00:00.000000",
          "2023-01-04 07:00:00.000000",
          "2023-01-04 08:00:00.000000",
          "2023-01-04 09:00:00.000000",
          "2023-01-04 10:00:00.000000",
          "2023-01-04 11:00:00.000000",
          "2023-01-04 12:00:00.000000",
          "2023-01-04 13:00:00.000000",
          "2023-01-04 14:00:00.000000",
          "2023-01-04 15:00:00.000000",
          "2023-01-04 16:00:00.000000",
          "2023-01-04 17:00:00.000000",
          "2023-01-04 18:00:00.000000",
          "2023-01-04 19:00:00.000000",
          "2023-01-04 20:00:00.000000",
          "2023-01-04 21:00:00.000000",
          "2023-01-04 22:00:00.000000",
          "2023-01-04 23:00:00.000000",
          "2023-01-05 00:00:00.000000",
          "2023-01-05 01:00:00.000000",
          "2023-01-05 02:00:00.000000",
          "2023-01-05 03:00:00.000000",
          "2023-01-05 04:00:00.000000",
          "2023-01-05 05:00:00.000000",
          "2023-01-05 06:00:00.000000",
          "2023-01-05 07:00:00.000000",
          "2023-01-05 08:00:00.000000",
          "2023-01-05 09:00:00.000000",
          "2023-01-05 10:00:00.000000",
          "2023-01-05 11:00:00.000000",
          "2023-01-05 12:00:00.000000",
          "2023-01-05 13:00:00.000000",
          "2023-01-05 14:00:00.000000",
          "2023-01-05 15:00:00.000000",
          "2023-01-05 16:00:00.000000",
          "2023-01-05 17:00:00.000000",
          "2023-01-05 18:00:00.000000",
          "2023-01-05 19:00:00.000000",
          "2023-01-05 20:00:00.000000",
          "2023-01-05 21:00:00.000000",
          "2023-01-05 22:00:00.000000",
          "2023-01-05 23:00:00.000000",
          "2023-01-06 00:00:00.000000",
          "2023-01-06 01:00:00.000000",
          "2023-01-06 02:00:00.000000",
          "2023-01-06 03:00:00.000000",
          "2023-01-06 04:00:00.000000",
          "2023-01-06 05:00:00.000000",
          "2023-01-06 06:00:00.000000",
          "2023-01-06 07:00:00.000000",
          "2023-01-06 08:00:00.000000",
          "2023-01-06 09:00:00.000000",
          "2023-01-06 10:00:00.000000",
          "2023-01-06 11:00:00.000000",
          "2023-01-06 12:00:00.000000",
          "2023-01-06 13:00:00.000000",
          "2023-01-06 14:00:00.000000",
          "2023-01-06 15:00:00.000000",
          "2023-01-06 16:00:00.000000",
          "2023-01-06 17:00:00.000000",
          "2023-01-06 18:00:00.000000",
          "2023-01-06 19:00:00.000000",
          "2023-01-06 20:00:00.000000",
          "2023-01-06 21:00:00.000000",
          "2023-01-06 22:00:00.000000",
          "2023-01-06 23:00:00.000000",
          "2023-01-07 00:00:00.000000",
          "2023-01-07 01:00:00.000000",
          "2023-01-07 02:00:00.000000",
          "2023-01-07 03:00:00.000000",
          "2023-01-07 04:00:00.000000",
          "2023-01-07 05:00:00.000000",
          "2023-01-07 06:00:00.000000",
          "2023-01-07 07:00:00.000000",
          "2023-01-07 08:00:00.000000",
          "2023-01-07 09:00:00.000000",
          "2023-01-07 10:00:00.000000",
          "2023-01-07 11:00:00.000000",
          "2023-01-07 12:00:00.000000",
          "2023-01-07 13:00:00.000000",
          "2023-01-07 14:00:00.000000",
          "2023-01-07 15:00:00.000000",
          "2023-01-07 16:00:00.000000",
          "2023-01-07 17:00:00.000000",
          "2023-01-07 18:00:00.000000",
          "2023-01-07 19:00:00.000000",
          "2023-01-07 20:00:00.000000",
          "2023-01-07 21:00:00.000000",
          "2023-01-07 22:00:00.000000",
          "2023-01-07 23:00:00.000000",
          "2023-01-08 00:00:00.000000",
          "2023-01-08 01:00:00.000000",
          "2023-01-08 02:00:00.000000",
          "2023-01-08 03:00:00.000000",
          "2023-01-08 04:00:00.000000",
          "2023-01-08 05:00:00.000000",
          "2023-01-08 06:00:00.000000",
          "2023-01-08 07:00:00.000000",
          "2023-01-08 08:00:00.000000",
          "2023-01-08 09:00:00.000000",
          "2023-01-08 10:00:00.000000",
          "2023-01-08 11:00:00.000000",
          "2023-01-08 12:00:00.000000",
          "2023-01-08 13:00:00.000000",
          "2023-01-08 14:00:00.000000",
          "2023-01-08 15:00:00.000000",
          "2023-01-08 16:00:00.000000",
          "2023-01-08 17:00:00.000000",
          "2023-01-08 18:00:00.000000",
          "2023-01-08 19:00:00.000000",
          "2023-01-08 20:00:00.000000",
          "2023-01-08 21:00:00.000000",
          "2023-01-08 22:00:00.000000",
          "2023-01-08 23:00:00.000000",
          "2023-01-09 00:00:00.000000",
          "2023-01-09 01:00:00.000000",
          "2023-01-09 02:00:00.000000",
          "2023-01-09 03:00:00.000000",
          "2023-01-09 04:00:00.000000",
          "2023-01-09 05:00:00.000000",
          "2023-01-09 06:00:00.000000",
          "2023-01-09 07:00:00.000000",
          "2023-01-09 08:00:00.000000",
          "2023-01-09 09:00:00.000000",
          "2023-01-09 10:00:00.000000",
          "2023-01-09 11:00:00.000000",
          "2023-01-09 12:00:00.000000",
          "2023-01-09 13:00:00.000000",
          "2023-01-09 14:00:00.000000",
          "2023-01-09 15:00:00.000000",
          "2023-01-09 16:00:00.000000",
          "2023-01-09 17:00:00.000000",
          "2023-01-09 18:00:00.000000",
          "2023-01-09 19:00:00.000000",
          "2023-01-09 20:00:00.000000",
          "2023-01-09 21:00:00.000000",
          "2023-01-09 22:00:00.000000",
          "2023-01-09 23:00:00.000000",
          "2023-01-10 00:00:00.000000",
          "2023-01-10 01:00:00.000000",
          "2023-01-10 02:00:00.000000",
          "2023-01-10 03:00:00.000000",
          "2023-01-10 04:00:00.000000",
          "2023-01-10 05:00:00.000000",
          "2023-01-10 06:00:00.000000",
          "2023-01-10 07:00:00.000000",
          "2023-01-10 08:00:00.000000",
          "2023-01-10 09:00:00.000000",
          "2023-01-10 10:00:00.000000",
          "2023-01-10 11:00:00.000000",
          "2023-01-10 12:00:00.000000",
          "2023-01-10 13:00:00.000000",
          "2023-01-10 14:00:00.000000",
          "2023-01-10 15:00:00.000000",
          "2023-01-10 16:00:00.000000",
          "2023-01-10 17:00:00.000000",
          "2023-01-10 18:00:00.000000",
          "2023-01-10 19:00:00.000000",
          "2023-01-10 20:00:00.000000",
          "2023-01-10 21:00:00.000000",
          "2023-01-10 22:00:00.000000",
          "2023-01-10 23:00:00.000000",
          "2023-01-11 00:00:00.000000",
          "2023-01-11 01:00:00.000000",
          "2023-01-11 02:00:00.000000",
          "2023-01-11 03:00:00.000000",
          "2023-01-11 04:00:00.000000",
          "2023-01-11 05:00:00.000000",
          "2023-01-11 06:00:00.000000",
          "2023-01-11 07:00:00.000000",
          "2023-01-11 08:00:00.000000",
          "2023-01-11 09:00:00.000000",
          "2023-01-11 10:00:00.000000",
          "2023-01-11 11:00:00.000000",
          "2023-01-11 12:00:00.000000",
          "2023-01-11 13:00:00.000000",
          "2023-01-11 14:00:00.000000",
          "2023-01-11 15:00:00.000000",
          "2023-01-11 16:00:00.000000",
          "2023-01-11 17:00:00.000000",
          "2023-01-11 18:00:00.000000",
          "2023-01-11 19:00:00.000000",
          "2023-01-11 20:00:00.000000",
          "2023-01-11 21:00:00.000000",
          "2023-01-11 22:00:00.000000",
          "2023-01-11 23:00:00.000000",
          "2023-01-12 00:00:00.000000",
          "2023-01-12 01:00:00.000000",
          "2023-01-12 02:00:00.000000",
          "2023-01-12 03:00:00.000000",
          "2023-01-12 04:00:00.000000",
          "2023-01-12 05:00:00.000000",
          "2023-01-12 06:00:00.000000",
          "2023-01-12 07:00:00.000000",
          "2023-01-12 08:00:00.000000",
          "2023-01-12 09:00:00.000000",
          "2023-01-12 10:00:00.000000",
          "2023-01-12 11:00:00.000000",
          "2023-01-12 12:00:00.000000",
          "2023-01-12 13:00:00.000000",
          "2023-01-12 14:00:00.000000",
          "2023-01-12 15:00:00.000000",
          "2023-01-12 16:00:00.000000",
          "2023-01-12 17:00:00.000000",
          "2023-01-12 18:00:00.000000",
          "2023-01-12 19:00:00.000000",
          "2023-01-12 20:00:00.000000",
          "2023-01-12 21:00:00.000000",
          "2023-01-12 22:00:00.000000",
          "2023-01-12 23:00:00.000000",
          "2023-01-13 00:00:00.000000",
          "2023-01-13 01:00:00.000000",
          "2023-01-13 02:00:00.000000",
          "2023-01-13 03:00:00.000000",
          "2023-01-13 04:00:00.000000",
          "2023-01-13 05:00:00.000000",
          "2023-01-13 06:00:00.000000",
          "2023-01-13 07:00:00.000000",
          "2023-01-13 08:00:00.000000",
          "2023-01-13 09:00:00.000000",
          "2023-01-13 10:00:00.000000",
          "2023-01-13 11:00:00.000000",
          "2023-01-13 12:00:00.000000",
          "2023-01-13 13:00:00.000000",
          "2023-01-13 14:00:00.000000",
          "2023-01-13 15:00:00.000000",
          "2023-01-13 16:00:00.000000",
          "2023-01-13 17:00:00.000000",
          "2023-01-13 18:00:00.000000",
          "2023-01-13 19:00:00.000000",
          "2023-01-13 20:00:00.000000",
          "2023-01-13 21:00:00.000000",
          "2023-01-13 22:00:00.000000",
          "2023-01-13 23:00:00.000000",
          "2023-01-14 00:00:00.000000",
          "2023-01-14 01:00:00.000000",
          "2023-01-14 02:00:00.000000",
          "2023-01-14 03:00:00.000000",
          "2023-01-14 04:00:00.000000",
          "2023-01-14 05:00:00.000000",
          "2023-01-14 06:00:00.000000",
          "2023-01-14 07:00:00.000000",
          "2023-01-14 08:00:00.000000",
          "2023-01-14 09:00:00.000000",
          "2023-01-14 10:00:00.000000",
          "2023-01-14 11:00:00.000000",
          "2023-01-14 12:00:00.000000",
          "2023-01-14 13:00:00.000000",
          "2023-01-14 14:00:00.000000",
          "2023-01-14 15:00:00.000000",
          "2023-01-14 16:00:00.000000",
          "2023-01-14 17:00:00.000000",
          "2023-01-14 18:00:00.000000",
          "2023-01-14 19:00:00.000000",
          "2023-01-14 20:00:00.000000",
          "2023-01-14 21:00:00.000000",
          "2023-01-14 22:00:00.000000",
          "2023-01-14 23:00:00.000000",
          "2023-01-15 00:00:00.000000",
          "2023-01-15 01:00:00.000000",
          "2023-01-15 02:00:00.000000",
          "2023-01-15 03:00:00.000000",
          "2023-01-15 04:00:00.000000",
          "2023-01-15 05:00:00.000000",
          "2023-01-15 06:00:00.000000",
          "2023-01-15 07:00:00.000000",
          "2023-01-15 08:00:00.000000",
          "2023-01-15 09:00:00.000000",
          "2023-01-15 10:00:00.000000",
          "2023-01-15 11:00:00.000000",
          "2023-01-15 12:00:00.000000",
          "2023-01-15 13:00:00.000000",
          "2023-01-15 14:00:00.000000",
          "2023-01-15 15:00:00.000000",
          "2023-01-15 16:00:00.000000",
          "2023-01-15 17:00:00.000000",
          "2023-01-15 18:00:00.000000",
          "2023-01-15 19:00:00.000000",
          "2023-01-15 20:00:00.000000",
          "2023-01-15 21:00:00.000000",
          "2023-01-15 22:00:00.000000",
          "2023-01-15 23:00:00.000000",
          "2023-01-16 00:00:00.000000",
          "2023-01-16 01:00:00.000000",
          "2023-01-16 02:00:00.000000",
          "2023-01-16 03:00:00.000000",
          "2023-01-16 04:00:00.000000",
          "2023-01-16 05:00:00.000000",
          "2023-01-16 06:00:00.000000",
          "2023-01-16 07:00:00.000000",
          "2023-01-16 08:00:00.000000",
          "2023-01-16 09:00:00.000000",
          "2023-01-16 10:00:00.000000",
          "2023-01-16 11:00:00.000000",
          "2023-01-16 12:00:00.000000",
          "2023-01-16 13:00:00.000000",
          "2023-01-16 14:00:00.000000",
          "2023-01-16 15:00:00.000000",
          "2023-01-16 16:00:00.000000",
          "2023-01-16 17:00:00.000000",
          "2023-01-16 18:00:00.000000",
          "2023-01-16 19:00:00.000000",
          "2023-01-16 20:00:00.000000",
          "2023-01-16 21:00:00.000000",
          "2023-01-16 22:00:00.000000",
          "2023-01-16 23:00:00.000000",
          "2023-01-17 00:00:00.000000",
          "2023-01-17 01:00:00.000000",
          "2023-01-17 02:00:00.000000",
          "2023-01-17 03:00:00.000000",
          "2023-01-17 04:00:00.000000",
          "2023-01-17 05:00:00.000000",
          "2023-01-17 06:00:00.000000",
          "2023-01-17 07:00:00.000000",
          "2023-01-17 08:00:00.000000",
          "2023-01-17 09:00:00.000000",
          "2023-01-17 10:00:00.000000",
          "2023-01-17 11:00:00.000000",
          "2023-01-17 12:00:00.000000",
          "2023-01-17 13:00:00.000000",
          "2023-01-17 14:00:00.000000",
          "2023-01-17 15:00:00.000000",
          "2023-01-17 16:00:00.000000",
          "2023-01-17 17:00:00.000000",
          "2023-01-17 18:00:00.000000",
          "2023-01-17 19:00:00.000000",
          "2023-01-17 20:00:00.000000",
          "2023-01-17 21:00:00.000000",
          "2023-01-17 22:00:00.000000",
          "2023-01-17 23:00:00.000000",
          "2023-01-18 00:00:00.000000",
          "2023-01-18 01:00:00.000000",
          "2023-01-18 02:00:00.000000",
          "2023-01-18 03:00:00.000000",
          "2023-01-18 04:00:00.000000",
          "2023-01-18 05:00:00.000000",
          "2023-01-18 06:00:00.000000",
          "2023-01-18 07:00:00.000000",
          "2023-01-18 08:00:00.000000",
          "2023-01-18 09:00:00.000000",
          "2023-01-18 10:00:00.000000",
          "2023-01-18 11:00:00.000000",
          "2023-01-18 12:00:00.000000",
          "2023-01-18 13:00:00.000000",
          "2023-01-18 14:00:00.000000",
          "2023-01-18 15:00:00.000000",
          "2023-01-18 16:00:00.000000",
          "2023-01-18 17:00:00.000000",
          "2023-01-18 18:00:00.000000",
          "2023-01-18 19:00:00.000000",
          "2023-01-18 20:00:00.000000",
          "2023-01-18 21:00:00.000000",
          "2023-01-18 22:00:00.000000",
          "2023-01-18 23:00:00.000000",
          "2023-01-19 00:00:00.000000",
          "2023-01-19 01:00:00.000000",
          "2023-01-19 02:00:00.000000",
          "2023-01-19 03:00:00.000000",
          "2023-01-19 04:00:00.000000",
          "2023-01-19 05:00:00.000000",
          "2023-01-19 06:00:00.000000",
          "2023-01-19 07:00:00.000000",
          "2023-01-19 08:00:00.000000",
          "2023-01-19 09:00:00.000000",
          "2023-01-19 10:00:00.000000",
          "2023-01-19 11:00:00.000000",
          "2023-01-19 12:00:00.000000",
          "2023-01-19 13:00:00.000000",
          "2023-01-19 14:00:00.000000",
          "2023-01-19 15:00:00.000000",
          "2023-01-19 16:00:00.000000",
          "2023-01-19 17:00:00.000000",
          "2023-01-19 18:00:00.000000",
          "2023-01-19 19:00:00.000000",
          "2023-01-19 20:00:00.000000",
          "2023-01-19 21:00:00.000000",
          "2023-01-19 22:00:00.000000",
          "2023-01-19 23:00:00.000000",
          "2023-01-20 00:00:00.000000",
          "2023-01-20 01:00:00.000000",
          "2023-01-20 02:00:00.000000",
          "2023-01-20 03:00:00.000000",
          "2023-01-20 04:00:00.000000",
          "2023-01-20 05:00:00.000000",
          "2023-01-20 06:00:00.000000",
          "2023-01-20 07:00:00.000000",
          "2023-01-20 08:00:00.000000",
          "2023-01-20 09:00:00.000000",
          "2023-01-20 10:00:00.000000",
          "2023-01-20 11:00:00.000000",
          "2023-01-20 12:00:00.000000",
          "2023-01-20 13:00:00.000000",
          "2023-01-20 14:00:00.000000",
          "2023-01-20 15:00:00.000000",
          "2023-01-20 16:00:00.000000",
          "2023-01-20 17:00:00.000000",
          "2023-01-20 18:00:00.000000",
          "2023-01-20 19:00:00.000000",
          "2023-01-20 20:00:00.000000",
          "2023-01-20 21:00:00.000000",
          "2023-01-20 22:00:00.000000",
          "2023-01-20 23:00:00.000000",
          "2023-01-21 00:00:00.000000",
          "2023-01-21 01:00:00.000000",
          "2023-01-21 02:00:00.000000",
          "2023-01-21 03:00:00.000000",
          "2023-01-21 04:00:00.000000",
          "2023-01-21 05:00:00.000000",
          "2023-01-21 06:00:00.000000",
          "2023-01-21 07:00:00.000000",
          "2023-01-21 08:00:00.000000",
          "2023-01-21 09:00:00.000000",
          "2023-01-21 10:00:00.000000",
          "2023-01-21 11:00:00.000000",
          "2023-01-21 12:00:00.000000",
          "2023-01-21 13:00:00.000000",
          "2023-01-21 14:00:00.000000",
          "2023-01-21 15:00:00.000000",
          "2023-01-21 16:00:00.000000",
          "2023-01-21 17:00:00.000000",
          "2023-01-21 18:00:00.000000",
          "2023-01-21 19:00:00.000000",
          "2023-01-21 20:00:00.000000",
          "2023-01-21 21:00:00.000000",
          "2023-01-21 22:00:00.000000",
          "2023-01-21 23:00:00.000000",
          "2023-01-22 00:00:00.000000",
          "2023-01-22 01:00:00.000000",
          "2023-01-22 02:00:00.000000",
          "2023-01-22 03:00:00.000000",
          "2023-01-22 04:00:00.000000",
          "2023-01-22 05:00:00.000000",
          "2023-01-22 06:00:00.000000",
          "2023-01-22 07:00:00.000000",
          "2023-01-22 08:00:00.000000",
          "2023-01-22 09:00:00.000000",
          "2023-01-22 10:00:00.000000",
          "2023-01-22 11:00:00.000000",
          "2023-01-22 12:00:00.000000",
          "2023-01-22 13:00:00.000000",
          "2023-01-22 14:00:00.000000",
          "2023-01-22 15:00:00.000000",
          "2023-01-22 16:00:00.000000",
          "2023-01-22 17:00:00.000000",
          "2023-01-22 18:00:00.000000",
          "2023-01-22 19:00:00.000000",
          "2023-01-22 20:00:00.000000",
          "2023-01-22 21:00:00.000000",
          "2023-01-22 22:00:00.000000",
          "2023-01-22 23:00:00.000000",
          "2023-01-23 00:00:00.000000",
          "2023-01-23 01:00:00.000000",
          "2023-01-23 02:00:00.000000",
          "2023-01-23 03:00:00.000000",
          "2023-01-23 04:00:00.000000",
          "2023-01-23 05:00:00.000000",
          "2023-01-23 06:00:00.000000",
          "2023-01-23 07:00:00.000000",
          "2023-01-23 08:00:00.000000",
          "2023-01-23 09:00:00.000000",
          "2023-01-23 10:00:00.000000",
          "2023-01-23 11:00:00.000000",
          "2023-01-23 12:00:00.000000",
          "2023-01-23 13:00:00.000000",
          "2023-01-23 14:00:00.000000",
          "2023-01-23 15:00:00.000000",
          "2023-01-23 16:00:00.000000",
          "2023-01-23 17:00:00.000000",
          "2023-01-23 18:00:00.000000",
          "2023-01-23 19:00:00.000000",
          "2023-01-23 20:00:00.000000",
          "2023-01-23 21:00:00.000000",
          "2023-01-23 22:00:00.000000",
          "2023-01-23 23:00:00.000000",
          "2023-01-24 00:00:00.000000",
          "2023-01-24 01:00:00.000000",
          "2023-01-24 02:00:00.000000",
          "2023-01-24 03:00:00.000000",
          "2023-01-24 04:00:00.000000",
          "2023-01-24 05:00:00.000000",
          "2023-01-24 06:00:00.000000",
          "2023-01-24 07:00:00.000000",
          "2023-01-24 08:00:00.000000",
          "2023-01-24 09:00:00.000000",
          "2023-01-24 10:00:00.000000",
          "2023-01-24 11:00:00.000000",
          "2023-01-24 12:00:00.000000",
          "2023-01-24 13:00:00.000000",
          "2023-01-24 14:00:00.000000",
          "2023-01-24 15:00:00.000000",
          "2023-01-24 16:00:00.000000",
          "2023-01-24 17:00:00.000000",
          "2023-01-24 18:00:00.000000",
          "2023-01-24 19:00:00.000000",
          "2023-01-24 20:00:00.000000",
          "2023-01-24 21:00:00.000000",
          "2023-01-24 22:00:00.000000",
          "2023-01-24 23:00:00.000000",
          "2023-01-25 00:00:00.000000",
          "2023-01-25 01:00:00.000000",
          "2023-01-25 02:00:00.000000",
          "2023-01-25 03:00:00.000000",
          "2023-01-25 04:00:00.000000",
          "2023-01-25 05:00:00.000000",
          "2023-01-25 06:00:00.000000",
          "2023-01-25 07:00:00.000000",
          "2023-01-25 08:00:00.000000",
          "2023-01-25 09:00:00.000000",
          "2023-01-25 10:00:00.000000",
          "2023-01-25 11:00:00.000000",
          "2023-01-25 12:00:00.000000",
          "2023-01-25 13:00:00.000000",
          "2023-01-25 14:00:00.000000",
          "2023-01-25 15:00:00.000000",
          "2023-01-25 16:00:00.000000",
          "2023-01-25 17:00:00.000000",
          "2023-01-25 18:00:00.000000",
          "2023-01-25 19:00:00.000000",
          "2023-01-25 20:00:00.000000",
          "2023-01-25 21:00:00.000000",
          "2023-01-25 22:00:00.000000",
          "2023-01-25 23:00:00.000000",
          "2023-01-26 00:00:00.000000",
          "2023-01-26 01:00:00.000000",
          "2023-01-26 02:00:00.000000",
          "2023-01-26 03:00:00.000000",
          "2023-01-26 04:00:00.000000",
          "2023-01-26 05:00:00.000000",
          "2023-01-26 06:00:00.000000",
          "2023-01-26 07:00:00.000000",
          "2023-01-26 08:00:00.000000",
          "2023-01-26 09:00:00.000000",
          "2023-01-26 10:00:00.000000",
          "2023-01-26 11:00:00.000000",
          "2023-01-26 12:00:00.000000",
          "2023-01-26 13:00:00.000000",
          "2023-01-26 14:00:00.000000",
          "2023-01-26 15:00:00.000000",
          "2023-01-26 16:00:00.000000",
          "2023-01-26 17:00:00.000000",
          "2023-01-26 18:00:00.000000",
          "2023-01-26 19:00:00.000000",
          "2023-01-26 20:00:00.000000",
          "2023-01-26 21:00:00.000000",
          "2023-01-26 22:00:00.000000",
          "2023-01-26 23:00:00.000000",
          "2023-01-27 00:00:00.000000",
          "2023-01-27 01:00:00.000000",
          "2023-01-27 02:00:00.000000",
          "2023-01-27 03:00:00.000000",
          "2023-01-27 04:00:00.000000",
          "2023-01-27 05:00:00.000000",
          "2023-01-27 06:00:00.000000",
          "2023-01-27 07:00:00.000000",
          "2023-01-27 08:00:00.000000",
          "2023-01-27 09:00:00.000000",
          "2023-01-27 10:00:00.000000",
          "2023-01-27 11:00:00.000000",
          "2023-01-27 12:00:00.000000",
          "2023-01-27 13:00:00.000000",
          "2023-01-27 14:00:00.000000",
          "2023-01-27 15:00:00.000000",
          "2023-01-27 16:00:00.000000",
          "2023-01-27 17:00:00.000000",
          "2023-01-27 18:00:00.000000",
          "2023-01-27 19:00:00.000000",
          "2023-01-27 20:00:00.000000",
          "2023-01-27 21:00:00.000000",
          "2023-01-27 22:00:00.000000",
          "2023-01-27 23:00:00.000000",
          "2023-01-28 00:00:00.000000",
          "2023-01-28 01:00:00.000000",
          "2023-01-28 02:00:00.000000",
          "2023-01-28 03:00:00.000000",
          "2023-01-28 04:00:00.000000",
          "2023-01-28 05:00:00.000000",
          "2023-01-28 06:00:00.000000",
          "2023-01-28 07:00:00.000000",
          "2023-01-28 08:00:00.000000",
          "2023-01-28 09:00:00.000000",
          "2023-01-28 10:00:00.000000",
          "2023-01-28 11:00:00.000000",
          "2023-01-28 12:00:00.000000",
          "2023-01-28 13:00:00.000000",
          "2023-01-28 14:00:00.000000",
          "2023-01-28 15:00:00.000000",
          "2023-01-28 16:00:00.000000",
          "2023-01-28 17:00:00.000000",
          "2023-01-28 18:00:00.000000",
          "2023-01-28 19:00:00.000000",
          "2023-01-28 20:00:00.000000",
          "2023-01-28 21:00:00.000000",
          "2023-01-28 22:00:00.000000",
          "2023-01-28 23:00:00.000000",
          "2023-01-29 00:00:00.000000",
          "2023-01-29 01:00:00.000000",
          "2023-01-29 02:00:00.000000",
          "2023-01-29 03:00:00.000000",
          "2023-01-29 04:00:00.000000",
          "2023-01-29 05:00:00.000000",
          "2023-01-29 06:00:00.000000",
          "2023-01-29 07:00:00.000000",
          "2023-01-29 08:00:00.000000",
          "2023-01-29 09:00:00.000000",
          "2023-01-29 10:00:00.000000",
          "2023-01-29 11:00:00.000000",
          "2023-01-29 12:00:00.000000",
          "2023-01-29 13:00:00.000000",
          "2023-01-29 14:00:00.000000",
          "2023-01-29 15:00:00.000000",
          "2023-01-29 16:00:00.000000",
          "2023-01-29 17:00:00.000000",
          "2023-01-29 18:00:00.000000",
          "2023-01-29 19:00:00.000000",
          "2023-01-29 20:00:00.000000",
          "2023-01-29 21:00:00.000000",
          "2023-01-29 22:00:00.000000",
          "2023-01-29 23:00:00.000000",
          "2023-01-30 00:00:00.000000",
          "2023-01-30 01:00:00.000000",
          "2023-01-30 02:00:00.000000",
          "2023-01-30 03:00:00.000000",
          "2023-01-30 04:00:00.000000",
          "2023-01-30 05:00:00.000000",
          "2023-01-30 06:00:00.000000",
          "2023-01-30 07:00:00.000000",
          "2023-01-30 08:00:00.000000",
          "2023-01-30 09:00:00.000000",
          "2023-01-30 10:00:00.000000",
          "2023-01-30 11:00:00.000000",
          "2023-01-30 12:00:00.000000",
          "2023-01-30 13:00:00.000000",
          "2023-01-30 14:00:00.000000",
          "2023-01-30 15:00:00.000000",
          "2023-01-30 16:00:00.000000",
          "2023-01-30 17:00:00.000000",
          "2023-01-30 18:00:00.000000",
          "2023-01-30 19:00:00.000000",
          "2023-01-30 20:00:00.000000",
          "2023-01-30 21:00:00.000000",
          "2023-01-30 22:00:00.000000",
          "2023-01-30 23:00:00.000000",
          "2023-01-31 00:00:00.000000",
          "2023-01-31 01:00:00.000000",
          "2023-01-31 02:00:00.000000",
          "2023-01-31 03:00:00.000000",
          "2023-01-31 04:00:00.000000",
          "2023-01-31 05:00:00.000000",
          "2023-01-31 06:00:00.000000",
          "2023-01-31 07:00:00.000000",
          "2023-01-31 08:00:00.000000"
         ],
         "xaxis": "x3",
         "y": [
          16577.79,
          16570.14,
          16568.6,
          16548.28,
          16520.81,
          16542.4,
          16529.67,
          16551.47,
          16548.19,
          16533.04,
          16521.85,
          16530.71,
          16539.79,
          16526.19,
          16513.34,
          16537.88,
          16548.34,
          16556.66,
          16560.93,
          16548.04,
          16542.94,
          16558.73,
          16565.14,
          16578.85,
          16591.88,
          16603.08,
          16604.51,
          16606.68,
          16602.12,
          16616.75,
          16588.35,
          16565.04,
          16587.85,
          16661.94,
          16639.44,
          16647.58,
          16641.1,
          16721.28,
          16733.71,
          16717.5,
          16727.95,
          16735.11,
          16721.54,
          16694.78,
          16698.69,
          16734.66,
          16710.88,
          16715.42,
          16723.81,
          16737.56,
          16728.52,
          16757.76,
          16698.4,
          16672.87,
          16695.59,
          16677.6,
          16674.03,
          16691.81,
          16685.64,
          16725.5,
          16727.58,
          16729.74,
          16715.22,
          16741.31,
          16724.32,
          16721.03,
          16710.85,
          16725.53,
          16661.23,
          16676.94,
          16622.58,
          16633.65,
          16645.08,
          16643.37,
          16661.37,
          16664.63,
          16677.11,
          16675.18,
          16660.53,
          16701.97,
          16736.52,
          16862.02,
          16860.5,
          16857.57,
          16878.18,
          16869.44,
          16864.95,
          16844.91,
          16844.92,
          16835.35,
          16812.19,
          16828.2,
          16830.12,
          16854.05,
          16858.85,
          16893.24,
          16948.04,
          16842.36,
          16806.49,
          16826.81,
          16826.68,
          16850.36,
          16828.45,
          16832.9,
          16836.8,
          16827.71,
          16836.41,
          16844.12,
          16817.13,
          16823.64,
          16807.53,
          16807.12,
          16825.08,
          16833.6,
          16822.13,
          16780.25,
          16829.59,
          16842.94,
          16838.28,
          16814.48,
          16841.93,
          16863.85,
          16859.02,
          16848.51,
          16837.85,
          16831.85,
          16859.78,
          16827.8,
          16837.06,
          16833.56,
          16822.99,
          16810.18,
          16786.86,
          16794.06,
          16802.11,
          16787.1,
          16767.06,
          16738.22,
          16731.02,
          16774.19,
          16748.82,
          16840.82,
          16827.21,
          16821.27,
          16850.45,
          16939.91,
          16897.48,
          16931.27,
          16958.35,
          16950.65,
          16978.18,
          16950.02,
          16944.24,
          16952.46,
          16938.27,
          16934.28,
          16933.29,
          16948.09,
          16929.76,
          16928.51,
          16922.51,
          16918.3,
          16916.14,
          16919.34,
          16937.92,
          16940.42,
          16922.79,
          16928.85,
          16938.12,
          16944.05,
          16945.77,
          16939.31,
          16936.31,
          16943.57,
          16926.66,
          16929.82,
          16931.18,
          16944.02,
          16934.75,
          16943.73,
          16950.92,
          16953.77,
          16946.07,
          16935.6,
          16936.41,
          16927.42,
          16923.75,
          16933.03,
          16952.44,
          17000.43,
          16936.87,
          16928.5,
          16929.84,
          16927.25,
          16966.67,
          16957.46,
          16963.14,
          17127.83,
          17184.51,
          17175.02,
          17191.47,
          17197,
          17226.49,
          17205.95,
          17189.24,
          17198.48,
          17191.68,
          17238.38,
          17264.5,
          17238.93,
          17249.06,
          17226.9,
          17264.25,
          17268.49,
          17327.84,
          17356.96,
          17350.71,
          17293.69,
          17221.29,
          17182.48,
          17204.83,
          17178.26,
          17219.19,
          17194.39,
          17185.94,
          17205.72,
          17221.68,
          17228.77,
          17203.95,
          17203.2,
          17256.34,
          17247.71,
          17271.02,
          17252.89,
          17224.15,
          17246.05,
          17286.59,
          17327.7,
          17302.15,
          17325.97,
          17433.95,
          17432.85,
          17477.15,
          17463.56,
          17428.08,
          17440.66,
          17466.02,
          17458.05,
          17388.2,
          17416.14,
          17408.39,
          17406.3,
          17437.29,
          17446.65,
          17447.6,
          17446.71,
          17441.24,
          17437.75,
          17418.56,
          17413.43,
          17413.97,
          17332.43,
          17347.62,
          17382.08,
          17487.09,
          17550.29,
          17550.57,
          17558.6,
          17556.41,
          17943.26,
          18264.1,
          18221.51,
          18207.54,
          18224.68,
          18215.66,
          18087.54,
          18147.77,
          18138.22,
          18151.52,
          18164.67,
          18185.6,
          18200.8,
          18268.94,
          18284.91,
          17998.56,
          18086.62,
          18134.55,
          18837.06,
          18796.93,
          18885.35,
          19048.95,
          18830.07,
          18913.92,
          18846.62,
          18771.61,
          18811.48,
          18835.48,
          18876.37,
          18821.27,
          18787.71,
          18852.68,
          18824.25,
          18842.15,
          18910.23,
          19042.01,
          18920.95,
          18864.59,
          18854.84,
          18996.27,
          19261.19,
          19133.39,
          19256.06,
          19292.44,
          19362.01,
          19473.67,
          19816.81,
          19849.41,
          19930.01,
          20891.67,
          20927.44,
          20938.93,
          20967.23,
          20894.86,
          20841.62,
          20955.57,
          20897.36,
          21003.35,
          20523.75,
          20496.77,
          20721.73,
          20911.19,
          20940.71,
          20834.4,
          20786.74,
          20810.66,
          20755.78,
          20757.99,
          20783.68,
          20877.47,
          20900.66,
          20989.97,
          20954.92,
          20767.05,
          20770.29,
          20672.91,
          20719.09,
          20698.14,
          20749.76,
          20717,
          20735.69,
          20617.71,
          20750.59,
          20732.83,
          20722.23,
          20694.03,
          20705.79,
          20787.58,
          20908.28,
          20869.2,
          20920.23,
          20817.94,
          20870.15,
          20905.69,
          20900.62,
          20911.27,
          20871.5,
          20966.58,
          21182.87,
          21209.31,
          21075.68,
          21148.99,
          21187.16,
          21149.8,
          21109.23,
          20747.7,
          20824.08,
          20850.68,
          20817.56,
          20787.54,
          20827.47,
          20860.68,
          20994.17,
          20998.5,
          21103.99,
          21281.97,
          21308.57,
          21292,
          21132.36,
          21185.89,
          21185.65,
          21109.52,
          21041.3,
          21102.13,
          21124.57,
          21159.29,
          21151.21,
          21075.27,
          21133.65,
          21200.95,
          21174.92,
          21129.69,
          21219.75,
          21252.23,
          21235.07,
          21281.66,
          21176.06,
          21162.92,
          21220.78,
          21362.89,
          21336.46,
          21390.44,
          21312.63,
          21232.38,
          21134.81,
          21202.97,
          21243.96,
          21292.56,
          21258.54,
          21279.61,
          21311.33,
          21261.76,
          21307.94,
          21249.31,
          21230.09,
          21183.83,
          21204.67,
          21259.18,
          21403.31,
          21424.3,
          21042.73,
          20845.47,
          20887.85,
          20936.83,
          20906.54,
          20732.6,
          20780.36,
          20805.8,
          20677.47,
          20694.01,
          20716.95,
          20763.66,
          20748.04,
          20810.18,
          20814.82,
          20828.59,
          20818.95,
          20769.06,
          20795.39,
          20796.47,
          20743.72,
          20727.03,
          20776.95,
          20799.4,
          20876.44,
          20875.41,
          20841.16,
          20977.73,
          21090.95,
          21102.44,
          20932.98,
          21065.23,
          21071.59,
          21054.74,
          21117.28,
          21079.66,
          21087.74,
          20991.01,
          20982.27,
          20943.73,
          20959.44,
          20946.15,
          20959.17,
          20962.16,
          20963.51,
          21089.54,
          21058.68,
          21153.97,
          21144.77,
          21313.29,
          21353.61,
          21384.49,
          21496.67,
          22288.37,
          22315.41,
          22595.08,
          22667.21,
          22576.17,
          22563.99,
          22551.05,
          22547.35,
          22597.96,
          22573.98,
          22620.93,
          22638.36,
          22700.63,
          23037.49,
          22777.52,
          22905.65,
          23039.5,
          22930.04,
          22955.26,
          22998.9,
          23197.45,
          23226.65,
          23248.52,
          23270.5,
          23093.38,
          23204.64,
          22759.71,
          22783.55,
          22877.48,
          22792.13,
          22707.64,
          22758.3,
          22847.79,
          22878.37,
          22919.67,
          22895.2,
          22909.76,
          22856.68,
          22872.97,
          22783.61,
          22869.56,
          22897.79,
          22990.41,
          22794.51,
          22819.28,
          22922.34,
          22838,
          22722.15,
          22459.46,
          22585.37,
          22676.48,
          22707.88,
          22745.28,
          22699.37,
          22752.05,
          22661.02,
          22758.32,
          22723.63,
          22773.33,
          22695.9,
          22719.28,
          22784.18,
          22909.95,
          22904.58,
          22910.74,
          22798.41,
          22622.05,
          22853.14,
          22911.17,
          23065.22,
          22936.2,
          22792.47,
          23022.64,
          22996,
          22925.32,
          22916.45,
          22986.44,
          23089.46,
          23036.68,
          23079.27,
          23072.15,
          23118.17,
          23095.63,
          23054.08,
          23053.12,
          22852.79,
          22902.51,
          22917.66,
          22964.13,
          22859.93,
          22859.1,
          22931.36,
          22875.18,
          22913.49,
          22999.85,
          23018.53,
          23010.34,
          22902.84,
          22755.52,
          22632.89,
          22652.23,
          22490.64,
          22549.89,
          22643.61,
          22624.83,
          22670.72,
          22713.76,
          22712.45,
          22659.72,
          22607.26,
          22611.9,
          22598.47,
          22694.23,
          22595.72,
          22435.47,
          22577.86,
          22629.75,
          22568.94,
          22724.9,
          22748.86,
          22938.09,
          23592.55,
          22932.2,
          23060.94,
          23240.42,
          23163.24,
          23178.98,
          23136.16,
          23179.35,
          23147.48,
          23087.87,
          22966.73,
          23003.87,
          22970.7,
          22939.26,
          22992.94,
          23120.96,
          23128.35,
          23039.35,
          22958.02,
          23003.98,
          22982.85,
          23037.16,
          23070,
          23112.57,
          23081.77,
          23003.79,
          23009.65,
          22925.5,
          22647.48,
          22781.67,
          22772.62,
          22802.81,
          23034.92,
          23002.92,
          23072.77,
          22964.51,
          22947.87,
          22948.04,
          22967.47,
          22932.41,
          22899.82,
          22967.66,
          22933.96,
          23129.72,
          23204.74,
          23183.91,
          23253.06,
          23108.82,
          23080.88,
          23008.22,
          23074.16,
          23151.84,
          23090.53,
          23086.84,
          23117.44,
          23092.24,
          23066.38,
          23038.21,
          22991.51,
          22978.64,
          22998.6,
          22974.47,
          22981.51,
          22955.25,
          22970.1,
          22949.43,
          23012.54,
          23018.14,
          23018.96,
          22998.31,
          23039.35,
          22966.91,
          23001.41,
          22977.63,
          23022.6,
          23112.95,
          23232.32,
          23143.08,
          23193.43,
          23228.89,
          23249.5,
          23198.58,
          23203.86,
          23172.28,
          23296.8,
          23448.03,
          23432.17,
          23478.21,
          23538.94,
          23538.58,
          23525.09,
          23586.44,
          23591.38,
          23678.99,
          23897.84,
          23698.65,
          23794.2,
          23765.93,
          23742.3,
          23751.43,
          23670.08,
          23645.76,
          23701.44,
          23717.76,
          23728.71,
          23692.38,
          23642.81,
          23548.76,
          23191.2,
          23243.54,
          23077.47,
          23076.27,
          23057.19,
          23287.7,
          23178.51,
          23170.38,
          23108.94,
          23138.83,
          22784.86,
          22697.83,
          22743.7,
          22729.81,
          22826.15,
          22828.32,
          22830.23,
          22857.93,
          22835.01,
          22861.59,
          22759.14,
          22812.12,
          22978.24
         ],
         "yaxis": "y6"
        },
        {
         "legendgroup": "3",
         "marker": {
          "color": "#228b22",
          "size": 10,
          "symbol": "circle"
         },
         "mode": "markers",
         "name": "Long",
         "type": "scatter",
         "x": [
          "2023-01-01 01:00:00.000000",
          "2023-01-01 02:00:00.000000",
          "2023-01-01 03:00:00.000000",
          "2023-01-01 04:00:00.000000",
          "2023-01-01 05:00:00.000000",
          "2023-01-01 06:00:00.000000",
          "2023-01-01 07:00:00.000000",
          "2023-01-01 08:00:00.000000",
          "2023-01-01 09:00:00.000000",
          "2023-01-01 10:00:00.000000",
          "2023-01-01 11:00:00.000000",
          "2023-01-01 12:00:00.000000",
          "2023-01-01 13:00:00.000000",
          "2023-01-01 14:00:00.000000",
          "2023-01-01 16:00:00.000000",
          "2023-01-01 17:00:00.000000",
          "2023-01-01 18:00:00.000000",
          "2023-01-01 19:00:00.000000",
          "2023-01-01 20:00:00.000000",
          "2023-01-01 21:00:00.000000",
          "2023-01-01 22:00:00.000000",
          "2023-01-01 23:00:00.000000",
          "2023-01-02 00:00:00.000000",
          "2023-01-02 01:00:00.000000",
          "2023-01-02 02:00:00.000000",
          "2023-01-02 03:00:00.000000",
          "2023-01-02 04:00:00.000000",
          "2023-01-02 05:00:00.000000",
          "2023-01-02 06:00:00.000000",
          "2023-01-02 07:00:00.000000",
          "2023-01-02 08:00:00.000000",
          "2023-01-02 09:00:00.000000",
          "2023-01-02 10:00:00.000000",
          "2023-01-02 11:00:00.000000",
          "2023-01-02 12:00:00.000000",
          "2023-01-02 13:00:00.000000",
          "2023-01-02 14:00:00.000000",
          "2023-01-02 15:00:00.000000",
          "2023-01-02 16:00:00.000000",
          "2023-01-02 17:00:00.000000",
          "2023-01-02 18:00:00.000000",
          "2023-01-02 19:00:00.000000",
          "2023-01-02 20:00:00.000000",
          "2023-01-02 21:00:00.000000",
          "2023-01-02 22:00:00.000000",
          "2023-01-02 23:00:00.000000",
          "2023-01-03 00:00:00.000000",
          "2023-01-03 01:00:00.000000",
          "2023-01-03 03:00:00.000000",
          "2023-01-03 04:00:00.000000",
          "2023-01-03 05:00:00.000000",
          "2023-01-03 06:00:00.000000",
          "2023-01-03 07:00:00.000000",
          "2023-01-03 08:00:00.000000",
          "2023-01-03 09:00:00.000000",
          "2023-01-03 10:00:00.000000",
          "2023-01-03 11:00:00.000000",
          "2023-01-03 12:00:00.000000",
          "2023-01-03 13:00:00.000000",
          "2023-01-03 14:00:00.000000",
          "2023-01-03 15:00:00.000000",
          "2023-01-03 17:00:00.000000",
          "2023-01-03 18:00:00.000000",
          "2023-01-03 19:00:00.000000",
          "2023-01-03 20:00:00.000000",
          "2023-01-03 21:00:00.000000",
          "2023-01-03 22:00:00.000000",
          "2023-01-03 23:00:00.000000",
          "2023-01-04 00:00:00.000000",
          "2023-01-04 01:00:00.000000",
          "2023-01-04 02:00:00.000000",
          "2023-01-04 03:00:00.000000",
          "2023-01-04 04:00:00.000000",
          "2023-01-04 05:00:00.000000",
          "2023-01-04 06:00:00.000000",
          "2023-01-04 08:00:00.000000",
          "2023-01-04 09:00:00.000000",
          "2023-01-04 10:00:00.000000",
          "2023-01-04 11:00:00.000000",
          "2023-01-04 12:00:00.000000",
          "2023-01-04 13:00:00.000000",
          "2023-01-04 14:00:00.000000",
          "2023-01-04 15:00:00.000000",
          "2023-01-04 16:00:00.000000",
          "2023-01-04 17:00:00.000000",
          "2023-01-04 18:00:00.000000",
          "2023-01-04 19:00:00.000000",
          "2023-01-04 20:00:00.000000",
          "2023-01-04 21:00:00.000000",
          "2023-01-04 22:00:00.000000",
          "2023-01-04 23:00:00.000000",
          "2023-01-05 00:00:00.000000",
          "2023-01-05 01:00:00.000000",
          "2023-01-05 02:00:00.000000",
          "2023-01-05 03:00:00.000000",
          "2023-01-05 04:00:00.000000",
          "2023-01-05 05:00:00.000000",
          "2023-01-05 06:00:00.000000",
          "2023-01-05 07:00:00.000000",
          "2023-01-05 08:00:00.000000",
          "2023-01-05 09:00:00.000000",
          "2023-01-05 10:00:00.000000",
          "2023-01-05 11:00:00.000000",
          "2023-01-05 12:00:00.000000",
          "2023-01-05 13:00:00.000000",
          "2023-01-05 14:00:00.000000",
          "2023-01-05 15:00:00.000000",
          "2023-01-05 16:00:00.000000",
          "2023-01-05 17:00:00.000000",
          "2023-01-05 18:00:00.000000",
          "2023-01-05 19:00:00.000000",
          "2023-01-05 20:00:00.000000",
          "2023-01-05 21:00:00.000000",
          "2023-01-05 22:00:00.000000",
          "2023-01-05 23:00:00.000000",
          "2023-01-06 00:00:00.000000",
          "2023-01-06 01:00:00.000000",
          "2023-01-06 02:00:00.000000",
          "2023-01-06 03:00:00.000000",
          "2023-01-06 04:00:00.000000",
          "2023-01-06 05:00:00.000000",
          "2023-01-06 06:00:00.000000",
          "2023-01-06 07:00:00.000000",
          "2023-01-06 09:00:00.000000",
          "2023-01-06 10:00:00.000000",
          "2023-01-06 11:00:00.000000",
          "2023-01-06 13:00:00.000000",
          "2023-01-06 14:00:00.000000",
          "2023-01-06 15:00:00.000000",
          "2023-01-06 16:00:00.000000",
          "2023-01-06 17:00:00.000000",
          "2023-01-06 18:00:00.000000",
          "2023-01-06 19:00:00.000000",
          "2023-01-06 20:00:00.000000",
          "2023-01-06 21:00:00.000000",
          "2023-01-06 22:00:00.000000",
          "2023-01-07 00:00:00.000000",
          "2023-01-07 01:00:00.000000",
          "2023-01-07 02:00:00.000000",
          "2023-01-07 03:00:00.000000",
          "2023-01-07 04:00:00.000000",
          "2023-01-07 05:00:00.000000",
          "2023-01-07 06:00:00.000000",
          "2023-01-07 07:00:00.000000",
          "2023-01-07 08:00:00.000000",
          "2023-01-07 09:00:00.000000",
          "2023-01-07 10:00:00.000000",
          "2023-01-07 11:00:00.000000",
          "2023-01-07 12:00:00.000000",
          "2023-01-07 13:00:00.000000",
          "2023-01-07 14:00:00.000000",
          "2023-01-07 16:00:00.000000",
          "2023-01-07 17:00:00.000000",
          "2023-01-07 18:00:00.000000",
          "2023-01-07 19:00:00.000000",
          "2023-01-07 20:00:00.000000",
          "2023-01-07 21:00:00.000000",
          "2023-01-07 22:00:00.000000",
          "2023-01-07 23:00:00.000000",
          "2023-01-08 00:00:00.000000",
          "2023-01-08 01:00:00.000000",
          "2023-01-08 02:00:00.000000",
          "2023-01-08 03:00:00.000000",
          "2023-01-08 04:00:00.000000",
          "2023-01-08 05:00:00.000000",
          "2023-01-08 06:00:00.000000",
          "2023-01-08 07:00:00.000000",
          "2023-01-08 08:00:00.000000",
          "2023-01-08 09:00:00.000000",
          "2023-01-08 10:00:00.000000",
          "2023-01-08 11:00:00.000000",
          "2023-01-08 12:00:00.000000",
          "2023-01-08 13:00:00.000000",
          "2023-01-08 14:00:00.000000",
          "2023-01-08 15:00:00.000000",
          "2023-01-08 16:00:00.000000",
          "2023-01-08 17:00:00.000000",
          "2023-01-08 18:00:00.000000",
          "2023-01-08 19:00:00.000000",
          "2023-01-08 20:00:00.000000",
          "2023-01-08 21:00:00.000000",
          "2023-01-08 22:00:00.000000",
          "2023-01-08 23:00:00.000000",
          "2023-01-09 00:00:00.000000",
          "2023-01-09 01:00:00.000000",
          "2023-01-09 02:00:00.000000",
          "2023-01-09 03:00:00.000000",
          "2023-01-09 04:00:00.000000",
          "2023-01-09 05:00:00.000000",
          "2023-01-09 06:00:00.000000",
          "2023-01-09 07:00:00.000000",
          "2023-01-09 08:00:00.000000",
          "2023-01-09 09:00:00.000000",
          "2023-01-09 10:00:00.000000",
          "2023-01-09 11:00:00.000000",
          "2023-01-09 12:00:00.000000",
          "2023-01-09 13:00:00.000000",
          "2023-01-09 14:00:00.000000",
          "2023-01-09 15:00:00.000000",
          "2023-01-09 16:00:00.000000",
          "2023-01-09 17:00:00.000000",
          "2023-01-09 18:00:00.000000",
          "2023-01-09 19:00:00.000000",
          "2023-01-09 20:00:00.000000",
          "2023-01-09 21:00:00.000000",
          "2023-01-09 22:00:00.000000",
          "2023-01-09 23:00:00.000000",
          "2023-01-10 00:00:00.000000",
          "2023-01-10 01:00:00.000000",
          "2023-01-10 02:00:00.000000",
          "2023-01-10 03:00:00.000000",
          "2023-01-10 04:00:00.000000",
          "2023-01-10 05:00:00.000000",
          "2023-01-10 06:00:00.000000",
          "2023-01-10 07:00:00.000000",
          "2023-01-10 08:00:00.000000",
          "2023-01-10 09:00:00.000000",
          "2023-01-10 10:00:00.000000",
          "2023-01-10 11:00:00.000000",
          "2023-01-10 12:00:00.000000",
          "2023-01-10 13:00:00.000000",
          "2023-01-10 14:00:00.000000",
          "2023-01-10 15:00:00.000000",
          "2023-01-10 16:00:00.000000",
          "2023-01-10 17:00:00.000000",
          "2023-01-10 18:00:00.000000",
          "2023-01-10 19:00:00.000000",
          "2023-01-10 20:00:00.000000",
          "2023-01-10 21:00:00.000000",
          "2023-01-10 22:00:00.000000",
          "2023-01-10 23:00:00.000000",
          "2023-01-11 00:00:00.000000",
          "2023-01-11 01:00:00.000000",
          "2023-01-11 02:00:00.000000",
          "2023-01-11 03:00:00.000000",
          "2023-01-11 04:00:00.000000",
          "2023-01-11 05:00:00.000000",
          "2023-01-11 06:00:00.000000",
          "2023-01-11 07:00:00.000000",
          "2023-01-11 08:00:00.000000",
          "2023-01-11 09:00:00.000000",
          "2023-01-11 10:00:00.000000",
          "2023-01-11 11:00:00.000000",
          "2023-01-11 12:00:00.000000",
          "2023-01-11 13:00:00.000000",
          "2023-01-11 14:00:00.000000",
          "2023-01-11 15:00:00.000000",
          "2023-01-11 16:00:00.000000",
          "2023-01-11 17:00:00.000000",
          "2023-01-11 18:00:00.000000",
          "2023-01-11 19:00:00.000000",
          "2023-01-11 21:00:00.000000",
          "2023-01-11 22:00:00.000000",
          "2023-01-11 23:00:00.000000",
          "2023-01-12 00:00:00.000000",
          "2023-01-12 01:00:00.000000",
          "2023-01-12 02:00:00.000000",
          "2023-01-12 03:00:00.000000",
          "2023-01-12 04:00:00.000000",
          "2023-01-12 05:00:00.000000",
          "2023-01-12 06:00:00.000000",
          "2023-01-12 07:00:00.000000",
          "2023-01-12 08:00:00.000000",
          "2023-01-12 09:00:00.000000",
          "2023-01-12 10:00:00.000000",
          "2023-01-12 11:00:00.000000",
          "2023-01-12 12:00:00.000000",
          "2023-01-12 13:00:00.000000",
          "2023-01-12 14:00:00.000000",
          "2023-01-12 15:00:00.000000",
          "2023-01-12 16:00:00.000000",
          "2023-01-12 17:00:00.000000",
          "2023-01-12 18:00:00.000000",
          "2023-01-12 20:00:00.000000",
          "2023-01-12 21:00:00.000000",
          "2023-01-12 22:00:00.000000",
          "2023-01-12 23:00:00.000000",
          "2023-01-13 00:00:00.000000",
          "2023-01-13 01:00:00.000000",
          "2023-01-13 02:00:00.000000",
          "2023-01-13 03:00:00.000000",
          "2023-01-13 04:00:00.000000",
          "2023-01-13 05:00:00.000000",
          "2023-01-13 06:00:00.000000",
          "2023-01-13 08:00:00.000000",
          "2023-01-13 09:00:00.000000",
          "2023-01-13 10:00:00.000000",
          "2023-01-13 11:00:00.000000",
          "2023-01-13 12:00:00.000000",
          "2023-01-13 13:00:00.000000",
          "2023-01-13 14:00:00.000000",
          "2023-01-13 15:00:00.000000",
          "2023-01-13 16:00:00.000000",
          "2023-01-13 17:00:00.000000",
          "2023-01-13 18:00:00.000000",
          "2023-01-13 19:00:00.000000",
          "2023-01-13 20:00:00.000000",
          "2023-01-13 21:00:00.000000",
          "2023-01-13 22:00:00.000000",
          "2023-01-13 23:00:00.000000",
          "2023-01-14 00:00:00.000000",
          "2023-01-14 01:00:00.000000",
          "2023-01-14 02:00:00.000000",
          "2023-01-14 03:00:00.000000",
          "2023-01-14 04:00:00.000000",
          "2023-01-14 05:00:00.000000",
          "2023-01-14 06:00:00.000000",
          "2023-01-14 07:00:00.000000",
          "2023-01-14 08:00:00.000000",
          "2023-01-14 09:00:00.000000",
          "2023-01-14 10:00:00.000000",
          "2023-01-14 11:00:00.000000",
          "2023-01-14 12:00:00.000000",
          "2023-01-14 13:00:00.000000",
          "2023-01-14 15:00:00.000000",
          "2023-01-14 16:00:00.000000",
          "2023-01-14 17:00:00.000000",
          "2023-01-14 18:00:00.000000",
          "2023-01-14 19:00:00.000000",
          "2023-01-14 20:00:00.000000",
          "2023-01-14 21:00:00.000000",
          "2023-01-14 22:00:00.000000",
          "2023-01-14 23:00:00.000000",
          "2023-01-15 00:00:00.000000",
          "2023-01-15 01:00:00.000000",
          "2023-01-15 02:00:00.000000",
          "2023-01-15 03:00:00.000000",
          "2023-01-15 04:00:00.000000",
          "2023-01-15 05:00:00.000000",
          "2023-01-15 06:00:00.000000",
          "2023-01-15 07:00:00.000000",
          "2023-01-15 08:00:00.000000",
          "2023-01-15 09:00:00.000000",
          "2023-01-15 10:00:00.000000",
          "2023-01-15 11:00:00.000000",
          "2023-01-15 12:00:00.000000",
          "2023-01-15 13:00:00.000000",
          "2023-01-15 14:00:00.000000",
          "2023-01-15 15:00:00.000000",
          "2023-01-15 16:00:00.000000",
          "2023-01-15 17:00:00.000000",
          "2023-01-15 18:00:00.000000",
          "2023-01-15 19:00:00.000000",
          "2023-01-15 20:00:00.000000",
          "2023-01-15 21:00:00.000000",
          "2023-01-15 22:00:00.000000",
          "2023-01-15 23:00:00.000000",
          "2023-01-16 00:00:00.000000",
          "2023-01-16 01:00:00.000000",
          "2023-01-16 02:00:00.000000",
          "2023-01-16 03:00:00.000000",
          "2023-01-16 04:00:00.000000",
          "2023-01-16 05:00:00.000000",
          "2023-01-16 06:00:00.000000",
          "2023-01-16 07:00:00.000000",
          "2023-01-16 08:00:00.000000",
          "2023-01-16 09:00:00.000000",
          "2023-01-16 10:00:00.000000",
          "2023-01-16 11:00:00.000000",
          "2023-01-16 12:00:00.000000",
          "2023-01-16 13:00:00.000000",
          "2023-01-16 14:00:00.000000",
          "2023-01-16 15:00:00.000000",
          "2023-01-16 17:00:00.000000",
          "2023-01-16 18:00:00.000000",
          "2023-01-16 19:00:00.000000",
          "2023-01-16 20:00:00.000000",
          "2023-01-16 21:00:00.000000",
          "2023-01-16 22:00:00.000000",
          "2023-01-16 23:00:00.000000",
          "2023-01-17 00:00:00.000000",
          "2023-01-17 01:00:00.000000",
          "2023-01-17 02:00:00.000000",
          "2023-01-17 03:00:00.000000",
          "2023-01-17 04:00:00.000000",
          "2023-01-17 05:00:00.000000",
          "2023-01-17 06:00:00.000000",
          "2023-01-17 07:00:00.000000",
          "2023-01-17 08:00:00.000000",
          "2023-01-17 09:00:00.000000",
          "2023-01-17 10:00:00.000000",
          "2023-01-17 11:00:00.000000",
          "2023-01-17 12:00:00.000000",
          "2023-01-17 13:00:00.000000",
          "2023-01-17 14:00:00.000000",
          "2023-01-17 15:00:00.000000",
          "2023-01-17 16:00:00.000000",
          "2023-01-17 17:00:00.000000",
          "2023-01-17 18:00:00.000000",
          "2023-01-17 19:00:00.000000",
          "2023-01-17 20:00:00.000000",
          "2023-01-17 21:00:00.000000",
          "2023-01-17 22:00:00.000000",
          "2023-01-17 23:00:00.000000",
          "2023-01-18 00:00:00.000000",
          "2023-01-18 01:00:00.000000",
          "2023-01-18 02:00:00.000000",
          "2023-01-18 03:00:00.000000",
          "2023-01-18 04:00:00.000000",
          "2023-01-18 05:00:00.000000",
          "2023-01-18 06:00:00.000000",
          "2023-01-18 07:00:00.000000",
          "2023-01-18 08:00:00.000000",
          "2023-01-18 09:00:00.000000",
          "2023-01-18 10:00:00.000000",
          "2023-01-18 11:00:00.000000",
          "2023-01-18 12:00:00.000000",
          "2023-01-18 13:00:00.000000",
          "2023-01-18 14:00:00.000000",
          "2023-01-18 15:00:00.000000",
          "2023-01-18 16:00:00.000000",
          "2023-01-18 17:00:00.000000",
          "2023-01-18 18:00:00.000000",
          "2023-01-18 19:00:00.000000",
          "2023-01-18 20:00:00.000000",
          "2023-01-18 21:00:00.000000",
          "2023-01-18 22:00:00.000000",
          "2023-01-18 23:00:00.000000",
          "2023-01-19 00:00:00.000000",
          "2023-01-19 01:00:00.000000",
          "2023-01-19 02:00:00.000000",
          "2023-01-19 03:00:00.000000",
          "2023-01-19 04:00:00.000000",
          "2023-01-19 05:00:00.000000",
          "2023-01-19 06:00:00.000000",
          "2023-01-19 07:00:00.000000",
          "2023-01-19 08:00:00.000000",
          "2023-01-19 09:00:00.000000",
          "2023-01-19 10:00:00.000000",
          "2023-01-19 11:00:00.000000",
          "2023-01-19 12:00:00.000000",
          "2023-01-19 13:00:00.000000",
          "2023-01-19 14:00:00.000000",
          "2023-01-19 15:00:00.000000",
          "2023-01-19 16:00:00.000000",
          "2023-01-19 17:00:00.000000",
          "2023-01-19 18:00:00.000000",
          "2023-01-19 19:00:00.000000",
          "2023-01-19 20:00:00.000000",
          "2023-01-19 21:00:00.000000",
          "2023-01-19 22:00:00.000000",
          "2023-01-19 23:00:00.000000",
          "2023-01-20 00:00:00.000000",
          "2023-01-20 01:00:00.000000",
          "2023-01-20 02:00:00.000000",
          "2023-01-20 03:00:00.000000",
          "2023-01-20 04:00:00.000000",
          "2023-01-20 05:00:00.000000",
          "2023-01-20 06:00:00.000000",
          "2023-01-20 07:00:00.000000",
          "2023-01-20 08:00:00.000000",
          "2023-01-20 09:00:00.000000",
          "2023-01-20 10:00:00.000000",
          "2023-01-20 11:00:00.000000",
          "2023-01-20 12:00:00.000000",
          "2023-01-20 13:00:00.000000",
          "2023-01-20 14:00:00.000000",
          "2023-01-20 15:00:00.000000",
          "2023-01-20 16:00:00.000000",
          "2023-01-20 17:00:00.000000",
          "2023-01-20 18:00:00.000000",
          "2023-01-20 19:00:00.000000",
          "2023-01-20 20:00:00.000000",
          "2023-01-20 21:00:00.000000",
          "2023-01-20 22:00:00.000000",
          "2023-01-20 23:00:00.000000",
          "2023-01-21 00:00:00.000000",
          "2023-01-21 01:00:00.000000",
          "2023-01-21 02:00:00.000000",
          "2023-01-21 03:00:00.000000",
          "2023-01-21 04:00:00.000000",
          "2023-01-21 05:00:00.000000",
          "2023-01-21 06:00:00.000000",
          "2023-01-21 07:00:00.000000",
          "2023-01-21 08:00:00.000000",
          "2023-01-21 09:00:00.000000",
          "2023-01-21 10:00:00.000000",
          "2023-01-21 11:00:00.000000",
          "2023-01-21 12:00:00.000000",
          "2023-01-21 13:00:00.000000",
          "2023-01-21 14:00:00.000000",
          "2023-01-21 15:00:00.000000",
          "2023-01-21 16:00:00.000000",
          "2023-01-21 17:00:00.000000",
          "2023-01-21 18:00:00.000000",
          "2023-01-21 19:00:00.000000",
          "2023-01-21 20:00:00.000000",
          "2023-01-21 21:00:00.000000",
          "2023-01-21 22:00:00.000000",
          "2023-01-21 23:00:00.000000",
          "2023-01-22 00:00:00.000000",
          "2023-01-22 01:00:00.000000",
          "2023-01-22 02:00:00.000000",
          "2023-01-22 03:00:00.000000",
          "2023-01-22 04:00:00.000000",
          "2023-01-22 05:00:00.000000",
          "2023-01-22 06:00:00.000000",
          "2023-01-22 07:00:00.000000",
          "2023-01-22 08:00:00.000000",
          "2023-01-22 09:00:00.000000",
          "2023-01-22 10:00:00.000000",
          "2023-01-22 11:00:00.000000",
          "2023-01-22 12:00:00.000000",
          "2023-01-22 13:00:00.000000",
          "2023-01-22 14:00:00.000000",
          "2023-01-22 15:00:00.000000",
          "2023-01-22 16:00:00.000000",
          "2023-01-22 17:00:00.000000",
          "2023-01-22 19:00:00.000000",
          "2023-01-22 20:00:00.000000",
          "2023-01-22 21:00:00.000000",
          "2023-01-22 22:00:00.000000",
          "2023-01-22 23:00:00.000000",
          "2023-01-23 00:00:00.000000",
          "2023-01-23 01:00:00.000000",
          "2023-01-23 02:00:00.000000",
          "2023-01-23 03:00:00.000000",
          "2023-01-23 04:00:00.000000",
          "2023-01-23 05:00:00.000000",
          "2023-01-23 06:00:00.000000",
          "2023-01-23 07:00:00.000000",
          "2023-01-23 08:00:00.000000",
          "2023-01-23 09:00:00.000000",
          "2023-01-23 10:00:00.000000",
          "2023-01-23 11:00:00.000000",
          "2023-01-23 12:00:00.000000",
          "2023-01-23 13:00:00.000000",
          "2023-01-23 14:00:00.000000",
          "2023-01-23 15:00:00.000000",
          "2023-01-23 16:00:00.000000",
          "2023-01-23 17:00:00.000000",
          "2023-01-23 18:00:00.000000",
          "2023-01-23 19:00:00.000000",
          "2023-01-23 20:00:00.000000",
          "2023-01-23 21:00:00.000000",
          "2023-01-23 22:00:00.000000",
          "2023-01-23 23:00:00.000000",
          "2023-01-24 00:00:00.000000",
          "2023-01-24 02:00:00.000000",
          "2023-01-24 03:00:00.000000",
          "2023-01-24 04:00:00.000000",
          "2023-01-24 05:00:00.000000",
          "2023-01-24 06:00:00.000000",
          "2023-01-24 07:00:00.000000",
          "2023-01-24 08:00:00.000000",
          "2023-01-24 09:00:00.000000",
          "2023-01-24 10:00:00.000000",
          "2023-01-24 11:00:00.000000",
          "2023-01-24 12:00:00.000000",
          "2023-01-24 13:00:00.000000",
          "2023-01-24 14:00:00.000000",
          "2023-01-24 15:00:00.000000",
          "2023-01-24 16:00:00.000000",
          "2023-01-24 17:00:00.000000",
          "2023-01-24 18:00:00.000000",
          "2023-01-24 19:00:00.000000",
          "2023-01-24 20:00:00.000000",
          "2023-01-24 21:00:00.000000",
          "2023-01-24 22:00:00.000000",
          "2023-01-24 23:00:00.000000",
          "2023-01-25 01:00:00.000000",
          "2023-01-25 02:00:00.000000",
          "2023-01-25 03:00:00.000000",
          "2023-01-25 04:00:00.000000",
          "2023-01-25 05:00:00.000000",
          "2023-01-25 06:00:00.000000",
          "2023-01-25 07:00:00.000000",
          "2023-01-25 08:00:00.000000",
          "2023-01-25 09:00:00.000000",
          "2023-01-25 11:00:00.000000",
          "2023-01-25 12:00:00.000000",
          "2023-01-25 13:00:00.000000",
          "2023-01-25 14:00:00.000000",
          "2023-01-25 15:00:00.000000",
          "2023-01-25 16:00:00.000000",
          "2023-01-25 17:00:00.000000",
          "2023-01-25 18:00:00.000000",
          "2023-01-25 19:00:00.000000",
          "2023-01-25 21:00:00.000000",
          "2023-01-25 22:00:00.000000",
          "2023-01-25 23:00:00.000000",
          "2023-01-26 00:00:00.000000",
          "2023-01-26 01:00:00.000000",
          "2023-01-26 02:00:00.000000",
          "2023-01-26 03:00:00.000000",
          "2023-01-26 04:00:00.000000",
          "2023-01-26 05:00:00.000000",
          "2023-01-26 06:00:00.000000",
          "2023-01-26 07:00:00.000000",
          "2023-01-26 08:00:00.000000",
          "2023-01-26 09:00:00.000000",
          "2023-01-26 10:00:00.000000",
          "2023-01-26 11:00:00.000000",
          "2023-01-26 13:00:00.000000",
          "2023-01-26 14:00:00.000000",
          "2023-01-26 15:00:00.000000",
          "2023-01-26 16:00:00.000000",
          "2023-01-26 17:00:00.000000",
          "2023-01-26 18:00:00.000000",
          "2023-01-26 19:00:00.000000",
          "2023-01-26 20:00:00.000000",
          "2023-01-26 21:00:00.000000",
          "2023-01-26 22:00:00.000000",
          "2023-01-26 23:00:00.000000",
          "2023-01-27 00:00:00.000000",
          "2023-01-27 01:00:00.000000",
          "2023-01-27 02:00:00.000000",
          "2023-01-27 03:00:00.000000",
          "2023-01-27 04:00:00.000000",
          "2023-01-27 05:00:00.000000",
          "2023-01-27 06:00:00.000000",
          "2023-01-27 07:00:00.000000",
          "2023-01-27 08:00:00.000000",
          "2023-01-27 09:00:00.000000",
          "2023-01-27 10:00:00.000000",
          "2023-01-27 11:00:00.000000",
          "2023-01-27 12:00:00.000000",
          "2023-01-27 13:00:00.000000",
          "2023-01-27 14:00:00.000000",
          "2023-01-27 15:00:00.000000",
          "2023-01-27 16:00:00.000000",
          "2023-01-27 17:00:00.000000",
          "2023-01-27 18:00:00.000000",
          "2023-01-27 19:00:00.000000",
          "2023-01-27 20:00:00.000000",
          "2023-01-27 21:00:00.000000",
          "2023-01-27 22:00:00.000000",
          "2023-01-27 23:00:00.000000",
          "2023-01-28 00:00:00.000000",
          "2023-01-28 01:00:00.000000",
          "2023-01-28 02:00:00.000000",
          "2023-01-28 03:00:00.000000",
          "2023-01-28 04:00:00.000000",
          "2023-01-28 05:00:00.000000",
          "2023-01-28 06:00:00.000000",
          "2023-01-28 07:00:00.000000",
          "2023-01-28 08:00:00.000000",
          "2023-01-28 09:00:00.000000",
          "2023-01-28 10:00:00.000000",
          "2023-01-28 11:00:00.000000",
          "2023-01-28 12:00:00.000000",
          "2023-01-28 13:00:00.000000",
          "2023-01-28 14:00:00.000000",
          "2023-01-28 15:00:00.000000",
          "2023-01-28 16:00:00.000000",
          "2023-01-28 17:00:00.000000",
          "2023-01-28 18:00:00.000000",
          "2023-01-28 19:00:00.000000",
          "2023-01-28 20:00:00.000000",
          "2023-01-28 21:00:00.000000",
          "2023-01-28 22:00:00.000000",
          "2023-01-28 23:00:00.000000",
          "2023-01-29 00:00:00.000000",
          "2023-01-29 01:00:00.000000",
          "2023-01-29 02:00:00.000000",
          "2023-01-29 04:00:00.000000",
          "2023-01-29 05:00:00.000000",
          "2023-01-29 06:00:00.000000",
          "2023-01-29 07:00:00.000000",
          "2023-01-29 08:00:00.000000",
          "2023-01-29 09:00:00.000000",
          "2023-01-29 10:00:00.000000",
          "2023-01-29 11:00:00.000000",
          "2023-01-29 12:00:00.000000",
          "2023-01-29 13:00:00.000000",
          "2023-01-29 14:00:00.000000",
          "2023-01-29 15:00:00.000000",
          "2023-01-29 16:00:00.000000",
          "2023-01-29 17:00:00.000000",
          "2023-01-29 18:00:00.000000",
          "2023-01-29 19:00:00.000000",
          "2023-01-29 20:00:00.000000",
          "2023-01-29 21:00:00.000000",
          "2023-01-29 22:00:00.000000",
          "2023-01-29 23:00:00.000000",
          "2023-01-30 00:00:00.000000",
          "2023-01-30 01:00:00.000000",
          "2023-01-30 02:00:00.000000",
          "2023-01-30 03:00:00.000000",
          "2023-01-30 04:00:00.000000",
          "2023-01-30 05:00:00.000000",
          "2023-01-30 06:00:00.000000",
          "2023-01-30 07:00:00.000000",
          "2023-01-30 08:00:00.000000",
          "2023-01-30 09:00:00.000000",
          "2023-01-30 10:00:00.000000",
          "2023-01-30 11:00:00.000000",
          "2023-01-30 12:00:00.000000",
          "2023-01-30 13:00:00.000000",
          "2023-01-30 14:00:00.000000",
          "2023-01-30 15:00:00.000000",
          "2023-01-30 16:00:00.000000",
          "2023-01-30 17:00:00.000000",
          "2023-01-30 18:00:00.000000",
          "2023-01-30 19:00:00.000000",
          "2023-01-30 20:00:00.000000",
          "2023-01-30 21:00:00.000000",
          "2023-01-30 22:00:00.000000",
          "2023-01-30 23:00:00.000000",
          "2023-01-31 00:00:00.000000",
          "2023-01-31 01:00:00.000000",
          "2023-01-31 02:00:00.000000",
          "2023-01-31 03:00:00.000000",
          "2023-01-31 04:00:00.000000",
          "2023-01-31 05:00:00.000000",
          "2023-01-31 06:00:00.000000",
          "2023-01-31 07:00:00.000000",
          "2023-01-31 08:00:00.000000"
         ],
         "xaxis": "x3",
         "y": [
          16529.67,
          16551.47,
          16548.19,
          16533.04,
          16521.85,
          16530.71,
          16539.79,
          16526.19,
          16513.34,
          16537.88,
          16548.34,
          16556.66,
          16560.93,
          16548.04,
          16558.73,
          16565.14,
          16578.85,
          16591.88,
          16603.08,
          16604.51,
          16606.68,
          16602.12,
          16616.75,
          16588.35,
          16565.04,
          16587.85,
          16661.94,
          16639.44,
          16647.58,
          16641.1,
          16721.28,
          16733.71,
          16717.5,
          16727.95,
          16735.11,
          16721.54,
          16694.78,
          16698.69,
          16734.66,
          16710.88,
          16715.42,
          16723.81,
          16737.56,
          16728.52,
          16757.76,
          16698.4,
          16672.87,
          16695.59,
          16674.03,
          16691.81,
          16685.64,
          16725.5,
          16727.58,
          16729.74,
          16715.22,
          16741.31,
          16724.32,
          16721.03,
          16710.85,
          16725.53,
          16661.23,
          16622.58,
          16633.65,
          16645.08,
          16643.37,
          16661.37,
          16664.63,
          16677.11,
          16675.18,
          16660.53,
          16701.97,
          16736.52,
          16862.02,
          16860.5,
          16857.57,
          16869.44,
          16864.95,
          16844.91,
          16844.92,
          16835.35,
          16812.19,
          16828.2,
          16830.12,
          16854.05,
          16858.85,
          16893.24,
          16948.04,
          16842.36,
          16806.49,
          16826.81,
          16826.68,
          16850.36,
          16828.45,
          16832.9,
          16836.8,
          16827.71,
          16836.41,
          16844.12,
          16817.13,
          16823.64,
          16807.53,
          16807.12,
          16825.08,
          16833.6,
          16822.13,
          16780.25,
          16829.59,
          16842.94,
          16838.28,
          16814.48,
          16841.93,
          16863.85,
          16859.02,
          16848.51,
          16837.85,
          16831.85,
          16859.78,
          16827.8,
          16837.06,
          16833.56,
          16822.99,
          16810.18,
          16786.86,
          16802.11,
          16787.1,
          16767.06,
          16731.02,
          16774.19,
          16748.82,
          16840.82,
          16827.21,
          16821.27,
          16850.45,
          16939.91,
          16897.48,
          16931.27,
          16950.65,
          16978.18,
          16950.02,
          16944.24,
          16952.46,
          16938.27,
          16934.28,
          16933.29,
          16948.09,
          16929.76,
          16928.51,
          16922.51,
          16918.3,
          16916.14,
          16919.34,
          16940.42,
          16922.79,
          16928.85,
          16938.12,
          16944.05,
          16945.77,
          16939.31,
          16936.31,
          16943.57,
          16926.66,
          16929.82,
          16931.18,
          16944.02,
          16934.75,
          16943.73,
          16950.92,
          16953.77,
          16946.07,
          16935.6,
          16936.41,
          16927.42,
          16923.75,
          16933.03,
          16952.44,
          17000.43,
          16936.87,
          16928.5,
          16929.84,
          16927.25,
          16966.67,
          16957.46,
          16963.14,
          17127.83,
          17184.51,
          17175.02,
          17191.47,
          17197,
          17226.49,
          17205.95,
          17189.24,
          17198.48,
          17191.68,
          17238.38,
          17264.5,
          17238.93,
          17249.06,
          17226.9,
          17264.25,
          17268.49,
          17327.84,
          17356.96,
          17350.71,
          17293.69,
          17221.29,
          17182.48,
          17204.83,
          17178.26,
          17219.19,
          17194.39,
          17185.94,
          17205.72,
          17221.68,
          17228.77,
          17203.95,
          17203.2,
          17256.34,
          17247.71,
          17271.02,
          17252.89,
          17224.15,
          17246.05,
          17286.59,
          17327.7,
          17302.15,
          17325.97,
          17433.95,
          17432.85,
          17477.15,
          17463.56,
          17428.08,
          17440.66,
          17466.02,
          17458.05,
          17388.2,
          17416.14,
          17408.39,
          17406.3,
          17437.29,
          17446.65,
          17447.6,
          17446.71,
          17441.24,
          17437.75,
          17418.56,
          17413.43,
          17413.97,
          17332.43,
          17347.62,
          17382.08,
          17487.09,
          17550.57,
          17558.6,
          17556.41,
          17943.26,
          18264.1,
          18221.51,
          18207.54,
          18224.68,
          18215.66,
          18087.54,
          18147.77,
          18138.22,
          18151.52,
          18164.67,
          18185.6,
          18200.8,
          18268.94,
          18284.91,
          17998.56,
          18086.62,
          18134.55,
          18837.06,
          18885.35,
          19048.95,
          18830.07,
          18913.92,
          18846.62,
          18771.61,
          18811.48,
          18835.48,
          18876.37,
          18821.27,
          18787.71,
          18824.25,
          18842.15,
          18910.23,
          19042.01,
          18920.95,
          18864.59,
          18854.84,
          18996.27,
          19261.19,
          19133.39,
          19256.06,
          19292.44,
          19362.01,
          19473.67,
          19816.81,
          19849.41,
          19930.01,
          20891.67,
          20927.44,
          20938.93,
          20967.23,
          20894.86,
          20841.62,
          20955.57,
          20897.36,
          21003.35,
          20523.75,
          20496.77,
          20721.73,
          20911.19,
          20834.4,
          20786.74,
          20810.66,
          20755.78,
          20757.99,
          20783.68,
          20877.47,
          20900.66,
          20989.97,
          20954.92,
          20767.05,
          20770.29,
          20672.91,
          20719.09,
          20698.14,
          20749.76,
          20717,
          20735.69,
          20617.71,
          20750.59,
          20732.83,
          20722.23,
          20694.03,
          20705.79,
          20787.58,
          20908.28,
          20869.2,
          20920.23,
          20817.94,
          20870.15,
          20905.69,
          20900.62,
          20911.27,
          20871.5,
          20966.58,
          21182.87,
          21209.31,
          21075.68,
          21148.99,
          21187.16,
          21149.8,
          21109.23,
          20747.7,
          20824.08,
          20850.68,
          20817.56,
          20787.54,
          20827.47,
          20860.68,
          20998.5,
          21103.99,
          21281.97,
          21308.57,
          21292,
          21132.36,
          21185.89,
          21185.65,
          21109.52,
          21041.3,
          21102.13,
          21124.57,
          21159.29,
          21151.21,
          21075.27,
          21133.65,
          21200.95,
          21174.92,
          21129.69,
          21219.75,
          21252.23,
          21235.07,
          21281.66,
          21176.06,
          21162.92,
          21220.78,
          21362.89,
          21336.46,
          21390.44,
          21312.63,
          21232.38,
          21134.81,
          21202.97,
          21243.96,
          21292.56,
          21258.54,
          21279.61,
          21311.33,
          21261.76,
          21307.94,
          21249.31,
          21230.09,
          21183.83,
          21204.67,
          21259.18,
          21403.31,
          21424.3,
          21042.73,
          20845.47,
          20887.85,
          20936.83,
          20906.54,
          20732.6,
          20780.36,
          20805.8,
          20677.47,
          20694.01,
          20716.95,
          20763.66,
          20748.04,
          20810.18,
          20814.82,
          20828.59,
          20818.95,
          20769.06,
          20795.39,
          20796.47,
          20743.72,
          20727.03,
          20776.95,
          20799.4,
          20876.44,
          20875.41,
          20841.16,
          20977.73,
          21090.95,
          21102.44,
          20932.98,
          21065.23,
          21071.59,
          21054.74,
          21117.28,
          21079.66,
          21087.74,
          20991.01,
          20982.27,
          20943.73,
          20959.44,
          20946.15,
          20959.17,
          20962.16,
          20963.51,
          21089.54,
          21058.68,
          21153.97,
          21144.77,
          21313.29,
          21353.61,
          21384.49,
          21496.67,
          22288.37,
          22315.41,
          22595.08,
          22667.21,
          22576.17,
          22563.99,
          22551.05,
          22547.35,
          22597.96,
          22573.98,
          22620.93,
          22638.36,
          22700.63,
          23037.49,
          22777.52,
          22905.65,
          23039.5,
          22930.04,
          22955.26,
          22998.9,
          23197.45,
          23226.65,
          23248.52,
          23270.5,
          23093.38,
          23204.64,
          22759.71,
          22783.55,
          22877.48,
          22792.13,
          22707.64,
          22758.3,
          22847.79,
          22878.37,
          22919.67,
          22895.2,
          22909.76,
          22856.68,
          22872.97,
          22783.61,
          22869.56,
          22897.79,
          22990.41,
          22794.51,
          22819.28,
          22838,
          22722.15,
          22459.46,
          22585.37,
          22676.48,
          22707.88,
          22745.28,
          22699.37,
          22752.05,
          22661.02,
          22758.32,
          22723.63,
          22773.33,
          22695.9,
          22719.28,
          22784.18,
          22909.95,
          22904.58,
          22910.74,
          22798.41,
          22622.05,
          22853.14,
          22911.17,
          23065.22,
          22936.2,
          22792.47,
          23022.64,
          22996,
          22925.32,
          22916.45,
          23089.46,
          23036.68,
          23079.27,
          23072.15,
          23118.17,
          23095.63,
          23054.08,
          23053.12,
          22852.79,
          22902.51,
          22917.66,
          22964.13,
          22859.93,
          22859.1,
          22931.36,
          22875.18,
          22913.49,
          22999.85,
          23018.53,
          23010.34,
          22902.84,
          22755.52,
          22652.23,
          22490.64,
          22549.89,
          22643.61,
          22624.83,
          22670.72,
          22713.76,
          22712.45,
          22659.72,
          22611.9,
          22598.47,
          22694.23,
          22595.72,
          22435.47,
          22577.86,
          22629.75,
          22568.94,
          22724.9,
          22938.09,
          23592.55,
          22932.2,
          23060.94,
          23240.42,
          23163.24,
          23178.98,
          23136.16,
          23179.35,
          23147.48,
          23087.87,
          22966.73,
          23003.87,
          22970.7,
          22939.26,
          23120.96,
          23128.35,
          23039.35,
          22958.02,
          23003.98,
          22982.85,
          23037.16,
          23070,
          23112.57,
          23081.77,
          23003.79,
          23009.65,
          22925.5,
          22647.48,
          22781.67,
          22772.62,
          22802.81,
          23034.92,
          23002.92,
          23072.77,
          22964.51,
          22947.87,
          22948.04,
          22967.47,
          22932.41,
          22899.82,
          22967.66,
          22933.96,
          23129.72,
          23204.74,
          23183.91,
          23253.06,
          23108.82,
          23080.88,
          23008.22,
          23074.16,
          23151.84,
          23090.53,
          23086.84,
          23117.44,
          23092.24,
          23066.38,
          23038.21,
          22991.51,
          22978.64,
          22998.6,
          22974.47,
          22981.51,
          22955.25,
          22970.1,
          22949.43,
          23012.54,
          23018.14,
          23018.96,
          22998.31,
          23039.35,
          22966.91,
          23001.41,
          22977.63,
          23022.6,
          23112.95,
          23232.32,
          23193.43,
          23228.89,
          23249.5,
          23198.58,
          23203.86,
          23172.28,
          23296.8,
          23448.03,
          23432.17,
          23478.21,
          23538.94,
          23538.58,
          23525.09,
          23586.44,
          23591.38,
          23678.99,
          23897.84,
          23698.65,
          23794.2,
          23765.93,
          23742.3,
          23751.43,
          23670.08,
          23645.76,
          23701.44,
          23717.76,
          23728.71,
          23692.38,
          23642.81,
          23548.76,
          23191.2,
          23243.54,
          23077.47,
          23076.27,
          23057.19,
          23287.7,
          23178.51,
          23170.38,
          23108.94,
          23138.83,
          22784.86,
          22697.83,
          22743.7,
          22729.81,
          22826.15,
          22828.32,
          22830.23,
          22857.93,
          22835.01,
          22861.59,
          22759.14,
          22812.12,
          22978.24
         ],
         "yaxis": "y6"
        },
        {
         "legendgroup": "3",
         "marker": {
          "color": "#c83232",
          "size": 10,
          "symbol": "circle"
         },
         "mode": "markers",
         "name": "Short",
         "type": "scatter",
         "x": [
          "2023-01-01 15:00:00.000000",
          "2023-01-03 02:00:00.000000",
          "2023-01-03 16:00:00.000000",
          "2023-01-04 07:00:00.000000",
          "2023-01-06 08:00:00.000000",
          "2023-01-06 12:00:00.000000",
          "2023-01-06 23:00:00.000000",
          "2023-01-07 15:00:00.000000",
          "2023-01-11 20:00:00.000000",
          "2023-01-12 19:00:00.000000",
          "2023-01-13 07:00:00.000000",
          "2023-01-14 14:00:00.000000",
          "2023-01-16 16:00:00.000000",
          "2023-01-22 18:00:00.000000",
          "2023-01-24 01:00:00.000000",
          "2023-01-25 00:00:00.000000",
          "2023-01-25 10:00:00.000000",
          "2023-01-25 20:00:00.000000",
          "2023-01-26 12:00:00.000000",
          "2023-01-29 03:00:00.000000"
         ],
         "xaxis": "x3",
         "y": [
          16542.94,
          16677.6,
          16676.94,
          16878.18,
          16794.06,
          16738.22,
          16958.35,
          16937.92,
          17550.29,
          18796.93,
          18852.68,
          20940.71,
          20994.17,
          22922.34,
          22986.44,
          22632.89,
          22607.26,
          22748.86,
          22992.94,
          23143.08
         ],
         "yaxis": "y6"
        },
        {
         "legendgroup": "3",
         "marker": {
          "color": " #b3ffb3"
         },
         "name": "Long",
         "type": "bar",
         "x": [
          "2023-01-01 01:00:00.000000",
          "2023-01-01 02:00:00.000000",
          "2023-01-01 03:00:00.000000",
          "2023-01-01 04:00:00.000000",
          "2023-01-01 05:00:00.000000",
          "2023-01-01 06:00:00.000000",
          "2023-01-01 07:00:00.000000",
          "2023-01-01 08:00:00.000000",
          "2023-01-01 09:00:00.000000",
          "2023-01-01 10:00:00.000000",
          "2023-01-01 11:00:00.000000",
          "2023-01-01 12:00:00.000000",
          "2023-01-01 13:00:00.000000",
          "2023-01-01 14:00:00.000000",
          "2023-01-01 15:00:00.000000",
          "2023-01-01 16:00:00.000000",
          "2023-01-01 17:00:00.000000",
          "2023-01-01 18:00:00.000000",
          "2023-01-01 19:00:00.000000",
          "2023-01-01 20:00:00.000000",
          "2023-01-01 21:00:00.000000",
          "2023-01-01 22:00:00.000000",
          "2023-01-01 23:00:00.000000",
          "2023-01-02 00:00:00.000000",
          "2023-01-02 01:00:00.000000",
          "2023-01-02 02:00:00.000000",
          "2023-01-02 03:00:00.000000",
          "2023-01-02 04:00:00.000000",
          "2023-01-02 05:00:00.000000",
          "2023-01-02 06:00:00.000000",
          "2023-01-02 07:00:00.000000",
          "2023-01-02 08:00:00.000000",
          "2023-01-02 09:00:00.000000",
          "2023-01-02 10:00:00.000000",
          "2023-01-02 11:00:00.000000",
          "2023-01-02 12:00:00.000000",
          "2023-01-02 13:00:00.000000",
          "2023-01-02 14:00:00.000000",
          "2023-01-02 15:00:00.000000",
          "2023-01-02 16:00:00.000000",
          "2023-01-02 17:00:00.000000",
          "2023-01-02 18:00:00.000000",
          "2023-01-02 19:00:00.000000",
          "2023-01-02 20:00:00.000000",
          "2023-01-02 21:00:00.000000",
          "2023-01-02 22:00:00.000000",
          "2023-01-02 23:00:00.000000",
          "2023-01-03 00:00:00.000000",
          "2023-01-03 01:00:00.000000",
          "2023-01-03 02:00:00.000000",
          "2023-01-03 03:00:00.000000",
          "2023-01-03 04:00:00.000000",
          "2023-01-03 05:00:00.000000",
          "2023-01-03 06:00:00.000000",
          "2023-01-03 07:00:00.000000",
          "2023-01-03 08:00:00.000000",
          "2023-01-03 09:00:00.000000",
          "2023-01-03 10:00:00.000000",
          "2023-01-03 11:00:00.000000",
          "2023-01-03 12:00:00.000000",
          "2023-01-03 13:00:00.000000",
          "2023-01-03 14:00:00.000000",
          "2023-01-03 15:00:00.000000",
          "2023-01-03 16:00:00.000000",
          "2023-01-03 17:00:00.000000",
          "2023-01-03 18:00:00.000000",
          "2023-01-03 19:00:00.000000",
          "2023-01-03 20:00:00.000000",
          "2023-01-03 21:00:00.000000",
          "2023-01-03 22:00:00.000000",
          "2023-01-03 23:00:00.000000",
          "2023-01-04 00:00:00.000000",
          "2023-01-04 01:00:00.000000",
          "2023-01-04 02:00:00.000000",
          "2023-01-04 03:00:00.000000",
          "2023-01-04 04:00:00.000000",
          "2023-01-04 05:00:00.000000",
          "2023-01-04 06:00:00.000000",
          "2023-01-04 07:00:00.000000",
          "2023-01-04 08:00:00.000000",
          "2023-01-04 09:00:00.000000",
          "2023-01-04 10:00:00.000000",
          "2023-01-04 11:00:00.000000",
          "2023-01-04 12:00:00.000000",
          "2023-01-04 13:00:00.000000",
          "2023-01-04 14:00:00.000000",
          "2023-01-04 15:00:00.000000",
          "2023-01-04 16:00:00.000000",
          "2023-01-04 17:00:00.000000",
          "2023-01-04 18:00:00.000000",
          "2023-01-04 19:00:00.000000",
          "2023-01-04 20:00:00.000000",
          "2023-01-04 21:00:00.000000",
          "2023-01-04 22:00:00.000000",
          "2023-01-04 23:00:00.000000",
          "2023-01-05 00:00:00.000000",
          "2023-01-05 01:00:00.000000",
          "2023-01-05 02:00:00.000000",
          "2023-01-05 03:00:00.000000",
          "2023-01-05 04:00:00.000000",
          "2023-01-05 05:00:00.000000",
          "2023-01-05 06:00:00.000000",
          "2023-01-05 07:00:00.000000",
          "2023-01-05 08:00:00.000000",
          "2023-01-05 09:00:00.000000",
          "2023-01-05 10:00:00.000000",
          "2023-01-05 11:00:00.000000",
          "2023-01-05 12:00:00.000000",
          "2023-01-05 13:00:00.000000",
          "2023-01-05 14:00:00.000000",
          "2023-01-05 15:00:00.000000",
          "2023-01-05 16:00:00.000000",
          "2023-01-05 17:00:00.000000",
          "2023-01-05 18:00:00.000000",
          "2023-01-05 19:00:00.000000",
          "2023-01-05 20:00:00.000000",
          "2023-01-05 21:00:00.000000",
          "2023-01-05 22:00:00.000000",
          "2023-01-05 23:00:00.000000",
          "2023-01-06 00:00:00.000000",
          "2023-01-06 01:00:00.000000",
          "2023-01-06 02:00:00.000000",
          "2023-01-06 03:00:00.000000",
          "2023-01-06 04:00:00.000000",
          "2023-01-06 05:00:00.000000",
          "2023-01-06 06:00:00.000000",
          "2023-01-06 07:00:00.000000",
          "2023-01-06 08:00:00.000000",
          "2023-01-06 09:00:00.000000",
          "2023-01-06 10:00:00.000000",
          "2023-01-06 11:00:00.000000",
          "2023-01-06 12:00:00.000000",
          "2023-01-06 13:00:00.000000",
          "2023-01-06 14:00:00.000000",
          "2023-01-06 15:00:00.000000",
          "2023-01-06 16:00:00.000000",
          "2023-01-06 17:00:00.000000",
          "2023-01-06 18:00:00.000000",
          "2023-01-06 19:00:00.000000",
          "2023-01-06 20:00:00.000000",
          "2023-01-06 21:00:00.000000",
          "2023-01-06 22:00:00.000000",
          "2023-01-06 23:00:00.000000",
          "2023-01-07 00:00:00.000000",
          "2023-01-07 01:00:00.000000",
          "2023-01-07 02:00:00.000000",
          "2023-01-07 03:00:00.000000",
          "2023-01-07 04:00:00.000000",
          "2023-01-07 05:00:00.000000",
          "2023-01-07 06:00:00.000000",
          "2023-01-07 07:00:00.000000",
          "2023-01-07 08:00:00.000000",
          "2023-01-07 09:00:00.000000",
          "2023-01-07 10:00:00.000000",
          "2023-01-07 11:00:00.000000",
          "2023-01-07 12:00:00.000000",
          "2023-01-07 13:00:00.000000",
          "2023-01-07 14:00:00.000000",
          "2023-01-07 15:00:00.000000",
          "2023-01-07 16:00:00.000000",
          "2023-01-07 17:00:00.000000",
          "2023-01-07 18:00:00.000000",
          "2023-01-07 19:00:00.000000",
          "2023-01-07 20:00:00.000000",
          "2023-01-07 21:00:00.000000",
          "2023-01-07 22:00:00.000000",
          "2023-01-07 23:00:00.000000",
          "2023-01-08 00:00:00.000000",
          "2023-01-08 01:00:00.000000",
          "2023-01-08 02:00:00.000000",
          "2023-01-08 03:00:00.000000",
          "2023-01-08 04:00:00.000000",
          "2023-01-08 05:00:00.000000",
          "2023-01-08 06:00:00.000000",
          "2023-01-08 07:00:00.000000",
          "2023-01-08 08:00:00.000000",
          "2023-01-08 09:00:00.000000",
          "2023-01-08 10:00:00.000000",
          "2023-01-08 11:00:00.000000",
          "2023-01-08 12:00:00.000000",
          "2023-01-08 13:00:00.000000",
          "2023-01-08 14:00:00.000000",
          "2023-01-08 15:00:00.000000",
          "2023-01-08 16:00:00.000000",
          "2023-01-08 17:00:00.000000",
          "2023-01-08 18:00:00.000000",
          "2023-01-08 19:00:00.000000",
          "2023-01-08 20:00:00.000000",
          "2023-01-08 21:00:00.000000",
          "2023-01-08 22:00:00.000000",
          "2023-01-08 23:00:00.000000",
          "2023-01-09 00:00:00.000000",
          "2023-01-09 01:00:00.000000",
          "2023-01-09 02:00:00.000000",
          "2023-01-09 03:00:00.000000",
          "2023-01-09 04:00:00.000000",
          "2023-01-09 05:00:00.000000",
          "2023-01-09 06:00:00.000000",
          "2023-01-09 07:00:00.000000",
          "2023-01-09 08:00:00.000000",
          "2023-01-09 09:00:00.000000",
          "2023-01-09 10:00:00.000000",
          "2023-01-09 11:00:00.000000",
          "2023-01-09 12:00:00.000000",
          "2023-01-09 13:00:00.000000",
          "2023-01-09 14:00:00.000000",
          "2023-01-09 15:00:00.000000",
          "2023-01-09 16:00:00.000000",
          "2023-01-09 17:00:00.000000",
          "2023-01-09 18:00:00.000000",
          "2023-01-09 19:00:00.000000",
          "2023-01-09 20:00:00.000000",
          "2023-01-09 21:00:00.000000",
          "2023-01-09 22:00:00.000000",
          "2023-01-09 23:00:00.000000",
          "2023-01-10 00:00:00.000000",
          "2023-01-10 01:00:00.000000",
          "2023-01-10 02:00:00.000000",
          "2023-01-10 03:00:00.000000",
          "2023-01-10 04:00:00.000000",
          "2023-01-10 05:00:00.000000",
          "2023-01-10 06:00:00.000000",
          "2023-01-10 07:00:00.000000",
          "2023-01-10 08:00:00.000000",
          "2023-01-10 09:00:00.000000",
          "2023-01-10 10:00:00.000000",
          "2023-01-10 11:00:00.000000",
          "2023-01-10 12:00:00.000000",
          "2023-01-10 13:00:00.000000",
          "2023-01-10 14:00:00.000000",
          "2023-01-10 15:00:00.000000",
          "2023-01-10 16:00:00.000000",
          "2023-01-10 17:00:00.000000",
          "2023-01-10 18:00:00.000000",
          "2023-01-10 19:00:00.000000",
          "2023-01-10 20:00:00.000000",
          "2023-01-10 21:00:00.000000",
          "2023-01-10 22:00:00.000000",
          "2023-01-10 23:00:00.000000",
          "2023-01-11 00:00:00.000000",
          "2023-01-11 01:00:00.000000",
          "2023-01-11 02:00:00.000000",
          "2023-01-11 03:00:00.000000",
          "2023-01-11 04:00:00.000000",
          "2023-01-11 05:00:00.000000",
          "2023-01-11 06:00:00.000000",
          "2023-01-11 07:00:00.000000",
          "2023-01-11 08:00:00.000000",
          "2023-01-11 09:00:00.000000",
          "2023-01-11 10:00:00.000000",
          "2023-01-11 11:00:00.000000",
          "2023-01-11 12:00:00.000000",
          "2023-01-11 13:00:00.000000",
          "2023-01-11 14:00:00.000000",
          "2023-01-11 15:00:00.000000",
          "2023-01-11 16:00:00.000000",
          "2023-01-11 17:00:00.000000",
          "2023-01-11 18:00:00.000000",
          "2023-01-11 19:00:00.000000",
          "2023-01-11 20:00:00.000000",
          "2023-01-11 21:00:00.000000",
          "2023-01-11 22:00:00.000000",
          "2023-01-11 23:00:00.000000",
          "2023-01-12 00:00:00.000000",
          "2023-01-12 01:00:00.000000",
          "2023-01-12 02:00:00.000000",
          "2023-01-12 03:00:00.000000",
          "2023-01-12 04:00:00.000000",
          "2023-01-12 05:00:00.000000",
          "2023-01-12 06:00:00.000000",
          "2023-01-12 07:00:00.000000",
          "2023-01-12 08:00:00.000000",
          "2023-01-12 09:00:00.000000",
          "2023-01-12 10:00:00.000000",
          "2023-01-12 11:00:00.000000",
          "2023-01-12 12:00:00.000000",
          "2023-01-12 13:00:00.000000",
          "2023-01-12 14:00:00.000000",
          "2023-01-12 15:00:00.000000",
          "2023-01-12 16:00:00.000000",
          "2023-01-12 17:00:00.000000",
          "2023-01-12 18:00:00.000000",
          "2023-01-12 19:00:00.000000",
          "2023-01-12 20:00:00.000000",
          "2023-01-12 21:00:00.000000",
          "2023-01-12 22:00:00.000000",
          "2023-01-12 23:00:00.000000",
          "2023-01-13 00:00:00.000000",
          "2023-01-13 01:00:00.000000",
          "2023-01-13 02:00:00.000000",
          "2023-01-13 03:00:00.000000",
          "2023-01-13 04:00:00.000000",
          "2023-01-13 05:00:00.000000",
          "2023-01-13 06:00:00.000000",
          "2023-01-13 07:00:00.000000",
          "2023-01-13 08:00:00.000000",
          "2023-01-13 09:00:00.000000",
          "2023-01-13 10:00:00.000000",
          "2023-01-13 11:00:00.000000",
          "2023-01-13 12:00:00.000000",
          "2023-01-13 13:00:00.000000",
          "2023-01-13 14:00:00.000000",
          "2023-01-13 15:00:00.000000",
          "2023-01-13 16:00:00.000000",
          "2023-01-13 17:00:00.000000",
          "2023-01-13 18:00:00.000000",
          "2023-01-13 19:00:00.000000",
          "2023-01-13 20:00:00.000000",
          "2023-01-13 21:00:00.000000",
          "2023-01-13 22:00:00.000000",
          "2023-01-13 23:00:00.000000",
          "2023-01-14 00:00:00.000000",
          "2023-01-14 01:00:00.000000",
          "2023-01-14 02:00:00.000000",
          "2023-01-14 03:00:00.000000",
          "2023-01-14 04:00:00.000000",
          "2023-01-14 05:00:00.000000",
          "2023-01-14 06:00:00.000000",
          "2023-01-14 07:00:00.000000",
          "2023-01-14 08:00:00.000000",
          "2023-01-14 09:00:00.000000",
          "2023-01-14 10:00:00.000000",
          "2023-01-14 11:00:00.000000",
          "2023-01-14 12:00:00.000000",
          "2023-01-14 13:00:00.000000",
          "2023-01-14 14:00:00.000000",
          "2023-01-14 15:00:00.000000",
          "2023-01-14 16:00:00.000000",
          "2023-01-14 17:00:00.000000",
          "2023-01-14 18:00:00.000000",
          "2023-01-14 19:00:00.000000",
          "2023-01-14 20:00:00.000000",
          "2023-01-14 21:00:00.000000",
          "2023-01-14 22:00:00.000000",
          "2023-01-14 23:00:00.000000",
          "2023-01-15 00:00:00.000000",
          "2023-01-15 01:00:00.000000",
          "2023-01-15 02:00:00.000000",
          "2023-01-15 03:00:00.000000",
          "2023-01-15 04:00:00.000000",
          "2023-01-15 05:00:00.000000",
          "2023-01-15 06:00:00.000000",
          "2023-01-15 07:00:00.000000",
          "2023-01-15 08:00:00.000000",
          "2023-01-15 09:00:00.000000",
          "2023-01-15 10:00:00.000000",
          "2023-01-15 11:00:00.000000",
          "2023-01-15 12:00:00.000000",
          "2023-01-15 13:00:00.000000",
          "2023-01-15 14:00:00.000000",
          "2023-01-15 15:00:00.000000",
          "2023-01-15 16:00:00.000000",
          "2023-01-15 17:00:00.000000",
          "2023-01-15 18:00:00.000000",
          "2023-01-15 19:00:00.000000",
          "2023-01-15 20:00:00.000000",
          "2023-01-15 21:00:00.000000",
          "2023-01-15 22:00:00.000000",
          "2023-01-15 23:00:00.000000",
          "2023-01-16 00:00:00.000000",
          "2023-01-16 01:00:00.000000",
          "2023-01-16 02:00:00.000000",
          "2023-01-16 03:00:00.000000",
          "2023-01-16 04:00:00.000000",
          "2023-01-16 05:00:00.000000",
          "2023-01-16 06:00:00.000000",
          "2023-01-16 07:00:00.000000",
          "2023-01-16 08:00:00.000000",
          "2023-01-16 09:00:00.000000",
          "2023-01-16 10:00:00.000000",
          "2023-01-16 11:00:00.000000",
          "2023-01-16 12:00:00.000000",
          "2023-01-16 13:00:00.000000",
          "2023-01-16 14:00:00.000000",
          "2023-01-16 15:00:00.000000",
          "2023-01-16 16:00:00.000000",
          "2023-01-16 17:00:00.000000",
          "2023-01-16 18:00:00.000000",
          "2023-01-16 19:00:00.000000",
          "2023-01-16 20:00:00.000000",
          "2023-01-16 21:00:00.000000",
          "2023-01-16 22:00:00.000000",
          "2023-01-16 23:00:00.000000",
          "2023-01-17 00:00:00.000000",
          "2023-01-17 01:00:00.000000",
          "2023-01-17 02:00:00.000000",
          "2023-01-17 03:00:00.000000",
          "2023-01-17 04:00:00.000000",
          "2023-01-17 05:00:00.000000",
          "2023-01-17 06:00:00.000000",
          "2023-01-17 07:00:00.000000",
          "2023-01-17 08:00:00.000000",
          "2023-01-17 09:00:00.000000",
          "2023-01-17 10:00:00.000000",
          "2023-01-17 11:00:00.000000",
          "2023-01-17 12:00:00.000000",
          "2023-01-17 13:00:00.000000",
          "2023-01-17 14:00:00.000000",
          "2023-01-17 15:00:00.000000",
          "2023-01-17 16:00:00.000000",
          "2023-01-17 17:00:00.000000",
          "2023-01-17 18:00:00.000000",
          "2023-01-17 19:00:00.000000",
          "2023-01-17 20:00:00.000000",
          "2023-01-17 21:00:00.000000",
          "2023-01-17 22:00:00.000000",
          "2023-01-17 23:00:00.000000",
          "2023-01-18 00:00:00.000000",
          "2023-01-18 01:00:00.000000",
          "2023-01-18 02:00:00.000000",
          "2023-01-18 03:00:00.000000",
          "2023-01-18 04:00:00.000000",
          "2023-01-18 05:00:00.000000",
          "2023-01-18 06:00:00.000000",
          "2023-01-18 07:00:00.000000",
          "2023-01-18 08:00:00.000000",
          "2023-01-18 09:00:00.000000",
          "2023-01-18 10:00:00.000000",
          "2023-01-18 11:00:00.000000",
          "2023-01-18 12:00:00.000000",
          "2023-01-18 13:00:00.000000",
          "2023-01-18 14:00:00.000000",
          "2023-01-18 15:00:00.000000",
          "2023-01-18 16:00:00.000000",
          "2023-01-18 17:00:00.000000",
          "2023-01-18 18:00:00.000000",
          "2023-01-18 19:00:00.000000",
          "2023-01-18 20:00:00.000000",
          "2023-01-18 21:00:00.000000",
          "2023-01-18 22:00:00.000000",
          "2023-01-18 23:00:00.000000",
          "2023-01-19 00:00:00.000000",
          "2023-01-19 01:00:00.000000",
          "2023-01-19 02:00:00.000000",
          "2023-01-19 03:00:00.000000",
          "2023-01-19 04:00:00.000000",
          "2023-01-19 05:00:00.000000",
          "2023-01-19 06:00:00.000000",
          "2023-01-19 07:00:00.000000",
          "2023-01-19 08:00:00.000000",
          "2023-01-19 09:00:00.000000",
          "2023-01-19 10:00:00.000000",
          "2023-01-19 11:00:00.000000",
          "2023-01-19 12:00:00.000000",
          "2023-01-19 13:00:00.000000",
          "2023-01-19 14:00:00.000000",
          "2023-01-19 15:00:00.000000",
          "2023-01-19 16:00:00.000000",
          "2023-01-19 17:00:00.000000",
          "2023-01-19 18:00:00.000000",
          "2023-01-19 19:00:00.000000",
          "2023-01-19 20:00:00.000000",
          "2023-01-19 21:00:00.000000",
          "2023-01-19 22:00:00.000000",
          "2023-01-19 23:00:00.000000",
          "2023-01-20 00:00:00.000000",
          "2023-01-20 01:00:00.000000",
          "2023-01-20 02:00:00.000000",
          "2023-01-20 03:00:00.000000",
          "2023-01-20 04:00:00.000000",
          "2023-01-20 05:00:00.000000",
          "2023-01-20 06:00:00.000000",
          "2023-01-20 07:00:00.000000",
          "2023-01-20 08:00:00.000000",
          "2023-01-20 09:00:00.000000",
          "2023-01-20 10:00:00.000000",
          "2023-01-20 11:00:00.000000",
          "2023-01-20 12:00:00.000000",
          "2023-01-20 13:00:00.000000",
          "2023-01-20 14:00:00.000000",
          "2023-01-20 15:00:00.000000",
          "2023-01-20 16:00:00.000000",
          "2023-01-20 17:00:00.000000",
          "2023-01-20 18:00:00.000000",
          "2023-01-20 19:00:00.000000",
          "2023-01-20 20:00:00.000000",
          "2023-01-20 21:00:00.000000",
          "2023-01-20 22:00:00.000000",
          "2023-01-20 23:00:00.000000",
          "2023-01-21 00:00:00.000000",
          "2023-01-21 01:00:00.000000",
          "2023-01-21 02:00:00.000000",
          "2023-01-21 03:00:00.000000",
          "2023-01-21 04:00:00.000000",
          "2023-01-21 05:00:00.000000",
          "2023-01-21 06:00:00.000000",
          "2023-01-21 07:00:00.000000",
          "2023-01-21 08:00:00.000000",
          "2023-01-21 09:00:00.000000",
          "2023-01-21 10:00:00.000000",
          "2023-01-21 11:00:00.000000",
          "2023-01-21 12:00:00.000000",
          "2023-01-21 13:00:00.000000",
          "2023-01-21 14:00:00.000000",
          "2023-01-21 15:00:00.000000",
          "2023-01-21 16:00:00.000000",
          "2023-01-21 17:00:00.000000",
          "2023-01-21 18:00:00.000000",
          "2023-01-21 19:00:00.000000",
          "2023-01-21 20:00:00.000000",
          "2023-01-21 21:00:00.000000",
          "2023-01-21 22:00:00.000000",
          "2023-01-21 23:00:00.000000",
          "2023-01-22 00:00:00.000000",
          "2023-01-22 01:00:00.000000",
          "2023-01-22 02:00:00.000000",
          "2023-01-22 03:00:00.000000",
          "2023-01-22 04:00:00.000000",
          "2023-01-22 05:00:00.000000",
          "2023-01-22 06:00:00.000000",
          "2023-01-22 07:00:00.000000",
          "2023-01-22 08:00:00.000000",
          "2023-01-22 09:00:00.000000",
          "2023-01-22 10:00:00.000000",
          "2023-01-22 11:00:00.000000",
          "2023-01-22 12:00:00.000000",
          "2023-01-22 13:00:00.000000",
          "2023-01-22 14:00:00.000000",
          "2023-01-22 15:00:00.000000",
          "2023-01-22 16:00:00.000000",
          "2023-01-22 17:00:00.000000",
          "2023-01-22 18:00:00.000000",
          "2023-01-22 19:00:00.000000",
          "2023-01-22 20:00:00.000000",
          "2023-01-22 21:00:00.000000",
          "2023-01-22 22:00:00.000000",
          "2023-01-22 23:00:00.000000",
          "2023-01-23 00:00:00.000000",
          "2023-01-23 01:00:00.000000",
          "2023-01-23 02:00:00.000000",
          "2023-01-23 03:00:00.000000",
          "2023-01-23 04:00:00.000000",
          "2023-01-23 05:00:00.000000",
          "2023-01-23 06:00:00.000000",
          "2023-01-23 07:00:00.000000",
          "2023-01-23 08:00:00.000000",
          "2023-01-23 09:00:00.000000",
          "2023-01-23 10:00:00.000000",
          "2023-01-23 11:00:00.000000",
          "2023-01-23 12:00:00.000000",
          "2023-01-23 13:00:00.000000",
          "2023-01-23 14:00:00.000000",
          "2023-01-23 15:00:00.000000",
          "2023-01-23 16:00:00.000000",
          "2023-01-23 17:00:00.000000",
          "2023-01-23 18:00:00.000000",
          "2023-01-23 19:00:00.000000",
          "2023-01-23 20:00:00.000000",
          "2023-01-23 21:00:00.000000",
          "2023-01-23 22:00:00.000000",
          "2023-01-23 23:00:00.000000",
          "2023-01-24 00:00:00.000000",
          "2023-01-24 01:00:00.000000",
          "2023-01-24 02:00:00.000000",
          "2023-01-24 03:00:00.000000",
          "2023-01-24 04:00:00.000000",
          "2023-01-24 05:00:00.000000",
          "2023-01-24 06:00:00.000000",
          "2023-01-24 07:00:00.000000",
          "2023-01-24 08:00:00.000000",
          "2023-01-24 09:00:00.000000",
          "2023-01-24 10:00:00.000000",
          "2023-01-24 11:00:00.000000",
          "2023-01-24 12:00:00.000000",
          "2023-01-24 13:00:00.000000",
          "2023-01-24 14:00:00.000000",
          "2023-01-24 15:00:00.000000",
          "2023-01-24 16:00:00.000000",
          "2023-01-24 17:00:00.000000",
          "2023-01-24 18:00:00.000000",
          "2023-01-24 19:00:00.000000",
          "2023-01-24 20:00:00.000000",
          "2023-01-24 21:00:00.000000",
          "2023-01-24 22:00:00.000000",
          "2023-01-24 23:00:00.000000",
          "2023-01-25 00:00:00.000000",
          "2023-01-25 01:00:00.000000",
          "2023-01-25 02:00:00.000000",
          "2023-01-25 03:00:00.000000",
          "2023-01-25 04:00:00.000000",
          "2023-01-25 05:00:00.000000",
          "2023-01-25 06:00:00.000000",
          "2023-01-25 07:00:00.000000",
          "2023-01-25 08:00:00.000000",
          "2023-01-25 09:00:00.000000",
          "2023-01-25 10:00:00.000000",
          "2023-01-25 11:00:00.000000",
          "2023-01-25 12:00:00.000000",
          "2023-01-25 13:00:00.000000",
          "2023-01-25 14:00:00.000000",
          "2023-01-25 15:00:00.000000",
          "2023-01-25 16:00:00.000000",
          "2023-01-25 17:00:00.000000",
          "2023-01-25 18:00:00.000000",
          "2023-01-25 19:00:00.000000",
          "2023-01-25 20:00:00.000000",
          "2023-01-25 21:00:00.000000",
          "2023-01-25 22:00:00.000000",
          "2023-01-25 23:00:00.000000",
          "2023-01-26 00:00:00.000000",
          "2023-01-26 01:00:00.000000",
          "2023-01-26 02:00:00.000000",
          "2023-01-26 03:00:00.000000",
          "2023-01-26 04:00:00.000000",
          "2023-01-26 05:00:00.000000",
          "2023-01-26 06:00:00.000000",
          "2023-01-26 07:00:00.000000",
          "2023-01-26 08:00:00.000000",
          "2023-01-26 09:00:00.000000",
          "2023-01-26 10:00:00.000000",
          "2023-01-26 11:00:00.000000",
          "2023-01-26 12:00:00.000000",
          "2023-01-26 13:00:00.000000",
          "2023-01-26 14:00:00.000000",
          "2023-01-26 15:00:00.000000",
          "2023-01-26 16:00:00.000000",
          "2023-01-26 17:00:00.000000",
          "2023-01-26 18:00:00.000000",
          "2023-01-26 19:00:00.000000",
          "2023-01-26 20:00:00.000000",
          "2023-01-26 21:00:00.000000",
          "2023-01-26 22:00:00.000000",
          "2023-01-26 23:00:00.000000",
          "2023-01-27 00:00:00.000000",
          "2023-01-27 01:00:00.000000",
          "2023-01-27 02:00:00.000000",
          "2023-01-27 03:00:00.000000",
          "2023-01-27 04:00:00.000000",
          "2023-01-27 05:00:00.000000",
          "2023-01-27 06:00:00.000000",
          "2023-01-27 07:00:00.000000",
          "2023-01-27 08:00:00.000000",
          "2023-01-27 09:00:00.000000",
          "2023-01-27 10:00:00.000000",
          "2023-01-27 11:00:00.000000",
          "2023-01-27 12:00:00.000000",
          "2023-01-27 13:00:00.000000",
          "2023-01-27 14:00:00.000000",
          "2023-01-27 15:00:00.000000",
          "2023-01-27 16:00:00.000000",
          "2023-01-27 17:00:00.000000",
          "2023-01-27 18:00:00.000000",
          "2023-01-27 19:00:00.000000",
          "2023-01-27 20:00:00.000000",
          "2023-01-27 21:00:00.000000",
          "2023-01-27 22:00:00.000000",
          "2023-01-27 23:00:00.000000",
          "2023-01-28 00:00:00.000000",
          "2023-01-28 01:00:00.000000",
          "2023-01-28 02:00:00.000000",
          "2023-01-28 03:00:00.000000",
          "2023-01-28 04:00:00.000000",
          "2023-01-28 05:00:00.000000",
          "2023-01-28 06:00:00.000000",
          "2023-01-28 07:00:00.000000",
          "2023-01-28 08:00:00.000000",
          "2023-01-28 09:00:00.000000",
          "2023-01-28 10:00:00.000000",
          "2023-01-28 11:00:00.000000",
          "2023-01-28 12:00:00.000000",
          "2023-01-28 13:00:00.000000",
          "2023-01-28 14:00:00.000000",
          "2023-01-28 15:00:00.000000",
          "2023-01-28 16:00:00.000000",
          "2023-01-28 17:00:00.000000",
          "2023-01-28 18:00:00.000000",
          "2023-01-28 19:00:00.000000",
          "2023-01-28 20:00:00.000000",
          "2023-01-28 21:00:00.000000",
          "2023-01-28 22:00:00.000000",
          "2023-01-28 23:00:00.000000",
          "2023-01-29 00:00:00.000000",
          "2023-01-29 01:00:00.000000",
          "2023-01-29 02:00:00.000000",
          "2023-01-29 03:00:00.000000",
          "2023-01-29 04:00:00.000000",
          "2023-01-29 05:00:00.000000",
          "2023-01-29 06:00:00.000000",
          "2023-01-29 07:00:00.000000",
          "2023-01-29 08:00:00.000000",
          "2023-01-29 09:00:00.000000",
          "2023-01-29 10:00:00.000000",
          "2023-01-29 11:00:00.000000",
          "2023-01-29 12:00:00.000000",
          "2023-01-29 13:00:00.000000",
          "2023-01-29 14:00:00.000000",
          "2023-01-29 15:00:00.000000",
          "2023-01-29 16:00:00.000000",
          "2023-01-29 17:00:00.000000",
          "2023-01-29 18:00:00.000000",
          "2023-01-29 19:00:00.000000",
          "2023-01-29 20:00:00.000000",
          "2023-01-29 21:00:00.000000",
          "2023-01-29 22:00:00.000000",
          "2023-01-29 23:00:00.000000",
          "2023-01-30 00:00:00.000000",
          "2023-01-30 01:00:00.000000",
          "2023-01-30 02:00:00.000000",
          "2023-01-30 03:00:00.000000",
          "2023-01-30 04:00:00.000000",
          "2023-01-30 05:00:00.000000",
          "2023-01-30 06:00:00.000000",
          "2023-01-30 07:00:00.000000",
          "2023-01-30 08:00:00.000000",
          "2023-01-30 09:00:00.000000",
          "2023-01-30 10:00:00.000000",
          "2023-01-30 11:00:00.000000",
          "2023-01-30 12:00:00.000000",
          "2023-01-30 13:00:00.000000",
          "2023-01-30 14:00:00.000000",
          "2023-01-30 15:00:00.000000",
          "2023-01-30 16:00:00.000000",
          "2023-01-30 17:00:00.000000",
          "2023-01-30 18:00:00.000000",
          "2023-01-30 19:00:00.000000",
          "2023-01-30 20:00:00.000000",
          "2023-01-30 21:00:00.000000",
          "2023-01-30 22:00:00.000000",
          "2023-01-30 23:00:00.000000",
          "2023-01-31 00:00:00.000000",
          "2023-01-31 01:00:00.000000",
          "2023-01-31 02:00:00.000000",
          "2023-01-31 03:00:00.000000",
          "2023-01-31 04:00:00.000000",
          "2023-01-31 05:00:00.000000",
          "2023-01-31 06:00:00.000000",
          "2023-01-31 07:00:00.000000",
          "2023-01-31 08:00:00.000000"
         ],
         "xaxis": "x3",
         "y": [
          972,
          972,
          974,
          982,
          976,
          974,
          971,
          982,
          970,
          972,
          984,
          971,
          977,
          977,
          984,
          981,
          971,
          966,
          977,
          969,
          978,
          970,
          972,
          975,
          975,
          973,
          980,
          973,
          976,
          988,
          973,
          970,
          969,
          970,
          974,
          969,
          970,
          973,
          977,
          968,
          978,
          972,
          982,
          974,
          976,
          977,
          979,
          978,
          981,
          976,
          970,
          966,
          980,
          975,
          971,
          971,
          981,
          976,
          978,
          974,
          981,
          980,
          974,
          974,
          980,
          964,
          979,
          975,
          980,
          972,
          980,
          972,
          983,
          972,
          977,
          982,
          983,
          971,
          971,
          980,
          977,
          972,
          977,
          974,
          978,
          975,
          975,
          982,
          986,
          973,
          980,
          974,
          973,
          978,
          980,
          971,
          968,
          970,
          973,
          983,
          975,
          981,
          976,
          977,
          972,
          968,
          966,
          980,
          981,
          977,
          979,
          965,
          980,
          975,
          977,
          975,
          978,
          972,
          977,
          965,
          981,
          974,
          977,
          976,
          976,
          976,
          970,
          964,
          975,
          977,
          970,
          978,
          960,
          973,
          971,
          974,
          968,
          974,
          980,
          974,
          976,
          973,
          965,
          985,
          968,
          977,
          973,
          980,
          979,
          977,
          984,
          972,
          979,
          979,
          972,
          978,
          980,
          970,
          973,
          973,
          978,
          985,
          973,
          971,
          979,
          980,
          966,
          978,
          970,
          971,
          974,
          987,
          976,
          972,
          972,
          978,
          975,
          964,
          972,
          967,
          983,
          973,
          965,
          973,
          968,
          981,
          977,
          981,
          978,
          979,
          983,
          979,
          976,
          975,
          983,
          966,
          967,
          974,
          982,
          972,
          974,
          978,
          975,
          974,
          976,
          976,
          966,
          978,
          978,
          970,
          981,
          977,
          980,
          982,
          968,
          966,
          987,
          962,
          980,
          977,
          969,
          970,
          968,
          987,
          967,
          975,
          976,
          976,
          975,
          973,
          970,
          972,
          978,
          978,
          971,
          975,
          977,
          982,
          967,
          982,
          975,
          980,
          990,
          974,
          973,
          978,
          987,
          974,
          982,
          963,
          976,
          977,
          974,
          974,
          987,
          969,
          975,
          976,
          972,
          974,
          974,
          983,
          967,
          978,
          982,
          968,
          976,
          974,
          975,
          974,
          973,
          980,
          976,
          982,
          977,
          975,
          970,
          969,
          971,
          970,
          987,
          968,
          23,
          970,
          977,
          971,
          978,
          980,
          984,
          981,
          972,
          973,
          978,
          974,
          968,
          974,
          980,
          973,
          980,
          963,
          981,
          975,
          978,
          968,
          971,
          979,
          967,
          968,
          976,
          976,
          977,
          972,
          976,
          980,
          979,
          973,
          974,
          976,
          982,
          977,
          982,
          975,
          973,
          982,
          972,
          986,
          982,
          973,
          984,
          979,
          969,
          979,
          971,
          973,
          979,
          973,
          981,
          971,
          972,
          973,
          975,
          979,
          977,
          981,
          972,
          978,
          985,
          978,
          971,
          980,
          972,
          978,
          977,
          980,
          979,
          973,
          975,
          968,
          983,
          981,
          975,
          973,
          972,
          983,
          980,
          973,
          977,
          976,
          974,
          969,
          977,
          973,
          971,
          970,
          978,
          972,
          979,
          987,
          979,
          981,
          973,
          975,
          975,
          974,
          982,
          970,
          976,
          985,
          975,
          966,
          976,
          977,
          973,
          972,
          973,
          983,
          976,
          975,
          974,
          973,
          976,
          979,
          979,
          974,
          973,
          982,
          977,
          974,
          977,
          986,
          980,
          974,
          976,
          975,
          978,
          981,
          984,
          977,
          973,
          976,
          973,
          973,
          983,
          964,
          977,
          975,
          973,
          987,
          977,
          967,
          969,
          978,
          973,
          970,
          971,
          969,
          972,
          966,
          975,
          973,
          981,
          965,
          974,
          969,
          979,
          971,
          968,
          978,
          968,
          973,
          966,
          975,
          971,
          974,
          971,
          969,
          978,
          979,
          980,
          980,
          978,
          974,
          967,
          971,
          975,
          968,
          974,
          979,
          975,
          972,
          986,
          978,
          976,
          976,
          980,
          970,
          978,
          976,
          972,
          967,
          984,
          968,
          982,
          989,
          973,
          977,
          970,
          975,
          973,
          976,
          980,
          977,
          974,
          970,
          965,
          978,
          979,
          976,
          979,
          978,
          974,
          984,
          973,
          978,
          968,
          982,
          971,
          972,
          977,
          981,
          980,
          981,
          974,
          976,
          982,
          982,
          977,
          974,
          982,
          972,
          972,
          977,
          968,
          973,
          974,
          973,
          975,
          977,
          973,
          976,
          967,
          970,
          974,
          985,
          973,
          977,
          987,
          976,
          972,
          969,
          981,
          974,
          975,
          980,
          986,
          979,
          978,
          982,
          969,
          974,
          976,
          977,
          975,
          970,
          971,
          975,
          978,
          984,
          979,
          986,
          978,
          966,
          970,
          969,
          977,
          973,
          972,
          979,
          984,
          969,
          965,
          979,
          972,
          971,
          985,
          971,
          979,
          974,
          970,
          972,
          980,
          980,
          977,
          976,
          972,
          975,
          982,
          978,
          971,
          978,
          972,
          973,
          982,
          978,
          962,
          967,
          980,
          975,
          978,
          975,
          981,
          965,
          976,
          973,
          977,
          981,
          973,
          978,
          978,
          975,
          981,
          977,
          976,
          984,
          977,
          973,
          979,
          980,
          968,
          976,
          981,
          976,
          973,
          974,
          975,
          970,
          973,
          971,
          974,
          975,
          974,
          972,
          982,
          968,
          973,
          976,
          969,
          968,
          971,
          979,
          969,
          972,
          971,
          968,
          978,
          983,
          979,
          977,
          973,
          975,
          977,
          975,
          981,
          973,
          972,
          979,
          984,
          968,
          968,
          975,
          974,
          979,
          973,
          981,
          970,
          973,
          979,
          971,
          965,
          976,
          967,
          969,
          984,
          965,
          984,
          976,
          974,
          976,
          972,
          982,
          969,
          970,
          969,
          977,
          972,
          970,
          973,
          974,
          982,
          965,
          976,
          978,
          978,
          976,
          985,
          969,
          977,
          980,
          969,
          965,
          980,
          973,
          971,
          975,
          977,
          981,
          977,
          978,
          969,
          979,
          972,
          978,
          965,
          977,
          973,
          972,
          979,
          960,
          973,
          976,
          974,
          969,
          963,
          978,
          981,
          967,
          972,
          967
         ],
         "yaxis": "y5"
        },
        {
         "legendgroup": "3",
         "marker": {
          "color": "#ffb2b2"
         },
         "name": "Short",
         "type": "bar",
         "x": [
          "2023-01-01 01:00:00.000000",
          "2023-01-01 02:00:00.000000",
          "2023-01-01 03:00:00.000000",
          "2023-01-01 04:00:00.000000",
          "2023-01-01 05:00:00.000000",
          "2023-01-01 06:00:00.000000",
          "2023-01-01 07:00:00.000000",
          "2023-01-01 08:00:00.000000",
          "2023-01-01 09:00:00.000000",
          "2023-01-01 10:00:00.000000",
          "2023-01-01 11:00:00.000000",
          "2023-01-01 12:00:00.000000",
          "2023-01-01 13:00:00.000000",
          "2023-01-01 14:00:00.000000",
          "2023-01-01 15:00:00.000000",
          "2023-01-01 16:00:00.000000",
          "2023-01-01 17:00:00.000000",
          "2023-01-01 18:00:00.000000",
          "2023-01-01 19:00:00.000000",
          "2023-01-01 20:00:00.000000",
          "2023-01-01 21:00:00.000000",
          "2023-01-01 22:00:00.000000",
          "2023-01-01 23:00:00.000000",
          "2023-01-02 00:00:00.000000",
          "2023-01-02 01:00:00.000000",
          "2023-01-02 02:00:00.000000",
          "2023-01-02 03:00:00.000000",
          "2023-01-02 04:00:00.000000",
          "2023-01-02 05:00:00.000000",
          "2023-01-02 06:00:00.000000",
          "2023-01-02 07:00:00.000000",
          "2023-01-02 08:00:00.000000",
          "2023-01-02 09:00:00.000000",
          "2023-01-02 10:00:00.000000",
          "2023-01-02 11:00:00.000000",
          "2023-01-02 12:00:00.000000",
          "2023-01-02 13:00:00.000000",
          "2023-01-02 14:00:00.000000",
          "2023-01-02 15:00:00.000000",
          "2023-01-02 16:00:00.000000",
          "2023-01-02 17:00:00.000000",
          "2023-01-02 18:00:00.000000",
          "2023-01-02 19:00:00.000000",
          "2023-01-02 20:00:00.000000",
          "2023-01-02 21:00:00.000000",
          "2023-01-02 22:00:00.000000",
          "2023-01-02 23:00:00.000000",
          "2023-01-03 00:00:00.000000",
          "2023-01-03 01:00:00.000000",
          "2023-01-03 02:00:00.000000",
          "2023-01-03 03:00:00.000000",
          "2023-01-03 04:00:00.000000",
          "2023-01-03 05:00:00.000000",
          "2023-01-03 06:00:00.000000",
          "2023-01-03 07:00:00.000000",
          "2023-01-03 08:00:00.000000",
          "2023-01-03 09:00:00.000000",
          "2023-01-03 10:00:00.000000",
          "2023-01-03 11:00:00.000000",
          "2023-01-03 12:00:00.000000",
          "2023-01-03 13:00:00.000000",
          "2023-01-03 14:00:00.000000",
          "2023-01-03 15:00:00.000000",
          "2023-01-03 16:00:00.000000",
          "2023-01-03 17:00:00.000000",
          "2023-01-03 18:00:00.000000",
          "2023-01-03 19:00:00.000000",
          "2023-01-03 20:00:00.000000",
          "2023-01-03 21:00:00.000000",
          "2023-01-03 22:00:00.000000",
          "2023-01-03 23:00:00.000000",
          "2023-01-04 00:00:00.000000",
          "2023-01-04 01:00:00.000000",
          "2023-01-04 02:00:00.000000",
          "2023-01-04 03:00:00.000000",
          "2023-01-04 04:00:00.000000",
          "2023-01-04 05:00:00.000000",
          "2023-01-04 06:00:00.000000",
          "2023-01-04 07:00:00.000000",
          "2023-01-04 08:00:00.000000",
          "2023-01-04 09:00:00.000000",
          "2023-01-04 10:00:00.000000",
          "2023-01-04 11:00:00.000000",
          "2023-01-04 12:00:00.000000",
          "2023-01-04 13:00:00.000000",
          "2023-01-04 14:00:00.000000",
          "2023-01-04 15:00:00.000000",
          "2023-01-04 16:00:00.000000",
          "2023-01-04 17:00:00.000000",
          "2023-01-04 18:00:00.000000",
          "2023-01-04 19:00:00.000000",
          "2023-01-04 20:00:00.000000",
          "2023-01-04 21:00:00.000000",
          "2023-01-04 22:00:00.000000",
          "2023-01-04 23:00:00.000000",
          "2023-01-05 00:00:00.000000",
          "2023-01-05 01:00:00.000000",
          "2023-01-05 02:00:00.000000",
          "2023-01-05 03:00:00.000000",
          "2023-01-05 04:00:00.000000",
          "2023-01-05 05:00:00.000000",
          "2023-01-05 06:00:00.000000",
          "2023-01-05 07:00:00.000000",
          "2023-01-05 08:00:00.000000",
          "2023-01-05 09:00:00.000000",
          "2023-01-05 10:00:00.000000",
          "2023-01-05 11:00:00.000000",
          "2023-01-05 12:00:00.000000",
          "2023-01-05 13:00:00.000000",
          "2023-01-05 14:00:00.000000",
          "2023-01-05 15:00:00.000000",
          "2023-01-05 16:00:00.000000",
          "2023-01-05 17:00:00.000000",
          "2023-01-05 18:00:00.000000",
          "2023-01-05 19:00:00.000000",
          "2023-01-05 20:00:00.000000",
          "2023-01-05 21:00:00.000000",
          "2023-01-05 22:00:00.000000",
          "2023-01-05 23:00:00.000000",
          "2023-01-06 00:00:00.000000",
          "2023-01-06 01:00:00.000000",
          "2023-01-06 02:00:00.000000",
          "2023-01-06 03:00:00.000000",
          "2023-01-06 04:00:00.000000",
          "2023-01-06 05:00:00.000000",
          "2023-01-06 06:00:00.000000",
          "2023-01-06 07:00:00.000000",
          "2023-01-06 08:00:00.000000",
          "2023-01-06 09:00:00.000000",
          "2023-01-06 10:00:00.000000",
          "2023-01-06 11:00:00.000000",
          "2023-01-06 12:00:00.000000",
          "2023-01-06 13:00:00.000000",
          "2023-01-06 14:00:00.000000",
          "2023-01-06 15:00:00.000000",
          "2023-01-06 16:00:00.000000",
          "2023-01-06 17:00:00.000000",
          "2023-01-06 18:00:00.000000",
          "2023-01-06 19:00:00.000000",
          "2023-01-06 20:00:00.000000",
          "2023-01-06 21:00:00.000000",
          "2023-01-06 22:00:00.000000",
          "2023-01-06 23:00:00.000000",
          "2023-01-07 00:00:00.000000",
          "2023-01-07 01:00:00.000000",
          "2023-01-07 02:00:00.000000",
          "2023-01-07 03:00:00.000000",
          "2023-01-07 04:00:00.000000",
          "2023-01-07 05:00:00.000000",
          "2023-01-07 06:00:00.000000",
          "2023-01-07 07:00:00.000000",
          "2023-01-07 08:00:00.000000",
          "2023-01-07 09:00:00.000000",
          "2023-01-07 10:00:00.000000",
          "2023-01-07 11:00:00.000000",
          "2023-01-07 12:00:00.000000",
          "2023-01-07 13:00:00.000000",
          "2023-01-07 14:00:00.000000",
          "2023-01-07 15:00:00.000000",
          "2023-01-07 16:00:00.000000",
          "2023-01-07 17:00:00.000000",
          "2023-01-07 18:00:00.000000",
          "2023-01-07 19:00:00.000000",
          "2023-01-07 20:00:00.000000",
          "2023-01-07 21:00:00.000000",
          "2023-01-07 22:00:00.000000",
          "2023-01-07 23:00:00.000000",
          "2023-01-08 00:00:00.000000",
          "2023-01-08 01:00:00.000000",
          "2023-01-08 02:00:00.000000",
          "2023-01-08 03:00:00.000000",
          "2023-01-08 04:00:00.000000",
          "2023-01-08 05:00:00.000000",
          "2023-01-08 06:00:00.000000",
          "2023-01-08 07:00:00.000000",
          "2023-01-08 08:00:00.000000",
          "2023-01-08 09:00:00.000000",
          "2023-01-08 10:00:00.000000",
          "2023-01-08 11:00:00.000000",
          "2023-01-08 12:00:00.000000",
          "2023-01-08 13:00:00.000000",
          "2023-01-08 14:00:00.000000",
          "2023-01-08 15:00:00.000000",
          "2023-01-08 16:00:00.000000",
          "2023-01-08 17:00:00.000000",
          "2023-01-08 18:00:00.000000",
          "2023-01-08 19:00:00.000000",
          "2023-01-08 20:00:00.000000",
          "2023-01-08 21:00:00.000000",
          "2023-01-08 22:00:00.000000",
          "2023-01-08 23:00:00.000000",
          "2023-01-09 00:00:00.000000",
          "2023-01-09 01:00:00.000000",
          "2023-01-09 02:00:00.000000",
          "2023-01-09 03:00:00.000000",
          "2023-01-09 04:00:00.000000",
          "2023-01-09 05:00:00.000000",
          "2023-01-09 06:00:00.000000",
          "2023-01-09 07:00:00.000000",
          "2023-01-09 08:00:00.000000",
          "2023-01-09 09:00:00.000000",
          "2023-01-09 10:00:00.000000",
          "2023-01-09 11:00:00.000000",
          "2023-01-09 12:00:00.000000",
          "2023-01-09 13:00:00.000000",
          "2023-01-09 14:00:00.000000",
          "2023-01-09 15:00:00.000000",
          "2023-01-09 16:00:00.000000",
          "2023-01-09 17:00:00.000000",
          "2023-01-09 18:00:00.000000",
          "2023-01-09 19:00:00.000000",
          "2023-01-09 20:00:00.000000",
          "2023-01-09 21:00:00.000000",
          "2023-01-09 22:00:00.000000",
          "2023-01-09 23:00:00.000000",
          "2023-01-10 00:00:00.000000",
          "2023-01-10 01:00:00.000000",
          "2023-01-10 02:00:00.000000",
          "2023-01-10 03:00:00.000000",
          "2023-01-10 04:00:00.000000",
          "2023-01-10 05:00:00.000000",
          "2023-01-10 06:00:00.000000",
          "2023-01-10 07:00:00.000000",
          "2023-01-10 08:00:00.000000",
          "2023-01-10 09:00:00.000000",
          "2023-01-10 10:00:00.000000",
          "2023-01-10 11:00:00.000000",
          "2023-01-10 12:00:00.000000",
          "2023-01-10 13:00:00.000000",
          "2023-01-10 14:00:00.000000",
          "2023-01-10 15:00:00.000000",
          "2023-01-10 16:00:00.000000",
          "2023-01-10 17:00:00.000000",
          "2023-01-10 18:00:00.000000",
          "2023-01-10 19:00:00.000000",
          "2023-01-10 20:00:00.000000",
          "2023-01-10 21:00:00.000000",
          "2023-01-10 22:00:00.000000",
          "2023-01-10 23:00:00.000000",
          "2023-01-11 00:00:00.000000",
          "2023-01-11 01:00:00.000000",
          "2023-01-11 02:00:00.000000",
          "2023-01-11 03:00:00.000000",
          "2023-01-11 04:00:00.000000",
          "2023-01-11 05:00:00.000000",
          "2023-01-11 06:00:00.000000",
          "2023-01-11 07:00:00.000000",
          "2023-01-11 08:00:00.000000",
          "2023-01-11 09:00:00.000000",
          "2023-01-11 10:00:00.000000",
          "2023-01-11 11:00:00.000000",
          "2023-01-11 12:00:00.000000",
          "2023-01-11 13:00:00.000000",
          "2023-01-11 14:00:00.000000",
          "2023-01-11 15:00:00.000000",
          "2023-01-11 16:00:00.000000",
          "2023-01-11 17:00:00.000000",
          "2023-01-11 18:00:00.000000",
          "2023-01-11 19:00:00.000000",
          "2023-01-11 20:00:00.000000",
          "2023-01-11 21:00:00.000000",
          "2023-01-11 22:00:00.000000",
          "2023-01-11 23:00:00.000000",
          "2023-01-12 00:00:00.000000",
          "2023-01-12 01:00:00.000000",
          "2023-01-12 02:00:00.000000",
          "2023-01-12 03:00:00.000000",
          "2023-01-12 04:00:00.000000",
          "2023-01-12 05:00:00.000000",
          "2023-01-12 06:00:00.000000",
          "2023-01-12 07:00:00.000000",
          "2023-01-12 08:00:00.000000",
          "2023-01-12 09:00:00.000000",
          "2023-01-12 10:00:00.000000",
          "2023-01-12 11:00:00.000000",
          "2023-01-12 12:00:00.000000",
          "2023-01-12 13:00:00.000000",
          "2023-01-12 14:00:00.000000",
          "2023-01-12 15:00:00.000000",
          "2023-01-12 16:00:00.000000",
          "2023-01-12 17:00:00.000000",
          "2023-01-12 18:00:00.000000",
          "2023-01-12 19:00:00.000000",
          "2023-01-12 20:00:00.000000",
          "2023-01-12 21:00:00.000000",
          "2023-01-12 22:00:00.000000",
          "2023-01-12 23:00:00.000000",
          "2023-01-13 00:00:00.000000",
          "2023-01-13 01:00:00.000000",
          "2023-01-13 02:00:00.000000",
          "2023-01-13 03:00:00.000000",
          "2023-01-13 04:00:00.000000",
          "2023-01-13 05:00:00.000000",
          "2023-01-13 06:00:00.000000",
          "2023-01-13 07:00:00.000000",
          "2023-01-13 08:00:00.000000",
          "2023-01-13 09:00:00.000000",
          "2023-01-13 10:00:00.000000",
          "2023-01-13 11:00:00.000000",
          "2023-01-13 12:00:00.000000",
          "2023-01-13 13:00:00.000000",
          "2023-01-13 14:00:00.000000",
          "2023-01-13 15:00:00.000000",
          "2023-01-13 16:00:00.000000",
          "2023-01-13 17:00:00.000000",
          "2023-01-13 18:00:00.000000",
          "2023-01-13 19:00:00.000000",
          "2023-01-13 20:00:00.000000",
          "2023-01-13 21:00:00.000000",
          "2023-01-13 22:00:00.000000",
          "2023-01-13 23:00:00.000000",
          "2023-01-14 00:00:00.000000",
          "2023-01-14 01:00:00.000000",
          "2023-01-14 02:00:00.000000",
          "2023-01-14 03:00:00.000000",
          "2023-01-14 04:00:00.000000",
          "2023-01-14 05:00:00.000000",
          "2023-01-14 06:00:00.000000",
          "2023-01-14 07:00:00.000000",
          "2023-01-14 08:00:00.000000",
          "2023-01-14 09:00:00.000000",
          "2023-01-14 10:00:00.000000",
          "2023-01-14 11:00:00.000000",
          "2023-01-14 12:00:00.000000",
          "2023-01-14 13:00:00.000000",
          "2023-01-14 14:00:00.000000",
          "2023-01-14 15:00:00.000000",
          "2023-01-14 16:00:00.000000",
          "2023-01-14 17:00:00.000000",
          "2023-01-14 18:00:00.000000",
          "2023-01-14 19:00:00.000000",
          "2023-01-14 20:00:00.000000",
          "2023-01-14 21:00:00.000000",
          "2023-01-14 22:00:00.000000",
          "2023-01-14 23:00:00.000000",
          "2023-01-15 00:00:00.000000",
          "2023-01-15 01:00:00.000000",
          "2023-01-15 02:00:00.000000",
          "2023-01-15 03:00:00.000000",
          "2023-01-15 04:00:00.000000",
          "2023-01-15 05:00:00.000000",
          "2023-01-15 06:00:00.000000",
          "2023-01-15 07:00:00.000000",
          "2023-01-15 08:00:00.000000",
          "2023-01-15 09:00:00.000000",
          "2023-01-15 10:00:00.000000",
          "2023-01-15 11:00:00.000000",
          "2023-01-15 12:00:00.000000",
          "2023-01-15 13:00:00.000000",
          "2023-01-15 14:00:00.000000",
          "2023-01-15 15:00:00.000000",
          "2023-01-15 16:00:00.000000",
          "2023-01-15 17:00:00.000000",
          "2023-01-15 18:00:00.000000",
          "2023-01-15 19:00:00.000000",
          "2023-01-15 20:00:00.000000",
          "2023-01-15 21:00:00.000000",
          "2023-01-15 22:00:00.000000",
          "2023-01-15 23:00:00.000000",
          "2023-01-16 00:00:00.000000",
          "2023-01-16 01:00:00.000000",
          "2023-01-16 02:00:00.000000",
          "2023-01-16 03:00:00.000000",
          "2023-01-16 04:00:00.000000",
          "2023-01-16 05:00:00.000000",
          "2023-01-16 06:00:00.000000",
          "2023-01-16 07:00:00.000000",
          "2023-01-16 08:00:00.000000",
          "2023-01-16 09:00:00.000000",
          "2023-01-16 10:00:00.000000",
          "2023-01-16 11:00:00.000000",
          "2023-01-16 12:00:00.000000",
          "2023-01-16 13:00:00.000000",
          "2023-01-16 14:00:00.000000",
          "2023-01-16 15:00:00.000000",
          "2023-01-16 16:00:00.000000",
          "2023-01-16 17:00:00.000000",
          "2023-01-16 18:00:00.000000",
          "2023-01-16 19:00:00.000000",
          "2023-01-16 20:00:00.000000",
          "2023-01-16 21:00:00.000000",
          "2023-01-16 22:00:00.000000",
          "2023-01-16 23:00:00.000000",
          "2023-01-17 00:00:00.000000",
          "2023-01-17 01:00:00.000000",
          "2023-01-17 02:00:00.000000",
          "2023-01-17 03:00:00.000000",
          "2023-01-17 04:00:00.000000",
          "2023-01-17 05:00:00.000000",
          "2023-01-17 06:00:00.000000",
          "2023-01-17 07:00:00.000000",
          "2023-01-17 08:00:00.000000",
          "2023-01-17 09:00:00.000000",
          "2023-01-17 10:00:00.000000",
          "2023-01-17 11:00:00.000000",
          "2023-01-17 12:00:00.000000",
          "2023-01-17 13:00:00.000000",
          "2023-01-17 14:00:00.000000",
          "2023-01-17 15:00:00.000000",
          "2023-01-17 16:00:00.000000",
          "2023-01-17 17:00:00.000000",
          "2023-01-17 18:00:00.000000",
          "2023-01-17 19:00:00.000000",
          "2023-01-17 20:00:00.000000",
          "2023-01-17 21:00:00.000000",
          "2023-01-17 22:00:00.000000",
          "2023-01-17 23:00:00.000000",
          "2023-01-18 00:00:00.000000",
          "2023-01-18 01:00:00.000000",
          "2023-01-18 02:00:00.000000",
          "2023-01-18 03:00:00.000000",
          "2023-01-18 04:00:00.000000",
          "2023-01-18 05:00:00.000000",
          "2023-01-18 06:00:00.000000",
          "2023-01-18 07:00:00.000000",
          "2023-01-18 08:00:00.000000",
          "2023-01-18 09:00:00.000000",
          "2023-01-18 10:00:00.000000",
          "2023-01-18 11:00:00.000000",
          "2023-01-18 12:00:00.000000",
          "2023-01-18 13:00:00.000000",
          "2023-01-18 14:00:00.000000",
          "2023-01-18 15:00:00.000000",
          "2023-01-18 16:00:00.000000",
          "2023-01-18 17:00:00.000000",
          "2023-01-18 18:00:00.000000",
          "2023-01-18 19:00:00.000000",
          "2023-01-18 20:00:00.000000",
          "2023-01-18 21:00:00.000000",
          "2023-01-18 22:00:00.000000",
          "2023-01-18 23:00:00.000000",
          "2023-01-19 00:00:00.000000",
          "2023-01-19 01:00:00.000000",
          "2023-01-19 02:00:00.000000",
          "2023-01-19 03:00:00.000000",
          "2023-01-19 04:00:00.000000",
          "2023-01-19 05:00:00.000000",
          "2023-01-19 06:00:00.000000",
          "2023-01-19 07:00:00.000000",
          "2023-01-19 08:00:00.000000",
          "2023-01-19 09:00:00.000000",
          "2023-01-19 10:00:00.000000",
          "2023-01-19 11:00:00.000000",
          "2023-01-19 12:00:00.000000",
          "2023-01-19 13:00:00.000000",
          "2023-01-19 14:00:00.000000",
          "2023-01-19 15:00:00.000000",
          "2023-01-19 16:00:00.000000",
          "2023-01-19 17:00:00.000000",
          "2023-01-19 18:00:00.000000",
          "2023-01-19 19:00:00.000000",
          "2023-01-19 20:00:00.000000",
          "2023-01-19 21:00:00.000000",
          "2023-01-19 22:00:00.000000",
          "2023-01-19 23:00:00.000000",
          "2023-01-20 00:00:00.000000",
          "2023-01-20 01:00:00.000000",
          "2023-01-20 02:00:00.000000",
          "2023-01-20 03:00:00.000000",
          "2023-01-20 04:00:00.000000",
          "2023-01-20 05:00:00.000000",
          "2023-01-20 06:00:00.000000",
          "2023-01-20 07:00:00.000000",
          "2023-01-20 08:00:00.000000",
          "2023-01-20 09:00:00.000000",
          "2023-01-20 10:00:00.000000",
          "2023-01-20 11:00:00.000000",
          "2023-01-20 12:00:00.000000",
          "2023-01-20 13:00:00.000000",
          "2023-01-20 14:00:00.000000",
          "2023-01-20 15:00:00.000000",
          "2023-01-20 16:00:00.000000",
          "2023-01-20 17:00:00.000000",
          "2023-01-20 18:00:00.000000",
          "2023-01-20 19:00:00.000000",
          "2023-01-20 20:00:00.000000",
          "2023-01-20 21:00:00.000000",
          "2023-01-20 22:00:00.000000",
          "2023-01-20 23:00:00.000000",
          "2023-01-21 00:00:00.000000",
          "2023-01-21 01:00:00.000000",
          "2023-01-21 02:00:00.000000",
          "2023-01-21 03:00:00.000000",
          "2023-01-21 04:00:00.000000",
          "2023-01-21 05:00:00.000000",
          "2023-01-21 06:00:00.000000",
          "2023-01-21 07:00:00.000000",
          "2023-01-21 08:00:00.000000",
          "2023-01-21 09:00:00.000000",
          "2023-01-21 10:00:00.000000",
          "2023-01-21 11:00:00.000000",
          "2023-01-21 12:00:00.000000",
          "2023-01-21 13:00:00.000000",
          "2023-01-21 14:00:00.000000",
          "2023-01-21 15:00:00.000000",
          "2023-01-21 16:00:00.000000",
          "2023-01-21 17:00:00.000000",
          "2023-01-21 18:00:00.000000",
          "2023-01-21 19:00:00.000000",
          "2023-01-21 20:00:00.000000",
          "2023-01-21 21:00:00.000000",
          "2023-01-21 22:00:00.000000",
          "2023-01-21 23:00:00.000000",
          "2023-01-22 00:00:00.000000",
          "2023-01-22 01:00:00.000000",
          "2023-01-22 02:00:00.000000",
          "2023-01-22 03:00:00.000000",
          "2023-01-22 04:00:00.000000",
          "2023-01-22 05:00:00.000000",
          "2023-01-22 06:00:00.000000",
          "2023-01-22 07:00:00.000000",
          "2023-01-22 08:00:00.000000",
          "2023-01-22 09:00:00.000000",
          "2023-01-22 10:00:00.000000",
          "2023-01-22 11:00:00.000000",
          "2023-01-22 12:00:00.000000",
          "2023-01-22 13:00:00.000000",
          "2023-01-22 14:00:00.000000",
          "2023-01-22 15:00:00.000000",
          "2023-01-22 16:00:00.000000",
          "2023-01-22 17:00:00.000000",
          "2023-01-22 18:00:00.000000",
          "2023-01-22 19:00:00.000000",
          "2023-01-22 20:00:00.000000",
          "2023-01-22 21:00:00.000000",
          "2023-01-22 22:00:00.000000",
          "2023-01-22 23:00:00.000000",
          "2023-01-23 00:00:00.000000",
          "2023-01-23 01:00:00.000000",
          "2023-01-23 02:00:00.000000",
          "2023-01-23 03:00:00.000000",
          "2023-01-23 04:00:00.000000",
          "2023-01-23 05:00:00.000000",
          "2023-01-23 06:00:00.000000",
          "2023-01-23 07:00:00.000000",
          "2023-01-23 08:00:00.000000",
          "2023-01-23 09:00:00.000000",
          "2023-01-23 10:00:00.000000",
          "2023-01-23 11:00:00.000000",
          "2023-01-23 12:00:00.000000",
          "2023-01-23 13:00:00.000000",
          "2023-01-23 14:00:00.000000",
          "2023-01-23 15:00:00.000000",
          "2023-01-23 16:00:00.000000",
          "2023-01-23 17:00:00.000000",
          "2023-01-23 18:00:00.000000",
          "2023-01-23 19:00:00.000000",
          "2023-01-23 20:00:00.000000",
          "2023-01-23 21:00:00.000000",
          "2023-01-23 22:00:00.000000",
          "2023-01-23 23:00:00.000000",
          "2023-01-24 00:00:00.000000",
          "2023-01-24 01:00:00.000000",
          "2023-01-24 02:00:00.000000",
          "2023-01-24 03:00:00.000000",
          "2023-01-24 04:00:00.000000",
          "2023-01-24 05:00:00.000000",
          "2023-01-24 06:00:00.000000",
          "2023-01-24 07:00:00.000000",
          "2023-01-24 08:00:00.000000",
          "2023-01-24 09:00:00.000000",
          "2023-01-24 10:00:00.000000",
          "2023-01-24 11:00:00.000000",
          "2023-01-24 12:00:00.000000",
          "2023-01-24 13:00:00.000000",
          "2023-01-24 14:00:00.000000",
          "2023-01-24 15:00:00.000000",
          "2023-01-24 16:00:00.000000",
          "2023-01-24 17:00:00.000000",
          "2023-01-24 18:00:00.000000",
          "2023-01-24 19:00:00.000000",
          "2023-01-24 20:00:00.000000",
          "2023-01-24 21:00:00.000000",
          "2023-01-24 22:00:00.000000",
          "2023-01-24 23:00:00.000000",
          "2023-01-25 00:00:00.000000",
          "2023-01-25 01:00:00.000000",
          "2023-01-25 02:00:00.000000",
          "2023-01-25 03:00:00.000000",
          "2023-01-25 04:00:00.000000",
          "2023-01-25 05:00:00.000000",
          "2023-01-25 06:00:00.000000",
          "2023-01-25 07:00:00.000000",
          "2023-01-25 08:00:00.000000",
          "2023-01-25 09:00:00.000000",
          "2023-01-25 10:00:00.000000",
          "2023-01-25 11:00:00.000000",
          "2023-01-25 12:00:00.000000",
          "2023-01-25 13:00:00.000000",
          "2023-01-25 14:00:00.000000",
          "2023-01-25 15:00:00.000000",
          "2023-01-25 16:00:00.000000",
          "2023-01-25 17:00:00.000000",
          "2023-01-25 18:00:00.000000",
          "2023-01-25 19:00:00.000000",
          "2023-01-25 20:00:00.000000",
          "2023-01-25 21:00:00.000000",
          "2023-01-25 22:00:00.000000",
          "2023-01-25 23:00:00.000000",
          "2023-01-26 00:00:00.000000",
          "2023-01-26 01:00:00.000000",
          "2023-01-26 02:00:00.000000",
          "2023-01-26 03:00:00.000000",
          "2023-01-26 04:00:00.000000",
          "2023-01-26 05:00:00.000000",
          "2023-01-26 06:00:00.000000",
          "2023-01-26 07:00:00.000000",
          "2023-01-26 08:00:00.000000",
          "2023-01-26 09:00:00.000000",
          "2023-01-26 10:00:00.000000",
          "2023-01-26 11:00:00.000000",
          "2023-01-26 12:00:00.000000",
          "2023-01-26 13:00:00.000000",
          "2023-01-26 14:00:00.000000",
          "2023-01-26 15:00:00.000000",
          "2023-01-26 16:00:00.000000",
          "2023-01-26 17:00:00.000000",
          "2023-01-26 18:00:00.000000",
          "2023-01-26 19:00:00.000000",
          "2023-01-26 20:00:00.000000",
          "2023-01-26 21:00:00.000000",
          "2023-01-26 22:00:00.000000",
          "2023-01-26 23:00:00.000000",
          "2023-01-27 00:00:00.000000",
          "2023-01-27 01:00:00.000000",
          "2023-01-27 02:00:00.000000",
          "2023-01-27 03:00:00.000000",
          "2023-01-27 04:00:00.000000",
          "2023-01-27 05:00:00.000000",
          "2023-01-27 06:00:00.000000",
          "2023-01-27 07:00:00.000000",
          "2023-01-27 08:00:00.000000",
          "2023-01-27 09:00:00.000000",
          "2023-01-27 10:00:00.000000",
          "2023-01-27 11:00:00.000000",
          "2023-01-27 12:00:00.000000",
          "2023-01-27 13:00:00.000000",
          "2023-01-27 14:00:00.000000",
          "2023-01-27 15:00:00.000000",
          "2023-01-27 16:00:00.000000",
          "2023-01-27 17:00:00.000000",
          "2023-01-27 18:00:00.000000",
          "2023-01-27 19:00:00.000000",
          "2023-01-27 20:00:00.000000",
          "2023-01-27 21:00:00.000000",
          "2023-01-27 22:00:00.000000",
          "2023-01-27 23:00:00.000000",
          "2023-01-28 00:00:00.000000",
          "2023-01-28 01:00:00.000000",
          "2023-01-28 02:00:00.000000",
          "2023-01-28 03:00:00.000000",
          "2023-01-28 04:00:00.000000",
          "2023-01-28 05:00:00.000000",
          "2023-01-28 06:00:00.000000",
          "2023-01-28 07:00:00.000000",
          "2023-01-28 08:00:00.000000",
          "2023-01-28 09:00:00.000000",
          "2023-01-28 10:00:00.000000",
          "2023-01-28 11:00:00.000000",
          "2023-01-28 12:00:00.000000",
          "2023-01-28 13:00:00.000000",
          "2023-01-28 14:00:00.000000",
          "2023-01-28 15:00:00.000000",
          "2023-01-28 16:00:00.000000",
          "2023-01-28 17:00:00.000000",
          "2023-01-28 18:00:00.000000",
          "2023-01-28 19:00:00.000000",
          "2023-01-28 20:00:00.000000",
          "2023-01-28 21:00:00.000000",
          "2023-01-28 22:00:00.000000",
          "2023-01-28 23:00:00.000000",
          "2023-01-29 00:00:00.000000",
          "2023-01-29 01:00:00.000000",
          "2023-01-29 02:00:00.000000",
          "2023-01-29 03:00:00.000000",
          "2023-01-29 04:00:00.000000",
          "2023-01-29 05:00:00.000000",
          "2023-01-29 06:00:00.000000",
          "2023-01-29 07:00:00.000000",
          "2023-01-29 08:00:00.000000",
          "2023-01-29 09:00:00.000000",
          "2023-01-29 10:00:00.000000",
          "2023-01-29 11:00:00.000000",
          "2023-01-29 12:00:00.000000",
          "2023-01-29 13:00:00.000000",
          "2023-01-29 14:00:00.000000",
          "2023-01-29 15:00:00.000000",
          "2023-01-29 16:00:00.000000",
          "2023-01-29 17:00:00.000000",
          "2023-01-29 18:00:00.000000",
          "2023-01-29 19:00:00.000000",
          "2023-01-29 20:00:00.000000",
          "2023-01-29 21:00:00.000000",
          "2023-01-29 22:00:00.000000",
          "2023-01-29 23:00:00.000000",
          "2023-01-30 00:00:00.000000",
          "2023-01-30 01:00:00.000000",
          "2023-01-30 02:00:00.000000",
          "2023-01-30 03:00:00.000000",
          "2023-01-30 04:00:00.000000",
          "2023-01-30 05:00:00.000000",
          "2023-01-30 06:00:00.000000",
          "2023-01-30 07:00:00.000000",
          "2023-01-30 08:00:00.000000",
          "2023-01-30 09:00:00.000000",
          "2023-01-30 10:00:00.000000",
          "2023-01-30 11:00:00.000000",
          "2023-01-30 12:00:00.000000",
          "2023-01-30 13:00:00.000000",
          "2023-01-30 14:00:00.000000",
          "2023-01-30 15:00:00.000000",
          "2023-01-30 16:00:00.000000",
          "2023-01-30 17:00:00.000000",
          "2023-01-30 18:00:00.000000",
          "2023-01-30 19:00:00.000000",
          "2023-01-30 20:00:00.000000",
          "2023-01-30 21:00:00.000000",
          "2023-01-30 22:00:00.000000",
          "2023-01-30 23:00:00.000000",
          "2023-01-31 00:00:00.000000",
          "2023-01-31 01:00:00.000000",
          "2023-01-31 02:00:00.000000",
          "2023-01-31 03:00:00.000000",
          "2023-01-31 04:00:00.000000",
          "2023-01-31 05:00:00.000000",
          "2023-01-31 06:00:00.000000",
          "2023-01-31 07:00:00.000000",
          "2023-01-31 08:00:00.000000"
         ],
         "xaxis": "x3",
         "y": [
          28,
          28,
          26,
          18,
          24,
          26,
          29,
          18,
          30,
          28,
          16,
          29,
          23,
          23,
          16,
          19,
          29,
          34,
          23,
          31,
          22,
          30,
          28,
          25,
          25,
          27,
          20,
          27,
          24,
          12,
          27,
          30,
          31,
          30,
          26,
          31,
          30,
          27,
          23,
          32,
          22,
          28,
          18,
          26,
          24,
          23,
          21,
          22,
          19,
          24,
          30,
          34,
          20,
          25,
          29,
          29,
          19,
          24,
          22,
          26,
          19,
          20,
          26,
          26,
          20,
          36,
          21,
          25,
          20,
          28,
          20,
          28,
          17,
          28,
          23,
          18,
          17,
          29,
          29,
          20,
          23,
          28,
          23,
          26,
          22,
          25,
          25,
          18,
          14,
          27,
          20,
          26,
          27,
          22,
          20,
          29,
          32,
          30,
          27,
          17,
          25,
          19,
          24,
          23,
          28,
          32,
          34,
          20,
          19,
          23,
          21,
          35,
          20,
          25,
          23,
          25,
          22,
          28,
          23,
          35,
          19,
          26,
          23,
          24,
          24,
          24,
          30,
          36,
          25,
          23,
          30,
          22,
          40,
          27,
          29,
          26,
          32,
          26,
          20,
          26,
          24,
          27,
          35,
          15,
          32,
          23,
          27,
          20,
          21,
          23,
          16,
          28,
          21,
          21,
          28,
          22,
          20,
          30,
          27,
          27,
          22,
          15,
          27,
          29,
          21,
          20,
          34,
          22,
          30,
          29,
          26,
          13,
          24,
          28,
          28,
          22,
          25,
          36,
          28,
          33,
          17,
          27,
          35,
          27,
          32,
          19,
          23,
          19,
          22,
          21,
          17,
          21,
          24,
          25,
          17,
          34,
          33,
          26,
          18,
          28,
          26,
          22,
          25,
          26,
          24,
          24,
          34,
          22,
          22,
          30,
          19,
          23,
          20,
          18,
          32,
          34,
          13,
          38,
          20,
          23,
          31,
          30,
          32,
          13,
          33,
          25,
          24,
          24,
          25,
          27,
          30,
          28,
          22,
          22,
          29,
          25,
          23,
          18,
          33,
          18,
          25,
          20,
          10,
          26,
          27,
          22,
          13,
          26,
          18,
          37,
          24,
          23,
          26,
          26,
          13,
          31,
          25,
          24,
          28,
          26,
          26,
          17,
          33,
          22,
          18,
          32,
          24,
          26,
          25,
          26,
          27,
          20,
          24,
          18,
          23,
          25,
          30,
          31,
          29,
          30,
          13,
          32,
          977,
          30,
          23,
          29,
          22,
          20,
          16,
          19,
          28,
          27,
          22,
          26,
          32,
          26,
          20,
          27,
          20,
          37,
          19,
          25,
          22,
          32,
          29,
          21,
          33,
          32,
          24,
          24,
          23,
          28,
          24,
          20,
          21,
          27,
          26,
          24,
          18,
          23,
          18,
          25,
          27,
          18,
          28,
          14,
          18,
          27,
          16,
          21,
          31,
          21,
          29,
          27,
          21,
          27,
          19,
          29,
          28,
          27,
          25,
          21,
          23,
          19,
          28,
          22,
          15,
          22,
          29,
          20,
          28,
          22,
          23,
          20,
          21,
          27,
          25,
          32,
          17,
          19,
          25,
          27,
          28,
          17,
          20,
          27,
          23,
          24,
          26,
          31,
          23,
          27,
          29,
          30,
          22,
          28,
          21,
          13,
          21,
          19,
          27,
          25,
          25,
          26,
          18,
          30,
          24,
          15,
          25,
          34,
          24,
          23,
          27,
          28,
          27,
          17,
          24,
          25,
          26,
          27,
          24,
          21,
          21,
          26,
          27,
          18,
          23,
          26,
          23,
          14,
          20,
          26,
          24,
          25,
          22,
          19,
          16,
          23,
          27,
          24,
          27,
          27,
          17,
          36,
          23,
          25,
          27,
          13,
          23,
          33,
          31,
          22,
          27,
          30,
          29,
          31,
          28,
          34,
          25,
          27,
          19,
          35,
          26,
          31,
          21,
          29,
          32,
          22,
          32,
          27,
          34,
          25,
          29,
          26,
          29,
          31,
          22,
          21,
          20,
          20,
          22,
          26,
          33,
          29,
          25,
          32,
          26,
          21,
          25,
          28,
          14,
          22,
          24,
          24,
          20,
          30,
          22,
          24,
          28,
          33,
          16,
          32,
          18,
          11,
          27,
          23,
          30,
          25,
          27,
          24,
          20,
          23,
          26,
          30,
          35,
          22,
          21,
          24,
          21,
          22,
          26,
          16,
          27,
          22,
          32,
          18,
          29,
          28,
          23,
          19,
          20,
          19,
          26,
          24,
          18,
          18,
          23,
          26,
          18,
          28,
          28,
          23,
          32,
          27,
          26,
          27,
          25,
          23,
          27,
          24,
          33,
          30,
          26,
          15,
          27,
          23,
          13,
          24,
          28,
          31,
          19,
          26,
          25,
          20,
          14,
          21,
          22,
          18,
          31,
          26,
          24,
          23,
          25,
          30,
          29,
          25,
          22,
          16,
          21,
          14,
          22,
          34,
          30,
          31,
          23,
          27,
          28,
          21,
          16,
          31,
          35,
          21,
          28,
          29,
          15,
          29,
          21,
          26,
          30,
          28,
          20,
          20,
          23,
          24,
          28,
          25,
          18,
          22,
          29,
          22,
          28,
          27,
          18,
          22,
          38,
          33,
          20,
          25,
          22,
          25,
          19,
          35,
          24,
          27,
          23,
          19,
          27,
          22,
          22,
          25,
          19,
          23,
          24,
          16,
          23,
          27,
          21,
          20,
          32,
          24,
          19,
          24,
          27,
          26,
          25,
          30,
          27,
          29,
          26,
          25,
          26,
          28,
          18,
          32,
          27,
          24,
          31,
          32,
          29,
          21,
          31,
          28,
          29,
          32,
          22,
          17,
          21,
          23,
          27,
          25,
          23,
          25,
          19,
          27,
          28,
          21,
          16,
          32,
          32,
          25,
          26,
          21,
          27,
          19,
          30,
          27,
          21,
          29,
          35,
          24,
          33,
          31,
          16,
          35,
          16,
          24,
          26,
          24,
          28,
          18,
          31,
          30,
          31,
          23,
          28,
          30,
          27,
          26,
          18,
          35,
          24,
          22,
          22,
          24,
          15,
          31,
          23,
          20,
          31,
          35,
          20,
          27,
          29,
          25,
          23,
          19,
          23,
          22,
          31,
          21,
          28,
          22,
          35,
          23,
          27,
          28,
          21,
          40,
          27,
          24,
          26,
          31,
          37,
          22,
          19,
          33,
          28,
          33
         ],
         "yaxis": "y5"
        }
       ],
       "layout": {
        "annotations": [
         {
          "font": {
           "size": 16
          },
          "showarrow": false,
          "text": "Median sim_id: 294 | model_type: DQN | Total Profit percentage 36.75%",
          "x": 0.47,
          "xanchor": "center",
          "xref": "paper",
          "y": 0.4375,
          "yanchor": "bottom",
          "yref": "paper"
         }
        ],
        "barmode": "stack",
        "font": {
         "size": 8
        },
        "height": 800,
        "legend": {
         "tracegroupgap": 82
        },
        "template": {
         "data": {
          "bar": [
           {
            "error_x": {
             "color": "#2a3f5f"
            },
            "error_y": {
             "color": "#2a3f5f"
            },
            "marker": {
             "line": {
              "color": "#E5ECF6",
              "width": 0.5
             },
             "pattern": {
              "fillmode": "overlay",
              "size": 10,
              "solidity": 0.2
             }
            },
            "type": "bar"
           }
          ],
          "barpolar": [
           {
            "marker": {
             "line": {
              "color": "#E5ECF6",
              "width": 0.5
             },
             "pattern": {
              "fillmode": "overlay",
              "size": 10,
              "solidity": 0.2
             }
            },
            "type": "barpolar"
           }
          ],
          "carpet": [
           {
            "aaxis": {
             "endlinecolor": "#2a3f5f",
             "gridcolor": "white",
             "linecolor": "white",
             "minorgridcolor": "white",
             "startlinecolor": "#2a3f5f"
            },
            "baxis": {
             "endlinecolor": "#2a3f5f",
             "gridcolor": "white",
             "linecolor": "white",
             "minorgridcolor": "white",
             "startlinecolor": "#2a3f5f"
            },
            "type": "carpet"
           }
          ],
          "choropleth": [
           {
            "colorbar": {
             "outlinewidth": 0,
             "ticks": ""
            },
            "type": "choropleth"
           }
          ],
          "contour": [
           {
            "colorbar": {
             "outlinewidth": 0,
             "ticks": ""
            },
            "colorscale": [
             [
              0,
              "#0d0887"
             ],
             [
              0.1111111111111111,
              "#46039f"
             ],
             [
              0.2222222222222222,
              "#7201a8"
             ],
             [
              0.3333333333333333,
              "#9c179e"
             ],
             [
              0.4444444444444444,
              "#bd3786"
             ],
             [
              0.5555555555555556,
              "#d8576b"
             ],
             [
              0.6666666666666666,
              "#ed7953"
             ],
             [
              0.7777777777777778,
              "#fb9f3a"
             ],
             [
              0.8888888888888888,
              "#fdca26"
             ],
             [
              1,
              "#f0f921"
             ]
            ],
            "type": "contour"
           }
          ],
          "contourcarpet": [
           {
            "colorbar": {
             "outlinewidth": 0,
             "ticks": ""
            },
            "type": "contourcarpet"
           }
          ],
          "heatmap": [
           {
            "colorbar": {
             "outlinewidth": 0,
             "ticks": ""
            },
            "colorscale": [
             [
              0,
              "#0d0887"
             ],
             [
              0.1111111111111111,
              "#46039f"
             ],
             [
              0.2222222222222222,
              "#7201a8"
             ],
             [
              0.3333333333333333,
              "#9c179e"
             ],
             [
              0.4444444444444444,
              "#bd3786"
             ],
             [
              0.5555555555555556,
              "#d8576b"
             ],
             [
              0.6666666666666666,
              "#ed7953"
             ],
             [
              0.7777777777777778,
              "#fb9f3a"
             ],
             [
              0.8888888888888888,
              "#fdca26"
             ],
             [
              1,
              "#f0f921"
             ]
            ],
            "type": "heatmap"
           }
          ],
          "heatmapgl": [
           {
            "colorbar": {
             "outlinewidth": 0,
             "ticks": ""
            },
            "colorscale": [
             [
              0,
              "#0d0887"
             ],
             [
              0.1111111111111111,
              "#46039f"
             ],
             [
              0.2222222222222222,
              "#7201a8"
             ],
             [
              0.3333333333333333,
              "#9c179e"
             ],
             [
              0.4444444444444444,
              "#bd3786"
             ],
             [
              0.5555555555555556,
              "#d8576b"
             ],
             [
              0.6666666666666666,
              "#ed7953"
             ],
             [
              0.7777777777777778,
              "#fb9f3a"
             ],
             [
              0.8888888888888888,
              "#fdca26"
             ],
             [
              1,
              "#f0f921"
             ]
            ],
            "type": "heatmapgl"
           }
          ],
          "histogram": [
           {
            "marker": {
             "pattern": {
              "fillmode": "overlay",
              "size": 10,
              "solidity": 0.2
             }
            },
            "type": "histogram"
           }
          ],
          "histogram2d": [
           {
            "colorbar": {
             "outlinewidth": 0,
             "ticks": ""
            },
            "colorscale": [
             [
              0,
              "#0d0887"
             ],
             [
              0.1111111111111111,
              "#46039f"
             ],
             [
              0.2222222222222222,
              "#7201a8"
             ],
             [
              0.3333333333333333,
              "#9c179e"
             ],
             [
              0.4444444444444444,
              "#bd3786"
             ],
             [
              0.5555555555555556,
              "#d8576b"
             ],
             [
              0.6666666666666666,
              "#ed7953"
             ],
             [
              0.7777777777777778,
              "#fb9f3a"
             ],
             [
              0.8888888888888888,
              "#fdca26"
             ],
             [
              1,
              "#f0f921"
             ]
            ],
            "type": "histogram2d"
           }
          ],
          "histogram2dcontour": [
           {
            "colorbar": {
             "outlinewidth": 0,
             "ticks": ""
            },
            "colorscale": [
             [
              0,
              "#0d0887"
             ],
             [
              0.1111111111111111,
              "#46039f"
             ],
             [
              0.2222222222222222,
              "#7201a8"
             ],
             [
              0.3333333333333333,
              "#9c179e"
             ],
             [
              0.4444444444444444,
              "#bd3786"
             ],
             [
              0.5555555555555556,
              "#d8576b"
             ],
             [
              0.6666666666666666,
              "#ed7953"
             ],
             [
              0.7777777777777778,
              "#fb9f3a"
             ],
             [
              0.8888888888888888,
              "#fdca26"
             ],
             [
              1,
              "#f0f921"
             ]
            ],
            "type": "histogram2dcontour"
           }
          ],
          "mesh3d": [
           {
            "colorbar": {
             "outlinewidth": 0,
             "ticks": ""
            },
            "type": "mesh3d"
           }
          ],
          "parcoords": [
           {
            "line": {
             "colorbar": {
              "outlinewidth": 0,
              "ticks": ""
             }
            },
            "type": "parcoords"
           }
          ],
          "pie": [
           {
            "automargin": true,
            "type": "pie"
           }
          ],
          "scatter": [
           {
            "fillpattern": {
             "fillmode": "overlay",
             "size": 10,
             "solidity": 0.2
            },
            "type": "scatter"
           }
          ],
          "scatter3d": [
           {
            "line": {
             "colorbar": {
              "outlinewidth": 0,
              "ticks": ""
             }
            },
            "marker": {
             "colorbar": {
              "outlinewidth": 0,
              "ticks": ""
             }
            },
            "type": "scatter3d"
           }
          ],
          "scattercarpet": [
           {
            "marker": {
             "colorbar": {
              "outlinewidth": 0,
              "ticks": ""
             }
            },
            "type": "scattercarpet"
           }
          ],
          "scattergeo": [
           {
            "marker": {
             "colorbar": {
              "outlinewidth": 0,
              "ticks": ""
             }
            },
            "type": "scattergeo"
           }
          ],
          "scattergl": [
           {
            "marker": {
             "colorbar": {
              "outlinewidth": 0,
              "ticks": ""
             }
            },
            "type": "scattergl"
           }
          ],
          "scattermapbox": [
           {
            "marker": {
             "colorbar": {
              "outlinewidth": 0,
              "ticks": ""
             }
            },
            "type": "scattermapbox"
           }
          ],
          "scatterpolar": [
           {
            "marker": {
             "colorbar": {
              "outlinewidth": 0,
              "ticks": ""
             }
            },
            "type": "scatterpolar"
           }
          ],
          "scatterpolargl": [
           {
            "marker": {
             "colorbar": {
              "outlinewidth": 0,
              "ticks": ""
             }
            },
            "type": "scatterpolargl"
           }
          ],
          "scatterternary": [
           {
            "marker": {
             "colorbar": {
              "outlinewidth": 0,
              "ticks": ""
             }
            },
            "type": "scatterternary"
           }
          ],
          "surface": [
           {
            "colorbar": {
             "outlinewidth": 0,
             "ticks": ""
            },
            "colorscale": [
             [
              0,
              "#0d0887"
             ],
             [
              0.1111111111111111,
              "#46039f"
             ],
             [
              0.2222222222222222,
              "#7201a8"
             ],
             [
              0.3333333333333333,
              "#9c179e"
             ],
             [
              0.4444444444444444,
              "#bd3786"
             ],
             [
              0.5555555555555556,
              "#d8576b"
             ],
             [
              0.6666666666666666,
              "#ed7953"
             ],
             [
              0.7777777777777778,
              "#fb9f3a"
             ],
             [
              0.8888888888888888,
              "#fdca26"
             ],
             [
              1,
              "#f0f921"
             ]
            ],
            "type": "surface"
           }
          ],
          "table": [
           {
            "cells": {
             "fill": {
              "color": "#EBF0F8"
             },
             "line": {
              "color": "white"
             }
            },
            "header": {
             "fill": {
              "color": "#C8D4E3"
             },
             "line": {
              "color": "white"
             }
            },
            "type": "table"
           }
          ]
         },
         "layout": {
          "annotationdefaults": {
           "arrowcolor": "#2a3f5f",
           "arrowhead": 0,
           "arrowwidth": 1
          },
          "autotypenumbers": "strict",
          "coloraxis": {
           "colorbar": {
            "outlinewidth": 0,
            "ticks": ""
           }
          },
          "colorscale": {
           "diverging": [
            [
             0,
             "#8e0152"
            ],
            [
             0.1,
             "#c51b7d"
            ],
            [
             0.2,
             "#de77ae"
            ],
            [
             0.3,
             "#f1b6da"
            ],
            [
             0.4,
             "#fde0ef"
            ],
            [
             0.5,
             "#f7f7f7"
            ],
            [
             0.6,
             "#e6f5d0"
            ],
            [
             0.7,
             "#b8e186"
            ],
            [
             0.8,
             "#7fbc41"
            ],
            [
             0.9,
             "#4d9221"
            ],
            [
             1,
             "#276419"
            ]
           ],
           "sequential": [
            [
             0,
             "#0d0887"
            ],
            [
             0.1111111111111111,
             "#46039f"
            ],
            [
             0.2222222222222222,
             "#7201a8"
            ],
            [
             0.3333333333333333,
             "#9c179e"
            ],
            [
             0.4444444444444444,
             "#bd3786"
            ],
            [
             0.5555555555555556,
             "#d8576b"
            ],
            [
             0.6666666666666666,
             "#ed7953"
            ],
            [
             0.7777777777777778,
             "#fb9f3a"
            ],
            [
             0.8888888888888888,
             "#fdca26"
            ],
            [
             1,
             "#f0f921"
            ]
           ],
           "sequentialminus": [
            [
             0,
             "#0d0887"
            ],
            [
             0.1111111111111111,
             "#46039f"
            ],
            [
             0.2222222222222222,
             "#7201a8"
            ],
            [
             0.3333333333333333,
             "#9c179e"
            ],
            [
             0.4444444444444444,
             "#bd3786"
            ],
            [
             0.5555555555555556,
             "#d8576b"
            ],
            [
             0.6666666666666666,
             "#ed7953"
            ],
            [
             0.7777777777777778,
             "#fb9f3a"
            ],
            [
             0.8888888888888888,
             "#fdca26"
            ],
            [
             1,
             "#f0f921"
            ]
           ]
          },
          "colorway": [
           "#636efa",
           "#EF553B",
           "#00cc96",
           "#ab63fa",
           "#FFA15A",
           "#19d3f3",
           "#FF6692",
           "#B6E880",
           "#FF97FF",
           "#FECB52"
          ],
          "font": {
           "color": "#2a3f5f"
          },
          "geo": {
           "bgcolor": "white",
           "lakecolor": "white",
           "landcolor": "#E5ECF6",
           "showlakes": true,
           "showland": true,
           "subunitcolor": "white"
          },
          "hoverlabel": {
           "align": "left"
          },
          "hovermode": "closest",
          "mapbox": {
           "style": "light"
          },
          "paper_bgcolor": "white",
          "plot_bgcolor": "#E5ECF6",
          "polar": {
           "angularaxis": {
            "gridcolor": "white",
            "linecolor": "white",
            "ticks": ""
           },
           "bgcolor": "#E5ECF6",
           "radialaxis": {
            "gridcolor": "white",
            "linecolor": "white",
            "ticks": ""
           }
          },
          "scene": {
           "xaxis": {
            "backgroundcolor": "#E5ECF6",
            "gridcolor": "white",
            "gridwidth": 2,
            "linecolor": "white",
            "showbackground": true,
            "ticks": "",
            "zerolinecolor": "white"
           },
           "yaxis": {
            "backgroundcolor": "#E5ECF6",
            "gridcolor": "white",
            "gridwidth": 2,
            "linecolor": "white",
            "showbackground": true,
            "ticks": "",
            "zerolinecolor": "white"
           },
           "zaxis": {
            "backgroundcolor": "#E5ECF6",
            "gridcolor": "white",
            "gridwidth": 2,
            "linecolor": "white",
            "showbackground": true,
            "ticks": "",
            "zerolinecolor": "white"
           }
          },
          "shapedefaults": {
           "line": {
            "color": "#2a3f5f"
           }
          },
          "ternary": {
           "aaxis": {
            "gridcolor": "white",
            "linecolor": "white",
            "ticks": ""
           },
           "baxis": {
            "gridcolor": "white",
            "linecolor": "white",
            "ticks": ""
           },
           "bgcolor": "#E5ECF6",
           "caxis": {
            "gridcolor": "white",
            "linecolor": "white",
            "ticks": ""
           }
          },
          "title": {
           "x": 0.05
          },
          "xaxis": {
           "automargin": true,
           "gridcolor": "white",
           "linecolor": "white",
           "ticks": "",
           "title": {
            "standoff": 15
           },
           "zerolinecolor": "white",
           "zerolinewidth": 2
          },
          "yaxis": {
           "automargin": true,
           "gridcolor": "white",
           "linecolor": "white",
           "ticks": "",
           "title": {
            "standoff": 15
           },
           "zerolinecolor": "white",
           "zerolinewidth": 2
          }
         }
        },
        "title": {
         "text": "Median Total Profit Results x Overall view of actions (across all the simulations)",
         "x": 0.5
        },
        "width": 1200,
        "xaxis": {
         "anchor": "y",
         "categoryorder": "category ascending",
         "domain": [
          0,
          0.94
         ],
         "matches": "x4",
         "showticklabels": false
        },
        "xaxis2": {
         "anchor": "y3",
         "domain": [
          0,
          0.94
         ],
         "matches": "x4",
         "showticklabels": false
        },
        "xaxis3": {
         "anchor": "y5",
         "domain": [
          0,
          0.94
         ],
         "matches": "x4",
         "showticklabels": false
        },
        "xaxis4": {
         "anchor": "y7",
         "domain": [
          0,
          0.94
         ]
        },
        "yaxis": {
         "anchor": "x",
         "domain": [
          0.84375,
          1
         ],
         "matches": "y7",
         "title": {
          "text": "Proportion of trades<br>across all the simulations"
         }
        },
        "yaxis2": {
         "anchor": "x",
         "overlaying": "y",
         "side": "right",
         "title": {
          "text": "CCY level with the<br>sim_id actions related"
         }
        },
        "yaxis3": {
         "anchor": "x2",
         "domain": [
          0.5625,
          0.71875
         ],
         "matches": "y7",
         "title": {
          "text": "Proportion of trades<br>across all the simulations"
         }
        },
        "yaxis4": {
         "anchor": "x2",
         "overlaying": "y3",
         "side": "right",
         "title": {
          "text": "CCY level with the<br>sim_id actions related"
         }
        },
        "yaxis5": {
         "anchor": "x3",
         "domain": [
          0.28125,
          0.4375
         ],
         "matches": "y7",
         "title": {
          "text": "Proportion of trades<br>across all the simulations"
         }
        },
        "yaxis6": {
         "anchor": "x3",
         "overlaying": "y5",
         "side": "right",
         "title": {
          "text": "CCY level with the<br>sim_id actions related"
         }
        },
        "yaxis7": {
         "anchor": "x4",
         "domain": [
          0,
          0.15625
         ],
         "title": {
          "text": "Proportion of trades<br>across all the simulations"
         }
        },
        "yaxis8": {
         "anchor": "x4",
         "overlaying": "y7",
         "side": "right",
         "title": {
          "text": "CCY level with the<br>sim_id actions related"
         }
        }
       }
      }
     },
     "metadata": {},
     "output_type": "display_data"
    }
   ],
   "source": [
    "plot_trader_robot_actions_all_sim_id_all_models(config_file_name_without_extension, \"\", \"\", median_sim_id_DQN, \"\")"
   ]
  },
  {
   "cell_type": "code",
   "execution_count": 40,
   "metadata": {},
   "outputs": [
    {
     "name": "stdout",
     "output_type": "stream",
     "text": [
      "mean_reward=-204.91 +/- 0.0\n"
     ]
    }
   ],
   "source": [
    "# Evaluate the loaded policy\n",
    "mean_reward, std_reward = evaluate_policy(saved_policy, env, n_eval_episodes=10, deterministic=True)\n",
    "\n",
    "print(f\"mean_reward={mean_reward:.2f} +/- {std_reward}\")"
   ]
  },
  {
   "cell_type": "code",
   "execution_count": null,
   "metadata": {},
   "outputs": [],
   "source": []
  }
 ],
 "metadata": {
  "kernelspec": {
   "display_name": "msc_uol_ai_dissertation",
   "language": "python",
   "name": "python3"
  },
  "language_info": {
   "codemirror_mode": {
    "name": "ipython",
    "version": 3
   },
   "file_extension": ".py",
   "mimetype": "text/x-python",
   "name": "python",
   "nbconvert_exporter": "python",
   "pygments_lexer": "ipython3",
   "version": "3.8.13"
  },
  "orig_nbformat": 4,
  "vscode": {
   "interpreter": {
    "hash": "0c0f2ae3d5d9aa27c4a2afc20f28a2482dc1006477ab22953abc78c31c7bb5b2"
   }
  }
 },
 "nbformat": 4,
 "nbformat_minor": 2
}
