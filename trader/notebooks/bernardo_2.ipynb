{
 "cells": [
  {
   "cell_type": "code",
   "execution_count": 1,
   "metadata": {},
   "outputs": [],
   "source": [
    "import warnings\n",
    "warnings.filterwarnings('ignore')\n",
    "\n",
    "from configparser import ConfigParser\n",
    "\n",
    "from typing import Callable\n",
    "\n",
    "import gym\n",
    "import gym_anytrading\n",
    "\n",
    "from gym_anytrading.envs import CryptoEnvLogINFER\n",
    "\n",
    "from stable_baselines3.common.vec_env import DummyVecEnv, SubprocVecEnv\n",
    "from stable_baselines3 import A2C, PPO, DQN\n",
    "from stable_baselines3.common.evaluation import evaluate_policy\n",
    "from stable_baselines3.common.env_util import make_vec_env\n",
    "from stable_baselines3.common.utils import set_random_seed\n",
    "\n",
    "from stable_baselines3.dqn.policies import MlpPolicy\n",
    "\n",
    "import tensorflow as tf\n",
    "\n",
    "import numpy as np\n",
    "import pandas as pd\n",
    "import plotly.express as px\n",
    "import plotly.graph_objects as go\n",
    "from plotly.subplots import make_subplots\n",
    "import os\n",
    "import datetime\n",
    "\n",
    "import multiprocessing\n",
    "\n",
    "import quantstats as qs\n",
    "\n",
    "import sqlite3\n",
    "from sqlalchemy import create_engine"
   ]
  },
  {
   "cell_type": "code",
   "execution_count": 2,
   "metadata": {},
   "outputs": [
    {
     "name": "stdout",
     "output_type": "stream",
     "text": [
      "['../../simulations/config_files/config_03a_mix_infer.ini']\n"
     ]
    }
   ],
   "source": [
    "configur = ConfigParser()\n",
    "config_file_name = \"config_03a_mix_infer.ini\"\n",
    "print (configur.read(os.path.join('../../simulations/config_files', config_file_name)))"
   ]
  },
  {
   "cell_type": "code",
   "execution_count": 3,
   "metadata": {},
   "outputs": [],
   "source": [
    "config_file_name_without_extension = config_file_name.replace(\".ini\", \"\")\n",
    "\n",
    "ccy = configur.get('data', 'ccy')\n",
    "\n",
    "data_frequency_train = configur.get('data', 'data_frequency_train')\n",
    "data_frequency_val = configur.get('data', 'data_frequency_val')\n",
    "\n",
    "start_date_train = configur.get('environment', 'start_date')\n",
    "\n",
    "window_size = configur.getint('environment', 'window_size')\n",
    "list_features = configur.get('environment', 'features').split(',')\n",
    "target = configur.get('environment', 'target')"
   ]
  },
  {
   "cell_type": "code",
   "execution_count": 4,
   "metadata": {},
   "outputs": [
    {
     "name": "stdout",
     "output_type": "stream",
     "text": [
      "The loaded_model has 0 transitions in its buffer\n",
      "The loaded_model has 165368 transitions in its buffer\n"
     ]
    }
   ],
   "source": [
    "model_name = \"DQN\"\n",
    "# the saved model does not contain the replay buffer\n",
    "loaded_model = DQN.load(\"../../simulations/save_models_components/model/model_DQN_\"+ config_file_name_without_extension + \".zip\")\n",
    "print(f\"The loaded_model has {loaded_model.replay_buffer.size()} transitions in its buffer\")\n",
    "\n",
    "# load it into the loaded_model\n",
    "loaded_model.load_replay_buffer(\"../../simulations/save_models_components/replay_buffer/replay_buffer_DQN_\" + config_file_name_without_extension + \".pkl\")\n",
    "\n",
    "# now the loaded replay is not empty anymore\n",
    "print(f\"The loaded_model has {loaded_model.replay_buffer.size()} transitions in its buffer\")\n",
    "\n",
    "saved_policy = MlpPolicy.load(\"../../simulations/save_models_components/policy/policy_DQN_\" + config_file_name_without_extension)"
   ]
  },
  {
   "cell_type": "code",
   "execution_count": 10,
   "metadata": {},
   "outputs": [],
   "source": [
    "mid_date='2023-02-01 00:00:00'\n",
    "end_date='2023-02-06 08:00:00'"
   ]
  },
  {
   "cell_type": "code",
   "execution_count": 11,
   "metadata": {},
   "outputs": [],
   "source": [
    "def get_and_process_data(ccy, data_frequency, start_date, end_date):\n",
    "    try:\n",
    "        \n",
    "        # Get the data\n",
    "        db_address = 'sqlite:///../../data/db/crypto.db'\n",
    "        engine = create_engine(db_address, echo=False)\n",
    "        sqlite_connection = engine.connect()\n",
    "\n",
    "        input_tbl_name = \"tbl_all_features\" + \"_\" + ccy + \"_\" + data_frequency\n",
    "        \n",
    "        sql_command = \"SELECT * FROM \" + input_tbl_name\n",
    "\n",
    "        if(start_date!=\"\" and end_date!=\"\"):\n",
    "            \n",
    "            sd = datetime.datetime.strptime(start_date,'%d %b, %Y').strftime('%Y-%m-%d')\n",
    "            ed = datetime.datetime.strptime(end_date,'%d %b, %Y').strftime('%Y-%m-%d')\n",
    "\n",
    "            sql_append = \" WHERE \" + \"date(date) >= \" + \"'\" + sd + \"'\" + \" AND date(date) <= \" + \"'\" + ed + \"'\"\n",
    "            sql_command = sql_command + sql_append\n",
    "\n",
    "        df = pd.read_sql(sql_command, sqlite_connection)\n",
    "\n",
    "        sqlite_connection.close()\n",
    "\n",
    "        # Converting Date Column to DateTime Type\n",
    "        # Set the index on the dataframe\n",
    "        df['date_index'] = df['date']\n",
    "        df.set_index('date_index', inplace=True)\n",
    "\n",
    "        return df\n",
    "\n",
    "    except Exception as e:\n",
    "        print(e)"
   ]
  },
  {
   "cell_type": "code",
   "execution_count": 12,
   "metadata": {},
   "outputs": [],
   "source": [
    "# Format the data\n",
    "start_date_temp = datetime.datetime.strptime(mid_date,'%Y-%m-%d %H:%M:%S')\n",
    "start_date_temp2 = start_date_temp + datetime.timedelta(days=-(window_size+1))\n",
    "start_date_db = start_date_temp2.strftime('%d %b, %Y')\n",
    "end_date_db = datetime.datetime.strptime(end_date,'%Y-%m-%d %H:%M:%S').strftime('%d %b, %Y')\n"
   ]
  },
  {
   "cell_type": "code",
   "execution_count": 13,
   "metadata": {},
   "outputs": [],
   "source": [
    "def my_process_data(env):\n",
    "    start = env.frame_bound[0] - env.window_size\n",
    "    end = env.frame_bound[1]\n",
    "    prices = env.df.loc[:, target].to_numpy()[start:end]\n",
    "    signal_features = env.df.loc[:, list_features].to_numpy()[start:end]\n",
    "    dates = env.df.index.to_numpy()[start:end]\n",
    "    return prices, signal_features, dates\n",
    "\n",
    "class MyEnv(CryptoEnvLogINFER):\n",
    "    _process_data = my_process_data"
   ]
  },
  {
   "cell_type": "code",
   "execution_count": 14,
   "metadata": {},
   "outputs": [],
   "source": [
    "timestamp='1h'\n",
    "if(timestamp=='15m'):\n",
    "    data_frequency_val = timestamp\n",
    "    df_val = get_and_process_data(ccy, '15m', start_date_db, end_date_db)\n",
    "elif(timestamp=='30m'):\n",
    "    data_frequency_val = timestamp\n",
    "    df_val = get_and_process_data(ccy, '30m', start_date_db, end_date_db)\n",
    "elif(timestamp=='1h'):\n",
    "    data_frequency_val = timestamp\n",
    "    df_val = get_and_process_data(ccy, '1h', start_date_db, end_date_db)\n",
    "else:\n",
    "    df_val = get_and_process_data(ccy, data_frequency_val, start_date_db, end_date_db)\n",
    "\n",
    "mid_date_id_val = int(df_val.index.get_loc(datetime.datetime.strptime(mid_date,'%Y-%m-%d %H:%M:%S').strftime('%Y-%m-%d %H:%M:%S.%f')))\n",
    "end_date_id_val = int(df_val.index.get_loc(datetime.datetime.strptime(end_date,'%Y-%m-%d %H:%M:%S').strftime('%Y-%m-%d %H:%M:%S.%f')))\n",
    "env = MyEnv(df=df_val, frame_bound=(mid_date_id_val,end_date_id_val), window_size=window_size)"
   ]
  },
  {
   "cell_type": "code",
   "execution_count": 15,
   "metadata": {},
   "outputs": [],
   "source": [
    "num_of_simulations=1000"
   ]
  },
  {
   "cell_type": "code",
   "execution_count": 16,
   "metadata": {},
   "outputs": [],
   "source": [
    "df_sim_results = pd.DataFrame()\n",
    "df_robot_actions_and_env_final = pd.DataFrame()\n",
    "\n",
    "df_sim_results_temp = pd.DataFrame(columns=['total_reward_cash', 'total_profit_percentage', 'fmt_total_profit_percentage', 'num_of_trades'])\n",
    "df_robot_actions_and_env_temp = pd.DataFrame(columns=['dates', 'prices', 'actions', 'total_reward_cash', 'total_profit_percentage', 'fmt_total_profit_percentage', 'num_of_trades', 'sim_id'])\n",
    "\n",
    "list_sim_id = []\n",
    "\n",
    "sim_id = 1\n",
    "for i in range(num_of_simulations):   \n",
    "\n",
    "    #Setting up the Agent Environment\n",
    "    obs = env.reset()\n",
    "\n",
    "    list_sim_id.append(sim_id)\n",
    "\n",
    "    while True: \n",
    "        obs = obs[np.newaxis, ...]\n",
    "\n",
    "        action, _states = loaded_model.predict(obs)\n",
    "        \n",
    "        obs, rewards, done, info = env.step(action)\n",
    "        \n",
    "        if done:\n",
    "            df_sim_results_temp = df_sim_results_temp.append(info, ignore_index=True, sort=False)\n",
    "            break\n",
    "\n",
    "    # Export robot actions plot and data\n",
    "    fig, df_robot_actions = env.render_all()\n",
    "    # fig.write_html(os.path.join('results', 'plots', 'robot_actions', 'robot_actions_' + config_file_name_without_extension + '_sim_id_' + str(sim_id) + '.html'))\n",
    "\n",
    "    # Export the history of details (the info dict inside of the environment)\n",
    "    df_sim_env_data = pd.DataFrame.from_dict(env.history)\n",
    "\n",
    "    # Merge robot actions data + sim env data\n",
    "    df_sim_env_data_initial = pd.DataFrame(columns=['total_reward_cash', 'total_profit_percentage', 'fmt_total_profit_percentage', 'num_of_trades'])\n",
    "    for i in range(0, window_size + 1):\n",
    "        df_sim_env_data_initial = df_sim_env_data_initial.append(pd.Series([0, 0, 0, 0], index=df_sim_env_data_initial.columns), ignore_index=True)\n",
    "    \n",
    "    df_sim_env_data_temp = df_sim_env_data_initial.append(df_sim_env_data, ignore_index=True)\n",
    "    \n",
    "    df_robot_actions_and_env_temp = pd.merge(df_robot_actions, df_sim_env_data_temp, left_index=True, right_index=True, how = \"outer\")\n",
    "    df_robot_actions_and_env_temp['sim_id'] = sim_id\n",
    "\n",
    "    df_robot_actions_and_env_final = pd.concat([df_robot_actions_and_env_final, df_robot_actions_and_env_temp], axis=0)\n",
    "\n",
    "    sim_id = sim_id + 1\n",
    "\n",
    "df_sim_results_temp['sim_id'] = list_sim_id\n",
    "df_sim_results_temp['ccy'] = ccy\n",
    "df_sim_results_temp['data_frequency_train'] = data_frequency_train\n",
    "df_sim_results_temp['data_frequency_val'] = data_frequency_val\n",
    "df_sim_results_temp['window_size'] = window_size\n",
    "df_sim_results_temp['start_date'] = start_date_train\n",
    "df_sim_results_temp['mid_date'] = mid_date\n",
    "df_sim_results_temp['end_date'] = end_date\n",
    "df_sim_results_temp['target'] = target\n",
    "df_sim_results_temp['list_features'] = str(list_features)\n",
    "df_sim_results_temp['model_type'] = model_name \n",
    "df_sim_results_temp['num_of_simulations'] = num_of_simulations   \n",
    "\n",
    "df_sim_results = pd.concat([df_sim_results, df_sim_results_temp], axis=0)"
   ]
  },
  {
   "cell_type": "code",
   "execution_count": 17,
   "metadata": {},
   "outputs": [],
   "source": [
    "df_sim_results = df_sim_results.reset_index(drop=True)\n",
    "df_sim_results = df_sim_results.drop_duplicates()\n",
    "\n",
    "## SIMULATION RESULTS\n",
    "\n",
    "# Format data type\n",
    "df_sim_results['start_date'] = pd.to_datetime(df_sim_results['start_date'])\n",
    "df_sim_results['mid_date'] = pd.to_datetime(df_sim_results['mid_date'])\n",
    "df_sim_results['end_date'] = pd.to_datetime(df_sim_results['end_date'])\n",
    "\n",
    "# Write to the db\n",
    "db_address = 'sqlite:///../results/data/db/trader.db'\n",
    "engine = create_engine(db_address, echo=False)\n",
    "sqlite_connection = engine.connect()\n",
    "\n",
    "output_tbl_name = \"tbl_trader_bernardo2_simulation_results_\" + config_file_name_without_extension\n",
    "\n",
    "df_sim_results.to_sql(output_tbl_name, sqlite_connection, if_exists='replace', index=False)\n",
    "\n",
    "sqlite_connection.close()\n",
    "\n",
    "## ROBOT ACTIONS and ENV RESULTS\n",
    "\n",
    "# Format data type\n",
    "df_robot_actions_and_env_final['dates'] = pd.to_datetime(df_robot_actions_and_env_final['dates'])\n",
    "df_robot_actions_and_env_final['total_reward_cash'] = df_robot_actions_and_env_final['total_reward_cash'].astype(float)\n",
    "df_robot_actions_and_env_final['total_profit_percentage'] = df_robot_actions_and_env_final['total_profit_percentage'].astype(float)\n",
    "df_robot_actions_and_env_final['fmt_total_profit_percentage'] = df_robot_actions_and_env_final['fmt_total_profit_percentage'].astype(float)\n",
    "df_robot_actions_and_env_final['num_of_trades'] = df_robot_actions_and_env_final['num_of_trades'].astype(float)\n",
    "\n",
    "# Write to the db\n",
    "db_address = 'sqlite:///../results/data/db/trader.db'\n",
    "engine = create_engine(db_address, echo=False)\n",
    "sqlite_connection = engine.connect()\n",
    "\n",
    "output_tbl_name = \"tbl_trader_bernardo2_robot_actions_and_env_\" + config_file_name_without_extension\n",
    "\n",
    "df_robot_actions_and_env_final.to_sql(output_tbl_name, sqlite_connection, if_exists='replace', index=False)\n",
    "\n",
    "sqlite_connection.close()"
   ]
  },
  {
   "attachments": {},
   "cell_type": "markdown",
   "metadata": {},
   "source": [
    "## Get Data"
   ]
  },
  {
   "cell_type": "code",
   "execution_count": 18,
   "metadata": {},
   "outputs": [],
   "source": [
    "def get_and_process_trader_data(config_file_name_without_extension):\n",
    "    try:\n",
    "        \n",
    "        # Get the data\n",
    "        db_address = 'sqlite:///../results/data/db/trader.db'\n",
    "        engine = create_engine(db_address, echo=False)\n",
    "        sqlite_connection = engine.connect()\n",
    "\n",
    "        input_tbl_name = \"tbl_trader_bernardo2_simulation_results\" + \"_\" + config_file_name_without_extension\n",
    "        \n",
    "        sql_command = \"SELECT * FROM \" + input_tbl_name\n",
    "\n",
    "        df = pd.read_sql(sql_command, sqlite_connection)\n",
    "\n",
    "        sqlite_connection.close()\n",
    "\n",
    "        return df\n",
    "\n",
    "    except Exception as e:\n",
    "        print(e)"
   ]
  },
  {
   "cell_type": "code",
   "execution_count": 19,
   "metadata": {},
   "outputs": [],
   "source": [
    "df_trader_results = get_and_process_trader_data(config_file_name_without_extension)"
   ]
  },
  {
   "cell_type": "code",
   "execution_count": 20,
   "metadata": {},
   "outputs": [
    {
     "data": {
      "application/vnd.plotly.v1+json": {
       "config": {
        "plotlyServerURL": "https://plot.ly"
       },
       "data": [
        {
         "alignmentgroup": "True",
         "boxpoints": "all",
         "hovertemplate": "model_type=DQN<br>fmt_total_profit_percentage=%{y}<extra></extra>",
         "legendgroup": "DQN",
         "marker": {
          "color": "#FF7F0E"
         },
         "name": "DQN",
         "notched": false,
         "offsetgroup": "DQN",
         "orientation": "v",
         "showlegend": true,
         "type": "box",
         "x0": " ",
         "xaxis": "x",
         "y": [
          4.075976422543071,
          2.5117917185374816,
          -0.9910923961838902,
          -1.2978441937090746,
          1.1710262270755223,
          0.037213747159725585,
          -0.17706333488588522,
          -1.3226572596366615,
          -2.5893238519267836,
          3.912324835702252,
          0.9315302946292459,
          1.7467746447454635,
          1.4354494821164687,
          -4.892257461804428,
          6.245918781658388,
          1.058260674680822,
          -1.068252258933633,
          1.570849991961576,
          0,
          0.8875444327212767,
          -1.0486220660086087,
          0.7654526541290174,
          -0.6986854227429284,
          -0.7271511085376825,
          0.054004541222929525,
          -0.0011141513744372666,
          2.003579242830833,
          0,
          1.8593362637814526,
          1.7232791015024729,
          0.5082215326322359,
          -1.4471615751302402,
          2.4326638351098273,
          -2.2462601979316044,
          0.7925979970323072,
          2.494323542177357,
          2.7450444789952178,
          2.6080346721224945,
          1.7375598135004333,
          1.7433327771525287,
          1.2438869543767384,
          1.5315854463561651,
          0.9481633705595627,
          -0.03010786107724428,
          0,
          1.8094883275765916,
          -0.37996115187369783,
          -0.5092971710242256,
          2.9660735281003436,
          -3.0932951608406034,
          0,
          0.37248035858623574,
          0.3917671509834353,
          4.18396895573907,
          -2.423532113697968,
          2.1260305501292764,
          -2.0974825669883734,
          0.06438755735873603,
          2.958641398082329,
          -1.3050897535612616,
          0.761966348027121,
          -0.06289768438566545,
          1.0003780870832202,
          -0.06264628296629438,
          1.3321302990106476,
          -0.09334046960794984,
          -1.1856214311141478,
          0.48889405998866486,
          0.39185844558031757,
          1.295997696865725,
          -1.36018163435625,
          -1.2267784405836757,
          -1.6696007362853593,
          1.5395613454552315,
          0.9184492520944776,
          3.61155285475101,
          0.6734959384159467,
          4.349530031020921,
          -1.6385355865247142,
          1.4545961168096255,
          1.7008034159912366,
          2.0716686813644802,
          1.055399514668176,
          -1.5911907335857012,
          2.191155601561934,
          -1.1856214311141478,
          0.18897628556653334,
          0.7446387132476806,
          2.208290771595478,
          0.12350939399285998,
          1.058679930960893,
          0.8604965225500916,
          0,
          0.11920126392628294,
          0.8548794327268183,
          -0.7180914203556155,
          0.31462372270867345,
          -0.685144822199657,
          -0.8459115723583488,
          -1.4386287367398776,
          -1.4071872406841712,
          2.532893354196153,
          -0.7095078891849793,
          1.7115721557112495,
          -0.8162127784070883,
          -1.5051176544666367,
          0.8666033874113577,
          3.376963547127998,
          -1.9434761227076214,
          1.6471156663792952,
          -0.5348294108333596,
          0.5218011389234833,
          -0.6256127058192451,
          -0.696750544895175,
          1.644811252038858,
          -3.290391195128184,
          3.635447696841476,
          0.17276689252960775,
          -1.384004949615758,
          -1.717911460182564,
          0,
          -0.7922923046642549,
          1.633217908653184,
          0,
          -0.49175745040799246,
          1.3113746300535967,
          2.3166065413145143,
          0.19632802186237974,
          3.3577006626559935,
          2.802018008092233,
          2.905239938274673,
          1.4343776949981235,
          1.5123884992776393,
          1.466718273044454,
          -0.8193229940438362,
          3.156275217189042,
          0.587429920911231,
          -2.5557735991468156,
          0.2738400715338596,
          -2.1541246654044666,
          -1.9058598140844873,
          1.6662770546798988,
          -0.780498442109312,
          -1.040260475575816,
          0,
          4.88866330141331,
          2.776104095866483,
          -0.7413749064316244,
          3.448139887602175,
          0,
          2.750638986013443,
          1.4716793568540387,
          1.721375457997687,
          1.7878539222271783,
          -1.9158048134651495,
          0,
          0.7659484128297755,
          4.610372843482025,
          -3.2252559775080236,
          1.7012002200202492,
          1.1894948867271493,
          1.002893441535746,
          -0.49175745040799246,
          5.232360919542556,
          -0.5113046468748217,
          -0.18367536400452078,
          1.991526341295713,
          1.7573058410036868,
          -2.2082788136744913,
          1.7410220002788135,
          2.662276022590415,
          0,
          -0.3275923831953298,
          0,
          0.150352234404183,
          1.1768516997334721,
          1.9061437460357933,
          -0.5375004087808555,
          1.5574810039439946,
          -0.6609559330143289,
          -0.43497078789540566,
          2.6791396364131304,
          1.3302693946447564,
          -1.6113439534566676,
          0.6525267196219264,
          2.434045543325647,
          2.403880157639704,
          0.03765256946608453,
          1.8377105807987792,
          0.53301939652044,
          1.1342383532530143,
          -1.5970316185535793,
          0.9607432447450881,
          0.8285451932643628,
          0,
          3.0579673857142886,
          0.268169671562557,
          0,
          0.12507513747095356,
          0,
          -3.97406423830321,
          1.618495244400564,
          0.5470281418104905,
          -2.4723777830589544,
          -1.4525911603029518,
          2.3523921381696233,
          0.24003117113349237,
          -0.7708923951219471,
          -0.10546460629513588,
          1.9983035428860374,
          0.39357289498025416,
          1.6205774429091546,
          1.313015588165456,
          -5.611825502749435,
          0,
          2.709745393644458,
          0.38990980902593453,
          -1.9096608789403224,
          0.5906110595011338,
          0.6390246189664994,
          -0.49769427105251784,
          -1.3089618379211632,
          1.5958607167861238,
          -0.33787249339655157,
          -0.6100136180490767,
          0.1727580042597987,
          0,
          1.3521484896868108,
          0.8314205104447359,
          1.8413723746262933,
          2.113849255833844,
          0.3522059707797176,
          1.5315854463561651,
          1.4931341237307993,
          1.6118086986273816,
          -1.1674959825204612,
          -1.589429225411243,
          -1.0078973749867992,
          2.040069472424899,
          5.208014860102628,
          3.4405295372563316,
          1.2331805626440095,
          -1.818134007607608,
          -0.8005056358401652,
          -1.720572834473233,
          1.2663896053654478,
          3.637661830900374,
          -1.751129005307983,
          0.4342521924161291,
          -0.8313187078680784,
          2.3689418891667424,
          0.26940988194459337,
          1.0367713085096097,
          -1.4493518903923364,
          1.319450114708487,
          2.833734294159651,
          1.1328383301523859,
          -1.0419329017220313,
          0.8386158286159517,
          2.846659260646245,
          -0.036504962174377376,
          -0.38609936546220025,
          1.8730790272833087,
          -0.3949275364125038,
          -0.03233403076092767,
          2.0166598538525093,
          -2.0802608202462713,
          -0.5462352685365546,
          -1.3968888663066226,
          0.5794460472618557,
          4.185165229366161,
          1.5929967839302783,
          -1.7449660594332395,
          0.6991714946707583,
          1.7424353252990077,
          2.584940954947035,
          0.5117405569749378,
          0.058664511078099224,
          0.6297658032573983,
          2.0550182983872567,
          1.4052622630868372,
          -1.6796253666688243,
          3.2682802557334467,
          -0.5649919080701005,
          0.4611303244993925,
          1.1811740266662873,
          -1.346089306968179,
          -2.912080895893132,
          1.4545961168096255,
          -1.2206079428794592,
          1.2146150389785726,
          -2.44600457586045,
          1.5378631563308653,
          1.077635370099661,
          -4.998702309029312,
          0.5006714698492232,
          2.9132471812849614,
          0.5456416610031489,
          0.3967883027091501,
          -1.3493857481671534,
          0.6483200894281671,
          0.9371464469843493,
          -0.15443315693334236,
          1.8471657380767947,
          2.439709569636195,
          2.294124224931049,
          -0.2772662174575835,
          0.4424001727965532,
          1.733666179246418,
          1.525594720512169,
          0.35387660518202413,
          0,
          0.38338717164514424,
          -1.3180456472913327,
          0.7870843046498432,
          -0.228156564111881,
          -0.7712127957364867,
          4.037505061460411,
          -0.8104279660962943,
          -0.15188518558052477,
          -0.039766978725808144,
          -0.08628993260225704,
          0.00882910120358904,
          -0.4914778420707533,
          1.0367713085096097,
          2.24686485031127,
          -4.811297538338488,
          2.219563937661184,
          0.6470864860959269,
          0.903346147068218,
          -1.1601036637382212,
          1.596352731749695,
          2.009052772974962,
          2.5984117871558965,
          2.3678879561097377,
          1.773627472830852,
          1.2576736465306881,
          1.0084178698504198,
          0.9921838542624073,
          4.39382977966658,
          1.4156195966035678,
          2.741287882934129,
          1.618747507070628,
          0.20218746514775177,
          -1.7911615238191958,
          2.3142445169523906,
          1.5132634960500324,
          0.5942197767527579,
          1.1063532114237828,
          1.2184100400146836,
          0.43812424640623515,
          0.023963177167418692,
          2.3295005038703076,
          1.6803929054445943,
          -0.1336966258434824,
          1.5123884992776393,
          2.83034295892024,
          -0.8235408141804679,
          0,
          -1.2255144711553867,
          1.9525697818578047,
          1.4311912639621172,
          -2.530231875609079,
          2.5720349288987476,
          1.506802638035487,
          1.3573163483521666,
          -2.545953429096215,
          2.5226695523475673,
          2.247295878144473,
          -0.2347132179480571,
          1.1690466631223417,
          -0.014322995490290147,
          0.7730978504711716,
          0.8553456475020038,
          -0.06784861559049338,
          -0.4983003710012257,
          0.27624631454445936,
          1.336828055766226,
          2.002689772240296,
          0,
          0.5942197767527579,
          0.3723569628024226,
          0.7710592673421335,
          1.3085580546385422,
          0.014505522916419267,
          3.0792254795378726,
          1.1773594280499289,
          2.8782506102042804,
          1.091988331282323,
          -1.6009751257268556,
          1.2971665863442894,
          -2.9247053837380133,
          0.19632802186237974,
          -2.358439044928684,
          1.3740566224150985,
          1.336157221370371,
          1.1514990968368277,
          -0.2719163972056071,
          1.7467746447454635,
          0,
          2.151344155140422,
          3.6217444224005524,
          -0.596314879825377,
          1.0439621075752692,
          1.2130423737222173,
          0.3014758310006638,
          0.26067470160067163,
          3.267428294762209,
          0.6652208906891888,
          1.3390380421791415,
          -1.2220114169664398,
          -0.6290494957597592,
          0.8695397927800386,
          1.4111355654172764,
          0.7472346052487033,
          -0.8162127784070883,
          -1.1319899760602437,
          -1.2252102472020465,
          1.7032491780693437,
          3.192638262512837,
          -0.4870349478026115,
          -0.38132330148710203,
          0.6042610652293945,
          1.456431854175766,
          1.312367389830027,
          1.9400914695894222,
          7.488060315900702,
          2.081779290696595,
          2.2410335653860303,
          -0.501992278583896,
          1.4199341258693376,
          1.905110838458679,
          -1.4970160154365808,
          -0.48150088425858995,
          -1.3891762342335356,
          2.833734294159651,
          1.837896727959798,
          2.887889385210629,
          0.7907465120321255,
          0.31422014442243906,
          0.4399749722943991,
          0.6675561141299191,
          -0.30655585916160577,
          3.5656074166094287,
          3.635447696841476,
          2.1856872365090707,
          3.210272955823723,
          0.9939259885361151,
          1.0797833556281722,
          1.9832568689456487,
          -1.635233847122597,
          0,
          -1.454083432203257,
          0.048749650533208566,
          -1.9572650934875258,
          1.357600976451967,
          -0.12569062308952494,
          0,
          0.9380054932242476,
          1.570153529796725,
          -1.2544106476794714,
          2.9822260957058644,
          1.1071024589499379,
          2.3290166465764317,
          2.355283920768003,
          1.1498917016704135,
          0.11780133772101298,
          -0.9861895567541801,
          1.4052622630868372,
          1.1947672984683466,
          1.9206759562809372,
          0.37248035858623574,
          -0.1615701015737936,
          2.9703697052039235,
          4.030017039327105,
          -0.2189313482201083,
          2.6169945332305655,
          -0.16288220766769168,
          0.740084916556838,
          -0.03010786107724428,
          0.03765256946608453,
          1.3653624890992644,
          -0.19746307003165597,
          -2.7326241284322483,
          1.6682397866950582,
          1.1216470425653435,
          0.3383913259281002,
          1.141057276309554,
          0.8481409125288275,
          -0.34782805614608225,
          -2.981120598567688,
          -4.3879290992746895,
          0,
          -1.3807512855049775,
          -1.6950215889614317,
          1.121731273219595,
          -1.5019886407309002,
          -2.0762778097685564,
          -0.13795153928434223,
          2.849030607431957,
          0.08436240942693018,
          -1.2544106476794714,
          -0.4044653012399757,
          1.2337181062200386,
          -1.9043755269052887,
          -0.5500882340961022,
          0.772595212239402,
          3.4414295722920762,
          1.119655962032784,
          1.172604202748695,
          1.1305392120420255,
          -0.5983876469313865,
          2.5798908608539284,
          -1.341621895787548,
          -0.8242161996514952,
          -2.668771172272566,
          2.6450274513949212,
          -0.4192165774670409,
          0,
          2.272517523143658,
          2.947701327210739,
          0.982471182147937,
          2.833734294159651,
          2.3295005038703076,
          -1.5701523206854695,
          2.883941071898355,
          0,
          -0.5655830489960656,
          2.6450274513949212,
          -1.4239432789762918,
          1.589442831453547,
          1.7502053750328983,
          0,
          1.6601540145320337,
          -4.1254635503329755,
          0.37605090741115177,
          1.023206080981054,
          1.2781109072178332,
          0.4632369742700648,
          2.145549618530085,
          1.1947672984683466,
          1.21437441561425,
          0.4851535385816286,
          0.26768782331225704,
          3.272103454448949,
          1.7566503705850556,
          0,
          1.5212059686698476,
          -0.9852639006740382,
          0.2389025050628213,
          0.6289861636856076,
          0.7364691950598079,
          2.5940364976545283,
          1.3747898304414585,
          -1.882544039223577,
          -0.3503667666546417,
          2.643871049484048,
          -0.9246390446414177,
          1.3787731662568747,
          -1.8486062184665863,
          -0.9558775668996211,
          -0.4132554591959825,
          -0.4704820307785962,
          0.30564530107635157,
          0,
          -0.9076409361527094,
          1.19081070749385,
          3.503211739572021,
          -0.04308641575601069,
          1.396880864675909,
          2.476176305581035,
          1.2569881016638584,
          -0.06289768438566545,
          0.35282222224439774,
          -0.7315785516822215,
          -0.8910667131368677,
          1.964634080962302,
          3.4784325300385444,
          1.5132634960500324,
          1.778615404610906,
          2.347610098845654,
          -0.929649485321149,
          1.4493381635982017,
          1.4351422874298914,
          2.8417414080960546,
          2.8046347496138324,
          1.8271654186887032,
          0.7372712506287904,
          0,
          -2.0702128767595362,
          1.2893978333448963,
          0.44315838395276863,
          4.046249316837369,
          0.3892781829459624,
          -0.7121914436314714,
          -1.4530397527392935,
          -0.34970551674377015,
          3.4784325300385444,
          0,
          3.204157919948303,
          1.6365120188090998,
          0.6632397693316028,
          -0.4930543727623138,
          2.3478905293959684,
          -1.4954947005788477,
          1.1917632603455353,
          1.0918722386630497,
          -0.9029592636213168,
          0,
          -0.841115795945413,
          -1.0047646578541625,
          2.7617348292508836,
          4.719063625740505,
          1.3245638627223055,
          -0.17048422180685474,
          1.8811399884903546,
          2.2068298868869407,
          0.9921838542624073,
          5.693933181019406,
          0.8840199647536462,
          -0.8673507428920924,
          1.4766409118929014,
          0.7521736808035362,
          -3.0862297572716635,
          0.5201984501330692,
          0.8390243336614311,
          2.593700359980722,
          0.2352705254885068,
          0,
          -1.3963663623049127,
          1.8871083678847045,
          0.2760710408798328,
          3.257233337305898,
          1.69836383967501,
          -1.3059499459900037,
          0.3158912826890736,
          2.096414111289935,
          1.2891679035878845,
          1.4301451369828744,
          -1.4983470050849212,
          -1.36018163435625,
          0.12350939399285998,
          0.4353294556653564,
          -1.0602058756587263,
          1.7076989999001313,
          -1.1218500298251333,
          0.8369211921017472,
          -0.07868032722095908,
          0.31660738497569785,
          0.2927044576216842,
          0,
          0.7659484128297755,
          1.2661223440695535,
          -0.8134575718793391,
          -1.1942729266657959,
          -1.2180864557402415,
          0.17257767417291348,
          0.10813952219610456,
          0.22894070476977557,
          2.1115513918825712,
          2.259780966415148,
          -1.138684660203504,
          5.714689970315567,
          -0.25784459982760577,
          0.919667795938861,
          1.1029928102183728,
          -1.2316120191840474,
          0.93593280543669,
          -1.4434467602161827,
          1.075134654674792,
          0.9899917900589195,
          -0.20109758818600554,
          1.1430516141995861,
          1.178731806676625,
          -0.02451930953362158,
          1.5194205621853696,
          -0.24029428693166377,
          0.8597298546506149,
          1.6984217964295611,
          0.6289861636856076,
          0.3416095821836107,
          5.2995825213798975,
          -1.2946750350328107,
          -0.7454067450284096,
          -0.28121734216922656,
          0.6207889964475966,
          1.8038318889358917,
          -3.7812648839165353,
          2.2068298868869407,
          1.970494740155826,
          1.0357777180551198,
          1.1998977303225855,
          1.4699351298514962,
          0.7333806244163243,
          2.5196609764289724,
          -1.4128851815700783,
          -0.9259285613991475,
          -1.7340009241337495,
          0.18792461721677256,
          1.79162936575048,
          0.18359283009294902,
          2.17082871432952,
          4.015070392252951,
          -2.3797375201710436,
          1.667263888040793,
          0.8343595515192925,
          -1.0705963833003262,
          2.464082591260297,
          -0.25784459982760577,
          -0.37767216916040347,
          3.289574005585627,
          -1.1653760964605464,
          -1.3612037254495002,
          0.10701768382803678,
          1.1833310407983078,
          0,
          2.056082788420177,
          3.448139887602175,
          -1.6670042383651884,
          3.913325545273283,
          -0.5984246090523615,
          -0.37820963499209936,
          -1.9646238997954035,
          -0.10859142632689833,
          3.108498941052429,
          -0.5428532680120779,
          0.9011511901716451,
          1.3061172642173435,
          2.9322630642313996,
          0.67061697151094,
          0,
          -0.29101932351698334,
          -0.5438831932144117,
          1.21085042707465,
          1.9833005551794125,
          1.4927749610397223,
          1.3899358380139226,
          1.1915708706748962,
          0,
          -1.386955817568114,
          -1.1856214311141478,
          0.93593280543669,
          2.5784877597335276,
          0,
          0.26685630631340107,
          -0.19145146088669351,
          0,
          -1.6028122502858788,
          1.347892433428921,
          1.5271556227951066,
          0,
          -0.4126125986061657,
          -0.2449680338681426,
          0,
          -0.25784459982760577,
          0.37248035858623574,
          -1.5486272819841607,
          1.319127049105706,
          1.4426101216622689,
          3.79306735138194,
          0.4013025000147552,
          0.03907923922030765,
          -0.9333937662256431,
          1.4931341237307993,
          1.4545961168096255,
          0.20018567905391027,
          1.573551607303103,
          0,
          -0.5621187689559437,
          0.7847479055983708,
          0.8314205104447359,
          0.8314205104447359,
          -0.07805940469033379,
          -0.7025609572172464,
          -0.4265818527877885,
          0,
          -3.093413927068389,
          1.7654665756003718,
          -0.73796302259721,
          0.4116083915645552,
          -1.4514162713729184,
          -2.103487841749463,
          3.944063867756875,
          2.1889994442967575,
          0.39232522729122365,
          1.572659556081124,
          2.5919260675967726,
          1.7961023628745076,
          0,
          0.9625140234732932,
          -0.9476673191032403,
          -1.181140594050245,
          0,
          3.276728372774085,
          0.4790133369616534,
          0.64101709508122,
          4.210789046112695,
          0.7854628407128805,
          2.4837667414144393,
          -1.7009996585320875,
          0.4965202832683424,
          -0.06014785009303969,
          0,
          -0.7989752134075379,
          1.871447940326454,
          -0.5270346414585014,
          -0.5818586417602467,
          2.091815339454306,
          -3.7838096922485964,
          1.681187151171093,
          -2.195064637450961,
          -0.73796302259721,
          1.4298159613020944,
          2.0696913548161167,
          -0.21071515201886992,
          2.297923467275731,
          2.228618850940123,
          1.691789598218385,
          -0.1676361851268071,
          -1.833046614779954,
          2.0859215583249213,
          1.119655962032784,
          1.470317962001011,
          2.543838875680837,
          -0.42584376906880106,
          0.1373478497292524,
          1.3053290882123258,
          0.45475095727482984,
          2.397018021144559,
          0.3126248535736398,
          1.6894777748416523,
          1.3447309515995265,
          1.072517463322309,
          0.9945355319883609,
          0.4061913173918352,
          2.4757023412213863,
          -1.1201719591704573,
          1.267833738686308,
          0.42579594767757634,
          -0.4139150346300524,
          -1.653801238575614,
          -1.0768759050879706,
          1.7467746447454635,
          -0.39872469860012805,
          0.057916665736668094,
          -0.031119778225663364,
          -0.2631165778894662,
          -1.6748541176863307,
          2.3795235442527263,
          1.060782351041123,
          3.8805195115604763,
          -0.17393131184910704,
          1.7467746447454635,
          2.903800173528226,
          0.8420704693034242,
          -0.49175745040799246,
          -1.8755598578203747,
          1.9559328960781386,
          -2.6685867802579977,
          0.39185844558031757,
          -2.1686330321919134,
          0,
          4.536013870742139,
          -1.021522247645279,
          0,
          -1.3563543489654606,
          -1.218763202540929,
          0.7416781020052943,
          -0.4578453489420431,
          2.06463383118598,
          1.1998977303225855,
          -0.7673180737426955,
          1.5068683158750096,
          0.10324351251260744,
          0.5556242283467849,
          0.13220907614299726,
          2.811527414671433,
          1.8883465845287217,
          -1.5686632038713122,
          0.4050384002629803,
          1.2640388006987635,
          1.891647833475063,
          1.0002166242896182,
          -1.3916451861752943,
          -0.23358911795320347,
          -0.3428273701073459,
          -0.4420312254071912,
          2.808631409809559,
          -1.1403312651681263,
          1.2824914670004572,
          3.143213698459668,
          -0.16188259723455278,
          -0.7248165215795743,
          2.3322498715395934,
          0.7601014775349357,
          -0.6214764504881343,
          1.092240104351938,
          0.11685753617025618,
          0.15298053776813259,
          0,
          0.2519849977141275,
          0.4965202832683424,
          0.9994545144173195,
          2.0877184706327157,
          0.7002471327237858,
          1.5154650953740356,
          -2.480058270479324,
          0.1447955708406612,
          -1.4767540861484685,
          -0.3902594270007054,
          1.7140277297372997,
          1.2912002082154261,
          0.8433617707083618,
          0.9395313598272503,
          1.5452438240871613,
          -0.6645823743859691,
          2.0351853478790316,
          1.7871333992752092,
          0,
          -1.0437894223080169,
          2.915567644305228,
          -1.048493539023354,
          2.228644941874691,
          1.506802638035487,
          4.8608875197127865,
          1.5126704894787402,
          0.2927044576216842,
          1.4903999693052006,
          2.802018008092233,
          1.7041481050619867,
          -0.024156099076722004,
          0.676460990434169,
          -3.176296674871959,
          -0.28627207917319986,
          1.9344235257983122,
          -0.28213751635366435,
          2.802018008092233,
          -1.1068054047828846,
          0.435184122719634,
          2.0037305884920142,
          1.6877887059214336,
          1.2435467682307744,
          0,
          -4.783285380429314,
          -1.2497649663536836,
          -0.16210936160080403,
          1.3993915688742087,
          -1.260113873397617,
          -1.237150800030118,
          5.971736509423264,
          -0.10226725030663131,
          -5.152619041784423,
          0.3801931889946264,
          0.24189510613696896,
          1.5162707541894083,
          0.8891461699056968,
          -1.2316120191840474,
          0.4965202832683424,
          -0.5019417320767827,
          1.9251504358139826,
          0,
          5.82962265764706,
          -0.9579803130513764,
          1.456431854175766,
          -2.070991370930897,
          -1.3559625745382498,
          1.5697854519607368,
          1.0025479850952257,
          5.55137862070314,
          3.672042126190367,
          0.7476102107229154,
          -0.32560216857172586,
          2.9322630642313996,
          2.1753930878808836,
          -1.4389080708090751,
          0.9590969204119837,
          -1.5694626856757377,
          1.0367713085096097,
          0.9009437561079192,
          3.186880760680233,
          1.2013374592843906,
          0.5899624203229425,
          -1.112160906714843,
          -1.4845472621754952,
          -0.9803347691197173,
          1.6232461371863405,
          6.116690416744386,
          1.2659857583545708,
          0.6368971273232882,
          0.39185844558031757,
          1.2274774676406697,
          0.771076314086061,
          -0.03010786107724428,
          -2.1073773466482537,
          -1.0446729027177026,
          -0.4107452482285834,
          -0.4230594218928019,
          0.8388701755825734,
          0.4361751287069726,
          2.2428499807612745
         ],
         "y0": " ",
         "yaxis": "y"
        }
       ],
       "layout": {
        "boxmode": "group",
        "height": 600,
        "legend": {
         "title": {
          "text": "model_type"
         },
         "tracegroupgap": 0
        },
        "margin": {
         "t": 60
        },
        "template": {
         "data": {
          "bar": [
           {
            "error_x": {
             "color": "#2a3f5f"
            },
            "error_y": {
             "color": "#2a3f5f"
            },
            "marker": {
             "line": {
              "color": "#E5ECF6",
              "width": 0.5
             },
             "pattern": {
              "fillmode": "overlay",
              "size": 10,
              "solidity": 0.2
             }
            },
            "type": "bar"
           }
          ],
          "barpolar": [
           {
            "marker": {
             "line": {
              "color": "#E5ECF6",
              "width": 0.5
             },
             "pattern": {
              "fillmode": "overlay",
              "size": 10,
              "solidity": 0.2
             }
            },
            "type": "barpolar"
           }
          ],
          "carpet": [
           {
            "aaxis": {
             "endlinecolor": "#2a3f5f",
             "gridcolor": "white",
             "linecolor": "white",
             "minorgridcolor": "white",
             "startlinecolor": "#2a3f5f"
            },
            "baxis": {
             "endlinecolor": "#2a3f5f",
             "gridcolor": "white",
             "linecolor": "white",
             "minorgridcolor": "white",
             "startlinecolor": "#2a3f5f"
            },
            "type": "carpet"
           }
          ],
          "choropleth": [
           {
            "colorbar": {
             "outlinewidth": 0,
             "ticks": ""
            },
            "type": "choropleth"
           }
          ],
          "contour": [
           {
            "colorbar": {
             "outlinewidth": 0,
             "ticks": ""
            },
            "colorscale": [
             [
              0,
              "#0d0887"
             ],
             [
              0.1111111111111111,
              "#46039f"
             ],
             [
              0.2222222222222222,
              "#7201a8"
             ],
             [
              0.3333333333333333,
              "#9c179e"
             ],
             [
              0.4444444444444444,
              "#bd3786"
             ],
             [
              0.5555555555555556,
              "#d8576b"
             ],
             [
              0.6666666666666666,
              "#ed7953"
             ],
             [
              0.7777777777777778,
              "#fb9f3a"
             ],
             [
              0.8888888888888888,
              "#fdca26"
             ],
             [
              1,
              "#f0f921"
             ]
            ],
            "type": "contour"
           }
          ],
          "contourcarpet": [
           {
            "colorbar": {
             "outlinewidth": 0,
             "ticks": ""
            },
            "type": "contourcarpet"
           }
          ],
          "heatmap": [
           {
            "colorbar": {
             "outlinewidth": 0,
             "ticks": ""
            },
            "colorscale": [
             [
              0,
              "#0d0887"
             ],
             [
              0.1111111111111111,
              "#46039f"
             ],
             [
              0.2222222222222222,
              "#7201a8"
             ],
             [
              0.3333333333333333,
              "#9c179e"
             ],
             [
              0.4444444444444444,
              "#bd3786"
             ],
             [
              0.5555555555555556,
              "#d8576b"
             ],
             [
              0.6666666666666666,
              "#ed7953"
             ],
             [
              0.7777777777777778,
              "#fb9f3a"
             ],
             [
              0.8888888888888888,
              "#fdca26"
             ],
             [
              1,
              "#f0f921"
             ]
            ],
            "type": "heatmap"
           }
          ],
          "heatmapgl": [
           {
            "colorbar": {
             "outlinewidth": 0,
             "ticks": ""
            },
            "colorscale": [
             [
              0,
              "#0d0887"
             ],
             [
              0.1111111111111111,
              "#46039f"
             ],
             [
              0.2222222222222222,
              "#7201a8"
             ],
             [
              0.3333333333333333,
              "#9c179e"
             ],
             [
              0.4444444444444444,
              "#bd3786"
             ],
             [
              0.5555555555555556,
              "#d8576b"
             ],
             [
              0.6666666666666666,
              "#ed7953"
             ],
             [
              0.7777777777777778,
              "#fb9f3a"
             ],
             [
              0.8888888888888888,
              "#fdca26"
             ],
             [
              1,
              "#f0f921"
             ]
            ],
            "type": "heatmapgl"
           }
          ],
          "histogram": [
           {
            "marker": {
             "pattern": {
              "fillmode": "overlay",
              "size": 10,
              "solidity": 0.2
             }
            },
            "type": "histogram"
           }
          ],
          "histogram2d": [
           {
            "colorbar": {
             "outlinewidth": 0,
             "ticks": ""
            },
            "colorscale": [
             [
              0,
              "#0d0887"
             ],
             [
              0.1111111111111111,
              "#46039f"
             ],
             [
              0.2222222222222222,
              "#7201a8"
             ],
             [
              0.3333333333333333,
              "#9c179e"
             ],
             [
              0.4444444444444444,
              "#bd3786"
             ],
             [
              0.5555555555555556,
              "#d8576b"
             ],
             [
              0.6666666666666666,
              "#ed7953"
             ],
             [
              0.7777777777777778,
              "#fb9f3a"
             ],
             [
              0.8888888888888888,
              "#fdca26"
             ],
             [
              1,
              "#f0f921"
             ]
            ],
            "type": "histogram2d"
           }
          ],
          "histogram2dcontour": [
           {
            "colorbar": {
             "outlinewidth": 0,
             "ticks": ""
            },
            "colorscale": [
             [
              0,
              "#0d0887"
             ],
             [
              0.1111111111111111,
              "#46039f"
             ],
             [
              0.2222222222222222,
              "#7201a8"
             ],
             [
              0.3333333333333333,
              "#9c179e"
             ],
             [
              0.4444444444444444,
              "#bd3786"
             ],
             [
              0.5555555555555556,
              "#d8576b"
             ],
             [
              0.6666666666666666,
              "#ed7953"
             ],
             [
              0.7777777777777778,
              "#fb9f3a"
             ],
             [
              0.8888888888888888,
              "#fdca26"
             ],
             [
              1,
              "#f0f921"
             ]
            ],
            "type": "histogram2dcontour"
           }
          ],
          "mesh3d": [
           {
            "colorbar": {
             "outlinewidth": 0,
             "ticks": ""
            },
            "type": "mesh3d"
           }
          ],
          "parcoords": [
           {
            "line": {
             "colorbar": {
              "outlinewidth": 0,
              "ticks": ""
             }
            },
            "type": "parcoords"
           }
          ],
          "pie": [
           {
            "automargin": true,
            "type": "pie"
           }
          ],
          "scatter": [
           {
            "fillpattern": {
             "fillmode": "overlay",
             "size": 10,
             "solidity": 0.2
            },
            "type": "scatter"
           }
          ],
          "scatter3d": [
           {
            "line": {
             "colorbar": {
              "outlinewidth": 0,
              "ticks": ""
             }
            },
            "marker": {
             "colorbar": {
              "outlinewidth": 0,
              "ticks": ""
             }
            },
            "type": "scatter3d"
           }
          ],
          "scattercarpet": [
           {
            "marker": {
             "colorbar": {
              "outlinewidth": 0,
              "ticks": ""
             }
            },
            "type": "scattercarpet"
           }
          ],
          "scattergeo": [
           {
            "marker": {
             "colorbar": {
              "outlinewidth": 0,
              "ticks": ""
             }
            },
            "type": "scattergeo"
           }
          ],
          "scattergl": [
           {
            "marker": {
             "colorbar": {
              "outlinewidth": 0,
              "ticks": ""
             }
            },
            "type": "scattergl"
           }
          ],
          "scattermapbox": [
           {
            "marker": {
             "colorbar": {
              "outlinewidth": 0,
              "ticks": ""
             }
            },
            "type": "scattermapbox"
           }
          ],
          "scatterpolar": [
           {
            "marker": {
             "colorbar": {
              "outlinewidth": 0,
              "ticks": ""
             }
            },
            "type": "scatterpolar"
           }
          ],
          "scatterpolargl": [
           {
            "marker": {
             "colorbar": {
              "outlinewidth": 0,
              "ticks": ""
             }
            },
            "type": "scatterpolargl"
           }
          ],
          "scatterternary": [
           {
            "marker": {
             "colorbar": {
              "outlinewidth": 0,
              "ticks": ""
             }
            },
            "type": "scatterternary"
           }
          ],
          "surface": [
           {
            "colorbar": {
             "outlinewidth": 0,
             "ticks": ""
            },
            "colorscale": [
             [
              0,
              "#0d0887"
             ],
             [
              0.1111111111111111,
              "#46039f"
             ],
             [
              0.2222222222222222,
              "#7201a8"
             ],
             [
              0.3333333333333333,
              "#9c179e"
             ],
             [
              0.4444444444444444,
              "#bd3786"
             ],
             [
              0.5555555555555556,
              "#d8576b"
             ],
             [
              0.6666666666666666,
              "#ed7953"
             ],
             [
              0.7777777777777778,
              "#fb9f3a"
             ],
             [
              0.8888888888888888,
              "#fdca26"
             ],
             [
              1,
              "#f0f921"
             ]
            ],
            "type": "surface"
           }
          ],
          "table": [
           {
            "cells": {
             "fill": {
              "color": "#EBF0F8"
             },
             "line": {
              "color": "white"
             }
            },
            "header": {
             "fill": {
              "color": "#C8D4E3"
             },
             "line": {
              "color": "white"
             }
            },
            "type": "table"
           }
          ]
         },
         "layout": {
          "annotationdefaults": {
           "arrowcolor": "#2a3f5f",
           "arrowhead": 0,
           "arrowwidth": 1
          },
          "autotypenumbers": "strict",
          "coloraxis": {
           "colorbar": {
            "outlinewidth": 0,
            "ticks": ""
           }
          },
          "colorscale": {
           "diverging": [
            [
             0,
             "#8e0152"
            ],
            [
             0.1,
             "#c51b7d"
            ],
            [
             0.2,
             "#de77ae"
            ],
            [
             0.3,
             "#f1b6da"
            ],
            [
             0.4,
             "#fde0ef"
            ],
            [
             0.5,
             "#f7f7f7"
            ],
            [
             0.6,
             "#e6f5d0"
            ],
            [
             0.7,
             "#b8e186"
            ],
            [
             0.8,
             "#7fbc41"
            ],
            [
             0.9,
             "#4d9221"
            ],
            [
             1,
             "#276419"
            ]
           ],
           "sequential": [
            [
             0,
             "#0d0887"
            ],
            [
             0.1111111111111111,
             "#46039f"
            ],
            [
             0.2222222222222222,
             "#7201a8"
            ],
            [
             0.3333333333333333,
             "#9c179e"
            ],
            [
             0.4444444444444444,
             "#bd3786"
            ],
            [
             0.5555555555555556,
             "#d8576b"
            ],
            [
             0.6666666666666666,
             "#ed7953"
            ],
            [
             0.7777777777777778,
             "#fb9f3a"
            ],
            [
             0.8888888888888888,
             "#fdca26"
            ],
            [
             1,
             "#f0f921"
            ]
           ],
           "sequentialminus": [
            [
             0,
             "#0d0887"
            ],
            [
             0.1111111111111111,
             "#46039f"
            ],
            [
             0.2222222222222222,
             "#7201a8"
            ],
            [
             0.3333333333333333,
             "#9c179e"
            ],
            [
             0.4444444444444444,
             "#bd3786"
            ],
            [
             0.5555555555555556,
             "#d8576b"
            ],
            [
             0.6666666666666666,
             "#ed7953"
            ],
            [
             0.7777777777777778,
             "#fb9f3a"
            ],
            [
             0.8888888888888888,
             "#fdca26"
            ],
            [
             1,
             "#f0f921"
            ]
           ]
          },
          "colorway": [
           "#636efa",
           "#EF553B",
           "#00cc96",
           "#ab63fa",
           "#FFA15A",
           "#19d3f3",
           "#FF6692",
           "#B6E880",
           "#FF97FF",
           "#FECB52"
          ],
          "font": {
           "color": "#2a3f5f"
          },
          "geo": {
           "bgcolor": "white",
           "lakecolor": "white",
           "landcolor": "#E5ECF6",
           "showlakes": true,
           "showland": true,
           "subunitcolor": "white"
          },
          "hoverlabel": {
           "align": "left"
          },
          "hovermode": "closest",
          "mapbox": {
           "style": "light"
          },
          "paper_bgcolor": "white",
          "plot_bgcolor": "#E5ECF6",
          "polar": {
           "angularaxis": {
            "gridcolor": "white",
            "linecolor": "white",
            "ticks": ""
           },
           "bgcolor": "#E5ECF6",
           "radialaxis": {
            "gridcolor": "white",
            "linecolor": "white",
            "ticks": ""
           }
          },
          "scene": {
           "xaxis": {
            "backgroundcolor": "#E5ECF6",
            "gridcolor": "white",
            "gridwidth": 2,
            "linecolor": "white",
            "showbackground": true,
            "ticks": "",
            "zerolinecolor": "white"
           },
           "yaxis": {
            "backgroundcolor": "#E5ECF6",
            "gridcolor": "white",
            "gridwidth": 2,
            "linecolor": "white",
            "showbackground": true,
            "ticks": "",
            "zerolinecolor": "white"
           },
           "zaxis": {
            "backgroundcolor": "#E5ECF6",
            "gridcolor": "white",
            "gridwidth": 2,
            "linecolor": "white",
            "showbackground": true,
            "ticks": "",
            "zerolinecolor": "white"
           }
          },
          "shapedefaults": {
           "line": {
            "color": "#2a3f5f"
           }
          },
          "ternary": {
           "aaxis": {
            "gridcolor": "white",
            "linecolor": "white",
            "ticks": ""
           },
           "baxis": {
            "gridcolor": "white",
            "linecolor": "white",
            "ticks": ""
           },
           "bgcolor": "#E5ECF6",
           "caxis": {
            "gridcolor": "white",
            "linecolor": "white",
            "ticks": ""
           }
          },
          "title": {
           "x": 0.05
          },
          "xaxis": {
           "automargin": true,
           "gridcolor": "white",
           "linecolor": "white",
           "ticks": "",
           "title": {
            "standoff": 15
           },
           "zerolinecolor": "white",
           "zerolinewidth": 2
          },
          "yaxis": {
           "automargin": true,
           "gridcolor": "white",
           "linecolor": "white",
           "ticks": "",
           "title": {
            "standoff": 15
           },
           "zerolinecolor": "white",
           "zerolinewidth": 2
          }
         }
        },
        "width": 800,
        "xaxis": {
         "anchor": "y",
         "domain": [
          0,
          1
         ]
        },
        "yaxis": {
         "anchor": "x",
         "domain": [
          0,
          1
         ],
         "title": {
          "text": "fmt_total_profit_percentage"
         }
        }
       }
      }
     },
     "metadata": {},
     "output_type": "display_data"
    }
   ],
   "source": [
    "fig = px.box(df_trader_results, y=\"fmt_total_profit_percentage\", color=\"model_type\", points=\"all\", color_discrete_sequence=[ \"#FF7F0E\", \"#00CC96\", \"#10aded\", \"#8A56EF\"],  width=800, height=600)\n",
    "fig.show()"
   ]
  },
  {
   "cell_type": "code",
   "execution_count": 21,
   "metadata": {},
   "outputs": [
    {
     "data": {
      "application/vnd.plotly.v1+json": {
       "config": {
        "plotlyServerURL": "https://plot.ly"
       },
       "data": [
        {
         "alignmentgroup": "True",
         "bingroup": "x",
         "hovertemplate": "model_type=DQN<br>fmt_total_profit_percentage=%{x}<br>count=%{y}<extra></extra>",
         "legendgroup": "DQN",
         "marker": {
          "color": "#FF7F0E",
          "pattern": {
           "shape": ""
          }
         },
         "name": "DQN",
         "offsetgroup": "DQN",
         "orientation": "v",
         "showlegend": true,
         "type": "histogram",
         "x": [
          4.075976422543071,
          2.5117917185374816,
          -0.9910923961838902,
          -1.2978441937090746,
          1.1710262270755223,
          0.037213747159725585,
          -0.17706333488588522,
          -1.3226572596366615,
          -2.5893238519267836,
          3.912324835702252,
          0.9315302946292459,
          1.7467746447454635,
          1.4354494821164687,
          -4.892257461804428,
          6.245918781658388,
          1.058260674680822,
          -1.068252258933633,
          1.570849991961576,
          0,
          0.8875444327212767,
          -1.0486220660086087,
          0.7654526541290174,
          -0.6986854227429284,
          -0.7271511085376825,
          0.054004541222929525,
          -0.0011141513744372666,
          2.003579242830833,
          0,
          1.8593362637814526,
          1.7232791015024729,
          0.5082215326322359,
          -1.4471615751302402,
          2.4326638351098273,
          -2.2462601979316044,
          0.7925979970323072,
          2.494323542177357,
          2.7450444789952178,
          2.6080346721224945,
          1.7375598135004333,
          1.7433327771525287,
          1.2438869543767384,
          1.5315854463561651,
          0.9481633705595627,
          -0.03010786107724428,
          0,
          1.8094883275765916,
          -0.37996115187369783,
          -0.5092971710242256,
          2.9660735281003436,
          -3.0932951608406034,
          0,
          0.37248035858623574,
          0.3917671509834353,
          4.18396895573907,
          -2.423532113697968,
          2.1260305501292764,
          -2.0974825669883734,
          0.06438755735873603,
          2.958641398082329,
          -1.3050897535612616,
          0.761966348027121,
          -0.06289768438566545,
          1.0003780870832202,
          -0.06264628296629438,
          1.3321302990106476,
          -0.09334046960794984,
          -1.1856214311141478,
          0.48889405998866486,
          0.39185844558031757,
          1.295997696865725,
          -1.36018163435625,
          -1.2267784405836757,
          -1.6696007362853593,
          1.5395613454552315,
          0.9184492520944776,
          3.61155285475101,
          0.6734959384159467,
          4.349530031020921,
          -1.6385355865247142,
          1.4545961168096255,
          1.7008034159912366,
          2.0716686813644802,
          1.055399514668176,
          -1.5911907335857012,
          2.191155601561934,
          -1.1856214311141478,
          0.18897628556653334,
          0.7446387132476806,
          2.208290771595478,
          0.12350939399285998,
          1.058679930960893,
          0.8604965225500916,
          0,
          0.11920126392628294,
          0.8548794327268183,
          -0.7180914203556155,
          0.31462372270867345,
          -0.685144822199657,
          -0.8459115723583488,
          -1.4386287367398776,
          -1.4071872406841712,
          2.532893354196153,
          -0.7095078891849793,
          1.7115721557112495,
          -0.8162127784070883,
          -1.5051176544666367,
          0.8666033874113577,
          3.376963547127998,
          -1.9434761227076214,
          1.6471156663792952,
          -0.5348294108333596,
          0.5218011389234833,
          -0.6256127058192451,
          -0.696750544895175,
          1.644811252038858,
          -3.290391195128184,
          3.635447696841476,
          0.17276689252960775,
          -1.384004949615758,
          -1.717911460182564,
          0,
          -0.7922923046642549,
          1.633217908653184,
          0,
          -0.49175745040799246,
          1.3113746300535967,
          2.3166065413145143,
          0.19632802186237974,
          3.3577006626559935,
          2.802018008092233,
          2.905239938274673,
          1.4343776949981235,
          1.5123884992776393,
          1.466718273044454,
          -0.8193229940438362,
          3.156275217189042,
          0.587429920911231,
          -2.5557735991468156,
          0.2738400715338596,
          -2.1541246654044666,
          -1.9058598140844873,
          1.6662770546798988,
          -0.780498442109312,
          -1.040260475575816,
          0,
          4.88866330141331,
          2.776104095866483,
          -0.7413749064316244,
          3.448139887602175,
          0,
          2.750638986013443,
          1.4716793568540387,
          1.721375457997687,
          1.7878539222271783,
          -1.9158048134651495,
          0,
          0.7659484128297755,
          4.610372843482025,
          -3.2252559775080236,
          1.7012002200202492,
          1.1894948867271493,
          1.002893441535746,
          -0.49175745040799246,
          5.232360919542556,
          -0.5113046468748217,
          -0.18367536400452078,
          1.991526341295713,
          1.7573058410036868,
          -2.2082788136744913,
          1.7410220002788135,
          2.662276022590415,
          0,
          -0.3275923831953298,
          0,
          0.150352234404183,
          1.1768516997334721,
          1.9061437460357933,
          -0.5375004087808555,
          1.5574810039439946,
          -0.6609559330143289,
          -0.43497078789540566,
          2.6791396364131304,
          1.3302693946447564,
          -1.6113439534566676,
          0.6525267196219264,
          2.434045543325647,
          2.403880157639704,
          0.03765256946608453,
          1.8377105807987792,
          0.53301939652044,
          1.1342383532530143,
          -1.5970316185535793,
          0.9607432447450881,
          0.8285451932643628,
          0,
          3.0579673857142886,
          0.268169671562557,
          0,
          0.12507513747095356,
          0,
          -3.97406423830321,
          1.618495244400564,
          0.5470281418104905,
          -2.4723777830589544,
          -1.4525911603029518,
          2.3523921381696233,
          0.24003117113349237,
          -0.7708923951219471,
          -0.10546460629513588,
          1.9983035428860374,
          0.39357289498025416,
          1.6205774429091546,
          1.313015588165456,
          -5.611825502749435,
          0,
          2.709745393644458,
          0.38990980902593453,
          -1.9096608789403224,
          0.5906110595011338,
          0.6390246189664994,
          -0.49769427105251784,
          -1.3089618379211632,
          1.5958607167861238,
          -0.33787249339655157,
          -0.6100136180490767,
          0.1727580042597987,
          0,
          1.3521484896868108,
          0.8314205104447359,
          1.8413723746262933,
          2.113849255833844,
          0.3522059707797176,
          1.5315854463561651,
          1.4931341237307993,
          1.6118086986273816,
          -1.1674959825204612,
          -1.589429225411243,
          -1.0078973749867992,
          2.040069472424899,
          5.208014860102628,
          3.4405295372563316,
          1.2331805626440095,
          -1.818134007607608,
          -0.8005056358401652,
          -1.720572834473233,
          1.2663896053654478,
          3.637661830900374,
          -1.751129005307983,
          0.4342521924161291,
          -0.8313187078680784,
          2.3689418891667424,
          0.26940988194459337,
          1.0367713085096097,
          -1.4493518903923364,
          1.319450114708487,
          2.833734294159651,
          1.1328383301523859,
          -1.0419329017220313,
          0.8386158286159517,
          2.846659260646245,
          -0.036504962174377376,
          -0.38609936546220025,
          1.8730790272833087,
          -0.3949275364125038,
          -0.03233403076092767,
          2.0166598538525093,
          -2.0802608202462713,
          -0.5462352685365546,
          -1.3968888663066226,
          0.5794460472618557,
          4.185165229366161,
          1.5929967839302783,
          -1.7449660594332395,
          0.6991714946707583,
          1.7424353252990077,
          2.584940954947035,
          0.5117405569749378,
          0.058664511078099224,
          0.6297658032573983,
          2.0550182983872567,
          1.4052622630868372,
          -1.6796253666688243,
          3.2682802557334467,
          -0.5649919080701005,
          0.4611303244993925,
          1.1811740266662873,
          -1.346089306968179,
          -2.912080895893132,
          1.4545961168096255,
          -1.2206079428794592,
          1.2146150389785726,
          -2.44600457586045,
          1.5378631563308653,
          1.077635370099661,
          -4.998702309029312,
          0.5006714698492232,
          2.9132471812849614,
          0.5456416610031489,
          0.3967883027091501,
          -1.3493857481671534,
          0.6483200894281671,
          0.9371464469843493,
          -0.15443315693334236,
          1.8471657380767947,
          2.439709569636195,
          2.294124224931049,
          -0.2772662174575835,
          0.4424001727965532,
          1.733666179246418,
          1.525594720512169,
          0.35387660518202413,
          0,
          0.38338717164514424,
          -1.3180456472913327,
          0.7870843046498432,
          -0.228156564111881,
          -0.7712127957364867,
          4.037505061460411,
          -0.8104279660962943,
          -0.15188518558052477,
          -0.039766978725808144,
          -0.08628993260225704,
          0.00882910120358904,
          -0.4914778420707533,
          1.0367713085096097,
          2.24686485031127,
          -4.811297538338488,
          2.219563937661184,
          0.6470864860959269,
          0.903346147068218,
          -1.1601036637382212,
          1.596352731749695,
          2.009052772974962,
          2.5984117871558965,
          2.3678879561097377,
          1.773627472830852,
          1.2576736465306881,
          1.0084178698504198,
          0.9921838542624073,
          4.39382977966658,
          1.4156195966035678,
          2.741287882934129,
          1.618747507070628,
          0.20218746514775177,
          -1.7911615238191958,
          2.3142445169523906,
          1.5132634960500324,
          0.5942197767527579,
          1.1063532114237828,
          1.2184100400146836,
          0.43812424640623515,
          0.023963177167418692,
          2.3295005038703076,
          1.6803929054445943,
          -0.1336966258434824,
          1.5123884992776393,
          2.83034295892024,
          -0.8235408141804679,
          0,
          -1.2255144711553867,
          1.9525697818578047,
          1.4311912639621172,
          -2.530231875609079,
          2.5720349288987476,
          1.506802638035487,
          1.3573163483521666,
          -2.545953429096215,
          2.5226695523475673,
          2.247295878144473,
          -0.2347132179480571,
          1.1690466631223417,
          -0.014322995490290147,
          0.7730978504711716,
          0.8553456475020038,
          -0.06784861559049338,
          -0.4983003710012257,
          0.27624631454445936,
          1.336828055766226,
          2.002689772240296,
          0,
          0.5942197767527579,
          0.3723569628024226,
          0.7710592673421335,
          1.3085580546385422,
          0.014505522916419267,
          3.0792254795378726,
          1.1773594280499289,
          2.8782506102042804,
          1.091988331282323,
          -1.6009751257268556,
          1.2971665863442894,
          -2.9247053837380133,
          0.19632802186237974,
          -2.358439044928684,
          1.3740566224150985,
          1.336157221370371,
          1.1514990968368277,
          -0.2719163972056071,
          1.7467746447454635,
          0,
          2.151344155140422,
          3.6217444224005524,
          -0.596314879825377,
          1.0439621075752692,
          1.2130423737222173,
          0.3014758310006638,
          0.26067470160067163,
          3.267428294762209,
          0.6652208906891888,
          1.3390380421791415,
          -1.2220114169664398,
          -0.6290494957597592,
          0.8695397927800386,
          1.4111355654172764,
          0.7472346052487033,
          -0.8162127784070883,
          -1.1319899760602437,
          -1.2252102472020465,
          1.7032491780693437,
          3.192638262512837,
          -0.4870349478026115,
          -0.38132330148710203,
          0.6042610652293945,
          1.456431854175766,
          1.312367389830027,
          1.9400914695894222,
          7.488060315900702,
          2.081779290696595,
          2.2410335653860303,
          -0.501992278583896,
          1.4199341258693376,
          1.905110838458679,
          -1.4970160154365808,
          -0.48150088425858995,
          -1.3891762342335356,
          2.833734294159651,
          1.837896727959798,
          2.887889385210629,
          0.7907465120321255,
          0.31422014442243906,
          0.4399749722943991,
          0.6675561141299191,
          -0.30655585916160577,
          3.5656074166094287,
          3.635447696841476,
          2.1856872365090707,
          3.210272955823723,
          0.9939259885361151,
          1.0797833556281722,
          1.9832568689456487,
          -1.635233847122597,
          0,
          -1.454083432203257,
          0.048749650533208566,
          -1.9572650934875258,
          1.357600976451967,
          -0.12569062308952494,
          0,
          0.9380054932242476,
          1.570153529796725,
          -1.2544106476794714,
          2.9822260957058644,
          1.1071024589499379,
          2.3290166465764317,
          2.355283920768003,
          1.1498917016704135,
          0.11780133772101298,
          -0.9861895567541801,
          1.4052622630868372,
          1.1947672984683466,
          1.9206759562809372,
          0.37248035858623574,
          -0.1615701015737936,
          2.9703697052039235,
          4.030017039327105,
          -0.2189313482201083,
          2.6169945332305655,
          -0.16288220766769168,
          0.740084916556838,
          -0.03010786107724428,
          0.03765256946608453,
          1.3653624890992644,
          -0.19746307003165597,
          -2.7326241284322483,
          1.6682397866950582,
          1.1216470425653435,
          0.3383913259281002,
          1.141057276309554,
          0.8481409125288275,
          -0.34782805614608225,
          -2.981120598567688,
          -4.3879290992746895,
          0,
          -1.3807512855049775,
          -1.6950215889614317,
          1.121731273219595,
          -1.5019886407309002,
          -2.0762778097685564,
          -0.13795153928434223,
          2.849030607431957,
          0.08436240942693018,
          -1.2544106476794714,
          -0.4044653012399757,
          1.2337181062200386,
          -1.9043755269052887,
          -0.5500882340961022,
          0.772595212239402,
          3.4414295722920762,
          1.119655962032784,
          1.172604202748695,
          1.1305392120420255,
          -0.5983876469313865,
          2.5798908608539284,
          -1.341621895787548,
          -0.8242161996514952,
          -2.668771172272566,
          2.6450274513949212,
          -0.4192165774670409,
          0,
          2.272517523143658,
          2.947701327210739,
          0.982471182147937,
          2.833734294159651,
          2.3295005038703076,
          -1.5701523206854695,
          2.883941071898355,
          0,
          -0.5655830489960656,
          2.6450274513949212,
          -1.4239432789762918,
          1.589442831453547,
          1.7502053750328983,
          0,
          1.6601540145320337,
          -4.1254635503329755,
          0.37605090741115177,
          1.023206080981054,
          1.2781109072178332,
          0.4632369742700648,
          2.145549618530085,
          1.1947672984683466,
          1.21437441561425,
          0.4851535385816286,
          0.26768782331225704,
          3.272103454448949,
          1.7566503705850556,
          0,
          1.5212059686698476,
          -0.9852639006740382,
          0.2389025050628213,
          0.6289861636856076,
          0.7364691950598079,
          2.5940364976545283,
          1.3747898304414585,
          -1.882544039223577,
          -0.3503667666546417,
          2.643871049484048,
          -0.9246390446414177,
          1.3787731662568747,
          -1.8486062184665863,
          -0.9558775668996211,
          -0.4132554591959825,
          -0.4704820307785962,
          0.30564530107635157,
          0,
          -0.9076409361527094,
          1.19081070749385,
          3.503211739572021,
          -0.04308641575601069,
          1.396880864675909,
          2.476176305581035,
          1.2569881016638584,
          -0.06289768438566545,
          0.35282222224439774,
          -0.7315785516822215,
          -0.8910667131368677,
          1.964634080962302,
          3.4784325300385444,
          1.5132634960500324,
          1.778615404610906,
          2.347610098845654,
          -0.929649485321149,
          1.4493381635982017,
          1.4351422874298914,
          2.8417414080960546,
          2.8046347496138324,
          1.8271654186887032,
          0.7372712506287904,
          0,
          -2.0702128767595362,
          1.2893978333448963,
          0.44315838395276863,
          4.046249316837369,
          0.3892781829459624,
          -0.7121914436314714,
          -1.4530397527392935,
          -0.34970551674377015,
          3.4784325300385444,
          0,
          3.204157919948303,
          1.6365120188090998,
          0.6632397693316028,
          -0.4930543727623138,
          2.3478905293959684,
          -1.4954947005788477,
          1.1917632603455353,
          1.0918722386630497,
          -0.9029592636213168,
          0,
          -0.841115795945413,
          -1.0047646578541625,
          2.7617348292508836,
          4.719063625740505,
          1.3245638627223055,
          -0.17048422180685474,
          1.8811399884903546,
          2.2068298868869407,
          0.9921838542624073,
          5.693933181019406,
          0.8840199647536462,
          -0.8673507428920924,
          1.4766409118929014,
          0.7521736808035362,
          -3.0862297572716635,
          0.5201984501330692,
          0.8390243336614311,
          2.593700359980722,
          0.2352705254885068,
          0,
          -1.3963663623049127,
          1.8871083678847045,
          0.2760710408798328,
          3.257233337305898,
          1.69836383967501,
          -1.3059499459900037,
          0.3158912826890736,
          2.096414111289935,
          1.2891679035878845,
          1.4301451369828744,
          -1.4983470050849212,
          -1.36018163435625,
          0.12350939399285998,
          0.4353294556653564,
          -1.0602058756587263,
          1.7076989999001313,
          -1.1218500298251333,
          0.8369211921017472,
          -0.07868032722095908,
          0.31660738497569785,
          0.2927044576216842,
          0,
          0.7659484128297755,
          1.2661223440695535,
          -0.8134575718793391,
          -1.1942729266657959,
          -1.2180864557402415,
          0.17257767417291348,
          0.10813952219610456,
          0.22894070476977557,
          2.1115513918825712,
          2.259780966415148,
          -1.138684660203504,
          5.714689970315567,
          -0.25784459982760577,
          0.919667795938861,
          1.1029928102183728,
          -1.2316120191840474,
          0.93593280543669,
          -1.4434467602161827,
          1.075134654674792,
          0.9899917900589195,
          -0.20109758818600554,
          1.1430516141995861,
          1.178731806676625,
          -0.02451930953362158,
          1.5194205621853696,
          -0.24029428693166377,
          0.8597298546506149,
          1.6984217964295611,
          0.6289861636856076,
          0.3416095821836107,
          5.2995825213798975,
          -1.2946750350328107,
          -0.7454067450284096,
          -0.28121734216922656,
          0.6207889964475966,
          1.8038318889358917,
          -3.7812648839165353,
          2.2068298868869407,
          1.970494740155826,
          1.0357777180551198,
          1.1998977303225855,
          1.4699351298514962,
          0.7333806244163243,
          2.5196609764289724,
          -1.4128851815700783,
          -0.9259285613991475,
          -1.7340009241337495,
          0.18792461721677256,
          1.79162936575048,
          0.18359283009294902,
          2.17082871432952,
          4.015070392252951,
          -2.3797375201710436,
          1.667263888040793,
          0.8343595515192925,
          -1.0705963833003262,
          2.464082591260297,
          -0.25784459982760577,
          -0.37767216916040347,
          3.289574005585627,
          -1.1653760964605464,
          -1.3612037254495002,
          0.10701768382803678,
          1.1833310407983078,
          0,
          2.056082788420177,
          3.448139887602175,
          -1.6670042383651884,
          3.913325545273283,
          -0.5984246090523615,
          -0.37820963499209936,
          -1.9646238997954035,
          -0.10859142632689833,
          3.108498941052429,
          -0.5428532680120779,
          0.9011511901716451,
          1.3061172642173435,
          2.9322630642313996,
          0.67061697151094,
          0,
          -0.29101932351698334,
          -0.5438831932144117,
          1.21085042707465,
          1.9833005551794125,
          1.4927749610397223,
          1.3899358380139226,
          1.1915708706748962,
          0,
          -1.386955817568114,
          -1.1856214311141478,
          0.93593280543669,
          2.5784877597335276,
          0,
          0.26685630631340107,
          -0.19145146088669351,
          0,
          -1.6028122502858788,
          1.347892433428921,
          1.5271556227951066,
          0,
          -0.4126125986061657,
          -0.2449680338681426,
          0,
          -0.25784459982760577,
          0.37248035858623574,
          -1.5486272819841607,
          1.319127049105706,
          1.4426101216622689,
          3.79306735138194,
          0.4013025000147552,
          0.03907923922030765,
          -0.9333937662256431,
          1.4931341237307993,
          1.4545961168096255,
          0.20018567905391027,
          1.573551607303103,
          0,
          -0.5621187689559437,
          0.7847479055983708,
          0.8314205104447359,
          0.8314205104447359,
          -0.07805940469033379,
          -0.7025609572172464,
          -0.4265818527877885,
          0,
          -3.093413927068389,
          1.7654665756003718,
          -0.73796302259721,
          0.4116083915645552,
          -1.4514162713729184,
          -2.103487841749463,
          3.944063867756875,
          2.1889994442967575,
          0.39232522729122365,
          1.572659556081124,
          2.5919260675967726,
          1.7961023628745076,
          0,
          0.9625140234732932,
          -0.9476673191032403,
          -1.181140594050245,
          0,
          3.276728372774085,
          0.4790133369616534,
          0.64101709508122,
          4.210789046112695,
          0.7854628407128805,
          2.4837667414144393,
          -1.7009996585320875,
          0.4965202832683424,
          -0.06014785009303969,
          0,
          -0.7989752134075379,
          1.871447940326454,
          -0.5270346414585014,
          -0.5818586417602467,
          2.091815339454306,
          -3.7838096922485964,
          1.681187151171093,
          -2.195064637450961,
          -0.73796302259721,
          1.4298159613020944,
          2.0696913548161167,
          -0.21071515201886992,
          2.297923467275731,
          2.228618850940123,
          1.691789598218385,
          -0.1676361851268071,
          -1.833046614779954,
          2.0859215583249213,
          1.119655962032784,
          1.470317962001011,
          2.543838875680837,
          -0.42584376906880106,
          0.1373478497292524,
          1.3053290882123258,
          0.45475095727482984,
          2.397018021144559,
          0.3126248535736398,
          1.6894777748416523,
          1.3447309515995265,
          1.072517463322309,
          0.9945355319883609,
          0.4061913173918352,
          2.4757023412213863,
          -1.1201719591704573,
          1.267833738686308,
          0.42579594767757634,
          -0.4139150346300524,
          -1.653801238575614,
          -1.0768759050879706,
          1.7467746447454635,
          -0.39872469860012805,
          0.057916665736668094,
          -0.031119778225663364,
          -0.2631165778894662,
          -1.6748541176863307,
          2.3795235442527263,
          1.060782351041123,
          3.8805195115604763,
          -0.17393131184910704,
          1.7467746447454635,
          2.903800173528226,
          0.8420704693034242,
          -0.49175745040799246,
          -1.8755598578203747,
          1.9559328960781386,
          -2.6685867802579977,
          0.39185844558031757,
          -2.1686330321919134,
          0,
          4.536013870742139,
          -1.021522247645279,
          0,
          -1.3563543489654606,
          -1.218763202540929,
          0.7416781020052943,
          -0.4578453489420431,
          2.06463383118598,
          1.1998977303225855,
          -0.7673180737426955,
          1.5068683158750096,
          0.10324351251260744,
          0.5556242283467849,
          0.13220907614299726,
          2.811527414671433,
          1.8883465845287217,
          -1.5686632038713122,
          0.4050384002629803,
          1.2640388006987635,
          1.891647833475063,
          1.0002166242896182,
          -1.3916451861752943,
          -0.23358911795320347,
          -0.3428273701073459,
          -0.4420312254071912,
          2.808631409809559,
          -1.1403312651681263,
          1.2824914670004572,
          3.143213698459668,
          -0.16188259723455278,
          -0.7248165215795743,
          2.3322498715395934,
          0.7601014775349357,
          -0.6214764504881343,
          1.092240104351938,
          0.11685753617025618,
          0.15298053776813259,
          0,
          0.2519849977141275,
          0.4965202832683424,
          0.9994545144173195,
          2.0877184706327157,
          0.7002471327237858,
          1.5154650953740356,
          -2.480058270479324,
          0.1447955708406612,
          -1.4767540861484685,
          -0.3902594270007054,
          1.7140277297372997,
          1.2912002082154261,
          0.8433617707083618,
          0.9395313598272503,
          1.5452438240871613,
          -0.6645823743859691,
          2.0351853478790316,
          1.7871333992752092,
          0,
          -1.0437894223080169,
          2.915567644305228,
          -1.048493539023354,
          2.228644941874691,
          1.506802638035487,
          4.8608875197127865,
          1.5126704894787402,
          0.2927044576216842,
          1.4903999693052006,
          2.802018008092233,
          1.7041481050619867,
          -0.024156099076722004,
          0.676460990434169,
          -3.176296674871959,
          -0.28627207917319986,
          1.9344235257983122,
          -0.28213751635366435,
          2.802018008092233,
          -1.1068054047828846,
          0.435184122719634,
          2.0037305884920142,
          1.6877887059214336,
          1.2435467682307744,
          0,
          -4.783285380429314,
          -1.2497649663536836,
          -0.16210936160080403,
          1.3993915688742087,
          -1.260113873397617,
          -1.237150800030118,
          5.971736509423264,
          -0.10226725030663131,
          -5.152619041784423,
          0.3801931889946264,
          0.24189510613696896,
          1.5162707541894083,
          0.8891461699056968,
          -1.2316120191840474,
          0.4965202832683424,
          -0.5019417320767827,
          1.9251504358139826,
          0,
          5.82962265764706,
          -0.9579803130513764,
          1.456431854175766,
          -2.070991370930897,
          -1.3559625745382498,
          1.5697854519607368,
          1.0025479850952257,
          5.55137862070314,
          3.672042126190367,
          0.7476102107229154,
          -0.32560216857172586,
          2.9322630642313996,
          2.1753930878808836,
          -1.4389080708090751,
          0.9590969204119837,
          -1.5694626856757377,
          1.0367713085096097,
          0.9009437561079192,
          3.186880760680233,
          1.2013374592843906,
          0.5899624203229425,
          -1.112160906714843,
          -1.4845472621754952,
          -0.9803347691197173,
          1.6232461371863405,
          6.116690416744386,
          1.2659857583545708,
          0.6368971273232882,
          0.39185844558031757,
          1.2274774676406697,
          0.771076314086061,
          -0.03010786107724428,
          -2.1073773466482537,
          -1.0446729027177026,
          -0.4107452482285834,
          -0.4230594218928019,
          0.8388701755825734,
          0.4361751287069726,
          2.2428499807612745
         ],
         "xaxis": "x",
         "yaxis": "y"
        },
        {
         "alignmentgroup": "True",
         "boxpoints": "all",
         "customdata": [
          [
           943.510000000002,
           8,
           1
          ],
          [
           576.3299999999945,
           8,
           2
          ],
          [
           -226.0699999999997,
           8,
           3
          ],
          [
           -305.4400000000023,
           8,
           4
          ],
          [
           270.0299999999952,
           6,
           5
          ],
          [
           16.58999999999287,
           10,
           6
          ],
          [
           -41.789999999997235,
           4,
           7
          ],
          [
           -307.70000000000437,
           4,
           8
          ],
          [
           -637.4299999999967,
           4,
           9
          ],
          [
           907.1500000000015,
           4,
           10
          ],
          [
           217,
           4,
           11
          ],
          [
           403.2099999999991,
           2,
           12
          ],
          [
           347.49000000000524,
           6,
           13
          ],
          [
           -1190.9100000000035,
           10,
           14
          ],
          [
           1425.9500000000007,
           6,
           15
          ],
          [
           241.49000000000524,
           8,
           16
          ],
          [
           -250.7300000000032,
           12,
           17
          ],
          [
           362.5899999999965,
           4,
           18
          ],
          [
           0,
           0,
           19
          ],
          [
           205.2200000000048,
           4,
           20
          ],
          [
           -241.87000000000262,
           10,
           21
          ],
          [
           186.5699999999997,
           8,
           22
          ],
          [
           -160.42999999999302,
           10,
           23
          ],
          [
           -167.88999999999942,
           2,
           24
          ],
          [
           12.950000000004366,
           10,
           25
          ],
          [
           -5.529999999995198,
           8,
           26
          ],
          [
           462.51000000000204,
           4,
           27
          ],
          [
           0,
           0,
           28
          ],
          [
           426.38999999999214,
           6,
           29
          ],
          [
           402.6100000000006,
           4,
           30
          ],
          [
           116.87999999999738,
           4,
           31
          ],
          [
           -337.9699999999975,
           8,
           32
          ],
          [
           559.9599999999955,
           4,
           33
          ],
          [
           -529.1500000000087,
           7,
           34
          ],
          [
           182.64999999999782,
           4,
           35
          ],
          [
           578.2599999999984,
           4,
           36
          ],
          [
           633.8800000000083,
           8,
           37
          ],
          [
           601.6399999999958,
           2,
           38
          ],
          [
           401.89000000000306,
           6,
           39
          ],
          [
           405.2599999999984,
           4,
           40
          ],
          [
           286.97000000000116,
           4,
           41
          ],
          [
           353.5699999999997,
           2,
           42
          ],
          [
           225.02000000000407,
           14,
           43
          ],
          [
           -7.38999999999578,
           2,
           44
          ],
          [
           0,
           0,
           45
          ],
          [
           423.97999999999956,
           6,
           46
          ],
          [
           -90.50999999998749,
           12,
           47
          ],
          [
           -116.69000000000233,
           12,
           48
          ],
          [
           683.4400000000023,
           4,
           49
          ],
          [
           -732.9700000000012,
           11,
           50
          ],
          [
           0,
           0,
           51
          ],
          [
           85.60000000000218,
           2,
           52
          ],
          [
           92.18999999999869,
           6,
           53
          ],
          [
           970.869999999999,
           6,
           54
          ],
          [
           -571.5899999999892,
           8,
           55
          ],
          [
           487.07000000000335,
           6,
           56
          ],
          [
           -491.4300000000003,
           9,
           57
          ],
          [
           15.290000000011787,
           8,
           58
          ],
          [
           681.0100000000057,
           4,
           59
          ],
          [
           -309.5,
           8,
           60
          ],
          [
           174.77000000000044,
           4,
           61
          ],
          [
           -14.530000000002474,
           2,
           62
          ],
          [
           231.21999999999753,
           4,
           63
          ],
          [
           -15.67000000000553,
           10,
           64
          ],
          [
           306.50000000000364,
           6,
           65
          ],
          [
           -22.249999999996362,
           6,
           66
          ],
          [
           -274.34999999999854,
           2,
           67
          ],
          [
           110.46999999999389,
           10,
           68
          ],
          [
           89.21000000000276,
           2,
           69
          ],
          [
           299.2099999999991,
           4,
           70
          ],
          [
           -314.34999999999854,
           3,
           71
          ],
          [
           -284.3100000000013,
           6,
           72
          ],
          [
           -394.4799999999959,
           6,
           73
          ],
          [
           357.1899999999914,
           8,
           74
          ],
          [
           211.95999999999913,
           2,
           75
          ],
          [
           835.1599999999999,
           4,
           76
          ],
          [
           153.15000000000873,
           4,
           77
          ],
          [
           1001.8799999999974,
           6,
           78
          ],
          [
           -382.6899999999914,
           8,
           79
          ],
          [
           335.7699999999968,
           2,
           80
          ],
          [
           391.48999999999796,
           8,
           81
          ],
          [
           476.1299999999974,
           6,
           82
          ],
          [
           241.9000000000051,
           4,
           83
          ],
          [
           -377.31000000000495,
           12,
           84
          ],
          [
           507.7699999999968,
           10,
           85
          ],
          [
           -274.34999999999854,
           2,
           86
          ],
          [
           43.210000000002765,
           6,
           87
          ],
          [
           169.04999999999563,
           10,
           88
          ],
          [
           508.46000000000276,
           10,
           89
          ],
          [
           22.989999999990687,
           4,
           90
          ],
          [
           243.95999999999913,
           2,
           91
          ],
          [
           202.29000000000087,
           8,
           92
          ],
          [
           0,
           0,
           93
          ],
          [
           27.050000000010186,
           4,
           94
          ],
          [
           199.83000000000902,
           12,
           95
          ],
          [
           -164.1999999999898,
           6,
           96
          ],
          [
           70.67999999999665,
           4,
           97
          ],
          [
           -155.27000000000407,
           9,
           98
          ],
          [
           -201.4800000000032,
           6,
           99
          ],
          [
           -331.8899999999994,
           5,
           100
          ],
          [
           -335.86999999998807,
           10,
           101
          ],
          [
           583.6800000000003,
           4,
           102
          ],
          [
           -160.11000000000058,
           10,
           103
          ],
          [
           398.9900000000016,
           8,
           104
          ],
          [
           -188.4300000000003,
           2,
           105
          ],
          [
           -364.26000000000204,
           6,
           106
          ],
          [
           199.0500000000029,
           10,
           107
          ],
          [
           773.2499999999964,
           8,
           108
          ],
          [
           -452.0899999999965,
           7,
           109
          ],
          [
           380.5600000000013,
           6,
           110
          ],
          [
           -117.83000000000175,
           4,
           111
          ],
          [
           120.95999999999913,
           4,
           112
          ],
          [
           -143.58000000000902,
           6,
           113
          ],
          [
           -159.98999999999796,
           6,
           114
          ],
          [
           379.7000000000007,
           2,
           115
          ],
          [
           -784.9299999999967,
           8,
           116
          ],
          [
           838.2199999999975,
           2,
           117
          ],
          [
           37.79000000000815,
           6,
           118
          ],
          [
           -321.61000000000786,
           9,
           119
          ],
          [
           -400.820000000007,
           14,
           120
          ],
          [
           0,
           0,
           121
          ],
          [
           -182.3000000000029,
           4,
           122
          ],
          [
           376.97000000000116,
           4,
           123
          ],
          [
           0,
           0,
           124
          ],
          [
           -113.53000000000247,
           2,
           125
          ],
          [
           303.81000000000495,
           4,
           126
          ],
          [
           537.6499999999978,
           8,
           127
          ],
          [
           45.06999999999607,
           2,
           128
          ],
          [
           776.2500000000036,
           12,
           129
          ],
          [
           646.6599999999999,
           2,
           130
          ],
          [
           669.9199999999983,
           6,
           131
          ],
          [
           330.9900000000016,
           2,
           132
          ],
          [
           349.0799999999981,
           2,
           133
          ],
          [
           338.6299999999974,
           8,
           134
          ],
          [
           -183.6900000000096,
           8,
           135
          ],
          [
           728.5999999999985,
           2,
           136
          ],
          [
           133.49000000000524,
           6,
           137
          ],
          [
           -606.810000000005,
           14,
           138
          ],
          [
           57.710000000002765,
           6,
           139
          ],
          [
           -533.2299999999959,
           6,
           140
          ],
          [
           -444.40999999999985,
           6,
           141
          ],
          [
           385.0899999999965,
           6,
           142
          ],
          [
           -180.09000000000378,
           4,
           143
          ],
          [
           -238.37000000000262,
           4,
           144
          ],
          [
           0,
           0,
           145
          ],
          [
           1119.4800000000032,
           4,
           146
          ],
          [
           639.3000000000102,
           6,
           147
          ],
          [
           -172.4900000000016,
           12,
           148
          ],
          [
           795.9200000000019,
           2,
           149
          ],
          [
           0,
           0,
           150
          ],
          [
           643.669999999991,
           10,
           151
          ],
          [
           339.0500000000029,
           4,
           152
          ],
          [
           396.3899999999994,
           4,
           153
          ],
          [
           412.7800000000061,
           4,
           154
          ],
          [
           -446.1299999999974,
           10,
           155
          ],
          [
           0,
           0,
           156
          ],
          [
           176.79000000000087,
           2,
           157
          ],
          [
           1081.439999999995,
           8,
           158
          ],
          [
           -793.1899999999987,
           6,
           159
          ],
          [
           393.7099999999991,
           4,
           160
          ],
          [
           274.65999999999985,
           6,
           161
          ],
          [
           243.15000000000873,
           12,
           162
          ],
          [
           -113.53000000000247,
           2,
           163
          ],
          [
           1202.3500000000022,
           6,
           164
          ],
          [
           -117.2300000000032,
           4,
           165
          ],
          [
           -42.45000000000073,
           4,
           166
          ],
          [
           469.70999999999185,
           14,
           167
          ],
          [
           406.2300000000105,
           4,
           168
          ],
          [
           -525.309999999994,
           10,
           169
          ],
          [
           402.3299999999981,
           4,
           170
          ],
          [
           616.7099999999991,
           6,
           171
          ],
          [
           0,
           0,
           172
          ],
          [
           -78.22000000000116,
           6,
           173
          ],
          [
           0,
           0,
           174
          ],
          [
           32.62999999999738,
           6,
           175
          ],
          [
           270.8199999999997,
           6,
           176
          ],
          [
           441.8899999999994,
           6,
           177
          ],
          [
           -127.62999999999374,
           6,
           178
          ],
          [
           359.02999999999884,
           4,
           179
          ],
          [
           -151.8199999999997,
           10,
           180
          ],
          [
           -101.08000000000175,
           6,
           181
          ],
          [
           617.1399999999994,
           2,
           182
          ],
          [
           308.17000000000553,
           6,
           183
          ],
          [
           -369.7899999999863,
           11,
           184
          ],
          [
           149.40999999999622,
           4,
           185
          ],
          [
           561.869999999999,
           2,
           186
          ],
          [
           552.9099999999889,
           6,
           187
          ],
          [
           8.680000000000291,
           2,
           188
          ],
          [
           423.1100000000006,
           6,
           189
          ],
          [
           124.83999999999651,
           6,
           190
          ],
          [
           259.0600000000013,
           6,
           191
          ],
          [
           -376.0400000000009,
           6,
           192
          ],
          [
           224.57000000000335,
           6,
           193
          ],
          [
           191.95000000000073,
           4,
           194
          ],
          [
           0,
           0,
           195
          ],
          [
           704.7199999999975,
           6,
           196
          ],
          [
           66.30999999999767,
           6,
           197
          ],
          [
           0,
           0,
           198
          ],
          [
           28.88999999999578,
           10,
           199
          ],
          [
           0,
           0,
           200
          ],
          [
           -966.8499999999985,
           10,
           201
          ],
          [
           376.7200000000121,
           10,
           202
          ],
          [
           123.46000000000276,
           4,
           203
          ],
          [
           -585.5299999999988,
           6,
           204
          ],
          [
           -338.0099999999911,
           10,
           205
          ],
          [
           543.6599999999999,
           8,
           206
          ],
          [
           52.29999999999927,
           8,
           207
          ],
          [
           -176.54000000000815,
           10,
           208
          ],
          [
           -33.29000000000087,
           10,
           209
          ],
          [
           458.3500000000058,
           8,
           210
          ],
          [
           92.47999999999593,
           4,
           211
          ],
          [
           374.2400000000016,
           4,
           212
          ],
          [
           303.4300000000003,
           4,
           213
          ],
          [
           -1345.8300000000017,
           8,
           214
          ],
          [
           0,
           0,
           215
          ],
          [
           622.5499999999956,
           10,
           216
          ],
          [
           87.93000000000757,
           6,
           217
          ],
          [
           -444.43000000000757,
           13,
           218
          ],
          [
           133.71000000000276,
           8,
           219
          ],
          [
           147.61000000000058,
           4,
           220
          ],
          [
           -112.48999999999069,
           12,
           221
          ],
          [
           -302.6900000000023,
           6,
           222
          ],
          [
           373.28000000000975,
           12,
           223
          ],
          [
           -81.97000000000116,
           6,
           224
          ],
          [
           -144.70000000000437,
           6,
           225
          ],
          [
           46.56999999999243,
           6,
           226
          ],
          [
           0,
           0,
           227
          ],
          [
           313.0199999999968,
           6,
           228
          ],
          [
           191.9000000000051,
           2,
           229
          ],
          [
           425.2199999999975,
           8,
           230
          ],
          [
           484.40000000000873,
           6,
           231
          ],
          [
           79.46000000000276,
           6,
           232
          ],
          [
           353.5699999999997,
           2,
           233
          ],
          [
           344.619999999999,
           2,
           234
          ],
          [
           371.5999999999949,
           8,
           235
          ],
          [
           -271.5300000000061,
           10,
           236
          ],
          [
           -362.83000000000175,
           12,
           237
          ],
          [
           -234.53999999999724,
           10,
           238
          ],
          [
           471.66999999999825,
           4,
           239
          ],
          [
           1194.5099999999984,
           8,
           240
          ],
          [
           795.8100000000013,
           4,
           241
          ],
          [
           284.92000000000553,
           6,
           242
          ],
          [
           -422.4700000000048,
           8,
           243
          ],
          [
           -184.80999999999767,
           8,
           244
          ],
          [
           -402.0099999999984,
           10,
           245
          ],
          [
           295.34000000000015,
           4,
           246
          ],
          [
           844.9000000000015,
           6,
           247
          ],
          [
           -406.4100000000035,
           10,
           248
          ],
          [
           98.45000000000073,
           8,
           249
          ],
          [
           -188.5899999999965,
           5,
           250
          ],
          [
           547.8300000000017,
           10,
           251
          ],
          [
           65.49000000000524,
           6,
           252
          ],
          [
           239.3299999999981,
           2,
           253
          ],
          [
           -344.72000000000844,
           10,
           254
          ],
          [
           304.18999999999505,
           10,
           255
          ],
          [
           654.1199999999953,
           2,
           256
          ],
          [
           261.4199999999946,
           4,
           257
          ],
          [
           -239.4699999999939,
           6,
           258
          ],
          [
           193.2899999999936,
           4,
           259
          ],
          [
           656.5800000000054,
           6,
           260
          ],
          [
           -3.569999999999709,
           10,
           261
          ],
          [
           -90.87000000000262,
           8,
           262
          ],
          [
           432.4099999999926,
           4,
           263
          ],
          [
           -87.12999999999738,
           13,
           264
          ],
          [
           -17.31999999999971,
           10,
           265
          ],
          [
           461.05999999999403,
           8,
           266
          ],
          [
           -489.49000000000524,
           5,
           267
          ],
          [
           -126.11999999999898,
           2,
           268
          ],
          [
           -322.0699999999997,
           8,
           269
          ],
          [
           128.90000000000146,
           6,
           270
          ],
          [
           968.8700000000026,
           4,
           271
          ],
          [
           368.94999999999345,
           6,
           272
          ],
          [
           -438.34999999998763,
           8,
           273
          ],
          [
           162.04000000000087,
           10,
           274
          ],
          [
           410.1100000000042,
           12,
           275
          ],
          [
           595.5300000000025,
           18,
           276
          ],
          [
           117.57000000000698,
           6,
           277
          ],
          [
           14.889999999992142,
           6,
           278
          ],
          [
           146.36999999999898,
           8,
           279
          ],
          [
           480.6900000000023,
           10,
           280
          ],
          [
           324.40999999999985,
           2,
           281
          ],
          [
           -391.75,
           6,
           282
          ],
          [
           754.4900000000052,
           2,
           283
          ],
          [
           -135.5899999999965,
           12,
           284
          ],
          [
           111.2100000000064,
           10,
           285
          ],
          [
           272.66999999999825,
           2,
           286
          ],
          [
           -311.45000000000437,
           4,
           287
          ],
          [
           -687.0100000000093,
           8,
           288
          ],
          [
           335.7699999999968,
           2,
           289
          ],
          [
           -294.6899999999987,
           16,
           290
          ],
          [
           280.2800000000025,
           6,
           291
          ],
          [
           -568.3600000000079,
           10,
           292
          ],
          [
           354.01000000000204,
           8,
           293
          ],
          [
           249.15999999999985,
           8,
           294
          ],
          [
           -1220.7700000000077,
           12,
           295
          ],
          [
           115.49000000000524,
           6,
           296
          ],
          [
           685.3800000000083,
           8,
           297
          ],
          [
           127.69000000001324,
           6,
           298
          ],
          [
           86.299999999992,
           6,
           299
          ],
          [
           -315.77000000001135,
           14,
           300
          ],
          [
           148.6899999999987,
           6,
           301
          ],
          [
           219.45000000000073,
           6,
           302
          ],
          [
           -36.43000000000393,
           6,
           303
          ],
          [
           427.2699999999968,
           6,
           304
          ],
          [
           565.7999999999993,
           8,
           305
          ],
          [
           530.1700000000019,
           8,
           306
          ],
          [
           -68.18999999999869,
           8,
           307
          ],
          [
           102.43000000000029,
           14,
           308
          ],
          [
           399.91000000000713,
           10,
           309
          ],
          [
           352.22999999999956,
           6,
           310
          ],
          [
           77.7300000000032,
           10,
           311
          ],
          [
           0,
           0,
           312
          ],
          [
           90.91000000000713,
           4,
           313
          ],
          [
           -321.01000000000204,
           10,
           314
          ],
          [
           182.63000000001193,
           6,
           315
          ],
          [
           -54.99000000000524,
           16,
           316
          ],
          [
           -184.6899999999987,
           6,
           317
          ],
          [
           930.4000000000051,
           8,
           318
          ],
          [
           -185.5,
           4,
           319
          ],
          [
           -36.25000000000364,
           4,
           320
          ],
          [
           -7.230000000003201,
           8,
           321
          ],
          [
           -22.689999999995052,
           8,
           322
          ],
          [
           1.6300000000010186,
           8,
           323
          ],
          [
           -108.24999999999272,
           7,
           324
          ],
          [
           239.3299999999981,
           2,
           325
          ],
          [
           535.2099999999991,
           10,
           326
          ],
          [
           -1168.6700000000055,
           12,
           327
          ],
          [
           515.6399999999994,
           4,
           328
          ],
          [
           147.16999999999825,
           6,
           329
          ],
          [
           207.42999999998938,
           10,
           330
          ],
          [
           -268.0699999999997,
           8,
           331
          ],
          [
           367.62999999999374,
           6,
           332
          ],
          [
           463.72999999999956,
           4,
           333
          ],
          [
           603.1300000000083,
           10,
           334
          ],
          [
           547.5900000000001,
           4,
           335
          ],
          [
           406.78999999998996,
           8,
           336
          ],
          [
           290.3000000000029,
           2,
           337
          ],
          [
           232.98000000000684,
           6,
           338
          ],
          [
           228.9499999999971,
           2,
           339
          ],
          [
           1007.7700000000041,
           12,
           340
          ],
          [
           326.9699999999975,
           4,
           341
          ],
          [
           631.6700000000019,
           8,
           342
          ],
          [
           379.3400000000074,
           8,
           343
          ],
          [
           50.08999999998923,
           10,
           344
          ],
          [
           -434.2300000000032,
           8,
           345
          ],
          [
           536.2199999999975,
           4,
           346
          ],
          [
           349.34000000000015,
           2,
           347
          ],
          [
           136.54000000000087,
           2,
           348
          ],
          [
           255.40999999999622,
           4,
           349
          ],
          [
           281.2199999999975,
           8,
           350
          ],
          [
           98.84000000000015,
           8,
           351
          ],
          [
           7.7299999999959255,
           10,
           352
          ],
          [
           537.5900000000038,
           2,
           353
          ],
          [
           387.7300000000032,
           8,
           354
          ],
          [
           -30.86999999999898,
           2,
           355
          ],
          [
           349.0799999999981,
           2,
           356
          ],
          [
           661.6000000000022,
           6,
           357
          ],
          [
           -188.98999999999796,
           6,
           358
          ],
          [
           0,
           0,
           359
          ],
          [
           -283.7699999999968,
           10,
           360
          ],
          [
           453.1899999999987,
           4,
           361
          ],
          [
           329.83000000000175,
           4,
           362
          ],
          [
           -604.9599999999991,
           8,
           363
          ],
          [
           591.6100000000006,
           10,
           364
          ],
          [
           347.5499999999993,
           2,
           365
          ],
          [
           313.5600000000013,
           6,
           366
          ],
          [
           -599.4300000000076,
           7,
           367
          ],
          [
           582.5200000000004,
           8,
           368
          ],
          [
           531.4900000000016,
           12,
           369
          ],
          [
           -54.28000000000611,
           6,
           370
          ],
          [
           286.6399999999994,
           12,
           371
          ],
          [
           -11.829999999998108,
           6,
           372
          ],
          [
           170.0799999999981,
           4,
           373
          ],
          [
           196.5099999999984,
           4,
           374
          ],
          [
           -11.42000000000553,
           8,
           375
          ],
          [
           -113.56999999999971,
           4,
           376
          ],
          [
           63.82999999999811,
           4,
           377
          ],
          [
           307.8999999999978,
           4,
           378
          ],
          [
           454.90999999999985,
           10,
           379
          ],
          [
           0,
           0,
           380
          ],
          [
           136.54000000000087,
           2,
           381
          ],
          [
           85.83999999999651,
           2,
           382
          ],
          [
           178.2099999999955,
           6,
           383
          ],
          [
           301.1999999999971,
           10,
           384
          ],
          [
           5.770000000000437,
           12,
           385
          ],
          [
           707.4399999999914,
           4,
           386
          ],
          [
           275.17000000000553,
           10,
           387
          ],
          [
           673.3700000000026,
           4,
           388
          ],
          [
           262.88999999999214,
           10,
           389
          ],
          [
           -383.42999999999665,
           10,
           390
          ],
          [
           298.5600000000013,
           8,
           391
          ],
          [
           -717.6500000000015,
           8,
           392
          ],
          [
           45.06999999999607,
           2,
           393
          ],
          [
           -553.510000000002,
           6,
           394
          ],
          [
           316.6299999999974,
           4,
           395
          ],
          [
           310.7600000000057,
           14,
           396
          ],
          [
           265.2099999999991,
           4,
           397
          ],
          [
           -65.93999999999869,
           10,
           398
          ],
          [
           403.2099999999991,
           2,
           399
          ],
          [
           0,
           0,
           400
          ],
          [
           498.18000000000757,
           8,
           401
          ],
          [
           836.0499999999993,
           2,
           402
          ],
          [
           -137.09000000000378,
           4,
           403
          ],
          [
           243.3699999999917,
           8,
           404
          ],
          [
           281.0600000000086,
           6,
           405
          ],
          [
           66.59000000000015,
           8,
           406
          ],
          [
           72.40999999999622,
           6,
           407
          ],
          [
           754.2299999999959,
           6,
           408
          ],
          [
           153.34999999999854,
           2,
           409
          ],
          [
           309.830000000009,
           8,
           410
          ],
          [
           -281.7300000000032,
           6,
           411
          ],
          [
           -148.5899999999856,
           10,
           412
          ],
          [
           200.49000000000524,
           6,
           413
          ],
          [
           326.11000000001513,
           6,
           414
          ],
          [
           174.71999999999753,
           10,
           415
          ],
          [
           -188.4300000000003,
           2,
           416
          ],
          [
           -264.29000000000815,
           8,
           417
          ],
          [
           -282.2299999999959,
           3,
           418
          ],
          [
           394.7099999999955,
           8,
           419
          ],
          [
           737.0300000000025,
           2,
           420
          ],
          [
           -111.41000000000349,
           4,
           421
          ],
          [
           -87.27000000001135,
           10,
           422
          ],
          [
           159.70999999999913,
           8,
           423
          ],
          [
           336.6800000000003,
           4,
           424
          ],
          [
           302.69000000000597,
           6,
           425
          ],
          [
           447.88000000000466,
           2,
           426
          ],
          [
           1708.0600000000013,
           4,
           427
          ],
          [
           494.11999999998807,
           12,
           428
          ],
          [
           516.560000000005,
           6,
           429
          ],
          [
           -119.25000000000364,
           6,
           430
          ],
          [
           327.60999999999694,
           4,
           431
          ],
          [
           439.8899999999994,
           4,
           432
          ],
          [
           -353.76999999999316,
           6,
           433
          ],
          [
           -107.69999999999709,
           6,
           434
          ],
          [
           -334.86999999999534,
           6,
           435
          ],
          [
           654.1199999999953,
           2,
           436
          ],
          [
           424.65999999999985,
           6,
           437
          ],
          [
           665.3400000000001,
           6,
           438
          ],
          [
           184.09999999999127,
           10,
           439
          ],
          [
           74.21999999999753,
           6,
           440
          ],
          [
           101.35000000000582,
           6,
           441
          ],
          [
           152.38999999999578,
           4,
           442
          ],
          [
           -61.32999999999447,
           10,
           443
          ],
          [
           830.3300000000017,
           6,
           444
          ],
          [
           838.2199999999975,
           2,
           445
          ],
          [
           503.21000000000276,
           6,
           446
          ],
          [
           744.0299999999916,
           6,
           447
          ],
          [
           228.0300000000061,
           8,
           448
          ],
          [
           252.10000000000218,
           6,
           449
          ],
          [
           456.8399999999965,
           4,
           450
          ],
          [
           -380.34999999999854,
           8,
           451
          ],
          [
           0,
           0,
           452
          ],
          [
           -339.1100000000006,
           14,
           453
          ],
          [
           9.120000000006257,
           6,
           454
          ],
          [
           -464.88000000000466,
           8,
           455
          ],
          [
           312.70999999999185,
           8,
           456
          ],
          [
           -30.250000000003638,
           6,
           457
          ],
          [
           0,
           0,
           458
          ],
          [
           218.19000000000233,
           4,
           459
          ],
          [
           360.99999999999636,
           8,
           460
          ],
          [
           -289.6900000000023,
           2,
           461
          ],
          [
           688.0799999999945,
           4,
           462
          ],
          [
           256.7800000000061,
           10,
           463
          ],
          [
           538.6100000000079,
           4,
           464
          ],
          [
           545.5900000000038,
           6,
           465
          ],
          [
           265.87999999999374,
           6,
           466
          ],
          [
           22.840000000003783,
           6,
           467
          ],
          [
           -226.15000000000146,
           5,
           468
          ],
          [
           324.40999999999985,
           2,
           469
          ],
          [
           275.81000000000495,
           2,
           470
          ],
          [
           442.8799999999974,
           2,
           471
          ],
          [
           85.60000000000218,
           2,
           472
          ],
          [
           -37.36000000000058,
           2,
           473
          ],
          [
           686.4099999999962,
           4,
           474
          ],
          [
           930.1800000000003,
           2,
           475
          ],
          [
           -50.56999999999607,
           2,
           476
          ],
          [
           605.5499999999993,
           8,
           477
          ],
          [
           -37.250000000007276,
           12,
           478
          ],
          [
           169.2599999999984,
           4,
           479
          ],
          [
           -7.38999999999578,
           2,
           480
          ],
          [
           8.680000000000291,
           2,
           481
          ],
          [
           312.5500000000029,
           6,
           482
          ],
          [
           -42.84999999999127,
           10,
           483
          ],
          [
           -649.6300000000047,
           12,
           484
          ],
          [
           385.64000000000306,
           4,
           485
          ],
          [
           256.0499999999993,
           4,
           486
          ],
          [
           75.9900000000016,
           4,
           487
          ],
          [
           263.4200000000019,
           2,
           488
          ],
          [
           196.16999999999825,
           4,
           489
          ],
          [
           -80.30000000000291,
           2,
           490
          ],
          [
           -701.1099999999933,
           14,
           491
          ],
          [
           -1040.9900000000052,
           12,
           492
          ],
          [
           0,
           0,
           493
          ],
          [
           -322.1399999999994,
           8,
           494
          ],
          [
           -390.47000000000116,
           8,
           495
          ],
          [
           261.7099999999955,
           4,
           496
          ],
          [
           -355.2699999999968,
           10,
           497
          ],
          [
           -514.119999999999,
           12,
           498
          ],
          [
           -31.55999999999767,
           6,
           499
          ],
          [
           659.5200000000004,
           4,
           500
          ],
          [
           12.310000000004948,
           10,
           501
          ],
          [
           -289.6900000000023,
           2,
           502
          ],
          [
           -94.02000000000407,
           4,
           503
          ],
          [
           285.17999999999665,
           6,
           504
          ],
          [
           -450.33000000000175,
           10,
           505
          ],
          [
           -130.38000000000102,
           10,
           506
          ],
          [
           176.9900000000016,
           6,
           507
          ],
          [
           798.7999999999956,
           10,
           508
          ],
          [
           258.47999999999956,
           2,
           509
          ],
          [
           270.65999999999985,
           4,
           510
          ],
          [
           278.3700000000026,
           4,
           511
          ],
          [
           -159.88999999999214,
           4,
           512
          ],
          [
           606.4499999999935,
           6,
           513
          ],
          [
           -311.5499999999993,
           4,
           514
          ],
          [
           -189.15000000000146,
           10,
           515
          ],
          [
           -656.2899999999972,
           6,
           516
          ],
          [
           610.6100000000006,
           2,
           517
          ],
          [
           -99.18999999999869,
           8,
           518
          ],
          [
           0,
           0,
           519
          ],
          [
           525.8600000000042,
           6,
           520
          ],
          [
           689.3700000000026,
           6,
           521
          ],
          [
           226.5200000000077,
           4,
           522
          ],
          [
           654.1199999999953,
           2,
           523
          ],
          [
           537.5900000000038,
           2,
           524
          ],
          [
           -366.93000000000393,
           8,
           525
          ],
          [
           666.359999999997,
           10,
           526
          ],
          [
           0,
           0,
           527
          ],
          [
           -127.7100000000064,
           8,
           528
          ],
          [
           610.6100000000006,
           2,
           529
          ],
          [
           -329.2700000000041,
           6,
           530
          ],
          [
           368.22999999999956,
           6,
           531
          ],
          [
           403.26000000000204,
           4,
           532
          ],
          [
           0,
           0,
           533
          ],
          [
           386.61999999999534,
           4,
           534
          ],
          [
           -977.5700000000033,
           14,
           535
          ],
          [
           82.88000000000466,
           6,
           536
          ],
          [
           235.79999999999563,
           6,
           537
          ],
          [
           295.18000000000393,
           4,
           538
          ],
          [
           106.12999999999738,
           8,
           539
          ],
          [
           497.49000000000524,
           4,
           540
          ],
          [
           275.81000000000495,
           2,
           541
          ],
          [
           275.6800000000003,
           10,
           542
          ],
          [
           113.5299999999952,
           4,
           543
          ],
          [
           59.599999999998545,
           8,
           544
          ],
          [
           763.2500000000073,
           8,
           545
          ],
          [
           402.29999999999563,
           6,
           546
          ],
          [
           0,
           0,
           547
          ],
          [
           352.21000000000276,
           6,
           548
          ],
          [
           -228.6099999999933,
           4,
           549
          ],
          [
           55.19000000000233,
           6,
           550
          ],
          [
           145.01000000000204,
           2,
           551
          ],
          [
           169.65999999999258,
           10,
           552
          ],
          [
           595.1700000000019,
           6,
           553
          ],
          [
           317.3600000000042,
           4,
           554
          ],
          [
           -442.56999999999607,
           4,
           555
          ],
          [
           -79.54999999999563,
           6,
           556
          ],
          [
           617.1299999999937,
           12,
           557
          ],
          [
           -214.16999999999825,
           4,
           558
          ],
          [
           319.43000000000393,
           8,
           559
          ],
          [
           -433.75,
           14,
           560
          ],
          [
           -224.0500000000029,
           6,
           561
          ],
          [
           -104.91000000000349,
           8,
           562
          ],
          [
           -114.84999999999854,
           14,
           563
          ],
          [
           71.35000000000218,
           4,
           564
          ],
          [
           0,
           0,
           565
          ],
          [
           -209.54000000000087,
           2,
           566
          ],
          [
           275.0500000000029,
           4,
           567
          ],
          [
           802.650000000016,
           10,
           568
          ],
          [
           -10.789999999997235,
           4,
           569
          ],
          [
           322.4699999999975,
           2,
           570
          ],
          [
           569.9099999999962,
           6,
           571
          ],
          [
           290.75000000000364,
           4,
           572
          ],
          [
           -14.530000000002474,
           2,
           573
          ],
          [
           90.2899999999936,
           6,
           574
          ],
          [
           -168.36999999999534,
           4,
           575
          ],
          [
           -207.6099999999933,
           8,
           576
          ],
          [
           455.97000000000116,
           4,
           577
          ],
          [
           802.9200000000019,
           2,
           578
          ],
          [
           349.34000000000015,
           2,
           579
          ],
          [
           412.4300000000003,
           10,
           580
          ],
          [
           542.4199999999983,
           4,
           581
          ],
          [
           -213.65999999999622,
           12,
           582
          ],
          [
           347.0099999999984,
           8,
           583
          ],
          [
           331.2000000000007,
           6,
           584
          ],
          [
           649.2099999999991,
           8,
           585
          ],
          [
           646.390000000003,
           2,
           586
          ],
          [
           422.3600000000042,
           6,
           587
          ],
          [
           172.68000000000393,
           8,
           588
          ],
          [
           0,
           0,
           589
          ],
          [
           -512.3900000000067,
           16,
           590
          ],
          [
           297.85999999999694,
           6,
           591
          ],
          [
           102.88000000001193,
           8,
           592
          ],
          [
           925.0800000000017,
           4,
           593
          ],
          [
           93.34999999999854,
           7,
           594
          ],
          [
           -159.65000000000146,
           9,
           595
          ],
          [
           -338.22999999998865,
           10,
           596
          ],
          [
           -107.93999999999505,
           6,
           597
          ],
          [
           802.9200000000019,
           2,
           598
          ],
          [
           0,
           0,
           599
          ],
          [
           735.7799999999988,
           8,
           600
          ],
          [
           378.4500000000007,
           6,
           601
          ],
          [
           151.5199999999968,
           6,
           602
          ],
          [
           -114.25,
           2,
           603
          ],
          [
           557.5400000000009,
           8,
           604
          ],
          [
           -346.82999999999447,
           8,
           605
          ],
          [
           275.119999999999,
           2,
           606
          ],
          [
           249.79000000000087,
           6,
           607
          ],
          [
           -207.92999999999665,
           4,
           608
          ],
          [
           0,
           0,
           609
          ],
          [
           -198.22000000000116,
           8,
           610
          ],
          [
           -233.02999999999156,
           8,
           611
          ],
          [
           636.4000000000051,
           4,
           612
          ],
          [
           1086.1699999999983,
           6,
           613
          ],
          [
           304.5899999999965,
           6,
           614
          ],
          [
           -49.75,
           4,
           615
          ],
          [
           430.1700000000019,
           6,
           616
          ],
          [
           509.13000000000466,
           2,
           617
          ],
          [
           228.9499999999971,
           2,
           618
          ],
          [
           1301.0099999999948,
           10,
           619
          ],
          [
           201.81000000000495,
           4,
           620
          ],
          [
           -200.84000000000015,
           4,
           621
          ],
          [
           341.1800000000003,
           4,
           622
          ],
          [
           173.84999999999854,
           8,
           623
          ],
          [
           -731.3000000000029,
           10,
           624
          ],
          [
           119.40999999999258,
           6,
           625
          ],
          [
           193.8299999999981,
           10,
           626
          ],
          [
           599.0300000000061,
           12,
           627
          ],
          [
           46.749999999992724,
           8,
           628
          ],
          [
           0,
           0,
           629
          ],
          [
           -328.00999999999476,
           10,
           630
          ],
          [
           431.22000000000116,
           6,
           631
          ],
          [
           69.38999999999942,
           8,
           632
          ],
          [
           760.010000000002,
           10,
           633
          ],
          [
           390.43000000000757,
           4,
           634
          ],
          [
           -300.8899999999994,
           4,
           635
          ],
          [
           75.70999999999913,
           8,
           636
          ],
          [
           484.54000000000815,
           6,
           637
          ],
          [
           298.4900000000016,
           8,
           638
          ],
          [
           330.1100000000042,
           10,
           639
          ],
          [
           -347.1100000000006,
           8,
           640
          ],
          [
           -314.34999999999854,
           3,
           641
          ],
          [
           22.989999999990687,
           4,
           642
          ],
          [
           96.96999999999389,
           6,
           643
          ],
          [
           -245.02999999999884,
           4,
           644
          ],
          [
           388.5,
           4,
           645
          ],
          [
           -255.19000000000233,
           8,
           646
          ],
          [
           195.3500000000131,
           6,
           647
          ],
          [
           -28.400000000005093,
           10,
           648
          ],
          [
           70.46999999999753,
           8,
           649
          ],
          [
           67.56000000000131,
           2,
           650
          ],
          [
           0,
           0,
           651
          ],
          [
           176.79000000000087,
           2,
           652
          ],
          [
           292.6699999999946,
           4,
           653
          ],
          [
           -201.5799999999981,
           6,
           654
          ],
          [
           -275.3299999999872,
           12,
           655
          ],
          [
           -280.1100000000006,
           4,
           656
          ],
          [
           39.01000000000931,
           6,
           657
          ],
          [
           22.999999999996362,
           6,
           658
          ],
          [
           50.54000000000087,
           4,
           659
          ],
          [
           485.5900000000038,
           10,
           660
          ],
          [
           520.3800000000047,
           10,
           661
          ],
          [
           -290.6099999999933,
           6,
           662
          ],
          [
           1315.180000000004,
           6,
           663
          ],
          [
           -59.62000000000262,
           2,
           664
          ],
          [
           211.4399999999987,
           4,
           665
          ],
          [
           254.72000000000844,
           6,
           666
          ],
          [
           -286.5900000000038,
           4,
           667
          ],
          [
           213.87000000000262,
           2,
           668
          ],
          [
           -338.5500000000029,
           6,
           669
          ],
          [
           250.63999999999942,
           8,
           670
          ],
          [
           225.88999999999942,
           6,
           671
          ],
          [
           -46.92999999999665,
           8,
           672
          ],
          [
           263.84999999999854,
           4,
           673
          ],
          [
           272.25,
           4,
           674
          ],
          [
           -5.430000000000291,
           10,
           675
          ],
          [
           363.32999999999083,
           6,
           676
          ],
          [
           -52.67000000000189,
           6,
           677
          ],
          [
           198.84999999999854,
           6,
           678
          ],
          [
           391.29999999999563,
           8,
           679
          ],
          [
           145.01000000000204,
           2,
           680
          ],
          [
           75.34999999999854,
           6,
           681
          ],
          [
           1220.7800000000025,
           2,
           682
          ],
          [
           -303.0699999999997,
           12,
           683
          ],
          [
           -169.3399999999965,
           6,
           684
          ],
          [
           -64.98999999999796,
           10,
           685
          ],
          [
           162.52999999999884,
           6,
           686
          ],
          [
           415.50000000000364,
           12,
           687
          ],
          [
           -922.0699999999997,
           10,
           688
          ],
          [
           509.13000000000466,
           2,
           689
          ],
          [
           454.32000000000335,
           6,
           690
          ],
          [
           239.87000000000262,
           4,
           691
          ],
          [
           276.9500000000007,
           2,
           692
          ],
          [
           339.34000000000015,
           2,
           693
          ],
          [
           169.59000000000378,
           10,
           694
          ],
          [
           580.7299999999959,
           6,
           695
          ],
          [
           -329.48999999999796,
           6,
           696
          ],
          [
           -214.49000000000524,
           11,
           697
          ],
          [
           -412.81999999999243,
           10,
           698
          ],
          [
           49.69999999999709,
           8,
           699
          ],
          [
           417.3200000000106,
           10,
           700
          ],
          [
           42.31999999999971,
           4,
           701
          ],
          [
           501.15000000000873,
           4,
           702
          ],
          [
           926.640000000003,
           4,
           703
          ],
          [
           -562.5500000000102,
           6,
           704
          ],
          [
           382.5599999999977,
           6,
           705
          ],
          [
           191.67999999999665,
           6,
           706
          ],
          [
           -247.11000000000058,
           4,
           707
          ],
          [
           571.2299999999996,
           10,
           708
          ],
          [
           -59.62000000000262,
           2,
           709
          ],
          [
           -91.00000000000728,
           10,
           710
          ],
          [
           758.0299999999988,
           8,
           711
          ],
          [
           -275.42999999999665,
           6,
           712
          ],
          [
           -320.0300000000134,
           10,
           713
          ],
          [
           27.94999999999345,
           6,
           714
          ],
          [
           272.0900000000038,
           6,
           715
          ],
          [
           0,
           0,
           716
          ],
          [
           474.5899999999965,
           6,
           717
          ],
          [
           795.9200000000019,
           2,
           718
          ],
          [
           -386.66999999999825,
           7,
           719
          ],
          [
           906.5900000000038,
           10,
           720
          ],
          [
           -135.8499999999949,
           6,
           721
          ],
          [
           -85.53000000000247,
           8,
           722
          ],
          [
           -471.8700000000026,
           14,
           723
          ],
          [
           -24.93000000000393,
           8,
           724
          ],
          [
           717.2299999999959,
           4,
           725
          ],
          [
           -125.83000000000175,
           4,
           726
          ],
          [
           204.84999999999854,
           12,
           727
          ],
          [
           299.6900000000023,
           4,
           728
          ],
          [
           676.9199999999983,
           2,
           729
          ],
          [
           153.65999999999985,
           4,
           730
          ],
          [
           0,
           0,
           731
          ],
          [
           -68.48999999999432,
           4,
           732
          ],
          [
           -128.1600000000035,
           4,
           733
          ],
          [
           299.3600000000006,
           10,
           734
          ],
          [
           456.3700000000026,
           2,
           735
          ],
          [
           344.95000000000437,
           4,
           736
          ],
          [
           322.46000000000276,
           4,
           737
          ],
          [
           275.0400000000009,
           2,
           738
          ],
          [
           0,
           0,
           739
          ],
          [
           -323.2099999999991,
           6,
           740
          ],
          [
           -274.34999999999854,
           2,
           741
          ],
          [
           213.87000000000262,
           2,
           742
          ],
          [
           593.7399999999943,
           8,
           743
          ],
          [
           0,
           0,
           744
          ],
          [
           66.6900000000096,
           9,
           745
          ],
          [
           -43.36000000000058,
           8,
           746
          ],
          [
           0,
           0,
           747
          ],
          [
           -373.95000000001164,
           8,
           748
          ],
          [
           313.29000000000815,
           8,
           749
          ],
          [
           353.82000000000335,
           8,
           750
          ],
          [
           0,
           0,
           751
          ],
          [
           -95.71999999999389,
           8,
           752
          ],
          [
           -76.15999999999985,
           4,
           753
          ],
          [
           0,
           0,
           754
          ],
          [
           -59.62000000000262,
           2,
           755
          ],
          [
           85.60000000000218,
           2,
           756
          ],
          [
           -359.929999999993,
           10,
           757
          ],
          [
           304.62000000000626,
           4,
           758
          ],
          [
           334.5200000000041,
           4,
           759
          ],
          [
           875.3999999999978,
           2,
           760
          ],
          [
           87.2300000000032,
           14,
           761
          ],
          [
           9.439999999995052,
           8,
           762
          ],
          [
           -215.24999999999636,
           4,
           763
          ],
          [
           344.619999999999,
           2,
           764
          ],
          [
           335.7699999999968,
           2,
           765
          ],
          [
           46.179999999993015,
           4,
           766
          ],
          [
           364.9700000000048,
           4,
           767
          ],
          [
           0,
           0,
           768
          ],
          [
           -126.20000000000437,
           10,
           769
          ],
          [
           179.0099999999984,
           10,
           770
          ],
          [
           191.9000000000051,
           2,
           771
          ],
          [
           191.9000000000051,
           2,
           772
          ],
          [
           -15.209999999999127,
           7,
           773
          ],
          [
           -161.61000000000058,
           4,
           774
          ],
          [
           -102.57000000000698,
           16,
           775
          ],
          [
           0,
           0,
           776
          ],
          [
           -735.6500000000087,
           6,
           777
          ],
          [
           405.70000000000437,
           8,
           778
          ],
          [
           -170.65000000000146,
           2,
           779
          ],
          [
           92.25,
           10,
           780
          ],
          [
           -337.15000000000146,
           8,
           781
          ],
          [
           -502.0099999999984,
           12,
           782
          ],
          [
           902.4500000000044,
           10,
           783
          ],
          [
           504.7199999999939,
           6,
           784
          ],
          [
           88.39999999999782,
           4,
           785
          ],
          [
           363,
           2,
           786
          ],
          [
           599.3999999999942,
           4,
           787
          ],
          [
           414.49999999999636,
           4,
           788
          ],
          [
           0,
           0,
           789
          ],
          [
           222.17000000000553,
           2,
           790
          ],
          [
           -216.9100000000035,
           9,
           791
          ],
          [
           -272.8299999999763,
           12,
           792
          ],
          [
           0,
           0,
           793
          ],
          [
           752.1899999999987,
           4,
           794
          ],
          [
           103.02999999999884,
           19,
           795
          ],
          [
           146.11000000000786,
           8,
           796
          ],
          [
           968.3999999999905,
           8,
           797
          ],
          [
           181.39999999999782,
           4,
           798
          ],
          [
           573.0299999999952,
           4,
           799
          ],
          [
           -407.0099999999802,
           20,
           800
          ],
          [
           113.14000000000306,
           2,
           801
          ],
          [
           -5.97000000000844,
           10,
           802
          ],
          [
           0,
           0,
           803
          ],
          [
           -184.79000000000087,
           6,
           804
          ],
          [
           433.5500000000029,
           6,
           805
          ],
          [
           -121.13000000000102,
           4,
           806
          ],
          [
           -148.88999999999578,
           6,
           807
          ],
          [
           485.2199999999939,
           4,
           808
          ],
          [
           -894.3500000000058,
           8,
           809
          ],
          [
           387.3800000000083,
           8,
           810
          ],
          [
           -524.1699999999983,
           8,
           811
          ],
          [
           -170.65000000000146,
           2,
           812
          ],
          [
           331.51000000000204,
           6,
           813
          ],
          [
           478.28000000000975,
           8,
           814
          ],
          [
           -47.79000000000087,
           6,
           815
          ],
          [
           528.4500000000007,
           10,
           816
          ],
          [
           514.9600000000028,
           6,
           817
          ],
          [
           390.8900000000067,
           6,
           818
          ],
          [
           -39.79000000000451,
           4,
           819
          ],
          [
           -439.36999999999534,
           6,
           820
          ],
          [
           480.5199999999968,
           4,
           821
          ],
          [
           258.47999999999956,
           2,
           822
          ],
          [
           339.2599999999984,
           2,
           823
          ],
          [
           587.2199999999939,
           4,
           824
          ],
          [
           -98.30999999999767,
           2,
           825
          ],
          [
           33.86999999999898,
           6,
           826
          ],
          [
           301.57000000000335,
           4,
           827
          ],
          [
           106.69000000000233,
           4,
           828
          ],
          [
           554.8300000000017,
           8,
           829
          ],
          [
           71.17000000000189,
           10,
           830
          ],
          [
           391.2599999999984,
           6,
           831
          ],
          [
           310.40999999999985,
           4,
           832
          ],
          [
           248.26000000000204,
           4,
           833
          ],
          [
           229.59000000000015,
           6,
           834
          ],
          [
           93.31000000000495,
           4,
           835
          ],
          [
           571.9799999999996,
           4,
           836
          ],
          [
           -271.99999999999636,
           6,
           837
          ],
          [
           292.2599999999984,
           4,
           838
          ],
          [
           97.58999999999287,
           8,
           839
          ],
          [
           -89.08000000000175,
           6,
           840
          ],
          [
           -414.06999999999607,
           8,
           841
          ],
          [
           -265.1599999999926,
           8,
           842
          ],
          [
           403.2099999999991,
           2,
           843
          ],
          [
           -92.06999999999971,
           4,
           844
          ],
          [
           14.349999999998545,
           4,
           845
          ],
          [
           -7.1599999999998545,
           4,
           846
          ],
          [
           -65.21000000001004,
           12,
           847
          ],
          [
           -391.92000000000553,
           4,
           848
          ],
          [
           549.0599999999977,
           2,
           849
          ],
          [
           244.25,
           6,
           850
          ],
          [
           893.25,
           6,
           851
          ],
          [
           -36.310000000012224,
           9,
           852
          ],
          [
           403.2099999999991,
           2,
           853
          ],
          [
           670.2400000000016,
           4,
           854
          ],
          [
           192.91999999999825,
           4,
           855
          ],
          [
           -113.53000000000247,
           2,
           856
          ],
          [
           -439.17000000000553,
           8,
           857
          ],
          [
           451.6000000000058,
           4,
           858
          ],
          [
           -626.8700000000026,
           12,
           859
          ],
          [
           89.21000000000276,
           2,
           860
          ],
          [
           -502.3099999999831,
           15,
           861
          ],
          [
           0,
           0,
           862
          ],
          [
           1047.920000000002,
           6,
           863
          ],
          [
           -237.75,
           8,
           864
          ],
          [
           0,
           0,
           865
          ],
          [
           -317.20000000000437,
           2,
           866
          ],
          [
           -282.52999999999884,
           4,
           867
          ],
          [
           171.17000000000553,
           4,
           868
          ],
          [
           -101.18999999999505,
           6,
           869
          ],
          [
           476.32000000000335,
           10,
           870
          ],
          [
           276.9500000000007,
           2,
           871
          ],
          [
           -175.1800000000003,
           6,
           872
          ],
          [
           347.8700000000026,
           2,
           873
          ],
          [
           14.910000000003492,
           10,
           874
          ],
          [
           126.81999999999971,
           6,
           875
          ],
          [
           5.569999999996071,
           12,
           876
          ],
          [
           650.5099999999948,
           10,
           877
          ],
          [
           436.1999999999971,
           6,
           878
          ],
          [
           -364.9300000000003,
           3,
           879
          ],
          [
           93.02000000000407,
           4,
           880
          ],
          [
           292.1000000000058,
           6,
           881
          ],
          [
           433.369999999999,
           6,
           882
          ],
          [
           231.41999999999825,
           6,
           883
          ],
          [
           -336.57000000001426,
           12,
           884
          ],
          [
           -61.169999999994616,
           10,
           885
          ],
          [
           -85.00000000000728,
           6,
           886
          ],
          [
           -102.12000000000262,
           4,
           887
          ],
          [
           646.5400000000009,
           4,
           888
          ],
          [
           -261.3900000000067,
           6,
           889
          ],
          [
           296.2100000000064,
           4,
           890
          ],
          [
           735.4499999999971,
           6,
           891
          ],
          [
           -35.750000000007276,
           8,
           892
          ],
          [
           -167.2699999999968,
           6,
           893
          ],
          [
           540.6299999999974,
           8,
           894
          ],
          [
           174.60000000000218,
           6,
           895
          ],
          [
           -142.79000000000087,
           6,
           896
          ],
          [
           252.97000000000844,
           12,
           897
          ],
          [
           24.790000000000873,
           10,
           898
          ],
          [
           43.92999999998938,
           14,
           899
          ],
          [
           0,
           0,
           900
          ],
          [
           55.15000000000873,
           8,
           901
          ],
          [
           113.14000000000306,
           2,
           902
          ],
          [
           229.38999999999214,
           6,
           903
          ],
          [
           484.52000000000044,
           6,
           904
          ],
          [
           160.4900000000016,
           10,
           905
          ],
          [
           368.9099999999962,
           6,
           906
          ],
          [
           -580.5299999999988,
           8,
           907
          ],
          [
           33.0099999999984,
           4,
           908
          ],
          [
           -344.570000000007,
           10,
           909
          ],
          [
           -89.2699999999968,
           9,
           910
          ],
          [
           394.62999999999374,
           6,
           911
          ],
          [
           297.60999999999694,
           8,
           912
          ],
          [
           193.62000000000262,
           6,
           913
          ],
          [
           217.4900000000016,
           8,
           914
          ],
          [
           355.60999999999694,
           4,
           915
          ],
          [
           -160.1400000000067,
           6,
           916
          ],
          [
           469.0099999999984,
           6,
           917
          ],
          [
           411.2300000000032,
           10,
           918
          ],
          [
           0,
           0,
           919
          ],
          [
           -243.95000000000437,
           8,
           920
          ],
          [
           679.1999999999898,
           8,
           921
          ],
          [
           -241.62000000000262,
           4,
           922
          ],
          [
           512.8799999999937,
           6,
           923
          ],
          [
           347.5499999999993,
           2,
           924
          ],
          [
           1116.7899999999936,
           6,
           925
          ],
          [
           349.00000000000364,
           6,
           926
          ],
          [
           67.56000000000131,
           2,
           927
          ],
          [
           345.4400000000023,
           4,
           928
          ],
          [
           646.6599999999999,
           2,
           929
          ],
          [
           394.0100000000057,
           8,
           930
          ],
          [
           -5.080000000001746,
           4,
           931
          ],
          [
           153.95000000000437,
           8,
           932
          ],
          [
           -756.8899999999994,
           6,
           933
          ],
          [
           -70.86999999999534,
           4,
           934
          ],
          [
           460.5500000000029,
           8,
           935
          ],
          [
           -64.85000000000582,
           4,
           936
          ],
          [
           646.6599999999999,
           2,
           937
          ],
          [
           -255.5899999999965,
           4,
           938
          ],
          [
           98.14999999999054,
           6,
           939
          ],
          [
           462.8400000000038,
           8,
           940
          ],
          [
           385.8100000000013,
           6,
           941
          ],
          [
           287.83000000000175,
           6,
           942
          ],
          [
           0,
           0,
           943
          ],
          [
           -1163.4700000000012,
           6,
           944
          ],
          [
           -288.6999999999971,
           6,
           945
          ],
          [
           -36.59000000000742,
           14,
           946
          ],
          [
           323.03999999999724,
           4,
           947
          ],
          [
           -292.1100000000006,
           8,
           948
          ],
          [
           -288.2099999999991,
           4,
           949
          ],
          [
           1362.5299999999916,
           8,
           950
          ],
          [
           -29.38000000000102,
           6,
           951
          ],
          [
           -1253.669999999991,
           8,
           952
          ],
          [
           87.77000000000407,
           2,
           953
          ],
          [
           52.419999999994616,
           8,
           954
          ],
          [
           355.630000000001,
           12,
           955
          ],
          [
           205.16000000000713,
           4,
           956
          ],
          [
           -286.5900000000038,
           4,
           957
          ],
          [
           113.14000000000306,
           2,
           958
          ],
          [
           -114.15000000000146,
           6,
           959
          ],
          [
           445.67999999999665,
           8,
           960
          ],
          [
           0,
           0,
           961
          ],
          [
           1343.4199999999983,
           2,
           962
          ],
          [
           -218.93000000000757,
           8,
           963
          ],
          [
           336.6800000000003,
           4,
           964
          ],
          [
           -482.45000000000437,
           7,
           965
          ],
          [
           -316.34999999999854,
           6,
           966
          ],
          [
           361.5099999999984,
           4,
           967
          ],
          [
           231.74999999999636,
           4,
           968
          ],
          [
           1272.579999999998,
           4,
           969
          ],
          [
           847.2099999999955,
           4,
           970
          ],
          [
           171.1899999999987,
           6,
           971
          ],
          [
           -68.81999999998516,
           14,
           972
          ],
          [
           676.9199999999983,
           2,
           973
          ],
          [
           504.3899999999994,
           4,
           974
          ],
          [
           -341.1500000000051,
           6,
           975
          ],
          [
           224.95000000000073,
           6,
           976
          ],
          [
           -365.74999999999636,
           10,
           977
          ],
          [
           239.3299999999981,
           2,
           978
          ],
          [
           196.76000000000568,
           8,
           979
          ],
          [
           736.3099999999977,
           10,
           980
          ],
          [
           277.3099999999977,
           2,
           981
          ],
          [
           133.46000000000276,
           4,
           982
          ],
          [
           -255.87000000000262,
           10,
           983
          ],
          [
           -348.0200000000041,
           4,
           984
          ],
          [
           -224.72999999999593,
           5,
           985
          ],
          [
           372.8899999999958,
           8,
           986
          ],
          [
           1393.420000000002,
           4,
           987
          ],
          [
           290.65000000000873,
           12,
           988
          ],
          [
           138.80000000000655,
           4,
           989
          ],
          [
           89.21000000000276,
           2,
           990
          ],
          [
           283.48000000000684,
           4,
           991
          ],
          [
           177.5699999999997,
           8,
           992
          ],
          [
           -7.38999999999578,
           2,
           993
          ],
          [
           -501.84999999999854,
           6,
           994
          ],
          [
           -267.9899999999943,
           4,
           995
          ],
          [
           -99.049999999992,
           8,
           996
          ],
          [
           -100.16999999999825,
           10,
           997
          ],
          [
           190.63000000000102,
           4,
           998
          ],
          [
           100.17000000000553,
           6,
           999
          ],
          [
           517.6100000000079,
           6,
           1000
          ]
         ],
         "fillcolor": "rgba(255,255,255,0)",
         "hoveron": "points",
         "hovertemplate": "model_type=DQN<br>fmt_total_profit_percentage=%{x}<br>total_reward_cash=%{customdata[0]}<br>num_of_trades=%{customdata[1]}<br>sim_id=%{customdata[2]}<extra></extra>",
         "jitter": 0,
         "legendgroup": "DQN",
         "line": {
          "color": "rgba(255,255,255,0)"
         },
         "marker": {
          "color": "#FF7F0E",
          "symbol": "line-ns-open"
         },
         "name": "DQN",
         "offsetgroup": "DQN",
         "showlegend": false,
         "type": "box",
         "x": [
          4.075976422543071,
          2.5117917185374816,
          -0.9910923961838902,
          -1.2978441937090746,
          1.1710262270755223,
          0.037213747159725585,
          -0.17706333488588522,
          -1.3226572596366615,
          -2.5893238519267836,
          3.912324835702252,
          0.9315302946292459,
          1.7467746447454635,
          1.4354494821164687,
          -4.892257461804428,
          6.245918781658388,
          1.058260674680822,
          -1.068252258933633,
          1.570849991961576,
          0,
          0.8875444327212767,
          -1.0486220660086087,
          0.7654526541290174,
          -0.6986854227429284,
          -0.7271511085376825,
          0.054004541222929525,
          -0.0011141513744372666,
          2.003579242830833,
          0,
          1.8593362637814526,
          1.7232791015024729,
          0.5082215326322359,
          -1.4471615751302402,
          2.4326638351098273,
          -2.2462601979316044,
          0.7925979970323072,
          2.494323542177357,
          2.7450444789952178,
          2.6080346721224945,
          1.7375598135004333,
          1.7433327771525287,
          1.2438869543767384,
          1.5315854463561651,
          0.9481633705595627,
          -0.03010786107724428,
          0,
          1.8094883275765916,
          -0.37996115187369783,
          -0.5092971710242256,
          2.9660735281003436,
          -3.0932951608406034,
          0,
          0.37248035858623574,
          0.3917671509834353,
          4.18396895573907,
          -2.423532113697968,
          2.1260305501292764,
          -2.0974825669883734,
          0.06438755735873603,
          2.958641398082329,
          -1.3050897535612616,
          0.761966348027121,
          -0.06289768438566545,
          1.0003780870832202,
          -0.06264628296629438,
          1.3321302990106476,
          -0.09334046960794984,
          -1.1856214311141478,
          0.48889405998866486,
          0.39185844558031757,
          1.295997696865725,
          -1.36018163435625,
          -1.2267784405836757,
          -1.6696007362853593,
          1.5395613454552315,
          0.9184492520944776,
          3.61155285475101,
          0.6734959384159467,
          4.349530031020921,
          -1.6385355865247142,
          1.4545961168096255,
          1.7008034159912366,
          2.0716686813644802,
          1.055399514668176,
          -1.5911907335857012,
          2.191155601561934,
          -1.1856214311141478,
          0.18897628556653334,
          0.7446387132476806,
          2.208290771595478,
          0.12350939399285998,
          1.058679930960893,
          0.8604965225500916,
          0,
          0.11920126392628294,
          0.8548794327268183,
          -0.7180914203556155,
          0.31462372270867345,
          -0.685144822199657,
          -0.8459115723583488,
          -1.4386287367398776,
          -1.4071872406841712,
          2.532893354196153,
          -0.7095078891849793,
          1.7115721557112495,
          -0.8162127784070883,
          -1.5051176544666367,
          0.8666033874113577,
          3.376963547127998,
          -1.9434761227076214,
          1.6471156663792952,
          -0.5348294108333596,
          0.5218011389234833,
          -0.6256127058192451,
          -0.696750544895175,
          1.644811252038858,
          -3.290391195128184,
          3.635447696841476,
          0.17276689252960775,
          -1.384004949615758,
          -1.717911460182564,
          0,
          -0.7922923046642549,
          1.633217908653184,
          0,
          -0.49175745040799246,
          1.3113746300535967,
          2.3166065413145143,
          0.19632802186237974,
          3.3577006626559935,
          2.802018008092233,
          2.905239938274673,
          1.4343776949981235,
          1.5123884992776393,
          1.466718273044454,
          -0.8193229940438362,
          3.156275217189042,
          0.587429920911231,
          -2.5557735991468156,
          0.2738400715338596,
          -2.1541246654044666,
          -1.9058598140844873,
          1.6662770546798988,
          -0.780498442109312,
          -1.040260475575816,
          0,
          4.88866330141331,
          2.776104095866483,
          -0.7413749064316244,
          3.448139887602175,
          0,
          2.750638986013443,
          1.4716793568540387,
          1.721375457997687,
          1.7878539222271783,
          -1.9158048134651495,
          0,
          0.7659484128297755,
          4.610372843482025,
          -3.2252559775080236,
          1.7012002200202492,
          1.1894948867271493,
          1.002893441535746,
          -0.49175745040799246,
          5.232360919542556,
          -0.5113046468748217,
          -0.18367536400452078,
          1.991526341295713,
          1.7573058410036868,
          -2.2082788136744913,
          1.7410220002788135,
          2.662276022590415,
          0,
          -0.3275923831953298,
          0,
          0.150352234404183,
          1.1768516997334721,
          1.9061437460357933,
          -0.5375004087808555,
          1.5574810039439946,
          -0.6609559330143289,
          -0.43497078789540566,
          2.6791396364131304,
          1.3302693946447564,
          -1.6113439534566676,
          0.6525267196219264,
          2.434045543325647,
          2.403880157639704,
          0.03765256946608453,
          1.8377105807987792,
          0.53301939652044,
          1.1342383532530143,
          -1.5970316185535793,
          0.9607432447450881,
          0.8285451932643628,
          0,
          3.0579673857142886,
          0.268169671562557,
          0,
          0.12507513747095356,
          0,
          -3.97406423830321,
          1.618495244400564,
          0.5470281418104905,
          -2.4723777830589544,
          -1.4525911603029518,
          2.3523921381696233,
          0.24003117113349237,
          -0.7708923951219471,
          -0.10546460629513588,
          1.9983035428860374,
          0.39357289498025416,
          1.6205774429091546,
          1.313015588165456,
          -5.611825502749435,
          0,
          2.709745393644458,
          0.38990980902593453,
          -1.9096608789403224,
          0.5906110595011338,
          0.6390246189664994,
          -0.49769427105251784,
          -1.3089618379211632,
          1.5958607167861238,
          -0.33787249339655157,
          -0.6100136180490767,
          0.1727580042597987,
          0,
          1.3521484896868108,
          0.8314205104447359,
          1.8413723746262933,
          2.113849255833844,
          0.3522059707797176,
          1.5315854463561651,
          1.4931341237307993,
          1.6118086986273816,
          -1.1674959825204612,
          -1.589429225411243,
          -1.0078973749867992,
          2.040069472424899,
          5.208014860102628,
          3.4405295372563316,
          1.2331805626440095,
          -1.818134007607608,
          -0.8005056358401652,
          -1.720572834473233,
          1.2663896053654478,
          3.637661830900374,
          -1.751129005307983,
          0.4342521924161291,
          -0.8313187078680784,
          2.3689418891667424,
          0.26940988194459337,
          1.0367713085096097,
          -1.4493518903923364,
          1.319450114708487,
          2.833734294159651,
          1.1328383301523859,
          -1.0419329017220313,
          0.8386158286159517,
          2.846659260646245,
          -0.036504962174377376,
          -0.38609936546220025,
          1.8730790272833087,
          -0.3949275364125038,
          -0.03233403076092767,
          2.0166598538525093,
          -2.0802608202462713,
          -0.5462352685365546,
          -1.3968888663066226,
          0.5794460472618557,
          4.185165229366161,
          1.5929967839302783,
          -1.7449660594332395,
          0.6991714946707583,
          1.7424353252990077,
          2.584940954947035,
          0.5117405569749378,
          0.058664511078099224,
          0.6297658032573983,
          2.0550182983872567,
          1.4052622630868372,
          -1.6796253666688243,
          3.2682802557334467,
          -0.5649919080701005,
          0.4611303244993925,
          1.1811740266662873,
          -1.346089306968179,
          -2.912080895893132,
          1.4545961168096255,
          -1.2206079428794592,
          1.2146150389785726,
          -2.44600457586045,
          1.5378631563308653,
          1.077635370099661,
          -4.998702309029312,
          0.5006714698492232,
          2.9132471812849614,
          0.5456416610031489,
          0.3967883027091501,
          -1.3493857481671534,
          0.6483200894281671,
          0.9371464469843493,
          -0.15443315693334236,
          1.8471657380767947,
          2.439709569636195,
          2.294124224931049,
          -0.2772662174575835,
          0.4424001727965532,
          1.733666179246418,
          1.525594720512169,
          0.35387660518202413,
          0,
          0.38338717164514424,
          -1.3180456472913327,
          0.7870843046498432,
          -0.228156564111881,
          -0.7712127957364867,
          4.037505061460411,
          -0.8104279660962943,
          -0.15188518558052477,
          -0.039766978725808144,
          -0.08628993260225704,
          0.00882910120358904,
          -0.4914778420707533,
          1.0367713085096097,
          2.24686485031127,
          -4.811297538338488,
          2.219563937661184,
          0.6470864860959269,
          0.903346147068218,
          -1.1601036637382212,
          1.596352731749695,
          2.009052772974962,
          2.5984117871558965,
          2.3678879561097377,
          1.773627472830852,
          1.2576736465306881,
          1.0084178698504198,
          0.9921838542624073,
          4.39382977966658,
          1.4156195966035678,
          2.741287882934129,
          1.618747507070628,
          0.20218746514775177,
          -1.7911615238191958,
          2.3142445169523906,
          1.5132634960500324,
          0.5942197767527579,
          1.1063532114237828,
          1.2184100400146836,
          0.43812424640623515,
          0.023963177167418692,
          2.3295005038703076,
          1.6803929054445943,
          -0.1336966258434824,
          1.5123884992776393,
          2.83034295892024,
          -0.8235408141804679,
          0,
          -1.2255144711553867,
          1.9525697818578047,
          1.4311912639621172,
          -2.530231875609079,
          2.5720349288987476,
          1.506802638035487,
          1.3573163483521666,
          -2.545953429096215,
          2.5226695523475673,
          2.247295878144473,
          -0.2347132179480571,
          1.1690466631223417,
          -0.014322995490290147,
          0.7730978504711716,
          0.8553456475020038,
          -0.06784861559049338,
          -0.4983003710012257,
          0.27624631454445936,
          1.336828055766226,
          2.002689772240296,
          0,
          0.5942197767527579,
          0.3723569628024226,
          0.7710592673421335,
          1.3085580546385422,
          0.014505522916419267,
          3.0792254795378726,
          1.1773594280499289,
          2.8782506102042804,
          1.091988331282323,
          -1.6009751257268556,
          1.2971665863442894,
          -2.9247053837380133,
          0.19632802186237974,
          -2.358439044928684,
          1.3740566224150985,
          1.336157221370371,
          1.1514990968368277,
          -0.2719163972056071,
          1.7467746447454635,
          0,
          2.151344155140422,
          3.6217444224005524,
          -0.596314879825377,
          1.0439621075752692,
          1.2130423737222173,
          0.3014758310006638,
          0.26067470160067163,
          3.267428294762209,
          0.6652208906891888,
          1.3390380421791415,
          -1.2220114169664398,
          -0.6290494957597592,
          0.8695397927800386,
          1.4111355654172764,
          0.7472346052487033,
          -0.8162127784070883,
          -1.1319899760602437,
          -1.2252102472020465,
          1.7032491780693437,
          3.192638262512837,
          -0.4870349478026115,
          -0.38132330148710203,
          0.6042610652293945,
          1.456431854175766,
          1.312367389830027,
          1.9400914695894222,
          7.488060315900702,
          2.081779290696595,
          2.2410335653860303,
          -0.501992278583896,
          1.4199341258693376,
          1.905110838458679,
          -1.4970160154365808,
          -0.48150088425858995,
          -1.3891762342335356,
          2.833734294159651,
          1.837896727959798,
          2.887889385210629,
          0.7907465120321255,
          0.31422014442243906,
          0.4399749722943991,
          0.6675561141299191,
          -0.30655585916160577,
          3.5656074166094287,
          3.635447696841476,
          2.1856872365090707,
          3.210272955823723,
          0.9939259885361151,
          1.0797833556281722,
          1.9832568689456487,
          -1.635233847122597,
          0,
          -1.454083432203257,
          0.048749650533208566,
          -1.9572650934875258,
          1.357600976451967,
          -0.12569062308952494,
          0,
          0.9380054932242476,
          1.570153529796725,
          -1.2544106476794714,
          2.9822260957058644,
          1.1071024589499379,
          2.3290166465764317,
          2.355283920768003,
          1.1498917016704135,
          0.11780133772101298,
          -0.9861895567541801,
          1.4052622630868372,
          1.1947672984683466,
          1.9206759562809372,
          0.37248035858623574,
          -0.1615701015737936,
          2.9703697052039235,
          4.030017039327105,
          -0.2189313482201083,
          2.6169945332305655,
          -0.16288220766769168,
          0.740084916556838,
          -0.03010786107724428,
          0.03765256946608453,
          1.3653624890992644,
          -0.19746307003165597,
          -2.7326241284322483,
          1.6682397866950582,
          1.1216470425653435,
          0.3383913259281002,
          1.141057276309554,
          0.8481409125288275,
          -0.34782805614608225,
          -2.981120598567688,
          -4.3879290992746895,
          0,
          -1.3807512855049775,
          -1.6950215889614317,
          1.121731273219595,
          -1.5019886407309002,
          -2.0762778097685564,
          -0.13795153928434223,
          2.849030607431957,
          0.08436240942693018,
          -1.2544106476794714,
          -0.4044653012399757,
          1.2337181062200386,
          -1.9043755269052887,
          -0.5500882340961022,
          0.772595212239402,
          3.4414295722920762,
          1.119655962032784,
          1.172604202748695,
          1.1305392120420255,
          -0.5983876469313865,
          2.5798908608539284,
          -1.341621895787548,
          -0.8242161996514952,
          -2.668771172272566,
          2.6450274513949212,
          -0.4192165774670409,
          0,
          2.272517523143658,
          2.947701327210739,
          0.982471182147937,
          2.833734294159651,
          2.3295005038703076,
          -1.5701523206854695,
          2.883941071898355,
          0,
          -0.5655830489960656,
          2.6450274513949212,
          -1.4239432789762918,
          1.589442831453547,
          1.7502053750328983,
          0,
          1.6601540145320337,
          -4.1254635503329755,
          0.37605090741115177,
          1.023206080981054,
          1.2781109072178332,
          0.4632369742700648,
          2.145549618530085,
          1.1947672984683466,
          1.21437441561425,
          0.4851535385816286,
          0.26768782331225704,
          3.272103454448949,
          1.7566503705850556,
          0,
          1.5212059686698476,
          -0.9852639006740382,
          0.2389025050628213,
          0.6289861636856076,
          0.7364691950598079,
          2.5940364976545283,
          1.3747898304414585,
          -1.882544039223577,
          -0.3503667666546417,
          2.643871049484048,
          -0.9246390446414177,
          1.3787731662568747,
          -1.8486062184665863,
          -0.9558775668996211,
          -0.4132554591959825,
          -0.4704820307785962,
          0.30564530107635157,
          0,
          -0.9076409361527094,
          1.19081070749385,
          3.503211739572021,
          -0.04308641575601069,
          1.396880864675909,
          2.476176305581035,
          1.2569881016638584,
          -0.06289768438566545,
          0.35282222224439774,
          -0.7315785516822215,
          -0.8910667131368677,
          1.964634080962302,
          3.4784325300385444,
          1.5132634960500324,
          1.778615404610906,
          2.347610098845654,
          -0.929649485321149,
          1.4493381635982017,
          1.4351422874298914,
          2.8417414080960546,
          2.8046347496138324,
          1.8271654186887032,
          0.7372712506287904,
          0,
          -2.0702128767595362,
          1.2893978333448963,
          0.44315838395276863,
          4.046249316837369,
          0.3892781829459624,
          -0.7121914436314714,
          -1.4530397527392935,
          -0.34970551674377015,
          3.4784325300385444,
          0,
          3.204157919948303,
          1.6365120188090998,
          0.6632397693316028,
          -0.4930543727623138,
          2.3478905293959684,
          -1.4954947005788477,
          1.1917632603455353,
          1.0918722386630497,
          -0.9029592636213168,
          0,
          -0.841115795945413,
          -1.0047646578541625,
          2.7617348292508836,
          4.719063625740505,
          1.3245638627223055,
          -0.17048422180685474,
          1.8811399884903546,
          2.2068298868869407,
          0.9921838542624073,
          5.693933181019406,
          0.8840199647536462,
          -0.8673507428920924,
          1.4766409118929014,
          0.7521736808035362,
          -3.0862297572716635,
          0.5201984501330692,
          0.8390243336614311,
          2.593700359980722,
          0.2352705254885068,
          0,
          -1.3963663623049127,
          1.8871083678847045,
          0.2760710408798328,
          3.257233337305898,
          1.69836383967501,
          -1.3059499459900037,
          0.3158912826890736,
          2.096414111289935,
          1.2891679035878845,
          1.4301451369828744,
          -1.4983470050849212,
          -1.36018163435625,
          0.12350939399285998,
          0.4353294556653564,
          -1.0602058756587263,
          1.7076989999001313,
          -1.1218500298251333,
          0.8369211921017472,
          -0.07868032722095908,
          0.31660738497569785,
          0.2927044576216842,
          0,
          0.7659484128297755,
          1.2661223440695535,
          -0.8134575718793391,
          -1.1942729266657959,
          -1.2180864557402415,
          0.17257767417291348,
          0.10813952219610456,
          0.22894070476977557,
          2.1115513918825712,
          2.259780966415148,
          -1.138684660203504,
          5.714689970315567,
          -0.25784459982760577,
          0.919667795938861,
          1.1029928102183728,
          -1.2316120191840474,
          0.93593280543669,
          -1.4434467602161827,
          1.075134654674792,
          0.9899917900589195,
          -0.20109758818600554,
          1.1430516141995861,
          1.178731806676625,
          -0.02451930953362158,
          1.5194205621853696,
          -0.24029428693166377,
          0.8597298546506149,
          1.6984217964295611,
          0.6289861636856076,
          0.3416095821836107,
          5.2995825213798975,
          -1.2946750350328107,
          -0.7454067450284096,
          -0.28121734216922656,
          0.6207889964475966,
          1.8038318889358917,
          -3.7812648839165353,
          2.2068298868869407,
          1.970494740155826,
          1.0357777180551198,
          1.1998977303225855,
          1.4699351298514962,
          0.7333806244163243,
          2.5196609764289724,
          -1.4128851815700783,
          -0.9259285613991475,
          -1.7340009241337495,
          0.18792461721677256,
          1.79162936575048,
          0.18359283009294902,
          2.17082871432952,
          4.015070392252951,
          -2.3797375201710436,
          1.667263888040793,
          0.8343595515192925,
          -1.0705963833003262,
          2.464082591260297,
          -0.25784459982760577,
          -0.37767216916040347,
          3.289574005585627,
          -1.1653760964605464,
          -1.3612037254495002,
          0.10701768382803678,
          1.1833310407983078,
          0,
          2.056082788420177,
          3.448139887602175,
          -1.6670042383651884,
          3.913325545273283,
          -0.5984246090523615,
          -0.37820963499209936,
          -1.9646238997954035,
          -0.10859142632689833,
          3.108498941052429,
          -0.5428532680120779,
          0.9011511901716451,
          1.3061172642173435,
          2.9322630642313996,
          0.67061697151094,
          0,
          -0.29101932351698334,
          -0.5438831932144117,
          1.21085042707465,
          1.9833005551794125,
          1.4927749610397223,
          1.3899358380139226,
          1.1915708706748962,
          0,
          -1.386955817568114,
          -1.1856214311141478,
          0.93593280543669,
          2.5784877597335276,
          0,
          0.26685630631340107,
          -0.19145146088669351,
          0,
          -1.6028122502858788,
          1.347892433428921,
          1.5271556227951066,
          0,
          -0.4126125986061657,
          -0.2449680338681426,
          0,
          -0.25784459982760577,
          0.37248035858623574,
          -1.5486272819841607,
          1.319127049105706,
          1.4426101216622689,
          3.79306735138194,
          0.4013025000147552,
          0.03907923922030765,
          -0.9333937662256431,
          1.4931341237307993,
          1.4545961168096255,
          0.20018567905391027,
          1.573551607303103,
          0,
          -0.5621187689559437,
          0.7847479055983708,
          0.8314205104447359,
          0.8314205104447359,
          -0.07805940469033379,
          -0.7025609572172464,
          -0.4265818527877885,
          0,
          -3.093413927068389,
          1.7654665756003718,
          -0.73796302259721,
          0.4116083915645552,
          -1.4514162713729184,
          -2.103487841749463,
          3.944063867756875,
          2.1889994442967575,
          0.39232522729122365,
          1.572659556081124,
          2.5919260675967726,
          1.7961023628745076,
          0,
          0.9625140234732932,
          -0.9476673191032403,
          -1.181140594050245,
          0,
          3.276728372774085,
          0.4790133369616534,
          0.64101709508122,
          4.210789046112695,
          0.7854628407128805,
          2.4837667414144393,
          -1.7009996585320875,
          0.4965202832683424,
          -0.06014785009303969,
          0,
          -0.7989752134075379,
          1.871447940326454,
          -0.5270346414585014,
          -0.5818586417602467,
          2.091815339454306,
          -3.7838096922485964,
          1.681187151171093,
          -2.195064637450961,
          -0.73796302259721,
          1.4298159613020944,
          2.0696913548161167,
          -0.21071515201886992,
          2.297923467275731,
          2.228618850940123,
          1.691789598218385,
          -0.1676361851268071,
          -1.833046614779954,
          2.0859215583249213,
          1.119655962032784,
          1.470317962001011,
          2.543838875680837,
          -0.42584376906880106,
          0.1373478497292524,
          1.3053290882123258,
          0.45475095727482984,
          2.397018021144559,
          0.3126248535736398,
          1.6894777748416523,
          1.3447309515995265,
          1.072517463322309,
          0.9945355319883609,
          0.4061913173918352,
          2.4757023412213863,
          -1.1201719591704573,
          1.267833738686308,
          0.42579594767757634,
          -0.4139150346300524,
          -1.653801238575614,
          -1.0768759050879706,
          1.7467746447454635,
          -0.39872469860012805,
          0.057916665736668094,
          -0.031119778225663364,
          -0.2631165778894662,
          -1.6748541176863307,
          2.3795235442527263,
          1.060782351041123,
          3.8805195115604763,
          -0.17393131184910704,
          1.7467746447454635,
          2.903800173528226,
          0.8420704693034242,
          -0.49175745040799246,
          -1.8755598578203747,
          1.9559328960781386,
          -2.6685867802579977,
          0.39185844558031757,
          -2.1686330321919134,
          0,
          4.536013870742139,
          -1.021522247645279,
          0,
          -1.3563543489654606,
          -1.218763202540929,
          0.7416781020052943,
          -0.4578453489420431,
          2.06463383118598,
          1.1998977303225855,
          -0.7673180737426955,
          1.5068683158750096,
          0.10324351251260744,
          0.5556242283467849,
          0.13220907614299726,
          2.811527414671433,
          1.8883465845287217,
          -1.5686632038713122,
          0.4050384002629803,
          1.2640388006987635,
          1.891647833475063,
          1.0002166242896182,
          -1.3916451861752943,
          -0.23358911795320347,
          -0.3428273701073459,
          -0.4420312254071912,
          2.808631409809559,
          -1.1403312651681263,
          1.2824914670004572,
          3.143213698459668,
          -0.16188259723455278,
          -0.7248165215795743,
          2.3322498715395934,
          0.7601014775349357,
          -0.6214764504881343,
          1.092240104351938,
          0.11685753617025618,
          0.15298053776813259,
          0,
          0.2519849977141275,
          0.4965202832683424,
          0.9994545144173195,
          2.0877184706327157,
          0.7002471327237858,
          1.5154650953740356,
          -2.480058270479324,
          0.1447955708406612,
          -1.4767540861484685,
          -0.3902594270007054,
          1.7140277297372997,
          1.2912002082154261,
          0.8433617707083618,
          0.9395313598272503,
          1.5452438240871613,
          -0.6645823743859691,
          2.0351853478790316,
          1.7871333992752092,
          0,
          -1.0437894223080169,
          2.915567644305228,
          -1.048493539023354,
          2.228644941874691,
          1.506802638035487,
          4.8608875197127865,
          1.5126704894787402,
          0.2927044576216842,
          1.4903999693052006,
          2.802018008092233,
          1.7041481050619867,
          -0.024156099076722004,
          0.676460990434169,
          -3.176296674871959,
          -0.28627207917319986,
          1.9344235257983122,
          -0.28213751635366435,
          2.802018008092233,
          -1.1068054047828846,
          0.435184122719634,
          2.0037305884920142,
          1.6877887059214336,
          1.2435467682307744,
          0,
          -4.783285380429314,
          -1.2497649663536836,
          -0.16210936160080403,
          1.3993915688742087,
          -1.260113873397617,
          -1.237150800030118,
          5.971736509423264,
          -0.10226725030663131,
          -5.152619041784423,
          0.3801931889946264,
          0.24189510613696896,
          1.5162707541894083,
          0.8891461699056968,
          -1.2316120191840474,
          0.4965202832683424,
          -0.5019417320767827,
          1.9251504358139826,
          0,
          5.82962265764706,
          -0.9579803130513764,
          1.456431854175766,
          -2.070991370930897,
          -1.3559625745382498,
          1.5697854519607368,
          1.0025479850952257,
          5.55137862070314,
          3.672042126190367,
          0.7476102107229154,
          -0.32560216857172586,
          2.9322630642313996,
          2.1753930878808836,
          -1.4389080708090751,
          0.9590969204119837,
          -1.5694626856757377,
          1.0367713085096097,
          0.9009437561079192,
          3.186880760680233,
          1.2013374592843906,
          0.5899624203229425,
          -1.112160906714843,
          -1.4845472621754952,
          -0.9803347691197173,
          1.6232461371863405,
          6.116690416744386,
          1.2659857583545708,
          0.6368971273232882,
          0.39185844558031757,
          1.2274774676406697,
          0.771076314086061,
          -0.03010786107724428,
          -2.1073773466482537,
          -1.0446729027177026,
          -0.4107452482285834,
          -0.4230594218928019,
          0.8388701755825734,
          0.4361751287069726,
          2.2428499807612745
         ],
         "xaxis": "x2",
         "yaxis": "y2"
        }
       ],
       "layout": {
        "barmode": "relative",
        "height": 600,
        "legend": {
         "title": {
          "text": "model_type"
         },
         "tracegroupgap": 0
        },
        "margin": {
         "t": 60
        },
        "template": {
         "data": {
          "bar": [
           {
            "error_x": {
             "color": "#2a3f5f"
            },
            "error_y": {
             "color": "#2a3f5f"
            },
            "marker": {
             "line": {
              "color": "#E5ECF6",
              "width": 0.5
             },
             "pattern": {
              "fillmode": "overlay",
              "size": 10,
              "solidity": 0.2
             }
            },
            "type": "bar"
           }
          ],
          "barpolar": [
           {
            "marker": {
             "line": {
              "color": "#E5ECF6",
              "width": 0.5
             },
             "pattern": {
              "fillmode": "overlay",
              "size": 10,
              "solidity": 0.2
             }
            },
            "type": "barpolar"
           }
          ],
          "carpet": [
           {
            "aaxis": {
             "endlinecolor": "#2a3f5f",
             "gridcolor": "white",
             "linecolor": "white",
             "minorgridcolor": "white",
             "startlinecolor": "#2a3f5f"
            },
            "baxis": {
             "endlinecolor": "#2a3f5f",
             "gridcolor": "white",
             "linecolor": "white",
             "minorgridcolor": "white",
             "startlinecolor": "#2a3f5f"
            },
            "type": "carpet"
           }
          ],
          "choropleth": [
           {
            "colorbar": {
             "outlinewidth": 0,
             "ticks": ""
            },
            "type": "choropleth"
           }
          ],
          "contour": [
           {
            "colorbar": {
             "outlinewidth": 0,
             "ticks": ""
            },
            "colorscale": [
             [
              0,
              "#0d0887"
             ],
             [
              0.1111111111111111,
              "#46039f"
             ],
             [
              0.2222222222222222,
              "#7201a8"
             ],
             [
              0.3333333333333333,
              "#9c179e"
             ],
             [
              0.4444444444444444,
              "#bd3786"
             ],
             [
              0.5555555555555556,
              "#d8576b"
             ],
             [
              0.6666666666666666,
              "#ed7953"
             ],
             [
              0.7777777777777778,
              "#fb9f3a"
             ],
             [
              0.8888888888888888,
              "#fdca26"
             ],
             [
              1,
              "#f0f921"
             ]
            ],
            "type": "contour"
           }
          ],
          "contourcarpet": [
           {
            "colorbar": {
             "outlinewidth": 0,
             "ticks": ""
            },
            "type": "contourcarpet"
           }
          ],
          "heatmap": [
           {
            "colorbar": {
             "outlinewidth": 0,
             "ticks": ""
            },
            "colorscale": [
             [
              0,
              "#0d0887"
             ],
             [
              0.1111111111111111,
              "#46039f"
             ],
             [
              0.2222222222222222,
              "#7201a8"
             ],
             [
              0.3333333333333333,
              "#9c179e"
             ],
             [
              0.4444444444444444,
              "#bd3786"
             ],
             [
              0.5555555555555556,
              "#d8576b"
             ],
             [
              0.6666666666666666,
              "#ed7953"
             ],
             [
              0.7777777777777778,
              "#fb9f3a"
             ],
             [
              0.8888888888888888,
              "#fdca26"
             ],
             [
              1,
              "#f0f921"
             ]
            ],
            "type": "heatmap"
           }
          ],
          "heatmapgl": [
           {
            "colorbar": {
             "outlinewidth": 0,
             "ticks": ""
            },
            "colorscale": [
             [
              0,
              "#0d0887"
             ],
             [
              0.1111111111111111,
              "#46039f"
             ],
             [
              0.2222222222222222,
              "#7201a8"
             ],
             [
              0.3333333333333333,
              "#9c179e"
             ],
             [
              0.4444444444444444,
              "#bd3786"
             ],
             [
              0.5555555555555556,
              "#d8576b"
             ],
             [
              0.6666666666666666,
              "#ed7953"
             ],
             [
              0.7777777777777778,
              "#fb9f3a"
             ],
             [
              0.8888888888888888,
              "#fdca26"
             ],
             [
              1,
              "#f0f921"
             ]
            ],
            "type": "heatmapgl"
           }
          ],
          "histogram": [
           {
            "marker": {
             "pattern": {
              "fillmode": "overlay",
              "size": 10,
              "solidity": 0.2
             }
            },
            "type": "histogram"
           }
          ],
          "histogram2d": [
           {
            "colorbar": {
             "outlinewidth": 0,
             "ticks": ""
            },
            "colorscale": [
             [
              0,
              "#0d0887"
             ],
             [
              0.1111111111111111,
              "#46039f"
             ],
             [
              0.2222222222222222,
              "#7201a8"
             ],
             [
              0.3333333333333333,
              "#9c179e"
             ],
             [
              0.4444444444444444,
              "#bd3786"
             ],
             [
              0.5555555555555556,
              "#d8576b"
             ],
             [
              0.6666666666666666,
              "#ed7953"
             ],
             [
              0.7777777777777778,
              "#fb9f3a"
             ],
             [
              0.8888888888888888,
              "#fdca26"
             ],
             [
              1,
              "#f0f921"
             ]
            ],
            "type": "histogram2d"
           }
          ],
          "histogram2dcontour": [
           {
            "colorbar": {
             "outlinewidth": 0,
             "ticks": ""
            },
            "colorscale": [
             [
              0,
              "#0d0887"
             ],
             [
              0.1111111111111111,
              "#46039f"
             ],
             [
              0.2222222222222222,
              "#7201a8"
             ],
             [
              0.3333333333333333,
              "#9c179e"
             ],
             [
              0.4444444444444444,
              "#bd3786"
             ],
             [
              0.5555555555555556,
              "#d8576b"
             ],
             [
              0.6666666666666666,
              "#ed7953"
             ],
             [
              0.7777777777777778,
              "#fb9f3a"
             ],
             [
              0.8888888888888888,
              "#fdca26"
             ],
             [
              1,
              "#f0f921"
             ]
            ],
            "type": "histogram2dcontour"
           }
          ],
          "mesh3d": [
           {
            "colorbar": {
             "outlinewidth": 0,
             "ticks": ""
            },
            "type": "mesh3d"
           }
          ],
          "parcoords": [
           {
            "line": {
             "colorbar": {
              "outlinewidth": 0,
              "ticks": ""
             }
            },
            "type": "parcoords"
           }
          ],
          "pie": [
           {
            "automargin": true,
            "type": "pie"
           }
          ],
          "scatter": [
           {
            "fillpattern": {
             "fillmode": "overlay",
             "size": 10,
             "solidity": 0.2
            },
            "type": "scatter"
           }
          ],
          "scatter3d": [
           {
            "line": {
             "colorbar": {
              "outlinewidth": 0,
              "ticks": ""
             }
            },
            "marker": {
             "colorbar": {
              "outlinewidth": 0,
              "ticks": ""
             }
            },
            "type": "scatter3d"
           }
          ],
          "scattercarpet": [
           {
            "marker": {
             "colorbar": {
              "outlinewidth": 0,
              "ticks": ""
             }
            },
            "type": "scattercarpet"
           }
          ],
          "scattergeo": [
           {
            "marker": {
             "colorbar": {
              "outlinewidth": 0,
              "ticks": ""
             }
            },
            "type": "scattergeo"
           }
          ],
          "scattergl": [
           {
            "marker": {
             "colorbar": {
              "outlinewidth": 0,
              "ticks": ""
             }
            },
            "type": "scattergl"
           }
          ],
          "scattermapbox": [
           {
            "marker": {
             "colorbar": {
              "outlinewidth": 0,
              "ticks": ""
             }
            },
            "type": "scattermapbox"
           }
          ],
          "scatterpolar": [
           {
            "marker": {
             "colorbar": {
              "outlinewidth": 0,
              "ticks": ""
             }
            },
            "type": "scatterpolar"
           }
          ],
          "scatterpolargl": [
           {
            "marker": {
             "colorbar": {
              "outlinewidth": 0,
              "ticks": ""
             }
            },
            "type": "scatterpolargl"
           }
          ],
          "scatterternary": [
           {
            "marker": {
             "colorbar": {
              "outlinewidth": 0,
              "ticks": ""
             }
            },
            "type": "scatterternary"
           }
          ],
          "surface": [
           {
            "colorbar": {
             "outlinewidth": 0,
             "ticks": ""
            },
            "colorscale": [
             [
              0,
              "#0d0887"
             ],
             [
              0.1111111111111111,
              "#46039f"
             ],
             [
              0.2222222222222222,
              "#7201a8"
             ],
             [
              0.3333333333333333,
              "#9c179e"
             ],
             [
              0.4444444444444444,
              "#bd3786"
             ],
             [
              0.5555555555555556,
              "#d8576b"
             ],
             [
              0.6666666666666666,
              "#ed7953"
             ],
             [
              0.7777777777777778,
              "#fb9f3a"
             ],
             [
              0.8888888888888888,
              "#fdca26"
             ],
             [
              1,
              "#f0f921"
             ]
            ],
            "type": "surface"
           }
          ],
          "table": [
           {
            "cells": {
             "fill": {
              "color": "#EBF0F8"
             },
             "line": {
              "color": "white"
             }
            },
            "header": {
             "fill": {
              "color": "#C8D4E3"
             },
             "line": {
              "color": "white"
             }
            },
            "type": "table"
           }
          ]
         },
         "layout": {
          "annotationdefaults": {
           "arrowcolor": "#2a3f5f",
           "arrowhead": 0,
           "arrowwidth": 1
          },
          "autotypenumbers": "strict",
          "coloraxis": {
           "colorbar": {
            "outlinewidth": 0,
            "ticks": ""
           }
          },
          "colorscale": {
           "diverging": [
            [
             0,
             "#8e0152"
            ],
            [
             0.1,
             "#c51b7d"
            ],
            [
             0.2,
             "#de77ae"
            ],
            [
             0.3,
             "#f1b6da"
            ],
            [
             0.4,
             "#fde0ef"
            ],
            [
             0.5,
             "#f7f7f7"
            ],
            [
             0.6,
             "#e6f5d0"
            ],
            [
             0.7,
             "#b8e186"
            ],
            [
             0.8,
             "#7fbc41"
            ],
            [
             0.9,
             "#4d9221"
            ],
            [
             1,
             "#276419"
            ]
           ],
           "sequential": [
            [
             0,
             "#0d0887"
            ],
            [
             0.1111111111111111,
             "#46039f"
            ],
            [
             0.2222222222222222,
             "#7201a8"
            ],
            [
             0.3333333333333333,
             "#9c179e"
            ],
            [
             0.4444444444444444,
             "#bd3786"
            ],
            [
             0.5555555555555556,
             "#d8576b"
            ],
            [
             0.6666666666666666,
             "#ed7953"
            ],
            [
             0.7777777777777778,
             "#fb9f3a"
            ],
            [
             0.8888888888888888,
             "#fdca26"
            ],
            [
             1,
             "#f0f921"
            ]
           ],
           "sequentialminus": [
            [
             0,
             "#0d0887"
            ],
            [
             0.1111111111111111,
             "#46039f"
            ],
            [
             0.2222222222222222,
             "#7201a8"
            ],
            [
             0.3333333333333333,
             "#9c179e"
            ],
            [
             0.4444444444444444,
             "#bd3786"
            ],
            [
             0.5555555555555556,
             "#d8576b"
            ],
            [
             0.6666666666666666,
             "#ed7953"
            ],
            [
             0.7777777777777778,
             "#fb9f3a"
            ],
            [
             0.8888888888888888,
             "#fdca26"
            ],
            [
             1,
             "#f0f921"
            ]
           ]
          },
          "colorway": [
           "#636efa",
           "#EF553B",
           "#00cc96",
           "#ab63fa",
           "#FFA15A",
           "#19d3f3",
           "#FF6692",
           "#B6E880",
           "#FF97FF",
           "#FECB52"
          ],
          "font": {
           "color": "#2a3f5f"
          },
          "geo": {
           "bgcolor": "white",
           "lakecolor": "white",
           "landcolor": "#E5ECF6",
           "showlakes": true,
           "showland": true,
           "subunitcolor": "white"
          },
          "hoverlabel": {
           "align": "left"
          },
          "hovermode": "closest",
          "mapbox": {
           "style": "light"
          },
          "paper_bgcolor": "white",
          "plot_bgcolor": "#E5ECF6",
          "polar": {
           "angularaxis": {
            "gridcolor": "white",
            "linecolor": "white",
            "ticks": ""
           },
           "bgcolor": "#E5ECF6",
           "radialaxis": {
            "gridcolor": "white",
            "linecolor": "white",
            "ticks": ""
           }
          },
          "scene": {
           "xaxis": {
            "backgroundcolor": "#E5ECF6",
            "gridcolor": "white",
            "gridwidth": 2,
            "linecolor": "white",
            "showbackground": true,
            "ticks": "",
            "zerolinecolor": "white"
           },
           "yaxis": {
            "backgroundcolor": "#E5ECF6",
            "gridcolor": "white",
            "gridwidth": 2,
            "linecolor": "white",
            "showbackground": true,
            "ticks": "",
            "zerolinecolor": "white"
           },
           "zaxis": {
            "backgroundcolor": "#E5ECF6",
            "gridcolor": "white",
            "gridwidth": 2,
            "linecolor": "white",
            "showbackground": true,
            "ticks": "",
            "zerolinecolor": "white"
           }
          },
          "shapedefaults": {
           "line": {
            "color": "#2a3f5f"
           }
          },
          "ternary": {
           "aaxis": {
            "gridcolor": "white",
            "linecolor": "white",
            "ticks": ""
           },
           "baxis": {
            "gridcolor": "white",
            "linecolor": "white",
            "ticks": ""
           },
           "bgcolor": "#E5ECF6",
           "caxis": {
            "gridcolor": "white",
            "linecolor": "white",
            "ticks": ""
           }
          },
          "title": {
           "x": 0.05
          },
          "xaxis": {
           "automargin": true,
           "gridcolor": "white",
           "linecolor": "white",
           "ticks": "",
           "title": {
            "standoff": 15
           },
           "zerolinecolor": "white",
           "zerolinewidth": 2
          },
          "yaxis": {
           "automargin": true,
           "gridcolor": "white",
           "linecolor": "white",
           "ticks": "",
           "title": {
            "standoff": 15
           },
           "zerolinecolor": "white",
           "zerolinewidth": 2
          }
         }
        },
        "width": 800,
        "xaxis": {
         "anchor": "y",
         "domain": [
          0,
          1
         ],
         "title": {
          "text": "fmt_total_profit_percentage"
         }
        },
        "xaxis2": {
         "anchor": "y2",
         "domain": [
          0,
          1
         ],
         "matches": "x",
         "showgrid": true,
         "showticklabels": false
        },
        "yaxis": {
         "anchor": "x",
         "domain": [
          0,
          0.7326
         ],
         "title": {
          "text": "count"
         }
        },
        "yaxis2": {
         "anchor": "x2",
         "domain": [
          0.7426,
          1
         ],
         "matches": "y2",
         "showgrid": false,
         "showline": false,
         "showticklabels": false,
         "ticks": ""
        }
       }
      }
     },
     "metadata": {},
     "output_type": "display_data"
    }
   ],
   "source": [
    "fig = px.histogram(df_trader_results, x=\"fmt_total_profit_percentage\", color=\"model_type\", color_discrete_sequence=[ \"#FF7F0E\", \"#00CC96\", \"#10aded\", \"#8A56EF\"],  width=800, height=600, marginal=\"rug\", # can be `box`, `violin`\n",
    "                         hover_data=['total_reward_cash','fmt_total_profit_percentage', 'num_of_trades', 'sim_id'])\n",
    "fig.show()"
   ]
  },
  {
   "cell_type": "code",
   "execution_count": 22,
   "metadata": {},
   "outputs": [],
   "source": [
    "df_trader_results_stats = df_trader_results.groupby(['model_type'])['fmt_total_profit_percentage'].agg(['median']).reset_index()"
   ]
  },
  {
   "cell_type": "code",
   "execution_count": 23,
   "metadata": {},
   "outputs": [],
   "source": [
    "# i_A2C = np.argmin(np.abs(df_trader_results[df_trader_results['model_type']=='A2C']['fmt_total_profit_percentage'] - df_trader_results_stats[df_trader_results_stats['model_type']=='A2C']['median'].values[0]))\n",
    "# median_sim_id_A2C = df_trader_results[df_trader_results['model_type']=='A2C'].iloc[i_A2C]['sim_id']\n",
    "\n",
    "# i_PPO = np.argmin(np.abs(df_trader_results[df_trader_results['model_type']=='PPO']['fmt_total_profit_percentage'] - df_trader_results_stats[df_trader_results_stats['model_type']=='PPO']['median'].values[0]))\n",
    "# median_sim_id_PPO = df_trader_results[df_trader_results['model_type']=='PPO'].iloc[i_PPO]['sim_id']\n",
    "\n",
    "i_DQN = np.argmin(np.abs(df_trader_results[df_trader_results['model_type']=='DQN']['fmt_total_profit_percentage'] - df_trader_results_stats[df_trader_results_stats['model_type']=='DQN']['median'].values[0]))\n",
    "median_sim_id_DQN = df_trader_results[df_trader_results['model_type']=='DQN'].iloc[i_DQN]['sim_id']\n",
    "\n",
    "# i_RANDOM = np.argmin(np.abs(df_trader_results[df_trader_results['model_type']=='RANDOM']['fmt_total_profit_percentage'] - df_trader_results_stats[df_trader_results_stats['model_type']=='RANDOM']['median'].values[0]))\n",
    "# median_sim_id_RANDOM = df_trader_results[df_trader_results['model_type']=='RANDOM'].iloc[i_RANDOM]['sim_id']"
   ]
  },
  {
   "cell_type": "code",
   "execution_count": 24,
   "metadata": {},
   "outputs": [],
   "source": [
    "def get_and_process_trader_robot_actions_and_env_data_one_sim_id(config_file_name_without_extension, sim_id):\n",
    "    try:\n",
    "        \n",
    "        # Get the data\n",
    "        db_address = 'sqlite:///../results/data/db/trader.db'\n",
    "        engine = create_engine(db_address, echo=False)\n",
    "        sqlite_connection = engine.connect()\n",
    "\n",
    "        input_tbl_name = \"tbl_trader_bernardo2_robot_actions_and_env\" + \"_\" + config_file_name_without_extension\n",
    "        \n",
    "        sql_command = \"SELECT * FROM \" + input_tbl_name\n",
    "        \n",
    "        sql_append = \" WHERE \" + \"sim_id = \" + str(sim_id)\n",
    "        \n",
    "        sql_command = sql_command + sql_append\n",
    "\n",
    "        df = pd.read_sql(sql_command, sqlite_connection)\n",
    "\n",
    "        sqlite_connection.close()\n",
    "\n",
    "        return df\n",
    "\n",
    "    except Exception as e:\n",
    "        print(e)"
   ]
  },
  {
   "cell_type": "code",
   "execution_count": 25,
   "metadata": {},
   "outputs": [],
   "source": [
    "def plot_robot_actions_all_models(config_file_name_without_extension, sim_id_A2C, sim_id_PPO, sim_id_DQN, sim_id_RANDOM):\n",
    "    \n",
    "    # df_robot_actions_sim_id_A2C = get_and_process_trader_robot_actions_and_env_data_one_sim_id(config_file_name_without_extension, sim_id_A2C)\n",
    "    # df_robot_actions_sim_id_PPO = get_and_process_trader_robot_actions_and_env_data_one_sim_id(config_file_name_without_extension, sim_id_PPO)\n",
    "    df_robot_actions_sim_id_DQN = get_and_process_trader_robot_actions_and_env_data_one_sim_id(config_file_name_without_extension, sim_id_DQN)\n",
    "    # df_robot_actions_sim_id_RANDOM = get_and_process_trader_robot_actions_and_env_data_one_sim_id(config_file_name_without_extension, sim_id_RANDOM)\n",
    "\n",
    "    # df_simulation_sim_id_A2C = df_trader_results[df_trader_results['sim_id'] == sim_id_A2C]\n",
    "    # df_simulation_sim_id_PPO = df_trader_results[df_trader_results['sim_id'] == sim_id_PPO]\n",
    "    df_simulation_sim_id_DQN = df_trader_results[df_trader_results['sim_id'] == sim_id_DQN]\n",
    "    # df_simulation_sim_id_RANDOM = df_trader_results[df_trader_results['sim_id'] == sim_id_RANDOM]\n",
    "\n",
    "    # str_title_A2C = f\"sim_id: {sim_id_A2C} | model_type: {df_simulation_sim_id_A2C.model_type.values[0]} | Total Profit percentage {round(df_simulation_sim_id_A2C.fmt_total_profit_percentage.values[0],2)}%\"\n",
    "    # str_title_PPO = f\"sim_id: {sim_id_PPO} | model_type: {df_simulation_sim_id_PPO.model_type.values[0]} | Total Profit percentage {round(df_simulation_sim_id_PPO.fmt_total_profit_percentage.values[0],2)}%\"\n",
    "    str_title_DQN = f\"sim_id: {sim_id_DQN} | model_type: {df_simulation_sim_id_DQN.model_type.values[0]} | Total Profit percentage {round(df_simulation_sim_id_DQN.fmt_total_profit_percentage.values[0],2)}%\"\n",
    "    # str_title_RANDOM = f\"sim_id: {sim_id_RANDOM} | model_type: {df_simulation_sim_id_RANDOM.model_type.values[0]} | Total Profit percentage {round(df_simulation_sim_id_RANDOM.fmt_total_profit_percentage.values[0],2)}%\"\n",
    "\n",
    "    str_title = \"The median profit percentage results per model\"\n",
    "\n",
    "    fig = make_subplots(rows=4, cols=1, subplot_titles=(\"\", \"\", str_title_DQN, \"\"))\n",
    "\n",
    "    # fig.add_trace(go.Scatter(name='Price', x=df_robot_actions_sim_id_A2C[\"dates\"], y=df_robot_actions_sim_id_A2C[\"prices\"], mode='lines', marker_color='#969696', legendgroup = '1'), row=1, col=1)\n",
    "    # fig.add_trace(go.Scatter(name='Long', x=df_robot_actions_sim_id_A2C[df_robot_actions_sim_id_A2C['actions'] == 1]['dates'], y=df_robot_actions_sim_id_A2C[df_robot_actions_sim_id_A2C['actions'] == 1]['prices'], mode='markers', marker_symbol='circle', marker_size=10, marker_color='#228b22', legendgroup = '1'), row=1, col=1)\n",
    "    # fig.add_trace(go.Scatter(name='Short', x=df_robot_actions_sim_id_A2C[df_robot_actions_sim_id_A2C['actions'] == 0]['dates'], y=df_robot_actions_sim_id_A2C[df_robot_actions_sim_id_A2C['actions'] == 0]['prices'], mode='markers', marker_symbol='circle', marker_size=10, marker_color='#c83232', legendgroup = '1'), row=1, col=1)\n",
    "\n",
    "    # fig.add_trace(go.Scatter(name='Price', x=df_robot_actions_sim_id_PPO[\"dates\"], y=df_robot_actions_sim_id_PPO[\"prices\"], mode='lines', marker_color='#969696', legendgroup = '2'), row=2, col=1)\n",
    "    # fig.add_trace(go.Scatter(name='Long', x=df_robot_actions_sim_id_PPO[df_robot_actions_sim_id_PPO['actions'] == 1]['dates'], y=df_robot_actions_sim_id_PPO[df_robot_actions_sim_id_PPO['actions'] == 1]['prices'], mode='markers', marker_symbol='circle', marker_size=10, marker_color='#228b22', legendgroup = '2'), row=2, col=1)\n",
    "    # fig.add_trace(go.Scatter(name='Short', x=df_robot_actions_sim_id_PPO[df_robot_actions_sim_id_PPO['actions'] == 0]['dates'], y=df_robot_actions_sim_id_PPO[df_robot_actions_sim_id_PPO['actions'] == 0]['prices'], mode='markers', marker_symbol='circle', marker_size=10, marker_color='#c83232', legendgroup = '2'), row=2, col=1)\n",
    "\n",
    "    fig.add_trace(go.Scatter(name='Price', x=df_robot_actions_sim_id_DQN[\"dates\"], y=df_robot_actions_sim_id_DQN[\"prices\"], mode='lines', marker_color='#969696', legendgroup = '3'), row=3, col=1)\n",
    "    fig.add_trace(go.Scatter(name='Long', x=df_robot_actions_sim_id_DQN[df_robot_actions_sim_id_DQN['actions'] == 1]['dates'], y=df_robot_actions_sim_id_DQN[df_robot_actions_sim_id_DQN['actions'] == 1]['prices'], mode='markers', marker_symbol='circle', marker_size=10, marker_color='#228b22', legendgroup = '3'), row=3, col=1)\n",
    "    fig.add_trace(go.Scatter(name='Short', x=df_robot_actions_sim_id_DQN[df_robot_actions_sim_id_DQN['actions'] == 0]['dates'], y=df_robot_actions_sim_id_DQN[df_robot_actions_sim_id_DQN['actions'] == 0]['prices'], mode='markers', marker_symbol='circle', marker_size=10, marker_color='#c83232', legendgroup = '3'), row=3, col=1)\n",
    "\n",
    "    # fig.add_trace(go.Scatter(name='Price', x=df_robot_actions_sim_id_RANDOM[\"dates\"], y=df_robot_actions_sim_id_RANDOM[\"prices\"], mode='lines', marker_color='#969696', legendgroup = '4'), row=4, col=1)\n",
    "    # fig.add_trace(go.Scatter(name='Long', x=df_robot_actions_sim_id_RANDOM[df_robot_actions_sim_id_RANDOM['actions'] == 1]['dates'], y=df_robot_actions_sim_id_RANDOM[df_robot_actions_sim_id_RANDOM['actions'] == 1]['prices'], mode='markers', marker_symbol='circle', marker_size=10, marker_color='#228b22', legendgroup = '4'), row=4, col=1)\n",
    "    # fig.add_trace(go.Scatter(name='Short', x=df_robot_actions_sim_id_RANDOM[df_robot_actions_sim_id_RANDOM['actions'] == 0]['dates'], y=df_robot_actions_sim_id_RANDOM[df_robot_actions_sim_id_RANDOM['actions'] == 0]['prices'], mode='markers', marker_symbol='circle', marker_size=10, marker_color='#c83232', legendgroup = '4'), row=4, col=1)\n",
    "\n",
    "    fig.update_xaxes(title_text = \"Dates\", title_standoff = 25)\n",
    "\n",
    "    fig.update_yaxes(title_text = \"\", title_standoff = 25)\n",
    "\n",
    "    fig.update_layout(title=str_title, title_x=0.5, width=1200, height=800, legend_tracegroupgap=125)\n",
    "    fig.show()"
   ]
  },
  {
   "cell_type": "code",
   "execution_count": 26,
   "metadata": {},
   "outputs": [
    {
     "data": {
      "application/vnd.plotly.v1+json": {
       "config": {
        "plotlyServerURL": "https://plot.ly"
       },
       "data": [
        {
         "legendgroup": "3",
         "marker": {
          "color": "#969696"
         },
         "mode": "lines",
         "name": "Price",
         "type": "scatter",
         "x": [
          "2023-01-31 19:00:00.000000",
          "2023-01-31 20:00:00.000000",
          "2023-01-31 21:00:00.000000",
          "2023-01-31 22:00:00.000000",
          "2023-01-31 23:00:00.000000",
          "2023-02-01 00:00:00.000000",
          "2023-02-01 01:00:00.000000",
          "2023-02-01 02:00:00.000000",
          "2023-02-01 03:00:00.000000",
          "2023-02-01 04:00:00.000000",
          "2023-02-01 05:00:00.000000",
          "2023-02-01 06:00:00.000000",
          "2023-02-01 07:00:00.000000",
          "2023-02-01 08:00:00.000000",
          "2023-02-01 09:00:00.000000",
          "2023-02-01 10:00:00.000000",
          "2023-02-01 11:00:00.000000",
          "2023-02-01 12:00:00.000000",
          "2023-02-01 13:00:00.000000",
          "2023-02-01 14:00:00.000000",
          "2023-02-01 15:00:00.000000",
          "2023-02-01 16:00:00.000000",
          "2023-02-01 17:00:00.000000",
          "2023-02-01 18:00:00.000000",
          "2023-02-01 19:00:00.000000",
          "2023-02-01 20:00:00.000000",
          "2023-02-01 21:00:00.000000",
          "2023-02-01 22:00:00.000000",
          "2023-02-01 23:00:00.000000",
          "2023-02-02 00:00:00.000000",
          "2023-02-02 01:00:00.000000",
          "2023-02-02 02:00:00.000000",
          "2023-02-02 03:00:00.000000",
          "2023-02-02 04:00:00.000000",
          "2023-02-02 05:00:00.000000",
          "2023-02-02 06:00:00.000000",
          "2023-02-02 07:00:00.000000",
          "2023-02-02 08:00:00.000000",
          "2023-02-02 09:00:00.000000",
          "2023-02-02 10:00:00.000000",
          "2023-02-02 11:00:00.000000",
          "2023-02-02 12:00:00.000000",
          "2023-02-02 13:00:00.000000",
          "2023-02-02 14:00:00.000000",
          "2023-02-02 15:00:00.000000",
          "2023-02-02 16:00:00.000000",
          "2023-02-02 17:00:00.000000",
          "2023-02-02 18:00:00.000000",
          "2023-02-02 19:00:00.000000",
          "2023-02-02 20:00:00.000000",
          "2023-02-02 21:00:00.000000",
          "2023-02-02 22:00:00.000000",
          "2023-02-02 23:00:00.000000",
          "2023-02-03 00:00:00.000000",
          "2023-02-03 01:00:00.000000",
          "2023-02-03 02:00:00.000000",
          "2023-02-03 03:00:00.000000",
          "2023-02-03 04:00:00.000000",
          "2023-02-03 05:00:00.000000",
          "2023-02-03 06:00:00.000000",
          "2023-02-03 07:00:00.000000",
          "2023-02-03 08:00:00.000000",
          "2023-02-03 09:00:00.000000",
          "2023-02-03 10:00:00.000000",
          "2023-02-03 11:00:00.000000",
          "2023-02-03 12:00:00.000000",
          "2023-02-03 13:00:00.000000",
          "2023-02-03 14:00:00.000000",
          "2023-02-03 15:00:00.000000",
          "2023-02-03 16:00:00.000000",
          "2023-02-03 17:00:00.000000",
          "2023-02-03 18:00:00.000000",
          "2023-02-03 19:00:00.000000",
          "2023-02-03 20:00:00.000000",
          "2023-02-03 21:00:00.000000",
          "2023-02-03 22:00:00.000000",
          "2023-02-03 23:00:00.000000",
          "2023-02-04 00:00:00.000000",
          "2023-02-04 01:00:00.000000",
          "2023-02-04 02:00:00.000000",
          "2023-02-04 03:00:00.000000",
          "2023-02-04 04:00:00.000000",
          "2023-02-04 05:00:00.000000",
          "2023-02-04 06:00:00.000000",
          "2023-02-04 07:00:00.000000",
          "2023-02-04 08:00:00.000000",
          "2023-02-04 09:00:00.000000",
          "2023-02-04 10:00:00.000000",
          "2023-02-04 11:00:00.000000",
          "2023-02-04 12:00:00.000000",
          "2023-02-04 13:00:00.000000",
          "2023-02-04 14:00:00.000000",
          "2023-02-04 15:00:00.000000",
          "2023-02-04 16:00:00.000000",
          "2023-02-04 17:00:00.000000",
          "2023-02-04 18:00:00.000000",
          "2023-02-04 19:00:00.000000",
          "2023-02-04 20:00:00.000000",
          "2023-02-04 21:00:00.000000",
          "2023-02-04 22:00:00.000000",
          "2023-02-04 23:00:00.000000",
          "2023-02-05 00:00:00.000000",
          "2023-02-05 01:00:00.000000",
          "2023-02-05 02:00:00.000000",
          "2023-02-05 03:00:00.000000",
          "2023-02-05 04:00:00.000000",
          "2023-02-05 05:00:00.000000",
          "2023-02-05 06:00:00.000000",
          "2023-02-05 07:00:00.000000",
          "2023-02-05 08:00:00.000000",
          "2023-02-05 09:00:00.000000",
          "2023-02-05 10:00:00.000000",
          "2023-02-05 11:00:00.000000",
          "2023-02-05 12:00:00.000000",
          "2023-02-05 13:00:00.000000",
          "2023-02-05 14:00:00.000000",
          "2023-02-05 15:00:00.000000",
          "2023-02-05 16:00:00.000000",
          "2023-02-05 17:00:00.000000",
          "2023-02-05 18:00:00.000000",
          "2023-02-05 19:00:00.000000",
          "2023-02-05 20:00:00.000000",
          "2023-02-05 21:00:00.000000",
          "2023-02-05 22:00:00.000000",
          "2023-02-05 23:00:00.000000",
          "2023-02-06 00:00:00.000000",
          "2023-02-06 01:00:00.000000",
          "2023-02-06 02:00:00.000000",
          "2023-02-06 03:00:00.000000",
          "2023-02-06 04:00:00.000000",
          "2023-02-06 05:00:00.000000",
          "2023-02-06 06:00:00.000000",
          "2023-02-06 07:00:00.000000"
         ],
         "xaxis": "x3",
         "y": [
          23165.96,
          23163.88,
          23095.41,
          22948.69,
          23181.81,
          23125.13,
          23085.73,
          23123.09,
          23108.43,
          23130.19,
          23135.98,
          23118.67,
          23065.77,
          23076.68,
          22982.03,
          22991.86,
          22996.3,
          23077.52,
          23060.63,
          23086.1,
          23101,
          22979.73,
          22999.85,
          22994.27,
          23077.26,
          23385.99,
          23573.11,
          23681.05,
          23714.5,
          23732.66,
          24189.85,
          23950.55,
          23885.19,
          23848.6,
          23882.87,
          23804.61,
          23786.46,
          23781.12,
          23799.59,
          23830.91,
          23780.17,
          23820.49,
          23800.76,
          23766.53,
          23609.11,
          23839.5,
          23790.35,
          23893.33,
          24054.54,
          23802.57,
          23872.75,
          23455.65,
          23556.13,
          23488.94,
          23552.89,
          23555.12,
          23475.45,
          23534.18,
          23516.73,
          23523.58,
          23513.55,
          23456.23,
          23423.52,
          23423.17,
          23431.91,
          23534.13,
          23524.75,
          23346.63,
          23518.32,
          23603.36,
          23519.21,
          23506.58,
          23418.3,
          23307.99,
          23338.35,
          23379.01,
          23421.02,
          23431.9,
          23411.3,
          23373.87,
          23386.89,
          23343.43,
          23337.71,
          23312.38,
          23338.23,
          23329.18,
          23297.59,
          23340.02,
          23335.83,
          23363.76,
          23412.84,
          23503.73,
          23464.36,
          23421.45,
          23407.83,
          23439.63,
          23445.66,
          23425.89,
          23412.48,
          23413.98,
          23402.89,
          23326.84,
          23291,
          23319.48,
          23292.21,
          23344.53,
          23364,
          23375.6,
          23392.8,
          23377.4,
          23393.26,
          23365.02,
          23395.57,
          23356.33,
          23170.56,
          23167.62,
          23163.45,
          23096.16,
          23075.54,
          22851.48,
          22843.92,
          22891.8,
          22886.3,
          22896.41,
          22979.51,
          22932.91,
          23054.44,
          22978.08,
          22877.82,
          22895.48,
          22873.12,
          22774.76,
          22783.44
         ],
         "yaxis": "y3"
        },
        {
         "legendgroup": "3",
         "marker": {
          "color": "#228b22",
          "size": 10,
          "symbol": "circle"
         },
         "mode": "markers",
         "name": "Long",
         "type": "scatter",
         "x": [
          "2023-02-01 01:00:00.000000",
          "2023-02-01 02:00:00.000000",
          "2023-02-01 03:00:00.000000",
          "2023-02-01 04:00:00.000000",
          "2023-02-01 05:00:00.000000",
          "2023-02-01 06:00:00.000000",
          "2023-02-01 07:00:00.000000",
          "2023-02-01 08:00:00.000000",
          "2023-02-01 09:00:00.000000",
          "2023-02-01 10:00:00.000000",
          "2023-02-01 11:00:00.000000",
          "2023-02-01 12:00:00.000000",
          "2023-02-01 13:00:00.000000",
          "2023-02-01 14:00:00.000000",
          "2023-02-01 16:00:00.000000",
          "2023-02-01 17:00:00.000000",
          "2023-02-01 18:00:00.000000",
          "2023-02-01 19:00:00.000000",
          "2023-02-01 20:00:00.000000",
          "2023-02-01 21:00:00.000000",
          "2023-02-01 22:00:00.000000",
          "2023-02-01 23:00:00.000000",
          "2023-02-02 00:00:00.000000",
          "2023-02-02 01:00:00.000000",
          "2023-02-02 02:00:00.000000",
          "2023-02-02 03:00:00.000000",
          "2023-02-02 04:00:00.000000",
          "2023-02-02 05:00:00.000000",
          "2023-02-02 06:00:00.000000",
          "2023-02-02 07:00:00.000000",
          "2023-02-02 08:00:00.000000",
          "2023-02-02 09:00:00.000000",
          "2023-02-02 10:00:00.000000",
          "2023-02-02 11:00:00.000000",
          "2023-02-02 12:00:00.000000",
          "2023-02-02 13:00:00.000000",
          "2023-02-02 14:00:00.000000",
          "2023-02-02 15:00:00.000000",
          "2023-02-02 16:00:00.000000",
          "2023-02-02 17:00:00.000000",
          "2023-02-02 18:00:00.000000",
          "2023-02-02 19:00:00.000000",
          "2023-02-02 20:00:00.000000",
          "2023-02-02 21:00:00.000000",
          "2023-02-02 22:00:00.000000",
          "2023-02-02 23:00:00.000000",
          "2023-02-03 00:00:00.000000",
          "2023-02-03 01:00:00.000000",
          "2023-02-03 02:00:00.000000",
          "2023-02-03 03:00:00.000000",
          "2023-02-03 04:00:00.000000",
          "2023-02-03 05:00:00.000000",
          "2023-02-03 06:00:00.000000",
          "2023-02-03 07:00:00.000000",
          "2023-02-03 08:00:00.000000",
          "2023-02-03 09:00:00.000000",
          "2023-02-03 10:00:00.000000",
          "2023-02-03 11:00:00.000000",
          "2023-02-03 12:00:00.000000",
          "2023-02-03 13:00:00.000000",
          "2023-02-03 14:00:00.000000",
          "2023-02-03 15:00:00.000000",
          "2023-02-03 16:00:00.000000",
          "2023-02-03 17:00:00.000000",
          "2023-02-03 18:00:00.000000",
          "2023-02-03 19:00:00.000000",
          "2023-02-03 20:00:00.000000",
          "2023-02-03 21:00:00.000000",
          "2023-02-03 22:00:00.000000",
          "2023-02-03 23:00:00.000000",
          "2023-02-04 00:00:00.000000",
          "2023-02-04 01:00:00.000000",
          "2023-02-04 02:00:00.000000",
          "2023-02-04 03:00:00.000000",
          "2023-02-04 04:00:00.000000",
          "2023-02-04 05:00:00.000000",
          "2023-02-04 06:00:00.000000",
          "2023-02-04 07:00:00.000000",
          "2023-02-04 08:00:00.000000",
          "2023-02-04 09:00:00.000000",
          "2023-02-04 10:00:00.000000",
          "2023-02-04 11:00:00.000000",
          "2023-02-04 12:00:00.000000",
          "2023-02-04 13:00:00.000000",
          "2023-02-04 14:00:00.000000",
          "2023-02-04 15:00:00.000000",
          "2023-02-04 16:00:00.000000",
          "2023-02-04 17:00:00.000000",
          "2023-02-04 18:00:00.000000",
          "2023-02-04 19:00:00.000000",
          "2023-02-04 20:00:00.000000",
          "2023-02-04 21:00:00.000000",
          "2023-02-04 22:00:00.000000",
          "2023-02-04 23:00:00.000000",
          "2023-02-05 00:00:00.000000",
          "2023-02-05 01:00:00.000000",
          "2023-02-05 02:00:00.000000",
          "2023-02-05 03:00:00.000000",
          "2023-02-05 04:00:00.000000",
          "2023-02-05 05:00:00.000000",
          "2023-02-05 06:00:00.000000",
          "2023-02-05 07:00:00.000000",
          "2023-02-05 08:00:00.000000",
          "2023-02-05 09:00:00.000000",
          "2023-02-05 10:00:00.000000",
          "2023-02-05 11:00:00.000000",
          "2023-02-05 12:00:00.000000",
          "2023-02-05 13:00:00.000000",
          "2023-02-05 14:00:00.000000",
          "2023-02-05 15:00:00.000000",
          "2023-02-05 16:00:00.000000",
          "2023-02-05 17:00:00.000000",
          "2023-02-05 18:00:00.000000",
          "2023-02-05 19:00:00.000000",
          "2023-02-05 20:00:00.000000",
          "2023-02-05 21:00:00.000000",
          "2023-02-05 22:00:00.000000",
          "2023-02-05 23:00:00.000000",
          "2023-02-06 00:00:00.000000",
          "2023-02-06 01:00:00.000000",
          "2023-02-06 02:00:00.000000",
          "2023-02-06 03:00:00.000000",
          "2023-02-06 04:00:00.000000",
          "2023-02-06 05:00:00.000000",
          "2023-02-06 06:00:00.000000",
          "2023-02-06 07:00:00.000000"
         ],
         "xaxis": "x3",
         "y": [
          23085.73,
          23123.09,
          23108.43,
          23130.19,
          23135.98,
          23118.67,
          23065.77,
          23076.68,
          22982.03,
          22991.86,
          22996.3,
          23077.52,
          23060.63,
          23086.1,
          22979.73,
          22999.85,
          22994.27,
          23077.26,
          23385.99,
          23573.11,
          23681.05,
          23714.5,
          23732.66,
          24189.85,
          23950.55,
          23885.19,
          23848.6,
          23882.87,
          23804.61,
          23786.46,
          23781.12,
          23799.59,
          23830.91,
          23780.17,
          23820.49,
          23800.76,
          23766.53,
          23609.11,
          23839.5,
          23790.35,
          23893.33,
          24054.54,
          23802.57,
          23872.75,
          23455.65,
          23556.13,
          23488.94,
          23552.89,
          23555.12,
          23475.45,
          23534.18,
          23516.73,
          23523.58,
          23513.55,
          23456.23,
          23423.52,
          23423.17,
          23431.91,
          23534.13,
          23524.75,
          23346.63,
          23518.32,
          23603.36,
          23519.21,
          23506.58,
          23418.3,
          23307.99,
          23338.35,
          23379.01,
          23421.02,
          23431.9,
          23411.3,
          23373.87,
          23386.89,
          23343.43,
          23337.71,
          23312.38,
          23338.23,
          23329.18,
          23297.59,
          23340.02,
          23335.83,
          23363.76,
          23412.84,
          23503.73,
          23464.36,
          23421.45,
          23407.83,
          23439.63,
          23445.66,
          23425.89,
          23412.48,
          23413.98,
          23402.89,
          23326.84,
          23291,
          23319.48,
          23292.21,
          23344.53,
          23364,
          23375.6,
          23392.8,
          23377.4,
          23393.26,
          23365.02,
          23395.57,
          23356.33,
          23170.56,
          23167.62,
          23163.45,
          23096.16,
          23075.54,
          22851.48,
          22843.92,
          22891.8,
          22886.3,
          22896.41,
          22979.51,
          22932.91,
          23054.44,
          22978.08,
          22877.82,
          22895.48,
          22873.12,
          22774.76,
          22783.44
         ],
         "yaxis": "y3"
        },
        {
         "legendgroup": "3",
         "marker": {
          "color": "#c83232",
          "size": 10,
          "symbol": "circle"
         },
         "mode": "markers",
         "name": "Short",
         "type": "scatter",
         "x": [
          "2023-02-01 15:00:00.000000"
         ],
         "xaxis": "x3",
         "y": [
          23101
         ],
         "yaxis": "y3"
        }
       ],
       "layout": {
        "annotations": [
         {
          "font": {
           "size": 16
          },
          "showarrow": false,
          "text": "sim_id: 348 | model_type: DQN | Total Profit percentage 0.59%",
          "x": 0.5,
          "xanchor": "center",
          "xref": "paper",
          "y": 0.4375,
          "yanchor": "bottom",
          "yref": "paper"
         }
        ],
        "height": 800,
        "legend": {
         "tracegroupgap": 125
        },
        "template": {
         "data": {
          "bar": [
           {
            "error_x": {
             "color": "#2a3f5f"
            },
            "error_y": {
             "color": "#2a3f5f"
            },
            "marker": {
             "line": {
              "color": "#E5ECF6",
              "width": 0.5
             },
             "pattern": {
              "fillmode": "overlay",
              "size": 10,
              "solidity": 0.2
             }
            },
            "type": "bar"
           }
          ],
          "barpolar": [
           {
            "marker": {
             "line": {
              "color": "#E5ECF6",
              "width": 0.5
             },
             "pattern": {
              "fillmode": "overlay",
              "size": 10,
              "solidity": 0.2
             }
            },
            "type": "barpolar"
           }
          ],
          "carpet": [
           {
            "aaxis": {
             "endlinecolor": "#2a3f5f",
             "gridcolor": "white",
             "linecolor": "white",
             "minorgridcolor": "white",
             "startlinecolor": "#2a3f5f"
            },
            "baxis": {
             "endlinecolor": "#2a3f5f",
             "gridcolor": "white",
             "linecolor": "white",
             "minorgridcolor": "white",
             "startlinecolor": "#2a3f5f"
            },
            "type": "carpet"
           }
          ],
          "choropleth": [
           {
            "colorbar": {
             "outlinewidth": 0,
             "ticks": ""
            },
            "type": "choropleth"
           }
          ],
          "contour": [
           {
            "colorbar": {
             "outlinewidth": 0,
             "ticks": ""
            },
            "colorscale": [
             [
              0,
              "#0d0887"
             ],
             [
              0.1111111111111111,
              "#46039f"
             ],
             [
              0.2222222222222222,
              "#7201a8"
             ],
             [
              0.3333333333333333,
              "#9c179e"
             ],
             [
              0.4444444444444444,
              "#bd3786"
             ],
             [
              0.5555555555555556,
              "#d8576b"
             ],
             [
              0.6666666666666666,
              "#ed7953"
             ],
             [
              0.7777777777777778,
              "#fb9f3a"
             ],
             [
              0.8888888888888888,
              "#fdca26"
             ],
             [
              1,
              "#f0f921"
             ]
            ],
            "type": "contour"
           }
          ],
          "contourcarpet": [
           {
            "colorbar": {
             "outlinewidth": 0,
             "ticks": ""
            },
            "type": "contourcarpet"
           }
          ],
          "heatmap": [
           {
            "colorbar": {
             "outlinewidth": 0,
             "ticks": ""
            },
            "colorscale": [
             [
              0,
              "#0d0887"
             ],
             [
              0.1111111111111111,
              "#46039f"
             ],
             [
              0.2222222222222222,
              "#7201a8"
             ],
             [
              0.3333333333333333,
              "#9c179e"
             ],
             [
              0.4444444444444444,
              "#bd3786"
             ],
             [
              0.5555555555555556,
              "#d8576b"
             ],
             [
              0.6666666666666666,
              "#ed7953"
             ],
             [
              0.7777777777777778,
              "#fb9f3a"
             ],
             [
              0.8888888888888888,
              "#fdca26"
             ],
             [
              1,
              "#f0f921"
             ]
            ],
            "type": "heatmap"
           }
          ],
          "heatmapgl": [
           {
            "colorbar": {
             "outlinewidth": 0,
             "ticks": ""
            },
            "colorscale": [
             [
              0,
              "#0d0887"
             ],
             [
              0.1111111111111111,
              "#46039f"
             ],
             [
              0.2222222222222222,
              "#7201a8"
             ],
             [
              0.3333333333333333,
              "#9c179e"
             ],
             [
              0.4444444444444444,
              "#bd3786"
             ],
             [
              0.5555555555555556,
              "#d8576b"
             ],
             [
              0.6666666666666666,
              "#ed7953"
             ],
             [
              0.7777777777777778,
              "#fb9f3a"
             ],
             [
              0.8888888888888888,
              "#fdca26"
             ],
             [
              1,
              "#f0f921"
             ]
            ],
            "type": "heatmapgl"
           }
          ],
          "histogram": [
           {
            "marker": {
             "pattern": {
              "fillmode": "overlay",
              "size": 10,
              "solidity": 0.2
             }
            },
            "type": "histogram"
           }
          ],
          "histogram2d": [
           {
            "colorbar": {
             "outlinewidth": 0,
             "ticks": ""
            },
            "colorscale": [
             [
              0,
              "#0d0887"
             ],
             [
              0.1111111111111111,
              "#46039f"
             ],
             [
              0.2222222222222222,
              "#7201a8"
             ],
             [
              0.3333333333333333,
              "#9c179e"
             ],
             [
              0.4444444444444444,
              "#bd3786"
             ],
             [
              0.5555555555555556,
              "#d8576b"
             ],
             [
              0.6666666666666666,
              "#ed7953"
             ],
             [
              0.7777777777777778,
              "#fb9f3a"
             ],
             [
              0.8888888888888888,
              "#fdca26"
             ],
             [
              1,
              "#f0f921"
             ]
            ],
            "type": "histogram2d"
           }
          ],
          "histogram2dcontour": [
           {
            "colorbar": {
             "outlinewidth": 0,
             "ticks": ""
            },
            "colorscale": [
             [
              0,
              "#0d0887"
             ],
             [
              0.1111111111111111,
              "#46039f"
             ],
             [
              0.2222222222222222,
              "#7201a8"
             ],
             [
              0.3333333333333333,
              "#9c179e"
             ],
             [
              0.4444444444444444,
              "#bd3786"
             ],
             [
              0.5555555555555556,
              "#d8576b"
             ],
             [
              0.6666666666666666,
              "#ed7953"
             ],
             [
              0.7777777777777778,
              "#fb9f3a"
             ],
             [
              0.8888888888888888,
              "#fdca26"
             ],
             [
              1,
              "#f0f921"
             ]
            ],
            "type": "histogram2dcontour"
           }
          ],
          "mesh3d": [
           {
            "colorbar": {
             "outlinewidth": 0,
             "ticks": ""
            },
            "type": "mesh3d"
           }
          ],
          "parcoords": [
           {
            "line": {
             "colorbar": {
              "outlinewidth": 0,
              "ticks": ""
             }
            },
            "type": "parcoords"
           }
          ],
          "pie": [
           {
            "automargin": true,
            "type": "pie"
           }
          ],
          "scatter": [
           {
            "fillpattern": {
             "fillmode": "overlay",
             "size": 10,
             "solidity": 0.2
            },
            "type": "scatter"
           }
          ],
          "scatter3d": [
           {
            "line": {
             "colorbar": {
              "outlinewidth": 0,
              "ticks": ""
             }
            },
            "marker": {
             "colorbar": {
              "outlinewidth": 0,
              "ticks": ""
             }
            },
            "type": "scatter3d"
           }
          ],
          "scattercarpet": [
           {
            "marker": {
             "colorbar": {
              "outlinewidth": 0,
              "ticks": ""
             }
            },
            "type": "scattercarpet"
           }
          ],
          "scattergeo": [
           {
            "marker": {
             "colorbar": {
              "outlinewidth": 0,
              "ticks": ""
             }
            },
            "type": "scattergeo"
           }
          ],
          "scattergl": [
           {
            "marker": {
             "colorbar": {
              "outlinewidth": 0,
              "ticks": ""
             }
            },
            "type": "scattergl"
           }
          ],
          "scattermapbox": [
           {
            "marker": {
             "colorbar": {
              "outlinewidth": 0,
              "ticks": ""
             }
            },
            "type": "scattermapbox"
           }
          ],
          "scatterpolar": [
           {
            "marker": {
             "colorbar": {
              "outlinewidth": 0,
              "ticks": ""
             }
            },
            "type": "scatterpolar"
           }
          ],
          "scatterpolargl": [
           {
            "marker": {
             "colorbar": {
              "outlinewidth": 0,
              "ticks": ""
             }
            },
            "type": "scatterpolargl"
           }
          ],
          "scatterternary": [
           {
            "marker": {
             "colorbar": {
              "outlinewidth": 0,
              "ticks": ""
             }
            },
            "type": "scatterternary"
           }
          ],
          "surface": [
           {
            "colorbar": {
             "outlinewidth": 0,
             "ticks": ""
            },
            "colorscale": [
             [
              0,
              "#0d0887"
             ],
             [
              0.1111111111111111,
              "#46039f"
             ],
             [
              0.2222222222222222,
              "#7201a8"
             ],
             [
              0.3333333333333333,
              "#9c179e"
             ],
             [
              0.4444444444444444,
              "#bd3786"
             ],
             [
              0.5555555555555556,
              "#d8576b"
             ],
             [
              0.6666666666666666,
              "#ed7953"
             ],
             [
              0.7777777777777778,
              "#fb9f3a"
             ],
             [
              0.8888888888888888,
              "#fdca26"
             ],
             [
              1,
              "#f0f921"
             ]
            ],
            "type": "surface"
           }
          ],
          "table": [
           {
            "cells": {
             "fill": {
              "color": "#EBF0F8"
             },
             "line": {
              "color": "white"
             }
            },
            "header": {
             "fill": {
              "color": "#C8D4E3"
             },
             "line": {
              "color": "white"
             }
            },
            "type": "table"
           }
          ]
         },
         "layout": {
          "annotationdefaults": {
           "arrowcolor": "#2a3f5f",
           "arrowhead": 0,
           "arrowwidth": 1
          },
          "autotypenumbers": "strict",
          "coloraxis": {
           "colorbar": {
            "outlinewidth": 0,
            "ticks": ""
           }
          },
          "colorscale": {
           "diverging": [
            [
             0,
             "#8e0152"
            ],
            [
             0.1,
             "#c51b7d"
            ],
            [
             0.2,
             "#de77ae"
            ],
            [
             0.3,
             "#f1b6da"
            ],
            [
             0.4,
             "#fde0ef"
            ],
            [
             0.5,
             "#f7f7f7"
            ],
            [
             0.6,
             "#e6f5d0"
            ],
            [
             0.7,
             "#b8e186"
            ],
            [
             0.8,
             "#7fbc41"
            ],
            [
             0.9,
             "#4d9221"
            ],
            [
             1,
             "#276419"
            ]
           ],
           "sequential": [
            [
             0,
             "#0d0887"
            ],
            [
             0.1111111111111111,
             "#46039f"
            ],
            [
             0.2222222222222222,
             "#7201a8"
            ],
            [
             0.3333333333333333,
             "#9c179e"
            ],
            [
             0.4444444444444444,
             "#bd3786"
            ],
            [
             0.5555555555555556,
             "#d8576b"
            ],
            [
             0.6666666666666666,
             "#ed7953"
            ],
            [
             0.7777777777777778,
             "#fb9f3a"
            ],
            [
             0.8888888888888888,
             "#fdca26"
            ],
            [
             1,
             "#f0f921"
            ]
           ],
           "sequentialminus": [
            [
             0,
             "#0d0887"
            ],
            [
             0.1111111111111111,
             "#46039f"
            ],
            [
             0.2222222222222222,
             "#7201a8"
            ],
            [
             0.3333333333333333,
             "#9c179e"
            ],
            [
             0.4444444444444444,
             "#bd3786"
            ],
            [
             0.5555555555555556,
             "#d8576b"
            ],
            [
             0.6666666666666666,
             "#ed7953"
            ],
            [
             0.7777777777777778,
             "#fb9f3a"
            ],
            [
             0.8888888888888888,
             "#fdca26"
            ],
            [
             1,
             "#f0f921"
            ]
           ]
          },
          "colorway": [
           "#636efa",
           "#EF553B",
           "#00cc96",
           "#ab63fa",
           "#FFA15A",
           "#19d3f3",
           "#FF6692",
           "#B6E880",
           "#FF97FF",
           "#FECB52"
          ],
          "font": {
           "color": "#2a3f5f"
          },
          "geo": {
           "bgcolor": "white",
           "lakecolor": "white",
           "landcolor": "#E5ECF6",
           "showlakes": true,
           "showland": true,
           "subunitcolor": "white"
          },
          "hoverlabel": {
           "align": "left"
          },
          "hovermode": "closest",
          "mapbox": {
           "style": "light"
          },
          "paper_bgcolor": "white",
          "plot_bgcolor": "#E5ECF6",
          "polar": {
           "angularaxis": {
            "gridcolor": "white",
            "linecolor": "white",
            "ticks": ""
           },
           "bgcolor": "#E5ECF6",
           "radialaxis": {
            "gridcolor": "white",
            "linecolor": "white",
            "ticks": ""
           }
          },
          "scene": {
           "xaxis": {
            "backgroundcolor": "#E5ECF6",
            "gridcolor": "white",
            "gridwidth": 2,
            "linecolor": "white",
            "showbackground": true,
            "ticks": "",
            "zerolinecolor": "white"
           },
           "yaxis": {
            "backgroundcolor": "#E5ECF6",
            "gridcolor": "white",
            "gridwidth": 2,
            "linecolor": "white",
            "showbackground": true,
            "ticks": "",
            "zerolinecolor": "white"
           },
           "zaxis": {
            "backgroundcolor": "#E5ECF6",
            "gridcolor": "white",
            "gridwidth": 2,
            "linecolor": "white",
            "showbackground": true,
            "ticks": "",
            "zerolinecolor": "white"
           }
          },
          "shapedefaults": {
           "line": {
            "color": "#2a3f5f"
           }
          },
          "ternary": {
           "aaxis": {
            "gridcolor": "white",
            "linecolor": "white",
            "ticks": ""
           },
           "baxis": {
            "gridcolor": "white",
            "linecolor": "white",
            "ticks": ""
           },
           "bgcolor": "#E5ECF6",
           "caxis": {
            "gridcolor": "white",
            "linecolor": "white",
            "ticks": ""
           }
          },
          "title": {
           "x": 0.05
          },
          "xaxis": {
           "automargin": true,
           "gridcolor": "white",
           "linecolor": "white",
           "ticks": "",
           "title": {
            "standoff": 15
           },
           "zerolinecolor": "white",
           "zerolinewidth": 2
          },
          "yaxis": {
           "automargin": true,
           "gridcolor": "white",
           "linecolor": "white",
           "ticks": "",
           "title": {
            "standoff": 15
           },
           "zerolinecolor": "white",
           "zerolinewidth": 2
          }
         }
        },
        "title": {
         "text": "The median profit percentage results per model",
         "x": 0.5
        },
        "width": 1200,
        "xaxis": {
         "anchor": "y",
         "domain": [
          0,
          1
         ],
         "title": {
          "standoff": 25,
          "text": "Dates"
         }
        },
        "xaxis2": {
         "anchor": "y2",
         "domain": [
          0,
          1
         ],
         "title": {
          "standoff": 25,
          "text": "Dates"
         }
        },
        "xaxis3": {
         "anchor": "y3",
         "domain": [
          0,
          1
         ],
         "title": {
          "standoff": 25,
          "text": "Dates"
         }
        },
        "xaxis4": {
         "anchor": "y4",
         "domain": [
          0,
          1
         ],
         "title": {
          "standoff": 25,
          "text": "Dates"
         }
        },
        "yaxis": {
         "anchor": "x",
         "domain": [
          0.84375,
          1
         ],
         "title": {
          "standoff": 25,
          "text": ""
         }
        },
        "yaxis2": {
         "anchor": "x2",
         "domain": [
          0.5625,
          0.71875
         ],
         "title": {
          "standoff": 25,
          "text": ""
         }
        },
        "yaxis3": {
         "anchor": "x3",
         "domain": [
          0.28125,
          0.4375
         ],
         "title": {
          "standoff": 25,
          "text": ""
         }
        },
        "yaxis4": {
         "anchor": "x4",
         "domain": [
          0,
          0.15625
         ],
         "title": {
          "standoff": 25,
          "text": ""
         }
        }
       }
      }
     },
     "metadata": {},
     "output_type": "display_data"
    }
   ],
   "source": [
    "plot_robot_actions_all_models(config_file_name_without_extension, \"\", \"\", median_sim_id_DQN, \"\")"
   ]
  },
  {
   "cell_type": "code",
   "execution_count": 27,
   "metadata": {},
   "outputs": [],
   "source": [
    "def get_and_process_trader_robot_actions_and_env_data_all_sim_id(config_file_name_without_extension):\n",
    "    try:\n",
    "        \n",
    "        # Get the data\n",
    "        db_address = 'sqlite:///../results/data/db/trader.db'\n",
    "        engine = create_engine(db_address, echo=False)\n",
    "        sqlite_connection = engine.connect()\n",
    "\n",
    "        input_tbl_name = \"tbl_trader_bernardo2_robot_actions_and_env\" + \"_\" + config_file_name_without_extension\n",
    "        \n",
    "        sql_command = \"SELECT * FROM \" + input_tbl_name + \" AS t1 \"\n",
    "        \n",
    "        sql_append = \"LEFT JOIN (SELECT sim_id, model_type FROM tbl_trader_bernardo_simulation_results_config_03a_mix_infer) AS t2 ON t1.sim_id = t2.sim_id\"\n",
    "        \n",
    "        sql_command = sql_command + sql_append\n",
    "\n",
    "        df = pd.read_sql(sql_command, sqlite_connection)\n",
    "\n",
    "        sqlite_connection.close()\n",
    "\n",
    "        return df\n",
    "\n",
    "    except Exception as e:\n",
    "        print(e)"
   ]
  },
  {
   "cell_type": "code",
   "execution_count": 28,
   "metadata": {},
   "outputs": [],
   "source": [
    "def plot_trader_robot_actions_all_sim_id_all_models(config_file_name_without_extension, sim_id_A2C, sim_id_PPO, sim_id_DQN, sim_id_RANDOM):\n",
    "    \n",
    "    df_robot_actions_and_env_all_sim_id = get_and_process_trader_robot_actions_and_env_data_all_sim_id(config_file_name_without_extension)\n",
    "\n",
    "    # df_robot_actions_and_env_all_sim_id_A2C = df_robot_actions_and_env_all_sim_id[df_robot_actions_and_env_all_sim_id['model_type'] == 'A2C']\n",
    "    # df_robot_actions_and_env_all_sim_id_PPO = df_robot_actions_and_env_all_sim_id[df_robot_actions_and_env_all_sim_id['model_type'] == 'PPO']\n",
    "    df_robot_actions_and_env_all_sim_id_DQN = df_robot_actions_and_env_all_sim_id[df_robot_actions_and_env_all_sim_id['model_type'] == 'DQN']\n",
    "    # df_robot_actions_and_env_all_sim_id_RANDOM = df_robot_actions_and_env_all_sim_id[df_robot_actions_and_env_all_sim_id['model_type'] == 'RANDOM']    \n",
    "\n",
    "    # df_model_type_action_count_A2C = df_robot_actions_and_env_all_sim_id_A2C.assign(val=1).pivot_table(values='val', index=['dates'], columns=['model_type', 'actions'], aggfunc='count').stack(0).reset_index()\n",
    "    # df_model_type_action_count_A2C.rename(columns = {0.0:'action_short_count', 1.0:'action_long_count'}, inplace = True)\n",
    "\n",
    "    # df_model_type_action_count_PPO = df_robot_actions_and_env_all_sim_id_PPO.assign(val=1).pivot_table(values='val', index=['dates'], columns=['model_type', 'actions'], aggfunc='count').stack(0).reset_index()\n",
    "    # df_model_type_action_count_PPO.rename(columns = {0.0:'action_short_count', 1.0:'action_long_count'}, inplace = True)\n",
    "\n",
    "    df_model_type_action_count_DQN = df_robot_actions_and_env_all_sim_id_DQN.assign(val=1).pivot_table(values='val', index=['dates'], columns=['model_type', 'actions'], aggfunc='count').stack(0).reset_index()\n",
    "    df_model_type_action_count_DQN.rename(columns = {0.0:'action_short_count', 1.0:'action_long_count'}, inplace = True)\n",
    "\n",
    "    # df_model_type_action_count_RANDOM = df_robot_actions_and_env_all_sim_id_RANDOM.assign(val=1).pivot_table(values='val', index=['dates'], columns=['model_type', 'actions'], aggfunc='count').stack(0).reset_index()\n",
    "    # df_model_type_action_count_RANDOM.rename(columns = {0.0:'action_short_count', 1.0:'action_long_count'}, inplace = True)        \n",
    "\n",
    "    # df_robot_actions_sim_id_A2C = get_and_process_trader_robot_actions_and_env_data_one_sim_id(config_file_name_without_extension, sim_id_A2C)\n",
    "    # df_robot_actions_sim_id_PPO = get_and_process_trader_robot_actions_and_env_data_one_sim_id(config_file_name_without_extension, sim_id_PPO)\n",
    "    df_robot_actions_sim_id_DQN = get_and_process_trader_robot_actions_and_env_data_one_sim_id(config_file_name_without_extension, sim_id_DQN)\n",
    "    # df_robot_actions_sim_id_RANDOM = get_and_process_trader_robot_actions_and_env_data_one_sim_id(config_file_name_without_extension, sim_id_RANDOM)\n",
    "\n",
    "    # df_simulation_sim_id_A2C = df_trader_results[df_trader_results['sim_id'] == sim_id_A2C]\n",
    "    # df_simulation_sim_id_PPO = df_trader_results[df_trader_results['sim_id'] == sim_id_PPO]\n",
    "    df_simulation_sim_id_DQN = df_trader_results[df_trader_results['sim_id'] == sim_id_DQN]\n",
    "    # df_simulation_sim_id_RANDOM = df_trader_results[df_trader_results['sim_id'] == sim_id_RANDOM]\n",
    "\n",
    "    # str_title_A2C = f\"Median sim_id: {sim_id_A2C} | model_type: {df_simulation_sim_id_A2C.model_type.values[0]} | Total Profit percentage {round(df_simulation_sim_id_A2C.fmt_total_profit_percentage.values[0],2)}%\"\n",
    "    # str_title_PPO = f\"Median sim_id: {sim_id_PPO} | model_type: {df_simulation_sim_id_PPO.model_type.values[0]} | Total Profit percentage {round(df_simulation_sim_id_PPO.fmt_total_profit_percentage.values[0],2)}%\"\n",
    "    str_title_DQN = f\"Median sim_id: {sim_id_DQN} | model_type: {df_simulation_sim_id_DQN.model_type.values[0]} | Total Profit percentage {round(df_simulation_sim_id_DQN.fmt_total_profit_percentage.values[0],2)}%\"\n",
    "    # str_title_RANDOM = f\"Median sim_id: {sim_id_RANDOM} | model_type: {df_simulation_sim_id_RANDOM.model_type.values[0]} | Total Profit percentage {round(df_simulation_sim_id_RANDOM.fmt_total_profit_percentage.values[0],2)}%\"\n",
    "\n",
    "    str_title = f\"Median Total Profit Results x Overall view of actions (across all the simulations)\"\n",
    "\n",
    "    fig = make_subplots(rows=4, cols=1, subplot_titles=(\"\", \"\", str_title_DQN, \"\"), shared_xaxes='all', shared_yaxes='all', specs=[[{\"secondary_y\": True}], [{\"secondary_y\": True}], [{\"secondary_y\": True}], [{\"secondary_y\": True}]]) \n",
    "\n",
    "    # fig.add_trace(go.Scatter(name='Price', x=df_robot_actions_sim_id_A2C[\"dates\"], y=df_robot_actions_sim_id_A2C[\"prices\"], mode='lines', marker_color='#969696', legendgroup = '1'), row=1, col=1, secondary_y=True)\n",
    "    # fig.add_trace(go.Scatter(name='Long', x=df_robot_actions_sim_id_A2C[df_robot_actions_sim_id_A2C['actions'] == 1]['dates'], y=df_robot_actions_sim_id_A2C[df_robot_actions_sim_id_A2C['actions'] == 1]['prices'], mode='markers', marker_symbol='circle', marker_size=10, marker_color='#228b22', legendgroup = '1'), row=1, col=1, secondary_y=True)\n",
    "    # fig.add_trace(go.Scatter(name='Short', x=df_robot_actions_sim_id_A2C[df_robot_actions_sim_id_A2C['actions'] == 0]['dates'], y=df_robot_actions_sim_id_A2C[df_robot_actions_sim_id_A2C['actions'] == 0]['prices'], mode='markers', marker_symbol='circle', marker_size=10, marker_color='#c83232', legendgroup = '1'), row=1, col=1, secondary_y=True)\n",
    "\n",
    "    # fig.add_trace(go.Bar(x=df_model_type_action_count_A2C['dates'], y=df_model_type_action_count_A2C['action_long_count'], name='Long', marker_color=' #b3ffb3', legendgroup = '1'), row=1, col=1, secondary_y=False)\n",
    "    # fig.add_trace(go.Bar(x=df_model_type_action_count_A2C['dates'], y=df_model_type_action_count_A2C['action_short_count'], name='Short', marker_color='#ffb2b2', legendgroup = '1'), row=1, col=1, secondary_y=False)\n",
    "\n",
    "    # fig.add_trace(go.Scatter(name='Price', x=df_robot_actions_sim_id_PPO[\"dates\"], y=df_robot_actions_sim_id_PPO[\"prices\"], mode='lines', marker_color='#969696', legendgroup = '2'), row=2, col=1, secondary_y=True)\n",
    "    # fig.add_trace(go.Scatter(name='Long', x=df_robot_actions_sim_id_PPO[df_robot_actions_sim_id_PPO['actions'] == 1]['dates'], y=df_robot_actions_sim_id_PPO[df_robot_actions_sim_id_PPO['actions'] == 1]['prices'], mode='markers', marker_symbol='circle', marker_size=10, marker_color='#228b22', legendgroup = '2'), row=2, col=1, secondary_y=True)\n",
    "    # fig.add_trace(go.Scatter(name='Short', x=df_robot_actions_sim_id_PPO[df_robot_actions_sim_id_PPO['actions'] == 0]['dates'], y=df_robot_actions_sim_id_PPO[df_robot_actions_sim_id_PPO['actions'] == 0]['prices'], mode='markers', marker_symbol='circle', marker_size=10, marker_color='#c83232', legendgroup = '2'), row=2, col=1, secondary_y=True)\n",
    "\n",
    "    # fig.add_trace(go.Bar(x=df_model_type_action_count_PPO['dates'], y=df_model_type_action_count_PPO['action_long_count'], name='Long', marker_color=' #b3ffb3', legendgroup = '2'), row=2, col=1, secondary_y=False)\n",
    "    # fig.add_trace(go.Bar(x=df_model_type_action_count_PPO['dates'], y=df_model_type_action_count_PPO['action_short_count'], name='Short', marker_color='#ffb2b2', legendgroup = '2'), row=2, col=1, secondary_y=False)\n",
    "\n",
    "    fig.add_trace(go.Scatter(name='Price', x=df_robot_actions_sim_id_DQN[\"dates\"], y=df_robot_actions_sim_id_DQN[\"prices\"], mode='lines', marker_color='#969696', legendgroup = '3'), row=3, col=1, secondary_y=True)\n",
    "    fig.add_trace(go.Scatter(name='Long', x=df_robot_actions_sim_id_DQN[df_robot_actions_sim_id_DQN['actions'] == 1]['dates'], y=df_robot_actions_sim_id_DQN[df_robot_actions_sim_id_DQN['actions'] == 1]['prices'], mode='markers', marker_symbol='circle', marker_size=10, marker_color='#228b22', legendgroup = '3'), row=3, col=1, secondary_y=True)\n",
    "    fig.add_trace(go.Scatter(name='Short', x=df_robot_actions_sim_id_DQN[df_robot_actions_sim_id_DQN['actions'] == 0]['dates'], y=df_robot_actions_sim_id_DQN[df_robot_actions_sim_id_DQN['actions'] == 0]['prices'], mode='markers', marker_symbol='circle', marker_size=10, marker_color='#c83232', legendgroup = '3'), row=3, col=1, secondary_y=True)\n",
    "\n",
    "    fig.add_trace(go.Bar(x=df_model_type_action_count_DQN['dates'], y=df_model_type_action_count_DQN['action_long_count'], name='Long', marker_color=' #b3ffb3', legendgroup = '3'), row=3, col=1, secondary_y=False)\n",
    "    fig.add_trace(go.Bar(x=df_model_type_action_count_DQN['dates'], y=df_model_type_action_count_DQN['action_short_count'], name='Short', marker_color='#ffb2b2', legendgroup = '3'), row=3, col=1, secondary_y=False)\n",
    "\n",
    "    # fig.add_trace(go.Scatter(name='Price', x=df_robot_actions_sim_id_RANDOM[\"dates\"], y=df_robot_actions_sim_id_RANDOM[\"prices\"], mode='lines', marker_color='#969696', legendgroup = '4'), row=4, col=1, secondary_y=True)\n",
    "    # fig.add_trace(go.Scatter(name='Long', x=df_robot_actions_sim_id_RANDOM[df_robot_actions_sim_id_RANDOM['actions'] == 1]['dates'], y=df_robot_actions_sim_id_RANDOM[df_robot_actions_sim_id_RANDOM['actions'] == 1]['prices'], mode='markers', marker_symbol='circle', marker_size=10, marker_color='#228b22', legendgroup = '4'), row=4, col=1, secondary_y=True)\n",
    "    # fig.add_trace(go.Scatter(name='Short', x=df_robot_actions_sim_id_RANDOM[df_robot_actions_sim_id_RANDOM['actions'] == 0]['dates'], y=df_robot_actions_sim_id_RANDOM[df_robot_actions_sim_id_RANDOM['actions'] == 0]['prices'], mode='markers', marker_symbol='circle', marker_size=10, marker_color='#c83232', legendgroup = '4'), row=4, col=1, secondary_y=True)\n",
    "\n",
    "    # fig.add_trace(go.Bar(x=df_model_type_action_count_RANDOM['dates'], y=df_model_type_action_count_RANDOM['action_long_count'], name='Long', marker_color=' #b3ffb3', legendgroup = '4'), row=4, col=1, secondary_y=False)\n",
    "    # fig.add_trace(go.Bar(x=df_model_type_action_count_RANDOM['dates'], y=df_model_type_action_count_RANDOM['action_short_count'], name='Short', marker_color='#ffb2b2', legendgroup = '4'), row=4, col=1, secondary_y=False)\n",
    "\n",
    "    fig.update_yaxes(title_text=\"Proportion of trades<br>across all the simulations\", secondary_y=False)\n",
    "    fig.update_yaxes(title_text=f\"CCY level with the<br>sim_id actions related\", secondary_y=True)\n",
    "\n",
    "    fig.update_layout(barmode='stack', xaxis={'categoryorder':'category ascending'}, title=str_title, title_x=0.5, width=1200, height=800, legend_tracegroupgap=82, font={'size': 8})\n",
    "\n",
    "    fig.show()    "
   ]
  },
  {
   "cell_type": "code",
   "execution_count": 29,
   "metadata": {},
   "outputs": [
    {
     "data": {
      "application/vnd.plotly.v1+json": {
       "config": {
        "plotlyServerURL": "https://plot.ly"
       },
       "data": [
        {
         "legendgroup": "3",
         "marker": {
          "color": "#969696"
         },
         "mode": "lines",
         "name": "Price",
         "type": "scatter",
         "x": [
          "2023-01-31 19:00:00.000000",
          "2023-01-31 20:00:00.000000",
          "2023-01-31 21:00:00.000000",
          "2023-01-31 22:00:00.000000",
          "2023-01-31 23:00:00.000000",
          "2023-02-01 00:00:00.000000",
          "2023-02-01 01:00:00.000000",
          "2023-02-01 02:00:00.000000",
          "2023-02-01 03:00:00.000000",
          "2023-02-01 04:00:00.000000",
          "2023-02-01 05:00:00.000000",
          "2023-02-01 06:00:00.000000",
          "2023-02-01 07:00:00.000000",
          "2023-02-01 08:00:00.000000",
          "2023-02-01 09:00:00.000000",
          "2023-02-01 10:00:00.000000",
          "2023-02-01 11:00:00.000000",
          "2023-02-01 12:00:00.000000",
          "2023-02-01 13:00:00.000000",
          "2023-02-01 14:00:00.000000",
          "2023-02-01 15:00:00.000000",
          "2023-02-01 16:00:00.000000",
          "2023-02-01 17:00:00.000000",
          "2023-02-01 18:00:00.000000",
          "2023-02-01 19:00:00.000000",
          "2023-02-01 20:00:00.000000",
          "2023-02-01 21:00:00.000000",
          "2023-02-01 22:00:00.000000",
          "2023-02-01 23:00:00.000000",
          "2023-02-02 00:00:00.000000",
          "2023-02-02 01:00:00.000000",
          "2023-02-02 02:00:00.000000",
          "2023-02-02 03:00:00.000000",
          "2023-02-02 04:00:00.000000",
          "2023-02-02 05:00:00.000000",
          "2023-02-02 06:00:00.000000",
          "2023-02-02 07:00:00.000000",
          "2023-02-02 08:00:00.000000",
          "2023-02-02 09:00:00.000000",
          "2023-02-02 10:00:00.000000",
          "2023-02-02 11:00:00.000000",
          "2023-02-02 12:00:00.000000",
          "2023-02-02 13:00:00.000000",
          "2023-02-02 14:00:00.000000",
          "2023-02-02 15:00:00.000000",
          "2023-02-02 16:00:00.000000",
          "2023-02-02 17:00:00.000000",
          "2023-02-02 18:00:00.000000",
          "2023-02-02 19:00:00.000000",
          "2023-02-02 20:00:00.000000",
          "2023-02-02 21:00:00.000000",
          "2023-02-02 22:00:00.000000",
          "2023-02-02 23:00:00.000000",
          "2023-02-03 00:00:00.000000",
          "2023-02-03 01:00:00.000000",
          "2023-02-03 02:00:00.000000",
          "2023-02-03 03:00:00.000000",
          "2023-02-03 04:00:00.000000",
          "2023-02-03 05:00:00.000000",
          "2023-02-03 06:00:00.000000",
          "2023-02-03 07:00:00.000000",
          "2023-02-03 08:00:00.000000",
          "2023-02-03 09:00:00.000000",
          "2023-02-03 10:00:00.000000",
          "2023-02-03 11:00:00.000000",
          "2023-02-03 12:00:00.000000",
          "2023-02-03 13:00:00.000000",
          "2023-02-03 14:00:00.000000",
          "2023-02-03 15:00:00.000000",
          "2023-02-03 16:00:00.000000",
          "2023-02-03 17:00:00.000000",
          "2023-02-03 18:00:00.000000",
          "2023-02-03 19:00:00.000000",
          "2023-02-03 20:00:00.000000",
          "2023-02-03 21:00:00.000000",
          "2023-02-03 22:00:00.000000",
          "2023-02-03 23:00:00.000000",
          "2023-02-04 00:00:00.000000",
          "2023-02-04 01:00:00.000000",
          "2023-02-04 02:00:00.000000",
          "2023-02-04 03:00:00.000000",
          "2023-02-04 04:00:00.000000",
          "2023-02-04 05:00:00.000000",
          "2023-02-04 06:00:00.000000",
          "2023-02-04 07:00:00.000000",
          "2023-02-04 08:00:00.000000",
          "2023-02-04 09:00:00.000000",
          "2023-02-04 10:00:00.000000",
          "2023-02-04 11:00:00.000000",
          "2023-02-04 12:00:00.000000",
          "2023-02-04 13:00:00.000000",
          "2023-02-04 14:00:00.000000",
          "2023-02-04 15:00:00.000000",
          "2023-02-04 16:00:00.000000",
          "2023-02-04 17:00:00.000000",
          "2023-02-04 18:00:00.000000",
          "2023-02-04 19:00:00.000000",
          "2023-02-04 20:00:00.000000",
          "2023-02-04 21:00:00.000000",
          "2023-02-04 22:00:00.000000",
          "2023-02-04 23:00:00.000000",
          "2023-02-05 00:00:00.000000",
          "2023-02-05 01:00:00.000000",
          "2023-02-05 02:00:00.000000",
          "2023-02-05 03:00:00.000000",
          "2023-02-05 04:00:00.000000",
          "2023-02-05 05:00:00.000000",
          "2023-02-05 06:00:00.000000",
          "2023-02-05 07:00:00.000000",
          "2023-02-05 08:00:00.000000",
          "2023-02-05 09:00:00.000000",
          "2023-02-05 10:00:00.000000",
          "2023-02-05 11:00:00.000000",
          "2023-02-05 12:00:00.000000",
          "2023-02-05 13:00:00.000000",
          "2023-02-05 14:00:00.000000",
          "2023-02-05 15:00:00.000000",
          "2023-02-05 16:00:00.000000",
          "2023-02-05 17:00:00.000000",
          "2023-02-05 18:00:00.000000",
          "2023-02-05 19:00:00.000000",
          "2023-02-05 20:00:00.000000",
          "2023-02-05 21:00:00.000000",
          "2023-02-05 22:00:00.000000",
          "2023-02-05 23:00:00.000000",
          "2023-02-06 00:00:00.000000",
          "2023-02-06 01:00:00.000000",
          "2023-02-06 02:00:00.000000",
          "2023-02-06 03:00:00.000000",
          "2023-02-06 04:00:00.000000",
          "2023-02-06 05:00:00.000000",
          "2023-02-06 06:00:00.000000",
          "2023-02-06 07:00:00.000000"
         ],
         "xaxis": "x3",
         "y": [
          23165.96,
          23163.88,
          23095.41,
          22948.69,
          23181.81,
          23125.13,
          23085.73,
          23123.09,
          23108.43,
          23130.19,
          23135.98,
          23118.67,
          23065.77,
          23076.68,
          22982.03,
          22991.86,
          22996.3,
          23077.52,
          23060.63,
          23086.1,
          23101,
          22979.73,
          22999.85,
          22994.27,
          23077.26,
          23385.99,
          23573.11,
          23681.05,
          23714.5,
          23732.66,
          24189.85,
          23950.55,
          23885.19,
          23848.6,
          23882.87,
          23804.61,
          23786.46,
          23781.12,
          23799.59,
          23830.91,
          23780.17,
          23820.49,
          23800.76,
          23766.53,
          23609.11,
          23839.5,
          23790.35,
          23893.33,
          24054.54,
          23802.57,
          23872.75,
          23455.65,
          23556.13,
          23488.94,
          23552.89,
          23555.12,
          23475.45,
          23534.18,
          23516.73,
          23523.58,
          23513.55,
          23456.23,
          23423.52,
          23423.17,
          23431.91,
          23534.13,
          23524.75,
          23346.63,
          23518.32,
          23603.36,
          23519.21,
          23506.58,
          23418.3,
          23307.99,
          23338.35,
          23379.01,
          23421.02,
          23431.9,
          23411.3,
          23373.87,
          23386.89,
          23343.43,
          23337.71,
          23312.38,
          23338.23,
          23329.18,
          23297.59,
          23340.02,
          23335.83,
          23363.76,
          23412.84,
          23503.73,
          23464.36,
          23421.45,
          23407.83,
          23439.63,
          23445.66,
          23425.89,
          23412.48,
          23413.98,
          23402.89,
          23326.84,
          23291,
          23319.48,
          23292.21,
          23344.53,
          23364,
          23375.6,
          23392.8,
          23377.4,
          23393.26,
          23365.02,
          23395.57,
          23356.33,
          23170.56,
          23167.62,
          23163.45,
          23096.16,
          23075.54,
          22851.48,
          22843.92,
          22891.8,
          22886.3,
          22896.41,
          22979.51,
          22932.91,
          23054.44,
          22978.08,
          22877.82,
          22895.48,
          22873.12,
          22774.76,
          22783.44
         ],
         "yaxis": "y6"
        },
        {
         "legendgroup": "3",
         "marker": {
          "color": "#228b22",
          "size": 10,
          "symbol": "circle"
         },
         "mode": "markers",
         "name": "Long",
         "type": "scatter",
         "x": [
          "2023-02-01 01:00:00.000000",
          "2023-02-01 02:00:00.000000",
          "2023-02-01 03:00:00.000000",
          "2023-02-01 04:00:00.000000",
          "2023-02-01 05:00:00.000000",
          "2023-02-01 06:00:00.000000",
          "2023-02-01 07:00:00.000000",
          "2023-02-01 08:00:00.000000",
          "2023-02-01 09:00:00.000000",
          "2023-02-01 10:00:00.000000",
          "2023-02-01 11:00:00.000000",
          "2023-02-01 12:00:00.000000",
          "2023-02-01 13:00:00.000000",
          "2023-02-01 14:00:00.000000",
          "2023-02-01 16:00:00.000000",
          "2023-02-01 17:00:00.000000",
          "2023-02-01 18:00:00.000000",
          "2023-02-01 19:00:00.000000",
          "2023-02-01 20:00:00.000000",
          "2023-02-01 21:00:00.000000",
          "2023-02-01 22:00:00.000000",
          "2023-02-01 23:00:00.000000",
          "2023-02-02 00:00:00.000000",
          "2023-02-02 01:00:00.000000",
          "2023-02-02 02:00:00.000000",
          "2023-02-02 03:00:00.000000",
          "2023-02-02 04:00:00.000000",
          "2023-02-02 05:00:00.000000",
          "2023-02-02 06:00:00.000000",
          "2023-02-02 07:00:00.000000",
          "2023-02-02 08:00:00.000000",
          "2023-02-02 09:00:00.000000",
          "2023-02-02 10:00:00.000000",
          "2023-02-02 11:00:00.000000",
          "2023-02-02 12:00:00.000000",
          "2023-02-02 13:00:00.000000",
          "2023-02-02 14:00:00.000000",
          "2023-02-02 15:00:00.000000",
          "2023-02-02 16:00:00.000000",
          "2023-02-02 17:00:00.000000",
          "2023-02-02 18:00:00.000000",
          "2023-02-02 19:00:00.000000",
          "2023-02-02 20:00:00.000000",
          "2023-02-02 21:00:00.000000",
          "2023-02-02 22:00:00.000000",
          "2023-02-02 23:00:00.000000",
          "2023-02-03 00:00:00.000000",
          "2023-02-03 01:00:00.000000",
          "2023-02-03 02:00:00.000000",
          "2023-02-03 03:00:00.000000",
          "2023-02-03 04:00:00.000000",
          "2023-02-03 05:00:00.000000",
          "2023-02-03 06:00:00.000000",
          "2023-02-03 07:00:00.000000",
          "2023-02-03 08:00:00.000000",
          "2023-02-03 09:00:00.000000",
          "2023-02-03 10:00:00.000000",
          "2023-02-03 11:00:00.000000",
          "2023-02-03 12:00:00.000000",
          "2023-02-03 13:00:00.000000",
          "2023-02-03 14:00:00.000000",
          "2023-02-03 15:00:00.000000",
          "2023-02-03 16:00:00.000000",
          "2023-02-03 17:00:00.000000",
          "2023-02-03 18:00:00.000000",
          "2023-02-03 19:00:00.000000",
          "2023-02-03 20:00:00.000000",
          "2023-02-03 21:00:00.000000",
          "2023-02-03 22:00:00.000000",
          "2023-02-03 23:00:00.000000",
          "2023-02-04 00:00:00.000000",
          "2023-02-04 01:00:00.000000",
          "2023-02-04 02:00:00.000000",
          "2023-02-04 03:00:00.000000",
          "2023-02-04 04:00:00.000000",
          "2023-02-04 05:00:00.000000",
          "2023-02-04 06:00:00.000000",
          "2023-02-04 07:00:00.000000",
          "2023-02-04 08:00:00.000000",
          "2023-02-04 09:00:00.000000",
          "2023-02-04 10:00:00.000000",
          "2023-02-04 11:00:00.000000",
          "2023-02-04 12:00:00.000000",
          "2023-02-04 13:00:00.000000",
          "2023-02-04 14:00:00.000000",
          "2023-02-04 15:00:00.000000",
          "2023-02-04 16:00:00.000000",
          "2023-02-04 17:00:00.000000",
          "2023-02-04 18:00:00.000000",
          "2023-02-04 19:00:00.000000",
          "2023-02-04 20:00:00.000000",
          "2023-02-04 21:00:00.000000",
          "2023-02-04 22:00:00.000000",
          "2023-02-04 23:00:00.000000",
          "2023-02-05 00:00:00.000000",
          "2023-02-05 01:00:00.000000",
          "2023-02-05 02:00:00.000000",
          "2023-02-05 03:00:00.000000",
          "2023-02-05 04:00:00.000000",
          "2023-02-05 05:00:00.000000",
          "2023-02-05 06:00:00.000000",
          "2023-02-05 07:00:00.000000",
          "2023-02-05 08:00:00.000000",
          "2023-02-05 09:00:00.000000",
          "2023-02-05 10:00:00.000000",
          "2023-02-05 11:00:00.000000",
          "2023-02-05 12:00:00.000000",
          "2023-02-05 13:00:00.000000",
          "2023-02-05 14:00:00.000000",
          "2023-02-05 15:00:00.000000",
          "2023-02-05 16:00:00.000000",
          "2023-02-05 17:00:00.000000",
          "2023-02-05 18:00:00.000000",
          "2023-02-05 19:00:00.000000",
          "2023-02-05 20:00:00.000000",
          "2023-02-05 21:00:00.000000",
          "2023-02-05 22:00:00.000000",
          "2023-02-05 23:00:00.000000",
          "2023-02-06 00:00:00.000000",
          "2023-02-06 01:00:00.000000",
          "2023-02-06 02:00:00.000000",
          "2023-02-06 03:00:00.000000",
          "2023-02-06 04:00:00.000000",
          "2023-02-06 05:00:00.000000",
          "2023-02-06 06:00:00.000000",
          "2023-02-06 07:00:00.000000"
         ],
         "xaxis": "x3",
         "y": [
          23085.73,
          23123.09,
          23108.43,
          23130.19,
          23135.98,
          23118.67,
          23065.77,
          23076.68,
          22982.03,
          22991.86,
          22996.3,
          23077.52,
          23060.63,
          23086.1,
          22979.73,
          22999.85,
          22994.27,
          23077.26,
          23385.99,
          23573.11,
          23681.05,
          23714.5,
          23732.66,
          24189.85,
          23950.55,
          23885.19,
          23848.6,
          23882.87,
          23804.61,
          23786.46,
          23781.12,
          23799.59,
          23830.91,
          23780.17,
          23820.49,
          23800.76,
          23766.53,
          23609.11,
          23839.5,
          23790.35,
          23893.33,
          24054.54,
          23802.57,
          23872.75,
          23455.65,
          23556.13,
          23488.94,
          23552.89,
          23555.12,
          23475.45,
          23534.18,
          23516.73,
          23523.58,
          23513.55,
          23456.23,
          23423.52,
          23423.17,
          23431.91,
          23534.13,
          23524.75,
          23346.63,
          23518.32,
          23603.36,
          23519.21,
          23506.58,
          23418.3,
          23307.99,
          23338.35,
          23379.01,
          23421.02,
          23431.9,
          23411.3,
          23373.87,
          23386.89,
          23343.43,
          23337.71,
          23312.38,
          23338.23,
          23329.18,
          23297.59,
          23340.02,
          23335.83,
          23363.76,
          23412.84,
          23503.73,
          23464.36,
          23421.45,
          23407.83,
          23439.63,
          23445.66,
          23425.89,
          23412.48,
          23413.98,
          23402.89,
          23326.84,
          23291,
          23319.48,
          23292.21,
          23344.53,
          23364,
          23375.6,
          23392.8,
          23377.4,
          23393.26,
          23365.02,
          23395.57,
          23356.33,
          23170.56,
          23167.62,
          23163.45,
          23096.16,
          23075.54,
          22851.48,
          22843.92,
          22891.8,
          22886.3,
          22896.41,
          22979.51,
          22932.91,
          23054.44,
          22978.08,
          22877.82,
          22895.48,
          22873.12,
          22774.76,
          22783.44
         ],
         "yaxis": "y6"
        },
        {
         "legendgroup": "3",
         "marker": {
          "color": "#c83232",
          "size": 10,
          "symbol": "circle"
         },
         "mode": "markers",
         "name": "Short",
         "type": "scatter",
         "x": [
          "2023-02-01 15:00:00.000000"
         ],
         "xaxis": "x3",
         "y": [
          23101
         ],
         "yaxis": "y6"
        },
        {
         "legendgroup": "3",
         "marker": {
          "color": " #b3ffb3"
         },
         "name": "Long",
         "type": "bar",
         "x": [
          "2023-02-01 01:00:00.000000",
          "2023-02-01 02:00:00.000000",
          "2023-02-01 03:00:00.000000",
          "2023-02-01 04:00:00.000000",
          "2023-02-01 05:00:00.000000",
          "2023-02-01 06:00:00.000000",
          "2023-02-01 07:00:00.000000",
          "2023-02-01 08:00:00.000000",
          "2023-02-01 09:00:00.000000",
          "2023-02-01 10:00:00.000000",
          "2023-02-01 11:00:00.000000",
          "2023-02-01 12:00:00.000000",
          "2023-02-01 13:00:00.000000",
          "2023-02-01 14:00:00.000000",
          "2023-02-01 15:00:00.000000",
          "2023-02-01 16:00:00.000000",
          "2023-02-01 17:00:00.000000",
          "2023-02-01 18:00:00.000000",
          "2023-02-01 19:00:00.000000",
          "2023-02-01 20:00:00.000000",
          "2023-02-01 21:00:00.000000",
          "2023-02-01 22:00:00.000000",
          "2023-02-01 23:00:00.000000",
          "2023-02-02 00:00:00.000000",
          "2023-02-02 01:00:00.000000",
          "2023-02-02 02:00:00.000000",
          "2023-02-02 03:00:00.000000",
          "2023-02-02 04:00:00.000000",
          "2023-02-02 05:00:00.000000",
          "2023-02-02 06:00:00.000000",
          "2023-02-02 07:00:00.000000",
          "2023-02-02 08:00:00.000000",
          "2023-02-02 09:00:00.000000",
          "2023-02-02 10:00:00.000000",
          "2023-02-02 11:00:00.000000",
          "2023-02-02 12:00:00.000000",
          "2023-02-02 13:00:00.000000",
          "2023-02-02 14:00:00.000000",
          "2023-02-02 15:00:00.000000",
          "2023-02-02 16:00:00.000000",
          "2023-02-02 17:00:00.000000",
          "2023-02-02 18:00:00.000000",
          "2023-02-02 19:00:00.000000",
          "2023-02-02 20:00:00.000000",
          "2023-02-02 21:00:00.000000",
          "2023-02-02 22:00:00.000000",
          "2023-02-02 23:00:00.000000",
          "2023-02-03 00:00:00.000000",
          "2023-02-03 01:00:00.000000",
          "2023-02-03 02:00:00.000000",
          "2023-02-03 03:00:00.000000",
          "2023-02-03 04:00:00.000000",
          "2023-02-03 05:00:00.000000",
          "2023-02-03 06:00:00.000000",
          "2023-02-03 07:00:00.000000",
          "2023-02-03 08:00:00.000000",
          "2023-02-03 09:00:00.000000",
          "2023-02-03 10:00:00.000000",
          "2023-02-03 11:00:00.000000",
          "2023-02-03 12:00:00.000000",
          "2023-02-03 13:00:00.000000",
          "2023-02-03 14:00:00.000000",
          "2023-02-03 15:00:00.000000",
          "2023-02-03 16:00:00.000000",
          "2023-02-03 17:00:00.000000",
          "2023-02-03 18:00:00.000000",
          "2023-02-03 19:00:00.000000",
          "2023-02-03 20:00:00.000000",
          "2023-02-03 21:00:00.000000",
          "2023-02-03 22:00:00.000000",
          "2023-02-03 23:00:00.000000",
          "2023-02-04 00:00:00.000000",
          "2023-02-04 01:00:00.000000",
          "2023-02-04 02:00:00.000000",
          "2023-02-04 03:00:00.000000",
          "2023-02-04 04:00:00.000000",
          "2023-02-04 05:00:00.000000",
          "2023-02-04 06:00:00.000000",
          "2023-02-04 07:00:00.000000",
          "2023-02-04 08:00:00.000000",
          "2023-02-04 09:00:00.000000",
          "2023-02-04 10:00:00.000000",
          "2023-02-04 11:00:00.000000",
          "2023-02-04 12:00:00.000000",
          "2023-02-04 13:00:00.000000",
          "2023-02-04 14:00:00.000000",
          "2023-02-04 15:00:00.000000",
          "2023-02-04 16:00:00.000000",
          "2023-02-04 17:00:00.000000",
          "2023-02-04 18:00:00.000000",
          "2023-02-04 19:00:00.000000",
          "2023-02-04 20:00:00.000000",
          "2023-02-04 21:00:00.000000",
          "2023-02-04 22:00:00.000000",
          "2023-02-04 23:00:00.000000",
          "2023-02-05 00:00:00.000000",
          "2023-02-05 01:00:00.000000",
          "2023-02-05 02:00:00.000000",
          "2023-02-05 03:00:00.000000",
          "2023-02-05 04:00:00.000000",
          "2023-02-05 05:00:00.000000",
          "2023-02-05 06:00:00.000000",
          "2023-02-05 07:00:00.000000",
          "2023-02-05 08:00:00.000000",
          "2023-02-05 09:00:00.000000",
          "2023-02-05 10:00:00.000000",
          "2023-02-05 11:00:00.000000",
          "2023-02-05 12:00:00.000000",
          "2023-02-05 13:00:00.000000",
          "2023-02-05 14:00:00.000000",
          "2023-02-05 15:00:00.000000",
          "2023-02-05 16:00:00.000000",
          "2023-02-05 17:00:00.000000",
          "2023-02-05 18:00:00.000000",
          "2023-02-05 19:00:00.000000",
          "2023-02-05 20:00:00.000000",
          "2023-02-05 21:00:00.000000",
          "2023-02-05 22:00:00.000000",
          "2023-02-05 23:00:00.000000",
          "2023-02-06 00:00:00.000000",
          "2023-02-06 01:00:00.000000",
          "2023-02-06 02:00:00.000000",
          "2023-02-06 03:00:00.000000",
          "2023-02-06 04:00:00.000000",
          "2023-02-06 05:00:00.000000",
          "2023-02-06 06:00:00.000000",
          "2023-02-06 07:00:00.000000"
         ],
         "xaxis": "x3",
         "y": [
          965,
          983,
          978,
          978,
          973,
          976,
          974,
          975,
          979,
          980,
          975,
          971,
          986,
          976,
          978,
          979,
          976,
          980,
          979,
          981,
          973,
          979,
          983,
          972,
          985,
          970,
          975,
          971,
          974,
          982,
          982,
          973,
          969,
          978,
          976,
          969,
          975,
          976,
          978,
          976,
          972,
          983,
          978,
          980,
          977,
          982,
          970,
          968,
          974,
          975,
          980,
          976,
          973,
          974,
          980,
          981,
          977,
          983,
          975,
          968,
          975,
          975,
          977,
          973,
          978,
          975,
          975,
          974,
          972,
          976,
          971,
          967,
          980,
          969,
          976,
          980,
          976,
          979,
          976,
          976,
          973,
          976,
          976,
          969,
          975,
          976,
          979,
          973,
          977,
          963,
          977,
          972,
          976,
          971,
          984,
          972,
          976,
          981,
          975,
          978,
          979,
          975,
          976,
          983,
          977,
          985,
          973,
          976,
          977,
          974,
          974,
          977,
          979,
          976,
          980,
          970,
          977,
          981,
          975,
          968,
          975,
          973,
          972,
          974,
          980,
          979,
          968
         ],
         "yaxis": "y5"
        },
        {
         "legendgroup": "3",
         "marker": {
          "color": "#ffb2b2"
         },
         "name": "Short",
         "type": "bar",
         "x": [
          "2023-02-01 01:00:00.000000",
          "2023-02-01 02:00:00.000000",
          "2023-02-01 03:00:00.000000",
          "2023-02-01 04:00:00.000000",
          "2023-02-01 05:00:00.000000",
          "2023-02-01 06:00:00.000000",
          "2023-02-01 07:00:00.000000",
          "2023-02-01 08:00:00.000000",
          "2023-02-01 09:00:00.000000",
          "2023-02-01 10:00:00.000000",
          "2023-02-01 11:00:00.000000",
          "2023-02-01 12:00:00.000000",
          "2023-02-01 13:00:00.000000",
          "2023-02-01 14:00:00.000000",
          "2023-02-01 15:00:00.000000",
          "2023-02-01 16:00:00.000000",
          "2023-02-01 17:00:00.000000",
          "2023-02-01 18:00:00.000000",
          "2023-02-01 19:00:00.000000",
          "2023-02-01 20:00:00.000000",
          "2023-02-01 21:00:00.000000",
          "2023-02-01 22:00:00.000000",
          "2023-02-01 23:00:00.000000",
          "2023-02-02 00:00:00.000000",
          "2023-02-02 01:00:00.000000",
          "2023-02-02 02:00:00.000000",
          "2023-02-02 03:00:00.000000",
          "2023-02-02 04:00:00.000000",
          "2023-02-02 05:00:00.000000",
          "2023-02-02 06:00:00.000000",
          "2023-02-02 07:00:00.000000",
          "2023-02-02 08:00:00.000000",
          "2023-02-02 09:00:00.000000",
          "2023-02-02 10:00:00.000000",
          "2023-02-02 11:00:00.000000",
          "2023-02-02 12:00:00.000000",
          "2023-02-02 13:00:00.000000",
          "2023-02-02 14:00:00.000000",
          "2023-02-02 15:00:00.000000",
          "2023-02-02 16:00:00.000000",
          "2023-02-02 17:00:00.000000",
          "2023-02-02 18:00:00.000000",
          "2023-02-02 19:00:00.000000",
          "2023-02-02 20:00:00.000000",
          "2023-02-02 21:00:00.000000",
          "2023-02-02 22:00:00.000000",
          "2023-02-02 23:00:00.000000",
          "2023-02-03 00:00:00.000000",
          "2023-02-03 01:00:00.000000",
          "2023-02-03 02:00:00.000000",
          "2023-02-03 03:00:00.000000",
          "2023-02-03 04:00:00.000000",
          "2023-02-03 05:00:00.000000",
          "2023-02-03 06:00:00.000000",
          "2023-02-03 07:00:00.000000",
          "2023-02-03 08:00:00.000000",
          "2023-02-03 09:00:00.000000",
          "2023-02-03 10:00:00.000000",
          "2023-02-03 11:00:00.000000",
          "2023-02-03 12:00:00.000000",
          "2023-02-03 13:00:00.000000",
          "2023-02-03 14:00:00.000000",
          "2023-02-03 15:00:00.000000",
          "2023-02-03 16:00:00.000000",
          "2023-02-03 17:00:00.000000",
          "2023-02-03 18:00:00.000000",
          "2023-02-03 19:00:00.000000",
          "2023-02-03 20:00:00.000000",
          "2023-02-03 21:00:00.000000",
          "2023-02-03 22:00:00.000000",
          "2023-02-03 23:00:00.000000",
          "2023-02-04 00:00:00.000000",
          "2023-02-04 01:00:00.000000",
          "2023-02-04 02:00:00.000000",
          "2023-02-04 03:00:00.000000",
          "2023-02-04 04:00:00.000000",
          "2023-02-04 05:00:00.000000",
          "2023-02-04 06:00:00.000000",
          "2023-02-04 07:00:00.000000",
          "2023-02-04 08:00:00.000000",
          "2023-02-04 09:00:00.000000",
          "2023-02-04 10:00:00.000000",
          "2023-02-04 11:00:00.000000",
          "2023-02-04 12:00:00.000000",
          "2023-02-04 13:00:00.000000",
          "2023-02-04 14:00:00.000000",
          "2023-02-04 15:00:00.000000",
          "2023-02-04 16:00:00.000000",
          "2023-02-04 17:00:00.000000",
          "2023-02-04 18:00:00.000000",
          "2023-02-04 19:00:00.000000",
          "2023-02-04 20:00:00.000000",
          "2023-02-04 21:00:00.000000",
          "2023-02-04 22:00:00.000000",
          "2023-02-04 23:00:00.000000",
          "2023-02-05 00:00:00.000000",
          "2023-02-05 01:00:00.000000",
          "2023-02-05 02:00:00.000000",
          "2023-02-05 03:00:00.000000",
          "2023-02-05 04:00:00.000000",
          "2023-02-05 05:00:00.000000",
          "2023-02-05 06:00:00.000000",
          "2023-02-05 07:00:00.000000",
          "2023-02-05 08:00:00.000000",
          "2023-02-05 09:00:00.000000",
          "2023-02-05 10:00:00.000000",
          "2023-02-05 11:00:00.000000",
          "2023-02-05 12:00:00.000000",
          "2023-02-05 13:00:00.000000",
          "2023-02-05 14:00:00.000000",
          "2023-02-05 15:00:00.000000",
          "2023-02-05 16:00:00.000000",
          "2023-02-05 17:00:00.000000",
          "2023-02-05 18:00:00.000000",
          "2023-02-05 19:00:00.000000",
          "2023-02-05 20:00:00.000000",
          "2023-02-05 21:00:00.000000",
          "2023-02-05 22:00:00.000000",
          "2023-02-05 23:00:00.000000",
          "2023-02-06 00:00:00.000000",
          "2023-02-06 01:00:00.000000",
          "2023-02-06 02:00:00.000000",
          "2023-02-06 03:00:00.000000",
          "2023-02-06 04:00:00.000000",
          "2023-02-06 05:00:00.000000",
          "2023-02-06 06:00:00.000000",
          "2023-02-06 07:00:00.000000"
         ],
         "xaxis": "x3",
         "y": [
          35,
          17,
          22,
          22,
          27,
          24,
          26,
          25,
          21,
          20,
          25,
          29,
          14,
          24,
          22,
          21,
          24,
          20,
          21,
          19,
          27,
          21,
          17,
          28,
          15,
          30,
          25,
          29,
          26,
          18,
          18,
          27,
          31,
          22,
          24,
          31,
          25,
          24,
          22,
          24,
          28,
          17,
          22,
          20,
          23,
          18,
          30,
          32,
          26,
          25,
          20,
          24,
          27,
          26,
          20,
          19,
          23,
          17,
          25,
          32,
          25,
          25,
          23,
          27,
          22,
          25,
          25,
          26,
          28,
          24,
          29,
          33,
          20,
          31,
          24,
          20,
          24,
          21,
          24,
          24,
          27,
          24,
          24,
          31,
          25,
          24,
          21,
          27,
          23,
          37,
          23,
          28,
          24,
          29,
          16,
          28,
          24,
          19,
          25,
          22,
          21,
          25,
          24,
          17,
          23,
          15,
          27,
          24,
          23,
          26,
          26,
          23,
          21,
          24,
          20,
          30,
          23,
          19,
          25,
          32,
          25,
          27,
          28,
          26,
          20,
          21,
          32
         ],
         "yaxis": "y5"
        }
       ],
       "layout": {
        "annotations": [
         {
          "font": {
           "size": 16
          },
          "showarrow": false,
          "text": "Median sim_id: 348 | model_type: DQN | Total Profit percentage 0.59%",
          "x": 0.47,
          "xanchor": "center",
          "xref": "paper",
          "y": 0.4375,
          "yanchor": "bottom",
          "yref": "paper"
         }
        ],
        "barmode": "stack",
        "font": {
         "size": 8
        },
        "height": 800,
        "legend": {
         "tracegroupgap": 82
        },
        "template": {
         "data": {
          "bar": [
           {
            "error_x": {
             "color": "#2a3f5f"
            },
            "error_y": {
             "color": "#2a3f5f"
            },
            "marker": {
             "line": {
              "color": "#E5ECF6",
              "width": 0.5
             },
             "pattern": {
              "fillmode": "overlay",
              "size": 10,
              "solidity": 0.2
             }
            },
            "type": "bar"
           }
          ],
          "barpolar": [
           {
            "marker": {
             "line": {
              "color": "#E5ECF6",
              "width": 0.5
             },
             "pattern": {
              "fillmode": "overlay",
              "size": 10,
              "solidity": 0.2
             }
            },
            "type": "barpolar"
           }
          ],
          "carpet": [
           {
            "aaxis": {
             "endlinecolor": "#2a3f5f",
             "gridcolor": "white",
             "linecolor": "white",
             "minorgridcolor": "white",
             "startlinecolor": "#2a3f5f"
            },
            "baxis": {
             "endlinecolor": "#2a3f5f",
             "gridcolor": "white",
             "linecolor": "white",
             "minorgridcolor": "white",
             "startlinecolor": "#2a3f5f"
            },
            "type": "carpet"
           }
          ],
          "choropleth": [
           {
            "colorbar": {
             "outlinewidth": 0,
             "ticks": ""
            },
            "type": "choropleth"
           }
          ],
          "contour": [
           {
            "colorbar": {
             "outlinewidth": 0,
             "ticks": ""
            },
            "colorscale": [
             [
              0,
              "#0d0887"
             ],
             [
              0.1111111111111111,
              "#46039f"
             ],
             [
              0.2222222222222222,
              "#7201a8"
             ],
             [
              0.3333333333333333,
              "#9c179e"
             ],
             [
              0.4444444444444444,
              "#bd3786"
             ],
             [
              0.5555555555555556,
              "#d8576b"
             ],
             [
              0.6666666666666666,
              "#ed7953"
             ],
             [
              0.7777777777777778,
              "#fb9f3a"
             ],
             [
              0.8888888888888888,
              "#fdca26"
             ],
             [
              1,
              "#f0f921"
             ]
            ],
            "type": "contour"
           }
          ],
          "contourcarpet": [
           {
            "colorbar": {
             "outlinewidth": 0,
             "ticks": ""
            },
            "type": "contourcarpet"
           }
          ],
          "heatmap": [
           {
            "colorbar": {
             "outlinewidth": 0,
             "ticks": ""
            },
            "colorscale": [
             [
              0,
              "#0d0887"
             ],
             [
              0.1111111111111111,
              "#46039f"
             ],
             [
              0.2222222222222222,
              "#7201a8"
             ],
             [
              0.3333333333333333,
              "#9c179e"
             ],
             [
              0.4444444444444444,
              "#bd3786"
             ],
             [
              0.5555555555555556,
              "#d8576b"
             ],
             [
              0.6666666666666666,
              "#ed7953"
             ],
             [
              0.7777777777777778,
              "#fb9f3a"
             ],
             [
              0.8888888888888888,
              "#fdca26"
             ],
             [
              1,
              "#f0f921"
             ]
            ],
            "type": "heatmap"
           }
          ],
          "heatmapgl": [
           {
            "colorbar": {
             "outlinewidth": 0,
             "ticks": ""
            },
            "colorscale": [
             [
              0,
              "#0d0887"
             ],
             [
              0.1111111111111111,
              "#46039f"
             ],
             [
              0.2222222222222222,
              "#7201a8"
             ],
             [
              0.3333333333333333,
              "#9c179e"
             ],
             [
              0.4444444444444444,
              "#bd3786"
             ],
             [
              0.5555555555555556,
              "#d8576b"
             ],
             [
              0.6666666666666666,
              "#ed7953"
             ],
             [
              0.7777777777777778,
              "#fb9f3a"
             ],
             [
              0.8888888888888888,
              "#fdca26"
             ],
             [
              1,
              "#f0f921"
             ]
            ],
            "type": "heatmapgl"
           }
          ],
          "histogram": [
           {
            "marker": {
             "pattern": {
              "fillmode": "overlay",
              "size": 10,
              "solidity": 0.2
             }
            },
            "type": "histogram"
           }
          ],
          "histogram2d": [
           {
            "colorbar": {
             "outlinewidth": 0,
             "ticks": ""
            },
            "colorscale": [
             [
              0,
              "#0d0887"
             ],
             [
              0.1111111111111111,
              "#46039f"
             ],
             [
              0.2222222222222222,
              "#7201a8"
             ],
             [
              0.3333333333333333,
              "#9c179e"
             ],
             [
              0.4444444444444444,
              "#bd3786"
             ],
             [
              0.5555555555555556,
              "#d8576b"
             ],
             [
              0.6666666666666666,
              "#ed7953"
             ],
             [
              0.7777777777777778,
              "#fb9f3a"
             ],
             [
              0.8888888888888888,
              "#fdca26"
             ],
             [
              1,
              "#f0f921"
             ]
            ],
            "type": "histogram2d"
           }
          ],
          "histogram2dcontour": [
           {
            "colorbar": {
             "outlinewidth": 0,
             "ticks": ""
            },
            "colorscale": [
             [
              0,
              "#0d0887"
             ],
             [
              0.1111111111111111,
              "#46039f"
             ],
             [
              0.2222222222222222,
              "#7201a8"
             ],
             [
              0.3333333333333333,
              "#9c179e"
             ],
             [
              0.4444444444444444,
              "#bd3786"
             ],
             [
              0.5555555555555556,
              "#d8576b"
             ],
             [
              0.6666666666666666,
              "#ed7953"
             ],
             [
              0.7777777777777778,
              "#fb9f3a"
             ],
             [
              0.8888888888888888,
              "#fdca26"
             ],
             [
              1,
              "#f0f921"
             ]
            ],
            "type": "histogram2dcontour"
           }
          ],
          "mesh3d": [
           {
            "colorbar": {
             "outlinewidth": 0,
             "ticks": ""
            },
            "type": "mesh3d"
           }
          ],
          "parcoords": [
           {
            "line": {
             "colorbar": {
              "outlinewidth": 0,
              "ticks": ""
             }
            },
            "type": "parcoords"
           }
          ],
          "pie": [
           {
            "automargin": true,
            "type": "pie"
           }
          ],
          "scatter": [
           {
            "fillpattern": {
             "fillmode": "overlay",
             "size": 10,
             "solidity": 0.2
            },
            "type": "scatter"
           }
          ],
          "scatter3d": [
           {
            "line": {
             "colorbar": {
              "outlinewidth": 0,
              "ticks": ""
             }
            },
            "marker": {
             "colorbar": {
              "outlinewidth": 0,
              "ticks": ""
             }
            },
            "type": "scatter3d"
           }
          ],
          "scattercarpet": [
           {
            "marker": {
             "colorbar": {
              "outlinewidth": 0,
              "ticks": ""
             }
            },
            "type": "scattercarpet"
           }
          ],
          "scattergeo": [
           {
            "marker": {
             "colorbar": {
              "outlinewidth": 0,
              "ticks": ""
             }
            },
            "type": "scattergeo"
           }
          ],
          "scattergl": [
           {
            "marker": {
             "colorbar": {
              "outlinewidth": 0,
              "ticks": ""
             }
            },
            "type": "scattergl"
           }
          ],
          "scattermapbox": [
           {
            "marker": {
             "colorbar": {
              "outlinewidth": 0,
              "ticks": ""
             }
            },
            "type": "scattermapbox"
           }
          ],
          "scatterpolar": [
           {
            "marker": {
             "colorbar": {
              "outlinewidth": 0,
              "ticks": ""
             }
            },
            "type": "scatterpolar"
           }
          ],
          "scatterpolargl": [
           {
            "marker": {
             "colorbar": {
              "outlinewidth": 0,
              "ticks": ""
             }
            },
            "type": "scatterpolargl"
           }
          ],
          "scatterternary": [
           {
            "marker": {
             "colorbar": {
              "outlinewidth": 0,
              "ticks": ""
             }
            },
            "type": "scatterternary"
           }
          ],
          "surface": [
           {
            "colorbar": {
             "outlinewidth": 0,
             "ticks": ""
            },
            "colorscale": [
             [
              0,
              "#0d0887"
             ],
             [
              0.1111111111111111,
              "#46039f"
             ],
             [
              0.2222222222222222,
              "#7201a8"
             ],
             [
              0.3333333333333333,
              "#9c179e"
             ],
             [
              0.4444444444444444,
              "#bd3786"
             ],
             [
              0.5555555555555556,
              "#d8576b"
             ],
             [
              0.6666666666666666,
              "#ed7953"
             ],
             [
              0.7777777777777778,
              "#fb9f3a"
             ],
             [
              0.8888888888888888,
              "#fdca26"
             ],
             [
              1,
              "#f0f921"
             ]
            ],
            "type": "surface"
           }
          ],
          "table": [
           {
            "cells": {
             "fill": {
              "color": "#EBF0F8"
             },
             "line": {
              "color": "white"
             }
            },
            "header": {
             "fill": {
              "color": "#C8D4E3"
             },
             "line": {
              "color": "white"
             }
            },
            "type": "table"
           }
          ]
         },
         "layout": {
          "annotationdefaults": {
           "arrowcolor": "#2a3f5f",
           "arrowhead": 0,
           "arrowwidth": 1
          },
          "autotypenumbers": "strict",
          "coloraxis": {
           "colorbar": {
            "outlinewidth": 0,
            "ticks": ""
           }
          },
          "colorscale": {
           "diverging": [
            [
             0,
             "#8e0152"
            ],
            [
             0.1,
             "#c51b7d"
            ],
            [
             0.2,
             "#de77ae"
            ],
            [
             0.3,
             "#f1b6da"
            ],
            [
             0.4,
             "#fde0ef"
            ],
            [
             0.5,
             "#f7f7f7"
            ],
            [
             0.6,
             "#e6f5d0"
            ],
            [
             0.7,
             "#b8e186"
            ],
            [
             0.8,
             "#7fbc41"
            ],
            [
             0.9,
             "#4d9221"
            ],
            [
             1,
             "#276419"
            ]
           ],
           "sequential": [
            [
             0,
             "#0d0887"
            ],
            [
             0.1111111111111111,
             "#46039f"
            ],
            [
             0.2222222222222222,
             "#7201a8"
            ],
            [
             0.3333333333333333,
             "#9c179e"
            ],
            [
             0.4444444444444444,
             "#bd3786"
            ],
            [
             0.5555555555555556,
             "#d8576b"
            ],
            [
             0.6666666666666666,
             "#ed7953"
            ],
            [
             0.7777777777777778,
             "#fb9f3a"
            ],
            [
             0.8888888888888888,
             "#fdca26"
            ],
            [
             1,
             "#f0f921"
            ]
           ],
           "sequentialminus": [
            [
             0,
             "#0d0887"
            ],
            [
             0.1111111111111111,
             "#46039f"
            ],
            [
             0.2222222222222222,
             "#7201a8"
            ],
            [
             0.3333333333333333,
             "#9c179e"
            ],
            [
             0.4444444444444444,
             "#bd3786"
            ],
            [
             0.5555555555555556,
             "#d8576b"
            ],
            [
             0.6666666666666666,
             "#ed7953"
            ],
            [
             0.7777777777777778,
             "#fb9f3a"
            ],
            [
             0.8888888888888888,
             "#fdca26"
            ],
            [
             1,
             "#f0f921"
            ]
           ]
          },
          "colorway": [
           "#636efa",
           "#EF553B",
           "#00cc96",
           "#ab63fa",
           "#FFA15A",
           "#19d3f3",
           "#FF6692",
           "#B6E880",
           "#FF97FF",
           "#FECB52"
          ],
          "font": {
           "color": "#2a3f5f"
          },
          "geo": {
           "bgcolor": "white",
           "lakecolor": "white",
           "landcolor": "#E5ECF6",
           "showlakes": true,
           "showland": true,
           "subunitcolor": "white"
          },
          "hoverlabel": {
           "align": "left"
          },
          "hovermode": "closest",
          "mapbox": {
           "style": "light"
          },
          "paper_bgcolor": "white",
          "plot_bgcolor": "#E5ECF6",
          "polar": {
           "angularaxis": {
            "gridcolor": "white",
            "linecolor": "white",
            "ticks": ""
           },
           "bgcolor": "#E5ECF6",
           "radialaxis": {
            "gridcolor": "white",
            "linecolor": "white",
            "ticks": ""
           }
          },
          "scene": {
           "xaxis": {
            "backgroundcolor": "#E5ECF6",
            "gridcolor": "white",
            "gridwidth": 2,
            "linecolor": "white",
            "showbackground": true,
            "ticks": "",
            "zerolinecolor": "white"
           },
           "yaxis": {
            "backgroundcolor": "#E5ECF6",
            "gridcolor": "white",
            "gridwidth": 2,
            "linecolor": "white",
            "showbackground": true,
            "ticks": "",
            "zerolinecolor": "white"
           },
           "zaxis": {
            "backgroundcolor": "#E5ECF6",
            "gridcolor": "white",
            "gridwidth": 2,
            "linecolor": "white",
            "showbackground": true,
            "ticks": "",
            "zerolinecolor": "white"
           }
          },
          "shapedefaults": {
           "line": {
            "color": "#2a3f5f"
           }
          },
          "ternary": {
           "aaxis": {
            "gridcolor": "white",
            "linecolor": "white",
            "ticks": ""
           },
           "baxis": {
            "gridcolor": "white",
            "linecolor": "white",
            "ticks": ""
           },
           "bgcolor": "#E5ECF6",
           "caxis": {
            "gridcolor": "white",
            "linecolor": "white",
            "ticks": ""
           }
          },
          "title": {
           "x": 0.05
          },
          "xaxis": {
           "automargin": true,
           "gridcolor": "white",
           "linecolor": "white",
           "ticks": "",
           "title": {
            "standoff": 15
           },
           "zerolinecolor": "white",
           "zerolinewidth": 2
          },
          "yaxis": {
           "automargin": true,
           "gridcolor": "white",
           "linecolor": "white",
           "ticks": "",
           "title": {
            "standoff": 15
           },
           "zerolinecolor": "white",
           "zerolinewidth": 2
          }
         }
        },
        "title": {
         "text": "Median Total Profit Results x Overall view of actions (across all the simulations)",
         "x": 0.5
        },
        "width": 1200,
        "xaxis": {
         "anchor": "y",
         "categoryorder": "category ascending",
         "domain": [
          0,
          0.94
         ],
         "matches": "x4",
         "showticklabels": false
        },
        "xaxis2": {
         "anchor": "y3",
         "domain": [
          0,
          0.94
         ],
         "matches": "x4",
         "showticklabels": false
        },
        "xaxis3": {
         "anchor": "y5",
         "domain": [
          0,
          0.94
         ],
         "matches": "x4",
         "showticklabels": false
        },
        "xaxis4": {
         "anchor": "y7",
         "domain": [
          0,
          0.94
         ]
        },
        "yaxis": {
         "anchor": "x",
         "domain": [
          0.84375,
          1
         ],
         "matches": "y7",
         "title": {
          "text": "Proportion of trades<br>across all the simulations"
         }
        },
        "yaxis2": {
         "anchor": "x",
         "overlaying": "y",
         "side": "right",
         "title": {
          "text": "CCY level with the<br>sim_id actions related"
         }
        },
        "yaxis3": {
         "anchor": "x2",
         "domain": [
          0.5625,
          0.71875
         ],
         "matches": "y7",
         "title": {
          "text": "Proportion of trades<br>across all the simulations"
         }
        },
        "yaxis4": {
         "anchor": "x2",
         "overlaying": "y3",
         "side": "right",
         "title": {
          "text": "CCY level with the<br>sim_id actions related"
         }
        },
        "yaxis5": {
         "anchor": "x3",
         "domain": [
          0.28125,
          0.4375
         ],
         "matches": "y7",
         "title": {
          "text": "Proportion of trades<br>across all the simulations"
         }
        },
        "yaxis6": {
         "anchor": "x3",
         "overlaying": "y5",
         "side": "right",
         "title": {
          "text": "CCY level with the<br>sim_id actions related"
         }
        },
        "yaxis7": {
         "anchor": "x4",
         "domain": [
          0,
          0.15625
         ],
         "title": {
          "text": "Proportion of trades<br>across all the simulations"
         }
        },
        "yaxis8": {
         "anchor": "x4",
         "overlaying": "y7",
         "side": "right",
         "title": {
          "text": "CCY level with the<br>sim_id actions related"
         }
        }
       }
      }
     },
     "metadata": {},
     "output_type": "display_data"
    }
   ],
   "source": [
    "plot_trader_robot_actions_all_sim_id_all_models(config_file_name_without_extension, \"\", \"\", median_sim_id_DQN, \"\")"
   ]
  },
  {
   "cell_type": "code",
   "execution_count": 30,
   "metadata": {},
   "outputs": [
    {
     "name": "stdout",
     "output_type": "stream",
     "text": [
      "mean_reward=0.00 +/- 0.0\n"
     ]
    }
   ],
   "source": [
    "# Evaluate the loaded policy\n",
    "mean_reward, std_reward = evaluate_policy(saved_policy, env, n_eval_episodes=10, deterministic=True)\n",
    "\n",
    "print(f\"mean_reward={mean_reward:.2f} +/- {std_reward}\")"
   ]
  },
  {
   "cell_type": "code",
   "execution_count": null,
   "metadata": {},
   "outputs": [],
   "source": []
  }
 ],
 "metadata": {
  "kernelspec": {
   "display_name": "msc_uol_ai_dissertation",
   "language": "python",
   "name": "python3"
  },
  "language_info": {
   "codemirror_mode": {
    "name": "ipython",
    "version": 3
   },
   "file_extension": ".py",
   "mimetype": "text/x-python",
   "name": "python",
   "nbconvert_exporter": "python",
   "pygments_lexer": "ipython3",
   "version": "3.8.13 | packaged by conda-forge | (default, Mar 25 2022, 06:04:14) \n[Clang 12.0.1 ]"
  },
  "orig_nbformat": 4,
  "vscode": {
   "interpreter": {
    "hash": "0c0f2ae3d5d9aa27c4a2afc20f28a2482dc1006477ab22953abc78c31c7bb5b2"
   }
  }
 },
 "nbformat": 4,
 "nbformat_minor": 2
}
