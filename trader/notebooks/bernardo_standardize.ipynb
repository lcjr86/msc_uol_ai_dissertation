{
 "cells": [
  {
   "cell_type": "code",
   "execution_count": 7,
   "metadata": {},
   "outputs": [],
   "source": [
    "import warnings\n",
    "warnings.filterwarnings('ignore')\n",
    "\n",
    "from configparser import ConfigParser\n",
    "\n",
    "from typing import Callable\n",
    "\n",
    "import gym\n",
    "import gym_anytrading\n",
    "\n",
    "from gym_anytrading.envs import CryptoEnvLogINFER\n",
    "\n",
    "from stable_baselines3.common.vec_env import DummyVecEnv, SubprocVecEnv\n",
    "from stable_baselines3 import A2C, PPO, DQN\n",
    "from stable_baselines3.common.evaluation import evaluate_policy\n",
    "from stable_baselines3.common.env_util import make_vec_env\n",
    "from stable_baselines3.common.utils import set_random_seed\n",
    "\n",
    "#from stable_baselines3.dqn.policies import MlpPolicy\n",
    "from stable_baselines3.ppo.policies import MlpPolicy\n",
    "\n",
    "import tensorflow as tf\n",
    "\n",
    "import numpy as np\n",
    "import pandas as pd\n",
    "import plotly.express as px\n",
    "import plotly.graph_objects as go\n",
    "from plotly.subplots import make_subplots\n",
    "import os\n",
    "import datetime\n",
    "\n",
    "import multiprocessing\n",
    "\n",
    "import quantstats as qs\n",
    "\n",
    "import sqlite3\n",
    "from sqlalchemy import create_engine"
   ]
  },
  {
   "cell_type": "code",
   "execution_count": 8,
   "metadata": {},
   "outputs": [
    {
     "name": "stdout",
     "output_type": "stream",
     "text": [
      "['../../simulations/config_files/config_03a_mix_infer.ini']\n"
     ]
    }
   ],
   "source": [
    "configur = ConfigParser()\n",
    "config_file_name = \"config_03a_mix_infer.ini\"\n",
    "print (configur.read(os.path.join('../../simulations/config_files', config_file_name)))"
   ]
  },
  {
   "cell_type": "code",
   "execution_count": 9,
   "metadata": {},
   "outputs": [],
   "source": [
    "config_file_name_without_extension = config_file_name.replace(\".ini\", \"\")\n",
    "\n",
    "ccy = configur.get('data', 'ccy')\n",
    "\n",
    "data_frequency_train = configur.get('data', 'data_frequency_train')\n",
    "data_frequency_val = configur.get('data', 'data_frequency_val')\n",
    "\n",
    "start_date_train = configur.get('environment', 'start_date')\n",
    "\n",
    "window_size = configur.getint('environment', 'window_size')\n",
    "list_features = configur.get('environment', 'features').split(',')\n",
    "target = configur.get('environment', 'target')"
   ]
  },
  {
   "cell_type": "code",
   "execution_count": 10,
   "metadata": {},
   "outputs": [],
   "source": [
    "# model_name = \"DQN\"\n",
    "# # the saved model does not contain the replay buffer\n",
    "# loaded_model = DQN.load(\"../../simulations/save_models_components/model/model_DQN_\"+ config_file_name_without_extension + \".zip\")\n",
    "# print(f\"The loaded_model has {loaded_model.replay_buffer.size()} transitions in its buffer\")\n",
    "\n",
    "# # load it into the loaded_model\n",
    "# loaded_model.load_replay_buffer(\"../../simulations/save_models_components/replay_buffer/replay_buffer_DQN_\" + config_file_name_without_extension + \".pkl\")\n",
    "\n",
    "# # now the loaded replay is not empty anymore\n",
    "# print(f\"The loaded_model has {loaded_model.replay_buffer.size()} transitions in its buffer\")\n",
    "\n",
    "# saved_policy = MlpPolicy.load(\"../../simulations/save_models_components/policy/policy_DQN_\" + config_file_name_without_extension)"
   ]
  },
  {
   "cell_type": "code",
   "execution_count": 11,
   "metadata": {},
   "outputs": [],
   "source": [
    "model_name = \"PPO\"\n",
    "# the saved model does not contain the replay buffer\n",
    "loaded_model = PPO.load(\"../../simulations/save_models_components/model/model_PPO_\"+ config_file_name_without_extension + \".zip\")\n",
    "\n",
    "saved_policy = MlpPolicy.load(\"../../simulations/save_models_components/policy/policy_PPO_\" + config_file_name_without_extension)"
   ]
  },
  {
   "cell_type": "code",
   "execution_count": 12,
   "metadata": {},
   "outputs": [],
   "source": [
    "mid_date='2023-01-01 00:00:00'\n",
    "end_date='2023-02-07 00:00:00'"
   ]
  },
  {
   "cell_type": "code",
   "execution_count": 13,
   "metadata": {},
   "outputs": [],
   "source": [
    "def get_and_process_data(ccy, data_frequency, start_date, end_date):\n",
    "    try:\n",
    "        \n",
    "        # Get the data\n",
    "        db_address = 'sqlite:///../../data/db/crypto.db'\n",
    "        engine = create_engine(db_address, echo=False)\n",
    "        sqlite_connection = engine.connect()\n",
    "\n",
    "        input_tbl_name = \"tbl_all_features\" + \"_\" + ccy + \"_\" + data_frequency\n",
    "        \n",
    "        sql_command = \"SELECT * FROM \" + input_tbl_name\n",
    "\n",
    "        if(start_date!=\"\" and end_date!=\"\"):\n",
    "            \n",
    "            sd = datetime.datetime.strptime(start_date,'%d %b, %Y').strftime('%Y-%m-%d')\n",
    "            ed = datetime.datetime.strptime(end_date,'%d %b, %Y').strftime('%Y-%m-%d')\n",
    "\n",
    "            sql_append = \" WHERE \" + \"date(date) >= \" + \"'\" + sd + \"'\" + \" AND date(date) <= \" + \"'\" + ed + \"'\"\n",
    "            sql_command = sql_command + sql_append\n",
    "\n",
    "        df = pd.read_sql(sql_command, sqlite_connection)\n",
    "\n",
    "        sqlite_connection.close()\n",
    "\n",
    "        # Converting Date Column to DateTime Type\n",
    "        # Set the index on the dataframe\n",
    "        df['date_index'] = df['date']\n",
    "        df.set_index('date_index', inplace=True)\n",
    "\n",
    "        return df\n",
    "\n",
    "    except Exception as e:\n",
    "        print(e)"
   ]
  },
  {
   "cell_type": "code",
   "execution_count": 14,
   "metadata": {},
   "outputs": [],
   "source": [
    "def standardize_data(df, list_columns):\n",
    "    for col in list_columns:\n",
    "        df[col] = (df[col] - df[col].mean()) / df[col].std()\n",
    "    return df"
   ]
  },
  {
   "cell_type": "code",
   "execution_count": 15,
   "metadata": {},
   "outputs": [],
   "source": [
    "# Format the data\n",
    "start_date_temp = datetime.datetime.strptime(mid_date,'%Y-%m-%d %H:%M:%S')\n",
    "start_date_temp2 = start_date_temp + datetime.timedelta(days=-(window_size+1))\n",
    "start_date_db = start_date_temp2.strftime('%d %b, %Y')\n",
    "end_date_db = datetime.datetime.strptime(end_date,'%Y-%m-%d %H:%M:%S').strftime('%d %b, %Y')"
   ]
  },
  {
   "cell_type": "code",
   "execution_count": 16,
   "metadata": {},
   "outputs": [],
   "source": [
    "df_val = get_and_process_data(ccy, data_frequency_val, start_date_db, end_date_db)\n",
    "df_val = standardize_data(df_val, list_features)"
   ]
  },
  {
   "cell_type": "code",
   "execution_count": 17,
   "metadata": {},
   "outputs": [],
   "source": [
    "mid_date_id_val = int(df_val.index.get_loc(datetime.datetime.strptime(mid_date,'%Y-%m-%d %H:%M:%S').strftime('%Y-%m-%d %H:%M:%S.%f')))\n",
    "end_date_id_val = int(df_val.index.get_loc(datetime.datetime.strptime(end_date,'%Y-%m-%d %H:%M:%S').strftime('%Y-%m-%d %H:%M:%S.%f')))"
   ]
  },
  {
   "cell_type": "code",
   "execution_count": 18,
   "metadata": {},
   "outputs": [],
   "source": [
    "def my_process_data(env):\n",
    "    start = env.frame_bound[0] - env.window_size\n",
    "    end = env.frame_bound[1]\n",
    "    prices = env.df.loc[:, target].to_numpy()[start:end]\n",
    "    signal_features = env.df.loc[:, list_features].to_numpy()[start:end]\n",
    "    dates = env.df.index.to_numpy()[start:end]\n",
    "    return prices, signal_features, dates\n",
    "\n",
    "class MyEnv(CryptoEnvLogINFER):\n",
    "    _process_data = my_process_data"
   ]
  },
  {
   "cell_type": "code",
   "execution_count": 19,
   "metadata": {},
   "outputs": [],
   "source": [
    "env = MyEnv(df=df_val, frame_bound=(mid_date_id_val,end_date_id_val), window_size=window_size)"
   ]
  },
  {
   "cell_type": "code",
   "execution_count": 20,
   "metadata": {},
   "outputs": [],
   "source": [
    "num_of_simulations=1000"
   ]
  },
  {
   "cell_type": "code",
   "execution_count": 21,
   "metadata": {},
   "outputs": [],
   "source": [
    "df_sim_results = pd.DataFrame()\n",
    "df_robot_actions_and_env_final = pd.DataFrame()\n",
    "\n",
    "df_sim_results_temp = pd.DataFrame(columns=['total_reward_cash', 'total_profit_percentage', 'fmt_total_profit_percentage', 'num_of_trades'])\n",
    "df_robot_actions_and_env_temp = pd.DataFrame(columns=['dates', 'prices', 'actions', 'total_reward_cash', 'total_profit_percentage', 'fmt_total_profit_percentage', 'num_of_trades', 'sim_id'])\n",
    "\n",
    "list_sim_id = []\n",
    "\n",
    "sim_id = 1\n",
    "for i in range(num_of_simulations):   \n",
    "\n",
    "    #Setting up the Agent Environment\n",
    "    obs = env.reset()\n",
    "\n",
    "    list_sim_id.append(sim_id)\n",
    "\n",
    "    while True: \n",
    "        obs = obs[np.newaxis, ...]\n",
    "\n",
    "        action, _states = loaded_model.predict(obs)\n",
    "        \n",
    "        obs, rewards, done, info = env.step(action)\n",
    "        \n",
    "        if done:\n",
    "            df_sim_results_temp = df_sim_results_temp.append(info, ignore_index=True, sort=False)\n",
    "            break\n",
    "\n",
    "    # Export robot actions plot and data\n",
    "    fig, df_robot_actions = env.render_all()\n",
    "    # fig.write_html(os.path.join('results', 'plots', 'robot_actions', 'robot_actions_' + config_file_name_without_extension + '_sim_id_' + str(sim_id) + '.html'))\n",
    "\n",
    "    # Export the history of details (the info dict inside of the environment)\n",
    "    df_sim_env_data = pd.DataFrame.from_dict(env.history)\n",
    "\n",
    "    # Merge robot actions data + sim env data\n",
    "    df_sim_env_data_initial = pd.DataFrame(columns=['total_reward_cash', 'total_profit_percentage', 'fmt_total_profit_percentage', 'num_of_trades'])\n",
    "    for i in range(0, window_size + 1):\n",
    "        df_sim_env_data_initial = df_sim_env_data_initial.append(pd.Series([0, 0, 0, 0], index=df_sim_env_data_initial.columns), ignore_index=True)\n",
    "    \n",
    "    df_sim_env_data_temp = df_sim_env_data_initial.append(df_sim_env_data, ignore_index=True)\n",
    "    \n",
    "    df_robot_actions_and_env_temp = pd.merge(df_robot_actions, df_sim_env_data_temp, left_index=True, right_index=True, how = \"outer\")\n",
    "    df_robot_actions_and_env_temp['sim_id'] = sim_id\n",
    "\n",
    "    df_robot_actions_and_env_final = pd.concat([df_robot_actions_and_env_final, df_robot_actions_and_env_temp], axis=0)\n",
    "\n",
    "    sim_id = sim_id + 1\n",
    "\n",
    "df_sim_results_temp['sim_id'] = list_sim_id\n",
    "df_sim_results_temp['ccy'] = ccy\n",
    "df_sim_results_temp['data_frequency_train'] = data_frequency_train\n",
    "df_sim_results_temp['data_frequency_val'] = data_frequency_val\n",
    "df_sim_results_temp['window_size'] = window_size\n",
    "df_sim_results_temp['start_date'] = start_date_train\n",
    "df_sim_results_temp['mid_date'] = mid_date\n",
    "df_sim_results_temp['end_date'] = end_date\n",
    "df_sim_results_temp['target'] = target\n",
    "df_sim_results_temp['list_features'] = str(list_features)\n",
    "df_sim_results_temp['model_type'] = model_name \n",
    "df_sim_results_temp['num_of_simulations'] = num_of_simulations   \n",
    "\n",
    "df_sim_results = pd.concat([df_sim_results, df_sim_results_temp], axis=0)"
   ]
  },
  {
   "cell_type": "code",
   "execution_count": 22,
   "metadata": {},
   "outputs": [],
   "source": [
    "df_sim_results = df_sim_results.reset_index(drop=True)\n",
    "df_sim_results = df_sim_results.drop_duplicates()\n",
    "\n",
    "## SIMULATION RESULTS\n",
    "\n",
    "# Format data type\n",
    "df_sim_results['start_date'] = pd.to_datetime(df_sim_results['start_date'])\n",
    "df_sim_results['mid_date'] = pd.to_datetime(df_sim_results['mid_date'])\n",
    "df_sim_results['end_date'] = pd.to_datetime(df_sim_results['end_date'])\n",
    "\n",
    "# Write to the db\n",
    "db_address = 'sqlite:///../results/data/db/trader.db'\n",
    "engine = create_engine(db_address, echo=False)\n",
    "sqlite_connection = engine.connect()\n",
    "\n",
    "output_tbl_name = \"tbl_trader_bernardo_simulation_results_\" + config_file_name_without_extension\n",
    "\n",
    "df_sim_results.to_sql(output_tbl_name, sqlite_connection, if_exists='replace', index=False)\n",
    "\n",
    "sqlite_connection.close()\n",
    "\n",
    "## ROBOT ACTIONS and ENV RESULTS\n",
    "\n",
    "# Format data type\n",
    "df_robot_actions_and_env_final['dates'] = pd.to_datetime(df_robot_actions_and_env_final['dates'])\n",
    "df_robot_actions_and_env_final['total_reward_cash'] = df_robot_actions_and_env_final['total_reward_cash'].astype(float)\n",
    "df_robot_actions_and_env_final['total_profit_percentage'] = df_robot_actions_and_env_final['total_profit_percentage'].astype(float)\n",
    "df_robot_actions_and_env_final['fmt_total_profit_percentage'] = df_robot_actions_and_env_final['fmt_total_profit_percentage'].astype(float)\n",
    "df_robot_actions_and_env_final['num_of_trades'] = df_robot_actions_and_env_final['num_of_trades'].astype(float)\n",
    "\n",
    "# Write to the db\n",
    "db_address = 'sqlite:///../results/data/db/trader.db'\n",
    "engine = create_engine(db_address, echo=False)\n",
    "sqlite_connection = engine.connect()\n",
    "\n",
    "output_tbl_name = \"tbl_trader_bernardo_robot_actions_and_env_\" + config_file_name_without_extension\n",
    "\n",
    "df_robot_actions_and_env_final.to_sql(output_tbl_name, sqlite_connection, if_exists='replace', index=False)\n",
    "\n",
    "sqlite_connection.close()"
   ]
  },
  {
   "attachments": {},
   "cell_type": "markdown",
   "metadata": {},
   "source": [
    "## Get Data"
   ]
  },
  {
   "cell_type": "code",
   "execution_count": 23,
   "metadata": {},
   "outputs": [],
   "source": [
    "def get_and_process_trader_data(config_file_name_without_extension):\n",
    "    try:\n",
    "        \n",
    "        # Get the data\n",
    "        db_address = 'sqlite:///../results/data/db/trader.db'\n",
    "        engine = create_engine(db_address, echo=False)\n",
    "        sqlite_connection = engine.connect()\n",
    "\n",
    "        input_tbl_name = \"tbl_trader_bernardo_simulation_results\" + \"_\" + config_file_name_without_extension\n",
    "        \n",
    "        sql_command = \"SELECT * FROM \" + input_tbl_name\n",
    "\n",
    "        df = pd.read_sql(sql_command, sqlite_connection)\n",
    "\n",
    "        sqlite_connection.close()\n",
    "\n",
    "        return df\n",
    "\n",
    "    except Exception as e:\n",
    "        print(e)"
   ]
  },
  {
   "cell_type": "code",
   "execution_count": 24,
   "metadata": {},
   "outputs": [],
   "source": [
    "df_trader_results = get_and_process_trader_data(config_file_name_without_extension)"
   ]
  },
  {
   "cell_type": "code",
   "execution_count": 25,
   "metadata": {},
   "outputs": [
    {
     "data": {
      "application/vnd.plotly.v1+json": {
       "config": {
        "plotlyServerURL": "https://plot.ly"
       },
       "data": [
        {
         "alignmentgroup": "True",
         "boxpoints": "all",
         "hovertemplate": "model_type=PPO<br>fmt_total_profit_percentage=%{y}<extra></extra>",
         "legendgroup": "PPO",
         "marker": {
          "color": "#FF7F0E"
         },
         "name": "PPO",
         "notched": false,
         "offsetgroup": "PPO",
         "orientation": "v",
         "showlegend": true,
         "type": "box",
         "x0": " ",
         "xaxis": "x",
         "y": [
          -20.243580080973643,
          3.351848552875314,
          -11.868212219980713,
          -7.188159843772479,
          -3.7946095466429575,
          -29.469169343864653,
          -20.62915044277618,
          -11.82924703474889,
          9.052324969808412,
          -3.1720450280133705,
          -18.95466048542658,
          -8.85382039228071,
          5.20373193034076,
          9.583914223574986,
          -21.265763972582263,
          7.549175961038546,
          -2.7678274052166163,
          -17.49170998275521,
          6.302227742574096,
          -24.593319905340582,
          -12.39991733427962,
          -19.064803947100273,
          -23.554466017359708,
          -17.75118884745619,
          -20.892081698910914,
          -17.857468806379284,
          -9.82538651844157,
          -1.7583394464159796,
          -9.558169022235251,
          -9.475242025747132,
          -0.815371179965596,
          7.983664204224383,
          -16.957725586856842,
          -14.685781848349533,
          -10.090430239776571,
          -11.329255417182448,
          -0.5701899812381561,
          -4.530733795778275,
          7.56033635543143,
          -11.010596444144783,
          -9.276000747365142,
          19.763455796578675,
          -15.824594974930905,
          -7.893846883201439,
          -21.18252147615598,
          -5.678690868787717,
          -15.807598967289616,
          -6.947753485201568,
          -16.811610186845215,
          -14.331398495983693,
          -7.724454275585324,
          -28.642368932647344,
          -12.437037803929273,
          3.107093857104215,
          -8.027158098140896,
          -4.456157645037962,
          -2.572197581276059,
          -21.17528930652971,
          -28.863889629743433,
          -0.7625113090382385,
          -5.531155007947208,
          0.21878710316394212,
          2.328205126239813,
          5.8701460939153405,
          19.296925187946567,
          -21.163420687946,
          2.5006764860326047,
          3.529148731002829,
          18.741457085573444,
          -21.893399347395658,
          -0.5075722050422171,
          -29.83668490247473,
          -4.906751506950114,
          -24.081770989825223,
          4.328350745252441,
          -10.988306873997756,
          -8.11345946826062,
          -9.832654353327541,
          -9.593017596118504,
          -8.855785366732672,
          -16.718338201731697,
          -6.739327528242223,
          0.19274698597946394,
          -19.57001856908497,
          -14.073461533454623,
          -9.040760624648803,
          -8.980707353248828,
          -4.888646273350994,
          -10.687326096242632,
          -20.655422862056206,
          2.2876597098075546,
          -32.250075961436266,
          -7.082263166029601,
          -9.45356581932797,
          -2.3127772333619845,
          -3.0979757855480794,
          -26.363603042411942,
          -23.14725498813156,
          -30.31706698629495,
          -17.011684383514837,
          -11.822056251433622,
          12.748563519110512,
          -25.03171168250935,
          6.515203687899684,
          -12.608906831968913,
          -26.52796102450088,
          -6.231981970352263,
          -20.13336214847712,
          -3.183986266037653,
          -10.257571136390153,
          -5.26512752151167,
          -5.760776503457732,
          0.15960325327615266,
          -10.477315854836133,
          5.394542982507677,
          -8.078648016334855,
          -12.151920418299833,
          -4.524027776178341,
          -5.922462373862524,
          12.51966884090001,
          0.27622702742389205,
          -11.391545994949304,
          1.4463455537215841,
          -6.006160318148113,
          -12.181914915616455,
          27.8310245670885,
          5.232282031455782,
          -12.503326252841129,
          -0.013525131074043628,
          -16.967578130461213,
          -13.197802197479946,
          -8.658809953400826,
          24.008326039306873,
          7.388831941402851,
          -26.498296147559685,
          -18.159440246118308,
          -1.9068165888318833,
          -18.64604153146795,
          20.127523687416925,
          -19.209640223726442,
          -9.864919381512472,
          -15.452543570800492,
          -12.62346819744742,
          -3.695480040850485,
          -6.686455414603653,
          8.826077887730577,
          -16.406098852922625,
          -28.35350354579811,
          -22.640456459091574,
          -11.61563124335261,
          -1.4042626850741757,
          -18.824911628316066,
          -7.016384854732516,
          -7.3173142117489265,
          -8.686396438167588,
          24.062095381930092,
          -2.590215729486478,
          -15.697850874361185,
          -26.479315049657693,
          -12.048464117048074,
          -7.367924566322515,
          -0.2645169484732479,
          -22.43612290148057,
          -5.349333040198212,
          -16.338683694847944,
          -24.281072278997296,
          5.274578334560953,
          -10.560854481290981,
          -3.2319952882905345,
          29.698473166885186,
          3.1807293007454884,
          3.1118219511648615,
          -16.712861172537906,
          -3.3365753248746577,
          -13.053101331953565,
          -4.7194613647198125,
          -9.100571048878303,
          1.083801693414732,
          -15.784129723717788,
          -24.864823237051958,
          -4.180007597578317,
          -16.68424392671939,
          -10.645972340606702,
          13.279810075138387,
          -7.018285294294547,
          -8.354231459909956,
          12.939059958559262,
          -1.3073361961141838,
          -3.009852286412562,
          -16.820348145697917,
          5.228524397975343,
          -10.544476353260546,
          7.262040172826256,
          1.5228161657543149,
          -2.292322067642538,
          -2.196982866344477,
          -0.3744737448601154,
          -19.69163190615133,
          3.3741219297244385,
          -17.113744585520685,
          -0.9565083842982047,
          5.575393601657619,
          -11.90582583677119,
          -24.112218573301757,
          7.754517585116516,
          -6.067361529633586,
          0.48229344369488114,
          -16.976803100476022,
          -4.4384238923342645,
          -11.363246609234679,
          -15.074213855665164,
          1.9544882346095749,
          -14.267670229224006,
          0.38648164624108805,
          5.489465939223037,
          -21.926852997304568,
          -7.4537457356459,
          3.86791787475651,
          -7.978432661458401,
          -14.697932990340156,
          -7.490246485775542,
          -13.070531329632063,
          -12.779066649257842,
          -10.160941683342061,
          4.277332547767165,
          15.12116670275201,
          -4.951323948170083,
          -8.396664681661726,
          -17.041935450553847,
          3.6562405059174408,
          -11.117337074783896,
          9.586716054532985,
          7.9092023040451265,
          3.6297198859386093,
          -11.07771012812153,
          -13.634050476575677,
          5.934796034226486,
          7.251957444483548,
          -20.860404003111512,
          -17.412494113312437,
          -23.982040477149237,
          -24.222983792764417,
          -0.2891070610384072,
          5.076849861569421,
          1.2326748940276744,
          -8.51286740409204,
          -9.646198884942336,
          12.869532388839588,
          6.778650218995752,
          -11.812301101857281,
          -10.825804048461162,
          -6.137482640377289,
          -14.704298563923214,
          -10.52492788199524,
          -4.4186573560546005,
          6.538139269391352,
          -23.19746589487678,
          -8.857005109340932,
          -18.502953332279017,
          -20.229308502734654,
          5.0861946233378585,
          15.12926956184073,
          -8.436877080024075,
          -12.045370524465815,
          -18.118669720442902,
          -17.079785584140982,
          27.01446134930674,
          -7.7714820720833355,
          13.556961199116646,
          -13.765582733638626,
          -2.956094673104248,
          -11.363151122941185,
          8.801412787042494,
          4.51129527105969,
          -16.19649405282775,
          -9.456905898159008,
          9.342690546547727,
          1.6430432067181977,
          -11.189734200213985,
          16.192691644734737,
          -1.3511206922841912,
          12.669598538409854,
          5.2400938065112035,
          -12.137334298512725,
          1.3191852830548134,
          -1.6499648823831814,
          -31.027413879794917,
          -11.747908194000644,
          -6.943249532493478,
          -22.475401458429168,
          3.9839965602955996,
          -18.08698276346451,
          -3.371164690658479,
          3.6280303961234273,
          10.115823652708599,
          -2.7651238263592615,
          8.371511420769352,
          -11.003961507846594,
          -9.030971330225269,
          -2.0024524191481485,
          -7.7135012295906025,
          -31.5691902707555,
          24.30666077895596,
          -19.57806176576694,
          -14.799354626706052,
          -23.339529371390565,
          -6.724772057917761,
          -20.039069876714255,
          -3.792433936897266,
          -11.935036809208533,
          -0.339866617895368,
          -3.477048947266348,
          7.06878110892093,
          -2.7061243243466038,
          10.943622526932417,
          -7.530944024216312,
          -23.400764598319558,
          -13.129853591421913,
          -1.6139917576467377,
          -16.32442780215525,
          5.011094218601286,
          -3.0642593994991696,
          -8.063583975761645,
          11.644383856452144,
          -17.283880005275943,
          -9.067830420402146,
          -14.02055783478403,
          -22.073571077344166,
          -18.209485964303905,
          16.71636179831748,
          -5.4214962710258385,
          -21.459133824114897,
          -24.687831952721172,
          4.01221643135774,
          -7.039438664125585,
          -0.05778262920325128,
          -20.976955393848563,
          -18.01148905749932,
          -19.894644257939873,
          -13.027577109682753,
          -4.481681624201494,
          -12.91549357570868,
          -10.836081618076566,
          9.021218124954821,
          -7.820296359350309,
          -30.211042004465384,
          -8.660932465060734,
          -15.892775888981047,
          -30.9351960551156,
          18.112912605214614,
          -13.059756242794762,
          -5.957273378169492,
          9.048030752428593,
          -24.84098784265565,
          12.566090937403196,
          -6.904442967984103,
          -17.813993793248063,
          2.822496036420552,
          -6.370450026540997,
          1.9652607834091729,
          -8.09771356122969,
          16.93035626422139,
          -17.29643520013434,
          -11.004314545625938,
          -11.033373684013625,
          -7.363762897689918,
          -9.03127622246872,
          3.397309718544017,
          -17.710660201248384,
          -29.59054669455724,
          -3.105325048748775,
          -12.504410870677884,
          -13.561815008817312,
          -9.40281275840401,
          -5.11796373143908,
          -22.17414955950713,
          -1.4133327556134279,
          1.1810727649819386,
          -11.002202939293515,
          14.450460747342287,
          -0.35460916054447233,
          -15.289422831253052,
          -24.045005548674492,
          4.928003851535623,
          -31.52646878192136,
          -5.39828147216318,
          -7.533839426391609,
          -13.95812995911635,
          -3.2668254485951675,
          -4.092361272784539,
          10.991668321533377,
          -11.045683022695819,
          -1.8489748341916634,
          -12.249859739889303,
          18.574988280663195,
          -4.819237960772593,
          12.811947914289835,
          -19.076437034725213,
          -27.67112803685283,
          4.934768845931559,
          -11.273932216670346,
          -22.30339322498652,
          -30.293943925809884,
          -18.221950718611613,
          -22.90643398392801,
          -7.363511796367906,
          25.843829130950734,
          -4.620297975936971,
          6.362296364007647,
          18.62973754391424,
          -24.78638139335516,
          -3.560681553623113,
          -28.394505669365532,
          -1.427570710749615,
          -25.079545820501203,
          -32.06226374572352,
          -16.576607345576488,
          -24.821149894380778,
          -3.5300674672402055,
          -22.504690453490518,
          -2.9374763716527252,
          -21.466911467606863,
          -17.231643880903256,
          -24.570490520706876,
          -19.365348833856054,
          -10.68330976314763,
          5.027134883022777,
          -12.984978999201024,
          -8.644408387683178,
          -9.301404842610362,
          17.563931801826914,
          14.141362614067642,
          -21.458877766124075,
          -31.439814190641048,
          -28.213750072769294,
          -7.69851527541644,
          -7.501015157680769,
          -7.697409181176662,
          -19.589056009876384,
          -14.889222134244273,
          -14.722829113466018,
          -3.5825647409475248,
          -9.520938453710093,
          -18.25767441424524,
          -6.588739972785829,
          -15.357823368468448,
          -2.2027399397499647,
          -21.51267651505161,
          -9.431509546396931,
          -10.162602262693387,
          -2.5419315939584464,
          -13.618765860157433,
          4.444048115269261,
          -15.486225182465496,
          -28.032007035059014,
          -6.0332052857574485,
          -7.255642227760739,
          -15.638630542923316,
          -16.579512238846704,
          -1.2821012035921786,
          -6.841479720057608,
          -10.407027075200936,
          -6.362969303325084,
          -15.085761054233604,
          -16.28707180710043,
          -9.431902565703709,
          -5.546071989342649,
          -26.61699613916645,
          23.062812044004176,
          -14.945440835564527,
          -19.78659869699737,
          -16.710957195541308,
          -12.54558295313809,
          -19.504573518267023,
          -19.31595600689696,
          6.237484977885366,
          18.494751791036034,
          -20.39415053056821,
          -16.531963671943394,
          -23.542637495042296,
          -6.0305084315256385,
          -3.4159902494025896,
          -11.549357654182169,
          0.15423856364922273,
          8.535914072554185,
          -1.8005413350225208,
          5.141315125229928,
          -8.829878286288828,
          -8.806519429555282,
          29.083055853017004,
          17.382993301372164,
          2.666578834433486,
          -15.077795692580231,
          3.253764434691475,
          -26.12021949740401,
          1.9372563086624606,
          1.3977049419032328,
          -10.04658582540696,
          -9.815017714015628,
          -2.7971685871121643,
          -2.9142854770964455,
          4.450219815887291,
          -2.132721069635646,
          -22.99600685331209,
          11.161528880228722,
          -17.700037505028664,
          2.703688032398688,
          -32.937210205366284,
          0.8318748360125694,
          -15.14761725638124,
          4.545558028325991,
          -16.41676465624683,
          -5.345247556521371,
          0.527520520209035,
          -20.649182325235728,
          -11.065597693865936,
          -21.511953022184937,
          -18.376653256430043,
          -12.498238653873884,
          -3.7523736858490198,
          -14.334938197593704,
          -6.333451716542671,
          -16.779749333283345,
          9.282488512231101,
          -15.457021639720537,
          -14.5659934642134,
          -13.02933614203834,
          -9.612509104411181,
          6.622152852119068,
          6.517151109346209,
          7.632218320686257,
          -21.97018898817734,
          -7.572437882476002,
          -14.238391576097719,
          -5.295522049117862,
          17.030335293859512,
          -21.874257508077466,
          -8.82532830978816,
          27.643268160755753,
          -10.84414588993765,
          -1.4837427385422042,
          -18.11912743633213,
          -2.117120212360646,
          -13.362278822994922,
          -17.225575765746605,
          -8.283366775820022,
          -9.98050468026862,
          3.35327133941552,
          5.589176818485031,
          4.731545229434264,
          -19.165809922221843,
          -6.912553787529485,
          -22.113466524516234,
          -11.811112106951715,
          -12.307672796563585,
          0.5337467851159072,
          -28.101404720337577,
          -3.28607050658255,
          -20.047764968866044,
          -17.72447449424427,
          -17.26562486842336,
          -1.8332763884417291,
          -14.48685194700612,
          -7.086899468927433,
          -23.634757161233743,
          -13.291838208837458,
          8.566501463375275,
          -17.986869737663348,
          -26.136110872257913,
          7.622627374371982,
          -24.72494510931029,
          -17.607596390139967,
          -27.5961240862147,
          -16.17171376090004,
          -15.657254761151906,
          -21.265157423048354,
          12.601162443614333,
          -22.280919705517643,
          -13.897233169455747,
          4.426574216889878,
          -22.331657663792903,
          -7.377815222802364,
          -14.127844523692412,
          -5.588895088448808,
          -6.582187835380426,
          2.729850266607725,
          -8.470171586770547,
          -14.511634766805425,
          -20.519860401522404,
          -12.533149298742497,
          -20.087091404939194,
          -17.979338239913446,
          2.385085212606519,
          -7.5913033747212815,
          -8.138547921674654,
          -13.6585470790902,
          -1.9601715696107247,
          14.65633092261125,
          -2.803103737715218,
          -15.755506818037668,
          -23.550484193279154,
          8.154687409424511,
          2.5672600278650926,
          -30.294562913403244,
          -12.949786913655304,
          -25.769299788825396,
          -17.570612404612596,
          -30.33985187688647,
          -11.029702696029986,
          -28.4897107518825,
          -2.7366981998364848,
          -11.64878932443294,
          5.354023946346476,
          0.9626798777398804,
          -2.986909240086799,
          -13.104355983158344,
          -13.13015504321957,
          -13.47427025562281,
          -30.14508243748063,
          -9.278582364579247,
          8.923873136082051,
          -9.703132481021793,
          -15.466107720839851,
          -24.13489517023023,
          -7.343370555793516,
          3.173518124964758,
          -2.146800149841843,
          -3.230335228649195,
          -14.021742063854948,
          -9.55430433565505,
          -1.604328546035727,
          29.9578623841146,
          -4.870631828414984,
          -4.132005023367025,
          -9.795450481140843,
          -9.008409012463181,
          -23.9937265980659,
          10.47266643018181,
          1.8912891137454313,
          -3.1121621561233104,
          1.7694336172999092,
          -4.658944742830862,
          -33.68769877834754,
          -11.293452379495484,
          -16.03937237474794,
          -24.59773071508534,
          -5.565728801508641,
          -9.947260623594046,
          -18.32583733698239,
          0.04234820776052306,
          -3.7933215523322628,
          -17.7719793813206,
          -3.954435422719327,
          -9.574370413913158,
          -3.4342208903078486,
          -0.02028731642977899,
          13.858960104024188,
          9.269787886985824,
          -2.6744834268181306,
          4.59733031916687,
          -18.464980145940004,
          -4.057549347908774,
          -7.9284213924065705,
          -18.562946924165868,
          -14.057946413598488,
          27.717155719171327,
          13.191637652217182,
          -27.002309019914726,
          -12.315010410598937,
          -5.808697212548197,
          -13.639219398443803,
          -9.844567231825996,
          -10.8258841511642,
          -6.966444323097997,
          -20.243288272753336,
          -5.306248022796667,
          -18.129212684456064,
          -13.490255254700045,
          -21.080037043033418,
          -3.97427958430725,
          -7.000946609751535,
          -7.456936731652231,
          -1.093886750298878,
          -13.034651991262724,
          -12.353191929458418,
          11.843879019850267,
          -15.483197015430306,
          -22.640898976188296,
          -21.90784373731175,
          -12.074022834783415,
          -0.6523222925579497,
          16.81188919204617,
          -23.874754377706743,
          -22.300780275943353,
          -1.2947845905590394,
          -5.362050828682053,
          -22.966007047173697,
          19.985901120966542,
          -25.018471972657597,
          -6.763079216959699,
          3.0834256703748286,
          -12.339452700518194,
          -17.90882366406834,
          -5.462601490324959,
          -27.09910819886877,
          -18.709740300373134,
          -0.17000185879321172,
          -10.521837150335344,
          0.7710186852574408,
          -8.15402979835822,
          -9.426390471847323,
          11.062459353111587,
          -10.789874221246498,
          9.57372768990541,
          -0.8372646648243331,
          -11.149639885624596,
          -16.853700664939797,
          -11.752838252455632,
          -19.444434088335484,
          -4.652802994289351,
          -27.31260087667655,
          -8.45859015161221,
          -8.684673436735457,
          9.90491996429206,
          -2.856378900968648,
          -3.2436612086383265,
          -33.249727984622325,
          -13.320879552977994,
          -9.471367879752036,
          -1.8893927139836175,
          -5.245709003019572,
          3.2974330264923246,
          5.926561925438012,
          -24.566833856632996,
          -23.610726812247552,
          -13.874162882228902,
          -29.212130185013596,
          -19.304221544287948,
          -25.220124112564445,
          -25.671239321932593,
          -2.1910112422914185,
          11.162633838192981,
          -15.257150894246042,
          -19.485304358400548,
          -24.205441114849336,
          -21.71471159639784,
          -14.321841321614926,
          -20.036000406277697,
          -3.6054402693196153,
          -23.888480884802664,
          0.24587109888827285,
          -11.21731031283587,
          -12.246390266414098,
          -13.077748423097457,
          -2.937932340483229,
          -15.063624633040263,
          -9.858031547202428,
          -26.033756243352368,
          -13.663495148098237,
          -2.2469607238954747,
          7.020102719464827,
          -1.1803630178830682,
          -19.78801778970135,
          12.227237342315966,
          -3.431957797959073,
          1.6484883937279537,
          -15.041848609828346,
          12.5401090394619,
          -6.647322691049307,
          9.304958859362245,
          -23.62804104628108,
          -22.3792186483328,
          -12.908189208280952,
          19.57988462883524,
          -12.450571161926671,
          -18.1780135442964,
          -16.339873229777304,
          6.568569960142123,
          10.965884891916811,
          -9.657032144431199,
          -13.510552250762775,
          7.643349833413948,
          -11.107422536331446,
          -1.843610626936265,
          -15.067936313804953,
          -12.818200300162431,
          -20.900325428228903,
          2.5472547323083905,
          -1.5873713326405192,
          -4.658000551837138,
          -5.121045172768268,
          -23.71180296981703,
          -19.887758027311232,
          -10.808017216231391,
          -4.92632945896424,
          12.269256101360693,
          -13.67326449006564,
          -0.9339729393942675,
          -16.484179172185954,
          -9.201502748779545,
          -19.281813358050194,
          5.5307492500229705,
          -9.082740984577498,
          -12.433220192719475,
          -10.366307940816844,
          -15.194973044256187,
          -7.954983337762645,
          -10.753515799707058,
          1.9608785840772303,
          -22.474069594209745,
          -11.703690881943595,
          4.518037229279126,
          -6.650508567510782,
          -9.747730563503321,
          -26.15613352123737,
          6.902088158696373,
          -17.960283545930277,
          -16.14418160301405,
          0.4754785346763768,
          -9.402503540012109,
          -19.80143424395122,
          -7.307345803775367,
          -24.049924315410433,
          -3.4657479480605824,
          -2.6350847929792476,
          -5.532939273562865,
          1.1925461492311662,
          -4.727831070659249,
          -18.94171871633642,
          -2.1881983100667246,
          -13.695240881132332,
          -23.484804955304682,
          -19.034165720412645,
          -13.830427610600127,
          -8.35017341102352,
          -22.02830732267581,
          -16.271224547872254,
          -34.27504028561825,
          -15.873058836740794,
          -33.79175796752486,
          3.8270871698050435,
          -3.420226113802305,
          -0.04320432483051473,
          17.59845182025399,
          8.050205601242855,
          -3.9662339773926303,
          -14.92953157938911,
          -23.354353211177227,
          -19.144940292415235,
          -4.401937215447049,
          16.848807046543037,
          -10.803821209462283,
          -11.687127649988561,
          -6.344545826677761,
          16.98609135630347,
          -29.314600374093324,
          -1.4372893869564418,
          -17.270792848243122,
          -21.07987628407407,
          -5.94119237663927,
          -11.250419462287109,
          -26.1146439566067,
          -13.024309982091232,
          8.157794189474066,
          -6.260744540449592,
          -12.690103772570927,
          7.324104858190572,
          -6.739133186883739,
          -14.894081156776062,
          -10.923840028869192,
          -23.157345912710024,
          14.325638909839622,
          36.89246041204193,
          -14.027409133657143,
          3.9916544062192694,
          2.364262080987589,
          6.443519247298446,
          -23.106542831784125,
          -10.869414165963676,
          -22.532565462519916,
          -0.3674008695664699,
          -16.95260744036299,
          -3.668486326362852,
          2.6318851526890397,
          1.5286496259205196,
          -16.719403749592075,
          -17.635544366963472,
          -19.06827056709144,
          -12.191001911570332,
          1.757181058171553,
          -9.911691313875249,
          -15.730244982431929,
          1.6277309630102765,
          -11.004117713293237,
          -17.81106978625242,
          3.860820194274517,
          2.995096257948071,
          3.0744811395491345,
          -21.50316017219074,
          -12.8685345749453,
          -9.078480992166094,
          -10.996457319698427,
          4.288630373785995,
          -14.314147515590426,
          -3.534088526659207,
          -6.901763800952676,
          14.83265104608451,
          -14.83855662615432,
          -6.622197854710055,
          -19.0437681484495,
          18.880497611260118,
          -28.222749278613314,
          -14.647396580785921,
          -9.925293757723452,
          -0.05014182446131388,
          -14.585247639965226,
          -23.355811863370967,
          -21.20931692382042,
          -8.17955366769203,
          -12.914216274047929,
          0.1318390967476546,
          -3.5773870468423286,
          5.39091729925385,
          -7.4269801048507444,
          -11.961239898925225,
          8.162738066756802,
          -24.02529374220871,
          -23.90358794675246,
          -3.8341096987850265,
          -24.826322809034295,
          -19.102715155113415,
          -25.423583575238563,
          -10.807356892179387,
          -0.5875889875214924,
          2.1240115904457513,
          -27.305400892898078,
          -24.60401472011181,
          -9.165025570060914,
          8.954495679830089,
          -12.351310042534248,
          -19.965219688642723,
          -4.450252648490238,
          -24.387127118035345,
          -6.165798742257433,
          13.306028113237112,
          -27.682480128510868,
          23.630951191045746,
          -3.3424491656316,
          -0.7963250452414861,
          8.775357139676409,
          -4.1399393051539395,
          0.9802285468992755,
          -0.8701179874313958,
          -9.1242512818847,
          -8.177650530859204,
          -28.633648614750573,
          7.783075114234839,
          -10.15725370053252,
          -15.205380835996863,
          7.664107530775133,
          -0.7183086760634283,
          -19.30984215015339,
          4.5531550892453865,
          -26.16267302650076,
          3.4012412165981942,
          -12.443732186058497,
          15.909217880981807,
          0.6153011344726123,
          -17.58345853375438,
          11.211227146711945,
          -0.9872778456333053,
          -11.62201601921774,
          -5.9140344131058065,
          -3.8804030505889653,
          -9.552848152285808,
          5.1410142138054615,
          -11.40079700380614,
          -26.77618228912856,
          -18.76292074424355,
          -24.57235225878518,
          -14.683902428832695,
          -19.73935483089648,
          -19.055162933894852,
          -10.090933868985275,
          -10.608494894820941,
          -14.571446080624694,
          -19.891229776640106,
          -21.050144821997762,
          -18.111395838230514,
          -15.41896930184896,
          -10.726498985943323,
          -21.32861178791825,
          -5.119621065099588,
          -7.540952824039526,
          -3.366451258082648,
          -25.55182047129163,
          -12.242681289979206,
          -27.329359793216735,
          -18.176282105606457,
          -7.682926419525582
         ],
         "y0": " ",
         "yaxis": "y"
        }
       ],
       "layout": {
        "boxmode": "group",
        "height": 600,
        "legend": {
         "title": {
          "text": "model_type"
         },
         "tracegroupgap": 0
        },
        "margin": {
         "t": 60
        },
        "template": {
         "data": {
          "bar": [
           {
            "error_x": {
             "color": "#2a3f5f"
            },
            "error_y": {
             "color": "#2a3f5f"
            },
            "marker": {
             "line": {
              "color": "#E5ECF6",
              "width": 0.5
             },
             "pattern": {
              "fillmode": "overlay",
              "size": 10,
              "solidity": 0.2
             }
            },
            "type": "bar"
           }
          ],
          "barpolar": [
           {
            "marker": {
             "line": {
              "color": "#E5ECF6",
              "width": 0.5
             },
             "pattern": {
              "fillmode": "overlay",
              "size": 10,
              "solidity": 0.2
             }
            },
            "type": "barpolar"
           }
          ],
          "carpet": [
           {
            "aaxis": {
             "endlinecolor": "#2a3f5f",
             "gridcolor": "white",
             "linecolor": "white",
             "minorgridcolor": "white",
             "startlinecolor": "#2a3f5f"
            },
            "baxis": {
             "endlinecolor": "#2a3f5f",
             "gridcolor": "white",
             "linecolor": "white",
             "minorgridcolor": "white",
             "startlinecolor": "#2a3f5f"
            },
            "type": "carpet"
           }
          ],
          "choropleth": [
           {
            "colorbar": {
             "outlinewidth": 0,
             "ticks": ""
            },
            "type": "choropleth"
           }
          ],
          "contour": [
           {
            "colorbar": {
             "outlinewidth": 0,
             "ticks": ""
            },
            "colorscale": [
             [
              0,
              "#0d0887"
             ],
             [
              0.1111111111111111,
              "#46039f"
             ],
             [
              0.2222222222222222,
              "#7201a8"
             ],
             [
              0.3333333333333333,
              "#9c179e"
             ],
             [
              0.4444444444444444,
              "#bd3786"
             ],
             [
              0.5555555555555556,
              "#d8576b"
             ],
             [
              0.6666666666666666,
              "#ed7953"
             ],
             [
              0.7777777777777778,
              "#fb9f3a"
             ],
             [
              0.8888888888888888,
              "#fdca26"
             ],
             [
              1,
              "#f0f921"
             ]
            ],
            "type": "contour"
           }
          ],
          "contourcarpet": [
           {
            "colorbar": {
             "outlinewidth": 0,
             "ticks": ""
            },
            "type": "contourcarpet"
           }
          ],
          "heatmap": [
           {
            "colorbar": {
             "outlinewidth": 0,
             "ticks": ""
            },
            "colorscale": [
             [
              0,
              "#0d0887"
             ],
             [
              0.1111111111111111,
              "#46039f"
             ],
             [
              0.2222222222222222,
              "#7201a8"
             ],
             [
              0.3333333333333333,
              "#9c179e"
             ],
             [
              0.4444444444444444,
              "#bd3786"
             ],
             [
              0.5555555555555556,
              "#d8576b"
             ],
             [
              0.6666666666666666,
              "#ed7953"
             ],
             [
              0.7777777777777778,
              "#fb9f3a"
             ],
             [
              0.8888888888888888,
              "#fdca26"
             ],
             [
              1,
              "#f0f921"
             ]
            ],
            "type": "heatmap"
           }
          ],
          "heatmapgl": [
           {
            "colorbar": {
             "outlinewidth": 0,
             "ticks": ""
            },
            "colorscale": [
             [
              0,
              "#0d0887"
             ],
             [
              0.1111111111111111,
              "#46039f"
             ],
             [
              0.2222222222222222,
              "#7201a8"
             ],
             [
              0.3333333333333333,
              "#9c179e"
             ],
             [
              0.4444444444444444,
              "#bd3786"
             ],
             [
              0.5555555555555556,
              "#d8576b"
             ],
             [
              0.6666666666666666,
              "#ed7953"
             ],
             [
              0.7777777777777778,
              "#fb9f3a"
             ],
             [
              0.8888888888888888,
              "#fdca26"
             ],
             [
              1,
              "#f0f921"
             ]
            ],
            "type": "heatmapgl"
           }
          ],
          "histogram": [
           {
            "marker": {
             "pattern": {
              "fillmode": "overlay",
              "size": 10,
              "solidity": 0.2
             }
            },
            "type": "histogram"
           }
          ],
          "histogram2d": [
           {
            "colorbar": {
             "outlinewidth": 0,
             "ticks": ""
            },
            "colorscale": [
             [
              0,
              "#0d0887"
             ],
             [
              0.1111111111111111,
              "#46039f"
             ],
             [
              0.2222222222222222,
              "#7201a8"
             ],
             [
              0.3333333333333333,
              "#9c179e"
             ],
             [
              0.4444444444444444,
              "#bd3786"
             ],
             [
              0.5555555555555556,
              "#d8576b"
             ],
             [
              0.6666666666666666,
              "#ed7953"
             ],
             [
              0.7777777777777778,
              "#fb9f3a"
             ],
             [
              0.8888888888888888,
              "#fdca26"
             ],
             [
              1,
              "#f0f921"
             ]
            ],
            "type": "histogram2d"
           }
          ],
          "histogram2dcontour": [
           {
            "colorbar": {
             "outlinewidth": 0,
             "ticks": ""
            },
            "colorscale": [
             [
              0,
              "#0d0887"
             ],
             [
              0.1111111111111111,
              "#46039f"
             ],
             [
              0.2222222222222222,
              "#7201a8"
             ],
             [
              0.3333333333333333,
              "#9c179e"
             ],
             [
              0.4444444444444444,
              "#bd3786"
             ],
             [
              0.5555555555555556,
              "#d8576b"
             ],
             [
              0.6666666666666666,
              "#ed7953"
             ],
             [
              0.7777777777777778,
              "#fb9f3a"
             ],
             [
              0.8888888888888888,
              "#fdca26"
             ],
             [
              1,
              "#f0f921"
             ]
            ],
            "type": "histogram2dcontour"
           }
          ],
          "mesh3d": [
           {
            "colorbar": {
             "outlinewidth": 0,
             "ticks": ""
            },
            "type": "mesh3d"
           }
          ],
          "parcoords": [
           {
            "line": {
             "colorbar": {
              "outlinewidth": 0,
              "ticks": ""
             }
            },
            "type": "parcoords"
           }
          ],
          "pie": [
           {
            "automargin": true,
            "type": "pie"
           }
          ],
          "scatter": [
           {
            "fillpattern": {
             "fillmode": "overlay",
             "size": 10,
             "solidity": 0.2
            },
            "type": "scatter"
           }
          ],
          "scatter3d": [
           {
            "line": {
             "colorbar": {
              "outlinewidth": 0,
              "ticks": ""
             }
            },
            "marker": {
             "colorbar": {
              "outlinewidth": 0,
              "ticks": ""
             }
            },
            "type": "scatter3d"
           }
          ],
          "scattercarpet": [
           {
            "marker": {
             "colorbar": {
              "outlinewidth": 0,
              "ticks": ""
             }
            },
            "type": "scattercarpet"
           }
          ],
          "scattergeo": [
           {
            "marker": {
             "colorbar": {
              "outlinewidth": 0,
              "ticks": ""
             }
            },
            "type": "scattergeo"
           }
          ],
          "scattergl": [
           {
            "marker": {
             "colorbar": {
              "outlinewidth": 0,
              "ticks": ""
             }
            },
            "type": "scattergl"
           }
          ],
          "scattermapbox": [
           {
            "marker": {
             "colorbar": {
              "outlinewidth": 0,
              "ticks": ""
             }
            },
            "type": "scattermapbox"
           }
          ],
          "scatterpolar": [
           {
            "marker": {
             "colorbar": {
              "outlinewidth": 0,
              "ticks": ""
             }
            },
            "type": "scatterpolar"
           }
          ],
          "scatterpolargl": [
           {
            "marker": {
             "colorbar": {
              "outlinewidth": 0,
              "ticks": ""
             }
            },
            "type": "scatterpolargl"
           }
          ],
          "scatterternary": [
           {
            "marker": {
             "colorbar": {
              "outlinewidth": 0,
              "ticks": ""
             }
            },
            "type": "scatterternary"
           }
          ],
          "surface": [
           {
            "colorbar": {
             "outlinewidth": 0,
             "ticks": ""
            },
            "colorscale": [
             [
              0,
              "#0d0887"
             ],
             [
              0.1111111111111111,
              "#46039f"
             ],
             [
              0.2222222222222222,
              "#7201a8"
             ],
             [
              0.3333333333333333,
              "#9c179e"
             ],
             [
              0.4444444444444444,
              "#bd3786"
             ],
             [
              0.5555555555555556,
              "#d8576b"
             ],
             [
              0.6666666666666666,
              "#ed7953"
             ],
             [
              0.7777777777777778,
              "#fb9f3a"
             ],
             [
              0.8888888888888888,
              "#fdca26"
             ],
             [
              1,
              "#f0f921"
             ]
            ],
            "type": "surface"
           }
          ],
          "table": [
           {
            "cells": {
             "fill": {
              "color": "#EBF0F8"
             },
             "line": {
              "color": "white"
             }
            },
            "header": {
             "fill": {
              "color": "#C8D4E3"
             },
             "line": {
              "color": "white"
             }
            },
            "type": "table"
           }
          ]
         },
         "layout": {
          "annotationdefaults": {
           "arrowcolor": "#2a3f5f",
           "arrowhead": 0,
           "arrowwidth": 1
          },
          "autotypenumbers": "strict",
          "coloraxis": {
           "colorbar": {
            "outlinewidth": 0,
            "ticks": ""
           }
          },
          "colorscale": {
           "diverging": [
            [
             0,
             "#8e0152"
            ],
            [
             0.1,
             "#c51b7d"
            ],
            [
             0.2,
             "#de77ae"
            ],
            [
             0.3,
             "#f1b6da"
            ],
            [
             0.4,
             "#fde0ef"
            ],
            [
             0.5,
             "#f7f7f7"
            ],
            [
             0.6,
             "#e6f5d0"
            ],
            [
             0.7,
             "#b8e186"
            ],
            [
             0.8,
             "#7fbc41"
            ],
            [
             0.9,
             "#4d9221"
            ],
            [
             1,
             "#276419"
            ]
           ],
           "sequential": [
            [
             0,
             "#0d0887"
            ],
            [
             0.1111111111111111,
             "#46039f"
            ],
            [
             0.2222222222222222,
             "#7201a8"
            ],
            [
             0.3333333333333333,
             "#9c179e"
            ],
            [
             0.4444444444444444,
             "#bd3786"
            ],
            [
             0.5555555555555556,
             "#d8576b"
            ],
            [
             0.6666666666666666,
             "#ed7953"
            ],
            [
             0.7777777777777778,
             "#fb9f3a"
            ],
            [
             0.8888888888888888,
             "#fdca26"
            ],
            [
             1,
             "#f0f921"
            ]
           ],
           "sequentialminus": [
            [
             0,
             "#0d0887"
            ],
            [
             0.1111111111111111,
             "#46039f"
            ],
            [
             0.2222222222222222,
             "#7201a8"
            ],
            [
             0.3333333333333333,
             "#9c179e"
            ],
            [
             0.4444444444444444,
             "#bd3786"
            ],
            [
             0.5555555555555556,
             "#d8576b"
            ],
            [
             0.6666666666666666,
             "#ed7953"
            ],
            [
             0.7777777777777778,
             "#fb9f3a"
            ],
            [
             0.8888888888888888,
             "#fdca26"
            ],
            [
             1,
             "#f0f921"
            ]
           ]
          },
          "colorway": [
           "#636efa",
           "#EF553B",
           "#00cc96",
           "#ab63fa",
           "#FFA15A",
           "#19d3f3",
           "#FF6692",
           "#B6E880",
           "#FF97FF",
           "#FECB52"
          ],
          "font": {
           "color": "#2a3f5f"
          },
          "geo": {
           "bgcolor": "white",
           "lakecolor": "white",
           "landcolor": "#E5ECF6",
           "showlakes": true,
           "showland": true,
           "subunitcolor": "white"
          },
          "hoverlabel": {
           "align": "left"
          },
          "hovermode": "closest",
          "mapbox": {
           "style": "light"
          },
          "paper_bgcolor": "white",
          "plot_bgcolor": "#E5ECF6",
          "polar": {
           "angularaxis": {
            "gridcolor": "white",
            "linecolor": "white",
            "ticks": ""
           },
           "bgcolor": "#E5ECF6",
           "radialaxis": {
            "gridcolor": "white",
            "linecolor": "white",
            "ticks": ""
           }
          },
          "scene": {
           "xaxis": {
            "backgroundcolor": "#E5ECF6",
            "gridcolor": "white",
            "gridwidth": 2,
            "linecolor": "white",
            "showbackground": true,
            "ticks": "",
            "zerolinecolor": "white"
           },
           "yaxis": {
            "backgroundcolor": "#E5ECF6",
            "gridcolor": "white",
            "gridwidth": 2,
            "linecolor": "white",
            "showbackground": true,
            "ticks": "",
            "zerolinecolor": "white"
           },
           "zaxis": {
            "backgroundcolor": "#E5ECF6",
            "gridcolor": "white",
            "gridwidth": 2,
            "linecolor": "white",
            "showbackground": true,
            "ticks": "",
            "zerolinecolor": "white"
           }
          },
          "shapedefaults": {
           "line": {
            "color": "#2a3f5f"
           }
          },
          "ternary": {
           "aaxis": {
            "gridcolor": "white",
            "linecolor": "white",
            "ticks": ""
           },
           "baxis": {
            "gridcolor": "white",
            "linecolor": "white",
            "ticks": ""
           },
           "bgcolor": "#E5ECF6",
           "caxis": {
            "gridcolor": "white",
            "linecolor": "white",
            "ticks": ""
           }
          },
          "title": {
           "x": 0.05
          },
          "xaxis": {
           "automargin": true,
           "gridcolor": "white",
           "linecolor": "white",
           "ticks": "",
           "title": {
            "standoff": 15
           },
           "zerolinecolor": "white",
           "zerolinewidth": 2
          },
          "yaxis": {
           "automargin": true,
           "gridcolor": "white",
           "linecolor": "white",
           "ticks": "",
           "title": {
            "standoff": 15
           },
           "zerolinecolor": "white",
           "zerolinewidth": 2
          }
         }
        },
        "width": 800,
        "xaxis": {
         "anchor": "y",
         "domain": [
          0,
          1
         ]
        },
        "yaxis": {
         "anchor": "x",
         "domain": [
          0,
          1
         ],
         "title": {
          "text": "fmt_total_profit_percentage"
         }
        }
       }
      }
     },
     "metadata": {},
     "output_type": "display_data"
    }
   ],
   "source": [
    "fig = px.box(df_trader_results, y=\"fmt_total_profit_percentage\", color=\"model_type\", points=\"all\", color_discrete_sequence=[ \"#FF7F0E\", \"#00CC96\", \"#10aded\", \"#8A56EF\"],  width=800, height=600)\n",
    "fig.show()"
   ]
  },
  {
   "cell_type": "code",
   "execution_count": 26,
   "metadata": {},
   "outputs": [
    {
     "data": {
      "application/vnd.plotly.v1+json": {
       "config": {
        "plotlyServerURL": "https://plot.ly"
       },
       "data": [
        {
         "alignmentgroup": "True",
         "bingroup": "x",
         "hovertemplate": "model_type=PPO<br>fmt_total_profit_percentage=%{x}<br>count=%{y}<extra></extra>",
         "legendgroup": "PPO",
         "marker": {
          "color": "#FF7F0E",
          "pattern": {
           "shape": ""
          }
         },
         "name": "PPO",
         "offsetgroup": "PPO",
         "orientation": "v",
         "showlegend": true,
         "type": "histogram",
         "x": [
          -20.243580080973643,
          3.351848552875314,
          -11.868212219980713,
          -7.188159843772479,
          -3.7946095466429575,
          -29.469169343864653,
          -20.62915044277618,
          -11.82924703474889,
          9.052324969808412,
          -3.1720450280133705,
          -18.95466048542658,
          -8.85382039228071,
          5.20373193034076,
          9.583914223574986,
          -21.265763972582263,
          7.549175961038546,
          -2.7678274052166163,
          -17.49170998275521,
          6.302227742574096,
          -24.593319905340582,
          -12.39991733427962,
          -19.064803947100273,
          -23.554466017359708,
          -17.75118884745619,
          -20.892081698910914,
          -17.857468806379284,
          -9.82538651844157,
          -1.7583394464159796,
          -9.558169022235251,
          -9.475242025747132,
          -0.815371179965596,
          7.983664204224383,
          -16.957725586856842,
          -14.685781848349533,
          -10.090430239776571,
          -11.329255417182448,
          -0.5701899812381561,
          -4.530733795778275,
          7.56033635543143,
          -11.010596444144783,
          -9.276000747365142,
          19.763455796578675,
          -15.824594974930905,
          -7.893846883201439,
          -21.18252147615598,
          -5.678690868787717,
          -15.807598967289616,
          -6.947753485201568,
          -16.811610186845215,
          -14.331398495983693,
          -7.724454275585324,
          -28.642368932647344,
          -12.437037803929273,
          3.107093857104215,
          -8.027158098140896,
          -4.456157645037962,
          -2.572197581276059,
          -21.17528930652971,
          -28.863889629743433,
          -0.7625113090382385,
          -5.531155007947208,
          0.21878710316394212,
          2.328205126239813,
          5.8701460939153405,
          19.296925187946567,
          -21.163420687946,
          2.5006764860326047,
          3.529148731002829,
          18.741457085573444,
          -21.893399347395658,
          -0.5075722050422171,
          -29.83668490247473,
          -4.906751506950114,
          -24.081770989825223,
          4.328350745252441,
          -10.988306873997756,
          -8.11345946826062,
          -9.832654353327541,
          -9.593017596118504,
          -8.855785366732672,
          -16.718338201731697,
          -6.739327528242223,
          0.19274698597946394,
          -19.57001856908497,
          -14.073461533454623,
          -9.040760624648803,
          -8.980707353248828,
          -4.888646273350994,
          -10.687326096242632,
          -20.655422862056206,
          2.2876597098075546,
          -32.250075961436266,
          -7.082263166029601,
          -9.45356581932797,
          -2.3127772333619845,
          -3.0979757855480794,
          -26.363603042411942,
          -23.14725498813156,
          -30.31706698629495,
          -17.011684383514837,
          -11.822056251433622,
          12.748563519110512,
          -25.03171168250935,
          6.515203687899684,
          -12.608906831968913,
          -26.52796102450088,
          -6.231981970352263,
          -20.13336214847712,
          -3.183986266037653,
          -10.257571136390153,
          -5.26512752151167,
          -5.760776503457732,
          0.15960325327615266,
          -10.477315854836133,
          5.394542982507677,
          -8.078648016334855,
          -12.151920418299833,
          -4.524027776178341,
          -5.922462373862524,
          12.51966884090001,
          0.27622702742389205,
          -11.391545994949304,
          1.4463455537215841,
          -6.006160318148113,
          -12.181914915616455,
          27.8310245670885,
          5.232282031455782,
          -12.503326252841129,
          -0.013525131074043628,
          -16.967578130461213,
          -13.197802197479946,
          -8.658809953400826,
          24.008326039306873,
          7.388831941402851,
          -26.498296147559685,
          -18.159440246118308,
          -1.9068165888318833,
          -18.64604153146795,
          20.127523687416925,
          -19.209640223726442,
          -9.864919381512472,
          -15.452543570800492,
          -12.62346819744742,
          -3.695480040850485,
          -6.686455414603653,
          8.826077887730577,
          -16.406098852922625,
          -28.35350354579811,
          -22.640456459091574,
          -11.61563124335261,
          -1.4042626850741757,
          -18.824911628316066,
          -7.016384854732516,
          -7.3173142117489265,
          -8.686396438167588,
          24.062095381930092,
          -2.590215729486478,
          -15.697850874361185,
          -26.479315049657693,
          -12.048464117048074,
          -7.367924566322515,
          -0.2645169484732479,
          -22.43612290148057,
          -5.349333040198212,
          -16.338683694847944,
          -24.281072278997296,
          5.274578334560953,
          -10.560854481290981,
          -3.2319952882905345,
          29.698473166885186,
          3.1807293007454884,
          3.1118219511648615,
          -16.712861172537906,
          -3.3365753248746577,
          -13.053101331953565,
          -4.7194613647198125,
          -9.100571048878303,
          1.083801693414732,
          -15.784129723717788,
          -24.864823237051958,
          -4.180007597578317,
          -16.68424392671939,
          -10.645972340606702,
          13.279810075138387,
          -7.018285294294547,
          -8.354231459909956,
          12.939059958559262,
          -1.3073361961141838,
          -3.009852286412562,
          -16.820348145697917,
          5.228524397975343,
          -10.544476353260546,
          7.262040172826256,
          1.5228161657543149,
          -2.292322067642538,
          -2.196982866344477,
          -0.3744737448601154,
          -19.69163190615133,
          3.3741219297244385,
          -17.113744585520685,
          -0.9565083842982047,
          5.575393601657619,
          -11.90582583677119,
          -24.112218573301757,
          7.754517585116516,
          -6.067361529633586,
          0.48229344369488114,
          -16.976803100476022,
          -4.4384238923342645,
          -11.363246609234679,
          -15.074213855665164,
          1.9544882346095749,
          -14.267670229224006,
          0.38648164624108805,
          5.489465939223037,
          -21.926852997304568,
          -7.4537457356459,
          3.86791787475651,
          -7.978432661458401,
          -14.697932990340156,
          -7.490246485775542,
          -13.070531329632063,
          -12.779066649257842,
          -10.160941683342061,
          4.277332547767165,
          15.12116670275201,
          -4.951323948170083,
          -8.396664681661726,
          -17.041935450553847,
          3.6562405059174408,
          -11.117337074783896,
          9.586716054532985,
          7.9092023040451265,
          3.6297198859386093,
          -11.07771012812153,
          -13.634050476575677,
          5.934796034226486,
          7.251957444483548,
          -20.860404003111512,
          -17.412494113312437,
          -23.982040477149237,
          -24.222983792764417,
          -0.2891070610384072,
          5.076849861569421,
          1.2326748940276744,
          -8.51286740409204,
          -9.646198884942336,
          12.869532388839588,
          6.778650218995752,
          -11.812301101857281,
          -10.825804048461162,
          -6.137482640377289,
          -14.704298563923214,
          -10.52492788199524,
          -4.4186573560546005,
          6.538139269391352,
          -23.19746589487678,
          -8.857005109340932,
          -18.502953332279017,
          -20.229308502734654,
          5.0861946233378585,
          15.12926956184073,
          -8.436877080024075,
          -12.045370524465815,
          -18.118669720442902,
          -17.079785584140982,
          27.01446134930674,
          -7.7714820720833355,
          13.556961199116646,
          -13.765582733638626,
          -2.956094673104248,
          -11.363151122941185,
          8.801412787042494,
          4.51129527105969,
          -16.19649405282775,
          -9.456905898159008,
          9.342690546547727,
          1.6430432067181977,
          -11.189734200213985,
          16.192691644734737,
          -1.3511206922841912,
          12.669598538409854,
          5.2400938065112035,
          -12.137334298512725,
          1.3191852830548134,
          -1.6499648823831814,
          -31.027413879794917,
          -11.747908194000644,
          -6.943249532493478,
          -22.475401458429168,
          3.9839965602955996,
          -18.08698276346451,
          -3.371164690658479,
          3.6280303961234273,
          10.115823652708599,
          -2.7651238263592615,
          8.371511420769352,
          -11.003961507846594,
          -9.030971330225269,
          -2.0024524191481485,
          -7.7135012295906025,
          -31.5691902707555,
          24.30666077895596,
          -19.57806176576694,
          -14.799354626706052,
          -23.339529371390565,
          -6.724772057917761,
          -20.039069876714255,
          -3.792433936897266,
          -11.935036809208533,
          -0.339866617895368,
          -3.477048947266348,
          7.06878110892093,
          -2.7061243243466038,
          10.943622526932417,
          -7.530944024216312,
          -23.400764598319558,
          -13.129853591421913,
          -1.6139917576467377,
          -16.32442780215525,
          5.011094218601286,
          -3.0642593994991696,
          -8.063583975761645,
          11.644383856452144,
          -17.283880005275943,
          -9.067830420402146,
          -14.02055783478403,
          -22.073571077344166,
          -18.209485964303905,
          16.71636179831748,
          -5.4214962710258385,
          -21.459133824114897,
          -24.687831952721172,
          4.01221643135774,
          -7.039438664125585,
          -0.05778262920325128,
          -20.976955393848563,
          -18.01148905749932,
          -19.894644257939873,
          -13.027577109682753,
          -4.481681624201494,
          -12.91549357570868,
          -10.836081618076566,
          9.021218124954821,
          -7.820296359350309,
          -30.211042004465384,
          -8.660932465060734,
          -15.892775888981047,
          -30.9351960551156,
          18.112912605214614,
          -13.059756242794762,
          -5.957273378169492,
          9.048030752428593,
          -24.84098784265565,
          12.566090937403196,
          -6.904442967984103,
          -17.813993793248063,
          2.822496036420552,
          -6.370450026540997,
          1.9652607834091729,
          -8.09771356122969,
          16.93035626422139,
          -17.29643520013434,
          -11.004314545625938,
          -11.033373684013625,
          -7.363762897689918,
          -9.03127622246872,
          3.397309718544017,
          -17.710660201248384,
          -29.59054669455724,
          -3.105325048748775,
          -12.504410870677884,
          -13.561815008817312,
          -9.40281275840401,
          -5.11796373143908,
          -22.17414955950713,
          -1.4133327556134279,
          1.1810727649819386,
          -11.002202939293515,
          14.450460747342287,
          -0.35460916054447233,
          -15.289422831253052,
          -24.045005548674492,
          4.928003851535623,
          -31.52646878192136,
          -5.39828147216318,
          -7.533839426391609,
          -13.95812995911635,
          -3.2668254485951675,
          -4.092361272784539,
          10.991668321533377,
          -11.045683022695819,
          -1.8489748341916634,
          -12.249859739889303,
          18.574988280663195,
          -4.819237960772593,
          12.811947914289835,
          -19.076437034725213,
          -27.67112803685283,
          4.934768845931559,
          -11.273932216670346,
          -22.30339322498652,
          -30.293943925809884,
          -18.221950718611613,
          -22.90643398392801,
          -7.363511796367906,
          25.843829130950734,
          -4.620297975936971,
          6.362296364007647,
          18.62973754391424,
          -24.78638139335516,
          -3.560681553623113,
          -28.394505669365532,
          -1.427570710749615,
          -25.079545820501203,
          -32.06226374572352,
          -16.576607345576488,
          -24.821149894380778,
          -3.5300674672402055,
          -22.504690453490518,
          -2.9374763716527252,
          -21.466911467606863,
          -17.231643880903256,
          -24.570490520706876,
          -19.365348833856054,
          -10.68330976314763,
          5.027134883022777,
          -12.984978999201024,
          -8.644408387683178,
          -9.301404842610362,
          17.563931801826914,
          14.141362614067642,
          -21.458877766124075,
          -31.439814190641048,
          -28.213750072769294,
          -7.69851527541644,
          -7.501015157680769,
          -7.697409181176662,
          -19.589056009876384,
          -14.889222134244273,
          -14.722829113466018,
          -3.5825647409475248,
          -9.520938453710093,
          -18.25767441424524,
          -6.588739972785829,
          -15.357823368468448,
          -2.2027399397499647,
          -21.51267651505161,
          -9.431509546396931,
          -10.162602262693387,
          -2.5419315939584464,
          -13.618765860157433,
          4.444048115269261,
          -15.486225182465496,
          -28.032007035059014,
          -6.0332052857574485,
          -7.255642227760739,
          -15.638630542923316,
          -16.579512238846704,
          -1.2821012035921786,
          -6.841479720057608,
          -10.407027075200936,
          -6.362969303325084,
          -15.085761054233604,
          -16.28707180710043,
          -9.431902565703709,
          -5.546071989342649,
          -26.61699613916645,
          23.062812044004176,
          -14.945440835564527,
          -19.78659869699737,
          -16.710957195541308,
          -12.54558295313809,
          -19.504573518267023,
          -19.31595600689696,
          6.237484977885366,
          18.494751791036034,
          -20.39415053056821,
          -16.531963671943394,
          -23.542637495042296,
          -6.0305084315256385,
          -3.4159902494025896,
          -11.549357654182169,
          0.15423856364922273,
          8.535914072554185,
          -1.8005413350225208,
          5.141315125229928,
          -8.829878286288828,
          -8.806519429555282,
          29.083055853017004,
          17.382993301372164,
          2.666578834433486,
          -15.077795692580231,
          3.253764434691475,
          -26.12021949740401,
          1.9372563086624606,
          1.3977049419032328,
          -10.04658582540696,
          -9.815017714015628,
          -2.7971685871121643,
          -2.9142854770964455,
          4.450219815887291,
          -2.132721069635646,
          -22.99600685331209,
          11.161528880228722,
          -17.700037505028664,
          2.703688032398688,
          -32.937210205366284,
          0.8318748360125694,
          -15.14761725638124,
          4.545558028325991,
          -16.41676465624683,
          -5.345247556521371,
          0.527520520209035,
          -20.649182325235728,
          -11.065597693865936,
          -21.511953022184937,
          -18.376653256430043,
          -12.498238653873884,
          -3.7523736858490198,
          -14.334938197593704,
          -6.333451716542671,
          -16.779749333283345,
          9.282488512231101,
          -15.457021639720537,
          -14.5659934642134,
          -13.02933614203834,
          -9.612509104411181,
          6.622152852119068,
          6.517151109346209,
          7.632218320686257,
          -21.97018898817734,
          -7.572437882476002,
          -14.238391576097719,
          -5.295522049117862,
          17.030335293859512,
          -21.874257508077466,
          -8.82532830978816,
          27.643268160755753,
          -10.84414588993765,
          -1.4837427385422042,
          -18.11912743633213,
          -2.117120212360646,
          -13.362278822994922,
          -17.225575765746605,
          -8.283366775820022,
          -9.98050468026862,
          3.35327133941552,
          5.589176818485031,
          4.731545229434264,
          -19.165809922221843,
          -6.912553787529485,
          -22.113466524516234,
          -11.811112106951715,
          -12.307672796563585,
          0.5337467851159072,
          -28.101404720337577,
          -3.28607050658255,
          -20.047764968866044,
          -17.72447449424427,
          -17.26562486842336,
          -1.8332763884417291,
          -14.48685194700612,
          -7.086899468927433,
          -23.634757161233743,
          -13.291838208837458,
          8.566501463375275,
          -17.986869737663348,
          -26.136110872257913,
          7.622627374371982,
          -24.72494510931029,
          -17.607596390139967,
          -27.5961240862147,
          -16.17171376090004,
          -15.657254761151906,
          -21.265157423048354,
          12.601162443614333,
          -22.280919705517643,
          -13.897233169455747,
          4.426574216889878,
          -22.331657663792903,
          -7.377815222802364,
          -14.127844523692412,
          -5.588895088448808,
          -6.582187835380426,
          2.729850266607725,
          -8.470171586770547,
          -14.511634766805425,
          -20.519860401522404,
          -12.533149298742497,
          -20.087091404939194,
          -17.979338239913446,
          2.385085212606519,
          -7.5913033747212815,
          -8.138547921674654,
          -13.6585470790902,
          -1.9601715696107247,
          14.65633092261125,
          -2.803103737715218,
          -15.755506818037668,
          -23.550484193279154,
          8.154687409424511,
          2.5672600278650926,
          -30.294562913403244,
          -12.949786913655304,
          -25.769299788825396,
          -17.570612404612596,
          -30.33985187688647,
          -11.029702696029986,
          -28.4897107518825,
          -2.7366981998364848,
          -11.64878932443294,
          5.354023946346476,
          0.9626798777398804,
          -2.986909240086799,
          -13.104355983158344,
          -13.13015504321957,
          -13.47427025562281,
          -30.14508243748063,
          -9.278582364579247,
          8.923873136082051,
          -9.703132481021793,
          -15.466107720839851,
          -24.13489517023023,
          -7.343370555793516,
          3.173518124964758,
          -2.146800149841843,
          -3.230335228649195,
          -14.021742063854948,
          -9.55430433565505,
          -1.604328546035727,
          29.9578623841146,
          -4.870631828414984,
          -4.132005023367025,
          -9.795450481140843,
          -9.008409012463181,
          -23.9937265980659,
          10.47266643018181,
          1.8912891137454313,
          -3.1121621561233104,
          1.7694336172999092,
          -4.658944742830862,
          -33.68769877834754,
          -11.293452379495484,
          -16.03937237474794,
          -24.59773071508534,
          -5.565728801508641,
          -9.947260623594046,
          -18.32583733698239,
          0.04234820776052306,
          -3.7933215523322628,
          -17.7719793813206,
          -3.954435422719327,
          -9.574370413913158,
          -3.4342208903078486,
          -0.02028731642977899,
          13.858960104024188,
          9.269787886985824,
          -2.6744834268181306,
          4.59733031916687,
          -18.464980145940004,
          -4.057549347908774,
          -7.9284213924065705,
          -18.562946924165868,
          -14.057946413598488,
          27.717155719171327,
          13.191637652217182,
          -27.002309019914726,
          -12.315010410598937,
          -5.808697212548197,
          -13.639219398443803,
          -9.844567231825996,
          -10.8258841511642,
          -6.966444323097997,
          -20.243288272753336,
          -5.306248022796667,
          -18.129212684456064,
          -13.490255254700045,
          -21.080037043033418,
          -3.97427958430725,
          -7.000946609751535,
          -7.456936731652231,
          -1.093886750298878,
          -13.034651991262724,
          -12.353191929458418,
          11.843879019850267,
          -15.483197015430306,
          -22.640898976188296,
          -21.90784373731175,
          -12.074022834783415,
          -0.6523222925579497,
          16.81188919204617,
          -23.874754377706743,
          -22.300780275943353,
          -1.2947845905590394,
          -5.362050828682053,
          -22.966007047173697,
          19.985901120966542,
          -25.018471972657597,
          -6.763079216959699,
          3.0834256703748286,
          -12.339452700518194,
          -17.90882366406834,
          -5.462601490324959,
          -27.09910819886877,
          -18.709740300373134,
          -0.17000185879321172,
          -10.521837150335344,
          0.7710186852574408,
          -8.15402979835822,
          -9.426390471847323,
          11.062459353111587,
          -10.789874221246498,
          9.57372768990541,
          -0.8372646648243331,
          -11.149639885624596,
          -16.853700664939797,
          -11.752838252455632,
          -19.444434088335484,
          -4.652802994289351,
          -27.31260087667655,
          -8.45859015161221,
          -8.684673436735457,
          9.90491996429206,
          -2.856378900968648,
          -3.2436612086383265,
          -33.249727984622325,
          -13.320879552977994,
          -9.471367879752036,
          -1.8893927139836175,
          -5.245709003019572,
          3.2974330264923246,
          5.926561925438012,
          -24.566833856632996,
          -23.610726812247552,
          -13.874162882228902,
          -29.212130185013596,
          -19.304221544287948,
          -25.220124112564445,
          -25.671239321932593,
          -2.1910112422914185,
          11.162633838192981,
          -15.257150894246042,
          -19.485304358400548,
          -24.205441114849336,
          -21.71471159639784,
          -14.321841321614926,
          -20.036000406277697,
          -3.6054402693196153,
          -23.888480884802664,
          0.24587109888827285,
          -11.21731031283587,
          -12.246390266414098,
          -13.077748423097457,
          -2.937932340483229,
          -15.063624633040263,
          -9.858031547202428,
          -26.033756243352368,
          -13.663495148098237,
          -2.2469607238954747,
          7.020102719464827,
          -1.1803630178830682,
          -19.78801778970135,
          12.227237342315966,
          -3.431957797959073,
          1.6484883937279537,
          -15.041848609828346,
          12.5401090394619,
          -6.647322691049307,
          9.304958859362245,
          -23.62804104628108,
          -22.3792186483328,
          -12.908189208280952,
          19.57988462883524,
          -12.450571161926671,
          -18.1780135442964,
          -16.339873229777304,
          6.568569960142123,
          10.965884891916811,
          -9.657032144431199,
          -13.510552250762775,
          7.643349833413948,
          -11.107422536331446,
          -1.843610626936265,
          -15.067936313804953,
          -12.818200300162431,
          -20.900325428228903,
          2.5472547323083905,
          -1.5873713326405192,
          -4.658000551837138,
          -5.121045172768268,
          -23.71180296981703,
          -19.887758027311232,
          -10.808017216231391,
          -4.92632945896424,
          12.269256101360693,
          -13.67326449006564,
          -0.9339729393942675,
          -16.484179172185954,
          -9.201502748779545,
          -19.281813358050194,
          5.5307492500229705,
          -9.082740984577498,
          -12.433220192719475,
          -10.366307940816844,
          -15.194973044256187,
          -7.954983337762645,
          -10.753515799707058,
          1.9608785840772303,
          -22.474069594209745,
          -11.703690881943595,
          4.518037229279126,
          -6.650508567510782,
          -9.747730563503321,
          -26.15613352123737,
          6.902088158696373,
          -17.960283545930277,
          -16.14418160301405,
          0.4754785346763768,
          -9.402503540012109,
          -19.80143424395122,
          -7.307345803775367,
          -24.049924315410433,
          -3.4657479480605824,
          -2.6350847929792476,
          -5.532939273562865,
          1.1925461492311662,
          -4.727831070659249,
          -18.94171871633642,
          -2.1881983100667246,
          -13.695240881132332,
          -23.484804955304682,
          -19.034165720412645,
          -13.830427610600127,
          -8.35017341102352,
          -22.02830732267581,
          -16.271224547872254,
          -34.27504028561825,
          -15.873058836740794,
          -33.79175796752486,
          3.8270871698050435,
          -3.420226113802305,
          -0.04320432483051473,
          17.59845182025399,
          8.050205601242855,
          -3.9662339773926303,
          -14.92953157938911,
          -23.354353211177227,
          -19.144940292415235,
          -4.401937215447049,
          16.848807046543037,
          -10.803821209462283,
          -11.687127649988561,
          -6.344545826677761,
          16.98609135630347,
          -29.314600374093324,
          -1.4372893869564418,
          -17.270792848243122,
          -21.07987628407407,
          -5.94119237663927,
          -11.250419462287109,
          -26.1146439566067,
          -13.024309982091232,
          8.157794189474066,
          -6.260744540449592,
          -12.690103772570927,
          7.324104858190572,
          -6.739133186883739,
          -14.894081156776062,
          -10.923840028869192,
          -23.157345912710024,
          14.325638909839622,
          36.89246041204193,
          -14.027409133657143,
          3.9916544062192694,
          2.364262080987589,
          6.443519247298446,
          -23.106542831784125,
          -10.869414165963676,
          -22.532565462519916,
          -0.3674008695664699,
          -16.95260744036299,
          -3.668486326362852,
          2.6318851526890397,
          1.5286496259205196,
          -16.719403749592075,
          -17.635544366963472,
          -19.06827056709144,
          -12.191001911570332,
          1.757181058171553,
          -9.911691313875249,
          -15.730244982431929,
          1.6277309630102765,
          -11.004117713293237,
          -17.81106978625242,
          3.860820194274517,
          2.995096257948071,
          3.0744811395491345,
          -21.50316017219074,
          -12.8685345749453,
          -9.078480992166094,
          -10.996457319698427,
          4.288630373785995,
          -14.314147515590426,
          -3.534088526659207,
          -6.901763800952676,
          14.83265104608451,
          -14.83855662615432,
          -6.622197854710055,
          -19.0437681484495,
          18.880497611260118,
          -28.222749278613314,
          -14.647396580785921,
          -9.925293757723452,
          -0.05014182446131388,
          -14.585247639965226,
          -23.355811863370967,
          -21.20931692382042,
          -8.17955366769203,
          -12.914216274047929,
          0.1318390967476546,
          -3.5773870468423286,
          5.39091729925385,
          -7.4269801048507444,
          -11.961239898925225,
          8.162738066756802,
          -24.02529374220871,
          -23.90358794675246,
          -3.8341096987850265,
          -24.826322809034295,
          -19.102715155113415,
          -25.423583575238563,
          -10.807356892179387,
          -0.5875889875214924,
          2.1240115904457513,
          -27.305400892898078,
          -24.60401472011181,
          -9.165025570060914,
          8.954495679830089,
          -12.351310042534248,
          -19.965219688642723,
          -4.450252648490238,
          -24.387127118035345,
          -6.165798742257433,
          13.306028113237112,
          -27.682480128510868,
          23.630951191045746,
          -3.3424491656316,
          -0.7963250452414861,
          8.775357139676409,
          -4.1399393051539395,
          0.9802285468992755,
          -0.8701179874313958,
          -9.1242512818847,
          -8.177650530859204,
          -28.633648614750573,
          7.783075114234839,
          -10.15725370053252,
          -15.205380835996863,
          7.664107530775133,
          -0.7183086760634283,
          -19.30984215015339,
          4.5531550892453865,
          -26.16267302650076,
          3.4012412165981942,
          -12.443732186058497,
          15.909217880981807,
          0.6153011344726123,
          -17.58345853375438,
          11.211227146711945,
          -0.9872778456333053,
          -11.62201601921774,
          -5.9140344131058065,
          -3.8804030505889653,
          -9.552848152285808,
          5.1410142138054615,
          -11.40079700380614,
          -26.77618228912856,
          -18.76292074424355,
          -24.57235225878518,
          -14.683902428832695,
          -19.73935483089648,
          -19.055162933894852,
          -10.090933868985275,
          -10.608494894820941,
          -14.571446080624694,
          -19.891229776640106,
          -21.050144821997762,
          -18.111395838230514,
          -15.41896930184896,
          -10.726498985943323,
          -21.32861178791825,
          -5.119621065099588,
          -7.540952824039526,
          -3.366451258082648,
          -25.55182047129163,
          -12.242681289979206,
          -27.329359793216735,
          -18.176282105606457,
          -7.682926419525582
         ],
         "xaxis": "x",
         "yaxis": "y"
        },
        {
         "alignmentgroup": "True",
         "boxpoints": "all",
         "customdata": [
          [
           -4787.779999999981,
           21,
           1
          ],
          [
           1149.3399999999892,
           14,
           2
          ],
          [
           -2434.289999999979,
           16,
           3
          ],
          [
           -1298.4699999999975,
           17,
           4
          ],
          [
           -603.3399999999856,
           13,
           5
          ],
          [
           -7341.399999999998,
           15,
           6
          ],
          [
           -4370.630000000005,
           10,
           7
          ],
          [
           -2287.8700000000063,
           20,
           8
          ],
          [
           1900.4500000000007,
           16,
           9
          ],
          [
           -417.8400000000147,
           19,
           10
          ],
          [
           -4131.939999999999,
           15,
           11
          ],
          [
           -1802.1899999999987,
           18,
           12
          ],
          [
           1256.3899999999958,
           14,
           13
          ],
          [
           1795.3100000000013,
           16,
           14
          ],
          [
           -5034.669999999998,
           15,
           15
          ],
          [
           1764.75,
           14,
           16
          ],
          [
           -612.7999999999993,
           22,
           17
          ],
          [
           -3583.649999999994,
           14,
           18
          ],
          [
           1351.4099999999999,
           18,
           19
          ],
          [
           -5477.4699999999975,
           12,
           20
          ],
          [
           -2626.0800000000127,
           12,
           21
          ],
          [
           -4274.889999999992,
           14,
           22
          ],
          [
           -5576.07,
           12,
           23
          ],
          [
           -3707.089999999993,
           16,
           24
          ],
          [
           -5144.130000000019,
           22,
           25
          ],
          [
           -3962.0400000000045,
           9,
           26
          ],
          [
           -2240.339999999993,
           16,
           27
          ],
          [
           -476.130000000001,
           12,
           28
          ],
          [
           -2103.0100000000057,
           16,
           29
          ],
          [
           -1871.1799999999967,
           20,
           30
          ],
          [
           113.53000000001703,
           16,
           31
          ],
          [
           2046.7200000000048,
           22,
           32
          ],
          [
           -3802.469999999983,
           24,
           33
          ],
          [
           -2689.5700000000106,
           12,
           34
          ],
          [
           -1818.9900000000089,
           16,
           35
          ],
          [
           -1955.1500000000124,
           14,
           36
          ],
          [
           -5.750000000003638,
           18,
           37
          ],
          [
           -1097.3499999999876,
           18,
           38
          ],
          [
           1723.390000000003,
           16,
           39
          ],
          [
           -2653.110000000015,
           20,
           40
          ],
          [
           -1897.75,
           20,
           41
          ],
          [
           3798.3700000000026,
           18,
           42
          ],
          [
           -3161.8799999999937,
           10,
           43
          ],
          [
           -1701.809999999994,
           20,
           44
          ],
          [
           -4858.959999999988,
           16,
           45
          ],
          [
           -694.3100000000086,
           16,
           46
          ],
          [
           -3231.6799999999967,
           18,
           47
          ],
          [
           -1800.5500000000175,
           22,
           48
          ],
          [
           -3557.079999999998,
           12,
           49
          ],
          [
           -2908.4699999999975,
           18,
           50
          ],
          [
           -1698.12999999999,
           16,
           51
          ],
          [
           -6678.709999999988,
           8,
           52
          ],
          [
           -2413.0800000000054,
           12,
           53
          ],
          [
           867.3400000000001,
           14,
           54
          ],
          [
           -1395.5299999999916,
           22,
           55
          ],
          [
           -956.6400000000176,
           16,
           56
          ],
          [
           -25.93999999999869,
           18,
           57
          ],
          [
           -4831.3499999999985,
           10,
           58
          ],
          [
           -6801.169999999995,
           16,
           59
          ],
          [
           244.97999999999956,
           13,
           60
          ],
          [
           -1135.8099999999868,
           16,
           61
          ],
          [
           632.2499999999964,
           14,
           62
          ],
          [
           799.4099999999926,
           14,
           63
          ],
          [
           1979.0700000000033,
           20,
           64
          ],
          [
           3648.0499999999884,
           12,
           65
          ],
          [
           -4851.60999999999,
           16,
           66
          ],
          [
           920.9799999999886,
           12,
           67
          ],
          [
           780.6099999999897,
           12,
           68
          ],
          [
           3984.8300000000054,
           12,
           69
          ],
          [
           -4771.23999999998,
           16,
           70
          ],
          [
           171.47000000000116,
           20,
           71
          ],
          [
           -7171.619999999999,
           18,
           72
          ],
          [
           -835.559999999994,
           23,
           73
          ],
          [
           -5554.360000000004,
           15,
           74
          ],
          [
           1481.6699999999946,
           18,
           75
          ],
          [
           -2308.4700000000084,
           18,
           76
          ],
          [
           -1631.6700000000128,
           16,
           77
          ],
          [
           -1806.5800000000054,
           15,
           78
          ],
          [
           -1905.8100000000086,
           12,
           79
          ],
          [
           -1755.8999999999978,
           18,
           80
          ],
          [
           -3222.3500000000095,
           12,
           81
          ],
          [
           -1178.1100000000042,
           12,
           82
          ],
          [
           -145.23000000001412,
           18,
           83
          ],
          [
           -4176.519999999993,
           15,
           84
          ],
          [
           -2781.440000000028,
           19,
           85
          ],
          [
           -1854.1699999999983,
           14,
           86
          ],
          [
           -2025.8999999999978,
           17,
           87
          ],
          [
           -1290.6299999999937,
           19,
           88
          ],
          [
           -1962.700000000008,
           19,
           89
          ],
          [
           -4541.049999999992,
           15,
           90
          ],
          [
           595.8199999999961,
           14,
           91
          ],
          [
           -8166.52,
           16,
           92
          ],
          [
           -1737.0499999999993,
           16,
           93
          ],
          [
           -1604.8200000000106,
           23,
           94
          ],
          [
           -919.8799999999937,
           18,
           95
          ],
          [
           -951.0199999999932,
           17,
           96
          ],
          [
           -6152.910000000011,
           18,
           97
          ],
          [
           -5245.420000000009,
           16,
           98
          ],
          [
           -7139.950000000001,
           20,
           99
          ],
          [
           -3700.5700000000033,
           18,
           100
          ],
          [
           -2885.549999999992,
           15,
           101
          ],
          [
           2781.4399999999914,
           18,
           102
          ],
          [
           -5604.370000000006,
           16,
           103
          ],
          [
           1193.0900000000001,
           12,
           104
          ],
          [
           -2409.359999999997,
           17,
           105
          ],
          [
           -6153.229999999992,
           20,
           106
          ],
          [
           -1631.5200000000077,
           14,
           107
          ],
          [
           -4162.860000000004,
           15,
           108
          ],
          [
           -398.54999999999563,
           12,
           109
          ],
          [
           -1847.689999999995,
           18,
           110
          ],
          [
           -1243.4599999999882,
           18,
           111
          ],
          [
           -963.8100000000122,
           12,
           112
          ],
          [
           154.68999999999141,
           14,
           113
          ],
          [
           -1783.6400000000103,
           11,
           114
          ],
          [
           1446.8500000000022,
           16,
           115
          ],
          [
           -1950.3999999999905,
           18,
           116
          ],
          [
           -2570.7299999999996,
           18,
           117
          ],
          [
           -818.8499999999876,
           20,
           118
          ],
          [
           -887.4299999999821,
           19,
           119
          ],
          [
           2596.3299999999836,
           18,
           120
          ],
          [
           375.6000000000022,
           14,
           121
          ],
          [
           -2617.779999999988,
           14,
           122
          ],
          [
           784.4399999999987,
           22,
           123
          ],
          [
           -814.2700000000114,
           14,
           124
          ],
          [
           -2384.9799999999923,
           10,
           125
          ],
          [
           5467.199999999986,
           18,
           126
          ],
          [
           1421.940000000006,
           14,
           127
          ],
          [
           -2140.150000000005,
           10,
           128
          ],
          [
           612.9599999999809,
           15,
           129
          ],
          [
           -4054.969999999994,
           18,
           130
          ],
          [
           -2691.609999999997,
           16,
           131
          ],
          [
           -1558.3500000000022,
           18,
           132
          ],
          [
           4827.570000000003,
           21,
           133
          ],
          [
           1310.829999999998,
           16,
           134
          ],
          [
           -6264.560000000001,
           11,
           135
          ],
          [
           -3760.6900000000096,
           14,
           136
          ],
          [
           -509.070000000007,
           14,
           137
          ],
          [
           -4067.8100000000086,
           17,
           138
          ],
          [
           3910.7099999999955,
           17,
           139
          ],
          [
           -4097.900000000005,
           20,
           140
          ],
          [
           -2104.8100000000013,
           21,
           141
          ],
          [
           -3241.069999999996,
           17,
           142
          ],
          [
           -2393.2999999999993,
           24,
           143
          ],
          [
           -369.4799999999923,
           20,
           144
          ],
          [
           -1564.3999999999833,
           21,
           145
          ],
          [
           1833.9599999999955,
           16,
           146
          ],
          [
           -3463.7800000000097,
           14,
           147
          ],
          [
           -6643.359999999997,
           15,
           148
          ],
          [
           -5113.220000000008,
           14,
           149
          ],
          [
           -2776.899999999998,
           20,
           150
          ],
          [
           -284.24000000000524,
           20,
           151
          ],
          [
           -4284.5899999999965,
           16,
           152
          ],
          [
           -749.0099999999984,
           16,
           153
          ],
          [
           -1225.4300000000112,
           20,
           154
          ],
          [
           -2243.950000000008,
           16,
           155
          ],
          [
           5086.170000000002,
           20,
           156
          ],
          [
           -636.1700000000055,
           16,
           157
          ],
          [
           -3488.46000000001,
           17,
           158
          ],
          [
           -6187.330000000005,
           10,
           159
          ],
          [
           -2240.689999999995,
           17,
           160
          ],
          [
           -1342.8399999999783,
           14,
           161
          ],
          [
           -132.88000000000102,
           20,
           162
          ],
          [
           -4922.459999999988,
           13,
           163
          ],
          [
           -1344.3600000000006,
           18,
           164
          ],
          [
           -3230.2700000000004,
           14,
           165
          ],
          [
           -5582.189999999999,
           22,
           166
          ],
          [
           1218.28999999999,
           16,
           167
          ],
          [
           -1795.3300000000127,
           20,
           168
          ],
          [
           -1122.6200000000063,
           17,
           169
          ],
          [
           5203.689999999999,
           10,
           170
          ],
          [
           1090.4899999999907,
           15,
           171
          ],
          [
           768.9100000000144,
           22,
           172
          ],
          [
           -3672.430000000011,
           16,
           173
          ],
          [
           -366.6900000000096,
           20,
           174
          ],
          [
           -2806.09,
           18,
           175
          ],
          [
           -815.78999999999,
           18,
           176
          ],
          [
           -1409.890000000003,
           10,
           177
          ],
          [
           401.1299999999974,
           22,
           178
          ],
          [
           -3681.6499999999833,
           20,
           179
          ],
          [
           -6039.560000000001,
           17,
           180
          ],
          [
           -559.6700000000128,
           12,
           181
          ],
          [
           -3622.7999999999993,
           14,
           182
          ],
          [
           -1758.819999999996,
           14,
           183
          ],
          [
           2869.810000000005,
           21,
           184
          ],
          [
           -1626.0499999999993,
           18,
           185
          ],
          [
           -1526.3100000000122,
           18,
           186
          ],
          [
           2482.089999999993,
           16,
           187
          ],
          [
           -126.03999999998996,
           21,
           188
          ],
          [
           -163.97000000001572,
           18,
           189
          ],
          [
           -3647.019999999997,
           12,
           190
          ],
          [
           1188.6600000000071,
           16,
           191
          ],
          [
           -2367.7399999999943,
           23,
           192
          ],
          [
           1488.929999999982,
           19,
           193
          ],
          [
           369.7900000000045,
           20,
           194
          ],
          [
           -7.470000000001164,
           10,
           195
          ],
          [
           -549.2999999999993,
           19,
           196
          ],
          [
           -91.75999999998385,
           23,
           197
          ],
          [
           -4410.760000000013,
           18,
           198
          ],
          [
           713.0900000000001,
           20,
           199
          ],
          [
           -3853.670000000002,
           14,
           200
          ],
          [
           54.42999999999665,
           21,
           201
          ],
          [
           935.2300000000068,
           20,
           202
          ],
          [
           -2494.6599999999926,
           19,
           203
          ],
          [
           -5808.920000000002,
           18,
           204
          ],
          [
           1573.9599999999955,
           19,
           205
          ],
          [
           -1523.999999999989,
           16,
           206
          ],
          [
           893.71000000001,
           16,
           207
          ],
          [
           -4114.380000000001,
           21,
           208
          ],
          [
           -308.3600000000042,
           15,
           209
          ],
          [
           -2124.7500000000036,
           15,
           210
          ],
          [
           -3372.010000000002,
           14,
           211
          ],
          [
           679.8600000000042,
           14,
           212
          ],
          [
           -2775.66,
           23,
           213
          ],
          [
           141.90999999999985,
           14,
           214
          ],
          [
           1102.500000000011,
           26,
           215
          ],
          [
           -4923.509999999998,
           15,
           216
          ],
          [
           -1501.690000000006,
           16,
           217
          ],
          [
           974.8599999999897,
           17,
           218
          ],
          [
           -1721.4800000000068,
           18,
           219
          ],
          [
           -3388.6399999999885,
           21,
           220
          ],
          [
           -1799.2799999999952,
           22,
           221
          ],
          [
           -2851.349999999995,
           20,
           222
          ],
          [
           -2341.339999999993,
           14,
           223
          ],
          [
           -2077.610000000004,
           8,
           224
          ],
          [
           1079.0400000000009,
           16,
           225
          ],
          [
           3130.1599999999926,
           22,
           226
          ],
          [
           -764.4999999999964,
           18,
           227
          ],
          [
           -1495.9599999999991,
           14,
           228
          ],
          [
           -4018.2100000000064,
           14,
           229
          ],
          [
           1176.030000000006,
           20,
           230
          ],
          [
           -2202.4299999999967,
           18,
           231
          ],
          [
           1944.6400000000176,
           23,
           232
          ],
          [
           2275.489999999998,
           14,
           233
          ],
          [
           364.0499999999993,
           18,
           234
          ],
          [
           -2332.619999999988,
           18,
           235
          ],
          [
           -2598.53999999999,
           14,
           236
          ],
          [
           1029.4100000000071,
           16,
           237
          ],
          [
           1853.2199999999903,
           14,
           238
          ],
          [
           -4534.420000000009,
           18,
           239
          ],
          [
           -4452.339999999986,
           18,
           240
          ],
          [
           -5465.750000000004,
           16,
           241
          ],
          [
           -5730.77,
           19,
           242
          ],
          [
           299.42999999999665,
           16,
           243
          ],
          [
           1102.0799999999908,
           20,
           244
          ],
          [
           -1.139999999999418,
           14,
           245
          ],
          [
           -1957.559999999994,
           15,
           246
          ],
          [
           -1679.1400000000067,
           18,
           247
          ],
          [
           2624.089999999993,
           16,
           248
          ],
          [
           1577.9000000000124,
           22,
           249
          ],
          [
           -2862.860000000004,
           18,
           250
          ],
          [
           -2406.6099999999897,
           12,
           251
          ],
          [
           -1174.9399999999914,
           18,
           252
          ],
          [
           -2803.1300000000047,
           22,
           253
          ],
          [
           -2180.150000000005,
           17,
           254
          ],
          [
           -1040.03999999999,
           20,
           255
          ],
          [
           1167.1100000000042,
           18,
           256
          ],
          [
           -5632.069999999989,
           16,
           257
          ],
          [
           -1717.0599999999868,
           16,
           258
          ],
          [
           -4079.3299999999945,
           18,
           259
          ],
          [
           -4239.159999999996,
           8,
           260
          ],
          [
           585.9699999999939,
           14,
           261
          ],
          [
           2544.4599999999955,
           10,
           262
          ],
          [
           -1559.2299999999996,
           18,
           263
          ],
          [
           -2635.680000000004,
           20,
           264
          ],
          [
           -4129.159999999993,
           23,
           265
          ],
          [
           -3671.589999999993,
           8,
           266
          ],
          [
           5091.600000000002,
           18,
           267
          ],
          [
           -1577.0200000000004,
           18,
           268
          ],
          [
           3189.249999999982,
           20,
           269
          ],
          [
           -2544.170000000002,
           6,
           270
          ],
          [
           -685.9399999999841,
           8,
           271
          ],
          [
           -2012.799999999992,
           10,
           272
          ],
          [
           1707.549999999992,
           18,
           273
          ],
          [
           1145.8100000000013,
           16,
           274
          ],
          [
           -3520.9699999999975,
           14,
           275
          ],
          [
           -1917.859999999997,
           16,
           276
          ],
          [
           2471.5499999999993,
           20,
           277
          ],
          [
           836.7900000000045,
           16,
           278
          ],
          [
           -2394.0900000000074,
           18,
           279
          ],
          [
           3333.139999999996,
           19,
           280
          ],
          [
           242.53000000001703,
           22,
           281
          ],
          [
           2639.6000000000095,
           18,
           282
          ],
          [
           1319.680000000004,
           16,
           283
          ],
          [
           -2315.1899999999914,
           18,
           284
          ],
          [
           367.14999999999054,
           14,
           285
          ],
          [
           -96.06000000000859,
           20,
           286
          ],
          [
           -7628.390000000003,
           22,
           287
          ],
          [
           -2796.5399999999972,
           20,
           288
          ],
          [
           -1187.4099999999999,
           16,
           289
          ],
          [
           -4952.930000000004,
           14,
           290
          ],
          [
           532.4200000000092,
           17,
           291
          ],
          [
           -3625.3400000000074,
           20,
           292
          ],
          [
           -851.9700000000048,
           18,
           293
          ],
          [
           838.119999999999,
           14,
           294
          ],
          [
           2338.9799999999996,
           15,
           295
          ],
          [
           -973.3200000000033,
           21,
           296
          ],
          [
           1790.6399999999812,
           17,
           297
          ],
          [
           -2224.930000000011,
           14,
           298
          ],
          [
           -2188.119999999999,
           21,
           299
          ],
          [
           -77.81999999999607,
           17,
           300
          ],
          [
           -1235.420000000002,
           10,
           301
          ],
          [
           -7913.169999999987,
           12,
           302
          ],
          [
           4862.769999999993,
           22,
           303
          ],
          [
           -4100.210000000003,
           14,
           304
          ],
          [
           -3000.2100000000064,
           14,
           305
          ],
          [
           -5312.470000000008,
           16,
           306
          ],
          [
           -1052.7299999999996,
           12,
           307
          ],
          [
           -4570.279999999988,
           18,
           308
          ],
          [
           -684.5699999999961,
           16,
           309
          ],
          [
           -2626.490000000009,
           14,
           310
          ],
          [
           80.9900000000016,
           16,
           311
          ],
          [
           -878.1999999999935,
           22,
           312
          ],
          [
           1400.6499999999905,
           20,
           313
          ],
          [
           -748.1300000000047,
           18,
           314
          ],
          [
           2153.759999999991,
           16,
           315
          ],
          [
           -1293.6799999999967,
           13,
           316
          ],
          [
           -5503.430000000004,
           14,
           317
          ],
          [
           -2672.689999999977,
           16,
           318
          ],
          [
           -16.260000000020227,
           15,
           319
          ],
          [
           -3489.899999999998,
           12,
           320
          ],
          [
           932.2999999999847,
           14,
           321
          ],
          [
           -334.47999999999956,
           17,
           322
          ],
          [
           -2126.1499999999905,
           20,
           323
          ],
          [
           2729.160000000007,
           19,
           324
          ],
          [
           -3644.3799999999937,
           18,
           325
          ],
          [
           -1641.8200000000252,
           19,
           326
          ],
          [
           -2964.579999999991,
           16,
           327
          ],
          [
           -4828.78000000001,
           11,
           328
          ],
          [
           -4206.4599999999955,
           21,
           329
          ],
          [
           3286.499999999989,
           18,
           330
          ],
          [
           -631.8200000000179,
           20,
           331
          ],
          [
           -4460.729999999992,
           12,
           332
          ],
          [
           -5517.539999999997,
           18,
           333
          ],
          [
           1349.869999999988,
           16,
           334
          ],
          [
           -1164.0800000000127,
           14,
           335
          ],
          [
           74.65000000001237,
           16,
           336
          ],
          [
           -4907.489999999987,
           18,
           337
          ],
          [
           -3914.940000000006,
           14,
           338
          ],
          [
           -4352.009999999991,
           12,
           339
          ],
          [
           -2811.34,
           18,
           340
          ],
          [
           -1021.6700000000019,
           17,
           341
          ],
          [
           -3048.1299999999865,
           12,
           342
          ],
          [
           -2149.479999999985,
           20,
           343
          ],
          [
           2039.9600000000028,
           18,
           344
          ],
          [
           -1151.2699999999932,
           16,
           345
          ],
          [
           -7525.409999999993,
           16,
           346
          ],
          [
           -2084.1099999999897,
           16,
           347
          ],
          [
           -3302.2700000000004,
           18,
           348
          ],
          [
           -7393.260000000013,
           18,
           349
          ],
          [
           3383.2700000000004,
           16,
           350
          ],
          [
           -2741.2400000000016,
           16,
           351
          ],
          [
           -1469.4699999999975,
           18,
           352
          ],
          [
           1931.6600000000071,
           14,
           353
          ],
          [
           -5630.850000000002,
           11,
           354
          ],
          [
           2850.6200000000063,
           19,
           355
          ],
          [
           -1559.059999999994,
           14,
           356
          ],
          [
           -4005.129999999979,
           17,
           357
          ],
          [
           757.1400000000103,
           16,
           358
          ],
          [
           -807.5400000000045,
           14,
           359
          ],
          [
           1096.8599999999897,
           20,
           360
          ],
          [
           -1668.2099999999955,
           18,
           361
          ],
          [
           3014.749999999989,
           12,
           362
          ],
          [
           -4117.889999999996,
           20,
           363
          ],
          [
           -2465.359999999997,
           19,
           364
          ],
          [
           -2037.2600000000057,
           15,
           365
          ],
          [
           -1333.549999999992,
           20,
           366
          ],
          [
           -1335.7200000000048,
           14,
           367
          ],
          [
           1234.2099999999919,
           12,
           368
          ],
          [
           -3658.150000000005,
           14,
           369
          ],
          [
           -7229.80999999999,
           13,
           370
          ],
          [
           -700.7499999999854,
           16,
           371
          ],
          [
           -2840.2500000000036,
           16,
           372
          ],
          [
           -2886.9799999999923,
           18,
           373
          ],
          [
           -1989.9900000000162,
           20,
           374
          ],
          [
           -642.9499999999935,
           16,
           375
          ],
          [
           -5625.27,
           16,
           376
          ],
          [
           -280.61999999999534,
           16,
           377
          ],
          [
           435.46999999999025,
           18,
           378
          ],
          [
           -1939.3700000000135,
           10,
           379
          ],
          [
           3390.959999999988,
           23,
           380
          ],
          [
           -11.530000000013388,
           14,
           381
          ],
          [
           -3045.9699999999975,
           16,
           382
          ],
          [
           -5396.6399999999885,
           11,
           383
          ],
          [
           1509.739999999987,
           19,
           384
          ],
          [
           -7747.6500000000015,
           12,
           385
          ],
          [
           -851.7400000000052,
           14,
           386
          ],
          [
           -1450.6000000000022,
           15,
           387
          ],
          [
           -2837.6799999999894,
           16,
           388
          ],
          [
           -355.9900000000016,
           17,
           389
          ],
          [
           -675.859999999997,
           24,
           390
          ],
          [
           2650.5800000000054,
           24,
           391
          ],
          [
           -2178.91,
           14,
           392
          ],
          [
           -330.76999999999316,
           18,
           393
          ],
          [
           -2565.319999999996,
           18,
           394
          ],
          [
           3225.8100000000013,
           16,
           395
          ],
          [
           -1006.4900000000125,
           18,
           396
          ],
          [
           2543.8400000000074,
           16,
           397
          ],
          [
           -4412.929999999993,
           18,
           398
          ],
          [
           -6606.0899999999965,
           14,
           399
          ],
          [
           1279.3400000000001,
           18,
           400
          ],
          [
           -2456.1499999999833,
           16,
           401
          ],
          [
           -5150.23,
           14,
           402
          ],
          [
           -7237.509999999991,
           16,
           403
          ],
          [
           -3856.1000000000095,
           16,
           404
          ],
          [
           -5584.249999999996,
           22,
           405
          ],
          [
           -1126.9600000000028,
           17,
           406
          ],
          [
           5018.9699999999975,
           18,
           407
          ],
          [
           -475.2200000000121,
           14,
           408
          ],
          [
           1974.0099999999984,
           16,
           409
          ],
          [
           3308.450000000008,
           18,
           410
          ],
          [
           -5889.600000000017,
           21,
           411
          ],
          [
           -557.7000000000007,
           18,
           412
          ],
          [
           -6675.179999999982,
           12,
           413
          ],
          [
           29.679999999996653,
           16,
           414
          ],
          [
           -5675.779999999995,
           14,
           415
          ],
          [
           -7773.740000000009,
           13,
           416
          ],
          [
           -3736.28999999999,
           16,
           417
          ],
          [
           -5402.7800000000025,
           10,
           418
          ],
          [
           -190.950000000008,
           16,
           419
          ],
          [
           -5144.299999999999,
           20,
           420
          ],
          [
           -696.9300000000039,
           20,
           421
          ],
          [
           -4627.759999999998,
           11,
           422
          ],
          [
           -3688.020000000015,
           17,
           423
          ],
          [
           -6094.939999999991,
           17,
           424
          ],
          [
           -4357.379999999994,
           15,
           425
          ],
          [
           -2213.0600000000086,
           17,
           426
          ],
          [
           635.059999999994,
           16,
           427
          ],
          [
           -2927.7800000000025,
           14,
           428
          ],
          [
           -1961.1299999999937,
           16,
           429
          ],
          [
           -1419.1200000000063,
           8,
           430
          ],
          [
           3482.099999999995,
           19,
           431
          ],
          [
           2688.0700000000033,
           12,
           432
          ],
          [
           -4657.850000000006,
           18,
           433
          ],
          [
           -7683.069999999996,
           14,
           434
          ],
          [
           -6705.889999999996,
           12,
           435
          ],
          [
           -1162.3600000000115,
           16,
           436
          ],
          [
           -1414.109999999997,
           16,
           437
          ],
          [
           -1763.109999999986,
           18,
           438
          ],
          [
           -4445.109999999997,
           12,
           439
          ],
          [
           -3195.6699999999946,
           15,
           440
          ],
          [
           -2987.779999999995,
           19,
           441
          ],
          [
           -820.9399999999987,
           11,
           442
          ],
          [
           -1560.1199999999917,
           10,
           443
          ],
          [
           -4423.240000000009,
           13,
           444
          ],
          [
           -1207.6899999999987,
           16,
           445
          ],
          [
           -3057.230000000003,
           12,
           446
          ],
          [
           -248.33000000001266,
           13,
           447
          ],
          [
           -4788.849999999991,
           17,
           448
          ],
          [
           -1879.079999999998,
           15,
           449
          ],
          [
           -2319.7299999999923,
           20,
           450
          ],
          [
           189.2599999999984,
           19,
           451
          ],
          [
           -2887.7100000000028,
           12,
           452
          ],
          [
           816.9400000000132,
           22,
           453
          ],
          [
           -3172.979999999985,
           20,
           454
          ],
          [
           -6755.449999999993,
           18,
           455
          ],
          [
           -1450.6200000000063,
           15,
           456
          ],
          [
           -1177.510000000002,
           22,
           457
          ],
          [
           -3007.3100000000013,
           18,
           458
          ],
          [
           -3381.3899999999885,
           16,
           459
          ],
          [
           -362.77999999998065,
           16,
           460
          ],
          [
           -995.7500000000036,
           18,
           461
          ],
          [
           -2429.5300000000134,
           18,
           462
          ],
          [
           -945.340000000022,
           22,
           463
          ],
          [
           -3260.770000000004,
           16,
           464
          ],
          [
           -3969.5599999999868,
           15,
           465
          ],
          [
           -1788.2699999999968,
           16,
           466
          ],
          [
           -1369.8899999999958,
           20,
           467
          ],
          [
           -6330.990000000009,
           16,
           468
          ],
          [
           4529.979999999992,
           16,
           469
          ],
          [
           -3149.0499999999993,
           20,
           470
          ],
          [
           -4298.7699999999895,
           12,
           471
          ],
          [
           -3651.920000000002,
           19,
           472
          ],
          [
           -2344.6299999999937,
           15,
           473
          ],
          [
           -4081.1699999999946,
           16,
           474
          ],
          [
           -4044.16,
           13,
           475
          ],
          [
           1734.599999999995,
           20,
           476
          ],
          [
           3610.8799999999865,
           13,
           477
          ],
          [
           -4705.630000000001,
           20,
           478
          ],
          [
           -3092.730000000003,
           18,
           479
          ],
          [
           -5325.049999999992,
           16,
           480
          ],
          [
           -1010.7599999999911,
           18,
           481
          ],
          [
           -335.729999999985,
           20,
           482
          ],
          [
           -2841.529999999988,
           18,
           483
          ],
          [
           330.96000000000276,
           23,
           484
          ],
          [
           1702.739999999998,
           16,
           485
          ],
          [
           -327.8899999999885,
           18,
           486
          ],
          [
           1143.1000000000022,
           18,
           487
          ],
          [
           -1922.7299999999923,
           18,
           488
          ],
          [
           -2094.09,
           14,
           489
          ],
          [
           5240.760000000006,
           19,
           490
          ],
          [
           3726.8299999999836,
           22,
           491
          ],
          [
           987.9300000000039,
           14,
           492
          ],
          [
           -2864.2000000000007,
           18,
           493
          ],
          [
           855.1300000000047,
           12,
           494
          ],
          [
           -6327.029999999995,
           20,
           495
          ],
          [
           623.440000000006,
           17,
           496
          ],
          [
           57.039999999997235,
           16,
           497
          ],
          [
           -2251.7299999999923,
           16,
           498
          ],
          [
           -2050.3600000000115,
           14,
           499
          ],
          [
           -298.14000000000306,
           10,
           500
          ],
          [
           -476.94000000000597,
           12,
           501
          ],
          [
           1278.2899999999972,
           14,
           502
          ],
          [
           -15.380000000001019,
           18,
           503
          ],
          [
           -5098.579999999991,
           8,
           504
          ],
          [
           2526.8099999999977,
           16,
           505
          ],
          [
           -3748.1499999999905,
           12,
           506
          ],
          [
           842.559999999994,
           10,
           507
          ],
          [
           -8088.630000000016,
           17,
           508
          ],
          [
           223.11000000000058,
           22,
           509
          ],
          [
           -3561.279999999995,
           21,
           510
          ],
          [
           1188.0200000000077,
           16,
           511
          ],
          [
           -3933.4599999999955,
           17,
           512
          ],
          [
           -495.68000000000757,
           18,
           513
          ],
          [
           233.33000000000538,
           14,
           514
          ],
          [
           -4617.739999999994,
           18,
           515
          ],
          [
           -2542.6499999999905,
           16,
           516
          ],
          [
           -4914.559999999994,
           19,
           517
          ],
          [
           -3815.4199999999873,
           10,
           518
          ],
          [
           -2612.6599999999926,
           17,
           519
          ],
          [
           -982.2400000000016,
           19,
           520
          ],
          [
           -2730.1899999999987,
           16,
           521
          ],
          [
           -1261.7199999999903,
           15,
           522
          ],
          [
           -3393.970000000001,
           16,
           523
          ],
          [
           2395.66,
           16,
           524
          ],
          [
           -2982.430000000004,
           12,
           525
          ],
          [
           -2925.6200000000063,
           8,
           526
          ],
          [
           -2435.3100000000013,
           16,
           527
          ],
          [
           -1636.7899999999972,
           12,
           528
          ],
          [
           1455.900000000005,
           19,
           529
          ],
          [
           1243.3100000000013,
           16,
           530
          ],
          [
           1670.1499999999905,
           16,
           531
          ],
          [
           -4838.359999999997,
           17,
           532
          ],
          [
           -1776.8999999999905,
           20,
           533
          ],
          [
           -2844.7700000000077,
           16,
           534
          ],
          [
           -936.9000000000051,
           16,
           535
          ],
          [
           3676.8799999999937,
           10,
           536
          ],
          [
           -4859.200000000019,
           12,
           537
          ],
          [
           -1598.6299999999937,
           17,
           538
          ],
          [
           5312.929999999997,
           15,
           539
          ],
          [
           -2538.7999999999993,
           14,
           540
          ],
          [
           -219.38999999999578,
           8,
           541
          ],
          [
           -3901.929999999982,
           18,
           542
          ],
          [
           -403.1499999999978,
           16,
           543
          ],
          [
           -2565.8899999999812,
           16,
           544
          ],
          [
           -3732.360000000004,
           18,
           545
          ],
          [
           -1561.7900000000045,
           13,
           546
          ],
          [
           -1771.2800000000097,
           19,
           547
          ],
          [
           1005.6899999999914,
           16,
           548
          ],
          [
           1943.0499999999956,
           16,
           549
          ],
          [
           1535.4500000000044,
           18,
           550
          ],
          [
           -4140.150000000012,
           20,
           551
          ],
          [
           -1872.9299999999967,
           14,
           552
          ],
          [
           -5293.239999999994,
           17,
           553
          ],
          [
           -2683.3399999999783,
           17,
           554
          ],
          [
           -2493.749999999989,
           14,
           555
          ],
          [
           129.71000000000276,
           16,
           556
          ],
          [
           -6716.96999999999,
           13,
           557
          ],
          [
           -636.5799999999981,
           22,
           558
          ],
          [
           -4138.689999999991,
           12,
           559
          ],
          [
           -4131.939999999991,
           18,
           560
          ],
          [
           -3647.4399999999987,
           16,
           561
          ],
          [
           -340.9099999999962,
           14,
           562
          ],
          [
           -2654.5600000000013,
           17,
           563
          ],
          [
           -1282.9900000000089,
           22,
           564
          ],
          [
           -5577.360000000004,
           18,
           565
          ],
          [
           -3269.809999999994,
           15,
           566
          ],
          [
           1973.979999999996,
           14,
           567
          ],
          [
           -3874.769999999993,
           16,
           568
          ],
          [
           -6147.319999999989,
           14,
           569
          ],
          [
           1622.4900000000016,
           14,
           570
          ],
          [
           -5584.1499999999905,
           12,
           571
          ],
          [
           -3641.98999999998,
           16,
           572
          ],
          [
           -6674.330000000013,
           15,
           573
          ],
          [
           -3329.930000000004,
           20,
           574
          ],
          [
           -3171.600000000006,
           10,
           575
          ],
          [
           -4975.979999999992,
           17,
           576
          ],
          [
           3355.62999999999,
           18,
           577
          ],
          [
           -4848.749999999996,
           10,
           578
          ],
          [
           -2604.46000000001,
           16,
           579
          ],
          [
           1196.0400000000118,
           20,
           580
          ],
          [
           -5097.650000000005,
           16,
           581
          ],
          [
           -1809.7199999999975,
           15,
           582
          ],
          [
           -2837.8300000000127,
           15,
           583
          ],
          [
           -1042.1300000000228,
           18,
           584
          ],
          [
           -904.119999999999,
           13,
           585
          ],
          [
           602.7000000000044,
           22,
           586
          ],
          [
           -1734.1599999999926,
           18,
           587
          ],
          [
           -2777.989999999998,
           18,
           588
          ],
          [
           -4920.799999999992,
           17,
           589
          ],
          [
           -2227.029999999988,
           16,
           590
          ],
          [
           -4572.970000000001,
           16,
           591
          ],
          [
           -4140.729999999992,
           12,
           592
          ],
          [
           396.8199999999997,
           18,
           593
          ],
          [
           -1499.9999999999964,
           12,
           594
          ],
          [
           -1951.9199999999873,
           16,
           595
          ],
          [
           -2766.329999999998,
           18,
           596
          ],
          [
           -217.73999999999432,
           18,
           597
          ],
          [
           3278.7899999999972,
           16,
           598
          ],
          [
           -1059.5599999999868,
           18,
           599
          ],
          [
           -3626.229999999985,
           18,
           600
          ],
          [
           -5105.759999999991,
           14,
           601
          ],
          [
           1858.0699999999852,
           18,
           602
          ],
          [
           937.4700000000048,
           14,
           603
          ],
          [
           -7515.380000000008,
           15,
           604
          ],
          [
           -3084.110000000004,
           12,
           605
          ],
          [
           -6026.369999999992,
           15,
           606
          ],
          [
           -3908.7400000000016,
           15,
           607
          ],
          [
           -7519.989999999987,
           17,
           608
          ],
          [
           -2170.7399999999943,
           16,
           609
          ],
          [
           -6856.919999999995,
           16,
           610
          ],
          [
           -182.0799999999981,
           12,
           611
          ],
          [
           -2640.7000000000007,
           21,
           612
          ],
          [
           1121.3800000000156,
           20,
           613
          ],
          [
           424.4099999999853,
           14,
           614
          ],
          [
           -78.30000000000655,
           22,
           615
          ],
          [
           -2627.650000000005,
           18,
           616
          ],
          [
           -2703.8700000000063,
           16,
           617
          ],
          [
           -2604.2299999999996,
           14,
           618
          ],
          [
           -7359.890000000003,
           10,
           619
          ],
          [
           -1958.1999999999862,
           21,
           620
          ],
          [
           2125.269999999993,
           18,
           621
          ],
          [
           -2337.1799999999967,
           14,
           622
          ],
          [
           -3129.7900000000154,
           18,
           623
          ],
          [
           -5705.700000000001,
           16,
           624
          ],
          [
           -1597.5,
           12,
           625
          ],
          [
           808.1599999999999,
           16,
           626
          ],
          [
           -595.2600000000057,
           13,
           627
          ],
          [
           -411.8999999999978,
           18,
           628
          ],
          [
           -2924.7999999999993,
           14,
           629
          ],
          [
           -1724.2300000000214,
           17,
           630
          ],
          [
           -303.80999999998676,
           16,
           631
          ],
          [
           5712.519999999993,
           13,
           632
          ],
          [
           -1012.5200000000077,
           17,
           633
          ],
          [
           -832.6700000000055,
           20,
           634
          ],
          [
           -1767.3499999999985,
           16,
           635
          ],
          [
           -1718.0099999999984,
           17,
           636
          ],
          [
           -5725.889999999996,
           14,
           637
          ],
          [
           2303.0100000000057,
           16,
           638
          ],
          [
           640.8999999999978,
           17,
           639
          ],
          [
           -448.3899999999994,
           18,
           640
          ],
          [
           808.0999999999876,
           13,
           641
          ],
          [
           -955.2200000000048,
           17,
           642
          ],
          [
           -8421.19000000001,
           14,
           643
          ],
          [
           -1684.71000000001,
           18,
           644
          ],
          [
           -3034.659999999996,
           10,
           645
          ],
          [
           -5432.9599999999955,
           8,
           646
          ],
          [
           -566.1300000000156,
           19,
           647
          ],
          [
           -1853.8899999999885,
           14,
           648
          ],
          [
           -3752.7900000000045,
           12,
           649
          ],
          [
           355.200000000008,
           29,
           650
          ],
          [
           -450.6700000000019,
           18,
           651
          ],
          [
           -3690.5600000000013,
           18,
           652
          ],
          [
           -884.7099999999991,
           18,
           653
          ],
          [
           -2322.790000000012,
           20,
           654
          ],
          [
           -408.0700000000106,
           16,
           655
          ],
          [
           278.98999999999796,
           12,
           656
          ],
          [
           2996.540000000019,
           18,
           657
          ],
          [
           1599.390000000003,
           18,
           658
          ],
          [
           105.70999999998821,
           14,
           659
          ],
          [
           1201.280000000017,
           19,
           660
          ],
          [
           -3774.4500000000007,
           13,
           661
          ],
          [
           -705.1100000000042,
           18,
           662
          ],
          [
           -1235.0599999999868,
           17,
           663
          ],
          [
           -3795.2800000000243,
           17,
           664
          ],
          [
           -2835.990000000009,
           16,
           665
          ],
          [
           5000.75,
           16,
           666
          ],
          [
           2361.7100000000028,
           14,
           667
          ],
          [
           -6410.489999999987,
           14,
           668
          ],
          [
           -2671.9600000000028,
           16,
           669
          ],
          [
           -1161.7699999999932,
           19,
           670
          ],
          [
           -2930.0900000000147,
           13,
           671
          ],
          [
           -1700.5499999999993,
           10,
           672
          ],
          [
           -2762.7100000000028,
           18,
           673
          ],
          [
           -1640.0700000000033,
           12,
           674
          ],
          [
           -4702.169999999998,
           16,
           675
          ],
          [
           -945.9500000000007,
           12,
           676
          ],
          [
           -3672.2299999999923,
           14,
           677
          ],
          [
           -2857.809999999994,
           20,
           678
          ],
          [
           -4488.760000000006,
           18,
           679
          ],
          [
           -632.8100000000013,
           18,
           680
          ],
          [
           -1225.8600000000006,
           12,
           681
          ],
          [
           -1303.9600000000028,
           21,
           682
          ],
          [
           61.30000000000655,
           14,
           683
          ],
          [
           -2201.3699999999917,
           16,
           684
          ],
          [
           -2919.7900000000045,
           21,
           685
          ],
          [
           2671.2299999999996,
           16,
           686
          ],
          [
           -3559.7900000000154,
           16,
           687
          ],
          [
           -5314.029999999988,
           14,
           688
          ],
          [
           -5372.570000000007,
           16,
           689
          ],
          [
           -2128.189999999995,
           16,
           690
          ],
          [
           133.86999999999534,
           16,
           691
          ],
          [
           3546.0500000000065,
           18,
           692
          ],
          [
           -5593.019999999986,
           19,
           693
          ],
          [
           -4722.929999999989,
           14,
           694
          ],
          [
           90.52000000000044,
           14,
           695
          ],
          [
           -875.6800000000039,
           18,
           696
          ],
          [
           -5235.289999999997,
           16,
           697
          ],
          [
           3860.829999999998,
           20,
           698
          ],
          [
           -5813.3299999999945,
           14,
           699
          ],
          [
           -651.8899999999994,
           17,
           700
          ],
          [
           1001.1599999999926,
           15,
           701
          ],
          [
           -2715.600000000002,
           15,
           702
          ],
          [
           -3935.100000000002,
           17,
           703
          ],
          [
           -1018.7200000000194,
           16,
           704
          ],
          [
           -6357.520000000008,
           15,
           705
          ],
          [
           -3998.269999999997,
           16,
           706
          ],
          [
           -95.60999999998967,
           18,
           707
          ],
          [
           -2023.1599999999999,
           19,
           708
          ],
          [
           451.9699999999866,
           14,
           709
          ],
          [
           -1383.7800000000097,
           18,
           710
          ],
          [
           -1767.0099999999948,
           14,
           711
          ],
          [
           2621.4199999999946,
           12,
           712
          ],
          [
           -2658.899999999998,
           19,
           713
          ],
          [
           2003.1599999999999,
           17,
           714
          ],
          [
           -29.590000000003783,
           14,
           715
          ],
          [
           -2291.6899999999914,
           12,
           716
          ],
          [
           -3863.009999999984,
           18,
           717
          ],
          [
           -2520.6000000000095,
           17,
           718
          ],
          [
           -4240.170000000002,
           18,
           719
          ],
          [
           -733.9900000000016,
           18,
           720
          ],
          [
           -6638.59,
           16,
           721
          ],
          [
           -1135.849999999995,
           20,
           722
          ],
          [
           -1613.7800000000097,
           15,
           723
          ],
          [
           1935.9599999999955,
           23,
           724
          ],
          [
           -665.3299999999908,
           21,
           725
          ],
          [
           -334.0400000000045,
           18,
           726
          ],
          [
           -8336.680000000004,
           19,
           727
          ],
          [
           -2916.2000000000007,
           17,
           728
          ],
          [
           -1286.0200000000077,
           22,
           729
          ],
          [
           -367.2299999999923,
           14,
           730
          ],
          [
           -1032.9100000000144,
           18,
           731
          ],
          [
           373.9500000000153,
           20,
           732
          ],
          [
           815.9799999999923,
           13,
           733
          ],
          [
           -5344.730000000007,
           18,
           734
          ],
          [
           -5333.739999999994,
           15,
           735
          ],
          [
           -3698.8299999999945,
           18,
           736
          ],
          [
           -7047.420000000002,
           15,
           737
          ],
          [
           -3855.560000000005,
           14,
           738
          ],
          [
           -6069.27,
           18,
           739
          ],
          [
           -6011.2900000000045,
           16,
           740
          ],
          [
           5.919999999998254,
           10,
           741
          ],
          [
           2557.9699999999903,
           18,
           742
          ],
          [
           -3311.369999999999,
           16,
           743
          ],
          [
           -4669.470000000023,
           22,
           744
          ],
          [
           -5728.700000000001,
           16,
           745
          ],
          [
           -4670.430000000008,
           16,
           746
          ],
          [
           -3581.4900000000016,
           12,
           747
          ],
          [
           -4590.370000000003,
           22,
           748
          ],
          [
           -1116.049999999992,
           21,
           749
          ],
          [
           -5507.920000000002,
           17,
           750
          ],
          [
           403.72999999999956,
           16,
           751
          ],
          [
           -2003.109999999986,
           19,
           752
          ],
          [
           -2488.53999999999,
           18,
           753
          ],
          [
           -2935.1299999999865,
           17,
           754
          ],
          [
           -633.390000000003,
           16,
           755
          ],
          [
           -3279.7499999999927,
           12,
           756
          ],
          [
           -1581.2899999999936,
           12,
           757
          ],
          [
           -6243.78999999999,
           16,
           758
          ],
          [
           -2358.6900000000132,
           15,
           759
          ],
          [
           50.77000000001499,
           14,
           760
          ],
          [
           1811.1499999999978,
           16,
           761
          ],
          [
           -374.9299999999894,
           18,
           762
          ],
          [
           -4082.4699999999975,
           13,
           763
          ],
          [
           2625.250000000011,
           14,
           764
          ],
          [
           -389.77999999998065,
           20,
           765
          ],
          [
           427.87000000000626,
           16,
           766
          ],
          [
           -2816.399999999998,
           19,
           767
          ],
          [
           3203.1299999999974,
           18,
           768
          ],
          [
           -1195.7199999999975,
           21,
           769
          ],
          [
           1720.4500000000007,
           18,
           770
          ],
          [
           -5879.299999999999,
           19,
           771
          ],
          [
           -5065.729999999996,
           12,
           772
          ],
          [
           -2940.860000000004,
           16,
           773
          ],
          [
           3612.869999999999,
           18,
           774
          ],
          [
           -2510.220000000005,
           18,
           775
          ],
          [
           -4335.869999999977,
           22,
           776
          ],
          [
           -3481.259999999991,
           13,
           777
          ],
          [
           1812.989999999998,
           22,
           778
          ],
          [
           2724.5599999999904,
           12,
           779
          ],
          [
           -1701.3400000000147,
           19,
           780
          ],
          [
           -2857.140000000003,
           21,
           781
          ],
          [
           1285.7500000000036,
           17,
           782
          ],
          [
           -2494.019999999993,
           14,
           783
          ],
          [
           6.340000000014697,
           19,
           784
          ],
          [
           -2764.440000000006,
           18,
           785
          ],
          [
           -2628.1099999999897,
           22,
           786
          ],
          [
           -5039.299999999999,
           23,
           787
          ],
          [
           767.7200000000048,
           17,
           788
          ],
          [
           -207.8299999999872,
           14,
           789
          ],
          [
           -491.19000000000597,
           14,
           790
          ],
          [
           -947.6800000000039,
           19,
           791
          ],
          [
           -5449.649999999983,
           18,
           792
          ],
          [
           -4395.180000000004,
           9,
           793
          ],
          [
           -2086.799999999992,
           12,
           794
          ],
          [
           -1163.099999999995,
           15,
           795
          ],
          [
           2347.9400000000096,
           16,
           796
          ],
          [
           -2716.8200000000106,
           16,
           797
          ],
          [
           23.86999999999898,
           18,
           798
          ],
          [
           -3542.1199999999917,
           15,
           799
          ],
          [
           -1925.5899999999929,
           16,
           800
          ],
          [
           -4169.869999999999,
           20,
           801
          ],
          [
           1092.5900000000074,
           18,
           802
          ],
          [
           -1476.1100000000115,
           20,
           803
          ],
          [
           -2815.6099999999788,
           12,
           804
          ],
          [
           -1824.819999999996,
           18,
           805
          ],
          [
           -3280.2399999999943,
           14,
           806
          ],
          [
           -1611.7499999999964,
           16,
           807
          ],
          [
           -2100.0700000000106,
           16,
           808
          ],
          [
           454.5099999999984,
           16,
           809
          ],
          [
           -5333.1899999999805,
           17,
           810
          ],
          [
           -2308.2400000000016,
           14,
           811
          ],
          [
           1166.5299999999988,
           22,
           812
          ],
          [
           -1158.170000000002,
           10,
           813
          ],
          [
           -2106.150000000005,
           24,
           814
          ],
          [
           -5887.070000000003,
           8,
           815
          ],
          [
           1329.2299999999923,
           16,
           816
          ],
          [
           -4039.4699999999903,
           20,
           817
          ],
          [
           -3457.4299999999967,
           12,
           818
          ],
          [
           699.0500000000065,
           14,
           819
          ],
          [
           -2047.6599999999926,
           10,
           820
          ],
          [
           -4309.389999999996,
           20,
           821
          ],
          [
           -1254.8600000000115,
           18,
           822
          ],
          [
           -5572.169999999995,
           16,
           823
          ],
          [
           -811.3500000000022,
           17,
           824
          ],
          [
           92.04999999998108,
           12,
           825
          ],
          [
           -553.2900000000045,
           18,
           826
          ],
          [
           589.7199999999975,
           16,
           827
          ],
          [
           -899.1000000000167,
           19,
           828
          ],
          [
           -4164.8899999999885,
           16,
           829
          ],
          [
           -471.17000000000553,
           14,
           830
          ],
          [
           -3004.019999999993,
           22,
           831
          ],
          [
           -5441.229999999992,
           14,
           832
          ],
          [
           -4004.2800000000025,
           17,
           833
          ],
          [
           -2839.4099999999926,
           18,
           834
          ],
          [
           -1914.309999999994,
           18,
           835
          ],
          [
           -4649.899999999998,
           12,
           836
          ],
          [
           -3280.0200000000004,
           11,
           837
          ],
          [
           -8703.02,
           13,
           838
          ],
          [
           -3268.2800000000097,
           20,
           839
          ],
          [
           -8722.98,
           15,
           840
          ],
          [
           1021.1100000000042,
           16,
           841
          ],
          [
           -810.2099999999809,
           20,
           842
          ],
          [
           114.17000000000553,
           14,
           843
          ],
          [
           3294.140000000003,
           17,
           844
          ],
          [
           2112.6899999999914,
           13,
           845
          ],
          [
           -404.19999999999345,
           19,
           846
          ],
          [
           -3344.4500000000044,
           20,
           847
          ],
          [
           -5354.670000000009,
           12,
           848
          ],
          [
           -4212.179999999997,
           13,
           849
          ],
          [
           -926.8299999999981,
           16,
           850
          ],
          [
           3031.4699999999903,
           16,
           851
          ],
          [
           -2263.2700000000077,
           16,
           852
          ],
          [
           -2325.909999999996,
           16,
           853
          ],
          [
           -599.9900000000052,
           19,
           854
          ],
          [
           3358.3900000000067,
           16,
           855
          ],
          [
           -6968.099999999995,
           17,
           856
          ],
          [
           136.90999999998894,
           20,
           857
          ],
          [
           -3812.1799999999967,
           15,
           858
          ],
          [
           -4847.759999999991,
           25,
           859
          ],
          [
           -1401.4700000000084,
           18,
           860
          ],
          [
           -2434.0700000000033,
           18,
           861
          ],
          [
           -6410.579999999991,
           18,
           862
          ],
          [
           -2633.069999999996,
           17,
           863
          ],
          [
           1170.7900000000045,
           22,
           864
          ],
          [
           -961.2700000000186,
           14,
           865
          ],
          [
           -2695.66999999998,
           18,
           866
          ],
          [
           1583.2700000000077,
           18,
           867
          ],
          [
           -1444.3000000000138,
           23,
           868
          ],
          [
           -3052.0500000000175,
           20,
           869
          ],
          [
           -2353.3099999999977,
           22,
           870
          ],
          [
           -5258.499999999989,
           13,
           871
          ],
          [
           2832.3299999999945,
           11,
           872
          ],
          [
           6748.529999999981,
           17,
           873
          ],
          [
           -3480.230000000003,
           16,
           874
          ],
          [
           1069.5700000000106,
           18,
           875
          ],
          [
           703.2499999999782,
           20,
           876
          ],
          [
           1263.2599999999911,
           14,
           877
          ],
          [
           -5087.729999999992,
           8,
           878
          ],
          [
           -2082.2299999999996,
           16,
           879
          ],
          [
           -5403.800000000007,
           18,
           880
          ],
          [
           96.70000000001528,
           22,
           881
          ],
          [
           -3583.079999999998,
           16,
           882
          ],
          [
           -370.7099999999955,
           20,
           883
          ],
          [
           624.7499999999964,
           25,
           884
          ],
          [
           52.2599999999984,
           10,
           885
          ],
          [
           -3883.019999999986,
           19,
           886
          ],
          [
           -3530.2100000000028,
           16,
           887
          ],
          [
           -4373.189999999999,
           12,
           888
          ],
          [
           -2739.6799999999967,
           20,
           889
          ],
          [
           817.2700000000077,
           18,
           890
          ],
          [
           -1938.9399999999987,
           12,
           891
          ],
          [
           -3200.3699999999844,
           18,
           892
          ],
          [
           144.70999999999185,
           18,
           893
          ],
          [
           -2742.1899999999914,
           16,
           894
          ],
          [
           -3948.9299999999967,
           14,
           895
          ],
          [
           624.1500000000051,
           12,
           896
          ],
          [
           929.1699999999873,
           14,
           897
          ],
          [
           1080.569999999996,
           18,
           898
          ],
          [
           -4937.630000000001,
           20,
           899
          ],
          [
           -2314.230000000007,
           18,
           900
          ],
          [
           -1596.0199999999968,
           14,
           901
          ],
          [
           -2443.649999999998,
           14,
           902
          ],
          [
           658.1699999999946,
           14,
           903
          ],
          [
           -2871.84,
           18,
           904
          ],
          [
           -729.2099999999882,
           16,
           905
          ],
          [
           -1138.5000000000036,
           19,
           906
          ],
          [
           2916.2599999999984,
           14,
           907
          ],
          [
           -3345.3999999999905,
           18,
           908
          ],
          [
           -1288.3500000000022,
           20,
           909
          ],
          [
           -3647.8800000000083,
           12,
           910
          ],
          [
           4115.739999999994,
           20,
           911
          ],
          [
           -6737.399999999998,
           15,
           912
          ],
          [
           -2741.8300000000163,
           18,
           913
          ],
          [
           -1697.7900000000045,
           18,
           914
          ],
          [
           428.53999999998996,
           22,
           915
          ],
          [
           -3553.7600000000057,
           20,
           916
          ],
          [
           -5388.489999999994,
           16,
           917
          ],
          [
           -4946.249999999993,
           12,
           918
          ],
          [
           -1432.1200000000063,
           24,
           919
          ],
          [
           -2523.4500000000007,
           18,
           920
          ],
          [
           298.3100000000013,
           14,
           921
          ],
          [
           -446.30999999999403,
           13,
           922
          ],
          [
           1434.579999999998,
           20,
           923
          ],
          [
           -1841.010000000002,
           16,
           924
          ],
          [
           -2758.749999999982,
           20,
           925
          ],
          [
           2013.760000000013,
           16,
           926
          ],
          [
           -5407.680000000008,
           8,
           927
          ],
          [
           -5397.090000000004,
           12,
           928
          ],
          [
           -630.3999999999905,
           14,
           929
          ],
          [
           -5589.950000000001,
           12,
           930
          ],
          [
           -4345.780000000017,
           16,
           931
          ],
          [
           -6290.080000000005,
           17,
           932
          ],
          [
           -2546.310000000005,
           14,
           933
          ],
          [
           -40.35000000000218,
           10,
           934
          ],
          [
           900.2399999999943,
           14,
           935
          ],
          [
           -6383.700000000001,
           13,
           936
          ],
          [
           -5623.189999999999,
           18,
           937
          ],
          [
           -1958.8700000000063,
           10,
           938
          ],
          [
           1747.9899999999943,
           20,
           939
          ],
          [
           -2520.6000000000095,
           20,
           940
          ],
          [
           -4420.390000000003,
           12,
           941
          ],
          [
           -958.6100000000006,
           16,
           942
          ],
          [
           -5842.139999999981,
           16,
           943
          ],
          [
           -1017.5300000000025,
           12,
           944
          ],
          [
           2810.730000000014,
           16,
           945
          ],
          [
           -6547.460000000003,
           20,
           946
          ],
          [
           4389.4699999999975,
           16,
           947
          ],
          [
           -218.45000000000437,
           14,
           948
          ],
          [
           146.32000000000335,
           14,
           949
          ],
          [
           2146.78999999999,
           18,
           950
          ],
          [
           -1031.920000000002,
           10,
           951
          ],
          [
           604.8200000000033,
           14,
           952
          ],
          [
           50.4900000000016,
           15,
           953
          ],
          [
           -1900.6899999999987,
           19,
           954
          ],
          [
           -1622.420000000002,
           17,
           955
          ],
          [
           -6865.989999999987,
           22,
           956
          ],
          [
           1654.9800000000068,
           17,
           957
          ],
          [
           -2484.41,
           14,
           958
          ],
          [
           -3118.0500000000065,
           18,
           959
          ],
          [
           1434.7200000000048,
           12,
           960
          ],
          [
           19.129999999990105,
           14,
           961
          ],
          [
           -4063.6700000000055,
           12,
           962
          ],
          [
           1245.7299999999996,
           16,
           963
          ],
          [
           -5956.870000000006,
           12,
           964
          ],
          [
           1304.809999999994,
           18,
           965
          ],
          [
           -2621.709999999999,
           14,
           966
          ],
          [
           3081.5200000000004,
           15,
           967
          ],
          [
           458.4199999999946,
           12,
           968
          ],
          [
           -3786.079999999998,
           15,
           969
          ],
          [
           2649.1399999999885,
           16,
           970
          ],
          [
           -12.869999999998981,
           16,
           971
          ],
          [
           -1907.6399999999994,
           16,
           972
          ],
          [
           -1409.3699999999844,
           22,
           973
          ],
          [
           -538.7700000000077,
           10,
           974
          ],
          [
           -2052.459999999988,
           22,
           975
          ],
          [
           1178.6499999999978,
           18,
           976
          ],
          [
           -2403.229999999985,
           16,
           977
          ],
          [
           -6486.949999999986,
           18,
           978
          ],
          [
           -4125.749999999985,
           16,
           979
          ],
          [
           -5816.730000000007,
           18,
           980
          ],
          [
           -3125.0100000000057,
           14,
           981
          ],
          [
           -4327.000000000004,
           13,
           982
          ],
          [
           -4169.209999999985,
           14,
           983
          ],
          [
           -1811.8700000000135,
           16,
           984
          ],
          [
           -2629.0499999999847,
           14,
           985
          ],
          [
           -3138.3499999999985,
           16,
           986
          ],
          [
           -4120.599999999995,
           18,
           987
          ],
          [
           -4672.989999999994,
           13,
           988
          ],
          [
           -4225.480000000007,
           18,
           989
          ],
          [
           -3209.0700000000106,
           16,
           990
          ],
          [
           -2131.7199999999903,
           22,
           991
          ],
          [
           -4616.709999999999,
           16,
           992
          ],
          [
           -760.369999999999,
           16,
           993
          ],
          [
           -1318.5499999999956,
           16,
           994
          ],
          [
           -754.5900000000038,
           15,
           995
          ],
          [
           -6021.479999999992,
           15,
           996
          ],
          [
           -2570.3000000000065,
           15,
           997
          ],
          [
           -6457.060000000016,
           18,
           998
          ],
          [
           -3804.610000000004,
           15,
           999
          ],
          [
           -1601.1600000000071,
           19,
           1000
          ]
         ],
         "fillcolor": "rgba(255,255,255,0)",
         "hoveron": "points",
         "hovertemplate": "model_type=PPO<br>fmt_total_profit_percentage=%{x}<br>total_reward_cash=%{customdata[0]}<br>num_of_trades=%{customdata[1]}<br>sim_id=%{customdata[2]}<extra></extra>",
         "jitter": 0,
         "legendgroup": "PPO",
         "line": {
          "color": "rgba(255,255,255,0)"
         },
         "marker": {
          "color": "#FF7F0E",
          "symbol": "line-ns-open"
         },
         "name": "PPO",
         "offsetgroup": "PPO",
         "showlegend": false,
         "type": "box",
         "x": [
          -20.243580080973643,
          3.351848552875314,
          -11.868212219980713,
          -7.188159843772479,
          -3.7946095466429575,
          -29.469169343864653,
          -20.62915044277618,
          -11.82924703474889,
          9.052324969808412,
          -3.1720450280133705,
          -18.95466048542658,
          -8.85382039228071,
          5.20373193034076,
          9.583914223574986,
          -21.265763972582263,
          7.549175961038546,
          -2.7678274052166163,
          -17.49170998275521,
          6.302227742574096,
          -24.593319905340582,
          -12.39991733427962,
          -19.064803947100273,
          -23.554466017359708,
          -17.75118884745619,
          -20.892081698910914,
          -17.857468806379284,
          -9.82538651844157,
          -1.7583394464159796,
          -9.558169022235251,
          -9.475242025747132,
          -0.815371179965596,
          7.983664204224383,
          -16.957725586856842,
          -14.685781848349533,
          -10.090430239776571,
          -11.329255417182448,
          -0.5701899812381561,
          -4.530733795778275,
          7.56033635543143,
          -11.010596444144783,
          -9.276000747365142,
          19.763455796578675,
          -15.824594974930905,
          -7.893846883201439,
          -21.18252147615598,
          -5.678690868787717,
          -15.807598967289616,
          -6.947753485201568,
          -16.811610186845215,
          -14.331398495983693,
          -7.724454275585324,
          -28.642368932647344,
          -12.437037803929273,
          3.107093857104215,
          -8.027158098140896,
          -4.456157645037962,
          -2.572197581276059,
          -21.17528930652971,
          -28.863889629743433,
          -0.7625113090382385,
          -5.531155007947208,
          0.21878710316394212,
          2.328205126239813,
          5.8701460939153405,
          19.296925187946567,
          -21.163420687946,
          2.5006764860326047,
          3.529148731002829,
          18.741457085573444,
          -21.893399347395658,
          -0.5075722050422171,
          -29.83668490247473,
          -4.906751506950114,
          -24.081770989825223,
          4.328350745252441,
          -10.988306873997756,
          -8.11345946826062,
          -9.832654353327541,
          -9.593017596118504,
          -8.855785366732672,
          -16.718338201731697,
          -6.739327528242223,
          0.19274698597946394,
          -19.57001856908497,
          -14.073461533454623,
          -9.040760624648803,
          -8.980707353248828,
          -4.888646273350994,
          -10.687326096242632,
          -20.655422862056206,
          2.2876597098075546,
          -32.250075961436266,
          -7.082263166029601,
          -9.45356581932797,
          -2.3127772333619845,
          -3.0979757855480794,
          -26.363603042411942,
          -23.14725498813156,
          -30.31706698629495,
          -17.011684383514837,
          -11.822056251433622,
          12.748563519110512,
          -25.03171168250935,
          6.515203687899684,
          -12.608906831968913,
          -26.52796102450088,
          -6.231981970352263,
          -20.13336214847712,
          -3.183986266037653,
          -10.257571136390153,
          -5.26512752151167,
          -5.760776503457732,
          0.15960325327615266,
          -10.477315854836133,
          5.394542982507677,
          -8.078648016334855,
          -12.151920418299833,
          -4.524027776178341,
          -5.922462373862524,
          12.51966884090001,
          0.27622702742389205,
          -11.391545994949304,
          1.4463455537215841,
          -6.006160318148113,
          -12.181914915616455,
          27.8310245670885,
          5.232282031455782,
          -12.503326252841129,
          -0.013525131074043628,
          -16.967578130461213,
          -13.197802197479946,
          -8.658809953400826,
          24.008326039306873,
          7.388831941402851,
          -26.498296147559685,
          -18.159440246118308,
          -1.9068165888318833,
          -18.64604153146795,
          20.127523687416925,
          -19.209640223726442,
          -9.864919381512472,
          -15.452543570800492,
          -12.62346819744742,
          -3.695480040850485,
          -6.686455414603653,
          8.826077887730577,
          -16.406098852922625,
          -28.35350354579811,
          -22.640456459091574,
          -11.61563124335261,
          -1.4042626850741757,
          -18.824911628316066,
          -7.016384854732516,
          -7.3173142117489265,
          -8.686396438167588,
          24.062095381930092,
          -2.590215729486478,
          -15.697850874361185,
          -26.479315049657693,
          -12.048464117048074,
          -7.367924566322515,
          -0.2645169484732479,
          -22.43612290148057,
          -5.349333040198212,
          -16.338683694847944,
          -24.281072278997296,
          5.274578334560953,
          -10.560854481290981,
          -3.2319952882905345,
          29.698473166885186,
          3.1807293007454884,
          3.1118219511648615,
          -16.712861172537906,
          -3.3365753248746577,
          -13.053101331953565,
          -4.7194613647198125,
          -9.100571048878303,
          1.083801693414732,
          -15.784129723717788,
          -24.864823237051958,
          -4.180007597578317,
          -16.68424392671939,
          -10.645972340606702,
          13.279810075138387,
          -7.018285294294547,
          -8.354231459909956,
          12.939059958559262,
          -1.3073361961141838,
          -3.009852286412562,
          -16.820348145697917,
          5.228524397975343,
          -10.544476353260546,
          7.262040172826256,
          1.5228161657543149,
          -2.292322067642538,
          -2.196982866344477,
          -0.3744737448601154,
          -19.69163190615133,
          3.3741219297244385,
          -17.113744585520685,
          -0.9565083842982047,
          5.575393601657619,
          -11.90582583677119,
          -24.112218573301757,
          7.754517585116516,
          -6.067361529633586,
          0.48229344369488114,
          -16.976803100476022,
          -4.4384238923342645,
          -11.363246609234679,
          -15.074213855665164,
          1.9544882346095749,
          -14.267670229224006,
          0.38648164624108805,
          5.489465939223037,
          -21.926852997304568,
          -7.4537457356459,
          3.86791787475651,
          -7.978432661458401,
          -14.697932990340156,
          -7.490246485775542,
          -13.070531329632063,
          -12.779066649257842,
          -10.160941683342061,
          4.277332547767165,
          15.12116670275201,
          -4.951323948170083,
          -8.396664681661726,
          -17.041935450553847,
          3.6562405059174408,
          -11.117337074783896,
          9.586716054532985,
          7.9092023040451265,
          3.6297198859386093,
          -11.07771012812153,
          -13.634050476575677,
          5.934796034226486,
          7.251957444483548,
          -20.860404003111512,
          -17.412494113312437,
          -23.982040477149237,
          -24.222983792764417,
          -0.2891070610384072,
          5.076849861569421,
          1.2326748940276744,
          -8.51286740409204,
          -9.646198884942336,
          12.869532388839588,
          6.778650218995752,
          -11.812301101857281,
          -10.825804048461162,
          -6.137482640377289,
          -14.704298563923214,
          -10.52492788199524,
          -4.4186573560546005,
          6.538139269391352,
          -23.19746589487678,
          -8.857005109340932,
          -18.502953332279017,
          -20.229308502734654,
          5.0861946233378585,
          15.12926956184073,
          -8.436877080024075,
          -12.045370524465815,
          -18.118669720442902,
          -17.079785584140982,
          27.01446134930674,
          -7.7714820720833355,
          13.556961199116646,
          -13.765582733638626,
          -2.956094673104248,
          -11.363151122941185,
          8.801412787042494,
          4.51129527105969,
          -16.19649405282775,
          -9.456905898159008,
          9.342690546547727,
          1.6430432067181977,
          -11.189734200213985,
          16.192691644734737,
          -1.3511206922841912,
          12.669598538409854,
          5.2400938065112035,
          -12.137334298512725,
          1.3191852830548134,
          -1.6499648823831814,
          -31.027413879794917,
          -11.747908194000644,
          -6.943249532493478,
          -22.475401458429168,
          3.9839965602955996,
          -18.08698276346451,
          -3.371164690658479,
          3.6280303961234273,
          10.115823652708599,
          -2.7651238263592615,
          8.371511420769352,
          -11.003961507846594,
          -9.030971330225269,
          -2.0024524191481485,
          -7.7135012295906025,
          -31.5691902707555,
          24.30666077895596,
          -19.57806176576694,
          -14.799354626706052,
          -23.339529371390565,
          -6.724772057917761,
          -20.039069876714255,
          -3.792433936897266,
          -11.935036809208533,
          -0.339866617895368,
          -3.477048947266348,
          7.06878110892093,
          -2.7061243243466038,
          10.943622526932417,
          -7.530944024216312,
          -23.400764598319558,
          -13.129853591421913,
          -1.6139917576467377,
          -16.32442780215525,
          5.011094218601286,
          -3.0642593994991696,
          -8.063583975761645,
          11.644383856452144,
          -17.283880005275943,
          -9.067830420402146,
          -14.02055783478403,
          -22.073571077344166,
          -18.209485964303905,
          16.71636179831748,
          -5.4214962710258385,
          -21.459133824114897,
          -24.687831952721172,
          4.01221643135774,
          -7.039438664125585,
          -0.05778262920325128,
          -20.976955393848563,
          -18.01148905749932,
          -19.894644257939873,
          -13.027577109682753,
          -4.481681624201494,
          -12.91549357570868,
          -10.836081618076566,
          9.021218124954821,
          -7.820296359350309,
          -30.211042004465384,
          -8.660932465060734,
          -15.892775888981047,
          -30.9351960551156,
          18.112912605214614,
          -13.059756242794762,
          -5.957273378169492,
          9.048030752428593,
          -24.84098784265565,
          12.566090937403196,
          -6.904442967984103,
          -17.813993793248063,
          2.822496036420552,
          -6.370450026540997,
          1.9652607834091729,
          -8.09771356122969,
          16.93035626422139,
          -17.29643520013434,
          -11.004314545625938,
          -11.033373684013625,
          -7.363762897689918,
          -9.03127622246872,
          3.397309718544017,
          -17.710660201248384,
          -29.59054669455724,
          -3.105325048748775,
          -12.504410870677884,
          -13.561815008817312,
          -9.40281275840401,
          -5.11796373143908,
          -22.17414955950713,
          -1.4133327556134279,
          1.1810727649819386,
          -11.002202939293515,
          14.450460747342287,
          -0.35460916054447233,
          -15.289422831253052,
          -24.045005548674492,
          4.928003851535623,
          -31.52646878192136,
          -5.39828147216318,
          -7.533839426391609,
          -13.95812995911635,
          -3.2668254485951675,
          -4.092361272784539,
          10.991668321533377,
          -11.045683022695819,
          -1.8489748341916634,
          -12.249859739889303,
          18.574988280663195,
          -4.819237960772593,
          12.811947914289835,
          -19.076437034725213,
          -27.67112803685283,
          4.934768845931559,
          -11.273932216670346,
          -22.30339322498652,
          -30.293943925809884,
          -18.221950718611613,
          -22.90643398392801,
          -7.363511796367906,
          25.843829130950734,
          -4.620297975936971,
          6.362296364007647,
          18.62973754391424,
          -24.78638139335516,
          -3.560681553623113,
          -28.394505669365532,
          -1.427570710749615,
          -25.079545820501203,
          -32.06226374572352,
          -16.576607345576488,
          -24.821149894380778,
          -3.5300674672402055,
          -22.504690453490518,
          -2.9374763716527252,
          -21.466911467606863,
          -17.231643880903256,
          -24.570490520706876,
          -19.365348833856054,
          -10.68330976314763,
          5.027134883022777,
          -12.984978999201024,
          -8.644408387683178,
          -9.301404842610362,
          17.563931801826914,
          14.141362614067642,
          -21.458877766124075,
          -31.439814190641048,
          -28.213750072769294,
          -7.69851527541644,
          -7.501015157680769,
          -7.697409181176662,
          -19.589056009876384,
          -14.889222134244273,
          -14.722829113466018,
          -3.5825647409475248,
          -9.520938453710093,
          -18.25767441424524,
          -6.588739972785829,
          -15.357823368468448,
          -2.2027399397499647,
          -21.51267651505161,
          -9.431509546396931,
          -10.162602262693387,
          -2.5419315939584464,
          -13.618765860157433,
          4.444048115269261,
          -15.486225182465496,
          -28.032007035059014,
          -6.0332052857574485,
          -7.255642227760739,
          -15.638630542923316,
          -16.579512238846704,
          -1.2821012035921786,
          -6.841479720057608,
          -10.407027075200936,
          -6.362969303325084,
          -15.085761054233604,
          -16.28707180710043,
          -9.431902565703709,
          -5.546071989342649,
          -26.61699613916645,
          23.062812044004176,
          -14.945440835564527,
          -19.78659869699737,
          -16.710957195541308,
          -12.54558295313809,
          -19.504573518267023,
          -19.31595600689696,
          6.237484977885366,
          18.494751791036034,
          -20.39415053056821,
          -16.531963671943394,
          -23.542637495042296,
          -6.0305084315256385,
          -3.4159902494025896,
          -11.549357654182169,
          0.15423856364922273,
          8.535914072554185,
          -1.8005413350225208,
          5.141315125229928,
          -8.829878286288828,
          -8.806519429555282,
          29.083055853017004,
          17.382993301372164,
          2.666578834433486,
          -15.077795692580231,
          3.253764434691475,
          -26.12021949740401,
          1.9372563086624606,
          1.3977049419032328,
          -10.04658582540696,
          -9.815017714015628,
          -2.7971685871121643,
          -2.9142854770964455,
          4.450219815887291,
          -2.132721069635646,
          -22.99600685331209,
          11.161528880228722,
          -17.700037505028664,
          2.703688032398688,
          -32.937210205366284,
          0.8318748360125694,
          -15.14761725638124,
          4.545558028325991,
          -16.41676465624683,
          -5.345247556521371,
          0.527520520209035,
          -20.649182325235728,
          -11.065597693865936,
          -21.511953022184937,
          -18.376653256430043,
          -12.498238653873884,
          -3.7523736858490198,
          -14.334938197593704,
          -6.333451716542671,
          -16.779749333283345,
          9.282488512231101,
          -15.457021639720537,
          -14.5659934642134,
          -13.02933614203834,
          -9.612509104411181,
          6.622152852119068,
          6.517151109346209,
          7.632218320686257,
          -21.97018898817734,
          -7.572437882476002,
          -14.238391576097719,
          -5.295522049117862,
          17.030335293859512,
          -21.874257508077466,
          -8.82532830978816,
          27.643268160755753,
          -10.84414588993765,
          -1.4837427385422042,
          -18.11912743633213,
          -2.117120212360646,
          -13.362278822994922,
          -17.225575765746605,
          -8.283366775820022,
          -9.98050468026862,
          3.35327133941552,
          5.589176818485031,
          4.731545229434264,
          -19.165809922221843,
          -6.912553787529485,
          -22.113466524516234,
          -11.811112106951715,
          -12.307672796563585,
          0.5337467851159072,
          -28.101404720337577,
          -3.28607050658255,
          -20.047764968866044,
          -17.72447449424427,
          -17.26562486842336,
          -1.8332763884417291,
          -14.48685194700612,
          -7.086899468927433,
          -23.634757161233743,
          -13.291838208837458,
          8.566501463375275,
          -17.986869737663348,
          -26.136110872257913,
          7.622627374371982,
          -24.72494510931029,
          -17.607596390139967,
          -27.5961240862147,
          -16.17171376090004,
          -15.657254761151906,
          -21.265157423048354,
          12.601162443614333,
          -22.280919705517643,
          -13.897233169455747,
          4.426574216889878,
          -22.331657663792903,
          -7.377815222802364,
          -14.127844523692412,
          -5.588895088448808,
          -6.582187835380426,
          2.729850266607725,
          -8.470171586770547,
          -14.511634766805425,
          -20.519860401522404,
          -12.533149298742497,
          -20.087091404939194,
          -17.979338239913446,
          2.385085212606519,
          -7.5913033747212815,
          -8.138547921674654,
          -13.6585470790902,
          -1.9601715696107247,
          14.65633092261125,
          -2.803103737715218,
          -15.755506818037668,
          -23.550484193279154,
          8.154687409424511,
          2.5672600278650926,
          -30.294562913403244,
          -12.949786913655304,
          -25.769299788825396,
          -17.570612404612596,
          -30.33985187688647,
          -11.029702696029986,
          -28.4897107518825,
          -2.7366981998364848,
          -11.64878932443294,
          5.354023946346476,
          0.9626798777398804,
          -2.986909240086799,
          -13.104355983158344,
          -13.13015504321957,
          -13.47427025562281,
          -30.14508243748063,
          -9.278582364579247,
          8.923873136082051,
          -9.703132481021793,
          -15.466107720839851,
          -24.13489517023023,
          -7.343370555793516,
          3.173518124964758,
          -2.146800149841843,
          -3.230335228649195,
          -14.021742063854948,
          -9.55430433565505,
          -1.604328546035727,
          29.9578623841146,
          -4.870631828414984,
          -4.132005023367025,
          -9.795450481140843,
          -9.008409012463181,
          -23.9937265980659,
          10.47266643018181,
          1.8912891137454313,
          -3.1121621561233104,
          1.7694336172999092,
          -4.658944742830862,
          -33.68769877834754,
          -11.293452379495484,
          -16.03937237474794,
          -24.59773071508534,
          -5.565728801508641,
          -9.947260623594046,
          -18.32583733698239,
          0.04234820776052306,
          -3.7933215523322628,
          -17.7719793813206,
          -3.954435422719327,
          -9.574370413913158,
          -3.4342208903078486,
          -0.02028731642977899,
          13.858960104024188,
          9.269787886985824,
          -2.6744834268181306,
          4.59733031916687,
          -18.464980145940004,
          -4.057549347908774,
          -7.9284213924065705,
          -18.562946924165868,
          -14.057946413598488,
          27.717155719171327,
          13.191637652217182,
          -27.002309019914726,
          -12.315010410598937,
          -5.808697212548197,
          -13.639219398443803,
          -9.844567231825996,
          -10.8258841511642,
          -6.966444323097997,
          -20.243288272753336,
          -5.306248022796667,
          -18.129212684456064,
          -13.490255254700045,
          -21.080037043033418,
          -3.97427958430725,
          -7.000946609751535,
          -7.456936731652231,
          -1.093886750298878,
          -13.034651991262724,
          -12.353191929458418,
          11.843879019850267,
          -15.483197015430306,
          -22.640898976188296,
          -21.90784373731175,
          -12.074022834783415,
          -0.6523222925579497,
          16.81188919204617,
          -23.874754377706743,
          -22.300780275943353,
          -1.2947845905590394,
          -5.362050828682053,
          -22.966007047173697,
          19.985901120966542,
          -25.018471972657597,
          -6.763079216959699,
          3.0834256703748286,
          -12.339452700518194,
          -17.90882366406834,
          -5.462601490324959,
          -27.09910819886877,
          -18.709740300373134,
          -0.17000185879321172,
          -10.521837150335344,
          0.7710186852574408,
          -8.15402979835822,
          -9.426390471847323,
          11.062459353111587,
          -10.789874221246498,
          9.57372768990541,
          -0.8372646648243331,
          -11.149639885624596,
          -16.853700664939797,
          -11.752838252455632,
          -19.444434088335484,
          -4.652802994289351,
          -27.31260087667655,
          -8.45859015161221,
          -8.684673436735457,
          9.90491996429206,
          -2.856378900968648,
          -3.2436612086383265,
          -33.249727984622325,
          -13.320879552977994,
          -9.471367879752036,
          -1.8893927139836175,
          -5.245709003019572,
          3.2974330264923246,
          5.926561925438012,
          -24.566833856632996,
          -23.610726812247552,
          -13.874162882228902,
          -29.212130185013596,
          -19.304221544287948,
          -25.220124112564445,
          -25.671239321932593,
          -2.1910112422914185,
          11.162633838192981,
          -15.257150894246042,
          -19.485304358400548,
          -24.205441114849336,
          -21.71471159639784,
          -14.321841321614926,
          -20.036000406277697,
          -3.6054402693196153,
          -23.888480884802664,
          0.24587109888827285,
          -11.21731031283587,
          -12.246390266414098,
          -13.077748423097457,
          -2.937932340483229,
          -15.063624633040263,
          -9.858031547202428,
          -26.033756243352368,
          -13.663495148098237,
          -2.2469607238954747,
          7.020102719464827,
          -1.1803630178830682,
          -19.78801778970135,
          12.227237342315966,
          -3.431957797959073,
          1.6484883937279537,
          -15.041848609828346,
          12.5401090394619,
          -6.647322691049307,
          9.304958859362245,
          -23.62804104628108,
          -22.3792186483328,
          -12.908189208280952,
          19.57988462883524,
          -12.450571161926671,
          -18.1780135442964,
          -16.339873229777304,
          6.568569960142123,
          10.965884891916811,
          -9.657032144431199,
          -13.510552250762775,
          7.643349833413948,
          -11.107422536331446,
          -1.843610626936265,
          -15.067936313804953,
          -12.818200300162431,
          -20.900325428228903,
          2.5472547323083905,
          -1.5873713326405192,
          -4.658000551837138,
          -5.121045172768268,
          -23.71180296981703,
          -19.887758027311232,
          -10.808017216231391,
          -4.92632945896424,
          12.269256101360693,
          -13.67326449006564,
          -0.9339729393942675,
          -16.484179172185954,
          -9.201502748779545,
          -19.281813358050194,
          5.5307492500229705,
          -9.082740984577498,
          -12.433220192719475,
          -10.366307940816844,
          -15.194973044256187,
          -7.954983337762645,
          -10.753515799707058,
          1.9608785840772303,
          -22.474069594209745,
          -11.703690881943595,
          4.518037229279126,
          -6.650508567510782,
          -9.747730563503321,
          -26.15613352123737,
          6.902088158696373,
          -17.960283545930277,
          -16.14418160301405,
          0.4754785346763768,
          -9.402503540012109,
          -19.80143424395122,
          -7.307345803775367,
          -24.049924315410433,
          -3.4657479480605824,
          -2.6350847929792476,
          -5.532939273562865,
          1.1925461492311662,
          -4.727831070659249,
          -18.94171871633642,
          -2.1881983100667246,
          -13.695240881132332,
          -23.484804955304682,
          -19.034165720412645,
          -13.830427610600127,
          -8.35017341102352,
          -22.02830732267581,
          -16.271224547872254,
          -34.27504028561825,
          -15.873058836740794,
          -33.79175796752486,
          3.8270871698050435,
          -3.420226113802305,
          -0.04320432483051473,
          17.59845182025399,
          8.050205601242855,
          -3.9662339773926303,
          -14.92953157938911,
          -23.354353211177227,
          -19.144940292415235,
          -4.401937215447049,
          16.848807046543037,
          -10.803821209462283,
          -11.687127649988561,
          -6.344545826677761,
          16.98609135630347,
          -29.314600374093324,
          -1.4372893869564418,
          -17.270792848243122,
          -21.07987628407407,
          -5.94119237663927,
          -11.250419462287109,
          -26.1146439566067,
          -13.024309982091232,
          8.157794189474066,
          -6.260744540449592,
          -12.690103772570927,
          7.324104858190572,
          -6.739133186883739,
          -14.894081156776062,
          -10.923840028869192,
          -23.157345912710024,
          14.325638909839622,
          36.89246041204193,
          -14.027409133657143,
          3.9916544062192694,
          2.364262080987589,
          6.443519247298446,
          -23.106542831784125,
          -10.869414165963676,
          -22.532565462519916,
          -0.3674008695664699,
          -16.95260744036299,
          -3.668486326362852,
          2.6318851526890397,
          1.5286496259205196,
          -16.719403749592075,
          -17.635544366963472,
          -19.06827056709144,
          -12.191001911570332,
          1.757181058171553,
          -9.911691313875249,
          -15.730244982431929,
          1.6277309630102765,
          -11.004117713293237,
          -17.81106978625242,
          3.860820194274517,
          2.995096257948071,
          3.0744811395491345,
          -21.50316017219074,
          -12.8685345749453,
          -9.078480992166094,
          -10.996457319698427,
          4.288630373785995,
          -14.314147515590426,
          -3.534088526659207,
          -6.901763800952676,
          14.83265104608451,
          -14.83855662615432,
          -6.622197854710055,
          -19.0437681484495,
          18.880497611260118,
          -28.222749278613314,
          -14.647396580785921,
          -9.925293757723452,
          -0.05014182446131388,
          -14.585247639965226,
          -23.355811863370967,
          -21.20931692382042,
          -8.17955366769203,
          -12.914216274047929,
          0.1318390967476546,
          -3.5773870468423286,
          5.39091729925385,
          -7.4269801048507444,
          -11.961239898925225,
          8.162738066756802,
          -24.02529374220871,
          -23.90358794675246,
          -3.8341096987850265,
          -24.826322809034295,
          -19.102715155113415,
          -25.423583575238563,
          -10.807356892179387,
          -0.5875889875214924,
          2.1240115904457513,
          -27.305400892898078,
          -24.60401472011181,
          -9.165025570060914,
          8.954495679830089,
          -12.351310042534248,
          -19.965219688642723,
          -4.450252648490238,
          -24.387127118035345,
          -6.165798742257433,
          13.306028113237112,
          -27.682480128510868,
          23.630951191045746,
          -3.3424491656316,
          -0.7963250452414861,
          8.775357139676409,
          -4.1399393051539395,
          0.9802285468992755,
          -0.8701179874313958,
          -9.1242512818847,
          -8.177650530859204,
          -28.633648614750573,
          7.783075114234839,
          -10.15725370053252,
          -15.205380835996863,
          7.664107530775133,
          -0.7183086760634283,
          -19.30984215015339,
          4.5531550892453865,
          -26.16267302650076,
          3.4012412165981942,
          -12.443732186058497,
          15.909217880981807,
          0.6153011344726123,
          -17.58345853375438,
          11.211227146711945,
          -0.9872778456333053,
          -11.62201601921774,
          -5.9140344131058065,
          -3.8804030505889653,
          -9.552848152285808,
          5.1410142138054615,
          -11.40079700380614,
          -26.77618228912856,
          -18.76292074424355,
          -24.57235225878518,
          -14.683902428832695,
          -19.73935483089648,
          -19.055162933894852,
          -10.090933868985275,
          -10.608494894820941,
          -14.571446080624694,
          -19.891229776640106,
          -21.050144821997762,
          -18.111395838230514,
          -15.41896930184896,
          -10.726498985943323,
          -21.32861178791825,
          -5.119621065099588,
          -7.540952824039526,
          -3.366451258082648,
          -25.55182047129163,
          -12.242681289979206,
          -27.329359793216735,
          -18.176282105606457,
          -7.682926419525582
         ],
         "xaxis": "x2",
         "yaxis": "y2"
        }
       ],
       "layout": {
        "barmode": "relative",
        "height": 600,
        "legend": {
         "title": {
          "text": "model_type"
         },
         "tracegroupgap": 0
        },
        "margin": {
         "t": 60
        },
        "template": {
         "data": {
          "bar": [
           {
            "error_x": {
             "color": "#2a3f5f"
            },
            "error_y": {
             "color": "#2a3f5f"
            },
            "marker": {
             "line": {
              "color": "#E5ECF6",
              "width": 0.5
             },
             "pattern": {
              "fillmode": "overlay",
              "size": 10,
              "solidity": 0.2
             }
            },
            "type": "bar"
           }
          ],
          "barpolar": [
           {
            "marker": {
             "line": {
              "color": "#E5ECF6",
              "width": 0.5
             },
             "pattern": {
              "fillmode": "overlay",
              "size": 10,
              "solidity": 0.2
             }
            },
            "type": "barpolar"
           }
          ],
          "carpet": [
           {
            "aaxis": {
             "endlinecolor": "#2a3f5f",
             "gridcolor": "white",
             "linecolor": "white",
             "minorgridcolor": "white",
             "startlinecolor": "#2a3f5f"
            },
            "baxis": {
             "endlinecolor": "#2a3f5f",
             "gridcolor": "white",
             "linecolor": "white",
             "minorgridcolor": "white",
             "startlinecolor": "#2a3f5f"
            },
            "type": "carpet"
           }
          ],
          "choropleth": [
           {
            "colorbar": {
             "outlinewidth": 0,
             "ticks": ""
            },
            "type": "choropleth"
           }
          ],
          "contour": [
           {
            "colorbar": {
             "outlinewidth": 0,
             "ticks": ""
            },
            "colorscale": [
             [
              0,
              "#0d0887"
             ],
             [
              0.1111111111111111,
              "#46039f"
             ],
             [
              0.2222222222222222,
              "#7201a8"
             ],
             [
              0.3333333333333333,
              "#9c179e"
             ],
             [
              0.4444444444444444,
              "#bd3786"
             ],
             [
              0.5555555555555556,
              "#d8576b"
             ],
             [
              0.6666666666666666,
              "#ed7953"
             ],
             [
              0.7777777777777778,
              "#fb9f3a"
             ],
             [
              0.8888888888888888,
              "#fdca26"
             ],
             [
              1,
              "#f0f921"
             ]
            ],
            "type": "contour"
           }
          ],
          "contourcarpet": [
           {
            "colorbar": {
             "outlinewidth": 0,
             "ticks": ""
            },
            "type": "contourcarpet"
           }
          ],
          "heatmap": [
           {
            "colorbar": {
             "outlinewidth": 0,
             "ticks": ""
            },
            "colorscale": [
             [
              0,
              "#0d0887"
             ],
             [
              0.1111111111111111,
              "#46039f"
             ],
             [
              0.2222222222222222,
              "#7201a8"
             ],
             [
              0.3333333333333333,
              "#9c179e"
             ],
             [
              0.4444444444444444,
              "#bd3786"
             ],
             [
              0.5555555555555556,
              "#d8576b"
             ],
             [
              0.6666666666666666,
              "#ed7953"
             ],
             [
              0.7777777777777778,
              "#fb9f3a"
             ],
             [
              0.8888888888888888,
              "#fdca26"
             ],
             [
              1,
              "#f0f921"
             ]
            ],
            "type": "heatmap"
           }
          ],
          "heatmapgl": [
           {
            "colorbar": {
             "outlinewidth": 0,
             "ticks": ""
            },
            "colorscale": [
             [
              0,
              "#0d0887"
             ],
             [
              0.1111111111111111,
              "#46039f"
             ],
             [
              0.2222222222222222,
              "#7201a8"
             ],
             [
              0.3333333333333333,
              "#9c179e"
             ],
             [
              0.4444444444444444,
              "#bd3786"
             ],
             [
              0.5555555555555556,
              "#d8576b"
             ],
             [
              0.6666666666666666,
              "#ed7953"
             ],
             [
              0.7777777777777778,
              "#fb9f3a"
             ],
             [
              0.8888888888888888,
              "#fdca26"
             ],
             [
              1,
              "#f0f921"
             ]
            ],
            "type": "heatmapgl"
           }
          ],
          "histogram": [
           {
            "marker": {
             "pattern": {
              "fillmode": "overlay",
              "size": 10,
              "solidity": 0.2
             }
            },
            "type": "histogram"
           }
          ],
          "histogram2d": [
           {
            "colorbar": {
             "outlinewidth": 0,
             "ticks": ""
            },
            "colorscale": [
             [
              0,
              "#0d0887"
             ],
             [
              0.1111111111111111,
              "#46039f"
             ],
             [
              0.2222222222222222,
              "#7201a8"
             ],
             [
              0.3333333333333333,
              "#9c179e"
             ],
             [
              0.4444444444444444,
              "#bd3786"
             ],
             [
              0.5555555555555556,
              "#d8576b"
             ],
             [
              0.6666666666666666,
              "#ed7953"
             ],
             [
              0.7777777777777778,
              "#fb9f3a"
             ],
             [
              0.8888888888888888,
              "#fdca26"
             ],
             [
              1,
              "#f0f921"
             ]
            ],
            "type": "histogram2d"
           }
          ],
          "histogram2dcontour": [
           {
            "colorbar": {
             "outlinewidth": 0,
             "ticks": ""
            },
            "colorscale": [
             [
              0,
              "#0d0887"
             ],
             [
              0.1111111111111111,
              "#46039f"
             ],
             [
              0.2222222222222222,
              "#7201a8"
             ],
             [
              0.3333333333333333,
              "#9c179e"
             ],
             [
              0.4444444444444444,
              "#bd3786"
             ],
             [
              0.5555555555555556,
              "#d8576b"
             ],
             [
              0.6666666666666666,
              "#ed7953"
             ],
             [
              0.7777777777777778,
              "#fb9f3a"
             ],
             [
              0.8888888888888888,
              "#fdca26"
             ],
             [
              1,
              "#f0f921"
             ]
            ],
            "type": "histogram2dcontour"
           }
          ],
          "mesh3d": [
           {
            "colorbar": {
             "outlinewidth": 0,
             "ticks": ""
            },
            "type": "mesh3d"
           }
          ],
          "parcoords": [
           {
            "line": {
             "colorbar": {
              "outlinewidth": 0,
              "ticks": ""
             }
            },
            "type": "parcoords"
           }
          ],
          "pie": [
           {
            "automargin": true,
            "type": "pie"
           }
          ],
          "scatter": [
           {
            "fillpattern": {
             "fillmode": "overlay",
             "size": 10,
             "solidity": 0.2
            },
            "type": "scatter"
           }
          ],
          "scatter3d": [
           {
            "line": {
             "colorbar": {
              "outlinewidth": 0,
              "ticks": ""
             }
            },
            "marker": {
             "colorbar": {
              "outlinewidth": 0,
              "ticks": ""
             }
            },
            "type": "scatter3d"
           }
          ],
          "scattercarpet": [
           {
            "marker": {
             "colorbar": {
              "outlinewidth": 0,
              "ticks": ""
             }
            },
            "type": "scattercarpet"
           }
          ],
          "scattergeo": [
           {
            "marker": {
             "colorbar": {
              "outlinewidth": 0,
              "ticks": ""
             }
            },
            "type": "scattergeo"
           }
          ],
          "scattergl": [
           {
            "marker": {
             "colorbar": {
              "outlinewidth": 0,
              "ticks": ""
             }
            },
            "type": "scattergl"
           }
          ],
          "scattermapbox": [
           {
            "marker": {
             "colorbar": {
              "outlinewidth": 0,
              "ticks": ""
             }
            },
            "type": "scattermapbox"
           }
          ],
          "scatterpolar": [
           {
            "marker": {
             "colorbar": {
              "outlinewidth": 0,
              "ticks": ""
             }
            },
            "type": "scatterpolar"
           }
          ],
          "scatterpolargl": [
           {
            "marker": {
             "colorbar": {
              "outlinewidth": 0,
              "ticks": ""
             }
            },
            "type": "scatterpolargl"
           }
          ],
          "scatterternary": [
           {
            "marker": {
             "colorbar": {
              "outlinewidth": 0,
              "ticks": ""
             }
            },
            "type": "scatterternary"
           }
          ],
          "surface": [
           {
            "colorbar": {
             "outlinewidth": 0,
             "ticks": ""
            },
            "colorscale": [
             [
              0,
              "#0d0887"
             ],
             [
              0.1111111111111111,
              "#46039f"
             ],
             [
              0.2222222222222222,
              "#7201a8"
             ],
             [
              0.3333333333333333,
              "#9c179e"
             ],
             [
              0.4444444444444444,
              "#bd3786"
             ],
             [
              0.5555555555555556,
              "#d8576b"
             ],
             [
              0.6666666666666666,
              "#ed7953"
             ],
             [
              0.7777777777777778,
              "#fb9f3a"
             ],
             [
              0.8888888888888888,
              "#fdca26"
             ],
             [
              1,
              "#f0f921"
             ]
            ],
            "type": "surface"
           }
          ],
          "table": [
           {
            "cells": {
             "fill": {
              "color": "#EBF0F8"
             },
             "line": {
              "color": "white"
             }
            },
            "header": {
             "fill": {
              "color": "#C8D4E3"
             },
             "line": {
              "color": "white"
             }
            },
            "type": "table"
           }
          ]
         },
         "layout": {
          "annotationdefaults": {
           "arrowcolor": "#2a3f5f",
           "arrowhead": 0,
           "arrowwidth": 1
          },
          "autotypenumbers": "strict",
          "coloraxis": {
           "colorbar": {
            "outlinewidth": 0,
            "ticks": ""
           }
          },
          "colorscale": {
           "diverging": [
            [
             0,
             "#8e0152"
            ],
            [
             0.1,
             "#c51b7d"
            ],
            [
             0.2,
             "#de77ae"
            ],
            [
             0.3,
             "#f1b6da"
            ],
            [
             0.4,
             "#fde0ef"
            ],
            [
             0.5,
             "#f7f7f7"
            ],
            [
             0.6,
             "#e6f5d0"
            ],
            [
             0.7,
             "#b8e186"
            ],
            [
             0.8,
             "#7fbc41"
            ],
            [
             0.9,
             "#4d9221"
            ],
            [
             1,
             "#276419"
            ]
           ],
           "sequential": [
            [
             0,
             "#0d0887"
            ],
            [
             0.1111111111111111,
             "#46039f"
            ],
            [
             0.2222222222222222,
             "#7201a8"
            ],
            [
             0.3333333333333333,
             "#9c179e"
            ],
            [
             0.4444444444444444,
             "#bd3786"
            ],
            [
             0.5555555555555556,
             "#d8576b"
            ],
            [
             0.6666666666666666,
             "#ed7953"
            ],
            [
             0.7777777777777778,
             "#fb9f3a"
            ],
            [
             0.8888888888888888,
             "#fdca26"
            ],
            [
             1,
             "#f0f921"
            ]
           ],
           "sequentialminus": [
            [
             0,
             "#0d0887"
            ],
            [
             0.1111111111111111,
             "#46039f"
            ],
            [
             0.2222222222222222,
             "#7201a8"
            ],
            [
             0.3333333333333333,
             "#9c179e"
            ],
            [
             0.4444444444444444,
             "#bd3786"
            ],
            [
             0.5555555555555556,
             "#d8576b"
            ],
            [
             0.6666666666666666,
             "#ed7953"
            ],
            [
             0.7777777777777778,
             "#fb9f3a"
            ],
            [
             0.8888888888888888,
             "#fdca26"
            ],
            [
             1,
             "#f0f921"
            ]
           ]
          },
          "colorway": [
           "#636efa",
           "#EF553B",
           "#00cc96",
           "#ab63fa",
           "#FFA15A",
           "#19d3f3",
           "#FF6692",
           "#B6E880",
           "#FF97FF",
           "#FECB52"
          ],
          "font": {
           "color": "#2a3f5f"
          },
          "geo": {
           "bgcolor": "white",
           "lakecolor": "white",
           "landcolor": "#E5ECF6",
           "showlakes": true,
           "showland": true,
           "subunitcolor": "white"
          },
          "hoverlabel": {
           "align": "left"
          },
          "hovermode": "closest",
          "mapbox": {
           "style": "light"
          },
          "paper_bgcolor": "white",
          "plot_bgcolor": "#E5ECF6",
          "polar": {
           "angularaxis": {
            "gridcolor": "white",
            "linecolor": "white",
            "ticks": ""
           },
           "bgcolor": "#E5ECF6",
           "radialaxis": {
            "gridcolor": "white",
            "linecolor": "white",
            "ticks": ""
           }
          },
          "scene": {
           "xaxis": {
            "backgroundcolor": "#E5ECF6",
            "gridcolor": "white",
            "gridwidth": 2,
            "linecolor": "white",
            "showbackground": true,
            "ticks": "",
            "zerolinecolor": "white"
           },
           "yaxis": {
            "backgroundcolor": "#E5ECF6",
            "gridcolor": "white",
            "gridwidth": 2,
            "linecolor": "white",
            "showbackground": true,
            "ticks": "",
            "zerolinecolor": "white"
           },
           "zaxis": {
            "backgroundcolor": "#E5ECF6",
            "gridcolor": "white",
            "gridwidth": 2,
            "linecolor": "white",
            "showbackground": true,
            "ticks": "",
            "zerolinecolor": "white"
           }
          },
          "shapedefaults": {
           "line": {
            "color": "#2a3f5f"
           }
          },
          "ternary": {
           "aaxis": {
            "gridcolor": "white",
            "linecolor": "white",
            "ticks": ""
           },
           "baxis": {
            "gridcolor": "white",
            "linecolor": "white",
            "ticks": ""
           },
           "bgcolor": "#E5ECF6",
           "caxis": {
            "gridcolor": "white",
            "linecolor": "white",
            "ticks": ""
           }
          },
          "title": {
           "x": 0.05
          },
          "xaxis": {
           "automargin": true,
           "gridcolor": "white",
           "linecolor": "white",
           "ticks": "",
           "title": {
            "standoff": 15
           },
           "zerolinecolor": "white",
           "zerolinewidth": 2
          },
          "yaxis": {
           "automargin": true,
           "gridcolor": "white",
           "linecolor": "white",
           "ticks": "",
           "title": {
            "standoff": 15
           },
           "zerolinecolor": "white",
           "zerolinewidth": 2
          }
         }
        },
        "width": 800,
        "xaxis": {
         "anchor": "y",
         "domain": [
          0,
          1
         ],
         "title": {
          "text": "fmt_total_profit_percentage"
         }
        },
        "xaxis2": {
         "anchor": "y2",
         "domain": [
          0,
          1
         ],
         "matches": "x",
         "showgrid": true,
         "showticklabels": false
        },
        "yaxis": {
         "anchor": "x",
         "domain": [
          0,
          0.7326
         ],
         "title": {
          "text": "count"
         }
        },
        "yaxis2": {
         "anchor": "x2",
         "domain": [
          0.7426,
          1
         ],
         "matches": "y2",
         "showgrid": false,
         "showline": false,
         "showticklabels": false,
         "ticks": ""
        }
       }
      }
     },
     "metadata": {},
     "output_type": "display_data"
    }
   ],
   "source": [
    "fig = px.histogram(df_trader_results, x=\"fmt_total_profit_percentage\", color=\"model_type\", color_discrete_sequence=[ \"#FF7F0E\", \"#00CC96\", \"#10aded\", \"#8A56EF\"],  width=800, height=600, marginal=\"rug\", # can be `box`, `violin`\n",
    "                         hover_data=['total_reward_cash','fmt_total_profit_percentage', 'num_of_trades', 'sim_id'])\n",
    "fig.show()"
   ]
  },
  {
   "cell_type": "code",
   "execution_count": 27,
   "metadata": {},
   "outputs": [],
   "source": [
    "df_trader_results_stats = df_trader_results.groupby(['model_type'])['fmt_total_profit_percentage'].agg(['median']).reset_index()"
   ]
  },
  {
   "cell_type": "code",
   "execution_count": 28,
   "metadata": {},
   "outputs": [],
   "source": [
    "# i_A2C = np.argmin(np.abs(df_trader_results[df_trader_results['model_type']=='A2C']['fmt_total_profit_percentage'] - df_trader_results_stats[df_trader_results_stats['model_type']=='A2C']['median'].values[0]))\n",
    "# median_sim_id_A2C = df_trader_results[df_trader_results['model_type']=='A2C'].iloc[i_A2C]['sim_id']\n",
    "\n",
    "i_PPO = np.argmin(np.abs(df_trader_results[df_trader_results['model_type']=='PPO']['fmt_total_profit_percentage'] - df_trader_results_stats[df_trader_results_stats['model_type']=='PPO']['median'].values[0]))\n",
    "median_sim_id_PPO = df_trader_results[df_trader_results['model_type']=='PPO'].iloc[i_PPO]['sim_id']\n",
    "\n",
    "# i_DQN = np.argmin(np.abs(df_trader_results[df_trader_results['model_type']=='DQN']['fmt_total_profit_percentage'] - df_trader_results_stats[df_trader_results_stats['model_type']=='DQN']['median'].values[0]))\n",
    "# median_sim_id_DQN = df_trader_results[df_trader_results['model_type']=='DQN'].iloc[i_DQN]['sim_id']\n",
    "\n",
    "# i_RANDOM = np.argmin(np.abs(df_trader_results[df_trader_results['model_type']=='RANDOM']['fmt_total_profit_percentage'] - df_trader_results_stats[df_trader_results_stats['model_type']=='RANDOM']['median'].values[0]))\n",
    "# median_sim_id_RANDOM = df_trader_results[df_trader_results['model_type']=='RANDOM'].iloc[i_RANDOM]['sim_id']"
   ]
  },
  {
   "cell_type": "code",
   "execution_count": 29,
   "metadata": {},
   "outputs": [],
   "source": [
    "def get_and_process_trader_robot_actions_and_env_data_one_sim_id(config_file_name_without_extension, sim_id):\n",
    "    try:\n",
    "        \n",
    "        # Get the data\n",
    "        db_address = 'sqlite:///../results/data/db/trader.db'\n",
    "        engine = create_engine(db_address, echo=False)\n",
    "        sqlite_connection = engine.connect()\n",
    "\n",
    "        input_tbl_name = \"tbl_trader_bernardo_robot_actions_and_env\" + \"_\" + config_file_name_without_extension\n",
    "        \n",
    "        sql_command = \"SELECT * FROM \" + input_tbl_name\n",
    "        \n",
    "        sql_append = \" WHERE \" + \"sim_id = \" + str(sim_id)\n",
    "        \n",
    "        sql_command = sql_command + sql_append\n",
    "\n",
    "        df = pd.read_sql(sql_command, sqlite_connection)\n",
    "\n",
    "        sqlite_connection.close()\n",
    "\n",
    "        return df\n",
    "\n",
    "    except Exception as e:\n",
    "        print(e)"
   ]
  },
  {
   "cell_type": "code",
   "execution_count": 30,
   "metadata": {},
   "outputs": [],
   "source": [
    "def plot_robot_actions_all_models(config_file_name_without_extension, sim_id_A2C, sim_id_PPO, sim_id_DQN, sim_id_RANDOM):\n",
    "    \n",
    "    # df_robot_actions_sim_id_A2C = get_and_process_trader_robot_actions_and_env_data_one_sim_id(config_file_name_without_extension, sim_id_A2C)\n",
    "    df_robot_actions_sim_id_PPO = get_and_process_trader_robot_actions_and_env_data_one_sim_id(config_file_name_without_extension, sim_id_PPO)\n",
    "    # df_robot_actions_sim_id_DQN = get_and_process_trader_robot_actions_and_env_data_one_sim_id(config_file_name_without_extension, sim_id_DQN)\n",
    "    # df_robot_actions_sim_id_RANDOM = get_and_process_trader_robot_actions_and_env_data_one_sim_id(config_file_name_without_extension, sim_id_RANDOM)\n",
    "\n",
    "    # df_simulation_sim_id_A2C = df_trader_results[df_trader_results['sim_id'] == sim_id_A2C]\n",
    "    df_simulation_sim_id_PPO = df_trader_results[df_trader_results['sim_id'] == sim_id_PPO]\n",
    "    # df_simulation_sim_id_DQN = df_trader_results[df_trader_results['sim_id'] == sim_id_DQN]\n",
    "    # df_simulation_sim_id_RANDOM = df_trader_results[df_trader_results['sim_id'] == sim_id_RANDOM]\n",
    "\n",
    "    # str_title_A2C = f\"sim_id: {sim_id_A2C} | model_type: {df_simulation_sim_id_A2C.model_type.values[0]} | Total Profit percentage {round(df_simulation_sim_id_A2C.fmt_total_profit_percentage.values[0],2)}%\"\n",
    "    str_title_PPO = f\"sim_id: {sim_id_PPO} | model_type: {df_simulation_sim_id_PPO.model_type.values[0]} | Total Profit percentage {round(df_simulation_sim_id_PPO.fmt_total_profit_percentage.values[0],2)}%\"\n",
    "    # str_title_DQN = f\"sim_id: {sim_id_DQN} | model_type: {df_simulation_sim_id_DQN.model_type.values[0]} | Total Profit percentage {round(df_simulation_sim_id_DQN.fmt_total_profit_percentage.values[0],2)}%\"\n",
    "    # str_title_RANDOM = f\"sim_id: {sim_id_RANDOM} | model_type: {df_simulation_sim_id_RANDOM.model_type.values[0]} | Total Profit percentage {round(df_simulation_sim_id_RANDOM.fmt_total_profit_percentage.values[0],2)}%\"\n",
    "\n",
    "    str_title = \"The median profit percentage results per model\"\n",
    "\n",
    "    fig = make_subplots(rows=4, cols=1, subplot_titles=(\"\", str_title_PPO, \"\", \"\"), shared_xaxes='all', shared_yaxes='all')\n",
    "\n",
    "    # fig.add_trace(go.Scatter(name='Price', x=df_robot_actions_sim_id_A2C[\"dates\"], y=df_robot_actions_sim_id_A2C[\"prices\"], mode='lines', marker_color='#969696', legendgroup = '1'), row=1, col=1)\n",
    "    # fig.add_trace(go.Scatter(name='Long', x=df_robot_actions_sim_id_A2C[df_robot_actions_sim_id_A2C['actions'] == 1]['dates'], y=df_robot_actions_sim_id_A2C[df_robot_actions_sim_id_A2C['actions'] == 1]['prices'], mode='markers', marker_symbol='circle', marker_size=10, marker_color='#228b22', legendgroup = '1'), row=1, col=1)\n",
    "    # fig.add_trace(go.Scatter(name='Short', x=df_robot_actions_sim_id_A2C[df_robot_actions_sim_id_A2C['actions'] == 0]['dates'], y=df_robot_actions_sim_id_A2C[df_robot_actions_sim_id_A2C['actions'] == 0]['prices'], mode='markers', marker_symbol='circle', marker_size=10, marker_color='#c83232', legendgroup = '1'), row=1, col=1)\n",
    "\n",
    "    fig.add_trace(go.Scatter(name='Price', x=df_robot_actions_sim_id_PPO[\"dates\"], y=df_robot_actions_sim_id_PPO[\"prices\"], mode='lines', marker_color='#969696', legendgroup = '2'), row=2, col=1)\n",
    "    fig.add_trace(go.Scatter(name='Long', x=df_robot_actions_sim_id_PPO[df_robot_actions_sim_id_PPO['actions'] == 1]['dates'], y=df_robot_actions_sim_id_PPO[df_robot_actions_sim_id_PPO['actions'] == 1]['prices'], mode='markers', marker_symbol='circle', marker_size=10, marker_color='#228b22', legendgroup = '2'), row=2, col=1)\n",
    "    fig.add_trace(go.Scatter(name='Short', x=df_robot_actions_sim_id_PPO[df_robot_actions_sim_id_PPO['actions'] == 0]['dates'], y=df_robot_actions_sim_id_PPO[df_robot_actions_sim_id_PPO['actions'] == 0]['prices'], mode='markers', marker_symbol='circle', marker_size=10, marker_color='#c83232', legendgroup = '2'), row=2, col=1)\n",
    "\n",
    "    # fig.add_trace(go.Scatter(name='Price', x=df_robot_actions_sim_id_DQN[\"dates\"], y=df_robot_actions_sim_id_DQN[\"prices\"], mode='lines', marker_color='#969696', legendgroup = '3'), row=3, col=1)\n",
    "    # fig.add_trace(go.Scatter(name='Long', x=df_robot_actions_sim_id_DQN[df_robot_actions_sim_id_DQN['actions'] == 1]['dates'], y=df_robot_actions_sim_id_DQN[df_robot_actions_sim_id_DQN['actions'] == 1]['prices'], mode='markers', marker_symbol='circle', marker_size=10, marker_color='#228b22', legendgroup = '3'), row=3, col=1)\n",
    "    # fig.add_trace(go.Scatter(name='Short', x=df_robot_actions_sim_id_DQN[df_robot_actions_sim_id_DQN['actions'] == 0]['dates'], y=df_robot_actions_sim_id_DQN[df_robot_actions_sim_id_DQN['actions'] == 0]['prices'], mode='markers', marker_symbol='circle', marker_size=10, marker_color='#c83232', legendgroup = '3'), row=3, col=1)\n",
    "\n",
    "    # fig.add_trace(go.Scatter(name='Price', x=df_robot_actions_sim_id_RANDOM[\"dates\"], y=df_robot_actions_sim_id_RANDOM[\"prices\"], mode='lines', marker_color='#969696', legendgroup = '4'), row=4, col=1)\n",
    "    # fig.add_trace(go.Scatter(name='Long', x=df_robot_actions_sim_id_RANDOM[df_robot_actions_sim_id_RANDOM['actions'] == 1]['dates'], y=df_robot_actions_sim_id_RANDOM[df_robot_actions_sim_id_RANDOM['actions'] == 1]['prices'], mode='markers', marker_symbol='circle', marker_size=10, marker_color='#228b22', legendgroup = '4'), row=4, col=1)\n",
    "    # fig.add_trace(go.Scatter(name='Short', x=df_robot_actions_sim_id_RANDOM[df_robot_actions_sim_id_RANDOM['actions'] == 0]['dates'], y=df_robot_actions_sim_id_RANDOM[df_robot_actions_sim_id_RANDOM['actions'] == 0]['prices'], mode='markers', marker_symbol='circle', marker_size=10, marker_color='#c83232', legendgroup = '4'), row=4, col=1)\n",
    "\n",
    "    fig.update_xaxes(title_text = \"Dates\", title_standoff = 25)\n",
    "\n",
    "    fig.update_yaxes(title_text = \"\", title_standoff = 25)\n",
    "\n",
    "    fig.update_layout(title=str_title, title_x=0.5, width=1200, height=800, legend_tracegroupgap=125)\n",
    "    fig.show()"
   ]
  },
  {
   "cell_type": "code",
   "execution_count": 31,
   "metadata": {},
   "outputs": [
    {
     "data": {
      "application/vnd.plotly.v1+json": {
       "config": {
        "plotlyServerURL": "https://plot.ly"
       },
       "data": [
        {
         "legendgroup": "2",
         "marker": {
          "color": "#969696"
         },
         "mode": "lines",
         "name": "Price",
         "type": "scatter",
         "x": [
          "2022-12-27 00:00:00.000000",
          "2022-12-28 00:00:00.000000",
          "2022-12-29 00:00:00.000000",
          "2022-12-30 00:00:00.000000",
          "2022-12-31 00:00:00.000000",
          "2023-01-01 00:00:00.000000",
          "2023-01-02 00:00:00.000000",
          "2023-01-03 00:00:00.000000",
          "2023-01-04 00:00:00.000000",
          "2023-01-05 00:00:00.000000",
          "2023-01-06 00:00:00.000000",
          "2023-01-07 00:00:00.000000",
          "2023-01-08 00:00:00.000000",
          "2023-01-09 00:00:00.000000",
          "2023-01-10 00:00:00.000000",
          "2023-01-11 00:00:00.000000",
          "2023-01-12 00:00:00.000000",
          "2023-01-13 00:00:00.000000",
          "2023-01-14 00:00:00.000000",
          "2023-01-15 00:00:00.000000",
          "2023-01-16 00:00:00.000000",
          "2023-01-17 00:00:00.000000",
          "2023-01-18 00:00:00.000000",
          "2023-01-19 00:00:00.000000",
          "2023-01-20 00:00:00.000000",
          "2023-01-21 00:00:00.000000",
          "2023-01-22 00:00:00.000000",
          "2023-01-23 00:00:00.000000",
          "2023-01-24 00:00:00.000000",
          "2023-01-25 00:00:00.000000",
          "2023-01-26 00:00:00.000000",
          "2023-01-27 00:00:00.000000",
          "2023-01-28 00:00:00.000000",
          "2023-01-29 00:00:00.000000",
          "2023-01-30 00:00:00.000000",
          "2023-01-31 00:00:00.000000",
          "2023-02-01 00:00:00.000000",
          "2023-02-02 00:00:00.000000",
          "2023-02-03 00:00:00.000000",
          "2023-02-04 00:00:00.000000",
          "2023-02-05 00:00:00.000000",
          "2023-02-06 00:00:00.000000"
         ],
         "xaxis": "x2",
         "y": [
          16919.39,
          16706.36,
          16547.31,
          16633.47,
          16607.48,
          16542.4,
          16616.75,
          16672.87,
          16675.18,
          16850.36,
          16831.85,
          16950.65,
          16943.57,
          17127.83,
          17178.26,
          17440.66,
          17943.26,
          18846.62,
          19930.01,
          20954.92,
          20871.5,
          21185.65,
          21134.81,
          20677.47,
          21071.59,
          22667.21,
          22783.55,
          22707.88,
          22916.45,
          22632.89,
          23060.94,
          23009.65,
          23074.16,
          23022.6,
          23742.3,
          22826.15,
          23125.13,
          23732.66,
          23488.94,
          23431.9,
          23326.84,
          22932.91
         ],
         "yaxis": "y2"
        },
        {
         "legendgroup": "2",
         "marker": {
          "color": "#228b22",
          "size": 10,
          "symbol": "circle"
         },
         "mode": "markers",
         "name": "Long",
         "type": "scatter",
         "x": [
          "2023-01-03 00:00:00.000000",
          "2023-01-08 00:00:00.000000",
          "2023-01-12 00:00:00.000000",
          "2023-01-20 00:00:00.000000",
          "2023-01-22 00:00:00.000000",
          "2023-01-24 00:00:00.000000",
          "2023-01-25 00:00:00.000000",
          "2023-01-27 00:00:00.000000",
          "2023-01-28 00:00:00.000000",
          "2023-01-30 00:00:00.000000",
          "2023-02-01 00:00:00.000000",
          "2023-02-04 00:00:00.000000",
          "2023-02-05 00:00:00.000000",
          "2023-02-06 00:00:00.000000"
         ],
         "xaxis": "x2",
         "y": [
          16672.87,
          16943.57,
          17943.26,
          21071.59,
          22783.55,
          22916.45,
          22632.89,
          23009.65,
          23074.16,
          23742.3,
          23125.13,
          23431.9,
          23326.84,
          22932.91
         ],
         "yaxis": "y2"
        },
        {
         "legendgroup": "2",
         "marker": {
          "color": "#c83232",
          "size": 10,
          "symbol": "circle"
         },
         "mode": "markers",
         "name": "Short",
         "type": "scatter",
         "x": [
          "2023-01-02 00:00:00.000000",
          "2023-01-04 00:00:00.000000",
          "2023-01-05 00:00:00.000000",
          "2023-01-06 00:00:00.000000",
          "2023-01-07 00:00:00.000000",
          "2023-01-09 00:00:00.000000",
          "2023-01-10 00:00:00.000000",
          "2023-01-11 00:00:00.000000",
          "2023-01-13 00:00:00.000000",
          "2023-01-14 00:00:00.000000",
          "2023-01-15 00:00:00.000000",
          "2023-01-16 00:00:00.000000",
          "2023-01-17 00:00:00.000000",
          "2023-01-18 00:00:00.000000",
          "2023-01-19 00:00:00.000000",
          "2023-01-21 00:00:00.000000",
          "2023-01-23 00:00:00.000000",
          "2023-01-26 00:00:00.000000",
          "2023-01-29 00:00:00.000000",
          "2023-01-31 00:00:00.000000",
          "2023-02-02 00:00:00.000000",
          "2023-02-03 00:00:00.000000"
         ],
         "xaxis": "x2",
         "y": [
          16616.75,
          16675.18,
          16850.36,
          16831.85,
          16950.65,
          17127.83,
          17178.26,
          17440.66,
          18846.62,
          19930.01,
          20954.92,
          20871.5,
          21185.65,
          21134.81,
          20677.47,
          22667.21,
          22707.88,
          23060.94,
          23022.6,
          22826.15,
          23732.66,
          23488.94
         ],
         "yaxis": "y2"
        }
       ],
       "layout": {
        "annotations": [
         {
          "font": {
           "size": 16
          },
          "showarrow": false,
          "text": "sim_id: 41 | model_type: PPO | Total Profit percentage -9.28%",
          "x": 0.5,
          "xanchor": "center",
          "xref": "paper",
          "y": 0.71875,
          "yanchor": "bottom",
          "yref": "paper"
         }
        ],
        "height": 800,
        "legend": {
         "tracegroupgap": 125
        },
        "template": {
         "data": {
          "bar": [
           {
            "error_x": {
             "color": "#2a3f5f"
            },
            "error_y": {
             "color": "#2a3f5f"
            },
            "marker": {
             "line": {
              "color": "#E5ECF6",
              "width": 0.5
             },
             "pattern": {
              "fillmode": "overlay",
              "size": 10,
              "solidity": 0.2
             }
            },
            "type": "bar"
           }
          ],
          "barpolar": [
           {
            "marker": {
             "line": {
              "color": "#E5ECF6",
              "width": 0.5
             },
             "pattern": {
              "fillmode": "overlay",
              "size": 10,
              "solidity": 0.2
             }
            },
            "type": "barpolar"
           }
          ],
          "carpet": [
           {
            "aaxis": {
             "endlinecolor": "#2a3f5f",
             "gridcolor": "white",
             "linecolor": "white",
             "minorgridcolor": "white",
             "startlinecolor": "#2a3f5f"
            },
            "baxis": {
             "endlinecolor": "#2a3f5f",
             "gridcolor": "white",
             "linecolor": "white",
             "minorgridcolor": "white",
             "startlinecolor": "#2a3f5f"
            },
            "type": "carpet"
           }
          ],
          "choropleth": [
           {
            "colorbar": {
             "outlinewidth": 0,
             "ticks": ""
            },
            "type": "choropleth"
           }
          ],
          "contour": [
           {
            "colorbar": {
             "outlinewidth": 0,
             "ticks": ""
            },
            "colorscale": [
             [
              0,
              "#0d0887"
             ],
             [
              0.1111111111111111,
              "#46039f"
             ],
             [
              0.2222222222222222,
              "#7201a8"
             ],
             [
              0.3333333333333333,
              "#9c179e"
             ],
             [
              0.4444444444444444,
              "#bd3786"
             ],
             [
              0.5555555555555556,
              "#d8576b"
             ],
             [
              0.6666666666666666,
              "#ed7953"
             ],
             [
              0.7777777777777778,
              "#fb9f3a"
             ],
             [
              0.8888888888888888,
              "#fdca26"
             ],
             [
              1,
              "#f0f921"
             ]
            ],
            "type": "contour"
           }
          ],
          "contourcarpet": [
           {
            "colorbar": {
             "outlinewidth": 0,
             "ticks": ""
            },
            "type": "contourcarpet"
           }
          ],
          "heatmap": [
           {
            "colorbar": {
             "outlinewidth": 0,
             "ticks": ""
            },
            "colorscale": [
             [
              0,
              "#0d0887"
             ],
             [
              0.1111111111111111,
              "#46039f"
             ],
             [
              0.2222222222222222,
              "#7201a8"
             ],
             [
              0.3333333333333333,
              "#9c179e"
             ],
             [
              0.4444444444444444,
              "#bd3786"
             ],
             [
              0.5555555555555556,
              "#d8576b"
             ],
             [
              0.6666666666666666,
              "#ed7953"
             ],
             [
              0.7777777777777778,
              "#fb9f3a"
             ],
             [
              0.8888888888888888,
              "#fdca26"
             ],
             [
              1,
              "#f0f921"
             ]
            ],
            "type": "heatmap"
           }
          ],
          "heatmapgl": [
           {
            "colorbar": {
             "outlinewidth": 0,
             "ticks": ""
            },
            "colorscale": [
             [
              0,
              "#0d0887"
             ],
             [
              0.1111111111111111,
              "#46039f"
             ],
             [
              0.2222222222222222,
              "#7201a8"
             ],
             [
              0.3333333333333333,
              "#9c179e"
             ],
             [
              0.4444444444444444,
              "#bd3786"
             ],
             [
              0.5555555555555556,
              "#d8576b"
             ],
             [
              0.6666666666666666,
              "#ed7953"
             ],
             [
              0.7777777777777778,
              "#fb9f3a"
             ],
             [
              0.8888888888888888,
              "#fdca26"
             ],
             [
              1,
              "#f0f921"
             ]
            ],
            "type": "heatmapgl"
           }
          ],
          "histogram": [
           {
            "marker": {
             "pattern": {
              "fillmode": "overlay",
              "size": 10,
              "solidity": 0.2
             }
            },
            "type": "histogram"
           }
          ],
          "histogram2d": [
           {
            "colorbar": {
             "outlinewidth": 0,
             "ticks": ""
            },
            "colorscale": [
             [
              0,
              "#0d0887"
             ],
             [
              0.1111111111111111,
              "#46039f"
             ],
             [
              0.2222222222222222,
              "#7201a8"
             ],
             [
              0.3333333333333333,
              "#9c179e"
             ],
             [
              0.4444444444444444,
              "#bd3786"
             ],
             [
              0.5555555555555556,
              "#d8576b"
             ],
             [
              0.6666666666666666,
              "#ed7953"
             ],
             [
              0.7777777777777778,
              "#fb9f3a"
             ],
             [
              0.8888888888888888,
              "#fdca26"
             ],
             [
              1,
              "#f0f921"
             ]
            ],
            "type": "histogram2d"
           }
          ],
          "histogram2dcontour": [
           {
            "colorbar": {
             "outlinewidth": 0,
             "ticks": ""
            },
            "colorscale": [
             [
              0,
              "#0d0887"
             ],
             [
              0.1111111111111111,
              "#46039f"
             ],
             [
              0.2222222222222222,
              "#7201a8"
             ],
             [
              0.3333333333333333,
              "#9c179e"
             ],
             [
              0.4444444444444444,
              "#bd3786"
             ],
             [
              0.5555555555555556,
              "#d8576b"
             ],
             [
              0.6666666666666666,
              "#ed7953"
             ],
             [
              0.7777777777777778,
              "#fb9f3a"
             ],
             [
              0.8888888888888888,
              "#fdca26"
             ],
             [
              1,
              "#f0f921"
             ]
            ],
            "type": "histogram2dcontour"
           }
          ],
          "mesh3d": [
           {
            "colorbar": {
             "outlinewidth": 0,
             "ticks": ""
            },
            "type": "mesh3d"
           }
          ],
          "parcoords": [
           {
            "line": {
             "colorbar": {
              "outlinewidth": 0,
              "ticks": ""
             }
            },
            "type": "parcoords"
           }
          ],
          "pie": [
           {
            "automargin": true,
            "type": "pie"
           }
          ],
          "scatter": [
           {
            "fillpattern": {
             "fillmode": "overlay",
             "size": 10,
             "solidity": 0.2
            },
            "type": "scatter"
           }
          ],
          "scatter3d": [
           {
            "line": {
             "colorbar": {
              "outlinewidth": 0,
              "ticks": ""
             }
            },
            "marker": {
             "colorbar": {
              "outlinewidth": 0,
              "ticks": ""
             }
            },
            "type": "scatter3d"
           }
          ],
          "scattercarpet": [
           {
            "marker": {
             "colorbar": {
              "outlinewidth": 0,
              "ticks": ""
             }
            },
            "type": "scattercarpet"
           }
          ],
          "scattergeo": [
           {
            "marker": {
             "colorbar": {
              "outlinewidth": 0,
              "ticks": ""
             }
            },
            "type": "scattergeo"
           }
          ],
          "scattergl": [
           {
            "marker": {
             "colorbar": {
              "outlinewidth": 0,
              "ticks": ""
             }
            },
            "type": "scattergl"
           }
          ],
          "scattermapbox": [
           {
            "marker": {
             "colorbar": {
              "outlinewidth": 0,
              "ticks": ""
             }
            },
            "type": "scattermapbox"
           }
          ],
          "scatterpolar": [
           {
            "marker": {
             "colorbar": {
              "outlinewidth": 0,
              "ticks": ""
             }
            },
            "type": "scatterpolar"
           }
          ],
          "scatterpolargl": [
           {
            "marker": {
             "colorbar": {
              "outlinewidth": 0,
              "ticks": ""
             }
            },
            "type": "scatterpolargl"
           }
          ],
          "scatterternary": [
           {
            "marker": {
             "colorbar": {
              "outlinewidth": 0,
              "ticks": ""
             }
            },
            "type": "scatterternary"
           }
          ],
          "surface": [
           {
            "colorbar": {
             "outlinewidth": 0,
             "ticks": ""
            },
            "colorscale": [
             [
              0,
              "#0d0887"
             ],
             [
              0.1111111111111111,
              "#46039f"
             ],
             [
              0.2222222222222222,
              "#7201a8"
             ],
             [
              0.3333333333333333,
              "#9c179e"
             ],
             [
              0.4444444444444444,
              "#bd3786"
             ],
             [
              0.5555555555555556,
              "#d8576b"
             ],
             [
              0.6666666666666666,
              "#ed7953"
             ],
             [
              0.7777777777777778,
              "#fb9f3a"
             ],
             [
              0.8888888888888888,
              "#fdca26"
             ],
             [
              1,
              "#f0f921"
             ]
            ],
            "type": "surface"
           }
          ],
          "table": [
           {
            "cells": {
             "fill": {
              "color": "#EBF0F8"
             },
             "line": {
              "color": "white"
             }
            },
            "header": {
             "fill": {
              "color": "#C8D4E3"
             },
             "line": {
              "color": "white"
             }
            },
            "type": "table"
           }
          ]
         },
         "layout": {
          "annotationdefaults": {
           "arrowcolor": "#2a3f5f",
           "arrowhead": 0,
           "arrowwidth": 1
          },
          "autotypenumbers": "strict",
          "coloraxis": {
           "colorbar": {
            "outlinewidth": 0,
            "ticks": ""
           }
          },
          "colorscale": {
           "diverging": [
            [
             0,
             "#8e0152"
            ],
            [
             0.1,
             "#c51b7d"
            ],
            [
             0.2,
             "#de77ae"
            ],
            [
             0.3,
             "#f1b6da"
            ],
            [
             0.4,
             "#fde0ef"
            ],
            [
             0.5,
             "#f7f7f7"
            ],
            [
             0.6,
             "#e6f5d0"
            ],
            [
             0.7,
             "#b8e186"
            ],
            [
             0.8,
             "#7fbc41"
            ],
            [
             0.9,
             "#4d9221"
            ],
            [
             1,
             "#276419"
            ]
           ],
           "sequential": [
            [
             0,
             "#0d0887"
            ],
            [
             0.1111111111111111,
             "#46039f"
            ],
            [
             0.2222222222222222,
             "#7201a8"
            ],
            [
             0.3333333333333333,
             "#9c179e"
            ],
            [
             0.4444444444444444,
             "#bd3786"
            ],
            [
             0.5555555555555556,
             "#d8576b"
            ],
            [
             0.6666666666666666,
             "#ed7953"
            ],
            [
             0.7777777777777778,
             "#fb9f3a"
            ],
            [
             0.8888888888888888,
             "#fdca26"
            ],
            [
             1,
             "#f0f921"
            ]
           ],
           "sequentialminus": [
            [
             0,
             "#0d0887"
            ],
            [
             0.1111111111111111,
             "#46039f"
            ],
            [
             0.2222222222222222,
             "#7201a8"
            ],
            [
             0.3333333333333333,
             "#9c179e"
            ],
            [
             0.4444444444444444,
             "#bd3786"
            ],
            [
             0.5555555555555556,
             "#d8576b"
            ],
            [
             0.6666666666666666,
             "#ed7953"
            ],
            [
             0.7777777777777778,
             "#fb9f3a"
            ],
            [
             0.8888888888888888,
             "#fdca26"
            ],
            [
             1,
             "#f0f921"
            ]
           ]
          },
          "colorway": [
           "#636efa",
           "#EF553B",
           "#00cc96",
           "#ab63fa",
           "#FFA15A",
           "#19d3f3",
           "#FF6692",
           "#B6E880",
           "#FF97FF",
           "#FECB52"
          ],
          "font": {
           "color": "#2a3f5f"
          },
          "geo": {
           "bgcolor": "white",
           "lakecolor": "white",
           "landcolor": "#E5ECF6",
           "showlakes": true,
           "showland": true,
           "subunitcolor": "white"
          },
          "hoverlabel": {
           "align": "left"
          },
          "hovermode": "closest",
          "mapbox": {
           "style": "light"
          },
          "paper_bgcolor": "white",
          "plot_bgcolor": "#E5ECF6",
          "polar": {
           "angularaxis": {
            "gridcolor": "white",
            "linecolor": "white",
            "ticks": ""
           },
           "bgcolor": "#E5ECF6",
           "radialaxis": {
            "gridcolor": "white",
            "linecolor": "white",
            "ticks": ""
           }
          },
          "scene": {
           "xaxis": {
            "backgroundcolor": "#E5ECF6",
            "gridcolor": "white",
            "gridwidth": 2,
            "linecolor": "white",
            "showbackground": true,
            "ticks": "",
            "zerolinecolor": "white"
           },
           "yaxis": {
            "backgroundcolor": "#E5ECF6",
            "gridcolor": "white",
            "gridwidth": 2,
            "linecolor": "white",
            "showbackground": true,
            "ticks": "",
            "zerolinecolor": "white"
           },
           "zaxis": {
            "backgroundcolor": "#E5ECF6",
            "gridcolor": "white",
            "gridwidth": 2,
            "linecolor": "white",
            "showbackground": true,
            "ticks": "",
            "zerolinecolor": "white"
           }
          },
          "shapedefaults": {
           "line": {
            "color": "#2a3f5f"
           }
          },
          "ternary": {
           "aaxis": {
            "gridcolor": "white",
            "linecolor": "white",
            "ticks": ""
           },
           "baxis": {
            "gridcolor": "white",
            "linecolor": "white",
            "ticks": ""
           },
           "bgcolor": "#E5ECF6",
           "caxis": {
            "gridcolor": "white",
            "linecolor": "white",
            "ticks": ""
           }
          },
          "title": {
           "x": 0.05
          },
          "xaxis": {
           "automargin": true,
           "gridcolor": "white",
           "linecolor": "white",
           "ticks": "",
           "title": {
            "standoff": 15
           },
           "zerolinecolor": "white",
           "zerolinewidth": 2
          },
          "yaxis": {
           "automargin": true,
           "gridcolor": "white",
           "linecolor": "white",
           "ticks": "",
           "title": {
            "standoff": 15
           },
           "zerolinecolor": "white",
           "zerolinewidth": 2
          }
         }
        },
        "title": {
         "text": "The median profit percentage results per model",
         "x": 0.5
        },
        "width": 1200,
        "xaxis": {
         "anchor": "y",
         "domain": [
          0,
          1
         ],
         "matches": "x4",
         "showticklabels": false,
         "title": {
          "standoff": 25,
          "text": "Dates"
         }
        },
        "xaxis2": {
         "anchor": "y2",
         "domain": [
          0,
          1
         ],
         "matches": "x4",
         "showticklabels": false,
         "title": {
          "standoff": 25,
          "text": "Dates"
         }
        },
        "xaxis3": {
         "anchor": "y3",
         "domain": [
          0,
          1
         ],
         "matches": "x4",
         "showticklabels": false,
         "title": {
          "standoff": 25,
          "text": "Dates"
         }
        },
        "xaxis4": {
         "anchor": "y4",
         "domain": [
          0,
          1
         ],
         "title": {
          "standoff": 25,
          "text": "Dates"
         }
        },
        "yaxis": {
         "anchor": "x",
         "domain": [
          0.84375,
          1
         ],
         "matches": "y4",
         "title": {
          "standoff": 25,
          "text": ""
         }
        },
        "yaxis2": {
         "anchor": "x2",
         "domain": [
          0.5625,
          0.71875
         ],
         "matches": "y4",
         "title": {
          "standoff": 25,
          "text": ""
         }
        },
        "yaxis3": {
         "anchor": "x3",
         "domain": [
          0.28125,
          0.4375
         ],
         "matches": "y4",
         "title": {
          "standoff": 25,
          "text": ""
         }
        },
        "yaxis4": {
         "anchor": "x4",
         "domain": [
          0,
          0.15625
         ],
         "title": {
          "standoff": 25,
          "text": ""
         }
        }
       }
      }
     },
     "metadata": {},
     "output_type": "display_data"
    }
   ],
   "source": [
    "plot_robot_actions_all_models(config_file_name_without_extension, \"\", median_sim_id_PPO, \"\", \"\")"
   ]
  },
  {
   "cell_type": "code",
   "execution_count": 32,
   "metadata": {},
   "outputs": [],
   "source": [
    "def get_and_process_trader_robot_actions_and_env_data_all_sim_id(config_file_name_without_extension):\n",
    "    try:\n",
    "        \n",
    "        # Get the data\n",
    "        db_address = 'sqlite:///../results/data/db/trader.db'\n",
    "        engine = create_engine(db_address, echo=False)\n",
    "        sqlite_connection = engine.connect()\n",
    "\n",
    "        input_tbl_name = \"tbl_trader_bernardo_robot_actions_and_env\" + \"_\" + config_file_name_without_extension\n",
    "        \n",
    "        sql_command = \"SELECT * FROM \" + input_tbl_name + \" AS t1 \"\n",
    "        \n",
    "        sql_append = \"LEFT JOIN (SELECT sim_id, model_type FROM tbl_trader_bernardo_simulation_results_config_03a_mix_infer) AS t2 ON t1.sim_id = t2.sim_id\"\n",
    "        \n",
    "        sql_command = sql_command + sql_append\n",
    "\n",
    "        df = pd.read_sql(sql_command, sqlite_connection)\n",
    "\n",
    "        sqlite_connection.close()\n",
    "\n",
    "        return df\n",
    "\n",
    "    except Exception as e:\n",
    "        print(e)"
   ]
  },
  {
   "cell_type": "code",
   "execution_count": 33,
   "metadata": {},
   "outputs": [],
   "source": [
    "def plot_trader_robot_actions_all_sim_id_all_models(config_file_name_without_extension, sim_id_A2C, sim_id_PPO, sim_id_DQN, sim_id_RANDOM):\n",
    "    \n",
    "    df_robot_actions_and_env_all_sim_id = get_and_process_trader_robot_actions_and_env_data_all_sim_id(config_file_name_without_extension)\n",
    "\n",
    "    # df_robot_actions_and_env_all_sim_id_A2C = df_robot_actions_and_env_all_sim_id[df_robot_actions_and_env_all_sim_id['model_type'] == 'A2C']\n",
    "    df_robot_actions_and_env_all_sim_id_PPO = df_robot_actions_and_env_all_sim_id[df_robot_actions_and_env_all_sim_id['model_type'] == 'PPO']\n",
    "    # df_robot_actions_and_env_all_sim_id_DQN = df_robot_actions_and_env_all_sim_id[df_robot_actions_and_env_all_sim_id['model_type'] == 'DQN']\n",
    "    # df_robot_actions_and_env_all_sim_id_RANDOM = df_robot_actions_and_env_all_sim_id[df_robot_actions_and_env_all_sim_id['model_type'] == 'RANDOM']    \n",
    "\n",
    "    # df_model_type_action_count_A2C = df_robot_actions_and_env_all_sim_id_A2C.assign(val=1).pivot_table(values='val', index=['dates'], columns=['model_type', 'actions'], aggfunc='count').stack(0).reset_index()\n",
    "    # df_model_type_action_count_A2C.rename(columns = {0.0:'action_short_count', 1.0:'action_long_count'}, inplace = True)\n",
    "\n",
    "    df_model_type_action_count_PPO = df_robot_actions_and_env_all_sim_id_PPO.assign(val=1).pivot_table(values='val', index=['dates'], columns=['model_type', 'actions'], aggfunc='count').stack(0).reset_index()\n",
    "    df_model_type_action_count_PPO.rename(columns = {0.0:'action_short_count', 1.0:'action_long_count'}, inplace = True)\n",
    "\n",
    "    # df_model_type_action_count_DQN = df_robot_actions_and_env_all_sim_id_DQN.assign(val=1).pivot_table(values='val', index=['dates'], columns=['model_type', 'actions'], aggfunc='count').stack(0).reset_index()\n",
    "    # df_model_type_action_count_DQN.rename(columns = {0.0:'action_short_count', 1.0:'action_long_count'}, inplace = True)\n",
    "\n",
    "    # df_model_type_action_count_RANDOM = df_robot_actions_and_env_all_sim_id_RANDOM.assign(val=1).pivot_table(values='val', index=['dates'], columns=['model_type', 'actions'], aggfunc='count').stack(0).reset_index()\n",
    "    # df_model_type_action_count_RANDOM.rename(columns = {0.0:'action_short_count', 1.0:'action_long_count'}, inplace = True)        \n",
    "\n",
    "    # df_robot_actions_sim_id_A2C = get_and_process_trader_robot_actions_and_env_data_one_sim_id(config_file_name_without_extension, sim_id_A2C)\n",
    "    df_robot_actions_sim_id_PPO = get_and_process_trader_robot_actions_and_env_data_one_sim_id(config_file_name_without_extension, sim_id_PPO)\n",
    "    # df_robot_actions_sim_id_DQN = get_and_process_trader_robot_actions_and_env_data_one_sim_id(config_file_name_without_extension, sim_id_DQN)\n",
    "    # df_robot_actions_sim_id_RANDOM = get_and_process_trader_robot_actions_and_env_data_one_sim_id(config_file_name_without_extension, sim_id_RANDOM)\n",
    "\n",
    "    # df_simulation_sim_id_A2C = df_trader_results[df_trader_results['sim_id'] == sim_id_A2C]\n",
    "    df_simulation_sim_id_PPO = df_trader_results[df_trader_results['sim_id'] == sim_id_PPO]\n",
    "    # df_simulation_sim_id_DQN = df_trader_results[df_trader_results['sim_id'] == sim_id_DQN]\n",
    "    # df_simulation_sim_id_RANDOM = df_trader_results[df_trader_results['sim_id'] == sim_id_RANDOM]\n",
    "\n",
    "    # str_title_A2C = f\"Median sim_id: {sim_id_A2C} | model_type: {df_simulation_sim_id_A2C.model_type.values[0]} | Total Profit percentage {round(df_simulation_sim_id_A2C.fmt_total_profit_percentage.values[0],2)}%\"\n",
    "    str_title_PPO = f\"Median sim_id: {sim_id_PPO} | model_type: {df_simulation_sim_id_PPO.model_type.values[0]} | Total Profit percentage {round(df_simulation_sim_id_PPO.fmt_total_profit_percentage.values[0],2)}%\"\n",
    "    # str_title_DQN = f\"Median sim_id: {sim_id_DQN} | model_type: {df_simulation_sim_id_DQN.model_type.values[0]} | Total Profit percentage {round(df_simulation_sim_id_DQN.fmt_total_profit_percentage.values[0],2)}%\"\n",
    "    # str_title_RANDOM = f\"Median sim_id: {sim_id_RANDOM} | model_type: {df_simulation_sim_id_RANDOM.model_type.values[0]} | Total Profit percentage {round(df_simulation_sim_id_RANDOM.fmt_total_profit_percentage.values[0],2)}%\"\n",
    "\n",
    "    str_title = f\"Median Total Profit Results x Overall view of actions (across all the simulations)\"\n",
    "\n",
    "    fig = make_subplots(rows=4, cols=1, subplot_titles=(\"\", str_title_PPO, \"\", \"\"), shared_xaxes='all', shared_yaxes='all', specs=[[{\"secondary_y\": True}], [{\"secondary_y\": True}], [{\"secondary_y\": True}], [{\"secondary_y\": True}]]) \n",
    "\n",
    "    # fig.add_trace(go.Scatter(name='Price', x=df_robot_actions_sim_id_A2C[\"dates\"], y=df_robot_actions_sim_id_A2C[\"prices\"], mode='lines', marker_color='#969696', legendgroup = '1'), row=1, col=1, secondary_y=True)\n",
    "    # fig.add_trace(go.Scatter(name='Long', x=df_robot_actions_sim_id_A2C[df_robot_actions_sim_id_A2C['actions'] == 1]['dates'], y=df_robot_actions_sim_id_A2C[df_robot_actions_sim_id_A2C['actions'] == 1]['prices'], mode='markers', marker_symbol='circle', marker_size=10, marker_color='#228b22', legendgroup = '1'), row=1, col=1, secondary_y=True)\n",
    "    # fig.add_trace(go.Scatter(name='Short', x=df_robot_actions_sim_id_A2C[df_robot_actions_sim_id_A2C['actions'] == 0]['dates'], y=df_robot_actions_sim_id_A2C[df_robot_actions_sim_id_A2C['actions'] == 0]['prices'], mode='markers', marker_symbol='circle', marker_size=10, marker_color='#c83232', legendgroup = '1'), row=1, col=1, secondary_y=True)\n",
    "\n",
    "    # fig.add_trace(go.Bar(x=df_model_type_action_count_A2C['dates'], y=df_model_type_action_count_A2C['action_long_count'], name='Long', marker_color=' #b3ffb3', legendgroup = '1'), row=1, col=1, secondary_y=False)\n",
    "    # fig.add_trace(go.Bar(x=df_model_type_action_count_A2C['dates'], y=df_model_type_action_count_A2C['action_short_count'], name='Short', marker_color='#ffb2b2', legendgroup = '1'), row=1, col=1, secondary_y=False)\n",
    "\n",
    "    fig.add_trace(go.Scatter(name='Price', x=df_robot_actions_sim_id_PPO[\"dates\"], y=df_robot_actions_sim_id_PPO[\"prices\"], mode='lines', marker_color='#969696', legendgroup = '2'), row=2, col=1, secondary_y=True)\n",
    "    fig.add_trace(go.Scatter(name='Long', x=df_robot_actions_sim_id_PPO[df_robot_actions_sim_id_PPO['actions'] == 1]['dates'], y=df_robot_actions_sim_id_PPO[df_robot_actions_sim_id_PPO['actions'] == 1]['prices'], mode='markers', marker_symbol='circle', marker_size=10, marker_color='#228b22', legendgroup = '2'), row=2, col=1, secondary_y=True)\n",
    "    fig.add_trace(go.Scatter(name='Short', x=df_robot_actions_sim_id_PPO[df_robot_actions_sim_id_PPO['actions'] == 0]['dates'], y=df_robot_actions_sim_id_PPO[df_robot_actions_sim_id_PPO['actions'] == 0]['prices'], mode='markers', marker_symbol='circle', marker_size=10, marker_color='#c83232', legendgroup = '2'), row=2, col=1, secondary_y=True)\n",
    "\n",
    "    fig.add_trace(go.Bar(x=df_model_type_action_count_PPO['dates'], y=df_model_type_action_count_PPO['action_long_count'], name='Long', marker_color=' #b3ffb3', legendgroup = '2'), row=2, col=1, secondary_y=False)\n",
    "    fig.add_trace(go.Bar(x=df_model_type_action_count_PPO['dates'], y=df_model_type_action_count_PPO['action_short_count'], name='Short', marker_color='#ffb2b2', legendgroup = '2'), row=2, col=1, secondary_y=False)\n",
    "\n",
    "    # fig.add_trace(go.Scatter(name='Price', x=df_robot_actions_sim_id_DQN[\"dates\"], y=df_robot_actions_sim_id_DQN[\"prices\"], mode='lines', marker_color='#969696', legendgroup = '3'), row=3, col=1, secondary_y=True)\n",
    "    # fig.add_trace(go.Scatter(name='Long', x=df_robot_actions_sim_id_DQN[df_robot_actions_sim_id_DQN['actions'] == 1]['dates'], y=df_robot_actions_sim_id_DQN[df_robot_actions_sim_id_DQN['actions'] == 1]['prices'], mode='markers', marker_symbol='circle', marker_size=10, marker_color='#228b22', legendgroup = '3'), row=3, col=1, secondary_y=True)\n",
    "    # fig.add_trace(go.Scatter(name='Short', x=df_robot_actions_sim_id_DQN[df_robot_actions_sim_id_DQN['actions'] == 0]['dates'], y=df_robot_actions_sim_id_DQN[df_robot_actions_sim_id_DQN['actions'] == 0]['prices'], mode='markers', marker_symbol='circle', marker_size=10, marker_color='#c83232', legendgroup = '3'), row=3, col=1, secondary_y=True)\n",
    "\n",
    "    # fig.add_trace(go.Bar(x=df_model_type_action_count_DQN['dates'], y=df_model_type_action_count_DQN['action_long_count'], name='Long', marker_color=' #b3ffb3', legendgroup = '3'), row=3, col=1, secondary_y=False)\n",
    "    # fig.add_trace(go.Bar(x=df_model_type_action_count_DQN['dates'], y=df_model_type_action_count_DQN['action_short_count'], name='Short', marker_color='#ffb2b2', legendgroup = '3'), row=3, col=1, secondary_y=False)\n",
    "\n",
    "    # fig.add_trace(go.Scatter(name='Price', x=df_robot_actions_sim_id_RANDOM[\"dates\"], y=df_robot_actions_sim_id_RANDOM[\"prices\"], mode='lines', marker_color='#969696', legendgroup = '4'), row=4, col=1, secondary_y=True)\n",
    "    # fig.add_trace(go.Scatter(name='Long', x=df_robot_actions_sim_id_RANDOM[df_robot_actions_sim_id_RANDOM['actions'] == 1]['dates'], y=df_robot_actions_sim_id_RANDOM[df_robot_actions_sim_id_RANDOM['actions'] == 1]['prices'], mode='markers', marker_symbol='circle', marker_size=10, marker_color='#228b22', legendgroup = '4'), row=4, col=1, secondary_y=True)\n",
    "    # fig.add_trace(go.Scatter(name='Short', x=df_robot_actions_sim_id_RANDOM[df_robot_actions_sim_id_RANDOM['actions'] == 0]['dates'], y=df_robot_actions_sim_id_RANDOM[df_robot_actions_sim_id_RANDOM['actions'] == 0]['prices'], mode='markers', marker_symbol='circle', marker_size=10, marker_color='#c83232', legendgroup = '4'), row=4, col=1, secondary_y=True)\n",
    "\n",
    "    # fig.add_trace(go.Bar(x=df_model_type_action_count_RANDOM['dates'], y=df_model_type_action_count_RANDOM['action_long_count'], name='Long', marker_color=' #b3ffb3', legendgroup = '4'), row=4, col=1, secondary_y=False)\n",
    "    # fig.add_trace(go.Bar(x=df_model_type_action_count_RANDOM['dates'], y=df_model_type_action_count_RANDOM['action_short_count'], name='Short', marker_color='#ffb2b2', legendgroup = '4'), row=4, col=1, secondary_y=False)\n",
    "\n",
    "    fig.update_yaxes(title_text=\"Proportion of trades<br>across all the simulations\", secondary_y=False)\n",
    "    fig.update_yaxes(title_text=f\"CCY level with the<br>sim_id actions related\", secondary_y=True)\n",
    "\n",
    "    fig.update_layout(barmode='stack', xaxis={'categoryorder':'category ascending'}, title=str_title, title_x=0.5, width=1200, height=800, legend_tracegroupgap=82, font={'size': 8})\n",
    "\n",
    "    fig.show()    "
   ]
  },
  {
   "cell_type": "code",
   "execution_count": 34,
   "metadata": {},
   "outputs": [
    {
     "data": {
      "application/vnd.plotly.v1+json": {
       "config": {
        "plotlyServerURL": "https://plot.ly"
       },
       "data": [
        {
         "legendgroup": "2",
         "marker": {
          "color": "#969696"
         },
         "mode": "lines",
         "name": "Price",
         "type": "scatter",
         "x": [
          "2022-12-27 00:00:00.000000",
          "2022-12-28 00:00:00.000000",
          "2022-12-29 00:00:00.000000",
          "2022-12-30 00:00:00.000000",
          "2022-12-31 00:00:00.000000",
          "2023-01-01 00:00:00.000000",
          "2023-01-02 00:00:00.000000",
          "2023-01-03 00:00:00.000000",
          "2023-01-04 00:00:00.000000",
          "2023-01-05 00:00:00.000000",
          "2023-01-06 00:00:00.000000",
          "2023-01-07 00:00:00.000000",
          "2023-01-08 00:00:00.000000",
          "2023-01-09 00:00:00.000000",
          "2023-01-10 00:00:00.000000",
          "2023-01-11 00:00:00.000000",
          "2023-01-12 00:00:00.000000",
          "2023-01-13 00:00:00.000000",
          "2023-01-14 00:00:00.000000",
          "2023-01-15 00:00:00.000000",
          "2023-01-16 00:00:00.000000",
          "2023-01-17 00:00:00.000000",
          "2023-01-18 00:00:00.000000",
          "2023-01-19 00:00:00.000000",
          "2023-01-20 00:00:00.000000",
          "2023-01-21 00:00:00.000000",
          "2023-01-22 00:00:00.000000",
          "2023-01-23 00:00:00.000000",
          "2023-01-24 00:00:00.000000",
          "2023-01-25 00:00:00.000000",
          "2023-01-26 00:00:00.000000",
          "2023-01-27 00:00:00.000000",
          "2023-01-28 00:00:00.000000",
          "2023-01-29 00:00:00.000000",
          "2023-01-30 00:00:00.000000",
          "2023-01-31 00:00:00.000000",
          "2023-02-01 00:00:00.000000",
          "2023-02-02 00:00:00.000000",
          "2023-02-03 00:00:00.000000",
          "2023-02-04 00:00:00.000000",
          "2023-02-05 00:00:00.000000",
          "2023-02-06 00:00:00.000000"
         ],
         "xaxis": "x2",
         "y": [
          16919.39,
          16706.36,
          16547.31,
          16633.47,
          16607.48,
          16542.4,
          16616.75,
          16672.87,
          16675.18,
          16850.36,
          16831.85,
          16950.65,
          16943.57,
          17127.83,
          17178.26,
          17440.66,
          17943.26,
          18846.62,
          19930.01,
          20954.92,
          20871.5,
          21185.65,
          21134.81,
          20677.47,
          21071.59,
          22667.21,
          22783.55,
          22707.88,
          22916.45,
          22632.89,
          23060.94,
          23009.65,
          23074.16,
          23022.6,
          23742.3,
          22826.15,
          23125.13,
          23732.66,
          23488.94,
          23431.9,
          23326.84,
          22932.91
         ],
         "yaxis": "y4"
        },
        {
         "legendgroup": "2",
         "marker": {
          "color": "#228b22",
          "size": 10,
          "symbol": "circle"
         },
         "mode": "markers",
         "name": "Long",
         "type": "scatter",
         "x": [
          "2023-01-03 00:00:00.000000",
          "2023-01-08 00:00:00.000000",
          "2023-01-12 00:00:00.000000",
          "2023-01-20 00:00:00.000000",
          "2023-01-22 00:00:00.000000",
          "2023-01-24 00:00:00.000000",
          "2023-01-25 00:00:00.000000",
          "2023-01-27 00:00:00.000000",
          "2023-01-28 00:00:00.000000",
          "2023-01-30 00:00:00.000000",
          "2023-02-01 00:00:00.000000",
          "2023-02-04 00:00:00.000000",
          "2023-02-05 00:00:00.000000",
          "2023-02-06 00:00:00.000000"
         ],
         "xaxis": "x2",
         "y": [
          16672.87,
          16943.57,
          17943.26,
          21071.59,
          22783.55,
          22916.45,
          22632.89,
          23009.65,
          23074.16,
          23742.3,
          23125.13,
          23431.9,
          23326.84,
          22932.91
         ],
         "yaxis": "y4"
        },
        {
         "legendgroup": "2",
         "marker": {
          "color": "#c83232",
          "size": 10,
          "symbol": "circle"
         },
         "mode": "markers",
         "name": "Short",
         "type": "scatter",
         "x": [
          "2023-01-02 00:00:00.000000",
          "2023-01-04 00:00:00.000000",
          "2023-01-05 00:00:00.000000",
          "2023-01-06 00:00:00.000000",
          "2023-01-07 00:00:00.000000",
          "2023-01-09 00:00:00.000000",
          "2023-01-10 00:00:00.000000",
          "2023-01-11 00:00:00.000000",
          "2023-01-13 00:00:00.000000",
          "2023-01-14 00:00:00.000000",
          "2023-01-15 00:00:00.000000",
          "2023-01-16 00:00:00.000000",
          "2023-01-17 00:00:00.000000",
          "2023-01-18 00:00:00.000000",
          "2023-01-19 00:00:00.000000",
          "2023-01-21 00:00:00.000000",
          "2023-01-23 00:00:00.000000",
          "2023-01-26 00:00:00.000000",
          "2023-01-29 00:00:00.000000",
          "2023-01-31 00:00:00.000000",
          "2023-02-02 00:00:00.000000",
          "2023-02-03 00:00:00.000000"
         ],
         "xaxis": "x2",
         "y": [
          16616.75,
          16675.18,
          16850.36,
          16831.85,
          16950.65,
          17127.83,
          17178.26,
          17440.66,
          18846.62,
          19930.01,
          20954.92,
          20871.5,
          21185.65,
          21134.81,
          20677.47,
          22667.21,
          22707.88,
          23060.94,
          23022.6,
          22826.15,
          23732.66,
          23488.94
         ],
         "yaxis": "y4"
        },
        {
         "legendgroup": "2",
         "marker": {
          "color": " #b3ffb3"
         },
         "name": "Long",
         "type": "bar",
         "x": [
          "2023-01-02 00:00:00.000000",
          "2023-01-03 00:00:00.000000",
          "2023-01-04 00:00:00.000000",
          "2023-01-05 00:00:00.000000",
          "2023-01-06 00:00:00.000000",
          "2023-01-07 00:00:00.000000",
          "2023-01-08 00:00:00.000000",
          "2023-01-09 00:00:00.000000",
          "2023-01-10 00:00:00.000000",
          "2023-01-11 00:00:00.000000",
          "2023-01-12 00:00:00.000000",
          "2023-01-13 00:00:00.000000",
          "2023-01-14 00:00:00.000000",
          "2023-01-15 00:00:00.000000",
          "2023-01-16 00:00:00.000000",
          "2023-01-17 00:00:00.000000",
          "2023-01-18 00:00:00.000000",
          "2023-01-19 00:00:00.000000",
          "2023-01-20 00:00:00.000000",
          "2023-01-21 00:00:00.000000",
          "2023-01-22 00:00:00.000000",
          "2023-01-23 00:00:00.000000",
          "2023-01-24 00:00:00.000000",
          "2023-01-25 00:00:00.000000",
          "2023-01-26 00:00:00.000000",
          "2023-01-27 00:00:00.000000",
          "2023-01-28 00:00:00.000000",
          "2023-01-29 00:00:00.000000",
          "2023-01-30 00:00:00.000000",
          "2023-01-31 00:00:00.000000",
          "2023-02-01 00:00:00.000000",
          "2023-02-02 00:00:00.000000",
          "2023-02-03 00:00:00.000000",
          "2023-02-04 00:00:00.000000",
          "2023-02-05 00:00:00.000000",
          "2023-02-06 00:00:00.000000"
         ],
         "xaxis": "x2",
         "y": [
          352,
          377,
          369,
          328,
          332,
          345,
          320,
          297,
          309,
          333,
          276,
          321,
          313,
          347,
          364,
          362,
          362,
          384,
          399,
          448,
          477,
          514,
          557,
          601,
          605,
          605,
          650,
          676,
          681,
          694,
          706,
          690,
          723,
          746,
          753,
          761
         ],
         "yaxis": "y3"
        },
        {
         "legendgroup": "2",
         "marker": {
          "color": "#ffb2b2"
         },
         "name": "Short",
         "type": "bar",
         "x": [
          "2023-01-02 00:00:00.000000",
          "2023-01-03 00:00:00.000000",
          "2023-01-04 00:00:00.000000",
          "2023-01-05 00:00:00.000000",
          "2023-01-06 00:00:00.000000",
          "2023-01-07 00:00:00.000000",
          "2023-01-08 00:00:00.000000",
          "2023-01-09 00:00:00.000000",
          "2023-01-10 00:00:00.000000",
          "2023-01-11 00:00:00.000000",
          "2023-01-12 00:00:00.000000",
          "2023-01-13 00:00:00.000000",
          "2023-01-14 00:00:00.000000",
          "2023-01-15 00:00:00.000000",
          "2023-01-16 00:00:00.000000",
          "2023-01-17 00:00:00.000000",
          "2023-01-18 00:00:00.000000",
          "2023-01-19 00:00:00.000000",
          "2023-01-20 00:00:00.000000",
          "2023-01-21 00:00:00.000000",
          "2023-01-22 00:00:00.000000",
          "2023-01-23 00:00:00.000000",
          "2023-01-24 00:00:00.000000",
          "2023-01-25 00:00:00.000000",
          "2023-01-26 00:00:00.000000",
          "2023-01-27 00:00:00.000000",
          "2023-01-28 00:00:00.000000",
          "2023-01-29 00:00:00.000000",
          "2023-01-30 00:00:00.000000",
          "2023-01-31 00:00:00.000000",
          "2023-02-01 00:00:00.000000",
          "2023-02-02 00:00:00.000000",
          "2023-02-03 00:00:00.000000",
          "2023-02-04 00:00:00.000000",
          "2023-02-05 00:00:00.000000",
          "2023-02-06 00:00:00.000000"
         ],
         "xaxis": "x2",
         "y": [
          648,
          623,
          631,
          672,
          668,
          655,
          680,
          703,
          691,
          667,
          724,
          679,
          687,
          653,
          636,
          638,
          638,
          616,
          601,
          552,
          523,
          486,
          443,
          399,
          395,
          395,
          350,
          324,
          319,
          306,
          294,
          310,
          277,
          254,
          247,
          239
         ],
         "yaxis": "y3"
        }
       ],
       "layout": {
        "annotations": [
         {
          "font": {
           "size": 16
          },
          "showarrow": false,
          "text": "Median sim_id: 41 | model_type: PPO | Total Profit percentage -9.28%",
          "x": 0.47,
          "xanchor": "center",
          "xref": "paper",
          "y": 0.71875,
          "yanchor": "bottom",
          "yref": "paper"
         }
        ],
        "barmode": "stack",
        "font": {
         "size": 8
        },
        "height": 800,
        "legend": {
         "tracegroupgap": 82
        },
        "template": {
         "data": {
          "bar": [
           {
            "error_x": {
             "color": "#2a3f5f"
            },
            "error_y": {
             "color": "#2a3f5f"
            },
            "marker": {
             "line": {
              "color": "#E5ECF6",
              "width": 0.5
             },
             "pattern": {
              "fillmode": "overlay",
              "size": 10,
              "solidity": 0.2
             }
            },
            "type": "bar"
           }
          ],
          "barpolar": [
           {
            "marker": {
             "line": {
              "color": "#E5ECF6",
              "width": 0.5
             },
             "pattern": {
              "fillmode": "overlay",
              "size": 10,
              "solidity": 0.2
             }
            },
            "type": "barpolar"
           }
          ],
          "carpet": [
           {
            "aaxis": {
             "endlinecolor": "#2a3f5f",
             "gridcolor": "white",
             "linecolor": "white",
             "minorgridcolor": "white",
             "startlinecolor": "#2a3f5f"
            },
            "baxis": {
             "endlinecolor": "#2a3f5f",
             "gridcolor": "white",
             "linecolor": "white",
             "minorgridcolor": "white",
             "startlinecolor": "#2a3f5f"
            },
            "type": "carpet"
           }
          ],
          "choropleth": [
           {
            "colorbar": {
             "outlinewidth": 0,
             "ticks": ""
            },
            "type": "choropleth"
           }
          ],
          "contour": [
           {
            "colorbar": {
             "outlinewidth": 0,
             "ticks": ""
            },
            "colorscale": [
             [
              0,
              "#0d0887"
             ],
             [
              0.1111111111111111,
              "#46039f"
             ],
             [
              0.2222222222222222,
              "#7201a8"
             ],
             [
              0.3333333333333333,
              "#9c179e"
             ],
             [
              0.4444444444444444,
              "#bd3786"
             ],
             [
              0.5555555555555556,
              "#d8576b"
             ],
             [
              0.6666666666666666,
              "#ed7953"
             ],
             [
              0.7777777777777778,
              "#fb9f3a"
             ],
             [
              0.8888888888888888,
              "#fdca26"
             ],
             [
              1,
              "#f0f921"
             ]
            ],
            "type": "contour"
           }
          ],
          "contourcarpet": [
           {
            "colorbar": {
             "outlinewidth": 0,
             "ticks": ""
            },
            "type": "contourcarpet"
           }
          ],
          "heatmap": [
           {
            "colorbar": {
             "outlinewidth": 0,
             "ticks": ""
            },
            "colorscale": [
             [
              0,
              "#0d0887"
             ],
             [
              0.1111111111111111,
              "#46039f"
             ],
             [
              0.2222222222222222,
              "#7201a8"
             ],
             [
              0.3333333333333333,
              "#9c179e"
             ],
             [
              0.4444444444444444,
              "#bd3786"
             ],
             [
              0.5555555555555556,
              "#d8576b"
             ],
             [
              0.6666666666666666,
              "#ed7953"
             ],
             [
              0.7777777777777778,
              "#fb9f3a"
             ],
             [
              0.8888888888888888,
              "#fdca26"
             ],
             [
              1,
              "#f0f921"
             ]
            ],
            "type": "heatmap"
           }
          ],
          "heatmapgl": [
           {
            "colorbar": {
             "outlinewidth": 0,
             "ticks": ""
            },
            "colorscale": [
             [
              0,
              "#0d0887"
             ],
             [
              0.1111111111111111,
              "#46039f"
             ],
             [
              0.2222222222222222,
              "#7201a8"
             ],
             [
              0.3333333333333333,
              "#9c179e"
             ],
             [
              0.4444444444444444,
              "#bd3786"
             ],
             [
              0.5555555555555556,
              "#d8576b"
             ],
             [
              0.6666666666666666,
              "#ed7953"
             ],
             [
              0.7777777777777778,
              "#fb9f3a"
             ],
             [
              0.8888888888888888,
              "#fdca26"
             ],
             [
              1,
              "#f0f921"
             ]
            ],
            "type": "heatmapgl"
           }
          ],
          "histogram": [
           {
            "marker": {
             "pattern": {
              "fillmode": "overlay",
              "size": 10,
              "solidity": 0.2
             }
            },
            "type": "histogram"
           }
          ],
          "histogram2d": [
           {
            "colorbar": {
             "outlinewidth": 0,
             "ticks": ""
            },
            "colorscale": [
             [
              0,
              "#0d0887"
             ],
             [
              0.1111111111111111,
              "#46039f"
             ],
             [
              0.2222222222222222,
              "#7201a8"
             ],
             [
              0.3333333333333333,
              "#9c179e"
             ],
             [
              0.4444444444444444,
              "#bd3786"
             ],
             [
              0.5555555555555556,
              "#d8576b"
             ],
             [
              0.6666666666666666,
              "#ed7953"
             ],
             [
              0.7777777777777778,
              "#fb9f3a"
             ],
             [
              0.8888888888888888,
              "#fdca26"
             ],
             [
              1,
              "#f0f921"
             ]
            ],
            "type": "histogram2d"
           }
          ],
          "histogram2dcontour": [
           {
            "colorbar": {
             "outlinewidth": 0,
             "ticks": ""
            },
            "colorscale": [
             [
              0,
              "#0d0887"
             ],
             [
              0.1111111111111111,
              "#46039f"
             ],
             [
              0.2222222222222222,
              "#7201a8"
             ],
             [
              0.3333333333333333,
              "#9c179e"
             ],
             [
              0.4444444444444444,
              "#bd3786"
             ],
             [
              0.5555555555555556,
              "#d8576b"
             ],
             [
              0.6666666666666666,
              "#ed7953"
             ],
             [
              0.7777777777777778,
              "#fb9f3a"
             ],
             [
              0.8888888888888888,
              "#fdca26"
             ],
             [
              1,
              "#f0f921"
             ]
            ],
            "type": "histogram2dcontour"
           }
          ],
          "mesh3d": [
           {
            "colorbar": {
             "outlinewidth": 0,
             "ticks": ""
            },
            "type": "mesh3d"
           }
          ],
          "parcoords": [
           {
            "line": {
             "colorbar": {
              "outlinewidth": 0,
              "ticks": ""
             }
            },
            "type": "parcoords"
           }
          ],
          "pie": [
           {
            "automargin": true,
            "type": "pie"
           }
          ],
          "scatter": [
           {
            "fillpattern": {
             "fillmode": "overlay",
             "size": 10,
             "solidity": 0.2
            },
            "type": "scatter"
           }
          ],
          "scatter3d": [
           {
            "line": {
             "colorbar": {
              "outlinewidth": 0,
              "ticks": ""
             }
            },
            "marker": {
             "colorbar": {
              "outlinewidth": 0,
              "ticks": ""
             }
            },
            "type": "scatter3d"
           }
          ],
          "scattercarpet": [
           {
            "marker": {
             "colorbar": {
              "outlinewidth": 0,
              "ticks": ""
             }
            },
            "type": "scattercarpet"
           }
          ],
          "scattergeo": [
           {
            "marker": {
             "colorbar": {
              "outlinewidth": 0,
              "ticks": ""
             }
            },
            "type": "scattergeo"
           }
          ],
          "scattergl": [
           {
            "marker": {
             "colorbar": {
              "outlinewidth": 0,
              "ticks": ""
             }
            },
            "type": "scattergl"
           }
          ],
          "scattermapbox": [
           {
            "marker": {
             "colorbar": {
              "outlinewidth": 0,
              "ticks": ""
             }
            },
            "type": "scattermapbox"
           }
          ],
          "scatterpolar": [
           {
            "marker": {
             "colorbar": {
              "outlinewidth": 0,
              "ticks": ""
             }
            },
            "type": "scatterpolar"
           }
          ],
          "scatterpolargl": [
           {
            "marker": {
             "colorbar": {
              "outlinewidth": 0,
              "ticks": ""
             }
            },
            "type": "scatterpolargl"
           }
          ],
          "scatterternary": [
           {
            "marker": {
             "colorbar": {
              "outlinewidth": 0,
              "ticks": ""
             }
            },
            "type": "scatterternary"
           }
          ],
          "surface": [
           {
            "colorbar": {
             "outlinewidth": 0,
             "ticks": ""
            },
            "colorscale": [
             [
              0,
              "#0d0887"
             ],
             [
              0.1111111111111111,
              "#46039f"
             ],
             [
              0.2222222222222222,
              "#7201a8"
             ],
             [
              0.3333333333333333,
              "#9c179e"
             ],
             [
              0.4444444444444444,
              "#bd3786"
             ],
             [
              0.5555555555555556,
              "#d8576b"
             ],
             [
              0.6666666666666666,
              "#ed7953"
             ],
             [
              0.7777777777777778,
              "#fb9f3a"
             ],
             [
              0.8888888888888888,
              "#fdca26"
             ],
             [
              1,
              "#f0f921"
             ]
            ],
            "type": "surface"
           }
          ],
          "table": [
           {
            "cells": {
             "fill": {
              "color": "#EBF0F8"
             },
             "line": {
              "color": "white"
             }
            },
            "header": {
             "fill": {
              "color": "#C8D4E3"
             },
             "line": {
              "color": "white"
             }
            },
            "type": "table"
           }
          ]
         },
         "layout": {
          "annotationdefaults": {
           "arrowcolor": "#2a3f5f",
           "arrowhead": 0,
           "arrowwidth": 1
          },
          "autotypenumbers": "strict",
          "coloraxis": {
           "colorbar": {
            "outlinewidth": 0,
            "ticks": ""
           }
          },
          "colorscale": {
           "diverging": [
            [
             0,
             "#8e0152"
            ],
            [
             0.1,
             "#c51b7d"
            ],
            [
             0.2,
             "#de77ae"
            ],
            [
             0.3,
             "#f1b6da"
            ],
            [
             0.4,
             "#fde0ef"
            ],
            [
             0.5,
             "#f7f7f7"
            ],
            [
             0.6,
             "#e6f5d0"
            ],
            [
             0.7,
             "#b8e186"
            ],
            [
             0.8,
             "#7fbc41"
            ],
            [
             0.9,
             "#4d9221"
            ],
            [
             1,
             "#276419"
            ]
           ],
           "sequential": [
            [
             0,
             "#0d0887"
            ],
            [
             0.1111111111111111,
             "#46039f"
            ],
            [
             0.2222222222222222,
             "#7201a8"
            ],
            [
             0.3333333333333333,
             "#9c179e"
            ],
            [
             0.4444444444444444,
             "#bd3786"
            ],
            [
             0.5555555555555556,
             "#d8576b"
            ],
            [
             0.6666666666666666,
             "#ed7953"
            ],
            [
             0.7777777777777778,
             "#fb9f3a"
            ],
            [
             0.8888888888888888,
             "#fdca26"
            ],
            [
             1,
             "#f0f921"
            ]
           ],
           "sequentialminus": [
            [
             0,
             "#0d0887"
            ],
            [
             0.1111111111111111,
             "#46039f"
            ],
            [
             0.2222222222222222,
             "#7201a8"
            ],
            [
             0.3333333333333333,
             "#9c179e"
            ],
            [
             0.4444444444444444,
             "#bd3786"
            ],
            [
             0.5555555555555556,
             "#d8576b"
            ],
            [
             0.6666666666666666,
             "#ed7953"
            ],
            [
             0.7777777777777778,
             "#fb9f3a"
            ],
            [
             0.8888888888888888,
             "#fdca26"
            ],
            [
             1,
             "#f0f921"
            ]
           ]
          },
          "colorway": [
           "#636efa",
           "#EF553B",
           "#00cc96",
           "#ab63fa",
           "#FFA15A",
           "#19d3f3",
           "#FF6692",
           "#B6E880",
           "#FF97FF",
           "#FECB52"
          ],
          "font": {
           "color": "#2a3f5f"
          },
          "geo": {
           "bgcolor": "white",
           "lakecolor": "white",
           "landcolor": "#E5ECF6",
           "showlakes": true,
           "showland": true,
           "subunitcolor": "white"
          },
          "hoverlabel": {
           "align": "left"
          },
          "hovermode": "closest",
          "mapbox": {
           "style": "light"
          },
          "paper_bgcolor": "white",
          "plot_bgcolor": "#E5ECF6",
          "polar": {
           "angularaxis": {
            "gridcolor": "white",
            "linecolor": "white",
            "ticks": ""
           },
           "bgcolor": "#E5ECF6",
           "radialaxis": {
            "gridcolor": "white",
            "linecolor": "white",
            "ticks": ""
           }
          },
          "scene": {
           "xaxis": {
            "backgroundcolor": "#E5ECF6",
            "gridcolor": "white",
            "gridwidth": 2,
            "linecolor": "white",
            "showbackground": true,
            "ticks": "",
            "zerolinecolor": "white"
           },
           "yaxis": {
            "backgroundcolor": "#E5ECF6",
            "gridcolor": "white",
            "gridwidth": 2,
            "linecolor": "white",
            "showbackground": true,
            "ticks": "",
            "zerolinecolor": "white"
           },
           "zaxis": {
            "backgroundcolor": "#E5ECF6",
            "gridcolor": "white",
            "gridwidth": 2,
            "linecolor": "white",
            "showbackground": true,
            "ticks": "",
            "zerolinecolor": "white"
           }
          },
          "shapedefaults": {
           "line": {
            "color": "#2a3f5f"
           }
          },
          "ternary": {
           "aaxis": {
            "gridcolor": "white",
            "linecolor": "white",
            "ticks": ""
           },
           "baxis": {
            "gridcolor": "white",
            "linecolor": "white",
            "ticks": ""
           },
           "bgcolor": "#E5ECF6",
           "caxis": {
            "gridcolor": "white",
            "linecolor": "white",
            "ticks": ""
           }
          },
          "title": {
           "x": 0.05
          },
          "xaxis": {
           "automargin": true,
           "gridcolor": "white",
           "linecolor": "white",
           "ticks": "",
           "title": {
            "standoff": 15
           },
           "zerolinecolor": "white",
           "zerolinewidth": 2
          },
          "yaxis": {
           "automargin": true,
           "gridcolor": "white",
           "linecolor": "white",
           "ticks": "",
           "title": {
            "standoff": 15
           },
           "zerolinecolor": "white",
           "zerolinewidth": 2
          }
         }
        },
        "title": {
         "text": "Median Total Profit Results x Overall view of actions (across all the simulations)",
         "x": 0.5
        },
        "width": 1200,
        "xaxis": {
         "anchor": "y",
         "categoryorder": "category ascending",
         "domain": [
          0,
          0.94
         ],
         "matches": "x4",
         "showticklabels": false
        },
        "xaxis2": {
         "anchor": "y3",
         "domain": [
          0,
          0.94
         ],
         "matches": "x4",
         "showticklabels": false
        },
        "xaxis3": {
         "anchor": "y5",
         "domain": [
          0,
          0.94
         ],
         "matches": "x4",
         "showticklabels": false
        },
        "xaxis4": {
         "anchor": "y7",
         "domain": [
          0,
          0.94
         ]
        },
        "yaxis": {
         "anchor": "x",
         "domain": [
          0.84375,
          1
         ],
         "matches": "y7",
         "title": {
          "text": "Proportion of trades<br>across all the simulations"
         }
        },
        "yaxis2": {
         "anchor": "x",
         "overlaying": "y",
         "side": "right",
         "title": {
          "text": "CCY level with the<br>sim_id actions related"
         }
        },
        "yaxis3": {
         "anchor": "x2",
         "domain": [
          0.5625,
          0.71875
         ],
         "matches": "y7",
         "title": {
          "text": "Proportion of trades<br>across all the simulations"
         }
        },
        "yaxis4": {
         "anchor": "x2",
         "overlaying": "y3",
         "side": "right",
         "title": {
          "text": "CCY level with the<br>sim_id actions related"
         }
        },
        "yaxis5": {
         "anchor": "x3",
         "domain": [
          0.28125,
          0.4375
         ],
         "matches": "y7",
         "title": {
          "text": "Proportion of trades<br>across all the simulations"
         }
        },
        "yaxis6": {
         "anchor": "x3",
         "overlaying": "y5",
         "side": "right",
         "title": {
          "text": "CCY level with the<br>sim_id actions related"
         }
        },
        "yaxis7": {
         "anchor": "x4",
         "domain": [
          0,
          0.15625
         ],
         "title": {
          "text": "Proportion of trades<br>across all the simulations"
         }
        },
        "yaxis8": {
         "anchor": "x4",
         "overlaying": "y7",
         "side": "right",
         "title": {
          "text": "CCY level with the<br>sim_id actions related"
         }
        }
       }
      }
     },
     "metadata": {},
     "output_type": "display_data"
    }
   ],
   "source": [
    "plot_trader_robot_actions_all_sim_id_all_models(config_file_name_without_extension, \"\", median_sim_id_PPO, \"\", \"\")"
   ]
  },
  {
   "cell_type": "code",
   "execution_count": 35,
   "metadata": {},
   "outputs": [
    {
     "name": "stdout",
     "output_type": "stream",
     "text": [
      "mean_reward=-36.66 +/- 0.0\n"
     ]
    }
   ],
   "source": [
    "# Evaluate the loaded policy\n",
    "mean_reward, std_reward = evaluate_policy(saved_policy, env, n_eval_episodes=10, deterministic=True)\n",
    "\n",
    "print(f\"mean_reward={mean_reward:.2f} +/- {std_reward}\")"
   ]
  },
  {
   "cell_type": "code",
   "execution_count": null,
   "metadata": {},
   "outputs": [],
   "source": []
  }
 ],
 "metadata": {
  "kernelspec": {
   "display_name": "msc_uol_ai_dissertation",
   "language": "python",
   "name": "python3"
  },
  "language_info": {
   "codemirror_mode": {
    "name": "ipython",
    "version": 3
   },
   "file_extension": ".py",
   "mimetype": "text/x-python",
   "name": "python",
   "nbconvert_exporter": "python",
   "pygments_lexer": "ipython3",
   "version": "3.8.13"
  },
  "orig_nbformat": 4,
  "vscode": {
   "interpreter": {
    "hash": "0c0f2ae3d5d9aa27c4a2afc20f28a2482dc1006477ab22953abc78c31c7bb5b2"
   }
  }
 },
 "nbformat": 4,
 "nbformat_minor": 2
}
