{
 "cells": [
  {
   "cell_type": "code",
   "execution_count": 1,
   "metadata": {},
   "outputs": [],
   "source": [
    "import warnings\n",
    "warnings.filterwarnings('ignore')\n",
    "\n",
    "from configparser import ConfigParser\n",
    "\n",
    "from typing import Callable\n",
    "\n",
    "import gym\n",
    "import gym_anytrading\n",
    "\n",
    "from gym_anytrading.envs import CryptoEnvLogINFER\n",
    "\n",
    "from stable_baselines3.common.vec_env import DummyVecEnv, SubprocVecEnv\n",
    "from stable_baselines3 import A2C, PPO, DQN\n",
    "from stable_baselines3.common.evaluation import evaluate_policy\n",
    "from stable_baselines3.common.env_util import make_vec_env\n",
    "from stable_baselines3.common.utils import set_random_seed\n",
    "\n",
    "#from stable_baselines3.dqn.policies import MlpPolicy\n",
    "from stable_baselines3.ppo.policies import MlpPolicy\n",
    "\n",
    "import tensorflow as tf\n",
    "\n",
    "import numpy as np\n",
    "import pandas as pd\n",
    "import plotly.express as px\n",
    "import plotly.graph_objects as go\n",
    "from plotly.subplots import make_subplots\n",
    "import os\n",
    "import datetime\n",
    "\n",
    "import multiprocessing\n",
    "\n",
    "import quantstats as qs\n",
    "\n",
    "import sqlite3\n",
    "from sqlalchemy import create_engine"
   ]
  },
  {
   "cell_type": "code",
   "execution_count": 2,
   "metadata": {},
   "outputs": [
    {
     "name": "stdout",
     "output_type": "stream",
     "text": [
      "['../../simulations/config_files/config_14a_mix_infer_s.ini']\n"
     ]
    }
   ],
   "source": [
    "configur = ConfigParser()\n",
    "config_file_name = \"config_14a_mix_infer_s.ini\"\n",
    "print (configur.read(os.path.join('../../simulations/config_files', config_file_name)))"
   ]
  },
  {
   "cell_type": "code",
   "execution_count": 3,
   "metadata": {},
   "outputs": [],
   "source": [
    "config_file_name_without_extension = config_file_name.replace(\".ini\", \"\")\n",
    "\n",
    "ccy = configur.get('data', 'ccy')\n",
    "\n",
    "data_frequency_train = configur.get('data', 'data_frequency_train')\n",
    "data_frequency_val = configur.get('data', 'data_frequency_val')\n",
    "\n",
    "start_date_train = configur.get('environment', 'start_date')\n",
    "\n",
    "window_size = configur.getint('environment', 'window_size')\n",
    "list_features = configur.get('environment', 'features').split(',')\n",
    "target = configur.get('environment', 'target')"
   ]
  },
  {
   "cell_type": "code",
   "execution_count": 4,
   "metadata": {},
   "outputs": [],
   "source": [
    "# model_name = \"DQN\"\n",
    "# # the saved model does not contain the replay buffer\n",
    "# loaded_model = DQN.load(\"../../simulations/save_models_components/model/model_DQN_\"+ config_file_name_without_extension + \".zip\")\n",
    "# print(f\"The loaded_model has {loaded_model.replay_buffer.size()} transitions in its buffer\")\n",
    "\n",
    "# # load it into the loaded_model\n",
    "# loaded_model.load_replay_buffer(\"../../simulations/save_models_components/replay_buffer/replay_buffer_DQN_\" + config_file_name_without_extension + \".pkl\")\n",
    "\n",
    "# # now the loaded replay is not empty anymore\n",
    "# print(f\"The loaded_model has {loaded_model.replay_buffer.size()} transitions in its buffer\")\n",
    "\n",
    "# saved_policy = MlpPolicy.load(\"../../simulations/save_models_components/policy/policy_DQN_\" + config_file_name_without_extension)"
   ]
  },
  {
   "cell_type": "code",
   "execution_count": 5,
   "metadata": {},
   "outputs": [],
   "source": [
    "model_name = \"PPO\"\n",
    "# the saved model does not contain the replay buffer\n",
    "loaded_model = PPO.load(\"../../simulations/save_models_components/model/model_PPO_\"+ config_file_name_without_extension + \".zip\")\n",
    "\n",
    "saved_policy = MlpPolicy.load(\"../../simulations/save_models_components/policy/policy_PPO_\" + config_file_name_without_extension)"
   ]
  },
  {
   "cell_type": "code",
   "execution_count": 6,
   "metadata": {},
   "outputs": [],
   "source": [
    "mid_date='2023-01-01 00:00:00'\n",
    "end_date='2023-02-14 00:00:00'"
   ]
  },
  {
   "cell_type": "code",
   "execution_count": 7,
   "metadata": {},
   "outputs": [],
   "source": [
    "def get_and_process_data(ccy, data_frequency, start_date, end_date):\n",
    "    try:\n",
    "        \n",
    "        # Get the data\n",
    "        db_address = 'sqlite:///../../data/db/crypto.db'\n",
    "        engine = create_engine(db_address, echo=False)\n",
    "        sqlite_connection = engine.connect()\n",
    "\n",
    "        input_tbl_name = \"tbl_all_features\" + \"_\" + ccy + \"_\" + data_frequency\n",
    "        \n",
    "        sql_command = \"SELECT * FROM \" + input_tbl_name\n",
    "\n",
    "        if(start_date!=\"\" and end_date!=\"\"):\n",
    "            \n",
    "            sd = datetime.datetime.strptime(start_date,'%d %b, %Y').strftime('%Y-%m-%d')\n",
    "            ed = datetime.datetime.strptime(end_date,'%d %b, %Y').strftime('%Y-%m-%d')\n",
    "\n",
    "            sql_append = \" WHERE \" + \"date(date) >= \" + \"'\" + sd + \"'\" + \" AND date(date) <= \" + \"'\" + ed + \"'\"\n",
    "            sql_command = sql_command + sql_append\n",
    "\n",
    "        df = pd.read_sql(sql_command, sqlite_connection)\n",
    "\n",
    "        sqlite_connection.close()\n",
    "\n",
    "        # Converting Date Column to DateTime Type\n",
    "        # Set the index on the dataframe\n",
    "        df['date_index'] = df['date']\n",
    "        df.set_index('date_index', inplace=True)\n",
    "\n",
    "        return df\n",
    "\n",
    "    except Exception as e:\n",
    "        print(e)"
   ]
  },
  {
   "cell_type": "code",
   "execution_count": 8,
   "metadata": {},
   "outputs": [],
   "source": [
    "def standardize_data(df, list_columns):\n",
    "    for col in list_columns:\n",
    "        df[col] = (df[col] - df[col].mean()) / df[col].std()\n",
    "    return df"
   ]
  },
  {
   "cell_type": "code",
   "execution_count": 9,
   "metadata": {},
   "outputs": [],
   "source": [
    "# Format the data\n",
    "start_date_temp = datetime.datetime.strptime(mid_date,'%Y-%m-%d %H:%M:%S')\n",
    "start_date_temp2 = start_date_temp + datetime.timedelta(days=-(window_size+1))\n",
    "start_date_db = start_date_temp2.strftime('%d %b, %Y')\n",
    "end_date_db = datetime.datetime.strptime(end_date,'%Y-%m-%d %H:%M:%S').strftime('%d %b, %Y')"
   ]
  },
  {
   "cell_type": "code",
   "execution_count": 10,
   "metadata": {},
   "outputs": [],
   "source": [
    "df_val = get_and_process_data(ccy, data_frequency_val, start_date_db, end_date_db)\n",
    "df_val = standardize_data(df_val, list_features)"
   ]
  },
  {
   "cell_type": "code",
   "execution_count": 11,
   "metadata": {},
   "outputs": [],
   "source": [
    "mid_date_id_val = int(df_val.index.get_loc(datetime.datetime.strptime(mid_date,'%Y-%m-%d %H:%M:%S').strftime('%Y-%m-%d %H:%M:%S.%f')))\n",
    "end_date_id_val = int(df_val.index.get_loc(datetime.datetime.strptime(end_date,'%Y-%m-%d %H:%M:%S').strftime('%Y-%m-%d %H:%M:%S.%f')))"
   ]
  },
  {
   "cell_type": "code",
   "execution_count": 12,
   "metadata": {},
   "outputs": [],
   "source": [
    "def my_process_data(env):\n",
    "    start = env.frame_bound[0] - env.window_size\n",
    "    end = env.frame_bound[1]\n",
    "    prices = env.df.loc[:, target].to_numpy()[start:end]\n",
    "    signal_features = env.df.loc[:, list_features].to_numpy()[start:end]\n",
    "    dates = env.df.index.to_numpy()[start:end]\n",
    "    return prices, signal_features, dates\n",
    "\n",
    "class MyEnv(CryptoEnvLogINFER):\n",
    "    _process_data = my_process_data"
   ]
  },
  {
   "cell_type": "code",
   "execution_count": 13,
   "metadata": {},
   "outputs": [],
   "source": [
    "env = MyEnv(df=df_val, frame_bound=(mid_date_id_val,end_date_id_val), window_size=window_size)"
   ]
  },
  {
   "cell_type": "code",
   "execution_count": 14,
   "metadata": {},
   "outputs": [],
   "source": [
    "num_of_simulations=1000"
   ]
  },
  {
   "cell_type": "code",
   "execution_count": 15,
   "metadata": {},
   "outputs": [],
   "source": [
    "df_sim_results = pd.DataFrame()\n",
    "df_robot_actions_and_env_final = pd.DataFrame()\n",
    "\n",
    "df_sim_results_temp = pd.DataFrame(columns=['total_reward_cash', 'total_profit_percentage', 'fmt_total_profit_percentage', 'num_of_trades'])\n",
    "df_robot_actions_and_env_temp = pd.DataFrame(columns=['dates', 'prices', 'actions', 'total_reward_cash', 'total_profit_percentage', 'fmt_total_profit_percentage', 'num_of_trades', 'sim_id'])\n",
    "\n",
    "list_sim_id = []\n",
    "\n",
    "sim_id = 1\n",
    "for i in range(num_of_simulations):   \n",
    "\n",
    "    #Setting up the Agent Environment\n",
    "    obs = env.reset()\n",
    "\n",
    "    list_sim_id.append(sim_id)\n",
    "\n",
    "    while True: \n",
    "        obs = obs[np.newaxis, ...]\n",
    "\n",
    "        action, _states = loaded_model.predict(obs)\n",
    "        \n",
    "        obs, rewards, done, info = env.step(action)\n",
    "        \n",
    "        if done:\n",
    "            df_sim_results_temp = df_sim_results_temp.append(info, ignore_index=True, sort=False)\n",
    "            break\n",
    "\n",
    "    # Export robot actions plot and data\n",
    "    fig, df_robot_actions = env.render_all()\n",
    "    # fig.write_html(os.path.join('results', 'plots', 'robot_actions', 'robot_actions_' + config_file_name_without_extension + '_sim_id_' + str(sim_id) + '.html'))\n",
    "\n",
    "    # Export the history of details (the info dict inside of the environment)\n",
    "    df_sim_env_data = pd.DataFrame.from_dict(env.history)\n",
    "\n",
    "    # Merge robot actions data + sim env data\n",
    "    df_sim_env_data_initial = pd.DataFrame(columns=['total_reward_cash', 'total_profit_percentage', 'fmt_total_profit_percentage', 'num_of_trades'])\n",
    "    for i in range(0, window_size + 1):\n",
    "        df_sim_env_data_initial = df_sim_env_data_initial.append(pd.Series([0, 0, 0, 0], index=df_sim_env_data_initial.columns), ignore_index=True)\n",
    "    \n",
    "    df_sim_env_data_temp = df_sim_env_data_initial.append(df_sim_env_data, ignore_index=True)\n",
    "    \n",
    "    df_robot_actions_and_env_temp = pd.merge(df_robot_actions, df_sim_env_data_temp, left_index=True, right_index=True, how = \"outer\")\n",
    "    df_robot_actions_and_env_temp['sim_id'] = sim_id\n",
    "\n",
    "    df_robot_actions_and_env_final = pd.concat([df_robot_actions_and_env_final, df_robot_actions_and_env_temp], axis=0)\n",
    "\n",
    "    sim_id = sim_id + 1\n",
    "\n",
    "df_sim_results_temp['sim_id'] = list_sim_id\n",
    "df_sim_results_temp['ccy'] = ccy\n",
    "df_sim_results_temp['data_frequency_train'] = data_frequency_train\n",
    "df_sim_results_temp['data_frequency_val'] = data_frequency_val\n",
    "df_sim_results_temp['window_size'] = window_size\n",
    "df_sim_results_temp['start_date'] = start_date_train\n",
    "df_sim_results_temp['mid_date'] = mid_date\n",
    "df_sim_results_temp['end_date'] = end_date\n",
    "df_sim_results_temp['target'] = target\n",
    "df_sim_results_temp['list_features'] = str(list_features)\n",
    "df_sim_results_temp['model_type'] = model_name \n",
    "df_sim_results_temp['num_of_simulations'] = num_of_simulations   \n",
    "\n",
    "df_sim_results = pd.concat([df_sim_results, df_sim_results_temp], axis=0)"
   ]
  },
  {
   "cell_type": "code",
   "execution_count": 16,
   "metadata": {},
   "outputs": [],
   "source": [
    "df_sim_results = df_sim_results.reset_index(drop=True)\n",
    "df_sim_results = df_sim_results.drop_duplicates()\n",
    "\n",
    "## SIMULATION RESULTS\n",
    "\n",
    "# Format data type\n",
    "df_sim_results['start_date'] = pd.to_datetime(df_sim_results['start_date'])\n",
    "df_sim_results['mid_date'] = pd.to_datetime(df_sim_results['mid_date'])\n",
    "df_sim_results['end_date'] = pd.to_datetime(df_sim_results['end_date'])\n",
    "\n",
    "# Write to the db\n",
    "db_address = 'sqlite:///../results/data/db/trader.db'\n",
    "engine = create_engine(db_address, echo=False)\n",
    "sqlite_connection = engine.connect()\n",
    "\n",
    "output_tbl_name = \"tbl_trader_bernardo_simulation_results_\" + config_file_name_without_extension\n",
    "\n",
    "df_sim_results.to_sql(output_tbl_name, sqlite_connection, if_exists='replace', index=False)\n",
    "\n",
    "sqlite_connection.close()\n",
    "\n",
    "## ROBOT ACTIONS and ENV RESULTS\n",
    "\n",
    "# Format data type\n",
    "df_robot_actions_and_env_final['dates'] = pd.to_datetime(df_robot_actions_and_env_final['dates'])\n",
    "df_robot_actions_and_env_final['total_reward_cash'] = df_robot_actions_and_env_final['total_reward_cash'].astype(float)\n",
    "df_robot_actions_and_env_final['total_profit_percentage'] = df_robot_actions_and_env_final['total_profit_percentage'].astype(float)\n",
    "df_robot_actions_and_env_final['fmt_total_profit_percentage'] = df_robot_actions_and_env_final['fmt_total_profit_percentage'].astype(float)\n",
    "df_robot_actions_and_env_final['num_of_trades'] = df_robot_actions_and_env_final['num_of_trades'].astype(float)\n",
    "\n",
    "# Write to the db\n",
    "db_address = 'sqlite:///../results/data/db/trader.db'\n",
    "engine = create_engine(db_address, echo=False)\n",
    "sqlite_connection = engine.connect()\n",
    "\n",
    "output_tbl_name = \"tbl_trader_bernardo_robot_actions_and_env_\" + config_file_name_without_extension\n",
    "\n",
    "df_robot_actions_and_env_final.to_sql(output_tbl_name, sqlite_connection, if_exists='replace', index=False)\n",
    "\n",
    "sqlite_connection.close()"
   ]
  },
  {
   "attachments": {},
   "cell_type": "markdown",
   "metadata": {},
   "source": [
    "## Get Data"
   ]
  },
  {
   "cell_type": "code",
   "execution_count": 17,
   "metadata": {},
   "outputs": [],
   "source": [
    "def get_and_process_trader_data(config_file_name_without_extension):\n",
    "    try:\n",
    "        \n",
    "        # Get the data\n",
    "        db_address = 'sqlite:///../results/data/db/trader.db'\n",
    "        engine = create_engine(db_address, echo=False)\n",
    "        sqlite_connection = engine.connect()\n",
    "\n",
    "        input_tbl_name = \"tbl_trader_bernardo_simulation_results\" + \"_\" + config_file_name_without_extension\n",
    "        \n",
    "        sql_command = \"SELECT * FROM \" + input_tbl_name\n",
    "\n",
    "        df = pd.read_sql(sql_command, sqlite_connection)\n",
    "\n",
    "        sqlite_connection.close()\n",
    "\n",
    "        return df\n",
    "\n",
    "    except Exception as e:\n",
    "        print(e)"
   ]
  },
  {
   "cell_type": "code",
   "execution_count": 18,
   "metadata": {},
   "outputs": [],
   "source": [
    "df_trader_results = get_and_process_trader_data(config_file_name_without_extension)"
   ]
  },
  {
   "cell_type": "code",
   "execution_count": 19,
   "metadata": {},
   "outputs": [
    {
     "data": {
      "application/vnd.plotly.v1+json": {
       "config": {
        "plotlyServerURL": "https://plot.ly"
       },
       "data": [
        {
         "alignmentgroup": "True",
         "boxpoints": "all",
         "hovertemplate": "model_type=PPO<br>fmt_total_profit_percentage=%{y}<extra></extra>",
         "legendgroup": "PPO",
         "marker": {
          "color": "#FF7F0E"
         },
         "name": "PPO",
         "notched": false,
         "offsetgroup": "PPO",
         "orientation": "v",
         "showlegend": true,
         "type": "box",
         "x0": " ",
         "xaxis": "x",
         "y": [
          13.466408282733177,
          16.772738941511278,
          8.038035790606779,
          7.389703830905647,
          -0.45883809228269845,
          21.345467227409443,
          16.51625669304664,
          24.198626827184277,
          5.6622794062661574,
          7.537253021428159,
          33.428013841459745,
          27.303175856673413,
          23.646039930170893,
          17.816239080111963,
          17.95320712322137,
          14.96390972836239,
          10.71763810792219,
          28.027356599548625,
          36.08934102882746,
          29.276382480982388,
          31.69250683255742,
          23.68553457528215,
          17.81190092081546,
          9.256323787984332,
          16.260323210957562,
          18.185937866938207,
          18.374754843459364,
          14.570318324628474,
          5.082034013445935,
          23.85927111290924,
          27.840294086379558,
          13.811194800700655,
          17.263730603775972,
          24.63938997159363,
          11.96052739107727,
          21.48736571206573,
          8.825032365699137,
          16.397777691603,
          24.46517266824184,
          27.95346390968334,
          23.555562016121414,
          7.301055800238854,
          17.444230008943972,
          14.87987506774122,
          32.764308869125294,
          5.471810251230247,
          24.983376309088957,
          -4.887162907128262,
          21.843201715037154,
          9.205104871630642,
          22.7556881143254,
          40.00318494572133,
          7.8153141096800605,
          20.250917775142717,
          -5.095235386617947,
          31.78992261924247,
          21.677710633163905,
          14.480805375294171,
          9.254539045232768,
          23.91802189016634,
          12.676821127619743,
          32.31670463885439,
          28.731167873462617,
          36.649132701063266,
          10.42821968556835,
          20.015038518806392,
          -3.0935850606994997,
          3.0736110310081166,
          2.983700599933403,
          32.04591281182025,
          14.308664252470571,
          -12.3777999112472,
          15.268050551496803,
          37.26064356429302,
          15.324354132437158,
          -5.095503010341251,
          25.154682146321793,
          18.766263978674157,
          34.99542983887758,
          19.251892654723225,
          23.548240315314928,
          8.57417856505569,
          39.99140012948166,
          15.458184856516088,
          24.93397846029626,
          12.611995555771172,
          38.71377995190406,
          -0.47118863839885616,
          19.22529252333238,
          10.823634730308186,
          15.927831742942455,
          4.504386794762771,
          36.157869875251556,
          11.677289844108497,
          18.502365939194966,
          35.45749213325129,
          26.264352465725914,
          19.162985502593077,
          43.08517079425658,
          10.717869515301825,
          9.474355615182773,
          21.295328074388653,
          1.6240062460639804,
          7.301055800238854,
          40.78811441573657,
          18.21611428934855,
          -3.228563514703031,
          15.590594308166628,
          5.3848098720431725,
          17.589096389797444,
          20.16082900531655,
          14.116473676513808,
          15.801728024314809,
          27.252606194661098,
          30.129130643060154,
          27.2492060068789,
          9.268044120173546,
          27.704016171040237,
          34.84054336477218,
          4.196326234150605,
          19.999532000420395,
          23.043718986661776,
          37.007654853762716,
          0.1928614655177796,
          20.011742106198472,
          9.01196478396804,
          14.351804719274753,
          9.873025534615243,
          11.926681142350514,
          20.16972899277796,
          12.629329413008028,
          19.241311456827614,
          31.138297925349278,
          22.7556881143254,
          13.06605753361647,
          12.415726082612766,
          12.469345100122165,
          27.067571483752072,
          11.813494698445348,
          13.862960071890473,
          12.254301759795961,
          21.860552333676033,
          13.32550103664647,
          10.725885235087329,
          31.504999923993736,
          12.128733914061263,
          4.468321122667174,
          4.2130465158410235,
          33.720523892242895,
          11.98638120557749,
          20.218228922205796,
          16.102037449209238,
          23.15255098859994,
          20.930029523102856,
          11.289341177124367,
          15.541833537260885,
          22.643524751346543,
          0.946421540542719,
          3.3292249857255207,
          39.33228064979835,
          7.208106790457003,
          20.169728992777934,
          14.48504853075525,
          27.981957626731035,
          11.458046858164028,
          24.130803909059907,
          27.860917884772295,
          9.102140481983367,
          33.222496500603846,
          22.34042553191491,
          17.866503270459667,
          -3.730970584721849,
          24.75444875570616,
          -7.983741243184939,
          19.196508963752933,
          21.71877404819904,
          -8.319158151304274,
          35.32992965598909,
          4.337926060171671,
          25.217579618842258,
          20.757558964824717,
          10.296621222043022,
          15.38454938536149,
          13.064554944005224,
          25.38611957130219,
          28.69876389270565,
          7.974469164480769,
          2.2066670258487298,
          30.456241430089072,
          12.319978568462076,
          8.106393776169195,
          15.083540168087438,
          18.816244074163045,
          6.454503694971159,
          47.31180595573563,
          13.811194800700655,
          25.640330113539058,
          7.876635031698864,
          12.812922253191218,
          7.869913946349416,
          11.503698792755724,
          3.3287924990145212,
          10.339148896338756,
          4.030323234912725,
          13.695466428576397,
          26.293186186132566,
          36.602319895346966,
          24.86057576148484,
          -3.046582560600264,
          8.084654467796337,
          14.506185623934243,
          16.658984090903296,
          30.31084221853515,
          33.732426665660455,
          14.895798261314063,
          26.354007796098976,
          3.0533126255723353,
          9.766435770075056,
          30.70195163933016,
          14.837092455031398,
          10.422704773438806,
          36.51022578536001,
          8.243451172769367,
          13.59920962771457,
          25.91755774180595,
          22.362612857528298,
          37.72849995265612,
          26.706279132723232,
          30.24706248054867,
          22.287805352633615,
          24.584841937791357,
          8.573645862332246,
          20.178002711542177,
          25.186334206158346,
          12.715391508933283,
          -1.1999904524336635,
          14.643925583859584,
          33.579183078632994,
          17.695543491063038,
          16.65858160058582,
          29.28762886670939,
          13.50432959883683,
          -7.594363361775002,
          15.181054696971419,
          18.69168844956366,
          22.7870545091138,
          11.066869609706265,
          15.963313312408722,
          9.609291668408094,
          25.658508189482475,
          2.034000922892165,
          -4.1277294173405865,
          35.14504197900972,
          21.14319219239713,
          3.2627863776290233,
          -6.385631913114709,
          21.153343806570856,
          29.700305869563138,
          16.369517273621348,
          13.74989868054488,
          26.524626311820466,
          12.201983896124924,
          27.38736635491623,
          8.269130438234118,
          1.0074616514291979,
          20.60081611507405,
          47.31180595573563,
          20.34262107127809,
          -5.143540223362486,
          8.860195674698312,
          34.70104398858997,
          21.789695730621062,
          11.33460803868116,
          11.206139971636508,
          7.877540282438433,
          23.625734872867675,
          23.021830116731422,
          26.654858137872516,
          8.806733338895567,
          13.590796264800442,
          20.430480008143938,
          16.630679356761526,
          23.480539008421108,
          8.019208831374392,
          6.1123792431234,
          22.065855836576965,
          -2.9662054552695327,
          9.982686039383104,
          27.197428104601308,
          16.814587329089402,
          7.301055800238854,
          14.541160218292415,
          12.893347272910738,
          29.96096863254307,
          19.681444721461006,
          14.526642634117891,
          11.906378283906927,
          7.301055800238854,
          23.210861849221033,
          15.864720531802746,
          0.7351810329729203,
          15.167814145607617,
          37.38875560743038,
          21.39081551135529,
          8.947633158035039,
          -8.213037542447243,
          23.867744056938477,
          20.491468417747562,
          23.48985481166963,
          12.411361734611237,
          8.158722154335884,
          9.58202379415889,
          17.617529525808216,
          16.451260994935456,
          26.943694335168324,
          10.675044065350203,
          13.048931046381117,
          20.980619269992353,
          5.704777348923229,
          36.40950347504472,
          14.241492178909887,
          38.766523298686906,
          37.454378273386446,
          18.65963598103717,
          22.65215028642611,
          -3.610394958863239,
          -1.2561677056789344,
          24.848076941219198,
          -3.5513424984464192,
          21.71732663677539,
          9.76927813163433,
          23.347000600922097,
          14.969012645059498,
          -13.515936802053119,
          24.925199400739718,
          13.266507952425922,
          21.05244470440406,
          23.564014184070192,
          23.78612653565655,
          29.619645382486624,
          5.7018072092196,
          4.91718203241569,
          34.63496156224159,
          17.11823467357867,
          18.70312137514354,
          2.828694572514334,
          15.078796500859127,
          19.38407378786384,
          1.389347294444998,
          12.214495700677874,
          33.328063882531936,
          21.439520193988294,
          13.155419907346388,
          8.6198313919869,
          23.335543504682988,
          10.160474607685321,
          12.487816576852651,
          4.919599374426853,
          8.434639377599273,
          25.820181473229752,
          17.273810245328058,
          16.51625669304664,
          21.515876734893435,
          0.9007905052656362,
          33.51455600216513,
          33.1105010218526,
          27.67449417215002,
          -1.5996651078414192,
          31.104781691240845,
          35.413101666053,
          13.144721575901919,
          40.128278205037574,
          16.167854392420832,
          29.175480555985157,
          14.685392784616248,
          9.159649447763574,
          11.42306636223427,
          10.138772455262647,
          13.295874089833104,
          17.416219162156832,
          30.741367869460777,
          32.97204784945353,
          30.853580699990268,
          21.987409230526556,
          15.195432492638773,
          14.946495767219382,
          29.23353600898009,
          19.867191005975116,
          18.1241237662775,
          16.70730718038287,
          17.05795696413588,
          21.841220302138353,
          33.222496500603846,
          10.756473747080818,
          15.902247660823177,
          16.839347367829728,
          21.345467227409443,
          -3.9172422622374747,
          5.355190559423084,
          17.800459143284098,
          19.16939471218764,
          16.43612101267342,
          24.78888521553264,
          21.517852856972407,
          4.061584183433653,
          13.09919431324873,
          11.54913104302251,
          36.299280943044245,
          15.281941323577986,
          33.78731737953753,
          22.882273400098676,
          22.04038839758833,
          2.918353870839341,
          16.260323210957562,
          17.40034215213353,
          17.307692307692292,
          0.8545694202435339,
          16.12541188845411,
          28.72552958371073,
          29.793674223176623,
          27.614612920869885,
          24.92465355471911,
          13.255366971985637,
          14.146205610248197,
          -1.4945057947306717,
          37.21662507376815,
          13.745774581182712,
          13.59920962771457,
          26.706279132723232,
          26.417913518860804,
          -9.05409300339196,
          1.1013020787155048,
          21.575651568934017,
          18.582552584080126,
          8.554134300457527,
          22.950259551295993,
          11.250109948057908,
          35.77755904276163,
          7.35624919851936,
          13.277556236398258,
          12.863791152308268,
          30.70101133256764,
          2.9084392409426174,
          3.825812495316705,
          16.581791734632656,
          35.70371399704169,
          -17.937062149385486,
          15.521471496665473,
          22.313700537354777,
          14.464628582054884,
          25.445389904582427,
          20.9527528304815,
          28.888453289777406,
          16.348211168046944,
          5.664343715630626,
          35.16206232156536,
          39.515318735309336,
          4.184712709764504,
          42.07817343102123,
          11.241048547682109,
          30.22161380511539,
          24.117548412901435,
          9.102140481983367,
          23.651530680835698,
          21.515876734893435,
          16.488852949524713,
          -1.898182524719838,
          17.23593752929249,
          28.208752677149242,
          32.176172529618505,
          -0.5677028159085773,
          5.785983201382927,
          29.718490896644113,
          3.7240798849864643,
          13.081348113152558,
          20.664075823942408,
          18.751570794430663,
          13.50729321454578,
          23.843658205870245,
          12.541799438734525,
          26.42297717351818,
          11.160900494461213,
          30.453323965415315,
          34.41549550029164,
          38.176790191032865,
          47.120293230403895,
          -2.3661093236588715,
          0.1355724085482679,
          24.52429554020876,
          21.17686696222043,
          18.451610318639354,
          -2.9798248540682026,
          19.84616843899851,
          15.856910658045308,
          17.172080517343424,
          9.62928595721353,
          15.06364739209587,
          7.782255931570581,
          14.841515052004194,
          8.600759895276111,
          12.732821248676718,
          17.81972153114031,
          17.75049881948556,
          13.550564766152373,
          33.816512517537504,
          -0.43810408740984075,
          17.207536375608345,
          8.05914922045108,
          23.98840060445884,
          10.980562365004864,
          13.849247481825145,
          28.217420190555377,
          11.241533528144455,
          21.515876734893435,
          32.87474563481647,
          13.793733268376851,
          27.42713833929413,
          11.270191002124452,
          13.226435481067988,
          14.670695750303553,
          13.999269016516159,
          28.391625962781553,
          16.67987289170465,
          30.147021661390095,
          4.973401778891673,
          11.70979509373491,
          16.282374895593566,
          7.241618775505709,
          38.547602889453444,
          6.018858650970449,
          22.902985972328604,
          7.4909108506932665,
          26.486548890992488,
          28.621327483842585,
          29.00314943462825,
          6.652112920539177,
          32.73788057753024,
          44.34565631987357,
          23.78612653565655,
          15.281941323577986,
          17.496862640783274,
          18.101491655831147,
          20.6983319927466,
          11.558355892512706,
          17.170754550080638,
          9.087565487508087,
          8.814470490773774,
          13.201671466387289,
          31.232579622903533,
          15.635412650891656,
          10.32146956304716,
          13.396714428874535,
          18.677977229757015,
          29.63979629652995,
          34.06463054757505,
          20.79010793141616,
          23.388668436319236,
          18.16277397202488,
          33.52337394546679,
          13.382208535098794,
          21.233847672552407,
          4.242668564815988,
          8.806491252080594,
          39.71513306828713,
          -2.6560238201750352,
          14.000755325160918,
          24.960702173294848,
          12.854119086260084,
          15.087138896911956,
          -5.135782399497746,
          27.651008667780875,
          5.552789556552895,
          17.559652375708556,
          19.58179767860273,
          11.066026226278392,
          13.68820059704976,
          15.23103251781064,
          22.5820470992822,
          3.7813611044111406,
          10.695875797877719,
          4.908510519218323,
          27.179196991323963,
          -2.762080305532666,
          0.7751870158326568,
          2.7876219970250693,
          10.042522523733455,
          8.985323394630672,
          17.04287565556635,
          13.209940117969321,
          4.615376709035779,
          18.62273729173061,
          7.406770970604426,
          9.756103615955514,
          15.346210998926079,
          -4.878581909027724,
          22.34042553191491,
          19.53600707020886,
          19.06620830414283,
          7.36608685589768,
          22.957054512372956,
          23.886366585691967,
          24.78888521553264,
          22.004301346880673,
          37.66499131490166,
          19.809421377463643,
          8.961696944630582,
          26.36605300980779,
          25.33997532071901,
          29.990993413647658,
          4.344277813369635,
          5.43030351798266,
          7.071955097063776,
          2.698849893338484,
          14.20145753018398,
          20.787645736248383,
          -1.5983597305332942,
          22.724254702020396,
          25.374223156077626,
          28.223602350601595,
          4.167846658218832,
          29.63486786324181,
          17.222340020004843,
          24.542722312219013,
          11.619133689936302,
          13.376303432544079,
          28.49420466744259,
          16.70540928734838,
          31.186781512970253,
          16.073167053041495,
          25.962480273790554,
          20.23303619261265,
          28.20545352060604,
          27.980962481056526,
          9.414504607815367,
          21.027998631190936,
          14.387269741664888,
          17.437843667488508,
          11.965438785813198,
          15.281941323577986,
          26.79939979596757,
          0.4722330216954118,
          20.564837301160633,
          23.934687505101216,
          37.90042651387253,
          34.84300357245746,
          10.319011268795443,
          29.63979629652995,
          7.753698040035184,
          12.264131115527865,
          27.108942325992746,
          -5.987717724101871,
          25.523924374798025,
          28.698523504013096,
          13.811194800700655,
          33.87202453299445,
          13.863509380445205,
          30.456241430089072,
          24.166623452090775,
          7.3073477040312085,
          10.188726346481957,
          15.061908682554126,
          8.870176995200673,
          5.437392856940915,
          19.583519783493664,
          36.69613980852677,
          25.12299185377145,
          31.79493298298477,
          11.676756596673844,
          17.971993616569513,
          16.841704819214122,
          -2.6936674117566284,
          15.383350157187703,
          10.527710604065899,
          13.811194800700655,
          -4.013646815408456,
          28.519097935128656,
          5.691140023208163,
          6.315036252742923,
          13.65603962606392,
          26.900370048550016,
          4.599185088253344,
          8.139433431424026,
          -5.615374110420401,
          9.519069496651067,
          9.330697795104136,
          29.98689064269535,
          17.305512383666066,
          38.025278890164074,
          18.405704906985832,
          40.40108252677052,
          14.339383212168677,
          17.017873429438723,
          6.440992740724494,
          18.498565892543883,
          19.384864148324297,
          28.700544640964075,
          43.21490507971832,
          19.486150222121502,
          29.251762145743832,
          29.970038279605603,
          16.38753433154825,
          25.023503116012403,
          12.908094023725347,
          18.908714865261935,
          22.128798751375722,
          20.6178230396735,
          13.185304982344693,
          13.59920962771457,
          17.585369742948508,
          15.159078815546124,
          23.073436601706266,
          24.663476659298468,
          18.91612374872316,
          22.487163347004156,
          7.072921623137218,
          30.33267903912964,
          29.822059172676596,
          20.575561359193493,
          8.870176995200673,
          9.913295714152248,
          11.39877846665236,
          17.33831764701499,
          15.053710670049414,
          19.838033090157946,
          16.45264942885958,
          28.362499681299603,
          20.23351658184984,
          35.15225982554328,
          22.811955491599335,
          14.116473676513808,
          3.246141087573595,
          39.39008080892348,
          40.06935940978724,
          -6.602077828695851,
          32.97204784945356,
          -4.248265499735826,
          13.012316686761283,
          3.3412409359025563,
          19.11241103406125,
          16.83215300196874,
          19.903015661526258,
          17.835605906882467,
          35.202767876602145,
          29.93254456954535,
          10.601022898145175,
          4.290173805925512,
          46.0281907489035,
          4.2380107636853515,
          13.3416721804279,
          12.615454626594547,
          16.81380769432956,
          29.463144559367738,
          3.4548617019462657,
          43.189072373108004,
          16.34747826437608,
          17.337348816468534,
          28.87622604298141,
          12.785618944166277,
          13.76382214255829,
          23.357722520372803,
          17.89350348939105,
          16.391717239015314,
          28.2944803201606,
          37.62545108320718,
          38.75013621454286,
          35.07554424381243,
          34.66369771146156,
          0.00041986257699466734,
          26.792848256963907,
          9.466545561134643,
          8.958404565793243,
          15.217566892217317,
          18.18329480981129,
          10.651764761986882,
          26.05600170214373,
          21.96091787208383,
          28.613390416420437,
          2.0583160379572307,
          8.072519121786748,
          12.957860610527705,
          10.14549820533821,
          11.206139971636508,
          -2.296097930716068,
          22.101638335131433,
          8.291359044022961,
          16.090931523398755,
          7.834285996096968,
          19.22982335488248,
          12.541103389231022,
          9.905536515248237,
          19.43661593568866,
          20.980619269992328,
          22.9959763191006,
          40.40918765082955,
          20.157285751645393,
          27.34339084460702,
          20.540098199672684,
          1.0890787235796173,
          14.423383405993206,
          28.915632401924075,
          10.486213748718454,
          22.21532004022324,
          19.9167063418213,
          7.569851990652232,
          27.189731351509927,
          8.888058508178332,
          38.39598535108413,
          23.004933462919897,
          18.451006519278867,
          15.69624464978141,
          24.86058621833984,
          12.398887195647479,
          29.033036767491872,
          15.55138830618985,
          21.06842920579739,
          14.223893001774602,
          19.681444721461006,
          15.33583420447222,
          11.110504709077084,
          25.472582281386448,
          22.454466997083735,
          14.697641732679623,
          13.40258409986852,
          17.48581967402183,
          20.263645485458227,
          16.260323210957562,
          31.225351723339955,
          36.08934102882746,
          7.113935079376743,
          1.0200095858501568,
          31.66203257834248,
          21.515876734893435,
          7.738277916202163,
          21.2179137577426,
          17.91517274929828,
          23.742605815941698,
          19.49285745747744,
          24.699721066777514,
          9.474355615182773,
          -5.143540223362486,
          8.103976133430212,
          14.090202489754923,
          3.9345706513864043,
          33.87202453299445,
          11.206139971636508,
          11.64319540517964,
          9.101182636106309,
          9.775863226597625,
          30.233222959268513,
          28.10661623199442,
          27.868485756821993,
          14.073076990960875,
          -4.116335623925982,
          13.158580381200903,
          24.121882478301714,
          15.867033394493003,
          27.223223787941887,
          41.33283531356109,
          24.117548412901435,
          17.10356389065022,
          10.897077711316804,
          8.212863334475774,
          10.35870050919483,
          16.71281007026939,
          3.1157692869648868,
          12.291735580138297,
          18.211792240486457,
          42.81986810070861,
          17.017873429438723,
          17.663771036529607,
          23.531715513369743,
          25.316014393066098,
          -6.143864372449093,
          21.841220302138353,
          18.35029322536692,
          24.359660690100515,
          18.426250918959198,
          7.076314714355214,
          32.495298804510185,
          14.450983079352353,
          -10.850952430830397,
          24.560088649516466,
          33.26641129963086,
          35.70662697524425,
          7.425815776463751,
          18.19484083825229,
          3.46938116888742,
          17.562677580063756,
          13.86132101063724,
          32.071599311373134,
          5.829035232728619,
          12.352450582700737,
          14.801349600312053,
          25.72486199513564,
          15.179489858929829,
          5.048692800340637,
          19.154352964731626,
          37.420836430494056,
          22.791110849973805,
          18.757272940177216,
          21.515876734893435,
          18.8854815636184,
          34.48953605735856,
          5.760561614748516,
          12.76757714766874,
          16.33605291684561,
          13.111759513998056,
          27.00325448937273,
          9.061596469724442,
          20.270015543774523,
          31.374025421963523,
          40.26994810795641,
          -8.854426412794147,
          23.455273112310127,
          25.291529183832594,
          25.758819938780487,
          10.650296565189743,
          9.634722777671456,
          19.610312982143398,
          14.162759508016244,
          26.851606861765063,
          30.197403836528668,
          10.530182451324022,
          6.085768998076713,
          15.969454845178554,
          18.220068049252667,
          -0.5624229398301317,
          20.317534550063886,
          40.776988871370804,
          7.818804595570361,
          14.888971616328362,
          32.87474563481647,
          11.287574586233774,
          5.693397325028204,
          4.279492953543751,
          42.79043140381711,
          34.317534146150955,
          25.830618256179584,
          40.48444950507704,
          23.417701135973456,
          11.122610857613925,
          40.776988871370804,
          25.013687586958923,
          14.448366713028292,
          16.480542672732224,
          20.23790536994654,
          27.195398503429313,
          23.547332507492214,
          26.161739323856903,
          14.320081734251232,
          15.286824173111935,
          5.709164178307535,
          25.289048438450568,
          21.100307827256536,
          22.11208204623476,
          14.943302518170176,
          31.071496941078316,
          25.12299185377145,
          8.13247982161245,
          1.1648381062737911,
          20.12676423864985,
          22.487163347004156,
          16.306291569104303,
          8.208228952064744,
          26.285987345776896,
          10.8840708390745,
          5.408431851553419,
          18.638506928378252,
          23.461766538231778,
          28.181787469037168,
          16.967348871541322,
          9.186390255794684,
          26.247971823336115,
          28.044816871859158,
          16.658984090903296,
          6.269582887265268,
          3.981333046590607,
          10.083942388659995,
          -0.43659198882604056,
          4.799134071331723,
          10.459406701401397,
          17.3311741552032,
          33.8267792425422,
          48.95644693621066,
          20.428222610045598,
          40.48817627298094,
          17.69555185911209,
          0.7273660888210687,
          22.82792858124443,
          22.931603823855905,
          33.51455600216513,
          24.96277848802786,
          20.862147999235383,
          10.042522523733455,
          9.110647437090002,
          12.887711354998022,
          22.97938910735562,
          19.43898080186908,
          2.15188971924698,
          18.09229292132133
         ],
         "y0": " ",
         "yaxis": "y"
        }
       ],
       "layout": {
        "boxmode": "group",
        "height": 600,
        "legend": {
         "title": {
          "text": "model_type"
         },
         "tracegroupgap": 0
        },
        "margin": {
         "t": 60
        },
        "template": {
         "data": {
          "bar": [
           {
            "error_x": {
             "color": "#2a3f5f"
            },
            "error_y": {
             "color": "#2a3f5f"
            },
            "marker": {
             "line": {
              "color": "#E5ECF6",
              "width": 0.5
             },
             "pattern": {
              "fillmode": "overlay",
              "size": 10,
              "solidity": 0.2
             }
            },
            "type": "bar"
           }
          ],
          "barpolar": [
           {
            "marker": {
             "line": {
              "color": "#E5ECF6",
              "width": 0.5
             },
             "pattern": {
              "fillmode": "overlay",
              "size": 10,
              "solidity": 0.2
             }
            },
            "type": "barpolar"
           }
          ],
          "carpet": [
           {
            "aaxis": {
             "endlinecolor": "#2a3f5f",
             "gridcolor": "white",
             "linecolor": "white",
             "minorgridcolor": "white",
             "startlinecolor": "#2a3f5f"
            },
            "baxis": {
             "endlinecolor": "#2a3f5f",
             "gridcolor": "white",
             "linecolor": "white",
             "minorgridcolor": "white",
             "startlinecolor": "#2a3f5f"
            },
            "type": "carpet"
           }
          ],
          "choropleth": [
           {
            "colorbar": {
             "outlinewidth": 0,
             "ticks": ""
            },
            "type": "choropleth"
           }
          ],
          "contour": [
           {
            "colorbar": {
             "outlinewidth": 0,
             "ticks": ""
            },
            "colorscale": [
             [
              0,
              "#0d0887"
             ],
             [
              0.1111111111111111,
              "#46039f"
             ],
             [
              0.2222222222222222,
              "#7201a8"
             ],
             [
              0.3333333333333333,
              "#9c179e"
             ],
             [
              0.4444444444444444,
              "#bd3786"
             ],
             [
              0.5555555555555556,
              "#d8576b"
             ],
             [
              0.6666666666666666,
              "#ed7953"
             ],
             [
              0.7777777777777778,
              "#fb9f3a"
             ],
             [
              0.8888888888888888,
              "#fdca26"
             ],
             [
              1,
              "#f0f921"
             ]
            ],
            "type": "contour"
           }
          ],
          "contourcarpet": [
           {
            "colorbar": {
             "outlinewidth": 0,
             "ticks": ""
            },
            "type": "contourcarpet"
           }
          ],
          "heatmap": [
           {
            "colorbar": {
             "outlinewidth": 0,
             "ticks": ""
            },
            "colorscale": [
             [
              0,
              "#0d0887"
             ],
             [
              0.1111111111111111,
              "#46039f"
             ],
             [
              0.2222222222222222,
              "#7201a8"
             ],
             [
              0.3333333333333333,
              "#9c179e"
             ],
             [
              0.4444444444444444,
              "#bd3786"
             ],
             [
              0.5555555555555556,
              "#d8576b"
             ],
             [
              0.6666666666666666,
              "#ed7953"
             ],
             [
              0.7777777777777778,
              "#fb9f3a"
             ],
             [
              0.8888888888888888,
              "#fdca26"
             ],
             [
              1,
              "#f0f921"
             ]
            ],
            "type": "heatmap"
           }
          ],
          "heatmapgl": [
           {
            "colorbar": {
             "outlinewidth": 0,
             "ticks": ""
            },
            "colorscale": [
             [
              0,
              "#0d0887"
             ],
             [
              0.1111111111111111,
              "#46039f"
             ],
             [
              0.2222222222222222,
              "#7201a8"
             ],
             [
              0.3333333333333333,
              "#9c179e"
             ],
             [
              0.4444444444444444,
              "#bd3786"
             ],
             [
              0.5555555555555556,
              "#d8576b"
             ],
             [
              0.6666666666666666,
              "#ed7953"
             ],
             [
              0.7777777777777778,
              "#fb9f3a"
             ],
             [
              0.8888888888888888,
              "#fdca26"
             ],
             [
              1,
              "#f0f921"
             ]
            ],
            "type": "heatmapgl"
           }
          ],
          "histogram": [
           {
            "marker": {
             "pattern": {
              "fillmode": "overlay",
              "size": 10,
              "solidity": 0.2
             }
            },
            "type": "histogram"
           }
          ],
          "histogram2d": [
           {
            "colorbar": {
             "outlinewidth": 0,
             "ticks": ""
            },
            "colorscale": [
             [
              0,
              "#0d0887"
             ],
             [
              0.1111111111111111,
              "#46039f"
             ],
             [
              0.2222222222222222,
              "#7201a8"
             ],
             [
              0.3333333333333333,
              "#9c179e"
             ],
             [
              0.4444444444444444,
              "#bd3786"
             ],
             [
              0.5555555555555556,
              "#d8576b"
             ],
             [
              0.6666666666666666,
              "#ed7953"
             ],
             [
              0.7777777777777778,
              "#fb9f3a"
             ],
             [
              0.8888888888888888,
              "#fdca26"
             ],
             [
              1,
              "#f0f921"
             ]
            ],
            "type": "histogram2d"
           }
          ],
          "histogram2dcontour": [
           {
            "colorbar": {
             "outlinewidth": 0,
             "ticks": ""
            },
            "colorscale": [
             [
              0,
              "#0d0887"
             ],
             [
              0.1111111111111111,
              "#46039f"
             ],
             [
              0.2222222222222222,
              "#7201a8"
             ],
             [
              0.3333333333333333,
              "#9c179e"
             ],
             [
              0.4444444444444444,
              "#bd3786"
             ],
             [
              0.5555555555555556,
              "#d8576b"
             ],
             [
              0.6666666666666666,
              "#ed7953"
             ],
             [
              0.7777777777777778,
              "#fb9f3a"
             ],
             [
              0.8888888888888888,
              "#fdca26"
             ],
             [
              1,
              "#f0f921"
             ]
            ],
            "type": "histogram2dcontour"
           }
          ],
          "mesh3d": [
           {
            "colorbar": {
             "outlinewidth": 0,
             "ticks": ""
            },
            "type": "mesh3d"
           }
          ],
          "parcoords": [
           {
            "line": {
             "colorbar": {
              "outlinewidth": 0,
              "ticks": ""
             }
            },
            "type": "parcoords"
           }
          ],
          "pie": [
           {
            "automargin": true,
            "type": "pie"
           }
          ],
          "scatter": [
           {
            "fillpattern": {
             "fillmode": "overlay",
             "size": 10,
             "solidity": 0.2
            },
            "type": "scatter"
           }
          ],
          "scatter3d": [
           {
            "line": {
             "colorbar": {
              "outlinewidth": 0,
              "ticks": ""
             }
            },
            "marker": {
             "colorbar": {
              "outlinewidth": 0,
              "ticks": ""
             }
            },
            "type": "scatter3d"
           }
          ],
          "scattercarpet": [
           {
            "marker": {
             "colorbar": {
              "outlinewidth": 0,
              "ticks": ""
             }
            },
            "type": "scattercarpet"
           }
          ],
          "scattergeo": [
           {
            "marker": {
             "colorbar": {
              "outlinewidth": 0,
              "ticks": ""
             }
            },
            "type": "scattergeo"
           }
          ],
          "scattergl": [
           {
            "marker": {
             "colorbar": {
              "outlinewidth": 0,
              "ticks": ""
             }
            },
            "type": "scattergl"
           }
          ],
          "scattermapbox": [
           {
            "marker": {
             "colorbar": {
              "outlinewidth": 0,
              "ticks": ""
             }
            },
            "type": "scattermapbox"
           }
          ],
          "scatterpolar": [
           {
            "marker": {
             "colorbar": {
              "outlinewidth": 0,
              "ticks": ""
             }
            },
            "type": "scatterpolar"
           }
          ],
          "scatterpolargl": [
           {
            "marker": {
             "colorbar": {
              "outlinewidth": 0,
              "ticks": ""
             }
            },
            "type": "scatterpolargl"
           }
          ],
          "scatterternary": [
           {
            "marker": {
             "colorbar": {
              "outlinewidth": 0,
              "ticks": ""
             }
            },
            "type": "scatterternary"
           }
          ],
          "surface": [
           {
            "colorbar": {
             "outlinewidth": 0,
             "ticks": ""
            },
            "colorscale": [
             [
              0,
              "#0d0887"
             ],
             [
              0.1111111111111111,
              "#46039f"
             ],
             [
              0.2222222222222222,
              "#7201a8"
             ],
             [
              0.3333333333333333,
              "#9c179e"
             ],
             [
              0.4444444444444444,
              "#bd3786"
             ],
             [
              0.5555555555555556,
              "#d8576b"
             ],
             [
              0.6666666666666666,
              "#ed7953"
             ],
             [
              0.7777777777777778,
              "#fb9f3a"
             ],
             [
              0.8888888888888888,
              "#fdca26"
             ],
             [
              1,
              "#f0f921"
             ]
            ],
            "type": "surface"
           }
          ],
          "table": [
           {
            "cells": {
             "fill": {
              "color": "#EBF0F8"
             },
             "line": {
              "color": "white"
             }
            },
            "header": {
             "fill": {
              "color": "#C8D4E3"
             },
             "line": {
              "color": "white"
             }
            },
            "type": "table"
           }
          ]
         },
         "layout": {
          "annotationdefaults": {
           "arrowcolor": "#2a3f5f",
           "arrowhead": 0,
           "arrowwidth": 1
          },
          "autotypenumbers": "strict",
          "coloraxis": {
           "colorbar": {
            "outlinewidth": 0,
            "ticks": ""
           }
          },
          "colorscale": {
           "diverging": [
            [
             0,
             "#8e0152"
            ],
            [
             0.1,
             "#c51b7d"
            ],
            [
             0.2,
             "#de77ae"
            ],
            [
             0.3,
             "#f1b6da"
            ],
            [
             0.4,
             "#fde0ef"
            ],
            [
             0.5,
             "#f7f7f7"
            ],
            [
             0.6,
             "#e6f5d0"
            ],
            [
             0.7,
             "#b8e186"
            ],
            [
             0.8,
             "#7fbc41"
            ],
            [
             0.9,
             "#4d9221"
            ],
            [
             1,
             "#276419"
            ]
           ],
           "sequential": [
            [
             0,
             "#0d0887"
            ],
            [
             0.1111111111111111,
             "#46039f"
            ],
            [
             0.2222222222222222,
             "#7201a8"
            ],
            [
             0.3333333333333333,
             "#9c179e"
            ],
            [
             0.4444444444444444,
             "#bd3786"
            ],
            [
             0.5555555555555556,
             "#d8576b"
            ],
            [
             0.6666666666666666,
             "#ed7953"
            ],
            [
             0.7777777777777778,
             "#fb9f3a"
            ],
            [
             0.8888888888888888,
             "#fdca26"
            ],
            [
             1,
             "#f0f921"
            ]
           ],
           "sequentialminus": [
            [
             0,
             "#0d0887"
            ],
            [
             0.1111111111111111,
             "#46039f"
            ],
            [
             0.2222222222222222,
             "#7201a8"
            ],
            [
             0.3333333333333333,
             "#9c179e"
            ],
            [
             0.4444444444444444,
             "#bd3786"
            ],
            [
             0.5555555555555556,
             "#d8576b"
            ],
            [
             0.6666666666666666,
             "#ed7953"
            ],
            [
             0.7777777777777778,
             "#fb9f3a"
            ],
            [
             0.8888888888888888,
             "#fdca26"
            ],
            [
             1,
             "#f0f921"
            ]
           ]
          },
          "colorway": [
           "#636efa",
           "#EF553B",
           "#00cc96",
           "#ab63fa",
           "#FFA15A",
           "#19d3f3",
           "#FF6692",
           "#B6E880",
           "#FF97FF",
           "#FECB52"
          ],
          "font": {
           "color": "#2a3f5f"
          },
          "geo": {
           "bgcolor": "white",
           "lakecolor": "white",
           "landcolor": "#E5ECF6",
           "showlakes": true,
           "showland": true,
           "subunitcolor": "white"
          },
          "hoverlabel": {
           "align": "left"
          },
          "hovermode": "closest",
          "mapbox": {
           "style": "light"
          },
          "paper_bgcolor": "white",
          "plot_bgcolor": "#E5ECF6",
          "polar": {
           "angularaxis": {
            "gridcolor": "white",
            "linecolor": "white",
            "ticks": ""
           },
           "bgcolor": "#E5ECF6",
           "radialaxis": {
            "gridcolor": "white",
            "linecolor": "white",
            "ticks": ""
           }
          },
          "scene": {
           "xaxis": {
            "backgroundcolor": "#E5ECF6",
            "gridcolor": "white",
            "gridwidth": 2,
            "linecolor": "white",
            "showbackground": true,
            "ticks": "",
            "zerolinecolor": "white"
           },
           "yaxis": {
            "backgroundcolor": "#E5ECF6",
            "gridcolor": "white",
            "gridwidth": 2,
            "linecolor": "white",
            "showbackground": true,
            "ticks": "",
            "zerolinecolor": "white"
           },
           "zaxis": {
            "backgroundcolor": "#E5ECF6",
            "gridcolor": "white",
            "gridwidth": 2,
            "linecolor": "white",
            "showbackground": true,
            "ticks": "",
            "zerolinecolor": "white"
           }
          },
          "shapedefaults": {
           "line": {
            "color": "#2a3f5f"
           }
          },
          "ternary": {
           "aaxis": {
            "gridcolor": "white",
            "linecolor": "white",
            "ticks": ""
           },
           "baxis": {
            "gridcolor": "white",
            "linecolor": "white",
            "ticks": ""
           },
           "bgcolor": "#E5ECF6",
           "caxis": {
            "gridcolor": "white",
            "linecolor": "white",
            "ticks": ""
           }
          },
          "title": {
           "x": 0.05
          },
          "xaxis": {
           "automargin": true,
           "gridcolor": "white",
           "linecolor": "white",
           "ticks": "",
           "title": {
            "standoff": 15
           },
           "zerolinecolor": "white",
           "zerolinewidth": 2
          },
          "yaxis": {
           "automargin": true,
           "gridcolor": "white",
           "linecolor": "white",
           "ticks": "",
           "title": {
            "standoff": 15
           },
           "zerolinecolor": "white",
           "zerolinewidth": 2
          }
         }
        },
        "width": 800,
        "xaxis": {
         "anchor": "y",
         "domain": [
          0,
          1
         ]
        },
        "yaxis": {
         "anchor": "x",
         "domain": [
          0,
          1
         ],
         "title": {
          "text": "fmt_total_profit_percentage"
         }
        }
       }
      }
     },
     "metadata": {},
     "output_type": "display_data"
    }
   ],
   "source": [
    "fig = px.box(df_trader_results, y=\"fmt_total_profit_percentage\", color=\"model_type\", points=\"all\", color_discrete_sequence=[ \"#FF7F0E\", \"#00CC96\", \"#10aded\", \"#8A56EF\"],  width=800, height=600)\n",
    "fig.show()"
   ]
  },
  {
   "cell_type": "code",
   "execution_count": 20,
   "metadata": {},
   "outputs": [
    {
     "data": {
      "application/vnd.plotly.v1+json": {
       "config": {
        "plotlyServerURL": "https://plot.ly"
       },
       "data": [
        {
         "alignmentgroup": "True",
         "bingroup": "x",
         "hovertemplate": "model_type=PPO<br>fmt_total_profit_percentage=%{x}<br>count=%{y}<extra></extra>",
         "legendgroup": "PPO",
         "marker": {
          "color": "#FF7F0E",
          "pattern": {
           "shape": ""
          }
         },
         "name": "PPO",
         "offsetgroup": "PPO",
         "orientation": "v",
         "showlegend": true,
         "type": "histogram",
         "x": [
          13.466408282733177,
          16.772738941511278,
          8.038035790606779,
          7.389703830905647,
          -0.45883809228269845,
          21.345467227409443,
          16.51625669304664,
          24.198626827184277,
          5.6622794062661574,
          7.537253021428159,
          33.428013841459745,
          27.303175856673413,
          23.646039930170893,
          17.816239080111963,
          17.95320712322137,
          14.96390972836239,
          10.71763810792219,
          28.027356599548625,
          36.08934102882746,
          29.276382480982388,
          31.69250683255742,
          23.68553457528215,
          17.81190092081546,
          9.256323787984332,
          16.260323210957562,
          18.185937866938207,
          18.374754843459364,
          14.570318324628474,
          5.082034013445935,
          23.85927111290924,
          27.840294086379558,
          13.811194800700655,
          17.263730603775972,
          24.63938997159363,
          11.96052739107727,
          21.48736571206573,
          8.825032365699137,
          16.397777691603,
          24.46517266824184,
          27.95346390968334,
          23.555562016121414,
          7.301055800238854,
          17.444230008943972,
          14.87987506774122,
          32.764308869125294,
          5.471810251230247,
          24.983376309088957,
          -4.887162907128262,
          21.843201715037154,
          9.205104871630642,
          22.7556881143254,
          40.00318494572133,
          7.8153141096800605,
          20.250917775142717,
          -5.095235386617947,
          31.78992261924247,
          21.677710633163905,
          14.480805375294171,
          9.254539045232768,
          23.91802189016634,
          12.676821127619743,
          32.31670463885439,
          28.731167873462617,
          36.649132701063266,
          10.42821968556835,
          20.015038518806392,
          -3.0935850606994997,
          3.0736110310081166,
          2.983700599933403,
          32.04591281182025,
          14.308664252470571,
          -12.3777999112472,
          15.268050551496803,
          37.26064356429302,
          15.324354132437158,
          -5.095503010341251,
          25.154682146321793,
          18.766263978674157,
          34.99542983887758,
          19.251892654723225,
          23.548240315314928,
          8.57417856505569,
          39.99140012948166,
          15.458184856516088,
          24.93397846029626,
          12.611995555771172,
          38.71377995190406,
          -0.47118863839885616,
          19.22529252333238,
          10.823634730308186,
          15.927831742942455,
          4.504386794762771,
          36.157869875251556,
          11.677289844108497,
          18.502365939194966,
          35.45749213325129,
          26.264352465725914,
          19.162985502593077,
          43.08517079425658,
          10.717869515301825,
          9.474355615182773,
          21.295328074388653,
          1.6240062460639804,
          7.301055800238854,
          40.78811441573657,
          18.21611428934855,
          -3.228563514703031,
          15.590594308166628,
          5.3848098720431725,
          17.589096389797444,
          20.16082900531655,
          14.116473676513808,
          15.801728024314809,
          27.252606194661098,
          30.129130643060154,
          27.2492060068789,
          9.268044120173546,
          27.704016171040237,
          34.84054336477218,
          4.196326234150605,
          19.999532000420395,
          23.043718986661776,
          37.007654853762716,
          0.1928614655177796,
          20.011742106198472,
          9.01196478396804,
          14.351804719274753,
          9.873025534615243,
          11.926681142350514,
          20.16972899277796,
          12.629329413008028,
          19.241311456827614,
          31.138297925349278,
          22.7556881143254,
          13.06605753361647,
          12.415726082612766,
          12.469345100122165,
          27.067571483752072,
          11.813494698445348,
          13.862960071890473,
          12.254301759795961,
          21.860552333676033,
          13.32550103664647,
          10.725885235087329,
          31.504999923993736,
          12.128733914061263,
          4.468321122667174,
          4.2130465158410235,
          33.720523892242895,
          11.98638120557749,
          20.218228922205796,
          16.102037449209238,
          23.15255098859994,
          20.930029523102856,
          11.289341177124367,
          15.541833537260885,
          22.643524751346543,
          0.946421540542719,
          3.3292249857255207,
          39.33228064979835,
          7.208106790457003,
          20.169728992777934,
          14.48504853075525,
          27.981957626731035,
          11.458046858164028,
          24.130803909059907,
          27.860917884772295,
          9.102140481983367,
          33.222496500603846,
          22.34042553191491,
          17.866503270459667,
          -3.730970584721849,
          24.75444875570616,
          -7.983741243184939,
          19.196508963752933,
          21.71877404819904,
          -8.319158151304274,
          35.32992965598909,
          4.337926060171671,
          25.217579618842258,
          20.757558964824717,
          10.296621222043022,
          15.38454938536149,
          13.064554944005224,
          25.38611957130219,
          28.69876389270565,
          7.974469164480769,
          2.2066670258487298,
          30.456241430089072,
          12.319978568462076,
          8.106393776169195,
          15.083540168087438,
          18.816244074163045,
          6.454503694971159,
          47.31180595573563,
          13.811194800700655,
          25.640330113539058,
          7.876635031698864,
          12.812922253191218,
          7.869913946349416,
          11.503698792755724,
          3.3287924990145212,
          10.339148896338756,
          4.030323234912725,
          13.695466428576397,
          26.293186186132566,
          36.602319895346966,
          24.86057576148484,
          -3.046582560600264,
          8.084654467796337,
          14.506185623934243,
          16.658984090903296,
          30.31084221853515,
          33.732426665660455,
          14.895798261314063,
          26.354007796098976,
          3.0533126255723353,
          9.766435770075056,
          30.70195163933016,
          14.837092455031398,
          10.422704773438806,
          36.51022578536001,
          8.243451172769367,
          13.59920962771457,
          25.91755774180595,
          22.362612857528298,
          37.72849995265612,
          26.706279132723232,
          30.24706248054867,
          22.287805352633615,
          24.584841937791357,
          8.573645862332246,
          20.178002711542177,
          25.186334206158346,
          12.715391508933283,
          -1.1999904524336635,
          14.643925583859584,
          33.579183078632994,
          17.695543491063038,
          16.65858160058582,
          29.28762886670939,
          13.50432959883683,
          -7.594363361775002,
          15.181054696971419,
          18.69168844956366,
          22.7870545091138,
          11.066869609706265,
          15.963313312408722,
          9.609291668408094,
          25.658508189482475,
          2.034000922892165,
          -4.1277294173405865,
          35.14504197900972,
          21.14319219239713,
          3.2627863776290233,
          -6.385631913114709,
          21.153343806570856,
          29.700305869563138,
          16.369517273621348,
          13.74989868054488,
          26.524626311820466,
          12.201983896124924,
          27.38736635491623,
          8.269130438234118,
          1.0074616514291979,
          20.60081611507405,
          47.31180595573563,
          20.34262107127809,
          -5.143540223362486,
          8.860195674698312,
          34.70104398858997,
          21.789695730621062,
          11.33460803868116,
          11.206139971636508,
          7.877540282438433,
          23.625734872867675,
          23.021830116731422,
          26.654858137872516,
          8.806733338895567,
          13.590796264800442,
          20.430480008143938,
          16.630679356761526,
          23.480539008421108,
          8.019208831374392,
          6.1123792431234,
          22.065855836576965,
          -2.9662054552695327,
          9.982686039383104,
          27.197428104601308,
          16.814587329089402,
          7.301055800238854,
          14.541160218292415,
          12.893347272910738,
          29.96096863254307,
          19.681444721461006,
          14.526642634117891,
          11.906378283906927,
          7.301055800238854,
          23.210861849221033,
          15.864720531802746,
          0.7351810329729203,
          15.167814145607617,
          37.38875560743038,
          21.39081551135529,
          8.947633158035039,
          -8.213037542447243,
          23.867744056938477,
          20.491468417747562,
          23.48985481166963,
          12.411361734611237,
          8.158722154335884,
          9.58202379415889,
          17.617529525808216,
          16.451260994935456,
          26.943694335168324,
          10.675044065350203,
          13.048931046381117,
          20.980619269992353,
          5.704777348923229,
          36.40950347504472,
          14.241492178909887,
          38.766523298686906,
          37.454378273386446,
          18.65963598103717,
          22.65215028642611,
          -3.610394958863239,
          -1.2561677056789344,
          24.848076941219198,
          -3.5513424984464192,
          21.71732663677539,
          9.76927813163433,
          23.347000600922097,
          14.969012645059498,
          -13.515936802053119,
          24.925199400739718,
          13.266507952425922,
          21.05244470440406,
          23.564014184070192,
          23.78612653565655,
          29.619645382486624,
          5.7018072092196,
          4.91718203241569,
          34.63496156224159,
          17.11823467357867,
          18.70312137514354,
          2.828694572514334,
          15.078796500859127,
          19.38407378786384,
          1.389347294444998,
          12.214495700677874,
          33.328063882531936,
          21.439520193988294,
          13.155419907346388,
          8.6198313919869,
          23.335543504682988,
          10.160474607685321,
          12.487816576852651,
          4.919599374426853,
          8.434639377599273,
          25.820181473229752,
          17.273810245328058,
          16.51625669304664,
          21.515876734893435,
          0.9007905052656362,
          33.51455600216513,
          33.1105010218526,
          27.67449417215002,
          -1.5996651078414192,
          31.104781691240845,
          35.413101666053,
          13.144721575901919,
          40.128278205037574,
          16.167854392420832,
          29.175480555985157,
          14.685392784616248,
          9.159649447763574,
          11.42306636223427,
          10.138772455262647,
          13.295874089833104,
          17.416219162156832,
          30.741367869460777,
          32.97204784945353,
          30.853580699990268,
          21.987409230526556,
          15.195432492638773,
          14.946495767219382,
          29.23353600898009,
          19.867191005975116,
          18.1241237662775,
          16.70730718038287,
          17.05795696413588,
          21.841220302138353,
          33.222496500603846,
          10.756473747080818,
          15.902247660823177,
          16.839347367829728,
          21.345467227409443,
          -3.9172422622374747,
          5.355190559423084,
          17.800459143284098,
          19.16939471218764,
          16.43612101267342,
          24.78888521553264,
          21.517852856972407,
          4.061584183433653,
          13.09919431324873,
          11.54913104302251,
          36.299280943044245,
          15.281941323577986,
          33.78731737953753,
          22.882273400098676,
          22.04038839758833,
          2.918353870839341,
          16.260323210957562,
          17.40034215213353,
          17.307692307692292,
          0.8545694202435339,
          16.12541188845411,
          28.72552958371073,
          29.793674223176623,
          27.614612920869885,
          24.92465355471911,
          13.255366971985637,
          14.146205610248197,
          -1.4945057947306717,
          37.21662507376815,
          13.745774581182712,
          13.59920962771457,
          26.706279132723232,
          26.417913518860804,
          -9.05409300339196,
          1.1013020787155048,
          21.575651568934017,
          18.582552584080126,
          8.554134300457527,
          22.950259551295993,
          11.250109948057908,
          35.77755904276163,
          7.35624919851936,
          13.277556236398258,
          12.863791152308268,
          30.70101133256764,
          2.9084392409426174,
          3.825812495316705,
          16.581791734632656,
          35.70371399704169,
          -17.937062149385486,
          15.521471496665473,
          22.313700537354777,
          14.464628582054884,
          25.445389904582427,
          20.9527528304815,
          28.888453289777406,
          16.348211168046944,
          5.664343715630626,
          35.16206232156536,
          39.515318735309336,
          4.184712709764504,
          42.07817343102123,
          11.241048547682109,
          30.22161380511539,
          24.117548412901435,
          9.102140481983367,
          23.651530680835698,
          21.515876734893435,
          16.488852949524713,
          -1.898182524719838,
          17.23593752929249,
          28.208752677149242,
          32.176172529618505,
          -0.5677028159085773,
          5.785983201382927,
          29.718490896644113,
          3.7240798849864643,
          13.081348113152558,
          20.664075823942408,
          18.751570794430663,
          13.50729321454578,
          23.843658205870245,
          12.541799438734525,
          26.42297717351818,
          11.160900494461213,
          30.453323965415315,
          34.41549550029164,
          38.176790191032865,
          47.120293230403895,
          -2.3661093236588715,
          0.1355724085482679,
          24.52429554020876,
          21.17686696222043,
          18.451610318639354,
          -2.9798248540682026,
          19.84616843899851,
          15.856910658045308,
          17.172080517343424,
          9.62928595721353,
          15.06364739209587,
          7.782255931570581,
          14.841515052004194,
          8.600759895276111,
          12.732821248676718,
          17.81972153114031,
          17.75049881948556,
          13.550564766152373,
          33.816512517537504,
          -0.43810408740984075,
          17.207536375608345,
          8.05914922045108,
          23.98840060445884,
          10.980562365004864,
          13.849247481825145,
          28.217420190555377,
          11.241533528144455,
          21.515876734893435,
          32.87474563481647,
          13.793733268376851,
          27.42713833929413,
          11.270191002124452,
          13.226435481067988,
          14.670695750303553,
          13.999269016516159,
          28.391625962781553,
          16.67987289170465,
          30.147021661390095,
          4.973401778891673,
          11.70979509373491,
          16.282374895593566,
          7.241618775505709,
          38.547602889453444,
          6.018858650970449,
          22.902985972328604,
          7.4909108506932665,
          26.486548890992488,
          28.621327483842585,
          29.00314943462825,
          6.652112920539177,
          32.73788057753024,
          44.34565631987357,
          23.78612653565655,
          15.281941323577986,
          17.496862640783274,
          18.101491655831147,
          20.6983319927466,
          11.558355892512706,
          17.170754550080638,
          9.087565487508087,
          8.814470490773774,
          13.201671466387289,
          31.232579622903533,
          15.635412650891656,
          10.32146956304716,
          13.396714428874535,
          18.677977229757015,
          29.63979629652995,
          34.06463054757505,
          20.79010793141616,
          23.388668436319236,
          18.16277397202488,
          33.52337394546679,
          13.382208535098794,
          21.233847672552407,
          4.242668564815988,
          8.806491252080594,
          39.71513306828713,
          -2.6560238201750352,
          14.000755325160918,
          24.960702173294848,
          12.854119086260084,
          15.087138896911956,
          -5.135782399497746,
          27.651008667780875,
          5.552789556552895,
          17.559652375708556,
          19.58179767860273,
          11.066026226278392,
          13.68820059704976,
          15.23103251781064,
          22.5820470992822,
          3.7813611044111406,
          10.695875797877719,
          4.908510519218323,
          27.179196991323963,
          -2.762080305532666,
          0.7751870158326568,
          2.7876219970250693,
          10.042522523733455,
          8.985323394630672,
          17.04287565556635,
          13.209940117969321,
          4.615376709035779,
          18.62273729173061,
          7.406770970604426,
          9.756103615955514,
          15.346210998926079,
          -4.878581909027724,
          22.34042553191491,
          19.53600707020886,
          19.06620830414283,
          7.36608685589768,
          22.957054512372956,
          23.886366585691967,
          24.78888521553264,
          22.004301346880673,
          37.66499131490166,
          19.809421377463643,
          8.961696944630582,
          26.36605300980779,
          25.33997532071901,
          29.990993413647658,
          4.344277813369635,
          5.43030351798266,
          7.071955097063776,
          2.698849893338484,
          14.20145753018398,
          20.787645736248383,
          -1.5983597305332942,
          22.724254702020396,
          25.374223156077626,
          28.223602350601595,
          4.167846658218832,
          29.63486786324181,
          17.222340020004843,
          24.542722312219013,
          11.619133689936302,
          13.376303432544079,
          28.49420466744259,
          16.70540928734838,
          31.186781512970253,
          16.073167053041495,
          25.962480273790554,
          20.23303619261265,
          28.20545352060604,
          27.980962481056526,
          9.414504607815367,
          21.027998631190936,
          14.387269741664888,
          17.437843667488508,
          11.965438785813198,
          15.281941323577986,
          26.79939979596757,
          0.4722330216954118,
          20.564837301160633,
          23.934687505101216,
          37.90042651387253,
          34.84300357245746,
          10.319011268795443,
          29.63979629652995,
          7.753698040035184,
          12.264131115527865,
          27.108942325992746,
          -5.987717724101871,
          25.523924374798025,
          28.698523504013096,
          13.811194800700655,
          33.87202453299445,
          13.863509380445205,
          30.456241430089072,
          24.166623452090775,
          7.3073477040312085,
          10.188726346481957,
          15.061908682554126,
          8.870176995200673,
          5.437392856940915,
          19.583519783493664,
          36.69613980852677,
          25.12299185377145,
          31.79493298298477,
          11.676756596673844,
          17.971993616569513,
          16.841704819214122,
          -2.6936674117566284,
          15.383350157187703,
          10.527710604065899,
          13.811194800700655,
          -4.013646815408456,
          28.519097935128656,
          5.691140023208163,
          6.315036252742923,
          13.65603962606392,
          26.900370048550016,
          4.599185088253344,
          8.139433431424026,
          -5.615374110420401,
          9.519069496651067,
          9.330697795104136,
          29.98689064269535,
          17.305512383666066,
          38.025278890164074,
          18.405704906985832,
          40.40108252677052,
          14.339383212168677,
          17.017873429438723,
          6.440992740724494,
          18.498565892543883,
          19.384864148324297,
          28.700544640964075,
          43.21490507971832,
          19.486150222121502,
          29.251762145743832,
          29.970038279605603,
          16.38753433154825,
          25.023503116012403,
          12.908094023725347,
          18.908714865261935,
          22.128798751375722,
          20.6178230396735,
          13.185304982344693,
          13.59920962771457,
          17.585369742948508,
          15.159078815546124,
          23.073436601706266,
          24.663476659298468,
          18.91612374872316,
          22.487163347004156,
          7.072921623137218,
          30.33267903912964,
          29.822059172676596,
          20.575561359193493,
          8.870176995200673,
          9.913295714152248,
          11.39877846665236,
          17.33831764701499,
          15.053710670049414,
          19.838033090157946,
          16.45264942885958,
          28.362499681299603,
          20.23351658184984,
          35.15225982554328,
          22.811955491599335,
          14.116473676513808,
          3.246141087573595,
          39.39008080892348,
          40.06935940978724,
          -6.602077828695851,
          32.97204784945356,
          -4.248265499735826,
          13.012316686761283,
          3.3412409359025563,
          19.11241103406125,
          16.83215300196874,
          19.903015661526258,
          17.835605906882467,
          35.202767876602145,
          29.93254456954535,
          10.601022898145175,
          4.290173805925512,
          46.0281907489035,
          4.2380107636853515,
          13.3416721804279,
          12.615454626594547,
          16.81380769432956,
          29.463144559367738,
          3.4548617019462657,
          43.189072373108004,
          16.34747826437608,
          17.337348816468534,
          28.87622604298141,
          12.785618944166277,
          13.76382214255829,
          23.357722520372803,
          17.89350348939105,
          16.391717239015314,
          28.2944803201606,
          37.62545108320718,
          38.75013621454286,
          35.07554424381243,
          34.66369771146156,
          0.00041986257699466734,
          26.792848256963907,
          9.466545561134643,
          8.958404565793243,
          15.217566892217317,
          18.18329480981129,
          10.651764761986882,
          26.05600170214373,
          21.96091787208383,
          28.613390416420437,
          2.0583160379572307,
          8.072519121786748,
          12.957860610527705,
          10.14549820533821,
          11.206139971636508,
          -2.296097930716068,
          22.101638335131433,
          8.291359044022961,
          16.090931523398755,
          7.834285996096968,
          19.22982335488248,
          12.541103389231022,
          9.905536515248237,
          19.43661593568866,
          20.980619269992328,
          22.9959763191006,
          40.40918765082955,
          20.157285751645393,
          27.34339084460702,
          20.540098199672684,
          1.0890787235796173,
          14.423383405993206,
          28.915632401924075,
          10.486213748718454,
          22.21532004022324,
          19.9167063418213,
          7.569851990652232,
          27.189731351509927,
          8.888058508178332,
          38.39598535108413,
          23.004933462919897,
          18.451006519278867,
          15.69624464978141,
          24.86058621833984,
          12.398887195647479,
          29.033036767491872,
          15.55138830618985,
          21.06842920579739,
          14.223893001774602,
          19.681444721461006,
          15.33583420447222,
          11.110504709077084,
          25.472582281386448,
          22.454466997083735,
          14.697641732679623,
          13.40258409986852,
          17.48581967402183,
          20.263645485458227,
          16.260323210957562,
          31.225351723339955,
          36.08934102882746,
          7.113935079376743,
          1.0200095858501568,
          31.66203257834248,
          21.515876734893435,
          7.738277916202163,
          21.2179137577426,
          17.91517274929828,
          23.742605815941698,
          19.49285745747744,
          24.699721066777514,
          9.474355615182773,
          -5.143540223362486,
          8.103976133430212,
          14.090202489754923,
          3.9345706513864043,
          33.87202453299445,
          11.206139971636508,
          11.64319540517964,
          9.101182636106309,
          9.775863226597625,
          30.233222959268513,
          28.10661623199442,
          27.868485756821993,
          14.073076990960875,
          -4.116335623925982,
          13.158580381200903,
          24.121882478301714,
          15.867033394493003,
          27.223223787941887,
          41.33283531356109,
          24.117548412901435,
          17.10356389065022,
          10.897077711316804,
          8.212863334475774,
          10.35870050919483,
          16.71281007026939,
          3.1157692869648868,
          12.291735580138297,
          18.211792240486457,
          42.81986810070861,
          17.017873429438723,
          17.663771036529607,
          23.531715513369743,
          25.316014393066098,
          -6.143864372449093,
          21.841220302138353,
          18.35029322536692,
          24.359660690100515,
          18.426250918959198,
          7.076314714355214,
          32.495298804510185,
          14.450983079352353,
          -10.850952430830397,
          24.560088649516466,
          33.26641129963086,
          35.70662697524425,
          7.425815776463751,
          18.19484083825229,
          3.46938116888742,
          17.562677580063756,
          13.86132101063724,
          32.071599311373134,
          5.829035232728619,
          12.352450582700737,
          14.801349600312053,
          25.72486199513564,
          15.179489858929829,
          5.048692800340637,
          19.154352964731626,
          37.420836430494056,
          22.791110849973805,
          18.757272940177216,
          21.515876734893435,
          18.8854815636184,
          34.48953605735856,
          5.760561614748516,
          12.76757714766874,
          16.33605291684561,
          13.111759513998056,
          27.00325448937273,
          9.061596469724442,
          20.270015543774523,
          31.374025421963523,
          40.26994810795641,
          -8.854426412794147,
          23.455273112310127,
          25.291529183832594,
          25.758819938780487,
          10.650296565189743,
          9.634722777671456,
          19.610312982143398,
          14.162759508016244,
          26.851606861765063,
          30.197403836528668,
          10.530182451324022,
          6.085768998076713,
          15.969454845178554,
          18.220068049252667,
          -0.5624229398301317,
          20.317534550063886,
          40.776988871370804,
          7.818804595570361,
          14.888971616328362,
          32.87474563481647,
          11.287574586233774,
          5.693397325028204,
          4.279492953543751,
          42.79043140381711,
          34.317534146150955,
          25.830618256179584,
          40.48444950507704,
          23.417701135973456,
          11.122610857613925,
          40.776988871370804,
          25.013687586958923,
          14.448366713028292,
          16.480542672732224,
          20.23790536994654,
          27.195398503429313,
          23.547332507492214,
          26.161739323856903,
          14.320081734251232,
          15.286824173111935,
          5.709164178307535,
          25.289048438450568,
          21.100307827256536,
          22.11208204623476,
          14.943302518170176,
          31.071496941078316,
          25.12299185377145,
          8.13247982161245,
          1.1648381062737911,
          20.12676423864985,
          22.487163347004156,
          16.306291569104303,
          8.208228952064744,
          26.285987345776896,
          10.8840708390745,
          5.408431851553419,
          18.638506928378252,
          23.461766538231778,
          28.181787469037168,
          16.967348871541322,
          9.186390255794684,
          26.247971823336115,
          28.044816871859158,
          16.658984090903296,
          6.269582887265268,
          3.981333046590607,
          10.083942388659995,
          -0.43659198882604056,
          4.799134071331723,
          10.459406701401397,
          17.3311741552032,
          33.8267792425422,
          48.95644693621066,
          20.428222610045598,
          40.48817627298094,
          17.69555185911209,
          0.7273660888210687,
          22.82792858124443,
          22.931603823855905,
          33.51455600216513,
          24.96277848802786,
          20.862147999235383,
          10.042522523733455,
          9.110647437090002,
          12.887711354998022,
          22.97938910735562,
          19.43898080186908,
          2.15188971924698,
          18.09229292132133
         ],
         "xaxis": "x",
         "yaxis": "y"
        },
        {
         "alignmentgroup": "True",
         "boxpoints": "all",
         "customdata": [
          [
           32.39999999999972,
           12,
           1
          ],
          [
           41.599999999999994,
           12,
           2
          ],
          [
           17.59999999999988,
           6,
           3
          ],
          [
           20.200000000000074,
           8,
           4
          ],
          [
           -5.700000000000017,
           9,
           5
          ],
          [
           51.99999999999997,
           4,
           6
          ],
          [
           40.40000000000006,
           8,
           7
          ],
          [
           58.49999999999997,
           7,
           8
          ],
          [
           11.399999999999949,
           10,
           9
          ],
          [
           16.799999999999926,
           8,
           10
          ],
          [
           80.20000000000013,
           7,
           11
          ],
          [
           66.20000000000002,
           8,
           12
          ],
          [
           57.80000000000004,
           3,
           13
          ],
          [
           43.799999999999926,
           13,
           14
          ],
          [
           43.39999999999995,
           6,
           15
          ],
          [
           35.39999999999995,
           7,
           16
          ],
          [
           23.00000000000003,
           13,
           17
          ],
          [
           67.6,
           14,
           18
          ],
          [
           85.80000000000004,
           6,
           19
          ],
          [
           71.20000000000007,
           7,
           20
          ],
          [
           76.99999999999997,
           11,
           21
          ],
          [
           58.59999999999988,
           8,
           22
          ],
          [
           43.1999999999999,
           3,
           23
          ],
          [
           23.99999999999997,
           7,
           24
          ],
          [
           39.59999999999988,
           6,
           25
          ],
          [
           44.599999999999994,
           8,
           26
          ],
          [
           44.40000000000006,
           6,
           27
          ],
          [
           35.40000000000006,
           7,
           28
          ],
          [
           9.599999999999994,
           8,
           29
          ],
          [
           58.20000000000013,
           6,
           30
          ],
          [
           68.39999999999984,
           8,
           31
          ],
          [
           33.1999999999999,
           4,
           32
          ],
          [
           41.599999999999994,
           6,
           33
          ],
          [
           60.20000000000002,
           3,
           34
          ],
          [
           28.799999999999983,
           10,
           35
          ],
          [
           53.000000000000085,
           9,
           36
          ],
          [
           19.600000000000108,
           5,
           37
          ],
          [
           39.40000000000006,
           4,
           38
          ],
          [
           59.799999999999926,
           8,
           39
          ],
          [
           68.79999999999981,
           10,
           40
          ],
          [
           56.80000000000004,
           4,
           41
          ],
          [
           15.599999999999994,
           6,
           42
          ],
          [
           43.1999999999999,
           8,
           43
          ],
          [
           33.999999999999915,
           7,
           44
          ],
          [
           78.59999999999977,
           8,
           45
          ],
          [
           9.200000000000017,
           8,
           46
          ],
          [
           60.799999999999926,
           8,
           47
          ],
          [
           -19.40000000000012,
           10,
           48
          ],
          [
           53.39999999999995,
           6,
           49
          ],
          [
           20.39999999999995,
           4,
           50
          ],
          [
           55.39999999999995,
           4,
           51
          ],
          [
           94.40000000000006,
           6,
           52
          ],
          [
           16.599999999999994,
           6,
           53
          ],
          [
           49.30000000000004,
           5,
           54
          ],
          [
           -18.600000000000108,
           14,
           55
          ],
          [
           77.10000000000011,
           5,
           56
          ],
          [
           52.599999999999994,
           8,
           57
          ],
          [
           34.599999999999994,
           6,
           58
          ],
          [
           23.40000000000012,
           13,
           59
          ],
          [
           58.39999999999995,
           6,
           60
          ],
          [
           28.999999999999858,
           8,
           61
          ],
          [
           78.40000000000006,
           8,
           62
          ],
          [
           69.39999999999995,
           5,
           63
          ],
          [
           87.40000000000006,
           9,
           64
          ],
          [
           24.00000000000003,
           8,
           65
          ],
          [
           50.59999999999988,
           6,
           66
          ],
          [
           -12.399999999999892,
           10,
           67
          ],
          [
           3.799999999999926,
           10,
           68
          ],
          [
           8.000000000000028,
           8,
           69
          ],
          [
           78.79999999999987,
           13,
           70
          ],
          [
           34.99999999999986,
           12,
           71
          ],
          [
           -41.59999999999988,
           10,
           72
          ],
          [
           34.99999999999997,
           8,
           73
          ],
          [
           88.6,
           8,
           74
          ],
          [
           39.40000000000006,
           13,
           75
          ],
          [
           -17.999999999999915,
           10,
           76
          ],
          [
           61.40000000000006,
           8,
           77
          ],
          [
           45.80000000000004,
           5,
           78
          ],
          [
           83.79999999999993,
           8,
           79
          ],
          [
           47.39999999999995,
           3,
           80
          ],
          [
           58.79999999999981,
           8,
           81
          ],
          [
           18.400000000000006,
           9,
           82
          ],
          [
           94.40000000000018,
           10,
           83
          ],
          [
           37.39999999999995,
           6,
           84
          ],
          [
           60.1999999999999,
           8,
           85
          ],
          [
           33.000000000000085,
           5,
           86
          ],
          [
           91.60000000000011,
           8,
           87
          ],
          [
           -8.19999999999996,
           12,
           88
          ],
          [
           48.799999999999926,
           12,
           89
          ],
          [
           24.799999999999926,
           4,
           90
          ],
          [
           42.00000000000014,
           16,
           91
          ],
          [
           7.999999999999915,
           10,
           92
          ],
          [
           86.6,
           11,
           93
          ],
          [
           27.39999999999995,
           9,
           94
          ],
          [
           45.39999999999995,
           6,
           95
          ],
          [
           84.79999999999998,
           8,
           96
          ],
          [
           63.20000000000013,
           10,
           97
          ],
          [
           46.6999999999999,
           5,
           98
          ],
          [
           101.00000000000009,
           8,
           99
          ],
          [
           25.199999999999903,
           12,
           100
          ],
          [
           21.799999999999926,
           3,
           101
          ],
          [
           51.39999999999995,
           12,
           102
          ],
          [
           0.39999999999994884,
           12,
           103
          ],
          [
           15.599999999999994,
           6,
           104
          ],
          [
           99.00000000000003,
           14,
           105
          ],
          [
           44.400000000000006,
           7,
           106
          ],
          [
           -18.80000000000004,
           11,
           107
          ],
          [
           37.599999999999994,
           3,
           108
          ],
          [
           7.600000000000108,
           10,
           109
          ],
          [
           43.19999999999996,
           7,
           110
          ],
          [
           48.39999999999995,
           10,
           111
          ],
          [
           35.099999999999994,
           7,
           112
          ],
          [
           37.000000000000085,
           8,
           113
          ],
          [
           67.20000000000002,
           9,
           114
          ],
          [
           73.20000000000002,
           6,
           115
          ],
          [
           64.8000000000001,
           13,
           116
          ],
          [
           21.299999999999926,
           7,
           117
          ],
          [
           67.20000000000007,
           10,
           118
          ],
          [
           85.60000000000011,
           10,
           119
          ],
          [
           7.199999999999903,
           8,
           120
          ],
          [
           50.59999999999988,
           6,
           121
          ],
          [
           59.39999999999995,
           14,
           122
          ],
          [
           87.80000000000015,
           10,
           123
          ],
          [
           -4.200000000000131,
           10,
           124
          ],
          [
           49.000000000000085,
           8,
           125
          ],
          [
           20.00000000000003,
           12,
           126
          ],
          [
           36.999999999999915,
           16,
           127
          ],
          [
           22.59999999999988,
           8,
           128
          ],
          [
           27.80000000000004,
           12,
           129
          ],
          [
           48.99999999999997,
           2,
           130
          ],
          [
           28.999999999999858,
           10,
           131
          ],
          [
           48.40000000000006,
           8,
           132
          ],
          [
           74.90000000000012,
           9,
           133
          ],
          [
           55.39999999999995,
           4,
           134
          ],
          [
           30.99999999999997,
           5,
           135
          ],
          [
           29.799999999999983,
           8,
           136
          ],
          [
           28.999999999999858,
           10,
           137
          ],
          [
           65.80000000000004,
           6,
           138
          ],
          [
           27.599999999999994,
           7,
           139
          ],
          [
           33.799999999999926,
           8,
           140
          ],
          [
           29.700000000000017,
           9,
           141
          ],
          [
           52.599999999999994,
           6,
           142
          ],
          [
           32.60000000000005,
           12,
           143
          ],
          [
           24.799999999999926,
           6,
           144
          ],
          [
           74.6,
           10,
           145
          ],
          [
           28.99999999999997,
           8,
           146
          ],
          [
           12.400000000000063,
           8,
           147
          ],
          [
           5.199999999999903,
           12,
           148
          ],
          [
           80.80000000000004,
           5,
           149
          ],
          [
           28.300000000000153,
           7,
           150
          ],
          [
           49.40000000000006,
           3,
           151
          ],
          [
           38.79999999999981,
           6,
           152
          ],
          [
           56.80000000000015,
           8,
           153
          ],
          [
           52.20000000000002,
           12,
           154
          ],
          [
           26.399999999999835,
           8,
           155
          ],
          [
           38.1999999999999,
           5,
           156
          ],
          [
           54.700000000000074,
           9,
           157
          ],
          [
           8.526512829121202e-14,
           10,
           158
          ],
          [
           4.199999999999903,
           4,
           159
          ],
          [
           93.00000000000009,
           6,
           160
          ],
          [
           14.599999999999994,
           8,
           161
          ],
          [
           48.99999999999997,
           4,
           162
          ],
          [
           35.599999999999994,
           9,
           163
          ],
          [
           67.80000000000004,
           12,
           164
          ],
          [
           26.99999999999997,
           10,
           165
          ],
          [
           58.80000000000004,
           4,
           166
          ],
          [
           69.40000000000006,
           7,
           167
          ],
          [
           19.99999999999997,
           4,
           168
          ],
          [
           79.40000000000006,
           6,
           169
          ],
          [
           54.599999999999994,
           3,
           170
          ],
          [
           46.599999999999994,
           11,
           171
          ],
          [
           -19.000000000000085,
           5,
           172
          ],
          [
           62.599999999999994,
           4,
           173
          ],
          [
           -27.200000000000074,
           8,
           174
          ],
          [
           46.99999999999997,
           8,
           175
          ],
          [
           52.799999999999926,
           4,
           176
          ],
          [
           -33.8000000000001,
           10,
           177
          ],
          [
           86.20000000000013,
           10,
           178
          ],
          [
           7.599999999999767,
           8,
           179
          ],
          [
           61.099999999999994,
           7,
           180
          ],
          [
           50.79999999999981,
           8,
           181
          ],
          [
           24.800000000000097,
           11,
           182
          ],
          [
           40.20000000000002,
           5,
           183
          ],
          [
           34.20000000000002,
           5,
           184
          ],
          [
           62.3000000000001,
           7,
           185
          ],
          [
           69.99999999999997,
           8,
           186
          ],
          [
           17.199999999999903,
           7,
           187
          ],
          [
           1.8000000000001535,
           10,
           188
          ],
          [
           73.79999999999993,
           3,
           189
          ],
          [
           28.20000000000013,
           8,
           190
          ],
          [
           17.799999999999926,
           6,
           191
          ],
          [
           36.20000000000002,
           4,
           192
          ],
          [
           43.90000000000012,
           7,
           193
          ],
          [
           13.999999999999801,
           10,
           194
          ],
          [
           111.20000000000013,
           10,
           195
          ],
          [
           33.1999999999999,
           4,
           196
          ],
          [
           63.100000000000165,
           11,
           197
          ],
          [
           16.699999999999903,
           7,
           198
          ],
          [
           28.39999999999995,
           5,
           199
          ],
          [
           17.200000000000017,
           8,
           200
          ],
          [
           24.00000000000003,
           10,
           201
          ],
          [
           9.400000000000006,
           12,
           202
          ],
          [
           26.599999999999994,
           12,
           203
          ],
          [
           4.799999999999983,
           5,
           204
          ],
          [
           32.1999999999999,
           8,
           205
          ],
          [
           65.59999999999982,
           13,
           206
          ],
          [
           94.59999999999994,
           13,
           207
          ],
          [
           61.19999999999979,
           11,
           208
          ],
          [
           -9.999999999999972,
           6,
           209
          ],
          [
           16.99999999999997,
           6,
           210
          ],
          [
           37.80000000000004,
           6,
           211
          ],
          [
           40.20000000000002,
           6,
           212
          ],
          [
           73.70000000000002,
           11,
           213
          ],
          [
           80.80000000000004,
           10,
           214
          ],
          [
           36.00000000000003,
           8,
           215
          ],
          [
           64.40000000000006,
           3,
           216
          ],
          [
           3.399999999999949,
           6,
           217
          ],
          [
           22.799999999999983,
           6,
           218
          ],
          [
           73.6,
           4,
           219
          ],
          [
           36.09999999999994,
           5,
           220
          ],
          [
           24.200000000000017,
           8,
           221
          ],
          [
           86.79999999999993,
           6,
           222
          ],
          [
           18.199999999999903,
           8,
           223
          ],
          [
           32.20000000000002,
           2,
           224
          ],
          [
           63.40000000000012,
           7,
           225
          ],
          [
           53.80000000000004,
           6,
           226
          ],
          [
           92.39999999999989,
           12,
           227
          ],
          [
           65.20000000000002,
           5,
           228
          ],
          [
           72.80000000000015,
           8,
           229
          ],
          [
           53.99999999999997,
           12,
           230
          ],
          [
           59.000000000000085,
           10,
           231
          ],
          [
           21.80000000000004,
           4,
           232
          ],
          [
           49.99999999999997,
           8,
           233
          ],
          [
           64.60000000000005,
           12,
           234
          ],
          [
           29.80000000000004,
           8,
           235
          ],
          [
           -11.600000000000051,
           8,
           236
          ],
          [
           33.700000000000074,
           5,
           237
          ],
          [
           80.20000000000002,
           6,
           238
          ],
          [
           43.10000000000011,
           5,
           239
          ],
          [
           41.20000000000013,
           9,
           240
          ],
          [
           71.20000000000013,
           7,
           241
          ],
          [
           32.79999999999987,
           13,
           242
          ],
          [
           -25.00000000000003,
           14,
           243
          ],
          [
           36.1999999999999,
           8,
           244
          ],
          [
           45.20000000000002,
           4,
           245
          ],
          [
           56.1999999999999,
           8,
           246
          ],
          [
           24.600000000000108,
           8,
           247
          ],
          [
           38.59999999999988,
           5,
           248
          ],
          [
           22.400000000000063,
           12,
           249
          ],
          [
           63.1999999999999,
           4,
           250
          ],
          [
           0.39999999999994884,
           8,
           251
          ],
          [
           -14.000000000000085,
           12,
           252
          ],
          [
           83.40000000000018,
           7,
           253
          ],
          [
           51.60000000000011,
           6,
           254
          ],
          [
           7.000000000000142,
           7,
           255
          ],
          [
           -26.700000000000244,
           13,
           256
          ],
          [
           52.80000000000004,
           7,
           257
          ],
          [
           74.59999999999988,
           14,
           258
          ],
          [
           39.39999999999989,
           9,
           259
          ],
          [
           34.599999999999994,
           10,
           260
          ],
          [
           64.60000000000011,
           4,
           261
          ],
          [
           28.400000000000063,
           4,
           262
          ],
          [
           66.39999999999995,
           8,
           263
          ],
          [
           18.799999999999812,
           10,
           264
          ],
          [
           -2.842170943040401e-14,
           8,
           265
          ],
          [
           49.80000000000004,
           10,
           266
          ],
          [
           111.20000000000013,
           10,
           267
          ],
          [
           49.40000000000006,
           4,
           268
          ],
          [
           -18.599999999999937,
           8,
           269
          ],
          [
           20.999999999999858,
           14,
           270
          ],
          [
           83.20000000000002,
           10,
           271
          ],
          [
           54.599999999999994,
           8,
           272
          ],
          [
           25.999999999999744,
           9,
           273
          ],
          [
           25.80000000000004,
           6,
           274
          ],
          [
           18.599999999999994,
           10,
           275
          ],
          [
           57.599999999999994,
           4,
           276
          ],
          [
           59.20000000000019,
           10,
           277
          ],
          [
           65.20000000000013,
           8,
           278
          ],
          [
           18.80000000000004,
           13,
           279
          ],
          [
           31.599999999999994,
           14,
           280
          ],
          [
           49.1999999999999,
           10,
           281
          ],
          [
           43.60000000000011,
           5,
           282
          ],
          [
           58.39999999999989,
           12,
           283
          ],
          [
           17.99999999999997,
           10,
           284
          ],
          [
           12.199999999999903,
           4,
           285
          ],
          [
           53.799999999999926,
           8,
           286
          ],
          [
           -17.400000000000006,
           8,
           287
          ],
          [
           22.59999999999988,
           6,
           288
          ],
          [
           70.20000000000002,
           12,
           289
          ],
          [
           42.39999999999995,
           14,
           290
          ],
          [
           15.599999999999994,
           4,
           291
          ],
          [
           34.599999999999994,
           6,
           292
          ],
          [
           32.399999999999835,
           12,
           293
          ],
          [
           71.99999999999997,
           8,
           294
          ],
          [
           48.599999999999994,
           5,
           295
          ],
          [
           35.79999999999998,
           10,
           296
          ],
          [
           25.200000000000074,
           9,
           297
          ],
          [
           15.599999999999994,
           4,
           298
          ],
          [
           55.99999999999997,
           7,
           299
          ],
          [
           39.599999999999994,
           6,
           300
          ],
          [
           1.1000000000000512,
           7,
           301
          ],
          [
           37.20000000000002,
           9,
           302
          ],
          [
           90.6,
           12,
           303
          ],
          [
           51.79999999999998,
           8,
           304
          ],
          [
           19.799999999999926,
           10,
           305
          ],
          [
           -33.59999999999994,
           10,
           306
          ],
          [
           58.3000000000001,
           5,
           307
          ],
          [
           49.799999999999926,
           4,
           308
          ],
          [
           57.30000000000004,
           5,
           309
          ],
          [
           29.39999999999995,
           6,
           310
          ],
          [
           17.99999999999997,
           6,
           311
          ],
          [
           21.400000000000063,
           6,
           312
          ],
          [
           42.20000000000002,
           8,
           313
          ],
          [
           40.49999999999997,
           3,
           314
          ],
          [
           64.99999999999986,
           10,
           315
          ],
          [
           29.200000000000074,
           8,
           316
          ],
          [
           34.000000000000085,
           6,
           317
          ],
          [
           51.000000000000085,
           6,
           318
          ],
          [
           14.300000000000097,
           5,
           319
          ],
          [
           88.99999999999997,
           12,
           320
          ],
          [
           35.39999999999995,
           7,
           321
          ],
          [
           91.90000000000006,
           5,
           322
          ],
          [
           91.40000000000012,
           10,
           323
          ],
          [
           45.399999999999835,
           5,
           324
          ],
          [
           55.799999999999926,
           3,
           325
          ],
          [
           -17.000000000000085,
           12,
           326
          ],
          [
           -8.200000000000074,
           10,
           327
          ],
          [
           60.59999999999988,
           6,
           328
          ],
          [
           -14.000000000000085,
           12,
           329
          ],
          [
           52.20000000000002,
           12,
           330
          ],
          [
           18.99999999999997,
           10,
           331
          ],
          [
           59.40000000000006,
           11,
           332
          ],
          [
           35.60000000000011,
           8,
           333
          ],
          [
           -47.80000000000004,
           12,
           334
          ],
          [
           60.999999999999915,
           6,
           335
          ],
          [
           31.400000000000006,
           7,
           336
          ],
          [
           51.799999999999926,
           8,
           337
          ],
          [
           56.900000000000006,
           7,
           338
          ],
          [
           57.799999999999926,
           4,
           339
          ],
          [
           72.6,
           6,
           340
          ],
          [
           9.200000000000074,
           9,
           341
          ],
          [
           9.799999999999983,
           7,
           342
          ],
          [
           82.99999999999997,
           8,
           343
          ],
          [
           40.900000000000006,
           9,
           344
          ],
          [
           45.60000000000011,
           8,
           345
          ],
          [
           5.999999999999972,
           6,
           346
          ],
          [
           37.20000000000013,
           6,
           347
          ],
          [
           49.19999999999979,
           10,
           348
          ],
          [
           2.19999999999996,
           12,
           349
          ],
          [
           29.799999999999926,
           8,
           350
          ],
          [
           80.39999999999995,
           5,
           351
          ],
          [
           52.40000000000006,
           8,
           352
          ],
          [
           30.199999999999903,
           10,
           353
          ],
          [
           16.400000000000063,
           8,
           354
          ],
          [
           56.80000000000004,
           6,
           355
          ],
          [
           23.39999999999995,
           10,
           356
          ],
          [
           32.60000000000011,
           7,
           357
          ],
          [
           7.399999999999949,
           18,
           358
          ],
          [
           18.600000000000108,
           7,
           359
          ],
          [
           66.60000000000011,
           9,
           360
          ],
          [
           41.39999999999995,
           10,
           361
          ],
          [
           40.40000000000006,
           8,
           362
          ],
          [
           52.40000000000006,
           4,
           363
          ],
          [
           -1.0000000000000284,
           10,
           364
          ],
          [
           79.99999999999997,
           4,
           365
          ],
          [
           80.1,
           5,
           366
          ],
          [
           66.39999999999984,
           8,
           367
          ],
          [
           -9.800000000000097,
           11,
           368
          ],
          [
           74.80000000000004,
           3,
           369
          ],
          [
           83.6,
           8,
           370
          ],
          [
           33.99999999999997,
           10,
           371
          ],
          [
           97.00000000000003,
           9,
           372
          ],
          [
           38.60000000000005,
           15,
           373
          ],
          [
           70.40000000000006,
           5,
           374
          ],
          [
           35.000000000000085,
           8,
           375
          ],
          [
           19.599999999999994,
           10,
           376
          ],
          [
           26.600000000000108,
           8,
           377
          ],
          [
           25.59999999999988,
           10,
           378
          ],
          [
           31.400000000000063,
           6,
           379
          ],
          [
           40.599999999999994,
           7,
           380
          ],
          [
           74.09999999999994,
           7,
           381
          ],
          [
           79.6,
           5,
           382
          ],
          [
           74.60000000000011,
           11,
           383
          ],
          [
           54.39999999999995,
           4,
           384
          ],
          [
           36.799999999999926,
           11,
           385
          ],
          [
           38.40000000000006,
           8,
           386
          ],
          [
           70.79999999999993,
           6,
           387
          ],
          [
           49.000000000000085,
           9,
           388
          ],
          [
           41.80000000000004,
           5,
           389
          ],
          [
           40.39999999999995,
           8,
           390
          ],
          [
           44.0000000000002,
           6,
           391
          ],
          [
           53.20000000000002,
           2,
           392
          ],
          [
           79.40000000000006,
           6,
           393
          ],
          [
           25.199999999999903,
           8,
           394
          ],
          [
           40.59999999999988,
           14,
           395
          ],
          [
           41.799999999999926,
           7,
           396
          ],
          [
           51.99999999999997,
           4,
           397
          ],
          [
           -12.999999999999915,
           9,
           398
          ],
          [
           8.999999999999858,
           10,
           399
          ],
          [
           42.19999999999985,
           14,
           400
          ],
          [
           46.599999999999994,
           6,
           401
          ],
          [
           39.8000000000001,
           7,
           402
          ],
          [
           60.40000000000006,
           6,
           403
          ],
          [
           52.599999999999994,
           8,
           404
          ],
          [
           6.399999999999949,
           4,
           405
          ],
          [
           32.000000000000085,
           8,
           406
          ],
          [
           29.799999999999926,
           8,
           407
          ],
          [
           86.60000000000011,
           5,
           408
          ],
          [
           36.80000000000004,
           5,
           409
          ],
          [
           83.59999999999988,
           6,
           410
          ],
          [
           57.40000000000006,
           7,
           411
          ],
          [
           51.60000000000005,
           5,
           412
          ],
          [
           4.599999999999881,
           8,
           413
          ],
          [
           39.59999999999988,
           6,
           414
          ],
          [
           42.29999999999998,
           7,
           415
          ],
          [
           42.29999999999998,
           1,
           416
          ],
          [
           -3.0000000000000284,
           10,
           417
          ],
          [
           39.599999999999994,
           8,
           418
          ],
          [
           70.1,
           5,
           419
          ],
          [
           73.59999999999988,
           8,
           420
          ],
          [
           66.39999999999995,
           4,
           421
          ],
          [
           60.20000000000002,
           5,
           422
          ],
          [
           31.399999999999835,
           6,
           423
          ],
          [
           33.599999999999994,
           6,
           424
          ],
          [
           -10.000000000000142,
           8,
           425
          ],
          [
           88.79999999999993,
           12,
           426
          ],
          [
           32.99999999999997,
           8,
           427
          ],
          [
           32.20000000000002,
           2,
           428
          ],
          [
           65.20000000000002,
           5,
           429
          ],
          [
           63.799999999999926,
           8,
           430
          ],
          [
           -36.39999999999989,
           12,
           431
          ],
          [
           -2.8000000000000966,
           6,
           432
          ],
          [
           55.80000000000004,
           10,
           433
          ],
          [
           44.59999999999988,
           12,
           434
          ],
          [
           16.40000000000012,
           7,
           435
          ],
          [
           57.19999999999996,
           12,
           436
          ],
          [
           26.400000000000063,
           12,
           437
          ],
          [
           85.30000000000004,
           3,
           438
          ],
          [
           16.399999999999835,
           9,
           439
          ],
          [
           30.39999999999995,
           10,
           440
          ],
          [
           30.799999999999926,
           6,
           441
          ],
          [
           74.20000000000002,
           8,
           442
          ],
          [
           2.9999999999999716,
           10,
           443
          ],
          [
           10.999999999999744,
           12,
           444
          ],
          [
           42.39999999999995,
           15,
           445
          ],
          [
           86.1999999999999,
           10,
           446
          ],
          [
           -66.79999999999998,
           14,
           447
          ],
          [
           37.1999999999999,
           6,
           448
          ],
          [
           54.599999999999994,
           8,
           449
          ],
          [
           35.00000000000014,
           5,
           450
          ],
          [
           62.1999999999999,
           12,
           451
          ],
          [
           50.40000000000006,
           8,
           452
          ],
          [
           69.99999999999997,
           6,
           453
          ],
          [
           39.49999999999986,
           7,
           454
          ],
          [
           8.599999999999994,
           6,
           455
          ],
          [
           82.99999999999997,
           8,
           456
          ],
          [
           93.39999999999995,
           8,
           457
          ],
          [
           4.000000000000085,
           8,
           458
          ],
          [
           98.80000000000004,
           8,
           459
          ],
          [
           22.99999999999997,
           10,
           460
          ],
          [
           72.99999999999997,
           6,
           461
          ],
          [
           58.59999999999988,
           4,
           462
          ],
          [
           19.99999999999997,
           4,
           463
          ],
          [
           59.1999999999999,
           10,
           464
          ],
          [
           52.40000000000006,
           4,
           465
          ],
          [
           40.000000000000085,
           9,
           466
          ],
          [
           -8.399999999999892,
           8,
           467
          ],
          [
           42.59999999999988,
           8,
           468
          ],
          [
           68.39999999999995,
           4,
           469
          ],
          [
           77.1999999999999,
           8,
           470
          ],
          [
           -7.200000000000074,
           6,
           471
          ],
          [
           14.599999999999994,
           8,
           472
          ],
          [
           73.4,
           14,
           473
          ],
          [
           2.7999999999998693,
           7,
           474
          ],
          [
           35.19999999999996,
           10,
           475
          ],
          [
           51.400000000000176,
           9,
           476
          ],
          [
           46.50000000000003,
           9,
           477
          ],
          [
           32.39999999999995,
           6,
           478
          ],
          [
           59.59999999999988,
           8,
           479
          ],
          [
           29.599999999999994,
           10,
           480
          ],
          [
           64.00000000000003,
           7,
           481
          ],
          [
           29.000000000000085,
           6,
           482
          ],
          [
           73.39999999999995,
           5,
           483
          ],
          [
           82.00000000000009,
           8,
           484
          ],
          [
           90.79999999999993,
           11,
           485
          ],
          [
           110.79999999999993,
           10,
           486
          ],
          [
           -9.399999999999892,
           8,
           487
          ],
          [
           -8.000000000000085,
           5,
           488
          ],
          [
           60.79999999999981,
           8,
           489
          ],
          [
           51.599999999999994,
           5,
           490
          ],
          [
           45.59999999999988,
           10,
           491
          ],
          [
           -14.200000000000188,
           10,
           492
          ],
          [
           47.80000000000004,
           8,
           493
          ],
          [
           40.200000000000074,
           10,
           494
          ],
          [
           41.19999999999996,
           8,
           495
          ],
          [
           21.99999999999997,
           9,
           496
          ],
          [
           37.39999999999995,
           6,
           497
          ],
          [
           17.99999999999997,
           8,
           498
          ],
          [
           35.599999999999994,
           8,
           499
          ],
          [
           16.59999999999988,
           8,
           500
          ],
          [
           30.80000000000004,
           8,
           501
          ],
          [
           43.40000000000006,
           5,
           502
          ],
          [
           42.80000000000004,
           6,
           503
          ],
          [
           32.40000000000006,
           5,
           504
          ],
          [
           80.80000000000004,
           4,
           505
          ],
          [
           -9.599999999999994,
           5,
           506
          ],
          [
           42.0000000000002,
           8,
           507
          ],
          [
           17.400000000000063,
           4,
           508
          ],
          [
           59.1999999999999,
           8,
           509
          ],
          [
           25.39999999999995,
           5,
           510
          ],
          [
           33.80000000000004,
           6,
           511
          ],
          [
           67.80000000000004,
           8,
           512
          ],
          [
           26.599999999999994,
           10,
           513
          ],
          [
           52.40000000000006,
           4,
           514
          ],
          [
           78.6,
           4,
           515
          ],
          [
           31.799999999999926,
           10,
           516
          ],
          [
           67.79999999999993,
           9,
           517
          ],
          [
           26.800000000000153,
           11,
           518
          ],
          [
           30.59999999999988,
           8,
           519
          ],
          [
           35.20000000000002,
           4,
           520
          ],
          [
           35.1999999999999,
           8,
           521
          ],
          [
           69.19999999999996,
           8,
           522
          ],
          [
           41.599999999999994,
           8,
           523
          ],
          [
           73.20000000000002,
           8,
           524
          ],
          [
           12.600000000000108,
           7,
           525
          ],
          [
           27.49999999999997,
           7,
           526
          ],
          [
           40.40000000000006,
           8,
           527
          ],
          [
           14.79999999999987,
           11,
           528
          ],
          [
           91.40000000000006,
           3,
           529
          ],
          [
           15.400000000000176,
           11,
           530
          ],
          [
           57.799999999999926,
           10,
           531
          ],
          [
           15.79999999999987,
           11,
           532
          ],
          [
           64.1999999999999,
           8,
           533
          ],
          [
           69.40000000000006,
           7,
           534
          ],
          [
           69.80000000000004,
           10,
           535
          ],
          [
           14.80000000000004,
           10,
           536
          ],
          [
           80.40000000000006,
           10,
           537
          ],
          [
           104.20000000000002,
           12,
           538
          ],
          [
           57.799999999999926,
           4,
           539
          ],
          [
           36.80000000000004,
           5,
           540
          ],
          [
           43.1999999999999,
           6,
           541
          ],
          [
           44.599999999999994,
           5,
           542
          ],
          [
           50.400000000000006,
           7,
           543
          ],
          [
           28.99999999999997,
           11,
           544
          ],
          [
           41.99999999999986,
           6,
           545
          ],
          [
           21.599999999999937,
           15,
           546
          ],
          [
           24.60000000000005,
           8,
           547
          ],
          [
           31.200000000000017,
           6,
           548
          ],
          [
           77.79999999999993,
           12,
           549
          ],
          [
           42.50000000000003,
           9,
           550
          ],
          [
           23.400000000000176,
           10,
           551
          ],
          [
           34.80000000000004,
           6,
           552
          ],
          [
           47.200000000000074,
           8,
           553
          ],
          [
           71.49999999999997,
           7,
           554
          ],
          [
           81.20000000000002,
           8,
           555
          ],
          [
           51.200000000000074,
           8,
           556
          ],
          [
           57.19999999999996,
           8,
           557
          ],
          [
           43.99999999999997,
           2,
           558
          ],
          [
           80.79999999999998,
           9,
           559
          ],
          [
           32.20000000000002,
           7,
           560
          ],
          [
           52.59999999999988,
           7,
           561
          ],
          [
           10.400000000000063,
           8,
           562
          ],
          [
           19.999999999999858,
           5,
           563
          ],
          [
           94.20000000000002,
           9,
           564
          ],
          [
           -10.19999999999996,
           7,
           565
          ],
          [
           34.79999999999998,
           10,
           566
          ],
          [
           60.59999999999988,
           7,
           567
          ],
          [
           30.799999999999983,
           13,
           568
          ],
          [
           36.099999999999824,
           11,
           569
          ],
          [
           -18.19999999999996,
           10,
           570
          ],
          [
           69.1999999999999,
           10,
           571
          ],
          [
           10.59999999999988,
           6,
           572
          ],
          [
           43.000000000000085,
           10,
           573
          ],
          [
           48.19999999999985,
           10,
           574
          ],
          [
           25.000000000000085,
           6,
           575
          ],
          [
           32.39999999999995,
           8,
           576
          ],
          [
           42.200000000000074,
           12,
           577
          ],
          [
           54.399999999999835,
           6,
           578
          ],
          [
           5.999999999999858,
           8,
           579
          ],
          [
           23.099999999999937,
           3,
           580
          ],
          [
           9.399999999999949,
           10,
           581
          ],
          [
           66.69999999999996,
           9,
           582
          ],
          [
           -14.000000000000028,
           8,
           583
          ],
          [
           -3.400000000000176,
           12,
           584
          ],
          [
           3.4000000000000057,
           12,
           585
          ],
          [
           23.39999999999995,
           9,
           586
          ],
          [
           20.79999999999987,
           12,
           587
          ],
          [
           40.1999999999999,
           6,
           588
          ],
          [
           31.799999999999926,
           16,
           589
          ],
          [
           12.40000000000012,
           10,
           590
          ],
          [
           47.599999999999994,
           13,
           591
          ],
          [
           19.000000000000085,
           10,
           592
          ],
          [
           20.199999999999903,
           12,
           593
          ],
          [
           36.599999999999994,
           4,
           594
          ],
          [
           -20.79999999999987,
           12,
           595
          ],
          [
           54.599999999999994,
           3,
           596
          ],
          [
           47.39999999999995,
           2,
           597
          ],
          [
           46.20000000000002,
           9,
           598
          ],
          [
           15.80000000000004,
           10,
           599
          ],
          [
           58.60000000000011,
           8,
           600
          ],
          [
           57.599999999999994,
           4,
           601
          ],
          [
           60.40000000000006,
           6,
           602
          ],
          [
           54.599999999999994,
           8,
           603
          ],
          [
           89.40000000000006,
           7,
           604
          ],
          [
           49.20000000000002,
           8,
           605
          ],
          [
           21.59999999999988,
           6,
           606
          ],
          [
           64.79999999999998,
           9,
           607
          ],
          [
           60.40000000000006,
           9,
           608
          ],
          [
           73.99999999999986,
           10,
           609
          ],
          [
           10.100000000000165,
           9,
           610
          ],
          [
           10.599999999999994,
           4,
           611
          ],
          [
           12.000000000000142,
           9,
           612
          ],
          [
           2.399999999999835,
           6,
           613
          ],
          [
           33.80000000000004,
           6,
           614
          ],
          [
           51.20000000000002,
           8,
           615
          ],
          [
           -4.399999999999949,
           10,
           616
          ],
          [
           54.80000000000004,
           6,
           617
          ],
          [
           63.40000000000006,
           8,
           618
          ],
          [
           68.40000000000006,
           10,
           619
          ],
          [
           6.599999999999881,
           8,
           620
          ],
          [
           72.10000000000011,
           3,
           621
          ],
          [
           41.200000000000074,
           10,
           622
          ],
          [
           60.20000000000013,
           9,
           623
          ],
          [
           25.799999999999926,
           10,
           624
          ],
          [
           32.000000000000085,
           7,
           625
          ],
          [
           70.1999999999999,
           14,
           626
          ],
          [
           40.20000000000002,
           4,
           627
          ],
          [
           74.99999999999997,
           8,
           628
          ],
          [
           38.80000000000004,
           4,
           629
          ],
          [
           63.39999999999989,
           8,
           630
          ],
          [
           49.60000000000005,
           4,
           631
          ],
          [
           68.40000000000006,
           8,
           632
          ],
          [
           68.6,
           10,
           633
          ],
          [
           26.60000000000005,
           8,
           634
          ],
          [
           50.799999999999926,
           8,
           635
          ],
          [
           33.60000000000005,
           5,
           636
          ],
          [
           41.799999999999926,
           7,
           637
          ],
          [
           28.799999999999812,
           10,
           638
          ],
          [
           36.80000000000004,
           5,
           639
          ],
          [
           66.99999999999986,
           12,
           640
          ],
          [
           -4.000000000000142,
           8,
           641
          ],
          [
           50.1999999999999,
           4,
           642
          ],
          [
           58.20000000000002,
           6,
           643
          ],
          [
           90.1999999999999,
           10,
           644
          ],
          [
           83.20000000000002,
           3,
           645
          ],
          [
           24.100000000000108,
           7,
           646
          ],
          [
           71.49999999999997,
           7,
           647
          ],
          [
           19.000000000000085,
           9,
           648
          ],
          [
           30.400000000000063,
           10,
           649
          ],
          [
           65.40000000000006,
           4,
           650
          ],
          [
           -26.799999999999983,
           8,
           651
          ],
          [
           61.999999999999915,
           10,
           652
          ],
          [
           70.39999999999995,
           6,
           653
          ],
          [
           33.1999999999999,
           4,
           654
          ],
          [
           80.79999999999993,
           6,
           655
          ],
          [
           33.80000000000004,
           6,
           656
          ],
          [
           73.79999999999993,
           3,
           657
          ],
          [
           59.1999999999999,
           6,
           658
          ],
          [
           15.400000000000063,
           11,
           659
          ],
          [
           23.200000000000017,
           6,
           660
          ],
          [
           36.99999999999997,
           5,
           661
          ],
          [
           19.599999999999994,
           6,
           662
          ],
          [
           12.200000000000017,
           8,
           663
          ],
          [
           49.79999999999981,
           10,
           664
          ],
          [
           87.20000000000002,
           6,
           665
          ],
          [
           61.20000000000002,
           4,
           666
          ],
          [
           76.49999999999997,
           5,
           667
          ],
          [
           28.39999999999995,
           6,
           668
          ],
          [
           40.600000000000165,
           11,
           669
          ],
          [
           43.90000000000006,
           7,
           670
          ],
          [
           -9.199999999999903,
           13,
           671
          ],
          [
           36.39999999999995,
           10,
           672
          ],
          [
           23.99999999999997,
           4,
           673
          ],
          [
           33.1999999999999,
           4,
           674
          ],
          [
           -8.999999999999915,
           10,
           675
          ],
          [
           68.6,
           4,
           676
          ],
          [
           11.600000000000108,
           8,
           677
          ],
          [
           13.599999999999994,
           8,
           678
          ],
          [
           31.899999999999835,
           13,
           679
          ],
          [
           65.39999999999995,
           8,
           680
          ],
          [
           4.999999999999972,
           4,
           681
          ],
          [
           17.39999999999995,
           6,
           682
          ],
          [
           -25.399999999999892,
           9,
           683
          ],
          [
           22.400000000000176,
           13,
           684
          ],
          [
           23.199999999999903,
           9,
           685
          ],
          [
           72.29999999999993,
           7,
           686
          ],
          [
           42.40000000000006,
           8,
           687
          ],
          [
           90.20000000000013,
           7,
           688
          ],
          [
           47.20000000000002,
           6,
           689
          ],
          [
           95.40000000000006,
           5,
           690
          ],
          [
           34.20000000000013,
           6,
           691
          ],
          [
           40.99999999999997,
           2,
           692
          ],
          [
           12.999999999999915,
           8,
           693
          ],
          [
           44.59999999999988,
           14,
           694
          ],
          [
           48.599999999999994,
           10,
           695
          ],
          [
           70.19999999999996,
           8,
           696
          ],
          [
           102.8000000000001,
           9,
           697
          ],
          [
           48.30000000000004,
           9,
           698
          ],
          [
           71.80000000000015,
           14,
           699
          ],
          [
           72.99999999999997,
           10,
           700
          ],
          [
           40.99999999999997,
           5,
           701
          ],
          [
           60.99999999999997,
           9,
           702
          ],
          [
           31.000000000000085,
           12,
           703
          ],
          [
           46.000000000000085,
           6,
           704
          ],
          [
           53.799999999999926,
           10,
           705
          ],
          [
           49.60000000000011,
           14,
           706
          ],
          [
           33.20000000000002,
           9,
           707
          ],
          [
           32.20000000000002,
           2,
           708
          ],
          [
           42.39999999999995,
           8,
           709
          ],
          [
           37.19999999999996,
           8,
           710
          ],
          [
           58.20000000000002,
           8,
           711
          ],
          [
           59.99999999999997,
           4,
           712
          ],
          [
           45.49999999999997,
           9,
           713
          ],
          [
           54.80000000000004,
           4,
           714
          ],
          [
           15.200000000000017,
           6,
           715
          ],
          [
           74.20000000000002,
           7,
           716
          ],
          [
           71.20000000000002,
           8,
           717
          ],
          [
           49.40000000000006,
           8,
           718
          ],
          [
           19.599999999999994,
           6,
           719
          ],
          [
           23.199999999999903,
           9,
           720
          ],
          [
           26.700000000000074,
           11,
           721
          ],
          [
           42.1999999999999,
           7,
           722
          ],
          [
           36.19999999999996,
           7,
           723
          ],
          [
           48.900000000000006,
           7,
           724
          ],
          [
           40.40000000000006,
           12,
           725
          ],
          [
           68.20000000000002,
           10,
           726
          ],
          [
           50.000000000000085,
           7,
           727
          ],
          [
           84.40000000000006,
           6,
           728
          ],
          [
           55.999999999999915,
           14,
           729
          ],
          [
           35.099999999999994,
           7,
           730
          ],
          [
           7.200000000000131,
           12,
           731
          ],
          [
           92.99999999999997,
           8,
           732
          ],
          [
           96.79999999999993,
           12,
           733
          ],
          [
           -28.400000000000006,
           6,
           734
          ],
          [
           79.6,
           3,
           735
          ],
          [
           -18.600000000000165,
           6,
           736
          ],
          [
           37.400000000000006,
           14,
           737
          ],
          [
           3.7999999999998693,
           7,
           738
          ],
          [
           48.40000000000006,
           10,
           739
          ],
          [
           40.000000000000085,
           9,
           740
          ],
          [
           47.99999999999986,
           8,
           741
          ],
          [
           42.99999999999997,
           6,
           742
          ],
          [
           84.20000000000007,
           8,
           743
          ],
          [
           72.60000000000011,
           6,
           744
          ],
          [
           25.399999999999835,
           7,
           745
          ],
          [
           9.800000000000267,
           12,
           746
          ],
          [
           107.6,
           14,
           747
          ],
          [
           5.69999999999996,
           7,
           748
          ],
          [
           36.000000000000085,
           10,
           749
          ],
          [
           29.000000000000085,
           12,
           750
          ],
          [
           40.1999999999999,
           7,
           751
          ],
          [
           71.39999999999995,
           6,
           752
          ],
          [
           4.400000000000006,
           12,
           753
          ],
          [
           103.60000000000005,
           10,
           754
          ],
          [
           39.40000000000006,
           6,
           755
          ],
          [
           41.59999999999988,
           10,
           756
          ],
          [
           69.80000000000004,
           14,
           757
          ],
          [
           30.200000000000017,
           12,
           758
          ],
          [
           32.39999999999995,
           6,
           759
          ],
          [
           57.59999999999994,
           8,
           760
          ],
          [
           42.799999999999926,
           8,
           761
          ],
          [
           39.70000000000002,
           3,
           762
          ],
          [
           70.00000000000009,
           7,
           763
          ],
          [
           91.39999999999989,
           14,
           764
          ],
          [
           92.40000000000006,
           10,
           765
          ],
          [
           83.60000000000011,
           6,
           766
          ],
          [
           82.79999999999993,
           6,
           767
          ],
          [
           -4.800000000000097,
           6,
           768
          ],
          [
           64.80000000000004,
           7,
           769
          ],
          [
           23.199999999999903,
           6,
           770
          ],
          [
           20.199999999999903,
           10,
           771
          ],
          [
           37.39999999999995,
           6,
           772
          ],
          [
           44.20000000000002,
           6,
           773
          ],
          [
           24.799999999999926,
           8,
           774
          ],
          [
           63.8000000000001,
           10,
           775
          ],
          [
           54.1999999999999,
           8,
           776
          ],
          [
           69.99999999999991,
           10,
           777
          ],
          [
           0.39999999999994884,
           6,
           778
          ],
          [
           22.200000000000074,
           10,
           779
          ],
          [
           30.600000000000108,
           8,
           780
          ],
          [
           23.600000000000108,
           6,
           781
          ],
          [
           25.80000000000004,
           6,
           782
          ],
          [
           -14.799999999999983,
           10,
           783
          ],
          [
           55.40000000000006,
           6,
           784
          ],
          [
           17.19999999999979,
           8,
           785
          ],
          [
           39.60000000000011,
           7,
           786
          ],
          [
           15.600000000000108,
           10,
           787
          ],
          [
           47.799999999999926,
           9,
           788
          ],
          [
           29.999999999999915,
           5,
           789
          ],
          [
           21.200000000000017,
           10,
           790
          ],
          [
           47.1999999999999,
           8,
           791
          ],
          [
           51.000000000000085,
           8,
           792
          ],
          [
           56.99999999999997,
           13,
           793
          ],
          [
           97.79999999999993,
           16,
           794
          ],
          [
           49.60000000000011,
           7,
           795
          ],
          [
           67.20000000000002,
           10,
           796
          ],
          [
           50.20000000000002,
           1,
           797
          ],
          [
           0.8000000000000398,
           10,
           798
          ],
          [
           35.00000000000003,
           11,
           799
          ],
          [
           70.39999999999995,
           6,
           800
          ],
          [
           24.39999999999995,
           4,
           801
          ],
          [
           54.19999999999996,
           7,
           802
          ],
          [
           48.89999999999995,
           7,
           803
          ],
          [
           16.799999999999983,
           6,
           804
          ],
          [
           65.60000000000011,
           11,
           805
          ],
          [
           19.80000000000004,
           7,
           806
          ],
          [
           91.10000000000011,
           5,
           807
          ],
          [
           56.20000000000002,
           4,
           808
          ],
          [
           45.39999999999995,
           12,
           809
          ],
          [
           38.20000000000002,
           8,
           810
          ],
          [
           61.39999999999995,
           9,
           811
          ],
          [
           29.39999999999995,
           10,
           812
          ],
          [
           70.00000000000009,
           7,
           813
          ],
          [
           36.40000000000006,
           8,
           814
          ],
          [
           52.399999999999835,
           8,
           815
          ],
          [
           33.799999999999926,
           8,
           816
          ],
          [
           48.599999999999994,
           5,
           817
          ],
          [
           36.799999999999926,
           6,
           818
          ],
          [
           25.999999999999858,
           8,
           819
          ],
          [
           61.59999999999994,
           9,
           820
          ],
          [
           54.500000000000085,
           11,
           821
          ],
          [
           34.40000000000006,
           6,
           822
          ],
          [
           32.00000000000003,
           8,
           823
          ],
          [
           42.40000000000006,
           6,
           824
          ],
          [
           50.79999999999987,
           9,
           825
          ],
          [
           39.59999999999988,
           6,
           826
          ],
          [
           75.80000000000015,
           7,
           827
          ],
          [
           85.80000000000004,
           6,
           828
          ],
          [
           14.799999999999926,
           5,
           829
          ],
          [
           0.20000000000013074,
           10,
           830
          ],
          [
           76.39999999999995,
           6,
           831
          ],
          [
           52.40000000000006,
           4,
           832
          ],
          [
           16.599999999999994,
           5,
           833
          ],
          [
           50.99999999999997,
           6,
           834
          ],
          [
           44.099999999999994,
           5,
           835
          ],
          [
           57.60000000000011,
           8,
           836
          ],
          [
           47.599999999999994,
           7,
           837
          ],
          [
           60.40000000000006,
           3,
           838
          ],
          [
           21.799999999999926,
           3,
           839
          ],
          [
           -18.599999999999937,
           8,
           840
          ],
          [
           17.39999999999995,
           6,
           841
          ],
          [
           36.20000000000013,
           10,
           842
          ],
          [
           6.799999999999926,
           10,
           843
          ],
          [
           80.79999999999993,
           6,
           844
          ],
          [
           25.80000000000004,
           6,
           845
          ],
          [
           30.69999999999996,
           9,
           846
          ],
          [
           20.999999999999915,
           6,
           847
          ],
          [
           22.000000000000085,
           9,
           848
          ],
          [
           75.1999999999999,
           11,
           849
          ],
          [
           69.1999999999999,
           8,
           850
          ],
          [
           67.79999999999993,
           6,
           851
          ],
          [
           36.99999999999997,
           13,
           852
          ],
          [
           -13.399999999999949,
           17,
           853
          ],
          [
           31.99999999999997,
           10,
           854
          ],
          [
           58.60000000000005,
           13,
           855
          ],
          [
           38.799999999999926,
           3,
           856
          ],
          [
           65.6,
           6,
           857
          ],
          [
           97.69999999999979,
           13,
           858
          ],
          [
           58.59999999999988,
           4,
           859
          ],
          [
           41.99999999999997,
           5,
           860
          ],
          [
           24.599999999999994,
           8,
           861
          ],
          [
           18.399999999999835,
           10,
           862
          ],
          [
           23.600000000000108,
           7,
           863
          ],
          [
           42.40000000000006,
           11,
           864
          ],
          [
           3.5999999999999943,
           10,
           865
          ],
          [
           29.199999999999903,
           8,
           866
          ],
          [
           43.99999999999986,
           6,
           867
          ],
          [
           101.80000000000004,
           8,
           868
          ],
          [
           40.99999999999997,
           2,
           869
          ],
          [
           42.599999999999994,
           8,
           870
          ],
          [
           57.99999999999986,
           14,
           871
          ],
          [
           62.000000000000085,
           5,
           872
          ],
          [
           -20.59999999999988,
           12,
           873
          ],
          [
           53.20000000000002,
           2,
           874
          ],
          [
           43.80000000000004,
           8,
           875
          ],
          [
           59.39999999999995,
           6,
           876
          ],
          [
           44.000000000000085,
           10,
           877
          ],
          [
           15.499999999999972,
           9,
           878
          ],
          [
           77.60000000000011,
           10,
           879
          ],
          [
           34.80000000000004,
           6,
           880
          ],
          [
           -41.60000000000005,
           10,
           881
          ],
          [
           60.20000000000002,
           10,
           882
          ],
          [
           81.00000000000014,
           10,
           883
          ],
          [
           85.80000000000004,
           8,
           884
          ],
          [
           15.399999999999835,
           8,
           885
          ],
          [
           45.99999999999997,
           8,
           886
          ],
          [
           5.19999999999979,
           10,
           887
          ],
          [
           42.99999999999997,
           6,
           888
          ],
          [
           36.20000000000002,
           5,
           889
          ],
          [
           76.39999999999995,
           6,
           890
          ],
          [
           11.399999999999949,
           6,
           891
          ],
          [
           28.99999999999997,
           9,
           892
          ],
          [
           34.799999999999926,
           6,
           893
          ],
          [
           62.20000000000013,
           9,
           894
          ],
          [
           37.000000000000085,
           7,
           895
          ],
          [
           13.999999999999915,
           8,
           896
          ],
          [
           46.99999999999997,
           6,
           897
          ],
          [
           88.80000000000004,
           6,
           898
          ],
          [
           55.79999999999981,
           6,
           899
          ],
          [
           45.79999999999998,
           6,
           900
          ],
          [
           52.40000000000006,
           4,
           901
          ],
          [
           46.1999999999999,
           6,
           902
          ],
          [
           83.40000000000006,
           8,
           903
          ],
          [
           14.20000000000013,
           12,
           904
          ],
          [
           32.20000000000002,
           10,
           905
          ],
          [
           39.400000000000006,
           10,
           906
          ],
          [
           37.79999999999998,
           10,
           907
          ],
          [
           65.20000000000002,
           4,
           908
          ],
          [
           23.80000000000004,
           5,
           909
          ],
          [
           56.19999999999985,
           14,
           910
          ],
          [
           75.80000000000004,
           8,
           911
          ],
          [
           96.4,
           10,
           912
          ],
          [
           -34.00000000000014,
           10,
           913
          ],
          [
           57.599999999999994,
           6,
           914
          ],
          [
           62.1999999999999,
           5,
           915
          ],
          [
           65.19999999999996,
           10,
           916
          ],
          [
           24.599999999999767,
           7,
           917
          ],
          [
           22.19999999999996,
           5,
           918
          ],
          [
           49.599999999999994,
           10,
           919
          ],
          [
           38.8000000000001,
           9,
           920
          ],
          [
           67.20000000000002,
           12,
           921
          ],
          [
           73.40000000000006,
           13,
           922
          ],
          [
           24.39999999999995,
           6,
           923
          ],
          [
           12.399999999999835,
           8,
           924
          ],
          [
           39.80000000000004,
           8,
           925
          ],
          [
           45.799999999999926,
           10,
           926
          ],
          [
           -6.19999999999996,
           10,
           927
          ],
          [
           51.59999999999988,
           8,
           928
          ],
          [
           96.20000000000002,
           5,
           929
          ],
          [
           16.800000000000153,
           14,
           930
          ],
          [
           36.00000000000003,
           6,
           931
          ],
          [
           78.6,
           4,
           932
          ],
          [
           26.80000000000004,
           7,
           933
          ],
          [
           8.799999999999812,
           10,
           934
          ],
          [
           5.69999999999996,
           7,
           935
          ],
          [
           102.1999999999999,
           10,
           936
          ],
          [
           82.39999999999995,
           8,
           937
          ],
          [
           64.39999999999995,
           9,
           938
          ],
          [
           96.80000000000004,
           8,
           939
          ],
          [
           53.39999999999995,
           12,
           940
          ],
          [
           25.80000000000004,
           8,
           941
          ],
          [
           96.20000000000002,
           5,
           942
          ],
          [
           62.99999999999986,
           10,
           943
          ],
          [
           34.79999999999981,
           12,
           944
          ],
          [
           39.39999999999995,
           10,
           945
          ],
          [
           49.99999999999997,
           9,
           946
          ],
          [
           66.20000000000013,
           8,
           947
          ],
          [
           57.59999999999994,
           12,
           948
          ],
          [
           64.10000000000011,
           9,
           949
          ],
          [
           33.1999999999999,
           6,
           950
          ],
          [
           37.59999999999988,
           12,
           951
          ],
          [
           14.400000000000063,
           10,
           952
          ],
          [
           61.1999999999999,
           5,
           953
          ],
          [
           52.39999999999995,
           10,
           954
          ],
          [
           54.40000000000006,
           8,
           955
          ],
          [
           36.99999999999997,
           7,
           956
          ],
          [
           76.39999999999995,
           10,
           957
          ],
          [
           61.20000000000002,
           4,
           958
          ],
          [
           21.400000000000063,
           7,
           959
          ],
          [
           -2.200000000000074,
           10,
           960
          ],
          [
           48.999999999999744,
           8,
           961
          ],
          [
           54.80000000000004,
           4,
           962
          ],
          [
           40.1999999999999,
           8,
           963
          ],
          [
           18.09999999999988,
           7,
           964
          ],
          [
           64.20000000000002,
           7,
           965
          ],
          [
           25.79999999999987,
           8,
           966
          ],
          [
           9.19999999999996,
           9,
           967
          ],
          [
           45.000000000000085,
           8,
           968
          ],
          [
           57.20000000000002,
           7,
           969
          ],
          [
           68.79999999999993,
           7,
           970
          ],
          [
           42.09999999999988,
           5,
           971
          ],
          [
           23.59999999999988,
           12,
           972
          ],
          [
           61.400000000000006,
           7,
           973
          ],
          [
           67.6999999999999,
           11,
           974
          ],
          [
           40.20000000000002,
           4,
           975
          ],
          [
           16.000000000000085,
           8,
           976
          ],
          [
           5.80000000000004,
           12,
           977
          ],
          [
           24.39999999999995,
           5,
           978
          ],
          [
           -2.9999999999999147,
           10,
           979
          ],
          [
           8.599999999999994,
           5,
           980
          ],
          [
           27.80000000000004,
           7,
           981
          ],
          [
           41.799999999999926,
           2,
           982
          ],
          [
           80.80000000000004,
           10,
           983
          ],
          [
           113.80000000000004,
           10,
           984
          ],
          [
           49.400000000000006,
           8,
           985
          ],
          [
           96.40000000000006,
           9,
           986
          ],
          [
           44.799999999999926,
           6,
           987
          ],
          [
           -6.400000000000119,
           6,
           988
          ],
          [
           55.39999999999995,
           12,
           989
          ],
          [
           55.400000000000006,
           5,
           990
          ],
          [
           79.99999999999997,
           4,
           991
          ],
          [
           60.99999999999997,
           5,
           992
          ],
          [
           50.59999999999988,
           4,
           993
          ],
          [
           23.39999999999995,
           9,
           994
          ],
          [
           22.199999999999903,
           15,
           995
          ],
          [
           30.599999999999994,
           10,
           996
          ],
          [
           56.79999999999998,
           8,
           997
          ],
          [
           48.1999999999999,
           10,
           998
          ],
          [
           -2.799999999999983,
           8,
           999
          ],
          [
           43.79999999999998,
           7,
           1000
          ]
         ],
         "fillcolor": "rgba(255,255,255,0)",
         "hoveron": "points",
         "hovertemplate": "model_type=PPO<br>fmt_total_profit_percentage=%{x}<br>total_reward_cash=%{customdata[0]}<br>num_of_trades=%{customdata[1]}<br>sim_id=%{customdata[2]}<extra></extra>",
         "jitter": 0,
         "legendgroup": "PPO",
         "line": {
          "color": "rgba(255,255,255,0)"
         },
         "marker": {
          "color": "#FF7F0E",
          "symbol": "line-ns-open"
         },
         "name": "PPO",
         "offsetgroup": "PPO",
         "showlegend": false,
         "type": "box",
         "x": [
          13.466408282733177,
          16.772738941511278,
          8.038035790606779,
          7.389703830905647,
          -0.45883809228269845,
          21.345467227409443,
          16.51625669304664,
          24.198626827184277,
          5.6622794062661574,
          7.537253021428159,
          33.428013841459745,
          27.303175856673413,
          23.646039930170893,
          17.816239080111963,
          17.95320712322137,
          14.96390972836239,
          10.71763810792219,
          28.027356599548625,
          36.08934102882746,
          29.276382480982388,
          31.69250683255742,
          23.68553457528215,
          17.81190092081546,
          9.256323787984332,
          16.260323210957562,
          18.185937866938207,
          18.374754843459364,
          14.570318324628474,
          5.082034013445935,
          23.85927111290924,
          27.840294086379558,
          13.811194800700655,
          17.263730603775972,
          24.63938997159363,
          11.96052739107727,
          21.48736571206573,
          8.825032365699137,
          16.397777691603,
          24.46517266824184,
          27.95346390968334,
          23.555562016121414,
          7.301055800238854,
          17.444230008943972,
          14.87987506774122,
          32.764308869125294,
          5.471810251230247,
          24.983376309088957,
          -4.887162907128262,
          21.843201715037154,
          9.205104871630642,
          22.7556881143254,
          40.00318494572133,
          7.8153141096800605,
          20.250917775142717,
          -5.095235386617947,
          31.78992261924247,
          21.677710633163905,
          14.480805375294171,
          9.254539045232768,
          23.91802189016634,
          12.676821127619743,
          32.31670463885439,
          28.731167873462617,
          36.649132701063266,
          10.42821968556835,
          20.015038518806392,
          -3.0935850606994997,
          3.0736110310081166,
          2.983700599933403,
          32.04591281182025,
          14.308664252470571,
          -12.3777999112472,
          15.268050551496803,
          37.26064356429302,
          15.324354132437158,
          -5.095503010341251,
          25.154682146321793,
          18.766263978674157,
          34.99542983887758,
          19.251892654723225,
          23.548240315314928,
          8.57417856505569,
          39.99140012948166,
          15.458184856516088,
          24.93397846029626,
          12.611995555771172,
          38.71377995190406,
          -0.47118863839885616,
          19.22529252333238,
          10.823634730308186,
          15.927831742942455,
          4.504386794762771,
          36.157869875251556,
          11.677289844108497,
          18.502365939194966,
          35.45749213325129,
          26.264352465725914,
          19.162985502593077,
          43.08517079425658,
          10.717869515301825,
          9.474355615182773,
          21.295328074388653,
          1.6240062460639804,
          7.301055800238854,
          40.78811441573657,
          18.21611428934855,
          -3.228563514703031,
          15.590594308166628,
          5.3848098720431725,
          17.589096389797444,
          20.16082900531655,
          14.116473676513808,
          15.801728024314809,
          27.252606194661098,
          30.129130643060154,
          27.2492060068789,
          9.268044120173546,
          27.704016171040237,
          34.84054336477218,
          4.196326234150605,
          19.999532000420395,
          23.043718986661776,
          37.007654853762716,
          0.1928614655177796,
          20.011742106198472,
          9.01196478396804,
          14.351804719274753,
          9.873025534615243,
          11.926681142350514,
          20.16972899277796,
          12.629329413008028,
          19.241311456827614,
          31.138297925349278,
          22.7556881143254,
          13.06605753361647,
          12.415726082612766,
          12.469345100122165,
          27.067571483752072,
          11.813494698445348,
          13.862960071890473,
          12.254301759795961,
          21.860552333676033,
          13.32550103664647,
          10.725885235087329,
          31.504999923993736,
          12.128733914061263,
          4.468321122667174,
          4.2130465158410235,
          33.720523892242895,
          11.98638120557749,
          20.218228922205796,
          16.102037449209238,
          23.15255098859994,
          20.930029523102856,
          11.289341177124367,
          15.541833537260885,
          22.643524751346543,
          0.946421540542719,
          3.3292249857255207,
          39.33228064979835,
          7.208106790457003,
          20.169728992777934,
          14.48504853075525,
          27.981957626731035,
          11.458046858164028,
          24.130803909059907,
          27.860917884772295,
          9.102140481983367,
          33.222496500603846,
          22.34042553191491,
          17.866503270459667,
          -3.730970584721849,
          24.75444875570616,
          -7.983741243184939,
          19.196508963752933,
          21.71877404819904,
          -8.319158151304274,
          35.32992965598909,
          4.337926060171671,
          25.217579618842258,
          20.757558964824717,
          10.296621222043022,
          15.38454938536149,
          13.064554944005224,
          25.38611957130219,
          28.69876389270565,
          7.974469164480769,
          2.2066670258487298,
          30.456241430089072,
          12.319978568462076,
          8.106393776169195,
          15.083540168087438,
          18.816244074163045,
          6.454503694971159,
          47.31180595573563,
          13.811194800700655,
          25.640330113539058,
          7.876635031698864,
          12.812922253191218,
          7.869913946349416,
          11.503698792755724,
          3.3287924990145212,
          10.339148896338756,
          4.030323234912725,
          13.695466428576397,
          26.293186186132566,
          36.602319895346966,
          24.86057576148484,
          -3.046582560600264,
          8.084654467796337,
          14.506185623934243,
          16.658984090903296,
          30.31084221853515,
          33.732426665660455,
          14.895798261314063,
          26.354007796098976,
          3.0533126255723353,
          9.766435770075056,
          30.70195163933016,
          14.837092455031398,
          10.422704773438806,
          36.51022578536001,
          8.243451172769367,
          13.59920962771457,
          25.91755774180595,
          22.362612857528298,
          37.72849995265612,
          26.706279132723232,
          30.24706248054867,
          22.287805352633615,
          24.584841937791357,
          8.573645862332246,
          20.178002711542177,
          25.186334206158346,
          12.715391508933283,
          -1.1999904524336635,
          14.643925583859584,
          33.579183078632994,
          17.695543491063038,
          16.65858160058582,
          29.28762886670939,
          13.50432959883683,
          -7.594363361775002,
          15.181054696971419,
          18.69168844956366,
          22.7870545091138,
          11.066869609706265,
          15.963313312408722,
          9.609291668408094,
          25.658508189482475,
          2.034000922892165,
          -4.1277294173405865,
          35.14504197900972,
          21.14319219239713,
          3.2627863776290233,
          -6.385631913114709,
          21.153343806570856,
          29.700305869563138,
          16.369517273621348,
          13.74989868054488,
          26.524626311820466,
          12.201983896124924,
          27.38736635491623,
          8.269130438234118,
          1.0074616514291979,
          20.60081611507405,
          47.31180595573563,
          20.34262107127809,
          -5.143540223362486,
          8.860195674698312,
          34.70104398858997,
          21.789695730621062,
          11.33460803868116,
          11.206139971636508,
          7.877540282438433,
          23.625734872867675,
          23.021830116731422,
          26.654858137872516,
          8.806733338895567,
          13.590796264800442,
          20.430480008143938,
          16.630679356761526,
          23.480539008421108,
          8.019208831374392,
          6.1123792431234,
          22.065855836576965,
          -2.9662054552695327,
          9.982686039383104,
          27.197428104601308,
          16.814587329089402,
          7.301055800238854,
          14.541160218292415,
          12.893347272910738,
          29.96096863254307,
          19.681444721461006,
          14.526642634117891,
          11.906378283906927,
          7.301055800238854,
          23.210861849221033,
          15.864720531802746,
          0.7351810329729203,
          15.167814145607617,
          37.38875560743038,
          21.39081551135529,
          8.947633158035039,
          -8.213037542447243,
          23.867744056938477,
          20.491468417747562,
          23.48985481166963,
          12.411361734611237,
          8.158722154335884,
          9.58202379415889,
          17.617529525808216,
          16.451260994935456,
          26.943694335168324,
          10.675044065350203,
          13.048931046381117,
          20.980619269992353,
          5.704777348923229,
          36.40950347504472,
          14.241492178909887,
          38.766523298686906,
          37.454378273386446,
          18.65963598103717,
          22.65215028642611,
          -3.610394958863239,
          -1.2561677056789344,
          24.848076941219198,
          -3.5513424984464192,
          21.71732663677539,
          9.76927813163433,
          23.347000600922097,
          14.969012645059498,
          -13.515936802053119,
          24.925199400739718,
          13.266507952425922,
          21.05244470440406,
          23.564014184070192,
          23.78612653565655,
          29.619645382486624,
          5.7018072092196,
          4.91718203241569,
          34.63496156224159,
          17.11823467357867,
          18.70312137514354,
          2.828694572514334,
          15.078796500859127,
          19.38407378786384,
          1.389347294444998,
          12.214495700677874,
          33.328063882531936,
          21.439520193988294,
          13.155419907346388,
          8.6198313919869,
          23.335543504682988,
          10.160474607685321,
          12.487816576852651,
          4.919599374426853,
          8.434639377599273,
          25.820181473229752,
          17.273810245328058,
          16.51625669304664,
          21.515876734893435,
          0.9007905052656362,
          33.51455600216513,
          33.1105010218526,
          27.67449417215002,
          -1.5996651078414192,
          31.104781691240845,
          35.413101666053,
          13.144721575901919,
          40.128278205037574,
          16.167854392420832,
          29.175480555985157,
          14.685392784616248,
          9.159649447763574,
          11.42306636223427,
          10.138772455262647,
          13.295874089833104,
          17.416219162156832,
          30.741367869460777,
          32.97204784945353,
          30.853580699990268,
          21.987409230526556,
          15.195432492638773,
          14.946495767219382,
          29.23353600898009,
          19.867191005975116,
          18.1241237662775,
          16.70730718038287,
          17.05795696413588,
          21.841220302138353,
          33.222496500603846,
          10.756473747080818,
          15.902247660823177,
          16.839347367829728,
          21.345467227409443,
          -3.9172422622374747,
          5.355190559423084,
          17.800459143284098,
          19.16939471218764,
          16.43612101267342,
          24.78888521553264,
          21.517852856972407,
          4.061584183433653,
          13.09919431324873,
          11.54913104302251,
          36.299280943044245,
          15.281941323577986,
          33.78731737953753,
          22.882273400098676,
          22.04038839758833,
          2.918353870839341,
          16.260323210957562,
          17.40034215213353,
          17.307692307692292,
          0.8545694202435339,
          16.12541188845411,
          28.72552958371073,
          29.793674223176623,
          27.614612920869885,
          24.92465355471911,
          13.255366971985637,
          14.146205610248197,
          -1.4945057947306717,
          37.21662507376815,
          13.745774581182712,
          13.59920962771457,
          26.706279132723232,
          26.417913518860804,
          -9.05409300339196,
          1.1013020787155048,
          21.575651568934017,
          18.582552584080126,
          8.554134300457527,
          22.950259551295993,
          11.250109948057908,
          35.77755904276163,
          7.35624919851936,
          13.277556236398258,
          12.863791152308268,
          30.70101133256764,
          2.9084392409426174,
          3.825812495316705,
          16.581791734632656,
          35.70371399704169,
          -17.937062149385486,
          15.521471496665473,
          22.313700537354777,
          14.464628582054884,
          25.445389904582427,
          20.9527528304815,
          28.888453289777406,
          16.348211168046944,
          5.664343715630626,
          35.16206232156536,
          39.515318735309336,
          4.184712709764504,
          42.07817343102123,
          11.241048547682109,
          30.22161380511539,
          24.117548412901435,
          9.102140481983367,
          23.651530680835698,
          21.515876734893435,
          16.488852949524713,
          -1.898182524719838,
          17.23593752929249,
          28.208752677149242,
          32.176172529618505,
          -0.5677028159085773,
          5.785983201382927,
          29.718490896644113,
          3.7240798849864643,
          13.081348113152558,
          20.664075823942408,
          18.751570794430663,
          13.50729321454578,
          23.843658205870245,
          12.541799438734525,
          26.42297717351818,
          11.160900494461213,
          30.453323965415315,
          34.41549550029164,
          38.176790191032865,
          47.120293230403895,
          -2.3661093236588715,
          0.1355724085482679,
          24.52429554020876,
          21.17686696222043,
          18.451610318639354,
          -2.9798248540682026,
          19.84616843899851,
          15.856910658045308,
          17.172080517343424,
          9.62928595721353,
          15.06364739209587,
          7.782255931570581,
          14.841515052004194,
          8.600759895276111,
          12.732821248676718,
          17.81972153114031,
          17.75049881948556,
          13.550564766152373,
          33.816512517537504,
          -0.43810408740984075,
          17.207536375608345,
          8.05914922045108,
          23.98840060445884,
          10.980562365004864,
          13.849247481825145,
          28.217420190555377,
          11.241533528144455,
          21.515876734893435,
          32.87474563481647,
          13.793733268376851,
          27.42713833929413,
          11.270191002124452,
          13.226435481067988,
          14.670695750303553,
          13.999269016516159,
          28.391625962781553,
          16.67987289170465,
          30.147021661390095,
          4.973401778891673,
          11.70979509373491,
          16.282374895593566,
          7.241618775505709,
          38.547602889453444,
          6.018858650970449,
          22.902985972328604,
          7.4909108506932665,
          26.486548890992488,
          28.621327483842585,
          29.00314943462825,
          6.652112920539177,
          32.73788057753024,
          44.34565631987357,
          23.78612653565655,
          15.281941323577986,
          17.496862640783274,
          18.101491655831147,
          20.6983319927466,
          11.558355892512706,
          17.170754550080638,
          9.087565487508087,
          8.814470490773774,
          13.201671466387289,
          31.232579622903533,
          15.635412650891656,
          10.32146956304716,
          13.396714428874535,
          18.677977229757015,
          29.63979629652995,
          34.06463054757505,
          20.79010793141616,
          23.388668436319236,
          18.16277397202488,
          33.52337394546679,
          13.382208535098794,
          21.233847672552407,
          4.242668564815988,
          8.806491252080594,
          39.71513306828713,
          -2.6560238201750352,
          14.000755325160918,
          24.960702173294848,
          12.854119086260084,
          15.087138896911956,
          -5.135782399497746,
          27.651008667780875,
          5.552789556552895,
          17.559652375708556,
          19.58179767860273,
          11.066026226278392,
          13.68820059704976,
          15.23103251781064,
          22.5820470992822,
          3.7813611044111406,
          10.695875797877719,
          4.908510519218323,
          27.179196991323963,
          -2.762080305532666,
          0.7751870158326568,
          2.7876219970250693,
          10.042522523733455,
          8.985323394630672,
          17.04287565556635,
          13.209940117969321,
          4.615376709035779,
          18.62273729173061,
          7.406770970604426,
          9.756103615955514,
          15.346210998926079,
          -4.878581909027724,
          22.34042553191491,
          19.53600707020886,
          19.06620830414283,
          7.36608685589768,
          22.957054512372956,
          23.886366585691967,
          24.78888521553264,
          22.004301346880673,
          37.66499131490166,
          19.809421377463643,
          8.961696944630582,
          26.36605300980779,
          25.33997532071901,
          29.990993413647658,
          4.344277813369635,
          5.43030351798266,
          7.071955097063776,
          2.698849893338484,
          14.20145753018398,
          20.787645736248383,
          -1.5983597305332942,
          22.724254702020396,
          25.374223156077626,
          28.223602350601595,
          4.167846658218832,
          29.63486786324181,
          17.222340020004843,
          24.542722312219013,
          11.619133689936302,
          13.376303432544079,
          28.49420466744259,
          16.70540928734838,
          31.186781512970253,
          16.073167053041495,
          25.962480273790554,
          20.23303619261265,
          28.20545352060604,
          27.980962481056526,
          9.414504607815367,
          21.027998631190936,
          14.387269741664888,
          17.437843667488508,
          11.965438785813198,
          15.281941323577986,
          26.79939979596757,
          0.4722330216954118,
          20.564837301160633,
          23.934687505101216,
          37.90042651387253,
          34.84300357245746,
          10.319011268795443,
          29.63979629652995,
          7.753698040035184,
          12.264131115527865,
          27.108942325992746,
          -5.987717724101871,
          25.523924374798025,
          28.698523504013096,
          13.811194800700655,
          33.87202453299445,
          13.863509380445205,
          30.456241430089072,
          24.166623452090775,
          7.3073477040312085,
          10.188726346481957,
          15.061908682554126,
          8.870176995200673,
          5.437392856940915,
          19.583519783493664,
          36.69613980852677,
          25.12299185377145,
          31.79493298298477,
          11.676756596673844,
          17.971993616569513,
          16.841704819214122,
          -2.6936674117566284,
          15.383350157187703,
          10.527710604065899,
          13.811194800700655,
          -4.013646815408456,
          28.519097935128656,
          5.691140023208163,
          6.315036252742923,
          13.65603962606392,
          26.900370048550016,
          4.599185088253344,
          8.139433431424026,
          -5.615374110420401,
          9.519069496651067,
          9.330697795104136,
          29.98689064269535,
          17.305512383666066,
          38.025278890164074,
          18.405704906985832,
          40.40108252677052,
          14.339383212168677,
          17.017873429438723,
          6.440992740724494,
          18.498565892543883,
          19.384864148324297,
          28.700544640964075,
          43.21490507971832,
          19.486150222121502,
          29.251762145743832,
          29.970038279605603,
          16.38753433154825,
          25.023503116012403,
          12.908094023725347,
          18.908714865261935,
          22.128798751375722,
          20.6178230396735,
          13.185304982344693,
          13.59920962771457,
          17.585369742948508,
          15.159078815546124,
          23.073436601706266,
          24.663476659298468,
          18.91612374872316,
          22.487163347004156,
          7.072921623137218,
          30.33267903912964,
          29.822059172676596,
          20.575561359193493,
          8.870176995200673,
          9.913295714152248,
          11.39877846665236,
          17.33831764701499,
          15.053710670049414,
          19.838033090157946,
          16.45264942885958,
          28.362499681299603,
          20.23351658184984,
          35.15225982554328,
          22.811955491599335,
          14.116473676513808,
          3.246141087573595,
          39.39008080892348,
          40.06935940978724,
          -6.602077828695851,
          32.97204784945356,
          -4.248265499735826,
          13.012316686761283,
          3.3412409359025563,
          19.11241103406125,
          16.83215300196874,
          19.903015661526258,
          17.835605906882467,
          35.202767876602145,
          29.93254456954535,
          10.601022898145175,
          4.290173805925512,
          46.0281907489035,
          4.2380107636853515,
          13.3416721804279,
          12.615454626594547,
          16.81380769432956,
          29.463144559367738,
          3.4548617019462657,
          43.189072373108004,
          16.34747826437608,
          17.337348816468534,
          28.87622604298141,
          12.785618944166277,
          13.76382214255829,
          23.357722520372803,
          17.89350348939105,
          16.391717239015314,
          28.2944803201606,
          37.62545108320718,
          38.75013621454286,
          35.07554424381243,
          34.66369771146156,
          0.00041986257699466734,
          26.792848256963907,
          9.466545561134643,
          8.958404565793243,
          15.217566892217317,
          18.18329480981129,
          10.651764761986882,
          26.05600170214373,
          21.96091787208383,
          28.613390416420437,
          2.0583160379572307,
          8.072519121786748,
          12.957860610527705,
          10.14549820533821,
          11.206139971636508,
          -2.296097930716068,
          22.101638335131433,
          8.291359044022961,
          16.090931523398755,
          7.834285996096968,
          19.22982335488248,
          12.541103389231022,
          9.905536515248237,
          19.43661593568866,
          20.980619269992328,
          22.9959763191006,
          40.40918765082955,
          20.157285751645393,
          27.34339084460702,
          20.540098199672684,
          1.0890787235796173,
          14.423383405993206,
          28.915632401924075,
          10.486213748718454,
          22.21532004022324,
          19.9167063418213,
          7.569851990652232,
          27.189731351509927,
          8.888058508178332,
          38.39598535108413,
          23.004933462919897,
          18.451006519278867,
          15.69624464978141,
          24.86058621833984,
          12.398887195647479,
          29.033036767491872,
          15.55138830618985,
          21.06842920579739,
          14.223893001774602,
          19.681444721461006,
          15.33583420447222,
          11.110504709077084,
          25.472582281386448,
          22.454466997083735,
          14.697641732679623,
          13.40258409986852,
          17.48581967402183,
          20.263645485458227,
          16.260323210957562,
          31.225351723339955,
          36.08934102882746,
          7.113935079376743,
          1.0200095858501568,
          31.66203257834248,
          21.515876734893435,
          7.738277916202163,
          21.2179137577426,
          17.91517274929828,
          23.742605815941698,
          19.49285745747744,
          24.699721066777514,
          9.474355615182773,
          -5.143540223362486,
          8.103976133430212,
          14.090202489754923,
          3.9345706513864043,
          33.87202453299445,
          11.206139971636508,
          11.64319540517964,
          9.101182636106309,
          9.775863226597625,
          30.233222959268513,
          28.10661623199442,
          27.868485756821993,
          14.073076990960875,
          -4.116335623925982,
          13.158580381200903,
          24.121882478301714,
          15.867033394493003,
          27.223223787941887,
          41.33283531356109,
          24.117548412901435,
          17.10356389065022,
          10.897077711316804,
          8.212863334475774,
          10.35870050919483,
          16.71281007026939,
          3.1157692869648868,
          12.291735580138297,
          18.211792240486457,
          42.81986810070861,
          17.017873429438723,
          17.663771036529607,
          23.531715513369743,
          25.316014393066098,
          -6.143864372449093,
          21.841220302138353,
          18.35029322536692,
          24.359660690100515,
          18.426250918959198,
          7.076314714355214,
          32.495298804510185,
          14.450983079352353,
          -10.850952430830397,
          24.560088649516466,
          33.26641129963086,
          35.70662697524425,
          7.425815776463751,
          18.19484083825229,
          3.46938116888742,
          17.562677580063756,
          13.86132101063724,
          32.071599311373134,
          5.829035232728619,
          12.352450582700737,
          14.801349600312053,
          25.72486199513564,
          15.179489858929829,
          5.048692800340637,
          19.154352964731626,
          37.420836430494056,
          22.791110849973805,
          18.757272940177216,
          21.515876734893435,
          18.8854815636184,
          34.48953605735856,
          5.760561614748516,
          12.76757714766874,
          16.33605291684561,
          13.111759513998056,
          27.00325448937273,
          9.061596469724442,
          20.270015543774523,
          31.374025421963523,
          40.26994810795641,
          -8.854426412794147,
          23.455273112310127,
          25.291529183832594,
          25.758819938780487,
          10.650296565189743,
          9.634722777671456,
          19.610312982143398,
          14.162759508016244,
          26.851606861765063,
          30.197403836528668,
          10.530182451324022,
          6.085768998076713,
          15.969454845178554,
          18.220068049252667,
          -0.5624229398301317,
          20.317534550063886,
          40.776988871370804,
          7.818804595570361,
          14.888971616328362,
          32.87474563481647,
          11.287574586233774,
          5.693397325028204,
          4.279492953543751,
          42.79043140381711,
          34.317534146150955,
          25.830618256179584,
          40.48444950507704,
          23.417701135973456,
          11.122610857613925,
          40.776988871370804,
          25.013687586958923,
          14.448366713028292,
          16.480542672732224,
          20.23790536994654,
          27.195398503429313,
          23.547332507492214,
          26.161739323856903,
          14.320081734251232,
          15.286824173111935,
          5.709164178307535,
          25.289048438450568,
          21.100307827256536,
          22.11208204623476,
          14.943302518170176,
          31.071496941078316,
          25.12299185377145,
          8.13247982161245,
          1.1648381062737911,
          20.12676423864985,
          22.487163347004156,
          16.306291569104303,
          8.208228952064744,
          26.285987345776896,
          10.8840708390745,
          5.408431851553419,
          18.638506928378252,
          23.461766538231778,
          28.181787469037168,
          16.967348871541322,
          9.186390255794684,
          26.247971823336115,
          28.044816871859158,
          16.658984090903296,
          6.269582887265268,
          3.981333046590607,
          10.083942388659995,
          -0.43659198882604056,
          4.799134071331723,
          10.459406701401397,
          17.3311741552032,
          33.8267792425422,
          48.95644693621066,
          20.428222610045598,
          40.48817627298094,
          17.69555185911209,
          0.7273660888210687,
          22.82792858124443,
          22.931603823855905,
          33.51455600216513,
          24.96277848802786,
          20.862147999235383,
          10.042522523733455,
          9.110647437090002,
          12.887711354998022,
          22.97938910735562,
          19.43898080186908,
          2.15188971924698,
          18.09229292132133
         ],
         "xaxis": "x2",
         "yaxis": "y2"
        }
       ],
       "layout": {
        "barmode": "relative",
        "height": 600,
        "legend": {
         "title": {
          "text": "model_type"
         },
         "tracegroupgap": 0
        },
        "margin": {
         "t": 60
        },
        "template": {
         "data": {
          "bar": [
           {
            "error_x": {
             "color": "#2a3f5f"
            },
            "error_y": {
             "color": "#2a3f5f"
            },
            "marker": {
             "line": {
              "color": "#E5ECF6",
              "width": 0.5
             },
             "pattern": {
              "fillmode": "overlay",
              "size": 10,
              "solidity": 0.2
             }
            },
            "type": "bar"
           }
          ],
          "barpolar": [
           {
            "marker": {
             "line": {
              "color": "#E5ECF6",
              "width": 0.5
             },
             "pattern": {
              "fillmode": "overlay",
              "size": 10,
              "solidity": 0.2
             }
            },
            "type": "barpolar"
           }
          ],
          "carpet": [
           {
            "aaxis": {
             "endlinecolor": "#2a3f5f",
             "gridcolor": "white",
             "linecolor": "white",
             "minorgridcolor": "white",
             "startlinecolor": "#2a3f5f"
            },
            "baxis": {
             "endlinecolor": "#2a3f5f",
             "gridcolor": "white",
             "linecolor": "white",
             "minorgridcolor": "white",
             "startlinecolor": "#2a3f5f"
            },
            "type": "carpet"
           }
          ],
          "choropleth": [
           {
            "colorbar": {
             "outlinewidth": 0,
             "ticks": ""
            },
            "type": "choropleth"
           }
          ],
          "contour": [
           {
            "colorbar": {
             "outlinewidth": 0,
             "ticks": ""
            },
            "colorscale": [
             [
              0,
              "#0d0887"
             ],
             [
              0.1111111111111111,
              "#46039f"
             ],
             [
              0.2222222222222222,
              "#7201a8"
             ],
             [
              0.3333333333333333,
              "#9c179e"
             ],
             [
              0.4444444444444444,
              "#bd3786"
             ],
             [
              0.5555555555555556,
              "#d8576b"
             ],
             [
              0.6666666666666666,
              "#ed7953"
             ],
             [
              0.7777777777777778,
              "#fb9f3a"
             ],
             [
              0.8888888888888888,
              "#fdca26"
             ],
             [
              1,
              "#f0f921"
             ]
            ],
            "type": "contour"
           }
          ],
          "contourcarpet": [
           {
            "colorbar": {
             "outlinewidth": 0,
             "ticks": ""
            },
            "type": "contourcarpet"
           }
          ],
          "heatmap": [
           {
            "colorbar": {
             "outlinewidth": 0,
             "ticks": ""
            },
            "colorscale": [
             [
              0,
              "#0d0887"
             ],
             [
              0.1111111111111111,
              "#46039f"
             ],
             [
              0.2222222222222222,
              "#7201a8"
             ],
             [
              0.3333333333333333,
              "#9c179e"
             ],
             [
              0.4444444444444444,
              "#bd3786"
             ],
             [
              0.5555555555555556,
              "#d8576b"
             ],
             [
              0.6666666666666666,
              "#ed7953"
             ],
             [
              0.7777777777777778,
              "#fb9f3a"
             ],
             [
              0.8888888888888888,
              "#fdca26"
             ],
             [
              1,
              "#f0f921"
             ]
            ],
            "type": "heatmap"
           }
          ],
          "heatmapgl": [
           {
            "colorbar": {
             "outlinewidth": 0,
             "ticks": ""
            },
            "colorscale": [
             [
              0,
              "#0d0887"
             ],
             [
              0.1111111111111111,
              "#46039f"
             ],
             [
              0.2222222222222222,
              "#7201a8"
             ],
             [
              0.3333333333333333,
              "#9c179e"
             ],
             [
              0.4444444444444444,
              "#bd3786"
             ],
             [
              0.5555555555555556,
              "#d8576b"
             ],
             [
              0.6666666666666666,
              "#ed7953"
             ],
             [
              0.7777777777777778,
              "#fb9f3a"
             ],
             [
              0.8888888888888888,
              "#fdca26"
             ],
             [
              1,
              "#f0f921"
             ]
            ],
            "type": "heatmapgl"
           }
          ],
          "histogram": [
           {
            "marker": {
             "pattern": {
              "fillmode": "overlay",
              "size": 10,
              "solidity": 0.2
             }
            },
            "type": "histogram"
           }
          ],
          "histogram2d": [
           {
            "colorbar": {
             "outlinewidth": 0,
             "ticks": ""
            },
            "colorscale": [
             [
              0,
              "#0d0887"
             ],
             [
              0.1111111111111111,
              "#46039f"
             ],
             [
              0.2222222222222222,
              "#7201a8"
             ],
             [
              0.3333333333333333,
              "#9c179e"
             ],
             [
              0.4444444444444444,
              "#bd3786"
             ],
             [
              0.5555555555555556,
              "#d8576b"
             ],
             [
              0.6666666666666666,
              "#ed7953"
             ],
             [
              0.7777777777777778,
              "#fb9f3a"
             ],
             [
              0.8888888888888888,
              "#fdca26"
             ],
             [
              1,
              "#f0f921"
             ]
            ],
            "type": "histogram2d"
           }
          ],
          "histogram2dcontour": [
           {
            "colorbar": {
             "outlinewidth": 0,
             "ticks": ""
            },
            "colorscale": [
             [
              0,
              "#0d0887"
             ],
             [
              0.1111111111111111,
              "#46039f"
             ],
             [
              0.2222222222222222,
              "#7201a8"
             ],
             [
              0.3333333333333333,
              "#9c179e"
             ],
             [
              0.4444444444444444,
              "#bd3786"
             ],
             [
              0.5555555555555556,
              "#d8576b"
             ],
             [
              0.6666666666666666,
              "#ed7953"
             ],
             [
              0.7777777777777778,
              "#fb9f3a"
             ],
             [
              0.8888888888888888,
              "#fdca26"
             ],
             [
              1,
              "#f0f921"
             ]
            ],
            "type": "histogram2dcontour"
           }
          ],
          "mesh3d": [
           {
            "colorbar": {
             "outlinewidth": 0,
             "ticks": ""
            },
            "type": "mesh3d"
           }
          ],
          "parcoords": [
           {
            "line": {
             "colorbar": {
              "outlinewidth": 0,
              "ticks": ""
             }
            },
            "type": "parcoords"
           }
          ],
          "pie": [
           {
            "automargin": true,
            "type": "pie"
           }
          ],
          "scatter": [
           {
            "fillpattern": {
             "fillmode": "overlay",
             "size": 10,
             "solidity": 0.2
            },
            "type": "scatter"
           }
          ],
          "scatter3d": [
           {
            "line": {
             "colorbar": {
              "outlinewidth": 0,
              "ticks": ""
             }
            },
            "marker": {
             "colorbar": {
              "outlinewidth": 0,
              "ticks": ""
             }
            },
            "type": "scatter3d"
           }
          ],
          "scattercarpet": [
           {
            "marker": {
             "colorbar": {
              "outlinewidth": 0,
              "ticks": ""
             }
            },
            "type": "scattercarpet"
           }
          ],
          "scattergeo": [
           {
            "marker": {
             "colorbar": {
              "outlinewidth": 0,
              "ticks": ""
             }
            },
            "type": "scattergeo"
           }
          ],
          "scattergl": [
           {
            "marker": {
             "colorbar": {
              "outlinewidth": 0,
              "ticks": ""
             }
            },
            "type": "scattergl"
           }
          ],
          "scattermapbox": [
           {
            "marker": {
             "colorbar": {
              "outlinewidth": 0,
              "ticks": ""
             }
            },
            "type": "scattermapbox"
           }
          ],
          "scatterpolar": [
           {
            "marker": {
             "colorbar": {
              "outlinewidth": 0,
              "ticks": ""
             }
            },
            "type": "scatterpolar"
           }
          ],
          "scatterpolargl": [
           {
            "marker": {
             "colorbar": {
              "outlinewidth": 0,
              "ticks": ""
             }
            },
            "type": "scatterpolargl"
           }
          ],
          "scatterternary": [
           {
            "marker": {
             "colorbar": {
              "outlinewidth": 0,
              "ticks": ""
             }
            },
            "type": "scatterternary"
           }
          ],
          "surface": [
           {
            "colorbar": {
             "outlinewidth": 0,
             "ticks": ""
            },
            "colorscale": [
             [
              0,
              "#0d0887"
             ],
             [
              0.1111111111111111,
              "#46039f"
             ],
             [
              0.2222222222222222,
              "#7201a8"
             ],
             [
              0.3333333333333333,
              "#9c179e"
             ],
             [
              0.4444444444444444,
              "#bd3786"
             ],
             [
              0.5555555555555556,
              "#d8576b"
             ],
             [
              0.6666666666666666,
              "#ed7953"
             ],
             [
              0.7777777777777778,
              "#fb9f3a"
             ],
             [
              0.8888888888888888,
              "#fdca26"
             ],
             [
              1,
              "#f0f921"
             ]
            ],
            "type": "surface"
           }
          ],
          "table": [
           {
            "cells": {
             "fill": {
              "color": "#EBF0F8"
             },
             "line": {
              "color": "white"
             }
            },
            "header": {
             "fill": {
              "color": "#C8D4E3"
             },
             "line": {
              "color": "white"
             }
            },
            "type": "table"
           }
          ]
         },
         "layout": {
          "annotationdefaults": {
           "arrowcolor": "#2a3f5f",
           "arrowhead": 0,
           "arrowwidth": 1
          },
          "autotypenumbers": "strict",
          "coloraxis": {
           "colorbar": {
            "outlinewidth": 0,
            "ticks": ""
           }
          },
          "colorscale": {
           "diverging": [
            [
             0,
             "#8e0152"
            ],
            [
             0.1,
             "#c51b7d"
            ],
            [
             0.2,
             "#de77ae"
            ],
            [
             0.3,
             "#f1b6da"
            ],
            [
             0.4,
             "#fde0ef"
            ],
            [
             0.5,
             "#f7f7f7"
            ],
            [
             0.6,
             "#e6f5d0"
            ],
            [
             0.7,
             "#b8e186"
            ],
            [
             0.8,
             "#7fbc41"
            ],
            [
             0.9,
             "#4d9221"
            ],
            [
             1,
             "#276419"
            ]
           ],
           "sequential": [
            [
             0,
             "#0d0887"
            ],
            [
             0.1111111111111111,
             "#46039f"
            ],
            [
             0.2222222222222222,
             "#7201a8"
            ],
            [
             0.3333333333333333,
             "#9c179e"
            ],
            [
             0.4444444444444444,
             "#bd3786"
            ],
            [
             0.5555555555555556,
             "#d8576b"
            ],
            [
             0.6666666666666666,
             "#ed7953"
            ],
            [
             0.7777777777777778,
             "#fb9f3a"
            ],
            [
             0.8888888888888888,
             "#fdca26"
            ],
            [
             1,
             "#f0f921"
            ]
           ],
           "sequentialminus": [
            [
             0,
             "#0d0887"
            ],
            [
             0.1111111111111111,
             "#46039f"
            ],
            [
             0.2222222222222222,
             "#7201a8"
            ],
            [
             0.3333333333333333,
             "#9c179e"
            ],
            [
             0.4444444444444444,
             "#bd3786"
            ],
            [
             0.5555555555555556,
             "#d8576b"
            ],
            [
             0.6666666666666666,
             "#ed7953"
            ],
            [
             0.7777777777777778,
             "#fb9f3a"
            ],
            [
             0.8888888888888888,
             "#fdca26"
            ],
            [
             1,
             "#f0f921"
            ]
           ]
          },
          "colorway": [
           "#636efa",
           "#EF553B",
           "#00cc96",
           "#ab63fa",
           "#FFA15A",
           "#19d3f3",
           "#FF6692",
           "#B6E880",
           "#FF97FF",
           "#FECB52"
          ],
          "font": {
           "color": "#2a3f5f"
          },
          "geo": {
           "bgcolor": "white",
           "lakecolor": "white",
           "landcolor": "#E5ECF6",
           "showlakes": true,
           "showland": true,
           "subunitcolor": "white"
          },
          "hoverlabel": {
           "align": "left"
          },
          "hovermode": "closest",
          "mapbox": {
           "style": "light"
          },
          "paper_bgcolor": "white",
          "plot_bgcolor": "#E5ECF6",
          "polar": {
           "angularaxis": {
            "gridcolor": "white",
            "linecolor": "white",
            "ticks": ""
           },
           "bgcolor": "#E5ECF6",
           "radialaxis": {
            "gridcolor": "white",
            "linecolor": "white",
            "ticks": ""
           }
          },
          "scene": {
           "xaxis": {
            "backgroundcolor": "#E5ECF6",
            "gridcolor": "white",
            "gridwidth": 2,
            "linecolor": "white",
            "showbackground": true,
            "ticks": "",
            "zerolinecolor": "white"
           },
           "yaxis": {
            "backgroundcolor": "#E5ECF6",
            "gridcolor": "white",
            "gridwidth": 2,
            "linecolor": "white",
            "showbackground": true,
            "ticks": "",
            "zerolinecolor": "white"
           },
           "zaxis": {
            "backgroundcolor": "#E5ECF6",
            "gridcolor": "white",
            "gridwidth": 2,
            "linecolor": "white",
            "showbackground": true,
            "ticks": "",
            "zerolinecolor": "white"
           }
          },
          "shapedefaults": {
           "line": {
            "color": "#2a3f5f"
           }
          },
          "ternary": {
           "aaxis": {
            "gridcolor": "white",
            "linecolor": "white",
            "ticks": ""
           },
           "baxis": {
            "gridcolor": "white",
            "linecolor": "white",
            "ticks": ""
           },
           "bgcolor": "#E5ECF6",
           "caxis": {
            "gridcolor": "white",
            "linecolor": "white",
            "ticks": ""
           }
          },
          "title": {
           "x": 0.05
          },
          "xaxis": {
           "automargin": true,
           "gridcolor": "white",
           "linecolor": "white",
           "ticks": "",
           "title": {
            "standoff": 15
           },
           "zerolinecolor": "white",
           "zerolinewidth": 2
          },
          "yaxis": {
           "automargin": true,
           "gridcolor": "white",
           "linecolor": "white",
           "ticks": "",
           "title": {
            "standoff": 15
           },
           "zerolinecolor": "white",
           "zerolinewidth": 2
          }
         }
        },
        "width": 800,
        "xaxis": {
         "anchor": "y",
         "domain": [
          0,
          1
         ],
         "title": {
          "text": "fmt_total_profit_percentage"
         }
        },
        "xaxis2": {
         "anchor": "y2",
         "domain": [
          0,
          1
         ],
         "matches": "x",
         "showgrid": true,
         "showticklabels": false
        },
        "yaxis": {
         "anchor": "x",
         "domain": [
          0,
          0.7326
         ],
         "title": {
          "text": "count"
         }
        },
        "yaxis2": {
         "anchor": "x2",
         "domain": [
          0.7426,
          1
         ],
         "matches": "y2",
         "showgrid": false,
         "showline": false,
         "showticklabels": false,
         "ticks": ""
        }
       }
      }
     },
     "metadata": {},
     "output_type": "display_data"
    }
   ],
   "source": [
    "fig = px.histogram(df_trader_results, x=\"fmt_total_profit_percentage\", color=\"model_type\", color_discrete_sequence=[ \"#FF7F0E\", \"#00CC96\", \"#10aded\", \"#8A56EF\"],  width=800, height=600, marginal=\"rug\", # can be `box`, `violin`\n",
    "                         hover_data=['total_reward_cash','fmt_total_profit_percentage', 'num_of_trades', 'sim_id'])\n",
    "fig.show()"
   ]
  },
  {
   "cell_type": "code",
   "execution_count": 21,
   "metadata": {},
   "outputs": [],
   "source": [
    "df_trader_results_stats = df_trader_results.groupby(['model_type'])['fmt_total_profit_percentage'].agg(['median']).reset_index()"
   ]
  },
  {
   "cell_type": "code",
   "execution_count": 22,
   "metadata": {},
   "outputs": [],
   "source": [
    "# i_A2C = np.argmin(np.abs(df_trader_results[df_trader_results['model_type']=='A2C']['fmt_total_profit_percentage'] - df_trader_results_stats[df_trader_results_stats['model_type']=='A2C']['median'].values[0]))\n",
    "# median_sim_id_A2C = df_trader_results[df_trader_results['model_type']=='A2C'].iloc[i_A2C]['sim_id']\n",
    "\n",
    "i_PPO = np.argmin(np.abs(df_trader_results[df_trader_results['model_type']=='PPO']['fmt_total_profit_percentage'] - df_trader_results_stats[df_trader_results_stats['model_type']=='PPO']['median'].values[0]))\n",
    "median_sim_id_PPO = df_trader_results[df_trader_results['model_type']=='PPO'].iloc[i_PPO]['sim_id']\n",
    "\n",
    "# i_DQN = np.argmin(np.abs(df_trader_results[df_trader_results['model_type']=='DQN']['fmt_total_profit_percentage'] - df_trader_results_stats[df_trader_results_stats['model_type']=='DQN']['median'].values[0]))\n",
    "# median_sim_id_DQN = df_trader_results[df_trader_results['model_type']=='DQN'].iloc[i_DQN]['sim_id']\n",
    "\n",
    "# i_RANDOM = np.argmin(np.abs(df_trader_results[df_trader_results['model_type']=='RANDOM']['fmt_total_profit_percentage'] - df_trader_results_stats[df_trader_results_stats['model_type']=='RANDOM']['median'].values[0]))\n",
    "# median_sim_id_RANDOM = df_trader_results[df_trader_results['model_type']=='RANDOM'].iloc[i_RANDOM]['sim_id']"
   ]
  },
  {
   "cell_type": "code",
   "execution_count": 23,
   "metadata": {},
   "outputs": [],
   "source": [
    "def get_and_process_trader_robot_actions_and_env_data_one_sim_id(config_file_name_without_extension, sim_id):\n",
    "    try:\n",
    "        \n",
    "        # Get the data\n",
    "        db_address = 'sqlite:///../results/data/db/trader.db'\n",
    "        engine = create_engine(db_address, echo=False)\n",
    "        sqlite_connection = engine.connect()\n",
    "\n",
    "        input_tbl_name = \"tbl_trader_bernardo_robot_actions_and_env\" + \"_\" + config_file_name_without_extension\n",
    "        \n",
    "        sql_command = \"SELECT * FROM \" + input_tbl_name\n",
    "        \n",
    "        sql_append = \" WHERE \" + \"sim_id = \" + str(sim_id)\n",
    "        \n",
    "        sql_command = sql_command + sql_append\n",
    "\n",
    "        df = pd.read_sql(sql_command, sqlite_connection)\n",
    "\n",
    "        sqlite_connection.close()\n",
    "\n",
    "        return df\n",
    "\n",
    "    except Exception as e:\n",
    "        print(e)"
   ]
  },
  {
   "cell_type": "code",
   "execution_count": 24,
   "metadata": {},
   "outputs": [],
   "source": [
    "def plot_robot_actions_all_models(config_file_name_without_extension, sim_id_A2C, sim_id_PPO, sim_id_DQN, sim_id_RANDOM):\n",
    "    \n",
    "    # df_robot_actions_sim_id_A2C = get_and_process_trader_robot_actions_and_env_data_one_sim_id(config_file_name_without_extension, sim_id_A2C)\n",
    "    df_robot_actions_sim_id_PPO = get_and_process_trader_robot_actions_and_env_data_one_sim_id(config_file_name_without_extension, sim_id_PPO)\n",
    "    # df_robot_actions_sim_id_DQN = get_and_process_trader_robot_actions_and_env_data_one_sim_id(config_file_name_without_extension, sim_id_DQN)\n",
    "    # df_robot_actions_sim_id_RANDOM = get_and_process_trader_robot_actions_and_env_data_one_sim_id(config_file_name_without_extension, sim_id_RANDOM)\n",
    "\n",
    "    # df_simulation_sim_id_A2C = df_trader_results[df_trader_results['sim_id'] == sim_id_A2C]\n",
    "    df_simulation_sim_id_PPO = df_trader_results[df_trader_results['sim_id'] == sim_id_PPO]\n",
    "    # df_simulation_sim_id_DQN = df_trader_results[df_trader_results['sim_id'] == sim_id_DQN]\n",
    "    # df_simulation_sim_id_RANDOM = df_trader_results[df_trader_results['sim_id'] == sim_id_RANDOM]\n",
    "\n",
    "    # str_title_A2C = f\"sim_id: {sim_id_A2C} | model_type: {df_simulation_sim_id_A2C.model_type.values[0]} | Total Profit percentage {round(df_simulation_sim_id_A2C.fmt_total_profit_percentage.values[0],2)}%\"\n",
    "    str_title_PPO = f\"sim_id: {sim_id_PPO} | model_type: {df_simulation_sim_id_PPO.model_type.values[0]} | Total Profit percentage {round(df_simulation_sim_id_PPO.fmt_total_profit_percentage.values[0],2)}%\"\n",
    "    # str_title_DQN = f\"sim_id: {sim_id_DQN} | model_type: {df_simulation_sim_id_DQN.model_type.values[0]} | Total Profit percentage {round(df_simulation_sim_id_DQN.fmt_total_profit_percentage.values[0],2)}%\"\n",
    "    # str_title_RANDOM = f\"sim_id: {sim_id_RANDOM} | model_type: {df_simulation_sim_id_RANDOM.model_type.values[0]} | Total Profit percentage {round(df_simulation_sim_id_RANDOM.fmt_total_profit_percentage.values[0],2)}%\"\n",
    "\n",
    "    str_title = \"The median profit percentage results per model\"\n",
    "\n",
    "    fig = make_subplots(rows=4, cols=1, subplot_titles=(\"\", str_title_PPO, \"\", \"\"), shared_xaxes='all', shared_yaxes='all')\n",
    "\n",
    "    # fig.add_trace(go.Scatter(name='Price', x=df_robot_actions_sim_id_A2C[\"dates\"], y=df_robot_actions_sim_id_A2C[\"prices\"], mode='lines', marker_color='#969696', legendgroup = '1'), row=1, col=1)\n",
    "    # fig.add_trace(go.Scatter(name='Long', x=df_robot_actions_sim_id_A2C[df_robot_actions_sim_id_A2C['actions'] == 1]['dates'], y=df_robot_actions_sim_id_A2C[df_robot_actions_sim_id_A2C['actions'] == 1]['prices'], mode='markers', marker_symbol='circle', marker_size=10, marker_color='#228b22', legendgroup = '1'), row=1, col=1)\n",
    "    # fig.add_trace(go.Scatter(name='Short', x=df_robot_actions_sim_id_A2C[df_robot_actions_sim_id_A2C['actions'] == 0]['dates'], y=df_robot_actions_sim_id_A2C[df_robot_actions_sim_id_A2C['actions'] == 0]['prices'], mode='markers', marker_symbol='circle', marker_size=10, marker_color='#c83232', legendgroup = '1'), row=1, col=1)\n",
    "\n",
    "    fig.add_trace(go.Scatter(name='Price', x=df_robot_actions_sim_id_PPO[\"dates\"], y=df_robot_actions_sim_id_PPO[\"prices\"], mode='lines', marker_color='#969696', legendgroup = '2'), row=2, col=1)\n",
    "    fig.add_trace(go.Scatter(name='Long', x=df_robot_actions_sim_id_PPO[df_robot_actions_sim_id_PPO['actions'] == 1]['dates'], y=df_robot_actions_sim_id_PPO[df_robot_actions_sim_id_PPO['actions'] == 1]['prices'], mode='markers', marker_symbol='circle', marker_size=10, marker_color='#228b22', legendgroup = '2'), row=2, col=1)\n",
    "    fig.add_trace(go.Scatter(name='Short', x=df_robot_actions_sim_id_PPO[df_robot_actions_sim_id_PPO['actions'] == 0]['dates'], y=df_robot_actions_sim_id_PPO[df_robot_actions_sim_id_PPO['actions'] == 0]['prices'], mode='markers', marker_symbol='circle', marker_size=10, marker_color='#c83232', legendgroup = '2'), row=2, col=1)\n",
    "\n",
    "    # fig.add_trace(go.Scatter(name='Price', x=df_robot_actions_sim_id_DQN[\"dates\"], y=df_robot_actions_sim_id_DQN[\"prices\"], mode='lines', marker_color='#969696', legendgroup = '3'), row=3, col=1)\n",
    "    # fig.add_trace(go.Scatter(name='Long', x=df_robot_actions_sim_id_DQN[df_robot_actions_sim_id_DQN['actions'] == 1]['dates'], y=df_robot_actions_sim_id_DQN[df_robot_actions_sim_id_DQN['actions'] == 1]['prices'], mode='markers', marker_symbol='circle', marker_size=10, marker_color='#228b22', legendgroup = '3'), row=3, col=1)\n",
    "    # fig.add_trace(go.Scatter(name='Short', x=df_robot_actions_sim_id_DQN[df_robot_actions_sim_id_DQN['actions'] == 0]['dates'], y=df_robot_actions_sim_id_DQN[df_robot_actions_sim_id_DQN['actions'] == 0]['prices'], mode='markers', marker_symbol='circle', marker_size=10, marker_color='#c83232', legendgroup = '3'), row=3, col=1)\n",
    "\n",
    "    # fig.add_trace(go.Scatter(name='Price', x=df_robot_actions_sim_id_RANDOM[\"dates\"], y=df_robot_actions_sim_id_RANDOM[\"prices\"], mode='lines', marker_color='#969696', legendgroup = '4'), row=4, col=1)\n",
    "    # fig.add_trace(go.Scatter(name='Long', x=df_robot_actions_sim_id_RANDOM[df_robot_actions_sim_id_RANDOM['actions'] == 1]['dates'], y=df_robot_actions_sim_id_RANDOM[df_robot_actions_sim_id_RANDOM['actions'] == 1]['prices'], mode='markers', marker_symbol='circle', marker_size=10, marker_color='#228b22', legendgroup = '4'), row=4, col=1)\n",
    "    # fig.add_trace(go.Scatter(name='Short', x=df_robot_actions_sim_id_RANDOM[df_robot_actions_sim_id_RANDOM['actions'] == 0]['dates'], y=df_robot_actions_sim_id_RANDOM[df_robot_actions_sim_id_RANDOM['actions'] == 0]['prices'], mode='markers', marker_symbol='circle', marker_size=10, marker_color='#c83232', legendgroup = '4'), row=4, col=1)\n",
    "\n",
    "    fig.update_xaxes(title_text = \"Dates\", title_standoff = 25)\n",
    "\n",
    "    fig.update_yaxes(title_text = \"\", title_standoff = 25)\n",
    "\n",
    "    fig.update_layout(title=str_title, title_x=0.5, width=1200, height=800, legend_tracegroupgap=125)\n",
    "    fig.show()"
   ]
  },
  {
   "cell_type": "code",
   "execution_count": 25,
   "metadata": {},
   "outputs": [
    {
     "data": {
      "application/vnd.plotly.v1+json": {
       "config": {
        "plotlyServerURL": "https://plot.ly"
       },
       "data": [
        {
         "legendgroup": "2",
         "marker": {
          "color": "#969696"
         },
         "mode": "lines",
         "name": "Price",
         "type": "scatter",
         "x": [
          "2022-12-27 00:00:00.000000",
          "2022-12-28 00:00:00.000000",
          "2022-12-29 00:00:00.000000",
          "2022-12-30 00:00:00.000000",
          "2022-12-31 00:00:00.000000",
          "2023-01-01 00:00:00.000000",
          "2023-01-02 00:00:00.000000",
          "2023-01-03 00:00:00.000000",
          "2023-01-04 00:00:00.000000",
          "2023-01-05 00:00:00.000000",
          "2023-01-06 00:00:00.000000",
          "2023-01-07 00:00:00.000000",
          "2023-01-08 00:00:00.000000",
          "2023-01-09 00:00:00.000000",
          "2023-01-10 00:00:00.000000",
          "2023-01-11 00:00:00.000000",
          "2023-01-12 00:00:00.000000",
          "2023-01-13 00:00:00.000000",
          "2023-01-14 00:00:00.000000",
          "2023-01-15 00:00:00.000000",
          "2023-01-16 00:00:00.000000",
          "2023-01-17 00:00:00.000000",
          "2023-01-18 00:00:00.000000",
          "2023-01-19 00:00:00.000000",
          "2023-01-20 00:00:00.000000",
          "2023-01-21 00:00:00.000000",
          "2023-01-22 00:00:00.000000",
          "2023-01-23 00:00:00.000000",
          "2023-01-24 00:00:00.000000",
          "2023-01-25 00:00:00.000000",
          "2023-01-26 00:00:00.000000",
          "2023-01-27 00:00:00.000000",
          "2023-01-28 00:00:00.000000",
          "2023-01-29 00:00:00.000000",
          "2023-01-30 00:00:00.000000",
          "2023-01-31 00:00:00.000000",
          "2023-02-01 00:00:00.000000",
          "2023-02-02 00:00:00.000000",
          "2023-02-03 00:00:00.000000",
          "2023-02-04 00:00:00.000000",
          "2023-02-05 00:00:00.000000",
          "2023-02-06 00:00:00.000000",
          "2023-02-07 00:00:00.000000",
          "2023-02-08 00:00:00.000000",
          "2023-02-09 00:00:00.000000",
          "2023-02-10 00:00:00.000000",
          "2023-02-11 00:00:00.000000",
          "2023-02-12 00:00:00.000000",
          "2023-02-13 00:00:00.000000"
         ],
         "xaxis": "x2",
         "y": [
          244.3,
          246.7,
          244.5,
          246.3,
          245.8,
          246.3,
          244.4,
          245.2,
          246.1,
          258.9,
          256.7,
          259.9,
          261.3,
          274.9,
          272.6,
          277.1,
          284.8,
          287.7,
          293.7,
          305.1,
          302.2,
          299,
          299.4,
          286.7,
          294.6,
          305.1,
          299,
          303,
          305.1,
          300.3,
          306.9,
          304.7,
          308,
          306.1,
          317.2,
          307.2,
          312,
          317,
          323.5,
          332.2,
          330.4,
          327.8,
          324.3,
          333,
          328.2,
          306.2,
          305.8,
          310.4,
          312.6
         ],
         "yaxis": "y2"
        },
        {
         "legendgroup": "2",
         "marker": {
          "color": "#228b22",
          "size": 10,
          "symbol": "circle"
         },
         "mode": "markers",
         "name": "Long",
         "type": "scatter",
         "x": [
          "2023-01-03 00:00:00.000000",
          "2023-01-04 00:00:00.000000",
          "2023-01-05 00:00:00.000000",
          "2023-01-06 00:00:00.000000",
          "2023-01-07 00:00:00.000000",
          "2023-01-08 00:00:00.000000",
          "2023-01-09 00:00:00.000000",
          "2023-01-10 00:00:00.000000",
          "2023-01-11 00:00:00.000000",
          "2023-01-12 00:00:00.000000",
          "2023-01-13 00:00:00.000000",
          "2023-01-15 00:00:00.000000",
          "2023-01-16 00:00:00.000000",
          "2023-01-19 00:00:00.000000",
          "2023-01-20 00:00:00.000000",
          "2023-01-21 00:00:00.000000",
          "2023-02-13 00:00:00.000000"
         ],
         "xaxis": "x2",
         "y": [
          245.2,
          246.1,
          258.9,
          256.7,
          259.9,
          261.3,
          274.9,
          272.6,
          277.1,
          284.8,
          287.7,
          305.1,
          302.2,
          286.7,
          294.6,
          305.1,
          312.6
         ],
         "yaxis": "y2"
        },
        {
         "legendgroup": "2",
         "marker": {
          "color": "#c83232",
          "size": 10,
          "symbol": "circle"
         },
         "mode": "markers",
         "name": "Short",
         "type": "scatter",
         "x": [
          "2023-01-02 00:00:00.000000",
          "2023-01-14 00:00:00.000000",
          "2023-01-17 00:00:00.000000",
          "2023-01-18 00:00:00.000000",
          "2023-01-22 00:00:00.000000",
          "2023-01-23 00:00:00.000000",
          "2023-01-24 00:00:00.000000",
          "2023-01-25 00:00:00.000000",
          "2023-01-26 00:00:00.000000",
          "2023-01-27 00:00:00.000000",
          "2023-01-28 00:00:00.000000",
          "2023-01-29 00:00:00.000000",
          "2023-01-30 00:00:00.000000",
          "2023-01-31 00:00:00.000000",
          "2023-02-01 00:00:00.000000",
          "2023-02-02 00:00:00.000000",
          "2023-02-03 00:00:00.000000",
          "2023-02-04 00:00:00.000000",
          "2023-02-05 00:00:00.000000",
          "2023-02-06 00:00:00.000000",
          "2023-02-07 00:00:00.000000",
          "2023-02-08 00:00:00.000000",
          "2023-02-09 00:00:00.000000",
          "2023-02-10 00:00:00.000000",
          "2023-02-11 00:00:00.000000",
          "2023-02-12 00:00:00.000000"
         ],
         "xaxis": "x2",
         "y": [
          244.4,
          293.7,
          299,
          299.4,
          299,
          303,
          305.1,
          300.3,
          306.9,
          304.7,
          308,
          306.1,
          317.2,
          307.2,
          312,
          317,
          323.5,
          332.2,
          330.4,
          327.8,
          324.3,
          333,
          328.2,
          306.2,
          305.8,
          310.4
         ],
         "yaxis": "y2"
        }
       ],
       "layout": {
        "annotations": [
         {
          "font": {
           "size": 16
          },
          "showarrow": false,
          "text": "sim_id: 495 | model_type: PPO | Total Profit percentage 17.17%",
          "x": 0.5,
          "xanchor": "center",
          "xref": "paper",
          "y": 0.71875,
          "yanchor": "bottom",
          "yref": "paper"
         }
        ],
        "height": 800,
        "legend": {
         "tracegroupgap": 125
        },
        "template": {
         "data": {
          "bar": [
           {
            "error_x": {
             "color": "#2a3f5f"
            },
            "error_y": {
             "color": "#2a3f5f"
            },
            "marker": {
             "line": {
              "color": "#E5ECF6",
              "width": 0.5
             },
             "pattern": {
              "fillmode": "overlay",
              "size": 10,
              "solidity": 0.2
             }
            },
            "type": "bar"
           }
          ],
          "barpolar": [
           {
            "marker": {
             "line": {
              "color": "#E5ECF6",
              "width": 0.5
             },
             "pattern": {
              "fillmode": "overlay",
              "size": 10,
              "solidity": 0.2
             }
            },
            "type": "barpolar"
           }
          ],
          "carpet": [
           {
            "aaxis": {
             "endlinecolor": "#2a3f5f",
             "gridcolor": "white",
             "linecolor": "white",
             "minorgridcolor": "white",
             "startlinecolor": "#2a3f5f"
            },
            "baxis": {
             "endlinecolor": "#2a3f5f",
             "gridcolor": "white",
             "linecolor": "white",
             "minorgridcolor": "white",
             "startlinecolor": "#2a3f5f"
            },
            "type": "carpet"
           }
          ],
          "choropleth": [
           {
            "colorbar": {
             "outlinewidth": 0,
             "ticks": ""
            },
            "type": "choropleth"
           }
          ],
          "contour": [
           {
            "colorbar": {
             "outlinewidth": 0,
             "ticks": ""
            },
            "colorscale": [
             [
              0,
              "#0d0887"
             ],
             [
              0.1111111111111111,
              "#46039f"
             ],
             [
              0.2222222222222222,
              "#7201a8"
             ],
             [
              0.3333333333333333,
              "#9c179e"
             ],
             [
              0.4444444444444444,
              "#bd3786"
             ],
             [
              0.5555555555555556,
              "#d8576b"
             ],
             [
              0.6666666666666666,
              "#ed7953"
             ],
             [
              0.7777777777777778,
              "#fb9f3a"
             ],
             [
              0.8888888888888888,
              "#fdca26"
             ],
             [
              1,
              "#f0f921"
             ]
            ],
            "type": "contour"
           }
          ],
          "contourcarpet": [
           {
            "colorbar": {
             "outlinewidth": 0,
             "ticks": ""
            },
            "type": "contourcarpet"
           }
          ],
          "heatmap": [
           {
            "colorbar": {
             "outlinewidth": 0,
             "ticks": ""
            },
            "colorscale": [
             [
              0,
              "#0d0887"
             ],
             [
              0.1111111111111111,
              "#46039f"
             ],
             [
              0.2222222222222222,
              "#7201a8"
             ],
             [
              0.3333333333333333,
              "#9c179e"
             ],
             [
              0.4444444444444444,
              "#bd3786"
             ],
             [
              0.5555555555555556,
              "#d8576b"
             ],
             [
              0.6666666666666666,
              "#ed7953"
             ],
             [
              0.7777777777777778,
              "#fb9f3a"
             ],
             [
              0.8888888888888888,
              "#fdca26"
             ],
             [
              1,
              "#f0f921"
             ]
            ],
            "type": "heatmap"
           }
          ],
          "heatmapgl": [
           {
            "colorbar": {
             "outlinewidth": 0,
             "ticks": ""
            },
            "colorscale": [
             [
              0,
              "#0d0887"
             ],
             [
              0.1111111111111111,
              "#46039f"
             ],
             [
              0.2222222222222222,
              "#7201a8"
             ],
             [
              0.3333333333333333,
              "#9c179e"
             ],
             [
              0.4444444444444444,
              "#bd3786"
             ],
             [
              0.5555555555555556,
              "#d8576b"
             ],
             [
              0.6666666666666666,
              "#ed7953"
             ],
             [
              0.7777777777777778,
              "#fb9f3a"
             ],
             [
              0.8888888888888888,
              "#fdca26"
             ],
             [
              1,
              "#f0f921"
             ]
            ],
            "type": "heatmapgl"
           }
          ],
          "histogram": [
           {
            "marker": {
             "pattern": {
              "fillmode": "overlay",
              "size": 10,
              "solidity": 0.2
             }
            },
            "type": "histogram"
           }
          ],
          "histogram2d": [
           {
            "colorbar": {
             "outlinewidth": 0,
             "ticks": ""
            },
            "colorscale": [
             [
              0,
              "#0d0887"
             ],
             [
              0.1111111111111111,
              "#46039f"
             ],
             [
              0.2222222222222222,
              "#7201a8"
             ],
             [
              0.3333333333333333,
              "#9c179e"
             ],
             [
              0.4444444444444444,
              "#bd3786"
             ],
             [
              0.5555555555555556,
              "#d8576b"
             ],
             [
              0.6666666666666666,
              "#ed7953"
             ],
             [
              0.7777777777777778,
              "#fb9f3a"
             ],
             [
              0.8888888888888888,
              "#fdca26"
             ],
             [
              1,
              "#f0f921"
             ]
            ],
            "type": "histogram2d"
           }
          ],
          "histogram2dcontour": [
           {
            "colorbar": {
             "outlinewidth": 0,
             "ticks": ""
            },
            "colorscale": [
             [
              0,
              "#0d0887"
             ],
             [
              0.1111111111111111,
              "#46039f"
             ],
             [
              0.2222222222222222,
              "#7201a8"
             ],
             [
              0.3333333333333333,
              "#9c179e"
             ],
             [
              0.4444444444444444,
              "#bd3786"
             ],
             [
              0.5555555555555556,
              "#d8576b"
             ],
             [
              0.6666666666666666,
              "#ed7953"
             ],
             [
              0.7777777777777778,
              "#fb9f3a"
             ],
             [
              0.8888888888888888,
              "#fdca26"
             ],
             [
              1,
              "#f0f921"
             ]
            ],
            "type": "histogram2dcontour"
           }
          ],
          "mesh3d": [
           {
            "colorbar": {
             "outlinewidth": 0,
             "ticks": ""
            },
            "type": "mesh3d"
           }
          ],
          "parcoords": [
           {
            "line": {
             "colorbar": {
              "outlinewidth": 0,
              "ticks": ""
             }
            },
            "type": "parcoords"
           }
          ],
          "pie": [
           {
            "automargin": true,
            "type": "pie"
           }
          ],
          "scatter": [
           {
            "fillpattern": {
             "fillmode": "overlay",
             "size": 10,
             "solidity": 0.2
            },
            "type": "scatter"
           }
          ],
          "scatter3d": [
           {
            "line": {
             "colorbar": {
              "outlinewidth": 0,
              "ticks": ""
             }
            },
            "marker": {
             "colorbar": {
              "outlinewidth": 0,
              "ticks": ""
             }
            },
            "type": "scatter3d"
           }
          ],
          "scattercarpet": [
           {
            "marker": {
             "colorbar": {
              "outlinewidth": 0,
              "ticks": ""
             }
            },
            "type": "scattercarpet"
           }
          ],
          "scattergeo": [
           {
            "marker": {
             "colorbar": {
              "outlinewidth": 0,
              "ticks": ""
             }
            },
            "type": "scattergeo"
           }
          ],
          "scattergl": [
           {
            "marker": {
             "colorbar": {
              "outlinewidth": 0,
              "ticks": ""
             }
            },
            "type": "scattergl"
           }
          ],
          "scattermapbox": [
           {
            "marker": {
             "colorbar": {
              "outlinewidth": 0,
              "ticks": ""
             }
            },
            "type": "scattermapbox"
           }
          ],
          "scatterpolar": [
           {
            "marker": {
             "colorbar": {
              "outlinewidth": 0,
              "ticks": ""
             }
            },
            "type": "scatterpolar"
           }
          ],
          "scatterpolargl": [
           {
            "marker": {
             "colorbar": {
              "outlinewidth": 0,
              "ticks": ""
             }
            },
            "type": "scatterpolargl"
           }
          ],
          "scatterternary": [
           {
            "marker": {
             "colorbar": {
              "outlinewidth": 0,
              "ticks": ""
             }
            },
            "type": "scatterternary"
           }
          ],
          "surface": [
           {
            "colorbar": {
             "outlinewidth": 0,
             "ticks": ""
            },
            "colorscale": [
             [
              0,
              "#0d0887"
             ],
             [
              0.1111111111111111,
              "#46039f"
             ],
             [
              0.2222222222222222,
              "#7201a8"
             ],
             [
              0.3333333333333333,
              "#9c179e"
             ],
             [
              0.4444444444444444,
              "#bd3786"
             ],
             [
              0.5555555555555556,
              "#d8576b"
             ],
             [
              0.6666666666666666,
              "#ed7953"
             ],
             [
              0.7777777777777778,
              "#fb9f3a"
             ],
             [
              0.8888888888888888,
              "#fdca26"
             ],
             [
              1,
              "#f0f921"
             ]
            ],
            "type": "surface"
           }
          ],
          "table": [
           {
            "cells": {
             "fill": {
              "color": "#EBF0F8"
             },
             "line": {
              "color": "white"
             }
            },
            "header": {
             "fill": {
              "color": "#C8D4E3"
             },
             "line": {
              "color": "white"
             }
            },
            "type": "table"
           }
          ]
         },
         "layout": {
          "annotationdefaults": {
           "arrowcolor": "#2a3f5f",
           "arrowhead": 0,
           "arrowwidth": 1
          },
          "autotypenumbers": "strict",
          "coloraxis": {
           "colorbar": {
            "outlinewidth": 0,
            "ticks": ""
           }
          },
          "colorscale": {
           "diverging": [
            [
             0,
             "#8e0152"
            ],
            [
             0.1,
             "#c51b7d"
            ],
            [
             0.2,
             "#de77ae"
            ],
            [
             0.3,
             "#f1b6da"
            ],
            [
             0.4,
             "#fde0ef"
            ],
            [
             0.5,
             "#f7f7f7"
            ],
            [
             0.6,
             "#e6f5d0"
            ],
            [
             0.7,
             "#b8e186"
            ],
            [
             0.8,
             "#7fbc41"
            ],
            [
             0.9,
             "#4d9221"
            ],
            [
             1,
             "#276419"
            ]
           ],
           "sequential": [
            [
             0,
             "#0d0887"
            ],
            [
             0.1111111111111111,
             "#46039f"
            ],
            [
             0.2222222222222222,
             "#7201a8"
            ],
            [
             0.3333333333333333,
             "#9c179e"
            ],
            [
             0.4444444444444444,
             "#bd3786"
            ],
            [
             0.5555555555555556,
             "#d8576b"
            ],
            [
             0.6666666666666666,
             "#ed7953"
            ],
            [
             0.7777777777777778,
             "#fb9f3a"
            ],
            [
             0.8888888888888888,
             "#fdca26"
            ],
            [
             1,
             "#f0f921"
            ]
           ],
           "sequentialminus": [
            [
             0,
             "#0d0887"
            ],
            [
             0.1111111111111111,
             "#46039f"
            ],
            [
             0.2222222222222222,
             "#7201a8"
            ],
            [
             0.3333333333333333,
             "#9c179e"
            ],
            [
             0.4444444444444444,
             "#bd3786"
            ],
            [
             0.5555555555555556,
             "#d8576b"
            ],
            [
             0.6666666666666666,
             "#ed7953"
            ],
            [
             0.7777777777777778,
             "#fb9f3a"
            ],
            [
             0.8888888888888888,
             "#fdca26"
            ],
            [
             1,
             "#f0f921"
            ]
           ]
          },
          "colorway": [
           "#636efa",
           "#EF553B",
           "#00cc96",
           "#ab63fa",
           "#FFA15A",
           "#19d3f3",
           "#FF6692",
           "#B6E880",
           "#FF97FF",
           "#FECB52"
          ],
          "font": {
           "color": "#2a3f5f"
          },
          "geo": {
           "bgcolor": "white",
           "lakecolor": "white",
           "landcolor": "#E5ECF6",
           "showlakes": true,
           "showland": true,
           "subunitcolor": "white"
          },
          "hoverlabel": {
           "align": "left"
          },
          "hovermode": "closest",
          "mapbox": {
           "style": "light"
          },
          "paper_bgcolor": "white",
          "plot_bgcolor": "#E5ECF6",
          "polar": {
           "angularaxis": {
            "gridcolor": "white",
            "linecolor": "white",
            "ticks": ""
           },
           "bgcolor": "#E5ECF6",
           "radialaxis": {
            "gridcolor": "white",
            "linecolor": "white",
            "ticks": ""
           }
          },
          "scene": {
           "xaxis": {
            "backgroundcolor": "#E5ECF6",
            "gridcolor": "white",
            "gridwidth": 2,
            "linecolor": "white",
            "showbackground": true,
            "ticks": "",
            "zerolinecolor": "white"
           },
           "yaxis": {
            "backgroundcolor": "#E5ECF6",
            "gridcolor": "white",
            "gridwidth": 2,
            "linecolor": "white",
            "showbackground": true,
            "ticks": "",
            "zerolinecolor": "white"
           },
           "zaxis": {
            "backgroundcolor": "#E5ECF6",
            "gridcolor": "white",
            "gridwidth": 2,
            "linecolor": "white",
            "showbackground": true,
            "ticks": "",
            "zerolinecolor": "white"
           }
          },
          "shapedefaults": {
           "line": {
            "color": "#2a3f5f"
           }
          },
          "ternary": {
           "aaxis": {
            "gridcolor": "white",
            "linecolor": "white",
            "ticks": ""
           },
           "baxis": {
            "gridcolor": "white",
            "linecolor": "white",
            "ticks": ""
           },
           "bgcolor": "#E5ECF6",
           "caxis": {
            "gridcolor": "white",
            "linecolor": "white",
            "ticks": ""
           }
          },
          "title": {
           "x": 0.05
          },
          "xaxis": {
           "automargin": true,
           "gridcolor": "white",
           "linecolor": "white",
           "ticks": "",
           "title": {
            "standoff": 15
           },
           "zerolinecolor": "white",
           "zerolinewidth": 2
          },
          "yaxis": {
           "automargin": true,
           "gridcolor": "white",
           "linecolor": "white",
           "ticks": "",
           "title": {
            "standoff": 15
           },
           "zerolinecolor": "white",
           "zerolinewidth": 2
          }
         }
        },
        "title": {
         "text": "The median profit percentage results per model",
         "x": 0.5
        },
        "width": 1200,
        "xaxis": {
         "anchor": "y",
         "domain": [
          0,
          1
         ],
         "matches": "x4",
         "showticklabels": false,
         "title": {
          "standoff": 25,
          "text": "Dates"
         }
        },
        "xaxis2": {
         "anchor": "y2",
         "domain": [
          0,
          1
         ],
         "matches": "x4",
         "showticklabels": false,
         "title": {
          "standoff": 25,
          "text": "Dates"
         }
        },
        "xaxis3": {
         "anchor": "y3",
         "domain": [
          0,
          1
         ],
         "matches": "x4",
         "showticklabels": false,
         "title": {
          "standoff": 25,
          "text": "Dates"
         }
        },
        "xaxis4": {
         "anchor": "y4",
         "domain": [
          0,
          1
         ],
         "title": {
          "standoff": 25,
          "text": "Dates"
         }
        },
        "yaxis": {
         "anchor": "x",
         "domain": [
          0.84375,
          1
         ],
         "matches": "y4",
         "title": {
          "standoff": 25,
          "text": ""
         }
        },
        "yaxis2": {
         "anchor": "x2",
         "domain": [
          0.5625,
          0.71875
         ],
         "matches": "y4",
         "title": {
          "standoff": 25,
          "text": ""
         }
        },
        "yaxis3": {
         "anchor": "x3",
         "domain": [
          0.28125,
          0.4375
         ],
         "matches": "y4",
         "title": {
          "standoff": 25,
          "text": ""
         }
        },
        "yaxis4": {
         "anchor": "x4",
         "domain": [
          0,
          0.15625
         ],
         "title": {
          "standoff": 25,
          "text": ""
         }
        }
       }
      }
     },
     "metadata": {},
     "output_type": "display_data"
    }
   ],
   "source": [
    "plot_robot_actions_all_models(config_file_name_without_extension, \"\", median_sim_id_PPO, \"\", \"\")"
   ]
  },
  {
   "cell_type": "code",
   "execution_count": 26,
   "metadata": {},
   "outputs": [],
   "source": [
    "def get_and_process_trader_robot_actions_and_env_data_all_sim_id(config_file_name_without_extension):\n",
    "    try:\n",
    "        \n",
    "        # Get the data\n",
    "        db_address = 'sqlite:///../results/data/db/trader.db'\n",
    "        engine = create_engine(db_address, echo=False)\n",
    "        sqlite_connection = engine.connect()\n",
    "\n",
    "        input_tbl_name = \"tbl_trader_bernardo_robot_actions_and_env\" + \"_\" + config_file_name_without_extension\n",
    "        \n",
    "        sql_command = \"SELECT * FROM \" + input_tbl_name + \" AS t1 \"\n",
    "        \n",
    "        sql_append = \"LEFT JOIN (SELECT sim_id, model_type FROM tbl_trader_bernardo_simulation_results_\" + config_file_name_without_extension + \") AS t2 ON t1.sim_id = t2.sim_id\"\n",
    "        \n",
    "        sql_command = sql_command + sql_append\n",
    "\n",
    "        df = pd.read_sql(sql_command, sqlite_connection)\n",
    "\n",
    "        sqlite_connection.close()\n",
    "\n",
    "        return df\n",
    "\n",
    "    except Exception as e:\n",
    "        print(e)"
   ]
  },
  {
   "cell_type": "code",
   "execution_count": 27,
   "metadata": {},
   "outputs": [],
   "source": [
    "def plot_trader_robot_actions_all_sim_id_all_models(config_file_name_without_extension, sim_id_A2C, sim_id_PPO, sim_id_DQN, sim_id_RANDOM):\n",
    "    \n",
    "    df_robot_actions_and_env_all_sim_id = get_and_process_trader_robot_actions_and_env_data_all_sim_id(config_file_name_without_extension)\n",
    "\n",
    "    # df_robot_actions_and_env_all_sim_id_A2C = df_robot_actions_and_env_all_sim_id[df_robot_actions_and_env_all_sim_id['model_type'] == 'A2C']\n",
    "    df_robot_actions_and_env_all_sim_id_PPO = df_robot_actions_and_env_all_sim_id[df_robot_actions_and_env_all_sim_id['model_type'] == 'PPO']\n",
    "    # df_robot_actions_and_env_all_sim_id_DQN = df_robot_actions_and_env_all_sim_id[df_robot_actions_and_env_all_sim_id['model_type'] == 'DQN']\n",
    "    # df_robot_actions_and_env_all_sim_id_RANDOM = df_robot_actions_and_env_all_sim_id[df_robot_actions_and_env_all_sim_id['model_type'] == 'RANDOM']    \n",
    "\n",
    "    # df_model_type_action_count_A2C = df_robot_actions_and_env_all_sim_id_A2C.assign(val=1).pivot_table(values='val', index=['dates'], columns=['model_type', 'actions'], aggfunc='count').stack(0).reset_index()\n",
    "    # df_model_type_action_count_A2C.rename(columns = {0.0:'action_short_count', 1.0:'action_long_count'}, inplace = True)\n",
    "\n",
    "    df_model_type_action_count_PPO = df_robot_actions_and_env_all_sim_id_PPO.assign(val=1).pivot_table(values='val', index=['dates'], columns=['model_type', 'actions'], aggfunc='count').stack(0).reset_index()\n",
    "    df_model_type_action_count_PPO.rename(columns = {0.0:'action_short_count', 1.0:'action_long_count'}, inplace = True)\n",
    "\n",
    "    # df_model_type_action_count_DQN = df_robot_actions_and_env_all_sim_id_DQN.assign(val=1).pivot_table(values='val', index=['dates'], columns=['model_type', 'actions'], aggfunc='count').stack(0).reset_index()\n",
    "    # df_model_type_action_count_DQN.rename(columns = {0.0:'action_short_count', 1.0:'action_long_count'}, inplace = True)\n",
    "\n",
    "    # df_model_type_action_count_RANDOM = df_robot_actions_and_env_all_sim_id_RANDOM.assign(val=1).pivot_table(values='val', index=['dates'], columns=['model_type', 'actions'], aggfunc='count').stack(0).reset_index()\n",
    "    # df_model_type_action_count_RANDOM.rename(columns = {0.0:'action_short_count', 1.0:'action_long_count'}, inplace = True)        \n",
    "\n",
    "    # df_robot_actions_sim_id_A2C = get_and_process_trader_robot_actions_and_env_data_one_sim_id(config_file_name_without_extension, sim_id_A2C)\n",
    "    df_robot_actions_sim_id_PPO = get_and_process_trader_robot_actions_and_env_data_one_sim_id(config_file_name_without_extension, sim_id_PPO)\n",
    "    # df_robot_actions_sim_id_DQN = get_and_process_trader_robot_actions_and_env_data_one_sim_id(config_file_name_without_extension, sim_id_DQN)\n",
    "    # df_robot_actions_sim_id_RANDOM = get_and_process_trader_robot_actions_and_env_data_one_sim_id(config_file_name_without_extension, sim_id_RANDOM)\n",
    "\n",
    "    # df_simulation_sim_id_A2C = df_trader_results[df_trader_results['sim_id'] == sim_id_A2C]\n",
    "    df_simulation_sim_id_PPO = df_trader_results[df_trader_results['sim_id'] == sim_id_PPO]\n",
    "    # df_simulation_sim_id_DQN = df_trader_results[df_trader_results['sim_id'] == sim_id_DQN]\n",
    "    # df_simulation_sim_id_RANDOM = df_trader_results[df_trader_results['sim_id'] == sim_id_RANDOM]\n",
    "\n",
    "    # str_title_A2C = f\"Median sim_id: {sim_id_A2C} | model_type: {df_simulation_sim_id_A2C.model_type.values[0]} | Total Profit percentage {round(df_simulation_sim_id_A2C.fmt_total_profit_percentage.values[0],2)}%\"\n",
    "    str_title_PPO = f\"Median sim_id: {sim_id_PPO} | model_type: {df_simulation_sim_id_PPO.model_type.values[0]} | Total Profit percentage {round(df_simulation_sim_id_PPO.fmt_total_profit_percentage.values[0],2)}%\"\n",
    "    # str_title_DQN = f\"Median sim_id: {sim_id_DQN} | model_type: {df_simulation_sim_id_DQN.model_type.values[0]} | Total Profit percentage {round(df_simulation_sim_id_DQN.fmt_total_profit_percentage.values[0],2)}%\"\n",
    "    # str_title_RANDOM = f\"Median sim_id: {sim_id_RANDOM} | model_type: {df_simulation_sim_id_RANDOM.model_type.values[0]} | Total Profit percentage {round(df_simulation_sim_id_RANDOM.fmt_total_profit_percentage.values[0],2)}%\"\n",
    "\n",
    "    str_title = f\"Median Total Profit Results x Overall view of actions (across all the simulations)\"\n",
    "\n",
    "    fig = make_subplots(rows=4, cols=1, subplot_titles=(\"\", str_title_PPO, \"\", \"\"), shared_xaxes='all', shared_yaxes='all', specs=[[{\"secondary_y\": True}], [{\"secondary_y\": True}], [{\"secondary_y\": True}], [{\"secondary_y\": True}]]) \n",
    "\n",
    "    # fig.add_trace(go.Scatter(name='Price', x=df_robot_actions_sim_id_A2C[\"dates\"], y=df_robot_actions_sim_id_A2C[\"prices\"], mode='lines', marker_color='#969696', legendgroup = '1'), row=1, col=1, secondary_y=True)\n",
    "    # fig.add_trace(go.Scatter(name='Long', x=df_robot_actions_sim_id_A2C[df_robot_actions_sim_id_A2C['actions'] == 1]['dates'], y=df_robot_actions_sim_id_A2C[df_robot_actions_sim_id_A2C['actions'] == 1]['prices'], mode='markers', marker_symbol='circle', marker_size=10, marker_color='#228b22', legendgroup = '1'), row=1, col=1, secondary_y=True)\n",
    "    # fig.add_trace(go.Scatter(name='Short', x=df_robot_actions_sim_id_A2C[df_robot_actions_sim_id_A2C['actions'] == 0]['dates'], y=df_robot_actions_sim_id_A2C[df_robot_actions_sim_id_A2C['actions'] == 0]['prices'], mode='markers', marker_symbol='circle', marker_size=10, marker_color='#c83232', legendgroup = '1'), row=1, col=1, secondary_y=True)\n",
    "\n",
    "    # fig.add_trace(go.Bar(x=df_model_type_action_count_A2C['dates'], y=df_model_type_action_count_A2C['action_long_count'], name='Long', marker_color=' #b3ffb3', legendgroup = '1'), row=1, col=1, secondary_y=False)\n",
    "    # fig.add_trace(go.Bar(x=df_model_type_action_count_A2C['dates'], y=df_model_type_action_count_A2C['action_short_count'], name='Short', marker_color='#ffb2b2', legendgroup = '1'), row=1, col=1, secondary_y=False)\n",
    "\n",
    "    fig.add_trace(go.Scatter(name='Price', x=df_robot_actions_sim_id_PPO[\"dates\"], y=df_robot_actions_sim_id_PPO[\"prices\"], mode='lines', marker_color='#969696', legendgroup = '2'), row=2, col=1, secondary_y=True)\n",
    "    fig.add_trace(go.Scatter(name='Long', x=df_robot_actions_sim_id_PPO[df_robot_actions_sim_id_PPO['actions'] == 1]['dates'], y=df_robot_actions_sim_id_PPO[df_robot_actions_sim_id_PPO['actions'] == 1]['prices'], mode='markers', marker_symbol='circle', marker_size=10, marker_color='#228b22', legendgroup = '2'), row=2, col=1, secondary_y=True)\n",
    "    fig.add_trace(go.Scatter(name='Short', x=df_robot_actions_sim_id_PPO[df_robot_actions_sim_id_PPO['actions'] == 0]['dates'], y=df_robot_actions_sim_id_PPO[df_robot_actions_sim_id_PPO['actions'] == 0]['prices'], mode='markers', marker_symbol='circle', marker_size=10, marker_color='#c83232', legendgroup = '2'), row=2, col=1, secondary_y=True)\n",
    "\n",
    "    fig.add_trace(go.Bar(x=df_model_type_action_count_PPO['dates'], y=df_model_type_action_count_PPO['action_long_count'], name='Long', marker_color=' #b3ffb3', legendgroup = '2'), row=2, col=1, secondary_y=False)\n",
    "    fig.add_trace(go.Bar(x=df_model_type_action_count_PPO['dates'], y=df_model_type_action_count_PPO['action_short_count'], name='Short', marker_color='#ffb2b2', legendgroup = '2'), row=2, col=1, secondary_y=False)\n",
    "\n",
    "    # fig.add_trace(go.Scatter(name='Price', x=df_robot_actions_sim_id_DQN[\"dates\"], y=df_robot_actions_sim_id_DQN[\"prices\"], mode='lines', marker_color='#969696', legendgroup = '3'), row=3, col=1, secondary_y=True)\n",
    "    # fig.add_trace(go.Scatter(name='Long', x=df_robot_actions_sim_id_DQN[df_robot_actions_sim_id_DQN['actions'] == 1]['dates'], y=df_robot_actions_sim_id_DQN[df_robot_actions_sim_id_DQN['actions'] == 1]['prices'], mode='markers', marker_symbol='circle', marker_size=10, marker_color='#228b22', legendgroup = '3'), row=3, col=1, secondary_y=True)\n",
    "    # fig.add_trace(go.Scatter(name='Short', x=df_robot_actions_sim_id_DQN[df_robot_actions_sim_id_DQN['actions'] == 0]['dates'], y=df_robot_actions_sim_id_DQN[df_robot_actions_sim_id_DQN['actions'] == 0]['prices'], mode='markers', marker_symbol='circle', marker_size=10, marker_color='#c83232', legendgroup = '3'), row=3, col=1, secondary_y=True)\n",
    "\n",
    "    # fig.add_trace(go.Bar(x=df_model_type_action_count_DQN['dates'], y=df_model_type_action_count_DQN['action_long_count'], name='Long', marker_color=' #b3ffb3', legendgroup = '3'), row=3, col=1, secondary_y=False)\n",
    "    # fig.add_trace(go.Bar(x=df_model_type_action_count_DQN['dates'], y=df_model_type_action_count_DQN['action_short_count'], name='Short', marker_color='#ffb2b2', legendgroup = '3'), row=3, col=1, secondary_y=False)\n",
    "\n",
    "    # fig.add_trace(go.Scatter(name='Price', x=df_robot_actions_sim_id_RANDOM[\"dates\"], y=df_robot_actions_sim_id_RANDOM[\"prices\"], mode='lines', marker_color='#969696', legendgroup = '4'), row=4, col=1, secondary_y=True)\n",
    "    # fig.add_trace(go.Scatter(name='Long', x=df_robot_actions_sim_id_RANDOM[df_robot_actions_sim_id_RANDOM['actions'] == 1]['dates'], y=df_robot_actions_sim_id_RANDOM[df_robot_actions_sim_id_RANDOM['actions'] == 1]['prices'], mode='markers', marker_symbol='circle', marker_size=10, marker_color='#228b22', legendgroup = '4'), row=4, col=1, secondary_y=True)\n",
    "    # fig.add_trace(go.Scatter(name='Short', x=df_robot_actions_sim_id_RANDOM[df_robot_actions_sim_id_RANDOM['actions'] == 0]['dates'], y=df_robot_actions_sim_id_RANDOM[df_robot_actions_sim_id_RANDOM['actions'] == 0]['prices'], mode='markers', marker_symbol='circle', marker_size=10, marker_color='#c83232', legendgroup = '4'), row=4, col=1, secondary_y=True)\n",
    "\n",
    "    # fig.add_trace(go.Bar(x=df_model_type_action_count_RANDOM['dates'], y=df_model_type_action_count_RANDOM['action_long_count'], name='Long', marker_color=' #b3ffb3', legendgroup = '4'), row=4, col=1, secondary_y=False)\n",
    "    # fig.add_trace(go.Bar(x=df_model_type_action_count_RANDOM['dates'], y=df_model_type_action_count_RANDOM['action_short_count'], name='Short', marker_color='#ffb2b2', legendgroup = '4'), row=4, col=1, secondary_y=False)\n",
    "\n",
    "    fig.update_yaxes(title_text=\"Proportion of trades<br>across all the simulations\", secondary_y=False)\n",
    "    fig.update_yaxes(title_text=f\"CCY level with the<br>sim_id actions related\", secondary_y=True)\n",
    "\n",
    "    fig.update_layout(barmode='stack', xaxis={'categoryorder':'category ascending'}, title=str_title, title_x=0.5, width=1200, height=800, legend_tracegroupgap=82, font={'size': 8})\n",
    "\n",
    "    fig.show()    "
   ]
  },
  {
   "cell_type": "code",
   "execution_count": 28,
   "metadata": {},
   "outputs": [
    {
     "data": {
      "application/vnd.plotly.v1+json": {
       "config": {
        "plotlyServerURL": "https://plot.ly"
       },
       "data": [
        {
         "legendgroup": "2",
         "marker": {
          "color": "#969696"
         },
         "mode": "lines",
         "name": "Price",
         "type": "scatter",
         "x": [
          "2022-12-27 00:00:00.000000",
          "2022-12-28 00:00:00.000000",
          "2022-12-29 00:00:00.000000",
          "2022-12-30 00:00:00.000000",
          "2022-12-31 00:00:00.000000",
          "2023-01-01 00:00:00.000000",
          "2023-01-02 00:00:00.000000",
          "2023-01-03 00:00:00.000000",
          "2023-01-04 00:00:00.000000",
          "2023-01-05 00:00:00.000000",
          "2023-01-06 00:00:00.000000",
          "2023-01-07 00:00:00.000000",
          "2023-01-08 00:00:00.000000",
          "2023-01-09 00:00:00.000000",
          "2023-01-10 00:00:00.000000",
          "2023-01-11 00:00:00.000000",
          "2023-01-12 00:00:00.000000",
          "2023-01-13 00:00:00.000000",
          "2023-01-14 00:00:00.000000",
          "2023-01-15 00:00:00.000000",
          "2023-01-16 00:00:00.000000",
          "2023-01-17 00:00:00.000000",
          "2023-01-18 00:00:00.000000",
          "2023-01-19 00:00:00.000000",
          "2023-01-20 00:00:00.000000",
          "2023-01-21 00:00:00.000000",
          "2023-01-22 00:00:00.000000",
          "2023-01-23 00:00:00.000000",
          "2023-01-24 00:00:00.000000",
          "2023-01-25 00:00:00.000000",
          "2023-01-26 00:00:00.000000",
          "2023-01-27 00:00:00.000000",
          "2023-01-28 00:00:00.000000",
          "2023-01-29 00:00:00.000000",
          "2023-01-30 00:00:00.000000",
          "2023-01-31 00:00:00.000000",
          "2023-02-01 00:00:00.000000",
          "2023-02-02 00:00:00.000000",
          "2023-02-03 00:00:00.000000",
          "2023-02-04 00:00:00.000000",
          "2023-02-05 00:00:00.000000",
          "2023-02-06 00:00:00.000000",
          "2023-02-07 00:00:00.000000",
          "2023-02-08 00:00:00.000000",
          "2023-02-09 00:00:00.000000",
          "2023-02-10 00:00:00.000000",
          "2023-02-11 00:00:00.000000",
          "2023-02-12 00:00:00.000000",
          "2023-02-13 00:00:00.000000"
         ],
         "xaxis": "x2",
         "y": [
          244.3,
          246.7,
          244.5,
          246.3,
          245.8,
          246.3,
          244.4,
          245.2,
          246.1,
          258.9,
          256.7,
          259.9,
          261.3,
          274.9,
          272.6,
          277.1,
          284.8,
          287.7,
          293.7,
          305.1,
          302.2,
          299,
          299.4,
          286.7,
          294.6,
          305.1,
          299,
          303,
          305.1,
          300.3,
          306.9,
          304.7,
          308,
          306.1,
          317.2,
          307.2,
          312,
          317,
          323.5,
          332.2,
          330.4,
          327.8,
          324.3,
          333,
          328.2,
          306.2,
          305.8,
          310.4,
          312.6
         ],
         "yaxis": "y4"
        },
        {
         "legendgroup": "2",
         "marker": {
          "color": "#228b22",
          "size": 10,
          "symbol": "circle"
         },
         "mode": "markers",
         "name": "Long",
         "type": "scatter",
         "x": [
          "2023-01-03 00:00:00.000000",
          "2023-01-04 00:00:00.000000",
          "2023-01-05 00:00:00.000000",
          "2023-01-06 00:00:00.000000",
          "2023-01-07 00:00:00.000000",
          "2023-01-08 00:00:00.000000",
          "2023-01-09 00:00:00.000000",
          "2023-01-10 00:00:00.000000",
          "2023-01-11 00:00:00.000000",
          "2023-01-12 00:00:00.000000",
          "2023-01-13 00:00:00.000000",
          "2023-01-15 00:00:00.000000",
          "2023-01-16 00:00:00.000000",
          "2023-01-19 00:00:00.000000",
          "2023-01-20 00:00:00.000000",
          "2023-01-21 00:00:00.000000",
          "2023-02-13 00:00:00.000000"
         ],
         "xaxis": "x2",
         "y": [
          245.2,
          246.1,
          258.9,
          256.7,
          259.9,
          261.3,
          274.9,
          272.6,
          277.1,
          284.8,
          287.7,
          305.1,
          302.2,
          286.7,
          294.6,
          305.1,
          312.6
         ],
         "yaxis": "y4"
        },
        {
         "legendgroup": "2",
         "marker": {
          "color": "#c83232",
          "size": 10,
          "symbol": "circle"
         },
         "mode": "markers",
         "name": "Short",
         "type": "scatter",
         "x": [
          "2023-01-02 00:00:00.000000",
          "2023-01-14 00:00:00.000000",
          "2023-01-17 00:00:00.000000",
          "2023-01-18 00:00:00.000000",
          "2023-01-22 00:00:00.000000",
          "2023-01-23 00:00:00.000000",
          "2023-01-24 00:00:00.000000",
          "2023-01-25 00:00:00.000000",
          "2023-01-26 00:00:00.000000",
          "2023-01-27 00:00:00.000000",
          "2023-01-28 00:00:00.000000",
          "2023-01-29 00:00:00.000000",
          "2023-01-30 00:00:00.000000",
          "2023-01-31 00:00:00.000000",
          "2023-02-01 00:00:00.000000",
          "2023-02-02 00:00:00.000000",
          "2023-02-03 00:00:00.000000",
          "2023-02-04 00:00:00.000000",
          "2023-02-05 00:00:00.000000",
          "2023-02-06 00:00:00.000000",
          "2023-02-07 00:00:00.000000",
          "2023-02-08 00:00:00.000000",
          "2023-02-09 00:00:00.000000",
          "2023-02-10 00:00:00.000000",
          "2023-02-11 00:00:00.000000",
          "2023-02-12 00:00:00.000000"
         ],
         "xaxis": "x2",
         "y": [
          244.4,
          293.7,
          299,
          299.4,
          299,
          303,
          305.1,
          300.3,
          306.9,
          304.7,
          308,
          306.1,
          317.2,
          307.2,
          312,
          317,
          323.5,
          332.2,
          330.4,
          327.8,
          324.3,
          333,
          328.2,
          306.2,
          305.8,
          310.4
         ],
         "yaxis": "y4"
        },
        {
         "legendgroup": "2",
         "marker": {
          "color": " #b3ffb3"
         },
         "name": "Long",
         "type": "bar",
         "x": [
          "2023-01-02 00:00:00.000000",
          "2023-01-03 00:00:00.000000",
          "2023-01-04 00:00:00.000000",
          "2023-01-05 00:00:00.000000",
          "2023-01-06 00:00:00.000000",
          "2023-01-07 00:00:00.000000",
          "2023-01-08 00:00:00.000000",
          "2023-01-09 00:00:00.000000",
          "2023-01-10 00:00:00.000000",
          "2023-01-11 00:00:00.000000",
          "2023-01-12 00:00:00.000000",
          "2023-01-13 00:00:00.000000",
          "2023-01-14 00:00:00.000000",
          "2023-01-15 00:00:00.000000",
          "2023-01-16 00:00:00.000000",
          "2023-01-17 00:00:00.000000",
          "2023-01-18 00:00:00.000000",
          "2023-01-19 00:00:00.000000",
          "2023-01-20 00:00:00.000000",
          "2023-01-21 00:00:00.000000",
          "2023-01-22 00:00:00.000000",
          "2023-01-23 00:00:00.000000",
          "2023-01-24 00:00:00.000000",
          "2023-01-25 00:00:00.000000",
          "2023-01-26 00:00:00.000000",
          "2023-01-27 00:00:00.000000",
          "2023-01-28 00:00:00.000000",
          "2023-01-29 00:00:00.000000",
          "2023-01-30 00:00:00.000000",
          "2023-01-31 00:00:00.000000",
          "2023-02-01 00:00:00.000000",
          "2023-02-02 00:00:00.000000",
          "2023-02-03 00:00:00.000000",
          "2023-02-04 00:00:00.000000",
          "2023-02-05 00:00:00.000000",
          "2023-02-06 00:00:00.000000",
          "2023-02-07 00:00:00.000000",
          "2023-02-08 00:00:00.000000",
          "2023-02-09 00:00:00.000000",
          "2023-02-10 00:00:00.000000",
          "2023-02-11 00:00:00.000000",
          "2023-02-12 00:00:00.000000",
          "2023-02-13 00:00:00.000000"
         ],
         "xaxis": "x2",
         "y": [
          954,
          954,
          974,
          977,
          964,
          866,
          917,
          987,
          953,
          978,
          962,
          970,
          780,
          690,
          659,
          515,
          550,
          536,
          524,
          497,
          555,
          40,
          23,
          89,
          65,
          52,
          129,
          31,
          10,
          14,
          17,
          14,
          94,
          14,
          16,
          21,
          30,
          50,
          43,
          27,
          28,
          216,
          687
         ],
         "yaxis": "y3"
        },
        {
         "legendgroup": "2",
         "marker": {
          "color": "#ffb2b2"
         },
         "name": "Short",
         "type": "bar",
         "x": [
          "2023-01-02 00:00:00.000000",
          "2023-01-03 00:00:00.000000",
          "2023-01-04 00:00:00.000000",
          "2023-01-05 00:00:00.000000",
          "2023-01-06 00:00:00.000000",
          "2023-01-07 00:00:00.000000",
          "2023-01-08 00:00:00.000000",
          "2023-01-09 00:00:00.000000",
          "2023-01-10 00:00:00.000000",
          "2023-01-11 00:00:00.000000",
          "2023-01-12 00:00:00.000000",
          "2023-01-13 00:00:00.000000",
          "2023-01-14 00:00:00.000000",
          "2023-01-15 00:00:00.000000",
          "2023-01-16 00:00:00.000000",
          "2023-01-17 00:00:00.000000",
          "2023-01-18 00:00:00.000000",
          "2023-01-19 00:00:00.000000",
          "2023-01-20 00:00:00.000000",
          "2023-01-21 00:00:00.000000",
          "2023-01-22 00:00:00.000000",
          "2023-01-23 00:00:00.000000",
          "2023-01-24 00:00:00.000000",
          "2023-01-25 00:00:00.000000",
          "2023-01-26 00:00:00.000000",
          "2023-01-27 00:00:00.000000",
          "2023-01-28 00:00:00.000000",
          "2023-01-29 00:00:00.000000",
          "2023-01-30 00:00:00.000000",
          "2023-01-31 00:00:00.000000",
          "2023-02-01 00:00:00.000000",
          "2023-02-02 00:00:00.000000",
          "2023-02-03 00:00:00.000000",
          "2023-02-04 00:00:00.000000",
          "2023-02-05 00:00:00.000000",
          "2023-02-06 00:00:00.000000",
          "2023-02-07 00:00:00.000000",
          "2023-02-08 00:00:00.000000",
          "2023-02-09 00:00:00.000000",
          "2023-02-10 00:00:00.000000",
          "2023-02-11 00:00:00.000000",
          "2023-02-12 00:00:00.000000",
          "2023-02-13 00:00:00.000000"
         ],
         "xaxis": "x2",
         "y": [
          46,
          46,
          26,
          23,
          36,
          134,
          83,
          13,
          47,
          22,
          38,
          30,
          220,
          310,
          341,
          485,
          450,
          464,
          476,
          503,
          445,
          960,
          977,
          911,
          935,
          948,
          871,
          969,
          990,
          986,
          983,
          986,
          906,
          986,
          984,
          979,
          970,
          950,
          957,
          973,
          972,
          784,
          313
         ],
         "yaxis": "y3"
        }
       ],
       "layout": {
        "annotations": [
         {
          "font": {
           "size": 16
          },
          "showarrow": false,
          "text": "Median sim_id: 495 | model_type: PPO | Total Profit percentage 17.17%",
          "x": 0.47,
          "xanchor": "center",
          "xref": "paper",
          "y": 0.71875,
          "yanchor": "bottom",
          "yref": "paper"
         }
        ],
        "barmode": "stack",
        "font": {
         "size": 8
        },
        "height": 800,
        "legend": {
         "tracegroupgap": 82
        },
        "template": {
         "data": {
          "bar": [
           {
            "error_x": {
             "color": "#2a3f5f"
            },
            "error_y": {
             "color": "#2a3f5f"
            },
            "marker": {
             "line": {
              "color": "#E5ECF6",
              "width": 0.5
             },
             "pattern": {
              "fillmode": "overlay",
              "size": 10,
              "solidity": 0.2
             }
            },
            "type": "bar"
           }
          ],
          "barpolar": [
           {
            "marker": {
             "line": {
              "color": "#E5ECF6",
              "width": 0.5
             },
             "pattern": {
              "fillmode": "overlay",
              "size": 10,
              "solidity": 0.2
             }
            },
            "type": "barpolar"
           }
          ],
          "carpet": [
           {
            "aaxis": {
             "endlinecolor": "#2a3f5f",
             "gridcolor": "white",
             "linecolor": "white",
             "minorgridcolor": "white",
             "startlinecolor": "#2a3f5f"
            },
            "baxis": {
             "endlinecolor": "#2a3f5f",
             "gridcolor": "white",
             "linecolor": "white",
             "minorgridcolor": "white",
             "startlinecolor": "#2a3f5f"
            },
            "type": "carpet"
           }
          ],
          "choropleth": [
           {
            "colorbar": {
             "outlinewidth": 0,
             "ticks": ""
            },
            "type": "choropleth"
           }
          ],
          "contour": [
           {
            "colorbar": {
             "outlinewidth": 0,
             "ticks": ""
            },
            "colorscale": [
             [
              0,
              "#0d0887"
             ],
             [
              0.1111111111111111,
              "#46039f"
             ],
             [
              0.2222222222222222,
              "#7201a8"
             ],
             [
              0.3333333333333333,
              "#9c179e"
             ],
             [
              0.4444444444444444,
              "#bd3786"
             ],
             [
              0.5555555555555556,
              "#d8576b"
             ],
             [
              0.6666666666666666,
              "#ed7953"
             ],
             [
              0.7777777777777778,
              "#fb9f3a"
             ],
             [
              0.8888888888888888,
              "#fdca26"
             ],
             [
              1,
              "#f0f921"
             ]
            ],
            "type": "contour"
           }
          ],
          "contourcarpet": [
           {
            "colorbar": {
             "outlinewidth": 0,
             "ticks": ""
            },
            "type": "contourcarpet"
           }
          ],
          "heatmap": [
           {
            "colorbar": {
             "outlinewidth": 0,
             "ticks": ""
            },
            "colorscale": [
             [
              0,
              "#0d0887"
             ],
             [
              0.1111111111111111,
              "#46039f"
             ],
             [
              0.2222222222222222,
              "#7201a8"
             ],
             [
              0.3333333333333333,
              "#9c179e"
             ],
             [
              0.4444444444444444,
              "#bd3786"
             ],
             [
              0.5555555555555556,
              "#d8576b"
             ],
             [
              0.6666666666666666,
              "#ed7953"
             ],
             [
              0.7777777777777778,
              "#fb9f3a"
             ],
             [
              0.8888888888888888,
              "#fdca26"
             ],
             [
              1,
              "#f0f921"
             ]
            ],
            "type": "heatmap"
           }
          ],
          "heatmapgl": [
           {
            "colorbar": {
             "outlinewidth": 0,
             "ticks": ""
            },
            "colorscale": [
             [
              0,
              "#0d0887"
             ],
             [
              0.1111111111111111,
              "#46039f"
             ],
             [
              0.2222222222222222,
              "#7201a8"
             ],
             [
              0.3333333333333333,
              "#9c179e"
             ],
             [
              0.4444444444444444,
              "#bd3786"
             ],
             [
              0.5555555555555556,
              "#d8576b"
             ],
             [
              0.6666666666666666,
              "#ed7953"
             ],
             [
              0.7777777777777778,
              "#fb9f3a"
             ],
             [
              0.8888888888888888,
              "#fdca26"
             ],
             [
              1,
              "#f0f921"
             ]
            ],
            "type": "heatmapgl"
           }
          ],
          "histogram": [
           {
            "marker": {
             "pattern": {
              "fillmode": "overlay",
              "size": 10,
              "solidity": 0.2
             }
            },
            "type": "histogram"
           }
          ],
          "histogram2d": [
           {
            "colorbar": {
             "outlinewidth": 0,
             "ticks": ""
            },
            "colorscale": [
             [
              0,
              "#0d0887"
             ],
             [
              0.1111111111111111,
              "#46039f"
             ],
             [
              0.2222222222222222,
              "#7201a8"
             ],
             [
              0.3333333333333333,
              "#9c179e"
             ],
             [
              0.4444444444444444,
              "#bd3786"
             ],
             [
              0.5555555555555556,
              "#d8576b"
             ],
             [
              0.6666666666666666,
              "#ed7953"
             ],
             [
              0.7777777777777778,
              "#fb9f3a"
             ],
             [
              0.8888888888888888,
              "#fdca26"
             ],
             [
              1,
              "#f0f921"
             ]
            ],
            "type": "histogram2d"
           }
          ],
          "histogram2dcontour": [
           {
            "colorbar": {
             "outlinewidth": 0,
             "ticks": ""
            },
            "colorscale": [
             [
              0,
              "#0d0887"
             ],
             [
              0.1111111111111111,
              "#46039f"
             ],
             [
              0.2222222222222222,
              "#7201a8"
             ],
             [
              0.3333333333333333,
              "#9c179e"
             ],
             [
              0.4444444444444444,
              "#bd3786"
             ],
             [
              0.5555555555555556,
              "#d8576b"
             ],
             [
              0.6666666666666666,
              "#ed7953"
             ],
             [
              0.7777777777777778,
              "#fb9f3a"
             ],
             [
              0.8888888888888888,
              "#fdca26"
             ],
             [
              1,
              "#f0f921"
             ]
            ],
            "type": "histogram2dcontour"
           }
          ],
          "mesh3d": [
           {
            "colorbar": {
             "outlinewidth": 0,
             "ticks": ""
            },
            "type": "mesh3d"
           }
          ],
          "parcoords": [
           {
            "line": {
             "colorbar": {
              "outlinewidth": 0,
              "ticks": ""
             }
            },
            "type": "parcoords"
           }
          ],
          "pie": [
           {
            "automargin": true,
            "type": "pie"
           }
          ],
          "scatter": [
           {
            "fillpattern": {
             "fillmode": "overlay",
             "size": 10,
             "solidity": 0.2
            },
            "type": "scatter"
           }
          ],
          "scatter3d": [
           {
            "line": {
             "colorbar": {
              "outlinewidth": 0,
              "ticks": ""
             }
            },
            "marker": {
             "colorbar": {
              "outlinewidth": 0,
              "ticks": ""
             }
            },
            "type": "scatter3d"
           }
          ],
          "scattercarpet": [
           {
            "marker": {
             "colorbar": {
              "outlinewidth": 0,
              "ticks": ""
             }
            },
            "type": "scattercarpet"
           }
          ],
          "scattergeo": [
           {
            "marker": {
             "colorbar": {
              "outlinewidth": 0,
              "ticks": ""
             }
            },
            "type": "scattergeo"
           }
          ],
          "scattergl": [
           {
            "marker": {
             "colorbar": {
              "outlinewidth": 0,
              "ticks": ""
             }
            },
            "type": "scattergl"
           }
          ],
          "scattermapbox": [
           {
            "marker": {
             "colorbar": {
              "outlinewidth": 0,
              "ticks": ""
             }
            },
            "type": "scattermapbox"
           }
          ],
          "scatterpolar": [
           {
            "marker": {
             "colorbar": {
              "outlinewidth": 0,
              "ticks": ""
             }
            },
            "type": "scatterpolar"
           }
          ],
          "scatterpolargl": [
           {
            "marker": {
             "colorbar": {
              "outlinewidth": 0,
              "ticks": ""
             }
            },
            "type": "scatterpolargl"
           }
          ],
          "scatterternary": [
           {
            "marker": {
             "colorbar": {
              "outlinewidth": 0,
              "ticks": ""
             }
            },
            "type": "scatterternary"
           }
          ],
          "surface": [
           {
            "colorbar": {
             "outlinewidth": 0,
             "ticks": ""
            },
            "colorscale": [
             [
              0,
              "#0d0887"
             ],
             [
              0.1111111111111111,
              "#46039f"
             ],
             [
              0.2222222222222222,
              "#7201a8"
             ],
             [
              0.3333333333333333,
              "#9c179e"
             ],
             [
              0.4444444444444444,
              "#bd3786"
             ],
             [
              0.5555555555555556,
              "#d8576b"
             ],
             [
              0.6666666666666666,
              "#ed7953"
             ],
             [
              0.7777777777777778,
              "#fb9f3a"
             ],
             [
              0.8888888888888888,
              "#fdca26"
             ],
             [
              1,
              "#f0f921"
             ]
            ],
            "type": "surface"
           }
          ],
          "table": [
           {
            "cells": {
             "fill": {
              "color": "#EBF0F8"
             },
             "line": {
              "color": "white"
             }
            },
            "header": {
             "fill": {
              "color": "#C8D4E3"
             },
             "line": {
              "color": "white"
             }
            },
            "type": "table"
           }
          ]
         },
         "layout": {
          "annotationdefaults": {
           "arrowcolor": "#2a3f5f",
           "arrowhead": 0,
           "arrowwidth": 1
          },
          "autotypenumbers": "strict",
          "coloraxis": {
           "colorbar": {
            "outlinewidth": 0,
            "ticks": ""
           }
          },
          "colorscale": {
           "diverging": [
            [
             0,
             "#8e0152"
            ],
            [
             0.1,
             "#c51b7d"
            ],
            [
             0.2,
             "#de77ae"
            ],
            [
             0.3,
             "#f1b6da"
            ],
            [
             0.4,
             "#fde0ef"
            ],
            [
             0.5,
             "#f7f7f7"
            ],
            [
             0.6,
             "#e6f5d0"
            ],
            [
             0.7,
             "#b8e186"
            ],
            [
             0.8,
             "#7fbc41"
            ],
            [
             0.9,
             "#4d9221"
            ],
            [
             1,
             "#276419"
            ]
           ],
           "sequential": [
            [
             0,
             "#0d0887"
            ],
            [
             0.1111111111111111,
             "#46039f"
            ],
            [
             0.2222222222222222,
             "#7201a8"
            ],
            [
             0.3333333333333333,
             "#9c179e"
            ],
            [
             0.4444444444444444,
             "#bd3786"
            ],
            [
             0.5555555555555556,
             "#d8576b"
            ],
            [
             0.6666666666666666,
             "#ed7953"
            ],
            [
             0.7777777777777778,
             "#fb9f3a"
            ],
            [
             0.8888888888888888,
             "#fdca26"
            ],
            [
             1,
             "#f0f921"
            ]
           ],
           "sequentialminus": [
            [
             0,
             "#0d0887"
            ],
            [
             0.1111111111111111,
             "#46039f"
            ],
            [
             0.2222222222222222,
             "#7201a8"
            ],
            [
             0.3333333333333333,
             "#9c179e"
            ],
            [
             0.4444444444444444,
             "#bd3786"
            ],
            [
             0.5555555555555556,
             "#d8576b"
            ],
            [
             0.6666666666666666,
             "#ed7953"
            ],
            [
             0.7777777777777778,
             "#fb9f3a"
            ],
            [
             0.8888888888888888,
             "#fdca26"
            ],
            [
             1,
             "#f0f921"
            ]
           ]
          },
          "colorway": [
           "#636efa",
           "#EF553B",
           "#00cc96",
           "#ab63fa",
           "#FFA15A",
           "#19d3f3",
           "#FF6692",
           "#B6E880",
           "#FF97FF",
           "#FECB52"
          ],
          "font": {
           "color": "#2a3f5f"
          },
          "geo": {
           "bgcolor": "white",
           "lakecolor": "white",
           "landcolor": "#E5ECF6",
           "showlakes": true,
           "showland": true,
           "subunitcolor": "white"
          },
          "hoverlabel": {
           "align": "left"
          },
          "hovermode": "closest",
          "mapbox": {
           "style": "light"
          },
          "paper_bgcolor": "white",
          "plot_bgcolor": "#E5ECF6",
          "polar": {
           "angularaxis": {
            "gridcolor": "white",
            "linecolor": "white",
            "ticks": ""
           },
           "bgcolor": "#E5ECF6",
           "radialaxis": {
            "gridcolor": "white",
            "linecolor": "white",
            "ticks": ""
           }
          },
          "scene": {
           "xaxis": {
            "backgroundcolor": "#E5ECF6",
            "gridcolor": "white",
            "gridwidth": 2,
            "linecolor": "white",
            "showbackground": true,
            "ticks": "",
            "zerolinecolor": "white"
           },
           "yaxis": {
            "backgroundcolor": "#E5ECF6",
            "gridcolor": "white",
            "gridwidth": 2,
            "linecolor": "white",
            "showbackground": true,
            "ticks": "",
            "zerolinecolor": "white"
           },
           "zaxis": {
            "backgroundcolor": "#E5ECF6",
            "gridcolor": "white",
            "gridwidth": 2,
            "linecolor": "white",
            "showbackground": true,
            "ticks": "",
            "zerolinecolor": "white"
           }
          },
          "shapedefaults": {
           "line": {
            "color": "#2a3f5f"
           }
          },
          "ternary": {
           "aaxis": {
            "gridcolor": "white",
            "linecolor": "white",
            "ticks": ""
           },
           "baxis": {
            "gridcolor": "white",
            "linecolor": "white",
            "ticks": ""
           },
           "bgcolor": "#E5ECF6",
           "caxis": {
            "gridcolor": "white",
            "linecolor": "white",
            "ticks": ""
           }
          },
          "title": {
           "x": 0.05
          },
          "xaxis": {
           "automargin": true,
           "gridcolor": "white",
           "linecolor": "white",
           "ticks": "",
           "title": {
            "standoff": 15
           },
           "zerolinecolor": "white",
           "zerolinewidth": 2
          },
          "yaxis": {
           "automargin": true,
           "gridcolor": "white",
           "linecolor": "white",
           "ticks": "",
           "title": {
            "standoff": 15
           },
           "zerolinecolor": "white",
           "zerolinewidth": 2
          }
         }
        },
        "title": {
         "text": "Median Total Profit Results x Overall view of actions (across all the simulations)",
         "x": 0.5
        },
        "width": 1200,
        "xaxis": {
         "anchor": "y",
         "categoryorder": "category ascending",
         "domain": [
          0,
          0.94
         ],
         "matches": "x4",
         "showticklabels": false
        },
        "xaxis2": {
         "anchor": "y3",
         "domain": [
          0,
          0.94
         ],
         "matches": "x4",
         "showticklabels": false
        },
        "xaxis3": {
         "anchor": "y5",
         "domain": [
          0,
          0.94
         ],
         "matches": "x4",
         "showticklabels": false
        },
        "xaxis4": {
         "anchor": "y7",
         "domain": [
          0,
          0.94
         ]
        },
        "yaxis": {
         "anchor": "x",
         "domain": [
          0.84375,
          1
         ],
         "matches": "y7",
         "title": {
          "text": "Proportion of trades<br>across all the simulations"
         }
        },
        "yaxis2": {
         "anchor": "x",
         "overlaying": "y",
         "side": "right",
         "title": {
          "text": "CCY level with the<br>sim_id actions related"
         }
        },
        "yaxis3": {
         "anchor": "x2",
         "domain": [
          0.5625,
          0.71875
         ],
         "matches": "y7",
         "title": {
          "text": "Proportion of trades<br>across all the simulations"
         }
        },
        "yaxis4": {
         "anchor": "x2",
         "overlaying": "y3",
         "side": "right",
         "title": {
          "text": "CCY level with the<br>sim_id actions related"
         }
        },
        "yaxis5": {
         "anchor": "x3",
         "domain": [
          0.28125,
          0.4375
         ],
         "matches": "y7",
         "title": {
          "text": "Proportion of trades<br>across all the simulations"
         }
        },
        "yaxis6": {
         "anchor": "x3",
         "overlaying": "y5",
         "side": "right",
         "title": {
          "text": "CCY level with the<br>sim_id actions related"
         }
        },
        "yaxis7": {
         "anchor": "x4",
         "domain": [
          0,
          0.15625
         ],
         "title": {
          "text": "Proportion of trades<br>across all the simulations"
         }
        },
        "yaxis8": {
         "anchor": "x4",
         "overlaying": "y7",
         "side": "right",
         "title": {
          "text": "CCY level with the<br>sim_id actions related"
         }
        }
       }
      }
     },
     "metadata": {},
     "output_type": "display_data"
    }
   ],
   "source": [
    "plot_trader_robot_actions_all_sim_id_all_models(config_file_name_without_extension, \"\", median_sim_id_PPO, \"\", \"\")"
   ]
  },
  {
   "cell_type": "code",
   "execution_count": 81,
   "metadata": {},
   "outputs": [],
   "source": [
    "def calc_reward(df):\n",
    "    \n",
    "    total_profit_percentage = 1.0\n",
    "    previous_action = df['actions'].iloc[0]\n",
    "    previous_price = df['prices'].iloc[0]\n",
    "    \n",
    "    for index, row in df.iterrows():\n",
    "    \n",
    "        current_action = row['actions']\n",
    "        current_price = row['prices']\n",
    "    \n",
    "        if(previous_action != current_action):\n",
    "\n",
    "            if(current_action == 0):\n",
    "                reward = current_price / previous_price\n",
    "            else:\n",
    "                reward = previous_price / current_price\n",
    "            \n",
    "            total_profit_percentage = total_profit_percentage * reward\n",
    "            previous_action = row['actions'] \n",
    "            previous_price = row['prices']\n",
    "\n",
    "        df.loc[index,'total_profit_percentage'] = total_profit_percentage\n",
    "        df.loc[index,'fmt_total_profit_percentage'] = (total_profit_percentage - 1 ) * 100\n",
    "        \n",
    "    return df"
   ]
  },
  {
   "cell_type": "code",
   "execution_count": 84,
   "metadata": {},
   "outputs": [],
   "source": [
    "def plot_trader_robot_actions_all_sim_id_combined_all_models(config_file_name_without_extension):\n",
    "    \n",
    "    df_robot_actions_and_env_all_sim_id = get_and_process_trader_robot_actions_and_env_data_all_sim_id(config_file_name_without_extension)\n",
    "    df_prices = df_robot_actions_and_env_all_sim_id[['dates', 'prices']].drop_duplicates()\n",
    "\n",
    "    # df_robot_actions_and_env_all_sim_id_A2C = df_robot_actions_and_env_all_sim_id[df_robot_actions_and_env_all_sim_id['model_type'] == 'A2C']\n",
    "    df_robot_actions_and_env_all_sim_id_PPO = df_robot_actions_and_env_all_sim_id[df_robot_actions_and_env_all_sim_id['model_type'] == 'PPO']\n",
    "    # df_robot_actions_and_env_all_sim_id_DQN = df_robot_actions_and_env_all_sim_id[df_robot_actions_and_env_all_sim_id['model_type'] == 'DQN']\n",
    "    # df_robot_actions_and_env_all_sim_id_RANDOM = df_robot_actions_and_env_all_sim_id[df_robot_actions_and_env_all_sim_id['model_type'] == 'RANDOM']    \n",
    "\n",
    "    # df_model_type_action_count_A2C = df_robot_actions_and_env_all_sim_id_A2C.assign(val=1).pivot_table(values='val', index=['dates'], columns=['model_type', 'actions'], aggfunc='count').stack(0).reset_index()\n",
    "    # df_model_type_action_count_A2C.rename(columns = {0.0:'action_short_count', 1.0:'action_long_count'}, inplace = True)\n",
    "    # df_model_type_action_count_A2C['actions'] = (df_model_type_action_count_A2C[\"action_long_count\"]>=df_model_type_action_count_A2C[\"action_short_count\"])*1\n",
    "    # df_model_type_action_count_A2C = df_model_type_action_count_A2C.merge(df_prices, on='dates', how='left')\n",
    "    # df_model_type_action_count_A2C = calc_reward(df_model_type_action_count_A2C)\n",
    "\n",
    "    df_model_type_action_count_PPO = df_robot_actions_and_env_all_sim_id_PPO.assign(val=1).pivot_table(values='val', index=['dates'], columns=['model_type', 'actions'], aggfunc='count').stack(0).reset_index()\n",
    "    df_model_type_action_count_PPO.rename(columns = {0.0:'action_short_count', 1.0:'action_long_count'}, inplace = True)\n",
    "    df_model_type_action_count_PPO['actions'] = (df_model_type_action_count_PPO[\"action_long_count\"]>=df_model_type_action_count_PPO[\"action_short_count\"])*1\n",
    "    df_model_type_action_count_PPO = df_model_type_action_count_PPO.merge(df_prices, on='dates', how='left')\n",
    "    df_model_type_action_count_PPO = calc_reward(df_model_type_action_count_PPO)\n",
    "\n",
    "    # df_model_type_action_count_DQN = df_robot_actions_and_env_all_sim_id_DQN.assign(val=1).pivot_table(values='val', index=['dates'], columns=['model_type', 'actions'], aggfunc='count').stack(0).reset_index()\n",
    "    # df_model_type_action_count_DQN.rename(columns = {0.0:'action_short_count', 1.0:'action_long_count'}, inplace = True)\n",
    "    # df_model_type_action_count_DQN['actions'] = (df_model_type_action_count_DQN[\"action_long_count\"]>=df_model_type_action_count_DQN[\"action_short_count\"])*1\n",
    "    # df_model_type_action_count_DQN = df_model_type_action_count_DQN.merge(df_prices, on='dates', how='left')\n",
    "    # df_model_type_action_count_DQN = calc_reward(df_model_type_action_count_DQN)\n",
    "\n",
    "    # df_model_type_action_count_RANDOM = df_robot_actions_and_env_all_sim_id_RANDOM.assign(val=1).pivot_table(values='val', index=['dates'], columns=['model_type', 'actions'], aggfunc='count').stack(0).reset_index()\n",
    "    # df_model_type_action_count_RANDOM.rename(columns = {0.0:'action_short_count', 1.0:'action_long_count'}, inplace = True)\n",
    "    # df_model_type_action_count_RANDOM['actions'] = (df_model_type_action_count_RANDOM[\"action_long_count\"]>=df_model_type_action_count_RANDOM[\"action_short_count\"])*1\n",
    "    # df_model_type_action_count_RANDOM = df_model_type_action_count_RANDOM.merge(df_prices, on='dates', how='left')\n",
    "    # df_model_type_action_count_RANDOM = calc_reward(df_model_type_action_count_RANDOM)\n",
    "\n",
    "    # str_title_A2C = f\"Median sim_id: mix | model_type: A2C | Total Profit percentage : {round(df_model_type_action_count_A2C.fmt_total_profit_percentage.values[-1],2)}%\"\n",
    "    str_title_PPO = f\"Median sim_id: mix | model_type: PPO | Total Profit percentage : {round(df_model_type_action_count_PPO.fmt_total_profit_percentage.values[-1],2)}%\"\n",
    "    # str_title_DQN = f\"Median sim_id: mix | model_type: DQN | Total Profit percentage : {round(df_model_type_action_count_DQN.fmt_total_profit_percentage.values[-1],2)}%\"\n",
    "    # str_title_RANDOM = f\"Median sim_id: mix | model_type: RANDOM | Total Profit percentage : {round(df_model_type_action_count_RANDOM.fmt_total_profit_percentage.values[-1],2)}%\"\n",
    "\n",
    "    str_title = f\"Median Total Profit Results x Overall view of actions (across all the simulations)\"\n",
    "\n",
    "    fig = make_subplots(rows=4, cols=1, subplot_titles=(\"\", str_title_PPO, \"\", \"\"), shared_xaxes='all', shared_yaxes='all', specs=[[{\"secondary_y\": True}], [{\"secondary_y\": True}], [{\"secondary_y\": True}], [{\"secondary_y\": True}]]) \n",
    "\n",
    "    # fig.add_trace(go.Scatter(name='Price', x=df_model_type_action_count_A2C[\"dates\"], y=df_model_type_action_count_A2C[\"prices\"], mode='lines', marker_color='#969696', legendgroup = '1'), row=1, col=1, secondary_y=True)\n",
    "    # fig.add_trace(go.Scatter(name='Long', x=df_model_type_action_count_A2C[df_model_type_action_count_A2C['actions'] == 1]['dates'], y=df_model_type_action_count_A2C[df_model_type_action_count_A2C['actions'] == 1]['prices'], mode='markers', marker_symbol='circle', marker_size=10, marker_color='#228b22', legendgroup = '1'), row=1, col=1, secondary_y=True)\n",
    "    # fig.add_trace(go.Scatter(name='Short', x=df_model_type_action_count_A2C[df_model_type_action_count_A2C['actions'] == 0]['dates'], y=df_model_type_action_count_A2C[df_model_type_action_count_A2C['actions'] == 0]['prices'], mode='markers', marker_symbol='circle', marker_size=10, marker_color='#c83232', legendgroup = '1'), row=1, col=1, secondary_y=True)\n",
    "\n",
    "    # fig.add_trace(go.Bar(x=df_model_type_action_count_A2C['dates'], y=df_model_type_action_count_A2C['action_long_count'], name='Long', marker_color=' #b3ffb3', legendgroup = '1'), row=1, col=1, secondary_y=False)\n",
    "    # fig.add_trace(go.Bar(x=df_model_type_action_count_A2C['dates'], y=df_model_type_action_count_A2C['action_short_count'], name='Short', marker_color='#ffb2b2', legendgroup = '1'), row=1, col=1, secondary_y=False)\n",
    "\n",
    "    fig.add_trace(go.Scatter(name='Price', x=df_model_type_action_count_PPO[\"dates\"], y=df_model_type_action_count_PPO[\"prices\"], mode='lines', marker_color='#969696', legendgroup = '2'), row=2, col=1, secondary_y=True)\n",
    "    fig.add_trace(go.Scatter(name='Long', x=df_model_type_action_count_PPO[df_model_type_action_count_PPO['actions'] == 1]['dates'], y=df_model_type_action_count_PPO[df_model_type_action_count_PPO['actions'] == 1]['prices'], mode='markers', marker_symbol='circle', marker_size=10, marker_color='#228b22', legendgroup = '2'), row=2, col=1, secondary_y=True)\n",
    "    fig.add_trace(go.Scatter(name='Short', x=df_model_type_action_count_PPO[df_model_type_action_count_PPO['actions'] == 0]['dates'], y=df_model_type_action_count_PPO[df_model_type_action_count_PPO['actions'] == 0]['prices'], mode='markers', marker_symbol='circle', marker_size=10, marker_color='#c83232', legendgroup = '2'), row=2, col=1, secondary_y=True)\n",
    "\n",
    "    fig.add_trace(go.Bar(x=df_model_type_action_count_PPO['dates'], y=df_model_type_action_count_PPO['action_long_count'], name='Long', marker_color=' #b3ffb3', legendgroup = '2'), row=2, col=1, secondary_y=False)\n",
    "    fig.add_trace(go.Bar(x=df_model_type_action_count_PPO['dates'], y=df_model_type_action_count_PPO['action_short_count'], name='Short', marker_color='#ffb2b2', legendgroup = '2'), row=2, col=1, secondary_y=False)\n",
    "\n",
    "    # fig.add_trace(go.Scatter(name='Price', x=df_model_type_action_count_DQN[\"dates\"], y=df_model_type_action_count_DQN[\"prices\"], mode='lines', marker_color='#969696', legendgroup = '3'), row=3, col=1, secondary_y=True)\n",
    "    # fig.add_trace(go.Scatter(name='Long', x=df_model_type_action_count_DQN[df_model_type_action_count_DQN['actions'] == 1]['dates'], y=df_model_type_action_count_DQN[df_model_type_action_count_DQN['actions'] == 1]['prices'], mode='markers', marker_symbol='circle', marker_size=10, marker_color='#228b22', legendgroup = '3'), row=3, col=1, secondary_y=True)\n",
    "    # fig.add_trace(go.Scatter(name='Short', x=df_model_type_action_count_DQN[df_model_type_action_count_DQN['actions'] == 0]['dates'], y=df_model_type_action_count_DQN[df_model_type_action_count_DQN['actions'] == 0]['prices'], mode='markers', marker_symbol='circle', marker_size=10, marker_color='#c83232', legendgroup = '3'), row=3, col=1, secondary_y=True)\n",
    "\n",
    "    # fig.add_trace(go.Bar(x=df_model_type_action_count_DQN['dates'], y=df_model_type_action_count_DQN['action_long_count'], name='Long', marker_color=' #b3ffb3', legendgroup = '3'), row=3, col=1, secondary_y=False)\n",
    "    # fig.add_trace(go.Bar(x=df_model_type_action_count_DQN['dates'], y=df_model_type_action_count_DQN['action_short_count'], name='Short', marker_color='#ffb2b2', legendgroup = '3'), row=3, col=1, secondary_y=False)\n",
    "\n",
    "    # fig.add_trace(go.Scatter(name='Price', x=df_model_type_action_count_RANDOM[\"dates\"], y=df_model_type_action_count_RANDOM[\"prices\"], mode='lines', marker_color='#969696', legendgroup = '4'), row=4, col=1, secondary_y=True)\n",
    "    # fig.add_trace(go.Scatter(name='Long', x=df_model_type_action_count_RANDOM[df_model_type_action_count_RANDOM['actions'] == 1]['dates'], y=df_model_type_action_count_RANDOM[df_model_type_action_count_RANDOM['actions'] == 1]['prices'], mode='markers', marker_symbol='circle', marker_size=10, marker_color='#228b22', legendgroup = '4'), row=4, col=1, secondary_y=True)\n",
    "    # fig.add_trace(go.Scatter(name='Short', x=df_model_type_action_count_RANDOM[df_model_type_action_count_RANDOM['actions'] == 0]['dates'], y=df_model_type_action_count_RANDOM[df_model_type_action_count_RANDOM['actions'] == 0]['prices'], mode='markers', marker_symbol='circle', marker_size=10, marker_color='#c83232', legendgroup = '4'), row=4, col=1, secondary_y=True)\n",
    "\n",
    "    # fig.add_trace(go.Bar(x=df_model_type_action_count_RANDOM['dates'], y=df_model_type_action_count_RANDOM['action_long_count'], name='Long', marker_color=' #b3ffb3', legendgroup = '4'), row=4, col=1, secondary_y=False)\n",
    "    # fig.add_trace(go.Bar(x=df_model_type_action_count_RANDOM['dates'], y=df_model_type_action_count_RANDOM['action_short_count'], name='Short', marker_color='#ffb2b2', legendgroup = '4'), row=4, col=1, secondary_y=False)\n",
    "\n",
    "    fig.update_yaxes(title_text=\"Proportion of trades<br>across all the simulations\", secondary_y=False)\n",
    "    fig.update_yaxes(title_text=f\"CCY level with the<br>sim_id actions related\", secondary_y=True)\n",
    "\n",
    "    fig.update_layout(barmode='stack', xaxis={'categoryorder':'category ascending'}, title=str_title, title_x=0.5, width=1200, height=800, legend_tracegroupgap=82, font={'size': 8})\n",
    "\n",
    "    fig.show()    "
   ]
  },
  {
   "cell_type": "code",
   "execution_count": 85,
   "metadata": {},
   "outputs": [
    {
     "data": {
      "application/vnd.plotly.v1+json": {
       "config": {
        "plotlyServerURL": "https://plot.ly"
       },
       "data": [
        {
         "legendgroup": "2",
         "marker": {
          "color": "#969696"
         },
         "mode": "lines",
         "name": "Price",
         "type": "scatter",
         "x": [
          "2023-01-02 00:00:00.000000",
          "2023-01-03 00:00:00.000000",
          "2023-01-04 00:00:00.000000",
          "2023-01-05 00:00:00.000000",
          "2023-01-06 00:00:00.000000",
          "2023-01-07 00:00:00.000000",
          "2023-01-08 00:00:00.000000",
          "2023-01-09 00:00:00.000000",
          "2023-01-10 00:00:00.000000",
          "2023-01-11 00:00:00.000000",
          "2023-01-12 00:00:00.000000",
          "2023-01-13 00:00:00.000000",
          "2023-01-14 00:00:00.000000",
          "2023-01-15 00:00:00.000000",
          "2023-01-16 00:00:00.000000",
          "2023-01-17 00:00:00.000000",
          "2023-01-18 00:00:00.000000",
          "2023-01-19 00:00:00.000000",
          "2023-01-20 00:00:00.000000",
          "2023-01-21 00:00:00.000000",
          "2023-01-22 00:00:00.000000",
          "2023-01-23 00:00:00.000000",
          "2023-01-24 00:00:00.000000",
          "2023-01-25 00:00:00.000000",
          "2023-01-26 00:00:00.000000",
          "2023-01-27 00:00:00.000000",
          "2023-01-28 00:00:00.000000",
          "2023-01-29 00:00:00.000000",
          "2023-01-30 00:00:00.000000",
          "2023-01-31 00:00:00.000000",
          "2023-02-01 00:00:00.000000",
          "2023-02-02 00:00:00.000000",
          "2023-02-03 00:00:00.000000",
          "2023-02-04 00:00:00.000000",
          "2023-02-05 00:00:00.000000",
          "2023-02-06 00:00:00.000000",
          "2023-02-07 00:00:00.000000",
          "2023-02-08 00:00:00.000000",
          "2023-02-09 00:00:00.000000",
          "2023-02-10 00:00:00.000000",
          "2023-02-11 00:00:00.000000",
          "2023-02-12 00:00:00.000000",
          "2023-02-13 00:00:00.000000"
         ],
         "xaxis": "x2",
         "y": [
          244.4,
          245.2,
          246.1,
          258.9,
          256.7,
          259.9,
          261.3,
          274.9,
          272.6,
          277.1,
          284.8,
          287.7,
          293.7,
          305.1,
          302.2,
          299,
          299.4,
          286.7,
          294.6,
          305.1,
          299,
          303,
          305.1,
          300.3,
          306.9,
          304.7,
          308,
          306.1,
          317.2,
          307.2,
          312,
          317,
          323.5,
          332.2,
          330.4,
          327.8,
          324.3,
          333,
          328.2,
          306.2,
          305.8,
          310.4,
          312.6
         ],
         "yaxis": "y4"
        },
        {
         "legendgroup": "2",
         "marker": {
          "color": "#228b22",
          "size": 10,
          "symbol": "circle"
         },
         "mode": "markers",
         "name": "Long",
         "type": "scatter",
         "x": [
          "2023-01-02 00:00:00.000000",
          "2023-01-03 00:00:00.000000",
          "2023-01-04 00:00:00.000000",
          "2023-01-05 00:00:00.000000",
          "2023-01-06 00:00:00.000000",
          "2023-01-07 00:00:00.000000",
          "2023-01-08 00:00:00.000000",
          "2023-01-09 00:00:00.000000",
          "2023-01-10 00:00:00.000000",
          "2023-01-11 00:00:00.000000",
          "2023-01-12 00:00:00.000000",
          "2023-01-13 00:00:00.000000",
          "2023-01-14 00:00:00.000000",
          "2023-01-15 00:00:00.000000",
          "2023-01-16 00:00:00.000000",
          "2023-01-17 00:00:00.000000",
          "2023-01-18 00:00:00.000000",
          "2023-01-19 00:00:00.000000",
          "2023-01-20 00:00:00.000000",
          "2023-01-22 00:00:00.000000",
          "2023-02-13 00:00:00.000000"
         ],
         "xaxis": "x2",
         "y": [
          244.4,
          245.2,
          246.1,
          258.9,
          256.7,
          259.9,
          261.3,
          274.9,
          272.6,
          277.1,
          284.8,
          287.7,
          293.7,
          305.1,
          302.2,
          299,
          299.4,
          286.7,
          294.6,
          299,
          312.6
         ],
         "yaxis": "y4"
        },
        {
         "legendgroup": "2",
         "marker": {
          "color": "#c83232",
          "size": 10,
          "symbol": "circle"
         },
         "mode": "markers",
         "name": "Short",
         "type": "scatter",
         "x": [
          "2023-01-21 00:00:00.000000",
          "2023-01-23 00:00:00.000000",
          "2023-01-24 00:00:00.000000",
          "2023-01-25 00:00:00.000000",
          "2023-01-26 00:00:00.000000",
          "2023-01-27 00:00:00.000000",
          "2023-01-28 00:00:00.000000",
          "2023-01-29 00:00:00.000000",
          "2023-01-30 00:00:00.000000",
          "2023-01-31 00:00:00.000000",
          "2023-02-01 00:00:00.000000",
          "2023-02-02 00:00:00.000000",
          "2023-02-03 00:00:00.000000",
          "2023-02-04 00:00:00.000000",
          "2023-02-05 00:00:00.000000",
          "2023-02-06 00:00:00.000000",
          "2023-02-07 00:00:00.000000",
          "2023-02-08 00:00:00.000000",
          "2023-02-09 00:00:00.000000",
          "2023-02-10 00:00:00.000000",
          "2023-02-11 00:00:00.000000",
          "2023-02-12 00:00:00.000000"
         ],
         "xaxis": "x2",
         "y": [
          305.1,
          303,
          305.1,
          300.3,
          306.9,
          304.7,
          308,
          306.1,
          317.2,
          307.2,
          312,
          317,
          323.5,
          332.2,
          330.4,
          327.8,
          324.3,
          333,
          328.2,
          306.2,
          305.8,
          310.4
         ],
         "yaxis": "y4"
        },
        {
         "legendgroup": "2",
         "marker": {
          "color": " #b3ffb3"
         },
         "name": "Long",
         "type": "bar",
         "x": [
          "2023-01-02 00:00:00.000000",
          "2023-01-03 00:00:00.000000",
          "2023-01-04 00:00:00.000000",
          "2023-01-05 00:00:00.000000",
          "2023-01-06 00:00:00.000000",
          "2023-01-07 00:00:00.000000",
          "2023-01-08 00:00:00.000000",
          "2023-01-09 00:00:00.000000",
          "2023-01-10 00:00:00.000000",
          "2023-01-11 00:00:00.000000",
          "2023-01-12 00:00:00.000000",
          "2023-01-13 00:00:00.000000",
          "2023-01-14 00:00:00.000000",
          "2023-01-15 00:00:00.000000",
          "2023-01-16 00:00:00.000000",
          "2023-01-17 00:00:00.000000",
          "2023-01-18 00:00:00.000000",
          "2023-01-19 00:00:00.000000",
          "2023-01-20 00:00:00.000000",
          "2023-01-21 00:00:00.000000",
          "2023-01-22 00:00:00.000000",
          "2023-01-23 00:00:00.000000",
          "2023-01-24 00:00:00.000000",
          "2023-01-25 00:00:00.000000",
          "2023-01-26 00:00:00.000000",
          "2023-01-27 00:00:00.000000",
          "2023-01-28 00:00:00.000000",
          "2023-01-29 00:00:00.000000",
          "2023-01-30 00:00:00.000000",
          "2023-01-31 00:00:00.000000",
          "2023-02-01 00:00:00.000000",
          "2023-02-02 00:00:00.000000",
          "2023-02-03 00:00:00.000000",
          "2023-02-04 00:00:00.000000",
          "2023-02-05 00:00:00.000000",
          "2023-02-06 00:00:00.000000",
          "2023-02-07 00:00:00.000000",
          "2023-02-08 00:00:00.000000",
          "2023-02-09 00:00:00.000000",
          "2023-02-10 00:00:00.000000",
          "2023-02-11 00:00:00.000000",
          "2023-02-12 00:00:00.000000",
          "2023-02-13 00:00:00.000000"
         ],
         "xaxis": "x2",
         "y": [
          954,
          954,
          974,
          977,
          964,
          866,
          917,
          987,
          953,
          978,
          962,
          970,
          780,
          690,
          659,
          515,
          550,
          536,
          524,
          497,
          555,
          40,
          23,
          89,
          65,
          52,
          129,
          31,
          10,
          14,
          17,
          14,
          94,
          14,
          16,
          21,
          30,
          50,
          43,
          27,
          28,
          216,
          687
         ],
         "yaxis": "y3"
        },
        {
         "legendgroup": "2",
         "marker": {
          "color": "#ffb2b2"
         },
         "name": "Short",
         "type": "bar",
         "x": [
          "2023-01-02 00:00:00.000000",
          "2023-01-03 00:00:00.000000",
          "2023-01-04 00:00:00.000000",
          "2023-01-05 00:00:00.000000",
          "2023-01-06 00:00:00.000000",
          "2023-01-07 00:00:00.000000",
          "2023-01-08 00:00:00.000000",
          "2023-01-09 00:00:00.000000",
          "2023-01-10 00:00:00.000000",
          "2023-01-11 00:00:00.000000",
          "2023-01-12 00:00:00.000000",
          "2023-01-13 00:00:00.000000",
          "2023-01-14 00:00:00.000000",
          "2023-01-15 00:00:00.000000",
          "2023-01-16 00:00:00.000000",
          "2023-01-17 00:00:00.000000",
          "2023-01-18 00:00:00.000000",
          "2023-01-19 00:00:00.000000",
          "2023-01-20 00:00:00.000000",
          "2023-01-21 00:00:00.000000",
          "2023-01-22 00:00:00.000000",
          "2023-01-23 00:00:00.000000",
          "2023-01-24 00:00:00.000000",
          "2023-01-25 00:00:00.000000",
          "2023-01-26 00:00:00.000000",
          "2023-01-27 00:00:00.000000",
          "2023-01-28 00:00:00.000000",
          "2023-01-29 00:00:00.000000",
          "2023-01-30 00:00:00.000000",
          "2023-01-31 00:00:00.000000",
          "2023-02-01 00:00:00.000000",
          "2023-02-02 00:00:00.000000",
          "2023-02-03 00:00:00.000000",
          "2023-02-04 00:00:00.000000",
          "2023-02-05 00:00:00.000000",
          "2023-02-06 00:00:00.000000",
          "2023-02-07 00:00:00.000000",
          "2023-02-08 00:00:00.000000",
          "2023-02-09 00:00:00.000000",
          "2023-02-10 00:00:00.000000",
          "2023-02-11 00:00:00.000000",
          "2023-02-12 00:00:00.000000",
          "2023-02-13 00:00:00.000000"
         ],
         "xaxis": "x2",
         "y": [
          46,
          46,
          26,
          23,
          36,
          134,
          83,
          13,
          47,
          22,
          38,
          30,
          220,
          310,
          341,
          485,
          450,
          464,
          476,
          503,
          445,
          960,
          977,
          911,
          935,
          948,
          871,
          969,
          990,
          986,
          983,
          986,
          906,
          986,
          984,
          979,
          970,
          950,
          957,
          973,
          972,
          784,
          313
         ],
         "yaxis": "y3"
        }
       ],
       "layout": {
        "annotations": [
         {
          "font": {
           "size": 16
          },
          "showarrow": false,
          "text": "Median sim_id: mix | model_type: PPO | Total Profit percentage : 25.12%",
          "x": 0.47,
          "xanchor": "center",
          "xref": "paper",
          "y": 0.71875,
          "yanchor": "bottom",
          "yref": "paper"
         }
        ],
        "barmode": "stack",
        "font": {
         "size": 8
        },
        "height": 800,
        "legend": {
         "tracegroupgap": 82
        },
        "template": {
         "data": {
          "bar": [
           {
            "error_x": {
             "color": "#2a3f5f"
            },
            "error_y": {
             "color": "#2a3f5f"
            },
            "marker": {
             "line": {
              "color": "#E5ECF6",
              "width": 0.5
             },
             "pattern": {
              "fillmode": "overlay",
              "size": 10,
              "solidity": 0.2
             }
            },
            "type": "bar"
           }
          ],
          "barpolar": [
           {
            "marker": {
             "line": {
              "color": "#E5ECF6",
              "width": 0.5
             },
             "pattern": {
              "fillmode": "overlay",
              "size": 10,
              "solidity": 0.2
             }
            },
            "type": "barpolar"
           }
          ],
          "carpet": [
           {
            "aaxis": {
             "endlinecolor": "#2a3f5f",
             "gridcolor": "white",
             "linecolor": "white",
             "minorgridcolor": "white",
             "startlinecolor": "#2a3f5f"
            },
            "baxis": {
             "endlinecolor": "#2a3f5f",
             "gridcolor": "white",
             "linecolor": "white",
             "minorgridcolor": "white",
             "startlinecolor": "#2a3f5f"
            },
            "type": "carpet"
           }
          ],
          "choropleth": [
           {
            "colorbar": {
             "outlinewidth": 0,
             "ticks": ""
            },
            "type": "choropleth"
           }
          ],
          "contour": [
           {
            "colorbar": {
             "outlinewidth": 0,
             "ticks": ""
            },
            "colorscale": [
             [
              0,
              "#0d0887"
             ],
             [
              0.1111111111111111,
              "#46039f"
             ],
             [
              0.2222222222222222,
              "#7201a8"
             ],
             [
              0.3333333333333333,
              "#9c179e"
             ],
             [
              0.4444444444444444,
              "#bd3786"
             ],
             [
              0.5555555555555556,
              "#d8576b"
             ],
             [
              0.6666666666666666,
              "#ed7953"
             ],
             [
              0.7777777777777778,
              "#fb9f3a"
             ],
             [
              0.8888888888888888,
              "#fdca26"
             ],
             [
              1,
              "#f0f921"
             ]
            ],
            "type": "contour"
           }
          ],
          "contourcarpet": [
           {
            "colorbar": {
             "outlinewidth": 0,
             "ticks": ""
            },
            "type": "contourcarpet"
           }
          ],
          "heatmap": [
           {
            "colorbar": {
             "outlinewidth": 0,
             "ticks": ""
            },
            "colorscale": [
             [
              0,
              "#0d0887"
             ],
             [
              0.1111111111111111,
              "#46039f"
             ],
             [
              0.2222222222222222,
              "#7201a8"
             ],
             [
              0.3333333333333333,
              "#9c179e"
             ],
             [
              0.4444444444444444,
              "#bd3786"
             ],
             [
              0.5555555555555556,
              "#d8576b"
             ],
             [
              0.6666666666666666,
              "#ed7953"
             ],
             [
              0.7777777777777778,
              "#fb9f3a"
             ],
             [
              0.8888888888888888,
              "#fdca26"
             ],
             [
              1,
              "#f0f921"
             ]
            ],
            "type": "heatmap"
           }
          ],
          "heatmapgl": [
           {
            "colorbar": {
             "outlinewidth": 0,
             "ticks": ""
            },
            "colorscale": [
             [
              0,
              "#0d0887"
             ],
             [
              0.1111111111111111,
              "#46039f"
             ],
             [
              0.2222222222222222,
              "#7201a8"
             ],
             [
              0.3333333333333333,
              "#9c179e"
             ],
             [
              0.4444444444444444,
              "#bd3786"
             ],
             [
              0.5555555555555556,
              "#d8576b"
             ],
             [
              0.6666666666666666,
              "#ed7953"
             ],
             [
              0.7777777777777778,
              "#fb9f3a"
             ],
             [
              0.8888888888888888,
              "#fdca26"
             ],
             [
              1,
              "#f0f921"
             ]
            ],
            "type": "heatmapgl"
           }
          ],
          "histogram": [
           {
            "marker": {
             "pattern": {
              "fillmode": "overlay",
              "size": 10,
              "solidity": 0.2
             }
            },
            "type": "histogram"
           }
          ],
          "histogram2d": [
           {
            "colorbar": {
             "outlinewidth": 0,
             "ticks": ""
            },
            "colorscale": [
             [
              0,
              "#0d0887"
             ],
             [
              0.1111111111111111,
              "#46039f"
             ],
             [
              0.2222222222222222,
              "#7201a8"
             ],
             [
              0.3333333333333333,
              "#9c179e"
             ],
             [
              0.4444444444444444,
              "#bd3786"
             ],
             [
              0.5555555555555556,
              "#d8576b"
             ],
             [
              0.6666666666666666,
              "#ed7953"
             ],
             [
              0.7777777777777778,
              "#fb9f3a"
             ],
             [
              0.8888888888888888,
              "#fdca26"
             ],
             [
              1,
              "#f0f921"
             ]
            ],
            "type": "histogram2d"
           }
          ],
          "histogram2dcontour": [
           {
            "colorbar": {
             "outlinewidth": 0,
             "ticks": ""
            },
            "colorscale": [
             [
              0,
              "#0d0887"
             ],
             [
              0.1111111111111111,
              "#46039f"
             ],
             [
              0.2222222222222222,
              "#7201a8"
             ],
             [
              0.3333333333333333,
              "#9c179e"
             ],
             [
              0.4444444444444444,
              "#bd3786"
             ],
             [
              0.5555555555555556,
              "#d8576b"
             ],
             [
              0.6666666666666666,
              "#ed7953"
             ],
             [
              0.7777777777777778,
              "#fb9f3a"
             ],
             [
              0.8888888888888888,
              "#fdca26"
             ],
             [
              1,
              "#f0f921"
             ]
            ],
            "type": "histogram2dcontour"
           }
          ],
          "mesh3d": [
           {
            "colorbar": {
             "outlinewidth": 0,
             "ticks": ""
            },
            "type": "mesh3d"
           }
          ],
          "parcoords": [
           {
            "line": {
             "colorbar": {
              "outlinewidth": 0,
              "ticks": ""
             }
            },
            "type": "parcoords"
           }
          ],
          "pie": [
           {
            "automargin": true,
            "type": "pie"
           }
          ],
          "scatter": [
           {
            "fillpattern": {
             "fillmode": "overlay",
             "size": 10,
             "solidity": 0.2
            },
            "type": "scatter"
           }
          ],
          "scatter3d": [
           {
            "line": {
             "colorbar": {
              "outlinewidth": 0,
              "ticks": ""
             }
            },
            "marker": {
             "colorbar": {
              "outlinewidth": 0,
              "ticks": ""
             }
            },
            "type": "scatter3d"
           }
          ],
          "scattercarpet": [
           {
            "marker": {
             "colorbar": {
              "outlinewidth": 0,
              "ticks": ""
             }
            },
            "type": "scattercarpet"
           }
          ],
          "scattergeo": [
           {
            "marker": {
             "colorbar": {
              "outlinewidth": 0,
              "ticks": ""
             }
            },
            "type": "scattergeo"
           }
          ],
          "scattergl": [
           {
            "marker": {
             "colorbar": {
              "outlinewidth": 0,
              "ticks": ""
             }
            },
            "type": "scattergl"
           }
          ],
          "scattermapbox": [
           {
            "marker": {
             "colorbar": {
              "outlinewidth": 0,
              "ticks": ""
             }
            },
            "type": "scattermapbox"
           }
          ],
          "scatterpolar": [
           {
            "marker": {
             "colorbar": {
              "outlinewidth": 0,
              "ticks": ""
             }
            },
            "type": "scatterpolar"
           }
          ],
          "scatterpolargl": [
           {
            "marker": {
             "colorbar": {
              "outlinewidth": 0,
              "ticks": ""
             }
            },
            "type": "scatterpolargl"
           }
          ],
          "scatterternary": [
           {
            "marker": {
             "colorbar": {
              "outlinewidth": 0,
              "ticks": ""
             }
            },
            "type": "scatterternary"
           }
          ],
          "surface": [
           {
            "colorbar": {
             "outlinewidth": 0,
             "ticks": ""
            },
            "colorscale": [
             [
              0,
              "#0d0887"
             ],
             [
              0.1111111111111111,
              "#46039f"
             ],
             [
              0.2222222222222222,
              "#7201a8"
             ],
             [
              0.3333333333333333,
              "#9c179e"
             ],
             [
              0.4444444444444444,
              "#bd3786"
             ],
             [
              0.5555555555555556,
              "#d8576b"
             ],
             [
              0.6666666666666666,
              "#ed7953"
             ],
             [
              0.7777777777777778,
              "#fb9f3a"
             ],
             [
              0.8888888888888888,
              "#fdca26"
             ],
             [
              1,
              "#f0f921"
             ]
            ],
            "type": "surface"
           }
          ],
          "table": [
           {
            "cells": {
             "fill": {
              "color": "#EBF0F8"
             },
             "line": {
              "color": "white"
             }
            },
            "header": {
             "fill": {
              "color": "#C8D4E3"
             },
             "line": {
              "color": "white"
             }
            },
            "type": "table"
           }
          ]
         },
         "layout": {
          "annotationdefaults": {
           "arrowcolor": "#2a3f5f",
           "arrowhead": 0,
           "arrowwidth": 1
          },
          "autotypenumbers": "strict",
          "coloraxis": {
           "colorbar": {
            "outlinewidth": 0,
            "ticks": ""
           }
          },
          "colorscale": {
           "diverging": [
            [
             0,
             "#8e0152"
            ],
            [
             0.1,
             "#c51b7d"
            ],
            [
             0.2,
             "#de77ae"
            ],
            [
             0.3,
             "#f1b6da"
            ],
            [
             0.4,
             "#fde0ef"
            ],
            [
             0.5,
             "#f7f7f7"
            ],
            [
             0.6,
             "#e6f5d0"
            ],
            [
             0.7,
             "#b8e186"
            ],
            [
             0.8,
             "#7fbc41"
            ],
            [
             0.9,
             "#4d9221"
            ],
            [
             1,
             "#276419"
            ]
           ],
           "sequential": [
            [
             0,
             "#0d0887"
            ],
            [
             0.1111111111111111,
             "#46039f"
            ],
            [
             0.2222222222222222,
             "#7201a8"
            ],
            [
             0.3333333333333333,
             "#9c179e"
            ],
            [
             0.4444444444444444,
             "#bd3786"
            ],
            [
             0.5555555555555556,
             "#d8576b"
            ],
            [
             0.6666666666666666,
             "#ed7953"
            ],
            [
             0.7777777777777778,
             "#fb9f3a"
            ],
            [
             0.8888888888888888,
             "#fdca26"
            ],
            [
             1,
             "#f0f921"
            ]
           ],
           "sequentialminus": [
            [
             0,
             "#0d0887"
            ],
            [
             0.1111111111111111,
             "#46039f"
            ],
            [
             0.2222222222222222,
             "#7201a8"
            ],
            [
             0.3333333333333333,
             "#9c179e"
            ],
            [
             0.4444444444444444,
             "#bd3786"
            ],
            [
             0.5555555555555556,
             "#d8576b"
            ],
            [
             0.6666666666666666,
             "#ed7953"
            ],
            [
             0.7777777777777778,
             "#fb9f3a"
            ],
            [
             0.8888888888888888,
             "#fdca26"
            ],
            [
             1,
             "#f0f921"
            ]
           ]
          },
          "colorway": [
           "#636efa",
           "#EF553B",
           "#00cc96",
           "#ab63fa",
           "#FFA15A",
           "#19d3f3",
           "#FF6692",
           "#B6E880",
           "#FF97FF",
           "#FECB52"
          ],
          "font": {
           "color": "#2a3f5f"
          },
          "geo": {
           "bgcolor": "white",
           "lakecolor": "white",
           "landcolor": "#E5ECF6",
           "showlakes": true,
           "showland": true,
           "subunitcolor": "white"
          },
          "hoverlabel": {
           "align": "left"
          },
          "hovermode": "closest",
          "mapbox": {
           "style": "light"
          },
          "paper_bgcolor": "white",
          "plot_bgcolor": "#E5ECF6",
          "polar": {
           "angularaxis": {
            "gridcolor": "white",
            "linecolor": "white",
            "ticks": ""
           },
           "bgcolor": "#E5ECF6",
           "radialaxis": {
            "gridcolor": "white",
            "linecolor": "white",
            "ticks": ""
           }
          },
          "scene": {
           "xaxis": {
            "backgroundcolor": "#E5ECF6",
            "gridcolor": "white",
            "gridwidth": 2,
            "linecolor": "white",
            "showbackground": true,
            "ticks": "",
            "zerolinecolor": "white"
           },
           "yaxis": {
            "backgroundcolor": "#E5ECF6",
            "gridcolor": "white",
            "gridwidth": 2,
            "linecolor": "white",
            "showbackground": true,
            "ticks": "",
            "zerolinecolor": "white"
           },
           "zaxis": {
            "backgroundcolor": "#E5ECF6",
            "gridcolor": "white",
            "gridwidth": 2,
            "linecolor": "white",
            "showbackground": true,
            "ticks": "",
            "zerolinecolor": "white"
           }
          },
          "shapedefaults": {
           "line": {
            "color": "#2a3f5f"
           }
          },
          "ternary": {
           "aaxis": {
            "gridcolor": "white",
            "linecolor": "white",
            "ticks": ""
           },
           "baxis": {
            "gridcolor": "white",
            "linecolor": "white",
            "ticks": ""
           },
           "bgcolor": "#E5ECF6",
           "caxis": {
            "gridcolor": "white",
            "linecolor": "white",
            "ticks": ""
           }
          },
          "title": {
           "x": 0.05
          },
          "xaxis": {
           "automargin": true,
           "gridcolor": "white",
           "linecolor": "white",
           "ticks": "",
           "title": {
            "standoff": 15
           },
           "zerolinecolor": "white",
           "zerolinewidth": 2
          },
          "yaxis": {
           "automargin": true,
           "gridcolor": "white",
           "linecolor": "white",
           "ticks": "",
           "title": {
            "standoff": 15
           },
           "zerolinecolor": "white",
           "zerolinewidth": 2
          }
         }
        },
        "title": {
         "text": "Median Total Profit Results x Overall view of actions (across all the simulations)",
         "x": 0.5
        },
        "width": 1200,
        "xaxis": {
         "anchor": "y",
         "categoryorder": "category ascending",
         "domain": [
          0,
          0.94
         ],
         "matches": "x4",
         "showticklabels": false
        },
        "xaxis2": {
         "anchor": "y3",
         "domain": [
          0,
          0.94
         ],
         "matches": "x4",
         "showticklabels": false
        },
        "xaxis3": {
         "anchor": "y5",
         "domain": [
          0,
          0.94
         ],
         "matches": "x4",
         "showticklabels": false
        },
        "xaxis4": {
         "anchor": "y7",
         "domain": [
          0,
          0.94
         ]
        },
        "yaxis": {
         "anchor": "x",
         "domain": [
          0.84375,
          1
         ],
         "matches": "y7",
         "title": {
          "text": "Proportion of trades<br>across all the simulations"
         }
        },
        "yaxis2": {
         "anchor": "x",
         "overlaying": "y",
         "side": "right",
         "title": {
          "text": "CCY level with the<br>sim_id actions related"
         }
        },
        "yaxis3": {
         "anchor": "x2",
         "domain": [
          0.5625,
          0.71875
         ],
         "matches": "y7",
         "title": {
          "text": "Proportion of trades<br>across all the simulations"
         }
        },
        "yaxis4": {
         "anchor": "x2",
         "overlaying": "y3",
         "side": "right",
         "title": {
          "text": "CCY level with the<br>sim_id actions related"
         }
        },
        "yaxis5": {
         "anchor": "x3",
         "domain": [
          0.28125,
          0.4375
         ],
         "matches": "y7",
         "title": {
          "text": "Proportion of trades<br>across all the simulations"
         }
        },
        "yaxis6": {
         "anchor": "x3",
         "overlaying": "y5",
         "side": "right",
         "title": {
          "text": "CCY level with the<br>sim_id actions related"
         }
        },
        "yaxis7": {
         "anchor": "x4",
         "domain": [
          0,
          0.15625
         ],
         "title": {
          "text": "Proportion of trades<br>across all the simulations"
         }
        },
        "yaxis8": {
         "anchor": "x4",
         "overlaying": "y7",
         "side": "right",
         "title": {
          "text": "CCY level with the<br>sim_id actions related"
         }
        }
       }
      }
     },
     "metadata": {},
     "output_type": "display_data"
    }
   ],
   "source": [
    "plot_trader_robot_actions_all_sim_id_combined_all_models(config_file_name_without_extension)"
   ]
  },
  {
   "cell_type": "code",
   "execution_count": 29,
   "metadata": {},
   "outputs": [
    {
     "name": "stdout",
     "output_type": "stream",
     "text": [
      "mean_reward=225.05 +/- 0.0\n"
     ]
    }
   ],
   "source": [
    "# Evaluate the loaded policy\n",
    "mean_reward, std_reward = evaluate_policy(saved_policy, env, n_eval_episodes=10, deterministic=True)\n",
    "\n",
    "print(f\"mean_reward={mean_reward:.2f} +/- {std_reward}\")"
   ]
  },
  {
   "cell_type": "code",
   "execution_count": null,
   "metadata": {},
   "outputs": [],
   "source": []
  },
  {
   "cell_type": "code",
   "execution_count": null,
   "metadata": {},
   "outputs": [],
   "source": []
  },
  {
   "cell_type": "code",
   "execution_count": null,
   "metadata": {},
   "outputs": [],
   "source": []
  },
  {
   "cell_type": "code",
   "execution_count": 53,
   "metadata": {},
   "outputs": [],
   "source": [
    "df_robot_actions_and_env_all_sim_id = get_and_process_trader_robot_actions_and_env_data_all_sim_id(config_file_name_without_extension)"
   ]
  },
  {
   "cell_type": "code",
   "execution_count": 77,
   "metadata": {},
   "outputs": [
    {
     "data": {
      "text/html": [
       "<div>\n",
       "<style scoped>\n",
       "    .dataframe tbody tr th:only-of-type {\n",
       "        vertical-align: middle;\n",
       "    }\n",
       "\n",
       "    .dataframe tbody tr th {\n",
       "        vertical-align: top;\n",
       "    }\n",
       "\n",
       "    .dataframe thead th {\n",
       "        text-align: right;\n",
       "    }\n",
       "</style>\n",
       "<table border=\"1\" class=\"dataframe\">\n",
       "  <thead>\n",
       "    <tr style=\"text-align: right;\">\n",
       "      <th></th>\n",
       "      <th>dates</th>\n",
       "      <th>prices</th>\n",
       "      <th>actions</th>\n",
       "      <th>total_reward_cash</th>\n",
       "      <th>total_profit_percentage</th>\n",
       "      <th>fmt_total_profit_percentage</th>\n",
       "      <th>num_of_trades</th>\n",
       "      <th>sim_id</th>\n",
       "      <th>sim_id</th>\n",
       "      <th>model_type</th>\n",
       "    </tr>\n",
       "  </thead>\n",
       "  <tbody>\n",
       "    <tr>\n",
       "      <th>0</th>\n",
       "      <td>2022-12-27 00:00:00.000000</td>\n",
       "      <td>244.3</td>\n",
       "      <td>NaN</td>\n",
       "      <td>0.0</td>\n",
       "      <td>0.000000</td>\n",
       "      <td>0.000000</td>\n",
       "      <td>0.0</td>\n",
       "      <td>1</td>\n",
       "      <td>1</td>\n",
       "      <td>PPO</td>\n",
       "    </tr>\n",
       "    <tr>\n",
       "      <th>1</th>\n",
       "      <td>2022-12-28 00:00:00.000000</td>\n",
       "      <td>246.7</td>\n",
       "      <td>NaN</td>\n",
       "      <td>0.0</td>\n",
       "      <td>0.000000</td>\n",
       "      <td>0.000000</td>\n",
       "      <td>0.0</td>\n",
       "      <td>1</td>\n",
       "      <td>1</td>\n",
       "      <td>PPO</td>\n",
       "    </tr>\n",
       "    <tr>\n",
       "      <th>2</th>\n",
       "      <td>2022-12-29 00:00:00.000000</td>\n",
       "      <td>244.5</td>\n",
       "      <td>NaN</td>\n",
       "      <td>0.0</td>\n",
       "      <td>0.000000</td>\n",
       "      <td>0.000000</td>\n",
       "      <td>0.0</td>\n",
       "      <td>1</td>\n",
       "      <td>1</td>\n",
       "      <td>PPO</td>\n",
       "    </tr>\n",
       "    <tr>\n",
       "      <th>3</th>\n",
       "      <td>2022-12-30 00:00:00.000000</td>\n",
       "      <td>246.3</td>\n",
       "      <td>NaN</td>\n",
       "      <td>0.0</td>\n",
       "      <td>0.000000</td>\n",
       "      <td>0.000000</td>\n",
       "      <td>0.0</td>\n",
       "      <td>1</td>\n",
       "      <td>1</td>\n",
       "      <td>PPO</td>\n",
       "    </tr>\n",
       "    <tr>\n",
       "      <th>4</th>\n",
       "      <td>2022-12-31 00:00:00.000000</td>\n",
       "      <td>245.8</td>\n",
       "      <td>NaN</td>\n",
       "      <td>0.0</td>\n",
       "      <td>0.000000</td>\n",
       "      <td>0.000000</td>\n",
       "      <td>0.0</td>\n",
       "      <td>1</td>\n",
       "      <td>1</td>\n",
       "      <td>PPO</td>\n",
       "    </tr>\n",
       "    <tr>\n",
       "      <th>...</th>\n",
       "      <td>...</td>\n",
       "      <td>...</td>\n",
       "      <td>...</td>\n",
       "      <td>...</td>\n",
       "      <td>...</td>\n",
       "      <td>...</td>\n",
       "      <td>...</td>\n",
       "      <td>...</td>\n",
       "      <td>...</td>\n",
       "      <td>...</td>\n",
       "    </tr>\n",
       "    <tr>\n",
       "      <th>48995</th>\n",
       "      <td>2023-02-09 00:00:00.000000</td>\n",
       "      <td>328.2</td>\n",
       "      <td>0.0</td>\n",
       "      <td>43.8</td>\n",
       "      <td>1.180923</td>\n",
       "      <td>18.092293</td>\n",
       "      <td>7.0</td>\n",
       "      <td>1000</td>\n",
       "      <td>1000</td>\n",
       "      <td>PPO</td>\n",
       "    </tr>\n",
       "    <tr>\n",
       "      <th>48996</th>\n",
       "      <td>2023-02-10 00:00:00.000000</td>\n",
       "      <td>306.2</td>\n",
       "      <td>0.0</td>\n",
       "      <td>43.8</td>\n",
       "      <td>1.180923</td>\n",
       "      <td>18.092293</td>\n",
       "      <td>7.0</td>\n",
       "      <td>1000</td>\n",
       "      <td>1000</td>\n",
       "      <td>PPO</td>\n",
       "    </tr>\n",
       "    <tr>\n",
       "      <th>48997</th>\n",
       "      <td>2023-02-11 00:00:00.000000</td>\n",
       "      <td>305.8</td>\n",
       "      <td>0.0</td>\n",
       "      <td>43.8</td>\n",
       "      <td>1.180923</td>\n",
       "      <td>18.092293</td>\n",
       "      <td>7.0</td>\n",
       "      <td>1000</td>\n",
       "      <td>1000</td>\n",
       "      <td>PPO</td>\n",
       "    </tr>\n",
       "    <tr>\n",
       "      <th>48998</th>\n",
       "      <td>2023-02-12 00:00:00.000000</td>\n",
       "      <td>310.4</td>\n",
       "      <td>0.0</td>\n",
       "      <td>43.8</td>\n",
       "      <td>1.180923</td>\n",
       "      <td>18.092293</td>\n",
       "      <td>7.0</td>\n",
       "      <td>1000</td>\n",
       "      <td>1000</td>\n",
       "      <td>PPO</td>\n",
       "    </tr>\n",
       "    <tr>\n",
       "      <th>48999</th>\n",
       "      <td>2023-02-13 00:00:00.000000</td>\n",
       "      <td>312.6</td>\n",
       "      <td>0.0</td>\n",
       "      <td>43.8</td>\n",
       "      <td>1.180923</td>\n",
       "      <td>18.092293</td>\n",
       "      <td>7.0</td>\n",
       "      <td>1000</td>\n",
       "      <td>1000</td>\n",
       "      <td>PPO</td>\n",
       "    </tr>\n",
       "  </tbody>\n",
       "</table>\n",
       "<p>49000 rows × 10 columns</p>\n",
       "</div>"
      ],
      "text/plain": [
       "                            dates  prices  actions  total_reward_cash  \\\n",
       "0      2022-12-27 00:00:00.000000   244.3      NaN                0.0   \n",
       "1      2022-12-28 00:00:00.000000   246.7      NaN                0.0   \n",
       "2      2022-12-29 00:00:00.000000   244.5      NaN                0.0   \n",
       "3      2022-12-30 00:00:00.000000   246.3      NaN                0.0   \n",
       "4      2022-12-31 00:00:00.000000   245.8      NaN                0.0   \n",
       "...                           ...     ...      ...                ...   \n",
       "48995  2023-02-09 00:00:00.000000   328.2      0.0               43.8   \n",
       "48996  2023-02-10 00:00:00.000000   306.2      0.0               43.8   \n",
       "48997  2023-02-11 00:00:00.000000   305.8      0.0               43.8   \n",
       "48998  2023-02-12 00:00:00.000000   310.4      0.0               43.8   \n",
       "48999  2023-02-13 00:00:00.000000   312.6      0.0               43.8   \n",
       "\n",
       "       total_profit_percentage  fmt_total_profit_percentage  num_of_trades  \\\n",
       "0                     0.000000                     0.000000            0.0   \n",
       "1                     0.000000                     0.000000            0.0   \n",
       "2                     0.000000                     0.000000            0.0   \n",
       "3                     0.000000                     0.000000            0.0   \n",
       "4                     0.000000                     0.000000            0.0   \n",
       "...                        ...                          ...            ...   \n",
       "48995                 1.180923                    18.092293            7.0   \n",
       "48996                 1.180923                    18.092293            7.0   \n",
       "48997                 1.180923                    18.092293            7.0   \n",
       "48998                 1.180923                    18.092293            7.0   \n",
       "48999                 1.180923                    18.092293            7.0   \n",
       "\n",
       "       sim_id  sim_id model_type  \n",
       "0           1       1        PPO  \n",
       "1           1       1        PPO  \n",
       "2           1       1        PPO  \n",
       "3           1       1        PPO  \n",
       "4           1       1        PPO  \n",
       "...       ...     ...        ...  \n",
       "48995    1000    1000        PPO  \n",
       "48996    1000    1000        PPO  \n",
       "48997    1000    1000        PPO  \n",
       "48998    1000    1000        PPO  \n",
       "48999    1000    1000        PPO  \n",
       "\n",
       "[49000 rows x 10 columns]"
      ]
     },
     "execution_count": 77,
     "metadata": {},
     "output_type": "execute_result"
    }
   ],
   "source": [
    "df_robot_actions_and_env_all_sim_id"
   ]
  },
  {
   "cell_type": "code",
   "execution_count": 54,
   "metadata": {},
   "outputs": [],
   "source": [
    "df_prices = df_robot_actions_and_env_all_sim_id[['dates', 'prices']].drop_duplicates()"
   ]
  },
  {
   "cell_type": "code",
   "execution_count": 55,
   "metadata": {},
   "outputs": [],
   "source": [
    "df_robot_actions_and_env_all_sim_id_PPO = df_robot_actions_and_env_all_sim_id[df_robot_actions_and_env_all_sim_id['model_type'] == 'PPO']\n",
    "\n",
    "df_model_type_action_count_PPO = df_robot_actions_and_env_all_sim_id_PPO.assign(val=1).pivot_table(values='val', index=['dates'], columns=['model_type', 'actions'], aggfunc='count').stack(0).reset_index()\n",
    "df_model_type_action_count_PPO.rename(columns = {0.0:'action_short_count', 1.0:'action_long_count'}, inplace = True)\n",
    "df_model_type_action_count_PPO['actions'] = (df_model_type_action_count_PPO[\"action_long_count\"]>=df_model_type_action_count_PPO[\"action_short_count\"])*1\n",
    "df_model_type_action_count_PPO = df_model_type_action_count_PPO.merge(df_prices, on='dates', how='left')"
   ]
  },
  {
   "cell_type": "code",
   "execution_count": 79,
   "metadata": {},
   "outputs": [],
   "source": [
    "x = calc_reward(df_model_type_action_count_PPO)"
   ]
  },
  {
   "cell_type": "code",
   "execution_count": 80,
   "metadata": {},
   "outputs": [
    {
     "data": {
      "text/html": [
       "<div>\n",
       "<style scoped>\n",
       "    .dataframe tbody tr th:only-of-type {\n",
       "        vertical-align: middle;\n",
       "    }\n",
       "\n",
       "    .dataframe tbody tr th {\n",
       "        vertical-align: top;\n",
       "    }\n",
       "\n",
       "    .dataframe thead th {\n",
       "        text-align: right;\n",
       "    }\n",
       "</style>\n",
       "<table border=\"1\" class=\"dataframe\">\n",
       "  <thead>\n",
       "    <tr style=\"text-align: right;\">\n",
       "      <th></th>\n",
       "      <th>dates</th>\n",
       "      <th>model_type</th>\n",
       "      <th>action_short_count</th>\n",
       "      <th>action_long_count</th>\n",
       "      <th>actions</th>\n",
       "      <th>prices</th>\n",
       "      <th>total_rewards</th>\n",
       "      <th>total_profit_percentage</th>\n",
       "      <th>fmt_total_profit_percentage</th>\n",
       "    </tr>\n",
       "  </thead>\n",
       "  <tbody>\n",
       "    <tr>\n",
       "      <th>0</th>\n",
       "      <td>2023-01-02 00:00:00.000000</td>\n",
       "      <td>PPO</td>\n",
       "      <td>46</td>\n",
       "      <td>954</td>\n",
       "      <td>1</td>\n",
       "      <td>244.4</td>\n",
       "      <td>1.000000</td>\n",
       "      <td>1.000000</td>\n",
       "      <td>0.000000</td>\n",
       "    </tr>\n",
       "    <tr>\n",
       "      <th>1</th>\n",
       "      <td>2023-01-03 00:00:00.000000</td>\n",
       "      <td>PPO</td>\n",
       "      <td>46</td>\n",
       "      <td>954</td>\n",
       "      <td>1</td>\n",
       "      <td>245.2</td>\n",
       "      <td>1.000000</td>\n",
       "      <td>1.000000</td>\n",
       "      <td>0.000000</td>\n",
       "    </tr>\n",
       "    <tr>\n",
       "      <th>2</th>\n",
       "      <td>2023-01-04 00:00:00.000000</td>\n",
       "      <td>PPO</td>\n",
       "      <td>26</td>\n",
       "      <td>974</td>\n",
       "      <td>1</td>\n",
       "      <td>246.1</td>\n",
       "      <td>1.000000</td>\n",
       "      <td>1.000000</td>\n",
       "      <td>0.000000</td>\n",
       "    </tr>\n",
       "    <tr>\n",
       "      <th>3</th>\n",
       "      <td>2023-01-05 00:00:00.000000</td>\n",
       "      <td>PPO</td>\n",
       "      <td>23</td>\n",
       "      <td>977</td>\n",
       "      <td>1</td>\n",
       "      <td>258.9</td>\n",
       "      <td>1.000000</td>\n",
       "      <td>1.000000</td>\n",
       "      <td>0.000000</td>\n",
       "    </tr>\n",
       "    <tr>\n",
       "      <th>4</th>\n",
       "      <td>2023-01-06 00:00:00.000000</td>\n",
       "      <td>PPO</td>\n",
       "      <td>36</td>\n",
       "      <td>964</td>\n",
       "      <td>1</td>\n",
       "      <td>256.7</td>\n",
       "      <td>1.000000</td>\n",
       "      <td>1.000000</td>\n",
       "      <td>0.000000</td>\n",
       "    </tr>\n",
       "    <tr>\n",
       "      <th>5</th>\n",
       "      <td>2023-01-07 00:00:00.000000</td>\n",
       "      <td>PPO</td>\n",
       "      <td>134</td>\n",
       "      <td>866</td>\n",
       "      <td>1</td>\n",
       "      <td>259.9</td>\n",
       "      <td>1.000000</td>\n",
       "      <td>1.000000</td>\n",
       "      <td>0.000000</td>\n",
       "    </tr>\n",
       "    <tr>\n",
       "      <th>6</th>\n",
       "      <td>2023-01-08 00:00:00.000000</td>\n",
       "      <td>PPO</td>\n",
       "      <td>83</td>\n",
       "      <td>917</td>\n",
       "      <td>1</td>\n",
       "      <td>261.3</td>\n",
       "      <td>1.000000</td>\n",
       "      <td>1.000000</td>\n",
       "      <td>0.000000</td>\n",
       "    </tr>\n",
       "    <tr>\n",
       "      <th>7</th>\n",
       "      <td>2023-01-09 00:00:00.000000</td>\n",
       "      <td>PPO</td>\n",
       "      <td>13</td>\n",
       "      <td>987</td>\n",
       "      <td>1</td>\n",
       "      <td>274.9</td>\n",
       "      <td>1.000000</td>\n",
       "      <td>1.000000</td>\n",
       "      <td>0.000000</td>\n",
       "    </tr>\n",
       "    <tr>\n",
       "      <th>8</th>\n",
       "      <td>2023-01-10 00:00:00.000000</td>\n",
       "      <td>PPO</td>\n",
       "      <td>47</td>\n",
       "      <td>953</td>\n",
       "      <td>1</td>\n",
       "      <td>272.6</td>\n",
       "      <td>1.000000</td>\n",
       "      <td>1.000000</td>\n",
       "      <td>0.000000</td>\n",
       "    </tr>\n",
       "    <tr>\n",
       "      <th>9</th>\n",
       "      <td>2023-01-11 00:00:00.000000</td>\n",
       "      <td>PPO</td>\n",
       "      <td>22</td>\n",
       "      <td>978</td>\n",
       "      <td>1</td>\n",
       "      <td>277.1</td>\n",
       "      <td>1.000000</td>\n",
       "      <td>1.000000</td>\n",
       "      <td>0.000000</td>\n",
       "    </tr>\n",
       "    <tr>\n",
       "      <th>10</th>\n",
       "      <td>2023-01-12 00:00:00.000000</td>\n",
       "      <td>PPO</td>\n",
       "      <td>38</td>\n",
       "      <td>962</td>\n",
       "      <td>1</td>\n",
       "      <td>284.8</td>\n",
       "      <td>1.000000</td>\n",
       "      <td>1.000000</td>\n",
       "      <td>0.000000</td>\n",
       "    </tr>\n",
       "    <tr>\n",
       "      <th>11</th>\n",
       "      <td>2023-01-13 00:00:00.000000</td>\n",
       "      <td>PPO</td>\n",
       "      <td>30</td>\n",
       "      <td>970</td>\n",
       "      <td>1</td>\n",
       "      <td>287.7</td>\n",
       "      <td>1.000000</td>\n",
       "      <td>1.000000</td>\n",
       "      <td>0.000000</td>\n",
       "    </tr>\n",
       "    <tr>\n",
       "      <th>12</th>\n",
       "      <td>2023-01-14 00:00:00.000000</td>\n",
       "      <td>PPO</td>\n",
       "      <td>220</td>\n",
       "      <td>780</td>\n",
       "      <td>1</td>\n",
       "      <td>293.7</td>\n",
       "      <td>1.000000</td>\n",
       "      <td>1.000000</td>\n",
       "      <td>0.000000</td>\n",
       "    </tr>\n",
       "    <tr>\n",
       "      <th>13</th>\n",
       "      <td>2023-01-15 00:00:00.000000</td>\n",
       "      <td>PPO</td>\n",
       "      <td>310</td>\n",
       "      <td>690</td>\n",
       "      <td>1</td>\n",
       "      <td>305.1</td>\n",
       "      <td>1.000000</td>\n",
       "      <td>1.000000</td>\n",
       "      <td>0.000000</td>\n",
       "    </tr>\n",
       "    <tr>\n",
       "      <th>14</th>\n",
       "      <td>2023-01-16 00:00:00.000000</td>\n",
       "      <td>PPO</td>\n",
       "      <td>341</td>\n",
       "      <td>659</td>\n",
       "      <td>1</td>\n",
       "      <td>302.2</td>\n",
       "      <td>1.000000</td>\n",
       "      <td>1.000000</td>\n",
       "      <td>0.000000</td>\n",
       "    </tr>\n",
       "    <tr>\n",
       "      <th>15</th>\n",
       "      <td>2023-01-17 00:00:00.000000</td>\n",
       "      <td>PPO</td>\n",
       "      <td>485</td>\n",
       "      <td>515</td>\n",
       "      <td>1</td>\n",
       "      <td>299.0</td>\n",
       "      <td>1.000000</td>\n",
       "      <td>1.000000</td>\n",
       "      <td>0.000000</td>\n",
       "    </tr>\n",
       "    <tr>\n",
       "      <th>16</th>\n",
       "      <td>2023-01-18 00:00:00.000000</td>\n",
       "      <td>PPO</td>\n",
       "      <td>450</td>\n",
       "      <td>550</td>\n",
       "      <td>1</td>\n",
       "      <td>299.4</td>\n",
       "      <td>1.000000</td>\n",
       "      <td>1.000000</td>\n",
       "      <td>0.000000</td>\n",
       "    </tr>\n",
       "    <tr>\n",
       "      <th>17</th>\n",
       "      <td>2023-01-19 00:00:00.000000</td>\n",
       "      <td>PPO</td>\n",
       "      <td>464</td>\n",
       "      <td>536</td>\n",
       "      <td>1</td>\n",
       "      <td>286.7</td>\n",
       "      <td>1.000000</td>\n",
       "      <td>1.000000</td>\n",
       "      <td>0.000000</td>\n",
       "    </tr>\n",
       "    <tr>\n",
       "      <th>18</th>\n",
       "      <td>2023-01-20 00:00:00.000000</td>\n",
       "      <td>PPO</td>\n",
       "      <td>476</td>\n",
       "      <td>524</td>\n",
       "      <td>1</td>\n",
       "      <td>294.6</td>\n",
       "      <td>1.000000</td>\n",
       "      <td>1.000000</td>\n",
       "      <td>0.000000</td>\n",
       "    </tr>\n",
       "    <tr>\n",
       "      <th>19</th>\n",
       "      <td>2023-01-21 00:00:00.000000</td>\n",
       "      <td>PPO</td>\n",
       "      <td>503</td>\n",
       "      <td>497</td>\n",
       "      <td>0</td>\n",
       "      <td>305.1</td>\n",
       "      <td>1.248363</td>\n",
       "      <td>1.248363</td>\n",
       "      <td>24.836334</td>\n",
       "    </tr>\n",
       "    <tr>\n",
       "      <th>20</th>\n",
       "      <td>2023-01-22 00:00:00.000000</td>\n",
       "      <td>PPO</td>\n",
       "      <td>445</td>\n",
       "      <td>555</td>\n",
       "      <td>1</td>\n",
       "      <td>299.0</td>\n",
       "      <td>1.273832</td>\n",
       "      <td>1.273832</td>\n",
       "      <td>27.383162</td>\n",
       "    </tr>\n",
       "    <tr>\n",
       "      <th>21</th>\n",
       "      <td>2023-01-23 00:00:00.000000</td>\n",
       "      <td>PPO</td>\n",
       "      <td>960</td>\n",
       "      <td>40</td>\n",
       "      <td>0</td>\n",
       "      <td>303.0</td>\n",
       "      <td>1.290873</td>\n",
       "      <td>1.290873</td>\n",
       "      <td>29.087285</td>\n",
       "    </tr>\n",
       "    <tr>\n",
       "      <th>22</th>\n",
       "      <td>2023-01-24 00:00:00.000000</td>\n",
       "      <td>PPO</td>\n",
       "      <td>977</td>\n",
       "      <td>23</td>\n",
       "      <td>0</td>\n",
       "      <td>305.1</td>\n",
       "      <td>1.290873</td>\n",
       "      <td>1.290873</td>\n",
       "      <td>29.087285</td>\n",
       "    </tr>\n",
       "    <tr>\n",
       "      <th>23</th>\n",
       "      <td>2023-01-25 00:00:00.000000</td>\n",
       "      <td>PPO</td>\n",
       "      <td>911</td>\n",
       "      <td>89</td>\n",
       "      <td>0</td>\n",
       "      <td>300.3</td>\n",
       "      <td>1.290873</td>\n",
       "      <td>1.290873</td>\n",
       "      <td>29.087285</td>\n",
       "    </tr>\n",
       "    <tr>\n",
       "      <th>24</th>\n",
       "      <td>2023-01-26 00:00:00.000000</td>\n",
       "      <td>PPO</td>\n",
       "      <td>935</td>\n",
       "      <td>65</td>\n",
       "      <td>0</td>\n",
       "      <td>306.9</td>\n",
       "      <td>1.290873</td>\n",
       "      <td>1.290873</td>\n",
       "      <td>29.087285</td>\n",
       "    </tr>\n",
       "    <tr>\n",
       "      <th>25</th>\n",
       "      <td>2023-01-27 00:00:00.000000</td>\n",
       "      <td>PPO</td>\n",
       "      <td>948</td>\n",
       "      <td>52</td>\n",
       "      <td>0</td>\n",
       "      <td>304.7</td>\n",
       "      <td>1.290873</td>\n",
       "      <td>1.290873</td>\n",
       "      <td>29.087285</td>\n",
       "    </tr>\n",
       "    <tr>\n",
       "      <th>26</th>\n",
       "      <td>2023-01-28 00:00:00.000000</td>\n",
       "      <td>PPO</td>\n",
       "      <td>871</td>\n",
       "      <td>129</td>\n",
       "      <td>0</td>\n",
       "      <td>308.0</td>\n",
       "      <td>1.290873</td>\n",
       "      <td>1.290873</td>\n",
       "      <td>29.087285</td>\n",
       "    </tr>\n",
       "    <tr>\n",
       "      <th>27</th>\n",
       "      <td>2023-01-29 00:00:00.000000</td>\n",
       "      <td>PPO</td>\n",
       "      <td>969</td>\n",
       "      <td>31</td>\n",
       "      <td>0</td>\n",
       "      <td>306.1</td>\n",
       "      <td>1.290873</td>\n",
       "      <td>1.290873</td>\n",
       "      <td>29.087285</td>\n",
       "    </tr>\n",
       "    <tr>\n",
       "      <th>28</th>\n",
       "      <td>2023-01-30 00:00:00.000000</td>\n",
       "      <td>PPO</td>\n",
       "      <td>990</td>\n",
       "      <td>10</td>\n",
       "      <td>0</td>\n",
       "      <td>317.2</td>\n",
       "      <td>1.290873</td>\n",
       "      <td>1.290873</td>\n",
       "      <td>29.087285</td>\n",
       "    </tr>\n",
       "    <tr>\n",
       "      <th>29</th>\n",
       "      <td>2023-01-31 00:00:00.000000</td>\n",
       "      <td>PPO</td>\n",
       "      <td>986</td>\n",
       "      <td>14</td>\n",
       "      <td>0</td>\n",
       "      <td>307.2</td>\n",
       "      <td>1.290873</td>\n",
       "      <td>1.290873</td>\n",
       "      <td>29.087285</td>\n",
       "    </tr>\n",
       "    <tr>\n",
       "      <th>30</th>\n",
       "      <td>2023-02-01 00:00:00.000000</td>\n",
       "      <td>PPO</td>\n",
       "      <td>983</td>\n",
       "      <td>17</td>\n",
       "      <td>0</td>\n",
       "      <td>312.0</td>\n",
       "      <td>1.290873</td>\n",
       "      <td>1.290873</td>\n",
       "      <td>29.087285</td>\n",
       "    </tr>\n",
       "    <tr>\n",
       "      <th>31</th>\n",
       "      <td>2023-02-02 00:00:00.000000</td>\n",
       "      <td>PPO</td>\n",
       "      <td>986</td>\n",
       "      <td>14</td>\n",
       "      <td>0</td>\n",
       "      <td>317.0</td>\n",
       "      <td>1.290873</td>\n",
       "      <td>1.290873</td>\n",
       "      <td>29.087285</td>\n",
       "    </tr>\n",
       "    <tr>\n",
       "      <th>32</th>\n",
       "      <td>2023-02-03 00:00:00.000000</td>\n",
       "      <td>PPO</td>\n",
       "      <td>906</td>\n",
       "      <td>94</td>\n",
       "      <td>0</td>\n",
       "      <td>323.5</td>\n",
       "      <td>1.290873</td>\n",
       "      <td>1.290873</td>\n",
       "      <td>29.087285</td>\n",
       "    </tr>\n",
       "    <tr>\n",
       "      <th>33</th>\n",
       "      <td>2023-02-04 00:00:00.000000</td>\n",
       "      <td>PPO</td>\n",
       "      <td>986</td>\n",
       "      <td>14</td>\n",
       "      <td>0</td>\n",
       "      <td>332.2</td>\n",
       "      <td>1.290873</td>\n",
       "      <td>1.290873</td>\n",
       "      <td>29.087285</td>\n",
       "    </tr>\n",
       "    <tr>\n",
       "      <th>34</th>\n",
       "      <td>2023-02-05 00:00:00.000000</td>\n",
       "      <td>PPO</td>\n",
       "      <td>984</td>\n",
       "      <td>16</td>\n",
       "      <td>0</td>\n",
       "      <td>330.4</td>\n",
       "      <td>1.290873</td>\n",
       "      <td>1.290873</td>\n",
       "      <td>29.087285</td>\n",
       "    </tr>\n",
       "    <tr>\n",
       "      <th>35</th>\n",
       "      <td>2023-02-06 00:00:00.000000</td>\n",
       "      <td>PPO</td>\n",
       "      <td>979</td>\n",
       "      <td>21</td>\n",
       "      <td>0</td>\n",
       "      <td>327.8</td>\n",
       "      <td>1.290873</td>\n",
       "      <td>1.290873</td>\n",
       "      <td>29.087285</td>\n",
       "    </tr>\n",
       "    <tr>\n",
       "      <th>36</th>\n",
       "      <td>2023-02-07 00:00:00.000000</td>\n",
       "      <td>PPO</td>\n",
       "      <td>970</td>\n",
       "      <td>30</td>\n",
       "      <td>0</td>\n",
       "      <td>324.3</td>\n",
       "      <td>1.290873</td>\n",
       "      <td>1.290873</td>\n",
       "      <td>29.087285</td>\n",
       "    </tr>\n",
       "    <tr>\n",
       "      <th>37</th>\n",
       "      <td>2023-02-08 00:00:00.000000</td>\n",
       "      <td>PPO</td>\n",
       "      <td>950</td>\n",
       "      <td>50</td>\n",
       "      <td>0</td>\n",
       "      <td>333.0</td>\n",
       "      <td>1.290873</td>\n",
       "      <td>1.290873</td>\n",
       "      <td>29.087285</td>\n",
       "    </tr>\n",
       "    <tr>\n",
       "      <th>38</th>\n",
       "      <td>2023-02-09 00:00:00.000000</td>\n",
       "      <td>PPO</td>\n",
       "      <td>957</td>\n",
       "      <td>43</td>\n",
       "      <td>0</td>\n",
       "      <td>328.2</td>\n",
       "      <td>1.290873</td>\n",
       "      <td>1.290873</td>\n",
       "      <td>29.087285</td>\n",
       "    </tr>\n",
       "    <tr>\n",
       "      <th>39</th>\n",
       "      <td>2023-02-10 00:00:00.000000</td>\n",
       "      <td>PPO</td>\n",
       "      <td>973</td>\n",
       "      <td>27</td>\n",
       "      <td>0</td>\n",
       "      <td>306.2</td>\n",
       "      <td>1.290873</td>\n",
       "      <td>1.290873</td>\n",
       "      <td>29.087285</td>\n",
       "    </tr>\n",
       "    <tr>\n",
       "      <th>40</th>\n",
       "      <td>2023-02-11 00:00:00.000000</td>\n",
       "      <td>PPO</td>\n",
       "      <td>972</td>\n",
       "      <td>28</td>\n",
       "      <td>0</td>\n",
       "      <td>305.8</td>\n",
       "      <td>1.290873</td>\n",
       "      <td>1.290873</td>\n",
       "      <td>29.087285</td>\n",
       "    </tr>\n",
       "    <tr>\n",
       "      <th>41</th>\n",
       "      <td>2023-02-12 00:00:00.000000</td>\n",
       "      <td>PPO</td>\n",
       "      <td>784</td>\n",
       "      <td>216</td>\n",
       "      <td>0</td>\n",
       "      <td>310.4</td>\n",
       "      <td>1.290873</td>\n",
       "      <td>1.290873</td>\n",
       "      <td>29.087285</td>\n",
       "    </tr>\n",
       "    <tr>\n",
       "      <th>42</th>\n",
       "      <td>2023-02-13 00:00:00.000000</td>\n",
       "      <td>PPO</td>\n",
       "      <td>313</td>\n",
       "      <td>687</td>\n",
       "      <td>1</td>\n",
       "      <td>312.6</td>\n",
       "      <td>1.251230</td>\n",
       "      <td>1.251230</td>\n",
       "      <td>25.122992</td>\n",
       "    </tr>\n",
       "  </tbody>\n",
       "</table>\n",
       "</div>"
      ],
      "text/plain": [
       "                         dates model_type  action_short_count  \\\n",
       "0   2023-01-02 00:00:00.000000        PPO                  46   \n",
       "1   2023-01-03 00:00:00.000000        PPO                  46   \n",
       "2   2023-01-04 00:00:00.000000        PPO                  26   \n",
       "3   2023-01-05 00:00:00.000000        PPO                  23   \n",
       "4   2023-01-06 00:00:00.000000        PPO                  36   \n",
       "5   2023-01-07 00:00:00.000000        PPO                 134   \n",
       "6   2023-01-08 00:00:00.000000        PPO                  83   \n",
       "7   2023-01-09 00:00:00.000000        PPO                  13   \n",
       "8   2023-01-10 00:00:00.000000        PPO                  47   \n",
       "9   2023-01-11 00:00:00.000000        PPO                  22   \n",
       "10  2023-01-12 00:00:00.000000        PPO                  38   \n",
       "11  2023-01-13 00:00:00.000000        PPO                  30   \n",
       "12  2023-01-14 00:00:00.000000        PPO                 220   \n",
       "13  2023-01-15 00:00:00.000000        PPO                 310   \n",
       "14  2023-01-16 00:00:00.000000        PPO                 341   \n",
       "15  2023-01-17 00:00:00.000000        PPO                 485   \n",
       "16  2023-01-18 00:00:00.000000        PPO                 450   \n",
       "17  2023-01-19 00:00:00.000000        PPO                 464   \n",
       "18  2023-01-20 00:00:00.000000        PPO                 476   \n",
       "19  2023-01-21 00:00:00.000000        PPO                 503   \n",
       "20  2023-01-22 00:00:00.000000        PPO                 445   \n",
       "21  2023-01-23 00:00:00.000000        PPO                 960   \n",
       "22  2023-01-24 00:00:00.000000        PPO                 977   \n",
       "23  2023-01-25 00:00:00.000000        PPO                 911   \n",
       "24  2023-01-26 00:00:00.000000        PPO                 935   \n",
       "25  2023-01-27 00:00:00.000000        PPO                 948   \n",
       "26  2023-01-28 00:00:00.000000        PPO                 871   \n",
       "27  2023-01-29 00:00:00.000000        PPO                 969   \n",
       "28  2023-01-30 00:00:00.000000        PPO                 990   \n",
       "29  2023-01-31 00:00:00.000000        PPO                 986   \n",
       "30  2023-02-01 00:00:00.000000        PPO                 983   \n",
       "31  2023-02-02 00:00:00.000000        PPO                 986   \n",
       "32  2023-02-03 00:00:00.000000        PPO                 906   \n",
       "33  2023-02-04 00:00:00.000000        PPO                 986   \n",
       "34  2023-02-05 00:00:00.000000        PPO                 984   \n",
       "35  2023-02-06 00:00:00.000000        PPO                 979   \n",
       "36  2023-02-07 00:00:00.000000        PPO                 970   \n",
       "37  2023-02-08 00:00:00.000000        PPO                 950   \n",
       "38  2023-02-09 00:00:00.000000        PPO                 957   \n",
       "39  2023-02-10 00:00:00.000000        PPO                 973   \n",
       "40  2023-02-11 00:00:00.000000        PPO                 972   \n",
       "41  2023-02-12 00:00:00.000000        PPO                 784   \n",
       "42  2023-02-13 00:00:00.000000        PPO                 313   \n",
       "\n",
       "    action_long_count  actions  prices  total_rewards  \\\n",
       "0                 954        1   244.4       1.000000   \n",
       "1                 954        1   245.2       1.000000   \n",
       "2                 974        1   246.1       1.000000   \n",
       "3                 977        1   258.9       1.000000   \n",
       "4                 964        1   256.7       1.000000   \n",
       "5                 866        1   259.9       1.000000   \n",
       "6                 917        1   261.3       1.000000   \n",
       "7                 987        1   274.9       1.000000   \n",
       "8                 953        1   272.6       1.000000   \n",
       "9                 978        1   277.1       1.000000   \n",
       "10                962        1   284.8       1.000000   \n",
       "11                970        1   287.7       1.000000   \n",
       "12                780        1   293.7       1.000000   \n",
       "13                690        1   305.1       1.000000   \n",
       "14                659        1   302.2       1.000000   \n",
       "15                515        1   299.0       1.000000   \n",
       "16                550        1   299.4       1.000000   \n",
       "17                536        1   286.7       1.000000   \n",
       "18                524        1   294.6       1.000000   \n",
       "19                497        0   305.1       1.248363   \n",
       "20                555        1   299.0       1.273832   \n",
       "21                 40        0   303.0       1.290873   \n",
       "22                 23        0   305.1       1.290873   \n",
       "23                 89        0   300.3       1.290873   \n",
       "24                 65        0   306.9       1.290873   \n",
       "25                 52        0   304.7       1.290873   \n",
       "26                129        0   308.0       1.290873   \n",
       "27                 31        0   306.1       1.290873   \n",
       "28                 10        0   317.2       1.290873   \n",
       "29                 14        0   307.2       1.290873   \n",
       "30                 17        0   312.0       1.290873   \n",
       "31                 14        0   317.0       1.290873   \n",
       "32                 94        0   323.5       1.290873   \n",
       "33                 14        0   332.2       1.290873   \n",
       "34                 16        0   330.4       1.290873   \n",
       "35                 21        0   327.8       1.290873   \n",
       "36                 30        0   324.3       1.290873   \n",
       "37                 50        0   333.0       1.290873   \n",
       "38                 43        0   328.2       1.290873   \n",
       "39                 27        0   306.2       1.290873   \n",
       "40                 28        0   305.8       1.290873   \n",
       "41                216        0   310.4       1.290873   \n",
       "42                687        1   312.6       1.251230   \n",
       "\n",
       "    total_profit_percentage  fmt_total_profit_percentage  \n",
       "0                  1.000000                     0.000000  \n",
       "1                  1.000000                     0.000000  \n",
       "2                  1.000000                     0.000000  \n",
       "3                  1.000000                     0.000000  \n",
       "4                  1.000000                     0.000000  \n",
       "5                  1.000000                     0.000000  \n",
       "6                  1.000000                     0.000000  \n",
       "7                  1.000000                     0.000000  \n",
       "8                  1.000000                     0.000000  \n",
       "9                  1.000000                     0.000000  \n",
       "10                 1.000000                     0.000000  \n",
       "11                 1.000000                     0.000000  \n",
       "12                 1.000000                     0.000000  \n",
       "13                 1.000000                     0.000000  \n",
       "14                 1.000000                     0.000000  \n",
       "15                 1.000000                     0.000000  \n",
       "16                 1.000000                     0.000000  \n",
       "17                 1.000000                     0.000000  \n",
       "18                 1.000000                     0.000000  \n",
       "19                 1.248363                    24.836334  \n",
       "20                 1.273832                    27.383162  \n",
       "21                 1.290873                    29.087285  \n",
       "22                 1.290873                    29.087285  \n",
       "23                 1.290873                    29.087285  \n",
       "24                 1.290873                    29.087285  \n",
       "25                 1.290873                    29.087285  \n",
       "26                 1.290873                    29.087285  \n",
       "27                 1.290873                    29.087285  \n",
       "28                 1.290873                    29.087285  \n",
       "29                 1.290873                    29.087285  \n",
       "30                 1.290873                    29.087285  \n",
       "31                 1.290873                    29.087285  \n",
       "32                 1.290873                    29.087285  \n",
       "33                 1.290873                    29.087285  \n",
       "34                 1.290873                    29.087285  \n",
       "35                 1.290873                    29.087285  \n",
       "36                 1.290873                    29.087285  \n",
       "37                 1.290873                    29.087285  \n",
       "38                 1.290873                    29.087285  \n",
       "39                 1.290873                    29.087285  \n",
       "40                 1.290873                    29.087285  \n",
       "41                 1.290873                    29.087285  \n",
       "42                 1.251230                    25.122992  "
      ]
     },
     "execution_count": 80,
     "metadata": {},
     "output_type": "execute_result"
    }
   ],
   "source": [
    "x"
   ]
  },
  {
   "cell_type": "code",
   "execution_count": 43,
   "metadata": {},
   "outputs": [
    {
     "data": {
      "text/html": [
       "<div>\n",
       "<style scoped>\n",
       "    .dataframe tbody tr th:only-of-type {\n",
       "        vertical-align: middle;\n",
       "    }\n",
       "\n",
       "    .dataframe tbody tr th {\n",
       "        vertical-align: top;\n",
       "    }\n",
       "\n",
       "    .dataframe thead th {\n",
       "        text-align: right;\n",
       "    }\n",
       "</style>\n",
       "<table border=\"1\" class=\"dataframe\">\n",
       "  <thead>\n",
       "    <tr style=\"text-align: right;\">\n",
       "      <th></th>\n",
       "      <th>dates</th>\n",
       "      <th>model_type</th>\n",
       "      <th>action_short_count</th>\n",
       "      <th>action_long_count</th>\n",
       "      <th>action</th>\n",
       "      <th>prices</th>\n",
       "    </tr>\n",
       "  </thead>\n",
       "  <tbody>\n",
       "    <tr>\n",
       "      <th>0</th>\n",
       "      <td>2023-01-02 00:00:00.000000</td>\n",
       "      <td>PPO</td>\n",
       "      <td>46</td>\n",
       "      <td>954</td>\n",
       "      <td>1</td>\n",
       "      <td>244.4</td>\n",
       "    </tr>\n",
       "    <tr>\n",
       "      <th>1</th>\n",
       "      <td>2023-01-03 00:00:00.000000</td>\n",
       "      <td>PPO</td>\n",
       "      <td>46</td>\n",
       "      <td>954</td>\n",
       "      <td>1</td>\n",
       "      <td>245.2</td>\n",
       "    </tr>\n",
       "    <tr>\n",
       "      <th>2</th>\n",
       "      <td>2023-01-04 00:00:00.000000</td>\n",
       "      <td>PPO</td>\n",
       "      <td>26</td>\n",
       "      <td>974</td>\n",
       "      <td>1</td>\n",
       "      <td>246.1</td>\n",
       "    </tr>\n",
       "    <tr>\n",
       "      <th>3</th>\n",
       "      <td>2023-01-05 00:00:00.000000</td>\n",
       "      <td>PPO</td>\n",
       "      <td>23</td>\n",
       "      <td>977</td>\n",
       "      <td>1</td>\n",
       "      <td>258.9</td>\n",
       "    </tr>\n",
       "    <tr>\n",
       "      <th>4</th>\n",
       "      <td>2023-01-06 00:00:00.000000</td>\n",
       "      <td>PPO</td>\n",
       "      <td>36</td>\n",
       "      <td>964</td>\n",
       "      <td>1</td>\n",
       "      <td>256.7</td>\n",
       "    </tr>\n",
       "    <tr>\n",
       "      <th>5</th>\n",
       "      <td>2023-01-07 00:00:00.000000</td>\n",
       "      <td>PPO</td>\n",
       "      <td>134</td>\n",
       "      <td>866</td>\n",
       "      <td>1</td>\n",
       "      <td>259.9</td>\n",
       "    </tr>\n",
       "    <tr>\n",
       "      <th>6</th>\n",
       "      <td>2023-01-08 00:00:00.000000</td>\n",
       "      <td>PPO</td>\n",
       "      <td>83</td>\n",
       "      <td>917</td>\n",
       "      <td>1</td>\n",
       "      <td>261.3</td>\n",
       "    </tr>\n",
       "    <tr>\n",
       "      <th>7</th>\n",
       "      <td>2023-01-09 00:00:00.000000</td>\n",
       "      <td>PPO</td>\n",
       "      <td>13</td>\n",
       "      <td>987</td>\n",
       "      <td>1</td>\n",
       "      <td>274.9</td>\n",
       "    </tr>\n",
       "    <tr>\n",
       "      <th>8</th>\n",
       "      <td>2023-01-10 00:00:00.000000</td>\n",
       "      <td>PPO</td>\n",
       "      <td>47</td>\n",
       "      <td>953</td>\n",
       "      <td>1</td>\n",
       "      <td>272.6</td>\n",
       "    </tr>\n",
       "    <tr>\n",
       "      <th>9</th>\n",
       "      <td>2023-01-11 00:00:00.000000</td>\n",
       "      <td>PPO</td>\n",
       "      <td>22</td>\n",
       "      <td>978</td>\n",
       "      <td>1</td>\n",
       "      <td>277.1</td>\n",
       "    </tr>\n",
       "    <tr>\n",
       "      <th>10</th>\n",
       "      <td>2023-01-12 00:00:00.000000</td>\n",
       "      <td>PPO</td>\n",
       "      <td>38</td>\n",
       "      <td>962</td>\n",
       "      <td>1</td>\n",
       "      <td>284.8</td>\n",
       "    </tr>\n",
       "    <tr>\n",
       "      <th>11</th>\n",
       "      <td>2023-01-13 00:00:00.000000</td>\n",
       "      <td>PPO</td>\n",
       "      <td>30</td>\n",
       "      <td>970</td>\n",
       "      <td>1</td>\n",
       "      <td>287.7</td>\n",
       "    </tr>\n",
       "    <tr>\n",
       "      <th>12</th>\n",
       "      <td>2023-01-14 00:00:00.000000</td>\n",
       "      <td>PPO</td>\n",
       "      <td>220</td>\n",
       "      <td>780</td>\n",
       "      <td>1</td>\n",
       "      <td>293.7</td>\n",
       "    </tr>\n",
       "    <tr>\n",
       "      <th>13</th>\n",
       "      <td>2023-01-15 00:00:00.000000</td>\n",
       "      <td>PPO</td>\n",
       "      <td>310</td>\n",
       "      <td>690</td>\n",
       "      <td>1</td>\n",
       "      <td>305.1</td>\n",
       "    </tr>\n",
       "    <tr>\n",
       "      <th>14</th>\n",
       "      <td>2023-01-16 00:00:00.000000</td>\n",
       "      <td>PPO</td>\n",
       "      <td>341</td>\n",
       "      <td>659</td>\n",
       "      <td>1</td>\n",
       "      <td>302.2</td>\n",
       "    </tr>\n",
       "    <tr>\n",
       "      <th>15</th>\n",
       "      <td>2023-01-17 00:00:00.000000</td>\n",
       "      <td>PPO</td>\n",
       "      <td>485</td>\n",
       "      <td>515</td>\n",
       "      <td>1</td>\n",
       "      <td>299.0</td>\n",
       "    </tr>\n",
       "    <tr>\n",
       "      <th>16</th>\n",
       "      <td>2023-01-18 00:00:00.000000</td>\n",
       "      <td>PPO</td>\n",
       "      <td>450</td>\n",
       "      <td>550</td>\n",
       "      <td>1</td>\n",
       "      <td>299.4</td>\n",
       "    </tr>\n",
       "    <tr>\n",
       "      <th>17</th>\n",
       "      <td>2023-01-19 00:00:00.000000</td>\n",
       "      <td>PPO</td>\n",
       "      <td>464</td>\n",
       "      <td>536</td>\n",
       "      <td>1</td>\n",
       "      <td>286.7</td>\n",
       "    </tr>\n",
       "    <tr>\n",
       "      <th>18</th>\n",
       "      <td>2023-01-20 00:00:00.000000</td>\n",
       "      <td>PPO</td>\n",
       "      <td>476</td>\n",
       "      <td>524</td>\n",
       "      <td>1</td>\n",
       "      <td>294.6</td>\n",
       "    </tr>\n",
       "    <tr>\n",
       "      <th>19</th>\n",
       "      <td>2023-01-21 00:00:00.000000</td>\n",
       "      <td>PPO</td>\n",
       "      <td>503</td>\n",
       "      <td>497</td>\n",
       "      <td>0</td>\n",
       "      <td>305.1</td>\n",
       "    </tr>\n",
       "    <tr>\n",
       "      <th>20</th>\n",
       "      <td>2023-01-22 00:00:00.000000</td>\n",
       "      <td>PPO</td>\n",
       "      <td>445</td>\n",
       "      <td>555</td>\n",
       "      <td>1</td>\n",
       "      <td>299.0</td>\n",
       "    </tr>\n",
       "    <tr>\n",
       "      <th>21</th>\n",
       "      <td>2023-01-23 00:00:00.000000</td>\n",
       "      <td>PPO</td>\n",
       "      <td>960</td>\n",
       "      <td>40</td>\n",
       "      <td>0</td>\n",
       "      <td>303.0</td>\n",
       "    </tr>\n",
       "    <tr>\n",
       "      <th>22</th>\n",
       "      <td>2023-01-24 00:00:00.000000</td>\n",
       "      <td>PPO</td>\n",
       "      <td>977</td>\n",
       "      <td>23</td>\n",
       "      <td>0</td>\n",
       "      <td>305.1</td>\n",
       "    </tr>\n",
       "    <tr>\n",
       "      <th>23</th>\n",
       "      <td>2023-01-25 00:00:00.000000</td>\n",
       "      <td>PPO</td>\n",
       "      <td>911</td>\n",
       "      <td>89</td>\n",
       "      <td>0</td>\n",
       "      <td>300.3</td>\n",
       "    </tr>\n",
       "    <tr>\n",
       "      <th>24</th>\n",
       "      <td>2023-01-26 00:00:00.000000</td>\n",
       "      <td>PPO</td>\n",
       "      <td>935</td>\n",
       "      <td>65</td>\n",
       "      <td>0</td>\n",
       "      <td>306.9</td>\n",
       "    </tr>\n",
       "    <tr>\n",
       "      <th>25</th>\n",
       "      <td>2023-01-27 00:00:00.000000</td>\n",
       "      <td>PPO</td>\n",
       "      <td>948</td>\n",
       "      <td>52</td>\n",
       "      <td>0</td>\n",
       "      <td>304.7</td>\n",
       "    </tr>\n",
       "    <tr>\n",
       "      <th>26</th>\n",
       "      <td>2023-01-28 00:00:00.000000</td>\n",
       "      <td>PPO</td>\n",
       "      <td>871</td>\n",
       "      <td>129</td>\n",
       "      <td>0</td>\n",
       "      <td>308.0</td>\n",
       "    </tr>\n",
       "    <tr>\n",
       "      <th>27</th>\n",
       "      <td>2023-01-29 00:00:00.000000</td>\n",
       "      <td>PPO</td>\n",
       "      <td>969</td>\n",
       "      <td>31</td>\n",
       "      <td>0</td>\n",
       "      <td>306.1</td>\n",
       "    </tr>\n",
       "    <tr>\n",
       "      <th>28</th>\n",
       "      <td>2023-01-30 00:00:00.000000</td>\n",
       "      <td>PPO</td>\n",
       "      <td>990</td>\n",
       "      <td>10</td>\n",
       "      <td>0</td>\n",
       "      <td>317.2</td>\n",
       "    </tr>\n",
       "    <tr>\n",
       "      <th>29</th>\n",
       "      <td>2023-01-31 00:00:00.000000</td>\n",
       "      <td>PPO</td>\n",
       "      <td>986</td>\n",
       "      <td>14</td>\n",
       "      <td>0</td>\n",
       "      <td>307.2</td>\n",
       "    </tr>\n",
       "    <tr>\n",
       "      <th>30</th>\n",
       "      <td>2023-02-01 00:00:00.000000</td>\n",
       "      <td>PPO</td>\n",
       "      <td>983</td>\n",
       "      <td>17</td>\n",
       "      <td>0</td>\n",
       "      <td>312.0</td>\n",
       "    </tr>\n",
       "    <tr>\n",
       "      <th>31</th>\n",
       "      <td>2023-02-02 00:00:00.000000</td>\n",
       "      <td>PPO</td>\n",
       "      <td>986</td>\n",
       "      <td>14</td>\n",
       "      <td>0</td>\n",
       "      <td>317.0</td>\n",
       "    </tr>\n",
       "    <tr>\n",
       "      <th>32</th>\n",
       "      <td>2023-02-03 00:00:00.000000</td>\n",
       "      <td>PPO</td>\n",
       "      <td>906</td>\n",
       "      <td>94</td>\n",
       "      <td>0</td>\n",
       "      <td>323.5</td>\n",
       "    </tr>\n",
       "    <tr>\n",
       "      <th>33</th>\n",
       "      <td>2023-02-04 00:00:00.000000</td>\n",
       "      <td>PPO</td>\n",
       "      <td>986</td>\n",
       "      <td>14</td>\n",
       "      <td>0</td>\n",
       "      <td>332.2</td>\n",
       "    </tr>\n",
       "    <tr>\n",
       "      <th>34</th>\n",
       "      <td>2023-02-05 00:00:00.000000</td>\n",
       "      <td>PPO</td>\n",
       "      <td>984</td>\n",
       "      <td>16</td>\n",
       "      <td>0</td>\n",
       "      <td>330.4</td>\n",
       "    </tr>\n",
       "    <tr>\n",
       "      <th>35</th>\n",
       "      <td>2023-02-06 00:00:00.000000</td>\n",
       "      <td>PPO</td>\n",
       "      <td>979</td>\n",
       "      <td>21</td>\n",
       "      <td>0</td>\n",
       "      <td>327.8</td>\n",
       "    </tr>\n",
       "    <tr>\n",
       "      <th>36</th>\n",
       "      <td>2023-02-07 00:00:00.000000</td>\n",
       "      <td>PPO</td>\n",
       "      <td>970</td>\n",
       "      <td>30</td>\n",
       "      <td>0</td>\n",
       "      <td>324.3</td>\n",
       "    </tr>\n",
       "    <tr>\n",
       "      <th>37</th>\n",
       "      <td>2023-02-08 00:00:00.000000</td>\n",
       "      <td>PPO</td>\n",
       "      <td>950</td>\n",
       "      <td>50</td>\n",
       "      <td>0</td>\n",
       "      <td>333.0</td>\n",
       "    </tr>\n",
       "    <tr>\n",
       "      <th>38</th>\n",
       "      <td>2023-02-09 00:00:00.000000</td>\n",
       "      <td>PPO</td>\n",
       "      <td>957</td>\n",
       "      <td>43</td>\n",
       "      <td>0</td>\n",
       "      <td>328.2</td>\n",
       "    </tr>\n",
       "    <tr>\n",
       "      <th>39</th>\n",
       "      <td>2023-02-10 00:00:00.000000</td>\n",
       "      <td>PPO</td>\n",
       "      <td>973</td>\n",
       "      <td>27</td>\n",
       "      <td>0</td>\n",
       "      <td>306.2</td>\n",
       "    </tr>\n",
       "    <tr>\n",
       "      <th>40</th>\n",
       "      <td>2023-02-11 00:00:00.000000</td>\n",
       "      <td>PPO</td>\n",
       "      <td>972</td>\n",
       "      <td>28</td>\n",
       "      <td>0</td>\n",
       "      <td>305.8</td>\n",
       "    </tr>\n",
       "    <tr>\n",
       "      <th>41</th>\n",
       "      <td>2023-02-12 00:00:00.000000</td>\n",
       "      <td>PPO</td>\n",
       "      <td>784</td>\n",
       "      <td>216</td>\n",
       "      <td>0</td>\n",
       "      <td>310.4</td>\n",
       "    </tr>\n",
       "    <tr>\n",
       "      <th>42</th>\n",
       "      <td>2023-02-13 00:00:00.000000</td>\n",
       "      <td>PPO</td>\n",
       "      <td>313</td>\n",
       "      <td>687</td>\n",
       "      <td>1</td>\n",
       "      <td>312.6</td>\n",
       "    </tr>\n",
       "  </tbody>\n",
       "</table>\n",
       "</div>"
      ],
      "text/plain": [
       "                         dates model_type  action_short_count  \\\n",
       "0   2023-01-02 00:00:00.000000        PPO                  46   \n",
       "1   2023-01-03 00:00:00.000000        PPO                  46   \n",
       "2   2023-01-04 00:00:00.000000        PPO                  26   \n",
       "3   2023-01-05 00:00:00.000000        PPO                  23   \n",
       "4   2023-01-06 00:00:00.000000        PPO                  36   \n",
       "5   2023-01-07 00:00:00.000000        PPO                 134   \n",
       "6   2023-01-08 00:00:00.000000        PPO                  83   \n",
       "7   2023-01-09 00:00:00.000000        PPO                  13   \n",
       "8   2023-01-10 00:00:00.000000        PPO                  47   \n",
       "9   2023-01-11 00:00:00.000000        PPO                  22   \n",
       "10  2023-01-12 00:00:00.000000        PPO                  38   \n",
       "11  2023-01-13 00:00:00.000000        PPO                  30   \n",
       "12  2023-01-14 00:00:00.000000        PPO                 220   \n",
       "13  2023-01-15 00:00:00.000000        PPO                 310   \n",
       "14  2023-01-16 00:00:00.000000        PPO                 341   \n",
       "15  2023-01-17 00:00:00.000000        PPO                 485   \n",
       "16  2023-01-18 00:00:00.000000        PPO                 450   \n",
       "17  2023-01-19 00:00:00.000000        PPO                 464   \n",
       "18  2023-01-20 00:00:00.000000        PPO                 476   \n",
       "19  2023-01-21 00:00:00.000000        PPO                 503   \n",
       "20  2023-01-22 00:00:00.000000        PPO                 445   \n",
       "21  2023-01-23 00:00:00.000000        PPO                 960   \n",
       "22  2023-01-24 00:00:00.000000        PPO                 977   \n",
       "23  2023-01-25 00:00:00.000000        PPO                 911   \n",
       "24  2023-01-26 00:00:00.000000        PPO                 935   \n",
       "25  2023-01-27 00:00:00.000000        PPO                 948   \n",
       "26  2023-01-28 00:00:00.000000        PPO                 871   \n",
       "27  2023-01-29 00:00:00.000000        PPO                 969   \n",
       "28  2023-01-30 00:00:00.000000        PPO                 990   \n",
       "29  2023-01-31 00:00:00.000000        PPO                 986   \n",
       "30  2023-02-01 00:00:00.000000        PPO                 983   \n",
       "31  2023-02-02 00:00:00.000000        PPO                 986   \n",
       "32  2023-02-03 00:00:00.000000        PPO                 906   \n",
       "33  2023-02-04 00:00:00.000000        PPO                 986   \n",
       "34  2023-02-05 00:00:00.000000        PPO                 984   \n",
       "35  2023-02-06 00:00:00.000000        PPO                 979   \n",
       "36  2023-02-07 00:00:00.000000        PPO                 970   \n",
       "37  2023-02-08 00:00:00.000000        PPO                 950   \n",
       "38  2023-02-09 00:00:00.000000        PPO                 957   \n",
       "39  2023-02-10 00:00:00.000000        PPO                 973   \n",
       "40  2023-02-11 00:00:00.000000        PPO                 972   \n",
       "41  2023-02-12 00:00:00.000000        PPO                 784   \n",
       "42  2023-02-13 00:00:00.000000        PPO                 313   \n",
       "\n",
       "    action_long_count  action  prices  \n",
       "0                 954       1   244.4  \n",
       "1                 954       1   245.2  \n",
       "2                 974       1   246.1  \n",
       "3                 977       1   258.9  \n",
       "4                 964       1   256.7  \n",
       "5                 866       1   259.9  \n",
       "6                 917       1   261.3  \n",
       "7                 987       1   274.9  \n",
       "8                 953       1   272.6  \n",
       "9                 978       1   277.1  \n",
       "10                962       1   284.8  \n",
       "11                970       1   287.7  \n",
       "12                780       1   293.7  \n",
       "13                690       1   305.1  \n",
       "14                659       1   302.2  \n",
       "15                515       1   299.0  \n",
       "16                550       1   299.4  \n",
       "17                536       1   286.7  \n",
       "18                524       1   294.6  \n",
       "19                497       0   305.1  \n",
       "20                555       1   299.0  \n",
       "21                 40       0   303.0  \n",
       "22                 23       0   305.1  \n",
       "23                 89       0   300.3  \n",
       "24                 65       0   306.9  \n",
       "25                 52       0   304.7  \n",
       "26                129       0   308.0  \n",
       "27                 31       0   306.1  \n",
       "28                 10       0   317.2  \n",
       "29                 14       0   307.2  \n",
       "30                 17       0   312.0  \n",
       "31                 14       0   317.0  \n",
       "32                 94       0   323.5  \n",
       "33                 14       0   332.2  \n",
       "34                 16       0   330.4  \n",
       "35                 21       0   327.8  \n",
       "36                 30       0   324.3  \n",
       "37                 50       0   333.0  \n",
       "38                 43       0   328.2  \n",
       "39                 27       0   306.2  \n",
       "40                 28       0   305.8  \n",
       "41                216       0   310.4  \n",
       "42                687       1   312.6  "
      ]
     },
     "execution_count": 43,
     "metadata": {},
     "output_type": "execute_result"
    }
   ],
   "source": [
    "df_model_type_action_count_PPO"
   ]
  },
  {
   "cell_type": "code",
   "execution_count": null,
   "metadata": {},
   "outputs": [],
   "source": []
  }
 ],
 "metadata": {
  "kernelspec": {
   "display_name": "msc_uol_ai_dissertation",
   "language": "python",
   "name": "python3"
  },
  "language_info": {
   "codemirror_mode": {
    "name": "ipython",
    "version": 3
   },
   "file_extension": ".py",
   "mimetype": "text/x-python",
   "name": "python",
   "nbconvert_exporter": "python",
   "pygments_lexer": "ipython3",
   "version": "3.8.13"
  },
  "orig_nbformat": 4,
  "vscode": {
   "interpreter": {
    "hash": "0c0f2ae3d5d9aa27c4a2afc20f28a2482dc1006477ab22953abc78c31c7bb5b2"
   }
  }
 },
 "nbformat": 4,
 "nbformat_minor": 2
}
