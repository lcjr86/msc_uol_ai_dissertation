{
 "cells": [
  {
   "cell_type": "code",
   "execution_count": 1,
   "metadata": {},
   "outputs": [],
   "source": [
    "import warnings\n",
    "warnings.filterwarnings('ignore')\n",
    "\n",
    "from configparser import ConfigParser\n",
    "\n",
    "from typing import Callable\n",
    "\n",
    "import gym\n",
    "import gym_anytrading\n",
    "\n",
    "from gym_anytrading.envs import CryptoEnvLogINFER\n",
    "\n",
    "from stable_baselines3.common.vec_env import DummyVecEnv, SubprocVecEnv\n",
    "from stable_baselines3 import A2C, PPO, DQN\n",
    "from stable_baselines3.common.evaluation import evaluate_policy\n",
    "from stable_baselines3.common.env_util import make_vec_env\n",
    "from stable_baselines3.common.utils import set_random_seed\n",
    "\n",
    "#from stable_baselines3.dqn.policies import MlpPolicy\n",
    "from stable_baselines3.ppo.policies import MlpPolicy\n",
    "\n",
    "import tensorflow as tf\n",
    "\n",
    "import numpy as np\n",
    "import pandas as pd\n",
    "import plotly.express as px\n",
    "import plotly.graph_objects as go\n",
    "from plotly.subplots import make_subplots\n",
    "import os\n",
    "import datetime\n",
    "\n",
    "import multiprocessing\n",
    "\n",
    "import quantstats as qs\n",
    "\n",
    "import sqlite3\n",
    "from sqlalchemy import create_engine"
   ]
  },
  {
   "cell_type": "code",
   "execution_count": 2,
   "metadata": {},
   "outputs": [
    {
     "name": "stdout",
     "output_type": "stream",
     "text": [
      "['../../simulations/config_files/config_14a_mix_infer_s.ini']\n"
     ]
    }
   ],
   "source": [
    "configur = ConfigParser()\n",
    "config_file_name = \"config_14a_mix_infer_s.ini\"\n",
    "print (configur.read(os.path.join('../../simulations/config_files', config_file_name)))"
   ]
  },
  {
   "cell_type": "code",
   "execution_count": 3,
   "metadata": {},
   "outputs": [],
   "source": [
    "config_file_name_without_extension = config_file_name.replace(\".ini\", \"\")\n",
    "\n",
    "ccy = configur.get('data', 'ccy')\n",
    "\n",
    "data_frequency_train = configur.get('data', 'data_frequency_train')\n",
    "data_frequency_val = configur.get('data', 'data_frequency_val')\n",
    "\n",
    "start_date_train = configur.get('environment', 'start_date')\n",
    "\n",
    "window_size = configur.getint('environment', 'window_size')\n",
    "list_features = configur.get('environment', 'features').split(',')\n",
    "target = configur.get('environment', 'target')"
   ]
  },
  {
   "cell_type": "code",
   "execution_count": 4,
   "metadata": {},
   "outputs": [],
   "source": [
    "# model_name = \"DQN\"\n",
    "# # the saved model does not contain the replay buffer\n",
    "# loaded_model = DQN.load(\"../../simulations/save_models_components/model/model_DQN_\"+ config_file_name_without_extension + \".zip\")\n",
    "# print(f\"The loaded_model has {loaded_model.replay_buffer.size()} transitions in its buffer\")\n",
    "\n",
    "# # load it into the loaded_model\n",
    "# loaded_model.load_replay_buffer(\"../../simulations/save_models_components/replay_buffer/replay_buffer_DQN_\" + config_file_name_without_extension + \".pkl\")\n",
    "\n",
    "# # now the loaded replay is not empty anymore\n",
    "# print(f\"The loaded_model has {loaded_model.replay_buffer.size()} transitions in its buffer\")\n",
    "\n",
    "# saved_policy = MlpPolicy.load(\"../../simulations/save_models_components/policy/policy_DQN_\" + config_file_name_without_extension)"
   ]
  },
  {
   "cell_type": "code",
   "execution_count": 5,
   "metadata": {},
   "outputs": [],
   "source": [
    "model_name = \"PPO\"\n",
    "# the saved model does not contain the replay buffer\n",
    "loaded_model = PPO.load(\"../../simulations/save_models_components/model/model_PPO_\"+ config_file_name_without_extension + \".zip\")\n",
    "\n",
    "saved_policy = MlpPolicy.load(\"../../simulations/save_models_components/policy/policy_PPO_\" + config_file_name_without_extension)"
   ]
  },
  {
   "cell_type": "code",
   "execution_count": 6,
   "metadata": {},
   "outputs": [],
   "source": [
    "mid_date='2023-01-01 00:00:00'\n",
    "end_date='2023-02-15 00:00:00'"
   ]
  },
  {
   "cell_type": "code",
   "execution_count": 7,
   "metadata": {},
   "outputs": [],
   "source": [
    "def get_and_process_data(ccy, data_frequency, start_date, end_date):\n",
    "    try:\n",
    "        \n",
    "        # Get the data\n",
    "        db_address = 'sqlite:///../../data/db/crypto.db'\n",
    "        engine = create_engine(db_address, echo=False)\n",
    "        sqlite_connection = engine.connect()\n",
    "\n",
    "        input_tbl_name = \"tbl_all_features\" + \"_\" + ccy + \"_\" + data_frequency\n",
    "        \n",
    "        sql_command = \"SELECT * FROM \" + input_tbl_name\n",
    "\n",
    "        if(start_date!=\"\" and end_date!=\"\"):\n",
    "            \n",
    "            sd = datetime.datetime.strptime(start_date,'%d %b, %Y').strftime('%Y-%m-%d')\n",
    "            ed = datetime.datetime.strptime(end_date,'%d %b, %Y').strftime('%Y-%m-%d')\n",
    "\n",
    "            sql_append = \" WHERE \" + \"date(date) >= \" + \"'\" + sd + \"'\" + \" AND date(date) <= \" + \"'\" + ed + \"'\"\n",
    "            sql_command = sql_command + sql_append\n",
    "\n",
    "        df = pd.read_sql(sql_command, sqlite_connection)\n",
    "\n",
    "        sqlite_connection.close()\n",
    "\n",
    "        # Converting Date Column to DateTime Type\n",
    "        # Set the index on the dataframe\n",
    "        df['date_index'] = df['date']\n",
    "        df.set_index('date_index', inplace=True)\n",
    "\n",
    "        return df\n",
    "\n",
    "    except Exception as e:\n",
    "        print(e)"
   ]
  },
  {
   "cell_type": "code",
   "execution_count": 8,
   "metadata": {},
   "outputs": [],
   "source": [
    "def standardize_data(df, list_columns):\n",
    "    for col in list_columns:\n",
    "        df[col] = (df[col] - df[col].mean()) / df[col].std()\n",
    "    return df"
   ]
  },
  {
   "cell_type": "code",
   "execution_count": 9,
   "metadata": {},
   "outputs": [],
   "source": [
    "# Format the data\n",
    "start_date_temp = datetime.datetime.strptime(mid_date,'%Y-%m-%d %H:%M:%S')\n",
    "start_date_temp2 = start_date_temp + datetime.timedelta(days=-(window_size+1))\n",
    "start_date_db = start_date_temp2.strftime('%d %b, %Y')\n",
    "end_date_db = datetime.datetime.strptime(end_date,'%Y-%m-%d %H:%M:%S').strftime('%d %b, %Y')"
   ]
  },
  {
   "cell_type": "code",
   "execution_count": 10,
   "metadata": {},
   "outputs": [],
   "source": [
    "df_val = get_and_process_data(ccy, data_frequency_val, start_date_db, end_date_db)\n",
    "df_val = standardize_data(df_val, list_features)"
   ]
  },
  {
   "cell_type": "code",
   "execution_count": 11,
   "metadata": {},
   "outputs": [],
   "source": [
    "mid_date_id_val = int(df_val.index.get_loc(datetime.datetime.strptime(mid_date,'%Y-%m-%d %H:%M:%S').strftime('%Y-%m-%d %H:%M:%S.%f')))\n",
    "end_date_id_val = int(df_val.index.get_loc(datetime.datetime.strptime(end_date,'%Y-%m-%d %H:%M:%S').strftime('%Y-%m-%d %H:%M:%S.%f')))"
   ]
  },
  {
   "cell_type": "code",
   "execution_count": 12,
   "metadata": {},
   "outputs": [],
   "source": [
    "def my_process_data(env):\n",
    "    start = env.frame_bound[0] - env.window_size\n",
    "    end = env.frame_bound[1]\n",
    "    prices = env.df.loc[:, target].to_numpy()[start:end]\n",
    "    signal_features = env.df.loc[:, list_features].to_numpy()[start:end]\n",
    "    dates = env.df.index.to_numpy()[start:end]\n",
    "    return prices, signal_features, dates\n",
    "\n",
    "class MyEnv(CryptoEnvLogINFER):\n",
    "    _process_data = my_process_data"
   ]
  },
  {
   "cell_type": "code",
   "execution_count": 13,
   "metadata": {},
   "outputs": [],
   "source": [
    "env = MyEnv(df=df_val, frame_bound=(mid_date_id_val,end_date_id_val), window_size=window_size)"
   ]
  },
  {
   "cell_type": "code",
   "execution_count": 14,
   "metadata": {},
   "outputs": [],
   "source": [
    "num_of_simulations=1000"
   ]
  },
  {
   "cell_type": "code",
   "execution_count": 15,
   "metadata": {},
   "outputs": [],
   "source": [
    "df_sim_results = pd.DataFrame()\n",
    "df_robot_actions_and_env_final = pd.DataFrame()\n",
    "\n",
    "df_sim_results_temp = pd.DataFrame(columns=['total_reward_cash', 'total_profit_percentage', 'fmt_total_profit_percentage', 'num_of_trades'])\n",
    "df_robot_actions_and_env_temp = pd.DataFrame(columns=['dates', 'prices', 'actions', 'total_reward_cash', 'total_profit_percentage', 'fmt_total_profit_percentage', 'num_of_trades', 'sim_id'])\n",
    "\n",
    "list_sim_id = []\n",
    "\n",
    "sim_id = 1\n",
    "for i in range(num_of_simulations):   \n",
    "\n",
    "    #Setting up the Agent Environment\n",
    "    obs = env.reset()\n",
    "\n",
    "    list_sim_id.append(sim_id)\n",
    "\n",
    "    while True: \n",
    "        obs = obs[np.newaxis, ...]\n",
    "\n",
    "        action, _states = loaded_model.predict(obs)\n",
    "        \n",
    "        obs, rewards, done, info = env.step(action)\n",
    "        \n",
    "        if done:\n",
    "            df_sim_results_temp = df_sim_results_temp.append(info, ignore_index=True, sort=False)\n",
    "            break\n",
    "\n",
    "    # Export robot actions plot and data\n",
    "    fig, df_robot_actions = env.render_all()\n",
    "    # fig.write_html(os.path.join('results', 'plots', 'robot_actions', 'robot_actions_' + config_file_name_without_extension + '_sim_id_' + str(sim_id) + '.html'))\n",
    "\n",
    "    # Export the history of details (the info dict inside of the environment)\n",
    "    df_sim_env_data = pd.DataFrame.from_dict(env.history)\n",
    "\n",
    "    # Merge robot actions data + sim env data\n",
    "    df_sim_env_data_initial = pd.DataFrame(columns=['total_reward_cash', 'total_profit_percentage', 'fmt_total_profit_percentage', 'num_of_trades'])\n",
    "    for i in range(0, window_size + 1):\n",
    "        df_sim_env_data_initial = df_sim_env_data_initial.append(pd.Series([0, 0, 0, 0], index=df_sim_env_data_initial.columns), ignore_index=True)\n",
    "    \n",
    "    df_sim_env_data_temp = df_sim_env_data_initial.append(df_sim_env_data, ignore_index=True)\n",
    "    \n",
    "    df_robot_actions_and_env_temp = pd.merge(df_robot_actions, df_sim_env_data_temp, left_index=True, right_index=True, how = \"outer\")\n",
    "    df_robot_actions_and_env_temp['sim_id'] = sim_id\n",
    "\n",
    "    df_robot_actions_and_env_final = pd.concat([df_robot_actions_and_env_final, df_robot_actions_and_env_temp], axis=0)\n",
    "\n",
    "    sim_id = sim_id + 1\n",
    "\n",
    "df_sim_results_temp['sim_id'] = list_sim_id\n",
    "df_sim_results_temp['ccy'] = ccy\n",
    "df_sim_results_temp['data_frequency_train'] = data_frequency_train\n",
    "df_sim_results_temp['data_frequency_val'] = data_frequency_val\n",
    "df_sim_results_temp['window_size'] = window_size\n",
    "df_sim_results_temp['start_date'] = start_date_train\n",
    "df_sim_results_temp['mid_date'] = mid_date\n",
    "df_sim_results_temp['end_date'] = end_date\n",
    "df_sim_results_temp['target'] = target\n",
    "df_sim_results_temp['list_features'] = str(list_features)\n",
    "df_sim_results_temp['model_type'] = model_name \n",
    "df_sim_results_temp['num_of_simulations'] = num_of_simulations   \n",
    "\n",
    "df_sim_results = pd.concat([df_sim_results, df_sim_results_temp], axis=0)"
   ]
  },
  {
   "cell_type": "code",
   "execution_count": 16,
   "metadata": {},
   "outputs": [],
   "source": [
    "df_sim_results = df_sim_results.reset_index(drop=True)\n",
    "df_sim_results = df_sim_results.drop_duplicates()\n",
    "\n",
    "## SIMULATION RESULTS\n",
    "\n",
    "# Format data type\n",
    "df_sim_results['start_date'] = pd.to_datetime(df_sim_results['start_date'])\n",
    "df_sim_results['mid_date'] = pd.to_datetime(df_sim_results['mid_date'])\n",
    "df_sim_results['end_date'] = pd.to_datetime(df_sim_results['end_date'])\n",
    "\n",
    "# Write to the db\n",
    "db_address = 'sqlite:///../results/data/db/trader.db'\n",
    "engine = create_engine(db_address, echo=False)\n",
    "sqlite_connection = engine.connect()\n",
    "\n",
    "output_tbl_name = \"tbl_trader_bernardo_simulation_results_\" + config_file_name_without_extension\n",
    "\n",
    "df_sim_results.to_sql(output_tbl_name, sqlite_connection, if_exists='replace', index=False)\n",
    "\n",
    "sqlite_connection.close()\n",
    "\n",
    "## ROBOT ACTIONS and ENV RESULTS\n",
    "\n",
    "# Format data type\n",
    "df_robot_actions_and_env_final['dates'] = pd.to_datetime(df_robot_actions_and_env_final['dates'])\n",
    "df_robot_actions_and_env_final['total_reward_cash'] = df_robot_actions_and_env_final['total_reward_cash'].astype(float)\n",
    "df_robot_actions_and_env_final['total_profit_percentage'] = df_robot_actions_and_env_final['total_profit_percentage'].astype(float)\n",
    "df_robot_actions_and_env_final['fmt_total_profit_percentage'] = df_robot_actions_and_env_final['fmt_total_profit_percentage'].astype(float)\n",
    "df_robot_actions_and_env_final['num_of_trades'] = df_robot_actions_and_env_final['num_of_trades'].astype(float)\n",
    "\n",
    "# Write to the db\n",
    "db_address = 'sqlite:///../results/data/db/trader.db'\n",
    "engine = create_engine(db_address, echo=False)\n",
    "sqlite_connection = engine.connect()\n",
    "\n",
    "output_tbl_name = \"tbl_trader_bernardo_robot_actions_and_env_\" + config_file_name_without_extension\n",
    "\n",
    "df_robot_actions_and_env_final.to_sql(output_tbl_name, sqlite_connection, if_exists='replace', index=False)\n",
    "\n",
    "sqlite_connection.close()"
   ]
  },
  {
   "attachments": {},
   "cell_type": "markdown",
   "metadata": {},
   "source": [
    "## Get Data"
   ]
  },
  {
   "cell_type": "code",
   "execution_count": 17,
   "metadata": {},
   "outputs": [],
   "source": [
    "def get_and_process_trader_data(config_file_name_without_extension):\n",
    "    try:\n",
    "        \n",
    "        # Get the data\n",
    "        db_address = 'sqlite:///../results/data/db/trader.db'\n",
    "        engine = create_engine(db_address, echo=False)\n",
    "        sqlite_connection = engine.connect()\n",
    "\n",
    "        input_tbl_name = \"tbl_trader_bernardo_simulation_results\" + \"_\" + config_file_name_without_extension\n",
    "        \n",
    "        sql_command = \"SELECT * FROM \" + input_tbl_name\n",
    "\n",
    "        df = pd.read_sql(sql_command, sqlite_connection)\n",
    "\n",
    "        sqlite_connection.close()\n",
    "\n",
    "        return df\n",
    "\n",
    "    except Exception as e:\n",
    "        print(e)"
   ]
  },
  {
   "cell_type": "code",
   "execution_count": 18,
   "metadata": {},
   "outputs": [],
   "source": [
    "df_trader_results = get_and_process_trader_data(config_file_name_without_extension)"
   ]
  },
  {
   "cell_type": "code",
   "execution_count": 19,
   "metadata": {},
   "outputs": [
    {
     "data": {
      "application/vnd.plotly.v1+json": {
       "config": {
        "plotlyServerURL": "https://plot.ly"
       },
       "data": [
        {
         "alignmentgroup": "True",
         "boxpoints": "all",
         "hovertemplate": "model_type=PPO<br>fmt_total_profit_percentage=%{y}<extra></extra>",
         "legendgroup": "PPO",
         "marker": {
          "color": "#FF7F0E"
         },
         "name": "PPO",
         "notched": false,
         "offsetgroup": "PPO",
         "orientation": "v",
         "showlegend": true,
         "type": "box",
         "x0": " ",
         "xaxis": "x",
         "y": [
          18.874573610724667,
          10.239722453184674,
          -0.3043713454052077,
          21.678703723058092,
          10.43918685208174,
          4.2419613877220375,
          9.906725781163562,
          11.160594568326765,
          21.568597504840923,
          6.982307780270158,
          5.777478106802647,
          31.281350673980903,
          5.162876853578635,
          26.836796172314692,
          -7.042196368012443,
          26.486520409558434,
          15.665375388128421,
          9.06422863495624,
          19.44785477141917,
          -0.8402773988000933,
          6.4309034131476706,
          8.871117456705079,
          1.6941181503396185,
          13.693439528939289,
          10.885038032986794,
          12.858982521547224,
          20.059806436414096,
          24.066278205697532,
          5.216217812561941,
          21.466033537218454,
          39.916997410278434,
          7.148543281657704,
          20.78432701662272,
          20.751540533668056,
          12.876915858232096,
          48.34311580335759,
          4.4306298152337,
          3.7794219822214314,
          4.184393074060799,
          7.8086303009864855,
          -10.162674808124695,
          16.766408214869987,
          5.030345191167762,
          12.670419906572183,
          3.3499661257187396,
          9.449161328723864,
          -8.063710339947228,
          14.332066713669999,
          5.879769747309327,
          16.41365193089699,
          26.88545492945311,
          13.51396924317909,
          27.51354571538538,
          28.79512903160366,
          12.211221533345062,
          18.164382636401943,
          17.78613400841944,
          34.07854387634644,
          28.35297728115489,
          7.649608706273847,
          17.869790460496482,
          -2.013298790972895,
          16.760387070928505,
          17.153007450743175,
          7.810383512339336,
          -0.5504011874828407,
          22.869199243210957,
          26.4104415466597,
          4.416429726591109,
          3.944488897176379,
          17.695543491063038,
          3.054893041188933,
          3.8201461889551203,
          -11.408904218555882,
          -1.3346156477716975,
          20.38290261750706,
          12.592043995284463,
          21.06605362547529,
          42.15583961610094,
          29.1797439709244,
          29.267180876903474,
          10.475930305437764,
          17.862467169497577,
          21.154902233616223,
          12.121747541888016,
          13.716583941707917,
          32.120417517180286,
          33.328063882531936,
          8.726349529558775,
          13.21485548774255,
          26.197937490395983,
          -9.53341322517639,
          11.478162654339542,
          -16.59322914730922,
          25.638294939411477,
          2.112283155895267,
          20.069832305946367,
          28.46553057906034,
          11.245070482578633,
          29.078716138946035,
          18.197564391944642,
          7.713142338756307,
          23.066573869297535,
          29.46278826359119,
          17.609703098644914,
          18.48025807139646,
          29.504621106135343,
          16.115324547115172,
          1.679982561887594,
          -1.4947768918963544,
          8.604471765450782,
          9.006825193238255,
          25.194244960209456,
          16.80788712293415,
          -4.966513599358036,
          0.8477083339160307,
          31.7525653295313,
          11.688797019579056,
          27.78806027347851,
          -8.283189699642001,
          16.036505165334102,
          4.47888466465769,
          5.437281109940506,
          31.26358388799526,
          6.884966895434896,
          13.699333422750737,
          35.08478446875331,
          40.40108252677052,
          21.331749494643848,
          19.860126311029692,
          -6.756248887533445,
          23.80291695590584,
          40.223733056261565,
          18.08751117915117,
          5.771073131710969,
          -2.3371152097838133,
          12.426738662949099,
          8.158722154335884,
          8.651704219766088,
          -5.5312927490567265,
          19.211366933132258,
          19.405196519877265,
          11.56508731895418,
          7.106685568260773,
          21.692694977377247,
          6.770108102137651,
          30.517648111610352,
          16.25243670409111,
          -3.3713442384188275,
          15.061908682554126,
          25.677460857301405,
          -18.161484022559936,
          26.27012452883728,
          14.171846083105821,
          29.55457856532453,
          1.8956646583289993,
          35.39866735151449,
          6.812402875581713,
          11.519341040662656,
          17.012521981731044,
          30.648447509709563,
          8.527430895978473,
          1.1809075128478064,
          17.41181494185664,
          25.860063414254842,
          -5.524636782256476,
          17.55512010866578,
          13.409152522178092,
          34.12992459945525,
          -1.5580348304333635,
          11.992198353962147,
          9.43062854179133,
          -11.530742388267257,
          9.53791769520973,
          -6.462087012352857,
          34.02731471468938,
          10.921371262658376,
          0.37762877956444285,
          7.731792233307222,
          10.380457503142626,
          4.9255134018791225,
          6.598016513366312,
          5.697046362573532,
          24.72492566236213,
          17.03425461036483,
          8.851049085370754,
          13.681587550508967,
          16.090304041139426,
          25.096089700340652,
          6.96458874425514,
          18.159745533389614,
          22.256896345189304,
          31.23000889976384,
          17.285461255980785,
          0.5670356785470121,
          15.99320651533751,
          5.782707363104178,
          16.439673644262598,
          0.9511289333450801,
          23.73413902393018,
          -8.15114586227763,
          11.885921608442684,
          22.616767638071302,
          1.8159346159412282,
          17.759143351131733,
          -1.9554470749161612,
          22.054168405672602,
          26.35955673766215,
          7.473088782151871,
          -2.1274552535717195,
          10.186151362032025,
          11.74451320329377,
          17.307692307692292,
          5.121043255234969,
          23.98825990292286,
          18.661777846423846,
          -0.8289194933762678,
          9.464775577770101,
          16.34215747510175,
          5.16901160771428,
          23.446117854442218,
          -15.015525980371025,
          21.343159958993873,
          29.23353600898009,
          25.32662453872685,
          0.6880219992743131,
          40.99871222843454,
          9.33978957619539,
          18.111622422237783,
          3.7404587246048226,
          -16.497126448374978,
          16.14550007781832,
          15.784950339025139,
          13.68239665189277,
          6.670624298690564,
          16.27036687745642,
          20.306988560040473,
          15.907827083229709,
          26.85522481635243,
          6.388776816334785,
          4.879722693566979,
          -2.9795588429112785,
          -0.9014951841369467,
          18.59880562373175,
          25.00428671792161,
          23.171402577157906,
          21.02838590408669,
          12.961076077554212,
          11.210863935717509,
          4.866943950647307,
          32.876906477709134,
          -4.1728722235159,
          24.909028888050244,
          -1.3240977486343009,
          20.868529994685915,
          18.516146343772498,
          12.925759008525972,
          5.546006854390395,
          4.070766672100001,
          14.686160253683589,
          20.439214767401403,
          20.3854443944371,
          4.541741470623473,
          8.632009965798805,
          7.659673139118395,
          15.392463487036402,
          10.913584273522382,
          16.241629044944418,
          5.096027962467753,
          29.55393364452188,
          48.38958434694756,
          14.560579111361172,
          16.30655461943693,
          41.190988616894344,
          7.532414365236373,
          11.74332664973312,
          7.557175478450318,
          8.301496390155405,
          15.852084402991352,
          13.753199940822336,
          -1.232647652586527,
          15.02590181893353,
          32.08979123697318,
          8.453142592261464,
          15.972673717881069,
          2.8547499356853523,
          19.18743354699659,
          31.19754653191329,
          22.150135294795792,
          8.438137699759963,
          16.816120628441556,
          3.716407729398563,
          -8.15779749011628,
          7.296054075248448,
          17.99489020389482,
          17.251833578010412,
          15.685091970526233,
          11.39199977469274,
          12.552644703943216,
          24.110081707586506,
          7.751663403240672,
          31.232897993819563,
          -1.3359399961838658,
          4.416429726591109,
          4.393151694338782,
          11.717757296568632,
          1.1284613355908135,
          16.451260994935456,
          8.923239924602267,
          -4.639922199562929,
          10.25095306378998,
          20.117089375387053,
          5.941086316606681,
          -10.942765521503016,
          4.938737888926914,
          16.23643710423417,
          1.4606448730676513,
          25.42348278991591,
          27.25594799470674,
          25.176134065883193,
          20.76167570683969,
          20.624066717781652,
          22.529939989911508,
          19.62086631646287,
          0.7159508981775975,
          3.6393947874262533,
          3.9568817553763624,
          26.803724569444974,
          3.237395941911725,
          26.722119526039535,
          -0.34096990424443696,
          32.56125123484783,
          21.88572476280781,
          25.181348155480233,
          -6.76294314068997,
          4.712014907759565,
          17.867718729509118,
          9.2858662254109,
          -0.36855871599346113,
          18.199628300821736,
          8.305726040409933,
          3.1901597016395833,
          12.410628874472284,
          6.388776816334785,
          14.35667439774555,
          17.93522770354472,
          22.11498094754667,
          20.042136951883837,
          6.950520894604306,
          18.726831367358997,
          19.0627075518357,
          15.862517474562331,
          14.726681227769834,
          14.206394470293304,
          3.6508315935361413,
          25.508627268327146,
          31.79272744201913,
          7.345353388394016,
          2.11914636887085,
          11.433180613978976,
          4.10417390829243,
          11.444946738419981,
          29.0389209817711,
          -10.927722734809088,
          7.507578220211464,
          9.095262726228137,
          25.02122888847802,
          11.242955263581344,
          17.82503699014246,
          18.78755732465569,
          18.9207672795725,
          -5.2558636558391765,
          26.792848256963907,
          8.362985863838723,
          24.501948199930546,
          21.68997211273482,
          6.862432479337244,
          26.02214819199451,
          33.062897914735245,
          11.75871453689048,
          18.23087588180541,
          -5.209463659405422,
          6.340867399584593,
          21.026417741714297,
          24.306180314047076,
          -3.161367646505131,
          -0.9345710669423246,
          14.884188057918447,
          6.287454430412898,
          16.531866690272135,
          -3.2127154543269865,
          19.55954318851758,
          -0.9398610850310352,
          6.543878180856799,
          41.9492943009226,
          9.63864596502293,
          23.0589181230483,
          19.220586004291306,
          21.14319219239713,
          11.78135464319039,
          7.480389001659615,
          15.48864816309865,
          0.2860028066421938,
          16.27734842598434,
          -7.138276191955606,
          12.723028607862453,
          13.759678076682501,
          18.385765095409635,
          20.492063538495774,
          0.44679254753139386,
          32.40602095749707,
          23.14408283685998,
          4.40760811081542,
          26.157908755079127,
          28.46553057906034,
          9.124601695271007,
          2.2973239052022976,
          15.358431428730611,
          1.3858817017457392,
          14.402183375173184,
          29.965870284692066,
          11.392242134460817,
          19.822773297741957,
          12.623830273307068,
          18.185937866938207,
          18.502882704139555,
          27.902874122445652,
          3.053169380045695,
          7.848536259450589,
          14.633451218115855,
          26.39624199575561,
          22.65268627507617,
          19.45591581582715,
          16.747703516086876,
          4.949687307837691,
          -0.44046130755740487,
          16.630679356761526,
          5.46504388174025,
          -0.8939708064428453,
          8.080733164977104,
          23.379946130450445,
          5.977831696566538,
          11.827537440399926,
          11.8109153116295,
          26.683062721790442,
          6.872719994493148,
          4.9534564626932065,
          27.17370031622015,
          3.7404587246048226,
          8.714112583676826,
          1.1063916972070098,
          28.685043096724662,
          6.315944107052518,
          28.246327393731296,
          19.956490037679742,
          15.023647620217929,
          31.23000889976384,
          -4.936888287052154,
          -5.236185556056427,
          27.301223577444024,
          -13.631313869859484,
          23.88215652639094,
          14.339383212168677,
          -9.209638007787602,
          19.301816516987415,
          2.8206579569488577,
          8.991917172674913,
          18.160527219488422,
          27.65003244260256,
          11.846285380108746,
          22.866513729818337,
          -5.699212735339964,
          18.695581827740114,
          12.499790062968819,
          -2.3982112933136235,
          19.105291361324504,
          7.441721192564876,
          -4.042809599113251,
          0.5181091820571249,
          18.978648718308342,
          17.846928359335212,
          9.275284033504661,
          15.670694807817487,
          20.02308322761721,
          18.34588222557354,
          2.5348801433599855,
          24.710908305314263,
          4.137701778187086,
          1.7485512515842183,
          -4.729214289247674,
          11.998927387609392,
          22.662472671762757,
          15.584408326510001,
          -2.103809675381918,
          11.352567305516148,
          7.607061775229895,
          7.222538431412651,
          20.554730989111604,
          10.838176027493462,
          13.70610516357158,
          -7.63405539625166,
          20.36353476511634,
          4.257374721853213,
          21.117145718482377,
          28.577656563369615,
          13.179484464539337,
          27.72827436171501,
          9.610310384097453,
          15.922359522806628,
          21.624432489682356,
          1.0394138739289183,
          1.2136268253062799,
          27.161913392205328,
          1.5505347141530512,
          5.55727623001141,
          18.23087588180541,
          16.534589254170662,
          21.336188228560403,
          7.110509925610375,
          7.148543281657704,
          21.19969234931318,
          11.154041840719442,
          1.9652677129555318,
          9.011444243823119,
          4.750690485426934,
          28.011806481299818,
          20.810527595886462,
          9.835643768490488,
          0.5301739636209835,
          16.439673644262598,
          23.92961645994731,
          26.159886316789848,
          9.87332678588173,
          17.27919094068455,
          22.579479511240265,
          16.128753426143348,
          8.106146499740241,
          8.987958183839906,
          -1.844470749473237,
          12.955999054298829,
          2.9850121863899126,
          17.805970771769154,
          -4.656413964573836,
          14.513135844307467,
          -0.2761957064873699,
          16.163170405991778,
          17.020826049042604,
          9.331797301675259,
          8.987951626362767,
          8.346125622652846,
          1.8034005626255345,
          8.2267480799185,
          27.850130162952368,
          -10.320081989441176,
          11.154041840719465,
          11.826592744358777,
          13.432187264636353,
          21.431789568569258,
          15.387806403529414,
          3.898162379577852,
          -2.8905422715585494,
          22.20998399687948,
          4.368403960739764,
          14.444722578137249,
          -1.2977508719975162,
          12.533082349231183,
          25.04110992350912,
          11.235872821737235,
          -7.399921926219677,
          27.703351399150588,
          14.885416933845352,
          20.025767429864484,
          40.979650150107446,
          29.51401943402803,
          16.209591242760425,
          8.453142592261486,
          30.032064051832585,
          31.513032947031405,
          12.422695692642272,
          16.61537811823315,
          -1.8559910302019866,
          10.751553518080836,
          33.41915718750479,
          29.663275510152953,
          17.22829927139231,
          45.225705294516175,
          -9.853693335163971,
          16.912252092160983,
          24.727933672314517,
          13.889453053133938,
          26.24274466129448,
          13.815168978146652,
          12.442667136879248,
          12.6396745221246,
          24.83118423775139,
          35.475457193146354,
          20.142837033699678,
          14.660092257919,
          5.7521318186815495,
          0.7950281144072591,
          -16.060828719187203,
          21.09348091658898,
          17.32723676853056,
          7.461818249983887,
          20.78052679183049,
          -7.154036869810421,
          6.8201514741808245,
          14.726681227769834,
          11.61543610229372,
          5.953394546388258,
          9.829619379247712,
          16.08807873249902,
          17.798133405518037,
          0.42364065260980244,
          10.150533327125633,
          26.681522282844284,
          4.990154774382871,
          -15.28674136848025,
          27.243762198909117,
          9.011444243823119,
          16.53212006432838,
          25.680547696948985,
          14.06464586845486,
          14.931193217989303,
          26.374055852557767,
          17.798133405518037,
          0.8140110299722503,
          43.3481120293401,
          -1.0969025242076103,
          3.9615899192044557,
          9.518119449550277,
          10.634240621728264,
          13.636365224770564,
          -3.9960377721295126,
          17.808221979773787,
          -10.403730394776822,
          -0.2155007581787327,
          15.671369300504479,
          9.352600752037986,
          6.256601843008069,
          7.661755115425928,
          17.57404151868358,
          33.062897914735245,
          15.263005250684735,
          6.298887344228521,
          28.422586136633644,
          35.18333980570259,
          22.013748973997018,
          2.715162968162832,
          18.055517545481827,
          14.278339737055322,
          28.46553057906034,
          26.903992625025985,
          -10.752978653092748,
          13.279618414527384,
          10.198475162753674,
          -0.46177496761710124,
          -5.162010794122118,
          26.984053335280777,
          8.029103285041717,
          -1.2773981900796816,
          17.914183533696914,
          14.051316257909384,
          19.104994241016946,
          -4.929013296816409,
          16.61900334486013,
          14.363545087874364,
          -0.2886452120644978,
          -5.436026815340855,
          7.994719157897934,
          7.197752369740518,
          0.48832938433767126,
          -2.0305145510826628,
          11.830158618579944,
          26.14711789242321,
          12.421402699675133,
          22.830778147996234,
          37.4389104775191,
          0.6720487907217576,
          8.727964658749743,
          10.654172132038852,
          -1.7210179401805248,
          13.804487032162061,
          17.505116273578935,
          8.70027858585598,
          38.113514419188355,
          23.074004577571117,
          33.29290359106323,
          6.278640849375416,
          8.450774956523066,
          0.5133916142490369,
          26.32800967900948,
          12.800994185399993,
          11.866782747846006,
          18.77011122645429,
          -5.095503010341251,
          11.264756874438465,
          4.799134071331723,
          17.677699751028484,
          14.710346336325753,
          23.057431059397437,
          1.477579547951513,
          -12.667597189431135,
          7.607061775229895,
          25.16706096960459,
          19.441951005284718,
          16.177331638952918,
          1.1894865899123586,
          16.03656171169112,
          22.2055188636862,
          14.708480917848089,
          22.689035017323643,
          18.34121869862575,
          34.2144203662452,
          20.20308218196407,
          13.455544434976918,
          22.47735427127693,
          10.890134856744304,
          9.961127549950067,
          26.753260357542217,
          7.882963148250544,
          24.106133294337706,
          0.43453094353058663,
          4.9255134018791225,
          24.55264468181102,
          3.543889558298763,
          40.40108252677052,
          4.3286319280366525,
          20.215829190024003,
          16.44512589011251,
          14.402183375173184,
          21.718549655208875,
          35.460769411341644,
          29.179591895021552,
          11.358902668877825,
          17.48358579312619,
          -2.6014960292586653,
          18.376544246430115,
          13.152155600064708,
          14.205869885547195,
          -2.996738555736056,
          8.722390519107037,
          17.972901988742727,
          13.366284146931061,
          30.80008147659894,
          3.2723022258942303,
          19.77301954537851,
          -4.538182822371761,
          -2.170024332204057,
          4.8373501075273495,
          27.223127482930167,
          0.8748955892499799,
          8.97686518275047,
          18.23087588180541,
          5.37735239345527,
          29.72828818144717,
          16.22804503183901,
          -7.72642514836045,
          16.05634867237198,
          10.549131729111494,
          14.098873197428595,
          10.256113328800387,
          1.532959233528075,
          -4.820430280544851,
          1.9078329671304184,
          28.72122505541639,
          8.781895525822915,
          1.2721882251927275,
          0.9292017710343714,
          -1.3303832119233694,
          5.7667457923761045,
          21.916343055158947,
          12.821293507942322,
          24.554291143197094,
          -1.7509516494264576,
          10.474255746607453,
          4.106513738619255,
          11.844451239547716,
          13.534304504933514,
          4.747615854780873,
          4.01821083252667,
          18.957432728441614,
          27.04302029206587,
          9.526229682500142,
          23.398828870116816,
          24.744291159656328,
          21.668041098665512,
          15.949720727052696,
          13.134840827173866,
          -1.127793908093,
          15.152251937810156,
          14.591201273130295,
          -2.8580738027441543,
          7.602591405705117,
          14.870614847299034,
          15.316609638590272,
          26.984053335280777,
          5.412221100386594,
          3.658486177776288,
          -1.5398059754024085,
          9.576527580808204,
          36.74475278133793,
          11.973502552238081,
          -2.1218763289492015,
          -2.8991373305255586,
          13.368777766401841,
          27.436497102667957,
          5.754923502643283,
          33.41032997344755,
          18.0328983844285,
          7.507475712437972,
          21.459986171898926,
          2.650562159888814,
          30.674827779126602,
          15.39612937627548,
          6.786679631414327,
          0.5345775288713162,
          41.79649236578595,
          12.832745258833956,
          41.870982984396775,
          7.152228500832569,
          13.46566824619404,
          19.38797986289995,
          6.078718891470691,
          3.105761087490899,
          27.45033889675512,
          5.1189618811444015,
          18.85300821277125,
          21.026417741714297,
          31.254058601025214,
          16.068923010101564,
          19.926361566618912,
          19.74530462291306,
          15.671072740466997,
          4.638100828218739,
          -1.7118528058546412,
          11.267183346896715,
          0.5301739636210057,
          15.021834861669149,
          18.01065859369073,
          39.07073679635105,
          22.401580017587207,
          -3.5946332238002365,
          13.592669617970877,
          16.19949004275223,
          22.26907680363155,
          27.820425556265647,
          34.87654823256783,
          0.7054512202206542,
          14.682440987724998,
          10.471151037330074,
          6.6375443791476085,
          6.175535515537667,
          46.18825932705217,
          9.827259562225343,
          6.860042655988896,
          16.957045171252826,
          -0.23406668478063164,
          14.900359482697878,
          15.412551700124855,
          13.585342499776075,
          -2.3487916170577883,
          15.819756472004375,
          5.972872725709344,
          15.924952016263472,
          -16.00833658598717,
          4.6862463637350915,
          27.809085704685167,
          8.058851830652447,
          6.066361386131702,
          45.50952218640833,
          -5.3162263811924575,
          8.126231922217242,
          31.44038780170959,
          -5.428468431907973,
          15.260818195811797,
          -8.156492743455656,
          22.479569984465762,
          -5.8435810217932875,
          -0.3663305534484018,
          2.127729416922697,
          -3.872883026242968,
          18.100718647747406,
          9.102140481983367,
          35.629851720281614,
          15.569414625866806,
          24.992618806680667,
          10.477172905725629,
          15.721554377666935,
          26.58982515744197,
          0.4494720134585739,
          14.708480917848089,
          7.960748091285108,
          10.47423608325808,
          -0.30246947813795666,
          5.822474559678037,
          6.256601843008069,
          20.711409987461437,
          6.872200102763726,
          28.46553057906034,
          10.819581360894027,
          8.768782438097777,
          28.422142525335616,
          -0.051562378937375364,
          3.1435646492748326,
          28.35257368564421,
          30.354335230438224,
          14.943302518170176,
          15.673248509621951,
          13.217658312346181,
          13.786724747840594,
          23.084534305630065,
          9.87332678588173,
          -2.316169772703558,
          11.992198353962147,
          23.705854626995016,
          -10.081789017488774,
          3.383594022396097,
          2.4852292818036803,
          24.098795423501173,
          28.694592217658666,
          -2.912919895087218,
          17.965051472389916,
          -4.914566993455494,
          8.066003911743525,
          21.701618468060357,
          14.163198205751538,
          11.104260543966582,
          22.276149213391694,
          21.269588592473387,
          7.09344834858654,
          20.542275312018088,
          20.02556826220625,
          25.430935390264132,
          5.0841685111453705,
          -0.08914439406552122,
          10.353852894242266,
          28.01906635821303,
          -9.942473808917384,
          -4.74401415907868,
          4.01821083252667,
          8.215581564550757,
          21.419021963787998,
          17.775117097844007,
          22.40271284287063,
          13.437745218627972,
          -2.916999547774779,
          22.257632587882625,
          12.08709347489101,
          6.8083425932326636,
          27.499670995388705,
          -1.7708880330410404,
          10.857235452893788,
          12.179286705856018,
          36.37978537302833,
          23.59407867220227,
          16.065673310941307,
          17.824304642670196,
          25.42348278991591,
          3.286093739301288,
          17.885406018801376,
          10.877316336617348,
          23.05049381783386,
          17.633116339641575,
          38.00654769027807,
          19.27062768584502,
          13.938983228257907,
          -3.317918432134126,
          18.488744238706232,
          0.7877262377251171,
          35.68274272135776,
          9.278932964198482,
          13.24327827659657,
          -1.049356373292465,
          22.1886841941223,
          22.690239708653557,
          21.628743203906396,
          26.888684345101098,
          12.549460404107759,
          25.096089700340652,
          -5.262504819144165,
          22.760695038774827,
          20.169226938035823,
          9.104155595058705,
          35.786961437633224,
          -1.1085510168627466,
          12.989206129509668,
          26.700938338990166,
          10.99406610694773,
          21.479279336765366,
          17.35173210897678,
          19.5507778905615,
          7.179848540247935,
          7.6099310000038445,
          0.1521113077226799,
          28.12249860775411,
          23.370383576246077,
          2.8005620771915263,
          11.248608578039331,
          26.306806559842364
         ],
         "y0": " ",
         "yaxis": "y"
        }
       ],
       "layout": {
        "boxmode": "group",
        "height": 600,
        "legend": {
         "title": {
          "text": "model_type"
         },
         "tracegroupgap": 0
        },
        "margin": {
         "t": 60
        },
        "template": {
         "data": {
          "bar": [
           {
            "error_x": {
             "color": "#2a3f5f"
            },
            "error_y": {
             "color": "#2a3f5f"
            },
            "marker": {
             "line": {
              "color": "#E5ECF6",
              "width": 0.5
             },
             "pattern": {
              "fillmode": "overlay",
              "size": 10,
              "solidity": 0.2
             }
            },
            "type": "bar"
           }
          ],
          "barpolar": [
           {
            "marker": {
             "line": {
              "color": "#E5ECF6",
              "width": 0.5
             },
             "pattern": {
              "fillmode": "overlay",
              "size": 10,
              "solidity": 0.2
             }
            },
            "type": "barpolar"
           }
          ],
          "carpet": [
           {
            "aaxis": {
             "endlinecolor": "#2a3f5f",
             "gridcolor": "white",
             "linecolor": "white",
             "minorgridcolor": "white",
             "startlinecolor": "#2a3f5f"
            },
            "baxis": {
             "endlinecolor": "#2a3f5f",
             "gridcolor": "white",
             "linecolor": "white",
             "minorgridcolor": "white",
             "startlinecolor": "#2a3f5f"
            },
            "type": "carpet"
           }
          ],
          "choropleth": [
           {
            "colorbar": {
             "outlinewidth": 0,
             "ticks": ""
            },
            "type": "choropleth"
           }
          ],
          "contour": [
           {
            "colorbar": {
             "outlinewidth": 0,
             "ticks": ""
            },
            "colorscale": [
             [
              0,
              "#0d0887"
             ],
             [
              0.1111111111111111,
              "#46039f"
             ],
             [
              0.2222222222222222,
              "#7201a8"
             ],
             [
              0.3333333333333333,
              "#9c179e"
             ],
             [
              0.4444444444444444,
              "#bd3786"
             ],
             [
              0.5555555555555556,
              "#d8576b"
             ],
             [
              0.6666666666666666,
              "#ed7953"
             ],
             [
              0.7777777777777778,
              "#fb9f3a"
             ],
             [
              0.8888888888888888,
              "#fdca26"
             ],
             [
              1,
              "#f0f921"
             ]
            ],
            "type": "contour"
           }
          ],
          "contourcarpet": [
           {
            "colorbar": {
             "outlinewidth": 0,
             "ticks": ""
            },
            "type": "contourcarpet"
           }
          ],
          "heatmap": [
           {
            "colorbar": {
             "outlinewidth": 0,
             "ticks": ""
            },
            "colorscale": [
             [
              0,
              "#0d0887"
             ],
             [
              0.1111111111111111,
              "#46039f"
             ],
             [
              0.2222222222222222,
              "#7201a8"
             ],
             [
              0.3333333333333333,
              "#9c179e"
             ],
             [
              0.4444444444444444,
              "#bd3786"
             ],
             [
              0.5555555555555556,
              "#d8576b"
             ],
             [
              0.6666666666666666,
              "#ed7953"
             ],
             [
              0.7777777777777778,
              "#fb9f3a"
             ],
             [
              0.8888888888888888,
              "#fdca26"
             ],
             [
              1,
              "#f0f921"
             ]
            ],
            "type": "heatmap"
           }
          ],
          "heatmapgl": [
           {
            "colorbar": {
             "outlinewidth": 0,
             "ticks": ""
            },
            "colorscale": [
             [
              0,
              "#0d0887"
             ],
             [
              0.1111111111111111,
              "#46039f"
             ],
             [
              0.2222222222222222,
              "#7201a8"
             ],
             [
              0.3333333333333333,
              "#9c179e"
             ],
             [
              0.4444444444444444,
              "#bd3786"
             ],
             [
              0.5555555555555556,
              "#d8576b"
             ],
             [
              0.6666666666666666,
              "#ed7953"
             ],
             [
              0.7777777777777778,
              "#fb9f3a"
             ],
             [
              0.8888888888888888,
              "#fdca26"
             ],
             [
              1,
              "#f0f921"
             ]
            ],
            "type": "heatmapgl"
           }
          ],
          "histogram": [
           {
            "marker": {
             "pattern": {
              "fillmode": "overlay",
              "size": 10,
              "solidity": 0.2
             }
            },
            "type": "histogram"
           }
          ],
          "histogram2d": [
           {
            "colorbar": {
             "outlinewidth": 0,
             "ticks": ""
            },
            "colorscale": [
             [
              0,
              "#0d0887"
             ],
             [
              0.1111111111111111,
              "#46039f"
             ],
             [
              0.2222222222222222,
              "#7201a8"
             ],
             [
              0.3333333333333333,
              "#9c179e"
             ],
             [
              0.4444444444444444,
              "#bd3786"
             ],
             [
              0.5555555555555556,
              "#d8576b"
             ],
             [
              0.6666666666666666,
              "#ed7953"
             ],
             [
              0.7777777777777778,
              "#fb9f3a"
             ],
             [
              0.8888888888888888,
              "#fdca26"
             ],
             [
              1,
              "#f0f921"
             ]
            ],
            "type": "histogram2d"
           }
          ],
          "histogram2dcontour": [
           {
            "colorbar": {
             "outlinewidth": 0,
             "ticks": ""
            },
            "colorscale": [
             [
              0,
              "#0d0887"
             ],
             [
              0.1111111111111111,
              "#46039f"
             ],
             [
              0.2222222222222222,
              "#7201a8"
             ],
             [
              0.3333333333333333,
              "#9c179e"
             ],
             [
              0.4444444444444444,
              "#bd3786"
             ],
             [
              0.5555555555555556,
              "#d8576b"
             ],
             [
              0.6666666666666666,
              "#ed7953"
             ],
             [
              0.7777777777777778,
              "#fb9f3a"
             ],
             [
              0.8888888888888888,
              "#fdca26"
             ],
             [
              1,
              "#f0f921"
             ]
            ],
            "type": "histogram2dcontour"
           }
          ],
          "mesh3d": [
           {
            "colorbar": {
             "outlinewidth": 0,
             "ticks": ""
            },
            "type": "mesh3d"
           }
          ],
          "parcoords": [
           {
            "line": {
             "colorbar": {
              "outlinewidth": 0,
              "ticks": ""
             }
            },
            "type": "parcoords"
           }
          ],
          "pie": [
           {
            "automargin": true,
            "type": "pie"
           }
          ],
          "scatter": [
           {
            "fillpattern": {
             "fillmode": "overlay",
             "size": 10,
             "solidity": 0.2
            },
            "type": "scatter"
           }
          ],
          "scatter3d": [
           {
            "line": {
             "colorbar": {
              "outlinewidth": 0,
              "ticks": ""
             }
            },
            "marker": {
             "colorbar": {
              "outlinewidth": 0,
              "ticks": ""
             }
            },
            "type": "scatter3d"
           }
          ],
          "scattercarpet": [
           {
            "marker": {
             "colorbar": {
              "outlinewidth": 0,
              "ticks": ""
             }
            },
            "type": "scattercarpet"
           }
          ],
          "scattergeo": [
           {
            "marker": {
             "colorbar": {
              "outlinewidth": 0,
              "ticks": ""
             }
            },
            "type": "scattergeo"
           }
          ],
          "scattergl": [
           {
            "marker": {
             "colorbar": {
              "outlinewidth": 0,
              "ticks": ""
             }
            },
            "type": "scattergl"
           }
          ],
          "scattermapbox": [
           {
            "marker": {
             "colorbar": {
              "outlinewidth": 0,
              "ticks": ""
             }
            },
            "type": "scattermapbox"
           }
          ],
          "scatterpolar": [
           {
            "marker": {
             "colorbar": {
              "outlinewidth": 0,
              "ticks": ""
             }
            },
            "type": "scatterpolar"
           }
          ],
          "scatterpolargl": [
           {
            "marker": {
             "colorbar": {
              "outlinewidth": 0,
              "ticks": ""
             }
            },
            "type": "scatterpolargl"
           }
          ],
          "scatterternary": [
           {
            "marker": {
             "colorbar": {
              "outlinewidth": 0,
              "ticks": ""
             }
            },
            "type": "scatterternary"
           }
          ],
          "surface": [
           {
            "colorbar": {
             "outlinewidth": 0,
             "ticks": ""
            },
            "colorscale": [
             [
              0,
              "#0d0887"
             ],
             [
              0.1111111111111111,
              "#46039f"
             ],
             [
              0.2222222222222222,
              "#7201a8"
             ],
             [
              0.3333333333333333,
              "#9c179e"
             ],
             [
              0.4444444444444444,
              "#bd3786"
             ],
             [
              0.5555555555555556,
              "#d8576b"
             ],
             [
              0.6666666666666666,
              "#ed7953"
             ],
             [
              0.7777777777777778,
              "#fb9f3a"
             ],
             [
              0.8888888888888888,
              "#fdca26"
             ],
             [
              1,
              "#f0f921"
             ]
            ],
            "type": "surface"
           }
          ],
          "table": [
           {
            "cells": {
             "fill": {
              "color": "#EBF0F8"
             },
             "line": {
              "color": "white"
             }
            },
            "header": {
             "fill": {
              "color": "#C8D4E3"
             },
             "line": {
              "color": "white"
             }
            },
            "type": "table"
           }
          ]
         },
         "layout": {
          "annotationdefaults": {
           "arrowcolor": "#2a3f5f",
           "arrowhead": 0,
           "arrowwidth": 1
          },
          "autotypenumbers": "strict",
          "coloraxis": {
           "colorbar": {
            "outlinewidth": 0,
            "ticks": ""
           }
          },
          "colorscale": {
           "diverging": [
            [
             0,
             "#8e0152"
            ],
            [
             0.1,
             "#c51b7d"
            ],
            [
             0.2,
             "#de77ae"
            ],
            [
             0.3,
             "#f1b6da"
            ],
            [
             0.4,
             "#fde0ef"
            ],
            [
             0.5,
             "#f7f7f7"
            ],
            [
             0.6,
             "#e6f5d0"
            ],
            [
             0.7,
             "#b8e186"
            ],
            [
             0.8,
             "#7fbc41"
            ],
            [
             0.9,
             "#4d9221"
            ],
            [
             1,
             "#276419"
            ]
           ],
           "sequential": [
            [
             0,
             "#0d0887"
            ],
            [
             0.1111111111111111,
             "#46039f"
            ],
            [
             0.2222222222222222,
             "#7201a8"
            ],
            [
             0.3333333333333333,
             "#9c179e"
            ],
            [
             0.4444444444444444,
             "#bd3786"
            ],
            [
             0.5555555555555556,
             "#d8576b"
            ],
            [
             0.6666666666666666,
             "#ed7953"
            ],
            [
             0.7777777777777778,
             "#fb9f3a"
            ],
            [
             0.8888888888888888,
             "#fdca26"
            ],
            [
             1,
             "#f0f921"
            ]
           ],
           "sequentialminus": [
            [
             0,
             "#0d0887"
            ],
            [
             0.1111111111111111,
             "#46039f"
            ],
            [
             0.2222222222222222,
             "#7201a8"
            ],
            [
             0.3333333333333333,
             "#9c179e"
            ],
            [
             0.4444444444444444,
             "#bd3786"
            ],
            [
             0.5555555555555556,
             "#d8576b"
            ],
            [
             0.6666666666666666,
             "#ed7953"
            ],
            [
             0.7777777777777778,
             "#fb9f3a"
            ],
            [
             0.8888888888888888,
             "#fdca26"
            ],
            [
             1,
             "#f0f921"
            ]
           ]
          },
          "colorway": [
           "#636efa",
           "#EF553B",
           "#00cc96",
           "#ab63fa",
           "#FFA15A",
           "#19d3f3",
           "#FF6692",
           "#B6E880",
           "#FF97FF",
           "#FECB52"
          ],
          "font": {
           "color": "#2a3f5f"
          },
          "geo": {
           "bgcolor": "white",
           "lakecolor": "white",
           "landcolor": "#E5ECF6",
           "showlakes": true,
           "showland": true,
           "subunitcolor": "white"
          },
          "hoverlabel": {
           "align": "left"
          },
          "hovermode": "closest",
          "mapbox": {
           "style": "light"
          },
          "paper_bgcolor": "white",
          "plot_bgcolor": "#E5ECF6",
          "polar": {
           "angularaxis": {
            "gridcolor": "white",
            "linecolor": "white",
            "ticks": ""
           },
           "bgcolor": "#E5ECF6",
           "radialaxis": {
            "gridcolor": "white",
            "linecolor": "white",
            "ticks": ""
           }
          },
          "scene": {
           "xaxis": {
            "backgroundcolor": "#E5ECF6",
            "gridcolor": "white",
            "gridwidth": 2,
            "linecolor": "white",
            "showbackground": true,
            "ticks": "",
            "zerolinecolor": "white"
           },
           "yaxis": {
            "backgroundcolor": "#E5ECF6",
            "gridcolor": "white",
            "gridwidth": 2,
            "linecolor": "white",
            "showbackground": true,
            "ticks": "",
            "zerolinecolor": "white"
           },
           "zaxis": {
            "backgroundcolor": "#E5ECF6",
            "gridcolor": "white",
            "gridwidth": 2,
            "linecolor": "white",
            "showbackground": true,
            "ticks": "",
            "zerolinecolor": "white"
           }
          },
          "shapedefaults": {
           "line": {
            "color": "#2a3f5f"
           }
          },
          "ternary": {
           "aaxis": {
            "gridcolor": "white",
            "linecolor": "white",
            "ticks": ""
           },
           "baxis": {
            "gridcolor": "white",
            "linecolor": "white",
            "ticks": ""
           },
           "bgcolor": "#E5ECF6",
           "caxis": {
            "gridcolor": "white",
            "linecolor": "white",
            "ticks": ""
           }
          },
          "title": {
           "x": 0.05
          },
          "xaxis": {
           "automargin": true,
           "gridcolor": "white",
           "linecolor": "white",
           "ticks": "",
           "title": {
            "standoff": 15
           },
           "zerolinecolor": "white",
           "zerolinewidth": 2
          },
          "yaxis": {
           "automargin": true,
           "gridcolor": "white",
           "linecolor": "white",
           "ticks": "",
           "title": {
            "standoff": 15
           },
           "zerolinecolor": "white",
           "zerolinewidth": 2
          }
         }
        },
        "width": 800,
        "xaxis": {
         "anchor": "y",
         "domain": [
          0,
          1
         ]
        },
        "yaxis": {
         "anchor": "x",
         "domain": [
          0,
          1
         ],
         "title": {
          "text": "fmt_total_profit_percentage"
         }
        }
       }
      }
     },
     "metadata": {},
     "output_type": "display_data"
    }
   ],
   "source": [
    "fig = px.box(df_trader_results, y=\"fmt_total_profit_percentage\", color=\"model_type\", points=\"all\", color_discrete_sequence=[ \"#FF7F0E\", \"#00CC96\", \"#10aded\", \"#8A56EF\"],  width=800, height=600)\n",
    "fig.show()"
   ]
  },
  {
   "cell_type": "code",
   "execution_count": 20,
   "metadata": {},
   "outputs": [
    {
     "data": {
      "application/vnd.plotly.v1+json": {
       "config": {
        "plotlyServerURL": "https://plot.ly"
       },
       "data": [
        {
         "alignmentgroup": "True",
         "bingroup": "x",
         "hovertemplate": "model_type=PPO<br>fmt_total_profit_percentage=%{x}<br>count=%{y}<extra></extra>",
         "legendgroup": "PPO",
         "marker": {
          "color": "#FF7F0E",
          "pattern": {
           "shape": ""
          }
         },
         "name": "PPO",
         "offsetgroup": "PPO",
         "orientation": "v",
         "showlegend": true,
         "type": "histogram",
         "x": [
          18.874573610724667,
          10.239722453184674,
          -0.3043713454052077,
          21.678703723058092,
          10.43918685208174,
          4.2419613877220375,
          9.906725781163562,
          11.160594568326765,
          21.568597504840923,
          6.982307780270158,
          5.777478106802647,
          31.281350673980903,
          5.162876853578635,
          26.836796172314692,
          -7.042196368012443,
          26.486520409558434,
          15.665375388128421,
          9.06422863495624,
          19.44785477141917,
          -0.8402773988000933,
          6.4309034131476706,
          8.871117456705079,
          1.6941181503396185,
          13.693439528939289,
          10.885038032986794,
          12.858982521547224,
          20.059806436414096,
          24.066278205697532,
          5.216217812561941,
          21.466033537218454,
          39.916997410278434,
          7.148543281657704,
          20.78432701662272,
          20.751540533668056,
          12.876915858232096,
          48.34311580335759,
          4.4306298152337,
          3.7794219822214314,
          4.184393074060799,
          7.8086303009864855,
          -10.162674808124695,
          16.766408214869987,
          5.030345191167762,
          12.670419906572183,
          3.3499661257187396,
          9.449161328723864,
          -8.063710339947228,
          14.332066713669999,
          5.879769747309327,
          16.41365193089699,
          26.88545492945311,
          13.51396924317909,
          27.51354571538538,
          28.79512903160366,
          12.211221533345062,
          18.164382636401943,
          17.78613400841944,
          34.07854387634644,
          28.35297728115489,
          7.649608706273847,
          17.869790460496482,
          -2.013298790972895,
          16.760387070928505,
          17.153007450743175,
          7.810383512339336,
          -0.5504011874828407,
          22.869199243210957,
          26.4104415466597,
          4.416429726591109,
          3.944488897176379,
          17.695543491063038,
          3.054893041188933,
          3.8201461889551203,
          -11.408904218555882,
          -1.3346156477716975,
          20.38290261750706,
          12.592043995284463,
          21.06605362547529,
          42.15583961610094,
          29.1797439709244,
          29.267180876903474,
          10.475930305437764,
          17.862467169497577,
          21.154902233616223,
          12.121747541888016,
          13.716583941707917,
          32.120417517180286,
          33.328063882531936,
          8.726349529558775,
          13.21485548774255,
          26.197937490395983,
          -9.53341322517639,
          11.478162654339542,
          -16.59322914730922,
          25.638294939411477,
          2.112283155895267,
          20.069832305946367,
          28.46553057906034,
          11.245070482578633,
          29.078716138946035,
          18.197564391944642,
          7.713142338756307,
          23.066573869297535,
          29.46278826359119,
          17.609703098644914,
          18.48025807139646,
          29.504621106135343,
          16.115324547115172,
          1.679982561887594,
          -1.4947768918963544,
          8.604471765450782,
          9.006825193238255,
          25.194244960209456,
          16.80788712293415,
          -4.966513599358036,
          0.8477083339160307,
          31.7525653295313,
          11.688797019579056,
          27.78806027347851,
          -8.283189699642001,
          16.036505165334102,
          4.47888466465769,
          5.437281109940506,
          31.26358388799526,
          6.884966895434896,
          13.699333422750737,
          35.08478446875331,
          40.40108252677052,
          21.331749494643848,
          19.860126311029692,
          -6.756248887533445,
          23.80291695590584,
          40.223733056261565,
          18.08751117915117,
          5.771073131710969,
          -2.3371152097838133,
          12.426738662949099,
          8.158722154335884,
          8.651704219766088,
          -5.5312927490567265,
          19.211366933132258,
          19.405196519877265,
          11.56508731895418,
          7.106685568260773,
          21.692694977377247,
          6.770108102137651,
          30.517648111610352,
          16.25243670409111,
          -3.3713442384188275,
          15.061908682554126,
          25.677460857301405,
          -18.161484022559936,
          26.27012452883728,
          14.171846083105821,
          29.55457856532453,
          1.8956646583289993,
          35.39866735151449,
          6.812402875581713,
          11.519341040662656,
          17.012521981731044,
          30.648447509709563,
          8.527430895978473,
          1.1809075128478064,
          17.41181494185664,
          25.860063414254842,
          -5.524636782256476,
          17.55512010866578,
          13.409152522178092,
          34.12992459945525,
          -1.5580348304333635,
          11.992198353962147,
          9.43062854179133,
          -11.530742388267257,
          9.53791769520973,
          -6.462087012352857,
          34.02731471468938,
          10.921371262658376,
          0.37762877956444285,
          7.731792233307222,
          10.380457503142626,
          4.9255134018791225,
          6.598016513366312,
          5.697046362573532,
          24.72492566236213,
          17.03425461036483,
          8.851049085370754,
          13.681587550508967,
          16.090304041139426,
          25.096089700340652,
          6.96458874425514,
          18.159745533389614,
          22.256896345189304,
          31.23000889976384,
          17.285461255980785,
          0.5670356785470121,
          15.99320651533751,
          5.782707363104178,
          16.439673644262598,
          0.9511289333450801,
          23.73413902393018,
          -8.15114586227763,
          11.885921608442684,
          22.616767638071302,
          1.8159346159412282,
          17.759143351131733,
          -1.9554470749161612,
          22.054168405672602,
          26.35955673766215,
          7.473088782151871,
          -2.1274552535717195,
          10.186151362032025,
          11.74451320329377,
          17.307692307692292,
          5.121043255234969,
          23.98825990292286,
          18.661777846423846,
          -0.8289194933762678,
          9.464775577770101,
          16.34215747510175,
          5.16901160771428,
          23.446117854442218,
          -15.015525980371025,
          21.343159958993873,
          29.23353600898009,
          25.32662453872685,
          0.6880219992743131,
          40.99871222843454,
          9.33978957619539,
          18.111622422237783,
          3.7404587246048226,
          -16.497126448374978,
          16.14550007781832,
          15.784950339025139,
          13.68239665189277,
          6.670624298690564,
          16.27036687745642,
          20.306988560040473,
          15.907827083229709,
          26.85522481635243,
          6.388776816334785,
          4.879722693566979,
          -2.9795588429112785,
          -0.9014951841369467,
          18.59880562373175,
          25.00428671792161,
          23.171402577157906,
          21.02838590408669,
          12.961076077554212,
          11.210863935717509,
          4.866943950647307,
          32.876906477709134,
          -4.1728722235159,
          24.909028888050244,
          -1.3240977486343009,
          20.868529994685915,
          18.516146343772498,
          12.925759008525972,
          5.546006854390395,
          4.070766672100001,
          14.686160253683589,
          20.439214767401403,
          20.3854443944371,
          4.541741470623473,
          8.632009965798805,
          7.659673139118395,
          15.392463487036402,
          10.913584273522382,
          16.241629044944418,
          5.096027962467753,
          29.55393364452188,
          48.38958434694756,
          14.560579111361172,
          16.30655461943693,
          41.190988616894344,
          7.532414365236373,
          11.74332664973312,
          7.557175478450318,
          8.301496390155405,
          15.852084402991352,
          13.753199940822336,
          -1.232647652586527,
          15.02590181893353,
          32.08979123697318,
          8.453142592261464,
          15.972673717881069,
          2.8547499356853523,
          19.18743354699659,
          31.19754653191329,
          22.150135294795792,
          8.438137699759963,
          16.816120628441556,
          3.716407729398563,
          -8.15779749011628,
          7.296054075248448,
          17.99489020389482,
          17.251833578010412,
          15.685091970526233,
          11.39199977469274,
          12.552644703943216,
          24.110081707586506,
          7.751663403240672,
          31.232897993819563,
          -1.3359399961838658,
          4.416429726591109,
          4.393151694338782,
          11.717757296568632,
          1.1284613355908135,
          16.451260994935456,
          8.923239924602267,
          -4.639922199562929,
          10.25095306378998,
          20.117089375387053,
          5.941086316606681,
          -10.942765521503016,
          4.938737888926914,
          16.23643710423417,
          1.4606448730676513,
          25.42348278991591,
          27.25594799470674,
          25.176134065883193,
          20.76167570683969,
          20.624066717781652,
          22.529939989911508,
          19.62086631646287,
          0.7159508981775975,
          3.6393947874262533,
          3.9568817553763624,
          26.803724569444974,
          3.237395941911725,
          26.722119526039535,
          -0.34096990424443696,
          32.56125123484783,
          21.88572476280781,
          25.181348155480233,
          -6.76294314068997,
          4.712014907759565,
          17.867718729509118,
          9.2858662254109,
          -0.36855871599346113,
          18.199628300821736,
          8.305726040409933,
          3.1901597016395833,
          12.410628874472284,
          6.388776816334785,
          14.35667439774555,
          17.93522770354472,
          22.11498094754667,
          20.042136951883837,
          6.950520894604306,
          18.726831367358997,
          19.0627075518357,
          15.862517474562331,
          14.726681227769834,
          14.206394470293304,
          3.6508315935361413,
          25.508627268327146,
          31.79272744201913,
          7.345353388394016,
          2.11914636887085,
          11.433180613978976,
          4.10417390829243,
          11.444946738419981,
          29.0389209817711,
          -10.927722734809088,
          7.507578220211464,
          9.095262726228137,
          25.02122888847802,
          11.242955263581344,
          17.82503699014246,
          18.78755732465569,
          18.9207672795725,
          -5.2558636558391765,
          26.792848256963907,
          8.362985863838723,
          24.501948199930546,
          21.68997211273482,
          6.862432479337244,
          26.02214819199451,
          33.062897914735245,
          11.75871453689048,
          18.23087588180541,
          -5.209463659405422,
          6.340867399584593,
          21.026417741714297,
          24.306180314047076,
          -3.161367646505131,
          -0.9345710669423246,
          14.884188057918447,
          6.287454430412898,
          16.531866690272135,
          -3.2127154543269865,
          19.55954318851758,
          -0.9398610850310352,
          6.543878180856799,
          41.9492943009226,
          9.63864596502293,
          23.0589181230483,
          19.220586004291306,
          21.14319219239713,
          11.78135464319039,
          7.480389001659615,
          15.48864816309865,
          0.2860028066421938,
          16.27734842598434,
          -7.138276191955606,
          12.723028607862453,
          13.759678076682501,
          18.385765095409635,
          20.492063538495774,
          0.44679254753139386,
          32.40602095749707,
          23.14408283685998,
          4.40760811081542,
          26.157908755079127,
          28.46553057906034,
          9.124601695271007,
          2.2973239052022976,
          15.358431428730611,
          1.3858817017457392,
          14.402183375173184,
          29.965870284692066,
          11.392242134460817,
          19.822773297741957,
          12.623830273307068,
          18.185937866938207,
          18.502882704139555,
          27.902874122445652,
          3.053169380045695,
          7.848536259450589,
          14.633451218115855,
          26.39624199575561,
          22.65268627507617,
          19.45591581582715,
          16.747703516086876,
          4.949687307837691,
          -0.44046130755740487,
          16.630679356761526,
          5.46504388174025,
          -0.8939708064428453,
          8.080733164977104,
          23.379946130450445,
          5.977831696566538,
          11.827537440399926,
          11.8109153116295,
          26.683062721790442,
          6.872719994493148,
          4.9534564626932065,
          27.17370031622015,
          3.7404587246048226,
          8.714112583676826,
          1.1063916972070098,
          28.685043096724662,
          6.315944107052518,
          28.246327393731296,
          19.956490037679742,
          15.023647620217929,
          31.23000889976384,
          -4.936888287052154,
          -5.236185556056427,
          27.301223577444024,
          -13.631313869859484,
          23.88215652639094,
          14.339383212168677,
          -9.209638007787602,
          19.301816516987415,
          2.8206579569488577,
          8.991917172674913,
          18.160527219488422,
          27.65003244260256,
          11.846285380108746,
          22.866513729818337,
          -5.699212735339964,
          18.695581827740114,
          12.499790062968819,
          -2.3982112933136235,
          19.105291361324504,
          7.441721192564876,
          -4.042809599113251,
          0.5181091820571249,
          18.978648718308342,
          17.846928359335212,
          9.275284033504661,
          15.670694807817487,
          20.02308322761721,
          18.34588222557354,
          2.5348801433599855,
          24.710908305314263,
          4.137701778187086,
          1.7485512515842183,
          -4.729214289247674,
          11.998927387609392,
          22.662472671762757,
          15.584408326510001,
          -2.103809675381918,
          11.352567305516148,
          7.607061775229895,
          7.222538431412651,
          20.554730989111604,
          10.838176027493462,
          13.70610516357158,
          -7.63405539625166,
          20.36353476511634,
          4.257374721853213,
          21.117145718482377,
          28.577656563369615,
          13.179484464539337,
          27.72827436171501,
          9.610310384097453,
          15.922359522806628,
          21.624432489682356,
          1.0394138739289183,
          1.2136268253062799,
          27.161913392205328,
          1.5505347141530512,
          5.55727623001141,
          18.23087588180541,
          16.534589254170662,
          21.336188228560403,
          7.110509925610375,
          7.148543281657704,
          21.19969234931318,
          11.154041840719442,
          1.9652677129555318,
          9.011444243823119,
          4.750690485426934,
          28.011806481299818,
          20.810527595886462,
          9.835643768490488,
          0.5301739636209835,
          16.439673644262598,
          23.92961645994731,
          26.159886316789848,
          9.87332678588173,
          17.27919094068455,
          22.579479511240265,
          16.128753426143348,
          8.106146499740241,
          8.987958183839906,
          -1.844470749473237,
          12.955999054298829,
          2.9850121863899126,
          17.805970771769154,
          -4.656413964573836,
          14.513135844307467,
          -0.2761957064873699,
          16.163170405991778,
          17.020826049042604,
          9.331797301675259,
          8.987951626362767,
          8.346125622652846,
          1.8034005626255345,
          8.2267480799185,
          27.850130162952368,
          -10.320081989441176,
          11.154041840719465,
          11.826592744358777,
          13.432187264636353,
          21.431789568569258,
          15.387806403529414,
          3.898162379577852,
          -2.8905422715585494,
          22.20998399687948,
          4.368403960739764,
          14.444722578137249,
          -1.2977508719975162,
          12.533082349231183,
          25.04110992350912,
          11.235872821737235,
          -7.399921926219677,
          27.703351399150588,
          14.885416933845352,
          20.025767429864484,
          40.979650150107446,
          29.51401943402803,
          16.209591242760425,
          8.453142592261486,
          30.032064051832585,
          31.513032947031405,
          12.422695692642272,
          16.61537811823315,
          -1.8559910302019866,
          10.751553518080836,
          33.41915718750479,
          29.663275510152953,
          17.22829927139231,
          45.225705294516175,
          -9.853693335163971,
          16.912252092160983,
          24.727933672314517,
          13.889453053133938,
          26.24274466129448,
          13.815168978146652,
          12.442667136879248,
          12.6396745221246,
          24.83118423775139,
          35.475457193146354,
          20.142837033699678,
          14.660092257919,
          5.7521318186815495,
          0.7950281144072591,
          -16.060828719187203,
          21.09348091658898,
          17.32723676853056,
          7.461818249983887,
          20.78052679183049,
          -7.154036869810421,
          6.8201514741808245,
          14.726681227769834,
          11.61543610229372,
          5.953394546388258,
          9.829619379247712,
          16.08807873249902,
          17.798133405518037,
          0.42364065260980244,
          10.150533327125633,
          26.681522282844284,
          4.990154774382871,
          -15.28674136848025,
          27.243762198909117,
          9.011444243823119,
          16.53212006432838,
          25.680547696948985,
          14.06464586845486,
          14.931193217989303,
          26.374055852557767,
          17.798133405518037,
          0.8140110299722503,
          43.3481120293401,
          -1.0969025242076103,
          3.9615899192044557,
          9.518119449550277,
          10.634240621728264,
          13.636365224770564,
          -3.9960377721295126,
          17.808221979773787,
          -10.403730394776822,
          -0.2155007581787327,
          15.671369300504479,
          9.352600752037986,
          6.256601843008069,
          7.661755115425928,
          17.57404151868358,
          33.062897914735245,
          15.263005250684735,
          6.298887344228521,
          28.422586136633644,
          35.18333980570259,
          22.013748973997018,
          2.715162968162832,
          18.055517545481827,
          14.278339737055322,
          28.46553057906034,
          26.903992625025985,
          -10.752978653092748,
          13.279618414527384,
          10.198475162753674,
          -0.46177496761710124,
          -5.162010794122118,
          26.984053335280777,
          8.029103285041717,
          -1.2773981900796816,
          17.914183533696914,
          14.051316257909384,
          19.104994241016946,
          -4.929013296816409,
          16.61900334486013,
          14.363545087874364,
          -0.2886452120644978,
          -5.436026815340855,
          7.994719157897934,
          7.197752369740518,
          0.48832938433767126,
          -2.0305145510826628,
          11.830158618579944,
          26.14711789242321,
          12.421402699675133,
          22.830778147996234,
          37.4389104775191,
          0.6720487907217576,
          8.727964658749743,
          10.654172132038852,
          -1.7210179401805248,
          13.804487032162061,
          17.505116273578935,
          8.70027858585598,
          38.113514419188355,
          23.074004577571117,
          33.29290359106323,
          6.278640849375416,
          8.450774956523066,
          0.5133916142490369,
          26.32800967900948,
          12.800994185399993,
          11.866782747846006,
          18.77011122645429,
          -5.095503010341251,
          11.264756874438465,
          4.799134071331723,
          17.677699751028484,
          14.710346336325753,
          23.057431059397437,
          1.477579547951513,
          -12.667597189431135,
          7.607061775229895,
          25.16706096960459,
          19.441951005284718,
          16.177331638952918,
          1.1894865899123586,
          16.03656171169112,
          22.2055188636862,
          14.708480917848089,
          22.689035017323643,
          18.34121869862575,
          34.2144203662452,
          20.20308218196407,
          13.455544434976918,
          22.47735427127693,
          10.890134856744304,
          9.961127549950067,
          26.753260357542217,
          7.882963148250544,
          24.106133294337706,
          0.43453094353058663,
          4.9255134018791225,
          24.55264468181102,
          3.543889558298763,
          40.40108252677052,
          4.3286319280366525,
          20.215829190024003,
          16.44512589011251,
          14.402183375173184,
          21.718549655208875,
          35.460769411341644,
          29.179591895021552,
          11.358902668877825,
          17.48358579312619,
          -2.6014960292586653,
          18.376544246430115,
          13.152155600064708,
          14.205869885547195,
          -2.996738555736056,
          8.722390519107037,
          17.972901988742727,
          13.366284146931061,
          30.80008147659894,
          3.2723022258942303,
          19.77301954537851,
          -4.538182822371761,
          -2.170024332204057,
          4.8373501075273495,
          27.223127482930167,
          0.8748955892499799,
          8.97686518275047,
          18.23087588180541,
          5.37735239345527,
          29.72828818144717,
          16.22804503183901,
          -7.72642514836045,
          16.05634867237198,
          10.549131729111494,
          14.098873197428595,
          10.256113328800387,
          1.532959233528075,
          -4.820430280544851,
          1.9078329671304184,
          28.72122505541639,
          8.781895525822915,
          1.2721882251927275,
          0.9292017710343714,
          -1.3303832119233694,
          5.7667457923761045,
          21.916343055158947,
          12.821293507942322,
          24.554291143197094,
          -1.7509516494264576,
          10.474255746607453,
          4.106513738619255,
          11.844451239547716,
          13.534304504933514,
          4.747615854780873,
          4.01821083252667,
          18.957432728441614,
          27.04302029206587,
          9.526229682500142,
          23.398828870116816,
          24.744291159656328,
          21.668041098665512,
          15.949720727052696,
          13.134840827173866,
          -1.127793908093,
          15.152251937810156,
          14.591201273130295,
          -2.8580738027441543,
          7.602591405705117,
          14.870614847299034,
          15.316609638590272,
          26.984053335280777,
          5.412221100386594,
          3.658486177776288,
          -1.5398059754024085,
          9.576527580808204,
          36.74475278133793,
          11.973502552238081,
          -2.1218763289492015,
          -2.8991373305255586,
          13.368777766401841,
          27.436497102667957,
          5.754923502643283,
          33.41032997344755,
          18.0328983844285,
          7.507475712437972,
          21.459986171898926,
          2.650562159888814,
          30.674827779126602,
          15.39612937627548,
          6.786679631414327,
          0.5345775288713162,
          41.79649236578595,
          12.832745258833956,
          41.870982984396775,
          7.152228500832569,
          13.46566824619404,
          19.38797986289995,
          6.078718891470691,
          3.105761087490899,
          27.45033889675512,
          5.1189618811444015,
          18.85300821277125,
          21.026417741714297,
          31.254058601025214,
          16.068923010101564,
          19.926361566618912,
          19.74530462291306,
          15.671072740466997,
          4.638100828218739,
          -1.7118528058546412,
          11.267183346896715,
          0.5301739636210057,
          15.021834861669149,
          18.01065859369073,
          39.07073679635105,
          22.401580017587207,
          -3.5946332238002365,
          13.592669617970877,
          16.19949004275223,
          22.26907680363155,
          27.820425556265647,
          34.87654823256783,
          0.7054512202206542,
          14.682440987724998,
          10.471151037330074,
          6.6375443791476085,
          6.175535515537667,
          46.18825932705217,
          9.827259562225343,
          6.860042655988896,
          16.957045171252826,
          -0.23406668478063164,
          14.900359482697878,
          15.412551700124855,
          13.585342499776075,
          -2.3487916170577883,
          15.819756472004375,
          5.972872725709344,
          15.924952016263472,
          -16.00833658598717,
          4.6862463637350915,
          27.809085704685167,
          8.058851830652447,
          6.066361386131702,
          45.50952218640833,
          -5.3162263811924575,
          8.126231922217242,
          31.44038780170959,
          -5.428468431907973,
          15.260818195811797,
          -8.156492743455656,
          22.479569984465762,
          -5.8435810217932875,
          -0.3663305534484018,
          2.127729416922697,
          -3.872883026242968,
          18.100718647747406,
          9.102140481983367,
          35.629851720281614,
          15.569414625866806,
          24.992618806680667,
          10.477172905725629,
          15.721554377666935,
          26.58982515744197,
          0.4494720134585739,
          14.708480917848089,
          7.960748091285108,
          10.47423608325808,
          -0.30246947813795666,
          5.822474559678037,
          6.256601843008069,
          20.711409987461437,
          6.872200102763726,
          28.46553057906034,
          10.819581360894027,
          8.768782438097777,
          28.422142525335616,
          -0.051562378937375364,
          3.1435646492748326,
          28.35257368564421,
          30.354335230438224,
          14.943302518170176,
          15.673248509621951,
          13.217658312346181,
          13.786724747840594,
          23.084534305630065,
          9.87332678588173,
          -2.316169772703558,
          11.992198353962147,
          23.705854626995016,
          -10.081789017488774,
          3.383594022396097,
          2.4852292818036803,
          24.098795423501173,
          28.694592217658666,
          -2.912919895087218,
          17.965051472389916,
          -4.914566993455494,
          8.066003911743525,
          21.701618468060357,
          14.163198205751538,
          11.104260543966582,
          22.276149213391694,
          21.269588592473387,
          7.09344834858654,
          20.542275312018088,
          20.02556826220625,
          25.430935390264132,
          5.0841685111453705,
          -0.08914439406552122,
          10.353852894242266,
          28.01906635821303,
          -9.942473808917384,
          -4.74401415907868,
          4.01821083252667,
          8.215581564550757,
          21.419021963787998,
          17.775117097844007,
          22.40271284287063,
          13.437745218627972,
          -2.916999547774779,
          22.257632587882625,
          12.08709347489101,
          6.8083425932326636,
          27.499670995388705,
          -1.7708880330410404,
          10.857235452893788,
          12.179286705856018,
          36.37978537302833,
          23.59407867220227,
          16.065673310941307,
          17.824304642670196,
          25.42348278991591,
          3.286093739301288,
          17.885406018801376,
          10.877316336617348,
          23.05049381783386,
          17.633116339641575,
          38.00654769027807,
          19.27062768584502,
          13.938983228257907,
          -3.317918432134126,
          18.488744238706232,
          0.7877262377251171,
          35.68274272135776,
          9.278932964198482,
          13.24327827659657,
          -1.049356373292465,
          22.1886841941223,
          22.690239708653557,
          21.628743203906396,
          26.888684345101098,
          12.549460404107759,
          25.096089700340652,
          -5.262504819144165,
          22.760695038774827,
          20.169226938035823,
          9.104155595058705,
          35.786961437633224,
          -1.1085510168627466,
          12.989206129509668,
          26.700938338990166,
          10.99406610694773,
          21.479279336765366,
          17.35173210897678,
          19.5507778905615,
          7.179848540247935,
          7.6099310000038445,
          0.1521113077226799,
          28.12249860775411,
          23.370383576246077,
          2.8005620771915263,
          11.248608578039331,
          26.306806559842364
         ],
         "xaxis": "x",
         "yaxis": "y"
        },
        {
         "alignmentgroup": "True",
         "boxpoints": "all",
         "customdata": [
          [
           45.000000000000085,
           6,
           1
          ],
          [
           26.600000000000108,
           5,
           2
          ],
          [
           -4.699999999999903,
           11,
           3
          ],
          [
           51.50000000000003,
           11,
           4
          ],
          [
           24.50000000000003,
           9,
           5
          ],
          [
           6.499999999999972,
           9,
           6
          ],
          [
           22.700000000000017,
           15,
           7
          ],
          [
           28.900000000000006,
           9,
           8
          ],
          [
           52.69999999999996,
           6,
           9
          ],
          [
           14.100000000000051,
           5,
           10
          ],
          [
           11.099999999999824,
           11,
           11
          ],
          [
           75.00000000000009,
           7,
           12
          ],
          [
           9.699999999999847,
           9,
           13
          ],
          [
           64.99999999999997,
           5,
           14
          ],
          [
           -28.500000000000085,
           9,
           15
          ],
          [
           63.90000000000012,
           9,
           16
          ],
          [
           38.20000000000002,
           3,
           17
          ],
          [
           21.89999999999978,
           13,
           18
          ],
          [
           47.09999999999994,
           9,
           19
          ],
          [
           -3.700000000000017,
           7,
           20
          ],
          [
           15.700000000000074,
           7,
           21
          ],
          [
           21.299999999999983,
           7,
           22
          ],
          [
           2.700000000000074,
           9,
           23
          ],
          [
           32.400000000000006,
           9,
           24
          ],
          [
           23.00000000000003,
           5,
           25
          ],
          [
           30.800000000000153,
           11,
           26
          ],
          [
           50.799999999999926,
           8,
           27
          ],
          [
           58.70000000000019,
           7,
           28
          ],
          [
           9.700000000000074,
           7,
           29
          ],
          [
           52.29999999999998,
           7,
           30
          ],
          [
           94.30000000000015,
           9,
           31
          ],
          [
           14.899999999999892,
           5,
           32
          ],
          [
           51.60000000000005,
           9,
           33
          ],
          [
           51.99999999999997,
           11,
           34
          ],
          [
           30.399999999999892,
           7,
           35
          ],
          [
           112.29999999999998,
           10,
           36
          ],
          [
           6.700000000000074,
           11,
           37
          ],
          [
           4.900000000000006,
           7,
           38
          ],
          [
           5.900000000000006,
           7,
           39
          ],
          [
           16.50000000000003,
           5,
           40
          ],
          [
           -34.400000000000006,
           8,
           41
          ],
          [
           40.80000000000004,
           7,
           42
          ],
          [
           9.299999999999756,
           13,
           43
          ],
          [
           31.099999999999937,
           7,
           44
          ],
          [
           4.399999999999949,
           11,
           45
          ],
          [
           22.700000000000074,
           11,
           46
          ],
          [
           -34.90000000000006,
           9,
           47
          ],
          [
           33.29999999999987,
           7,
           48
          ],
          [
           14.400000000000063,
           12,
           49
          ],
          [
           39.49999999999997,
           5,
           50
          ],
          [
           64.50000000000003,
           9,
           51
          ],
          [
           32.100000000000165,
           9,
           52
          ],
          [
           68.20000000000002,
           8,
           53
          ],
          [
           71.20000000000013,
           13,
           54
          ],
          [
           30.100000000000165,
           13,
           55
          ],
          [
           46.099999999999824,
           15,
           56
          ],
          [
           43.80000000000004,
           7,
           57
          ],
          [
           81.6,
           7,
           58
          ],
          [
           70.69999999999985,
           11,
           59
          ],
          [
           16.099999999999937,
           7,
           60
          ],
          [
           43.20000000000013,
           11,
           61
          ],
          [
           -11.700000000000017,
           9,
           62
          ],
          [
           40.89999999999995,
           11,
           63
          ],
          [
           41.799999999999926,
           5,
           64
          ],
          [
           16.69999999999996,
           9,
           65
          ],
          [
           -8.100000000000108,
           9,
           66
          ],
          [
           58.60000000000011,
           7,
           67
          ],
          [
           65.50000000000009,
           9,
           68
          ],
          [
           6.700000000000074,
           9,
           69
          ],
          [
           6.099999999999824,
           9,
           70
          ],
          [
           43.10000000000011,
           5,
           71
          ],
          [
           3.0999999999999375,
           7,
           72
          ],
          [
           5.600000000000051,
           12,
           73
          ],
          [
           -39.500000000000085,
           11,
           74
          ],
          [
           -9.700000000000017,
           9,
           75
          ],
          [
           49.499999999999915,
           7,
           76
          ],
          [
           30.299999999999983,
           13,
           77
          ],
          [
           51.29999999999998,
           9,
           78
          ],
          [
           100.4,
           9,
           79
          ],
          [
           69.99999999999997,
           6,
           80
          ],
          [
           72.29999999999998,
           9,
           81
          ],
          [
           23.499999999999915,
           9,
           82
          ],
          [
           42.80000000000004,
           11,
           83
          ],
          [
           50.90000000000012,
           7,
           84
          ],
          [
           28.50000000000003,
           7,
           85
          ],
          [
           32.900000000000006,
           9,
           86
          ],
          [
           75.8000000000001,
           9,
           87
          ],
          [
           80.39999999999995,
           5,
           88
          ],
          [
           17.19999999999996,
           9,
           89
          ],
          [
           31.50000000000003,
           7,
           90
          ],
          [
           65.5000000000002,
           13,
           91
          ],
          [
           -36.099999999999994,
           11,
           92
          ],
          [
           26.099999999999937,
           9,
           93
          ],
          [
           -57.89999999999995,
           15,
           94
          ],
          [
           63.09999999999994,
           9,
           95
          ],
          [
           0.5999999999999943,
           13,
           96
          ],
          [
           48.700000000000074,
           7,
           97
          ],
          [
           68.29999999999998,
           7,
           98
          ],
          [
           26.399999999999835,
           8,
           99
          ],
          [
           70.59999999999988,
           5,
           100
          ],
          [
           45.69999999999996,
           11,
           101
          ],
          [
           16.900000000000063,
           9,
           102
          ],
          [
           55.700000000000074,
           9,
           103
          ],
          [
           71.29999999999987,
           9,
           104
          ],
          [
           46.000000000000085,
           7,
           105
          ],
          [
           46.900000000000006,
           13,
           106
          ],
          [
           71.6,
           7,
           107
          ],
          [
           38.50000000000003,
           7,
           108
          ],
          [
           1.4999999999999147,
           11,
           109
          ],
          [
           -10.100000000000222,
           11,
           110
          ],
          [
           23.700000000000074,
           10,
           111
          ],
          [
           20.69999999999996,
           9,
           112
          ],
          [
           60.900000000000006,
           11,
           113
          ],
          [
           41.50000000000003,
           9,
           114
          ],
          [
           -17.699999999999903,
           7,
           115
          ],
          [
           0.09999999999993747,
           10,
           116
          ],
          [
           76.10000000000016,
           5,
           117
          ],
          [
           27.80000000000004,
           8,
           118
          ],
          [
           66.69999999999996,
           7,
           119
          ],
          [
           -31.300000000000153,
           9,
           120
          ],
          [
           38.50000000000014,
           5,
           121
          ],
          [
           13.200000000000188,
           12,
           122
          ],
          [
           10.29999999999987,
           7,
           123
          ],
          [
           76.49999999999997,
           9,
           124
          ],
          [
           14.499999999999915,
           9,
           125
          ],
          [
           32.10000000000005,
           11,
           126
          ],
          [
           83.70000000000007,
           7,
           127
          ],
          [
           95.40000000000006,
           5,
           128
          ],
          [
           51.80000000000004,
           14,
           129
          ],
          [
           48.10000000000005,
           9,
           130
          ],
          [
           -29.299999999999926,
           13,
           131
          ],
          [
           58.59999999999988,
           5,
           132
          ],
          [
           94.90000000000006,
           7,
           133
          ],
          [
           43.899999999999835,
           13,
           134
          ],
          [
           12.200000000000017,
           9,
           135
          ],
          [
           -14.700000000000017,
           15,
           136
          ],
          [
           32.700000000000074,
           11,
           137
          ],
          [
           17.99999999999997,
           6,
           138
          ],
          [
           24.50000000000003,
           13,
           139
          ],
          [
           -20.099999999999994,
           9,
           140
          ],
          [
           46.69999999999996,
           7,
           141
          ],
          [
           47.09999999999994,
           7,
           142
          ],
          [
           27.099999999999937,
           7,
           143
          ],
          [
           11.299999999999983,
           7,
           144
          ],
          [
           51.499999999999915,
           12,
           145
          ],
          [
           13.900000000000006,
           9,
           146
          ],
          [
           75.69999999999996,
           15,
           147
          ],
          [
           38.90000000000012,
           11,
           148
          ],
          [
           -13.299999999999926,
           9,
           149
          ],
          [
           36.99999999999997,
           5,
           150
          ],
          [
           63.29999999999998,
           11,
           151
          ],
          [
           -70.20000000000002,
           13,
           152
          ],
          [
           64.39999999999995,
           7,
           153
          ],
          [
           35.99999999999997,
           8,
           154
          ],
          [
           72.79999999999993,
           10,
           155
          ],
          [
           0.2999999999999261,
           11,
           156
          ],
          [
           84.49999999999997,
           5,
           157
          ],
          [
           16.099999999999994,
           12,
           158
          ],
          [
           26.599999999999937,
           5,
           159
          ],
          [
           41.09999999999994,
           5,
           160
          ],
          [
           74.80000000000004,
           5,
           161
          ],
          [
           19.200000000000074,
           7,
           162
          ],
          [
           -2.899999999999949,
           9,
           163
          ],
          [
           42.100000000000165,
           5,
           164
          ],
          [
           66.49999999999991,
           13,
           165
          ],
          [
           -23.90000000000029,
           11,
           166
          ],
          [
           42.09999999999994,
           9,
           167
          ],
          [
           32.20000000000013,
           11,
           168
          ],
          [
           83.89999999999995,
           11,
           169
          ],
          [
           -11.400000000000006,
           9,
           170
          ],
          [
           27.700000000000074,
           7,
           171
          ],
          [
           21.899999999999892,
           8,
           172
          ],
          [
           -37.79999999999998,
           10,
           173
          ],
          [
           20.700000000000017,
           11,
           174
          ],
          [
           -22.199999999999847,
           12,
           175
          ],
          [
           81.30000000000004,
           7,
           176
          ],
          [
           25.300000000000153,
           11,
           177
          ],
          [
           -5.399999999999892,
           7,
           178
          ],
          [
           16.99999999999997,
           7,
           179
          ],
          [
           23.900000000000233,
           9,
           180
          ],
          [
           8.099999999999937,
           7,
           181
          ],
          [
           12.29999999999987,
           9,
           182
          ],
          [
           10.300000000000097,
           11,
           183
          ],
          [
           59.70000000000002,
           9,
           184
          ],
          [
           40.59999999999994,
           9,
           185
          ],
          [
           22.500000000000142,
           9,
           186
          ],
          [
           32.10000000000005,
           7,
           187
          ],
          [
           38.6999999999999,
           7,
           188
          ],
          [
           60.29999999999998,
           5,
           189
          ],
          [
           15.29999999999987,
           10,
           190
          ],
          [
           43.70000000000013,
           15,
           191
          ],
          [
           54.99999999999997,
           5,
           192
          ],
          [
           74.69999999999996,
           9,
           193
          ],
          [
           42.49999999999997,
           9,
           194
          ],
          [
           -3.299999999999926,
           11,
           195
          ],
          [
           42.700000000000074,
           11,
           196
          ],
          [
           11.500000000000028,
           7,
           197
          ],
          [
           40.39999999999995,
           5,
           198
          ],
          [
           -2.4999999999999716,
           11,
           199
          ],
          [
           58.29999999999998,
           13,
           200
          ],
          [
           -34.70000000000002,
           11,
           201
          ],
          [
           31.600000000000108,
           5,
           202
          ],
          [
           55.40000000000006,
           5,
           203
          ],
          [
           -0.9000000000000625,
           7,
           204
          ],
          [
           43.000000000000085,
           7,
           205
          ],
          [
           -8.799999999999983,
           13,
           206
          ],
          [
           53.400000000000006,
           10,
           207
          ],
          [
           64.1999999999999,
           3,
           208
          ],
          [
           16.499999999999915,
           9,
           209
          ],
          [
           -12.300000000000153,
           9,
           210
          ],
          [
           23.69999999999996,
           9,
           211
          ],
          [
           29.899999999999892,
           13,
           212
          ],
          [
           42.29999999999998,
           1,
           213
          ],
          [
           9.699999999999847,
           9,
           214
          ],
          [
           59.29999999999998,
           13,
           215
          ],
          [
           45.6999999999999,
           11,
           216
          ],
          [
           -7.900000000000119,
           7,
           217
          ],
          [
           21.59999999999988,
           8,
           218
          ],
          [
           39.50000000000003,
           7,
           219
          ],
          [
           13.000000000000142,
           11,
           220
          ],
          [
           56.19999999999996,
           9,
           221
          ],
          [
           -56.70000000000002,
           11,
           222
          ],
          [
           51.69999999999996,
           7,
           223
          ],
          [
           70.79999999999993,
           6,
           224
          ],
          [
           63.3000000000001,
           11,
           225
          ],
          [
           -4.3000000000001535,
           7,
           226
          ],
          [
           98.89999999999989,
           15,
           227
          ],
          [
           20.90000000000012,
           13,
           228
          ],
          [
           45.10000000000005,
           13,
           229
          ],
          [
           5.299999999999983,
           7,
           230
          ],
          [
           -56.30000000000015,
           13,
           231
          ],
          [
           39.50000000000003,
           9,
           232
          ],
          [
           39.000000000000085,
           13,
           233
          ],
          [
           33.20000000000002,
           5,
           234
          ],
          [
           14.399999999999892,
           7,
           235
          ],
          [
           42.0000000000002,
           9,
           236
          ],
          [
           49.799999999999926,
           6,
           237
          ],
          [
           38.19999999999996,
           7,
           238
          ],
          [
           64.50000000000003,
           11,
           239
          ],
          [
           11.69999999999996,
           7,
           240
          ],
          [
           8.499999999999915,
           9,
           241
          ],
          [
           -14.900000000000063,
           7,
           242
          ],
          [
           -5.899999999999835,
           13,
           243
          ],
          [
           45.69999999999979,
           7,
           244
          ],
          [
           61.89999999999989,
           9,
           245
          ],
          [
           56.99999999999997,
           7,
           246
          ],
          [
           51.099999999999824,
           9,
           247
          ],
          [
           31.499999999999915,
           9,
           248
          ],
          [
           25.69999999999996,
           9,
           249
          ],
          [
           7.69999999999996,
           9,
           250
          ],
          [
           78.79999999999993,
           8,
           251
          ],
          [
           -18.700000000000017,
           9,
           252
          ],
          [
           61.10000000000005,
           8,
           253
          ],
          [
           -6.499999999999972,
           9,
           254
          ],
          [
           50.29999999999998,
           11,
           255
          ],
          [
           44.999999999999915,
           9,
           256
          ],
          [
           32.3000000000001,
           12,
           257
          ],
          [
           10.099999999999937,
           9,
           258
          ],
          [
           5.200000000000074,
           9,
           259
          ],
          [
           34.50000000000003,
           9,
           260
          ],
          [
           49.50000000000003,
           7,
           261
          ],
          [
           49.100000000000165,
           11,
           262
          ],
          [
           7.69999999999996,
           7,
           263
          ],
          [
           19.700000000000074,
           7,
           264
          ],
          [
           17.49999999999997,
           9,
           265
          ],
          [
           41.79999999999998,
           5,
           266
          ],
          [
           22.60000000000005,
           9,
           267
          ],
          [
           39.59999999999988,
           5,
           268
          ],
          [
           10.700000000000074,
           9,
           269
          ],
          [
           72.70000000000002,
           9,
           270
          ],
          [
           112.3000000000001,
           8,
           271
          ],
          [
           34.900000000000006,
           3,
           272
          ],
          [
           41.89999999999989,
           13,
           273
          ],
          [
           98.99999999999997,
           11,
           274
          ],
          [
           16.300000000000097,
           7,
           275
          ],
          [
           26.900000000000006,
           7,
           276
          ],
          [
           20.30000000000004,
           11,
           277
          ],
          [
           18.900000000000006,
           11,
           278
          ],
          [
           39.1999999999999,
           7,
           279
          ],
          [
           32.49999999999997,
           9,
           280
          ],
          [
           -9.500000000000199,
           9,
           281
          ],
          [
           40.40000000000006,
           11,
           282
          ],
          [
           77.69999999999996,
           11,
           283
          ],
          [
           18.99999999999997,
           7,
           284
          ],
          [
           38.69999999999985,
           9,
           285
          ],
          [
           2.099999999999824,
           7,
           286
          ],
          [
           46.40000000000006,
           10,
           287
          ],
          [
           75.4999999999998,
           10,
           288
          ],
          [
           53.99999999999997,
           11,
           289
          ],
          [
           17.900000000000006,
           11,
           290
          ],
          [
           41.1999999999999,
           7,
           291
          ],
          [
           6.699999999999903,
           7,
           292
          ],
          [
           -29.500000000000085,
           9,
           293
          ],
          [
           18.100000000000165,
           11,
           294
          ],
          [
           43.30000000000004,
           9,
           295
          ],
          [
           41.90000000000012,
           9,
           296
          ],
          [
           38.39999999999995,
           4,
           297
          ],
          [
           26.300000000000097,
           5,
           298
          ],
          [
           29.900000000000063,
           7,
           299
          ],
          [
           60.40000000000006,
           7,
           300
          ],
          [
           16.099999999999937,
           7,
           301
          ],
          [
           75.29999999999998,
           10,
           302
          ],
          [
           -9.700000000000017,
           5,
           303
          ],
          [
           6.700000000000074,
           9,
           304
          ],
          [
           7.499999999999915,
           9,
           305
          ],
          [
           29.500000000000142,
           9,
           306
          ],
          [
           -4.999999999999915,
           9,
           307
          ],
          [
           40.49999999999997,
           3,
           308
          ],
          [
           19.900000000000006,
           9,
           309
          ],
          [
           -19.5000000000002,
           9,
           310
          ],
          [
           25.700000000000074,
           9,
           311
          ],
          [
           48.29999999999987,
           11,
           312
          ],
          [
           10.400000000000063,
           10,
           313
          ],
          [
           -36.90000000000006,
           9,
           314
          ],
          [
           6.799999999999926,
           9,
           315
          ],
          [
           39.1999999999999,
           10,
           316
          ],
          [
           2.200000000000017,
           8,
           317
          ],
          [
           61.10000000000005,
           7,
           318
          ],
          [
           67.10000000000005,
           9,
           319
          ],
          [
           61.90000000000012,
           13,
           320
          ],
          [
           50.29999999999998,
           7,
           321
          ],
          [
           51.20000000000002,
           5,
           322
          ],
          [
           55.19999999999996,
           8,
           323
          ],
          [
           47.99999999999997,
           5,
           324
          ],
          [
           -7.299999999999926,
           7,
           325
          ],
          [
           7.700000000000074,
           5,
           326
          ],
          [
           6.299999999999926,
           11,
           327
          ],
          [
           65.3000000000001,
           11,
           328
          ],
          [
           4.399999999999949,
           4,
           329
          ],
          [
           66.09999999999994,
           11,
           330
          ],
          [
           -10.499999999999972,
           11,
           331
          ],
          [
           78.00000000000009,
           5,
           332
          ],
          [
           51.69999999999996,
           7,
           333
          ],
          [
           61.29999999999998,
           5,
           334
          ],
          [
           -27.299999999999983,
           15,
           335
          ],
          [
           8.300000000000097,
           5,
           336
          ],
          [
           43.40000000000006,
           8,
           337
          ],
          [
           22.09999999999988,
           15,
           338
          ],
          [
           -7.30000000000004,
           7,
           339
          ],
          [
           44.39999999999995,
           3,
           340
          ],
          [
           18.299999999999983,
           7,
           341
          ],
          [
           1.0999999999998238,
           9,
           342
          ],
          [
           29.799999999999926,
           7,
           343
          ],
          [
           11.69999999999996,
           7,
           344
          ],
          [
           34.10000000000005,
           7,
           345
          ],
          [
           43.60000000000005,
           7,
           346
          ],
          [
           53.29999999999987,
           13,
           347
          ],
          [
           48.700000000000074,
           9,
           348
          ],
          [
           12.499999999999915,
           9,
           349
          ],
          [
           44.69999999999996,
           9,
           350
          ],
          [
           45.900000000000006,
           9,
           351
          ],
          [
           39.29999999999998,
           7,
           352
          ],
          [
           34.29999999999998,
           7,
           353
          ],
          [
           32.29999999999998,
           9,
           354
          ],
          [
           5.100000000000051,
           7,
           355
          ],
          [
           62.40000000000006,
           3,
           356
          ],
          [
           76.69999999999996,
           11,
           357
          ],
          [
           14.099999999999824,
           9,
           358
          ],
          [
           4.600000000000108,
           9,
           359
          ],
          [
           27.10000000000005,
           7,
           360
          ],
          [
           10.100000000000051,
           11,
           361
          ],
          [
           26.10000000000005,
           7,
           362
          ],
          [
           68.9,
           13,
           363
          ],
          [
           -44.00000000000003,
           8,
           364
          ],
          [
           17.69999999999996,
           19,
           365
          ],
          [
           24.500000000000142,
           9,
           366
          ],
          [
           60.89999999999989,
           9,
           367
          ],
          [
           26.099999999999824,
           11,
           368
          ],
          [
           45.10000000000005,
           9,
           369
          ],
          [
           47.599999999999994,
           10,
           370
          ],
          [
           44.69999999999996,
           11,
           371
          ],
          [
           -23.89999999999995,
           15,
           372
          ],
          [
           64.80000000000004,
           7,
           373
          ],
          [
           18.700000000000074,
           9,
           374
          ],
          [
           59.80000000000004,
           5,
           375
          ],
          [
           53.700000000000074,
           11,
           376
          ],
          [
           14.099999999999937,
           7,
           377
          ],
          [
           63.39999999999995,
           3,
           378
          ],
          [
           79.20000000000002,
           3,
           379
          ],
          [
           28.000000000000085,
           7,
           380
          ],
          [
           44.89999999999995,
           3,
           381
          ],
          [
           -21.49999999999997,
           13,
           382
          ],
          [
           13.599999999999994,
           13,
           383
          ],
          [
           50.89999999999989,
           7,
           384
          ],
          [
           59.69999999999996,
           7,
           385
          ],
          [
           -15.70000000000013,
           13,
           386
          ],
          [
           -10.800000000000153,
           7,
           387
          ],
          [
           36.29999999999998,
           6,
           388
          ],
          [
           18.89999999999995,
           11,
           389
          ],
          [
           41.20000000000002,
           12,
           390
          ],
          [
           -13.499999999999972,
           11,
           391
          ],
          [
           48.299999999999926,
           5,
           392
          ],
          [
           -7.30000000000004,
           11,
           393
          ],
          [
           9.999999999999972,
           10,
           394
          ],
          [
           100.20000000000002,
           11,
           395
          ],
          [
           20.799999999999983,
           9,
           396
          ],
          [
           56.499999999999915,
           11,
           397
          ],
          [
           46.499999999999915,
           9,
           398
          ],
          [
           51.60000000000011,
           6,
           399
          ],
          [
           28.59999999999988,
           11,
           400
          ],
          [
           16.10000000000005,
           7,
           401
          ],
          [
           37.3000000000001,
           7,
           402
          ],
          [
           -4.500000000000199,
           13,
           403
          ],
          [
           39.30000000000004,
           15,
           404
          ],
          [
           -24.89999999999995,
           11,
           405
          ],
          [
           29.700000000000074,
           9,
           406
          ],
          [
           33.799999999999926,
           11,
           407
          ],
          [
           45.900000000000006,
           9,
           408
          ],
          [
           50.90000000000006,
           5,
           409
          ],
          [
           -4.200000000000188,
           8,
           410
          ],
          [
           79.1999999999999,
           14,
           411
          ],
          [
           56.799999999999926,
           6,
           412
          ],
          [
           5.800000000000097,
           7,
           413
          ],
          [
           64.70000000000007,
           15,
           414
          ],
          [
           68.29999999999998,
           7,
           415
          ],
          [
           20.499999999999915,
           13,
           416
          ],
          [
           4.1000000000002785,
           15,
           417
          ],
          [
           36.50000000000003,
           13,
           418
          ],
          [
           -1.6999999999999034,
           11,
           419
          ],
          [
           34.10000000000005,
           5,
           420
          ],
          [
           72.59999999999977,
           12,
           421
          ],
          [
           24.400000000000006,
           11,
           422
          ],
          [
           47.900000000000006,
           9,
           423
          ],
          [
           30.900000000000006,
           11,
           424
          ],
          [
           44.599999999999994,
           8,
           425
          ],
          [
           47.29999999999998,
           13,
           426
          ],
          [
           67.09999999999994,
           9,
           427
          ],
          [
           1.6999999999998465,
           7,
           428
          ],
          [
           13.299999999999983,
           9,
           429
          ],
          [
           35.09999999999994,
           11,
           430
          ],
          [
           65.39999999999984,
           12,
           431
          ],
          [
           55.89999999999989,
           11,
           432
          ],
          [
           49.900000000000006,
           15,
           433
          ],
          [
           40.499999999999915,
           9,
           434
          ],
          [
           8.69999999999996,
           9,
           435
          ],
          [
           -3.899999999999949,
           11,
           436
          ],
          [
           43.60000000000011,
           5,
           437
          ],
          [
           10.299999999999983,
           5,
           438
          ],
          [
           -8.900000000000063,
           5,
           439
          ],
          [
           16.499999999999915,
           9,
           440
          ],
          [
           56.09999999999994,
           5,
           441
          ],
          [
           10.299999999999983,
           9,
           442
          ],
          [
           29.099999999999937,
           7,
           443
          ],
          [
           28.00000000000003,
           11,
           444
          ],
          [
           64.69999999999996,
           9,
           445
          ],
          [
           14.799999999999926,
           10,
           446
          ],
          [
           11.499999999999915,
           13,
           447
          ],
          [
           66.20000000000002,
           6,
           448
          ],
          [
           5.299999999999983,
           7,
           449
          ],
          [
           19.400000000000063,
           6,
           450
          ],
          [
           -2.6999999999999034,
           11,
           451
          ],
          [
           70.40000000000018,
           11,
           452
          ],
          [
           15.70000000000013,
           7,
           453
          ],
          [
           69.20000000000007,
           5,
           454
          ],
          [
           48.40000000000006,
           12,
           455
          ],
          [
           37.09999999999994,
           9,
           456
          ],
          [
           74.69999999999996,
           9,
           457
          ],
          [
           -17.499999999999858,
           9,
           458
          ],
          [
           -22.99999999999997,
           9,
           459
          ],
          [
           66.50000000000003,
           4,
           460
          ],
          [
           -47.89999999999995,
           15,
           461
          ],
          [
           58.6999999999999,
           7,
           462
          ],
          [
           34.20000000000013,
           8,
           463
          ],
          [
           -36.30000000000004,
           13,
           464
          ],
          [
           48.09999999999994,
           5,
           465
          ],
          [
           7.400000000000006,
           13,
           466
          ],
          [
           20.099999999999824,
           9,
           467
          ],
          [
           43.69999999999996,
           5,
           468
          ],
          [
           66.70000000000002,
           7,
           469
          ],
          [
           28.099999999999937,
           7,
           470
          ],
          [
           56.0000000000002,
           7,
           471
          ],
          [
           -25.99999999999997,
           11,
           472
          ],
          [
           46.39999999999995,
           14,
           473
          ],
          [
           27.800000000000097,
           5,
           474
          ],
          [
           -13.499999999999972,
           9,
           475
          ],
          [
           49.00000000000014,
           13,
           476
          ],
          [
           15.80000000000004,
           9,
           477
          ],
          [
           -19.099999999999994,
           11,
           478
          ],
          [
           -4.099999999999994,
           7,
           479
          ],
          [
           46.80000000000004,
           7,
           480
          ],
          [
           43.09999999999994,
           7,
           481
          ],
          [
           20.69999999999996,
           9,
           482
          ],
          [
           34.90000000000006,
           13,
           483
          ],
          [
           48.39999999999995,
           7,
           484
          ],
          [
           45.799999999999926,
           9,
           485
          ],
          [
           -1.0999999999999943,
           7,
           486
          ],
          [
           60.1999999999999,
           7,
           487
          ],
          [
           8.90000000000012,
           15,
           488
          ],
          [
           -0.5000000000000853,
           9,
           489
          ],
          [
           -22.200000000000017,
           9,
           490
          ],
          [
           27.69999999999996,
           9,
           491
          ],
          [
           58.700000000000074,
           8,
           492
          ],
          [
           38.499999999999915,
           11,
           493
          ],
          [
           -12.900000000000006,
           11,
           494
          ],
          [
           27.099999999999937,
           9,
           495
          ],
          [
           15.499999999999915,
           7,
           496
          ],
          [
           19.10000000000005,
           13,
           497
          ],
          [
           49.70000000000013,
           13,
           498
          ],
          [
           28.400000000000176,
           7,
           499
          ],
          [
           32.499999999999915,
           11,
           500
          ],
          [
           -30.10000000000005,
           9,
           501
          ],
          [
           49.50000000000003,
           7,
           502
          ],
          [
           14.600000000000051,
           7,
           503
          ],
          [
           50.700000000000074,
           5,
           504
          ],
          [
           69.49999999999986,
           5,
           505
          ],
          [
           30.599999999999994,
           8,
           506
          ],
          [
           69.79999999999998,
           9,
           507
          ],
          [
           23.099999999999994,
           13,
           508
          ],
          [
           37.499999999999915,
           7,
           509
          ],
          [
           53.79999999999998,
           11,
           510
          ],
          [
           -2.30000000000004,
           13,
           511
          ],
          [
           -1.7000000000002444,
           11,
           512
          ],
          [
           66.20000000000024,
           11,
           513
          ],
          [
           -0.3000000000000398,
           13,
           514
          ],
          [
           9.900000000000006,
           7,
           515
          ],
          [
           44.89999999999995,
           3,
           516
          ],
          [
           41.59999999999977,
           9,
           517
          ],
          [
           52.1999999999999,
           6,
           518
          ],
          [
           13.199999999999847,
           9,
           519
          ],
          [
           14.899999999999892,
           5,
           520
          ],
          [
           51.700000000000074,
           5,
           521
          ],
          [
           25.299999999999983,
           7,
           522
          ],
          [
           -0.10000000000005116,
           7,
           523
          ],
          [
           19.700000000000074,
           5,
           524
          ],
          [
           8.000000000000028,
           13,
           525
          ],
          [
           67.3000000000001,
           9,
           526
          ],
          [
           52.29999999999987,
           9,
           527
          ],
          [
           23.499999999999915,
           15,
           528
          ],
          [
           -0.8999999999999488,
           11,
           529
          ],
          [
           40.39999999999995,
           5,
           530
          ],
          [
           59.000000000000085,
           8,
           531
          ],
          [
           64.29999999999993,
           5,
           532
          ],
          [
           21.900000000000006,
           5,
           533
          ],
          [
           44.10000000000005,
           11,
           534
          ],
          [
           55.09999999999994,
           11,
           535
          ],
          [
           39.599999999999994,
           5,
           536
          ],
          [
           22.200000000000244,
           13,
           537
          ],
          [
           25.800000000000097,
           7,
           538
          ],
          [
           -8.099999999999994,
           7,
           539
          ],
          [
           30.499999999999858,
           7,
           540
          ],
          [
           6.000000000000085,
           7,
           541
          ],
          [
           45.3000000000001,
           11,
           542
          ],
          [
           -22.89999999999995,
           9,
           543
          ],
          [
           35.69999999999996,
           9,
           544
          ],
          [
           -6.700000000000131,
           15,
           545
          ],
          [
           38.89999999999978,
           9,
           546
          ],
          [
           41.90000000000006,
           11,
           547
          ],
          [
           23.90000000000012,
           11,
           548
          ],
          [
           19.499999999999915,
           9,
           549
          ],
          [
           17.999999999999915,
           9,
           550
          ],
          [
           5.19999999999996,
           7,
           551
          ],
          [
           16.499999999999915,
           13,
           552
          ],
          [
           67.60000000000016,
           9,
           553
          ],
          [
           -38.70000000000002,
           11,
           554
          ],
          [
           25.299999999999983,
           5,
           555
          ],
          [
           27.499999999999915,
           7,
           556
          ],
          [
           30.899999999999892,
           11,
           557
          ],
          [
           52.600000000000165,
           17,
           558
          ],
          [
           42.89999999999989,
           15,
           559
          ],
          [
           5.300000000000097,
           7,
           560
          ],
          [
           -16.900000000000063,
           9,
           561
          ],
          [
           53.20000000000002,
           9,
           562
          ],
          [
           6.69999999999996,
           7,
           563
          ],
          [
           34.29999999999998,
           5,
           564
          ],
          [
           -10.099999999999994,
           13,
           565
          ],
          [
           30.299999999999983,
           11,
           566
          ],
          [
           62.10000000000005,
           13,
           567
          ],
          [
           25.00000000000003,
           7,
           568
          ],
          [
           -25.099999999999767,
           13,
           569
          ],
          [
           68.89999999999978,
           11,
           570
          ],
          [
           35.799999999999926,
           5,
           571
          ],
          [
           48.799999999999926,
           3,
           572
          ],
          [
           96.70000000000002,
           5,
           573
          ],
          [
           72.89999999999995,
           11,
           574
          ],
          [
           36.09999999999994,
           11,
           575
          ],
          [
           18.99999999999997,
           7,
           576
          ],
          [
           73.9,
           9,
           577
          ],
          [
           76.40000000000006,
           5,
           578
          ],
          [
           29.499999999999915,
           7,
           579
          ],
          [
           39.99999999999986,
           6,
           580
          ],
          [
           -6.69999999999996,
           13,
           581
          ],
          [
           24.299999999999983,
           7,
           582
          ],
          [
           79.99999999999997,
           3,
           583
          ],
          [
           72.40000000000006,
           7,
           584
          ],
          [
           42.09999999999977,
           11,
           585
          ],
          [
           107.00000000000014,
           9,
           586
          ],
          [
           -36.900000000000176,
           7,
           587
          ],
          [
           42.10000000000005,
           15,
           588
          ],
          [
           61.29999999999998,
           11,
           589
          ],
          [
           32.90000000000012,
           5,
           590
          ],
          [
           63.400000000000006,
           7,
           591
          ],
          [
           33.200000000000074,
           11,
           592
          ],
          [
           29.300000000000097,
           5,
           593
          ],
          [
           32.69999999999985,
           13,
           594
          ],
          [
           61.80000000000004,
           7,
           595
          ],
          [
           85.00000000000009,
           9,
           596
          ],
          [
           49.09999999999988,
           9,
           597
          ],
          [
           35.499999999999915,
           9,
           598
          ],
          [
           11.299999999999983,
           11,
           599
          ],
          [
           -3.5000000000000853,
           9,
           600
          ],
          [
           -60.70000000000013,
           9,
           601
          ],
          [
           50.89999999999989,
           7,
           602
          ],
          [
           42.10000000000005,
           9,
           603
          ],
          [
           16.000000000000085,
           12,
           604
          ],
          [
           50.29999999999998,
           11,
           605
          ],
          [
           -22.099999999999994,
           13,
           606
          ],
          [
           14.400000000000063,
           7,
           607
          ],
          [
           34.29999999999998,
           7,
           608
          ],
          [
           26.899999999999892,
           11,
           609
          ],
          [
           11.800000000000153,
           11,
           610
          ],
          [
           21.900000000000006,
           5,
           611
          ],
          [
           39.09999999999994,
           6,
           612
          ],
          [
           42.900000000000006,
           5,
           613
          ],
          [
           -2.600000000000165,
           11,
           614
          ],
          [
           24.099999999999937,
           9,
           615
          ],
          [
           65.39999999999984,
           5,
           616
          ],
          [
           11.80000000000004,
           15,
           617
          ],
          [
           -52.89999999999995,
           13,
           618
          ],
          [
           66.50000000000009,
           3,
           619
          ],
          [
           19.700000000000074,
           5,
           620
          ],
          [
           40.10000000000005,
           9,
           621
          ],
          [
           62.499999999999915,
           9,
           622
          ],
          [
           33.599999999999994,
           3,
           623
          ],
          [
           37.29999999999987,
           7,
           624
          ],
          [
           63.80000000000004,
           7,
           625
          ],
          [
           42.900000000000006,
           5,
           626
          ],
          [
           -5.80000000000004,
           7,
           627
          ],
          [
           104.39999999999995,
           12,
           628
          ],
          [
           -8.499999999999858,
           11,
           629
          ],
          [
           5.499999999999915,
           7,
           630
          ],
          [
           22.499999999999915,
           11,
           631
          ],
          [
           28.800000000000267,
           11,
           632
          ],
          [
           32.10000000000005,
           7,
           633
          ],
          [
           -20.89999999999995,
           11,
           634
          ],
          [
           44.19999999999996,
           11,
           635
          ],
          [
           -36.000000000000085,
           15,
           636
          ],
          [
           -6.099999999999994,
           9,
           637
          ],
          [
           37.29999999999998,
           7,
           638
          ],
          [
           21.500000000000142,
           11,
           639
          ],
          [
           12.499999999999915,
           7,
           640
          ],
          [
           21.900000000000006,
           13,
           641
          ],
          [
           42.29999999999998,
           5,
           642
          ],
          [
           79.20000000000002,
           3,
           643
          ],
          [
           36.099999999999994,
           13,
           644
          ],
          [
           12.499999999999915,
           7,
           645
          ],
          [
           67.00000000000009,
           10,
           646
          ],
          [
           85.00000000000003,
           9,
           647
          ],
          [
           53.80000000000004,
           3,
           648
          ],
          [
           1.6999999999999602,
           5,
           649
          ],
          [
           43.900000000000006,
           7,
           650
          ],
          [
           34.69999999999996,
           2,
           651
          ],
          [
           68.29999999999998,
           7,
           652
          ],
          [
           65.70000000000013,
           5,
           653
          ],
          [
           -42.30000000000004,
           9,
           654
          ],
          [
           30.900000000000006,
           7,
           655
          ],
          [
           25.29999999999987,
           8,
           656
          ],
          [
           -4.30000000000004,
           9,
           657
          ],
          [
           -16.599999999999767,
           15,
           658
          ],
          [
           65.79999999999993,
           5,
           659
          ],
          [
           16.200000000000074,
           7,
           660
          ],
          [
           -9.100000000000108,
           9,
           661
          ],
          [
           43.99999999999997,
           7,
           662
          ],
          [
           33.3000000000001,
           7,
           663
          ],
          [
           46.09999999999994,
           7,
           664
          ],
          [
           -22.199999999999847,
           15,
           665
          ],
          [
           43.20000000000013,
           15,
           666
          ],
          [
           35.099999999999824,
           11,
           667
          ],
          [
           -4.499999999999972,
           9,
           668
          ],
          [
           -24.70000000000013,
           9,
           669
          ],
          [
           17.500000000000142,
           9,
           670
          ],
          [
           14.400000000000063,
           9,
           671
          ],
          [
           -1.6999999999999034,
           9,
           672
          ],
          [
           -10.500000000000085,
           13,
           673
          ],
          [
           28.199999999999903,
           5,
           674
          ],
          [
           63.899999999999835,
           11,
           675
          ],
          [
           30.299999999999983,
           11,
           676
          ],
          [
           54.59999999999988,
           6,
           677
          ],
          [
           90.99999999999997,
           10,
           678
          ],
          [
           -3.7000000000001307,
           7,
           679
          ],
          [
           20.899999999999892,
           13,
           680
          ],
          [
           24.400000000000063,
           5,
           681
          ],
          [
           -13.200000000000074,
           8,
           682
          ],
          [
           32.29999999999987,
           9,
           683
          ],
          [
           42.60000000000011,
           7,
           684
          ],
          [
           20.300000000000097,
           11,
           685
          ],
          [
           90.39999999999995,
           5,
           686
          ],
          [
           57.3000000000001,
           9,
           687
          ],
          [
           80.50000000000003,
           8,
           688
          ],
          [
           13.900000000000006,
           11,
           689
          ],
          [
           21.800000000000153,
           7,
           690
          ],
          [
           0.7000000000000739,
           9,
           691
          ],
          [
           65.20000000000007,
           13,
           692
          ],
          [
           28.60000000000005,
           5,
           693
          ],
          [
           28.599999999999994,
           5,
           694
          ],
          [
           45.599999999999994,
           8,
           695
          ],
          [
           -17.999999999999915,
           10,
           696
          ],
          [
           26.69999999999996,
           9,
           697
          ],
          [
           8.599999999999994,
           5,
           698
          ],
          [
           43.69999999999996,
           11,
           699
          ],
          [
           35.09999999999994,
           7,
           700
          ],
          [
           56.80000000000004,
           8,
           701
          ],
          [
           -2.30000000000004,
           15,
           702
          ],
          [
           -47.30000000000015,
           11,
           703
          ],
          [
           15.499999999999915,
           7,
           704
          ],
          [
           61.29999999999998,
           7,
           705
          ],
          [
           49.60000000000005,
           11,
           706
          ],
          [
           38.500000000000085,
           11,
           707
          ],
          [
           -2.100000000000108,
           11,
           708
          ],
          [
           38.59999999999988,
           9,
           709
          ],
          [
           54.20000000000002,
           5,
           710
          ],
          [
           34.900000000000006,
           5,
           711
          ],
          [
           55.499999999999915,
           11,
           712
          ],
          [
           45.69999999999996,
           8,
           713
          ],
          [
           82.20000000000019,
           11,
           714
          ],
          [
           49.30000000000004,
           7,
           715
          ],
          [
           36.70000000000013,
           13,
           716
          ],
          [
           55.09999999999988,
           9,
           717
          ],
          [
           22.800000000000097,
           7,
           718
          ],
          [
           21.10000000000005,
           9,
           719
          ],
          [
           64.69999999999996,
           9,
           720
          ],
          [
           17.59999999999988,
           9,
           721
          ],
          [
           58.09999999999994,
           7,
           722
          ],
          [
           -4.30000000000004,
           9,
           723
          ],
          [
           8.099999999999937,
           7,
           724
          ],
          [
           59.29999999999998,
           13,
           725
          ],
          [
           6.299999999999869,
           11,
           726
          ],
          [
           95.40000000000006,
           5,
           727
          ],
          [
           7.499999999999858,
           9,
           728
          ],
          [
           51.700000000000074,
           11,
           729
          ],
          [
           42.9999999999998,
           11,
           730
          ],
          [
           34.10000000000005,
           5,
           731
          ],
          [
           54.10000000000005,
           9,
           732
          ],
          [
           85.00000000000009,
           9,
           733
          ],
          [
           70.69999999999996,
           11,
           734
          ],
          [
           24.69999999999996,
           11,
           735
          ],
          [
           42.10000000000005,
           5,
           736
          ],
          [
           -9.500000000000085,
           13,
           737
          ],
          [
           45.10000000000005,
           11,
           738
          ],
          [
           31.50000000000003,
           7,
           739
          ],
          [
           36.90000000000012,
           11,
           740
          ],
          [
           -19.30000000000004,
           9,
           741
          ],
          [
           19.99999999999997,
           8,
           742
          ],
          [
           43.399999999999835,
           9,
           743
          ],
          [
           32.900000000000006,
           9,
           744
          ],
          [
           74.40000000000006,
           11,
           745
          ],
          [
           3.299999999999983,
           9,
           746
          ],
          [
           48.400000000000006,
           5,
           747
          ],
          [
           -16.099999999999937,
           11,
           748
          ],
          [
           -7.699999999999903,
           11,
           749
          ],
          [
           8.899999999999835,
           13,
           750
          ],
          [
           66.70000000000007,
           13,
           751
          ],
          [
           -0.2999999999998124,
           11,
           752
          ],
          [
           19.099999999999937,
           5,
           753
          ],
          [
           44.89999999999995,
           3,
           754
          ],
          [
           10.099999999999937,
           9,
           755
          ],
          [
           71.40000000000006,
           6,
           756
          ],
          [
           39.29999999999998,
           9,
           757
          ],
          [
           -28.100000000000108,
           13,
           758
          ],
          [
           40.900000000000006,
           9,
           759
          ],
          [
           24.099999999999937,
           9,
           760
          ],
          [
           33.60000000000011,
           6,
           761
          ],
          [
           21.600000000000108,
           7,
           762
          ],
          [
           -1.3000000000001535,
           9,
           763
          ],
          [
           -20.49999999999997,
           11,
           764
          ],
          [
           1.700000000000074,
           11,
           765
          ],
          [
           69.70000000000002,
           9,
           766
          ],
          [
           23.0000000000002,
           7,
           767
          ],
          [
           -4.5999999999999375,
           8,
           768
          ],
          [
           -4.500000000000085,
           9,
           769
          ],
          [
           -10.099999999999994,
           13,
           770
          ],
          [
           11.700000000000074,
           9,
           771
          ],
          [
           53.10000000000005,
           11,
           772
          ],
          [
           29.900000000000006,
           11,
           773
          ],
          [
           60.599999999999994,
           7,
           774
          ],
          [
           -10.900000000000063,
           7,
           775
          ],
          [
           23.700000000000074,
           7,
           776
          ],
          [
           9.30000000000004,
           11,
           777
          ],
          [
           25.59999999999988,
           9,
           778
          ],
          [
           34.99999999999997,
           12,
           779
          ],
          [
           8.399999999999949,
           7,
           780
          ],
          [
           6.0999999999999375,
           5,
           781
          ],
          [
           45.39999999999995,
           10,
           782
          ],
          [
           66.00000000000009,
           3,
           783
          ],
          [
           19.000000000000142,
           9,
           784
          ],
          [
           56.900000000000006,
           7,
           785
          ],
          [
           60.29999999999998,
           7,
           786
          ],
          [
           52.499999999999915,
           7,
           787
          ],
          [
           37.099999999999824,
           9,
           788
          ],
          [
           30.69999999999996,
           3,
           789
          ],
          [
           -9.499999999999972,
           9,
           790
          ],
          [
           35.69999999999996,
           11,
           791
          ],
          [
           38.200000000000244,
           9,
           792
          ],
          [
           -16.299999999999926,
           9,
           793
          ],
          [
           16.099999999999937,
           9,
           794
          ],
          [
           35.10000000000005,
           7,
           795
          ],
          [
           36.50000000000003,
           5,
           796
          ],
          [
           65.79999999999993,
           5,
           797
          ],
          [
           12.499999999999915,
           11,
           798
          ],
          [
           5.299999999999926,
           7,
           799
          ],
          [
           -12.700000000000017,
           9,
           800
          ],
          [
           21.700000000000017,
           7,
           801
          ],
          [
           90.1,
           12,
           802
          ],
          [
           29.300000000000097,
           9,
           803
          ],
          [
           -14.19999999999996,
           12,
           804
          ],
          [
           -15.80000000000004,
           9,
           805
          ],
          [
           31.799999999999926,
           3,
           806
          ],
          [
           68.40000000000006,
           9,
           807
          ],
          [
           11.69999999999996,
           11,
           808
          ],
          [
           80.30000000000004,
           5,
           809
          ],
          [
           43.70000000000002,
           3,
           810
          ],
          [
           12.400000000000006,
           7,
           811
          ],
          [
           52.39999999999995,
           7,
           812
          ],
          [
           1.0999999999999375,
           9,
           813
          ],
          [
           73.89999999999984,
           11,
           814
          ],
          [
           36.70000000000019,
           11,
           815
          ],
          [
           10.600000000000108,
           12,
           816
          ],
          [
           -4.599999999999994,
           9,
           817
          ],
          [
           99.09999999999994,
           8,
           818
          ],
          [
           29.900000000000006,
           5,
           819
          ],
          [
           98.9,
           11,
           820
          ],
          [
           22.40000000000012,
           9,
           821
          ],
          [
           32.79999999999998,
           13,
           822
          ],
          [
           47.1999999999999,
           3,
           823
          ],
          [
           11.700000000000074,
           9,
           824
          ],
          [
           3.9000000000001194,
           9,
           825
          ],
          [
           67.99999999999986,
           6,
           826
          ],
          [
           8.699999999999847,
           7,
           827
          ],
          [
           45.50000000000003,
           9,
           828
          ],
          [
           50.89999999999989,
           7,
           829
          ],
          [
           75.20000000000002,
           5,
           830
          ],
          [
           41.10000000000005,
           9,
           831
          ],
          [
           50.900000000000006,
           8,
           832
          ],
          [
           48.000000000000085,
           7,
           833
          ],
          [
           37.900000000000006,
           7,
           834
          ],
          [
           10.099999999999937,
           13,
           835
          ],
          [
           -10.900000000000063,
           9,
           836
          ],
          [
           26.299999999999983,
           9,
           837
          ],
          [
           -0.8999999999999488,
           9,
           838
          ],
          [
           36.599999999999994,
           7,
           839
          ],
          [
           43.90000000000006,
           3,
           840
          ],
          [
           92.49999999999997,
           5,
           841
          ],
          [
           53.69999999999996,
           5,
           842
          ],
          [
           -18.70000000000013,
           9,
           843
          ],
          [
           33.500000000000085,
           9,
           844
          ],
          [
           40.69999999999996,
           11,
           845
          ],
          [
           54.29999999999987,
           6,
           846
          ],
          [
           66.9,
           7,
           847
          ],
          [
           83.50000000000009,
           9,
           848
          ],
          [
           -3.30000000000004,
           11,
           849
          ],
          [
           36.50000000000014,
           11,
           850
          ],
          [
           20.299999999999983,
           9,
           851
          ],
          [
           18.099999999999937,
           7,
           852
          ],
          [
           12.500000000000028,
           9,
           853
          ],
          [
           107.60000000000011,
           5,
           854
          ],
          [
           22.799999999999983,
           10,
           855
          ],
          [
           13.69999999999996,
           5,
           856
          ],
          [
           40.90000000000012,
           5,
           857
          ],
          [
           -6.30000000000004,
           15,
           858
          ],
          [
           35.10000000000005,
           11,
           859
          ],
          [
           36.799999999999926,
           4,
           860
          ],
          [
           32.100000000000165,
           7,
           861
          ],
          [
           -10.700000000000017,
           11,
           862
          ],
          [
           38.10000000000005,
           11,
           863
          ],
          [
           11.69999999999996,
           7,
           864
          ],
          [
           37.89999999999989,
           5,
           865
          ],
          [
           -48.89999999999989,
           11,
           866
          ],
          [
           11.900000000000176,
           19,
           867
          ],
          [
           69.10000000000005,
           13,
           868
          ],
          [
           17.299999999999983,
           11,
           869
          ],
          [
           11.900000000000006,
           9,
           870
          ],
          [
           106.60000000000005,
           9,
           871
          ],
          [
           -14.69999999999996,
           11,
           872
          ],
          [
           17.300000000000097,
           9,
           873
          ],
          [
           76.50000000000009,
           9,
           874
          ],
          [
           -21.500000000000085,
           7,
           875
          ],
          [
           36.29999999999998,
           5,
           876
          ],
          [
           -31.100000000000108,
           13,
           877
          ],
          [
           54.700000000000074,
           7,
           878
          ],
          [
           -23.700000000000017,
           9,
           879
          ],
          [
           -6.9000000000000625,
           7,
           880
          ],
          [
           3.600000000000108,
           9,
           881
          ],
          [
           -16.100000000000108,
           13,
           882
          ],
          [
           43.09999999999994,
           7,
           883
          ],
          [
           19.99999999999997,
           4,
           884
          ],
          [
           84.90000000000006,
           9,
           885
          ],
          [
           37.09999999999994,
           5,
           886
          ],
          [
           60.500000000000085,
           9,
           887
          ],
          [
           24.69999999999996,
           7,
           888
          ],
          [
           37.59999999999988,
           4,
           889
          ],
          [
           65.59999999999994,
           9,
           890
          ],
          [
           -1.3000000000001535,
           13,
           891
          ],
          [
           34.900000000000006,
           3,
           892
          ],
          [
           22.500000000000085,
           11,
           893
          ],
          [
           23.799999999999926,
           6,
           894
          ],
          [
           -2.700000000000017,
           13,
           895
          ],
          [
           11.299999999999983,
           5,
           896
          ],
          [
           12.499999999999915,
           7,
           897
          ],
          [
           49.50000000000003,
           9,
           898
          ],
          [
           14.899999999999892,
           9,
           899
          ],
          [
           68.29999999999998,
           7,
           900
          ],
          [
           24.29999999999987,
           9,
           901
          ],
          [
           19.89999999999995,
           9,
           902
          ],
          [
           69.29999999999976,
           13,
           903
          ],
          [
           -4.899999999999949,
           9,
           904
          ],
          [
           0.7000000000001876,
           13,
           905
          ],
          [
           68.40000000000006,
           7,
           906
          ],
          [
           74.40000000000006,
           11,
           907
          ],
          [
           36.99999999999997,
           7,
           908
          ],
          [
           37.29999999999998,
           9,
           909
          ],
          [
           31.099999999999937,
           9,
           910
          ],
          [
           32.29999999999987,
           5,
           911
          ],
          [
           55.70000000000019,
           11,
           912
          ],
          [
           21.900000000000006,
           5,
           913
          ],
          [
           -11.900000000000063,
           11,
           914
          ],
          [
           27.700000000000074,
           7,
           915
          ],
          [
           57.99999999999986,
           10,
           916
          ],
          [
           -32.30000000000004,
           13,
           917
          ],
          [
           1.2999999999998693,
           15,
           918
          ],
          [
           -0.399999999999892,
           11,
           919
          ],
          [
           59.50000000000014,
           9,
           920
          ],
          [
           69.09999999999994,
           5,
           921
          ],
          [
           -15.099999999999994,
           9,
           922
          ],
          [
           43.500000000000085,
           7,
           923
          ],
          [
           -22.30000000000004,
           9,
           924
          ],
          [
           17.499999999999915,
           9,
           925
          ],
          [
           53.20000000000013,
           11,
           926
          ],
          [
           33.900000000000006,
           5,
           927
          ],
          [
           28.800000000000153,
           9,
           928
          ],
          [
           53.29999999999998,
           11,
           929
          ],
          [
           51.899999999999835,
           9,
           930
          ],
          [
           17.200000000000188,
           7,
           931
          ],
          [
           49.799999999999926,
           8,
           932
          ],
          [
           46.200000000000074,
           7,
           933
          ],
          [
           61.10000000000005,
           9,
           934
          ],
          [
           8.799999999999926,
           9,
           935
          ],
          [
           1.0999999999999943,
           13,
           936
          ],
          [
           24.199999999999903,
           5,
           937
          ],
          [
           70.3000000000001,
           13,
           938
          ],
          [
           -38.80000000000004,
           9,
           939
          ],
          [
           -18.299999999999812,
           11,
           940
          ],
          [
           6.0999999999999375,
           5,
           941
          ],
          [
           17.900000000000063,
           7,
           942
          ],
          [
           52.29999999999987,
           9,
           943
          ],
          [
           43.099999999999824,
           7,
           944
          ],
          [
           55.09999999999994,
           7,
           945
          ],
          [
           31.499999999999915,
           5,
           946
          ],
          [
           -17.300000000000153,
           11,
           947
          ],
          [
           54.10000000000005,
           13,
           948
          ],
          [
           27.69999999999996,
           7,
           949
          ],
          [
           13.499999999999915,
           7,
           950
          ],
          [
           67.1,
           5,
           951
          ],
          [
           -8.299999999999812,
           9,
           952
          ],
          [
           24.50000000000003,
           7,
           953
          ],
          [
           28.299999999999983,
           11,
           954
          ],
          [
           87.39999999999995,
           9,
           955
          ],
          [
           57.000000000000085,
           7,
           956
          ],
          [
           39.09999999999994,
           13,
           957
          ],
          [
           45.49999999999997,
           11,
           958
          ],
          [
           61.10000000000005,
           7,
           959
          ],
          [
           4.0999999999999375,
           11,
           960
          ],
          [
           43.20000000000002,
           6,
           961
          ],
          [
           26.89999999999978,
           11,
           962
          ],
          [
           55.29999999999998,
           5,
           963
          ],
          [
           42.69999999999985,
           13,
           964
          ],
          [
           89.30000000000004,
           11,
           965
          ],
          [
           45.29999999999998,
           11,
           966
          ],
          [
           33.09999999999994,
           13,
           967
          ],
          [
           -15.100000000000108,
           7,
           968
          ],
          [
           45.0000000000002,
           7,
           969
          ],
          [
           -0.399999999999892,
           9,
           970
          ],
          [
           85.10000000000016,
           10,
           971
          ],
          [
           24.99999999999997,
           7,
           972
          ],
          [
           31.300000000000153,
           11,
           973
          ],
          [
           -5.400000000000006,
           12,
           974
          ],
          [
           54.70000000000013,
           8,
           975
          ],
          [
           54.900000000000006,
           13,
           976
          ],
          [
           52.39999999999995,
           7,
           977
          ],
          [
           65.70000000000002,
           5,
           978
          ],
          [
           29.700000000000074,
           12,
           979
          ],
          [
           60.29999999999998,
           5,
           980
          ],
          [
           -20.5000000000002,
           13,
           981
          ],
          [
           56.299999999999926,
           5,
           982
          ],
          [
           48.499999999999915,
           7,
           983
          ],
          [
           24.30000000000004,
           12,
           984
          ],
          [
           85.79999999999998,
           9,
           985
          ],
          [
           -9.099999999999994,
           9,
           986
          ],
          [
           32.29999999999987,
           7,
           987
          ],
          [
           65.20000000000002,
           5,
           988
          ],
          [
           25.499999999999915,
           9,
           989
          ],
          [
           51.700000000000074,
           9,
           990
          ],
          [
           42.10000000000005,
           5,
           991
          ],
          [
           49.20000000000002,
           10,
           992
          ],
          [
           16.099999999999824,
           13,
           993
          ],
          [
           16.699999999999903,
           7,
           994
          ],
          [
           -8.500000000000085,
           11,
           995
          ],
          [
           67.50000000000003,
           5,
           996
          ],
          [
           58.80000000000015,
           17,
           997
          ],
          [
           2.700000000000074,
           17,
           998
          ],
          [
           27.900000000000006,
           7,
           999
          ],
          [
           64.20000000000002,
           3,
           1000
          ]
         ],
         "fillcolor": "rgba(255,255,255,0)",
         "hoveron": "points",
         "hovertemplate": "model_type=PPO<br>fmt_total_profit_percentage=%{x}<br>total_reward_cash=%{customdata[0]}<br>num_of_trades=%{customdata[1]}<br>sim_id=%{customdata[2]}<extra></extra>",
         "jitter": 0,
         "legendgroup": "PPO",
         "line": {
          "color": "rgba(255,255,255,0)"
         },
         "marker": {
          "color": "#FF7F0E",
          "symbol": "line-ns-open"
         },
         "name": "PPO",
         "offsetgroup": "PPO",
         "showlegend": false,
         "type": "box",
         "x": [
          18.874573610724667,
          10.239722453184674,
          -0.3043713454052077,
          21.678703723058092,
          10.43918685208174,
          4.2419613877220375,
          9.906725781163562,
          11.160594568326765,
          21.568597504840923,
          6.982307780270158,
          5.777478106802647,
          31.281350673980903,
          5.162876853578635,
          26.836796172314692,
          -7.042196368012443,
          26.486520409558434,
          15.665375388128421,
          9.06422863495624,
          19.44785477141917,
          -0.8402773988000933,
          6.4309034131476706,
          8.871117456705079,
          1.6941181503396185,
          13.693439528939289,
          10.885038032986794,
          12.858982521547224,
          20.059806436414096,
          24.066278205697532,
          5.216217812561941,
          21.466033537218454,
          39.916997410278434,
          7.148543281657704,
          20.78432701662272,
          20.751540533668056,
          12.876915858232096,
          48.34311580335759,
          4.4306298152337,
          3.7794219822214314,
          4.184393074060799,
          7.8086303009864855,
          -10.162674808124695,
          16.766408214869987,
          5.030345191167762,
          12.670419906572183,
          3.3499661257187396,
          9.449161328723864,
          -8.063710339947228,
          14.332066713669999,
          5.879769747309327,
          16.41365193089699,
          26.88545492945311,
          13.51396924317909,
          27.51354571538538,
          28.79512903160366,
          12.211221533345062,
          18.164382636401943,
          17.78613400841944,
          34.07854387634644,
          28.35297728115489,
          7.649608706273847,
          17.869790460496482,
          -2.013298790972895,
          16.760387070928505,
          17.153007450743175,
          7.810383512339336,
          -0.5504011874828407,
          22.869199243210957,
          26.4104415466597,
          4.416429726591109,
          3.944488897176379,
          17.695543491063038,
          3.054893041188933,
          3.8201461889551203,
          -11.408904218555882,
          -1.3346156477716975,
          20.38290261750706,
          12.592043995284463,
          21.06605362547529,
          42.15583961610094,
          29.1797439709244,
          29.267180876903474,
          10.475930305437764,
          17.862467169497577,
          21.154902233616223,
          12.121747541888016,
          13.716583941707917,
          32.120417517180286,
          33.328063882531936,
          8.726349529558775,
          13.21485548774255,
          26.197937490395983,
          -9.53341322517639,
          11.478162654339542,
          -16.59322914730922,
          25.638294939411477,
          2.112283155895267,
          20.069832305946367,
          28.46553057906034,
          11.245070482578633,
          29.078716138946035,
          18.197564391944642,
          7.713142338756307,
          23.066573869297535,
          29.46278826359119,
          17.609703098644914,
          18.48025807139646,
          29.504621106135343,
          16.115324547115172,
          1.679982561887594,
          -1.4947768918963544,
          8.604471765450782,
          9.006825193238255,
          25.194244960209456,
          16.80788712293415,
          -4.966513599358036,
          0.8477083339160307,
          31.7525653295313,
          11.688797019579056,
          27.78806027347851,
          -8.283189699642001,
          16.036505165334102,
          4.47888466465769,
          5.437281109940506,
          31.26358388799526,
          6.884966895434896,
          13.699333422750737,
          35.08478446875331,
          40.40108252677052,
          21.331749494643848,
          19.860126311029692,
          -6.756248887533445,
          23.80291695590584,
          40.223733056261565,
          18.08751117915117,
          5.771073131710969,
          -2.3371152097838133,
          12.426738662949099,
          8.158722154335884,
          8.651704219766088,
          -5.5312927490567265,
          19.211366933132258,
          19.405196519877265,
          11.56508731895418,
          7.106685568260773,
          21.692694977377247,
          6.770108102137651,
          30.517648111610352,
          16.25243670409111,
          -3.3713442384188275,
          15.061908682554126,
          25.677460857301405,
          -18.161484022559936,
          26.27012452883728,
          14.171846083105821,
          29.55457856532453,
          1.8956646583289993,
          35.39866735151449,
          6.812402875581713,
          11.519341040662656,
          17.012521981731044,
          30.648447509709563,
          8.527430895978473,
          1.1809075128478064,
          17.41181494185664,
          25.860063414254842,
          -5.524636782256476,
          17.55512010866578,
          13.409152522178092,
          34.12992459945525,
          -1.5580348304333635,
          11.992198353962147,
          9.43062854179133,
          -11.530742388267257,
          9.53791769520973,
          -6.462087012352857,
          34.02731471468938,
          10.921371262658376,
          0.37762877956444285,
          7.731792233307222,
          10.380457503142626,
          4.9255134018791225,
          6.598016513366312,
          5.697046362573532,
          24.72492566236213,
          17.03425461036483,
          8.851049085370754,
          13.681587550508967,
          16.090304041139426,
          25.096089700340652,
          6.96458874425514,
          18.159745533389614,
          22.256896345189304,
          31.23000889976384,
          17.285461255980785,
          0.5670356785470121,
          15.99320651533751,
          5.782707363104178,
          16.439673644262598,
          0.9511289333450801,
          23.73413902393018,
          -8.15114586227763,
          11.885921608442684,
          22.616767638071302,
          1.8159346159412282,
          17.759143351131733,
          -1.9554470749161612,
          22.054168405672602,
          26.35955673766215,
          7.473088782151871,
          -2.1274552535717195,
          10.186151362032025,
          11.74451320329377,
          17.307692307692292,
          5.121043255234969,
          23.98825990292286,
          18.661777846423846,
          -0.8289194933762678,
          9.464775577770101,
          16.34215747510175,
          5.16901160771428,
          23.446117854442218,
          -15.015525980371025,
          21.343159958993873,
          29.23353600898009,
          25.32662453872685,
          0.6880219992743131,
          40.99871222843454,
          9.33978957619539,
          18.111622422237783,
          3.7404587246048226,
          -16.497126448374978,
          16.14550007781832,
          15.784950339025139,
          13.68239665189277,
          6.670624298690564,
          16.27036687745642,
          20.306988560040473,
          15.907827083229709,
          26.85522481635243,
          6.388776816334785,
          4.879722693566979,
          -2.9795588429112785,
          -0.9014951841369467,
          18.59880562373175,
          25.00428671792161,
          23.171402577157906,
          21.02838590408669,
          12.961076077554212,
          11.210863935717509,
          4.866943950647307,
          32.876906477709134,
          -4.1728722235159,
          24.909028888050244,
          -1.3240977486343009,
          20.868529994685915,
          18.516146343772498,
          12.925759008525972,
          5.546006854390395,
          4.070766672100001,
          14.686160253683589,
          20.439214767401403,
          20.3854443944371,
          4.541741470623473,
          8.632009965798805,
          7.659673139118395,
          15.392463487036402,
          10.913584273522382,
          16.241629044944418,
          5.096027962467753,
          29.55393364452188,
          48.38958434694756,
          14.560579111361172,
          16.30655461943693,
          41.190988616894344,
          7.532414365236373,
          11.74332664973312,
          7.557175478450318,
          8.301496390155405,
          15.852084402991352,
          13.753199940822336,
          -1.232647652586527,
          15.02590181893353,
          32.08979123697318,
          8.453142592261464,
          15.972673717881069,
          2.8547499356853523,
          19.18743354699659,
          31.19754653191329,
          22.150135294795792,
          8.438137699759963,
          16.816120628441556,
          3.716407729398563,
          -8.15779749011628,
          7.296054075248448,
          17.99489020389482,
          17.251833578010412,
          15.685091970526233,
          11.39199977469274,
          12.552644703943216,
          24.110081707586506,
          7.751663403240672,
          31.232897993819563,
          -1.3359399961838658,
          4.416429726591109,
          4.393151694338782,
          11.717757296568632,
          1.1284613355908135,
          16.451260994935456,
          8.923239924602267,
          -4.639922199562929,
          10.25095306378998,
          20.117089375387053,
          5.941086316606681,
          -10.942765521503016,
          4.938737888926914,
          16.23643710423417,
          1.4606448730676513,
          25.42348278991591,
          27.25594799470674,
          25.176134065883193,
          20.76167570683969,
          20.624066717781652,
          22.529939989911508,
          19.62086631646287,
          0.7159508981775975,
          3.6393947874262533,
          3.9568817553763624,
          26.803724569444974,
          3.237395941911725,
          26.722119526039535,
          -0.34096990424443696,
          32.56125123484783,
          21.88572476280781,
          25.181348155480233,
          -6.76294314068997,
          4.712014907759565,
          17.867718729509118,
          9.2858662254109,
          -0.36855871599346113,
          18.199628300821736,
          8.305726040409933,
          3.1901597016395833,
          12.410628874472284,
          6.388776816334785,
          14.35667439774555,
          17.93522770354472,
          22.11498094754667,
          20.042136951883837,
          6.950520894604306,
          18.726831367358997,
          19.0627075518357,
          15.862517474562331,
          14.726681227769834,
          14.206394470293304,
          3.6508315935361413,
          25.508627268327146,
          31.79272744201913,
          7.345353388394016,
          2.11914636887085,
          11.433180613978976,
          4.10417390829243,
          11.444946738419981,
          29.0389209817711,
          -10.927722734809088,
          7.507578220211464,
          9.095262726228137,
          25.02122888847802,
          11.242955263581344,
          17.82503699014246,
          18.78755732465569,
          18.9207672795725,
          -5.2558636558391765,
          26.792848256963907,
          8.362985863838723,
          24.501948199930546,
          21.68997211273482,
          6.862432479337244,
          26.02214819199451,
          33.062897914735245,
          11.75871453689048,
          18.23087588180541,
          -5.209463659405422,
          6.340867399584593,
          21.026417741714297,
          24.306180314047076,
          -3.161367646505131,
          -0.9345710669423246,
          14.884188057918447,
          6.287454430412898,
          16.531866690272135,
          -3.2127154543269865,
          19.55954318851758,
          -0.9398610850310352,
          6.543878180856799,
          41.9492943009226,
          9.63864596502293,
          23.0589181230483,
          19.220586004291306,
          21.14319219239713,
          11.78135464319039,
          7.480389001659615,
          15.48864816309865,
          0.2860028066421938,
          16.27734842598434,
          -7.138276191955606,
          12.723028607862453,
          13.759678076682501,
          18.385765095409635,
          20.492063538495774,
          0.44679254753139386,
          32.40602095749707,
          23.14408283685998,
          4.40760811081542,
          26.157908755079127,
          28.46553057906034,
          9.124601695271007,
          2.2973239052022976,
          15.358431428730611,
          1.3858817017457392,
          14.402183375173184,
          29.965870284692066,
          11.392242134460817,
          19.822773297741957,
          12.623830273307068,
          18.185937866938207,
          18.502882704139555,
          27.902874122445652,
          3.053169380045695,
          7.848536259450589,
          14.633451218115855,
          26.39624199575561,
          22.65268627507617,
          19.45591581582715,
          16.747703516086876,
          4.949687307837691,
          -0.44046130755740487,
          16.630679356761526,
          5.46504388174025,
          -0.8939708064428453,
          8.080733164977104,
          23.379946130450445,
          5.977831696566538,
          11.827537440399926,
          11.8109153116295,
          26.683062721790442,
          6.872719994493148,
          4.9534564626932065,
          27.17370031622015,
          3.7404587246048226,
          8.714112583676826,
          1.1063916972070098,
          28.685043096724662,
          6.315944107052518,
          28.246327393731296,
          19.956490037679742,
          15.023647620217929,
          31.23000889976384,
          -4.936888287052154,
          -5.236185556056427,
          27.301223577444024,
          -13.631313869859484,
          23.88215652639094,
          14.339383212168677,
          -9.209638007787602,
          19.301816516987415,
          2.8206579569488577,
          8.991917172674913,
          18.160527219488422,
          27.65003244260256,
          11.846285380108746,
          22.866513729818337,
          -5.699212735339964,
          18.695581827740114,
          12.499790062968819,
          -2.3982112933136235,
          19.105291361324504,
          7.441721192564876,
          -4.042809599113251,
          0.5181091820571249,
          18.978648718308342,
          17.846928359335212,
          9.275284033504661,
          15.670694807817487,
          20.02308322761721,
          18.34588222557354,
          2.5348801433599855,
          24.710908305314263,
          4.137701778187086,
          1.7485512515842183,
          -4.729214289247674,
          11.998927387609392,
          22.662472671762757,
          15.584408326510001,
          -2.103809675381918,
          11.352567305516148,
          7.607061775229895,
          7.222538431412651,
          20.554730989111604,
          10.838176027493462,
          13.70610516357158,
          -7.63405539625166,
          20.36353476511634,
          4.257374721853213,
          21.117145718482377,
          28.577656563369615,
          13.179484464539337,
          27.72827436171501,
          9.610310384097453,
          15.922359522806628,
          21.624432489682356,
          1.0394138739289183,
          1.2136268253062799,
          27.161913392205328,
          1.5505347141530512,
          5.55727623001141,
          18.23087588180541,
          16.534589254170662,
          21.336188228560403,
          7.110509925610375,
          7.148543281657704,
          21.19969234931318,
          11.154041840719442,
          1.9652677129555318,
          9.011444243823119,
          4.750690485426934,
          28.011806481299818,
          20.810527595886462,
          9.835643768490488,
          0.5301739636209835,
          16.439673644262598,
          23.92961645994731,
          26.159886316789848,
          9.87332678588173,
          17.27919094068455,
          22.579479511240265,
          16.128753426143348,
          8.106146499740241,
          8.987958183839906,
          -1.844470749473237,
          12.955999054298829,
          2.9850121863899126,
          17.805970771769154,
          -4.656413964573836,
          14.513135844307467,
          -0.2761957064873699,
          16.163170405991778,
          17.020826049042604,
          9.331797301675259,
          8.987951626362767,
          8.346125622652846,
          1.8034005626255345,
          8.2267480799185,
          27.850130162952368,
          -10.320081989441176,
          11.154041840719465,
          11.826592744358777,
          13.432187264636353,
          21.431789568569258,
          15.387806403529414,
          3.898162379577852,
          -2.8905422715585494,
          22.20998399687948,
          4.368403960739764,
          14.444722578137249,
          -1.2977508719975162,
          12.533082349231183,
          25.04110992350912,
          11.235872821737235,
          -7.399921926219677,
          27.703351399150588,
          14.885416933845352,
          20.025767429864484,
          40.979650150107446,
          29.51401943402803,
          16.209591242760425,
          8.453142592261486,
          30.032064051832585,
          31.513032947031405,
          12.422695692642272,
          16.61537811823315,
          -1.8559910302019866,
          10.751553518080836,
          33.41915718750479,
          29.663275510152953,
          17.22829927139231,
          45.225705294516175,
          -9.853693335163971,
          16.912252092160983,
          24.727933672314517,
          13.889453053133938,
          26.24274466129448,
          13.815168978146652,
          12.442667136879248,
          12.6396745221246,
          24.83118423775139,
          35.475457193146354,
          20.142837033699678,
          14.660092257919,
          5.7521318186815495,
          0.7950281144072591,
          -16.060828719187203,
          21.09348091658898,
          17.32723676853056,
          7.461818249983887,
          20.78052679183049,
          -7.154036869810421,
          6.8201514741808245,
          14.726681227769834,
          11.61543610229372,
          5.953394546388258,
          9.829619379247712,
          16.08807873249902,
          17.798133405518037,
          0.42364065260980244,
          10.150533327125633,
          26.681522282844284,
          4.990154774382871,
          -15.28674136848025,
          27.243762198909117,
          9.011444243823119,
          16.53212006432838,
          25.680547696948985,
          14.06464586845486,
          14.931193217989303,
          26.374055852557767,
          17.798133405518037,
          0.8140110299722503,
          43.3481120293401,
          -1.0969025242076103,
          3.9615899192044557,
          9.518119449550277,
          10.634240621728264,
          13.636365224770564,
          -3.9960377721295126,
          17.808221979773787,
          -10.403730394776822,
          -0.2155007581787327,
          15.671369300504479,
          9.352600752037986,
          6.256601843008069,
          7.661755115425928,
          17.57404151868358,
          33.062897914735245,
          15.263005250684735,
          6.298887344228521,
          28.422586136633644,
          35.18333980570259,
          22.013748973997018,
          2.715162968162832,
          18.055517545481827,
          14.278339737055322,
          28.46553057906034,
          26.903992625025985,
          -10.752978653092748,
          13.279618414527384,
          10.198475162753674,
          -0.46177496761710124,
          -5.162010794122118,
          26.984053335280777,
          8.029103285041717,
          -1.2773981900796816,
          17.914183533696914,
          14.051316257909384,
          19.104994241016946,
          -4.929013296816409,
          16.61900334486013,
          14.363545087874364,
          -0.2886452120644978,
          -5.436026815340855,
          7.994719157897934,
          7.197752369740518,
          0.48832938433767126,
          -2.0305145510826628,
          11.830158618579944,
          26.14711789242321,
          12.421402699675133,
          22.830778147996234,
          37.4389104775191,
          0.6720487907217576,
          8.727964658749743,
          10.654172132038852,
          -1.7210179401805248,
          13.804487032162061,
          17.505116273578935,
          8.70027858585598,
          38.113514419188355,
          23.074004577571117,
          33.29290359106323,
          6.278640849375416,
          8.450774956523066,
          0.5133916142490369,
          26.32800967900948,
          12.800994185399993,
          11.866782747846006,
          18.77011122645429,
          -5.095503010341251,
          11.264756874438465,
          4.799134071331723,
          17.677699751028484,
          14.710346336325753,
          23.057431059397437,
          1.477579547951513,
          -12.667597189431135,
          7.607061775229895,
          25.16706096960459,
          19.441951005284718,
          16.177331638952918,
          1.1894865899123586,
          16.03656171169112,
          22.2055188636862,
          14.708480917848089,
          22.689035017323643,
          18.34121869862575,
          34.2144203662452,
          20.20308218196407,
          13.455544434976918,
          22.47735427127693,
          10.890134856744304,
          9.961127549950067,
          26.753260357542217,
          7.882963148250544,
          24.106133294337706,
          0.43453094353058663,
          4.9255134018791225,
          24.55264468181102,
          3.543889558298763,
          40.40108252677052,
          4.3286319280366525,
          20.215829190024003,
          16.44512589011251,
          14.402183375173184,
          21.718549655208875,
          35.460769411341644,
          29.179591895021552,
          11.358902668877825,
          17.48358579312619,
          -2.6014960292586653,
          18.376544246430115,
          13.152155600064708,
          14.205869885547195,
          -2.996738555736056,
          8.722390519107037,
          17.972901988742727,
          13.366284146931061,
          30.80008147659894,
          3.2723022258942303,
          19.77301954537851,
          -4.538182822371761,
          -2.170024332204057,
          4.8373501075273495,
          27.223127482930167,
          0.8748955892499799,
          8.97686518275047,
          18.23087588180541,
          5.37735239345527,
          29.72828818144717,
          16.22804503183901,
          -7.72642514836045,
          16.05634867237198,
          10.549131729111494,
          14.098873197428595,
          10.256113328800387,
          1.532959233528075,
          -4.820430280544851,
          1.9078329671304184,
          28.72122505541639,
          8.781895525822915,
          1.2721882251927275,
          0.9292017710343714,
          -1.3303832119233694,
          5.7667457923761045,
          21.916343055158947,
          12.821293507942322,
          24.554291143197094,
          -1.7509516494264576,
          10.474255746607453,
          4.106513738619255,
          11.844451239547716,
          13.534304504933514,
          4.747615854780873,
          4.01821083252667,
          18.957432728441614,
          27.04302029206587,
          9.526229682500142,
          23.398828870116816,
          24.744291159656328,
          21.668041098665512,
          15.949720727052696,
          13.134840827173866,
          -1.127793908093,
          15.152251937810156,
          14.591201273130295,
          -2.8580738027441543,
          7.602591405705117,
          14.870614847299034,
          15.316609638590272,
          26.984053335280777,
          5.412221100386594,
          3.658486177776288,
          -1.5398059754024085,
          9.576527580808204,
          36.74475278133793,
          11.973502552238081,
          -2.1218763289492015,
          -2.8991373305255586,
          13.368777766401841,
          27.436497102667957,
          5.754923502643283,
          33.41032997344755,
          18.0328983844285,
          7.507475712437972,
          21.459986171898926,
          2.650562159888814,
          30.674827779126602,
          15.39612937627548,
          6.786679631414327,
          0.5345775288713162,
          41.79649236578595,
          12.832745258833956,
          41.870982984396775,
          7.152228500832569,
          13.46566824619404,
          19.38797986289995,
          6.078718891470691,
          3.105761087490899,
          27.45033889675512,
          5.1189618811444015,
          18.85300821277125,
          21.026417741714297,
          31.254058601025214,
          16.068923010101564,
          19.926361566618912,
          19.74530462291306,
          15.671072740466997,
          4.638100828218739,
          -1.7118528058546412,
          11.267183346896715,
          0.5301739636210057,
          15.021834861669149,
          18.01065859369073,
          39.07073679635105,
          22.401580017587207,
          -3.5946332238002365,
          13.592669617970877,
          16.19949004275223,
          22.26907680363155,
          27.820425556265647,
          34.87654823256783,
          0.7054512202206542,
          14.682440987724998,
          10.471151037330074,
          6.6375443791476085,
          6.175535515537667,
          46.18825932705217,
          9.827259562225343,
          6.860042655988896,
          16.957045171252826,
          -0.23406668478063164,
          14.900359482697878,
          15.412551700124855,
          13.585342499776075,
          -2.3487916170577883,
          15.819756472004375,
          5.972872725709344,
          15.924952016263472,
          -16.00833658598717,
          4.6862463637350915,
          27.809085704685167,
          8.058851830652447,
          6.066361386131702,
          45.50952218640833,
          -5.3162263811924575,
          8.126231922217242,
          31.44038780170959,
          -5.428468431907973,
          15.260818195811797,
          -8.156492743455656,
          22.479569984465762,
          -5.8435810217932875,
          -0.3663305534484018,
          2.127729416922697,
          -3.872883026242968,
          18.100718647747406,
          9.102140481983367,
          35.629851720281614,
          15.569414625866806,
          24.992618806680667,
          10.477172905725629,
          15.721554377666935,
          26.58982515744197,
          0.4494720134585739,
          14.708480917848089,
          7.960748091285108,
          10.47423608325808,
          -0.30246947813795666,
          5.822474559678037,
          6.256601843008069,
          20.711409987461437,
          6.872200102763726,
          28.46553057906034,
          10.819581360894027,
          8.768782438097777,
          28.422142525335616,
          -0.051562378937375364,
          3.1435646492748326,
          28.35257368564421,
          30.354335230438224,
          14.943302518170176,
          15.673248509621951,
          13.217658312346181,
          13.786724747840594,
          23.084534305630065,
          9.87332678588173,
          -2.316169772703558,
          11.992198353962147,
          23.705854626995016,
          -10.081789017488774,
          3.383594022396097,
          2.4852292818036803,
          24.098795423501173,
          28.694592217658666,
          -2.912919895087218,
          17.965051472389916,
          -4.914566993455494,
          8.066003911743525,
          21.701618468060357,
          14.163198205751538,
          11.104260543966582,
          22.276149213391694,
          21.269588592473387,
          7.09344834858654,
          20.542275312018088,
          20.02556826220625,
          25.430935390264132,
          5.0841685111453705,
          -0.08914439406552122,
          10.353852894242266,
          28.01906635821303,
          -9.942473808917384,
          -4.74401415907868,
          4.01821083252667,
          8.215581564550757,
          21.419021963787998,
          17.775117097844007,
          22.40271284287063,
          13.437745218627972,
          -2.916999547774779,
          22.257632587882625,
          12.08709347489101,
          6.8083425932326636,
          27.499670995388705,
          -1.7708880330410404,
          10.857235452893788,
          12.179286705856018,
          36.37978537302833,
          23.59407867220227,
          16.065673310941307,
          17.824304642670196,
          25.42348278991591,
          3.286093739301288,
          17.885406018801376,
          10.877316336617348,
          23.05049381783386,
          17.633116339641575,
          38.00654769027807,
          19.27062768584502,
          13.938983228257907,
          -3.317918432134126,
          18.488744238706232,
          0.7877262377251171,
          35.68274272135776,
          9.278932964198482,
          13.24327827659657,
          -1.049356373292465,
          22.1886841941223,
          22.690239708653557,
          21.628743203906396,
          26.888684345101098,
          12.549460404107759,
          25.096089700340652,
          -5.262504819144165,
          22.760695038774827,
          20.169226938035823,
          9.104155595058705,
          35.786961437633224,
          -1.1085510168627466,
          12.989206129509668,
          26.700938338990166,
          10.99406610694773,
          21.479279336765366,
          17.35173210897678,
          19.5507778905615,
          7.179848540247935,
          7.6099310000038445,
          0.1521113077226799,
          28.12249860775411,
          23.370383576246077,
          2.8005620771915263,
          11.248608578039331,
          26.306806559842364
         ],
         "xaxis": "x2",
         "yaxis": "y2"
        }
       ],
       "layout": {
        "barmode": "relative",
        "height": 600,
        "legend": {
         "title": {
          "text": "model_type"
         },
         "tracegroupgap": 0
        },
        "margin": {
         "t": 60
        },
        "template": {
         "data": {
          "bar": [
           {
            "error_x": {
             "color": "#2a3f5f"
            },
            "error_y": {
             "color": "#2a3f5f"
            },
            "marker": {
             "line": {
              "color": "#E5ECF6",
              "width": 0.5
             },
             "pattern": {
              "fillmode": "overlay",
              "size": 10,
              "solidity": 0.2
             }
            },
            "type": "bar"
           }
          ],
          "barpolar": [
           {
            "marker": {
             "line": {
              "color": "#E5ECF6",
              "width": 0.5
             },
             "pattern": {
              "fillmode": "overlay",
              "size": 10,
              "solidity": 0.2
             }
            },
            "type": "barpolar"
           }
          ],
          "carpet": [
           {
            "aaxis": {
             "endlinecolor": "#2a3f5f",
             "gridcolor": "white",
             "linecolor": "white",
             "minorgridcolor": "white",
             "startlinecolor": "#2a3f5f"
            },
            "baxis": {
             "endlinecolor": "#2a3f5f",
             "gridcolor": "white",
             "linecolor": "white",
             "minorgridcolor": "white",
             "startlinecolor": "#2a3f5f"
            },
            "type": "carpet"
           }
          ],
          "choropleth": [
           {
            "colorbar": {
             "outlinewidth": 0,
             "ticks": ""
            },
            "type": "choropleth"
           }
          ],
          "contour": [
           {
            "colorbar": {
             "outlinewidth": 0,
             "ticks": ""
            },
            "colorscale": [
             [
              0,
              "#0d0887"
             ],
             [
              0.1111111111111111,
              "#46039f"
             ],
             [
              0.2222222222222222,
              "#7201a8"
             ],
             [
              0.3333333333333333,
              "#9c179e"
             ],
             [
              0.4444444444444444,
              "#bd3786"
             ],
             [
              0.5555555555555556,
              "#d8576b"
             ],
             [
              0.6666666666666666,
              "#ed7953"
             ],
             [
              0.7777777777777778,
              "#fb9f3a"
             ],
             [
              0.8888888888888888,
              "#fdca26"
             ],
             [
              1,
              "#f0f921"
             ]
            ],
            "type": "contour"
           }
          ],
          "contourcarpet": [
           {
            "colorbar": {
             "outlinewidth": 0,
             "ticks": ""
            },
            "type": "contourcarpet"
           }
          ],
          "heatmap": [
           {
            "colorbar": {
             "outlinewidth": 0,
             "ticks": ""
            },
            "colorscale": [
             [
              0,
              "#0d0887"
             ],
             [
              0.1111111111111111,
              "#46039f"
             ],
             [
              0.2222222222222222,
              "#7201a8"
             ],
             [
              0.3333333333333333,
              "#9c179e"
             ],
             [
              0.4444444444444444,
              "#bd3786"
             ],
             [
              0.5555555555555556,
              "#d8576b"
             ],
             [
              0.6666666666666666,
              "#ed7953"
             ],
             [
              0.7777777777777778,
              "#fb9f3a"
             ],
             [
              0.8888888888888888,
              "#fdca26"
             ],
             [
              1,
              "#f0f921"
             ]
            ],
            "type": "heatmap"
           }
          ],
          "heatmapgl": [
           {
            "colorbar": {
             "outlinewidth": 0,
             "ticks": ""
            },
            "colorscale": [
             [
              0,
              "#0d0887"
             ],
             [
              0.1111111111111111,
              "#46039f"
             ],
             [
              0.2222222222222222,
              "#7201a8"
             ],
             [
              0.3333333333333333,
              "#9c179e"
             ],
             [
              0.4444444444444444,
              "#bd3786"
             ],
             [
              0.5555555555555556,
              "#d8576b"
             ],
             [
              0.6666666666666666,
              "#ed7953"
             ],
             [
              0.7777777777777778,
              "#fb9f3a"
             ],
             [
              0.8888888888888888,
              "#fdca26"
             ],
             [
              1,
              "#f0f921"
             ]
            ],
            "type": "heatmapgl"
           }
          ],
          "histogram": [
           {
            "marker": {
             "pattern": {
              "fillmode": "overlay",
              "size": 10,
              "solidity": 0.2
             }
            },
            "type": "histogram"
           }
          ],
          "histogram2d": [
           {
            "colorbar": {
             "outlinewidth": 0,
             "ticks": ""
            },
            "colorscale": [
             [
              0,
              "#0d0887"
             ],
             [
              0.1111111111111111,
              "#46039f"
             ],
             [
              0.2222222222222222,
              "#7201a8"
             ],
             [
              0.3333333333333333,
              "#9c179e"
             ],
             [
              0.4444444444444444,
              "#bd3786"
             ],
             [
              0.5555555555555556,
              "#d8576b"
             ],
             [
              0.6666666666666666,
              "#ed7953"
             ],
             [
              0.7777777777777778,
              "#fb9f3a"
             ],
             [
              0.8888888888888888,
              "#fdca26"
             ],
             [
              1,
              "#f0f921"
             ]
            ],
            "type": "histogram2d"
           }
          ],
          "histogram2dcontour": [
           {
            "colorbar": {
             "outlinewidth": 0,
             "ticks": ""
            },
            "colorscale": [
             [
              0,
              "#0d0887"
             ],
             [
              0.1111111111111111,
              "#46039f"
             ],
             [
              0.2222222222222222,
              "#7201a8"
             ],
             [
              0.3333333333333333,
              "#9c179e"
             ],
             [
              0.4444444444444444,
              "#bd3786"
             ],
             [
              0.5555555555555556,
              "#d8576b"
             ],
             [
              0.6666666666666666,
              "#ed7953"
             ],
             [
              0.7777777777777778,
              "#fb9f3a"
             ],
             [
              0.8888888888888888,
              "#fdca26"
             ],
             [
              1,
              "#f0f921"
             ]
            ],
            "type": "histogram2dcontour"
           }
          ],
          "mesh3d": [
           {
            "colorbar": {
             "outlinewidth": 0,
             "ticks": ""
            },
            "type": "mesh3d"
           }
          ],
          "parcoords": [
           {
            "line": {
             "colorbar": {
              "outlinewidth": 0,
              "ticks": ""
             }
            },
            "type": "parcoords"
           }
          ],
          "pie": [
           {
            "automargin": true,
            "type": "pie"
           }
          ],
          "scatter": [
           {
            "fillpattern": {
             "fillmode": "overlay",
             "size": 10,
             "solidity": 0.2
            },
            "type": "scatter"
           }
          ],
          "scatter3d": [
           {
            "line": {
             "colorbar": {
              "outlinewidth": 0,
              "ticks": ""
             }
            },
            "marker": {
             "colorbar": {
              "outlinewidth": 0,
              "ticks": ""
             }
            },
            "type": "scatter3d"
           }
          ],
          "scattercarpet": [
           {
            "marker": {
             "colorbar": {
              "outlinewidth": 0,
              "ticks": ""
             }
            },
            "type": "scattercarpet"
           }
          ],
          "scattergeo": [
           {
            "marker": {
             "colorbar": {
              "outlinewidth": 0,
              "ticks": ""
             }
            },
            "type": "scattergeo"
           }
          ],
          "scattergl": [
           {
            "marker": {
             "colorbar": {
              "outlinewidth": 0,
              "ticks": ""
             }
            },
            "type": "scattergl"
           }
          ],
          "scattermapbox": [
           {
            "marker": {
             "colorbar": {
              "outlinewidth": 0,
              "ticks": ""
             }
            },
            "type": "scattermapbox"
           }
          ],
          "scatterpolar": [
           {
            "marker": {
             "colorbar": {
              "outlinewidth": 0,
              "ticks": ""
             }
            },
            "type": "scatterpolar"
           }
          ],
          "scatterpolargl": [
           {
            "marker": {
             "colorbar": {
              "outlinewidth": 0,
              "ticks": ""
             }
            },
            "type": "scatterpolargl"
           }
          ],
          "scatterternary": [
           {
            "marker": {
             "colorbar": {
              "outlinewidth": 0,
              "ticks": ""
             }
            },
            "type": "scatterternary"
           }
          ],
          "surface": [
           {
            "colorbar": {
             "outlinewidth": 0,
             "ticks": ""
            },
            "colorscale": [
             [
              0,
              "#0d0887"
             ],
             [
              0.1111111111111111,
              "#46039f"
             ],
             [
              0.2222222222222222,
              "#7201a8"
             ],
             [
              0.3333333333333333,
              "#9c179e"
             ],
             [
              0.4444444444444444,
              "#bd3786"
             ],
             [
              0.5555555555555556,
              "#d8576b"
             ],
             [
              0.6666666666666666,
              "#ed7953"
             ],
             [
              0.7777777777777778,
              "#fb9f3a"
             ],
             [
              0.8888888888888888,
              "#fdca26"
             ],
             [
              1,
              "#f0f921"
             ]
            ],
            "type": "surface"
           }
          ],
          "table": [
           {
            "cells": {
             "fill": {
              "color": "#EBF0F8"
             },
             "line": {
              "color": "white"
             }
            },
            "header": {
             "fill": {
              "color": "#C8D4E3"
             },
             "line": {
              "color": "white"
             }
            },
            "type": "table"
           }
          ]
         },
         "layout": {
          "annotationdefaults": {
           "arrowcolor": "#2a3f5f",
           "arrowhead": 0,
           "arrowwidth": 1
          },
          "autotypenumbers": "strict",
          "coloraxis": {
           "colorbar": {
            "outlinewidth": 0,
            "ticks": ""
           }
          },
          "colorscale": {
           "diverging": [
            [
             0,
             "#8e0152"
            ],
            [
             0.1,
             "#c51b7d"
            ],
            [
             0.2,
             "#de77ae"
            ],
            [
             0.3,
             "#f1b6da"
            ],
            [
             0.4,
             "#fde0ef"
            ],
            [
             0.5,
             "#f7f7f7"
            ],
            [
             0.6,
             "#e6f5d0"
            ],
            [
             0.7,
             "#b8e186"
            ],
            [
             0.8,
             "#7fbc41"
            ],
            [
             0.9,
             "#4d9221"
            ],
            [
             1,
             "#276419"
            ]
           ],
           "sequential": [
            [
             0,
             "#0d0887"
            ],
            [
             0.1111111111111111,
             "#46039f"
            ],
            [
             0.2222222222222222,
             "#7201a8"
            ],
            [
             0.3333333333333333,
             "#9c179e"
            ],
            [
             0.4444444444444444,
             "#bd3786"
            ],
            [
             0.5555555555555556,
             "#d8576b"
            ],
            [
             0.6666666666666666,
             "#ed7953"
            ],
            [
             0.7777777777777778,
             "#fb9f3a"
            ],
            [
             0.8888888888888888,
             "#fdca26"
            ],
            [
             1,
             "#f0f921"
            ]
           ],
           "sequentialminus": [
            [
             0,
             "#0d0887"
            ],
            [
             0.1111111111111111,
             "#46039f"
            ],
            [
             0.2222222222222222,
             "#7201a8"
            ],
            [
             0.3333333333333333,
             "#9c179e"
            ],
            [
             0.4444444444444444,
             "#bd3786"
            ],
            [
             0.5555555555555556,
             "#d8576b"
            ],
            [
             0.6666666666666666,
             "#ed7953"
            ],
            [
             0.7777777777777778,
             "#fb9f3a"
            ],
            [
             0.8888888888888888,
             "#fdca26"
            ],
            [
             1,
             "#f0f921"
            ]
           ]
          },
          "colorway": [
           "#636efa",
           "#EF553B",
           "#00cc96",
           "#ab63fa",
           "#FFA15A",
           "#19d3f3",
           "#FF6692",
           "#B6E880",
           "#FF97FF",
           "#FECB52"
          ],
          "font": {
           "color": "#2a3f5f"
          },
          "geo": {
           "bgcolor": "white",
           "lakecolor": "white",
           "landcolor": "#E5ECF6",
           "showlakes": true,
           "showland": true,
           "subunitcolor": "white"
          },
          "hoverlabel": {
           "align": "left"
          },
          "hovermode": "closest",
          "mapbox": {
           "style": "light"
          },
          "paper_bgcolor": "white",
          "plot_bgcolor": "#E5ECF6",
          "polar": {
           "angularaxis": {
            "gridcolor": "white",
            "linecolor": "white",
            "ticks": ""
           },
           "bgcolor": "#E5ECF6",
           "radialaxis": {
            "gridcolor": "white",
            "linecolor": "white",
            "ticks": ""
           }
          },
          "scene": {
           "xaxis": {
            "backgroundcolor": "#E5ECF6",
            "gridcolor": "white",
            "gridwidth": 2,
            "linecolor": "white",
            "showbackground": true,
            "ticks": "",
            "zerolinecolor": "white"
           },
           "yaxis": {
            "backgroundcolor": "#E5ECF6",
            "gridcolor": "white",
            "gridwidth": 2,
            "linecolor": "white",
            "showbackground": true,
            "ticks": "",
            "zerolinecolor": "white"
           },
           "zaxis": {
            "backgroundcolor": "#E5ECF6",
            "gridcolor": "white",
            "gridwidth": 2,
            "linecolor": "white",
            "showbackground": true,
            "ticks": "",
            "zerolinecolor": "white"
           }
          },
          "shapedefaults": {
           "line": {
            "color": "#2a3f5f"
           }
          },
          "ternary": {
           "aaxis": {
            "gridcolor": "white",
            "linecolor": "white",
            "ticks": ""
           },
           "baxis": {
            "gridcolor": "white",
            "linecolor": "white",
            "ticks": ""
           },
           "bgcolor": "#E5ECF6",
           "caxis": {
            "gridcolor": "white",
            "linecolor": "white",
            "ticks": ""
           }
          },
          "title": {
           "x": 0.05
          },
          "xaxis": {
           "automargin": true,
           "gridcolor": "white",
           "linecolor": "white",
           "ticks": "",
           "title": {
            "standoff": 15
           },
           "zerolinecolor": "white",
           "zerolinewidth": 2
          },
          "yaxis": {
           "automargin": true,
           "gridcolor": "white",
           "linecolor": "white",
           "ticks": "",
           "title": {
            "standoff": 15
           },
           "zerolinecolor": "white",
           "zerolinewidth": 2
          }
         }
        },
        "width": 800,
        "xaxis": {
         "anchor": "y",
         "domain": [
          0,
          1
         ],
         "title": {
          "text": "fmt_total_profit_percentage"
         }
        },
        "xaxis2": {
         "anchor": "y2",
         "domain": [
          0,
          1
         ],
         "matches": "x",
         "showgrid": true,
         "showticklabels": false
        },
        "yaxis": {
         "anchor": "x",
         "domain": [
          0,
          0.7326
         ],
         "title": {
          "text": "count"
         }
        },
        "yaxis2": {
         "anchor": "x2",
         "domain": [
          0.7426,
          1
         ],
         "matches": "y2",
         "showgrid": false,
         "showline": false,
         "showticklabels": false,
         "ticks": ""
        }
       }
      }
     },
     "metadata": {},
     "output_type": "display_data"
    }
   ],
   "source": [
    "fig = px.histogram(df_trader_results, x=\"fmt_total_profit_percentage\", color=\"model_type\", color_discrete_sequence=[ \"#FF7F0E\", \"#00CC96\", \"#10aded\", \"#8A56EF\"],  width=800, height=600, marginal=\"rug\", # can be `box`, `violin`\n",
    "                         hover_data=['total_reward_cash','fmt_total_profit_percentage', 'num_of_trades', 'sim_id'])\n",
    "fig.show()"
   ]
  },
  {
   "cell_type": "code",
   "execution_count": 21,
   "metadata": {},
   "outputs": [],
   "source": [
    "df_trader_results_stats = df_trader_results.groupby(['model_type'])['fmt_total_profit_percentage'].agg(['median']).reset_index()"
   ]
  },
  {
   "cell_type": "code",
   "execution_count": 22,
   "metadata": {},
   "outputs": [],
   "source": [
    "# i_A2C = np.argmin(np.abs(df_trader_results[df_trader_results['model_type']=='A2C']['fmt_total_profit_percentage'] - df_trader_results_stats[df_trader_results_stats['model_type']=='A2C']['median'].values[0]))\n",
    "# median_sim_id_A2C = df_trader_results[df_trader_results['model_type']=='A2C'].iloc[i_A2C]['sim_id']\n",
    "\n",
    "i_PPO = np.argmin(np.abs(df_trader_results[df_trader_results['model_type']=='PPO']['fmt_total_profit_percentage'] - df_trader_results_stats[df_trader_results_stats['model_type']=='PPO']['median'].values[0]))\n",
    "median_sim_id_PPO = df_trader_results[df_trader_results['model_type']=='PPO'].iloc[i_PPO]['sim_id']\n",
    "\n",
    "# i_DQN = np.argmin(np.abs(df_trader_results[df_trader_results['model_type']=='DQN']['fmt_total_profit_percentage'] - df_trader_results_stats[df_trader_results_stats['model_type']=='DQN']['median'].values[0]))\n",
    "# median_sim_id_DQN = df_trader_results[df_trader_results['model_type']=='DQN'].iloc[i_DQN]['sim_id']\n",
    "\n",
    "# i_RANDOM = np.argmin(np.abs(df_trader_results[df_trader_results['model_type']=='RANDOM']['fmt_total_profit_percentage'] - df_trader_results_stats[df_trader_results_stats['model_type']=='RANDOM']['median'].values[0]))\n",
    "# median_sim_id_RANDOM = df_trader_results[df_trader_results['model_type']=='RANDOM'].iloc[i_RANDOM]['sim_id']"
   ]
  },
  {
   "cell_type": "code",
   "execution_count": 23,
   "metadata": {},
   "outputs": [],
   "source": [
    "def get_and_process_trader_robot_actions_and_env_data_one_sim_id(config_file_name_without_extension, sim_id):\n",
    "    try:\n",
    "        \n",
    "        # Get the data\n",
    "        db_address = 'sqlite:///../results/data/db/trader.db'\n",
    "        engine = create_engine(db_address, echo=False)\n",
    "        sqlite_connection = engine.connect()\n",
    "\n",
    "        input_tbl_name = \"tbl_trader_bernardo_robot_actions_and_env\" + \"_\" + config_file_name_without_extension\n",
    "        \n",
    "        sql_command = \"SELECT * FROM \" + input_tbl_name\n",
    "        \n",
    "        sql_append = \" WHERE \" + \"sim_id = \" + str(sim_id)\n",
    "        \n",
    "        sql_command = sql_command + sql_append\n",
    "\n",
    "        df = pd.read_sql(sql_command, sqlite_connection)\n",
    "\n",
    "        sqlite_connection.close()\n",
    "\n",
    "        return df\n",
    "\n",
    "    except Exception as e:\n",
    "        print(e)"
   ]
  },
  {
   "cell_type": "code",
   "execution_count": 24,
   "metadata": {},
   "outputs": [],
   "source": [
    "def plot_robot_actions_all_models(config_file_name_without_extension, sim_id_A2C, sim_id_PPO, sim_id_DQN, sim_id_RANDOM):\n",
    "    \n",
    "    # df_robot_actions_sim_id_A2C = get_and_process_trader_robot_actions_and_env_data_one_sim_id(config_file_name_without_extension, sim_id_A2C)\n",
    "    df_robot_actions_sim_id_PPO = get_and_process_trader_robot_actions_and_env_data_one_sim_id(config_file_name_without_extension, sim_id_PPO)\n",
    "    # df_robot_actions_sim_id_DQN = get_and_process_trader_robot_actions_and_env_data_one_sim_id(config_file_name_without_extension, sim_id_DQN)\n",
    "    # df_robot_actions_sim_id_RANDOM = get_and_process_trader_robot_actions_and_env_data_one_sim_id(config_file_name_without_extension, sim_id_RANDOM)\n",
    "\n",
    "    # df_simulation_sim_id_A2C = df_trader_results[df_trader_results['sim_id'] == sim_id_A2C]\n",
    "    df_simulation_sim_id_PPO = df_trader_results[df_trader_results['sim_id'] == sim_id_PPO]\n",
    "    # df_simulation_sim_id_DQN = df_trader_results[df_trader_results['sim_id'] == sim_id_DQN]\n",
    "    # df_simulation_sim_id_RANDOM = df_trader_results[df_trader_results['sim_id'] == sim_id_RANDOM]\n",
    "\n",
    "    # str_title_A2C = f\"sim_id: {sim_id_A2C} | model_type: {df_simulation_sim_id_A2C.model_type.values[0]} | Total Profit percentage {round(df_simulation_sim_id_A2C.fmt_total_profit_percentage.values[0],2)}%\"\n",
    "    str_title_PPO = f\"sim_id: {sim_id_PPO} | model_type: {df_simulation_sim_id_PPO.model_type.values[0]} | Total Profit percentage {round(df_simulation_sim_id_PPO.fmt_total_profit_percentage.values[0],2)}%\"\n",
    "    # str_title_DQN = f\"sim_id: {sim_id_DQN} | model_type: {df_simulation_sim_id_DQN.model_type.values[0]} | Total Profit percentage {round(df_simulation_sim_id_DQN.fmt_total_profit_percentage.values[0],2)}%\"\n",
    "    # str_title_RANDOM = f\"sim_id: {sim_id_RANDOM} | model_type: {df_simulation_sim_id_RANDOM.model_type.values[0]} | Total Profit percentage {round(df_simulation_sim_id_RANDOM.fmt_total_profit_percentage.values[0],2)}%\"\n",
    "\n",
    "    str_title = \"The median profit percentage results per model\"\n",
    "\n",
    "    fig = make_subplots(rows=4, cols=1, subplot_titles=(\"\", str_title_PPO, \"\", \"\"), shared_xaxes='all', shared_yaxes='all')\n",
    "\n",
    "    # fig.add_trace(go.Scatter(name='Price', x=df_robot_actions_sim_id_A2C[\"dates\"], y=df_robot_actions_sim_id_A2C[\"prices\"], mode='lines', marker_color='#969696', legendgroup = '1'), row=1, col=1)\n",
    "    # fig.add_trace(go.Scatter(name='Long', x=df_robot_actions_sim_id_A2C[df_robot_actions_sim_id_A2C['actions'] == 1]['dates'], y=df_robot_actions_sim_id_A2C[df_robot_actions_sim_id_A2C['actions'] == 1]['prices'], mode='markers', marker_symbol='circle', marker_size=10, marker_color='#228b22', legendgroup = '1'), row=1, col=1)\n",
    "    # fig.add_trace(go.Scatter(name='Short', x=df_robot_actions_sim_id_A2C[df_robot_actions_sim_id_A2C['actions'] == 0]['dates'], y=df_robot_actions_sim_id_A2C[df_robot_actions_sim_id_A2C['actions'] == 0]['prices'], mode='markers', marker_symbol='circle', marker_size=10, marker_color='#c83232', legendgroup = '1'), row=1, col=1)\n",
    "\n",
    "    fig.add_trace(go.Scatter(name='Price', x=df_robot_actions_sim_id_PPO[\"dates\"], y=df_robot_actions_sim_id_PPO[\"prices\"], mode='lines', marker_color='#969696', legendgroup = '2'), row=2, col=1)\n",
    "    fig.add_trace(go.Scatter(name='Long', x=df_robot_actions_sim_id_PPO[df_robot_actions_sim_id_PPO['actions'] == 1]['dates'], y=df_robot_actions_sim_id_PPO[df_robot_actions_sim_id_PPO['actions'] == 1]['prices'], mode='markers', marker_symbol='circle', marker_size=10, marker_color='#228b22', legendgroup = '2'), row=2, col=1)\n",
    "    fig.add_trace(go.Scatter(name='Short', x=df_robot_actions_sim_id_PPO[df_robot_actions_sim_id_PPO['actions'] == 0]['dates'], y=df_robot_actions_sim_id_PPO[df_robot_actions_sim_id_PPO['actions'] == 0]['prices'], mode='markers', marker_symbol='circle', marker_size=10, marker_color='#c83232', legendgroup = '2'), row=2, col=1)\n",
    "\n",
    "    # fig.add_trace(go.Scatter(name='Price', x=df_robot_actions_sim_id_DQN[\"dates\"], y=df_robot_actions_sim_id_DQN[\"prices\"], mode='lines', marker_color='#969696', legendgroup = '3'), row=3, col=1)\n",
    "    # fig.add_trace(go.Scatter(name='Long', x=df_robot_actions_sim_id_DQN[df_robot_actions_sim_id_DQN['actions'] == 1]['dates'], y=df_robot_actions_sim_id_DQN[df_robot_actions_sim_id_DQN['actions'] == 1]['prices'], mode='markers', marker_symbol='circle', marker_size=10, marker_color='#228b22', legendgroup = '3'), row=3, col=1)\n",
    "    # fig.add_trace(go.Scatter(name='Short', x=df_robot_actions_sim_id_DQN[df_robot_actions_sim_id_DQN['actions'] == 0]['dates'], y=df_robot_actions_sim_id_DQN[df_robot_actions_sim_id_DQN['actions'] == 0]['prices'], mode='markers', marker_symbol='circle', marker_size=10, marker_color='#c83232', legendgroup = '3'), row=3, col=1)\n",
    "\n",
    "    # fig.add_trace(go.Scatter(name='Price', x=df_robot_actions_sim_id_RANDOM[\"dates\"], y=df_robot_actions_sim_id_RANDOM[\"prices\"], mode='lines', marker_color='#969696', legendgroup = '4'), row=4, col=1)\n",
    "    # fig.add_trace(go.Scatter(name='Long', x=df_robot_actions_sim_id_RANDOM[df_robot_actions_sim_id_RANDOM['actions'] == 1]['dates'], y=df_robot_actions_sim_id_RANDOM[df_robot_actions_sim_id_RANDOM['actions'] == 1]['prices'], mode='markers', marker_symbol='circle', marker_size=10, marker_color='#228b22', legendgroup = '4'), row=4, col=1)\n",
    "    # fig.add_trace(go.Scatter(name='Short', x=df_robot_actions_sim_id_RANDOM[df_robot_actions_sim_id_RANDOM['actions'] == 0]['dates'], y=df_robot_actions_sim_id_RANDOM[df_robot_actions_sim_id_RANDOM['actions'] == 0]['prices'], mode='markers', marker_symbol='circle', marker_size=10, marker_color='#c83232', legendgroup = '4'), row=4, col=1)\n",
    "\n",
    "    fig.update_xaxes(title_text = \"Dates\", title_standoff = 25)\n",
    "\n",
    "    fig.update_yaxes(title_text = \"\", title_standoff = 25)\n",
    "\n",
    "    fig.update_layout(title=str_title, title_x=0.5, width=1200, height=800, legend_tracegroupgap=125)\n",
    "    fig.show()"
   ]
  },
  {
   "cell_type": "code",
   "execution_count": 25,
   "metadata": {},
   "outputs": [
    {
     "data": {
      "application/vnd.plotly.v1+json": {
       "config": {
        "plotlyServerURL": "https://plot.ly"
       },
       "data": [
        {
         "legendgroup": "2",
         "marker": {
          "color": "#969696"
         },
         "mode": "lines",
         "name": "Price",
         "type": "scatter",
         "x": [
          "2022-12-27 00:00:00.000000",
          "2022-12-28 00:00:00.000000",
          "2022-12-29 00:00:00.000000",
          "2022-12-30 00:00:00.000000",
          "2022-12-31 00:00:00.000000",
          "2023-01-01 00:00:00.000000",
          "2023-01-02 00:00:00.000000",
          "2023-01-03 00:00:00.000000",
          "2023-01-04 00:00:00.000000",
          "2023-01-05 00:00:00.000000",
          "2023-01-06 00:00:00.000000",
          "2023-01-07 00:00:00.000000",
          "2023-01-08 00:00:00.000000",
          "2023-01-09 00:00:00.000000",
          "2023-01-10 00:00:00.000000",
          "2023-01-11 00:00:00.000000",
          "2023-01-12 00:00:00.000000",
          "2023-01-13 00:00:00.000000",
          "2023-01-14 00:00:00.000000",
          "2023-01-15 00:00:00.000000",
          "2023-01-16 00:00:00.000000",
          "2023-01-17 00:00:00.000000",
          "2023-01-18 00:00:00.000000",
          "2023-01-19 00:00:00.000000",
          "2023-01-20 00:00:00.000000",
          "2023-01-21 00:00:00.000000",
          "2023-01-22 00:00:00.000000",
          "2023-01-23 00:00:00.000000",
          "2023-01-24 00:00:00.000000",
          "2023-01-25 00:00:00.000000",
          "2023-01-26 00:00:00.000000",
          "2023-01-27 00:00:00.000000",
          "2023-01-28 00:00:00.000000",
          "2023-01-29 00:00:00.000000",
          "2023-01-30 00:00:00.000000",
          "2023-01-31 00:00:00.000000",
          "2023-02-01 00:00:00.000000",
          "2023-02-02 00:00:00.000000",
          "2023-02-03 00:00:00.000000",
          "2023-02-04 00:00:00.000000",
          "2023-02-05 00:00:00.000000",
          "2023-02-06 00:00:00.000000",
          "2023-02-07 00:00:00.000000",
          "2023-02-08 00:00:00.000000",
          "2023-02-09 00:00:00.000000",
          "2023-02-10 00:00:00.000000",
          "2023-02-11 00:00:00.000000",
          "2023-02-12 00:00:00.000000",
          "2023-02-13 00:00:00.000000",
          "2023-02-14 00:00:00.000000"
         ],
         "xaxis": "x2",
         "y": [
          244.3,
          246.7,
          244.5,
          246.3,
          245.8,
          246.3,
          244.4,
          245.2,
          246.1,
          258.9,
          256.7,
          259.9,
          261.3,
          274.9,
          272.6,
          277.1,
          284.8,
          287.7,
          293.7,
          305.1,
          302.2,
          299,
          299.4,
          286.7,
          294.6,
          305.1,
          299,
          303,
          305.1,
          300.3,
          306.9,
          304.7,
          308,
          306.1,
          317.2,
          307.2,
          312,
          317,
          323.5,
          332.2,
          330.4,
          327.8,
          324.3,
          333,
          328.2,
          306.2,
          305.8,
          310.4,
          312.6,
          294.3
         ],
         "yaxis": "y2"
        },
        {
         "legendgroup": "2",
         "marker": {
          "color": "#228b22",
          "size": 10,
          "symbol": "circle"
         },
         "mode": "markers",
         "name": "Long",
         "type": "scatter",
         "x": [
          "2023-01-02 00:00:00.000000",
          "2023-01-03 00:00:00.000000",
          "2023-01-04 00:00:00.000000",
          "2023-01-05 00:00:00.000000",
          "2023-01-06 00:00:00.000000",
          "2023-01-07 00:00:00.000000",
          "2023-01-08 00:00:00.000000",
          "2023-01-09 00:00:00.000000",
          "2023-01-10 00:00:00.000000",
          "2023-01-11 00:00:00.000000",
          "2023-01-12 00:00:00.000000",
          "2023-01-13 00:00:00.000000",
          "2023-01-14 00:00:00.000000",
          "2023-01-15 00:00:00.000000",
          "2023-01-16 00:00:00.000000",
          "2023-01-18 00:00:00.000000",
          "2023-01-20 00:00:00.000000",
          "2023-01-21 00:00:00.000000",
          "2023-01-22 00:00:00.000000",
          "2023-01-28 00:00:00.000000",
          "2023-02-10 00:00:00.000000",
          "2023-02-12 00:00:00.000000"
         ],
         "xaxis": "x2",
         "y": [
          244.4,
          245.2,
          246.1,
          258.9,
          256.7,
          259.9,
          261.3,
          274.9,
          272.6,
          277.1,
          284.8,
          287.7,
          293.7,
          305.1,
          302.2,
          299.4,
          294.6,
          305.1,
          299,
          308,
          306.2,
          310.4
         ],
         "yaxis": "y2"
        },
        {
         "legendgroup": "2",
         "marker": {
          "color": "#c83232",
          "size": 10,
          "symbol": "circle"
         },
         "mode": "markers",
         "name": "Short",
         "type": "scatter",
         "x": [
          "2023-01-17 00:00:00.000000",
          "2023-01-19 00:00:00.000000",
          "2023-01-23 00:00:00.000000",
          "2023-01-24 00:00:00.000000",
          "2023-01-25 00:00:00.000000",
          "2023-01-26 00:00:00.000000",
          "2023-01-27 00:00:00.000000",
          "2023-01-29 00:00:00.000000",
          "2023-01-30 00:00:00.000000",
          "2023-01-31 00:00:00.000000",
          "2023-02-01 00:00:00.000000",
          "2023-02-02 00:00:00.000000",
          "2023-02-03 00:00:00.000000",
          "2023-02-04 00:00:00.000000",
          "2023-02-05 00:00:00.000000",
          "2023-02-06 00:00:00.000000",
          "2023-02-07 00:00:00.000000",
          "2023-02-08 00:00:00.000000",
          "2023-02-09 00:00:00.000000",
          "2023-02-11 00:00:00.000000",
          "2023-02-13 00:00:00.000000",
          "2023-02-14 00:00:00.000000"
         ],
         "xaxis": "x2",
         "y": [
          299,
          286.7,
          303,
          305.1,
          300.3,
          306.9,
          304.7,
          306.1,
          317.2,
          307.2,
          312,
          317,
          323.5,
          332.2,
          330.4,
          327.8,
          324.3,
          333,
          328.2,
          305.8,
          312.6,
          294.3
         ],
         "yaxis": "y2"
        }
       ],
       "layout": {
        "annotations": [
         {
          "font": {
           "size": 16
          },
          "showarrow": false,
          "text": "sim_id: 168 | model_type: PPO | Total Profit percentage 13.41%",
          "x": 0.5,
          "xanchor": "center",
          "xref": "paper",
          "y": 0.71875,
          "yanchor": "bottom",
          "yref": "paper"
         }
        ],
        "height": 800,
        "legend": {
         "tracegroupgap": 125
        },
        "template": {
         "data": {
          "bar": [
           {
            "error_x": {
             "color": "#2a3f5f"
            },
            "error_y": {
             "color": "#2a3f5f"
            },
            "marker": {
             "line": {
              "color": "#E5ECF6",
              "width": 0.5
             },
             "pattern": {
              "fillmode": "overlay",
              "size": 10,
              "solidity": 0.2
             }
            },
            "type": "bar"
           }
          ],
          "barpolar": [
           {
            "marker": {
             "line": {
              "color": "#E5ECF6",
              "width": 0.5
             },
             "pattern": {
              "fillmode": "overlay",
              "size": 10,
              "solidity": 0.2
             }
            },
            "type": "barpolar"
           }
          ],
          "carpet": [
           {
            "aaxis": {
             "endlinecolor": "#2a3f5f",
             "gridcolor": "white",
             "linecolor": "white",
             "minorgridcolor": "white",
             "startlinecolor": "#2a3f5f"
            },
            "baxis": {
             "endlinecolor": "#2a3f5f",
             "gridcolor": "white",
             "linecolor": "white",
             "minorgridcolor": "white",
             "startlinecolor": "#2a3f5f"
            },
            "type": "carpet"
           }
          ],
          "choropleth": [
           {
            "colorbar": {
             "outlinewidth": 0,
             "ticks": ""
            },
            "type": "choropleth"
           }
          ],
          "contour": [
           {
            "colorbar": {
             "outlinewidth": 0,
             "ticks": ""
            },
            "colorscale": [
             [
              0,
              "#0d0887"
             ],
             [
              0.1111111111111111,
              "#46039f"
             ],
             [
              0.2222222222222222,
              "#7201a8"
             ],
             [
              0.3333333333333333,
              "#9c179e"
             ],
             [
              0.4444444444444444,
              "#bd3786"
             ],
             [
              0.5555555555555556,
              "#d8576b"
             ],
             [
              0.6666666666666666,
              "#ed7953"
             ],
             [
              0.7777777777777778,
              "#fb9f3a"
             ],
             [
              0.8888888888888888,
              "#fdca26"
             ],
             [
              1,
              "#f0f921"
             ]
            ],
            "type": "contour"
           }
          ],
          "contourcarpet": [
           {
            "colorbar": {
             "outlinewidth": 0,
             "ticks": ""
            },
            "type": "contourcarpet"
           }
          ],
          "heatmap": [
           {
            "colorbar": {
             "outlinewidth": 0,
             "ticks": ""
            },
            "colorscale": [
             [
              0,
              "#0d0887"
             ],
             [
              0.1111111111111111,
              "#46039f"
             ],
             [
              0.2222222222222222,
              "#7201a8"
             ],
             [
              0.3333333333333333,
              "#9c179e"
             ],
             [
              0.4444444444444444,
              "#bd3786"
             ],
             [
              0.5555555555555556,
              "#d8576b"
             ],
             [
              0.6666666666666666,
              "#ed7953"
             ],
             [
              0.7777777777777778,
              "#fb9f3a"
             ],
             [
              0.8888888888888888,
              "#fdca26"
             ],
             [
              1,
              "#f0f921"
             ]
            ],
            "type": "heatmap"
           }
          ],
          "heatmapgl": [
           {
            "colorbar": {
             "outlinewidth": 0,
             "ticks": ""
            },
            "colorscale": [
             [
              0,
              "#0d0887"
             ],
             [
              0.1111111111111111,
              "#46039f"
             ],
             [
              0.2222222222222222,
              "#7201a8"
             ],
             [
              0.3333333333333333,
              "#9c179e"
             ],
             [
              0.4444444444444444,
              "#bd3786"
             ],
             [
              0.5555555555555556,
              "#d8576b"
             ],
             [
              0.6666666666666666,
              "#ed7953"
             ],
             [
              0.7777777777777778,
              "#fb9f3a"
             ],
             [
              0.8888888888888888,
              "#fdca26"
             ],
             [
              1,
              "#f0f921"
             ]
            ],
            "type": "heatmapgl"
           }
          ],
          "histogram": [
           {
            "marker": {
             "pattern": {
              "fillmode": "overlay",
              "size": 10,
              "solidity": 0.2
             }
            },
            "type": "histogram"
           }
          ],
          "histogram2d": [
           {
            "colorbar": {
             "outlinewidth": 0,
             "ticks": ""
            },
            "colorscale": [
             [
              0,
              "#0d0887"
             ],
             [
              0.1111111111111111,
              "#46039f"
             ],
             [
              0.2222222222222222,
              "#7201a8"
             ],
             [
              0.3333333333333333,
              "#9c179e"
             ],
             [
              0.4444444444444444,
              "#bd3786"
             ],
             [
              0.5555555555555556,
              "#d8576b"
             ],
             [
              0.6666666666666666,
              "#ed7953"
             ],
             [
              0.7777777777777778,
              "#fb9f3a"
             ],
             [
              0.8888888888888888,
              "#fdca26"
             ],
             [
              1,
              "#f0f921"
             ]
            ],
            "type": "histogram2d"
           }
          ],
          "histogram2dcontour": [
           {
            "colorbar": {
             "outlinewidth": 0,
             "ticks": ""
            },
            "colorscale": [
             [
              0,
              "#0d0887"
             ],
             [
              0.1111111111111111,
              "#46039f"
             ],
             [
              0.2222222222222222,
              "#7201a8"
             ],
             [
              0.3333333333333333,
              "#9c179e"
             ],
             [
              0.4444444444444444,
              "#bd3786"
             ],
             [
              0.5555555555555556,
              "#d8576b"
             ],
             [
              0.6666666666666666,
              "#ed7953"
             ],
             [
              0.7777777777777778,
              "#fb9f3a"
             ],
             [
              0.8888888888888888,
              "#fdca26"
             ],
             [
              1,
              "#f0f921"
             ]
            ],
            "type": "histogram2dcontour"
           }
          ],
          "mesh3d": [
           {
            "colorbar": {
             "outlinewidth": 0,
             "ticks": ""
            },
            "type": "mesh3d"
           }
          ],
          "parcoords": [
           {
            "line": {
             "colorbar": {
              "outlinewidth": 0,
              "ticks": ""
             }
            },
            "type": "parcoords"
           }
          ],
          "pie": [
           {
            "automargin": true,
            "type": "pie"
           }
          ],
          "scatter": [
           {
            "fillpattern": {
             "fillmode": "overlay",
             "size": 10,
             "solidity": 0.2
            },
            "type": "scatter"
           }
          ],
          "scatter3d": [
           {
            "line": {
             "colorbar": {
              "outlinewidth": 0,
              "ticks": ""
             }
            },
            "marker": {
             "colorbar": {
              "outlinewidth": 0,
              "ticks": ""
             }
            },
            "type": "scatter3d"
           }
          ],
          "scattercarpet": [
           {
            "marker": {
             "colorbar": {
              "outlinewidth": 0,
              "ticks": ""
             }
            },
            "type": "scattercarpet"
           }
          ],
          "scattergeo": [
           {
            "marker": {
             "colorbar": {
              "outlinewidth": 0,
              "ticks": ""
             }
            },
            "type": "scattergeo"
           }
          ],
          "scattergl": [
           {
            "marker": {
             "colorbar": {
              "outlinewidth": 0,
              "ticks": ""
             }
            },
            "type": "scattergl"
           }
          ],
          "scattermapbox": [
           {
            "marker": {
             "colorbar": {
              "outlinewidth": 0,
              "ticks": ""
             }
            },
            "type": "scattermapbox"
           }
          ],
          "scatterpolar": [
           {
            "marker": {
             "colorbar": {
              "outlinewidth": 0,
              "ticks": ""
             }
            },
            "type": "scatterpolar"
           }
          ],
          "scatterpolargl": [
           {
            "marker": {
             "colorbar": {
              "outlinewidth": 0,
              "ticks": ""
             }
            },
            "type": "scatterpolargl"
           }
          ],
          "scatterternary": [
           {
            "marker": {
             "colorbar": {
              "outlinewidth": 0,
              "ticks": ""
             }
            },
            "type": "scatterternary"
           }
          ],
          "surface": [
           {
            "colorbar": {
             "outlinewidth": 0,
             "ticks": ""
            },
            "colorscale": [
             [
              0,
              "#0d0887"
             ],
             [
              0.1111111111111111,
              "#46039f"
             ],
             [
              0.2222222222222222,
              "#7201a8"
             ],
             [
              0.3333333333333333,
              "#9c179e"
             ],
             [
              0.4444444444444444,
              "#bd3786"
             ],
             [
              0.5555555555555556,
              "#d8576b"
             ],
             [
              0.6666666666666666,
              "#ed7953"
             ],
             [
              0.7777777777777778,
              "#fb9f3a"
             ],
             [
              0.8888888888888888,
              "#fdca26"
             ],
             [
              1,
              "#f0f921"
             ]
            ],
            "type": "surface"
           }
          ],
          "table": [
           {
            "cells": {
             "fill": {
              "color": "#EBF0F8"
             },
             "line": {
              "color": "white"
             }
            },
            "header": {
             "fill": {
              "color": "#C8D4E3"
             },
             "line": {
              "color": "white"
             }
            },
            "type": "table"
           }
          ]
         },
         "layout": {
          "annotationdefaults": {
           "arrowcolor": "#2a3f5f",
           "arrowhead": 0,
           "arrowwidth": 1
          },
          "autotypenumbers": "strict",
          "coloraxis": {
           "colorbar": {
            "outlinewidth": 0,
            "ticks": ""
           }
          },
          "colorscale": {
           "diverging": [
            [
             0,
             "#8e0152"
            ],
            [
             0.1,
             "#c51b7d"
            ],
            [
             0.2,
             "#de77ae"
            ],
            [
             0.3,
             "#f1b6da"
            ],
            [
             0.4,
             "#fde0ef"
            ],
            [
             0.5,
             "#f7f7f7"
            ],
            [
             0.6,
             "#e6f5d0"
            ],
            [
             0.7,
             "#b8e186"
            ],
            [
             0.8,
             "#7fbc41"
            ],
            [
             0.9,
             "#4d9221"
            ],
            [
             1,
             "#276419"
            ]
           ],
           "sequential": [
            [
             0,
             "#0d0887"
            ],
            [
             0.1111111111111111,
             "#46039f"
            ],
            [
             0.2222222222222222,
             "#7201a8"
            ],
            [
             0.3333333333333333,
             "#9c179e"
            ],
            [
             0.4444444444444444,
             "#bd3786"
            ],
            [
             0.5555555555555556,
             "#d8576b"
            ],
            [
             0.6666666666666666,
             "#ed7953"
            ],
            [
             0.7777777777777778,
             "#fb9f3a"
            ],
            [
             0.8888888888888888,
             "#fdca26"
            ],
            [
             1,
             "#f0f921"
            ]
           ],
           "sequentialminus": [
            [
             0,
             "#0d0887"
            ],
            [
             0.1111111111111111,
             "#46039f"
            ],
            [
             0.2222222222222222,
             "#7201a8"
            ],
            [
             0.3333333333333333,
             "#9c179e"
            ],
            [
             0.4444444444444444,
             "#bd3786"
            ],
            [
             0.5555555555555556,
             "#d8576b"
            ],
            [
             0.6666666666666666,
             "#ed7953"
            ],
            [
             0.7777777777777778,
             "#fb9f3a"
            ],
            [
             0.8888888888888888,
             "#fdca26"
            ],
            [
             1,
             "#f0f921"
            ]
           ]
          },
          "colorway": [
           "#636efa",
           "#EF553B",
           "#00cc96",
           "#ab63fa",
           "#FFA15A",
           "#19d3f3",
           "#FF6692",
           "#B6E880",
           "#FF97FF",
           "#FECB52"
          ],
          "font": {
           "color": "#2a3f5f"
          },
          "geo": {
           "bgcolor": "white",
           "lakecolor": "white",
           "landcolor": "#E5ECF6",
           "showlakes": true,
           "showland": true,
           "subunitcolor": "white"
          },
          "hoverlabel": {
           "align": "left"
          },
          "hovermode": "closest",
          "mapbox": {
           "style": "light"
          },
          "paper_bgcolor": "white",
          "plot_bgcolor": "#E5ECF6",
          "polar": {
           "angularaxis": {
            "gridcolor": "white",
            "linecolor": "white",
            "ticks": ""
           },
           "bgcolor": "#E5ECF6",
           "radialaxis": {
            "gridcolor": "white",
            "linecolor": "white",
            "ticks": ""
           }
          },
          "scene": {
           "xaxis": {
            "backgroundcolor": "#E5ECF6",
            "gridcolor": "white",
            "gridwidth": 2,
            "linecolor": "white",
            "showbackground": true,
            "ticks": "",
            "zerolinecolor": "white"
           },
           "yaxis": {
            "backgroundcolor": "#E5ECF6",
            "gridcolor": "white",
            "gridwidth": 2,
            "linecolor": "white",
            "showbackground": true,
            "ticks": "",
            "zerolinecolor": "white"
           },
           "zaxis": {
            "backgroundcolor": "#E5ECF6",
            "gridcolor": "white",
            "gridwidth": 2,
            "linecolor": "white",
            "showbackground": true,
            "ticks": "",
            "zerolinecolor": "white"
           }
          },
          "shapedefaults": {
           "line": {
            "color": "#2a3f5f"
           }
          },
          "ternary": {
           "aaxis": {
            "gridcolor": "white",
            "linecolor": "white",
            "ticks": ""
           },
           "baxis": {
            "gridcolor": "white",
            "linecolor": "white",
            "ticks": ""
           },
           "bgcolor": "#E5ECF6",
           "caxis": {
            "gridcolor": "white",
            "linecolor": "white",
            "ticks": ""
           }
          },
          "title": {
           "x": 0.05
          },
          "xaxis": {
           "automargin": true,
           "gridcolor": "white",
           "linecolor": "white",
           "ticks": "",
           "title": {
            "standoff": 15
           },
           "zerolinecolor": "white",
           "zerolinewidth": 2
          },
          "yaxis": {
           "automargin": true,
           "gridcolor": "white",
           "linecolor": "white",
           "ticks": "",
           "title": {
            "standoff": 15
           },
           "zerolinecolor": "white",
           "zerolinewidth": 2
          }
         }
        },
        "title": {
         "text": "The median profit percentage results per model",
         "x": 0.5
        },
        "width": 1200,
        "xaxis": {
         "anchor": "y",
         "domain": [
          0,
          1
         ],
         "matches": "x4",
         "showticklabels": false,
         "title": {
          "standoff": 25,
          "text": "Dates"
         }
        },
        "xaxis2": {
         "anchor": "y2",
         "domain": [
          0,
          1
         ],
         "matches": "x4",
         "showticklabels": false,
         "title": {
          "standoff": 25,
          "text": "Dates"
         }
        },
        "xaxis3": {
         "anchor": "y3",
         "domain": [
          0,
          1
         ],
         "matches": "x4",
         "showticklabels": false,
         "title": {
          "standoff": 25,
          "text": "Dates"
         }
        },
        "xaxis4": {
         "anchor": "y4",
         "domain": [
          0,
          1
         ],
         "title": {
          "standoff": 25,
          "text": "Dates"
         }
        },
        "yaxis": {
         "anchor": "x",
         "domain": [
          0.84375,
          1
         ],
         "matches": "y4",
         "title": {
          "standoff": 25,
          "text": ""
         }
        },
        "yaxis2": {
         "anchor": "x2",
         "domain": [
          0.5625,
          0.71875
         ],
         "matches": "y4",
         "title": {
          "standoff": 25,
          "text": ""
         }
        },
        "yaxis3": {
         "anchor": "x3",
         "domain": [
          0.28125,
          0.4375
         ],
         "matches": "y4",
         "title": {
          "standoff": 25,
          "text": ""
         }
        },
        "yaxis4": {
         "anchor": "x4",
         "domain": [
          0,
          0.15625
         ],
         "title": {
          "standoff": 25,
          "text": ""
         }
        }
       }
      }
     },
     "metadata": {},
     "output_type": "display_data"
    }
   ],
   "source": [
    "plot_robot_actions_all_models(config_file_name_without_extension, \"\", median_sim_id_PPO, \"\", \"\")"
   ]
  },
  {
   "cell_type": "code",
   "execution_count": 26,
   "metadata": {},
   "outputs": [],
   "source": [
    "def get_and_process_trader_robot_actions_and_env_data_all_sim_id(config_file_name_without_extension):\n",
    "    try:\n",
    "        \n",
    "        # Get the data\n",
    "        db_address = 'sqlite:///../results/data/db/trader.db'\n",
    "        engine = create_engine(db_address, echo=False)\n",
    "        sqlite_connection = engine.connect()\n",
    "\n",
    "        input_tbl_name = \"tbl_trader_bernardo_robot_actions_and_env\" + \"_\" + config_file_name_without_extension\n",
    "        \n",
    "        sql_command = \"SELECT * FROM \" + input_tbl_name + \" AS t1 \"\n",
    "        \n",
    "        sql_append = \"LEFT JOIN (SELECT sim_id, model_type FROM tbl_trader_bernardo_simulation_results_\" + config_file_name_without_extension + \") AS t2 ON t1.sim_id = t2.sim_id\"\n",
    "        \n",
    "        sql_command = sql_command + sql_append\n",
    "\n",
    "        df = pd.read_sql(sql_command, sqlite_connection)\n",
    "\n",
    "        sqlite_connection.close()\n",
    "\n",
    "        return df\n",
    "\n",
    "    except Exception as e:\n",
    "        print(e)"
   ]
  },
  {
   "cell_type": "code",
   "execution_count": 72,
   "metadata": {},
   "outputs": [],
   "source": [
    "def get_and_process_trader_robot_actions_and_env_data(config_file_name_without_extension):\n",
    "    try:\n",
    "        \n",
    "        # Get the data\n",
    "        db_address = 'sqlite:///../results/data/db/trader.db'\n",
    "        engine = create_engine(db_address, echo=False)\n",
    "        sqlite_connection = engine.connect()\n",
    "\n",
    "        input_tbl_name = \"tbl_trader_bernardo_robot_actions_and_env\" + \"_\" + config_file_name_without_extension\n",
    "        \n",
    "        sql_command = \"SELECT * FROM \" + input_tbl_name\n",
    "        \n",
    "        sql_append = \"\"\n",
    "        \n",
    "        sql_command = sql_command + sql_append\n",
    "\n",
    "        df = pd.read_sql(sql_command, sqlite_connection)\n",
    "\n",
    "        sqlite_connection.close()\n",
    "\n",
    "        return df\n",
    "\n",
    "    except Exception as e:\n",
    "        print(e)"
   ]
  },
  {
   "cell_type": "code",
   "execution_count": 75,
   "metadata": {},
   "outputs": [],
   "source": [
    "def plot_trader_robot_actions_density(config_file_name_without_extension):\n",
    "    \n",
    "    df_trader_robot_actions_and_env_data = get_and_process_trader_robot_actions_and_env_data(config_file_name_without_extension)\n",
    "\n",
    "    fig = go.Figure()\n",
    "    # fig.add_trace(go.Scatter(x=df_temp['dates'], y=df_temp['fmt_total_profit_percentage'],\n",
    "    #                     mode='markers',\n",
    "    #                     name='markers'))\n",
    "\n",
    "    for i in range(1, num_of_simulations+1):\n",
    "            #print(str(i))\n",
    "            fig.add_trace(go.Scatter(x=df_trader_robot_actions_and_env_data['dates'],\n",
    "                                    y=df_trader_robot_actions_and_env_data[df_trader_robot_actions_and_env_data['sim_id']==i]['fmt_total_profit_percentage'],\n",
    "                                    showlegend=False,           # hides trace name from legend\n",
    "                                    hoverinfo='skip',           # turns off hoverinfo\n",
    "                                    name = None,\n",
    "                                    mode = 'lines',\n",
    "                                    line_color='black',\n",
    "                                    opacity = 0.008\n",
    "                                    )\n",
    "                        )\n",
    "\n",
    "    # add mean of all rows to the plot\n",
    "    df_mean=df_trader_robot_actions_and_env_data.groupby(['dates'])['fmt_total_profit_percentage'].agg(['mean']).reset_index()\n",
    "    # show mean\n",
    "    fig.add_trace(go.Scatter(x=df_mean['dates'], y=df_mean['mean'].values,\n",
    "                            name='mean lines',\n",
    "                            line_color='red',\n",
    "                            line=dict(width=2),\n",
    "                            mode='lines')\n",
    "                )\n",
    "\n",
    "    fig.show()"
   ]
  },
  {
   "cell_type": "code",
   "execution_count": 76,
   "metadata": {},
   "outputs": [],
   "source": [
    "plot_trader_robot_actions_density(config_file_name_without_extension)"
   ]
  },
  {
   "cell_type": "code",
   "execution_count": 27,
   "metadata": {},
   "outputs": [],
   "source": [
    "def plot_trader_robot_actions_all_sim_id_all_models(config_file_name_without_extension, sim_id_A2C, sim_id_PPO, sim_id_DQN, sim_id_RANDOM):\n",
    "    \n",
    "    df_robot_actions_and_env_all_sim_id = get_and_process_trader_robot_actions_and_env_data_all_sim_id(config_file_name_without_extension)\n",
    "\n",
    "    # df_robot_actions_and_env_all_sim_id_A2C = df_robot_actions_and_env_all_sim_id[df_robot_actions_and_env_all_sim_id['model_type'] == 'A2C']\n",
    "    df_robot_actions_and_env_all_sim_id_PPO = df_robot_actions_and_env_all_sim_id[df_robot_actions_and_env_all_sim_id['model_type'] == 'PPO']\n",
    "    # df_robot_actions_and_env_all_sim_id_DQN = df_robot_actions_and_env_all_sim_id[df_robot_actions_and_env_all_sim_id['model_type'] == 'DQN']\n",
    "    # df_robot_actions_and_env_all_sim_id_RANDOM = df_robot_actions_and_env_all_sim_id[df_robot_actions_and_env_all_sim_id['model_type'] == 'RANDOM']    \n",
    "\n",
    "    # df_model_type_action_count_A2C = df_robot_actions_and_env_all_sim_id_A2C.assign(val=1).pivot_table(values='val', index=['dates'], columns=['model_type', 'actions'], aggfunc='count').stack(0).reset_index()\n",
    "    # df_model_type_action_count_A2C.rename(columns = {0.0:'action_short_count', 1.0:'action_long_count'}, inplace = True)\n",
    "\n",
    "    df_model_type_action_count_PPO = df_robot_actions_and_env_all_sim_id_PPO.assign(val=1).pivot_table(values='val', index=['dates'], columns=['model_type', 'actions'], aggfunc='count').stack(0).reset_index()\n",
    "    df_model_type_action_count_PPO.rename(columns = {0.0:'action_short_count', 1.0:'action_long_count'}, inplace = True)\n",
    "\n",
    "    # df_model_type_action_count_DQN = df_robot_actions_and_env_all_sim_id_DQN.assign(val=1).pivot_table(values='val', index=['dates'], columns=['model_type', 'actions'], aggfunc='count').stack(0).reset_index()\n",
    "    # df_model_type_action_count_DQN.rename(columns = {0.0:'action_short_count', 1.0:'action_long_count'}, inplace = True)\n",
    "\n",
    "    # df_model_type_action_count_RANDOM = df_robot_actions_and_env_all_sim_id_RANDOM.assign(val=1).pivot_table(values='val', index=['dates'], columns=['model_type', 'actions'], aggfunc='count').stack(0).reset_index()\n",
    "    # df_model_type_action_count_RANDOM.rename(columns = {0.0:'action_short_count', 1.0:'action_long_count'}, inplace = True)        \n",
    "\n",
    "    # df_robot_actions_sim_id_A2C = get_and_process_trader_robot_actions_and_env_data_one_sim_id(config_file_name_without_extension, sim_id_A2C)\n",
    "    df_robot_actions_sim_id_PPO = get_and_process_trader_robot_actions_and_env_data_one_sim_id(config_file_name_without_extension, sim_id_PPO)\n",
    "    # df_robot_actions_sim_id_DQN = get_and_process_trader_robot_actions_and_env_data_one_sim_id(config_file_name_without_extension, sim_id_DQN)\n",
    "    # df_robot_actions_sim_id_RANDOM = get_and_process_trader_robot_actions_and_env_data_one_sim_id(config_file_name_without_extension, sim_id_RANDOM)\n",
    "\n",
    "    # df_simulation_sim_id_A2C = df_trader_results[df_trader_results['sim_id'] == sim_id_A2C]\n",
    "    df_simulation_sim_id_PPO = df_trader_results[df_trader_results['sim_id'] == sim_id_PPO]\n",
    "    # df_simulation_sim_id_DQN = df_trader_results[df_trader_results['sim_id'] == sim_id_DQN]\n",
    "    # df_simulation_sim_id_RANDOM = df_trader_results[df_trader_results['sim_id'] == sim_id_RANDOM]\n",
    "\n",
    "    # str_title_A2C = f\"Median sim_id: {sim_id_A2C} | model_type: {df_simulation_sim_id_A2C.model_type.values[0]} | Total Profit percentage {round(df_simulation_sim_id_A2C.fmt_total_profit_percentage.values[0],2)}%\"\n",
    "    str_title_PPO = f\"Median sim_id: {sim_id_PPO} | model_type: {df_simulation_sim_id_PPO.model_type.values[0]} | Total Profit percentage {round(df_simulation_sim_id_PPO.fmt_total_profit_percentage.values[0],2)}%\"\n",
    "    # str_title_DQN = f\"Median sim_id: {sim_id_DQN} | model_type: {df_simulation_sim_id_DQN.model_type.values[0]} | Total Profit percentage {round(df_simulation_sim_id_DQN.fmt_total_profit_percentage.values[0],2)}%\"\n",
    "    # str_title_RANDOM = f\"Median sim_id: {sim_id_RANDOM} | model_type: {df_simulation_sim_id_RANDOM.model_type.values[0]} | Total Profit percentage {round(df_simulation_sim_id_RANDOM.fmt_total_profit_percentage.values[0],2)}%\"\n",
    "\n",
    "    str_title = f\"Median Total Profit Results x Overall view of actions (across all the simulations)\"\n",
    "\n",
    "    fig = make_subplots(rows=4, cols=1, subplot_titles=(\"\", str_title_PPO, \"\", \"\"), shared_xaxes='all', shared_yaxes='all', specs=[[{\"secondary_y\": True}], [{\"secondary_y\": True}], [{\"secondary_y\": True}], [{\"secondary_y\": True}]]) \n",
    "\n",
    "    # fig.add_trace(go.Scatter(name='Price', x=df_robot_actions_sim_id_A2C[\"dates\"], y=df_robot_actions_sim_id_A2C[\"prices\"], mode='lines', marker_color='#969696', legendgroup = '1'), row=1, col=1, secondary_y=True)\n",
    "    # fig.add_trace(go.Scatter(name='Long', x=df_robot_actions_sim_id_A2C[df_robot_actions_sim_id_A2C['actions'] == 1]['dates'], y=df_robot_actions_sim_id_A2C[df_robot_actions_sim_id_A2C['actions'] == 1]['prices'], mode='markers', marker_symbol='circle', marker_size=10, marker_color='#228b22', legendgroup = '1'), row=1, col=1, secondary_y=True)\n",
    "    # fig.add_trace(go.Scatter(name='Short', x=df_robot_actions_sim_id_A2C[df_robot_actions_sim_id_A2C['actions'] == 0]['dates'], y=df_robot_actions_sim_id_A2C[df_robot_actions_sim_id_A2C['actions'] == 0]['prices'], mode='markers', marker_symbol='circle', marker_size=10, marker_color='#c83232', legendgroup = '1'), row=1, col=1, secondary_y=True)\n",
    "\n",
    "    # fig.add_trace(go.Bar(x=df_model_type_action_count_A2C['dates'], y=df_model_type_action_count_A2C['action_long_count'], name='Long', marker_color=' #b3ffb3', legendgroup = '1'), row=1, col=1, secondary_y=False)\n",
    "    # fig.add_trace(go.Bar(x=df_model_type_action_count_A2C['dates'], y=df_model_type_action_count_A2C['action_short_count'], name='Short', marker_color='#ffb2b2', legendgroup = '1'), row=1, col=1, secondary_y=False)\n",
    "\n",
    "    fig.add_trace(go.Scatter(name='Price', x=df_robot_actions_sim_id_PPO[\"dates\"], y=df_robot_actions_sim_id_PPO[\"prices\"], mode='lines', marker_color='#969696', legendgroup = '2'), row=2, col=1, secondary_y=True)\n",
    "    fig.add_trace(go.Scatter(name='Long', x=df_robot_actions_sim_id_PPO[df_robot_actions_sim_id_PPO['actions'] == 1]['dates'], y=df_robot_actions_sim_id_PPO[df_robot_actions_sim_id_PPO['actions'] == 1]['prices'], mode='markers', marker_symbol='circle', marker_size=10, marker_color='#228b22', legendgroup = '2'), row=2, col=1, secondary_y=True)\n",
    "    fig.add_trace(go.Scatter(name='Short', x=df_robot_actions_sim_id_PPO[df_robot_actions_sim_id_PPO['actions'] == 0]['dates'], y=df_robot_actions_sim_id_PPO[df_robot_actions_sim_id_PPO['actions'] == 0]['prices'], mode='markers', marker_symbol='circle', marker_size=10, marker_color='#c83232', legendgroup = '2'), row=2, col=1, secondary_y=True)\n",
    "\n",
    "    fig.add_trace(go.Bar(x=df_model_type_action_count_PPO['dates'], y=df_model_type_action_count_PPO['action_long_count'], name='Long', marker_color=' #b3ffb3', legendgroup = '2'), row=2, col=1, secondary_y=False)\n",
    "    fig.add_trace(go.Bar(x=df_model_type_action_count_PPO['dates'], y=df_model_type_action_count_PPO['action_short_count'], name='Short', marker_color='#ffb2b2', legendgroup = '2'), row=2, col=1, secondary_y=False)\n",
    "\n",
    "    # fig.add_trace(go.Scatter(name='Price', x=df_robot_actions_sim_id_DQN[\"dates\"], y=df_robot_actions_sim_id_DQN[\"prices\"], mode='lines', marker_color='#969696', legendgroup = '3'), row=3, col=1, secondary_y=True)\n",
    "    # fig.add_trace(go.Scatter(name='Long', x=df_robot_actions_sim_id_DQN[df_robot_actions_sim_id_DQN['actions'] == 1]['dates'], y=df_robot_actions_sim_id_DQN[df_robot_actions_sim_id_DQN['actions'] == 1]['prices'], mode='markers', marker_symbol='circle', marker_size=10, marker_color='#228b22', legendgroup = '3'), row=3, col=1, secondary_y=True)\n",
    "    # fig.add_trace(go.Scatter(name='Short', x=df_robot_actions_sim_id_DQN[df_robot_actions_sim_id_DQN['actions'] == 0]['dates'], y=df_robot_actions_sim_id_DQN[df_robot_actions_sim_id_DQN['actions'] == 0]['prices'], mode='markers', marker_symbol='circle', marker_size=10, marker_color='#c83232', legendgroup = '3'), row=3, col=1, secondary_y=True)\n",
    "\n",
    "    # fig.add_trace(go.Bar(x=df_model_type_action_count_DQN['dates'], y=df_model_type_action_count_DQN['action_long_count'], name='Long', marker_color=' #b3ffb3', legendgroup = '3'), row=3, col=1, secondary_y=False)\n",
    "    # fig.add_trace(go.Bar(x=df_model_type_action_count_DQN['dates'], y=df_model_type_action_count_DQN['action_short_count'], name='Short', marker_color='#ffb2b2', legendgroup = '3'), row=3, col=1, secondary_y=False)\n",
    "\n",
    "    # fig.add_trace(go.Scatter(name='Price', x=df_robot_actions_sim_id_RANDOM[\"dates\"], y=df_robot_actions_sim_id_RANDOM[\"prices\"], mode='lines', marker_color='#969696', legendgroup = '4'), row=4, col=1, secondary_y=True)\n",
    "    # fig.add_trace(go.Scatter(name='Long', x=df_robot_actions_sim_id_RANDOM[df_robot_actions_sim_id_RANDOM['actions'] == 1]['dates'], y=df_robot_actions_sim_id_RANDOM[df_robot_actions_sim_id_RANDOM['actions'] == 1]['prices'], mode='markers', marker_symbol='circle', marker_size=10, marker_color='#228b22', legendgroup = '4'), row=4, col=1, secondary_y=True)\n",
    "    # fig.add_trace(go.Scatter(name='Short', x=df_robot_actions_sim_id_RANDOM[df_robot_actions_sim_id_RANDOM['actions'] == 0]['dates'], y=df_robot_actions_sim_id_RANDOM[df_robot_actions_sim_id_RANDOM['actions'] == 0]['prices'], mode='markers', marker_symbol='circle', marker_size=10, marker_color='#c83232', legendgroup = '4'), row=4, col=1, secondary_y=True)\n",
    "\n",
    "    # fig.add_trace(go.Bar(x=df_model_type_action_count_RANDOM['dates'], y=df_model_type_action_count_RANDOM['action_long_count'], name='Long', marker_color=' #b3ffb3', legendgroup = '4'), row=4, col=1, secondary_y=False)\n",
    "    # fig.add_trace(go.Bar(x=df_model_type_action_count_RANDOM['dates'], y=df_model_type_action_count_RANDOM['action_short_count'], name='Short', marker_color='#ffb2b2', legendgroup = '4'), row=4, col=1, secondary_y=False)\n",
    "\n",
    "    fig.update_yaxes(title_text=\"Proportion of trades<br>across all the simulations\", secondary_y=False)\n",
    "    fig.update_yaxes(title_text=f\"CCY level with the<br>sim_id actions related\", secondary_y=True)\n",
    "\n",
    "    fig.update_layout(barmode='stack', xaxis={'categoryorder':'category ascending'}, title=str_title, title_x=0.5, width=1200, height=800, legend_tracegroupgap=82, font={'size': 8})\n",
    "\n",
    "    fig.show()    "
   ]
  },
  {
   "cell_type": "code",
   "execution_count": 28,
   "metadata": {},
   "outputs": [
    {
     "data": {
      "application/vnd.plotly.v1+json": {
       "config": {
        "plotlyServerURL": "https://plot.ly"
       },
       "data": [
        {
         "legendgroup": "2",
         "marker": {
          "color": "#969696"
         },
         "mode": "lines",
         "name": "Price",
         "type": "scatter",
         "x": [
          "2022-12-27 00:00:00.000000",
          "2022-12-28 00:00:00.000000",
          "2022-12-29 00:00:00.000000",
          "2022-12-30 00:00:00.000000",
          "2022-12-31 00:00:00.000000",
          "2023-01-01 00:00:00.000000",
          "2023-01-02 00:00:00.000000",
          "2023-01-03 00:00:00.000000",
          "2023-01-04 00:00:00.000000",
          "2023-01-05 00:00:00.000000",
          "2023-01-06 00:00:00.000000",
          "2023-01-07 00:00:00.000000",
          "2023-01-08 00:00:00.000000",
          "2023-01-09 00:00:00.000000",
          "2023-01-10 00:00:00.000000",
          "2023-01-11 00:00:00.000000",
          "2023-01-12 00:00:00.000000",
          "2023-01-13 00:00:00.000000",
          "2023-01-14 00:00:00.000000",
          "2023-01-15 00:00:00.000000",
          "2023-01-16 00:00:00.000000",
          "2023-01-17 00:00:00.000000",
          "2023-01-18 00:00:00.000000",
          "2023-01-19 00:00:00.000000",
          "2023-01-20 00:00:00.000000",
          "2023-01-21 00:00:00.000000",
          "2023-01-22 00:00:00.000000",
          "2023-01-23 00:00:00.000000",
          "2023-01-24 00:00:00.000000",
          "2023-01-25 00:00:00.000000",
          "2023-01-26 00:00:00.000000",
          "2023-01-27 00:00:00.000000",
          "2023-01-28 00:00:00.000000",
          "2023-01-29 00:00:00.000000",
          "2023-01-30 00:00:00.000000",
          "2023-01-31 00:00:00.000000",
          "2023-02-01 00:00:00.000000",
          "2023-02-02 00:00:00.000000",
          "2023-02-03 00:00:00.000000",
          "2023-02-04 00:00:00.000000",
          "2023-02-05 00:00:00.000000",
          "2023-02-06 00:00:00.000000",
          "2023-02-07 00:00:00.000000",
          "2023-02-08 00:00:00.000000",
          "2023-02-09 00:00:00.000000",
          "2023-02-10 00:00:00.000000",
          "2023-02-11 00:00:00.000000",
          "2023-02-12 00:00:00.000000",
          "2023-02-13 00:00:00.000000",
          "2023-02-14 00:00:00.000000"
         ],
         "xaxis": "x2",
         "y": [
          244.3,
          246.7,
          244.5,
          246.3,
          245.8,
          246.3,
          244.4,
          245.2,
          246.1,
          258.9,
          256.7,
          259.9,
          261.3,
          274.9,
          272.6,
          277.1,
          284.8,
          287.7,
          293.7,
          305.1,
          302.2,
          299,
          299.4,
          286.7,
          294.6,
          305.1,
          299,
          303,
          305.1,
          300.3,
          306.9,
          304.7,
          308,
          306.1,
          317.2,
          307.2,
          312,
          317,
          323.5,
          332.2,
          330.4,
          327.8,
          324.3,
          333,
          328.2,
          306.2,
          305.8,
          310.4,
          312.6,
          294.3
         ],
         "yaxis": "y4"
        },
        {
         "legendgroup": "2",
         "marker": {
          "color": "#228b22",
          "size": 10,
          "symbol": "circle"
         },
         "mode": "markers",
         "name": "Long",
         "type": "scatter",
         "x": [
          "2023-01-02 00:00:00.000000",
          "2023-01-03 00:00:00.000000",
          "2023-01-04 00:00:00.000000",
          "2023-01-05 00:00:00.000000",
          "2023-01-06 00:00:00.000000",
          "2023-01-07 00:00:00.000000",
          "2023-01-08 00:00:00.000000",
          "2023-01-09 00:00:00.000000",
          "2023-01-10 00:00:00.000000",
          "2023-01-11 00:00:00.000000",
          "2023-01-12 00:00:00.000000",
          "2023-01-13 00:00:00.000000",
          "2023-01-14 00:00:00.000000",
          "2023-01-15 00:00:00.000000",
          "2023-01-16 00:00:00.000000",
          "2023-01-18 00:00:00.000000",
          "2023-01-20 00:00:00.000000",
          "2023-01-21 00:00:00.000000",
          "2023-01-22 00:00:00.000000",
          "2023-01-28 00:00:00.000000",
          "2023-02-10 00:00:00.000000",
          "2023-02-12 00:00:00.000000"
         ],
         "xaxis": "x2",
         "y": [
          244.4,
          245.2,
          246.1,
          258.9,
          256.7,
          259.9,
          261.3,
          274.9,
          272.6,
          277.1,
          284.8,
          287.7,
          293.7,
          305.1,
          302.2,
          299.4,
          294.6,
          305.1,
          299,
          308,
          306.2,
          310.4
         ],
         "yaxis": "y4"
        },
        {
         "legendgroup": "2",
         "marker": {
          "color": "#c83232",
          "size": 10,
          "symbol": "circle"
         },
         "mode": "markers",
         "name": "Short",
         "type": "scatter",
         "x": [
          "2023-01-17 00:00:00.000000",
          "2023-01-19 00:00:00.000000",
          "2023-01-23 00:00:00.000000",
          "2023-01-24 00:00:00.000000",
          "2023-01-25 00:00:00.000000",
          "2023-01-26 00:00:00.000000",
          "2023-01-27 00:00:00.000000",
          "2023-01-29 00:00:00.000000",
          "2023-01-30 00:00:00.000000",
          "2023-01-31 00:00:00.000000",
          "2023-02-01 00:00:00.000000",
          "2023-02-02 00:00:00.000000",
          "2023-02-03 00:00:00.000000",
          "2023-02-04 00:00:00.000000",
          "2023-02-05 00:00:00.000000",
          "2023-02-06 00:00:00.000000",
          "2023-02-07 00:00:00.000000",
          "2023-02-08 00:00:00.000000",
          "2023-02-09 00:00:00.000000",
          "2023-02-11 00:00:00.000000",
          "2023-02-13 00:00:00.000000",
          "2023-02-14 00:00:00.000000"
         ],
         "xaxis": "x2",
         "y": [
          299,
          286.7,
          303,
          305.1,
          300.3,
          306.9,
          304.7,
          306.1,
          317.2,
          307.2,
          312,
          317,
          323.5,
          332.2,
          330.4,
          327.8,
          324.3,
          333,
          328.2,
          305.8,
          312.6,
          294.3
         ],
         "yaxis": "y4"
        },
        {
         "legendgroup": "2",
         "marker": {
          "color": " #b3ffb3"
         },
         "name": "Long",
         "type": "bar",
         "x": [
          "2023-01-02 00:00:00.000000",
          "2023-01-03 00:00:00.000000",
          "2023-01-04 00:00:00.000000",
          "2023-01-05 00:00:00.000000",
          "2023-01-06 00:00:00.000000",
          "2023-01-07 00:00:00.000000",
          "2023-01-08 00:00:00.000000",
          "2023-01-09 00:00:00.000000",
          "2023-01-10 00:00:00.000000",
          "2023-01-11 00:00:00.000000",
          "2023-01-12 00:00:00.000000",
          "2023-01-13 00:00:00.000000",
          "2023-01-14 00:00:00.000000",
          "2023-01-15 00:00:00.000000",
          "2023-01-16 00:00:00.000000",
          "2023-01-17 00:00:00.000000",
          "2023-01-18 00:00:00.000000",
          "2023-01-19 00:00:00.000000",
          "2023-01-20 00:00:00.000000",
          "2023-01-21 00:00:00.000000",
          "2023-01-22 00:00:00.000000",
          "2023-01-23 00:00:00.000000",
          "2023-01-24 00:00:00.000000",
          "2023-01-25 00:00:00.000000",
          "2023-01-26 00:00:00.000000",
          "2023-01-27 00:00:00.000000",
          "2023-01-28 00:00:00.000000",
          "2023-01-29 00:00:00.000000",
          "2023-01-30 00:00:00.000000",
          "2023-01-31 00:00:00.000000",
          "2023-02-01 00:00:00.000000",
          "2023-02-02 00:00:00.000000",
          "2023-02-03 00:00:00.000000",
          "2023-02-04 00:00:00.000000",
          "2023-02-05 00:00:00.000000",
          "2023-02-06 00:00:00.000000",
          "2023-02-07 00:00:00.000000",
          "2023-02-08 00:00:00.000000",
          "2023-02-09 00:00:00.000000",
          "2023-02-10 00:00:00.000000",
          "2023-02-11 00:00:00.000000",
          "2023-02-12 00:00:00.000000",
          "2023-02-13 00:00:00.000000",
          "2023-02-14 00:00:00.000000"
         ],
         "xaxis": "x2",
         "y": [
          959,
          959,
          983,
          985,
          953,
          868,
          893,
          992,
          931,
          971,
          951,
          968,
          809,
          671,
          636,
          546,
          586,
          529,
          535,
          515,
          580,
          47,
          23,
          117,
          67,
          46,
          160,
          16,
          17,
          11,
          27,
          20,
          90,
          15,
          25,
          10,
          22,
          46,
          59,
          27,
          26,
          217,
          675,
          107
         ],
         "yaxis": "y3"
        },
        {
         "legendgroup": "2",
         "marker": {
          "color": "#ffb2b2"
         },
         "name": "Short",
         "type": "bar",
         "x": [
          "2023-01-02 00:00:00.000000",
          "2023-01-03 00:00:00.000000",
          "2023-01-04 00:00:00.000000",
          "2023-01-05 00:00:00.000000",
          "2023-01-06 00:00:00.000000",
          "2023-01-07 00:00:00.000000",
          "2023-01-08 00:00:00.000000",
          "2023-01-09 00:00:00.000000",
          "2023-01-10 00:00:00.000000",
          "2023-01-11 00:00:00.000000",
          "2023-01-12 00:00:00.000000",
          "2023-01-13 00:00:00.000000",
          "2023-01-14 00:00:00.000000",
          "2023-01-15 00:00:00.000000",
          "2023-01-16 00:00:00.000000",
          "2023-01-17 00:00:00.000000",
          "2023-01-18 00:00:00.000000",
          "2023-01-19 00:00:00.000000",
          "2023-01-20 00:00:00.000000",
          "2023-01-21 00:00:00.000000",
          "2023-01-22 00:00:00.000000",
          "2023-01-23 00:00:00.000000",
          "2023-01-24 00:00:00.000000",
          "2023-01-25 00:00:00.000000",
          "2023-01-26 00:00:00.000000",
          "2023-01-27 00:00:00.000000",
          "2023-01-28 00:00:00.000000",
          "2023-01-29 00:00:00.000000",
          "2023-01-30 00:00:00.000000",
          "2023-01-31 00:00:00.000000",
          "2023-02-01 00:00:00.000000",
          "2023-02-02 00:00:00.000000",
          "2023-02-03 00:00:00.000000",
          "2023-02-04 00:00:00.000000",
          "2023-02-05 00:00:00.000000",
          "2023-02-06 00:00:00.000000",
          "2023-02-07 00:00:00.000000",
          "2023-02-08 00:00:00.000000",
          "2023-02-09 00:00:00.000000",
          "2023-02-10 00:00:00.000000",
          "2023-02-11 00:00:00.000000",
          "2023-02-12 00:00:00.000000",
          "2023-02-13 00:00:00.000000",
          "2023-02-14 00:00:00.000000"
         ],
         "xaxis": "x2",
         "y": [
          41,
          41,
          17,
          15,
          47,
          132,
          107,
          8,
          69,
          29,
          49,
          32,
          191,
          329,
          364,
          454,
          414,
          471,
          465,
          485,
          420,
          953,
          977,
          883,
          933,
          954,
          840,
          984,
          983,
          989,
          973,
          980,
          910,
          985,
          975,
          990,
          978,
          954,
          941,
          973,
          974,
          783,
          325,
          893
         ],
         "yaxis": "y3"
        }
       ],
       "layout": {
        "annotations": [
         {
          "font": {
           "size": 16
          },
          "showarrow": false,
          "text": "Median sim_id: 168 | model_type: PPO | Total Profit percentage 13.41%",
          "x": 0.47,
          "xanchor": "center",
          "xref": "paper",
          "y": 0.71875,
          "yanchor": "bottom",
          "yref": "paper"
         }
        ],
        "barmode": "stack",
        "font": {
         "size": 8
        },
        "height": 800,
        "legend": {
         "tracegroupgap": 82
        },
        "template": {
         "data": {
          "bar": [
           {
            "error_x": {
             "color": "#2a3f5f"
            },
            "error_y": {
             "color": "#2a3f5f"
            },
            "marker": {
             "line": {
              "color": "#E5ECF6",
              "width": 0.5
             },
             "pattern": {
              "fillmode": "overlay",
              "size": 10,
              "solidity": 0.2
             }
            },
            "type": "bar"
           }
          ],
          "barpolar": [
           {
            "marker": {
             "line": {
              "color": "#E5ECF6",
              "width": 0.5
             },
             "pattern": {
              "fillmode": "overlay",
              "size": 10,
              "solidity": 0.2
             }
            },
            "type": "barpolar"
           }
          ],
          "carpet": [
           {
            "aaxis": {
             "endlinecolor": "#2a3f5f",
             "gridcolor": "white",
             "linecolor": "white",
             "minorgridcolor": "white",
             "startlinecolor": "#2a3f5f"
            },
            "baxis": {
             "endlinecolor": "#2a3f5f",
             "gridcolor": "white",
             "linecolor": "white",
             "minorgridcolor": "white",
             "startlinecolor": "#2a3f5f"
            },
            "type": "carpet"
           }
          ],
          "choropleth": [
           {
            "colorbar": {
             "outlinewidth": 0,
             "ticks": ""
            },
            "type": "choropleth"
           }
          ],
          "contour": [
           {
            "colorbar": {
             "outlinewidth": 0,
             "ticks": ""
            },
            "colorscale": [
             [
              0,
              "#0d0887"
             ],
             [
              0.1111111111111111,
              "#46039f"
             ],
             [
              0.2222222222222222,
              "#7201a8"
             ],
             [
              0.3333333333333333,
              "#9c179e"
             ],
             [
              0.4444444444444444,
              "#bd3786"
             ],
             [
              0.5555555555555556,
              "#d8576b"
             ],
             [
              0.6666666666666666,
              "#ed7953"
             ],
             [
              0.7777777777777778,
              "#fb9f3a"
             ],
             [
              0.8888888888888888,
              "#fdca26"
             ],
             [
              1,
              "#f0f921"
             ]
            ],
            "type": "contour"
           }
          ],
          "contourcarpet": [
           {
            "colorbar": {
             "outlinewidth": 0,
             "ticks": ""
            },
            "type": "contourcarpet"
           }
          ],
          "heatmap": [
           {
            "colorbar": {
             "outlinewidth": 0,
             "ticks": ""
            },
            "colorscale": [
             [
              0,
              "#0d0887"
             ],
             [
              0.1111111111111111,
              "#46039f"
             ],
             [
              0.2222222222222222,
              "#7201a8"
             ],
             [
              0.3333333333333333,
              "#9c179e"
             ],
             [
              0.4444444444444444,
              "#bd3786"
             ],
             [
              0.5555555555555556,
              "#d8576b"
             ],
             [
              0.6666666666666666,
              "#ed7953"
             ],
             [
              0.7777777777777778,
              "#fb9f3a"
             ],
             [
              0.8888888888888888,
              "#fdca26"
             ],
             [
              1,
              "#f0f921"
             ]
            ],
            "type": "heatmap"
           }
          ],
          "heatmapgl": [
           {
            "colorbar": {
             "outlinewidth": 0,
             "ticks": ""
            },
            "colorscale": [
             [
              0,
              "#0d0887"
             ],
             [
              0.1111111111111111,
              "#46039f"
             ],
             [
              0.2222222222222222,
              "#7201a8"
             ],
             [
              0.3333333333333333,
              "#9c179e"
             ],
             [
              0.4444444444444444,
              "#bd3786"
             ],
             [
              0.5555555555555556,
              "#d8576b"
             ],
             [
              0.6666666666666666,
              "#ed7953"
             ],
             [
              0.7777777777777778,
              "#fb9f3a"
             ],
             [
              0.8888888888888888,
              "#fdca26"
             ],
             [
              1,
              "#f0f921"
             ]
            ],
            "type": "heatmapgl"
           }
          ],
          "histogram": [
           {
            "marker": {
             "pattern": {
              "fillmode": "overlay",
              "size": 10,
              "solidity": 0.2
             }
            },
            "type": "histogram"
           }
          ],
          "histogram2d": [
           {
            "colorbar": {
             "outlinewidth": 0,
             "ticks": ""
            },
            "colorscale": [
             [
              0,
              "#0d0887"
             ],
             [
              0.1111111111111111,
              "#46039f"
             ],
             [
              0.2222222222222222,
              "#7201a8"
             ],
             [
              0.3333333333333333,
              "#9c179e"
             ],
             [
              0.4444444444444444,
              "#bd3786"
             ],
             [
              0.5555555555555556,
              "#d8576b"
             ],
             [
              0.6666666666666666,
              "#ed7953"
             ],
             [
              0.7777777777777778,
              "#fb9f3a"
             ],
             [
              0.8888888888888888,
              "#fdca26"
             ],
             [
              1,
              "#f0f921"
             ]
            ],
            "type": "histogram2d"
           }
          ],
          "histogram2dcontour": [
           {
            "colorbar": {
             "outlinewidth": 0,
             "ticks": ""
            },
            "colorscale": [
             [
              0,
              "#0d0887"
             ],
             [
              0.1111111111111111,
              "#46039f"
             ],
             [
              0.2222222222222222,
              "#7201a8"
             ],
             [
              0.3333333333333333,
              "#9c179e"
             ],
             [
              0.4444444444444444,
              "#bd3786"
             ],
             [
              0.5555555555555556,
              "#d8576b"
             ],
             [
              0.6666666666666666,
              "#ed7953"
             ],
             [
              0.7777777777777778,
              "#fb9f3a"
             ],
             [
              0.8888888888888888,
              "#fdca26"
             ],
             [
              1,
              "#f0f921"
             ]
            ],
            "type": "histogram2dcontour"
           }
          ],
          "mesh3d": [
           {
            "colorbar": {
             "outlinewidth": 0,
             "ticks": ""
            },
            "type": "mesh3d"
           }
          ],
          "parcoords": [
           {
            "line": {
             "colorbar": {
              "outlinewidth": 0,
              "ticks": ""
             }
            },
            "type": "parcoords"
           }
          ],
          "pie": [
           {
            "automargin": true,
            "type": "pie"
           }
          ],
          "scatter": [
           {
            "fillpattern": {
             "fillmode": "overlay",
             "size": 10,
             "solidity": 0.2
            },
            "type": "scatter"
           }
          ],
          "scatter3d": [
           {
            "line": {
             "colorbar": {
              "outlinewidth": 0,
              "ticks": ""
             }
            },
            "marker": {
             "colorbar": {
              "outlinewidth": 0,
              "ticks": ""
             }
            },
            "type": "scatter3d"
           }
          ],
          "scattercarpet": [
           {
            "marker": {
             "colorbar": {
              "outlinewidth": 0,
              "ticks": ""
             }
            },
            "type": "scattercarpet"
           }
          ],
          "scattergeo": [
           {
            "marker": {
             "colorbar": {
              "outlinewidth": 0,
              "ticks": ""
             }
            },
            "type": "scattergeo"
           }
          ],
          "scattergl": [
           {
            "marker": {
             "colorbar": {
              "outlinewidth": 0,
              "ticks": ""
             }
            },
            "type": "scattergl"
           }
          ],
          "scattermapbox": [
           {
            "marker": {
             "colorbar": {
              "outlinewidth": 0,
              "ticks": ""
             }
            },
            "type": "scattermapbox"
           }
          ],
          "scatterpolar": [
           {
            "marker": {
             "colorbar": {
              "outlinewidth": 0,
              "ticks": ""
             }
            },
            "type": "scatterpolar"
           }
          ],
          "scatterpolargl": [
           {
            "marker": {
             "colorbar": {
              "outlinewidth": 0,
              "ticks": ""
             }
            },
            "type": "scatterpolargl"
           }
          ],
          "scatterternary": [
           {
            "marker": {
             "colorbar": {
              "outlinewidth": 0,
              "ticks": ""
             }
            },
            "type": "scatterternary"
           }
          ],
          "surface": [
           {
            "colorbar": {
             "outlinewidth": 0,
             "ticks": ""
            },
            "colorscale": [
             [
              0,
              "#0d0887"
             ],
             [
              0.1111111111111111,
              "#46039f"
             ],
             [
              0.2222222222222222,
              "#7201a8"
             ],
             [
              0.3333333333333333,
              "#9c179e"
             ],
             [
              0.4444444444444444,
              "#bd3786"
             ],
             [
              0.5555555555555556,
              "#d8576b"
             ],
             [
              0.6666666666666666,
              "#ed7953"
             ],
             [
              0.7777777777777778,
              "#fb9f3a"
             ],
             [
              0.8888888888888888,
              "#fdca26"
             ],
             [
              1,
              "#f0f921"
             ]
            ],
            "type": "surface"
           }
          ],
          "table": [
           {
            "cells": {
             "fill": {
              "color": "#EBF0F8"
             },
             "line": {
              "color": "white"
             }
            },
            "header": {
             "fill": {
              "color": "#C8D4E3"
             },
             "line": {
              "color": "white"
             }
            },
            "type": "table"
           }
          ]
         },
         "layout": {
          "annotationdefaults": {
           "arrowcolor": "#2a3f5f",
           "arrowhead": 0,
           "arrowwidth": 1
          },
          "autotypenumbers": "strict",
          "coloraxis": {
           "colorbar": {
            "outlinewidth": 0,
            "ticks": ""
           }
          },
          "colorscale": {
           "diverging": [
            [
             0,
             "#8e0152"
            ],
            [
             0.1,
             "#c51b7d"
            ],
            [
             0.2,
             "#de77ae"
            ],
            [
             0.3,
             "#f1b6da"
            ],
            [
             0.4,
             "#fde0ef"
            ],
            [
             0.5,
             "#f7f7f7"
            ],
            [
             0.6,
             "#e6f5d0"
            ],
            [
             0.7,
             "#b8e186"
            ],
            [
             0.8,
             "#7fbc41"
            ],
            [
             0.9,
             "#4d9221"
            ],
            [
             1,
             "#276419"
            ]
           ],
           "sequential": [
            [
             0,
             "#0d0887"
            ],
            [
             0.1111111111111111,
             "#46039f"
            ],
            [
             0.2222222222222222,
             "#7201a8"
            ],
            [
             0.3333333333333333,
             "#9c179e"
            ],
            [
             0.4444444444444444,
             "#bd3786"
            ],
            [
             0.5555555555555556,
             "#d8576b"
            ],
            [
             0.6666666666666666,
             "#ed7953"
            ],
            [
             0.7777777777777778,
             "#fb9f3a"
            ],
            [
             0.8888888888888888,
             "#fdca26"
            ],
            [
             1,
             "#f0f921"
            ]
           ],
           "sequentialminus": [
            [
             0,
             "#0d0887"
            ],
            [
             0.1111111111111111,
             "#46039f"
            ],
            [
             0.2222222222222222,
             "#7201a8"
            ],
            [
             0.3333333333333333,
             "#9c179e"
            ],
            [
             0.4444444444444444,
             "#bd3786"
            ],
            [
             0.5555555555555556,
             "#d8576b"
            ],
            [
             0.6666666666666666,
             "#ed7953"
            ],
            [
             0.7777777777777778,
             "#fb9f3a"
            ],
            [
             0.8888888888888888,
             "#fdca26"
            ],
            [
             1,
             "#f0f921"
            ]
           ]
          },
          "colorway": [
           "#636efa",
           "#EF553B",
           "#00cc96",
           "#ab63fa",
           "#FFA15A",
           "#19d3f3",
           "#FF6692",
           "#B6E880",
           "#FF97FF",
           "#FECB52"
          ],
          "font": {
           "color": "#2a3f5f"
          },
          "geo": {
           "bgcolor": "white",
           "lakecolor": "white",
           "landcolor": "#E5ECF6",
           "showlakes": true,
           "showland": true,
           "subunitcolor": "white"
          },
          "hoverlabel": {
           "align": "left"
          },
          "hovermode": "closest",
          "mapbox": {
           "style": "light"
          },
          "paper_bgcolor": "white",
          "plot_bgcolor": "#E5ECF6",
          "polar": {
           "angularaxis": {
            "gridcolor": "white",
            "linecolor": "white",
            "ticks": ""
           },
           "bgcolor": "#E5ECF6",
           "radialaxis": {
            "gridcolor": "white",
            "linecolor": "white",
            "ticks": ""
           }
          },
          "scene": {
           "xaxis": {
            "backgroundcolor": "#E5ECF6",
            "gridcolor": "white",
            "gridwidth": 2,
            "linecolor": "white",
            "showbackground": true,
            "ticks": "",
            "zerolinecolor": "white"
           },
           "yaxis": {
            "backgroundcolor": "#E5ECF6",
            "gridcolor": "white",
            "gridwidth": 2,
            "linecolor": "white",
            "showbackground": true,
            "ticks": "",
            "zerolinecolor": "white"
           },
           "zaxis": {
            "backgroundcolor": "#E5ECF6",
            "gridcolor": "white",
            "gridwidth": 2,
            "linecolor": "white",
            "showbackground": true,
            "ticks": "",
            "zerolinecolor": "white"
           }
          },
          "shapedefaults": {
           "line": {
            "color": "#2a3f5f"
           }
          },
          "ternary": {
           "aaxis": {
            "gridcolor": "white",
            "linecolor": "white",
            "ticks": ""
           },
           "baxis": {
            "gridcolor": "white",
            "linecolor": "white",
            "ticks": ""
           },
           "bgcolor": "#E5ECF6",
           "caxis": {
            "gridcolor": "white",
            "linecolor": "white",
            "ticks": ""
           }
          },
          "title": {
           "x": 0.05
          },
          "xaxis": {
           "automargin": true,
           "gridcolor": "white",
           "linecolor": "white",
           "ticks": "",
           "title": {
            "standoff": 15
           },
           "zerolinecolor": "white",
           "zerolinewidth": 2
          },
          "yaxis": {
           "automargin": true,
           "gridcolor": "white",
           "linecolor": "white",
           "ticks": "",
           "title": {
            "standoff": 15
           },
           "zerolinecolor": "white",
           "zerolinewidth": 2
          }
         }
        },
        "title": {
         "text": "Median Total Profit Results x Overall view of actions (across all the simulations)",
         "x": 0.5
        },
        "width": 1200,
        "xaxis": {
         "anchor": "y",
         "categoryorder": "category ascending",
         "domain": [
          0,
          0.94
         ],
         "matches": "x4",
         "showticklabels": false
        },
        "xaxis2": {
         "anchor": "y3",
         "domain": [
          0,
          0.94
         ],
         "matches": "x4",
         "showticklabels": false
        },
        "xaxis3": {
         "anchor": "y5",
         "domain": [
          0,
          0.94
         ],
         "matches": "x4",
         "showticklabels": false
        },
        "xaxis4": {
         "anchor": "y7",
         "domain": [
          0,
          0.94
         ]
        },
        "yaxis": {
         "anchor": "x",
         "domain": [
          0.84375,
          1
         ],
         "matches": "y7",
         "title": {
          "text": "Proportion of trades<br>across all the simulations"
         }
        },
        "yaxis2": {
         "anchor": "x",
         "overlaying": "y",
         "side": "right",
         "title": {
          "text": "CCY level with the<br>sim_id actions related"
         }
        },
        "yaxis3": {
         "anchor": "x2",
         "domain": [
          0.5625,
          0.71875
         ],
         "matches": "y7",
         "title": {
          "text": "Proportion of trades<br>across all the simulations"
         }
        },
        "yaxis4": {
         "anchor": "x2",
         "overlaying": "y3",
         "side": "right",
         "title": {
          "text": "CCY level with the<br>sim_id actions related"
         }
        },
        "yaxis5": {
         "anchor": "x3",
         "domain": [
          0.28125,
          0.4375
         ],
         "matches": "y7",
         "title": {
          "text": "Proportion of trades<br>across all the simulations"
         }
        },
        "yaxis6": {
         "anchor": "x3",
         "overlaying": "y5",
         "side": "right",
         "title": {
          "text": "CCY level with the<br>sim_id actions related"
         }
        },
        "yaxis7": {
         "anchor": "x4",
         "domain": [
          0,
          0.15625
         ],
         "title": {
          "text": "Proportion of trades<br>across all the simulations"
         }
        },
        "yaxis8": {
         "anchor": "x4",
         "overlaying": "y7",
         "side": "right",
         "title": {
          "text": "CCY level with the<br>sim_id actions related"
         }
        }
       }
      }
     },
     "metadata": {},
     "output_type": "display_data"
    }
   ],
   "source": [
    "plot_trader_robot_actions_all_sim_id_all_models(config_file_name_without_extension, \"\", median_sim_id_PPO, \"\", \"\")"
   ]
  },
  {
   "cell_type": "code",
   "execution_count": 29,
   "metadata": {},
   "outputs": [],
   "source": [
    "def calc_reward_long_short(df):\n",
    "    \n",
    "    total_profit_percentage = 1.0\n",
    "    previous_action = df['actions'].iloc[0]\n",
    "    previous_price = df['prices'].iloc[0]\n",
    "    \n",
    "    for index, row in df.iterrows():\n",
    "    \n",
    "        current_action = row['actions']\n",
    "        current_price = row['prices']\n",
    "    \n",
    "        if(previous_action != current_action):\n",
    "\n",
    "            if(current_action == 0):\n",
    "                reward = current_price / previous_price\n",
    "            else:\n",
    "                reward = previous_price / current_price\n",
    "            \n",
    "            total_profit_percentage = total_profit_percentage * reward\n",
    "            previous_action = row['actions'] \n",
    "            previous_price = row['prices']\n",
    "\n",
    "        df.loc[index,'total_profit_percentage_long_short'] = total_profit_percentage\n",
    "        df.loc[index,'fmt_total_profit_percentage_long_short'] = (total_profit_percentage - 1 ) * 100\n",
    "        \n",
    "    return df"
   ]
  },
  {
   "cell_type": "code",
   "execution_count": 53,
   "metadata": {},
   "outputs": [],
   "source": [
    "def calc_reward_buy_hold(df):\n",
    "    \n",
    "    total_profit_percentage = 1.0\n",
    "    previous_action = df['actions'].iloc[0]\n",
    "    previous_price = df['prices'].iloc[0]\n",
    "    \n",
    "    for index, row in df.iterrows():\n",
    "    \n",
    "        current_action = row['actions']\n",
    "        current_price = row['prices']\n",
    "    \n",
    "        if(previous_action != current_action):\n",
    "\n",
    "            if(current_action == 0):\n",
    "                reward = current_price / previous_price\n",
    "                total_profit_percentage = total_profit_percentage * reward\n",
    "            else:\n",
    "                previous_price = row['prices']\n",
    "            previous_action = row['actions'] \n",
    "\n",
    "        df.loc[index,'total_profit_percentage_buy_hold'] = total_profit_percentage\n",
    "        df.loc[index,'fmt_total_profit_percentage_buy_hold'] = (total_profit_percentage - 1 ) * 100\n",
    "        \n",
    "    return df"
   ]
  },
  {
   "cell_type": "code",
   "execution_count": 56,
   "metadata": {},
   "outputs": [],
   "source": [
    "def plot_trader_robot_actions_all_sim_id_combined_all_models(config_file_name_without_extension):\n",
    "    \n",
    "    df_robot_actions_and_env_all_sim_id = get_and_process_trader_robot_actions_and_env_data_all_sim_id(config_file_name_without_extension)\n",
    "    df_prices = df_robot_actions_and_env_all_sim_id[['dates', 'prices']].drop_duplicates()\n",
    "\n",
    "    # df_robot_actions_and_env_all_sim_id_A2C = df_robot_actions_and_env_all_sim_id[df_robot_actions_and_env_all_sim_id['model_type'] == 'A2C']\n",
    "    df_robot_actions_and_env_all_sim_id_PPO = df_robot_actions_and_env_all_sim_id[df_robot_actions_and_env_all_sim_id['model_type'] == 'PPO']\n",
    "    # df_robot_actions_and_env_all_sim_id_DQN = df_robot_actions_and_env_all_sim_id[df_robot_actions_and_env_all_sim_id['model_type'] == 'DQN']\n",
    "    # df_robot_actions_and_env_all_sim_id_RANDOM = df_robot_actions_and_env_all_sim_id[df_robot_actions_and_env_all_sim_id['model_type'] == 'RANDOM']    \n",
    "\n",
    "    # df_model_type_action_count_A2C = df_robot_actions_and_env_all_sim_id_A2C.assign(val=1).pivot_table(values='val', index=['dates'], columns=['model_type', 'actions'], aggfunc='count').stack(0).reset_index()\n",
    "    # df_model_type_action_count_A2C.rename(columns = {0.0:'action_short_count', 1.0:'action_long_count'}, inplace = True)\n",
    "    # df_model_type_action_count_A2C['actions'] = (df_model_type_action_count_A2C[\"action_long_count\"]>=df_model_type_action_count_A2C[\"action_short_count\"])*1\n",
    "    # df_model_type_action_count_A2C = df_model_type_action_count_A2C.merge(df_prices, on='dates', how='left')\n",
    "    # df_model_type_action_count_A2C = calc_reward_long_short(df_model_type_action_count_A2C)\n",
    "    # df_model_type_action_count_A2C = calc_reward_buy_hold(df_model_type_action_count_A2C)\n",
    "\n",
    "    df_model_type_action_count_PPO = df_robot_actions_and_env_all_sim_id_PPO.assign(val=1).pivot_table(values='val', index=['dates'], columns=['model_type', 'actions'], aggfunc='count').stack(0).reset_index()\n",
    "    df_model_type_action_count_PPO.rename(columns = {0.0:'action_short_count', 1.0:'action_long_count'}, inplace = True)\n",
    "    df_model_type_action_count_PPO['actions'] = (df_model_type_action_count_PPO[\"action_long_count\"]>=df_model_type_action_count_PPO[\"action_short_count\"])*1\n",
    "    df_model_type_action_count_PPO = df_model_type_action_count_PPO.merge(df_prices, on='dates', how='left')\n",
    "    df_model_type_action_count_PPO = calc_reward_long_short(df_model_type_action_count_PPO)\n",
    "    df_model_type_action_count_PPO = calc_reward_buy_hold(df_model_type_action_count_PPO)\n",
    "\n",
    "    # df_model_type_action_count_DQN = df_robot_actions_and_env_all_sim_id_DQN.assign(val=1).pivot_table(values='val', index=['dates'], columns=['model_type', 'actions'], aggfunc='count').stack(0).reset_index()\n",
    "    # df_model_type_action_count_DQN.rename(columns = {0.0:'action_short_count', 1.0:'action_long_count'}, inplace = True)\n",
    "    # df_model_type_action_count_DQN['actions'] = (df_model_type_action_count_DQN[\"action_long_count\"]>=df_model_type_action_count_DQN[\"action_short_count\"])*1\n",
    "    # df_model_type_action_count_DQN = df_model_type_action_count_DQN.merge(df_prices, on='dates', how='left')\n",
    "    # df_model_type_action_count_DQN = calc_reward_long_short(df_model_type_action_count_DQN)\n",
    "    # df_model_type_action_count_DQN = calc_reward_buy_hold(df_model_type_action_count_DQN)\n",
    "\n",
    "    # df_model_type_action_count_RANDOM = df_robot_actions_and_env_all_sim_id_RANDOM.assign(val=1).pivot_table(values='val', index=['dates'], columns=['model_type', 'actions'], aggfunc='count').stack(0).reset_index()\n",
    "    # df_model_type_action_count_RANDOM.rename(columns = {0.0:'action_short_count', 1.0:'action_long_count'}, inplace = True)\n",
    "    # df_model_type_action_count_RANDOM['actions'] = (df_model_type_action_count_RANDOM[\"action_long_count\"]>=df_model_type_action_count_RANDOM[\"action_short_count\"])*1\n",
    "    # df_model_type_action_count_RANDOM = df_model_type_action_count_RANDOM.merge(df_prices, on='dates', how='left')\n",
    "    # df_model_type_action_count_RANDOM = calc_reward_long_short(df_model_type_action_count_RANDOM)\n",
    "    # df_model_type_action_count_RANDOM = calc_reward_buy_hold(df_model_type_action_count_RANDOM)\n",
    "\n",
    "    # str_title_A2C = f\"model_type: A2C | Total Profit percentage (long-short): {round(df_model_type_action_count_A2C.fmt_total_profit_percentage_long_short.values[-1],2)}% | Total Profit percentage (buy-hold): {round(df_model_type_action_count_A2C.fmt_total_profit_percentage_buy_hold.values[-1],2)}%\"\n",
    "    str_title_PPO = f\"model_type: PPO | Total Profit percentage (long-short): {round(df_model_type_action_count_PPO.fmt_total_profit_percentage_long_short.values[-1],2)}% | Total Profit percentage (buy-hold): {round(df_model_type_action_count_PPO.fmt_total_profit_percentage_buy_hold.values[-1],2)}%\"\n",
    "    # str_title_DQN = f\"model_type: DQN | Total Profit percentage (long-short): {round(df_model_type_action_count_DQN.fmt_total_profit_percentage_long_short.values[-1],2)}% | Total Profit percentage (buy-hold): {round(df_model_type_action_count_DQN.fmt_total_profit_percentage_buy_hold.values[-1],2)}%\"\n",
    "    # str_title_RANDOM = f\"model_type: RANDOM | Total Profit percentage (long-short): {round(df_model_type_action_count_RANDOM.fmt_total_profit_percentage_long_short.values[-1],2)}% | Total Profit percentage (buy-hold): {round(df_model_type_action_count_RANDOM.fmt_total_profit_percentage_buy_hold.values[-1],2)}%\"\n",
    "\n",
    "    str_title = f\"Median Total Profit Results x Overall view of actions (across all the simulations)\"\n",
    "\n",
    "    fig = make_subplots(rows=4, cols=1, subplot_titles=(\"\", str_title_PPO, \"\", \"\"), shared_xaxes='all', shared_yaxes='all', specs=[[{\"secondary_y\": True}], [{\"secondary_y\": True}], [{\"secondary_y\": True}], [{\"secondary_y\": True}]]) \n",
    "\n",
    "    # fig.add_trace(go.Scatter(name='Price', x=df_model_type_action_count_A2C[\"dates\"], y=df_model_type_action_count_A2C[\"prices\"], mode='lines', marker_color='#969696', legendgroup = '1'), row=1, col=1, secondary_y=True)\n",
    "    # fig.add_trace(go.Scatter(name='Long', x=df_model_type_action_count_A2C[df_model_type_action_count_A2C['actions'] == 1]['dates'], y=df_model_type_action_count_A2C[df_model_type_action_count_A2C['actions'] == 1]['prices'], mode='markers', marker_symbol='circle', marker_size=10, marker_color='#228b22', legendgroup = '1'), row=1, col=1, secondary_y=True)\n",
    "    # fig.add_trace(go.Scatter(name='Short', x=df_model_type_action_count_A2C[df_model_type_action_count_A2C['actions'] == 0]['dates'], y=df_model_type_action_count_A2C[df_model_type_action_count_A2C['actions'] == 0]['prices'], mode='markers', marker_symbol='circle', marker_size=10, marker_color='#c83232', legendgroup = '1'), row=1, col=1, secondary_y=True)\n",
    "\n",
    "    # fig.add_trace(go.Bar(x=df_model_type_action_count_A2C['dates'], y=df_model_type_action_count_A2C['action_long_count'], name='Long', marker_color=' #b3ffb3', legendgroup = '1'), row=1, col=1, secondary_y=False)\n",
    "    # fig.add_trace(go.Bar(x=df_model_type_action_count_A2C['dates'], y=df_model_type_action_count_A2C['action_short_count'], name='Short', marker_color='#ffb2b2', legendgroup = '1'), row=1, col=1, secondary_y=False)\n",
    "\n",
    "    fig.add_trace(go.Scatter(name='Price', x=df_model_type_action_count_PPO[\"dates\"], y=df_model_type_action_count_PPO[\"prices\"], mode='lines', marker_color='#969696', legendgroup = '2'), row=2, col=1, secondary_y=True)\n",
    "    fig.add_trace(go.Scatter(name='Long', x=df_model_type_action_count_PPO[df_model_type_action_count_PPO['actions'] == 1]['dates'], y=df_model_type_action_count_PPO[df_model_type_action_count_PPO['actions'] == 1]['prices'], mode='markers', marker_symbol='circle', marker_size=10, marker_color='#228b22', legendgroup = '2'), row=2, col=1, secondary_y=True)\n",
    "    fig.add_trace(go.Scatter(name='Short', x=df_model_type_action_count_PPO[df_model_type_action_count_PPO['actions'] == 0]['dates'], y=df_model_type_action_count_PPO[df_model_type_action_count_PPO['actions'] == 0]['prices'], mode='markers', marker_symbol='circle', marker_size=10, marker_color='#c83232', legendgroup = '2'), row=2, col=1, secondary_y=True)\n",
    "\n",
    "    fig.add_trace(go.Bar(x=df_model_type_action_count_PPO['dates'], y=df_model_type_action_count_PPO['action_long_count'], name='Long', marker_color=' #b3ffb3', legendgroup = '2'), row=2, col=1, secondary_y=False)\n",
    "    fig.add_trace(go.Bar(x=df_model_type_action_count_PPO['dates'], y=df_model_type_action_count_PPO['action_short_count'], name='Short', marker_color='#ffb2b2', legendgroup = '2'), row=2, col=1, secondary_y=False)\n",
    "\n",
    "    # fig.add_trace(go.Scatter(name='Price', x=df_model_type_action_count_DQN[\"dates\"], y=df_model_type_action_count_DQN[\"prices\"], mode='lines', marker_color='#969696', legendgroup = '3'), row=3, col=1, secondary_y=True)\n",
    "    # fig.add_trace(go.Scatter(name='Long', x=df_model_type_action_count_DQN[df_model_type_action_count_DQN['actions'] == 1]['dates'], y=df_model_type_action_count_DQN[df_model_type_action_count_DQN['actions'] == 1]['prices'], mode='markers', marker_symbol='circle', marker_size=10, marker_color='#228b22', legendgroup = '3'), row=3, col=1, secondary_y=True)\n",
    "    # fig.add_trace(go.Scatter(name='Short', x=df_model_type_action_count_DQN[df_model_type_action_count_DQN['actions'] == 0]['dates'], y=df_model_type_action_count_DQN[df_model_type_action_count_DQN['actions'] == 0]['prices'], mode='markers', marker_symbol='circle', marker_size=10, marker_color='#c83232', legendgroup = '3'), row=3, col=1, secondary_y=True)\n",
    "\n",
    "    # fig.add_trace(go.Bar(x=df_model_type_action_count_DQN['dates'], y=df_model_type_action_count_DQN['action_long_count'], name='Long', marker_color=' #b3ffb3', legendgroup = '3'), row=3, col=1, secondary_y=False)\n",
    "    # fig.add_trace(go.Bar(x=df_model_type_action_count_DQN['dates'], y=df_model_type_action_count_DQN['action_short_count'], name='Short', marker_color='#ffb2b2', legendgroup = '3'), row=3, col=1, secondary_y=False)\n",
    "\n",
    "    # fig.add_trace(go.Scatter(name='Price', x=df_model_type_action_count_RANDOM[\"dates\"], y=df_model_type_action_count_RANDOM[\"prices\"], mode='lines', marker_color='#969696', legendgroup = '4'), row=4, col=1, secondary_y=True)\n",
    "    # fig.add_trace(go.Scatter(name='Long', x=df_model_type_action_count_RANDOM[df_model_type_action_count_RANDOM['actions'] == 1]['dates'], y=df_model_type_action_count_RANDOM[df_model_type_action_count_RANDOM['actions'] == 1]['prices'], mode='markers', marker_symbol='circle', marker_size=10, marker_color='#228b22', legendgroup = '4'), row=4, col=1, secondary_y=True)\n",
    "    # fig.add_trace(go.Scatter(name='Short', x=df_model_type_action_count_RANDOM[df_model_type_action_count_RANDOM['actions'] == 0]['dates'], y=df_model_type_action_count_RANDOM[df_model_type_action_count_RANDOM['actions'] == 0]['prices'], mode='markers', marker_symbol='circle', marker_size=10, marker_color='#c83232', legendgroup = '4'), row=4, col=1, secondary_y=True)\n",
    "\n",
    "    # fig.add_trace(go.Bar(x=df_model_type_action_count_RANDOM['dates'], y=df_model_type_action_count_RANDOM['action_long_count'], name='Long', marker_color=' #b3ffb3', legendgroup = '4'), row=4, col=1, secondary_y=False)\n",
    "    # fig.add_trace(go.Bar(x=df_model_type_action_count_RANDOM['dates'], y=df_model_type_action_count_RANDOM['action_short_count'], name='Short', marker_color='#ffb2b2', legendgroup = '4'), row=4, col=1, secondary_y=False)\n",
    "\n",
    "    fig.update_yaxes(title_text=\"Proportion of trades<br>across all the simulations\", secondary_y=False)\n",
    "    fig.update_yaxes(title_text=f\"CCY level with the<br>sim_id actions related\", secondary_y=True)\n",
    "\n",
    "    fig.update_layout(barmode='stack', xaxis={'categoryorder':'category ascending'}, title=str_title, title_x=0.5, width=1200, height=800, legend_tracegroupgap=82, font={'size': 8})\n",
    "\n",
    "    fig.show()    "
   ]
  },
  {
   "cell_type": "code",
   "execution_count": 57,
   "metadata": {},
   "outputs": [
    {
     "data": {
      "application/vnd.plotly.v1+json": {
       "config": {
        "plotlyServerURL": "https://plot.ly"
       },
       "data": [
        {
         "legendgroup": "2",
         "marker": {
          "color": "#969696"
         },
         "mode": "lines",
         "name": "Price",
         "type": "scatter",
         "x": [
          "2023-01-02 00:00:00.000000",
          "2023-01-03 00:00:00.000000",
          "2023-01-04 00:00:00.000000",
          "2023-01-05 00:00:00.000000",
          "2023-01-06 00:00:00.000000",
          "2023-01-07 00:00:00.000000",
          "2023-01-08 00:00:00.000000",
          "2023-01-09 00:00:00.000000",
          "2023-01-10 00:00:00.000000",
          "2023-01-11 00:00:00.000000",
          "2023-01-12 00:00:00.000000",
          "2023-01-13 00:00:00.000000",
          "2023-01-14 00:00:00.000000",
          "2023-01-15 00:00:00.000000",
          "2023-01-16 00:00:00.000000",
          "2023-01-17 00:00:00.000000",
          "2023-01-18 00:00:00.000000",
          "2023-01-19 00:00:00.000000",
          "2023-01-20 00:00:00.000000",
          "2023-01-21 00:00:00.000000",
          "2023-01-22 00:00:00.000000",
          "2023-01-23 00:00:00.000000",
          "2023-01-24 00:00:00.000000",
          "2023-01-25 00:00:00.000000",
          "2023-01-26 00:00:00.000000",
          "2023-01-27 00:00:00.000000",
          "2023-01-28 00:00:00.000000",
          "2023-01-29 00:00:00.000000",
          "2023-01-30 00:00:00.000000",
          "2023-01-31 00:00:00.000000",
          "2023-02-01 00:00:00.000000",
          "2023-02-02 00:00:00.000000",
          "2023-02-03 00:00:00.000000",
          "2023-02-04 00:00:00.000000",
          "2023-02-05 00:00:00.000000",
          "2023-02-06 00:00:00.000000",
          "2023-02-07 00:00:00.000000",
          "2023-02-08 00:00:00.000000",
          "2023-02-09 00:00:00.000000",
          "2023-02-10 00:00:00.000000",
          "2023-02-11 00:00:00.000000",
          "2023-02-12 00:00:00.000000",
          "2023-02-13 00:00:00.000000",
          "2023-02-14 00:00:00.000000"
         ],
         "xaxis": "x2",
         "y": [
          244.4,
          245.2,
          246.1,
          258.9,
          256.7,
          259.9,
          261.3,
          274.9,
          272.6,
          277.1,
          284.8,
          287.7,
          293.7,
          305.1,
          302.2,
          299,
          299.4,
          286.7,
          294.6,
          305.1,
          299,
          303,
          305.1,
          300.3,
          306.9,
          304.7,
          308,
          306.1,
          317.2,
          307.2,
          312,
          317,
          323.5,
          332.2,
          330.4,
          327.8,
          324.3,
          333,
          328.2,
          306.2,
          305.8,
          310.4,
          312.6,
          294.3
         ],
         "yaxis": "y4"
        },
        {
         "legendgroup": "2",
         "marker": {
          "color": "#228b22",
          "size": 10,
          "symbol": "circle"
         },
         "mode": "markers",
         "name": "Long",
         "type": "scatter",
         "x": [
          "2023-01-02 00:00:00.000000",
          "2023-01-03 00:00:00.000000",
          "2023-01-04 00:00:00.000000",
          "2023-01-05 00:00:00.000000",
          "2023-01-06 00:00:00.000000",
          "2023-01-07 00:00:00.000000",
          "2023-01-08 00:00:00.000000",
          "2023-01-09 00:00:00.000000",
          "2023-01-10 00:00:00.000000",
          "2023-01-11 00:00:00.000000",
          "2023-01-12 00:00:00.000000",
          "2023-01-13 00:00:00.000000",
          "2023-01-14 00:00:00.000000",
          "2023-01-15 00:00:00.000000",
          "2023-01-16 00:00:00.000000",
          "2023-01-17 00:00:00.000000",
          "2023-01-18 00:00:00.000000",
          "2023-01-19 00:00:00.000000",
          "2023-01-20 00:00:00.000000",
          "2023-01-21 00:00:00.000000",
          "2023-01-22 00:00:00.000000",
          "2023-02-13 00:00:00.000000"
         ],
         "xaxis": "x2",
         "y": [
          244.4,
          245.2,
          246.1,
          258.9,
          256.7,
          259.9,
          261.3,
          274.9,
          272.6,
          277.1,
          284.8,
          287.7,
          293.7,
          305.1,
          302.2,
          299,
          299.4,
          286.7,
          294.6,
          305.1,
          299,
          312.6
         ],
         "yaxis": "y4"
        },
        {
         "legendgroup": "2",
         "marker": {
          "color": "#c83232",
          "size": 10,
          "symbol": "circle"
         },
         "mode": "markers",
         "name": "Short",
         "type": "scatter",
         "x": [
          "2023-01-23 00:00:00.000000",
          "2023-01-24 00:00:00.000000",
          "2023-01-25 00:00:00.000000",
          "2023-01-26 00:00:00.000000",
          "2023-01-27 00:00:00.000000",
          "2023-01-28 00:00:00.000000",
          "2023-01-29 00:00:00.000000",
          "2023-01-30 00:00:00.000000",
          "2023-01-31 00:00:00.000000",
          "2023-02-01 00:00:00.000000",
          "2023-02-02 00:00:00.000000",
          "2023-02-03 00:00:00.000000",
          "2023-02-04 00:00:00.000000",
          "2023-02-05 00:00:00.000000",
          "2023-02-06 00:00:00.000000",
          "2023-02-07 00:00:00.000000",
          "2023-02-08 00:00:00.000000",
          "2023-02-09 00:00:00.000000",
          "2023-02-10 00:00:00.000000",
          "2023-02-11 00:00:00.000000",
          "2023-02-12 00:00:00.000000",
          "2023-02-14 00:00:00.000000"
         ],
         "xaxis": "x2",
         "y": [
          303,
          305.1,
          300.3,
          306.9,
          304.7,
          308,
          306.1,
          317.2,
          307.2,
          312,
          317,
          323.5,
          332.2,
          330.4,
          327.8,
          324.3,
          333,
          328.2,
          306.2,
          305.8,
          310.4,
          294.3
         ],
         "yaxis": "y4"
        },
        {
         "legendgroup": "2",
         "marker": {
          "color": " #b3ffb3"
         },
         "name": "Long",
         "type": "bar",
         "x": [
          "2023-01-02 00:00:00.000000",
          "2023-01-03 00:00:00.000000",
          "2023-01-04 00:00:00.000000",
          "2023-01-05 00:00:00.000000",
          "2023-01-06 00:00:00.000000",
          "2023-01-07 00:00:00.000000",
          "2023-01-08 00:00:00.000000",
          "2023-01-09 00:00:00.000000",
          "2023-01-10 00:00:00.000000",
          "2023-01-11 00:00:00.000000",
          "2023-01-12 00:00:00.000000",
          "2023-01-13 00:00:00.000000",
          "2023-01-14 00:00:00.000000",
          "2023-01-15 00:00:00.000000",
          "2023-01-16 00:00:00.000000",
          "2023-01-17 00:00:00.000000",
          "2023-01-18 00:00:00.000000",
          "2023-01-19 00:00:00.000000",
          "2023-01-20 00:00:00.000000",
          "2023-01-21 00:00:00.000000",
          "2023-01-22 00:00:00.000000",
          "2023-01-23 00:00:00.000000",
          "2023-01-24 00:00:00.000000",
          "2023-01-25 00:00:00.000000",
          "2023-01-26 00:00:00.000000",
          "2023-01-27 00:00:00.000000",
          "2023-01-28 00:00:00.000000",
          "2023-01-29 00:00:00.000000",
          "2023-01-30 00:00:00.000000",
          "2023-01-31 00:00:00.000000",
          "2023-02-01 00:00:00.000000",
          "2023-02-02 00:00:00.000000",
          "2023-02-03 00:00:00.000000",
          "2023-02-04 00:00:00.000000",
          "2023-02-05 00:00:00.000000",
          "2023-02-06 00:00:00.000000",
          "2023-02-07 00:00:00.000000",
          "2023-02-08 00:00:00.000000",
          "2023-02-09 00:00:00.000000",
          "2023-02-10 00:00:00.000000",
          "2023-02-11 00:00:00.000000",
          "2023-02-12 00:00:00.000000",
          "2023-02-13 00:00:00.000000",
          "2023-02-14 00:00:00.000000"
         ],
         "xaxis": "x2",
         "y": [
          959,
          959,
          983,
          985,
          953,
          868,
          893,
          992,
          931,
          971,
          951,
          968,
          809,
          671,
          636,
          546,
          586,
          529,
          535,
          515,
          580,
          47,
          23,
          117,
          67,
          46,
          160,
          16,
          17,
          11,
          27,
          20,
          90,
          15,
          25,
          10,
          22,
          46,
          59,
          27,
          26,
          217,
          675,
          107
         ],
         "yaxis": "y3"
        },
        {
         "legendgroup": "2",
         "marker": {
          "color": "#ffb2b2"
         },
         "name": "Short",
         "type": "bar",
         "x": [
          "2023-01-02 00:00:00.000000",
          "2023-01-03 00:00:00.000000",
          "2023-01-04 00:00:00.000000",
          "2023-01-05 00:00:00.000000",
          "2023-01-06 00:00:00.000000",
          "2023-01-07 00:00:00.000000",
          "2023-01-08 00:00:00.000000",
          "2023-01-09 00:00:00.000000",
          "2023-01-10 00:00:00.000000",
          "2023-01-11 00:00:00.000000",
          "2023-01-12 00:00:00.000000",
          "2023-01-13 00:00:00.000000",
          "2023-01-14 00:00:00.000000",
          "2023-01-15 00:00:00.000000",
          "2023-01-16 00:00:00.000000",
          "2023-01-17 00:00:00.000000",
          "2023-01-18 00:00:00.000000",
          "2023-01-19 00:00:00.000000",
          "2023-01-20 00:00:00.000000",
          "2023-01-21 00:00:00.000000",
          "2023-01-22 00:00:00.000000",
          "2023-01-23 00:00:00.000000",
          "2023-01-24 00:00:00.000000",
          "2023-01-25 00:00:00.000000",
          "2023-01-26 00:00:00.000000",
          "2023-01-27 00:00:00.000000",
          "2023-01-28 00:00:00.000000",
          "2023-01-29 00:00:00.000000",
          "2023-01-30 00:00:00.000000",
          "2023-01-31 00:00:00.000000",
          "2023-02-01 00:00:00.000000",
          "2023-02-02 00:00:00.000000",
          "2023-02-03 00:00:00.000000",
          "2023-02-04 00:00:00.000000",
          "2023-02-05 00:00:00.000000",
          "2023-02-06 00:00:00.000000",
          "2023-02-07 00:00:00.000000",
          "2023-02-08 00:00:00.000000",
          "2023-02-09 00:00:00.000000",
          "2023-02-10 00:00:00.000000",
          "2023-02-11 00:00:00.000000",
          "2023-02-12 00:00:00.000000",
          "2023-02-13 00:00:00.000000",
          "2023-02-14 00:00:00.000000"
         ],
         "xaxis": "x2",
         "y": [
          41,
          41,
          17,
          15,
          47,
          132,
          107,
          8,
          69,
          29,
          49,
          32,
          191,
          329,
          364,
          454,
          414,
          471,
          465,
          485,
          420,
          953,
          977,
          883,
          933,
          954,
          840,
          984,
          983,
          989,
          973,
          980,
          910,
          985,
          975,
          990,
          978,
          954,
          941,
          973,
          974,
          783,
          325,
          893
         ],
         "yaxis": "y3"
        }
       ],
       "layout": {
        "annotations": [
         {
          "font": {
           "size": 16
          },
          "showarrow": false,
          "text": "Median sim_id: mix | model_type: PPO | Total Profit percentage (long-short): 13.13% | Total Profit percentage (buy-hold): 16.72%",
          "x": 0.47,
          "xanchor": "center",
          "xref": "paper",
          "y": 0.71875,
          "yanchor": "bottom",
          "yref": "paper"
         }
        ],
        "barmode": "stack",
        "font": {
         "size": 8
        },
        "height": 800,
        "legend": {
         "tracegroupgap": 82
        },
        "template": {
         "data": {
          "bar": [
           {
            "error_x": {
             "color": "#2a3f5f"
            },
            "error_y": {
             "color": "#2a3f5f"
            },
            "marker": {
             "line": {
              "color": "#E5ECF6",
              "width": 0.5
             },
             "pattern": {
              "fillmode": "overlay",
              "size": 10,
              "solidity": 0.2
             }
            },
            "type": "bar"
           }
          ],
          "barpolar": [
           {
            "marker": {
             "line": {
              "color": "#E5ECF6",
              "width": 0.5
             },
             "pattern": {
              "fillmode": "overlay",
              "size": 10,
              "solidity": 0.2
             }
            },
            "type": "barpolar"
           }
          ],
          "carpet": [
           {
            "aaxis": {
             "endlinecolor": "#2a3f5f",
             "gridcolor": "white",
             "linecolor": "white",
             "minorgridcolor": "white",
             "startlinecolor": "#2a3f5f"
            },
            "baxis": {
             "endlinecolor": "#2a3f5f",
             "gridcolor": "white",
             "linecolor": "white",
             "minorgridcolor": "white",
             "startlinecolor": "#2a3f5f"
            },
            "type": "carpet"
           }
          ],
          "choropleth": [
           {
            "colorbar": {
             "outlinewidth": 0,
             "ticks": ""
            },
            "type": "choropleth"
           }
          ],
          "contour": [
           {
            "colorbar": {
             "outlinewidth": 0,
             "ticks": ""
            },
            "colorscale": [
             [
              0,
              "#0d0887"
             ],
             [
              0.1111111111111111,
              "#46039f"
             ],
             [
              0.2222222222222222,
              "#7201a8"
             ],
             [
              0.3333333333333333,
              "#9c179e"
             ],
             [
              0.4444444444444444,
              "#bd3786"
             ],
             [
              0.5555555555555556,
              "#d8576b"
             ],
             [
              0.6666666666666666,
              "#ed7953"
             ],
             [
              0.7777777777777778,
              "#fb9f3a"
             ],
             [
              0.8888888888888888,
              "#fdca26"
             ],
             [
              1,
              "#f0f921"
             ]
            ],
            "type": "contour"
           }
          ],
          "contourcarpet": [
           {
            "colorbar": {
             "outlinewidth": 0,
             "ticks": ""
            },
            "type": "contourcarpet"
           }
          ],
          "heatmap": [
           {
            "colorbar": {
             "outlinewidth": 0,
             "ticks": ""
            },
            "colorscale": [
             [
              0,
              "#0d0887"
             ],
             [
              0.1111111111111111,
              "#46039f"
             ],
             [
              0.2222222222222222,
              "#7201a8"
             ],
             [
              0.3333333333333333,
              "#9c179e"
             ],
             [
              0.4444444444444444,
              "#bd3786"
             ],
             [
              0.5555555555555556,
              "#d8576b"
             ],
             [
              0.6666666666666666,
              "#ed7953"
             ],
             [
              0.7777777777777778,
              "#fb9f3a"
             ],
             [
              0.8888888888888888,
              "#fdca26"
             ],
             [
              1,
              "#f0f921"
             ]
            ],
            "type": "heatmap"
           }
          ],
          "heatmapgl": [
           {
            "colorbar": {
             "outlinewidth": 0,
             "ticks": ""
            },
            "colorscale": [
             [
              0,
              "#0d0887"
             ],
             [
              0.1111111111111111,
              "#46039f"
             ],
             [
              0.2222222222222222,
              "#7201a8"
             ],
             [
              0.3333333333333333,
              "#9c179e"
             ],
             [
              0.4444444444444444,
              "#bd3786"
             ],
             [
              0.5555555555555556,
              "#d8576b"
             ],
             [
              0.6666666666666666,
              "#ed7953"
             ],
             [
              0.7777777777777778,
              "#fb9f3a"
             ],
             [
              0.8888888888888888,
              "#fdca26"
             ],
             [
              1,
              "#f0f921"
             ]
            ],
            "type": "heatmapgl"
           }
          ],
          "histogram": [
           {
            "marker": {
             "pattern": {
              "fillmode": "overlay",
              "size": 10,
              "solidity": 0.2
             }
            },
            "type": "histogram"
           }
          ],
          "histogram2d": [
           {
            "colorbar": {
             "outlinewidth": 0,
             "ticks": ""
            },
            "colorscale": [
             [
              0,
              "#0d0887"
             ],
             [
              0.1111111111111111,
              "#46039f"
             ],
             [
              0.2222222222222222,
              "#7201a8"
             ],
             [
              0.3333333333333333,
              "#9c179e"
             ],
             [
              0.4444444444444444,
              "#bd3786"
             ],
             [
              0.5555555555555556,
              "#d8576b"
             ],
             [
              0.6666666666666666,
              "#ed7953"
             ],
             [
              0.7777777777777778,
              "#fb9f3a"
             ],
             [
              0.8888888888888888,
              "#fdca26"
             ],
             [
              1,
              "#f0f921"
             ]
            ],
            "type": "histogram2d"
           }
          ],
          "histogram2dcontour": [
           {
            "colorbar": {
             "outlinewidth": 0,
             "ticks": ""
            },
            "colorscale": [
             [
              0,
              "#0d0887"
             ],
             [
              0.1111111111111111,
              "#46039f"
             ],
             [
              0.2222222222222222,
              "#7201a8"
             ],
             [
              0.3333333333333333,
              "#9c179e"
             ],
             [
              0.4444444444444444,
              "#bd3786"
             ],
             [
              0.5555555555555556,
              "#d8576b"
             ],
             [
              0.6666666666666666,
              "#ed7953"
             ],
             [
              0.7777777777777778,
              "#fb9f3a"
             ],
             [
              0.8888888888888888,
              "#fdca26"
             ],
             [
              1,
              "#f0f921"
             ]
            ],
            "type": "histogram2dcontour"
           }
          ],
          "mesh3d": [
           {
            "colorbar": {
             "outlinewidth": 0,
             "ticks": ""
            },
            "type": "mesh3d"
           }
          ],
          "parcoords": [
           {
            "line": {
             "colorbar": {
              "outlinewidth": 0,
              "ticks": ""
             }
            },
            "type": "parcoords"
           }
          ],
          "pie": [
           {
            "automargin": true,
            "type": "pie"
           }
          ],
          "scatter": [
           {
            "fillpattern": {
             "fillmode": "overlay",
             "size": 10,
             "solidity": 0.2
            },
            "type": "scatter"
           }
          ],
          "scatter3d": [
           {
            "line": {
             "colorbar": {
              "outlinewidth": 0,
              "ticks": ""
             }
            },
            "marker": {
             "colorbar": {
              "outlinewidth": 0,
              "ticks": ""
             }
            },
            "type": "scatter3d"
           }
          ],
          "scattercarpet": [
           {
            "marker": {
             "colorbar": {
              "outlinewidth": 0,
              "ticks": ""
             }
            },
            "type": "scattercarpet"
           }
          ],
          "scattergeo": [
           {
            "marker": {
             "colorbar": {
              "outlinewidth": 0,
              "ticks": ""
             }
            },
            "type": "scattergeo"
           }
          ],
          "scattergl": [
           {
            "marker": {
             "colorbar": {
              "outlinewidth": 0,
              "ticks": ""
             }
            },
            "type": "scattergl"
           }
          ],
          "scattermapbox": [
           {
            "marker": {
             "colorbar": {
              "outlinewidth": 0,
              "ticks": ""
             }
            },
            "type": "scattermapbox"
           }
          ],
          "scatterpolar": [
           {
            "marker": {
             "colorbar": {
              "outlinewidth": 0,
              "ticks": ""
             }
            },
            "type": "scatterpolar"
           }
          ],
          "scatterpolargl": [
           {
            "marker": {
             "colorbar": {
              "outlinewidth": 0,
              "ticks": ""
             }
            },
            "type": "scatterpolargl"
           }
          ],
          "scatterternary": [
           {
            "marker": {
             "colorbar": {
              "outlinewidth": 0,
              "ticks": ""
             }
            },
            "type": "scatterternary"
           }
          ],
          "surface": [
           {
            "colorbar": {
             "outlinewidth": 0,
             "ticks": ""
            },
            "colorscale": [
             [
              0,
              "#0d0887"
             ],
             [
              0.1111111111111111,
              "#46039f"
             ],
             [
              0.2222222222222222,
              "#7201a8"
             ],
             [
              0.3333333333333333,
              "#9c179e"
             ],
             [
              0.4444444444444444,
              "#bd3786"
             ],
             [
              0.5555555555555556,
              "#d8576b"
             ],
             [
              0.6666666666666666,
              "#ed7953"
             ],
             [
              0.7777777777777778,
              "#fb9f3a"
             ],
             [
              0.8888888888888888,
              "#fdca26"
             ],
             [
              1,
              "#f0f921"
             ]
            ],
            "type": "surface"
           }
          ],
          "table": [
           {
            "cells": {
             "fill": {
              "color": "#EBF0F8"
             },
             "line": {
              "color": "white"
             }
            },
            "header": {
             "fill": {
              "color": "#C8D4E3"
             },
             "line": {
              "color": "white"
             }
            },
            "type": "table"
           }
          ]
         },
         "layout": {
          "annotationdefaults": {
           "arrowcolor": "#2a3f5f",
           "arrowhead": 0,
           "arrowwidth": 1
          },
          "autotypenumbers": "strict",
          "coloraxis": {
           "colorbar": {
            "outlinewidth": 0,
            "ticks": ""
           }
          },
          "colorscale": {
           "diverging": [
            [
             0,
             "#8e0152"
            ],
            [
             0.1,
             "#c51b7d"
            ],
            [
             0.2,
             "#de77ae"
            ],
            [
             0.3,
             "#f1b6da"
            ],
            [
             0.4,
             "#fde0ef"
            ],
            [
             0.5,
             "#f7f7f7"
            ],
            [
             0.6,
             "#e6f5d0"
            ],
            [
             0.7,
             "#b8e186"
            ],
            [
             0.8,
             "#7fbc41"
            ],
            [
             0.9,
             "#4d9221"
            ],
            [
             1,
             "#276419"
            ]
           ],
           "sequential": [
            [
             0,
             "#0d0887"
            ],
            [
             0.1111111111111111,
             "#46039f"
            ],
            [
             0.2222222222222222,
             "#7201a8"
            ],
            [
             0.3333333333333333,
             "#9c179e"
            ],
            [
             0.4444444444444444,
             "#bd3786"
            ],
            [
             0.5555555555555556,
             "#d8576b"
            ],
            [
             0.6666666666666666,
             "#ed7953"
            ],
            [
             0.7777777777777778,
             "#fb9f3a"
            ],
            [
             0.8888888888888888,
             "#fdca26"
            ],
            [
             1,
             "#f0f921"
            ]
           ],
           "sequentialminus": [
            [
             0,
             "#0d0887"
            ],
            [
             0.1111111111111111,
             "#46039f"
            ],
            [
             0.2222222222222222,
             "#7201a8"
            ],
            [
             0.3333333333333333,
             "#9c179e"
            ],
            [
             0.4444444444444444,
             "#bd3786"
            ],
            [
             0.5555555555555556,
             "#d8576b"
            ],
            [
             0.6666666666666666,
             "#ed7953"
            ],
            [
             0.7777777777777778,
             "#fb9f3a"
            ],
            [
             0.8888888888888888,
             "#fdca26"
            ],
            [
             1,
             "#f0f921"
            ]
           ]
          },
          "colorway": [
           "#636efa",
           "#EF553B",
           "#00cc96",
           "#ab63fa",
           "#FFA15A",
           "#19d3f3",
           "#FF6692",
           "#B6E880",
           "#FF97FF",
           "#FECB52"
          ],
          "font": {
           "color": "#2a3f5f"
          },
          "geo": {
           "bgcolor": "white",
           "lakecolor": "white",
           "landcolor": "#E5ECF6",
           "showlakes": true,
           "showland": true,
           "subunitcolor": "white"
          },
          "hoverlabel": {
           "align": "left"
          },
          "hovermode": "closest",
          "mapbox": {
           "style": "light"
          },
          "paper_bgcolor": "white",
          "plot_bgcolor": "#E5ECF6",
          "polar": {
           "angularaxis": {
            "gridcolor": "white",
            "linecolor": "white",
            "ticks": ""
           },
           "bgcolor": "#E5ECF6",
           "radialaxis": {
            "gridcolor": "white",
            "linecolor": "white",
            "ticks": ""
           }
          },
          "scene": {
           "xaxis": {
            "backgroundcolor": "#E5ECF6",
            "gridcolor": "white",
            "gridwidth": 2,
            "linecolor": "white",
            "showbackground": true,
            "ticks": "",
            "zerolinecolor": "white"
           },
           "yaxis": {
            "backgroundcolor": "#E5ECF6",
            "gridcolor": "white",
            "gridwidth": 2,
            "linecolor": "white",
            "showbackground": true,
            "ticks": "",
            "zerolinecolor": "white"
           },
           "zaxis": {
            "backgroundcolor": "#E5ECF6",
            "gridcolor": "white",
            "gridwidth": 2,
            "linecolor": "white",
            "showbackground": true,
            "ticks": "",
            "zerolinecolor": "white"
           }
          },
          "shapedefaults": {
           "line": {
            "color": "#2a3f5f"
           }
          },
          "ternary": {
           "aaxis": {
            "gridcolor": "white",
            "linecolor": "white",
            "ticks": ""
           },
           "baxis": {
            "gridcolor": "white",
            "linecolor": "white",
            "ticks": ""
           },
           "bgcolor": "#E5ECF6",
           "caxis": {
            "gridcolor": "white",
            "linecolor": "white",
            "ticks": ""
           }
          },
          "title": {
           "x": 0.05
          },
          "xaxis": {
           "automargin": true,
           "gridcolor": "white",
           "linecolor": "white",
           "ticks": "",
           "title": {
            "standoff": 15
           },
           "zerolinecolor": "white",
           "zerolinewidth": 2
          },
          "yaxis": {
           "automargin": true,
           "gridcolor": "white",
           "linecolor": "white",
           "ticks": "",
           "title": {
            "standoff": 15
           },
           "zerolinecolor": "white",
           "zerolinewidth": 2
          }
         }
        },
        "title": {
         "text": "Median Total Profit Results x Overall view of actions (across all the simulations)",
         "x": 0.5
        },
        "width": 1200,
        "xaxis": {
         "anchor": "y",
         "categoryorder": "category ascending",
         "domain": [
          0,
          0.94
         ],
         "matches": "x4",
         "showticklabels": false
        },
        "xaxis2": {
         "anchor": "y3",
         "domain": [
          0,
          0.94
         ],
         "matches": "x4",
         "showticklabels": false
        },
        "xaxis3": {
         "anchor": "y5",
         "domain": [
          0,
          0.94
         ],
         "matches": "x4",
         "showticklabels": false
        },
        "xaxis4": {
         "anchor": "y7",
         "domain": [
          0,
          0.94
         ]
        },
        "yaxis": {
         "anchor": "x",
         "domain": [
          0.84375,
          1
         ],
         "matches": "y7",
         "title": {
          "text": "Proportion of trades<br>across all the simulations"
         }
        },
        "yaxis2": {
         "anchor": "x",
         "overlaying": "y",
         "side": "right",
         "title": {
          "text": "CCY level with the<br>sim_id actions related"
         }
        },
        "yaxis3": {
         "anchor": "x2",
         "domain": [
          0.5625,
          0.71875
         ],
         "matches": "y7",
         "title": {
          "text": "Proportion of trades<br>across all the simulations"
         }
        },
        "yaxis4": {
         "anchor": "x2",
         "overlaying": "y3",
         "side": "right",
         "title": {
          "text": "CCY level with the<br>sim_id actions related"
         }
        },
        "yaxis5": {
         "anchor": "x3",
         "domain": [
          0.28125,
          0.4375
         ],
         "matches": "y7",
         "title": {
          "text": "Proportion of trades<br>across all the simulations"
         }
        },
        "yaxis6": {
         "anchor": "x3",
         "overlaying": "y5",
         "side": "right",
         "title": {
          "text": "CCY level with the<br>sim_id actions related"
         }
        },
        "yaxis7": {
         "anchor": "x4",
         "domain": [
          0,
          0.15625
         ],
         "title": {
          "text": "Proportion of trades<br>across all the simulations"
         }
        },
        "yaxis8": {
         "anchor": "x4",
         "overlaying": "y7",
         "side": "right",
         "title": {
          "text": "CCY level with the<br>sim_id actions related"
         }
        }
       }
      }
     },
     "metadata": {},
     "output_type": "display_data"
    }
   ],
   "source": [
    "plot_trader_robot_actions_all_sim_id_combined_all_models(config_file_name_without_extension)"
   ]
  },
  {
   "cell_type": "code",
   "execution_count": 33,
   "metadata": {},
   "outputs": [
    {
     "name": "stdout",
     "output_type": "stream",
     "text": [
      "mean_reward=118.83 +/- 0.0\n"
     ]
    }
   ],
   "source": [
    "# Evaluate the loaded policy\n",
    "mean_reward, std_reward = evaluate_policy(saved_policy, env, n_eval_episodes=10, deterministic=True)\n",
    "\n",
    "print(f\"mean_reward={mean_reward:.2f} +/- {std_reward}\")"
   ]
  },
  {
   "cell_type": "code",
   "execution_count": null,
   "metadata": {},
   "outputs": [],
   "source": []
  },
  {
   "cell_type": "code",
   "execution_count": null,
   "metadata": {},
   "outputs": [],
   "source": []
  },
  {
   "cell_type": "code",
   "execution_count": null,
   "metadata": {},
   "outputs": [],
   "source": []
  },
  {
   "cell_type": "code",
   "execution_count": 34,
   "metadata": {},
   "outputs": [],
   "source": [
    "df_robot_actions_and_env_all_sim_id = get_and_process_trader_robot_actions_and_env_data_all_sim_id(config_file_name_without_extension)"
   ]
  },
  {
   "cell_type": "code",
   "execution_count": 35,
   "metadata": {},
   "outputs": [
    {
     "data": {
      "text/html": [
       "<div>\n",
       "<style scoped>\n",
       "    .dataframe tbody tr th:only-of-type {\n",
       "        vertical-align: middle;\n",
       "    }\n",
       "\n",
       "    .dataframe tbody tr th {\n",
       "        vertical-align: top;\n",
       "    }\n",
       "\n",
       "    .dataframe thead th {\n",
       "        text-align: right;\n",
       "    }\n",
       "</style>\n",
       "<table border=\"1\" class=\"dataframe\">\n",
       "  <thead>\n",
       "    <tr style=\"text-align: right;\">\n",
       "      <th></th>\n",
       "      <th>dates</th>\n",
       "      <th>prices</th>\n",
       "      <th>actions</th>\n",
       "      <th>total_reward_cash</th>\n",
       "      <th>total_profit_percentage</th>\n",
       "      <th>fmt_total_profit_percentage</th>\n",
       "      <th>num_of_trades</th>\n",
       "      <th>sim_id</th>\n",
       "      <th>sim_id</th>\n",
       "      <th>model_type</th>\n",
       "    </tr>\n",
       "  </thead>\n",
       "  <tbody>\n",
       "    <tr>\n",
       "      <th>0</th>\n",
       "      <td>2022-12-27 00:00:00.000000</td>\n",
       "      <td>244.3</td>\n",
       "      <td>NaN</td>\n",
       "      <td>0.0</td>\n",
       "      <td>0.000000</td>\n",
       "      <td>0.000000</td>\n",
       "      <td>0.0</td>\n",
       "      <td>1</td>\n",
       "      <td>1</td>\n",
       "      <td>PPO</td>\n",
       "    </tr>\n",
       "    <tr>\n",
       "      <th>1</th>\n",
       "      <td>2022-12-28 00:00:00.000000</td>\n",
       "      <td>246.7</td>\n",
       "      <td>NaN</td>\n",
       "      <td>0.0</td>\n",
       "      <td>0.000000</td>\n",
       "      <td>0.000000</td>\n",
       "      <td>0.0</td>\n",
       "      <td>1</td>\n",
       "      <td>1</td>\n",
       "      <td>PPO</td>\n",
       "    </tr>\n",
       "    <tr>\n",
       "      <th>2</th>\n",
       "      <td>2022-12-29 00:00:00.000000</td>\n",
       "      <td>244.5</td>\n",
       "      <td>NaN</td>\n",
       "      <td>0.0</td>\n",
       "      <td>0.000000</td>\n",
       "      <td>0.000000</td>\n",
       "      <td>0.0</td>\n",
       "      <td>1</td>\n",
       "      <td>1</td>\n",
       "      <td>PPO</td>\n",
       "    </tr>\n",
       "    <tr>\n",
       "      <th>3</th>\n",
       "      <td>2022-12-30 00:00:00.000000</td>\n",
       "      <td>246.3</td>\n",
       "      <td>NaN</td>\n",
       "      <td>0.0</td>\n",
       "      <td>0.000000</td>\n",
       "      <td>0.000000</td>\n",
       "      <td>0.0</td>\n",
       "      <td>1</td>\n",
       "      <td>1</td>\n",
       "      <td>PPO</td>\n",
       "    </tr>\n",
       "    <tr>\n",
       "      <th>4</th>\n",
       "      <td>2022-12-31 00:00:00.000000</td>\n",
       "      <td>245.8</td>\n",
       "      <td>NaN</td>\n",
       "      <td>0.0</td>\n",
       "      <td>0.000000</td>\n",
       "      <td>0.000000</td>\n",
       "      <td>0.0</td>\n",
       "      <td>1</td>\n",
       "      <td>1</td>\n",
       "      <td>PPO</td>\n",
       "    </tr>\n",
       "    <tr>\n",
       "      <th>...</th>\n",
       "      <td>...</td>\n",
       "      <td>...</td>\n",
       "      <td>...</td>\n",
       "      <td>...</td>\n",
       "      <td>...</td>\n",
       "      <td>...</td>\n",
       "      <td>...</td>\n",
       "      <td>...</td>\n",
       "      <td>...</td>\n",
       "      <td>...</td>\n",
       "    </tr>\n",
       "    <tr>\n",
       "      <th>49995</th>\n",
       "      <td>2023-02-10 00:00:00.000000</td>\n",
       "      <td>306.2</td>\n",
       "      <td>0.0</td>\n",
       "      <td>64.2</td>\n",
       "      <td>1.263068</td>\n",
       "      <td>26.306807</td>\n",
       "      <td>3.0</td>\n",
       "      <td>1000</td>\n",
       "      <td>1000</td>\n",
       "      <td>PPO</td>\n",
       "    </tr>\n",
       "    <tr>\n",
       "      <th>49996</th>\n",
       "      <td>2023-02-11 00:00:00.000000</td>\n",
       "      <td>305.8</td>\n",
       "      <td>0.0</td>\n",
       "      <td>64.2</td>\n",
       "      <td>1.263068</td>\n",
       "      <td>26.306807</td>\n",
       "      <td>3.0</td>\n",
       "      <td>1000</td>\n",
       "      <td>1000</td>\n",
       "      <td>PPO</td>\n",
       "    </tr>\n",
       "    <tr>\n",
       "      <th>49997</th>\n",
       "      <td>2023-02-12 00:00:00.000000</td>\n",
       "      <td>310.4</td>\n",
       "      <td>0.0</td>\n",
       "      <td>64.2</td>\n",
       "      <td>1.263068</td>\n",
       "      <td>26.306807</td>\n",
       "      <td>3.0</td>\n",
       "      <td>1000</td>\n",
       "      <td>1000</td>\n",
       "      <td>PPO</td>\n",
       "    </tr>\n",
       "    <tr>\n",
       "      <th>49998</th>\n",
       "      <td>2023-02-13 00:00:00.000000</td>\n",
       "      <td>312.6</td>\n",
       "      <td>0.0</td>\n",
       "      <td>64.2</td>\n",
       "      <td>1.263068</td>\n",
       "      <td>26.306807</td>\n",
       "      <td>3.0</td>\n",
       "      <td>1000</td>\n",
       "      <td>1000</td>\n",
       "      <td>PPO</td>\n",
       "    </tr>\n",
       "    <tr>\n",
       "      <th>49999</th>\n",
       "      <td>2023-02-14 00:00:00.000000</td>\n",
       "      <td>294.3</td>\n",
       "      <td>0.0</td>\n",
       "      <td>64.2</td>\n",
       "      <td>1.263068</td>\n",
       "      <td>26.306807</td>\n",
       "      <td>3.0</td>\n",
       "      <td>1000</td>\n",
       "      <td>1000</td>\n",
       "      <td>PPO</td>\n",
       "    </tr>\n",
       "  </tbody>\n",
       "</table>\n",
       "<p>50000 rows × 10 columns</p>\n",
       "</div>"
      ],
      "text/plain": [
       "                            dates  prices  actions  total_reward_cash  \\\n",
       "0      2022-12-27 00:00:00.000000   244.3      NaN                0.0   \n",
       "1      2022-12-28 00:00:00.000000   246.7      NaN                0.0   \n",
       "2      2022-12-29 00:00:00.000000   244.5      NaN                0.0   \n",
       "3      2022-12-30 00:00:00.000000   246.3      NaN                0.0   \n",
       "4      2022-12-31 00:00:00.000000   245.8      NaN                0.0   \n",
       "...                           ...     ...      ...                ...   \n",
       "49995  2023-02-10 00:00:00.000000   306.2      0.0               64.2   \n",
       "49996  2023-02-11 00:00:00.000000   305.8      0.0               64.2   \n",
       "49997  2023-02-12 00:00:00.000000   310.4      0.0               64.2   \n",
       "49998  2023-02-13 00:00:00.000000   312.6      0.0               64.2   \n",
       "49999  2023-02-14 00:00:00.000000   294.3      0.0               64.2   \n",
       "\n",
       "       total_profit_percentage  fmt_total_profit_percentage  num_of_trades  \\\n",
       "0                     0.000000                     0.000000            0.0   \n",
       "1                     0.000000                     0.000000            0.0   \n",
       "2                     0.000000                     0.000000            0.0   \n",
       "3                     0.000000                     0.000000            0.0   \n",
       "4                     0.000000                     0.000000            0.0   \n",
       "...                        ...                          ...            ...   \n",
       "49995                 1.263068                    26.306807            3.0   \n",
       "49996                 1.263068                    26.306807            3.0   \n",
       "49997                 1.263068                    26.306807            3.0   \n",
       "49998                 1.263068                    26.306807            3.0   \n",
       "49999                 1.263068                    26.306807            3.0   \n",
       "\n",
       "       sim_id  sim_id model_type  \n",
       "0           1       1        PPO  \n",
       "1           1       1        PPO  \n",
       "2           1       1        PPO  \n",
       "3           1       1        PPO  \n",
       "4           1       1        PPO  \n",
       "...       ...     ...        ...  \n",
       "49995    1000    1000        PPO  \n",
       "49996    1000    1000        PPO  \n",
       "49997    1000    1000        PPO  \n",
       "49998    1000    1000        PPO  \n",
       "49999    1000    1000        PPO  \n",
       "\n",
       "[50000 rows x 10 columns]"
      ]
     },
     "execution_count": 35,
     "metadata": {},
     "output_type": "execute_result"
    }
   ],
   "source": [
    "df_robot_actions_and_env_all_sim_id"
   ]
  },
  {
   "cell_type": "code",
   "execution_count": 36,
   "metadata": {},
   "outputs": [],
   "source": [
    "df_prices = df_robot_actions_and_env_all_sim_id[['dates', 'prices']].drop_duplicates()"
   ]
  },
  {
   "cell_type": "code",
   "execution_count": 37,
   "metadata": {},
   "outputs": [],
   "source": [
    "df_robot_actions_and_env_all_sim_id_PPO = df_robot_actions_and_env_all_sim_id[df_robot_actions_and_env_all_sim_id['model_type'] == 'PPO']\n",
    "\n",
    "df_model_type_action_count_PPO = df_robot_actions_and_env_all_sim_id_PPO.assign(val=1).pivot_table(values='val', index=['dates'], columns=['model_type', 'actions'], aggfunc='count').stack(0).reset_index()\n",
    "df_model_type_action_count_PPO.rename(columns = {0.0:'action_short_count', 1.0:'action_long_count'}, inplace = True)\n",
    "df_model_type_action_count_PPO['actions'] = (df_model_type_action_count_PPO[\"action_long_count\"]>=df_model_type_action_count_PPO[\"action_short_count\"])*1\n",
    "df_model_type_action_count_PPO = df_model_type_action_count_PPO.merge(df_prices, on='dates', how='left')"
   ]
  },
  {
   "cell_type": "code",
   "execution_count": 38,
   "metadata": {},
   "outputs": [
    {
     "ename": "NameError",
     "evalue": "name 'calc_reward' is not defined",
     "output_type": "error",
     "traceback": [
      "\u001b[0;31m---------------------------------------------------------------------------\u001b[0m",
      "\u001b[0;31mNameError\u001b[0m                                 Traceback (most recent call last)",
      "\u001b[1;32m/Users/lcjr86/de Jesus Lallement Dropbox/Luiz Carlos de Jesus Junior/msc_uol_ai_dissertation/trader/notebooks/bernardo_standardize.ipynb Cell 42\u001b[0m in \u001b[0;36m<cell line: 1>\u001b[0;34m()\u001b[0m\n\u001b[0;32m----> <a href='vscode-notebook-cell:/Users/lcjr86/de%20Jesus%20Lallement%20Dropbox/Luiz%20Carlos%20de%20Jesus%20Junior/msc_uol_ai_dissertation/trader/notebooks/bernardo_standardize.ipynb#X61sZmlsZQ%3D%3D?line=0'>1</a>\u001b[0m x \u001b[39m=\u001b[39m calc_reward(df_model_type_action_count_PPO)\n",
      "\u001b[0;31mNameError\u001b[0m: name 'calc_reward' is not defined"
     ]
    }
   ],
   "source": [
    "x = calc_reward(df_model_type_action_count_PPO)"
   ]
  },
  {
   "cell_type": "code",
   "execution_count": null,
   "metadata": {},
   "outputs": [],
   "source": [
    "x"
   ]
  },
  {
   "cell_type": "code",
   "execution_count": null,
   "metadata": {},
   "outputs": [],
   "source": [
    "df_model_type_action_count_PPO"
   ]
  },
  {
   "cell_type": "code",
   "execution_count": null,
   "metadata": {},
   "outputs": [],
   "source": []
  }
 ],
 "metadata": {
  "kernelspec": {
   "display_name": "msc_uol_ai_dissertation",
   "language": "python",
   "name": "python3"
  },
  "language_info": {
   "codemirror_mode": {
    "name": "ipython",
    "version": 3
   },
   "file_extension": ".py",
   "mimetype": "text/x-python",
   "name": "python",
   "nbconvert_exporter": "python",
   "pygments_lexer": "ipython3",
   "version": "3.8.13"
  },
  "orig_nbformat": 4,
  "vscode": {
   "interpreter": {
    "hash": "0c0f2ae3d5d9aa27c4a2afc20f28a2482dc1006477ab22953abc78c31c7bb5b2"
   }
  }
 },
 "nbformat": 4,
 "nbformat_minor": 2
}
