{
 "cells": [
  {
   "cell_type": "code",
   "execution_count": 1,
   "metadata": {},
   "outputs": [],
   "source": [
    "import warnings\n",
    "warnings.filterwarnings('ignore')\n",
    "\n",
    "from configparser import ConfigParser\n",
    "\n",
    "from typing import Callable\n",
    "\n",
    "import gym\n",
    "import gym_anytrading\n",
    "\n",
    "from gym_anytrading.envs import CryptoEnvLogINFER\n",
    "\n",
    "from stable_baselines3.common.vec_env import DummyVecEnv, SubprocVecEnv\n",
    "from stable_baselines3 import A2C, PPO, DQN\n",
    "from stable_baselines3.common.evaluation import evaluate_policy\n",
    "from stable_baselines3.common.env_util import make_vec_env\n",
    "from stable_baselines3.common.utils import set_random_seed\n",
    "\n",
    "from stable_baselines3.dqn.policies import MlpPolicy\n",
    "\n",
    "import tensorflow as tf\n",
    "\n",
    "import numpy as np\n",
    "import pandas as pd\n",
    "import plotly.express as px\n",
    "import plotly.graph_objects as go\n",
    "from plotly.subplots import make_subplots\n",
    "import os\n",
    "import datetime\n",
    "\n",
    "import multiprocessing\n",
    "\n",
    "import quantstats as qs\n",
    "\n",
    "import sqlite3\n",
    "from sqlalchemy import create_engine"
   ]
  },
  {
   "cell_type": "code",
   "execution_count": 2,
   "metadata": {},
   "outputs": [
    {
     "name": "stdout",
     "output_type": "stream",
     "text": [
      "['../../simulations/config_files/config_03a_mix_infer.ini']\n"
     ]
    }
   ],
   "source": [
    "configur = ConfigParser()\n",
    "config_file_name = \"config_03a_mix_infer.ini\"\n",
    "print (configur.read(os.path.join('../../simulations/config_files', config_file_name)))"
   ]
  },
  {
   "cell_type": "code",
   "execution_count": 3,
   "metadata": {},
   "outputs": [],
   "source": [
    "config_file_name_without_extension = config_file_name.replace(\".ini\", \"\")\n",
    "\n",
    "ccy = configur.get('data', 'ccy')\n",
    "\n",
    "data_frequency_train = configur.get('data', 'data_frequency_train')\n",
    "data_frequency_val = configur.get('data', 'data_frequency_val')\n",
    "\n",
    "start_date_train = configur.get('environment', 'start_date')\n",
    "\n",
    "window_size = configur.getint('environment', 'window_size')\n",
    "list_features = configur.get('environment', 'features').split(',')\n",
    "target = configur.get('environment', 'target')"
   ]
  },
  {
   "cell_type": "code",
   "execution_count": 4,
   "metadata": {},
   "outputs": [
    {
     "name": "stdout",
     "output_type": "stream",
     "text": [
      "The loaded_model has 0 transitions in its buffer\n",
      "The loaded_model has 165368 transitions in its buffer\n"
     ]
    }
   ],
   "source": [
    "model_name = \"DQN\"\n",
    "# the saved model does not contain the replay buffer\n",
    "loaded_model = DQN.load(\"../../simulations/save_models_components/model/model_DQN_\"+ config_file_name_without_extension + \".zip\")\n",
    "print(f\"The loaded_model has {loaded_model.replay_buffer.size()} transitions in its buffer\")\n",
    "\n",
    "# load it into the loaded_model\n",
    "loaded_model.load_replay_buffer(\"../../simulations/save_models_components/replay_buffer/replay_buffer_DQN_\" + config_file_name_without_extension + \".pkl\")\n",
    "\n",
    "# now the loaded replay is not empty anymore\n",
    "print(f\"The loaded_model has {loaded_model.replay_buffer.size()} transitions in its buffer\")\n",
    "\n",
    "saved_policy = MlpPolicy.load(\"../../simulations/save_models_components/policy/policy_DQN_\" + config_file_name_without_extension)"
   ]
  },
  {
   "cell_type": "code",
   "execution_count": 5,
   "metadata": {},
   "outputs": [],
   "source": [
    "mid_date='2023-01-01 00:00:00'\n",
    "end_date='2023-02-07 00:00:00'"
   ]
  },
  {
   "cell_type": "code",
   "execution_count": 6,
   "metadata": {},
   "outputs": [],
   "source": [
    "def get_and_process_data(ccy, data_frequency, start_date, end_date):\n",
    "    try:\n",
    "        \n",
    "        # Get the data\n",
    "        db_address = 'sqlite:///../../data/db/crypto.db'\n",
    "        engine = create_engine(db_address, echo=False)\n",
    "        sqlite_connection = engine.connect()\n",
    "\n",
    "        input_tbl_name = \"tbl_all_features\" + \"_\" + ccy + \"_\" + data_frequency\n",
    "        \n",
    "        sql_command = \"SELECT * FROM \" + input_tbl_name\n",
    "\n",
    "        if(start_date!=\"\" and end_date!=\"\"):\n",
    "            \n",
    "            sd = datetime.datetime.strptime(start_date,'%d %b, %Y').strftime('%Y-%m-%d')\n",
    "            ed = datetime.datetime.strptime(end_date,'%d %b, %Y').strftime('%Y-%m-%d')\n",
    "\n",
    "            sql_append = \" WHERE \" + \"date(date) >= \" + \"'\" + sd + \"'\" + \" AND date(date) <= \" + \"'\" + ed + \"'\"\n",
    "            sql_command = sql_command + sql_append\n",
    "\n",
    "        df = pd.read_sql(sql_command, sqlite_connection)\n",
    "\n",
    "        sqlite_connection.close()\n",
    "\n",
    "        # Converting Date Column to DateTime Type\n",
    "        # Set the index on the dataframe\n",
    "        df['date_index'] = df['date']\n",
    "        df.set_index('date_index', inplace=True)\n",
    "\n",
    "        return df\n",
    "\n",
    "    except Exception as e:\n",
    "        print(e)"
   ]
  },
  {
   "cell_type": "code",
   "execution_count": 7,
   "metadata": {},
   "outputs": [],
   "source": [
    "# Format the data\n",
    "start_date_temp = datetime.datetime.strptime(mid_date,'%Y-%m-%d %H:%M:%S')\n",
    "start_date_temp2 = start_date_temp + datetime.timedelta(days=-(window_size+1))\n",
    "start_date_db = start_date_temp2.strftime('%d %b, %Y')\n",
    "end_date_db = datetime.datetime.strptime(end_date,'%Y-%m-%d %H:%M:%S').strftime('%d %b, %Y')\n",
    "\n",
    "df_val = get_and_process_data(ccy, data_frequency_val, start_date_db, end_date_db)"
   ]
  },
  {
   "cell_type": "code",
   "execution_count": 8,
   "metadata": {},
   "outputs": [
    {
     "data": {
      "text/html": [
       "<div>\n",
       "<style scoped>\n",
       "    .dataframe tbody tr th:only-of-type {\n",
       "        vertical-align: middle;\n",
       "    }\n",
       "\n",
       "    .dataframe tbody tr th {\n",
       "        vertical-align: top;\n",
       "    }\n",
       "\n",
       "    .dataframe thead th {\n",
       "        text-align: right;\n",
       "    }\n",
       "</style>\n",
       "<table border=\"1\" class=\"dataframe\">\n",
       "  <thead>\n",
       "    <tr style=\"text-align: right;\">\n",
       "      <th></th>\n",
       "      <th>open_time</th>\n",
       "      <th>open</th>\n",
       "      <th>high</th>\n",
       "      <th>low</th>\n",
       "      <th>close</th>\n",
       "      <th>volume</th>\n",
       "      <th>close_time</th>\n",
       "      <th>quote_asset_volume</th>\n",
       "      <th>number_of_trades</th>\n",
       "      <th>taker_buy_base_asset_volume</th>\n",
       "      <th>...</th>\n",
       "      <th>BBANDS_L</th>\n",
       "      <th>AD</th>\n",
       "      <th>ATR</th>\n",
       "      <th>HT_DC</th>\n",
       "      <th>SAR</th>\n",
       "      <th>ratio_high_open</th>\n",
       "      <th>ratio_low_open</th>\n",
       "      <th>ratio_close_open</th>\n",
       "      <th>time_to_chart_return</th>\n",
       "      <th>crypto_index</th>\n",
       "    </tr>\n",
       "    <tr>\n",
       "      <th>date_index</th>\n",
       "      <th></th>\n",
       "      <th></th>\n",
       "      <th></th>\n",
       "      <th></th>\n",
       "      <th></th>\n",
       "      <th></th>\n",
       "      <th></th>\n",
       "      <th></th>\n",
       "      <th></th>\n",
       "      <th></th>\n",
       "      <th></th>\n",
       "      <th></th>\n",
       "      <th></th>\n",
       "      <th></th>\n",
       "      <th></th>\n",
       "      <th></th>\n",
       "      <th></th>\n",
       "      <th></th>\n",
       "      <th></th>\n",
       "      <th></th>\n",
       "      <th></th>\n",
       "    </tr>\n",
       "  </thead>\n",
       "  <tbody>\n",
       "    <tr>\n",
       "      <th>2023-02-03 00:00:00.000000</th>\n",
       "      <td>1675296000000</td>\n",
       "      <td>23731.41</td>\n",
       "      <td>24255.00</td>\n",
       "      <td>23363.27</td>\n",
       "      <td>23488.94</td>\n",
       "      <td>364177.20751</td>\n",
       "      <td>1675382399999</td>\n",
       "      <td>8.673697e+09</td>\n",
       "      <td>9102300</td>\n",
       "      <td>181814.20318</td>\n",
       "      <td>...</td>\n",
       "      <td>20436.123346</td>\n",
       "      <td>1.688196e+06</td>\n",
       "      <td>803.557523</td>\n",
       "      <td>33.002484</td>\n",
       "      <td>22500.00000</td>\n",
       "      <td>1.022063</td>\n",
       "      <td>0.984487</td>\n",
       "      <td>0.989783</td>\n",
       "      <td>-0.010269</td>\n",
       "      <td>1036.251925</td>\n",
       "    </tr>\n",
       "    <tr>\n",
       "      <th>2023-02-04 00:00:00.000000</th>\n",
       "      <td>1675382400000</td>\n",
       "      <td>23489.33</td>\n",
       "      <td>23715.70</td>\n",
       "      <td>23204.62</td>\n",
       "      <td>23431.90</td>\n",
       "      <td>332571.02904</td>\n",
       "      <td>1675468799999</td>\n",
       "      <td>7.806491e+09</td>\n",
       "      <td>8007846</td>\n",
       "      <td>166143.33246</td>\n",
       "      <td>...</td>\n",
       "      <td>20636.518206</td>\n",
       "      <td>1.651417e+06</td>\n",
       "      <td>782.666271</td>\n",
       "      <td>32.974355</td>\n",
       "      <td>22535.10000</td>\n",
       "      <td>1.009637</td>\n",
       "      <td>0.987879</td>\n",
       "      <td>0.997555</td>\n",
       "      <td>-0.002428</td>\n",
       "      <td>1033.735515</td>\n",
       "    </tr>\n",
       "    <tr>\n",
       "      <th>2023-02-05 00:00:00.000000</th>\n",
       "      <td>1675468800000</td>\n",
       "      <td>23431.90</td>\n",
       "      <td>23587.78</td>\n",
       "      <td>23253.96</td>\n",
       "      <td>23326.84</td>\n",
       "      <td>166126.47295</td>\n",
       "      <td>1675555199999</td>\n",
       "      <td>3.886778e+09</td>\n",
       "      <td>4852404</td>\n",
       "      <td>81863.93145</td>\n",
       "      <td>...</td>\n",
       "      <td>20897.216958</td>\n",
       "      <td>1.557829e+06</td>\n",
       "      <td>750.605823</td>\n",
       "      <td>32.740969</td>\n",
       "      <td>22569.49800</td>\n",
       "      <td>1.006652</td>\n",
       "      <td>0.992406</td>\n",
       "      <td>0.995516</td>\n",
       "      <td>-0.004484</td>\n",
       "      <td>1029.100626</td>\n",
       "    </tr>\n",
       "    <tr>\n",
       "      <th>2023-02-06 00:00:00.000000</th>\n",
       "      <td>1675555200000</td>\n",
       "      <td>23327.66</td>\n",
       "      <td>23433.33</td>\n",
       "      <td>22743.00</td>\n",
       "      <td>22932.91</td>\n",
       "      <td>209251.33917</td>\n",
       "      <td>1675641599999</td>\n",
       "      <td>4.842463e+09</td>\n",
       "      <td>5903916</td>\n",
       "      <td>103885.22312</td>\n",
       "      <td>...</td>\n",
       "      <td>21120.074042</td>\n",
       "      <td>1.463707e+06</td>\n",
       "      <td>746.300407</td>\n",
       "      <td>32.317072</td>\n",
       "      <td>22603.20804</td>\n",
       "      <td>1.004530</td>\n",
       "      <td>0.974937</td>\n",
       "      <td>0.983078</td>\n",
       "      <td>-0.016887</td>\n",
       "      <td>1011.721778</td>\n",
       "    </tr>\n",
       "    <tr>\n",
       "      <th>2023-02-07 00:00:00.000000</th>\n",
       "      <td>1675641600000</td>\n",
       "      <td>22932.91</td>\n",
       "      <td>23094.92</td>\n",
       "      <td>22628.13</td>\n",
       "      <td>22877.99</td>\n",
       "      <td>76738.26631</td>\n",
       "      <td>1675727999999</td>\n",
       "      <td>1.755316e+09</td>\n",
       "      <td>2157269</td>\n",
       "      <td>38326.91565</td>\n",
       "      <td>...</td>\n",
       "      <td>21387.463768</td>\n",
       "      <td>1.469121e+06</td>\n",
       "      <td>726.335378</td>\n",
       "      <td>32.414435</td>\n",
       "      <td>24255.00000</td>\n",
       "      <td>1.007065</td>\n",
       "      <td>0.986710</td>\n",
       "      <td>0.997605</td>\n",
       "      <td>-0.002395</td>\n",
       "      <td>1009.298895</td>\n",
       "    </tr>\n",
       "  </tbody>\n",
       "</table>\n",
       "<p>5 rows × 91 columns</p>\n",
       "</div>"
      ],
      "text/plain": [
       "                                open_time      open      high       low  \\\n",
       "date_index                                                                \n",
       "2023-02-03 00:00:00.000000  1675296000000  23731.41  24255.00  23363.27   \n",
       "2023-02-04 00:00:00.000000  1675382400000  23489.33  23715.70  23204.62   \n",
       "2023-02-05 00:00:00.000000  1675468800000  23431.90  23587.78  23253.96   \n",
       "2023-02-06 00:00:00.000000  1675555200000  23327.66  23433.33  22743.00   \n",
       "2023-02-07 00:00:00.000000  1675641600000  22932.91  23094.92  22628.13   \n",
       "\n",
       "                               close        volume     close_time  \\\n",
       "date_index                                                          \n",
       "2023-02-03 00:00:00.000000  23488.94  364177.20751  1675382399999   \n",
       "2023-02-04 00:00:00.000000  23431.90  332571.02904  1675468799999   \n",
       "2023-02-05 00:00:00.000000  23326.84  166126.47295  1675555199999   \n",
       "2023-02-06 00:00:00.000000  22932.91  209251.33917  1675641599999   \n",
       "2023-02-07 00:00:00.000000  22877.99   76738.26631  1675727999999   \n",
       "\n",
       "                            quote_asset_volume  number_of_trades  \\\n",
       "date_index                                                         \n",
       "2023-02-03 00:00:00.000000        8.673697e+09           9102300   \n",
       "2023-02-04 00:00:00.000000        7.806491e+09           8007846   \n",
       "2023-02-05 00:00:00.000000        3.886778e+09           4852404   \n",
       "2023-02-06 00:00:00.000000        4.842463e+09           5903916   \n",
       "2023-02-07 00:00:00.000000        1.755316e+09           2157269   \n",
       "\n",
       "                            taker_buy_base_asset_volume  ...      BBANDS_L  \\\n",
       "date_index                                               ...                 \n",
       "2023-02-03 00:00:00.000000                 181814.20318  ...  20436.123346   \n",
       "2023-02-04 00:00:00.000000                 166143.33246  ...  20636.518206   \n",
       "2023-02-05 00:00:00.000000                  81863.93145  ...  20897.216958   \n",
       "2023-02-06 00:00:00.000000                 103885.22312  ...  21120.074042   \n",
       "2023-02-07 00:00:00.000000                  38326.91565  ...  21387.463768   \n",
       "\n",
       "                                      AD         ATR      HT_DC          SAR  \\\n",
       "date_index                                                                     \n",
       "2023-02-03 00:00:00.000000  1.688196e+06  803.557523  33.002484  22500.00000   \n",
       "2023-02-04 00:00:00.000000  1.651417e+06  782.666271  32.974355  22535.10000   \n",
       "2023-02-05 00:00:00.000000  1.557829e+06  750.605823  32.740969  22569.49800   \n",
       "2023-02-06 00:00:00.000000  1.463707e+06  746.300407  32.317072  22603.20804   \n",
       "2023-02-07 00:00:00.000000  1.469121e+06  726.335378  32.414435  24255.00000   \n",
       "\n",
       "                            ratio_high_open  ratio_low_open  ratio_close_open  \\\n",
       "date_index                                                                      \n",
       "2023-02-03 00:00:00.000000         1.022063        0.984487          0.989783   \n",
       "2023-02-04 00:00:00.000000         1.009637        0.987879          0.997555   \n",
       "2023-02-05 00:00:00.000000         1.006652        0.992406          0.995516   \n",
       "2023-02-06 00:00:00.000000         1.004530        0.974937          0.983078   \n",
       "2023-02-07 00:00:00.000000         1.007065        0.986710          0.997605   \n",
       "\n",
       "                            time_to_chart_return  crypto_index  \n",
       "date_index                                                      \n",
       "2023-02-03 00:00:00.000000             -0.010269   1036.251925  \n",
       "2023-02-04 00:00:00.000000             -0.002428   1033.735515  \n",
       "2023-02-05 00:00:00.000000             -0.004484   1029.100626  \n",
       "2023-02-06 00:00:00.000000             -0.016887   1011.721778  \n",
       "2023-02-07 00:00:00.000000             -0.002395   1009.298895  \n",
       "\n",
       "[5 rows x 91 columns]"
      ]
     },
     "execution_count": 8,
     "metadata": {},
     "output_type": "execute_result"
    }
   ],
   "source": [
    "df_val.tail()"
   ]
  },
  {
   "cell_type": "code",
   "execution_count": 9,
   "metadata": {},
   "outputs": [],
   "source": [
    "mid_date_id_val = int(df_val.index.get_loc(datetime.datetime.strptime(mid_date,'%Y-%m-%d %H:%M:%S').strftime('%Y-%m-%d %H:%M:%S.%f')))\n",
    "end_date_id_val = int(df_val.index.get_loc(datetime.datetime.strptime(end_date,'%Y-%m-%d %H:%M:%S').strftime('%Y-%m-%d %H:%M:%S.%f')))"
   ]
  },
  {
   "cell_type": "code",
   "execution_count": 10,
   "metadata": {},
   "outputs": [],
   "source": [
    "def my_process_data(env):\n",
    "    start = env.frame_bound[0] - env.window_size\n",
    "    end = env.frame_bound[1]\n",
    "    prices = env.df.loc[:, target].to_numpy()[start:end]\n",
    "    signal_features = env.df.loc[:, list_features].to_numpy()[start:end]\n",
    "    dates = env.df.index.to_numpy()[start:end]\n",
    "    return prices, signal_features, dates\n",
    "\n",
    "class MyEnv(CryptoEnvLogINFER):\n",
    "    _process_data = my_process_data"
   ]
  },
  {
   "cell_type": "code",
   "execution_count": 11,
   "metadata": {},
   "outputs": [],
   "source": [
    "env = MyEnv(df=df_val, frame_bound=(mid_date_id_val,end_date_id_val), window_size=window_size)"
   ]
  },
  {
   "cell_type": "code",
   "execution_count": 12,
   "metadata": {},
   "outputs": [],
   "source": [
    "num_of_simulations=1000"
   ]
  },
  {
   "cell_type": "code",
   "execution_count": 13,
   "metadata": {},
   "outputs": [],
   "source": [
    "df_sim_results = pd.DataFrame()\n",
    "df_robot_actions_and_env_final = pd.DataFrame()\n",
    "\n",
    "df_sim_results_temp = pd.DataFrame(columns=['total_reward_cash', 'total_profit_percentage', 'fmt_total_profit_percentage', 'num_of_trades'])\n",
    "df_robot_actions_and_env_temp = pd.DataFrame(columns=['dates', 'prices', 'actions', 'total_reward_cash', 'total_profit_percentage', 'fmt_total_profit_percentage', 'num_of_trades', 'sim_id'])\n",
    "\n",
    "list_sim_id = []\n",
    "\n",
    "sim_id = 1\n",
    "for i in range(num_of_simulations):   \n",
    "\n",
    "    #Setting up the Agent Environment\n",
    "    obs = env.reset()\n",
    "\n",
    "    list_sim_id.append(sim_id)\n",
    "\n",
    "    while True: \n",
    "        obs = obs[np.newaxis, ...]\n",
    "\n",
    "        action, _states = loaded_model.predict(obs)\n",
    "        \n",
    "        obs, rewards, done, info = env.step(action)\n",
    "        \n",
    "        if done:\n",
    "            df_sim_results_temp = df_sim_results_temp.append(info, ignore_index=True, sort=False)\n",
    "            break\n",
    "\n",
    "    # Export robot actions plot and data\n",
    "    fig, df_robot_actions = env.render_all()\n",
    "    # fig.write_html(os.path.join('results', 'plots', 'robot_actions', 'robot_actions_' + config_file_name_without_extension + '_sim_id_' + str(sim_id) + '.html'))\n",
    "\n",
    "    # Export the history of details (the info dict inside of the environment)\n",
    "    df_sim_env_data = pd.DataFrame.from_dict(env.history)\n",
    "\n",
    "    # Merge robot actions data + sim env data\n",
    "    df_sim_env_data_initial = pd.DataFrame(columns=['total_reward_cash', 'total_profit_percentage', 'fmt_total_profit_percentage', 'num_of_trades'])\n",
    "    for i in range(0, window_size + 1):\n",
    "        df_sim_env_data_initial = df_sim_env_data_initial.append(pd.Series([0, 0, 0, 0], index=df_sim_env_data_initial.columns), ignore_index=True)\n",
    "    \n",
    "    df_sim_env_data_temp = df_sim_env_data_initial.append(df_sim_env_data, ignore_index=True)\n",
    "    \n",
    "    df_robot_actions_and_env_temp = pd.merge(df_robot_actions, df_sim_env_data_temp, left_index=True, right_index=True, how = \"outer\")\n",
    "    df_robot_actions_and_env_temp['sim_id'] = sim_id\n",
    "\n",
    "    df_robot_actions_and_env_final = pd.concat([df_robot_actions_and_env_final, df_robot_actions_and_env_temp], axis=0)\n",
    "\n",
    "    sim_id = sim_id + 1\n",
    "\n",
    "df_sim_results_temp['sim_id'] = list_sim_id\n",
    "df_sim_results_temp['ccy'] = ccy\n",
    "df_sim_results_temp['data_frequency_train'] = data_frequency_train\n",
    "df_sim_results_temp['data_frequency_val'] = data_frequency_val\n",
    "df_sim_results_temp['window_size'] = window_size\n",
    "df_sim_results_temp['start_date'] = start_date_train\n",
    "df_sim_results_temp['mid_date'] = mid_date\n",
    "df_sim_results_temp['end_date'] = end_date\n",
    "df_sim_results_temp['target'] = target\n",
    "df_sim_results_temp['list_features'] = str(list_features)\n",
    "df_sim_results_temp['model_type'] = model_name \n",
    "df_sim_results_temp['num_of_simulations'] = num_of_simulations   \n",
    "\n",
    "df_sim_results = pd.concat([df_sim_results, df_sim_results_temp], axis=0)"
   ]
  },
  {
   "cell_type": "code",
   "execution_count": 14,
   "metadata": {},
   "outputs": [],
   "source": [
    "df_sim_results = df_sim_results.reset_index(drop=True)\n",
    "df_sim_results = df_sim_results.drop_duplicates()\n",
    "\n",
    "## SIMULATION RESULTS\n",
    "\n",
    "# Format data type\n",
    "df_sim_results['start_date'] = pd.to_datetime(df_sim_results['start_date'])\n",
    "df_sim_results['mid_date'] = pd.to_datetime(df_sim_results['mid_date'])\n",
    "df_sim_results['end_date'] = pd.to_datetime(df_sim_results['end_date'])\n",
    "\n",
    "# Write to the db\n",
    "db_address = 'sqlite:///../results/data/db/trader.db'\n",
    "engine = create_engine(db_address, echo=False)\n",
    "sqlite_connection = engine.connect()\n",
    "\n",
    "output_tbl_name = \"tbl_trader_bernardo_simulation_results_\" + config_file_name_without_extension\n",
    "\n",
    "df_sim_results.to_sql(output_tbl_name, sqlite_connection, if_exists='replace', index=False)\n",
    "\n",
    "sqlite_connection.close()\n",
    "\n",
    "## ROBOT ACTIONS and ENV RESULTS\n",
    "\n",
    "# Format data type\n",
    "df_robot_actions_and_env_final['dates'] = pd.to_datetime(df_robot_actions_and_env_final['dates'])\n",
    "df_robot_actions_and_env_final['total_reward_cash'] = df_robot_actions_and_env_final['total_reward_cash'].astype(float)\n",
    "df_robot_actions_and_env_final['total_profit_percentage'] = df_robot_actions_and_env_final['total_profit_percentage'].astype(float)\n",
    "df_robot_actions_and_env_final['fmt_total_profit_percentage'] = df_robot_actions_and_env_final['fmt_total_profit_percentage'].astype(float)\n",
    "df_robot_actions_and_env_final['num_of_trades'] = df_robot_actions_and_env_final['num_of_trades'].astype(float)\n",
    "\n",
    "# Write to the db\n",
    "db_address = 'sqlite:///../results/data/db/trader.db'\n",
    "engine = create_engine(db_address, echo=False)\n",
    "sqlite_connection = engine.connect()\n",
    "\n",
    "output_tbl_name = \"tbl_trader_bernardo_robot_actions_and_env_\" + config_file_name_without_extension\n",
    "\n",
    "df_robot_actions_and_env_final.to_sql(output_tbl_name, sqlite_connection, if_exists='replace', index=False)\n",
    "\n",
    "sqlite_connection.close()"
   ]
  },
  {
   "attachments": {},
   "cell_type": "markdown",
   "metadata": {},
   "source": [
    "## Get Data"
   ]
  },
  {
   "cell_type": "code",
   "execution_count": 15,
   "metadata": {},
   "outputs": [],
   "source": [
    "def get_and_process_trader_data(config_file_name_without_extension):\n",
    "    try:\n",
    "        \n",
    "        # Get the data\n",
    "        db_address = 'sqlite:///../results/data/db/trader.db'\n",
    "        engine = create_engine(db_address, echo=False)\n",
    "        sqlite_connection = engine.connect()\n",
    "\n",
    "        input_tbl_name = \"tbl_trader_bernardo_simulation_results\" + \"_\" + config_file_name_without_extension\n",
    "        \n",
    "        sql_command = \"SELECT * FROM \" + input_tbl_name\n",
    "\n",
    "        df = pd.read_sql(sql_command, sqlite_connection)\n",
    "\n",
    "        sqlite_connection.close()\n",
    "\n",
    "        return df\n",
    "\n",
    "    except Exception as e:\n",
    "        print(e)"
   ]
  },
  {
   "cell_type": "code",
   "execution_count": 16,
   "metadata": {},
   "outputs": [],
   "source": [
    "df_trader_results = get_and_process_trader_data(config_file_name_without_extension)"
   ]
  },
  {
   "cell_type": "code",
   "execution_count": 17,
   "metadata": {},
   "outputs": [
    {
     "data": {
      "application/vnd.plotly.v1+json": {
       "config": {
        "plotlyServerURL": "https://plot.ly"
       },
       "data": [
        {
         "alignmentgroup": "True",
         "boxpoints": "all",
         "hovertemplate": "model_type=DQN<br>fmt_total_profit_percentage=%{y}<extra></extra>",
         "legendgroup": "DQN",
         "marker": {
          "color": "#FF7F0E"
         },
         "name": "DQN",
         "notched": false,
         "offsetgroup": "DQN",
         "orientation": "v",
         "showlegend": true,
         "type": "box",
         "x0": " ",
         "xaxis": "x",
         "y": [
          -4.631310946303213,
          -4.631310946303213,
          -4.631310946303213,
          5.602567289907268,
          -4.551593225729311,
          -4.631310946303213,
          -4.250137765608997,
          5.1874204047918315,
          -3.9860429272055575,
          -4.631310946303213,
          7.122057506616231,
          -1.685154266617983,
          10.348721338169309,
          7.161587216708054,
          -4.551593225729311,
          -4.631310946303213,
          4.4272715989058575,
          3.045408310824138,
          -1.3225098576406524,
          7.122057506616231,
          0.27306808301110763,
          -9.563094322753452,
          -7.654168304490804,
          -13.554664332443023,
          -4.631310946303213,
          -4.631310946303213,
          -4.631310946303213,
          -4.631310946303213,
          4.141615195128412,
          2.551437849526428,
          -4.631310946303213,
          5.602567289907268,
          -4.631310946303213,
          -4.604882750924732,
          6.648290382205557,
          -4.631310946303213,
          7.098523903426379,
          2.6347781084564925,
          -4.631310946303213,
          4.56899917358935,
          4.036564781167606,
          -4.631310946303213,
          -4.631310946303213,
          -4.631310946303213,
          -4.631310946303213,
          -4.631310946303213,
          -4.631310946303213,
          -7.479424674779689,
          -4.631310946303213,
          -4.631310946303213,
          -4.631310946303213,
          7.161587216708054,
          2.551437849526428,
          4.370790386525636,
          0.27306808301110763,
          -4.631310946303213,
          7.161587216708054,
          -4.631310946303213,
          -4.631310946303213,
          -4.631310946303213,
          -0.29243487109227306,
          -4.631310946303213,
          -4.840719512495351,
          -4.631310946303213,
          -0.5647503713969271,
          3.4686626390315833,
          2.551437849526428,
          -4.631310946303213,
          -4.631310946303213,
          -4.631310946303213,
          12.391305373932315,
          13.209435825035643,
          -4.631310946303213,
          -7.654168304490804,
          6.648290382205557,
          -4.631310946303213,
          4.4272715989058575,
          -4.604882750924732,
          -4.631310946303213,
          -2.2277827316256937,
          -4.631310946303213,
          9.131273212132228,
          5.1874204047918315,
          9.161515240611084,
          7.987244645091662,
          -4.631310946303213,
          16.31169654570965,
          -4.631310946303213,
          -4.631310946303213,
          -4.631310946303213,
          -4.840719512495351,
          7.987244645091662,
          -4.631310946303213,
          2.8993272952564597,
          -4.631310946303213,
          -4.631310946303213,
          -12.392599046846641,
          -10.851025376067213,
          1.6028179926755648,
          -4.631310946303213,
          -4.551593225729311,
          -6.4195052581949135,
          -4.631310946303213,
          -4.631310946303213,
          -4.631310946303213,
          -4.631310946303213,
          -4.631310946303213,
          -4.621252734833625,
          -4.631310946303213,
          7.00242750388429,
          12.391305373932315,
          -4.06889022109711,
          15.381439636586558,
          3.2262938107913586,
          -4.631310946303213,
          7.161587216708054,
          2.6347781084564925,
          -4.840719512495351,
          -4.631310946303213,
          -2.617006759420959,
          -4.631310946303213,
          -4.631310946303213,
          -0.4874249778358597,
          -4.631310946303213,
          4.514561296816333,
          22.389482708863362,
          7.987244645091662,
          7.987244645091662,
          -4.631310946303213,
          -4.631310946303213,
          -6.4195052581949135,
          7.127964615997384,
          -4.631310946303213,
          -4.631310946303213,
          0.27306808301110763,
          0.27306808301110763,
          -4.631310946303213,
          -4.250137765608997,
          -10.851025376067213,
          2.6347781084564925,
          6.871712706048316,
          -3.641629178635697,
          -3.3492910197644887,
          -4.250137765608997,
          -3.9860429272055575,
          12.391305373932315,
          -4.631310946303213,
          -4.631310946303213,
          -4.631310946303213,
          -4.631310946303213,
          -4.631310946303213,
          -13.554664332443023,
          -4.631310946303213,
          -4.631310946303213,
          -10.851025376067213,
          -4.631310946303213,
          -4.631310946303213,
          -6.4195052581949135,
          -4.631310946303213,
          -4.631310946303213,
          9.131273212132228,
          -4.545345424842306,
          2.551437849526428,
          1.8509630970439561,
          -11.386592897468029,
          -4.631310946303213,
          7.987244645091662,
          -4.631310946303213,
          -4.631310946303213,
          1.0934051407932577,
          -13.04486757567458,
          -2.5638429976722388,
          -4.631310946303213,
          -4.631310946303213,
          3.463319895874517,
          7.161587216708054,
          -4.631310946303213,
          6.677496084311807,
          2.551437849526428,
          -4.631310946303213,
          -4.631310946303213,
          21.533563295572677,
          -1.2374879037609698,
          -3.2803265453192343,
          -6.863856862879203,
          5.248820425145273,
          20.083433478745327,
          -4.631310946303213,
          3.2360457326948033,
          -4.631310946303213,
          6.311647581604207,
          4.370790386525636,
          1.6028179926755648,
          3.3041266093189137,
          -6.652582832696852,
          -13.554664332443023,
          7.980067726518314,
          -4.631310946303213,
          7.122057506616231,
          -4.631310946303213,
          5.951435363250268,
          -2.617006759420959,
          -7.654168304490804,
          -4.631310946303213,
          17.713617455124876,
          1.2893976899563953,
          -4.631310946303213,
          -4.631310946303213,
          -4.840719512495351,
          4.370790386525636,
          3.5795066002820564,
          0.27306808301110763,
          2.6347781084564925,
          -4.631310946303213,
          -4.250137765608997,
          2.6632198538069973,
          -6.168786400575687,
          -3.5240210536255367,
          -4.631310946303213,
          -13.136608761261037,
          -4.631310946303213,
          9.131273212132228,
          -9.899138398881702,
          -4.631310946303213,
          -5.634739713933412,
          -4.631310946303213,
          -4.250137765608997,
          -3.3492910197644887,
          11.548671009507316,
          -4.631310946303213,
          -4.631310946303213,
          -4.631310946303213,
          -4.631310946303213,
          12.391305373932315,
          7.07454629978137,
          -4.631310946303213,
          -9.798508962512908,
          7.161587216708054,
          -4.631310946303213,
          -4.631310946303213,
          -4.604882750924732,
          -13.209156347804296,
          12.391305373932315,
          -2.4643171892897997,
          -2.617006759420959,
          4.036564781167606,
          7.122057506616231,
          -4.631310946303213,
          3.089694462404946,
          -4.604882750924732,
          2.551437849526428,
          -4.631310946303213,
          -4.631310946303213,
          -4.631310946303213,
          10.348721338169309,
          -3.9860429272055575,
          4.4272715989058575,
          -4.631310946303213,
          9.131273212132228,
          -4.631310946303213,
          -4.631310946303213,
          -4.631310946303213,
          7.122057506616231,
          -4.631310946303213,
          4.293928048208007,
          -12.456525986767709,
          4.4272715989058575,
          -3.2803265453192343,
          -4.631310946303213,
          -3.2803265453192343,
          -7.654168304490804,
          -4.631310946303213,
          -4.631310946303213,
          2.4916572901162226,
          7.122057506616231,
          -4.631310946303213,
          -4.631310946303213,
          -2.4643171892897997,
          -4.551593225729311,
          -9.54754960784575,
          5.602567289907268,
          -4.631310946303213,
          -10.851025376067213,
          2.551437849526428,
          22.038625368481334,
          5.2670757941658986,
          -10.826320763447184,
          -4.631310946303213,
          7.987244645091662,
          -4.06889022109711,
          4.370790386525636,
          -4.631310946303213,
          -9.645297297032906,
          4.645483787927951,
          -4.631310946303213,
          -4.631310946303213,
          -5.368645186613974,
          -4.06889022109711,
          7.122057506616231,
          2.0910199557558684,
          5.248820425145273,
          -2.7099386179414098,
          20.663428605742574,
          -3.2803265453192343,
          -4.06889022109711,
          13.716783234399177,
          -4.631310946303213,
          -3.5615146184092006,
          -4.631310946303213,
          5.1874204047918315,
          -7.654168304490804,
          1.7078412221147588,
          5.017717273813971,
          -4.631310946303213,
          -4.631310946303213,
          0.30085536058397366,
          -4.631310946303213,
          1.6028179926755648,
          2.9767903817055297,
          -4.631310946303213,
          -4.631310946303213,
          2.4060571049153046,
          -3.2803265453192343,
          -4.631310946303213,
          4.526840716594149,
          -4.631310946303213,
          -4.631310946303213,
          -4.250137765608997,
          -10.851025376067213,
          7.122057506616231,
          -4.551593225729311,
          -4.631310946303213,
          -4.631310946303213,
          -3.9594359176958416,
          -4.631310946303213,
          -4.631310946303213,
          9.131273212132228,
          -4.250137765608997,
          -4.06889022109711,
          7.987244645091662,
          -4.631310946303213,
          -6.4195052581949135,
          -4.631310946303213,
          4.4272715989058575,
          7.987244645091662,
          -7.479424674779689,
          -3.1131391197654734,
          -4.631310946303213,
          -4.631310946303213,
          12.391305373932315,
          5.602567289907268,
          -3.9860429272055575,
          2.5418046891259705,
          -4.06889022109711,
          -3.2803265453192343,
          -4.631310946303213,
          5.602567289907268,
          9.384607312889926,
          -9.899138398881702,
          4.4272715989058575,
          -4.631310946303213,
          -4.631310946303213,
          -0.48361328726608255,
          13.423299982036795,
          7.122057506616231,
          -4.631310946303213,
          7.161587216708054,
          -7.479424674779689,
          -4.631310946303213,
          9.131273212132228,
          -4.631310946303213,
          -3.9860429272055575,
          -12.392599046846641,
          -4.631310946303213,
          0.9295915034921665,
          2.551437849526428,
          2.6347781084564925,
          -4.631310946303213,
          -4.631310946303213,
          1.6028179926755648,
          1.6028179926755648,
          -4.631310946303213,
          2.5418046891259705,
          1.0934051407932577,
          7.122057506616231,
          5.1874204047918315,
          5.918777629699301,
          5.1874204047918315,
          -12.522591119543991,
          -4.631310946303213,
          5.486037012157752,
          9.038751301176283,
          -4.06889022109711,
          -4.631310946303213,
          -4.631310946303213,
          5.1874204047918315,
          0.27306808301110763,
          -4.631310946303213,
          9.823065916902586,
          -5.634739713933412,
          -13.554664332443023,
          -4.631310946303213,
          -8.510896593057392,
          -4.631310946303213,
          -4.631310946303213,
          -4.631310946303213,
          -4.631310946303213,
          -3.2803265453192343,
          -6.3412822711221395,
          -4.604882750924732,
          -0.4160043320536211,
          -2.5457781855605432,
          -4.631310946303213,
          -3.9860429272055575,
          -7.682579412612123,
          -4.631310946303213,
          -4.631310946303213,
          -2.5356053023931957,
          -4.631310946303213,
          -4.631310946303213,
          -4.631310946303213,
          -10.851025376067213,
          4.141615195128412,
          1.6028179926755648,
          -4.631310946303213,
          -7.479424674779689,
          -4.631310946303213,
          -4.631310946303213,
          8.384176351000882,
          -9.757231610515793,
          4.4272715989058575,
          -4.631310946303213,
          -4.631310946303213,
          -4.631310946303213,
          -4.631310946303213,
          -4.631310946303213,
          -4.551593225729311,
          -4.604882750924732,
          -4.631310946303213,
          -4.631310946303213,
          -4.631310946303213,
          -7.479424674779689,
          -0.4874249778358597,
          -4.631310946303213,
          -4.631310946303213,
          -0.6227588728355493,
          7.161587216708054,
          3.281444253213639,
          -2.5457781855605432,
          -4.631310946303213,
          -6.4195052581949135,
          -2.617006759420959,
          -4.631310946303213,
          -4.631310946303213,
          9.618336807021732,
          5.24899764348723,
          -4.631310946303213,
          -4.631310946303213,
          5.614785712680637,
          5.602567289907268,
          -7.479424674779689,
          5.872150322578973,
          -4.250137765608997,
          -4.631310946303213,
          -4.631310946303213,
          -4.631310946303213,
          -4.631310946303213,
          9.131273212132228,
          -4.631310946303213,
          5.1874204047918315,
          -4.604882750924732,
          -4.1701014262367275,
          -1.685154266617983,
          -4.631310946303213,
          -1.1686490966148044,
          11.101460755099723,
          -4.840719512495351,
          -4.631310946303213,
          -4.631310946303213,
          5.248820425145273,
          5.1874204047918315,
          -4.631310946303213,
          -4.604882750924732,
          4.370790386525636,
          -1.685154266617983,
          2.551437849526428,
          6.648290382205557,
          -4.631310946303213,
          7.75379173580879,
          5.1874204047918315,
          -4.631310946303213,
          -4.631310946303213,
          2.6347781084564925,
          -9.605504051501768,
          -4.631310946303213,
          -4.631310946303213,
          25.68423337774344,
          -4.631310946303213,
          -4.631310946303213,
          0.5678350936503263,
          -4.631310946303213,
          -4.631310946303213,
          -2.617006759420959,
          -4.840719512495351,
          -4.631310946303213,
          0.06361140483119865,
          -13.554664332443023,
          -4.631310946303213,
          -13.51339203985834,
          -4.631310946303213,
          -4.631310946303213,
          -3.9860429272055575,
          -4.631310946303213,
          -4.06889022109711,
          1.6877467584437644,
          -4.631310946303213,
          -4.631310946303213,
          -4.631310946303213,
          0.27306808301110763,
          2.6347781084564925,
          -4.631310946303213,
          -4.250137765608997,
          9.887476160236265,
          -4.631310946303213,
          -4.604882750924732,
          -4.631310946303213,
          -4.840719512495351,
          -4.631310946303213,
          5.872150322578973,
          -4.631310946303213,
          5.248820425145273,
          -4.631310946303213,
          5.1874204047918315,
          -4.631310946303213,
          7.161587216708054,
          -4.631310946303213,
          5.602567289907268,
          5.2184908965635435,
          0.27306808301110763,
          -4.631310946303213,
          -2.617006759420959,
          0.27306808301110763,
          -1.685154266617983,
          -4.631310946303213,
          2.551437849526428,
          4.036564781167606,
          -1.1756398292538717,
          -1.685154266617983,
          2.4060571049153046,
          15.588695945709329,
          -4.631310946303213,
          -4.631310946303213,
          -7.479424674779689,
          6.986145750588135,
          -4.06889022109711,
          -4.631310946303213,
          14.395550974900818,
          7.161587216708054,
          -4.631310946303213,
          5.1874204047918315,
          -4.631310946303213,
          -7.654168304490804,
          5.248820425145273,
          -4.631310946303213,
          4.370790386525636,
          -9.214215916760093,
          3.456846789586887,
          -4.631310946303213,
          -4.631310946303213,
          -4.631310946303213,
          7.846849244185772,
          4.036564781167606,
          -4.631310946303213,
          9.956051042430003,
          5.602567289907268,
          -4.631310946303213,
          -4.631310946303213,
          -4.631310946303213,
          2.4060571049153046,
          1.0962753051400043,
          -1.710045321836129,
          17.5859365781039,
          -4.631310946303213,
          -4.631310946303213,
          -4.631310946303213,
          -13.554664332443023,
          -4.631310946303213,
          6.648290382205557,
          7.987244645091662,
          2.551437849526428,
          -4.631310946303213,
          -4.631310946303213,
          -6.393572600179032,
          -3.3304604274259964,
          14.4945429092312,
          -4.631310946303213,
          -4.631310946303213,
          9.131273212132228,
          -7.654168304490804,
          -2.617006759420959,
          -4.631310946303213,
          2.493946168508221,
          2.6347781084564925,
          -4.631310946303213,
          -4.631310946303213,
          -4.631310946303213,
          -4.631310946303213,
          7.122057506616231,
          -4.631310946303213,
          -4.631310946303213,
          2.8993272952564597,
          -4.631310946303213,
          -6.4195052581949135,
          -4.631310946303213,
          14.669796463742045,
          2.6347781084564925,
          5.248820425145273,
          1.0934051407932577,
          -4.631310946303213,
          -4.631310946303213,
          5.807745438653966,
          0.27306808301110763,
          -4.631310946303213,
          -4.631310946303213,
          -4.840719512495351,
          7.161587216708054,
          -4.631310946303213,
          0.1731493973395004,
          10.348721338169309,
          -4.631310946303213,
          -4.631310946303213,
          -4.631310946303213,
          15.364084499802221,
          -4.631310946303213,
          -4.631310946303213,
          -7.654168304490804,
          -5.867630106716238,
          8.521914756648897,
          -4.631310946303213,
          2.6347781084564925,
          -4.631310946303213,
          -4.631310946303213,
          -4.631310946303213,
          -4.631310946303213,
          -4.604882750924732,
          6.327643800382066,
          -4.631310946303213,
          -4.631310946303213,
          8.891645052441287,
          12.516423596857873,
          -2.5457781855605432,
          -4.840719512495351,
          8.639539083942571,
          -4.631310946303213,
          1.0934051407932577,
          7.122057506616231,
          -3.808001522144644,
          -4.604882750924732,
          -4.631310946303213,
          1.6935274828742575,
          -3.9860429272055575,
          -4.631310946303213,
          9.396930193598529,
          -4.631310946303213,
          -2.5457781855605432,
          -2.617006759420959,
          2.5418046891259705,
          -4.631310946303213,
          -4.631310946303213,
          -4.06889022109711,
          -4.631310946303213,
          -4.631310946303213,
          -6.680814711358607,
          -4.631310946303213,
          -4.631310946303213,
          4.370790386525636,
          7.38427412461653,
          2.5418046891259705,
          -4.604882750924732,
          -4.631310946303213,
          5.1874204047918315,
          5.248820425145273,
          -6.4301606643662135,
          -4.631310946303213,
          7.161587216708054,
          -4.631310946303213,
          5.694087884737953,
          12.006615244669705,
          3.1904060667089063,
          5.546682048327534,
          -7.479424674779689,
          6.648290382205557,
          1.580352540251706,
          -4.551593225729311,
          -6.4195052581949135,
          -7.479424674779689,
          -4.631310946303213,
          12.391305373932315,
          -4.373076923202756,
          -4.631310946303213,
          -4.631310946303213,
          -4.551593225729311,
          -4.631310946303213,
          -4.631310946303213,
          6.091826671098244,
          9.86965937624895,
          -6.4195052581949135,
          9.097758623503793,
          -4.631310946303213,
          -4.631310946303213,
          -4.631310946303213,
          9.082844275748325,
          2.81585679917129,
          6.523917948732172,
          -4.631310946303213,
          -3.2803265453192343,
          5.602567289907268,
          -4.631310946303213,
          -6.933800218920827,
          1.9788193513062824,
          -0.2305432262635354,
          6.648290382205557,
          -4.631310946303213,
          1.0934051407932577,
          9.082844275748325,
          3.2203081304904124,
          2.5418046891259705,
          1.6028179926755648,
          -4.631310946303213,
          2.551437849526428,
          9.131273212132228,
          -4.631310946303213,
          5.1874204047918315,
          3.0989402122261867,
          -4.631310946303213,
          -2.5457781855605432,
          -4.631310946303213,
          -4.631310946303213,
          5.248820425145273,
          -13.209156347804296,
          13.359504169209435,
          -4.631310946303213,
          -2.5457781855605432,
          4.4272715989058575,
          1.6028179926755648,
          11.030953678432098,
          -13.554664332443023,
          -3.2803265453192343,
          4.4272715989058575,
          2.720569479226076,
          1.3516176812655933,
          -13.744479186518955,
          -4.631310946303213,
          -4.631310946303213,
          -4.631310946303213,
          7.122057506616231,
          -4.551593225729311,
          -3.9860429272055575,
          5.248820425145273,
          -4.631310946303213,
          -10.851025376067213,
          -1.685154266617983,
          -4.631310946303213,
          1.4791420205906292,
          -4.631310946303213,
          -3.3492910197644887,
          -4.631310946303213,
          -4.631310946303213,
          0.4648053656139739,
          0.27306808301110763,
          -4.631310946303213,
          -4.604882750924732,
          -4.631310946303213,
          -4.631310946303213,
          8.717890270310624,
          -4.631310946303213,
          3.7069487871316475,
          -4.631310946303213,
          15.22927974695143,
          2.5418046891259705,
          16.50537556421101,
          1.7774067971682017,
          -13.209156347804296,
          4.4272715989058575,
          4.036564781167606,
          -1.083258810775678,
          -4.631310946303213,
          -4.631310946303213,
          5.602567289907268,
          -2.0427070157150395,
          -9.874170003092786,
          -4.631310946303213,
          -4.631310946303213,
          5.1874204047918315,
          -3.9860429272055575,
          -7.654168304490804,
          9.889634798514567,
          -4.631310946303213,
          2.551437849526428,
          6.503391778667544,
          2.551437849526428,
          6.5752300422434296,
          0.27306808301110763,
          4.70761391399086,
          -1.9710583833787987,
          12.391305373932315,
          -4.551593225729311,
          3.788013133447299,
          2.4060571049153046,
          7.987244645091662,
          5.614785712680637,
          5.1874204047918315,
          4.036564781167606,
          -4.631310946303213,
          -4.631310946303213,
          -3.2803265453192343,
          -13.554664332443023,
          12.462358312784572,
          -4.631310946303213,
          20.33560091935682,
          1.0934051407932577,
          -4.631310946303213,
          -4.631310946303213,
          -4.631310946303213,
          -4.631310946303213,
          -14.51627219466457,
          -4.631310946303213,
          2.5418046891259705,
          -4.631310946303213,
          -4.06889022109711,
          -4.631310946303213,
          -4.250137765608997,
          1.0934051407932577,
          4.036564781167606,
          -3.988702378739417,
          -4.631310946303213,
          -4.631310946303213,
          7.138028617402958,
          5.510337541870869,
          16.352097897627928,
          0.27306808301110763,
          -7.654168304490804,
          -4.631310946303213,
          -4.631310946303213,
          -1.3409197601769285,
          -4.631310946303213,
          2.4060571049153046,
          -7.479424674779689,
          9.131273212132228,
          -4.631310946303213,
          7.987244645091662,
          -3.9860429272055575,
          2.493946168508221,
          -4.631310946303213,
          -4.631310946303213,
          -4.631310946303213,
          18.48288134127929,
          4.088693283330147,
          -4.631310946303213,
          -4.06889022109711,
          5.155368709522357,
          2.978041595630332,
          -4.631310946303213,
          -4.604882750924732,
          -0.5241052316153016,
          -4.631310946303213,
          1.6028179926755648,
          -4.631310946303213,
          -4.631310946303213,
          -2.617006759420959,
          -4.631310946303213,
          -3.9860429272055575,
          3.281444253213639,
          2.6347781084564925,
          12.391305373932315,
          -4.631310946303213,
          7.122057506616231,
          -4.631310946303213,
          -5.1748664726440685,
          -4.631310946303213,
          -4.291707764177122,
          4.4272715989058575,
          5.248820425145273,
          8.077510088389484,
          -4.196868359373617,
          -13.459116359213619,
          -3.1504120323353924,
          -4.631310946303213,
          -4.631310946303213,
          4.036564781167606,
          5.602567289907268,
          -4.631310946303213,
          14.765148185763422,
          -6.4198028690828135,
          -4.631310946303213,
          2.551437849526428,
          7.122057506616231,
          -4.631310946303213,
          -17.41346137883251,
          4.838798676779277,
          3.24530460824346,
          1.6028179926755648,
          3.089694462404946,
          -3.9860429272055575,
          -4.631310946303213,
          7.122057506616231,
          -4.631310946303213,
          -10.851025376067213,
          8.828419433428468,
          -4.631310946303213,
          1.0934051407932577,
          2.4060571049153046,
          -3.2803265453192343,
          4.4272715989058575,
          7.987244645091662,
          -14.154697305192187,
          -4.631310946303213,
          -4.33384023620812,
          4.370790386525636,
          -4.250137765608997,
          2.4060571049153046,
          -2.5457781855605432,
          -4.631310946303213,
          7.161587216708054,
          9.131273212132228,
          -9.899138398881702,
          -4.631310946303213,
          -4.631310946303213,
          0.7261107210478679,
          -0.9043699874441757,
          0.5865574748118663,
          -4.604882750924732,
          1.6028179926755648,
          -4.06889022109711,
          -4.840719512495351,
          -10.851025376067213,
          -4.490635283370126,
          -4.631310946303213,
          -3.9860429272055575,
          4.74047996272442,
          3.2400493658041096,
          2.6347781084564925,
          -4.631310946303213,
          -13.554664332443023,
          -9.899138398881702,
          -4.631310946303213,
          7.167718285792657,
          -4.631310946303213,
          16.743163466567413,
          4.526840716594149,
          5.869507555250064,
          6.632904207402035,
          -4.631310946303213,
          13.151749034236836,
          4.74047996272442,
          7.669688643371431,
          -3.2803265453192343,
          7.122057506616231,
          -4.250137765608997,
          -4.631310946303213,
          -6.4195052581949135,
          -4.250137765608997,
          -3.3985819231061365,
          -4.631310946303213,
          -10.41200668550777,
          -16.136288864776727,
          -4.840719512495351,
          7.987244645091662,
          -4.631310946303213,
          -4.551593225729311,
          -3.2803265453192343,
          -13.788990686857549,
          -8.74157798662748,
          -4.631310946303213,
          -4.631310946303213,
          -4.631310946303213,
          4.197972387247706,
          -4.631310946303213,
          -4.631310946303213,
          0.5870397125675275,
          -4.631310946303213,
          4.648599832542488,
          -4.631310946303213,
          -4.631310946303213,
          -4.631310946303213,
          -9.899138398881702,
          7.161587216708054,
          5.1874204047918315,
          -8.687932696914846,
          -4.631310946303213,
          -13.402977229737745,
          8.226321960405848,
          4.036564781167606,
          9.131273212132228,
          -4.631310946303213,
          2.551437849526428,
          6.648290382205557,
          1.6028179926755648,
          2.6881885813152095,
          -9.899138398881702
         ],
         "y0": " ",
         "yaxis": "y"
        }
       ],
       "layout": {
        "boxmode": "group",
        "height": 600,
        "legend": {
         "title": {
          "text": "model_type"
         },
         "tracegroupgap": 0
        },
        "margin": {
         "t": 60
        },
        "template": {
         "data": {
          "bar": [
           {
            "error_x": {
             "color": "#2a3f5f"
            },
            "error_y": {
             "color": "#2a3f5f"
            },
            "marker": {
             "line": {
              "color": "#E5ECF6",
              "width": 0.5
             },
             "pattern": {
              "fillmode": "overlay",
              "size": 10,
              "solidity": 0.2
             }
            },
            "type": "bar"
           }
          ],
          "barpolar": [
           {
            "marker": {
             "line": {
              "color": "#E5ECF6",
              "width": 0.5
             },
             "pattern": {
              "fillmode": "overlay",
              "size": 10,
              "solidity": 0.2
             }
            },
            "type": "barpolar"
           }
          ],
          "carpet": [
           {
            "aaxis": {
             "endlinecolor": "#2a3f5f",
             "gridcolor": "white",
             "linecolor": "white",
             "minorgridcolor": "white",
             "startlinecolor": "#2a3f5f"
            },
            "baxis": {
             "endlinecolor": "#2a3f5f",
             "gridcolor": "white",
             "linecolor": "white",
             "minorgridcolor": "white",
             "startlinecolor": "#2a3f5f"
            },
            "type": "carpet"
           }
          ],
          "choropleth": [
           {
            "colorbar": {
             "outlinewidth": 0,
             "ticks": ""
            },
            "type": "choropleth"
           }
          ],
          "contour": [
           {
            "colorbar": {
             "outlinewidth": 0,
             "ticks": ""
            },
            "colorscale": [
             [
              0,
              "#0d0887"
             ],
             [
              0.1111111111111111,
              "#46039f"
             ],
             [
              0.2222222222222222,
              "#7201a8"
             ],
             [
              0.3333333333333333,
              "#9c179e"
             ],
             [
              0.4444444444444444,
              "#bd3786"
             ],
             [
              0.5555555555555556,
              "#d8576b"
             ],
             [
              0.6666666666666666,
              "#ed7953"
             ],
             [
              0.7777777777777778,
              "#fb9f3a"
             ],
             [
              0.8888888888888888,
              "#fdca26"
             ],
             [
              1,
              "#f0f921"
             ]
            ],
            "type": "contour"
           }
          ],
          "contourcarpet": [
           {
            "colorbar": {
             "outlinewidth": 0,
             "ticks": ""
            },
            "type": "contourcarpet"
           }
          ],
          "heatmap": [
           {
            "colorbar": {
             "outlinewidth": 0,
             "ticks": ""
            },
            "colorscale": [
             [
              0,
              "#0d0887"
             ],
             [
              0.1111111111111111,
              "#46039f"
             ],
             [
              0.2222222222222222,
              "#7201a8"
             ],
             [
              0.3333333333333333,
              "#9c179e"
             ],
             [
              0.4444444444444444,
              "#bd3786"
             ],
             [
              0.5555555555555556,
              "#d8576b"
             ],
             [
              0.6666666666666666,
              "#ed7953"
             ],
             [
              0.7777777777777778,
              "#fb9f3a"
             ],
             [
              0.8888888888888888,
              "#fdca26"
             ],
             [
              1,
              "#f0f921"
             ]
            ],
            "type": "heatmap"
           }
          ],
          "heatmapgl": [
           {
            "colorbar": {
             "outlinewidth": 0,
             "ticks": ""
            },
            "colorscale": [
             [
              0,
              "#0d0887"
             ],
             [
              0.1111111111111111,
              "#46039f"
             ],
             [
              0.2222222222222222,
              "#7201a8"
             ],
             [
              0.3333333333333333,
              "#9c179e"
             ],
             [
              0.4444444444444444,
              "#bd3786"
             ],
             [
              0.5555555555555556,
              "#d8576b"
             ],
             [
              0.6666666666666666,
              "#ed7953"
             ],
             [
              0.7777777777777778,
              "#fb9f3a"
             ],
             [
              0.8888888888888888,
              "#fdca26"
             ],
             [
              1,
              "#f0f921"
             ]
            ],
            "type": "heatmapgl"
           }
          ],
          "histogram": [
           {
            "marker": {
             "pattern": {
              "fillmode": "overlay",
              "size": 10,
              "solidity": 0.2
             }
            },
            "type": "histogram"
           }
          ],
          "histogram2d": [
           {
            "colorbar": {
             "outlinewidth": 0,
             "ticks": ""
            },
            "colorscale": [
             [
              0,
              "#0d0887"
             ],
             [
              0.1111111111111111,
              "#46039f"
             ],
             [
              0.2222222222222222,
              "#7201a8"
             ],
             [
              0.3333333333333333,
              "#9c179e"
             ],
             [
              0.4444444444444444,
              "#bd3786"
             ],
             [
              0.5555555555555556,
              "#d8576b"
             ],
             [
              0.6666666666666666,
              "#ed7953"
             ],
             [
              0.7777777777777778,
              "#fb9f3a"
             ],
             [
              0.8888888888888888,
              "#fdca26"
             ],
             [
              1,
              "#f0f921"
             ]
            ],
            "type": "histogram2d"
           }
          ],
          "histogram2dcontour": [
           {
            "colorbar": {
             "outlinewidth": 0,
             "ticks": ""
            },
            "colorscale": [
             [
              0,
              "#0d0887"
             ],
             [
              0.1111111111111111,
              "#46039f"
             ],
             [
              0.2222222222222222,
              "#7201a8"
             ],
             [
              0.3333333333333333,
              "#9c179e"
             ],
             [
              0.4444444444444444,
              "#bd3786"
             ],
             [
              0.5555555555555556,
              "#d8576b"
             ],
             [
              0.6666666666666666,
              "#ed7953"
             ],
             [
              0.7777777777777778,
              "#fb9f3a"
             ],
             [
              0.8888888888888888,
              "#fdca26"
             ],
             [
              1,
              "#f0f921"
             ]
            ],
            "type": "histogram2dcontour"
           }
          ],
          "mesh3d": [
           {
            "colorbar": {
             "outlinewidth": 0,
             "ticks": ""
            },
            "type": "mesh3d"
           }
          ],
          "parcoords": [
           {
            "line": {
             "colorbar": {
              "outlinewidth": 0,
              "ticks": ""
             }
            },
            "type": "parcoords"
           }
          ],
          "pie": [
           {
            "automargin": true,
            "type": "pie"
           }
          ],
          "scatter": [
           {
            "fillpattern": {
             "fillmode": "overlay",
             "size": 10,
             "solidity": 0.2
            },
            "type": "scatter"
           }
          ],
          "scatter3d": [
           {
            "line": {
             "colorbar": {
              "outlinewidth": 0,
              "ticks": ""
             }
            },
            "marker": {
             "colorbar": {
              "outlinewidth": 0,
              "ticks": ""
             }
            },
            "type": "scatter3d"
           }
          ],
          "scattercarpet": [
           {
            "marker": {
             "colorbar": {
              "outlinewidth": 0,
              "ticks": ""
             }
            },
            "type": "scattercarpet"
           }
          ],
          "scattergeo": [
           {
            "marker": {
             "colorbar": {
              "outlinewidth": 0,
              "ticks": ""
             }
            },
            "type": "scattergeo"
           }
          ],
          "scattergl": [
           {
            "marker": {
             "colorbar": {
              "outlinewidth": 0,
              "ticks": ""
             }
            },
            "type": "scattergl"
           }
          ],
          "scattermapbox": [
           {
            "marker": {
             "colorbar": {
              "outlinewidth": 0,
              "ticks": ""
             }
            },
            "type": "scattermapbox"
           }
          ],
          "scatterpolar": [
           {
            "marker": {
             "colorbar": {
              "outlinewidth": 0,
              "ticks": ""
             }
            },
            "type": "scatterpolar"
           }
          ],
          "scatterpolargl": [
           {
            "marker": {
             "colorbar": {
              "outlinewidth": 0,
              "ticks": ""
             }
            },
            "type": "scatterpolargl"
           }
          ],
          "scatterternary": [
           {
            "marker": {
             "colorbar": {
              "outlinewidth": 0,
              "ticks": ""
             }
            },
            "type": "scatterternary"
           }
          ],
          "surface": [
           {
            "colorbar": {
             "outlinewidth": 0,
             "ticks": ""
            },
            "colorscale": [
             [
              0,
              "#0d0887"
             ],
             [
              0.1111111111111111,
              "#46039f"
             ],
             [
              0.2222222222222222,
              "#7201a8"
             ],
             [
              0.3333333333333333,
              "#9c179e"
             ],
             [
              0.4444444444444444,
              "#bd3786"
             ],
             [
              0.5555555555555556,
              "#d8576b"
             ],
             [
              0.6666666666666666,
              "#ed7953"
             ],
             [
              0.7777777777777778,
              "#fb9f3a"
             ],
             [
              0.8888888888888888,
              "#fdca26"
             ],
             [
              1,
              "#f0f921"
             ]
            ],
            "type": "surface"
           }
          ],
          "table": [
           {
            "cells": {
             "fill": {
              "color": "#EBF0F8"
             },
             "line": {
              "color": "white"
             }
            },
            "header": {
             "fill": {
              "color": "#C8D4E3"
             },
             "line": {
              "color": "white"
             }
            },
            "type": "table"
           }
          ]
         },
         "layout": {
          "annotationdefaults": {
           "arrowcolor": "#2a3f5f",
           "arrowhead": 0,
           "arrowwidth": 1
          },
          "autotypenumbers": "strict",
          "coloraxis": {
           "colorbar": {
            "outlinewidth": 0,
            "ticks": ""
           }
          },
          "colorscale": {
           "diverging": [
            [
             0,
             "#8e0152"
            ],
            [
             0.1,
             "#c51b7d"
            ],
            [
             0.2,
             "#de77ae"
            ],
            [
             0.3,
             "#f1b6da"
            ],
            [
             0.4,
             "#fde0ef"
            ],
            [
             0.5,
             "#f7f7f7"
            ],
            [
             0.6,
             "#e6f5d0"
            ],
            [
             0.7,
             "#b8e186"
            ],
            [
             0.8,
             "#7fbc41"
            ],
            [
             0.9,
             "#4d9221"
            ],
            [
             1,
             "#276419"
            ]
           ],
           "sequential": [
            [
             0,
             "#0d0887"
            ],
            [
             0.1111111111111111,
             "#46039f"
            ],
            [
             0.2222222222222222,
             "#7201a8"
            ],
            [
             0.3333333333333333,
             "#9c179e"
            ],
            [
             0.4444444444444444,
             "#bd3786"
            ],
            [
             0.5555555555555556,
             "#d8576b"
            ],
            [
             0.6666666666666666,
             "#ed7953"
            ],
            [
             0.7777777777777778,
             "#fb9f3a"
            ],
            [
             0.8888888888888888,
             "#fdca26"
            ],
            [
             1,
             "#f0f921"
            ]
           ],
           "sequentialminus": [
            [
             0,
             "#0d0887"
            ],
            [
             0.1111111111111111,
             "#46039f"
            ],
            [
             0.2222222222222222,
             "#7201a8"
            ],
            [
             0.3333333333333333,
             "#9c179e"
            ],
            [
             0.4444444444444444,
             "#bd3786"
            ],
            [
             0.5555555555555556,
             "#d8576b"
            ],
            [
             0.6666666666666666,
             "#ed7953"
            ],
            [
             0.7777777777777778,
             "#fb9f3a"
            ],
            [
             0.8888888888888888,
             "#fdca26"
            ],
            [
             1,
             "#f0f921"
            ]
           ]
          },
          "colorway": [
           "#636efa",
           "#EF553B",
           "#00cc96",
           "#ab63fa",
           "#FFA15A",
           "#19d3f3",
           "#FF6692",
           "#B6E880",
           "#FF97FF",
           "#FECB52"
          ],
          "font": {
           "color": "#2a3f5f"
          },
          "geo": {
           "bgcolor": "white",
           "lakecolor": "white",
           "landcolor": "#E5ECF6",
           "showlakes": true,
           "showland": true,
           "subunitcolor": "white"
          },
          "hoverlabel": {
           "align": "left"
          },
          "hovermode": "closest",
          "mapbox": {
           "style": "light"
          },
          "paper_bgcolor": "white",
          "plot_bgcolor": "#E5ECF6",
          "polar": {
           "angularaxis": {
            "gridcolor": "white",
            "linecolor": "white",
            "ticks": ""
           },
           "bgcolor": "#E5ECF6",
           "radialaxis": {
            "gridcolor": "white",
            "linecolor": "white",
            "ticks": ""
           }
          },
          "scene": {
           "xaxis": {
            "backgroundcolor": "#E5ECF6",
            "gridcolor": "white",
            "gridwidth": 2,
            "linecolor": "white",
            "showbackground": true,
            "ticks": "",
            "zerolinecolor": "white"
           },
           "yaxis": {
            "backgroundcolor": "#E5ECF6",
            "gridcolor": "white",
            "gridwidth": 2,
            "linecolor": "white",
            "showbackground": true,
            "ticks": "",
            "zerolinecolor": "white"
           },
           "zaxis": {
            "backgroundcolor": "#E5ECF6",
            "gridcolor": "white",
            "gridwidth": 2,
            "linecolor": "white",
            "showbackground": true,
            "ticks": "",
            "zerolinecolor": "white"
           }
          },
          "shapedefaults": {
           "line": {
            "color": "#2a3f5f"
           }
          },
          "ternary": {
           "aaxis": {
            "gridcolor": "white",
            "linecolor": "white",
            "ticks": ""
           },
           "baxis": {
            "gridcolor": "white",
            "linecolor": "white",
            "ticks": ""
           },
           "bgcolor": "#E5ECF6",
           "caxis": {
            "gridcolor": "white",
            "linecolor": "white",
            "ticks": ""
           }
          },
          "title": {
           "x": 0.05
          },
          "xaxis": {
           "automargin": true,
           "gridcolor": "white",
           "linecolor": "white",
           "ticks": "",
           "title": {
            "standoff": 15
           },
           "zerolinecolor": "white",
           "zerolinewidth": 2
          },
          "yaxis": {
           "automargin": true,
           "gridcolor": "white",
           "linecolor": "white",
           "ticks": "",
           "title": {
            "standoff": 15
           },
           "zerolinecolor": "white",
           "zerolinewidth": 2
          }
         }
        },
        "width": 800,
        "xaxis": {
         "anchor": "y",
         "domain": [
          0,
          1
         ]
        },
        "yaxis": {
         "anchor": "x",
         "domain": [
          0,
          1
         ],
         "title": {
          "text": "fmt_total_profit_percentage"
         }
        }
       }
      }
     },
     "metadata": {},
     "output_type": "display_data"
    }
   ],
   "source": [
    "fig = px.box(df_trader_results, y=\"fmt_total_profit_percentage\", color=\"model_type\", points=\"all\", color_discrete_sequence=[ \"#FF7F0E\", \"#00CC96\", \"#10aded\", \"#8A56EF\"],  width=800, height=600)\n",
    "fig.show()"
   ]
  },
  {
   "cell_type": "code",
   "execution_count": 18,
   "metadata": {},
   "outputs": [
    {
     "data": {
      "application/vnd.plotly.v1+json": {
       "config": {
        "plotlyServerURL": "https://plot.ly"
       },
       "data": [
        {
         "alignmentgroup": "True",
         "bingroup": "x",
         "hovertemplate": "model_type=DQN<br>fmt_total_profit_percentage=%{x}<br>count=%{y}<extra></extra>",
         "legendgroup": "DQN",
         "marker": {
          "color": "#FF7F0E",
          "pattern": {
           "shape": ""
          }
         },
         "name": "DQN",
         "offsetgroup": "DQN",
         "orientation": "v",
         "showlegend": true,
         "type": "histogram",
         "x": [
          -4.631310946303213,
          -4.631310946303213,
          -4.631310946303213,
          5.602567289907268,
          -4.551593225729311,
          -4.631310946303213,
          -4.250137765608997,
          5.1874204047918315,
          -3.9860429272055575,
          -4.631310946303213,
          7.122057506616231,
          -1.685154266617983,
          10.348721338169309,
          7.161587216708054,
          -4.551593225729311,
          -4.631310946303213,
          4.4272715989058575,
          3.045408310824138,
          -1.3225098576406524,
          7.122057506616231,
          0.27306808301110763,
          -9.563094322753452,
          -7.654168304490804,
          -13.554664332443023,
          -4.631310946303213,
          -4.631310946303213,
          -4.631310946303213,
          -4.631310946303213,
          4.141615195128412,
          2.551437849526428,
          -4.631310946303213,
          5.602567289907268,
          -4.631310946303213,
          -4.604882750924732,
          6.648290382205557,
          -4.631310946303213,
          7.098523903426379,
          2.6347781084564925,
          -4.631310946303213,
          4.56899917358935,
          4.036564781167606,
          -4.631310946303213,
          -4.631310946303213,
          -4.631310946303213,
          -4.631310946303213,
          -4.631310946303213,
          -4.631310946303213,
          -7.479424674779689,
          -4.631310946303213,
          -4.631310946303213,
          -4.631310946303213,
          7.161587216708054,
          2.551437849526428,
          4.370790386525636,
          0.27306808301110763,
          -4.631310946303213,
          7.161587216708054,
          -4.631310946303213,
          -4.631310946303213,
          -4.631310946303213,
          -0.29243487109227306,
          -4.631310946303213,
          -4.840719512495351,
          -4.631310946303213,
          -0.5647503713969271,
          3.4686626390315833,
          2.551437849526428,
          -4.631310946303213,
          -4.631310946303213,
          -4.631310946303213,
          12.391305373932315,
          13.209435825035643,
          -4.631310946303213,
          -7.654168304490804,
          6.648290382205557,
          -4.631310946303213,
          4.4272715989058575,
          -4.604882750924732,
          -4.631310946303213,
          -2.2277827316256937,
          -4.631310946303213,
          9.131273212132228,
          5.1874204047918315,
          9.161515240611084,
          7.987244645091662,
          -4.631310946303213,
          16.31169654570965,
          -4.631310946303213,
          -4.631310946303213,
          -4.631310946303213,
          -4.840719512495351,
          7.987244645091662,
          -4.631310946303213,
          2.8993272952564597,
          -4.631310946303213,
          -4.631310946303213,
          -12.392599046846641,
          -10.851025376067213,
          1.6028179926755648,
          -4.631310946303213,
          -4.551593225729311,
          -6.4195052581949135,
          -4.631310946303213,
          -4.631310946303213,
          -4.631310946303213,
          -4.631310946303213,
          -4.631310946303213,
          -4.621252734833625,
          -4.631310946303213,
          7.00242750388429,
          12.391305373932315,
          -4.06889022109711,
          15.381439636586558,
          3.2262938107913586,
          -4.631310946303213,
          7.161587216708054,
          2.6347781084564925,
          -4.840719512495351,
          -4.631310946303213,
          -2.617006759420959,
          -4.631310946303213,
          -4.631310946303213,
          -0.4874249778358597,
          -4.631310946303213,
          4.514561296816333,
          22.389482708863362,
          7.987244645091662,
          7.987244645091662,
          -4.631310946303213,
          -4.631310946303213,
          -6.4195052581949135,
          7.127964615997384,
          -4.631310946303213,
          -4.631310946303213,
          0.27306808301110763,
          0.27306808301110763,
          -4.631310946303213,
          -4.250137765608997,
          -10.851025376067213,
          2.6347781084564925,
          6.871712706048316,
          -3.641629178635697,
          -3.3492910197644887,
          -4.250137765608997,
          -3.9860429272055575,
          12.391305373932315,
          -4.631310946303213,
          -4.631310946303213,
          -4.631310946303213,
          -4.631310946303213,
          -4.631310946303213,
          -13.554664332443023,
          -4.631310946303213,
          -4.631310946303213,
          -10.851025376067213,
          -4.631310946303213,
          -4.631310946303213,
          -6.4195052581949135,
          -4.631310946303213,
          -4.631310946303213,
          9.131273212132228,
          -4.545345424842306,
          2.551437849526428,
          1.8509630970439561,
          -11.386592897468029,
          -4.631310946303213,
          7.987244645091662,
          -4.631310946303213,
          -4.631310946303213,
          1.0934051407932577,
          -13.04486757567458,
          -2.5638429976722388,
          -4.631310946303213,
          -4.631310946303213,
          3.463319895874517,
          7.161587216708054,
          -4.631310946303213,
          6.677496084311807,
          2.551437849526428,
          -4.631310946303213,
          -4.631310946303213,
          21.533563295572677,
          -1.2374879037609698,
          -3.2803265453192343,
          -6.863856862879203,
          5.248820425145273,
          20.083433478745327,
          -4.631310946303213,
          3.2360457326948033,
          -4.631310946303213,
          6.311647581604207,
          4.370790386525636,
          1.6028179926755648,
          3.3041266093189137,
          -6.652582832696852,
          -13.554664332443023,
          7.980067726518314,
          -4.631310946303213,
          7.122057506616231,
          -4.631310946303213,
          5.951435363250268,
          -2.617006759420959,
          -7.654168304490804,
          -4.631310946303213,
          17.713617455124876,
          1.2893976899563953,
          -4.631310946303213,
          -4.631310946303213,
          -4.840719512495351,
          4.370790386525636,
          3.5795066002820564,
          0.27306808301110763,
          2.6347781084564925,
          -4.631310946303213,
          -4.250137765608997,
          2.6632198538069973,
          -6.168786400575687,
          -3.5240210536255367,
          -4.631310946303213,
          -13.136608761261037,
          -4.631310946303213,
          9.131273212132228,
          -9.899138398881702,
          -4.631310946303213,
          -5.634739713933412,
          -4.631310946303213,
          -4.250137765608997,
          -3.3492910197644887,
          11.548671009507316,
          -4.631310946303213,
          -4.631310946303213,
          -4.631310946303213,
          -4.631310946303213,
          12.391305373932315,
          7.07454629978137,
          -4.631310946303213,
          -9.798508962512908,
          7.161587216708054,
          -4.631310946303213,
          -4.631310946303213,
          -4.604882750924732,
          -13.209156347804296,
          12.391305373932315,
          -2.4643171892897997,
          -2.617006759420959,
          4.036564781167606,
          7.122057506616231,
          -4.631310946303213,
          3.089694462404946,
          -4.604882750924732,
          2.551437849526428,
          -4.631310946303213,
          -4.631310946303213,
          -4.631310946303213,
          10.348721338169309,
          -3.9860429272055575,
          4.4272715989058575,
          -4.631310946303213,
          9.131273212132228,
          -4.631310946303213,
          -4.631310946303213,
          -4.631310946303213,
          7.122057506616231,
          -4.631310946303213,
          4.293928048208007,
          -12.456525986767709,
          4.4272715989058575,
          -3.2803265453192343,
          -4.631310946303213,
          -3.2803265453192343,
          -7.654168304490804,
          -4.631310946303213,
          -4.631310946303213,
          2.4916572901162226,
          7.122057506616231,
          -4.631310946303213,
          -4.631310946303213,
          -2.4643171892897997,
          -4.551593225729311,
          -9.54754960784575,
          5.602567289907268,
          -4.631310946303213,
          -10.851025376067213,
          2.551437849526428,
          22.038625368481334,
          5.2670757941658986,
          -10.826320763447184,
          -4.631310946303213,
          7.987244645091662,
          -4.06889022109711,
          4.370790386525636,
          -4.631310946303213,
          -9.645297297032906,
          4.645483787927951,
          -4.631310946303213,
          -4.631310946303213,
          -5.368645186613974,
          -4.06889022109711,
          7.122057506616231,
          2.0910199557558684,
          5.248820425145273,
          -2.7099386179414098,
          20.663428605742574,
          -3.2803265453192343,
          -4.06889022109711,
          13.716783234399177,
          -4.631310946303213,
          -3.5615146184092006,
          -4.631310946303213,
          5.1874204047918315,
          -7.654168304490804,
          1.7078412221147588,
          5.017717273813971,
          -4.631310946303213,
          -4.631310946303213,
          0.30085536058397366,
          -4.631310946303213,
          1.6028179926755648,
          2.9767903817055297,
          -4.631310946303213,
          -4.631310946303213,
          2.4060571049153046,
          -3.2803265453192343,
          -4.631310946303213,
          4.526840716594149,
          -4.631310946303213,
          -4.631310946303213,
          -4.250137765608997,
          -10.851025376067213,
          7.122057506616231,
          -4.551593225729311,
          -4.631310946303213,
          -4.631310946303213,
          -3.9594359176958416,
          -4.631310946303213,
          -4.631310946303213,
          9.131273212132228,
          -4.250137765608997,
          -4.06889022109711,
          7.987244645091662,
          -4.631310946303213,
          -6.4195052581949135,
          -4.631310946303213,
          4.4272715989058575,
          7.987244645091662,
          -7.479424674779689,
          -3.1131391197654734,
          -4.631310946303213,
          -4.631310946303213,
          12.391305373932315,
          5.602567289907268,
          -3.9860429272055575,
          2.5418046891259705,
          -4.06889022109711,
          -3.2803265453192343,
          -4.631310946303213,
          5.602567289907268,
          9.384607312889926,
          -9.899138398881702,
          4.4272715989058575,
          -4.631310946303213,
          -4.631310946303213,
          -0.48361328726608255,
          13.423299982036795,
          7.122057506616231,
          -4.631310946303213,
          7.161587216708054,
          -7.479424674779689,
          -4.631310946303213,
          9.131273212132228,
          -4.631310946303213,
          -3.9860429272055575,
          -12.392599046846641,
          -4.631310946303213,
          0.9295915034921665,
          2.551437849526428,
          2.6347781084564925,
          -4.631310946303213,
          -4.631310946303213,
          1.6028179926755648,
          1.6028179926755648,
          -4.631310946303213,
          2.5418046891259705,
          1.0934051407932577,
          7.122057506616231,
          5.1874204047918315,
          5.918777629699301,
          5.1874204047918315,
          -12.522591119543991,
          -4.631310946303213,
          5.486037012157752,
          9.038751301176283,
          -4.06889022109711,
          -4.631310946303213,
          -4.631310946303213,
          5.1874204047918315,
          0.27306808301110763,
          -4.631310946303213,
          9.823065916902586,
          -5.634739713933412,
          -13.554664332443023,
          -4.631310946303213,
          -8.510896593057392,
          -4.631310946303213,
          -4.631310946303213,
          -4.631310946303213,
          -4.631310946303213,
          -3.2803265453192343,
          -6.3412822711221395,
          -4.604882750924732,
          -0.4160043320536211,
          -2.5457781855605432,
          -4.631310946303213,
          -3.9860429272055575,
          -7.682579412612123,
          -4.631310946303213,
          -4.631310946303213,
          -2.5356053023931957,
          -4.631310946303213,
          -4.631310946303213,
          -4.631310946303213,
          -10.851025376067213,
          4.141615195128412,
          1.6028179926755648,
          -4.631310946303213,
          -7.479424674779689,
          -4.631310946303213,
          -4.631310946303213,
          8.384176351000882,
          -9.757231610515793,
          4.4272715989058575,
          -4.631310946303213,
          -4.631310946303213,
          -4.631310946303213,
          -4.631310946303213,
          -4.631310946303213,
          -4.551593225729311,
          -4.604882750924732,
          -4.631310946303213,
          -4.631310946303213,
          -4.631310946303213,
          -7.479424674779689,
          -0.4874249778358597,
          -4.631310946303213,
          -4.631310946303213,
          -0.6227588728355493,
          7.161587216708054,
          3.281444253213639,
          -2.5457781855605432,
          -4.631310946303213,
          -6.4195052581949135,
          -2.617006759420959,
          -4.631310946303213,
          -4.631310946303213,
          9.618336807021732,
          5.24899764348723,
          -4.631310946303213,
          -4.631310946303213,
          5.614785712680637,
          5.602567289907268,
          -7.479424674779689,
          5.872150322578973,
          -4.250137765608997,
          -4.631310946303213,
          -4.631310946303213,
          -4.631310946303213,
          -4.631310946303213,
          9.131273212132228,
          -4.631310946303213,
          5.1874204047918315,
          -4.604882750924732,
          -4.1701014262367275,
          -1.685154266617983,
          -4.631310946303213,
          -1.1686490966148044,
          11.101460755099723,
          -4.840719512495351,
          -4.631310946303213,
          -4.631310946303213,
          5.248820425145273,
          5.1874204047918315,
          -4.631310946303213,
          -4.604882750924732,
          4.370790386525636,
          -1.685154266617983,
          2.551437849526428,
          6.648290382205557,
          -4.631310946303213,
          7.75379173580879,
          5.1874204047918315,
          -4.631310946303213,
          -4.631310946303213,
          2.6347781084564925,
          -9.605504051501768,
          -4.631310946303213,
          -4.631310946303213,
          25.68423337774344,
          -4.631310946303213,
          -4.631310946303213,
          0.5678350936503263,
          -4.631310946303213,
          -4.631310946303213,
          -2.617006759420959,
          -4.840719512495351,
          -4.631310946303213,
          0.06361140483119865,
          -13.554664332443023,
          -4.631310946303213,
          -13.51339203985834,
          -4.631310946303213,
          -4.631310946303213,
          -3.9860429272055575,
          -4.631310946303213,
          -4.06889022109711,
          1.6877467584437644,
          -4.631310946303213,
          -4.631310946303213,
          -4.631310946303213,
          0.27306808301110763,
          2.6347781084564925,
          -4.631310946303213,
          -4.250137765608997,
          9.887476160236265,
          -4.631310946303213,
          -4.604882750924732,
          -4.631310946303213,
          -4.840719512495351,
          -4.631310946303213,
          5.872150322578973,
          -4.631310946303213,
          5.248820425145273,
          -4.631310946303213,
          5.1874204047918315,
          -4.631310946303213,
          7.161587216708054,
          -4.631310946303213,
          5.602567289907268,
          5.2184908965635435,
          0.27306808301110763,
          -4.631310946303213,
          -2.617006759420959,
          0.27306808301110763,
          -1.685154266617983,
          -4.631310946303213,
          2.551437849526428,
          4.036564781167606,
          -1.1756398292538717,
          -1.685154266617983,
          2.4060571049153046,
          15.588695945709329,
          -4.631310946303213,
          -4.631310946303213,
          -7.479424674779689,
          6.986145750588135,
          -4.06889022109711,
          -4.631310946303213,
          14.395550974900818,
          7.161587216708054,
          -4.631310946303213,
          5.1874204047918315,
          -4.631310946303213,
          -7.654168304490804,
          5.248820425145273,
          -4.631310946303213,
          4.370790386525636,
          -9.214215916760093,
          3.456846789586887,
          -4.631310946303213,
          -4.631310946303213,
          -4.631310946303213,
          7.846849244185772,
          4.036564781167606,
          -4.631310946303213,
          9.956051042430003,
          5.602567289907268,
          -4.631310946303213,
          -4.631310946303213,
          -4.631310946303213,
          2.4060571049153046,
          1.0962753051400043,
          -1.710045321836129,
          17.5859365781039,
          -4.631310946303213,
          -4.631310946303213,
          -4.631310946303213,
          -13.554664332443023,
          -4.631310946303213,
          6.648290382205557,
          7.987244645091662,
          2.551437849526428,
          -4.631310946303213,
          -4.631310946303213,
          -6.393572600179032,
          -3.3304604274259964,
          14.4945429092312,
          -4.631310946303213,
          -4.631310946303213,
          9.131273212132228,
          -7.654168304490804,
          -2.617006759420959,
          -4.631310946303213,
          2.493946168508221,
          2.6347781084564925,
          -4.631310946303213,
          -4.631310946303213,
          -4.631310946303213,
          -4.631310946303213,
          7.122057506616231,
          -4.631310946303213,
          -4.631310946303213,
          2.8993272952564597,
          -4.631310946303213,
          -6.4195052581949135,
          -4.631310946303213,
          14.669796463742045,
          2.6347781084564925,
          5.248820425145273,
          1.0934051407932577,
          -4.631310946303213,
          -4.631310946303213,
          5.807745438653966,
          0.27306808301110763,
          -4.631310946303213,
          -4.631310946303213,
          -4.840719512495351,
          7.161587216708054,
          -4.631310946303213,
          0.1731493973395004,
          10.348721338169309,
          -4.631310946303213,
          -4.631310946303213,
          -4.631310946303213,
          15.364084499802221,
          -4.631310946303213,
          -4.631310946303213,
          -7.654168304490804,
          -5.867630106716238,
          8.521914756648897,
          -4.631310946303213,
          2.6347781084564925,
          -4.631310946303213,
          -4.631310946303213,
          -4.631310946303213,
          -4.631310946303213,
          -4.604882750924732,
          6.327643800382066,
          -4.631310946303213,
          -4.631310946303213,
          8.891645052441287,
          12.516423596857873,
          -2.5457781855605432,
          -4.840719512495351,
          8.639539083942571,
          -4.631310946303213,
          1.0934051407932577,
          7.122057506616231,
          -3.808001522144644,
          -4.604882750924732,
          -4.631310946303213,
          1.6935274828742575,
          -3.9860429272055575,
          -4.631310946303213,
          9.396930193598529,
          -4.631310946303213,
          -2.5457781855605432,
          -2.617006759420959,
          2.5418046891259705,
          -4.631310946303213,
          -4.631310946303213,
          -4.06889022109711,
          -4.631310946303213,
          -4.631310946303213,
          -6.680814711358607,
          -4.631310946303213,
          -4.631310946303213,
          4.370790386525636,
          7.38427412461653,
          2.5418046891259705,
          -4.604882750924732,
          -4.631310946303213,
          5.1874204047918315,
          5.248820425145273,
          -6.4301606643662135,
          -4.631310946303213,
          7.161587216708054,
          -4.631310946303213,
          5.694087884737953,
          12.006615244669705,
          3.1904060667089063,
          5.546682048327534,
          -7.479424674779689,
          6.648290382205557,
          1.580352540251706,
          -4.551593225729311,
          -6.4195052581949135,
          -7.479424674779689,
          -4.631310946303213,
          12.391305373932315,
          -4.373076923202756,
          -4.631310946303213,
          -4.631310946303213,
          -4.551593225729311,
          -4.631310946303213,
          -4.631310946303213,
          6.091826671098244,
          9.86965937624895,
          -6.4195052581949135,
          9.097758623503793,
          -4.631310946303213,
          -4.631310946303213,
          -4.631310946303213,
          9.082844275748325,
          2.81585679917129,
          6.523917948732172,
          -4.631310946303213,
          -3.2803265453192343,
          5.602567289907268,
          -4.631310946303213,
          -6.933800218920827,
          1.9788193513062824,
          -0.2305432262635354,
          6.648290382205557,
          -4.631310946303213,
          1.0934051407932577,
          9.082844275748325,
          3.2203081304904124,
          2.5418046891259705,
          1.6028179926755648,
          -4.631310946303213,
          2.551437849526428,
          9.131273212132228,
          -4.631310946303213,
          5.1874204047918315,
          3.0989402122261867,
          -4.631310946303213,
          -2.5457781855605432,
          -4.631310946303213,
          -4.631310946303213,
          5.248820425145273,
          -13.209156347804296,
          13.359504169209435,
          -4.631310946303213,
          -2.5457781855605432,
          4.4272715989058575,
          1.6028179926755648,
          11.030953678432098,
          -13.554664332443023,
          -3.2803265453192343,
          4.4272715989058575,
          2.720569479226076,
          1.3516176812655933,
          -13.744479186518955,
          -4.631310946303213,
          -4.631310946303213,
          -4.631310946303213,
          7.122057506616231,
          -4.551593225729311,
          -3.9860429272055575,
          5.248820425145273,
          -4.631310946303213,
          -10.851025376067213,
          -1.685154266617983,
          -4.631310946303213,
          1.4791420205906292,
          -4.631310946303213,
          -3.3492910197644887,
          -4.631310946303213,
          -4.631310946303213,
          0.4648053656139739,
          0.27306808301110763,
          -4.631310946303213,
          -4.604882750924732,
          -4.631310946303213,
          -4.631310946303213,
          8.717890270310624,
          -4.631310946303213,
          3.7069487871316475,
          -4.631310946303213,
          15.22927974695143,
          2.5418046891259705,
          16.50537556421101,
          1.7774067971682017,
          -13.209156347804296,
          4.4272715989058575,
          4.036564781167606,
          -1.083258810775678,
          -4.631310946303213,
          -4.631310946303213,
          5.602567289907268,
          -2.0427070157150395,
          -9.874170003092786,
          -4.631310946303213,
          -4.631310946303213,
          5.1874204047918315,
          -3.9860429272055575,
          -7.654168304490804,
          9.889634798514567,
          -4.631310946303213,
          2.551437849526428,
          6.503391778667544,
          2.551437849526428,
          6.5752300422434296,
          0.27306808301110763,
          4.70761391399086,
          -1.9710583833787987,
          12.391305373932315,
          -4.551593225729311,
          3.788013133447299,
          2.4060571049153046,
          7.987244645091662,
          5.614785712680637,
          5.1874204047918315,
          4.036564781167606,
          -4.631310946303213,
          -4.631310946303213,
          -3.2803265453192343,
          -13.554664332443023,
          12.462358312784572,
          -4.631310946303213,
          20.33560091935682,
          1.0934051407932577,
          -4.631310946303213,
          -4.631310946303213,
          -4.631310946303213,
          -4.631310946303213,
          -14.51627219466457,
          -4.631310946303213,
          2.5418046891259705,
          -4.631310946303213,
          -4.06889022109711,
          -4.631310946303213,
          -4.250137765608997,
          1.0934051407932577,
          4.036564781167606,
          -3.988702378739417,
          -4.631310946303213,
          -4.631310946303213,
          7.138028617402958,
          5.510337541870869,
          16.352097897627928,
          0.27306808301110763,
          -7.654168304490804,
          -4.631310946303213,
          -4.631310946303213,
          -1.3409197601769285,
          -4.631310946303213,
          2.4060571049153046,
          -7.479424674779689,
          9.131273212132228,
          -4.631310946303213,
          7.987244645091662,
          -3.9860429272055575,
          2.493946168508221,
          -4.631310946303213,
          -4.631310946303213,
          -4.631310946303213,
          18.48288134127929,
          4.088693283330147,
          -4.631310946303213,
          -4.06889022109711,
          5.155368709522357,
          2.978041595630332,
          -4.631310946303213,
          -4.604882750924732,
          -0.5241052316153016,
          -4.631310946303213,
          1.6028179926755648,
          -4.631310946303213,
          -4.631310946303213,
          -2.617006759420959,
          -4.631310946303213,
          -3.9860429272055575,
          3.281444253213639,
          2.6347781084564925,
          12.391305373932315,
          -4.631310946303213,
          7.122057506616231,
          -4.631310946303213,
          -5.1748664726440685,
          -4.631310946303213,
          -4.291707764177122,
          4.4272715989058575,
          5.248820425145273,
          8.077510088389484,
          -4.196868359373617,
          -13.459116359213619,
          -3.1504120323353924,
          -4.631310946303213,
          -4.631310946303213,
          4.036564781167606,
          5.602567289907268,
          -4.631310946303213,
          14.765148185763422,
          -6.4198028690828135,
          -4.631310946303213,
          2.551437849526428,
          7.122057506616231,
          -4.631310946303213,
          -17.41346137883251,
          4.838798676779277,
          3.24530460824346,
          1.6028179926755648,
          3.089694462404946,
          -3.9860429272055575,
          -4.631310946303213,
          7.122057506616231,
          -4.631310946303213,
          -10.851025376067213,
          8.828419433428468,
          -4.631310946303213,
          1.0934051407932577,
          2.4060571049153046,
          -3.2803265453192343,
          4.4272715989058575,
          7.987244645091662,
          -14.154697305192187,
          -4.631310946303213,
          -4.33384023620812,
          4.370790386525636,
          -4.250137765608997,
          2.4060571049153046,
          -2.5457781855605432,
          -4.631310946303213,
          7.161587216708054,
          9.131273212132228,
          -9.899138398881702,
          -4.631310946303213,
          -4.631310946303213,
          0.7261107210478679,
          -0.9043699874441757,
          0.5865574748118663,
          -4.604882750924732,
          1.6028179926755648,
          -4.06889022109711,
          -4.840719512495351,
          -10.851025376067213,
          -4.490635283370126,
          -4.631310946303213,
          -3.9860429272055575,
          4.74047996272442,
          3.2400493658041096,
          2.6347781084564925,
          -4.631310946303213,
          -13.554664332443023,
          -9.899138398881702,
          -4.631310946303213,
          7.167718285792657,
          -4.631310946303213,
          16.743163466567413,
          4.526840716594149,
          5.869507555250064,
          6.632904207402035,
          -4.631310946303213,
          13.151749034236836,
          4.74047996272442,
          7.669688643371431,
          -3.2803265453192343,
          7.122057506616231,
          -4.250137765608997,
          -4.631310946303213,
          -6.4195052581949135,
          -4.250137765608997,
          -3.3985819231061365,
          -4.631310946303213,
          -10.41200668550777,
          -16.136288864776727,
          -4.840719512495351,
          7.987244645091662,
          -4.631310946303213,
          -4.551593225729311,
          -3.2803265453192343,
          -13.788990686857549,
          -8.74157798662748,
          -4.631310946303213,
          -4.631310946303213,
          -4.631310946303213,
          4.197972387247706,
          -4.631310946303213,
          -4.631310946303213,
          0.5870397125675275,
          -4.631310946303213,
          4.648599832542488,
          -4.631310946303213,
          -4.631310946303213,
          -4.631310946303213,
          -9.899138398881702,
          7.161587216708054,
          5.1874204047918315,
          -8.687932696914846,
          -4.631310946303213,
          -13.402977229737745,
          8.226321960405848,
          4.036564781167606,
          9.131273212132228,
          -4.631310946303213,
          2.551437849526428,
          6.648290382205557,
          1.6028179926755648,
          2.6881885813152095,
          -9.899138398881702
         ],
         "xaxis": "x",
         "yaxis": "y"
        },
        {
         "alignmentgroup": "True",
         "boxpoints": "all",
         "customdata": [
          [
           -1015.6100000000006,
           6,
           1
          ],
          [
           -1015.6100000000006,
           6,
           2
          ],
          [
           -1015.6100000000006,
           6,
           3
          ],
          [
           1229.4800000000032,
           8,
           4
          ],
          [
           -1001.4499999999971,
           4,
           5
          ],
          [
           -1015.6100000000006,
           6,
           6
          ],
          [
           -932.1900000000023,
           6,
           7
          ],
          [
           1141.699999999997,
           8,
           8
          ],
          [
           -903.3700000000026,
           6,
           9
          ],
          [
           -1015.6100000000006,
           6,
           10
          ],
          [
           1566.430000000004,
           8,
           11
          ],
          [
           -378.3799999999974,
           8,
           12
          ],
          [
           2118.7600000000057,
           8,
           13
          ],
          [
           1575.449999999997,
           8,
           14
          ],
          [
           -1001.4499999999971,
           4,
           15
          ],
          [
           -1015.6100000000006,
           6,
           16
          ],
          [
           974.6100000000042,
           8,
           17
          ],
          [
           648.7500000000036,
           10,
           18
          ],
          [
           -314.54000000000815,
           10,
           19
          ],
          [
           1566.430000000004,
           8,
           20
          ],
          [
           9.299999999999272,
           6,
           21
          ],
          [
           -2252.3399999999892,
           10,
           22
          ],
          [
           -1687.1799999999967,
           8,
           23
          ],
          [
           -2822.3300000000017,
           6,
           24
          ],
          [
           -1015.6100000000006,
           6,
           25
          ],
          [
           -1015.6100000000006,
           6,
           26
          ],
          [
           -1015.6100000000006,
           6,
           27
          ],
          [
           -1015.6100000000006,
           6,
           28
          ],
          [
           925.359999999997,
           9,
           29
          ],
          [
           547.0700000000033,
           8,
           30
          ],
          [
           -1015.6100000000006,
           6,
           31
          ],
          [
           1229.4800000000032,
           8,
           32
          ],
          [
           -1015.6100000000006,
           6,
           33
          ],
          [
           -1010.989999999998,
           8,
           34
          ],
          [
           1151.1699999999983,
           6,
           35
          ],
          [
           -1015.6100000000006,
           6,
           36
          ],
          [
           1467.080000000009,
           8,
           37
          ],
          [
           580.3400000000001,
           8,
           38
          ],
          [
           -1015.6100000000006,
           6,
           39
          ],
          [
           879.140000000003,
           10,
           40
          ],
          [
           888.6899999999987,
           8,
           41
          ],
          [
           -1015.6100000000006,
           6,
           42
          ],
          [
           -1015.6100000000006,
           6,
           43
          ],
          [
           -1015.6100000000006,
           6,
           44
          ],
          [
           -1015.6100000000006,
           6,
           45
          ],
          [
           -1015.6100000000006,
           6,
           46
          ],
          [
           -1015.6100000000006,
           6,
           47
          ],
          [
           -1540.4100000000035,
           6,
           48
          ],
          [
           -1015.6100000000006,
           6,
           49
          ],
          [
           -1015.6100000000006,
           6,
           50
          ],
          [
           -1015.6100000000006,
           6,
           51
          ],
          [
           1575.449999999997,
           8,
           52
          ],
          [
           547.0700000000033,
           8,
           53
          ],
          [
           962.380000000001,
           7,
           54
          ],
          [
           9.299999999999272,
           6,
           55
          ],
          [
           -1015.6100000000006,
           6,
           56
          ],
          [
           1575.449999999997,
           8,
           57
          ],
          [
           -1015.6100000000006,
           6,
           58
          ],
          [
           -1015.6100000000006,
           6,
           59
          ],
          [
           -1015.6100000000006,
           6,
           60
          ],
          [
           -140.77999999999156,
           8,
           61
          ],
          [
           -1015.6100000000006,
           6,
           62
          ],
          [
           -1052.6300000000047,
           8,
           63
          ],
          [
           -1015.6100000000006,
           6,
           64
          ],
          [
           149.99000000000524,
           10,
           65
          ],
          [
           734.4399999999914,
           12,
           66
          ],
          [
           547.0700000000033,
           8,
           67
          ],
          [
           -1015.6100000000006,
           6,
           68
          ],
          [
           -1015.6100000000006,
           6,
           69
          ],
          [
           -1015.6100000000006,
           6,
           70
          ],
          [
           2687.9199999999983,
           8,
           71
          ],
          [
           2578.600000000002,
           8,
           72
          ],
          [
           -1015.6100000000006,
           6,
           73
          ],
          [
           -1687.1799999999967,
           8,
           74
          ],
          [
           1151.1699999999983,
           6,
           75
          ],
          [
           -1015.6100000000006,
           6,
           76
          ],
          [
           974.6100000000042,
           8,
           77
          ],
          [
           -1010.989999999998,
           8,
           78
          ],
          [
           -1015.6100000000006,
           6,
           79
          ],
          [
           -581.8300000000017,
           8,
           80
          ],
          [
           -1015.6100000000006,
           6,
           81
          ],
          [
           2005.8500000000022,
           8,
           82
          ],
          [
           1141.699999999997,
           8,
           83
          ],
          [
           2010.4700000000048,
           10,
           84
          ],
          [
           1750.2400000000016,
           8,
           85
          ],
          [
           -1015.6100000000006,
           6,
           86
          ],
          [
           3189.930000000004,
           8,
           87
          ],
          [
           -1015.6100000000006,
           6,
           88
          ],
          [
           -1015.6100000000006,
           6,
           89
          ],
          [
           -1015.6100000000006,
           6,
           90
          ],
          [
           -1052.6300000000047,
           8,
           91
          ],
          [
           1750.2400000000016,
           8,
           92
          ],
          [
           -1015.6100000000006,
           6,
           93
          ],
          [
           630.4600000000028,
           10,
           94
          ],
          [
           -1015.6100000000006,
           6,
           95
          ],
          [
           -1015.6100000000006,
           6,
           96
          ],
          [
           -2540.7599999999984,
           8,
           97
          ],
          [
           -2494.5599999999977,
           8,
           98
          ],
          [
           332.369999999999,
           8,
           99
          ],
          [
           -1015.6100000000006,
           6,
           100
          ],
          [
           -1001.4499999999971,
           4,
           101
          ],
          [
           -1413.1800000000003,
           8,
           102
          ],
          [
           -1015.6100000000006,
           6,
           103
          ],
          [
           -1015.6100000000006,
           6,
           104
          ],
          [
           -1015.6100000000006,
           6,
           105
          ],
          [
           -1015.6100000000006,
           6,
           106
          ],
          [
           -1015.6100000000006,
           6,
           107
          ],
          [
           -903.1800000000003,
           8,
           108
          ],
          [
           -1015.6100000000006,
           6,
           109
          ],
          [
           1529.5000000000036,
           9,
           110
          ],
          [
           2687.9199999999983,
           8,
           111
          ],
          [
           -914.7500000000073,
           6,
           112
          ],
          [
           3012.2000000000007,
           7,
           113
          ],
          [
           695.619999999999,
           8,
           114
          ],
          [
           -1015.6100000000006,
           6,
           115
          ],
          [
           1575.449999999997,
           8,
           116
          ],
          [
           580.3400000000001,
           8,
           117
          ],
          [
           -1052.6300000000047,
           8,
           118
          ],
          [
           -1015.6100000000006,
           6,
           119
          ],
          [
           -665.25,
           8,
           120
          ],
          [
           -1015.6100000000006,
           6,
           121
          ],
          [
           -1015.6100000000006,
           6,
           122
          ],
          [
           -296.7299999999959,
           8,
           123
          ],
          [
           -1015.6100000000006,
           6,
           124
          ],
          [
           988.7700000000077,
           6,
           125
          ],
          [
           4367.180000000004,
           10,
           126
          ],
          [
           1750.2400000000016,
           8,
           127
          ],
          [
           1750.2400000000016,
           8,
           128
          ],
          [
           -1015.6100000000006,
           6,
           129
          ],
          [
           -1015.6100000000006,
           6,
           130
          ],
          [
           -1413.1800000000003,
           8,
           131
          ],
          [
           1471.3200000000033,
           10,
           132
          ],
          [
           -1015.6100000000006,
           6,
           133
          ],
          [
           -1015.6100000000006,
           6,
           134
          ],
          [
           9.299999999999272,
           6,
           135
          ],
          [
           9.299999999999272,
           6,
           136
          ],
          [
           -1015.6100000000006,
           6,
           137
          ],
          [
           -932.1900000000023,
           6,
           138
          ],
          [
           -2494.5599999999977,
           8,
           139
          ],
          [
           580.3400000000001,
           8,
           140
          ],
          [
           1376.530000000006,
           10,
           141
          ],
          [
           -968.299999999992,
           10,
           142
          ],
          [
           -734.0399999999972,
           8,
           143
          ],
          [
           -932.1900000000023,
           6,
           144
          ],
          [
           -903.3700000000026,
           6,
           145
          ],
          [
           2687.9199999999983,
           8,
           146
          ],
          [
           -1015.6100000000006,
           6,
           147
          ],
          [
           -1015.6100000000006,
           6,
           148
          ],
          [
           -1015.6100000000006,
           6,
           149
          ],
          [
           -1015.6100000000006,
           6,
           150
          ],
          [
           -1015.6100000000006,
           6,
           151
          ],
          [
           -2822.3300000000017,
           6,
           152
          ],
          [
           -1015.6100000000006,
           6,
           153
          ],
          [
           -1015.6100000000006,
           6,
           154
          ],
          [
           -2494.5599999999977,
           8,
           155
          ],
          [
           -1015.6100000000006,
           6,
           156
          ],
          [
           -1015.6100000000006,
           6,
           157
          ],
          [
           -1413.1800000000003,
           8,
           158
          ],
          [
           -1015.6100000000006,
           6,
           159
          ],
          [
           -1015.6100000000006,
           6,
           160
          ],
          [
           2005.8500000000022,
           8,
           161
          ],
          [
           -801.8499999999949,
           12,
           162
          ],
          [
           547.0700000000033,
           8,
           163
          ],
          [
           538.4399999999914,
           9,
           164
          ],
          [
           -2634.599999999995,
           10,
           165
          ],
          [
           -1015.6100000000006,
           6,
           166
          ],
          [
           1750.2400000000016,
           8,
           167
          ],
          [
           -1015.6100000000006,
           6,
           168
          ],
          [
           -1015.6100000000006,
           6,
           169
          ],
          [
           234.3100000000013,
           8,
           170
          ],
          [
           -2721.4700000000084,
           6,
           171
          ],
          [
           -656.3199999999997,
           12,
           172
          ],
          [
           -1015.6100000000006,
           6,
           173
          ],
          [
           -1015.6100000000006,
           6,
           174
          ],
          [
           626.3699999999953,
           6,
           175
          ],
          [
           1575.449999999997,
           8,
           176
          ],
          [
           -1015.6100000000006,
           6,
           177
          ],
          [
           1379.300000000003,
           8,
           178
          ],
          [
           547.0700000000033,
           8,
           179
          ],
          [
           -1015.6100000000006,
           6,
           180
          ],
          [
           -1015.6100000000006,
           6,
           181
          ],
          [
           3979.8300000000017,
           8,
           182
          ],
          [
           -427.6499999999942,
           8,
           183
          ],
          [
           -778.0099999999948,
           6,
           184
          ],
          [
           -1579.8799999999974,
           10,
           185
          ],
          [
           1155.1900000000023,
           8,
           186
          ],
          [
           3900.9199999999946,
           8,
           187
          ],
          [
           -1015.6100000000006,
           6,
           188
          ],
          [
           698.4099999999999,
           10,
           189
          ],
          [
           -1015.6100000000006,
           6,
           190
          ],
          [
           1257.2100000000028,
           8,
           191
          ],
          [
           962.380000000001,
           7,
           192
          ],
          [
           332.369999999999,
           8,
           193
          ],
          [
           602.8300000000054,
           8,
           194
          ],
          [
           -1448.9500000000044,
           10,
           195
          ],
          [
           -2822.3300000000017,
           6,
           196
          ],
          [
           1733.2700000000004,
           8,
           197
          ],
          [
           -1015.6100000000006,
           6,
           198
          ],
          [
           1566.430000000004,
           8,
           199
          ],
          [
           -1015.6100000000006,
           6,
           200
          ],
          [
           1306.5299999999988,
           10,
           201
          ],
          [
           -665.25,
           8,
           202
          ],
          [
           -1687.1799999999967,
           8,
           203
          ],
          [
           -1015.6100000000006,
           6,
           204
          ],
          [
           3308.2299999999996,
           8,
           205
          ],
          [
           353.4599999999991,
           10,
           206
          ],
          [
           -1015.6100000000006,
           6,
           207
          ],
          [
           -1015.6100000000006,
           6,
           208
          ],
          [
           -1052.6300000000047,
           8,
           209
          ],
          [
           962.380000000001,
           7,
           210
          ],
          [
           664.6200000000063,
           10,
           211
          ],
          [
           9.299999999999272,
           6,
           212
          ],
          [
           580.3400000000001,
           8,
           213
          ],
          [
           -1015.6100000000006,
           6,
           214
          ],
          [
           -932.1900000000023,
           6,
           215
          ],
          [
           584.9600000000028,
           10,
           216
          ],
          [
           -1302.8099999999977,
           6,
           217
          ],
          [
           -772.4999999999964,
           8,
           218
          ],
          [
           -1015.6100000000006,
           6,
           219
          ],
          [
           -2724.75,
           4,
           220
          ],
          [
           -1015.6100000000006,
           6,
           221
          ],
          [
           2005.8500000000022,
           8,
           222
          ],
          [
           -2020.8099999999977,
           8,
           223
          ],
          [
           -1015.6100000000006,
           6,
           224
          ],
          [
           -1318.6599999999926,
           8,
           225
          ],
          [
           -1015.6100000000006,
           6,
           226
          ],
          [
           -932.1900000000023,
           6,
           227
          ],
          [
           -734.0399999999972,
           8,
           228
          ],
          [
           2378.990000000009,
           10,
           229
          ],
          [
           -1015.6100000000006,
           6,
           230
          ],
          [
           -1015.6100000000006,
           6,
           231
          ],
          [
           -1015.6100000000006,
           6,
           232
          ],
          [
           -1015.6100000000006,
           6,
           233
          ],
          [
           2687.9199999999983,
           8,
           234
          ],
          [
           1234.5899999999965,
           6,
           235
          ],
          [
           -1015.6100000000006,
           6,
           236
          ],
          [
           -2103.449999999997,
           8,
           237
          ],
          [
           1575.449999999997,
           8,
           238
          ],
          [
           -1015.6100000000006,
           6,
           239
          ],
          [
           -1015.6100000000006,
           6,
           240
          ],
          [
           -1010.989999999998,
           8,
           241
          ],
          [
           -2738.9100000000035,
           6,
           242
          ],
          [
           2687.9199999999983,
           8,
           243
          ],
          [
           -632.929999999993,
           6,
           244
          ],
          [
           -665.25,
           8,
           245
          ],
          [
           888.6899999999987,
           8,
           246
          ],
          [
           1566.430000000004,
           8,
           247
          ],
          [
           -1015.6100000000006,
           6,
           248
          ],
          [
           680.119999999999,
           8,
           249
          ],
          [
           -1010.989999999998,
           8,
           250
          ],
          [
           547.0700000000033,
           8,
           251
          ],
          [
           -1015.6100000000006,
           6,
           252
          ],
          [
           -1015.6100000000006,
           6,
           253
          ],
          [
           -1015.6100000000006,
           6,
           254
          ],
          [
           2118.7600000000057,
           8,
           255
          ],
          [
           -903.3700000000026,
           6,
           256
          ],
          [
           974.6100000000042,
           8,
           257
          ],
          [
           -1015.6100000000006,
           6,
           258
          ],
          [
           2005.8500000000022,
           8,
           259
          ],
          [
           -1015.6100000000006,
           6,
           260
          ],
          [
           -1015.6100000000006,
           6,
           261
          ],
          [
           -1015.6100000000006,
           6,
           262
          ],
          [
           1566.430000000004,
           8,
           263
          ],
          [
           -1015.6100000000006,
           6,
           264
          ],
          [
           947.4399999999987,
           11,
           265
          ],
          [
           -2609.2300000000105,
           6,
           266
          ],
          [
           974.6100000000042,
           8,
           267
          ],
          [
           -778.0099999999948,
           6,
           268
          ],
          [
           -1015.6100000000006,
           6,
           269
          ],
          [
           -778.0099999999948,
           6,
           270
          ],
          [
           -1687.1799999999967,
           8,
           271
          ],
          [
           -1015.6100000000006,
           6,
           272
          ],
          [
           -1015.6100000000006,
           6,
           273
          ],
          [
           542.940000000006,
           6,
           274
          ],
          [
           1566.430000000004,
           8,
           275
          ],
          [
           -1015.6100000000006,
           6,
           276
          ],
          [
           -1015.6100000000006,
           6,
           277
          ],
          [
           -632.929999999993,
           6,
           278
          ],
          [
           -1001.4499999999971,
           4,
           279
          ],
          [
           -1886.869999999999,
           12,
           280
          ],
          [
           1229.4800000000032,
           8,
           281
          ],
          [
           -1015.6100000000006,
           6,
           282
          ],
          [
           -2494.5599999999977,
           8,
           283
          ],
          [
           547.0700000000033,
           8,
           284
          ],
          [
           4172.630000000001,
           8,
           285
          ],
          [
           1030.4799999999996,
           10,
           286
          ],
          [
           -2489.939999999995,
           10,
           287
          ],
          [
           -1015.6100000000006,
           6,
           288
          ],
          [
           1750.2400000000016,
           8,
           289
          ],
          [
           -914.7500000000073,
           6,
           290
          ],
          [
           962.380000000001,
           7,
           291
          ],
          [
           -1015.6100000000006,
           6,
           292
          ],
          [
           -2104.6800000000003,
           10,
           293
          ],
          [
           897.3000000000065,
           8,
           294
          ],
          [
           -1015.6100000000006,
           6,
           295
          ],
          [
           -1015.6100000000006,
           6,
           296
          ],
          [
           -839.7199999999975,
           9,
           297
          ],
          [
           -914.7500000000073,
           6,
           298
          ],
          [
           1566.430000000004,
           8,
           299
          ],
          [
           513.3999999999942,
           10,
           300
          ],
          [
           1155.1900000000023,
           8,
           301
          ],
          [
           -677.1500000000015,
           6,
           302
          ],
          [
           3889.680000000004,
           12,
           303
          ],
          [
           -778.0099999999948,
           6,
           304
          ],
          [
           -914.7500000000073,
           6,
           305
          ],
          [
           2501.9499999999935,
           8,
           306
          ],
          [
           -1015.6100000000006,
           6,
           307
          ],
          [
           -771.0600000000013,
           10,
           308
          ],
          [
           -1015.6100000000006,
           6,
           309
          ],
          [
           1141.699999999997,
           8,
           310
          ],
          [
           -1687.1799999999967,
           8,
           311
          ],
          [
           351.37000000000626,
           10,
           312
          ],
          [
           1118.1699999999983,
           10,
           313
          ],
          [
           -1015.6100000000006,
           6,
           314
          ],
          [
           -1015.6100000000006,
           6,
           315
          ],
          [
           13.920000000001892,
           8,
           316
          ],
          [
           -1015.6100000000006,
           6,
           317
          ],
          [
           332.369999999999,
           8,
           318
          ],
          [
           656.0099999999984,
           8,
           319
          ],
          [
           -1015.6100000000006,
           6,
           320
          ],
          [
           -1015.6100000000006,
           6,
           321
          ],
          [
           528.7800000000025,
           8,
           322
          ],
          [
           -778.0099999999948,
           6,
           323
          ],
          [
           -1015.6100000000006,
           6,
           324
          ],
          [
           996.8000000000029,
           10,
           325
          ],
          [
           -1015.6100000000006,
           6,
           326
          ],
          [
           -1015.6100000000006,
           6,
           327
          ],
          [
           -932.1900000000023,
           6,
           328
          ],
          [
           -2494.5599999999977,
           8,
           329
          ],
          [
           1566.430000000004,
           8,
           330
          ],
          [
           -1001.4499999999971,
           4,
           331
          ],
          [
           -1015.6100000000006,
           6,
           332
          ],
          [
           -1015.6100000000006,
           6,
           333
          ],
          [
           -898.75,
           6,
           334
          ],
          [
           -1015.6100000000006,
           6,
           335
          ],
          [
           -1015.6100000000006,
           6,
           336
          ],
          [
           2005.8500000000022,
           8,
           337
          ],
          [
           -932.1900000000023,
           6,
           338
          ],
          [
           -914.7500000000073,
           6,
           339
          ],
          [
           1750.2400000000016,
           8,
           340
          ],
          [
           -1015.6100000000006,
           6,
           341
          ],
          [
           -1413.1800000000003,
           8,
           342
          ],
          [
           -1015.6100000000006,
           6,
           343
          ],
          [
           974.6100000000042,
           8,
           344
          ],
          [
           1750.2400000000016,
           8,
           345
          ],
          [
           -1540.4100000000035,
           6,
           346
          ],
          [
           -458.12999999999374,
           10,
           347
          ],
          [
           -1015.6100000000006,
           6,
           348
          ],
          [
           -1015.6100000000006,
           6,
           349
          ],
          [
           2687.9199999999983,
           8,
           350
          ],
          [
           1229.4800000000032,
           8,
           351
          ],
          [
           -903.3700000000026,
           6,
           352
          ],
          [
           556.640000000003,
           8,
           353
          ],
          [
           -914.7500000000073,
           6,
           354
          ],
          [
           -778.0099999999948,
           6,
           355
          ],
          [
           -1015.6100000000006,
           6,
           356
          ],
          [
           1229.4800000000032,
           8,
           357
          ],
          [
           1916.7900000000045,
           10,
           358
          ],
          [
           -2020.8099999999977,
           8,
           359
          ],
          [
           974.6100000000042,
           8,
           360
          ],
          [
           -1015.6100000000006,
           6,
           361
          ],
          [
           -1015.6100000000006,
           6,
           362
          ],
          [
           26.890000000003056,
           10,
           363
          ],
          [
           2897.7999999999993,
           11,
           364
          ],
          [
           1566.430000000004,
           8,
           365
          ],
          [
           -1015.6100000000006,
           6,
           366
          ],
          [
           1575.449999999997,
           8,
           367
          ],
          [
           -1540.4100000000035,
           6,
           368
          ],
          [
           -1015.6100000000006,
           6,
           369
          ],
          [
           2005.8500000000022,
           8,
           370
          ],
          [
           -1015.6100000000006,
           6,
           371
          ],
          [
           -903.3700000000026,
           6,
           372
          ],
          [
           -2540.7599999999984,
           8,
           373
          ],
          [
           -1015.6100000000006,
           6,
           374
          ],
          [
           363.8899999999958,
           8,
           375
          ],
          [
           547.0700000000033,
           8,
           376
          ],
          [
           580.3400000000001,
           8,
           377
          ],
          [
           -1015.6100000000006,
           6,
           378
          ],
          [
           -1015.6100000000006,
           6,
           379
          ],
          [
           332.369999999999,
           8,
           380
          ],
          [
           332.369999999999,
           8,
           381
          ],
          [
           -1015.6100000000006,
           6,
           382
          ],
          [
           556.640000000003,
           8,
           383
          ],
          [
           234.3100000000013,
           8,
           384
          ],
          [
           1566.430000000004,
           8,
           385
          ],
          [
           1141.699999999997,
           8,
           386
          ],
          [
           1377.5499999999993,
           10,
           387
          ],
          [
           1141.699999999997,
           8,
           388
          ],
          [
           -2621.75,
           6,
           389
          ],
          [
           -1015.6100000000006,
           6,
           390
          ],
          [
           953.190000000006,
           10,
           391
          ],
          [
           1877.0600000000013,
           9,
           392
          ],
          [
           -914.7500000000073,
           6,
           393
          ],
          [
           -1015.6100000000006,
           6,
           394
          ],
          [
           -1015.6100000000006,
           6,
           395
          ],
          [
           1141.699999999997,
           8,
           396
          ],
          [
           9.299999999999272,
           6,
           397
          ],
          [
           -1015.6100000000006,
           6,
           398
          ],
          [
           2133.5500000000065,
           10,
           399
          ],
          [
           -1318.6599999999926,
           8,
           400
          ],
          [
           -2822.3300000000017,
           6,
           401
          ],
          [
           -1015.6100000000006,
           6,
           402
          ],
          [
           -1935.1900000000023,
           10,
           403
          ],
          [
           -1015.6100000000006,
           6,
           404
          ],
          [
           -1015.6100000000006,
           6,
           405
          ],
          [
           -1015.6100000000006,
           6,
           406
          ],
          [
           -1015.6100000000006,
           6,
           407
          ],
          [
           -778.0099999999948,
           6,
           408
          ],
          [
           -1399.0199999999968,
           6,
           409
          ],
          [
           -1010.989999999998,
           8,
           410
          ],
          [
           335.84999999999854,
           10,
           411
          ],
          [
           -647.0899999999965,
           6,
           412
          ],
          [
           -1015.6100000000006,
           6,
           413
          ],
          [
           -903.3700000000026,
           6,
           414
          ],
          [
           -1577.4300000000076,
           8,
           415
          ],
          [
           -1015.6100000000006,
           6,
           416
          ],
          [
           -1015.6100000000006,
           6,
           417
          ],
          [
           -651.0899999999965,
           6,
           418
          ],
          [
           -1015.6100000000006,
           6,
           419
          ],
          [
           -1015.6100000000006,
           6,
           420
          ],
          [
           -1015.6100000000006,
           6,
           421
          ],
          [
           -2494.5599999999977,
           8,
           422
          ],
          [
           925.359999999997,
           9,
           423
          ],
          [
           332.369999999999,
           8,
           424
          ],
          [
           -1015.6100000000006,
           6,
           425
          ],
          [
           -1540.4100000000035,
           6,
           426
          ],
          [
           -1015.6100000000006,
           6,
           427
          ],
          [
           -1015.6100000000006,
           6,
           428
          ],
          [
           1824.8899999999994,
           12,
           429
          ],
          [
           -2216.6299999999937,
           10,
           430
          ],
          [
           974.6100000000042,
           8,
           431
          ],
          [
           -1015.6100000000006,
           6,
           432
          ],
          [
           -1015.6100000000006,
           6,
           433
          ],
          [
           -1015.6100000000006,
           6,
           434
          ],
          [
           -1015.6100000000006,
           6,
           435
          ],
          [
           -1015.6100000000006,
           6,
           436
          ],
          [
           -1001.4499999999971,
           4,
           437
          ],
          [
           -1010.989999999998,
           8,
           438
          ],
          [
           -1015.6100000000006,
           6,
           439
          ],
          [
           -1015.6100000000006,
           6,
           440
          ],
          [
           -1015.6100000000006,
           6,
           441
          ],
          [
           -1540.4100000000035,
           6,
           442
          ],
          [
           -296.7299999999959,
           8,
           443
          ],
          [
           -1015.6100000000006,
           6,
           444
          ],
          [
           -1015.6100000000006,
           6,
           445
          ],
          [
           136.5,
           10,
           446
          ],
          [
           1575.449999999997,
           8,
           447
          ],
          [
           724.5599999999977,
           10,
           448
          ],
          [
           -647.0899999999965,
           6,
           449
          ],
          [
           -1015.6100000000006,
           6,
           450
          ],
          [
           -1413.1800000000003,
           8,
           451
          ],
          [
           -665.25,
           8,
           452
          ],
          [
           -1015.6100000000006,
           6,
           453
          ],
          [
           -1015.6100000000006,
           6,
           454
          ],
          [
           2108.4299999999967,
           10,
           455
          ],
          [
           1162.9300000000003,
           12,
           456
          ],
          [
           -1015.6100000000006,
           6,
           457
          ],
          [
           -1015.6100000000006,
           6,
           458
          ],
          [
           1148.9900000000016,
           10,
           459
          ],
          [
           1229.4800000000032,
           8,
           460
          ],
          [
           -1540.4100000000035,
           6,
           461
          ],
          [
           1481.0499999999993,
           8,
           462
          ],
          [
           -932.1900000000023,
           6,
           463
          ],
          [
           -1015.6100000000006,
           6,
           464
          ],
          [
           -1015.6100000000006,
           6,
           465
          ],
          [
           -1015.6100000000006,
           6,
           466
          ],
          [
           -1015.6100000000006,
           6,
           467
          ],
          [
           2005.8500000000022,
           8,
           468
          ],
          [
           -1015.6100000000006,
           6,
           469
          ],
          [
           1141.699999999997,
           8,
           470
          ],
          [
           -1010.989999999998,
           8,
           471
          ],
          [
           -918.0299999999988,
           4,
           472
          ],
          [
           -378.3799999999974,
           8,
           473
          ],
          [
           -1015.6100000000006,
           6,
           474
          ],
          [
           -207.89999999999782,
           10,
           475
          ],
          [
           2383.019999999997,
           10,
           476
          ],
          [
           -1052.6300000000047,
           8,
           477
          ],
          [
           -1015.6100000000006,
           6,
           478
          ],
          [
           -1015.6100000000006,
           6,
           479
          ],
          [
           1155.1900000000023,
           8,
           480
          ],
          [
           1141.699999999997,
           8,
           481
          ],
          [
           -1015.6100000000006,
           6,
           482
          ],
          [
           -1010.989999999998,
           8,
           483
          ],
          [
           962.380000000001,
           7,
           484
          ],
          [
           -378.3799999999974,
           8,
           485
          ],
          [
           547.0700000000033,
           8,
           486
          ],
          [
           1151.1699999999983,
           6,
           487
          ],
          [
           -1015.6100000000006,
           6,
           488
          ],
          [
           1667.2899999999972,
           8,
           489
          ],
          [
           1141.699999999997,
           8,
           490
          ],
          [
           -1015.6100000000006,
           6,
           491
          ],
          [
           -1015.6100000000006,
           6,
           492
          ],
          [
           580.3400000000001,
           8,
           493
          ],
          [
           -2208.1800000000003,
           12,
           494
          ],
          [
           -1015.6100000000006,
           6,
           495
          ],
          [
           -1015.6100000000006,
           6,
           496
          ],
          [
           4854.699999999997,
           8,
           497
          ],
          [
           -1015.6100000000006,
           6,
           498
          ],
          [
           -1015.6100000000006,
           6,
           499
          ],
          [
           99.68999999999869,
           10,
           500
          ],
          [
           -1015.6100000000006,
           6,
           501
          ],
          [
           -1015.6100000000006,
           6,
           502
          ],
          [
           -665.25,
           8,
           503
          ],
          [
           -1052.6300000000047,
           8,
           504
          ],
          [
           -1015.6100000000006,
           6,
           505
          ],
          [
           1.6300000000010186,
           10,
           506
          ],
          [
           -2822.3300000000017,
           6,
           507
          ],
          [
           -1015.6100000000006,
           6,
           508
          ],
          [
           -3019.3600000000006,
           8,
           509
          ],
          [
           -1015.6100000000006,
           6,
           510
          ],
          [
           -1015.6100000000006,
           6,
           511
          ],
          [
           -903.3700000000026,
           6,
           512
          ],
          [
           -1015.6100000000006,
           6,
           513
          ],
          [
           -914.7500000000073,
           6,
           514
          ],
          [
           346.5300000000025,
           6,
           515
          ],
          [
           -1015.6100000000006,
           6,
           516
          ],
          [
           -1015.6100000000006,
           6,
           517
          ],
          [
           -1015.6100000000006,
           6,
           518
          ],
          [
           9.299999999999272,
           6,
           519
          ],
          [
           580.3400000000001,
           8,
           520
          ],
          [
           -1015.6100000000006,
           6,
           521
          ],
          [
           -932.1900000000023,
           6,
           522
          ],
          [
           2166.010000000002,
           10,
           523
          ],
          [
           -1015.6100000000006,
           6,
           524
          ],
          [
           -1010.989999999998,
           8,
           525
          ],
          [
           -1015.6100000000006,
           6,
           526
          ],
          [
           -1052.6300000000047,
           8,
           527
          ],
          [
           -1015.6100000000006,
           6,
           528
          ],
          [
           1481.0499999999993,
           8,
           529
          ],
          [
           -1015.6100000000006,
           6,
           530
          ],
          [
           1155.1900000000023,
           8,
           531
          ],
          [
           -1015.6100000000006,
           6,
           532
          ],
          [
           1141.699999999997,
           8,
           533
          ],
          [
           -1015.6100000000006,
           6,
           534
          ],
          [
           1575.449999999997,
           8,
           535
          ],
          [
           -1015.6100000000006,
           6,
           536
          ],
          [
           1229.4800000000032,
           8,
           537
          ],
          [
           920.3300000000054,
           10,
           538
          ],
          [
           9.299999999999272,
           6,
           539
          ],
          [
           -1015.6100000000006,
           6,
           540
          ],
          [
           -665.25,
           8,
           541
          ],
          [
           9.299999999999272,
           6,
           542
          ],
          [
           -378.3799999999974,
           8,
           543
          ],
          [
           -1015.6100000000006,
           6,
           544
          ],
          [
           547.0700000000033,
           8,
           545
          ],
          [
           888.6899999999987,
           8,
           546
          ],
          [
           -217.43999999999141,
           8,
           547
          ],
          [
           -378.3799999999974,
           8,
           548
          ],
          [
           528.7800000000025,
           8,
           549
          ],
          [
           2908.7100000000028,
           10,
           550
          ],
          [
           -1015.6100000000006,
           6,
           551
          ],
          [
           -1015.6100000000006,
           6,
           552
          ],
          [
           -1540.4100000000035,
           6,
           553
          ],
          [
           1443.4600000000028,
           10,
           554
          ],
          [
           -914.7500000000073,
           6,
           555
          ],
          [
           -1015.6100000000006,
           6,
           556
          ],
          [
           3082.9099999999926,
           12,
           557
          ],
          [
           1575.449999999997,
           8,
           558
          ],
          [
           -1015.6100000000006,
           6,
           559
          ],
          [
           1141.699999999997,
           8,
           560
          ],
          [
           -1015.6100000000006,
           6,
           561
          ],
          [
           -1687.1799999999967,
           8,
           562
          ],
          [
           1155.1900000000023,
           8,
           563
          ],
          [
           -1015.6100000000006,
           6,
           564
          ],
          [
           962.380000000001,
           7,
           565
          ],
          [
           -1937.9800000000032,
           8,
           566
          ],
          [
           747.1799999999967,
           8,
           567
          ],
          [
           -1015.6100000000006,
           6,
           568
          ],
          [
           -1015.6100000000006,
           6,
           569
          ],
          [
           -1015.6100000000006,
           6,
           570
          ],
          [
           1678.670000000002,
           8,
           571
          ],
          [
           888.6899999999987,
           8,
           572
          ],
          [
           -1015.6100000000006,
           6,
           573
          ],
          [
           2069.8700000000026,
           10,
           574
          ],
          [
           1229.4800000000032,
           8,
           575
          ],
          [
           -1015.6100000000006,
           6,
           576
          ],
          [
           -1015.6100000000006,
           6,
           577
          ],
          [
           -1015.6100000000006,
           6,
           578
          ],
          [
           528.7800000000025,
           8,
           579
          ],
          [
           248.57999999999447,
           10,
           580
          ],
          [
           -116.5099999999984,
           10,
           581
          ],
          [
           3236.2800000000097,
           8,
           582
          ],
          [
           -1015.6100000000006,
           6,
           583
          ],
          [
           -1015.6100000000006,
           6,
           584
          ],
          [
           -1015.6100000000006,
           6,
           585
          ],
          [
           -2822.3300000000017,
           6,
           586
          ],
          [
           -1015.6100000000006,
           6,
           587
          ],
          [
           1151.1699999999983,
           6,
           588
          ],
          [
           1750.2400000000016,
           8,
           589
          ],
          [
           547.0700000000033,
           8,
           590
          ],
          [
           -1015.6100000000006,
           6,
           591
          ],
          [
           -1015.6100000000006,
           6,
           592
          ],
          [
           -1408.5599999999977,
           10,
           593
          ],
          [
           -655.5500000000029,
           8,
           594
          ],
          [
           3028.6400000000067,
           10,
           595
          ],
          [
           -1015.6100000000006,
           6,
           596
          ],
          [
           -1015.6100000000006,
           6,
           597
          ],
          [
           2005.8500000000022,
           8,
           598
          ],
          [
           -1687.1799999999967,
           8,
           599
          ],
          [
           -665.25,
           8,
           600
          ],
          [
           -1015.6100000000006,
           6,
           601
          ],
          [
           601.1800000000003,
           10,
           602
          ],
          [
           580.3400000000001,
           8,
           603
          ],
          [
           -1015.6100000000006,
           6,
           604
          ],
          [
           -1015.6100000000006,
           6,
           605
          ],
          [
           -1015.6100000000006,
           6,
           606
          ],
          [
           -1015.6100000000006,
           6,
           607
          ],
          [
           1566.430000000004,
           8,
           608
          ],
          [
           -1015.6100000000006,
           6,
           609
          ],
          [
           -1015.6100000000006,
           6,
           610
          ],
          [
           630.4600000000028,
           10,
           611
          ],
          [
           -1015.6100000000006,
           6,
           612
          ],
          [
           -1413.1800000000003,
           8,
           613
          ],
          [
           -1015.6100000000006,
           6,
           614
          ],
          [
           2723.420000000002,
           8,
           615
          ],
          [
           580.3400000000001,
           8,
           616
          ],
          [
           1155.1900000000023,
           8,
           617
          ],
          [
           234.3100000000013,
           8,
           618
          ],
          [
           -1015.6100000000006,
           6,
           619
          ],
          [
           -1015.6100000000006,
           6,
           620
          ],
          [
           1242.5599999999904,
           8,
           621
          ],
          [
           9.299999999999272,
           6,
           622
          ],
          [
           -1015.6100000000006,
           6,
           623
          ],
          [
           -1015.6100000000006,
           6,
           624
          ],
          [
           -1052.6300000000047,
           8,
           625
          ],
          [
           1575.449999999997,
           8,
           626
          ],
          [
           -1015.6100000000006,
           6,
           627
          ],
          [
           -226.09999999999854,
           10,
           628
          ],
          [
           2118.7600000000057,
           8,
           629
          ],
          [
           -1015.6100000000006,
           6,
           630
          ],
          [
           -1015.6100000000006,
           6,
           631
          ],
          [
           -1015.6100000000006,
           6,
           632
          ],
          [
           3159.560000000005,
           10,
           633
          ],
          [
           -1015.6100000000006,
           6,
           634
          ],
          [
           -1015.6100000000006,
           6,
           635
          ],
          [
           -1687.1799999999967,
           8,
           636
          ],
          [
           -1312.320000000007,
           8,
           637
          ],
          [
           1876.8300000000054,
           10,
           638
          ],
          [
           -1015.6100000000006,
           6,
           639
          ],
          [
           580.3400000000001,
           8,
           640
          ],
          [
           -1015.6100000000006,
           6,
           641
          ],
          [
           -1015.6100000000006,
           6,
           642
          ],
          [
           -1015.6100000000006,
           6,
           643
          ],
          [
           -1015.6100000000006,
           6,
           644
          ],
          [
           -1010.989999999998,
           8,
           645
          ],
          [
           1407.890000000003,
           10,
           646
          ],
          [
           -1015.6100000000006,
           6,
           647
          ],
          [
           -1015.6100000000006,
           6,
           648
          ],
          [
           1968.829999999998,
           10,
           649
          ],
          [
           2706.7000000000044,
           8,
           650
          ],
          [
           -647.0899999999965,
           6,
           651
          ],
          [
           -1052.6300000000047,
           8,
           652
          ],
          [
           1804.0300000000097,
           8,
           653
          ],
          [
           -1015.6100000000006,
           6,
           654
          ],
          [
           234.3100000000013,
           8,
           655
          ],
          [
           1566.430000000004,
           8,
           656
          ],
          [
           -921.8699999999917,
           14,
           657
          ],
          [
           -1010.989999999998,
           8,
           658
          ],
          [
           -1015.6100000000006,
           6,
           659
          ],
          [
           246.9000000000051,
           6,
           660
          ],
          [
           -903.3700000000026,
           6,
           661
          ],
          [
           -1015.6100000000006,
           6,
           662
          ],
          [
           2062.8899999999994,
           8,
           663
          ],
          [
           -1015.6100000000006,
           6,
           664
          ],
          [
           -647.0899999999965,
           6,
           665
          ],
          [
           -665.25,
           8,
           666
          ],
          [
           556.640000000003,
           8,
           667
          ],
          [
           -1015.6100000000006,
           6,
           668
          ],
          [
           -1015.6100000000006,
           6,
           669
          ],
          [
           -914.7500000000073,
           6,
           670
          ],
          [
           -1015.6100000000006,
           6,
           671
          ],
          [
           -1015.6100000000006,
           6,
           672
          ],
          [
           -1440.9999999999964,
           10,
           673
          ],
          [
           -1015.6100000000006,
           6,
           674
          ],
          [
           -1015.6100000000006,
           6,
           675
          ],
          [
           962.380000000001,
           7,
           676
          ],
          [
           1621.2200000000048,
           10,
           677
          ],
          [
           556.640000000003,
           8,
           678
          ],
          [
           -1010.989999999998,
           8,
           679
          ],
          [
           -1015.6100000000006,
           6,
           680
          ],
          [
           1141.699999999997,
           8,
           681
          ],
          [
           1155.1900000000023,
           8,
           682
          ],
          [
           -1222.0499999999993,
           10,
           683
          ],
          [
           -1015.6100000000006,
           6,
           684
          ],
          [
           1575.449999999997,
           8,
           685
          ],
          [
           -1015.6100000000006,
           6,
           686
          ],
          [
           1243.3799999999974,
           10,
           687
          ],
          [
           2495.2700000000077,
           8,
           688
          ],
          [
           787.2099999999991,
           10,
           689
          ],
          [
           1092.2900000000045,
           12,
           690
          ],
          [
           -1540.4100000000035,
           6,
           691
          ],
          [
           1151.1699999999983,
           6,
           692
          ],
          [
           335.9900000000016,
           10,
           693
          ],
          [
           -1001.4499999999971,
           4,
           694
          ],
          [
           -1413.1800000000003,
           8,
           695
          ],
          [
           -1540.4100000000035,
           6,
           696
          ],
          [
           -1015.6100000000006,
           6,
           697
          ],
          [
           2687.9199999999983,
           8,
           698
          ],
          [
           -1044.6599999999962,
           8,
           699
          ],
          [
           -1015.6100000000006,
           6,
           700
          ],
          [
           -1015.6100000000006,
           6,
           701
          ],
          [
           -1001.4499999999971,
           4,
           702
          ],
          [
           -1015.6100000000006,
           6,
           703
          ],
          [
           -1015.6100000000006,
           6,
           704
          ],
          [
           1322.0299999999988,
           8,
           705
          ],
          [
           2118.09,
           8,
           706
          ],
          [
           -1413.1800000000003,
           8,
           707
          ],
          [
           1889.2900000000045,
           10,
           708
          ],
          [
           -1015.6100000000006,
           6,
           709
          ],
          [
           -1015.6100000000006,
           6,
           710
          ],
          [
           -1015.6100000000006,
           6,
           711
          ],
          [
           2059.6199999999953,
           10,
           712
          ],
          [
           532.9500000000007,
           8,
           713
          ],
          [
           1437.4100000000071,
           10,
           714
          ],
          [
           -1015.6100000000006,
           6,
           715
          ],
          [
           -778.0099999999948,
           6,
           716
          ],
          [
           1229.4800000000032,
           8,
           717
          ],
          [
           -1015.6100000000006,
           6,
           718
          ],
          [
           -1439.5500000000102,
           8,
           719
          ],
          [
           418.05000000000655,
           10,
           720
          ],
          [
           224.2800000000061,
           10,
           721
          ],
          [
           1151.1699999999983,
           6,
           722
          ],
          [
           -1015.6100000000006,
           6,
           723
          ],
          [
           234.3100000000013,
           8,
           724
          ],
          [
           2059.6199999999953,
           10,
           725
          ],
          [
           719.3499999999985,
           10,
           726
          ],
          [
           556.640000000003,
           8,
           727
          ],
          [
           332.369999999999,
           8,
           728
          ],
          [
           -1015.6100000000006,
           6,
           729
          ],
          [
           547.0700000000033,
           8,
           730
          ],
          [
           2005.8500000000022,
           8,
           731
          ],
          [
           -1015.6100000000006,
           6,
           732
          ],
          [
           1141.699999999997,
           8,
           733
          ],
          [
           641.0200000000004,
           8,
           734
          ],
          [
           -1015.6100000000006,
           6,
           735
          ],
          [
           -647.0899999999965,
           6,
           736
          ],
          [
           -1015.6100000000006,
           6,
           737
          ],
          [
           -1015.6100000000006,
           6,
           738
          ],
          [
           1155.1900000000023,
           8,
           739
          ],
          [
           -2738.9100000000035,
           6,
           740
          ],
          [
           2606.4600000000028,
           8,
           741
          ],
          [
           -1015.6100000000006,
           6,
           742
          ],
          [
           -647.0899999999965,
           6,
           743
          ],
          [
           974.6100000000042,
           8,
           744
          ],
          [
           332.369999999999,
           8,
           745
          ],
          [
           2403.100000000002,
           6,
           746
          ],
          [
           -2822.3300000000017,
           6,
           747
          ],
          [
           -778.0099999999948,
           6,
           748
          ],
          [
           974.6100000000042,
           8,
           749
          ],
          [
           594.5000000000036,
           6,
           750
          ],
          [
           246.82999999999447,
           8,
           751
          ],
          [
           -2859.350000000006,
           8,
           752
          ],
          [
           -1015.6100000000006,
           6,
           753
          ],
          [
           -1015.6100000000006,
           6,
           754
          ],
          [
           -1015.6100000000006,
           6,
           755
          ],
          [
           1566.430000000004,
           8,
           756
          ],
          [
           -1001.4499999999971,
           4,
           757
          ],
          [
           -903.3700000000026,
           6,
           758
          ],
          [
           1155.1900000000023,
           8,
           759
          ],
          [
           -1015.6100000000006,
           6,
           760
          ],
          [
           -2494.5599999999977,
           8,
           761
          ],
          [
           -378.3799999999974,
           8,
           762
          ],
          [
           -1015.6100000000006,
           6,
           763
          ],
          [
           683.4099999999962,
           10,
           764
          ],
          [
           -1015.6100000000006,
           6,
           765
          ],
          [
           -734.0399999999972,
           8,
           766
          ],
          [
           -1015.6100000000006,
           6,
           767
          ],
          [
           -1015.6100000000006,
           6,
           768
          ],
          [
           -9.859999999993306,
           8,
           769
          ],
          [
           9.299999999999272,
           6,
           770
          ],
          [
           -1015.6100000000006,
           6,
           771
          ],
          [
           -1010.989999999998,
           8,
           772
          ],
          [
           -1015.6100000000006,
           6,
           773
          ],
          [
           -1015.6100000000006,
           6,
           774
          ],
          [
           1862.4799999999996,
           8,
           775
          ],
          [
           -1015.6100000000006,
           6,
           776
          ],
          [
           741.8799999999937,
           8,
           777
          ],
          [
           -1015.6100000000006,
           6,
           778
          ],
          [
           2736.7500000000036,
           8,
           779
          ],
          [
           556.640000000003,
           8,
           780
          ],
          [
           3289.0500000000065,
           10,
           781
          ],
          [
           346.5499999999993,
           8,
           782
          ],
          [
           -2738.9100000000035,
           6,
           783
          ],
          [
           974.6100000000042,
           8,
           784
          ],
          [
           888.6899999999987,
           8,
           785
          ],
          [
           173.4399999999987,
           10,
           786
          ],
          [
           -1015.6100000000006,
           6,
           787
          ],
          [
           -1015.6100000000006,
           6,
           788
          ],
          [
           1229.4800000000032,
           8,
           789
          ],
          [
           -564.3900000000067,
           8,
           790
          ],
          [
           -2016.189999999995,
           10,
           791
          ],
          [
           -1015.6100000000006,
           6,
           792
          ],
          [
           -1015.6100000000006,
           6,
           793
          ],
          [
           1141.699999999997,
           8,
           794
          ],
          [
           -903.3700000000026,
           6,
           795
          ],
          [
           -1687.1799999999967,
           8,
           796
          ],
          [
           2167.9500000000007,
           8,
           797
          ],
          [
           -1015.6100000000006,
           6,
           798
          ],
          [
           547.0700000000033,
           8,
           799
          ],
          [
           1422.859999999986,
           12,
           800
          ],
          [
           547.0700000000033,
           8,
           801
          ],
          [
           1312.7400000000016,
           9,
           802
          ],
          [
           9.299999999999272,
           6,
           803
          ],
          [
           907.0000000000036,
           10,
           804
          ],
          [
           -546.2300000000032,
           4,
           805
          ],
          [
           2687.9199999999983,
           8,
           806
          ],
          [
           -1001.4499999999971,
           4,
           807
          ],
          [
           833.3600000000042,
           9,
           808
          ],
          [
           528.7800000000025,
           8,
           809
          ],
          [
           1750.2400000000016,
           8,
           810
          ],
          [
           1148.9900000000016,
           10,
           811
          ],
          [
           1141.699999999997,
           8,
           812
          ],
          [
           888.6899999999987,
           8,
           813
          ],
          [
           -1015.6100000000006,
           6,
           814
          ],
          [
           -1015.6100000000006,
           6,
           815
          ],
          [
           -778.0099999999948,
           6,
           816
          ],
          [
           -2822.3300000000017,
           6,
           817
          ],
          [
           2266.4699999999975,
           10,
           818
          ],
          [
           -1015.6100000000006,
           6,
           819
          ],
          [
           3966.899999999998,
           10,
           820
          ],
          [
           234.3100000000013,
           8,
           821
          ],
          [
           -1015.6100000000006,
           6,
           822
          ],
          [
           -1015.6100000000006,
           6,
           823
          ],
          [
           -1015.6100000000006,
           6,
           824
          ],
          [
           -1015.6100000000006,
           6,
           825
          ],
          [
           -2992.109999999997,
           10,
           826
          ],
          [
           -1015.6100000000006,
           6,
           827
          ],
          [
           556.640000000003,
           8,
           828
          ],
          [
           -1015.6100000000006,
           6,
           829
          ],
          [
           -914.7500000000073,
           6,
           830
          ],
          [
           -1015.6100000000006,
           6,
           831
          ],
          [
           -932.1900000000023,
           6,
           832
          ],
          [
           234.3100000000013,
           8,
           833
          ],
          [
           888.6899999999987,
           8,
           834
          ],
          [
           -900.5900000000038,
           4,
           835
          ],
          [
           -1015.6100000000006,
           6,
           836
          ],
          [
           -1015.6100000000006,
           6,
           837
          ],
          [
           1461.7500000000036,
           10,
           838
          ],
          [
           1126.2900000000045,
           8,
           839
          ],
          [
           3205.010000000002,
           8,
           840
          ],
          [
           9.299999999999272,
           6,
           841
          ],
          [
           -1687.1799999999967,
           8,
           842
          ],
          [
           -1015.6100000000006,
           6,
           843
          ],
          [
           -1015.6100000000006,
           6,
           844
          ],
          [
           -30.58999999999287,
           10,
           845
          ],
          [
           -1015.6100000000006,
           6,
           846
          ],
          [
           528.7800000000025,
           8,
           847
          ],
          [
           -1540.4100000000035,
           6,
           848
          ],
          [
           2005.8500000000022,
           8,
           849
          ],
          [
           -1015.6100000000006,
           6,
           850
          ],
          [
           1750.2400000000016,
           8,
           851
          ],
          [
           -903.3700000000026,
           6,
           852
          ],
          [
           601.1800000000003,
           10,
           853
          ],
          [
           -1015.6100000000006,
           6,
           854
          ],
          [
           -1015.6100000000006,
           6,
           855
          ],
          [
           -1015.6100000000006,
           6,
           856
          ],
          [
           3600.4999999999964,
           9,
           857
          ],
          [
           817.940000000006,
           8,
           858
          ],
          [
           -1015.6100000000006,
           6,
           859
          ],
          [
           -914.7500000000073,
           6,
           860
          ],
          [
           1127.880000000001,
           7,
           861
          ],
          [
           548.440000000006,
           10,
           862
          ],
          [
           -1015.6100000000006,
           6,
           863
          ],
          [
           -1010.989999999998,
           8,
           864
          ],
          [
           -185.40999999999258,
           10,
           865
          ],
          [
           -1015.6100000000006,
           6,
           866
          ],
          [
           332.369999999999,
           8,
           867
          ],
          [
           -1015.6100000000006,
           6,
           868
          ],
          [
           -1015.6100000000006,
           6,
           869
          ],
          [
           -665.25,
           8,
           870
          ],
          [
           -1015.6100000000006,
           6,
           871
          ],
          [
           -903.3700000000026,
           6,
           872
          ],
          [
           724.5599999999977,
           10,
           873
          ],
          [
           580.3400000000001,
           8,
           874
          ],
          [
           2687.9199999999983,
           8,
           875
          ],
          [
           -1015.6100000000006,
           6,
           876
          ],
          [
           1566.430000000004,
           8,
           877
          ],
          [
           -1015.6100000000006,
           6,
           878
          ],
          [
           -686.0299999999952,
           10,
           879
          ],
          [
           -1015.6100000000006,
           6,
           880
          ],
          [
           -887.7599999999984,
           12,
           881
          ],
          [
           974.6100000000042,
           8,
           882
          ],
          [
           1155.1900000000023,
           8,
           883
          ],
          [
           1764.400000000005,
           6,
           884
          ],
          [
           -940.3900000000067,
           8,
           885
          ],
          [
           -3020.420000000002,
           10,
           886
          ],
          [
           -490.9399999999987,
           8,
           887
          ],
          [
           -1015.6100000000006,
           6,
           888
          ],
          [
           -1015.6100000000006,
           6,
           889
          ],
          [
           888.6899999999987,
           8,
           890
          ],
          [
           1229.4800000000032,
           8,
           891
          ],
          [
           -1015.6100000000006,
           6,
           892
          ],
          [
           3038.279999999999,
           10,
           893
          ],
          [
           -1125.5200000000077,
           8,
           894
          ],
          [
           -1015.6100000000006,
           6,
           895
          ],
          [
           547.0700000000033,
           8,
           896
          ],
          [
           1566.430000000004,
           8,
           897
          ],
          [
           -1015.6100000000006,
           6,
           898
          ],
          [
           -3582.9799999999996,
           10,
           899
          ],
          [
           1065.5000000000036,
           9,
           900
          ],
          [
           659.3100000000013,
           8,
           901
          ],
          [
           332.369999999999,
           8,
           902
          ],
          [
           680.119999999999,
           8,
           903
          ],
          [
           -903.3700000000026,
           6,
           904
          ],
          [
           -1015.6100000000006,
           6,
           905
          ],
          [
           1566.430000000004,
           8,
           906
          ],
          [
           -1015.6100000000006,
           6,
           907
          ],
          [
           -2494.5599999999977,
           8,
           908
          ],
          [
           1819.5699999999997,
           12,
           909
          ],
          [
           -1015.6100000000006,
           6,
           910
          ],
          [
           234.3100000000013,
           8,
           911
          ],
          [
           528.7800000000025,
           8,
           912
          ],
          [
           -778.0099999999948,
           6,
           913
          ],
          [
           974.6100000000042,
           8,
           914
          ],
          [
           1750.2400000000016,
           8,
           915
          ],
          [
           -3282.7999999999956,
           8,
           916
          ],
          [
           -1015.6100000000006,
           6,
           917
          ],
          [
           -784.2599999999984,
           10,
           918
          ],
          [
           962.380000000001,
           7,
           919
          ],
          [
           -932.1900000000023,
           6,
           920
          ],
          [
           528.7800000000025,
           8,
           921
          ],
          [
           -647.0899999999965,
           6,
           922
          ],
          [
           -1015.6100000000006,
           6,
           923
          ],
          [
           1575.449999999997,
           8,
           924
          ],
          [
           2005.8500000000022,
           8,
           925
          ],
          [
           -2020.8099999999977,
           8,
           926
          ],
          [
           -1015.6100000000006,
           6,
           927
          ],
          [
           -1015.6100000000006,
           6,
           928
          ],
          [
           127.03000000000247,
           10,
           929
          ],
          [
           -252.67999999999665,
           9,
           930
          ],
          [
           118.51000000000568,
           10,
           931
          ],
          [
           -1010.989999999998,
           8,
           932
          ],
          [
           332.369999999999,
           8,
           933
          ],
          [
           -914.7500000000073,
           6,
           934
          ],
          [
           -1052.6300000000047,
           8,
           935
          ],
          [
           -2494.5599999999977,
           8,
           936
          ],
          [
           -770.8899999999958,
           10,
           937
          ],
          [
           -1015.6100000000006,
           6,
           938
          ],
          [
           -903.3700000000026,
           6,
           939
          ],
          [
           1000.9299999999967,
           8,
           940
          ],
          [
           681.1999999999935,
           8,
           941
          ],
          [
           580.3400000000001,
           8,
           942
          ],
          [
           -1015.6100000000006,
           6,
           943
          ],
          [
           -2822.3300000000017,
           6,
           944
          ],
          [
           -2020.8099999999977,
           8,
           945
          ],
          [
           -1015.6100000000006,
           6,
           946
          ],
          [
           1466.3700000000063,
           12,
           947
          ],
          [
           -1015.6100000000006,
           6,
           948
          ],
          [
           3279.300000000003,
           8,
           949
          ],
          [
           996.8000000000029,
           10,
           950
          ],
          [
           1256.0499999999956,
           8,
           951
          ],
          [
           1324.9700000000048,
           10,
           952
          ],
          [
           -1015.6100000000006,
           6,
           953
          ],
          [
           2800.159999999996,
           8,
           954
          ],
          [
           1000.9299999999967,
           8,
           955
          ],
          [
           1682.6499999999942,
           12,
           956
          ],
          [
           -778.0099999999948,
           6,
           957
          ],
          [
           1566.430000000004,
           8,
           958
          ],
          [
           -932.1900000000023,
           6,
           959
          ],
          [
           -1015.6100000000006,
           6,
           960
          ],
          [
           -1413.1800000000003,
           8,
           961
          ],
          [
           -932.1900000000023,
           6,
           962
          ],
          [
           -536.5499999999847,
           12,
           963
          ],
          [
           -1015.6100000000006,
           6,
           964
          ],
          [
           -2211.9799999999996,
           8,
           965
          ],
          [
           -3347.1300000000047,
           6,
           966
          ],
          [
           -1052.6300000000047,
           8,
           967
          ],
          [
           1750.2400000000016,
           8,
           968
          ],
          [
           -1015.6100000000006,
           6,
           969
          ],
          [
           -1001.4499999999971,
           4,
           970
          ],
          [
           -778.0099999999948,
           6,
           971
          ],
          [
           -3276.0099999999984,
           12,
           972
          ],
          [
           -1961.7599999999948,
           10,
           973
          ],
          [
           -1015.6100000000006,
           6,
           974
          ],
          [
           -1015.6100000000006,
           6,
           975
          ],
          [
           -1015.6100000000006,
           6,
           976
          ],
          [
           937.5900000000001,
           10,
           977
          ],
          [
           -1015.6100000000006,
           6,
           978
          ],
          [
           -1015.6100000000006,
           6,
           979
          ],
          [
           188.30000000000655,
           7,
           980
          ],
          [
           -1015.6100000000006,
           6,
           981
          ],
          [
           753.5999999999985,
           8,
           982
          ],
          [
           -1015.6100000000006,
           6,
           983
          ],
          [
           -1015.6100000000006,
           6,
           984
          ],
          [
           -1015.6100000000006,
           6,
           985
          ],
          [
           -2020.8099999999977,
           8,
           986
          ],
          [
           1575.449999999997,
           8,
           987
          ],
          [
           1141.699999999997,
           8,
           988
          ],
          [
           -1739.2399999999943,
           10,
           989
          ],
          [
           -1015.6100000000006,
           6,
           990
          ],
          [
           -3108.699999999997,
           8,
           991
          ],
          [
           1899.6800000000003,
           10,
           992
          ],
          [
           888.6899999999987,
           8,
           993
          ],
          [
           2005.8500000000022,
           8,
           994
          ],
          [
           -1015.6100000000006,
           6,
           995
          ],
          [
           547.0700000000033,
           8,
           996
          ],
          [
           1151.1699999999983,
           6,
           997
          ],
          [
           332.369999999999,
           8,
           998
          ],
          [
           675.1800000000039,
           7,
           999
          ],
          [
           -2020.8099999999977,
           8,
           1000
          ]
         ],
         "fillcolor": "rgba(255,255,255,0)",
         "hoveron": "points",
         "hovertemplate": "model_type=DQN<br>fmt_total_profit_percentage=%{x}<br>total_reward_cash=%{customdata[0]}<br>num_of_trades=%{customdata[1]}<br>sim_id=%{customdata[2]}<extra></extra>",
         "jitter": 0,
         "legendgroup": "DQN",
         "line": {
          "color": "rgba(255,255,255,0)"
         },
         "marker": {
          "color": "#FF7F0E",
          "symbol": "line-ns-open"
         },
         "name": "DQN",
         "offsetgroup": "DQN",
         "showlegend": false,
         "type": "box",
         "x": [
          -4.631310946303213,
          -4.631310946303213,
          -4.631310946303213,
          5.602567289907268,
          -4.551593225729311,
          -4.631310946303213,
          -4.250137765608997,
          5.1874204047918315,
          -3.9860429272055575,
          -4.631310946303213,
          7.122057506616231,
          -1.685154266617983,
          10.348721338169309,
          7.161587216708054,
          -4.551593225729311,
          -4.631310946303213,
          4.4272715989058575,
          3.045408310824138,
          -1.3225098576406524,
          7.122057506616231,
          0.27306808301110763,
          -9.563094322753452,
          -7.654168304490804,
          -13.554664332443023,
          -4.631310946303213,
          -4.631310946303213,
          -4.631310946303213,
          -4.631310946303213,
          4.141615195128412,
          2.551437849526428,
          -4.631310946303213,
          5.602567289907268,
          -4.631310946303213,
          -4.604882750924732,
          6.648290382205557,
          -4.631310946303213,
          7.098523903426379,
          2.6347781084564925,
          -4.631310946303213,
          4.56899917358935,
          4.036564781167606,
          -4.631310946303213,
          -4.631310946303213,
          -4.631310946303213,
          -4.631310946303213,
          -4.631310946303213,
          -4.631310946303213,
          -7.479424674779689,
          -4.631310946303213,
          -4.631310946303213,
          -4.631310946303213,
          7.161587216708054,
          2.551437849526428,
          4.370790386525636,
          0.27306808301110763,
          -4.631310946303213,
          7.161587216708054,
          -4.631310946303213,
          -4.631310946303213,
          -4.631310946303213,
          -0.29243487109227306,
          -4.631310946303213,
          -4.840719512495351,
          -4.631310946303213,
          -0.5647503713969271,
          3.4686626390315833,
          2.551437849526428,
          -4.631310946303213,
          -4.631310946303213,
          -4.631310946303213,
          12.391305373932315,
          13.209435825035643,
          -4.631310946303213,
          -7.654168304490804,
          6.648290382205557,
          -4.631310946303213,
          4.4272715989058575,
          -4.604882750924732,
          -4.631310946303213,
          -2.2277827316256937,
          -4.631310946303213,
          9.131273212132228,
          5.1874204047918315,
          9.161515240611084,
          7.987244645091662,
          -4.631310946303213,
          16.31169654570965,
          -4.631310946303213,
          -4.631310946303213,
          -4.631310946303213,
          -4.840719512495351,
          7.987244645091662,
          -4.631310946303213,
          2.8993272952564597,
          -4.631310946303213,
          -4.631310946303213,
          -12.392599046846641,
          -10.851025376067213,
          1.6028179926755648,
          -4.631310946303213,
          -4.551593225729311,
          -6.4195052581949135,
          -4.631310946303213,
          -4.631310946303213,
          -4.631310946303213,
          -4.631310946303213,
          -4.631310946303213,
          -4.621252734833625,
          -4.631310946303213,
          7.00242750388429,
          12.391305373932315,
          -4.06889022109711,
          15.381439636586558,
          3.2262938107913586,
          -4.631310946303213,
          7.161587216708054,
          2.6347781084564925,
          -4.840719512495351,
          -4.631310946303213,
          -2.617006759420959,
          -4.631310946303213,
          -4.631310946303213,
          -0.4874249778358597,
          -4.631310946303213,
          4.514561296816333,
          22.389482708863362,
          7.987244645091662,
          7.987244645091662,
          -4.631310946303213,
          -4.631310946303213,
          -6.4195052581949135,
          7.127964615997384,
          -4.631310946303213,
          -4.631310946303213,
          0.27306808301110763,
          0.27306808301110763,
          -4.631310946303213,
          -4.250137765608997,
          -10.851025376067213,
          2.6347781084564925,
          6.871712706048316,
          -3.641629178635697,
          -3.3492910197644887,
          -4.250137765608997,
          -3.9860429272055575,
          12.391305373932315,
          -4.631310946303213,
          -4.631310946303213,
          -4.631310946303213,
          -4.631310946303213,
          -4.631310946303213,
          -13.554664332443023,
          -4.631310946303213,
          -4.631310946303213,
          -10.851025376067213,
          -4.631310946303213,
          -4.631310946303213,
          -6.4195052581949135,
          -4.631310946303213,
          -4.631310946303213,
          9.131273212132228,
          -4.545345424842306,
          2.551437849526428,
          1.8509630970439561,
          -11.386592897468029,
          -4.631310946303213,
          7.987244645091662,
          -4.631310946303213,
          -4.631310946303213,
          1.0934051407932577,
          -13.04486757567458,
          -2.5638429976722388,
          -4.631310946303213,
          -4.631310946303213,
          3.463319895874517,
          7.161587216708054,
          -4.631310946303213,
          6.677496084311807,
          2.551437849526428,
          -4.631310946303213,
          -4.631310946303213,
          21.533563295572677,
          -1.2374879037609698,
          -3.2803265453192343,
          -6.863856862879203,
          5.248820425145273,
          20.083433478745327,
          -4.631310946303213,
          3.2360457326948033,
          -4.631310946303213,
          6.311647581604207,
          4.370790386525636,
          1.6028179926755648,
          3.3041266093189137,
          -6.652582832696852,
          -13.554664332443023,
          7.980067726518314,
          -4.631310946303213,
          7.122057506616231,
          -4.631310946303213,
          5.951435363250268,
          -2.617006759420959,
          -7.654168304490804,
          -4.631310946303213,
          17.713617455124876,
          1.2893976899563953,
          -4.631310946303213,
          -4.631310946303213,
          -4.840719512495351,
          4.370790386525636,
          3.5795066002820564,
          0.27306808301110763,
          2.6347781084564925,
          -4.631310946303213,
          -4.250137765608997,
          2.6632198538069973,
          -6.168786400575687,
          -3.5240210536255367,
          -4.631310946303213,
          -13.136608761261037,
          -4.631310946303213,
          9.131273212132228,
          -9.899138398881702,
          -4.631310946303213,
          -5.634739713933412,
          -4.631310946303213,
          -4.250137765608997,
          -3.3492910197644887,
          11.548671009507316,
          -4.631310946303213,
          -4.631310946303213,
          -4.631310946303213,
          -4.631310946303213,
          12.391305373932315,
          7.07454629978137,
          -4.631310946303213,
          -9.798508962512908,
          7.161587216708054,
          -4.631310946303213,
          -4.631310946303213,
          -4.604882750924732,
          -13.209156347804296,
          12.391305373932315,
          -2.4643171892897997,
          -2.617006759420959,
          4.036564781167606,
          7.122057506616231,
          -4.631310946303213,
          3.089694462404946,
          -4.604882750924732,
          2.551437849526428,
          -4.631310946303213,
          -4.631310946303213,
          -4.631310946303213,
          10.348721338169309,
          -3.9860429272055575,
          4.4272715989058575,
          -4.631310946303213,
          9.131273212132228,
          -4.631310946303213,
          -4.631310946303213,
          -4.631310946303213,
          7.122057506616231,
          -4.631310946303213,
          4.293928048208007,
          -12.456525986767709,
          4.4272715989058575,
          -3.2803265453192343,
          -4.631310946303213,
          -3.2803265453192343,
          -7.654168304490804,
          -4.631310946303213,
          -4.631310946303213,
          2.4916572901162226,
          7.122057506616231,
          -4.631310946303213,
          -4.631310946303213,
          -2.4643171892897997,
          -4.551593225729311,
          -9.54754960784575,
          5.602567289907268,
          -4.631310946303213,
          -10.851025376067213,
          2.551437849526428,
          22.038625368481334,
          5.2670757941658986,
          -10.826320763447184,
          -4.631310946303213,
          7.987244645091662,
          -4.06889022109711,
          4.370790386525636,
          -4.631310946303213,
          -9.645297297032906,
          4.645483787927951,
          -4.631310946303213,
          -4.631310946303213,
          -5.368645186613974,
          -4.06889022109711,
          7.122057506616231,
          2.0910199557558684,
          5.248820425145273,
          -2.7099386179414098,
          20.663428605742574,
          -3.2803265453192343,
          -4.06889022109711,
          13.716783234399177,
          -4.631310946303213,
          -3.5615146184092006,
          -4.631310946303213,
          5.1874204047918315,
          -7.654168304490804,
          1.7078412221147588,
          5.017717273813971,
          -4.631310946303213,
          -4.631310946303213,
          0.30085536058397366,
          -4.631310946303213,
          1.6028179926755648,
          2.9767903817055297,
          -4.631310946303213,
          -4.631310946303213,
          2.4060571049153046,
          -3.2803265453192343,
          -4.631310946303213,
          4.526840716594149,
          -4.631310946303213,
          -4.631310946303213,
          -4.250137765608997,
          -10.851025376067213,
          7.122057506616231,
          -4.551593225729311,
          -4.631310946303213,
          -4.631310946303213,
          -3.9594359176958416,
          -4.631310946303213,
          -4.631310946303213,
          9.131273212132228,
          -4.250137765608997,
          -4.06889022109711,
          7.987244645091662,
          -4.631310946303213,
          -6.4195052581949135,
          -4.631310946303213,
          4.4272715989058575,
          7.987244645091662,
          -7.479424674779689,
          -3.1131391197654734,
          -4.631310946303213,
          -4.631310946303213,
          12.391305373932315,
          5.602567289907268,
          -3.9860429272055575,
          2.5418046891259705,
          -4.06889022109711,
          -3.2803265453192343,
          -4.631310946303213,
          5.602567289907268,
          9.384607312889926,
          -9.899138398881702,
          4.4272715989058575,
          -4.631310946303213,
          -4.631310946303213,
          -0.48361328726608255,
          13.423299982036795,
          7.122057506616231,
          -4.631310946303213,
          7.161587216708054,
          -7.479424674779689,
          -4.631310946303213,
          9.131273212132228,
          -4.631310946303213,
          -3.9860429272055575,
          -12.392599046846641,
          -4.631310946303213,
          0.9295915034921665,
          2.551437849526428,
          2.6347781084564925,
          -4.631310946303213,
          -4.631310946303213,
          1.6028179926755648,
          1.6028179926755648,
          -4.631310946303213,
          2.5418046891259705,
          1.0934051407932577,
          7.122057506616231,
          5.1874204047918315,
          5.918777629699301,
          5.1874204047918315,
          -12.522591119543991,
          -4.631310946303213,
          5.486037012157752,
          9.038751301176283,
          -4.06889022109711,
          -4.631310946303213,
          -4.631310946303213,
          5.1874204047918315,
          0.27306808301110763,
          -4.631310946303213,
          9.823065916902586,
          -5.634739713933412,
          -13.554664332443023,
          -4.631310946303213,
          -8.510896593057392,
          -4.631310946303213,
          -4.631310946303213,
          -4.631310946303213,
          -4.631310946303213,
          -3.2803265453192343,
          -6.3412822711221395,
          -4.604882750924732,
          -0.4160043320536211,
          -2.5457781855605432,
          -4.631310946303213,
          -3.9860429272055575,
          -7.682579412612123,
          -4.631310946303213,
          -4.631310946303213,
          -2.5356053023931957,
          -4.631310946303213,
          -4.631310946303213,
          -4.631310946303213,
          -10.851025376067213,
          4.141615195128412,
          1.6028179926755648,
          -4.631310946303213,
          -7.479424674779689,
          -4.631310946303213,
          -4.631310946303213,
          8.384176351000882,
          -9.757231610515793,
          4.4272715989058575,
          -4.631310946303213,
          -4.631310946303213,
          -4.631310946303213,
          -4.631310946303213,
          -4.631310946303213,
          -4.551593225729311,
          -4.604882750924732,
          -4.631310946303213,
          -4.631310946303213,
          -4.631310946303213,
          -7.479424674779689,
          -0.4874249778358597,
          -4.631310946303213,
          -4.631310946303213,
          -0.6227588728355493,
          7.161587216708054,
          3.281444253213639,
          -2.5457781855605432,
          -4.631310946303213,
          -6.4195052581949135,
          -2.617006759420959,
          -4.631310946303213,
          -4.631310946303213,
          9.618336807021732,
          5.24899764348723,
          -4.631310946303213,
          -4.631310946303213,
          5.614785712680637,
          5.602567289907268,
          -7.479424674779689,
          5.872150322578973,
          -4.250137765608997,
          -4.631310946303213,
          -4.631310946303213,
          -4.631310946303213,
          -4.631310946303213,
          9.131273212132228,
          -4.631310946303213,
          5.1874204047918315,
          -4.604882750924732,
          -4.1701014262367275,
          -1.685154266617983,
          -4.631310946303213,
          -1.1686490966148044,
          11.101460755099723,
          -4.840719512495351,
          -4.631310946303213,
          -4.631310946303213,
          5.248820425145273,
          5.1874204047918315,
          -4.631310946303213,
          -4.604882750924732,
          4.370790386525636,
          -1.685154266617983,
          2.551437849526428,
          6.648290382205557,
          -4.631310946303213,
          7.75379173580879,
          5.1874204047918315,
          -4.631310946303213,
          -4.631310946303213,
          2.6347781084564925,
          -9.605504051501768,
          -4.631310946303213,
          -4.631310946303213,
          25.68423337774344,
          -4.631310946303213,
          -4.631310946303213,
          0.5678350936503263,
          -4.631310946303213,
          -4.631310946303213,
          -2.617006759420959,
          -4.840719512495351,
          -4.631310946303213,
          0.06361140483119865,
          -13.554664332443023,
          -4.631310946303213,
          -13.51339203985834,
          -4.631310946303213,
          -4.631310946303213,
          -3.9860429272055575,
          -4.631310946303213,
          -4.06889022109711,
          1.6877467584437644,
          -4.631310946303213,
          -4.631310946303213,
          -4.631310946303213,
          0.27306808301110763,
          2.6347781084564925,
          -4.631310946303213,
          -4.250137765608997,
          9.887476160236265,
          -4.631310946303213,
          -4.604882750924732,
          -4.631310946303213,
          -4.840719512495351,
          -4.631310946303213,
          5.872150322578973,
          -4.631310946303213,
          5.248820425145273,
          -4.631310946303213,
          5.1874204047918315,
          -4.631310946303213,
          7.161587216708054,
          -4.631310946303213,
          5.602567289907268,
          5.2184908965635435,
          0.27306808301110763,
          -4.631310946303213,
          -2.617006759420959,
          0.27306808301110763,
          -1.685154266617983,
          -4.631310946303213,
          2.551437849526428,
          4.036564781167606,
          -1.1756398292538717,
          -1.685154266617983,
          2.4060571049153046,
          15.588695945709329,
          -4.631310946303213,
          -4.631310946303213,
          -7.479424674779689,
          6.986145750588135,
          -4.06889022109711,
          -4.631310946303213,
          14.395550974900818,
          7.161587216708054,
          -4.631310946303213,
          5.1874204047918315,
          -4.631310946303213,
          -7.654168304490804,
          5.248820425145273,
          -4.631310946303213,
          4.370790386525636,
          -9.214215916760093,
          3.456846789586887,
          -4.631310946303213,
          -4.631310946303213,
          -4.631310946303213,
          7.846849244185772,
          4.036564781167606,
          -4.631310946303213,
          9.956051042430003,
          5.602567289907268,
          -4.631310946303213,
          -4.631310946303213,
          -4.631310946303213,
          2.4060571049153046,
          1.0962753051400043,
          -1.710045321836129,
          17.5859365781039,
          -4.631310946303213,
          -4.631310946303213,
          -4.631310946303213,
          -13.554664332443023,
          -4.631310946303213,
          6.648290382205557,
          7.987244645091662,
          2.551437849526428,
          -4.631310946303213,
          -4.631310946303213,
          -6.393572600179032,
          -3.3304604274259964,
          14.4945429092312,
          -4.631310946303213,
          -4.631310946303213,
          9.131273212132228,
          -7.654168304490804,
          -2.617006759420959,
          -4.631310946303213,
          2.493946168508221,
          2.6347781084564925,
          -4.631310946303213,
          -4.631310946303213,
          -4.631310946303213,
          -4.631310946303213,
          7.122057506616231,
          -4.631310946303213,
          -4.631310946303213,
          2.8993272952564597,
          -4.631310946303213,
          -6.4195052581949135,
          -4.631310946303213,
          14.669796463742045,
          2.6347781084564925,
          5.248820425145273,
          1.0934051407932577,
          -4.631310946303213,
          -4.631310946303213,
          5.807745438653966,
          0.27306808301110763,
          -4.631310946303213,
          -4.631310946303213,
          -4.840719512495351,
          7.161587216708054,
          -4.631310946303213,
          0.1731493973395004,
          10.348721338169309,
          -4.631310946303213,
          -4.631310946303213,
          -4.631310946303213,
          15.364084499802221,
          -4.631310946303213,
          -4.631310946303213,
          -7.654168304490804,
          -5.867630106716238,
          8.521914756648897,
          -4.631310946303213,
          2.6347781084564925,
          -4.631310946303213,
          -4.631310946303213,
          -4.631310946303213,
          -4.631310946303213,
          -4.604882750924732,
          6.327643800382066,
          -4.631310946303213,
          -4.631310946303213,
          8.891645052441287,
          12.516423596857873,
          -2.5457781855605432,
          -4.840719512495351,
          8.639539083942571,
          -4.631310946303213,
          1.0934051407932577,
          7.122057506616231,
          -3.808001522144644,
          -4.604882750924732,
          -4.631310946303213,
          1.6935274828742575,
          -3.9860429272055575,
          -4.631310946303213,
          9.396930193598529,
          -4.631310946303213,
          -2.5457781855605432,
          -2.617006759420959,
          2.5418046891259705,
          -4.631310946303213,
          -4.631310946303213,
          -4.06889022109711,
          -4.631310946303213,
          -4.631310946303213,
          -6.680814711358607,
          -4.631310946303213,
          -4.631310946303213,
          4.370790386525636,
          7.38427412461653,
          2.5418046891259705,
          -4.604882750924732,
          -4.631310946303213,
          5.1874204047918315,
          5.248820425145273,
          -6.4301606643662135,
          -4.631310946303213,
          7.161587216708054,
          -4.631310946303213,
          5.694087884737953,
          12.006615244669705,
          3.1904060667089063,
          5.546682048327534,
          -7.479424674779689,
          6.648290382205557,
          1.580352540251706,
          -4.551593225729311,
          -6.4195052581949135,
          -7.479424674779689,
          -4.631310946303213,
          12.391305373932315,
          -4.373076923202756,
          -4.631310946303213,
          -4.631310946303213,
          -4.551593225729311,
          -4.631310946303213,
          -4.631310946303213,
          6.091826671098244,
          9.86965937624895,
          -6.4195052581949135,
          9.097758623503793,
          -4.631310946303213,
          -4.631310946303213,
          -4.631310946303213,
          9.082844275748325,
          2.81585679917129,
          6.523917948732172,
          -4.631310946303213,
          -3.2803265453192343,
          5.602567289907268,
          -4.631310946303213,
          -6.933800218920827,
          1.9788193513062824,
          -0.2305432262635354,
          6.648290382205557,
          -4.631310946303213,
          1.0934051407932577,
          9.082844275748325,
          3.2203081304904124,
          2.5418046891259705,
          1.6028179926755648,
          -4.631310946303213,
          2.551437849526428,
          9.131273212132228,
          -4.631310946303213,
          5.1874204047918315,
          3.0989402122261867,
          -4.631310946303213,
          -2.5457781855605432,
          -4.631310946303213,
          -4.631310946303213,
          5.248820425145273,
          -13.209156347804296,
          13.359504169209435,
          -4.631310946303213,
          -2.5457781855605432,
          4.4272715989058575,
          1.6028179926755648,
          11.030953678432098,
          -13.554664332443023,
          -3.2803265453192343,
          4.4272715989058575,
          2.720569479226076,
          1.3516176812655933,
          -13.744479186518955,
          -4.631310946303213,
          -4.631310946303213,
          -4.631310946303213,
          7.122057506616231,
          -4.551593225729311,
          -3.9860429272055575,
          5.248820425145273,
          -4.631310946303213,
          -10.851025376067213,
          -1.685154266617983,
          -4.631310946303213,
          1.4791420205906292,
          -4.631310946303213,
          -3.3492910197644887,
          -4.631310946303213,
          -4.631310946303213,
          0.4648053656139739,
          0.27306808301110763,
          -4.631310946303213,
          -4.604882750924732,
          -4.631310946303213,
          -4.631310946303213,
          8.717890270310624,
          -4.631310946303213,
          3.7069487871316475,
          -4.631310946303213,
          15.22927974695143,
          2.5418046891259705,
          16.50537556421101,
          1.7774067971682017,
          -13.209156347804296,
          4.4272715989058575,
          4.036564781167606,
          -1.083258810775678,
          -4.631310946303213,
          -4.631310946303213,
          5.602567289907268,
          -2.0427070157150395,
          -9.874170003092786,
          -4.631310946303213,
          -4.631310946303213,
          5.1874204047918315,
          -3.9860429272055575,
          -7.654168304490804,
          9.889634798514567,
          -4.631310946303213,
          2.551437849526428,
          6.503391778667544,
          2.551437849526428,
          6.5752300422434296,
          0.27306808301110763,
          4.70761391399086,
          -1.9710583833787987,
          12.391305373932315,
          -4.551593225729311,
          3.788013133447299,
          2.4060571049153046,
          7.987244645091662,
          5.614785712680637,
          5.1874204047918315,
          4.036564781167606,
          -4.631310946303213,
          -4.631310946303213,
          -3.2803265453192343,
          -13.554664332443023,
          12.462358312784572,
          -4.631310946303213,
          20.33560091935682,
          1.0934051407932577,
          -4.631310946303213,
          -4.631310946303213,
          -4.631310946303213,
          -4.631310946303213,
          -14.51627219466457,
          -4.631310946303213,
          2.5418046891259705,
          -4.631310946303213,
          -4.06889022109711,
          -4.631310946303213,
          -4.250137765608997,
          1.0934051407932577,
          4.036564781167606,
          -3.988702378739417,
          -4.631310946303213,
          -4.631310946303213,
          7.138028617402958,
          5.510337541870869,
          16.352097897627928,
          0.27306808301110763,
          -7.654168304490804,
          -4.631310946303213,
          -4.631310946303213,
          -1.3409197601769285,
          -4.631310946303213,
          2.4060571049153046,
          -7.479424674779689,
          9.131273212132228,
          -4.631310946303213,
          7.987244645091662,
          -3.9860429272055575,
          2.493946168508221,
          -4.631310946303213,
          -4.631310946303213,
          -4.631310946303213,
          18.48288134127929,
          4.088693283330147,
          -4.631310946303213,
          -4.06889022109711,
          5.155368709522357,
          2.978041595630332,
          -4.631310946303213,
          -4.604882750924732,
          -0.5241052316153016,
          -4.631310946303213,
          1.6028179926755648,
          -4.631310946303213,
          -4.631310946303213,
          -2.617006759420959,
          -4.631310946303213,
          -3.9860429272055575,
          3.281444253213639,
          2.6347781084564925,
          12.391305373932315,
          -4.631310946303213,
          7.122057506616231,
          -4.631310946303213,
          -5.1748664726440685,
          -4.631310946303213,
          -4.291707764177122,
          4.4272715989058575,
          5.248820425145273,
          8.077510088389484,
          -4.196868359373617,
          -13.459116359213619,
          -3.1504120323353924,
          -4.631310946303213,
          -4.631310946303213,
          4.036564781167606,
          5.602567289907268,
          -4.631310946303213,
          14.765148185763422,
          -6.4198028690828135,
          -4.631310946303213,
          2.551437849526428,
          7.122057506616231,
          -4.631310946303213,
          -17.41346137883251,
          4.838798676779277,
          3.24530460824346,
          1.6028179926755648,
          3.089694462404946,
          -3.9860429272055575,
          -4.631310946303213,
          7.122057506616231,
          -4.631310946303213,
          -10.851025376067213,
          8.828419433428468,
          -4.631310946303213,
          1.0934051407932577,
          2.4060571049153046,
          -3.2803265453192343,
          4.4272715989058575,
          7.987244645091662,
          -14.154697305192187,
          -4.631310946303213,
          -4.33384023620812,
          4.370790386525636,
          -4.250137765608997,
          2.4060571049153046,
          -2.5457781855605432,
          -4.631310946303213,
          7.161587216708054,
          9.131273212132228,
          -9.899138398881702,
          -4.631310946303213,
          -4.631310946303213,
          0.7261107210478679,
          -0.9043699874441757,
          0.5865574748118663,
          -4.604882750924732,
          1.6028179926755648,
          -4.06889022109711,
          -4.840719512495351,
          -10.851025376067213,
          -4.490635283370126,
          -4.631310946303213,
          -3.9860429272055575,
          4.74047996272442,
          3.2400493658041096,
          2.6347781084564925,
          -4.631310946303213,
          -13.554664332443023,
          -9.899138398881702,
          -4.631310946303213,
          7.167718285792657,
          -4.631310946303213,
          16.743163466567413,
          4.526840716594149,
          5.869507555250064,
          6.632904207402035,
          -4.631310946303213,
          13.151749034236836,
          4.74047996272442,
          7.669688643371431,
          -3.2803265453192343,
          7.122057506616231,
          -4.250137765608997,
          -4.631310946303213,
          -6.4195052581949135,
          -4.250137765608997,
          -3.3985819231061365,
          -4.631310946303213,
          -10.41200668550777,
          -16.136288864776727,
          -4.840719512495351,
          7.987244645091662,
          -4.631310946303213,
          -4.551593225729311,
          -3.2803265453192343,
          -13.788990686857549,
          -8.74157798662748,
          -4.631310946303213,
          -4.631310946303213,
          -4.631310946303213,
          4.197972387247706,
          -4.631310946303213,
          -4.631310946303213,
          0.5870397125675275,
          -4.631310946303213,
          4.648599832542488,
          -4.631310946303213,
          -4.631310946303213,
          -4.631310946303213,
          -9.899138398881702,
          7.161587216708054,
          5.1874204047918315,
          -8.687932696914846,
          -4.631310946303213,
          -13.402977229737745,
          8.226321960405848,
          4.036564781167606,
          9.131273212132228,
          -4.631310946303213,
          2.551437849526428,
          6.648290382205557,
          1.6028179926755648,
          2.6881885813152095,
          -9.899138398881702
         ],
         "xaxis": "x2",
         "yaxis": "y2"
        }
       ],
       "layout": {
        "barmode": "relative",
        "height": 600,
        "legend": {
         "title": {
          "text": "model_type"
         },
         "tracegroupgap": 0
        },
        "margin": {
         "t": 60
        },
        "template": {
         "data": {
          "bar": [
           {
            "error_x": {
             "color": "#2a3f5f"
            },
            "error_y": {
             "color": "#2a3f5f"
            },
            "marker": {
             "line": {
              "color": "#E5ECF6",
              "width": 0.5
             },
             "pattern": {
              "fillmode": "overlay",
              "size": 10,
              "solidity": 0.2
             }
            },
            "type": "bar"
           }
          ],
          "barpolar": [
           {
            "marker": {
             "line": {
              "color": "#E5ECF6",
              "width": 0.5
             },
             "pattern": {
              "fillmode": "overlay",
              "size": 10,
              "solidity": 0.2
             }
            },
            "type": "barpolar"
           }
          ],
          "carpet": [
           {
            "aaxis": {
             "endlinecolor": "#2a3f5f",
             "gridcolor": "white",
             "linecolor": "white",
             "minorgridcolor": "white",
             "startlinecolor": "#2a3f5f"
            },
            "baxis": {
             "endlinecolor": "#2a3f5f",
             "gridcolor": "white",
             "linecolor": "white",
             "minorgridcolor": "white",
             "startlinecolor": "#2a3f5f"
            },
            "type": "carpet"
           }
          ],
          "choropleth": [
           {
            "colorbar": {
             "outlinewidth": 0,
             "ticks": ""
            },
            "type": "choropleth"
           }
          ],
          "contour": [
           {
            "colorbar": {
             "outlinewidth": 0,
             "ticks": ""
            },
            "colorscale": [
             [
              0,
              "#0d0887"
             ],
             [
              0.1111111111111111,
              "#46039f"
             ],
             [
              0.2222222222222222,
              "#7201a8"
             ],
             [
              0.3333333333333333,
              "#9c179e"
             ],
             [
              0.4444444444444444,
              "#bd3786"
             ],
             [
              0.5555555555555556,
              "#d8576b"
             ],
             [
              0.6666666666666666,
              "#ed7953"
             ],
             [
              0.7777777777777778,
              "#fb9f3a"
             ],
             [
              0.8888888888888888,
              "#fdca26"
             ],
             [
              1,
              "#f0f921"
             ]
            ],
            "type": "contour"
           }
          ],
          "contourcarpet": [
           {
            "colorbar": {
             "outlinewidth": 0,
             "ticks": ""
            },
            "type": "contourcarpet"
           }
          ],
          "heatmap": [
           {
            "colorbar": {
             "outlinewidth": 0,
             "ticks": ""
            },
            "colorscale": [
             [
              0,
              "#0d0887"
             ],
             [
              0.1111111111111111,
              "#46039f"
             ],
             [
              0.2222222222222222,
              "#7201a8"
             ],
             [
              0.3333333333333333,
              "#9c179e"
             ],
             [
              0.4444444444444444,
              "#bd3786"
             ],
             [
              0.5555555555555556,
              "#d8576b"
             ],
             [
              0.6666666666666666,
              "#ed7953"
             ],
             [
              0.7777777777777778,
              "#fb9f3a"
             ],
             [
              0.8888888888888888,
              "#fdca26"
             ],
             [
              1,
              "#f0f921"
             ]
            ],
            "type": "heatmap"
           }
          ],
          "heatmapgl": [
           {
            "colorbar": {
             "outlinewidth": 0,
             "ticks": ""
            },
            "colorscale": [
             [
              0,
              "#0d0887"
             ],
             [
              0.1111111111111111,
              "#46039f"
             ],
             [
              0.2222222222222222,
              "#7201a8"
             ],
             [
              0.3333333333333333,
              "#9c179e"
             ],
             [
              0.4444444444444444,
              "#bd3786"
             ],
             [
              0.5555555555555556,
              "#d8576b"
             ],
             [
              0.6666666666666666,
              "#ed7953"
             ],
             [
              0.7777777777777778,
              "#fb9f3a"
             ],
             [
              0.8888888888888888,
              "#fdca26"
             ],
             [
              1,
              "#f0f921"
             ]
            ],
            "type": "heatmapgl"
           }
          ],
          "histogram": [
           {
            "marker": {
             "pattern": {
              "fillmode": "overlay",
              "size": 10,
              "solidity": 0.2
             }
            },
            "type": "histogram"
           }
          ],
          "histogram2d": [
           {
            "colorbar": {
             "outlinewidth": 0,
             "ticks": ""
            },
            "colorscale": [
             [
              0,
              "#0d0887"
             ],
             [
              0.1111111111111111,
              "#46039f"
             ],
             [
              0.2222222222222222,
              "#7201a8"
             ],
             [
              0.3333333333333333,
              "#9c179e"
             ],
             [
              0.4444444444444444,
              "#bd3786"
             ],
             [
              0.5555555555555556,
              "#d8576b"
             ],
             [
              0.6666666666666666,
              "#ed7953"
             ],
             [
              0.7777777777777778,
              "#fb9f3a"
             ],
             [
              0.8888888888888888,
              "#fdca26"
             ],
             [
              1,
              "#f0f921"
             ]
            ],
            "type": "histogram2d"
           }
          ],
          "histogram2dcontour": [
           {
            "colorbar": {
             "outlinewidth": 0,
             "ticks": ""
            },
            "colorscale": [
             [
              0,
              "#0d0887"
             ],
             [
              0.1111111111111111,
              "#46039f"
             ],
             [
              0.2222222222222222,
              "#7201a8"
             ],
             [
              0.3333333333333333,
              "#9c179e"
             ],
             [
              0.4444444444444444,
              "#bd3786"
             ],
             [
              0.5555555555555556,
              "#d8576b"
             ],
             [
              0.6666666666666666,
              "#ed7953"
             ],
             [
              0.7777777777777778,
              "#fb9f3a"
             ],
             [
              0.8888888888888888,
              "#fdca26"
             ],
             [
              1,
              "#f0f921"
             ]
            ],
            "type": "histogram2dcontour"
           }
          ],
          "mesh3d": [
           {
            "colorbar": {
             "outlinewidth": 0,
             "ticks": ""
            },
            "type": "mesh3d"
           }
          ],
          "parcoords": [
           {
            "line": {
             "colorbar": {
              "outlinewidth": 0,
              "ticks": ""
             }
            },
            "type": "parcoords"
           }
          ],
          "pie": [
           {
            "automargin": true,
            "type": "pie"
           }
          ],
          "scatter": [
           {
            "fillpattern": {
             "fillmode": "overlay",
             "size": 10,
             "solidity": 0.2
            },
            "type": "scatter"
           }
          ],
          "scatter3d": [
           {
            "line": {
             "colorbar": {
              "outlinewidth": 0,
              "ticks": ""
             }
            },
            "marker": {
             "colorbar": {
              "outlinewidth": 0,
              "ticks": ""
             }
            },
            "type": "scatter3d"
           }
          ],
          "scattercarpet": [
           {
            "marker": {
             "colorbar": {
              "outlinewidth": 0,
              "ticks": ""
             }
            },
            "type": "scattercarpet"
           }
          ],
          "scattergeo": [
           {
            "marker": {
             "colorbar": {
              "outlinewidth": 0,
              "ticks": ""
             }
            },
            "type": "scattergeo"
           }
          ],
          "scattergl": [
           {
            "marker": {
             "colorbar": {
              "outlinewidth": 0,
              "ticks": ""
             }
            },
            "type": "scattergl"
           }
          ],
          "scattermapbox": [
           {
            "marker": {
             "colorbar": {
              "outlinewidth": 0,
              "ticks": ""
             }
            },
            "type": "scattermapbox"
           }
          ],
          "scatterpolar": [
           {
            "marker": {
             "colorbar": {
              "outlinewidth": 0,
              "ticks": ""
             }
            },
            "type": "scatterpolar"
           }
          ],
          "scatterpolargl": [
           {
            "marker": {
             "colorbar": {
              "outlinewidth": 0,
              "ticks": ""
             }
            },
            "type": "scatterpolargl"
           }
          ],
          "scatterternary": [
           {
            "marker": {
             "colorbar": {
              "outlinewidth": 0,
              "ticks": ""
             }
            },
            "type": "scatterternary"
           }
          ],
          "surface": [
           {
            "colorbar": {
             "outlinewidth": 0,
             "ticks": ""
            },
            "colorscale": [
             [
              0,
              "#0d0887"
             ],
             [
              0.1111111111111111,
              "#46039f"
             ],
             [
              0.2222222222222222,
              "#7201a8"
             ],
             [
              0.3333333333333333,
              "#9c179e"
             ],
             [
              0.4444444444444444,
              "#bd3786"
             ],
             [
              0.5555555555555556,
              "#d8576b"
             ],
             [
              0.6666666666666666,
              "#ed7953"
             ],
             [
              0.7777777777777778,
              "#fb9f3a"
             ],
             [
              0.8888888888888888,
              "#fdca26"
             ],
             [
              1,
              "#f0f921"
             ]
            ],
            "type": "surface"
           }
          ],
          "table": [
           {
            "cells": {
             "fill": {
              "color": "#EBF0F8"
             },
             "line": {
              "color": "white"
             }
            },
            "header": {
             "fill": {
              "color": "#C8D4E3"
             },
             "line": {
              "color": "white"
             }
            },
            "type": "table"
           }
          ]
         },
         "layout": {
          "annotationdefaults": {
           "arrowcolor": "#2a3f5f",
           "arrowhead": 0,
           "arrowwidth": 1
          },
          "autotypenumbers": "strict",
          "coloraxis": {
           "colorbar": {
            "outlinewidth": 0,
            "ticks": ""
           }
          },
          "colorscale": {
           "diverging": [
            [
             0,
             "#8e0152"
            ],
            [
             0.1,
             "#c51b7d"
            ],
            [
             0.2,
             "#de77ae"
            ],
            [
             0.3,
             "#f1b6da"
            ],
            [
             0.4,
             "#fde0ef"
            ],
            [
             0.5,
             "#f7f7f7"
            ],
            [
             0.6,
             "#e6f5d0"
            ],
            [
             0.7,
             "#b8e186"
            ],
            [
             0.8,
             "#7fbc41"
            ],
            [
             0.9,
             "#4d9221"
            ],
            [
             1,
             "#276419"
            ]
           ],
           "sequential": [
            [
             0,
             "#0d0887"
            ],
            [
             0.1111111111111111,
             "#46039f"
            ],
            [
             0.2222222222222222,
             "#7201a8"
            ],
            [
             0.3333333333333333,
             "#9c179e"
            ],
            [
             0.4444444444444444,
             "#bd3786"
            ],
            [
             0.5555555555555556,
             "#d8576b"
            ],
            [
             0.6666666666666666,
             "#ed7953"
            ],
            [
             0.7777777777777778,
             "#fb9f3a"
            ],
            [
             0.8888888888888888,
             "#fdca26"
            ],
            [
             1,
             "#f0f921"
            ]
           ],
           "sequentialminus": [
            [
             0,
             "#0d0887"
            ],
            [
             0.1111111111111111,
             "#46039f"
            ],
            [
             0.2222222222222222,
             "#7201a8"
            ],
            [
             0.3333333333333333,
             "#9c179e"
            ],
            [
             0.4444444444444444,
             "#bd3786"
            ],
            [
             0.5555555555555556,
             "#d8576b"
            ],
            [
             0.6666666666666666,
             "#ed7953"
            ],
            [
             0.7777777777777778,
             "#fb9f3a"
            ],
            [
             0.8888888888888888,
             "#fdca26"
            ],
            [
             1,
             "#f0f921"
            ]
           ]
          },
          "colorway": [
           "#636efa",
           "#EF553B",
           "#00cc96",
           "#ab63fa",
           "#FFA15A",
           "#19d3f3",
           "#FF6692",
           "#B6E880",
           "#FF97FF",
           "#FECB52"
          ],
          "font": {
           "color": "#2a3f5f"
          },
          "geo": {
           "bgcolor": "white",
           "lakecolor": "white",
           "landcolor": "#E5ECF6",
           "showlakes": true,
           "showland": true,
           "subunitcolor": "white"
          },
          "hoverlabel": {
           "align": "left"
          },
          "hovermode": "closest",
          "mapbox": {
           "style": "light"
          },
          "paper_bgcolor": "white",
          "plot_bgcolor": "#E5ECF6",
          "polar": {
           "angularaxis": {
            "gridcolor": "white",
            "linecolor": "white",
            "ticks": ""
           },
           "bgcolor": "#E5ECF6",
           "radialaxis": {
            "gridcolor": "white",
            "linecolor": "white",
            "ticks": ""
           }
          },
          "scene": {
           "xaxis": {
            "backgroundcolor": "#E5ECF6",
            "gridcolor": "white",
            "gridwidth": 2,
            "linecolor": "white",
            "showbackground": true,
            "ticks": "",
            "zerolinecolor": "white"
           },
           "yaxis": {
            "backgroundcolor": "#E5ECF6",
            "gridcolor": "white",
            "gridwidth": 2,
            "linecolor": "white",
            "showbackground": true,
            "ticks": "",
            "zerolinecolor": "white"
           },
           "zaxis": {
            "backgroundcolor": "#E5ECF6",
            "gridcolor": "white",
            "gridwidth": 2,
            "linecolor": "white",
            "showbackground": true,
            "ticks": "",
            "zerolinecolor": "white"
           }
          },
          "shapedefaults": {
           "line": {
            "color": "#2a3f5f"
           }
          },
          "ternary": {
           "aaxis": {
            "gridcolor": "white",
            "linecolor": "white",
            "ticks": ""
           },
           "baxis": {
            "gridcolor": "white",
            "linecolor": "white",
            "ticks": ""
           },
           "bgcolor": "#E5ECF6",
           "caxis": {
            "gridcolor": "white",
            "linecolor": "white",
            "ticks": ""
           }
          },
          "title": {
           "x": 0.05
          },
          "xaxis": {
           "automargin": true,
           "gridcolor": "white",
           "linecolor": "white",
           "ticks": "",
           "title": {
            "standoff": 15
           },
           "zerolinecolor": "white",
           "zerolinewidth": 2
          },
          "yaxis": {
           "automargin": true,
           "gridcolor": "white",
           "linecolor": "white",
           "ticks": "",
           "title": {
            "standoff": 15
           },
           "zerolinecolor": "white",
           "zerolinewidth": 2
          }
         }
        },
        "width": 800,
        "xaxis": {
         "anchor": "y",
         "domain": [
          0,
          1
         ],
         "title": {
          "text": "fmt_total_profit_percentage"
         }
        },
        "xaxis2": {
         "anchor": "y2",
         "domain": [
          0,
          1
         ],
         "matches": "x",
         "showgrid": true,
         "showticklabels": false
        },
        "yaxis": {
         "anchor": "x",
         "domain": [
          0,
          0.7326
         ],
         "title": {
          "text": "count"
         }
        },
        "yaxis2": {
         "anchor": "x2",
         "domain": [
          0.7426,
          1
         ],
         "matches": "y2",
         "showgrid": false,
         "showline": false,
         "showticklabels": false,
         "ticks": ""
        }
       }
      }
     },
     "metadata": {},
     "output_type": "display_data"
    }
   ],
   "source": [
    "fig = px.histogram(df_trader_results, x=\"fmt_total_profit_percentage\", color=\"model_type\", color_discrete_sequence=[ \"#FF7F0E\", \"#00CC96\", \"#10aded\", \"#8A56EF\"],  width=800, height=600, marginal=\"rug\", # can be `box`, `violin`\n",
    "                         hover_data=['total_reward_cash','fmt_total_profit_percentage', 'num_of_trades', 'sim_id'])\n",
    "fig.show()"
   ]
  },
  {
   "cell_type": "code",
   "execution_count": 19,
   "metadata": {},
   "outputs": [],
   "source": [
    "df_trader_results_stats = df_trader_results.groupby(['model_type'])['fmt_total_profit_percentage'].agg(['median']).reset_index()"
   ]
  },
  {
   "cell_type": "code",
   "execution_count": 20,
   "metadata": {},
   "outputs": [],
   "source": [
    "# i_A2C = np.argmin(np.abs(df_trader_results[df_trader_results['model_type']=='A2C']['fmt_total_profit_percentage'] - df_trader_results_stats[df_trader_results_stats['model_type']=='A2C']['median'].values[0]))\n",
    "# median_sim_id_A2C = df_trader_results[df_trader_results['model_type']=='A2C'].iloc[i_A2C]['sim_id']\n",
    "\n",
    "# i_PPO = np.argmin(np.abs(df_trader_results[df_trader_results['model_type']=='PPO']['fmt_total_profit_percentage'] - df_trader_results_stats[df_trader_results_stats['model_type']=='PPO']['median'].values[0]))\n",
    "# median_sim_id_PPO = df_trader_results[df_trader_results['model_type']=='PPO'].iloc[i_PPO]['sim_id']\n",
    "\n",
    "i_DQN = np.argmin(np.abs(df_trader_results[df_trader_results['model_type']=='DQN']['fmt_total_profit_percentage'] - df_trader_results_stats[df_trader_results_stats['model_type']=='DQN']['median'].values[0]))\n",
    "median_sim_id_DQN = df_trader_results[df_trader_results['model_type']=='DQN'].iloc[i_DQN]['sim_id']\n",
    "\n",
    "# i_RANDOM = np.argmin(np.abs(df_trader_results[df_trader_results['model_type']=='RANDOM']['fmt_total_profit_percentage'] - df_trader_results_stats[df_trader_results_stats['model_type']=='RANDOM']['median'].values[0]))\n",
    "# median_sim_id_RANDOM = df_trader_results[df_trader_results['model_type']=='RANDOM'].iloc[i_RANDOM]['sim_id']"
   ]
  },
  {
   "cell_type": "code",
   "execution_count": 21,
   "metadata": {},
   "outputs": [],
   "source": [
    "def get_and_process_trader_robot_actions_and_env_data_one_sim_id(config_file_name_without_extension, sim_id):\n",
    "    try:\n",
    "        \n",
    "        # Get the data\n",
    "        db_address = 'sqlite:///../results/data/db/trader.db'\n",
    "        engine = create_engine(db_address, echo=False)\n",
    "        sqlite_connection = engine.connect()\n",
    "\n",
    "        input_tbl_name = \"tbl_trader_bernardo_robot_actions_and_env\" + \"_\" + config_file_name_without_extension\n",
    "        \n",
    "        sql_command = \"SELECT * FROM \" + input_tbl_name\n",
    "        \n",
    "        sql_append = \" WHERE \" + \"sim_id = \" + str(sim_id)\n",
    "        \n",
    "        sql_command = sql_command + sql_append\n",
    "\n",
    "        df = pd.read_sql(sql_command, sqlite_connection)\n",
    "\n",
    "        sqlite_connection.close()\n",
    "\n",
    "        return df\n",
    "\n",
    "    except Exception as e:\n",
    "        print(e)"
   ]
  },
  {
   "cell_type": "code",
   "execution_count": 22,
   "metadata": {},
   "outputs": [],
   "source": [
    "def plot_robot_actions_all_models(config_file_name_without_extension, sim_id_A2C, sim_id_PPO, sim_id_DQN, sim_id_RANDOM):\n",
    "    \n",
    "    # df_robot_actions_sim_id_A2C = get_and_process_trader_robot_actions_and_env_data_one_sim_id(config_file_name_without_extension, sim_id_A2C)\n",
    "    # df_robot_actions_sim_id_PPO = get_and_process_trader_robot_actions_and_env_data_one_sim_id(config_file_name_without_extension, sim_id_PPO)\n",
    "    df_robot_actions_sim_id_DQN = get_and_process_trader_robot_actions_and_env_data_one_sim_id(config_file_name_without_extension, sim_id_DQN)\n",
    "    # df_robot_actions_sim_id_RANDOM = get_and_process_trader_robot_actions_and_env_data_one_sim_id(config_file_name_without_extension, sim_id_RANDOM)\n",
    "\n",
    "    # df_simulation_sim_id_A2C = df_trader_results[df_trader_results['sim_id'] == sim_id_A2C]\n",
    "    # df_simulation_sim_id_PPO = df_trader_results[df_trader_results['sim_id'] == sim_id_PPO]\n",
    "    df_simulation_sim_id_DQN = df_trader_results[df_trader_results['sim_id'] == sim_id_DQN]\n",
    "    # df_simulation_sim_id_RANDOM = df_trader_results[df_trader_results['sim_id'] == sim_id_RANDOM]\n",
    "\n",
    "    # str_title_A2C = f\"sim_id: {sim_id_A2C} | model_type: {df_simulation_sim_id_A2C.model_type.values[0]} | Total Profit percentage {round(df_simulation_sim_id_A2C.fmt_total_profit_percentage.values[0],2)}%\"\n",
    "    # str_title_PPO = f\"sim_id: {sim_id_PPO} | model_type: {df_simulation_sim_id_PPO.model_type.values[0]} | Total Profit percentage {round(df_simulation_sim_id_PPO.fmt_total_profit_percentage.values[0],2)}%\"\n",
    "    str_title_DQN = f\"sim_id: {sim_id_DQN} | model_type: {df_simulation_sim_id_DQN.model_type.values[0]} | Total Profit percentage {round(df_simulation_sim_id_DQN.fmt_total_profit_percentage.values[0],2)}%\"\n",
    "    # str_title_RANDOM = f\"sim_id: {sim_id_RANDOM} | model_type: {df_simulation_sim_id_RANDOM.model_type.values[0]} | Total Profit percentage {round(df_simulation_sim_id_RANDOM.fmt_total_profit_percentage.values[0],2)}%\"\n",
    "\n",
    "    str_title = \"The median profit percentage results per model\"\n",
    "\n",
    "    fig = make_subplots(rows=4, cols=1, subplot_titles=(\"\", \"\", str_title_DQN, \"\"), shared_xaxes='all', shared_yaxes='all')\n",
    "\n",
    "    # fig.add_trace(go.Scatter(name='Price', x=df_robot_actions_sim_id_A2C[\"dates\"], y=df_robot_actions_sim_id_A2C[\"prices\"], mode='lines', marker_color='#969696', legendgroup = '1'), row=1, col=1)\n",
    "    # fig.add_trace(go.Scatter(name='Long', x=df_robot_actions_sim_id_A2C[df_robot_actions_sim_id_A2C['actions'] == 1]['dates'], y=df_robot_actions_sim_id_A2C[df_robot_actions_sim_id_A2C['actions'] == 1]['prices'], mode='markers', marker_symbol='circle', marker_size=10, marker_color='#228b22', legendgroup = '1'), row=1, col=1)\n",
    "    # fig.add_trace(go.Scatter(name='Short', x=df_robot_actions_sim_id_A2C[df_robot_actions_sim_id_A2C['actions'] == 0]['dates'], y=df_robot_actions_sim_id_A2C[df_robot_actions_sim_id_A2C['actions'] == 0]['prices'], mode='markers', marker_symbol='circle', marker_size=10, marker_color='#c83232', legendgroup = '1'), row=1, col=1)\n",
    "\n",
    "    # fig.add_trace(go.Scatter(name='Price', x=df_robot_actions_sim_id_PPO[\"dates\"], y=df_robot_actions_sim_id_PPO[\"prices\"], mode='lines', marker_color='#969696', legendgroup = '2'), row=2, col=1)\n",
    "    # fig.add_trace(go.Scatter(name='Long', x=df_robot_actions_sim_id_PPO[df_robot_actions_sim_id_PPO['actions'] == 1]['dates'], y=df_robot_actions_sim_id_PPO[df_robot_actions_sim_id_PPO['actions'] == 1]['prices'], mode='markers', marker_symbol='circle', marker_size=10, marker_color='#228b22', legendgroup = '2'), row=2, col=1)\n",
    "    # fig.add_trace(go.Scatter(name='Short', x=df_robot_actions_sim_id_PPO[df_robot_actions_sim_id_PPO['actions'] == 0]['dates'], y=df_robot_actions_sim_id_PPO[df_robot_actions_sim_id_PPO['actions'] == 0]['prices'], mode='markers', marker_symbol='circle', marker_size=10, marker_color='#c83232', legendgroup = '2'), row=2, col=1)\n",
    "\n",
    "    fig.add_trace(go.Scatter(name='Price', x=df_robot_actions_sim_id_DQN[\"dates\"], y=df_robot_actions_sim_id_DQN[\"prices\"], mode='lines', marker_color='#969696', legendgroup = '3'), row=3, col=1)\n",
    "    fig.add_trace(go.Scatter(name='Long', x=df_robot_actions_sim_id_DQN[df_robot_actions_sim_id_DQN['actions'] == 1]['dates'], y=df_robot_actions_sim_id_DQN[df_robot_actions_sim_id_DQN['actions'] == 1]['prices'], mode='markers', marker_symbol='circle', marker_size=10, marker_color='#228b22', legendgroup = '3'), row=3, col=1)\n",
    "    fig.add_trace(go.Scatter(name='Short', x=df_robot_actions_sim_id_DQN[df_robot_actions_sim_id_DQN['actions'] == 0]['dates'], y=df_robot_actions_sim_id_DQN[df_robot_actions_sim_id_DQN['actions'] == 0]['prices'], mode='markers', marker_symbol='circle', marker_size=10, marker_color='#c83232', legendgroup = '3'), row=3, col=1)\n",
    "\n",
    "    # fig.add_trace(go.Scatter(name='Price', x=df_robot_actions_sim_id_RANDOM[\"dates\"], y=df_robot_actions_sim_id_RANDOM[\"prices\"], mode='lines', marker_color='#969696', legendgroup = '4'), row=4, col=1)\n",
    "    # fig.add_trace(go.Scatter(name='Long', x=df_robot_actions_sim_id_RANDOM[df_robot_actions_sim_id_RANDOM['actions'] == 1]['dates'], y=df_robot_actions_sim_id_RANDOM[df_robot_actions_sim_id_RANDOM['actions'] == 1]['prices'], mode='markers', marker_symbol='circle', marker_size=10, marker_color='#228b22', legendgroup = '4'), row=4, col=1)\n",
    "    # fig.add_trace(go.Scatter(name='Short', x=df_robot_actions_sim_id_RANDOM[df_robot_actions_sim_id_RANDOM['actions'] == 0]['dates'], y=df_robot_actions_sim_id_RANDOM[df_robot_actions_sim_id_RANDOM['actions'] == 0]['prices'], mode='markers', marker_symbol='circle', marker_size=10, marker_color='#c83232', legendgroup = '4'), row=4, col=1)\n",
    "\n",
    "    fig.update_xaxes(title_text = \"Dates\", title_standoff = 25)\n",
    "\n",
    "    fig.update_yaxes(title_text = \"\", title_standoff = 25)\n",
    "\n",
    "    fig.update_layout(title=str_title, title_x=0.5, width=1200, height=800, legend_tracegroupgap=125)\n",
    "    fig.show()"
   ]
  },
  {
   "cell_type": "code",
   "execution_count": 23,
   "metadata": {},
   "outputs": [
    {
     "data": {
      "application/vnd.plotly.v1+json": {
       "config": {
        "plotlyServerURL": "https://plot.ly"
       },
       "data": [
        {
         "legendgroup": "3",
         "marker": {
          "color": "#969696"
         },
         "mode": "lines",
         "name": "Price",
         "type": "scatter",
         "x": [
          "2022-12-27 00:00:00.000000",
          "2022-12-28 00:00:00.000000",
          "2022-12-29 00:00:00.000000",
          "2022-12-30 00:00:00.000000",
          "2022-12-31 00:00:00.000000",
          "2023-01-01 00:00:00.000000",
          "2023-01-02 00:00:00.000000",
          "2023-01-03 00:00:00.000000",
          "2023-01-04 00:00:00.000000",
          "2023-01-05 00:00:00.000000",
          "2023-01-06 00:00:00.000000",
          "2023-01-07 00:00:00.000000",
          "2023-01-08 00:00:00.000000",
          "2023-01-09 00:00:00.000000",
          "2023-01-10 00:00:00.000000",
          "2023-01-11 00:00:00.000000",
          "2023-01-12 00:00:00.000000",
          "2023-01-13 00:00:00.000000",
          "2023-01-14 00:00:00.000000",
          "2023-01-15 00:00:00.000000",
          "2023-01-16 00:00:00.000000",
          "2023-01-17 00:00:00.000000",
          "2023-01-18 00:00:00.000000",
          "2023-01-19 00:00:00.000000",
          "2023-01-20 00:00:00.000000",
          "2023-01-21 00:00:00.000000",
          "2023-01-22 00:00:00.000000",
          "2023-01-23 00:00:00.000000",
          "2023-01-24 00:00:00.000000",
          "2023-01-25 00:00:00.000000",
          "2023-01-26 00:00:00.000000",
          "2023-01-27 00:00:00.000000",
          "2023-01-28 00:00:00.000000",
          "2023-01-29 00:00:00.000000",
          "2023-01-30 00:00:00.000000",
          "2023-01-31 00:00:00.000000",
          "2023-02-01 00:00:00.000000",
          "2023-02-02 00:00:00.000000",
          "2023-02-03 00:00:00.000000",
          "2023-02-04 00:00:00.000000",
          "2023-02-05 00:00:00.000000",
          "2023-02-06 00:00:00.000000"
         ],
         "xaxis": "x3",
         "y": [
          16919.39,
          16706.36,
          16547.31,
          16633.47,
          16607.48,
          16542.4,
          16616.75,
          16672.87,
          16675.18,
          16850.36,
          16831.85,
          16950.65,
          16943.57,
          17127.83,
          17178.26,
          17440.66,
          17943.26,
          18846.62,
          19930.01,
          20954.92,
          20871.5,
          21185.65,
          21134.81,
          20677.47,
          21071.59,
          22667.21,
          22783.55,
          22707.88,
          22916.45,
          22632.89,
          23060.94,
          23009.65,
          23074.16,
          23022.6,
          23742.3,
          22826.15,
          23125.13,
          23732.66,
          23488.94,
          23431.9,
          23326.84,
          22932.91
         ],
         "yaxis": "y3"
        },
        {
         "legendgroup": "3",
         "marker": {
          "color": "#228b22",
          "size": 10,
          "symbol": "circle"
         },
         "mode": "markers",
         "name": "Long",
         "type": "scatter",
         "x": [
          "2023-01-10 00:00:00.000000",
          "2023-01-11 00:00:00.000000",
          "2023-01-12 00:00:00.000000",
          "2023-01-15 00:00:00.000000",
          "2023-01-16 00:00:00.000000",
          "2023-01-17 00:00:00.000000",
          "2023-01-18 00:00:00.000000",
          "2023-01-19 00:00:00.000000",
          "2023-01-20 00:00:00.000000",
          "2023-01-21 00:00:00.000000",
          "2023-01-22 00:00:00.000000",
          "2023-01-23 00:00:00.000000",
          "2023-01-24 00:00:00.000000",
          "2023-01-25 00:00:00.000000",
          "2023-01-26 00:00:00.000000",
          "2023-01-27 00:00:00.000000",
          "2023-01-28 00:00:00.000000",
          "2023-01-29 00:00:00.000000",
          "2023-01-30 00:00:00.000000",
          "2023-01-31 00:00:00.000000",
          "2023-02-01 00:00:00.000000",
          "2023-02-02 00:00:00.000000",
          "2023-02-03 00:00:00.000000",
          "2023-02-04 00:00:00.000000",
          "2023-02-05 00:00:00.000000",
          "2023-02-06 00:00:00.000000"
         ],
         "xaxis": "x3",
         "y": [
          17178.26,
          17440.66,
          17943.26,
          20954.92,
          20871.5,
          21185.65,
          21134.81,
          20677.47,
          21071.59,
          22667.21,
          22783.55,
          22707.88,
          22916.45,
          22632.89,
          23060.94,
          23009.65,
          23074.16,
          23022.6,
          23742.3,
          22826.15,
          23125.13,
          23732.66,
          23488.94,
          23431.9,
          23326.84,
          22932.91
         ],
         "yaxis": "y3"
        },
        {
         "legendgroup": "3",
         "marker": {
          "color": "#c83232",
          "size": 10,
          "symbol": "circle"
         },
         "mode": "markers",
         "name": "Short",
         "type": "scatter",
         "x": [
          "2023-01-02 00:00:00.000000",
          "2023-01-03 00:00:00.000000",
          "2023-01-04 00:00:00.000000",
          "2023-01-05 00:00:00.000000",
          "2023-01-06 00:00:00.000000",
          "2023-01-07 00:00:00.000000",
          "2023-01-08 00:00:00.000000",
          "2023-01-09 00:00:00.000000",
          "2023-01-13 00:00:00.000000",
          "2023-01-14 00:00:00.000000"
         ],
         "xaxis": "x3",
         "y": [
          16616.75,
          16672.87,
          16675.18,
          16850.36,
          16831.85,
          16950.65,
          16943.57,
          17127.83,
          18846.62,
          19930.01
         ],
         "yaxis": "y3"
        }
       ],
       "layout": {
        "annotations": [
         {
          "font": {
           "size": 16
          },
          "showarrow": false,
          "text": "sim_id: 5 | model_type: DQN | Total Profit percentage -4.55%",
          "x": 0.5,
          "xanchor": "center",
          "xref": "paper",
          "y": 0.4375,
          "yanchor": "bottom",
          "yref": "paper"
         }
        ],
        "height": 800,
        "legend": {
         "tracegroupgap": 125
        },
        "template": {
         "data": {
          "bar": [
           {
            "error_x": {
             "color": "#2a3f5f"
            },
            "error_y": {
             "color": "#2a3f5f"
            },
            "marker": {
             "line": {
              "color": "#E5ECF6",
              "width": 0.5
             },
             "pattern": {
              "fillmode": "overlay",
              "size": 10,
              "solidity": 0.2
             }
            },
            "type": "bar"
           }
          ],
          "barpolar": [
           {
            "marker": {
             "line": {
              "color": "#E5ECF6",
              "width": 0.5
             },
             "pattern": {
              "fillmode": "overlay",
              "size": 10,
              "solidity": 0.2
             }
            },
            "type": "barpolar"
           }
          ],
          "carpet": [
           {
            "aaxis": {
             "endlinecolor": "#2a3f5f",
             "gridcolor": "white",
             "linecolor": "white",
             "minorgridcolor": "white",
             "startlinecolor": "#2a3f5f"
            },
            "baxis": {
             "endlinecolor": "#2a3f5f",
             "gridcolor": "white",
             "linecolor": "white",
             "minorgridcolor": "white",
             "startlinecolor": "#2a3f5f"
            },
            "type": "carpet"
           }
          ],
          "choropleth": [
           {
            "colorbar": {
             "outlinewidth": 0,
             "ticks": ""
            },
            "type": "choropleth"
           }
          ],
          "contour": [
           {
            "colorbar": {
             "outlinewidth": 0,
             "ticks": ""
            },
            "colorscale": [
             [
              0,
              "#0d0887"
             ],
             [
              0.1111111111111111,
              "#46039f"
             ],
             [
              0.2222222222222222,
              "#7201a8"
             ],
             [
              0.3333333333333333,
              "#9c179e"
             ],
             [
              0.4444444444444444,
              "#bd3786"
             ],
             [
              0.5555555555555556,
              "#d8576b"
             ],
             [
              0.6666666666666666,
              "#ed7953"
             ],
             [
              0.7777777777777778,
              "#fb9f3a"
             ],
             [
              0.8888888888888888,
              "#fdca26"
             ],
             [
              1,
              "#f0f921"
             ]
            ],
            "type": "contour"
           }
          ],
          "contourcarpet": [
           {
            "colorbar": {
             "outlinewidth": 0,
             "ticks": ""
            },
            "type": "contourcarpet"
           }
          ],
          "heatmap": [
           {
            "colorbar": {
             "outlinewidth": 0,
             "ticks": ""
            },
            "colorscale": [
             [
              0,
              "#0d0887"
             ],
             [
              0.1111111111111111,
              "#46039f"
             ],
             [
              0.2222222222222222,
              "#7201a8"
             ],
             [
              0.3333333333333333,
              "#9c179e"
             ],
             [
              0.4444444444444444,
              "#bd3786"
             ],
             [
              0.5555555555555556,
              "#d8576b"
             ],
             [
              0.6666666666666666,
              "#ed7953"
             ],
             [
              0.7777777777777778,
              "#fb9f3a"
             ],
             [
              0.8888888888888888,
              "#fdca26"
             ],
             [
              1,
              "#f0f921"
             ]
            ],
            "type": "heatmap"
           }
          ],
          "heatmapgl": [
           {
            "colorbar": {
             "outlinewidth": 0,
             "ticks": ""
            },
            "colorscale": [
             [
              0,
              "#0d0887"
             ],
             [
              0.1111111111111111,
              "#46039f"
             ],
             [
              0.2222222222222222,
              "#7201a8"
             ],
             [
              0.3333333333333333,
              "#9c179e"
             ],
             [
              0.4444444444444444,
              "#bd3786"
             ],
             [
              0.5555555555555556,
              "#d8576b"
             ],
             [
              0.6666666666666666,
              "#ed7953"
             ],
             [
              0.7777777777777778,
              "#fb9f3a"
             ],
             [
              0.8888888888888888,
              "#fdca26"
             ],
             [
              1,
              "#f0f921"
             ]
            ],
            "type": "heatmapgl"
           }
          ],
          "histogram": [
           {
            "marker": {
             "pattern": {
              "fillmode": "overlay",
              "size": 10,
              "solidity": 0.2
             }
            },
            "type": "histogram"
           }
          ],
          "histogram2d": [
           {
            "colorbar": {
             "outlinewidth": 0,
             "ticks": ""
            },
            "colorscale": [
             [
              0,
              "#0d0887"
             ],
             [
              0.1111111111111111,
              "#46039f"
             ],
             [
              0.2222222222222222,
              "#7201a8"
             ],
             [
              0.3333333333333333,
              "#9c179e"
             ],
             [
              0.4444444444444444,
              "#bd3786"
             ],
             [
              0.5555555555555556,
              "#d8576b"
             ],
             [
              0.6666666666666666,
              "#ed7953"
             ],
             [
              0.7777777777777778,
              "#fb9f3a"
             ],
             [
              0.8888888888888888,
              "#fdca26"
             ],
             [
              1,
              "#f0f921"
             ]
            ],
            "type": "histogram2d"
           }
          ],
          "histogram2dcontour": [
           {
            "colorbar": {
             "outlinewidth": 0,
             "ticks": ""
            },
            "colorscale": [
             [
              0,
              "#0d0887"
             ],
             [
              0.1111111111111111,
              "#46039f"
             ],
             [
              0.2222222222222222,
              "#7201a8"
             ],
             [
              0.3333333333333333,
              "#9c179e"
             ],
             [
              0.4444444444444444,
              "#bd3786"
             ],
             [
              0.5555555555555556,
              "#d8576b"
             ],
             [
              0.6666666666666666,
              "#ed7953"
             ],
             [
              0.7777777777777778,
              "#fb9f3a"
             ],
             [
              0.8888888888888888,
              "#fdca26"
             ],
             [
              1,
              "#f0f921"
             ]
            ],
            "type": "histogram2dcontour"
           }
          ],
          "mesh3d": [
           {
            "colorbar": {
             "outlinewidth": 0,
             "ticks": ""
            },
            "type": "mesh3d"
           }
          ],
          "parcoords": [
           {
            "line": {
             "colorbar": {
              "outlinewidth": 0,
              "ticks": ""
             }
            },
            "type": "parcoords"
           }
          ],
          "pie": [
           {
            "automargin": true,
            "type": "pie"
           }
          ],
          "scatter": [
           {
            "fillpattern": {
             "fillmode": "overlay",
             "size": 10,
             "solidity": 0.2
            },
            "type": "scatter"
           }
          ],
          "scatter3d": [
           {
            "line": {
             "colorbar": {
              "outlinewidth": 0,
              "ticks": ""
             }
            },
            "marker": {
             "colorbar": {
              "outlinewidth": 0,
              "ticks": ""
             }
            },
            "type": "scatter3d"
           }
          ],
          "scattercarpet": [
           {
            "marker": {
             "colorbar": {
              "outlinewidth": 0,
              "ticks": ""
             }
            },
            "type": "scattercarpet"
           }
          ],
          "scattergeo": [
           {
            "marker": {
             "colorbar": {
              "outlinewidth": 0,
              "ticks": ""
             }
            },
            "type": "scattergeo"
           }
          ],
          "scattergl": [
           {
            "marker": {
             "colorbar": {
              "outlinewidth": 0,
              "ticks": ""
             }
            },
            "type": "scattergl"
           }
          ],
          "scattermapbox": [
           {
            "marker": {
             "colorbar": {
              "outlinewidth": 0,
              "ticks": ""
             }
            },
            "type": "scattermapbox"
           }
          ],
          "scatterpolar": [
           {
            "marker": {
             "colorbar": {
              "outlinewidth": 0,
              "ticks": ""
             }
            },
            "type": "scatterpolar"
           }
          ],
          "scatterpolargl": [
           {
            "marker": {
             "colorbar": {
              "outlinewidth": 0,
              "ticks": ""
             }
            },
            "type": "scatterpolargl"
           }
          ],
          "scatterternary": [
           {
            "marker": {
             "colorbar": {
              "outlinewidth": 0,
              "ticks": ""
             }
            },
            "type": "scatterternary"
           }
          ],
          "surface": [
           {
            "colorbar": {
             "outlinewidth": 0,
             "ticks": ""
            },
            "colorscale": [
             [
              0,
              "#0d0887"
             ],
             [
              0.1111111111111111,
              "#46039f"
             ],
             [
              0.2222222222222222,
              "#7201a8"
             ],
             [
              0.3333333333333333,
              "#9c179e"
             ],
             [
              0.4444444444444444,
              "#bd3786"
             ],
             [
              0.5555555555555556,
              "#d8576b"
             ],
             [
              0.6666666666666666,
              "#ed7953"
             ],
             [
              0.7777777777777778,
              "#fb9f3a"
             ],
             [
              0.8888888888888888,
              "#fdca26"
             ],
             [
              1,
              "#f0f921"
             ]
            ],
            "type": "surface"
           }
          ],
          "table": [
           {
            "cells": {
             "fill": {
              "color": "#EBF0F8"
             },
             "line": {
              "color": "white"
             }
            },
            "header": {
             "fill": {
              "color": "#C8D4E3"
             },
             "line": {
              "color": "white"
             }
            },
            "type": "table"
           }
          ]
         },
         "layout": {
          "annotationdefaults": {
           "arrowcolor": "#2a3f5f",
           "arrowhead": 0,
           "arrowwidth": 1
          },
          "autotypenumbers": "strict",
          "coloraxis": {
           "colorbar": {
            "outlinewidth": 0,
            "ticks": ""
           }
          },
          "colorscale": {
           "diverging": [
            [
             0,
             "#8e0152"
            ],
            [
             0.1,
             "#c51b7d"
            ],
            [
             0.2,
             "#de77ae"
            ],
            [
             0.3,
             "#f1b6da"
            ],
            [
             0.4,
             "#fde0ef"
            ],
            [
             0.5,
             "#f7f7f7"
            ],
            [
             0.6,
             "#e6f5d0"
            ],
            [
             0.7,
             "#b8e186"
            ],
            [
             0.8,
             "#7fbc41"
            ],
            [
             0.9,
             "#4d9221"
            ],
            [
             1,
             "#276419"
            ]
           ],
           "sequential": [
            [
             0,
             "#0d0887"
            ],
            [
             0.1111111111111111,
             "#46039f"
            ],
            [
             0.2222222222222222,
             "#7201a8"
            ],
            [
             0.3333333333333333,
             "#9c179e"
            ],
            [
             0.4444444444444444,
             "#bd3786"
            ],
            [
             0.5555555555555556,
             "#d8576b"
            ],
            [
             0.6666666666666666,
             "#ed7953"
            ],
            [
             0.7777777777777778,
             "#fb9f3a"
            ],
            [
             0.8888888888888888,
             "#fdca26"
            ],
            [
             1,
             "#f0f921"
            ]
           ],
           "sequentialminus": [
            [
             0,
             "#0d0887"
            ],
            [
             0.1111111111111111,
             "#46039f"
            ],
            [
             0.2222222222222222,
             "#7201a8"
            ],
            [
             0.3333333333333333,
             "#9c179e"
            ],
            [
             0.4444444444444444,
             "#bd3786"
            ],
            [
             0.5555555555555556,
             "#d8576b"
            ],
            [
             0.6666666666666666,
             "#ed7953"
            ],
            [
             0.7777777777777778,
             "#fb9f3a"
            ],
            [
             0.8888888888888888,
             "#fdca26"
            ],
            [
             1,
             "#f0f921"
            ]
           ]
          },
          "colorway": [
           "#636efa",
           "#EF553B",
           "#00cc96",
           "#ab63fa",
           "#FFA15A",
           "#19d3f3",
           "#FF6692",
           "#B6E880",
           "#FF97FF",
           "#FECB52"
          ],
          "font": {
           "color": "#2a3f5f"
          },
          "geo": {
           "bgcolor": "white",
           "lakecolor": "white",
           "landcolor": "#E5ECF6",
           "showlakes": true,
           "showland": true,
           "subunitcolor": "white"
          },
          "hoverlabel": {
           "align": "left"
          },
          "hovermode": "closest",
          "mapbox": {
           "style": "light"
          },
          "paper_bgcolor": "white",
          "plot_bgcolor": "#E5ECF6",
          "polar": {
           "angularaxis": {
            "gridcolor": "white",
            "linecolor": "white",
            "ticks": ""
           },
           "bgcolor": "#E5ECF6",
           "radialaxis": {
            "gridcolor": "white",
            "linecolor": "white",
            "ticks": ""
           }
          },
          "scene": {
           "xaxis": {
            "backgroundcolor": "#E5ECF6",
            "gridcolor": "white",
            "gridwidth": 2,
            "linecolor": "white",
            "showbackground": true,
            "ticks": "",
            "zerolinecolor": "white"
           },
           "yaxis": {
            "backgroundcolor": "#E5ECF6",
            "gridcolor": "white",
            "gridwidth": 2,
            "linecolor": "white",
            "showbackground": true,
            "ticks": "",
            "zerolinecolor": "white"
           },
           "zaxis": {
            "backgroundcolor": "#E5ECF6",
            "gridcolor": "white",
            "gridwidth": 2,
            "linecolor": "white",
            "showbackground": true,
            "ticks": "",
            "zerolinecolor": "white"
           }
          },
          "shapedefaults": {
           "line": {
            "color": "#2a3f5f"
           }
          },
          "ternary": {
           "aaxis": {
            "gridcolor": "white",
            "linecolor": "white",
            "ticks": ""
           },
           "baxis": {
            "gridcolor": "white",
            "linecolor": "white",
            "ticks": ""
           },
           "bgcolor": "#E5ECF6",
           "caxis": {
            "gridcolor": "white",
            "linecolor": "white",
            "ticks": ""
           }
          },
          "title": {
           "x": 0.05
          },
          "xaxis": {
           "automargin": true,
           "gridcolor": "white",
           "linecolor": "white",
           "ticks": "",
           "title": {
            "standoff": 15
           },
           "zerolinecolor": "white",
           "zerolinewidth": 2
          },
          "yaxis": {
           "automargin": true,
           "gridcolor": "white",
           "linecolor": "white",
           "ticks": "",
           "title": {
            "standoff": 15
           },
           "zerolinecolor": "white",
           "zerolinewidth": 2
          }
         }
        },
        "title": {
         "text": "The median profit percentage results per model",
         "x": 0.5
        },
        "width": 1200,
        "xaxis": {
         "anchor": "y",
         "domain": [
          0,
          1
         ],
         "matches": "x4",
         "showticklabels": false,
         "title": {
          "standoff": 25,
          "text": "Dates"
         }
        },
        "xaxis2": {
         "anchor": "y2",
         "domain": [
          0,
          1
         ],
         "matches": "x4",
         "showticklabels": false,
         "title": {
          "standoff": 25,
          "text": "Dates"
         }
        },
        "xaxis3": {
         "anchor": "y3",
         "domain": [
          0,
          1
         ],
         "matches": "x4",
         "showticklabels": false,
         "title": {
          "standoff": 25,
          "text": "Dates"
         }
        },
        "xaxis4": {
         "anchor": "y4",
         "domain": [
          0,
          1
         ],
         "title": {
          "standoff": 25,
          "text": "Dates"
         }
        },
        "yaxis": {
         "anchor": "x",
         "domain": [
          0.84375,
          1
         ],
         "matches": "y4",
         "title": {
          "standoff": 25,
          "text": ""
         }
        },
        "yaxis2": {
         "anchor": "x2",
         "domain": [
          0.5625,
          0.71875
         ],
         "matches": "y4",
         "title": {
          "standoff": 25,
          "text": ""
         }
        },
        "yaxis3": {
         "anchor": "x3",
         "domain": [
          0.28125,
          0.4375
         ],
         "matches": "y4",
         "title": {
          "standoff": 25,
          "text": ""
         }
        },
        "yaxis4": {
         "anchor": "x4",
         "domain": [
          0,
          0.15625
         ],
         "title": {
          "standoff": 25,
          "text": ""
         }
        }
       }
      }
     },
     "metadata": {},
     "output_type": "display_data"
    }
   ],
   "source": [
    "plot_robot_actions_all_models(config_file_name_without_extension, \"\", \"\", median_sim_id_DQN, \"\")"
   ]
  },
  {
   "cell_type": "code",
   "execution_count": 24,
   "metadata": {},
   "outputs": [],
   "source": [
    "def get_and_process_trader_robot_actions_and_env_data_all_sim_id(config_file_name_without_extension):\n",
    "    try:\n",
    "        \n",
    "        # Get the data\n",
    "        db_address = 'sqlite:///../results/data/db/trader.db'\n",
    "        engine = create_engine(db_address, echo=False)\n",
    "        sqlite_connection = engine.connect()\n",
    "\n",
    "        input_tbl_name = \"tbl_trader_bernardo_robot_actions_and_env\" + \"_\" + config_file_name_without_extension\n",
    "        \n",
    "        sql_command = \"SELECT * FROM \" + input_tbl_name + \" AS t1 \"\n",
    "        \n",
    "        sql_append = \"LEFT JOIN (SELECT sim_id, model_type FROM tbl_trader_bernardo_simulation_results_config_03a_mix_infer) AS t2 ON t1.sim_id = t2.sim_id\"\n",
    "        \n",
    "        sql_command = sql_command + sql_append\n",
    "\n",
    "        df = pd.read_sql(sql_command, sqlite_connection)\n",
    "\n",
    "        sqlite_connection.close()\n",
    "\n",
    "        return df\n",
    "\n",
    "    except Exception as e:\n",
    "        print(e)"
   ]
  },
  {
   "cell_type": "code",
   "execution_count": 25,
   "metadata": {},
   "outputs": [],
   "source": [
    "def plot_trader_robot_actions_all_sim_id_all_models(config_file_name_without_extension, sim_id_A2C, sim_id_PPO, sim_id_DQN, sim_id_RANDOM):\n",
    "    \n",
    "    df_robot_actions_and_env_all_sim_id = get_and_process_trader_robot_actions_and_env_data_all_sim_id(config_file_name_without_extension)\n",
    "\n",
    "    # df_robot_actions_and_env_all_sim_id_A2C = df_robot_actions_and_env_all_sim_id[df_robot_actions_and_env_all_sim_id['model_type'] == 'A2C']\n",
    "    # df_robot_actions_and_env_all_sim_id_PPO = df_robot_actions_and_env_all_sim_id[df_robot_actions_and_env_all_sim_id['model_type'] == 'PPO']\n",
    "    df_robot_actions_and_env_all_sim_id_DQN = df_robot_actions_and_env_all_sim_id[df_robot_actions_and_env_all_sim_id['model_type'] == 'DQN']\n",
    "    # df_robot_actions_and_env_all_sim_id_RANDOM = df_robot_actions_and_env_all_sim_id[df_robot_actions_and_env_all_sim_id['model_type'] == 'RANDOM']    \n",
    "\n",
    "    # df_model_type_action_count_A2C = df_robot_actions_and_env_all_sim_id_A2C.assign(val=1).pivot_table(values='val', index=['dates'], columns=['model_type', 'actions'], aggfunc='count').stack(0).reset_index()\n",
    "    # df_model_type_action_count_A2C.rename(columns = {0.0:'action_short_count', 1.0:'action_long_count'}, inplace = True)\n",
    "\n",
    "    # df_model_type_action_count_PPO = df_robot_actions_and_env_all_sim_id_PPO.assign(val=1).pivot_table(values='val', index=['dates'], columns=['model_type', 'actions'], aggfunc='count').stack(0).reset_index()\n",
    "    # df_model_type_action_count_PPO.rename(columns = {0.0:'action_short_count', 1.0:'action_long_count'}, inplace = True)\n",
    "\n",
    "    df_model_type_action_count_DQN = df_robot_actions_and_env_all_sim_id_DQN.assign(val=1).pivot_table(values='val', index=['dates'], columns=['model_type', 'actions'], aggfunc='count').stack(0).reset_index()\n",
    "    df_model_type_action_count_DQN.rename(columns = {0.0:'action_short_count', 1.0:'action_long_count'}, inplace = True)\n",
    "\n",
    "    # df_model_type_action_count_RANDOM = df_robot_actions_and_env_all_sim_id_RANDOM.assign(val=1).pivot_table(values='val', index=['dates'], columns=['model_type', 'actions'], aggfunc='count').stack(0).reset_index()\n",
    "    # df_model_type_action_count_RANDOM.rename(columns = {0.0:'action_short_count', 1.0:'action_long_count'}, inplace = True)        \n",
    "\n",
    "    # df_robot_actions_sim_id_A2C = get_and_process_trader_robot_actions_and_env_data_one_sim_id(config_file_name_without_extension, sim_id_A2C)\n",
    "    # df_robot_actions_sim_id_PPO = get_and_process_trader_robot_actions_and_env_data_one_sim_id(config_file_name_without_extension, sim_id_PPO)\n",
    "    df_robot_actions_sim_id_DQN = get_and_process_trader_robot_actions_and_env_data_one_sim_id(config_file_name_without_extension, sim_id_DQN)\n",
    "    # df_robot_actions_sim_id_RANDOM = get_and_process_trader_robot_actions_and_env_data_one_sim_id(config_file_name_without_extension, sim_id_RANDOM)\n",
    "\n",
    "    # df_simulation_sim_id_A2C = df_trader_results[df_trader_results['sim_id'] == sim_id_A2C]\n",
    "    # df_simulation_sim_id_PPO = df_trader_results[df_trader_results['sim_id'] == sim_id_PPO]\n",
    "    df_simulation_sim_id_DQN = df_trader_results[df_trader_results['sim_id'] == sim_id_DQN]\n",
    "    # df_simulation_sim_id_RANDOM = df_trader_results[df_trader_results['sim_id'] == sim_id_RANDOM]\n",
    "\n",
    "    # str_title_A2C = f\"Median sim_id: {sim_id_A2C} | model_type: {df_simulation_sim_id_A2C.model_type.values[0]} | Total Profit percentage {round(df_simulation_sim_id_A2C.fmt_total_profit_percentage.values[0],2)}%\"\n",
    "    # str_title_PPO = f\"Median sim_id: {sim_id_PPO} | model_type: {df_simulation_sim_id_PPO.model_type.values[0]} | Total Profit percentage {round(df_simulation_sim_id_PPO.fmt_total_profit_percentage.values[0],2)}%\"\n",
    "    str_title_DQN = f\"Median sim_id: {sim_id_DQN} | model_type: {df_simulation_sim_id_DQN.model_type.values[0]} | Total Profit percentage {round(df_simulation_sim_id_DQN.fmt_total_profit_percentage.values[0],2)}%\"\n",
    "    # str_title_RANDOM = f\"Median sim_id: {sim_id_RANDOM} | model_type: {df_simulation_sim_id_RANDOM.model_type.values[0]} | Total Profit percentage {round(df_simulation_sim_id_RANDOM.fmt_total_profit_percentage.values[0],2)}%\"\n",
    "\n",
    "    str_title = f\"Median Total Profit Results x Overall view of actions (across all the simulations)\"\n",
    "\n",
    "    fig = make_subplots(rows=4, cols=1, subplot_titles=(\"\", \"\", str_title_DQN, \"\"), shared_xaxes='all', shared_yaxes='all', specs=[[{\"secondary_y\": True}], [{\"secondary_y\": True}], [{\"secondary_y\": True}], [{\"secondary_y\": True}]]) \n",
    "\n",
    "    # fig.add_trace(go.Scatter(name='Price', x=df_robot_actions_sim_id_A2C[\"dates\"], y=df_robot_actions_sim_id_A2C[\"prices\"], mode='lines', marker_color='#969696', legendgroup = '1'), row=1, col=1, secondary_y=True)\n",
    "    # fig.add_trace(go.Scatter(name='Long', x=df_robot_actions_sim_id_A2C[df_robot_actions_sim_id_A2C['actions'] == 1]['dates'], y=df_robot_actions_sim_id_A2C[df_robot_actions_sim_id_A2C['actions'] == 1]['prices'], mode='markers', marker_symbol='circle', marker_size=10, marker_color='#228b22', legendgroup = '1'), row=1, col=1, secondary_y=True)\n",
    "    # fig.add_trace(go.Scatter(name='Short', x=df_robot_actions_sim_id_A2C[df_robot_actions_sim_id_A2C['actions'] == 0]['dates'], y=df_robot_actions_sim_id_A2C[df_robot_actions_sim_id_A2C['actions'] == 0]['prices'], mode='markers', marker_symbol='circle', marker_size=10, marker_color='#c83232', legendgroup = '1'), row=1, col=1, secondary_y=True)\n",
    "\n",
    "    # fig.add_trace(go.Bar(x=df_model_type_action_count_A2C['dates'], y=df_model_type_action_count_A2C['action_long_count'], name='Long', marker_color=' #b3ffb3', legendgroup = '1'), row=1, col=1, secondary_y=False)\n",
    "    # fig.add_trace(go.Bar(x=df_model_type_action_count_A2C['dates'], y=df_model_type_action_count_A2C['action_short_count'], name='Short', marker_color='#ffb2b2', legendgroup = '1'), row=1, col=1, secondary_y=False)\n",
    "\n",
    "    # fig.add_trace(go.Scatter(name='Price', x=df_robot_actions_sim_id_PPO[\"dates\"], y=df_robot_actions_sim_id_PPO[\"prices\"], mode='lines', marker_color='#969696', legendgroup = '2'), row=2, col=1, secondary_y=True)\n",
    "    # fig.add_trace(go.Scatter(name='Long', x=df_robot_actions_sim_id_PPO[df_robot_actions_sim_id_PPO['actions'] == 1]['dates'], y=df_robot_actions_sim_id_PPO[df_robot_actions_sim_id_PPO['actions'] == 1]['prices'], mode='markers', marker_symbol='circle', marker_size=10, marker_color='#228b22', legendgroup = '2'), row=2, col=1, secondary_y=True)\n",
    "    # fig.add_trace(go.Scatter(name='Short', x=df_robot_actions_sim_id_PPO[df_robot_actions_sim_id_PPO['actions'] == 0]['dates'], y=df_robot_actions_sim_id_PPO[df_robot_actions_sim_id_PPO['actions'] == 0]['prices'], mode='markers', marker_symbol='circle', marker_size=10, marker_color='#c83232', legendgroup = '2'), row=2, col=1, secondary_y=True)\n",
    "\n",
    "    # fig.add_trace(go.Bar(x=df_model_type_action_count_PPO['dates'], y=df_model_type_action_count_PPO['action_long_count'], name='Long', marker_color=' #b3ffb3', legendgroup = '2'), row=2, col=1, secondary_y=False)\n",
    "    # fig.add_trace(go.Bar(x=df_model_type_action_count_PPO['dates'], y=df_model_type_action_count_PPO['action_short_count'], name='Short', marker_color='#ffb2b2', legendgroup = '2'), row=2, col=1, secondary_y=False)\n",
    "\n",
    "    fig.add_trace(go.Scatter(name='Price', x=df_robot_actions_sim_id_DQN[\"dates\"], y=df_robot_actions_sim_id_DQN[\"prices\"], mode='lines', marker_color='#969696', legendgroup = '3'), row=3, col=1, secondary_y=True)\n",
    "    fig.add_trace(go.Scatter(name='Long', x=df_robot_actions_sim_id_DQN[df_robot_actions_sim_id_DQN['actions'] == 1]['dates'], y=df_robot_actions_sim_id_DQN[df_robot_actions_sim_id_DQN['actions'] == 1]['prices'], mode='markers', marker_symbol='circle', marker_size=10, marker_color='#228b22', legendgroup = '3'), row=3, col=1, secondary_y=True)\n",
    "    fig.add_trace(go.Scatter(name='Short', x=df_robot_actions_sim_id_DQN[df_robot_actions_sim_id_DQN['actions'] == 0]['dates'], y=df_robot_actions_sim_id_DQN[df_robot_actions_sim_id_DQN['actions'] == 0]['prices'], mode='markers', marker_symbol='circle', marker_size=10, marker_color='#c83232', legendgroup = '3'), row=3, col=1, secondary_y=True)\n",
    "\n",
    "    fig.add_trace(go.Bar(x=df_model_type_action_count_DQN['dates'], y=df_model_type_action_count_DQN['action_long_count'], name='Long', marker_color=' #b3ffb3', legendgroup = '3'), row=3, col=1, secondary_y=False)\n",
    "    fig.add_trace(go.Bar(x=df_model_type_action_count_DQN['dates'], y=df_model_type_action_count_DQN['action_short_count'], name='Short', marker_color='#ffb2b2', legendgroup = '3'), row=3, col=1, secondary_y=False)\n",
    "\n",
    "    # fig.add_trace(go.Scatter(name='Price', x=df_robot_actions_sim_id_RANDOM[\"dates\"], y=df_robot_actions_sim_id_RANDOM[\"prices\"], mode='lines', marker_color='#969696', legendgroup = '4'), row=4, col=1, secondary_y=True)\n",
    "    # fig.add_trace(go.Scatter(name='Long', x=df_robot_actions_sim_id_RANDOM[df_robot_actions_sim_id_RANDOM['actions'] == 1]['dates'], y=df_robot_actions_sim_id_RANDOM[df_robot_actions_sim_id_RANDOM['actions'] == 1]['prices'], mode='markers', marker_symbol='circle', marker_size=10, marker_color='#228b22', legendgroup = '4'), row=4, col=1, secondary_y=True)\n",
    "    # fig.add_trace(go.Scatter(name='Short', x=df_robot_actions_sim_id_RANDOM[df_robot_actions_sim_id_RANDOM['actions'] == 0]['dates'], y=df_robot_actions_sim_id_RANDOM[df_robot_actions_sim_id_RANDOM['actions'] == 0]['prices'], mode='markers', marker_symbol='circle', marker_size=10, marker_color='#c83232', legendgroup = '4'), row=4, col=1, secondary_y=True)\n",
    "\n",
    "    # fig.add_trace(go.Bar(x=df_model_type_action_count_RANDOM['dates'], y=df_model_type_action_count_RANDOM['action_long_count'], name='Long', marker_color=' #b3ffb3', legendgroup = '4'), row=4, col=1, secondary_y=False)\n",
    "    # fig.add_trace(go.Bar(x=df_model_type_action_count_RANDOM['dates'], y=df_model_type_action_count_RANDOM['action_short_count'], name='Short', marker_color='#ffb2b2', legendgroup = '4'), row=4, col=1, secondary_y=False)\n",
    "\n",
    "    fig.update_yaxes(title_text=\"Proportion of trades<br>across all the simulations\", secondary_y=False)\n",
    "    fig.update_yaxes(title_text=f\"CCY level with the<br>sim_id actions related\", secondary_y=True)\n",
    "\n",
    "    fig.update_layout(barmode='stack', xaxis={'categoryorder':'category ascending'}, title=str_title, title_x=0.5, width=1200, height=800, legend_tracegroupgap=82, font={'size': 8})\n",
    "\n",
    "    fig.show()    "
   ]
  },
  {
   "cell_type": "code",
   "execution_count": 26,
   "metadata": {},
   "outputs": [
    {
     "data": {
      "application/vnd.plotly.v1+json": {
       "config": {
        "plotlyServerURL": "https://plot.ly"
       },
       "data": [
        {
         "legendgroup": "3",
         "marker": {
          "color": "#969696"
         },
         "mode": "lines",
         "name": "Price",
         "type": "scatter",
         "x": [
          "2022-12-27 00:00:00.000000",
          "2022-12-28 00:00:00.000000",
          "2022-12-29 00:00:00.000000",
          "2022-12-30 00:00:00.000000",
          "2022-12-31 00:00:00.000000",
          "2023-01-01 00:00:00.000000",
          "2023-01-02 00:00:00.000000",
          "2023-01-03 00:00:00.000000",
          "2023-01-04 00:00:00.000000",
          "2023-01-05 00:00:00.000000",
          "2023-01-06 00:00:00.000000",
          "2023-01-07 00:00:00.000000",
          "2023-01-08 00:00:00.000000",
          "2023-01-09 00:00:00.000000",
          "2023-01-10 00:00:00.000000",
          "2023-01-11 00:00:00.000000",
          "2023-01-12 00:00:00.000000",
          "2023-01-13 00:00:00.000000",
          "2023-01-14 00:00:00.000000",
          "2023-01-15 00:00:00.000000",
          "2023-01-16 00:00:00.000000",
          "2023-01-17 00:00:00.000000",
          "2023-01-18 00:00:00.000000",
          "2023-01-19 00:00:00.000000",
          "2023-01-20 00:00:00.000000",
          "2023-01-21 00:00:00.000000",
          "2023-01-22 00:00:00.000000",
          "2023-01-23 00:00:00.000000",
          "2023-01-24 00:00:00.000000",
          "2023-01-25 00:00:00.000000",
          "2023-01-26 00:00:00.000000",
          "2023-01-27 00:00:00.000000",
          "2023-01-28 00:00:00.000000",
          "2023-01-29 00:00:00.000000",
          "2023-01-30 00:00:00.000000",
          "2023-01-31 00:00:00.000000",
          "2023-02-01 00:00:00.000000",
          "2023-02-02 00:00:00.000000",
          "2023-02-03 00:00:00.000000",
          "2023-02-04 00:00:00.000000",
          "2023-02-05 00:00:00.000000",
          "2023-02-06 00:00:00.000000"
         ],
         "xaxis": "x3",
         "y": [
          16919.39,
          16706.36,
          16547.31,
          16633.47,
          16607.48,
          16542.4,
          16616.75,
          16672.87,
          16675.18,
          16850.36,
          16831.85,
          16950.65,
          16943.57,
          17127.83,
          17178.26,
          17440.66,
          17943.26,
          18846.62,
          19930.01,
          20954.92,
          20871.5,
          21185.65,
          21134.81,
          20677.47,
          21071.59,
          22667.21,
          22783.55,
          22707.88,
          22916.45,
          22632.89,
          23060.94,
          23009.65,
          23074.16,
          23022.6,
          23742.3,
          22826.15,
          23125.13,
          23732.66,
          23488.94,
          23431.9,
          23326.84,
          22932.91
         ],
         "yaxis": "y6"
        },
        {
         "legendgroup": "3",
         "marker": {
          "color": "#228b22",
          "size": 10,
          "symbol": "circle"
         },
         "mode": "markers",
         "name": "Long",
         "type": "scatter",
         "x": [
          "2023-01-10 00:00:00.000000",
          "2023-01-11 00:00:00.000000",
          "2023-01-12 00:00:00.000000",
          "2023-01-15 00:00:00.000000",
          "2023-01-16 00:00:00.000000",
          "2023-01-17 00:00:00.000000",
          "2023-01-18 00:00:00.000000",
          "2023-01-19 00:00:00.000000",
          "2023-01-20 00:00:00.000000",
          "2023-01-21 00:00:00.000000",
          "2023-01-22 00:00:00.000000",
          "2023-01-23 00:00:00.000000",
          "2023-01-24 00:00:00.000000",
          "2023-01-25 00:00:00.000000",
          "2023-01-26 00:00:00.000000",
          "2023-01-27 00:00:00.000000",
          "2023-01-28 00:00:00.000000",
          "2023-01-29 00:00:00.000000",
          "2023-01-30 00:00:00.000000",
          "2023-01-31 00:00:00.000000",
          "2023-02-01 00:00:00.000000",
          "2023-02-02 00:00:00.000000",
          "2023-02-03 00:00:00.000000",
          "2023-02-04 00:00:00.000000",
          "2023-02-05 00:00:00.000000",
          "2023-02-06 00:00:00.000000"
         ],
         "xaxis": "x3",
         "y": [
          17178.26,
          17440.66,
          17943.26,
          20954.92,
          20871.5,
          21185.65,
          21134.81,
          20677.47,
          21071.59,
          22667.21,
          22783.55,
          22707.88,
          22916.45,
          22632.89,
          23060.94,
          23009.65,
          23074.16,
          23022.6,
          23742.3,
          22826.15,
          23125.13,
          23732.66,
          23488.94,
          23431.9,
          23326.84,
          22932.91
         ],
         "yaxis": "y6"
        },
        {
         "legendgroup": "3",
         "marker": {
          "color": "#c83232",
          "size": 10,
          "symbol": "circle"
         },
         "mode": "markers",
         "name": "Short",
         "type": "scatter",
         "x": [
          "2023-01-02 00:00:00.000000",
          "2023-01-03 00:00:00.000000",
          "2023-01-04 00:00:00.000000",
          "2023-01-05 00:00:00.000000",
          "2023-01-06 00:00:00.000000",
          "2023-01-07 00:00:00.000000",
          "2023-01-08 00:00:00.000000",
          "2023-01-09 00:00:00.000000",
          "2023-01-13 00:00:00.000000",
          "2023-01-14 00:00:00.000000"
         ],
         "xaxis": "x3",
         "y": [
          16616.75,
          16672.87,
          16675.18,
          16850.36,
          16831.85,
          16950.65,
          16943.57,
          17127.83,
          18846.62,
          19930.01
         ],
         "yaxis": "y6"
        },
        {
         "legendgroup": "3",
         "marker": {
          "color": " #b3ffb3"
         },
         "name": "Long",
         "type": "bar",
         "x": [
          "2023-01-02 00:00:00.000000",
          "2023-01-03 00:00:00.000000",
          "2023-01-04 00:00:00.000000",
          "2023-01-05 00:00:00.000000",
          "2023-01-06 00:00:00.000000",
          "2023-01-07 00:00:00.000000",
          "2023-01-08 00:00:00.000000",
          "2023-01-09 00:00:00.000000",
          "2023-01-10 00:00:00.000000",
          "2023-01-11 00:00:00.000000",
          "2023-01-12 00:00:00.000000",
          "2023-01-13 00:00:00.000000",
          "2023-01-14 00:00:00.000000",
          "2023-01-15 00:00:00.000000",
          "2023-01-16 00:00:00.000000",
          "2023-01-17 00:00:00.000000",
          "2023-01-18 00:00:00.000000",
          "2023-01-19 00:00:00.000000",
          "2023-01-20 00:00:00.000000",
          "2023-01-21 00:00:00.000000",
          "2023-01-22 00:00:00.000000",
          "2023-01-23 00:00:00.000000",
          "2023-01-24 00:00:00.000000",
          "2023-01-25 00:00:00.000000",
          "2023-01-26 00:00:00.000000",
          "2023-01-27 00:00:00.000000",
          "2023-01-28 00:00:00.000000",
          "2023-01-29 00:00:00.000000",
          "2023-01-30 00:00:00.000000",
          "2023-01-31 00:00:00.000000",
          "2023-02-01 00:00:00.000000",
          "2023-02-02 00:00:00.000000",
          "2023-02-03 00:00:00.000000",
          "2023-02-04 00:00:00.000000",
          "2023-02-05 00:00:00.000000",
          "2023-02-06 00:00:00.000000"
         ],
         "xaxis": "x3",
         "y": [
          29,
          31,
          30,
          27,
          34,
          967,
          31,
          35,
          971,
          981,
          967,
          23,
          27,
          970,
          975,
          983,
          972,
          975,
          973,
          971,
          976,
          968,
          976,
          976,
          970,
          968,
          973,
          977,
          978,
          983,
          972,
          969,
          973,
          970,
          974,
          975
         ],
         "yaxis": "y5"
        },
        {
         "legendgroup": "3",
         "marker": {
          "color": "#ffb2b2"
         },
         "name": "Short",
         "type": "bar",
         "x": [
          "2023-01-02 00:00:00.000000",
          "2023-01-03 00:00:00.000000",
          "2023-01-04 00:00:00.000000",
          "2023-01-05 00:00:00.000000",
          "2023-01-06 00:00:00.000000",
          "2023-01-07 00:00:00.000000",
          "2023-01-08 00:00:00.000000",
          "2023-01-09 00:00:00.000000",
          "2023-01-10 00:00:00.000000",
          "2023-01-11 00:00:00.000000",
          "2023-01-12 00:00:00.000000",
          "2023-01-13 00:00:00.000000",
          "2023-01-14 00:00:00.000000",
          "2023-01-15 00:00:00.000000",
          "2023-01-16 00:00:00.000000",
          "2023-01-17 00:00:00.000000",
          "2023-01-18 00:00:00.000000",
          "2023-01-19 00:00:00.000000",
          "2023-01-20 00:00:00.000000",
          "2023-01-21 00:00:00.000000",
          "2023-01-22 00:00:00.000000",
          "2023-01-23 00:00:00.000000",
          "2023-01-24 00:00:00.000000",
          "2023-01-25 00:00:00.000000",
          "2023-01-26 00:00:00.000000",
          "2023-01-27 00:00:00.000000",
          "2023-01-28 00:00:00.000000",
          "2023-01-29 00:00:00.000000",
          "2023-01-30 00:00:00.000000",
          "2023-01-31 00:00:00.000000",
          "2023-02-01 00:00:00.000000",
          "2023-02-02 00:00:00.000000",
          "2023-02-03 00:00:00.000000",
          "2023-02-04 00:00:00.000000",
          "2023-02-05 00:00:00.000000",
          "2023-02-06 00:00:00.000000"
         ],
         "xaxis": "x3",
         "y": [
          971,
          969,
          970,
          973,
          966,
          33,
          969,
          965,
          29,
          19,
          33,
          977,
          973,
          30,
          25,
          17,
          28,
          25,
          27,
          29,
          24,
          32,
          24,
          24,
          30,
          32,
          27,
          23,
          22,
          17,
          28,
          31,
          27,
          30,
          26,
          25
         ],
         "yaxis": "y5"
        }
       ],
       "layout": {
        "annotations": [
         {
          "font": {
           "size": 16
          },
          "showarrow": false,
          "text": "Median sim_id: 5 | model_type: DQN | Total Profit percentage -4.55%",
          "x": 0.47,
          "xanchor": "center",
          "xref": "paper",
          "y": 0.4375,
          "yanchor": "bottom",
          "yref": "paper"
         }
        ],
        "barmode": "stack",
        "font": {
         "size": 8
        },
        "height": 800,
        "legend": {
         "tracegroupgap": 82
        },
        "template": {
         "data": {
          "bar": [
           {
            "error_x": {
             "color": "#2a3f5f"
            },
            "error_y": {
             "color": "#2a3f5f"
            },
            "marker": {
             "line": {
              "color": "#E5ECF6",
              "width": 0.5
             },
             "pattern": {
              "fillmode": "overlay",
              "size": 10,
              "solidity": 0.2
             }
            },
            "type": "bar"
           }
          ],
          "barpolar": [
           {
            "marker": {
             "line": {
              "color": "#E5ECF6",
              "width": 0.5
             },
             "pattern": {
              "fillmode": "overlay",
              "size": 10,
              "solidity": 0.2
             }
            },
            "type": "barpolar"
           }
          ],
          "carpet": [
           {
            "aaxis": {
             "endlinecolor": "#2a3f5f",
             "gridcolor": "white",
             "linecolor": "white",
             "minorgridcolor": "white",
             "startlinecolor": "#2a3f5f"
            },
            "baxis": {
             "endlinecolor": "#2a3f5f",
             "gridcolor": "white",
             "linecolor": "white",
             "minorgridcolor": "white",
             "startlinecolor": "#2a3f5f"
            },
            "type": "carpet"
           }
          ],
          "choropleth": [
           {
            "colorbar": {
             "outlinewidth": 0,
             "ticks": ""
            },
            "type": "choropleth"
           }
          ],
          "contour": [
           {
            "colorbar": {
             "outlinewidth": 0,
             "ticks": ""
            },
            "colorscale": [
             [
              0,
              "#0d0887"
             ],
             [
              0.1111111111111111,
              "#46039f"
             ],
             [
              0.2222222222222222,
              "#7201a8"
             ],
             [
              0.3333333333333333,
              "#9c179e"
             ],
             [
              0.4444444444444444,
              "#bd3786"
             ],
             [
              0.5555555555555556,
              "#d8576b"
             ],
             [
              0.6666666666666666,
              "#ed7953"
             ],
             [
              0.7777777777777778,
              "#fb9f3a"
             ],
             [
              0.8888888888888888,
              "#fdca26"
             ],
             [
              1,
              "#f0f921"
             ]
            ],
            "type": "contour"
           }
          ],
          "contourcarpet": [
           {
            "colorbar": {
             "outlinewidth": 0,
             "ticks": ""
            },
            "type": "contourcarpet"
           }
          ],
          "heatmap": [
           {
            "colorbar": {
             "outlinewidth": 0,
             "ticks": ""
            },
            "colorscale": [
             [
              0,
              "#0d0887"
             ],
             [
              0.1111111111111111,
              "#46039f"
             ],
             [
              0.2222222222222222,
              "#7201a8"
             ],
             [
              0.3333333333333333,
              "#9c179e"
             ],
             [
              0.4444444444444444,
              "#bd3786"
             ],
             [
              0.5555555555555556,
              "#d8576b"
             ],
             [
              0.6666666666666666,
              "#ed7953"
             ],
             [
              0.7777777777777778,
              "#fb9f3a"
             ],
             [
              0.8888888888888888,
              "#fdca26"
             ],
             [
              1,
              "#f0f921"
             ]
            ],
            "type": "heatmap"
           }
          ],
          "heatmapgl": [
           {
            "colorbar": {
             "outlinewidth": 0,
             "ticks": ""
            },
            "colorscale": [
             [
              0,
              "#0d0887"
             ],
             [
              0.1111111111111111,
              "#46039f"
             ],
             [
              0.2222222222222222,
              "#7201a8"
             ],
             [
              0.3333333333333333,
              "#9c179e"
             ],
             [
              0.4444444444444444,
              "#bd3786"
             ],
             [
              0.5555555555555556,
              "#d8576b"
             ],
             [
              0.6666666666666666,
              "#ed7953"
             ],
             [
              0.7777777777777778,
              "#fb9f3a"
             ],
             [
              0.8888888888888888,
              "#fdca26"
             ],
             [
              1,
              "#f0f921"
             ]
            ],
            "type": "heatmapgl"
           }
          ],
          "histogram": [
           {
            "marker": {
             "pattern": {
              "fillmode": "overlay",
              "size": 10,
              "solidity": 0.2
             }
            },
            "type": "histogram"
           }
          ],
          "histogram2d": [
           {
            "colorbar": {
             "outlinewidth": 0,
             "ticks": ""
            },
            "colorscale": [
             [
              0,
              "#0d0887"
             ],
             [
              0.1111111111111111,
              "#46039f"
             ],
             [
              0.2222222222222222,
              "#7201a8"
             ],
             [
              0.3333333333333333,
              "#9c179e"
             ],
             [
              0.4444444444444444,
              "#bd3786"
             ],
             [
              0.5555555555555556,
              "#d8576b"
             ],
             [
              0.6666666666666666,
              "#ed7953"
             ],
             [
              0.7777777777777778,
              "#fb9f3a"
             ],
             [
              0.8888888888888888,
              "#fdca26"
             ],
             [
              1,
              "#f0f921"
             ]
            ],
            "type": "histogram2d"
           }
          ],
          "histogram2dcontour": [
           {
            "colorbar": {
             "outlinewidth": 0,
             "ticks": ""
            },
            "colorscale": [
             [
              0,
              "#0d0887"
             ],
             [
              0.1111111111111111,
              "#46039f"
             ],
             [
              0.2222222222222222,
              "#7201a8"
             ],
             [
              0.3333333333333333,
              "#9c179e"
             ],
             [
              0.4444444444444444,
              "#bd3786"
             ],
             [
              0.5555555555555556,
              "#d8576b"
             ],
             [
              0.6666666666666666,
              "#ed7953"
             ],
             [
              0.7777777777777778,
              "#fb9f3a"
             ],
             [
              0.8888888888888888,
              "#fdca26"
             ],
             [
              1,
              "#f0f921"
             ]
            ],
            "type": "histogram2dcontour"
           }
          ],
          "mesh3d": [
           {
            "colorbar": {
             "outlinewidth": 0,
             "ticks": ""
            },
            "type": "mesh3d"
           }
          ],
          "parcoords": [
           {
            "line": {
             "colorbar": {
              "outlinewidth": 0,
              "ticks": ""
             }
            },
            "type": "parcoords"
           }
          ],
          "pie": [
           {
            "automargin": true,
            "type": "pie"
           }
          ],
          "scatter": [
           {
            "fillpattern": {
             "fillmode": "overlay",
             "size": 10,
             "solidity": 0.2
            },
            "type": "scatter"
           }
          ],
          "scatter3d": [
           {
            "line": {
             "colorbar": {
              "outlinewidth": 0,
              "ticks": ""
             }
            },
            "marker": {
             "colorbar": {
              "outlinewidth": 0,
              "ticks": ""
             }
            },
            "type": "scatter3d"
           }
          ],
          "scattercarpet": [
           {
            "marker": {
             "colorbar": {
              "outlinewidth": 0,
              "ticks": ""
             }
            },
            "type": "scattercarpet"
           }
          ],
          "scattergeo": [
           {
            "marker": {
             "colorbar": {
              "outlinewidth": 0,
              "ticks": ""
             }
            },
            "type": "scattergeo"
           }
          ],
          "scattergl": [
           {
            "marker": {
             "colorbar": {
              "outlinewidth": 0,
              "ticks": ""
             }
            },
            "type": "scattergl"
           }
          ],
          "scattermapbox": [
           {
            "marker": {
             "colorbar": {
              "outlinewidth": 0,
              "ticks": ""
             }
            },
            "type": "scattermapbox"
           }
          ],
          "scatterpolar": [
           {
            "marker": {
             "colorbar": {
              "outlinewidth": 0,
              "ticks": ""
             }
            },
            "type": "scatterpolar"
           }
          ],
          "scatterpolargl": [
           {
            "marker": {
             "colorbar": {
              "outlinewidth": 0,
              "ticks": ""
             }
            },
            "type": "scatterpolargl"
           }
          ],
          "scatterternary": [
           {
            "marker": {
             "colorbar": {
              "outlinewidth": 0,
              "ticks": ""
             }
            },
            "type": "scatterternary"
           }
          ],
          "surface": [
           {
            "colorbar": {
             "outlinewidth": 0,
             "ticks": ""
            },
            "colorscale": [
             [
              0,
              "#0d0887"
             ],
             [
              0.1111111111111111,
              "#46039f"
             ],
             [
              0.2222222222222222,
              "#7201a8"
             ],
             [
              0.3333333333333333,
              "#9c179e"
             ],
             [
              0.4444444444444444,
              "#bd3786"
             ],
             [
              0.5555555555555556,
              "#d8576b"
             ],
             [
              0.6666666666666666,
              "#ed7953"
             ],
             [
              0.7777777777777778,
              "#fb9f3a"
             ],
             [
              0.8888888888888888,
              "#fdca26"
             ],
             [
              1,
              "#f0f921"
             ]
            ],
            "type": "surface"
           }
          ],
          "table": [
           {
            "cells": {
             "fill": {
              "color": "#EBF0F8"
             },
             "line": {
              "color": "white"
             }
            },
            "header": {
             "fill": {
              "color": "#C8D4E3"
             },
             "line": {
              "color": "white"
             }
            },
            "type": "table"
           }
          ]
         },
         "layout": {
          "annotationdefaults": {
           "arrowcolor": "#2a3f5f",
           "arrowhead": 0,
           "arrowwidth": 1
          },
          "autotypenumbers": "strict",
          "coloraxis": {
           "colorbar": {
            "outlinewidth": 0,
            "ticks": ""
           }
          },
          "colorscale": {
           "diverging": [
            [
             0,
             "#8e0152"
            ],
            [
             0.1,
             "#c51b7d"
            ],
            [
             0.2,
             "#de77ae"
            ],
            [
             0.3,
             "#f1b6da"
            ],
            [
             0.4,
             "#fde0ef"
            ],
            [
             0.5,
             "#f7f7f7"
            ],
            [
             0.6,
             "#e6f5d0"
            ],
            [
             0.7,
             "#b8e186"
            ],
            [
             0.8,
             "#7fbc41"
            ],
            [
             0.9,
             "#4d9221"
            ],
            [
             1,
             "#276419"
            ]
           ],
           "sequential": [
            [
             0,
             "#0d0887"
            ],
            [
             0.1111111111111111,
             "#46039f"
            ],
            [
             0.2222222222222222,
             "#7201a8"
            ],
            [
             0.3333333333333333,
             "#9c179e"
            ],
            [
             0.4444444444444444,
             "#bd3786"
            ],
            [
             0.5555555555555556,
             "#d8576b"
            ],
            [
             0.6666666666666666,
             "#ed7953"
            ],
            [
             0.7777777777777778,
             "#fb9f3a"
            ],
            [
             0.8888888888888888,
             "#fdca26"
            ],
            [
             1,
             "#f0f921"
            ]
           ],
           "sequentialminus": [
            [
             0,
             "#0d0887"
            ],
            [
             0.1111111111111111,
             "#46039f"
            ],
            [
             0.2222222222222222,
             "#7201a8"
            ],
            [
             0.3333333333333333,
             "#9c179e"
            ],
            [
             0.4444444444444444,
             "#bd3786"
            ],
            [
             0.5555555555555556,
             "#d8576b"
            ],
            [
             0.6666666666666666,
             "#ed7953"
            ],
            [
             0.7777777777777778,
             "#fb9f3a"
            ],
            [
             0.8888888888888888,
             "#fdca26"
            ],
            [
             1,
             "#f0f921"
            ]
           ]
          },
          "colorway": [
           "#636efa",
           "#EF553B",
           "#00cc96",
           "#ab63fa",
           "#FFA15A",
           "#19d3f3",
           "#FF6692",
           "#B6E880",
           "#FF97FF",
           "#FECB52"
          ],
          "font": {
           "color": "#2a3f5f"
          },
          "geo": {
           "bgcolor": "white",
           "lakecolor": "white",
           "landcolor": "#E5ECF6",
           "showlakes": true,
           "showland": true,
           "subunitcolor": "white"
          },
          "hoverlabel": {
           "align": "left"
          },
          "hovermode": "closest",
          "mapbox": {
           "style": "light"
          },
          "paper_bgcolor": "white",
          "plot_bgcolor": "#E5ECF6",
          "polar": {
           "angularaxis": {
            "gridcolor": "white",
            "linecolor": "white",
            "ticks": ""
           },
           "bgcolor": "#E5ECF6",
           "radialaxis": {
            "gridcolor": "white",
            "linecolor": "white",
            "ticks": ""
           }
          },
          "scene": {
           "xaxis": {
            "backgroundcolor": "#E5ECF6",
            "gridcolor": "white",
            "gridwidth": 2,
            "linecolor": "white",
            "showbackground": true,
            "ticks": "",
            "zerolinecolor": "white"
           },
           "yaxis": {
            "backgroundcolor": "#E5ECF6",
            "gridcolor": "white",
            "gridwidth": 2,
            "linecolor": "white",
            "showbackground": true,
            "ticks": "",
            "zerolinecolor": "white"
           },
           "zaxis": {
            "backgroundcolor": "#E5ECF6",
            "gridcolor": "white",
            "gridwidth": 2,
            "linecolor": "white",
            "showbackground": true,
            "ticks": "",
            "zerolinecolor": "white"
           }
          },
          "shapedefaults": {
           "line": {
            "color": "#2a3f5f"
           }
          },
          "ternary": {
           "aaxis": {
            "gridcolor": "white",
            "linecolor": "white",
            "ticks": ""
           },
           "baxis": {
            "gridcolor": "white",
            "linecolor": "white",
            "ticks": ""
           },
           "bgcolor": "#E5ECF6",
           "caxis": {
            "gridcolor": "white",
            "linecolor": "white",
            "ticks": ""
           }
          },
          "title": {
           "x": 0.05
          },
          "xaxis": {
           "automargin": true,
           "gridcolor": "white",
           "linecolor": "white",
           "ticks": "",
           "title": {
            "standoff": 15
           },
           "zerolinecolor": "white",
           "zerolinewidth": 2
          },
          "yaxis": {
           "automargin": true,
           "gridcolor": "white",
           "linecolor": "white",
           "ticks": "",
           "title": {
            "standoff": 15
           },
           "zerolinecolor": "white",
           "zerolinewidth": 2
          }
         }
        },
        "title": {
         "text": "Median Total Profit Results x Overall view of actions (across all the simulations)",
         "x": 0.5
        },
        "width": 1200,
        "xaxis": {
         "anchor": "y",
         "categoryorder": "category ascending",
         "domain": [
          0,
          0.94
         ],
         "matches": "x4",
         "showticklabels": false
        },
        "xaxis2": {
         "anchor": "y3",
         "domain": [
          0,
          0.94
         ],
         "matches": "x4",
         "showticklabels": false
        },
        "xaxis3": {
         "anchor": "y5",
         "domain": [
          0,
          0.94
         ],
         "matches": "x4",
         "showticklabels": false
        },
        "xaxis4": {
         "anchor": "y7",
         "domain": [
          0,
          0.94
         ]
        },
        "yaxis": {
         "anchor": "x",
         "domain": [
          0.84375,
          1
         ],
         "matches": "y7",
         "title": {
          "text": "Proportion of trades<br>across all the simulations"
         }
        },
        "yaxis2": {
         "anchor": "x",
         "overlaying": "y",
         "side": "right",
         "title": {
          "text": "CCY level with the<br>sim_id actions related"
         }
        },
        "yaxis3": {
         "anchor": "x2",
         "domain": [
          0.5625,
          0.71875
         ],
         "matches": "y7",
         "title": {
          "text": "Proportion of trades<br>across all the simulations"
         }
        },
        "yaxis4": {
         "anchor": "x2",
         "overlaying": "y3",
         "side": "right",
         "title": {
          "text": "CCY level with the<br>sim_id actions related"
         }
        },
        "yaxis5": {
         "anchor": "x3",
         "domain": [
          0.28125,
          0.4375
         ],
         "matches": "y7",
         "title": {
          "text": "Proportion of trades<br>across all the simulations"
         }
        },
        "yaxis6": {
         "anchor": "x3",
         "overlaying": "y5",
         "side": "right",
         "title": {
          "text": "CCY level with the<br>sim_id actions related"
         }
        },
        "yaxis7": {
         "anchor": "x4",
         "domain": [
          0,
          0.15625
         ],
         "title": {
          "text": "Proportion of trades<br>across all the simulations"
         }
        },
        "yaxis8": {
         "anchor": "x4",
         "overlaying": "y7",
         "side": "right",
         "title": {
          "text": "CCY level with the<br>sim_id actions related"
         }
        }
       }
      }
     },
     "metadata": {},
     "output_type": "display_data"
    }
   ],
   "source": [
    "plot_trader_robot_actions_all_sim_id_all_models(config_file_name_without_extension, \"\", \"\", median_sim_id_DQN, \"\")"
   ]
  },
  {
   "cell_type": "code",
   "execution_count": 27,
   "metadata": {},
   "outputs": [
    {
     "name": "stdout",
     "output_type": "stream",
     "text": [
      "mean_reward=-204.91 +/- 0.0\n"
     ]
    }
   ],
   "source": [
    "# Evaluate the loaded policy\n",
    "mean_reward, std_reward = evaluate_policy(saved_policy, env, n_eval_episodes=10, deterministic=True)\n",
    "\n",
    "print(f\"mean_reward={mean_reward:.2f} +/- {std_reward}\")"
   ]
  },
  {
   "cell_type": "code",
   "execution_count": null,
   "metadata": {},
   "outputs": [],
   "source": []
  }
 ],
 "metadata": {
  "kernelspec": {
   "display_name": "msc_uol_ai_dissertation",
   "language": "python",
   "name": "python3"
  },
  "language_info": {
   "codemirror_mode": {
    "name": "ipython",
    "version": 3
   },
   "file_extension": ".py",
   "mimetype": "text/x-python",
   "name": "python",
   "nbconvert_exporter": "python",
   "pygments_lexer": "ipython3",
   "version": "3.8.13 | packaged by conda-forge | (default, Mar 25 2022, 06:04:14) \n[Clang 12.0.1 ]"
  },
  "orig_nbformat": 4,
  "vscode": {
   "interpreter": {
    "hash": "0c0f2ae3d5d9aa27c4a2afc20f28a2482dc1006477ab22953abc78c31c7bb5b2"
   }
  }
 },
 "nbformat": 4,
 "nbformat_minor": 2
}
