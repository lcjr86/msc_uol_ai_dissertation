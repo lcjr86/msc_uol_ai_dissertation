{
 "cells": [
  {
   "cell_type": "code",
   "execution_count": 1,
   "metadata": {},
   "outputs": [],
   "source": [
    "import warnings\n",
    "warnings.filterwarnings('ignore')\n",
    "\n",
    "from configparser import ConfigParser\n",
    "\n",
    "from typing import Callable\n",
    "\n",
    "import gym\n",
    "import gym_anytrading\n",
    "\n",
    "from gym_anytrading.envs import CryptoEnvLogINFER\n",
    "\n",
    "from stable_baselines3.common.vec_env import DummyVecEnv, SubprocVecEnv\n",
    "from stable_baselines3 import A2C, PPO, DQN\n",
    "from stable_baselines3.common.evaluation import evaluate_policy\n",
    "from stable_baselines3.common.env_util import make_vec_env\n",
    "from stable_baselines3.common.utils import set_random_seed\n",
    "\n",
    "from stable_baselines3.dqn.policies import MlpPolicy\n",
    "\n",
    "import tensorflow as tf\n",
    "\n",
    "import numpy as np\n",
    "import pandas as pd\n",
    "import plotly.express as px\n",
    "import plotly.graph_objects as go\n",
    "from plotly.subplots import make_subplots\n",
    "import os\n",
    "import datetime\n",
    "\n",
    "import multiprocessing\n",
    "\n",
    "import quantstats as qs\n",
    "\n",
    "import sqlite3\n",
    "from sqlalchemy import create_engine"
   ]
  },
  {
   "cell_type": "code",
   "execution_count": 2,
   "metadata": {},
   "outputs": [
    {
     "name": "stdout",
     "output_type": "stream",
     "text": [
      "['../../simulations/config_files/config_03a_mix_infer.ini']\n"
     ]
    }
   ],
   "source": [
    "configur = ConfigParser()\n",
    "config_file_name = \"config_03a_mix_infer.ini\"\n",
    "print (configur.read(os.path.join('../../simulations/config_files', config_file_name)))"
   ]
  },
  {
   "cell_type": "code",
   "execution_count": 3,
   "metadata": {},
   "outputs": [],
   "source": [
    "config_file_name_without_extension = config_file_name.replace(\".ini\", \"\")\n",
    "\n",
    "ccy = configur.get('data', 'ccy')\n",
    "\n",
    "data_frequency_train = configur.get('data', 'data_frequency_train')\n",
    "data_frequency_val = configur.get('data', 'data_frequency_val')\n",
    "\n",
    "start_date_train = configur.get('environment', 'start_date')\n",
    "\n",
    "window_size = configur.getint('environment', 'window_size')\n",
    "list_features = configur.get('environment', 'features').split(',')\n",
    "target = configur.get('environment', 'target')"
   ]
  },
  {
   "cell_type": "code",
   "execution_count": 4,
   "metadata": {},
   "outputs": [
    {
     "name": "stdout",
     "output_type": "stream",
     "text": [
      "The loaded_model has 0 transitions in its buffer\n",
      "The loaded_model has 165368 transitions in its buffer\n"
     ]
    }
   ],
   "source": [
    "model_name = \"DQN\"\n",
    "# the saved model does not contain the replay buffer\n",
    "loaded_model = DQN.load(\"../../simulations/save_models_components/model/model_DQN_\"+ config_file_name_without_extension + \".zip\")\n",
    "print(f\"The loaded_model has {loaded_model.replay_buffer.size()} transitions in its buffer\")\n",
    "\n",
    "# load it into the loaded_model\n",
    "loaded_model.load_replay_buffer(\"../../simulations/save_models_components/replay_buffer/replay_buffer_DQN_\" + config_file_name_without_extension + \".pkl\")\n",
    "\n",
    "# now the loaded replay is not empty anymore\n",
    "print(f\"The loaded_model has {loaded_model.replay_buffer.size()} transitions in its buffer\")\n",
    "\n",
    "saved_policy = MlpPolicy.load(\"../../simulations/save_models_components/policy/policy_DQN_\" + config_file_name_without_extension)"
   ]
  },
  {
   "cell_type": "code",
   "execution_count": 5,
   "metadata": {},
   "outputs": [],
   "source": [
    "mid_date='2023-01-01 00:00:00'\n",
    "end_date='2023-01-30 00:00:00'"
   ]
  },
  {
   "cell_type": "code",
   "execution_count": 6,
   "metadata": {},
   "outputs": [],
   "source": [
    "def get_and_process_data(ccy, data_frequency, start_date, end_date):\n",
    "    try:\n",
    "        \n",
    "        # Get the data\n",
    "        db_address = 'sqlite:///../../data/db/crypto.db'\n",
    "        engine = create_engine(db_address, echo=False)\n",
    "        sqlite_connection = engine.connect()\n",
    "\n",
    "        input_tbl_name = \"tbl_all_features\" + \"_\" + ccy + \"_\" + data_frequency\n",
    "        \n",
    "        sql_command = \"SELECT * FROM \" + input_tbl_name\n",
    "\n",
    "        if(start_date!=\"\" and end_date!=\"\"):\n",
    "            \n",
    "            sd = datetime.datetime.strptime(start_date,'%d %b, %Y').strftime('%Y-%m-%d')\n",
    "            ed = datetime.datetime.strptime(end_date,'%d %b, %Y').strftime('%Y-%m-%d')\n",
    "\n",
    "            sql_append = \" WHERE \" + \"date(date) >= \" + \"'\" + sd + \"'\" + \" AND date(date) <= \" + \"'\" + ed + \"'\"\n",
    "            sql_command = sql_command + sql_append\n",
    "\n",
    "        df = pd.read_sql(sql_command, sqlite_connection)\n",
    "\n",
    "        sqlite_connection.close()\n",
    "\n",
    "        # Converting Date Column to DateTime Type\n",
    "        # Set the index on the dataframe\n",
    "        df['date_index'] = df['date']\n",
    "        df.set_index('date_index', inplace=True)\n",
    "\n",
    "        return df\n",
    "\n",
    "    except Exception as e:\n",
    "        print(e)"
   ]
  },
  {
   "cell_type": "code",
   "execution_count": 7,
   "metadata": {},
   "outputs": [],
   "source": [
    "# Format the data\n",
    "start_date_temp = datetime.datetime.strptime(mid_date,'%Y-%m-%d %H:%M:%S')\n",
    "start_date_temp2 = start_date_temp + datetime.timedelta(days=-(window_size+1))\n",
    "start_date_db = start_date_temp2.strftime('%d %b, %Y')\n",
    "end_date_db = datetime.datetime.strptime(end_date,'%Y-%m-%d %H:%M:%S').strftime('%d %b, %Y')\n",
    "\n",
    "df_val = get_and_process_data(ccy, data_frequency_val, start_date_db, end_date_db)"
   ]
  },
  {
   "cell_type": "code",
   "execution_count": 8,
   "metadata": {},
   "outputs": [
    {
     "data": {
      "text/html": [
       "<div>\n",
       "<style scoped>\n",
       "    .dataframe tbody tr th:only-of-type {\n",
       "        vertical-align: middle;\n",
       "    }\n",
       "\n",
       "    .dataframe tbody tr th {\n",
       "        vertical-align: top;\n",
       "    }\n",
       "\n",
       "    .dataframe thead th {\n",
       "        text-align: right;\n",
       "    }\n",
       "</style>\n",
       "<table border=\"1\" class=\"dataframe\">\n",
       "  <thead>\n",
       "    <tr style=\"text-align: right;\">\n",
       "      <th></th>\n",
       "      <th>open_time</th>\n",
       "      <th>open</th>\n",
       "      <th>high</th>\n",
       "      <th>low</th>\n",
       "      <th>close</th>\n",
       "      <th>volume</th>\n",
       "      <th>close_time</th>\n",
       "      <th>quote_asset_volume</th>\n",
       "      <th>number_of_trades</th>\n",
       "      <th>taker_buy_base_asset_volume</th>\n",
       "      <th>...</th>\n",
       "      <th>BBANDS_L</th>\n",
       "      <th>AD</th>\n",
       "      <th>ATR</th>\n",
       "      <th>HT_DC</th>\n",
       "      <th>SAR</th>\n",
       "      <th>ratio_high_open</th>\n",
       "      <th>ratio_low_open</th>\n",
       "      <th>ratio_close_open</th>\n",
       "      <th>time_to_chart_return</th>\n",
       "      <th>crypto_index</th>\n",
       "    </tr>\n",
       "    <tr>\n",
       "      <th>date_index</th>\n",
       "      <th></th>\n",
       "      <th></th>\n",
       "      <th></th>\n",
       "      <th></th>\n",
       "      <th></th>\n",
       "      <th></th>\n",
       "      <th></th>\n",
       "      <th></th>\n",
       "      <th></th>\n",
       "      <th></th>\n",
       "      <th></th>\n",
       "      <th></th>\n",
       "      <th></th>\n",
       "      <th></th>\n",
       "      <th></th>\n",
       "      <th></th>\n",
       "      <th></th>\n",
       "      <th></th>\n",
       "      <th></th>\n",
       "      <th></th>\n",
       "      <th></th>\n",
       "    </tr>\n",
       "  </thead>\n",
       "  <tbody>\n",
       "    <tr>\n",
       "      <th>2023-01-26 00:00:00.000000</th>\n",
       "      <td>1674604800000</td>\n",
       "      <td>22631.94</td>\n",
       "      <td>23816.73</td>\n",
       "      <td>22300.00</td>\n",
       "      <td>23060.94</td>\n",
       "      <td>346042.83223</td>\n",
       "      <td>1674691199999</td>\n",
       "      <td>7.875590e+09</td>\n",
       "      <td>8060446</td>\n",
       "      <td>172647.90115</td>\n",
       "      <td>...</td>\n",
       "      <td>15808.793428</td>\n",
       "      <td>1.793580e+06</td>\n",
       "      <td>773.947291</td>\n",
       "      <td>22.469298</td>\n",
       "      <td>21708.391074</td>\n",
       "      <td>1.052350</td>\n",
       "      <td>0.985333</td>\n",
       "      <td>1.018956</td>\n",
       "      <td>0.018913</td>\n",
       "      <td>1223.611449</td>\n",
       "    </tr>\n",
       "    <tr>\n",
       "      <th>2023-01-27 00:00:00.000000</th>\n",
       "      <td>1674691200000</td>\n",
       "      <td>23060.42</td>\n",
       "      <td>23282.47</td>\n",
       "      <td>22850.01</td>\n",
       "      <td>23009.65</td>\n",
       "      <td>288924.43581</td>\n",
       "      <td>1674777599999</td>\n",
       "      <td>6.664592e+09</td>\n",
       "      <td>7181086</td>\n",
       "      <td>143185.08341</td>\n",
       "      <td>...</td>\n",
       "      <td>16228.556835</td>\n",
       "      <td>1.717965e+06</td>\n",
       "      <td>749.555342</td>\n",
       "      <td>24.042009</td>\n",
       "      <td>22130.058860</td>\n",
       "      <td>1.009629</td>\n",
       "      <td>0.990876</td>\n",
       "      <td>0.997798</td>\n",
       "      <td>-0.002224</td>\n",
       "      <td>1220.890006</td>\n",
       "    </tr>\n",
       "    <tr>\n",
       "      <th>2023-01-28 00:00:00.000000</th>\n",
       "      <td>1674777600000</td>\n",
       "      <td>23009.65</td>\n",
       "      <td>23500.00</td>\n",
       "      <td>22534.88</td>\n",
       "      <td>23074.16</td>\n",
       "      <td>280833.86315</td>\n",
       "      <td>1674863999999</td>\n",
       "      <td>6.461708e+09</td>\n",
       "      <td>7079096</td>\n",
       "      <td>139699.27638</td>\n",
       "      <td>...</td>\n",
       "      <td>16737.868400</td>\n",
       "      <td>1.750974e+06</td>\n",
       "      <td>764.952818</td>\n",
       "      <td>25.482889</td>\n",
       "      <td>22300.000000</td>\n",
       "      <td>1.021311</td>\n",
       "      <td>0.979366</td>\n",
       "      <td>1.002804</td>\n",
       "      <td>0.002804</td>\n",
       "      <td>1224.312901</td>\n",
       "    </tr>\n",
       "    <tr>\n",
       "      <th>2023-01-29 00:00:00.000000</th>\n",
       "      <td>1674864000000</td>\n",
       "      <td>23074.16</td>\n",
       "      <td>23189.00</td>\n",
       "      <td>22878.46</td>\n",
       "      <td>23022.60</td>\n",
       "      <td>148115.71085</td>\n",
       "      <td>1674950399999</td>\n",
       "      <td>3.408985e+09</td>\n",
       "      <td>4181816</td>\n",
       "      <td>73861.83566</td>\n",
       "      <td>...</td>\n",
       "      <td>17308.616744</td>\n",
       "      <td>1.740357e+06</td>\n",
       "      <td>732.494759</td>\n",
       "      <td>26.843421</td>\n",
       "      <td>22534.880000</td>\n",
       "      <td>1.004977</td>\n",
       "      <td>0.991519</td>\n",
       "      <td>0.997765</td>\n",
       "      <td>-0.002235</td>\n",
       "      <td>1221.577132</td>\n",
       "    </tr>\n",
       "    <tr>\n",
       "      <th>2023-01-30 00:00:00.000000</th>\n",
       "      <td>1674950400000</td>\n",
       "      <td>23021.40</td>\n",
       "      <td>23960.54</td>\n",
       "      <td>22967.76</td>\n",
       "      <td>23742.30</td>\n",
       "      <td>295688.79204</td>\n",
       "      <td>1675036799999</td>\n",
       "      <td>6.941923e+09</td>\n",
       "      <td>7030837</td>\n",
       "      <td>149507.50610</td>\n",
       "      <td>...</td>\n",
       "      <td>17942.197270</td>\n",
       "      <td>1.906045e+06</td>\n",
       "      <td>751.086562</td>\n",
       "      <td>28.072785</td>\n",
       "      <td>22534.880000</td>\n",
       "      <td>1.040794</td>\n",
       "      <td>0.997670</td>\n",
       "      <td>1.031314</td>\n",
       "      <td>0.031261</td>\n",
       "      <td>1259.764350</td>\n",
       "    </tr>\n",
       "  </tbody>\n",
       "</table>\n",
       "<p>5 rows × 91 columns</p>\n",
       "</div>"
      ],
      "text/plain": [
       "                                open_time      open      high       low  \\\n",
       "date_index                                                                \n",
       "2023-01-26 00:00:00.000000  1674604800000  22631.94  23816.73  22300.00   \n",
       "2023-01-27 00:00:00.000000  1674691200000  23060.42  23282.47  22850.01   \n",
       "2023-01-28 00:00:00.000000  1674777600000  23009.65  23500.00  22534.88   \n",
       "2023-01-29 00:00:00.000000  1674864000000  23074.16  23189.00  22878.46   \n",
       "2023-01-30 00:00:00.000000  1674950400000  23021.40  23960.54  22967.76   \n",
       "\n",
       "                               close        volume     close_time  \\\n",
       "date_index                                                          \n",
       "2023-01-26 00:00:00.000000  23060.94  346042.83223  1674691199999   \n",
       "2023-01-27 00:00:00.000000  23009.65  288924.43581  1674777599999   \n",
       "2023-01-28 00:00:00.000000  23074.16  280833.86315  1674863999999   \n",
       "2023-01-29 00:00:00.000000  23022.60  148115.71085  1674950399999   \n",
       "2023-01-30 00:00:00.000000  23742.30  295688.79204  1675036799999   \n",
       "\n",
       "                            quote_asset_volume  number_of_trades  \\\n",
       "date_index                                                         \n",
       "2023-01-26 00:00:00.000000        7.875590e+09           8060446   \n",
       "2023-01-27 00:00:00.000000        6.664592e+09           7181086   \n",
       "2023-01-28 00:00:00.000000        6.461708e+09           7079096   \n",
       "2023-01-29 00:00:00.000000        3.408985e+09           4181816   \n",
       "2023-01-30 00:00:00.000000        6.941923e+09           7030837   \n",
       "\n",
       "                            taker_buy_base_asset_volume  ...      BBANDS_L  \\\n",
       "date_index                                               ...                 \n",
       "2023-01-26 00:00:00.000000                 172647.90115  ...  15808.793428   \n",
       "2023-01-27 00:00:00.000000                 143185.08341  ...  16228.556835   \n",
       "2023-01-28 00:00:00.000000                 139699.27638  ...  16737.868400   \n",
       "2023-01-29 00:00:00.000000                  73861.83566  ...  17308.616744   \n",
       "2023-01-30 00:00:00.000000                 149507.50610  ...  17942.197270   \n",
       "\n",
       "                                      AD         ATR      HT_DC           SAR  \\\n",
       "date_index                                                                      \n",
       "2023-01-26 00:00:00.000000  1.793580e+06  773.947291  22.469298  21708.391074   \n",
       "2023-01-27 00:00:00.000000  1.717965e+06  749.555342  24.042009  22130.058860   \n",
       "2023-01-28 00:00:00.000000  1.750974e+06  764.952818  25.482889  22300.000000   \n",
       "2023-01-29 00:00:00.000000  1.740357e+06  732.494759  26.843421  22534.880000   \n",
       "2023-01-30 00:00:00.000000  1.906045e+06  751.086562  28.072785  22534.880000   \n",
       "\n",
       "                            ratio_high_open  ratio_low_open  ratio_close_open  \\\n",
       "date_index                                                                      \n",
       "2023-01-26 00:00:00.000000         1.052350        0.985333          1.018956   \n",
       "2023-01-27 00:00:00.000000         1.009629        0.990876          0.997798   \n",
       "2023-01-28 00:00:00.000000         1.021311        0.979366          1.002804   \n",
       "2023-01-29 00:00:00.000000         1.004977        0.991519          0.997765   \n",
       "2023-01-30 00:00:00.000000         1.040794        0.997670          1.031314   \n",
       "\n",
       "                            time_to_chart_return  crypto_index  \n",
       "date_index                                                      \n",
       "2023-01-26 00:00:00.000000              0.018913   1223.611449  \n",
       "2023-01-27 00:00:00.000000             -0.002224   1220.890006  \n",
       "2023-01-28 00:00:00.000000              0.002804   1224.312901  \n",
       "2023-01-29 00:00:00.000000             -0.002235   1221.577132  \n",
       "2023-01-30 00:00:00.000000              0.031261   1259.764350  \n",
       "\n",
       "[5 rows x 91 columns]"
      ]
     },
     "execution_count": 8,
     "metadata": {},
     "output_type": "execute_result"
    }
   ],
   "source": [
    "df_val.tail()"
   ]
  },
  {
   "cell_type": "code",
   "execution_count": 9,
   "metadata": {},
   "outputs": [],
   "source": [
    "mid_date_id_val = int(df_val.index.get_loc(datetime.datetime.strptime(mid_date,'%Y-%m-%d %H:%M:%S').strftime('%Y-%m-%d %H:%M:%S.%f')))\n",
    "end_date_id_val = int(df_val.index.get_loc(datetime.datetime.strptime(end_date,'%Y-%m-%d %H:%M:%S').strftime('%Y-%m-%d %H:%M:%S.%f')))"
   ]
  },
  {
   "cell_type": "code",
   "execution_count": 10,
   "metadata": {},
   "outputs": [],
   "source": [
    "def my_process_data(env):\n",
    "    start = env.frame_bound[0] - env.window_size\n",
    "    end = env.frame_bound[1]\n",
    "    prices = env.df.loc[:, target].to_numpy()[start:end]\n",
    "    signal_features = env.df.loc[:, list_features].to_numpy()[start:end]\n",
    "    dates = env.df.index.to_numpy()[start:end]\n",
    "    return prices, signal_features, dates\n",
    "\n",
    "class MyEnv(CryptoEnvLogINFER):\n",
    "    _process_data = my_process_data"
   ]
  },
  {
   "cell_type": "code",
   "execution_count": 11,
   "metadata": {},
   "outputs": [],
   "source": [
    "env = MyEnv(df=df_val, frame_bound=(mid_date_id_val,end_date_id_val), window_size=window_size)"
   ]
  },
  {
   "cell_type": "code",
   "execution_count": 12,
   "metadata": {},
   "outputs": [],
   "source": [
    "num_of_simulations=1000"
   ]
  },
  {
   "cell_type": "code",
   "execution_count": 13,
   "metadata": {},
   "outputs": [],
   "source": [
    "df_sim_results = pd.DataFrame()\n",
    "df_robot_actions_and_env_final = pd.DataFrame()\n",
    "\n",
    "df_sim_results_temp = pd.DataFrame(columns=['total_reward_cash', 'total_profit_percentage', 'fmt_total_profit_percentage', 'num_of_trades'])\n",
    "df_robot_actions_and_env_temp = pd.DataFrame(columns=['dates', 'prices', 'actions', 'total_reward_cash', 'total_profit_percentage', 'fmt_total_profit_percentage', 'num_of_trades', 'sim_id'])\n",
    "\n",
    "list_sim_id = []\n",
    "\n",
    "sim_id = 1\n",
    "for i in range(num_of_simulations):   \n",
    "\n",
    "    #Setting up the Agent Environment\n",
    "    obs = env.reset()\n",
    "\n",
    "    list_sim_id.append(sim_id)\n",
    "\n",
    "    while True: \n",
    "        obs = obs[np.newaxis, ...]\n",
    "\n",
    "        action, _states = loaded_model.predict(obs)\n",
    "        \n",
    "        obs, rewards, done, info = env.step(action)\n",
    "        \n",
    "        if done:\n",
    "            df_sim_results_temp = df_sim_results_temp.append(info, ignore_index=True, sort=False)\n",
    "            break\n",
    "\n",
    "    # Export robot actions plot and data\n",
    "    fig, df_robot_actions = env.render_all()\n",
    "    # fig.write_html(os.path.join('results', 'plots', 'robot_actions', 'robot_actions_' + config_file_name_without_extension + '_sim_id_' + str(sim_id) + '.html'))\n",
    "\n",
    "    # Export the history of details (the info dict inside of the environment)\n",
    "    df_sim_env_data = pd.DataFrame.from_dict(env.history)\n",
    "\n",
    "    # Merge robot actions data + sim env data\n",
    "    df_sim_env_data_initial = pd.DataFrame(columns=['total_reward_cash', 'total_profit_percentage', 'fmt_total_profit_percentage', 'num_of_trades'])\n",
    "    for i in range(0, window_size + 1):\n",
    "        df_sim_env_data_initial = df_sim_env_data_initial.append(pd.Series([0, 0, 0, 0], index=df_sim_env_data_initial.columns), ignore_index=True)\n",
    "    \n",
    "    df_sim_env_data_temp = df_sim_env_data_initial.append(df_sim_env_data, ignore_index=True)\n",
    "    \n",
    "    df_robot_actions_and_env_temp = pd.merge(df_robot_actions, df_sim_env_data_temp, left_index=True, right_index=True, how = \"outer\")\n",
    "    df_robot_actions_and_env_temp['sim_id'] = sim_id\n",
    "\n",
    "    df_robot_actions_and_env_final = pd.concat([df_robot_actions_and_env_final, df_robot_actions_and_env_temp], axis=0)\n",
    "\n",
    "    sim_id = sim_id + 1\n",
    "\n",
    "df_sim_results_temp['sim_id'] = list_sim_id\n",
    "df_sim_results_temp['ccy'] = ccy\n",
    "df_sim_results_temp['data_frequency_train'] = data_frequency_train\n",
    "df_sim_results_temp['data_frequency_val'] = data_frequency_val\n",
    "df_sim_results_temp['window_size'] = window_size\n",
    "df_sim_results_temp['start_date'] = start_date_train\n",
    "df_sim_results_temp['mid_date'] = mid_date\n",
    "df_sim_results_temp['end_date'] = end_date\n",
    "df_sim_results_temp['target'] = target\n",
    "df_sim_results_temp['list_features'] = str(list_features)\n",
    "df_sim_results_temp['model_type'] = model_name \n",
    "df_sim_results_temp['num_of_simulations'] = num_of_simulations   \n",
    "\n",
    "df_sim_results = pd.concat([df_sim_results, df_sim_results_temp], axis=0)"
   ]
  },
  {
   "cell_type": "code",
   "execution_count": 14,
   "metadata": {},
   "outputs": [],
   "source": [
    "df_sim_results = df_sim_results.reset_index(drop=True)\n",
    "df_sim_results = df_sim_results.drop_duplicates()\n",
    "\n",
    "## SIMULATION RESULTS\n",
    "\n",
    "# Format data type\n",
    "df_sim_results['start_date'] = pd.to_datetime(df_sim_results['start_date'])\n",
    "df_sim_results['mid_date'] = pd.to_datetime(df_sim_results['mid_date'])\n",
    "df_sim_results['end_date'] = pd.to_datetime(df_sim_results['end_date'])\n",
    "\n",
    "# Write to the db\n",
    "db_address = 'sqlite:///../results/data/db/trader.db'\n",
    "engine = create_engine(db_address, echo=False)\n",
    "sqlite_connection = engine.connect()\n",
    "\n",
    "output_tbl_name = \"tbl_trader_bernardo_simulation_results_\" + config_file_name_without_extension\n",
    "\n",
    "df_sim_results.to_sql(output_tbl_name, sqlite_connection, if_exists='replace', index=False)\n",
    "\n",
    "sqlite_connection.close()\n",
    "\n",
    "## ROBOT ACTIONS and ENV RESULTS\n",
    "\n",
    "# Format data type\n",
    "df_robot_actions_and_env_final['dates'] = pd.to_datetime(df_robot_actions_and_env_final['dates'])\n",
    "df_robot_actions_and_env_final['total_reward_cash'] = df_robot_actions_and_env_final['total_reward_cash'].astype(float)\n",
    "df_robot_actions_and_env_final['total_profit_percentage'] = df_robot_actions_and_env_final['total_profit_percentage'].astype(float)\n",
    "df_robot_actions_and_env_final['fmt_total_profit_percentage'] = df_robot_actions_and_env_final['fmt_total_profit_percentage'].astype(float)\n",
    "df_robot_actions_and_env_final['num_of_trades'] = df_robot_actions_and_env_final['num_of_trades'].astype(float)\n",
    "\n",
    "# Write to the db\n",
    "db_address = 'sqlite:///../results/data/db/trader.db'\n",
    "engine = create_engine(db_address, echo=False)\n",
    "sqlite_connection = engine.connect()\n",
    "\n",
    "output_tbl_name = \"tbl_trader_bernardo_robot_actions_and_env_\" + config_file_name_without_extension\n",
    "\n",
    "df_robot_actions_and_env_final.to_sql(output_tbl_name, sqlite_connection, if_exists='replace', index=False)\n",
    "\n",
    "sqlite_connection.close()"
   ]
  },
  {
   "attachments": {},
   "cell_type": "markdown",
   "metadata": {},
   "source": [
    "## Get Data"
   ]
  },
  {
   "cell_type": "code",
   "execution_count": 15,
   "metadata": {},
   "outputs": [],
   "source": [
    "def get_and_process_trader_data(config_file_name_without_extension):\n",
    "    try:\n",
    "        \n",
    "        # Get the data\n",
    "        db_address = 'sqlite:///../results/data/db/trader.db'\n",
    "        engine = create_engine(db_address, echo=False)\n",
    "        sqlite_connection = engine.connect()\n",
    "\n",
    "        input_tbl_name = \"tbl_trader_bernardo_simulation_results\" + \"_\" + config_file_name_without_extension\n",
    "        \n",
    "        sql_command = \"SELECT * FROM \" + input_tbl_name\n",
    "\n",
    "        df = pd.read_sql(sql_command, sqlite_connection)\n",
    "\n",
    "        sqlite_connection.close()\n",
    "\n",
    "        return df\n",
    "\n",
    "    except Exception as e:\n",
    "        print(e)"
   ]
  },
  {
   "cell_type": "code",
   "execution_count": 16,
   "metadata": {},
   "outputs": [],
   "source": [
    "df_trader_results = get_and_process_trader_data(config_file_name_without_extension)"
   ]
  },
  {
   "cell_type": "code",
   "execution_count": 17,
   "metadata": {},
   "outputs": [
    {
     "data": {
      "application/vnd.plotly.v1+json": {
       "config": {
        "plotlyServerURL": "https://plot.ly"
       },
       "data": [
        {
         "alignmentgroup": "True",
         "boxpoints": "all",
         "hovertemplate": "model_type=DQN<br>fmt_total_profit_percentage=%{y}<extra></extra>",
         "legendgroup": "DQN",
         "marker": {
          "color": "#FF7F0E"
         },
         "name": "DQN",
         "notched": false,
         "offsetgroup": "DQN",
         "orientation": "v",
         "showlegend": true,
         "type": "box",
         "x0": " ",
         "xaxis": "x",
         "y": [
          -4.631310946303213,
          -4.631310946303213,
          -3.3492910197644887,
          -10.851025376067213,
          -4.631310946303213,
          -4.631310946303213,
          4.56899917358935,
          -4.631310946303213,
          -4.631310946303213,
          -4.631310946303213,
          -4.631310946303213,
          -2.5751526397142066,
          -13.554664332443023,
          -4.604882750924732,
          5.1874204047918315,
          -4.631310946303213,
          -4.631310946303213,
          -4.631310946303213,
          5.317323697949328,
          -4.250137765608997,
          -4.631310946303213,
          2.4060571049153046,
          -9.899138398881702,
          -4.631310946303213,
          5.1874204047918315,
          -4.631310946303213,
          9.097758623503793,
          -4.631310946303213,
          -4.631310946303213,
          3.185119571393802,
          -4.631310946303213,
          -7.654168304490804,
          -3.9860429272055575,
          8.159060616415715,
          2.4060571049153046,
          -4.631310946303213,
          -4.840719512495351,
          1.0934051407932577,
          -11.664268424341795,
          -4.631310946303213,
          -4.631310946303213,
          -4.631310946303213,
          -4.631310946303213,
          6.648290382205557,
          -13.554664332443023,
          -4.631310946303213,
          -4.631310946303213,
          -1.952982762204114,
          -4.631310946303213,
          -4.551593225729311,
          -5.429975159347878,
          2.4060571049153046,
          2.5254853627481477,
          -4.631310946303213,
          -4.631310946303213,
          -4.631310946303213,
          -4.631310946303213,
          -6.4195052581949135,
          5.248820425145273,
          6.846924342886207,
          -4.631310946303213,
          -3.9860429272055575,
          -4.631310946303213,
          -4.551593225729311,
          -2.5457781855605432,
          -4.631310946303213,
          -4.631310946303213,
          6.7374366072059155,
          -3.9860429272055575,
          -10.851025376067213,
          -4.250137765608997,
          -4.631310946303213,
          17.46694447213397,
          -5.669958220536464,
          5.248820425145273,
          4.930277588928744,
          -4.631310946303213,
          -4.631310946303213,
          -4.631310946303213,
          3.1291500036785935,
          -4.631310946303213,
          -4.631310946303213,
          -4.840719512495351,
          -4.631310946303213,
          -4.631310946303213,
          2.4060571049153046,
          -4.631310946303213,
          -4.631310946303213,
          4.036564781167606,
          -7.654168304490804,
          -4.631310946303213,
          -4.631310946303213,
          1.0934051407932577,
          -3.0344022805557924,
          -4.631310946303213,
          -3.9860429272055575,
          -9.899138398881702,
          -4.250137765608997,
          5.960937772484054,
          -4.631310946303213,
          -4.250137765608997,
          -4.631310946303213,
          -4.631310946303213,
          -0.6522222948931011,
          -6.4195052581949135,
          3.281444253213639,
          4.778981766937762,
          -7.479424674779689,
          -4.631310946303213,
          0.27306808301110763,
          -4.631310946303213,
          -4.631310946303213,
          6.648290382205557,
          -4.631310946303213,
          2.4060571049153046,
          -3.3492910197644887,
          14.773766187148896,
          -4.631310946303213,
          4.778981766937762,
          -4.631310946303213,
          4.320371084333741,
          -4.631310946303213,
          -4.631310946303213,
          4.036564781167606,
          -6.4195052581949135,
          -6.4195052581949135,
          -4.631310946303213,
          -7.654168304490804,
          -4.631310946303213,
          -4.631310946303213,
          2.4060571049153046,
          -4.631310946303213,
          6.648290382205557,
          -4.631310946303213,
          -4.631310946303213,
          0.5574183866648985,
          -4.631310946303213,
          13.733826889656363,
          -4.631310946303213,
          -4.631310946303213,
          -1.685154266617983,
          -4.631310946303213,
          -0.8976867331258576,
          -4.631310946303213,
          5.602567289907268,
          -1.4525874363812696,
          -4.631310946303213,
          -3.2803265453192343,
          2.6347781084564925,
          -4.631310946303213,
          1.0934051407932577,
          -4.631310946303213,
          -4.631310946303213,
          5.602567289907268,
          2.6347781084564925,
          -6.624987344840749,
          -4.631310946303213,
          -4.631310946303213,
          -6.23569130318039,
          -4.631310946303213,
          -4.631310946303213,
          -4.631310946303213,
          -4.631310946303213,
          -2.5457781855605432,
          -7.654168304490804,
          -4.631310946303213,
          1.0934051407932577,
          -4.631310946303213,
          -4.631310946303213,
          -4.631310946303213,
          -8.687932696914846,
          1.0934051407932577,
          -10.325284365501975,
          -9.899138398881702,
          -10.851025376067213,
          5.2165695283186375,
          4.4272715989058575,
          -4.631310946303213,
          2.4060571049153046,
          -4.631310946303213,
          -4.631310946303213,
          -4.631310946303213,
          1.9031279634728504,
          4.514561296816333,
          -4.631310946303213,
          -4.631310946303213,
          -4.631310946303213,
          -4.631310946303213,
          -4.551593225729311,
          -4.631310946303213,
          -4.631310946303213,
          -4.631310946303213,
          -4.631310946303213,
          -4.631310946303213,
          -4.06889022109711,
          -4.631310946303213,
          4.036564781167606,
          -3.2803265453192343,
          -4.631310946303213,
          -4.631310946303213,
          -4.631310946303213,
          -4.631310946303213,
          3.549803836326526,
          4.4272715989058575,
          -1.685154266617983,
          -4.631310946303213,
          -4.631310946303213,
          2.6347781084564925,
          -4.631310946303213,
          -4.631310946303213,
          -2.5457781855605432,
          -1.685154266617983,
          -4.840719512495351,
          -4.604882750924732,
          4.778981766937762,
          1.0934051407932577,
          -4.631310946303213,
          4.4272715989058575,
          -4.631310946303213,
          -4.442969937857255,
          6.648290382205557,
          3.0989402122261867,
          4.4272715989058575,
          11.758304978931156,
          -4.631310946303213,
          -7.479424674779689,
          -4.631310946303213,
          2.647877190980985,
          4.036564781167606,
          -4.631310946303213,
          -4.631310946303213,
          -4.631310946303213,
          -4.551593225729311,
          -4.250137765608997,
          4.4272715989058575,
          -4.631310946303213,
          -4.551593225729311,
          7.487670239920519,
          5.1874204047918315,
          -4.631310946303213,
          -4.631310946303213,
          5.602567289907268,
          -4.631310946303213,
          -4.631310946303213,
          -4.631310946303213,
          18.49332283856795,
          -4.631310946303213,
          -4.631310946303213,
          -4.631310946303213,
          0.27306808301110763,
          -4.631310946303213,
          -0.2794257524619592,
          -6.4195052581949135,
          -4.631310946303213,
          -4.604882750924732,
          -4.631310946303213,
          -4.840719512495351,
          -4.604882750924732,
          -4.631310946303213,
          -0.38648024923255697,
          -7.654168304490804,
          5.248820425145273,
          -4.631310946303213,
          -4.631310946303213,
          -4.631310946303213,
          4.4272715989058575,
          -4.631310946303213,
          -4.631310946303213,
          2.6347781084564925,
          -4.631310946303213,
          -4.761176834419512,
          -4.250137765608997,
          -4.631310946303213,
          -4.631310946303213,
          -1.685154266617983,
          -4.631310946303213,
          -4.631310946303213,
          -6.4195052581949135,
          6.648290382205557,
          5.248820425145273,
          2.4060571049153046,
          -4.631310946303213,
          7.902596461172884,
          -4.631310946303213,
          -4.631310946303213,
          -3.2803265453192343,
          -4.631310946303213,
          -4.631310946303213,
          -4.631310946303213,
          6.648290382205557,
          6.648290382205557,
          -11.813068872594846,
          4.8080177055584095,
          -4.631310946303213,
          -4.604882750924732,
          -16.604617954283885,
          -6.4195052581949135,
          -3.3492910197644887,
          -4.631310946303213,
          16.341347262327854,
          -3.9860429272055575,
          -13.554664332443023,
          1.0934051407932577,
          7.07454629978137,
          -4.631310946303213,
          -4.631310946303213,
          -4.631310946303213,
          -4.631310946303213,
          -4.631310946303213,
          -4.631310946303213,
          5.602567289907268,
          -4.631310946303213,
          -2.617006759420959,
          5.602567289907268,
          2.4060571049153046,
          7.225096251299368,
          -11.046776823829962,
          -4.631310946303213,
          4.4272715989058575,
          -4.631310946303213,
          -4.631310946303213,
          -4.631310946303213,
          -4.631310946303213,
          8.900833643230733,
          -4.631310946303213,
          -4.631310946303213,
          -4.631310946303213,
          2.6347781084564925,
          -3.250489548712854,
          1.0934051407932577,
          -4.631310946303213,
          2.181196033629562,
          -6.4195052581949135,
          5.248820425145273,
          -4.631310946303213,
          -5.2435795340464715,
          -4.631310946303213,
          4.036564781167606,
          -4.631310946303213,
          3.463319895874517,
          -2.5457781855605432,
          5.602567289907268,
          -4.551593225729311,
          6.648290382205557,
          4.778981766937762,
          -3.9860429272055575,
          -4.631310946303213,
          -3.9860429272055575,
          -4.631310946303213,
          3.2286223830752636,
          2.6347781084564925,
          -1.019952444261485,
          -7.479424674779689,
          -6.4195052581949135,
          2.6347781084564925,
          -3.2803265453192343,
          -4.631310946303213,
          -4.631310946303213,
          -4.631310946303213,
          -4.631310946303213,
          5.248820425145273,
          -4.631310946303213,
          -13.554664332443023,
          -4.631310946303213,
          -4.631310946303213,
          4.514561296816333,
          -4.631310946303213,
          2.6347781084564925,
          -4.631310946303213,
          4.56899917358935,
          -10.851025376067213,
          -4.631310946303213,
          5.602567289907268,
          -4.631310946303213,
          -2.617006759420959,
          -4.631310946303213,
          -4.631310946303213,
          7.409108292410971,
          1.3628919648713378,
          -6.96844076618004,
          5.602567289907268,
          -4.631310946303213,
          6.3170781014002975,
          -4.631310946303213,
          -4.631310946303213,
          -4.631310946303213,
          16.743163466567413,
          4.115922748896228,
          -7.479424674779689,
          0.27306808301110763,
          -4.631310946303213,
          -4.631310946303213,
          -4.631310946303213,
          -4.631310946303213,
          -3.9860429272055575,
          -4.631310946303213,
          -4.631310946303213,
          -9.899138398881702,
          7.253910720130374,
          -4.631310946303213,
          -4.631310946303213,
          -4.631310946303213,
          -3.9860429272055575,
          -0.4965308008100022,
          -4.631310946303213,
          -4.631310946303213,
          2.4060571049153046,
          -4.631310946303213,
          -4.631310946303213,
          -9.899138398881702,
          -4.631310946303213,
          -4.631310946303213,
          4.088693283330147,
          -10.06995401562939,
          -4.631310946303213,
          -4.631310946303213,
          0.30085536058397366,
          -1.1686490966148044,
          -3.3492910197644887,
          4.4272715989058575,
          6.648290382205557,
          -2.617006759420959,
          -4.631310946303213,
          -4.631310946303213,
          1.0934051407932577,
          -1.685154266617983,
          -4.06889022109711,
          6.414114304109253,
          -4.631310946303213,
          -4.631310946303213,
          -4.631310946303213,
          4.778981766937762,
          -4.631310946303213,
          -4.631310946303213,
          -4.631310946303213,
          5.1874204047918315,
          -4.631310946303213,
          6.677844336264993,
          -4.631310946303213,
          -4.631310946303213,
          -4.631310946303213,
          -4.631310946303213,
          -2.5457781855605432,
          -4.631310946303213,
          -10.851025376067213,
          -10.7950788961368,
          4.778981766937762,
          6.992042927415376,
          -4.631310946303213,
          -4.631310946303213,
          -4.06889022109711,
          -4.598986307304898,
          -4.551593225729311,
          5.133830317003141,
          -2.37440744412436,
          -9.82382400188354,
          -11.046776823829962,
          -4.631310946303213,
          -4.631310946303213,
          -9.874170003092786,
          -4.631310946303213,
          6.648290382205557,
          -4.631310946303213,
          -9.899138398881702,
          5.1874204047918315,
          -4.631310946303213,
          -13.554664332443023,
          1.0934051407932577,
          -4.631310946303213,
          -4.551593225729311,
          -4.631310946303213,
          5.248820425145273,
          -2.617006759420959,
          -4.631310946303213,
          -4.631310946303213,
          4.537688811941187,
          -4.631310946303213,
          -10.851025376067213,
          -4.631310946303213,
          -4.631310946303213,
          -4.631310946303213,
          5.248820425145273,
          -2.8308382924781883,
          -4.631310946303213,
          3.456846789586887,
          4.956452074336792,
          -4.631310946303213,
          4.036564781167606,
          -4.631310946303213,
          -4.631310946303213,
          -4.631310946303213,
          -2.073981846131423,
          5.602567289907268,
          -7.654168304490804,
          -4.631310946303213,
          -4.631310946303213,
          -4.631310946303213,
          -4.631310946303213,
          -3.2803265453192343,
          -7.62857779143401,
          -9.899138398881702,
          1.0934051407932577,
          -4.631310946303213,
          -4.631310946303213,
          -4.551593225729311,
          -2.5457781855605432,
          -2.5457781855605432,
          -1.3077909986758174,
          -9.899138398881702,
          -4.631310946303213,
          -4.631310946303213,
          0.30085536058397366,
          -4.631310946303213,
          -4.551593225729311,
          -4.631310946303213,
          -4.631310946303213,
          -4.631310946303213,
          7.911895601819241,
          -4.631310946303213,
          -3.3492910197644887,
          -4.631310946303213,
          7.902596461172884,
          7.68740312680074,
          -4.631310946303213,
          -7.654168304490804,
          -13.209156347804296,
          -4.631310946303213,
          5.602567289907268,
          -4.631310946303213,
          -13.554664332443023,
          -4.631310946303213,
          -2.617006759420959,
          -4.631310946303213,
          7.409108292410971,
          -4.631310946303213,
          -4.631310946303213,
          0.27306808301110763,
          -2.5457781855605432,
          -4.631310946303213,
          2.4060571049153046,
          -4.631310946303213,
          -3.250489548712854,
          -4.631310946303213,
          -4.551593225729311,
          -4.631310946303213,
          -4.631310946303213,
          -4.631310946303213,
          -7.654168304490804,
          -7.479424674779689,
          3.4528163025911995,
          -0.5647503713969271,
          -4.460383303872706,
          -4.631310946303213,
          -1.685154266617983,
          6.846924342886207,
          4.778981766937762,
          -4.551593225729311,
          -13.554664332443023,
          4.778981766937762,
          -4.631310946303213,
          -4.631310946303213,
          -3.349513700939122,
          -4.631310946303213,
          -4.631310946303213,
          -2.5457781855605432,
          -4.631310946303213,
          3.2679087022344566,
          -4.551593225729311,
          -4.631310946303213,
          -9.899138398881702,
          -4.631310946303213,
          -4.631310946303213,
          -2.5457781855605432,
          -4.840719512495351,
          -10.851025376067213,
          2.6347781084564925,
          16.756670878022817,
          -4.631310946303213,
          -4.631310946303213,
          6.648290382205557,
          -3.2803265453192343,
          -4.631310946303213,
          -4.631310946303213,
          -4.631310946303213,
          1.7682795603725543,
          -7.654168304490804,
          -4.631310946303213,
          -4.631310946303213,
          -4.631310946303213,
          17.171572602203476,
          -3.685469135992725,
          -4.604882750924732,
          6.648290382205557,
          -4.631310946303213,
          -4.631310946303213,
          -4.631310946303213,
          -4.631310946303213,
          5.602567289907268,
          -4.631310946303213,
          -4.250137765608997,
          -4.631310946303213,
          -7.233496043898291,
          -7.654168304490804,
          4.778981766937762,
          -1.685154266617983,
          -4.631310946303213,
          -2.617006759420959,
          -4.631310946303213,
          -3.2803265453192343,
          -4.631310946303213,
          -6.123058948902749,
          -4.631310946303213,
          -4.631310946303213,
          -3.3492910197644887,
          1.1214197469396447,
          -4.631310946303213,
          -4.631310946303213,
          -4.631310946303213,
          -4.631310946303213,
          -4.631310946303213,
          -4.631310946303213,
          -10.851025376067213,
          -2.5457781855605432,
          -4.631310946303213,
          -4.631310946303213,
          -4.631310946303213,
          -4.631310946303213,
          -4.631310946303213,
          -4.631310946303213,
          4.778981766937762,
          1.0934051407932577,
          4.036564781167606,
          -4.631310946303213,
          1.0934051407932577,
          -4.631310946303213,
          -4.631310946303213,
          15.108092059433043,
          -4.631310946303213,
          -4.631310946303213,
          -3.5615146184092006,
          -4.631310946303213,
          -9.899138398881702,
          -7.479424674779689,
          2.4060571049153046,
          -4.631310946303213,
          -4.631310946303213,
          -4.631310946303213,
          -4.631310946303213,
          -4.460383303872706,
          6.414114304109253,
          -3.9860429272055575,
          -4.631310946303213,
          -10.851025376067213,
          5.1874204047918315,
          0.27306808301110763,
          4.4272715989058575,
          -4.631310946303213,
          2.4060571049153046,
          -4.621252734833625,
          8.689577528263825,
          -4.551593225729311,
          -4.06889022109711,
          -4.631310946303213,
          -3.3492910197644887,
          -2.590020368002144,
          2.6347781084564925,
          -1.685154266617983,
          -4.631310946303213,
          2.4060571049153046,
          -13.554664332443023,
          -6.4195052581949135,
          4.036564781167606,
          -4.631310946303213,
          -4.631310946303213,
          -0.4874249778358597,
          -4.631310946303213,
          0.8960949217894809,
          -4.631310946303213,
          4.778981766937762,
          -4.631310946303213,
          -4.631310946303213,
          -10.42161199052487,
          4.778981766937762,
          -4.631310946303213,
          -6.4195052581949135,
          -4.631310946303213,
          -10.851025376067213,
          -4.631310946303213,
          -14.36092542209212,
          -4.631310946303213,
          -13.554664332443023,
          -4.631310946303213,
          0.27306808301110763,
          0.27306808301110763,
          -4.840719512495351,
          -4.631310946303213,
          3.590923427845061,
          -4.631310946303213,
          -4.631310946303213,
          -4.631310946303213,
          -4.631310946303213,
          -1.685154266617983,
          -4.631310946303213,
          -4.840719512495351,
          -9.757231610515793,
          -4.631310946303213,
          -4.631310946303213,
          6.648290382205557,
          -4.631310946303213,
          0.27306808301110763,
          -13.554664332443023,
          0.27306808301110763,
          -4.631310946303213,
          -6.194396428133353,
          2.2666082597400328,
          -2.0427070157150395,
          1.0934051407932577,
          -4.631310946303213,
          -0.38648024923255697,
          -4.631310946303213,
          -4.631310946303213,
          -4.631310946303213,
          -4.631310946303213,
          -4.631310946303213,
          -4.631310946303213,
          -13.554664332443023,
          5.1874204047918315,
          -5.634739713933412,
          -4.604882750924732,
          -4.631310946303213,
          -10.851025376067213,
          -4.631310946303213,
          -1.685154266617983,
          -3.3492910197644887,
          3.740754697035742,
          -4.631310946303213,
          -4.631310946303213,
          -3.9860429272055575,
          -8.687932696914846,
          -4.631310946303213,
          -4.631310946303213,
          -4.631310946303213,
          -4.631310946303213,
          -4.631310946303213,
          -9.453294729393026,
          -2.5457781855605432,
          -4.631310946303213,
          -4.631310946303213,
          -4.631310946303213,
          2.4060571049153046,
          -1.685154266617983,
          14.773766187148896,
          -4.631310946303213,
          5.602567289907268,
          -4.631310946303213,
          1.0934051407932577,
          -3.2803265453192343,
          -4.631310946303213,
          2.4060571049153046,
          -4.631310946303213,
          5.1874204047918315,
          -4.631310946303213,
          -4.631310946303213,
          -4.2795337389157195,
          -4.631310946303213,
          6.648290382205557,
          -4.631310946303213,
          -2.5457781855605432,
          -4.551593225729311,
          -3.419816842915102,
          -4.631310946303213,
          -4.631310946303213,
          -4.631310946303213,
          -4.631310946303213,
          -4.250137765608997,
          3.6424052614537628,
          -4.631310946303213,
          0.27306808301110763,
          -4.2795337389157195,
          -4.631310946303213,
          -4.631310946303213,
          5.896189060655321,
          0.27306808301110763,
          -4.631310946303213,
          -4.250137765608997,
          -4.631310946303213,
          -16.29468227330556,
          4.4272715989058575,
          -4.631310946303213,
          -4.06889022109711,
          5.248820425145273,
          4.778981766937762,
          -4.631310946303213,
          -4.631310946303213,
          -4.840719512495351,
          -4.631310946303213,
          6.677844336264993,
          -4.631310946303213,
          -4.631310946303213,
          5.043113783659825,
          -4.631310946303213,
          16.28422045111384,
          -4.631310946303213,
          -4.631310946303213,
          -3.250489548712854,
          -4.631310946303213,
          -4.840719512495351,
          -4.631310946303213,
          3.711644694516436,
          -4.250137765608997,
          -13.554664332443023,
          -4.250137765608997,
          -4.631310946303213,
          -11.664268424341795,
          -4.06889022109711,
          -4.631310946303213,
          -4.631310946303213,
          -3.2803265453192343,
          6.648290382205557,
          -4.631310946303213,
          6.648290382205557,
          -4.631310946303213,
          -0.38648024923255697,
          -3.9860429272055575,
          1.0934051407932577,
          -4.631310946303213,
          -3.9860429272055575,
          -4.604882750924732,
          4.778981766937762,
          -4.631310946303213,
          -12.392599046846641,
          6.648290382205557,
          -4.631310946303213,
          4.036564781167606,
          -4.631310946303213,
          5.602567289907268,
          -4.631310946303213,
          -4.631310946303213,
          -4.631310946303213,
          -4.631310946303213,
          -13.47530234753732,
          5.1874204047918315,
          -4.631310946303213,
          -9.899138398881702,
          -4.631310946303213,
          -4.250137765608997,
          -4.631310946303213,
          -4.631310946303213,
          -4.631310946303213,
          -3.2803265453192343,
          -4.631310946303213,
          -4.631310946303213,
          -4.631310946303213,
          -4.631310946303213,
          -4.631310946303213,
          -4.631310946303213,
          -2.5457781855605432,
          -7.479424674779689,
          -4.631310946303213,
          -4.631310946303213,
          -4.631310946303213,
          -10.851025376067213,
          2.493946168508221,
          -4.250137765608997,
          -4.631310946303213,
          -4.631310946303213,
          5.1874204047918315,
          -4.631310946303213,
          -4.631310946303213,
          -4.631310946303213,
          -4.631310946303213,
          2.4060571049153046,
          -4.631310946303213,
          5.248820425145273,
          -13.554664332443023,
          -4.631310946303213,
          -4.631310946303213,
          -4.631310946303213,
          -12.96977204693588,
          -5.634739713933412,
          -3.2803265453192343,
          -4.631310946303213,
          -4.631310946303213,
          -4.631310946303213,
          -4.631310946303213,
          6.648290382205557,
          2.448826532378323,
          -4.631310946303213,
          -4.631310946303213,
          -4.631310946303213,
          -4.631310946303213,
          -4.631310946303213,
          -10.851025376067213,
          -3.3492910197644887,
          -6.4195052581949135,
          -4.631310946303213,
          -4.631310946303213,
          -4.631310946303213,
          -19.192419312325026,
          -4.631310946303213,
          13.209435825035643,
          -4.631310946303213,
          4.778981766937762,
          5.017717273813971,
          -4.631310946303213,
          6.986145750588135,
          7.862905853771962,
          -4.631310946303213,
          5.602567289907268,
          -4.631310946303213,
          -7.10963494267467,
          2.6347781084564925,
          -4.631310946303213,
          5.807745438653966,
          -4.631310946303213,
          -9.899138398881702,
          -4.604882750924732,
          -13.554664332443023,
          -7.654168304490804,
          5.602567289907268,
          -4.631310946303213,
          -4.631310946303213,
          4.4272715989058575,
          -3.3225075560748496,
          -4.631310946303213,
          2.4060571049153046,
          4.4272715989058575,
          -4.604882750924732,
          4.4272715989058575,
          -2.0427070157150395,
          -4.631310946303213,
          -3.3492910197644887,
          -4.631310946303213,
          -4.631310946303213,
          -4.631310946303213,
          -7.479424674779689,
          -3.3492910197644887,
          2.6347781084564925,
          -4.631310946303213,
          -4.631310946303213,
          -4.631310946303213,
          -4.631310946303213,
          -4.631310946303213,
          -16.136288864776727,
          -4.631310946303213,
          -0.2305432262635354,
          0.27306808301110763,
          2.6347781084564925,
          -3.2803265453192343,
          -4.631310946303213,
          -2.5457781855605432,
          -4.631310946303213,
          -4.631310946303213,
          -4.631310946303213,
          -1.9256729014540563,
          2.6347781084564925,
          6.648290382205557,
          -4.631310946303213,
          -7.479424674779689,
          6.648290382205557,
          -3.9860429272055575,
          5.248820425145273,
          -4.631310946303213,
          -4.631310946303213,
          3.73805268649412,
          -2.617006759420959,
          -4.631310946303213,
          -4.631310946303213,
          -4.604882750924732,
          -9.899138398881702,
          -1.685154266617983,
          -4.631310946303213,
          2.6347781084564925,
          4.648599832542488,
          -4.631310946303213,
          -7.654168304490804,
          -6.4195052581949135,
          1.0934051407932577,
          -4.250137765608997,
          2.390958796150855,
          5.851042314566368,
          -4.631310946303213,
          -4.631310946303213,
          -4.631310946303213,
          -4.631310946303213,
          -3.9860429272055575,
          -4.631310946303213,
          -4.631310946303213,
          -3.9860429272055575,
          -4.631310946303213,
          -4.631310946303213,
          -3.9860429272055575,
          -4.631310946303213,
          5.044184108843153,
          -4.840719512495351,
          5.602567289907268,
          -1.685154266617983,
          5.248820425145273,
          -4.631310946303213,
          4.778981766937762
         ],
         "y0": " ",
         "yaxis": "y"
        }
       ],
       "layout": {
        "boxmode": "group",
        "height": 600,
        "legend": {
         "title": {
          "text": "model_type"
         },
         "tracegroupgap": 0
        },
        "margin": {
         "t": 60
        },
        "template": {
         "data": {
          "bar": [
           {
            "error_x": {
             "color": "#2a3f5f"
            },
            "error_y": {
             "color": "#2a3f5f"
            },
            "marker": {
             "line": {
              "color": "#E5ECF6",
              "width": 0.5
             },
             "pattern": {
              "fillmode": "overlay",
              "size": 10,
              "solidity": 0.2
             }
            },
            "type": "bar"
           }
          ],
          "barpolar": [
           {
            "marker": {
             "line": {
              "color": "#E5ECF6",
              "width": 0.5
             },
             "pattern": {
              "fillmode": "overlay",
              "size": 10,
              "solidity": 0.2
             }
            },
            "type": "barpolar"
           }
          ],
          "carpet": [
           {
            "aaxis": {
             "endlinecolor": "#2a3f5f",
             "gridcolor": "white",
             "linecolor": "white",
             "minorgridcolor": "white",
             "startlinecolor": "#2a3f5f"
            },
            "baxis": {
             "endlinecolor": "#2a3f5f",
             "gridcolor": "white",
             "linecolor": "white",
             "minorgridcolor": "white",
             "startlinecolor": "#2a3f5f"
            },
            "type": "carpet"
           }
          ],
          "choropleth": [
           {
            "colorbar": {
             "outlinewidth": 0,
             "ticks": ""
            },
            "type": "choropleth"
           }
          ],
          "contour": [
           {
            "colorbar": {
             "outlinewidth": 0,
             "ticks": ""
            },
            "colorscale": [
             [
              0,
              "#0d0887"
             ],
             [
              0.1111111111111111,
              "#46039f"
             ],
             [
              0.2222222222222222,
              "#7201a8"
             ],
             [
              0.3333333333333333,
              "#9c179e"
             ],
             [
              0.4444444444444444,
              "#bd3786"
             ],
             [
              0.5555555555555556,
              "#d8576b"
             ],
             [
              0.6666666666666666,
              "#ed7953"
             ],
             [
              0.7777777777777778,
              "#fb9f3a"
             ],
             [
              0.8888888888888888,
              "#fdca26"
             ],
             [
              1,
              "#f0f921"
             ]
            ],
            "type": "contour"
           }
          ],
          "contourcarpet": [
           {
            "colorbar": {
             "outlinewidth": 0,
             "ticks": ""
            },
            "type": "contourcarpet"
           }
          ],
          "heatmap": [
           {
            "colorbar": {
             "outlinewidth": 0,
             "ticks": ""
            },
            "colorscale": [
             [
              0,
              "#0d0887"
             ],
             [
              0.1111111111111111,
              "#46039f"
             ],
             [
              0.2222222222222222,
              "#7201a8"
             ],
             [
              0.3333333333333333,
              "#9c179e"
             ],
             [
              0.4444444444444444,
              "#bd3786"
             ],
             [
              0.5555555555555556,
              "#d8576b"
             ],
             [
              0.6666666666666666,
              "#ed7953"
             ],
             [
              0.7777777777777778,
              "#fb9f3a"
             ],
             [
              0.8888888888888888,
              "#fdca26"
             ],
             [
              1,
              "#f0f921"
             ]
            ],
            "type": "heatmap"
           }
          ],
          "heatmapgl": [
           {
            "colorbar": {
             "outlinewidth": 0,
             "ticks": ""
            },
            "colorscale": [
             [
              0,
              "#0d0887"
             ],
             [
              0.1111111111111111,
              "#46039f"
             ],
             [
              0.2222222222222222,
              "#7201a8"
             ],
             [
              0.3333333333333333,
              "#9c179e"
             ],
             [
              0.4444444444444444,
              "#bd3786"
             ],
             [
              0.5555555555555556,
              "#d8576b"
             ],
             [
              0.6666666666666666,
              "#ed7953"
             ],
             [
              0.7777777777777778,
              "#fb9f3a"
             ],
             [
              0.8888888888888888,
              "#fdca26"
             ],
             [
              1,
              "#f0f921"
             ]
            ],
            "type": "heatmapgl"
           }
          ],
          "histogram": [
           {
            "marker": {
             "pattern": {
              "fillmode": "overlay",
              "size": 10,
              "solidity": 0.2
             }
            },
            "type": "histogram"
           }
          ],
          "histogram2d": [
           {
            "colorbar": {
             "outlinewidth": 0,
             "ticks": ""
            },
            "colorscale": [
             [
              0,
              "#0d0887"
             ],
             [
              0.1111111111111111,
              "#46039f"
             ],
             [
              0.2222222222222222,
              "#7201a8"
             ],
             [
              0.3333333333333333,
              "#9c179e"
             ],
             [
              0.4444444444444444,
              "#bd3786"
             ],
             [
              0.5555555555555556,
              "#d8576b"
             ],
             [
              0.6666666666666666,
              "#ed7953"
             ],
             [
              0.7777777777777778,
              "#fb9f3a"
             ],
             [
              0.8888888888888888,
              "#fdca26"
             ],
             [
              1,
              "#f0f921"
             ]
            ],
            "type": "histogram2d"
           }
          ],
          "histogram2dcontour": [
           {
            "colorbar": {
             "outlinewidth": 0,
             "ticks": ""
            },
            "colorscale": [
             [
              0,
              "#0d0887"
             ],
             [
              0.1111111111111111,
              "#46039f"
             ],
             [
              0.2222222222222222,
              "#7201a8"
             ],
             [
              0.3333333333333333,
              "#9c179e"
             ],
             [
              0.4444444444444444,
              "#bd3786"
             ],
             [
              0.5555555555555556,
              "#d8576b"
             ],
             [
              0.6666666666666666,
              "#ed7953"
             ],
             [
              0.7777777777777778,
              "#fb9f3a"
             ],
             [
              0.8888888888888888,
              "#fdca26"
             ],
             [
              1,
              "#f0f921"
             ]
            ],
            "type": "histogram2dcontour"
           }
          ],
          "mesh3d": [
           {
            "colorbar": {
             "outlinewidth": 0,
             "ticks": ""
            },
            "type": "mesh3d"
           }
          ],
          "parcoords": [
           {
            "line": {
             "colorbar": {
              "outlinewidth": 0,
              "ticks": ""
             }
            },
            "type": "parcoords"
           }
          ],
          "pie": [
           {
            "automargin": true,
            "type": "pie"
           }
          ],
          "scatter": [
           {
            "fillpattern": {
             "fillmode": "overlay",
             "size": 10,
             "solidity": 0.2
            },
            "type": "scatter"
           }
          ],
          "scatter3d": [
           {
            "line": {
             "colorbar": {
              "outlinewidth": 0,
              "ticks": ""
             }
            },
            "marker": {
             "colorbar": {
              "outlinewidth": 0,
              "ticks": ""
             }
            },
            "type": "scatter3d"
           }
          ],
          "scattercarpet": [
           {
            "marker": {
             "colorbar": {
              "outlinewidth": 0,
              "ticks": ""
             }
            },
            "type": "scattercarpet"
           }
          ],
          "scattergeo": [
           {
            "marker": {
             "colorbar": {
              "outlinewidth": 0,
              "ticks": ""
             }
            },
            "type": "scattergeo"
           }
          ],
          "scattergl": [
           {
            "marker": {
             "colorbar": {
              "outlinewidth": 0,
              "ticks": ""
             }
            },
            "type": "scattergl"
           }
          ],
          "scattermapbox": [
           {
            "marker": {
             "colorbar": {
              "outlinewidth": 0,
              "ticks": ""
             }
            },
            "type": "scattermapbox"
           }
          ],
          "scatterpolar": [
           {
            "marker": {
             "colorbar": {
              "outlinewidth": 0,
              "ticks": ""
             }
            },
            "type": "scatterpolar"
           }
          ],
          "scatterpolargl": [
           {
            "marker": {
             "colorbar": {
              "outlinewidth": 0,
              "ticks": ""
             }
            },
            "type": "scatterpolargl"
           }
          ],
          "scatterternary": [
           {
            "marker": {
             "colorbar": {
              "outlinewidth": 0,
              "ticks": ""
             }
            },
            "type": "scatterternary"
           }
          ],
          "surface": [
           {
            "colorbar": {
             "outlinewidth": 0,
             "ticks": ""
            },
            "colorscale": [
             [
              0,
              "#0d0887"
             ],
             [
              0.1111111111111111,
              "#46039f"
             ],
             [
              0.2222222222222222,
              "#7201a8"
             ],
             [
              0.3333333333333333,
              "#9c179e"
             ],
             [
              0.4444444444444444,
              "#bd3786"
             ],
             [
              0.5555555555555556,
              "#d8576b"
             ],
             [
              0.6666666666666666,
              "#ed7953"
             ],
             [
              0.7777777777777778,
              "#fb9f3a"
             ],
             [
              0.8888888888888888,
              "#fdca26"
             ],
             [
              1,
              "#f0f921"
             ]
            ],
            "type": "surface"
           }
          ],
          "table": [
           {
            "cells": {
             "fill": {
              "color": "#EBF0F8"
             },
             "line": {
              "color": "white"
             }
            },
            "header": {
             "fill": {
              "color": "#C8D4E3"
             },
             "line": {
              "color": "white"
             }
            },
            "type": "table"
           }
          ]
         },
         "layout": {
          "annotationdefaults": {
           "arrowcolor": "#2a3f5f",
           "arrowhead": 0,
           "arrowwidth": 1
          },
          "autotypenumbers": "strict",
          "coloraxis": {
           "colorbar": {
            "outlinewidth": 0,
            "ticks": ""
           }
          },
          "colorscale": {
           "diverging": [
            [
             0,
             "#8e0152"
            ],
            [
             0.1,
             "#c51b7d"
            ],
            [
             0.2,
             "#de77ae"
            ],
            [
             0.3,
             "#f1b6da"
            ],
            [
             0.4,
             "#fde0ef"
            ],
            [
             0.5,
             "#f7f7f7"
            ],
            [
             0.6,
             "#e6f5d0"
            ],
            [
             0.7,
             "#b8e186"
            ],
            [
             0.8,
             "#7fbc41"
            ],
            [
             0.9,
             "#4d9221"
            ],
            [
             1,
             "#276419"
            ]
           ],
           "sequential": [
            [
             0,
             "#0d0887"
            ],
            [
             0.1111111111111111,
             "#46039f"
            ],
            [
             0.2222222222222222,
             "#7201a8"
            ],
            [
             0.3333333333333333,
             "#9c179e"
            ],
            [
             0.4444444444444444,
             "#bd3786"
            ],
            [
             0.5555555555555556,
             "#d8576b"
            ],
            [
             0.6666666666666666,
             "#ed7953"
            ],
            [
             0.7777777777777778,
             "#fb9f3a"
            ],
            [
             0.8888888888888888,
             "#fdca26"
            ],
            [
             1,
             "#f0f921"
            ]
           ],
           "sequentialminus": [
            [
             0,
             "#0d0887"
            ],
            [
             0.1111111111111111,
             "#46039f"
            ],
            [
             0.2222222222222222,
             "#7201a8"
            ],
            [
             0.3333333333333333,
             "#9c179e"
            ],
            [
             0.4444444444444444,
             "#bd3786"
            ],
            [
             0.5555555555555556,
             "#d8576b"
            ],
            [
             0.6666666666666666,
             "#ed7953"
            ],
            [
             0.7777777777777778,
             "#fb9f3a"
            ],
            [
             0.8888888888888888,
             "#fdca26"
            ],
            [
             1,
             "#f0f921"
            ]
           ]
          },
          "colorway": [
           "#636efa",
           "#EF553B",
           "#00cc96",
           "#ab63fa",
           "#FFA15A",
           "#19d3f3",
           "#FF6692",
           "#B6E880",
           "#FF97FF",
           "#FECB52"
          ],
          "font": {
           "color": "#2a3f5f"
          },
          "geo": {
           "bgcolor": "white",
           "lakecolor": "white",
           "landcolor": "#E5ECF6",
           "showlakes": true,
           "showland": true,
           "subunitcolor": "white"
          },
          "hoverlabel": {
           "align": "left"
          },
          "hovermode": "closest",
          "mapbox": {
           "style": "light"
          },
          "paper_bgcolor": "white",
          "plot_bgcolor": "#E5ECF6",
          "polar": {
           "angularaxis": {
            "gridcolor": "white",
            "linecolor": "white",
            "ticks": ""
           },
           "bgcolor": "#E5ECF6",
           "radialaxis": {
            "gridcolor": "white",
            "linecolor": "white",
            "ticks": ""
           }
          },
          "scene": {
           "xaxis": {
            "backgroundcolor": "#E5ECF6",
            "gridcolor": "white",
            "gridwidth": 2,
            "linecolor": "white",
            "showbackground": true,
            "ticks": "",
            "zerolinecolor": "white"
           },
           "yaxis": {
            "backgroundcolor": "#E5ECF6",
            "gridcolor": "white",
            "gridwidth": 2,
            "linecolor": "white",
            "showbackground": true,
            "ticks": "",
            "zerolinecolor": "white"
           },
           "zaxis": {
            "backgroundcolor": "#E5ECF6",
            "gridcolor": "white",
            "gridwidth": 2,
            "linecolor": "white",
            "showbackground": true,
            "ticks": "",
            "zerolinecolor": "white"
           }
          },
          "shapedefaults": {
           "line": {
            "color": "#2a3f5f"
           }
          },
          "ternary": {
           "aaxis": {
            "gridcolor": "white",
            "linecolor": "white",
            "ticks": ""
           },
           "baxis": {
            "gridcolor": "white",
            "linecolor": "white",
            "ticks": ""
           },
           "bgcolor": "#E5ECF6",
           "caxis": {
            "gridcolor": "white",
            "linecolor": "white",
            "ticks": ""
           }
          },
          "title": {
           "x": 0.05
          },
          "xaxis": {
           "automargin": true,
           "gridcolor": "white",
           "linecolor": "white",
           "ticks": "",
           "title": {
            "standoff": 15
           },
           "zerolinecolor": "white",
           "zerolinewidth": 2
          },
          "yaxis": {
           "automargin": true,
           "gridcolor": "white",
           "linecolor": "white",
           "ticks": "",
           "title": {
            "standoff": 15
           },
           "zerolinecolor": "white",
           "zerolinewidth": 2
          }
         }
        },
        "width": 800,
        "xaxis": {
         "anchor": "y",
         "domain": [
          0,
          1
         ]
        },
        "yaxis": {
         "anchor": "x",
         "domain": [
          0,
          1
         ],
         "title": {
          "text": "fmt_total_profit_percentage"
         }
        }
       }
      }
     },
     "metadata": {},
     "output_type": "display_data"
    }
   ],
   "source": [
    "fig = px.box(df_trader_results, y=\"fmt_total_profit_percentage\", color=\"model_type\", points=\"all\", color_discrete_sequence=[ \"#FF7F0E\", \"#00CC96\", \"#10aded\", \"#8A56EF\"],  width=800, height=600)\n",
    "fig.show()"
   ]
  },
  {
   "cell_type": "code",
   "execution_count": 18,
   "metadata": {},
   "outputs": [
    {
     "data": {
      "application/vnd.plotly.v1+json": {
       "config": {
        "plotlyServerURL": "https://plot.ly"
       },
       "data": [
        {
         "alignmentgroup": "True",
         "bingroup": "x",
         "hovertemplate": "model_type=DQN<br>fmt_total_profit_percentage=%{x}<br>count=%{y}<extra></extra>",
         "legendgroup": "DQN",
         "marker": {
          "color": "#FF7F0E",
          "pattern": {
           "shape": ""
          }
         },
         "name": "DQN",
         "offsetgroup": "DQN",
         "orientation": "v",
         "showlegend": true,
         "type": "histogram",
         "x": [
          -4.631310946303213,
          -4.631310946303213,
          -3.3492910197644887,
          -10.851025376067213,
          -4.631310946303213,
          -4.631310946303213,
          4.56899917358935,
          -4.631310946303213,
          -4.631310946303213,
          -4.631310946303213,
          -4.631310946303213,
          -2.5751526397142066,
          -13.554664332443023,
          -4.604882750924732,
          5.1874204047918315,
          -4.631310946303213,
          -4.631310946303213,
          -4.631310946303213,
          5.317323697949328,
          -4.250137765608997,
          -4.631310946303213,
          2.4060571049153046,
          -9.899138398881702,
          -4.631310946303213,
          5.1874204047918315,
          -4.631310946303213,
          9.097758623503793,
          -4.631310946303213,
          -4.631310946303213,
          3.185119571393802,
          -4.631310946303213,
          -7.654168304490804,
          -3.9860429272055575,
          8.159060616415715,
          2.4060571049153046,
          -4.631310946303213,
          -4.840719512495351,
          1.0934051407932577,
          -11.664268424341795,
          -4.631310946303213,
          -4.631310946303213,
          -4.631310946303213,
          -4.631310946303213,
          6.648290382205557,
          -13.554664332443023,
          -4.631310946303213,
          -4.631310946303213,
          -1.952982762204114,
          -4.631310946303213,
          -4.551593225729311,
          -5.429975159347878,
          2.4060571049153046,
          2.5254853627481477,
          -4.631310946303213,
          -4.631310946303213,
          -4.631310946303213,
          -4.631310946303213,
          -6.4195052581949135,
          5.248820425145273,
          6.846924342886207,
          -4.631310946303213,
          -3.9860429272055575,
          -4.631310946303213,
          -4.551593225729311,
          -2.5457781855605432,
          -4.631310946303213,
          -4.631310946303213,
          6.7374366072059155,
          -3.9860429272055575,
          -10.851025376067213,
          -4.250137765608997,
          -4.631310946303213,
          17.46694447213397,
          -5.669958220536464,
          5.248820425145273,
          4.930277588928744,
          -4.631310946303213,
          -4.631310946303213,
          -4.631310946303213,
          3.1291500036785935,
          -4.631310946303213,
          -4.631310946303213,
          -4.840719512495351,
          -4.631310946303213,
          -4.631310946303213,
          2.4060571049153046,
          -4.631310946303213,
          -4.631310946303213,
          4.036564781167606,
          -7.654168304490804,
          -4.631310946303213,
          -4.631310946303213,
          1.0934051407932577,
          -3.0344022805557924,
          -4.631310946303213,
          -3.9860429272055575,
          -9.899138398881702,
          -4.250137765608997,
          5.960937772484054,
          -4.631310946303213,
          -4.250137765608997,
          -4.631310946303213,
          -4.631310946303213,
          -0.6522222948931011,
          -6.4195052581949135,
          3.281444253213639,
          4.778981766937762,
          -7.479424674779689,
          -4.631310946303213,
          0.27306808301110763,
          -4.631310946303213,
          -4.631310946303213,
          6.648290382205557,
          -4.631310946303213,
          2.4060571049153046,
          -3.3492910197644887,
          14.773766187148896,
          -4.631310946303213,
          4.778981766937762,
          -4.631310946303213,
          4.320371084333741,
          -4.631310946303213,
          -4.631310946303213,
          4.036564781167606,
          -6.4195052581949135,
          -6.4195052581949135,
          -4.631310946303213,
          -7.654168304490804,
          -4.631310946303213,
          -4.631310946303213,
          2.4060571049153046,
          -4.631310946303213,
          6.648290382205557,
          -4.631310946303213,
          -4.631310946303213,
          0.5574183866648985,
          -4.631310946303213,
          13.733826889656363,
          -4.631310946303213,
          -4.631310946303213,
          -1.685154266617983,
          -4.631310946303213,
          -0.8976867331258576,
          -4.631310946303213,
          5.602567289907268,
          -1.4525874363812696,
          -4.631310946303213,
          -3.2803265453192343,
          2.6347781084564925,
          -4.631310946303213,
          1.0934051407932577,
          -4.631310946303213,
          -4.631310946303213,
          5.602567289907268,
          2.6347781084564925,
          -6.624987344840749,
          -4.631310946303213,
          -4.631310946303213,
          -6.23569130318039,
          -4.631310946303213,
          -4.631310946303213,
          -4.631310946303213,
          -4.631310946303213,
          -2.5457781855605432,
          -7.654168304490804,
          -4.631310946303213,
          1.0934051407932577,
          -4.631310946303213,
          -4.631310946303213,
          -4.631310946303213,
          -8.687932696914846,
          1.0934051407932577,
          -10.325284365501975,
          -9.899138398881702,
          -10.851025376067213,
          5.2165695283186375,
          4.4272715989058575,
          -4.631310946303213,
          2.4060571049153046,
          -4.631310946303213,
          -4.631310946303213,
          -4.631310946303213,
          1.9031279634728504,
          4.514561296816333,
          -4.631310946303213,
          -4.631310946303213,
          -4.631310946303213,
          -4.631310946303213,
          -4.551593225729311,
          -4.631310946303213,
          -4.631310946303213,
          -4.631310946303213,
          -4.631310946303213,
          -4.631310946303213,
          -4.06889022109711,
          -4.631310946303213,
          4.036564781167606,
          -3.2803265453192343,
          -4.631310946303213,
          -4.631310946303213,
          -4.631310946303213,
          -4.631310946303213,
          3.549803836326526,
          4.4272715989058575,
          -1.685154266617983,
          -4.631310946303213,
          -4.631310946303213,
          2.6347781084564925,
          -4.631310946303213,
          -4.631310946303213,
          -2.5457781855605432,
          -1.685154266617983,
          -4.840719512495351,
          -4.604882750924732,
          4.778981766937762,
          1.0934051407932577,
          -4.631310946303213,
          4.4272715989058575,
          -4.631310946303213,
          -4.442969937857255,
          6.648290382205557,
          3.0989402122261867,
          4.4272715989058575,
          11.758304978931156,
          -4.631310946303213,
          -7.479424674779689,
          -4.631310946303213,
          2.647877190980985,
          4.036564781167606,
          -4.631310946303213,
          -4.631310946303213,
          -4.631310946303213,
          -4.551593225729311,
          -4.250137765608997,
          4.4272715989058575,
          -4.631310946303213,
          -4.551593225729311,
          7.487670239920519,
          5.1874204047918315,
          -4.631310946303213,
          -4.631310946303213,
          5.602567289907268,
          -4.631310946303213,
          -4.631310946303213,
          -4.631310946303213,
          18.49332283856795,
          -4.631310946303213,
          -4.631310946303213,
          -4.631310946303213,
          0.27306808301110763,
          -4.631310946303213,
          -0.2794257524619592,
          -6.4195052581949135,
          -4.631310946303213,
          -4.604882750924732,
          -4.631310946303213,
          -4.840719512495351,
          -4.604882750924732,
          -4.631310946303213,
          -0.38648024923255697,
          -7.654168304490804,
          5.248820425145273,
          -4.631310946303213,
          -4.631310946303213,
          -4.631310946303213,
          4.4272715989058575,
          -4.631310946303213,
          -4.631310946303213,
          2.6347781084564925,
          -4.631310946303213,
          -4.761176834419512,
          -4.250137765608997,
          -4.631310946303213,
          -4.631310946303213,
          -1.685154266617983,
          -4.631310946303213,
          -4.631310946303213,
          -6.4195052581949135,
          6.648290382205557,
          5.248820425145273,
          2.4060571049153046,
          -4.631310946303213,
          7.902596461172884,
          -4.631310946303213,
          -4.631310946303213,
          -3.2803265453192343,
          -4.631310946303213,
          -4.631310946303213,
          -4.631310946303213,
          6.648290382205557,
          6.648290382205557,
          -11.813068872594846,
          4.8080177055584095,
          -4.631310946303213,
          -4.604882750924732,
          -16.604617954283885,
          -6.4195052581949135,
          -3.3492910197644887,
          -4.631310946303213,
          16.341347262327854,
          -3.9860429272055575,
          -13.554664332443023,
          1.0934051407932577,
          7.07454629978137,
          -4.631310946303213,
          -4.631310946303213,
          -4.631310946303213,
          -4.631310946303213,
          -4.631310946303213,
          -4.631310946303213,
          5.602567289907268,
          -4.631310946303213,
          -2.617006759420959,
          5.602567289907268,
          2.4060571049153046,
          7.225096251299368,
          -11.046776823829962,
          -4.631310946303213,
          4.4272715989058575,
          -4.631310946303213,
          -4.631310946303213,
          -4.631310946303213,
          -4.631310946303213,
          8.900833643230733,
          -4.631310946303213,
          -4.631310946303213,
          -4.631310946303213,
          2.6347781084564925,
          -3.250489548712854,
          1.0934051407932577,
          -4.631310946303213,
          2.181196033629562,
          -6.4195052581949135,
          5.248820425145273,
          -4.631310946303213,
          -5.2435795340464715,
          -4.631310946303213,
          4.036564781167606,
          -4.631310946303213,
          3.463319895874517,
          -2.5457781855605432,
          5.602567289907268,
          -4.551593225729311,
          6.648290382205557,
          4.778981766937762,
          -3.9860429272055575,
          -4.631310946303213,
          -3.9860429272055575,
          -4.631310946303213,
          3.2286223830752636,
          2.6347781084564925,
          -1.019952444261485,
          -7.479424674779689,
          -6.4195052581949135,
          2.6347781084564925,
          -3.2803265453192343,
          -4.631310946303213,
          -4.631310946303213,
          -4.631310946303213,
          -4.631310946303213,
          5.248820425145273,
          -4.631310946303213,
          -13.554664332443023,
          -4.631310946303213,
          -4.631310946303213,
          4.514561296816333,
          -4.631310946303213,
          2.6347781084564925,
          -4.631310946303213,
          4.56899917358935,
          -10.851025376067213,
          -4.631310946303213,
          5.602567289907268,
          -4.631310946303213,
          -2.617006759420959,
          -4.631310946303213,
          -4.631310946303213,
          7.409108292410971,
          1.3628919648713378,
          -6.96844076618004,
          5.602567289907268,
          -4.631310946303213,
          6.3170781014002975,
          -4.631310946303213,
          -4.631310946303213,
          -4.631310946303213,
          16.743163466567413,
          4.115922748896228,
          -7.479424674779689,
          0.27306808301110763,
          -4.631310946303213,
          -4.631310946303213,
          -4.631310946303213,
          -4.631310946303213,
          -3.9860429272055575,
          -4.631310946303213,
          -4.631310946303213,
          -9.899138398881702,
          7.253910720130374,
          -4.631310946303213,
          -4.631310946303213,
          -4.631310946303213,
          -3.9860429272055575,
          -0.4965308008100022,
          -4.631310946303213,
          -4.631310946303213,
          2.4060571049153046,
          -4.631310946303213,
          -4.631310946303213,
          -9.899138398881702,
          -4.631310946303213,
          -4.631310946303213,
          4.088693283330147,
          -10.06995401562939,
          -4.631310946303213,
          -4.631310946303213,
          0.30085536058397366,
          -1.1686490966148044,
          -3.3492910197644887,
          4.4272715989058575,
          6.648290382205557,
          -2.617006759420959,
          -4.631310946303213,
          -4.631310946303213,
          1.0934051407932577,
          -1.685154266617983,
          -4.06889022109711,
          6.414114304109253,
          -4.631310946303213,
          -4.631310946303213,
          -4.631310946303213,
          4.778981766937762,
          -4.631310946303213,
          -4.631310946303213,
          -4.631310946303213,
          5.1874204047918315,
          -4.631310946303213,
          6.677844336264993,
          -4.631310946303213,
          -4.631310946303213,
          -4.631310946303213,
          -4.631310946303213,
          -2.5457781855605432,
          -4.631310946303213,
          -10.851025376067213,
          -10.7950788961368,
          4.778981766937762,
          6.992042927415376,
          -4.631310946303213,
          -4.631310946303213,
          -4.06889022109711,
          -4.598986307304898,
          -4.551593225729311,
          5.133830317003141,
          -2.37440744412436,
          -9.82382400188354,
          -11.046776823829962,
          -4.631310946303213,
          -4.631310946303213,
          -9.874170003092786,
          -4.631310946303213,
          6.648290382205557,
          -4.631310946303213,
          -9.899138398881702,
          5.1874204047918315,
          -4.631310946303213,
          -13.554664332443023,
          1.0934051407932577,
          -4.631310946303213,
          -4.551593225729311,
          -4.631310946303213,
          5.248820425145273,
          -2.617006759420959,
          -4.631310946303213,
          -4.631310946303213,
          4.537688811941187,
          -4.631310946303213,
          -10.851025376067213,
          -4.631310946303213,
          -4.631310946303213,
          -4.631310946303213,
          5.248820425145273,
          -2.8308382924781883,
          -4.631310946303213,
          3.456846789586887,
          4.956452074336792,
          -4.631310946303213,
          4.036564781167606,
          -4.631310946303213,
          -4.631310946303213,
          -4.631310946303213,
          -2.073981846131423,
          5.602567289907268,
          -7.654168304490804,
          -4.631310946303213,
          -4.631310946303213,
          -4.631310946303213,
          -4.631310946303213,
          -3.2803265453192343,
          -7.62857779143401,
          -9.899138398881702,
          1.0934051407932577,
          -4.631310946303213,
          -4.631310946303213,
          -4.551593225729311,
          -2.5457781855605432,
          -2.5457781855605432,
          -1.3077909986758174,
          -9.899138398881702,
          -4.631310946303213,
          -4.631310946303213,
          0.30085536058397366,
          -4.631310946303213,
          -4.551593225729311,
          -4.631310946303213,
          -4.631310946303213,
          -4.631310946303213,
          7.911895601819241,
          -4.631310946303213,
          -3.3492910197644887,
          -4.631310946303213,
          7.902596461172884,
          7.68740312680074,
          -4.631310946303213,
          -7.654168304490804,
          -13.209156347804296,
          -4.631310946303213,
          5.602567289907268,
          -4.631310946303213,
          -13.554664332443023,
          -4.631310946303213,
          -2.617006759420959,
          -4.631310946303213,
          7.409108292410971,
          -4.631310946303213,
          -4.631310946303213,
          0.27306808301110763,
          -2.5457781855605432,
          -4.631310946303213,
          2.4060571049153046,
          -4.631310946303213,
          -3.250489548712854,
          -4.631310946303213,
          -4.551593225729311,
          -4.631310946303213,
          -4.631310946303213,
          -4.631310946303213,
          -7.654168304490804,
          -7.479424674779689,
          3.4528163025911995,
          -0.5647503713969271,
          -4.460383303872706,
          -4.631310946303213,
          -1.685154266617983,
          6.846924342886207,
          4.778981766937762,
          -4.551593225729311,
          -13.554664332443023,
          4.778981766937762,
          -4.631310946303213,
          -4.631310946303213,
          -3.349513700939122,
          -4.631310946303213,
          -4.631310946303213,
          -2.5457781855605432,
          -4.631310946303213,
          3.2679087022344566,
          -4.551593225729311,
          -4.631310946303213,
          -9.899138398881702,
          -4.631310946303213,
          -4.631310946303213,
          -2.5457781855605432,
          -4.840719512495351,
          -10.851025376067213,
          2.6347781084564925,
          16.756670878022817,
          -4.631310946303213,
          -4.631310946303213,
          6.648290382205557,
          -3.2803265453192343,
          -4.631310946303213,
          -4.631310946303213,
          -4.631310946303213,
          1.7682795603725543,
          -7.654168304490804,
          -4.631310946303213,
          -4.631310946303213,
          -4.631310946303213,
          17.171572602203476,
          -3.685469135992725,
          -4.604882750924732,
          6.648290382205557,
          -4.631310946303213,
          -4.631310946303213,
          -4.631310946303213,
          -4.631310946303213,
          5.602567289907268,
          -4.631310946303213,
          -4.250137765608997,
          -4.631310946303213,
          -7.233496043898291,
          -7.654168304490804,
          4.778981766937762,
          -1.685154266617983,
          -4.631310946303213,
          -2.617006759420959,
          -4.631310946303213,
          -3.2803265453192343,
          -4.631310946303213,
          -6.123058948902749,
          -4.631310946303213,
          -4.631310946303213,
          -3.3492910197644887,
          1.1214197469396447,
          -4.631310946303213,
          -4.631310946303213,
          -4.631310946303213,
          -4.631310946303213,
          -4.631310946303213,
          -4.631310946303213,
          -10.851025376067213,
          -2.5457781855605432,
          -4.631310946303213,
          -4.631310946303213,
          -4.631310946303213,
          -4.631310946303213,
          -4.631310946303213,
          -4.631310946303213,
          4.778981766937762,
          1.0934051407932577,
          4.036564781167606,
          -4.631310946303213,
          1.0934051407932577,
          -4.631310946303213,
          -4.631310946303213,
          15.108092059433043,
          -4.631310946303213,
          -4.631310946303213,
          -3.5615146184092006,
          -4.631310946303213,
          -9.899138398881702,
          -7.479424674779689,
          2.4060571049153046,
          -4.631310946303213,
          -4.631310946303213,
          -4.631310946303213,
          -4.631310946303213,
          -4.460383303872706,
          6.414114304109253,
          -3.9860429272055575,
          -4.631310946303213,
          -10.851025376067213,
          5.1874204047918315,
          0.27306808301110763,
          4.4272715989058575,
          -4.631310946303213,
          2.4060571049153046,
          -4.621252734833625,
          8.689577528263825,
          -4.551593225729311,
          -4.06889022109711,
          -4.631310946303213,
          -3.3492910197644887,
          -2.590020368002144,
          2.6347781084564925,
          -1.685154266617983,
          -4.631310946303213,
          2.4060571049153046,
          -13.554664332443023,
          -6.4195052581949135,
          4.036564781167606,
          -4.631310946303213,
          -4.631310946303213,
          -0.4874249778358597,
          -4.631310946303213,
          0.8960949217894809,
          -4.631310946303213,
          4.778981766937762,
          -4.631310946303213,
          -4.631310946303213,
          -10.42161199052487,
          4.778981766937762,
          -4.631310946303213,
          -6.4195052581949135,
          -4.631310946303213,
          -10.851025376067213,
          -4.631310946303213,
          -14.36092542209212,
          -4.631310946303213,
          -13.554664332443023,
          -4.631310946303213,
          0.27306808301110763,
          0.27306808301110763,
          -4.840719512495351,
          -4.631310946303213,
          3.590923427845061,
          -4.631310946303213,
          -4.631310946303213,
          -4.631310946303213,
          -4.631310946303213,
          -1.685154266617983,
          -4.631310946303213,
          -4.840719512495351,
          -9.757231610515793,
          -4.631310946303213,
          -4.631310946303213,
          6.648290382205557,
          -4.631310946303213,
          0.27306808301110763,
          -13.554664332443023,
          0.27306808301110763,
          -4.631310946303213,
          -6.194396428133353,
          2.2666082597400328,
          -2.0427070157150395,
          1.0934051407932577,
          -4.631310946303213,
          -0.38648024923255697,
          -4.631310946303213,
          -4.631310946303213,
          -4.631310946303213,
          -4.631310946303213,
          -4.631310946303213,
          -4.631310946303213,
          -13.554664332443023,
          5.1874204047918315,
          -5.634739713933412,
          -4.604882750924732,
          -4.631310946303213,
          -10.851025376067213,
          -4.631310946303213,
          -1.685154266617983,
          -3.3492910197644887,
          3.740754697035742,
          -4.631310946303213,
          -4.631310946303213,
          -3.9860429272055575,
          -8.687932696914846,
          -4.631310946303213,
          -4.631310946303213,
          -4.631310946303213,
          -4.631310946303213,
          -4.631310946303213,
          -9.453294729393026,
          -2.5457781855605432,
          -4.631310946303213,
          -4.631310946303213,
          -4.631310946303213,
          2.4060571049153046,
          -1.685154266617983,
          14.773766187148896,
          -4.631310946303213,
          5.602567289907268,
          -4.631310946303213,
          1.0934051407932577,
          -3.2803265453192343,
          -4.631310946303213,
          2.4060571049153046,
          -4.631310946303213,
          5.1874204047918315,
          -4.631310946303213,
          -4.631310946303213,
          -4.2795337389157195,
          -4.631310946303213,
          6.648290382205557,
          -4.631310946303213,
          -2.5457781855605432,
          -4.551593225729311,
          -3.419816842915102,
          -4.631310946303213,
          -4.631310946303213,
          -4.631310946303213,
          -4.631310946303213,
          -4.250137765608997,
          3.6424052614537628,
          -4.631310946303213,
          0.27306808301110763,
          -4.2795337389157195,
          -4.631310946303213,
          -4.631310946303213,
          5.896189060655321,
          0.27306808301110763,
          -4.631310946303213,
          -4.250137765608997,
          -4.631310946303213,
          -16.29468227330556,
          4.4272715989058575,
          -4.631310946303213,
          -4.06889022109711,
          5.248820425145273,
          4.778981766937762,
          -4.631310946303213,
          -4.631310946303213,
          -4.840719512495351,
          -4.631310946303213,
          6.677844336264993,
          -4.631310946303213,
          -4.631310946303213,
          5.043113783659825,
          -4.631310946303213,
          16.28422045111384,
          -4.631310946303213,
          -4.631310946303213,
          -3.250489548712854,
          -4.631310946303213,
          -4.840719512495351,
          -4.631310946303213,
          3.711644694516436,
          -4.250137765608997,
          -13.554664332443023,
          -4.250137765608997,
          -4.631310946303213,
          -11.664268424341795,
          -4.06889022109711,
          -4.631310946303213,
          -4.631310946303213,
          -3.2803265453192343,
          6.648290382205557,
          -4.631310946303213,
          6.648290382205557,
          -4.631310946303213,
          -0.38648024923255697,
          -3.9860429272055575,
          1.0934051407932577,
          -4.631310946303213,
          -3.9860429272055575,
          -4.604882750924732,
          4.778981766937762,
          -4.631310946303213,
          -12.392599046846641,
          6.648290382205557,
          -4.631310946303213,
          4.036564781167606,
          -4.631310946303213,
          5.602567289907268,
          -4.631310946303213,
          -4.631310946303213,
          -4.631310946303213,
          -4.631310946303213,
          -13.47530234753732,
          5.1874204047918315,
          -4.631310946303213,
          -9.899138398881702,
          -4.631310946303213,
          -4.250137765608997,
          -4.631310946303213,
          -4.631310946303213,
          -4.631310946303213,
          -3.2803265453192343,
          -4.631310946303213,
          -4.631310946303213,
          -4.631310946303213,
          -4.631310946303213,
          -4.631310946303213,
          -4.631310946303213,
          -2.5457781855605432,
          -7.479424674779689,
          -4.631310946303213,
          -4.631310946303213,
          -4.631310946303213,
          -10.851025376067213,
          2.493946168508221,
          -4.250137765608997,
          -4.631310946303213,
          -4.631310946303213,
          5.1874204047918315,
          -4.631310946303213,
          -4.631310946303213,
          -4.631310946303213,
          -4.631310946303213,
          2.4060571049153046,
          -4.631310946303213,
          5.248820425145273,
          -13.554664332443023,
          -4.631310946303213,
          -4.631310946303213,
          -4.631310946303213,
          -12.96977204693588,
          -5.634739713933412,
          -3.2803265453192343,
          -4.631310946303213,
          -4.631310946303213,
          -4.631310946303213,
          -4.631310946303213,
          6.648290382205557,
          2.448826532378323,
          -4.631310946303213,
          -4.631310946303213,
          -4.631310946303213,
          -4.631310946303213,
          -4.631310946303213,
          -10.851025376067213,
          -3.3492910197644887,
          -6.4195052581949135,
          -4.631310946303213,
          -4.631310946303213,
          -4.631310946303213,
          -19.192419312325026,
          -4.631310946303213,
          13.209435825035643,
          -4.631310946303213,
          4.778981766937762,
          5.017717273813971,
          -4.631310946303213,
          6.986145750588135,
          7.862905853771962,
          -4.631310946303213,
          5.602567289907268,
          -4.631310946303213,
          -7.10963494267467,
          2.6347781084564925,
          -4.631310946303213,
          5.807745438653966,
          -4.631310946303213,
          -9.899138398881702,
          -4.604882750924732,
          -13.554664332443023,
          -7.654168304490804,
          5.602567289907268,
          -4.631310946303213,
          -4.631310946303213,
          4.4272715989058575,
          -3.3225075560748496,
          -4.631310946303213,
          2.4060571049153046,
          4.4272715989058575,
          -4.604882750924732,
          4.4272715989058575,
          -2.0427070157150395,
          -4.631310946303213,
          -3.3492910197644887,
          -4.631310946303213,
          -4.631310946303213,
          -4.631310946303213,
          -7.479424674779689,
          -3.3492910197644887,
          2.6347781084564925,
          -4.631310946303213,
          -4.631310946303213,
          -4.631310946303213,
          -4.631310946303213,
          -4.631310946303213,
          -16.136288864776727,
          -4.631310946303213,
          -0.2305432262635354,
          0.27306808301110763,
          2.6347781084564925,
          -3.2803265453192343,
          -4.631310946303213,
          -2.5457781855605432,
          -4.631310946303213,
          -4.631310946303213,
          -4.631310946303213,
          -1.9256729014540563,
          2.6347781084564925,
          6.648290382205557,
          -4.631310946303213,
          -7.479424674779689,
          6.648290382205557,
          -3.9860429272055575,
          5.248820425145273,
          -4.631310946303213,
          -4.631310946303213,
          3.73805268649412,
          -2.617006759420959,
          -4.631310946303213,
          -4.631310946303213,
          -4.604882750924732,
          -9.899138398881702,
          -1.685154266617983,
          -4.631310946303213,
          2.6347781084564925,
          4.648599832542488,
          -4.631310946303213,
          -7.654168304490804,
          -6.4195052581949135,
          1.0934051407932577,
          -4.250137765608997,
          2.390958796150855,
          5.851042314566368,
          -4.631310946303213,
          -4.631310946303213,
          -4.631310946303213,
          -4.631310946303213,
          -3.9860429272055575,
          -4.631310946303213,
          -4.631310946303213,
          -3.9860429272055575,
          -4.631310946303213,
          -4.631310946303213,
          -3.9860429272055575,
          -4.631310946303213,
          5.044184108843153,
          -4.840719512495351,
          5.602567289907268,
          -1.685154266617983,
          5.248820425145273,
          -4.631310946303213,
          4.778981766937762
         ],
         "xaxis": "x",
         "yaxis": "y"
        },
        {
         "alignmentgroup": "True",
         "boxpoints": "all",
         "customdata": [
          [
           -1015.6100000000006,
           6,
           1
          ],
          [
           -1015.6100000000006,
           6,
           2
          ],
          [
           -734.0399999999972,
           8,
           3
          ],
          [
           -2494.5599999999977,
           8,
           4
          ],
          [
           -1015.6100000000006,
           6,
           5
          ],
          [
           -1015.6100000000006,
           6,
           6
          ],
          [
           879.140000000003,
           10,
           7
          ],
          [
           -1015.6100000000006,
           6,
           8
          ],
          [
           -1015.6100000000006,
           6,
           9
          ],
          [
           -1015.6100000000006,
           6,
           10
          ],
          [
           -1015.6100000000006,
           6,
           11
          ],
          [
           -567.2000000000007,
           8,
           12
          ],
          [
           -2822.3300000000017,
           6,
           13
          ],
          [
           -1010.989999999998,
           8,
           14
          ],
          [
           1141.699999999997,
           8,
           15
          ],
          [
           -1015.6100000000006,
           6,
           16
          ],
          [
           -1015.6100000000006,
           6,
           17
          ],
          [
           -1015.6100000000006,
           6,
           18
          ],
          [
           1140.1299999999937,
           12,
           19
          ],
          [
           -932.1900000000023,
           6,
           20
          ],
          [
           -1015.6100000000006,
           6,
           21
          ],
          [
           528.7800000000025,
           8,
           22
          ],
          [
           -2020.8099999999977,
           8,
           23
          ],
          [
           -1015.6100000000006,
           6,
           24
          ],
          [
           1141.699999999997,
           8,
           25
          ],
          [
           -1015.6100000000006,
           6,
           26
          ],
          [
           1889.2900000000045,
           10,
           27
          ],
          [
           -1015.6100000000006,
           6,
           28
          ],
          [
           -1015.6100000000006,
           6,
           29
          ],
          [
           655.1800000000039,
           6,
           30
          ],
          [
           -1015.6100000000006,
           6,
           31
          ],
          [
           -1687.1799999999967,
           8,
           32
          ],
          [
           -903.3700000000026,
           6,
           33
          ],
          [
           1388.770000000004,
           6,
           34
          ],
          [
           528.7800000000025,
           8,
           35
          ],
          [
           -1015.6100000000006,
           6,
           36
          ],
          [
           -1052.6300000000047,
           8,
           37
          ],
          [
           234.3100000000013,
           8,
           38
          ],
          [
           -2453.8099999999977,
           6,
           39
          ],
          [
           -1015.6100000000006,
           6,
           40
          ],
          [
           -1015.6100000000006,
           6,
           41
          ],
          [
           -1015.6100000000006,
           6,
           42
          ],
          [
           -1015.6100000000006,
           6,
           43
          ],
          [
           1151.1699999999983,
           6,
           44
          ],
          [
           -2822.3300000000017,
           6,
           45
          ],
          [
           -1015.6100000000006,
           6,
           46
          ],
          [
           -1015.6100000000006,
           6,
           47
          ],
          [
           -491.8199999999888,
           10,
           48
          ],
          [
           -1015.6100000000006,
           6,
           49
          ],
          [
           -1001.4499999999971,
           4,
           50
          ],
          [
           -1167.2699999999968,
           8,
           51
          ],
          [
           528.7800000000025,
           8,
           52
          ],
          [
           471.91000000000713,
           8,
           53
          ],
          [
           -1015.6100000000006,
           6,
           54
          ],
          [
           -1015.6100000000006,
           6,
           55
          ],
          [
           -1015.6100000000006,
           6,
           56
          ],
          [
           -1015.6100000000006,
           6,
           57
          ],
          [
           -1413.1800000000003,
           8,
           58
          ],
          [
           1155.1900000000023,
           8,
           59
          ],
          [
           1315.7800000000025,
           8,
           60
          ],
          [
           -1015.6100000000006,
           6,
           61
          ],
          [
           -903.3700000000026,
           6,
           62
          ],
          [
           -1015.6100000000006,
           6,
           63
          ],
          [
           -1001.4499999999971,
           4,
           64
          ],
          [
           -647.0899999999965,
           6,
           65
          ],
          [
           -1015.6100000000006,
           6,
           66
          ],
          [
           -1015.6100000000006,
           6,
           67
          ],
          [
           1165.3300000000017,
           4,
           68
          ],
          [
           -903.3700000000026,
           6,
           69
          ],
          [
           -2494.5599999999977,
           8,
           70
          ],
          [
           -932.1900000000023,
           6,
           71
          ],
          [
           -1015.6100000000006,
           6,
           72
          ],
          [
           3242.2499999999964,
           8,
           73
          ],
          [
           -1246.3400000000038,
           6,
           74
          ],
          [
           1155.1900000000023,
           8,
           75
          ],
          [
           1076.2900000000045,
           10,
           76
          ],
          [
           -1015.6100000000006,
           6,
           77
          ],
          [
           -1015.6100000000006,
           6,
           78
          ],
          [
           -1015.6100000000006,
           6,
           79
          ],
          [
           682.0200000000004,
           10,
           80
          ],
          [
           -1015.6100000000006,
           6,
           81
          ],
          [
           -1015.6100000000006,
           6,
           82
          ],
          [
           -1052.6300000000047,
           8,
           83
          ],
          [
           -1015.6100000000006,
           6,
           84
          ],
          [
           -1015.6100000000006,
           6,
           85
          ],
          [
           528.7800000000025,
           8,
           86
          ],
          [
           -1015.6100000000006,
           6,
           87
          ],
          [
           -1015.6100000000006,
           6,
           88
          ],
          [
           888.6899999999987,
           8,
           89
          ],
          [
           -1687.1799999999967,
           8,
           90
          ],
          [
           -1015.6100000000006,
           6,
           91
          ],
          [
           -1015.6100000000006,
           6,
           92
          ],
          [
           234.3100000000013,
           8,
           93
          ],
          [
           -424.85999999999694,
           10,
           94
          ],
          [
           -1015.6100000000006,
           6,
           95
          ],
          [
           -903.3700000000026,
           6,
           96
          ],
          [
           -2020.8099999999977,
           8,
           97
          ],
          [
           -932.1900000000023,
           6,
           98
          ],
          [
           1267.4300000000003,
           8,
           99
          ],
          [
           -1015.6100000000006,
           6,
           100
          ],
          [
           -932.1900000000023,
           6,
           101
          ],
          [
           -1015.6100000000006,
           6,
           102
          ],
          [
           -1015.6100000000006,
           6,
           103
          ],
          [
           3.9799999999995634,
           8,
           104
          ],
          [
           -1413.1800000000003,
           8,
           105
          ],
          [
           724.5599999999977,
           10,
           106
          ],
          [
           1052.0699999999997,
           7,
           107
          ],
          [
           -1540.4100000000035,
           6,
           108
          ],
          [
           -1015.6100000000006,
           6,
           109
          ],
          [
           9.299999999999272,
           6,
           110
          ],
          [
           -1015.6100000000006,
           6,
           111
          ],
          [
           -1015.6100000000006,
           6,
           112
          ],
          [
           1151.1699999999983,
           6,
           113
          ],
          [
           -1015.6100000000006,
           6,
           114
          ],
          [
           528.7800000000025,
           8,
           115
          ],
          [
           -734.0399999999972,
           8,
           116
          ],
          [
           2747.119999999999,
           8,
           117
          ],
          [
           -1015.6100000000006,
           6,
           118
          ],
          [
           1052.0699999999997,
           7,
           119
          ],
          [
           -1015.6100000000006,
           6,
           120
          ],
          [
           731.1600000000071,
           8,
           121
          ],
          [
           -1015.6100000000006,
           6,
           122
          ],
          [
           -1015.6100000000006,
           6,
           123
          ],
          [
           888.6899999999987,
           8,
           124
          ],
          [
           -1413.1800000000003,
           8,
           125
          ],
          [
           -1413.1800000000003,
           8,
           126
          ],
          [
           -1015.6100000000006,
           6,
           127
          ],
          [
           -1687.1799999999967,
           8,
           128
          ],
          [
           -1015.6100000000006,
           6,
           129
          ],
          [
           -1015.6100000000006,
           6,
           130
          ],
          [
           528.7800000000025,
           8,
           131
          ],
          [
           -1015.6100000000006,
           6,
           132
          ],
          [
           1151.1699999999983,
           6,
           133
          ],
          [
           -1015.6100000000006,
           6,
           134
          ],
          [
           -1015.6100000000006,
           6,
           135
          ],
          [
           186.37000000000626,
           10,
           136
          ],
          [
           -1015.6100000000006,
           6,
           137
          ],
          [
           2684.75,
           9,
           138
          ],
          [
           -1015.6100000000006,
           6,
           139
          ],
          [
           -1015.6100000000006,
           6,
           140
          ],
          [
           -378.3799999999974,
           8,
           141
          ],
          [
           -1015.6100000000006,
           6,
           142
          ],
          [
           -211.54000000000087,
           8,
           143
          ],
          [
           -1015.6100000000006,
           6,
           144
          ],
          [
           1229.4800000000032,
           8,
           145
          ],
          [
           -402.53999999999724,
           10,
           146
          ],
          [
           -1015.6100000000006,
           6,
           147
          ],
          [
           -778.0099999999948,
           6,
           148
          ],
          [
           580.3400000000001,
           8,
           149
          ],
          [
           -1015.6100000000006,
           6,
           150
          ],
          [
           234.3100000000013,
           8,
           151
          ],
          [
           -1015.6100000000006,
           6,
           152
          ],
          [
           -1015.6100000000006,
           6,
           153
          ],
          [
           1229.4800000000032,
           8,
           154
          ],
          [
           580.3400000000001,
           8,
           155
          ],
          [
           -1450.2000000000044,
           10,
           156
          ],
          [
           -1015.6100000000006,
           6,
           157
          ],
          [
           -1015.6100000000006,
           6,
           158
          ],
          [
           -1258.8400000000001,
           8,
           159
          ],
          [
           -1015.6100000000006,
           6,
           160
          ],
          [
           -1015.6100000000006,
           6,
           161
          ],
          [
           -1015.6100000000006,
           6,
           162
          ],
          [
           -1015.6100000000006,
           6,
           163
          ],
          [
           -647.0899999999965,
           6,
           164
          ],
          [
           -1687.1799999999967,
           8,
           165
          ],
          [
           -1015.6100000000006,
           6,
           166
          ],
          [
           234.3100000000013,
           8,
           167
          ],
          [
           -1015.6100000000006,
           6,
           168
          ],
          [
           -1015.6100000000006,
           6,
           169
          ],
          [
           -1015.6100000000006,
           6,
           170
          ],
          [
           -1739.2399999999943,
           10,
           171
          ],
          [
           234.3100000000013,
           8,
           172
          ],
          [
           -2393.7000000000044,
           8,
           173
          ],
          [
           -2020.8099999999977,
           8,
           174
          ],
          [
           -2494.5599999999977,
           8,
           175
          ],
          [
           1146.3199999999997,
           10,
           176
          ],
          [
           974.6100000000042,
           8,
           177
          ],
          [
           -1015.6100000000006,
           6,
           178
          ],
          [
           528.7800000000025,
           8,
           179
          ],
          [
           -1015.6100000000006,
           6,
           180
          ],
          [
           -1015.6100000000006,
           6,
           181
          ],
          [
           -1015.6100000000006,
           6,
           182
          ],
          [
           401.1499999999978,
           8,
           183
          ],
          [
           988.7700000000077,
           6,
           184
          ],
          [
           -1015.6100000000006,
           6,
           185
          ],
          [
           -1015.6100000000006,
           6,
           186
          ],
          [
           -1015.6100000000006,
           6,
           187
          ],
          [
           -1015.6100000000006,
           6,
           188
          ],
          [
           -1001.4499999999971,
           4,
           189
          ],
          [
           -1015.6100000000006,
           6,
           190
          ],
          [
           -1015.6100000000006,
           6,
           191
          ],
          [
           -1015.6100000000006,
           6,
           192
          ],
          [
           -1015.6100000000006,
           6,
           193
          ],
          [
           -1015.6100000000006,
           6,
           194
          ],
          [
           -914.7500000000073,
           6,
           195
          ],
          [
           -1015.6100000000006,
           6,
           196
          ],
          [
           888.6899999999987,
           8,
           197
          ],
          [
           -778.0099999999948,
           6,
           198
          ],
          [
           -1015.6100000000006,
           6,
           199
          ],
          [
           -1015.6100000000006,
           6,
           200
          ],
          [
           -1015.6100000000006,
           6,
           201
          ],
          [
           -1015.6100000000006,
           6,
           202
          ],
          [
           640.5299999999988,
           4,
           203
          ],
          [
           974.6100000000042,
           8,
           204
          ],
          [
           -378.3799999999974,
           8,
           205
          ],
          [
           -1015.6100000000006,
           6,
           206
          ],
          [
           -1015.6100000000006,
           6,
           207
          ],
          [
           580.3400000000001,
           8,
           208
          ],
          [
           -1015.6100000000006,
           6,
           209
          ],
          [
           -1015.6100000000006,
           6,
           210
          ],
          [
           -647.0899999999965,
           6,
           211
          ],
          [
           -378.3799999999974,
           8,
           212
          ],
          [
           -1052.6300000000047,
           8,
           213
          ],
          [
           -1010.989999999998,
           8,
           214
          ],
          [
           1052.0699999999997,
           7,
           215
          ],
          [
           234.3100000000013,
           8,
           216
          ],
          [
           -1015.6100000000006,
           6,
           217
          ],
          [
           974.6100000000042,
           8,
           218
          ],
          [
           -1015.6100000000006,
           6,
           219
          ],
          [
           -1062.8199999999997,
           10,
           220
          ],
          [
           1151.1699999999983,
           6,
           221
          ],
          [
           641.0200000000004,
           8,
           222
          ],
          [
           974.6100000000042,
           8,
           223
          ],
          [
           2284.130000000001,
           8,
           224
          ],
          [
           -1015.6100000000006,
           6,
           225
          ],
          [
           -1540.4100000000035,
           6,
           226
          ],
          [
           -1015.6100000000006,
           6,
           227
          ],
          [
           717.7599999999875,
           10,
           228
          ],
          [
           888.6899999999987,
           8,
           229
          ],
          [
           -1015.6100000000006,
           6,
           230
          ],
          [
           -1015.6100000000006,
           6,
           231
          ],
          [
           -1015.6100000000006,
           6,
           232
          ],
          [
           -1001.4499999999971,
           4,
           233
          ],
          [
           -932.1900000000023,
           6,
           234
          ],
          [
           974.6100000000042,
           8,
           235
          ],
          [
           -1015.6100000000006,
           6,
           236
          ],
          [
           -1001.4499999999971,
           4,
           237
          ],
          [
           1510.2200000000012,
           8,
           238
          ],
          [
           1141.699999999997,
           8,
           239
          ],
          [
           -1015.6100000000006,
           6,
           240
          ],
          [
           -1015.6100000000006,
           6,
           241
          ],
          [
           1229.4800000000032,
           8,
           242
          ],
          [
           -1015.6100000000006,
           6,
           243
          ],
          [
           -1015.6100000000006,
           6,
           244
          ],
          [
           -1015.6100000000006,
           6,
           245
          ],
          [
           3434.209999999999,
           8,
           246
          ],
          [
           -1015.6100000000006,
           6,
           247
          ],
          [
           -1015.6100000000006,
           6,
           248
          ],
          [
           -1015.6100000000006,
           6,
           249
          ],
          [
           9.299999999999272,
           6,
           250
          ],
          [
           -1015.6100000000006,
           6,
           251
          ],
          [
           -323.1599999999962,
           10,
           252
          ],
          [
           -1413.1800000000003,
           8,
           253
          ],
          [
           -1015.6100000000006,
           6,
           254
          ],
          [
           -1010.989999999998,
           8,
           255
          ],
          [
           -1015.6100000000006,
           6,
           256
          ],
          [
           -1052.6300000000047,
           8,
           257
          ],
          [
           -1010.989999999998,
           8,
           258
          ],
          [
           -1015.6100000000006,
           6,
           259
          ],
          [
           -47.960000000002765,
           10,
           260
          ],
          [
           -1687.1799999999967,
           8,
           261
          ],
          [
           1155.1900000000023,
           8,
           262
          ],
          [
           -1015.6100000000006,
           6,
           263
          ],
          [
           -1015.6100000000006,
           6,
           264
          ],
          [
           -1015.6100000000006,
           6,
           265
          ],
          [
           974.6100000000042,
           8,
           266
          ],
          [
           -1015.6100000000006,
           6,
           267
          ],
          [
           -1015.6100000000006,
           6,
           268
          ],
          [
           580.3400000000001,
           8,
           269
          ],
          [
           -1015.6100000000006,
           6,
           270
          ],
          [
           -1038.4700000000012,
           6,
           271
          ],
          [
           -932.1900000000023,
           6,
           272
          ],
          [
           -1015.6100000000006,
           6,
           273
          ],
          [
           -1015.6100000000006,
           6,
           274
          ],
          [
           -378.3799999999974,
           8,
           275
          ],
          [
           -1015.6100000000006,
           6,
           276
          ],
          [
           -1015.6100000000006,
           6,
           277
          ],
          [
           -1413.1800000000003,
           8,
           278
          ],
          [
           1151.1699999999983,
           6,
           279
          ],
          [
           1155.1900000000023,
           8,
           280
          ],
          [
           528.7800000000025,
           8,
           281
          ],
          [
           -1015.6100000000006,
           6,
           282
          ],
          [
           1722.310000000005,
           10,
           283
          ],
          [
           -1015.6100000000006,
           6,
           284
          ],
          [
           -1015.6100000000006,
           6,
           285
          ],
          [
           -778.0099999999948,
           6,
           286
          ],
          [
           -1015.6100000000006,
           6,
           287
          ],
          [
           -1015.6100000000006,
           6,
           288
          ],
          [
           -1015.6100000000006,
           6,
           289
          ],
          [
           1151.1699999999983,
           6,
           290
          ],
          [
           1151.1699999999983,
           6,
           291
          ],
          [
           -2483.8700000000026,
           6,
           292
          ],
          [
           1056.6900000000023,
           9,
           293
          ],
          [
           -1015.6100000000006,
           6,
           294
          ],
          [
           -1010.989999999998,
           8,
           295
          ],
          [
           -3477.1699999999983,
           8,
           296
          ],
          [
           -1413.1800000000003,
           8,
           297
          ],
          [
           -734.0399999999972,
           8,
           298
          ],
          [
           -1015.6100000000006,
           6,
           299
          ],
          [
           3055.4699999999975,
           8,
           300
          ],
          [
           -903.3700000000026,
           6,
           301
          ],
          [
           -2822.3300000000017,
           6,
           302
          ],
          [
           234.3100000000013,
           8,
           303
          ],
          [
           1234.5899999999965,
           6,
           304
          ],
          [
           -1015.6100000000006,
           6,
           305
          ],
          [
           -1015.6100000000006,
           6,
           306
          ],
          [
           -1015.6100000000006,
           6,
           307
          ],
          [
           -1015.6100000000006,
           6,
           308
          ],
          [
           -1015.6100000000006,
           6,
           309
          ],
          [
           -1015.6100000000006,
           6,
           310
          ],
          [
           1229.4800000000032,
           8,
           311
          ],
          [
           -1015.6100000000006,
           6,
           312
          ],
          [
           -665.25,
           8,
           313
          ],
          [
           1229.4800000000032,
           8,
           314
          ],
          [
           528.7800000000025,
           8,
           315
          ],
          [
           1495.0200000000004,
           10,
           316
          ],
          [
           -2531.5800000000017,
           10,
           317
          ],
          [
           -1015.6100000000006,
           6,
           318
          ],
          [
           974.6100000000042,
           8,
           319
          ],
          [
           -1015.6100000000006,
           6,
           320
          ],
          [
           -1015.6100000000006,
           6,
           321
          ],
          [
           -1015.6100000000006,
           6,
           322
          ],
          [
           -1015.6100000000006,
           6,
           323
          ],
          [
           1501.5299999999988,
           8,
           324
          ],
          [
           -1015.6100000000006,
           6,
           325
          ],
          [
           -1015.6100000000006,
           6,
           326
          ],
          [
           -1015.6100000000006,
           6,
           327
          ],
          [
           580.3400000000001,
           8,
           328
          ],
          [
           -476.4199999999946,
           10,
           329
          ],
          [
           234.3100000000013,
           8,
           330
          ],
          [
           -1015.6100000000006,
           6,
           331
          ],
          [
           491.7599999999984,
           10,
           332
          ],
          [
           -1413.1800000000003,
           8,
           333
          ],
          [
           1155.1900000000023,
           8,
           334
          ],
          [
           -1015.6100000000006,
           6,
           335
          ],
          [
           -816.3500000000022,
           10,
           336
          ],
          [
           -1015.6100000000006,
           6,
           337
          ],
          [
           888.6899999999987,
           8,
           338
          ],
          [
           -1015.6100000000006,
           6,
           339
          ],
          [
           626.3699999999953,
           6,
           340
          ],
          [
           -647.0899999999965,
           6,
           341
          ],
          [
           1229.4800000000032,
           8,
           342
          ],
          [
           -1001.4499999999971,
           4,
           343
          ],
          [
           1151.1699999999983,
           6,
           344
          ],
          [
           1052.0699999999997,
           7,
           345
          ],
          [
           -903.3700000000026,
           6,
           346
          ],
          [
           -1015.6100000000006,
           6,
           347
          ],
          [
           -903.3700000000026,
           6,
           348
          ],
          [
           -1015.6100000000006,
           6,
           349
          ],
          [
           584.6700000000019,
           10,
           350
          ],
          [
           580.3400000000001,
           8,
           351
          ],
          [
           -266.1399999999994,
           8,
           352
          ],
          [
           -1540.4100000000035,
           6,
           353
          ],
          [
           -1413.1800000000003,
           8,
           354
          ],
          [
           580.3400000000001,
           8,
           355
          ],
          [
           -778.0099999999948,
           6,
           356
          ],
          [
           -1015.6100000000006,
           6,
           357
          ],
          [
           -1015.6100000000006,
           6,
           358
          ],
          [
           -1015.6100000000006,
           6,
           359
          ],
          [
           -1015.6100000000006,
           6,
           360
          ],
          [
           1155.1900000000023,
           8,
           361
          ],
          [
           -1015.6100000000006,
           6,
           362
          ],
          [
           -2822.3300000000017,
           6,
           363
          ],
          [
           -1015.6100000000006,
           6,
           364
          ],
          [
           -1015.6100000000006,
           6,
           365
          ],
          [
           988.7700000000077,
           6,
           366
          ],
          [
           -1015.6100000000006,
           6,
           367
          ],
          [
           580.3400000000001,
           8,
           368
          ],
          [
           -1015.6100000000006,
           6,
           369
          ],
          [
           879.140000000003,
           10,
           370
          ],
          [
           -2494.5599999999977,
           8,
           371
          ],
          [
           -1015.6100000000006,
           6,
           372
          ],
          [
           1229.4800000000032,
           8,
           373
          ],
          [
           -1015.6100000000006,
           6,
           374
          ],
          [
           -665.25,
           8,
           375
          ],
          [
           -1015.6100000000006,
           6,
           376
          ],
          [
           -1015.6100000000006,
           6,
           377
          ],
          [
           1492.0599999999977,
           10,
           378
          ],
          [
           296.1000000000022,
           10,
           379
          ],
          [
           -1226.380000000001,
           8,
           380
          ],
          [
           1229.4800000000032,
           8,
           381
          ],
          [
           -1015.6100000000006,
           6,
           382
          ],
          [
           1341.7200000000012,
           8,
           383
          ],
          [
           -1015.6100000000006,
           6,
           384
          ],
          [
           -1015.6100000000006,
           6,
           385
          ],
          [
           -1015.6100000000006,
           6,
           386
          ],
          [
           3279.300000000003,
           8,
           387
          ],
          [
           909.0199999999968,
           10,
           388
          ],
          [
           -1540.4100000000035,
           6,
           389
          ],
          [
           9.299999999999272,
           6,
           390
          ],
          [
           -1015.6100000000006,
           6,
           391
          ],
          [
           -1015.6100000000006,
           6,
           392
          ],
          [
           -1015.6100000000006,
           6,
           393
          ],
          [
           -1015.6100000000006,
           6,
           394
          ],
          [
           -903.3700000000026,
           6,
           395
          ],
          [
           -1015.6100000000006,
           6,
           396
          ],
          [
           -1015.6100000000006,
           6,
           397
          ],
          [
           -2020.8099999999977,
           8,
           398
          ],
          [
           1494.4700000000084,
           10,
           399
          ],
          [
           -1015.6100000000006,
           6,
           400
          ],
          [
           -1015.6100000000006,
           6,
           401
          ],
          [
           -1015.6100000000006,
           6,
           402
          ],
          [
           -903.3700000000026,
           6,
           403
          ],
          [
           -297.2499999999927,
           6,
           404
          ],
          [
           -1015.6100000000006,
           6,
           405
          ],
          [
           -1015.6100000000006,
           6,
           406
          ],
          [
           528.7800000000025,
           8,
           407
          ],
          [
           -1015.6100000000006,
           6,
           408
          ],
          [
           -1015.6100000000006,
           6,
           409
          ],
          [
           -2020.8099999999977,
           8,
           410
          ],
          [
           -1015.6100000000006,
           6,
           411
          ],
          [
           -1015.6100000000006,
           6,
           412
          ],
          [
           817.940000000006,
           8,
           413
          ],
          [
           -2297.9299999999967,
           12,
           414
          ],
          [
           -1015.6100000000006,
           6,
           415
          ],
          [
           -1015.6100000000006,
           6,
           416
          ],
          [
           13.920000000001892,
           8,
           417
          ],
          [
           -207.89999999999782,
           10,
           418
          ],
          [
           -734.0399999999972,
           8,
           419
          ],
          [
           974.6100000000042,
           8,
           420
          ],
          [
           1151.1699999999983,
           6,
           421
          ],
          [
           -665.25,
           8,
           422
          ],
          [
           -1015.6100000000006,
           6,
           423
          ],
          [
           -1015.6100000000006,
           6,
           424
          ],
          [
           234.3100000000013,
           8,
           425
          ],
          [
           -378.3799999999974,
           8,
           426
          ],
          [
           -914.7500000000073,
           6,
           427
          ],
          [
           1114.1499999999942,
           8,
           428
          ],
          [
           -1015.6100000000006,
           6,
           429
          ],
          [
           -1015.6100000000006,
           6,
           430
          ],
          [
           -1015.6100000000006,
           6,
           431
          ],
          [
           1052.0699999999997,
           7,
           432
          ],
          [
           -1015.6100000000006,
           6,
           433
          ],
          [
           -1015.6100000000006,
           6,
           434
          ],
          [
           -1015.6100000000006,
           6,
           435
          ],
          [
           1141.699999999997,
           8,
           436
          ],
          [
           -1015.6100000000006,
           6,
           437
          ],
          [
           1155.7900000000009,
           8,
           438
          ],
          [
           -1015.6100000000006,
           6,
           439
          ],
          [
           -1015.6100000000006,
           6,
           440
          ],
          [
           -1015.6100000000006,
           6,
           441
          ],
          [
           -1015.6100000000006,
           6,
           442
          ],
          [
           -647.0899999999965,
           6,
           443
          ],
          [
           -1015.6100000000006,
           6,
           444
          ],
          [
           -2494.5599999999977,
           8,
           445
          ],
          [
           -2495.619999999999,
           10,
           446
          ],
          [
           1052.0699999999997,
           7,
           447
          ],
          [
           1402.4300000000003,
           9,
           448
          ],
          [
           -1015.6100000000006,
           6,
           449
          ],
          [
           -1015.6100000000006,
           6,
           450
          ],
          [
           -914.7500000000073,
           6,
           451
          ],
          [
           -651.5299999999988,
           8,
           452
          ],
          [
           -1001.4499999999971,
           4,
           453
          ],
          [
           1086.8500000000022,
           8,
           454
          ],
          [
           -509.78999999999724,
           12,
           455
          ],
          [
           -2006.6499999999942,
           6,
           456
          ],
          [
           -2531.5800000000017,
           10,
           457
          ],
          [
           -1015.6100000000006,
           6,
           458
          ],
          [
           -1015.6100000000006,
           6,
           459
          ],
          [
           -2016.189999999995,
           10,
           460
          ],
          [
           -1015.6100000000006,
           6,
           461
          ],
          [
           1151.1699999999983,
           6,
           462
          ],
          [
           -1015.6100000000006,
           6,
           463
          ],
          [
           -2020.8099999999977,
           8,
           464
          ],
          [
           1141.699999999997,
           8,
           465
          ],
          [
           -1015.6100000000006,
           6,
           466
          ],
          [
           -2822.3300000000017,
           6,
           467
          ],
          [
           234.3100000000013,
           8,
           468
          ],
          [
           -1015.6100000000006,
           6,
           469
          ],
          [
           -1001.4499999999971,
           4,
           470
          ],
          [
           -1015.6100000000006,
           6,
           471
          ],
          [
           1155.1900000000023,
           8,
           472
          ],
          [
           -665.25,
           8,
           473
          ],
          [
           -1015.6100000000006,
           6,
           474
          ],
          [
           -1015.6100000000006,
           6,
           475
          ],
          [
           990.369999999999,
           10,
           476
          ],
          [
           -1015.6100000000006,
           6,
           477
          ],
          [
           -2494.5599999999977,
           8,
           478
          ],
          [
           -1015.6100000000006,
           6,
           479
          ],
          [
           -1015.6100000000006,
           6,
           480
          ],
          [
           -1015.6100000000006,
           6,
           481
          ],
          [
           1155.1900000000023,
           8,
           482
          ],
          [
           -702.2700000000041,
           8,
           483
          ],
          [
           -1015.6100000000006,
           6,
           484
          ],
          [
           747.1799999999967,
           8,
           485
          ],
          [
           1104.679999999993,
           10,
           486
          ],
          [
           -1015.6100000000006,
           6,
           487
          ],
          [
           888.6899999999987,
           8,
           488
          ],
          [
           -1015.6100000000006,
           6,
           489
          ],
          [
           -1015.6100000000006,
           6,
           490
          ],
          [
           -1015.6100000000006,
           6,
           491
          ],
          [
           -364.47000000000116,
           11,
           492
          ],
          [
           1229.4800000000032,
           8,
           493
          ],
          [
           -1687.1799999999967,
           8,
           494
          ],
          [
           -1015.6100000000006,
           6,
           495
          ],
          [
           -1015.6100000000006,
           6,
           496
          ],
          [
           -1015.6100000000006,
           6,
           497
          ],
          [
           -1015.6100000000006,
           6,
           498
          ],
          [
           -778.0099999999948,
           6,
           499
          ],
          [
           -1682.559999999994,
           10,
           500
          ],
          [
           -2020.8099999999977,
           8,
           501
          ],
          [
           234.3100000000013,
           8,
           502
          ],
          [
           -1015.6100000000006,
           6,
           503
          ],
          [
           -1015.6100000000006,
           6,
           504
          ],
          [
           -1001.4499999999971,
           4,
           505
          ],
          [
           -647.0899999999965,
           6,
           506
          ],
          [
           -647.0899999999965,
           6,
           507
          ],
          [
           -433.99000000000524,
           4,
           508
          ],
          [
           -2020.8099999999977,
           8,
           509
          ],
          [
           -1015.6100000000006,
           6,
           510
          ],
          [
           -1015.6100000000006,
           6,
           511
          ],
          [
           13.920000000001892,
           8,
           512
          ],
          [
           -1015.6100000000006,
           6,
           513
          ],
          [
           -1001.4499999999971,
           4,
           514
          ],
          [
           -1015.6100000000006,
           6,
           515
          ],
          [
           -1015.6100000000006,
           6,
           516
          ],
          [
           -1015.6100000000006,
           6,
           517
          ],
          [
           1598.0000000000073,
           8,
           518
          ],
          [
           -1015.6100000000006,
           6,
           519
          ],
          [
           -734.0399999999972,
           8,
           520
          ],
          [
           -1015.6100000000006,
           6,
           521
          ],
          [
           1722.310000000005,
           10,
           522
          ],
          [
           1480.4900000000016,
           12,
           523
          ],
          [
           -1015.6100000000006,
           6,
           524
          ],
          [
           -1687.1799999999967,
           8,
           525
          ],
          [
           -2738.9100000000035,
           6,
           526
          ],
          [
           -1015.6100000000006,
           6,
           527
          ],
          [
           1229.4800000000032,
           8,
           528
          ],
          [
           -1015.6100000000006,
           6,
           529
          ],
          [
           -2822.3300000000017,
           6,
           530
          ],
          [
           -1015.6100000000006,
           6,
           531
          ],
          [
           -665.25,
           8,
           532
          ],
          [
           -1015.6100000000006,
           6,
           533
          ],
          [
           1492.0599999999977,
           10,
           534
          ],
          [
           -1015.6100000000006,
           6,
           535
          ],
          [
           -1015.6100000000006,
           6,
           536
          ],
          [
           9.299999999999272,
           6,
           537
          ],
          [
           -647.0899999999965,
           6,
           538
          ],
          [
           -1015.6100000000006,
           6,
           539
          ],
          [
           528.7800000000025,
           8,
           540
          ],
          [
           -1015.6100000000006,
           6,
           541
          ],
          [
           -476.4199999999946,
           10,
           542
          ],
          [
           -1015.6100000000006,
           6,
           543
          ],
          [
           -1001.4499999999971,
           4,
           544
          ],
          [
           -1015.6100000000006,
           6,
           545
          ],
          [
           -1015.6100000000006,
           6,
           546
          ],
          [
           -1015.6100000000006,
           6,
           547
          ],
          [
           -1687.1799999999967,
           8,
           548
          ],
          [
           -1540.4100000000035,
           6,
           549
          ],
          [
           636.6399999999994,
           8,
           550
          ],
          [
           149.99000000000524,
           10,
           551
          ],
          [
           -969.2100000000064,
           8,
           552
          ],
          [
           -1015.6100000000006,
           6,
           553
          ],
          [
           -378.3799999999974,
           8,
           554
          ],
          [
           1315.7800000000025,
           8,
           555
          ],
          [
           1052.0699999999997,
           7,
           556
          ],
          [
           -1001.4499999999971,
           4,
           557
          ],
          [
           -2822.3300000000017,
           6,
           558
          ],
          [
           1052.0699999999997,
           7,
           559
          ],
          [
           -1015.6100000000006,
           6,
           560
          ],
          [
           -1015.6100000000006,
           6,
           561
          ],
          [
           -575.6700000000019,
           4,
           562
          ],
          [
           -1015.6100000000006,
           6,
           563
          ],
          [
           -1015.6100000000006,
           6,
           564
          ],
          [
           -647.0899999999965,
           6,
           565
          ],
          [
           -1015.6100000000006,
           6,
           566
          ],
          [
           479.6000000000022,
           8,
           567
          ],
          [
           -1001.4499999999971,
           4,
           568
          ],
          [
           -1015.6100000000006,
           6,
           569
          ],
          [
           -2020.8099999999977,
           8,
           570
          ],
          [
           -1015.6100000000006,
           6,
           571
          ],
          [
           -1015.6100000000006,
           6,
           572
          ],
          [
           -647.0899999999965,
           6,
           573
          ],
          [
           -1052.6300000000047,
           8,
           574
          ],
          [
           -2494.5599999999977,
           8,
           575
          ],
          [
           580.3400000000001,
           8,
           576
          ],
          [
           3198.8100000000013,
           10,
           577
          ],
          [
           -1015.6100000000006,
           6,
           578
          ],
          [
           -1015.6100000000006,
           6,
           579
          ],
          [
           1151.1699999999983,
           6,
           580
          ],
          [
           -778.0099999999948,
           6,
           581
          ],
          [
           -1015.6100000000006,
           6,
           582
          ],
          [
           -1015.6100000000006,
           6,
           583
          ],
          [
           -1015.6100000000006,
           6,
           584
          ],
          [
           385.6499999999978,
           10,
           585
          ],
          [
           -1687.1799999999967,
           8,
           586
          ],
          [
           -1015.6100000000006,
           6,
           587
          ],
          [
           -1015.6100000000006,
           6,
           588
          ],
          [
           -1015.6100000000006,
           6,
           589
          ],
          [
           3218.8499999999985,
           7,
           590
          ],
          [
           -831.330000000009,
           6,
           591
          ],
          [
           -1010.989999999998,
           8,
           592
          ],
          [
           1151.1699999999983,
           6,
           593
          ],
          [
           -1015.6100000000006,
           6,
           594
          ],
          [
           -1015.6100000000006,
           6,
           595
          ],
          [
           -1015.6100000000006,
           6,
           596
          ],
          [
           -1015.6100000000006,
           6,
           597
          ],
          [
           1229.4800000000032,
           8,
           598
          ],
          [
           -1015.6100000000006,
           6,
           599
          ],
          [
           -932.1900000000023,
           6,
           600
          ],
          [
           -1015.6100000000006,
           6,
           601
          ],
          [
           -1611.9600000000028,
           10,
           602
          ],
          [
           -1687.1799999999967,
           8,
           603
          ],
          [
           1052.0699999999997,
           7,
           604
          ],
          [
           -378.3799999999974,
           8,
           605
          ],
          [
           -1015.6100000000006,
           6,
           606
          ],
          [
           -665.25,
           8,
           607
          ],
          [
           -1015.6100000000006,
           6,
           608
          ],
          [
           -778.0099999999948,
           6,
           609
          ],
          [
           -1015.6100000000006,
           6,
           610
          ],
          [
           -1356.689999999995,
           12,
           611
          ],
          [
           -1015.6100000000006,
           6,
           612
          ],
          [
           -1015.6100000000006,
           6,
           613
          ],
          [
           -734.0399999999972,
           8,
           614
          ],
          [
           238.93000000000393,
           10,
           615
          ],
          [
           -1015.6100000000006,
           6,
           616
          ],
          [
           -1015.6100000000006,
           6,
           617
          ],
          [
           -1015.6100000000006,
           6,
           618
          ],
          [
           -1015.6100000000006,
           6,
           619
          ],
          [
           -1015.6100000000006,
           6,
           620
          ],
          [
           -1015.6100000000006,
           6,
           621
          ],
          [
           -2494.5599999999977,
           8,
           622
          ],
          [
           -647.0899999999965,
           6,
           623
          ],
          [
           -1015.6100000000006,
           6,
           624
          ],
          [
           -1015.6100000000006,
           6,
           625
          ],
          [
           -1015.6100000000006,
           6,
           626
          ],
          [
           -1015.6100000000006,
           6,
           627
          ],
          [
           -1015.6100000000006,
           6,
           628
          ],
          [
           -1015.6100000000006,
           6,
           629
          ],
          [
           1052.0699999999997,
           7,
           630
          ],
          [
           234.3100000000013,
           8,
           631
          ],
          [
           888.6899999999987,
           8,
           632
          ],
          [
           -1015.6100000000006,
           6,
           633
          ],
          [
           234.3100000000013,
           8,
           634
          ],
          [
           -1015.6100000000006,
           6,
           635
          ],
          [
           -1015.6100000000006,
           6,
           636
          ],
          [
           2952.670000000002,
           6,
           637
          ],
          [
           -1015.6100000000006,
           6,
           638
          ],
          [
           -1015.6100000000006,
           6,
           639
          ],
          [
           -771.0600000000013,
           10,
           640
          ],
          [
           -1015.6100000000006,
           6,
           641
          ],
          [
           -2020.8099999999977,
           8,
           642
          ],
          [
           -1540.4100000000035,
           6,
           643
          ],
          [
           528.7800000000025,
           8,
           644
          ],
          [
           -1015.6100000000006,
           6,
           645
          ],
          [
           -1015.6100000000006,
           6,
           646
          ],
          [
           -1015.6100000000006,
           6,
           647
          ],
          [
           -1015.6100000000006,
           6,
           648
          ],
          [
           -969.2100000000064,
           8,
           649
          ],
          [
           1114.1499999999942,
           8,
           650
          ],
          [
           -903.3700000000026,
           6,
           651
          ],
          [
           -1015.6100000000006,
           6,
           652
          ],
          [
           -2494.5599999999977,
           8,
           653
          ],
          [
           1141.699999999997,
           8,
           654
          ],
          [
           9.299999999999272,
           6,
           655
          ],
          [
           974.6100000000042,
           8,
           656
          ],
          [
           -1015.6100000000006,
           6,
           657
          ],
          [
           528.7800000000025,
           8,
           658
          ],
          [
           -903.1800000000003,
           8,
           659
          ],
          [
           1803.369999999999,
           10,
           660
          ],
          [
           -1001.4499999999971,
           4,
           661
          ],
          [
           -914.7500000000073,
           6,
           662
          ],
          [
           -1015.6100000000006,
           6,
           663
          ],
          [
           -734.0399999999972,
           8,
           664
          ],
          [
           -660.6299999999974,
           8,
           665
          ],
          [
           580.3400000000001,
           8,
           666
          ],
          [
           -378.3799999999974,
           8,
           667
          ],
          [
           -1015.6100000000006,
           6,
           668
          ],
          [
           528.7800000000025,
           8,
           669
          ],
          [
           -2822.3300000000017,
           6,
           670
          ],
          [
           -1413.1800000000003,
           8,
           671
          ],
          [
           888.6899999999987,
           8,
           672
          ],
          [
           -1015.6100000000006,
           6,
           673
          ],
          [
           -1015.6100000000006,
           6,
           674
          ],
          [
           -296.7299999999959,
           8,
           675
          ],
          [
           -1015.6100000000006,
           6,
           676
          ],
          [
           263.83000000000175,
           9,
           677
          ],
          [
           -1015.6100000000006,
           6,
           678
          ],
          [
           1052.0699999999997,
           7,
           679
          ],
          [
           -1015.6100000000006,
           6,
           680
          ],
          [
           -1015.6100000000006,
           6,
           681
          ],
          [
           -2392.8799999999974,
           10,
           682
          ],
          [
           1052.0699999999997,
           7,
           683
          ],
          [
           -1015.6100000000006,
           6,
           684
          ],
          [
           -1413.1800000000003,
           8,
           685
          ],
          [
           -1015.6100000000006,
           6,
           686
          ],
          [
           -2494.5599999999977,
           8,
           687
          ],
          [
           -1015.6100000000006,
           6,
           688
          ],
          [
           -3189.1500000000015,
           12,
           689
          ],
          [
           -1015.6100000000006,
           6,
           690
          ],
          [
           -2822.3300000000017,
           6,
           691
          ],
          [
           -1015.6100000000006,
           6,
           692
          ],
          [
           9.299999999999272,
           6,
           693
          ],
          [
           9.299999999999272,
           6,
           694
          ],
          [
           -1052.6300000000047,
           8,
           695
          ],
          [
           -1015.6100000000006,
           6,
           696
          ],
          [
           736.1400000000067,
           10,
           697
          ],
          [
           -1015.6100000000006,
           6,
           698
          ],
          [
           -1015.6100000000006,
           6,
           699
          ],
          [
           -1015.6100000000006,
           6,
           700
          ],
          [
           -1015.6100000000006,
           6,
           701
          ],
          [
           -378.3799999999974,
           8,
           702
          ],
          [
           -1015.6100000000006,
           6,
           703
          ],
          [
           -1052.6300000000047,
           8,
           704
          ],
          [
           -2216.6299999999937,
           10,
           705
          ],
          [
           -1015.6100000000006,
           6,
           706
          ],
          [
           -1015.6100000000006,
           6,
           707
          ],
          [
           1151.1699999999983,
           6,
           708
          ],
          [
           -1015.6100000000006,
           6,
           709
          ],
          [
           9.299999999999272,
           6,
           710
          ],
          [
           -2822.3300000000017,
           6,
           711
          ],
          [
           9.299999999999272,
           6,
           712
          ],
          [
           -1015.6100000000006,
           6,
           713
          ],
          [
           -1362.3400000000001,
           8,
           714
          ],
          [
           505.9200000000019,
           8,
           715
          ],
          [
           -564.3900000000067,
           8,
           716
          ],
          [
           234.3100000000013,
           8,
           717
          ],
          [
           -1015.6100000000006,
           6,
           718
          ],
          [
           -47.960000000002765,
           10,
           719
          ],
          [
           -1015.6100000000006,
           6,
           720
          ],
          [
           -1015.6100000000006,
           6,
           721
          ],
          [
           -1015.6100000000006,
           6,
           722
          ],
          [
           -1015.6100000000006,
           6,
           723
          ],
          [
           -1015.6100000000006,
           6,
           724
          ],
          [
           -1015.6100000000006,
           6,
           725
          ],
          [
           -2822.3300000000017,
           6,
           726
          ],
          [
           1141.699999999997,
           8,
           727
          ],
          [
           -1318.6599999999926,
           8,
           728
          ],
          [
           -1010.989999999998,
           8,
           729
          ],
          [
           -1015.6100000000006,
           6,
           730
          ],
          [
           -2494.5599999999977,
           8,
           731
          ],
          [
           -1015.6100000000006,
           6,
           732
          ],
          [
           -378.3799999999974,
           8,
           733
          ],
          [
           -734.0399999999972,
           8,
           734
          ],
          [
           791.2299999999959,
           11,
           735
          ],
          [
           -1015.6100000000006,
           6,
           736
          ],
          [
           -1015.6100000000006,
           6,
           737
          ],
          [
           -903.3700000000026,
           6,
           738
          ],
          [
           -1739.2399999999943,
           10,
           739
          ],
          [
           -1015.6100000000006,
           6,
           740
          ],
          [
           -1015.6100000000006,
           6,
           741
          ],
          [
           -1015.6100000000006,
           6,
           742
          ],
          [
           -1015.6100000000006,
           6,
           743
          ],
          [
           -1015.6100000000006,
           6,
           744
          ],
          [
           -2139.1699999999983,
           9,
           745
          ],
          [
           -647.0899999999965,
           6,
           746
          ],
          [
           -1015.6100000000006,
           6,
           747
          ],
          [
           -1015.6100000000006,
           6,
           748
          ],
          [
           -1015.6100000000006,
           6,
           749
          ],
          [
           528.7800000000025,
           8,
           750
          ],
          [
           -378.3799999999974,
           8,
           751
          ],
          [
           2747.119999999999,
           8,
           752
          ],
          [
           -1015.6100000000006,
           6,
           753
          ],
          [
           1229.4800000000032,
           8,
           754
          ],
          [
           -1015.6100000000006,
           6,
           755
          ],
          [
           234.3100000000013,
           8,
           756
          ],
          [
           -778.0099999999948,
           6,
           757
          ],
          [
           -1015.6100000000006,
           6,
           758
          ],
          [
           528.7800000000025,
           8,
           759
          ],
          [
           -1015.6100000000006,
           6,
           760
          ],
          [
           1141.699999999997,
           8,
           761
          ],
          [
           -1015.6100000000006,
           6,
           762
          ],
          [
           -1015.6100000000006,
           6,
           763
          ],
          [
           -951.7700000000114,
           8,
           764
          ],
          [
           -1015.6100000000006,
           6,
           765
          ],
          [
           1151.1699999999983,
           6,
           766
          ],
          [
           -1015.6100000000006,
           6,
           767
          ],
          [
           -647.0899999999965,
           6,
           768
          ],
          [
           -1001.4499999999971,
           4,
           769
          ],
          [
           -802.5100000000093,
           6,
           770
          ],
          [
           -1015.6100000000006,
           6,
           771
          ],
          [
           -1015.6100000000006,
           6,
           772
          ],
          [
           -1015.6100000000006,
           6,
           773
          ],
          [
           -1015.6100000000006,
           6,
           774
          ],
          [
           -932.1900000000023,
           6,
           775
          ],
          [
           801.4300000000039,
           8,
           776
          ],
          [
           -1015.6100000000006,
           6,
           777
          ],
          [
           9.299999999999272,
           6,
           778
          ],
          [
           -951.7700000000114,
           8,
           779
          ],
          [
           -1015.6100000000006,
           6,
           780
          ],
          [
           -1015.6100000000006,
           6,
           781
          ],
          [
           1256.719999999994,
           6,
           782
          ],
          [
           9.299999999999272,
           6,
           783
          ],
          [
           -1015.6100000000006,
           6,
           784
          ],
          [
           -932.1900000000023,
           6,
           785
          ],
          [
           -1015.6100000000006,
           6,
           786
          ],
          [
           -3493.899999999998,
           8,
           787
          ],
          [
           974.6100000000042,
           8,
           788
          ],
          [
           -1015.6100000000006,
           6,
           789
          ],
          [
           -914.7500000000073,
           6,
           790
          ],
          [
           1155.1900000000023,
           8,
           791
          ],
          [
           1052.0699999999997,
           7,
           792
          ],
          [
           -1015.6100000000006,
           6,
           793
          ],
          [
           -1015.6100000000006,
           6,
           794
          ],
          [
           -1052.6300000000047,
           8,
           795
          ],
          [
           -1015.6100000000006,
           6,
           796
          ],
          [
           1155.7900000000009,
           8,
           797
          ],
          [
           -1015.6100000000006,
           6,
           798
          ],
          [
           -1015.6100000000006,
           6,
           799
          ],
          [
           1075.4699999999975,
           8,
           800
          ],
          [
           -1015.6100000000006,
           6,
           801
          ],
          [
           3191.519999999997,
           8,
           802
          ],
          [
           -1015.6100000000006,
           6,
           803
          ],
          [
           -1015.6100000000006,
           6,
           804
          ],
          [
           -476.4199999999946,
           10,
           805
          ],
          [
           -1015.6100000000006,
           6,
           806
          ],
          [
           -1052.6300000000047,
           8,
           807
          ],
          [
           -1015.6100000000006,
           6,
           808
          ],
          [
           819.3899999999994,
           9,
           809
          ],
          [
           -932.1900000000023,
           6,
           810
          ],
          [
           -2822.3300000000017,
           6,
           811
          ],
          [
           -932.1900000000023,
           6,
           812
          ],
          [
           -1015.6100000000006,
           6,
           813
          ],
          [
           -2453.8099999999977,
           6,
           814
          ],
          [
           -914.7500000000073,
           6,
           815
          ],
          [
           -1015.6100000000006,
           6,
           816
          ],
          [
           -1015.6100000000006,
           6,
           817
          ],
          [
           -778.0099999999948,
           6,
           818
          ],
          [
           1151.1699999999983,
           6,
           819
          ],
          [
           -1015.6100000000006,
           6,
           820
          ],
          [
           1151.1699999999983,
           6,
           821
          ],
          [
           -1015.6100000000006,
           6,
           822
          ],
          [
           -47.960000000002765,
           10,
           823
          ],
          [
           -903.3700000000026,
           6,
           824
          ],
          [
           234.3100000000013,
           8,
           825
          ],
          [
           -1015.6100000000006,
           6,
           826
          ],
          [
           -903.3700000000026,
           6,
           827
          ],
          [
           -1010.989999999998,
           8,
           828
          ],
          [
           1052.0699999999997,
           7,
           829
          ],
          [
           -1015.6100000000006,
           6,
           830
          ],
          [
           -2540.7599999999984,
           8,
           831
          ],
          [
           1151.1699999999983,
           6,
           832
          ],
          [
           -1015.6100000000006,
           6,
           833
          ],
          [
           888.6899999999987,
           8,
           834
          ],
          [
           -1015.6100000000006,
           6,
           835
          ],
          [
           1229.4800000000032,
           8,
           836
          ],
          [
           -1015.6100000000006,
           6,
           837
          ],
          [
           -1015.6100000000006,
           6,
           838
          ],
          [
           -1015.6100000000006,
           6,
           839
          ],
          [
           -1015.6100000000006,
           6,
           840
          ],
          [
           -3122.8600000000006,
           10,
           841
          ],
          [
           1141.699999999997,
           8,
           842
          ],
          [
           -1015.6100000000006,
           6,
           843
          ],
          [
           -2020.8099999999977,
           8,
           844
          ],
          [
           -1015.6100000000006,
           6,
           845
          ],
          [
           -932.1900000000023,
           6,
           846
          ],
          [
           -1015.6100000000006,
           6,
           847
          ],
          [
           -1015.6100000000006,
           6,
           848
          ],
          [
           -1015.6100000000006,
           6,
           849
          ],
          [
           -778.0099999999948,
           6,
           850
          ],
          [
           -1015.6100000000006,
           6,
           851
          ],
          [
           -1015.6100000000006,
           6,
           852
          ],
          [
           -1015.6100000000006,
           6,
           853
          ],
          [
           -1015.6100000000006,
           6,
           854
          ],
          [
           -1015.6100000000006,
           6,
           855
          ],
          [
           -1015.6100000000006,
           6,
           856
          ],
          [
           -647.0899999999965,
           6,
           857
          ],
          [
           -1540.4100000000035,
           6,
           858
          ],
          [
           -1015.6100000000006,
           6,
           859
          ],
          [
           -1015.6100000000006,
           6,
           860
          ],
          [
           -1015.6100000000006,
           6,
           861
          ],
          [
           -2494.5599999999977,
           8,
           862
          ],
          [
           601.1800000000003,
           10,
           863
          ],
          [
           -932.1900000000023,
           6,
           864
          ],
          [
           -1015.6100000000006,
           6,
           865
          ],
          [
           -1015.6100000000006,
           6,
           866
          ],
          [
           1141.699999999997,
           8,
           867
          ],
          [
           -1015.6100000000006,
           6,
           868
          ],
          [
           -1015.6100000000006,
           6,
           869
          ],
          [
           -1015.6100000000006,
           6,
           870
          ],
          [
           -1015.6100000000006,
           6,
           871
          ],
          [
           528.7800000000025,
           8,
           872
          ],
          [
           -1015.6100000000006,
           6,
           873
          ],
          [
           1155.1900000000023,
           8,
           874
          ],
          [
           -2822.3300000000017,
           6,
           875
          ],
          [
           -1015.6100000000006,
           6,
           876
          ],
          [
           -1015.6100000000006,
           6,
           877
          ],
          [
           -1015.6100000000006,
           6,
           878
          ],
          [
           -2710.090000000004,
           6,
           879
          ],
          [
           -1318.6599999999926,
           8,
           880
          ],
          [
           -778.0099999999948,
           6,
           881
          ],
          [
           -1015.6100000000006,
           6,
           882
          ],
          [
           -1015.6100000000006,
           6,
           883
          ],
          [
           -1015.6100000000006,
           6,
           884
          ],
          [
           -1015.6100000000006,
           6,
           885
          ],
          [
           1151.1699999999983,
           6,
           886
          ],
          [
           704.6800000000003,
           8,
           887
          ],
          [
           -1015.6100000000006,
           6,
           888
          ],
          [
           -1015.6100000000006,
           6,
           889
          ],
          [
           -1015.6100000000006,
           6,
           890
          ],
          [
           -1015.6100000000006,
           6,
           891
          ],
          [
           -1015.6100000000006,
           6,
           892
          ],
          [
           -2494.5599999999977,
           8,
           893
          ],
          [
           -734.0399999999972,
           8,
           894
          ],
          [
           -1413.1800000000003,
           8,
           895
          ],
          [
           -1015.6100000000006,
           6,
           896
          ],
          [
           -1015.6100000000006,
           6,
           897
          ],
          [
           -1015.6100000000006,
           6,
           898
          ],
          [
           -4301.279999999999,
           8,
           899
          ],
          [
           -1015.6100000000006,
           6,
           900
          ],
          [
           2578.600000000002,
           8,
           901
          ],
          [
           -1015.6100000000006,
           6,
           902
          ],
          [
           1052.0699999999997,
           7,
           903
          ],
          [
           1118.1699999999983,
           10,
           904
          ],
          [
           -1015.6100000000006,
           6,
           905
          ],
          [
           1443.4600000000028,
           10,
           906
          ],
          [
           1584.4600000000064,
           10,
           907
          ],
          [
           -1015.6100000000006,
           6,
           908
          ],
          [
           1229.4800000000032,
           8,
           909
          ],
          [
           -1015.6100000000006,
           6,
           910
          ],
          [
           -1456.9900000000052,
           6,
           911
          ],
          [
           580.3400000000001,
           8,
           912
          ],
          [
           -1015.6100000000006,
           6,
           913
          ],
          [
           1242.5599999999904,
           8,
           914
          ],
          [
           -1015.6100000000006,
           6,
           915
          ],
          [
           -2020.8099999999977,
           8,
           916
          ],
          [
           -1010.989999999998,
           8,
           917
          ],
          [
           -2822.3300000000017,
           6,
           918
          ],
          [
           -1687.1799999999967,
           8,
           919
          ],
          [
           1229.4800000000032,
           8,
           920
          ],
          [
           -1015.6100000000006,
           6,
           921
          ],
          [
           -1015.6100000000006,
           6,
           922
          ],
          [
           974.6100000000042,
           8,
           923
          ],
          [
           -729.4199999999946,
           10,
           924
          ],
          [
           -1015.6100000000006,
           6,
           925
          ],
          [
           528.7800000000025,
           8,
           926
          ],
          [
           974.6100000000042,
           8,
           927
          ],
          [
           -1010.989999999998,
           8,
           928
          ],
          [
           974.6100000000042,
           8,
           929
          ],
          [
           -564.3900000000067,
           8,
           930
          ],
          [
           -1015.6100000000006,
           6,
           931
          ],
          [
           -734.0399999999972,
           8,
           932
          ],
          [
           -1015.6100000000006,
           6,
           933
          ],
          [
           -1015.6100000000006,
           6,
           934
          ],
          [
           -1015.6100000000006,
           6,
           935
          ],
          [
           -1540.4100000000035,
           6,
           936
          ],
          [
           -734.0399999999972,
           8,
           937
          ],
          [
           580.3400000000001,
           8,
           938
          ],
          [
           -1015.6100000000006,
           6,
           939
          ],
          [
           -1015.6100000000006,
           6,
           940
          ],
          [
           -1015.6100000000006,
           6,
           941
          ],
          [
           -1015.6100000000006,
           6,
           942
          ],
          [
           -1015.6100000000006,
           6,
           943
          ],
          [
           -3347.1300000000047,
           6,
           944
          ],
          [
           -1015.6100000000006,
           6,
           945
          ],
          [
           224.2800000000061,
           10,
           946
          ],
          [
           9.299999999999272,
           6,
           947
          ],
          [
           580.3400000000001,
           8,
           948
          ],
          [
           -778.0099999999948,
           6,
           949
          ],
          [
           -1015.6100000000006,
           6,
           950
          ],
          [
           -647.0899999999965,
           6,
           951
          ],
          [
           -1015.6100000000006,
           6,
           952
          ],
          [
           -1015.6100000000006,
           6,
           953
          ],
          [
           -1015.6100000000006,
           6,
           954
          ],
          [
           -290.4900000000016,
           8,
           955
          ],
          [
           580.3400000000001,
           8,
           956
          ],
          [
           1151.1699999999983,
           6,
           957
          ],
          [
           -1015.6100000000006,
           6,
           958
          ],
          [
           -1540.4100000000035,
           6,
           959
          ],
          [
           1151.1699999999983,
           6,
           960
          ],
          [
           -903.3700000000026,
           6,
           961
          ],
          [
           1155.1900000000023,
           8,
           962
          ],
          [
           -1015.6100000000006,
           6,
           963
          ],
          [
           -1015.6100000000006,
           6,
           964
          ],
          [
           742.9700000000084,
           12,
           965
          ],
          [
           -665.25,
           8,
           966
          ],
          [
           -1015.6100000000006,
           6,
           967
          ],
          [
           -1015.6100000000006,
           6,
           968
          ],
          [
           -1010.989999999998,
           8,
           969
          ],
          [
           -2020.8099999999977,
           8,
           970
          ],
          [
           -378.3799999999974,
           8,
           971
          ],
          [
           -1015.6100000000006,
           6,
           972
          ],
          [
           580.3400000000001,
           8,
           973
          ],
          [
           753.5999999999985,
           8,
           974
          ],
          [
           -1015.6100000000006,
           6,
           975
          ],
          [
           -1687.1799999999967,
           8,
           976
          ],
          [
           -1413.1800000000003,
           8,
           977
          ],
          [
           234.3100000000013,
           8,
           978
          ],
          [
           -932.1900000000023,
           6,
           979
          ],
          [
           359.65999999999985,
           8,
           980
          ],
          [
           1117.6299999999974,
           8,
           981
          ],
          [
           -1015.6100000000006,
           6,
           982
          ],
          [
           -1015.6100000000006,
           6,
           983
          ],
          [
           -1015.6100000000006,
           6,
           984
          ],
          [
           -1015.6100000000006,
           6,
           985
          ],
          [
           -903.3700000000026,
           6,
           986
          ],
          [
           -1015.6100000000006,
           6,
           987
          ],
          [
           -1015.6100000000006,
           6,
           988
          ],
          [
           -903.3700000000026,
           6,
           989
          ],
          [
           -1015.6100000000006,
           6,
           990
          ],
          [
           -1015.6100000000006,
           6,
           991
          ],
          [
           -903.3700000000026,
           6,
           992
          ],
          [
           -1015.6100000000006,
           6,
           993
          ],
          [
           1118.8399999999965,
           8,
           994
          ],
          [
           -1052.6300000000047,
           8,
           995
          ],
          [
           1229.4800000000032,
           8,
           996
          ],
          [
           -378.3799999999974,
           8,
           997
          ],
          [
           1155.1900000000023,
           8,
           998
          ],
          [
           -1015.6100000000006,
           6,
           999
          ],
          [
           1052.0699999999997,
           7,
           1000
          ]
         ],
         "fillcolor": "rgba(255,255,255,0)",
         "hoveron": "points",
         "hovertemplate": "model_type=DQN<br>fmt_total_profit_percentage=%{x}<br>total_reward_cash=%{customdata[0]}<br>num_of_trades=%{customdata[1]}<br>sim_id=%{customdata[2]}<extra></extra>",
         "jitter": 0,
         "legendgroup": "DQN",
         "line": {
          "color": "rgba(255,255,255,0)"
         },
         "marker": {
          "color": "#FF7F0E",
          "symbol": "line-ns-open"
         },
         "name": "DQN",
         "offsetgroup": "DQN",
         "showlegend": false,
         "type": "box",
         "x": [
          -4.631310946303213,
          -4.631310946303213,
          -3.3492910197644887,
          -10.851025376067213,
          -4.631310946303213,
          -4.631310946303213,
          4.56899917358935,
          -4.631310946303213,
          -4.631310946303213,
          -4.631310946303213,
          -4.631310946303213,
          -2.5751526397142066,
          -13.554664332443023,
          -4.604882750924732,
          5.1874204047918315,
          -4.631310946303213,
          -4.631310946303213,
          -4.631310946303213,
          5.317323697949328,
          -4.250137765608997,
          -4.631310946303213,
          2.4060571049153046,
          -9.899138398881702,
          -4.631310946303213,
          5.1874204047918315,
          -4.631310946303213,
          9.097758623503793,
          -4.631310946303213,
          -4.631310946303213,
          3.185119571393802,
          -4.631310946303213,
          -7.654168304490804,
          -3.9860429272055575,
          8.159060616415715,
          2.4060571049153046,
          -4.631310946303213,
          -4.840719512495351,
          1.0934051407932577,
          -11.664268424341795,
          -4.631310946303213,
          -4.631310946303213,
          -4.631310946303213,
          -4.631310946303213,
          6.648290382205557,
          -13.554664332443023,
          -4.631310946303213,
          -4.631310946303213,
          -1.952982762204114,
          -4.631310946303213,
          -4.551593225729311,
          -5.429975159347878,
          2.4060571049153046,
          2.5254853627481477,
          -4.631310946303213,
          -4.631310946303213,
          -4.631310946303213,
          -4.631310946303213,
          -6.4195052581949135,
          5.248820425145273,
          6.846924342886207,
          -4.631310946303213,
          -3.9860429272055575,
          -4.631310946303213,
          -4.551593225729311,
          -2.5457781855605432,
          -4.631310946303213,
          -4.631310946303213,
          6.7374366072059155,
          -3.9860429272055575,
          -10.851025376067213,
          -4.250137765608997,
          -4.631310946303213,
          17.46694447213397,
          -5.669958220536464,
          5.248820425145273,
          4.930277588928744,
          -4.631310946303213,
          -4.631310946303213,
          -4.631310946303213,
          3.1291500036785935,
          -4.631310946303213,
          -4.631310946303213,
          -4.840719512495351,
          -4.631310946303213,
          -4.631310946303213,
          2.4060571049153046,
          -4.631310946303213,
          -4.631310946303213,
          4.036564781167606,
          -7.654168304490804,
          -4.631310946303213,
          -4.631310946303213,
          1.0934051407932577,
          -3.0344022805557924,
          -4.631310946303213,
          -3.9860429272055575,
          -9.899138398881702,
          -4.250137765608997,
          5.960937772484054,
          -4.631310946303213,
          -4.250137765608997,
          -4.631310946303213,
          -4.631310946303213,
          -0.6522222948931011,
          -6.4195052581949135,
          3.281444253213639,
          4.778981766937762,
          -7.479424674779689,
          -4.631310946303213,
          0.27306808301110763,
          -4.631310946303213,
          -4.631310946303213,
          6.648290382205557,
          -4.631310946303213,
          2.4060571049153046,
          -3.3492910197644887,
          14.773766187148896,
          -4.631310946303213,
          4.778981766937762,
          -4.631310946303213,
          4.320371084333741,
          -4.631310946303213,
          -4.631310946303213,
          4.036564781167606,
          -6.4195052581949135,
          -6.4195052581949135,
          -4.631310946303213,
          -7.654168304490804,
          -4.631310946303213,
          -4.631310946303213,
          2.4060571049153046,
          -4.631310946303213,
          6.648290382205557,
          -4.631310946303213,
          -4.631310946303213,
          0.5574183866648985,
          -4.631310946303213,
          13.733826889656363,
          -4.631310946303213,
          -4.631310946303213,
          -1.685154266617983,
          -4.631310946303213,
          -0.8976867331258576,
          -4.631310946303213,
          5.602567289907268,
          -1.4525874363812696,
          -4.631310946303213,
          -3.2803265453192343,
          2.6347781084564925,
          -4.631310946303213,
          1.0934051407932577,
          -4.631310946303213,
          -4.631310946303213,
          5.602567289907268,
          2.6347781084564925,
          -6.624987344840749,
          -4.631310946303213,
          -4.631310946303213,
          -6.23569130318039,
          -4.631310946303213,
          -4.631310946303213,
          -4.631310946303213,
          -4.631310946303213,
          -2.5457781855605432,
          -7.654168304490804,
          -4.631310946303213,
          1.0934051407932577,
          -4.631310946303213,
          -4.631310946303213,
          -4.631310946303213,
          -8.687932696914846,
          1.0934051407932577,
          -10.325284365501975,
          -9.899138398881702,
          -10.851025376067213,
          5.2165695283186375,
          4.4272715989058575,
          -4.631310946303213,
          2.4060571049153046,
          -4.631310946303213,
          -4.631310946303213,
          -4.631310946303213,
          1.9031279634728504,
          4.514561296816333,
          -4.631310946303213,
          -4.631310946303213,
          -4.631310946303213,
          -4.631310946303213,
          -4.551593225729311,
          -4.631310946303213,
          -4.631310946303213,
          -4.631310946303213,
          -4.631310946303213,
          -4.631310946303213,
          -4.06889022109711,
          -4.631310946303213,
          4.036564781167606,
          -3.2803265453192343,
          -4.631310946303213,
          -4.631310946303213,
          -4.631310946303213,
          -4.631310946303213,
          3.549803836326526,
          4.4272715989058575,
          -1.685154266617983,
          -4.631310946303213,
          -4.631310946303213,
          2.6347781084564925,
          -4.631310946303213,
          -4.631310946303213,
          -2.5457781855605432,
          -1.685154266617983,
          -4.840719512495351,
          -4.604882750924732,
          4.778981766937762,
          1.0934051407932577,
          -4.631310946303213,
          4.4272715989058575,
          -4.631310946303213,
          -4.442969937857255,
          6.648290382205557,
          3.0989402122261867,
          4.4272715989058575,
          11.758304978931156,
          -4.631310946303213,
          -7.479424674779689,
          -4.631310946303213,
          2.647877190980985,
          4.036564781167606,
          -4.631310946303213,
          -4.631310946303213,
          -4.631310946303213,
          -4.551593225729311,
          -4.250137765608997,
          4.4272715989058575,
          -4.631310946303213,
          -4.551593225729311,
          7.487670239920519,
          5.1874204047918315,
          -4.631310946303213,
          -4.631310946303213,
          5.602567289907268,
          -4.631310946303213,
          -4.631310946303213,
          -4.631310946303213,
          18.49332283856795,
          -4.631310946303213,
          -4.631310946303213,
          -4.631310946303213,
          0.27306808301110763,
          -4.631310946303213,
          -0.2794257524619592,
          -6.4195052581949135,
          -4.631310946303213,
          -4.604882750924732,
          -4.631310946303213,
          -4.840719512495351,
          -4.604882750924732,
          -4.631310946303213,
          -0.38648024923255697,
          -7.654168304490804,
          5.248820425145273,
          -4.631310946303213,
          -4.631310946303213,
          -4.631310946303213,
          4.4272715989058575,
          -4.631310946303213,
          -4.631310946303213,
          2.6347781084564925,
          -4.631310946303213,
          -4.761176834419512,
          -4.250137765608997,
          -4.631310946303213,
          -4.631310946303213,
          -1.685154266617983,
          -4.631310946303213,
          -4.631310946303213,
          -6.4195052581949135,
          6.648290382205557,
          5.248820425145273,
          2.4060571049153046,
          -4.631310946303213,
          7.902596461172884,
          -4.631310946303213,
          -4.631310946303213,
          -3.2803265453192343,
          -4.631310946303213,
          -4.631310946303213,
          -4.631310946303213,
          6.648290382205557,
          6.648290382205557,
          -11.813068872594846,
          4.8080177055584095,
          -4.631310946303213,
          -4.604882750924732,
          -16.604617954283885,
          -6.4195052581949135,
          -3.3492910197644887,
          -4.631310946303213,
          16.341347262327854,
          -3.9860429272055575,
          -13.554664332443023,
          1.0934051407932577,
          7.07454629978137,
          -4.631310946303213,
          -4.631310946303213,
          -4.631310946303213,
          -4.631310946303213,
          -4.631310946303213,
          -4.631310946303213,
          5.602567289907268,
          -4.631310946303213,
          -2.617006759420959,
          5.602567289907268,
          2.4060571049153046,
          7.225096251299368,
          -11.046776823829962,
          -4.631310946303213,
          4.4272715989058575,
          -4.631310946303213,
          -4.631310946303213,
          -4.631310946303213,
          -4.631310946303213,
          8.900833643230733,
          -4.631310946303213,
          -4.631310946303213,
          -4.631310946303213,
          2.6347781084564925,
          -3.250489548712854,
          1.0934051407932577,
          -4.631310946303213,
          2.181196033629562,
          -6.4195052581949135,
          5.248820425145273,
          -4.631310946303213,
          -5.2435795340464715,
          -4.631310946303213,
          4.036564781167606,
          -4.631310946303213,
          3.463319895874517,
          -2.5457781855605432,
          5.602567289907268,
          -4.551593225729311,
          6.648290382205557,
          4.778981766937762,
          -3.9860429272055575,
          -4.631310946303213,
          -3.9860429272055575,
          -4.631310946303213,
          3.2286223830752636,
          2.6347781084564925,
          -1.019952444261485,
          -7.479424674779689,
          -6.4195052581949135,
          2.6347781084564925,
          -3.2803265453192343,
          -4.631310946303213,
          -4.631310946303213,
          -4.631310946303213,
          -4.631310946303213,
          5.248820425145273,
          -4.631310946303213,
          -13.554664332443023,
          -4.631310946303213,
          -4.631310946303213,
          4.514561296816333,
          -4.631310946303213,
          2.6347781084564925,
          -4.631310946303213,
          4.56899917358935,
          -10.851025376067213,
          -4.631310946303213,
          5.602567289907268,
          -4.631310946303213,
          -2.617006759420959,
          -4.631310946303213,
          -4.631310946303213,
          7.409108292410971,
          1.3628919648713378,
          -6.96844076618004,
          5.602567289907268,
          -4.631310946303213,
          6.3170781014002975,
          -4.631310946303213,
          -4.631310946303213,
          -4.631310946303213,
          16.743163466567413,
          4.115922748896228,
          -7.479424674779689,
          0.27306808301110763,
          -4.631310946303213,
          -4.631310946303213,
          -4.631310946303213,
          -4.631310946303213,
          -3.9860429272055575,
          -4.631310946303213,
          -4.631310946303213,
          -9.899138398881702,
          7.253910720130374,
          -4.631310946303213,
          -4.631310946303213,
          -4.631310946303213,
          -3.9860429272055575,
          -0.4965308008100022,
          -4.631310946303213,
          -4.631310946303213,
          2.4060571049153046,
          -4.631310946303213,
          -4.631310946303213,
          -9.899138398881702,
          -4.631310946303213,
          -4.631310946303213,
          4.088693283330147,
          -10.06995401562939,
          -4.631310946303213,
          -4.631310946303213,
          0.30085536058397366,
          -1.1686490966148044,
          -3.3492910197644887,
          4.4272715989058575,
          6.648290382205557,
          -2.617006759420959,
          -4.631310946303213,
          -4.631310946303213,
          1.0934051407932577,
          -1.685154266617983,
          -4.06889022109711,
          6.414114304109253,
          -4.631310946303213,
          -4.631310946303213,
          -4.631310946303213,
          4.778981766937762,
          -4.631310946303213,
          -4.631310946303213,
          -4.631310946303213,
          5.1874204047918315,
          -4.631310946303213,
          6.677844336264993,
          -4.631310946303213,
          -4.631310946303213,
          -4.631310946303213,
          -4.631310946303213,
          -2.5457781855605432,
          -4.631310946303213,
          -10.851025376067213,
          -10.7950788961368,
          4.778981766937762,
          6.992042927415376,
          -4.631310946303213,
          -4.631310946303213,
          -4.06889022109711,
          -4.598986307304898,
          -4.551593225729311,
          5.133830317003141,
          -2.37440744412436,
          -9.82382400188354,
          -11.046776823829962,
          -4.631310946303213,
          -4.631310946303213,
          -9.874170003092786,
          -4.631310946303213,
          6.648290382205557,
          -4.631310946303213,
          -9.899138398881702,
          5.1874204047918315,
          -4.631310946303213,
          -13.554664332443023,
          1.0934051407932577,
          -4.631310946303213,
          -4.551593225729311,
          -4.631310946303213,
          5.248820425145273,
          -2.617006759420959,
          -4.631310946303213,
          -4.631310946303213,
          4.537688811941187,
          -4.631310946303213,
          -10.851025376067213,
          -4.631310946303213,
          -4.631310946303213,
          -4.631310946303213,
          5.248820425145273,
          -2.8308382924781883,
          -4.631310946303213,
          3.456846789586887,
          4.956452074336792,
          -4.631310946303213,
          4.036564781167606,
          -4.631310946303213,
          -4.631310946303213,
          -4.631310946303213,
          -2.073981846131423,
          5.602567289907268,
          -7.654168304490804,
          -4.631310946303213,
          -4.631310946303213,
          -4.631310946303213,
          -4.631310946303213,
          -3.2803265453192343,
          -7.62857779143401,
          -9.899138398881702,
          1.0934051407932577,
          -4.631310946303213,
          -4.631310946303213,
          -4.551593225729311,
          -2.5457781855605432,
          -2.5457781855605432,
          -1.3077909986758174,
          -9.899138398881702,
          -4.631310946303213,
          -4.631310946303213,
          0.30085536058397366,
          -4.631310946303213,
          -4.551593225729311,
          -4.631310946303213,
          -4.631310946303213,
          -4.631310946303213,
          7.911895601819241,
          -4.631310946303213,
          -3.3492910197644887,
          -4.631310946303213,
          7.902596461172884,
          7.68740312680074,
          -4.631310946303213,
          -7.654168304490804,
          -13.209156347804296,
          -4.631310946303213,
          5.602567289907268,
          -4.631310946303213,
          -13.554664332443023,
          -4.631310946303213,
          -2.617006759420959,
          -4.631310946303213,
          7.409108292410971,
          -4.631310946303213,
          -4.631310946303213,
          0.27306808301110763,
          -2.5457781855605432,
          -4.631310946303213,
          2.4060571049153046,
          -4.631310946303213,
          -3.250489548712854,
          -4.631310946303213,
          -4.551593225729311,
          -4.631310946303213,
          -4.631310946303213,
          -4.631310946303213,
          -7.654168304490804,
          -7.479424674779689,
          3.4528163025911995,
          -0.5647503713969271,
          -4.460383303872706,
          -4.631310946303213,
          -1.685154266617983,
          6.846924342886207,
          4.778981766937762,
          -4.551593225729311,
          -13.554664332443023,
          4.778981766937762,
          -4.631310946303213,
          -4.631310946303213,
          -3.349513700939122,
          -4.631310946303213,
          -4.631310946303213,
          -2.5457781855605432,
          -4.631310946303213,
          3.2679087022344566,
          -4.551593225729311,
          -4.631310946303213,
          -9.899138398881702,
          -4.631310946303213,
          -4.631310946303213,
          -2.5457781855605432,
          -4.840719512495351,
          -10.851025376067213,
          2.6347781084564925,
          16.756670878022817,
          -4.631310946303213,
          -4.631310946303213,
          6.648290382205557,
          -3.2803265453192343,
          -4.631310946303213,
          -4.631310946303213,
          -4.631310946303213,
          1.7682795603725543,
          -7.654168304490804,
          -4.631310946303213,
          -4.631310946303213,
          -4.631310946303213,
          17.171572602203476,
          -3.685469135992725,
          -4.604882750924732,
          6.648290382205557,
          -4.631310946303213,
          -4.631310946303213,
          -4.631310946303213,
          -4.631310946303213,
          5.602567289907268,
          -4.631310946303213,
          -4.250137765608997,
          -4.631310946303213,
          -7.233496043898291,
          -7.654168304490804,
          4.778981766937762,
          -1.685154266617983,
          -4.631310946303213,
          -2.617006759420959,
          -4.631310946303213,
          -3.2803265453192343,
          -4.631310946303213,
          -6.123058948902749,
          -4.631310946303213,
          -4.631310946303213,
          -3.3492910197644887,
          1.1214197469396447,
          -4.631310946303213,
          -4.631310946303213,
          -4.631310946303213,
          -4.631310946303213,
          -4.631310946303213,
          -4.631310946303213,
          -10.851025376067213,
          -2.5457781855605432,
          -4.631310946303213,
          -4.631310946303213,
          -4.631310946303213,
          -4.631310946303213,
          -4.631310946303213,
          -4.631310946303213,
          4.778981766937762,
          1.0934051407932577,
          4.036564781167606,
          -4.631310946303213,
          1.0934051407932577,
          -4.631310946303213,
          -4.631310946303213,
          15.108092059433043,
          -4.631310946303213,
          -4.631310946303213,
          -3.5615146184092006,
          -4.631310946303213,
          -9.899138398881702,
          -7.479424674779689,
          2.4060571049153046,
          -4.631310946303213,
          -4.631310946303213,
          -4.631310946303213,
          -4.631310946303213,
          -4.460383303872706,
          6.414114304109253,
          -3.9860429272055575,
          -4.631310946303213,
          -10.851025376067213,
          5.1874204047918315,
          0.27306808301110763,
          4.4272715989058575,
          -4.631310946303213,
          2.4060571049153046,
          -4.621252734833625,
          8.689577528263825,
          -4.551593225729311,
          -4.06889022109711,
          -4.631310946303213,
          -3.3492910197644887,
          -2.590020368002144,
          2.6347781084564925,
          -1.685154266617983,
          -4.631310946303213,
          2.4060571049153046,
          -13.554664332443023,
          -6.4195052581949135,
          4.036564781167606,
          -4.631310946303213,
          -4.631310946303213,
          -0.4874249778358597,
          -4.631310946303213,
          0.8960949217894809,
          -4.631310946303213,
          4.778981766937762,
          -4.631310946303213,
          -4.631310946303213,
          -10.42161199052487,
          4.778981766937762,
          -4.631310946303213,
          -6.4195052581949135,
          -4.631310946303213,
          -10.851025376067213,
          -4.631310946303213,
          -14.36092542209212,
          -4.631310946303213,
          -13.554664332443023,
          -4.631310946303213,
          0.27306808301110763,
          0.27306808301110763,
          -4.840719512495351,
          -4.631310946303213,
          3.590923427845061,
          -4.631310946303213,
          -4.631310946303213,
          -4.631310946303213,
          -4.631310946303213,
          -1.685154266617983,
          -4.631310946303213,
          -4.840719512495351,
          -9.757231610515793,
          -4.631310946303213,
          -4.631310946303213,
          6.648290382205557,
          -4.631310946303213,
          0.27306808301110763,
          -13.554664332443023,
          0.27306808301110763,
          -4.631310946303213,
          -6.194396428133353,
          2.2666082597400328,
          -2.0427070157150395,
          1.0934051407932577,
          -4.631310946303213,
          -0.38648024923255697,
          -4.631310946303213,
          -4.631310946303213,
          -4.631310946303213,
          -4.631310946303213,
          -4.631310946303213,
          -4.631310946303213,
          -13.554664332443023,
          5.1874204047918315,
          -5.634739713933412,
          -4.604882750924732,
          -4.631310946303213,
          -10.851025376067213,
          -4.631310946303213,
          -1.685154266617983,
          -3.3492910197644887,
          3.740754697035742,
          -4.631310946303213,
          -4.631310946303213,
          -3.9860429272055575,
          -8.687932696914846,
          -4.631310946303213,
          -4.631310946303213,
          -4.631310946303213,
          -4.631310946303213,
          -4.631310946303213,
          -9.453294729393026,
          -2.5457781855605432,
          -4.631310946303213,
          -4.631310946303213,
          -4.631310946303213,
          2.4060571049153046,
          -1.685154266617983,
          14.773766187148896,
          -4.631310946303213,
          5.602567289907268,
          -4.631310946303213,
          1.0934051407932577,
          -3.2803265453192343,
          -4.631310946303213,
          2.4060571049153046,
          -4.631310946303213,
          5.1874204047918315,
          -4.631310946303213,
          -4.631310946303213,
          -4.2795337389157195,
          -4.631310946303213,
          6.648290382205557,
          -4.631310946303213,
          -2.5457781855605432,
          -4.551593225729311,
          -3.419816842915102,
          -4.631310946303213,
          -4.631310946303213,
          -4.631310946303213,
          -4.631310946303213,
          -4.250137765608997,
          3.6424052614537628,
          -4.631310946303213,
          0.27306808301110763,
          -4.2795337389157195,
          -4.631310946303213,
          -4.631310946303213,
          5.896189060655321,
          0.27306808301110763,
          -4.631310946303213,
          -4.250137765608997,
          -4.631310946303213,
          -16.29468227330556,
          4.4272715989058575,
          -4.631310946303213,
          -4.06889022109711,
          5.248820425145273,
          4.778981766937762,
          -4.631310946303213,
          -4.631310946303213,
          -4.840719512495351,
          -4.631310946303213,
          6.677844336264993,
          -4.631310946303213,
          -4.631310946303213,
          5.043113783659825,
          -4.631310946303213,
          16.28422045111384,
          -4.631310946303213,
          -4.631310946303213,
          -3.250489548712854,
          -4.631310946303213,
          -4.840719512495351,
          -4.631310946303213,
          3.711644694516436,
          -4.250137765608997,
          -13.554664332443023,
          -4.250137765608997,
          -4.631310946303213,
          -11.664268424341795,
          -4.06889022109711,
          -4.631310946303213,
          -4.631310946303213,
          -3.2803265453192343,
          6.648290382205557,
          -4.631310946303213,
          6.648290382205557,
          -4.631310946303213,
          -0.38648024923255697,
          -3.9860429272055575,
          1.0934051407932577,
          -4.631310946303213,
          -3.9860429272055575,
          -4.604882750924732,
          4.778981766937762,
          -4.631310946303213,
          -12.392599046846641,
          6.648290382205557,
          -4.631310946303213,
          4.036564781167606,
          -4.631310946303213,
          5.602567289907268,
          -4.631310946303213,
          -4.631310946303213,
          -4.631310946303213,
          -4.631310946303213,
          -13.47530234753732,
          5.1874204047918315,
          -4.631310946303213,
          -9.899138398881702,
          -4.631310946303213,
          -4.250137765608997,
          -4.631310946303213,
          -4.631310946303213,
          -4.631310946303213,
          -3.2803265453192343,
          -4.631310946303213,
          -4.631310946303213,
          -4.631310946303213,
          -4.631310946303213,
          -4.631310946303213,
          -4.631310946303213,
          -2.5457781855605432,
          -7.479424674779689,
          -4.631310946303213,
          -4.631310946303213,
          -4.631310946303213,
          -10.851025376067213,
          2.493946168508221,
          -4.250137765608997,
          -4.631310946303213,
          -4.631310946303213,
          5.1874204047918315,
          -4.631310946303213,
          -4.631310946303213,
          -4.631310946303213,
          -4.631310946303213,
          2.4060571049153046,
          -4.631310946303213,
          5.248820425145273,
          -13.554664332443023,
          -4.631310946303213,
          -4.631310946303213,
          -4.631310946303213,
          -12.96977204693588,
          -5.634739713933412,
          -3.2803265453192343,
          -4.631310946303213,
          -4.631310946303213,
          -4.631310946303213,
          -4.631310946303213,
          6.648290382205557,
          2.448826532378323,
          -4.631310946303213,
          -4.631310946303213,
          -4.631310946303213,
          -4.631310946303213,
          -4.631310946303213,
          -10.851025376067213,
          -3.3492910197644887,
          -6.4195052581949135,
          -4.631310946303213,
          -4.631310946303213,
          -4.631310946303213,
          -19.192419312325026,
          -4.631310946303213,
          13.209435825035643,
          -4.631310946303213,
          4.778981766937762,
          5.017717273813971,
          -4.631310946303213,
          6.986145750588135,
          7.862905853771962,
          -4.631310946303213,
          5.602567289907268,
          -4.631310946303213,
          -7.10963494267467,
          2.6347781084564925,
          -4.631310946303213,
          5.807745438653966,
          -4.631310946303213,
          -9.899138398881702,
          -4.604882750924732,
          -13.554664332443023,
          -7.654168304490804,
          5.602567289907268,
          -4.631310946303213,
          -4.631310946303213,
          4.4272715989058575,
          -3.3225075560748496,
          -4.631310946303213,
          2.4060571049153046,
          4.4272715989058575,
          -4.604882750924732,
          4.4272715989058575,
          -2.0427070157150395,
          -4.631310946303213,
          -3.3492910197644887,
          -4.631310946303213,
          -4.631310946303213,
          -4.631310946303213,
          -7.479424674779689,
          -3.3492910197644887,
          2.6347781084564925,
          -4.631310946303213,
          -4.631310946303213,
          -4.631310946303213,
          -4.631310946303213,
          -4.631310946303213,
          -16.136288864776727,
          -4.631310946303213,
          -0.2305432262635354,
          0.27306808301110763,
          2.6347781084564925,
          -3.2803265453192343,
          -4.631310946303213,
          -2.5457781855605432,
          -4.631310946303213,
          -4.631310946303213,
          -4.631310946303213,
          -1.9256729014540563,
          2.6347781084564925,
          6.648290382205557,
          -4.631310946303213,
          -7.479424674779689,
          6.648290382205557,
          -3.9860429272055575,
          5.248820425145273,
          -4.631310946303213,
          -4.631310946303213,
          3.73805268649412,
          -2.617006759420959,
          -4.631310946303213,
          -4.631310946303213,
          -4.604882750924732,
          -9.899138398881702,
          -1.685154266617983,
          -4.631310946303213,
          2.6347781084564925,
          4.648599832542488,
          -4.631310946303213,
          -7.654168304490804,
          -6.4195052581949135,
          1.0934051407932577,
          -4.250137765608997,
          2.390958796150855,
          5.851042314566368,
          -4.631310946303213,
          -4.631310946303213,
          -4.631310946303213,
          -4.631310946303213,
          -3.9860429272055575,
          -4.631310946303213,
          -4.631310946303213,
          -3.9860429272055575,
          -4.631310946303213,
          -4.631310946303213,
          -3.9860429272055575,
          -4.631310946303213,
          5.044184108843153,
          -4.840719512495351,
          5.602567289907268,
          -1.685154266617983,
          5.248820425145273,
          -4.631310946303213,
          4.778981766937762
         ],
         "xaxis": "x2",
         "yaxis": "y2"
        }
       ],
       "layout": {
        "barmode": "relative",
        "height": 600,
        "legend": {
         "title": {
          "text": "model_type"
         },
         "tracegroupgap": 0
        },
        "margin": {
         "t": 60
        },
        "template": {
         "data": {
          "bar": [
           {
            "error_x": {
             "color": "#2a3f5f"
            },
            "error_y": {
             "color": "#2a3f5f"
            },
            "marker": {
             "line": {
              "color": "#E5ECF6",
              "width": 0.5
             },
             "pattern": {
              "fillmode": "overlay",
              "size": 10,
              "solidity": 0.2
             }
            },
            "type": "bar"
           }
          ],
          "barpolar": [
           {
            "marker": {
             "line": {
              "color": "#E5ECF6",
              "width": 0.5
             },
             "pattern": {
              "fillmode": "overlay",
              "size": 10,
              "solidity": 0.2
             }
            },
            "type": "barpolar"
           }
          ],
          "carpet": [
           {
            "aaxis": {
             "endlinecolor": "#2a3f5f",
             "gridcolor": "white",
             "linecolor": "white",
             "minorgridcolor": "white",
             "startlinecolor": "#2a3f5f"
            },
            "baxis": {
             "endlinecolor": "#2a3f5f",
             "gridcolor": "white",
             "linecolor": "white",
             "minorgridcolor": "white",
             "startlinecolor": "#2a3f5f"
            },
            "type": "carpet"
           }
          ],
          "choropleth": [
           {
            "colorbar": {
             "outlinewidth": 0,
             "ticks": ""
            },
            "type": "choropleth"
           }
          ],
          "contour": [
           {
            "colorbar": {
             "outlinewidth": 0,
             "ticks": ""
            },
            "colorscale": [
             [
              0,
              "#0d0887"
             ],
             [
              0.1111111111111111,
              "#46039f"
             ],
             [
              0.2222222222222222,
              "#7201a8"
             ],
             [
              0.3333333333333333,
              "#9c179e"
             ],
             [
              0.4444444444444444,
              "#bd3786"
             ],
             [
              0.5555555555555556,
              "#d8576b"
             ],
             [
              0.6666666666666666,
              "#ed7953"
             ],
             [
              0.7777777777777778,
              "#fb9f3a"
             ],
             [
              0.8888888888888888,
              "#fdca26"
             ],
             [
              1,
              "#f0f921"
             ]
            ],
            "type": "contour"
           }
          ],
          "contourcarpet": [
           {
            "colorbar": {
             "outlinewidth": 0,
             "ticks": ""
            },
            "type": "contourcarpet"
           }
          ],
          "heatmap": [
           {
            "colorbar": {
             "outlinewidth": 0,
             "ticks": ""
            },
            "colorscale": [
             [
              0,
              "#0d0887"
             ],
             [
              0.1111111111111111,
              "#46039f"
             ],
             [
              0.2222222222222222,
              "#7201a8"
             ],
             [
              0.3333333333333333,
              "#9c179e"
             ],
             [
              0.4444444444444444,
              "#bd3786"
             ],
             [
              0.5555555555555556,
              "#d8576b"
             ],
             [
              0.6666666666666666,
              "#ed7953"
             ],
             [
              0.7777777777777778,
              "#fb9f3a"
             ],
             [
              0.8888888888888888,
              "#fdca26"
             ],
             [
              1,
              "#f0f921"
             ]
            ],
            "type": "heatmap"
           }
          ],
          "heatmapgl": [
           {
            "colorbar": {
             "outlinewidth": 0,
             "ticks": ""
            },
            "colorscale": [
             [
              0,
              "#0d0887"
             ],
             [
              0.1111111111111111,
              "#46039f"
             ],
             [
              0.2222222222222222,
              "#7201a8"
             ],
             [
              0.3333333333333333,
              "#9c179e"
             ],
             [
              0.4444444444444444,
              "#bd3786"
             ],
             [
              0.5555555555555556,
              "#d8576b"
             ],
             [
              0.6666666666666666,
              "#ed7953"
             ],
             [
              0.7777777777777778,
              "#fb9f3a"
             ],
             [
              0.8888888888888888,
              "#fdca26"
             ],
             [
              1,
              "#f0f921"
             ]
            ],
            "type": "heatmapgl"
           }
          ],
          "histogram": [
           {
            "marker": {
             "pattern": {
              "fillmode": "overlay",
              "size": 10,
              "solidity": 0.2
             }
            },
            "type": "histogram"
           }
          ],
          "histogram2d": [
           {
            "colorbar": {
             "outlinewidth": 0,
             "ticks": ""
            },
            "colorscale": [
             [
              0,
              "#0d0887"
             ],
             [
              0.1111111111111111,
              "#46039f"
             ],
             [
              0.2222222222222222,
              "#7201a8"
             ],
             [
              0.3333333333333333,
              "#9c179e"
             ],
             [
              0.4444444444444444,
              "#bd3786"
             ],
             [
              0.5555555555555556,
              "#d8576b"
             ],
             [
              0.6666666666666666,
              "#ed7953"
             ],
             [
              0.7777777777777778,
              "#fb9f3a"
             ],
             [
              0.8888888888888888,
              "#fdca26"
             ],
             [
              1,
              "#f0f921"
             ]
            ],
            "type": "histogram2d"
           }
          ],
          "histogram2dcontour": [
           {
            "colorbar": {
             "outlinewidth": 0,
             "ticks": ""
            },
            "colorscale": [
             [
              0,
              "#0d0887"
             ],
             [
              0.1111111111111111,
              "#46039f"
             ],
             [
              0.2222222222222222,
              "#7201a8"
             ],
             [
              0.3333333333333333,
              "#9c179e"
             ],
             [
              0.4444444444444444,
              "#bd3786"
             ],
             [
              0.5555555555555556,
              "#d8576b"
             ],
             [
              0.6666666666666666,
              "#ed7953"
             ],
             [
              0.7777777777777778,
              "#fb9f3a"
             ],
             [
              0.8888888888888888,
              "#fdca26"
             ],
             [
              1,
              "#f0f921"
             ]
            ],
            "type": "histogram2dcontour"
           }
          ],
          "mesh3d": [
           {
            "colorbar": {
             "outlinewidth": 0,
             "ticks": ""
            },
            "type": "mesh3d"
           }
          ],
          "parcoords": [
           {
            "line": {
             "colorbar": {
              "outlinewidth": 0,
              "ticks": ""
             }
            },
            "type": "parcoords"
           }
          ],
          "pie": [
           {
            "automargin": true,
            "type": "pie"
           }
          ],
          "scatter": [
           {
            "fillpattern": {
             "fillmode": "overlay",
             "size": 10,
             "solidity": 0.2
            },
            "type": "scatter"
           }
          ],
          "scatter3d": [
           {
            "line": {
             "colorbar": {
              "outlinewidth": 0,
              "ticks": ""
             }
            },
            "marker": {
             "colorbar": {
              "outlinewidth": 0,
              "ticks": ""
             }
            },
            "type": "scatter3d"
           }
          ],
          "scattercarpet": [
           {
            "marker": {
             "colorbar": {
              "outlinewidth": 0,
              "ticks": ""
             }
            },
            "type": "scattercarpet"
           }
          ],
          "scattergeo": [
           {
            "marker": {
             "colorbar": {
              "outlinewidth": 0,
              "ticks": ""
             }
            },
            "type": "scattergeo"
           }
          ],
          "scattergl": [
           {
            "marker": {
             "colorbar": {
              "outlinewidth": 0,
              "ticks": ""
             }
            },
            "type": "scattergl"
           }
          ],
          "scattermapbox": [
           {
            "marker": {
             "colorbar": {
              "outlinewidth": 0,
              "ticks": ""
             }
            },
            "type": "scattermapbox"
           }
          ],
          "scatterpolar": [
           {
            "marker": {
             "colorbar": {
              "outlinewidth": 0,
              "ticks": ""
             }
            },
            "type": "scatterpolar"
           }
          ],
          "scatterpolargl": [
           {
            "marker": {
             "colorbar": {
              "outlinewidth": 0,
              "ticks": ""
             }
            },
            "type": "scatterpolargl"
           }
          ],
          "scatterternary": [
           {
            "marker": {
             "colorbar": {
              "outlinewidth": 0,
              "ticks": ""
             }
            },
            "type": "scatterternary"
           }
          ],
          "surface": [
           {
            "colorbar": {
             "outlinewidth": 0,
             "ticks": ""
            },
            "colorscale": [
             [
              0,
              "#0d0887"
             ],
             [
              0.1111111111111111,
              "#46039f"
             ],
             [
              0.2222222222222222,
              "#7201a8"
             ],
             [
              0.3333333333333333,
              "#9c179e"
             ],
             [
              0.4444444444444444,
              "#bd3786"
             ],
             [
              0.5555555555555556,
              "#d8576b"
             ],
             [
              0.6666666666666666,
              "#ed7953"
             ],
             [
              0.7777777777777778,
              "#fb9f3a"
             ],
             [
              0.8888888888888888,
              "#fdca26"
             ],
             [
              1,
              "#f0f921"
             ]
            ],
            "type": "surface"
           }
          ],
          "table": [
           {
            "cells": {
             "fill": {
              "color": "#EBF0F8"
             },
             "line": {
              "color": "white"
             }
            },
            "header": {
             "fill": {
              "color": "#C8D4E3"
             },
             "line": {
              "color": "white"
             }
            },
            "type": "table"
           }
          ]
         },
         "layout": {
          "annotationdefaults": {
           "arrowcolor": "#2a3f5f",
           "arrowhead": 0,
           "arrowwidth": 1
          },
          "autotypenumbers": "strict",
          "coloraxis": {
           "colorbar": {
            "outlinewidth": 0,
            "ticks": ""
           }
          },
          "colorscale": {
           "diverging": [
            [
             0,
             "#8e0152"
            ],
            [
             0.1,
             "#c51b7d"
            ],
            [
             0.2,
             "#de77ae"
            ],
            [
             0.3,
             "#f1b6da"
            ],
            [
             0.4,
             "#fde0ef"
            ],
            [
             0.5,
             "#f7f7f7"
            ],
            [
             0.6,
             "#e6f5d0"
            ],
            [
             0.7,
             "#b8e186"
            ],
            [
             0.8,
             "#7fbc41"
            ],
            [
             0.9,
             "#4d9221"
            ],
            [
             1,
             "#276419"
            ]
           ],
           "sequential": [
            [
             0,
             "#0d0887"
            ],
            [
             0.1111111111111111,
             "#46039f"
            ],
            [
             0.2222222222222222,
             "#7201a8"
            ],
            [
             0.3333333333333333,
             "#9c179e"
            ],
            [
             0.4444444444444444,
             "#bd3786"
            ],
            [
             0.5555555555555556,
             "#d8576b"
            ],
            [
             0.6666666666666666,
             "#ed7953"
            ],
            [
             0.7777777777777778,
             "#fb9f3a"
            ],
            [
             0.8888888888888888,
             "#fdca26"
            ],
            [
             1,
             "#f0f921"
            ]
           ],
           "sequentialminus": [
            [
             0,
             "#0d0887"
            ],
            [
             0.1111111111111111,
             "#46039f"
            ],
            [
             0.2222222222222222,
             "#7201a8"
            ],
            [
             0.3333333333333333,
             "#9c179e"
            ],
            [
             0.4444444444444444,
             "#bd3786"
            ],
            [
             0.5555555555555556,
             "#d8576b"
            ],
            [
             0.6666666666666666,
             "#ed7953"
            ],
            [
             0.7777777777777778,
             "#fb9f3a"
            ],
            [
             0.8888888888888888,
             "#fdca26"
            ],
            [
             1,
             "#f0f921"
            ]
           ]
          },
          "colorway": [
           "#636efa",
           "#EF553B",
           "#00cc96",
           "#ab63fa",
           "#FFA15A",
           "#19d3f3",
           "#FF6692",
           "#B6E880",
           "#FF97FF",
           "#FECB52"
          ],
          "font": {
           "color": "#2a3f5f"
          },
          "geo": {
           "bgcolor": "white",
           "lakecolor": "white",
           "landcolor": "#E5ECF6",
           "showlakes": true,
           "showland": true,
           "subunitcolor": "white"
          },
          "hoverlabel": {
           "align": "left"
          },
          "hovermode": "closest",
          "mapbox": {
           "style": "light"
          },
          "paper_bgcolor": "white",
          "plot_bgcolor": "#E5ECF6",
          "polar": {
           "angularaxis": {
            "gridcolor": "white",
            "linecolor": "white",
            "ticks": ""
           },
           "bgcolor": "#E5ECF6",
           "radialaxis": {
            "gridcolor": "white",
            "linecolor": "white",
            "ticks": ""
           }
          },
          "scene": {
           "xaxis": {
            "backgroundcolor": "#E5ECF6",
            "gridcolor": "white",
            "gridwidth": 2,
            "linecolor": "white",
            "showbackground": true,
            "ticks": "",
            "zerolinecolor": "white"
           },
           "yaxis": {
            "backgroundcolor": "#E5ECF6",
            "gridcolor": "white",
            "gridwidth": 2,
            "linecolor": "white",
            "showbackground": true,
            "ticks": "",
            "zerolinecolor": "white"
           },
           "zaxis": {
            "backgroundcolor": "#E5ECF6",
            "gridcolor": "white",
            "gridwidth": 2,
            "linecolor": "white",
            "showbackground": true,
            "ticks": "",
            "zerolinecolor": "white"
           }
          },
          "shapedefaults": {
           "line": {
            "color": "#2a3f5f"
           }
          },
          "ternary": {
           "aaxis": {
            "gridcolor": "white",
            "linecolor": "white",
            "ticks": ""
           },
           "baxis": {
            "gridcolor": "white",
            "linecolor": "white",
            "ticks": ""
           },
           "bgcolor": "#E5ECF6",
           "caxis": {
            "gridcolor": "white",
            "linecolor": "white",
            "ticks": ""
           }
          },
          "title": {
           "x": 0.05
          },
          "xaxis": {
           "automargin": true,
           "gridcolor": "white",
           "linecolor": "white",
           "ticks": "",
           "title": {
            "standoff": 15
           },
           "zerolinecolor": "white",
           "zerolinewidth": 2
          },
          "yaxis": {
           "automargin": true,
           "gridcolor": "white",
           "linecolor": "white",
           "ticks": "",
           "title": {
            "standoff": 15
           },
           "zerolinecolor": "white",
           "zerolinewidth": 2
          }
         }
        },
        "width": 800,
        "xaxis": {
         "anchor": "y",
         "domain": [
          0,
          1
         ],
         "title": {
          "text": "fmt_total_profit_percentage"
         }
        },
        "xaxis2": {
         "anchor": "y2",
         "domain": [
          0,
          1
         ],
         "matches": "x",
         "showgrid": true,
         "showticklabels": false
        },
        "yaxis": {
         "anchor": "x",
         "domain": [
          0,
          0.7326
         ],
         "title": {
          "text": "count"
         }
        },
        "yaxis2": {
         "anchor": "x2",
         "domain": [
          0.7426,
          1
         ],
         "matches": "y2",
         "showgrid": false,
         "showline": false,
         "showticklabels": false,
         "ticks": ""
        }
       }
      }
     },
     "metadata": {},
     "output_type": "display_data"
    }
   ],
   "source": [
    "fig = px.histogram(df_trader_results, x=\"fmt_total_profit_percentage\", color=\"model_type\", color_discrete_sequence=[ \"#FF7F0E\", \"#00CC96\", \"#10aded\", \"#8A56EF\"],  width=800, height=600, marginal=\"rug\", # can be `box`, `violin`\n",
    "                         hover_data=['total_reward_cash','fmt_total_profit_percentage', 'num_of_trades', 'sim_id'])\n",
    "fig.show()"
   ]
  },
  {
   "cell_type": "code",
   "execution_count": 19,
   "metadata": {},
   "outputs": [],
   "source": [
    "df_trader_results_stats = df_trader_results.groupby(['model_type'])['fmt_total_profit_percentage'].agg(['median']).reset_index()"
   ]
  },
  {
   "cell_type": "code",
   "execution_count": 20,
   "metadata": {},
   "outputs": [],
   "source": [
    "# i_A2C = np.argmin(np.abs(df_trader_results[df_trader_results['model_type']=='A2C']['fmt_total_profit_percentage'] - df_trader_results_stats[df_trader_results_stats['model_type']=='A2C']['median'].values[0]))\n",
    "# median_sim_id_A2C = df_trader_results[df_trader_results['model_type']=='A2C'].iloc[i_A2C]['sim_id']\n",
    "\n",
    "# i_PPO = np.argmin(np.abs(df_trader_results[df_trader_results['model_type']=='PPO']['fmt_total_profit_percentage'] - df_trader_results_stats[df_trader_results_stats['model_type']=='PPO']['median'].values[0]))\n",
    "# median_sim_id_PPO = df_trader_results[df_trader_results['model_type']=='PPO'].iloc[i_PPO]['sim_id']\n",
    "\n",
    "i_DQN = np.argmin(np.abs(df_trader_results[df_trader_results['model_type']=='DQN']['fmt_total_profit_percentage'] - df_trader_results_stats[df_trader_results_stats['model_type']=='DQN']['median'].values[0]))\n",
    "median_sim_id_DQN = df_trader_results[df_trader_results['model_type']=='DQN'].iloc[i_DQN]['sim_id']\n",
    "\n",
    "# i_RANDOM = np.argmin(np.abs(df_trader_results[df_trader_results['model_type']=='RANDOM']['fmt_total_profit_percentage'] - df_trader_results_stats[df_trader_results_stats['model_type']=='RANDOM']['median'].values[0]))\n",
    "# median_sim_id_RANDOM = df_trader_results[df_trader_results['model_type']=='RANDOM'].iloc[i_RANDOM]['sim_id']"
   ]
  },
  {
   "cell_type": "code",
   "execution_count": 21,
   "metadata": {},
   "outputs": [],
   "source": [
    "def get_and_process_trader_robot_actions_and_env_data_one_sim_id(config_file_name_without_extension, sim_id):\n",
    "    try:\n",
    "        \n",
    "        # Get the data\n",
    "        db_address = 'sqlite:///../results/data/db/trader.db'\n",
    "        engine = create_engine(db_address, echo=False)\n",
    "        sqlite_connection = engine.connect()\n",
    "\n",
    "        input_tbl_name = \"tbl_trader_bernardo_robot_actions_and_env\" + \"_\" + config_file_name_without_extension\n",
    "        \n",
    "        sql_command = \"SELECT * FROM \" + input_tbl_name\n",
    "        \n",
    "        sql_append = \" WHERE \" + \"sim_id = \" + str(sim_id)\n",
    "        \n",
    "        sql_command = sql_command + sql_append\n",
    "\n",
    "        df = pd.read_sql(sql_command, sqlite_connection)\n",
    "\n",
    "        sqlite_connection.close()\n",
    "\n",
    "        return df\n",
    "\n",
    "    except Exception as e:\n",
    "        print(e)"
   ]
  },
  {
   "cell_type": "code",
   "execution_count": 22,
   "metadata": {},
   "outputs": [],
   "source": [
    "def plot_robot_actions_all_models(config_file_name_without_extension, sim_id_A2C, sim_id_PPO, sim_id_DQN, sim_id_RANDOM):\n",
    "    \n",
    "    # df_robot_actions_sim_id_A2C = get_and_process_trader_robot_actions_and_env_data_one_sim_id(config_file_name_without_extension, sim_id_A2C)\n",
    "    # df_robot_actions_sim_id_PPO = get_and_process_trader_robot_actions_and_env_data_one_sim_id(config_file_name_without_extension, sim_id_PPO)\n",
    "    df_robot_actions_sim_id_DQN = get_and_process_trader_robot_actions_and_env_data_one_sim_id(config_file_name_without_extension, sim_id_DQN)\n",
    "    # df_robot_actions_sim_id_RANDOM = get_and_process_trader_robot_actions_and_env_data_one_sim_id(config_file_name_without_extension, sim_id_RANDOM)\n",
    "\n",
    "    # df_simulation_sim_id_A2C = df_trader_results[df_trader_results['sim_id'] == sim_id_A2C]\n",
    "    # df_simulation_sim_id_PPO = df_trader_results[df_trader_results['sim_id'] == sim_id_PPO]\n",
    "    df_simulation_sim_id_DQN = df_trader_results[df_trader_results['sim_id'] == sim_id_DQN]\n",
    "    # df_simulation_sim_id_RANDOM = df_trader_results[df_trader_results['sim_id'] == sim_id_RANDOM]\n",
    "\n",
    "    # str_title_A2C = f\"sim_id: {sim_id_A2C} | model_type: {df_simulation_sim_id_A2C.model_type.values[0]} | Total Profit percentage {round(df_simulation_sim_id_A2C.fmt_total_profit_percentage.values[0],2)}%\"\n",
    "    # str_title_PPO = f\"sim_id: {sim_id_PPO} | model_type: {df_simulation_sim_id_PPO.model_type.values[0]} | Total Profit percentage {round(df_simulation_sim_id_PPO.fmt_total_profit_percentage.values[0],2)}%\"\n",
    "    str_title_DQN = f\"sim_id: {sim_id_DQN} | model_type: {df_simulation_sim_id_DQN.model_type.values[0]} | Total Profit percentage {round(df_simulation_sim_id_DQN.fmt_total_profit_percentage.values[0],2)}%\"\n",
    "    # str_title_RANDOM = f\"sim_id: {sim_id_RANDOM} | model_type: {df_simulation_sim_id_RANDOM.model_type.values[0]} | Total Profit percentage {round(df_simulation_sim_id_RANDOM.fmt_total_profit_percentage.values[0],2)}%\"\n",
    "\n",
    "    str_title = \"The median profit percentage results per model\"\n",
    "\n",
    "    fig = make_subplots(rows=4, cols=1, subplot_titles=(\"\", \"\", str_title_DQN, \"\"), shared_xaxes='all', shared_yaxes='all')\n",
    "\n",
    "    # fig.add_trace(go.Scatter(name='Price', x=df_robot_actions_sim_id_A2C[\"dates\"], y=df_robot_actions_sim_id_A2C[\"prices\"], mode='lines', marker_color='#969696', legendgroup = '1'), row=1, col=1)\n",
    "    # fig.add_trace(go.Scatter(name='Long', x=df_robot_actions_sim_id_A2C[df_robot_actions_sim_id_A2C['actions'] == 1]['dates'], y=df_robot_actions_sim_id_A2C[df_robot_actions_sim_id_A2C['actions'] == 1]['prices'], mode='markers', marker_symbol='circle', marker_size=10, marker_color='#228b22', legendgroup = '1'), row=1, col=1)\n",
    "    # fig.add_trace(go.Scatter(name='Short', x=df_robot_actions_sim_id_A2C[df_robot_actions_sim_id_A2C['actions'] == 0]['dates'], y=df_robot_actions_sim_id_A2C[df_robot_actions_sim_id_A2C['actions'] == 0]['prices'], mode='markers', marker_symbol='circle', marker_size=10, marker_color='#c83232', legendgroup = '1'), row=1, col=1)\n",
    "\n",
    "    # fig.add_trace(go.Scatter(name='Price', x=df_robot_actions_sim_id_PPO[\"dates\"], y=df_robot_actions_sim_id_PPO[\"prices\"], mode='lines', marker_color='#969696', legendgroup = '2'), row=2, col=1)\n",
    "    # fig.add_trace(go.Scatter(name='Long', x=df_robot_actions_sim_id_PPO[df_robot_actions_sim_id_PPO['actions'] == 1]['dates'], y=df_robot_actions_sim_id_PPO[df_robot_actions_sim_id_PPO['actions'] == 1]['prices'], mode='markers', marker_symbol='circle', marker_size=10, marker_color='#228b22', legendgroup = '2'), row=2, col=1)\n",
    "    # fig.add_trace(go.Scatter(name='Short', x=df_robot_actions_sim_id_PPO[df_robot_actions_sim_id_PPO['actions'] == 0]['dates'], y=df_robot_actions_sim_id_PPO[df_robot_actions_sim_id_PPO['actions'] == 0]['prices'], mode='markers', marker_symbol='circle', marker_size=10, marker_color='#c83232', legendgroup = '2'), row=2, col=1)\n",
    "\n",
    "    fig.add_trace(go.Scatter(name='Price', x=df_robot_actions_sim_id_DQN[\"dates\"], y=df_robot_actions_sim_id_DQN[\"prices\"], mode='lines', marker_color='#969696', legendgroup = '3'), row=3, col=1)\n",
    "    fig.add_trace(go.Scatter(name='Long', x=df_robot_actions_sim_id_DQN[df_robot_actions_sim_id_DQN['actions'] == 1]['dates'], y=df_robot_actions_sim_id_DQN[df_robot_actions_sim_id_DQN['actions'] == 1]['prices'], mode='markers', marker_symbol='circle', marker_size=10, marker_color='#228b22', legendgroup = '3'), row=3, col=1)\n",
    "    fig.add_trace(go.Scatter(name='Short', x=df_robot_actions_sim_id_DQN[df_robot_actions_sim_id_DQN['actions'] == 0]['dates'], y=df_robot_actions_sim_id_DQN[df_robot_actions_sim_id_DQN['actions'] == 0]['prices'], mode='markers', marker_symbol='circle', marker_size=10, marker_color='#c83232', legendgroup = '3'), row=3, col=1)\n",
    "\n",
    "    # fig.add_trace(go.Scatter(name='Price', x=df_robot_actions_sim_id_RANDOM[\"dates\"], y=df_robot_actions_sim_id_RANDOM[\"prices\"], mode='lines', marker_color='#969696', legendgroup = '4'), row=4, col=1)\n",
    "    # fig.add_trace(go.Scatter(name='Long', x=df_robot_actions_sim_id_RANDOM[df_robot_actions_sim_id_RANDOM['actions'] == 1]['dates'], y=df_robot_actions_sim_id_RANDOM[df_robot_actions_sim_id_RANDOM['actions'] == 1]['prices'], mode='markers', marker_symbol='circle', marker_size=10, marker_color='#228b22', legendgroup = '4'), row=4, col=1)\n",
    "    # fig.add_trace(go.Scatter(name='Short', x=df_robot_actions_sim_id_RANDOM[df_robot_actions_sim_id_RANDOM['actions'] == 0]['dates'], y=df_robot_actions_sim_id_RANDOM[df_robot_actions_sim_id_RANDOM['actions'] == 0]['prices'], mode='markers', marker_symbol='circle', marker_size=10, marker_color='#c83232', legendgroup = '4'), row=4, col=1)\n",
    "\n",
    "    fig.update_xaxes(title_text = \"Dates\", title_standoff = 25)\n",
    "\n",
    "    fig.update_yaxes(title_text = \"\", title_standoff = 25)\n",
    "\n",
    "    fig.update_layout(title=str_title, title_x=0.5, width=1200, height=800, legend_tracegroupgap=125)\n",
    "    fig.show()"
   ]
  },
  {
   "cell_type": "code",
   "execution_count": 23,
   "metadata": {},
   "outputs": [
    {
     "data": {
      "application/vnd.plotly.v1+json": {
       "config": {
        "plotlyServerURL": "https://plot.ly"
       },
       "data": [
        {
         "legendgroup": "3",
         "marker": {
          "color": "#969696"
         },
         "mode": "lines",
         "name": "Price",
         "type": "scatter",
         "x": [
          "2022-12-27 00:00:00.000000",
          "2022-12-28 00:00:00.000000",
          "2022-12-29 00:00:00.000000",
          "2022-12-30 00:00:00.000000",
          "2022-12-31 00:00:00.000000",
          "2023-01-01 00:00:00.000000",
          "2023-01-02 00:00:00.000000",
          "2023-01-03 00:00:00.000000",
          "2023-01-04 00:00:00.000000",
          "2023-01-05 00:00:00.000000",
          "2023-01-06 00:00:00.000000",
          "2023-01-07 00:00:00.000000",
          "2023-01-08 00:00:00.000000",
          "2023-01-09 00:00:00.000000",
          "2023-01-10 00:00:00.000000",
          "2023-01-11 00:00:00.000000",
          "2023-01-12 00:00:00.000000",
          "2023-01-13 00:00:00.000000",
          "2023-01-14 00:00:00.000000",
          "2023-01-15 00:00:00.000000",
          "2023-01-16 00:00:00.000000",
          "2023-01-17 00:00:00.000000",
          "2023-01-18 00:00:00.000000",
          "2023-01-19 00:00:00.000000",
          "2023-01-20 00:00:00.000000",
          "2023-01-21 00:00:00.000000",
          "2023-01-22 00:00:00.000000",
          "2023-01-23 00:00:00.000000",
          "2023-01-24 00:00:00.000000",
          "2023-01-25 00:00:00.000000",
          "2023-01-26 00:00:00.000000",
          "2023-01-27 00:00:00.000000",
          "2023-01-28 00:00:00.000000",
          "2023-01-29 00:00:00.000000"
         ],
         "xaxis": "x3",
         "y": [
          16919.39,
          16706.36,
          16547.31,
          16633.47,
          16607.48,
          16542.4,
          16616.75,
          16672.87,
          16675.18,
          16850.36,
          16831.85,
          16950.65,
          16943.57,
          17127.83,
          17178.26,
          17440.66,
          17943.26,
          18846.62,
          19930.01,
          20954.92,
          20871.5,
          21185.65,
          21134.81,
          20677.47,
          21071.59,
          22667.21,
          22783.55,
          22707.88,
          22916.45,
          22632.89,
          23060.94,
          23009.65,
          23074.16,
          23022.6
         ],
         "yaxis": "y3"
        },
        {
         "legendgroup": "3",
         "marker": {
          "color": "#228b22",
          "size": 10,
          "symbol": "circle"
         },
         "mode": "markers",
         "name": "Long",
         "type": "scatter",
         "x": [
          "2023-01-07 00:00:00.000000",
          "2023-01-10 00:00:00.000000",
          "2023-01-11 00:00:00.000000",
          "2023-01-12 00:00:00.000000",
          "2023-01-15 00:00:00.000000",
          "2023-01-16 00:00:00.000000",
          "2023-01-17 00:00:00.000000",
          "2023-01-18 00:00:00.000000",
          "2023-01-19 00:00:00.000000",
          "2023-01-20 00:00:00.000000",
          "2023-01-21 00:00:00.000000",
          "2023-01-22 00:00:00.000000",
          "2023-01-23 00:00:00.000000",
          "2023-01-24 00:00:00.000000",
          "2023-01-25 00:00:00.000000",
          "2023-01-26 00:00:00.000000",
          "2023-01-27 00:00:00.000000",
          "2023-01-28 00:00:00.000000",
          "2023-01-29 00:00:00.000000"
         ],
         "xaxis": "x3",
         "y": [
          16950.65,
          17178.26,
          17440.66,
          17943.26,
          20954.92,
          20871.5,
          21185.65,
          21134.81,
          20677.47,
          21071.59,
          22667.21,
          22783.55,
          22707.88,
          22916.45,
          22632.89,
          23060.94,
          23009.65,
          23074.16,
          23022.6
         ],
         "yaxis": "y3"
        },
        {
         "legendgroup": "3",
         "marker": {
          "color": "#c83232",
          "size": 10,
          "symbol": "circle"
         },
         "mode": "markers",
         "name": "Short",
         "type": "scatter",
         "x": [
          "2023-01-02 00:00:00.000000",
          "2023-01-03 00:00:00.000000",
          "2023-01-04 00:00:00.000000",
          "2023-01-05 00:00:00.000000",
          "2023-01-06 00:00:00.000000",
          "2023-01-08 00:00:00.000000",
          "2023-01-09 00:00:00.000000",
          "2023-01-13 00:00:00.000000",
          "2023-01-14 00:00:00.000000"
         ],
         "xaxis": "x3",
         "y": [
          16616.75,
          16672.87,
          16675.18,
          16850.36,
          16831.85,
          16943.57,
          17127.83,
          18846.62,
          19930.01
         ],
         "yaxis": "y3"
        }
       ],
       "layout": {
        "annotations": [
         {
          "font": {
           "size": 16
          },
          "showarrow": false,
          "text": "sim_id: 1 | model_type: DQN | Total Profit percentage -4.63%",
          "x": 0.5,
          "xanchor": "center",
          "xref": "paper",
          "y": 0.4375,
          "yanchor": "bottom",
          "yref": "paper"
         }
        ],
        "height": 800,
        "legend": {
         "tracegroupgap": 125
        },
        "template": {
         "data": {
          "bar": [
           {
            "error_x": {
             "color": "#2a3f5f"
            },
            "error_y": {
             "color": "#2a3f5f"
            },
            "marker": {
             "line": {
              "color": "#E5ECF6",
              "width": 0.5
             },
             "pattern": {
              "fillmode": "overlay",
              "size": 10,
              "solidity": 0.2
             }
            },
            "type": "bar"
           }
          ],
          "barpolar": [
           {
            "marker": {
             "line": {
              "color": "#E5ECF6",
              "width": 0.5
             },
             "pattern": {
              "fillmode": "overlay",
              "size": 10,
              "solidity": 0.2
             }
            },
            "type": "barpolar"
           }
          ],
          "carpet": [
           {
            "aaxis": {
             "endlinecolor": "#2a3f5f",
             "gridcolor": "white",
             "linecolor": "white",
             "minorgridcolor": "white",
             "startlinecolor": "#2a3f5f"
            },
            "baxis": {
             "endlinecolor": "#2a3f5f",
             "gridcolor": "white",
             "linecolor": "white",
             "minorgridcolor": "white",
             "startlinecolor": "#2a3f5f"
            },
            "type": "carpet"
           }
          ],
          "choropleth": [
           {
            "colorbar": {
             "outlinewidth": 0,
             "ticks": ""
            },
            "type": "choropleth"
           }
          ],
          "contour": [
           {
            "colorbar": {
             "outlinewidth": 0,
             "ticks": ""
            },
            "colorscale": [
             [
              0,
              "#0d0887"
             ],
             [
              0.1111111111111111,
              "#46039f"
             ],
             [
              0.2222222222222222,
              "#7201a8"
             ],
             [
              0.3333333333333333,
              "#9c179e"
             ],
             [
              0.4444444444444444,
              "#bd3786"
             ],
             [
              0.5555555555555556,
              "#d8576b"
             ],
             [
              0.6666666666666666,
              "#ed7953"
             ],
             [
              0.7777777777777778,
              "#fb9f3a"
             ],
             [
              0.8888888888888888,
              "#fdca26"
             ],
             [
              1,
              "#f0f921"
             ]
            ],
            "type": "contour"
           }
          ],
          "contourcarpet": [
           {
            "colorbar": {
             "outlinewidth": 0,
             "ticks": ""
            },
            "type": "contourcarpet"
           }
          ],
          "heatmap": [
           {
            "colorbar": {
             "outlinewidth": 0,
             "ticks": ""
            },
            "colorscale": [
             [
              0,
              "#0d0887"
             ],
             [
              0.1111111111111111,
              "#46039f"
             ],
             [
              0.2222222222222222,
              "#7201a8"
             ],
             [
              0.3333333333333333,
              "#9c179e"
             ],
             [
              0.4444444444444444,
              "#bd3786"
             ],
             [
              0.5555555555555556,
              "#d8576b"
             ],
             [
              0.6666666666666666,
              "#ed7953"
             ],
             [
              0.7777777777777778,
              "#fb9f3a"
             ],
             [
              0.8888888888888888,
              "#fdca26"
             ],
             [
              1,
              "#f0f921"
             ]
            ],
            "type": "heatmap"
           }
          ],
          "heatmapgl": [
           {
            "colorbar": {
             "outlinewidth": 0,
             "ticks": ""
            },
            "colorscale": [
             [
              0,
              "#0d0887"
             ],
             [
              0.1111111111111111,
              "#46039f"
             ],
             [
              0.2222222222222222,
              "#7201a8"
             ],
             [
              0.3333333333333333,
              "#9c179e"
             ],
             [
              0.4444444444444444,
              "#bd3786"
             ],
             [
              0.5555555555555556,
              "#d8576b"
             ],
             [
              0.6666666666666666,
              "#ed7953"
             ],
             [
              0.7777777777777778,
              "#fb9f3a"
             ],
             [
              0.8888888888888888,
              "#fdca26"
             ],
             [
              1,
              "#f0f921"
             ]
            ],
            "type": "heatmapgl"
           }
          ],
          "histogram": [
           {
            "marker": {
             "pattern": {
              "fillmode": "overlay",
              "size": 10,
              "solidity": 0.2
             }
            },
            "type": "histogram"
           }
          ],
          "histogram2d": [
           {
            "colorbar": {
             "outlinewidth": 0,
             "ticks": ""
            },
            "colorscale": [
             [
              0,
              "#0d0887"
             ],
             [
              0.1111111111111111,
              "#46039f"
             ],
             [
              0.2222222222222222,
              "#7201a8"
             ],
             [
              0.3333333333333333,
              "#9c179e"
             ],
             [
              0.4444444444444444,
              "#bd3786"
             ],
             [
              0.5555555555555556,
              "#d8576b"
             ],
             [
              0.6666666666666666,
              "#ed7953"
             ],
             [
              0.7777777777777778,
              "#fb9f3a"
             ],
             [
              0.8888888888888888,
              "#fdca26"
             ],
             [
              1,
              "#f0f921"
             ]
            ],
            "type": "histogram2d"
           }
          ],
          "histogram2dcontour": [
           {
            "colorbar": {
             "outlinewidth": 0,
             "ticks": ""
            },
            "colorscale": [
             [
              0,
              "#0d0887"
             ],
             [
              0.1111111111111111,
              "#46039f"
             ],
             [
              0.2222222222222222,
              "#7201a8"
             ],
             [
              0.3333333333333333,
              "#9c179e"
             ],
             [
              0.4444444444444444,
              "#bd3786"
             ],
             [
              0.5555555555555556,
              "#d8576b"
             ],
             [
              0.6666666666666666,
              "#ed7953"
             ],
             [
              0.7777777777777778,
              "#fb9f3a"
             ],
             [
              0.8888888888888888,
              "#fdca26"
             ],
             [
              1,
              "#f0f921"
             ]
            ],
            "type": "histogram2dcontour"
           }
          ],
          "mesh3d": [
           {
            "colorbar": {
             "outlinewidth": 0,
             "ticks": ""
            },
            "type": "mesh3d"
           }
          ],
          "parcoords": [
           {
            "line": {
             "colorbar": {
              "outlinewidth": 0,
              "ticks": ""
             }
            },
            "type": "parcoords"
           }
          ],
          "pie": [
           {
            "automargin": true,
            "type": "pie"
           }
          ],
          "scatter": [
           {
            "fillpattern": {
             "fillmode": "overlay",
             "size": 10,
             "solidity": 0.2
            },
            "type": "scatter"
           }
          ],
          "scatter3d": [
           {
            "line": {
             "colorbar": {
              "outlinewidth": 0,
              "ticks": ""
             }
            },
            "marker": {
             "colorbar": {
              "outlinewidth": 0,
              "ticks": ""
             }
            },
            "type": "scatter3d"
           }
          ],
          "scattercarpet": [
           {
            "marker": {
             "colorbar": {
              "outlinewidth": 0,
              "ticks": ""
             }
            },
            "type": "scattercarpet"
           }
          ],
          "scattergeo": [
           {
            "marker": {
             "colorbar": {
              "outlinewidth": 0,
              "ticks": ""
             }
            },
            "type": "scattergeo"
           }
          ],
          "scattergl": [
           {
            "marker": {
             "colorbar": {
              "outlinewidth": 0,
              "ticks": ""
             }
            },
            "type": "scattergl"
           }
          ],
          "scattermapbox": [
           {
            "marker": {
             "colorbar": {
              "outlinewidth": 0,
              "ticks": ""
             }
            },
            "type": "scattermapbox"
           }
          ],
          "scatterpolar": [
           {
            "marker": {
             "colorbar": {
              "outlinewidth": 0,
              "ticks": ""
             }
            },
            "type": "scatterpolar"
           }
          ],
          "scatterpolargl": [
           {
            "marker": {
             "colorbar": {
              "outlinewidth": 0,
              "ticks": ""
             }
            },
            "type": "scatterpolargl"
           }
          ],
          "scatterternary": [
           {
            "marker": {
             "colorbar": {
              "outlinewidth": 0,
              "ticks": ""
             }
            },
            "type": "scatterternary"
           }
          ],
          "surface": [
           {
            "colorbar": {
             "outlinewidth": 0,
             "ticks": ""
            },
            "colorscale": [
             [
              0,
              "#0d0887"
             ],
             [
              0.1111111111111111,
              "#46039f"
             ],
             [
              0.2222222222222222,
              "#7201a8"
             ],
             [
              0.3333333333333333,
              "#9c179e"
             ],
             [
              0.4444444444444444,
              "#bd3786"
             ],
             [
              0.5555555555555556,
              "#d8576b"
             ],
             [
              0.6666666666666666,
              "#ed7953"
             ],
             [
              0.7777777777777778,
              "#fb9f3a"
             ],
             [
              0.8888888888888888,
              "#fdca26"
             ],
             [
              1,
              "#f0f921"
             ]
            ],
            "type": "surface"
           }
          ],
          "table": [
           {
            "cells": {
             "fill": {
              "color": "#EBF0F8"
             },
             "line": {
              "color": "white"
             }
            },
            "header": {
             "fill": {
              "color": "#C8D4E3"
             },
             "line": {
              "color": "white"
             }
            },
            "type": "table"
           }
          ]
         },
         "layout": {
          "annotationdefaults": {
           "arrowcolor": "#2a3f5f",
           "arrowhead": 0,
           "arrowwidth": 1
          },
          "autotypenumbers": "strict",
          "coloraxis": {
           "colorbar": {
            "outlinewidth": 0,
            "ticks": ""
           }
          },
          "colorscale": {
           "diverging": [
            [
             0,
             "#8e0152"
            ],
            [
             0.1,
             "#c51b7d"
            ],
            [
             0.2,
             "#de77ae"
            ],
            [
             0.3,
             "#f1b6da"
            ],
            [
             0.4,
             "#fde0ef"
            ],
            [
             0.5,
             "#f7f7f7"
            ],
            [
             0.6,
             "#e6f5d0"
            ],
            [
             0.7,
             "#b8e186"
            ],
            [
             0.8,
             "#7fbc41"
            ],
            [
             0.9,
             "#4d9221"
            ],
            [
             1,
             "#276419"
            ]
           ],
           "sequential": [
            [
             0,
             "#0d0887"
            ],
            [
             0.1111111111111111,
             "#46039f"
            ],
            [
             0.2222222222222222,
             "#7201a8"
            ],
            [
             0.3333333333333333,
             "#9c179e"
            ],
            [
             0.4444444444444444,
             "#bd3786"
            ],
            [
             0.5555555555555556,
             "#d8576b"
            ],
            [
             0.6666666666666666,
             "#ed7953"
            ],
            [
             0.7777777777777778,
             "#fb9f3a"
            ],
            [
             0.8888888888888888,
             "#fdca26"
            ],
            [
             1,
             "#f0f921"
            ]
           ],
           "sequentialminus": [
            [
             0,
             "#0d0887"
            ],
            [
             0.1111111111111111,
             "#46039f"
            ],
            [
             0.2222222222222222,
             "#7201a8"
            ],
            [
             0.3333333333333333,
             "#9c179e"
            ],
            [
             0.4444444444444444,
             "#bd3786"
            ],
            [
             0.5555555555555556,
             "#d8576b"
            ],
            [
             0.6666666666666666,
             "#ed7953"
            ],
            [
             0.7777777777777778,
             "#fb9f3a"
            ],
            [
             0.8888888888888888,
             "#fdca26"
            ],
            [
             1,
             "#f0f921"
            ]
           ]
          },
          "colorway": [
           "#636efa",
           "#EF553B",
           "#00cc96",
           "#ab63fa",
           "#FFA15A",
           "#19d3f3",
           "#FF6692",
           "#B6E880",
           "#FF97FF",
           "#FECB52"
          ],
          "font": {
           "color": "#2a3f5f"
          },
          "geo": {
           "bgcolor": "white",
           "lakecolor": "white",
           "landcolor": "#E5ECF6",
           "showlakes": true,
           "showland": true,
           "subunitcolor": "white"
          },
          "hoverlabel": {
           "align": "left"
          },
          "hovermode": "closest",
          "mapbox": {
           "style": "light"
          },
          "paper_bgcolor": "white",
          "plot_bgcolor": "#E5ECF6",
          "polar": {
           "angularaxis": {
            "gridcolor": "white",
            "linecolor": "white",
            "ticks": ""
           },
           "bgcolor": "#E5ECF6",
           "radialaxis": {
            "gridcolor": "white",
            "linecolor": "white",
            "ticks": ""
           }
          },
          "scene": {
           "xaxis": {
            "backgroundcolor": "#E5ECF6",
            "gridcolor": "white",
            "gridwidth": 2,
            "linecolor": "white",
            "showbackground": true,
            "ticks": "",
            "zerolinecolor": "white"
           },
           "yaxis": {
            "backgroundcolor": "#E5ECF6",
            "gridcolor": "white",
            "gridwidth": 2,
            "linecolor": "white",
            "showbackground": true,
            "ticks": "",
            "zerolinecolor": "white"
           },
           "zaxis": {
            "backgroundcolor": "#E5ECF6",
            "gridcolor": "white",
            "gridwidth": 2,
            "linecolor": "white",
            "showbackground": true,
            "ticks": "",
            "zerolinecolor": "white"
           }
          },
          "shapedefaults": {
           "line": {
            "color": "#2a3f5f"
           }
          },
          "ternary": {
           "aaxis": {
            "gridcolor": "white",
            "linecolor": "white",
            "ticks": ""
           },
           "baxis": {
            "gridcolor": "white",
            "linecolor": "white",
            "ticks": ""
           },
           "bgcolor": "#E5ECF6",
           "caxis": {
            "gridcolor": "white",
            "linecolor": "white",
            "ticks": ""
           }
          },
          "title": {
           "x": 0.05
          },
          "xaxis": {
           "automargin": true,
           "gridcolor": "white",
           "linecolor": "white",
           "ticks": "",
           "title": {
            "standoff": 15
           },
           "zerolinecolor": "white",
           "zerolinewidth": 2
          },
          "yaxis": {
           "automargin": true,
           "gridcolor": "white",
           "linecolor": "white",
           "ticks": "",
           "title": {
            "standoff": 15
           },
           "zerolinecolor": "white",
           "zerolinewidth": 2
          }
         }
        },
        "title": {
         "text": "The median profit percentage results per model",
         "x": 0.5
        },
        "width": 1200,
        "xaxis": {
         "anchor": "y",
         "domain": [
          0,
          1
         ],
         "matches": "x4",
         "showticklabels": false,
         "title": {
          "standoff": 25,
          "text": "Dates"
         }
        },
        "xaxis2": {
         "anchor": "y2",
         "domain": [
          0,
          1
         ],
         "matches": "x4",
         "showticklabels": false,
         "title": {
          "standoff": 25,
          "text": "Dates"
         }
        },
        "xaxis3": {
         "anchor": "y3",
         "domain": [
          0,
          1
         ],
         "matches": "x4",
         "showticklabels": false,
         "title": {
          "standoff": 25,
          "text": "Dates"
         }
        },
        "xaxis4": {
         "anchor": "y4",
         "domain": [
          0,
          1
         ],
         "title": {
          "standoff": 25,
          "text": "Dates"
         }
        },
        "yaxis": {
         "anchor": "x",
         "domain": [
          0.84375,
          1
         ],
         "matches": "y4",
         "title": {
          "standoff": 25,
          "text": ""
         }
        },
        "yaxis2": {
         "anchor": "x2",
         "domain": [
          0.5625,
          0.71875
         ],
         "matches": "y4",
         "title": {
          "standoff": 25,
          "text": ""
         }
        },
        "yaxis3": {
         "anchor": "x3",
         "domain": [
          0.28125,
          0.4375
         ],
         "matches": "y4",
         "title": {
          "standoff": 25,
          "text": ""
         }
        },
        "yaxis4": {
         "anchor": "x4",
         "domain": [
          0,
          0.15625
         ],
         "title": {
          "standoff": 25,
          "text": ""
         }
        }
       }
      }
     },
     "metadata": {},
     "output_type": "display_data"
    }
   ],
   "source": [
    "plot_robot_actions_all_models(config_file_name_without_extension, \"\", \"\", median_sim_id_DQN, \"\")"
   ]
  },
  {
   "cell_type": "code",
   "execution_count": 37,
   "metadata": {},
   "outputs": [],
   "source": [
    "def get_and_process_trader_robot_actions_and_env_data_all_sim_id(config_file_name_without_extension):\n",
    "    try:\n",
    "        \n",
    "        # Get the data\n",
    "        db_address = 'sqlite:///../results/data/db/trader.db'\n",
    "        engine = create_engine(db_address, echo=False)\n",
    "        sqlite_connection = engine.connect()\n",
    "\n",
    "        input_tbl_name = \"tbl_trader_bernardo_robot_actions_and_env\" + \"_\" + config_file_name_without_extension\n",
    "        \n",
    "        sql_command = \"SELECT * FROM \" + input_tbl_name + \" AS t1 \"\n",
    "        \n",
    "        sql_append = \"LEFT JOIN (SELECT sim_id, model_type FROM tbl_trader_bernardo_simulation_results_config_03a_mix_infer) AS t2 ON t1.sim_id = t2.sim_id\"\n",
    "        \n",
    "        sql_command = sql_command + sql_append\n",
    "\n",
    "        df = pd.read_sql(sql_command, sqlite_connection)\n",
    "\n",
    "        sqlite_connection.close()\n",
    "\n",
    "        return df\n",
    "\n",
    "    except Exception as e:\n",
    "        print(e)"
   ]
  },
  {
   "cell_type": "code",
   "execution_count": 38,
   "metadata": {},
   "outputs": [],
   "source": [
    "def plot_trader_robot_actions_all_sim_id_all_models(config_file_name_without_extension, sim_id_A2C, sim_id_PPO, sim_id_DQN, sim_id_RANDOM):\n",
    "    \n",
    "    df_robot_actions_and_env_all_sim_id = get_and_process_trader_robot_actions_and_env_data_all_sim_id(config_file_name_without_extension)\n",
    "\n",
    "    # df_robot_actions_and_env_all_sim_id_A2C = df_robot_actions_and_env_all_sim_id[df_robot_actions_and_env_all_sim_id['model_type'] == 'A2C']\n",
    "    # df_robot_actions_and_env_all_sim_id_PPO = df_robot_actions_and_env_all_sim_id[df_robot_actions_and_env_all_sim_id['model_type'] == 'PPO']\n",
    "    df_robot_actions_and_env_all_sim_id_DQN = df_robot_actions_and_env_all_sim_id[df_robot_actions_and_env_all_sim_id['model_type'] == 'DQN']\n",
    "    # df_robot_actions_and_env_all_sim_id_RANDOM = df_robot_actions_and_env_all_sim_id[df_robot_actions_and_env_all_sim_id['model_type'] == 'RANDOM']    \n",
    "\n",
    "    # df_model_type_action_count_A2C = df_robot_actions_and_env_all_sim_id_A2C.assign(val=1).pivot_table(values='val', index=['dates'], columns=['model_type', 'actions'], aggfunc='count').stack(0).reset_index()\n",
    "    # df_model_type_action_count_A2C.rename(columns = {0.0:'action_short_count', 1.0:'action_long_count'}, inplace = True)\n",
    "\n",
    "    # df_model_type_action_count_PPO = df_robot_actions_and_env_all_sim_id_PPO.assign(val=1).pivot_table(values='val', index=['dates'], columns=['model_type', 'actions'], aggfunc='count').stack(0).reset_index()\n",
    "    # df_model_type_action_count_PPO.rename(columns = {0.0:'action_short_count', 1.0:'action_long_count'}, inplace = True)\n",
    "\n",
    "    df_model_type_action_count_DQN = df_robot_actions_and_env_all_sim_id_DQN.assign(val=1).pivot_table(values='val', index=['dates'], columns=['model_type', 'actions'], aggfunc='count').stack(0).reset_index()\n",
    "    df_model_type_action_count_DQN.rename(columns = {0.0:'action_short_count', 1.0:'action_long_count'}, inplace = True)\n",
    "\n",
    "    # df_model_type_action_count_RANDOM = df_robot_actions_and_env_all_sim_id_RANDOM.assign(val=1).pivot_table(values='val', index=['dates'], columns=['model_type', 'actions'], aggfunc='count').stack(0).reset_index()\n",
    "    # df_model_type_action_count_RANDOM.rename(columns = {0.0:'action_short_count', 1.0:'action_long_count'}, inplace = True)        \n",
    "\n",
    "    # df_robot_actions_sim_id_A2C = get_and_process_trader_robot_actions_and_env_data_one_sim_id(config_file_name_without_extension, sim_id_A2C)\n",
    "    # df_robot_actions_sim_id_PPO = get_and_process_trader_robot_actions_and_env_data_one_sim_id(config_file_name_without_extension, sim_id_PPO)\n",
    "    df_robot_actions_sim_id_DQN = get_and_process_trader_robot_actions_and_env_data_one_sim_id(config_file_name_without_extension, sim_id_DQN)\n",
    "    # df_robot_actions_sim_id_RANDOM = get_and_process_trader_robot_actions_and_env_data_one_sim_id(config_file_name_without_extension, sim_id_RANDOM)\n",
    "\n",
    "    # df_simulation_sim_id_A2C = df_trader_results[df_trader_results['sim_id'] == sim_id_A2C]\n",
    "    # df_simulation_sim_id_PPO = df_trader_results[df_trader_results['sim_id'] == sim_id_PPO]\n",
    "    df_simulation_sim_id_DQN = df_trader_results[df_trader_results['sim_id'] == sim_id_DQN]\n",
    "    # df_simulation_sim_id_RANDOM = df_trader_results[df_trader_results['sim_id'] == sim_id_RANDOM]\n",
    "\n",
    "    # str_title_A2C = f\"Median sim_id: {sim_id_A2C} | model_type: {df_simulation_sim_id_A2C.model_type.values[0]} | Total Profit percentage {round(df_simulation_sim_id_A2C.fmt_total_profit_percentage.values[0],2)}%\"\n",
    "    # str_title_PPO = f\"Median sim_id: {sim_id_PPO} | model_type: {df_simulation_sim_id_PPO.model_type.values[0]} | Total Profit percentage {round(df_simulation_sim_id_PPO.fmt_total_profit_percentage.values[0],2)}%\"\n",
    "    str_title_DQN = f\"Median sim_id: {sim_id_DQN} | model_type: {df_simulation_sim_id_DQN.model_type.values[0]} | Total Profit percentage {round(df_simulation_sim_id_DQN.fmt_total_profit_percentage.values[0],2)}%\"\n",
    "    # str_title_RANDOM = f\"Median sim_id: {sim_id_RANDOM} | model_type: {df_simulation_sim_id_RANDOM.model_type.values[0]} | Total Profit percentage {round(df_simulation_sim_id_RANDOM.fmt_total_profit_percentage.values[0],2)}%\"\n",
    "\n",
    "    str_title = f\"Median Total Profit Results x Overall view of actions (across all the simulations)\"\n",
    "\n",
    "    fig = make_subplots(rows=4, cols=1, subplot_titles=(\"\", \"\", str_title_DQN, \"\"), shared_xaxes='all', shared_yaxes='all', specs=[[{\"secondary_y\": True}], [{\"secondary_y\": True}], [{\"secondary_y\": True}], [{\"secondary_y\": True}]]) \n",
    "\n",
    "    # fig.add_trace(go.Scatter(name='Price', x=df_robot_actions_sim_id_A2C[\"dates\"], y=df_robot_actions_sim_id_A2C[\"prices\"], mode='lines', marker_color='#969696', legendgroup = '1'), row=1, col=1, secondary_y=True)\n",
    "    # fig.add_trace(go.Scatter(name='Long', x=df_robot_actions_sim_id_A2C[df_robot_actions_sim_id_A2C['actions'] == 1]['dates'], y=df_robot_actions_sim_id_A2C[df_robot_actions_sim_id_A2C['actions'] == 1]['prices'], mode='markers', marker_symbol='circle', marker_size=10, marker_color='#228b22', legendgroup = '1'), row=1, col=1, secondary_y=True)\n",
    "    # fig.add_trace(go.Scatter(name='Short', x=df_robot_actions_sim_id_A2C[df_robot_actions_sim_id_A2C['actions'] == 0]['dates'], y=df_robot_actions_sim_id_A2C[df_robot_actions_sim_id_A2C['actions'] == 0]['prices'], mode='markers', marker_symbol='circle', marker_size=10, marker_color='#c83232', legendgroup = '1'), row=1, col=1, secondary_y=True)\n",
    "\n",
    "    # fig.add_trace(go.Bar(x=df_model_type_action_count_A2C['dates'], y=df_model_type_action_count_A2C['action_long_count'], name='Long', marker_color=' #b3ffb3', legendgroup = '1'), row=1, col=1, secondary_y=False)\n",
    "    # fig.add_trace(go.Bar(x=df_model_type_action_count_A2C['dates'], y=df_model_type_action_count_A2C['action_short_count'], name='Short', marker_color='#ffb2b2', legendgroup = '1'), row=1, col=1, secondary_y=False)\n",
    "\n",
    "    # fig.add_trace(go.Scatter(name='Price', x=df_robot_actions_sim_id_PPO[\"dates\"], y=df_robot_actions_sim_id_PPO[\"prices\"], mode='lines', marker_color='#969696', legendgroup = '2'), row=2, col=1, secondary_y=True)\n",
    "    # fig.add_trace(go.Scatter(name='Long', x=df_robot_actions_sim_id_PPO[df_robot_actions_sim_id_PPO['actions'] == 1]['dates'], y=df_robot_actions_sim_id_PPO[df_robot_actions_sim_id_PPO['actions'] == 1]['prices'], mode='markers', marker_symbol='circle', marker_size=10, marker_color='#228b22', legendgroup = '2'), row=2, col=1, secondary_y=True)\n",
    "    # fig.add_trace(go.Scatter(name='Short', x=df_robot_actions_sim_id_PPO[df_robot_actions_sim_id_PPO['actions'] == 0]['dates'], y=df_robot_actions_sim_id_PPO[df_robot_actions_sim_id_PPO['actions'] == 0]['prices'], mode='markers', marker_symbol='circle', marker_size=10, marker_color='#c83232', legendgroup = '2'), row=2, col=1, secondary_y=True)\n",
    "\n",
    "    # fig.add_trace(go.Bar(x=df_model_type_action_count_PPO['dates'], y=df_model_type_action_count_PPO['action_long_count'], name='Long', marker_color=' #b3ffb3', legendgroup = '2'), row=2, col=1, secondary_y=False)\n",
    "    # fig.add_trace(go.Bar(x=df_model_type_action_count_PPO['dates'], y=df_model_type_action_count_PPO['action_short_count'], name='Short', marker_color='#ffb2b2', legendgroup = '2'), row=2, col=1, secondary_y=False)\n",
    "\n",
    "    fig.add_trace(go.Scatter(name='Price', x=df_robot_actions_sim_id_DQN[\"dates\"], y=df_robot_actions_sim_id_DQN[\"prices\"], mode='lines', marker_color='#969696', legendgroup = '3'), row=3, col=1, secondary_y=True)\n",
    "    fig.add_trace(go.Scatter(name='Long', x=df_robot_actions_sim_id_DQN[df_robot_actions_sim_id_DQN['actions'] == 1]['dates'], y=df_robot_actions_sim_id_DQN[df_robot_actions_sim_id_DQN['actions'] == 1]['prices'], mode='markers', marker_symbol='circle', marker_size=10, marker_color='#228b22', legendgroup = '3'), row=3, col=1, secondary_y=True)\n",
    "    fig.add_trace(go.Scatter(name='Short', x=df_robot_actions_sim_id_DQN[df_robot_actions_sim_id_DQN['actions'] == 0]['dates'], y=df_robot_actions_sim_id_DQN[df_robot_actions_sim_id_DQN['actions'] == 0]['prices'], mode='markers', marker_symbol='circle', marker_size=10, marker_color='#c83232', legendgroup = '3'), row=3, col=1, secondary_y=True)\n",
    "\n",
    "    fig.add_trace(go.Bar(x=df_model_type_action_count_DQN['dates'], y=df_model_type_action_count_DQN['action_long_count'], name='Long', marker_color=' #b3ffb3', legendgroup = '3'), row=3, col=1, secondary_y=False)\n",
    "    fig.add_trace(go.Bar(x=df_model_type_action_count_DQN['dates'], y=df_model_type_action_count_DQN['action_short_count'], name='Short', marker_color='#ffb2b2', legendgroup = '3'), row=3, col=1, secondary_y=False)\n",
    "\n",
    "    # fig.add_trace(go.Scatter(name='Price', x=df_robot_actions_sim_id_RANDOM[\"dates\"], y=df_robot_actions_sim_id_RANDOM[\"prices\"], mode='lines', marker_color='#969696', legendgroup = '4'), row=4, col=1, secondary_y=True)\n",
    "    # fig.add_trace(go.Scatter(name='Long', x=df_robot_actions_sim_id_RANDOM[df_robot_actions_sim_id_RANDOM['actions'] == 1]['dates'], y=df_robot_actions_sim_id_RANDOM[df_robot_actions_sim_id_RANDOM['actions'] == 1]['prices'], mode='markers', marker_symbol='circle', marker_size=10, marker_color='#228b22', legendgroup = '4'), row=4, col=1, secondary_y=True)\n",
    "    # fig.add_trace(go.Scatter(name='Short', x=df_robot_actions_sim_id_RANDOM[df_robot_actions_sim_id_RANDOM['actions'] == 0]['dates'], y=df_robot_actions_sim_id_RANDOM[df_robot_actions_sim_id_RANDOM['actions'] == 0]['prices'], mode='markers', marker_symbol='circle', marker_size=10, marker_color='#c83232', legendgroup = '4'), row=4, col=1, secondary_y=True)\n",
    "\n",
    "    # fig.add_trace(go.Bar(x=df_model_type_action_count_RANDOM['dates'], y=df_model_type_action_count_RANDOM['action_long_count'], name='Long', marker_color=' #b3ffb3', legendgroup = '4'), row=4, col=1, secondary_y=False)\n",
    "    # fig.add_trace(go.Bar(x=df_model_type_action_count_RANDOM['dates'], y=df_model_type_action_count_RANDOM['action_short_count'], name='Short', marker_color='#ffb2b2', legendgroup = '4'), row=4, col=1, secondary_y=False)\n",
    "\n",
    "    fig.update_yaxes(title_text=\"Proportion of trades<br>across all the simulations\", secondary_y=False)\n",
    "    fig.update_yaxes(title_text=f\"CCY level with the<br>sim_id actions related\", secondary_y=True)\n",
    "\n",
    "    fig.update_layout(barmode='stack', xaxis={'categoryorder':'category ascending'}, title=str_title, title_x=0.5, width=1200, height=800, legend_tracegroupgap=82, font={'size': 8})\n",
    "\n",
    "    fig.show()    "
   ]
  },
  {
   "cell_type": "code",
   "execution_count": 39,
   "metadata": {},
   "outputs": [
    {
     "data": {
      "application/vnd.plotly.v1+json": {
       "config": {
        "plotlyServerURL": "https://plot.ly"
       },
       "data": [
        {
         "legendgroup": "3",
         "marker": {
          "color": "#969696"
         },
         "mode": "lines",
         "name": "Price",
         "type": "scatter",
         "x": [
          "2022-12-27 00:00:00.000000",
          "2022-12-28 00:00:00.000000",
          "2022-12-29 00:00:00.000000",
          "2022-12-30 00:00:00.000000",
          "2022-12-31 00:00:00.000000",
          "2023-01-01 00:00:00.000000",
          "2023-01-02 00:00:00.000000",
          "2023-01-03 00:00:00.000000",
          "2023-01-04 00:00:00.000000",
          "2023-01-05 00:00:00.000000",
          "2023-01-06 00:00:00.000000",
          "2023-01-07 00:00:00.000000",
          "2023-01-08 00:00:00.000000",
          "2023-01-09 00:00:00.000000",
          "2023-01-10 00:00:00.000000",
          "2023-01-11 00:00:00.000000",
          "2023-01-12 00:00:00.000000",
          "2023-01-13 00:00:00.000000",
          "2023-01-14 00:00:00.000000",
          "2023-01-15 00:00:00.000000",
          "2023-01-16 00:00:00.000000",
          "2023-01-17 00:00:00.000000",
          "2023-01-18 00:00:00.000000",
          "2023-01-19 00:00:00.000000",
          "2023-01-20 00:00:00.000000",
          "2023-01-21 00:00:00.000000",
          "2023-01-22 00:00:00.000000",
          "2023-01-23 00:00:00.000000",
          "2023-01-24 00:00:00.000000",
          "2023-01-25 00:00:00.000000",
          "2023-01-26 00:00:00.000000"
         ],
         "xaxis": "x3",
         "y": [
          16919.39,
          16706.36,
          16547.31,
          16633.47,
          16607.48,
          16542.4,
          16616.75,
          16672.87,
          16675.18,
          16850.36,
          16831.85,
          16950.65,
          16943.57,
          17127.83,
          17178.26,
          17440.66,
          17943.26,
          18846.62,
          19930.01,
          20954.92,
          20871.5,
          21185.65,
          21134.81,
          20677.47,
          21071.59,
          22667.21,
          22783.55,
          22707.88,
          22916.45,
          22632.89,
          23060.94
         ],
         "yaxis": "y6"
        },
        {
         "legendgroup": "3",
         "marker": {
          "color": "#228b22",
          "size": 10,
          "symbol": "circle"
         },
         "mode": "markers",
         "name": "Long",
         "type": "scatter",
         "x": [
          "2023-01-07 00:00:00.000000",
          "2023-01-10 00:00:00.000000",
          "2023-01-11 00:00:00.000000",
          "2023-01-12 00:00:00.000000",
          "2023-01-15 00:00:00.000000",
          "2023-01-16 00:00:00.000000",
          "2023-01-17 00:00:00.000000",
          "2023-01-18 00:00:00.000000",
          "2023-01-19 00:00:00.000000",
          "2023-01-20 00:00:00.000000",
          "2023-01-21 00:00:00.000000",
          "2023-01-22 00:00:00.000000",
          "2023-01-23 00:00:00.000000",
          "2023-01-24 00:00:00.000000",
          "2023-01-25 00:00:00.000000",
          "2023-01-26 00:00:00.000000"
         ],
         "xaxis": "x3",
         "y": [
          16950.65,
          17178.26,
          17440.66,
          17943.26,
          20954.92,
          20871.5,
          21185.65,
          21134.81,
          20677.47,
          21071.59,
          22667.21,
          22783.55,
          22707.88,
          22916.45,
          22632.89,
          23060.94
         ],
         "yaxis": "y6"
        },
        {
         "legendgroup": "3",
         "marker": {
          "color": "#c83232",
          "size": 10,
          "symbol": "circle"
         },
         "mode": "markers",
         "name": "Short",
         "type": "scatter",
         "x": [
          "2023-01-02 00:00:00.000000",
          "2023-01-03 00:00:00.000000",
          "2023-01-04 00:00:00.000000",
          "2023-01-05 00:00:00.000000",
          "2023-01-06 00:00:00.000000",
          "2023-01-08 00:00:00.000000",
          "2023-01-09 00:00:00.000000",
          "2023-01-13 00:00:00.000000",
          "2023-01-14 00:00:00.000000"
         ],
         "xaxis": "x3",
         "y": [
          16616.75,
          16672.87,
          16675.18,
          16850.36,
          16831.85,
          16943.57,
          17127.83,
          18846.62,
          19930.01
         ],
         "yaxis": "y6"
        },
        {
         "legendgroup": "3",
         "marker": {
          "color": " #b3ffb3"
         },
         "name": "Long",
         "type": "bar",
         "x": [
          "2023-01-02 00:00:00.000000",
          "2023-01-03 00:00:00.000000",
          "2023-01-04 00:00:00.000000",
          "2023-01-05 00:00:00.000000",
          "2023-01-06 00:00:00.000000",
          "2023-01-07 00:00:00.000000",
          "2023-01-08 00:00:00.000000",
          "2023-01-09 00:00:00.000000",
          "2023-01-10 00:00:00.000000",
          "2023-01-11 00:00:00.000000",
          "2023-01-12 00:00:00.000000",
          "2023-01-13 00:00:00.000000",
          "2023-01-14 00:00:00.000000",
          "2023-01-15 00:00:00.000000",
          "2023-01-16 00:00:00.000000",
          "2023-01-17 00:00:00.000000",
          "2023-01-18 00:00:00.000000",
          "2023-01-19 00:00:00.000000",
          "2023-01-20 00:00:00.000000",
          "2023-01-21 00:00:00.000000",
          "2023-01-22 00:00:00.000000",
          "2023-01-23 00:00:00.000000",
          "2023-01-24 00:00:00.000000",
          "2023-01-25 00:00:00.000000",
          "2023-01-26 00:00:00.000000"
         ],
         "xaxis": "x3",
         "y": [
          26,
          22,
          15,
          21,
          32,
          977,
          20,
          28,
          980,
          978,
          979,
          28,
          30,
          973,
          973,
          979,
          975,
          980,
          981,
          976,
          974,
          973,
          978,
          968,
          971
         ],
         "yaxis": "y5"
        },
        {
         "legendgroup": "3",
         "marker": {
          "color": "#ffb2b2"
         },
         "name": "Short",
         "type": "bar",
         "x": [
          "2023-01-02 00:00:00.000000",
          "2023-01-03 00:00:00.000000",
          "2023-01-04 00:00:00.000000",
          "2023-01-05 00:00:00.000000",
          "2023-01-06 00:00:00.000000",
          "2023-01-07 00:00:00.000000",
          "2023-01-08 00:00:00.000000",
          "2023-01-09 00:00:00.000000",
          "2023-01-10 00:00:00.000000",
          "2023-01-11 00:00:00.000000",
          "2023-01-12 00:00:00.000000",
          "2023-01-13 00:00:00.000000",
          "2023-01-14 00:00:00.000000",
          "2023-01-15 00:00:00.000000",
          "2023-01-16 00:00:00.000000",
          "2023-01-17 00:00:00.000000",
          "2023-01-18 00:00:00.000000",
          "2023-01-19 00:00:00.000000",
          "2023-01-20 00:00:00.000000",
          "2023-01-21 00:00:00.000000",
          "2023-01-22 00:00:00.000000",
          "2023-01-23 00:00:00.000000",
          "2023-01-24 00:00:00.000000",
          "2023-01-25 00:00:00.000000",
          "2023-01-26 00:00:00.000000"
         ],
         "xaxis": "x3",
         "y": [
          974,
          978,
          985,
          979,
          968,
          23,
          980,
          972,
          20,
          22,
          21,
          972,
          970,
          27,
          27,
          21,
          25,
          20,
          19,
          24,
          26,
          27,
          22,
          32,
          29
         ],
         "yaxis": "y5"
        }
       ],
       "layout": {
        "annotations": [
         {
          "font": {
           "size": 16
          },
          "showarrow": false,
          "text": "Median sim_id: 6 | model_type: DQN | Total Profit percentage -4.63%",
          "x": 0.47,
          "xanchor": "center",
          "xref": "paper",
          "y": 0.4375,
          "yanchor": "bottom",
          "yref": "paper"
         }
        ],
        "barmode": "stack",
        "font": {
         "size": 8
        },
        "height": 800,
        "legend": {
         "tracegroupgap": 82
        },
        "template": {
         "data": {
          "bar": [
           {
            "error_x": {
             "color": "#2a3f5f"
            },
            "error_y": {
             "color": "#2a3f5f"
            },
            "marker": {
             "line": {
              "color": "#E5ECF6",
              "width": 0.5
             },
             "pattern": {
              "fillmode": "overlay",
              "size": 10,
              "solidity": 0.2
             }
            },
            "type": "bar"
           }
          ],
          "barpolar": [
           {
            "marker": {
             "line": {
              "color": "#E5ECF6",
              "width": 0.5
             },
             "pattern": {
              "fillmode": "overlay",
              "size": 10,
              "solidity": 0.2
             }
            },
            "type": "barpolar"
           }
          ],
          "carpet": [
           {
            "aaxis": {
             "endlinecolor": "#2a3f5f",
             "gridcolor": "white",
             "linecolor": "white",
             "minorgridcolor": "white",
             "startlinecolor": "#2a3f5f"
            },
            "baxis": {
             "endlinecolor": "#2a3f5f",
             "gridcolor": "white",
             "linecolor": "white",
             "minorgridcolor": "white",
             "startlinecolor": "#2a3f5f"
            },
            "type": "carpet"
           }
          ],
          "choropleth": [
           {
            "colorbar": {
             "outlinewidth": 0,
             "ticks": ""
            },
            "type": "choropleth"
           }
          ],
          "contour": [
           {
            "colorbar": {
             "outlinewidth": 0,
             "ticks": ""
            },
            "colorscale": [
             [
              0,
              "#0d0887"
             ],
             [
              0.1111111111111111,
              "#46039f"
             ],
             [
              0.2222222222222222,
              "#7201a8"
             ],
             [
              0.3333333333333333,
              "#9c179e"
             ],
             [
              0.4444444444444444,
              "#bd3786"
             ],
             [
              0.5555555555555556,
              "#d8576b"
             ],
             [
              0.6666666666666666,
              "#ed7953"
             ],
             [
              0.7777777777777778,
              "#fb9f3a"
             ],
             [
              0.8888888888888888,
              "#fdca26"
             ],
             [
              1,
              "#f0f921"
             ]
            ],
            "type": "contour"
           }
          ],
          "contourcarpet": [
           {
            "colorbar": {
             "outlinewidth": 0,
             "ticks": ""
            },
            "type": "contourcarpet"
           }
          ],
          "heatmap": [
           {
            "colorbar": {
             "outlinewidth": 0,
             "ticks": ""
            },
            "colorscale": [
             [
              0,
              "#0d0887"
             ],
             [
              0.1111111111111111,
              "#46039f"
             ],
             [
              0.2222222222222222,
              "#7201a8"
             ],
             [
              0.3333333333333333,
              "#9c179e"
             ],
             [
              0.4444444444444444,
              "#bd3786"
             ],
             [
              0.5555555555555556,
              "#d8576b"
             ],
             [
              0.6666666666666666,
              "#ed7953"
             ],
             [
              0.7777777777777778,
              "#fb9f3a"
             ],
             [
              0.8888888888888888,
              "#fdca26"
             ],
             [
              1,
              "#f0f921"
             ]
            ],
            "type": "heatmap"
           }
          ],
          "heatmapgl": [
           {
            "colorbar": {
             "outlinewidth": 0,
             "ticks": ""
            },
            "colorscale": [
             [
              0,
              "#0d0887"
             ],
             [
              0.1111111111111111,
              "#46039f"
             ],
             [
              0.2222222222222222,
              "#7201a8"
             ],
             [
              0.3333333333333333,
              "#9c179e"
             ],
             [
              0.4444444444444444,
              "#bd3786"
             ],
             [
              0.5555555555555556,
              "#d8576b"
             ],
             [
              0.6666666666666666,
              "#ed7953"
             ],
             [
              0.7777777777777778,
              "#fb9f3a"
             ],
             [
              0.8888888888888888,
              "#fdca26"
             ],
             [
              1,
              "#f0f921"
             ]
            ],
            "type": "heatmapgl"
           }
          ],
          "histogram": [
           {
            "marker": {
             "pattern": {
              "fillmode": "overlay",
              "size": 10,
              "solidity": 0.2
             }
            },
            "type": "histogram"
           }
          ],
          "histogram2d": [
           {
            "colorbar": {
             "outlinewidth": 0,
             "ticks": ""
            },
            "colorscale": [
             [
              0,
              "#0d0887"
             ],
             [
              0.1111111111111111,
              "#46039f"
             ],
             [
              0.2222222222222222,
              "#7201a8"
             ],
             [
              0.3333333333333333,
              "#9c179e"
             ],
             [
              0.4444444444444444,
              "#bd3786"
             ],
             [
              0.5555555555555556,
              "#d8576b"
             ],
             [
              0.6666666666666666,
              "#ed7953"
             ],
             [
              0.7777777777777778,
              "#fb9f3a"
             ],
             [
              0.8888888888888888,
              "#fdca26"
             ],
             [
              1,
              "#f0f921"
             ]
            ],
            "type": "histogram2d"
           }
          ],
          "histogram2dcontour": [
           {
            "colorbar": {
             "outlinewidth": 0,
             "ticks": ""
            },
            "colorscale": [
             [
              0,
              "#0d0887"
             ],
             [
              0.1111111111111111,
              "#46039f"
             ],
             [
              0.2222222222222222,
              "#7201a8"
             ],
             [
              0.3333333333333333,
              "#9c179e"
             ],
             [
              0.4444444444444444,
              "#bd3786"
             ],
             [
              0.5555555555555556,
              "#d8576b"
             ],
             [
              0.6666666666666666,
              "#ed7953"
             ],
             [
              0.7777777777777778,
              "#fb9f3a"
             ],
             [
              0.8888888888888888,
              "#fdca26"
             ],
             [
              1,
              "#f0f921"
             ]
            ],
            "type": "histogram2dcontour"
           }
          ],
          "mesh3d": [
           {
            "colorbar": {
             "outlinewidth": 0,
             "ticks": ""
            },
            "type": "mesh3d"
           }
          ],
          "parcoords": [
           {
            "line": {
             "colorbar": {
              "outlinewidth": 0,
              "ticks": ""
             }
            },
            "type": "parcoords"
           }
          ],
          "pie": [
           {
            "automargin": true,
            "type": "pie"
           }
          ],
          "scatter": [
           {
            "fillpattern": {
             "fillmode": "overlay",
             "size": 10,
             "solidity": 0.2
            },
            "type": "scatter"
           }
          ],
          "scatter3d": [
           {
            "line": {
             "colorbar": {
              "outlinewidth": 0,
              "ticks": ""
             }
            },
            "marker": {
             "colorbar": {
              "outlinewidth": 0,
              "ticks": ""
             }
            },
            "type": "scatter3d"
           }
          ],
          "scattercarpet": [
           {
            "marker": {
             "colorbar": {
              "outlinewidth": 0,
              "ticks": ""
             }
            },
            "type": "scattercarpet"
           }
          ],
          "scattergeo": [
           {
            "marker": {
             "colorbar": {
              "outlinewidth": 0,
              "ticks": ""
             }
            },
            "type": "scattergeo"
           }
          ],
          "scattergl": [
           {
            "marker": {
             "colorbar": {
              "outlinewidth": 0,
              "ticks": ""
             }
            },
            "type": "scattergl"
           }
          ],
          "scattermapbox": [
           {
            "marker": {
             "colorbar": {
              "outlinewidth": 0,
              "ticks": ""
             }
            },
            "type": "scattermapbox"
           }
          ],
          "scatterpolar": [
           {
            "marker": {
             "colorbar": {
              "outlinewidth": 0,
              "ticks": ""
             }
            },
            "type": "scatterpolar"
           }
          ],
          "scatterpolargl": [
           {
            "marker": {
             "colorbar": {
              "outlinewidth": 0,
              "ticks": ""
             }
            },
            "type": "scatterpolargl"
           }
          ],
          "scatterternary": [
           {
            "marker": {
             "colorbar": {
              "outlinewidth": 0,
              "ticks": ""
             }
            },
            "type": "scatterternary"
           }
          ],
          "surface": [
           {
            "colorbar": {
             "outlinewidth": 0,
             "ticks": ""
            },
            "colorscale": [
             [
              0,
              "#0d0887"
             ],
             [
              0.1111111111111111,
              "#46039f"
             ],
             [
              0.2222222222222222,
              "#7201a8"
             ],
             [
              0.3333333333333333,
              "#9c179e"
             ],
             [
              0.4444444444444444,
              "#bd3786"
             ],
             [
              0.5555555555555556,
              "#d8576b"
             ],
             [
              0.6666666666666666,
              "#ed7953"
             ],
             [
              0.7777777777777778,
              "#fb9f3a"
             ],
             [
              0.8888888888888888,
              "#fdca26"
             ],
             [
              1,
              "#f0f921"
             ]
            ],
            "type": "surface"
           }
          ],
          "table": [
           {
            "cells": {
             "fill": {
              "color": "#EBF0F8"
             },
             "line": {
              "color": "white"
             }
            },
            "header": {
             "fill": {
              "color": "#C8D4E3"
             },
             "line": {
              "color": "white"
             }
            },
            "type": "table"
           }
          ]
         },
         "layout": {
          "annotationdefaults": {
           "arrowcolor": "#2a3f5f",
           "arrowhead": 0,
           "arrowwidth": 1
          },
          "autotypenumbers": "strict",
          "coloraxis": {
           "colorbar": {
            "outlinewidth": 0,
            "ticks": ""
           }
          },
          "colorscale": {
           "diverging": [
            [
             0,
             "#8e0152"
            ],
            [
             0.1,
             "#c51b7d"
            ],
            [
             0.2,
             "#de77ae"
            ],
            [
             0.3,
             "#f1b6da"
            ],
            [
             0.4,
             "#fde0ef"
            ],
            [
             0.5,
             "#f7f7f7"
            ],
            [
             0.6,
             "#e6f5d0"
            ],
            [
             0.7,
             "#b8e186"
            ],
            [
             0.8,
             "#7fbc41"
            ],
            [
             0.9,
             "#4d9221"
            ],
            [
             1,
             "#276419"
            ]
           ],
           "sequential": [
            [
             0,
             "#0d0887"
            ],
            [
             0.1111111111111111,
             "#46039f"
            ],
            [
             0.2222222222222222,
             "#7201a8"
            ],
            [
             0.3333333333333333,
             "#9c179e"
            ],
            [
             0.4444444444444444,
             "#bd3786"
            ],
            [
             0.5555555555555556,
             "#d8576b"
            ],
            [
             0.6666666666666666,
             "#ed7953"
            ],
            [
             0.7777777777777778,
             "#fb9f3a"
            ],
            [
             0.8888888888888888,
             "#fdca26"
            ],
            [
             1,
             "#f0f921"
            ]
           ],
           "sequentialminus": [
            [
             0,
             "#0d0887"
            ],
            [
             0.1111111111111111,
             "#46039f"
            ],
            [
             0.2222222222222222,
             "#7201a8"
            ],
            [
             0.3333333333333333,
             "#9c179e"
            ],
            [
             0.4444444444444444,
             "#bd3786"
            ],
            [
             0.5555555555555556,
             "#d8576b"
            ],
            [
             0.6666666666666666,
             "#ed7953"
            ],
            [
             0.7777777777777778,
             "#fb9f3a"
            ],
            [
             0.8888888888888888,
             "#fdca26"
            ],
            [
             1,
             "#f0f921"
            ]
           ]
          },
          "colorway": [
           "#636efa",
           "#EF553B",
           "#00cc96",
           "#ab63fa",
           "#FFA15A",
           "#19d3f3",
           "#FF6692",
           "#B6E880",
           "#FF97FF",
           "#FECB52"
          ],
          "font": {
           "color": "#2a3f5f"
          },
          "geo": {
           "bgcolor": "white",
           "lakecolor": "white",
           "landcolor": "#E5ECF6",
           "showlakes": true,
           "showland": true,
           "subunitcolor": "white"
          },
          "hoverlabel": {
           "align": "left"
          },
          "hovermode": "closest",
          "mapbox": {
           "style": "light"
          },
          "paper_bgcolor": "white",
          "plot_bgcolor": "#E5ECF6",
          "polar": {
           "angularaxis": {
            "gridcolor": "white",
            "linecolor": "white",
            "ticks": ""
           },
           "bgcolor": "#E5ECF6",
           "radialaxis": {
            "gridcolor": "white",
            "linecolor": "white",
            "ticks": ""
           }
          },
          "scene": {
           "xaxis": {
            "backgroundcolor": "#E5ECF6",
            "gridcolor": "white",
            "gridwidth": 2,
            "linecolor": "white",
            "showbackground": true,
            "ticks": "",
            "zerolinecolor": "white"
           },
           "yaxis": {
            "backgroundcolor": "#E5ECF6",
            "gridcolor": "white",
            "gridwidth": 2,
            "linecolor": "white",
            "showbackground": true,
            "ticks": "",
            "zerolinecolor": "white"
           },
           "zaxis": {
            "backgroundcolor": "#E5ECF6",
            "gridcolor": "white",
            "gridwidth": 2,
            "linecolor": "white",
            "showbackground": true,
            "ticks": "",
            "zerolinecolor": "white"
           }
          },
          "shapedefaults": {
           "line": {
            "color": "#2a3f5f"
           }
          },
          "ternary": {
           "aaxis": {
            "gridcolor": "white",
            "linecolor": "white",
            "ticks": ""
           },
           "baxis": {
            "gridcolor": "white",
            "linecolor": "white",
            "ticks": ""
           },
           "bgcolor": "#E5ECF6",
           "caxis": {
            "gridcolor": "white",
            "linecolor": "white",
            "ticks": ""
           }
          },
          "title": {
           "x": 0.05
          },
          "xaxis": {
           "automargin": true,
           "gridcolor": "white",
           "linecolor": "white",
           "ticks": "",
           "title": {
            "standoff": 15
           },
           "zerolinecolor": "white",
           "zerolinewidth": 2
          },
          "yaxis": {
           "automargin": true,
           "gridcolor": "white",
           "linecolor": "white",
           "ticks": "",
           "title": {
            "standoff": 15
           },
           "zerolinecolor": "white",
           "zerolinewidth": 2
          }
         }
        },
        "title": {
         "text": "Median Total Profit Results x Overall view of actions (across all the simulations)",
         "x": 0.5
        },
        "width": 1200,
        "xaxis": {
         "anchor": "y",
         "categoryorder": "category ascending",
         "domain": [
          0,
          0.94
         ],
         "matches": "x4",
         "showticklabels": false
        },
        "xaxis2": {
         "anchor": "y3",
         "domain": [
          0,
          0.94
         ],
         "matches": "x4",
         "showticklabels": false
        },
        "xaxis3": {
         "anchor": "y5",
         "domain": [
          0,
          0.94
         ],
         "matches": "x4",
         "showticklabels": false
        },
        "xaxis4": {
         "anchor": "y7",
         "domain": [
          0,
          0.94
         ]
        },
        "yaxis": {
         "anchor": "x",
         "domain": [
          0.84375,
          1
         ],
         "matches": "y7",
         "title": {
          "text": "Proportion of trades<br>across all the simulations"
         }
        },
        "yaxis2": {
         "anchor": "x",
         "overlaying": "y",
         "side": "right",
         "title": {
          "text": "CCY level with the<br>sim_id actions related"
         }
        },
        "yaxis3": {
         "anchor": "x2",
         "domain": [
          0.5625,
          0.71875
         ],
         "matches": "y7",
         "title": {
          "text": "Proportion of trades<br>across all the simulations"
         }
        },
        "yaxis4": {
         "anchor": "x2",
         "overlaying": "y3",
         "side": "right",
         "title": {
          "text": "CCY level with the<br>sim_id actions related"
         }
        },
        "yaxis5": {
         "anchor": "x3",
         "domain": [
          0.28125,
          0.4375
         ],
         "matches": "y7",
         "title": {
          "text": "Proportion of trades<br>across all the simulations"
         }
        },
        "yaxis6": {
         "anchor": "x3",
         "overlaying": "y5",
         "side": "right",
         "title": {
          "text": "CCY level with the<br>sim_id actions related"
         }
        },
        "yaxis7": {
         "anchor": "x4",
         "domain": [
          0,
          0.15625
         ],
         "title": {
          "text": "Proportion of trades<br>across all the simulations"
         }
        },
        "yaxis8": {
         "anchor": "x4",
         "overlaying": "y7",
         "side": "right",
         "title": {
          "text": "CCY level with the<br>sim_id actions related"
         }
        }
       }
      }
     },
     "metadata": {},
     "output_type": "display_data"
    }
   ],
   "source": [
    "plot_trader_robot_actions_all_sim_id_all_models(config_file_name_without_extension, \"\", \"\", median_sim_id_DQN, \"\")"
   ]
  },
  {
   "cell_type": "code",
   "execution_count": 40,
   "metadata": {},
   "outputs": [
    {
     "name": "stdout",
     "output_type": "stream",
     "text": [
      "mean_reward=-204.91 +/- 0.0\n"
     ]
    }
   ],
   "source": [
    "# Evaluate the loaded policy\n",
    "mean_reward, std_reward = evaluate_policy(saved_policy, env, n_eval_episodes=10, deterministic=True)\n",
    "\n",
    "print(f\"mean_reward={mean_reward:.2f} +/- {std_reward}\")"
   ]
  },
  {
   "cell_type": "code",
   "execution_count": null,
   "metadata": {},
   "outputs": [],
   "source": []
  }
 ],
 "metadata": {
  "kernelspec": {
   "display_name": "msc_uol_ai_dissertation",
   "language": "python",
   "name": "python3"
  },
  "language_info": {
   "codemirror_mode": {
    "name": "ipython",
    "version": 3
   },
   "file_extension": ".py",
   "mimetype": "text/x-python",
   "name": "python",
   "nbconvert_exporter": "python",
   "pygments_lexer": "ipython3",
   "version": "3.8.13"
  },
  "orig_nbformat": 4,
  "vscode": {
   "interpreter": {
    "hash": "0c0f2ae3d5d9aa27c4a2afc20f28a2482dc1006477ab22953abc78c31c7bb5b2"
   }
  }
 },
 "nbformat": 4,
 "nbformat_minor": 2
}
