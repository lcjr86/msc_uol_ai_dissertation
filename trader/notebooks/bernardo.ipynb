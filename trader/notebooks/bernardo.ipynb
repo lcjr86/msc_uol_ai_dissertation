{
 "cells": [
  {
   "cell_type": "code",
   "execution_count": 30,
   "metadata": {},
   "outputs": [],
   "source": [
    "import warnings\n",
    "warnings.filterwarnings('ignore')\n",
    "\n",
    "from configparser import ConfigParser\n",
    "\n",
    "from typing import Callable\n",
    "\n",
    "import gym\n",
    "import gym_anytrading\n",
    "\n",
    "from gym_anytrading.envs import CryptoEnvLogINFER\n",
    "\n",
    "from stable_baselines3.common.vec_env import DummyVecEnv, SubprocVecEnv\n",
    "from stable_baselines3 import A2C, PPO, DQN\n",
    "from stable_baselines3.common.evaluation import evaluate_policy\n",
    "from stable_baselines3.common.env_util import make_vec_env\n",
    "from stable_baselines3.common.utils import set_random_seed\n",
    "\n",
    "from stable_baselines3.dqn.policies import MlpPolicy\n",
    "\n",
    "import tensorflow as tf\n",
    "\n",
    "import numpy as np\n",
    "import pandas as pd\n",
    "import plotly.express as px\n",
    "import plotly.graph_objects as go\n",
    "from plotly.subplots import make_subplots\n",
    "import os\n",
    "import datetime\n",
    "\n",
    "import multiprocessing\n",
    "\n",
    "import quantstats as qs\n",
    "\n",
    "import sqlite3\n",
    "from sqlalchemy import create_engine"
   ]
  },
  {
   "cell_type": "code",
   "execution_count": 7,
   "metadata": {},
   "outputs": [
    {
     "name": "stdout",
     "output_type": "stream",
     "text": [
      "['../../simulations/config_files/config_03a_mix_infer.ini']\n"
     ]
    }
   ],
   "source": [
    "configur = ConfigParser()\n",
    "config_file_name = \"config_03a_mix_infer.ini\"\n",
    "print (configur.read(os.path.join('../../simulations/config_files', config_file_name)))"
   ]
  },
  {
   "cell_type": "code",
   "execution_count": 8,
   "metadata": {},
   "outputs": [],
   "source": [
    "config_file_name_without_extension = config_file_name.replace(\".ini\", \"\")\n",
    "\n",
    "ccy = configur.get('data', 'ccy')\n",
    "\n",
    "data_frequency_train = configur.get('data', 'data_frequency_train')\n",
    "data_frequency_val = configur.get('data', 'data_frequency_val')\n",
    "\n",
    "start_date_train = configur.get('environment', 'start_date')\n",
    "\n",
    "window_size = configur.getint('environment', 'window_size')\n",
    "list_features = configur.get('environment', 'features').split(',')\n",
    "target = configur.get('environment', 'target')"
   ]
  },
  {
   "cell_type": "code",
   "execution_count": 9,
   "metadata": {},
   "outputs": [
    {
     "name": "stdout",
     "output_type": "stream",
     "text": [
      "The loaded_model has 0 transitions in its buffer\n",
      "The loaded_model has 165368 transitions in its buffer\n"
     ]
    }
   ],
   "source": [
    "model_name = \"DQN\"\n",
    "# the saved model does not contain the replay buffer\n",
    "loaded_model = DQN.load(\"../../simulations/save_models_components/model/model_DQN_\"+ config_file_name_without_extension + \".zip\")\n",
    "print(f\"The loaded_model has {loaded_model.replay_buffer.size()} transitions in its buffer\")\n",
    "\n",
    "# load it into the loaded_model\n",
    "loaded_model.load_replay_buffer(\"../../simulations/save_models_components/replay_buffer/replay_buffer_DQN_\" + config_file_name_without_extension + \".pkl\")\n",
    "\n",
    "# now the loaded replay is not empty anymore\n",
    "print(f\"The loaded_model has {loaded_model.replay_buffer.size()} transitions in its buffer\")\n",
    "\n",
    "saved_policy = MlpPolicy.load(\"../../simulations/save_models_components/policy/policy_DQN_\" + config_file_name_without_extension)"
   ]
  },
  {
   "cell_type": "code",
   "execution_count": 10,
   "metadata": {},
   "outputs": [],
   "source": [
    "mid_date='2023-01-01 00:00:00'\n",
    "end_date='2023-01-27 00:00:00'"
   ]
  },
  {
   "cell_type": "code",
   "execution_count": 11,
   "metadata": {},
   "outputs": [],
   "source": [
    "def get_and_process_data(ccy, data_frequency, start_date, end_date):\n",
    "    try:\n",
    "        \n",
    "        # Get the data\n",
    "        db_address = 'sqlite:///../../data/db/crypto.db'\n",
    "        engine = create_engine(db_address, echo=False)\n",
    "        sqlite_connection = engine.connect()\n",
    "\n",
    "        input_tbl_name = \"tbl_all_features\" + \"_\" + ccy + \"_\" + data_frequency\n",
    "        \n",
    "        sql_command = \"SELECT * FROM \" + input_tbl_name\n",
    "\n",
    "        if(start_date!=\"\" and end_date!=\"\"):\n",
    "            \n",
    "            sd = datetime.datetime.strptime(start_date,'%d %b, %Y').strftime('%Y-%m-%d')\n",
    "            ed = datetime.datetime.strptime(end_date,'%d %b, %Y').strftime('%Y-%m-%d')\n",
    "\n",
    "            sql_append = \" WHERE \" + \"date(date) >= \" + \"'\" + sd + \"'\" + \" AND date(date) <= \" + \"'\" + ed + \"'\"\n",
    "            sql_command = sql_command + sql_append\n",
    "\n",
    "        df = pd.read_sql(sql_command, sqlite_connection)\n",
    "\n",
    "        sqlite_connection.close()\n",
    "\n",
    "        # Converting Date Column to DateTime Type\n",
    "        # Set the index on the dataframe\n",
    "        df['date_index'] = df['date']\n",
    "        df.set_index('date_index', inplace=True)\n",
    "\n",
    "        return df\n",
    "\n",
    "    except Exception as e:\n",
    "        print(e)"
   ]
  },
  {
   "cell_type": "code",
   "execution_count": 12,
   "metadata": {},
   "outputs": [],
   "source": [
    "# Format the data\n",
    "start_date_temp = datetime.datetime.strptime(mid_date,'%Y-%m-%d %H:%M:%S')\n",
    "start_date_temp2 = start_date_temp + datetime.timedelta(days=-(window_size+1))\n",
    "start_date_db = start_date_temp2.strftime('%d %b, %Y')\n",
    "end_date_db = datetime.datetime.strptime(end_date,'%Y-%m-%d %H:%M:%S').strftime('%d %b, %Y')\n",
    "\n",
    "df_val = get_and_process_data(ccy, data_frequency_val, start_date_db, end_date_db)"
   ]
  },
  {
   "cell_type": "code",
   "execution_count": 13,
   "metadata": {},
   "outputs": [
    {
     "data": {
      "text/html": [
       "<div>\n",
       "<style scoped>\n",
       "    .dataframe tbody tr th:only-of-type {\n",
       "        vertical-align: middle;\n",
       "    }\n",
       "\n",
       "    .dataframe tbody tr th {\n",
       "        vertical-align: top;\n",
       "    }\n",
       "\n",
       "    .dataframe thead th {\n",
       "        text-align: right;\n",
       "    }\n",
       "</style>\n",
       "<table border=\"1\" class=\"dataframe\">\n",
       "  <thead>\n",
       "    <tr style=\"text-align: right;\">\n",
       "      <th></th>\n",
       "      <th>open_time</th>\n",
       "      <th>open</th>\n",
       "      <th>high</th>\n",
       "      <th>low</th>\n",
       "      <th>close</th>\n",
       "      <th>volume</th>\n",
       "      <th>close_time</th>\n",
       "      <th>quote_asset_volume</th>\n",
       "      <th>number_of_trades</th>\n",
       "      <th>taker_buy_base_asset_volume</th>\n",
       "      <th>...</th>\n",
       "      <th>BBANDS_L</th>\n",
       "      <th>AD</th>\n",
       "      <th>ATR</th>\n",
       "      <th>HT_DC</th>\n",
       "      <th>SAR</th>\n",
       "      <th>ratio_high_open</th>\n",
       "      <th>ratio_low_open</th>\n",
       "      <th>ratio_close_open</th>\n",
       "      <th>time_to_chart_return</th>\n",
       "      <th>crypto_index</th>\n",
       "    </tr>\n",
       "    <tr>\n",
       "      <th>date_index</th>\n",
       "      <th></th>\n",
       "      <th></th>\n",
       "      <th></th>\n",
       "      <th></th>\n",
       "      <th></th>\n",
       "      <th></th>\n",
       "      <th></th>\n",
       "      <th></th>\n",
       "      <th></th>\n",
       "      <th></th>\n",
       "      <th></th>\n",
       "      <th></th>\n",
       "      <th></th>\n",
       "      <th></th>\n",
       "      <th></th>\n",
       "      <th></th>\n",
       "      <th></th>\n",
       "      <th></th>\n",
       "      <th></th>\n",
       "      <th></th>\n",
       "      <th></th>\n",
       "    </tr>\n",
       "  </thead>\n",
       "  <tbody>\n",
       "    <tr>\n",
       "      <th>2023-01-23 00:00:00.000000</th>\n",
       "      <td>1674345600000</td>\n",
       "      <td>22783.35</td>\n",
       "      <td>23078.71</td>\n",
       "      <td>22292.37</td>\n",
       "      <td>22707.88</td>\n",
       "      <td>253577.75286</td>\n",
       "      <td>1674431999999</td>\n",
       "      <td>5.775552e+09</td>\n",
       "      <td>6603827</td>\n",
       "      <td>125842.91663</td>\n",
       "      <td>...</td>\n",
       "      <td>14925.062825</td>\n",
       "      <td>1.695114e+06</td>\n",
       "      <td>721.094756</td>\n",
       "      <td>19.902136</td>\n",
       "      <td>20354.923929</td>\n",
       "      <td>1.012964</td>\n",
       "      <td>0.978450</td>\n",
       "      <td>0.996687</td>\n",
       "      <td>-0.003321</td>\n",
       "      <td>1302.008066</td>\n",
       "    </tr>\n",
       "    <tr>\n",
       "      <th>2023-01-24 00:00:00.000000</th>\n",
       "      <td>1674432000000</td>\n",
       "      <td>22706.02</td>\n",
       "      <td>23180.00</td>\n",
       "      <td>22500.00</td>\n",
       "      <td>22916.45</td>\n",
       "      <td>293588.37938</td>\n",
       "      <td>1674518399999</td>\n",
       "      <td>6.704191e+09</td>\n",
       "      <td>7258655</td>\n",
       "      <td>145854.70936</td>\n",
       "      <td>...</td>\n",
       "      <td>15152.763303</td>\n",
       "      <td>1.761128e+06</td>\n",
       "      <td>718.159416</td>\n",
       "      <td>20.351747</td>\n",
       "      <td>20897.961622</td>\n",
       "      <td>1.020875</td>\n",
       "      <td>0.990927</td>\n",
       "      <td>1.009268</td>\n",
       "      <td>0.009185</td>\n",
       "      <td>1313.966903</td>\n",
       "    </tr>\n",
       "    <tr>\n",
       "      <th>2023-01-25 00:00:00.000000</th>\n",
       "      <td>1674518400000</td>\n",
       "      <td>22917.81</td>\n",
       "      <td>23162.20</td>\n",
       "      <td>22462.93</td>\n",
       "      <td>22632.89</td>\n",
       "      <td>293158.78254</td>\n",
       "      <td>1674604799999</td>\n",
       "      <td>6.721433e+09</td>\n",
       "      <td>7395584</td>\n",
       "      <td>144239.84356</td>\n",
       "      <td>...</td>\n",
       "      <td>15455.703711</td>\n",
       "      <td>1.610476e+06</td>\n",
       "      <td>716.810172</td>\n",
       "      <td>21.168704</td>\n",
       "      <td>21343.252530</td>\n",
       "      <td>1.010664</td>\n",
       "      <td>0.980152</td>\n",
       "      <td>0.987568</td>\n",
       "      <td>-0.012374</td>\n",
       "      <td>1297.708344</td>\n",
       "    </tr>\n",
       "    <tr>\n",
       "      <th>2023-01-26 00:00:00.000000</th>\n",
       "      <td>1674604800000</td>\n",
       "      <td>22631.94</td>\n",
       "      <td>23816.73</td>\n",
       "      <td>22300.00</td>\n",
       "      <td>23060.94</td>\n",
       "      <td>346042.83223</td>\n",
       "      <td>1674691199999</td>\n",
       "      <td>7.875590e+09</td>\n",
       "      <td>8060446</td>\n",
       "      <td>172647.90115</td>\n",
       "      <td>...</td>\n",
       "      <td>15808.793428</td>\n",
       "      <td>1.611651e+06</td>\n",
       "      <td>773.947303</td>\n",
       "      <td>22.469368</td>\n",
       "      <td>21708.391074</td>\n",
       "      <td>1.052350</td>\n",
       "      <td>0.985333</td>\n",
       "      <td>1.018956</td>\n",
       "      <td>0.018913</td>\n",
       "      <td>1322.251566</td>\n",
       "    </tr>\n",
       "    <tr>\n",
       "      <th>2023-01-27 00:00:00.000000</th>\n",
       "      <td>1674691200000</td>\n",
       "      <td>23060.42</td>\n",
       "      <td>23282.47</td>\n",
       "      <td>22850.01</td>\n",
       "      <td>23009.65</td>\n",
       "      <td>288924.43581</td>\n",
       "      <td>1674777599999</td>\n",
       "      <td>6.664592e+09</td>\n",
       "      <td>7181086</td>\n",
       "      <td>143185.08341</td>\n",
       "      <td>...</td>\n",
       "      <td>16228.556835</td>\n",
       "      <td>1.536036e+06</td>\n",
       "      <td>749.555353</td>\n",
       "      <td>24.042059</td>\n",
       "      <td>22130.058860</td>\n",
       "      <td>1.009629</td>\n",
       "      <td>0.990876</td>\n",
       "      <td>0.997798</td>\n",
       "      <td>-0.002224</td>\n",
       "      <td>1319.310737</td>\n",
       "    </tr>\n",
       "  </tbody>\n",
       "</table>\n",
       "<p>5 rows × 91 columns</p>\n",
       "</div>"
      ],
      "text/plain": [
       "                                open_time      open      high       low  \\\n",
       "date_index                                                                \n",
       "2023-01-23 00:00:00.000000  1674345600000  22783.35  23078.71  22292.37   \n",
       "2023-01-24 00:00:00.000000  1674432000000  22706.02  23180.00  22500.00   \n",
       "2023-01-25 00:00:00.000000  1674518400000  22917.81  23162.20  22462.93   \n",
       "2023-01-26 00:00:00.000000  1674604800000  22631.94  23816.73  22300.00   \n",
       "2023-01-27 00:00:00.000000  1674691200000  23060.42  23282.47  22850.01   \n",
       "\n",
       "                               close        volume     close_time  \\\n",
       "date_index                                                          \n",
       "2023-01-23 00:00:00.000000  22707.88  253577.75286  1674431999999   \n",
       "2023-01-24 00:00:00.000000  22916.45  293588.37938  1674518399999   \n",
       "2023-01-25 00:00:00.000000  22632.89  293158.78254  1674604799999   \n",
       "2023-01-26 00:00:00.000000  23060.94  346042.83223  1674691199999   \n",
       "2023-01-27 00:00:00.000000  23009.65  288924.43581  1674777599999   \n",
       "\n",
       "                            quote_asset_volume  number_of_trades  \\\n",
       "date_index                                                         \n",
       "2023-01-23 00:00:00.000000        5.775552e+09           6603827   \n",
       "2023-01-24 00:00:00.000000        6.704191e+09           7258655   \n",
       "2023-01-25 00:00:00.000000        6.721433e+09           7395584   \n",
       "2023-01-26 00:00:00.000000        7.875590e+09           8060446   \n",
       "2023-01-27 00:00:00.000000        6.664592e+09           7181086   \n",
       "\n",
       "                            taker_buy_base_asset_volume  ...      BBANDS_L  \\\n",
       "date_index                                               ...                 \n",
       "2023-01-23 00:00:00.000000                 125842.91663  ...  14925.062825   \n",
       "2023-01-24 00:00:00.000000                 145854.70936  ...  15152.763303   \n",
       "2023-01-25 00:00:00.000000                 144239.84356  ...  15455.703711   \n",
       "2023-01-26 00:00:00.000000                 172647.90115  ...  15808.793428   \n",
       "2023-01-27 00:00:00.000000                 143185.08341  ...  16228.556835   \n",
       "\n",
       "                                      AD         ATR      HT_DC           SAR  \\\n",
       "date_index                                                                      \n",
       "2023-01-23 00:00:00.000000  1.695114e+06  721.094756  19.902136  20354.923929   \n",
       "2023-01-24 00:00:00.000000  1.761128e+06  718.159416  20.351747  20897.961622   \n",
       "2023-01-25 00:00:00.000000  1.610476e+06  716.810172  21.168704  21343.252530   \n",
       "2023-01-26 00:00:00.000000  1.611651e+06  773.947303  22.469368  21708.391074   \n",
       "2023-01-27 00:00:00.000000  1.536036e+06  749.555353  24.042059  22130.058860   \n",
       "\n",
       "                            ratio_high_open  ratio_low_open  ratio_close_open  \\\n",
       "date_index                                                                      \n",
       "2023-01-23 00:00:00.000000         1.012964        0.978450          0.996687   \n",
       "2023-01-24 00:00:00.000000         1.020875        0.990927          1.009268   \n",
       "2023-01-25 00:00:00.000000         1.010664        0.980152          0.987568   \n",
       "2023-01-26 00:00:00.000000         1.052350        0.985333          1.018956   \n",
       "2023-01-27 00:00:00.000000         1.009629        0.990876          0.997798   \n",
       "\n",
       "                            time_to_chart_return  crypto_index  \n",
       "date_index                                                      \n",
       "2023-01-23 00:00:00.000000             -0.003321   1302.008066  \n",
       "2023-01-24 00:00:00.000000              0.009185   1313.966903  \n",
       "2023-01-25 00:00:00.000000             -0.012374   1297.708344  \n",
       "2023-01-26 00:00:00.000000              0.018913   1322.251566  \n",
       "2023-01-27 00:00:00.000000             -0.002224   1319.310737  \n",
       "\n",
       "[5 rows x 91 columns]"
      ]
     },
     "execution_count": 13,
     "metadata": {},
     "output_type": "execute_result"
    }
   ],
   "source": [
    "df_val.tail()"
   ]
  },
  {
   "cell_type": "code",
   "execution_count": 14,
   "metadata": {},
   "outputs": [],
   "source": [
    "mid_date_id_val = int(df_val.index.get_loc(datetime.datetime.strptime(mid_date,'%Y-%m-%d %H:%M:%S').strftime('%Y-%m-%d %H:%M:%S.%f')))\n",
    "end_date_id_val = int(df_val.index.get_loc(datetime.datetime.strptime(end_date,'%Y-%m-%d %H:%M:%S').strftime('%Y-%m-%d %H:%M:%S.%f')))"
   ]
  },
  {
   "cell_type": "code",
   "execution_count": 15,
   "metadata": {},
   "outputs": [],
   "source": [
    "def my_process_data(env):\n",
    "    start = env.frame_bound[0] - env.window_size\n",
    "    end = env.frame_bound[1]\n",
    "    prices = env.df.loc[:, target].to_numpy()[start:end]\n",
    "    signal_features = env.df.loc[:, list_features].to_numpy()[start:end]\n",
    "    dates = env.df.index.to_numpy()[start:end]\n",
    "    return prices, signal_features, dates\n",
    "\n",
    "class MyEnv(CryptoEnvLogINFER):\n",
    "    _process_data = my_process_data"
   ]
  },
  {
   "cell_type": "code",
   "execution_count": 16,
   "metadata": {},
   "outputs": [],
   "source": [
    "env = MyEnv(df=df_val, frame_bound=(mid_date_id_val,end_date_id_val), window_size=window_size)"
   ]
  },
  {
   "cell_type": "code",
   "execution_count": 17,
   "metadata": {},
   "outputs": [],
   "source": [
    "num_of_simulations=1000"
   ]
  },
  {
   "cell_type": "code",
   "execution_count": 18,
   "metadata": {},
   "outputs": [],
   "source": [
    "df_sim_results = pd.DataFrame()\n",
    "df_robot_actions_and_env_final = pd.DataFrame()\n",
    "\n",
    "df_sim_results_temp = pd.DataFrame(columns=['total_reward_cash', 'total_profit_percentage', 'fmt_total_profit_percentage', 'num_of_trades'])\n",
    "df_robot_actions_and_env_temp = pd.DataFrame(columns=['dates', 'prices', 'actions', 'total_reward_cash', 'total_profit_percentage', 'fmt_total_profit_percentage', 'num_of_trades', 'sim_id'])\n",
    "\n",
    "list_sim_id = []\n",
    "\n",
    "sim_id = 1\n",
    "for i in range(num_of_simulations):   \n",
    "\n",
    "    #Setting up the Agent Environment\n",
    "    obs = env.reset()\n",
    "\n",
    "    list_sim_id.append(sim_id)\n",
    "\n",
    "    while True: \n",
    "        obs = obs[np.newaxis, ...]\n",
    "\n",
    "        action, _states = loaded_model.predict(obs)\n",
    "        \n",
    "        obs, rewards, done, info = env.step(action)\n",
    "        \n",
    "        if done:\n",
    "            df_sim_results_temp = df_sim_results_temp.append(info, ignore_index=True, sort=False)\n",
    "            break\n",
    "\n",
    "    # Export robot actions plot and data\n",
    "    fig, df_robot_actions = env.render_all()\n",
    "    # fig.write_html(os.path.join('results', 'plots', 'robot_actions', 'robot_actions_' + config_file_name_without_extension + '_sim_id_' + str(sim_id) + '.html'))\n",
    "\n",
    "    # Export the history of details (the info dict inside of the environment)\n",
    "    df_sim_env_data = pd.DataFrame.from_dict(env.history)\n",
    "\n",
    "    # Merge robot actions data + sim env data\n",
    "    df_sim_env_data_initial = pd.DataFrame(columns=['total_reward_cash', 'total_profit_percentage', 'fmt_total_profit_percentage', 'num_of_trades'])\n",
    "    for i in range(0, window_size + 1):\n",
    "        df_sim_env_data_initial = df_sim_env_data_initial.append(pd.Series([0, 0, 0, 0], index=df_sim_env_data_initial.columns), ignore_index=True)\n",
    "    \n",
    "    df_sim_env_data_temp = df_sim_env_data_initial.append(df_sim_env_data, ignore_index=True)\n",
    "    \n",
    "    df_robot_actions_and_env_temp = pd.merge(df_robot_actions, df_sim_env_data_temp, left_index=True, right_index=True, how = \"outer\")\n",
    "    df_robot_actions_and_env_temp['sim_id'] = sim_id\n",
    "\n",
    "    df_robot_actions_and_env_final = pd.concat([df_robot_actions_and_env_final, df_robot_actions_and_env_temp], axis=0)\n",
    "\n",
    "    sim_id = sim_id + 1\n",
    "\n",
    "df_sim_results_temp['sim_id'] = list_sim_id\n",
    "df_sim_results_temp['ccy'] = ccy\n",
    "df_sim_results_temp['data_frequency_train'] = data_frequency_train\n",
    "df_sim_results_temp['data_frequency_val'] = data_frequency_val\n",
    "df_sim_results_temp['window_size'] = window_size\n",
    "df_sim_results_temp['start_date'] = start_date_train\n",
    "df_sim_results_temp['mid_date'] = mid_date\n",
    "df_sim_results_temp['end_date'] = end_date\n",
    "df_sim_results_temp['target'] = target\n",
    "df_sim_results_temp['list_features'] = str(list_features)\n",
    "df_sim_results_temp['model_type'] = model_name \n",
    "df_sim_results_temp['num_of_simulations'] = num_of_simulations   \n",
    "\n",
    "df_sim_results = pd.concat([df_sim_results, df_sim_results_temp], axis=0)"
   ]
  },
  {
   "cell_type": "code",
   "execution_count": 21,
   "metadata": {},
   "outputs": [],
   "source": [
    "df_sim_results = df_sim_results.reset_index(drop=True)\n",
    "df_sim_results = df_sim_results.drop_duplicates()\n",
    "\n",
    "## SIMULATION RESULTS\n",
    "\n",
    "# Format data type\n",
    "df_sim_results['start_date'] = pd.to_datetime(df_sim_results['start_date'])\n",
    "df_sim_results['mid_date'] = pd.to_datetime(df_sim_results['mid_date'])\n",
    "df_sim_results['end_date'] = pd.to_datetime(df_sim_results['end_date'])\n",
    "\n",
    "# Write to the db\n",
    "db_address = 'sqlite:///../results/data/db/trader.db'\n",
    "engine = create_engine(db_address, echo=False)\n",
    "sqlite_connection = engine.connect()\n",
    "\n",
    "output_tbl_name = \"tbl_trader_bernardo_simulation_results_\" + config_file_name_without_extension\n",
    "\n",
    "df_sim_results.to_sql(output_tbl_name, sqlite_connection, if_exists='replace', index=False)\n",
    "\n",
    "sqlite_connection.close()\n",
    "\n",
    "## ROBOT ACTIONS and ENV RESULTS\n",
    "\n",
    "# Format data type\n",
    "df_robot_actions_and_env_final['dates'] = pd.to_datetime(df_robot_actions_and_env_final['dates'])\n",
    "df_robot_actions_and_env_final['total_reward_cash'] = df_robot_actions_and_env_final['total_reward_cash'].astype(float)\n",
    "df_robot_actions_and_env_final['total_profit_percentage'] = df_robot_actions_and_env_final['total_profit_percentage'].astype(float)\n",
    "df_robot_actions_and_env_final['fmt_total_profit_percentage'] = df_robot_actions_and_env_final['fmt_total_profit_percentage'].astype(float)\n",
    "df_robot_actions_and_env_final['num_of_trades'] = df_robot_actions_and_env_final['num_of_trades'].astype(float)\n",
    "\n",
    "# Write to the db\n",
    "db_address = 'sqlite:///../results/data/db/trader.db'\n",
    "engine = create_engine(db_address, echo=False)\n",
    "sqlite_connection = engine.connect()\n",
    "\n",
    "output_tbl_name = \"tbl_trader_bernardo_robot_actions_and_env_\" + config_file_name_without_extension\n",
    "\n",
    "df_robot_actions_and_env_final.to_sql(output_tbl_name, sqlite_connection, if_exists='replace', index=False)\n",
    "\n",
    "sqlite_connection.close()"
   ]
  },
  {
   "attachments": {},
   "cell_type": "markdown",
   "metadata": {},
   "source": [
    "## Get Data"
   ]
  },
  {
   "cell_type": "code",
   "execution_count": 22,
   "metadata": {},
   "outputs": [],
   "source": [
    "def get_and_process_trader_data(config_file_name_without_extension):\n",
    "    try:\n",
    "        \n",
    "        # Get the data\n",
    "        db_address = 'sqlite:///../results/data/db/trader.db'\n",
    "        engine = create_engine(db_address, echo=False)\n",
    "        sqlite_connection = engine.connect()\n",
    "\n",
    "        input_tbl_name = \"tbl_trader_bernardo_simulation_results\" + \"_\" + config_file_name_without_extension\n",
    "        \n",
    "        sql_command = \"SELECT * FROM \" + input_tbl_name\n",
    "\n",
    "        df = pd.read_sql(sql_command, sqlite_connection)\n",
    "\n",
    "        sqlite_connection.close()\n",
    "\n",
    "        return df\n",
    "\n",
    "    except Exception as e:\n",
    "        print(e)"
   ]
  },
  {
   "cell_type": "code",
   "execution_count": 23,
   "metadata": {},
   "outputs": [],
   "source": [
    "df_trader_results = get_and_process_trader_data(config_file_name_without_extension)"
   ]
  },
  {
   "cell_type": "code",
   "execution_count": 24,
   "metadata": {},
   "outputs": [
    {
     "data": {
      "application/vnd.plotly.v1+json": {
       "config": {
        "plotlyServerURL": "https://plot.ly"
       },
       "data": [
        {
         "alignmentgroup": "True",
         "boxpoints": "all",
         "hovertemplate": "model_type=DQN<br>fmt_total_profit_percentage=%{y}<extra></extra>",
         "legendgroup": "DQN",
         "marker": {
          "color": "#FF7F0E"
         },
         "name": "DQN",
         "notched": false,
         "offsetgroup": "DQN",
         "orientation": "v",
         "showlegend": true,
         "type": "box",
         "x0": " ",
         "xaxis": "x",
         "y": [
          -3.2803265453192343,
          -4.551593225729311,
          -7.654168304490804,
          2.4060571049153046,
          4.036564781167606,
          -4.631310946303213,
          -4.631310946303213,
          -4.631310946303213,
          4.036564781167606,
          18.092566577058,
          1.0934051407932577,
          -4.631310946303213,
          2.4060571049153046,
          2.390958796150855,
          4.953472318002583,
          -4.631310946303213,
          -4.631310946303213,
          -4.631310946303213,
          -4.631310946303213,
          1.0934051407932577,
          -4.631310946303213,
          -4.631310946303213,
          -4.604882750924732,
          3.0989402122261867,
          -9.899138398881702,
          -4.631310946303213,
          -4.631310946303213,
          -4.631310946303213,
          -4.631310946303213,
          -4.631310946303213,
          -4.631310946303213,
          4.953472318002583,
          -4.631310946303213,
          5.602567289907268,
          -4.631310946303213,
          1.0934051407932577,
          -4.631310946303213,
          -7.479424674779689,
          -4.631310946303213,
          -4.631310946303213,
          4.953472318002583,
          -4.631310946303213,
          -4.631310946303213,
          -1.685154266617983,
          -4.250137765608997,
          -4.451713811679115,
          -4.631310946303213,
          -4.631310946303213,
          -13.554664332443023,
          -4.631310946303213,
          -4.631310946303213,
          -4.06889022109711,
          -13.554664332443023,
          4.953472318002583,
          6.648290382205557,
          -4.631310946303213,
          -2.590020368002144,
          -4.631310946303213,
          -4.631310946303213,
          -4.631310946303213,
          -4.631310946303213,
          -1.685154266617983,
          -1.1652503122329572,
          4.036564781167606,
          -4.631310946303213,
          -4.631310946303213,
          -4.604882750924732,
          -4.631310946303213,
          -3.9860429272055575,
          -4.631310946303213,
          -3.9860429272055575,
          -4.631310946303213,
          -4.631310946303213,
          -3.2803265453192343,
          -4.840719512495351,
          -4.631310946303213,
          -4.631310946303213,
          -4.631310946303213,
          -4.631310946303213,
          -4.631310946303213,
          1.6891601119682909,
          -6.4195052581949135,
          -4.631310946303213,
          1.0934051407932577,
          -4.631310946303213,
          -4.631310946303213,
          -4.631310946303213,
          4.036564781167606,
          0.27306808301110763,
          1.6895864115751946,
          -0.38648024923255697,
          -4.631310946303213,
          -4.840719512495351,
          -4.631310946303213,
          -4.631310946303213,
          -2.1460559261780587,
          2.4060571049153046,
          -4.631310946303213,
          -4.631310946303213,
          -4.631310946303213,
          -4.631310946303213,
          -4.631310946303213,
          -4.631310946303213,
          -2.5457781855605432,
          -4.631310946303213,
          -4.631310946303213,
          -4.631310946303213,
          -4.631310946303213,
          -4.551593225729311,
          -4.06889022109711,
          -4.631310946303213,
          -4.631310946303213,
          -4.631310946303213,
          -4.631310946303213,
          15.011954732172184,
          -4.631310946303213,
          -3.9860429272055575,
          -4.2117061727453216,
          -4.631310946303213,
          -4.631310946303213,
          -4.631310946303213,
          -7.479424674779689,
          -4.631310946303213,
          -4.631310946303213,
          -0.6084683961703252,
          -4.631310946303213,
          0.9515193090139817,
          -4.631310946303213,
          -5.6978149385712324,
          -4.631310946303213,
          -4.631310946303213,
          -4.631310946303213,
          -4.631310946303213,
          -3.9860429272055575,
          -4.631310946303213,
          -4.631310946303213,
          4.036564781167606,
          -4.631310946303213,
          -4.631310946303213,
          -4.631310946303213,
          -4.631310946303213,
          -10.42161199052487,
          -4.631310946303213,
          2.8993272952564597,
          6.648290382205557,
          -9.82382400188354,
          -10.851025376067213,
          0.27306808301110763,
          -4.631310946303213,
          2.4060571049153046,
          -4.631310946303213,
          -4.631310946303213,
          -4.631310946303213,
          -10.851025376067213,
          -4.631310946303213,
          -4.631310946303213,
          -4.631310946303213,
          -7.654168304490804,
          -1.3638291537162561,
          -9.899138398881702,
          6.4402339096491845,
          -4.631310946303213,
          -4.631310946303213,
          -4.631310946303213,
          4.74047996272442,
          4.036564781167606,
          -6.4195052581949135,
          5.602567289907268,
          -4.631310946303213,
          -4.631310946303213,
          -4.631310946303213,
          -13.554664332443023,
          -4.631310946303213,
          -4.631310946303213,
          -10.826320763447184,
          -4.631310946303213,
          -4.631310946303213,
          4.036564781167606,
          3.3292087503968837,
          -10.851025376067213,
          0.27306808301110763,
          -4.631310946303213,
          -4.631310946303213,
          -3.9860429272055575,
          -0.8437844987385756,
          -6.624987344840749,
          -4.631310946303213,
          -1.685154266617983,
          -4.631310946303213,
          1.0934051407932577,
          -2.5457781855605432,
          -4.631310946303213,
          -4.06889022109711,
          -4.631310946303213,
          -4.604882750924732,
          -1.685154266617983,
          -4.631310946303213,
          -4.250137765608997,
          -4.631310946303213,
          -4.631310946303213,
          -4.631310946303213,
          -3.3492910197644887,
          -4.06889022109711,
          -1.685154266617983,
          -4.631310946303213,
          -4.631310946303213,
          -4.631310946303213,
          -4.631310946303213,
          -4.631310946303213,
          -4.631310946303213,
          6.648290382205557,
          -4.631310946303213,
          -4.631310946303213,
          -4.631310946303213,
          -9.109172886175031,
          2.4060571049153046,
          -4.631310946303213,
          -4.631310946303213,
          -4.631310946303213,
          -4.840719512495351,
          -4.551593225729311,
          -4.631310946303213,
          4.648599832542488,
          -4.631310946303213,
          -4.631310946303213,
          -10.851025376067213,
          -4.631310946303213,
          -4.631310946303213,
          -4.631310946303213,
          -4.631310946303213,
          -4.631310946303213,
          -4.840719512495351,
          -4.631310946303213,
          1.0934051407932577,
          6.648290382205557,
          -4.631310946303213,
          5.602567289907268,
          -4.631310946303213,
          -4.631310946303213,
          -2.617006759420959,
          -4.840719512495351,
          -4.631310946303213,
          -4.631310946303213,
          -4.631310946303213,
          -4.604882750924732,
          -3.3492910197644887,
          -3.9860429272055575,
          1.0934051407932577,
          -4.631310946303213,
          2.6632198538069973,
          -4.631310946303213,
          -4.631310946303213,
          -4.631310946303213,
          13.462285866373591,
          1.0934051407932577,
          -4.631310946303213,
          -3.3492910197644887,
          -4.631310946303213,
          5.602567289907268,
          -4.631310946303213,
          -4.631310946303213,
          -0.6532772774725526,
          -4.631310946303213,
          6.648290382205557,
          0.27306808301110763,
          -4.631310946303213,
          -4.631310946303213,
          -4.631310946303213,
          -4.631310946303213,
          -4.631310946303213,
          2.4060571049153046,
          -7.479424674779689,
          -4.631310946303213,
          -4.631310946303213,
          -4.631310946303213,
          -4.631310946303213,
          -4.631310946303213,
          2.6347781084564925,
          -4.631310946303213,
          -4.631310946303213,
          -4.06889022109711,
          5.602567289907268,
          0.06361140483119865,
          -3.9860429272055575,
          4.953472318002583,
          -2.5457781855605432,
          1.523348591214324,
          6.648290382205557,
          -6.4195052581949135,
          -4.551593225729311,
          -1.685154266617983,
          -4.631310946303213,
          -10.851025376067213,
          -0.7383882289717758,
          -4.631310946303213,
          -4.631310946303213,
          -4.250137765608997,
          -4.250137765608997,
          -4.631310946303213,
          6.648290382205557,
          -4.631310946303213,
          -4.631310946303213,
          -4.631310946303213,
          -4.631310946303213,
          2.6347781084564925,
          -4.631310946303213,
          -4.631310946303213,
          -4.631310946303213,
          -2.7099386179414098,
          -4.631310946303213,
          -4.1701014262367275,
          -4.631310946303213,
          -4.631310946303213,
          -4.631310946303213,
          -4.06889022109711,
          -4.631310946303213,
          4.526840716594149,
          -4.631310946303213,
          6.648290382205557,
          6.648290382205557,
          1.0934051407932577,
          -4.631310946303213,
          -3.2803265453192343,
          -1.685154266617983,
          -4.631310946303213,
          -4.631310946303213,
          -4.06889022109711,
          -2.5457781855605432,
          -4.631310946303213,
          -4.631310946303213,
          4.953472318002583,
          -4.631310946303213,
          -4.551593225729311,
          -4.631310946303213,
          -4.631310946303213,
          -4.631310946303213,
          -4.631310946303213,
          -13.482405552522248,
          4.953472318002583,
          -4.631310946303213,
          -7.479424674779689,
          -4.631310946303213,
          2.4060571049153046,
          -4.631310946303213,
          -4.631310946303213,
          -4.631310946303213,
          -3.2803265453192343,
          -4.631310946303213,
          -0.6084683961703252,
          -1.685154266617983,
          -4.631310946303213,
          0.27306808301110763,
          -4.631310946303213,
          5.851042314566368,
          -3.9860429272055575,
          -4.631310946303213,
          -4.631310946303213,
          -4.631310946303213,
          -10.851025376067213,
          3.2400493658041096,
          -3.3225075560748496,
          -4.631310946303213,
          0.27306808301110763,
          -4.631310946303213,
          6.44840692454125,
          -10.851025376067213,
          -4.631310946303213,
          -4.631310946303213,
          -4.631310946303213,
          -4.06889022109711,
          -4.631310946303213,
          -4.631310946303213,
          -4.631310946303213,
          -3.2803265453192343,
          -4.631310946303213,
          -4.631310946303213,
          -4.631310946303213,
          -4.631310946303213,
          -4.631310946303213,
          4.953472318002583,
          -2.617006759420959,
          -13.554664332443023,
          -3.9860429272055575,
          -4.631310946303213,
          1.0934051407932577,
          -4.631310946303213,
          -13.554664332443023,
          -4.631310946303213,
          -4.631310946303213,
          -1.207020713033391,
          -3.3492910197644887,
          -4.631310946303213,
          6.648290382205557,
          -4.631310946303213,
          -7.654168304490804,
          -4.631310946303213,
          -4.631310946303213,
          0.27306808301110763,
          -4.631310946303213,
          -4.631310946303213,
          -4.250137765608997,
          -4.631310946303213,
          -4.631310946303213,
          -3.9860429272055575,
          -9.148873680313752,
          -1.019952444261485,
          -7.654168304490804,
          -4.631310946303213,
          -4.631310946303213,
          -4.631310946303213,
          -10.851025376067213,
          1.9606624886516544,
          -4.631310946303213,
          5.602567289907268,
          1.6793712134423266,
          -4.631310946303213,
          -4.631310946303213,
          -4.631310946303213,
          1.1779080935216957,
          -3.602290714905887,
          -4.631310946303213,
          -4.631310946303213,
          1.0934051407932577,
          -2.5457781855605432,
          -4.631310946303213,
          -13.554664332443023,
          -4.631310946303213,
          -4.631310946303213,
          -4.631310946303213,
          -4.631310946303213,
          16.341347262327854,
          5.794112928900974,
          4.036564781167606,
          -3.988702378739417,
          -4.631310946303213,
          0.27306808301110763,
          -4.631310946303213,
          -4.631310946303213,
          -11.664268424341795,
          -4.631310946303213,
          -4.631310946303213,
          -4.631310946303213,
          -4.631310946303213,
          -4.631310946303213,
          -4.631310946303213,
          -4.196868359373617,
          -4.631310946303213,
          -4.06889022109711,
          -4.631310946303213,
          -4.631310946303213,
          -4.631310946303213,
          -4.840719512495351,
          -6.4195052581949135,
          6.648290382205557,
          -4.631310946303213,
          -4.631310946303213,
          -4.631310946303213,
          -4.631310946303213,
          -2.617006759420959,
          -13.554664332443023,
          -6.4195052581949135,
          -4.06889022109711,
          0.27306808301110763,
          -4.06889022109711,
          -4.631310946303213,
          -4.631310946303213,
          -3.3492910197644887,
          -4.631310946303213,
          -4.631310946303213,
          -4.604882750924732,
          -4.631310946303213,
          -4.631310946303213,
          -4.631310946303213,
          2.6347781084564925,
          -7.402087663604473,
          -4.631310946303213,
          -4.631310946303213,
          -4.631310946303213,
          -4.631310946303213,
          -7.654168304490804,
          -4.631310946303213,
          -4.840719512495351,
          -10.41200668550777,
          -4.551593225729311,
          -3.9860429272055575,
          -4.631310946303213,
          -1.685154266617983,
          4.982556610757283,
          5.851042314566368,
          -3.3492910197644887,
          -4.631310946303213,
          -4.631310946303213,
          0.27306808301110763,
          -2.617006759420959,
          -4.631310946303213,
          0.018202942603240402,
          -4.631310946303213,
          -4.631310946303213,
          -4.631310946303213,
          -4.631310946303213,
          -4.631310946303213,
          -4.631310946303213,
          4.953472318002583,
          -4.631310946303213,
          -4.631310946303213,
          -12.392599046846641,
          -4.631310946303213,
          -4.631310946303213,
          -4.631310946303213,
          -4.604882750924732,
          -4.631310946303213,
          -4.631310946303213,
          -4.631310946303213,
          5.459012915217709,
          6.648290382205557,
          0.27306808301110763,
          -11.728832360761409,
          -4.631310946303213,
          -7.654168304490804,
          -4.631310946303213,
          -4.631310946303213,
          -4.631310946303213,
          -4.631310946303213,
          -4.631310946303213,
          -4.631310946303213,
          -4.631310946303213,
          -4.631310946303213,
          -4.631310946303213,
          -4.631310946303213,
          -4.631310946303213,
          -3.2803265453192343,
          -4.631310946303213,
          5.602567289907268,
          -4.631310946303213,
          -4.631310946303213,
          -4.631310946303213,
          -4.631310946303213,
          -4.631310946303213,
          -4.631310946303213,
          2.4060571049153046,
          -3.9860429272055575,
          -4.631310946303213,
          -4.631310946303213,
          -4.840719512495351,
          -4.06889022109711,
          -8.74157798662748,
          -4.631310946303213,
          3.456846789586887,
          -4.631310946303213,
          -9.214215916760093,
          -4.631310946303213,
          -9.899138398881702,
          -4.631310946303213,
          17.83326139744159,
          -4.631310946303213,
          5.602567289907268,
          -4.631310946303213,
          1.0934051407932577,
          -4.631310946303213,
          -4.631310946303213,
          -7.654168304490804,
          -4.631310946303213,
          -4.631310946303213,
          -4.631310946303213,
          -7.479424674779689,
          -0.29243487109227306,
          2.4060571049153046,
          -4.551593225729311,
          -2.617006759420959,
          -4.631310946303213,
          -4.631310946303213,
          -4.631310946303213,
          -4.631310946303213,
          -10.454916692481476,
          -4.631310946303213,
          -4.631310946303213,
          -2.8937536991131996,
          -4.06889022109711,
          -4.631310946303213,
          2.4060571049153046,
          -10.851025376067213,
          -4.631310946303213,
          -4.604882750924732,
          -4.604882750924732,
          -4.631310946303213,
          -4.631310946303213,
          13.209435825035643,
          4.953472318002583,
          -4.631310946303213,
          1.0934051407932577,
          -4.631310946303213,
          -4.631310946303213,
          -4.631310946303213,
          -4.631310946303213,
          4.953472318002583,
          2.6347781084564925,
          -4.631310946303213,
          -7.479424674779689,
          -2.617006759420959,
          -9.899138398881702,
          -4.631310946303213,
          5.602567289907268,
          -4.631310946303213,
          -4.631310946303213,
          4.036564781167606,
          -4.604882750924732,
          -4.631310946303213,
          -3.2803265453192343,
          -3.9860429272055575,
          -4.631310946303213,
          -4.631310946303213,
          -4.631310946303213,
          1.9512259968194723,
          -4.631310946303213,
          -2.5457781855605432,
          2.4060571049153046,
          -7.479424674779689,
          -3.2803265453192343,
          -4.631310946303213,
          -4.631310946303213,
          0.27306808301110763,
          -4.631310946303213,
          -6.4195052581949135,
          -3.4927015747098222,
          -2.617006759420959,
          -4.631310946303213,
          7.369876594178448,
          -4.631310946303213,
          -4.631310946303213,
          5.602567289907268,
          1.0934051407932577,
          -4.631310946303213,
          -4.631310946303213,
          -4.631310946303213,
          -4.631310946303213,
          4.953472318002583,
          -4.631310946303213,
          -6.346005433065772,
          -4.631310946303213,
          -4.631310946303213,
          -4.631310946303213,
          -9.899138398881702,
          -13.554664332443023,
          4.036564781167606,
          2.6347781084564925,
          -4.631310946303213,
          -4.631310946303213,
          0.27306808301110763,
          -4.631310946303213,
          -4.631310946303213,
          4.036564781167606,
          -4.631310946303213,
          -4.631310946303213,
          -4.631310946303213,
          -4.631310946303213,
          -4.631310946303213,
          -13.482405552522248,
          -2.617006759420959,
          -1.685154266617983,
          -4.631310946303213,
          8.689577528263825,
          -4.631310946303213,
          6.648290382205557,
          -7.654168304490804,
          -4.631310946303213,
          -9.899138398881702,
          -4.631310946303213,
          4.036564781167606,
          -4.840719512495351,
          -4.631310946303213,
          -4.631310946303213,
          -4.631310946303213,
          0.16336309109108438,
          -6.4195052581949135,
          -7.654168304490804,
          -6.4195052581949135,
          -4.631310946303213,
          -4.551593225729311,
          -4.631310946303213,
          -3.2803265453192343,
          0.06361140483119865,
          -4.631310946303213,
          -4.631310946303213,
          -4.631310946303213,
          1.0934051407932577,
          -4.631310946303213,
          1.0934051407932577,
          -4.631310946303213,
          -8.62277757494514,
          1.863958595137838,
          1.0934051407932577,
          -9.899138398881702,
          -4.631310946303213,
          -4.631310946303213,
          -4.631310946303213,
          -10.096979980094412,
          4.953472318002583,
          -2.617006759420959,
          -4.631310946303213,
          -4.631310946303213,
          -4.631310946303213,
          -4.250137765608997,
          -4.631310946303213,
          -4.631310946303213,
          -2.7099386179414098,
          -4.631310946303213,
          -4.631310946303213,
          -4.631310946303213,
          -4.631310946303213,
          -4.631310946303213,
          -4.631310946303213,
          -10.851025376067213,
          -4.631310946303213,
          -4.631310946303213,
          -4.631310946303213,
          -4.631310946303213,
          -4.631310946303213,
          -0.430331871038403,
          -4.06889022109711,
          -4.631310946303213,
          -3.2803265453192343,
          -4.631310946303213,
          -4.631310946303213,
          -1.685154266617983,
          -4.631310946303213,
          8.689577528263825,
          -4.631310946303213,
          -4.631310946303213,
          -4.631310946303213,
          13.462285866373591,
          -4.631310946303213,
          -10.39678838055923,
          -4.631310946303213,
          -4.631310946303213,
          -4.631310946303213,
          -4.631310946303213,
          -4.631310946303213,
          -4.631310946303213,
          -4.631310946303213,
          -4.631310946303213,
          13.341463227252381,
          4.036564781167606,
          -4.631310946303213,
          -1.710045321836129,
          -4.631310946303213,
          -4.631310946303213,
          -4.1701014262367275,
          -4.631310946303213,
          -4.631310946303213,
          -4.631310946303213,
          -2.65290205109715,
          0.27306808301110763,
          9.942899715774512,
          -4.631310946303213,
          -4.631310946303213,
          5.602567289907268,
          -5.6978149385712324,
          -4.631310946303213,
          -4.631310946303213,
          -2.6259177166235492,
          1.0934051407932577,
          -3.2803265453192343,
          0.27306808301110763,
          4.953472318002583,
          -4.631310946303213,
          -13.554664332443023,
          4.036564781167606,
          -4.631310946303213,
          7.07454629978137,
          -4.631310946303213,
          2.6347781084564925,
          -4.631310946303213,
          -3.3492910197644887,
          -4.631310946303213,
          -4.631310946303213,
          -4.042306169903087,
          -4.631310946303213,
          -2.5457781855605432,
          -4.631310946303213,
          -4.631310946303213,
          -4.631310946303213,
          -4.631310946303213,
          -6.4195052581949135,
          6.648290382205557,
          -4.631310946303213,
          -4.631310946303213,
          -4.631310946303213,
          -4.631310946303213,
          -1.685154266617983,
          -4.631310946303213,
          -7.654168304490804,
          -1.685154266617983,
          -4.631310946303213,
          10.325619158830257,
          -3.3492910197644887,
          -4.631310946303213,
          -6.4195052581949135,
          3.2262938107913586,
          -4.631310946303213,
          1.0934051407932577,
          -7.479424674779689,
          -4.631310946303213,
          2.6347781084564925,
          -6.4195052581949135,
          -4.631310946303213,
          -4.631310946303213,
          -4.604882750924732,
          -9.899138398881702,
          -6.4195052581949135,
          -4.631310946303213,
          -4.551593225729311,
          -7.479424674779689,
          3.0099795188012424,
          -4.631310946303213,
          -4.631310946303213,
          5.602567289907268,
          -4.631310946303213,
          -4.631310946303213,
          2.9767903817055297,
          -7.402087663604473,
          6.648290382205557,
          -4.631310946303213,
          -4.06889022109711,
          2.181196033629562,
          -4.631310946303213,
          -4.631310946303213,
          0.27306808301110763,
          -4.631310946303213,
          -4.631310946303213,
          -4.631310946303213,
          -4.631310946303213,
          -4.631310946303213,
          -5.544498509581364,
          -9.899138398881702,
          -4.631310946303213,
          -4.631310946303213,
          -4.631310946303213,
          -4.631310946303213,
          -4.840719512495351,
          -3.9860429272055575,
          -4.631310946303213,
          4.953472318002583,
          -16.113048883551883,
          -4.631310946303213,
          -3.2803265453192343,
          -4.631310946303213,
          -4.06889022109711,
          -4.631310946303213,
          -4.631310946303213,
          -4.631310946303213,
          -4.631310946303213,
          -4.631310946303213,
          0.7995032360188947,
          -7.654168304490804,
          2.6632198538069973,
          -4.631310946303213,
          -4.631310946303213,
          3.3041266093189137,
          -4.631310946303213,
          -4.631310946303213,
          -4.631310946303213,
          -4.631310946303213,
          4.175699967058266,
          -4.631310946303213,
          -4.631310946303213,
          4.953472318002583,
          2.6347781084564925,
          -4.631310946303213,
          17.36670078466629,
          -4.631310946303213,
          -7.479424674779689,
          -7.928803056068368,
          -3.9594359176958416,
          -4.631310946303213,
          -1.685154266617983,
          -13.744479186518955,
          -4.631310946303213,
          -4.631310946303213,
          -4.06889022109711,
          2.409414816390698,
          -4.631310946303213,
          -4.460383303872706,
          -4.631310946303213,
          -4.631310946303213,
          -4.631310946303213,
          4.953472318002583,
          4.036564781167606,
          -4.631310946303213,
          -4.631310946303213,
          -3.2803265453192343,
          -4.631310946303213,
          -4.250137765608997,
          0.27306808301110763,
          -4.631310946303213,
          -6.4195052581949135,
          -4.631310946303213,
          -4.631310946303213,
          6.648290382205557,
          -4.631310946303213,
          -4.631310946303213,
          -2.5457781855605432,
          -4.631310946303213,
          -4.551593225729311,
          -4.631310946303213,
          -4.631310946303213,
          -4.631310946303213,
          -2.590020368002144,
          0.27306808301110763,
          -4.631310946303213,
          -4.631310946303213,
          -4.631310946303213,
          -4.631310946303213,
          -4.631310946303213,
          -4.631310946303213,
          -4.631310946303213,
          -4.631310946303213,
          -4.631310946303213,
          -7.479424674779689,
          -9.899138398881702,
          -2.5457781855605432,
          4.953472318002583,
          -10.136973264844462,
          -4.631310946303213,
          -4.631310946303213,
          -7.654168304490804,
          -4.631310946303213,
          8.980486679294808,
          -4.631310946303213,
          -4.631310946303213,
          -4.631310946303213,
          -3.3492910197644887,
          -4.631310946303213,
          -4.631310946303213,
          -4.604882750924732,
          -4.631310946303213,
          -4.631310946303213,
          -3.3492910197644887,
          -4.373076923202756,
          -4.631310946303213,
          -4.631310946303213,
          -4.631310946303213,
          -9.899138398881702,
          -3.9860429272055575,
          -3.2803265453192343,
          -4.631310946303213,
          -4.840719512495351,
          -4.250137765608997,
          -12.589932446907447,
          -0.6522222948931011,
          -4.631310946303213,
          1.6935274828742575,
          -4.631310946303213,
          -4.631310946303213,
          -4.631310946303213,
          4.036564781167606,
          -4.631310946303213,
          -4.631310946303213,
          6.648290382205557,
          -4.631310946303213,
          -7.654168304490804,
          -4.250137765608997,
          -4.631310946303213,
          -4.631310946303213,
          1.0934051407932577,
          6.4402339096491845,
          -4.631310946303213,
          -4.631310946303213,
          -2.5457781855605432,
          -4.631310946303213,
          -5.634739713933412,
          -4.631310946303213,
          -6.4195052581949135,
          -4.250137765608997,
          -13.554664332443023,
          -4.631310946303213,
          -2.779309798718843,
          6.648290382205557,
          -3.5240210536255367,
          -4.631310946303213,
          -4.631310946303213,
          -4.250137765608997,
          -4.631310946303213,
          -4.631310946303213,
          -4.631310946303213,
          1.0934051407932577,
          -12.217449648391131,
          -1.710045321836129,
          -4.631310946303213,
          -9.899138398881702,
          -4.631310946303213,
          2.4060571049153046,
          -4.631310946303213,
          -1.685154266617983,
          -4.631310946303213,
          -4.631310946303213,
          5.602567289907268,
          -4.631310946303213,
          9.647493555390408,
          -4.06889022109711,
          -4.631310946303213
         ],
         "y0": " ",
         "yaxis": "y"
        }
       ],
       "layout": {
        "boxmode": "group",
        "height": 600,
        "legend": {
         "title": {
          "text": "model_type"
         },
         "tracegroupgap": 0
        },
        "margin": {
         "t": 60
        },
        "template": {
         "data": {
          "bar": [
           {
            "error_x": {
             "color": "#2a3f5f"
            },
            "error_y": {
             "color": "#2a3f5f"
            },
            "marker": {
             "line": {
              "color": "#E5ECF6",
              "width": 0.5
             },
             "pattern": {
              "fillmode": "overlay",
              "size": 10,
              "solidity": 0.2
             }
            },
            "type": "bar"
           }
          ],
          "barpolar": [
           {
            "marker": {
             "line": {
              "color": "#E5ECF6",
              "width": 0.5
             },
             "pattern": {
              "fillmode": "overlay",
              "size": 10,
              "solidity": 0.2
             }
            },
            "type": "barpolar"
           }
          ],
          "carpet": [
           {
            "aaxis": {
             "endlinecolor": "#2a3f5f",
             "gridcolor": "white",
             "linecolor": "white",
             "minorgridcolor": "white",
             "startlinecolor": "#2a3f5f"
            },
            "baxis": {
             "endlinecolor": "#2a3f5f",
             "gridcolor": "white",
             "linecolor": "white",
             "minorgridcolor": "white",
             "startlinecolor": "#2a3f5f"
            },
            "type": "carpet"
           }
          ],
          "choropleth": [
           {
            "colorbar": {
             "outlinewidth": 0,
             "ticks": ""
            },
            "type": "choropleth"
           }
          ],
          "contour": [
           {
            "colorbar": {
             "outlinewidth": 0,
             "ticks": ""
            },
            "colorscale": [
             [
              0,
              "#0d0887"
             ],
             [
              0.1111111111111111,
              "#46039f"
             ],
             [
              0.2222222222222222,
              "#7201a8"
             ],
             [
              0.3333333333333333,
              "#9c179e"
             ],
             [
              0.4444444444444444,
              "#bd3786"
             ],
             [
              0.5555555555555556,
              "#d8576b"
             ],
             [
              0.6666666666666666,
              "#ed7953"
             ],
             [
              0.7777777777777778,
              "#fb9f3a"
             ],
             [
              0.8888888888888888,
              "#fdca26"
             ],
             [
              1,
              "#f0f921"
             ]
            ],
            "type": "contour"
           }
          ],
          "contourcarpet": [
           {
            "colorbar": {
             "outlinewidth": 0,
             "ticks": ""
            },
            "type": "contourcarpet"
           }
          ],
          "heatmap": [
           {
            "colorbar": {
             "outlinewidth": 0,
             "ticks": ""
            },
            "colorscale": [
             [
              0,
              "#0d0887"
             ],
             [
              0.1111111111111111,
              "#46039f"
             ],
             [
              0.2222222222222222,
              "#7201a8"
             ],
             [
              0.3333333333333333,
              "#9c179e"
             ],
             [
              0.4444444444444444,
              "#bd3786"
             ],
             [
              0.5555555555555556,
              "#d8576b"
             ],
             [
              0.6666666666666666,
              "#ed7953"
             ],
             [
              0.7777777777777778,
              "#fb9f3a"
             ],
             [
              0.8888888888888888,
              "#fdca26"
             ],
             [
              1,
              "#f0f921"
             ]
            ],
            "type": "heatmap"
           }
          ],
          "heatmapgl": [
           {
            "colorbar": {
             "outlinewidth": 0,
             "ticks": ""
            },
            "colorscale": [
             [
              0,
              "#0d0887"
             ],
             [
              0.1111111111111111,
              "#46039f"
             ],
             [
              0.2222222222222222,
              "#7201a8"
             ],
             [
              0.3333333333333333,
              "#9c179e"
             ],
             [
              0.4444444444444444,
              "#bd3786"
             ],
             [
              0.5555555555555556,
              "#d8576b"
             ],
             [
              0.6666666666666666,
              "#ed7953"
             ],
             [
              0.7777777777777778,
              "#fb9f3a"
             ],
             [
              0.8888888888888888,
              "#fdca26"
             ],
             [
              1,
              "#f0f921"
             ]
            ],
            "type": "heatmapgl"
           }
          ],
          "histogram": [
           {
            "marker": {
             "pattern": {
              "fillmode": "overlay",
              "size": 10,
              "solidity": 0.2
             }
            },
            "type": "histogram"
           }
          ],
          "histogram2d": [
           {
            "colorbar": {
             "outlinewidth": 0,
             "ticks": ""
            },
            "colorscale": [
             [
              0,
              "#0d0887"
             ],
             [
              0.1111111111111111,
              "#46039f"
             ],
             [
              0.2222222222222222,
              "#7201a8"
             ],
             [
              0.3333333333333333,
              "#9c179e"
             ],
             [
              0.4444444444444444,
              "#bd3786"
             ],
             [
              0.5555555555555556,
              "#d8576b"
             ],
             [
              0.6666666666666666,
              "#ed7953"
             ],
             [
              0.7777777777777778,
              "#fb9f3a"
             ],
             [
              0.8888888888888888,
              "#fdca26"
             ],
             [
              1,
              "#f0f921"
             ]
            ],
            "type": "histogram2d"
           }
          ],
          "histogram2dcontour": [
           {
            "colorbar": {
             "outlinewidth": 0,
             "ticks": ""
            },
            "colorscale": [
             [
              0,
              "#0d0887"
             ],
             [
              0.1111111111111111,
              "#46039f"
             ],
             [
              0.2222222222222222,
              "#7201a8"
             ],
             [
              0.3333333333333333,
              "#9c179e"
             ],
             [
              0.4444444444444444,
              "#bd3786"
             ],
             [
              0.5555555555555556,
              "#d8576b"
             ],
             [
              0.6666666666666666,
              "#ed7953"
             ],
             [
              0.7777777777777778,
              "#fb9f3a"
             ],
             [
              0.8888888888888888,
              "#fdca26"
             ],
             [
              1,
              "#f0f921"
             ]
            ],
            "type": "histogram2dcontour"
           }
          ],
          "mesh3d": [
           {
            "colorbar": {
             "outlinewidth": 0,
             "ticks": ""
            },
            "type": "mesh3d"
           }
          ],
          "parcoords": [
           {
            "line": {
             "colorbar": {
              "outlinewidth": 0,
              "ticks": ""
             }
            },
            "type": "parcoords"
           }
          ],
          "pie": [
           {
            "automargin": true,
            "type": "pie"
           }
          ],
          "scatter": [
           {
            "fillpattern": {
             "fillmode": "overlay",
             "size": 10,
             "solidity": 0.2
            },
            "type": "scatter"
           }
          ],
          "scatter3d": [
           {
            "line": {
             "colorbar": {
              "outlinewidth": 0,
              "ticks": ""
             }
            },
            "marker": {
             "colorbar": {
              "outlinewidth": 0,
              "ticks": ""
             }
            },
            "type": "scatter3d"
           }
          ],
          "scattercarpet": [
           {
            "marker": {
             "colorbar": {
              "outlinewidth": 0,
              "ticks": ""
             }
            },
            "type": "scattercarpet"
           }
          ],
          "scattergeo": [
           {
            "marker": {
             "colorbar": {
              "outlinewidth": 0,
              "ticks": ""
             }
            },
            "type": "scattergeo"
           }
          ],
          "scattergl": [
           {
            "marker": {
             "colorbar": {
              "outlinewidth": 0,
              "ticks": ""
             }
            },
            "type": "scattergl"
           }
          ],
          "scattermapbox": [
           {
            "marker": {
             "colorbar": {
              "outlinewidth": 0,
              "ticks": ""
             }
            },
            "type": "scattermapbox"
           }
          ],
          "scatterpolar": [
           {
            "marker": {
             "colorbar": {
              "outlinewidth": 0,
              "ticks": ""
             }
            },
            "type": "scatterpolar"
           }
          ],
          "scatterpolargl": [
           {
            "marker": {
             "colorbar": {
              "outlinewidth": 0,
              "ticks": ""
             }
            },
            "type": "scatterpolargl"
           }
          ],
          "scatterternary": [
           {
            "marker": {
             "colorbar": {
              "outlinewidth": 0,
              "ticks": ""
             }
            },
            "type": "scatterternary"
           }
          ],
          "surface": [
           {
            "colorbar": {
             "outlinewidth": 0,
             "ticks": ""
            },
            "colorscale": [
             [
              0,
              "#0d0887"
             ],
             [
              0.1111111111111111,
              "#46039f"
             ],
             [
              0.2222222222222222,
              "#7201a8"
             ],
             [
              0.3333333333333333,
              "#9c179e"
             ],
             [
              0.4444444444444444,
              "#bd3786"
             ],
             [
              0.5555555555555556,
              "#d8576b"
             ],
             [
              0.6666666666666666,
              "#ed7953"
             ],
             [
              0.7777777777777778,
              "#fb9f3a"
             ],
             [
              0.8888888888888888,
              "#fdca26"
             ],
             [
              1,
              "#f0f921"
             ]
            ],
            "type": "surface"
           }
          ],
          "table": [
           {
            "cells": {
             "fill": {
              "color": "#EBF0F8"
             },
             "line": {
              "color": "white"
             }
            },
            "header": {
             "fill": {
              "color": "#C8D4E3"
             },
             "line": {
              "color": "white"
             }
            },
            "type": "table"
           }
          ]
         },
         "layout": {
          "annotationdefaults": {
           "arrowcolor": "#2a3f5f",
           "arrowhead": 0,
           "arrowwidth": 1
          },
          "autotypenumbers": "strict",
          "coloraxis": {
           "colorbar": {
            "outlinewidth": 0,
            "ticks": ""
           }
          },
          "colorscale": {
           "diverging": [
            [
             0,
             "#8e0152"
            ],
            [
             0.1,
             "#c51b7d"
            ],
            [
             0.2,
             "#de77ae"
            ],
            [
             0.3,
             "#f1b6da"
            ],
            [
             0.4,
             "#fde0ef"
            ],
            [
             0.5,
             "#f7f7f7"
            ],
            [
             0.6,
             "#e6f5d0"
            ],
            [
             0.7,
             "#b8e186"
            ],
            [
             0.8,
             "#7fbc41"
            ],
            [
             0.9,
             "#4d9221"
            ],
            [
             1,
             "#276419"
            ]
           ],
           "sequential": [
            [
             0,
             "#0d0887"
            ],
            [
             0.1111111111111111,
             "#46039f"
            ],
            [
             0.2222222222222222,
             "#7201a8"
            ],
            [
             0.3333333333333333,
             "#9c179e"
            ],
            [
             0.4444444444444444,
             "#bd3786"
            ],
            [
             0.5555555555555556,
             "#d8576b"
            ],
            [
             0.6666666666666666,
             "#ed7953"
            ],
            [
             0.7777777777777778,
             "#fb9f3a"
            ],
            [
             0.8888888888888888,
             "#fdca26"
            ],
            [
             1,
             "#f0f921"
            ]
           ],
           "sequentialminus": [
            [
             0,
             "#0d0887"
            ],
            [
             0.1111111111111111,
             "#46039f"
            ],
            [
             0.2222222222222222,
             "#7201a8"
            ],
            [
             0.3333333333333333,
             "#9c179e"
            ],
            [
             0.4444444444444444,
             "#bd3786"
            ],
            [
             0.5555555555555556,
             "#d8576b"
            ],
            [
             0.6666666666666666,
             "#ed7953"
            ],
            [
             0.7777777777777778,
             "#fb9f3a"
            ],
            [
             0.8888888888888888,
             "#fdca26"
            ],
            [
             1,
             "#f0f921"
            ]
           ]
          },
          "colorway": [
           "#636efa",
           "#EF553B",
           "#00cc96",
           "#ab63fa",
           "#FFA15A",
           "#19d3f3",
           "#FF6692",
           "#B6E880",
           "#FF97FF",
           "#FECB52"
          ],
          "font": {
           "color": "#2a3f5f"
          },
          "geo": {
           "bgcolor": "white",
           "lakecolor": "white",
           "landcolor": "#E5ECF6",
           "showlakes": true,
           "showland": true,
           "subunitcolor": "white"
          },
          "hoverlabel": {
           "align": "left"
          },
          "hovermode": "closest",
          "mapbox": {
           "style": "light"
          },
          "paper_bgcolor": "white",
          "plot_bgcolor": "#E5ECF6",
          "polar": {
           "angularaxis": {
            "gridcolor": "white",
            "linecolor": "white",
            "ticks": ""
           },
           "bgcolor": "#E5ECF6",
           "radialaxis": {
            "gridcolor": "white",
            "linecolor": "white",
            "ticks": ""
           }
          },
          "scene": {
           "xaxis": {
            "backgroundcolor": "#E5ECF6",
            "gridcolor": "white",
            "gridwidth": 2,
            "linecolor": "white",
            "showbackground": true,
            "ticks": "",
            "zerolinecolor": "white"
           },
           "yaxis": {
            "backgroundcolor": "#E5ECF6",
            "gridcolor": "white",
            "gridwidth": 2,
            "linecolor": "white",
            "showbackground": true,
            "ticks": "",
            "zerolinecolor": "white"
           },
           "zaxis": {
            "backgroundcolor": "#E5ECF6",
            "gridcolor": "white",
            "gridwidth": 2,
            "linecolor": "white",
            "showbackground": true,
            "ticks": "",
            "zerolinecolor": "white"
           }
          },
          "shapedefaults": {
           "line": {
            "color": "#2a3f5f"
           }
          },
          "ternary": {
           "aaxis": {
            "gridcolor": "white",
            "linecolor": "white",
            "ticks": ""
           },
           "baxis": {
            "gridcolor": "white",
            "linecolor": "white",
            "ticks": ""
           },
           "bgcolor": "#E5ECF6",
           "caxis": {
            "gridcolor": "white",
            "linecolor": "white",
            "ticks": ""
           }
          },
          "title": {
           "x": 0.05
          },
          "xaxis": {
           "automargin": true,
           "gridcolor": "white",
           "linecolor": "white",
           "ticks": "",
           "title": {
            "standoff": 15
           },
           "zerolinecolor": "white",
           "zerolinewidth": 2
          },
          "yaxis": {
           "automargin": true,
           "gridcolor": "white",
           "linecolor": "white",
           "ticks": "",
           "title": {
            "standoff": 15
           },
           "zerolinecolor": "white",
           "zerolinewidth": 2
          }
         }
        },
        "width": 800,
        "xaxis": {
         "anchor": "y",
         "domain": [
          0,
          1
         ]
        },
        "yaxis": {
         "anchor": "x",
         "domain": [
          0,
          1
         ],
         "title": {
          "text": "fmt_total_profit_percentage"
         }
        }
       }
      }
     },
     "metadata": {},
     "output_type": "display_data"
    }
   ],
   "source": [
    "fig = px.box(df_trader_results, y=\"fmt_total_profit_percentage\", color=\"model_type\", points=\"all\", color_discrete_sequence=[ \"#FF7F0E\", \"#00CC96\", \"#10aded\", \"#8A56EF\"],  width=800, height=600)\n",
    "fig.show()"
   ]
  },
  {
   "cell_type": "code",
   "execution_count": 25,
   "metadata": {},
   "outputs": [
    {
     "data": {
      "application/vnd.plotly.v1+json": {
       "config": {
        "plotlyServerURL": "https://plot.ly"
       },
       "data": [
        {
         "alignmentgroup": "True",
         "bingroup": "x",
         "hovertemplate": "model_type=DQN<br>fmt_total_profit_percentage=%{x}<br>count=%{y}<extra></extra>",
         "legendgroup": "DQN",
         "marker": {
          "color": "#FF7F0E",
          "pattern": {
           "shape": ""
          }
         },
         "name": "DQN",
         "offsetgroup": "DQN",
         "orientation": "v",
         "showlegend": true,
         "type": "histogram",
         "x": [
          -3.2803265453192343,
          -4.551593225729311,
          -7.654168304490804,
          2.4060571049153046,
          4.036564781167606,
          -4.631310946303213,
          -4.631310946303213,
          -4.631310946303213,
          4.036564781167606,
          18.092566577058,
          1.0934051407932577,
          -4.631310946303213,
          2.4060571049153046,
          2.390958796150855,
          4.953472318002583,
          -4.631310946303213,
          -4.631310946303213,
          -4.631310946303213,
          -4.631310946303213,
          1.0934051407932577,
          -4.631310946303213,
          -4.631310946303213,
          -4.604882750924732,
          3.0989402122261867,
          -9.899138398881702,
          -4.631310946303213,
          -4.631310946303213,
          -4.631310946303213,
          -4.631310946303213,
          -4.631310946303213,
          -4.631310946303213,
          4.953472318002583,
          -4.631310946303213,
          5.602567289907268,
          -4.631310946303213,
          1.0934051407932577,
          -4.631310946303213,
          -7.479424674779689,
          -4.631310946303213,
          -4.631310946303213,
          4.953472318002583,
          -4.631310946303213,
          -4.631310946303213,
          -1.685154266617983,
          -4.250137765608997,
          -4.451713811679115,
          -4.631310946303213,
          -4.631310946303213,
          -13.554664332443023,
          -4.631310946303213,
          -4.631310946303213,
          -4.06889022109711,
          -13.554664332443023,
          4.953472318002583,
          6.648290382205557,
          -4.631310946303213,
          -2.590020368002144,
          -4.631310946303213,
          -4.631310946303213,
          -4.631310946303213,
          -4.631310946303213,
          -1.685154266617983,
          -1.1652503122329572,
          4.036564781167606,
          -4.631310946303213,
          -4.631310946303213,
          -4.604882750924732,
          -4.631310946303213,
          -3.9860429272055575,
          -4.631310946303213,
          -3.9860429272055575,
          -4.631310946303213,
          -4.631310946303213,
          -3.2803265453192343,
          -4.840719512495351,
          -4.631310946303213,
          -4.631310946303213,
          -4.631310946303213,
          -4.631310946303213,
          -4.631310946303213,
          1.6891601119682909,
          -6.4195052581949135,
          -4.631310946303213,
          1.0934051407932577,
          -4.631310946303213,
          -4.631310946303213,
          -4.631310946303213,
          4.036564781167606,
          0.27306808301110763,
          1.6895864115751946,
          -0.38648024923255697,
          -4.631310946303213,
          -4.840719512495351,
          -4.631310946303213,
          -4.631310946303213,
          -2.1460559261780587,
          2.4060571049153046,
          -4.631310946303213,
          -4.631310946303213,
          -4.631310946303213,
          -4.631310946303213,
          -4.631310946303213,
          -4.631310946303213,
          -2.5457781855605432,
          -4.631310946303213,
          -4.631310946303213,
          -4.631310946303213,
          -4.631310946303213,
          -4.551593225729311,
          -4.06889022109711,
          -4.631310946303213,
          -4.631310946303213,
          -4.631310946303213,
          -4.631310946303213,
          15.011954732172184,
          -4.631310946303213,
          -3.9860429272055575,
          -4.2117061727453216,
          -4.631310946303213,
          -4.631310946303213,
          -4.631310946303213,
          -7.479424674779689,
          -4.631310946303213,
          -4.631310946303213,
          -0.6084683961703252,
          -4.631310946303213,
          0.9515193090139817,
          -4.631310946303213,
          -5.6978149385712324,
          -4.631310946303213,
          -4.631310946303213,
          -4.631310946303213,
          -4.631310946303213,
          -3.9860429272055575,
          -4.631310946303213,
          -4.631310946303213,
          4.036564781167606,
          -4.631310946303213,
          -4.631310946303213,
          -4.631310946303213,
          -4.631310946303213,
          -10.42161199052487,
          -4.631310946303213,
          2.8993272952564597,
          6.648290382205557,
          -9.82382400188354,
          -10.851025376067213,
          0.27306808301110763,
          -4.631310946303213,
          2.4060571049153046,
          -4.631310946303213,
          -4.631310946303213,
          -4.631310946303213,
          -10.851025376067213,
          -4.631310946303213,
          -4.631310946303213,
          -4.631310946303213,
          -7.654168304490804,
          -1.3638291537162561,
          -9.899138398881702,
          6.4402339096491845,
          -4.631310946303213,
          -4.631310946303213,
          -4.631310946303213,
          4.74047996272442,
          4.036564781167606,
          -6.4195052581949135,
          5.602567289907268,
          -4.631310946303213,
          -4.631310946303213,
          -4.631310946303213,
          -13.554664332443023,
          -4.631310946303213,
          -4.631310946303213,
          -10.826320763447184,
          -4.631310946303213,
          -4.631310946303213,
          4.036564781167606,
          3.3292087503968837,
          -10.851025376067213,
          0.27306808301110763,
          -4.631310946303213,
          -4.631310946303213,
          -3.9860429272055575,
          -0.8437844987385756,
          -6.624987344840749,
          -4.631310946303213,
          -1.685154266617983,
          -4.631310946303213,
          1.0934051407932577,
          -2.5457781855605432,
          -4.631310946303213,
          -4.06889022109711,
          -4.631310946303213,
          -4.604882750924732,
          -1.685154266617983,
          -4.631310946303213,
          -4.250137765608997,
          -4.631310946303213,
          -4.631310946303213,
          -4.631310946303213,
          -3.3492910197644887,
          -4.06889022109711,
          -1.685154266617983,
          -4.631310946303213,
          -4.631310946303213,
          -4.631310946303213,
          -4.631310946303213,
          -4.631310946303213,
          -4.631310946303213,
          6.648290382205557,
          -4.631310946303213,
          -4.631310946303213,
          -4.631310946303213,
          -9.109172886175031,
          2.4060571049153046,
          -4.631310946303213,
          -4.631310946303213,
          -4.631310946303213,
          -4.840719512495351,
          -4.551593225729311,
          -4.631310946303213,
          4.648599832542488,
          -4.631310946303213,
          -4.631310946303213,
          -10.851025376067213,
          -4.631310946303213,
          -4.631310946303213,
          -4.631310946303213,
          -4.631310946303213,
          -4.631310946303213,
          -4.840719512495351,
          -4.631310946303213,
          1.0934051407932577,
          6.648290382205557,
          -4.631310946303213,
          5.602567289907268,
          -4.631310946303213,
          -4.631310946303213,
          -2.617006759420959,
          -4.840719512495351,
          -4.631310946303213,
          -4.631310946303213,
          -4.631310946303213,
          -4.604882750924732,
          -3.3492910197644887,
          -3.9860429272055575,
          1.0934051407932577,
          -4.631310946303213,
          2.6632198538069973,
          -4.631310946303213,
          -4.631310946303213,
          -4.631310946303213,
          13.462285866373591,
          1.0934051407932577,
          -4.631310946303213,
          -3.3492910197644887,
          -4.631310946303213,
          5.602567289907268,
          -4.631310946303213,
          -4.631310946303213,
          -0.6532772774725526,
          -4.631310946303213,
          6.648290382205557,
          0.27306808301110763,
          -4.631310946303213,
          -4.631310946303213,
          -4.631310946303213,
          -4.631310946303213,
          -4.631310946303213,
          2.4060571049153046,
          -7.479424674779689,
          -4.631310946303213,
          -4.631310946303213,
          -4.631310946303213,
          -4.631310946303213,
          -4.631310946303213,
          2.6347781084564925,
          -4.631310946303213,
          -4.631310946303213,
          -4.06889022109711,
          5.602567289907268,
          0.06361140483119865,
          -3.9860429272055575,
          4.953472318002583,
          -2.5457781855605432,
          1.523348591214324,
          6.648290382205557,
          -6.4195052581949135,
          -4.551593225729311,
          -1.685154266617983,
          -4.631310946303213,
          -10.851025376067213,
          -0.7383882289717758,
          -4.631310946303213,
          -4.631310946303213,
          -4.250137765608997,
          -4.250137765608997,
          -4.631310946303213,
          6.648290382205557,
          -4.631310946303213,
          -4.631310946303213,
          -4.631310946303213,
          -4.631310946303213,
          2.6347781084564925,
          -4.631310946303213,
          -4.631310946303213,
          -4.631310946303213,
          -2.7099386179414098,
          -4.631310946303213,
          -4.1701014262367275,
          -4.631310946303213,
          -4.631310946303213,
          -4.631310946303213,
          -4.06889022109711,
          -4.631310946303213,
          4.526840716594149,
          -4.631310946303213,
          6.648290382205557,
          6.648290382205557,
          1.0934051407932577,
          -4.631310946303213,
          -3.2803265453192343,
          -1.685154266617983,
          -4.631310946303213,
          -4.631310946303213,
          -4.06889022109711,
          -2.5457781855605432,
          -4.631310946303213,
          -4.631310946303213,
          4.953472318002583,
          -4.631310946303213,
          -4.551593225729311,
          -4.631310946303213,
          -4.631310946303213,
          -4.631310946303213,
          -4.631310946303213,
          -13.482405552522248,
          4.953472318002583,
          -4.631310946303213,
          -7.479424674779689,
          -4.631310946303213,
          2.4060571049153046,
          -4.631310946303213,
          -4.631310946303213,
          -4.631310946303213,
          -3.2803265453192343,
          -4.631310946303213,
          -0.6084683961703252,
          -1.685154266617983,
          -4.631310946303213,
          0.27306808301110763,
          -4.631310946303213,
          5.851042314566368,
          -3.9860429272055575,
          -4.631310946303213,
          -4.631310946303213,
          -4.631310946303213,
          -10.851025376067213,
          3.2400493658041096,
          -3.3225075560748496,
          -4.631310946303213,
          0.27306808301110763,
          -4.631310946303213,
          6.44840692454125,
          -10.851025376067213,
          -4.631310946303213,
          -4.631310946303213,
          -4.631310946303213,
          -4.06889022109711,
          -4.631310946303213,
          -4.631310946303213,
          -4.631310946303213,
          -3.2803265453192343,
          -4.631310946303213,
          -4.631310946303213,
          -4.631310946303213,
          -4.631310946303213,
          -4.631310946303213,
          4.953472318002583,
          -2.617006759420959,
          -13.554664332443023,
          -3.9860429272055575,
          -4.631310946303213,
          1.0934051407932577,
          -4.631310946303213,
          -13.554664332443023,
          -4.631310946303213,
          -4.631310946303213,
          -1.207020713033391,
          -3.3492910197644887,
          -4.631310946303213,
          6.648290382205557,
          -4.631310946303213,
          -7.654168304490804,
          -4.631310946303213,
          -4.631310946303213,
          0.27306808301110763,
          -4.631310946303213,
          -4.631310946303213,
          -4.250137765608997,
          -4.631310946303213,
          -4.631310946303213,
          -3.9860429272055575,
          -9.148873680313752,
          -1.019952444261485,
          -7.654168304490804,
          -4.631310946303213,
          -4.631310946303213,
          -4.631310946303213,
          -10.851025376067213,
          1.9606624886516544,
          -4.631310946303213,
          5.602567289907268,
          1.6793712134423266,
          -4.631310946303213,
          -4.631310946303213,
          -4.631310946303213,
          1.1779080935216957,
          -3.602290714905887,
          -4.631310946303213,
          -4.631310946303213,
          1.0934051407932577,
          -2.5457781855605432,
          -4.631310946303213,
          -13.554664332443023,
          -4.631310946303213,
          -4.631310946303213,
          -4.631310946303213,
          -4.631310946303213,
          16.341347262327854,
          5.794112928900974,
          4.036564781167606,
          -3.988702378739417,
          -4.631310946303213,
          0.27306808301110763,
          -4.631310946303213,
          -4.631310946303213,
          -11.664268424341795,
          -4.631310946303213,
          -4.631310946303213,
          -4.631310946303213,
          -4.631310946303213,
          -4.631310946303213,
          -4.631310946303213,
          -4.196868359373617,
          -4.631310946303213,
          -4.06889022109711,
          -4.631310946303213,
          -4.631310946303213,
          -4.631310946303213,
          -4.840719512495351,
          -6.4195052581949135,
          6.648290382205557,
          -4.631310946303213,
          -4.631310946303213,
          -4.631310946303213,
          -4.631310946303213,
          -2.617006759420959,
          -13.554664332443023,
          -6.4195052581949135,
          -4.06889022109711,
          0.27306808301110763,
          -4.06889022109711,
          -4.631310946303213,
          -4.631310946303213,
          -3.3492910197644887,
          -4.631310946303213,
          -4.631310946303213,
          -4.604882750924732,
          -4.631310946303213,
          -4.631310946303213,
          -4.631310946303213,
          2.6347781084564925,
          -7.402087663604473,
          -4.631310946303213,
          -4.631310946303213,
          -4.631310946303213,
          -4.631310946303213,
          -7.654168304490804,
          -4.631310946303213,
          -4.840719512495351,
          -10.41200668550777,
          -4.551593225729311,
          -3.9860429272055575,
          -4.631310946303213,
          -1.685154266617983,
          4.982556610757283,
          5.851042314566368,
          -3.3492910197644887,
          -4.631310946303213,
          -4.631310946303213,
          0.27306808301110763,
          -2.617006759420959,
          -4.631310946303213,
          0.018202942603240402,
          -4.631310946303213,
          -4.631310946303213,
          -4.631310946303213,
          -4.631310946303213,
          -4.631310946303213,
          -4.631310946303213,
          4.953472318002583,
          -4.631310946303213,
          -4.631310946303213,
          -12.392599046846641,
          -4.631310946303213,
          -4.631310946303213,
          -4.631310946303213,
          -4.604882750924732,
          -4.631310946303213,
          -4.631310946303213,
          -4.631310946303213,
          5.459012915217709,
          6.648290382205557,
          0.27306808301110763,
          -11.728832360761409,
          -4.631310946303213,
          -7.654168304490804,
          -4.631310946303213,
          -4.631310946303213,
          -4.631310946303213,
          -4.631310946303213,
          -4.631310946303213,
          -4.631310946303213,
          -4.631310946303213,
          -4.631310946303213,
          -4.631310946303213,
          -4.631310946303213,
          -4.631310946303213,
          -3.2803265453192343,
          -4.631310946303213,
          5.602567289907268,
          -4.631310946303213,
          -4.631310946303213,
          -4.631310946303213,
          -4.631310946303213,
          -4.631310946303213,
          -4.631310946303213,
          2.4060571049153046,
          -3.9860429272055575,
          -4.631310946303213,
          -4.631310946303213,
          -4.840719512495351,
          -4.06889022109711,
          -8.74157798662748,
          -4.631310946303213,
          3.456846789586887,
          -4.631310946303213,
          -9.214215916760093,
          -4.631310946303213,
          -9.899138398881702,
          -4.631310946303213,
          17.83326139744159,
          -4.631310946303213,
          5.602567289907268,
          -4.631310946303213,
          1.0934051407932577,
          -4.631310946303213,
          -4.631310946303213,
          -7.654168304490804,
          -4.631310946303213,
          -4.631310946303213,
          -4.631310946303213,
          -7.479424674779689,
          -0.29243487109227306,
          2.4060571049153046,
          -4.551593225729311,
          -2.617006759420959,
          -4.631310946303213,
          -4.631310946303213,
          -4.631310946303213,
          -4.631310946303213,
          -10.454916692481476,
          -4.631310946303213,
          -4.631310946303213,
          -2.8937536991131996,
          -4.06889022109711,
          -4.631310946303213,
          2.4060571049153046,
          -10.851025376067213,
          -4.631310946303213,
          -4.604882750924732,
          -4.604882750924732,
          -4.631310946303213,
          -4.631310946303213,
          13.209435825035643,
          4.953472318002583,
          -4.631310946303213,
          1.0934051407932577,
          -4.631310946303213,
          -4.631310946303213,
          -4.631310946303213,
          -4.631310946303213,
          4.953472318002583,
          2.6347781084564925,
          -4.631310946303213,
          -7.479424674779689,
          -2.617006759420959,
          -9.899138398881702,
          -4.631310946303213,
          5.602567289907268,
          -4.631310946303213,
          -4.631310946303213,
          4.036564781167606,
          -4.604882750924732,
          -4.631310946303213,
          -3.2803265453192343,
          -3.9860429272055575,
          -4.631310946303213,
          -4.631310946303213,
          -4.631310946303213,
          1.9512259968194723,
          -4.631310946303213,
          -2.5457781855605432,
          2.4060571049153046,
          -7.479424674779689,
          -3.2803265453192343,
          -4.631310946303213,
          -4.631310946303213,
          0.27306808301110763,
          -4.631310946303213,
          -6.4195052581949135,
          -3.4927015747098222,
          -2.617006759420959,
          -4.631310946303213,
          7.369876594178448,
          -4.631310946303213,
          -4.631310946303213,
          5.602567289907268,
          1.0934051407932577,
          -4.631310946303213,
          -4.631310946303213,
          -4.631310946303213,
          -4.631310946303213,
          4.953472318002583,
          -4.631310946303213,
          -6.346005433065772,
          -4.631310946303213,
          -4.631310946303213,
          -4.631310946303213,
          -9.899138398881702,
          -13.554664332443023,
          4.036564781167606,
          2.6347781084564925,
          -4.631310946303213,
          -4.631310946303213,
          0.27306808301110763,
          -4.631310946303213,
          -4.631310946303213,
          4.036564781167606,
          -4.631310946303213,
          -4.631310946303213,
          -4.631310946303213,
          -4.631310946303213,
          -4.631310946303213,
          -13.482405552522248,
          -2.617006759420959,
          -1.685154266617983,
          -4.631310946303213,
          8.689577528263825,
          -4.631310946303213,
          6.648290382205557,
          -7.654168304490804,
          -4.631310946303213,
          -9.899138398881702,
          -4.631310946303213,
          4.036564781167606,
          -4.840719512495351,
          -4.631310946303213,
          -4.631310946303213,
          -4.631310946303213,
          0.16336309109108438,
          -6.4195052581949135,
          -7.654168304490804,
          -6.4195052581949135,
          -4.631310946303213,
          -4.551593225729311,
          -4.631310946303213,
          -3.2803265453192343,
          0.06361140483119865,
          -4.631310946303213,
          -4.631310946303213,
          -4.631310946303213,
          1.0934051407932577,
          -4.631310946303213,
          1.0934051407932577,
          -4.631310946303213,
          -8.62277757494514,
          1.863958595137838,
          1.0934051407932577,
          -9.899138398881702,
          -4.631310946303213,
          -4.631310946303213,
          -4.631310946303213,
          -10.096979980094412,
          4.953472318002583,
          -2.617006759420959,
          -4.631310946303213,
          -4.631310946303213,
          -4.631310946303213,
          -4.250137765608997,
          -4.631310946303213,
          -4.631310946303213,
          -2.7099386179414098,
          -4.631310946303213,
          -4.631310946303213,
          -4.631310946303213,
          -4.631310946303213,
          -4.631310946303213,
          -4.631310946303213,
          -10.851025376067213,
          -4.631310946303213,
          -4.631310946303213,
          -4.631310946303213,
          -4.631310946303213,
          -4.631310946303213,
          -0.430331871038403,
          -4.06889022109711,
          -4.631310946303213,
          -3.2803265453192343,
          -4.631310946303213,
          -4.631310946303213,
          -1.685154266617983,
          -4.631310946303213,
          8.689577528263825,
          -4.631310946303213,
          -4.631310946303213,
          -4.631310946303213,
          13.462285866373591,
          -4.631310946303213,
          -10.39678838055923,
          -4.631310946303213,
          -4.631310946303213,
          -4.631310946303213,
          -4.631310946303213,
          -4.631310946303213,
          -4.631310946303213,
          -4.631310946303213,
          -4.631310946303213,
          13.341463227252381,
          4.036564781167606,
          -4.631310946303213,
          -1.710045321836129,
          -4.631310946303213,
          -4.631310946303213,
          -4.1701014262367275,
          -4.631310946303213,
          -4.631310946303213,
          -4.631310946303213,
          -2.65290205109715,
          0.27306808301110763,
          9.942899715774512,
          -4.631310946303213,
          -4.631310946303213,
          5.602567289907268,
          -5.6978149385712324,
          -4.631310946303213,
          -4.631310946303213,
          -2.6259177166235492,
          1.0934051407932577,
          -3.2803265453192343,
          0.27306808301110763,
          4.953472318002583,
          -4.631310946303213,
          -13.554664332443023,
          4.036564781167606,
          -4.631310946303213,
          7.07454629978137,
          -4.631310946303213,
          2.6347781084564925,
          -4.631310946303213,
          -3.3492910197644887,
          -4.631310946303213,
          -4.631310946303213,
          -4.042306169903087,
          -4.631310946303213,
          -2.5457781855605432,
          -4.631310946303213,
          -4.631310946303213,
          -4.631310946303213,
          -4.631310946303213,
          -6.4195052581949135,
          6.648290382205557,
          -4.631310946303213,
          -4.631310946303213,
          -4.631310946303213,
          -4.631310946303213,
          -1.685154266617983,
          -4.631310946303213,
          -7.654168304490804,
          -1.685154266617983,
          -4.631310946303213,
          10.325619158830257,
          -3.3492910197644887,
          -4.631310946303213,
          -6.4195052581949135,
          3.2262938107913586,
          -4.631310946303213,
          1.0934051407932577,
          -7.479424674779689,
          -4.631310946303213,
          2.6347781084564925,
          -6.4195052581949135,
          -4.631310946303213,
          -4.631310946303213,
          -4.604882750924732,
          -9.899138398881702,
          -6.4195052581949135,
          -4.631310946303213,
          -4.551593225729311,
          -7.479424674779689,
          3.0099795188012424,
          -4.631310946303213,
          -4.631310946303213,
          5.602567289907268,
          -4.631310946303213,
          -4.631310946303213,
          2.9767903817055297,
          -7.402087663604473,
          6.648290382205557,
          -4.631310946303213,
          -4.06889022109711,
          2.181196033629562,
          -4.631310946303213,
          -4.631310946303213,
          0.27306808301110763,
          -4.631310946303213,
          -4.631310946303213,
          -4.631310946303213,
          -4.631310946303213,
          -4.631310946303213,
          -5.544498509581364,
          -9.899138398881702,
          -4.631310946303213,
          -4.631310946303213,
          -4.631310946303213,
          -4.631310946303213,
          -4.840719512495351,
          -3.9860429272055575,
          -4.631310946303213,
          4.953472318002583,
          -16.113048883551883,
          -4.631310946303213,
          -3.2803265453192343,
          -4.631310946303213,
          -4.06889022109711,
          -4.631310946303213,
          -4.631310946303213,
          -4.631310946303213,
          -4.631310946303213,
          -4.631310946303213,
          0.7995032360188947,
          -7.654168304490804,
          2.6632198538069973,
          -4.631310946303213,
          -4.631310946303213,
          3.3041266093189137,
          -4.631310946303213,
          -4.631310946303213,
          -4.631310946303213,
          -4.631310946303213,
          4.175699967058266,
          -4.631310946303213,
          -4.631310946303213,
          4.953472318002583,
          2.6347781084564925,
          -4.631310946303213,
          17.36670078466629,
          -4.631310946303213,
          -7.479424674779689,
          -7.928803056068368,
          -3.9594359176958416,
          -4.631310946303213,
          -1.685154266617983,
          -13.744479186518955,
          -4.631310946303213,
          -4.631310946303213,
          -4.06889022109711,
          2.409414816390698,
          -4.631310946303213,
          -4.460383303872706,
          -4.631310946303213,
          -4.631310946303213,
          -4.631310946303213,
          4.953472318002583,
          4.036564781167606,
          -4.631310946303213,
          -4.631310946303213,
          -3.2803265453192343,
          -4.631310946303213,
          -4.250137765608997,
          0.27306808301110763,
          -4.631310946303213,
          -6.4195052581949135,
          -4.631310946303213,
          -4.631310946303213,
          6.648290382205557,
          -4.631310946303213,
          -4.631310946303213,
          -2.5457781855605432,
          -4.631310946303213,
          -4.551593225729311,
          -4.631310946303213,
          -4.631310946303213,
          -4.631310946303213,
          -2.590020368002144,
          0.27306808301110763,
          -4.631310946303213,
          -4.631310946303213,
          -4.631310946303213,
          -4.631310946303213,
          -4.631310946303213,
          -4.631310946303213,
          -4.631310946303213,
          -4.631310946303213,
          -4.631310946303213,
          -7.479424674779689,
          -9.899138398881702,
          -2.5457781855605432,
          4.953472318002583,
          -10.136973264844462,
          -4.631310946303213,
          -4.631310946303213,
          -7.654168304490804,
          -4.631310946303213,
          8.980486679294808,
          -4.631310946303213,
          -4.631310946303213,
          -4.631310946303213,
          -3.3492910197644887,
          -4.631310946303213,
          -4.631310946303213,
          -4.604882750924732,
          -4.631310946303213,
          -4.631310946303213,
          -3.3492910197644887,
          -4.373076923202756,
          -4.631310946303213,
          -4.631310946303213,
          -4.631310946303213,
          -9.899138398881702,
          -3.9860429272055575,
          -3.2803265453192343,
          -4.631310946303213,
          -4.840719512495351,
          -4.250137765608997,
          -12.589932446907447,
          -0.6522222948931011,
          -4.631310946303213,
          1.6935274828742575,
          -4.631310946303213,
          -4.631310946303213,
          -4.631310946303213,
          4.036564781167606,
          -4.631310946303213,
          -4.631310946303213,
          6.648290382205557,
          -4.631310946303213,
          -7.654168304490804,
          -4.250137765608997,
          -4.631310946303213,
          -4.631310946303213,
          1.0934051407932577,
          6.4402339096491845,
          -4.631310946303213,
          -4.631310946303213,
          -2.5457781855605432,
          -4.631310946303213,
          -5.634739713933412,
          -4.631310946303213,
          -6.4195052581949135,
          -4.250137765608997,
          -13.554664332443023,
          -4.631310946303213,
          -2.779309798718843,
          6.648290382205557,
          -3.5240210536255367,
          -4.631310946303213,
          -4.631310946303213,
          -4.250137765608997,
          -4.631310946303213,
          -4.631310946303213,
          -4.631310946303213,
          1.0934051407932577,
          -12.217449648391131,
          -1.710045321836129,
          -4.631310946303213,
          -9.899138398881702,
          -4.631310946303213,
          2.4060571049153046,
          -4.631310946303213,
          -1.685154266617983,
          -4.631310946303213,
          -4.631310946303213,
          5.602567289907268,
          -4.631310946303213,
          9.647493555390408,
          -4.06889022109711,
          -4.631310946303213
         ],
         "xaxis": "x",
         "yaxis": "y"
        },
        {
         "alignmentgroup": "True",
         "boxpoints": "all",
         "customdata": [
          [
           -778.0099999999948,
           6,
           1
          ],
          [
           -1001.4499999999971,
           4,
           2
          ],
          [
           -1687.1799999999967,
           8,
           3
          ],
          [
           528.7800000000025,
           8,
           4
          ],
          [
           888.6899999999987,
           8,
           5
          ],
          [
           -1015.6100000000006,
           6,
           6
          ],
          [
           -1015.6100000000006,
           6,
           7
          ],
          [
           -1015.6100000000006,
           6,
           8
          ],
          [
           888.6899999999987,
           8,
           9
          ],
          [
           3396.260000000002,
           8,
           10
          ],
          [
           234.3100000000013,
           8,
           11
          ],
          [
           -1015.6100000000006,
           6,
           12
          ],
          [
           528.7800000000025,
           8,
           13
          ],
          [
           359.65999999999985,
           8,
           14
          ],
          [
           1090.4099999999999,
           7,
           15
          ],
          [
           -1015.6100000000006,
           6,
           16
          ],
          [
           -1015.6100000000006,
           6,
           17
          ],
          [
           -1015.6100000000006,
           6,
           18
          ],
          [
           -1015.6100000000006,
           6,
           19
          ],
          [
           234.3100000000013,
           8,
           20
          ],
          [
           -1015.6100000000006,
           6,
           21
          ],
          [
           -1015.6100000000006,
           6,
           22
          ],
          [
           -1010.989999999998,
           8,
           23
          ],
          [
           641.0200000000004,
           8,
           24
          ],
          [
           -2020.8099999999977,
           8,
           25
          ],
          [
           -1015.6100000000006,
           6,
           26
          ],
          [
           -1015.6100000000006,
           6,
           27
          ],
          [
           -1015.6100000000006,
           6,
           28
          ],
          [
           -1015.6100000000006,
           6,
           29
          ],
          [
           -1015.6100000000006,
           6,
           30
          ],
          [
           -1015.6100000000006,
           6,
           31
          ],
          [
           1090.4099999999999,
           7,
           32
          ],
          [
           -1015.6100000000006,
           6,
           33
          ],
          [
           1229.4800000000032,
           8,
           34
          ],
          [
           -1015.6100000000006,
           6,
           35
          ],
          [
           234.3100000000013,
           8,
           36
          ],
          [
           -1015.6100000000006,
           6,
           37
          ],
          [
           -1540.4100000000035,
           6,
           38
          ],
          [
           -1015.6100000000006,
           6,
           39
          ],
          [
           -1015.6100000000006,
           6,
           40
          ],
          [
           1090.4099999999999,
           7,
           41
          ],
          [
           -1015.6100000000006,
           6,
           42
          ],
          [
           -1015.6100000000006,
           6,
           43
          ],
          [
           -378.3799999999974,
           8,
           44
          ],
          [
           -932.1900000000023,
           6,
           45
          ],
          [
           -1063.3399999999965,
           8,
           46
          ],
          [
           -1015.6100000000006,
           6,
           47
          ],
          [
           -1015.6100000000006,
           6,
           48
          ],
          [
           -2822.3300000000017,
           6,
           49
          ],
          [
           -1015.6100000000006,
           6,
           50
          ],
          [
           -1015.6100000000006,
           6,
           51
          ],
          [
           -914.7500000000073,
           6,
           52
          ],
          [
           -2822.3300000000017,
           6,
           53
          ],
          [
           1090.4099999999999,
           7,
           54
          ],
          [
           1151.1699999999983,
           6,
           55
          ],
          [
           -1015.6100000000006,
           6,
           56
          ],
          [
           -660.6299999999974,
           8,
           57
          ],
          [
           -1015.6100000000006,
           6,
           58
          ],
          [
           -1015.6100000000006,
           6,
           59
          ],
          [
           -1015.6100000000006,
           6,
           60
          ],
          [
           -1015.6100000000006,
           6,
           61
          ],
          [
           -378.3799999999974,
           8,
           62
          ],
          [
           -409.4899999999907,
           6,
           63
          ],
          [
           888.6899999999987,
           8,
           64
          ],
          [
           -1015.6100000000006,
           6,
           65
          ],
          [
           -1015.6100000000006,
           6,
           66
          ],
          [
           -1010.989999999998,
           8,
           67
          ],
          [
           -1015.6100000000006,
           6,
           68
          ],
          [
           -903.3700000000026,
           6,
           69
          ],
          [
           -1015.6100000000006,
           6,
           70
          ],
          [
           -903.3700000000026,
           6,
           71
          ],
          [
           -1015.6100000000006,
           6,
           72
          ],
          [
           -1015.6100000000006,
           6,
           73
          ],
          [
           -778.0099999999948,
           6,
           74
          ],
          [
           -1052.6300000000047,
           8,
           75
          ],
          [
           -1015.6100000000006,
           6,
           76
          ],
          [
           -1015.6100000000006,
           6,
           77
          ],
          [
           -1015.6100000000006,
           6,
           78
          ],
          [
           -1015.6100000000006,
           6,
           79
          ],
          [
           -1015.6100000000006,
           6,
           80
          ],
          [
           441.24000000000524,
           10,
           81
          ],
          [
           -1413.1800000000003,
           8,
           82
          ],
          [
           -1015.6100000000006,
           6,
           83
          ],
          [
           234.3100000000013,
           8,
           84
          ],
          [
           -1015.6100000000006,
           6,
           85
          ],
          [
           -1015.6100000000006,
           6,
           86
          ],
          [
           -1015.6100000000006,
           6,
           87
          ],
          [
           888.6899999999987,
           8,
           88
          ],
          [
           9.299999999999272,
           6,
           89
          ],
          [
           335.1699999999946,
           8,
           90
          ],
          [
           -47.960000000002765,
           10,
           91
          ],
          [
           -1015.6100000000006,
           6,
           92
          ],
          [
           -1052.6300000000047,
           8,
           93
          ],
          [
           -1015.6100000000006,
           6,
           94
          ],
          [
           -1015.6100000000006,
           6,
           95
          ],
          [
           -567.6699999999983,
           6,
           96
          ],
          [
           528.7800000000025,
           8,
           97
          ],
          [
           -1015.6100000000006,
           6,
           98
          ],
          [
           -1015.6100000000006,
           6,
           99
          ],
          [
           -1015.6100000000006,
           6,
           100
          ],
          [
           -1015.6100000000006,
           6,
           101
          ],
          [
           -1015.6100000000006,
           6,
           102
          ],
          [
           -1015.6100000000006,
           6,
           103
          ],
          [
           -647.0899999999965,
           6,
           104
          ],
          [
           -1015.6100000000006,
           6,
           105
          ],
          [
           -1015.6100000000006,
           6,
           106
          ],
          [
           -1015.6100000000006,
           6,
           107
          ],
          [
           -1015.6100000000006,
           6,
           108
          ],
          [
           -1001.4499999999971,
           4,
           109
          ],
          [
           -914.7500000000073,
           6,
           110
          ],
          [
           -1015.6100000000006,
           6,
           111
          ],
          [
           -1015.6100000000006,
           6,
           112
          ],
          [
           -1015.6100000000006,
           6,
           113
          ],
          [
           -1015.6100000000006,
           6,
           114
          ],
          [
           2938.5099999999984,
           8,
           115
          ],
          [
           -1015.6100000000006,
           6,
           116
          ],
          [
           -903.3700000000026,
           6,
           117
          ],
          [
           -873.5999999999949,
           10,
           118
          ],
          [
           -1015.6100000000006,
           6,
           119
          ],
          [
           -1015.6100000000006,
           6,
           120
          ],
          [
           -1015.6100000000006,
           6,
           121
          ],
          [
           -1540.4100000000035,
           6,
           122
          ],
          [
           -1015.6100000000006,
           6,
           123
          ],
          [
           -1015.6100000000006,
           6,
           124
          ],
          [
           -99.52000000000044,
           10,
           125
          ],
          [
           -1015.6100000000006,
           6,
           126
          ],
          [
           121.53999999999724,
           6,
           127
          ],
          [
           -1015.6100000000006,
           6,
           128
          ],
          [
           -918.0300000000025,
           8,
           129
          ],
          [
           -1015.6100000000006,
           6,
           130
          ],
          [
           -1015.6100000000006,
           6,
           131
          ],
          [
           -1015.6100000000006,
           6,
           132
          ],
          [
           -1015.6100000000006,
           6,
           133
          ],
          [
           -903.3700000000026,
           6,
           134
          ],
          [
           -1015.6100000000006,
           6,
           135
          ],
          [
           -1015.6100000000006,
           6,
           136
          ],
          [
           888.6899999999987,
           8,
           137
          ],
          [
           -1015.6100000000006,
           6,
           138
          ],
          [
           -1015.6100000000006,
           6,
           139
          ],
          [
           -1015.6100000000006,
           6,
           140
          ],
          [
           -1015.6100000000006,
           6,
           141
          ],
          [
           -2392.8799999999974,
           10,
           142
          ],
          [
           -1015.6100000000006,
           6,
           143
          ],
          [
           630.4600000000028,
           10,
           144
          ],
          [
           1151.1699999999983,
           6,
           145
          ],
          [
           -2006.6499999999942,
           6,
           146
          ],
          [
           -2494.5599999999977,
           8,
           147
          ],
          [
           9.299999999999272,
           6,
           148
          ],
          [
           -1015.6100000000006,
           6,
           149
          ],
          [
           528.7800000000025,
           8,
           150
          ],
          [
           -1015.6100000000006,
           6,
           151
          ],
          [
           -1015.6100000000006,
           6,
           152
          ],
          [
           -1015.6100000000006,
           6,
           153
          ],
          [
           -2494.5599999999977,
           8,
           154
          ],
          [
           -1015.6100000000006,
           6,
           155
          ],
          [
           -1015.6100000000006,
           6,
           156
          ],
          [
           -1015.6100000000006,
           6,
           157
          ],
          [
           -1687.1799999999967,
           8,
           158
          ],
          [
           -430.57999999999447,
           6,
           159
          ],
          [
           -2020.8099999999977,
           8,
           160
          ],
          [
           1328.0100000000057,
           7,
           161
          ],
          [
           -1015.6100000000006,
           6,
           162
          ],
          [
           -1015.6100000000006,
           6,
           163
          ],
          [
           -1015.6100000000006,
           6,
           164
          ],
          [
           1000.9299999999967,
           8,
           165
          ],
          [
           888.6899999999987,
           8,
           166
          ],
          [
           -1413.1800000000003,
           8,
           167
          ],
          [
           1229.4800000000032,
           8,
           168
          ],
          [
           -1015.6100000000006,
           6,
           169
          ],
          [
           -1015.6100000000006,
           6,
           170
          ],
          [
           -1015.6100000000006,
           6,
           171
          ],
          [
           -2822.3300000000017,
           6,
           172
          ],
          [
           -1015.6100000000006,
           6,
           173
          ],
          [
           -1015.6100000000006,
           6,
           174
          ],
          [
           -2489.939999999995,
           10,
           175
          ],
          [
           -1015.6100000000006,
           6,
           176
          ],
          [
           -1015.6100000000006,
           6,
           177
          ],
          [
           888.6899999999987,
           8,
           178
          ],
          [
           692.5799999999981,
           8,
           179
          ],
          [
           -2494.5599999999977,
           8,
           180
          ],
          [
           9.299999999999272,
           6,
           181
          ],
          [
           -1015.6100000000006,
           6,
           182
          ],
          [
           -1015.6100000000006,
           6,
           183
          ],
          [
           -903.3700000000026,
           6,
           184
          ],
          [
           85.21000000000276,
           9,
           185
          ],
          [
           -1450.2000000000044,
           10,
           186
          ],
          [
           -1015.6100000000006,
           6,
           187
          ],
          [
           -378.3799999999974,
           8,
           188
          ],
          [
           -1015.6100000000006,
           6,
           189
          ],
          [
           234.3100000000013,
           8,
           190
          ],
          [
           -647.0899999999965,
           6,
           191
          ],
          [
           -1015.6100000000006,
           6,
           192
          ],
          [
           -914.7500000000073,
           6,
           193
          ],
          [
           -1015.6100000000006,
           6,
           194
          ],
          [
           -1010.989999999998,
           8,
           195
          ],
          [
           -378.3799999999974,
           8,
           196
          ],
          [
           -1015.6100000000006,
           6,
           197
          ],
          [
           -932.1900000000023,
           6,
           198
          ],
          [
           -1015.6100000000006,
           6,
           199
          ],
          [
           -1015.6100000000006,
           6,
           200
          ],
          [
           -1015.6100000000006,
           6,
           201
          ],
          [
           -734.0399999999972,
           8,
           202
          ],
          [
           -914.7500000000073,
           6,
           203
          ],
          [
           -378.3799999999974,
           8,
           204
          ],
          [
           -1015.6100000000006,
           6,
           205
          ],
          [
           -1015.6100000000006,
           6,
           206
          ],
          [
           -1015.6100000000006,
           6,
           207
          ],
          [
           -1015.6100000000006,
           6,
           208
          ],
          [
           -1015.6100000000006,
           6,
           209
          ],
          [
           -1015.6100000000006,
           6,
           210
          ],
          [
           1151.1699999999983,
           6,
           211
          ],
          [
           -1015.6100000000006,
           6,
           212
          ],
          [
           -1015.6100000000006,
           6,
           213
          ],
          [
           -1015.6100000000006,
           6,
           214
          ],
          [
           -1797.420000000002,
           6,
           215
          ],
          [
           528.7800000000025,
           8,
           216
          ],
          [
           -1015.6100000000006,
           6,
           217
          ],
          [
           -1015.6100000000006,
           6,
           218
          ],
          [
           -1015.6100000000006,
           6,
           219
          ],
          [
           -1052.6300000000047,
           8,
           220
          ],
          [
           -1001.4499999999971,
           4,
           221
          ],
          [
           -1015.6100000000006,
           6,
           222
          ],
          [
           753.5999999999985,
           8,
           223
          ],
          [
           -1015.6100000000006,
           6,
           224
          ],
          [
           -1015.6100000000006,
           6,
           225
          ],
          [
           -2494.5599999999977,
           8,
           226
          ],
          [
           -1015.6100000000006,
           6,
           227
          ],
          [
           -1015.6100000000006,
           6,
           228
          ],
          [
           -1015.6100000000006,
           6,
           229
          ],
          [
           -1015.6100000000006,
           6,
           230
          ],
          [
           -1015.6100000000006,
           6,
           231
          ],
          [
           -1052.6300000000047,
           8,
           232
          ],
          [
           -1015.6100000000006,
           6,
           233
          ],
          [
           234.3100000000013,
           8,
           234
          ],
          [
           1151.1699999999983,
           6,
           235
          ],
          [
           -1015.6100000000006,
           6,
           236
          ],
          [
           1229.4800000000032,
           8,
           237
          ],
          [
           -1015.6100000000006,
           6,
           238
          ],
          [
           -1015.6100000000006,
           6,
           239
          ],
          [
           -665.25,
           8,
           240
          ],
          [
           -1052.6300000000047,
           8,
           241
          ],
          [
           -1015.6100000000006,
           6,
           242
          ],
          [
           -1015.6100000000006,
           6,
           243
          ],
          [
           -1015.6100000000006,
           6,
           244
          ],
          [
           -1010.989999999998,
           8,
           245
          ],
          [
           -734.0399999999972,
           8,
           246
          ],
          [
           -903.3700000000026,
           6,
           247
          ],
          [
           234.3100000000013,
           8,
           248
          ],
          [
           -1015.6100000000006,
           6,
           249
          ],
          [
           584.9600000000028,
           10,
           250
          ],
          [
           -1015.6100000000006,
           6,
           251
          ],
          [
           -1015.6100000000006,
           6,
           252
          ],
          [
           -1015.6100000000006,
           6,
           253
          ],
          [
           2630.16,
           8,
           254
          ],
          [
           234.3100000000013,
           8,
           255
          ],
          [
           -1015.6100000000006,
           6,
           256
          ],
          [
           -734.0399999999972,
           8,
           257
          ],
          [
           -1015.6100000000006,
           6,
           258
          ],
          [
           1229.4800000000032,
           8,
           259
          ],
          [
           -1015.6100000000006,
           6,
           260
          ],
          [
           -1015.6100000000006,
           6,
           261
          ],
          [
           -264.65999999999985,
           6,
           262
          ],
          [
           -1015.6100000000006,
           6,
           263
          ],
          [
           1151.1699999999983,
           6,
           264
          ],
          [
           9.299999999999272,
           6,
           265
          ],
          [
           -1015.6100000000006,
           6,
           266
          ],
          [
           -1015.6100000000006,
           6,
           267
          ],
          [
           -1015.6100000000006,
           6,
           268
          ],
          [
           -1015.6100000000006,
           6,
           269
          ],
          [
           -1015.6100000000006,
           6,
           270
          ],
          [
           528.7800000000025,
           8,
           271
          ],
          [
           -1540.4100000000035,
           6,
           272
          ],
          [
           -1015.6100000000006,
           6,
           273
          ],
          [
           -1015.6100000000006,
           6,
           274
          ],
          [
           -1015.6100000000006,
           6,
           275
          ],
          [
           -1015.6100000000006,
           6,
           276
          ],
          [
           -1015.6100000000006,
           6,
           277
          ],
          [
           580.3400000000001,
           8,
           278
          ],
          [
           -1015.6100000000006,
           6,
           279
          ],
          [
           -1015.6100000000006,
           6,
           280
          ],
          [
           -914.7500000000073,
           6,
           281
          ],
          [
           1229.4800000000032,
           8,
           282
          ],
          [
           1.6300000000010186,
           10,
           283
          ],
          [
           -903.3700000000026,
           6,
           284
          ],
          [
           1090.4099999999999,
           7,
           285
          ],
          [
           -647.0899999999965,
           6,
           286
          ],
          [
           228.79999999999563,
           8,
           287
          ],
          [
           1151.1699999999983,
           6,
           288
          ],
          [
           -1413.1800000000003,
           8,
           289
          ],
          [
           -1001.4499999999971,
           4,
           290
          ],
          [
           -378.3799999999974,
           8,
           291
          ],
          [
           -1015.6100000000006,
           6,
           292
          ],
          [
           -2494.5599999999977,
           8,
           293
          ],
          [
           -182.8299999999981,
           10,
           294
          ],
          [
           -1015.6100000000006,
           6,
           295
          ],
          [
           -1015.6100000000006,
           6,
           296
          ],
          [
           -932.1900000000023,
           6,
           297
          ],
          [
           -932.1900000000023,
           6,
           298
          ],
          [
           -1015.6100000000006,
           6,
           299
          ],
          [
           1151.1699999999983,
           6,
           300
          ],
          [
           -1015.6100000000006,
           6,
           301
          ],
          [
           -1015.6100000000006,
           6,
           302
          ],
          [
           -1015.6100000000006,
           6,
           303
          ],
          [
           -1015.6100000000006,
           6,
           304
          ],
          [
           580.3400000000001,
           8,
           305
          ],
          [
           -1015.6100000000006,
           6,
           306
          ],
          [
           -1015.6100000000006,
           6,
           307
          ],
          [
           -1015.6100000000006,
           6,
           308
          ],
          [
           -677.1500000000015,
           6,
           309
          ],
          [
           -1015.6100000000006,
           6,
           310
          ],
          [
           -918.0299999999988,
           4,
           311
          ],
          [
           -1015.6100000000006,
           6,
           312
          ],
          [
           -1015.6100000000006,
           6,
           313
          ],
          [
           -1015.6100000000006,
           6,
           314
          ],
          [
           -914.7500000000073,
           6,
           315
          ],
          [
           -1015.6100000000006,
           6,
           316
          ],
          [
           996.8000000000029,
           10,
           317
          ],
          [
           -1015.6100000000006,
           6,
           318
          ],
          [
           1151.1699999999983,
           6,
           319
          ],
          [
           1151.1699999999983,
           6,
           320
          ],
          [
           234.3100000000013,
           8,
           321
          ],
          [
           -1015.6100000000006,
           6,
           322
          ],
          [
           -778.0099999999948,
           6,
           323
          ],
          [
           -378.3799999999974,
           8,
           324
          ],
          [
           -1015.6100000000006,
           6,
           325
          ],
          [
           -1015.6100000000006,
           6,
           326
          ],
          [
           -914.7500000000073,
           6,
           327
          ],
          [
           -647.0899999999965,
           6,
           328
          ],
          [
           -1015.6100000000006,
           6,
           329
          ],
          [
           -1015.6100000000006,
           6,
           330
          ],
          [
           1090.4099999999999,
           7,
           331
          ],
          [
           -1015.6100000000006,
           6,
           332
          ],
          [
           -1001.4499999999971,
           4,
           333
          ],
          [
           -1015.6100000000006,
           6,
           334
          ],
          [
           -1015.6100000000006,
           6,
           335
          ],
          [
           -1015.6100000000006,
           6,
           336
          ],
          [
           -1015.6100000000006,
           6,
           337
          ],
          [
           -2808.1699999999983,
           4,
           338
          ],
          [
           1090.4099999999999,
           7,
           339
          ],
          [
           -1015.6100000000006,
           6,
           340
          ],
          [
           -1540.4100000000035,
           6,
           341
          ],
          [
           -1015.6100000000006,
           6,
           342
          ],
          [
           528.7800000000025,
           8,
           343
          ],
          [
           -1015.6100000000006,
           6,
           344
          ],
          [
           -1015.6100000000006,
           6,
           345
          ],
          [
           -1015.6100000000006,
           6,
           346
          ],
          [
           -778.0099999999948,
           6,
           347
          ],
          [
           -1015.6100000000006,
           6,
           348
          ],
          [
           -99.52000000000044,
           10,
           349
          ],
          [
           -378.3799999999974,
           8,
           350
          ],
          [
           -1015.6100000000006,
           6,
           351
          ],
          [
           9.299999999999272,
           6,
           352
          ],
          [
           -1015.6100000000006,
           6,
           353
          ],
          [
           1117.6299999999974,
           8,
           354
          ],
          [
           -903.3700000000026,
           6,
           355
          ],
          [
           -1015.6100000000006,
           6,
           356
          ],
          [
           -1015.6100000000006,
           6,
           357
          ],
          [
           -1015.6100000000006,
           6,
           358
          ],
          [
           -2494.5599999999977,
           8,
           359
          ],
          [
           681.1999999999935,
           8,
           360
          ],
          [
           -729.4199999999946,
           10,
           361
          ],
          [
           -1015.6100000000006,
           6,
           362
          ],
          [
           9.299999999999272,
           6,
           363
          ],
          [
           -1015.6100000000006,
           6,
           364
          ],
          [
           1396.3199999999997,
           8,
           365
          ],
          [
           -2494.5599999999977,
           8,
           366
          ],
          [
           -1015.6100000000006,
           6,
           367
          ],
          [
           -1015.6100000000006,
           6,
           368
          ],
          [
           -1015.6100000000006,
           6,
           369
          ],
          [
           -914.7500000000073,
           6,
           370
          ],
          [
           -1015.6100000000006,
           6,
           371
          ],
          [
           -1015.6100000000006,
           6,
           372
          ],
          [
           -1015.6100000000006,
           6,
           373
          ],
          [
           -778.0099999999948,
           6,
           374
          ],
          [
           -1015.6100000000006,
           6,
           375
          ],
          [
           -1015.6100000000006,
           6,
           376
          ],
          [
           -1015.6100000000006,
           6,
           377
          ],
          [
           -1015.6100000000006,
           6,
           378
          ],
          [
           -1015.6100000000006,
           6,
           379
          ],
          [
           1090.4099999999999,
           7,
           380
          ],
          [
           -665.25,
           8,
           381
          ],
          [
           -2822.3300000000017,
           6,
           382
          ],
          [
           -903.3700000000026,
           6,
           383
          ],
          [
           -1015.6100000000006,
           6,
           384
          ],
          [
           234.3100000000013,
           8,
           385
          ],
          [
           -1015.6100000000006,
           6,
           386
          ],
          [
           -2822.3300000000017,
           6,
           387
          ],
          [
           -1015.6100000000006,
           6,
           388
          ],
          [
           -1015.6100000000006,
           6,
           389
          ],
          [
           -126.05999999999403,
           12,
           390
          ],
          [
           -734.0399999999972,
           8,
           391
          ],
          [
           -1015.6100000000006,
           6,
           392
          ],
          [
           1151.1699999999983,
           6,
           393
          ],
          [
           -1015.6100000000006,
           6,
           394
          ],
          [
           -1687.1799999999967,
           8,
           395
          ],
          [
           -1015.6100000000006,
           6,
           396
          ],
          [
           -1015.6100000000006,
           6,
           397
          ],
          [
           9.299999999999272,
           6,
           398
          ],
          [
           -1015.6100000000006,
           6,
           399
          ],
          [
           -1015.6100000000006,
           6,
           400
          ],
          [
           -932.1900000000023,
           6,
           401
          ],
          [
           -1015.6100000000006,
           6,
           402
          ],
          [
           -1015.6100000000006,
           6,
           403
          ],
          [
           -903.3700000000026,
           6,
           404
          ],
          [
           -2078.4799999999996,
           9,
           405
          ],
          [
           -266.1399999999994,
           8,
           406
          ],
          [
           -1687.1799999999967,
           8,
           407
          ],
          [
           -1015.6100000000006,
           6,
           408
          ],
          [
           -1015.6100000000006,
           6,
           409
          ],
          [
           -1015.6100000000006,
           6,
           410
          ],
          [
           -2494.5599999999977,
           8,
           411
          ],
          [
           396.9599999999955,
           10,
           412
          ],
          [
           -1015.6100000000006,
           6,
           413
          ],
          [
           1229.4800000000032,
           8,
           414
          ],
          [
           364.12999999999374,
           10,
           415
          ],
          [
           -1015.6100000000006,
           6,
           416
          ],
          [
           -1015.6100000000006,
           6,
           417
          ],
          [
           -1015.6100000000006,
           6,
           418
          ],
          [
           248.4700000000048,
           6,
           419
          ],
          [
           -819.9500000000044,
           6,
           420
          ],
          [
           -1015.6100000000006,
           6,
           421
          ],
          [
           -1015.6100000000006,
           6,
           422
          ],
          [
           234.3100000000013,
           8,
           423
          ],
          [
           -647.0899999999965,
           6,
           424
          ],
          [
           -1015.6100000000006,
           6,
           425
          ],
          [
           -2822.3300000000017,
           6,
           426
          ],
          [
           -1015.6100000000006,
           6,
           427
          ],
          [
           -1015.6100000000006,
           6,
           428
          ],
          [
           -1015.6100000000006,
           6,
           429
          ],
          [
           -1015.6100000000006,
           6,
           430
          ],
          [
           3055.4699999999975,
           8,
           431
          ],
          [
           1257.2499999999964,
           7,
           432
          ],
          [
           888.6899999999987,
           8,
           433
          ],
          [
           -900.5900000000038,
           4,
           434
          ],
          [
           -1015.6100000000006,
           6,
           435
          ],
          [
           9.299999999999272,
           6,
           436
          ],
          [
           -1015.6100000000006,
           6,
           437
          ],
          [
           -1015.6100000000006,
           6,
           438
          ],
          [
           -2453.8099999999977,
           6,
           439
          ],
          [
           -1015.6100000000006,
           6,
           440
          ],
          [
           -1015.6100000000006,
           6,
           441
          ],
          [
           -1015.6100000000006,
           6,
           442
          ],
          [
           -1015.6100000000006,
           6,
           443
          ],
          [
           -1015.6100000000006,
           6,
           444
          ],
          [
           -1015.6100000000006,
           6,
           445
          ],
          [
           -940.3900000000067,
           8,
           446
          ],
          [
           -1015.6100000000006,
           6,
           447
          ],
          [
           -914.7500000000073,
           6,
           448
          ],
          [
           -1015.6100000000006,
           6,
           449
          ],
          [
           -1015.6100000000006,
           6,
           450
          ],
          [
           -1015.6100000000006,
           6,
           451
          ],
          [
           -1052.6300000000047,
           8,
           452
          ],
          [
           -1413.1800000000003,
           8,
           453
          ],
          [
           1151.1699999999983,
           6,
           454
          ],
          [
           -1015.6100000000006,
           6,
           455
          ],
          [
           -1015.6100000000006,
           6,
           456
          ],
          [
           -1015.6100000000006,
           6,
           457
          ],
          [
           -1015.6100000000006,
           6,
           458
          ],
          [
           -665.25,
           8,
           459
          ],
          [
           -2822.3300000000017,
           6,
           460
          ],
          [
           -1413.1800000000003,
           8,
           461
          ],
          [
           -914.7500000000073,
           6,
           462
          ],
          [
           9.299999999999272,
           6,
           463
          ],
          [
           -914.7500000000073,
           6,
           464
          ],
          [
           -1015.6100000000006,
           6,
           465
          ],
          [
           -1015.6100000000006,
           6,
           466
          ],
          [
           -734.0399999999972,
           8,
           467
          ],
          [
           -1015.6100000000006,
           6,
           468
          ],
          [
           -1015.6100000000006,
           6,
           469
          ],
          [
           -1010.989999999998,
           8,
           470
          ],
          [
           -1015.6100000000006,
           6,
           471
          ],
          [
           -1015.6100000000006,
           6,
           472
          ],
          [
           -1015.6100000000006,
           6,
           473
          ],
          [
           580.3400000000001,
           8,
           474
          ],
          [
           -1526.25,
           4,
           475
          ],
          [
           -1015.6100000000006,
           6,
           476
          ],
          [
           -1015.6100000000006,
           6,
           477
          ],
          [
           -1015.6100000000006,
           6,
           478
          ],
          [
           -1015.6100000000006,
           6,
           479
          ],
          [
           -1687.1799999999967,
           8,
           480
          ],
          [
           -1015.6100000000006,
           6,
           481
          ],
          [
           -1052.6300000000047,
           8,
           482
          ],
          [
           -2211.9799999999996,
           8,
           483
          ],
          [
           -1001.4499999999971,
           4,
           484
          ],
          [
           -903.3700000000026,
           6,
           485
          ],
          [
           -1015.6100000000006,
           6,
           486
          ],
          [
           -378.3799999999974,
           8,
           487
          ],
          [
           1095.0300000000025,
           9,
           488
          ],
          [
           1117.6299999999974,
           8,
           489
          ],
          [
           -734.0399999999972,
           8,
           490
          ],
          [
           -1015.6100000000006,
           6,
           491
          ],
          [
           -1015.6100000000006,
           6,
           492
          ],
          [
           9.299999999999272,
           6,
           493
          ],
          [
           -665.25,
           8,
           494
          ],
          [
           -1015.6100000000006,
           6,
           495
          ],
          [
           44.969999999997526,
           11,
           496
          ],
          [
           -1015.6100000000006,
           6,
           497
          ],
          [
           -1015.6100000000006,
           6,
           498
          ],
          [
           -1015.6100000000006,
           6,
           499
          ],
          [
           -1015.6100000000006,
           6,
           500
          ],
          [
           -1015.6100000000006,
           6,
           501
          ],
          [
           -1015.6100000000006,
           6,
           502
          ],
          [
           1090.4099999999999,
           7,
           503
          ],
          [
           -1015.6100000000006,
           6,
           504
          ],
          [
           -1015.6100000000006,
           6,
           505
          ],
          [
           -2540.7599999999984,
           8,
           506
          ],
          [
           -1015.6100000000006,
           6,
           507
          ],
          [
           -1015.6100000000006,
           6,
           508
          ],
          [
           -1015.6100000000006,
           6,
           509
          ],
          [
           -1010.989999999998,
           8,
           510
          ],
          [
           -1015.6100000000006,
           6,
           511
          ],
          [
           -1015.6100000000006,
           6,
           512
          ],
          [
           -1015.6100000000006,
           6,
           513
          ],
          [
           1192.0900000000001,
           9,
           514
          ],
          [
           1151.1699999999983,
           6,
           515
          ],
          [
           9.299999999999272,
           6,
           516
          ],
          [
           -2471.970000000001,
           8,
           517
          ],
          [
           -1015.6100000000006,
           6,
           518
          ],
          [
           -1687.1799999999967,
           8,
           519
          ],
          [
           -1015.6100000000006,
           6,
           520
          ],
          [
           -1015.6100000000006,
           6,
           521
          ],
          [
           -1015.6100000000006,
           6,
           522
          ],
          [
           -1015.6100000000006,
           6,
           523
          ],
          [
           -1015.6100000000006,
           6,
           524
          ],
          [
           -1015.6100000000006,
           6,
           525
          ],
          [
           -1015.6100000000006,
           6,
           526
          ],
          [
           -1015.6100000000006,
           6,
           527
          ],
          [
           -1015.6100000000006,
           6,
           528
          ],
          [
           -1015.6100000000006,
           6,
           529
          ],
          [
           -1015.6100000000006,
           6,
           530
          ],
          [
           -778.0099999999948,
           6,
           531
          ],
          [
           -1015.6100000000006,
           6,
           532
          ],
          [
           1229.4800000000032,
           8,
           533
          ],
          [
           -1015.6100000000006,
           6,
           534
          ],
          [
           -1015.6100000000006,
           6,
           535
          ],
          [
           -1015.6100000000006,
           6,
           536
          ],
          [
           -1015.6100000000006,
           6,
           537
          ],
          [
           -1015.6100000000006,
           6,
           538
          ],
          [
           -1015.6100000000006,
           6,
           539
          ],
          [
           528.7800000000025,
           8,
           540
          ],
          [
           -903.3700000000026,
           6,
           541
          ],
          [
           -1015.6100000000006,
           6,
           542
          ],
          [
           -1015.6100000000006,
           6,
           543
          ],
          [
           -1052.6300000000047,
           8,
           544
          ],
          [
           -914.7500000000073,
           6,
           545
          ],
          [
           -1961.7599999999948,
           10,
           546
          ],
          [
           -1015.6100000000006,
           6,
           547
          ],
          [
           747.1799999999967,
           8,
           548
          ],
          [
           -1015.6100000000006,
           6,
           549
          ],
          [
           -1937.9800000000032,
           8,
           550
          ],
          [
           -1015.6100000000006,
           6,
           551
          ],
          [
           -2020.8099999999977,
           8,
           552
          ],
          [
           -1015.6100000000006,
           6,
           553
          ],
          [
           3359.239999999998,
           10,
           554
          ],
          [
           -1015.6100000000006,
           6,
           555
          ],
          [
           1229.4800000000032,
           8,
           556
          ],
          [
           -1015.6100000000006,
           6,
           557
          ],
          [
           234.3100000000013,
           8,
           558
          ],
          [
           -1015.6100000000006,
           6,
           559
          ],
          [
           -1015.6100000000006,
           6,
           560
          ],
          [
           -1687.1799999999967,
           8,
           561
          ],
          [
           -1015.6100000000006,
           6,
           562
          ],
          [
           -1015.6100000000006,
           6,
           563
          ],
          [
           -1015.6100000000006,
           6,
           564
          ],
          [
           -1540.4100000000035,
           6,
           565
          ],
          [
           -140.77999999999156,
           8,
           566
          ],
          [
           528.7800000000025,
           8,
           567
          ],
          [
           -1001.4499999999971,
           4,
           568
          ],
          [
           -665.25,
           8,
           569
          ],
          [
           -1015.6100000000006,
           6,
           570
          ],
          [
           -1015.6100000000006,
           6,
           571
          ],
          [
           -1015.6100000000006,
           6,
           572
          ],
          [
           -1015.6100000000006,
           6,
           573
          ],
          [
           -2083.4199999999983,
           8,
           574
          ],
          [
           -1015.6100000000006,
           6,
           575
          ],
          [
           -1015.6100000000006,
           6,
           576
          ],
          [
           -694.5899999999965,
           6,
           577
          ],
          [
           -914.7500000000073,
           6,
           578
          ],
          [
           -1015.6100000000006,
           6,
           579
          ],
          [
           528.7800000000025,
           8,
           580
          ],
          [
           -2494.5599999999977,
           8,
           581
          ],
          [
           -1015.6100000000006,
           6,
           582
          ],
          [
           -1010.989999999998,
           8,
           583
          ],
          [
           -1010.989999999998,
           8,
           584
          ],
          [
           -1015.6100000000006,
           6,
           585
          ],
          [
           -1015.6100000000006,
           6,
           586
          ],
          [
           2578.600000000002,
           8,
           587
          ],
          [
           1090.4099999999999,
           7,
           588
          ],
          [
           -1015.6100000000006,
           6,
           589
          ],
          [
           234.3100000000013,
           8,
           590
          ],
          [
           -1015.6100000000006,
           6,
           591
          ],
          [
           -1015.6100000000006,
           6,
           592
          ],
          [
           -1015.6100000000006,
           6,
           593
          ],
          [
           -1015.6100000000006,
           6,
           594
          ],
          [
           1090.4099999999999,
           7,
           595
          ],
          [
           580.3400000000001,
           8,
           596
          ],
          [
           -1015.6100000000006,
           6,
           597
          ],
          [
           -1540.4100000000035,
           6,
           598
          ],
          [
           -665.25,
           8,
           599
          ],
          [
           -2020.8099999999977,
           8,
           600
          ],
          [
           -1015.6100000000006,
           6,
           601
          ],
          [
           1229.4800000000032,
           8,
           602
          ],
          [
           -1015.6100000000006,
           6,
           603
          ],
          [
           -1015.6100000000006,
           6,
           604
          ],
          [
           888.6899999999987,
           8,
           605
          ],
          [
           -1010.989999999998,
           8,
           606
          ],
          [
           -1015.6100000000006,
           6,
           607
          ],
          [
           -778.0099999999948,
           6,
           608
          ],
          [
           -903.3700000000026,
           6,
           609
          ],
          [
           -1015.6100000000006,
           6,
           610
          ],
          [
           -1015.6100000000006,
           6,
           611
          ],
          [
           -1015.6100000000006,
           6,
           612
          ],
          [
           592.8000000000102,
           10,
           613
          ],
          [
           -1015.6100000000006,
           6,
           614
          ],
          [
           -647.0899999999965,
           6,
           615
          ],
          [
           528.7800000000025,
           8,
           616
          ],
          [
           -1540.4100000000035,
           6,
           617
          ],
          [
           -778.0099999999948,
           6,
           618
          ],
          [
           -1015.6100000000006,
           6,
           619
          ],
          [
           -1015.6100000000006,
           6,
           620
          ],
          [
           9.299999999999272,
           6,
           621
          ],
          [
           -1015.6100000000006,
           6,
           622
          ],
          [
           -1413.1800000000003,
           8,
           623
          ],
          [
           -815.0299999999988,
           6,
           624
          ],
          [
           -665.25,
           8,
           625
          ],
          [
           -1015.6100000000006,
           6,
           626
          ],
          [
           1263.4099999999962,
           6,
           627
          ],
          [
           -1015.6100000000006,
           6,
           628
          ],
          [
           -1015.6100000000006,
           6,
           629
          ],
          [
           1229.4800000000032,
           8,
           630
          ],
          [
           234.3100000000013,
           8,
           631
          ],
          [
           -1015.6100000000006,
           6,
           632
          ],
          [
           -1015.6100000000006,
           6,
           633
          ],
          [
           -1015.6100000000006,
           6,
           634
          ],
          [
           -1015.6100000000006,
           6,
           635
          ],
          [
           1090.4099999999999,
           7,
           636
          ],
          [
           -1015.6100000000006,
           6,
           637
          ],
          [
           -1449.5799999999908,
           8,
           638
          ],
          [
           -1015.6100000000006,
           6,
           639
          ],
          [
           -1015.6100000000006,
           6,
           640
          ],
          [
           -1015.6100000000006,
           6,
           641
          ],
          [
           -2020.8099999999977,
           8,
           642
          ],
          [
           -2822.3300000000017,
           6,
           643
          ],
          [
           888.6899999999987,
           8,
           644
          ],
          [
           580.3400000000001,
           8,
           645
          ],
          [
           -1015.6100000000006,
           6,
           646
          ],
          [
           -1015.6100000000006,
           6,
           647
          ],
          [
           9.299999999999272,
           6,
           648
          ],
          [
           -1015.6100000000006,
           6,
           649
          ],
          [
           -1015.6100000000006,
           6,
           650
          ],
          [
           888.6899999999987,
           8,
           651
          ],
          [
           -1015.6100000000006,
           6,
           652
          ],
          [
           -1015.6100000000006,
           6,
           653
          ],
          [
           -1015.6100000000006,
           6,
           654
          ],
          [
           -1015.6100000000006,
           6,
           655
          ],
          [
           -1015.6100000000006,
           6,
           656
          ],
          [
           -2808.1699999999983,
           4,
           657
          ],
          [
           -665.25,
           8,
           658
          ],
          [
           -378.3799999999974,
           8,
           659
          ],
          [
           -1015.6100000000006,
           6,
           660
          ],
          [
           1803.369999999999,
           10,
           661
          ],
          [
           -1015.6100000000006,
           6,
           662
          ],
          [
           1151.1699999999983,
           6,
           663
          ],
          [
           -1687.1799999999967,
           8,
           664
          ],
          [
           -1015.6100000000006,
           6,
           665
          ],
          [
           -2020.8099999999977,
           8,
           666
          ],
          [
           -1015.6100000000006,
           6,
           667
          ],
          [
           888.6899999999987,
           8,
           668
          ],
          [
           -1052.6300000000047,
           8,
           669
          ],
          [
           -1015.6100000000006,
           6,
           670
          ],
          [
           -1015.6100000000006,
           6,
           671
          ],
          [
           -1015.6100000000006,
           6,
           672
          ],
          [
           -127.91999999998734,
           8,
           673
          ],
          [
           -1413.1800000000003,
           8,
           674
          ],
          [
           -1687.1799999999967,
           8,
           675
          ],
          [
           -1413.1800000000003,
           8,
           676
          ],
          [
           -1015.6100000000006,
           6,
           677
          ],
          [
           -1001.4499999999971,
           4,
           678
          ],
          [
           -1015.6100000000006,
           6,
           679
          ],
          [
           -778.0099999999948,
           6,
           680
          ],
          [
           1.6300000000010186,
           10,
           681
          ],
          [
           -1015.6100000000006,
           6,
           682
          ],
          [
           -1015.6100000000006,
           6,
           683
          ],
          [
           -1015.6100000000006,
           6,
           684
          ],
          [
           234.3100000000013,
           8,
           685
          ],
          [
           -1015.6100000000006,
           6,
           686
          ],
          [
           234.3100000000013,
           8,
           687
          ],
          [
           -1015.6100000000006,
           6,
           688
          ],
          [
           -1783.2099999999919,
           8,
           689
          ],
          [
           462.10999999999694,
           9,
           690
          ],
          [
           234.3100000000013,
           8,
           691
          ],
          [
           -2020.8099999999977,
           8,
           692
          ],
          [
           -1015.6100000000006,
           6,
           693
          ],
          [
           -1015.6100000000006,
           6,
           694
          ],
          [
           -1015.6100000000006,
           6,
           695
          ],
          [
           -2057.8300000000017,
           10,
           696
          ],
          [
           1090.4099999999999,
           7,
           697
          ],
          [
           -665.25,
           8,
           698
          ],
          [
           -1015.6100000000006,
           6,
           699
          ],
          [
           -1015.6100000000006,
           6,
           700
          ],
          [
           -1015.6100000000006,
           6,
           701
          ],
          [
           -932.1900000000023,
           6,
           702
          ],
          [
           -1015.6100000000006,
           6,
           703
          ],
          [
           -1015.6100000000006,
           6,
           704
          ],
          [
           -677.1500000000015,
           6,
           705
          ],
          [
           -1015.6100000000006,
           6,
           706
          ],
          [
           -1015.6100000000006,
           6,
           707
          ],
          [
           -1015.6100000000006,
           6,
           708
          ],
          [
           -1015.6100000000006,
           6,
           709
          ],
          [
           -1015.6100000000006,
           6,
           710
          ],
          [
           -1015.6100000000006,
           6,
           711
          ],
          [
           -2494.5599999999977,
           8,
           712
          ],
          [
           -1015.6100000000006,
           6,
           713
          ],
          [
           -1015.6100000000006,
           6,
           714
          ],
          [
           -1015.6100000000006,
           6,
           715
          ],
          [
           -1015.6100000000006,
           6,
           716
          ],
          [
           -1015.6100000000006,
           6,
           717
          ],
          [
           55.539999999997235,
           8,
           718
          ],
          [
           -914.7500000000073,
           6,
           719
          ],
          [
           -1015.6100000000006,
           6,
           720
          ],
          [
           -778.0099999999948,
           6,
           721
          ],
          [
           -1015.6100000000006,
           6,
           722
          ],
          [
           -1015.6100000000006,
           6,
           723
          ],
          [
           -378.3799999999974,
           8,
           724
          ],
          [
           -1015.6100000000006,
           6,
           725
          ],
          [
           1803.369999999999,
           10,
           726
          ],
          [
           -1015.6100000000006,
           6,
           727
          ],
          [
           -1015.6100000000006,
           6,
           728
          ],
          [
           -1015.6100000000006,
           6,
           729
          ],
          [
           2630.16,
           8,
           730
          ],
          [
           -1015.6100000000006,
           6,
           731
          ],
          [
           -2388.2599999999948,
           12,
           732
          ],
          [
           -1015.6100000000006,
           6,
           733
          ],
          [
           -1015.6100000000006,
           6,
           734
          ],
          [
           -1015.6100000000006,
           6,
           735
          ],
          [
           -1015.6100000000006,
           6,
           736
          ],
          [
           -1015.6100000000006,
           6,
           737
          ],
          [
           -1015.6100000000006,
           6,
           738
          ],
          [
           -1015.6100000000006,
           6,
           739
          ],
          [
           -1015.6100000000006,
           6,
           740
          ],
          [
           2521.730000000007,
           8,
           741
          ],
          [
           888.6899999999987,
           8,
           742
          ],
          [
           -1015.6100000000006,
           6,
           743
          ],
          [
           -116.5099999999984,
           10,
           744
          ],
          [
           -1015.6100000000006,
           6,
           745
          ],
          [
           -1015.6100000000006,
           6,
           746
          ],
          [
           -918.0299999999988,
           4,
           747
          ],
          [
           -1015.6100000000006,
           6,
           748
          ],
          [
           -1015.6100000000006,
           6,
           749
          ],
          [
           -1015.6100000000006,
           6,
           750
          ],
          [
           -553.9299999999967,
           10,
           751
          ],
          [
           9.299999999999272,
           6,
           752
          ],
          [
           1788.4000000000015,
           8,
           753
          ],
          [
           -1015.6100000000006,
           6,
           754
          ],
          [
           -1015.6100000000006,
           6,
           755
          ],
          [
           1229.4800000000032,
           8,
           756
          ],
          [
           -918.0300000000025,
           8,
           757
          ],
          [
           -1015.6100000000006,
           6,
           758
          ],
          [
           -1015.6100000000006,
           6,
           759
          ],
          [
           -665.7699999999968,
           6,
           760
          ],
          [
           234.3100000000013,
           8,
           761
          ],
          [
           -778.0099999999948,
           6,
           762
          ],
          [
           9.299999999999272,
           6,
           763
          ],
          [
           1090.4099999999999,
           7,
           764
          ],
          [
           -1015.6100000000006,
           6,
           765
          ],
          [
           -2822.3300000000017,
           6,
           766
          ],
          [
           888.6899999999987,
           8,
           767
          ],
          [
           -1015.6100000000006,
           6,
           768
          ],
          [
           1234.5899999999965,
           6,
           769
          ],
          [
           -1015.6100000000006,
           6,
           770
          ],
          [
           580.3400000000001,
           8,
           771
          ],
          [
           -1015.6100000000006,
           6,
           772
          ],
          [
           -734.0399999999972,
           8,
           773
          ],
          [
           -1015.6100000000006,
           6,
           774
          ],
          [
           -1015.6100000000006,
           6,
           775
          ],
          [
           -910.1300000000047,
           8,
           776
          ],
          [
           -1015.6100000000006,
           6,
           777
          ],
          [
           -647.0899999999965,
           6,
           778
          ],
          [
           -1015.6100000000006,
           6,
           779
          ],
          [
           -1015.6100000000006,
           6,
           780
          ],
          [
           -1015.6100000000006,
           6,
           781
          ],
          [
           -1015.6100000000006,
           6,
           782
          ],
          [
           -1413.1800000000003,
           8,
           783
          ],
          [
           1151.1699999999983,
           6,
           784
          ],
          [
           -1015.6100000000006,
           6,
           785
          ],
          [
           -1015.6100000000006,
           6,
           786
          ],
          [
           -1015.6100000000006,
           6,
           787
          ],
          [
           -1015.6100000000006,
           6,
           788
          ],
          [
           -378.3799999999974,
           8,
           789
          ],
          [
           -1015.6100000000006,
           6,
           790
          ],
          [
           -1687.1799999999967,
           8,
           791
          ],
          [
           -378.3799999999974,
           8,
           792
          ],
          [
           -1015.6100000000006,
           6,
           793
          ],
          [
           2144.1600000000035,
           10,
           794
          ],
          [
           -734.0399999999972,
           8,
           795
          ],
          [
           -1015.6100000000006,
           6,
           796
          ],
          [
           -1413.1800000000003,
           8,
           797
          ],
          [
           695.619999999999,
           8,
           798
          ],
          [
           -1015.6100000000006,
           6,
           799
          ],
          [
           234.3100000000013,
           8,
           800
          ],
          [
           -1540.4100000000035,
           6,
           801
          ],
          [
           -1015.6100000000006,
           6,
           802
          ],
          [
           580.3400000000001,
           8,
           803
          ],
          [
           -1413.1800000000003,
           8,
           804
          ],
          [
           -1015.6100000000006,
           6,
           805
          ],
          [
           -1015.6100000000006,
           6,
           806
          ],
          [
           -1010.989999999998,
           8,
           807
          ],
          [
           -2020.8099999999977,
           8,
           808
          ],
          [
           -1413.1800000000003,
           8,
           809
          ],
          [
           -1015.6100000000006,
           6,
           810
          ],
          [
           -1001.4499999999971,
           4,
           811
          ],
          [
           -1540.4100000000035,
           6,
           812
          ],
          [
           629.6399999999958,
           8,
           813
          ],
          [
           -1015.6100000000006,
           6,
           814
          ],
          [
           -1015.6100000000006,
           6,
           815
          ],
          [
           1229.4800000000032,
           8,
           816
          ],
          [
           -1015.6100000000006,
           6,
           817
          ],
          [
           -1015.6100000000006,
           6,
           818
          ],
          [
           656.0099999999984,
           8,
           819
          ],
          [
           -1526.25,
           4,
           820
          ],
          [
           1151.1699999999983,
           6,
           821
          ],
          [
           -1015.6100000000006,
           6,
           822
          ],
          [
           -914.7500000000073,
           6,
           823
          ],
          [
           491.7599999999984,
           10,
           824
          ],
          [
           -1015.6100000000006,
           6,
           825
          ],
          [
           -1015.6100000000006,
           6,
           826
          ],
          [
           9.299999999999272,
           6,
           827
          ],
          [
           -1015.6100000000006,
           6,
           828
          ],
          [
           -1015.6100000000006,
           6,
           829
          ],
          [
           -1015.6100000000006,
           6,
           830
          ],
          [
           -1015.6100000000006,
           6,
           831
          ],
          [
           -1015.6100000000006,
           6,
           832
          ],
          [
           -1342.2799999999916,
           10,
           833
          ],
          [
           -2020.8099999999977,
           8,
           834
          ],
          [
           -1015.6100000000006,
           6,
           835
          ],
          [
           -1015.6100000000006,
           6,
           836
          ],
          [
           -1015.6100000000006,
           6,
           837
          ],
          [
           -1015.6100000000006,
           6,
           838
          ],
          [
           -1052.6300000000047,
           8,
           839
          ],
          [
           -903.3700000000026,
           6,
           840
          ],
          [
           -1015.6100000000006,
           6,
           841
          ],
          [
           1090.4099999999999,
           7,
           842
          ],
          [
           -3342.510000000002,
           8,
           843
          ],
          [
           -1015.6100000000006,
           6,
           844
          ],
          [
           -778.0099999999948,
           6,
           845
          ],
          [
           -1015.6100000000006,
           6,
           846
          ],
          [
           -914.7500000000073,
           6,
           847
          ],
          [
           -1015.6100000000006,
           6,
           848
          ],
          [
           -1015.6100000000006,
           6,
           849
          ],
          [
           -1015.6100000000006,
           6,
           850
          ],
          [
           -1015.6100000000006,
           6,
           851
          ],
          [
           -1015.6100000000006,
           6,
           852
          ],
          [
           138.08000000000538,
           10,
           853
          ],
          [
           -1687.1799999999967,
           8,
           854
          ],
          [
           584.9600000000028,
           10,
           855
          ],
          [
           -1015.6100000000006,
           6,
           856
          ],
          [
           -1015.6100000000006,
           6,
           857
          ],
          [
           602.8300000000054,
           8,
           858
          ],
          [
           -1015.6100000000006,
           6,
           859
          ],
          [
           -1015.6100000000006,
           6,
           860
          ],
          [
           -1015.6100000000006,
           6,
           861
          ],
          [
           -1015.6100000000006,
           6,
           862
          ],
          [
           832.1000000000095,
           8,
           863
          ],
          [
           -1015.6100000000006,
           6,
           864
          ],
          [
           -1015.6100000000006,
           6,
           865
          ],
          [
           1090.4099999999999,
           7,
           866
          ],
          [
           580.3400000000001,
           8,
           867
          ],
          [
           -1015.6100000000006,
           6,
           868
          ],
          [
           3257.1899999999987,
           7,
           869
          ],
          [
           -1015.6100000000006,
           6,
           870
          ],
          [
           -1540.4100000000035,
           6,
           871
          ],
          [
           -1652.2899999999936,
           8,
           872
          ],
          [
           -898.75,
           6,
           873
          ],
          [
           -1015.6100000000006,
           6,
           874
          ],
          [
           -378.3799999999974,
           8,
           875
          ],
          [
           -2859.350000000006,
           8,
           876
          ],
          [
           -1015.6100000000006,
           6,
           877
          ],
          [
           -1015.6100000000006,
           6,
           878
          ],
          [
           -914.7500000000073,
           6,
           879
          ],
          [
           543.3199999999961,
           10,
           880
          ],
          [
           -1015.6100000000006,
           6,
           881
          ],
          [
           -969.2100000000064,
           8,
           882
          ],
          [
           -1015.6100000000006,
           6,
           883
          ],
          [
           -1015.6100000000006,
           6,
           884
          ],
          [
           -1015.6100000000006,
           6,
           885
          ],
          [
           1090.4099999999999,
           7,
           886
          ],
          [
           888.6899999999987,
           8,
           887
          ],
          [
           -1015.6100000000006,
           6,
           888
          ],
          [
           -1015.6100000000006,
           6,
           889
          ],
          [
           -778.0099999999948,
           6,
           890
          ],
          [
           -1015.6100000000006,
           6,
           891
          ],
          [
           -932.1900000000023,
           6,
           892
          ],
          [
           9.299999999999272,
           6,
           893
          ],
          [
           -1015.6100000000006,
           6,
           894
          ],
          [
           -1413.1800000000003,
           8,
           895
          ],
          [
           -1015.6100000000006,
           6,
           896
          ],
          [
           -1015.6100000000006,
           6,
           897
          ],
          [
           1151.1699999999983,
           6,
           898
          ],
          [
           -1015.6100000000006,
           6,
           899
          ],
          [
           -1015.6100000000006,
           6,
           900
          ],
          [
           -647.0899999999965,
           6,
           901
          ],
          [
           -1015.6100000000006,
           6,
           902
          ],
          [
           -1001.4499999999971,
           4,
           903
          ],
          [
           -1015.6100000000006,
           6,
           904
          ],
          [
           -1015.6100000000006,
           6,
           905
          ],
          [
           -1015.6100000000006,
           6,
           906
          ],
          [
           -660.6299999999974,
           8,
           907
          ],
          [
           9.299999999999272,
           6,
           908
          ],
          [
           -1015.6100000000006,
           6,
           909
          ],
          [
           -1015.6100000000006,
           6,
           910
          ],
          [
           -1015.6100000000006,
           6,
           911
          ],
          [
           -1015.6100000000006,
           6,
           912
          ],
          [
           -1015.6100000000006,
           6,
           913
          ],
          [
           -1015.6100000000006,
           6,
           914
          ],
          [
           -1015.6100000000006,
           6,
           915
          ],
          [
           -1015.6100000000006,
           6,
           916
          ],
          [
           -1015.6100000000006,
           6,
           917
          ],
          [
           -1540.4100000000035,
           6,
           918
          ],
          [
           -2020.8099999999977,
           8,
           919
          ],
          [
           -647.0899999999965,
           6,
           920
          ],
          [
           1090.4099999999999,
           7,
           921
          ],
          [
           -2327.720000000001,
           8,
           922
          ],
          [
           -1015.6100000000006,
           6,
           923
          ],
          [
           -1015.6100000000006,
           6,
           924
          ],
          [
           -1687.1799999999967,
           8,
           925
          ],
          [
           -1015.6100000000006,
           6,
           926
          ],
          [
           1519.6900000000023,
           6,
           927
          ],
          [
           -1015.6100000000006,
           6,
           928
          ],
          [
           -1015.6100000000006,
           6,
           929
          ],
          [
           -1015.6100000000006,
           6,
           930
          ],
          [
           -734.0399999999972,
           8,
           931
          ],
          [
           -1015.6100000000006,
           6,
           932
          ],
          [
           -1015.6100000000006,
           6,
           933
          ],
          [
           -1010.989999999998,
           8,
           934
          ],
          [
           -1015.6100000000006,
           6,
           935
          ],
          [
           -1015.6100000000006,
           6,
           936
          ],
          [
           -734.0399999999972,
           8,
           937
          ],
          [
           -1044.6599999999962,
           8,
           938
          ],
          [
           -1015.6100000000006,
           6,
           939
          ],
          [
           -1015.6100000000006,
           6,
           940
          ],
          [
           -1015.6100000000006,
           6,
           941
          ],
          [
           -2020.8099999999977,
           8,
           942
          ],
          [
           -903.3700000000026,
           6,
           943
          ],
          [
           -778.0099999999948,
           6,
           944
          ],
          [
           -1015.6100000000006,
           6,
           945
          ],
          [
           -1052.6300000000047,
           8,
           946
          ],
          [
           -932.1900000000023,
           6,
           947
          ],
          [
           -2545.6100000000006,
           6,
           948
          ],
          [
           3.9799999999995634,
           8,
           949
          ],
          [
           -1015.6100000000006,
           6,
           950
          ],
          [
           246.9000000000051,
           6,
           951
          ],
          [
           -1015.6100000000006,
           6,
           952
          ],
          [
           -1015.6100000000006,
           6,
           953
          ],
          [
           -1015.6100000000006,
           6,
           954
          ],
          [
           888.6899999999987,
           8,
           955
          ],
          [
           -1015.6100000000006,
           6,
           956
          ],
          [
           -1015.6100000000006,
           6,
           957
          ],
          [
           1151.1699999999983,
           6,
           958
          ],
          [
           -1015.6100000000006,
           6,
           959
          ],
          [
           -1687.1799999999967,
           8,
           960
          ],
          [
           -932.1900000000023,
           6,
           961
          ],
          [
           -1015.6100000000006,
           6,
           962
          ],
          [
           -1015.6100000000006,
           6,
           963
          ],
          [
           234.3100000000013,
           8,
           964
          ],
          [
           1328.0100000000057,
           7,
           965
          ],
          [
           -1015.6100000000006,
           6,
           966
          ],
          [
           -1015.6100000000006,
           6,
           967
          ],
          [
           -647.0899999999965,
           6,
           968
          ],
          [
           -1015.6100000000006,
           6,
           969
          ],
          [
           -1318.6599999999926,
           8,
           970
          ],
          [
           -1015.6100000000006,
           6,
           971
          ],
          [
           -1413.1800000000003,
           8,
           972
          ],
          [
           -932.1900000000023,
           6,
           973
          ],
          [
           -2822.3300000000017,
           6,
           974
          ],
          [
           -1015.6100000000006,
           6,
           975
          ],
          [
           -633.1800000000039,
           8,
           976
          ],
          [
           1151.1699999999983,
           6,
           977
          ],
          [
           -772.4999999999964,
           8,
           978
          ],
          [
           -1015.6100000000006,
           6,
           979
          ],
          [
           -1015.6100000000006,
           6,
           980
          ],
          [
           -932.1900000000023,
           6,
           981
          ],
          [
           -1015.6100000000006,
           6,
           982
          ],
          [
           -1015.6100000000006,
           6,
           983
          ],
          [
           -1015.6100000000006,
           6,
           984
          ],
          [
           234.3100000000013,
           8,
           985
          ],
          [
           -2855.2499999999964,
           12,
           986
          ],
          [
           -116.5099999999984,
           10,
           987
          ],
          [
           -1015.6100000000006,
           6,
           988
          ],
          [
           -2020.8099999999977,
           8,
           989
          ],
          [
           -1015.6100000000006,
           6,
           990
          ],
          [
           528.7800000000025,
           8,
           991
          ],
          [
           -1015.6100000000006,
           6,
           992
          ],
          [
           -378.3799999999974,
           8,
           993
          ],
          [
           -1015.6100000000006,
           6,
           994
          ],
          [
           -1015.6100000000006,
           6,
           995
          ],
          [
           1229.4800000000032,
           8,
           996
          ],
          [
           -1015.6100000000006,
           6,
           997
          ],
          [
           2005.0900000000001,
           9,
           998
          ],
          [
           -914.7500000000073,
           6,
           999
          ],
          [
           -1015.6100000000006,
           6,
           1000
          ]
         ],
         "fillcolor": "rgba(255,255,255,0)",
         "hoveron": "points",
         "hovertemplate": "model_type=DQN<br>fmt_total_profit_percentage=%{x}<br>total_reward_cash=%{customdata[0]}<br>num_of_trades=%{customdata[1]}<br>sim_id=%{customdata[2]}<extra></extra>",
         "jitter": 0,
         "legendgroup": "DQN",
         "line": {
          "color": "rgba(255,255,255,0)"
         },
         "marker": {
          "color": "#FF7F0E",
          "symbol": "line-ns-open"
         },
         "name": "DQN",
         "offsetgroup": "DQN",
         "showlegend": false,
         "type": "box",
         "x": [
          -3.2803265453192343,
          -4.551593225729311,
          -7.654168304490804,
          2.4060571049153046,
          4.036564781167606,
          -4.631310946303213,
          -4.631310946303213,
          -4.631310946303213,
          4.036564781167606,
          18.092566577058,
          1.0934051407932577,
          -4.631310946303213,
          2.4060571049153046,
          2.390958796150855,
          4.953472318002583,
          -4.631310946303213,
          -4.631310946303213,
          -4.631310946303213,
          -4.631310946303213,
          1.0934051407932577,
          -4.631310946303213,
          -4.631310946303213,
          -4.604882750924732,
          3.0989402122261867,
          -9.899138398881702,
          -4.631310946303213,
          -4.631310946303213,
          -4.631310946303213,
          -4.631310946303213,
          -4.631310946303213,
          -4.631310946303213,
          4.953472318002583,
          -4.631310946303213,
          5.602567289907268,
          -4.631310946303213,
          1.0934051407932577,
          -4.631310946303213,
          -7.479424674779689,
          -4.631310946303213,
          -4.631310946303213,
          4.953472318002583,
          -4.631310946303213,
          -4.631310946303213,
          -1.685154266617983,
          -4.250137765608997,
          -4.451713811679115,
          -4.631310946303213,
          -4.631310946303213,
          -13.554664332443023,
          -4.631310946303213,
          -4.631310946303213,
          -4.06889022109711,
          -13.554664332443023,
          4.953472318002583,
          6.648290382205557,
          -4.631310946303213,
          -2.590020368002144,
          -4.631310946303213,
          -4.631310946303213,
          -4.631310946303213,
          -4.631310946303213,
          -1.685154266617983,
          -1.1652503122329572,
          4.036564781167606,
          -4.631310946303213,
          -4.631310946303213,
          -4.604882750924732,
          -4.631310946303213,
          -3.9860429272055575,
          -4.631310946303213,
          -3.9860429272055575,
          -4.631310946303213,
          -4.631310946303213,
          -3.2803265453192343,
          -4.840719512495351,
          -4.631310946303213,
          -4.631310946303213,
          -4.631310946303213,
          -4.631310946303213,
          -4.631310946303213,
          1.6891601119682909,
          -6.4195052581949135,
          -4.631310946303213,
          1.0934051407932577,
          -4.631310946303213,
          -4.631310946303213,
          -4.631310946303213,
          4.036564781167606,
          0.27306808301110763,
          1.6895864115751946,
          -0.38648024923255697,
          -4.631310946303213,
          -4.840719512495351,
          -4.631310946303213,
          -4.631310946303213,
          -2.1460559261780587,
          2.4060571049153046,
          -4.631310946303213,
          -4.631310946303213,
          -4.631310946303213,
          -4.631310946303213,
          -4.631310946303213,
          -4.631310946303213,
          -2.5457781855605432,
          -4.631310946303213,
          -4.631310946303213,
          -4.631310946303213,
          -4.631310946303213,
          -4.551593225729311,
          -4.06889022109711,
          -4.631310946303213,
          -4.631310946303213,
          -4.631310946303213,
          -4.631310946303213,
          15.011954732172184,
          -4.631310946303213,
          -3.9860429272055575,
          -4.2117061727453216,
          -4.631310946303213,
          -4.631310946303213,
          -4.631310946303213,
          -7.479424674779689,
          -4.631310946303213,
          -4.631310946303213,
          -0.6084683961703252,
          -4.631310946303213,
          0.9515193090139817,
          -4.631310946303213,
          -5.6978149385712324,
          -4.631310946303213,
          -4.631310946303213,
          -4.631310946303213,
          -4.631310946303213,
          -3.9860429272055575,
          -4.631310946303213,
          -4.631310946303213,
          4.036564781167606,
          -4.631310946303213,
          -4.631310946303213,
          -4.631310946303213,
          -4.631310946303213,
          -10.42161199052487,
          -4.631310946303213,
          2.8993272952564597,
          6.648290382205557,
          -9.82382400188354,
          -10.851025376067213,
          0.27306808301110763,
          -4.631310946303213,
          2.4060571049153046,
          -4.631310946303213,
          -4.631310946303213,
          -4.631310946303213,
          -10.851025376067213,
          -4.631310946303213,
          -4.631310946303213,
          -4.631310946303213,
          -7.654168304490804,
          -1.3638291537162561,
          -9.899138398881702,
          6.4402339096491845,
          -4.631310946303213,
          -4.631310946303213,
          -4.631310946303213,
          4.74047996272442,
          4.036564781167606,
          -6.4195052581949135,
          5.602567289907268,
          -4.631310946303213,
          -4.631310946303213,
          -4.631310946303213,
          -13.554664332443023,
          -4.631310946303213,
          -4.631310946303213,
          -10.826320763447184,
          -4.631310946303213,
          -4.631310946303213,
          4.036564781167606,
          3.3292087503968837,
          -10.851025376067213,
          0.27306808301110763,
          -4.631310946303213,
          -4.631310946303213,
          -3.9860429272055575,
          -0.8437844987385756,
          -6.624987344840749,
          -4.631310946303213,
          -1.685154266617983,
          -4.631310946303213,
          1.0934051407932577,
          -2.5457781855605432,
          -4.631310946303213,
          -4.06889022109711,
          -4.631310946303213,
          -4.604882750924732,
          -1.685154266617983,
          -4.631310946303213,
          -4.250137765608997,
          -4.631310946303213,
          -4.631310946303213,
          -4.631310946303213,
          -3.3492910197644887,
          -4.06889022109711,
          -1.685154266617983,
          -4.631310946303213,
          -4.631310946303213,
          -4.631310946303213,
          -4.631310946303213,
          -4.631310946303213,
          -4.631310946303213,
          6.648290382205557,
          -4.631310946303213,
          -4.631310946303213,
          -4.631310946303213,
          -9.109172886175031,
          2.4060571049153046,
          -4.631310946303213,
          -4.631310946303213,
          -4.631310946303213,
          -4.840719512495351,
          -4.551593225729311,
          -4.631310946303213,
          4.648599832542488,
          -4.631310946303213,
          -4.631310946303213,
          -10.851025376067213,
          -4.631310946303213,
          -4.631310946303213,
          -4.631310946303213,
          -4.631310946303213,
          -4.631310946303213,
          -4.840719512495351,
          -4.631310946303213,
          1.0934051407932577,
          6.648290382205557,
          -4.631310946303213,
          5.602567289907268,
          -4.631310946303213,
          -4.631310946303213,
          -2.617006759420959,
          -4.840719512495351,
          -4.631310946303213,
          -4.631310946303213,
          -4.631310946303213,
          -4.604882750924732,
          -3.3492910197644887,
          -3.9860429272055575,
          1.0934051407932577,
          -4.631310946303213,
          2.6632198538069973,
          -4.631310946303213,
          -4.631310946303213,
          -4.631310946303213,
          13.462285866373591,
          1.0934051407932577,
          -4.631310946303213,
          -3.3492910197644887,
          -4.631310946303213,
          5.602567289907268,
          -4.631310946303213,
          -4.631310946303213,
          -0.6532772774725526,
          -4.631310946303213,
          6.648290382205557,
          0.27306808301110763,
          -4.631310946303213,
          -4.631310946303213,
          -4.631310946303213,
          -4.631310946303213,
          -4.631310946303213,
          2.4060571049153046,
          -7.479424674779689,
          -4.631310946303213,
          -4.631310946303213,
          -4.631310946303213,
          -4.631310946303213,
          -4.631310946303213,
          2.6347781084564925,
          -4.631310946303213,
          -4.631310946303213,
          -4.06889022109711,
          5.602567289907268,
          0.06361140483119865,
          -3.9860429272055575,
          4.953472318002583,
          -2.5457781855605432,
          1.523348591214324,
          6.648290382205557,
          -6.4195052581949135,
          -4.551593225729311,
          -1.685154266617983,
          -4.631310946303213,
          -10.851025376067213,
          -0.7383882289717758,
          -4.631310946303213,
          -4.631310946303213,
          -4.250137765608997,
          -4.250137765608997,
          -4.631310946303213,
          6.648290382205557,
          -4.631310946303213,
          -4.631310946303213,
          -4.631310946303213,
          -4.631310946303213,
          2.6347781084564925,
          -4.631310946303213,
          -4.631310946303213,
          -4.631310946303213,
          -2.7099386179414098,
          -4.631310946303213,
          -4.1701014262367275,
          -4.631310946303213,
          -4.631310946303213,
          -4.631310946303213,
          -4.06889022109711,
          -4.631310946303213,
          4.526840716594149,
          -4.631310946303213,
          6.648290382205557,
          6.648290382205557,
          1.0934051407932577,
          -4.631310946303213,
          -3.2803265453192343,
          -1.685154266617983,
          -4.631310946303213,
          -4.631310946303213,
          -4.06889022109711,
          -2.5457781855605432,
          -4.631310946303213,
          -4.631310946303213,
          4.953472318002583,
          -4.631310946303213,
          -4.551593225729311,
          -4.631310946303213,
          -4.631310946303213,
          -4.631310946303213,
          -4.631310946303213,
          -13.482405552522248,
          4.953472318002583,
          -4.631310946303213,
          -7.479424674779689,
          -4.631310946303213,
          2.4060571049153046,
          -4.631310946303213,
          -4.631310946303213,
          -4.631310946303213,
          -3.2803265453192343,
          -4.631310946303213,
          -0.6084683961703252,
          -1.685154266617983,
          -4.631310946303213,
          0.27306808301110763,
          -4.631310946303213,
          5.851042314566368,
          -3.9860429272055575,
          -4.631310946303213,
          -4.631310946303213,
          -4.631310946303213,
          -10.851025376067213,
          3.2400493658041096,
          -3.3225075560748496,
          -4.631310946303213,
          0.27306808301110763,
          -4.631310946303213,
          6.44840692454125,
          -10.851025376067213,
          -4.631310946303213,
          -4.631310946303213,
          -4.631310946303213,
          -4.06889022109711,
          -4.631310946303213,
          -4.631310946303213,
          -4.631310946303213,
          -3.2803265453192343,
          -4.631310946303213,
          -4.631310946303213,
          -4.631310946303213,
          -4.631310946303213,
          -4.631310946303213,
          4.953472318002583,
          -2.617006759420959,
          -13.554664332443023,
          -3.9860429272055575,
          -4.631310946303213,
          1.0934051407932577,
          -4.631310946303213,
          -13.554664332443023,
          -4.631310946303213,
          -4.631310946303213,
          -1.207020713033391,
          -3.3492910197644887,
          -4.631310946303213,
          6.648290382205557,
          -4.631310946303213,
          -7.654168304490804,
          -4.631310946303213,
          -4.631310946303213,
          0.27306808301110763,
          -4.631310946303213,
          -4.631310946303213,
          -4.250137765608997,
          -4.631310946303213,
          -4.631310946303213,
          -3.9860429272055575,
          -9.148873680313752,
          -1.019952444261485,
          -7.654168304490804,
          -4.631310946303213,
          -4.631310946303213,
          -4.631310946303213,
          -10.851025376067213,
          1.9606624886516544,
          -4.631310946303213,
          5.602567289907268,
          1.6793712134423266,
          -4.631310946303213,
          -4.631310946303213,
          -4.631310946303213,
          1.1779080935216957,
          -3.602290714905887,
          -4.631310946303213,
          -4.631310946303213,
          1.0934051407932577,
          -2.5457781855605432,
          -4.631310946303213,
          -13.554664332443023,
          -4.631310946303213,
          -4.631310946303213,
          -4.631310946303213,
          -4.631310946303213,
          16.341347262327854,
          5.794112928900974,
          4.036564781167606,
          -3.988702378739417,
          -4.631310946303213,
          0.27306808301110763,
          -4.631310946303213,
          -4.631310946303213,
          -11.664268424341795,
          -4.631310946303213,
          -4.631310946303213,
          -4.631310946303213,
          -4.631310946303213,
          -4.631310946303213,
          -4.631310946303213,
          -4.196868359373617,
          -4.631310946303213,
          -4.06889022109711,
          -4.631310946303213,
          -4.631310946303213,
          -4.631310946303213,
          -4.840719512495351,
          -6.4195052581949135,
          6.648290382205557,
          -4.631310946303213,
          -4.631310946303213,
          -4.631310946303213,
          -4.631310946303213,
          -2.617006759420959,
          -13.554664332443023,
          -6.4195052581949135,
          -4.06889022109711,
          0.27306808301110763,
          -4.06889022109711,
          -4.631310946303213,
          -4.631310946303213,
          -3.3492910197644887,
          -4.631310946303213,
          -4.631310946303213,
          -4.604882750924732,
          -4.631310946303213,
          -4.631310946303213,
          -4.631310946303213,
          2.6347781084564925,
          -7.402087663604473,
          -4.631310946303213,
          -4.631310946303213,
          -4.631310946303213,
          -4.631310946303213,
          -7.654168304490804,
          -4.631310946303213,
          -4.840719512495351,
          -10.41200668550777,
          -4.551593225729311,
          -3.9860429272055575,
          -4.631310946303213,
          -1.685154266617983,
          4.982556610757283,
          5.851042314566368,
          -3.3492910197644887,
          -4.631310946303213,
          -4.631310946303213,
          0.27306808301110763,
          -2.617006759420959,
          -4.631310946303213,
          0.018202942603240402,
          -4.631310946303213,
          -4.631310946303213,
          -4.631310946303213,
          -4.631310946303213,
          -4.631310946303213,
          -4.631310946303213,
          4.953472318002583,
          -4.631310946303213,
          -4.631310946303213,
          -12.392599046846641,
          -4.631310946303213,
          -4.631310946303213,
          -4.631310946303213,
          -4.604882750924732,
          -4.631310946303213,
          -4.631310946303213,
          -4.631310946303213,
          5.459012915217709,
          6.648290382205557,
          0.27306808301110763,
          -11.728832360761409,
          -4.631310946303213,
          -7.654168304490804,
          -4.631310946303213,
          -4.631310946303213,
          -4.631310946303213,
          -4.631310946303213,
          -4.631310946303213,
          -4.631310946303213,
          -4.631310946303213,
          -4.631310946303213,
          -4.631310946303213,
          -4.631310946303213,
          -4.631310946303213,
          -3.2803265453192343,
          -4.631310946303213,
          5.602567289907268,
          -4.631310946303213,
          -4.631310946303213,
          -4.631310946303213,
          -4.631310946303213,
          -4.631310946303213,
          -4.631310946303213,
          2.4060571049153046,
          -3.9860429272055575,
          -4.631310946303213,
          -4.631310946303213,
          -4.840719512495351,
          -4.06889022109711,
          -8.74157798662748,
          -4.631310946303213,
          3.456846789586887,
          -4.631310946303213,
          -9.214215916760093,
          -4.631310946303213,
          -9.899138398881702,
          -4.631310946303213,
          17.83326139744159,
          -4.631310946303213,
          5.602567289907268,
          -4.631310946303213,
          1.0934051407932577,
          -4.631310946303213,
          -4.631310946303213,
          -7.654168304490804,
          -4.631310946303213,
          -4.631310946303213,
          -4.631310946303213,
          -7.479424674779689,
          -0.29243487109227306,
          2.4060571049153046,
          -4.551593225729311,
          -2.617006759420959,
          -4.631310946303213,
          -4.631310946303213,
          -4.631310946303213,
          -4.631310946303213,
          -10.454916692481476,
          -4.631310946303213,
          -4.631310946303213,
          -2.8937536991131996,
          -4.06889022109711,
          -4.631310946303213,
          2.4060571049153046,
          -10.851025376067213,
          -4.631310946303213,
          -4.604882750924732,
          -4.604882750924732,
          -4.631310946303213,
          -4.631310946303213,
          13.209435825035643,
          4.953472318002583,
          -4.631310946303213,
          1.0934051407932577,
          -4.631310946303213,
          -4.631310946303213,
          -4.631310946303213,
          -4.631310946303213,
          4.953472318002583,
          2.6347781084564925,
          -4.631310946303213,
          -7.479424674779689,
          -2.617006759420959,
          -9.899138398881702,
          -4.631310946303213,
          5.602567289907268,
          -4.631310946303213,
          -4.631310946303213,
          4.036564781167606,
          -4.604882750924732,
          -4.631310946303213,
          -3.2803265453192343,
          -3.9860429272055575,
          -4.631310946303213,
          -4.631310946303213,
          -4.631310946303213,
          1.9512259968194723,
          -4.631310946303213,
          -2.5457781855605432,
          2.4060571049153046,
          -7.479424674779689,
          -3.2803265453192343,
          -4.631310946303213,
          -4.631310946303213,
          0.27306808301110763,
          -4.631310946303213,
          -6.4195052581949135,
          -3.4927015747098222,
          -2.617006759420959,
          -4.631310946303213,
          7.369876594178448,
          -4.631310946303213,
          -4.631310946303213,
          5.602567289907268,
          1.0934051407932577,
          -4.631310946303213,
          -4.631310946303213,
          -4.631310946303213,
          -4.631310946303213,
          4.953472318002583,
          -4.631310946303213,
          -6.346005433065772,
          -4.631310946303213,
          -4.631310946303213,
          -4.631310946303213,
          -9.899138398881702,
          -13.554664332443023,
          4.036564781167606,
          2.6347781084564925,
          -4.631310946303213,
          -4.631310946303213,
          0.27306808301110763,
          -4.631310946303213,
          -4.631310946303213,
          4.036564781167606,
          -4.631310946303213,
          -4.631310946303213,
          -4.631310946303213,
          -4.631310946303213,
          -4.631310946303213,
          -13.482405552522248,
          -2.617006759420959,
          -1.685154266617983,
          -4.631310946303213,
          8.689577528263825,
          -4.631310946303213,
          6.648290382205557,
          -7.654168304490804,
          -4.631310946303213,
          -9.899138398881702,
          -4.631310946303213,
          4.036564781167606,
          -4.840719512495351,
          -4.631310946303213,
          -4.631310946303213,
          -4.631310946303213,
          0.16336309109108438,
          -6.4195052581949135,
          -7.654168304490804,
          -6.4195052581949135,
          -4.631310946303213,
          -4.551593225729311,
          -4.631310946303213,
          -3.2803265453192343,
          0.06361140483119865,
          -4.631310946303213,
          -4.631310946303213,
          -4.631310946303213,
          1.0934051407932577,
          -4.631310946303213,
          1.0934051407932577,
          -4.631310946303213,
          -8.62277757494514,
          1.863958595137838,
          1.0934051407932577,
          -9.899138398881702,
          -4.631310946303213,
          -4.631310946303213,
          -4.631310946303213,
          -10.096979980094412,
          4.953472318002583,
          -2.617006759420959,
          -4.631310946303213,
          -4.631310946303213,
          -4.631310946303213,
          -4.250137765608997,
          -4.631310946303213,
          -4.631310946303213,
          -2.7099386179414098,
          -4.631310946303213,
          -4.631310946303213,
          -4.631310946303213,
          -4.631310946303213,
          -4.631310946303213,
          -4.631310946303213,
          -10.851025376067213,
          -4.631310946303213,
          -4.631310946303213,
          -4.631310946303213,
          -4.631310946303213,
          -4.631310946303213,
          -0.430331871038403,
          -4.06889022109711,
          -4.631310946303213,
          -3.2803265453192343,
          -4.631310946303213,
          -4.631310946303213,
          -1.685154266617983,
          -4.631310946303213,
          8.689577528263825,
          -4.631310946303213,
          -4.631310946303213,
          -4.631310946303213,
          13.462285866373591,
          -4.631310946303213,
          -10.39678838055923,
          -4.631310946303213,
          -4.631310946303213,
          -4.631310946303213,
          -4.631310946303213,
          -4.631310946303213,
          -4.631310946303213,
          -4.631310946303213,
          -4.631310946303213,
          13.341463227252381,
          4.036564781167606,
          -4.631310946303213,
          -1.710045321836129,
          -4.631310946303213,
          -4.631310946303213,
          -4.1701014262367275,
          -4.631310946303213,
          -4.631310946303213,
          -4.631310946303213,
          -2.65290205109715,
          0.27306808301110763,
          9.942899715774512,
          -4.631310946303213,
          -4.631310946303213,
          5.602567289907268,
          -5.6978149385712324,
          -4.631310946303213,
          -4.631310946303213,
          -2.6259177166235492,
          1.0934051407932577,
          -3.2803265453192343,
          0.27306808301110763,
          4.953472318002583,
          -4.631310946303213,
          -13.554664332443023,
          4.036564781167606,
          -4.631310946303213,
          7.07454629978137,
          -4.631310946303213,
          2.6347781084564925,
          -4.631310946303213,
          -3.3492910197644887,
          -4.631310946303213,
          -4.631310946303213,
          -4.042306169903087,
          -4.631310946303213,
          -2.5457781855605432,
          -4.631310946303213,
          -4.631310946303213,
          -4.631310946303213,
          -4.631310946303213,
          -6.4195052581949135,
          6.648290382205557,
          -4.631310946303213,
          -4.631310946303213,
          -4.631310946303213,
          -4.631310946303213,
          -1.685154266617983,
          -4.631310946303213,
          -7.654168304490804,
          -1.685154266617983,
          -4.631310946303213,
          10.325619158830257,
          -3.3492910197644887,
          -4.631310946303213,
          -6.4195052581949135,
          3.2262938107913586,
          -4.631310946303213,
          1.0934051407932577,
          -7.479424674779689,
          -4.631310946303213,
          2.6347781084564925,
          -6.4195052581949135,
          -4.631310946303213,
          -4.631310946303213,
          -4.604882750924732,
          -9.899138398881702,
          -6.4195052581949135,
          -4.631310946303213,
          -4.551593225729311,
          -7.479424674779689,
          3.0099795188012424,
          -4.631310946303213,
          -4.631310946303213,
          5.602567289907268,
          -4.631310946303213,
          -4.631310946303213,
          2.9767903817055297,
          -7.402087663604473,
          6.648290382205557,
          -4.631310946303213,
          -4.06889022109711,
          2.181196033629562,
          -4.631310946303213,
          -4.631310946303213,
          0.27306808301110763,
          -4.631310946303213,
          -4.631310946303213,
          -4.631310946303213,
          -4.631310946303213,
          -4.631310946303213,
          -5.544498509581364,
          -9.899138398881702,
          -4.631310946303213,
          -4.631310946303213,
          -4.631310946303213,
          -4.631310946303213,
          -4.840719512495351,
          -3.9860429272055575,
          -4.631310946303213,
          4.953472318002583,
          -16.113048883551883,
          -4.631310946303213,
          -3.2803265453192343,
          -4.631310946303213,
          -4.06889022109711,
          -4.631310946303213,
          -4.631310946303213,
          -4.631310946303213,
          -4.631310946303213,
          -4.631310946303213,
          0.7995032360188947,
          -7.654168304490804,
          2.6632198538069973,
          -4.631310946303213,
          -4.631310946303213,
          3.3041266093189137,
          -4.631310946303213,
          -4.631310946303213,
          -4.631310946303213,
          -4.631310946303213,
          4.175699967058266,
          -4.631310946303213,
          -4.631310946303213,
          4.953472318002583,
          2.6347781084564925,
          -4.631310946303213,
          17.36670078466629,
          -4.631310946303213,
          -7.479424674779689,
          -7.928803056068368,
          -3.9594359176958416,
          -4.631310946303213,
          -1.685154266617983,
          -13.744479186518955,
          -4.631310946303213,
          -4.631310946303213,
          -4.06889022109711,
          2.409414816390698,
          -4.631310946303213,
          -4.460383303872706,
          -4.631310946303213,
          -4.631310946303213,
          -4.631310946303213,
          4.953472318002583,
          4.036564781167606,
          -4.631310946303213,
          -4.631310946303213,
          -3.2803265453192343,
          -4.631310946303213,
          -4.250137765608997,
          0.27306808301110763,
          -4.631310946303213,
          -6.4195052581949135,
          -4.631310946303213,
          -4.631310946303213,
          6.648290382205557,
          -4.631310946303213,
          -4.631310946303213,
          -2.5457781855605432,
          -4.631310946303213,
          -4.551593225729311,
          -4.631310946303213,
          -4.631310946303213,
          -4.631310946303213,
          -2.590020368002144,
          0.27306808301110763,
          -4.631310946303213,
          -4.631310946303213,
          -4.631310946303213,
          -4.631310946303213,
          -4.631310946303213,
          -4.631310946303213,
          -4.631310946303213,
          -4.631310946303213,
          -4.631310946303213,
          -7.479424674779689,
          -9.899138398881702,
          -2.5457781855605432,
          4.953472318002583,
          -10.136973264844462,
          -4.631310946303213,
          -4.631310946303213,
          -7.654168304490804,
          -4.631310946303213,
          8.980486679294808,
          -4.631310946303213,
          -4.631310946303213,
          -4.631310946303213,
          -3.3492910197644887,
          -4.631310946303213,
          -4.631310946303213,
          -4.604882750924732,
          -4.631310946303213,
          -4.631310946303213,
          -3.3492910197644887,
          -4.373076923202756,
          -4.631310946303213,
          -4.631310946303213,
          -4.631310946303213,
          -9.899138398881702,
          -3.9860429272055575,
          -3.2803265453192343,
          -4.631310946303213,
          -4.840719512495351,
          -4.250137765608997,
          -12.589932446907447,
          -0.6522222948931011,
          -4.631310946303213,
          1.6935274828742575,
          -4.631310946303213,
          -4.631310946303213,
          -4.631310946303213,
          4.036564781167606,
          -4.631310946303213,
          -4.631310946303213,
          6.648290382205557,
          -4.631310946303213,
          -7.654168304490804,
          -4.250137765608997,
          -4.631310946303213,
          -4.631310946303213,
          1.0934051407932577,
          6.4402339096491845,
          -4.631310946303213,
          -4.631310946303213,
          -2.5457781855605432,
          -4.631310946303213,
          -5.634739713933412,
          -4.631310946303213,
          -6.4195052581949135,
          -4.250137765608997,
          -13.554664332443023,
          -4.631310946303213,
          -2.779309798718843,
          6.648290382205557,
          -3.5240210536255367,
          -4.631310946303213,
          -4.631310946303213,
          -4.250137765608997,
          -4.631310946303213,
          -4.631310946303213,
          -4.631310946303213,
          1.0934051407932577,
          -12.217449648391131,
          -1.710045321836129,
          -4.631310946303213,
          -9.899138398881702,
          -4.631310946303213,
          2.4060571049153046,
          -4.631310946303213,
          -1.685154266617983,
          -4.631310946303213,
          -4.631310946303213,
          5.602567289907268,
          -4.631310946303213,
          9.647493555390408,
          -4.06889022109711,
          -4.631310946303213
         ],
         "xaxis": "x2",
         "yaxis": "y2"
        }
       ],
       "layout": {
        "barmode": "relative",
        "height": 600,
        "legend": {
         "title": {
          "text": "model_type"
         },
         "tracegroupgap": 0
        },
        "margin": {
         "t": 60
        },
        "template": {
         "data": {
          "bar": [
           {
            "error_x": {
             "color": "#2a3f5f"
            },
            "error_y": {
             "color": "#2a3f5f"
            },
            "marker": {
             "line": {
              "color": "#E5ECF6",
              "width": 0.5
             },
             "pattern": {
              "fillmode": "overlay",
              "size": 10,
              "solidity": 0.2
             }
            },
            "type": "bar"
           }
          ],
          "barpolar": [
           {
            "marker": {
             "line": {
              "color": "#E5ECF6",
              "width": 0.5
             },
             "pattern": {
              "fillmode": "overlay",
              "size": 10,
              "solidity": 0.2
             }
            },
            "type": "barpolar"
           }
          ],
          "carpet": [
           {
            "aaxis": {
             "endlinecolor": "#2a3f5f",
             "gridcolor": "white",
             "linecolor": "white",
             "minorgridcolor": "white",
             "startlinecolor": "#2a3f5f"
            },
            "baxis": {
             "endlinecolor": "#2a3f5f",
             "gridcolor": "white",
             "linecolor": "white",
             "minorgridcolor": "white",
             "startlinecolor": "#2a3f5f"
            },
            "type": "carpet"
           }
          ],
          "choropleth": [
           {
            "colorbar": {
             "outlinewidth": 0,
             "ticks": ""
            },
            "type": "choropleth"
           }
          ],
          "contour": [
           {
            "colorbar": {
             "outlinewidth": 0,
             "ticks": ""
            },
            "colorscale": [
             [
              0,
              "#0d0887"
             ],
             [
              0.1111111111111111,
              "#46039f"
             ],
             [
              0.2222222222222222,
              "#7201a8"
             ],
             [
              0.3333333333333333,
              "#9c179e"
             ],
             [
              0.4444444444444444,
              "#bd3786"
             ],
             [
              0.5555555555555556,
              "#d8576b"
             ],
             [
              0.6666666666666666,
              "#ed7953"
             ],
             [
              0.7777777777777778,
              "#fb9f3a"
             ],
             [
              0.8888888888888888,
              "#fdca26"
             ],
             [
              1,
              "#f0f921"
             ]
            ],
            "type": "contour"
           }
          ],
          "contourcarpet": [
           {
            "colorbar": {
             "outlinewidth": 0,
             "ticks": ""
            },
            "type": "contourcarpet"
           }
          ],
          "heatmap": [
           {
            "colorbar": {
             "outlinewidth": 0,
             "ticks": ""
            },
            "colorscale": [
             [
              0,
              "#0d0887"
             ],
             [
              0.1111111111111111,
              "#46039f"
             ],
             [
              0.2222222222222222,
              "#7201a8"
             ],
             [
              0.3333333333333333,
              "#9c179e"
             ],
             [
              0.4444444444444444,
              "#bd3786"
             ],
             [
              0.5555555555555556,
              "#d8576b"
             ],
             [
              0.6666666666666666,
              "#ed7953"
             ],
             [
              0.7777777777777778,
              "#fb9f3a"
             ],
             [
              0.8888888888888888,
              "#fdca26"
             ],
             [
              1,
              "#f0f921"
             ]
            ],
            "type": "heatmap"
           }
          ],
          "heatmapgl": [
           {
            "colorbar": {
             "outlinewidth": 0,
             "ticks": ""
            },
            "colorscale": [
             [
              0,
              "#0d0887"
             ],
             [
              0.1111111111111111,
              "#46039f"
             ],
             [
              0.2222222222222222,
              "#7201a8"
             ],
             [
              0.3333333333333333,
              "#9c179e"
             ],
             [
              0.4444444444444444,
              "#bd3786"
             ],
             [
              0.5555555555555556,
              "#d8576b"
             ],
             [
              0.6666666666666666,
              "#ed7953"
             ],
             [
              0.7777777777777778,
              "#fb9f3a"
             ],
             [
              0.8888888888888888,
              "#fdca26"
             ],
             [
              1,
              "#f0f921"
             ]
            ],
            "type": "heatmapgl"
           }
          ],
          "histogram": [
           {
            "marker": {
             "pattern": {
              "fillmode": "overlay",
              "size": 10,
              "solidity": 0.2
             }
            },
            "type": "histogram"
           }
          ],
          "histogram2d": [
           {
            "colorbar": {
             "outlinewidth": 0,
             "ticks": ""
            },
            "colorscale": [
             [
              0,
              "#0d0887"
             ],
             [
              0.1111111111111111,
              "#46039f"
             ],
             [
              0.2222222222222222,
              "#7201a8"
             ],
             [
              0.3333333333333333,
              "#9c179e"
             ],
             [
              0.4444444444444444,
              "#bd3786"
             ],
             [
              0.5555555555555556,
              "#d8576b"
             ],
             [
              0.6666666666666666,
              "#ed7953"
             ],
             [
              0.7777777777777778,
              "#fb9f3a"
             ],
             [
              0.8888888888888888,
              "#fdca26"
             ],
             [
              1,
              "#f0f921"
             ]
            ],
            "type": "histogram2d"
           }
          ],
          "histogram2dcontour": [
           {
            "colorbar": {
             "outlinewidth": 0,
             "ticks": ""
            },
            "colorscale": [
             [
              0,
              "#0d0887"
             ],
             [
              0.1111111111111111,
              "#46039f"
             ],
             [
              0.2222222222222222,
              "#7201a8"
             ],
             [
              0.3333333333333333,
              "#9c179e"
             ],
             [
              0.4444444444444444,
              "#bd3786"
             ],
             [
              0.5555555555555556,
              "#d8576b"
             ],
             [
              0.6666666666666666,
              "#ed7953"
             ],
             [
              0.7777777777777778,
              "#fb9f3a"
             ],
             [
              0.8888888888888888,
              "#fdca26"
             ],
             [
              1,
              "#f0f921"
             ]
            ],
            "type": "histogram2dcontour"
           }
          ],
          "mesh3d": [
           {
            "colorbar": {
             "outlinewidth": 0,
             "ticks": ""
            },
            "type": "mesh3d"
           }
          ],
          "parcoords": [
           {
            "line": {
             "colorbar": {
              "outlinewidth": 0,
              "ticks": ""
             }
            },
            "type": "parcoords"
           }
          ],
          "pie": [
           {
            "automargin": true,
            "type": "pie"
           }
          ],
          "scatter": [
           {
            "fillpattern": {
             "fillmode": "overlay",
             "size": 10,
             "solidity": 0.2
            },
            "type": "scatter"
           }
          ],
          "scatter3d": [
           {
            "line": {
             "colorbar": {
              "outlinewidth": 0,
              "ticks": ""
             }
            },
            "marker": {
             "colorbar": {
              "outlinewidth": 0,
              "ticks": ""
             }
            },
            "type": "scatter3d"
           }
          ],
          "scattercarpet": [
           {
            "marker": {
             "colorbar": {
              "outlinewidth": 0,
              "ticks": ""
             }
            },
            "type": "scattercarpet"
           }
          ],
          "scattergeo": [
           {
            "marker": {
             "colorbar": {
              "outlinewidth": 0,
              "ticks": ""
             }
            },
            "type": "scattergeo"
           }
          ],
          "scattergl": [
           {
            "marker": {
             "colorbar": {
              "outlinewidth": 0,
              "ticks": ""
             }
            },
            "type": "scattergl"
           }
          ],
          "scattermapbox": [
           {
            "marker": {
             "colorbar": {
              "outlinewidth": 0,
              "ticks": ""
             }
            },
            "type": "scattermapbox"
           }
          ],
          "scatterpolar": [
           {
            "marker": {
             "colorbar": {
              "outlinewidth": 0,
              "ticks": ""
             }
            },
            "type": "scatterpolar"
           }
          ],
          "scatterpolargl": [
           {
            "marker": {
             "colorbar": {
              "outlinewidth": 0,
              "ticks": ""
             }
            },
            "type": "scatterpolargl"
           }
          ],
          "scatterternary": [
           {
            "marker": {
             "colorbar": {
              "outlinewidth": 0,
              "ticks": ""
             }
            },
            "type": "scatterternary"
           }
          ],
          "surface": [
           {
            "colorbar": {
             "outlinewidth": 0,
             "ticks": ""
            },
            "colorscale": [
             [
              0,
              "#0d0887"
             ],
             [
              0.1111111111111111,
              "#46039f"
             ],
             [
              0.2222222222222222,
              "#7201a8"
             ],
             [
              0.3333333333333333,
              "#9c179e"
             ],
             [
              0.4444444444444444,
              "#bd3786"
             ],
             [
              0.5555555555555556,
              "#d8576b"
             ],
             [
              0.6666666666666666,
              "#ed7953"
             ],
             [
              0.7777777777777778,
              "#fb9f3a"
             ],
             [
              0.8888888888888888,
              "#fdca26"
             ],
             [
              1,
              "#f0f921"
             ]
            ],
            "type": "surface"
           }
          ],
          "table": [
           {
            "cells": {
             "fill": {
              "color": "#EBF0F8"
             },
             "line": {
              "color": "white"
             }
            },
            "header": {
             "fill": {
              "color": "#C8D4E3"
             },
             "line": {
              "color": "white"
             }
            },
            "type": "table"
           }
          ]
         },
         "layout": {
          "annotationdefaults": {
           "arrowcolor": "#2a3f5f",
           "arrowhead": 0,
           "arrowwidth": 1
          },
          "autotypenumbers": "strict",
          "coloraxis": {
           "colorbar": {
            "outlinewidth": 0,
            "ticks": ""
           }
          },
          "colorscale": {
           "diverging": [
            [
             0,
             "#8e0152"
            ],
            [
             0.1,
             "#c51b7d"
            ],
            [
             0.2,
             "#de77ae"
            ],
            [
             0.3,
             "#f1b6da"
            ],
            [
             0.4,
             "#fde0ef"
            ],
            [
             0.5,
             "#f7f7f7"
            ],
            [
             0.6,
             "#e6f5d0"
            ],
            [
             0.7,
             "#b8e186"
            ],
            [
             0.8,
             "#7fbc41"
            ],
            [
             0.9,
             "#4d9221"
            ],
            [
             1,
             "#276419"
            ]
           ],
           "sequential": [
            [
             0,
             "#0d0887"
            ],
            [
             0.1111111111111111,
             "#46039f"
            ],
            [
             0.2222222222222222,
             "#7201a8"
            ],
            [
             0.3333333333333333,
             "#9c179e"
            ],
            [
             0.4444444444444444,
             "#bd3786"
            ],
            [
             0.5555555555555556,
             "#d8576b"
            ],
            [
             0.6666666666666666,
             "#ed7953"
            ],
            [
             0.7777777777777778,
             "#fb9f3a"
            ],
            [
             0.8888888888888888,
             "#fdca26"
            ],
            [
             1,
             "#f0f921"
            ]
           ],
           "sequentialminus": [
            [
             0,
             "#0d0887"
            ],
            [
             0.1111111111111111,
             "#46039f"
            ],
            [
             0.2222222222222222,
             "#7201a8"
            ],
            [
             0.3333333333333333,
             "#9c179e"
            ],
            [
             0.4444444444444444,
             "#bd3786"
            ],
            [
             0.5555555555555556,
             "#d8576b"
            ],
            [
             0.6666666666666666,
             "#ed7953"
            ],
            [
             0.7777777777777778,
             "#fb9f3a"
            ],
            [
             0.8888888888888888,
             "#fdca26"
            ],
            [
             1,
             "#f0f921"
            ]
           ]
          },
          "colorway": [
           "#636efa",
           "#EF553B",
           "#00cc96",
           "#ab63fa",
           "#FFA15A",
           "#19d3f3",
           "#FF6692",
           "#B6E880",
           "#FF97FF",
           "#FECB52"
          ],
          "font": {
           "color": "#2a3f5f"
          },
          "geo": {
           "bgcolor": "white",
           "lakecolor": "white",
           "landcolor": "#E5ECF6",
           "showlakes": true,
           "showland": true,
           "subunitcolor": "white"
          },
          "hoverlabel": {
           "align": "left"
          },
          "hovermode": "closest",
          "mapbox": {
           "style": "light"
          },
          "paper_bgcolor": "white",
          "plot_bgcolor": "#E5ECF6",
          "polar": {
           "angularaxis": {
            "gridcolor": "white",
            "linecolor": "white",
            "ticks": ""
           },
           "bgcolor": "#E5ECF6",
           "radialaxis": {
            "gridcolor": "white",
            "linecolor": "white",
            "ticks": ""
           }
          },
          "scene": {
           "xaxis": {
            "backgroundcolor": "#E5ECF6",
            "gridcolor": "white",
            "gridwidth": 2,
            "linecolor": "white",
            "showbackground": true,
            "ticks": "",
            "zerolinecolor": "white"
           },
           "yaxis": {
            "backgroundcolor": "#E5ECF6",
            "gridcolor": "white",
            "gridwidth": 2,
            "linecolor": "white",
            "showbackground": true,
            "ticks": "",
            "zerolinecolor": "white"
           },
           "zaxis": {
            "backgroundcolor": "#E5ECF6",
            "gridcolor": "white",
            "gridwidth": 2,
            "linecolor": "white",
            "showbackground": true,
            "ticks": "",
            "zerolinecolor": "white"
           }
          },
          "shapedefaults": {
           "line": {
            "color": "#2a3f5f"
           }
          },
          "ternary": {
           "aaxis": {
            "gridcolor": "white",
            "linecolor": "white",
            "ticks": ""
           },
           "baxis": {
            "gridcolor": "white",
            "linecolor": "white",
            "ticks": ""
           },
           "bgcolor": "#E5ECF6",
           "caxis": {
            "gridcolor": "white",
            "linecolor": "white",
            "ticks": ""
           }
          },
          "title": {
           "x": 0.05
          },
          "xaxis": {
           "automargin": true,
           "gridcolor": "white",
           "linecolor": "white",
           "ticks": "",
           "title": {
            "standoff": 15
           },
           "zerolinecolor": "white",
           "zerolinewidth": 2
          },
          "yaxis": {
           "automargin": true,
           "gridcolor": "white",
           "linecolor": "white",
           "ticks": "",
           "title": {
            "standoff": 15
           },
           "zerolinecolor": "white",
           "zerolinewidth": 2
          }
         }
        },
        "width": 800,
        "xaxis": {
         "anchor": "y",
         "domain": [
          0,
          1
         ],
         "title": {
          "text": "fmt_total_profit_percentage"
         }
        },
        "xaxis2": {
         "anchor": "y2",
         "domain": [
          0,
          1
         ],
         "matches": "x",
         "showgrid": true,
         "showticklabels": false
        },
        "yaxis": {
         "anchor": "x",
         "domain": [
          0,
          0.7326
         ],
         "title": {
          "text": "count"
         }
        },
        "yaxis2": {
         "anchor": "x2",
         "domain": [
          0.7426,
          1
         ],
         "matches": "y2",
         "showgrid": false,
         "showline": false,
         "showticklabels": false,
         "ticks": ""
        }
       }
      }
     },
     "metadata": {},
     "output_type": "display_data"
    }
   ],
   "source": [
    "fig = px.histogram(df_trader_results, x=\"fmt_total_profit_percentage\", color=\"model_type\", color_discrete_sequence=[ \"#FF7F0E\", \"#00CC96\", \"#10aded\", \"#8A56EF\"],  width=800, height=600, marginal=\"rug\", # can be `box`, `violin`\n",
    "                         hover_data=['total_reward_cash','fmt_total_profit_percentage', 'num_of_trades', 'sim_id'])\n",
    "fig.show()"
   ]
  },
  {
   "cell_type": "code",
   "execution_count": 26,
   "metadata": {},
   "outputs": [],
   "source": [
    "df_trader_results_stats = df_trader_results.groupby(['model_type'])['fmt_total_profit_percentage'].agg(['median']).reset_index()"
   ]
  },
  {
   "cell_type": "code",
   "execution_count": 32,
   "metadata": {},
   "outputs": [],
   "source": [
    "# i_A2C = np.argmin(np.abs(df_trader_results[df_trader_results['model_type']=='A2C']['fmt_total_profit_percentage'] - df_trader_results_stats[df_trader_results_stats['model_type']=='A2C']['median'].values[0]))\n",
    "# median_sim_id_A2C = df_trader_results[df_trader_results['model_type']=='A2C'].iloc[i_A2C]['sim_id']\n",
    "\n",
    "# i_PPO = np.argmin(np.abs(df_trader_results[df_trader_results['model_type']=='PPO']['fmt_total_profit_percentage'] - df_trader_results_stats[df_trader_results_stats['model_type']=='PPO']['median'].values[0]))\n",
    "# median_sim_id_PPO = df_trader_results[df_trader_results['model_type']=='PPO'].iloc[i_PPO]['sim_id']\n",
    "\n",
    "i_DQN = np.argmin(np.abs(df_trader_results[df_trader_results['model_type']=='DQN']['fmt_total_profit_percentage'] - df_trader_results_stats[df_trader_results_stats['model_type']=='DQN']['median'].values[0]))\n",
    "median_sim_id_DQN = df_trader_results[df_trader_results['model_type']=='DQN'].iloc[i_DQN]['sim_id']\n",
    "\n",
    "# i_RANDOM = np.argmin(np.abs(df_trader_results[df_trader_results['model_type']=='RANDOM']['fmt_total_profit_percentage'] - df_trader_results_stats[df_trader_results_stats['model_type']=='RANDOM']['median'].values[0]))\n",
    "# median_sim_id_RANDOM = df_trader_results[df_trader_results['model_type']=='RANDOM'].iloc[i_RANDOM]['sim_id']"
   ]
  },
  {
   "cell_type": "code",
   "execution_count": 29,
   "metadata": {},
   "outputs": [],
   "source": [
    "def get_and_process_trader_robot_actions_and_env_data_one_sim_id(config_file_name_without_extension, sim_id):\n",
    "    try:\n",
    "        \n",
    "        # Get the data\n",
    "        db_address = 'sqlite:///../results/data/db/trader.db'\n",
    "        engine = create_engine(db_address, echo=False)\n",
    "        sqlite_connection = engine.connect()\n",
    "\n",
    "        input_tbl_name = \"tbl_trader_bernardo_robot_actions_and_env\" + \"_\" + config_file_name_without_extension\n",
    "        \n",
    "        sql_command = \"SELECT * FROM \" + input_tbl_name\n",
    "        \n",
    "        sql_append = \" WHERE \" + \"sim_id = \" + str(sim_id)\n",
    "        \n",
    "        sql_command = sql_command + sql_append\n",
    "\n",
    "        df = pd.read_sql(sql_command, sqlite_connection)\n",
    "\n",
    "        sqlite_connection.close()\n",
    "\n",
    "        return df\n",
    "\n",
    "    except Exception as e:\n",
    "        print(e)"
   ]
  },
  {
   "cell_type": "code",
   "execution_count": 33,
   "metadata": {},
   "outputs": [],
   "source": [
    "def plot_robot_actions_all_models(config_file_name_without_extension, sim_id_A2C, sim_id_PPO, sim_id_DQN, sim_id_RANDOM):\n",
    "    \n",
    "    # df_robot_actions_sim_id_A2C = get_and_process_trader_robot_actions_and_env_data_one_sim_id(config_file_name_without_extension, sim_id_A2C)\n",
    "    # df_robot_actions_sim_id_PPO = get_and_process_trader_robot_actions_and_env_data_one_sim_id(config_file_name_without_extension, sim_id_PPO)\n",
    "    df_robot_actions_sim_id_DQN = get_and_process_trader_robot_actions_and_env_data_one_sim_id(config_file_name_without_extension, sim_id_DQN)\n",
    "    # df_robot_actions_sim_id_RANDOM = get_and_process_trader_robot_actions_and_env_data_one_sim_id(config_file_name_without_extension, sim_id_RANDOM)\n",
    "\n",
    "    # df_simulation_sim_id_A2C = df_trader_results[df_trader_results['sim_id'] == sim_id_A2C]\n",
    "    # df_simulation_sim_id_PPO = df_trader_results[df_trader_results['sim_id'] == sim_id_PPO]\n",
    "    df_simulation_sim_id_DQN = df_trader_results[df_trader_results['sim_id'] == sim_id_DQN]\n",
    "    # df_simulation_sim_id_RANDOM = df_trader_results[df_trader_results['sim_id'] == sim_id_RANDOM]\n",
    "\n",
    "    # str_title_A2C = f\"sim_id: {sim_id_A2C} | model_type: {df_simulation_sim_id_A2C.model_type.values[0]} | Total Profit percentage {round(df_simulation_sim_id_A2C.fmt_total_profit_percentage.values[0],2)}%\"\n",
    "    # str_title_PPO = f\"sim_id: {sim_id_PPO} | model_type: {df_simulation_sim_id_PPO.model_type.values[0]} | Total Profit percentage {round(df_simulation_sim_id_PPO.fmt_total_profit_percentage.values[0],2)}%\"\n",
    "    str_title_DQN = f\"sim_id: {sim_id_DQN} | model_type: {df_simulation_sim_id_DQN.model_type.values[0]} | Total Profit percentage {round(df_simulation_sim_id_DQN.fmt_total_profit_percentage.values[0],2)}%\"\n",
    "    # str_title_RANDOM = f\"sim_id: {sim_id_RANDOM} | model_type: {df_simulation_sim_id_RANDOM.model_type.values[0]} | Total Profit percentage {round(df_simulation_sim_id_RANDOM.fmt_total_profit_percentage.values[0],2)}%\"\n",
    "\n",
    "    str_title = \"The median profit percentage results per model\"\n",
    "\n",
    "    fig = make_subplots(rows=4, cols=1, subplot_titles=(\"\", \"\", str_title_DQN, \"\"), shared_xaxes='all', shared_yaxes='all')\n",
    "\n",
    "    # fig.add_trace(go.Scatter(name='Price', x=df_robot_actions_sim_id_A2C[\"dates\"], y=df_robot_actions_sim_id_A2C[\"prices\"], mode='lines', marker_color='#969696', legendgroup = '1'), row=1, col=1)\n",
    "    # fig.add_trace(go.Scatter(name='Long', x=df_robot_actions_sim_id_A2C[df_robot_actions_sim_id_A2C['actions'] == 1]['dates'], y=df_robot_actions_sim_id_A2C[df_robot_actions_sim_id_A2C['actions'] == 1]['prices'], mode='markers', marker_symbol='circle', marker_size=10, marker_color='#228b22', legendgroup = '1'), row=1, col=1)\n",
    "    # fig.add_trace(go.Scatter(name='Short', x=df_robot_actions_sim_id_A2C[df_robot_actions_sim_id_A2C['actions'] == 0]['dates'], y=df_robot_actions_sim_id_A2C[df_robot_actions_sim_id_A2C['actions'] == 0]['prices'], mode='markers', marker_symbol='circle', marker_size=10, marker_color='#c83232', legendgroup = '1'), row=1, col=1)\n",
    "\n",
    "    # fig.add_trace(go.Scatter(name='Price', x=df_robot_actions_sim_id_PPO[\"dates\"], y=df_robot_actions_sim_id_PPO[\"prices\"], mode='lines', marker_color='#969696', legendgroup = '2'), row=2, col=1)\n",
    "    # fig.add_trace(go.Scatter(name='Long', x=df_robot_actions_sim_id_PPO[df_robot_actions_sim_id_PPO['actions'] == 1]['dates'], y=df_robot_actions_sim_id_PPO[df_robot_actions_sim_id_PPO['actions'] == 1]['prices'], mode='markers', marker_symbol='circle', marker_size=10, marker_color='#228b22', legendgroup = '2'), row=2, col=1)\n",
    "    # fig.add_trace(go.Scatter(name='Short', x=df_robot_actions_sim_id_PPO[df_robot_actions_sim_id_PPO['actions'] == 0]['dates'], y=df_robot_actions_sim_id_PPO[df_robot_actions_sim_id_PPO['actions'] == 0]['prices'], mode='markers', marker_symbol='circle', marker_size=10, marker_color='#c83232', legendgroup = '2'), row=2, col=1)\n",
    "\n",
    "    fig.add_trace(go.Scatter(name='Price', x=df_robot_actions_sim_id_DQN[\"dates\"], y=df_robot_actions_sim_id_DQN[\"prices\"], mode='lines', marker_color='#969696', legendgroup = '3'), row=3, col=1)\n",
    "    fig.add_trace(go.Scatter(name='Long', x=df_robot_actions_sim_id_DQN[df_robot_actions_sim_id_DQN['actions'] == 1]['dates'], y=df_robot_actions_sim_id_DQN[df_robot_actions_sim_id_DQN['actions'] == 1]['prices'], mode='markers', marker_symbol='circle', marker_size=10, marker_color='#228b22', legendgroup = '3'), row=3, col=1)\n",
    "    fig.add_trace(go.Scatter(name='Short', x=df_robot_actions_sim_id_DQN[df_robot_actions_sim_id_DQN['actions'] == 0]['dates'], y=df_robot_actions_sim_id_DQN[df_robot_actions_sim_id_DQN['actions'] == 0]['prices'], mode='markers', marker_symbol='circle', marker_size=10, marker_color='#c83232', legendgroup = '3'), row=3, col=1)\n",
    "\n",
    "    # fig.add_trace(go.Scatter(name='Price', x=df_robot_actions_sim_id_RANDOM[\"dates\"], y=df_robot_actions_sim_id_RANDOM[\"prices\"], mode='lines', marker_color='#969696', legendgroup = '4'), row=4, col=1)\n",
    "    # fig.add_trace(go.Scatter(name='Long', x=df_robot_actions_sim_id_RANDOM[df_robot_actions_sim_id_RANDOM['actions'] == 1]['dates'], y=df_robot_actions_sim_id_RANDOM[df_robot_actions_sim_id_RANDOM['actions'] == 1]['prices'], mode='markers', marker_symbol='circle', marker_size=10, marker_color='#228b22', legendgroup = '4'), row=4, col=1)\n",
    "    # fig.add_trace(go.Scatter(name='Short', x=df_robot_actions_sim_id_RANDOM[df_robot_actions_sim_id_RANDOM['actions'] == 0]['dates'], y=df_robot_actions_sim_id_RANDOM[df_robot_actions_sim_id_RANDOM['actions'] == 0]['prices'], mode='markers', marker_symbol='circle', marker_size=10, marker_color='#c83232', legendgroup = '4'), row=4, col=1)\n",
    "\n",
    "    fig.update_xaxes(title_text = \"Dates\", title_standoff = 25)\n",
    "\n",
    "    fig.update_yaxes(title_text = \"\", title_standoff = 25)\n",
    "\n",
    "    fig.update_layout(title=str_title, title_x=0.5, width=1200, height=800, legend_tracegroupgap=125)\n",
    "    fig.show()"
   ]
  },
  {
   "cell_type": "code",
   "execution_count": 34,
   "metadata": {},
   "outputs": [
    {
     "data": {
      "application/vnd.plotly.v1+json": {
       "config": {
        "plotlyServerURL": "https://plot.ly"
       },
       "data": [
        {
         "legendgroup": "3",
         "marker": {
          "color": "#969696"
         },
         "mode": "lines",
         "name": "Price",
         "type": "scatter",
         "x": [
          "2022-12-27 00:00:00.000000",
          "2022-12-28 00:00:00.000000",
          "2022-12-29 00:00:00.000000",
          "2022-12-30 00:00:00.000000",
          "2022-12-31 00:00:00.000000",
          "2023-01-01 00:00:00.000000",
          "2023-01-02 00:00:00.000000",
          "2023-01-03 00:00:00.000000",
          "2023-01-04 00:00:00.000000",
          "2023-01-05 00:00:00.000000",
          "2023-01-06 00:00:00.000000",
          "2023-01-07 00:00:00.000000",
          "2023-01-08 00:00:00.000000",
          "2023-01-09 00:00:00.000000",
          "2023-01-10 00:00:00.000000",
          "2023-01-11 00:00:00.000000",
          "2023-01-12 00:00:00.000000",
          "2023-01-13 00:00:00.000000",
          "2023-01-14 00:00:00.000000",
          "2023-01-15 00:00:00.000000",
          "2023-01-16 00:00:00.000000",
          "2023-01-17 00:00:00.000000",
          "2023-01-18 00:00:00.000000",
          "2023-01-19 00:00:00.000000",
          "2023-01-20 00:00:00.000000",
          "2023-01-21 00:00:00.000000",
          "2023-01-22 00:00:00.000000",
          "2023-01-23 00:00:00.000000",
          "2023-01-24 00:00:00.000000",
          "2023-01-25 00:00:00.000000",
          "2023-01-26 00:00:00.000000"
         ],
         "xaxis": "x3",
         "y": [
          16919.39,
          16706.36,
          16547.31,
          16633.47,
          16607.48,
          16542.4,
          16616.75,
          16672.87,
          16675.18,
          16850.36,
          16831.85,
          16950.65,
          16943.57,
          17127.83,
          17178.26,
          17440.66,
          17943.26,
          18846.62,
          19930.01,
          20954.92,
          20871.5,
          21185.65,
          21134.81,
          20677.47,
          21071.59,
          22667.21,
          22783.55,
          22707.88,
          22916.45,
          22632.89,
          23060.94
         ],
         "yaxis": "y3"
        },
        {
         "legendgroup": "3",
         "marker": {
          "color": "#228b22",
          "size": 10,
          "symbol": "circle"
         },
         "mode": "markers",
         "name": "Long",
         "type": "scatter",
         "x": [
          "2023-01-07 00:00:00.000000",
          "2023-01-10 00:00:00.000000",
          "2023-01-11 00:00:00.000000",
          "2023-01-12 00:00:00.000000",
          "2023-01-15 00:00:00.000000",
          "2023-01-16 00:00:00.000000",
          "2023-01-17 00:00:00.000000",
          "2023-01-18 00:00:00.000000",
          "2023-01-19 00:00:00.000000",
          "2023-01-20 00:00:00.000000",
          "2023-01-21 00:00:00.000000",
          "2023-01-22 00:00:00.000000",
          "2023-01-23 00:00:00.000000",
          "2023-01-24 00:00:00.000000",
          "2023-01-25 00:00:00.000000",
          "2023-01-26 00:00:00.000000"
         ],
         "xaxis": "x3",
         "y": [
          16950.65,
          17178.26,
          17440.66,
          17943.26,
          20954.92,
          20871.5,
          21185.65,
          21134.81,
          20677.47,
          21071.59,
          22667.21,
          22783.55,
          22707.88,
          22916.45,
          22632.89,
          23060.94
         ],
         "yaxis": "y3"
        },
        {
         "legendgroup": "3",
         "marker": {
          "color": "#c83232",
          "size": 10,
          "symbol": "circle"
         },
         "mode": "markers",
         "name": "Short",
         "type": "scatter",
         "x": [
          "2023-01-02 00:00:00.000000",
          "2023-01-03 00:00:00.000000",
          "2023-01-04 00:00:00.000000",
          "2023-01-05 00:00:00.000000",
          "2023-01-06 00:00:00.000000",
          "2023-01-08 00:00:00.000000",
          "2023-01-09 00:00:00.000000",
          "2023-01-13 00:00:00.000000",
          "2023-01-14 00:00:00.000000"
         ],
         "xaxis": "x3",
         "y": [
          16616.75,
          16672.87,
          16675.18,
          16850.36,
          16831.85,
          16943.57,
          17127.83,
          18846.62,
          19930.01
         ],
         "yaxis": "y3"
        }
       ],
       "layout": {
        "annotations": [
         {
          "font": {
           "size": 16
          },
          "showarrow": false,
          "text": "sim_id: 6 | model_type: DQN | Total Profit percentage -4.63%",
          "x": 0.5,
          "xanchor": "center",
          "xref": "paper",
          "y": 0.4375,
          "yanchor": "bottom",
          "yref": "paper"
         }
        ],
        "height": 800,
        "legend": {
         "tracegroupgap": 125
        },
        "template": {
         "data": {
          "bar": [
           {
            "error_x": {
             "color": "#2a3f5f"
            },
            "error_y": {
             "color": "#2a3f5f"
            },
            "marker": {
             "line": {
              "color": "#E5ECF6",
              "width": 0.5
             },
             "pattern": {
              "fillmode": "overlay",
              "size": 10,
              "solidity": 0.2
             }
            },
            "type": "bar"
           }
          ],
          "barpolar": [
           {
            "marker": {
             "line": {
              "color": "#E5ECF6",
              "width": 0.5
             },
             "pattern": {
              "fillmode": "overlay",
              "size": 10,
              "solidity": 0.2
             }
            },
            "type": "barpolar"
           }
          ],
          "carpet": [
           {
            "aaxis": {
             "endlinecolor": "#2a3f5f",
             "gridcolor": "white",
             "linecolor": "white",
             "minorgridcolor": "white",
             "startlinecolor": "#2a3f5f"
            },
            "baxis": {
             "endlinecolor": "#2a3f5f",
             "gridcolor": "white",
             "linecolor": "white",
             "minorgridcolor": "white",
             "startlinecolor": "#2a3f5f"
            },
            "type": "carpet"
           }
          ],
          "choropleth": [
           {
            "colorbar": {
             "outlinewidth": 0,
             "ticks": ""
            },
            "type": "choropleth"
           }
          ],
          "contour": [
           {
            "colorbar": {
             "outlinewidth": 0,
             "ticks": ""
            },
            "colorscale": [
             [
              0,
              "#0d0887"
             ],
             [
              0.1111111111111111,
              "#46039f"
             ],
             [
              0.2222222222222222,
              "#7201a8"
             ],
             [
              0.3333333333333333,
              "#9c179e"
             ],
             [
              0.4444444444444444,
              "#bd3786"
             ],
             [
              0.5555555555555556,
              "#d8576b"
             ],
             [
              0.6666666666666666,
              "#ed7953"
             ],
             [
              0.7777777777777778,
              "#fb9f3a"
             ],
             [
              0.8888888888888888,
              "#fdca26"
             ],
             [
              1,
              "#f0f921"
             ]
            ],
            "type": "contour"
           }
          ],
          "contourcarpet": [
           {
            "colorbar": {
             "outlinewidth": 0,
             "ticks": ""
            },
            "type": "contourcarpet"
           }
          ],
          "heatmap": [
           {
            "colorbar": {
             "outlinewidth": 0,
             "ticks": ""
            },
            "colorscale": [
             [
              0,
              "#0d0887"
             ],
             [
              0.1111111111111111,
              "#46039f"
             ],
             [
              0.2222222222222222,
              "#7201a8"
             ],
             [
              0.3333333333333333,
              "#9c179e"
             ],
             [
              0.4444444444444444,
              "#bd3786"
             ],
             [
              0.5555555555555556,
              "#d8576b"
             ],
             [
              0.6666666666666666,
              "#ed7953"
             ],
             [
              0.7777777777777778,
              "#fb9f3a"
             ],
             [
              0.8888888888888888,
              "#fdca26"
             ],
             [
              1,
              "#f0f921"
             ]
            ],
            "type": "heatmap"
           }
          ],
          "heatmapgl": [
           {
            "colorbar": {
             "outlinewidth": 0,
             "ticks": ""
            },
            "colorscale": [
             [
              0,
              "#0d0887"
             ],
             [
              0.1111111111111111,
              "#46039f"
             ],
             [
              0.2222222222222222,
              "#7201a8"
             ],
             [
              0.3333333333333333,
              "#9c179e"
             ],
             [
              0.4444444444444444,
              "#bd3786"
             ],
             [
              0.5555555555555556,
              "#d8576b"
             ],
             [
              0.6666666666666666,
              "#ed7953"
             ],
             [
              0.7777777777777778,
              "#fb9f3a"
             ],
             [
              0.8888888888888888,
              "#fdca26"
             ],
             [
              1,
              "#f0f921"
             ]
            ],
            "type": "heatmapgl"
           }
          ],
          "histogram": [
           {
            "marker": {
             "pattern": {
              "fillmode": "overlay",
              "size": 10,
              "solidity": 0.2
             }
            },
            "type": "histogram"
           }
          ],
          "histogram2d": [
           {
            "colorbar": {
             "outlinewidth": 0,
             "ticks": ""
            },
            "colorscale": [
             [
              0,
              "#0d0887"
             ],
             [
              0.1111111111111111,
              "#46039f"
             ],
             [
              0.2222222222222222,
              "#7201a8"
             ],
             [
              0.3333333333333333,
              "#9c179e"
             ],
             [
              0.4444444444444444,
              "#bd3786"
             ],
             [
              0.5555555555555556,
              "#d8576b"
             ],
             [
              0.6666666666666666,
              "#ed7953"
             ],
             [
              0.7777777777777778,
              "#fb9f3a"
             ],
             [
              0.8888888888888888,
              "#fdca26"
             ],
             [
              1,
              "#f0f921"
             ]
            ],
            "type": "histogram2d"
           }
          ],
          "histogram2dcontour": [
           {
            "colorbar": {
             "outlinewidth": 0,
             "ticks": ""
            },
            "colorscale": [
             [
              0,
              "#0d0887"
             ],
             [
              0.1111111111111111,
              "#46039f"
             ],
             [
              0.2222222222222222,
              "#7201a8"
             ],
             [
              0.3333333333333333,
              "#9c179e"
             ],
             [
              0.4444444444444444,
              "#bd3786"
             ],
             [
              0.5555555555555556,
              "#d8576b"
             ],
             [
              0.6666666666666666,
              "#ed7953"
             ],
             [
              0.7777777777777778,
              "#fb9f3a"
             ],
             [
              0.8888888888888888,
              "#fdca26"
             ],
             [
              1,
              "#f0f921"
             ]
            ],
            "type": "histogram2dcontour"
           }
          ],
          "mesh3d": [
           {
            "colorbar": {
             "outlinewidth": 0,
             "ticks": ""
            },
            "type": "mesh3d"
           }
          ],
          "parcoords": [
           {
            "line": {
             "colorbar": {
              "outlinewidth": 0,
              "ticks": ""
             }
            },
            "type": "parcoords"
           }
          ],
          "pie": [
           {
            "automargin": true,
            "type": "pie"
           }
          ],
          "scatter": [
           {
            "fillpattern": {
             "fillmode": "overlay",
             "size": 10,
             "solidity": 0.2
            },
            "type": "scatter"
           }
          ],
          "scatter3d": [
           {
            "line": {
             "colorbar": {
              "outlinewidth": 0,
              "ticks": ""
             }
            },
            "marker": {
             "colorbar": {
              "outlinewidth": 0,
              "ticks": ""
             }
            },
            "type": "scatter3d"
           }
          ],
          "scattercarpet": [
           {
            "marker": {
             "colorbar": {
              "outlinewidth": 0,
              "ticks": ""
             }
            },
            "type": "scattercarpet"
           }
          ],
          "scattergeo": [
           {
            "marker": {
             "colorbar": {
              "outlinewidth": 0,
              "ticks": ""
             }
            },
            "type": "scattergeo"
           }
          ],
          "scattergl": [
           {
            "marker": {
             "colorbar": {
              "outlinewidth": 0,
              "ticks": ""
             }
            },
            "type": "scattergl"
           }
          ],
          "scattermapbox": [
           {
            "marker": {
             "colorbar": {
              "outlinewidth": 0,
              "ticks": ""
             }
            },
            "type": "scattermapbox"
           }
          ],
          "scatterpolar": [
           {
            "marker": {
             "colorbar": {
              "outlinewidth": 0,
              "ticks": ""
             }
            },
            "type": "scatterpolar"
           }
          ],
          "scatterpolargl": [
           {
            "marker": {
             "colorbar": {
              "outlinewidth": 0,
              "ticks": ""
             }
            },
            "type": "scatterpolargl"
           }
          ],
          "scatterternary": [
           {
            "marker": {
             "colorbar": {
              "outlinewidth": 0,
              "ticks": ""
             }
            },
            "type": "scatterternary"
           }
          ],
          "surface": [
           {
            "colorbar": {
             "outlinewidth": 0,
             "ticks": ""
            },
            "colorscale": [
             [
              0,
              "#0d0887"
             ],
             [
              0.1111111111111111,
              "#46039f"
             ],
             [
              0.2222222222222222,
              "#7201a8"
             ],
             [
              0.3333333333333333,
              "#9c179e"
             ],
             [
              0.4444444444444444,
              "#bd3786"
             ],
             [
              0.5555555555555556,
              "#d8576b"
             ],
             [
              0.6666666666666666,
              "#ed7953"
             ],
             [
              0.7777777777777778,
              "#fb9f3a"
             ],
             [
              0.8888888888888888,
              "#fdca26"
             ],
             [
              1,
              "#f0f921"
             ]
            ],
            "type": "surface"
           }
          ],
          "table": [
           {
            "cells": {
             "fill": {
              "color": "#EBF0F8"
             },
             "line": {
              "color": "white"
             }
            },
            "header": {
             "fill": {
              "color": "#C8D4E3"
             },
             "line": {
              "color": "white"
             }
            },
            "type": "table"
           }
          ]
         },
         "layout": {
          "annotationdefaults": {
           "arrowcolor": "#2a3f5f",
           "arrowhead": 0,
           "arrowwidth": 1
          },
          "autotypenumbers": "strict",
          "coloraxis": {
           "colorbar": {
            "outlinewidth": 0,
            "ticks": ""
           }
          },
          "colorscale": {
           "diverging": [
            [
             0,
             "#8e0152"
            ],
            [
             0.1,
             "#c51b7d"
            ],
            [
             0.2,
             "#de77ae"
            ],
            [
             0.3,
             "#f1b6da"
            ],
            [
             0.4,
             "#fde0ef"
            ],
            [
             0.5,
             "#f7f7f7"
            ],
            [
             0.6,
             "#e6f5d0"
            ],
            [
             0.7,
             "#b8e186"
            ],
            [
             0.8,
             "#7fbc41"
            ],
            [
             0.9,
             "#4d9221"
            ],
            [
             1,
             "#276419"
            ]
           ],
           "sequential": [
            [
             0,
             "#0d0887"
            ],
            [
             0.1111111111111111,
             "#46039f"
            ],
            [
             0.2222222222222222,
             "#7201a8"
            ],
            [
             0.3333333333333333,
             "#9c179e"
            ],
            [
             0.4444444444444444,
             "#bd3786"
            ],
            [
             0.5555555555555556,
             "#d8576b"
            ],
            [
             0.6666666666666666,
             "#ed7953"
            ],
            [
             0.7777777777777778,
             "#fb9f3a"
            ],
            [
             0.8888888888888888,
             "#fdca26"
            ],
            [
             1,
             "#f0f921"
            ]
           ],
           "sequentialminus": [
            [
             0,
             "#0d0887"
            ],
            [
             0.1111111111111111,
             "#46039f"
            ],
            [
             0.2222222222222222,
             "#7201a8"
            ],
            [
             0.3333333333333333,
             "#9c179e"
            ],
            [
             0.4444444444444444,
             "#bd3786"
            ],
            [
             0.5555555555555556,
             "#d8576b"
            ],
            [
             0.6666666666666666,
             "#ed7953"
            ],
            [
             0.7777777777777778,
             "#fb9f3a"
            ],
            [
             0.8888888888888888,
             "#fdca26"
            ],
            [
             1,
             "#f0f921"
            ]
           ]
          },
          "colorway": [
           "#636efa",
           "#EF553B",
           "#00cc96",
           "#ab63fa",
           "#FFA15A",
           "#19d3f3",
           "#FF6692",
           "#B6E880",
           "#FF97FF",
           "#FECB52"
          ],
          "font": {
           "color": "#2a3f5f"
          },
          "geo": {
           "bgcolor": "white",
           "lakecolor": "white",
           "landcolor": "#E5ECF6",
           "showlakes": true,
           "showland": true,
           "subunitcolor": "white"
          },
          "hoverlabel": {
           "align": "left"
          },
          "hovermode": "closest",
          "mapbox": {
           "style": "light"
          },
          "paper_bgcolor": "white",
          "plot_bgcolor": "#E5ECF6",
          "polar": {
           "angularaxis": {
            "gridcolor": "white",
            "linecolor": "white",
            "ticks": ""
           },
           "bgcolor": "#E5ECF6",
           "radialaxis": {
            "gridcolor": "white",
            "linecolor": "white",
            "ticks": ""
           }
          },
          "scene": {
           "xaxis": {
            "backgroundcolor": "#E5ECF6",
            "gridcolor": "white",
            "gridwidth": 2,
            "linecolor": "white",
            "showbackground": true,
            "ticks": "",
            "zerolinecolor": "white"
           },
           "yaxis": {
            "backgroundcolor": "#E5ECF6",
            "gridcolor": "white",
            "gridwidth": 2,
            "linecolor": "white",
            "showbackground": true,
            "ticks": "",
            "zerolinecolor": "white"
           },
           "zaxis": {
            "backgroundcolor": "#E5ECF6",
            "gridcolor": "white",
            "gridwidth": 2,
            "linecolor": "white",
            "showbackground": true,
            "ticks": "",
            "zerolinecolor": "white"
           }
          },
          "shapedefaults": {
           "line": {
            "color": "#2a3f5f"
           }
          },
          "ternary": {
           "aaxis": {
            "gridcolor": "white",
            "linecolor": "white",
            "ticks": ""
           },
           "baxis": {
            "gridcolor": "white",
            "linecolor": "white",
            "ticks": ""
           },
           "bgcolor": "#E5ECF6",
           "caxis": {
            "gridcolor": "white",
            "linecolor": "white",
            "ticks": ""
           }
          },
          "title": {
           "x": 0.05
          },
          "xaxis": {
           "automargin": true,
           "gridcolor": "white",
           "linecolor": "white",
           "ticks": "",
           "title": {
            "standoff": 15
           },
           "zerolinecolor": "white",
           "zerolinewidth": 2
          },
          "yaxis": {
           "automargin": true,
           "gridcolor": "white",
           "linecolor": "white",
           "ticks": "",
           "title": {
            "standoff": 15
           },
           "zerolinecolor": "white",
           "zerolinewidth": 2
          }
         }
        },
        "title": {
         "text": "The median profit percentage results per model",
         "x": 0.5
        },
        "width": 1200,
        "xaxis": {
         "anchor": "y",
         "domain": [
          0,
          1
         ],
         "matches": "x4",
         "showticklabels": false,
         "title": {
          "standoff": 25,
          "text": "Dates"
         }
        },
        "xaxis2": {
         "anchor": "y2",
         "domain": [
          0,
          1
         ],
         "matches": "x4",
         "showticklabels": false,
         "title": {
          "standoff": 25,
          "text": "Dates"
         }
        },
        "xaxis3": {
         "anchor": "y3",
         "domain": [
          0,
          1
         ],
         "matches": "x4",
         "showticklabels": false,
         "title": {
          "standoff": 25,
          "text": "Dates"
         }
        },
        "xaxis4": {
         "anchor": "y4",
         "domain": [
          0,
          1
         ],
         "title": {
          "standoff": 25,
          "text": "Dates"
         }
        },
        "yaxis": {
         "anchor": "x",
         "domain": [
          0.84375,
          1
         ],
         "matches": "y4",
         "title": {
          "standoff": 25,
          "text": ""
         }
        },
        "yaxis2": {
         "anchor": "x2",
         "domain": [
          0.5625,
          0.71875
         ],
         "matches": "y4",
         "title": {
          "standoff": 25,
          "text": ""
         }
        },
        "yaxis3": {
         "anchor": "x3",
         "domain": [
          0.28125,
          0.4375
         ],
         "matches": "y4",
         "title": {
          "standoff": 25,
          "text": ""
         }
        },
        "yaxis4": {
         "anchor": "x4",
         "domain": [
          0,
          0.15625
         ],
         "title": {
          "standoff": 25,
          "text": ""
         }
        }
       }
      }
     },
     "metadata": {},
     "output_type": "display_data"
    }
   ],
   "source": [
    "plot_robot_actions_all_models(config_file_name_without_extension, \"\", \"\", median_sim_id_DQN, \"\")"
   ]
  },
  {
   "cell_type": "code",
   "execution_count": 37,
   "metadata": {},
   "outputs": [],
   "source": [
    "def get_and_process_trader_robot_actions_and_env_data_all_sim_id(config_file_name_without_extension):\n",
    "    try:\n",
    "        \n",
    "        # Get the data\n",
    "        db_address = 'sqlite:///../results/data/db/trader.db'\n",
    "        engine = create_engine(db_address, echo=False)\n",
    "        sqlite_connection = engine.connect()\n",
    "\n",
    "        input_tbl_name = \"tbl_trader_bernardo_robot_actions_and_env\" + \"_\" + config_file_name_without_extension\n",
    "        \n",
    "        sql_command = \"SELECT * FROM \" + input_tbl_name + \" AS t1 \"\n",
    "        \n",
    "        sql_append = \"LEFT JOIN (SELECT sim_id, model_type FROM tbl_trader_bernardo_simulation_results_config_03a_mix_infer) AS t2 ON t1.sim_id = t2.sim_id\"\n",
    "        \n",
    "        sql_command = sql_command + sql_append\n",
    "\n",
    "        df = pd.read_sql(sql_command, sqlite_connection)\n",
    "\n",
    "        sqlite_connection.close()\n",
    "\n",
    "        return df\n",
    "\n",
    "    except Exception as e:\n",
    "        print(e)"
   ]
  },
  {
   "cell_type": "code",
   "execution_count": 38,
   "metadata": {},
   "outputs": [],
   "source": [
    "def plot_trader_robot_actions_all_sim_id_all_models(config_file_name_without_extension, sim_id_A2C, sim_id_PPO, sim_id_DQN, sim_id_RANDOM):\n",
    "    \n",
    "    df_robot_actions_and_env_all_sim_id = get_and_process_trader_robot_actions_and_env_data_all_sim_id(config_file_name_without_extension)\n",
    "\n",
    "    # df_robot_actions_and_env_all_sim_id_A2C = df_robot_actions_and_env_all_sim_id[df_robot_actions_and_env_all_sim_id['model_type'] == 'A2C']\n",
    "    # df_robot_actions_and_env_all_sim_id_PPO = df_robot_actions_and_env_all_sim_id[df_robot_actions_and_env_all_sim_id['model_type'] == 'PPO']\n",
    "    df_robot_actions_and_env_all_sim_id_DQN = df_robot_actions_and_env_all_sim_id[df_robot_actions_and_env_all_sim_id['model_type'] == 'DQN']\n",
    "    # df_robot_actions_and_env_all_sim_id_RANDOM = df_robot_actions_and_env_all_sim_id[df_robot_actions_and_env_all_sim_id['model_type'] == 'RANDOM']    \n",
    "\n",
    "    # df_model_type_action_count_A2C = df_robot_actions_and_env_all_sim_id_A2C.assign(val=1).pivot_table(values='val', index=['dates'], columns=['model_type', 'actions'], aggfunc='count').stack(0).reset_index()\n",
    "    # df_model_type_action_count_A2C.rename(columns = {0.0:'action_short_count', 1.0:'action_long_count'}, inplace = True)\n",
    "\n",
    "    # df_model_type_action_count_PPO = df_robot_actions_and_env_all_sim_id_PPO.assign(val=1).pivot_table(values='val', index=['dates'], columns=['model_type', 'actions'], aggfunc='count').stack(0).reset_index()\n",
    "    # df_model_type_action_count_PPO.rename(columns = {0.0:'action_short_count', 1.0:'action_long_count'}, inplace = True)\n",
    "\n",
    "    df_model_type_action_count_DQN = df_robot_actions_and_env_all_sim_id_DQN.assign(val=1).pivot_table(values='val', index=['dates'], columns=['model_type', 'actions'], aggfunc='count').stack(0).reset_index()\n",
    "    df_model_type_action_count_DQN.rename(columns = {0.0:'action_short_count', 1.0:'action_long_count'}, inplace = True)\n",
    "\n",
    "    # df_model_type_action_count_RANDOM = df_robot_actions_and_env_all_sim_id_RANDOM.assign(val=1).pivot_table(values='val', index=['dates'], columns=['model_type', 'actions'], aggfunc='count').stack(0).reset_index()\n",
    "    # df_model_type_action_count_RANDOM.rename(columns = {0.0:'action_short_count', 1.0:'action_long_count'}, inplace = True)        \n",
    "\n",
    "    # df_robot_actions_sim_id_A2C = get_and_process_trader_robot_actions_and_env_data_one_sim_id(config_file_name_without_extension, sim_id_A2C)\n",
    "    # df_robot_actions_sim_id_PPO = get_and_process_trader_robot_actions_and_env_data_one_sim_id(config_file_name_without_extension, sim_id_PPO)\n",
    "    df_robot_actions_sim_id_DQN = get_and_process_trader_robot_actions_and_env_data_one_sim_id(config_file_name_without_extension, sim_id_DQN)\n",
    "    # df_robot_actions_sim_id_RANDOM = get_and_process_trader_robot_actions_and_env_data_one_sim_id(config_file_name_without_extension, sim_id_RANDOM)\n",
    "\n",
    "    # df_simulation_sim_id_A2C = df_trader_results[df_trader_results['sim_id'] == sim_id_A2C]\n",
    "    # df_simulation_sim_id_PPO = df_trader_results[df_trader_results['sim_id'] == sim_id_PPO]\n",
    "    df_simulation_sim_id_DQN = df_trader_results[df_trader_results['sim_id'] == sim_id_DQN]\n",
    "    # df_simulation_sim_id_RANDOM = df_trader_results[df_trader_results['sim_id'] == sim_id_RANDOM]\n",
    "\n",
    "    # str_title_A2C = f\"Median sim_id: {sim_id_A2C} | model_type: {df_simulation_sim_id_A2C.model_type.values[0]} | Total Profit percentage {round(df_simulation_sim_id_A2C.fmt_total_profit_percentage.values[0],2)}%\"\n",
    "    # str_title_PPO = f\"Median sim_id: {sim_id_PPO} | model_type: {df_simulation_sim_id_PPO.model_type.values[0]} | Total Profit percentage {round(df_simulation_sim_id_PPO.fmt_total_profit_percentage.values[0],2)}%\"\n",
    "    str_title_DQN = f\"Median sim_id: {sim_id_DQN} | model_type: {df_simulation_sim_id_DQN.model_type.values[0]} | Total Profit percentage {round(df_simulation_sim_id_DQN.fmt_total_profit_percentage.values[0],2)}%\"\n",
    "    # str_title_RANDOM = f\"Median sim_id: {sim_id_RANDOM} | model_type: {df_simulation_sim_id_RANDOM.model_type.values[0]} | Total Profit percentage {round(df_simulation_sim_id_RANDOM.fmt_total_profit_percentage.values[0],2)}%\"\n",
    "\n",
    "    str_title = f\"Median Total Profit Results x Overall view of actions (across all the simulations)\"\n",
    "\n",
    "    fig = make_subplots(rows=4, cols=1, subplot_titles=(\"\", \"\", str_title_DQN, \"\"), shared_xaxes='all', shared_yaxes='all', specs=[[{\"secondary_y\": True}], [{\"secondary_y\": True}], [{\"secondary_y\": True}], [{\"secondary_y\": True}]]) \n",
    "\n",
    "    # fig.add_trace(go.Scatter(name='Price', x=df_robot_actions_sim_id_A2C[\"dates\"], y=df_robot_actions_sim_id_A2C[\"prices\"], mode='lines', marker_color='#969696', legendgroup = '1'), row=1, col=1, secondary_y=True)\n",
    "    # fig.add_trace(go.Scatter(name='Long', x=df_robot_actions_sim_id_A2C[df_robot_actions_sim_id_A2C['actions'] == 1]['dates'], y=df_robot_actions_sim_id_A2C[df_robot_actions_sim_id_A2C['actions'] == 1]['prices'], mode='markers', marker_symbol='circle', marker_size=10, marker_color='#228b22', legendgroup = '1'), row=1, col=1, secondary_y=True)\n",
    "    # fig.add_trace(go.Scatter(name='Short', x=df_robot_actions_sim_id_A2C[df_robot_actions_sim_id_A2C['actions'] == 0]['dates'], y=df_robot_actions_sim_id_A2C[df_robot_actions_sim_id_A2C['actions'] == 0]['prices'], mode='markers', marker_symbol='circle', marker_size=10, marker_color='#c83232', legendgroup = '1'), row=1, col=1, secondary_y=True)\n",
    "\n",
    "    # fig.add_trace(go.Bar(x=df_model_type_action_count_A2C['dates'], y=df_model_type_action_count_A2C['action_long_count'], name='Long', marker_color=' #b3ffb3', legendgroup = '1'), row=1, col=1, secondary_y=False)\n",
    "    # fig.add_trace(go.Bar(x=df_model_type_action_count_A2C['dates'], y=df_model_type_action_count_A2C['action_short_count'], name='Short', marker_color='#ffb2b2', legendgroup = '1'), row=1, col=1, secondary_y=False)\n",
    "\n",
    "    # fig.add_trace(go.Scatter(name='Price', x=df_robot_actions_sim_id_PPO[\"dates\"], y=df_robot_actions_sim_id_PPO[\"prices\"], mode='lines', marker_color='#969696', legendgroup = '2'), row=2, col=1, secondary_y=True)\n",
    "    # fig.add_trace(go.Scatter(name='Long', x=df_robot_actions_sim_id_PPO[df_robot_actions_sim_id_PPO['actions'] == 1]['dates'], y=df_robot_actions_sim_id_PPO[df_robot_actions_sim_id_PPO['actions'] == 1]['prices'], mode='markers', marker_symbol='circle', marker_size=10, marker_color='#228b22', legendgroup = '2'), row=2, col=1, secondary_y=True)\n",
    "    # fig.add_trace(go.Scatter(name='Short', x=df_robot_actions_sim_id_PPO[df_robot_actions_sim_id_PPO['actions'] == 0]['dates'], y=df_robot_actions_sim_id_PPO[df_robot_actions_sim_id_PPO['actions'] == 0]['prices'], mode='markers', marker_symbol='circle', marker_size=10, marker_color='#c83232', legendgroup = '2'), row=2, col=1, secondary_y=True)\n",
    "\n",
    "    # fig.add_trace(go.Bar(x=df_model_type_action_count_PPO['dates'], y=df_model_type_action_count_PPO['action_long_count'], name='Long', marker_color=' #b3ffb3', legendgroup = '2'), row=2, col=1, secondary_y=False)\n",
    "    # fig.add_trace(go.Bar(x=df_model_type_action_count_PPO['dates'], y=df_model_type_action_count_PPO['action_short_count'], name='Short', marker_color='#ffb2b2', legendgroup = '2'), row=2, col=1, secondary_y=False)\n",
    "\n",
    "    fig.add_trace(go.Scatter(name='Price', x=df_robot_actions_sim_id_DQN[\"dates\"], y=df_robot_actions_sim_id_DQN[\"prices\"], mode='lines', marker_color='#969696', legendgroup = '3'), row=3, col=1, secondary_y=True)\n",
    "    fig.add_trace(go.Scatter(name='Long', x=df_robot_actions_sim_id_DQN[df_robot_actions_sim_id_DQN['actions'] == 1]['dates'], y=df_robot_actions_sim_id_DQN[df_robot_actions_sim_id_DQN['actions'] == 1]['prices'], mode='markers', marker_symbol='circle', marker_size=10, marker_color='#228b22', legendgroup = '3'), row=3, col=1, secondary_y=True)\n",
    "    fig.add_trace(go.Scatter(name='Short', x=df_robot_actions_sim_id_DQN[df_robot_actions_sim_id_DQN['actions'] == 0]['dates'], y=df_robot_actions_sim_id_DQN[df_robot_actions_sim_id_DQN['actions'] == 0]['prices'], mode='markers', marker_symbol='circle', marker_size=10, marker_color='#c83232', legendgroup = '3'), row=3, col=1, secondary_y=True)\n",
    "\n",
    "    fig.add_trace(go.Bar(x=df_model_type_action_count_DQN['dates'], y=df_model_type_action_count_DQN['action_long_count'], name='Long', marker_color=' #b3ffb3', legendgroup = '3'), row=3, col=1, secondary_y=False)\n",
    "    fig.add_trace(go.Bar(x=df_model_type_action_count_DQN['dates'], y=df_model_type_action_count_DQN['action_short_count'], name='Short', marker_color='#ffb2b2', legendgroup = '3'), row=3, col=1, secondary_y=False)\n",
    "\n",
    "    # fig.add_trace(go.Scatter(name='Price', x=df_robot_actions_sim_id_RANDOM[\"dates\"], y=df_robot_actions_sim_id_RANDOM[\"prices\"], mode='lines', marker_color='#969696', legendgroup = '4'), row=4, col=1, secondary_y=True)\n",
    "    # fig.add_trace(go.Scatter(name='Long', x=df_robot_actions_sim_id_RANDOM[df_robot_actions_sim_id_RANDOM['actions'] == 1]['dates'], y=df_robot_actions_sim_id_RANDOM[df_robot_actions_sim_id_RANDOM['actions'] == 1]['prices'], mode='markers', marker_symbol='circle', marker_size=10, marker_color='#228b22', legendgroup = '4'), row=4, col=1, secondary_y=True)\n",
    "    # fig.add_trace(go.Scatter(name='Short', x=df_robot_actions_sim_id_RANDOM[df_robot_actions_sim_id_RANDOM['actions'] == 0]['dates'], y=df_robot_actions_sim_id_RANDOM[df_robot_actions_sim_id_RANDOM['actions'] == 0]['prices'], mode='markers', marker_symbol='circle', marker_size=10, marker_color='#c83232', legendgroup = '4'), row=4, col=1, secondary_y=True)\n",
    "\n",
    "    # fig.add_trace(go.Bar(x=df_model_type_action_count_RANDOM['dates'], y=df_model_type_action_count_RANDOM['action_long_count'], name='Long', marker_color=' #b3ffb3', legendgroup = '4'), row=4, col=1, secondary_y=False)\n",
    "    # fig.add_trace(go.Bar(x=df_model_type_action_count_RANDOM['dates'], y=df_model_type_action_count_RANDOM['action_short_count'], name='Short', marker_color='#ffb2b2', legendgroup = '4'), row=4, col=1, secondary_y=False)\n",
    "\n",
    "    fig.update_yaxes(title_text=\"Proportion of trades<br>across all the simulations\", secondary_y=False)\n",
    "    fig.update_yaxes(title_text=f\"CCY level with the<br>sim_id actions related\", secondary_y=True)\n",
    "\n",
    "    fig.update_layout(barmode='stack', xaxis={'categoryorder':'category ascending'}, title=str_title, title_x=0.5, width=1200, height=800, legend_tracegroupgap=82, font={'size': 8})\n",
    "\n",
    "    fig.show()    "
   ]
  },
  {
   "cell_type": "code",
   "execution_count": 39,
   "metadata": {},
   "outputs": [
    {
     "data": {
      "application/vnd.plotly.v1+json": {
       "config": {
        "plotlyServerURL": "https://plot.ly"
       },
       "data": [
        {
         "legendgroup": "3",
         "marker": {
          "color": "#969696"
         },
         "mode": "lines",
         "name": "Price",
         "type": "scatter",
         "x": [
          "2022-12-27 00:00:00.000000",
          "2022-12-28 00:00:00.000000",
          "2022-12-29 00:00:00.000000",
          "2022-12-30 00:00:00.000000",
          "2022-12-31 00:00:00.000000",
          "2023-01-01 00:00:00.000000",
          "2023-01-02 00:00:00.000000",
          "2023-01-03 00:00:00.000000",
          "2023-01-04 00:00:00.000000",
          "2023-01-05 00:00:00.000000",
          "2023-01-06 00:00:00.000000",
          "2023-01-07 00:00:00.000000",
          "2023-01-08 00:00:00.000000",
          "2023-01-09 00:00:00.000000",
          "2023-01-10 00:00:00.000000",
          "2023-01-11 00:00:00.000000",
          "2023-01-12 00:00:00.000000",
          "2023-01-13 00:00:00.000000",
          "2023-01-14 00:00:00.000000",
          "2023-01-15 00:00:00.000000",
          "2023-01-16 00:00:00.000000",
          "2023-01-17 00:00:00.000000",
          "2023-01-18 00:00:00.000000",
          "2023-01-19 00:00:00.000000",
          "2023-01-20 00:00:00.000000",
          "2023-01-21 00:00:00.000000",
          "2023-01-22 00:00:00.000000",
          "2023-01-23 00:00:00.000000",
          "2023-01-24 00:00:00.000000",
          "2023-01-25 00:00:00.000000",
          "2023-01-26 00:00:00.000000"
         ],
         "xaxis": "x3",
         "y": [
          16919.39,
          16706.36,
          16547.31,
          16633.47,
          16607.48,
          16542.4,
          16616.75,
          16672.87,
          16675.18,
          16850.36,
          16831.85,
          16950.65,
          16943.57,
          17127.83,
          17178.26,
          17440.66,
          17943.26,
          18846.62,
          19930.01,
          20954.92,
          20871.5,
          21185.65,
          21134.81,
          20677.47,
          21071.59,
          22667.21,
          22783.55,
          22707.88,
          22916.45,
          22632.89,
          23060.94
         ],
         "yaxis": "y6"
        },
        {
         "legendgroup": "3",
         "marker": {
          "color": "#228b22",
          "size": 10,
          "symbol": "circle"
         },
         "mode": "markers",
         "name": "Long",
         "type": "scatter",
         "x": [
          "2023-01-07 00:00:00.000000",
          "2023-01-10 00:00:00.000000",
          "2023-01-11 00:00:00.000000",
          "2023-01-12 00:00:00.000000",
          "2023-01-15 00:00:00.000000",
          "2023-01-16 00:00:00.000000",
          "2023-01-17 00:00:00.000000",
          "2023-01-18 00:00:00.000000",
          "2023-01-19 00:00:00.000000",
          "2023-01-20 00:00:00.000000",
          "2023-01-21 00:00:00.000000",
          "2023-01-22 00:00:00.000000",
          "2023-01-23 00:00:00.000000",
          "2023-01-24 00:00:00.000000",
          "2023-01-25 00:00:00.000000",
          "2023-01-26 00:00:00.000000"
         ],
         "xaxis": "x3",
         "y": [
          16950.65,
          17178.26,
          17440.66,
          17943.26,
          20954.92,
          20871.5,
          21185.65,
          21134.81,
          20677.47,
          21071.59,
          22667.21,
          22783.55,
          22707.88,
          22916.45,
          22632.89,
          23060.94
         ],
         "yaxis": "y6"
        },
        {
         "legendgroup": "3",
         "marker": {
          "color": "#c83232",
          "size": 10,
          "symbol": "circle"
         },
         "mode": "markers",
         "name": "Short",
         "type": "scatter",
         "x": [
          "2023-01-02 00:00:00.000000",
          "2023-01-03 00:00:00.000000",
          "2023-01-04 00:00:00.000000",
          "2023-01-05 00:00:00.000000",
          "2023-01-06 00:00:00.000000",
          "2023-01-08 00:00:00.000000",
          "2023-01-09 00:00:00.000000",
          "2023-01-13 00:00:00.000000",
          "2023-01-14 00:00:00.000000"
         ],
         "xaxis": "x3",
         "y": [
          16616.75,
          16672.87,
          16675.18,
          16850.36,
          16831.85,
          16943.57,
          17127.83,
          18846.62,
          19930.01
         ],
         "yaxis": "y6"
        },
        {
         "legendgroup": "3",
         "marker": {
          "color": " #b3ffb3"
         },
         "name": "Long",
         "type": "bar",
         "x": [
          "2023-01-02 00:00:00.000000",
          "2023-01-03 00:00:00.000000",
          "2023-01-04 00:00:00.000000",
          "2023-01-05 00:00:00.000000",
          "2023-01-06 00:00:00.000000",
          "2023-01-07 00:00:00.000000",
          "2023-01-08 00:00:00.000000",
          "2023-01-09 00:00:00.000000",
          "2023-01-10 00:00:00.000000",
          "2023-01-11 00:00:00.000000",
          "2023-01-12 00:00:00.000000",
          "2023-01-13 00:00:00.000000",
          "2023-01-14 00:00:00.000000",
          "2023-01-15 00:00:00.000000",
          "2023-01-16 00:00:00.000000",
          "2023-01-17 00:00:00.000000",
          "2023-01-18 00:00:00.000000",
          "2023-01-19 00:00:00.000000",
          "2023-01-20 00:00:00.000000",
          "2023-01-21 00:00:00.000000",
          "2023-01-22 00:00:00.000000",
          "2023-01-23 00:00:00.000000",
          "2023-01-24 00:00:00.000000",
          "2023-01-25 00:00:00.000000",
          "2023-01-26 00:00:00.000000"
         ],
         "xaxis": "x3",
         "y": [
          26,
          22,
          15,
          21,
          32,
          977,
          20,
          28,
          980,
          978,
          979,
          28,
          30,
          973,
          973,
          979,
          975,
          980,
          981,
          976,
          974,
          973,
          978,
          968,
          971
         ],
         "yaxis": "y5"
        },
        {
         "legendgroup": "3",
         "marker": {
          "color": "#ffb2b2"
         },
         "name": "Short",
         "type": "bar",
         "x": [
          "2023-01-02 00:00:00.000000",
          "2023-01-03 00:00:00.000000",
          "2023-01-04 00:00:00.000000",
          "2023-01-05 00:00:00.000000",
          "2023-01-06 00:00:00.000000",
          "2023-01-07 00:00:00.000000",
          "2023-01-08 00:00:00.000000",
          "2023-01-09 00:00:00.000000",
          "2023-01-10 00:00:00.000000",
          "2023-01-11 00:00:00.000000",
          "2023-01-12 00:00:00.000000",
          "2023-01-13 00:00:00.000000",
          "2023-01-14 00:00:00.000000",
          "2023-01-15 00:00:00.000000",
          "2023-01-16 00:00:00.000000",
          "2023-01-17 00:00:00.000000",
          "2023-01-18 00:00:00.000000",
          "2023-01-19 00:00:00.000000",
          "2023-01-20 00:00:00.000000",
          "2023-01-21 00:00:00.000000",
          "2023-01-22 00:00:00.000000",
          "2023-01-23 00:00:00.000000",
          "2023-01-24 00:00:00.000000",
          "2023-01-25 00:00:00.000000",
          "2023-01-26 00:00:00.000000"
         ],
         "xaxis": "x3",
         "y": [
          974,
          978,
          985,
          979,
          968,
          23,
          980,
          972,
          20,
          22,
          21,
          972,
          970,
          27,
          27,
          21,
          25,
          20,
          19,
          24,
          26,
          27,
          22,
          32,
          29
         ],
         "yaxis": "y5"
        }
       ],
       "layout": {
        "annotations": [
         {
          "font": {
           "size": 16
          },
          "showarrow": false,
          "text": "Median sim_id: 6 | model_type: DQN | Total Profit percentage -4.63%",
          "x": 0.47,
          "xanchor": "center",
          "xref": "paper",
          "y": 0.4375,
          "yanchor": "bottom",
          "yref": "paper"
         }
        ],
        "barmode": "stack",
        "font": {
         "size": 8
        },
        "height": 800,
        "legend": {
         "tracegroupgap": 82
        },
        "template": {
         "data": {
          "bar": [
           {
            "error_x": {
             "color": "#2a3f5f"
            },
            "error_y": {
             "color": "#2a3f5f"
            },
            "marker": {
             "line": {
              "color": "#E5ECF6",
              "width": 0.5
             },
             "pattern": {
              "fillmode": "overlay",
              "size": 10,
              "solidity": 0.2
             }
            },
            "type": "bar"
           }
          ],
          "barpolar": [
           {
            "marker": {
             "line": {
              "color": "#E5ECF6",
              "width": 0.5
             },
             "pattern": {
              "fillmode": "overlay",
              "size": 10,
              "solidity": 0.2
             }
            },
            "type": "barpolar"
           }
          ],
          "carpet": [
           {
            "aaxis": {
             "endlinecolor": "#2a3f5f",
             "gridcolor": "white",
             "linecolor": "white",
             "minorgridcolor": "white",
             "startlinecolor": "#2a3f5f"
            },
            "baxis": {
             "endlinecolor": "#2a3f5f",
             "gridcolor": "white",
             "linecolor": "white",
             "minorgridcolor": "white",
             "startlinecolor": "#2a3f5f"
            },
            "type": "carpet"
           }
          ],
          "choropleth": [
           {
            "colorbar": {
             "outlinewidth": 0,
             "ticks": ""
            },
            "type": "choropleth"
           }
          ],
          "contour": [
           {
            "colorbar": {
             "outlinewidth": 0,
             "ticks": ""
            },
            "colorscale": [
             [
              0,
              "#0d0887"
             ],
             [
              0.1111111111111111,
              "#46039f"
             ],
             [
              0.2222222222222222,
              "#7201a8"
             ],
             [
              0.3333333333333333,
              "#9c179e"
             ],
             [
              0.4444444444444444,
              "#bd3786"
             ],
             [
              0.5555555555555556,
              "#d8576b"
             ],
             [
              0.6666666666666666,
              "#ed7953"
             ],
             [
              0.7777777777777778,
              "#fb9f3a"
             ],
             [
              0.8888888888888888,
              "#fdca26"
             ],
             [
              1,
              "#f0f921"
             ]
            ],
            "type": "contour"
           }
          ],
          "contourcarpet": [
           {
            "colorbar": {
             "outlinewidth": 0,
             "ticks": ""
            },
            "type": "contourcarpet"
           }
          ],
          "heatmap": [
           {
            "colorbar": {
             "outlinewidth": 0,
             "ticks": ""
            },
            "colorscale": [
             [
              0,
              "#0d0887"
             ],
             [
              0.1111111111111111,
              "#46039f"
             ],
             [
              0.2222222222222222,
              "#7201a8"
             ],
             [
              0.3333333333333333,
              "#9c179e"
             ],
             [
              0.4444444444444444,
              "#bd3786"
             ],
             [
              0.5555555555555556,
              "#d8576b"
             ],
             [
              0.6666666666666666,
              "#ed7953"
             ],
             [
              0.7777777777777778,
              "#fb9f3a"
             ],
             [
              0.8888888888888888,
              "#fdca26"
             ],
             [
              1,
              "#f0f921"
             ]
            ],
            "type": "heatmap"
           }
          ],
          "heatmapgl": [
           {
            "colorbar": {
             "outlinewidth": 0,
             "ticks": ""
            },
            "colorscale": [
             [
              0,
              "#0d0887"
             ],
             [
              0.1111111111111111,
              "#46039f"
             ],
             [
              0.2222222222222222,
              "#7201a8"
             ],
             [
              0.3333333333333333,
              "#9c179e"
             ],
             [
              0.4444444444444444,
              "#bd3786"
             ],
             [
              0.5555555555555556,
              "#d8576b"
             ],
             [
              0.6666666666666666,
              "#ed7953"
             ],
             [
              0.7777777777777778,
              "#fb9f3a"
             ],
             [
              0.8888888888888888,
              "#fdca26"
             ],
             [
              1,
              "#f0f921"
             ]
            ],
            "type": "heatmapgl"
           }
          ],
          "histogram": [
           {
            "marker": {
             "pattern": {
              "fillmode": "overlay",
              "size": 10,
              "solidity": 0.2
             }
            },
            "type": "histogram"
           }
          ],
          "histogram2d": [
           {
            "colorbar": {
             "outlinewidth": 0,
             "ticks": ""
            },
            "colorscale": [
             [
              0,
              "#0d0887"
             ],
             [
              0.1111111111111111,
              "#46039f"
             ],
             [
              0.2222222222222222,
              "#7201a8"
             ],
             [
              0.3333333333333333,
              "#9c179e"
             ],
             [
              0.4444444444444444,
              "#bd3786"
             ],
             [
              0.5555555555555556,
              "#d8576b"
             ],
             [
              0.6666666666666666,
              "#ed7953"
             ],
             [
              0.7777777777777778,
              "#fb9f3a"
             ],
             [
              0.8888888888888888,
              "#fdca26"
             ],
             [
              1,
              "#f0f921"
             ]
            ],
            "type": "histogram2d"
           }
          ],
          "histogram2dcontour": [
           {
            "colorbar": {
             "outlinewidth": 0,
             "ticks": ""
            },
            "colorscale": [
             [
              0,
              "#0d0887"
             ],
             [
              0.1111111111111111,
              "#46039f"
             ],
             [
              0.2222222222222222,
              "#7201a8"
             ],
             [
              0.3333333333333333,
              "#9c179e"
             ],
             [
              0.4444444444444444,
              "#bd3786"
             ],
             [
              0.5555555555555556,
              "#d8576b"
             ],
             [
              0.6666666666666666,
              "#ed7953"
             ],
             [
              0.7777777777777778,
              "#fb9f3a"
             ],
             [
              0.8888888888888888,
              "#fdca26"
             ],
             [
              1,
              "#f0f921"
             ]
            ],
            "type": "histogram2dcontour"
           }
          ],
          "mesh3d": [
           {
            "colorbar": {
             "outlinewidth": 0,
             "ticks": ""
            },
            "type": "mesh3d"
           }
          ],
          "parcoords": [
           {
            "line": {
             "colorbar": {
              "outlinewidth": 0,
              "ticks": ""
             }
            },
            "type": "parcoords"
           }
          ],
          "pie": [
           {
            "automargin": true,
            "type": "pie"
           }
          ],
          "scatter": [
           {
            "fillpattern": {
             "fillmode": "overlay",
             "size": 10,
             "solidity": 0.2
            },
            "type": "scatter"
           }
          ],
          "scatter3d": [
           {
            "line": {
             "colorbar": {
              "outlinewidth": 0,
              "ticks": ""
             }
            },
            "marker": {
             "colorbar": {
              "outlinewidth": 0,
              "ticks": ""
             }
            },
            "type": "scatter3d"
           }
          ],
          "scattercarpet": [
           {
            "marker": {
             "colorbar": {
              "outlinewidth": 0,
              "ticks": ""
             }
            },
            "type": "scattercarpet"
           }
          ],
          "scattergeo": [
           {
            "marker": {
             "colorbar": {
              "outlinewidth": 0,
              "ticks": ""
             }
            },
            "type": "scattergeo"
           }
          ],
          "scattergl": [
           {
            "marker": {
             "colorbar": {
              "outlinewidth": 0,
              "ticks": ""
             }
            },
            "type": "scattergl"
           }
          ],
          "scattermapbox": [
           {
            "marker": {
             "colorbar": {
              "outlinewidth": 0,
              "ticks": ""
             }
            },
            "type": "scattermapbox"
           }
          ],
          "scatterpolar": [
           {
            "marker": {
             "colorbar": {
              "outlinewidth": 0,
              "ticks": ""
             }
            },
            "type": "scatterpolar"
           }
          ],
          "scatterpolargl": [
           {
            "marker": {
             "colorbar": {
              "outlinewidth": 0,
              "ticks": ""
             }
            },
            "type": "scatterpolargl"
           }
          ],
          "scatterternary": [
           {
            "marker": {
             "colorbar": {
              "outlinewidth": 0,
              "ticks": ""
             }
            },
            "type": "scatterternary"
           }
          ],
          "surface": [
           {
            "colorbar": {
             "outlinewidth": 0,
             "ticks": ""
            },
            "colorscale": [
             [
              0,
              "#0d0887"
             ],
             [
              0.1111111111111111,
              "#46039f"
             ],
             [
              0.2222222222222222,
              "#7201a8"
             ],
             [
              0.3333333333333333,
              "#9c179e"
             ],
             [
              0.4444444444444444,
              "#bd3786"
             ],
             [
              0.5555555555555556,
              "#d8576b"
             ],
             [
              0.6666666666666666,
              "#ed7953"
             ],
             [
              0.7777777777777778,
              "#fb9f3a"
             ],
             [
              0.8888888888888888,
              "#fdca26"
             ],
             [
              1,
              "#f0f921"
             ]
            ],
            "type": "surface"
           }
          ],
          "table": [
           {
            "cells": {
             "fill": {
              "color": "#EBF0F8"
             },
             "line": {
              "color": "white"
             }
            },
            "header": {
             "fill": {
              "color": "#C8D4E3"
             },
             "line": {
              "color": "white"
             }
            },
            "type": "table"
           }
          ]
         },
         "layout": {
          "annotationdefaults": {
           "arrowcolor": "#2a3f5f",
           "arrowhead": 0,
           "arrowwidth": 1
          },
          "autotypenumbers": "strict",
          "coloraxis": {
           "colorbar": {
            "outlinewidth": 0,
            "ticks": ""
           }
          },
          "colorscale": {
           "diverging": [
            [
             0,
             "#8e0152"
            ],
            [
             0.1,
             "#c51b7d"
            ],
            [
             0.2,
             "#de77ae"
            ],
            [
             0.3,
             "#f1b6da"
            ],
            [
             0.4,
             "#fde0ef"
            ],
            [
             0.5,
             "#f7f7f7"
            ],
            [
             0.6,
             "#e6f5d0"
            ],
            [
             0.7,
             "#b8e186"
            ],
            [
             0.8,
             "#7fbc41"
            ],
            [
             0.9,
             "#4d9221"
            ],
            [
             1,
             "#276419"
            ]
           ],
           "sequential": [
            [
             0,
             "#0d0887"
            ],
            [
             0.1111111111111111,
             "#46039f"
            ],
            [
             0.2222222222222222,
             "#7201a8"
            ],
            [
             0.3333333333333333,
             "#9c179e"
            ],
            [
             0.4444444444444444,
             "#bd3786"
            ],
            [
             0.5555555555555556,
             "#d8576b"
            ],
            [
             0.6666666666666666,
             "#ed7953"
            ],
            [
             0.7777777777777778,
             "#fb9f3a"
            ],
            [
             0.8888888888888888,
             "#fdca26"
            ],
            [
             1,
             "#f0f921"
            ]
           ],
           "sequentialminus": [
            [
             0,
             "#0d0887"
            ],
            [
             0.1111111111111111,
             "#46039f"
            ],
            [
             0.2222222222222222,
             "#7201a8"
            ],
            [
             0.3333333333333333,
             "#9c179e"
            ],
            [
             0.4444444444444444,
             "#bd3786"
            ],
            [
             0.5555555555555556,
             "#d8576b"
            ],
            [
             0.6666666666666666,
             "#ed7953"
            ],
            [
             0.7777777777777778,
             "#fb9f3a"
            ],
            [
             0.8888888888888888,
             "#fdca26"
            ],
            [
             1,
             "#f0f921"
            ]
           ]
          },
          "colorway": [
           "#636efa",
           "#EF553B",
           "#00cc96",
           "#ab63fa",
           "#FFA15A",
           "#19d3f3",
           "#FF6692",
           "#B6E880",
           "#FF97FF",
           "#FECB52"
          ],
          "font": {
           "color": "#2a3f5f"
          },
          "geo": {
           "bgcolor": "white",
           "lakecolor": "white",
           "landcolor": "#E5ECF6",
           "showlakes": true,
           "showland": true,
           "subunitcolor": "white"
          },
          "hoverlabel": {
           "align": "left"
          },
          "hovermode": "closest",
          "mapbox": {
           "style": "light"
          },
          "paper_bgcolor": "white",
          "plot_bgcolor": "#E5ECF6",
          "polar": {
           "angularaxis": {
            "gridcolor": "white",
            "linecolor": "white",
            "ticks": ""
           },
           "bgcolor": "#E5ECF6",
           "radialaxis": {
            "gridcolor": "white",
            "linecolor": "white",
            "ticks": ""
           }
          },
          "scene": {
           "xaxis": {
            "backgroundcolor": "#E5ECF6",
            "gridcolor": "white",
            "gridwidth": 2,
            "linecolor": "white",
            "showbackground": true,
            "ticks": "",
            "zerolinecolor": "white"
           },
           "yaxis": {
            "backgroundcolor": "#E5ECF6",
            "gridcolor": "white",
            "gridwidth": 2,
            "linecolor": "white",
            "showbackground": true,
            "ticks": "",
            "zerolinecolor": "white"
           },
           "zaxis": {
            "backgroundcolor": "#E5ECF6",
            "gridcolor": "white",
            "gridwidth": 2,
            "linecolor": "white",
            "showbackground": true,
            "ticks": "",
            "zerolinecolor": "white"
           }
          },
          "shapedefaults": {
           "line": {
            "color": "#2a3f5f"
           }
          },
          "ternary": {
           "aaxis": {
            "gridcolor": "white",
            "linecolor": "white",
            "ticks": ""
           },
           "baxis": {
            "gridcolor": "white",
            "linecolor": "white",
            "ticks": ""
           },
           "bgcolor": "#E5ECF6",
           "caxis": {
            "gridcolor": "white",
            "linecolor": "white",
            "ticks": ""
           }
          },
          "title": {
           "x": 0.05
          },
          "xaxis": {
           "automargin": true,
           "gridcolor": "white",
           "linecolor": "white",
           "ticks": "",
           "title": {
            "standoff": 15
           },
           "zerolinecolor": "white",
           "zerolinewidth": 2
          },
          "yaxis": {
           "automargin": true,
           "gridcolor": "white",
           "linecolor": "white",
           "ticks": "",
           "title": {
            "standoff": 15
           },
           "zerolinecolor": "white",
           "zerolinewidth": 2
          }
         }
        },
        "title": {
         "text": "Median Total Profit Results x Overall view of actions (across all the simulations)",
         "x": 0.5
        },
        "width": 1200,
        "xaxis": {
         "anchor": "y",
         "categoryorder": "category ascending",
         "domain": [
          0,
          0.94
         ],
         "matches": "x4",
         "showticklabels": false
        },
        "xaxis2": {
         "anchor": "y3",
         "domain": [
          0,
          0.94
         ],
         "matches": "x4",
         "showticklabels": false
        },
        "xaxis3": {
         "anchor": "y5",
         "domain": [
          0,
          0.94
         ],
         "matches": "x4",
         "showticklabels": false
        },
        "xaxis4": {
         "anchor": "y7",
         "domain": [
          0,
          0.94
         ]
        },
        "yaxis": {
         "anchor": "x",
         "domain": [
          0.84375,
          1
         ],
         "matches": "y7",
         "title": {
          "text": "Proportion of trades<br>across all the simulations"
         }
        },
        "yaxis2": {
         "anchor": "x",
         "overlaying": "y",
         "side": "right",
         "title": {
          "text": "CCY level with the<br>sim_id actions related"
         }
        },
        "yaxis3": {
         "anchor": "x2",
         "domain": [
          0.5625,
          0.71875
         ],
         "matches": "y7",
         "title": {
          "text": "Proportion of trades<br>across all the simulations"
         }
        },
        "yaxis4": {
         "anchor": "x2",
         "overlaying": "y3",
         "side": "right",
         "title": {
          "text": "CCY level with the<br>sim_id actions related"
         }
        },
        "yaxis5": {
         "anchor": "x3",
         "domain": [
          0.28125,
          0.4375
         ],
         "matches": "y7",
         "title": {
          "text": "Proportion of trades<br>across all the simulations"
         }
        },
        "yaxis6": {
         "anchor": "x3",
         "overlaying": "y5",
         "side": "right",
         "title": {
          "text": "CCY level with the<br>sim_id actions related"
         }
        },
        "yaxis7": {
         "anchor": "x4",
         "domain": [
          0,
          0.15625
         ],
         "title": {
          "text": "Proportion of trades<br>across all the simulations"
         }
        },
        "yaxis8": {
         "anchor": "x4",
         "overlaying": "y7",
         "side": "right",
         "title": {
          "text": "CCY level with the<br>sim_id actions related"
         }
        }
       }
      }
     },
     "metadata": {},
     "output_type": "display_data"
    }
   ],
   "source": [
    "plot_trader_robot_actions_all_sim_id_all_models(config_file_name_without_extension, \"\", \"\", median_sim_id_DQN, \"\")"
   ]
  },
  {
   "cell_type": "code",
   "execution_count": 40,
   "metadata": {},
   "outputs": [
    {
     "name": "stdout",
     "output_type": "stream",
     "text": [
      "mean_reward=-204.91 +/- 0.0\n"
     ]
    }
   ],
   "source": [
    "# Evaluate the loaded policy\n",
    "mean_reward, std_reward = evaluate_policy(saved_policy, env, n_eval_episodes=10, deterministic=True)\n",
    "\n",
    "print(f\"mean_reward={mean_reward:.2f} +/- {std_reward}\")"
   ]
  },
  {
   "cell_type": "code",
   "execution_count": null,
   "metadata": {},
   "outputs": [],
   "source": []
  }
 ],
 "metadata": {
  "kernelspec": {
   "display_name": "msc_uol_ai_dissertation",
   "language": "python",
   "name": "python3"
  },
  "language_info": {
   "codemirror_mode": {
    "name": "ipython",
    "version": 3
   },
   "file_extension": ".py",
   "mimetype": "text/x-python",
   "name": "python",
   "nbconvert_exporter": "python",
   "pygments_lexer": "ipython3",
   "version": "3.8.13"
  },
  "orig_nbformat": 4,
  "vscode": {
   "interpreter": {
    "hash": "0c0f2ae3d5d9aa27c4a2afc20f28a2482dc1006477ab22953abc78c31c7bb5b2"
   }
  }
 },
 "nbformat": 4,
 "nbformat_minor": 2
}
