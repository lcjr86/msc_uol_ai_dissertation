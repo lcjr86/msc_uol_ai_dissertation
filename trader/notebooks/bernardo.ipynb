{
 "cells": [
  {
   "cell_type": "code",
   "execution_count": 1,
   "metadata": {},
   "outputs": [],
   "source": [
    "import warnings\n",
    "warnings.filterwarnings('ignore')\n",
    "\n",
    "from configparser import ConfigParser\n",
    "\n",
    "from typing import Callable\n",
    "\n",
    "import gym\n",
    "import gym_anytrading\n",
    "\n",
    "from gym_anytrading.envs import CryptoEnvLogINFER\n",
    "\n",
    "from stable_baselines3.common.vec_env import DummyVecEnv, SubprocVecEnv\n",
    "from stable_baselines3 import A2C, PPO, DQN\n",
    "from stable_baselines3.common.evaluation import evaluate_policy\n",
    "from stable_baselines3.common.env_util import make_vec_env\n",
    "from stable_baselines3.common.utils import set_random_seed\n",
    "\n",
    "from stable_baselines3.dqn.policies import MlpPolicy\n",
    "\n",
    "import tensorflow as tf\n",
    "\n",
    "import numpy as np\n",
    "import pandas as pd\n",
    "import plotly.express as px\n",
    "import plotly.graph_objects as go\n",
    "from plotly.subplots import make_subplots\n",
    "import os\n",
    "import datetime\n",
    "\n",
    "import multiprocessing\n",
    "\n",
    "import quantstats as qs\n",
    "\n",
    "import sqlite3\n",
    "from sqlalchemy import create_engine"
   ]
  },
  {
   "cell_type": "code",
   "execution_count": 2,
   "metadata": {},
   "outputs": [
    {
     "name": "stdout",
     "output_type": "stream",
     "text": [
      "['../../simulations/config_files/config_03a_mix_infer.ini']\n"
     ]
    }
   ],
   "source": [
    "configur = ConfigParser()\n",
    "config_file_name = \"config_03a_mix_infer.ini\"\n",
    "print (configur.read(os.path.join('../../simulations/config_files', config_file_name)))"
   ]
  },
  {
   "cell_type": "code",
   "execution_count": 3,
   "metadata": {},
   "outputs": [],
   "source": [
    "config_file_name_without_extension = config_file_name.replace(\".ini\", \"\")\n",
    "\n",
    "ccy = configur.get('data', 'ccy')\n",
    "\n",
    "data_frequency_train = configur.get('data', 'data_frequency_train')\n",
    "data_frequency_val = configur.get('data', 'data_frequency_val')\n",
    "\n",
    "start_date_train = configur.get('environment', 'start_date')\n",
    "\n",
    "window_size = configur.getint('environment', 'window_size')\n",
    "list_features = configur.get('environment', 'features').split(',')\n",
    "target = configur.get('environment', 'target')"
   ]
  },
  {
   "cell_type": "code",
   "execution_count": 4,
   "metadata": {},
   "outputs": [
    {
     "name": "stdout",
     "output_type": "stream",
     "text": [
      "The loaded_model has 0 transitions in its buffer\n",
      "The loaded_model has 165368 transitions in its buffer\n"
     ]
    }
   ],
   "source": [
    "model_name = \"DQN\"\n",
    "# the saved model does not contain the replay buffer\n",
    "loaded_model = DQN.load(\"../../simulations/save_models_components/model/model_DQN_\"+ config_file_name_without_extension + \".zip\")\n",
    "print(f\"The loaded_model has {loaded_model.replay_buffer.size()} transitions in its buffer\")\n",
    "\n",
    "# load it into the loaded_model\n",
    "loaded_model.load_replay_buffer(\"../../simulations/save_models_components/replay_buffer/replay_buffer_DQN_\" + config_file_name_without_extension + \".pkl\")\n",
    "\n",
    "# now the loaded replay is not empty anymore\n",
    "print(f\"The loaded_model has {loaded_model.replay_buffer.size()} transitions in its buffer\")\n",
    "\n",
    "saved_policy = MlpPolicy.load(\"../../simulations/save_models_components/policy/policy_DQN_\" + config_file_name_without_extension)"
   ]
  },
  {
   "cell_type": "code",
   "execution_count": 15,
   "metadata": {},
   "outputs": [],
   "source": [
    "mid_date='2023-01-01 00:00:00'\n",
    "end_date='2023-02-01 00:00:00'"
   ]
  },
  {
   "cell_type": "code",
   "execution_count": 16,
   "metadata": {},
   "outputs": [],
   "source": [
    "def get_and_process_data(ccy, data_frequency, start_date, end_date):\n",
    "    try:\n",
    "        \n",
    "        # Get the data\n",
    "        db_address = 'sqlite:///../../data/db/crypto.db'\n",
    "        engine = create_engine(db_address, echo=False)\n",
    "        sqlite_connection = engine.connect()\n",
    "\n",
    "        input_tbl_name = \"tbl_all_features\" + \"_\" + ccy + \"_\" + data_frequency\n",
    "        \n",
    "        sql_command = \"SELECT * FROM \" + input_tbl_name\n",
    "\n",
    "        if(start_date!=\"\" and end_date!=\"\"):\n",
    "            \n",
    "            sd = datetime.datetime.strptime(start_date,'%d %b, %Y').strftime('%Y-%m-%d')\n",
    "            ed = datetime.datetime.strptime(end_date,'%d %b, %Y').strftime('%Y-%m-%d')\n",
    "\n",
    "            sql_append = \" WHERE \" + \"date(date) >= \" + \"'\" + sd + \"'\" + \" AND date(date) <= \" + \"'\" + ed + \"'\"\n",
    "            sql_command = sql_command + sql_append\n",
    "\n",
    "        df = pd.read_sql(sql_command, sqlite_connection)\n",
    "\n",
    "        sqlite_connection.close()\n",
    "\n",
    "        # Converting Date Column to DateTime Type\n",
    "        # Set the index on the dataframe\n",
    "        df['date_index'] = df['date']\n",
    "        df.set_index('date_index', inplace=True)\n",
    "\n",
    "        return df\n",
    "\n",
    "    except Exception as e:\n",
    "        print(e)"
   ]
  },
  {
   "cell_type": "code",
   "execution_count": 17,
   "metadata": {},
   "outputs": [],
   "source": [
    "# Format the data\n",
    "start_date_temp = datetime.datetime.strptime(mid_date,'%Y-%m-%d %H:%M:%S')\n",
    "start_date_temp2 = start_date_temp + datetime.timedelta(days=-(window_size+1))\n",
    "start_date_db = start_date_temp2.strftime('%d %b, %Y')\n",
    "end_date_db = datetime.datetime.strptime(end_date,'%Y-%m-%d %H:%M:%S').strftime('%d %b, %Y')\n",
    "\n",
    "df_val = get_and_process_data(ccy, data_frequency_val, start_date_db, end_date_db)"
   ]
  },
  {
   "cell_type": "code",
   "execution_count": 18,
   "metadata": {},
   "outputs": [
    {
     "data": {
      "text/html": [
       "<div>\n",
       "<style scoped>\n",
       "    .dataframe tbody tr th:only-of-type {\n",
       "        vertical-align: middle;\n",
       "    }\n",
       "\n",
       "    .dataframe tbody tr th {\n",
       "        vertical-align: top;\n",
       "    }\n",
       "\n",
       "    .dataframe thead th {\n",
       "        text-align: right;\n",
       "    }\n",
       "</style>\n",
       "<table border=\"1\" class=\"dataframe\">\n",
       "  <thead>\n",
       "    <tr style=\"text-align: right;\">\n",
       "      <th></th>\n",
       "      <th>open_time</th>\n",
       "      <th>open</th>\n",
       "      <th>high</th>\n",
       "      <th>low</th>\n",
       "      <th>close</th>\n",
       "      <th>volume</th>\n",
       "      <th>close_time</th>\n",
       "      <th>quote_asset_volume</th>\n",
       "      <th>number_of_trades</th>\n",
       "      <th>taker_buy_base_asset_volume</th>\n",
       "      <th>...</th>\n",
       "      <th>BBANDS_L</th>\n",
       "      <th>AD</th>\n",
       "      <th>ATR</th>\n",
       "      <th>HT_DC</th>\n",
       "      <th>SAR</th>\n",
       "      <th>ratio_high_open</th>\n",
       "      <th>ratio_low_open</th>\n",
       "      <th>ratio_close_open</th>\n",
       "      <th>time_to_chart_return</th>\n",
       "      <th>crypto_index</th>\n",
       "    </tr>\n",
       "    <tr>\n",
       "      <th>date_index</th>\n",
       "      <th></th>\n",
       "      <th></th>\n",
       "      <th></th>\n",
       "      <th></th>\n",
       "      <th></th>\n",
       "      <th></th>\n",
       "      <th></th>\n",
       "      <th></th>\n",
       "      <th></th>\n",
       "      <th></th>\n",
       "      <th></th>\n",
       "      <th></th>\n",
       "      <th></th>\n",
       "      <th></th>\n",
       "      <th></th>\n",
       "      <th></th>\n",
       "      <th></th>\n",
       "      <th></th>\n",
       "      <th></th>\n",
       "      <th></th>\n",
       "      <th></th>\n",
       "    </tr>\n",
       "  </thead>\n",
       "  <tbody>\n",
       "    <tr>\n",
       "      <th>2023-01-28 00:00:00.000000</th>\n",
       "      <td>1674777600000</td>\n",
       "      <td>23009.65</td>\n",
       "      <td>23500.00</td>\n",
       "      <td>22534.88</td>\n",
       "      <td>23074.16</td>\n",
       "      <td>280833.86315</td>\n",
       "      <td>1674863999999</td>\n",
       "      <td>6.461708e+09</td>\n",
       "      <td>7079096</td>\n",
       "      <td>139699.27638</td>\n",
       "      <td>...</td>\n",
       "      <td>16737.868400</td>\n",
       "      <td>1.750974e+06</td>\n",
       "      <td>764.952818</td>\n",
       "      <td>25.482889</td>\n",
       "      <td>22300.00</td>\n",
       "      <td>1.021311</td>\n",
       "      <td>0.979366</td>\n",
       "      <td>1.002804</td>\n",
       "      <td>0.002804</td>\n",
       "      <td>1224.312901</td>\n",
       "    </tr>\n",
       "    <tr>\n",
       "      <th>2023-01-29 00:00:00.000000</th>\n",
       "      <td>1674864000000</td>\n",
       "      <td>23074.16</td>\n",
       "      <td>23189.00</td>\n",
       "      <td>22878.46</td>\n",
       "      <td>23022.60</td>\n",
       "      <td>148115.71085</td>\n",
       "      <td>1674950399999</td>\n",
       "      <td>3.408985e+09</td>\n",
       "      <td>4181816</td>\n",
       "      <td>73861.83566</td>\n",
       "      <td>...</td>\n",
       "      <td>17308.616744</td>\n",
       "      <td>1.740357e+06</td>\n",
       "      <td>732.494759</td>\n",
       "      <td>26.843421</td>\n",
       "      <td>22534.88</td>\n",
       "      <td>1.004977</td>\n",
       "      <td>0.991519</td>\n",
       "      <td>0.997765</td>\n",
       "      <td>-0.002235</td>\n",
       "      <td>1221.577132</td>\n",
       "    </tr>\n",
       "    <tr>\n",
       "      <th>2023-01-30 00:00:00.000000</th>\n",
       "      <td>1674950400000</td>\n",
       "      <td>23021.40</td>\n",
       "      <td>23960.54</td>\n",
       "      <td>22967.76</td>\n",
       "      <td>23742.30</td>\n",
       "      <td>295688.79204</td>\n",
       "      <td>1675036799999</td>\n",
       "      <td>6.941923e+09</td>\n",
       "      <td>7030837</td>\n",
       "      <td>149507.50610</td>\n",
       "      <td>...</td>\n",
       "      <td>17942.197270</td>\n",
       "      <td>1.906045e+06</td>\n",
       "      <td>751.086562</td>\n",
       "      <td>28.072785</td>\n",
       "      <td>22534.88</td>\n",
       "      <td>1.040794</td>\n",
       "      <td>0.997670</td>\n",
       "      <td>1.031314</td>\n",
       "      <td>0.031261</td>\n",
       "      <td>1259.764350</td>\n",
       "    </tr>\n",
       "    <tr>\n",
       "      <th>2023-01-31 00:00:00.000000</th>\n",
       "      <td>1675036800000</td>\n",
       "      <td>23743.37</td>\n",
       "      <td>23800.51</td>\n",
       "      <td>22500.00</td>\n",
       "      <td>22826.15</td>\n",
       "      <td>302405.90121</td>\n",
       "      <td>1675123199999</td>\n",
       "      <td>7.020727e+09</td>\n",
       "      <td>7790224</td>\n",
       "      <td>149096.53066</td>\n",
       "      <td>...</td>\n",
       "      <td>18696.277039</td>\n",
       "      <td>1.755317e+06</td>\n",
       "      <td>790.331093</td>\n",
       "      <td>29.579451</td>\n",
       "      <td>23960.54</td>\n",
       "      <td>1.002407</td>\n",
       "      <td>0.947633</td>\n",
       "      <td>0.961369</td>\n",
       "      <td>-0.038587</td>\n",
       "      <td>1211.153512</td>\n",
       "    </tr>\n",
       "    <tr>\n",
       "      <th>2023-02-01 00:00:00.000000</th>\n",
       "      <td>1675123200000</td>\n",
       "      <td>22827.38</td>\n",
       "      <td>23221.14</td>\n",
       "      <td>22714.77</td>\n",
       "      <td>23098.93</td>\n",
       "      <td>183268.73429</td>\n",
       "      <td>1675209599999</td>\n",
       "      <td>4.205540e+09</td>\n",
       "      <td>4665472</td>\n",
       "      <td>91830.13770</td>\n",
       "      <td>...</td>\n",
       "      <td>19453.979169</td>\n",
       "      <td>1.850124e+06</td>\n",
       "      <td>770.048158</td>\n",
       "      <td>31.478575</td>\n",
       "      <td>23960.54</td>\n",
       "      <td>1.017249</td>\n",
       "      <td>0.995067</td>\n",
       "      <td>1.011896</td>\n",
       "      <td>0.011950</td>\n",
       "      <td>1225.627195</td>\n",
       "    </tr>\n",
       "  </tbody>\n",
       "</table>\n",
       "<p>5 rows × 91 columns</p>\n",
       "</div>"
      ],
      "text/plain": [
       "                                open_time      open      high       low  \\\n",
       "date_index                                                                \n",
       "2023-01-28 00:00:00.000000  1674777600000  23009.65  23500.00  22534.88   \n",
       "2023-01-29 00:00:00.000000  1674864000000  23074.16  23189.00  22878.46   \n",
       "2023-01-30 00:00:00.000000  1674950400000  23021.40  23960.54  22967.76   \n",
       "2023-01-31 00:00:00.000000  1675036800000  23743.37  23800.51  22500.00   \n",
       "2023-02-01 00:00:00.000000  1675123200000  22827.38  23221.14  22714.77   \n",
       "\n",
       "                               close        volume     close_time  \\\n",
       "date_index                                                          \n",
       "2023-01-28 00:00:00.000000  23074.16  280833.86315  1674863999999   \n",
       "2023-01-29 00:00:00.000000  23022.60  148115.71085  1674950399999   \n",
       "2023-01-30 00:00:00.000000  23742.30  295688.79204  1675036799999   \n",
       "2023-01-31 00:00:00.000000  22826.15  302405.90121  1675123199999   \n",
       "2023-02-01 00:00:00.000000  23098.93  183268.73429  1675209599999   \n",
       "\n",
       "                            quote_asset_volume  number_of_trades  \\\n",
       "date_index                                                         \n",
       "2023-01-28 00:00:00.000000        6.461708e+09           7079096   \n",
       "2023-01-29 00:00:00.000000        3.408985e+09           4181816   \n",
       "2023-01-30 00:00:00.000000        6.941923e+09           7030837   \n",
       "2023-01-31 00:00:00.000000        7.020727e+09           7790224   \n",
       "2023-02-01 00:00:00.000000        4.205540e+09           4665472   \n",
       "\n",
       "                            taker_buy_base_asset_volume  ...      BBANDS_L  \\\n",
       "date_index                                               ...                 \n",
       "2023-01-28 00:00:00.000000                 139699.27638  ...  16737.868400   \n",
       "2023-01-29 00:00:00.000000                  73861.83566  ...  17308.616744   \n",
       "2023-01-30 00:00:00.000000                 149507.50610  ...  17942.197270   \n",
       "2023-01-31 00:00:00.000000                 149096.53066  ...  18696.277039   \n",
       "2023-02-01 00:00:00.000000                  91830.13770  ...  19453.979169   \n",
       "\n",
       "                                      AD         ATR      HT_DC       SAR  \\\n",
       "date_index                                                                  \n",
       "2023-01-28 00:00:00.000000  1.750974e+06  764.952818  25.482889  22300.00   \n",
       "2023-01-29 00:00:00.000000  1.740357e+06  732.494759  26.843421  22534.88   \n",
       "2023-01-30 00:00:00.000000  1.906045e+06  751.086562  28.072785  22534.88   \n",
       "2023-01-31 00:00:00.000000  1.755317e+06  790.331093  29.579451  23960.54   \n",
       "2023-02-01 00:00:00.000000  1.850124e+06  770.048158  31.478575  23960.54   \n",
       "\n",
       "                            ratio_high_open  ratio_low_open  ratio_close_open  \\\n",
       "date_index                                                                      \n",
       "2023-01-28 00:00:00.000000         1.021311        0.979366          1.002804   \n",
       "2023-01-29 00:00:00.000000         1.004977        0.991519          0.997765   \n",
       "2023-01-30 00:00:00.000000         1.040794        0.997670          1.031314   \n",
       "2023-01-31 00:00:00.000000         1.002407        0.947633          0.961369   \n",
       "2023-02-01 00:00:00.000000         1.017249        0.995067          1.011896   \n",
       "\n",
       "                            time_to_chart_return  crypto_index  \n",
       "date_index                                                      \n",
       "2023-01-28 00:00:00.000000              0.002804   1224.312901  \n",
       "2023-01-29 00:00:00.000000             -0.002235   1221.577132  \n",
       "2023-01-30 00:00:00.000000              0.031261   1259.764350  \n",
       "2023-01-31 00:00:00.000000             -0.038587   1211.153512  \n",
       "2023-02-01 00:00:00.000000              0.011950   1225.627195  \n",
       "\n",
       "[5 rows x 91 columns]"
      ]
     },
     "execution_count": 18,
     "metadata": {},
     "output_type": "execute_result"
    }
   ],
   "source": [
    "df_val.tail()"
   ]
  },
  {
   "cell_type": "code",
   "execution_count": 19,
   "metadata": {},
   "outputs": [],
   "source": [
    "mid_date_id_val = int(df_val.index.get_loc(datetime.datetime.strptime(mid_date,'%Y-%m-%d %H:%M:%S').strftime('%Y-%m-%d %H:%M:%S.%f')))\n",
    "end_date_id_val = int(df_val.index.get_loc(datetime.datetime.strptime(end_date,'%Y-%m-%d %H:%M:%S').strftime('%Y-%m-%d %H:%M:%S.%f')))"
   ]
  },
  {
   "cell_type": "code",
   "execution_count": 20,
   "metadata": {},
   "outputs": [],
   "source": [
    "def my_process_data(env):\n",
    "    start = env.frame_bound[0] - env.window_size\n",
    "    end = env.frame_bound[1]\n",
    "    prices = env.df.loc[:, target].to_numpy()[start:end]\n",
    "    signal_features = env.df.loc[:, list_features].to_numpy()[start:end]\n",
    "    dates = env.df.index.to_numpy()[start:end]\n",
    "    return prices, signal_features, dates\n",
    "\n",
    "class MyEnv(CryptoEnvLogINFER):\n",
    "    _process_data = my_process_data"
   ]
  },
  {
   "cell_type": "code",
   "execution_count": 21,
   "metadata": {},
   "outputs": [],
   "source": [
    "env = MyEnv(df=df_val, frame_bound=(mid_date_id_val,end_date_id_val), window_size=window_size)"
   ]
  },
  {
   "cell_type": "code",
   "execution_count": 22,
   "metadata": {},
   "outputs": [],
   "source": [
    "num_of_simulations=1000"
   ]
  },
  {
   "cell_type": "code",
   "execution_count": 23,
   "metadata": {},
   "outputs": [],
   "source": [
    "df_sim_results = pd.DataFrame()\n",
    "df_robot_actions_and_env_final = pd.DataFrame()\n",
    "\n",
    "df_sim_results_temp = pd.DataFrame(columns=['total_reward_cash', 'total_profit_percentage', 'fmt_total_profit_percentage', 'num_of_trades'])\n",
    "df_robot_actions_and_env_temp = pd.DataFrame(columns=['dates', 'prices', 'actions', 'total_reward_cash', 'total_profit_percentage', 'fmt_total_profit_percentage', 'num_of_trades', 'sim_id'])\n",
    "\n",
    "list_sim_id = []\n",
    "\n",
    "sim_id = 1\n",
    "for i in range(num_of_simulations):   \n",
    "\n",
    "    #Setting up the Agent Environment\n",
    "    obs = env.reset()\n",
    "\n",
    "    list_sim_id.append(sim_id)\n",
    "\n",
    "    while True: \n",
    "        obs = obs[np.newaxis, ...]\n",
    "\n",
    "        action, _states = loaded_model.predict(obs)\n",
    "        \n",
    "        obs, rewards, done, info = env.step(action)\n",
    "        \n",
    "        if done:\n",
    "            df_sim_results_temp = df_sim_results_temp.append(info, ignore_index=True, sort=False)\n",
    "            break\n",
    "\n",
    "    # Export robot actions plot and data\n",
    "    fig, df_robot_actions = env.render_all()\n",
    "    # fig.write_html(os.path.join('results', 'plots', 'robot_actions', 'robot_actions_' + config_file_name_without_extension + '_sim_id_' + str(sim_id) + '.html'))\n",
    "\n",
    "    # Export the history of details (the info dict inside of the environment)\n",
    "    df_sim_env_data = pd.DataFrame.from_dict(env.history)\n",
    "\n",
    "    # Merge robot actions data + sim env data\n",
    "    df_sim_env_data_initial = pd.DataFrame(columns=['total_reward_cash', 'total_profit_percentage', 'fmt_total_profit_percentage', 'num_of_trades'])\n",
    "    for i in range(0, window_size + 1):\n",
    "        df_sim_env_data_initial = df_sim_env_data_initial.append(pd.Series([0, 0, 0, 0], index=df_sim_env_data_initial.columns), ignore_index=True)\n",
    "    \n",
    "    df_sim_env_data_temp = df_sim_env_data_initial.append(df_sim_env_data, ignore_index=True)\n",
    "    \n",
    "    df_robot_actions_and_env_temp = pd.merge(df_robot_actions, df_sim_env_data_temp, left_index=True, right_index=True, how = \"outer\")\n",
    "    df_robot_actions_and_env_temp['sim_id'] = sim_id\n",
    "\n",
    "    df_robot_actions_and_env_final = pd.concat([df_robot_actions_and_env_final, df_robot_actions_and_env_temp], axis=0)\n",
    "\n",
    "    sim_id = sim_id + 1\n",
    "\n",
    "df_sim_results_temp['sim_id'] = list_sim_id\n",
    "df_sim_results_temp['ccy'] = ccy\n",
    "df_sim_results_temp['data_frequency_train'] = data_frequency_train\n",
    "df_sim_results_temp['data_frequency_val'] = data_frequency_val\n",
    "df_sim_results_temp['window_size'] = window_size\n",
    "df_sim_results_temp['start_date'] = start_date_train\n",
    "df_sim_results_temp['mid_date'] = mid_date\n",
    "df_sim_results_temp['end_date'] = end_date\n",
    "df_sim_results_temp['target'] = target\n",
    "df_sim_results_temp['list_features'] = str(list_features)\n",
    "df_sim_results_temp['model_type'] = model_name \n",
    "df_sim_results_temp['num_of_simulations'] = num_of_simulations   \n",
    "\n",
    "df_sim_results = pd.concat([df_sim_results, df_sim_results_temp], axis=0)"
   ]
  },
  {
   "cell_type": "code",
   "execution_count": 24,
   "metadata": {},
   "outputs": [],
   "source": [
    "df_sim_results = df_sim_results.reset_index(drop=True)\n",
    "df_sim_results = df_sim_results.drop_duplicates()\n",
    "\n",
    "## SIMULATION RESULTS\n",
    "\n",
    "# Format data type\n",
    "df_sim_results['start_date'] = pd.to_datetime(df_sim_results['start_date'])\n",
    "df_sim_results['mid_date'] = pd.to_datetime(df_sim_results['mid_date'])\n",
    "df_sim_results['end_date'] = pd.to_datetime(df_sim_results['end_date'])\n",
    "\n",
    "# Write to the db\n",
    "db_address = 'sqlite:///../results/data/db/trader.db'\n",
    "engine = create_engine(db_address, echo=False)\n",
    "sqlite_connection = engine.connect()\n",
    "\n",
    "output_tbl_name = \"tbl_trader_bernardo_simulation_results_\" + config_file_name_without_extension\n",
    "\n",
    "df_sim_results.to_sql(output_tbl_name, sqlite_connection, if_exists='replace', index=False)\n",
    "\n",
    "sqlite_connection.close()\n",
    "\n",
    "## ROBOT ACTIONS and ENV RESULTS\n",
    "\n",
    "# Format data type\n",
    "df_robot_actions_and_env_final['dates'] = pd.to_datetime(df_robot_actions_and_env_final['dates'])\n",
    "df_robot_actions_and_env_final['total_reward_cash'] = df_robot_actions_and_env_final['total_reward_cash'].astype(float)\n",
    "df_robot_actions_and_env_final['total_profit_percentage'] = df_robot_actions_and_env_final['total_profit_percentage'].astype(float)\n",
    "df_robot_actions_and_env_final['fmt_total_profit_percentage'] = df_robot_actions_and_env_final['fmt_total_profit_percentage'].astype(float)\n",
    "df_robot_actions_and_env_final['num_of_trades'] = df_robot_actions_and_env_final['num_of_trades'].astype(float)\n",
    "\n",
    "# Write to the db\n",
    "db_address = 'sqlite:///../results/data/db/trader.db'\n",
    "engine = create_engine(db_address, echo=False)\n",
    "sqlite_connection = engine.connect()\n",
    "\n",
    "output_tbl_name = \"tbl_trader_bernardo_robot_actions_and_env_\" + config_file_name_without_extension\n",
    "\n",
    "df_robot_actions_and_env_final.to_sql(output_tbl_name, sqlite_connection, if_exists='replace', index=False)\n",
    "\n",
    "sqlite_connection.close()"
   ]
  },
  {
   "attachments": {},
   "cell_type": "markdown",
   "metadata": {},
   "source": [
    "## Get Data"
   ]
  },
  {
   "cell_type": "code",
   "execution_count": 25,
   "metadata": {},
   "outputs": [],
   "source": [
    "def get_and_process_trader_data(config_file_name_without_extension):\n",
    "    try:\n",
    "        \n",
    "        # Get the data\n",
    "        db_address = 'sqlite:///../results/data/db/trader.db'\n",
    "        engine = create_engine(db_address, echo=False)\n",
    "        sqlite_connection = engine.connect()\n",
    "\n",
    "        input_tbl_name = \"tbl_trader_bernardo_simulation_results\" + \"_\" + config_file_name_without_extension\n",
    "        \n",
    "        sql_command = \"SELECT * FROM \" + input_tbl_name\n",
    "\n",
    "        df = pd.read_sql(sql_command, sqlite_connection)\n",
    "\n",
    "        sqlite_connection.close()\n",
    "\n",
    "        return df\n",
    "\n",
    "    except Exception as e:\n",
    "        print(e)"
   ]
  },
  {
   "cell_type": "code",
   "execution_count": 26,
   "metadata": {},
   "outputs": [],
   "source": [
    "df_trader_results = get_and_process_trader_data(config_file_name_without_extension)"
   ]
  },
  {
   "cell_type": "code",
   "execution_count": 27,
   "metadata": {},
   "outputs": [
    {
     "data": {
      "application/vnd.plotly.v1+json": {
       "config": {
        "plotlyServerURL": "https://plot.ly"
       },
       "data": [
        {
         "alignmentgroup": "True",
         "boxpoints": "all",
         "hovertemplate": "model_type=DQN<br>fmt_total_profit_percentage=%{y}<extra></extra>",
         "legendgroup": "DQN",
         "marker": {
          "color": "#FF7F0E"
         },
         "name": "DQN",
         "notched": false,
         "offsetgroup": "DQN",
         "orientation": "v",
         "showlegend": true,
         "type": "box",
         "x0": " ",
         "xaxis": "x",
         "y": [
          -4.631310946303213,
          -4.631310946303213,
          -2.8937536991131996,
          -4.631310946303213,
          5.1874204047918315,
          2.409414816390698,
          -2.617006759420959,
          -4.631310946303213,
          -1.685154266617983,
          2.4060571049153046,
          -4.631310946303213,
          -4.631310946303213,
          -4.631310946303213,
          -7.479424674779689,
          -4.06889022109711,
          -4.631310946303213,
          -4.631310946303213,
          -4.631310946303213,
          -4.631310946303213,
          -4.621252734833625,
          -4.631310946303213,
          -13.554664332443023,
          0.27306808301110763,
          4.4272715989058575,
          -4.631310946303213,
          -4.631310946303213,
          4.680167072987729,
          -9.100334886309614,
          -6.4195052581949135,
          -4.631310946303213,
          -4.06889022109711,
          -13.51339203985834,
          6.44840692454125,
          -4.631310946303213,
          -7.928803056068368,
          -4.631310946303213,
          -4.631310946303213,
          -4.631310946303213,
          -4.631310946303213,
          2.00253618624886,
          -4.631310946303213,
          -4.631310946303213,
          -4.631310946303213,
          -4.631310946303213,
          -4.631310946303213,
          6.311647581604207,
          -4.631310946303213,
          -19.192419312325026,
          -4.631310946303213,
          -4.631310946303213,
          4.036564781167606,
          -4.631310946303213,
          -1.685154266617983,
          -4.631310946303213,
          5.602567289907268,
          -4.631310946303213,
          -4.631310946303213,
          -4.631310946303213,
          -4.631310946303213,
          2.4060571049153046,
          -4.631310946303213,
          -4.631310946303213,
          -4.631310946303213,
          -4.631310946303213,
          -6.4195052581949135,
          -4.631310946303213,
          3.5343981977086436,
          -4.631310946303213,
          -4.631310946303213,
          -9.899138398881702,
          -4.631310946303213,
          -4.551593225729311,
          4.036564781167606,
          -1.685154266617983,
          -4.631310946303213,
          3.8849111160071947,
          2.6347781084564925,
          -4.631310946303213,
          -3.3492910197644887,
          -4.631310946303213,
          -3.2803265453192343,
          5.1874204047918315,
          -4.631310946303213,
          -4.631310946303213,
          -4.631310946303213,
          -13.554664332443023,
          -4.631310946303213,
          24.248082903793943,
          -2.65290205109715,
          6.871712706048316,
          -3.3492910197644887,
          -7.654168304490804,
          -4.631310946303213,
          -4.631310946303213,
          5.1874204047918315,
          -1.3880625712279215,
          -3.2535239704661767,
          -4.631310946303213,
          1.6028179926755648,
          -4.631310946303213,
          -7.654168304490804,
          -4.631310946303213,
          1.3532476383779635,
          -4.196868359373617,
          -4.631310946303213,
          3.8849111160071947,
          -4.604882750924732,
          -4.631310946303213,
          5.602567289907268,
          12.892918812669919,
          2.4060571049153046,
          6.648290382205557,
          -4.631310946303213,
          -4.631310946303213,
          2.6347781084564925,
          2.3235369843245923,
          -4.631310946303213,
          -4.06889022109711,
          1.87519840703807,
          -2.5457781855605432,
          2.0910199557558684,
          -3.9860429272055575,
          -4.631310946303213,
          5.248820425145273,
          -12.39082942071179,
          4.4272715989058575,
          -2.5457781855605432,
          2.6347781084564925,
          -4.631310946303213,
          5.1874204047918315,
          -4.631310946303213,
          -4.631310946303213,
          3.8849111160071947,
          -4.631310946303213,
          1.6028179926755648,
          -4.631310946303213,
          -4.631310946303213,
          -4.631310946303213,
          2.0562813522226,
          -4.631310946303213,
          -7.654168304490804,
          -4.631310946303213,
          -4.631310946303213,
          13.14160176442738,
          0.27306808301110763,
          -4.631310946303213,
          -4.06889022109711,
          -4.250137765608997,
          -4.631310946303213,
          -4.631310946303213,
          -4.631310946303213,
          -4.631310946303213,
          18.839427914296934,
          4.4272715989058575,
          4.036564781167606,
          -4.631310946303213,
          -4.631310946303213,
          -4.631310946303213,
          -4.631310946303213,
          -4.631310946303213,
          -4.631310946303213,
          1.6309737653044998,
          -4.631310946303213,
          8.860692885000532,
          -3.3492910197644887,
          -4.631310946303213,
          12.391305373932315,
          -7.03807591305603,
          -4.631310946303213,
          4.4272715989058575,
          -4.631310946303213,
          -4.631310946303213,
          -10.454916692481476,
          -4.631310946303213,
          -2.6259177166235492,
          14.517993519576255,
          -4.631310946303213,
          -3.9860429272055575,
          -4.631310946303213,
          -4.631310946303213,
          -4.631310946303213,
          -4.631310946303213,
          1.0934051407932577,
          -10.851025376067213,
          -4.631310946303213,
          5.602567289907268,
          2.4060571049153046,
          16.743163466567413,
          -4.631310946303213,
          -4.631310946303213,
          6.710898418100841,
          2.6347781084564925,
          -3.2803265453192343,
          -4.631310946303213,
          -2.5457781855605432,
          -4.631310946303213,
          5.2165695283186375,
          -6.4195052581949135,
          -4.631310946303213,
          -4.631310946303213,
          -3.4927015747098222,
          12.391305373932315,
          5.248820425145273,
          -6.23569130318039,
          -4.631310946303213,
          4.036564781167606,
          5.1874204047918315,
          -4.631310946303213,
          3.689068755335123,
          9.956051042430003,
          -4.631310946303213,
          -7.903843564408541,
          -4.631310946303213,
          -4.631310946303213,
          -4.631310946303213,
          -4.631310946303213,
          2.058414438363143,
          1.87519840703807,
          -4.631310946303213,
          -4.631310946303213,
          -4.631310946303213,
          -4.631310946303213,
          9.942899715774512,
          0.27306808301110763,
          4.4272715989058575,
          5.1874204047918315,
          -4.631310946303213,
          -2.5187720555599813,
          18.092566577058,
          -4.631310946303213,
          -4.631310946303213,
          -4.551593225729311,
          1.6028179926755648,
          -4.631310946303213,
          -4.631310946303213,
          -10.851025376067213,
          5.1874204047918315,
          -11.775110612943262,
          -4.631310946303213,
          -4.840719512495351,
          -3.3492910197644887,
          2.448826532378323,
          -4.551593225729311,
          -4.631310946303213,
          -4.631310946303213,
          14.517993519576255,
          -4.631310946303213,
          6.156677537765232,
          -10.136973264844462,
          2.6347781084564925,
          -4.631310946303213,
          -4.631310946303213,
          -4.631310946303213,
          -4.631310946303213,
          -4.631310946303213,
          -4.631310946303213,
          -2.617006759420959,
          -4.631310946303213,
          -6.441577004651489,
          -4.631310946303213,
          -4.631310946303213,
          0.27306808301110763,
          -4.631310946303213,
          -4.631310946303213,
          -4.631310946303213,
          12.007421478415893,
          -4.06889022109711,
          -4.250137765608997,
          14.875736079204426,
          -4.631310946303213,
          -4.631310946303213,
          5.1874204047918315,
          -4.631310946303213,
          -1.4314732788958007,
          6.648290382205557,
          5.133830317003141,
          -4.06889022109711,
          -7.479424674779689,
          -4.631310946303213,
          6.44840692454125,
          -4.631310946303213,
          -4.631310946303213,
          -6.4195052581949135,
          1.0934051407932577,
          1.0934051407932577,
          1.0934051407932577,
          -4.631310946303213,
          -4.631310946303213,
          -4.631310946303213,
          -4.631310946303213,
          -2.6259177166235492,
          3.8849111160071947,
          -4.631310946303213,
          -4.631310946303213,
          17.696980785439422,
          -4.631310946303213,
          -6.96844076618004,
          -4.631310946303213,
          -4.631310946303213,
          -4.631310946303213,
          2.4060571049153046,
          3.8849111160071947,
          -4.631310946303213,
          3.089694462404946,
          -4.631310946303213,
          3.8849111160071947,
          -4.631310946303213,
          -11.728832360761409,
          -4.631310946303213,
          4.036564781167606,
          -4.631310946303213,
          2.4344354680024383,
          -1.685154266617983,
          -4.631310946303213,
          -4.988573540664443,
          -4.631310946303213,
          -4.631310946303213,
          -3.2803265453192343,
          -4.631310946303213,
          -4.631310946303213,
          -4.631310946303213,
          -4.631310946303213,
          -4.631310946303213,
          16.171756967231655,
          -6.853427096766785,
          -4.631310946303213,
          5.248820425145273,
          -10.325284365501975,
          0.27306808301110763,
          2.6347781084564925,
          3.363517242166214,
          -4.631310946303213,
          -7.479424674779689,
          -2.617006759420959,
          -4.06889022109711,
          -3.2803265453192343,
          -4.551593225729311,
          3.8849111160071947,
          -3.2803265453192343,
          2.290266354935855,
          -3.2803265453192343,
          -4.631310946303213,
          -1.685154266617983,
          -4.631310946303213,
          -4.631310946303213,
          12.391305373932315,
          -4.06889022109711,
          -3.4927015747098222,
          -4.631310946303213,
          -5.867630106716238,
          4.6611404983194715,
          -4.631310946303213,
          1.0934051407932577,
          5.248820425145273,
          2.4060571049153046,
          -4.631310946303213,
          -10.851025376067213,
          1.7774067971682017,
          7.409108292410971,
          -7.479424674779689,
          -4.631310946303213,
          -4.631310946303213,
          -4.631310946303213,
          -4.631310946303213,
          2.9767903817055297,
          -8.36559223067721,
          -4.631310946303213,
          -5.456174771712819,
          0.27306808301110763,
          5.602567289907268,
          5.248820425145273,
          -4.631310946303213,
          -4.631310946303213,
          -4.631310946303213,
          -4.631310946303213,
          -4.631310946303213,
          -4.631310946303213,
          -4.631310946303213,
          -4.631310946303213,
          -4.631310946303213,
          2.4060571049153046,
          1.0354963219714852,
          -8.74157798662748,
          -3.9860429272055575,
          2.4060571049153046,
          -4.631310946303213,
          5.602567289907268,
          -4.840719512495351,
          -4.631310946303213,
          -4.631310946303213,
          2.4060571049153046,
          -1.685154266617983,
          -4.598986307304898,
          -4.250137765608997,
          18.38493960914105,
          -4.631310946303213,
          -4.840719512495351,
          -3.2803265453192343,
          1.3797206569772014,
          -4.631310946303213,
          -4.631310946303213,
          6.648290382205557,
          -4.631310946303213,
          -4.631310946303213,
          -4.631310946303213,
          5.1874204047918315,
          -4.631310946303213,
          -4.631310946303213,
          -4.631310946303213,
          5.248820425145273,
          -4.631310946303213,
          -4.631310946303213,
          2.4060571049153046,
          -4.06889022109711,
          -4.631310946303213,
          -4.631310946303213,
          3.8849111160071947,
          2.6347781084564925,
          4.050166117710519,
          0.9740420511217707,
          -3.2803265453192343,
          -4.631310946303213,
          -4.631310946303213,
          -4.631310946303213,
          -4.631310946303213,
          -10.112070776916571,
          1.6727021686317567,
          -10.776506651745454,
          -4.460383303872706,
          -4.631310946303213,
          -4.631310946303213,
          -11.306248188480062,
          -2.5457781855605432,
          5.828964027248218,
          -4.631310946303213,
          -4.631310946303213,
          -4.631310946303213,
          -4.631310946303213,
          -3.3492910197644887,
          -4.631310946303213,
          -4.631310946303213,
          -4.631310946303213,
          -4.631310946303213,
          -4.631310946303213,
          12.655832133309586,
          5.248820425145273,
          -7.654168304490804,
          -4.631310946303213,
          2.6347781084564925,
          3.6711262364710784,
          5.248820425145273,
          -13.554664332443023,
          -4.631310946303213,
          2.0910199557558684,
          14.773766187148896,
          -7.654168304490804,
          -13.554664332443023,
          -4.631310946303213,
          3.689068755335123,
          0.27306808301110763,
          -4.631310946303213,
          -4.631310946303213,
          5.602567289907268,
          -9.899138398881702,
          9.942899715774512,
          -13.554664332443023,
          -4.631310946303213,
          -4.631310946303213,
          2.6347781084564925,
          -4.631310946303213,
          -13.554664332443023,
          -2.617006759420959,
          -4.631310946303213,
          -4.631310946303213,
          -9.899138398881702,
          -2.5457781855605432,
          -4.631310946303213,
          -5.78633622685566,
          13.209435825035643,
          -4.631310946303213,
          -4.631310946303213,
          -2.5457781855605432,
          -2.874963746942949,
          -4.631310946303213,
          5.602567289907268,
          -1.685154266617983,
          -4.631310946303213,
          5.248820425145273,
          -4.333033458102675,
          2.6347781084564925,
          -4.631310946303213,
          -3.2803265453192343,
          -4.631310946303213,
          -4.631310946303213,
          -4.631310946303213,
          0.27306808301110763,
          7.096788390401421,
          -4.631310946303213,
          -4.631310946303213,
          16.77826439483654,
          -6.4195052581949135,
          -9.899138398881702,
          1.6028179926755648,
          -4.631310946303213,
          -4.631310946303213,
          2.4060571049153046,
          5.233813125503994,
          -4.631310946303213,
          -4.631310946303213,
          4.036564781167606,
          -5.343665349831794,
          -4.631310946303213,
          -5.842527925176865,
          -4.631310946303213,
          5.1874204047918315,
          -4.631310946303213,
          1.6028179926755648,
          -13.554664332443023,
          -4.631310946303213,
          -4.631310946303213,
          -4.631310946303213,
          6.648290382205557,
          -4.631310946303213,
          3.8849111160071947,
          -4.631310946303213,
          -4.631310946303213,
          -4.631310946303213,
          0.826852612530371,
          -4.631310946303213,
          -4.631310946303213,
          -4.631310946303213,
          8.632288567201641,
          -4.460383303872706,
          -6.393572600179032,
          -4.631310946303213,
          -4.604882750924732,
          1.2893976899563953,
          -3.2803265453192343,
          -4.631310946303213,
          -4.06889022109711,
          -4.631310946303213,
          -4.631310946303213,
          -4.604882750924732,
          -4.631310946303213,
          -4.631310946303213,
          -4.631310946303213,
          -4.631310946303213,
          12.422450809680008,
          -13.209156347804296,
          -4.631310946303213,
          -0.6084683961703252,
          1.6028179926755648,
          4.4272715989058575,
          -4.631310946303213,
          5.248820425145273,
          -3.2803265453192343,
          -4.604882750924732,
          -4.604882750924732,
          -4.631310946303213,
          -4.631310946303213,
          4.036564781167606,
          1.0934051407932577,
          -4.631310946303213,
          -4.631310946303213,
          -4.631310946303213,
          -1.685154266617983,
          10.181632211625825,
          -4.631310946303213,
          -4.631310946303213,
          -4.631310946303213,
          5.602567289907268,
          -4.631310946303213,
          -4.631310946303213,
          5.6180833716264145,
          -4.631310946303213,
          6.648290382205557,
          -4.631310946303213,
          -9.921180083365355,
          16.743163466567413,
          -2.8308382924781883,
          -4.631310946303213,
          -6.853427096766785,
          -4.631310946303213,
          -4.631310946303213,
          -4.631310946303213,
          1.0934051407932577,
          3.8849111160071947,
          -4.631310946303213,
          -1.685154266617983,
          5.030326311818345,
          -4.631310946303213,
          -4.604882750924732,
          -3.2803265453192343,
          -4.631310946303213,
          6.648290382205557,
          -13.554664332443023,
          5.1874204047918315,
          -4.631310946303213,
          -4.631310946303213,
          1.6028179926755648,
          -4.631310946303213,
          -4.631310946303213,
          -4.551593225729311,
          -4.631310946303213,
          -10.851025376067213,
          -4.631310946303213,
          2.6347781084564925,
          -4.631310946303213,
          -1.685154266617983,
          -4.631310946303213,
          -4.631310946303213,
          -4.631310946303213,
          -3.2803265453192343,
          -4.631310946303213,
          -9.899138398881702,
          -4.631310946303213,
          -4.631310946303213,
          -4.631310946303213,
          -4.250137765608997,
          -4.631310946303213,
          -4.631310946303213,
          -4.631310946303213,
          -4.631310946303213,
          -4.631310946303213,
          -4.631310946303213,
          -10.884170424728644,
          -4.631310946303213,
          0.5574183866648985,
          -4.631310946303213,
          -13.554664332443023,
          -4.631310946303213,
          -0.3070522693683353,
          -6.139840463293855,
          -4.631310946303213,
          -4.551593225729311,
          -9.899138398881702,
          -1.685154266617983,
          -4.631310946303213,
          -2.617006759420959,
          -4.631310946303213,
          -13.554664332443023,
          12.391305373932315,
          -3.3492910197644887,
          -4.631310946303213,
          -4.631310946303213,
          3.628685805011367,
          12.391305373932315,
          4.036564781167606,
          -4.631310946303213,
          -4.631310946303213,
          3.3292087503968837,
          15.660932822428864,
          -4.631310946303213,
          -4.840719512495351,
          -6.4195052581949135,
          6.648290382205557,
          -4.631310946303213,
          6.648290382205557,
          -4.631310946303213,
          -6.23569130318039,
          5.248820425145273,
          2.4060571049153046,
          -7.479424674779689,
          -7.576977359744541,
          -4.631310946303213,
          -13.554664332443023,
          -4.631310946303213,
          -1.685154266617983,
          -4.631310946303213,
          -4.631310946303213,
          -2.617006759420959,
          -4.631310946303213,
          -9.899138398881702,
          -13.554664332443023,
          12.391305373932315,
          -4.631310946303213,
          -2.617006759420959,
          -4.604882750924732,
          -10.851025376067213,
          -4.631310946303213,
          -4.631310946303213,
          -4.631310946303213,
          -13.554664332443023,
          -13.554664332443023,
          -4.631310946303213,
          -4.631310946303213,
          -4.551593225729311,
          -4.631310946303213,
          -4.631310946303213,
          0.8644115546418529,
          -4.631310946303213,
          -4.631310946303213,
          0.27306808301110763,
          -12.638254297544204,
          5.017717273813971,
          -4.631310946303213,
          2.5254853627481477,
          -4.631310946303213,
          -4.631310946303213,
          0.27306808301110763,
          -4.631310946303213,
          -4.631310946303213,
          -3.9860429272055575,
          -4.631310946303213,
          6.648290382205557,
          -4.631310946303213,
          -4.761176834419512,
          -4.631310946303213,
          -4.631310946303213,
          0.1898830407636165,
          -4.631310946303213,
          -6.4195052581949135,
          -4.631310946303213,
          -4.631310946303213,
          -9.899138398881702,
          0.3632762314776494,
          -4.631310946303213,
          1.6028179926755648,
          -4.631310946303213,
          3.8849111160071947,
          -4.631310946303213,
          -4.631310946303213,
          -4.631310946303213,
          -4.631310946303213,
          -4.631310946303213,
          -4.604882750924732,
          5.248820425145273,
          -3.419816842915102,
          -2.617006759420959,
          -4.631310946303213,
          -7.479424674779689,
          4.036564781167606,
          -4.631310946303213,
          -4.631310946303213,
          -7.479424674779689,
          -4.631310946303213,
          -4.631310946303213,
          -4.631310946303213,
          -3.9860429272055575,
          -4.631310946303213,
          -4.604882750924732,
          -4.631310946303213,
          -4.631310946303213,
          -4.631310946303213,
          -13.554664332443023,
          -4.604882750924732,
          -4.631310946303213,
          -2.617006759420959,
          -4.631310946303213,
          -4.631310946303213,
          -4.631310946303213,
          -3.2803265453192343,
          -4.631310946303213,
          -4.631310946303213,
          -13.554664332443023,
          -4.631310946303213,
          -4.631310946303213,
          -4.631310946303213,
          -2.5457781855605432,
          -4.631310946303213,
          -4.06889022109711,
          -4.631310946303213,
          -4.631310946303213,
          -4.631310946303213,
          -4.631310946303213,
          3.8849111160071947,
          -9.899138398881702,
          -4.631310946303213,
          -4.250137765608997,
          5.248820425145273,
          -4.631310946303213,
          5.1874204047918315,
          -12.96977204693588,
          -4.631310946303213,
          2.4060571049153046,
          -4.631310946303213,
          -9.899138398881702,
          -4.631310946303213,
          -4.631310946303213,
          -4.631310946303213,
          -4.631310946303213,
          -4.631310946303213,
          -1.685154266617983,
          -0.12096108243024872,
          4.6611404983194715,
          5.602567289907268,
          -19.192419312325026,
          5.248820425145273,
          -3.3492910197644887,
          -1.4314732788958007,
          -2.2277827316256937,
          5.602567289907268,
          -4.631310946303213,
          -4.631310946303213,
          8.054434286534384,
          -4.631310946303213,
          6.710898418100841,
          -6.4195052581949135,
          -4.631310946303213,
          3.8849111160071947,
          2.5254853627481477,
          -4.631310946303213,
          -4.631310946303213,
          -7.654168304490804,
          -4.631310946303213,
          -4.631310946303213,
          5.1874204047918315,
          -4.631310946303213,
          -4.631310946303213,
          1.6028179926755648,
          -4.631310946303213,
          5.602567289907268,
          -4.631310946303213,
          -4.631310946303213,
          -0.38648024923255697,
          6.648290382205557,
          -4.631310946303213,
          4.4272715989058575,
          -6.4195052581949135,
          2.6899480016608246,
          -4.631310946303213,
          -4.631310946303213,
          -4.631310946303213,
          -3.3492910197644887,
          -6.4195052581949135,
          5.1874204047918315,
          -4.631310946303213,
          0.9740420511217707,
          0.27306808301110763,
          -4.631310946303213,
          5.602567289907268,
          -3.5240210536255367,
          -4.631310946303213,
          0.7574178388110697,
          13.306596789785496,
          4.4272715989058575,
          -4.631310946303213,
          -4.631310946303213,
          -4.631310946303213,
          -4.631310946303213,
          -4.631310946303213,
          -4.631310946303213,
          -4.631310946303213,
          -7.928803056068368,
          5.1874204047918315,
          -4.631310946303213,
          1.0934051407932577,
          3.8849111160071947,
          4.869861283339749,
          -7.313541217025743,
          7.902596461172884,
          5.951435363250268,
          -4.631310946303213,
          -4.631310946303213,
          -6.194396428133353,
          -2.617006759420959,
          -4.631310946303213,
          -4.631310946303213,
          -10.851025376067213,
          -4.250137765608997,
          1.6028179926755648,
          -3.9860429272055575,
          -4.631310946303213,
          -4.631310946303213,
          -4.631310946303213,
          -9.109172886175031,
          -4.631310946303213,
          -2.617006759420959,
          -4.631310946303213,
          -4.631310946303213,
          6.476584866593127,
          -4.631310946303213,
          -4.631310946303213,
          -9.899138398881702,
          -4.551593225729311,
          4.869861283339749,
          -6.4195052581949135,
          4.036564781167606,
          4.4975548214788885,
          2.6632198538069973,
          5.1874204047918315,
          -4.631310946303213,
          1.0934051407932577,
          -3.2803265453192343,
          -4.631310946303213,
          5.017717273813971,
          -2.5457781855605432,
          -4.631310946303213,
          -4.631310946303213,
          -9.899138398881702,
          -4.631310946303213,
          12.391305373932315,
          -4.551593225729311,
          2.6347781084564925,
          -4.631310946303213,
          2.2810931257065903,
          1.0934051407932577,
          1.0934051407932577,
          -4.631310946303213,
          -1.685154266617983,
          -6.4195052581949135,
          -4.631310946303213,
          -4.631310946303213,
          5.1874204047918315,
          -4.840719512495351,
          -11.670389990638263,
          -4.631310946303213,
          -4.840719512495351,
          -4.631310946303213,
          -4.631310946303213,
          -4.631310946303213,
          -4.631310946303213,
          -4.631310946303213,
          3.8567322383138425,
          -4.631310946303213,
          -4.631310946303213,
          -4.631310946303213,
          -4.631310946303213,
          -4.631310946303213,
          -4.631310946303213,
          -4.631310946303213,
          -2.617006759420959,
          -3.2803265453192343,
          -4.631310946303213,
          -7.654168304490804,
          -6.4195052581949135,
          -4.631310946303213,
          -4.631310946303213,
          -10.851025376067213,
          -4.631310946303213,
          -4.604882750924732,
          -3.2803265453192343,
          -4.631310946303213,
          -4.631310946303213,
          3.363517242166214,
          -4.631310946303213,
          -4.631310946303213,
          6.648290382205557,
          -4.631310946303213,
          -5.5707941731923505,
          -4.631310946303213,
          -7.479424674779689,
          -0.430331871038403,
          -4.06889022109711,
          5.1874204047918315,
          -4.631310946303213,
          -3.2803265453192343,
          -4.631310946303213,
          -4.631310946303213,
          -4.631310946303213,
          -6.4195052581949135,
          4.036564781167606,
          -9.899138398881702,
          -7.479424674779689,
          5.614785712680637,
          4.4272715989058575,
          -4.631310946303213,
          13.29152042658861,
          6.648290382205557,
          -4.631310946303213,
          -4.631310946303213,
          -4.2795337389157195,
          -4.631310946303213,
          2.8725577227529886,
          -4.631310946303213,
          -4.840719512495351,
          -7.654168304490804,
          -10.851025376067213,
          -3.3492910197644887,
          -3.2803265453192343,
          12.391305373932315,
          2.9564399370790806,
          -2.5457781855605432,
          -3.9860429272055575,
          5.248820425145273,
          -4.631310946303213,
          -4.631310946303213,
          -4.631310946303213,
          2.4060571049153046,
          -10.851025376067213,
          -4.631310946303213,
          -4.631310946303213,
          -4.631310946303213,
          -4.631310946303213,
          4.036564781167606,
          -7.479424674779689,
          1.87519840703807,
          -3.9860429272055575,
          -4.631310946303213,
          -4.631310946303213,
          -4.631310946303213,
          -4.604882750924732,
          -7.654168304490804,
          7.550412962530073,
          5.1874204047918315,
          -4.631310946303213,
          -4.631310946303213,
          -11.046776823829962,
          -4.631310946303213,
          -13.554664332443023
         ],
         "y0": " ",
         "yaxis": "y"
        }
       ],
       "layout": {
        "boxmode": "group",
        "height": 600,
        "legend": {
         "title": {
          "text": "model_type"
         },
         "tracegroupgap": 0
        },
        "margin": {
         "t": 60
        },
        "template": {
         "data": {
          "bar": [
           {
            "error_x": {
             "color": "#2a3f5f"
            },
            "error_y": {
             "color": "#2a3f5f"
            },
            "marker": {
             "line": {
              "color": "#E5ECF6",
              "width": 0.5
             },
             "pattern": {
              "fillmode": "overlay",
              "size": 10,
              "solidity": 0.2
             }
            },
            "type": "bar"
           }
          ],
          "barpolar": [
           {
            "marker": {
             "line": {
              "color": "#E5ECF6",
              "width": 0.5
             },
             "pattern": {
              "fillmode": "overlay",
              "size": 10,
              "solidity": 0.2
             }
            },
            "type": "barpolar"
           }
          ],
          "carpet": [
           {
            "aaxis": {
             "endlinecolor": "#2a3f5f",
             "gridcolor": "white",
             "linecolor": "white",
             "minorgridcolor": "white",
             "startlinecolor": "#2a3f5f"
            },
            "baxis": {
             "endlinecolor": "#2a3f5f",
             "gridcolor": "white",
             "linecolor": "white",
             "minorgridcolor": "white",
             "startlinecolor": "#2a3f5f"
            },
            "type": "carpet"
           }
          ],
          "choropleth": [
           {
            "colorbar": {
             "outlinewidth": 0,
             "ticks": ""
            },
            "type": "choropleth"
           }
          ],
          "contour": [
           {
            "colorbar": {
             "outlinewidth": 0,
             "ticks": ""
            },
            "colorscale": [
             [
              0,
              "#0d0887"
             ],
             [
              0.1111111111111111,
              "#46039f"
             ],
             [
              0.2222222222222222,
              "#7201a8"
             ],
             [
              0.3333333333333333,
              "#9c179e"
             ],
             [
              0.4444444444444444,
              "#bd3786"
             ],
             [
              0.5555555555555556,
              "#d8576b"
             ],
             [
              0.6666666666666666,
              "#ed7953"
             ],
             [
              0.7777777777777778,
              "#fb9f3a"
             ],
             [
              0.8888888888888888,
              "#fdca26"
             ],
             [
              1,
              "#f0f921"
             ]
            ],
            "type": "contour"
           }
          ],
          "contourcarpet": [
           {
            "colorbar": {
             "outlinewidth": 0,
             "ticks": ""
            },
            "type": "contourcarpet"
           }
          ],
          "heatmap": [
           {
            "colorbar": {
             "outlinewidth": 0,
             "ticks": ""
            },
            "colorscale": [
             [
              0,
              "#0d0887"
             ],
             [
              0.1111111111111111,
              "#46039f"
             ],
             [
              0.2222222222222222,
              "#7201a8"
             ],
             [
              0.3333333333333333,
              "#9c179e"
             ],
             [
              0.4444444444444444,
              "#bd3786"
             ],
             [
              0.5555555555555556,
              "#d8576b"
             ],
             [
              0.6666666666666666,
              "#ed7953"
             ],
             [
              0.7777777777777778,
              "#fb9f3a"
             ],
             [
              0.8888888888888888,
              "#fdca26"
             ],
             [
              1,
              "#f0f921"
             ]
            ],
            "type": "heatmap"
           }
          ],
          "heatmapgl": [
           {
            "colorbar": {
             "outlinewidth": 0,
             "ticks": ""
            },
            "colorscale": [
             [
              0,
              "#0d0887"
             ],
             [
              0.1111111111111111,
              "#46039f"
             ],
             [
              0.2222222222222222,
              "#7201a8"
             ],
             [
              0.3333333333333333,
              "#9c179e"
             ],
             [
              0.4444444444444444,
              "#bd3786"
             ],
             [
              0.5555555555555556,
              "#d8576b"
             ],
             [
              0.6666666666666666,
              "#ed7953"
             ],
             [
              0.7777777777777778,
              "#fb9f3a"
             ],
             [
              0.8888888888888888,
              "#fdca26"
             ],
             [
              1,
              "#f0f921"
             ]
            ],
            "type": "heatmapgl"
           }
          ],
          "histogram": [
           {
            "marker": {
             "pattern": {
              "fillmode": "overlay",
              "size": 10,
              "solidity": 0.2
             }
            },
            "type": "histogram"
           }
          ],
          "histogram2d": [
           {
            "colorbar": {
             "outlinewidth": 0,
             "ticks": ""
            },
            "colorscale": [
             [
              0,
              "#0d0887"
             ],
             [
              0.1111111111111111,
              "#46039f"
             ],
             [
              0.2222222222222222,
              "#7201a8"
             ],
             [
              0.3333333333333333,
              "#9c179e"
             ],
             [
              0.4444444444444444,
              "#bd3786"
             ],
             [
              0.5555555555555556,
              "#d8576b"
             ],
             [
              0.6666666666666666,
              "#ed7953"
             ],
             [
              0.7777777777777778,
              "#fb9f3a"
             ],
             [
              0.8888888888888888,
              "#fdca26"
             ],
             [
              1,
              "#f0f921"
             ]
            ],
            "type": "histogram2d"
           }
          ],
          "histogram2dcontour": [
           {
            "colorbar": {
             "outlinewidth": 0,
             "ticks": ""
            },
            "colorscale": [
             [
              0,
              "#0d0887"
             ],
             [
              0.1111111111111111,
              "#46039f"
             ],
             [
              0.2222222222222222,
              "#7201a8"
             ],
             [
              0.3333333333333333,
              "#9c179e"
             ],
             [
              0.4444444444444444,
              "#bd3786"
             ],
             [
              0.5555555555555556,
              "#d8576b"
             ],
             [
              0.6666666666666666,
              "#ed7953"
             ],
             [
              0.7777777777777778,
              "#fb9f3a"
             ],
             [
              0.8888888888888888,
              "#fdca26"
             ],
             [
              1,
              "#f0f921"
             ]
            ],
            "type": "histogram2dcontour"
           }
          ],
          "mesh3d": [
           {
            "colorbar": {
             "outlinewidth": 0,
             "ticks": ""
            },
            "type": "mesh3d"
           }
          ],
          "parcoords": [
           {
            "line": {
             "colorbar": {
              "outlinewidth": 0,
              "ticks": ""
             }
            },
            "type": "parcoords"
           }
          ],
          "pie": [
           {
            "automargin": true,
            "type": "pie"
           }
          ],
          "scatter": [
           {
            "fillpattern": {
             "fillmode": "overlay",
             "size": 10,
             "solidity": 0.2
            },
            "type": "scatter"
           }
          ],
          "scatter3d": [
           {
            "line": {
             "colorbar": {
              "outlinewidth": 0,
              "ticks": ""
             }
            },
            "marker": {
             "colorbar": {
              "outlinewidth": 0,
              "ticks": ""
             }
            },
            "type": "scatter3d"
           }
          ],
          "scattercarpet": [
           {
            "marker": {
             "colorbar": {
              "outlinewidth": 0,
              "ticks": ""
             }
            },
            "type": "scattercarpet"
           }
          ],
          "scattergeo": [
           {
            "marker": {
             "colorbar": {
              "outlinewidth": 0,
              "ticks": ""
             }
            },
            "type": "scattergeo"
           }
          ],
          "scattergl": [
           {
            "marker": {
             "colorbar": {
              "outlinewidth": 0,
              "ticks": ""
             }
            },
            "type": "scattergl"
           }
          ],
          "scattermapbox": [
           {
            "marker": {
             "colorbar": {
              "outlinewidth": 0,
              "ticks": ""
             }
            },
            "type": "scattermapbox"
           }
          ],
          "scatterpolar": [
           {
            "marker": {
             "colorbar": {
              "outlinewidth": 0,
              "ticks": ""
             }
            },
            "type": "scatterpolar"
           }
          ],
          "scatterpolargl": [
           {
            "marker": {
             "colorbar": {
              "outlinewidth": 0,
              "ticks": ""
             }
            },
            "type": "scatterpolargl"
           }
          ],
          "scatterternary": [
           {
            "marker": {
             "colorbar": {
              "outlinewidth": 0,
              "ticks": ""
             }
            },
            "type": "scatterternary"
           }
          ],
          "surface": [
           {
            "colorbar": {
             "outlinewidth": 0,
             "ticks": ""
            },
            "colorscale": [
             [
              0,
              "#0d0887"
             ],
             [
              0.1111111111111111,
              "#46039f"
             ],
             [
              0.2222222222222222,
              "#7201a8"
             ],
             [
              0.3333333333333333,
              "#9c179e"
             ],
             [
              0.4444444444444444,
              "#bd3786"
             ],
             [
              0.5555555555555556,
              "#d8576b"
             ],
             [
              0.6666666666666666,
              "#ed7953"
             ],
             [
              0.7777777777777778,
              "#fb9f3a"
             ],
             [
              0.8888888888888888,
              "#fdca26"
             ],
             [
              1,
              "#f0f921"
             ]
            ],
            "type": "surface"
           }
          ],
          "table": [
           {
            "cells": {
             "fill": {
              "color": "#EBF0F8"
             },
             "line": {
              "color": "white"
             }
            },
            "header": {
             "fill": {
              "color": "#C8D4E3"
             },
             "line": {
              "color": "white"
             }
            },
            "type": "table"
           }
          ]
         },
         "layout": {
          "annotationdefaults": {
           "arrowcolor": "#2a3f5f",
           "arrowhead": 0,
           "arrowwidth": 1
          },
          "autotypenumbers": "strict",
          "coloraxis": {
           "colorbar": {
            "outlinewidth": 0,
            "ticks": ""
           }
          },
          "colorscale": {
           "diverging": [
            [
             0,
             "#8e0152"
            ],
            [
             0.1,
             "#c51b7d"
            ],
            [
             0.2,
             "#de77ae"
            ],
            [
             0.3,
             "#f1b6da"
            ],
            [
             0.4,
             "#fde0ef"
            ],
            [
             0.5,
             "#f7f7f7"
            ],
            [
             0.6,
             "#e6f5d0"
            ],
            [
             0.7,
             "#b8e186"
            ],
            [
             0.8,
             "#7fbc41"
            ],
            [
             0.9,
             "#4d9221"
            ],
            [
             1,
             "#276419"
            ]
           ],
           "sequential": [
            [
             0,
             "#0d0887"
            ],
            [
             0.1111111111111111,
             "#46039f"
            ],
            [
             0.2222222222222222,
             "#7201a8"
            ],
            [
             0.3333333333333333,
             "#9c179e"
            ],
            [
             0.4444444444444444,
             "#bd3786"
            ],
            [
             0.5555555555555556,
             "#d8576b"
            ],
            [
             0.6666666666666666,
             "#ed7953"
            ],
            [
             0.7777777777777778,
             "#fb9f3a"
            ],
            [
             0.8888888888888888,
             "#fdca26"
            ],
            [
             1,
             "#f0f921"
            ]
           ],
           "sequentialminus": [
            [
             0,
             "#0d0887"
            ],
            [
             0.1111111111111111,
             "#46039f"
            ],
            [
             0.2222222222222222,
             "#7201a8"
            ],
            [
             0.3333333333333333,
             "#9c179e"
            ],
            [
             0.4444444444444444,
             "#bd3786"
            ],
            [
             0.5555555555555556,
             "#d8576b"
            ],
            [
             0.6666666666666666,
             "#ed7953"
            ],
            [
             0.7777777777777778,
             "#fb9f3a"
            ],
            [
             0.8888888888888888,
             "#fdca26"
            ],
            [
             1,
             "#f0f921"
            ]
           ]
          },
          "colorway": [
           "#636efa",
           "#EF553B",
           "#00cc96",
           "#ab63fa",
           "#FFA15A",
           "#19d3f3",
           "#FF6692",
           "#B6E880",
           "#FF97FF",
           "#FECB52"
          ],
          "font": {
           "color": "#2a3f5f"
          },
          "geo": {
           "bgcolor": "white",
           "lakecolor": "white",
           "landcolor": "#E5ECF6",
           "showlakes": true,
           "showland": true,
           "subunitcolor": "white"
          },
          "hoverlabel": {
           "align": "left"
          },
          "hovermode": "closest",
          "mapbox": {
           "style": "light"
          },
          "paper_bgcolor": "white",
          "plot_bgcolor": "#E5ECF6",
          "polar": {
           "angularaxis": {
            "gridcolor": "white",
            "linecolor": "white",
            "ticks": ""
           },
           "bgcolor": "#E5ECF6",
           "radialaxis": {
            "gridcolor": "white",
            "linecolor": "white",
            "ticks": ""
           }
          },
          "scene": {
           "xaxis": {
            "backgroundcolor": "#E5ECF6",
            "gridcolor": "white",
            "gridwidth": 2,
            "linecolor": "white",
            "showbackground": true,
            "ticks": "",
            "zerolinecolor": "white"
           },
           "yaxis": {
            "backgroundcolor": "#E5ECF6",
            "gridcolor": "white",
            "gridwidth": 2,
            "linecolor": "white",
            "showbackground": true,
            "ticks": "",
            "zerolinecolor": "white"
           },
           "zaxis": {
            "backgroundcolor": "#E5ECF6",
            "gridcolor": "white",
            "gridwidth": 2,
            "linecolor": "white",
            "showbackground": true,
            "ticks": "",
            "zerolinecolor": "white"
           }
          },
          "shapedefaults": {
           "line": {
            "color": "#2a3f5f"
           }
          },
          "ternary": {
           "aaxis": {
            "gridcolor": "white",
            "linecolor": "white",
            "ticks": ""
           },
           "baxis": {
            "gridcolor": "white",
            "linecolor": "white",
            "ticks": ""
           },
           "bgcolor": "#E5ECF6",
           "caxis": {
            "gridcolor": "white",
            "linecolor": "white",
            "ticks": ""
           }
          },
          "title": {
           "x": 0.05
          },
          "xaxis": {
           "automargin": true,
           "gridcolor": "white",
           "linecolor": "white",
           "ticks": "",
           "title": {
            "standoff": 15
           },
           "zerolinecolor": "white",
           "zerolinewidth": 2
          },
          "yaxis": {
           "automargin": true,
           "gridcolor": "white",
           "linecolor": "white",
           "ticks": "",
           "title": {
            "standoff": 15
           },
           "zerolinecolor": "white",
           "zerolinewidth": 2
          }
         }
        },
        "width": 800,
        "xaxis": {
         "anchor": "y",
         "domain": [
          0,
          1
         ]
        },
        "yaxis": {
         "anchor": "x",
         "domain": [
          0,
          1
         ],
         "title": {
          "text": "fmt_total_profit_percentage"
         }
        }
       }
      }
     },
     "metadata": {},
     "output_type": "display_data"
    }
   ],
   "source": [
    "fig = px.box(df_trader_results, y=\"fmt_total_profit_percentage\", color=\"model_type\", points=\"all\", color_discrete_sequence=[ \"#FF7F0E\", \"#00CC96\", \"#10aded\", \"#8A56EF\"],  width=800, height=600)\n",
    "fig.show()"
   ]
  },
  {
   "cell_type": "code",
   "execution_count": 28,
   "metadata": {},
   "outputs": [
    {
     "data": {
      "application/vnd.plotly.v1+json": {
       "config": {
        "plotlyServerURL": "https://plot.ly"
       },
       "data": [
        {
         "alignmentgroup": "True",
         "bingroup": "x",
         "hovertemplate": "model_type=DQN<br>fmt_total_profit_percentage=%{x}<br>count=%{y}<extra></extra>",
         "legendgroup": "DQN",
         "marker": {
          "color": "#FF7F0E",
          "pattern": {
           "shape": ""
          }
         },
         "name": "DQN",
         "offsetgroup": "DQN",
         "orientation": "v",
         "showlegend": true,
         "type": "histogram",
         "x": [
          -4.631310946303213,
          -4.631310946303213,
          -2.8937536991131996,
          -4.631310946303213,
          5.1874204047918315,
          2.409414816390698,
          -2.617006759420959,
          -4.631310946303213,
          -1.685154266617983,
          2.4060571049153046,
          -4.631310946303213,
          -4.631310946303213,
          -4.631310946303213,
          -7.479424674779689,
          -4.06889022109711,
          -4.631310946303213,
          -4.631310946303213,
          -4.631310946303213,
          -4.631310946303213,
          -4.621252734833625,
          -4.631310946303213,
          -13.554664332443023,
          0.27306808301110763,
          4.4272715989058575,
          -4.631310946303213,
          -4.631310946303213,
          4.680167072987729,
          -9.100334886309614,
          -6.4195052581949135,
          -4.631310946303213,
          -4.06889022109711,
          -13.51339203985834,
          6.44840692454125,
          -4.631310946303213,
          -7.928803056068368,
          -4.631310946303213,
          -4.631310946303213,
          -4.631310946303213,
          -4.631310946303213,
          2.00253618624886,
          -4.631310946303213,
          -4.631310946303213,
          -4.631310946303213,
          -4.631310946303213,
          -4.631310946303213,
          6.311647581604207,
          -4.631310946303213,
          -19.192419312325026,
          -4.631310946303213,
          -4.631310946303213,
          4.036564781167606,
          -4.631310946303213,
          -1.685154266617983,
          -4.631310946303213,
          5.602567289907268,
          -4.631310946303213,
          -4.631310946303213,
          -4.631310946303213,
          -4.631310946303213,
          2.4060571049153046,
          -4.631310946303213,
          -4.631310946303213,
          -4.631310946303213,
          -4.631310946303213,
          -6.4195052581949135,
          -4.631310946303213,
          3.5343981977086436,
          -4.631310946303213,
          -4.631310946303213,
          -9.899138398881702,
          -4.631310946303213,
          -4.551593225729311,
          4.036564781167606,
          -1.685154266617983,
          -4.631310946303213,
          3.8849111160071947,
          2.6347781084564925,
          -4.631310946303213,
          -3.3492910197644887,
          -4.631310946303213,
          -3.2803265453192343,
          5.1874204047918315,
          -4.631310946303213,
          -4.631310946303213,
          -4.631310946303213,
          -13.554664332443023,
          -4.631310946303213,
          24.248082903793943,
          -2.65290205109715,
          6.871712706048316,
          -3.3492910197644887,
          -7.654168304490804,
          -4.631310946303213,
          -4.631310946303213,
          5.1874204047918315,
          -1.3880625712279215,
          -3.2535239704661767,
          -4.631310946303213,
          1.6028179926755648,
          -4.631310946303213,
          -7.654168304490804,
          -4.631310946303213,
          1.3532476383779635,
          -4.196868359373617,
          -4.631310946303213,
          3.8849111160071947,
          -4.604882750924732,
          -4.631310946303213,
          5.602567289907268,
          12.892918812669919,
          2.4060571049153046,
          6.648290382205557,
          -4.631310946303213,
          -4.631310946303213,
          2.6347781084564925,
          2.3235369843245923,
          -4.631310946303213,
          -4.06889022109711,
          1.87519840703807,
          -2.5457781855605432,
          2.0910199557558684,
          -3.9860429272055575,
          -4.631310946303213,
          5.248820425145273,
          -12.39082942071179,
          4.4272715989058575,
          -2.5457781855605432,
          2.6347781084564925,
          -4.631310946303213,
          5.1874204047918315,
          -4.631310946303213,
          -4.631310946303213,
          3.8849111160071947,
          -4.631310946303213,
          1.6028179926755648,
          -4.631310946303213,
          -4.631310946303213,
          -4.631310946303213,
          2.0562813522226,
          -4.631310946303213,
          -7.654168304490804,
          -4.631310946303213,
          -4.631310946303213,
          13.14160176442738,
          0.27306808301110763,
          -4.631310946303213,
          -4.06889022109711,
          -4.250137765608997,
          -4.631310946303213,
          -4.631310946303213,
          -4.631310946303213,
          -4.631310946303213,
          18.839427914296934,
          4.4272715989058575,
          4.036564781167606,
          -4.631310946303213,
          -4.631310946303213,
          -4.631310946303213,
          -4.631310946303213,
          -4.631310946303213,
          -4.631310946303213,
          1.6309737653044998,
          -4.631310946303213,
          8.860692885000532,
          -3.3492910197644887,
          -4.631310946303213,
          12.391305373932315,
          -7.03807591305603,
          -4.631310946303213,
          4.4272715989058575,
          -4.631310946303213,
          -4.631310946303213,
          -10.454916692481476,
          -4.631310946303213,
          -2.6259177166235492,
          14.517993519576255,
          -4.631310946303213,
          -3.9860429272055575,
          -4.631310946303213,
          -4.631310946303213,
          -4.631310946303213,
          -4.631310946303213,
          1.0934051407932577,
          -10.851025376067213,
          -4.631310946303213,
          5.602567289907268,
          2.4060571049153046,
          16.743163466567413,
          -4.631310946303213,
          -4.631310946303213,
          6.710898418100841,
          2.6347781084564925,
          -3.2803265453192343,
          -4.631310946303213,
          -2.5457781855605432,
          -4.631310946303213,
          5.2165695283186375,
          -6.4195052581949135,
          -4.631310946303213,
          -4.631310946303213,
          -3.4927015747098222,
          12.391305373932315,
          5.248820425145273,
          -6.23569130318039,
          -4.631310946303213,
          4.036564781167606,
          5.1874204047918315,
          -4.631310946303213,
          3.689068755335123,
          9.956051042430003,
          -4.631310946303213,
          -7.903843564408541,
          -4.631310946303213,
          -4.631310946303213,
          -4.631310946303213,
          -4.631310946303213,
          2.058414438363143,
          1.87519840703807,
          -4.631310946303213,
          -4.631310946303213,
          -4.631310946303213,
          -4.631310946303213,
          9.942899715774512,
          0.27306808301110763,
          4.4272715989058575,
          5.1874204047918315,
          -4.631310946303213,
          -2.5187720555599813,
          18.092566577058,
          -4.631310946303213,
          -4.631310946303213,
          -4.551593225729311,
          1.6028179926755648,
          -4.631310946303213,
          -4.631310946303213,
          -10.851025376067213,
          5.1874204047918315,
          -11.775110612943262,
          -4.631310946303213,
          -4.840719512495351,
          -3.3492910197644887,
          2.448826532378323,
          -4.551593225729311,
          -4.631310946303213,
          -4.631310946303213,
          14.517993519576255,
          -4.631310946303213,
          6.156677537765232,
          -10.136973264844462,
          2.6347781084564925,
          -4.631310946303213,
          -4.631310946303213,
          -4.631310946303213,
          -4.631310946303213,
          -4.631310946303213,
          -4.631310946303213,
          -2.617006759420959,
          -4.631310946303213,
          -6.441577004651489,
          -4.631310946303213,
          -4.631310946303213,
          0.27306808301110763,
          -4.631310946303213,
          -4.631310946303213,
          -4.631310946303213,
          12.007421478415893,
          -4.06889022109711,
          -4.250137765608997,
          14.875736079204426,
          -4.631310946303213,
          -4.631310946303213,
          5.1874204047918315,
          -4.631310946303213,
          -1.4314732788958007,
          6.648290382205557,
          5.133830317003141,
          -4.06889022109711,
          -7.479424674779689,
          -4.631310946303213,
          6.44840692454125,
          -4.631310946303213,
          -4.631310946303213,
          -6.4195052581949135,
          1.0934051407932577,
          1.0934051407932577,
          1.0934051407932577,
          -4.631310946303213,
          -4.631310946303213,
          -4.631310946303213,
          -4.631310946303213,
          -2.6259177166235492,
          3.8849111160071947,
          -4.631310946303213,
          -4.631310946303213,
          17.696980785439422,
          -4.631310946303213,
          -6.96844076618004,
          -4.631310946303213,
          -4.631310946303213,
          -4.631310946303213,
          2.4060571049153046,
          3.8849111160071947,
          -4.631310946303213,
          3.089694462404946,
          -4.631310946303213,
          3.8849111160071947,
          -4.631310946303213,
          -11.728832360761409,
          -4.631310946303213,
          4.036564781167606,
          -4.631310946303213,
          2.4344354680024383,
          -1.685154266617983,
          -4.631310946303213,
          -4.988573540664443,
          -4.631310946303213,
          -4.631310946303213,
          -3.2803265453192343,
          -4.631310946303213,
          -4.631310946303213,
          -4.631310946303213,
          -4.631310946303213,
          -4.631310946303213,
          16.171756967231655,
          -6.853427096766785,
          -4.631310946303213,
          5.248820425145273,
          -10.325284365501975,
          0.27306808301110763,
          2.6347781084564925,
          3.363517242166214,
          -4.631310946303213,
          -7.479424674779689,
          -2.617006759420959,
          -4.06889022109711,
          -3.2803265453192343,
          -4.551593225729311,
          3.8849111160071947,
          -3.2803265453192343,
          2.290266354935855,
          -3.2803265453192343,
          -4.631310946303213,
          -1.685154266617983,
          -4.631310946303213,
          -4.631310946303213,
          12.391305373932315,
          -4.06889022109711,
          -3.4927015747098222,
          -4.631310946303213,
          -5.867630106716238,
          4.6611404983194715,
          -4.631310946303213,
          1.0934051407932577,
          5.248820425145273,
          2.4060571049153046,
          -4.631310946303213,
          -10.851025376067213,
          1.7774067971682017,
          7.409108292410971,
          -7.479424674779689,
          -4.631310946303213,
          -4.631310946303213,
          -4.631310946303213,
          -4.631310946303213,
          2.9767903817055297,
          -8.36559223067721,
          -4.631310946303213,
          -5.456174771712819,
          0.27306808301110763,
          5.602567289907268,
          5.248820425145273,
          -4.631310946303213,
          -4.631310946303213,
          -4.631310946303213,
          -4.631310946303213,
          -4.631310946303213,
          -4.631310946303213,
          -4.631310946303213,
          -4.631310946303213,
          -4.631310946303213,
          2.4060571049153046,
          1.0354963219714852,
          -8.74157798662748,
          -3.9860429272055575,
          2.4060571049153046,
          -4.631310946303213,
          5.602567289907268,
          -4.840719512495351,
          -4.631310946303213,
          -4.631310946303213,
          2.4060571049153046,
          -1.685154266617983,
          -4.598986307304898,
          -4.250137765608997,
          18.38493960914105,
          -4.631310946303213,
          -4.840719512495351,
          -3.2803265453192343,
          1.3797206569772014,
          -4.631310946303213,
          -4.631310946303213,
          6.648290382205557,
          -4.631310946303213,
          -4.631310946303213,
          -4.631310946303213,
          5.1874204047918315,
          -4.631310946303213,
          -4.631310946303213,
          -4.631310946303213,
          5.248820425145273,
          -4.631310946303213,
          -4.631310946303213,
          2.4060571049153046,
          -4.06889022109711,
          -4.631310946303213,
          -4.631310946303213,
          3.8849111160071947,
          2.6347781084564925,
          4.050166117710519,
          0.9740420511217707,
          -3.2803265453192343,
          -4.631310946303213,
          -4.631310946303213,
          -4.631310946303213,
          -4.631310946303213,
          -10.112070776916571,
          1.6727021686317567,
          -10.776506651745454,
          -4.460383303872706,
          -4.631310946303213,
          -4.631310946303213,
          -11.306248188480062,
          -2.5457781855605432,
          5.828964027248218,
          -4.631310946303213,
          -4.631310946303213,
          -4.631310946303213,
          -4.631310946303213,
          -3.3492910197644887,
          -4.631310946303213,
          -4.631310946303213,
          -4.631310946303213,
          -4.631310946303213,
          -4.631310946303213,
          12.655832133309586,
          5.248820425145273,
          -7.654168304490804,
          -4.631310946303213,
          2.6347781084564925,
          3.6711262364710784,
          5.248820425145273,
          -13.554664332443023,
          -4.631310946303213,
          2.0910199557558684,
          14.773766187148896,
          -7.654168304490804,
          -13.554664332443023,
          -4.631310946303213,
          3.689068755335123,
          0.27306808301110763,
          -4.631310946303213,
          -4.631310946303213,
          5.602567289907268,
          -9.899138398881702,
          9.942899715774512,
          -13.554664332443023,
          -4.631310946303213,
          -4.631310946303213,
          2.6347781084564925,
          -4.631310946303213,
          -13.554664332443023,
          -2.617006759420959,
          -4.631310946303213,
          -4.631310946303213,
          -9.899138398881702,
          -2.5457781855605432,
          -4.631310946303213,
          -5.78633622685566,
          13.209435825035643,
          -4.631310946303213,
          -4.631310946303213,
          -2.5457781855605432,
          -2.874963746942949,
          -4.631310946303213,
          5.602567289907268,
          -1.685154266617983,
          -4.631310946303213,
          5.248820425145273,
          -4.333033458102675,
          2.6347781084564925,
          -4.631310946303213,
          -3.2803265453192343,
          -4.631310946303213,
          -4.631310946303213,
          -4.631310946303213,
          0.27306808301110763,
          7.096788390401421,
          -4.631310946303213,
          -4.631310946303213,
          16.77826439483654,
          -6.4195052581949135,
          -9.899138398881702,
          1.6028179926755648,
          -4.631310946303213,
          -4.631310946303213,
          2.4060571049153046,
          5.233813125503994,
          -4.631310946303213,
          -4.631310946303213,
          4.036564781167606,
          -5.343665349831794,
          -4.631310946303213,
          -5.842527925176865,
          -4.631310946303213,
          5.1874204047918315,
          -4.631310946303213,
          1.6028179926755648,
          -13.554664332443023,
          -4.631310946303213,
          -4.631310946303213,
          -4.631310946303213,
          6.648290382205557,
          -4.631310946303213,
          3.8849111160071947,
          -4.631310946303213,
          -4.631310946303213,
          -4.631310946303213,
          0.826852612530371,
          -4.631310946303213,
          -4.631310946303213,
          -4.631310946303213,
          8.632288567201641,
          -4.460383303872706,
          -6.393572600179032,
          -4.631310946303213,
          -4.604882750924732,
          1.2893976899563953,
          -3.2803265453192343,
          -4.631310946303213,
          -4.06889022109711,
          -4.631310946303213,
          -4.631310946303213,
          -4.604882750924732,
          -4.631310946303213,
          -4.631310946303213,
          -4.631310946303213,
          -4.631310946303213,
          12.422450809680008,
          -13.209156347804296,
          -4.631310946303213,
          -0.6084683961703252,
          1.6028179926755648,
          4.4272715989058575,
          -4.631310946303213,
          5.248820425145273,
          -3.2803265453192343,
          -4.604882750924732,
          -4.604882750924732,
          -4.631310946303213,
          -4.631310946303213,
          4.036564781167606,
          1.0934051407932577,
          -4.631310946303213,
          -4.631310946303213,
          -4.631310946303213,
          -1.685154266617983,
          10.181632211625825,
          -4.631310946303213,
          -4.631310946303213,
          -4.631310946303213,
          5.602567289907268,
          -4.631310946303213,
          -4.631310946303213,
          5.6180833716264145,
          -4.631310946303213,
          6.648290382205557,
          -4.631310946303213,
          -9.921180083365355,
          16.743163466567413,
          -2.8308382924781883,
          -4.631310946303213,
          -6.853427096766785,
          -4.631310946303213,
          -4.631310946303213,
          -4.631310946303213,
          1.0934051407932577,
          3.8849111160071947,
          -4.631310946303213,
          -1.685154266617983,
          5.030326311818345,
          -4.631310946303213,
          -4.604882750924732,
          -3.2803265453192343,
          -4.631310946303213,
          6.648290382205557,
          -13.554664332443023,
          5.1874204047918315,
          -4.631310946303213,
          -4.631310946303213,
          1.6028179926755648,
          -4.631310946303213,
          -4.631310946303213,
          -4.551593225729311,
          -4.631310946303213,
          -10.851025376067213,
          -4.631310946303213,
          2.6347781084564925,
          -4.631310946303213,
          -1.685154266617983,
          -4.631310946303213,
          -4.631310946303213,
          -4.631310946303213,
          -3.2803265453192343,
          -4.631310946303213,
          -9.899138398881702,
          -4.631310946303213,
          -4.631310946303213,
          -4.631310946303213,
          -4.250137765608997,
          -4.631310946303213,
          -4.631310946303213,
          -4.631310946303213,
          -4.631310946303213,
          -4.631310946303213,
          -4.631310946303213,
          -10.884170424728644,
          -4.631310946303213,
          0.5574183866648985,
          -4.631310946303213,
          -13.554664332443023,
          -4.631310946303213,
          -0.3070522693683353,
          -6.139840463293855,
          -4.631310946303213,
          -4.551593225729311,
          -9.899138398881702,
          -1.685154266617983,
          -4.631310946303213,
          -2.617006759420959,
          -4.631310946303213,
          -13.554664332443023,
          12.391305373932315,
          -3.3492910197644887,
          -4.631310946303213,
          -4.631310946303213,
          3.628685805011367,
          12.391305373932315,
          4.036564781167606,
          -4.631310946303213,
          -4.631310946303213,
          3.3292087503968837,
          15.660932822428864,
          -4.631310946303213,
          -4.840719512495351,
          -6.4195052581949135,
          6.648290382205557,
          -4.631310946303213,
          6.648290382205557,
          -4.631310946303213,
          -6.23569130318039,
          5.248820425145273,
          2.4060571049153046,
          -7.479424674779689,
          -7.576977359744541,
          -4.631310946303213,
          -13.554664332443023,
          -4.631310946303213,
          -1.685154266617983,
          -4.631310946303213,
          -4.631310946303213,
          -2.617006759420959,
          -4.631310946303213,
          -9.899138398881702,
          -13.554664332443023,
          12.391305373932315,
          -4.631310946303213,
          -2.617006759420959,
          -4.604882750924732,
          -10.851025376067213,
          -4.631310946303213,
          -4.631310946303213,
          -4.631310946303213,
          -13.554664332443023,
          -13.554664332443023,
          -4.631310946303213,
          -4.631310946303213,
          -4.551593225729311,
          -4.631310946303213,
          -4.631310946303213,
          0.8644115546418529,
          -4.631310946303213,
          -4.631310946303213,
          0.27306808301110763,
          -12.638254297544204,
          5.017717273813971,
          -4.631310946303213,
          2.5254853627481477,
          -4.631310946303213,
          -4.631310946303213,
          0.27306808301110763,
          -4.631310946303213,
          -4.631310946303213,
          -3.9860429272055575,
          -4.631310946303213,
          6.648290382205557,
          -4.631310946303213,
          -4.761176834419512,
          -4.631310946303213,
          -4.631310946303213,
          0.1898830407636165,
          -4.631310946303213,
          -6.4195052581949135,
          -4.631310946303213,
          -4.631310946303213,
          -9.899138398881702,
          0.3632762314776494,
          -4.631310946303213,
          1.6028179926755648,
          -4.631310946303213,
          3.8849111160071947,
          -4.631310946303213,
          -4.631310946303213,
          -4.631310946303213,
          -4.631310946303213,
          -4.631310946303213,
          -4.604882750924732,
          5.248820425145273,
          -3.419816842915102,
          -2.617006759420959,
          -4.631310946303213,
          -7.479424674779689,
          4.036564781167606,
          -4.631310946303213,
          -4.631310946303213,
          -7.479424674779689,
          -4.631310946303213,
          -4.631310946303213,
          -4.631310946303213,
          -3.9860429272055575,
          -4.631310946303213,
          -4.604882750924732,
          -4.631310946303213,
          -4.631310946303213,
          -4.631310946303213,
          -13.554664332443023,
          -4.604882750924732,
          -4.631310946303213,
          -2.617006759420959,
          -4.631310946303213,
          -4.631310946303213,
          -4.631310946303213,
          -3.2803265453192343,
          -4.631310946303213,
          -4.631310946303213,
          -13.554664332443023,
          -4.631310946303213,
          -4.631310946303213,
          -4.631310946303213,
          -2.5457781855605432,
          -4.631310946303213,
          -4.06889022109711,
          -4.631310946303213,
          -4.631310946303213,
          -4.631310946303213,
          -4.631310946303213,
          3.8849111160071947,
          -9.899138398881702,
          -4.631310946303213,
          -4.250137765608997,
          5.248820425145273,
          -4.631310946303213,
          5.1874204047918315,
          -12.96977204693588,
          -4.631310946303213,
          2.4060571049153046,
          -4.631310946303213,
          -9.899138398881702,
          -4.631310946303213,
          -4.631310946303213,
          -4.631310946303213,
          -4.631310946303213,
          -4.631310946303213,
          -1.685154266617983,
          -0.12096108243024872,
          4.6611404983194715,
          5.602567289907268,
          -19.192419312325026,
          5.248820425145273,
          -3.3492910197644887,
          -1.4314732788958007,
          -2.2277827316256937,
          5.602567289907268,
          -4.631310946303213,
          -4.631310946303213,
          8.054434286534384,
          -4.631310946303213,
          6.710898418100841,
          -6.4195052581949135,
          -4.631310946303213,
          3.8849111160071947,
          2.5254853627481477,
          -4.631310946303213,
          -4.631310946303213,
          -7.654168304490804,
          -4.631310946303213,
          -4.631310946303213,
          5.1874204047918315,
          -4.631310946303213,
          -4.631310946303213,
          1.6028179926755648,
          -4.631310946303213,
          5.602567289907268,
          -4.631310946303213,
          -4.631310946303213,
          -0.38648024923255697,
          6.648290382205557,
          -4.631310946303213,
          4.4272715989058575,
          -6.4195052581949135,
          2.6899480016608246,
          -4.631310946303213,
          -4.631310946303213,
          -4.631310946303213,
          -3.3492910197644887,
          -6.4195052581949135,
          5.1874204047918315,
          -4.631310946303213,
          0.9740420511217707,
          0.27306808301110763,
          -4.631310946303213,
          5.602567289907268,
          -3.5240210536255367,
          -4.631310946303213,
          0.7574178388110697,
          13.306596789785496,
          4.4272715989058575,
          -4.631310946303213,
          -4.631310946303213,
          -4.631310946303213,
          -4.631310946303213,
          -4.631310946303213,
          -4.631310946303213,
          -4.631310946303213,
          -7.928803056068368,
          5.1874204047918315,
          -4.631310946303213,
          1.0934051407932577,
          3.8849111160071947,
          4.869861283339749,
          -7.313541217025743,
          7.902596461172884,
          5.951435363250268,
          -4.631310946303213,
          -4.631310946303213,
          -6.194396428133353,
          -2.617006759420959,
          -4.631310946303213,
          -4.631310946303213,
          -10.851025376067213,
          -4.250137765608997,
          1.6028179926755648,
          -3.9860429272055575,
          -4.631310946303213,
          -4.631310946303213,
          -4.631310946303213,
          -9.109172886175031,
          -4.631310946303213,
          -2.617006759420959,
          -4.631310946303213,
          -4.631310946303213,
          6.476584866593127,
          -4.631310946303213,
          -4.631310946303213,
          -9.899138398881702,
          -4.551593225729311,
          4.869861283339749,
          -6.4195052581949135,
          4.036564781167606,
          4.4975548214788885,
          2.6632198538069973,
          5.1874204047918315,
          -4.631310946303213,
          1.0934051407932577,
          -3.2803265453192343,
          -4.631310946303213,
          5.017717273813971,
          -2.5457781855605432,
          -4.631310946303213,
          -4.631310946303213,
          -9.899138398881702,
          -4.631310946303213,
          12.391305373932315,
          -4.551593225729311,
          2.6347781084564925,
          -4.631310946303213,
          2.2810931257065903,
          1.0934051407932577,
          1.0934051407932577,
          -4.631310946303213,
          -1.685154266617983,
          -6.4195052581949135,
          -4.631310946303213,
          -4.631310946303213,
          5.1874204047918315,
          -4.840719512495351,
          -11.670389990638263,
          -4.631310946303213,
          -4.840719512495351,
          -4.631310946303213,
          -4.631310946303213,
          -4.631310946303213,
          -4.631310946303213,
          -4.631310946303213,
          3.8567322383138425,
          -4.631310946303213,
          -4.631310946303213,
          -4.631310946303213,
          -4.631310946303213,
          -4.631310946303213,
          -4.631310946303213,
          -4.631310946303213,
          -2.617006759420959,
          -3.2803265453192343,
          -4.631310946303213,
          -7.654168304490804,
          -6.4195052581949135,
          -4.631310946303213,
          -4.631310946303213,
          -10.851025376067213,
          -4.631310946303213,
          -4.604882750924732,
          -3.2803265453192343,
          -4.631310946303213,
          -4.631310946303213,
          3.363517242166214,
          -4.631310946303213,
          -4.631310946303213,
          6.648290382205557,
          -4.631310946303213,
          -5.5707941731923505,
          -4.631310946303213,
          -7.479424674779689,
          -0.430331871038403,
          -4.06889022109711,
          5.1874204047918315,
          -4.631310946303213,
          -3.2803265453192343,
          -4.631310946303213,
          -4.631310946303213,
          -4.631310946303213,
          -6.4195052581949135,
          4.036564781167606,
          -9.899138398881702,
          -7.479424674779689,
          5.614785712680637,
          4.4272715989058575,
          -4.631310946303213,
          13.29152042658861,
          6.648290382205557,
          -4.631310946303213,
          -4.631310946303213,
          -4.2795337389157195,
          -4.631310946303213,
          2.8725577227529886,
          -4.631310946303213,
          -4.840719512495351,
          -7.654168304490804,
          -10.851025376067213,
          -3.3492910197644887,
          -3.2803265453192343,
          12.391305373932315,
          2.9564399370790806,
          -2.5457781855605432,
          -3.9860429272055575,
          5.248820425145273,
          -4.631310946303213,
          -4.631310946303213,
          -4.631310946303213,
          2.4060571049153046,
          -10.851025376067213,
          -4.631310946303213,
          -4.631310946303213,
          -4.631310946303213,
          -4.631310946303213,
          4.036564781167606,
          -7.479424674779689,
          1.87519840703807,
          -3.9860429272055575,
          -4.631310946303213,
          -4.631310946303213,
          -4.631310946303213,
          -4.604882750924732,
          -7.654168304490804,
          7.550412962530073,
          5.1874204047918315,
          -4.631310946303213,
          -4.631310946303213,
          -11.046776823829962,
          -4.631310946303213,
          -13.554664332443023
         ],
         "xaxis": "x",
         "yaxis": "y"
        },
        {
         "alignmentgroup": "True",
         "boxpoints": "all",
         "customdata": [
          [
           -1015.6100000000006,
           6,
           1
          ],
          [
           -1015.6100000000006,
           6,
           2
          ],
          [
           -694.5899999999965,
           6,
           3
          ],
          [
           -1015.6100000000006,
           6,
           4
          ],
          [
           1141.699999999997,
           8,
           5
          ],
          [
           543.3199999999961,
           10,
           6
          ],
          [
           -665.25,
           8,
           7
          ],
          [
           -1015.6100000000006,
           6,
           8
          ],
          [
           -378.3799999999974,
           8,
           9
          ],
          [
           528.7800000000025,
           8,
           10
          ],
          [
           -1015.6100000000006,
           6,
           11
          ],
          [
           -1015.6100000000006,
           6,
           12
          ],
          [
           -1015.6100000000006,
           6,
           13
          ],
          [
           -1540.4100000000035,
           6,
           14
          ],
          [
           -914.7500000000073,
           6,
           15
          ],
          [
           -1015.6100000000006,
           6,
           16
          ],
          [
           -1015.6100000000006,
           6,
           17
          ],
          [
           -1015.6100000000006,
           6,
           18
          ],
          [
           -1015.6100000000006,
           6,
           19
          ],
          [
           -903.1800000000003,
           8,
           20
          ],
          [
           -1015.6100000000006,
           6,
           21
          ],
          [
           -2822.3300000000017,
           6,
           22
          ],
          [
           9.299999999999272,
           6,
           23
          ],
          [
           974.6100000000042,
           8,
           24
          ],
          [
           -1015.6100000000006,
           6,
           25
          ],
          [
           -1015.6100000000006,
           6,
           26
          ],
          [
           1197.510000000002,
           10,
           27
          ],
          [
           -2049.540000000001,
           10,
           28
          ],
          [
           -1413.1800000000003,
           8,
           29
          ],
          [
           -1015.6100000000006,
           6,
           30
          ],
          [
           -914.7500000000073,
           6,
           31
          ],
          [
           -3019.3600000000006,
           8,
           32
          ],
          [
           1396.3199999999997,
           8,
           33
          ],
          [
           -1015.6100000000006,
           6,
           34
          ],
          [
           -1652.2899999999936,
           8,
           35
          ],
          [
           -1015.6100000000006,
           6,
           36
          ],
          [
           -1015.6100000000006,
           6,
           37
          ],
          [
           -1015.6100000000006,
           6,
           38
          ],
          [
           -1015.6100000000006,
           6,
           39
          ],
          [
           438.4800000000032,
           9,
           40
          ],
          [
           -1015.6100000000006,
           6,
           41
          ],
          [
           -1015.6100000000006,
           6,
           42
          ],
          [
           -1015.6100000000006,
           6,
           43
          ],
          [
           -1015.6100000000006,
           6,
           44
          ],
          [
           -1015.6100000000006,
           6,
           45
          ],
          [
           1257.2100000000028,
           8,
           46
          ],
          [
           -1015.6100000000006,
           6,
           47
          ],
          [
           -4301.279999999999,
           8,
           48
          ],
          [
           -1015.6100000000006,
           6,
           49
          ],
          [
           -1015.6100000000006,
           6,
           50
          ],
          [
           888.6899999999987,
           8,
           51
          ],
          [
           -1015.6100000000006,
           6,
           52
          ],
          [
           -378.3799999999974,
           8,
           53
          ],
          [
           -1015.6100000000006,
           6,
           54
          ],
          [
           1229.4800000000032,
           8,
           55
          ],
          [
           -1015.6100000000006,
           6,
           56
          ],
          [
           -1015.6100000000006,
           6,
           57
          ],
          [
           -1015.6100000000006,
           6,
           58
          ],
          [
           -1015.6100000000006,
           6,
           59
          ],
          [
           528.7800000000025,
           8,
           60
          ],
          [
           -1015.6100000000006,
           6,
           61
          ],
          [
           -1015.6100000000006,
           6,
           62
          ],
          [
           -1015.6100000000006,
           6,
           63
          ],
          [
           -1015.6100000000006,
           6,
           64
          ],
          [
           -1413.1800000000003,
           8,
           65
          ],
          [
           -1015.6100000000006,
           6,
           66
          ],
          [
           654.1200000000026,
           8,
           67
          ],
          [
           -1015.6100000000006,
           6,
           68
          ],
          [
           -1015.6100000000006,
           6,
           69
          ],
          [
           -2020.8099999999977,
           8,
           70
          ],
          [
           -1015.6100000000006,
           6,
           71
          ],
          [
           -1001.4499999999971,
           4,
           72
          ],
          [
           888.6899999999987,
           8,
           73
          ],
          [
           -378.3799999999974,
           8,
           74
          ],
          [
           -1015.6100000000006,
           6,
           75
          ],
          [
           855.6200000000026,
           7,
           76
          ],
          [
           580.3400000000001,
           8,
           77
          ],
          [
           -1015.6100000000006,
           6,
           78
          ],
          [
           -734.0399999999972,
           8,
           79
          ],
          [
           -1015.6100000000006,
           6,
           80
          ],
          [
           -778.0099999999948,
           6,
           81
          ],
          [
           1141.699999999997,
           8,
           82
          ],
          [
           -1015.6100000000006,
           6,
           83
          ],
          [
           -1015.6100000000006,
           6,
           84
          ],
          [
           -1015.6100000000006,
           6,
           85
          ],
          [
           -2822.3300000000017,
           6,
           86
          ],
          [
           -1015.6100000000006,
           6,
           87
          ],
          [
           4737.739999999998,
           8,
           88
          ],
          [
           -553.9299999999967,
           10,
           89
          ],
          [
           1376.530000000006,
           10,
           90
          ],
          [
           -734.0399999999972,
           8,
           91
          ],
          [
           -1687.1799999999967,
           8,
           92
          ],
          [
           -1015.6100000000006,
           6,
           93
          ],
          [
           -1015.6100000000006,
           6,
           94
          ],
          [
           1141.699999999997,
           8,
           95
          ],
          [
           -295.93000000000393,
           10,
           96
          ],
          [
           -773.3899999999921,
           8,
           97
          ],
          [
           -1015.6100000000006,
           6,
           98
          ],
          [
           332.369999999999,
           8,
           99
          ],
          [
           -1015.6100000000006,
           6,
           100
          ],
          [
           -1687.1799999999967,
           8,
           101
          ],
          [
           -1015.6100000000006,
           6,
           102
          ],
          [
           346.3100000000013,
           10,
           103
          ],
          [
           -940.3900000000067,
           8,
           104
          ],
          [
           -1015.6100000000006,
           6,
           105
          ],
          [
           855.6200000000026,
           7,
           106
          ],
          [
           -1010.989999999998,
           8,
           107
          ],
          [
           -1015.6100000000006,
           6,
           108
          ],
          [
           1229.4800000000032,
           8,
           109
          ],
          [
           2790.4999999999927,
           10,
           110
          ],
          [
           528.7800000000025,
           8,
           111
          ],
          [
           1151.1699999999983,
           6,
           112
          ],
          [
           -1015.6100000000006,
           6,
           113
          ],
          [
           -1015.6100000000006,
           6,
           114
          ],
          [
           580.3400000000001,
           8,
           115
          ],
          [
           368.1699999999946,
           14,
           116
          ],
          [
           -1015.6100000000006,
           6,
           117
          ],
          [
           -914.7500000000073,
           6,
           118
          ],
          [
           881.1999999999971,
           8,
           119
          ],
          [
           -647.0899999999965,
           6,
           120
          ],
          [
           513.3999999999942,
           10,
           121
          ],
          [
           -903.3700000000026,
           6,
           122
          ],
          [
           -1015.6100000000006,
           6,
           123
          ],
          [
           1155.1900000000023,
           8,
           124
          ],
          [
           -2895.890000000003,
           12,
           125
          ],
          [
           974.6100000000042,
           8,
           126
          ],
          [
           -647.0899999999965,
           6,
           127
          ],
          [
           580.3400000000001,
           8,
           128
          ],
          [
           -1015.6100000000006,
           6,
           129
          ],
          [
           1141.699999999997,
           8,
           130
          ],
          [
           -1015.6100000000006,
           6,
           131
          ],
          [
           -1015.6100000000006,
           6,
           132
          ],
          [
           855.6200000000026,
           7,
           133
          ],
          [
           -1015.6100000000006,
           6,
           134
          ],
          [
           332.369999999999,
           8,
           135
          ],
          [
           -1015.6100000000006,
           6,
           136
          ],
          [
           -1015.6100000000006,
           6,
           137
          ],
          [
           -1015.6100000000006,
           6,
           138
          ],
          [
           434.94999999999345,
           10,
           139
          ],
          [
           -1015.6100000000006,
           6,
           140
          ],
          [
           -1687.1799999999967,
           8,
           141
          ],
          [
           -1015.6100000000006,
           6,
           142
          ],
          [
           -1015.6100000000006,
           6,
           143
          ],
          [
           2839.2599999999948,
           10,
           144
          ],
          [
           9.299999999999272,
           6,
           145
          ],
          [
           -1015.6100000000006,
           6,
           146
          ],
          [
           -914.7500000000073,
           6,
           147
          ],
          [
           -932.1900000000023,
           6,
           148
          ],
          [
           -1015.6100000000006,
           6,
           149
          ],
          [
           -1015.6100000000006,
           6,
           150
          ],
          [
           -1015.6100000000006,
           6,
           151
          ],
          [
           -1015.6100000000006,
           6,
           152
          ],
          [
           3552.5,
           11,
           153
          ],
          [
           974.6100000000042,
           8,
           154
          ],
          [
           888.6899999999987,
           8,
           155
          ],
          [
           -1015.6100000000006,
           6,
           156
          ],
          [
           -1015.6100000000006,
           6,
           157
          ],
          [
           -1015.6100000000006,
           6,
           158
          ],
          [
           -1015.6100000000006,
           6,
           159
          ],
          [
           -1015.6100000000006,
           6,
           160
          ],
          [
           -1015.6100000000006,
           6,
           161
          ],
          [
           336.9900000000016,
           10,
           162
          ],
          [
           -1015.6100000000006,
           6,
           163
          ],
          [
           1612.8500000000022,
           10,
           164
          ],
          [
           -734.0399999999972,
           8,
           165
          ],
          [
           -1015.6100000000006,
           6,
           166
          ],
          [
           2687.9199999999983,
           8,
           167
          ],
          [
           -1369.419999999991,
           8,
           168
          ],
          [
           -1015.6100000000006,
           6,
           169
          ],
          [
           974.6100000000042,
           8,
           170
          ],
          [
           -1015.6100000000006,
           6,
           171
          ],
          [
           -1015.6100000000006,
           6,
           172
          ],
          [
           -2083.4199999999983,
           8,
           173
          ],
          [
           -1015.6100000000006,
           6,
           174
          ],
          [
           -665.7699999999968,
           6,
           175
          ],
          [
           2695.5600000000013,
           8,
           176
          ],
          [
           -1015.6100000000006,
           6,
           177
          ],
          [
           -903.3700000000026,
           6,
           178
          ],
          [
           -1015.6100000000006,
           6,
           179
          ],
          [
           -1015.6100000000006,
           6,
           180
          ],
          [
           -1015.6100000000006,
           6,
           181
          ],
          [
           -1015.6100000000006,
           6,
           182
          ],
          [
           234.3100000000013,
           8,
           183
          ],
          [
           -2494.5599999999977,
           8,
           184
          ],
          [
           -1015.6100000000006,
           6,
           185
          ],
          [
           1229.4800000000032,
           8,
           186
          ],
          [
           528.7800000000025,
           8,
           187
          ],
          [
           3279.300000000003,
           8,
           188
          ],
          [
           -1015.6100000000006,
           6,
           189
          ],
          [
           -1015.6100000000006,
           6,
           190
          ],
          [
           1343.1300000000083,
           8,
           191
          ],
          [
           580.3400000000001,
           8,
           192
          ],
          [
           -778.0099999999948,
           6,
           193
          ],
          [
           -1015.6100000000006,
           6,
           194
          ],
          [
           -647.0899999999965,
           6,
           195
          ],
          [
           -1015.6100000000006,
           6,
           196
          ],
          [
           1146.3199999999997,
           10,
           197
          ],
          [
           -1413.1800000000003,
           8,
           198
          ],
          [
           -1015.6100000000006,
           6,
           199
          ],
          [
           -1015.6100000000006,
           6,
           200
          ],
          [
           -815.0299999999988,
           6,
           201
          ],
          [
           2687.9199999999983,
           8,
           202
          ],
          [
           1155.1900000000023,
           8,
           203
          ],
          [
           -1258.8400000000001,
           8,
           204
          ],
          [
           -1015.6100000000006,
           6,
           205
          ],
          [
           888.6899999999987,
           8,
           206
          ],
          [
           1141.699999999997,
           8,
           207
          ],
          [
           -1015.6100000000006,
           6,
           208
          ],
          [
           812.3400000000038,
           8,
           209
          ],
          [
           2069.8700000000026,
           10,
           210
          ],
          [
           -1015.6100000000006,
           6,
           211
          ],
          [
           -1474.3500000000022,
           8,
           212
          ],
          [
           -1015.6100000000006,
           6,
           213
          ],
          [
           -1015.6100000000006,
           6,
           214
          ],
          [
           -1015.6100000000006,
           6,
           215
          ],
          [
           -1015.6100000000006,
           6,
           216
          ],
          [
           435.4900000000016,
           8,
           217
          ],
          [
           881.1999999999971,
           8,
           218
          ],
          [
           -1015.6100000000006,
           6,
           219
          ],
          [
           -1015.6100000000006,
           6,
           220
          ],
          [
           -1015.6100000000006,
           6,
           221
          ],
          [
           -1015.6100000000006,
           6,
           222
          ],
          [
           1788.4000000000015,
           8,
           223
          ],
          [
           9.299999999999272,
           6,
           224
          ],
          [
           974.6100000000042,
           8,
           225
          ],
          [
           1141.699999999997,
           8,
           226
          ],
          [
           -1015.6100000000006,
           6,
           227
          ],
          [
           -642.4699999999939,
           8,
           228
          ],
          [
           3396.260000000002,
           8,
           229
          ],
          [
           -1015.6100000000006,
           6,
           230
          ],
          [
           -1015.6100000000006,
           6,
           231
          ],
          [
           -1001.4499999999971,
           4,
           232
          ],
          [
           332.369999999999,
           8,
           233
          ],
          [
           -1015.6100000000006,
           6,
           234
          ],
          [
           -1015.6100000000006,
           6,
           235
          ],
          [
           -2494.5599999999977,
           8,
           236
          ],
          [
           1141.699999999997,
           8,
           237
          ],
          [
           -2757.1899999999987,
           12,
           238
          ],
          [
           -1015.6100000000006,
           6,
           239
          ],
          [
           -1052.6300000000047,
           8,
           240
          ],
          [
           -734.0399999999972,
           8,
           241
          ],
          [
           704.6800000000003,
           8,
           242
          ],
          [
           -1001.4499999999971,
           4,
           243
          ],
          [
           -1015.6100000000006,
           6,
           244
          ],
          [
           -1015.6100000000006,
           6,
           245
          ],
          [
           2695.5600000000013,
           8,
           246
          ],
          [
           -1015.6100000000006,
           6,
           247
          ],
          [
           1224.1400000000067,
           7,
           248
          ],
          [
           -2327.720000000001,
           8,
           249
          ],
          [
           580.3400000000001,
           8,
           250
          ],
          [
           -1015.6100000000006,
           6,
           251
          ],
          [
           -1015.6100000000006,
           6,
           252
          ],
          [
           -1015.6100000000006,
           6,
           253
          ],
          [
           -1015.6100000000006,
           6,
           254
          ],
          [
           -1015.6100000000006,
           6,
           255
          ],
          [
           -1015.6100000000006,
           6,
           256
          ],
          [
           -665.25,
           8,
           257
          ],
          [
           -1015.6100000000006,
           6,
           258
          ],
          [
           -1295.8600000000042,
           10,
           259
          ],
          [
           -1015.6100000000006,
           6,
           260
          ],
          [
           -1015.6100000000006,
           6,
           261
          ],
          [
           9.299999999999272,
           6,
           262
          ],
          [
           -1015.6100000000006,
           6,
           263
          ],
          [
           -1015.6100000000006,
           6,
           264
          ],
          [
           -1015.6100000000006,
           6,
           265
          ],
          [
           2335.4199999999983,
           8,
           266
          ],
          [
           -914.7500000000073,
           6,
           267
          ],
          [
           -932.1900000000023,
           6,
           268
          ],
          [
           2753.5099999999984,
           6,
           269
          ],
          [
           -1015.6100000000006,
           6,
           270
          ],
          [
           -1015.6100000000006,
           6,
           271
          ],
          [
           1141.699999999997,
           8,
           272
          ],
          [
           -1015.6100000000006,
           6,
           273
          ],
          [
           -192.43000000000393,
           8,
           274
          ],
          [
           1151.1699999999983,
           6,
           275
          ],
          [
           1086.8500000000022,
           8,
           276
          ],
          [
           -914.7500000000073,
           6,
           277
          ],
          [
           -1540.4100000000035,
           6,
           278
          ],
          [
           -1015.6100000000006,
           6,
           279
          ],
          [
           1396.3199999999997,
           8,
           280
          ],
          [
           -1015.6100000000006,
           6,
           281
          ],
          [
           -1015.6100000000006,
           6,
           282
          ],
          [
           -1413.1800000000003,
           8,
           283
          ],
          [
           234.3100000000013,
           8,
           284
          ],
          [
           234.3100000000013,
           8,
           285
          ],
          [
           234.3100000000013,
           8,
           286
          ],
          [
           -1015.6100000000006,
           6,
           287
          ],
          [
           -1015.6100000000006,
           6,
           288
          ],
          [
           -1015.6100000000006,
           6,
           289
          ],
          [
           -1015.6100000000006,
           6,
           290
          ],
          [
           -665.7699999999968,
           6,
           291
          ],
          [
           855.6200000000026,
           7,
           292
          ],
          [
           -1015.6100000000006,
           6,
           293
          ],
          [
           -1015.6100000000006,
           6,
           294
          ],
          [
           3321.970000000001,
           8,
           295
          ],
          [
           -1015.6100000000006,
           6,
           296
          ],
          [
           -1226.380000000001,
           8,
           297
          ],
          [
           -1015.6100000000006,
           6,
           298
          ],
          [
           -1015.6100000000006,
           6,
           299
          ],
          [
           -1015.6100000000006,
           6,
           300
          ],
          [
           528.7800000000025,
           8,
           301
          ],
          [
           855.6200000000026,
           7,
           302
          ],
          [
           -1015.6100000000006,
           6,
           303
          ],
          [
           680.119999999999,
           8,
           304
          ],
          [
           -1015.6100000000006,
           6,
           305
          ],
          [
           855.6200000000026,
           7,
           306
          ],
          [
           -1015.6100000000006,
           6,
           307
          ],
          [
           -2471.970000000001,
           8,
           308
          ],
          [
           -1015.6100000000006,
           6,
           309
          ],
          [
           888.6899999999987,
           8,
           310
          ],
          [
           -1015.6100000000006,
           6,
           311
          ],
          [
           533.4000000000051,
           10,
           312
          ],
          [
           -378.3799999999974,
           8,
           313
          ],
          [
           -1015.6100000000006,
           6,
           314
          ],
          [
           -1147.4099999999999,
           14,
           315
          ],
          [
           -1015.6100000000006,
           6,
           316
          ],
          [
           -1015.6100000000006,
           6,
           317
          ],
          [
           -778.0099999999948,
           6,
           318
          ],
          [
           -1015.6100000000006,
           6,
           319
          ],
          [
           -1015.6100000000006,
           6,
           320
          ],
          [
           -1015.6100000000006,
           6,
           321
          ],
          [
           -1015.6100000000006,
           6,
           322
          ],
          [
           -1015.6100000000006,
           6,
           323
          ],
          [
           3022.4000000000015,
           7,
           324
          ],
          [
           -1428.1700000000055,
           6,
           325
          ],
          [
           -1015.6100000000006,
           6,
           326
          ],
          [
           1155.1900000000023,
           8,
           327
          ],
          [
           -2393.7000000000044,
           8,
           328
          ],
          [
           9.299999999999272,
           6,
           329
          ],
          [
           580.3400000000001,
           8,
           330
          ],
          [
           741.9300000000039,
           10,
           331
          ],
          [
           -1015.6100000000006,
           6,
           332
          ],
          [
           -1540.4100000000035,
           6,
           333
          ],
          [
           -665.25,
           8,
           334
          ],
          [
           -914.7500000000073,
           6,
           335
          ],
          [
           -778.0099999999948,
           6,
           336
          ],
          [
           -1001.4499999999971,
           4,
           337
          ],
          [
           855.6200000000026,
           7,
           338
          ],
          [
           -778.0099999999948,
           6,
           339
          ],
          [
           444.60999999999694,
           8,
           340
          ],
          [
           -778.0099999999948,
           6,
           341
          ],
          [
           -1015.6100000000006,
           6,
           342
          ],
          [
           -378.3799999999974,
           8,
           343
          ],
          [
           -1015.6100000000006,
           6,
           344
          ],
          [
           -1015.6100000000006,
           6,
           345
          ],
          [
           2687.9199999999983,
           8,
           346
          ],
          [
           -914.7500000000073,
           6,
           347
          ],
          [
           -815.0299999999988,
           6,
           348
          ],
          [
           -1015.6100000000006,
           6,
           349
          ],
          [
           -1312.320000000007,
           8,
           350
          ],
          [
           1026.1700000000055,
           8,
           351
          ],
          [
           -1015.6100000000006,
           6,
           352
          ],
          [
           234.3100000000013,
           8,
           353
          ],
          [
           1155.1900000000023,
           8,
           354
          ],
          [
           528.7800000000025,
           8,
           355
          ],
          [
           -1015.6100000000006,
           6,
           356
          ],
          [
           -2494.5599999999977,
           8,
           357
          ],
          [
           346.5499999999993,
           8,
           358
          ],
          [
           1492.0599999999977,
           10,
           359
          ],
          [
           -1540.4100000000035,
           6,
           360
          ],
          [
           -1015.6100000000006,
           6,
           361
          ],
          [
           -1015.6100000000006,
           6,
           362
          ],
          [
           -1015.6100000000006,
           6,
           363
          ],
          [
           -1015.6100000000006,
           6,
           364
          ],
          [
           656.0099999999984,
           8,
           365
          ],
          [
           -1572.4099999999999,
           8,
           366
          ],
          [
           -1015.6100000000006,
           6,
           367
          ],
          [
           -1171.8899999999994,
           6,
           368
          ],
          [
           9.299999999999272,
           6,
           369
          ],
          [
           1229.4800000000032,
           8,
           370
          ],
          [
           1155.1900000000023,
           8,
           371
          ],
          [
           -1015.6100000000006,
           6,
           372
          ],
          [
           -1015.6100000000006,
           6,
           373
          ],
          [
           -1015.6100000000006,
           6,
           374
          ],
          [
           -1015.6100000000006,
           6,
           375
          ],
          [
           -1015.6100000000006,
           6,
           376
          ],
          [
           -1015.6100000000006,
           6,
           377
          ],
          [
           -1015.6100000000006,
           6,
           378
          ],
          [
           -1015.6100000000006,
           6,
           379
          ],
          [
           -1015.6100000000006,
           6,
           380
          ],
          [
           528.7800000000025,
           8,
           381
          ],
          [
           203.35000000000218,
           10,
           382
          ],
          [
           -1961.7599999999948,
           10,
           383
          ],
          [
           -903.3700000000026,
           6,
           384
          ],
          [
           528.7800000000025,
           8,
           385
          ],
          [
           -1015.6100000000006,
           6,
           386
          ],
          [
           1229.4800000000032,
           8,
           387
          ],
          [
           -1052.6300000000047,
           8,
           388
          ],
          [
           -1015.6100000000006,
           6,
           389
          ],
          [
           -1015.6100000000006,
           6,
           390
          ],
          [
           528.7800000000025,
           8,
           391
          ],
          [
           -378.3799999999974,
           8,
           392
          ],
          [
           -651.5299999999988,
           8,
           393
          ],
          [
           -932.1900000000023,
           6,
           394
          ],
          [
           3361.6800000000076,
           9,
           395
          ],
          [
           -1015.6100000000006,
           6,
           396
          ],
          [
           -1052.6300000000047,
           8,
           397
          ],
          [
           -778.0099999999948,
           6,
           398
          ],
          [
           295.3499999999949,
           10,
           399
          ],
          [
           -1015.6100000000006,
           6,
           400
          ],
          [
           -1015.6100000000006,
           6,
           401
          ],
          [
           1151.1699999999983,
           6,
           402
          ],
          [
           -1015.6100000000006,
           6,
           403
          ],
          [
           -1015.6100000000006,
           6,
           404
          ],
          [
           -1015.6100000000006,
           6,
           405
          ],
          [
           1141.699999999997,
           8,
           406
          ],
          [
           -1015.6100000000006,
           6,
           407
          ],
          [
           -1015.6100000000006,
           6,
           408
          ],
          [
           -1015.6100000000006,
           6,
           409
          ],
          [
           1155.1900000000023,
           8,
           410
          ],
          [
           -1015.6100000000006,
           6,
           411
          ],
          [
           -1015.6100000000006,
           6,
           412
          ],
          [
           528.7800000000025,
           8,
           413
          ],
          [
           -914.7500000000073,
           6,
           414
          ],
          [
           -1015.6100000000006,
           6,
           415
          ],
          [
           -1015.6100000000006,
           6,
           416
          ],
          [
           855.6200000000026,
           7,
           417
          ],
          [
           580.3400000000001,
           8,
           418
          ],
          [
           983.5300000000025,
           9,
           419
          ],
          [
           260.3899999999958,
           10,
           420
          ],
          [
           -778.0099999999948,
           6,
           421
          ],
          [
           -1015.6100000000006,
           6,
           422
          ],
          [
           -1015.6100000000006,
           6,
           423
          ],
          [
           -1015.6100000000006,
           6,
           424
          ],
          [
           -1015.6100000000006,
           6,
           425
          ],
          [
           -2323.0999999999985,
           10,
           426
          ],
          [
           405.8999999999978,
           10,
           427
          ],
          [
           -2480.399999999994,
           6,
           428
          ],
          [
           -969.2100000000064,
           8,
           429
          ],
          [
           -1015.6100000000006,
           6,
           430
          ],
          [
           -1015.6100000000006,
           6,
           431
          ],
          [
           -2610.899999999998,
           8,
           432
          ],
          [
           -647.0899999999965,
           6,
           433
          ],
          [
           1196.340000000011,
           9,
           434
          ],
          [
           -1015.6100000000006,
           6,
           435
          ],
          [
           -1015.6100000000006,
           6,
           436
          ],
          [
           -1015.6100000000006,
           6,
           437
          ],
          [
           -1015.6100000000006,
           6,
           438
          ],
          [
           -734.0399999999972,
           8,
           439
          ],
          [
           -1015.6100000000006,
           6,
           440
          ],
          [
           -1015.6100000000006,
           6,
           441
          ],
          [
           -1015.6100000000006,
           6,
           442
          ],
          [
           -1015.6100000000006,
           6,
           443
          ],
          [
           -1015.6100000000006,
           6,
           444
          ],
          [
           2494.520000000004,
           12,
           445
          ],
          [
           1155.1900000000023,
           8,
           446
          ],
          [
           -1687.1799999999967,
           8,
           447
          ],
          [
           -1015.6100000000006,
           6,
           448
          ],
          [
           580.3400000000001,
           8,
           449
          ],
          [
           806.0500000000065,
           10,
           450
          ],
          [
           1155.1900000000023,
           8,
           451
          ],
          [
           -2822.3300000000017,
           6,
           452
          ],
          [
           -1015.6100000000006,
           6,
           453
          ],
          [
           513.3999999999942,
           10,
           454
          ],
          [
           2747.119999999999,
           8,
           455
          ],
          [
           -1687.1799999999967,
           8,
           456
          ],
          [
           -2822.3300000000017,
           6,
           457
          ],
          [
           -1015.6100000000006,
           6,
           458
          ],
          [
           812.3400000000038,
           8,
           459
          ],
          [
           9.299999999999272,
           6,
           460
          ],
          [
           -1015.6100000000006,
           6,
           461
          ],
          [
           -1015.6100000000006,
           6,
           462
          ],
          [
           1229.4800000000032,
           8,
           463
          ],
          [
           -2020.8099999999977,
           8,
           464
          ],
          [
           1788.4000000000015,
           8,
           465
          ],
          [
           -2822.3300000000017,
           6,
           466
          ],
          [
           -1015.6100000000006,
           6,
           467
          ],
          [
           -1015.6100000000006,
           6,
           468
          ],
          [
           580.3400000000001,
           8,
           469
          ],
          [
           -1015.6100000000006,
           6,
           470
          ],
          [
           -2822.3300000000017,
           6,
           471
          ],
          [
           -665.25,
           8,
           472
          ],
          [
           -1015.6100000000006,
           6,
           473
          ],
          [
           -1015.6100000000006,
           6,
           474
          ],
          [
           -2020.8099999999977,
           8,
           475
          ],
          [
           -647.0899999999965,
           6,
           476
          ],
          [
           -1015.6100000000006,
           6,
           477
          ],
          [
           -1300.9400000000023,
           8,
           478
          ],
          [
           2578.600000000002,
           8,
           479
          ],
          [
           -1015.6100000000006,
           6,
           480
          ],
          [
           -1015.6100000000006,
           6,
           481
          ],
          [
           -647.0899999999965,
           6,
           482
          ],
          [
           -503.3199999999997,
           10,
           483
          ],
          [
           -1015.6100000000006,
           6,
           484
          ],
          [
           1229.4800000000032,
           8,
           485
          ],
          [
           -378.3799999999974,
           8,
           486
          ],
          [
           -1015.6100000000006,
           6,
           487
          ],
          [
           1155.1900000000023,
           8,
           488
          ],
          [
           -820.7300000000068,
           10,
           489
          ],
          [
           580.3400000000001,
           8,
           490
          ],
          [
           -1015.6100000000006,
           6,
           491
          ],
          [
           -778.0099999999948,
           6,
           492
          ],
          [
           -1015.6100000000006,
           6,
           493
          ],
          [
           -1015.6100000000006,
           6,
           494
          ],
          [
           -1015.6100000000006,
           6,
           495
          ],
          [
           9.299999999999272,
           6,
           496
          ],
          [
           1385.1100000000006,
           12,
           497
          ],
          [
           -1015.6100000000006,
           6,
           498
          ],
          [
           -1015.6100000000006,
           6,
           499
          ],
          [
           3141.390000000003,
           8,
           500
          ],
          [
           -1413.1800000000003,
           8,
           501
          ],
          [
           -2020.8099999999977,
           8,
           502
          ],
          [
           332.369999999999,
           8,
           503
          ],
          [
           -1015.6100000000006,
           6,
           504
          ],
          [
           -1015.6100000000006,
           6,
           505
          ],
          [
           528.7800000000025,
           8,
           506
          ],
          [
           1361.2699999999968,
           10,
           507
          ],
          [
           -1015.6100000000006,
           6,
           508
          ],
          [
           -1015.6100000000006,
           6,
           509
          ],
          [
           888.6899999999987,
           8,
           510
          ],
          [
           -832.109999999997,
           8,
           511
          ],
          [
           -1015.6100000000006,
           6,
           512
          ],
          [
           -1226.2600000000057,
           10,
           513
          ],
          [
           -1015.6100000000006,
           6,
           514
          ],
          [
           1141.699999999997,
           8,
           515
          ],
          [
           -1015.6100000000006,
           6,
           516
          ],
          [
           332.369999999999,
           8,
           517
          ],
          [
           -2822.3300000000017,
           6,
           518
          ],
          [
           -1015.6100000000006,
           6,
           519
          ],
          [
           -1015.6100000000006,
           6,
           520
          ],
          [
           -1015.6100000000006,
           6,
           521
          ],
          [
           1151.1699999999983,
           6,
           522
          ],
          [
           -1015.6100000000006,
           6,
           523
          ],
          [
           855.6200000000026,
           7,
           524
          ],
          [
           -1015.6100000000006,
           6,
           525
          ],
          [
           -1015.6100000000006,
           6,
           526
          ],
          [
           -1015.6100000000006,
           6,
           527
          ],
          [
           227.3199999999997,
           9,
           528
          ],
          [
           -1015.6100000000006,
           6,
           529
          ],
          [
           -1015.6100000000006,
           6,
           530
          ],
          [
           -1015.6100000000006,
           6,
           531
          ],
          [
           1749.3400000000038,
           10,
           532
          ],
          [
           -969.2100000000064,
           8,
           533
          ],
          [
           -1408.5599999999977,
           10,
           534
          ],
          [
           -1015.6100000000006,
           6,
           535
          ],
          [
           -1010.989999999998,
           8,
           536
          ],
          [
           353.4599999999991,
           10,
           537
          ],
          [
           -778.0099999999948,
           6,
           538
          ],
          [
           -1015.6100000000006,
           6,
           539
          ],
          [
           -914.7500000000073,
           6,
           540
          ],
          [
           -1015.6100000000006,
           6,
           541
          ],
          [
           -1015.6100000000006,
           6,
           542
          ],
          [
           -1010.989999999998,
           8,
           543
          ],
          [
           -1015.6100000000006,
           6,
           544
          ],
          [
           -1015.6100000000006,
           6,
           545
          ],
          [
           -1015.6100000000006,
           6,
           546
          ],
          [
           -1015.6100000000006,
           6,
           547
          ],
          [
           2692.540000000001,
           10,
           548
          ],
          [
           -2738.9100000000035,
           6,
           549
          ],
          [
           -1015.6100000000006,
           6,
           550
          ],
          [
           -99.52000000000044,
           10,
           551
          ],
          [
           332.369999999999,
           8,
           552
          ],
          [
           974.6100000000042,
           8,
           553
          ],
          [
           -1015.6100000000006,
           6,
           554
          ],
          [
           1155.1900000000023,
           8,
           555
          ],
          [
           -778.0099999999948,
           6,
           556
          ],
          [
           -1010.989999999998,
           8,
           557
          ],
          [
           -1010.989999999998,
           8,
           558
          ],
          [
           -1015.6100000000006,
           6,
           559
          ],
          [
           -1015.6100000000006,
           6,
           560
          ],
          [
           888.6899999999987,
           8,
           561
          ],
          [
           234.3100000000013,
           8,
           562
          ],
          [
           -1015.6100000000006,
           6,
           563
          ],
          [
           -1015.6100000000006,
           6,
           564
          ],
          [
           -1015.6100000000006,
           6,
           565
          ],
          [
           -378.3799999999974,
           8,
           566
          ],
          [
           2072.6700000000055,
           12,
           567
          ],
          [
           -1015.6100000000006,
           6,
           568
          ],
          [
           -1015.6100000000006,
           6,
           569
          ],
          [
           -1015.6100000000006,
           6,
           570
          ],
          [
           1229.4800000000032,
           8,
           571
          ],
          [
           -1015.6100000000006,
           6,
           572
          ],
          [
           -1015.6100000000006,
           6,
           573
          ],
          [
           1065.7200000000048,
           8,
           574
          ],
          [
           -1015.6100000000006,
           6,
           575
          ],
          [
           1151.1699999999983,
           6,
           576
          ],
          [
           -1015.6100000000006,
           6,
           577
          ],
          [
           -1670.2200000000012,
           8,
           578
          ],
          [
           3279.300000000003,
           8,
           579
          ],
          [
           -702.2700000000041,
           8,
           580
          ],
          [
           -1015.6100000000006,
           6,
           581
          ],
          [
           -1428.1700000000055,
           6,
           582
          ],
          [
           -1015.6100000000006,
           6,
           583
          ],
          [
           -1015.6100000000006,
           6,
           584
          ],
          [
           -1015.6100000000006,
           6,
           585
          ],
          [
           234.3100000000013,
           8,
           586
          ],
          [
           855.6200000000026,
           7,
           587
          ],
          [
           -1015.6100000000006,
           6,
           588
          ],
          [
           -378.3799999999974,
           8,
           589
          ],
          [
           1098.4800000000032,
           12,
           590
          ],
          [
           -1015.6100000000006,
           6,
           591
          ],
          [
           -1010.989999999998,
           8,
           592
          ],
          [
           -778.0099999999948,
           6,
           593
          ],
          [
           -1015.6100000000006,
           6,
           594
          ],
          [
           1151.1699999999983,
           6,
           595
          ],
          [
           -2822.3300000000017,
           6,
           596
          ],
          [
           1141.699999999997,
           8,
           597
          ],
          [
           -1015.6100000000006,
           6,
           598
          ],
          [
           -1015.6100000000006,
           6,
           599
          ],
          [
           332.369999999999,
           8,
           600
          ],
          [
           -1015.6100000000006,
           6,
           601
          ],
          [
           -1015.6100000000006,
           6,
           602
          ],
          [
           -1001.4499999999971,
           4,
           603
          ],
          [
           -1015.6100000000006,
           6,
           604
          ],
          [
           -2494.5599999999977,
           8,
           605
          ],
          [
           -1015.6100000000006,
           6,
           606
          ],
          [
           580.3400000000001,
           8,
           607
          ],
          [
           -1015.6100000000006,
           6,
           608
          ],
          [
           -378.3799999999974,
           8,
           609
          ],
          [
           -1015.6100000000006,
           6,
           610
          ],
          [
           -1015.6100000000006,
           6,
           611
          ],
          [
           -1015.6100000000006,
           6,
           612
          ],
          [
           -778.0099999999948,
           6,
           613
          ],
          [
           -1015.6100000000006,
           6,
           614
          ],
          [
           -2020.8099999999977,
           8,
           615
          ],
          [
           -1015.6100000000006,
           6,
           616
          ],
          [
           -1015.6100000000006,
           6,
           617
          ],
          [
           -1015.6100000000006,
           6,
           618
          ],
          [
           -932.1900000000023,
           6,
           619
          ],
          [
           -1015.6100000000006,
           6,
           620
          ],
          [
           -1015.6100000000006,
           6,
           621
          ],
          [
           -1015.6100000000006,
           6,
           622
          ],
          [
           -1015.6100000000006,
           6,
           623
          ],
          [
           -1015.6100000000006,
           6,
           624
          ],
          [
           -1015.6100000000006,
           6,
           625
          ],
          [
           -2185.0999999999985,
           8,
           626
          ],
          [
           -1015.6100000000006,
           6,
           627
          ],
          [
           186.37000000000626,
           10,
           628
          ],
          [
           -1015.6100000000006,
           6,
           629
          ],
          [
           -2822.3300000000017,
           6,
           630
          ],
          [
           -1015.6100000000006,
           6,
           631
          ],
          [
           -327.77999999999884,
           8,
           632
          ],
          [
           -1001.2199999999975,
           8,
           633
          ],
          [
           -1015.6100000000006,
           6,
           634
          ],
          [
           -1001.4499999999971,
           4,
           635
          ],
          [
           -2020.8099999999977,
           8,
           636
          ],
          [
           -378.3799999999974,
           8,
           637
          ],
          [
           -1015.6100000000006,
           6,
           638
          ],
          [
           -665.25,
           8,
           639
          ],
          [
           -1015.6100000000006,
           6,
           640
          ],
          [
           -2822.3300000000017,
           6,
           641
          ],
          [
           2687.9199999999983,
           8,
           642
          ],
          [
           -734.0399999999972,
           8,
           643
          ],
          [
           -1015.6100000000006,
           6,
           644
          ],
          [
           -1015.6100000000006,
           6,
           645
          ],
          [
           729.3600000000042,
           8,
           646
          ],
          [
           2687.9199999999983,
           8,
           647
          ],
          [
           888.6899999999987,
           8,
           648
          ],
          [
           -1015.6100000000006,
           6,
           649
          ],
          [
           -1015.6100000000006,
           6,
           650
          ],
          [
           692.5799999999981,
           8,
           651
          ],
          [
           2918.9900000000052,
           8,
           652
          ],
          [
           -1015.6100000000006,
           6,
           653
          ],
          [
           -1052.6300000000047,
           8,
           654
          ],
          [
           -1413.1800000000003,
           8,
           655
          ],
          [
           1151.1699999999983,
           6,
           656
          ],
          [
           -1015.6100000000006,
           6,
           657
          ],
          [
           1151.1699999999983,
           6,
           658
          ],
          [
           -1015.6100000000006,
           6,
           659
          ],
          [
           -1258.8400000000001,
           8,
           660
          ],
          [
           1155.1900000000023,
           8,
           661
          ],
          [
           528.7800000000025,
           8,
           662
          ],
          [
           -1540.4100000000035,
           6,
           663
          ],
          [
           -1673.0199999999932,
           6,
           664
          ],
          [
           -1015.6100000000006,
           6,
           665
          ],
          [
           -2822.3300000000017,
           6,
           666
          ],
          [
           -1015.6100000000006,
           6,
           667
          ],
          [
           -378.3799999999974,
           8,
           668
          ],
          [
           -1015.6100000000006,
           6,
           669
          ],
          [
           -1015.6100000000006,
           6,
           670
          ],
          [
           -665.25,
           8,
           671
          ],
          [
           -1015.6100000000006,
           6,
           672
          ],
          [
           -2020.8099999999977,
           8,
           673
          ],
          [
           -2822.3300000000017,
           6,
           674
          ],
          [
           2687.9199999999983,
           8,
           675
          ],
          [
           -1015.6100000000006,
           6,
           676
          ],
          [
           -665.25,
           8,
           677
          ],
          [
           -1010.989999999998,
           8,
           678
          ],
          [
           -2494.5599999999977,
           8,
           679
          ],
          [
           -1015.6100000000006,
           6,
           680
          ],
          [
           -1015.6100000000006,
           6,
           681
          ],
          [
           -1015.6100000000006,
           6,
           682
          ],
          [
           -2822.3300000000017,
           6,
           683
          ],
          [
           -2822.3300000000017,
           6,
           684
          ],
          [
           -1015.6100000000006,
           6,
           685
          ],
          [
           -1015.6100000000006,
           6,
           686
          ],
          [
           -1001.4499999999971,
           4,
           687
          ],
          [
           -1015.6100000000006,
           6,
           688
          ],
          [
           -1015.6100000000006,
           6,
           689
          ],
          [
           110.15999999999258,
           6,
           690
          ],
          [
           -1015.6100000000006,
           6,
           691
          ],
          [
           -1015.6100000000006,
           6,
           692
          ],
          [
           9.299999999999272,
           6,
           693
          ],
          [
           -2956.9299999999967,
           10,
           694
          ],
          [
           1118.1699999999983,
           10,
           695
          ],
          [
           -1015.6100000000006,
           6,
           696
          ],
          [
           471.91000000000713,
           8,
           697
          ],
          [
           -1015.6100000000006,
           6,
           698
          ],
          [
           -1015.6100000000006,
           6,
           699
          ],
          [
           9.299999999999272,
           6,
           700
          ],
          [
           -1015.6100000000006,
           6,
           701
          ],
          [
           -1015.6100000000006,
           6,
           702
          ],
          [
           -903.3700000000026,
           6,
           703
          ],
          [
           -1015.6100000000006,
           6,
           704
          ],
          [
           1151.1699999999983,
           6,
           705
          ],
          [
           -1015.6100000000006,
           6,
           706
          ],
          [
           -1038.4700000000012,
           6,
           707
          ],
          [
           -1015.6100000000006,
           6,
           708
          ],
          [
           -1015.6100000000006,
           6,
           709
          ],
          [
           -43.63000000000102,
           12,
           710
          ],
          [
           -1015.6100000000006,
           6,
           711
          ],
          [
           -1413.1800000000003,
           8,
           712
          ],
          [
           -1015.6100000000006,
           6,
           713
          ],
          [
           -1015.6100000000006,
           6,
           714
          ],
          [
           -2020.8099999999977,
           8,
           715
          ],
          [
           111.83999999999651,
           8,
           716
          ],
          [
           -1015.6100000000006,
           6,
           717
          ],
          [
           332.369999999999,
           8,
           718
          ],
          [
           -1015.6100000000006,
           6,
           719
          ],
          [
           855.6200000000026,
           7,
           720
          ],
          [
           -1015.6100000000006,
           6,
           721
          ],
          [
           -1015.6100000000006,
           6,
           722
          ],
          [
           -1015.6100000000006,
           6,
           723
          ],
          [
           -1015.6100000000006,
           6,
           724
          ],
          [
           -1015.6100000000006,
           6,
           725
          ],
          [
           -1010.989999999998,
           8,
           726
          ],
          [
           1155.1900000000023,
           8,
           727
          ],
          [
           -802.5100000000093,
           6,
           728
          ],
          [
           -665.25,
           8,
           729
          ],
          [
           -1015.6100000000006,
           6,
           730
          ],
          [
           -1540.4100000000035,
           6,
           731
          ],
          [
           888.6899999999987,
           8,
           732
          ],
          [
           -1015.6100000000006,
           6,
           733
          ],
          [
           -1015.6100000000006,
           6,
           734
          ],
          [
           -1540.4100000000035,
           6,
           735
          ],
          [
           -1015.6100000000006,
           6,
           736
          ],
          [
           -1015.6100000000006,
           6,
           737
          ],
          [
           -1015.6100000000006,
           6,
           738
          ],
          [
           -903.3700000000026,
           6,
           739
          ],
          [
           -1015.6100000000006,
           6,
           740
          ],
          [
           -1010.989999999998,
           8,
           741
          ],
          [
           -1015.6100000000006,
           6,
           742
          ],
          [
           -1015.6100000000006,
           6,
           743
          ],
          [
           -1015.6100000000006,
           6,
           744
          ],
          [
           -2822.3300000000017,
           6,
           745
          ],
          [
           -1010.989999999998,
           8,
           746
          ],
          [
           -1015.6100000000006,
           6,
           747
          ],
          [
           -665.25,
           8,
           748
          ],
          [
           -1015.6100000000006,
           6,
           749
          ],
          [
           -1015.6100000000006,
           6,
           750
          ],
          [
           -1015.6100000000006,
           6,
           751
          ],
          [
           -778.0099999999948,
           6,
           752
          ],
          [
           -1015.6100000000006,
           6,
           753
          ],
          [
           -1015.6100000000006,
           6,
           754
          ],
          [
           -2822.3300000000017,
           6,
           755
          ],
          [
           -1015.6100000000006,
           6,
           756
          ],
          [
           -1015.6100000000006,
           6,
           757
          ],
          [
           -1015.6100000000006,
           6,
           758
          ],
          [
           -647.0899999999965,
           6,
           759
          ],
          [
           -1015.6100000000006,
           6,
           760
          ],
          [
           -914.7500000000073,
           6,
           761
          ],
          [
           -1015.6100000000006,
           6,
           762
          ],
          [
           -1015.6100000000006,
           6,
           763
          ],
          [
           -1015.6100000000006,
           6,
           764
          ],
          [
           -1015.6100000000006,
           6,
           765
          ],
          [
           855.6200000000026,
           7,
           766
          ],
          [
           -2020.8099999999977,
           8,
           767
          ],
          [
           -1015.6100000000006,
           6,
           768
          ],
          [
           -932.1900000000023,
           6,
           769
          ],
          [
           1155.1900000000023,
           8,
           770
          ],
          [
           -1015.6100000000006,
           6,
           771
          ],
          [
           1141.699999999997,
           8,
           772
          ],
          [
           -2710.090000000004,
           6,
           773
          ],
          [
           -1015.6100000000006,
           6,
           774
          ],
          [
           528.7800000000025,
           8,
           775
          ],
          [
           -1015.6100000000006,
           6,
           776
          ],
          [
           -2020.8099999999977,
           8,
           777
          ],
          [
           -1015.6100000000006,
           6,
           778
          ],
          [
           -1015.6100000000006,
           6,
           779
          ],
          [
           -1015.6100000000006,
           6,
           780
          ],
          [
           -1015.6100000000006,
           6,
           781
          ],
          [
           -1015.6100000000006,
           6,
           782
          ],
          [
           -378.3799999999974,
           8,
           783
          ],
          [
           252.5699999999997,
           12,
           784
          ],
          [
           1026.1700000000055,
           8,
           785
          ],
          [
           1229.4800000000032,
           8,
           786
          ],
          [
           -4301.279999999999,
           8,
           787
          ],
          [
           1155.1900000000023,
           8,
           788
          ],
          [
           -734.0399999999972,
           8,
           789
          ],
          [
           -192.43000000000393,
           8,
           790
          ],
          [
           -581.8300000000017,
           8,
           791
          ],
          [
           1229.4800000000032,
           8,
           792
          ],
          [
           -1015.6100000000006,
           6,
           793
          ],
          [
           -1015.6100000000006,
           6,
           794
          ],
          [
           1771.7700000000004,
           7,
           795
          ],
          [
           -1015.6100000000006,
           6,
           796
          ],
          [
           1343.1300000000083,
           8,
           797
          ],
          [
           -1413.1800000000003,
           8,
           798
          ],
          [
           -1015.6100000000006,
           6,
           799
          ],
          [
           855.6200000000026,
           7,
           800
          ],
          [
           471.91000000000713,
           8,
           801
          ],
          [
           -1015.6100000000006,
           6,
           802
          ],
          [
           -1015.6100000000006,
           6,
           803
          ],
          [
           -1687.1799999999967,
           8,
           804
          ],
          [
           -1015.6100000000006,
           6,
           805
          ],
          [
           -1015.6100000000006,
           6,
           806
          ],
          [
           1141.699999999997,
           8,
           807
          ],
          [
           -1015.6100000000006,
           6,
           808
          ],
          [
           -1015.6100000000006,
           6,
           809
          ],
          [
           332.369999999999,
           8,
           810
          ],
          [
           -1015.6100000000006,
           6,
           811
          ],
          [
           1229.4800000000032,
           8,
           812
          ],
          [
           -1015.6100000000006,
           6,
           813
          ],
          [
           -1015.6100000000006,
           6,
           814
          ],
          [
           -47.960000000002765,
           10,
           815
          ],
          [
           1151.1699999999983,
           6,
           816
          ],
          [
           -1015.6100000000006,
           6,
           817
          ],
          [
           974.6100000000042,
           8,
           818
          ],
          [
           -1413.1800000000003,
           8,
           819
          ],
          [
           463.49999999999636,
           8,
           820
          ],
          [
           -1015.6100000000006,
           6,
           821
          ],
          [
           -1015.6100000000006,
           6,
           822
          ],
          [
           -1015.6100000000006,
           6,
           823
          ],
          [
           -734.0399999999972,
           8,
           824
          ],
          [
           -1413.1800000000003,
           8,
           825
          ],
          [
           1141.699999999997,
           8,
           826
          ],
          [
           -1015.6100000000006,
           6,
           827
          ],
          [
           260.3899999999958,
           10,
           828
          ],
          [
           9.299999999999272,
           6,
           829
          ],
          [
           -1015.6100000000006,
           6,
           830
          ],
          [
           1229.4800000000032,
           8,
           831
          ],
          [
           -772.4999999999964,
           8,
           832
          ],
          [
           -1015.6100000000006,
           6,
           833
          ],
          [
           145.97000000000116,
           8,
           834
          ],
          [
           2651,
           10,
           835
          ],
          [
           974.6100000000042,
           8,
           836
          ],
          [
           -1015.6100000000006,
           6,
           837
          ],
          [
           -1015.6100000000006,
           6,
           838
          ],
          [
           -1015.6100000000006,
           6,
           839
          ],
          [
           -1015.6100000000006,
           6,
           840
          ],
          [
           -1015.6100000000006,
           6,
           841
          ],
          [
           -1015.6100000000006,
           6,
           842
          ],
          [
           -1015.6100000000006,
           6,
           843
          ],
          [
           -1652.2899999999936,
           8,
           844
          ],
          [
           1141.699999999997,
           8,
           845
          ],
          [
           -1015.6100000000006,
           6,
           846
          ],
          [
           234.3100000000013,
           8,
           847
          ],
          [
           855.6200000000026,
           7,
           848
          ],
          [
           1055.5299999999952,
           8,
           849
          ],
          [
           -1623.3400000000074,
           10,
           850
          ],
          [
           1722.310000000005,
           10,
           851
          ],
          [
           1306.5299999999988,
           10,
           852
          ],
          [
           -1015.6100000000006,
           6,
           853
          ],
          [
           -1015.6100000000006,
           6,
           854
          ],
          [
           -1362.3400000000001,
           8,
           855
          ],
          [
           -665.25,
           8,
           856
          ],
          [
           -1015.6100000000006,
           6,
           857
          ],
          [
           -1015.6100000000006,
           6,
           858
          ],
          [
           -2494.5599999999977,
           8,
           859
          ],
          [
           -932.1900000000023,
           6,
           860
          ],
          [
           332.369999999999,
           8,
           861
          ],
          [
           -903.3700000000026,
           6,
           862
          ],
          [
           -1015.6100000000006,
           6,
           863
          ],
          [
           -1015.6100000000006,
           6,
           864
          ],
          [
           -1015.6100000000006,
           6,
           865
          ],
          [
           -1797.420000000002,
           6,
           866
          ],
          [
           -1015.6100000000006,
           6,
           867
          ],
          [
           -665.25,
           8,
           868
          ],
          [
           -1015.6100000000006,
           6,
           869
          ],
          [
           -1015.6100000000006,
           6,
           870
          ],
          [
           1306.1100000000042,
           10,
           871
          ],
          [
           -1015.6100000000006,
           6,
           872
          ],
          [
           -1015.6100000000006,
           6,
           873
          ],
          [
           -2020.8099999999977,
           8,
           874
          ],
          [
           -1001.4499999999971,
           4,
           875
          ],
          [
           1055.5299999999952,
           8,
           876
          ],
          [
           -1413.1800000000003,
           8,
           877
          ],
          [
           888.6899999999987,
           8,
           878
          ],
          [
           956.4799999999959,
           7,
           879
          ],
          [
           584.9600000000028,
           10,
           880
          ],
          [
           1141.699999999997,
           8,
           881
          ],
          [
           -1015.6100000000006,
           6,
           882
          ],
          [
           234.3100000000013,
           8,
           883
          ],
          [
           -778.0099999999948,
           6,
           884
          ],
          [
           -1015.6100000000006,
           6,
           885
          ],
          [
           1118.1699999999983,
           10,
           886
          ],
          [
           -647.0899999999965,
           6,
           887
          ],
          [
           -1015.6100000000006,
           6,
           888
          ],
          [
           -1015.6100000000006,
           6,
           889
          ],
          [
           -2020.8099999999977,
           8,
           890
          ],
          [
           -1015.6100000000006,
           6,
           891
          ],
          [
           2687.9199999999983,
           8,
           892
          ],
          [
           -1001.4499999999971,
           4,
           893
          ],
          [
           580.3400000000001,
           8,
           894
          ],
          [
           -1015.6100000000006,
           6,
           895
          ],
          [
           483.7099999999955,
           10,
           896
          ],
          [
           234.3100000000013,
           8,
           897
          ],
          [
           234.3100000000013,
           8,
           898
          ],
          [
           -1015.6100000000006,
           6,
           899
          ],
          [
           -378.3799999999974,
           8,
           900
          ],
          [
           -1413.1800000000003,
           8,
           901
          ],
          [
           -1015.6100000000006,
           6,
           902
          ],
          [
           -1015.6100000000006,
           6,
           903
          ],
          [
           1141.699999999997,
           8,
           904
          ],
          [
           -1052.6300000000047,
           8,
           905
          ],
          [
           -2732.4299999999967,
           10,
           906
          ],
          [
           -1015.6100000000006,
           6,
           907
          ],
          [
           -1052.6300000000047,
           8,
           908
          ],
          [
           -1015.6100000000006,
           6,
           909
          ],
          [
           -1015.6100000000006,
           6,
           910
          ],
          [
           -1015.6100000000006,
           6,
           911
          ],
          [
           -1015.6100000000006,
           6,
           912
          ],
          [
           -1015.6100000000006,
           6,
           913
          ],
          [
           766.3800000000083,
           8,
           914
          ],
          [
           -1015.6100000000006,
           6,
           915
          ],
          [
           -1015.6100000000006,
           6,
           916
          ],
          [
           -1015.6100000000006,
           6,
           917
          ],
          [
           -1015.6100000000006,
           6,
           918
          ],
          [
           -1015.6100000000006,
           6,
           919
          ],
          [
           -1015.6100000000006,
           6,
           920
          ],
          [
           -1015.6100000000006,
           6,
           921
          ],
          [
           -665.25,
           8,
           922
          ],
          [
           -778.0099999999948,
           6,
           923
          ],
          [
           -1015.6100000000006,
           6,
           924
          ],
          [
           -1687.1799999999967,
           8,
           925
          ],
          [
           -1413.1800000000003,
           8,
           926
          ],
          [
           -1015.6100000000006,
           6,
           927
          ],
          [
           -1015.6100000000006,
           6,
           928
          ],
          [
           -2494.5599999999977,
           8,
           929
          ],
          [
           -1015.6100000000006,
           6,
           930
          ],
          [
           -1010.989999999998,
           8,
           931
          ],
          [
           -778.0099999999948,
           6,
           932
          ],
          [
           -1015.6100000000006,
           6,
           933
          ],
          [
           -1015.6100000000006,
           6,
           934
          ],
          [
           741.9300000000039,
           10,
           935
          ],
          [
           -1015.6100000000006,
           6,
           936
          ],
          [
           -1015.6100000000006,
           6,
           937
          ],
          [
           1151.1699999999983,
           6,
           938
          ],
          [
           -1015.6100000000006,
           6,
           939
          ],
          [
           -884.2099999999991,
           10,
           940
          ],
          [
           -1015.6100000000006,
           6,
           941
          ],
          [
           -1540.4100000000035,
           6,
           942
          ],
          [
           55.539999999997235,
           8,
           943
          ],
          [
           -914.7500000000073,
           6,
           944
          ],
          [
           1141.699999999997,
           8,
           945
          ],
          [
           -1015.6100000000006,
           6,
           946
          ],
          [
           -778.0099999999948,
           6,
           947
          ],
          [
           -1015.6100000000006,
           6,
           948
          ],
          [
           -1015.6100000000006,
           6,
           949
          ],
          [
           -1015.6100000000006,
           6,
           950
          ],
          [
           -1413.1800000000003,
           8,
           951
          ],
          [
           888.6899999999987,
           8,
           952
          ],
          [
           -2020.8099999999977,
           8,
           953
          ],
          [
           -1540.4100000000035,
           6,
           954
          ],
          [
           1148.9900000000016,
           10,
           955
          ],
          [
           974.6100000000042,
           8,
           956
          ],
          [
           -1015.6100000000006,
           6,
           957
          ],
          [
           2854.7599999999948,
           8,
           958
          ],
          [
           1151.1699999999983,
           6,
           959
          ],
          [
           -1015.6100000000006,
           6,
           960
          ],
          [
           -1015.6100000000006,
           6,
           961
          ],
          [
           -951.7700000000114,
           8,
           962
          ],
          [
           -1015.6100000000006,
           6,
           963
          ],
          [
           603.9999999999964,
           10,
           964
          ],
          [
           -1015.6100000000006,
           6,
           965
          ],
          [
           -1052.6300000000047,
           8,
           966
          ],
          [
           -1687.1799999999967,
           8,
           967
          ],
          [
           -2494.5599999999977,
           8,
           968
          ],
          [
           -734.0399999999972,
           8,
           969
          ],
          [
           -778.0099999999948,
           6,
           970
          ],
          [
           2687.9199999999983,
           8,
           971
          ],
          [
           577.6800000000003,
           11,
           972
          ],
          [
           -647.0899999999965,
           6,
           973
          ],
          [
           -903.3700000000026,
           6,
           974
          ],
          [
           1155.1900000000023,
           8,
           975
          ],
          [
           -1015.6100000000006,
           6,
           976
          ],
          [
           -1015.6100000000006,
           6,
           977
          ],
          [
           -1015.6100000000006,
           6,
           978
          ],
          [
           528.7800000000025,
           8,
           979
          ],
          [
           -2494.5599999999977,
           8,
           980
          ],
          [
           -1015.6100000000006,
           6,
           981
          ],
          [
           -1015.6100000000006,
           6,
           982
          ],
          [
           -1015.6100000000006,
           6,
           983
          ],
          [
           -1015.6100000000006,
           6,
           984
          ],
          [
           888.6899999999987,
           8,
           985
          ],
          [
           -1540.4100000000035,
           6,
           986
          ],
          [
           881.1999999999971,
           8,
           987
          ],
          [
           -903.3700000000026,
           6,
           988
          ],
          [
           -1015.6100000000006,
           6,
           989
          ],
          [
           -1015.6100000000006,
           6,
           990
          ],
          [
           -1015.6100000000006,
           6,
           991
          ],
          [
           -1010.989999999998,
           8,
           992
          ],
          [
           -1687.1799999999967,
           8,
           993
          ],
          [
           1523.7100000000064,
           8,
           994
          ],
          [
           1141.699999999997,
           8,
           995
          ],
          [
           -1015.6100000000006,
           6,
           996
          ],
          [
           -1015.6100000000006,
           6,
           997
          ],
          [
           -2531.5800000000017,
           10,
           998
          ],
          [
           -1015.6100000000006,
           6,
           999
          ],
          [
           -2822.3300000000017,
           6,
           1000
          ]
         ],
         "fillcolor": "rgba(255,255,255,0)",
         "hoveron": "points",
         "hovertemplate": "model_type=DQN<br>fmt_total_profit_percentage=%{x}<br>total_reward_cash=%{customdata[0]}<br>num_of_trades=%{customdata[1]}<br>sim_id=%{customdata[2]}<extra></extra>",
         "jitter": 0,
         "legendgroup": "DQN",
         "line": {
          "color": "rgba(255,255,255,0)"
         },
         "marker": {
          "color": "#FF7F0E",
          "symbol": "line-ns-open"
         },
         "name": "DQN",
         "offsetgroup": "DQN",
         "showlegend": false,
         "type": "box",
         "x": [
          -4.631310946303213,
          -4.631310946303213,
          -2.8937536991131996,
          -4.631310946303213,
          5.1874204047918315,
          2.409414816390698,
          -2.617006759420959,
          -4.631310946303213,
          -1.685154266617983,
          2.4060571049153046,
          -4.631310946303213,
          -4.631310946303213,
          -4.631310946303213,
          -7.479424674779689,
          -4.06889022109711,
          -4.631310946303213,
          -4.631310946303213,
          -4.631310946303213,
          -4.631310946303213,
          -4.621252734833625,
          -4.631310946303213,
          -13.554664332443023,
          0.27306808301110763,
          4.4272715989058575,
          -4.631310946303213,
          -4.631310946303213,
          4.680167072987729,
          -9.100334886309614,
          -6.4195052581949135,
          -4.631310946303213,
          -4.06889022109711,
          -13.51339203985834,
          6.44840692454125,
          -4.631310946303213,
          -7.928803056068368,
          -4.631310946303213,
          -4.631310946303213,
          -4.631310946303213,
          -4.631310946303213,
          2.00253618624886,
          -4.631310946303213,
          -4.631310946303213,
          -4.631310946303213,
          -4.631310946303213,
          -4.631310946303213,
          6.311647581604207,
          -4.631310946303213,
          -19.192419312325026,
          -4.631310946303213,
          -4.631310946303213,
          4.036564781167606,
          -4.631310946303213,
          -1.685154266617983,
          -4.631310946303213,
          5.602567289907268,
          -4.631310946303213,
          -4.631310946303213,
          -4.631310946303213,
          -4.631310946303213,
          2.4060571049153046,
          -4.631310946303213,
          -4.631310946303213,
          -4.631310946303213,
          -4.631310946303213,
          -6.4195052581949135,
          -4.631310946303213,
          3.5343981977086436,
          -4.631310946303213,
          -4.631310946303213,
          -9.899138398881702,
          -4.631310946303213,
          -4.551593225729311,
          4.036564781167606,
          -1.685154266617983,
          -4.631310946303213,
          3.8849111160071947,
          2.6347781084564925,
          -4.631310946303213,
          -3.3492910197644887,
          -4.631310946303213,
          -3.2803265453192343,
          5.1874204047918315,
          -4.631310946303213,
          -4.631310946303213,
          -4.631310946303213,
          -13.554664332443023,
          -4.631310946303213,
          24.248082903793943,
          -2.65290205109715,
          6.871712706048316,
          -3.3492910197644887,
          -7.654168304490804,
          -4.631310946303213,
          -4.631310946303213,
          5.1874204047918315,
          -1.3880625712279215,
          -3.2535239704661767,
          -4.631310946303213,
          1.6028179926755648,
          -4.631310946303213,
          -7.654168304490804,
          -4.631310946303213,
          1.3532476383779635,
          -4.196868359373617,
          -4.631310946303213,
          3.8849111160071947,
          -4.604882750924732,
          -4.631310946303213,
          5.602567289907268,
          12.892918812669919,
          2.4060571049153046,
          6.648290382205557,
          -4.631310946303213,
          -4.631310946303213,
          2.6347781084564925,
          2.3235369843245923,
          -4.631310946303213,
          -4.06889022109711,
          1.87519840703807,
          -2.5457781855605432,
          2.0910199557558684,
          -3.9860429272055575,
          -4.631310946303213,
          5.248820425145273,
          -12.39082942071179,
          4.4272715989058575,
          -2.5457781855605432,
          2.6347781084564925,
          -4.631310946303213,
          5.1874204047918315,
          -4.631310946303213,
          -4.631310946303213,
          3.8849111160071947,
          -4.631310946303213,
          1.6028179926755648,
          -4.631310946303213,
          -4.631310946303213,
          -4.631310946303213,
          2.0562813522226,
          -4.631310946303213,
          -7.654168304490804,
          -4.631310946303213,
          -4.631310946303213,
          13.14160176442738,
          0.27306808301110763,
          -4.631310946303213,
          -4.06889022109711,
          -4.250137765608997,
          -4.631310946303213,
          -4.631310946303213,
          -4.631310946303213,
          -4.631310946303213,
          18.839427914296934,
          4.4272715989058575,
          4.036564781167606,
          -4.631310946303213,
          -4.631310946303213,
          -4.631310946303213,
          -4.631310946303213,
          -4.631310946303213,
          -4.631310946303213,
          1.6309737653044998,
          -4.631310946303213,
          8.860692885000532,
          -3.3492910197644887,
          -4.631310946303213,
          12.391305373932315,
          -7.03807591305603,
          -4.631310946303213,
          4.4272715989058575,
          -4.631310946303213,
          -4.631310946303213,
          -10.454916692481476,
          -4.631310946303213,
          -2.6259177166235492,
          14.517993519576255,
          -4.631310946303213,
          -3.9860429272055575,
          -4.631310946303213,
          -4.631310946303213,
          -4.631310946303213,
          -4.631310946303213,
          1.0934051407932577,
          -10.851025376067213,
          -4.631310946303213,
          5.602567289907268,
          2.4060571049153046,
          16.743163466567413,
          -4.631310946303213,
          -4.631310946303213,
          6.710898418100841,
          2.6347781084564925,
          -3.2803265453192343,
          -4.631310946303213,
          -2.5457781855605432,
          -4.631310946303213,
          5.2165695283186375,
          -6.4195052581949135,
          -4.631310946303213,
          -4.631310946303213,
          -3.4927015747098222,
          12.391305373932315,
          5.248820425145273,
          -6.23569130318039,
          -4.631310946303213,
          4.036564781167606,
          5.1874204047918315,
          -4.631310946303213,
          3.689068755335123,
          9.956051042430003,
          -4.631310946303213,
          -7.903843564408541,
          -4.631310946303213,
          -4.631310946303213,
          -4.631310946303213,
          -4.631310946303213,
          2.058414438363143,
          1.87519840703807,
          -4.631310946303213,
          -4.631310946303213,
          -4.631310946303213,
          -4.631310946303213,
          9.942899715774512,
          0.27306808301110763,
          4.4272715989058575,
          5.1874204047918315,
          -4.631310946303213,
          -2.5187720555599813,
          18.092566577058,
          -4.631310946303213,
          -4.631310946303213,
          -4.551593225729311,
          1.6028179926755648,
          -4.631310946303213,
          -4.631310946303213,
          -10.851025376067213,
          5.1874204047918315,
          -11.775110612943262,
          -4.631310946303213,
          -4.840719512495351,
          -3.3492910197644887,
          2.448826532378323,
          -4.551593225729311,
          -4.631310946303213,
          -4.631310946303213,
          14.517993519576255,
          -4.631310946303213,
          6.156677537765232,
          -10.136973264844462,
          2.6347781084564925,
          -4.631310946303213,
          -4.631310946303213,
          -4.631310946303213,
          -4.631310946303213,
          -4.631310946303213,
          -4.631310946303213,
          -2.617006759420959,
          -4.631310946303213,
          -6.441577004651489,
          -4.631310946303213,
          -4.631310946303213,
          0.27306808301110763,
          -4.631310946303213,
          -4.631310946303213,
          -4.631310946303213,
          12.007421478415893,
          -4.06889022109711,
          -4.250137765608997,
          14.875736079204426,
          -4.631310946303213,
          -4.631310946303213,
          5.1874204047918315,
          -4.631310946303213,
          -1.4314732788958007,
          6.648290382205557,
          5.133830317003141,
          -4.06889022109711,
          -7.479424674779689,
          -4.631310946303213,
          6.44840692454125,
          -4.631310946303213,
          -4.631310946303213,
          -6.4195052581949135,
          1.0934051407932577,
          1.0934051407932577,
          1.0934051407932577,
          -4.631310946303213,
          -4.631310946303213,
          -4.631310946303213,
          -4.631310946303213,
          -2.6259177166235492,
          3.8849111160071947,
          -4.631310946303213,
          -4.631310946303213,
          17.696980785439422,
          -4.631310946303213,
          -6.96844076618004,
          -4.631310946303213,
          -4.631310946303213,
          -4.631310946303213,
          2.4060571049153046,
          3.8849111160071947,
          -4.631310946303213,
          3.089694462404946,
          -4.631310946303213,
          3.8849111160071947,
          -4.631310946303213,
          -11.728832360761409,
          -4.631310946303213,
          4.036564781167606,
          -4.631310946303213,
          2.4344354680024383,
          -1.685154266617983,
          -4.631310946303213,
          -4.988573540664443,
          -4.631310946303213,
          -4.631310946303213,
          -3.2803265453192343,
          -4.631310946303213,
          -4.631310946303213,
          -4.631310946303213,
          -4.631310946303213,
          -4.631310946303213,
          16.171756967231655,
          -6.853427096766785,
          -4.631310946303213,
          5.248820425145273,
          -10.325284365501975,
          0.27306808301110763,
          2.6347781084564925,
          3.363517242166214,
          -4.631310946303213,
          -7.479424674779689,
          -2.617006759420959,
          -4.06889022109711,
          -3.2803265453192343,
          -4.551593225729311,
          3.8849111160071947,
          -3.2803265453192343,
          2.290266354935855,
          -3.2803265453192343,
          -4.631310946303213,
          -1.685154266617983,
          -4.631310946303213,
          -4.631310946303213,
          12.391305373932315,
          -4.06889022109711,
          -3.4927015747098222,
          -4.631310946303213,
          -5.867630106716238,
          4.6611404983194715,
          -4.631310946303213,
          1.0934051407932577,
          5.248820425145273,
          2.4060571049153046,
          -4.631310946303213,
          -10.851025376067213,
          1.7774067971682017,
          7.409108292410971,
          -7.479424674779689,
          -4.631310946303213,
          -4.631310946303213,
          -4.631310946303213,
          -4.631310946303213,
          2.9767903817055297,
          -8.36559223067721,
          -4.631310946303213,
          -5.456174771712819,
          0.27306808301110763,
          5.602567289907268,
          5.248820425145273,
          -4.631310946303213,
          -4.631310946303213,
          -4.631310946303213,
          -4.631310946303213,
          -4.631310946303213,
          -4.631310946303213,
          -4.631310946303213,
          -4.631310946303213,
          -4.631310946303213,
          2.4060571049153046,
          1.0354963219714852,
          -8.74157798662748,
          -3.9860429272055575,
          2.4060571049153046,
          -4.631310946303213,
          5.602567289907268,
          -4.840719512495351,
          -4.631310946303213,
          -4.631310946303213,
          2.4060571049153046,
          -1.685154266617983,
          -4.598986307304898,
          -4.250137765608997,
          18.38493960914105,
          -4.631310946303213,
          -4.840719512495351,
          -3.2803265453192343,
          1.3797206569772014,
          -4.631310946303213,
          -4.631310946303213,
          6.648290382205557,
          -4.631310946303213,
          -4.631310946303213,
          -4.631310946303213,
          5.1874204047918315,
          -4.631310946303213,
          -4.631310946303213,
          -4.631310946303213,
          5.248820425145273,
          -4.631310946303213,
          -4.631310946303213,
          2.4060571049153046,
          -4.06889022109711,
          -4.631310946303213,
          -4.631310946303213,
          3.8849111160071947,
          2.6347781084564925,
          4.050166117710519,
          0.9740420511217707,
          -3.2803265453192343,
          -4.631310946303213,
          -4.631310946303213,
          -4.631310946303213,
          -4.631310946303213,
          -10.112070776916571,
          1.6727021686317567,
          -10.776506651745454,
          -4.460383303872706,
          -4.631310946303213,
          -4.631310946303213,
          -11.306248188480062,
          -2.5457781855605432,
          5.828964027248218,
          -4.631310946303213,
          -4.631310946303213,
          -4.631310946303213,
          -4.631310946303213,
          -3.3492910197644887,
          -4.631310946303213,
          -4.631310946303213,
          -4.631310946303213,
          -4.631310946303213,
          -4.631310946303213,
          12.655832133309586,
          5.248820425145273,
          -7.654168304490804,
          -4.631310946303213,
          2.6347781084564925,
          3.6711262364710784,
          5.248820425145273,
          -13.554664332443023,
          -4.631310946303213,
          2.0910199557558684,
          14.773766187148896,
          -7.654168304490804,
          -13.554664332443023,
          -4.631310946303213,
          3.689068755335123,
          0.27306808301110763,
          -4.631310946303213,
          -4.631310946303213,
          5.602567289907268,
          -9.899138398881702,
          9.942899715774512,
          -13.554664332443023,
          -4.631310946303213,
          -4.631310946303213,
          2.6347781084564925,
          -4.631310946303213,
          -13.554664332443023,
          -2.617006759420959,
          -4.631310946303213,
          -4.631310946303213,
          -9.899138398881702,
          -2.5457781855605432,
          -4.631310946303213,
          -5.78633622685566,
          13.209435825035643,
          -4.631310946303213,
          -4.631310946303213,
          -2.5457781855605432,
          -2.874963746942949,
          -4.631310946303213,
          5.602567289907268,
          -1.685154266617983,
          -4.631310946303213,
          5.248820425145273,
          -4.333033458102675,
          2.6347781084564925,
          -4.631310946303213,
          -3.2803265453192343,
          -4.631310946303213,
          -4.631310946303213,
          -4.631310946303213,
          0.27306808301110763,
          7.096788390401421,
          -4.631310946303213,
          -4.631310946303213,
          16.77826439483654,
          -6.4195052581949135,
          -9.899138398881702,
          1.6028179926755648,
          -4.631310946303213,
          -4.631310946303213,
          2.4060571049153046,
          5.233813125503994,
          -4.631310946303213,
          -4.631310946303213,
          4.036564781167606,
          -5.343665349831794,
          -4.631310946303213,
          -5.842527925176865,
          -4.631310946303213,
          5.1874204047918315,
          -4.631310946303213,
          1.6028179926755648,
          -13.554664332443023,
          -4.631310946303213,
          -4.631310946303213,
          -4.631310946303213,
          6.648290382205557,
          -4.631310946303213,
          3.8849111160071947,
          -4.631310946303213,
          -4.631310946303213,
          -4.631310946303213,
          0.826852612530371,
          -4.631310946303213,
          -4.631310946303213,
          -4.631310946303213,
          8.632288567201641,
          -4.460383303872706,
          -6.393572600179032,
          -4.631310946303213,
          -4.604882750924732,
          1.2893976899563953,
          -3.2803265453192343,
          -4.631310946303213,
          -4.06889022109711,
          -4.631310946303213,
          -4.631310946303213,
          -4.604882750924732,
          -4.631310946303213,
          -4.631310946303213,
          -4.631310946303213,
          -4.631310946303213,
          12.422450809680008,
          -13.209156347804296,
          -4.631310946303213,
          -0.6084683961703252,
          1.6028179926755648,
          4.4272715989058575,
          -4.631310946303213,
          5.248820425145273,
          -3.2803265453192343,
          -4.604882750924732,
          -4.604882750924732,
          -4.631310946303213,
          -4.631310946303213,
          4.036564781167606,
          1.0934051407932577,
          -4.631310946303213,
          -4.631310946303213,
          -4.631310946303213,
          -1.685154266617983,
          10.181632211625825,
          -4.631310946303213,
          -4.631310946303213,
          -4.631310946303213,
          5.602567289907268,
          -4.631310946303213,
          -4.631310946303213,
          5.6180833716264145,
          -4.631310946303213,
          6.648290382205557,
          -4.631310946303213,
          -9.921180083365355,
          16.743163466567413,
          -2.8308382924781883,
          -4.631310946303213,
          -6.853427096766785,
          -4.631310946303213,
          -4.631310946303213,
          -4.631310946303213,
          1.0934051407932577,
          3.8849111160071947,
          -4.631310946303213,
          -1.685154266617983,
          5.030326311818345,
          -4.631310946303213,
          -4.604882750924732,
          -3.2803265453192343,
          -4.631310946303213,
          6.648290382205557,
          -13.554664332443023,
          5.1874204047918315,
          -4.631310946303213,
          -4.631310946303213,
          1.6028179926755648,
          -4.631310946303213,
          -4.631310946303213,
          -4.551593225729311,
          -4.631310946303213,
          -10.851025376067213,
          -4.631310946303213,
          2.6347781084564925,
          -4.631310946303213,
          -1.685154266617983,
          -4.631310946303213,
          -4.631310946303213,
          -4.631310946303213,
          -3.2803265453192343,
          -4.631310946303213,
          -9.899138398881702,
          -4.631310946303213,
          -4.631310946303213,
          -4.631310946303213,
          -4.250137765608997,
          -4.631310946303213,
          -4.631310946303213,
          -4.631310946303213,
          -4.631310946303213,
          -4.631310946303213,
          -4.631310946303213,
          -10.884170424728644,
          -4.631310946303213,
          0.5574183866648985,
          -4.631310946303213,
          -13.554664332443023,
          -4.631310946303213,
          -0.3070522693683353,
          -6.139840463293855,
          -4.631310946303213,
          -4.551593225729311,
          -9.899138398881702,
          -1.685154266617983,
          -4.631310946303213,
          -2.617006759420959,
          -4.631310946303213,
          -13.554664332443023,
          12.391305373932315,
          -3.3492910197644887,
          -4.631310946303213,
          -4.631310946303213,
          3.628685805011367,
          12.391305373932315,
          4.036564781167606,
          -4.631310946303213,
          -4.631310946303213,
          3.3292087503968837,
          15.660932822428864,
          -4.631310946303213,
          -4.840719512495351,
          -6.4195052581949135,
          6.648290382205557,
          -4.631310946303213,
          6.648290382205557,
          -4.631310946303213,
          -6.23569130318039,
          5.248820425145273,
          2.4060571049153046,
          -7.479424674779689,
          -7.576977359744541,
          -4.631310946303213,
          -13.554664332443023,
          -4.631310946303213,
          -1.685154266617983,
          -4.631310946303213,
          -4.631310946303213,
          -2.617006759420959,
          -4.631310946303213,
          -9.899138398881702,
          -13.554664332443023,
          12.391305373932315,
          -4.631310946303213,
          -2.617006759420959,
          -4.604882750924732,
          -10.851025376067213,
          -4.631310946303213,
          -4.631310946303213,
          -4.631310946303213,
          -13.554664332443023,
          -13.554664332443023,
          -4.631310946303213,
          -4.631310946303213,
          -4.551593225729311,
          -4.631310946303213,
          -4.631310946303213,
          0.8644115546418529,
          -4.631310946303213,
          -4.631310946303213,
          0.27306808301110763,
          -12.638254297544204,
          5.017717273813971,
          -4.631310946303213,
          2.5254853627481477,
          -4.631310946303213,
          -4.631310946303213,
          0.27306808301110763,
          -4.631310946303213,
          -4.631310946303213,
          -3.9860429272055575,
          -4.631310946303213,
          6.648290382205557,
          -4.631310946303213,
          -4.761176834419512,
          -4.631310946303213,
          -4.631310946303213,
          0.1898830407636165,
          -4.631310946303213,
          -6.4195052581949135,
          -4.631310946303213,
          -4.631310946303213,
          -9.899138398881702,
          0.3632762314776494,
          -4.631310946303213,
          1.6028179926755648,
          -4.631310946303213,
          3.8849111160071947,
          -4.631310946303213,
          -4.631310946303213,
          -4.631310946303213,
          -4.631310946303213,
          -4.631310946303213,
          -4.604882750924732,
          5.248820425145273,
          -3.419816842915102,
          -2.617006759420959,
          -4.631310946303213,
          -7.479424674779689,
          4.036564781167606,
          -4.631310946303213,
          -4.631310946303213,
          -7.479424674779689,
          -4.631310946303213,
          -4.631310946303213,
          -4.631310946303213,
          -3.9860429272055575,
          -4.631310946303213,
          -4.604882750924732,
          -4.631310946303213,
          -4.631310946303213,
          -4.631310946303213,
          -13.554664332443023,
          -4.604882750924732,
          -4.631310946303213,
          -2.617006759420959,
          -4.631310946303213,
          -4.631310946303213,
          -4.631310946303213,
          -3.2803265453192343,
          -4.631310946303213,
          -4.631310946303213,
          -13.554664332443023,
          -4.631310946303213,
          -4.631310946303213,
          -4.631310946303213,
          -2.5457781855605432,
          -4.631310946303213,
          -4.06889022109711,
          -4.631310946303213,
          -4.631310946303213,
          -4.631310946303213,
          -4.631310946303213,
          3.8849111160071947,
          -9.899138398881702,
          -4.631310946303213,
          -4.250137765608997,
          5.248820425145273,
          -4.631310946303213,
          5.1874204047918315,
          -12.96977204693588,
          -4.631310946303213,
          2.4060571049153046,
          -4.631310946303213,
          -9.899138398881702,
          -4.631310946303213,
          -4.631310946303213,
          -4.631310946303213,
          -4.631310946303213,
          -4.631310946303213,
          -1.685154266617983,
          -0.12096108243024872,
          4.6611404983194715,
          5.602567289907268,
          -19.192419312325026,
          5.248820425145273,
          -3.3492910197644887,
          -1.4314732788958007,
          -2.2277827316256937,
          5.602567289907268,
          -4.631310946303213,
          -4.631310946303213,
          8.054434286534384,
          -4.631310946303213,
          6.710898418100841,
          -6.4195052581949135,
          -4.631310946303213,
          3.8849111160071947,
          2.5254853627481477,
          -4.631310946303213,
          -4.631310946303213,
          -7.654168304490804,
          -4.631310946303213,
          -4.631310946303213,
          5.1874204047918315,
          -4.631310946303213,
          -4.631310946303213,
          1.6028179926755648,
          -4.631310946303213,
          5.602567289907268,
          -4.631310946303213,
          -4.631310946303213,
          -0.38648024923255697,
          6.648290382205557,
          -4.631310946303213,
          4.4272715989058575,
          -6.4195052581949135,
          2.6899480016608246,
          -4.631310946303213,
          -4.631310946303213,
          -4.631310946303213,
          -3.3492910197644887,
          -6.4195052581949135,
          5.1874204047918315,
          -4.631310946303213,
          0.9740420511217707,
          0.27306808301110763,
          -4.631310946303213,
          5.602567289907268,
          -3.5240210536255367,
          -4.631310946303213,
          0.7574178388110697,
          13.306596789785496,
          4.4272715989058575,
          -4.631310946303213,
          -4.631310946303213,
          -4.631310946303213,
          -4.631310946303213,
          -4.631310946303213,
          -4.631310946303213,
          -4.631310946303213,
          -7.928803056068368,
          5.1874204047918315,
          -4.631310946303213,
          1.0934051407932577,
          3.8849111160071947,
          4.869861283339749,
          -7.313541217025743,
          7.902596461172884,
          5.951435363250268,
          -4.631310946303213,
          -4.631310946303213,
          -6.194396428133353,
          -2.617006759420959,
          -4.631310946303213,
          -4.631310946303213,
          -10.851025376067213,
          -4.250137765608997,
          1.6028179926755648,
          -3.9860429272055575,
          -4.631310946303213,
          -4.631310946303213,
          -4.631310946303213,
          -9.109172886175031,
          -4.631310946303213,
          -2.617006759420959,
          -4.631310946303213,
          -4.631310946303213,
          6.476584866593127,
          -4.631310946303213,
          -4.631310946303213,
          -9.899138398881702,
          -4.551593225729311,
          4.869861283339749,
          -6.4195052581949135,
          4.036564781167606,
          4.4975548214788885,
          2.6632198538069973,
          5.1874204047918315,
          -4.631310946303213,
          1.0934051407932577,
          -3.2803265453192343,
          -4.631310946303213,
          5.017717273813971,
          -2.5457781855605432,
          -4.631310946303213,
          -4.631310946303213,
          -9.899138398881702,
          -4.631310946303213,
          12.391305373932315,
          -4.551593225729311,
          2.6347781084564925,
          -4.631310946303213,
          2.2810931257065903,
          1.0934051407932577,
          1.0934051407932577,
          -4.631310946303213,
          -1.685154266617983,
          -6.4195052581949135,
          -4.631310946303213,
          -4.631310946303213,
          5.1874204047918315,
          -4.840719512495351,
          -11.670389990638263,
          -4.631310946303213,
          -4.840719512495351,
          -4.631310946303213,
          -4.631310946303213,
          -4.631310946303213,
          -4.631310946303213,
          -4.631310946303213,
          3.8567322383138425,
          -4.631310946303213,
          -4.631310946303213,
          -4.631310946303213,
          -4.631310946303213,
          -4.631310946303213,
          -4.631310946303213,
          -4.631310946303213,
          -2.617006759420959,
          -3.2803265453192343,
          -4.631310946303213,
          -7.654168304490804,
          -6.4195052581949135,
          -4.631310946303213,
          -4.631310946303213,
          -10.851025376067213,
          -4.631310946303213,
          -4.604882750924732,
          -3.2803265453192343,
          -4.631310946303213,
          -4.631310946303213,
          3.363517242166214,
          -4.631310946303213,
          -4.631310946303213,
          6.648290382205557,
          -4.631310946303213,
          -5.5707941731923505,
          -4.631310946303213,
          -7.479424674779689,
          -0.430331871038403,
          -4.06889022109711,
          5.1874204047918315,
          -4.631310946303213,
          -3.2803265453192343,
          -4.631310946303213,
          -4.631310946303213,
          -4.631310946303213,
          -6.4195052581949135,
          4.036564781167606,
          -9.899138398881702,
          -7.479424674779689,
          5.614785712680637,
          4.4272715989058575,
          -4.631310946303213,
          13.29152042658861,
          6.648290382205557,
          -4.631310946303213,
          -4.631310946303213,
          -4.2795337389157195,
          -4.631310946303213,
          2.8725577227529886,
          -4.631310946303213,
          -4.840719512495351,
          -7.654168304490804,
          -10.851025376067213,
          -3.3492910197644887,
          -3.2803265453192343,
          12.391305373932315,
          2.9564399370790806,
          -2.5457781855605432,
          -3.9860429272055575,
          5.248820425145273,
          -4.631310946303213,
          -4.631310946303213,
          -4.631310946303213,
          2.4060571049153046,
          -10.851025376067213,
          -4.631310946303213,
          -4.631310946303213,
          -4.631310946303213,
          -4.631310946303213,
          4.036564781167606,
          -7.479424674779689,
          1.87519840703807,
          -3.9860429272055575,
          -4.631310946303213,
          -4.631310946303213,
          -4.631310946303213,
          -4.604882750924732,
          -7.654168304490804,
          7.550412962530073,
          5.1874204047918315,
          -4.631310946303213,
          -4.631310946303213,
          -11.046776823829962,
          -4.631310946303213,
          -13.554664332443023
         ],
         "xaxis": "x2",
         "yaxis": "y2"
        }
       ],
       "layout": {
        "barmode": "relative",
        "height": 600,
        "legend": {
         "title": {
          "text": "model_type"
         },
         "tracegroupgap": 0
        },
        "margin": {
         "t": 60
        },
        "template": {
         "data": {
          "bar": [
           {
            "error_x": {
             "color": "#2a3f5f"
            },
            "error_y": {
             "color": "#2a3f5f"
            },
            "marker": {
             "line": {
              "color": "#E5ECF6",
              "width": 0.5
             },
             "pattern": {
              "fillmode": "overlay",
              "size": 10,
              "solidity": 0.2
             }
            },
            "type": "bar"
           }
          ],
          "barpolar": [
           {
            "marker": {
             "line": {
              "color": "#E5ECF6",
              "width": 0.5
             },
             "pattern": {
              "fillmode": "overlay",
              "size": 10,
              "solidity": 0.2
             }
            },
            "type": "barpolar"
           }
          ],
          "carpet": [
           {
            "aaxis": {
             "endlinecolor": "#2a3f5f",
             "gridcolor": "white",
             "linecolor": "white",
             "minorgridcolor": "white",
             "startlinecolor": "#2a3f5f"
            },
            "baxis": {
             "endlinecolor": "#2a3f5f",
             "gridcolor": "white",
             "linecolor": "white",
             "minorgridcolor": "white",
             "startlinecolor": "#2a3f5f"
            },
            "type": "carpet"
           }
          ],
          "choropleth": [
           {
            "colorbar": {
             "outlinewidth": 0,
             "ticks": ""
            },
            "type": "choropleth"
           }
          ],
          "contour": [
           {
            "colorbar": {
             "outlinewidth": 0,
             "ticks": ""
            },
            "colorscale": [
             [
              0,
              "#0d0887"
             ],
             [
              0.1111111111111111,
              "#46039f"
             ],
             [
              0.2222222222222222,
              "#7201a8"
             ],
             [
              0.3333333333333333,
              "#9c179e"
             ],
             [
              0.4444444444444444,
              "#bd3786"
             ],
             [
              0.5555555555555556,
              "#d8576b"
             ],
             [
              0.6666666666666666,
              "#ed7953"
             ],
             [
              0.7777777777777778,
              "#fb9f3a"
             ],
             [
              0.8888888888888888,
              "#fdca26"
             ],
             [
              1,
              "#f0f921"
             ]
            ],
            "type": "contour"
           }
          ],
          "contourcarpet": [
           {
            "colorbar": {
             "outlinewidth": 0,
             "ticks": ""
            },
            "type": "contourcarpet"
           }
          ],
          "heatmap": [
           {
            "colorbar": {
             "outlinewidth": 0,
             "ticks": ""
            },
            "colorscale": [
             [
              0,
              "#0d0887"
             ],
             [
              0.1111111111111111,
              "#46039f"
             ],
             [
              0.2222222222222222,
              "#7201a8"
             ],
             [
              0.3333333333333333,
              "#9c179e"
             ],
             [
              0.4444444444444444,
              "#bd3786"
             ],
             [
              0.5555555555555556,
              "#d8576b"
             ],
             [
              0.6666666666666666,
              "#ed7953"
             ],
             [
              0.7777777777777778,
              "#fb9f3a"
             ],
             [
              0.8888888888888888,
              "#fdca26"
             ],
             [
              1,
              "#f0f921"
             ]
            ],
            "type": "heatmap"
           }
          ],
          "heatmapgl": [
           {
            "colorbar": {
             "outlinewidth": 0,
             "ticks": ""
            },
            "colorscale": [
             [
              0,
              "#0d0887"
             ],
             [
              0.1111111111111111,
              "#46039f"
             ],
             [
              0.2222222222222222,
              "#7201a8"
             ],
             [
              0.3333333333333333,
              "#9c179e"
             ],
             [
              0.4444444444444444,
              "#bd3786"
             ],
             [
              0.5555555555555556,
              "#d8576b"
             ],
             [
              0.6666666666666666,
              "#ed7953"
             ],
             [
              0.7777777777777778,
              "#fb9f3a"
             ],
             [
              0.8888888888888888,
              "#fdca26"
             ],
             [
              1,
              "#f0f921"
             ]
            ],
            "type": "heatmapgl"
           }
          ],
          "histogram": [
           {
            "marker": {
             "pattern": {
              "fillmode": "overlay",
              "size": 10,
              "solidity": 0.2
             }
            },
            "type": "histogram"
           }
          ],
          "histogram2d": [
           {
            "colorbar": {
             "outlinewidth": 0,
             "ticks": ""
            },
            "colorscale": [
             [
              0,
              "#0d0887"
             ],
             [
              0.1111111111111111,
              "#46039f"
             ],
             [
              0.2222222222222222,
              "#7201a8"
             ],
             [
              0.3333333333333333,
              "#9c179e"
             ],
             [
              0.4444444444444444,
              "#bd3786"
             ],
             [
              0.5555555555555556,
              "#d8576b"
             ],
             [
              0.6666666666666666,
              "#ed7953"
             ],
             [
              0.7777777777777778,
              "#fb9f3a"
             ],
             [
              0.8888888888888888,
              "#fdca26"
             ],
             [
              1,
              "#f0f921"
             ]
            ],
            "type": "histogram2d"
           }
          ],
          "histogram2dcontour": [
           {
            "colorbar": {
             "outlinewidth": 0,
             "ticks": ""
            },
            "colorscale": [
             [
              0,
              "#0d0887"
             ],
             [
              0.1111111111111111,
              "#46039f"
             ],
             [
              0.2222222222222222,
              "#7201a8"
             ],
             [
              0.3333333333333333,
              "#9c179e"
             ],
             [
              0.4444444444444444,
              "#bd3786"
             ],
             [
              0.5555555555555556,
              "#d8576b"
             ],
             [
              0.6666666666666666,
              "#ed7953"
             ],
             [
              0.7777777777777778,
              "#fb9f3a"
             ],
             [
              0.8888888888888888,
              "#fdca26"
             ],
             [
              1,
              "#f0f921"
             ]
            ],
            "type": "histogram2dcontour"
           }
          ],
          "mesh3d": [
           {
            "colorbar": {
             "outlinewidth": 0,
             "ticks": ""
            },
            "type": "mesh3d"
           }
          ],
          "parcoords": [
           {
            "line": {
             "colorbar": {
              "outlinewidth": 0,
              "ticks": ""
             }
            },
            "type": "parcoords"
           }
          ],
          "pie": [
           {
            "automargin": true,
            "type": "pie"
           }
          ],
          "scatter": [
           {
            "fillpattern": {
             "fillmode": "overlay",
             "size": 10,
             "solidity": 0.2
            },
            "type": "scatter"
           }
          ],
          "scatter3d": [
           {
            "line": {
             "colorbar": {
              "outlinewidth": 0,
              "ticks": ""
             }
            },
            "marker": {
             "colorbar": {
              "outlinewidth": 0,
              "ticks": ""
             }
            },
            "type": "scatter3d"
           }
          ],
          "scattercarpet": [
           {
            "marker": {
             "colorbar": {
              "outlinewidth": 0,
              "ticks": ""
             }
            },
            "type": "scattercarpet"
           }
          ],
          "scattergeo": [
           {
            "marker": {
             "colorbar": {
              "outlinewidth": 0,
              "ticks": ""
             }
            },
            "type": "scattergeo"
           }
          ],
          "scattergl": [
           {
            "marker": {
             "colorbar": {
              "outlinewidth": 0,
              "ticks": ""
             }
            },
            "type": "scattergl"
           }
          ],
          "scattermapbox": [
           {
            "marker": {
             "colorbar": {
              "outlinewidth": 0,
              "ticks": ""
             }
            },
            "type": "scattermapbox"
           }
          ],
          "scatterpolar": [
           {
            "marker": {
             "colorbar": {
              "outlinewidth": 0,
              "ticks": ""
             }
            },
            "type": "scatterpolar"
           }
          ],
          "scatterpolargl": [
           {
            "marker": {
             "colorbar": {
              "outlinewidth": 0,
              "ticks": ""
             }
            },
            "type": "scatterpolargl"
           }
          ],
          "scatterternary": [
           {
            "marker": {
             "colorbar": {
              "outlinewidth": 0,
              "ticks": ""
             }
            },
            "type": "scatterternary"
           }
          ],
          "surface": [
           {
            "colorbar": {
             "outlinewidth": 0,
             "ticks": ""
            },
            "colorscale": [
             [
              0,
              "#0d0887"
             ],
             [
              0.1111111111111111,
              "#46039f"
             ],
             [
              0.2222222222222222,
              "#7201a8"
             ],
             [
              0.3333333333333333,
              "#9c179e"
             ],
             [
              0.4444444444444444,
              "#bd3786"
             ],
             [
              0.5555555555555556,
              "#d8576b"
             ],
             [
              0.6666666666666666,
              "#ed7953"
             ],
             [
              0.7777777777777778,
              "#fb9f3a"
             ],
             [
              0.8888888888888888,
              "#fdca26"
             ],
             [
              1,
              "#f0f921"
             ]
            ],
            "type": "surface"
           }
          ],
          "table": [
           {
            "cells": {
             "fill": {
              "color": "#EBF0F8"
             },
             "line": {
              "color": "white"
             }
            },
            "header": {
             "fill": {
              "color": "#C8D4E3"
             },
             "line": {
              "color": "white"
             }
            },
            "type": "table"
           }
          ]
         },
         "layout": {
          "annotationdefaults": {
           "arrowcolor": "#2a3f5f",
           "arrowhead": 0,
           "arrowwidth": 1
          },
          "autotypenumbers": "strict",
          "coloraxis": {
           "colorbar": {
            "outlinewidth": 0,
            "ticks": ""
           }
          },
          "colorscale": {
           "diverging": [
            [
             0,
             "#8e0152"
            ],
            [
             0.1,
             "#c51b7d"
            ],
            [
             0.2,
             "#de77ae"
            ],
            [
             0.3,
             "#f1b6da"
            ],
            [
             0.4,
             "#fde0ef"
            ],
            [
             0.5,
             "#f7f7f7"
            ],
            [
             0.6,
             "#e6f5d0"
            ],
            [
             0.7,
             "#b8e186"
            ],
            [
             0.8,
             "#7fbc41"
            ],
            [
             0.9,
             "#4d9221"
            ],
            [
             1,
             "#276419"
            ]
           ],
           "sequential": [
            [
             0,
             "#0d0887"
            ],
            [
             0.1111111111111111,
             "#46039f"
            ],
            [
             0.2222222222222222,
             "#7201a8"
            ],
            [
             0.3333333333333333,
             "#9c179e"
            ],
            [
             0.4444444444444444,
             "#bd3786"
            ],
            [
             0.5555555555555556,
             "#d8576b"
            ],
            [
             0.6666666666666666,
             "#ed7953"
            ],
            [
             0.7777777777777778,
             "#fb9f3a"
            ],
            [
             0.8888888888888888,
             "#fdca26"
            ],
            [
             1,
             "#f0f921"
            ]
           ],
           "sequentialminus": [
            [
             0,
             "#0d0887"
            ],
            [
             0.1111111111111111,
             "#46039f"
            ],
            [
             0.2222222222222222,
             "#7201a8"
            ],
            [
             0.3333333333333333,
             "#9c179e"
            ],
            [
             0.4444444444444444,
             "#bd3786"
            ],
            [
             0.5555555555555556,
             "#d8576b"
            ],
            [
             0.6666666666666666,
             "#ed7953"
            ],
            [
             0.7777777777777778,
             "#fb9f3a"
            ],
            [
             0.8888888888888888,
             "#fdca26"
            ],
            [
             1,
             "#f0f921"
            ]
           ]
          },
          "colorway": [
           "#636efa",
           "#EF553B",
           "#00cc96",
           "#ab63fa",
           "#FFA15A",
           "#19d3f3",
           "#FF6692",
           "#B6E880",
           "#FF97FF",
           "#FECB52"
          ],
          "font": {
           "color": "#2a3f5f"
          },
          "geo": {
           "bgcolor": "white",
           "lakecolor": "white",
           "landcolor": "#E5ECF6",
           "showlakes": true,
           "showland": true,
           "subunitcolor": "white"
          },
          "hoverlabel": {
           "align": "left"
          },
          "hovermode": "closest",
          "mapbox": {
           "style": "light"
          },
          "paper_bgcolor": "white",
          "plot_bgcolor": "#E5ECF6",
          "polar": {
           "angularaxis": {
            "gridcolor": "white",
            "linecolor": "white",
            "ticks": ""
           },
           "bgcolor": "#E5ECF6",
           "radialaxis": {
            "gridcolor": "white",
            "linecolor": "white",
            "ticks": ""
           }
          },
          "scene": {
           "xaxis": {
            "backgroundcolor": "#E5ECF6",
            "gridcolor": "white",
            "gridwidth": 2,
            "linecolor": "white",
            "showbackground": true,
            "ticks": "",
            "zerolinecolor": "white"
           },
           "yaxis": {
            "backgroundcolor": "#E5ECF6",
            "gridcolor": "white",
            "gridwidth": 2,
            "linecolor": "white",
            "showbackground": true,
            "ticks": "",
            "zerolinecolor": "white"
           },
           "zaxis": {
            "backgroundcolor": "#E5ECF6",
            "gridcolor": "white",
            "gridwidth": 2,
            "linecolor": "white",
            "showbackground": true,
            "ticks": "",
            "zerolinecolor": "white"
           }
          },
          "shapedefaults": {
           "line": {
            "color": "#2a3f5f"
           }
          },
          "ternary": {
           "aaxis": {
            "gridcolor": "white",
            "linecolor": "white",
            "ticks": ""
           },
           "baxis": {
            "gridcolor": "white",
            "linecolor": "white",
            "ticks": ""
           },
           "bgcolor": "#E5ECF6",
           "caxis": {
            "gridcolor": "white",
            "linecolor": "white",
            "ticks": ""
           }
          },
          "title": {
           "x": 0.05
          },
          "xaxis": {
           "automargin": true,
           "gridcolor": "white",
           "linecolor": "white",
           "ticks": "",
           "title": {
            "standoff": 15
           },
           "zerolinecolor": "white",
           "zerolinewidth": 2
          },
          "yaxis": {
           "automargin": true,
           "gridcolor": "white",
           "linecolor": "white",
           "ticks": "",
           "title": {
            "standoff": 15
           },
           "zerolinecolor": "white",
           "zerolinewidth": 2
          }
         }
        },
        "width": 800,
        "xaxis": {
         "anchor": "y",
         "domain": [
          0,
          1
         ],
         "title": {
          "text": "fmt_total_profit_percentage"
         }
        },
        "xaxis2": {
         "anchor": "y2",
         "domain": [
          0,
          1
         ],
         "matches": "x",
         "showgrid": true,
         "showticklabels": false
        },
        "yaxis": {
         "anchor": "x",
         "domain": [
          0,
          0.7326
         ],
         "title": {
          "text": "count"
         }
        },
        "yaxis2": {
         "anchor": "x2",
         "domain": [
          0.7426,
          1
         ],
         "matches": "y2",
         "showgrid": false,
         "showline": false,
         "showticklabels": false,
         "ticks": ""
        }
       }
      }
     },
     "metadata": {},
     "output_type": "display_data"
    }
   ],
   "source": [
    "fig = px.histogram(df_trader_results, x=\"fmt_total_profit_percentage\", color=\"model_type\", color_discrete_sequence=[ \"#FF7F0E\", \"#00CC96\", \"#10aded\", \"#8A56EF\"],  width=800, height=600, marginal=\"rug\", # can be `box`, `violin`\n",
    "                         hover_data=['total_reward_cash','fmt_total_profit_percentage', 'num_of_trades', 'sim_id'])\n",
    "fig.show()"
   ]
  },
  {
   "cell_type": "code",
   "execution_count": 29,
   "metadata": {},
   "outputs": [],
   "source": [
    "df_trader_results_stats = df_trader_results.groupby(['model_type'])['fmt_total_profit_percentage'].agg(['median']).reset_index()"
   ]
  },
  {
   "cell_type": "code",
   "execution_count": 30,
   "metadata": {},
   "outputs": [],
   "source": [
    "# i_A2C = np.argmin(np.abs(df_trader_results[df_trader_results['model_type']=='A2C']['fmt_total_profit_percentage'] - df_trader_results_stats[df_trader_results_stats['model_type']=='A2C']['median'].values[0]))\n",
    "# median_sim_id_A2C = df_trader_results[df_trader_results['model_type']=='A2C'].iloc[i_A2C]['sim_id']\n",
    "\n",
    "# i_PPO = np.argmin(np.abs(df_trader_results[df_trader_results['model_type']=='PPO']['fmt_total_profit_percentage'] - df_trader_results_stats[df_trader_results_stats['model_type']=='PPO']['median'].values[0]))\n",
    "# median_sim_id_PPO = df_trader_results[df_trader_results['model_type']=='PPO'].iloc[i_PPO]['sim_id']\n",
    "\n",
    "i_DQN = np.argmin(np.abs(df_trader_results[df_trader_results['model_type']=='DQN']['fmt_total_profit_percentage'] - df_trader_results_stats[df_trader_results_stats['model_type']=='DQN']['median'].values[0]))\n",
    "median_sim_id_DQN = df_trader_results[df_trader_results['model_type']=='DQN'].iloc[i_DQN]['sim_id']\n",
    "\n",
    "# i_RANDOM = np.argmin(np.abs(df_trader_results[df_trader_results['model_type']=='RANDOM']['fmt_total_profit_percentage'] - df_trader_results_stats[df_trader_results_stats['model_type']=='RANDOM']['median'].values[0]))\n",
    "# median_sim_id_RANDOM = df_trader_results[df_trader_results['model_type']=='RANDOM'].iloc[i_RANDOM]['sim_id']"
   ]
  },
  {
   "cell_type": "code",
   "execution_count": 31,
   "metadata": {},
   "outputs": [],
   "source": [
    "def get_and_process_trader_robot_actions_and_env_data_one_sim_id(config_file_name_without_extension, sim_id):\n",
    "    try:\n",
    "        \n",
    "        # Get the data\n",
    "        db_address = 'sqlite:///../results/data/db/trader.db'\n",
    "        engine = create_engine(db_address, echo=False)\n",
    "        sqlite_connection = engine.connect()\n",
    "\n",
    "        input_tbl_name = \"tbl_trader_bernardo_robot_actions_and_env\" + \"_\" + config_file_name_without_extension\n",
    "        \n",
    "        sql_command = \"SELECT * FROM \" + input_tbl_name\n",
    "        \n",
    "        sql_append = \" WHERE \" + \"sim_id = \" + str(sim_id)\n",
    "        \n",
    "        sql_command = sql_command + sql_append\n",
    "\n",
    "        df = pd.read_sql(sql_command, sqlite_connection)\n",
    "\n",
    "        sqlite_connection.close()\n",
    "\n",
    "        return df\n",
    "\n",
    "    except Exception as e:\n",
    "        print(e)"
   ]
  },
  {
   "cell_type": "code",
   "execution_count": 32,
   "metadata": {},
   "outputs": [],
   "source": [
    "def plot_robot_actions_all_models(config_file_name_without_extension, sim_id_A2C, sim_id_PPO, sim_id_DQN, sim_id_RANDOM):\n",
    "    \n",
    "    # df_robot_actions_sim_id_A2C = get_and_process_trader_robot_actions_and_env_data_one_sim_id(config_file_name_without_extension, sim_id_A2C)\n",
    "    # df_robot_actions_sim_id_PPO = get_and_process_trader_robot_actions_and_env_data_one_sim_id(config_file_name_without_extension, sim_id_PPO)\n",
    "    df_robot_actions_sim_id_DQN = get_and_process_trader_robot_actions_and_env_data_one_sim_id(config_file_name_without_extension, sim_id_DQN)\n",
    "    # df_robot_actions_sim_id_RANDOM = get_and_process_trader_robot_actions_and_env_data_one_sim_id(config_file_name_without_extension, sim_id_RANDOM)\n",
    "\n",
    "    # df_simulation_sim_id_A2C = df_trader_results[df_trader_results['sim_id'] == sim_id_A2C]\n",
    "    # df_simulation_sim_id_PPO = df_trader_results[df_trader_results['sim_id'] == sim_id_PPO]\n",
    "    df_simulation_sim_id_DQN = df_trader_results[df_trader_results['sim_id'] == sim_id_DQN]\n",
    "    # df_simulation_sim_id_RANDOM = df_trader_results[df_trader_results['sim_id'] == sim_id_RANDOM]\n",
    "\n",
    "    # str_title_A2C = f\"sim_id: {sim_id_A2C} | model_type: {df_simulation_sim_id_A2C.model_type.values[0]} | Total Profit percentage {round(df_simulation_sim_id_A2C.fmt_total_profit_percentage.values[0],2)}%\"\n",
    "    # str_title_PPO = f\"sim_id: {sim_id_PPO} | model_type: {df_simulation_sim_id_PPO.model_type.values[0]} | Total Profit percentage {round(df_simulation_sim_id_PPO.fmt_total_profit_percentage.values[0],2)}%\"\n",
    "    str_title_DQN = f\"sim_id: {sim_id_DQN} | model_type: {df_simulation_sim_id_DQN.model_type.values[0]} | Total Profit percentage {round(df_simulation_sim_id_DQN.fmt_total_profit_percentage.values[0],2)}%\"\n",
    "    # str_title_RANDOM = f\"sim_id: {sim_id_RANDOM} | model_type: {df_simulation_sim_id_RANDOM.model_type.values[0]} | Total Profit percentage {round(df_simulation_sim_id_RANDOM.fmt_total_profit_percentage.values[0],2)}%\"\n",
    "\n",
    "    str_title = \"The median profit percentage results per model\"\n",
    "\n",
    "    fig = make_subplots(rows=4, cols=1, subplot_titles=(\"\", \"\", str_title_DQN, \"\"), shared_xaxes='all', shared_yaxes='all')\n",
    "\n",
    "    # fig.add_trace(go.Scatter(name='Price', x=df_robot_actions_sim_id_A2C[\"dates\"], y=df_robot_actions_sim_id_A2C[\"prices\"], mode='lines', marker_color='#969696', legendgroup = '1'), row=1, col=1)\n",
    "    # fig.add_trace(go.Scatter(name='Long', x=df_robot_actions_sim_id_A2C[df_robot_actions_sim_id_A2C['actions'] == 1]['dates'], y=df_robot_actions_sim_id_A2C[df_robot_actions_sim_id_A2C['actions'] == 1]['prices'], mode='markers', marker_symbol='circle', marker_size=10, marker_color='#228b22', legendgroup = '1'), row=1, col=1)\n",
    "    # fig.add_trace(go.Scatter(name='Short', x=df_robot_actions_sim_id_A2C[df_robot_actions_sim_id_A2C['actions'] == 0]['dates'], y=df_robot_actions_sim_id_A2C[df_robot_actions_sim_id_A2C['actions'] == 0]['prices'], mode='markers', marker_symbol='circle', marker_size=10, marker_color='#c83232', legendgroup = '1'), row=1, col=1)\n",
    "\n",
    "    # fig.add_trace(go.Scatter(name='Price', x=df_robot_actions_sim_id_PPO[\"dates\"], y=df_robot_actions_sim_id_PPO[\"prices\"], mode='lines', marker_color='#969696', legendgroup = '2'), row=2, col=1)\n",
    "    # fig.add_trace(go.Scatter(name='Long', x=df_robot_actions_sim_id_PPO[df_robot_actions_sim_id_PPO['actions'] == 1]['dates'], y=df_robot_actions_sim_id_PPO[df_robot_actions_sim_id_PPO['actions'] == 1]['prices'], mode='markers', marker_symbol='circle', marker_size=10, marker_color='#228b22', legendgroup = '2'), row=2, col=1)\n",
    "    # fig.add_trace(go.Scatter(name='Short', x=df_robot_actions_sim_id_PPO[df_robot_actions_sim_id_PPO['actions'] == 0]['dates'], y=df_robot_actions_sim_id_PPO[df_robot_actions_sim_id_PPO['actions'] == 0]['prices'], mode='markers', marker_symbol='circle', marker_size=10, marker_color='#c83232', legendgroup = '2'), row=2, col=1)\n",
    "\n",
    "    fig.add_trace(go.Scatter(name='Price', x=df_robot_actions_sim_id_DQN[\"dates\"], y=df_robot_actions_sim_id_DQN[\"prices\"], mode='lines', marker_color='#969696', legendgroup = '3'), row=3, col=1)\n",
    "    fig.add_trace(go.Scatter(name='Long', x=df_robot_actions_sim_id_DQN[df_robot_actions_sim_id_DQN['actions'] == 1]['dates'], y=df_robot_actions_sim_id_DQN[df_robot_actions_sim_id_DQN['actions'] == 1]['prices'], mode='markers', marker_symbol='circle', marker_size=10, marker_color='#228b22', legendgroup = '3'), row=3, col=1)\n",
    "    fig.add_trace(go.Scatter(name='Short', x=df_robot_actions_sim_id_DQN[df_robot_actions_sim_id_DQN['actions'] == 0]['dates'], y=df_robot_actions_sim_id_DQN[df_robot_actions_sim_id_DQN['actions'] == 0]['prices'], mode='markers', marker_symbol='circle', marker_size=10, marker_color='#c83232', legendgroup = '3'), row=3, col=1)\n",
    "\n",
    "    # fig.add_trace(go.Scatter(name='Price', x=df_robot_actions_sim_id_RANDOM[\"dates\"], y=df_robot_actions_sim_id_RANDOM[\"prices\"], mode='lines', marker_color='#969696', legendgroup = '4'), row=4, col=1)\n",
    "    # fig.add_trace(go.Scatter(name='Long', x=df_robot_actions_sim_id_RANDOM[df_robot_actions_sim_id_RANDOM['actions'] == 1]['dates'], y=df_robot_actions_sim_id_RANDOM[df_robot_actions_sim_id_RANDOM['actions'] == 1]['prices'], mode='markers', marker_symbol='circle', marker_size=10, marker_color='#228b22', legendgroup = '4'), row=4, col=1)\n",
    "    # fig.add_trace(go.Scatter(name='Short', x=df_robot_actions_sim_id_RANDOM[df_robot_actions_sim_id_RANDOM['actions'] == 0]['dates'], y=df_robot_actions_sim_id_RANDOM[df_robot_actions_sim_id_RANDOM['actions'] == 0]['prices'], mode='markers', marker_symbol='circle', marker_size=10, marker_color='#c83232', legendgroup = '4'), row=4, col=1)\n",
    "\n",
    "    fig.update_xaxes(title_text = \"Dates\", title_standoff = 25)\n",
    "\n",
    "    fig.update_yaxes(title_text = \"\", title_standoff = 25)\n",
    "\n",
    "    fig.update_layout(title=str_title, title_x=0.5, width=1200, height=800, legend_tracegroupgap=125)\n",
    "    fig.show()"
   ]
  },
  {
   "cell_type": "code",
   "execution_count": 33,
   "metadata": {},
   "outputs": [
    {
     "data": {
      "application/vnd.plotly.v1+json": {
       "config": {
        "plotlyServerURL": "https://plot.ly"
       },
       "data": [
        {
         "legendgroup": "3",
         "marker": {
          "color": "#969696"
         },
         "mode": "lines",
         "name": "Price",
         "type": "scatter",
         "x": [
          "2022-12-27 00:00:00.000000",
          "2022-12-28 00:00:00.000000",
          "2022-12-29 00:00:00.000000",
          "2022-12-30 00:00:00.000000",
          "2022-12-31 00:00:00.000000",
          "2023-01-01 00:00:00.000000",
          "2023-01-02 00:00:00.000000",
          "2023-01-03 00:00:00.000000",
          "2023-01-04 00:00:00.000000",
          "2023-01-05 00:00:00.000000",
          "2023-01-06 00:00:00.000000",
          "2023-01-07 00:00:00.000000",
          "2023-01-08 00:00:00.000000",
          "2023-01-09 00:00:00.000000",
          "2023-01-10 00:00:00.000000",
          "2023-01-11 00:00:00.000000",
          "2023-01-12 00:00:00.000000",
          "2023-01-13 00:00:00.000000",
          "2023-01-14 00:00:00.000000",
          "2023-01-15 00:00:00.000000",
          "2023-01-16 00:00:00.000000",
          "2023-01-17 00:00:00.000000",
          "2023-01-18 00:00:00.000000",
          "2023-01-19 00:00:00.000000",
          "2023-01-20 00:00:00.000000",
          "2023-01-21 00:00:00.000000",
          "2023-01-22 00:00:00.000000",
          "2023-01-23 00:00:00.000000",
          "2023-01-24 00:00:00.000000",
          "2023-01-25 00:00:00.000000",
          "2023-01-26 00:00:00.000000",
          "2023-01-27 00:00:00.000000",
          "2023-01-28 00:00:00.000000",
          "2023-01-29 00:00:00.000000",
          "2023-01-30 00:00:00.000000",
          "2023-01-31 00:00:00.000000"
         ],
         "xaxis": "x3",
         "y": [
          16919.39,
          16706.36,
          16547.31,
          16633.47,
          16607.48,
          16542.4,
          16616.75,
          16672.87,
          16675.18,
          16850.36,
          16831.85,
          16950.65,
          16943.57,
          17127.83,
          17178.26,
          17440.66,
          17943.26,
          18846.62,
          19930.01,
          20954.92,
          20871.5,
          21185.65,
          21134.81,
          20677.47,
          21071.59,
          22667.21,
          22783.55,
          22707.88,
          22916.45,
          22632.89,
          23060.94,
          23009.65,
          23074.16,
          23022.6,
          23742.3,
          22826.15
         ],
         "yaxis": "y3"
        },
        {
         "legendgroup": "3",
         "marker": {
          "color": "#228b22",
          "size": 10,
          "symbol": "circle"
         },
         "mode": "markers",
         "name": "Long",
         "type": "scatter",
         "x": [
          "2023-01-07 00:00:00.000000",
          "2023-01-10 00:00:00.000000",
          "2023-01-11 00:00:00.000000",
          "2023-01-12 00:00:00.000000",
          "2023-01-15 00:00:00.000000",
          "2023-01-16 00:00:00.000000",
          "2023-01-17 00:00:00.000000",
          "2023-01-18 00:00:00.000000",
          "2023-01-19 00:00:00.000000",
          "2023-01-20 00:00:00.000000",
          "2023-01-21 00:00:00.000000",
          "2023-01-22 00:00:00.000000",
          "2023-01-23 00:00:00.000000",
          "2023-01-24 00:00:00.000000",
          "2023-01-25 00:00:00.000000",
          "2023-01-26 00:00:00.000000",
          "2023-01-27 00:00:00.000000",
          "2023-01-28 00:00:00.000000",
          "2023-01-29 00:00:00.000000",
          "2023-01-30 00:00:00.000000",
          "2023-01-31 00:00:00.000000"
         ],
         "xaxis": "x3",
         "y": [
          16950.65,
          17178.26,
          17440.66,
          17943.26,
          20954.92,
          20871.5,
          21185.65,
          21134.81,
          20677.47,
          21071.59,
          22667.21,
          22783.55,
          22707.88,
          22916.45,
          22632.89,
          23060.94,
          23009.65,
          23074.16,
          23022.6,
          23742.3,
          22826.15
         ],
         "yaxis": "y3"
        },
        {
         "legendgroup": "3",
         "marker": {
          "color": "#c83232",
          "size": 10,
          "symbol": "circle"
         },
         "mode": "markers",
         "name": "Short",
         "type": "scatter",
         "x": [
          "2023-01-02 00:00:00.000000",
          "2023-01-03 00:00:00.000000",
          "2023-01-04 00:00:00.000000",
          "2023-01-05 00:00:00.000000",
          "2023-01-06 00:00:00.000000",
          "2023-01-08 00:00:00.000000",
          "2023-01-09 00:00:00.000000",
          "2023-01-13 00:00:00.000000",
          "2023-01-14 00:00:00.000000"
         ],
         "xaxis": "x3",
         "y": [
          16616.75,
          16672.87,
          16675.18,
          16850.36,
          16831.85,
          16943.57,
          17127.83,
          18846.62,
          19930.01
         ],
         "yaxis": "y3"
        }
       ],
       "layout": {
        "annotations": [
         {
          "font": {
           "size": 16
          },
          "showarrow": false,
          "text": "sim_id: 1 | model_type: DQN | Total Profit percentage -4.63%",
          "x": 0.5,
          "xanchor": "center",
          "xref": "paper",
          "y": 0.4375,
          "yanchor": "bottom",
          "yref": "paper"
         }
        ],
        "height": 800,
        "legend": {
         "tracegroupgap": 125
        },
        "template": {
         "data": {
          "bar": [
           {
            "error_x": {
             "color": "#2a3f5f"
            },
            "error_y": {
             "color": "#2a3f5f"
            },
            "marker": {
             "line": {
              "color": "#E5ECF6",
              "width": 0.5
             },
             "pattern": {
              "fillmode": "overlay",
              "size": 10,
              "solidity": 0.2
             }
            },
            "type": "bar"
           }
          ],
          "barpolar": [
           {
            "marker": {
             "line": {
              "color": "#E5ECF6",
              "width": 0.5
             },
             "pattern": {
              "fillmode": "overlay",
              "size": 10,
              "solidity": 0.2
             }
            },
            "type": "barpolar"
           }
          ],
          "carpet": [
           {
            "aaxis": {
             "endlinecolor": "#2a3f5f",
             "gridcolor": "white",
             "linecolor": "white",
             "minorgridcolor": "white",
             "startlinecolor": "#2a3f5f"
            },
            "baxis": {
             "endlinecolor": "#2a3f5f",
             "gridcolor": "white",
             "linecolor": "white",
             "minorgridcolor": "white",
             "startlinecolor": "#2a3f5f"
            },
            "type": "carpet"
           }
          ],
          "choropleth": [
           {
            "colorbar": {
             "outlinewidth": 0,
             "ticks": ""
            },
            "type": "choropleth"
           }
          ],
          "contour": [
           {
            "colorbar": {
             "outlinewidth": 0,
             "ticks": ""
            },
            "colorscale": [
             [
              0,
              "#0d0887"
             ],
             [
              0.1111111111111111,
              "#46039f"
             ],
             [
              0.2222222222222222,
              "#7201a8"
             ],
             [
              0.3333333333333333,
              "#9c179e"
             ],
             [
              0.4444444444444444,
              "#bd3786"
             ],
             [
              0.5555555555555556,
              "#d8576b"
             ],
             [
              0.6666666666666666,
              "#ed7953"
             ],
             [
              0.7777777777777778,
              "#fb9f3a"
             ],
             [
              0.8888888888888888,
              "#fdca26"
             ],
             [
              1,
              "#f0f921"
             ]
            ],
            "type": "contour"
           }
          ],
          "contourcarpet": [
           {
            "colorbar": {
             "outlinewidth": 0,
             "ticks": ""
            },
            "type": "contourcarpet"
           }
          ],
          "heatmap": [
           {
            "colorbar": {
             "outlinewidth": 0,
             "ticks": ""
            },
            "colorscale": [
             [
              0,
              "#0d0887"
             ],
             [
              0.1111111111111111,
              "#46039f"
             ],
             [
              0.2222222222222222,
              "#7201a8"
             ],
             [
              0.3333333333333333,
              "#9c179e"
             ],
             [
              0.4444444444444444,
              "#bd3786"
             ],
             [
              0.5555555555555556,
              "#d8576b"
             ],
             [
              0.6666666666666666,
              "#ed7953"
             ],
             [
              0.7777777777777778,
              "#fb9f3a"
             ],
             [
              0.8888888888888888,
              "#fdca26"
             ],
             [
              1,
              "#f0f921"
             ]
            ],
            "type": "heatmap"
           }
          ],
          "heatmapgl": [
           {
            "colorbar": {
             "outlinewidth": 0,
             "ticks": ""
            },
            "colorscale": [
             [
              0,
              "#0d0887"
             ],
             [
              0.1111111111111111,
              "#46039f"
             ],
             [
              0.2222222222222222,
              "#7201a8"
             ],
             [
              0.3333333333333333,
              "#9c179e"
             ],
             [
              0.4444444444444444,
              "#bd3786"
             ],
             [
              0.5555555555555556,
              "#d8576b"
             ],
             [
              0.6666666666666666,
              "#ed7953"
             ],
             [
              0.7777777777777778,
              "#fb9f3a"
             ],
             [
              0.8888888888888888,
              "#fdca26"
             ],
             [
              1,
              "#f0f921"
             ]
            ],
            "type": "heatmapgl"
           }
          ],
          "histogram": [
           {
            "marker": {
             "pattern": {
              "fillmode": "overlay",
              "size": 10,
              "solidity": 0.2
             }
            },
            "type": "histogram"
           }
          ],
          "histogram2d": [
           {
            "colorbar": {
             "outlinewidth": 0,
             "ticks": ""
            },
            "colorscale": [
             [
              0,
              "#0d0887"
             ],
             [
              0.1111111111111111,
              "#46039f"
             ],
             [
              0.2222222222222222,
              "#7201a8"
             ],
             [
              0.3333333333333333,
              "#9c179e"
             ],
             [
              0.4444444444444444,
              "#bd3786"
             ],
             [
              0.5555555555555556,
              "#d8576b"
             ],
             [
              0.6666666666666666,
              "#ed7953"
             ],
             [
              0.7777777777777778,
              "#fb9f3a"
             ],
             [
              0.8888888888888888,
              "#fdca26"
             ],
             [
              1,
              "#f0f921"
             ]
            ],
            "type": "histogram2d"
           }
          ],
          "histogram2dcontour": [
           {
            "colorbar": {
             "outlinewidth": 0,
             "ticks": ""
            },
            "colorscale": [
             [
              0,
              "#0d0887"
             ],
             [
              0.1111111111111111,
              "#46039f"
             ],
             [
              0.2222222222222222,
              "#7201a8"
             ],
             [
              0.3333333333333333,
              "#9c179e"
             ],
             [
              0.4444444444444444,
              "#bd3786"
             ],
             [
              0.5555555555555556,
              "#d8576b"
             ],
             [
              0.6666666666666666,
              "#ed7953"
             ],
             [
              0.7777777777777778,
              "#fb9f3a"
             ],
             [
              0.8888888888888888,
              "#fdca26"
             ],
             [
              1,
              "#f0f921"
             ]
            ],
            "type": "histogram2dcontour"
           }
          ],
          "mesh3d": [
           {
            "colorbar": {
             "outlinewidth": 0,
             "ticks": ""
            },
            "type": "mesh3d"
           }
          ],
          "parcoords": [
           {
            "line": {
             "colorbar": {
              "outlinewidth": 0,
              "ticks": ""
             }
            },
            "type": "parcoords"
           }
          ],
          "pie": [
           {
            "automargin": true,
            "type": "pie"
           }
          ],
          "scatter": [
           {
            "fillpattern": {
             "fillmode": "overlay",
             "size": 10,
             "solidity": 0.2
            },
            "type": "scatter"
           }
          ],
          "scatter3d": [
           {
            "line": {
             "colorbar": {
              "outlinewidth": 0,
              "ticks": ""
             }
            },
            "marker": {
             "colorbar": {
              "outlinewidth": 0,
              "ticks": ""
             }
            },
            "type": "scatter3d"
           }
          ],
          "scattercarpet": [
           {
            "marker": {
             "colorbar": {
              "outlinewidth": 0,
              "ticks": ""
             }
            },
            "type": "scattercarpet"
           }
          ],
          "scattergeo": [
           {
            "marker": {
             "colorbar": {
              "outlinewidth": 0,
              "ticks": ""
             }
            },
            "type": "scattergeo"
           }
          ],
          "scattergl": [
           {
            "marker": {
             "colorbar": {
              "outlinewidth": 0,
              "ticks": ""
             }
            },
            "type": "scattergl"
           }
          ],
          "scattermapbox": [
           {
            "marker": {
             "colorbar": {
              "outlinewidth": 0,
              "ticks": ""
             }
            },
            "type": "scattermapbox"
           }
          ],
          "scatterpolar": [
           {
            "marker": {
             "colorbar": {
              "outlinewidth": 0,
              "ticks": ""
             }
            },
            "type": "scatterpolar"
           }
          ],
          "scatterpolargl": [
           {
            "marker": {
             "colorbar": {
              "outlinewidth": 0,
              "ticks": ""
             }
            },
            "type": "scatterpolargl"
           }
          ],
          "scatterternary": [
           {
            "marker": {
             "colorbar": {
              "outlinewidth": 0,
              "ticks": ""
             }
            },
            "type": "scatterternary"
           }
          ],
          "surface": [
           {
            "colorbar": {
             "outlinewidth": 0,
             "ticks": ""
            },
            "colorscale": [
             [
              0,
              "#0d0887"
             ],
             [
              0.1111111111111111,
              "#46039f"
             ],
             [
              0.2222222222222222,
              "#7201a8"
             ],
             [
              0.3333333333333333,
              "#9c179e"
             ],
             [
              0.4444444444444444,
              "#bd3786"
             ],
             [
              0.5555555555555556,
              "#d8576b"
             ],
             [
              0.6666666666666666,
              "#ed7953"
             ],
             [
              0.7777777777777778,
              "#fb9f3a"
             ],
             [
              0.8888888888888888,
              "#fdca26"
             ],
             [
              1,
              "#f0f921"
             ]
            ],
            "type": "surface"
           }
          ],
          "table": [
           {
            "cells": {
             "fill": {
              "color": "#EBF0F8"
             },
             "line": {
              "color": "white"
             }
            },
            "header": {
             "fill": {
              "color": "#C8D4E3"
             },
             "line": {
              "color": "white"
             }
            },
            "type": "table"
           }
          ]
         },
         "layout": {
          "annotationdefaults": {
           "arrowcolor": "#2a3f5f",
           "arrowhead": 0,
           "arrowwidth": 1
          },
          "autotypenumbers": "strict",
          "coloraxis": {
           "colorbar": {
            "outlinewidth": 0,
            "ticks": ""
           }
          },
          "colorscale": {
           "diverging": [
            [
             0,
             "#8e0152"
            ],
            [
             0.1,
             "#c51b7d"
            ],
            [
             0.2,
             "#de77ae"
            ],
            [
             0.3,
             "#f1b6da"
            ],
            [
             0.4,
             "#fde0ef"
            ],
            [
             0.5,
             "#f7f7f7"
            ],
            [
             0.6,
             "#e6f5d0"
            ],
            [
             0.7,
             "#b8e186"
            ],
            [
             0.8,
             "#7fbc41"
            ],
            [
             0.9,
             "#4d9221"
            ],
            [
             1,
             "#276419"
            ]
           ],
           "sequential": [
            [
             0,
             "#0d0887"
            ],
            [
             0.1111111111111111,
             "#46039f"
            ],
            [
             0.2222222222222222,
             "#7201a8"
            ],
            [
             0.3333333333333333,
             "#9c179e"
            ],
            [
             0.4444444444444444,
             "#bd3786"
            ],
            [
             0.5555555555555556,
             "#d8576b"
            ],
            [
             0.6666666666666666,
             "#ed7953"
            ],
            [
             0.7777777777777778,
             "#fb9f3a"
            ],
            [
             0.8888888888888888,
             "#fdca26"
            ],
            [
             1,
             "#f0f921"
            ]
           ],
           "sequentialminus": [
            [
             0,
             "#0d0887"
            ],
            [
             0.1111111111111111,
             "#46039f"
            ],
            [
             0.2222222222222222,
             "#7201a8"
            ],
            [
             0.3333333333333333,
             "#9c179e"
            ],
            [
             0.4444444444444444,
             "#bd3786"
            ],
            [
             0.5555555555555556,
             "#d8576b"
            ],
            [
             0.6666666666666666,
             "#ed7953"
            ],
            [
             0.7777777777777778,
             "#fb9f3a"
            ],
            [
             0.8888888888888888,
             "#fdca26"
            ],
            [
             1,
             "#f0f921"
            ]
           ]
          },
          "colorway": [
           "#636efa",
           "#EF553B",
           "#00cc96",
           "#ab63fa",
           "#FFA15A",
           "#19d3f3",
           "#FF6692",
           "#B6E880",
           "#FF97FF",
           "#FECB52"
          ],
          "font": {
           "color": "#2a3f5f"
          },
          "geo": {
           "bgcolor": "white",
           "lakecolor": "white",
           "landcolor": "#E5ECF6",
           "showlakes": true,
           "showland": true,
           "subunitcolor": "white"
          },
          "hoverlabel": {
           "align": "left"
          },
          "hovermode": "closest",
          "mapbox": {
           "style": "light"
          },
          "paper_bgcolor": "white",
          "plot_bgcolor": "#E5ECF6",
          "polar": {
           "angularaxis": {
            "gridcolor": "white",
            "linecolor": "white",
            "ticks": ""
           },
           "bgcolor": "#E5ECF6",
           "radialaxis": {
            "gridcolor": "white",
            "linecolor": "white",
            "ticks": ""
           }
          },
          "scene": {
           "xaxis": {
            "backgroundcolor": "#E5ECF6",
            "gridcolor": "white",
            "gridwidth": 2,
            "linecolor": "white",
            "showbackground": true,
            "ticks": "",
            "zerolinecolor": "white"
           },
           "yaxis": {
            "backgroundcolor": "#E5ECF6",
            "gridcolor": "white",
            "gridwidth": 2,
            "linecolor": "white",
            "showbackground": true,
            "ticks": "",
            "zerolinecolor": "white"
           },
           "zaxis": {
            "backgroundcolor": "#E5ECF6",
            "gridcolor": "white",
            "gridwidth": 2,
            "linecolor": "white",
            "showbackground": true,
            "ticks": "",
            "zerolinecolor": "white"
           }
          },
          "shapedefaults": {
           "line": {
            "color": "#2a3f5f"
           }
          },
          "ternary": {
           "aaxis": {
            "gridcolor": "white",
            "linecolor": "white",
            "ticks": ""
           },
           "baxis": {
            "gridcolor": "white",
            "linecolor": "white",
            "ticks": ""
           },
           "bgcolor": "#E5ECF6",
           "caxis": {
            "gridcolor": "white",
            "linecolor": "white",
            "ticks": ""
           }
          },
          "title": {
           "x": 0.05
          },
          "xaxis": {
           "automargin": true,
           "gridcolor": "white",
           "linecolor": "white",
           "ticks": "",
           "title": {
            "standoff": 15
           },
           "zerolinecolor": "white",
           "zerolinewidth": 2
          },
          "yaxis": {
           "automargin": true,
           "gridcolor": "white",
           "linecolor": "white",
           "ticks": "",
           "title": {
            "standoff": 15
           },
           "zerolinecolor": "white",
           "zerolinewidth": 2
          }
         }
        },
        "title": {
         "text": "The median profit percentage results per model",
         "x": 0.5
        },
        "width": 1200,
        "xaxis": {
         "anchor": "y",
         "domain": [
          0,
          1
         ],
         "matches": "x4",
         "showticklabels": false,
         "title": {
          "standoff": 25,
          "text": "Dates"
         }
        },
        "xaxis2": {
         "anchor": "y2",
         "domain": [
          0,
          1
         ],
         "matches": "x4",
         "showticklabels": false,
         "title": {
          "standoff": 25,
          "text": "Dates"
         }
        },
        "xaxis3": {
         "anchor": "y3",
         "domain": [
          0,
          1
         ],
         "matches": "x4",
         "showticklabels": false,
         "title": {
          "standoff": 25,
          "text": "Dates"
         }
        },
        "xaxis4": {
         "anchor": "y4",
         "domain": [
          0,
          1
         ],
         "title": {
          "standoff": 25,
          "text": "Dates"
         }
        },
        "yaxis": {
         "anchor": "x",
         "domain": [
          0.84375,
          1
         ],
         "matches": "y4",
         "title": {
          "standoff": 25,
          "text": ""
         }
        },
        "yaxis2": {
         "anchor": "x2",
         "domain": [
          0.5625,
          0.71875
         ],
         "matches": "y4",
         "title": {
          "standoff": 25,
          "text": ""
         }
        },
        "yaxis3": {
         "anchor": "x3",
         "domain": [
          0.28125,
          0.4375
         ],
         "matches": "y4",
         "title": {
          "standoff": 25,
          "text": ""
         }
        },
        "yaxis4": {
         "anchor": "x4",
         "domain": [
          0,
          0.15625
         ],
         "title": {
          "standoff": 25,
          "text": ""
         }
        }
       }
      }
     },
     "metadata": {},
     "output_type": "display_data"
    }
   ],
   "source": [
    "plot_robot_actions_all_models(config_file_name_without_extension, \"\", \"\", median_sim_id_DQN, \"\")"
   ]
  },
  {
   "cell_type": "code",
   "execution_count": 34,
   "metadata": {},
   "outputs": [],
   "source": [
    "def get_and_process_trader_robot_actions_and_env_data_all_sim_id(config_file_name_without_extension):\n",
    "    try:\n",
    "        \n",
    "        # Get the data\n",
    "        db_address = 'sqlite:///../results/data/db/trader.db'\n",
    "        engine = create_engine(db_address, echo=False)\n",
    "        sqlite_connection = engine.connect()\n",
    "\n",
    "        input_tbl_name = \"tbl_trader_bernardo_robot_actions_and_env\" + \"_\" + config_file_name_without_extension\n",
    "        \n",
    "        sql_command = \"SELECT * FROM \" + input_tbl_name + \" AS t1 \"\n",
    "        \n",
    "        sql_append = \"LEFT JOIN (SELECT sim_id, model_type FROM tbl_trader_bernardo_simulation_results_config_03a_mix_infer) AS t2 ON t1.sim_id = t2.sim_id\"\n",
    "        \n",
    "        sql_command = sql_command + sql_append\n",
    "\n",
    "        df = pd.read_sql(sql_command, sqlite_connection)\n",
    "\n",
    "        sqlite_connection.close()\n",
    "\n",
    "        return df\n",
    "\n",
    "    except Exception as e:\n",
    "        print(e)"
   ]
  },
  {
   "cell_type": "code",
   "execution_count": 35,
   "metadata": {},
   "outputs": [],
   "source": [
    "def plot_trader_robot_actions_all_sim_id_all_models(config_file_name_without_extension, sim_id_A2C, sim_id_PPO, sim_id_DQN, sim_id_RANDOM):\n",
    "    \n",
    "    df_robot_actions_and_env_all_sim_id = get_and_process_trader_robot_actions_and_env_data_all_sim_id(config_file_name_without_extension)\n",
    "\n",
    "    # df_robot_actions_and_env_all_sim_id_A2C = df_robot_actions_and_env_all_sim_id[df_robot_actions_and_env_all_sim_id['model_type'] == 'A2C']\n",
    "    # df_robot_actions_and_env_all_sim_id_PPO = df_robot_actions_and_env_all_sim_id[df_robot_actions_and_env_all_sim_id['model_type'] == 'PPO']\n",
    "    df_robot_actions_and_env_all_sim_id_DQN = df_robot_actions_and_env_all_sim_id[df_robot_actions_and_env_all_sim_id['model_type'] == 'DQN']\n",
    "    # df_robot_actions_and_env_all_sim_id_RANDOM = df_robot_actions_and_env_all_sim_id[df_robot_actions_and_env_all_sim_id['model_type'] == 'RANDOM']    \n",
    "\n",
    "    # df_model_type_action_count_A2C = df_robot_actions_and_env_all_sim_id_A2C.assign(val=1).pivot_table(values='val', index=['dates'], columns=['model_type', 'actions'], aggfunc='count').stack(0).reset_index()\n",
    "    # df_model_type_action_count_A2C.rename(columns = {0.0:'action_short_count', 1.0:'action_long_count'}, inplace = True)\n",
    "\n",
    "    # df_model_type_action_count_PPO = df_robot_actions_and_env_all_sim_id_PPO.assign(val=1).pivot_table(values='val', index=['dates'], columns=['model_type', 'actions'], aggfunc='count').stack(0).reset_index()\n",
    "    # df_model_type_action_count_PPO.rename(columns = {0.0:'action_short_count', 1.0:'action_long_count'}, inplace = True)\n",
    "\n",
    "    df_model_type_action_count_DQN = df_robot_actions_and_env_all_sim_id_DQN.assign(val=1).pivot_table(values='val', index=['dates'], columns=['model_type', 'actions'], aggfunc='count').stack(0).reset_index()\n",
    "    df_model_type_action_count_DQN.rename(columns = {0.0:'action_short_count', 1.0:'action_long_count'}, inplace = True)\n",
    "\n",
    "    # df_model_type_action_count_RANDOM = df_robot_actions_and_env_all_sim_id_RANDOM.assign(val=1).pivot_table(values='val', index=['dates'], columns=['model_type', 'actions'], aggfunc='count').stack(0).reset_index()\n",
    "    # df_model_type_action_count_RANDOM.rename(columns = {0.0:'action_short_count', 1.0:'action_long_count'}, inplace = True)        \n",
    "\n",
    "    # df_robot_actions_sim_id_A2C = get_and_process_trader_robot_actions_and_env_data_one_sim_id(config_file_name_without_extension, sim_id_A2C)\n",
    "    # df_robot_actions_sim_id_PPO = get_and_process_trader_robot_actions_and_env_data_one_sim_id(config_file_name_without_extension, sim_id_PPO)\n",
    "    df_robot_actions_sim_id_DQN = get_and_process_trader_robot_actions_and_env_data_one_sim_id(config_file_name_without_extension, sim_id_DQN)\n",
    "    # df_robot_actions_sim_id_RANDOM = get_and_process_trader_robot_actions_and_env_data_one_sim_id(config_file_name_without_extension, sim_id_RANDOM)\n",
    "\n",
    "    # df_simulation_sim_id_A2C = df_trader_results[df_trader_results['sim_id'] == sim_id_A2C]\n",
    "    # df_simulation_sim_id_PPO = df_trader_results[df_trader_results['sim_id'] == sim_id_PPO]\n",
    "    df_simulation_sim_id_DQN = df_trader_results[df_trader_results['sim_id'] == sim_id_DQN]\n",
    "    # df_simulation_sim_id_RANDOM = df_trader_results[df_trader_results['sim_id'] == sim_id_RANDOM]\n",
    "\n",
    "    # str_title_A2C = f\"Median sim_id: {sim_id_A2C} | model_type: {df_simulation_sim_id_A2C.model_type.values[0]} | Total Profit percentage {round(df_simulation_sim_id_A2C.fmt_total_profit_percentage.values[0],2)}%\"\n",
    "    # str_title_PPO = f\"Median sim_id: {sim_id_PPO} | model_type: {df_simulation_sim_id_PPO.model_type.values[0]} | Total Profit percentage {round(df_simulation_sim_id_PPO.fmt_total_profit_percentage.values[0],2)}%\"\n",
    "    str_title_DQN = f\"Median sim_id: {sim_id_DQN} | model_type: {df_simulation_sim_id_DQN.model_type.values[0]} | Total Profit percentage {round(df_simulation_sim_id_DQN.fmt_total_profit_percentage.values[0],2)}%\"\n",
    "    # str_title_RANDOM = f\"Median sim_id: {sim_id_RANDOM} | model_type: {df_simulation_sim_id_RANDOM.model_type.values[0]} | Total Profit percentage {round(df_simulation_sim_id_RANDOM.fmt_total_profit_percentage.values[0],2)}%\"\n",
    "\n",
    "    str_title = f\"Median Total Profit Results x Overall view of actions (across all the simulations)\"\n",
    "\n",
    "    fig = make_subplots(rows=4, cols=1, subplot_titles=(\"\", \"\", str_title_DQN, \"\"), shared_xaxes='all', shared_yaxes='all', specs=[[{\"secondary_y\": True}], [{\"secondary_y\": True}], [{\"secondary_y\": True}], [{\"secondary_y\": True}]]) \n",
    "\n",
    "    # fig.add_trace(go.Scatter(name='Price', x=df_robot_actions_sim_id_A2C[\"dates\"], y=df_robot_actions_sim_id_A2C[\"prices\"], mode='lines', marker_color='#969696', legendgroup = '1'), row=1, col=1, secondary_y=True)\n",
    "    # fig.add_trace(go.Scatter(name='Long', x=df_robot_actions_sim_id_A2C[df_robot_actions_sim_id_A2C['actions'] == 1]['dates'], y=df_robot_actions_sim_id_A2C[df_robot_actions_sim_id_A2C['actions'] == 1]['prices'], mode='markers', marker_symbol='circle', marker_size=10, marker_color='#228b22', legendgroup = '1'), row=1, col=1, secondary_y=True)\n",
    "    # fig.add_trace(go.Scatter(name='Short', x=df_robot_actions_sim_id_A2C[df_robot_actions_sim_id_A2C['actions'] == 0]['dates'], y=df_robot_actions_sim_id_A2C[df_robot_actions_sim_id_A2C['actions'] == 0]['prices'], mode='markers', marker_symbol='circle', marker_size=10, marker_color='#c83232', legendgroup = '1'), row=1, col=1, secondary_y=True)\n",
    "\n",
    "    # fig.add_trace(go.Bar(x=df_model_type_action_count_A2C['dates'], y=df_model_type_action_count_A2C['action_long_count'], name='Long', marker_color=' #b3ffb3', legendgroup = '1'), row=1, col=1, secondary_y=False)\n",
    "    # fig.add_trace(go.Bar(x=df_model_type_action_count_A2C['dates'], y=df_model_type_action_count_A2C['action_short_count'], name='Short', marker_color='#ffb2b2', legendgroup = '1'), row=1, col=1, secondary_y=False)\n",
    "\n",
    "    # fig.add_trace(go.Scatter(name='Price', x=df_robot_actions_sim_id_PPO[\"dates\"], y=df_robot_actions_sim_id_PPO[\"prices\"], mode='lines', marker_color='#969696', legendgroup = '2'), row=2, col=1, secondary_y=True)\n",
    "    # fig.add_trace(go.Scatter(name='Long', x=df_robot_actions_sim_id_PPO[df_robot_actions_sim_id_PPO['actions'] == 1]['dates'], y=df_robot_actions_sim_id_PPO[df_robot_actions_sim_id_PPO['actions'] == 1]['prices'], mode='markers', marker_symbol='circle', marker_size=10, marker_color='#228b22', legendgroup = '2'), row=2, col=1, secondary_y=True)\n",
    "    # fig.add_trace(go.Scatter(name='Short', x=df_robot_actions_sim_id_PPO[df_robot_actions_sim_id_PPO['actions'] == 0]['dates'], y=df_robot_actions_sim_id_PPO[df_robot_actions_sim_id_PPO['actions'] == 0]['prices'], mode='markers', marker_symbol='circle', marker_size=10, marker_color='#c83232', legendgroup = '2'), row=2, col=1, secondary_y=True)\n",
    "\n",
    "    # fig.add_trace(go.Bar(x=df_model_type_action_count_PPO['dates'], y=df_model_type_action_count_PPO['action_long_count'], name='Long', marker_color=' #b3ffb3', legendgroup = '2'), row=2, col=1, secondary_y=False)\n",
    "    # fig.add_trace(go.Bar(x=df_model_type_action_count_PPO['dates'], y=df_model_type_action_count_PPO['action_short_count'], name='Short', marker_color='#ffb2b2', legendgroup = '2'), row=2, col=1, secondary_y=False)\n",
    "\n",
    "    fig.add_trace(go.Scatter(name='Price', x=df_robot_actions_sim_id_DQN[\"dates\"], y=df_robot_actions_sim_id_DQN[\"prices\"], mode='lines', marker_color='#969696', legendgroup = '3'), row=3, col=1, secondary_y=True)\n",
    "    fig.add_trace(go.Scatter(name='Long', x=df_robot_actions_sim_id_DQN[df_robot_actions_sim_id_DQN['actions'] == 1]['dates'], y=df_robot_actions_sim_id_DQN[df_robot_actions_sim_id_DQN['actions'] == 1]['prices'], mode='markers', marker_symbol='circle', marker_size=10, marker_color='#228b22', legendgroup = '3'), row=3, col=1, secondary_y=True)\n",
    "    fig.add_trace(go.Scatter(name='Short', x=df_robot_actions_sim_id_DQN[df_robot_actions_sim_id_DQN['actions'] == 0]['dates'], y=df_robot_actions_sim_id_DQN[df_robot_actions_sim_id_DQN['actions'] == 0]['prices'], mode='markers', marker_symbol='circle', marker_size=10, marker_color='#c83232', legendgroup = '3'), row=3, col=1, secondary_y=True)\n",
    "\n",
    "    fig.add_trace(go.Bar(x=df_model_type_action_count_DQN['dates'], y=df_model_type_action_count_DQN['action_long_count'], name='Long', marker_color=' #b3ffb3', legendgroup = '3'), row=3, col=1, secondary_y=False)\n",
    "    fig.add_trace(go.Bar(x=df_model_type_action_count_DQN['dates'], y=df_model_type_action_count_DQN['action_short_count'], name='Short', marker_color='#ffb2b2', legendgroup = '3'), row=3, col=1, secondary_y=False)\n",
    "\n",
    "    # fig.add_trace(go.Scatter(name='Price', x=df_robot_actions_sim_id_RANDOM[\"dates\"], y=df_robot_actions_sim_id_RANDOM[\"prices\"], mode='lines', marker_color='#969696', legendgroup = '4'), row=4, col=1, secondary_y=True)\n",
    "    # fig.add_trace(go.Scatter(name='Long', x=df_robot_actions_sim_id_RANDOM[df_robot_actions_sim_id_RANDOM['actions'] == 1]['dates'], y=df_robot_actions_sim_id_RANDOM[df_robot_actions_sim_id_RANDOM['actions'] == 1]['prices'], mode='markers', marker_symbol='circle', marker_size=10, marker_color='#228b22', legendgroup = '4'), row=4, col=1, secondary_y=True)\n",
    "    # fig.add_trace(go.Scatter(name='Short', x=df_robot_actions_sim_id_RANDOM[df_robot_actions_sim_id_RANDOM['actions'] == 0]['dates'], y=df_robot_actions_sim_id_RANDOM[df_robot_actions_sim_id_RANDOM['actions'] == 0]['prices'], mode='markers', marker_symbol='circle', marker_size=10, marker_color='#c83232', legendgroup = '4'), row=4, col=1, secondary_y=True)\n",
    "\n",
    "    # fig.add_trace(go.Bar(x=df_model_type_action_count_RANDOM['dates'], y=df_model_type_action_count_RANDOM['action_long_count'], name='Long', marker_color=' #b3ffb3', legendgroup = '4'), row=4, col=1, secondary_y=False)\n",
    "    # fig.add_trace(go.Bar(x=df_model_type_action_count_RANDOM['dates'], y=df_model_type_action_count_RANDOM['action_short_count'], name='Short', marker_color='#ffb2b2', legendgroup = '4'), row=4, col=1, secondary_y=False)\n",
    "\n",
    "    fig.update_yaxes(title_text=\"Proportion of trades<br>across all the simulations\", secondary_y=False)\n",
    "    fig.update_yaxes(title_text=f\"CCY level with the<br>sim_id actions related\", secondary_y=True)\n",
    "\n",
    "    fig.update_layout(barmode='stack', xaxis={'categoryorder':'category ascending'}, title=str_title, title_x=0.5, width=1200, height=800, legend_tracegroupgap=82, font={'size': 8})\n",
    "\n",
    "    fig.show()    "
   ]
  },
  {
   "cell_type": "code",
   "execution_count": 36,
   "metadata": {},
   "outputs": [
    {
     "data": {
      "application/vnd.plotly.v1+json": {
       "config": {
        "plotlyServerURL": "https://plot.ly"
       },
       "data": [
        {
         "legendgroup": "3",
         "marker": {
          "color": "#969696"
         },
         "mode": "lines",
         "name": "Price",
         "type": "scatter",
         "x": [
          "2022-12-27 00:00:00.000000",
          "2022-12-28 00:00:00.000000",
          "2022-12-29 00:00:00.000000",
          "2022-12-30 00:00:00.000000",
          "2022-12-31 00:00:00.000000",
          "2023-01-01 00:00:00.000000",
          "2023-01-02 00:00:00.000000",
          "2023-01-03 00:00:00.000000",
          "2023-01-04 00:00:00.000000",
          "2023-01-05 00:00:00.000000",
          "2023-01-06 00:00:00.000000",
          "2023-01-07 00:00:00.000000",
          "2023-01-08 00:00:00.000000",
          "2023-01-09 00:00:00.000000",
          "2023-01-10 00:00:00.000000",
          "2023-01-11 00:00:00.000000",
          "2023-01-12 00:00:00.000000",
          "2023-01-13 00:00:00.000000",
          "2023-01-14 00:00:00.000000",
          "2023-01-15 00:00:00.000000",
          "2023-01-16 00:00:00.000000",
          "2023-01-17 00:00:00.000000",
          "2023-01-18 00:00:00.000000",
          "2023-01-19 00:00:00.000000",
          "2023-01-20 00:00:00.000000",
          "2023-01-21 00:00:00.000000",
          "2023-01-22 00:00:00.000000",
          "2023-01-23 00:00:00.000000",
          "2023-01-24 00:00:00.000000",
          "2023-01-25 00:00:00.000000",
          "2023-01-26 00:00:00.000000",
          "2023-01-27 00:00:00.000000",
          "2023-01-28 00:00:00.000000",
          "2023-01-29 00:00:00.000000",
          "2023-01-30 00:00:00.000000",
          "2023-01-31 00:00:00.000000"
         ],
         "xaxis": "x3",
         "y": [
          16919.39,
          16706.36,
          16547.31,
          16633.47,
          16607.48,
          16542.4,
          16616.75,
          16672.87,
          16675.18,
          16850.36,
          16831.85,
          16950.65,
          16943.57,
          17127.83,
          17178.26,
          17440.66,
          17943.26,
          18846.62,
          19930.01,
          20954.92,
          20871.5,
          21185.65,
          21134.81,
          20677.47,
          21071.59,
          22667.21,
          22783.55,
          22707.88,
          22916.45,
          22632.89,
          23060.94,
          23009.65,
          23074.16,
          23022.6,
          23742.3,
          22826.15
         ],
         "yaxis": "y6"
        },
        {
         "legendgroup": "3",
         "marker": {
          "color": "#228b22",
          "size": 10,
          "symbol": "circle"
         },
         "mode": "markers",
         "name": "Long",
         "type": "scatter",
         "x": [
          "2023-01-07 00:00:00.000000",
          "2023-01-10 00:00:00.000000",
          "2023-01-11 00:00:00.000000",
          "2023-01-12 00:00:00.000000",
          "2023-01-15 00:00:00.000000",
          "2023-01-16 00:00:00.000000",
          "2023-01-17 00:00:00.000000",
          "2023-01-18 00:00:00.000000",
          "2023-01-19 00:00:00.000000",
          "2023-01-20 00:00:00.000000",
          "2023-01-21 00:00:00.000000",
          "2023-01-22 00:00:00.000000",
          "2023-01-23 00:00:00.000000",
          "2023-01-24 00:00:00.000000",
          "2023-01-25 00:00:00.000000",
          "2023-01-26 00:00:00.000000",
          "2023-01-27 00:00:00.000000",
          "2023-01-28 00:00:00.000000",
          "2023-01-29 00:00:00.000000",
          "2023-01-30 00:00:00.000000",
          "2023-01-31 00:00:00.000000"
         ],
         "xaxis": "x3",
         "y": [
          16950.65,
          17178.26,
          17440.66,
          17943.26,
          20954.92,
          20871.5,
          21185.65,
          21134.81,
          20677.47,
          21071.59,
          22667.21,
          22783.55,
          22707.88,
          22916.45,
          22632.89,
          23060.94,
          23009.65,
          23074.16,
          23022.6,
          23742.3,
          22826.15
         ],
         "yaxis": "y6"
        },
        {
         "legendgroup": "3",
         "marker": {
          "color": "#c83232",
          "size": 10,
          "symbol": "circle"
         },
         "mode": "markers",
         "name": "Short",
         "type": "scatter",
         "x": [
          "2023-01-02 00:00:00.000000",
          "2023-01-03 00:00:00.000000",
          "2023-01-04 00:00:00.000000",
          "2023-01-05 00:00:00.000000",
          "2023-01-06 00:00:00.000000",
          "2023-01-08 00:00:00.000000",
          "2023-01-09 00:00:00.000000",
          "2023-01-13 00:00:00.000000",
          "2023-01-14 00:00:00.000000"
         ],
         "xaxis": "x3",
         "y": [
          16616.75,
          16672.87,
          16675.18,
          16850.36,
          16831.85,
          16943.57,
          17127.83,
          18846.62,
          19930.01
         ],
         "yaxis": "y6"
        },
        {
         "legendgroup": "3",
         "marker": {
          "color": " #b3ffb3"
         },
         "name": "Long",
         "type": "bar",
         "x": [
          "2023-01-02 00:00:00.000000",
          "2023-01-03 00:00:00.000000",
          "2023-01-04 00:00:00.000000",
          "2023-01-05 00:00:00.000000",
          "2023-01-06 00:00:00.000000",
          "2023-01-07 00:00:00.000000",
          "2023-01-08 00:00:00.000000",
          "2023-01-09 00:00:00.000000",
          "2023-01-10 00:00:00.000000",
          "2023-01-11 00:00:00.000000",
          "2023-01-12 00:00:00.000000",
          "2023-01-13 00:00:00.000000",
          "2023-01-14 00:00:00.000000",
          "2023-01-15 00:00:00.000000",
          "2023-01-16 00:00:00.000000",
          "2023-01-17 00:00:00.000000",
          "2023-01-18 00:00:00.000000",
          "2023-01-19 00:00:00.000000",
          "2023-01-20 00:00:00.000000",
          "2023-01-21 00:00:00.000000",
          "2023-01-22 00:00:00.000000",
          "2023-01-23 00:00:00.000000",
          "2023-01-24 00:00:00.000000",
          "2023-01-25 00:00:00.000000",
          "2023-01-26 00:00:00.000000",
          "2023-01-27 00:00:00.000000",
          "2023-01-28 00:00:00.000000",
          "2023-01-29 00:00:00.000000",
          "2023-01-30 00:00:00.000000",
          "2023-01-31 00:00:00.000000"
         ],
         "xaxis": "x3",
         "y": [
          23,
          24,
          24,
          28,
          31,
          986,
          23,
          22,
          973,
          980,
          963,
          28,
          23,
          982,
          967,
          983,
          975,
          980,
          974,
          972,
          977,
          971,
          970,
          975,
          968,
          977,
          965,
          973,
          981,
          975
         ],
         "yaxis": "y5"
        },
        {
         "legendgroup": "3",
         "marker": {
          "color": "#ffb2b2"
         },
         "name": "Short",
         "type": "bar",
         "x": [
          "2023-01-02 00:00:00.000000",
          "2023-01-03 00:00:00.000000",
          "2023-01-04 00:00:00.000000",
          "2023-01-05 00:00:00.000000",
          "2023-01-06 00:00:00.000000",
          "2023-01-07 00:00:00.000000",
          "2023-01-08 00:00:00.000000",
          "2023-01-09 00:00:00.000000",
          "2023-01-10 00:00:00.000000",
          "2023-01-11 00:00:00.000000",
          "2023-01-12 00:00:00.000000",
          "2023-01-13 00:00:00.000000",
          "2023-01-14 00:00:00.000000",
          "2023-01-15 00:00:00.000000",
          "2023-01-16 00:00:00.000000",
          "2023-01-17 00:00:00.000000",
          "2023-01-18 00:00:00.000000",
          "2023-01-19 00:00:00.000000",
          "2023-01-20 00:00:00.000000",
          "2023-01-21 00:00:00.000000",
          "2023-01-22 00:00:00.000000",
          "2023-01-23 00:00:00.000000",
          "2023-01-24 00:00:00.000000",
          "2023-01-25 00:00:00.000000",
          "2023-01-26 00:00:00.000000",
          "2023-01-27 00:00:00.000000",
          "2023-01-28 00:00:00.000000",
          "2023-01-29 00:00:00.000000",
          "2023-01-30 00:00:00.000000",
          "2023-01-31 00:00:00.000000"
         ],
         "xaxis": "x3",
         "y": [
          977,
          976,
          976,
          972,
          969,
          14,
          977,
          978,
          27,
          20,
          37,
          972,
          977,
          18,
          33,
          17,
          25,
          20,
          26,
          28,
          23,
          29,
          30,
          25,
          32,
          23,
          35,
          27,
          19,
          25
         ],
         "yaxis": "y5"
        }
       ],
       "layout": {
        "annotations": [
         {
          "font": {
           "size": 16
          },
          "showarrow": false,
          "text": "Median sim_id: 1 | model_type: DQN | Total Profit percentage -4.63%",
          "x": 0.47,
          "xanchor": "center",
          "xref": "paper",
          "y": 0.4375,
          "yanchor": "bottom",
          "yref": "paper"
         }
        ],
        "barmode": "stack",
        "font": {
         "size": 8
        },
        "height": 800,
        "legend": {
         "tracegroupgap": 82
        },
        "template": {
         "data": {
          "bar": [
           {
            "error_x": {
             "color": "#2a3f5f"
            },
            "error_y": {
             "color": "#2a3f5f"
            },
            "marker": {
             "line": {
              "color": "#E5ECF6",
              "width": 0.5
             },
             "pattern": {
              "fillmode": "overlay",
              "size": 10,
              "solidity": 0.2
             }
            },
            "type": "bar"
           }
          ],
          "barpolar": [
           {
            "marker": {
             "line": {
              "color": "#E5ECF6",
              "width": 0.5
             },
             "pattern": {
              "fillmode": "overlay",
              "size": 10,
              "solidity": 0.2
             }
            },
            "type": "barpolar"
           }
          ],
          "carpet": [
           {
            "aaxis": {
             "endlinecolor": "#2a3f5f",
             "gridcolor": "white",
             "linecolor": "white",
             "minorgridcolor": "white",
             "startlinecolor": "#2a3f5f"
            },
            "baxis": {
             "endlinecolor": "#2a3f5f",
             "gridcolor": "white",
             "linecolor": "white",
             "minorgridcolor": "white",
             "startlinecolor": "#2a3f5f"
            },
            "type": "carpet"
           }
          ],
          "choropleth": [
           {
            "colorbar": {
             "outlinewidth": 0,
             "ticks": ""
            },
            "type": "choropleth"
           }
          ],
          "contour": [
           {
            "colorbar": {
             "outlinewidth": 0,
             "ticks": ""
            },
            "colorscale": [
             [
              0,
              "#0d0887"
             ],
             [
              0.1111111111111111,
              "#46039f"
             ],
             [
              0.2222222222222222,
              "#7201a8"
             ],
             [
              0.3333333333333333,
              "#9c179e"
             ],
             [
              0.4444444444444444,
              "#bd3786"
             ],
             [
              0.5555555555555556,
              "#d8576b"
             ],
             [
              0.6666666666666666,
              "#ed7953"
             ],
             [
              0.7777777777777778,
              "#fb9f3a"
             ],
             [
              0.8888888888888888,
              "#fdca26"
             ],
             [
              1,
              "#f0f921"
             ]
            ],
            "type": "contour"
           }
          ],
          "contourcarpet": [
           {
            "colorbar": {
             "outlinewidth": 0,
             "ticks": ""
            },
            "type": "contourcarpet"
           }
          ],
          "heatmap": [
           {
            "colorbar": {
             "outlinewidth": 0,
             "ticks": ""
            },
            "colorscale": [
             [
              0,
              "#0d0887"
             ],
             [
              0.1111111111111111,
              "#46039f"
             ],
             [
              0.2222222222222222,
              "#7201a8"
             ],
             [
              0.3333333333333333,
              "#9c179e"
             ],
             [
              0.4444444444444444,
              "#bd3786"
             ],
             [
              0.5555555555555556,
              "#d8576b"
             ],
             [
              0.6666666666666666,
              "#ed7953"
             ],
             [
              0.7777777777777778,
              "#fb9f3a"
             ],
             [
              0.8888888888888888,
              "#fdca26"
             ],
             [
              1,
              "#f0f921"
             ]
            ],
            "type": "heatmap"
           }
          ],
          "heatmapgl": [
           {
            "colorbar": {
             "outlinewidth": 0,
             "ticks": ""
            },
            "colorscale": [
             [
              0,
              "#0d0887"
             ],
             [
              0.1111111111111111,
              "#46039f"
             ],
             [
              0.2222222222222222,
              "#7201a8"
             ],
             [
              0.3333333333333333,
              "#9c179e"
             ],
             [
              0.4444444444444444,
              "#bd3786"
             ],
             [
              0.5555555555555556,
              "#d8576b"
             ],
             [
              0.6666666666666666,
              "#ed7953"
             ],
             [
              0.7777777777777778,
              "#fb9f3a"
             ],
             [
              0.8888888888888888,
              "#fdca26"
             ],
             [
              1,
              "#f0f921"
             ]
            ],
            "type": "heatmapgl"
           }
          ],
          "histogram": [
           {
            "marker": {
             "pattern": {
              "fillmode": "overlay",
              "size": 10,
              "solidity": 0.2
             }
            },
            "type": "histogram"
           }
          ],
          "histogram2d": [
           {
            "colorbar": {
             "outlinewidth": 0,
             "ticks": ""
            },
            "colorscale": [
             [
              0,
              "#0d0887"
             ],
             [
              0.1111111111111111,
              "#46039f"
             ],
             [
              0.2222222222222222,
              "#7201a8"
             ],
             [
              0.3333333333333333,
              "#9c179e"
             ],
             [
              0.4444444444444444,
              "#bd3786"
             ],
             [
              0.5555555555555556,
              "#d8576b"
             ],
             [
              0.6666666666666666,
              "#ed7953"
             ],
             [
              0.7777777777777778,
              "#fb9f3a"
             ],
             [
              0.8888888888888888,
              "#fdca26"
             ],
             [
              1,
              "#f0f921"
             ]
            ],
            "type": "histogram2d"
           }
          ],
          "histogram2dcontour": [
           {
            "colorbar": {
             "outlinewidth": 0,
             "ticks": ""
            },
            "colorscale": [
             [
              0,
              "#0d0887"
             ],
             [
              0.1111111111111111,
              "#46039f"
             ],
             [
              0.2222222222222222,
              "#7201a8"
             ],
             [
              0.3333333333333333,
              "#9c179e"
             ],
             [
              0.4444444444444444,
              "#bd3786"
             ],
             [
              0.5555555555555556,
              "#d8576b"
             ],
             [
              0.6666666666666666,
              "#ed7953"
             ],
             [
              0.7777777777777778,
              "#fb9f3a"
             ],
             [
              0.8888888888888888,
              "#fdca26"
             ],
             [
              1,
              "#f0f921"
             ]
            ],
            "type": "histogram2dcontour"
           }
          ],
          "mesh3d": [
           {
            "colorbar": {
             "outlinewidth": 0,
             "ticks": ""
            },
            "type": "mesh3d"
           }
          ],
          "parcoords": [
           {
            "line": {
             "colorbar": {
              "outlinewidth": 0,
              "ticks": ""
             }
            },
            "type": "parcoords"
           }
          ],
          "pie": [
           {
            "automargin": true,
            "type": "pie"
           }
          ],
          "scatter": [
           {
            "fillpattern": {
             "fillmode": "overlay",
             "size": 10,
             "solidity": 0.2
            },
            "type": "scatter"
           }
          ],
          "scatter3d": [
           {
            "line": {
             "colorbar": {
              "outlinewidth": 0,
              "ticks": ""
             }
            },
            "marker": {
             "colorbar": {
              "outlinewidth": 0,
              "ticks": ""
             }
            },
            "type": "scatter3d"
           }
          ],
          "scattercarpet": [
           {
            "marker": {
             "colorbar": {
              "outlinewidth": 0,
              "ticks": ""
             }
            },
            "type": "scattercarpet"
           }
          ],
          "scattergeo": [
           {
            "marker": {
             "colorbar": {
              "outlinewidth": 0,
              "ticks": ""
             }
            },
            "type": "scattergeo"
           }
          ],
          "scattergl": [
           {
            "marker": {
             "colorbar": {
              "outlinewidth": 0,
              "ticks": ""
             }
            },
            "type": "scattergl"
           }
          ],
          "scattermapbox": [
           {
            "marker": {
             "colorbar": {
              "outlinewidth": 0,
              "ticks": ""
             }
            },
            "type": "scattermapbox"
           }
          ],
          "scatterpolar": [
           {
            "marker": {
             "colorbar": {
              "outlinewidth": 0,
              "ticks": ""
             }
            },
            "type": "scatterpolar"
           }
          ],
          "scatterpolargl": [
           {
            "marker": {
             "colorbar": {
              "outlinewidth": 0,
              "ticks": ""
             }
            },
            "type": "scatterpolargl"
           }
          ],
          "scatterternary": [
           {
            "marker": {
             "colorbar": {
              "outlinewidth": 0,
              "ticks": ""
             }
            },
            "type": "scatterternary"
           }
          ],
          "surface": [
           {
            "colorbar": {
             "outlinewidth": 0,
             "ticks": ""
            },
            "colorscale": [
             [
              0,
              "#0d0887"
             ],
             [
              0.1111111111111111,
              "#46039f"
             ],
             [
              0.2222222222222222,
              "#7201a8"
             ],
             [
              0.3333333333333333,
              "#9c179e"
             ],
             [
              0.4444444444444444,
              "#bd3786"
             ],
             [
              0.5555555555555556,
              "#d8576b"
             ],
             [
              0.6666666666666666,
              "#ed7953"
             ],
             [
              0.7777777777777778,
              "#fb9f3a"
             ],
             [
              0.8888888888888888,
              "#fdca26"
             ],
             [
              1,
              "#f0f921"
             ]
            ],
            "type": "surface"
           }
          ],
          "table": [
           {
            "cells": {
             "fill": {
              "color": "#EBF0F8"
             },
             "line": {
              "color": "white"
             }
            },
            "header": {
             "fill": {
              "color": "#C8D4E3"
             },
             "line": {
              "color": "white"
             }
            },
            "type": "table"
           }
          ]
         },
         "layout": {
          "annotationdefaults": {
           "arrowcolor": "#2a3f5f",
           "arrowhead": 0,
           "arrowwidth": 1
          },
          "autotypenumbers": "strict",
          "coloraxis": {
           "colorbar": {
            "outlinewidth": 0,
            "ticks": ""
           }
          },
          "colorscale": {
           "diverging": [
            [
             0,
             "#8e0152"
            ],
            [
             0.1,
             "#c51b7d"
            ],
            [
             0.2,
             "#de77ae"
            ],
            [
             0.3,
             "#f1b6da"
            ],
            [
             0.4,
             "#fde0ef"
            ],
            [
             0.5,
             "#f7f7f7"
            ],
            [
             0.6,
             "#e6f5d0"
            ],
            [
             0.7,
             "#b8e186"
            ],
            [
             0.8,
             "#7fbc41"
            ],
            [
             0.9,
             "#4d9221"
            ],
            [
             1,
             "#276419"
            ]
           ],
           "sequential": [
            [
             0,
             "#0d0887"
            ],
            [
             0.1111111111111111,
             "#46039f"
            ],
            [
             0.2222222222222222,
             "#7201a8"
            ],
            [
             0.3333333333333333,
             "#9c179e"
            ],
            [
             0.4444444444444444,
             "#bd3786"
            ],
            [
             0.5555555555555556,
             "#d8576b"
            ],
            [
             0.6666666666666666,
             "#ed7953"
            ],
            [
             0.7777777777777778,
             "#fb9f3a"
            ],
            [
             0.8888888888888888,
             "#fdca26"
            ],
            [
             1,
             "#f0f921"
            ]
           ],
           "sequentialminus": [
            [
             0,
             "#0d0887"
            ],
            [
             0.1111111111111111,
             "#46039f"
            ],
            [
             0.2222222222222222,
             "#7201a8"
            ],
            [
             0.3333333333333333,
             "#9c179e"
            ],
            [
             0.4444444444444444,
             "#bd3786"
            ],
            [
             0.5555555555555556,
             "#d8576b"
            ],
            [
             0.6666666666666666,
             "#ed7953"
            ],
            [
             0.7777777777777778,
             "#fb9f3a"
            ],
            [
             0.8888888888888888,
             "#fdca26"
            ],
            [
             1,
             "#f0f921"
            ]
           ]
          },
          "colorway": [
           "#636efa",
           "#EF553B",
           "#00cc96",
           "#ab63fa",
           "#FFA15A",
           "#19d3f3",
           "#FF6692",
           "#B6E880",
           "#FF97FF",
           "#FECB52"
          ],
          "font": {
           "color": "#2a3f5f"
          },
          "geo": {
           "bgcolor": "white",
           "lakecolor": "white",
           "landcolor": "#E5ECF6",
           "showlakes": true,
           "showland": true,
           "subunitcolor": "white"
          },
          "hoverlabel": {
           "align": "left"
          },
          "hovermode": "closest",
          "mapbox": {
           "style": "light"
          },
          "paper_bgcolor": "white",
          "plot_bgcolor": "#E5ECF6",
          "polar": {
           "angularaxis": {
            "gridcolor": "white",
            "linecolor": "white",
            "ticks": ""
           },
           "bgcolor": "#E5ECF6",
           "radialaxis": {
            "gridcolor": "white",
            "linecolor": "white",
            "ticks": ""
           }
          },
          "scene": {
           "xaxis": {
            "backgroundcolor": "#E5ECF6",
            "gridcolor": "white",
            "gridwidth": 2,
            "linecolor": "white",
            "showbackground": true,
            "ticks": "",
            "zerolinecolor": "white"
           },
           "yaxis": {
            "backgroundcolor": "#E5ECF6",
            "gridcolor": "white",
            "gridwidth": 2,
            "linecolor": "white",
            "showbackground": true,
            "ticks": "",
            "zerolinecolor": "white"
           },
           "zaxis": {
            "backgroundcolor": "#E5ECF6",
            "gridcolor": "white",
            "gridwidth": 2,
            "linecolor": "white",
            "showbackground": true,
            "ticks": "",
            "zerolinecolor": "white"
           }
          },
          "shapedefaults": {
           "line": {
            "color": "#2a3f5f"
           }
          },
          "ternary": {
           "aaxis": {
            "gridcolor": "white",
            "linecolor": "white",
            "ticks": ""
           },
           "baxis": {
            "gridcolor": "white",
            "linecolor": "white",
            "ticks": ""
           },
           "bgcolor": "#E5ECF6",
           "caxis": {
            "gridcolor": "white",
            "linecolor": "white",
            "ticks": ""
           }
          },
          "title": {
           "x": 0.05
          },
          "xaxis": {
           "automargin": true,
           "gridcolor": "white",
           "linecolor": "white",
           "ticks": "",
           "title": {
            "standoff": 15
           },
           "zerolinecolor": "white",
           "zerolinewidth": 2
          },
          "yaxis": {
           "automargin": true,
           "gridcolor": "white",
           "linecolor": "white",
           "ticks": "",
           "title": {
            "standoff": 15
           },
           "zerolinecolor": "white",
           "zerolinewidth": 2
          }
         }
        },
        "title": {
         "text": "Median Total Profit Results x Overall view of actions (across all the simulations)",
         "x": 0.5
        },
        "width": 1200,
        "xaxis": {
         "anchor": "y",
         "categoryorder": "category ascending",
         "domain": [
          0,
          0.94
         ],
         "matches": "x4",
         "showticklabels": false
        },
        "xaxis2": {
         "anchor": "y3",
         "domain": [
          0,
          0.94
         ],
         "matches": "x4",
         "showticklabels": false
        },
        "xaxis3": {
         "anchor": "y5",
         "domain": [
          0,
          0.94
         ],
         "matches": "x4",
         "showticklabels": false
        },
        "xaxis4": {
         "anchor": "y7",
         "domain": [
          0,
          0.94
         ]
        },
        "yaxis": {
         "anchor": "x",
         "domain": [
          0.84375,
          1
         ],
         "matches": "y7",
         "title": {
          "text": "Proportion of trades<br>across all the simulations"
         }
        },
        "yaxis2": {
         "anchor": "x",
         "overlaying": "y",
         "side": "right",
         "title": {
          "text": "CCY level with the<br>sim_id actions related"
         }
        },
        "yaxis3": {
         "anchor": "x2",
         "domain": [
          0.5625,
          0.71875
         ],
         "matches": "y7",
         "title": {
          "text": "Proportion of trades<br>across all the simulations"
         }
        },
        "yaxis4": {
         "anchor": "x2",
         "overlaying": "y3",
         "side": "right",
         "title": {
          "text": "CCY level with the<br>sim_id actions related"
         }
        },
        "yaxis5": {
         "anchor": "x3",
         "domain": [
          0.28125,
          0.4375
         ],
         "matches": "y7",
         "title": {
          "text": "Proportion of trades<br>across all the simulations"
         }
        },
        "yaxis6": {
         "anchor": "x3",
         "overlaying": "y5",
         "side": "right",
         "title": {
          "text": "CCY level with the<br>sim_id actions related"
         }
        },
        "yaxis7": {
         "anchor": "x4",
         "domain": [
          0,
          0.15625
         ],
         "title": {
          "text": "Proportion of trades<br>across all the simulations"
         }
        },
        "yaxis8": {
         "anchor": "x4",
         "overlaying": "y7",
         "side": "right",
         "title": {
          "text": "CCY level with the<br>sim_id actions related"
         }
        }
       }
      }
     },
     "metadata": {},
     "output_type": "display_data"
    }
   ],
   "source": [
    "plot_trader_robot_actions_all_sim_id_all_models(config_file_name_without_extension, \"\", \"\", median_sim_id_DQN, \"\")"
   ]
  },
  {
   "cell_type": "code",
   "execution_count": 37,
   "metadata": {},
   "outputs": [
    {
     "name": "stdout",
     "output_type": "stream",
     "text": [
      "mean_reward=-204.91 +/- 0.0\n"
     ]
    }
   ],
   "source": [
    "# Evaluate the loaded policy\n",
    "mean_reward, std_reward = evaluate_policy(saved_policy, env, n_eval_episodes=10, deterministic=True)\n",
    "\n",
    "print(f\"mean_reward={mean_reward:.2f} +/- {std_reward}\")"
   ]
  },
  {
   "cell_type": "code",
   "execution_count": null,
   "metadata": {},
   "outputs": [],
   "source": []
  }
 ],
 "metadata": {
  "kernelspec": {
   "display_name": "msc_uol_ai_dissertation",
   "language": "python",
   "name": "python3"
  },
  "language_info": {
   "codemirror_mode": {
    "name": "ipython",
    "version": 3
   },
   "file_extension": ".py",
   "mimetype": "text/x-python",
   "name": "python",
   "nbconvert_exporter": "python",
   "pygments_lexer": "ipython3",
   "version": "3.8.13"
  },
  "orig_nbformat": 4,
  "vscode": {
   "interpreter": {
    "hash": "0c0f2ae3d5d9aa27c4a2afc20f28a2482dc1006477ab22953abc78c31c7bb5b2"
   }
  }
 },
 "nbformat": 4,
 "nbformat_minor": 2
}
