{
 "cells": [
  {
   "cell_type": "code",
   "execution_count": 1,
   "metadata": {},
   "outputs": [],
   "source": [
    "import warnings\n",
    "warnings.filterwarnings('ignore')\n",
    "\n",
    "from configparser import ConfigParser\n",
    "\n",
    "from typing import Callable\n",
    "\n",
    "import gym\n",
    "import gym_anytrading\n",
    "\n",
    "from gym_anytrading.envs import CryptoEnvLogINFER\n",
    "\n",
    "from stable_baselines3.common.vec_env import DummyVecEnv, SubprocVecEnv\n",
    "from stable_baselines3 import A2C, PPO, DQN\n",
    "from stable_baselines3.common.evaluation import evaluate_policy\n",
    "from stable_baselines3.common.env_util import make_vec_env\n",
    "from stable_baselines3.common.utils import set_random_seed\n",
    "\n",
    "from stable_baselines3.dqn.policies import MlpPolicy\n",
    "\n",
    "import tensorflow as tf\n",
    "\n",
    "import numpy as np\n",
    "import pandas as pd\n",
    "import plotly.express as px\n",
    "import plotly.graph_objects as go\n",
    "from plotly.subplots import make_subplots\n",
    "import os\n",
    "import datetime\n",
    "\n",
    "import multiprocessing\n",
    "\n",
    "import quantstats as qs\n",
    "\n",
    "import sqlite3\n",
    "from sqlalchemy import create_engine"
   ]
  },
  {
   "cell_type": "code",
   "execution_count": 2,
   "metadata": {},
   "outputs": [
    {
     "name": "stdout",
     "output_type": "stream",
     "text": [
      "['../../simulations/config_files/config_03a_mix_infer.ini']\n"
     ]
    }
   ],
   "source": [
    "configur = ConfigParser()\n",
    "config_file_name = \"config_03a_mix_infer.ini\"\n",
    "print (configur.read(os.path.join('../../simulations/config_files', config_file_name)))"
   ]
  },
  {
   "cell_type": "code",
   "execution_count": 3,
   "metadata": {},
   "outputs": [],
   "source": [
    "config_file_name_without_extension = config_file_name.replace(\".ini\", \"\")\n",
    "\n",
    "ccy = configur.get('data', 'ccy')\n",
    "\n",
    "data_frequency_train = configur.get('data', 'data_frequency_train')\n",
    "data_frequency_val = configur.get('data', 'data_frequency_val')\n",
    "\n",
    "start_date_train = configur.get('environment', 'start_date')\n",
    "\n",
    "window_size = configur.getint('environment', 'window_size')\n",
    "list_features = configur.get('environment', 'features').split(',')\n",
    "target = configur.get('environment', 'target')"
   ]
  },
  {
   "cell_type": "code",
   "execution_count": 4,
   "metadata": {},
   "outputs": [
    {
     "name": "stdout",
     "output_type": "stream",
     "text": [
      "The loaded_model has 0 transitions in its buffer\n",
      "The loaded_model has 165368 transitions in its buffer\n"
     ]
    }
   ],
   "source": [
    "model_name = \"DQN\"\n",
    "# the saved model does not contain the replay buffer\n",
    "loaded_model = DQN.load(\"../../simulations/save_models_components/model/model_DQN_\"+ config_file_name_without_extension + \".zip\")\n",
    "print(f\"The loaded_model has {loaded_model.replay_buffer.size()} transitions in its buffer\")\n",
    "\n",
    "# load it into the loaded_model\n",
    "loaded_model.load_replay_buffer(\"../../simulations/save_models_components/replay_buffer/replay_buffer_DQN_\" + config_file_name_without_extension + \".pkl\")\n",
    "\n",
    "# now the loaded replay is not empty anymore\n",
    "print(f\"The loaded_model has {loaded_model.replay_buffer.size()} transitions in its buffer\")\n",
    "\n",
    "saved_policy = MlpPolicy.load(\"../../simulations/save_models_components/policy/policy_DQN_\" + config_file_name_without_extension)"
   ]
  },
  {
   "cell_type": "code",
   "execution_count": 5,
   "metadata": {},
   "outputs": [],
   "source": [
    "mid_date='2023-01-01 00:00:00'\n",
    "end_date='2023-02-01 00:00:00'"
   ]
  },
  {
   "cell_type": "code",
   "execution_count": 6,
   "metadata": {},
   "outputs": [],
   "source": [
    "def get_and_process_data(ccy, data_frequency, start_date, end_date):\n",
    "    try:\n",
    "        \n",
    "        # Get the data\n",
    "        db_address = 'sqlite:///../../data/db/crypto.db'\n",
    "        engine = create_engine(db_address, echo=False)\n",
    "        sqlite_connection = engine.connect()\n",
    "\n",
    "        input_tbl_name = \"tbl_all_features\" + \"_\" + ccy + \"_\" + data_frequency\n",
    "        \n",
    "        sql_command = \"SELECT * FROM \" + input_tbl_name\n",
    "\n",
    "        if(start_date!=\"\" and end_date!=\"\"):\n",
    "            \n",
    "            sd = datetime.datetime.strptime(start_date,'%d %b, %Y').strftime('%Y-%m-%d')\n",
    "            ed = datetime.datetime.strptime(end_date,'%d %b, %Y').strftime('%Y-%m-%d')\n",
    "\n",
    "            sql_append = \" WHERE \" + \"date(date) >= \" + \"'\" + sd + \"'\" + \" AND date(date) <= \" + \"'\" + ed + \"'\"\n",
    "            sql_command = sql_command + sql_append\n",
    "\n",
    "        df = pd.read_sql(sql_command, sqlite_connection)\n",
    "\n",
    "        sqlite_connection.close()\n",
    "\n",
    "        # Converting Date Column to DateTime Type\n",
    "        # Set the index on the dataframe\n",
    "        df['date_index'] = df['date']\n",
    "        df.set_index('date_index', inplace=True)\n",
    "\n",
    "        return df\n",
    "\n",
    "    except Exception as e:\n",
    "        print(e)"
   ]
  },
  {
   "cell_type": "code",
   "execution_count": 7,
   "metadata": {},
   "outputs": [],
   "source": [
    "# Format the data\n",
    "start_date_temp = datetime.datetime.strptime(mid_date,'%Y-%m-%d %H:%M:%S')\n",
    "start_date_temp2 = start_date_temp + datetime.timedelta(days=-(window_size+1))\n",
    "start_date_db = start_date_temp2.strftime('%d %b, %Y')\n",
    "end_date_db = datetime.datetime.strptime(end_date,'%Y-%m-%d %H:%M:%S').strftime('%d %b, %Y')\n",
    "\n",
    "df_val = get_and_process_data(ccy, data_frequency_val, start_date_db, end_date_db)"
   ]
  },
  {
   "cell_type": "code",
   "execution_count": 8,
   "metadata": {},
   "outputs": [
    {
     "data": {
      "text/html": [
       "<div>\n",
       "<style scoped>\n",
       "    .dataframe tbody tr th:only-of-type {\n",
       "        vertical-align: middle;\n",
       "    }\n",
       "\n",
       "    .dataframe tbody tr th {\n",
       "        vertical-align: top;\n",
       "    }\n",
       "\n",
       "    .dataframe thead th {\n",
       "        text-align: right;\n",
       "    }\n",
       "</style>\n",
       "<table border=\"1\" class=\"dataframe\">\n",
       "  <thead>\n",
       "    <tr style=\"text-align: right;\">\n",
       "      <th></th>\n",
       "      <th>open_time</th>\n",
       "      <th>open</th>\n",
       "      <th>high</th>\n",
       "      <th>low</th>\n",
       "      <th>close</th>\n",
       "      <th>volume</th>\n",
       "      <th>close_time</th>\n",
       "      <th>quote_asset_volume</th>\n",
       "      <th>number_of_trades</th>\n",
       "      <th>taker_buy_base_asset_volume</th>\n",
       "      <th>...</th>\n",
       "      <th>BBANDS_L</th>\n",
       "      <th>AD</th>\n",
       "      <th>ATR</th>\n",
       "      <th>HT_DC</th>\n",
       "      <th>SAR</th>\n",
       "      <th>ratio_high_open</th>\n",
       "      <th>ratio_low_open</th>\n",
       "      <th>ratio_close_open</th>\n",
       "      <th>time_to_chart_return</th>\n",
       "      <th>crypto_index</th>\n",
       "    </tr>\n",
       "    <tr>\n",
       "      <th>date_index</th>\n",
       "      <th></th>\n",
       "      <th></th>\n",
       "      <th></th>\n",
       "      <th></th>\n",
       "      <th></th>\n",
       "      <th></th>\n",
       "      <th></th>\n",
       "      <th></th>\n",
       "      <th></th>\n",
       "      <th></th>\n",
       "      <th></th>\n",
       "      <th></th>\n",
       "      <th></th>\n",
       "      <th></th>\n",
       "      <th></th>\n",
       "      <th></th>\n",
       "      <th></th>\n",
       "      <th></th>\n",
       "      <th></th>\n",
       "      <th></th>\n",
       "      <th></th>\n",
       "    </tr>\n",
       "  </thead>\n",
       "  <tbody>\n",
       "    <tr>\n",
       "      <th>2023-01-28 00:00:00.000000</th>\n",
       "      <td>1674777600000</td>\n",
       "      <td>23009.65</td>\n",
       "      <td>23500.00</td>\n",
       "      <td>22534.88</td>\n",
       "      <td>23074.16</td>\n",
       "      <td>280833.86315</td>\n",
       "      <td>1674863999999</td>\n",
       "      <td>6.461708e+09</td>\n",
       "      <td>7079096</td>\n",
       "      <td>139699.27638</td>\n",
       "      <td>...</td>\n",
       "      <td>16737.868400</td>\n",
       "      <td>1.750974e+06</td>\n",
       "      <td>764.952818</td>\n",
       "      <td>25.482889</td>\n",
       "      <td>22300.00</td>\n",
       "      <td>1.021311</td>\n",
       "      <td>0.979366</td>\n",
       "      <td>1.002804</td>\n",
       "      <td>0.002804</td>\n",
       "      <td>1224.312901</td>\n",
       "    </tr>\n",
       "    <tr>\n",
       "      <th>2023-01-29 00:00:00.000000</th>\n",
       "      <td>1674864000000</td>\n",
       "      <td>23074.16</td>\n",
       "      <td>23189.00</td>\n",
       "      <td>22878.46</td>\n",
       "      <td>23022.60</td>\n",
       "      <td>148115.71085</td>\n",
       "      <td>1674950399999</td>\n",
       "      <td>3.408985e+09</td>\n",
       "      <td>4181816</td>\n",
       "      <td>73861.83566</td>\n",
       "      <td>...</td>\n",
       "      <td>17308.616744</td>\n",
       "      <td>1.740357e+06</td>\n",
       "      <td>732.494759</td>\n",
       "      <td>26.843421</td>\n",
       "      <td>22534.88</td>\n",
       "      <td>1.004977</td>\n",
       "      <td>0.991519</td>\n",
       "      <td>0.997765</td>\n",
       "      <td>-0.002235</td>\n",
       "      <td>1221.577132</td>\n",
       "    </tr>\n",
       "    <tr>\n",
       "      <th>2023-01-30 00:00:00.000000</th>\n",
       "      <td>1674950400000</td>\n",
       "      <td>23021.40</td>\n",
       "      <td>23960.54</td>\n",
       "      <td>22967.76</td>\n",
       "      <td>23742.30</td>\n",
       "      <td>295688.79204</td>\n",
       "      <td>1675036799999</td>\n",
       "      <td>6.941923e+09</td>\n",
       "      <td>7030837</td>\n",
       "      <td>149507.50610</td>\n",
       "      <td>...</td>\n",
       "      <td>17942.197270</td>\n",
       "      <td>1.906045e+06</td>\n",
       "      <td>751.086562</td>\n",
       "      <td>28.072785</td>\n",
       "      <td>22534.88</td>\n",
       "      <td>1.040794</td>\n",
       "      <td>0.997670</td>\n",
       "      <td>1.031314</td>\n",
       "      <td>0.031261</td>\n",
       "      <td>1259.764350</td>\n",
       "    </tr>\n",
       "    <tr>\n",
       "      <th>2023-01-31 00:00:00.000000</th>\n",
       "      <td>1675036800000</td>\n",
       "      <td>23743.37</td>\n",
       "      <td>23800.51</td>\n",
       "      <td>22500.00</td>\n",
       "      <td>22826.15</td>\n",
       "      <td>302405.90121</td>\n",
       "      <td>1675123199999</td>\n",
       "      <td>7.020727e+09</td>\n",
       "      <td>7790224</td>\n",
       "      <td>149096.53066</td>\n",
       "      <td>...</td>\n",
       "      <td>18696.277039</td>\n",
       "      <td>1.755317e+06</td>\n",
       "      <td>790.331093</td>\n",
       "      <td>29.579451</td>\n",
       "      <td>23960.54</td>\n",
       "      <td>1.002407</td>\n",
       "      <td>0.947633</td>\n",
       "      <td>0.961369</td>\n",
       "      <td>-0.038587</td>\n",
       "      <td>1211.153512</td>\n",
       "    </tr>\n",
       "    <tr>\n",
       "      <th>2023-02-01 00:00:00.000000</th>\n",
       "      <td>1675123200000</td>\n",
       "      <td>22827.38</td>\n",
       "      <td>22996.84</td>\n",
       "      <td>22714.77</td>\n",
       "      <td>22892.64</td>\n",
       "      <td>87057.47706</td>\n",
       "      <td>1675209599999</td>\n",
       "      <td>1.989815e+09</td>\n",
       "      <td>2267508</td>\n",
       "      <td>43396.09983</td>\n",
       "      <td>...</td>\n",
       "      <td>19459.693092</td>\n",
       "      <td>1.778055e+06</td>\n",
       "      <td>754.026730</td>\n",
       "      <td>31.474613</td>\n",
       "      <td>23960.54</td>\n",
       "      <td>1.007424</td>\n",
       "      <td>0.995067</td>\n",
       "      <td>1.002859</td>\n",
       "      <td>0.002913</td>\n",
       "      <td>1214.681465</td>\n",
       "    </tr>\n",
       "  </tbody>\n",
       "</table>\n",
       "<p>5 rows × 91 columns</p>\n",
       "</div>"
      ],
      "text/plain": [
       "                                open_time      open      high       low  \\\n",
       "date_index                                                                \n",
       "2023-01-28 00:00:00.000000  1674777600000  23009.65  23500.00  22534.88   \n",
       "2023-01-29 00:00:00.000000  1674864000000  23074.16  23189.00  22878.46   \n",
       "2023-01-30 00:00:00.000000  1674950400000  23021.40  23960.54  22967.76   \n",
       "2023-01-31 00:00:00.000000  1675036800000  23743.37  23800.51  22500.00   \n",
       "2023-02-01 00:00:00.000000  1675123200000  22827.38  22996.84  22714.77   \n",
       "\n",
       "                               close        volume     close_time  \\\n",
       "date_index                                                          \n",
       "2023-01-28 00:00:00.000000  23074.16  280833.86315  1674863999999   \n",
       "2023-01-29 00:00:00.000000  23022.60  148115.71085  1674950399999   \n",
       "2023-01-30 00:00:00.000000  23742.30  295688.79204  1675036799999   \n",
       "2023-01-31 00:00:00.000000  22826.15  302405.90121  1675123199999   \n",
       "2023-02-01 00:00:00.000000  22892.64   87057.47706  1675209599999   \n",
       "\n",
       "                            quote_asset_volume  number_of_trades  \\\n",
       "date_index                                                         \n",
       "2023-01-28 00:00:00.000000        6.461708e+09           7079096   \n",
       "2023-01-29 00:00:00.000000        3.408985e+09           4181816   \n",
       "2023-01-30 00:00:00.000000        6.941923e+09           7030837   \n",
       "2023-01-31 00:00:00.000000        7.020727e+09           7790224   \n",
       "2023-02-01 00:00:00.000000        1.989815e+09           2267508   \n",
       "\n",
       "                            taker_buy_base_asset_volume  ...      BBANDS_L  \\\n",
       "date_index                                               ...                 \n",
       "2023-01-28 00:00:00.000000                 139699.27638  ...  16737.868400   \n",
       "2023-01-29 00:00:00.000000                  73861.83566  ...  17308.616744   \n",
       "2023-01-30 00:00:00.000000                 149507.50610  ...  17942.197270   \n",
       "2023-01-31 00:00:00.000000                 149096.53066  ...  18696.277039   \n",
       "2023-02-01 00:00:00.000000                  43396.09983  ...  19459.693092   \n",
       "\n",
       "                                      AD         ATR      HT_DC       SAR  \\\n",
       "date_index                                                                  \n",
       "2023-01-28 00:00:00.000000  1.750974e+06  764.952818  25.482889  22300.00   \n",
       "2023-01-29 00:00:00.000000  1.740357e+06  732.494759  26.843421  22534.88   \n",
       "2023-01-30 00:00:00.000000  1.906045e+06  751.086562  28.072785  22534.88   \n",
       "2023-01-31 00:00:00.000000  1.755317e+06  790.331093  29.579451  23960.54   \n",
       "2023-02-01 00:00:00.000000  1.778055e+06  754.026730  31.474613  23960.54   \n",
       "\n",
       "                            ratio_high_open  ratio_low_open  ratio_close_open  \\\n",
       "date_index                                                                      \n",
       "2023-01-28 00:00:00.000000         1.021311        0.979366          1.002804   \n",
       "2023-01-29 00:00:00.000000         1.004977        0.991519          0.997765   \n",
       "2023-01-30 00:00:00.000000         1.040794        0.997670          1.031314   \n",
       "2023-01-31 00:00:00.000000         1.002407        0.947633          0.961369   \n",
       "2023-02-01 00:00:00.000000         1.007424        0.995067          1.002859   \n",
       "\n",
       "                            time_to_chart_return  crypto_index  \n",
       "date_index                                                      \n",
       "2023-01-28 00:00:00.000000              0.002804   1224.312901  \n",
       "2023-01-29 00:00:00.000000             -0.002235   1221.577132  \n",
       "2023-01-30 00:00:00.000000              0.031261   1259.764350  \n",
       "2023-01-31 00:00:00.000000             -0.038587   1211.153512  \n",
       "2023-02-01 00:00:00.000000              0.002913   1214.681465  \n",
       "\n",
       "[5 rows x 91 columns]"
      ]
     },
     "execution_count": 8,
     "metadata": {},
     "output_type": "execute_result"
    }
   ],
   "source": [
    "df_val.tail()"
   ]
  },
  {
   "cell_type": "code",
   "execution_count": 9,
   "metadata": {},
   "outputs": [],
   "source": [
    "mid_date_id_val = int(df_val.index.get_loc(datetime.datetime.strptime(mid_date,'%Y-%m-%d %H:%M:%S').strftime('%Y-%m-%d %H:%M:%S.%f')))\n",
    "end_date_id_val = int(df_val.index.get_loc(datetime.datetime.strptime(end_date,'%Y-%m-%d %H:%M:%S').strftime('%Y-%m-%d %H:%M:%S.%f')))"
   ]
  },
  {
   "cell_type": "code",
   "execution_count": 10,
   "metadata": {},
   "outputs": [],
   "source": [
    "def my_process_data(env):\n",
    "    start = env.frame_bound[0] - env.window_size\n",
    "    end = env.frame_bound[1]\n",
    "    prices = env.df.loc[:, target].to_numpy()[start:end]\n",
    "    signal_features = env.df.loc[:, list_features].to_numpy()[start:end]\n",
    "    dates = env.df.index.to_numpy()[start:end]\n",
    "    return prices, signal_features, dates\n",
    "\n",
    "class MyEnv(CryptoEnvLogINFER):\n",
    "    _process_data = my_process_data"
   ]
  },
  {
   "cell_type": "code",
   "execution_count": 11,
   "metadata": {},
   "outputs": [],
   "source": [
    "env = MyEnv(df=df_val, frame_bound=(mid_date_id_val,end_date_id_val), window_size=window_size)"
   ]
  },
  {
   "cell_type": "code",
   "execution_count": 12,
   "metadata": {},
   "outputs": [],
   "source": [
    "num_of_simulations=1000"
   ]
  },
  {
   "cell_type": "code",
   "execution_count": 13,
   "metadata": {},
   "outputs": [],
   "source": [
    "df_sim_results = pd.DataFrame()\n",
    "df_robot_actions_and_env_final = pd.DataFrame()\n",
    "\n",
    "df_sim_results_temp = pd.DataFrame(columns=['total_reward_cash', 'total_profit_percentage', 'fmt_total_profit_percentage', 'num_of_trades'])\n",
    "df_robot_actions_and_env_temp = pd.DataFrame(columns=['dates', 'prices', 'actions', 'total_reward_cash', 'total_profit_percentage', 'fmt_total_profit_percentage', 'num_of_trades', 'sim_id'])\n",
    "\n",
    "list_sim_id = []\n",
    "\n",
    "sim_id = 1\n",
    "for i in range(num_of_simulations):   \n",
    "\n",
    "    #Setting up the Agent Environment\n",
    "    obs = env.reset()\n",
    "\n",
    "    list_sim_id.append(sim_id)\n",
    "\n",
    "    while True: \n",
    "        obs = obs[np.newaxis, ...]\n",
    "\n",
    "        action, _states = loaded_model.predict(obs)\n",
    "        \n",
    "        obs, rewards, done, info = env.step(action)\n",
    "        \n",
    "        if done:\n",
    "            df_sim_results_temp = df_sim_results_temp.append(info, ignore_index=True, sort=False)\n",
    "            break\n",
    "\n",
    "    # Export robot actions plot and data\n",
    "    fig, df_robot_actions = env.render_all()\n",
    "    # fig.write_html(os.path.join('results', 'plots', 'robot_actions', 'robot_actions_' + config_file_name_without_extension + '_sim_id_' + str(sim_id) + '.html'))\n",
    "\n",
    "    # Export the history of details (the info dict inside of the environment)\n",
    "    df_sim_env_data = pd.DataFrame.from_dict(env.history)\n",
    "\n",
    "    # Merge robot actions data + sim env data\n",
    "    df_sim_env_data_initial = pd.DataFrame(columns=['total_reward_cash', 'total_profit_percentage', 'fmt_total_profit_percentage', 'num_of_trades'])\n",
    "    for i in range(0, window_size + 1):\n",
    "        df_sim_env_data_initial = df_sim_env_data_initial.append(pd.Series([0, 0, 0, 0], index=df_sim_env_data_initial.columns), ignore_index=True)\n",
    "    \n",
    "    df_sim_env_data_temp = df_sim_env_data_initial.append(df_sim_env_data, ignore_index=True)\n",
    "    \n",
    "    df_robot_actions_and_env_temp = pd.merge(df_robot_actions, df_sim_env_data_temp, left_index=True, right_index=True, how = \"outer\")\n",
    "    df_robot_actions_and_env_temp['sim_id'] = sim_id\n",
    "\n",
    "    df_robot_actions_and_env_final = pd.concat([df_robot_actions_and_env_final, df_robot_actions_and_env_temp], axis=0)\n",
    "\n",
    "    sim_id = sim_id + 1\n",
    "\n",
    "df_sim_results_temp['sim_id'] = list_sim_id\n",
    "df_sim_results_temp['ccy'] = ccy\n",
    "df_sim_results_temp['data_frequency_train'] = data_frequency_train\n",
    "df_sim_results_temp['data_frequency_val'] = data_frequency_val\n",
    "df_sim_results_temp['window_size'] = window_size\n",
    "df_sim_results_temp['start_date'] = start_date_train\n",
    "df_sim_results_temp['mid_date'] = mid_date\n",
    "df_sim_results_temp['end_date'] = end_date\n",
    "df_sim_results_temp['target'] = target\n",
    "df_sim_results_temp['list_features'] = str(list_features)\n",
    "df_sim_results_temp['model_type'] = model_name \n",
    "df_sim_results_temp['num_of_simulations'] = num_of_simulations   \n",
    "\n",
    "df_sim_results = pd.concat([df_sim_results, df_sim_results_temp], axis=0)"
   ]
  },
  {
   "cell_type": "code",
   "execution_count": 14,
   "metadata": {},
   "outputs": [],
   "source": [
    "df_sim_results = df_sim_results.reset_index(drop=True)\n",
    "df_sim_results = df_sim_results.drop_duplicates()\n",
    "\n",
    "## SIMULATION RESULTS\n",
    "\n",
    "# Format data type\n",
    "df_sim_results['start_date'] = pd.to_datetime(df_sim_results['start_date'])\n",
    "df_sim_results['mid_date'] = pd.to_datetime(df_sim_results['mid_date'])\n",
    "df_sim_results['end_date'] = pd.to_datetime(df_sim_results['end_date'])\n",
    "\n",
    "# Write to the db\n",
    "db_address = 'sqlite:///../results/data/db/trader.db'\n",
    "engine = create_engine(db_address, echo=False)\n",
    "sqlite_connection = engine.connect()\n",
    "\n",
    "output_tbl_name = \"tbl_trader_bernardo_simulation_results_\" + config_file_name_without_extension\n",
    "\n",
    "df_sim_results.to_sql(output_tbl_name, sqlite_connection, if_exists='replace', index=False)\n",
    "\n",
    "sqlite_connection.close()\n",
    "\n",
    "## ROBOT ACTIONS and ENV RESULTS\n",
    "\n",
    "# Format data type\n",
    "df_robot_actions_and_env_final['dates'] = pd.to_datetime(df_robot_actions_and_env_final['dates'])\n",
    "df_robot_actions_and_env_final['total_reward_cash'] = df_robot_actions_and_env_final['total_reward_cash'].astype(float)\n",
    "df_robot_actions_and_env_final['total_profit_percentage'] = df_robot_actions_and_env_final['total_profit_percentage'].astype(float)\n",
    "df_robot_actions_and_env_final['fmt_total_profit_percentage'] = df_robot_actions_and_env_final['fmt_total_profit_percentage'].astype(float)\n",
    "df_robot_actions_and_env_final['num_of_trades'] = df_robot_actions_and_env_final['num_of_trades'].astype(float)\n",
    "\n",
    "# Write to the db\n",
    "db_address = 'sqlite:///../results/data/db/trader.db'\n",
    "engine = create_engine(db_address, echo=False)\n",
    "sqlite_connection = engine.connect()\n",
    "\n",
    "output_tbl_name = \"tbl_trader_bernardo_robot_actions_and_env_\" + config_file_name_without_extension\n",
    "\n",
    "df_robot_actions_and_env_final.to_sql(output_tbl_name, sqlite_connection, if_exists='replace', index=False)\n",
    "\n",
    "sqlite_connection.close()"
   ]
  },
  {
   "attachments": {},
   "cell_type": "markdown",
   "metadata": {},
   "source": [
    "## Get Data"
   ]
  },
  {
   "cell_type": "code",
   "execution_count": 15,
   "metadata": {},
   "outputs": [],
   "source": [
    "def get_and_process_trader_data(config_file_name_without_extension):\n",
    "    try:\n",
    "        \n",
    "        # Get the data\n",
    "        db_address = 'sqlite:///../results/data/db/trader.db'\n",
    "        engine = create_engine(db_address, echo=False)\n",
    "        sqlite_connection = engine.connect()\n",
    "\n",
    "        input_tbl_name = \"tbl_trader_bernardo_simulation_results\" + \"_\" + config_file_name_without_extension\n",
    "        \n",
    "        sql_command = \"SELECT * FROM \" + input_tbl_name\n",
    "\n",
    "        df = pd.read_sql(sql_command, sqlite_connection)\n",
    "\n",
    "        sqlite_connection.close()\n",
    "\n",
    "        return df\n",
    "\n",
    "    except Exception as e:\n",
    "        print(e)"
   ]
  },
  {
   "cell_type": "code",
   "execution_count": 16,
   "metadata": {},
   "outputs": [],
   "source": [
    "df_trader_results = get_and_process_trader_data(config_file_name_without_extension)"
   ]
  },
  {
   "cell_type": "code",
   "execution_count": 17,
   "metadata": {},
   "outputs": [
    {
     "data": {
      "application/vnd.plotly.v1+json": {
       "config": {
        "plotlyServerURL": "https://plot.ly"
       },
       "data": [
        {
         "alignmentgroup": "True",
         "boxpoints": "all",
         "hovertemplate": "model_type=DQN<br>fmt_total_profit_percentage=%{y}<extra></extra>",
         "legendgroup": "DQN",
         "marker": {
          "color": "#FF7F0E"
         },
         "name": "DQN",
         "notched": false,
         "offsetgroup": "DQN",
         "orientation": "v",
         "showlegend": true,
         "type": "box",
         "x0": " ",
         "xaxis": "x",
         "y": [
          -4.631310946303213,
          8.930656205740718,
          -4.631310946303213,
          -4.631310946303213,
          -4.631310946303213,
          -7.479424674779689,
          -4.631310946303213,
          5.960937772484054,
          -7.029353048232679,
          -3.9860429272055575,
          3.8849111160071947,
          -4.631310946303213,
          3.8849111160071947,
          -4.631310946303213,
          -4.631310946303213,
          -4.631310946303213,
          -4.631310946303213,
          -4.631310946303213,
          4.036564781167606,
          -4.631310946303213,
          -4.631310946303213,
          -4.631310946303213,
          -4.551593225729311,
          -3.2803265453192343,
          -4.631310946303213,
          0.27306808301110763,
          -1.685154266617983,
          -13.554664332443023,
          -4.631310946303213,
          -4.631310946303213,
          8.642031412670681,
          7.277230649854394,
          -4.631310946303213,
          5.1874204047918315,
          2.4060571049153046,
          -4.631310946303213,
          -4.631310946303213,
          6.029934858053454,
          -4.631310946303213,
          1.0934051407932577,
          -4.631310946303213,
          -4.631310946303213,
          -4.631310946303213,
          -4.631310946303213,
          0.06361140483119865,
          -4.631310946303213,
          -4.631310946303213,
          -4.631310946303213,
          4.036564781167606,
          -9.899138398881702,
          -4.631310946303213,
          -4.631310946303213,
          -4.631310946303213,
          5.602567289907268,
          -4.631310946303213,
          17.740021745450463,
          -4.631310946303213,
          -4.840719512495351,
          2.105644050035038,
          -4.631310946303213,
          -4.631310946303213,
          -2.5457781855605432,
          -4.631310946303213,
          -4.06889022109711,
          3.8849111160071947,
          3.8849111160071947,
          -4.631310946303213,
          -4.631310946303213,
          0.8714263631454333,
          3.8849111160071947,
          -4.840719512495351,
          5.602567289907268,
          6.648290382205557,
          -11.588559212047578,
          -2.5457781855605432,
          0.27306808301110763,
          5.248820425145273,
          5.2657472631471025,
          1.0934051407932577,
          -4.631310946303213,
          1.0934051407932577,
          -4.631310946303213,
          -4.631310946303213,
          4.4272715989058575,
          3.8849111160071947,
          -4.631310946303213,
          -4.250137765608997,
          3.0989402122261867,
          7.911895601819241,
          -1.9581098849261402,
          -4.631310946303213,
          -4.631310946303213,
          -4.278338443009744,
          -1.9803714737241962,
          -4.631310946303213,
          6.44840692454125,
          -14.675304931308341,
          -5.525276158117009,
          -4.631310946303213,
          3.8849111160071947,
          -4.631310946303213,
          -4.631310946303213,
          -4.631310946303213,
          -4.631310946303213,
          -4.490635283370126,
          -4.631310946303213,
          -8.59745547907329,
          -10.851025376067213,
          -4.631310946303213,
          -4.631310946303213,
          -4.631310946303213,
          -4.631310946303213,
          9.082844275748325,
          6.029934858053454,
          -4.631310946303213,
          -4.631310946303213,
          6.44840692454125,
          -4.631310946303213,
          -4.631310946303213,
          -4.631310946303213,
          -6.194396428133353,
          -3.3492910197644887,
          4.036564781167606,
          -4.604882750924732,
          -4.631310946303213,
          -4.631310946303213,
          -4.631310946303213,
          -4.06889022109711,
          4.949854880638305,
          -4.631310946303213,
          -4.631310946303213,
          -4.631310946303213,
          -7.654168304490804,
          3.8849111160071947,
          5.1874204047918315,
          -4.631310946303213,
          -4.631310946303213,
          -1.685154266617983,
          -7.654168304490804,
          -4.631310946303213,
          4.4272715989058575,
          -4.631310946303213,
          -4.631310946303213,
          -4.631310946303213,
          -4.631310946303213,
          -1.685154266617983,
          -4.840719512495351,
          -4.631310946303213,
          -4.604882750924732,
          -4.631310946303213,
          -4.631310946303213,
          1.0934051407932577,
          5.602567289907268,
          5.602567289907268,
          1.0934051407932577,
          -4.06889022109711,
          3.8849111160071947,
          -4.631310946303213,
          -4.631310946303213,
          6.648290382205557,
          -4.631310946303213,
          4.036564781167606,
          -4.631310946303213,
          -4.631310946303213,
          -4.631310946303213,
          2.4060571049153046,
          -4.631310946303213,
          -1.685154266617983,
          14.289805685998669,
          -4.631310946303213,
          -4.631310946303213,
          -2.3177550648626477,
          -4.631310946303213,
          4.036564781167606,
          -4.631310946303213,
          -2.8937536991131996,
          -4.1701014262367275,
          -2.5457781855605432,
          -3.9594359176958416,
          4.587800203349257,
          12.3214585969299,
          -6.4195052581949135,
          -4.631310946303213,
          -5.105389304891583,
          -4.631310946303213,
          -9.899138398881702,
          -4.631310946303213,
          -2.617006759420959,
          -4.631310946303213,
          -4.250137765608997,
          -4.631310946303213,
          -4.631310946303213,
          -4.631310946303213,
          2.6347781084564925,
          12.391305373932315,
          3.0989402122261867,
          -4.631310946303213,
          -4.631310946303213,
          -4.631310946303213,
          3.456846789586887,
          -4.631310946303213,
          3.8849111160071947,
          -4.631310946303213,
          -4.631310946303213,
          -4.631310946303213,
          -4.631310946303213,
          2.6602866883789877,
          -4.631310946303213,
          -3.3492910197644887,
          -4.631310946303213,
          -4.631310946303213,
          6.648290382205557,
          6.648290382205557,
          -4.631310946303213,
          -13.554664332443023,
          12.391305373932315,
          -4.631310946303213,
          -4.551593225729311,
          3.73733673572334,
          4.088693283330147,
          -7.654168304490804,
          -2.617006759420959,
          -4.631310946303213,
          -13.209156347804296,
          0.27306808301110763,
          -4.631310946303213,
          -4.631310946303213,
          -4.631310946303213,
          -4.631310946303213,
          3.0772935758606623,
          -4.631310946303213,
          -4.631310946303213,
          -4.631310946303213,
          -4.631310946303213,
          -3.2803265453192343,
          -4.631310946303213,
          3.8849111160071947,
          -4.631310946303213,
          -4.631310946303213,
          14.87612748759255,
          -4.631310946303213,
          6.3170781014002975,
          -4.631310946303213,
          -3.3492910197644887,
          -4.631310946303213,
          -4.551593225729311,
          -4.631310946303213,
          -4.631310946303213,
          8.054434286534384,
          5.356535564323872,
          0.5865574748118663,
          -4.631310946303213,
          -4.250137765608997,
          1.3187488878589892,
          -4.631310946303213,
          5.889625451637959,
          6.648290382205557,
          -4.631310946303213,
          1.6028179926755648,
          -4.631310946303213,
          -4.631310946303213,
          -4.631310946303213,
          -4.631310946303213,
          -10.094868171554827,
          -6.23569130318039,
          -3.9860429272055575,
          -4.631310946303213,
          -4.631310946303213,
          -4.631310946303213,
          -4.631310946303213,
          -4.631310946303213,
          -9.899138398881702,
          -4.631310946303213,
          -4.250137765608997,
          -4.631310946303213,
          -4.631310946303213,
          -4.631310946303213,
          3.8849111160071947,
          -4.631310946303213,
          -4.631310946303213,
          4.956452074336792,
          -4.631310946303213,
          2.6347781084564925,
          -4.631310946303213,
          -4.631310946303213,
          -4.631310946303213,
          -4.250137765608997,
          -4.551593225729311,
          14.765148185763422,
          2.4166210341564076,
          -10.851025376067213,
          3.689068755335123,
          4.036564781167606,
          -4.631310946303213,
          -4.631310946303213,
          -4.631310946303213,
          -3.2803265453192343,
          -4.631310946303213,
          -4.631310946303213,
          8.08193946303013,
          -4.631310946303213,
          -4.631310946303213,
          -7.479424674779689,
          -4.631310946303213,
          2.4060571049153046,
          -4.631310946303213,
          -4.631310946303213,
          -3.9860429272055575,
          -4.631310946303213,
          -4.631310946303213,
          -13.04486757567458,
          -2.617006759420959,
          -7.654168304490804,
          5.1874204047918315,
          -4.840719512495351,
          -2.617006759420959,
          -4.631310946303213,
          -4.631310946303213,
          -0.7793907355949092,
          -4.631310946303213,
          -4.631310946303213,
          -4.631310946303213,
          13.054114101854308,
          -4.631310946303213,
          -6.194029763598275,
          -4.551593225729311,
          -2.5457781855605432,
          13.050089438797308,
          0.27306808301110763,
          5.017717273813971,
          -4.631310946303213,
          -4.631310946303213,
          -1.9581098849261402,
          -4.631310946303213,
          3.9717474602871006,
          -4.631310946303213,
          -4.631310946303213,
          -10.851025376067213,
          2.6347781084564925,
          -2.5457781855605432,
          -2.1562694687093154,
          -3.3492910197644887,
          0.826852612530371,
          6.648290382205557,
          -2.617006759420959,
          -2.617006759420959,
          -4.631310946303213,
          -4.631310946303213,
          -4.631310946303213,
          1.6028179926755648,
          -6.4195052581949135,
          -9.899138398881702,
          -13.554664332443023,
          -4.631310946303213,
          2.4060571049153046,
          0.27306808301110763,
          -7.654168304490804,
          5.248820425145273,
          -4.631310946303213,
          -1.3409197601769285,
          -4.631310946303213,
          -4.631310946303213,
          -4.631310946303213,
          6.648290382205557,
          -4.631310946303213,
          -4.631310946303213,
          -4.631310946303213,
          -3.3492910197644887,
          -3.988702378739417,
          -4.631310946303213,
          -4.631310946303213,
          -4.631310946303213,
          -4.631310946303213,
          -9.899138398881702,
          -3.4236844496357444,
          -4.631310946303213,
          4.893340772410282,
          -7.479424674779689,
          -2.617006759420959,
          -4.631310946303213,
          -13.554664332443023,
          -4.631310946303213,
          -4.631310946303213,
          -4.631310946303213,
          -4.631310946303213,
          -2.617006759420959,
          -4.631310946303213,
          -6.4195052581949135,
          -4.631310946303213,
          -13.554664332443023,
          5.1874204047918315,
          3.8849111160071947,
          -4.631310946303213,
          -4.631310946303213,
          -4.631310946303213,
          4.699873887272865,
          -4.840719512495351,
          -4.631310946303213,
          0.27306808301110763,
          -4.631310946303213,
          6.007558682767988,
          6.648290382205557,
          -4.631310946303213,
          -4.631310946303213,
          5.248820425145273,
          -4.631310946303213,
          5.602567289907268,
          0.27306808301110763,
          -4.631310946303213,
          -3.2803265453192343,
          6.648290382205557,
          -4.631310946303213,
          -4.631310946303213,
          -4.631310946303213,
          2.4060571049153046,
          -4.631310946303213,
          -7.654168304490804,
          8.054434286534384,
          -4.631310946303213,
          7.833023591113264,
          2.181196033629562,
          -4.631310946303213,
          -4.631310946303213,
          -4.631310946303213,
          -4.631310946303213,
          -4.36791770588516,
          4.036564781167606,
          -4.631310946303213,
          4.716992925354879,
          -4.631310946303213,
          -4.631310946303213,
          13.983430649775386,
          -4.604882750924732,
          -0.6522222948931011,
          -4.631310946303213,
          1.6028179926755648,
          -4.631310946303213,
          3.0099795188012424,
          -4.631310946303213,
          -3.9860429272055575,
          -4.631310946303213,
          -2.5457781855605432,
          -4.631310946303213,
          -4.551593225729311,
          -4.631310946303213,
          -2.5457781855605432,
          -4.631310946303213,
          -4.631310946303213,
          -4.631310946303213,
          -4.631310946303213,
          7.700358640300364,
          6.648290382205557,
          -4.631310946303213,
          6.648290382205557,
          -4.604882750924732,
          -13.554664332443023,
          -1.685154266617983,
          -4.631310946303213,
          -4.631310946303213,
          -4.250137765608997,
          -4.631310946303213,
          -4.631310946303213,
          -6.4195052581949135,
          -4.631310946303213,
          -4.631310946303213,
          3.9717474602871006,
          8.980486679294808,
          -12.96977204693588,
          4.4272715989058575,
          -4.631310946303213,
          4.4272715989058575,
          -13.554664332443023,
          -4.631310946303213,
          -4.604882750924732,
          -4.631310946303213,
          3.3292087503968837,
          -4.631310946303213,
          -4.631310946303213,
          -1.685154266617983,
          4.4272715989058575,
          -11.503901696345832,
          -4.631310946303213,
          5.602567289907268,
          -4.631310946303213,
          -4.631310946303213,
          -4.631310946303213,
          5.510337541870869,
          -7.479424674779689,
          -4.631310946303213,
          -4.631310946303213,
          1.6028179926755648,
          -4.631310946303213,
          -4.631310946303213,
          0.5957040558958848,
          -4.631310946303213,
          -4.631310946303213,
          -4.631310946303213,
          12.892918812669919,
          -4.442969937857255,
          -1.30426210355018,
          4.587800203349257,
          -10.826320763447184,
          -4.631310946303213,
          -4.631310946303213,
          -4.631310946303213,
          2.058414438363143,
          4.036564781167606,
          -4.06889022109711,
          -9.109172886175031,
          -4.631310946303213,
          -3.2803265453192343,
          -1.1795644257676097,
          -4.631310946303213,
          -4.631310946303213,
          -4.631310946303213,
          3.2286223830752636,
          -3.9860429272055575,
          -4.631310946303213,
          -4.631310946303213,
          -4.631310946303213,
          -4.631310946303213,
          4.526840716594149,
          -4.631310946303213,
          -4.631310946303213,
          -4.598986307304898,
          -4.631310946303213,
          -7.654168304490804,
          -10.851025376067213,
          -1.1531668510326942,
          -2.5457781855605432,
          -10.851025376067213,
          -6.4195052581949135,
          -4.631310946303213,
          -4.631310946303213,
          -4.631310946303213,
          -4.631310946303213,
          -4.631310946303213,
          -4.840719512495351,
          -4.631310946303213,
          -4.631310946303213,
          -4.631310946303213,
          -4.631310946303213,
          4.4272715989058575,
          -4.631310946303213,
          -4.631310946303213,
          -13.554664332443023,
          -4.631310946303213,
          -4.631310946303213,
          -2.5457781855605432,
          -4.631310946303213,
          -7.654168304490804,
          -4.631310946303213,
          -4.06889022109711,
          -4.06889022109711,
          -4.631310946303213,
          -3.9860429272055575,
          -6.168786400575687,
          -4.631310946303213,
          -4.604882750924732,
          -4.631310946303213,
          -7.479424674779689,
          -4.631310946303213,
          -4.631310946303213,
          -4.631310946303213,
          1.0934051407932577,
          -4.631310946303213,
          -2.5457781855605432,
          -4.631310946303213,
          -4.631310946303213,
          -4.631310946303213,
          4.4272715989058575,
          -4.631310946303213,
          -4.631310946303213,
          -1.685154266617983,
          -4.631310946303213,
          1.6028179926755648,
          5.1874204047918315,
          -4.631310946303213,
          -2.5457781855605432,
          13.983430649775386,
          -4.631310946303213,
          -3.9860429272055575,
          -4.06889022109711,
          0.27306808301110763,
          -9.899138398881702,
          -4.631310946303213,
          -4.631310946303213,
          -7.402087663604473,
          -1.685154266617983,
          -4.631310946303213,
          1.6028179926755648,
          -3.9860429272055575,
          -4.631310946303213,
          2.4060571049153046,
          -4.631310946303213,
          -4.631310946303213,
          -4.631310946303213,
          -2.617006759420959,
          -4.631310946303213,
          -10.851025376067213,
          -4.631310946303213,
          -3.3492910197644887,
          -7.479424674779689,
          -1.685154266617983,
          2.4060571049153046,
          1.0934051407932577,
          6.677844336264993,
          0.27306808301110763,
          -4.631310946303213,
          -19.192419312325026,
          -4.631310946303213,
          -4.631310946303213,
          4.893340772410282,
          -4.631310946303213,
          -4.631310946303213,
          13.965193850862502,
          -4.631310946303213,
          -4.631310946303213,
          6.44840692454125,
          -4.631310946303213,
          -4.631310946303213,
          -2.590020368002144,
          -4.631310946303213,
          -10.851025376067213,
          -4.631310946303213,
          5.602567289907268,
          -4.631310946303213,
          -4.631310946303213,
          -4.631310946303213,
          -9.899138398881702,
          -4.631310946303213,
          -4.631310946303213,
          5.1874204047918315,
          -4.631310946303213,
          -4.631310946303213,
          -7.654168304490804,
          -4.631310946303213,
          -4.631310946303213,
          -4.631310946303213,
          -4.631310946303213,
          -5.193225780999899,
          -4.631310946303213,
          5.153533021228274,
          -9.899138398881702,
          -4.06889022109711,
          -2.617006759420959,
          -4.631310946303213,
          2.105644050035038,
          1.6028179926755648,
          -4.631310946303213,
          -13.554664332443023,
          -4.631310946303213,
          -4.840719512495351,
          -4.631310946303213,
          7.902596461172884,
          3.710214992312544,
          -4.631310946303213,
          -4.631310946303213,
          5.248820425145273,
          -1.6029738835362184,
          4.036564781167606,
          -4.631310946303213,
          -2.617006759420959,
          -4.631310946303213,
          -4.631310946303213,
          -4.631310946303213,
          5.017717273813971,
          -4.631310946303213,
          5.248820425145273,
          -4.631310946303213,
          -4.631310946303213,
          4.036564781167606,
          -4.631310946303213,
          -4.631310946303213,
          -4.250137765608997,
          -9.899138398881702,
          -4.002772098224927,
          -4.631310946303213,
          -4.631310946303213,
          -4.631310946303213,
          -4.631310946303213,
          -4.604882750924732,
          0.27306808301110763,
          -6.4195052581949135,
          -4.631310946303213,
          7.108817335949569,
          -4.631310946303213,
          -4.631310946303213,
          11.76374381218559,
          -2.134015998458849,
          -2.617006759420959,
          -4.631310946303213,
          15.011954732172184,
          -13.554664332443023,
          -4.631310946303213,
          5.1874204047918315,
          -4.631310946303213,
          -4.631310946303213,
          -14.154697305192187,
          7.369876594178448,
          -4.604882750924732,
          -4.631310946303213,
          -2.5457781855605432,
          6.949881587787909,
          5.1874204047918315,
          -4.631310946303213,
          -9.899138398881702,
          6.657018633407086,
          -4.525142939290216,
          4.065394984118109,
          -4.631310946303213,
          -3.9860429272055575,
          0.5678350936503263,
          1.0934051407932577,
          -4.631310946303213,
          -4.631310946303213,
          -4.631310946303213,
          4.036564781167606,
          -1.685154266617983,
          -4.604882750924732,
          -4.631310946303213,
          -3.9860429272055575,
          0.8714263631454333,
          -4.631310946303213,
          -4.631310946303213,
          -4.631310946303213,
          -4.631310946303213,
          13.020957660823495,
          -7.479424674779689,
          4.244124092478696,
          -10.851025376067213,
          -4.840719512495351,
          -4.631310946303213,
          -4.631310946303213,
          -4.250137765608997,
          -4.631310946303213,
          -4.631310946303213,
          -4.631310946303213,
          -4.631310946303213,
          -4.06889022109711,
          -4.631310946303213,
          -12.33008736505976,
          -4.631310946303213,
          -3.2803265453192343,
          5.248820425145273,
          5.263697526057376,
          -7.654168304490804,
          9.956051042430003,
          1.6028179926755648,
          -4.631310946303213,
          -2.5457781855605432,
          -4.631310946303213,
          2.826681545252807,
          -4.631310946303213,
          -12.214913033636144,
          -4.631310946303213,
          15.45062507505146,
          -4.631310946303213,
          -4.631310946303213,
          5.248820425145273,
          12.391305373932315,
          -4.631310946303213,
          -4.631310946303213,
          3.9666231288019826,
          -4.631310946303213,
          -4.631310946303213,
          -4.631310946303213,
          -4.631310946303213,
          -4.631310946303213,
          -8.62277757494514,
          6.648290382205557,
          -4.631310946303213,
          4.036564781167606,
          -4.840719512495351,
          0.9740420511217707,
          -4.631310946303213,
          -4.631310946303213,
          -1.2357229092309074,
          -4.631310946303213,
          -4.631310946303213,
          -4.250137765608997,
          -4.840719512495351,
          -4.631310946303213,
          -4.631310946303213,
          -4.631310946303213,
          -4.631310946303213,
          -3.2803265453192343,
          -6.168786400575687,
          0.27306808301110763,
          -4.631310946303213,
          -4.631310946303213,
          -3.9860429272055575,
          -4.631310946303213,
          -4.631310946303213,
          -12.75502385953462,
          1.0934051407932577,
          -4.631310946303213,
          -4.631310946303213,
          0.27306808301110763,
          -11.351689173093604,
          -6.853427096766785,
          -4.631310946303213,
          2.6347781084564925,
          -4.223603941020427,
          -9.82382400188354,
          -4.631310946303213,
          6.30754375406537,
          -2.617006759420959,
          -4.631310946303213,
          -4.631310946303213,
          -4.631310946303213,
          -4.631310946303213,
          -4.631310946303213,
          -4.631310946303213,
          -4.631310946303213,
          -4.631310946303213,
          -4.631310946303213,
          4.802551046461256,
          -4.250137765608997,
          0.27306808301110763,
          -4.631310946303213,
          -3.3492910197644887,
          -4.631310946303213,
          -4.631310946303213,
          -4.631310946303213,
          -4.840719512495351,
          -4.631310946303213,
          -4.631310946303213,
          12.391305373932315,
          -1.685154266617983,
          -4.631310946303213,
          3.8849111160071947,
          -4.631310946303213,
          -3.3304604274259964,
          -13.554664332443023,
          6.648290382205557,
          -2.617006759420959,
          -4.631310946303213,
          -4.06889022109711,
          -4.631310946303213,
          -9.899138398881702,
          -4.631310946303213,
          -4.604882750924732,
          -4.631310946303213,
          -4.631310946303213,
          2.4060571049153046,
          -4.631310946303213,
          -4.631310946303213,
          -4.631310946303213,
          -2.617006759420959,
          4.088693283330147,
          6.648290382205557,
          -4.604882750924732,
          -4.631310946303213,
          -4.631310946303213,
          -4.631310946303213,
          -4.631310946303213,
          4.036564781167606,
          9.034824090891336,
          3.8849111160071947,
          -4.250137765608997,
          -13.554664332443023,
          6.739765891914518,
          -4.631310946303213,
          1.6028179926755648,
          6.632904207402035,
          14.945091731955662,
          2.4060571049153046,
          -4.604882750924732,
          -4.631310946303213,
          -4.631310946303213,
          -4.631310946303213,
          -4.631310946303213,
          2.4060571049153046,
          -1.8245109058214526,
          -4.631310946303213,
          3.8849111160071947,
          -4.631310946303213,
          -4.631310946303213,
          -4.631310946303213,
          2.6065207651259747,
          -4.631310946303213,
          3.8081234753411852,
          -4.551593225729311,
          -7.175761052549978,
          -4.631310946303213,
          9.034824090891336,
          -4.631310946303213,
          -4.631310946303213,
          -4.631310946303213,
          2.6347781084564925,
          5.1874204047918315,
          -2.5457781855605432,
          4.4272715989058575,
          -10.851025376067213,
          -4.631310946303213,
          -4.551593225729311,
          -4.631310946303213,
          -4.631310946303213,
          -4.631310946303213,
          -4.631310946303213,
          2.6347781084564925,
          -4.631310946303213,
          -4.631310946303213,
          -4.631310946303213,
          1.3485223557749615,
          -4.631310946303213,
          -4.631310946303213,
          -4.631310946303213,
          13.29152042658861,
          -4.631310946303213,
          -4.631310946303213,
          -9.899138398881702,
          -6.3412822711221395,
          -4.631310946303213,
          -6.4195052581949135,
          -4.631310946303213,
          4.350740678612741,
          2.1898921389804205,
          -4.631310946303213,
          4.4272715989058575,
          -3.2803265453192343,
          0.08988672376597506,
          3.1291500036785935,
          -7.479424674779689,
          4.4272715989058575,
          -4.631310946303213,
          12.391305373932315,
          3.8849111160071947,
          -4.631310946303213,
          4.74047996272442,
          0.27306808301110763,
          -4.631310946303213,
          -4.631310946303213,
          6.986145750588135,
          -4.631310946303213,
          -6.4195052581949135,
          -9.899138398881702,
          1.0934051407932577,
          -4.631310946303213,
          -4.604882750924732,
          -4.631310946303213,
          -4.631310946303213,
          -1.685154266617983,
          -4.631310946303213,
          -12.96977204693588,
          -4.631310946303213,
          -4.631310946303213,
          -4.250137765608997,
          -4.631310946303213,
          4.930277588928744,
          -4.631310946303213,
          16.743163466567413,
          -4.631310946303213,
          -10.851025376067213,
          -4.551593225729311,
          -4.631310946303213,
          -4.631310946303213,
          -1.685154266617983,
          -4.631310946303213,
          -4.604882750924732,
          -4.631310946303213,
          -4.631310946303213,
          -4.604882750924732,
          -4.631310946303213,
          -4.631310946303213,
          -6.3412822711221395,
          0.05289058426067861,
          -4.631310946303213,
          -4.631310946303213,
          -4.631310946303213,
          13.462285866373591,
          -4.631310946303213,
          1.6877467584437644,
          -4.631310946303213,
          -4.631310946303213,
          4.036564781167606,
          -4.631310946303213,
          -13.554664332443023,
          -4.223603941020427,
          6.632904207402035,
          0.27306808301110763,
          1.0934051407932577,
          -4.631310946303213,
          0.27306808301110763,
          -2.617006759420959,
          2.6347781084564925,
          -4.631310946303213,
          -4.631310946303213,
          -7.479424674779689,
          -4.631310946303213,
          -4.631310946303213,
          -8.823421762471707,
          0.27306808301110763,
          -10.343550070706463,
          -4.631310946303213,
          0.27306808301110763,
          -4.631310946303213,
          -4.631310946303213,
          5.248820425145273
         ],
         "y0": " ",
         "yaxis": "y"
        }
       ],
       "layout": {
        "boxmode": "group",
        "height": 600,
        "legend": {
         "title": {
          "text": "model_type"
         },
         "tracegroupgap": 0
        },
        "margin": {
         "t": 60
        },
        "template": {
         "data": {
          "bar": [
           {
            "error_x": {
             "color": "#2a3f5f"
            },
            "error_y": {
             "color": "#2a3f5f"
            },
            "marker": {
             "line": {
              "color": "#E5ECF6",
              "width": 0.5
             },
             "pattern": {
              "fillmode": "overlay",
              "size": 10,
              "solidity": 0.2
             }
            },
            "type": "bar"
           }
          ],
          "barpolar": [
           {
            "marker": {
             "line": {
              "color": "#E5ECF6",
              "width": 0.5
             },
             "pattern": {
              "fillmode": "overlay",
              "size": 10,
              "solidity": 0.2
             }
            },
            "type": "barpolar"
           }
          ],
          "carpet": [
           {
            "aaxis": {
             "endlinecolor": "#2a3f5f",
             "gridcolor": "white",
             "linecolor": "white",
             "minorgridcolor": "white",
             "startlinecolor": "#2a3f5f"
            },
            "baxis": {
             "endlinecolor": "#2a3f5f",
             "gridcolor": "white",
             "linecolor": "white",
             "minorgridcolor": "white",
             "startlinecolor": "#2a3f5f"
            },
            "type": "carpet"
           }
          ],
          "choropleth": [
           {
            "colorbar": {
             "outlinewidth": 0,
             "ticks": ""
            },
            "type": "choropleth"
           }
          ],
          "contour": [
           {
            "colorbar": {
             "outlinewidth": 0,
             "ticks": ""
            },
            "colorscale": [
             [
              0,
              "#0d0887"
             ],
             [
              0.1111111111111111,
              "#46039f"
             ],
             [
              0.2222222222222222,
              "#7201a8"
             ],
             [
              0.3333333333333333,
              "#9c179e"
             ],
             [
              0.4444444444444444,
              "#bd3786"
             ],
             [
              0.5555555555555556,
              "#d8576b"
             ],
             [
              0.6666666666666666,
              "#ed7953"
             ],
             [
              0.7777777777777778,
              "#fb9f3a"
             ],
             [
              0.8888888888888888,
              "#fdca26"
             ],
             [
              1,
              "#f0f921"
             ]
            ],
            "type": "contour"
           }
          ],
          "contourcarpet": [
           {
            "colorbar": {
             "outlinewidth": 0,
             "ticks": ""
            },
            "type": "contourcarpet"
           }
          ],
          "heatmap": [
           {
            "colorbar": {
             "outlinewidth": 0,
             "ticks": ""
            },
            "colorscale": [
             [
              0,
              "#0d0887"
             ],
             [
              0.1111111111111111,
              "#46039f"
             ],
             [
              0.2222222222222222,
              "#7201a8"
             ],
             [
              0.3333333333333333,
              "#9c179e"
             ],
             [
              0.4444444444444444,
              "#bd3786"
             ],
             [
              0.5555555555555556,
              "#d8576b"
             ],
             [
              0.6666666666666666,
              "#ed7953"
             ],
             [
              0.7777777777777778,
              "#fb9f3a"
             ],
             [
              0.8888888888888888,
              "#fdca26"
             ],
             [
              1,
              "#f0f921"
             ]
            ],
            "type": "heatmap"
           }
          ],
          "heatmapgl": [
           {
            "colorbar": {
             "outlinewidth": 0,
             "ticks": ""
            },
            "colorscale": [
             [
              0,
              "#0d0887"
             ],
             [
              0.1111111111111111,
              "#46039f"
             ],
             [
              0.2222222222222222,
              "#7201a8"
             ],
             [
              0.3333333333333333,
              "#9c179e"
             ],
             [
              0.4444444444444444,
              "#bd3786"
             ],
             [
              0.5555555555555556,
              "#d8576b"
             ],
             [
              0.6666666666666666,
              "#ed7953"
             ],
             [
              0.7777777777777778,
              "#fb9f3a"
             ],
             [
              0.8888888888888888,
              "#fdca26"
             ],
             [
              1,
              "#f0f921"
             ]
            ],
            "type": "heatmapgl"
           }
          ],
          "histogram": [
           {
            "marker": {
             "pattern": {
              "fillmode": "overlay",
              "size": 10,
              "solidity": 0.2
             }
            },
            "type": "histogram"
           }
          ],
          "histogram2d": [
           {
            "colorbar": {
             "outlinewidth": 0,
             "ticks": ""
            },
            "colorscale": [
             [
              0,
              "#0d0887"
             ],
             [
              0.1111111111111111,
              "#46039f"
             ],
             [
              0.2222222222222222,
              "#7201a8"
             ],
             [
              0.3333333333333333,
              "#9c179e"
             ],
             [
              0.4444444444444444,
              "#bd3786"
             ],
             [
              0.5555555555555556,
              "#d8576b"
             ],
             [
              0.6666666666666666,
              "#ed7953"
             ],
             [
              0.7777777777777778,
              "#fb9f3a"
             ],
             [
              0.8888888888888888,
              "#fdca26"
             ],
             [
              1,
              "#f0f921"
             ]
            ],
            "type": "histogram2d"
           }
          ],
          "histogram2dcontour": [
           {
            "colorbar": {
             "outlinewidth": 0,
             "ticks": ""
            },
            "colorscale": [
             [
              0,
              "#0d0887"
             ],
             [
              0.1111111111111111,
              "#46039f"
             ],
             [
              0.2222222222222222,
              "#7201a8"
             ],
             [
              0.3333333333333333,
              "#9c179e"
             ],
             [
              0.4444444444444444,
              "#bd3786"
             ],
             [
              0.5555555555555556,
              "#d8576b"
             ],
             [
              0.6666666666666666,
              "#ed7953"
             ],
             [
              0.7777777777777778,
              "#fb9f3a"
             ],
             [
              0.8888888888888888,
              "#fdca26"
             ],
             [
              1,
              "#f0f921"
             ]
            ],
            "type": "histogram2dcontour"
           }
          ],
          "mesh3d": [
           {
            "colorbar": {
             "outlinewidth": 0,
             "ticks": ""
            },
            "type": "mesh3d"
           }
          ],
          "parcoords": [
           {
            "line": {
             "colorbar": {
              "outlinewidth": 0,
              "ticks": ""
             }
            },
            "type": "parcoords"
           }
          ],
          "pie": [
           {
            "automargin": true,
            "type": "pie"
           }
          ],
          "scatter": [
           {
            "fillpattern": {
             "fillmode": "overlay",
             "size": 10,
             "solidity": 0.2
            },
            "type": "scatter"
           }
          ],
          "scatter3d": [
           {
            "line": {
             "colorbar": {
              "outlinewidth": 0,
              "ticks": ""
             }
            },
            "marker": {
             "colorbar": {
              "outlinewidth": 0,
              "ticks": ""
             }
            },
            "type": "scatter3d"
           }
          ],
          "scattercarpet": [
           {
            "marker": {
             "colorbar": {
              "outlinewidth": 0,
              "ticks": ""
             }
            },
            "type": "scattercarpet"
           }
          ],
          "scattergeo": [
           {
            "marker": {
             "colorbar": {
              "outlinewidth": 0,
              "ticks": ""
             }
            },
            "type": "scattergeo"
           }
          ],
          "scattergl": [
           {
            "marker": {
             "colorbar": {
              "outlinewidth": 0,
              "ticks": ""
             }
            },
            "type": "scattergl"
           }
          ],
          "scattermapbox": [
           {
            "marker": {
             "colorbar": {
              "outlinewidth": 0,
              "ticks": ""
             }
            },
            "type": "scattermapbox"
           }
          ],
          "scatterpolar": [
           {
            "marker": {
             "colorbar": {
              "outlinewidth": 0,
              "ticks": ""
             }
            },
            "type": "scatterpolar"
           }
          ],
          "scatterpolargl": [
           {
            "marker": {
             "colorbar": {
              "outlinewidth": 0,
              "ticks": ""
             }
            },
            "type": "scatterpolargl"
           }
          ],
          "scatterternary": [
           {
            "marker": {
             "colorbar": {
              "outlinewidth": 0,
              "ticks": ""
             }
            },
            "type": "scatterternary"
           }
          ],
          "surface": [
           {
            "colorbar": {
             "outlinewidth": 0,
             "ticks": ""
            },
            "colorscale": [
             [
              0,
              "#0d0887"
             ],
             [
              0.1111111111111111,
              "#46039f"
             ],
             [
              0.2222222222222222,
              "#7201a8"
             ],
             [
              0.3333333333333333,
              "#9c179e"
             ],
             [
              0.4444444444444444,
              "#bd3786"
             ],
             [
              0.5555555555555556,
              "#d8576b"
             ],
             [
              0.6666666666666666,
              "#ed7953"
             ],
             [
              0.7777777777777778,
              "#fb9f3a"
             ],
             [
              0.8888888888888888,
              "#fdca26"
             ],
             [
              1,
              "#f0f921"
             ]
            ],
            "type": "surface"
           }
          ],
          "table": [
           {
            "cells": {
             "fill": {
              "color": "#EBF0F8"
             },
             "line": {
              "color": "white"
             }
            },
            "header": {
             "fill": {
              "color": "#C8D4E3"
             },
             "line": {
              "color": "white"
             }
            },
            "type": "table"
           }
          ]
         },
         "layout": {
          "annotationdefaults": {
           "arrowcolor": "#2a3f5f",
           "arrowhead": 0,
           "arrowwidth": 1
          },
          "autotypenumbers": "strict",
          "coloraxis": {
           "colorbar": {
            "outlinewidth": 0,
            "ticks": ""
           }
          },
          "colorscale": {
           "diverging": [
            [
             0,
             "#8e0152"
            ],
            [
             0.1,
             "#c51b7d"
            ],
            [
             0.2,
             "#de77ae"
            ],
            [
             0.3,
             "#f1b6da"
            ],
            [
             0.4,
             "#fde0ef"
            ],
            [
             0.5,
             "#f7f7f7"
            ],
            [
             0.6,
             "#e6f5d0"
            ],
            [
             0.7,
             "#b8e186"
            ],
            [
             0.8,
             "#7fbc41"
            ],
            [
             0.9,
             "#4d9221"
            ],
            [
             1,
             "#276419"
            ]
           ],
           "sequential": [
            [
             0,
             "#0d0887"
            ],
            [
             0.1111111111111111,
             "#46039f"
            ],
            [
             0.2222222222222222,
             "#7201a8"
            ],
            [
             0.3333333333333333,
             "#9c179e"
            ],
            [
             0.4444444444444444,
             "#bd3786"
            ],
            [
             0.5555555555555556,
             "#d8576b"
            ],
            [
             0.6666666666666666,
             "#ed7953"
            ],
            [
             0.7777777777777778,
             "#fb9f3a"
            ],
            [
             0.8888888888888888,
             "#fdca26"
            ],
            [
             1,
             "#f0f921"
            ]
           ],
           "sequentialminus": [
            [
             0,
             "#0d0887"
            ],
            [
             0.1111111111111111,
             "#46039f"
            ],
            [
             0.2222222222222222,
             "#7201a8"
            ],
            [
             0.3333333333333333,
             "#9c179e"
            ],
            [
             0.4444444444444444,
             "#bd3786"
            ],
            [
             0.5555555555555556,
             "#d8576b"
            ],
            [
             0.6666666666666666,
             "#ed7953"
            ],
            [
             0.7777777777777778,
             "#fb9f3a"
            ],
            [
             0.8888888888888888,
             "#fdca26"
            ],
            [
             1,
             "#f0f921"
            ]
           ]
          },
          "colorway": [
           "#636efa",
           "#EF553B",
           "#00cc96",
           "#ab63fa",
           "#FFA15A",
           "#19d3f3",
           "#FF6692",
           "#B6E880",
           "#FF97FF",
           "#FECB52"
          ],
          "font": {
           "color": "#2a3f5f"
          },
          "geo": {
           "bgcolor": "white",
           "lakecolor": "white",
           "landcolor": "#E5ECF6",
           "showlakes": true,
           "showland": true,
           "subunitcolor": "white"
          },
          "hoverlabel": {
           "align": "left"
          },
          "hovermode": "closest",
          "mapbox": {
           "style": "light"
          },
          "paper_bgcolor": "white",
          "plot_bgcolor": "#E5ECF6",
          "polar": {
           "angularaxis": {
            "gridcolor": "white",
            "linecolor": "white",
            "ticks": ""
           },
           "bgcolor": "#E5ECF6",
           "radialaxis": {
            "gridcolor": "white",
            "linecolor": "white",
            "ticks": ""
           }
          },
          "scene": {
           "xaxis": {
            "backgroundcolor": "#E5ECF6",
            "gridcolor": "white",
            "gridwidth": 2,
            "linecolor": "white",
            "showbackground": true,
            "ticks": "",
            "zerolinecolor": "white"
           },
           "yaxis": {
            "backgroundcolor": "#E5ECF6",
            "gridcolor": "white",
            "gridwidth": 2,
            "linecolor": "white",
            "showbackground": true,
            "ticks": "",
            "zerolinecolor": "white"
           },
           "zaxis": {
            "backgroundcolor": "#E5ECF6",
            "gridcolor": "white",
            "gridwidth": 2,
            "linecolor": "white",
            "showbackground": true,
            "ticks": "",
            "zerolinecolor": "white"
           }
          },
          "shapedefaults": {
           "line": {
            "color": "#2a3f5f"
           }
          },
          "ternary": {
           "aaxis": {
            "gridcolor": "white",
            "linecolor": "white",
            "ticks": ""
           },
           "baxis": {
            "gridcolor": "white",
            "linecolor": "white",
            "ticks": ""
           },
           "bgcolor": "#E5ECF6",
           "caxis": {
            "gridcolor": "white",
            "linecolor": "white",
            "ticks": ""
           }
          },
          "title": {
           "x": 0.05
          },
          "xaxis": {
           "automargin": true,
           "gridcolor": "white",
           "linecolor": "white",
           "ticks": "",
           "title": {
            "standoff": 15
           },
           "zerolinecolor": "white",
           "zerolinewidth": 2
          },
          "yaxis": {
           "automargin": true,
           "gridcolor": "white",
           "linecolor": "white",
           "ticks": "",
           "title": {
            "standoff": 15
           },
           "zerolinecolor": "white",
           "zerolinewidth": 2
          }
         }
        },
        "width": 800,
        "xaxis": {
         "anchor": "y",
         "domain": [
          0,
          1
         ]
        },
        "yaxis": {
         "anchor": "x",
         "domain": [
          0,
          1
         ],
         "title": {
          "text": "fmt_total_profit_percentage"
         }
        }
       }
      }
     },
     "metadata": {},
     "output_type": "display_data"
    }
   ],
   "source": [
    "fig = px.box(df_trader_results, y=\"fmt_total_profit_percentage\", color=\"model_type\", points=\"all\", color_discrete_sequence=[ \"#FF7F0E\", \"#00CC96\", \"#10aded\", \"#8A56EF\"],  width=800, height=600)\n",
    "fig.show()"
   ]
  },
  {
   "cell_type": "code",
   "execution_count": 18,
   "metadata": {},
   "outputs": [
    {
     "data": {
      "application/vnd.plotly.v1+json": {
       "config": {
        "plotlyServerURL": "https://plot.ly"
       },
       "data": [
        {
         "alignmentgroup": "True",
         "bingroup": "x",
         "hovertemplate": "model_type=DQN<br>fmt_total_profit_percentage=%{x}<br>count=%{y}<extra></extra>",
         "legendgroup": "DQN",
         "marker": {
          "color": "#FF7F0E",
          "pattern": {
           "shape": ""
          }
         },
         "name": "DQN",
         "offsetgroup": "DQN",
         "orientation": "v",
         "showlegend": true,
         "type": "histogram",
         "x": [
          -4.631310946303213,
          8.930656205740718,
          -4.631310946303213,
          -4.631310946303213,
          -4.631310946303213,
          -7.479424674779689,
          -4.631310946303213,
          5.960937772484054,
          -7.029353048232679,
          -3.9860429272055575,
          3.8849111160071947,
          -4.631310946303213,
          3.8849111160071947,
          -4.631310946303213,
          -4.631310946303213,
          -4.631310946303213,
          -4.631310946303213,
          -4.631310946303213,
          4.036564781167606,
          -4.631310946303213,
          -4.631310946303213,
          -4.631310946303213,
          -4.551593225729311,
          -3.2803265453192343,
          -4.631310946303213,
          0.27306808301110763,
          -1.685154266617983,
          -13.554664332443023,
          -4.631310946303213,
          -4.631310946303213,
          8.642031412670681,
          7.277230649854394,
          -4.631310946303213,
          5.1874204047918315,
          2.4060571049153046,
          -4.631310946303213,
          -4.631310946303213,
          6.029934858053454,
          -4.631310946303213,
          1.0934051407932577,
          -4.631310946303213,
          -4.631310946303213,
          -4.631310946303213,
          -4.631310946303213,
          0.06361140483119865,
          -4.631310946303213,
          -4.631310946303213,
          -4.631310946303213,
          4.036564781167606,
          -9.899138398881702,
          -4.631310946303213,
          -4.631310946303213,
          -4.631310946303213,
          5.602567289907268,
          -4.631310946303213,
          17.740021745450463,
          -4.631310946303213,
          -4.840719512495351,
          2.105644050035038,
          -4.631310946303213,
          -4.631310946303213,
          -2.5457781855605432,
          -4.631310946303213,
          -4.06889022109711,
          3.8849111160071947,
          3.8849111160071947,
          -4.631310946303213,
          -4.631310946303213,
          0.8714263631454333,
          3.8849111160071947,
          -4.840719512495351,
          5.602567289907268,
          6.648290382205557,
          -11.588559212047578,
          -2.5457781855605432,
          0.27306808301110763,
          5.248820425145273,
          5.2657472631471025,
          1.0934051407932577,
          -4.631310946303213,
          1.0934051407932577,
          -4.631310946303213,
          -4.631310946303213,
          4.4272715989058575,
          3.8849111160071947,
          -4.631310946303213,
          -4.250137765608997,
          3.0989402122261867,
          7.911895601819241,
          -1.9581098849261402,
          -4.631310946303213,
          -4.631310946303213,
          -4.278338443009744,
          -1.9803714737241962,
          -4.631310946303213,
          6.44840692454125,
          -14.675304931308341,
          -5.525276158117009,
          -4.631310946303213,
          3.8849111160071947,
          -4.631310946303213,
          -4.631310946303213,
          -4.631310946303213,
          -4.631310946303213,
          -4.490635283370126,
          -4.631310946303213,
          -8.59745547907329,
          -10.851025376067213,
          -4.631310946303213,
          -4.631310946303213,
          -4.631310946303213,
          -4.631310946303213,
          9.082844275748325,
          6.029934858053454,
          -4.631310946303213,
          -4.631310946303213,
          6.44840692454125,
          -4.631310946303213,
          -4.631310946303213,
          -4.631310946303213,
          -6.194396428133353,
          -3.3492910197644887,
          4.036564781167606,
          -4.604882750924732,
          -4.631310946303213,
          -4.631310946303213,
          -4.631310946303213,
          -4.06889022109711,
          4.949854880638305,
          -4.631310946303213,
          -4.631310946303213,
          -4.631310946303213,
          -7.654168304490804,
          3.8849111160071947,
          5.1874204047918315,
          -4.631310946303213,
          -4.631310946303213,
          -1.685154266617983,
          -7.654168304490804,
          -4.631310946303213,
          4.4272715989058575,
          -4.631310946303213,
          -4.631310946303213,
          -4.631310946303213,
          -4.631310946303213,
          -1.685154266617983,
          -4.840719512495351,
          -4.631310946303213,
          -4.604882750924732,
          -4.631310946303213,
          -4.631310946303213,
          1.0934051407932577,
          5.602567289907268,
          5.602567289907268,
          1.0934051407932577,
          -4.06889022109711,
          3.8849111160071947,
          -4.631310946303213,
          -4.631310946303213,
          6.648290382205557,
          -4.631310946303213,
          4.036564781167606,
          -4.631310946303213,
          -4.631310946303213,
          -4.631310946303213,
          2.4060571049153046,
          -4.631310946303213,
          -1.685154266617983,
          14.289805685998669,
          -4.631310946303213,
          -4.631310946303213,
          -2.3177550648626477,
          -4.631310946303213,
          4.036564781167606,
          -4.631310946303213,
          -2.8937536991131996,
          -4.1701014262367275,
          -2.5457781855605432,
          -3.9594359176958416,
          4.587800203349257,
          12.3214585969299,
          -6.4195052581949135,
          -4.631310946303213,
          -5.105389304891583,
          -4.631310946303213,
          -9.899138398881702,
          -4.631310946303213,
          -2.617006759420959,
          -4.631310946303213,
          -4.250137765608997,
          -4.631310946303213,
          -4.631310946303213,
          -4.631310946303213,
          2.6347781084564925,
          12.391305373932315,
          3.0989402122261867,
          -4.631310946303213,
          -4.631310946303213,
          -4.631310946303213,
          3.456846789586887,
          -4.631310946303213,
          3.8849111160071947,
          -4.631310946303213,
          -4.631310946303213,
          -4.631310946303213,
          -4.631310946303213,
          2.6602866883789877,
          -4.631310946303213,
          -3.3492910197644887,
          -4.631310946303213,
          -4.631310946303213,
          6.648290382205557,
          6.648290382205557,
          -4.631310946303213,
          -13.554664332443023,
          12.391305373932315,
          -4.631310946303213,
          -4.551593225729311,
          3.73733673572334,
          4.088693283330147,
          -7.654168304490804,
          -2.617006759420959,
          -4.631310946303213,
          -13.209156347804296,
          0.27306808301110763,
          -4.631310946303213,
          -4.631310946303213,
          -4.631310946303213,
          -4.631310946303213,
          3.0772935758606623,
          -4.631310946303213,
          -4.631310946303213,
          -4.631310946303213,
          -4.631310946303213,
          -3.2803265453192343,
          -4.631310946303213,
          3.8849111160071947,
          -4.631310946303213,
          -4.631310946303213,
          14.87612748759255,
          -4.631310946303213,
          6.3170781014002975,
          -4.631310946303213,
          -3.3492910197644887,
          -4.631310946303213,
          -4.551593225729311,
          -4.631310946303213,
          -4.631310946303213,
          8.054434286534384,
          5.356535564323872,
          0.5865574748118663,
          -4.631310946303213,
          -4.250137765608997,
          1.3187488878589892,
          -4.631310946303213,
          5.889625451637959,
          6.648290382205557,
          -4.631310946303213,
          1.6028179926755648,
          -4.631310946303213,
          -4.631310946303213,
          -4.631310946303213,
          -4.631310946303213,
          -10.094868171554827,
          -6.23569130318039,
          -3.9860429272055575,
          -4.631310946303213,
          -4.631310946303213,
          -4.631310946303213,
          -4.631310946303213,
          -4.631310946303213,
          -9.899138398881702,
          -4.631310946303213,
          -4.250137765608997,
          -4.631310946303213,
          -4.631310946303213,
          -4.631310946303213,
          3.8849111160071947,
          -4.631310946303213,
          -4.631310946303213,
          4.956452074336792,
          -4.631310946303213,
          2.6347781084564925,
          -4.631310946303213,
          -4.631310946303213,
          -4.631310946303213,
          -4.250137765608997,
          -4.551593225729311,
          14.765148185763422,
          2.4166210341564076,
          -10.851025376067213,
          3.689068755335123,
          4.036564781167606,
          -4.631310946303213,
          -4.631310946303213,
          -4.631310946303213,
          -3.2803265453192343,
          -4.631310946303213,
          -4.631310946303213,
          8.08193946303013,
          -4.631310946303213,
          -4.631310946303213,
          -7.479424674779689,
          -4.631310946303213,
          2.4060571049153046,
          -4.631310946303213,
          -4.631310946303213,
          -3.9860429272055575,
          -4.631310946303213,
          -4.631310946303213,
          -13.04486757567458,
          -2.617006759420959,
          -7.654168304490804,
          5.1874204047918315,
          -4.840719512495351,
          -2.617006759420959,
          -4.631310946303213,
          -4.631310946303213,
          -0.7793907355949092,
          -4.631310946303213,
          -4.631310946303213,
          -4.631310946303213,
          13.054114101854308,
          -4.631310946303213,
          -6.194029763598275,
          -4.551593225729311,
          -2.5457781855605432,
          13.050089438797308,
          0.27306808301110763,
          5.017717273813971,
          -4.631310946303213,
          -4.631310946303213,
          -1.9581098849261402,
          -4.631310946303213,
          3.9717474602871006,
          -4.631310946303213,
          -4.631310946303213,
          -10.851025376067213,
          2.6347781084564925,
          -2.5457781855605432,
          -2.1562694687093154,
          -3.3492910197644887,
          0.826852612530371,
          6.648290382205557,
          -2.617006759420959,
          -2.617006759420959,
          -4.631310946303213,
          -4.631310946303213,
          -4.631310946303213,
          1.6028179926755648,
          -6.4195052581949135,
          -9.899138398881702,
          -13.554664332443023,
          -4.631310946303213,
          2.4060571049153046,
          0.27306808301110763,
          -7.654168304490804,
          5.248820425145273,
          -4.631310946303213,
          -1.3409197601769285,
          -4.631310946303213,
          -4.631310946303213,
          -4.631310946303213,
          6.648290382205557,
          -4.631310946303213,
          -4.631310946303213,
          -4.631310946303213,
          -3.3492910197644887,
          -3.988702378739417,
          -4.631310946303213,
          -4.631310946303213,
          -4.631310946303213,
          -4.631310946303213,
          -9.899138398881702,
          -3.4236844496357444,
          -4.631310946303213,
          4.893340772410282,
          -7.479424674779689,
          -2.617006759420959,
          -4.631310946303213,
          -13.554664332443023,
          -4.631310946303213,
          -4.631310946303213,
          -4.631310946303213,
          -4.631310946303213,
          -2.617006759420959,
          -4.631310946303213,
          -6.4195052581949135,
          -4.631310946303213,
          -13.554664332443023,
          5.1874204047918315,
          3.8849111160071947,
          -4.631310946303213,
          -4.631310946303213,
          -4.631310946303213,
          4.699873887272865,
          -4.840719512495351,
          -4.631310946303213,
          0.27306808301110763,
          -4.631310946303213,
          6.007558682767988,
          6.648290382205557,
          -4.631310946303213,
          -4.631310946303213,
          5.248820425145273,
          -4.631310946303213,
          5.602567289907268,
          0.27306808301110763,
          -4.631310946303213,
          -3.2803265453192343,
          6.648290382205557,
          -4.631310946303213,
          -4.631310946303213,
          -4.631310946303213,
          2.4060571049153046,
          -4.631310946303213,
          -7.654168304490804,
          8.054434286534384,
          -4.631310946303213,
          7.833023591113264,
          2.181196033629562,
          -4.631310946303213,
          -4.631310946303213,
          -4.631310946303213,
          -4.631310946303213,
          -4.36791770588516,
          4.036564781167606,
          -4.631310946303213,
          4.716992925354879,
          -4.631310946303213,
          -4.631310946303213,
          13.983430649775386,
          -4.604882750924732,
          -0.6522222948931011,
          -4.631310946303213,
          1.6028179926755648,
          -4.631310946303213,
          3.0099795188012424,
          -4.631310946303213,
          -3.9860429272055575,
          -4.631310946303213,
          -2.5457781855605432,
          -4.631310946303213,
          -4.551593225729311,
          -4.631310946303213,
          -2.5457781855605432,
          -4.631310946303213,
          -4.631310946303213,
          -4.631310946303213,
          -4.631310946303213,
          7.700358640300364,
          6.648290382205557,
          -4.631310946303213,
          6.648290382205557,
          -4.604882750924732,
          -13.554664332443023,
          -1.685154266617983,
          -4.631310946303213,
          -4.631310946303213,
          -4.250137765608997,
          -4.631310946303213,
          -4.631310946303213,
          -6.4195052581949135,
          -4.631310946303213,
          -4.631310946303213,
          3.9717474602871006,
          8.980486679294808,
          -12.96977204693588,
          4.4272715989058575,
          -4.631310946303213,
          4.4272715989058575,
          -13.554664332443023,
          -4.631310946303213,
          -4.604882750924732,
          -4.631310946303213,
          3.3292087503968837,
          -4.631310946303213,
          -4.631310946303213,
          -1.685154266617983,
          4.4272715989058575,
          -11.503901696345832,
          -4.631310946303213,
          5.602567289907268,
          -4.631310946303213,
          -4.631310946303213,
          -4.631310946303213,
          5.510337541870869,
          -7.479424674779689,
          -4.631310946303213,
          -4.631310946303213,
          1.6028179926755648,
          -4.631310946303213,
          -4.631310946303213,
          0.5957040558958848,
          -4.631310946303213,
          -4.631310946303213,
          -4.631310946303213,
          12.892918812669919,
          -4.442969937857255,
          -1.30426210355018,
          4.587800203349257,
          -10.826320763447184,
          -4.631310946303213,
          -4.631310946303213,
          -4.631310946303213,
          2.058414438363143,
          4.036564781167606,
          -4.06889022109711,
          -9.109172886175031,
          -4.631310946303213,
          -3.2803265453192343,
          -1.1795644257676097,
          -4.631310946303213,
          -4.631310946303213,
          -4.631310946303213,
          3.2286223830752636,
          -3.9860429272055575,
          -4.631310946303213,
          -4.631310946303213,
          -4.631310946303213,
          -4.631310946303213,
          4.526840716594149,
          -4.631310946303213,
          -4.631310946303213,
          -4.598986307304898,
          -4.631310946303213,
          -7.654168304490804,
          -10.851025376067213,
          -1.1531668510326942,
          -2.5457781855605432,
          -10.851025376067213,
          -6.4195052581949135,
          -4.631310946303213,
          -4.631310946303213,
          -4.631310946303213,
          -4.631310946303213,
          -4.631310946303213,
          -4.840719512495351,
          -4.631310946303213,
          -4.631310946303213,
          -4.631310946303213,
          -4.631310946303213,
          4.4272715989058575,
          -4.631310946303213,
          -4.631310946303213,
          -13.554664332443023,
          -4.631310946303213,
          -4.631310946303213,
          -2.5457781855605432,
          -4.631310946303213,
          -7.654168304490804,
          -4.631310946303213,
          -4.06889022109711,
          -4.06889022109711,
          -4.631310946303213,
          -3.9860429272055575,
          -6.168786400575687,
          -4.631310946303213,
          -4.604882750924732,
          -4.631310946303213,
          -7.479424674779689,
          -4.631310946303213,
          -4.631310946303213,
          -4.631310946303213,
          1.0934051407932577,
          -4.631310946303213,
          -2.5457781855605432,
          -4.631310946303213,
          -4.631310946303213,
          -4.631310946303213,
          4.4272715989058575,
          -4.631310946303213,
          -4.631310946303213,
          -1.685154266617983,
          -4.631310946303213,
          1.6028179926755648,
          5.1874204047918315,
          -4.631310946303213,
          -2.5457781855605432,
          13.983430649775386,
          -4.631310946303213,
          -3.9860429272055575,
          -4.06889022109711,
          0.27306808301110763,
          -9.899138398881702,
          -4.631310946303213,
          -4.631310946303213,
          -7.402087663604473,
          -1.685154266617983,
          -4.631310946303213,
          1.6028179926755648,
          -3.9860429272055575,
          -4.631310946303213,
          2.4060571049153046,
          -4.631310946303213,
          -4.631310946303213,
          -4.631310946303213,
          -2.617006759420959,
          -4.631310946303213,
          -10.851025376067213,
          -4.631310946303213,
          -3.3492910197644887,
          -7.479424674779689,
          -1.685154266617983,
          2.4060571049153046,
          1.0934051407932577,
          6.677844336264993,
          0.27306808301110763,
          -4.631310946303213,
          -19.192419312325026,
          -4.631310946303213,
          -4.631310946303213,
          4.893340772410282,
          -4.631310946303213,
          -4.631310946303213,
          13.965193850862502,
          -4.631310946303213,
          -4.631310946303213,
          6.44840692454125,
          -4.631310946303213,
          -4.631310946303213,
          -2.590020368002144,
          -4.631310946303213,
          -10.851025376067213,
          -4.631310946303213,
          5.602567289907268,
          -4.631310946303213,
          -4.631310946303213,
          -4.631310946303213,
          -9.899138398881702,
          -4.631310946303213,
          -4.631310946303213,
          5.1874204047918315,
          -4.631310946303213,
          -4.631310946303213,
          -7.654168304490804,
          -4.631310946303213,
          -4.631310946303213,
          -4.631310946303213,
          -4.631310946303213,
          -5.193225780999899,
          -4.631310946303213,
          5.153533021228274,
          -9.899138398881702,
          -4.06889022109711,
          -2.617006759420959,
          -4.631310946303213,
          2.105644050035038,
          1.6028179926755648,
          -4.631310946303213,
          -13.554664332443023,
          -4.631310946303213,
          -4.840719512495351,
          -4.631310946303213,
          7.902596461172884,
          3.710214992312544,
          -4.631310946303213,
          -4.631310946303213,
          5.248820425145273,
          -1.6029738835362184,
          4.036564781167606,
          -4.631310946303213,
          -2.617006759420959,
          -4.631310946303213,
          -4.631310946303213,
          -4.631310946303213,
          5.017717273813971,
          -4.631310946303213,
          5.248820425145273,
          -4.631310946303213,
          -4.631310946303213,
          4.036564781167606,
          -4.631310946303213,
          -4.631310946303213,
          -4.250137765608997,
          -9.899138398881702,
          -4.002772098224927,
          -4.631310946303213,
          -4.631310946303213,
          -4.631310946303213,
          -4.631310946303213,
          -4.604882750924732,
          0.27306808301110763,
          -6.4195052581949135,
          -4.631310946303213,
          7.108817335949569,
          -4.631310946303213,
          -4.631310946303213,
          11.76374381218559,
          -2.134015998458849,
          -2.617006759420959,
          -4.631310946303213,
          15.011954732172184,
          -13.554664332443023,
          -4.631310946303213,
          5.1874204047918315,
          -4.631310946303213,
          -4.631310946303213,
          -14.154697305192187,
          7.369876594178448,
          -4.604882750924732,
          -4.631310946303213,
          -2.5457781855605432,
          6.949881587787909,
          5.1874204047918315,
          -4.631310946303213,
          -9.899138398881702,
          6.657018633407086,
          -4.525142939290216,
          4.065394984118109,
          -4.631310946303213,
          -3.9860429272055575,
          0.5678350936503263,
          1.0934051407932577,
          -4.631310946303213,
          -4.631310946303213,
          -4.631310946303213,
          4.036564781167606,
          -1.685154266617983,
          -4.604882750924732,
          -4.631310946303213,
          -3.9860429272055575,
          0.8714263631454333,
          -4.631310946303213,
          -4.631310946303213,
          -4.631310946303213,
          -4.631310946303213,
          13.020957660823495,
          -7.479424674779689,
          4.244124092478696,
          -10.851025376067213,
          -4.840719512495351,
          -4.631310946303213,
          -4.631310946303213,
          -4.250137765608997,
          -4.631310946303213,
          -4.631310946303213,
          -4.631310946303213,
          -4.631310946303213,
          -4.06889022109711,
          -4.631310946303213,
          -12.33008736505976,
          -4.631310946303213,
          -3.2803265453192343,
          5.248820425145273,
          5.263697526057376,
          -7.654168304490804,
          9.956051042430003,
          1.6028179926755648,
          -4.631310946303213,
          -2.5457781855605432,
          -4.631310946303213,
          2.826681545252807,
          -4.631310946303213,
          -12.214913033636144,
          -4.631310946303213,
          15.45062507505146,
          -4.631310946303213,
          -4.631310946303213,
          5.248820425145273,
          12.391305373932315,
          -4.631310946303213,
          -4.631310946303213,
          3.9666231288019826,
          -4.631310946303213,
          -4.631310946303213,
          -4.631310946303213,
          -4.631310946303213,
          -4.631310946303213,
          -8.62277757494514,
          6.648290382205557,
          -4.631310946303213,
          4.036564781167606,
          -4.840719512495351,
          0.9740420511217707,
          -4.631310946303213,
          -4.631310946303213,
          -1.2357229092309074,
          -4.631310946303213,
          -4.631310946303213,
          -4.250137765608997,
          -4.840719512495351,
          -4.631310946303213,
          -4.631310946303213,
          -4.631310946303213,
          -4.631310946303213,
          -3.2803265453192343,
          -6.168786400575687,
          0.27306808301110763,
          -4.631310946303213,
          -4.631310946303213,
          -3.9860429272055575,
          -4.631310946303213,
          -4.631310946303213,
          -12.75502385953462,
          1.0934051407932577,
          -4.631310946303213,
          -4.631310946303213,
          0.27306808301110763,
          -11.351689173093604,
          -6.853427096766785,
          -4.631310946303213,
          2.6347781084564925,
          -4.223603941020427,
          -9.82382400188354,
          -4.631310946303213,
          6.30754375406537,
          -2.617006759420959,
          -4.631310946303213,
          -4.631310946303213,
          -4.631310946303213,
          -4.631310946303213,
          -4.631310946303213,
          -4.631310946303213,
          -4.631310946303213,
          -4.631310946303213,
          -4.631310946303213,
          4.802551046461256,
          -4.250137765608997,
          0.27306808301110763,
          -4.631310946303213,
          -3.3492910197644887,
          -4.631310946303213,
          -4.631310946303213,
          -4.631310946303213,
          -4.840719512495351,
          -4.631310946303213,
          -4.631310946303213,
          12.391305373932315,
          -1.685154266617983,
          -4.631310946303213,
          3.8849111160071947,
          -4.631310946303213,
          -3.3304604274259964,
          -13.554664332443023,
          6.648290382205557,
          -2.617006759420959,
          -4.631310946303213,
          -4.06889022109711,
          -4.631310946303213,
          -9.899138398881702,
          -4.631310946303213,
          -4.604882750924732,
          -4.631310946303213,
          -4.631310946303213,
          2.4060571049153046,
          -4.631310946303213,
          -4.631310946303213,
          -4.631310946303213,
          -2.617006759420959,
          4.088693283330147,
          6.648290382205557,
          -4.604882750924732,
          -4.631310946303213,
          -4.631310946303213,
          -4.631310946303213,
          -4.631310946303213,
          4.036564781167606,
          9.034824090891336,
          3.8849111160071947,
          -4.250137765608997,
          -13.554664332443023,
          6.739765891914518,
          -4.631310946303213,
          1.6028179926755648,
          6.632904207402035,
          14.945091731955662,
          2.4060571049153046,
          -4.604882750924732,
          -4.631310946303213,
          -4.631310946303213,
          -4.631310946303213,
          -4.631310946303213,
          2.4060571049153046,
          -1.8245109058214526,
          -4.631310946303213,
          3.8849111160071947,
          -4.631310946303213,
          -4.631310946303213,
          -4.631310946303213,
          2.6065207651259747,
          -4.631310946303213,
          3.8081234753411852,
          -4.551593225729311,
          -7.175761052549978,
          -4.631310946303213,
          9.034824090891336,
          -4.631310946303213,
          -4.631310946303213,
          -4.631310946303213,
          2.6347781084564925,
          5.1874204047918315,
          -2.5457781855605432,
          4.4272715989058575,
          -10.851025376067213,
          -4.631310946303213,
          -4.551593225729311,
          -4.631310946303213,
          -4.631310946303213,
          -4.631310946303213,
          -4.631310946303213,
          2.6347781084564925,
          -4.631310946303213,
          -4.631310946303213,
          -4.631310946303213,
          1.3485223557749615,
          -4.631310946303213,
          -4.631310946303213,
          -4.631310946303213,
          13.29152042658861,
          -4.631310946303213,
          -4.631310946303213,
          -9.899138398881702,
          -6.3412822711221395,
          -4.631310946303213,
          -6.4195052581949135,
          -4.631310946303213,
          4.350740678612741,
          2.1898921389804205,
          -4.631310946303213,
          4.4272715989058575,
          -3.2803265453192343,
          0.08988672376597506,
          3.1291500036785935,
          -7.479424674779689,
          4.4272715989058575,
          -4.631310946303213,
          12.391305373932315,
          3.8849111160071947,
          -4.631310946303213,
          4.74047996272442,
          0.27306808301110763,
          -4.631310946303213,
          -4.631310946303213,
          6.986145750588135,
          -4.631310946303213,
          -6.4195052581949135,
          -9.899138398881702,
          1.0934051407932577,
          -4.631310946303213,
          -4.604882750924732,
          -4.631310946303213,
          -4.631310946303213,
          -1.685154266617983,
          -4.631310946303213,
          -12.96977204693588,
          -4.631310946303213,
          -4.631310946303213,
          -4.250137765608997,
          -4.631310946303213,
          4.930277588928744,
          -4.631310946303213,
          16.743163466567413,
          -4.631310946303213,
          -10.851025376067213,
          -4.551593225729311,
          -4.631310946303213,
          -4.631310946303213,
          -1.685154266617983,
          -4.631310946303213,
          -4.604882750924732,
          -4.631310946303213,
          -4.631310946303213,
          -4.604882750924732,
          -4.631310946303213,
          -4.631310946303213,
          -6.3412822711221395,
          0.05289058426067861,
          -4.631310946303213,
          -4.631310946303213,
          -4.631310946303213,
          13.462285866373591,
          -4.631310946303213,
          1.6877467584437644,
          -4.631310946303213,
          -4.631310946303213,
          4.036564781167606,
          -4.631310946303213,
          -13.554664332443023,
          -4.223603941020427,
          6.632904207402035,
          0.27306808301110763,
          1.0934051407932577,
          -4.631310946303213,
          0.27306808301110763,
          -2.617006759420959,
          2.6347781084564925,
          -4.631310946303213,
          -4.631310946303213,
          -7.479424674779689,
          -4.631310946303213,
          -4.631310946303213,
          -8.823421762471707,
          0.27306808301110763,
          -10.343550070706463,
          -4.631310946303213,
          0.27306808301110763,
          -4.631310946303213,
          -4.631310946303213,
          5.248820425145273
         ],
         "xaxis": "x",
         "yaxis": "y"
        },
        {
         "alignmentgroup": "True",
         "boxpoints": "all",
         "customdata": [
          [
           -1015.6100000000006,
           6,
           1
          ],
          [
           1729.6600000000035,
           10,
           2
          ],
          [
           -1015.6100000000006,
           6,
           3
          ],
          [
           -1015.6100000000006,
           6,
           4
          ],
          [
           -1015.6100000000006,
           6,
           5
          ],
          [
           -1540.4100000000035,
           6,
           6
          ],
          [
           -1015.6100000000006,
           6,
           7
          ],
          [
           1267.4300000000003,
           8,
           8
          ],
          [
           -1574.9399999999987,
           8,
           9
          ],
          [
           -903.3700000000026,
           6,
           10
          ],
          [
           855.6200000000026,
           7,
           11
          ],
          [
           -1015.6100000000006,
           6,
           12
          ],
          [
           855.6200000000026,
           7,
           13
          ],
          [
           -1015.6100000000006,
           6,
           14
          ],
          [
           -1015.6100000000006,
           6,
           15
          ],
          [
           -1015.6100000000006,
           6,
           16
          ],
          [
           -1015.6100000000006,
           6,
           17
          ],
          [
           -1015.6100000000006,
           6,
           18
          ],
          [
           888.6899999999987,
           8,
           19
          ],
          [
           -1015.6100000000006,
           6,
           20
          ],
          [
           -1015.6100000000006,
           6,
           21
          ],
          [
           -1015.6100000000006,
           6,
           22
          ],
          [
           -1001.4499999999971,
           4,
           23
          ],
          [
           -778.0099999999948,
           6,
           24
          ],
          [
           -1015.6100000000006,
           6,
           25
          ],
          [
           9.299999999999272,
           6,
           26
          ],
          [
           -378.3799999999974,
           8,
           27
          ],
          [
           -2822.3300000000017,
           6,
           28
          ],
          [
           -1015.6100000000006,
           6,
           29
          ],
          [
           -1015.6100000000006,
           6,
           30
          ],
          [
           1710.2400000000052,
           8,
           31
          ],
          [
           1252.0299999999916,
           6,
           32
          ],
          [
           -1015.6100000000006,
           6,
           33
          ],
          [
           1141.699999999997,
           8,
           34
          ],
          [
           528.7800000000025,
           8,
           35
          ],
          [
           -1015.6100000000006,
           6,
           36
          ],
          [
           -1015.6100000000006,
           6,
           37
          ],
          [
           1308.5399999999936,
           8,
           38
          ],
          [
           -1015.6100000000006,
           6,
           39
          ],
          [
           234.3100000000013,
           8,
           40
          ],
          [
           -1015.6100000000006,
           6,
           41
          ],
          [
           -1015.6100000000006,
           6,
           42
          ],
          [
           -1015.6100000000006,
           6,
           43
          ],
          [
           -1015.6100000000006,
           6,
           44
          ],
          [
           1.6300000000010186,
           10,
           45
          ],
          [
           -1015.6100000000006,
           6,
           46
          ],
          [
           -1015.6100000000006,
           6,
           47
          ],
          [
           -1015.6100000000006,
           6,
           48
          ],
          [
           888.6899999999987,
           8,
           49
          ],
          [
           -2020.8099999999977,
           8,
           50
          ],
          [
           -1015.6100000000006,
           6,
           51
          ],
          [
           -1015.6100000000006,
           6,
           52
          ],
          [
           -1015.6100000000006,
           6,
           53
          ],
          [
           1229.4800000000032,
           8,
           54
          ],
          [
           -1015.6100000000006,
           6,
           55
          ],
          [
           3472.560000000005,
           9,
           56
          ],
          [
           -1015.6100000000006,
           6,
           57
          ],
          [
           -1052.6300000000047,
           8,
           58
          ],
          [
           630.3899999999994,
           8,
           59
          ],
          [
           -1015.6100000000006,
           6,
           60
          ],
          [
           -1015.6100000000006,
           6,
           61
          ],
          [
           -647.0899999999965,
           6,
           62
          ],
          [
           -1015.6100000000006,
           6,
           63
          ],
          [
           -914.7500000000073,
           6,
           64
          ],
          [
           855.6200000000026,
           7,
           65
          ],
          [
           855.6200000000026,
           7,
           66
          ],
          [
           -1015.6100000000006,
           6,
           67
          ],
          [
           -1015.6100000000006,
           6,
           68
          ],
          [
           197.28999999999724,
           10,
           69
          ],
          [
           855.6200000000026,
           7,
           70
          ],
          [
           -1052.6300000000047,
           8,
           71
          ],
          [
           1229.4800000000032,
           8,
           72
          ],
          [
           1151.1699999999983,
           6,
           73
          ],
          [
           -2418.3799999999974,
           10,
           74
          ],
          [
           -647.0899999999965,
           6,
           75
          ],
          [
           9.299999999999272,
           6,
           76
          ],
          [
           1155.1900000000023,
           8,
           77
          ],
          [
           854.4599999999919,
           8,
           78
          ],
          [
           234.3100000000013,
           8,
           79
          ],
          [
           -1015.6100000000006,
           6,
           80
          ],
          [
           234.3100000000013,
           8,
           81
          ],
          [
           -1015.6100000000006,
           6,
           82
          ],
          [
           -1015.6100000000006,
           6,
           83
          ],
          [
           974.6100000000042,
           8,
           84
          ],
          [
           855.6200000000026,
           7,
           85
          ],
          [
           -1015.6100000000006,
           6,
           86
          ],
          [
           -932.1900000000023,
           6,
           87
          ],
          [
           641.0200000000004,
           8,
           88
          ],
          [
           1598.0000000000073,
           8,
           89
          ],
          [
           -553.010000000002,
           8,
           90
          ],
          [
           -1015.6100000000006,
           6,
           91
          ],
          [
           -1015.6100000000006,
           6,
           92
          ],
          [
           -577.239999999998,
           8,
           93
          ],
          [
           -338.06999999999607,
           4,
           94
          ],
          [
           -1015.6100000000006,
           6,
           95
          ],
          [
           1396.3199999999997,
           8,
           96
          ],
          [
           -3119.040000000008,
           8,
           97
          ],
          [
           -1190.050000000003,
           8,
           98
          ],
          [
           -1015.6100000000006,
           6,
           99
          ],
          [
           855.6200000000026,
           7,
           100
          ],
          [
           -1015.6100000000006,
           6,
           101
          ],
          [
           -1015.6100000000006,
           6,
           102
          ],
          [
           -1015.6100000000006,
           6,
           103
          ],
          [
           -1015.6100000000006,
           6,
           104
          ],
          [
           -770.8899999999958,
           10,
           105
          ],
          [
           -1015.6100000000006,
           6,
           106
          ],
          [
           -1778.5899999999892,
           10,
           107
          ],
          [
           -2494.5599999999977,
           8,
           108
          ],
          [
           -1015.6100000000006,
           6,
           109
          ],
          [
           -1015.6100000000006,
           6,
           110
          ],
          [
           -1015.6100000000006,
           6,
           111
          ],
          [
           -1015.6100000000006,
           6,
           112
          ],
          [
           2059.6199999999953,
           10,
           113
          ],
          [
           1308.5399999999936,
           8,
           114
          ],
          [
           -1015.6100000000006,
           6,
           115
          ],
          [
           -1015.6100000000006,
           6,
           116
          ],
          [
           1396.3199999999997,
           8,
           117
          ],
          [
           -1015.6100000000006,
           6,
           118
          ],
          [
           -1015.6100000000006,
           6,
           119
          ],
          [
           -1015.6100000000006,
           6,
           120
          ],
          [
           -1362.3400000000001,
           8,
           121
          ],
          [
           -734.0399999999972,
           8,
           122
          ],
          [
           888.6899999999987,
           8,
           123
          ],
          [
           -1010.989999999998,
           8,
           124
          ],
          [
           -1015.6100000000006,
           6,
           125
          ],
          [
           -1015.6100000000006,
           6,
           126
          ],
          [
           -1015.6100000000006,
           6,
           127
          ],
          [
           -914.7500000000073,
           6,
           128
          ],
          [
           1075.8599999999933,
           10,
           129
          ],
          [
           -1015.6100000000006,
           6,
           130
          ],
          [
           -1015.6100000000006,
           6,
           131
          ],
          [
           -1015.6100000000006,
           6,
           132
          ],
          [
           -1687.1799999999967,
           8,
           133
          ],
          [
           855.6200000000026,
           7,
           134
          ],
          [
           1141.699999999997,
           8,
           135
          ],
          [
           -1015.6100000000006,
           6,
           136
          ],
          [
           -1015.6100000000006,
           6,
           137
          ],
          [
           -378.3799999999974,
           8,
           138
          ],
          [
           -1687.1799999999967,
           8,
           139
          ],
          [
           -1015.6100000000006,
           6,
           140
          ],
          [
           974.6100000000042,
           8,
           141
          ],
          [
           -1015.6100000000006,
           6,
           142
          ],
          [
           -1015.6100000000006,
           6,
           143
          ],
          [
           -1015.6100000000006,
           6,
           144
          ],
          [
           -1015.6100000000006,
           6,
           145
          ],
          [
           -378.3799999999974,
           8,
           146
          ],
          [
           -1052.6300000000047,
           8,
           147
          ],
          [
           -1015.6100000000006,
           6,
           148
          ],
          [
           -1010.989999999998,
           8,
           149
          ],
          [
           -1015.6100000000006,
           6,
           150
          ],
          [
           -1015.6100000000006,
           6,
           151
          ],
          [
           234.3100000000013,
           8,
           152
          ],
          [
           1229.4800000000032,
           8,
           153
          ],
          [
           1229.4800000000032,
           8,
           154
          ],
          [
           234.3100000000013,
           8,
           155
          ],
          [
           -914.7500000000073,
           6,
           156
          ],
          [
           855.6200000000026,
           7,
           157
          ],
          [
           -1015.6100000000006,
           6,
           158
          ],
          [
           -1015.6100000000006,
           6,
           159
          ],
          [
           1151.1699999999983,
           6,
           160
          ],
          [
           -1015.6100000000006,
           6,
           161
          ],
          [
           888.6899999999987,
           8,
           162
          ],
          [
           -1015.6100000000006,
           6,
           163
          ],
          [
           -1015.6100000000006,
           6,
           164
          ],
          [
           -1015.6100000000006,
           6,
           165
          ],
          [
           528.7800000000025,
           8,
           166
          ],
          [
           -1015.6100000000006,
           6,
           167
          ],
          [
           -378.3799999999974,
           8,
           168
          ],
          [
           2600.009999999991,
           8,
           169
          ],
          [
           -1015.6100000000006,
           6,
           170
          ],
          [
           -1015.6100000000006,
           6,
           171
          ],
          [
           -583.7799999999988,
           9,
           172
          ],
          [
           -1015.6100000000006,
           6,
           173
          ],
          [
           888.6899999999987,
           8,
           174
          ],
          [
           -1015.6100000000006,
           6,
           175
          ],
          [
           -694.5899999999965,
           6,
           176
          ],
          [
           -918.0299999999988,
           4,
           177
          ],
          [
           -647.0899999999965,
           6,
           178
          ],
          [
           -898.75,
           6,
           179
          ],
          [
           967.8600000000006,
           7,
           180
          ],
          [
           2382.1899999999987,
           8,
           181
          ],
          [
           -1413.1800000000003,
           8,
           182
          ],
          [
           -1015.6100000000006,
           6,
           183
          ],
          [
           -775.929999999993,
           10,
           184
          ],
          [
           -1015.6100000000006,
           6,
           185
          ],
          [
           -2020.8099999999977,
           8,
           186
          ],
          [
           -1015.6100000000006,
           6,
           187
          ],
          [
           -665.25,
           8,
           188
          ],
          [
           -1015.6100000000006,
           6,
           189
          ],
          [
           -932.1900000000023,
           6,
           190
          ],
          [
           -1015.6100000000006,
           6,
           191
          ],
          [
           -1015.6100000000006,
           6,
           192
          ],
          [
           -1015.6100000000006,
           6,
           193
          ],
          [
           580.3400000000001,
           8,
           194
          ],
          [
           2687.9199999999983,
           8,
           195
          ],
          [
           641.0200000000004,
           8,
           196
          ],
          [
           -1015.6100000000006,
           6,
           197
          ],
          [
           -1015.6100000000006,
           6,
           198
          ],
          [
           -1015.6100000000006,
           6,
           199
          ],
          [
           747.1799999999967,
           8,
           200
          ],
          [
           -1015.6100000000006,
           6,
           201
          ],
          [
           855.6200000000026,
           7,
           202
          ],
          [
           -1015.6100000000006,
           6,
           203
          ],
          [
           -1015.6100000000006,
           6,
           204
          ],
          [
           -1015.6100000000006,
           6,
           205
          ],
          [
           -1015.6100000000006,
           6,
           206
          ],
          [
           536.3499999999949,
           8,
           207
          ],
          [
           -1015.6100000000006,
           6,
           208
          ],
          [
           -734.0399999999972,
           8,
           209
          ],
          [
           -1015.6100000000006,
           6,
           210
          ],
          [
           -1015.6100000000006,
           6,
           211
          ],
          [
           1151.1699999999983,
           6,
           212
          ],
          [
           1151.1699999999983,
           6,
           213
          ],
          [
           -1015.6100000000006,
           6,
           214
          ],
          [
           -2822.3300000000017,
           6,
           215
          ],
          [
           2687.9199999999983,
           8,
           216
          ],
          [
           -1015.6100000000006,
           6,
           217
          ],
          [
           -1001.4499999999971,
           4,
           218
          ],
          [
           782.8799999999937,
           10,
           219
          ],
          [
           817.940000000006,
           8,
           220
          ],
          [
           -1687.1799999999967,
           8,
           221
          ],
          [
           -665.25,
           8,
           222
          ],
          [
           -1015.6100000000006,
           6,
           223
          ],
          [
           -2738.9100000000035,
           6,
           224
          ],
          [
           9.299999999999272,
           6,
           225
          ],
          [
           -1015.6100000000006,
           6,
           226
          ],
          [
           -1015.6100000000006,
           6,
           227
          ],
          [
           -1015.6100000000006,
           6,
           228
          ],
          [
           -1015.6100000000006,
           6,
           229
          ],
          [
           565.8100000000013,
           10,
           230
          ],
          [
           -1015.6100000000006,
           6,
           231
          ],
          [
           -1015.6100000000006,
           6,
           232
          ],
          [
           -1015.6100000000006,
           6,
           233
          ],
          [
           -1015.6100000000006,
           6,
           234
          ],
          [
           -778.0099999999948,
           6,
           235
          ],
          [
           -1015.6100000000006,
           6,
           236
          ],
          [
           855.6200000000026,
           7,
           237
          ],
          [
           -1015.6100000000006,
           6,
           238
          ],
          [
           -1015.6100000000006,
           6,
           239
          ],
          [
           2910.060000000005,
           9,
           240
          ],
          [
           -1015.6100000000006,
           6,
           241
          ],
          [
           1341.7200000000012,
           8,
           242
          ],
          [
           -1015.6100000000006,
           6,
           243
          ],
          [
           -734.0399999999972,
           8,
           244
          ],
          [
           -1015.6100000000006,
           6,
           245
          ],
          [
           -1001.4499999999971,
           4,
           246
          ],
          [
           -1015.6100000000006,
           6,
           247
          ],
          [
           -1015.6100000000006,
           6,
           248
          ],
          [
           1771.7700000000004,
           7,
           249
          ],
          [
           1093.2200000000084,
           7,
           250
          ],
          [
           118.51000000000568,
           10,
           251
          ],
          [
           -1015.6100000000006,
           6,
           252
          ],
          [
           -932.1900000000023,
           6,
           253
          ],
          [
           285.59999999999854,
           8,
           254
          ],
          [
           -1015.6100000000006,
           6,
           255
          ],
          [
           1293.0399999999936,
           10,
           256
          ],
          [
           1151.1699999999983,
           6,
           257
          ],
          [
           -1015.6100000000006,
           6,
           258
          ],
          [
           332.369999999999,
           8,
           259
          ],
          [
           -1015.6100000000006,
           6,
           260
          ],
          [
           -1015.6100000000006,
           6,
           261
          ],
          [
           -1015.6100000000006,
           6,
           262
          ],
          [
           -1015.6100000000006,
           6,
           263
          ],
          [
           -2302.5499999999993,
           10,
           264
          ],
          [
           -1258.8400000000001,
           8,
           265
          ],
          [
           -903.3700000000026,
           6,
           266
          ],
          [
           -1015.6100000000006,
           6,
           267
          ],
          [
           -1015.6100000000006,
           6,
           268
          ],
          [
           -1015.6100000000006,
           6,
           269
          ],
          [
           -1015.6100000000006,
           6,
           270
          ],
          [
           -1015.6100000000006,
           6,
           271
          ],
          [
           -2020.8099999999977,
           8,
           272
          ],
          [
           -1015.6100000000006,
           6,
           273
          ],
          [
           -932.1900000000023,
           6,
           274
          ],
          [
           -1015.6100000000006,
           6,
           275
          ],
          [
           -1015.6100000000006,
           6,
           276
          ],
          [
           -1015.6100000000006,
           6,
           277
          ],
          [
           855.6200000000026,
           7,
           278
          ],
          [
           -1015.6100000000006,
           6,
           279
          ],
          [
           -1015.6100000000006,
           6,
           280
          ],
          [
           1104.679999999993,
           10,
           281
          ],
          [
           -1015.6100000000006,
           6,
           282
          ],
          [
           580.3400000000001,
           8,
           283
          ],
          [
           -1015.6100000000006,
           6,
           284
          ],
          [
           -1015.6100000000006,
           6,
           285
          ],
          [
           -1015.6100000000006,
           6,
           286
          ],
          [
           -932.1900000000023,
           6,
           287
          ],
          [
           -1001.4499999999971,
           4,
           288
          ],
          [
           3038.279999999999,
           10,
           289
          ],
          [
           499.2099999999955,
           8,
           290
          ],
          [
           -2494.5599999999977,
           8,
           291
          ],
          [
           812.3400000000038,
           8,
           292
          ],
          [
           888.6899999999987,
           8,
           293
          ],
          [
           -1015.6100000000006,
           6,
           294
          ],
          [
           -1015.6100000000006,
           6,
           295
          ],
          [
           -1015.6100000000006,
           6,
           296
          ],
          [
           -778.0099999999948,
           6,
           297
          ],
          [
           -1015.6100000000006,
           6,
           298
          ],
          [
           -1015.6100000000006,
           6,
           299
          ],
          [
           1432.7400000000016,
           8,
           300
          ],
          [
           -1015.6100000000006,
           6,
           301
          ],
          [
           -1015.6100000000006,
           6,
           302
          ],
          [
           -1540.4100000000035,
           6,
           303
          ],
          [
           -1015.6100000000006,
           6,
           304
          ],
          [
           528.7800000000025,
           8,
           305
          ],
          [
           -1015.6100000000006,
           6,
           306
          ],
          [
           -1015.6100000000006,
           6,
           307
          ],
          [
           -903.3700000000026,
           6,
           308
          ],
          [
           -1015.6100000000006,
           6,
           309
          ],
          [
           -1015.6100000000006,
           6,
           310
          ],
          [
           -2721.4700000000084,
           6,
           311
          ],
          [
           -665.25,
           8,
           312
          ],
          [
           -1687.1799999999967,
           8,
           313
          ],
          [
           1141.699999999997,
           8,
           314
          ],
          [
           -1052.6300000000047,
           8,
           315
          ],
          [
           -665.25,
           8,
           316
          ],
          [
           -1015.6100000000006,
           6,
           317
          ],
          [
           -1015.6100000000006,
           6,
           318
          ],
          [
           -332.5,
           8,
           319
          ],
          [
           -1015.6100000000006,
           6,
           320
          ],
          [
           -1015.6100000000006,
           6,
           321
          ],
          [
           -1015.6100000000006,
           6,
           322
          ],
          [
           2788.7799999999916,
           8,
           323
          ],
          [
           -1015.6100000000006,
           6,
           324
          ],
          [
           -1089.4099999999962,
           12,
           325
          ],
          [
           -1001.4499999999971,
           4,
           326
          ],
          [
           -647.0899999999965,
           6,
           327
          ],
          [
           2401.09,
           8,
           328
          ],
          [
           9.299999999999272,
           6,
           329
          ],
          [
           1118.1699999999983,
           10,
           330
          ],
          [
           -1015.6100000000006,
           6,
           331
          ],
          [
           -1015.6100000000006,
           6,
           332
          ],
          [
           -553.010000000002,
           8,
           333
          ],
          [
           -1015.6100000000006,
           6,
           334
          ],
          [
           869.7800000000061,
           5,
           335
          ],
          [
           -1015.6100000000006,
           6,
           336
          ],
          [
           -1015.6100000000006,
           6,
           337
          ],
          [
           -2494.5599999999977,
           8,
           338
          ],
          [
           580.3400000000001,
           8,
           339
          ],
          [
           -647.0899999999965,
           6,
           340
          ],
          [
           -563.6699999999983,
           6,
           341
          ],
          [
           -734.0399999999972,
           8,
           342
          ],
          [
           227.3199999999997,
           9,
           343
          ],
          [
           1151.1699999999983,
           6,
           344
          ],
          [
           -665.25,
           8,
           345
          ],
          [
           -665.25,
           8,
           346
          ],
          [
           -1015.6100000000006,
           6,
           347
          ],
          [
           -1015.6100000000006,
           6,
           348
          ],
          [
           -1015.6100000000006,
           6,
           349
          ],
          [
           332.369999999999,
           8,
           350
          ],
          [
           -1413.1800000000003,
           8,
           351
          ],
          [
           -2020.8099999999977,
           8,
           352
          ],
          [
           -2822.3300000000017,
           6,
           353
          ],
          [
           -1015.6100000000006,
           6,
           354
          ],
          [
           528.7800000000025,
           8,
           355
          ],
          [
           9.299999999999272,
           6,
           356
          ],
          [
           -1687.1799999999967,
           8,
           357
          ],
          [
           1155.1900000000023,
           8,
           358
          ],
          [
           -1015.6100000000006,
           6,
           359
          ],
          [
           -30.58999999999287,
           10,
           360
          ],
          [
           -1015.6100000000006,
           6,
           361
          ],
          [
           -1015.6100000000006,
           6,
           362
          ],
          [
           -1015.6100000000006,
           6,
           363
          ],
          [
           1151.1699999999983,
           6,
           364
          ],
          [
           -1015.6100000000006,
           6,
           365
          ],
          [
           -1015.6100000000006,
           6,
           366
          ],
          [
           -1015.6100000000006,
           6,
           367
          ],
          [
           -734.0399999999972,
           8,
           368
          ],
          [
           -900.5900000000038,
           4,
           369
          ],
          [
           -1015.6100000000006,
           6,
           370
          ],
          [
           -1015.6100000000006,
           6,
           371
          ],
          [
           -1015.6100000000006,
           6,
           372
          ],
          [
           -1015.6100000000006,
           6,
           373
          ],
          [
           -2020.8099999999977,
           8,
           374
          ],
          [
           -569.2999999999884,
           11,
           375
          ],
          [
           -1015.6100000000006,
           6,
           376
          ],
          [
           1077.1899999999987,
           8,
           377
          ],
          [
           -1540.4100000000035,
           6,
           378
          ],
          [
           -665.25,
           8,
           379
          ],
          [
           -1015.6100000000006,
           6,
           380
          ],
          [
           -2822.3300000000017,
           6,
           381
          ],
          [
           -1015.6100000000006,
           6,
           382
          ],
          [
           -1015.6100000000006,
           6,
           383
          ],
          [
           -1015.6100000000006,
           6,
           384
          ],
          [
           -1015.6100000000006,
           6,
           385
          ],
          [
           -665.25,
           8,
           386
          ],
          [
           -1015.6100000000006,
           6,
           387
          ],
          [
           -1413.1800000000003,
           8,
           388
          ],
          [
           -1015.6100000000006,
           6,
           389
          ],
          [
           -2822.3300000000017,
           6,
           390
          ],
          [
           1141.699999999997,
           8,
           391
          ],
          [
           855.6200000000026,
           7,
           392
          ],
          [
           -1015.6100000000006,
           6,
           393
          ],
          [
           -1015.6100000000006,
           6,
           394
          ],
          [
           -1015.6100000000006,
           6,
           395
          ],
          [
           1039.2700000000004,
           12,
           396
          ],
          [
           -1052.6300000000047,
           8,
           397
          ],
          [
           -1015.6100000000006,
           6,
           398
          ],
          [
           9.299999999999272,
           6,
           399
          ],
          [
           -1015.6100000000006,
           6,
           400
          ],
          [
           1234.4000000000087,
           10,
           401
          ],
          [
           1151.1699999999983,
           6,
           402
          ],
          [
           -1015.6100000000006,
           6,
           403
          ],
          [
           -1015.6100000000006,
           6,
           404
          ],
          [
           1155.1900000000023,
           8,
           405
          ],
          [
           -1015.6100000000006,
           6,
           406
          ],
          [
           1229.4800000000032,
           8,
           407
          ],
          [
           9.299999999999272,
           6,
           408
          ],
          [
           -1015.6100000000006,
           6,
           409
          ],
          [
           -778.0099999999948,
           6,
           410
          ],
          [
           1151.1699999999983,
           6,
           411
          ],
          [
           -1015.6100000000006,
           6,
           412
          ],
          [
           -1015.6100000000006,
           6,
           413
          ],
          [
           -1015.6100000000006,
           6,
           414
          ],
          [
           528.7800000000025,
           8,
           415
          ],
          [
           -1015.6100000000006,
           6,
           416
          ],
          [
           -1687.1799999999967,
           8,
           417
          ],
          [
           1771.7700000000004,
           7,
           418
          ],
          [
           -1015.6100000000006,
           6,
           419
          ],
          [
           1579.8400000000038,
           10,
           420
          ],
          [
           491.7599999999984,
           10,
           421
          ],
          [
           -1015.6100000000006,
           6,
           422
          ],
          [
           -1015.6100000000006,
           6,
           423
          ],
          [
           -1015.6100000000006,
           6,
           424
          ],
          [
           -1015.6100000000006,
           6,
           425
          ],
          [
           -1099.2199999999903,
           10,
           426
          ],
          [
           888.6899999999987,
           8,
           427
          ],
          [
           -1015.6100000000006,
           6,
           428
          ],
          [
           1022.4599999999991,
           7,
           429
          ],
          [
           -1015.6100000000006,
           6,
           430
          ],
          [
           -1015.6100000000006,
           6,
           431
          ],
          [
           2925.520000000004,
           8,
           432
          ],
          [
           -1010.989999999998,
           8,
           433
          ],
          [
           3.9799999999995634,
           8,
           434
          ],
          [
           -1015.6100000000006,
           6,
           435
          ],
          [
           332.369999999999,
           8,
           436
          ],
          [
           -1015.6100000000006,
           6,
           437
          ],
          [
           629.6399999999958,
           8,
           438
          ],
          [
           -1015.6100000000006,
           6,
           439
          ],
          [
           -903.3700000000026,
           6,
           440
          ],
          [
           -1015.6100000000006,
           6,
           441
          ],
          [
           -647.0899999999965,
           6,
           442
          ],
          [
           -1015.6100000000006,
           6,
           443
          ],
          [
           -1001.4499999999971,
           4,
           444
          ],
          [
           -1015.6100000000006,
           6,
           445
          ],
          [
           -647.0899999999965,
           6,
           446
          ],
          [
           -1015.6100000000006,
           6,
           447
          ],
          [
           -1015.6100000000006,
           6,
           448
          ],
          [
           -1015.6100000000006,
           6,
           449
          ],
          [
           -1015.6100000000006,
           6,
           450
          ],
          [
           1594.7999999999993,
           10,
           451
          ],
          [
           1151.1699999999983,
           6,
           452
          ],
          [
           -1015.6100000000006,
           6,
           453
          ],
          [
           1151.1699999999983,
           6,
           454
          ],
          [
           -1010.989999999998,
           8,
           455
          ],
          [
           -2822.3300000000017,
           6,
           456
          ],
          [
           -378.3799999999974,
           8,
           457
          ],
          [
           -1015.6100000000006,
           6,
           458
          ],
          [
           -1015.6100000000006,
           6,
           459
          ],
          [
           -932.1900000000023,
           6,
           460
          ],
          [
           -1015.6100000000006,
           6,
           461
          ],
          [
           -1015.6100000000006,
           6,
           462
          ],
          [
           -1413.1800000000003,
           8,
           463
          ],
          [
           -1015.6100000000006,
           6,
           464
          ],
          [
           -1015.6100000000006,
           6,
           465
          ],
          [
           869.7800000000061,
           5,
           466
          ],
          [
           1519.6900000000023,
           6,
           467
          ],
          [
           -2710.090000000004,
           6,
           468
          ],
          [
           974.6100000000042,
           8,
           469
          ],
          [
           -1015.6100000000006,
           6,
           470
          ],
          [
           974.6100000000042,
           8,
           471
          ],
          [
           -2822.3300000000017,
           6,
           472
          ],
          [
           -1015.6100000000006,
           6,
           473
          ],
          [
           -1010.989999999998,
           8,
           474
          ],
          [
           -1015.6100000000006,
           6,
           475
          ],
          [
           692.5799999999981,
           8,
           476
          ],
          [
           -1015.6100000000006,
           6,
           477
          ],
          [
           -1015.6100000000006,
           6,
           478
          ],
          [
           -378.3799999999974,
           8,
           479
          ],
          [
           974.6100000000042,
           8,
           480
          ],
          [
           -2662.4599999999955,
           10,
           481
          ],
          [
           -1015.6100000000006,
           6,
           482
          ],
          [
           1229.4800000000032,
           8,
           483
          ],
          [
           -1015.6100000000006,
           6,
           484
          ],
          [
           -1015.6100000000006,
           6,
           485
          ],
          [
           -1015.6100000000006,
           6,
           486
          ],
          [
           1126.2900000000045,
           8,
           487
          ],
          [
           -1540.4100000000035,
           6,
           488
          ],
          [
           -1015.6100000000006,
           6,
           489
          ],
          [
           -1015.6100000000006,
           6,
           490
          ],
          [
           332.369999999999,
           8,
           491
          ],
          [
           -1015.6100000000006,
           6,
           492
          ],
          [
           -1015.6100000000006,
           6,
           493
          ],
          [
           104.31000000000131,
           12,
           494
          ],
          [
           -1015.6100000000006,
           6,
           495
          ],
          [
           -1015.6100000000006,
           6,
           496
          ],
          [
           -1015.6100000000006,
           6,
           497
          ],
          [
           2790.4999999999927,
           10,
           498
          ],
          [
           -1062.8199999999997,
           10,
           499
          ],
          [
           -187.05999999999767,
           12,
           500
          ],
          [
           967.8600000000006,
           7,
           501
          ],
          [
           -2489.939999999995,
           10,
           502
          ],
          [
           -1015.6100000000006,
           6,
           503
          ],
          [
           -1015.6100000000006,
           6,
           504
          ],
          [
           -1015.6100000000006,
           6,
           505
          ],
          [
           435.4900000000016,
           8,
           506
          ],
          [
           888.6899999999987,
           8,
           507
          ],
          [
           -914.7500000000073,
           6,
           508
          ],
          [
           -1797.420000000002,
           6,
           509
          ],
          [
           -1015.6100000000006,
           6,
           510
          ],
          [
           -778.0099999999948,
           6,
           511
          ],
          [
           -164.09000000000015,
           6,
           512
          ],
          [
           -1015.6100000000006,
           6,
           513
          ],
          [
           -1015.6100000000006,
           6,
           514
          ],
          [
           -1015.6100000000006,
           6,
           515
          ],
          [
           584.6700000000019,
           10,
           516
          ],
          [
           -903.3700000000026,
           6,
           517
          ],
          [
           -1015.6100000000006,
           6,
           518
          ],
          [
           -1015.6100000000006,
           6,
           519
          ],
          [
           -1015.6100000000006,
           6,
           520
          ],
          [
           -1015.6100000000006,
           6,
           521
          ],
          [
           996.8000000000029,
           10,
           522
          ],
          [
           -1015.6100000000006,
           6,
           523
          ],
          [
           -1015.6100000000006,
           6,
           524
          ],
          [
           -651.5299999999988,
           8,
           525
          ],
          [
           -1015.6100000000006,
           6,
           526
          ],
          [
           -1687.1799999999967,
           8,
           527
          ],
          [
           -2494.5599999999977,
           8,
           528
          ],
          [
           -351.35999999998967,
           8,
           529
          ],
          [
           -647.0899999999965,
           6,
           530
          ],
          [
           -2494.5599999999977,
           8,
           531
          ],
          [
           -1413.1800000000003,
           8,
           532
          ],
          [
           -1015.6100000000006,
           6,
           533
          ],
          [
           -1015.6100000000006,
           6,
           534
          ],
          [
           -1015.6100000000006,
           6,
           535
          ],
          [
           -1015.6100000000006,
           6,
           536
          ],
          [
           -1015.6100000000006,
           6,
           537
          ],
          [
           -1052.6300000000047,
           8,
           538
          ],
          [
           -1015.6100000000006,
           6,
           539
          ],
          [
           -1015.6100000000006,
           6,
           540
          ],
          [
           -1015.6100000000006,
           6,
           541
          ],
          [
           -1015.6100000000006,
           6,
           542
          ],
          [
           974.6100000000042,
           8,
           543
          ],
          [
           -1015.6100000000006,
           6,
           544
          ],
          [
           -1015.6100000000006,
           6,
           545
          ],
          [
           -2822.3300000000017,
           6,
           546
          ],
          [
           -1015.6100000000006,
           6,
           547
          ],
          [
           -1015.6100000000006,
           6,
           548
          ],
          [
           -647.0899999999965,
           6,
           549
          ],
          [
           -1015.6100000000006,
           6,
           550
          ],
          [
           -1687.1799999999967,
           8,
           551
          ],
          [
           -1015.6100000000006,
           6,
           552
          ],
          [
           -914.7500000000073,
           6,
           553
          ],
          [
           -914.7500000000073,
           6,
           554
          ],
          [
           -1015.6100000000006,
           6,
           555
          ],
          [
           -903.3700000000026,
           6,
           556
          ],
          [
           -1302.8099999999977,
           6,
           557
          ],
          [
           -1015.6100000000006,
           6,
           558
          ],
          [
           -1010.989999999998,
           8,
           559
          ],
          [
           -1015.6100000000006,
           6,
           560
          ],
          [
           -1540.4100000000035,
           6,
           561
          ],
          [
           -1015.6100000000006,
           6,
           562
          ],
          [
           -1015.6100000000006,
           6,
           563
          ],
          [
           -1015.6100000000006,
           6,
           564
          ],
          [
           234.3100000000013,
           8,
           565
          ],
          [
           -1015.6100000000006,
           6,
           566
          ],
          [
           -647.0899999999965,
           6,
           567
          ],
          [
           -1015.6100000000006,
           6,
           568
          ],
          [
           -1015.6100000000006,
           6,
           569
          ],
          [
           -1015.6100000000006,
           6,
           570
          ],
          [
           974.6100000000042,
           8,
           571
          ],
          [
           -1015.6100000000006,
           6,
           572
          ],
          [
           -1015.6100000000006,
           6,
           573
          ],
          [
           -378.3799999999974,
           8,
           574
          ],
          [
           -1015.6100000000006,
           6,
           575
          ],
          [
           332.369999999999,
           8,
           576
          ],
          [
           1141.699999999997,
           8,
           577
          ],
          [
           -1015.6100000000006,
           6,
           578
          ],
          [
           -647.0899999999965,
           6,
           579
          ],
          [
           2925.520000000004,
           8,
           580
          ],
          [
           -1015.6100000000006,
           6,
           581
          ],
          [
           -903.3700000000026,
           6,
           582
          ],
          [
           -914.7500000000073,
           6,
           583
          ],
          [
           9.299999999999272,
           6,
           584
          ],
          [
           -2020.8099999999977,
           8,
           585
          ],
          [
           -1015.6100000000006,
           6,
           586
          ],
          [
           -1015.6100000000006,
           6,
           587
          ],
          [
           -1526.25,
           4,
           588
          ],
          [
           -378.3799999999974,
           8,
           589
          ],
          [
           -1015.6100000000006,
           6,
           590
          ],
          [
           332.369999999999,
           8,
           591
          ],
          [
           -903.3700000000026,
           6,
           592
          ],
          [
           -1015.6100000000006,
           6,
           593
          ],
          [
           528.7800000000025,
           8,
           594
          ],
          [
           -1015.6100000000006,
           6,
           595
          ],
          [
           -1015.6100000000006,
           6,
           596
          ],
          [
           -1015.6100000000006,
           6,
           597
          ],
          [
           -665.25,
           8,
           598
          ],
          [
           -1015.6100000000006,
           6,
           599
          ],
          [
           -2494.5599999999977,
           8,
           600
          ],
          [
           -1015.6100000000006,
           6,
           601
          ],
          [
           -734.0399999999972,
           8,
           602
          ],
          [
           -1540.4100000000035,
           6,
           603
          ],
          [
           -378.3799999999974,
           8,
           604
          ],
          [
           528.7800000000025,
           8,
           605
          ],
          [
           234.3100000000013,
           8,
           606
          ],
          [
           1155.7900000000009,
           8,
           607
          ],
          [
           9.299999999999272,
           6,
           608
          ],
          [
           -1015.6100000000006,
           6,
           609
          ],
          [
           -4301.279999999999,
           8,
           610
          ],
          [
           -1015.6100000000006,
           6,
           611
          ],
          [
           -1015.6100000000006,
           6,
           612
          ],
          [
           1077.1899999999987,
           8,
           613
          ],
          [
           -1015.6100000000006,
           6,
           614
          ],
          [
           -1015.6100000000006,
           6,
           615
          ],
          [
           2729.9399999999987,
           8,
           616
          ],
          [
           -1015.6100000000006,
           6,
           617
          ],
          [
           -1015.6100000000006,
           6,
           618
          ],
          [
           1396.3199999999997,
           8,
           619
          ],
          [
           -1015.6100000000006,
           6,
           620
          ],
          [
           -1015.6100000000006,
           6,
           621
          ],
          [
           -660.6299999999974,
           8,
           622
          ],
          [
           -1015.6100000000006,
           6,
           623
          ],
          [
           -2494.5599999999977,
           8,
           624
          ],
          [
           -1015.6100000000006,
           6,
           625
          ],
          [
           1229.4800000000032,
           8,
           626
          ],
          [
           -1015.6100000000006,
           6,
           627
          ],
          [
           -1015.6100000000006,
           6,
           628
          ],
          [
           -1015.6100000000006,
           6,
           629
          ],
          [
           -2020.8099999999977,
           8,
           630
          ],
          [
           -1015.6100000000006,
           6,
           631
          ],
          [
           -1015.6100000000006,
           6,
           632
          ],
          [
           1141.699999999997,
           8,
           633
          ],
          [
           -1015.6100000000006,
           6,
           634
          ],
          [
           -1015.6100000000006,
           6,
           635
          ],
          [
           -1687.1799999999967,
           8,
           636
          ],
          [
           -1015.6100000000006,
           6,
           637
          ],
          [
           -1015.6100000000006,
           6,
           638
          ],
          [
           -1015.6100000000006,
           6,
           639
          ],
          [
           -1015.6100000000006,
           6,
           640
          ],
          [
           -1212.0800000000017,
           11,
           641
          ],
          [
           -1015.6100000000006,
           6,
           642
          ],
          [
           1028.5300000000025,
           10,
           643
          ],
          [
           -2020.8099999999977,
           8,
           644
          ],
          [
           -914.7500000000073,
           6,
           645
          ],
          [
           -665.25,
           8,
           646
          ],
          [
           -1015.6100000000006,
           6,
           647
          ],
          [
           630.3899999999994,
           8,
           648
          ],
          [
           332.369999999999,
           8,
           649
          ],
          [
           -1015.6100000000006,
           6,
           650
          ],
          [
           -2822.3300000000017,
           6,
           651
          ],
          [
           -1015.6100000000006,
           6,
           652
          ],
          [
           -1052.6300000000047,
           8,
           653
          ],
          [
           -1015.6100000000006,
           6,
           654
          ],
          [
           1722.310000000005,
           10,
           655
          ],
          [
           619.3600000000042,
           12,
           656
          ],
          [
           -1015.6100000000006,
           6,
           657
          ],
          [
           -1015.6100000000006,
           6,
           658
          ],
          [
           1155.1900000000023,
           8,
           659
          ],
          [
           -364.2199999999939,
           6,
           660
          ],
          [
           888.6899999999987,
           8,
           661
          ],
          [
           -1015.6100000000006,
           6,
           662
          ],
          [
           -665.25,
           8,
           663
          ],
          [
           -1015.6100000000006,
           6,
           664
          ],
          [
           -1015.6100000000006,
           6,
           665
          ],
          [
           -1015.6100000000006,
           6,
           666
          ],
          [
           1118.1699999999983,
           10,
           667
          ],
          [
           -1015.6100000000006,
           6,
           668
          ],
          [
           1155.1900000000023,
           8,
           669
          ],
          [
           -1015.6100000000006,
           6,
           670
          ],
          [
           -1015.6100000000006,
           6,
           671
          ],
          [
           888.6899999999987,
           8,
           672
          ],
          [
           -1015.6100000000006,
           6,
           673
          ],
          [
           -1015.6100000000006,
           6,
           674
          ],
          [
           -932.1900000000023,
           6,
           675
          ],
          [
           -2020.8099999999977,
           8,
           676
          ],
          [
           -594.5099999999911,
           8,
           677
          ],
          [
           -1015.6100000000006,
           6,
           678
          ],
          [
           -1015.6100000000006,
           6,
           679
          ],
          [
           -1015.6100000000006,
           6,
           680
          ],
          [
           -1015.6100000000006,
           6,
           681
          ],
          [
           -1010.989999999998,
           8,
           682
          ],
          [
           9.299999999999272,
           6,
           683
          ],
          [
           -1413.1800000000003,
           8,
           684
          ],
          [
           -1015.6100000000006,
           6,
           685
          ],
          [
           1427.5499999999993,
           10,
           686
          ],
          [
           -1015.6100000000006,
           6,
           687
          ],
          [
           -1015.6100000000006,
           6,
           688
          ],
          [
           2558.9000000000015,
           10,
           689
          ],
          [
           -523.7299999999996,
           10,
           690
          ],
          [
           -665.25,
           8,
           691
          ],
          [
           -1015.6100000000006,
           6,
           692
          ],
          [
           2938.5099999999984,
           8,
           693
          ],
          [
           -2822.3300000000017,
           6,
           694
          ],
          [
           -1015.6100000000006,
           6,
           695
          ],
          [
           1141.699999999997,
           8,
           696
          ],
          [
           -1015.6100000000006,
           6,
           697
          ],
          [
           -1015.6100000000006,
           6,
           698
          ],
          [
           -3282.7999999999956,
           8,
           699
          ],
          [
           1263.4099999999962,
           6,
           700
          ],
          [
           -1010.989999999998,
           8,
           701
          ],
          [
           -1015.6100000000006,
           6,
           702
          ],
          [
           -647.0899999999965,
           6,
           703
          ],
          [
           1394.6900000000096,
           8,
           704
          ],
          [
           1141.699999999997,
           8,
           705
          ],
          [
           -1015.6100000000006,
           6,
           706
          ],
          [
           -2020.8099999999977,
           8,
           707
          ],
          [
           1428.0799999999945,
           12,
           708
          ],
          [
           -996.8299999999945,
           6,
           709
          ],
          [
           893.3100000000013,
           10,
           710
          ],
          [
           -1015.6100000000006,
           6,
           711
          ],
          [
           -903.3700000000026,
           6,
           712
          ],
          [
           99.68999999999869,
           10,
           713
          ],
          [
           234.3100000000013,
           8,
           714
          ],
          [
           -1015.6100000000006,
           6,
           715
          ],
          [
           -1015.6100000000006,
           6,
           716
          ],
          [
           -1015.6100000000006,
           6,
           717
          ],
          [
           888.6899999999987,
           8,
           718
          ],
          [
           -378.3799999999974,
           8,
           719
          ],
          [
           -1010.989999999998,
           8,
           720
          ],
          [
           -1015.6100000000006,
           6,
           721
          ],
          [
           -903.3700000000026,
           6,
           722
          ],
          [
           197.28999999999724,
           10,
           723
          ],
          [
           -1015.6100000000006,
           6,
           724
          ],
          [
           -1015.6100000000006,
           6,
           725
          ],
          [
           -1015.6100000000006,
           6,
           726
          ],
          [
           -1015.6100000000006,
           6,
           727
          ],
          [
           2809.820000000007,
           10,
           728
          ],
          [
           -1540.4100000000035,
           6,
           729
          ],
          [
           713.0000000000036,
           10,
           730
          ],
          [
           -2494.5599999999977,
           8,
           731
          ],
          [
           -1052.6300000000047,
           8,
           732
          ],
          [
           -1015.6100000000006,
           6,
           733
          ],
          [
           -1015.6100000000006,
           6,
           734
          ],
          [
           -932.1900000000023,
           6,
           735
          ],
          [
           -1015.6100000000006,
           6,
           736
          ],
          [
           -1015.6100000000006,
           6,
           737
          ],
          [
           -1015.6100000000006,
           6,
           738
          ],
          [
           -1015.6100000000006,
           6,
           739
          ],
          [
           -914.7500000000073,
           6,
           740
          ],
          [
           -1015.6100000000006,
           6,
           741
          ],
          [
           -2584.729999999996,
           6,
           742
          ],
          [
           -1015.6100000000006,
           6,
           743
          ],
          [
           -778.0099999999948,
           6,
           744
          ],
          [
           1155.1900000000023,
           8,
           745
          ],
          [
           1141.4500000000007,
           8,
           746
          ],
          [
           -1687.1799999999967,
           8,
           747
          ],
          [
           2069.8700000000026,
           10,
           748
          ],
          [
           332.369999999999,
           8,
           749
          ],
          [
           -1015.6100000000006,
           6,
           750
          ],
          [
           -647.0899999999965,
           6,
           751
          ],
          [
           -1015.6100000000006,
           6,
           752
          ],
          [
           622.9400000000023,
           9,
           753
          ],
          [
           -1015.6100000000006,
           6,
           754
          ],
          [
           -2767.5999999999913,
           8,
           755
          ],
          [
           -1015.6100000000006,
           6,
           756
          ],
          [
           2847.9799999999923,
           8,
           757
          ],
          [
           -1015.6100000000006,
           6,
           758
          ],
          [
           -1015.6100000000006,
           6,
           759
          ],
          [
           1155.1900000000023,
           8,
           760
          ],
          [
           2687.9199999999983,
           8,
           761
          ],
          [
           -1015.6100000000006,
           6,
           762
          ],
          [
           -1015.6100000000006,
           6,
           763
          ],
          [
           591.8400000000001,
           8,
           764
          ],
          [
           -1015.6100000000006,
           6,
           765
          ],
          [
           -1015.6100000000006,
           6,
           766
          ],
          [
           -1015.6100000000006,
           6,
           767
          ],
          [
           -1015.6100000000006,
           6,
           768
          ],
          [
           -1015.6100000000006,
           6,
           769
          ],
          [
           -1783.2099999999919,
           8,
           770
          ],
          [
           1151.1699999999983,
           6,
           771
          ],
          [
           -1015.6100000000006,
           6,
           772
          ],
          [
           888.6899999999987,
           8,
           773
          ],
          [
           -1052.6300000000047,
           8,
           774
          ],
          [
           260.3899999999958,
           10,
           775
          ],
          [
           -1015.6100000000006,
           6,
           776
          ],
          [
           -1015.6100000000006,
           6,
           777
          ],
          [
           -365.51999999999316,
           8,
           778
          ],
          [
           -1015.6100000000006,
           6,
           779
          ],
          [
           -1015.6100000000006,
           6,
           780
          ],
          [
           -932.1900000000023,
           6,
           781
          ],
          [
           -1052.6300000000047,
           8,
           782
          ],
          [
           -1015.6100000000006,
           6,
           783
          ],
          [
           -1015.6100000000006,
           6,
           784
          ],
          [
           -1015.6100000000006,
           6,
           785
          ],
          [
           -1015.6100000000006,
           6,
           786
          ],
          [
           -778.0099999999948,
           6,
           787
          ],
          [
           -1302.8099999999977,
           6,
           788
          ],
          [
           9.299999999999272,
           6,
           789
          ],
          [
           -1015.6100000000006,
           6,
           790
          ],
          [
           -1015.6100000000006,
           6,
           791
          ],
          [
           -903.3700000000026,
           6,
           792
          ],
          [
           -1015.6100000000006,
           6,
           793
          ],
          [
           -1015.6100000000006,
           6,
           794
          ],
          [
           -2692.3799999999937,
           10,
           795
          ],
          [
           234.3100000000013,
           8,
           796
          ],
          [
           -1015.6100000000006,
           6,
           797
          ],
          [
           -1015.6100000000006,
           6,
           798
          ],
          [
           9.299999999999272,
           6,
           799
          ],
          [
           -2308.0099999999948,
           6,
           800
          ],
          [
           -1428.1700000000055,
           6,
           801
          ],
          [
           -1015.6100000000006,
           6,
           802
          ],
          [
           580.3400000000001,
           8,
           803
          ],
          [
           -927.5699999999997,
           8,
           804
          ],
          [
           -2006.6499999999942,
           6,
           805
          ],
          [
           -1015.6100000000006,
           6,
           806
          ],
          [
           1380.8199999999997,
           10,
           807
          ],
          [
           -665.25,
           8,
           808
          ],
          [
           -1015.6100000000006,
           6,
           809
          ],
          [
           -1015.6100000000006,
           6,
           810
          ],
          [
           -1015.6100000000006,
           6,
           811
          ],
          [
           -1015.6100000000006,
           6,
           812
          ],
          [
           -1015.6100000000006,
           6,
           813
          ],
          [
           -1015.6100000000006,
           6,
           814
          ],
          [
           -1015.6100000000006,
           6,
           815
          ],
          [
           -1015.6100000000006,
           6,
           816
          ],
          [
           -1015.6100000000006,
           6,
           817
          ],
          [
           930.7000000000007,
           10,
           818
          ],
          [
           -932.1900000000023,
           6,
           819
          ],
          [
           9.299999999999272,
           6,
           820
          ],
          [
           -1015.6100000000006,
           6,
           821
          ],
          [
           -734.0399999999972,
           8,
           822
          ],
          [
           -1015.6100000000006,
           6,
           823
          ],
          [
           -1015.6100000000006,
           6,
           824
          ],
          [
           -1015.6100000000006,
           6,
           825
          ],
          [
           -1052.6300000000047,
           8,
           826
          ],
          [
           -1015.6100000000006,
           6,
           827
          ],
          [
           -1015.6100000000006,
           6,
           828
          ],
          [
           2687.9199999999983,
           8,
           829
          ],
          [
           -378.3799999999974,
           8,
           830
          ],
          [
           -1015.6100000000006,
           6,
           831
          ],
          [
           855.6200000000026,
           7,
           832
          ],
          [
           -1015.6100000000006,
           6,
           833
          ],
          [
           -655.5500000000029,
           8,
           834
          ],
          [
           -2822.3300000000017,
           6,
           835
          ],
          [
           1151.1699999999983,
           6,
           836
          ],
          [
           -665.25,
           8,
           837
          ],
          [
           -1015.6100000000006,
           6,
           838
          ],
          [
           -914.7500000000073,
           6,
           839
          ],
          [
           -1015.6100000000006,
           6,
           840
          ],
          [
           -2020.8099999999977,
           8,
           841
          ],
          [
           -1015.6100000000006,
           6,
           842
          ],
          [
           -1010.989999999998,
           8,
           843
          ],
          [
           -1015.6100000000006,
           6,
           844
          ],
          [
           -1015.6100000000006,
           6,
           845
          ],
          [
           528.7800000000025,
           8,
           846
          ],
          [
           -1015.6100000000006,
           6,
           847
          ],
          [
           -1015.6100000000006,
           6,
           848
          ],
          [
           -1015.6100000000006,
           6,
           849
          ],
          [
           -665.25,
           8,
           850
          ],
          [
           817.940000000006,
           8,
           851
          ],
          [
           1151.1699999999983,
           6,
           852
          ],
          [
           -1010.989999999998,
           8,
           853
          ],
          [
           -1015.6100000000006,
           6,
           854
          ],
          [
           -1015.6100000000006,
           6,
           855
          ],
          [
           -1015.6100000000006,
           6,
           856
          ],
          [
           -1015.6100000000006,
           6,
           857
          ],
          [
           888.6899999999987,
           8,
           858
          ],
          [
           2163.1199999999953,
           8,
           859
          ],
          [
           855.6200000000026,
           7,
           860
          ],
          [
           -932.1900000000023,
           6,
           861
          ],
          [
           -2822.3300000000017,
           6,
           862
          ],
          [
           1392.7900000000081,
           8,
           863
          ],
          [
           -1015.6100000000006,
           6,
           864
          ],
          [
           332.369999999999,
           8,
           865
          ],
          [
           1324.9700000000048,
           10,
           866
          ],
          [
           3070.600000000006,
           8,
           867
          ],
          [
           528.7800000000025,
           8,
           868
          ],
          [
           -1010.989999999998,
           8,
           869
          ],
          [
           -1015.6100000000006,
           6,
           870
          ],
          [
           -1015.6100000000006,
           6,
           871
          ],
          [
           -1015.6100000000006,
           6,
           872
          ],
          [
           -1015.6100000000006,
           6,
           873
          ],
          [
           528.7800000000025,
           8,
           874
          ],
          [
           -158.2400000000016,
           10,
           875
          ],
          [
           -1015.6100000000006,
           6,
           876
          ],
          [
           855.6200000000026,
           7,
           877
          ],
          [
           -1015.6100000000006,
           6,
           878
          ],
          [
           -1015.6100000000006,
           6,
           879
          ],
          [
           -1015.6100000000006,
           6,
           880
          ],
          [
           629.4699999999939,
           12,
           881
          ],
          [
           -1015.6100000000006,
           6,
           882
          ],
          [
           851.6699999999946,
           10,
           883
          ],
          [
           -1001.4499999999971,
           4,
           884
          ],
          [
           -1277.9399999999987,
           8,
           885
          ],
          [
           -1015.6100000000006,
           6,
           886
          ],
          [
           2163.1199999999953,
           8,
           887
          ],
          [
           -1015.6100000000006,
           6,
           888
          ],
          [
           -1015.6100000000006,
           6,
           889
          ],
          [
           -1015.6100000000006,
           6,
           890
          ],
          [
           580.3400000000001,
           8,
           891
          ],
          [
           1141.699999999997,
           8,
           892
          ],
          [
           -647.0899999999965,
           6,
           893
          ],
          [
           974.6100000000042,
           8,
           894
          ],
          [
           -2494.5599999999977,
           8,
           895
          ],
          [
           -1015.6100000000006,
           6,
           896
          ],
          [
           -1001.4499999999971,
           4,
           897
          ],
          [
           -1015.6100000000006,
           6,
           898
          ],
          [
           -1015.6100000000006,
           6,
           899
          ],
          [
           -1015.6100000000006,
           6,
           900
          ],
          [
           -1015.6100000000006,
           6,
           901
          ],
          [
           580.3400000000001,
           8,
           902
          ],
          [
           -1015.6100000000006,
           6,
           903
          ],
          [
           -1015.6100000000006,
           6,
           904
          ],
          [
           -1015.6100000000006,
           6,
           905
          ],
          [
           366.95000000000437,
           10,
           906
          ],
          [
           -1015.6100000000006,
           6,
           907
          ],
          [
           -1015.6100000000006,
           6,
           908
          ],
          [
           -1015.6100000000006,
           6,
           909
          ],
          [
           2854.7599999999948,
           8,
           910
          ],
          [
           -1015.6100000000006,
           6,
           911
          ],
          [
           -1015.6100000000006,
           6,
           912
          ],
          [
           -2020.8099999999977,
           8,
           913
          ],
          [
           -1399.0199999999968,
           6,
           914
          ],
          [
           -1015.6100000000006,
           6,
           915
          ],
          [
           -1413.1800000000003,
           8,
           916
          ],
          [
           -1015.6100000000006,
           6,
           917
          ],
          [
           958.7400000000052,
           9,
           918
          ],
          [
           465.9300000000003,
           10,
           919
          ],
          [
           -1015.6100000000006,
           6,
           920
          ],
          [
           974.6100000000042,
           8,
           921
          ],
          [
           -778.0099999999948,
           6,
           922
          ],
          [
           -15.169999999994616,
           10,
           923
          ],
          [
           682.0200000000004,
           10,
           924
          ],
          [
           -1540.4100000000035,
           6,
           925
          ],
          [
           974.6100000000042,
           8,
           926
          ],
          [
           -1015.6100000000006,
           6,
           927
          ],
          [
           2687.9199999999983,
           8,
           928
          ],
          [
           855.6200000000026,
           7,
           929
          ],
          [
           -1015.6100000000006,
           6,
           930
          ],
          [
           1000.9299999999967,
           8,
           931
          ],
          [
           9.299999999999272,
           6,
           932
          ],
          [
           -1015.6100000000006,
           6,
           933
          ],
          [
           -1015.6100000000006,
           6,
           934
          ],
          [
           1443.4600000000028,
           10,
           935
          ],
          [
           -1015.6100000000006,
           6,
           936
          ],
          [
           -1413.1800000000003,
           8,
           937
          ],
          [
           -2020.8099999999977,
           8,
           938
          ],
          [
           234.3100000000013,
           8,
           939
          ],
          [
           -1015.6100000000006,
           6,
           940
          ],
          [
           -1010.989999999998,
           8,
           941
          ],
          [
           -1015.6100000000006,
           6,
           942
          ],
          [
           -1015.6100000000006,
           6,
           943
          ],
          [
           -378.3799999999974,
           8,
           944
          ],
          [
           -1015.6100000000006,
           6,
           945
          ],
          [
           -2710.090000000004,
           6,
           946
          ],
          [
           -1015.6100000000006,
           6,
           947
          ],
          [
           -1015.6100000000006,
           6,
           948
          ],
          [
           -932.1900000000023,
           6,
           949
          ],
          [
           -1015.6100000000006,
           6,
           950
          ],
          [
           1076.2900000000045,
           10,
           951
          ],
          [
           -1015.6100000000006,
           6,
           952
          ],
          [
           3279.300000000003,
           8,
           953
          ],
          [
           -1015.6100000000006,
           6,
           954
          ],
          [
           -2494.5599999999977,
           8,
           955
          ],
          [
           -1001.4499999999971,
           4,
           956
          ],
          [
           -1015.6100000000006,
           6,
           957
          ],
          [
           -1015.6100000000006,
           6,
           958
          ],
          [
           -378.3799999999974,
           8,
           959
          ],
          [
           -1015.6100000000006,
           6,
           960
          ],
          [
           -1010.989999999998,
           8,
           961
          ],
          [
           -1015.6100000000006,
           6,
           962
          ],
          [
           -1015.6100000000006,
           6,
           963
          ],
          [
           -1010.989999999998,
           8,
           964
          ],
          [
           -1015.6100000000006,
           6,
           965
          ],
          [
           -1015.6100000000006,
           6,
           966
          ],
          [
           -1399.0199999999968,
           6,
           967
          ],
          [
           -27.720000000004802,
           8,
           968
          ],
          [
           -1015.6100000000006,
           6,
           969
          ],
          [
           -1015.6100000000006,
           6,
           970
          ],
          [
           -1015.6100000000006,
           6,
           971
          ],
          [
           2630.16,
           8,
           972
          ],
          [
           -1015.6100000000006,
           6,
           973
          ],
          [
           346.5300000000025,
           6,
           974
          ],
          [
           -1015.6100000000006,
           6,
           975
          ],
          [
           -1015.6100000000006,
           6,
           976
          ],
          [
           888.6899999999987,
           8,
           977
          ],
          [
           -1015.6100000000006,
           6,
           978
          ],
          [
           -2822.3300000000017,
           6,
           979
          ],
          [
           -927.5699999999997,
           8,
           980
          ],
          [
           1324.9700000000048,
           10,
           981
          ],
          [
           9.299999999999272,
           6,
           982
          ],
          [
           234.3100000000013,
           8,
           983
          ],
          [
           -1015.6100000000006,
           6,
           984
          ],
          [
           9.299999999999272,
           6,
           985
          ],
          [
           -665.25,
           8,
           986
          ],
          [
           580.3400000000001,
           8,
           987
          ],
          [
           -1015.6100000000006,
           6,
           988
          ],
          [
           -1015.6100000000006,
           6,
           989
          ],
          [
           -1540.4100000000035,
           6,
           990
          ],
          [
           -1015.6100000000006,
           6,
           991
          ],
          [
           -1015.6100000000006,
           6,
           992
          ],
          [
           -1820.229999999996,
           8,
           993
          ],
          [
           9.299999999999272,
           6,
           994
          ],
          [
           -2508.5099999999984,
           12,
           995
          ],
          [
           -1015.6100000000006,
           6,
           996
          ],
          [
           9.299999999999272,
           6,
           997
          ],
          [
           -1015.6100000000006,
           6,
           998
          ],
          [
           -1015.6100000000006,
           6,
           999
          ],
          [
           1155.1900000000023,
           8,
           1000
          ]
         ],
         "fillcolor": "rgba(255,255,255,0)",
         "hoveron": "points",
         "hovertemplate": "model_type=DQN<br>fmt_total_profit_percentage=%{x}<br>total_reward_cash=%{customdata[0]}<br>num_of_trades=%{customdata[1]}<br>sim_id=%{customdata[2]}<extra></extra>",
         "jitter": 0,
         "legendgroup": "DQN",
         "line": {
          "color": "rgba(255,255,255,0)"
         },
         "marker": {
          "color": "#FF7F0E",
          "symbol": "line-ns-open"
         },
         "name": "DQN",
         "offsetgroup": "DQN",
         "showlegend": false,
         "type": "box",
         "x": [
          -4.631310946303213,
          8.930656205740718,
          -4.631310946303213,
          -4.631310946303213,
          -4.631310946303213,
          -7.479424674779689,
          -4.631310946303213,
          5.960937772484054,
          -7.029353048232679,
          -3.9860429272055575,
          3.8849111160071947,
          -4.631310946303213,
          3.8849111160071947,
          -4.631310946303213,
          -4.631310946303213,
          -4.631310946303213,
          -4.631310946303213,
          -4.631310946303213,
          4.036564781167606,
          -4.631310946303213,
          -4.631310946303213,
          -4.631310946303213,
          -4.551593225729311,
          -3.2803265453192343,
          -4.631310946303213,
          0.27306808301110763,
          -1.685154266617983,
          -13.554664332443023,
          -4.631310946303213,
          -4.631310946303213,
          8.642031412670681,
          7.277230649854394,
          -4.631310946303213,
          5.1874204047918315,
          2.4060571049153046,
          -4.631310946303213,
          -4.631310946303213,
          6.029934858053454,
          -4.631310946303213,
          1.0934051407932577,
          -4.631310946303213,
          -4.631310946303213,
          -4.631310946303213,
          -4.631310946303213,
          0.06361140483119865,
          -4.631310946303213,
          -4.631310946303213,
          -4.631310946303213,
          4.036564781167606,
          -9.899138398881702,
          -4.631310946303213,
          -4.631310946303213,
          -4.631310946303213,
          5.602567289907268,
          -4.631310946303213,
          17.740021745450463,
          -4.631310946303213,
          -4.840719512495351,
          2.105644050035038,
          -4.631310946303213,
          -4.631310946303213,
          -2.5457781855605432,
          -4.631310946303213,
          -4.06889022109711,
          3.8849111160071947,
          3.8849111160071947,
          -4.631310946303213,
          -4.631310946303213,
          0.8714263631454333,
          3.8849111160071947,
          -4.840719512495351,
          5.602567289907268,
          6.648290382205557,
          -11.588559212047578,
          -2.5457781855605432,
          0.27306808301110763,
          5.248820425145273,
          5.2657472631471025,
          1.0934051407932577,
          -4.631310946303213,
          1.0934051407932577,
          -4.631310946303213,
          -4.631310946303213,
          4.4272715989058575,
          3.8849111160071947,
          -4.631310946303213,
          -4.250137765608997,
          3.0989402122261867,
          7.911895601819241,
          -1.9581098849261402,
          -4.631310946303213,
          -4.631310946303213,
          -4.278338443009744,
          -1.9803714737241962,
          -4.631310946303213,
          6.44840692454125,
          -14.675304931308341,
          -5.525276158117009,
          -4.631310946303213,
          3.8849111160071947,
          -4.631310946303213,
          -4.631310946303213,
          -4.631310946303213,
          -4.631310946303213,
          -4.490635283370126,
          -4.631310946303213,
          -8.59745547907329,
          -10.851025376067213,
          -4.631310946303213,
          -4.631310946303213,
          -4.631310946303213,
          -4.631310946303213,
          9.082844275748325,
          6.029934858053454,
          -4.631310946303213,
          -4.631310946303213,
          6.44840692454125,
          -4.631310946303213,
          -4.631310946303213,
          -4.631310946303213,
          -6.194396428133353,
          -3.3492910197644887,
          4.036564781167606,
          -4.604882750924732,
          -4.631310946303213,
          -4.631310946303213,
          -4.631310946303213,
          -4.06889022109711,
          4.949854880638305,
          -4.631310946303213,
          -4.631310946303213,
          -4.631310946303213,
          -7.654168304490804,
          3.8849111160071947,
          5.1874204047918315,
          -4.631310946303213,
          -4.631310946303213,
          -1.685154266617983,
          -7.654168304490804,
          -4.631310946303213,
          4.4272715989058575,
          -4.631310946303213,
          -4.631310946303213,
          -4.631310946303213,
          -4.631310946303213,
          -1.685154266617983,
          -4.840719512495351,
          -4.631310946303213,
          -4.604882750924732,
          -4.631310946303213,
          -4.631310946303213,
          1.0934051407932577,
          5.602567289907268,
          5.602567289907268,
          1.0934051407932577,
          -4.06889022109711,
          3.8849111160071947,
          -4.631310946303213,
          -4.631310946303213,
          6.648290382205557,
          -4.631310946303213,
          4.036564781167606,
          -4.631310946303213,
          -4.631310946303213,
          -4.631310946303213,
          2.4060571049153046,
          -4.631310946303213,
          -1.685154266617983,
          14.289805685998669,
          -4.631310946303213,
          -4.631310946303213,
          -2.3177550648626477,
          -4.631310946303213,
          4.036564781167606,
          -4.631310946303213,
          -2.8937536991131996,
          -4.1701014262367275,
          -2.5457781855605432,
          -3.9594359176958416,
          4.587800203349257,
          12.3214585969299,
          -6.4195052581949135,
          -4.631310946303213,
          -5.105389304891583,
          -4.631310946303213,
          -9.899138398881702,
          -4.631310946303213,
          -2.617006759420959,
          -4.631310946303213,
          -4.250137765608997,
          -4.631310946303213,
          -4.631310946303213,
          -4.631310946303213,
          2.6347781084564925,
          12.391305373932315,
          3.0989402122261867,
          -4.631310946303213,
          -4.631310946303213,
          -4.631310946303213,
          3.456846789586887,
          -4.631310946303213,
          3.8849111160071947,
          -4.631310946303213,
          -4.631310946303213,
          -4.631310946303213,
          -4.631310946303213,
          2.6602866883789877,
          -4.631310946303213,
          -3.3492910197644887,
          -4.631310946303213,
          -4.631310946303213,
          6.648290382205557,
          6.648290382205557,
          -4.631310946303213,
          -13.554664332443023,
          12.391305373932315,
          -4.631310946303213,
          -4.551593225729311,
          3.73733673572334,
          4.088693283330147,
          -7.654168304490804,
          -2.617006759420959,
          -4.631310946303213,
          -13.209156347804296,
          0.27306808301110763,
          -4.631310946303213,
          -4.631310946303213,
          -4.631310946303213,
          -4.631310946303213,
          3.0772935758606623,
          -4.631310946303213,
          -4.631310946303213,
          -4.631310946303213,
          -4.631310946303213,
          -3.2803265453192343,
          -4.631310946303213,
          3.8849111160071947,
          -4.631310946303213,
          -4.631310946303213,
          14.87612748759255,
          -4.631310946303213,
          6.3170781014002975,
          -4.631310946303213,
          -3.3492910197644887,
          -4.631310946303213,
          -4.551593225729311,
          -4.631310946303213,
          -4.631310946303213,
          8.054434286534384,
          5.356535564323872,
          0.5865574748118663,
          -4.631310946303213,
          -4.250137765608997,
          1.3187488878589892,
          -4.631310946303213,
          5.889625451637959,
          6.648290382205557,
          -4.631310946303213,
          1.6028179926755648,
          -4.631310946303213,
          -4.631310946303213,
          -4.631310946303213,
          -4.631310946303213,
          -10.094868171554827,
          -6.23569130318039,
          -3.9860429272055575,
          -4.631310946303213,
          -4.631310946303213,
          -4.631310946303213,
          -4.631310946303213,
          -4.631310946303213,
          -9.899138398881702,
          -4.631310946303213,
          -4.250137765608997,
          -4.631310946303213,
          -4.631310946303213,
          -4.631310946303213,
          3.8849111160071947,
          -4.631310946303213,
          -4.631310946303213,
          4.956452074336792,
          -4.631310946303213,
          2.6347781084564925,
          -4.631310946303213,
          -4.631310946303213,
          -4.631310946303213,
          -4.250137765608997,
          -4.551593225729311,
          14.765148185763422,
          2.4166210341564076,
          -10.851025376067213,
          3.689068755335123,
          4.036564781167606,
          -4.631310946303213,
          -4.631310946303213,
          -4.631310946303213,
          -3.2803265453192343,
          -4.631310946303213,
          -4.631310946303213,
          8.08193946303013,
          -4.631310946303213,
          -4.631310946303213,
          -7.479424674779689,
          -4.631310946303213,
          2.4060571049153046,
          -4.631310946303213,
          -4.631310946303213,
          -3.9860429272055575,
          -4.631310946303213,
          -4.631310946303213,
          -13.04486757567458,
          -2.617006759420959,
          -7.654168304490804,
          5.1874204047918315,
          -4.840719512495351,
          -2.617006759420959,
          -4.631310946303213,
          -4.631310946303213,
          -0.7793907355949092,
          -4.631310946303213,
          -4.631310946303213,
          -4.631310946303213,
          13.054114101854308,
          -4.631310946303213,
          -6.194029763598275,
          -4.551593225729311,
          -2.5457781855605432,
          13.050089438797308,
          0.27306808301110763,
          5.017717273813971,
          -4.631310946303213,
          -4.631310946303213,
          -1.9581098849261402,
          -4.631310946303213,
          3.9717474602871006,
          -4.631310946303213,
          -4.631310946303213,
          -10.851025376067213,
          2.6347781084564925,
          -2.5457781855605432,
          -2.1562694687093154,
          -3.3492910197644887,
          0.826852612530371,
          6.648290382205557,
          -2.617006759420959,
          -2.617006759420959,
          -4.631310946303213,
          -4.631310946303213,
          -4.631310946303213,
          1.6028179926755648,
          -6.4195052581949135,
          -9.899138398881702,
          -13.554664332443023,
          -4.631310946303213,
          2.4060571049153046,
          0.27306808301110763,
          -7.654168304490804,
          5.248820425145273,
          -4.631310946303213,
          -1.3409197601769285,
          -4.631310946303213,
          -4.631310946303213,
          -4.631310946303213,
          6.648290382205557,
          -4.631310946303213,
          -4.631310946303213,
          -4.631310946303213,
          -3.3492910197644887,
          -3.988702378739417,
          -4.631310946303213,
          -4.631310946303213,
          -4.631310946303213,
          -4.631310946303213,
          -9.899138398881702,
          -3.4236844496357444,
          -4.631310946303213,
          4.893340772410282,
          -7.479424674779689,
          -2.617006759420959,
          -4.631310946303213,
          -13.554664332443023,
          -4.631310946303213,
          -4.631310946303213,
          -4.631310946303213,
          -4.631310946303213,
          -2.617006759420959,
          -4.631310946303213,
          -6.4195052581949135,
          -4.631310946303213,
          -13.554664332443023,
          5.1874204047918315,
          3.8849111160071947,
          -4.631310946303213,
          -4.631310946303213,
          -4.631310946303213,
          4.699873887272865,
          -4.840719512495351,
          -4.631310946303213,
          0.27306808301110763,
          -4.631310946303213,
          6.007558682767988,
          6.648290382205557,
          -4.631310946303213,
          -4.631310946303213,
          5.248820425145273,
          -4.631310946303213,
          5.602567289907268,
          0.27306808301110763,
          -4.631310946303213,
          -3.2803265453192343,
          6.648290382205557,
          -4.631310946303213,
          -4.631310946303213,
          -4.631310946303213,
          2.4060571049153046,
          -4.631310946303213,
          -7.654168304490804,
          8.054434286534384,
          -4.631310946303213,
          7.833023591113264,
          2.181196033629562,
          -4.631310946303213,
          -4.631310946303213,
          -4.631310946303213,
          -4.631310946303213,
          -4.36791770588516,
          4.036564781167606,
          -4.631310946303213,
          4.716992925354879,
          -4.631310946303213,
          -4.631310946303213,
          13.983430649775386,
          -4.604882750924732,
          -0.6522222948931011,
          -4.631310946303213,
          1.6028179926755648,
          -4.631310946303213,
          3.0099795188012424,
          -4.631310946303213,
          -3.9860429272055575,
          -4.631310946303213,
          -2.5457781855605432,
          -4.631310946303213,
          -4.551593225729311,
          -4.631310946303213,
          -2.5457781855605432,
          -4.631310946303213,
          -4.631310946303213,
          -4.631310946303213,
          -4.631310946303213,
          7.700358640300364,
          6.648290382205557,
          -4.631310946303213,
          6.648290382205557,
          -4.604882750924732,
          -13.554664332443023,
          -1.685154266617983,
          -4.631310946303213,
          -4.631310946303213,
          -4.250137765608997,
          -4.631310946303213,
          -4.631310946303213,
          -6.4195052581949135,
          -4.631310946303213,
          -4.631310946303213,
          3.9717474602871006,
          8.980486679294808,
          -12.96977204693588,
          4.4272715989058575,
          -4.631310946303213,
          4.4272715989058575,
          -13.554664332443023,
          -4.631310946303213,
          -4.604882750924732,
          -4.631310946303213,
          3.3292087503968837,
          -4.631310946303213,
          -4.631310946303213,
          -1.685154266617983,
          4.4272715989058575,
          -11.503901696345832,
          -4.631310946303213,
          5.602567289907268,
          -4.631310946303213,
          -4.631310946303213,
          -4.631310946303213,
          5.510337541870869,
          -7.479424674779689,
          -4.631310946303213,
          -4.631310946303213,
          1.6028179926755648,
          -4.631310946303213,
          -4.631310946303213,
          0.5957040558958848,
          -4.631310946303213,
          -4.631310946303213,
          -4.631310946303213,
          12.892918812669919,
          -4.442969937857255,
          -1.30426210355018,
          4.587800203349257,
          -10.826320763447184,
          -4.631310946303213,
          -4.631310946303213,
          -4.631310946303213,
          2.058414438363143,
          4.036564781167606,
          -4.06889022109711,
          -9.109172886175031,
          -4.631310946303213,
          -3.2803265453192343,
          -1.1795644257676097,
          -4.631310946303213,
          -4.631310946303213,
          -4.631310946303213,
          3.2286223830752636,
          -3.9860429272055575,
          -4.631310946303213,
          -4.631310946303213,
          -4.631310946303213,
          -4.631310946303213,
          4.526840716594149,
          -4.631310946303213,
          -4.631310946303213,
          -4.598986307304898,
          -4.631310946303213,
          -7.654168304490804,
          -10.851025376067213,
          -1.1531668510326942,
          -2.5457781855605432,
          -10.851025376067213,
          -6.4195052581949135,
          -4.631310946303213,
          -4.631310946303213,
          -4.631310946303213,
          -4.631310946303213,
          -4.631310946303213,
          -4.840719512495351,
          -4.631310946303213,
          -4.631310946303213,
          -4.631310946303213,
          -4.631310946303213,
          4.4272715989058575,
          -4.631310946303213,
          -4.631310946303213,
          -13.554664332443023,
          -4.631310946303213,
          -4.631310946303213,
          -2.5457781855605432,
          -4.631310946303213,
          -7.654168304490804,
          -4.631310946303213,
          -4.06889022109711,
          -4.06889022109711,
          -4.631310946303213,
          -3.9860429272055575,
          -6.168786400575687,
          -4.631310946303213,
          -4.604882750924732,
          -4.631310946303213,
          -7.479424674779689,
          -4.631310946303213,
          -4.631310946303213,
          -4.631310946303213,
          1.0934051407932577,
          -4.631310946303213,
          -2.5457781855605432,
          -4.631310946303213,
          -4.631310946303213,
          -4.631310946303213,
          4.4272715989058575,
          -4.631310946303213,
          -4.631310946303213,
          -1.685154266617983,
          -4.631310946303213,
          1.6028179926755648,
          5.1874204047918315,
          -4.631310946303213,
          -2.5457781855605432,
          13.983430649775386,
          -4.631310946303213,
          -3.9860429272055575,
          -4.06889022109711,
          0.27306808301110763,
          -9.899138398881702,
          -4.631310946303213,
          -4.631310946303213,
          -7.402087663604473,
          -1.685154266617983,
          -4.631310946303213,
          1.6028179926755648,
          -3.9860429272055575,
          -4.631310946303213,
          2.4060571049153046,
          -4.631310946303213,
          -4.631310946303213,
          -4.631310946303213,
          -2.617006759420959,
          -4.631310946303213,
          -10.851025376067213,
          -4.631310946303213,
          -3.3492910197644887,
          -7.479424674779689,
          -1.685154266617983,
          2.4060571049153046,
          1.0934051407932577,
          6.677844336264993,
          0.27306808301110763,
          -4.631310946303213,
          -19.192419312325026,
          -4.631310946303213,
          -4.631310946303213,
          4.893340772410282,
          -4.631310946303213,
          -4.631310946303213,
          13.965193850862502,
          -4.631310946303213,
          -4.631310946303213,
          6.44840692454125,
          -4.631310946303213,
          -4.631310946303213,
          -2.590020368002144,
          -4.631310946303213,
          -10.851025376067213,
          -4.631310946303213,
          5.602567289907268,
          -4.631310946303213,
          -4.631310946303213,
          -4.631310946303213,
          -9.899138398881702,
          -4.631310946303213,
          -4.631310946303213,
          5.1874204047918315,
          -4.631310946303213,
          -4.631310946303213,
          -7.654168304490804,
          -4.631310946303213,
          -4.631310946303213,
          -4.631310946303213,
          -4.631310946303213,
          -5.193225780999899,
          -4.631310946303213,
          5.153533021228274,
          -9.899138398881702,
          -4.06889022109711,
          -2.617006759420959,
          -4.631310946303213,
          2.105644050035038,
          1.6028179926755648,
          -4.631310946303213,
          -13.554664332443023,
          -4.631310946303213,
          -4.840719512495351,
          -4.631310946303213,
          7.902596461172884,
          3.710214992312544,
          -4.631310946303213,
          -4.631310946303213,
          5.248820425145273,
          -1.6029738835362184,
          4.036564781167606,
          -4.631310946303213,
          -2.617006759420959,
          -4.631310946303213,
          -4.631310946303213,
          -4.631310946303213,
          5.017717273813971,
          -4.631310946303213,
          5.248820425145273,
          -4.631310946303213,
          -4.631310946303213,
          4.036564781167606,
          -4.631310946303213,
          -4.631310946303213,
          -4.250137765608997,
          -9.899138398881702,
          -4.002772098224927,
          -4.631310946303213,
          -4.631310946303213,
          -4.631310946303213,
          -4.631310946303213,
          -4.604882750924732,
          0.27306808301110763,
          -6.4195052581949135,
          -4.631310946303213,
          7.108817335949569,
          -4.631310946303213,
          -4.631310946303213,
          11.76374381218559,
          -2.134015998458849,
          -2.617006759420959,
          -4.631310946303213,
          15.011954732172184,
          -13.554664332443023,
          -4.631310946303213,
          5.1874204047918315,
          -4.631310946303213,
          -4.631310946303213,
          -14.154697305192187,
          7.369876594178448,
          -4.604882750924732,
          -4.631310946303213,
          -2.5457781855605432,
          6.949881587787909,
          5.1874204047918315,
          -4.631310946303213,
          -9.899138398881702,
          6.657018633407086,
          -4.525142939290216,
          4.065394984118109,
          -4.631310946303213,
          -3.9860429272055575,
          0.5678350936503263,
          1.0934051407932577,
          -4.631310946303213,
          -4.631310946303213,
          -4.631310946303213,
          4.036564781167606,
          -1.685154266617983,
          -4.604882750924732,
          -4.631310946303213,
          -3.9860429272055575,
          0.8714263631454333,
          -4.631310946303213,
          -4.631310946303213,
          -4.631310946303213,
          -4.631310946303213,
          13.020957660823495,
          -7.479424674779689,
          4.244124092478696,
          -10.851025376067213,
          -4.840719512495351,
          -4.631310946303213,
          -4.631310946303213,
          -4.250137765608997,
          -4.631310946303213,
          -4.631310946303213,
          -4.631310946303213,
          -4.631310946303213,
          -4.06889022109711,
          -4.631310946303213,
          -12.33008736505976,
          -4.631310946303213,
          -3.2803265453192343,
          5.248820425145273,
          5.263697526057376,
          -7.654168304490804,
          9.956051042430003,
          1.6028179926755648,
          -4.631310946303213,
          -2.5457781855605432,
          -4.631310946303213,
          2.826681545252807,
          -4.631310946303213,
          -12.214913033636144,
          -4.631310946303213,
          15.45062507505146,
          -4.631310946303213,
          -4.631310946303213,
          5.248820425145273,
          12.391305373932315,
          -4.631310946303213,
          -4.631310946303213,
          3.9666231288019826,
          -4.631310946303213,
          -4.631310946303213,
          -4.631310946303213,
          -4.631310946303213,
          -4.631310946303213,
          -8.62277757494514,
          6.648290382205557,
          -4.631310946303213,
          4.036564781167606,
          -4.840719512495351,
          0.9740420511217707,
          -4.631310946303213,
          -4.631310946303213,
          -1.2357229092309074,
          -4.631310946303213,
          -4.631310946303213,
          -4.250137765608997,
          -4.840719512495351,
          -4.631310946303213,
          -4.631310946303213,
          -4.631310946303213,
          -4.631310946303213,
          -3.2803265453192343,
          -6.168786400575687,
          0.27306808301110763,
          -4.631310946303213,
          -4.631310946303213,
          -3.9860429272055575,
          -4.631310946303213,
          -4.631310946303213,
          -12.75502385953462,
          1.0934051407932577,
          -4.631310946303213,
          -4.631310946303213,
          0.27306808301110763,
          -11.351689173093604,
          -6.853427096766785,
          -4.631310946303213,
          2.6347781084564925,
          -4.223603941020427,
          -9.82382400188354,
          -4.631310946303213,
          6.30754375406537,
          -2.617006759420959,
          -4.631310946303213,
          -4.631310946303213,
          -4.631310946303213,
          -4.631310946303213,
          -4.631310946303213,
          -4.631310946303213,
          -4.631310946303213,
          -4.631310946303213,
          -4.631310946303213,
          4.802551046461256,
          -4.250137765608997,
          0.27306808301110763,
          -4.631310946303213,
          -3.3492910197644887,
          -4.631310946303213,
          -4.631310946303213,
          -4.631310946303213,
          -4.840719512495351,
          -4.631310946303213,
          -4.631310946303213,
          12.391305373932315,
          -1.685154266617983,
          -4.631310946303213,
          3.8849111160071947,
          -4.631310946303213,
          -3.3304604274259964,
          -13.554664332443023,
          6.648290382205557,
          -2.617006759420959,
          -4.631310946303213,
          -4.06889022109711,
          -4.631310946303213,
          -9.899138398881702,
          -4.631310946303213,
          -4.604882750924732,
          -4.631310946303213,
          -4.631310946303213,
          2.4060571049153046,
          -4.631310946303213,
          -4.631310946303213,
          -4.631310946303213,
          -2.617006759420959,
          4.088693283330147,
          6.648290382205557,
          -4.604882750924732,
          -4.631310946303213,
          -4.631310946303213,
          -4.631310946303213,
          -4.631310946303213,
          4.036564781167606,
          9.034824090891336,
          3.8849111160071947,
          -4.250137765608997,
          -13.554664332443023,
          6.739765891914518,
          -4.631310946303213,
          1.6028179926755648,
          6.632904207402035,
          14.945091731955662,
          2.4060571049153046,
          -4.604882750924732,
          -4.631310946303213,
          -4.631310946303213,
          -4.631310946303213,
          -4.631310946303213,
          2.4060571049153046,
          -1.8245109058214526,
          -4.631310946303213,
          3.8849111160071947,
          -4.631310946303213,
          -4.631310946303213,
          -4.631310946303213,
          2.6065207651259747,
          -4.631310946303213,
          3.8081234753411852,
          -4.551593225729311,
          -7.175761052549978,
          -4.631310946303213,
          9.034824090891336,
          -4.631310946303213,
          -4.631310946303213,
          -4.631310946303213,
          2.6347781084564925,
          5.1874204047918315,
          -2.5457781855605432,
          4.4272715989058575,
          -10.851025376067213,
          -4.631310946303213,
          -4.551593225729311,
          -4.631310946303213,
          -4.631310946303213,
          -4.631310946303213,
          -4.631310946303213,
          2.6347781084564925,
          -4.631310946303213,
          -4.631310946303213,
          -4.631310946303213,
          1.3485223557749615,
          -4.631310946303213,
          -4.631310946303213,
          -4.631310946303213,
          13.29152042658861,
          -4.631310946303213,
          -4.631310946303213,
          -9.899138398881702,
          -6.3412822711221395,
          -4.631310946303213,
          -6.4195052581949135,
          -4.631310946303213,
          4.350740678612741,
          2.1898921389804205,
          -4.631310946303213,
          4.4272715989058575,
          -3.2803265453192343,
          0.08988672376597506,
          3.1291500036785935,
          -7.479424674779689,
          4.4272715989058575,
          -4.631310946303213,
          12.391305373932315,
          3.8849111160071947,
          -4.631310946303213,
          4.74047996272442,
          0.27306808301110763,
          -4.631310946303213,
          -4.631310946303213,
          6.986145750588135,
          -4.631310946303213,
          -6.4195052581949135,
          -9.899138398881702,
          1.0934051407932577,
          -4.631310946303213,
          -4.604882750924732,
          -4.631310946303213,
          -4.631310946303213,
          -1.685154266617983,
          -4.631310946303213,
          -12.96977204693588,
          -4.631310946303213,
          -4.631310946303213,
          -4.250137765608997,
          -4.631310946303213,
          4.930277588928744,
          -4.631310946303213,
          16.743163466567413,
          -4.631310946303213,
          -10.851025376067213,
          -4.551593225729311,
          -4.631310946303213,
          -4.631310946303213,
          -1.685154266617983,
          -4.631310946303213,
          -4.604882750924732,
          -4.631310946303213,
          -4.631310946303213,
          -4.604882750924732,
          -4.631310946303213,
          -4.631310946303213,
          -6.3412822711221395,
          0.05289058426067861,
          -4.631310946303213,
          -4.631310946303213,
          -4.631310946303213,
          13.462285866373591,
          -4.631310946303213,
          1.6877467584437644,
          -4.631310946303213,
          -4.631310946303213,
          4.036564781167606,
          -4.631310946303213,
          -13.554664332443023,
          -4.223603941020427,
          6.632904207402035,
          0.27306808301110763,
          1.0934051407932577,
          -4.631310946303213,
          0.27306808301110763,
          -2.617006759420959,
          2.6347781084564925,
          -4.631310946303213,
          -4.631310946303213,
          -7.479424674779689,
          -4.631310946303213,
          -4.631310946303213,
          -8.823421762471707,
          0.27306808301110763,
          -10.343550070706463,
          -4.631310946303213,
          0.27306808301110763,
          -4.631310946303213,
          -4.631310946303213,
          5.248820425145273
         ],
         "xaxis": "x2",
         "yaxis": "y2"
        }
       ],
       "layout": {
        "barmode": "relative",
        "height": 600,
        "legend": {
         "title": {
          "text": "model_type"
         },
         "tracegroupgap": 0
        },
        "margin": {
         "t": 60
        },
        "template": {
         "data": {
          "bar": [
           {
            "error_x": {
             "color": "#2a3f5f"
            },
            "error_y": {
             "color": "#2a3f5f"
            },
            "marker": {
             "line": {
              "color": "#E5ECF6",
              "width": 0.5
             },
             "pattern": {
              "fillmode": "overlay",
              "size": 10,
              "solidity": 0.2
             }
            },
            "type": "bar"
           }
          ],
          "barpolar": [
           {
            "marker": {
             "line": {
              "color": "#E5ECF6",
              "width": 0.5
             },
             "pattern": {
              "fillmode": "overlay",
              "size": 10,
              "solidity": 0.2
             }
            },
            "type": "barpolar"
           }
          ],
          "carpet": [
           {
            "aaxis": {
             "endlinecolor": "#2a3f5f",
             "gridcolor": "white",
             "linecolor": "white",
             "minorgridcolor": "white",
             "startlinecolor": "#2a3f5f"
            },
            "baxis": {
             "endlinecolor": "#2a3f5f",
             "gridcolor": "white",
             "linecolor": "white",
             "minorgridcolor": "white",
             "startlinecolor": "#2a3f5f"
            },
            "type": "carpet"
           }
          ],
          "choropleth": [
           {
            "colorbar": {
             "outlinewidth": 0,
             "ticks": ""
            },
            "type": "choropleth"
           }
          ],
          "contour": [
           {
            "colorbar": {
             "outlinewidth": 0,
             "ticks": ""
            },
            "colorscale": [
             [
              0,
              "#0d0887"
             ],
             [
              0.1111111111111111,
              "#46039f"
             ],
             [
              0.2222222222222222,
              "#7201a8"
             ],
             [
              0.3333333333333333,
              "#9c179e"
             ],
             [
              0.4444444444444444,
              "#bd3786"
             ],
             [
              0.5555555555555556,
              "#d8576b"
             ],
             [
              0.6666666666666666,
              "#ed7953"
             ],
             [
              0.7777777777777778,
              "#fb9f3a"
             ],
             [
              0.8888888888888888,
              "#fdca26"
             ],
             [
              1,
              "#f0f921"
             ]
            ],
            "type": "contour"
           }
          ],
          "contourcarpet": [
           {
            "colorbar": {
             "outlinewidth": 0,
             "ticks": ""
            },
            "type": "contourcarpet"
           }
          ],
          "heatmap": [
           {
            "colorbar": {
             "outlinewidth": 0,
             "ticks": ""
            },
            "colorscale": [
             [
              0,
              "#0d0887"
             ],
             [
              0.1111111111111111,
              "#46039f"
             ],
             [
              0.2222222222222222,
              "#7201a8"
             ],
             [
              0.3333333333333333,
              "#9c179e"
             ],
             [
              0.4444444444444444,
              "#bd3786"
             ],
             [
              0.5555555555555556,
              "#d8576b"
             ],
             [
              0.6666666666666666,
              "#ed7953"
             ],
             [
              0.7777777777777778,
              "#fb9f3a"
             ],
             [
              0.8888888888888888,
              "#fdca26"
             ],
             [
              1,
              "#f0f921"
             ]
            ],
            "type": "heatmap"
           }
          ],
          "heatmapgl": [
           {
            "colorbar": {
             "outlinewidth": 0,
             "ticks": ""
            },
            "colorscale": [
             [
              0,
              "#0d0887"
             ],
             [
              0.1111111111111111,
              "#46039f"
             ],
             [
              0.2222222222222222,
              "#7201a8"
             ],
             [
              0.3333333333333333,
              "#9c179e"
             ],
             [
              0.4444444444444444,
              "#bd3786"
             ],
             [
              0.5555555555555556,
              "#d8576b"
             ],
             [
              0.6666666666666666,
              "#ed7953"
             ],
             [
              0.7777777777777778,
              "#fb9f3a"
             ],
             [
              0.8888888888888888,
              "#fdca26"
             ],
             [
              1,
              "#f0f921"
             ]
            ],
            "type": "heatmapgl"
           }
          ],
          "histogram": [
           {
            "marker": {
             "pattern": {
              "fillmode": "overlay",
              "size": 10,
              "solidity": 0.2
             }
            },
            "type": "histogram"
           }
          ],
          "histogram2d": [
           {
            "colorbar": {
             "outlinewidth": 0,
             "ticks": ""
            },
            "colorscale": [
             [
              0,
              "#0d0887"
             ],
             [
              0.1111111111111111,
              "#46039f"
             ],
             [
              0.2222222222222222,
              "#7201a8"
             ],
             [
              0.3333333333333333,
              "#9c179e"
             ],
             [
              0.4444444444444444,
              "#bd3786"
             ],
             [
              0.5555555555555556,
              "#d8576b"
             ],
             [
              0.6666666666666666,
              "#ed7953"
             ],
             [
              0.7777777777777778,
              "#fb9f3a"
             ],
             [
              0.8888888888888888,
              "#fdca26"
             ],
             [
              1,
              "#f0f921"
             ]
            ],
            "type": "histogram2d"
           }
          ],
          "histogram2dcontour": [
           {
            "colorbar": {
             "outlinewidth": 0,
             "ticks": ""
            },
            "colorscale": [
             [
              0,
              "#0d0887"
             ],
             [
              0.1111111111111111,
              "#46039f"
             ],
             [
              0.2222222222222222,
              "#7201a8"
             ],
             [
              0.3333333333333333,
              "#9c179e"
             ],
             [
              0.4444444444444444,
              "#bd3786"
             ],
             [
              0.5555555555555556,
              "#d8576b"
             ],
             [
              0.6666666666666666,
              "#ed7953"
             ],
             [
              0.7777777777777778,
              "#fb9f3a"
             ],
             [
              0.8888888888888888,
              "#fdca26"
             ],
             [
              1,
              "#f0f921"
             ]
            ],
            "type": "histogram2dcontour"
           }
          ],
          "mesh3d": [
           {
            "colorbar": {
             "outlinewidth": 0,
             "ticks": ""
            },
            "type": "mesh3d"
           }
          ],
          "parcoords": [
           {
            "line": {
             "colorbar": {
              "outlinewidth": 0,
              "ticks": ""
             }
            },
            "type": "parcoords"
           }
          ],
          "pie": [
           {
            "automargin": true,
            "type": "pie"
           }
          ],
          "scatter": [
           {
            "fillpattern": {
             "fillmode": "overlay",
             "size": 10,
             "solidity": 0.2
            },
            "type": "scatter"
           }
          ],
          "scatter3d": [
           {
            "line": {
             "colorbar": {
              "outlinewidth": 0,
              "ticks": ""
             }
            },
            "marker": {
             "colorbar": {
              "outlinewidth": 0,
              "ticks": ""
             }
            },
            "type": "scatter3d"
           }
          ],
          "scattercarpet": [
           {
            "marker": {
             "colorbar": {
              "outlinewidth": 0,
              "ticks": ""
             }
            },
            "type": "scattercarpet"
           }
          ],
          "scattergeo": [
           {
            "marker": {
             "colorbar": {
              "outlinewidth": 0,
              "ticks": ""
             }
            },
            "type": "scattergeo"
           }
          ],
          "scattergl": [
           {
            "marker": {
             "colorbar": {
              "outlinewidth": 0,
              "ticks": ""
             }
            },
            "type": "scattergl"
           }
          ],
          "scattermapbox": [
           {
            "marker": {
             "colorbar": {
              "outlinewidth": 0,
              "ticks": ""
             }
            },
            "type": "scattermapbox"
           }
          ],
          "scatterpolar": [
           {
            "marker": {
             "colorbar": {
              "outlinewidth": 0,
              "ticks": ""
             }
            },
            "type": "scatterpolar"
           }
          ],
          "scatterpolargl": [
           {
            "marker": {
             "colorbar": {
              "outlinewidth": 0,
              "ticks": ""
             }
            },
            "type": "scatterpolargl"
           }
          ],
          "scatterternary": [
           {
            "marker": {
             "colorbar": {
              "outlinewidth": 0,
              "ticks": ""
             }
            },
            "type": "scatterternary"
           }
          ],
          "surface": [
           {
            "colorbar": {
             "outlinewidth": 0,
             "ticks": ""
            },
            "colorscale": [
             [
              0,
              "#0d0887"
             ],
             [
              0.1111111111111111,
              "#46039f"
             ],
             [
              0.2222222222222222,
              "#7201a8"
             ],
             [
              0.3333333333333333,
              "#9c179e"
             ],
             [
              0.4444444444444444,
              "#bd3786"
             ],
             [
              0.5555555555555556,
              "#d8576b"
             ],
             [
              0.6666666666666666,
              "#ed7953"
             ],
             [
              0.7777777777777778,
              "#fb9f3a"
             ],
             [
              0.8888888888888888,
              "#fdca26"
             ],
             [
              1,
              "#f0f921"
             ]
            ],
            "type": "surface"
           }
          ],
          "table": [
           {
            "cells": {
             "fill": {
              "color": "#EBF0F8"
             },
             "line": {
              "color": "white"
             }
            },
            "header": {
             "fill": {
              "color": "#C8D4E3"
             },
             "line": {
              "color": "white"
             }
            },
            "type": "table"
           }
          ]
         },
         "layout": {
          "annotationdefaults": {
           "arrowcolor": "#2a3f5f",
           "arrowhead": 0,
           "arrowwidth": 1
          },
          "autotypenumbers": "strict",
          "coloraxis": {
           "colorbar": {
            "outlinewidth": 0,
            "ticks": ""
           }
          },
          "colorscale": {
           "diverging": [
            [
             0,
             "#8e0152"
            ],
            [
             0.1,
             "#c51b7d"
            ],
            [
             0.2,
             "#de77ae"
            ],
            [
             0.3,
             "#f1b6da"
            ],
            [
             0.4,
             "#fde0ef"
            ],
            [
             0.5,
             "#f7f7f7"
            ],
            [
             0.6,
             "#e6f5d0"
            ],
            [
             0.7,
             "#b8e186"
            ],
            [
             0.8,
             "#7fbc41"
            ],
            [
             0.9,
             "#4d9221"
            ],
            [
             1,
             "#276419"
            ]
           ],
           "sequential": [
            [
             0,
             "#0d0887"
            ],
            [
             0.1111111111111111,
             "#46039f"
            ],
            [
             0.2222222222222222,
             "#7201a8"
            ],
            [
             0.3333333333333333,
             "#9c179e"
            ],
            [
             0.4444444444444444,
             "#bd3786"
            ],
            [
             0.5555555555555556,
             "#d8576b"
            ],
            [
             0.6666666666666666,
             "#ed7953"
            ],
            [
             0.7777777777777778,
             "#fb9f3a"
            ],
            [
             0.8888888888888888,
             "#fdca26"
            ],
            [
             1,
             "#f0f921"
            ]
           ],
           "sequentialminus": [
            [
             0,
             "#0d0887"
            ],
            [
             0.1111111111111111,
             "#46039f"
            ],
            [
             0.2222222222222222,
             "#7201a8"
            ],
            [
             0.3333333333333333,
             "#9c179e"
            ],
            [
             0.4444444444444444,
             "#bd3786"
            ],
            [
             0.5555555555555556,
             "#d8576b"
            ],
            [
             0.6666666666666666,
             "#ed7953"
            ],
            [
             0.7777777777777778,
             "#fb9f3a"
            ],
            [
             0.8888888888888888,
             "#fdca26"
            ],
            [
             1,
             "#f0f921"
            ]
           ]
          },
          "colorway": [
           "#636efa",
           "#EF553B",
           "#00cc96",
           "#ab63fa",
           "#FFA15A",
           "#19d3f3",
           "#FF6692",
           "#B6E880",
           "#FF97FF",
           "#FECB52"
          ],
          "font": {
           "color": "#2a3f5f"
          },
          "geo": {
           "bgcolor": "white",
           "lakecolor": "white",
           "landcolor": "#E5ECF6",
           "showlakes": true,
           "showland": true,
           "subunitcolor": "white"
          },
          "hoverlabel": {
           "align": "left"
          },
          "hovermode": "closest",
          "mapbox": {
           "style": "light"
          },
          "paper_bgcolor": "white",
          "plot_bgcolor": "#E5ECF6",
          "polar": {
           "angularaxis": {
            "gridcolor": "white",
            "linecolor": "white",
            "ticks": ""
           },
           "bgcolor": "#E5ECF6",
           "radialaxis": {
            "gridcolor": "white",
            "linecolor": "white",
            "ticks": ""
           }
          },
          "scene": {
           "xaxis": {
            "backgroundcolor": "#E5ECF6",
            "gridcolor": "white",
            "gridwidth": 2,
            "linecolor": "white",
            "showbackground": true,
            "ticks": "",
            "zerolinecolor": "white"
           },
           "yaxis": {
            "backgroundcolor": "#E5ECF6",
            "gridcolor": "white",
            "gridwidth": 2,
            "linecolor": "white",
            "showbackground": true,
            "ticks": "",
            "zerolinecolor": "white"
           },
           "zaxis": {
            "backgroundcolor": "#E5ECF6",
            "gridcolor": "white",
            "gridwidth": 2,
            "linecolor": "white",
            "showbackground": true,
            "ticks": "",
            "zerolinecolor": "white"
           }
          },
          "shapedefaults": {
           "line": {
            "color": "#2a3f5f"
           }
          },
          "ternary": {
           "aaxis": {
            "gridcolor": "white",
            "linecolor": "white",
            "ticks": ""
           },
           "baxis": {
            "gridcolor": "white",
            "linecolor": "white",
            "ticks": ""
           },
           "bgcolor": "#E5ECF6",
           "caxis": {
            "gridcolor": "white",
            "linecolor": "white",
            "ticks": ""
           }
          },
          "title": {
           "x": 0.05
          },
          "xaxis": {
           "automargin": true,
           "gridcolor": "white",
           "linecolor": "white",
           "ticks": "",
           "title": {
            "standoff": 15
           },
           "zerolinecolor": "white",
           "zerolinewidth": 2
          },
          "yaxis": {
           "automargin": true,
           "gridcolor": "white",
           "linecolor": "white",
           "ticks": "",
           "title": {
            "standoff": 15
           },
           "zerolinecolor": "white",
           "zerolinewidth": 2
          }
         }
        },
        "width": 800,
        "xaxis": {
         "anchor": "y",
         "domain": [
          0,
          1
         ],
         "title": {
          "text": "fmt_total_profit_percentage"
         }
        },
        "xaxis2": {
         "anchor": "y2",
         "domain": [
          0,
          1
         ],
         "matches": "x",
         "showgrid": true,
         "showticklabels": false
        },
        "yaxis": {
         "anchor": "x",
         "domain": [
          0,
          0.7326
         ],
         "title": {
          "text": "count"
         }
        },
        "yaxis2": {
         "anchor": "x2",
         "domain": [
          0.7426,
          1
         ],
         "matches": "y2",
         "showgrid": false,
         "showline": false,
         "showticklabels": false,
         "ticks": ""
        }
       }
      }
     },
     "metadata": {},
     "output_type": "display_data"
    }
   ],
   "source": [
    "fig = px.histogram(df_trader_results, x=\"fmt_total_profit_percentage\", color=\"model_type\", color_discrete_sequence=[ \"#FF7F0E\", \"#00CC96\", \"#10aded\", \"#8A56EF\"],  width=800, height=600, marginal=\"rug\", # can be `box`, `violin`\n",
    "                         hover_data=['total_reward_cash','fmt_total_profit_percentage', 'num_of_trades', 'sim_id'])\n",
    "fig.show()"
   ]
  },
  {
   "cell_type": "code",
   "execution_count": 19,
   "metadata": {},
   "outputs": [],
   "source": [
    "df_trader_results_stats = df_trader_results.groupby(['model_type'])['fmt_total_profit_percentage'].agg(['median']).reset_index()"
   ]
  },
  {
   "cell_type": "code",
   "execution_count": 20,
   "metadata": {},
   "outputs": [],
   "source": [
    "# i_A2C = np.argmin(np.abs(df_trader_results[df_trader_results['model_type']=='A2C']['fmt_total_profit_percentage'] - df_trader_results_stats[df_trader_results_stats['model_type']=='A2C']['median'].values[0]))\n",
    "# median_sim_id_A2C = df_trader_results[df_trader_results['model_type']=='A2C'].iloc[i_A2C]['sim_id']\n",
    "\n",
    "# i_PPO = np.argmin(np.abs(df_trader_results[df_trader_results['model_type']=='PPO']['fmt_total_profit_percentage'] - df_trader_results_stats[df_trader_results_stats['model_type']=='PPO']['median'].values[0]))\n",
    "# median_sim_id_PPO = df_trader_results[df_trader_results['model_type']=='PPO'].iloc[i_PPO]['sim_id']\n",
    "\n",
    "i_DQN = np.argmin(np.abs(df_trader_results[df_trader_results['model_type']=='DQN']['fmt_total_profit_percentage'] - df_trader_results_stats[df_trader_results_stats['model_type']=='DQN']['median'].values[0]))\n",
    "median_sim_id_DQN = df_trader_results[df_trader_results['model_type']=='DQN'].iloc[i_DQN]['sim_id']\n",
    "\n",
    "# i_RANDOM = np.argmin(np.abs(df_trader_results[df_trader_results['model_type']=='RANDOM']['fmt_total_profit_percentage'] - df_trader_results_stats[df_trader_results_stats['model_type']=='RANDOM']['median'].values[0]))\n",
    "# median_sim_id_RANDOM = df_trader_results[df_trader_results['model_type']=='RANDOM'].iloc[i_RANDOM]['sim_id']"
   ]
  },
  {
   "cell_type": "code",
   "execution_count": 21,
   "metadata": {},
   "outputs": [],
   "source": [
    "def get_and_process_trader_robot_actions_and_env_data_one_sim_id(config_file_name_without_extension, sim_id):\n",
    "    try:\n",
    "        \n",
    "        # Get the data\n",
    "        db_address = 'sqlite:///../results/data/db/trader.db'\n",
    "        engine = create_engine(db_address, echo=False)\n",
    "        sqlite_connection = engine.connect()\n",
    "\n",
    "        input_tbl_name = \"tbl_trader_bernardo_robot_actions_and_env\" + \"_\" + config_file_name_without_extension\n",
    "        \n",
    "        sql_command = \"SELECT * FROM \" + input_tbl_name\n",
    "        \n",
    "        sql_append = \" WHERE \" + \"sim_id = \" + str(sim_id)\n",
    "        \n",
    "        sql_command = sql_command + sql_append\n",
    "\n",
    "        df = pd.read_sql(sql_command, sqlite_connection)\n",
    "\n",
    "        sqlite_connection.close()\n",
    "\n",
    "        return df\n",
    "\n",
    "    except Exception as e:\n",
    "        print(e)"
   ]
  },
  {
   "cell_type": "code",
   "execution_count": 22,
   "metadata": {},
   "outputs": [],
   "source": [
    "def plot_robot_actions_all_models(config_file_name_without_extension, sim_id_A2C, sim_id_PPO, sim_id_DQN, sim_id_RANDOM):\n",
    "    \n",
    "    # df_robot_actions_sim_id_A2C = get_and_process_trader_robot_actions_and_env_data_one_sim_id(config_file_name_without_extension, sim_id_A2C)\n",
    "    # df_robot_actions_sim_id_PPO = get_and_process_trader_robot_actions_and_env_data_one_sim_id(config_file_name_without_extension, sim_id_PPO)\n",
    "    df_robot_actions_sim_id_DQN = get_and_process_trader_robot_actions_and_env_data_one_sim_id(config_file_name_without_extension, sim_id_DQN)\n",
    "    # df_robot_actions_sim_id_RANDOM = get_and_process_trader_robot_actions_and_env_data_one_sim_id(config_file_name_without_extension, sim_id_RANDOM)\n",
    "\n",
    "    # df_simulation_sim_id_A2C = df_trader_results[df_trader_results['sim_id'] == sim_id_A2C]\n",
    "    # df_simulation_sim_id_PPO = df_trader_results[df_trader_results['sim_id'] == sim_id_PPO]\n",
    "    df_simulation_sim_id_DQN = df_trader_results[df_trader_results['sim_id'] == sim_id_DQN]\n",
    "    # df_simulation_sim_id_RANDOM = df_trader_results[df_trader_results['sim_id'] == sim_id_RANDOM]\n",
    "\n",
    "    # str_title_A2C = f\"sim_id: {sim_id_A2C} | model_type: {df_simulation_sim_id_A2C.model_type.values[0]} | Total Profit percentage {round(df_simulation_sim_id_A2C.fmt_total_profit_percentage.values[0],2)}%\"\n",
    "    # str_title_PPO = f\"sim_id: {sim_id_PPO} | model_type: {df_simulation_sim_id_PPO.model_type.values[0]} | Total Profit percentage {round(df_simulation_sim_id_PPO.fmt_total_profit_percentage.values[0],2)}%\"\n",
    "    str_title_DQN = f\"sim_id: {sim_id_DQN} | model_type: {df_simulation_sim_id_DQN.model_type.values[0]} | Total Profit percentage {round(df_simulation_sim_id_DQN.fmt_total_profit_percentage.values[0],2)}%\"\n",
    "    # str_title_RANDOM = f\"sim_id: {sim_id_RANDOM} | model_type: {df_simulation_sim_id_RANDOM.model_type.values[0]} | Total Profit percentage {round(df_simulation_sim_id_RANDOM.fmt_total_profit_percentage.values[0],2)}%\"\n",
    "\n",
    "    str_title = \"The median profit percentage results per model\"\n",
    "\n",
    "    fig = make_subplots(rows=4, cols=1, subplot_titles=(\"\", \"\", str_title_DQN, \"\"), shared_xaxes='all', shared_yaxes='all')\n",
    "\n",
    "    # fig.add_trace(go.Scatter(name='Price', x=df_robot_actions_sim_id_A2C[\"dates\"], y=df_robot_actions_sim_id_A2C[\"prices\"], mode='lines', marker_color='#969696', legendgroup = '1'), row=1, col=1)\n",
    "    # fig.add_trace(go.Scatter(name='Long', x=df_robot_actions_sim_id_A2C[df_robot_actions_sim_id_A2C['actions'] == 1]['dates'], y=df_robot_actions_sim_id_A2C[df_robot_actions_sim_id_A2C['actions'] == 1]['prices'], mode='markers', marker_symbol='circle', marker_size=10, marker_color='#228b22', legendgroup = '1'), row=1, col=1)\n",
    "    # fig.add_trace(go.Scatter(name='Short', x=df_robot_actions_sim_id_A2C[df_robot_actions_sim_id_A2C['actions'] == 0]['dates'], y=df_robot_actions_sim_id_A2C[df_robot_actions_sim_id_A2C['actions'] == 0]['prices'], mode='markers', marker_symbol='circle', marker_size=10, marker_color='#c83232', legendgroup = '1'), row=1, col=1)\n",
    "\n",
    "    # fig.add_trace(go.Scatter(name='Price', x=df_robot_actions_sim_id_PPO[\"dates\"], y=df_robot_actions_sim_id_PPO[\"prices\"], mode='lines', marker_color='#969696', legendgroup = '2'), row=2, col=1)\n",
    "    # fig.add_trace(go.Scatter(name='Long', x=df_robot_actions_sim_id_PPO[df_robot_actions_sim_id_PPO['actions'] == 1]['dates'], y=df_robot_actions_sim_id_PPO[df_robot_actions_sim_id_PPO['actions'] == 1]['prices'], mode='markers', marker_symbol='circle', marker_size=10, marker_color='#228b22', legendgroup = '2'), row=2, col=1)\n",
    "    # fig.add_trace(go.Scatter(name='Short', x=df_robot_actions_sim_id_PPO[df_robot_actions_sim_id_PPO['actions'] == 0]['dates'], y=df_robot_actions_sim_id_PPO[df_robot_actions_sim_id_PPO['actions'] == 0]['prices'], mode='markers', marker_symbol='circle', marker_size=10, marker_color='#c83232', legendgroup = '2'), row=2, col=1)\n",
    "\n",
    "    fig.add_trace(go.Scatter(name='Price', x=df_robot_actions_sim_id_DQN[\"dates\"], y=df_robot_actions_sim_id_DQN[\"prices\"], mode='lines', marker_color='#969696', legendgroup = '3'), row=3, col=1)\n",
    "    fig.add_trace(go.Scatter(name='Long', x=df_robot_actions_sim_id_DQN[df_robot_actions_sim_id_DQN['actions'] == 1]['dates'], y=df_robot_actions_sim_id_DQN[df_robot_actions_sim_id_DQN['actions'] == 1]['prices'], mode='markers', marker_symbol='circle', marker_size=10, marker_color='#228b22', legendgroup = '3'), row=3, col=1)\n",
    "    fig.add_trace(go.Scatter(name='Short', x=df_robot_actions_sim_id_DQN[df_robot_actions_sim_id_DQN['actions'] == 0]['dates'], y=df_robot_actions_sim_id_DQN[df_robot_actions_sim_id_DQN['actions'] == 0]['prices'], mode='markers', marker_symbol='circle', marker_size=10, marker_color='#c83232', legendgroup = '3'), row=3, col=1)\n",
    "\n",
    "    # fig.add_trace(go.Scatter(name='Price', x=df_robot_actions_sim_id_RANDOM[\"dates\"], y=df_robot_actions_sim_id_RANDOM[\"prices\"], mode='lines', marker_color='#969696', legendgroup = '4'), row=4, col=1)\n",
    "    # fig.add_trace(go.Scatter(name='Long', x=df_robot_actions_sim_id_RANDOM[df_robot_actions_sim_id_RANDOM['actions'] == 1]['dates'], y=df_robot_actions_sim_id_RANDOM[df_robot_actions_sim_id_RANDOM['actions'] == 1]['prices'], mode='markers', marker_symbol='circle', marker_size=10, marker_color='#228b22', legendgroup = '4'), row=4, col=1)\n",
    "    # fig.add_trace(go.Scatter(name='Short', x=df_robot_actions_sim_id_RANDOM[df_robot_actions_sim_id_RANDOM['actions'] == 0]['dates'], y=df_robot_actions_sim_id_RANDOM[df_robot_actions_sim_id_RANDOM['actions'] == 0]['prices'], mode='markers', marker_symbol='circle', marker_size=10, marker_color='#c83232', legendgroup = '4'), row=4, col=1)\n",
    "\n",
    "    fig.update_xaxes(title_text = \"Dates\", title_standoff = 25)\n",
    "\n",
    "    fig.update_yaxes(title_text = \"\", title_standoff = 25)\n",
    "\n",
    "    fig.update_layout(title=str_title, title_x=0.5, width=1200, height=800, legend_tracegroupgap=125)\n",
    "    fig.show()"
   ]
  },
  {
   "cell_type": "code",
   "execution_count": 23,
   "metadata": {},
   "outputs": [
    {
     "data": {
      "application/vnd.plotly.v1+json": {
       "config": {
        "plotlyServerURL": "https://plot.ly"
       },
       "data": [
        {
         "legendgroup": "3",
         "marker": {
          "color": "#969696"
         },
         "mode": "lines",
         "name": "Price",
         "type": "scatter",
         "x": [
          "2022-12-27 00:00:00.000000",
          "2022-12-28 00:00:00.000000",
          "2022-12-29 00:00:00.000000",
          "2022-12-30 00:00:00.000000",
          "2022-12-31 00:00:00.000000",
          "2023-01-01 00:00:00.000000",
          "2023-01-02 00:00:00.000000",
          "2023-01-03 00:00:00.000000",
          "2023-01-04 00:00:00.000000",
          "2023-01-05 00:00:00.000000",
          "2023-01-06 00:00:00.000000",
          "2023-01-07 00:00:00.000000",
          "2023-01-08 00:00:00.000000",
          "2023-01-09 00:00:00.000000",
          "2023-01-10 00:00:00.000000",
          "2023-01-11 00:00:00.000000",
          "2023-01-12 00:00:00.000000",
          "2023-01-13 00:00:00.000000",
          "2023-01-14 00:00:00.000000",
          "2023-01-15 00:00:00.000000",
          "2023-01-16 00:00:00.000000",
          "2023-01-17 00:00:00.000000",
          "2023-01-18 00:00:00.000000",
          "2023-01-19 00:00:00.000000",
          "2023-01-20 00:00:00.000000",
          "2023-01-21 00:00:00.000000",
          "2023-01-22 00:00:00.000000",
          "2023-01-23 00:00:00.000000",
          "2023-01-24 00:00:00.000000",
          "2023-01-25 00:00:00.000000",
          "2023-01-26 00:00:00.000000",
          "2023-01-27 00:00:00.000000",
          "2023-01-28 00:00:00.000000",
          "2023-01-29 00:00:00.000000",
          "2023-01-30 00:00:00.000000",
          "2023-01-31 00:00:00.000000"
         ],
         "xaxis": "x3",
         "y": [
          16919.39,
          16706.36,
          16547.31,
          16633.47,
          16607.48,
          16542.4,
          16616.75,
          16672.87,
          16675.18,
          16850.36,
          16831.85,
          16950.65,
          16943.57,
          17127.83,
          17178.26,
          17440.66,
          17943.26,
          18846.62,
          19930.01,
          20954.92,
          20871.5,
          21185.65,
          21134.81,
          20677.47,
          21071.59,
          22667.21,
          22783.55,
          22707.88,
          22916.45,
          22632.89,
          23060.94,
          23009.65,
          23074.16,
          23022.6,
          23742.3,
          22826.15
         ],
         "yaxis": "y3"
        },
        {
         "legendgroup": "3",
         "marker": {
          "color": "#228b22",
          "size": 10,
          "symbol": "circle"
         },
         "mode": "markers",
         "name": "Long",
         "type": "scatter",
         "x": [
          "2023-01-07 00:00:00.000000",
          "2023-01-10 00:00:00.000000",
          "2023-01-11 00:00:00.000000",
          "2023-01-12 00:00:00.000000",
          "2023-01-15 00:00:00.000000",
          "2023-01-16 00:00:00.000000",
          "2023-01-17 00:00:00.000000",
          "2023-01-18 00:00:00.000000",
          "2023-01-19 00:00:00.000000",
          "2023-01-20 00:00:00.000000",
          "2023-01-21 00:00:00.000000",
          "2023-01-22 00:00:00.000000",
          "2023-01-23 00:00:00.000000",
          "2023-01-24 00:00:00.000000",
          "2023-01-25 00:00:00.000000",
          "2023-01-26 00:00:00.000000",
          "2023-01-27 00:00:00.000000",
          "2023-01-28 00:00:00.000000",
          "2023-01-29 00:00:00.000000",
          "2023-01-30 00:00:00.000000",
          "2023-01-31 00:00:00.000000"
         ],
         "xaxis": "x3",
         "y": [
          16950.65,
          17178.26,
          17440.66,
          17943.26,
          20954.92,
          20871.5,
          21185.65,
          21134.81,
          20677.47,
          21071.59,
          22667.21,
          22783.55,
          22707.88,
          22916.45,
          22632.89,
          23060.94,
          23009.65,
          23074.16,
          23022.6,
          23742.3,
          22826.15
         ],
         "yaxis": "y3"
        },
        {
         "legendgroup": "3",
         "marker": {
          "color": "#c83232",
          "size": 10,
          "symbol": "circle"
         },
         "mode": "markers",
         "name": "Short",
         "type": "scatter",
         "x": [
          "2023-01-02 00:00:00.000000",
          "2023-01-03 00:00:00.000000",
          "2023-01-04 00:00:00.000000",
          "2023-01-05 00:00:00.000000",
          "2023-01-06 00:00:00.000000",
          "2023-01-08 00:00:00.000000",
          "2023-01-09 00:00:00.000000",
          "2023-01-13 00:00:00.000000",
          "2023-01-14 00:00:00.000000"
         ],
         "xaxis": "x3",
         "y": [
          16616.75,
          16672.87,
          16675.18,
          16850.36,
          16831.85,
          16943.57,
          17127.83,
          18846.62,
          19930.01
         ],
         "yaxis": "y3"
        }
       ],
       "layout": {
        "annotations": [
         {
          "font": {
           "size": 16
          },
          "showarrow": false,
          "text": "sim_id: 1 | model_type: DQN | Total Profit percentage -4.63%",
          "x": 0.5,
          "xanchor": "center",
          "xref": "paper",
          "y": 0.4375,
          "yanchor": "bottom",
          "yref": "paper"
         }
        ],
        "height": 800,
        "legend": {
         "tracegroupgap": 125
        },
        "template": {
         "data": {
          "bar": [
           {
            "error_x": {
             "color": "#2a3f5f"
            },
            "error_y": {
             "color": "#2a3f5f"
            },
            "marker": {
             "line": {
              "color": "#E5ECF6",
              "width": 0.5
             },
             "pattern": {
              "fillmode": "overlay",
              "size": 10,
              "solidity": 0.2
             }
            },
            "type": "bar"
           }
          ],
          "barpolar": [
           {
            "marker": {
             "line": {
              "color": "#E5ECF6",
              "width": 0.5
             },
             "pattern": {
              "fillmode": "overlay",
              "size": 10,
              "solidity": 0.2
             }
            },
            "type": "barpolar"
           }
          ],
          "carpet": [
           {
            "aaxis": {
             "endlinecolor": "#2a3f5f",
             "gridcolor": "white",
             "linecolor": "white",
             "minorgridcolor": "white",
             "startlinecolor": "#2a3f5f"
            },
            "baxis": {
             "endlinecolor": "#2a3f5f",
             "gridcolor": "white",
             "linecolor": "white",
             "minorgridcolor": "white",
             "startlinecolor": "#2a3f5f"
            },
            "type": "carpet"
           }
          ],
          "choropleth": [
           {
            "colorbar": {
             "outlinewidth": 0,
             "ticks": ""
            },
            "type": "choropleth"
           }
          ],
          "contour": [
           {
            "colorbar": {
             "outlinewidth": 0,
             "ticks": ""
            },
            "colorscale": [
             [
              0,
              "#0d0887"
             ],
             [
              0.1111111111111111,
              "#46039f"
             ],
             [
              0.2222222222222222,
              "#7201a8"
             ],
             [
              0.3333333333333333,
              "#9c179e"
             ],
             [
              0.4444444444444444,
              "#bd3786"
             ],
             [
              0.5555555555555556,
              "#d8576b"
             ],
             [
              0.6666666666666666,
              "#ed7953"
             ],
             [
              0.7777777777777778,
              "#fb9f3a"
             ],
             [
              0.8888888888888888,
              "#fdca26"
             ],
             [
              1,
              "#f0f921"
             ]
            ],
            "type": "contour"
           }
          ],
          "contourcarpet": [
           {
            "colorbar": {
             "outlinewidth": 0,
             "ticks": ""
            },
            "type": "contourcarpet"
           }
          ],
          "heatmap": [
           {
            "colorbar": {
             "outlinewidth": 0,
             "ticks": ""
            },
            "colorscale": [
             [
              0,
              "#0d0887"
             ],
             [
              0.1111111111111111,
              "#46039f"
             ],
             [
              0.2222222222222222,
              "#7201a8"
             ],
             [
              0.3333333333333333,
              "#9c179e"
             ],
             [
              0.4444444444444444,
              "#bd3786"
             ],
             [
              0.5555555555555556,
              "#d8576b"
             ],
             [
              0.6666666666666666,
              "#ed7953"
             ],
             [
              0.7777777777777778,
              "#fb9f3a"
             ],
             [
              0.8888888888888888,
              "#fdca26"
             ],
             [
              1,
              "#f0f921"
             ]
            ],
            "type": "heatmap"
           }
          ],
          "heatmapgl": [
           {
            "colorbar": {
             "outlinewidth": 0,
             "ticks": ""
            },
            "colorscale": [
             [
              0,
              "#0d0887"
             ],
             [
              0.1111111111111111,
              "#46039f"
             ],
             [
              0.2222222222222222,
              "#7201a8"
             ],
             [
              0.3333333333333333,
              "#9c179e"
             ],
             [
              0.4444444444444444,
              "#bd3786"
             ],
             [
              0.5555555555555556,
              "#d8576b"
             ],
             [
              0.6666666666666666,
              "#ed7953"
             ],
             [
              0.7777777777777778,
              "#fb9f3a"
             ],
             [
              0.8888888888888888,
              "#fdca26"
             ],
             [
              1,
              "#f0f921"
             ]
            ],
            "type": "heatmapgl"
           }
          ],
          "histogram": [
           {
            "marker": {
             "pattern": {
              "fillmode": "overlay",
              "size": 10,
              "solidity": 0.2
             }
            },
            "type": "histogram"
           }
          ],
          "histogram2d": [
           {
            "colorbar": {
             "outlinewidth": 0,
             "ticks": ""
            },
            "colorscale": [
             [
              0,
              "#0d0887"
             ],
             [
              0.1111111111111111,
              "#46039f"
             ],
             [
              0.2222222222222222,
              "#7201a8"
             ],
             [
              0.3333333333333333,
              "#9c179e"
             ],
             [
              0.4444444444444444,
              "#bd3786"
             ],
             [
              0.5555555555555556,
              "#d8576b"
             ],
             [
              0.6666666666666666,
              "#ed7953"
             ],
             [
              0.7777777777777778,
              "#fb9f3a"
             ],
             [
              0.8888888888888888,
              "#fdca26"
             ],
             [
              1,
              "#f0f921"
             ]
            ],
            "type": "histogram2d"
           }
          ],
          "histogram2dcontour": [
           {
            "colorbar": {
             "outlinewidth": 0,
             "ticks": ""
            },
            "colorscale": [
             [
              0,
              "#0d0887"
             ],
             [
              0.1111111111111111,
              "#46039f"
             ],
             [
              0.2222222222222222,
              "#7201a8"
             ],
             [
              0.3333333333333333,
              "#9c179e"
             ],
             [
              0.4444444444444444,
              "#bd3786"
             ],
             [
              0.5555555555555556,
              "#d8576b"
             ],
             [
              0.6666666666666666,
              "#ed7953"
             ],
             [
              0.7777777777777778,
              "#fb9f3a"
             ],
             [
              0.8888888888888888,
              "#fdca26"
             ],
             [
              1,
              "#f0f921"
             ]
            ],
            "type": "histogram2dcontour"
           }
          ],
          "mesh3d": [
           {
            "colorbar": {
             "outlinewidth": 0,
             "ticks": ""
            },
            "type": "mesh3d"
           }
          ],
          "parcoords": [
           {
            "line": {
             "colorbar": {
              "outlinewidth": 0,
              "ticks": ""
             }
            },
            "type": "parcoords"
           }
          ],
          "pie": [
           {
            "automargin": true,
            "type": "pie"
           }
          ],
          "scatter": [
           {
            "fillpattern": {
             "fillmode": "overlay",
             "size": 10,
             "solidity": 0.2
            },
            "type": "scatter"
           }
          ],
          "scatter3d": [
           {
            "line": {
             "colorbar": {
              "outlinewidth": 0,
              "ticks": ""
             }
            },
            "marker": {
             "colorbar": {
              "outlinewidth": 0,
              "ticks": ""
             }
            },
            "type": "scatter3d"
           }
          ],
          "scattercarpet": [
           {
            "marker": {
             "colorbar": {
              "outlinewidth": 0,
              "ticks": ""
             }
            },
            "type": "scattercarpet"
           }
          ],
          "scattergeo": [
           {
            "marker": {
             "colorbar": {
              "outlinewidth": 0,
              "ticks": ""
             }
            },
            "type": "scattergeo"
           }
          ],
          "scattergl": [
           {
            "marker": {
             "colorbar": {
              "outlinewidth": 0,
              "ticks": ""
             }
            },
            "type": "scattergl"
           }
          ],
          "scattermapbox": [
           {
            "marker": {
             "colorbar": {
              "outlinewidth": 0,
              "ticks": ""
             }
            },
            "type": "scattermapbox"
           }
          ],
          "scatterpolar": [
           {
            "marker": {
             "colorbar": {
              "outlinewidth": 0,
              "ticks": ""
             }
            },
            "type": "scatterpolar"
           }
          ],
          "scatterpolargl": [
           {
            "marker": {
             "colorbar": {
              "outlinewidth": 0,
              "ticks": ""
             }
            },
            "type": "scatterpolargl"
           }
          ],
          "scatterternary": [
           {
            "marker": {
             "colorbar": {
              "outlinewidth": 0,
              "ticks": ""
             }
            },
            "type": "scatterternary"
           }
          ],
          "surface": [
           {
            "colorbar": {
             "outlinewidth": 0,
             "ticks": ""
            },
            "colorscale": [
             [
              0,
              "#0d0887"
             ],
             [
              0.1111111111111111,
              "#46039f"
             ],
             [
              0.2222222222222222,
              "#7201a8"
             ],
             [
              0.3333333333333333,
              "#9c179e"
             ],
             [
              0.4444444444444444,
              "#bd3786"
             ],
             [
              0.5555555555555556,
              "#d8576b"
             ],
             [
              0.6666666666666666,
              "#ed7953"
             ],
             [
              0.7777777777777778,
              "#fb9f3a"
             ],
             [
              0.8888888888888888,
              "#fdca26"
             ],
             [
              1,
              "#f0f921"
             ]
            ],
            "type": "surface"
           }
          ],
          "table": [
           {
            "cells": {
             "fill": {
              "color": "#EBF0F8"
             },
             "line": {
              "color": "white"
             }
            },
            "header": {
             "fill": {
              "color": "#C8D4E3"
             },
             "line": {
              "color": "white"
             }
            },
            "type": "table"
           }
          ]
         },
         "layout": {
          "annotationdefaults": {
           "arrowcolor": "#2a3f5f",
           "arrowhead": 0,
           "arrowwidth": 1
          },
          "autotypenumbers": "strict",
          "coloraxis": {
           "colorbar": {
            "outlinewidth": 0,
            "ticks": ""
           }
          },
          "colorscale": {
           "diverging": [
            [
             0,
             "#8e0152"
            ],
            [
             0.1,
             "#c51b7d"
            ],
            [
             0.2,
             "#de77ae"
            ],
            [
             0.3,
             "#f1b6da"
            ],
            [
             0.4,
             "#fde0ef"
            ],
            [
             0.5,
             "#f7f7f7"
            ],
            [
             0.6,
             "#e6f5d0"
            ],
            [
             0.7,
             "#b8e186"
            ],
            [
             0.8,
             "#7fbc41"
            ],
            [
             0.9,
             "#4d9221"
            ],
            [
             1,
             "#276419"
            ]
           ],
           "sequential": [
            [
             0,
             "#0d0887"
            ],
            [
             0.1111111111111111,
             "#46039f"
            ],
            [
             0.2222222222222222,
             "#7201a8"
            ],
            [
             0.3333333333333333,
             "#9c179e"
            ],
            [
             0.4444444444444444,
             "#bd3786"
            ],
            [
             0.5555555555555556,
             "#d8576b"
            ],
            [
             0.6666666666666666,
             "#ed7953"
            ],
            [
             0.7777777777777778,
             "#fb9f3a"
            ],
            [
             0.8888888888888888,
             "#fdca26"
            ],
            [
             1,
             "#f0f921"
            ]
           ],
           "sequentialminus": [
            [
             0,
             "#0d0887"
            ],
            [
             0.1111111111111111,
             "#46039f"
            ],
            [
             0.2222222222222222,
             "#7201a8"
            ],
            [
             0.3333333333333333,
             "#9c179e"
            ],
            [
             0.4444444444444444,
             "#bd3786"
            ],
            [
             0.5555555555555556,
             "#d8576b"
            ],
            [
             0.6666666666666666,
             "#ed7953"
            ],
            [
             0.7777777777777778,
             "#fb9f3a"
            ],
            [
             0.8888888888888888,
             "#fdca26"
            ],
            [
             1,
             "#f0f921"
            ]
           ]
          },
          "colorway": [
           "#636efa",
           "#EF553B",
           "#00cc96",
           "#ab63fa",
           "#FFA15A",
           "#19d3f3",
           "#FF6692",
           "#B6E880",
           "#FF97FF",
           "#FECB52"
          ],
          "font": {
           "color": "#2a3f5f"
          },
          "geo": {
           "bgcolor": "white",
           "lakecolor": "white",
           "landcolor": "#E5ECF6",
           "showlakes": true,
           "showland": true,
           "subunitcolor": "white"
          },
          "hoverlabel": {
           "align": "left"
          },
          "hovermode": "closest",
          "mapbox": {
           "style": "light"
          },
          "paper_bgcolor": "white",
          "plot_bgcolor": "#E5ECF6",
          "polar": {
           "angularaxis": {
            "gridcolor": "white",
            "linecolor": "white",
            "ticks": ""
           },
           "bgcolor": "#E5ECF6",
           "radialaxis": {
            "gridcolor": "white",
            "linecolor": "white",
            "ticks": ""
           }
          },
          "scene": {
           "xaxis": {
            "backgroundcolor": "#E5ECF6",
            "gridcolor": "white",
            "gridwidth": 2,
            "linecolor": "white",
            "showbackground": true,
            "ticks": "",
            "zerolinecolor": "white"
           },
           "yaxis": {
            "backgroundcolor": "#E5ECF6",
            "gridcolor": "white",
            "gridwidth": 2,
            "linecolor": "white",
            "showbackground": true,
            "ticks": "",
            "zerolinecolor": "white"
           },
           "zaxis": {
            "backgroundcolor": "#E5ECF6",
            "gridcolor": "white",
            "gridwidth": 2,
            "linecolor": "white",
            "showbackground": true,
            "ticks": "",
            "zerolinecolor": "white"
           }
          },
          "shapedefaults": {
           "line": {
            "color": "#2a3f5f"
           }
          },
          "ternary": {
           "aaxis": {
            "gridcolor": "white",
            "linecolor": "white",
            "ticks": ""
           },
           "baxis": {
            "gridcolor": "white",
            "linecolor": "white",
            "ticks": ""
           },
           "bgcolor": "#E5ECF6",
           "caxis": {
            "gridcolor": "white",
            "linecolor": "white",
            "ticks": ""
           }
          },
          "title": {
           "x": 0.05
          },
          "xaxis": {
           "automargin": true,
           "gridcolor": "white",
           "linecolor": "white",
           "ticks": "",
           "title": {
            "standoff": 15
           },
           "zerolinecolor": "white",
           "zerolinewidth": 2
          },
          "yaxis": {
           "automargin": true,
           "gridcolor": "white",
           "linecolor": "white",
           "ticks": "",
           "title": {
            "standoff": 15
           },
           "zerolinecolor": "white",
           "zerolinewidth": 2
          }
         }
        },
        "title": {
         "text": "The median profit percentage results per model",
         "x": 0.5
        },
        "width": 1200,
        "xaxis": {
         "anchor": "y",
         "domain": [
          0,
          1
         ],
         "matches": "x4",
         "showticklabels": false,
         "title": {
          "standoff": 25,
          "text": "Dates"
         }
        },
        "xaxis2": {
         "anchor": "y2",
         "domain": [
          0,
          1
         ],
         "matches": "x4",
         "showticklabels": false,
         "title": {
          "standoff": 25,
          "text": "Dates"
         }
        },
        "xaxis3": {
         "anchor": "y3",
         "domain": [
          0,
          1
         ],
         "matches": "x4",
         "showticklabels": false,
         "title": {
          "standoff": 25,
          "text": "Dates"
         }
        },
        "xaxis4": {
         "anchor": "y4",
         "domain": [
          0,
          1
         ],
         "title": {
          "standoff": 25,
          "text": "Dates"
         }
        },
        "yaxis": {
         "anchor": "x",
         "domain": [
          0.84375,
          1
         ],
         "matches": "y4",
         "title": {
          "standoff": 25,
          "text": ""
         }
        },
        "yaxis2": {
         "anchor": "x2",
         "domain": [
          0.5625,
          0.71875
         ],
         "matches": "y4",
         "title": {
          "standoff": 25,
          "text": ""
         }
        },
        "yaxis3": {
         "anchor": "x3",
         "domain": [
          0.28125,
          0.4375
         ],
         "matches": "y4",
         "title": {
          "standoff": 25,
          "text": ""
         }
        },
        "yaxis4": {
         "anchor": "x4",
         "domain": [
          0,
          0.15625
         ],
         "title": {
          "standoff": 25,
          "text": ""
         }
        }
       }
      }
     },
     "metadata": {},
     "output_type": "display_data"
    }
   ],
   "source": [
    "plot_robot_actions_all_models(config_file_name_without_extension, \"\", \"\", median_sim_id_DQN, \"\")"
   ]
  },
  {
   "cell_type": "code",
   "execution_count": 24,
   "metadata": {},
   "outputs": [],
   "source": [
    "def get_and_process_trader_robot_actions_and_env_data_all_sim_id(config_file_name_without_extension):\n",
    "    try:\n",
    "        \n",
    "        # Get the data\n",
    "        db_address = 'sqlite:///../results/data/db/trader.db'\n",
    "        engine = create_engine(db_address, echo=False)\n",
    "        sqlite_connection = engine.connect()\n",
    "\n",
    "        input_tbl_name = \"tbl_trader_bernardo_robot_actions_and_env\" + \"_\" + config_file_name_without_extension\n",
    "        \n",
    "        sql_command = \"SELECT * FROM \" + input_tbl_name + \" AS t1 \"\n",
    "        \n",
    "        sql_append = \"LEFT JOIN (SELECT sim_id, model_type FROM tbl_trader_bernardo_simulation_results_config_03a_mix_infer) AS t2 ON t1.sim_id = t2.sim_id\"\n",
    "        \n",
    "        sql_command = sql_command + sql_append\n",
    "\n",
    "        df = pd.read_sql(sql_command, sqlite_connection)\n",
    "\n",
    "        sqlite_connection.close()\n",
    "\n",
    "        return df\n",
    "\n",
    "    except Exception as e:\n",
    "        print(e)"
   ]
  },
  {
   "cell_type": "code",
   "execution_count": 25,
   "metadata": {},
   "outputs": [],
   "source": [
    "def plot_trader_robot_actions_all_sim_id_all_models(config_file_name_without_extension, sim_id_A2C, sim_id_PPO, sim_id_DQN, sim_id_RANDOM):\n",
    "    \n",
    "    df_robot_actions_and_env_all_sim_id = get_and_process_trader_robot_actions_and_env_data_all_sim_id(config_file_name_without_extension)\n",
    "\n",
    "    # df_robot_actions_and_env_all_sim_id_A2C = df_robot_actions_and_env_all_sim_id[df_robot_actions_and_env_all_sim_id['model_type'] == 'A2C']\n",
    "    # df_robot_actions_and_env_all_sim_id_PPO = df_robot_actions_and_env_all_sim_id[df_robot_actions_and_env_all_sim_id['model_type'] == 'PPO']\n",
    "    df_robot_actions_and_env_all_sim_id_DQN = df_robot_actions_and_env_all_sim_id[df_robot_actions_and_env_all_sim_id['model_type'] == 'DQN']\n",
    "    # df_robot_actions_and_env_all_sim_id_RANDOM = df_robot_actions_and_env_all_sim_id[df_robot_actions_and_env_all_sim_id['model_type'] == 'RANDOM']    \n",
    "\n",
    "    # df_model_type_action_count_A2C = df_robot_actions_and_env_all_sim_id_A2C.assign(val=1).pivot_table(values='val', index=['dates'], columns=['model_type', 'actions'], aggfunc='count').stack(0).reset_index()\n",
    "    # df_model_type_action_count_A2C.rename(columns = {0.0:'action_short_count', 1.0:'action_long_count'}, inplace = True)\n",
    "\n",
    "    # df_model_type_action_count_PPO = df_robot_actions_and_env_all_sim_id_PPO.assign(val=1).pivot_table(values='val', index=['dates'], columns=['model_type', 'actions'], aggfunc='count').stack(0).reset_index()\n",
    "    # df_model_type_action_count_PPO.rename(columns = {0.0:'action_short_count', 1.0:'action_long_count'}, inplace = True)\n",
    "\n",
    "    df_model_type_action_count_DQN = df_robot_actions_and_env_all_sim_id_DQN.assign(val=1).pivot_table(values='val', index=['dates'], columns=['model_type', 'actions'], aggfunc='count').stack(0).reset_index()\n",
    "    df_model_type_action_count_DQN.rename(columns = {0.0:'action_short_count', 1.0:'action_long_count'}, inplace = True)\n",
    "\n",
    "    # df_model_type_action_count_RANDOM = df_robot_actions_and_env_all_sim_id_RANDOM.assign(val=1).pivot_table(values='val', index=['dates'], columns=['model_type', 'actions'], aggfunc='count').stack(0).reset_index()\n",
    "    # df_model_type_action_count_RANDOM.rename(columns = {0.0:'action_short_count', 1.0:'action_long_count'}, inplace = True)        \n",
    "\n",
    "    # df_robot_actions_sim_id_A2C = get_and_process_trader_robot_actions_and_env_data_one_sim_id(config_file_name_without_extension, sim_id_A2C)\n",
    "    # df_robot_actions_sim_id_PPO = get_and_process_trader_robot_actions_and_env_data_one_sim_id(config_file_name_without_extension, sim_id_PPO)\n",
    "    df_robot_actions_sim_id_DQN = get_and_process_trader_robot_actions_and_env_data_one_sim_id(config_file_name_without_extension, sim_id_DQN)\n",
    "    # df_robot_actions_sim_id_RANDOM = get_and_process_trader_robot_actions_and_env_data_one_sim_id(config_file_name_without_extension, sim_id_RANDOM)\n",
    "\n",
    "    # df_simulation_sim_id_A2C = df_trader_results[df_trader_results['sim_id'] == sim_id_A2C]\n",
    "    # df_simulation_sim_id_PPO = df_trader_results[df_trader_results['sim_id'] == sim_id_PPO]\n",
    "    df_simulation_sim_id_DQN = df_trader_results[df_trader_results['sim_id'] == sim_id_DQN]\n",
    "    # df_simulation_sim_id_RANDOM = df_trader_results[df_trader_results['sim_id'] == sim_id_RANDOM]\n",
    "\n",
    "    # str_title_A2C = f\"Median sim_id: {sim_id_A2C} | model_type: {df_simulation_sim_id_A2C.model_type.values[0]} | Total Profit percentage {round(df_simulation_sim_id_A2C.fmt_total_profit_percentage.values[0],2)}%\"\n",
    "    # str_title_PPO = f\"Median sim_id: {sim_id_PPO} | model_type: {df_simulation_sim_id_PPO.model_type.values[0]} | Total Profit percentage {round(df_simulation_sim_id_PPO.fmt_total_profit_percentage.values[0],2)}%\"\n",
    "    str_title_DQN = f\"Median sim_id: {sim_id_DQN} | model_type: {df_simulation_sim_id_DQN.model_type.values[0]} | Total Profit percentage {round(df_simulation_sim_id_DQN.fmt_total_profit_percentage.values[0],2)}%\"\n",
    "    # str_title_RANDOM = f\"Median sim_id: {sim_id_RANDOM} | model_type: {df_simulation_sim_id_RANDOM.model_type.values[0]} | Total Profit percentage {round(df_simulation_sim_id_RANDOM.fmt_total_profit_percentage.values[0],2)}%\"\n",
    "\n",
    "    str_title = f\"Median Total Profit Results x Overall view of actions (across all the simulations)\"\n",
    "\n",
    "    fig = make_subplots(rows=4, cols=1, subplot_titles=(\"\", \"\", str_title_DQN, \"\"), shared_xaxes='all', shared_yaxes='all', specs=[[{\"secondary_y\": True}], [{\"secondary_y\": True}], [{\"secondary_y\": True}], [{\"secondary_y\": True}]]) \n",
    "\n",
    "    # fig.add_trace(go.Scatter(name='Price', x=df_robot_actions_sim_id_A2C[\"dates\"], y=df_robot_actions_sim_id_A2C[\"prices\"], mode='lines', marker_color='#969696', legendgroup = '1'), row=1, col=1, secondary_y=True)\n",
    "    # fig.add_trace(go.Scatter(name='Long', x=df_robot_actions_sim_id_A2C[df_robot_actions_sim_id_A2C['actions'] == 1]['dates'], y=df_robot_actions_sim_id_A2C[df_robot_actions_sim_id_A2C['actions'] == 1]['prices'], mode='markers', marker_symbol='circle', marker_size=10, marker_color='#228b22', legendgroup = '1'), row=1, col=1, secondary_y=True)\n",
    "    # fig.add_trace(go.Scatter(name='Short', x=df_robot_actions_sim_id_A2C[df_robot_actions_sim_id_A2C['actions'] == 0]['dates'], y=df_robot_actions_sim_id_A2C[df_robot_actions_sim_id_A2C['actions'] == 0]['prices'], mode='markers', marker_symbol='circle', marker_size=10, marker_color='#c83232', legendgroup = '1'), row=1, col=1, secondary_y=True)\n",
    "\n",
    "    # fig.add_trace(go.Bar(x=df_model_type_action_count_A2C['dates'], y=df_model_type_action_count_A2C['action_long_count'], name='Long', marker_color=' #b3ffb3', legendgroup = '1'), row=1, col=1, secondary_y=False)\n",
    "    # fig.add_trace(go.Bar(x=df_model_type_action_count_A2C['dates'], y=df_model_type_action_count_A2C['action_short_count'], name='Short', marker_color='#ffb2b2', legendgroup = '1'), row=1, col=1, secondary_y=False)\n",
    "\n",
    "    # fig.add_trace(go.Scatter(name='Price', x=df_robot_actions_sim_id_PPO[\"dates\"], y=df_robot_actions_sim_id_PPO[\"prices\"], mode='lines', marker_color='#969696', legendgroup = '2'), row=2, col=1, secondary_y=True)\n",
    "    # fig.add_trace(go.Scatter(name='Long', x=df_robot_actions_sim_id_PPO[df_robot_actions_sim_id_PPO['actions'] == 1]['dates'], y=df_robot_actions_sim_id_PPO[df_robot_actions_sim_id_PPO['actions'] == 1]['prices'], mode='markers', marker_symbol='circle', marker_size=10, marker_color='#228b22', legendgroup = '2'), row=2, col=1, secondary_y=True)\n",
    "    # fig.add_trace(go.Scatter(name='Short', x=df_robot_actions_sim_id_PPO[df_robot_actions_sim_id_PPO['actions'] == 0]['dates'], y=df_robot_actions_sim_id_PPO[df_robot_actions_sim_id_PPO['actions'] == 0]['prices'], mode='markers', marker_symbol='circle', marker_size=10, marker_color='#c83232', legendgroup = '2'), row=2, col=1, secondary_y=True)\n",
    "\n",
    "    # fig.add_trace(go.Bar(x=df_model_type_action_count_PPO['dates'], y=df_model_type_action_count_PPO['action_long_count'], name='Long', marker_color=' #b3ffb3', legendgroup = '2'), row=2, col=1, secondary_y=False)\n",
    "    # fig.add_trace(go.Bar(x=df_model_type_action_count_PPO['dates'], y=df_model_type_action_count_PPO['action_short_count'], name='Short', marker_color='#ffb2b2', legendgroup = '2'), row=2, col=1, secondary_y=False)\n",
    "\n",
    "    fig.add_trace(go.Scatter(name='Price', x=df_robot_actions_sim_id_DQN[\"dates\"], y=df_robot_actions_sim_id_DQN[\"prices\"], mode='lines', marker_color='#969696', legendgroup = '3'), row=3, col=1, secondary_y=True)\n",
    "    fig.add_trace(go.Scatter(name='Long', x=df_robot_actions_sim_id_DQN[df_robot_actions_sim_id_DQN['actions'] == 1]['dates'], y=df_robot_actions_sim_id_DQN[df_robot_actions_sim_id_DQN['actions'] == 1]['prices'], mode='markers', marker_symbol='circle', marker_size=10, marker_color='#228b22', legendgroup = '3'), row=3, col=1, secondary_y=True)\n",
    "    fig.add_trace(go.Scatter(name='Short', x=df_robot_actions_sim_id_DQN[df_robot_actions_sim_id_DQN['actions'] == 0]['dates'], y=df_robot_actions_sim_id_DQN[df_robot_actions_sim_id_DQN['actions'] == 0]['prices'], mode='markers', marker_symbol='circle', marker_size=10, marker_color='#c83232', legendgroup = '3'), row=3, col=1, secondary_y=True)\n",
    "\n",
    "    fig.add_trace(go.Bar(x=df_model_type_action_count_DQN['dates'], y=df_model_type_action_count_DQN['action_long_count'], name='Long', marker_color=' #b3ffb3', legendgroup = '3'), row=3, col=1, secondary_y=False)\n",
    "    fig.add_trace(go.Bar(x=df_model_type_action_count_DQN['dates'], y=df_model_type_action_count_DQN['action_short_count'], name='Short', marker_color='#ffb2b2', legendgroup = '3'), row=3, col=1, secondary_y=False)\n",
    "\n",
    "    # fig.add_trace(go.Scatter(name='Price', x=df_robot_actions_sim_id_RANDOM[\"dates\"], y=df_robot_actions_sim_id_RANDOM[\"prices\"], mode='lines', marker_color='#969696', legendgroup = '4'), row=4, col=1, secondary_y=True)\n",
    "    # fig.add_trace(go.Scatter(name='Long', x=df_robot_actions_sim_id_RANDOM[df_robot_actions_sim_id_RANDOM['actions'] == 1]['dates'], y=df_robot_actions_sim_id_RANDOM[df_robot_actions_sim_id_RANDOM['actions'] == 1]['prices'], mode='markers', marker_symbol='circle', marker_size=10, marker_color='#228b22', legendgroup = '4'), row=4, col=1, secondary_y=True)\n",
    "    # fig.add_trace(go.Scatter(name='Short', x=df_robot_actions_sim_id_RANDOM[df_robot_actions_sim_id_RANDOM['actions'] == 0]['dates'], y=df_robot_actions_sim_id_RANDOM[df_robot_actions_sim_id_RANDOM['actions'] == 0]['prices'], mode='markers', marker_symbol='circle', marker_size=10, marker_color='#c83232', legendgroup = '4'), row=4, col=1, secondary_y=True)\n",
    "\n",
    "    # fig.add_trace(go.Bar(x=df_model_type_action_count_RANDOM['dates'], y=df_model_type_action_count_RANDOM['action_long_count'], name='Long', marker_color=' #b3ffb3', legendgroup = '4'), row=4, col=1, secondary_y=False)\n",
    "    # fig.add_trace(go.Bar(x=df_model_type_action_count_RANDOM['dates'], y=df_model_type_action_count_RANDOM['action_short_count'], name='Short', marker_color='#ffb2b2', legendgroup = '4'), row=4, col=1, secondary_y=False)\n",
    "\n",
    "    fig.update_yaxes(title_text=\"Proportion of trades<br>across all the simulations\", secondary_y=False)\n",
    "    fig.update_yaxes(title_text=f\"CCY level with the<br>sim_id actions related\", secondary_y=True)\n",
    "\n",
    "    fig.update_layout(barmode='stack', xaxis={'categoryorder':'category ascending'}, title=str_title, title_x=0.5, width=1200, height=800, legend_tracegroupgap=82, font={'size': 8})\n",
    "\n",
    "    fig.show()    "
   ]
  },
  {
   "cell_type": "code",
   "execution_count": 26,
   "metadata": {},
   "outputs": [
    {
     "data": {
      "application/vnd.plotly.v1+json": {
       "config": {
        "plotlyServerURL": "https://plot.ly"
       },
       "data": [
        {
         "legendgroup": "3",
         "marker": {
          "color": "#969696"
         },
         "mode": "lines",
         "name": "Price",
         "type": "scatter",
         "x": [
          "2022-12-27 00:00:00.000000",
          "2022-12-28 00:00:00.000000",
          "2022-12-29 00:00:00.000000",
          "2022-12-30 00:00:00.000000",
          "2022-12-31 00:00:00.000000",
          "2023-01-01 00:00:00.000000",
          "2023-01-02 00:00:00.000000",
          "2023-01-03 00:00:00.000000",
          "2023-01-04 00:00:00.000000",
          "2023-01-05 00:00:00.000000",
          "2023-01-06 00:00:00.000000",
          "2023-01-07 00:00:00.000000",
          "2023-01-08 00:00:00.000000",
          "2023-01-09 00:00:00.000000",
          "2023-01-10 00:00:00.000000",
          "2023-01-11 00:00:00.000000",
          "2023-01-12 00:00:00.000000",
          "2023-01-13 00:00:00.000000",
          "2023-01-14 00:00:00.000000",
          "2023-01-15 00:00:00.000000",
          "2023-01-16 00:00:00.000000",
          "2023-01-17 00:00:00.000000",
          "2023-01-18 00:00:00.000000",
          "2023-01-19 00:00:00.000000",
          "2023-01-20 00:00:00.000000",
          "2023-01-21 00:00:00.000000",
          "2023-01-22 00:00:00.000000",
          "2023-01-23 00:00:00.000000",
          "2023-01-24 00:00:00.000000",
          "2023-01-25 00:00:00.000000",
          "2023-01-26 00:00:00.000000",
          "2023-01-27 00:00:00.000000",
          "2023-01-28 00:00:00.000000",
          "2023-01-29 00:00:00.000000",
          "2023-01-30 00:00:00.000000",
          "2023-01-31 00:00:00.000000"
         ],
         "xaxis": "x3",
         "y": [
          16919.39,
          16706.36,
          16547.31,
          16633.47,
          16607.48,
          16542.4,
          16616.75,
          16672.87,
          16675.18,
          16850.36,
          16831.85,
          16950.65,
          16943.57,
          17127.83,
          17178.26,
          17440.66,
          17943.26,
          18846.62,
          19930.01,
          20954.92,
          20871.5,
          21185.65,
          21134.81,
          20677.47,
          21071.59,
          22667.21,
          22783.55,
          22707.88,
          22916.45,
          22632.89,
          23060.94,
          23009.65,
          23074.16,
          23022.6,
          23742.3,
          22826.15
         ],
         "yaxis": "y6"
        },
        {
         "legendgroup": "3",
         "marker": {
          "color": "#228b22",
          "size": 10,
          "symbol": "circle"
         },
         "mode": "markers",
         "name": "Long",
         "type": "scatter",
         "x": [
          "2023-01-07 00:00:00.000000",
          "2023-01-10 00:00:00.000000",
          "2023-01-11 00:00:00.000000",
          "2023-01-12 00:00:00.000000",
          "2023-01-15 00:00:00.000000",
          "2023-01-16 00:00:00.000000",
          "2023-01-17 00:00:00.000000",
          "2023-01-18 00:00:00.000000",
          "2023-01-19 00:00:00.000000",
          "2023-01-20 00:00:00.000000",
          "2023-01-21 00:00:00.000000",
          "2023-01-22 00:00:00.000000",
          "2023-01-23 00:00:00.000000",
          "2023-01-24 00:00:00.000000",
          "2023-01-25 00:00:00.000000",
          "2023-01-26 00:00:00.000000",
          "2023-01-27 00:00:00.000000",
          "2023-01-28 00:00:00.000000",
          "2023-01-29 00:00:00.000000",
          "2023-01-30 00:00:00.000000",
          "2023-01-31 00:00:00.000000"
         ],
         "xaxis": "x3",
         "y": [
          16950.65,
          17178.26,
          17440.66,
          17943.26,
          20954.92,
          20871.5,
          21185.65,
          21134.81,
          20677.47,
          21071.59,
          22667.21,
          22783.55,
          22707.88,
          22916.45,
          22632.89,
          23060.94,
          23009.65,
          23074.16,
          23022.6,
          23742.3,
          22826.15
         ],
         "yaxis": "y6"
        },
        {
         "legendgroup": "3",
         "marker": {
          "color": "#c83232",
          "size": 10,
          "symbol": "circle"
         },
         "mode": "markers",
         "name": "Short",
         "type": "scatter",
         "x": [
          "2023-01-02 00:00:00.000000",
          "2023-01-03 00:00:00.000000",
          "2023-01-04 00:00:00.000000",
          "2023-01-05 00:00:00.000000",
          "2023-01-06 00:00:00.000000",
          "2023-01-08 00:00:00.000000",
          "2023-01-09 00:00:00.000000",
          "2023-01-13 00:00:00.000000",
          "2023-01-14 00:00:00.000000"
         ],
         "xaxis": "x3",
         "y": [
          16616.75,
          16672.87,
          16675.18,
          16850.36,
          16831.85,
          16943.57,
          17127.83,
          18846.62,
          19930.01
         ],
         "yaxis": "y6"
        },
        {
         "legendgroup": "3",
         "marker": {
          "color": " #b3ffb3"
         },
         "name": "Long",
         "type": "bar",
         "x": [
          "2023-01-02 00:00:00.000000",
          "2023-01-03 00:00:00.000000",
          "2023-01-04 00:00:00.000000",
          "2023-01-05 00:00:00.000000",
          "2023-01-06 00:00:00.000000",
          "2023-01-07 00:00:00.000000",
          "2023-01-08 00:00:00.000000",
          "2023-01-09 00:00:00.000000",
          "2023-01-10 00:00:00.000000",
          "2023-01-11 00:00:00.000000",
          "2023-01-12 00:00:00.000000",
          "2023-01-13 00:00:00.000000",
          "2023-01-14 00:00:00.000000",
          "2023-01-15 00:00:00.000000",
          "2023-01-16 00:00:00.000000",
          "2023-01-17 00:00:00.000000",
          "2023-01-18 00:00:00.000000",
          "2023-01-19 00:00:00.000000",
          "2023-01-20 00:00:00.000000",
          "2023-01-21 00:00:00.000000",
          "2023-01-22 00:00:00.000000",
          "2023-01-23 00:00:00.000000",
          "2023-01-24 00:00:00.000000",
          "2023-01-25 00:00:00.000000",
          "2023-01-26 00:00:00.000000",
          "2023-01-27 00:00:00.000000",
          "2023-01-28 00:00:00.000000",
          "2023-01-29 00:00:00.000000",
          "2023-01-30 00:00:00.000000",
          "2023-01-31 00:00:00.000000"
         ],
         "xaxis": "x3",
         "y": [
          31,
          28,
          34,
          22,
          29,
          973,
          25,
          21,
          977,
          976,
          972,
          26,
          30,
          969,
          977,
          984,
          981,
          980,
          982,
          975,
          974,
          977,
          977,
          977,
          978,
          975,
          973,
          977,
          981,
          967
         ],
         "yaxis": "y5"
        },
        {
         "legendgroup": "3",
         "marker": {
          "color": "#ffb2b2"
         },
         "name": "Short",
         "type": "bar",
         "x": [
          "2023-01-02 00:00:00.000000",
          "2023-01-03 00:00:00.000000",
          "2023-01-04 00:00:00.000000",
          "2023-01-05 00:00:00.000000",
          "2023-01-06 00:00:00.000000",
          "2023-01-07 00:00:00.000000",
          "2023-01-08 00:00:00.000000",
          "2023-01-09 00:00:00.000000",
          "2023-01-10 00:00:00.000000",
          "2023-01-11 00:00:00.000000",
          "2023-01-12 00:00:00.000000",
          "2023-01-13 00:00:00.000000",
          "2023-01-14 00:00:00.000000",
          "2023-01-15 00:00:00.000000",
          "2023-01-16 00:00:00.000000",
          "2023-01-17 00:00:00.000000",
          "2023-01-18 00:00:00.000000",
          "2023-01-19 00:00:00.000000",
          "2023-01-20 00:00:00.000000",
          "2023-01-21 00:00:00.000000",
          "2023-01-22 00:00:00.000000",
          "2023-01-23 00:00:00.000000",
          "2023-01-24 00:00:00.000000",
          "2023-01-25 00:00:00.000000",
          "2023-01-26 00:00:00.000000",
          "2023-01-27 00:00:00.000000",
          "2023-01-28 00:00:00.000000",
          "2023-01-29 00:00:00.000000",
          "2023-01-30 00:00:00.000000",
          "2023-01-31 00:00:00.000000"
         ],
         "xaxis": "x3",
         "y": [
          969,
          972,
          966,
          978,
          971,
          27,
          975,
          979,
          23,
          24,
          28,
          974,
          970,
          31,
          23,
          16,
          19,
          20,
          18,
          25,
          26,
          23,
          23,
          23,
          22,
          25,
          27,
          23,
          19,
          33
         ],
         "yaxis": "y5"
        }
       ],
       "layout": {
        "annotations": [
         {
          "font": {
           "size": 16
          },
          "showarrow": false,
          "text": "Median sim_id: 1 | model_type: DQN | Total Profit percentage -4.63%",
          "x": 0.47,
          "xanchor": "center",
          "xref": "paper",
          "y": 0.4375,
          "yanchor": "bottom",
          "yref": "paper"
         }
        ],
        "barmode": "stack",
        "font": {
         "size": 8
        },
        "height": 800,
        "legend": {
         "tracegroupgap": 82
        },
        "template": {
         "data": {
          "bar": [
           {
            "error_x": {
             "color": "#2a3f5f"
            },
            "error_y": {
             "color": "#2a3f5f"
            },
            "marker": {
             "line": {
              "color": "#E5ECF6",
              "width": 0.5
             },
             "pattern": {
              "fillmode": "overlay",
              "size": 10,
              "solidity": 0.2
             }
            },
            "type": "bar"
           }
          ],
          "barpolar": [
           {
            "marker": {
             "line": {
              "color": "#E5ECF6",
              "width": 0.5
             },
             "pattern": {
              "fillmode": "overlay",
              "size": 10,
              "solidity": 0.2
             }
            },
            "type": "barpolar"
           }
          ],
          "carpet": [
           {
            "aaxis": {
             "endlinecolor": "#2a3f5f",
             "gridcolor": "white",
             "linecolor": "white",
             "minorgridcolor": "white",
             "startlinecolor": "#2a3f5f"
            },
            "baxis": {
             "endlinecolor": "#2a3f5f",
             "gridcolor": "white",
             "linecolor": "white",
             "minorgridcolor": "white",
             "startlinecolor": "#2a3f5f"
            },
            "type": "carpet"
           }
          ],
          "choropleth": [
           {
            "colorbar": {
             "outlinewidth": 0,
             "ticks": ""
            },
            "type": "choropleth"
           }
          ],
          "contour": [
           {
            "colorbar": {
             "outlinewidth": 0,
             "ticks": ""
            },
            "colorscale": [
             [
              0,
              "#0d0887"
             ],
             [
              0.1111111111111111,
              "#46039f"
             ],
             [
              0.2222222222222222,
              "#7201a8"
             ],
             [
              0.3333333333333333,
              "#9c179e"
             ],
             [
              0.4444444444444444,
              "#bd3786"
             ],
             [
              0.5555555555555556,
              "#d8576b"
             ],
             [
              0.6666666666666666,
              "#ed7953"
             ],
             [
              0.7777777777777778,
              "#fb9f3a"
             ],
             [
              0.8888888888888888,
              "#fdca26"
             ],
             [
              1,
              "#f0f921"
             ]
            ],
            "type": "contour"
           }
          ],
          "contourcarpet": [
           {
            "colorbar": {
             "outlinewidth": 0,
             "ticks": ""
            },
            "type": "contourcarpet"
           }
          ],
          "heatmap": [
           {
            "colorbar": {
             "outlinewidth": 0,
             "ticks": ""
            },
            "colorscale": [
             [
              0,
              "#0d0887"
             ],
             [
              0.1111111111111111,
              "#46039f"
             ],
             [
              0.2222222222222222,
              "#7201a8"
             ],
             [
              0.3333333333333333,
              "#9c179e"
             ],
             [
              0.4444444444444444,
              "#bd3786"
             ],
             [
              0.5555555555555556,
              "#d8576b"
             ],
             [
              0.6666666666666666,
              "#ed7953"
             ],
             [
              0.7777777777777778,
              "#fb9f3a"
             ],
             [
              0.8888888888888888,
              "#fdca26"
             ],
             [
              1,
              "#f0f921"
             ]
            ],
            "type": "heatmap"
           }
          ],
          "heatmapgl": [
           {
            "colorbar": {
             "outlinewidth": 0,
             "ticks": ""
            },
            "colorscale": [
             [
              0,
              "#0d0887"
             ],
             [
              0.1111111111111111,
              "#46039f"
             ],
             [
              0.2222222222222222,
              "#7201a8"
             ],
             [
              0.3333333333333333,
              "#9c179e"
             ],
             [
              0.4444444444444444,
              "#bd3786"
             ],
             [
              0.5555555555555556,
              "#d8576b"
             ],
             [
              0.6666666666666666,
              "#ed7953"
             ],
             [
              0.7777777777777778,
              "#fb9f3a"
             ],
             [
              0.8888888888888888,
              "#fdca26"
             ],
             [
              1,
              "#f0f921"
             ]
            ],
            "type": "heatmapgl"
           }
          ],
          "histogram": [
           {
            "marker": {
             "pattern": {
              "fillmode": "overlay",
              "size": 10,
              "solidity": 0.2
             }
            },
            "type": "histogram"
           }
          ],
          "histogram2d": [
           {
            "colorbar": {
             "outlinewidth": 0,
             "ticks": ""
            },
            "colorscale": [
             [
              0,
              "#0d0887"
             ],
             [
              0.1111111111111111,
              "#46039f"
             ],
             [
              0.2222222222222222,
              "#7201a8"
             ],
             [
              0.3333333333333333,
              "#9c179e"
             ],
             [
              0.4444444444444444,
              "#bd3786"
             ],
             [
              0.5555555555555556,
              "#d8576b"
             ],
             [
              0.6666666666666666,
              "#ed7953"
             ],
             [
              0.7777777777777778,
              "#fb9f3a"
             ],
             [
              0.8888888888888888,
              "#fdca26"
             ],
             [
              1,
              "#f0f921"
             ]
            ],
            "type": "histogram2d"
           }
          ],
          "histogram2dcontour": [
           {
            "colorbar": {
             "outlinewidth": 0,
             "ticks": ""
            },
            "colorscale": [
             [
              0,
              "#0d0887"
             ],
             [
              0.1111111111111111,
              "#46039f"
             ],
             [
              0.2222222222222222,
              "#7201a8"
             ],
             [
              0.3333333333333333,
              "#9c179e"
             ],
             [
              0.4444444444444444,
              "#bd3786"
             ],
             [
              0.5555555555555556,
              "#d8576b"
             ],
             [
              0.6666666666666666,
              "#ed7953"
             ],
             [
              0.7777777777777778,
              "#fb9f3a"
             ],
             [
              0.8888888888888888,
              "#fdca26"
             ],
             [
              1,
              "#f0f921"
             ]
            ],
            "type": "histogram2dcontour"
           }
          ],
          "mesh3d": [
           {
            "colorbar": {
             "outlinewidth": 0,
             "ticks": ""
            },
            "type": "mesh3d"
           }
          ],
          "parcoords": [
           {
            "line": {
             "colorbar": {
              "outlinewidth": 0,
              "ticks": ""
             }
            },
            "type": "parcoords"
           }
          ],
          "pie": [
           {
            "automargin": true,
            "type": "pie"
           }
          ],
          "scatter": [
           {
            "fillpattern": {
             "fillmode": "overlay",
             "size": 10,
             "solidity": 0.2
            },
            "type": "scatter"
           }
          ],
          "scatter3d": [
           {
            "line": {
             "colorbar": {
              "outlinewidth": 0,
              "ticks": ""
             }
            },
            "marker": {
             "colorbar": {
              "outlinewidth": 0,
              "ticks": ""
             }
            },
            "type": "scatter3d"
           }
          ],
          "scattercarpet": [
           {
            "marker": {
             "colorbar": {
              "outlinewidth": 0,
              "ticks": ""
             }
            },
            "type": "scattercarpet"
           }
          ],
          "scattergeo": [
           {
            "marker": {
             "colorbar": {
              "outlinewidth": 0,
              "ticks": ""
             }
            },
            "type": "scattergeo"
           }
          ],
          "scattergl": [
           {
            "marker": {
             "colorbar": {
              "outlinewidth": 0,
              "ticks": ""
             }
            },
            "type": "scattergl"
           }
          ],
          "scattermapbox": [
           {
            "marker": {
             "colorbar": {
              "outlinewidth": 0,
              "ticks": ""
             }
            },
            "type": "scattermapbox"
           }
          ],
          "scatterpolar": [
           {
            "marker": {
             "colorbar": {
              "outlinewidth": 0,
              "ticks": ""
             }
            },
            "type": "scatterpolar"
           }
          ],
          "scatterpolargl": [
           {
            "marker": {
             "colorbar": {
              "outlinewidth": 0,
              "ticks": ""
             }
            },
            "type": "scatterpolargl"
           }
          ],
          "scatterternary": [
           {
            "marker": {
             "colorbar": {
              "outlinewidth": 0,
              "ticks": ""
             }
            },
            "type": "scatterternary"
           }
          ],
          "surface": [
           {
            "colorbar": {
             "outlinewidth": 0,
             "ticks": ""
            },
            "colorscale": [
             [
              0,
              "#0d0887"
             ],
             [
              0.1111111111111111,
              "#46039f"
             ],
             [
              0.2222222222222222,
              "#7201a8"
             ],
             [
              0.3333333333333333,
              "#9c179e"
             ],
             [
              0.4444444444444444,
              "#bd3786"
             ],
             [
              0.5555555555555556,
              "#d8576b"
             ],
             [
              0.6666666666666666,
              "#ed7953"
             ],
             [
              0.7777777777777778,
              "#fb9f3a"
             ],
             [
              0.8888888888888888,
              "#fdca26"
             ],
             [
              1,
              "#f0f921"
             ]
            ],
            "type": "surface"
           }
          ],
          "table": [
           {
            "cells": {
             "fill": {
              "color": "#EBF0F8"
             },
             "line": {
              "color": "white"
             }
            },
            "header": {
             "fill": {
              "color": "#C8D4E3"
             },
             "line": {
              "color": "white"
             }
            },
            "type": "table"
           }
          ]
         },
         "layout": {
          "annotationdefaults": {
           "arrowcolor": "#2a3f5f",
           "arrowhead": 0,
           "arrowwidth": 1
          },
          "autotypenumbers": "strict",
          "coloraxis": {
           "colorbar": {
            "outlinewidth": 0,
            "ticks": ""
           }
          },
          "colorscale": {
           "diverging": [
            [
             0,
             "#8e0152"
            ],
            [
             0.1,
             "#c51b7d"
            ],
            [
             0.2,
             "#de77ae"
            ],
            [
             0.3,
             "#f1b6da"
            ],
            [
             0.4,
             "#fde0ef"
            ],
            [
             0.5,
             "#f7f7f7"
            ],
            [
             0.6,
             "#e6f5d0"
            ],
            [
             0.7,
             "#b8e186"
            ],
            [
             0.8,
             "#7fbc41"
            ],
            [
             0.9,
             "#4d9221"
            ],
            [
             1,
             "#276419"
            ]
           ],
           "sequential": [
            [
             0,
             "#0d0887"
            ],
            [
             0.1111111111111111,
             "#46039f"
            ],
            [
             0.2222222222222222,
             "#7201a8"
            ],
            [
             0.3333333333333333,
             "#9c179e"
            ],
            [
             0.4444444444444444,
             "#bd3786"
            ],
            [
             0.5555555555555556,
             "#d8576b"
            ],
            [
             0.6666666666666666,
             "#ed7953"
            ],
            [
             0.7777777777777778,
             "#fb9f3a"
            ],
            [
             0.8888888888888888,
             "#fdca26"
            ],
            [
             1,
             "#f0f921"
            ]
           ],
           "sequentialminus": [
            [
             0,
             "#0d0887"
            ],
            [
             0.1111111111111111,
             "#46039f"
            ],
            [
             0.2222222222222222,
             "#7201a8"
            ],
            [
             0.3333333333333333,
             "#9c179e"
            ],
            [
             0.4444444444444444,
             "#bd3786"
            ],
            [
             0.5555555555555556,
             "#d8576b"
            ],
            [
             0.6666666666666666,
             "#ed7953"
            ],
            [
             0.7777777777777778,
             "#fb9f3a"
            ],
            [
             0.8888888888888888,
             "#fdca26"
            ],
            [
             1,
             "#f0f921"
            ]
           ]
          },
          "colorway": [
           "#636efa",
           "#EF553B",
           "#00cc96",
           "#ab63fa",
           "#FFA15A",
           "#19d3f3",
           "#FF6692",
           "#B6E880",
           "#FF97FF",
           "#FECB52"
          ],
          "font": {
           "color": "#2a3f5f"
          },
          "geo": {
           "bgcolor": "white",
           "lakecolor": "white",
           "landcolor": "#E5ECF6",
           "showlakes": true,
           "showland": true,
           "subunitcolor": "white"
          },
          "hoverlabel": {
           "align": "left"
          },
          "hovermode": "closest",
          "mapbox": {
           "style": "light"
          },
          "paper_bgcolor": "white",
          "plot_bgcolor": "#E5ECF6",
          "polar": {
           "angularaxis": {
            "gridcolor": "white",
            "linecolor": "white",
            "ticks": ""
           },
           "bgcolor": "#E5ECF6",
           "radialaxis": {
            "gridcolor": "white",
            "linecolor": "white",
            "ticks": ""
           }
          },
          "scene": {
           "xaxis": {
            "backgroundcolor": "#E5ECF6",
            "gridcolor": "white",
            "gridwidth": 2,
            "linecolor": "white",
            "showbackground": true,
            "ticks": "",
            "zerolinecolor": "white"
           },
           "yaxis": {
            "backgroundcolor": "#E5ECF6",
            "gridcolor": "white",
            "gridwidth": 2,
            "linecolor": "white",
            "showbackground": true,
            "ticks": "",
            "zerolinecolor": "white"
           },
           "zaxis": {
            "backgroundcolor": "#E5ECF6",
            "gridcolor": "white",
            "gridwidth": 2,
            "linecolor": "white",
            "showbackground": true,
            "ticks": "",
            "zerolinecolor": "white"
           }
          },
          "shapedefaults": {
           "line": {
            "color": "#2a3f5f"
           }
          },
          "ternary": {
           "aaxis": {
            "gridcolor": "white",
            "linecolor": "white",
            "ticks": ""
           },
           "baxis": {
            "gridcolor": "white",
            "linecolor": "white",
            "ticks": ""
           },
           "bgcolor": "#E5ECF6",
           "caxis": {
            "gridcolor": "white",
            "linecolor": "white",
            "ticks": ""
           }
          },
          "title": {
           "x": 0.05
          },
          "xaxis": {
           "automargin": true,
           "gridcolor": "white",
           "linecolor": "white",
           "ticks": "",
           "title": {
            "standoff": 15
           },
           "zerolinecolor": "white",
           "zerolinewidth": 2
          },
          "yaxis": {
           "automargin": true,
           "gridcolor": "white",
           "linecolor": "white",
           "ticks": "",
           "title": {
            "standoff": 15
           },
           "zerolinecolor": "white",
           "zerolinewidth": 2
          }
         }
        },
        "title": {
         "text": "Median Total Profit Results x Overall view of actions (across all the simulations)",
         "x": 0.5
        },
        "width": 1200,
        "xaxis": {
         "anchor": "y",
         "categoryorder": "category ascending",
         "domain": [
          0,
          0.94
         ],
         "matches": "x4",
         "showticklabels": false
        },
        "xaxis2": {
         "anchor": "y3",
         "domain": [
          0,
          0.94
         ],
         "matches": "x4",
         "showticklabels": false
        },
        "xaxis3": {
         "anchor": "y5",
         "domain": [
          0,
          0.94
         ],
         "matches": "x4",
         "showticklabels": false
        },
        "xaxis4": {
         "anchor": "y7",
         "domain": [
          0,
          0.94
         ]
        },
        "yaxis": {
         "anchor": "x",
         "domain": [
          0.84375,
          1
         ],
         "matches": "y7",
         "title": {
          "text": "Proportion of trades<br>across all the simulations"
         }
        },
        "yaxis2": {
         "anchor": "x",
         "overlaying": "y",
         "side": "right",
         "title": {
          "text": "CCY level with the<br>sim_id actions related"
         }
        },
        "yaxis3": {
         "anchor": "x2",
         "domain": [
          0.5625,
          0.71875
         ],
         "matches": "y7",
         "title": {
          "text": "Proportion of trades<br>across all the simulations"
         }
        },
        "yaxis4": {
         "anchor": "x2",
         "overlaying": "y3",
         "side": "right",
         "title": {
          "text": "CCY level with the<br>sim_id actions related"
         }
        },
        "yaxis5": {
         "anchor": "x3",
         "domain": [
          0.28125,
          0.4375
         ],
         "matches": "y7",
         "title": {
          "text": "Proportion of trades<br>across all the simulations"
         }
        },
        "yaxis6": {
         "anchor": "x3",
         "overlaying": "y5",
         "side": "right",
         "title": {
          "text": "CCY level with the<br>sim_id actions related"
         }
        },
        "yaxis7": {
         "anchor": "x4",
         "domain": [
          0,
          0.15625
         ],
         "title": {
          "text": "Proportion of trades<br>across all the simulations"
         }
        },
        "yaxis8": {
         "anchor": "x4",
         "overlaying": "y7",
         "side": "right",
         "title": {
          "text": "CCY level with the<br>sim_id actions related"
         }
        }
       }
      }
     },
     "metadata": {},
     "output_type": "display_data"
    }
   ],
   "source": [
    "plot_trader_robot_actions_all_sim_id_all_models(config_file_name_without_extension, \"\", \"\", median_sim_id_DQN, \"\")"
   ]
  },
  {
   "cell_type": "code",
   "execution_count": 27,
   "metadata": {},
   "outputs": [
    {
     "name": "stdout",
     "output_type": "stream",
     "text": [
      "mean_reward=-204.91 +/- 0.0\n"
     ]
    }
   ],
   "source": [
    "# Evaluate the loaded policy\n",
    "mean_reward, std_reward = evaluate_policy(saved_policy, env, n_eval_episodes=10, deterministic=True)\n",
    "\n",
    "print(f\"mean_reward={mean_reward:.2f} +/- {std_reward}\")"
   ]
  },
  {
   "cell_type": "code",
   "execution_count": null,
   "metadata": {},
   "outputs": [],
   "source": []
  }
 ],
 "metadata": {
  "kernelspec": {
   "display_name": "msc_uol_ai_dissertation",
   "language": "python",
   "name": "python3"
  },
  "language_info": {
   "codemirror_mode": {
    "name": "ipython",
    "version": 3
   },
   "file_extension": ".py",
   "mimetype": "text/x-python",
   "name": "python",
   "nbconvert_exporter": "python",
   "pygments_lexer": "ipython3",
   "version": "3.8.13"
  },
  "orig_nbformat": 4,
  "vscode": {
   "interpreter": {
    "hash": "0c0f2ae3d5d9aa27c4a2afc20f28a2482dc1006477ab22953abc78c31c7bb5b2"
   }
  }
 },
 "nbformat": 4,
 "nbformat_minor": 2
}
