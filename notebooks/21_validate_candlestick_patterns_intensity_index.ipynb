{
 "cells": [
  {
   "cell_type": "markdown",
   "metadata": {},
   "source": [
    "# Validate candlestick patterns"
   ]
  },
  {
   "cell_type": "code",
   "execution_count": 1,
   "metadata": {},
   "outputs": [],
   "source": [
    "from src import utils as u\n",
    "import pandas as pd\n",
    "import random\n",
    "import mplfinance as mpf\n",
    "import os\n",
    "import numpy as np\n",
    "import datetime\n",
    "from configparser import ConfigParser"
   ]
  },
  {
   "cell_type": "code",
   "execution_count": 2,
   "metadata": {},
   "outputs": [
    {
     "name": "stdout",
     "output_type": "stream",
     "text": [
      "['config.ini']\n"
     ]
    }
   ],
   "source": [
    "configur = ConfigParser()\n",
    "print (configur.read('config.ini'))\n",
    "#print (\"Sections : \", configur.sections())"
   ]
  },
  {
   "cell_type": "markdown",
   "metadata": {},
   "source": [
    "## Get the data"
   ]
  },
  {
   "cell_type": "markdown",
   "metadata": {},
   "source": [
    "### Parameters"
   ]
  },
  {
   "cell_type": "code",
   "execution_count": 3,
   "metadata": {},
   "outputs": [],
   "source": [
    "asset_ticket = \"BTCUSDT\"\n",
    "timestamp = \"1d\"\n",
    "start_date = \"1 Jan, 2020\"\n",
    "end_date = \"30 Sep, 2022\""
   ]
  },
  {
   "cell_type": "code",
   "execution_count": 4,
   "metadata": {},
   "outputs": [],
   "source": [
    "input_data_path = '../data'\n",
    "input_data_filename = \"binance\" + \\\n",
    "                  \"_\" + asset_ticket + \\\n",
    "                  \"_\" + timestamp + \\\n",
    "                  \"_from_\" + datetime.datetime.strptime(start_date,'%d %b, %Y').strftime('%Y_%m_%d') + \\\n",
    "                  \"_to_\" + datetime.datetime.strptime(end_date,'%d %b, %Y').strftime('%Y_%m_%d') + \\\n",
    "                  \"_candlesticks_signals_raw\"\n",
    "input_data_extension = \".csv\"\n",
    "full_path_input_data = os.path.join(input_data_path, input_data_filename + input_data_extension)"
   ]
  },
  {
   "cell_type": "code",
   "execution_count": 5,
   "metadata": {},
   "outputs": [],
   "source": [
    "df = pd.read_csv(full_path_input_data)"
   ]
  },
  {
   "cell_type": "code",
   "execution_count": 6,
   "metadata": {},
   "outputs": [
    {
     "data": {
      "text/html": [
       "<div>\n",
       "<style scoped>\n",
       "    .dataframe tbody tr th:only-of-type {\n",
       "        vertical-align: middle;\n",
       "    }\n",
       "\n",
       "    .dataframe tbody tr th {\n",
       "        vertical-align: top;\n",
       "    }\n",
       "\n",
       "    .dataframe thead th {\n",
       "        text-align: right;\n",
       "    }\n",
       "</style>\n",
       "<table border=\"1\" class=\"dataframe\">\n",
       "  <thead>\n",
       "    <tr style=\"text-align: right;\">\n",
       "      <th></th>\n",
       "      <th>open_time</th>\n",
       "      <th>open</th>\n",
       "      <th>high</th>\n",
       "      <th>low</th>\n",
       "      <th>close</th>\n",
       "      <th>volume</th>\n",
       "      <th>close_time</th>\n",
       "      <th>quote_asset_volumne</th>\n",
       "      <th>number_of_trades</th>\n",
       "      <th>taker_buy_base_asset_volume</th>\n",
       "      <th>...</th>\n",
       "      <th>CDLHAMMER</th>\n",
       "      <th>CDLPIERCING</th>\n",
       "      <th>CDLMORNINGSTAR</th>\n",
       "      <th>CDLSHOOTINGSTAR</th>\n",
       "      <th>CDLHANGINGMAN</th>\n",
       "      <th>CDLDARKCLOUDCOVER</th>\n",
       "      <th>CDLEVENINGSTAR</th>\n",
       "      <th>CDLENGULFING</th>\n",
       "      <th>CDLENGULFINGBULLISH</th>\n",
       "      <th>CDLENGULFINGBEARISH</th>\n",
       "    </tr>\n",
       "  </thead>\n",
       "  <tbody>\n",
       "    <tr>\n",
       "      <th>0</th>\n",
       "      <td>1577836800000</td>\n",
       "      <td>7195.24</td>\n",
       "      <td>7255.0</td>\n",
       "      <td>7175.15</td>\n",
       "      <td>7200.85</td>\n",
       "      <td>16792.388165</td>\n",
       "      <td>1577923199999</td>\n",
       "      <td>1.212145e+08</td>\n",
       "      <td>194010</td>\n",
       "      <td>8946.955535</td>\n",
       "      <td>...</td>\n",
       "      <td>0</td>\n",
       "      <td>0</td>\n",
       "      <td>0</td>\n",
       "      <td>0</td>\n",
       "      <td>0</td>\n",
       "      <td>0</td>\n",
       "      <td>0</td>\n",
       "      <td>0</td>\n",
       "      <td>0</td>\n",
       "      <td>0</td>\n",
       "    </tr>\n",
       "    <tr>\n",
       "      <th>1</th>\n",
       "      <td>1577923200000</td>\n",
       "      <td>7200.77</td>\n",
       "      <td>7212.5</td>\n",
       "      <td>6924.74</td>\n",
       "      <td>6965.71</td>\n",
       "      <td>31951.483932</td>\n",
       "      <td>1578009599999</td>\n",
       "      <td>2.259823e+08</td>\n",
       "      <td>302667</td>\n",
       "      <td>15141.611340</td>\n",
       "      <td>...</td>\n",
       "      <td>0</td>\n",
       "      <td>0</td>\n",
       "      <td>0</td>\n",
       "      <td>0</td>\n",
       "      <td>0</td>\n",
       "      <td>0</td>\n",
       "      <td>0</td>\n",
       "      <td>0</td>\n",
       "      <td>0</td>\n",
       "      <td>0</td>\n",
       "    </tr>\n",
       "    <tr>\n",
       "      <th>2</th>\n",
       "      <td>1578009600000</td>\n",
       "      <td>6965.49</td>\n",
       "      <td>7405.0</td>\n",
       "      <td>6871.04</td>\n",
       "      <td>7344.96</td>\n",
       "      <td>68428.500451</td>\n",
       "      <td>1578095999999</td>\n",
       "      <td>4.950986e+08</td>\n",
       "      <td>519854</td>\n",
       "      <td>35595.496273</td>\n",
       "      <td>...</td>\n",
       "      <td>0</td>\n",
       "      <td>0</td>\n",
       "      <td>0</td>\n",
       "      <td>0</td>\n",
       "      <td>0</td>\n",
       "      <td>0</td>\n",
       "      <td>0</td>\n",
       "      <td>0</td>\n",
       "      <td>0</td>\n",
       "      <td>0</td>\n",
       "    </tr>\n",
       "    <tr>\n",
       "      <th>3</th>\n",
       "      <td>1578096000000</td>\n",
       "      <td>7345.00</td>\n",
       "      <td>7404.0</td>\n",
       "      <td>7272.21</td>\n",
       "      <td>7354.11</td>\n",
       "      <td>29987.974977</td>\n",
       "      <td>1578182399999</td>\n",
       "      <td>2.198742e+08</td>\n",
       "      <td>279370</td>\n",
       "      <td>16369.382248</td>\n",
       "      <td>...</td>\n",
       "      <td>0</td>\n",
       "      <td>0</td>\n",
       "      <td>0</td>\n",
       "      <td>0</td>\n",
       "      <td>0</td>\n",
       "      <td>0</td>\n",
       "      <td>0</td>\n",
       "      <td>0</td>\n",
       "      <td>0</td>\n",
       "      <td>0</td>\n",
       "    </tr>\n",
       "    <tr>\n",
       "      <th>4</th>\n",
       "      <td>1578182400000</td>\n",
       "      <td>7354.19</td>\n",
       "      <td>7495.0</td>\n",
       "      <td>7318.00</td>\n",
       "      <td>7358.75</td>\n",
       "      <td>38331.085604</td>\n",
       "      <td>1578268799999</td>\n",
       "      <td>2.848487e+08</td>\n",
       "      <td>329209</td>\n",
       "      <td>19455.369564</td>\n",
       "      <td>...</td>\n",
       "      <td>0</td>\n",
       "      <td>0</td>\n",
       "      <td>0</td>\n",
       "      <td>0</td>\n",
       "      <td>0</td>\n",
       "      <td>0</td>\n",
       "      <td>0</td>\n",
       "      <td>0</td>\n",
       "      <td>0</td>\n",
       "      <td>0</td>\n",
       "    </tr>\n",
       "  </tbody>\n",
       "</table>\n",
       "<p>5 rows × 28 columns</p>\n",
       "</div>"
      ],
      "text/plain": [
       "       open_time     open    high      low    close        volume  \\\n",
       "0  1577836800000  7195.24  7255.0  7175.15  7200.85  16792.388165   \n",
       "1  1577923200000  7200.77  7212.5  6924.74  6965.71  31951.483932   \n",
       "2  1578009600000  6965.49  7405.0  6871.04  7344.96  68428.500451   \n",
       "3  1578096000000  7345.00  7404.0  7272.21  7354.11  29987.974977   \n",
       "4  1578182400000  7354.19  7495.0  7318.00  7358.75  38331.085604   \n",
       "\n",
       "      close_time  quote_asset_volumne  number_of_trades  \\\n",
       "0  1577923199999         1.212145e+08            194010   \n",
       "1  1578009599999         2.259823e+08            302667   \n",
       "2  1578095999999         4.950986e+08            519854   \n",
       "3  1578182399999         2.198742e+08            279370   \n",
       "4  1578268799999         2.848487e+08            329209   \n",
       "\n",
       "   taker_buy_base_asset_volume  ...  CDLHAMMER  CDLPIERCING CDLMORNINGSTAR  \\\n",
       "0                  8946.955535  ...          0            0              0   \n",
       "1                 15141.611340  ...          0            0              0   \n",
       "2                 35595.496273  ...          0            0              0   \n",
       "3                 16369.382248  ...          0            0              0   \n",
       "4                 19455.369564  ...          0            0              0   \n",
       "\n",
       "  CDLSHOOTINGSTAR  CDLHANGINGMAN  CDLDARKCLOUDCOVER  CDLEVENINGSTAR  \\\n",
       "0               0              0                  0               0   \n",
       "1               0              0                  0               0   \n",
       "2               0              0                  0               0   \n",
       "3               0              0                  0               0   \n",
       "4               0              0                  0               0   \n",
       "\n",
       "   CDLENGULFING  CDLENGULFINGBULLISH  CDLENGULFINGBEARISH  \n",
       "0             0                    0                    0  \n",
       "1             0                    0                    0  \n",
       "2             0                    0                    0  \n",
       "3             0                    0                    0  \n",
       "4             0                    0                    0  \n",
       "\n",
       "[5 rows x 28 columns]"
      ]
     },
     "execution_count": 6,
     "metadata": {},
     "output_type": "execute_result"
    }
   ],
   "source": [
    "df.head()"
   ]
  },
  {
   "cell_type": "markdown",
   "metadata": {},
   "source": [
    "## Set the index on the dataframe"
   ]
  },
  {
   "cell_type": "code",
   "execution_count": 7,
   "metadata": {},
   "outputs": [],
   "source": [
    "df.index = pd.DatetimeIndex(df['formatted_open_time'])"
   ]
  },
  {
   "cell_type": "markdown",
   "metadata": {},
   "source": [
    "## Verify that the candlesticks are definitely showing a trend (down/up)"
   ]
  },
  {
   "cell_type": "markdown",
   "metadata": {},
   "source": [
    "### Set some parameters"
   ]
  },
  {
   "cell_type": "code",
   "execution_count": 8,
   "metadata": {},
   "outputs": [],
   "source": [
    "window_size = configur.getint('candlestick_patterns', 'window_size')\n",
    "slope_size = configur.getint('candlestick_patterns', 'slope_size')"
   ]
  },
  {
   "cell_type": "markdown",
   "metadata": {},
   "source": [
    "### Get the dates from the bullish candlesticks patterns"
   ]
  },
  {
   "cell_type": "code",
   "execution_count": 9,
   "metadata": {},
   "outputs": [],
   "source": [
    "list_dates_invertedhammer = df[df['CDLINVERTEDHAMMER'] == 100]['formatted_open_time'].to_list()\n",
    "list_dates_hammer = df[df['CDLHAMMER'] == 100]['formatted_open_time'].to_list()\n",
    "list_dates_piercing = df[df['CDLPIERCING'] == 100]['formatted_open_time'].to_list()\n",
    "list_dates_morningstar = df[df['CDLMORNINGSTAR'] == 100]['formatted_open_time'].to_list()\n",
    "list_dates_bullishengulfing = df[df['CDLENGULFINGBULLISH'] == 100]['formatted_open_time'].to_list()"
   ]
  },
  {
   "cell_type": "code",
   "execution_count": 10,
   "metadata": {},
   "outputs": [],
   "source": [
    "list_all_dates = df['formatted_open_time'].to_list()"
   ]
  },
  {
   "cell_type": "markdown",
   "metadata": {},
   "source": [
    "#### Get the amount of candlesticks patterns (before check)"
   ]
  },
  {
   "cell_type": "code",
   "execution_count": 14,
   "metadata": {},
   "outputs": [
    {
     "name": "stdout",
     "output_type": "stream",
     "text": [
      "BEFORE: number of inverted hammer:1\n",
      "BEFORE: number of hammer:21\n",
      "BEFORE: number of piercing:0\n",
      "BEFORE: number of morning star:2\n",
      "BEFORE: number of bullish engulfing:48\n"
     ]
    }
   ],
   "source": [
    "print(f'BEFORE: number of inverted hammer:{len(list_dates_invertedhammer)}')\n",
    "print(f'BEFORE: number of hammer:{len(list_dates_hammer)}')\n",
    "print(f'BEFORE: number of piercing:{len(list_dates_piercing)}')\n",
    "print(f'BEFORE: number of morning star:{len(list_dates_morningstar)}')\n",
    "print(f'BEFORE: number of bullish engulfing:{len(list_dates_bullishengulfing)}')"
   ]
  },
  {
   "cell_type": "markdown",
   "metadata": {},
   "source": [
    "#### Run the checks to identify the real candlesticks with reversal"
   ]
  },
  {
   "cell_type": "code",
   "execution_count": 15,
   "metadata": {},
   "outputs": [],
   "source": [
    "list_validate_dates_invertedhammer = []\n",
    "list_new_sign_invertedhammer = []\n",
    "list_sign_invertedhammer = [0] * len(list_all_dates)\n",
    "for date in list_dates_invertedhammer:\n",
    "    i = u.check_intensity_trend(df, date, window_size, slope_size)\n",
    "    if(i >= 0):\n",
    "        list_validate_dates_invertedhammer.append(date)\n",
    "        list_new_sign_invertedhammer.append(i*100)\n",
    "        list_sign_invertedhammer[list_all_dates.index(date)] = i*100\n",
    "    # else:\n",
    "    #     list_sign_invertedhammer.append(0)"
   ]
  },
  {
   "cell_type": "code",
   "execution_count": 16,
   "metadata": {},
   "outputs": [
    {
     "name": "stdout",
     "output_type": "stream",
     "text": [
      "{}\n"
     ]
    }
   ],
   "source": [
    "print(dict(zip(list_validate_dates_invertedhammer, list_new_sign_invertedhammer)))"
   ]
  },
  {
   "cell_type": "code",
   "execution_count": 17,
   "metadata": {},
   "outputs": [],
   "source": [
    "list_validate_dates_hammer = []\n",
    "list_new_sign_hammer = []\n",
    "list_sign_hammer = [0] * len(list_all_dates)\n",
    "for date in list_dates_hammer:\n",
    "    i = u.check_intensity_trend(df, date, window_size, slope_size)\n",
    "    if(i >= 0):    \n",
    "        list_validate_dates_hammer.append(date)\n",
    "        list_new_sign_hammer.append(i*100)\n",
    "        list_sign_hammer[list_all_dates.index(date)] = i*100\n",
    "    # else:\n",
    "    #     list_sign_hammer.append(0)"
   ]
  },
  {
   "cell_type": "code",
   "execution_count": 18,
   "metadata": {},
   "outputs": [
    {
     "name": "stdout",
     "output_type": "stream",
     "text": [
      "{'2020-02-22': 16.471973303149007, '2020-03-28': 74.10211889681898, '2020-04-01': 29.279081494966803, '2020-04-13': 64.46715017960108, '2020-08-22': 64.59888973534339, '2020-11-14': 61.824310876845686, '2020-11-22': 70.01064528913042, '2020-12-09': 62.43517180795367, '2020-12-11': 36.59852333946682, '2021-10-17': 39.13038685586695, '2021-11-19': 12.2418340795901, '2022-03-05': 64.58035028109968, '2022-05-07': 0.16163115830141073, '2022-06-30': 56.57300327936762, '2022-07-26': 66.86227323004744, '2022-09-16': 51.788668498691194}\n"
     ]
    }
   ],
   "source": [
    "print(dict(zip(list_validate_dates_hammer, list_new_sign_hammer)))"
   ]
  },
  {
   "cell_type": "code",
   "execution_count": 19,
   "metadata": {},
   "outputs": [],
   "source": [
    "list_validate_dates_piercing = []\n",
    "list_new_sign_piercing = []\n",
    "list_sign_piercing = [0] * len(list_all_dates)\n",
    "for date in list_dates_piercing:\n",
    "    i = u.check_intensity_trend(df, date, window_size, slope_size)\n",
    "    if(i >= 0):\n",
    "        list_validate_dates_piercing.append(date)\n",
    "        list_new_sign_piercing.append(i*100)\n",
    "        list_sign_piercing[list_all_dates.index(date)] = i*100\n",
    "    # else:\n",
    "    #     list_sign_piercing.append(0)"
   ]
  },
  {
   "cell_type": "code",
   "execution_count": 20,
   "metadata": {},
   "outputs": [
    {
     "name": "stdout",
     "output_type": "stream",
     "text": [
      "{}\n"
     ]
    }
   ],
   "source": [
    "print(dict(zip(list_validate_dates_piercing, list_new_sign_piercing)))"
   ]
  },
  {
   "cell_type": "code",
   "execution_count": 21,
   "metadata": {},
   "outputs": [],
   "source": [
    "list_validate_dates_morningstar = []\n",
    "list_new_sign_morningstar = []\n",
    "list_sign_morningstar = [0] * len(list_all_dates)\n",
    "for date in list_dates_morningstar:\n",
    "    i = u.check_intensity_trend(df, date, window_size, slope_size)\n",
    "    if(i >= 0):\n",
    "        list_validate_dates_morningstar.append(date)\n",
    "        list_new_sign_morningstar.append(i*100)\n",
    "        list_sign_morningstar[list_all_dates.index(date)] = i*100\n",
    "    # else:\n",
    "    #     list_sign_morningstar.append(0)"
   ]
  },
  {
   "cell_type": "code",
   "execution_count": 22,
   "metadata": {},
   "outputs": [
    {
     "name": "stdout",
     "output_type": "stream",
     "text": [
      "{}\n"
     ]
    }
   ],
   "source": [
    "print(dict(zip(list_validate_dates_morningstar, list_new_sign_morningstar)))"
   ]
  },
  {
   "cell_type": "code",
   "execution_count": 23,
   "metadata": {},
   "outputs": [],
   "source": [
    "list_validate_dates_bullishengulfing = []\n",
    "list_new_sign_bullishengulfing = []\n",
    "list_sign_bullishengulfing = [0] * len(list_all_dates)\n",
    "for date in list_dates_bullishengulfing:\n",
    "    i = u.check_intensity_trend(df, date, window_size, slope_size)\n",
    "    # print(f'date:{date}|i:{i}')\n",
    "    if(i >= 0):\n",
    "        list_validate_dates_bullishengulfing.append(date)\n",
    "        list_new_sign_bullishengulfing.append(i*100)\n",
    "        list_sign_bullishengulfing[list_all_dates.index(date)] = i*100\n",
    "    # else:\n",
    "    #     list_new_sign_bullishengulfing.append(0)\n",
    "    #     list_sign_bullishengulfing.append(0)"
   ]
  },
  {
   "cell_type": "code",
   "execution_count": 24,
   "metadata": {},
   "outputs": [
    {
     "name": "stdout",
     "output_type": "stream",
     "text": [
      "{'2020-02-11': 7.925236628009663, '2020-02-14': 80.86531971158047, '2020-03-30': 59.54326238856235, '2020-04-29': 16.21884003009165, '2020-05-05': 69.36146168910015, '2020-05-27': 18.423413270464888, '2020-07-12': 16.08372934787397, '2020-08-24': 51.64014772110141, '2020-12-28': 47.193177276659306, '2021-01-13': 67.18801545522747, '2021-01-18': 1.7051430297489827, '2021-02-05': 10.23504923815733, '2021-03-01': 20.05739241874797, '2021-04-08': 62.5001990090026, '2021-06-09': 52.999049242139805, '2021-08-04': 68.37242657148747, '2021-08-27': 47.92506345735521, '2021-09-22': 54.04451935943222, '2022-02-14': 66.39057404592256, '2022-03-18': 30.457807526254694, '2022-04-03': 70.81805875251233, '2022-08-05': 57.73502975179646}\n"
     ]
    }
   ],
   "source": [
    "print(dict(zip(list_validate_dates_bullishengulfing, list_new_sign_bullishengulfing)))"
   ]
  },
  {
   "cell_type": "markdown",
   "metadata": {},
   "source": [
    "#### Get the amount of candlesticks patterns (after check)"
   ]
  },
  {
   "cell_type": "code",
   "execution_count": 25,
   "metadata": {},
   "outputs": [
    {
     "name": "stdout",
     "output_type": "stream",
     "text": [
      "AFTER: number of inverted hammer:0\n",
      "AFTER: number of hammer:16\n",
      "AFTER: number of piercing:0\n",
      "AFTER: number of morning star:0\n",
      "AFTER: number of bullish engulfing:22\n"
     ]
    }
   ],
   "source": [
    "print(f'AFTER: number of inverted hammer:{len(list_validate_dates_invertedhammer)}')\n",
    "print(f'AFTER: number of hammer:{len(list_validate_dates_hammer)}')\n",
    "print(f'AFTER: number of piercing:{len(list_validate_dates_piercing)}')\n",
    "print(f'AFTER: number of morning star:{len(list_validate_dates_morningstar)}')\n",
    "print(f'AFTER: number of bullish engulfing:{len(list_validate_dates_bullishengulfing)}')"
   ]
  },
  {
   "cell_type": "markdown",
   "metadata": {},
   "source": [
    "### Plot some results"
   ]
  },
  {
   "cell_type": "markdown",
   "metadata": {},
   "source": [
    "#### Inverted Hammer"
   ]
  },
  {
   "cell_type": "code",
   "execution_count": 26,
   "metadata": {},
   "outputs": [
    {
     "ename": "ValueError",
     "evalue": "empty range for randrange() (0, 0, 0)",
     "output_type": "error",
     "traceback": [
      "\u001b[0;31m---------------------------------------------------------------------------\u001b[0m",
      "\u001b[0;31mValueError\u001b[0m                                Traceback (most recent call last)",
      "\u001b[1;32m/Users/lcjr86/de Jesus Lallement Dropbox/Luiz Carlos de Jesus Junior/msc_uol_ai_dissertation/notebooks/21_validate_candlestick_patterns_intensity_index.ipynb Cell 35\u001b[0m in \u001b[0;36m<cell line: 1>\u001b[0;34m()\u001b[0m\n\u001b[0;32m----> <a href='vscode-notebook-cell:/Users/lcjr86/de%20Jesus%20Lallement%20Dropbox/Luiz%20Carlos%20de%20Jesus%20Junior/msc_uol_ai_dissertation/notebooks/21_validate_candlestick_patterns_intensity_index.ipynb#X42sZmlsZQ%3D%3D?line=0'>1</a>\u001b[0m random_date \u001b[39m=\u001b[39m random\u001b[39m.\u001b[39;49mrandint(\u001b[39m0\u001b[39;49m, \u001b[39mlen\u001b[39;49m(list_validate_dates_invertedhammer)\u001b[39m-\u001b[39;49m\u001b[39m1\u001b[39;49m)\n\u001b[1;32m      <a href='vscode-notebook-cell:/Users/lcjr86/de%20Jesus%20Lallement%20Dropbox/Luiz%20Carlos%20de%20Jesus%20Junior/msc_uol_ai_dissertation/notebooks/21_validate_candlestick_patterns_intensity_index.ipynb#X42sZmlsZQ%3D%3D?line=1'>2</a>\u001b[0m \u001b[39mprint\u001b[39m(df\u001b[39m.\u001b[39mindex\u001b[39m.\u001b[39mget_loc(list_validate_dates_invertedhammer[random_date]))\n\u001b[1;32m      <a href='vscode-notebook-cell:/Users/lcjr86/de%20Jesus%20Lallement%20Dropbox/Luiz%20Carlos%20de%20Jesus%20Junior/msc_uol_ai_dissertation/notebooks/21_validate_candlestick_patterns_intensity_index.ipynb#X42sZmlsZQ%3D%3D?line=2'>3</a>\u001b[0m \u001b[39mprint\u001b[39m(list_validate_dates_invertedhammer[random_date])\n",
      "File \u001b[0;32m/opt/homebrew/Caskroom/miniforge/base/envs/msc_uol_ai_dissertation/lib/python3.8/random.py:248\u001b[0m, in \u001b[0;36mRandom.randint\u001b[0;34m(self, a, b)\u001b[0m\n\u001b[1;32m    244\u001b[0m \u001b[39mdef\u001b[39;00m \u001b[39mrandint\u001b[39m(\u001b[39mself\u001b[39m, a, b):\n\u001b[1;32m    245\u001b[0m     \u001b[39m\"\"\"Return random integer in range [a, b], including both end points.\u001b[39;00m\n\u001b[1;32m    246\u001b[0m \u001b[39m    \"\"\"\u001b[39;00m\n\u001b[0;32m--> 248\u001b[0m     \u001b[39mreturn\u001b[39;00m \u001b[39mself\u001b[39;49m\u001b[39m.\u001b[39;49mrandrange(a, b\u001b[39m+\u001b[39;49m\u001b[39m1\u001b[39;49m)\n",
      "File \u001b[0;32m/opt/homebrew/Caskroom/miniforge/base/envs/msc_uol_ai_dissertation/lib/python3.8/random.py:226\u001b[0m, in \u001b[0;36mRandom.randrange\u001b[0;34m(self, start, stop, step, _int)\u001b[0m\n\u001b[1;32m    224\u001b[0m     \u001b[39mreturn\u001b[39;00m istart \u001b[39m+\u001b[39m \u001b[39mself\u001b[39m\u001b[39m.\u001b[39m_randbelow(width)\n\u001b[1;32m    225\u001b[0m \u001b[39mif\u001b[39;00m step \u001b[39m==\u001b[39m \u001b[39m1\u001b[39m:\n\u001b[0;32m--> 226\u001b[0m     \u001b[39mraise\u001b[39;00m \u001b[39mValueError\u001b[39;00m(\u001b[39m\"\u001b[39m\u001b[39mempty range for randrange() (\u001b[39m\u001b[39m%d\u001b[39;00m\u001b[39m, \u001b[39m\u001b[39m%d\u001b[39;00m\u001b[39m, \u001b[39m\u001b[39m%d\u001b[39;00m\u001b[39m)\u001b[39m\u001b[39m\"\u001b[39m \u001b[39m%\u001b[39m (istart, istop, width))\n\u001b[1;32m    228\u001b[0m \u001b[39m# Non-unit step argument supplied.\u001b[39;00m\n\u001b[1;32m    229\u001b[0m istep \u001b[39m=\u001b[39m _int(step)\n",
      "\u001b[0;31mValueError\u001b[0m: empty range for randrange() (0, 0, 0)"
     ]
    }
   ],
   "source": [
    "random_date = random.randint(0, len(list_validate_dates_invertedhammer)-1)\n",
    "print(df.index.get_loc(list_validate_dates_invertedhammer[random_date]))\n",
    "print(list_validate_dates_invertedhammer[random_date])\n",
    "print(list_new_sign_invertedhammer[random_date])\n",
    "idx = df.index.get_loc(list_validate_dates_invertedhammer[random_date])\n",
    "df_temp = df.iloc[idx - window_size :idx + 1]\n",
    "mpf.plot(df_temp, type='candle', figsize=(10,4))"
   ]
  },
  {
   "cell_type": "markdown",
   "metadata": {},
   "source": [
    "#### Hammer"
   ]
  },
  {
   "cell_type": "code",
   "execution_count": 27,
   "metadata": {},
   "outputs": [
    {
     "name": "stdout",
     "output_type": "stream",
     "text": [
      "326\n",
      "2020-11-22\n",
      "70.01064528913042\n"
     ]
    },
    {
     "data": {
      "image/png": "[encoded data removed]",
      "text/plain": [
       "<Figure size 720x288 with 2 Axes>"
      ]
     },
     "metadata": {
      "needs_background": "light"
     },
     "output_type": "display_data"
    }
   ],
   "source": [
    "random_date = random.randint(0, len(list_validate_dates_hammer)-1)\n",
    "print(df.index.get_loc(list_validate_dates_hammer[random_date]))\n",
    "print(list_validate_dates_hammer[random_date])\n",
    "print(list_new_sign_hammer[random_date])\n",
    "idx = df.index.get_loc(list_validate_dates_hammer[random_date])\n",
    "df_temp = df.iloc[idx - window_size :idx + 1]\n",
    "mpf.plot(df_temp, type='candle', figsize=(10,4))"
   ]
  },
  {
   "cell_type": "markdown",
   "metadata": {},
   "source": [
    "#### Piercing"
   ]
  },
  {
   "cell_type": "code",
   "execution_count": 28,
   "metadata": {},
   "outputs": [
    {
     "ename": "ValueError",
     "evalue": "empty range for randrange() (0, 0, 0)",
     "output_type": "error",
     "traceback": [
      "\u001b[0;31m---------------------------------------------------------------------------\u001b[0m",
      "\u001b[0;31mValueError\u001b[0m                                Traceback (most recent call last)",
      "\u001b[1;32m/Users/lcjr86/de Jesus Lallement Dropbox/Luiz Carlos de Jesus Junior/msc_uol_ai_dissertation/notebooks/21_validate_candlestick_patterns_intensity_index.ipynb Cell 39\u001b[0m in \u001b[0;36m<cell line: 1>\u001b[0;34m()\u001b[0m\n\u001b[0;32m----> <a href='vscode-notebook-cell:/Users/lcjr86/de%20Jesus%20Lallement%20Dropbox/Luiz%20Carlos%20de%20Jesus%20Junior/msc_uol_ai_dissertation/notebooks/21_validate_candlestick_patterns_intensity_index.ipynb#X46sZmlsZQ%3D%3D?line=0'>1</a>\u001b[0m random_date \u001b[39m=\u001b[39m random\u001b[39m.\u001b[39;49mrandint(\u001b[39m0\u001b[39;49m, \u001b[39mlen\u001b[39;49m(list_validate_dates_piercing)\u001b[39m-\u001b[39;49m\u001b[39m1\u001b[39;49m)\n\u001b[1;32m      <a href='vscode-notebook-cell:/Users/lcjr86/de%20Jesus%20Lallement%20Dropbox/Luiz%20Carlos%20de%20Jesus%20Junior/msc_uol_ai_dissertation/notebooks/21_validate_candlestick_patterns_intensity_index.ipynb#X46sZmlsZQ%3D%3D?line=1'>2</a>\u001b[0m \u001b[39mprint\u001b[39m(df\u001b[39m.\u001b[39mindex\u001b[39m.\u001b[39mget_loc(list_validate_dates_piercing[random_date]))\n\u001b[1;32m      <a href='vscode-notebook-cell:/Users/lcjr86/de%20Jesus%20Lallement%20Dropbox/Luiz%20Carlos%20de%20Jesus%20Junior/msc_uol_ai_dissertation/notebooks/21_validate_candlestick_patterns_intensity_index.ipynb#X46sZmlsZQ%3D%3D?line=2'>3</a>\u001b[0m \u001b[39mprint\u001b[39m(list_validate_dates_piercing[random_date])\n",
      "File \u001b[0;32m/opt/homebrew/Caskroom/miniforge/base/envs/msc_uol_ai_dissertation/lib/python3.8/random.py:248\u001b[0m, in \u001b[0;36mRandom.randint\u001b[0;34m(self, a, b)\u001b[0m\n\u001b[1;32m    244\u001b[0m \u001b[39mdef\u001b[39;00m \u001b[39mrandint\u001b[39m(\u001b[39mself\u001b[39m, a, b):\n\u001b[1;32m    245\u001b[0m     \u001b[39m\"\"\"Return random integer in range [a, b], including both end points.\u001b[39;00m\n\u001b[1;32m    246\u001b[0m \u001b[39m    \"\"\"\u001b[39;00m\n\u001b[0;32m--> 248\u001b[0m     \u001b[39mreturn\u001b[39;00m \u001b[39mself\u001b[39;49m\u001b[39m.\u001b[39;49mrandrange(a, b\u001b[39m+\u001b[39;49m\u001b[39m1\u001b[39;49m)\n",
      "File \u001b[0;32m/opt/homebrew/Caskroom/miniforge/base/envs/msc_uol_ai_dissertation/lib/python3.8/random.py:226\u001b[0m, in \u001b[0;36mRandom.randrange\u001b[0;34m(self, start, stop, step, _int)\u001b[0m\n\u001b[1;32m    224\u001b[0m     \u001b[39mreturn\u001b[39;00m istart \u001b[39m+\u001b[39m \u001b[39mself\u001b[39m\u001b[39m.\u001b[39m_randbelow(width)\n\u001b[1;32m    225\u001b[0m \u001b[39mif\u001b[39;00m step \u001b[39m==\u001b[39m \u001b[39m1\u001b[39m:\n\u001b[0;32m--> 226\u001b[0m     \u001b[39mraise\u001b[39;00m \u001b[39mValueError\u001b[39;00m(\u001b[39m\"\u001b[39m\u001b[39mempty range for randrange() (\u001b[39m\u001b[39m%d\u001b[39;00m\u001b[39m, \u001b[39m\u001b[39m%d\u001b[39;00m\u001b[39m, \u001b[39m\u001b[39m%d\u001b[39;00m\u001b[39m)\u001b[39m\u001b[39m\"\u001b[39m \u001b[39m%\u001b[39m (istart, istop, width))\n\u001b[1;32m    228\u001b[0m \u001b[39m# Non-unit step argument supplied.\u001b[39;00m\n\u001b[1;32m    229\u001b[0m istep \u001b[39m=\u001b[39m _int(step)\n",
      "\u001b[0;31mValueError\u001b[0m: empty range for randrange() (0, 0, 0)"
     ]
    }
   ],
   "source": [
    "random_date = random.randint(0, len(list_validate_dates_piercing)-1)\n",
    "print(df.index.get_loc(list_validate_dates_piercing[random_date]))\n",
    "print(list_validate_dates_piercing[random_date])\n",
    "print(list_new_sign_piercing[random_date])\n",
    "idx = df.index.get_loc(list_validate_dates_piercing[random_date])\n",
    "df_temp = df.iloc[idx - window_size :idx + 1]\n",
    "mpf.plot(df_temp, type='candle', figsize=(10,4))"
   ]
  },
  {
   "cell_type": "markdown",
   "metadata": {},
   "source": [
    "#### Morning Star"
   ]
  },
  {
   "cell_type": "code",
   "execution_count": 29,
   "metadata": {},
   "outputs": [
    {
     "ename": "ValueError",
     "evalue": "empty range for randrange() (0, 0, 0)",
     "output_type": "error",
     "traceback": [
      "\u001b[0;31m---------------------------------------------------------------------------\u001b[0m",
      "\u001b[0;31mValueError\u001b[0m                                Traceback (most recent call last)",
      "\u001b[1;32m/Users/lcjr86/de Jesus Lallement Dropbox/Luiz Carlos de Jesus Junior/msc_uol_ai_dissertation/notebooks/21_validate_candlestick_patterns_intensity_index.ipynb Cell 41\u001b[0m in \u001b[0;36m<cell line: 1>\u001b[0;34m()\u001b[0m\n\u001b[0;32m----> <a href='vscode-notebook-cell:/Users/lcjr86/de%20Jesus%20Lallement%20Dropbox/Luiz%20Carlos%20de%20Jesus%20Junior/msc_uol_ai_dissertation/notebooks/21_validate_candlestick_patterns_intensity_index.ipynb#X51sZmlsZQ%3D%3D?line=0'>1</a>\u001b[0m random_date \u001b[39m=\u001b[39m random\u001b[39m.\u001b[39;49mrandint(\u001b[39m0\u001b[39;49m, \u001b[39mlen\u001b[39;49m(list_validate_dates_morningstar)\u001b[39m-\u001b[39;49m\u001b[39m1\u001b[39;49m)\n\u001b[1;32m      <a href='vscode-notebook-cell:/Users/lcjr86/de%20Jesus%20Lallement%20Dropbox/Luiz%20Carlos%20de%20Jesus%20Junior/msc_uol_ai_dissertation/notebooks/21_validate_candlestick_patterns_intensity_index.ipynb#X51sZmlsZQ%3D%3D?line=1'>2</a>\u001b[0m \u001b[39mprint\u001b[39m(df\u001b[39m.\u001b[39mindex\u001b[39m.\u001b[39mget_loc(list_validate_dates_morningstar[random_date]))\n\u001b[1;32m      <a href='vscode-notebook-cell:/Users/lcjr86/de%20Jesus%20Lallement%20Dropbox/Luiz%20Carlos%20de%20Jesus%20Junior/msc_uol_ai_dissertation/notebooks/21_validate_candlestick_patterns_intensity_index.ipynb#X51sZmlsZQ%3D%3D?line=2'>3</a>\u001b[0m \u001b[39mprint\u001b[39m(list_validate_dates_morningstar[random_date])\n",
      "File \u001b[0;32m/opt/homebrew/Caskroom/miniforge/base/envs/msc_uol_ai_dissertation/lib/python3.8/random.py:248\u001b[0m, in \u001b[0;36mRandom.randint\u001b[0;34m(self, a, b)\u001b[0m\n\u001b[1;32m    244\u001b[0m \u001b[39mdef\u001b[39;00m \u001b[39mrandint\u001b[39m(\u001b[39mself\u001b[39m, a, b):\n\u001b[1;32m    245\u001b[0m     \u001b[39m\"\"\"Return random integer in range [a, b], including both end points.\u001b[39;00m\n\u001b[1;32m    246\u001b[0m \u001b[39m    \"\"\"\u001b[39;00m\n\u001b[0;32m--> 248\u001b[0m     \u001b[39mreturn\u001b[39;00m \u001b[39mself\u001b[39;49m\u001b[39m.\u001b[39;49mrandrange(a, b\u001b[39m+\u001b[39;49m\u001b[39m1\u001b[39;49m)\n",
      "File \u001b[0;32m/opt/homebrew/Caskroom/miniforge/base/envs/msc_uol_ai_dissertation/lib/python3.8/random.py:226\u001b[0m, in \u001b[0;36mRandom.randrange\u001b[0;34m(self, start, stop, step, _int)\u001b[0m\n\u001b[1;32m    224\u001b[0m     \u001b[39mreturn\u001b[39;00m istart \u001b[39m+\u001b[39m \u001b[39mself\u001b[39m\u001b[39m.\u001b[39m_randbelow(width)\n\u001b[1;32m    225\u001b[0m \u001b[39mif\u001b[39;00m step \u001b[39m==\u001b[39m \u001b[39m1\u001b[39m:\n\u001b[0;32m--> 226\u001b[0m     \u001b[39mraise\u001b[39;00m \u001b[39mValueError\u001b[39;00m(\u001b[39m\"\u001b[39m\u001b[39mempty range for randrange() (\u001b[39m\u001b[39m%d\u001b[39;00m\u001b[39m, \u001b[39m\u001b[39m%d\u001b[39;00m\u001b[39m, \u001b[39m\u001b[39m%d\u001b[39;00m\u001b[39m)\u001b[39m\u001b[39m\"\u001b[39m \u001b[39m%\u001b[39m (istart, istop, width))\n\u001b[1;32m    228\u001b[0m \u001b[39m# Non-unit step argument supplied.\u001b[39;00m\n\u001b[1;32m    229\u001b[0m istep \u001b[39m=\u001b[39m _int(step)\n",
      "\u001b[0;31mValueError\u001b[0m: empty range for randrange() (0, 0, 0)"
     ]
    }
   ],
   "source": [
    "random_date = random.randint(0, len(list_validate_dates_morningstar)-1)\n",
    "print(df.index.get_loc(list_validate_dates_morningstar[random_date]))\n",
    "print(list_validate_dates_morningstar[random_date])\n",
    "print(list_new_sign_morningstar[random_date])\n",
    "idx = df.index.get_loc(list_validate_dates_morningstar[random_date])\n",
    "df_temp = df.iloc[idx - window_size :idx + 1]\n",
    "mpf.plot(df_temp, type='candle', figsize=(10,4))"
   ]
  },
  {
   "cell_type": "markdown",
   "metadata": {},
   "source": [
    "#### Bullish engulfing"
   ]
  },
  {
   "cell_type": "code",
   "execution_count": 30,
   "metadata": {},
   "outputs": [
    {
     "name": "stdout",
     "output_type": "stream",
     "text": [
      "44\n",
      "2020-02-14\n",
      "80.86531971158047\n"
     ]
    },
    {
     "data": {
      "image/png": "[encoded data removed]",
      "text/plain": [
       "<Figure size 1000x400 with 2 Axes>"
      ]
     },
     "metadata": {},
     "output_type": "display_data"
    }
   ],
   "source": [
    "random_date = random.randint(0, len(list_validate_dates_bullishengulfing)-1)\n",
    "print(df.index.get_loc(list_validate_dates_bullishengulfing[random_date]))\n",
    "print(list_validate_dates_bullishengulfing[random_date])\n",
    "print(list_new_sign_bullishengulfing[random_date])\n",
    "idx = df.index.get_loc(list_validate_dates_bullishengulfing[random_date])\n",
    "df_temp = df.iloc[idx - window_size :idx + 1]\n",
    "mpf.plot(df_temp, type='candle', figsize=(10,4))"
   ]
  },
  {
   "cell_type": "markdown",
   "metadata": {},
   "source": [
    "### Get the dates from the bearish candlesticks patterns"
   ]
  },
  {
   "cell_type": "code",
   "execution_count": 31,
   "metadata": {},
   "outputs": [],
   "source": [
    "list_dates_shootingstar = df[df['CDLSHOOTINGSTAR'] == -100]['formatted_open_time'].to_list()\n",
    "list_dates_hangingman = df[df['CDLHANGINGMAN'] == -100]['formatted_open_time'].to_list()\n",
    "list_dates_darkcloudcover = df[df['CDLDARKCLOUDCOVER'] == -100]['formatted_open_time'].to_list()\n",
    "list_dates_eveningstar = df[df['CDLEVENINGSTAR'] == -100]['formatted_open_time'].to_list()\n",
    "list_dates_bearishengulfing = df[df['CDLENGULFINGBEARISH'] == -100]['formatted_open_time'].to_list()"
   ]
  },
  {
   "cell_type": "markdown",
   "metadata": {},
   "source": [
    "#### Get the amount of candlesticks patterns (before check)"
   ]
  },
  {
   "cell_type": "code",
   "execution_count": 32,
   "metadata": {},
   "outputs": [
    {
     "name": "stdout",
     "output_type": "stream",
     "text": [
      "BEFORE: number of shooting star:0\n",
      "BEFORE: number of hangingman:13\n",
      "BEFORE: number of dark cloud cover:0\n",
      "BEFORE: number of evening star:1\n",
      "BEFORE: number of bearish engulfing:36\n"
     ]
    }
   ],
   "source": [
    "print(f'BEFORE: number of shooting star:{len(list_dates_shootingstar)}')\n",
    "print(f'BEFORE: number of hangingman:{len(list_dates_hangingman)}')\n",
    "print(f'BEFORE: number of dark cloud cover:{len(list_dates_darkcloudcover)}')\n",
    "print(f'BEFORE: number of evening star:{len(list_dates_eveningstar)}')\n",
    "print(f'BEFORE: number of bearish engulfing:{len(list_dates_bearishengulfing)}')"
   ]
  },
  {
   "cell_type": "markdown",
   "metadata": {},
   "source": [
    "#### Run the checks to identify the real candlesticks with reversal"
   ]
  },
  {
   "cell_type": "code",
   "execution_count": 33,
   "metadata": {},
   "outputs": [],
   "source": [
    "list_validate_dates_shootingstar = []\n",
    "list_new_sign_shootingstar = []\n",
    "list_sign_shootingstar = [0] * len(list_all_dates)\n",
    "for date in list_dates_shootingstar:\n",
    "    i = u.check_intensity_trend(df, date, window_size, slope_size)\n",
    "    if (i<=0):\n",
    "        list_validate_dates_shootingstar.append(date)\n",
    "        list_new_sign_shootingstar.append(i*100)\n",
    "        list_sign_shootingstar[list_all_dates.index(date)] = i*100\n",
    "    # else:\n",
    "    #     list_sign_shootingstar.append(0)                    "
   ]
  },
  {
   "cell_type": "code",
   "execution_count": 51,
   "metadata": {},
   "outputs": [
    {
     "name": "stdout",
     "output_type": "stream",
     "text": [
      "{}\n"
     ]
    }
   ],
   "source": [
    "print(dict(zip(list_validate_dates_shootingstar, list_new_sign_shootingstar)))"
   ]
  },
  {
   "cell_type": "code",
   "execution_count": 34,
   "metadata": {},
   "outputs": [],
   "source": [
    "list_validate_dates_hangingman = []\n",
    "list_new_sign_hangingman = []\n",
    "list_sign_hangingman = [0] * len(list_all_dates)\n",
    "for date in list_dates_hangingman:\n",
    "    i = u.check_intensity_trend(df, date, window_size, slope_size)\n",
    "    if (i<=0):\n",
    "        list_validate_dates_hangingman.append(date)\n",
    "        list_new_sign_hangingman.append(i*100)\n",
    "        list_sign_hangingman[list_all_dates.index(date)] = i*100\n",
    "    # else:\n",
    "    #     list_sign_hangingman.append(0)         "
   ]
  },
  {
   "cell_type": "code",
   "execution_count": 52,
   "metadata": {},
   "outputs": [
    {
     "name": "stdout",
     "output_type": "stream",
     "text": [
      "{'2020-03-18': -75.48217169712446, '2020-09-12': -67.25130481706013, '2020-12-06': -28.46672812771604, '2021-03-06': -57.710588848107825, '2022-06-25': -65.07567101895104, '2022-09-11': -49.23833524269791}\n"
     ]
    }
   ],
   "source": [
    "print(dict(zip(list_validate_dates_hangingman, list_new_sign_hangingman)))"
   ]
  },
  {
   "cell_type": "code",
   "execution_count": 35,
   "metadata": {},
   "outputs": [],
   "source": [
    "list_validate_dates_darkcloudcover = []\n",
    "list_new_sign_darkcloudcover = []\n",
    "list_sign_darkcloudcover = [0] * len(list_all_dates)\n",
    "for date in list_dates_darkcloudcover:\n",
    "    i = u.check_intensity_trend(df, date, window_size, slope_size)\n",
    "    if (i<=0):\n",
    "        list_validate_dates_darkcloudcover.append(date)\n",
    "        list_new_sign_darkcloudcover.append(i*100)\n",
    "        list_sign_darkcloudcover[list_all_dates.index(date)] = i*100   \n",
    "    # else:\n",
    "    #     list_sign_darkcloudcover.append(0)          "
   ]
  },
  {
   "cell_type": "code",
   "execution_count": 53,
   "metadata": {},
   "outputs": [
    {
     "name": "stdout",
     "output_type": "stream",
     "text": [
      "{}\n"
     ]
    }
   ],
   "source": [
    "print(dict(zip(list_validate_dates_darkcloudcover, list_new_sign_darkcloudcover)))"
   ]
  },
  {
   "cell_type": "code",
   "execution_count": 36,
   "metadata": {},
   "outputs": [],
   "source": [
    "list_validate_dates_eveningstar = []\n",
    "list_new_sign_eveningstar = []\n",
    "list_sign_eveningstar = [0] * len(list_all_dates)\n",
    "for date in list_dates_eveningstar:\n",
    "    i = u.check_intensity_trend(df, date, window_size, slope_size)\n",
    "    if (i<=0):\n",
    "        list_validate_dates_eveningstar.append(date)\n",
    "        list_new_sign_eveningstar.append(i*100)\n",
    "        list_sign_eveningstar[list_all_dates.index(date)] = i*100\n",
    "    # else:\n",
    "    #     list_sign_eveningstar.append(0)         "
   ]
  },
  {
   "cell_type": "code",
   "execution_count": 54,
   "metadata": {},
   "outputs": [
    {
     "name": "stdout",
     "output_type": "stream",
     "text": [
      "{'2022-06-01': -39.42775172631308}\n"
     ]
    }
   ],
   "source": [
    "print(dict(zip(list_validate_dates_eveningstar, list_new_sign_eveningstar)))"
   ]
  },
  {
   "cell_type": "code",
   "execution_count": 37,
   "metadata": {},
   "outputs": [],
   "source": [
    "list_validate_dates_bearishengulfing = []\n",
    "list_new_sign_bearishengulfing = []\n",
    "list_sign_bearishengulfing = [0] * len(list_all_dates)\n",
    "for date in list_dates_bearishengulfing:\n",
    "    i = u.check_intensity_trend(df, date, window_size, slope_size)\n",
    "    if (i<=0):\n",
    "        list_validate_dates_bearishengulfing.append(date)\n",
    "        list_new_sign_bearishengulfing.append(i*100)\n",
    "        list_sign_bearishengulfing[list_all_dates.index(date)] = i*100\n",
    "    # else:\n",
    "    #     list_sign_bearishengulfing.append(0)         "
   ]
  },
  {
   "cell_type": "code",
   "execution_count": 55,
   "metadata": {},
   "outputs": [
    {
     "name": "stdout",
     "output_type": "stream",
     "text": [
      "{'2020-09-08': -22.226372002860153, '2020-09-28': -59.42745649003929, '2020-12-04': -22.209606852592657, '2021-01-31': -55.66728281850365, '2021-03-24': -24.174555666039975, '2021-05-23': -79.55751625268196, '2021-07-05': -20.188165431450138, '2021-07-12': -41.899537073310285, '2021-07-15': -68.61129999661732, '2021-07-19': -23.557585791115827, '2021-09-07': -0.9564266621357388, '2021-09-19': -28.858776629521778, '2021-11-26': -66.91765863603092, '2022-06-01': -39.42775172631308, '2022-08-09': -64.01190592217192, '2022-09-02': -66.79883940697763}\n"
     ]
    }
   ],
   "source": [
    "print(dict(zip(list_validate_dates_bearishengulfing, list_new_sign_bearishengulfing)))"
   ]
  },
  {
   "cell_type": "markdown",
   "metadata": {},
   "source": [
    "#### Get the amount of candlesticks patterns (after check)"
   ]
  },
  {
   "cell_type": "code",
   "execution_count": 38,
   "metadata": {},
   "outputs": [
    {
     "name": "stdout",
     "output_type": "stream",
     "text": [
      "AFTER: number of shooting star:0\n",
      "AFTER: number of hangingman:6\n",
      "AFTER: number of dark cloud cover:0\n",
      "AFTER: number of evening star:1\n",
      "AFTER: number of bearish engulfoing:16\n"
     ]
    }
   ],
   "source": [
    "print(f'AFTER: number of shooting star:{len(list_validate_dates_shootingstar)}')\n",
    "print(f'AFTER: number of hangingman:{len(list_validate_dates_hangingman)}')\n",
    "print(f'AFTER: number of dark cloud cover:{len(list_validate_dates_darkcloudcover)}')\n",
    "print(f'AFTER: number of evening star:{len(list_validate_dates_eveningstar)}')\n",
    "print(f'AFTER: number of bearish engulfoing:{len(list_validate_dates_bearishengulfing)}')"
   ]
  },
  {
   "cell_type": "markdown",
   "metadata": {},
   "source": [
    "### Plot some results"
   ]
  },
  {
   "cell_type": "markdown",
   "metadata": {},
   "source": [
    "#### Shooting Star"
   ]
  },
  {
   "cell_type": "code",
   "execution_count": 39,
   "metadata": {},
   "outputs": [
    {
     "ename": "ValueError",
     "evalue": "empty range for randrange() (0, 0, 0)",
     "output_type": "error",
     "traceback": [
      "\u001b[0;31m---------------------------------------------------------------------------\u001b[0m",
      "\u001b[0;31mValueError\u001b[0m                                Traceback (most recent call last)",
      "\u001b[1;32m/Users/lcjr86/de Jesus Lallement Dropbox/Luiz Carlos de Jesus Junior/msc_uol_ai_dissertation/notebooks/21_validate_candlestick_patterns_intensity_index.ipynb Cell 58\u001b[0m in \u001b[0;36m<cell line: 1>\u001b[0;34m()\u001b[0m\n\u001b[0;32m----> <a href='vscode-notebook-cell:/Users/lcjr86/de%20Jesus%20Lallement%20Dropbox/Luiz%20Carlos%20de%20Jesus%20Junior/msc_uol_ai_dissertation/notebooks/21_validate_candlestick_patterns_intensity_index.ipynb#Y104sZmlsZQ%3D%3D?line=0'>1</a>\u001b[0m random_date \u001b[39m=\u001b[39m random\u001b[39m.\u001b[39;49mrandint(\u001b[39m0\u001b[39;49m, \u001b[39mlen\u001b[39;49m(list_validate_dates_shootingstar)\u001b[39m-\u001b[39;49m\u001b[39m1\u001b[39;49m)\n\u001b[1;32m      <a href='vscode-notebook-cell:/Users/lcjr86/de%20Jesus%20Lallement%20Dropbox/Luiz%20Carlos%20de%20Jesus%20Junior/msc_uol_ai_dissertation/notebooks/21_validate_candlestick_patterns_intensity_index.ipynb#Y104sZmlsZQ%3D%3D?line=1'>2</a>\u001b[0m \u001b[39mprint\u001b[39m(df\u001b[39m.\u001b[39mindex\u001b[39m.\u001b[39mget_loc(list_validate_dates_shootingstar[random_date]))\n\u001b[1;32m      <a href='vscode-notebook-cell:/Users/lcjr86/de%20Jesus%20Lallement%20Dropbox/Luiz%20Carlos%20de%20Jesus%20Junior/msc_uol_ai_dissertation/notebooks/21_validate_candlestick_patterns_intensity_index.ipynb#Y104sZmlsZQ%3D%3D?line=2'>3</a>\u001b[0m \u001b[39mprint\u001b[39m(list_validate_dates_shootingstar[random_date])\n",
      "File \u001b[0;32m/opt/homebrew/Caskroom/miniforge/base/envs/msc_uol_ai_dissertation/lib/python3.8/random.py:248\u001b[0m, in \u001b[0;36mRandom.randint\u001b[0;34m(self, a, b)\u001b[0m\n\u001b[1;32m    244\u001b[0m \u001b[39mdef\u001b[39;00m \u001b[39mrandint\u001b[39m(\u001b[39mself\u001b[39m, a, b):\n\u001b[1;32m    245\u001b[0m     \u001b[39m\"\"\"Return random integer in range [a, b], including both end points.\u001b[39;00m\n\u001b[1;32m    246\u001b[0m \u001b[39m    \"\"\"\u001b[39;00m\n\u001b[0;32m--> 248\u001b[0m     \u001b[39mreturn\u001b[39;00m \u001b[39mself\u001b[39;49m\u001b[39m.\u001b[39;49mrandrange(a, b\u001b[39m+\u001b[39;49m\u001b[39m1\u001b[39;49m)\n",
      "File \u001b[0;32m/opt/homebrew/Caskroom/miniforge/base/envs/msc_uol_ai_dissertation/lib/python3.8/random.py:226\u001b[0m, in \u001b[0;36mRandom.randrange\u001b[0;34m(self, start, stop, step, _int)\u001b[0m\n\u001b[1;32m    224\u001b[0m     \u001b[39mreturn\u001b[39;00m istart \u001b[39m+\u001b[39m \u001b[39mself\u001b[39m\u001b[39m.\u001b[39m_randbelow(width)\n\u001b[1;32m    225\u001b[0m \u001b[39mif\u001b[39;00m step \u001b[39m==\u001b[39m \u001b[39m1\u001b[39m:\n\u001b[0;32m--> 226\u001b[0m     \u001b[39mraise\u001b[39;00m \u001b[39mValueError\u001b[39;00m(\u001b[39m\"\u001b[39m\u001b[39mempty range for randrange() (\u001b[39m\u001b[39m%d\u001b[39;00m\u001b[39m, \u001b[39m\u001b[39m%d\u001b[39;00m\u001b[39m, \u001b[39m\u001b[39m%d\u001b[39;00m\u001b[39m)\u001b[39m\u001b[39m\"\u001b[39m \u001b[39m%\u001b[39m (istart, istop, width))\n\u001b[1;32m    228\u001b[0m \u001b[39m# Non-unit step argument supplied.\u001b[39;00m\n\u001b[1;32m    229\u001b[0m istep \u001b[39m=\u001b[39m _int(step)\n",
      "\u001b[0;31mValueError\u001b[0m: empty range for randrange() (0, 0, 0)"
     ]
    }
   ],
   "source": [
    "random_date = random.randint(0, len(list_validate_dates_shootingstar)-1)\n",
    "print(df.index.get_loc(list_validate_dates_shootingstar[random_date]))\n",
    "print(list_validate_dates_shootingstar[random_date])\n",
    "print(list_new_sign_shootingstar[random_date])\n",
    "idx = df.index.get_loc(list_validate_dates_shootingstar[random_date])\n",
    "df_temp = df.iloc[idx - window_size :idx + 1]\n",
    "mpf.plot(df_temp, type='candle', figsize=(10,4))"
   ]
  },
  {
   "cell_type": "markdown",
   "metadata": {},
   "source": [
    "#### Hangingman"
   ]
  },
  {
   "cell_type": "code",
   "execution_count": 40,
   "metadata": {},
   "outputs": [
    {
     "name": "stdout",
     "output_type": "stream",
     "text": [
      "906\n",
      "2022-06-25\n",
      "-65.07567101895104\n"
     ]
    },
    {
     "data": {
      "image/png": "[encoded data removed]",
      "text/plain": [
       "<Figure size 1000x400 with 2 Axes>"
      ]
     },
     "metadata": {},
     "output_type": "display_data"
    }
   ],
   "source": [
    "random_date = random.randint(0, len(list_validate_dates_hangingman)-1)\n",
    "print(df.index.get_loc(list_validate_dates_hangingman[random_date]))\n",
    "print(list_validate_dates_hangingman[random_date])\n",
    "print(list_new_sign_hangingman[random_date])\n",
    "idx = df.index.get_loc(list_validate_dates_hangingman[random_date])\n",
    "df_temp = df.iloc[idx - window_size :idx + 1]\n",
    "mpf.plot(df_temp, type='candle', figsize=(10,4))"
   ]
  },
  {
   "cell_type": "markdown",
   "metadata": {},
   "source": [
    "#### Dark Cloud Cover"
   ]
  },
  {
   "cell_type": "code",
   "execution_count": 41,
   "metadata": {},
   "outputs": [
    {
     "ename": "ValueError",
     "evalue": "empty range for randrange() (0, 0, 0)",
     "output_type": "error",
     "traceback": [
      "\u001b[0;31m---------------------------------------------------------------------------\u001b[0m",
      "\u001b[0;31mValueError\u001b[0m                                Traceback (most recent call last)",
      "\u001b[1;32m/Users/lcjr86/de Jesus Lallement Dropbox/Luiz Carlos de Jesus Junior/msc_uol_ai_dissertation/notebooks/21_validate_candlestick_patterns_intensity_index.ipynb Cell 62\u001b[0m in \u001b[0;36m<cell line: 1>\u001b[0;34m()\u001b[0m\n\u001b[0;32m----> <a href='vscode-notebook-cell:/Users/lcjr86/de%20Jesus%20Lallement%20Dropbox/Luiz%20Carlos%20de%20Jesus%20Junior/msc_uol_ai_dissertation/notebooks/21_validate_candlestick_patterns_intensity_index.ipynb#Y111sZmlsZQ%3D%3D?line=0'>1</a>\u001b[0m random_date \u001b[39m=\u001b[39m random\u001b[39m.\u001b[39;49mrandint(\u001b[39m0\u001b[39;49m, \u001b[39mlen\u001b[39;49m(list_validate_dates_darkcloudcover)\u001b[39m-\u001b[39;49m\u001b[39m1\u001b[39;49m)\n\u001b[1;32m      <a href='vscode-notebook-cell:/Users/lcjr86/de%20Jesus%20Lallement%20Dropbox/Luiz%20Carlos%20de%20Jesus%20Junior/msc_uol_ai_dissertation/notebooks/21_validate_candlestick_patterns_intensity_index.ipynb#Y111sZmlsZQ%3D%3D?line=1'>2</a>\u001b[0m \u001b[39mprint\u001b[39m(df\u001b[39m.\u001b[39mindex\u001b[39m.\u001b[39mget_loc(list_validate_dates_darkcloudcover[random_date]))\n\u001b[1;32m      <a href='vscode-notebook-cell:/Users/lcjr86/de%20Jesus%20Lallement%20Dropbox/Luiz%20Carlos%20de%20Jesus%20Junior/msc_uol_ai_dissertation/notebooks/21_validate_candlestick_patterns_intensity_index.ipynb#Y111sZmlsZQ%3D%3D?line=2'>3</a>\u001b[0m \u001b[39mprint\u001b[39m(list_validate_dates_darkcloudcover[random_date])\n",
      "File \u001b[0;32m/opt/homebrew/Caskroom/miniforge/base/envs/msc_uol_ai_dissertation/lib/python3.8/random.py:248\u001b[0m, in \u001b[0;36mRandom.randint\u001b[0;34m(self, a, b)\u001b[0m\n\u001b[1;32m    244\u001b[0m \u001b[39mdef\u001b[39;00m \u001b[39mrandint\u001b[39m(\u001b[39mself\u001b[39m, a, b):\n\u001b[1;32m    245\u001b[0m     \u001b[39m\"\"\"Return random integer in range [a, b], including both end points.\u001b[39;00m\n\u001b[1;32m    246\u001b[0m \u001b[39m    \"\"\"\u001b[39;00m\n\u001b[0;32m--> 248\u001b[0m     \u001b[39mreturn\u001b[39;00m \u001b[39mself\u001b[39;49m\u001b[39m.\u001b[39;49mrandrange(a, b\u001b[39m+\u001b[39;49m\u001b[39m1\u001b[39;49m)\n",
      "File \u001b[0;32m/opt/homebrew/Caskroom/miniforge/base/envs/msc_uol_ai_dissertation/lib/python3.8/random.py:226\u001b[0m, in \u001b[0;36mRandom.randrange\u001b[0;34m(self, start, stop, step, _int)\u001b[0m\n\u001b[1;32m    224\u001b[0m     \u001b[39mreturn\u001b[39;00m istart \u001b[39m+\u001b[39m \u001b[39mself\u001b[39m\u001b[39m.\u001b[39m_randbelow(width)\n\u001b[1;32m    225\u001b[0m \u001b[39mif\u001b[39;00m step \u001b[39m==\u001b[39m \u001b[39m1\u001b[39m:\n\u001b[0;32m--> 226\u001b[0m     \u001b[39mraise\u001b[39;00m \u001b[39mValueError\u001b[39;00m(\u001b[39m\"\u001b[39m\u001b[39mempty range for randrange() (\u001b[39m\u001b[39m%d\u001b[39;00m\u001b[39m, \u001b[39m\u001b[39m%d\u001b[39;00m\u001b[39m, \u001b[39m\u001b[39m%d\u001b[39;00m\u001b[39m)\u001b[39m\u001b[39m\"\u001b[39m \u001b[39m%\u001b[39m (istart, istop, width))\n\u001b[1;32m    228\u001b[0m \u001b[39m# Non-unit step argument supplied.\u001b[39;00m\n\u001b[1;32m    229\u001b[0m istep \u001b[39m=\u001b[39m _int(step)\n",
      "\u001b[0;31mValueError\u001b[0m: empty range for randrange() (0, 0, 0)"
     ]
    }
   ],
   "source": [
    "random_date = random.randint(0, len(list_validate_dates_darkcloudcover)-1)\n",
    "print(df.index.get_loc(list_validate_dates_darkcloudcover[random_date]))\n",
    "print(list_validate_dates_darkcloudcover[random_date])\n",
    "print(list_new_sign_darkcloudcover[random_date])\n",
    "idx = df.index.get_loc(list_validate_dates_darkcloudcover[random_date])\n",
    "df_temp = df.iloc[idx - window_size :idx + 1]\n",
    "mpf.plot(df_temp, type='candle', figsize=(10,4))"
   ]
  },
  {
   "cell_type": "markdown",
   "metadata": {},
   "source": [
    "#### Evening Star"
   ]
  },
  {
   "cell_type": "code",
   "execution_count": 42,
   "metadata": {},
   "outputs": [
    {
     "name": "stdout",
     "output_type": "stream",
     "text": [
      "882\n",
      "2022-06-01\n",
      "-39.42775172631308\n"
     ]
    },
    {
     "data": {
      "image/png": "[encoded data removed]",
      "text/plain": [
       "<Figure size 1000x400 with 2 Axes>"
      ]
     },
     "metadata": {},
     "output_type": "display_data"
    }
   ],
   "source": [
    "random_date = random.randint(0, len(list_validate_dates_eveningstar)-1)\n",
    "print(df.index.get_loc(list_validate_dates_eveningstar[random_date]))\n",
    "print(list_validate_dates_eveningstar[random_date])\n",
    "print(list_new_sign_eveningstar[random_date])\n",
    "idx = df.index.get_loc(list_validate_dates_eveningstar[random_date])\n",
    "df_temp = df.iloc[idx - window_size :idx + 1]\n",
    "mpf.plot(df_temp, type='candle', figsize=(10,4))"
   ]
  },
  {
   "cell_type": "markdown",
   "metadata": {},
   "source": [
    "#### Bearish Engulfing"
   ]
  },
  {
   "cell_type": "code",
   "execution_count": 43,
   "metadata": {},
   "outputs": [
    {
     "name": "stdout",
     "output_type": "stream",
     "text": [
      "251\n",
      "2020-09-08\n",
      "-22.226372002860153\n"
     ]
    },
    {
     "data": {
      "image/png": "[encoded data removed]",
      "text/plain": [
       "<Figure size 1000x400 with 2 Axes>"
      ]
     },
     "metadata": {},
     "output_type": "display_data"
    }
   ],
   "source": [
    "random_date = random.randint(0, len(list_validate_dates_bearishengulfing)-1)\n",
    "print(df.index.get_loc(list_validate_dates_bearishengulfing[random_date]))\n",
    "print(list_validate_dates_bearishengulfing[random_date])\n",
    "print(list_new_sign_bearishengulfing[random_date])\n",
    "idx = df.index.get_loc(list_validate_dates_bearishengulfing[random_date])\n",
    "df_temp = df.iloc[idx - window_size :idx + 1]\n",
    "mpf.plot(df_temp, type='candle', figsize=(10,4))"
   ]
  },
  {
   "cell_type": "markdown",
   "metadata": {},
   "source": [
    "## Create the Data with the validation"
   ]
  },
  {
   "cell_type": "code",
   "execution_count": 44,
   "metadata": {},
   "outputs": [],
   "source": [
    "# list_new_column_name = ['CDLINVERTEDHAMMER_NEW', 'CDLHAMMER_NEW', 'CDLPIERCING_NEW', 'CDLMORNINGSTAR_NEW', 'CDLSHOOTINGSTAR_NEW', 'CDLHANGINGMAN_NEW', 'CDLDARKCLOUDCOVER_NEW', 'CDLEVENINGSTAR_NEW']\n",
    "# list_of_list_valid_dates = [list_validate_dates_invertedhammer, list_validate_dates_hammer, list_validate_dates_piercing, list_validate_dates_morningstar, list_validate_dates_shootingstar, list_validate_dates_hangingman, list_validate_dates_darkcloudcover, list_validate_dates_eveningstar]\n",
    "# list_of_list_new_sign = [list_new_sign_invertedhammer, list_new_sign_hammer, list_new_sign_piercing, list_new_sign_morningstar, list_new_sign_shootingstar, list_new_sign_hangingman, list_new_sign_darkcloudcover, list_new_sign_eveningstar]\n",
    "\n",
    "list_new_column_name_pos = ['CDLINVERTEDHAMMER_NEW', 'CDLHAMMER_NEW', 'CDLPIERCING_NEW', 'CDLMORNINGSTAR_NEW', 'CDLENGULFINGBULLISH_NEW']\n",
    "list_new_column_name_neg = ['CDLSHOOTINGSTAR_NEW', 'CDLHANGINGMAN_NEW', 'CDLDARKCLOUDCOVER_NEW', 'CDLEVENINGSTAR_NEW', 'CDLENGULFINGBEARISH_NEW']\n",
    "\n",
    "list_of_list_valid_dates_pos = [list_validate_dates_invertedhammer, list_validate_dates_hammer, list_validate_dates_piercing, list_validate_dates_morningstar, list_validate_dates_bullishengulfing]\n",
    "list_of_list_valid_dates_neg = [list_validate_dates_shootingstar, list_validate_dates_hangingman, list_validate_dates_darkcloudcover, list_validate_dates_eveningstar, list_validate_dates_bearishengulfing]\n",
    "\n",
    "# list_of_list_new_sign_pos = [list_new_sign_invertedhammer, list_new_sign_hammer, list_new_sign_piercing, list_new_sign_morningstar, list_new_sign_bullishengulfing]\n",
    "# list_of_list_new_sign_neg = [list_new_sign_shootingstar, list_new_sign_hangingman, list_new_sign_darkcloudcover, list_new_sign_eveningstar, list_new_sign_bearishengulfing]\n",
    "\n",
    "list_of_list_sign_pos = [list_sign_invertedhammer, list_sign_hammer, list_sign_piercing, list_sign_morningstar, list_sign_bullishengulfing]\n",
    "list_of_list_sign_neg = [list_sign_shootingstar, list_sign_hangingman, list_sign_darkcloudcover, list_sign_eveningstar, list_sign_bearishengulfing]"
   ]
  },
  {
   "cell_type": "code",
   "execution_count": 46,
   "metadata": {},
   "outputs": [
    {
     "data": {
      "text/plain": [
       "(1004, 28)"
      ]
     },
     "execution_count": 46,
     "metadata": {},
     "output_type": "execute_result"
    }
   ],
   "source": [
    "df.shape"
   ]
  },
  {
   "cell_type": "code",
   "execution_count": 47,
   "metadata": {},
   "outputs": [],
   "source": [
    "for i in range(0, len(list_new_column_name_pos)):\n",
    "    df[list_new_column_name_pos[i]] = np.where(df['formatted_open_time'].isin(list_of_list_valid_dates_pos[i]), list_of_list_sign_pos[i], 0)"
   ]
  },
  {
   "cell_type": "code",
   "execution_count": 48,
   "metadata": {},
   "outputs": [],
   "source": [
    "for i in range(0, len(list_new_column_name_neg)):\n",
    "    df[list_new_column_name_neg[i]] = np.where(df['formatted_open_time'].isin(list_of_list_valid_dates_neg[i]), list_of_list_sign_neg[i], 0)"
   ]
  },
  {
   "cell_type": "code",
   "execution_count": 49,
   "metadata": {},
   "outputs": [
    {
     "data": {
      "text/html": [
       "<div>\n",
       "<style scoped>\n",
       "    .dataframe tbody tr th:only-of-type {\n",
       "        vertical-align: middle;\n",
       "    }\n",
       "\n",
       "    .dataframe tbody tr th {\n",
       "        vertical-align: top;\n",
       "    }\n",
       "\n",
       "    .dataframe thead th {\n",
       "        text-align: right;\n",
       "    }\n",
       "</style>\n",
       "<table border=\"1\" class=\"dataframe\">\n",
       "  <thead>\n",
       "    <tr style=\"text-align: right;\">\n",
       "      <th></th>\n",
       "      <th>open_time</th>\n",
       "      <th>open</th>\n",
       "      <th>high</th>\n",
       "      <th>low</th>\n",
       "      <th>close</th>\n",
       "      <th>volume</th>\n",
       "      <th>close_time</th>\n",
       "      <th>quote_asset_volumne</th>\n",
       "      <th>number_of_trades</th>\n",
       "      <th>taker_buy_base_asset_volume</th>\n",
       "      <th>...</th>\n",
       "      <th>CDLINVERTEDHAMMER_NEW</th>\n",
       "      <th>CDLHAMMER_NEW</th>\n",
       "      <th>CDLPIERCING_NEW</th>\n",
       "      <th>CDLMORNINGSTAR_NEW</th>\n",
       "      <th>CDLENGULFINGBULLISH_NEW</th>\n",
       "      <th>CDLSHOOTINGSTAR_NEW</th>\n",
       "      <th>CDLHANGINGMAN_NEW</th>\n",
       "      <th>CDLDARKCLOUDCOVER_NEW</th>\n",
       "      <th>CDLEVENINGSTAR_NEW</th>\n",
       "      <th>CDLENGULFINGBEARISH_NEW</th>\n",
       "    </tr>\n",
       "    <tr>\n",
       "      <th>formatted_open_time</th>\n",
       "      <th></th>\n",
       "      <th></th>\n",
       "      <th></th>\n",
       "      <th></th>\n",
       "      <th></th>\n",
       "      <th></th>\n",
       "      <th></th>\n",
       "      <th></th>\n",
       "      <th></th>\n",
       "      <th></th>\n",
       "      <th></th>\n",
       "      <th></th>\n",
       "      <th></th>\n",
       "      <th></th>\n",
       "      <th></th>\n",
       "      <th></th>\n",
       "      <th></th>\n",
       "      <th></th>\n",
       "      <th></th>\n",
       "      <th></th>\n",
       "      <th></th>\n",
       "    </tr>\n",
       "  </thead>\n",
       "  <tbody>\n",
       "    <tr>\n",
       "      <th>2020-01-01</th>\n",
       "      <td>1577836800000</td>\n",
       "      <td>7195.24</td>\n",
       "      <td>7255.0</td>\n",
       "      <td>7175.15</td>\n",
       "      <td>7200.85</td>\n",
       "      <td>16792.388165</td>\n",
       "      <td>1577923199999</td>\n",
       "      <td>1.212145e+08</td>\n",
       "      <td>194010</td>\n",
       "      <td>8946.955535</td>\n",
       "      <td>...</td>\n",
       "      <td>0</td>\n",
       "      <td>0.0</td>\n",
       "      <td>0</td>\n",
       "      <td>0</td>\n",
       "      <td>0.0</td>\n",
       "      <td>0</td>\n",
       "      <td>0.0</td>\n",
       "      <td>0</td>\n",
       "      <td>0.0</td>\n",
       "      <td>0.0</td>\n",
       "    </tr>\n",
       "    <tr>\n",
       "      <th>2020-01-02</th>\n",
       "      <td>1577923200000</td>\n",
       "      <td>7200.77</td>\n",
       "      <td>7212.5</td>\n",
       "      <td>6924.74</td>\n",
       "      <td>6965.71</td>\n",
       "      <td>31951.483932</td>\n",
       "      <td>1578009599999</td>\n",
       "      <td>2.259823e+08</td>\n",
       "      <td>302667</td>\n",
       "      <td>15141.611340</td>\n",
       "      <td>...</td>\n",
       "      <td>0</td>\n",
       "      <td>0.0</td>\n",
       "      <td>0</td>\n",
       "      <td>0</td>\n",
       "      <td>0.0</td>\n",
       "      <td>0</td>\n",
       "      <td>0.0</td>\n",
       "      <td>0</td>\n",
       "      <td>0.0</td>\n",
       "      <td>0.0</td>\n",
       "    </tr>\n",
       "    <tr>\n",
       "      <th>2020-01-03</th>\n",
       "      <td>1578009600000</td>\n",
       "      <td>6965.49</td>\n",
       "      <td>7405.0</td>\n",
       "      <td>6871.04</td>\n",
       "      <td>7344.96</td>\n",
       "      <td>68428.500451</td>\n",
       "      <td>1578095999999</td>\n",
       "      <td>4.950986e+08</td>\n",
       "      <td>519854</td>\n",
       "      <td>35595.496273</td>\n",
       "      <td>...</td>\n",
       "      <td>0</td>\n",
       "      <td>0.0</td>\n",
       "      <td>0</td>\n",
       "      <td>0</td>\n",
       "      <td>0.0</td>\n",
       "      <td>0</td>\n",
       "      <td>0.0</td>\n",
       "      <td>0</td>\n",
       "      <td>0.0</td>\n",
       "      <td>0.0</td>\n",
       "    </tr>\n",
       "    <tr>\n",
       "      <th>2020-01-04</th>\n",
       "      <td>1578096000000</td>\n",
       "      <td>7345.00</td>\n",
       "      <td>7404.0</td>\n",
       "      <td>7272.21</td>\n",
       "      <td>7354.11</td>\n",
       "      <td>29987.974977</td>\n",
       "      <td>1578182399999</td>\n",
       "      <td>2.198742e+08</td>\n",
       "      <td>279370</td>\n",
       "      <td>16369.382248</td>\n",
       "      <td>...</td>\n",
       "      <td>0</td>\n",
       "      <td>0.0</td>\n",
       "      <td>0</td>\n",
       "      <td>0</td>\n",
       "      <td>0.0</td>\n",
       "      <td>0</td>\n",
       "      <td>0.0</td>\n",
       "      <td>0</td>\n",
       "      <td>0.0</td>\n",
       "      <td>0.0</td>\n",
       "    </tr>\n",
       "    <tr>\n",
       "      <th>2020-01-05</th>\n",
       "      <td>1578182400000</td>\n",
       "      <td>7354.19</td>\n",
       "      <td>7495.0</td>\n",
       "      <td>7318.00</td>\n",
       "      <td>7358.75</td>\n",
       "      <td>38331.085604</td>\n",
       "      <td>1578268799999</td>\n",
       "      <td>2.848487e+08</td>\n",
       "      <td>329209</td>\n",
       "      <td>19455.369564</td>\n",
       "      <td>...</td>\n",
       "      <td>0</td>\n",
       "      <td>0.0</td>\n",
       "      <td>0</td>\n",
       "      <td>0</td>\n",
       "      <td>0.0</td>\n",
       "      <td>0</td>\n",
       "      <td>0.0</td>\n",
       "      <td>0</td>\n",
       "      <td>0.0</td>\n",
       "      <td>0.0</td>\n",
       "    </tr>\n",
       "  </tbody>\n",
       "</table>\n",
       "<p>5 rows × 38 columns</p>\n",
       "</div>"
      ],
      "text/plain": [
       "                         open_time     open    high      low    close  \\\n",
       "formatted_open_time                                                     \n",
       "2020-01-01           1577836800000  7195.24  7255.0  7175.15  7200.85   \n",
       "2020-01-02           1577923200000  7200.77  7212.5  6924.74  6965.71   \n",
       "2020-01-03           1578009600000  6965.49  7405.0  6871.04  7344.96   \n",
       "2020-01-04           1578096000000  7345.00  7404.0  7272.21  7354.11   \n",
       "2020-01-05           1578182400000  7354.19  7495.0  7318.00  7358.75   \n",
       "\n",
       "                           volume     close_time  quote_asset_volumne  \\\n",
       "formatted_open_time                                                     \n",
       "2020-01-01           16792.388165  1577923199999         1.212145e+08   \n",
       "2020-01-02           31951.483932  1578009599999         2.259823e+08   \n",
       "2020-01-03           68428.500451  1578095999999         4.950986e+08   \n",
       "2020-01-04           29987.974977  1578182399999         2.198742e+08   \n",
       "2020-01-05           38331.085604  1578268799999         2.848487e+08   \n",
       "\n",
       "                     number_of_trades  taker_buy_base_asset_volume  ...  \\\n",
       "formatted_open_time                                                 ...   \n",
       "2020-01-01                     194010                  8946.955535  ...   \n",
       "2020-01-02                     302667                 15141.611340  ...   \n",
       "2020-01-03                     519854                 35595.496273  ...   \n",
       "2020-01-04                     279370                 16369.382248  ...   \n",
       "2020-01-05                     329209                 19455.369564  ...   \n",
       "\n",
       "                     CDLINVERTEDHAMMER_NEW  CDLHAMMER_NEW CDLPIERCING_NEW  \\\n",
       "formatted_open_time                                                         \n",
       "2020-01-01                               0            0.0               0   \n",
       "2020-01-02                               0            0.0               0   \n",
       "2020-01-03                               0            0.0               0   \n",
       "2020-01-04                               0            0.0               0   \n",
       "2020-01-05                               0            0.0               0   \n",
       "\n",
       "                    CDLMORNINGSTAR_NEW  CDLENGULFINGBULLISH_NEW  \\\n",
       "formatted_open_time                                               \n",
       "2020-01-01                           0                      0.0   \n",
       "2020-01-02                           0                      0.0   \n",
       "2020-01-03                           0                      0.0   \n",
       "2020-01-04                           0                      0.0   \n",
       "2020-01-05                           0                      0.0   \n",
       "\n",
       "                     CDLSHOOTINGSTAR_NEW  CDLHANGINGMAN_NEW  \\\n",
       "formatted_open_time                                           \n",
       "2020-01-01                             0                0.0   \n",
       "2020-01-02                             0                0.0   \n",
       "2020-01-03                             0                0.0   \n",
       "2020-01-04                             0                0.0   \n",
       "2020-01-05                             0                0.0   \n",
       "\n",
       "                     CDLDARKCLOUDCOVER_NEW  CDLEVENINGSTAR_NEW  \\\n",
       "formatted_open_time                                              \n",
       "2020-01-01                               0                 0.0   \n",
       "2020-01-02                               0                 0.0   \n",
       "2020-01-03                               0                 0.0   \n",
       "2020-01-04                               0                 0.0   \n",
       "2020-01-05                               0                 0.0   \n",
       "\n",
       "                     CDLENGULFINGBEARISH_NEW  \n",
       "formatted_open_time                           \n",
       "2020-01-01                               0.0  \n",
       "2020-01-02                               0.0  \n",
       "2020-01-03                               0.0  \n",
       "2020-01-04                               0.0  \n",
       "2020-01-05                               0.0  \n",
       "\n",
       "[5 rows x 38 columns]"
      ]
     },
     "execution_count": 49,
     "metadata": {},
     "output_type": "execute_result"
    }
   ],
   "source": [
    "df.head()"
   ]
  },
  {
   "cell_type": "markdown",
   "metadata": {},
   "source": [
    "### Check"
   ]
  },
  {
   "cell_type": "code",
   "execution_count": 50,
   "metadata": {},
   "outputs": [
    {
     "data": {
      "text/html": [
       "<div>\n",
       "<style scoped>\n",
       "    .dataframe tbody tr th:only-of-type {\n",
       "        vertical-align: middle;\n",
       "    }\n",
       "\n",
       "    .dataframe tbody tr th {\n",
       "        vertical-align: top;\n",
       "    }\n",
       "\n",
       "    .dataframe thead th {\n",
       "        text-align: right;\n",
       "    }\n",
       "</style>\n",
       "<table border=\"1\" class=\"dataframe\">\n",
       "  <thead>\n",
       "    <tr style=\"text-align: right;\">\n",
       "      <th></th>\n",
       "      <th>open_time</th>\n",
       "      <th>open</th>\n",
       "      <th>high</th>\n",
       "      <th>low</th>\n",
       "      <th>close</th>\n",
       "      <th>volume</th>\n",
       "      <th>close_time</th>\n",
       "      <th>quote_asset_volumne</th>\n",
       "      <th>number_of_trades</th>\n",
       "      <th>taker_buy_base_asset_volume</th>\n",
       "      <th>...</th>\n",
       "      <th>CDLINVERTEDHAMMER_NEW</th>\n",
       "      <th>CDLHAMMER_NEW</th>\n",
       "      <th>CDLPIERCING_NEW</th>\n",
       "      <th>CDLMORNINGSTAR_NEW</th>\n",
       "      <th>CDLENGULFINGBULLISH_NEW</th>\n",
       "      <th>CDLSHOOTINGSTAR_NEW</th>\n",
       "      <th>CDLHANGINGMAN_NEW</th>\n",
       "      <th>CDLDARKCLOUDCOVER_NEW</th>\n",
       "      <th>CDLEVENINGSTAR_NEW</th>\n",
       "      <th>CDLENGULFINGBEARISH_NEW</th>\n",
       "    </tr>\n",
       "    <tr>\n",
       "      <th>formatted_open_time</th>\n",
       "      <th></th>\n",
       "      <th></th>\n",
       "      <th></th>\n",
       "      <th></th>\n",
       "      <th></th>\n",
       "      <th></th>\n",
       "      <th></th>\n",
       "      <th></th>\n",
       "      <th></th>\n",
       "      <th></th>\n",
       "      <th></th>\n",
       "      <th></th>\n",
       "      <th></th>\n",
       "      <th></th>\n",
       "      <th></th>\n",
       "      <th></th>\n",
       "      <th></th>\n",
       "      <th></th>\n",
       "      <th></th>\n",
       "      <th></th>\n",
       "      <th></th>\n",
       "    </tr>\n",
       "  </thead>\n",
       "  <tbody>\n",
       "    <tr>\n",
       "      <th>2020-09-08</th>\n",
       "      <td>1599523200000</td>\n",
       "      <td>10373.45</td>\n",
       "      <td>10438.00</td>\n",
       "      <td>9850.00</td>\n",
       "      <td>10126.65</td>\n",
       "      <td>73491.878418</td>\n",
       "      <td>1599609599999</td>\n",
       "      <td>7.429479e+08</td>\n",
       "      <td>1048125</td>\n",
       "      <td>34410.814470</td>\n",
       "      <td>...</td>\n",
       "      <td>0</td>\n",
       "      <td>0.0</td>\n",
       "      <td>0</td>\n",
       "      <td>0</td>\n",
       "      <td>0.0</td>\n",
       "      <td>0</td>\n",
       "      <td>0.0</td>\n",
       "      <td>0</td>\n",
       "      <td>0.000000</td>\n",
       "      <td>-22.226372</td>\n",
       "    </tr>\n",
       "    <tr>\n",
       "      <th>2020-09-28</th>\n",
       "      <td>1601251200000</td>\n",
       "      <td>10774.26</td>\n",
       "      <td>10950.00</td>\n",
       "      <td>10626.00</td>\n",
       "      <td>10696.12</td>\n",
       "      <td>50095.251734</td>\n",
       "      <td>1601337599999</td>\n",
       "      <td>5.444632e+08</td>\n",
       "      <td>686664</td>\n",
       "      <td>25219.073315</td>\n",
       "      <td>...</td>\n",
       "      <td>0</td>\n",
       "      <td>0.0</td>\n",
       "      <td>0</td>\n",
       "      <td>0</td>\n",
       "      <td>0.0</td>\n",
       "      <td>0</td>\n",
       "      <td>0.0</td>\n",
       "      <td>0</td>\n",
       "      <td>0.000000</td>\n",
       "      <td>-59.427456</td>\n",
       "    </tr>\n",
       "    <tr>\n",
       "      <th>2020-12-04</th>\n",
       "      <td>1607040000000</td>\n",
       "      <td>19422.34</td>\n",
       "      <td>19527.00</td>\n",
       "      <td>18565.31</td>\n",
       "      <td>18650.52</td>\n",
       "      <td>71283.668200</td>\n",
       "      <td>1607126399999</td>\n",
       "      <td>1.358080e+09</td>\n",
       "      <td>1286657</td>\n",
       "      <td>32363.453715</td>\n",
       "      <td>...</td>\n",
       "      <td>0</td>\n",
       "      <td>0.0</td>\n",
       "      <td>0</td>\n",
       "      <td>0</td>\n",
       "      <td>0.0</td>\n",
       "      <td>0</td>\n",
       "      <td>0.0</td>\n",
       "      <td>0</td>\n",
       "      <td>0.000000</td>\n",
       "      <td>-22.209607</td>\n",
       "    </tr>\n",
       "    <tr>\n",
       "      <th>2021-01-31</th>\n",
       "      <td>1612051200000</td>\n",
       "      <td>34262.89</td>\n",
       "      <td>34342.69</td>\n",
       "      <td>32171.67</td>\n",
       "      <td>33092.98</td>\n",
       "      <td>68742.280384</td>\n",
       "      <td>1612137599999</td>\n",
       "      <td>2.289641e+09</td>\n",
       "      <td>1707064</td>\n",
       "      <td>32480.447358</td>\n",
       "      <td>...</td>\n",
       "      <td>0</td>\n",
       "      <td>0.0</td>\n",
       "      <td>0</td>\n",
       "      <td>0</td>\n",
       "      <td>0.0</td>\n",
       "      <td>0</td>\n",
       "      <td>0.0</td>\n",
       "      <td>0</td>\n",
       "      <td>0.000000</td>\n",
       "      <td>-55.667283</td>\n",
       "    </tr>\n",
       "    <tr>\n",
       "      <th>2021-03-24</th>\n",
       "      <td>1616544000000</td>\n",
       "      <td>54342.80</td>\n",
       "      <td>57200.00</td>\n",
       "      <td>51700.00</td>\n",
       "      <td>52303.65</td>\n",
       "      <td>83537.465021</td>\n",
       "      <td>1616630399999</td>\n",
       "      <td>4.583160e+09</td>\n",
       "      <td>2401988</td>\n",
       "      <td>39323.130067</td>\n",
       "      <td>...</td>\n",
       "      <td>0</td>\n",
       "      <td>0.0</td>\n",
       "      <td>0</td>\n",
       "      <td>0</td>\n",
       "      <td>0.0</td>\n",
       "      <td>0</td>\n",
       "      <td>0.0</td>\n",
       "      <td>0</td>\n",
       "      <td>0.000000</td>\n",
       "      <td>-24.174556</td>\n",
       "    </tr>\n",
       "    <tr>\n",
       "      <th>2021-05-23</th>\n",
       "      <td>1621728000000</td>\n",
       "      <td>37458.51</td>\n",
       "      <td>38270.64</td>\n",
       "      <td>31111.01</td>\n",
       "      <td>34655.25</td>\n",
       "      <td>217136.046593</td>\n",
       "      <td>1621814399999</td>\n",
       "      <td>7.431242e+09</td>\n",
       "      <td>4082004</td>\n",
       "      <td>104637.659409</td>\n",
       "      <td>...</td>\n",
       "      <td>0</td>\n",
       "      <td>0.0</td>\n",
       "      <td>0</td>\n",
       "      <td>0</td>\n",
       "      <td>0.0</td>\n",
       "      <td>0</td>\n",
       "      <td>0.0</td>\n",
       "      <td>0</td>\n",
       "      <td>0.000000</td>\n",
       "      <td>-79.557516</td>\n",
       "    </tr>\n",
       "    <tr>\n",
       "      <th>2021-07-05</th>\n",
       "      <td>1625443200000</td>\n",
       "      <td>35288.13</td>\n",
       "      <td>35293.78</td>\n",
       "      <td>33125.55</td>\n",
       "      <td>33690.14</td>\n",
       "      <td>64123.874245</td>\n",
       "      <td>1625529599999</td>\n",
       "      <td>2.183406e+09</td>\n",
       "      <td>1109367</td>\n",
       "      <td>31489.855372</td>\n",
       "      <td>...</td>\n",
       "      <td>0</td>\n",
       "      <td>0.0</td>\n",
       "      <td>0</td>\n",
       "      <td>0</td>\n",
       "      <td>0.0</td>\n",
       "      <td>0</td>\n",
       "      <td>0.0</td>\n",
       "      <td>0</td>\n",
       "      <td>0.000000</td>\n",
       "      <td>-20.188165</td>\n",
       "    </tr>\n",
       "    <tr>\n",
       "      <th>2021-07-12</th>\n",
       "      <td>1626048000000</td>\n",
       "      <td>34259.00</td>\n",
       "      <td>34678.43</td>\n",
       "      <td>32658.34</td>\n",
       "      <td>33086.63</td>\n",
       "      <td>48181.403762</td>\n",
       "      <td>1626134399999</td>\n",
       "      <td>1.620647e+09</td>\n",
       "      <td>1176847</td>\n",
       "      <td>22602.907306</td>\n",
       "      <td>...</td>\n",
       "      <td>0</td>\n",
       "      <td>0.0</td>\n",
       "      <td>0</td>\n",
       "      <td>0</td>\n",
       "      <td>0.0</td>\n",
       "      <td>0</td>\n",
       "      <td>0.0</td>\n",
       "      <td>0</td>\n",
       "      <td>0.000000</td>\n",
       "      <td>-41.899537</td>\n",
       "    </tr>\n",
       "    <tr>\n",
       "      <th>2021-07-15</th>\n",
       "      <td>1626307200000</td>\n",
       "      <td>32820.03</td>\n",
       "      <td>33185.25</td>\n",
       "      <td>31133.00</td>\n",
       "      <td>31880.00</td>\n",
       "      <td>51639.576353</td>\n",
       "      <td>1626393599999</td>\n",
       "      <td>1.652078e+09</td>\n",
       "      <td>1099367</td>\n",
       "      <td>24866.405787</td>\n",
       "      <td>...</td>\n",
       "      <td>0</td>\n",
       "      <td>0.0</td>\n",
       "      <td>0</td>\n",
       "      <td>0</td>\n",
       "      <td>0.0</td>\n",
       "      <td>0</td>\n",
       "      <td>0.0</td>\n",
       "      <td>0</td>\n",
       "      <td>0.000000</td>\n",
       "      <td>-68.611300</td>\n",
       "    </tr>\n",
       "    <tr>\n",
       "      <th>2021-07-19</th>\n",
       "      <td>1626652800000</td>\n",
       "      <td>31778.57</td>\n",
       "      <td>31899.00</td>\n",
       "      <td>30407.44</td>\n",
       "      <td>30839.65</td>\n",
       "      <td>47340.468499</td>\n",
       "      <td>1626739199999</td>\n",
       "      <td>1.470563e+09</td>\n",
       "      <td>846029</td>\n",
       "      <td>22709.510045</td>\n",
       "      <td>...</td>\n",
       "      <td>0</td>\n",
       "      <td>0.0</td>\n",
       "      <td>0</td>\n",
       "      <td>0</td>\n",
       "      <td>0.0</td>\n",
       "      <td>0</td>\n",
       "      <td>0.0</td>\n",
       "      <td>0</td>\n",
       "      <td>0.000000</td>\n",
       "      <td>-23.557586</td>\n",
       "    </tr>\n",
       "    <tr>\n",
       "      <th>2021-09-07</th>\n",
       "      <td>1630972800000</td>\n",
       "      <td>52666.20</td>\n",
       "      <td>52920.00</td>\n",
       "      <td>42843.05</td>\n",
       "      <td>46863.73</td>\n",
       "      <td>123048.802719</td>\n",
       "      <td>1631059199999</td>\n",
       "      <td>6.004106e+09</td>\n",
       "      <td>3321711</td>\n",
       "      <td>57935.601976</td>\n",
       "      <td>...</td>\n",
       "      <td>0</td>\n",
       "      <td>0.0</td>\n",
       "      <td>0</td>\n",
       "      <td>0</td>\n",
       "      <td>0.0</td>\n",
       "      <td>0</td>\n",
       "      <td>0.0</td>\n",
       "      <td>0</td>\n",
       "      <td>0.000000</td>\n",
       "      <td>-0.956427</td>\n",
       "    </tr>\n",
       "    <tr>\n",
       "      <th>2021-09-19</th>\n",
       "      <td>1632009600000</td>\n",
       "      <td>48292.75</td>\n",
       "      <td>48372.83</td>\n",
       "      <td>46829.18</td>\n",
       "      <td>47241.75</td>\n",
       "      <td>29847.243490</td>\n",
       "      <td>1632095999999</td>\n",
       "      <td>1.421643e+09</td>\n",
       "      <td>909785</td>\n",
       "      <td>14346.799790</td>\n",
       "      <td>...</td>\n",
       "      <td>0</td>\n",
       "      <td>0.0</td>\n",
       "      <td>0</td>\n",
       "      <td>0</td>\n",
       "      <td>0.0</td>\n",
       "      <td>0</td>\n",
       "      <td>0.0</td>\n",
       "      <td>0</td>\n",
       "      <td>0.000000</td>\n",
       "      <td>-28.858777</td>\n",
       "    </tr>\n",
       "    <tr>\n",
       "      <th>2021-11-26</th>\n",
       "      <td>1637884800000</td>\n",
       "      <td>58960.37</td>\n",
       "      <td>59150.00</td>\n",
       "      <td>53500.00</td>\n",
       "      <td>53726.53</td>\n",
       "      <td>65927.870660</td>\n",
       "      <td>1637971199999</td>\n",
       "      <td>3.649354e+09</td>\n",
       "      <td>2138184</td>\n",
       "      <td>31287.469900</td>\n",
       "      <td>...</td>\n",
       "      <td>0</td>\n",
       "      <td>0.0</td>\n",
       "      <td>0</td>\n",
       "      <td>0</td>\n",
       "      <td>0.0</td>\n",
       "      <td>0</td>\n",
       "      <td>0.0</td>\n",
       "      <td>0</td>\n",
       "      <td>0.000000</td>\n",
       "      <td>-66.917659</td>\n",
       "    </tr>\n",
       "    <tr>\n",
       "      <th>2022-06-01</th>\n",
       "      <td>1654041600000</td>\n",
       "      <td>31801.05</td>\n",
       "      <td>31982.97</td>\n",
       "      <td>29301.00</td>\n",
       "      <td>29805.83</td>\n",
       "      <td>103395.633820</td>\n",
       "      <td>1654127999999</td>\n",
       "      <td>3.171191e+09</td>\n",
       "      <td>1404611</td>\n",
       "      <td>47614.812050</td>\n",
       "      <td>...</td>\n",
       "      <td>0</td>\n",
       "      <td>0.0</td>\n",
       "      <td>0</td>\n",
       "      <td>0</td>\n",
       "      <td>0.0</td>\n",
       "      <td>0</td>\n",
       "      <td>0.0</td>\n",
       "      <td>0</td>\n",
       "      <td>-39.427752</td>\n",
       "      <td>-39.427752</td>\n",
       "    </tr>\n",
       "    <tr>\n",
       "      <th>2022-08-09</th>\n",
       "      <td>1660003200000</td>\n",
       "      <td>23810.98</td>\n",
       "      <td>23933.25</td>\n",
       "      <td>22865.00</td>\n",
       "      <td>23149.95</td>\n",
       "      <td>143182.508580</td>\n",
       "      <td>1660089599999</td>\n",
       "      <td>3.347111e+09</td>\n",
       "      <td>5105613</td>\n",
       "      <td>70598.779530</td>\n",
       "      <td>...</td>\n",
       "      <td>0</td>\n",
       "      <td>0.0</td>\n",
       "      <td>0</td>\n",
       "      <td>0</td>\n",
       "      <td>0.0</td>\n",
       "      <td>0</td>\n",
       "      <td>0.0</td>\n",
       "      <td>0</td>\n",
       "      <td>0.000000</td>\n",
       "      <td>-64.011906</td>\n",
       "    </tr>\n",
       "    <tr>\n",
       "      <th>2022-09-02</th>\n",
       "      <td>1662076800000</td>\n",
       "      <td>20132.64</td>\n",
       "      <td>20441.26</td>\n",
       "      <td>19755.29</td>\n",
       "      <td>19951.86</td>\n",
       "      <td>245986.603300</td>\n",
       "      <td>1662163199999</td>\n",
       "      <td>4.946890e+09</td>\n",
       "      <td>5740705</td>\n",
       "      <td>122616.907450</td>\n",
       "      <td>...</td>\n",
       "      <td>0</td>\n",
       "      <td>0.0</td>\n",
       "      <td>0</td>\n",
       "      <td>0</td>\n",
       "      <td>0.0</td>\n",
       "      <td>0</td>\n",
       "      <td>0.0</td>\n",
       "      <td>0</td>\n",
       "      <td>0.000000</td>\n",
       "      <td>-66.798839</td>\n",
       "    </tr>\n",
       "  </tbody>\n",
       "</table>\n",
       "<p>16 rows × 38 columns</p>\n",
       "</div>"
      ],
      "text/plain": [
       "                         open_time      open      high       low     close  \\\n",
       "formatted_open_time                                                          \n",
       "2020-09-08           1599523200000  10373.45  10438.00   9850.00  10126.65   \n",
       "2020-09-28           1601251200000  10774.26  10950.00  10626.00  10696.12   \n",
       "2020-12-04           1607040000000  19422.34  19527.00  18565.31  18650.52   \n",
       "2021-01-31           1612051200000  34262.89  34342.69  32171.67  33092.98   \n",
       "2021-03-24           1616544000000  54342.80  57200.00  51700.00  52303.65   \n",
       "2021-05-23           1621728000000  37458.51  38270.64  31111.01  34655.25   \n",
       "2021-07-05           1625443200000  35288.13  35293.78  33125.55  33690.14   \n",
       "2021-07-12           1626048000000  34259.00  34678.43  32658.34  33086.63   \n",
       "2021-07-15           1626307200000  32820.03  33185.25  31133.00  31880.00   \n",
       "2021-07-19           1626652800000  31778.57  31899.00  30407.44  30839.65   \n",
       "2021-09-07           1630972800000  52666.20  52920.00  42843.05  46863.73   \n",
       "2021-09-19           1632009600000  48292.75  48372.83  46829.18  47241.75   \n",
       "2021-11-26           1637884800000  58960.37  59150.00  53500.00  53726.53   \n",
       "2022-06-01           1654041600000  31801.05  31982.97  29301.00  29805.83   \n",
       "2022-08-09           1660003200000  23810.98  23933.25  22865.00  23149.95   \n",
       "2022-09-02           1662076800000  20132.64  20441.26  19755.29  19951.86   \n",
       "\n",
       "                            volume     close_time  quote_asset_volumne  \\\n",
       "formatted_open_time                                                      \n",
       "2020-09-08            73491.878418  1599609599999         7.429479e+08   \n",
       "2020-09-28            50095.251734  1601337599999         5.444632e+08   \n",
       "2020-12-04            71283.668200  1607126399999         1.358080e+09   \n",
       "2021-01-31            68742.280384  1612137599999         2.289641e+09   \n",
       "2021-03-24            83537.465021  1616630399999         4.583160e+09   \n",
       "2021-05-23           217136.046593  1621814399999         7.431242e+09   \n",
       "2021-07-05            64123.874245  1625529599999         2.183406e+09   \n",
       "2021-07-12            48181.403762  1626134399999         1.620647e+09   \n",
       "2021-07-15            51639.576353  1626393599999         1.652078e+09   \n",
       "2021-07-19            47340.468499  1626739199999         1.470563e+09   \n",
       "2021-09-07           123048.802719  1631059199999         6.004106e+09   \n",
       "2021-09-19            29847.243490  1632095999999         1.421643e+09   \n",
       "2021-11-26            65927.870660  1637971199999         3.649354e+09   \n",
       "2022-06-01           103395.633820  1654127999999         3.171191e+09   \n",
       "2022-08-09           143182.508580  1660089599999         3.347111e+09   \n",
       "2022-09-02           245986.603300  1662163199999         4.946890e+09   \n",
       "\n",
       "                     number_of_trades  taker_buy_base_asset_volume  ...  \\\n",
       "formatted_open_time                                                 ...   \n",
       "2020-09-08                    1048125                 34410.814470  ...   \n",
       "2020-09-28                     686664                 25219.073315  ...   \n",
       "2020-12-04                    1286657                 32363.453715  ...   \n",
       "2021-01-31                    1707064                 32480.447358  ...   \n",
       "2021-03-24                    2401988                 39323.130067  ...   \n",
       "2021-05-23                    4082004                104637.659409  ...   \n",
       "2021-07-05                    1109367                 31489.855372  ...   \n",
       "2021-07-12                    1176847                 22602.907306  ...   \n",
       "2021-07-15                    1099367                 24866.405787  ...   \n",
       "2021-07-19                     846029                 22709.510045  ...   \n",
       "2021-09-07                    3321711                 57935.601976  ...   \n",
       "2021-09-19                     909785                 14346.799790  ...   \n",
       "2021-11-26                    2138184                 31287.469900  ...   \n",
       "2022-06-01                    1404611                 47614.812050  ...   \n",
       "2022-08-09                    5105613                 70598.779530  ...   \n",
       "2022-09-02                    5740705                122616.907450  ...   \n",
       "\n",
       "                     CDLINVERTEDHAMMER_NEW  CDLHAMMER_NEW CDLPIERCING_NEW  \\\n",
       "formatted_open_time                                                         \n",
       "2020-09-08                               0            0.0               0   \n",
       "2020-09-28                               0            0.0               0   \n",
       "2020-12-04                               0            0.0               0   \n",
       "2021-01-31                               0            0.0               0   \n",
       "2021-03-24                               0            0.0               0   \n",
       "2021-05-23                               0            0.0               0   \n",
       "2021-07-05                               0            0.0               0   \n",
       "2021-07-12                               0            0.0               0   \n",
       "2021-07-15                               0            0.0               0   \n",
       "2021-07-19                               0            0.0               0   \n",
       "2021-09-07                               0            0.0               0   \n",
       "2021-09-19                               0            0.0               0   \n",
       "2021-11-26                               0            0.0               0   \n",
       "2022-06-01                               0            0.0               0   \n",
       "2022-08-09                               0            0.0               0   \n",
       "2022-09-02                               0            0.0               0   \n",
       "\n",
       "                    CDLMORNINGSTAR_NEW  CDLENGULFINGBULLISH_NEW  \\\n",
       "formatted_open_time                                               \n",
       "2020-09-08                           0                      0.0   \n",
       "2020-09-28                           0                      0.0   \n",
       "2020-12-04                           0                      0.0   \n",
       "2021-01-31                           0                      0.0   \n",
       "2021-03-24                           0                      0.0   \n",
       "2021-05-23                           0                      0.0   \n",
       "2021-07-05                           0                      0.0   \n",
       "2021-07-12                           0                      0.0   \n",
       "2021-07-15                           0                      0.0   \n",
       "2021-07-19                           0                      0.0   \n",
       "2021-09-07                           0                      0.0   \n",
       "2021-09-19                           0                      0.0   \n",
       "2021-11-26                           0                      0.0   \n",
       "2022-06-01                           0                      0.0   \n",
       "2022-08-09                           0                      0.0   \n",
       "2022-09-02                           0                      0.0   \n",
       "\n",
       "                     CDLSHOOTINGSTAR_NEW  CDLHANGINGMAN_NEW  \\\n",
       "formatted_open_time                                           \n",
       "2020-09-08                             0                0.0   \n",
       "2020-09-28                             0                0.0   \n",
       "2020-12-04                             0                0.0   \n",
       "2021-01-31                             0                0.0   \n",
       "2021-03-24                             0                0.0   \n",
       "2021-05-23                             0                0.0   \n",
       "2021-07-05                             0                0.0   \n",
       "2021-07-12                             0                0.0   \n",
       "2021-07-15                             0                0.0   \n",
       "2021-07-19                             0                0.0   \n",
       "2021-09-07                             0                0.0   \n",
       "2021-09-19                             0                0.0   \n",
       "2021-11-26                             0                0.0   \n",
       "2022-06-01                             0                0.0   \n",
       "2022-08-09                             0                0.0   \n",
       "2022-09-02                             0                0.0   \n",
       "\n",
       "                     CDLDARKCLOUDCOVER_NEW  CDLEVENINGSTAR_NEW  \\\n",
       "formatted_open_time                                              \n",
       "2020-09-08                               0            0.000000   \n",
       "2020-09-28                               0            0.000000   \n",
       "2020-12-04                               0            0.000000   \n",
       "2021-01-31                               0            0.000000   \n",
       "2021-03-24                               0            0.000000   \n",
       "2021-05-23                               0            0.000000   \n",
       "2021-07-05                               0            0.000000   \n",
       "2021-07-12                               0            0.000000   \n",
       "2021-07-15                               0            0.000000   \n",
       "2021-07-19                               0            0.000000   \n",
       "2021-09-07                               0            0.000000   \n",
       "2021-09-19                               0            0.000000   \n",
       "2021-11-26                               0            0.000000   \n",
       "2022-06-01                               0          -39.427752   \n",
       "2022-08-09                               0            0.000000   \n",
       "2022-09-02                               0            0.000000   \n",
       "\n",
       "                     CDLENGULFINGBEARISH_NEW  \n",
       "formatted_open_time                           \n",
       "2020-09-08                        -22.226372  \n",
       "2020-09-28                        -59.427456  \n",
       "2020-12-04                        -22.209607  \n",
       "2021-01-31                        -55.667283  \n",
       "2021-03-24                        -24.174556  \n",
       "2021-05-23                        -79.557516  \n",
       "2021-07-05                        -20.188165  \n",
       "2021-07-12                        -41.899537  \n",
       "2021-07-15                        -68.611300  \n",
       "2021-07-19                        -23.557586  \n",
       "2021-09-07                         -0.956427  \n",
       "2021-09-19                        -28.858777  \n",
       "2021-11-26                        -66.917659  \n",
       "2022-06-01                        -39.427752  \n",
       "2022-08-09                        -64.011906  \n",
       "2022-09-02                        -66.798839  \n",
       "\n",
       "[16 rows x 38 columns]"
      ]
     },
     "execution_count": 50,
     "metadata": {},
     "output_type": "execute_result"
    }
   ],
   "source": [
    "df[df['CDLENGULFINGBEARISH_NEW'] < 0]"
   ]
  },
  {
   "cell_type": "markdown",
   "metadata": {},
   "source": [
    "## Export the Data"
   ]
  },
  {
   "cell_type": "markdown",
   "metadata": {},
   "source": [
    "### Export parameters"
   ]
  },
  {
   "cell_type": "code",
   "execution_count": 56,
   "metadata": {},
   "outputs": [],
   "source": [
    "export_path = \"../data\"\n",
    "export_filename = \"binance\" + \\\n",
    "                  \"_\" + asset_ticket + \\\n",
    "                  \"_\" + timestamp + \\\n",
    "                  \"_from_\" + datetime.datetime.strptime(start_date,'%d %b, %Y').strftime('%Y_%m_%d') + \\\n",
    "                  \"_to_\" + datetime.datetime.strptime(end_date,'%d %b, %Y').strftime('%Y_%m_%d') + \\\n",
    "                  \"_candlesticks_signals_processed\"\n",
    "export_extension = \".csv\"\n",
    "full_export_path = os.path.join(export_path, export_filename + export_extension)"
   ]
  },
  {
   "cell_type": "markdown",
   "metadata": {},
   "source": [
    "### Export"
   ]
  },
  {
   "cell_type": "code",
   "execution_count": null,
   "metadata": {},
   "outputs": [],
   "source": [
    "df.to_csv(full_export_path, index=False)"
   ]
  },
  {
   "cell_type": "code",
   "execution_count": null,
   "metadata": {},
   "outputs": [],
   "source": []
  }
 ],
 "metadata": {
  "interpreter": {
   "hash": "0c0f2ae3d5d9aa27c4a2afc20f28a2482dc1006477ab22953abc78c31c7bb5b2"
  },
  "kernelspec": {
   "display_name": "Python 3.8.13 ('msc_uol_ai_dissertation')",
   "language": "python",
   "name": "python3"
  },
  "language_info": {
   "codemirror_mode": {
    "name": "ipython",
    "version": 3
   },
   "file_extension": ".py",
   "mimetype": "text/x-python",
   "name": "python",
   "nbconvert_exporter": "python",
   "pygments_lexer": "ipython3",
   "version": "3.8.13"
  },
  "orig_nbformat": 4
 },
 "nbformat": 4,
 "nbformat_minor": 2
}
