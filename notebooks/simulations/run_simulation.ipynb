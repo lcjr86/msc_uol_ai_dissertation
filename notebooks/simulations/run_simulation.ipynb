{
 "cells": [
  {
   "attachments": {},
   "cell_type": "markdown",
   "metadata": {},
   "source": [
    "# Run Simulations"
   ]
  },
  {
   "attachments": {},
   "cell_type": "markdown",
   "metadata": {},
   "source": [
    "## Import relevant libraries"
   ]
  },
  {
   "cell_type": "code",
   "execution_count": 1,
   "metadata": {},
   "outputs": [],
   "source": [
    "import warnings\n",
    "warnings.filterwarnings('ignore')\n",
    "\n",
    "from configparser import ConfigParser\n",
    "\n",
    "import gym\n",
    "import gym_anytrading\n",
    "\n",
    "from gym_anytrading.envs import CryptoEnvLogBLSH\n",
    "\n",
    "from stable_baselines3.common.vec_env import DummyVecEnv\n",
    "from stable_baselines3 import A2C, PPO, DQN\n",
    "\n",
    "import numpy as np\n",
    "import pandas as pd\n",
    "from matplotlib import pyplot as plt\n",
    "import os"
   ]
  },
  {
   "attachments": {},
   "cell_type": "markdown",
   "metadata": {},
   "source": [
    "## Get values from the config file"
   ]
  },
  {
   "cell_type": "code",
   "execution_count": 2,
   "metadata": {},
   "outputs": [
    {
     "name": "stdout",
     "output_type": "stream",
     "text": [
      "['config_files/config_02.ini']\n"
     ]
    }
   ],
   "source": [
    "configur = ConfigParser()\n",
    "config_file_name = \"config_04.ini\"\n",
    "print (configur.read(os.path.join('config_files', config_file_name)))"
   ]
  },
  {
   "cell_type": "code",
   "execution_count": 3,
   "metadata": {},
   "outputs": [],
   "source": [
    "ccy = configur.get('data', 'ccy')\n",
    "data_frequency = configur.get('data', 'data_frequency')\n",
    "\n",
    "window_size = configur.getint('dates', 'window_size')\n",
    "start_date = configur.get('dates', 'start_date')\n",
    "mid_date = configur.get('dates', 'mid_date')\n",
    "end_date = configur.get('dates', 'end_date')\n",
    "\n",
    "list_features = configur.get('features', 'features').split(',')\n",
    "\n",
    "model_type = configur.get('model', 'model_type')\n",
    "\n",
    "num_of_simulations = configur.getint('simulation', 'num_of_simulations')"
   ]
  },
  {
   "cell_type": "code",
   "execution_count": 4,
   "metadata": {},
   "outputs": [],
   "source": [
    "# print(ccy)\n",
    "# print(data_frequency)\n",
    "\n",
    "# print(window_size)\n",
    "# print(start_date)\n",
    "# print(mid_date)\n",
    "# print(end_date)\n",
    "\n",
    "# print(list_features)\n",
    "\n",
    "# print(model_type)\n",
    "\n",
    "# print(num_of_simulations)"
   ]
  },
  {
   "cell_type": "code",
   "execution_count": 5,
   "metadata": {},
   "outputs": [],
   "source": [
    "def get_and_process_data(ccy, data_frequency):\n",
    "    try:\n",
    "        \n",
    "        # Get the data\n",
    "        filename_data = 'binance_' + ccy + \"_\" + data_frequency + '_from_2020_01_01_to_2022_09_30_candlesticks_signals_processed_technical_indicators_and_crypto_index.csv'\n",
    "        fullpath_data = os.path.join('../../data', filename_data)\n",
    "        df = pd.read_csv(fullpath_data)\n",
    "\n",
    "        # Converting Date Column to DateTime Type\n",
    "        df['Date'] = pd.to_datetime(df['formatted_open_time'])\n",
    "\n",
    "        # Setting the column as index\n",
    "        df.set_index('Date', inplace=True)\n",
    "\n",
    "        return df\n",
    "\n",
    "    except Exception as e:\n",
    "        print(e)"
   ]
  },
  {
   "cell_type": "code",
   "execution_count": 6,
   "metadata": {},
   "outputs": [],
   "source": [
    "def my_process_data(env):\n",
    "    start = env.frame_bound[0] - env.window_size\n",
    "    end = env.frame_bound[1]\n",
    "    prices = env.df.loc[:, 'close'].to_numpy()[start:end]\n",
    "    signal_features = env.df.loc[:, list_features].to_numpy()[start:end]\n",
    "    return prices, signal_features\n",
    "\n",
    "class MyEnv(CryptoEnvLogBLSH):\n",
    "    _process_data = my_process_data"
   ]
  },
  {
   "cell_type": "code",
   "execution_count": 7,
   "metadata": {},
   "outputs": [],
   "source": [
    "df = get_and_process_data(ccy, data_frequency)"
   ]
  },
  {
   "cell_type": "code",
   "execution_count": 8,
   "metadata": {},
   "outputs": [],
   "source": [
    "start_date_id = int(df.index.get_loc(start_date))\n",
    "mid_date_id = int(df.index.get_loc(mid_date))\n",
    "end_date_id = int(df.index.get_loc(end_date))"
   ]
  },
  {
   "cell_type": "code",
   "execution_count": 9,
   "metadata": {},
   "outputs": [
    {
     "name": "stdout",
     "output_type": "stream",
     "text": [
      "Using cpu device\n"
     ]
    },
    {
     "data": {
      "text/plain": [
       "<stable_baselines3.a2c.a2c.A2C at 0x17e77db50>"
      ]
     },
     "execution_count": 9,
     "metadata": {},
     "output_type": "execute_result"
    }
   ],
   "source": [
    "#setting up our environment for training \n",
    "env_maker = lambda: MyEnv(df=df, frame_bound=(start_date_id,mid_date_id), window_size=window_size)\n",
    "env = DummyVecEnv([env_maker])\n",
    "\n",
    "if(model_type == 'A2C'):\n",
    "    model = A2C('MlpPolicy', env, verbose=1) \n",
    "elif(model_type == 'PPO'):\n",
    "    model = PPO('MlpPolicy', env, verbose=1)\n",
    "elif(model_type == 'DQN'):\n",
    "    model = DQN('MlpPolicy', env, verbose=1)\n",
    "\n",
    "#setting the learning timesteps\n",
    "model.learn(total_timesteps=(mid_date_id - start_date_id))  "
   ]
  },
  {
   "cell_type": "code",
   "execution_count": 10,
   "metadata": {},
   "outputs": [],
   "source": [
    "df_sim_results = pd.DataFrame(columns=['total_reward_cash', 'total_profit_percentage', 'num_of_trades'])"
   ]
  },
  {
   "cell_type": "code",
   "execution_count": 11,
   "metadata": {},
   "outputs": [],
   "source": [
    "for i in range(num_of_simulations):   \n",
    "\n",
    "    env = MyEnv(df=df, frame_bound=(mid_date_id,end_date_id), window_size=window_size)\n",
    "    #Setting up the Agent Environment\n",
    "    obs = env.reset()\n",
    "    while True: \n",
    "        obs = obs[np.newaxis, ...]\n",
    "        action, _states = model.predict(obs)\n",
    "        obs, rewards, done, info = env.step(action)\n",
    "        if done:\n",
    "            #print(\"info\", info)\n",
    "            df_sim_results = df_sim_results.append(info, ignore_index=True, sort=False)\n",
    "            break       "
   ]
  },
  {
   "attachments": {},
   "cell_type": "markdown",
   "metadata": {},
   "source": [
    "## Results Analysis"
   ]
  },
  {
   "cell_type": "code",
   "execution_count": 12,
   "metadata": {},
   "outputs": [
    {
     "data": {
      "text/html": [
       "<div>\n",
       "<style scoped>\n",
       "    .dataframe tbody tr th:only-of-type {\n",
       "        vertical-align: middle;\n",
       "    }\n",
       "\n",
       "    .dataframe tbody tr th {\n",
       "        vertical-align: top;\n",
       "    }\n",
       "\n",
       "    .dataframe thead th {\n",
       "        text-align: right;\n",
       "    }\n",
       "</style>\n",
       "<table border=\"1\" class=\"dataframe\">\n",
       "  <thead>\n",
       "    <tr style=\"text-align: right;\">\n",
       "      <th></th>\n",
       "      <th>total_reward_cash</th>\n",
       "      <th>total_profit_percentage</th>\n",
       "      <th>num_of_trades</th>\n",
       "    </tr>\n",
       "  </thead>\n",
       "  <tbody>\n",
       "    <tr>\n",
       "      <th>count</th>\n",
       "      <td>1000.000000</td>\n",
       "      <td>1000.000000</td>\n",
       "      <td>1000.000000</td>\n",
       "    </tr>\n",
       "    <tr>\n",
       "      <th>mean</th>\n",
       "      <td>-496.463420</td>\n",
       "      <td>0.503537</td>\n",
       "      <td>49.997000</td>\n",
       "    </tr>\n",
       "    <tr>\n",
       "      <th>std</th>\n",
       "      <td>99.814236</td>\n",
       "      <td>0.099814</td>\n",
       "      <td>6.797146</td>\n",
       "    </tr>\n",
       "    <tr>\n",
       "      <th>min</th>\n",
       "      <td>-701.289408</td>\n",
       "      <td>0.298711</td>\n",
       "      <td>29.000000</td>\n",
       "    </tr>\n",
       "    <tr>\n",
       "      <th>25%</th>\n",
       "      <td>-567.156922</td>\n",
       "      <td>0.432843</td>\n",
       "      <td>45.000000</td>\n",
       "    </tr>\n",
       "    <tr>\n",
       "      <th>50%</th>\n",
       "      <td>-511.839927</td>\n",
       "      <td>0.488160</td>\n",
       "      <td>50.000000</td>\n",
       "    </tr>\n",
       "    <tr>\n",
       "      <th>75%</th>\n",
       "      <td>-438.923255</td>\n",
       "      <td>0.561077</td>\n",
       "      <td>54.000000</td>\n",
       "    </tr>\n",
       "    <tr>\n",
       "      <th>max</th>\n",
       "      <td>-67.853088</td>\n",
       "      <td>0.932147</td>\n",
       "      <td>69.000000</td>\n",
       "    </tr>\n",
       "  </tbody>\n",
       "</table>\n",
       "</div>"
      ],
      "text/plain": [
       "       total_reward_cash  total_profit_percentage  num_of_trades\n",
       "count        1000.000000              1000.000000    1000.000000\n",
       "mean         -496.463420                 0.503537      49.997000\n",
       "std            99.814236                 0.099814       6.797146\n",
       "min          -701.289408                 0.298711      29.000000\n",
       "25%          -567.156922                 0.432843      45.000000\n",
       "50%          -511.839927                 0.488160      50.000000\n",
       "75%          -438.923255                 0.561077      54.000000\n",
       "max           -67.853088                 0.932147      69.000000"
      ]
     },
     "execution_count": 12,
     "metadata": {},
     "output_type": "execute_result"
    }
   ],
   "source": [
    "df_sim_results.describe()"
   ]
  },
  {
   "cell_type": "code",
   "execution_count": 13,
   "metadata": {},
   "outputs": [
    {
     "data": {
      "image/png": "[encoded data removed]",
      "text/plain": [
       "<Figure size 1440x720 with 6 Axes>"
      ]
     },
     "metadata": {
      "needs_background": "light"
     },
     "output_type": "display_data"
    }
   ],
   "source": [
    "# Creating histogram\n",
    "figure, axis = plt.subplots(2, 3, figsize=(20,10))\n",
    "\n",
    "figure.suptitle(f'ccy:{ccy} | data_frequency:{data_frequency} | window_size:{window_size} | start_run_date:{mid_date} | end_run_date:{end_date} | lenght list_features:{len(list_features)} | model_type:{model_type} | num_of_simulations:{num_of_simulations}', fontsize=10)\n",
    "\n",
    "axis[0, 0].hist(df_sim_results.total_reward_cash)\n",
    "axis[0, 0].set_title(\"Histogram - total_reward_cash\")\n",
    "\n",
    "axis[0, 1].hist(df_sim_results.total_profit_percentage)\n",
    "axis[0, 1].set_title(\"Histogram - total_profit_percentage\")\n",
    "\n",
    "axis[0, 2].hist(df_sim_results.num_of_trades)\n",
    "axis[0, 2].set_title(\"Histogram - num_of_trades\")\n",
    "\n",
    "axis[1, 0].boxplot(df_sim_results.total_reward_cash)\n",
    "axis[1, 0].set_title(\"Boxplot - total_reward_cash\")\n",
    "\n",
    "axis[1, 1].boxplot(df_sim_results.total_profit_percentage)\n",
    "axis[1, 1].set_title(\"Boxplot - total_profit_percentage\")\n",
    "\n",
    "axis[1, 2].boxplot(df_sim_results.num_of_trades)\n",
    "axis[1, 2].set_title(\"Boxplot - num_of_trades\")\n",
    "\n",
    "# Show plot\n",
    "plt.show()\n",
    "\n",
    "file_export_sim_results_plot = config_file_name.replace(\".ini\", \".png\")\n",
    "fullpath_export_sim_results_plot = os.path.join('results', file_export_sim_results_plot)\n",
    "\n",
    "figure.savefig(fullpath_export_sim_results_plot)"
   ]
  },
  {
   "attachments": {},
   "cell_type": "markdown",
   "metadata": {},
   "source": [
    "## Export results"
   ]
  },
  {
   "cell_type": "code",
   "execution_count": 14,
   "metadata": {},
   "outputs": [],
   "source": [
    "file_export_sim_results = config_file_name.replace(\".ini\", \".csv\")\n",
    "fullpath_export_sim_results = os.path.join('results', file_export_sim_results)"
   ]
  },
  {
   "attachments": {},
   "cell_type": "markdown",
   "metadata": {},
   "source": [
    "### Add config info"
   ]
  },
  {
   "cell_type": "code",
   "execution_count": 15,
   "metadata": {},
   "outputs": [],
   "source": [
    "df_sim_results['ccy'] = ccy\n",
    "df_sim_results['data_frequency'] = data_frequency\n",
    "df_sim_results['window_size'] = window_size\n",
    "df_sim_results['start_date'] = start_date\n",
    "df_sim_results['mid_date'] = mid_date\n",
    "df_sim_results['end_date'] = end_date\n",
    "df_sim_results['list_features'] = str(list_features)\n",
    "df_sim_results['model_type'] = model_type\n",
    "df_sim_results['num_of_simulations'] = num_of_simulations"
   ]
  },
  {
   "cell_type": "code",
   "execution_count": 16,
   "metadata": {},
   "outputs": [],
   "source": [
    "df_sim_results.to_csv(fullpath_export_sim_results)"
   ]
  },
  {
   "cell_type": "code",
   "execution_count": null,
   "metadata": {},
   "outputs": [],
   "source": []
  }
 ],
 "metadata": {
  "kernelspec": {
   "display_name": "msc_uol_ai_dissertation",
   "language": "python",
   "name": "python3"
  },
  "language_info": {
   "codemirror_mode": {
    "name": "ipython",
    "version": 3
   },
   "file_extension": ".py",
   "mimetype": "text/x-python",
   "name": "python",
   "nbconvert_exporter": "python",
   "pygments_lexer": "ipython3",
   "version": "3.8.13"
  },
  "orig_nbformat": 4,
  "vscode": {
   "interpreter": {
    "hash": "0c0f2ae3d5d9aa27c4a2afc20f28a2482dc1006477ab22953abc78c31c7bb5b2"
   }
  }
 },
 "nbformat": 4,
 "nbformat_minor": 2
}
