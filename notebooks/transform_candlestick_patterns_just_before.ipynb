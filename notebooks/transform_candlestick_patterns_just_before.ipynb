{
 "cells": [
  {
   "cell_type": "markdown",
   "metadata": {},
   "source": [
    "# Transform Candlestick Patterns: just before"
   ]
  },
  {
   "cell_type": "code",
   "execution_count": 123,
   "metadata": {},
   "outputs": [],
   "source": [
    "from src import utils as u\n",
    "import pandas as pd\n",
    "import random\n",
    "import mplfinance as mpf\n",
    "import os\n",
    "import numpy as np"
   ]
  },
  {
   "cell_type": "markdown",
   "metadata": {},
   "source": [
    "## Get the data"
   ]
  },
  {
   "cell_type": "code",
   "execution_count": 124,
   "metadata": {},
   "outputs": [],
   "source": [
    "input_data_path = '../data'\n",
    "input_data_filename = 'binance_BTCUSDT_1m_from_2020_01_01_to_2021_12_31_candlesticks_signals_raw'\n",
    "input_data_extension = \".csv\"\n",
    "full_path_input_data = os.path.join(input_data_path, input_data_filename + input_data_extension)"
   ]
  },
  {
   "cell_type": "code",
   "execution_count": 125,
   "metadata": {},
   "outputs": [],
   "source": [
    "df = pd.read_csv(full_path_input_data)"
   ]
  },
  {
   "cell_type": "code",
   "execution_count": 126,
   "metadata": {},
   "outputs": [
    {
     "data": {
      "text/html": [
       "<div>\n",
       "<style scoped>\n",
       "    .dataframe tbody tr th:only-of-type {\n",
       "        vertical-align: middle;\n",
       "    }\n",
       "\n",
       "    .dataframe tbody tr th {\n",
       "        vertical-align: top;\n",
       "    }\n",
       "\n",
       "    .dataframe thead th {\n",
       "        text-align: right;\n",
       "    }\n",
       "</style>\n",
       "<table border=\"1\" class=\"dataframe\">\n",
       "  <thead>\n",
       "    <tr style=\"text-align: right;\">\n",
       "      <th></th>\n",
       "      <th>open_time</th>\n",
       "      <th>open</th>\n",
       "      <th>high</th>\n",
       "      <th>low</th>\n",
       "      <th>close</th>\n",
       "      <th>volume</th>\n",
       "      <th>close_time</th>\n",
       "      <th>quote_asset_volumne</th>\n",
       "      <th>number_of_trades</th>\n",
       "      <th>taker_buy_base_asset_volume</th>\n",
       "      <th>...</th>\n",
       "      <th>CDLHAMMER</th>\n",
       "      <th>CDLPIERCING</th>\n",
       "      <th>CDLMORNINGSTAR</th>\n",
       "      <th>CDLSHOOTINGSTAR</th>\n",
       "      <th>CDLHANGINGMAN</th>\n",
       "      <th>CDLDARKCLOUDCOVER</th>\n",
       "      <th>CDLEVENINGSTAR</th>\n",
       "      <th>CDLENGULFING</th>\n",
       "      <th>CDLENGULFINGBULLISH</th>\n",
       "      <th>CDLENGULFINGBEARISH</th>\n",
       "    </tr>\n",
       "  </thead>\n",
       "  <tbody>\n",
       "    <tr>\n",
       "      <th>0</th>\n",
       "      <td>1577836800000</td>\n",
       "      <td>7195.24</td>\n",
       "      <td>7196.25</td>\n",
       "      <td>7183.14</td>\n",
       "      <td>7186.68</td>\n",
       "      <td>51.642812</td>\n",
       "      <td>1577836859999</td>\n",
       "      <td>371233.518355</td>\n",
       "      <td>493</td>\n",
       "      <td>19.598230</td>\n",
       "      <td>...</td>\n",
       "      <td>0</td>\n",
       "      <td>0</td>\n",
       "      <td>0</td>\n",
       "      <td>0</td>\n",
       "      <td>0</td>\n",
       "      <td>0</td>\n",
       "      <td>0</td>\n",
       "      <td>0</td>\n",
       "      <td>0</td>\n",
       "      <td>0</td>\n",
       "    </tr>\n",
       "    <tr>\n",
       "      <th>1</th>\n",
       "      <td>1577836860000</td>\n",
       "      <td>7187.67</td>\n",
       "      <td>7188.06</td>\n",
       "      <td>7182.20</td>\n",
       "      <td>7184.03</td>\n",
       "      <td>7.248148</td>\n",
       "      <td>1577836919999</td>\n",
       "      <td>52080.127788</td>\n",
       "      <td>135</td>\n",
       "      <td>2.031772</td>\n",
       "      <td>...</td>\n",
       "      <td>0</td>\n",
       "      <td>0</td>\n",
       "      <td>0</td>\n",
       "      <td>0</td>\n",
       "      <td>0</td>\n",
       "      <td>0</td>\n",
       "      <td>0</td>\n",
       "      <td>0</td>\n",
       "      <td>0</td>\n",
       "      <td>0</td>\n",
       "    </tr>\n",
       "    <tr>\n",
       "      <th>2</th>\n",
       "      <td>1577836920000</td>\n",
       "      <td>7184.41</td>\n",
       "      <td>7184.71</td>\n",
       "      <td>7180.26</td>\n",
       "      <td>7182.43</td>\n",
       "      <td>11.681677</td>\n",
       "      <td>1577836979999</td>\n",
       "      <td>83903.741635</td>\n",
       "      <td>202</td>\n",
       "      <td>5.479244</td>\n",
       "      <td>...</td>\n",
       "      <td>0</td>\n",
       "      <td>0</td>\n",
       "      <td>0</td>\n",
       "      <td>0</td>\n",
       "      <td>0</td>\n",
       "      <td>0</td>\n",
       "      <td>0</td>\n",
       "      <td>0</td>\n",
       "      <td>0</td>\n",
       "      <td>0</td>\n",
       "    </tr>\n",
       "    <tr>\n",
       "      <th>3</th>\n",
       "      <td>1577836980000</td>\n",
       "      <td>7183.83</td>\n",
       "      <td>7188.94</td>\n",
       "      <td>7182.49</td>\n",
       "      <td>7185.94</td>\n",
       "      <td>10.025391</td>\n",
       "      <td>1577837039999</td>\n",
       "      <td>72033.226649</td>\n",
       "      <td>136</td>\n",
       "      <td>3.294966</td>\n",
       "      <td>...</td>\n",
       "      <td>0</td>\n",
       "      <td>0</td>\n",
       "      <td>0</td>\n",
       "      <td>0</td>\n",
       "      <td>0</td>\n",
       "      <td>0</td>\n",
       "      <td>0</td>\n",
       "      <td>0</td>\n",
       "      <td>0</td>\n",
       "      <td>0</td>\n",
       "    </tr>\n",
       "    <tr>\n",
       "      <th>4</th>\n",
       "      <td>1577837040000</td>\n",
       "      <td>7185.54</td>\n",
       "      <td>7185.54</td>\n",
       "      <td>7178.64</td>\n",
       "      <td>7179.78</td>\n",
       "      <td>14.911105</td>\n",
       "      <td>1577837099999</td>\n",
       "      <td>107066.521825</td>\n",
       "      <td>161</td>\n",
       "      <td>2.369033</td>\n",
       "      <td>...</td>\n",
       "      <td>0</td>\n",
       "      <td>0</td>\n",
       "      <td>0</td>\n",
       "      <td>0</td>\n",
       "      <td>0</td>\n",
       "      <td>0</td>\n",
       "      <td>0</td>\n",
       "      <td>0</td>\n",
       "      <td>0</td>\n",
       "      <td>0</td>\n",
       "    </tr>\n",
       "  </tbody>\n",
       "</table>\n",
       "<p>5 rows × 28 columns</p>\n",
       "</div>"
      ],
      "text/plain": [
       "       open_time     open     high      low    close     volume  \\\n",
       "0  1577836800000  7195.24  7196.25  7183.14  7186.68  51.642812   \n",
       "1  1577836860000  7187.67  7188.06  7182.20  7184.03   7.248148   \n",
       "2  1577836920000  7184.41  7184.71  7180.26  7182.43  11.681677   \n",
       "3  1577836980000  7183.83  7188.94  7182.49  7185.94  10.025391   \n",
       "4  1577837040000  7185.54  7185.54  7178.64  7179.78  14.911105   \n",
       "\n",
       "      close_time  quote_asset_volumne  number_of_trades  \\\n",
       "0  1577836859999        371233.518355               493   \n",
       "1  1577836919999         52080.127788               135   \n",
       "2  1577836979999         83903.741635               202   \n",
       "3  1577837039999         72033.226649               136   \n",
       "4  1577837099999        107066.521825               161   \n",
       "\n",
       "   taker_buy_base_asset_volume  ...  CDLHAMMER  CDLPIERCING CDLMORNINGSTAR  \\\n",
       "0                    19.598230  ...          0            0              0   \n",
       "1                     2.031772  ...          0            0              0   \n",
       "2                     5.479244  ...          0            0              0   \n",
       "3                     3.294966  ...          0            0              0   \n",
       "4                     2.369033  ...          0            0              0   \n",
       "\n",
       "  CDLSHOOTINGSTAR  CDLHANGINGMAN  CDLDARKCLOUDCOVER  CDLEVENINGSTAR  \\\n",
       "0               0              0                  0               0   \n",
       "1               0              0                  0               0   \n",
       "2               0              0                  0               0   \n",
       "3               0              0                  0               0   \n",
       "4               0              0                  0               0   \n",
       "\n",
       "   CDLENGULFING  CDLENGULFINGBULLISH  CDLENGULFINGBEARISH  \n",
       "0             0                    0                    0  \n",
       "1             0                    0                    0  \n",
       "2             0                    0                    0  \n",
       "3             0                    0                    0  \n",
       "4             0                    0                    0  \n",
       "\n",
       "[5 rows x 28 columns]"
      ]
     },
     "execution_count": 126,
     "metadata": {},
     "output_type": "execute_result"
    }
   ],
   "source": [
    "df.head()"
   ]
  },
  {
   "cell_type": "markdown",
   "metadata": {},
   "source": [
    "## Set the index on the dataframe"
   ]
  },
  {
   "cell_type": "code",
   "execution_count": 127,
   "metadata": {},
   "outputs": [],
   "source": [
    "df.index = pd.DatetimeIndex(df['formatted_open_time'])"
   ]
  },
  {
   "cell_type": "markdown",
   "metadata": {},
   "source": [
    "## Verify that the candlesticks are definitely showing a trend (down/up)"
   ]
  },
  {
   "cell_type": "markdown",
   "metadata": {},
   "source": [
    "### Set some parameters"
   ]
  },
  {
   "cell_type": "code",
   "execution_count": 128,
   "metadata": {},
   "outputs": [],
   "source": [
    "window_size = 50\n",
    "slope_size = 7"
   ]
  },
  {
   "cell_type": "markdown",
   "metadata": {},
   "source": [
    "### Get the dates from the bullish candlesticks patterns"
   ]
  },
  {
   "cell_type": "code",
   "execution_count": 129,
   "metadata": {},
   "outputs": [],
   "source": [
    "list_dates_invertedhammer = df[df['CDLINVERTEDHAMMER'] == 100]['formatted_open_time'].to_list()\n",
    "list_dates_hammer = df[df['CDLHAMMER'] == 100]['formatted_open_time'].to_list()\n",
    "list_dates_piercing = df[df['CDLPIERCING'] == 100]['formatted_open_time'].to_list()\n",
    "list_dates_morningstar = df[df['CDLMORNINGSTAR'] == 100]['formatted_open_time'].to_list()\n",
    "list_dates_bullishengulfing = df[df['CDLENGULFINGBULLISH'] == 100]['formatted_open_time'].to_list()"
   ]
  },
  {
   "cell_type": "code",
   "execution_count": 130,
   "metadata": {},
   "outputs": [],
   "source": [
    "list_all_dates = df['formatted_open_time'].to_list()"
   ]
  },
  {
   "cell_type": "markdown",
   "metadata": {},
   "source": [
    "#### Get the amount of candlesticks patterns (before check)"
   ]
  },
  {
   "cell_type": "code",
   "execution_count": 131,
   "metadata": {},
   "outputs": [
    {
     "name": "stdout",
     "output_type": "stream",
     "text": [
      "BEFORE: number of inverted hammer:7061\n",
      "BEFORE: number of hammer:34556\n",
      "BEFORE: number of piercing:282\n",
      "BEFORE: number of morning star:3546\n",
      "BEFORE: number of bullish engulfing:36368\n"
     ]
    }
   ],
   "source": [
    "print(f'BEFORE: number of inverted hammer:{len(list_dates_invertedhammer)}')\n",
    "print(f'BEFORE: number of hammer:{len(list_dates_hammer)}')\n",
    "print(f'BEFORE: number of piercing:{len(list_dates_piercing)}')\n",
    "print(f'BEFORE: number of morning star:{len(list_dates_morningstar)}')\n",
    "print(f'BEFORE: number of bullish engulfing:{len(list_dates_bullishengulfing)}')"
   ]
  },
  {
   "cell_type": "markdown",
   "metadata": {},
   "source": [
    "#### Run the checks to identify the real candlesticks with reversal"
   ]
  },
  {
   "cell_type": "code",
   "execution_count": 132,
   "metadata": {},
   "outputs": [],
   "source": [
    "list_validate_dates_invertedhammer = []\n",
    "list_new_sign_invertedhammer = []\n",
    "for date in list_dates_invertedhammer:\n",
    "    s = u.check_trend(df, date, window_size, slope_size)\n",
    "    if ((s==-1)):\n",
    "        list_validate_dates_invertedhammer.append(date)\n",
    "        list_new_sign_invertedhammer.append(1)\n",
    "    else:\n",
    "        list_new_sign_invertedhammer.append(0)"
   ]
  },
  {
   "cell_type": "code",
   "execution_count": 133,
   "metadata": {},
   "outputs": [],
   "source": [
    "list_validate_dates_hammer = []\n",
    "list_new_sign_hammer = []\n",
    "for date in list_dates_hammer:\n",
    "    s = u.check_trend(df, date, window_size, slope_size)\n",
    "    if ((s==-1)):\n",
    "        list_validate_dates_hammer.append(date)\n",
    "        list_new_sign_hammer.append(1)\n",
    "    else:\n",
    "        list_new_sign_hammer.append(0)        "
   ]
  },
  {
   "cell_type": "code",
   "execution_count": 134,
   "metadata": {},
   "outputs": [],
   "source": [
    "list_validate_dates_piercing = []\n",
    "list_new_sign_piercing = []\n",
    "for date in list_dates_piercing:\n",
    "    s = u.check_trend(df, date, window_size, slope_size)\n",
    "    if ((s==-1)):\n",
    "        list_validate_dates_piercing.append(date)\n",
    "        list_new_sign_piercing.append(1)\n",
    "    else:\n",
    "        list_new_sign_piercing.append(0)         "
   ]
  },
  {
   "cell_type": "code",
   "execution_count": 135,
   "metadata": {},
   "outputs": [],
   "source": [
    "list_validate_dates_morningstar = []\n",
    "list_new_sign_morningstar = []\n",
    "for date in list_dates_morningstar:\n",
    "    s = u.check_trend(df, date, window_size, slope_size)\n",
    "    if ((s==-1)):\n",
    "        list_validate_dates_morningstar.append(date)\n",
    "        list_new_sign_morningstar.append(1)\n",
    "    else:\n",
    "        list_new_sign_morningstar.append(0)          "
   ]
  },
  {
   "cell_type": "code",
   "execution_count": 136,
   "metadata": {},
   "outputs": [],
   "source": [
    "list_validate_dates_bullishengulfing = []\n",
    "list_new_sign_bullishengulfing = []\n",
    "for date in list_dates_bullishengulfing:\n",
    "    s = u.check_trend(df, date, window_size, slope_size)\n",
    "    if ((s==-1)):\n",
    "        list_validate_dates_bullishengulfing.append(date)\n",
    "        list_new_sign_bullishengulfing.append(1)\n",
    "    else:\n",
    "        list_new_sign_bullishengulfing.append(0)          "
   ]
  },
  {
   "cell_type": "markdown",
   "metadata": {},
   "source": [
    "#### Get the amount of candlesticks patterns (after check)"
   ]
  },
  {
   "cell_type": "code",
   "execution_count": 137,
   "metadata": {},
   "outputs": [
    {
     "name": "stdout",
     "output_type": "stream",
     "text": [
      "AFTER: number of inverted hammer:273\n",
      "AFTER: number of hammer:1501\n",
      "AFTER: number of piercing:12\n",
      "AFTER: number of morning star:277\n",
      "AFTER: number of bullish engulfing:1992\n"
     ]
    }
   ],
   "source": [
    "print(f'AFTER: number of inverted hammer:{len(list_validate_dates_invertedhammer)}')\n",
    "print(f'AFTER: number of hammer:{len(list_validate_dates_hammer)}')\n",
    "print(f'AFTER: number of piercing:{len(list_validate_dates_piercing)}')\n",
    "print(f'AFTER: number of morning star:{len(list_validate_dates_morningstar)}')\n",
    "print(f'AFTER: number of bullish engulfing:{len(list_validate_dates_bullishengulfing)}')"
   ]
  },
  {
   "cell_type": "markdown",
   "metadata": {},
   "source": [
    "### Plot some results"
   ]
  },
  {
   "cell_type": "markdown",
   "metadata": {},
   "source": [
    "#### Inverted Hammer"
   ]
  },
  {
   "cell_type": "code",
   "execution_count": 138,
   "metadata": {},
   "outputs": [
    {
     "name": "stdout",
     "output_type": "stream",
     "text": [
      "677919\n"
     ]
    },
    {
     "data": {
      "image/png": "[encoded data removed]",
      "text/plain": [
       "<Figure size 1000x400 with 2 Axes>"
      ]
     },
     "metadata": {},
     "output_type": "display_data"
    }
   ],
   "source": [
    "random_date = random.randint(0, len(list_validate_dates_invertedhammer)-1)\n",
    "print(df.index.get_loc(list_validate_dates_invertedhammer[random_date]))\n",
    "idx = df.index.get_loc(list_validate_dates_invertedhammer[random_date])\n",
    "df_temp = df.iloc[idx - window_size :idx + 1]\n",
    "mpf.plot(df_temp, type='candle', figsize=(10,4))"
   ]
  },
  {
   "cell_type": "markdown",
   "metadata": {},
   "source": [
    "#### Hammer"
   ]
  },
  {
   "cell_type": "code",
   "execution_count": 139,
   "metadata": {},
   "outputs": [
    {
     "name": "stdout",
     "output_type": "stream",
     "text": [
      "871984\n"
     ]
    },
    {
     "data": {
      "image/png": "[encoded data removed]",
      "text/plain": [
       "<Figure size 1000x400 with 2 Axes>"
      ]
     },
     "metadata": {},
     "output_type": "display_data"
    }
   ],
   "source": [
    "random_date = random.randint(0, len(list_validate_dates_hammer)-1)\n",
    "print(df.index.get_loc(list_validate_dates_hammer[random_date]))\n",
    "idx = df.index.get_loc(list_validate_dates_hammer[random_date])\n",
    "df_temp = df.iloc[idx - window_size :idx + 1]\n",
    "mpf.plot(df_temp, type='candle', figsize=(10,4))"
   ]
  },
  {
   "cell_type": "markdown",
   "metadata": {},
   "source": [
    "#### Piercing"
   ]
  },
  {
   "cell_type": "code",
   "execution_count": 140,
   "metadata": {},
   "outputs": [
    {
     "name": "stdout",
     "output_type": "stream",
     "text": [
      "296370\n"
     ]
    },
    {
     "data": {
      "image/png": "[encoded data removed]",
      "text/plain": [
       "<Figure size 1000x400 with 2 Axes>"
      ]
     },
     "metadata": {},
     "output_type": "display_data"
    }
   ],
   "source": [
    "random_date = random.randint(0, len(list_validate_dates_piercing)-1)\n",
    "print(df.index.get_loc(list_validate_dates_piercing[random_date]))\n",
    "idx = df.index.get_loc(list_validate_dates_piercing[random_date])\n",
    "df_temp = df.iloc[idx - window_size :idx + 1]\n",
    "mpf.plot(df_temp, type='candle', figsize=(10,4))"
   ]
  },
  {
   "cell_type": "markdown",
   "metadata": {},
   "source": [
    "#### Morning Star"
   ]
  },
  {
   "cell_type": "code",
   "execution_count": 141,
   "metadata": {},
   "outputs": [
    {
     "name": "stdout",
     "output_type": "stream",
     "text": [
      "434721\n"
     ]
    },
    {
     "data": {
      "image/png": "[encoded data removed]",
      "text/plain": [
       "<Figure size 1000x400 with 2 Axes>"
      ]
     },
     "metadata": {},
     "output_type": "display_data"
    }
   ],
   "source": [
    "random_date = random.randint(0, len(list_validate_dates_morningstar)-1)\n",
    "print(df.index.get_loc(list_validate_dates_morningstar[random_date]))\n",
    "idx = df.index.get_loc(list_validate_dates_morningstar[random_date])\n",
    "df_temp = df.iloc[idx - window_size :idx + 1]\n",
    "mpf.plot(df_temp, type='candle', figsize=(10,4))"
   ]
  },
  {
   "cell_type": "markdown",
   "metadata": {},
   "source": [
    "#### Bullish engulfing"
   ]
  },
  {
   "cell_type": "code",
   "execution_count": 142,
   "metadata": {},
   "outputs": [
    {
     "name": "stdout",
     "output_type": "stream",
     "text": [
      "1033122\n"
     ]
    },
    {
     "data": {
      "image/png": "[encoded data removed]",
      "text/plain": [
       "<Figure size 1000x400 with 2 Axes>"
      ]
     },
     "metadata": {},
     "output_type": "display_data"
    }
   ],
   "source": [
    "random_date = random.randint(0, len(list_validate_dates_bullishengulfing)-1)\n",
    "print(df.index.get_loc(list_validate_dates_bullishengulfing[random_date]))\n",
    "idx = df.index.get_loc(list_validate_dates_bullishengulfing[random_date])\n",
    "df_temp = df.iloc[idx - window_size :idx + 1]\n",
    "mpf.plot(df_temp, type='candle', figsize=(10,4))"
   ]
  },
  {
   "cell_type": "markdown",
   "metadata": {},
   "source": [
    "### Get the dates from the bearish candlesticks patterns"
   ]
  },
  {
   "cell_type": "code",
   "execution_count": 143,
   "metadata": {},
   "outputs": [],
   "source": [
    "list_dates_shootingstar = df[df['CDLSHOOTINGSTAR'] == -100]['formatted_open_time'].to_list()\n",
    "list_dates_hangingman = df[df['CDLHANGINGMAN'] == -100]['formatted_open_time'].to_list()\n",
    "list_dates_darkcloudcover = df[df['CDLDARKCLOUDCOVER'] == -100]['formatted_open_time'].to_list()\n",
    "list_dates_eveningstar = df[df['CDLEVENINGSTAR'] == -100]['formatted_open_time'].to_list()\n",
    "list_dates_bearishengulfing = df[df['CDLENGULFINGBEARISH'] == -100]['formatted_open_time'].to_list()"
   ]
  },
  {
   "cell_type": "markdown",
   "metadata": {},
   "source": [
    "#### Get the amount of candlesticks patterns (before check)"
   ]
  },
  {
   "cell_type": "code",
   "execution_count": 144,
   "metadata": {},
   "outputs": [
    {
     "name": "stdout",
     "output_type": "stream",
     "text": [
      "BEFORE: number of shooting star:8400\n",
      "BEFORE: number of hangingman:22099\n",
      "BEFORE: number of dark cloud cover:427\n",
      "BEFORE: number of evening star:3469\n",
      "BEFORE: number of bearish engulfing:35971\n"
     ]
    }
   ],
   "source": [
    "print(f'BEFORE: number of shooting star:{len(list_dates_shootingstar)}')\n",
    "print(f'BEFORE: number of hangingman:{len(list_dates_hangingman)}')\n",
    "print(f'BEFORE: number of dark cloud cover:{len(list_dates_darkcloudcover)}')\n",
    "print(f'BEFORE: number of evening star:{len(list_dates_eveningstar)}')\n",
    "print(f'BEFORE: number of bearish engulfing:{len(list_dates_bearishengulfing)}')"
   ]
  },
  {
   "cell_type": "markdown",
   "metadata": {},
   "source": [
    "#### Run the checks to identify the real candlesticks with reversal"
   ]
  },
  {
   "cell_type": "code",
   "execution_count": 145,
   "metadata": {},
   "outputs": [],
   "source": [
    "list_validate_dates_shootingstar = []\n",
    "list_new_sign_shootingstar = []\n",
    "for date in list_dates_shootingstar:\n",
    "    s = u.check_trend(df, date, window_size, slope_size)\n",
    "    if ((s==1)):\n",
    "        list_validate_dates_shootingstar.append(date)\n",
    "        list_new_sign_shootingstar.append(-1)\n",
    "    else:\n",
    "        list_new_sign_shootingstar.append(0)                    "
   ]
  },
  {
   "cell_type": "code",
   "execution_count": 146,
   "metadata": {},
   "outputs": [],
   "source": [
    "list_validate_dates_hangingman = []\n",
    "list_new_sign_hangingman = []\n",
    "for date in list_dates_hangingman:\n",
    "    s = u.check_trend(df, date, window_size, slope_size)\n",
    "    if ((s==1)):\n",
    "        list_validate_dates_hangingman.append(date)\n",
    "        list_new_sign_hangingman.append(-1)\n",
    "    else:\n",
    "        list_new_sign_hangingman.append(0)         "
   ]
  },
  {
   "cell_type": "code",
   "execution_count": 147,
   "metadata": {},
   "outputs": [],
   "source": [
    "list_validate_dates_darkcloudcover = []\n",
    "list_new_sign_darkcloudcover = []\n",
    "for date in list_dates_darkcloudcover:\n",
    "    s = u.check_trend(df, date, window_size, slope_size)\n",
    "    if ((s==1)):\n",
    "        list_validate_dates_darkcloudcover.append(date)\n",
    "        list_new_sign_darkcloudcover.append(-1)\n",
    "    else:\n",
    "        list_new_sign_darkcloudcover.append(0)          "
   ]
  },
  {
   "cell_type": "code",
   "execution_count": 148,
   "metadata": {},
   "outputs": [],
   "source": [
    "list_validate_dates_eveningstar = []\n",
    "list_new_sign_eveningstar = []\n",
    "for date in list_dates_eveningstar:\n",
    "    s = u.check_trend(df, date, window_size, slope_size)\n",
    "    if ((s==1)):\n",
    "        list_validate_dates_eveningstar.append(date)\n",
    "        list_new_sign_eveningstar.append(-1)\n",
    "    else:\n",
    "        list_new_sign_eveningstar.append(0)         "
   ]
  },
  {
   "cell_type": "code",
   "execution_count": 149,
   "metadata": {},
   "outputs": [],
   "source": [
    "list_validate_dates_bearishengulfing = []\n",
    "list_new_sign_bearishengulfing = []\n",
    "for date in list_dates_bearishengulfing:\n",
    "    s = u.check_trend(df, date, window_size, slope_size)\n",
    "    if ((s==1)):\n",
    "        list_validate_dates_bearishengulfing.append(date)\n",
    "        list_new_sign_bearishengulfing.append(-1)\n",
    "    else:\n",
    "        list_new_sign_bearishengulfing.append(0)         "
   ]
  },
  {
   "cell_type": "markdown",
   "metadata": {},
   "source": [
    "#### Get the amount of candlesticks patterns (after check)"
   ]
  },
  {
   "cell_type": "code",
   "execution_count": 150,
   "metadata": {},
   "outputs": [
    {
     "name": "stdout",
     "output_type": "stream",
     "text": [
      "AFTER: number of shooting star:4259\n",
      "AFTER: number of hangingman:12983\n",
      "AFTER: number of dark cloud cover:243\n",
      "AFTER: number of evening star:2510\n",
      "AFTER: number of bearish engulfoing:19210\n"
     ]
    }
   ],
   "source": [
    "print(f'AFTER: number of shooting star:{len(list_validate_dates_shootingstar)}')\n",
    "print(f'AFTER: number of hangingman:{len(list_validate_dates_hangingman)}')\n",
    "print(f'AFTER: number of dark cloud cover:{len(list_validate_dates_darkcloudcover)}')\n",
    "print(f'AFTER: number of evening star:{len(list_validate_dates_eveningstar)}')\n",
    "print(f'AFTER: number of bearish engulfoing:{len(list_validate_dates_bearishengulfing)}')"
   ]
  },
  {
   "cell_type": "markdown",
   "metadata": {},
   "source": [
    "### Plot some results"
   ]
  },
  {
   "cell_type": "markdown",
   "metadata": {},
   "source": [
    "#### Shooting Star"
   ]
  },
  {
   "cell_type": "code",
   "execution_count": 151,
   "metadata": {},
   "outputs": [
    {
     "name": "stdout",
     "output_type": "stream",
     "text": [
      "232032\n"
     ]
    },
    {
     "data": {
      "image/png": "[encoded data removed]",
      "text/plain": [
       "<Figure size 1000x400 with 2 Axes>"
      ]
     },
     "metadata": {},
     "output_type": "display_data"
    }
   ],
   "source": [
    "random_date = random.randint(0, len(list_validate_dates_shootingstar)-1)\n",
    "print(df.index.get_loc(list_validate_dates_shootingstar[random_date]))\n",
    "idx = df.index.get_loc(list_validate_dates_shootingstar[random_date])\n",
    "df_temp = df.iloc[idx - window_size :idx + 1]\n",
    "mpf.plot(df_temp, type='candle', figsize=(10,4))"
   ]
  },
  {
   "cell_type": "markdown",
   "metadata": {},
   "source": [
    "#### Hangingman"
   ]
  },
  {
   "cell_type": "code",
   "execution_count": 152,
   "metadata": {},
   "outputs": [
    {
     "name": "stdout",
     "output_type": "stream",
     "text": [
      "375516\n"
     ]
    },
    {
     "data": {
      "image/png": "[encoded data removed]",
      "text/plain": [
       "<Figure size 1000x400 with 2 Axes>"
      ]
     },
     "metadata": {},
     "output_type": "display_data"
    }
   ],
   "source": [
    "random_date = random.randint(0, len(list_validate_dates_hangingman)-1)\n",
    "print(df.index.get_loc(list_validate_dates_hangingman[random_date]))\n",
    "idx = df.index.get_loc(list_validate_dates_hangingman[random_date])\n",
    "df_temp = df.iloc[idx - window_size :idx + 1]\n",
    "mpf.plot(df_temp, type='candle', figsize=(10,4))"
   ]
  },
  {
   "cell_type": "markdown",
   "metadata": {},
   "source": [
    "#### Dark Cloud Cover"
   ]
  },
  {
   "cell_type": "code",
   "execution_count": 153,
   "metadata": {},
   "outputs": [
    {
     "name": "stdout",
     "output_type": "stream",
     "text": [
      "890080\n"
     ]
    },
    {
     "data": {
      "image/png": "[encoded data removed]",
      "text/plain": [
       "<Figure size 1000x400 with 2 Axes>"
      ]
     },
     "metadata": {},
     "output_type": "display_data"
    }
   ],
   "source": [
    "random_date = random.randint(0, len(list_validate_dates_darkcloudcover)-1)\n",
    "print(df.index.get_loc(list_validate_dates_darkcloudcover[random_date]))\n",
    "idx = df.index.get_loc(list_validate_dates_darkcloudcover[random_date])\n",
    "df_temp = df.iloc[idx - window_size :idx + 1]\n",
    "mpf.plot(df_temp, type='candle', figsize=(10,4))"
   ]
  },
  {
   "cell_type": "markdown",
   "metadata": {},
   "source": [
    "#### Evening Star"
   ]
  },
  {
   "cell_type": "code",
   "execution_count": 154,
   "metadata": {},
   "outputs": [
    {
     "name": "stdout",
     "output_type": "stream",
     "text": [
      "20238\n"
     ]
    },
    {
     "data": {
      "image/png": "[encoded data removed]",
      "text/plain": [
       "<Figure size 1000x400 with 2 Axes>"
      ]
     },
     "metadata": {},
     "output_type": "display_data"
    }
   ],
   "source": [
    "random_date = random.randint(0, len(list_validate_dates_eveningstar)-1)\n",
    "print(df.index.get_loc(list_validate_dates_eveningstar[random_date]))\n",
    "idx = df.index.get_loc(list_validate_dates_eveningstar[random_date])\n",
    "df_temp = df.iloc[idx - window_size :idx + 1]\n",
    "mpf.plot(df_temp, type='candle', figsize=(10,4))"
   ]
  },
  {
   "cell_type": "markdown",
   "metadata": {},
   "source": [
    "#### Bearish Engulfing"
   ]
  },
  {
   "cell_type": "code",
   "execution_count": 155,
   "metadata": {},
   "outputs": [
    {
     "name": "stdout",
     "output_type": "stream",
     "text": [
      "209019\n"
     ]
    },
    {
     "data": {
      "image/png": "[encoded data removed]",
      "text/plain": [
       "<Figure size 1000x400 with 2 Axes>"
      ]
     },
     "metadata": {},
     "output_type": "display_data"
    }
   ],
   "source": [
    "random_date = random.randint(0, len(list_validate_dates_bearishengulfing)-1)\n",
    "print(df.index.get_loc(list_validate_dates_bearishengulfing[random_date]))\n",
    "idx = df.index.get_loc(list_validate_dates_bearishengulfing[random_date])\n",
    "df_temp = df.iloc[idx - window_size :idx + 1]\n",
    "mpf.plot(df_temp, type='candle', figsize=(10,4))"
   ]
  },
  {
   "cell_type": "markdown",
   "metadata": {},
   "source": [
    "## Create the Data with the validation"
   ]
  },
  {
   "cell_type": "code",
   "execution_count": 156,
   "metadata": {},
   "outputs": [],
   "source": [
    "# list_new_column_name = ['CDLINVERTEDHAMMER_NEW', 'CDLHAMMER_NEW', 'CDLPIERCING_NEW', 'CDLMORNINGSTAR_NEW', 'CDLSHOOTINGSTAR_NEW', 'CDLHANGINGMAN_NEW', 'CDLDARKCLOUDCOVER_NEW', 'CDLEVENINGSTAR_NEW']\n",
    "# list_of_list_valid_dates = [list_validate_dates_invertedhammer, list_validate_dates_hammer, list_validate_dates_piercing, list_validate_dates_morningstar, list_validate_dates_shootingstar, list_validate_dates_hangingman, list_validate_dates_darkcloudcover, list_validate_dates_eveningstar]\n",
    "# list_of_list_new_sign = [list_new_sign_invertedhammer, list_new_sign_hammer, list_new_sign_piercing, list_new_sign_morningstar, list_new_sign_shootingstar, list_new_sign_hangingman, list_new_sign_darkcloudcover, list_new_sign_eveningstar]\n",
    "\n",
    "list_new_column_name_pos = ['CDLINVERTEDHAMMER_NEW', 'CDLHAMMER_NEW', 'CDLPIERCING_NEW', 'CDLMORNINGSTAR_NEW', 'CDLENGULFINGBULLISH_NEW']\n",
    "list_new_column_name_neg = ['CDLSHOOTINGSTAR_NEW', 'CDLHANGINGMAN_NEW', 'CDLDARKCLOUDCOVER_NEW', 'CDLEVENINGSTAR_NEW', 'CDLENGULFINGBEARISH_NEW']\n",
    "\n",
    "list_of_list_valid_dates_pos = [list_validate_dates_invertedhammer, list_validate_dates_hammer, list_validate_dates_piercing, list_validate_dates_morningstar, list_validate_dates_bullishengulfing]\n",
    "list_of_list_valid_dates_neg = [list_validate_dates_shootingstar, list_validate_dates_hangingman, list_validate_dates_darkcloudcover, list_validate_dates_eveningstar, list_validate_dates_bearishengulfing]"
   ]
  },
  {
   "cell_type": "code",
   "execution_count": 157,
   "metadata": {},
   "outputs": [
    {
     "data": {
      "text/plain": [
       "(1048956, 28)"
      ]
     },
     "execution_count": 157,
     "metadata": {},
     "output_type": "execute_result"
    }
   ],
   "source": [
    "df.shape"
   ]
  },
  {
   "cell_type": "code",
   "execution_count": 163,
   "metadata": {},
   "outputs": [],
   "source": [
    "for i in range(0, len(list_new_column_name_pos)):\n",
    "    df[list_new_column_name_pos[i]] = np.where(df['formatted_open_time'].isin(list_of_list_valid_dates_pos[i]), 1, 0)"
   ]
  },
  {
   "cell_type": "code",
   "execution_count": 164,
   "metadata": {},
   "outputs": [],
   "source": [
    "for i in range(0, len(list_new_column_name_neg)):\n",
    "    df[list_new_column_name_neg[i]] = np.where(df['formatted_open_time'].isin(list_of_list_valid_dates_neg[i]), -1, 0)"
   ]
  },
  {
   "cell_type": "code",
   "execution_count": 165,
   "metadata": {},
   "outputs": [
    {
     "data": {
      "text/html": [
       "<div>\n",
       "<style scoped>\n",
       "    .dataframe tbody tr th:only-of-type {\n",
       "        vertical-align: middle;\n",
       "    }\n",
       "\n",
       "    .dataframe tbody tr th {\n",
       "        vertical-align: top;\n",
       "    }\n",
       "\n",
       "    .dataframe thead th {\n",
       "        text-align: right;\n",
       "    }\n",
       "</style>\n",
       "<table border=\"1\" class=\"dataframe\">\n",
       "  <thead>\n",
       "    <tr style=\"text-align: right;\">\n",
       "      <th></th>\n",
       "      <th>open_time</th>\n",
       "      <th>open</th>\n",
       "      <th>high</th>\n",
       "      <th>low</th>\n",
       "      <th>close</th>\n",
       "      <th>volume</th>\n",
       "      <th>close_time</th>\n",
       "      <th>quote_asset_volumne</th>\n",
       "      <th>number_of_trades</th>\n",
       "      <th>taker_buy_base_asset_volume</th>\n",
       "      <th>...</th>\n",
       "      <th>CDLINVERTEDHAMMER_NEW</th>\n",
       "      <th>CDLHAMMER_NEW</th>\n",
       "      <th>CDLPIERCING_NEW</th>\n",
       "      <th>CDLMORNINGSTAR_NEW</th>\n",
       "      <th>CDLSHOOTINGSTAR_NEW</th>\n",
       "      <th>CDLHANGINGMAN_NEW</th>\n",
       "      <th>CDLDARKCLOUDCOVER_NEW</th>\n",
       "      <th>CDLEVENINGSTAR_NEW</th>\n",
       "      <th>CDLENGULFINGBULLISH_NEW</th>\n",
       "      <th>CDLENGULFINGBEARISH_NEW</th>\n",
       "    </tr>\n",
       "    <tr>\n",
       "      <th>formatted_open_time</th>\n",
       "      <th></th>\n",
       "      <th></th>\n",
       "      <th></th>\n",
       "      <th></th>\n",
       "      <th></th>\n",
       "      <th></th>\n",
       "      <th></th>\n",
       "      <th></th>\n",
       "      <th></th>\n",
       "      <th></th>\n",
       "      <th></th>\n",
       "      <th></th>\n",
       "      <th></th>\n",
       "      <th></th>\n",
       "      <th></th>\n",
       "      <th></th>\n",
       "      <th></th>\n",
       "      <th></th>\n",
       "      <th></th>\n",
       "      <th></th>\n",
       "      <th></th>\n",
       "    </tr>\n",
       "  </thead>\n",
       "  <tbody>\n",
       "    <tr>\n",
       "      <th>2020-01-01 00:00:00</th>\n",
       "      <td>1577836800000</td>\n",
       "      <td>7195.24</td>\n",
       "      <td>7196.25</td>\n",
       "      <td>7183.14</td>\n",
       "      <td>7186.68</td>\n",
       "      <td>51.642812</td>\n",
       "      <td>1577836859999</td>\n",
       "      <td>371233.518355</td>\n",
       "      <td>493</td>\n",
       "      <td>19.598230</td>\n",
       "      <td>...</td>\n",
       "      <td>0</td>\n",
       "      <td>0</td>\n",
       "      <td>0</td>\n",
       "      <td>0</td>\n",
       "      <td>0</td>\n",
       "      <td>0</td>\n",
       "      <td>0</td>\n",
       "      <td>0</td>\n",
       "      <td>0</td>\n",
       "      <td>0</td>\n",
       "    </tr>\n",
       "    <tr>\n",
       "      <th>2020-01-01 00:01:00</th>\n",
       "      <td>1577836860000</td>\n",
       "      <td>7187.67</td>\n",
       "      <td>7188.06</td>\n",
       "      <td>7182.20</td>\n",
       "      <td>7184.03</td>\n",
       "      <td>7.248148</td>\n",
       "      <td>1577836919999</td>\n",
       "      <td>52080.127788</td>\n",
       "      <td>135</td>\n",
       "      <td>2.031772</td>\n",
       "      <td>...</td>\n",
       "      <td>0</td>\n",
       "      <td>0</td>\n",
       "      <td>0</td>\n",
       "      <td>0</td>\n",
       "      <td>0</td>\n",
       "      <td>0</td>\n",
       "      <td>0</td>\n",
       "      <td>0</td>\n",
       "      <td>0</td>\n",
       "      <td>0</td>\n",
       "    </tr>\n",
       "    <tr>\n",
       "      <th>2020-01-01 00:02:00</th>\n",
       "      <td>1577836920000</td>\n",
       "      <td>7184.41</td>\n",
       "      <td>7184.71</td>\n",
       "      <td>7180.26</td>\n",
       "      <td>7182.43</td>\n",
       "      <td>11.681677</td>\n",
       "      <td>1577836979999</td>\n",
       "      <td>83903.741635</td>\n",
       "      <td>202</td>\n",
       "      <td>5.479244</td>\n",
       "      <td>...</td>\n",
       "      <td>0</td>\n",
       "      <td>0</td>\n",
       "      <td>0</td>\n",
       "      <td>0</td>\n",
       "      <td>0</td>\n",
       "      <td>0</td>\n",
       "      <td>0</td>\n",
       "      <td>0</td>\n",
       "      <td>0</td>\n",
       "      <td>0</td>\n",
       "    </tr>\n",
       "    <tr>\n",
       "      <th>2020-01-01 00:03:00</th>\n",
       "      <td>1577836980000</td>\n",
       "      <td>7183.83</td>\n",
       "      <td>7188.94</td>\n",
       "      <td>7182.49</td>\n",
       "      <td>7185.94</td>\n",
       "      <td>10.025391</td>\n",
       "      <td>1577837039999</td>\n",
       "      <td>72033.226649</td>\n",
       "      <td>136</td>\n",
       "      <td>3.294966</td>\n",
       "      <td>...</td>\n",
       "      <td>0</td>\n",
       "      <td>0</td>\n",
       "      <td>0</td>\n",
       "      <td>0</td>\n",
       "      <td>0</td>\n",
       "      <td>0</td>\n",
       "      <td>0</td>\n",
       "      <td>0</td>\n",
       "      <td>0</td>\n",
       "      <td>0</td>\n",
       "    </tr>\n",
       "    <tr>\n",
       "      <th>2020-01-01 00:04:00</th>\n",
       "      <td>1577837040000</td>\n",
       "      <td>7185.54</td>\n",
       "      <td>7185.54</td>\n",
       "      <td>7178.64</td>\n",
       "      <td>7179.78</td>\n",
       "      <td>14.911105</td>\n",
       "      <td>1577837099999</td>\n",
       "      <td>107066.521825</td>\n",
       "      <td>161</td>\n",
       "      <td>2.369033</td>\n",
       "      <td>...</td>\n",
       "      <td>0</td>\n",
       "      <td>0</td>\n",
       "      <td>0</td>\n",
       "      <td>0</td>\n",
       "      <td>0</td>\n",
       "      <td>0</td>\n",
       "      <td>0</td>\n",
       "      <td>0</td>\n",
       "      <td>0</td>\n",
       "      <td>0</td>\n",
       "    </tr>\n",
       "  </tbody>\n",
       "</table>\n",
       "<p>5 rows × 38 columns</p>\n",
       "</div>"
      ],
      "text/plain": [
       "                         open_time     open     high      low    close  \\\n",
       "formatted_open_time                                                      \n",
       "2020-01-01 00:00:00  1577836800000  7195.24  7196.25  7183.14  7186.68   \n",
       "2020-01-01 00:01:00  1577836860000  7187.67  7188.06  7182.20  7184.03   \n",
       "2020-01-01 00:02:00  1577836920000  7184.41  7184.71  7180.26  7182.43   \n",
       "2020-01-01 00:03:00  1577836980000  7183.83  7188.94  7182.49  7185.94   \n",
       "2020-01-01 00:04:00  1577837040000  7185.54  7185.54  7178.64  7179.78   \n",
       "\n",
       "                        volume     close_time  quote_asset_volumne  \\\n",
       "formatted_open_time                                                  \n",
       "2020-01-01 00:00:00  51.642812  1577836859999        371233.518355   \n",
       "2020-01-01 00:01:00   7.248148  1577836919999         52080.127788   \n",
       "2020-01-01 00:02:00  11.681677  1577836979999         83903.741635   \n",
       "2020-01-01 00:03:00  10.025391  1577837039999         72033.226649   \n",
       "2020-01-01 00:04:00  14.911105  1577837099999        107066.521825   \n",
       "\n",
       "                     number_of_trades  taker_buy_base_asset_volume  ...  \\\n",
       "formatted_open_time                                                 ...   \n",
       "2020-01-01 00:00:00               493                    19.598230  ...   \n",
       "2020-01-01 00:01:00               135                     2.031772  ...   \n",
       "2020-01-01 00:02:00               202                     5.479244  ...   \n",
       "2020-01-01 00:03:00               136                     3.294966  ...   \n",
       "2020-01-01 00:04:00               161                     2.369033  ...   \n",
       "\n",
       "                     CDLINVERTEDHAMMER_NEW  CDLHAMMER_NEW CDLPIERCING_NEW  \\\n",
       "formatted_open_time                                                         \n",
       "2020-01-01 00:00:00                      0              0               0   \n",
       "2020-01-01 00:01:00                      0              0               0   \n",
       "2020-01-01 00:02:00                      0              0               0   \n",
       "2020-01-01 00:03:00                      0              0               0   \n",
       "2020-01-01 00:04:00                      0              0               0   \n",
       "\n",
       "                    CDLMORNINGSTAR_NEW  CDLSHOOTINGSTAR_NEW  \\\n",
       "formatted_open_time                                           \n",
       "2020-01-01 00:00:00                  0                    0   \n",
       "2020-01-01 00:01:00                  0                    0   \n",
       "2020-01-01 00:02:00                  0                    0   \n",
       "2020-01-01 00:03:00                  0                    0   \n",
       "2020-01-01 00:04:00                  0                    0   \n",
       "\n",
       "                     CDLHANGINGMAN_NEW  CDLDARKCLOUDCOVER_NEW  \\\n",
       "formatted_open_time                                             \n",
       "2020-01-01 00:00:00                  0                      0   \n",
       "2020-01-01 00:01:00                  0                      0   \n",
       "2020-01-01 00:02:00                  0                      0   \n",
       "2020-01-01 00:03:00                  0                      0   \n",
       "2020-01-01 00:04:00                  0                      0   \n",
       "\n",
       "                     CDLEVENINGSTAR_NEW  CDLENGULFINGBULLISH_NEW  \\\n",
       "formatted_open_time                                                \n",
       "2020-01-01 00:00:00                   0                        0   \n",
       "2020-01-01 00:01:00                   0                        0   \n",
       "2020-01-01 00:02:00                   0                        0   \n",
       "2020-01-01 00:03:00                   0                        0   \n",
       "2020-01-01 00:04:00                   0                        0   \n",
       "\n",
       "                     CDLENGULFINGBEARISH_NEW  \n",
       "formatted_open_time                           \n",
       "2020-01-01 00:00:00                        0  \n",
       "2020-01-01 00:01:00                        0  \n",
       "2020-01-01 00:02:00                        0  \n",
       "2020-01-01 00:03:00                        0  \n",
       "2020-01-01 00:04:00                        0  \n",
       "\n",
       "[5 rows x 38 columns]"
      ]
     },
     "execution_count": 165,
     "metadata": {},
     "output_type": "execute_result"
    }
   ],
   "source": [
    "df.head()"
   ]
  },
  {
   "cell_type": "markdown",
   "metadata": {},
   "source": [
    "### Check"
   ]
  },
  {
   "cell_type": "code",
   "execution_count": 168,
   "metadata": {},
   "outputs": [
    {
     "data": {
      "text/html": [
       "<div>\n",
       "<style scoped>\n",
       "    .dataframe tbody tr th:only-of-type {\n",
       "        vertical-align: middle;\n",
       "    }\n",
       "\n",
       "    .dataframe tbody tr th {\n",
       "        vertical-align: top;\n",
       "    }\n",
       "\n",
       "    .dataframe thead th {\n",
       "        text-align: right;\n",
       "    }\n",
       "</style>\n",
       "<table border=\"1\" class=\"dataframe\">\n",
       "  <thead>\n",
       "    <tr style=\"text-align: right;\">\n",
       "      <th></th>\n",
       "      <th>open_time</th>\n",
       "      <th>open</th>\n",
       "      <th>high</th>\n",
       "      <th>low</th>\n",
       "      <th>close</th>\n",
       "      <th>volume</th>\n",
       "      <th>close_time</th>\n",
       "      <th>quote_asset_volumne</th>\n",
       "      <th>number_of_trades</th>\n",
       "      <th>taker_buy_base_asset_volume</th>\n",
       "      <th>...</th>\n",
       "      <th>CDLINVERTEDHAMMER_NEW</th>\n",
       "      <th>CDLHAMMER_NEW</th>\n",
       "      <th>CDLPIERCING_NEW</th>\n",
       "      <th>CDLMORNINGSTAR_NEW</th>\n",
       "      <th>CDLSHOOTINGSTAR_NEW</th>\n",
       "      <th>CDLHANGINGMAN_NEW</th>\n",
       "      <th>CDLDARKCLOUDCOVER_NEW</th>\n",
       "      <th>CDLEVENINGSTAR_NEW</th>\n",
       "      <th>CDLENGULFINGBULLISH_NEW</th>\n",
       "      <th>CDLENGULFINGBEARISH_NEW</th>\n",
       "    </tr>\n",
       "    <tr>\n",
       "      <th>formatted_open_time</th>\n",
       "      <th></th>\n",
       "      <th></th>\n",
       "      <th></th>\n",
       "      <th></th>\n",
       "      <th></th>\n",
       "      <th></th>\n",
       "      <th></th>\n",
       "      <th></th>\n",
       "      <th></th>\n",
       "      <th></th>\n",
       "      <th></th>\n",
       "      <th></th>\n",
       "      <th></th>\n",
       "      <th></th>\n",
       "      <th></th>\n",
       "      <th></th>\n",
       "      <th></th>\n",
       "      <th></th>\n",
       "      <th></th>\n",
       "      <th></th>\n",
       "      <th></th>\n",
       "    </tr>\n",
       "  </thead>\n",
       "  <tbody>\n",
       "    <tr>\n",
       "      <th>2020-01-01 01:35:00</th>\n",
       "      <td>1577842500000</td>\n",
       "      <td>7219.11</td>\n",
       "      <td>7219.37</td>\n",
       "      <td>7211.61</td>\n",
       "      <td>7211.61</td>\n",
       "      <td>9.956354</td>\n",
       "      <td>1577842559999</td>\n",
       "      <td>7.185415e+04</td>\n",
       "      <td>109</td>\n",
       "      <td>3.248184</td>\n",
       "      <td>...</td>\n",
       "      <td>0</td>\n",
       "      <td>0</td>\n",
       "      <td>0</td>\n",
       "      <td>0</td>\n",
       "      <td>0</td>\n",
       "      <td>0</td>\n",
       "      <td>0</td>\n",
       "      <td>0</td>\n",
       "      <td>0</td>\n",
       "      <td>-1</td>\n",
       "    </tr>\n",
       "    <tr>\n",
       "      <th>2020-01-01 01:41:00</th>\n",
       "      <td>1577842860000</td>\n",
       "      <td>7218.28</td>\n",
       "      <td>7218.28</td>\n",
       "      <td>7212.16</td>\n",
       "      <td>7212.68</td>\n",
       "      <td>8.530326</td>\n",
       "      <td>1577842919999</td>\n",
       "      <td>6.154514e+04</td>\n",
       "      <td>93</td>\n",
       "      <td>4.100182</td>\n",
       "      <td>...</td>\n",
       "      <td>0</td>\n",
       "      <td>0</td>\n",
       "      <td>0</td>\n",
       "      <td>0</td>\n",
       "      <td>0</td>\n",
       "      <td>0</td>\n",
       "      <td>0</td>\n",
       "      <td>0</td>\n",
       "      <td>0</td>\n",
       "      <td>-1</td>\n",
       "    </tr>\n",
       "    <tr>\n",
       "      <th>2020-01-01 01:55:00</th>\n",
       "      <td>1577843700000</td>\n",
       "      <td>7209.75</td>\n",
       "      <td>7210.37</td>\n",
       "      <td>7208.21</td>\n",
       "      <td>7209.03</td>\n",
       "      <td>9.117428</td>\n",
       "      <td>1577843759999</td>\n",
       "      <td>6.573471e+04</td>\n",
       "      <td>151</td>\n",
       "      <td>6.557182</td>\n",
       "      <td>...</td>\n",
       "      <td>0</td>\n",
       "      <td>0</td>\n",
       "      <td>0</td>\n",
       "      <td>0</td>\n",
       "      <td>0</td>\n",
       "      <td>0</td>\n",
       "      <td>0</td>\n",
       "      <td>0</td>\n",
       "      <td>0</td>\n",
       "      <td>-1</td>\n",
       "    </tr>\n",
       "    <tr>\n",
       "      <th>2020-01-01 02:36:00</th>\n",
       "      <td>1577846160000</td>\n",
       "      <td>7234.57</td>\n",
       "      <td>7234.73</td>\n",
       "      <td>7228.08</td>\n",
       "      <td>7229.44</td>\n",
       "      <td>17.501660</td>\n",
       "      <td>1577846219999</td>\n",
       "      <td>1.265671e+05</td>\n",
       "      <td>130</td>\n",
       "      <td>3.692405</td>\n",
       "      <td>...</td>\n",
       "      <td>0</td>\n",
       "      <td>0</td>\n",
       "      <td>0</td>\n",
       "      <td>0</td>\n",
       "      <td>0</td>\n",
       "      <td>0</td>\n",
       "      <td>0</td>\n",
       "      <td>0</td>\n",
       "      <td>0</td>\n",
       "      <td>-1</td>\n",
       "    </tr>\n",
       "    <tr>\n",
       "      <th>2020-01-01 03:21:00</th>\n",
       "      <td>1577848860000</td>\n",
       "      <td>7235.71</td>\n",
       "      <td>7236.74</td>\n",
       "      <td>7233.07</td>\n",
       "      <td>7233.48</td>\n",
       "      <td>8.057339</td>\n",
       "      <td>1577848919999</td>\n",
       "      <td>5.829667e+04</td>\n",
       "      <td>116</td>\n",
       "      <td>3.844065</td>\n",
       "      <td>...</td>\n",
       "      <td>0</td>\n",
       "      <td>0</td>\n",
       "      <td>0</td>\n",
       "      <td>0</td>\n",
       "      <td>0</td>\n",
       "      <td>0</td>\n",
       "      <td>0</td>\n",
       "      <td>0</td>\n",
       "      <td>0</td>\n",
       "      <td>-1</td>\n",
       "    </tr>\n",
       "    <tr>\n",
       "      <th>...</th>\n",
       "      <td>...</td>\n",
       "      <td>...</td>\n",
       "      <td>...</td>\n",
       "      <td>...</td>\n",
       "      <td>...</td>\n",
       "      <td>...</td>\n",
       "      <td>...</td>\n",
       "      <td>...</td>\n",
       "      <td>...</td>\n",
       "      <td>...</td>\n",
       "      <td>...</td>\n",
       "      <td>...</td>\n",
       "      <td>...</td>\n",
       "      <td>...</td>\n",
       "      <td>...</td>\n",
       "      <td>...</td>\n",
       "      <td>...</td>\n",
       "      <td>...</td>\n",
       "      <td>...</td>\n",
       "      <td>...</td>\n",
       "      <td>...</td>\n",
       "    </tr>\n",
       "    <tr>\n",
       "      <th>2021-12-30 19:41:00</th>\n",
       "      <td>1640893260000</td>\n",
       "      <td>47888.39</td>\n",
       "      <td>47900.00</td>\n",
       "      <td>47851.21</td>\n",
       "      <td>47851.22</td>\n",
       "      <td>35.809450</td>\n",
       "      <td>1640893319999</td>\n",
       "      <td>1.714754e+06</td>\n",
       "      <td>1090</td>\n",
       "      <td>23.330090</td>\n",
       "      <td>...</td>\n",
       "      <td>0</td>\n",
       "      <td>0</td>\n",
       "      <td>0</td>\n",
       "      <td>0</td>\n",
       "      <td>0</td>\n",
       "      <td>0</td>\n",
       "      <td>0</td>\n",
       "      <td>0</td>\n",
       "      <td>0</td>\n",
       "      <td>-1</td>\n",
       "    </tr>\n",
       "    <tr>\n",
       "      <th>2021-12-30 21:23:00</th>\n",
       "      <td>1640899380000</td>\n",
       "      <td>47278.86</td>\n",
       "      <td>47281.22</td>\n",
       "      <td>47236.55</td>\n",
       "      <td>47243.38</td>\n",
       "      <td>16.033390</td>\n",
       "      <td>1640899439999</td>\n",
       "      <td>7.575797e+05</td>\n",
       "      <td>546</td>\n",
       "      <td>9.266360</td>\n",
       "      <td>...</td>\n",
       "      <td>0</td>\n",
       "      <td>0</td>\n",
       "      <td>0</td>\n",
       "      <td>0</td>\n",
       "      <td>0</td>\n",
       "      <td>0</td>\n",
       "      <td>0</td>\n",
       "      <td>0</td>\n",
       "      <td>0</td>\n",
       "      <td>-1</td>\n",
       "    </tr>\n",
       "    <tr>\n",
       "      <th>2021-12-30 21:39:00</th>\n",
       "      <td>1640900340000</td>\n",
       "      <td>47342.16</td>\n",
       "      <td>47342.17</td>\n",
       "      <td>47287.22</td>\n",
       "      <td>47293.50</td>\n",
       "      <td>10.575070</td>\n",
       "      <td>1640900399999</td>\n",
       "      <td>5.003558e+05</td>\n",
       "      <td>446</td>\n",
       "      <td>2.329260</td>\n",
       "      <td>...</td>\n",
       "      <td>0</td>\n",
       "      <td>0</td>\n",
       "      <td>0</td>\n",
       "      <td>0</td>\n",
       "      <td>0</td>\n",
       "      <td>0</td>\n",
       "      <td>0</td>\n",
       "      <td>0</td>\n",
       "      <td>0</td>\n",
       "      <td>-1</td>\n",
       "    </tr>\n",
       "    <tr>\n",
       "      <th>2021-12-30 22:47:00</th>\n",
       "      <td>1640904420000</td>\n",
       "      <td>47033.01</td>\n",
       "      <td>47052.44</td>\n",
       "      <td>46947.74</td>\n",
       "      <td>46967.01</td>\n",
       "      <td>21.816320</td>\n",
       "      <td>1640904479999</td>\n",
       "      <td>1.025380e+06</td>\n",
       "      <td>725</td>\n",
       "      <td>9.276530</td>\n",
       "      <td>...</td>\n",
       "      <td>0</td>\n",
       "      <td>0</td>\n",
       "      <td>0</td>\n",
       "      <td>0</td>\n",
       "      <td>0</td>\n",
       "      <td>0</td>\n",
       "      <td>0</td>\n",
       "      <td>0</td>\n",
       "      <td>0</td>\n",
       "      <td>-1</td>\n",
       "    </tr>\n",
       "    <tr>\n",
       "      <th>2021-12-30 23:54:00</th>\n",
       "      <td>1640908440000</td>\n",
       "      <td>47159.85</td>\n",
       "      <td>47177.30</td>\n",
       "      <td>47150.14</td>\n",
       "      <td>47154.20</td>\n",
       "      <td>4.078120</td>\n",
       "      <td>1640908499999</td>\n",
       "      <td>1.923469e+05</td>\n",
       "      <td>357</td>\n",
       "      <td>1.698120</td>\n",
       "      <td>...</td>\n",
       "      <td>0</td>\n",
       "      <td>0</td>\n",
       "      <td>0</td>\n",
       "      <td>0</td>\n",
       "      <td>0</td>\n",
       "      <td>0</td>\n",
       "      <td>0</td>\n",
       "      <td>0</td>\n",
       "      <td>0</td>\n",
       "      <td>-1</td>\n",
       "    </tr>\n",
       "  </tbody>\n",
       "</table>\n",
       "<p>19210 rows × 38 columns</p>\n",
       "</div>"
      ],
      "text/plain": [
       "                         open_time      open      high       low     close  \\\n",
       "formatted_open_time                                                          \n",
       "2020-01-01 01:35:00  1577842500000   7219.11   7219.37   7211.61   7211.61   \n",
       "2020-01-01 01:41:00  1577842860000   7218.28   7218.28   7212.16   7212.68   \n",
       "2020-01-01 01:55:00  1577843700000   7209.75   7210.37   7208.21   7209.03   \n",
       "2020-01-01 02:36:00  1577846160000   7234.57   7234.73   7228.08   7229.44   \n",
       "2020-01-01 03:21:00  1577848860000   7235.71   7236.74   7233.07   7233.48   \n",
       "...                            ...       ...       ...       ...       ...   \n",
       "2021-12-30 19:41:00  1640893260000  47888.39  47900.00  47851.21  47851.22   \n",
       "2021-12-30 21:23:00  1640899380000  47278.86  47281.22  47236.55  47243.38   \n",
       "2021-12-30 21:39:00  1640900340000  47342.16  47342.17  47287.22  47293.50   \n",
       "2021-12-30 22:47:00  1640904420000  47033.01  47052.44  46947.74  46967.01   \n",
       "2021-12-30 23:54:00  1640908440000  47159.85  47177.30  47150.14  47154.20   \n",
       "\n",
       "                        volume     close_time  quote_asset_volumne  \\\n",
       "formatted_open_time                                                  \n",
       "2020-01-01 01:35:00   9.956354  1577842559999         7.185415e+04   \n",
       "2020-01-01 01:41:00   8.530326  1577842919999         6.154514e+04   \n",
       "2020-01-01 01:55:00   9.117428  1577843759999         6.573471e+04   \n",
       "2020-01-01 02:36:00  17.501660  1577846219999         1.265671e+05   \n",
       "2020-01-01 03:21:00   8.057339  1577848919999         5.829667e+04   \n",
       "...                        ...            ...                  ...   \n",
       "2021-12-30 19:41:00  35.809450  1640893319999         1.714754e+06   \n",
       "2021-12-30 21:23:00  16.033390  1640899439999         7.575797e+05   \n",
       "2021-12-30 21:39:00  10.575070  1640900399999         5.003558e+05   \n",
       "2021-12-30 22:47:00  21.816320  1640904479999         1.025380e+06   \n",
       "2021-12-30 23:54:00   4.078120  1640908499999         1.923469e+05   \n",
       "\n",
       "                     number_of_trades  taker_buy_base_asset_volume  ...  \\\n",
       "formatted_open_time                                                 ...   \n",
       "2020-01-01 01:35:00               109                     3.248184  ...   \n",
       "2020-01-01 01:41:00                93                     4.100182  ...   \n",
       "2020-01-01 01:55:00               151                     6.557182  ...   \n",
       "2020-01-01 02:36:00               130                     3.692405  ...   \n",
       "2020-01-01 03:21:00               116                     3.844065  ...   \n",
       "...                               ...                          ...  ...   \n",
       "2021-12-30 19:41:00              1090                    23.330090  ...   \n",
       "2021-12-30 21:23:00               546                     9.266360  ...   \n",
       "2021-12-30 21:39:00               446                     2.329260  ...   \n",
       "2021-12-30 22:47:00               725                     9.276530  ...   \n",
       "2021-12-30 23:54:00               357                     1.698120  ...   \n",
       "\n",
       "                     CDLINVERTEDHAMMER_NEW  CDLHAMMER_NEW CDLPIERCING_NEW  \\\n",
       "formatted_open_time                                                         \n",
       "2020-01-01 01:35:00                      0              0               0   \n",
       "2020-01-01 01:41:00                      0              0               0   \n",
       "2020-01-01 01:55:00                      0              0               0   \n",
       "2020-01-01 02:36:00                      0              0               0   \n",
       "2020-01-01 03:21:00                      0              0               0   \n",
       "...                                    ...            ...             ...   \n",
       "2021-12-30 19:41:00                      0              0               0   \n",
       "2021-12-30 21:23:00                      0              0               0   \n",
       "2021-12-30 21:39:00                      0              0               0   \n",
       "2021-12-30 22:47:00                      0              0               0   \n",
       "2021-12-30 23:54:00                      0              0               0   \n",
       "\n",
       "                    CDLMORNINGSTAR_NEW  CDLSHOOTINGSTAR_NEW  \\\n",
       "formatted_open_time                                           \n",
       "2020-01-01 01:35:00                  0                    0   \n",
       "2020-01-01 01:41:00                  0                    0   \n",
       "2020-01-01 01:55:00                  0                    0   \n",
       "2020-01-01 02:36:00                  0                    0   \n",
       "2020-01-01 03:21:00                  0                    0   \n",
       "...                                ...                  ...   \n",
       "2021-12-30 19:41:00                  0                    0   \n",
       "2021-12-30 21:23:00                  0                    0   \n",
       "2021-12-30 21:39:00                  0                    0   \n",
       "2021-12-30 22:47:00                  0                    0   \n",
       "2021-12-30 23:54:00                  0                    0   \n",
       "\n",
       "                     CDLHANGINGMAN_NEW  CDLDARKCLOUDCOVER_NEW  \\\n",
       "formatted_open_time                                             \n",
       "2020-01-01 01:35:00                  0                      0   \n",
       "2020-01-01 01:41:00                  0                      0   \n",
       "2020-01-01 01:55:00                  0                      0   \n",
       "2020-01-01 02:36:00                  0                      0   \n",
       "2020-01-01 03:21:00                  0                      0   \n",
       "...                                ...                    ...   \n",
       "2021-12-30 19:41:00                  0                      0   \n",
       "2021-12-30 21:23:00                  0                      0   \n",
       "2021-12-30 21:39:00                  0                      0   \n",
       "2021-12-30 22:47:00                  0                      0   \n",
       "2021-12-30 23:54:00                  0                      0   \n",
       "\n",
       "                     CDLEVENINGSTAR_NEW  CDLENGULFINGBULLISH_NEW  \\\n",
       "formatted_open_time                                                \n",
       "2020-01-01 01:35:00                   0                        0   \n",
       "2020-01-01 01:41:00                   0                        0   \n",
       "2020-01-01 01:55:00                   0                        0   \n",
       "2020-01-01 02:36:00                   0                        0   \n",
       "2020-01-01 03:21:00                   0                        0   \n",
       "...                                 ...                      ...   \n",
       "2021-12-30 19:41:00                   0                        0   \n",
       "2021-12-30 21:23:00                   0                        0   \n",
       "2021-12-30 21:39:00                   0                        0   \n",
       "2021-12-30 22:47:00                   0                        0   \n",
       "2021-12-30 23:54:00                   0                        0   \n",
       "\n",
       "                     CDLENGULFINGBEARISH_NEW  \n",
       "formatted_open_time                           \n",
       "2020-01-01 01:35:00                       -1  \n",
       "2020-01-01 01:41:00                       -1  \n",
       "2020-01-01 01:55:00                       -1  \n",
       "2020-01-01 02:36:00                       -1  \n",
       "2020-01-01 03:21:00                       -1  \n",
       "...                                      ...  \n",
       "2021-12-30 19:41:00                       -1  \n",
       "2021-12-30 21:23:00                       -1  \n",
       "2021-12-30 21:39:00                       -1  \n",
       "2021-12-30 22:47:00                       -1  \n",
       "2021-12-30 23:54:00                       -1  \n",
       "\n",
       "[19210 rows x 38 columns]"
      ]
     },
     "execution_count": 168,
     "metadata": {},
     "output_type": "execute_result"
    }
   ],
   "source": [
    "df[df['CDLENGULFINGBEARISH_NEW'] == -1]"
   ]
  },
  {
   "cell_type": "markdown",
   "metadata": {},
   "source": [
    "## Export the Data"
   ]
  },
  {
   "cell_type": "markdown",
   "metadata": {},
   "source": [
    "### Export parameters"
   ]
  },
  {
   "cell_type": "code",
   "execution_count": 169,
   "metadata": {},
   "outputs": [],
   "source": [
    "export_path = \"../data\"\n",
    "export_filename = 'binance_BTCUSDT_1m_from_2020_01_01_to_2021_12_31_candlesticks_signals_processed'\n",
    "export_extension = \".csv\"\n",
    "full_export_path = os.path.join(export_path, export_filename + export_extension)"
   ]
  },
  {
   "cell_type": "markdown",
   "metadata": {},
   "source": [
    "### Export"
   ]
  },
  {
   "cell_type": "code",
   "execution_count": 170,
   "metadata": {},
   "outputs": [],
   "source": [
    "df.to_csv(full_export_path, index=False)"
   ]
  },
  {
   "cell_type": "code",
   "execution_count": null,
   "metadata": {},
   "outputs": [],
   "source": []
  }
 ],
 "metadata": {
  "interpreter": {
   "hash": "0c0f2ae3d5d9aa27c4a2afc20f28a2482dc1006477ab22953abc78c31c7bb5b2"
  },
  "kernelspec": {
   "display_name": "Python 3.8.13 ('msc_uol_ai_dissertation')",
   "language": "python",
   "name": "python3"
  },
  "language_info": {
   "codemirror_mode": {
    "name": "ipython",
    "version": 3
   },
   "file_extension": ".py",
   "mimetype": "text/x-python",
   "name": "python",
   "nbconvert_exporter": "python",
   "pygments_lexer": "ipython3",
   "version": "3.8.13"
  },
  "orig_nbformat": 4
 },
 "nbformat": 4,
 "nbformat_minor": 2
}
