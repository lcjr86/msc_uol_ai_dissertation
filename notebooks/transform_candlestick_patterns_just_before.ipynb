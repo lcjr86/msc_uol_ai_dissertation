{
 "cells": [
  {
   "cell_type": "markdown",
   "metadata": {},
   "source": [
    "# Transform Candlestick Patterns: just before"
   ]
  },
  {
   "cell_type": "code",
   "execution_count": 100,
   "metadata": {},
   "outputs": [],
   "source": [
    "from src import utils as u\n",
    "import pandas as pd\n",
    "import random\n",
    "import mplfinance as mpf\n",
    "import os\n",
    "import numpy as np"
   ]
  },
  {
   "cell_type": "markdown",
   "metadata": {},
   "source": [
    "## Get the data"
   ]
  },
  {
   "cell_type": "code",
   "execution_count": 59,
   "metadata": {},
   "outputs": [],
   "source": [
    "input_data_path = '../data'\n",
    "input_data_filename = 'binance_BTCUSDT_1m_from_2020_01_01_to_2021_12_31_candlesticks_signals_raw'\n",
    "input_data_extension = \".csv\"\n",
    "full_path_input_data = os.path.join(input_data_path, input_data_filename + input_data_extension)"
   ]
  },
  {
   "cell_type": "code",
   "execution_count": 60,
   "metadata": {},
   "outputs": [],
   "source": [
    "df = pd.read_csv(full_path_input_data)"
   ]
  },
  {
   "cell_type": "code",
   "execution_count": 92,
   "metadata": {},
   "outputs": [
    {
     "data": {
      "text/html": [
       "<div>\n",
       "<style scoped>\n",
       "    .dataframe tbody tr th:only-of-type {\n",
       "        vertical-align: middle;\n",
       "    }\n",
       "\n",
       "    .dataframe tbody tr th {\n",
       "        vertical-align: top;\n",
       "    }\n",
       "\n",
       "    .dataframe thead th {\n",
       "        text-align: right;\n",
       "    }\n",
       "</style>\n",
       "<table border=\"1\" class=\"dataframe\">\n",
       "  <thead>\n",
       "    <tr style=\"text-align: right;\">\n",
       "      <th></th>\n",
       "      <th>open_time</th>\n",
       "      <th>open</th>\n",
       "      <th>high</th>\n",
       "      <th>low</th>\n",
       "      <th>close</th>\n",
       "      <th>volume</th>\n",
       "      <th>close_time</th>\n",
       "      <th>quote_asset_volumne</th>\n",
       "      <th>number_of_trades</th>\n",
       "      <th>taker_buy_base_asset_volume</th>\n",
       "      <th>...</th>\n",
       "      <th>lower_shadow</th>\n",
       "      <th>real_body</th>\n",
       "      <th>CDLINVERTEDHAMMER</th>\n",
       "      <th>CDLHAMMER</th>\n",
       "      <th>CDLPIERCING</th>\n",
       "      <th>CDLMORNINGSTAR</th>\n",
       "      <th>CDLSHOOTINGSTAR</th>\n",
       "      <th>CDLHANGINGMAN</th>\n",
       "      <th>CDLDARKCLOUDCOVER</th>\n",
       "      <th>CDLEVENINGSTAR</th>\n",
       "    </tr>\n",
       "    <tr>\n",
       "      <th>formatted_open_time</th>\n",
       "      <th></th>\n",
       "      <th></th>\n",
       "      <th></th>\n",
       "      <th></th>\n",
       "      <th></th>\n",
       "      <th></th>\n",
       "      <th></th>\n",
       "      <th></th>\n",
       "      <th></th>\n",
       "      <th></th>\n",
       "      <th></th>\n",
       "      <th></th>\n",
       "      <th></th>\n",
       "      <th></th>\n",
       "      <th></th>\n",
       "      <th></th>\n",
       "      <th></th>\n",
       "      <th></th>\n",
       "      <th></th>\n",
       "      <th></th>\n",
       "      <th></th>\n",
       "    </tr>\n",
       "  </thead>\n",
       "  <tbody>\n",
       "    <tr>\n",
       "      <th>2020-01-01 00:00:00</th>\n",
       "      <td>1577836800000</td>\n",
       "      <td>7195.24</td>\n",
       "      <td>7196.25</td>\n",
       "      <td>7183.14</td>\n",
       "      <td>7186.68</td>\n",
       "      <td>51.642812</td>\n",
       "      <td>1577836859999</td>\n",
       "      <td>371233.518355</td>\n",
       "      <td>493</td>\n",
       "      <td>19.598230</td>\n",
       "      <td>...</td>\n",
       "      <td>3.54</td>\n",
       "      <td>8.56</td>\n",
       "      <td>0</td>\n",
       "      <td>0</td>\n",
       "      <td>0</td>\n",
       "      <td>0</td>\n",
       "      <td>0</td>\n",
       "      <td>0</td>\n",
       "      <td>0</td>\n",
       "      <td>0</td>\n",
       "    </tr>\n",
       "    <tr>\n",
       "      <th>2020-01-01 00:01:00</th>\n",
       "      <td>1577836860000</td>\n",
       "      <td>7187.67</td>\n",
       "      <td>7188.06</td>\n",
       "      <td>7182.20</td>\n",
       "      <td>7184.03</td>\n",
       "      <td>7.248148</td>\n",
       "      <td>1577836919999</td>\n",
       "      <td>52080.127788</td>\n",
       "      <td>135</td>\n",
       "      <td>2.031772</td>\n",
       "      <td>...</td>\n",
       "      <td>1.83</td>\n",
       "      <td>3.64</td>\n",
       "      <td>0</td>\n",
       "      <td>0</td>\n",
       "      <td>0</td>\n",
       "      <td>0</td>\n",
       "      <td>0</td>\n",
       "      <td>0</td>\n",
       "      <td>0</td>\n",
       "      <td>0</td>\n",
       "    </tr>\n",
       "    <tr>\n",
       "      <th>2020-01-01 00:02:00</th>\n",
       "      <td>1577836920000</td>\n",
       "      <td>7184.41</td>\n",
       "      <td>7184.71</td>\n",
       "      <td>7180.26</td>\n",
       "      <td>7182.43</td>\n",
       "      <td>11.681677</td>\n",
       "      <td>1577836979999</td>\n",
       "      <td>83903.741635</td>\n",
       "      <td>202</td>\n",
       "      <td>5.479244</td>\n",
       "      <td>...</td>\n",
       "      <td>2.17</td>\n",
       "      <td>1.98</td>\n",
       "      <td>0</td>\n",
       "      <td>0</td>\n",
       "      <td>0</td>\n",
       "      <td>0</td>\n",
       "      <td>0</td>\n",
       "      <td>0</td>\n",
       "      <td>0</td>\n",
       "      <td>0</td>\n",
       "    </tr>\n",
       "    <tr>\n",
       "      <th>2020-01-01 00:03:00</th>\n",
       "      <td>1577836980000</td>\n",
       "      <td>7183.83</td>\n",
       "      <td>7188.94</td>\n",
       "      <td>7182.49</td>\n",
       "      <td>7185.94</td>\n",
       "      <td>10.025391</td>\n",
       "      <td>1577837039999</td>\n",
       "      <td>72033.226649</td>\n",
       "      <td>136</td>\n",
       "      <td>3.294966</td>\n",
       "      <td>...</td>\n",
       "      <td>1.34</td>\n",
       "      <td>2.11</td>\n",
       "      <td>0</td>\n",
       "      <td>0</td>\n",
       "      <td>0</td>\n",
       "      <td>0</td>\n",
       "      <td>0</td>\n",
       "      <td>0</td>\n",
       "      <td>0</td>\n",
       "      <td>0</td>\n",
       "    </tr>\n",
       "    <tr>\n",
       "      <th>2020-01-01 00:04:00</th>\n",
       "      <td>1577837040000</td>\n",
       "      <td>7185.54</td>\n",
       "      <td>7185.54</td>\n",
       "      <td>7178.64</td>\n",
       "      <td>7179.78</td>\n",
       "      <td>14.911105</td>\n",
       "      <td>1577837099999</td>\n",
       "      <td>107066.521825</td>\n",
       "      <td>161</td>\n",
       "      <td>2.369033</td>\n",
       "      <td>...</td>\n",
       "      <td>1.14</td>\n",
       "      <td>5.76</td>\n",
       "      <td>0</td>\n",
       "      <td>0</td>\n",
       "      <td>0</td>\n",
       "      <td>0</td>\n",
       "      <td>0</td>\n",
       "      <td>0</td>\n",
       "      <td>0</td>\n",
       "      <td>0</td>\n",
       "    </tr>\n",
       "  </tbody>\n",
       "</table>\n",
       "<p>5 rows × 25 columns</p>\n",
       "</div>"
      ],
      "text/plain": [
       "                         open_time     open     high      low    close  \\\n",
       "formatted_open_time                                                      \n",
       "2020-01-01 00:00:00  1577836800000  7195.24  7196.25  7183.14  7186.68   \n",
       "2020-01-01 00:01:00  1577836860000  7187.67  7188.06  7182.20  7184.03   \n",
       "2020-01-01 00:02:00  1577836920000  7184.41  7184.71  7180.26  7182.43   \n",
       "2020-01-01 00:03:00  1577836980000  7183.83  7188.94  7182.49  7185.94   \n",
       "2020-01-01 00:04:00  1577837040000  7185.54  7185.54  7178.64  7179.78   \n",
       "\n",
       "                        volume     close_time  quote_asset_volumne  \\\n",
       "formatted_open_time                                                  \n",
       "2020-01-01 00:00:00  51.642812  1577836859999        371233.518355   \n",
       "2020-01-01 00:01:00   7.248148  1577836919999         52080.127788   \n",
       "2020-01-01 00:02:00  11.681677  1577836979999         83903.741635   \n",
       "2020-01-01 00:03:00  10.025391  1577837039999         72033.226649   \n",
       "2020-01-01 00:04:00  14.911105  1577837099999        107066.521825   \n",
       "\n",
       "                     number_of_trades  taker_buy_base_asset_volume  ...  \\\n",
       "formatted_open_time                                                 ...   \n",
       "2020-01-01 00:00:00               493                    19.598230  ...   \n",
       "2020-01-01 00:01:00               135                     2.031772  ...   \n",
       "2020-01-01 00:02:00               202                     5.479244  ...   \n",
       "2020-01-01 00:03:00               136                     3.294966  ...   \n",
       "2020-01-01 00:04:00               161                     2.369033  ...   \n",
       "\n",
       "                     lower_shadow  real_body CDLINVERTEDHAMMER CDLHAMMER  \\\n",
       "formatted_open_time                                                        \n",
       "2020-01-01 00:00:00          3.54       8.56                 0         0   \n",
       "2020-01-01 00:01:00          1.83       3.64                 0         0   \n",
       "2020-01-01 00:02:00          2.17       1.98                 0         0   \n",
       "2020-01-01 00:03:00          1.34       2.11                 0         0   \n",
       "2020-01-01 00:04:00          1.14       5.76                 0         0   \n",
       "\n",
       "                     CDLPIERCING  CDLMORNINGSTAR  CDLSHOOTINGSTAR  \\\n",
       "formatted_open_time                                                 \n",
       "2020-01-01 00:00:00            0               0                0   \n",
       "2020-01-01 00:01:00            0               0                0   \n",
       "2020-01-01 00:02:00            0               0                0   \n",
       "2020-01-01 00:03:00            0               0                0   \n",
       "2020-01-01 00:04:00            0               0                0   \n",
       "\n",
       "                     CDLHANGINGMAN  CDLDARKCLOUDCOVER  CDLEVENINGSTAR  \n",
       "formatted_open_time                                                    \n",
       "2020-01-01 00:00:00              0                  0               0  \n",
       "2020-01-01 00:01:00              0                  0               0  \n",
       "2020-01-01 00:02:00              0                  0               0  \n",
       "2020-01-01 00:03:00              0                  0               0  \n",
       "2020-01-01 00:04:00              0                  0               0  \n",
       "\n",
       "[5 rows x 25 columns]"
      ]
     },
     "execution_count": 92,
     "metadata": {},
     "output_type": "execute_result"
    }
   ],
   "source": [
    "df.head()"
   ]
  },
  {
   "cell_type": "markdown",
   "metadata": {},
   "source": [
    "## Set the index on the dataframe"
   ]
  },
  {
   "cell_type": "code",
   "execution_count": 61,
   "metadata": {},
   "outputs": [],
   "source": [
    "df.index = pd.DatetimeIndex(df['formatted_open_time'])"
   ]
  },
  {
   "cell_type": "markdown",
   "metadata": {},
   "source": [
    "## Verify that the candlesticks are definitely showing a trend (down/up)"
   ]
  },
  {
   "cell_type": "markdown",
   "metadata": {},
   "source": [
    "### Set some parameters"
   ]
  },
  {
   "cell_type": "code",
   "execution_count": 62,
   "metadata": {},
   "outputs": [],
   "source": [
    "window_size = 50\n",
    "slope_size = 7"
   ]
  },
  {
   "cell_type": "markdown",
   "metadata": {},
   "source": [
    "### Get the dates from the bullish candlesticks patterns"
   ]
  },
  {
   "cell_type": "code",
   "execution_count": 63,
   "metadata": {},
   "outputs": [],
   "source": [
    "list_dates_invertedhammer = df[df['CDLINVERTEDHAMMER'] == 100]['formatted_open_time'].to_list()\n",
    "list_dates_hammer = df[df['CDLHAMMER'] == 100]['formatted_open_time'].to_list()\n",
    "list_dates_piercing = df[df['CDLPIERCING'] == 100]['formatted_open_time'].to_list()\n",
    "list_dates_morningstar = df[df['CDLMORNINGSTAR'] == 100]['formatted_open_time'].to_list()"
   ]
  },
  {
   "cell_type": "code",
   "execution_count": 95,
   "metadata": {},
   "outputs": [],
   "source": [
    "list_all_dates = df['formatted_open_time'].to_list()"
   ]
  },
  {
   "cell_type": "markdown",
   "metadata": {},
   "source": [
    "#### Get the amount of candlesticks patterns (before check)"
   ]
  },
  {
   "cell_type": "code",
   "execution_count": 64,
   "metadata": {},
   "outputs": [
    {
     "name": "stdout",
     "output_type": "stream",
     "text": [
      "BEFORE: number of inverted hammer:7061\n",
      "BEFORE: number of hammer:34556\n",
      "BEFORE: number of piercing:282\n",
      "BEFORE: number of morning star:3546\n"
     ]
    }
   ],
   "source": [
    "print(f'BEFORE: number of inverted hammer:{len(list_dates_invertedhammer)}')\n",
    "print(f'BEFORE: number of hammer:{len(list_dates_hammer)}')\n",
    "print(f'BEFORE: number of piercing:{len(list_dates_piercing)}')\n",
    "print(f'BEFORE: number of morning star:{len(list_dates_morningstar)}')"
   ]
  },
  {
   "cell_type": "markdown",
   "metadata": {},
   "source": [
    "#### Run the checks to identify the real candlesticks with reversal"
   ]
  },
  {
   "cell_type": "code",
   "execution_count": 97,
   "metadata": {},
   "outputs": [],
   "source": [
    "list_validate_dates_invertedhammer = []\n",
    "list_new_sign_invertedhammer = []\n",
    "for date in list_dates_invertedhammer:\n",
    "    s = u.check_trend(df, date, window_size, slope_size)\n",
    "    if ((s==-1)):\n",
    "        list_validate_dates_invertedhammer.append(date)\n",
    "        list_new_sign_invertedhammer.append(-1)\n",
    "    else:\n",
    "        list_new_sign_invertedhammer.append(0)"
   ]
  },
  {
   "cell_type": "code",
   "execution_count": 66,
   "metadata": {},
   "outputs": [],
   "source": [
    "list_validate_dates_hammer = []\n",
    "list_new_sign_hammer = []\n",
    "for date in list_dates_hammer:\n",
    "    s = u.check_trend(df, date, window_size, slope_size)\n",
    "    if ((s==-1)):\n",
    "        list_validate_dates_hammer.append(date)\n",
    "        list_new_sign_hammer.append(-1)\n",
    "    else:\n",
    "        list_new_sign_hammer.append(0)        "
   ]
  },
  {
   "cell_type": "code",
   "execution_count": 67,
   "metadata": {},
   "outputs": [],
   "source": [
    "list_validate_dates_piercing = []\n",
    "list_new_sign_piercing = []\n",
    "for date in list_dates_piercing:\n",
    "    s = u.check_trend(df, date, window_size, slope_size)\n",
    "    if ((s==-1)):\n",
    "        list_validate_dates_piercing.append(date)\n",
    "        list_new_sign_piercing.append(-1)\n",
    "    else:\n",
    "        list_new_sign_piercing.append(0)         "
   ]
  },
  {
   "cell_type": "code",
   "execution_count": 68,
   "metadata": {},
   "outputs": [],
   "source": [
    "list_validate_dates_morningstar = []\n",
    "list_new_sign_morningstar = []\n",
    "for date in list_dates_morningstar:\n",
    "    s = u.check_trend(df, date, window_size, slope_size)\n",
    "    if ((s==-1)):\n",
    "        list_validate_dates_morningstar.append(date)\n",
    "        list_new_sign_morningstar.append(-1)\n",
    "    else:\n",
    "        list_new_sign_morningstar.append(0)          "
   ]
  },
  {
   "cell_type": "markdown",
   "metadata": {},
   "source": [
    "#### Get the amount of candlesticks patterns (after check)"
   ]
  },
  {
   "cell_type": "code",
   "execution_count": 98,
   "metadata": {},
   "outputs": [
    {
     "name": "stdout",
     "output_type": "stream",
     "text": [
      "AFTER: number of inverted hammer:273\n",
      "AFTER: number of hammer:1501\n",
      "AFTER: number of piercing:12\n",
      "AFTER: number of morning star:277\n"
     ]
    }
   ],
   "source": [
    "print(f'AFTER: number of inverted hammer:{len(list_validate_dates_invertedhammer)}')\n",
    "print(f'AFTER: number of hammer:{len(list_validate_dates_hammer)}')\n",
    "print(f'AFTER: number of piercing:{len(list_validate_dates_piercing)}')\n",
    "print(f'AFTER: number of morning star:{len(list_validate_dates_morningstar)}')"
   ]
  },
  {
   "cell_type": "markdown",
   "metadata": {},
   "source": [
    "### Plot some results"
   ]
  },
  {
   "cell_type": "markdown",
   "metadata": {},
   "source": [
    "#### Inverted Hammer"
   ]
  },
  {
   "cell_type": "code",
   "execution_count": 70,
   "metadata": {},
   "outputs": [
    {
     "name": "stdout",
     "output_type": "stream",
     "text": [
      "602343\n"
     ]
    },
    {
     "data": {
      "image/png": "[encoded data removed]",
      "text/plain": [
       "<Figure size 1000x400 with 2 Axes>"
      ]
     },
     "metadata": {},
     "output_type": "display_data"
    }
   ],
   "source": [
    "random_date = random.randint(0, len(list_validate_dates_invertedhammer)-1)\n",
    "print(df.index.get_loc(list_validate_dates_invertedhammer[random_date]))\n",
    "idx = df.index.get_loc(list_validate_dates_invertedhammer[random_date])\n",
    "df_temp = df.iloc[idx - window_size :idx + 1]\n",
    "mpf.plot(df_temp, type='candle', figsize=(10,4))"
   ]
  },
  {
   "cell_type": "markdown",
   "metadata": {},
   "source": [
    "#### Hammer"
   ]
  },
  {
   "cell_type": "code",
   "execution_count": 71,
   "metadata": {},
   "outputs": [
    {
     "name": "stdout",
     "output_type": "stream",
     "text": [
      "66534\n"
     ]
    },
    {
     "data": {
      "image/png": "[encoded data removed]",
      "text/plain": [
       "<Figure size 1000x400 with 2 Axes>"
      ]
     },
     "metadata": {},
     "output_type": "display_data"
    }
   ],
   "source": [
    "random_date = random.randint(0, len(list_validate_dates_hammer)-1)\n",
    "print(df.index.get_loc(list_validate_dates_hammer[random_date]))\n",
    "idx = df.index.get_loc(list_validate_dates_hammer[random_date])\n",
    "df_temp = df.iloc[idx - window_size :idx + 1]\n",
    "mpf.plot(df_temp, type='candle', figsize=(10,4))"
   ]
  },
  {
   "cell_type": "markdown",
   "metadata": {},
   "source": [
    "#### Piercing"
   ]
  },
  {
   "cell_type": "code",
   "execution_count": 72,
   "metadata": {},
   "outputs": [
    {
     "name": "stdout",
     "output_type": "stream",
     "text": [
      "888198\n"
     ]
    },
    {
     "data": {
      "image/png": "[encoded data removed]",
      "text/plain": [
       "<Figure size 1000x400 with 2 Axes>"
      ]
     },
     "metadata": {},
     "output_type": "display_data"
    }
   ],
   "source": [
    "random_date = random.randint(0, len(list_validate_dates_piercing)-1)\n",
    "print(df.index.get_loc(list_validate_dates_piercing[random_date]))\n",
    "idx = df.index.get_loc(list_validate_dates_piercing[random_date])\n",
    "df_temp = df.iloc[idx - window_size :idx + 1]\n",
    "mpf.plot(df_temp, type='candle', figsize=(10,4))"
   ]
  },
  {
   "cell_type": "markdown",
   "metadata": {},
   "source": [
    "#### Morning Star"
   ]
  },
  {
   "cell_type": "code",
   "execution_count": 73,
   "metadata": {},
   "outputs": [
    {
     "name": "stdout",
     "output_type": "stream",
     "text": [
      "980977\n"
     ]
    },
    {
     "data": {
      "image/png": "[encoded data removed]",
      "text/plain": [
       "<Figure size 1000x400 with 2 Axes>"
      ]
     },
     "metadata": {},
     "output_type": "display_data"
    }
   ],
   "source": [
    "random_date = random.randint(0, len(list_validate_dates_morningstar)-1)\n",
    "print(df.index.get_loc(list_validate_dates_morningstar[random_date]))\n",
    "idx = df.index.get_loc(list_validate_dates_morningstar[random_date])\n",
    "df_temp = df.iloc[idx - window_size :idx + 1]\n",
    "mpf.plot(df_temp, type='candle', figsize=(10,4))"
   ]
  },
  {
   "cell_type": "markdown",
   "metadata": {},
   "source": [
    "### Get the dates from the bearish candlesticks patterns"
   ]
  },
  {
   "cell_type": "code",
   "execution_count": 74,
   "metadata": {},
   "outputs": [],
   "source": [
    "list_dates_shootingstar = df[df['CDLSHOOTINGSTAR'] == -100]['formatted_open_time'].to_list()\n",
    "list_dates_hangingman = df[df['CDLHANGINGMAN'] == -100]['formatted_open_time'].to_list()\n",
    "list_dates_darkcloudcover = df[df['CDLDARKCLOUDCOVER'] == -100]['formatted_open_time'].to_list()\n",
    "list_dates_eveningstar = df[df['CDLEVENINGSTAR'] == -100]['formatted_open_time'].to_list()"
   ]
  },
  {
   "cell_type": "markdown",
   "metadata": {},
   "source": [
    "#### Get the amount of candlesticks patterns (before check)"
   ]
  },
  {
   "cell_type": "code",
   "execution_count": 75,
   "metadata": {},
   "outputs": [
    {
     "name": "stdout",
     "output_type": "stream",
     "text": [
      "BEFORE: number of shooting star:8400\n",
      "BEFORE: number of hangingman:22099\n",
      "BEFORE: number of dark cloud cover:427\n",
      "BEFORE: number of evening star:3469\n"
     ]
    }
   ],
   "source": [
    "print(f'BEFORE: number of shooting star:{len(list_dates_shootingstar)}')\n",
    "print(f'BEFORE: number of hangingman:{len(list_dates_hangingman)}')\n",
    "print(f'BEFORE: number of dark cloud cover:{len(list_dates_darkcloudcover)}')\n",
    "print(f'BEFORE: number of evening star:{len(list_dates_eveningstar)}')"
   ]
  },
  {
   "cell_type": "markdown",
   "metadata": {},
   "source": [
    "#### Run the checks to identify the real candlesticks with reversal"
   ]
  },
  {
   "cell_type": "code",
   "execution_count": 76,
   "metadata": {},
   "outputs": [],
   "source": [
    "list_validate_dates_shootingstar = []\n",
    "list_new_sign_shootingstar = []\n",
    "for date in list_dates_shootingstar:\n",
    "    s = u.check_trend(df, date, window_size, slope_size)\n",
    "    if ((s==1)):\n",
    "        list_validate_dates_shootingstar.append(date)\n",
    "        list_new_sign_shootingstar.append(1)\n",
    "    else:\n",
    "        list_new_sign_shootingstar.append(0)                    "
   ]
  },
  {
   "cell_type": "code",
   "execution_count": 77,
   "metadata": {},
   "outputs": [],
   "source": [
    "list_validate_dates_hangingman = []\n",
    "list_new_sign_hangingman = []\n",
    "for date in list_dates_hangingman:\n",
    "    s = u.check_trend(df, date, window_size, slope_size)\n",
    "    if ((s==1)):\n",
    "        list_validate_dates_hangingman.append(date)\n",
    "        list_new_sign_hangingman.append(1)\n",
    "    else:\n",
    "        list_new_sign_hangingman.append(0)         "
   ]
  },
  {
   "cell_type": "code",
   "execution_count": 78,
   "metadata": {},
   "outputs": [],
   "source": [
    "list_validate_dates_darkcloudcover = []\n",
    "list_new_sign_darkcloudcover = []\n",
    "for date in list_dates_darkcloudcover:\n",
    "    s = u.check_trend(df, date, window_size, slope_size)\n",
    "    if ((s==1)):\n",
    "        list_validate_dates_darkcloudcover.append(date)\n",
    "        list_new_sign_darkcloudcover.append(1)\n",
    "    else:\n",
    "        list_new_sign_darkcloudcover.append(0)          "
   ]
  },
  {
   "cell_type": "code",
   "execution_count": 79,
   "metadata": {},
   "outputs": [],
   "source": [
    "list_validate_dates_eveningstar = []\n",
    "list_new_sign_eveningstar = []\n",
    "for date in list_dates_eveningstar:\n",
    "    s = u.check_trend(df, date, window_size, slope_size)\n",
    "    if ((s==1)):\n",
    "        list_validate_dates_eveningstar.append(date)\n",
    "        list_new_sign_eveningstar.append(1)\n",
    "    else:\n",
    "        list_new_sign_eveningstar.append(0)         "
   ]
  },
  {
   "cell_type": "markdown",
   "metadata": {},
   "source": [
    "#### Get the amount of candlesticks patterns (after check)"
   ]
  },
  {
   "cell_type": "code",
   "execution_count": 80,
   "metadata": {},
   "outputs": [
    {
     "name": "stdout",
     "output_type": "stream",
     "text": [
      "AFTER: number of shooting star:4259\n",
      "AFTER: number of hangingman:12983\n",
      "AFTER: number of dark cloud cover:243\n",
      "AFTER: number of evening star:2510\n"
     ]
    }
   ],
   "source": [
    "print(f'AFTER: number of shooting star:{len(list_validate_dates_shootingstar)}')\n",
    "print(f'AFTER: number of hangingman:{len(list_validate_dates_hangingman)}')\n",
    "print(f'AFTER: number of dark cloud cover:{len(list_validate_dates_darkcloudcover)}')\n",
    "print(f'AFTER: number of evening star:{len(list_validate_dates_eveningstar)}')"
   ]
  },
  {
   "cell_type": "markdown",
   "metadata": {},
   "source": [
    "### Plot some results"
   ]
  },
  {
   "cell_type": "markdown",
   "metadata": {},
   "source": [
    "#### Shooting Star"
   ]
  },
  {
   "cell_type": "code",
   "execution_count": 81,
   "metadata": {},
   "outputs": [
    {
     "name": "stdout",
     "output_type": "stream",
     "text": [
      "873742\n"
     ]
    },
    {
     "data": {
      "image/png": "[encoded data removed]",
      "text/plain": [
       "<Figure size 1000x400 with 2 Axes>"
      ]
     },
     "metadata": {},
     "output_type": "display_data"
    }
   ],
   "source": [
    "random_date = random.randint(0, len(list_validate_dates_shootingstar)-1)\n",
    "print(df.index.get_loc(list_validate_dates_shootingstar[random_date]))\n",
    "idx = df.index.get_loc(list_validate_dates_shootingstar[random_date])\n",
    "df_temp = df.iloc[idx - window_size :idx + 1]\n",
    "mpf.plot(df_temp, type='candle', figsize=(10,4))"
   ]
  },
  {
   "cell_type": "markdown",
   "metadata": {},
   "source": [
    "#### Hangingman"
   ]
  },
  {
   "cell_type": "code",
   "execution_count": 82,
   "metadata": {},
   "outputs": [
    {
     "name": "stdout",
     "output_type": "stream",
     "text": [
      "200527\n"
     ]
    },
    {
     "data": {
      "image/png": "[encoded data removed]",
      "text/plain": [
       "<Figure size 1000x400 with 2 Axes>"
      ]
     },
     "metadata": {},
     "output_type": "display_data"
    }
   ],
   "source": [
    "random_date = random.randint(0, len(list_validate_dates_hangingman)-1)\n",
    "print(df.index.get_loc(list_validate_dates_hangingman[random_date]))\n",
    "idx = df.index.get_loc(list_validate_dates_hangingman[random_date])\n",
    "df_temp = df.iloc[idx - window_size :idx + 1]\n",
    "mpf.plot(df_temp, type='candle', figsize=(10,4))"
   ]
  },
  {
   "cell_type": "markdown",
   "metadata": {},
   "source": [
    "#### Dark Cloud Cover"
   ]
  },
  {
   "cell_type": "code",
   "execution_count": 83,
   "metadata": {},
   "outputs": [
    {
     "name": "stdout",
     "output_type": "stream",
     "text": [
      "163612\n"
     ]
    },
    {
     "data": {
      "image/png": "[encoded data removed]",
      "text/plain": [
       "<Figure size 1000x400 with 2 Axes>"
      ]
     },
     "metadata": {},
     "output_type": "display_data"
    }
   ],
   "source": [
    "random_date = random.randint(0, len(list_validate_dates_darkcloudcover)-1)\n",
    "print(df.index.get_loc(list_validate_dates_darkcloudcover[random_date]))\n",
    "idx = df.index.get_loc(list_validate_dates_darkcloudcover[random_date])\n",
    "df_temp = df.iloc[idx - window_size :idx + 1]\n",
    "mpf.plot(df_temp, type='candle', figsize=(10,4))"
   ]
  },
  {
   "cell_type": "markdown",
   "metadata": {},
   "source": [
    "#### Evening Star"
   ]
  },
  {
   "cell_type": "code",
   "execution_count": 84,
   "metadata": {},
   "outputs": [
    {
     "name": "stdout",
     "output_type": "stream",
     "text": [
      "885783\n"
     ]
    },
    {
     "data": {
      "image/png": "[encoded data removed]",
      "text/plain": [
       "<Figure size 1000x400 with 2 Axes>"
      ]
     },
     "metadata": {},
     "output_type": "display_data"
    }
   ],
   "source": [
    "random_date = random.randint(0, len(list_validate_dates_eveningstar)-1)\n",
    "print(df.index.get_loc(list_validate_dates_eveningstar[random_date]))\n",
    "idx = df.index.get_loc(list_validate_dates_eveningstar[random_date])\n",
    "df_temp = df.iloc[idx - window_size :idx + 1]\n",
    "mpf.plot(df_temp, type='candle', figsize=(10,4))"
   ]
  },
  {
   "cell_type": "markdown",
   "metadata": {},
   "source": [
    "## Create the Data with the validation"
   ]
  },
  {
   "cell_type": "code",
   "execution_count": 102,
   "metadata": {},
   "outputs": [],
   "source": [
    "# list_new_column_name = ['CDLINVERTEDHAMMER_NEW', 'CDLHAMMER_NEW', 'CDLPIERCING_NEW', 'CDLMORNINGSTAR_NEW', 'CDLSHOOTINGSTAR_NEW', 'CDLHANGINGMAN_NEW', 'CDLDARKCLOUDCOVER_NEW', 'CDLEVENINGSTAR_NEW']\n",
    "# list_of_list_valid_dates = [list_validate_dates_invertedhammer, list_validate_dates_hammer, list_validate_dates_piercing, list_validate_dates_morningstar, list_validate_dates_shootingstar, list_validate_dates_hangingman, list_validate_dates_darkcloudcover, list_validate_dates_eveningstar]\n",
    "# list_of_list_new_sign = [list_new_sign_invertedhammer, list_new_sign_hammer, list_new_sign_piercing, list_new_sign_morningstar, list_new_sign_shootingstar, list_new_sign_hangingman, list_new_sign_darkcloudcover, list_new_sign_eveningstar]\n",
    "\n",
    "list_new_column_name_pos = ['CDLINVERTEDHAMMER_NEW', 'CDLHAMMER_NEW', 'CDLPIERCING_NEW', 'CDLMORNINGSTAR_NEW']\n",
    "list_new_column_name_neg = ['CDLSHOOTINGSTAR_NEW', 'CDLHANGINGMAN_NEW', 'CDLDARKCLOUDCOVER_NEW', 'CDLEVENINGSTAR_NEW']\n",
    "\n",
    "list_of_list_valid_dates_pos = [list_validate_dates_invertedhammer, list_validate_dates_hammer, list_validate_dates_piercing, list_validate_dates_morningstar]\n",
    "list_of_list_valid_dates_neg = [list_validate_dates_shootingstar, list_validate_dates_hangingman, list_validate_dates_darkcloudcover, list_validate_dates_eveningstar]"
   ]
  },
  {
   "cell_type": "code",
   "execution_count": 103,
   "metadata": {},
   "outputs": [
    {
     "data": {
      "text/plain": [
       "(1048956, 25)"
      ]
     },
     "execution_count": 103,
     "metadata": {},
     "output_type": "execute_result"
    }
   ],
   "source": [
    "df.shape"
   ]
  },
  {
   "cell_type": "code",
   "execution_count": 104,
   "metadata": {},
   "outputs": [],
   "source": [
    "for i in range(0, len(list_new_column_name_pos)-1):\n",
    "    df[list_new_column_name_pos[i]] = np.where(df['formatted_open_time'].isin(list_of_list_valid_dates_pos[i]), 1, 0)"
   ]
  },
  {
   "cell_type": "code",
   "execution_count": 105,
   "metadata": {},
   "outputs": [],
   "source": [
    "for i in range(0, len(list_new_column_name_neg)-1):\n",
    "    df[list_new_column_name_neg[i]] = np.where(df['formatted_open_time'].isin(list_of_list_valid_dates_neg[i]), -1, 0)"
   ]
  },
  {
   "cell_type": "code",
   "execution_count": 106,
   "metadata": {},
   "outputs": [
    {
     "data": {
      "text/html": [
       "<div>\n",
       "<style scoped>\n",
       "    .dataframe tbody tr th:only-of-type {\n",
       "        vertical-align: middle;\n",
       "    }\n",
       "\n",
       "    .dataframe tbody tr th {\n",
       "        vertical-align: top;\n",
       "    }\n",
       "\n",
       "    .dataframe thead th {\n",
       "        text-align: right;\n",
       "    }\n",
       "</style>\n",
       "<table border=\"1\" class=\"dataframe\">\n",
       "  <thead>\n",
       "    <tr style=\"text-align: right;\">\n",
       "      <th></th>\n",
       "      <th>open_time</th>\n",
       "      <th>open</th>\n",
       "      <th>high</th>\n",
       "      <th>low</th>\n",
       "      <th>close</th>\n",
       "      <th>volume</th>\n",
       "      <th>close_time</th>\n",
       "      <th>quote_asset_volumne</th>\n",
       "      <th>number_of_trades</th>\n",
       "      <th>taker_buy_base_asset_volume</th>\n",
       "      <th>...</th>\n",
       "      <th>CDLSHOOTINGSTAR</th>\n",
       "      <th>CDLHANGINGMAN</th>\n",
       "      <th>CDLDARKCLOUDCOVER</th>\n",
       "      <th>CDLEVENINGSTAR</th>\n",
       "      <th>CDLINVERTEDHAMMER_NEW</th>\n",
       "      <th>CDLHAMMER_NEW</th>\n",
       "      <th>CDLPIERCING_NEW</th>\n",
       "      <th>CDLSHOOTINGSTAR_NEW</th>\n",
       "      <th>CDLHANGINGMAN_NEW</th>\n",
       "      <th>CDLDARKCLOUDCOVER_NEW</th>\n",
       "    </tr>\n",
       "    <tr>\n",
       "      <th>formatted_open_time</th>\n",
       "      <th></th>\n",
       "      <th></th>\n",
       "      <th></th>\n",
       "      <th></th>\n",
       "      <th></th>\n",
       "      <th></th>\n",
       "      <th></th>\n",
       "      <th></th>\n",
       "      <th></th>\n",
       "      <th></th>\n",
       "      <th></th>\n",
       "      <th></th>\n",
       "      <th></th>\n",
       "      <th></th>\n",
       "      <th></th>\n",
       "      <th></th>\n",
       "      <th></th>\n",
       "      <th></th>\n",
       "      <th></th>\n",
       "      <th></th>\n",
       "      <th></th>\n",
       "    </tr>\n",
       "  </thead>\n",
       "  <tbody>\n",
       "    <tr>\n",
       "      <th>2020-01-01 00:00:00</th>\n",
       "      <td>1577836800000</td>\n",
       "      <td>7195.24</td>\n",
       "      <td>7196.25</td>\n",
       "      <td>7183.14</td>\n",
       "      <td>7186.68</td>\n",
       "      <td>51.642812</td>\n",
       "      <td>1577836859999</td>\n",
       "      <td>371233.518355</td>\n",
       "      <td>493</td>\n",
       "      <td>19.598230</td>\n",
       "      <td>...</td>\n",
       "      <td>0</td>\n",
       "      <td>0</td>\n",
       "      <td>0</td>\n",
       "      <td>0</td>\n",
       "      <td>0</td>\n",
       "      <td>0</td>\n",
       "      <td>0</td>\n",
       "      <td>0</td>\n",
       "      <td>0</td>\n",
       "      <td>0</td>\n",
       "    </tr>\n",
       "    <tr>\n",
       "      <th>2020-01-01 00:01:00</th>\n",
       "      <td>1577836860000</td>\n",
       "      <td>7187.67</td>\n",
       "      <td>7188.06</td>\n",
       "      <td>7182.20</td>\n",
       "      <td>7184.03</td>\n",
       "      <td>7.248148</td>\n",
       "      <td>1577836919999</td>\n",
       "      <td>52080.127788</td>\n",
       "      <td>135</td>\n",
       "      <td>2.031772</td>\n",
       "      <td>...</td>\n",
       "      <td>0</td>\n",
       "      <td>0</td>\n",
       "      <td>0</td>\n",
       "      <td>0</td>\n",
       "      <td>0</td>\n",
       "      <td>0</td>\n",
       "      <td>0</td>\n",
       "      <td>0</td>\n",
       "      <td>0</td>\n",
       "      <td>0</td>\n",
       "    </tr>\n",
       "    <tr>\n",
       "      <th>2020-01-01 00:02:00</th>\n",
       "      <td>1577836920000</td>\n",
       "      <td>7184.41</td>\n",
       "      <td>7184.71</td>\n",
       "      <td>7180.26</td>\n",
       "      <td>7182.43</td>\n",
       "      <td>11.681677</td>\n",
       "      <td>1577836979999</td>\n",
       "      <td>83903.741635</td>\n",
       "      <td>202</td>\n",
       "      <td>5.479244</td>\n",
       "      <td>...</td>\n",
       "      <td>0</td>\n",
       "      <td>0</td>\n",
       "      <td>0</td>\n",
       "      <td>0</td>\n",
       "      <td>0</td>\n",
       "      <td>0</td>\n",
       "      <td>0</td>\n",
       "      <td>0</td>\n",
       "      <td>0</td>\n",
       "      <td>0</td>\n",
       "    </tr>\n",
       "    <tr>\n",
       "      <th>2020-01-01 00:03:00</th>\n",
       "      <td>1577836980000</td>\n",
       "      <td>7183.83</td>\n",
       "      <td>7188.94</td>\n",
       "      <td>7182.49</td>\n",
       "      <td>7185.94</td>\n",
       "      <td>10.025391</td>\n",
       "      <td>1577837039999</td>\n",
       "      <td>72033.226649</td>\n",
       "      <td>136</td>\n",
       "      <td>3.294966</td>\n",
       "      <td>...</td>\n",
       "      <td>0</td>\n",
       "      <td>0</td>\n",
       "      <td>0</td>\n",
       "      <td>0</td>\n",
       "      <td>0</td>\n",
       "      <td>0</td>\n",
       "      <td>0</td>\n",
       "      <td>0</td>\n",
       "      <td>0</td>\n",
       "      <td>0</td>\n",
       "    </tr>\n",
       "    <tr>\n",
       "      <th>2020-01-01 00:04:00</th>\n",
       "      <td>1577837040000</td>\n",
       "      <td>7185.54</td>\n",
       "      <td>7185.54</td>\n",
       "      <td>7178.64</td>\n",
       "      <td>7179.78</td>\n",
       "      <td>14.911105</td>\n",
       "      <td>1577837099999</td>\n",
       "      <td>107066.521825</td>\n",
       "      <td>161</td>\n",
       "      <td>2.369033</td>\n",
       "      <td>...</td>\n",
       "      <td>0</td>\n",
       "      <td>0</td>\n",
       "      <td>0</td>\n",
       "      <td>0</td>\n",
       "      <td>0</td>\n",
       "      <td>0</td>\n",
       "      <td>0</td>\n",
       "      <td>0</td>\n",
       "      <td>0</td>\n",
       "      <td>0</td>\n",
       "    </tr>\n",
       "  </tbody>\n",
       "</table>\n",
       "<p>5 rows × 31 columns</p>\n",
       "</div>"
      ],
      "text/plain": [
       "                         open_time     open     high      low    close  \\\n",
       "formatted_open_time                                                      \n",
       "2020-01-01 00:00:00  1577836800000  7195.24  7196.25  7183.14  7186.68   \n",
       "2020-01-01 00:01:00  1577836860000  7187.67  7188.06  7182.20  7184.03   \n",
       "2020-01-01 00:02:00  1577836920000  7184.41  7184.71  7180.26  7182.43   \n",
       "2020-01-01 00:03:00  1577836980000  7183.83  7188.94  7182.49  7185.94   \n",
       "2020-01-01 00:04:00  1577837040000  7185.54  7185.54  7178.64  7179.78   \n",
       "\n",
       "                        volume     close_time  quote_asset_volumne  \\\n",
       "formatted_open_time                                                  \n",
       "2020-01-01 00:00:00  51.642812  1577836859999        371233.518355   \n",
       "2020-01-01 00:01:00   7.248148  1577836919999         52080.127788   \n",
       "2020-01-01 00:02:00  11.681677  1577836979999         83903.741635   \n",
       "2020-01-01 00:03:00  10.025391  1577837039999         72033.226649   \n",
       "2020-01-01 00:04:00  14.911105  1577837099999        107066.521825   \n",
       "\n",
       "                     number_of_trades  taker_buy_base_asset_volume  ...  \\\n",
       "formatted_open_time                                                 ...   \n",
       "2020-01-01 00:00:00               493                    19.598230  ...   \n",
       "2020-01-01 00:01:00               135                     2.031772  ...   \n",
       "2020-01-01 00:02:00               202                     5.479244  ...   \n",
       "2020-01-01 00:03:00               136                     3.294966  ...   \n",
       "2020-01-01 00:04:00               161                     2.369033  ...   \n",
       "\n",
       "                     CDLSHOOTINGSTAR  CDLHANGINGMAN CDLDARKCLOUDCOVER  \\\n",
       "formatted_open_time                                                     \n",
       "2020-01-01 00:00:00                0              0                 0   \n",
       "2020-01-01 00:01:00                0              0                 0   \n",
       "2020-01-01 00:02:00                0              0                 0   \n",
       "2020-01-01 00:03:00                0              0                 0   \n",
       "2020-01-01 00:04:00                0              0                 0   \n",
       "\n",
       "                    CDLEVENINGSTAR  CDLINVERTEDHAMMER_NEW  CDLHAMMER_NEW  \\\n",
       "formatted_open_time                                                        \n",
       "2020-01-01 00:00:00              0                      0              0   \n",
       "2020-01-01 00:01:00              0                      0              0   \n",
       "2020-01-01 00:02:00              0                      0              0   \n",
       "2020-01-01 00:03:00              0                      0              0   \n",
       "2020-01-01 00:04:00              0                      0              0   \n",
       "\n",
       "                     CDLPIERCING_NEW  CDLSHOOTINGSTAR_NEW  CDLHANGINGMAN_NEW  \\\n",
       "formatted_open_time                                                            \n",
       "2020-01-01 00:00:00                0                    0                  0   \n",
       "2020-01-01 00:01:00                0                    0                  0   \n",
       "2020-01-01 00:02:00                0                    0                  0   \n",
       "2020-01-01 00:03:00                0                    0                  0   \n",
       "2020-01-01 00:04:00                0                    0                  0   \n",
       "\n",
       "                     CDLDARKCLOUDCOVER_NEW  \n",
       "formatted_open_time                         \n",
       "2020-01-01 00:00:00                      0  \n",
       "2020-01-01 00:01:00                      0  \n",
       "2020-01-01 00:02:00                      0  \n",
       "2020-01-01 00:03:00                      0  \n",
       "2020-01-01 00:04:00                      0  \n",
       "\n",
       "[5 rows x 31 columns]"
      ]
     },
     "execution_count": 106,
     "metadata": {},
     "output_type": "execute_result"
    }
   ],
   "source": [
    "df.head()"
   ]
  },
  {
   "cell_type": "markdown",
   "metadata": {},
   "source": [
    "### Check"
   ]
  },
  {
   "cell_type": "code",
   "execution_count": 108,
   "metadata": {},
   "outputs": [
    {
     "data": {
      "text/html": [
       "<div>\n",
       "<style scoped>\n",
       "    .dataframe tbody tr th:only-of-type {\n",
       "        vertical-align: middle;\n",
       "    }\n",
       "\n",
       "    .dataframe tbody tr th {\n",
       "        vertical-align: top;\n",
       "    }\n",
       "\n",
       "    .dataframe thead th {\n",
       "        text-align: right;\n",
       "    }\n",
       "</style>\n",
       "<table border=\"1\" class=\"dataframe\">\n",
       "  <thead>\n",
       "    <tr style=\"text-align: right;\">\n",
       "      <th></th>\n",
       "      <th>open_time</th>\n",
       "      <th>open</th>\n",
       "      <th>high</th>\n",
       "      <th>low</th>\n",
       "      <th>close</th>\n",
       "      <th>volume</th>\n",
       "      <th>close_time</th>\n",
       "      <th>quote_asset_volumne</th>\n",
       "      <th>number_of_trades</th>\n",
       "      <th>taker_buy_base_asset_volume</th>\n",
       "      <th>...</th>\n",
       "      <th>CDLSHOOTINGSTAR</th>\n",
       "      <th>CDLHANGINGMAN</th>\n",
       "      <th>CDLDARKCLOUDCOVER</th>\n",
       "      <th>CDLEVENINGSTAR</th>\n",
       "      <th>CDLINVERTEDHAMMER_NEW</th>\n",
       "      <th>CDLHAMMER_NEW</th>\n",
       "      <th>CDLPIERCING_NEW</th>\n",
       "      <th>CDLSHOOTINGSTAR_NEW</th>\n",
       "      <th>CDLHANGINGMAN_NEW</th>\n",
       "      <th>CDLDARKCLOUDCOVER_NEW</th>\n",
       "    </tr>\n",
       "    <tr>\n",
       "      <th>formatted_open_time</th>\n",
       "      <th></th>\n",
       "      <th></th>\n",
       "      <th></th>\n",
       "      <th></th>\n",
       "      <th></th>\n",
       "      <th></th>\n",
       "      <th></th>\n",
       "      <th></th>\n",
       "      <th></th>\n",
       "      <th></th>\n",
       "      <th></th>\n",
       "      <th></th>\n",
       "      <th></th>\n",
       "      <th></th>\n",
       "      <th></th>\n",
       "      <th></th>\n",
       "      <th></th>\n",
       "      <th></th>\n",
       "      <th></th>\n",
       "      <th></th>\n",
       "      <th></th>\n",
       "    </tr>\n",
       "  </thead>\n",
       "  <tbody>\n",
       "    <tr>\n",
       "      <th>2020-01-01 01:51:00</th>\n",
       "      <td>1577843460000</td>\n",
       "      <td>7205.24</td>\n",
       "      <td>7205.31</td>\n",
       "      <td>7205.04</td>\n",
       "      <td>7205.26</td>\n",
       "      <td>16.023105</td>\n",
       "      <td>1577843519999</td>\n",
       "      <td>1.154507e+05</td>\n",
       "      <td>73</td>\n",
       "      <td>12.365266</td>\n",
       "      <td>...</td>\n",
       "      <td>-100</td>\n",
       "      <td>-100</td>\n",
       "      <td>0</td>\n",
       "      <td>0</td>\n",
       "      <td>0</td>\n",
       "      <td>0</td>\n",
       "      <td>0</td>\n",
       "      <td>0</td>\n",
       "      <td>0</td>\n",
       "      <td>0</td>\n",
       "    </tr>\n",
       "    <tr>\n",
       "      <th>2020-01-01 02:06:00</th>\n",
       "      <td>1577844360000</td>\n",
       "      <td>7218.60</td>\n",
       "      <td>7221.32</td>\n",
       "      <td>7218.60</td>\n",
       "      <td>7219.03</td>\n",
       "      <td>4.323330</td>\n",
       "      <td>1577844419999</td>\n",
       "      <td>3.121500e+04</td>\n",
       "      <td>57</td>\n",
       "      <td>0.849059</td>\n",
       "      <td>...</td>\n",
       "      <td>-100</td>\n",
       "      <td>0</td>\n",
       "      <td>0</td>\n",
       "      <td>0</td>\n",
       "      <td>0</td>\n",
       "      <td>0</td>\n",
       "      <td>0</td>\n",
       "      <td>-1</td>\n",
       "      <td>0</td>\n",
       "      <td>0</td>\n",
       "    </tr>\n",
       "    <tr>\n",
       "      <th>2020-01-01 02:52:00</th>\n",
       "      <td>1577847120000</td>\n",
       "      <td>7238.00</td>\n",
       "      <td>7240.76</td>\n",
       "      <td>7237.64</td>\n",
       "      <td>7238.76</td>\n",
       "      <td>21.439908</td>\n",
       "      <td>1577847179999</td>\n",
       "      <td>1.552011e+05</td>\n",
       "      <td>220</td>\n",
       "      <td>14.497286</td>\n",
       "      <td>...</td>\n",
       "      <td>-100</td>\n",
       "      <td>0</td>\n",
       "      <td>0</td>\n",
       "      <td>0</td>\n",
       "      <td>0</td>\n",
       "      <td>0</td>\n",
       "      <td>0</td>\n",
       "      <td>-1</td>\n",
       "      <td>0</td>\n",
       "      <td>0</td>\n",
       "    </tr>\n",
       "    <tr>\n",
       "      <th>2020-01-01 06:04:00</th>\n",
       "      <td>1577858640000</td>\n",
       "      <td>7225.55</td>\n",
       "      <td>7228.31</td>\n",
       "      <td>7225.50</td>\n",
       "      <td>7226.84</td>\n",
       "      <td>4.430895</td>\n",
       "      <td>1577858699999</td>\n",
       "      <td>3.202228e+04</td>\n",
       "      <td>202</td>\n",
       "      <td>2.464885</td>\n",
       "      <td>...</td>\n",
       "      <td>-100</td>\n",
       "      <td>0</td>\n",
       "      <td>0</td>\n",
       "      <td>0</td>\n",
       "      <td>0</td>\n",
       "      <td>0</td>\n",
       "      <td>0</td>\n",
       "      <td>-1</td>\n",
       "      <td>0</td>\n",
       "      <td>0</td>\n",
       "    </tr>\n",
       "    <tr>\n",
       "      <th>2020-01-01 06:14:00</th>\n",
       "      <td>1577859240000</td>\n",
       "      <td>7229.33</td>\n",
       "      <td>7230.00</td>\n",
       "      <td>7229.18</td>\n",
       "      <td>7229.31</td>\n",
       "      <td>6.391835</td>\n",
       "      <td>1577859299999</td>\n",
       "      <td>4.621049e+04</td>\n",
       "      <td>155</td>\n",
       "      <td>1.392283</td>\n",
       "      <td>...</td>\n",
       "      <td>-100</td>\n",
       "      <td>0</td>\n",
       "      <td>0</td>\n",
       "      <td>0</td>\n",
       "      <td>0</td>\n",
       "      <td>0</td>\n",
       "      <td>0</td>\n",
       "      <td>-1</td>\n",
       "      <td>0</td>\n",
       "      <td>0</td>\n",
       "    </tr>\n",
       "    <tr>\n",
       "      <th>...</th>\n",
       "      <td>...</td>\n",
       "      <td>...</td>\n",
       "      <td>...</td>\n",
       "      <td>...</td>\n",
       "      <td>...</td>\n",
       "      <td>...</td>\n",
       "      <td>...</td>\n",
       "      <td>...</td>\n",
       "      <td>...</td>\n",
       "      <td>...</td>\n",
       "      <td>...</td>\n",
       "      <td>...</td>\n",
       "      <td>...</td>\n",
       "      <td>...</td>\n",
       "      <td>...</td>\n",
       "      <td>...</td>\n",
       "      <td>...</td>\n",
       "      <td>...</td>\n",
       "      <td>...</td>\n",
       "      <td>...</td>\n",
       "      <td>...</td>\n",
       "    </tr>\n",
       "    <tr>\n",
       "      <th>2021-12-30 14:21:00</th>\n",
       "      <td>1640874060000</td>\n",
       "      <td>47249.79</td>\n",
       "      <td>47286.50</td>\n",
       "      <td>47249.78</td>\n",
       "      <td>47254.82</td>\n",
       "      <td>21.404370</td>\n",
       "      <td>1640874119999</td>\n",
       "      <td>1.011660e+06</td>\n",
       "      <td>616</td>\n",
       "      <td>12.660600</td>\n",
       "      <td>...</td>\n",
       "      <td>-100</td>\n",
       "      <td>0</td>\n",
       "      <td>0</td>\n",
       "      <td>0</td>\n",
       "      <td>0</td>\n",
       "      <td>0</td>\n",
       "      <td>0</td>\n",
       "      <td>0</td>\n",
       "      <td>0</td>\n",
       "      <td>0</td>\n",
       "    </tr>\n",
       "    <tr>\n",
       "      <th>2021-12-30 16:28:00</th>\n",
       "      <td>1640881680000</td>\n",
       "      <td>47238.77</td>\n",
       "      <td>47259.63</td>\n",
       "      <td>47238.76</td>\n",
       "      <td>47244.20</td>\n",
       "      <td>24.137770</td>\n",
       "      <td>1640881739999</td>\n",
       "      <td>1.140479e+06</td>\n",
       "      <td>519</td>\n",
       "      <td>16.994270</td>\n",
       "      <td>...</td>\n",
       "      <td>-100</td>\n",
       "      <td>0</td>\n",
       "      <td>0</td>\n",
       "      <td>0</td>\n",
       "      <td>0</td>\n",
       "      <td>0</td>\n",
       "      <td>0</td>\n",
       "      <td>0</td>\n",
       "      <td>0</td>\n",
       "      <td>0</td>\n",
       "    </tr>\n",
       "    <tr>\n",
       "      <th>2021-12-30 17:41:00</th>\n",
       "      <td>1640886060000</td>\n",
       "      <td>47574.19</td>\n",
       "      <td>47605.00</td>\n",
       "      <td>47570.84</td>\n",
       "      <td>47587.99</td>\n",
       "      <td>61.111970</td>\n",
       "      <td>1640886119999</td>\n",
       "      <td>2.908803e+06</td>\n",
       "      <td>529</td>\n",
       "      <td>11.174860</td>\n",
       "      <td>...</td>\n",
       "      <td>-100</td>\n",
       "      <td>0</td>\n",
       "      <td>0</td>\n",
       "      <td>0</td>\n",
       "      <td>0</td>\n",
       "      <td>0</td>\n",
       "      <td>0</td>\n",
       "      <td>-1</td>\n",
       "      <td>0</td>\n",
       "      <td>0</td>\n",
       "    </tr>\n",
       "    <tr>\n",
       "      <th>2021-12-30 17:49:00</th>\n",
       "      <td>1640886540000</td>\n",
       "      <td>47676.54</td>\n",
       "      <td>47697.28</td>\n",
       "      <td>47676.53</td>\n",
       "      <td>47686.58</td>\n",
       "      <td>7.342360</td>\n",
       "      <td>1640886599999</td>\n",
       "      <td>3.501275e+05</td>\n",
       "      <td>509</td>\n",
       "      <td>4.205090</td>\n",
       "      <td>...</td>\n",
       "      <td>-100</td>\n",
       "      <td>0</td>\n",
       "      <td>0</td>\n",
       "      <td>0</td>\n",
       "      <td>0</td>\n",
       "      <td>0</td>\n",
       "      <td>0</td>\n",
       "      <td>-1</td>\n",
       "      <td>0</td>\n",
       "      <td>0</td>\n",
       "    </tr>\n",
       "    <tr>\n",
       "      <th>2021-12-30 22:04:00</th>\n",
       "      <td>1640901840000</td>\n",
       "      <td>47289.26</td>\n",
       "      <td>47314.31</td>\n",
       "      <td>47285.78</td>\n",
       "      <td>47296.70</td>\n",
       "      <td>10.532850</td>\n",
       "      <td>1640901899999</td>\n",
       "      <td>4.981911e+05</td>\n",
       "      <td>410</td>\n",
       "      <td>7.801730</td>\n",
       "      <td>...</td>\n",
       "      <td>-100</td>\n",
       "      <td>0</td>\n",
       "      <td>0</td>\n",
       "      <td>0</td>\n",
       "      <td>0</td>\n",
       "      <td>0</td>\n",
       "      <td>0</td>\n",
       "      <td>-1</td>\n",
       "      <td>0</td>\n",
       "      <td>0</td>\n",
       "    </tr>\n",
       "  </tbody>\n",
       "</table>\n",
       "<p>8400 rows × 31 columns</p>\n",
       "</div>"
      ],
      "text/plain": [
       "                         open_time      open      high       low     close  \\\n",
       "formatted_open_time                                                          \n",
       "2020-01-01 01:51:00  1577843460000   7205.24   7205.31   7205.04   7205.26   \n",
       "2020-01-01 02:06:00  1577844360000   7218.60   7221.32   7218.60   7219.03   \n",
       "2020-01-01 02:52:00  1577847120000   7238.00   7240.76   7237.64   7238.76   \n",
       "2020-01-01 06:04:00  1577858640000   7225.55   7228.31   7225.50   7226.84   \n",
       "2020-01-01 06:14:00  1577859240000   7229.33   7230.00   7229.18   7229.31   \n",
       "...                            ...       ...       ...       ...       ...   \n",
       "2021-12-30 14:21:00  1640874060000  47249.79  47286.50  47249.78  47254.82   \n",
       "2021-12-30 16:28:00  1640881680000  47238.77  47259.63  47238.76  47244.20   \n",
       "2021-12-30 17:41:00  1640886060000  47574.19  47605.00  47570.84  47587.99   \n",
       "2021-12-30 17:49:00  1640886540000  47676.54  47697.28  47676.53  47686.58   \n",
       "2021-12-30 22:04:00  1640901840000  47289.26  47314.31  47285.78  47296.70   \n",
       "\n",
       "                        volume     close_time  quote_asset_volumne  \\\n",
       "formatted_open_time                                                  \n",
       "2020-01-01 01:51:00  16.023105  1577843519999         1.154507e+05   \n",
       "2020-01-01 02:06:00   4.323330  1577844419999         3.121500e+04   \n",
       "2020-01-01 02:52:00  21.439908  1577847179999         1.552011e+05   \n",
       "2020-01-01 06:04:00   4.430895  1577858699999         3.202228e+04   \n",
       "2020-01-01 06:14:00   6.391835  1577859299999         4.621049e+04   \n",
       "...                        ...            ...                  ...   \n",
       "2021-12-30 14:21:00  21.404370  1640874119999         1.011660e+06   \n",
       "2021-12-30 16:28:00  24.137770  1640881739999         1.140479e+06   \n",
       "2021-12-30 17:41:00  61.111970  1640886119999         2.908803e+06   \n",
       "2021-12-30 17:49:00   7.342360  1640886599999         3.501275e+05   \n",
       "2021-12-30 22:04:00  10.532850  1640901899999         4.981911e+05   \n",
       "\n",
       "                     number_of_trades  taker_buy_base_asset_volume  ...  \\\n",
       "formatted_open_time                                                 ...   \n",
       "2020-01-01 01:51:00                73                    12.365266  ...   \n",
       "2020-01-01 02:06:00                57                     0.849059  ...   \n",
       "2020-01-01 02:52:00               220                    14.497286  ...   \n",
       "2020-01-01 06:04:00               202                     2.464885  ...   \n",
       "2020-01-01 06:14:00               155                     1.392283  ...   \n",
       "...                               ...                          ...  ...   \n",
       "2021-12-30 14:21:00               616                    12.660600  ...   \n",
       "2021-12-30 16:28:00               519                    16.994270  ...   \n",
       "2021-12-30 17:41:00               529                    11.174860  ...   \n",
       "2021-12-30 17:49:00               509                     4.205090  ...   \n",
       "2021-12-30 22:04:00               410                     7.801730  ...   \n",
       "\n",
       "                     CDLSHOOTINGSTAR  CDLHANGINGMAN CDLDARKCLOUDCOVER  \\\n",
       "formatted_open_time                                                     \n",
       "2020-01-01 01:51:00             -100           -100                 0   \n",
       "2020-01-01 02:06:00             -100              0                 0   \n",
       "2020-01-01 02:52:00             -100              0                 0   \n",
       "2020-01-01 06:04:00             -100              0                 0   \n",
       "2020-01-01 06:14:00             -100              0                 0   \n",
       "...                              ...            ...               ...   \n",
       "2021-12-30 14:21:00             -100              0                 0   \n",
       "2021-12-30 16:28:00             -100              0                 0   \n",
       "2021-12-30 17:41:00             -100              0                 0   \n",
       "2021-12-30 17:49:00             -100              0                 0   \n",
       "2021-12-30 22:04:00             -100              0                 0   \n",
       "\n",
       "                    CDLEVENINGSTAR  CDLINVERTEDHAMMER_NEW  CDLHAMMER_NEW  \\\n",
       "formatted_open_time                                                        \n",
       "2020-01-01 01:51:00              0                      0              0   \n",
       "2020-01-01 02:06:00              0                      0              0   \n",
       "2020-01-01 02:52:00              0                      0              0   \n",
       "2020-01-01 06:04:00              0                      0              0   \n",
       "2020-01-01 06:14:00              0                      0              0   \n",
       "...                            ...                    ...            ...   \n",
       "2021-12-30 14:21:00              0                      0              0   \n",
       "2021-12-30 16:28:00              0                      0              0   \n",
       "2021-12-30 17:41:00              0                      0              0   \n",
       "2021-12-30 17:49:00              0                      0              0   \n",
       "2021-12-30 22:04:00              0                      0              0   \n",
       "\n",
       "                     CDLPIERCING_NEW  CDLSHOOTINGSTAR_NEW  CDLHANGINGMAN_NEW  \\\n",
       "formatted_open_time                                                            \n",
       "2020-01-01 01:51:00                0                    0                  0   \n",
       "2020-01-01 02:06:00                0                   -1                  0   \n",
       "2020-01-01 02:52:00                0                   -1                  0   \n",
       "2020-01-01 06:04:00                0                   -1                  0   \n",
       "2020-01-01 06:14:00                0                   -1                  0   \n",
       "...                              ...                  ...                ...   \n",
       "2021-12-30 14:21:00                0                    0                  0   \n",
       "2021-12-30 16:28:00                0                    0                  0   \n",
       "2021-12-30 17:41:00                0                   -1                  0   \n",
       "2021-12-30 17:49:00                0                   -1                  0   \n",
       "2021-12-30 22:04:00                0                   -1                  0   \n",
       "\n",
       "                     CDLDARKCLOUDCOVER_NEW  \n",
       "formatted_open_time                         \n",
       "2020-01-01 01:51:00                      0  \n",
       "2020-01-01 02:06:00                      0  \n",
       "2020-01-01 02:52:00                      0  \n",
       "2020-01-01 06:04:00                      0  \n",
       "2020-01-01 06:14:00                      0  \n",
       "...                                    ...  \n",
       "2021-12-30 14:21:00                      0  \n",
       "2021-12-30 16:28:00                      0  \n",
       "2021-12-30 17:41:00                      0  \n",
       "2021-12-30 17:49:00                      0  \n",
       "2021-12-30 22:04:00                      0  \n",
       "\n",
       "[8400 rows x 31 columns]"
      ]
     },
     "execution_count": 108,
     "metadata": {},
     "output_type": "execute_result"
    }
   ],
   "source": [
    "df[df['CDLSHOOTINGSTAR'] == -100]"
   ]
  },
  {
   "cell_type": "markdown",
   "metadata": {},
   "source": [
    "## Export the Data"
   ]
  },
  {
   "cell_type": "markdown",
   "metadata": {},
   "source": [
    "### Export parameters"
   ]
  },
  {
   "cell_type": "code",
   "execution_count": 109,
   "metadata": {},
   "outputs": [],
   "source": [
    "export_path = \"../data\"\n",
    "export_filename = 'binance_BTCUSDT_1m_from_2020_01_01_to_2021_12_31_candlesticks_signals_processed'\n",
    "export_extension = \".csv\"\n",
    "full_export_path = os.path.join(export_path, export_filename + export_extension)"
   ]
  },
  {
   "cell_type": "markdown",
   "metadata": {},
   "source": [
    "### Export"
   ]
  },
  {
   "cell_type": "code",
   "execution_count": 110,
   "metadata": {},
   "outputs": [],
   "source": [
    "df.to_csv(full_export_path, index=False)"
   ]
  }
 ],
 "metadata": {
  "interpreter": {
   "hash": "0c0f2ae3d5d9aa27c4a2afc20f28a2482dc1006477ab22953abc78c31c7bb5b2"
  },
  "kernelspec": {
   "display_name": "Python 3.8.13 ('msc_uol_ai_dissertation')",
   "language": "python",
   "name": "python3"
  },
  "language_info": {
   "codemirror_mode": {
    "name": "ipython",
    "version": 3
   },
   "file_extension": ".py",
   "mimetype": "text/x-python",
   "name": "python",
   "nbconvert_exporter": "python",
   "pygments_lexer": "ipython3",
   "version": "3.8.13"
  },
  "orig_nbformat": 4
 },
 "nbformat": 4,
 "nbformat_minor": 2
}
