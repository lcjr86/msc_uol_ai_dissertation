{
 "cells": [
  {
   "cell_type": "code",
   "execution_count": 7,
   "metadata": {},
   "outputs": [],
   "source": [
    "from keras import preprocessing\n",
    "from keras import layers\n",
    "import matplotlib.pyplot as plt\n",
    "import os"
   ]
  },
  {
   "cell_type": "code",
   "execution_count": 2,
   "metadata": {},
   "outputs": [],
   "source": [
    "image_size = (217, 217)\n",
    "batch_size = 32"
   ]
  },
  {
   "cell_type": "code",
   "execution_count": 32,
   "metadata": {},
   "outputs": [
    {
     "name": "stdout",
     "output_type": "stream",
     "text": [
      "bearish_engulfing:18463\n",
      "bullish_engulfing:1892\n",
      "evening_star:2510\n",
      "hammer:1500\n",
      "hanging_man:12949\n",
      "inverted_hammer:273\n",
      "morning_star:277\n",
      "shooting_star:4259\n",
      "Total:42123\n"
     ]
    }
   ],
   "source": [
    "root_folder = \"../data/dataset\" # your path here\n",
    "subfolders = ['bearish_engulfing', 'bullish_engulfing', 'evening_star', 'hammer', 'hanging_man', 'inverted_hammer', 'morning_star', 'shooting_star']\n",
    "\n",
    "total_count = 0\n",
    "for element in subfolders:\n",
    "    count = 0\n",
    "    my_folder = os.path.join(root_folder, element)\n",
    "    for path in os.listdir(my_folder):\n",
    "        # check if current path is a file\n",
    "        if os.path.isfile(os.path.join(my_folder, path)):\n",
    "            count += 1\n",
    "            total_count += 1\n",
    "    print(f'{element}:{count}')\n",
    "print(f'Total:{total_count}')    "
   ]
  },
  {
   "cell_type": "code",
   "execution_count": 33,
   "metadata": {},
   "outputs": [
    {
     "name": "stdout",
     "output_type": "stream",
     "text": [
      "Found 42123 files belonging to 8 classes.\n",
      "Using 33699 files for training.\n"
     ]
    }
   ],
   "source": [
    "train_ds = preprocessing.image.image_dataset_from_directory(\n",
    "    \"../data/dataset\",\n",
    "    subset=\"training\",\n",
    "    validation_split=0.2,\n",
    "    seed=1337,\n",
    "    color_mode = \"rgba\",    \n",
    "    image_size=image_size,\n",
    "    batch_size=batch_size,\n",
    ")"
   ]
  },
  {
   "cell_type": "code",
   "execution_count": 34,
   "metadata": {},
   "outputs": [
    {
     "name": "stdout",
     "output_type": "stream",
     "text": [
      "Found 42123 files belonging to 8 classes.\n",
      "Using 8424 files for validation.\n"
     ]
    }
   ],
   "source": [
    "val_ds = preprocessing.image.image_dataset_from_directory(\n",
    "    \"../data/dataset\",\n",
    "    subset=\"validation\",\n",
    "    validation_split=0.2,\n",
    "    seed=1337,\n",
    "    color_mode = \"rgba\",    \n",
    "    image_size=image_size,\n",
    "    batch_size=batch_size,\n",
    ")"
   ]
  },
  {
   "cell_type": "code",
   "execution_count": 35,
   "metadata": {},
   "outputs": [
    {
     "name": "stderr",
     "output_type": "stream",
     "text": [
      "Clipping input data to the valid range for imshow with RGB data ([0..1] for floats or [0..255] for integers).\n",
      "Clipping input data to the valid range for imshow with RGB data ([0..1] for floats or [0..255] for integers).\n",
      "Clipping input data to the valid range for imshow with RGB data ([0..1] for floats or [0..255] for integers).\n",
      "Clipping input data to the valid range for imshow with RGB data ([0..1] for floats or [0..255] for integers).\n",
      "Clipping input data to the valid range for imshow with RGB data ([0..1] for floats or [0..255] for integers).\n",
      "Clipping input data to the valid range for imshow with RGB data ([0..1] for floats or [0..255] for integers).\n",
      "Clipping input data to the valid range for imshow with RGB data ([0..1] for floats or [0..255] for integers).\n",
      "Clipping input data to the valid range for imshow with RGB data ([0..1] for floats or [0..255] for integers).\n",
      "Clipping input data to the valid range for imshow with RGB data ([0..1] for floats or [0..255] for integers).\n"
     ]
    },
    {
     "data": {
      "image/png": "[encoded data removed]",
      "text/plain": [
       "<Figure size 720x720 with 9 Axes>"
      ]
     },
     "metadata": {
      "needs_background": "light"
     },
     "output_type": "display_data"
    }
   ],
   "source": [
    "plt.figure(figsize=(10, 10))\n",
    "for images, labels in train_ds.take(1):\n",
    "    for i in range(9):\n",
    "        ax = plt.subplot(3, 3, i + 1)\n",
    "        plt.imshow(images[i].numpy())\n",
    "        plt.title(int(labels[i]))\n",
    "        plt.axis(\"off\")"
   ]
  },
  {
   "cell_type": "code",
   "execution_count": null,
   "metadata": {},
   "outputs": [],
   "source": []
  }
 ],
 "metadata": {
  "kernelspec": {
   "display_name": "Python 3.8.13 ('msc_uol_ai_dissertation')",
   "language": "python",
   "name": "python3"
  },
  "language_info": {
   "codemirror_mode": {
    "name": "ipython",
    "version": 3
   },
   "file_extension": ".py",
   "mimetype": "text/x-python",
   "name": "python",
   "nbconvert_exporter": "python",
   "pygments_lexer": "ipython3",
   "version": "3.8.13"
  },
  "orig_nbformat": 4,
  "vscode": {
   "interpreter": {
    "hash": "0c0f2ae3d5d9aa27c4a2afc20f28a2482dc1006477ab22953abc78c31c7bb5b2"
   }
  }
 },
 "nbformat": 4,
 "nbformat_minor": 2
}
