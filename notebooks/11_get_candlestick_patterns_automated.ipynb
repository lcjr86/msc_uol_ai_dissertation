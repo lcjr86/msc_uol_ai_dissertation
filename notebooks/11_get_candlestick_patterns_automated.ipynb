{
 "cells": [
  {
   "cell_type": "markdown",
   "metadata": {},
   "source": [
    "# Get Candlestick Patterns"
   ]
  },
  {
   "cell_type": "markdown",
   "metadata": {},
   "source": [
    "## Import relevant libraries"
   ]
  },
  {
   "cell_type": "code",
   "execution_count": 1,
   "metadata": {},
   "outputs": [],
   "source": [
    "import os\n",
    "import pandas as pd\n",
    "import talib\n",
    "import numpy as np\n",
    "import matplotlib.pyplot as plt\n",
    "import datetime"
   ]
  },
  {
   "cell_type": "markdown",
   "metadata": {},
   "source": [
    "## Get and process the data"
   ]
  },
  {
   "cell_type": "code",
   "execution_count": 4,
   "metadata": {},
   "outputs": [],
   "source": [
    "def run():\n",
    "    try:\n",
    "        \n",
    "        # Parameters\n",
    "        list_asset_ticket = [\"BTCUSDT\", \"ETHUSDT\", \"BNBUSDT\"]\n",
    "        list_timestamp = [\"1d\", \"1h\", \"15m\", \"5m\"]\n",
    "        start_date = \"1 Jan, 2020\"\n",
    "        end_date = \"30 Sep, 2022\"\n",
    "\n",
    "        # Candlesitck selected patterns\n",
    "        candle_names = ['CDLINVERTEDHAMMER',\n",
    "                        'CDLHAMMER',\n",
    "                        'CDLPIERCING',\n",
    "                        'CDLMORNINGSTAR',\n",
    "                        'CDLSHOOTINGSTAR',\n",
    "                        'CDLHANGINGMAN',\n",
    "                        'CDLDARKCLOUDCOVER',\n",
    "                        'CDLEVENINGSTAR',\n",
    "                        'CDLENGULFING']\n",
    "\n",
    "        for asset_ticket in list_asset_ticket:\n",
    "            for timestamp in list_timestamp:\n",
    "                \n",
    "                # Data file parameters\n",
    "                input_data_path = '../data'\n",
    "                input_data_filename = \"binance\" + \\\n",
    "                                \"_\" + asset_ticket + \\\n",
    "                                \"_\" + timestamp + \\\n",
    "                                \"_from_\" + datetime.datetime.strptime(start_date,'%d %b, %Y').strftime('%Y_%m_%d') + \\\n",
    "                                \"_to_\" + datetime.datetime.strptime(end_date,'%d %b, %Y').strftime('%Y_%m_%d')\n",
    "                input_data_extension = \".csv\"\n",
    "                full_path_input_data = os.path.join(input_data_path, input_data_filename + input_data_extension)        \n",
    "\n",
    "                df = pd.read_csv(full_path_input_data)\n",
    "\n",
    "                # extract OHLC \n",
    "                op = df['open']\n",
    "                hi = df['high']\n",
    "                lo = df['low']\n",
    "                cl = df['close']\n",
    "\n",
    "                # create columns for each pattern\n",
    "                for candle in candle_names:\n",
    "                    # below is same as;\n",
    "                    # df[\"CDL3LINESTRIKE\"] = talib.CDL3LINESTRIKE(op, hi, lo, cl)\n",
    "                    df[candle] = getattr(talib, candle)(op, hi, lo, cl)\n",
    "\n",
    "                # Split CDLENGULFING into bullish and bearish\n",
    "                list_open_time_bullish_engulfing = df[df['CDLENGULFING']==100]['open_time'].to_list()\n",
    "                list_open_time_bearish_engulfing = df[df['CDLENGULFING']==-100]['open_time'].to_list()\n",
    "\n",
    "                df['CDLENGULFINGBULLISH'] = np.where(df['open_time'].isin(list_open_time_bullish_engulfing), 100, 0)\n",
    "                df['CDLENGULFINGBEARISH'] = np.where(df['open_time'].isin(list_open_time_bearish_engulfing), -100, 0)\n",
    "\n",
    "                # Export data parameters\n",
    "                export_path = \"../data\"\n",
    "                export_filename = \"binance\" + \\\n",
    "                                \"_\" + asset_ticket + \\\n",
    "                                \"_\" + timestamp + \\\n",
    "                                \"_from_\" + datetime.datetime.strptime(start_date,'%d %b, %Y').strftime('%Y_%m_%d') + \\\n",
    "                                \"_to_\" + datetime.datetime.strptime(end_date,'%d %b, %Y').strftime('%Y_%m_%d') + \\\n",
    "                                \"_candlesticks_signals_raw\"\n",
    "                export_extension = \".csv\"\n",
    "                full_export_path = os.path.join(export_path, export_filename + export_extension)\n",
    "\n",
    "                # Export data\n",
    "                df.to_csv(full_export_path, index=False)\n",
    "\n",
    "    except Exception as e:\n",
    "        print(e)"
   ]
  },
  {
   "cell_type": "code",
   "execution_count": 5,
   "metadata": {},
   "outputs": [],
   "source": [
    "run()"
   ]
  },
  {
   "cell_type": "code",
   "execution_count": null,
   "metadata": {},
   "outputs": [],
   "source": []
  }
 ],
 "metadata": {
  "interpreter": {
   "hash": "0c0f2ae3d5d9aa27c4a2afc20f28a2482dc1006477ab22953abc78c31c7bb5b2"
  },
  "kernelspec": {
   "display_name": "Python 3.8.13 ('msc_uol_ai_dissertation')",
   "language": "python",
   "name": "python3"
  },
  "language_info": {
   "codemirror_mode": {
    "name": "ipython",
    "version": 3
   },
   "file_extension": ".py",
   "mimetype": "text/x-python",
   "name": "python",
   "nbconvert_exporter": "python",
   "pygments_lexer": "ipython3",
   "version": "3.8.13"
  },
  "orig_nbformat": 4
 },
 "nbformat": 4,
 "nbformat_minor": 2
}
