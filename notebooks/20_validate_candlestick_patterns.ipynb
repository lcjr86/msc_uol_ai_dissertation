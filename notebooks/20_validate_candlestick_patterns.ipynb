{
 "cells": [
  {
   "cell_type": "markdown",
   "metadata": {},
   "source": [
    "# Validate candlestick patterns"
   ]
  },
  {
   "cell_type": "code",
   "execution_count": 47,
   "metadata": {},
   "outputs": [],
   "source": [
    "from src import utils as u\n",
    "import pandas as pd\n",
    "import random\n",
    "import mplfinance as mpf\n",
    "import os\n",
    "import numpy as np\n",
    "import datetime"
   ]
  },
  {
   "cell_type": "markdown",
   "metadata": {},
   "source": [
    "## Get the data"
   ]
  },
  {
   "cell_type": "markdown",
   "metadata": {},
   "source": [
    "### Parameters"
   ]
  },
  {
   "cell_type": "code",
   "execution_count": 89,
   "metadata": {},
   "outputs": [],
   "source": [
    "asset_ticket = \"BTCUSDT\"\n",
    "timestamp = \"15m\"\n",
    "start_date = \"1 Jan, 2020\"\n",
    "end_date = \"31 Dec, 2021\""
   ]
  },
  {
   "cell_type": "code",
   "execution_count": 90,
   "metadata": {},
   "outputs": [],
   "source": [
    "input_data_path = '../data'\n",
    "input_data_filename = \"binance\" + \\\n",
    "                  \"_\" + asset_ticket + \\\n",
    "                  \"_\" + timestamp + \\\n",
    "                  \"_from_\" + datetime.datetime.strptime(start_date,'%d %b, %Y').strftime('%Y_%m_%d') + \\\n",
    "                  \"_to_\" + datetime.datetime.strptime(end_date,'%d %b, %Y').strftime('%Y_%m_%d') + \\\n",
    "                  \"_candlesticks_signals_raw\"\n",
    "input_data_extension = \".csv\"\n",
    "full_path_input_data = os.path.join(input_data_path, input_data_filename + input_data_extension)"
   ]
  },
  {
   "cell_type": "code",
   "execution_count": 91,
   "metadata": {},
   "outputs": [],
   "source": [
    "df = pd.read_csv(full_path_input_data)"
   ]
  },
  {
   "cell_type": "code",
   "execution_count": 92,
   "metadata": {},
   "outputs": [
    {
     "data": {
      "text/html": [
       "<div>\n",
       "<style scoped>\n",
       "    .dataframe tbody tr th:only-of-type {\n",
       "        vertical-align: middle;\n",
       "    }\n",
       "\n",
       "    .dataframe tbody tr th {\n",
       "        vertical-align: top;\n",
       "    }\n",
       "\n",
       "    .dataframe thead th {\n",
       "        text-align: right;\n",
       "    }\n",
       "</style>\n",
       "<table border=\"1\" class=\"dataframe\">\n",
       "  <thead>\n",
       "    <tr style=\"text-align: right;\">\n",
       "      <th></th>\n",
       "      <th>open_time</th>\n",
       "      <th>open</th>\n",
       "      <th>high</th>\n",
       "      <th>low</th>\n",
       "      <th>close</th>\n",
       "      <th>volume</th>\n",
       "      <th>close_time</th>\n",
       "      <th>quote_asset_volumne</th>\n",
       "      <th>number_of_trades</th>\n",
       "      <th>taker_buy_base_asset_volume</th>\n",
       "      <th>...</th>\n",
       "      <th>CDLHAMMER</th>\n",
       "      <th>CDLPIERCING</th>\n",
       "      <th>CDLMORNINGSTAR</th>\n",
       "      <th>CDLSHOOTINGSTAR</th>\n",
       "      <th>CDLHANGINGMAN</th>\n",
       "      <th>CDLDARKCLOUDCOVER</th>\n",
       "      <th>CDLEVENINGSTAR</th>\n",
       "      <th>CDLENGULFING</th>\n",
       "      <th>CDLENGULFINGBULLISH</th>\n",
       "      <th>CDLENGULFINGBEARISH</th>\n",
       "    </tr>\n",
       "  </thead>\n",
       "  <tbody>\n",
       "    <tr>\n",
       "      <th>0</th>\n",
       "      <td>1577836800000</td>\n",
       "      <td>7195.24</td>\n",
       "      <td>7196.25</td>\n",
       "      <td>7178.20</td>\n",
       "      <td>7180.97</td>\n",
       "      <td>202.942868</td>\n",
       "      <td>1577837699999</td>\n",
       "      <td>1.458245e+06</td>\n",
       "      <td>2452</td>\n",
       "      <td>76.962041</td>\n",
       "      <td>...</td>\n",
       "      <td>0</td>\n",
       "      <td>0</td>\n",
       "      <td>0</td>\n",
       "      <td>0</td>\n",
       "      <td>0</td>\n",
       "      <td>0</td>\n",
       "      <td>0</td>\n",
       "      <td>0</td>\n",
       "      <td>0</td>\n",
       "      <td>0</td>\n",
       "    </tr>\n",
       "    <tr>\n",
       "      <th>1</th>\n",
       "      <td>1577837700000</td>\n",
       "      <td>7180.97</td>\n",
       "      <td>7186.40</td>\n",
       "      <td>7175.47</td>\n",
       "      <td>7178.45</td>\n",
       "      <td>128.242654</td>\n",
       "      <td>1577838599999</td>\n",
       "      <td>9.207027e+05</td>\n",
       "      <td>1948</td>\n",
       "      <td>58.389110</td>\n",
       "      <td>...</td>\n",
       "      <td>0</td>\n",
       "      <td>0</td>\n",
       "      <td>0</td>\n",
       "      <td>0</td>\n",
       "      <td>0</td>\n",
       "      <td>0</td>\n",
       "      <td>0</td>\n",
       "      <td>0</td>\n",
       "      <td>0</td>\n",
       "      <td>0</td>\n",
       "    </tr>\n",
       "    <tr>\n",
       "      <th>2</th>\n",
       "      <td>1577838600000</td>\n",
       "      <td>7178.19</td>\n",
       "      <td>7185.44</td>\n",
       "      <td>7176.23</td>\n",
       "      <td>7179.56</td>\n",
       "      <td>83.487458</td>\n",
       "      <td>1577839499999</td>\n",
       "      <td>5.994792e+05</td>\n",
       "      <td>1580</td>\n",
       "      <td>43.822374</td>\n",
       "      <td>...</td>\n",
       "      <td>0</td>\n",
       "      <td>0</td>\n",
       "      <td>0</td>\n",
       "      <td>0</td>\n",
       "      <td>0</td>\n",
       "      <td>0</td>\n",
       "      <td>0</td>\n",
       "      <td>0</td>\n",
       "      <td>0</td>\n",
       "      <td>0</td>\n",
       "    </tr>\n",
       "    <tr>\n",
       "      <th>3</th>\n",
       "      <td>1577839500000</td>\n",
       "      <td>7179.35</td>\n",
       "      <td>7183.98</td>\n",
       "      <td>7175.46</td>\n",
       "      <td>7177.02</td>\n",
       "      <td>97.141921</td>\n",
       "      <td>1577840399999</td>\n",
       "      <td>6.974298e+05</td>\n",
       "      <td>1660</td>\n",
       "      <td>46.979601</td>\n",
       "      <td>...</td>\n",
       "      <td>0</td>\n",
       "      <td>0</td>\n",
       "      <td>0</td>\n",
       "      <td>0</td>\n",
       "      <td>0</td>\n",
       "      <td>0</td>\n",
       "      <td>0</td>\n",
       "      <td>0</td>\n",
       "      <td>0</td>\n",
       "      <td>0</td>\n",
       "    </tr>\n",
       "    <tr>\n",
       "      <th>4</th>\n",
       "      <td>1577840400000</td>\n",
       "      <td>7176.47</td>\n",
       "      <td>7194.04</td>\n",
       "      <td>7175.71</td>\n",
       "      <td>7190.86</td>\n",
       "      <td>103.520522</td>\n",
       "      <td>1577841299999</td>\n",
       "      <td>7.440891e+05</td>\n",
       "      <td>1588</td>\n",
       "      <td>56.251378</td>\n",
       "      <td>...</td>\n",
       "      <td>0</td>\n",
       "      <td>0</td>\n",
       "      <td>0</td>\n",
       "      <td>0</td>\n",
       "      <td>0</td>\n",
       "      <td>0</td>\n",
       "      <td>0</td>\n",
       "      <td>100</td>\n",
       "      <td>100</td>\n",
       "      <td>0</td>\n",
       "    </tr>\n",
       "  </tbody>\n",
       "</table>\n",
       "<p>5 rows × 28 columns</p>\n",
       "</div>"
      ],
      "text/plain": [
       "       open_time     open     high      low    close      volume  \\\n",
       "0  1577836800000  7195.24  7196.25  7178.20  7180.97  202.942868   \n",
       "1  1577837700000  7180.97  7186.40  7175.47  7178.45  128.242654   \n",
       "2  1577838600000  7178.19  7185.44  7176.23  7179.56   83.487458   \n",
       "3  1577839500000  7179.35  7183.98  7175.46  7177.02   97.141921   \n",
       "4  1577840400000  7176.47  7194.04  7175.71  7190.86  103.520522   \n",
       "\n",
       "      close_time  quote_asset_volumne  number_of_trades  \\\n",
       "0  1577837699999         1.458245e+06              2452   \n",
       "1  1577838599999         9.207027e+05              1948   \n",
       "2  1577839499999         5.994792e+05              1580   \n",
       "3  1577840399999         6.974298e+05              1660   \n",
       "4  1577841299999         7.440891e+05              1588   \n",
       "\n",
       "   taker_buy_base_asset_volume  ...  CDLHAMMER  CDLPIERCING CDLMORNINGSTAR  \\\n",
       "0                    76.962041  ...          0            0              0   \n",
       "1                    58.389110  ...          0            0              0   \n",
       "2                    43.822374  ...          0            0              0   \n",
       "3                    46.979601  ...          0            0              0   \n",
       "4                    56.251378  ...          0            0              0   \n",
       "\n",
       "  CDLSHOOTINGSTAR  CDLHANGINGMAN  CDLDARKCLOUDCOVER  CDLEVENINGSTAR  \\\n",
       "0               0              0                  0               0   \n",
       "1               0              0                  0               0   \n",
       "2               0              0                  0               0   \n",
       "3               0              0                  0               0   \n",
       "4               0              0                  0               0   \n",
       "\n",
       "   CDLENGULFING  CDLENGULFINGBULLISH  CDLENGULFINGBEARISH  \n",
       "0             0                    0                    0  \n",
       "1             0                    0                    0  \n",
       "2             0                    0                    0  \n",
       "3             0                    0                    0  \n",
       "4           100                  100                    0  \n",
       "\n",
       "[5 rows x 28 columns]"
      ]
     },
     "execution_count": 92,
     "metadata": {},
     "output_type": "execute_result"
    }
   ],
   "source": [
    "df.head()"
   ]
  },
  {
   "cell_type": "markdown",
   "metadata": {},
   "source": [
    "## Set the index on the dataframe"
   ]
  },
  {
   "cell_type": "code",
   "execution_count": 93,
   "metadata": {},
   "outputs": [],
   "source": [
    "df.index = pd.DatetimeIndex(df['formatted_open_time'])"
   ]
  },
  {
   "cell_type": "markdown",
   "metadata": {},
   "source": [
    "## Verify that the candlesticks are definitely showing a trend (down/up)"
   ]
  },
  {
   "cell_type": "markdown",
   "metadata": {},
   "source": [
    "### Set some parameters"
   ]
  },
  {
   "cell_type": "code",
   "execution_count": 94,
   "metadata": {},
   "outputs": [],
   "source": [
    "window_size = 50\n",
    "slope_size = 7"
   ]
  },
  {
   "cell_type": "markdown",
   "metadata": {},
   "source": [
    "### Get the dates from the bullish candlesticks patterns"
   ]
  },
  {
   "cell_type": "code",
   "execution_count": 95,
   "metadata": {},
   "outputs": [],
   "source": [
    "list_dates_invertedhammer = df[df['CDLINVERTEDHAMMER'] == 100]['formatted_open_time'].to_list()\n",
    "list_dates_hammer = df[df['CDLHAMMER'] == 100]['formatted_open_time'].to_list()\n",
    "list_dates_piercing = df[df['CDLPIERCING'] == 100]['formatted_open_time'].to_list()\n",
    "list_dates_morningstar = df[df['CDLMORNINGSTAR'] == 100]['formatted_open_time'].to_list()\n",
    "list_dates_bullishengulfing = df[df['CDLENGULFINGBULLISH'] == 100]['formatted_open_time'].to_list()"
   ]
  },
  {
   "cell_type": "code",
   "execution_count": 96,
   "metadata": {},
   "outputs": [],
   "source": [
    "list_all_dates = df['formatted_open_time'].to_list()"
   ]
  },
  {
   "cell_type": "markdown",
   "metadata": {},
   "source": [
    "#### Get the amount of candlesticks patterns (before check)"
   ]
  },
  {
   "cell_type": "code",
   "execution_count": 97,
   "metadata": {},
   "outputs": [
    {
     "name": "stdout",
     "output_type": "stream",
     "text": [
      "BEFORE: number of inverted hammer:337\n",
      "BEFORE: number of hammer:1823\n",
      "BEFORE: number of piercing:2\n",
      "BEFORE: number of morning star:231\n",
      "BEFORE: number of bullish engulfing:2701\n"
     ]
    }
   ],
   "source": [
    "print(f'BEFORE: number of inverted hammer:{len(list_dates_invertedhammer)}')\n",
    "print(f'BEFORE: number of hammer:{len(list_dates_hammer)}')\n",
    "print(f'BEFORE: number of piercing:{len(list_dates_piercing)}')\n",
    "print(f'BEFORE: number of morning star:{len(list_dates_morningstar)}')\n",
    "print(f'BEFORE: number of bullish engulfing:{len(list_dates_bullishengulfing)}')"
   ]
  },
  {
   "cell_type": "markdown",
   "metadata": {},
   "source": [
    "#### Run the checks to identify the real candlesticks with reversal"
   ]
  },
  {
   "cell_type": "code",
   "execution_count": 98,
   "metadata": {},
   "outputs": [],
   "source": [
    "list_validate_dates_invertedhammer = []\n",
    "list_new_sign_invertedhammer = []\n",
    "for date in list_dates_invertedhammer:\n",
    "    s = u.check_trend(df, date, window_size, slope_size)\n",
    "    if ((s==-1)):\n",
    "        list_validate_dates_invertedhammer.append(date)\n",
    "        list_new_sign_invertedhammer.append(1)\n",
    "    else:\n",
    "        list_new_sign_invertedhammer.append(0)"
   ]
  },
  {
   "cell_type": "code",
   "execution_count": 99,
   "metadata": {},
   "outputs": [],
   "source": [
    "list_validate_dates_hammer = []\n",
    "list_new_sign_hammer = []\n",
    "for date in list_dates_hammer:\n",
    "    s = u.check_trend(df, date, window_size, slope_size)\n",
    "    if ((s==-1)):\n",
    "        list_validate_dates_hammer.append(date)\n",
    "        list_new_sign_hammer.append(1)\n",
    "    else:\n",
    "        list_new_sign_hammer.append(0)        "
   ]
  },
  {
   "cell_type": "code",
   "execution_count": 100,
   "metadata": {},
   "outputs": [],
   "source": [
    "list_validate_dates_piercing = []\n",
    "list_new_sign_piercing = []\n",
    "for date in list_dates_piercing:\n",
    "    s = u.check_trend(df, date, window_size, slope_size)\n",
    "    if ((s==-1)):\n",
    "        list_validate_dates_piercing.append(date)\n",
    "        list_new_sign_piercing.append(1)\n",
    "    else:\n",
    "        list_new_sign_piercing.append(0)         "
   ]
  },
  {
   "cell_type": "code",
   "execution_count": 101,
   "metadata": {},
   "outputs": [],
   "source": [
    "list_validate_dates_morningstar = []\n",
    "list_new_sign_morningstar = []\n",
    "for date in list_dates_morningstar:\n",
    "    s = u.check_trend(df, date, window_size, slope_size)\n",
    "    if ((s==-1)):\n",
    "        list_validate_dates_morningstar.append(date)\n",
    "        list_new_sign_morningstar.append(1)\n",
    "    else:\n",
    "        list_new_sign_morningstar.append(0)          "
   ]
  },
  {
   "cell_type": "code",
   "execution_count": 102,
   "metadata": {},
   "outputs": [],
   "source": [
    "list_validate_dates_bullishengulfing = []\n",
    "list_new_sign_bullishengulfing = []\n",
    "for date in list_dates_bullishengulfing:\n",
    "    s = u.check_trend(df, date, window_size, slope_size)\n",
    "    if ((s==-1)):\n",
    "        list_validate_dates_bullishengulfing.append(date)\n",
    "        list_new_sign_bullishengulfing.append(1)\n",
    "    else:\n",
    "        list_new_sign_bullishengulfing.append(0)          "
   ]
  },
  {
   "cell_type": "markdown",
   "metadata": {},
   "source": [
    "#### Get the amount of candlesticks patterns (after check)"
   ]
  },
  {
   "cell_type": "code",
   "execution_count": 103,
   "metadata": {},
   "outputs": [
    {
     "name": "stdout",
     "output_type": "stream",
     "text": [
      "AFTER: number of inverted hammer:10\n",
      "AFTER: number of hammer:57\n",
      "AFTER: number of piercing:0\n",
      "AFTER: number of morning star:14\n",
      "AFTER: number of bullish engulfing:129\n"
     ]
    }
   ],
   "source": [
    "print(f'AFTER: number of inverted hammer:{len(list_validate_dates_invertedhammer)}')\n",
    "print(f'AFTER: number of hammer:{len(list_validate_dates_hammer)}')\n",
    "print(f'AFTER: number of piercing:{len(list_validate_dates_piercing)}')\n",
    "print(f'AFTER: number of morning star:{len(list_validate_dates_morningstar)}')\n",
    "print(f'AFTER: number of bullish engulfing:{len(list_validate_dates_bullishengulfing)}')"
   ]
  },
  {
   "cell_type": "markdown",
   "metadata": {},
   "source": [
    "### Plot some results"
   ]
  },
  {
   "cell_type": "markdown",
   "metadata": {},
   "source": [
    "#### Inverted Hammer"
   ]
  },
  {
   "cell_type": "code",
   "execution_count": 104,
   "metadata": {},
   "outputs": [
    {
     "name": "stdout",
     "output_type": "stream",
     "text": [
      "6846\n"
     ]
    },
    {
     "data": {
      "image/png": "[encoded data removed]",
      "text/plain": [
       "<Figure size 1000x400 with 2 Axes>"
      ]
     },
     "metadata": {},
     "output_type": "display_data"
    }
   ],
   "source": [
    "random_date = random.randint(0, len(list_validate_dates_invertedhammer)-1)\n",
    "print(df.index.get_loc(list_validate_dates_invertedhammer[random_date]))\n",
    "idx = df.index.get_loc(list_validate_dates_invertedhammer[random_date])\n",
    "df_temp = df.iloc[idx - window_size :idx + 1]\n",
    "mpf.plot(df_temp, type='candle', figsize=(10,4))"
   ]
  },
  {
   "cell_type": "markdown",
   "metadata": {},
   "source": [
    "#### Hammer"
   ]
  },
  {
   "cell_type": "code",
   "execution_count": 105,
   "metadata": {},
   "outputs": [
    {
     "name": "stdout",
     "output_type": "stream",
     "text": [
      "24586\n"
     ]
    },
    {
     "data": {
      "image/png": "[encoded data removed]",
      "text/plain": [
       "<Figure size 1000x400 with 2 Axes>"
      ]
     },
     "metadata": {},
     "output_type": "display_data"
    }
   ],
   "source": [
    "random_date = random.randint(0, len(list_validate_dates_hammer)-1)\n",
    "print(df.index.get_loc(list_validate_dates_hammer[random_date]))\n",
    "idx = df.index.get_loc(list_validate_dates_hammer[random_date])\n",
    "df_temp = df.iloc[idx - window_size :idx + 1]\n",
    "mpf.plot(df_temp, type='candle', figsize=(10,4))"
   ]
  },
  {
   "cell_type": "markdown",
   "metadata": {},
   "source": [
    "#### Piercing"
   ]
  },
  {
   "cell_type": "code",
   "execution_count": 65,
   "metadata": {},
   "outputs": [
    {
     "ename": "ValueError",
     "evalue": "empty range for randrange() (0, 0, 0)",
     "output_type": "error",
     "traceback": [
      "\u001b[0;31m---------------------------------------------------------------------------\u001b[0m",
      "\u001b[0;31mValueError\u001b[0m                                Traceback (most recent call last)",
      "\u001b[1;32m/Users/lcjr86/de Jesus Lallement Dropbox/Luiz Carlos de Jesus Junior/msc_uol_ai_dissertation/notebooks/transform_candlestick_patterns_just_before.ipynb Cell 33'\u001b[0m in \u001b[0;36m<cell line: 1>\u001b[0;34m()\u001b[0m\n\u001b[0;32m----> <a href='vscode-notebook-cell:/Users/lcjr86/de%20Jesus%20Lallement%20Dropbox/Luiz%20Carlos%20de%20Jesus%20Junior/msc_uol_ai_dissertation/notebooks/transform_candlestick_patterns_just_before.ipynb#ch0000030?line=0'>1</a>\u001b[0m random_date \u001b[39m=\u001b[39m random\u001b[39m.\u001b[39;49mrandint(\u001b[39m0\u001b[39;49m, \u001b[39mlen\u001b[39;49m(list_validate_dates_piercing)\u001b[39m-\u001b[39;49m\u001b[39m1\u001b[39;49m)\n\u001b[1;32m      <a href='vscode-notebook-cell:/Users/lcjr86/de%20Jesus%20Lallement%20Dropbox/Luiz%20Carlos%20de%20Jesus%20Junior/msc_uol_ai_dissertation/notebooks/transform_candlestick_patterns_just_before.ipynb#ch0000030?line=1'>2</a>\u001b[0m \u001b[39mprint\u001b[39m(df\u001b[39m.\u001b[39mindex\u001b[39m.\u001b[39mget_loc(list_validate_dates_piercing[random_date]))\n\u001b[1;32m      <a href='vscode-notebook-cell:/Users/lcjr86/de%20Jesus%20Lallement%20Dropbox/Luiz%20Carlos%20de%20Jesus%20Junior/msc_uol_ai_dissertation/notebooks/transform_candlestick_patterns_just_before.ipynb#ch0000030?line=2'>3</a>\u001b[0m idx \u001b[39m=\u001b[39m df\u001b[39m.\u001b[39mindex\u001b[39m.\u001b[39mget_loc(list_validate_dates_piercing[random_date])\n",
      "File \u001b[0;32m/opt/homebrew/Caskroom/miniforge/base/envs/msc_uol_ai_dissertation/lib/python3.8/random.py:248\u001b[0m, in \u001b[0;36mRandom.randint\u001b[0;34m(self, a, b)\u001b[0m\n\u001b[1;32m    244\u001b[0m \u001b[39mdef\u001b[39;00m \u001b[39mrandint\u001b[39m(\u001b[39mself\u001b[39m, a, b):\n\u001b[1;32m    245\u001b[0m     \u001b[39m\"\"\"Return random integer in range [a, b], including both end points.\u001b[39;00m\n\u001b[1;32m    246\u001b[0m \u001b[39m    \"\"\"\u001b[39;00m\n\u001b[0;32m--> 248\u001b[0m     \u001b[39mreturn\u001b[39;00m \u001b[39mself\u001b[39;49m\u001b[39m.\u001b[39;49mrandrange(a, b\u001b[39m+\u001b[39;49m\u001b[39m1\u001b[39;49m)\n",
      "File \u001b[0;32m/opt/homebrew/Caskroom/miniforge/base/envs/msc_uol_ai_dissertation/lib/python3.8/random.py:226\u001b[0m, in \u001b[0;36mRandom.randrange\u001b[0;34m(self, start, stop, step, _int)\u001b[0m\n\u001b[1;32m    224\u001b[0m     \u001b[39mreturn\u001b[39;00m istart \u001b[39m+\u001b[39m \u001b[39mself\u001b[39m\u001b[39m.\u001b[39m_randbelow(width)\n\u001b[1;32m    225\u001b[0m \u001b[39mif\u001b[39;00m step \u001b[39m==\u001b[39m \u001b[39m1\u001b[39m:\n\u001b[0;32m--> 226\u001b[0m     \u001b[39mraise\u001b[39;00m \u001b[39mValueError\u001b[39;00m(\u001b[39m\"\u001b[39m\u001b[39mempty range for randrange() (\u001b[39m\u001b[39m%d\u001b[39;00m\u001b[39m, \u001b[39m\u001b[39m%d\u001b[39;00m\u001b[39m, \u001b[39m\u001b[39m%d\u001b[39;00m\u001b[39m)\u001b[39m\u001b[39m\"\u001b[39m \u001b[39m%\u001b[39m (istart, istop, width))\n\u001b[1;32m    228\u001b[0m \u001b[39m# Non-unit step argument supplied.\u001b[39;00m\n\u001b[1;32m    229\u001b[0m istep \u001b[39m=\u001b[39m _int(step)\n",
      "\u001b[0;31mValueError\u001b[0m: empty range for randrange() (0, 0, 0)"
     ]
    }
   ],
   "source": [
    "random_date = random.randint(0, len(list_validate_dates_piercing)-1)\n",
    "print(df.index.get_loc(list_validate_dates_piercing[random_date]))\n",
    "idx = df.index.get_loc(list_validate_dates_piercing[random_date])\n",
    "df_temp = df.iloc[idx - window_size :idx + 1]\n",
    "mpf.plot(df_temp, type='candle', figsize=(10,4))"
   ]
  },
  {
   "cell_type": "markdown",
   "metadata": {},
   "source": [
    "#### Morning Star"
   ]
  },
  {
   "cell_type": "code",
   "execution_count": 106,
   "metadata": {},
   "outputs": [
    {
     "name": "stdout",
     "output_type": "stream",
     "text": [
      "53066\n"
     ]
    },
    {
     "data": {
      "image/png": "[encoded data removed]",
      "text/plain": [
       "<Figure size 1000x400 with 2 Axes>"
      ]
     },
     "metadata": {},
     "output_type": "display_data"
    }
   ],
   "source": [
    "random_date = random.randint(0, len(list_validate_dates_morningstar)-1)\n",
    "print(df.index.get_loc(list_validate_dates_morningstar[random_date]))\n",
    "idx = df.index.get_loc(list_validate_dates_morningstar[random_date])\n",
    "df_temp = df.iloc[idx - window_size :idx + 1]\n",
    "mpf.plot(df_temp, type='candle', figsize=(10,4))"
   ]
  },
  {
   "cell_type": "markdown",
   "metadata": {},
   "source": [
    "#### Bullish engulfing"
   ]
  },
  {
   "cell_type": "code",
   "execution_count": 107,
   "metadata": {},
   "outputs": [
    {
     "name": "stdout",
     "output_type": "stream",
     "text": [
      "4796\n"
     ]
    },
    {
     "data": {
      "image/png": "[encoded data removed]",
      "text/plain": [
       "<Figure size 1000x400 with 2 Axes>"
      ]
     },
     "metadata": {},
     "output_type": "display_data"
    }
   ],
   "source": [
    "random_date = random.randint(0, len(list_validate_dates_bullishengulfing)-1)\n",
    "print(df.index.get_loc(list_validate_dates_bullishengulfing[random_date]))\n",
    "idx = df.index.get_loc(list_validate_dates_bullishengulfing[random_date])\n",
    "df_temp = df.iloc[idx - window_size :idx + 1]\n",
    "mpf.plot(df_temp, type='candle', figsize=(10,4))"
   ]
  },
  {
   "cell_type": "markdown",
   "metadata": {},
   "source": [
    "### Get the dates from the bearish candlesticks patterns"
   ]
  },
  {
   "cell_type": "code",
   "execution_count": 108,
   "metadata": {},
   "outputs": [],
   "source": [
    "list_dates_shootingstar = df[df['CDLSHOOTINGSTAR'] == -100]['formatted_open_time'].to_list()\n",
    "list_dates_hangingman = df[df['CDLHANGINGMAN'] == -100]['formatted_open_time'].to_list()\n",
    "list_dates_darkcloudcover = df[df['CDLDARKCLOUDCOVER'] == -100]['formatted_open_time'].to_list()\n",
    "list_dates_eveningstar = df[df['CDLEVENINGSTAR'] == -100]['formatted_open_time'].to_list()\n",
    "list_dates_bearishengulfing = df[df['CDLENGULFINGBEARISH'] == -100]['formatted_open_time'].to_list()"
   ]
  },
  {
   "cell_type": "markdown",
   "metadata": {},
   "source": [
    "#### Get the amount of candlesticks patterns (before check)"
   ]
  },
  {
   "cell_type": "code",
   "execution_count": 109,
   "metadata": {},
   "outputs": [
    {
     "name": "stdout",
     "output_type": "stream",
     "text": [
      "BEFORE: number of shooting star:414\n",
      "BEFORE: number of hangingman:1000\n",
      "BEFORE: number of dark cloud cover:9\n",
      "BEFORE: number of evening star:234\n",
      "BEFORE: number of bearish engulfing:2687\n"
     ]
    }
   ],
   "source": [
    "print(f'BEFORE: number of shooting star:{len(list_dates_shootingstar)}')\n",
    "print(f'BEFORE: number of hangingman:{len(list_dates_hangingman)}')\n",
    "print(f'BEFORE: number of dark cloud cover:{len(list_dates_darkcloudcover)}')\n",
    "print(f'BEFORE: number of evening star:{len(list_dates_eveningstar)}')\n",
    "print(f'BEFORE: number of bearish engulfing:{len(list_dates_bearishengulfing)}')"
   ]
  },
  {
   "cell_type": "markdown",
   "metadata": {},
   "source": [
    "#### Run the checks to identify the real candlesticks with reversal"
   ]
  },
  {
   "cell_type": "code",
   "execution_count": 110,
   "metadata": {},
   "outputs": [],
   "source": [
    "list_validate_dates_shootingstar = []\n",
    "list_new_sign_shootingstar = []\n",
    "for date in list_dates_shootingstar:\n",
    "    s = u.check_trend(df, date, window_size, slope_size)\n",
    "    if ((s==1)):\n",
    "        list_validate_dates_shootingstar.append(date)\n",
    "        list_new_sign_shootingstar.append(-1)\n",
    "    else:\n",
    "        list_new_sign_shootingstar.append(0)                    "
   ]
  },
  {
   "cell_type": "code",
   "execution_count": 111,
   "metadata": {},
   "outputs": [],
   "source": [
    "list_validate_dates_hangingman = []\n",
    "list_new_sign_hangingman = []\n",
    "for date in list_dates_hangingman:\n",
    "    s = u.check_trend(df, date, window_size, slope_size)\n",
    "    if ((s==1)):\n",
    "        list_validate_dates_hangingman.append(date)\n",
    "        list_new_sign_hangingman.append(-1)\n",
    "    else:\n",
    "        list_new_sign_hangingman.append(0)         "
   ]
  },
  {
   "cell_type": "code",
   "execution_count": 112,
   "metadata": {},
   "outputs": [],
   "source": [
    "list_validate_dates_darkcloudcover = []\n",
    "list_new_sign_darkcloudcover = []\n",
    "for date in list_dates_darkcloudcover:\n",
    "    s = u.check_trend(df, date, window_size, slope_size)\n",
    "    if ((s==1)):\n",
    "        list_validate_dates_darkcloudcover.append(date)\n",
    "        list_new_sign_darkcloudcover.append(-1)\n",
    "    else:\n",
    "        list_new_sign_darkcloudcover.append(0)          "
   ]
  },
  {
   "cell_type": "code",
   "execution_count": 113,
   "metadata": {},
   "outputs": [],
   "source": [
    "list_validate_dates_eveningstar = []\n",
    "list_new_sign_eveningstar = []\n",
    "for date in list_dates_eveningstar:\n",
    "    s = u.check_trend(df, date, window_size, slope_size)\n",
    "    if ((s==1)):\n",
    "        list_validate_dates_eveningstar.append(date)\n",
    "        list_new_sign_eveningstar.append(-1)\n",
    "    else:\n",
    "        list_new_sign_eveningstar.append(0)         "
   ]
  },
  {
   "cell_type": "code",
   "execution_count": 114,
   "metadata": {},
   "outputs": [],
   "source": [
    "list_validate_dates_bearishengulfing = []\n",
    "list_new_sign_bearishengulfing = []\n",
    "for date in list_dates_bearishengulfing:\n",
    "    s = u.check_trend(df, date, window_size, slope_size)\n",
    "    if ((s==1)):\n",
    "        list_validate_dates_bearishengulfing.append(date)\n",
    "        list_new_sign_bearishengulfing.append(-1)\n",
    "    else:\n",
    "        list_new_sign_bearishengulfing.append(0)         "
   ]
  },
  {
   "cell_type": "markdown",
   "metadata": {},
   "source": [
    "#### Get the amount of candlesticks patterns (after check)"
   ]
  },
  {
   "cell_type": "code",
   "execution_count": 115,
   "metadata": {},
   "outputs": [
    {
     "name": "stdout",
     "output_type": "stream",
     "text": [
      "AFTER: number of shooting star:214\n",
      "AFTER: number of hangingman:498\n",
      "AFTER: number of dark cloud cover:4\n",
      "AFTER: number of evening star:172\n",
      "AFTER: number of bearish engulfoing:1416\n"
     ]
    }
   ],
   "source": [
    "print(f'AFTER: number of shooting star:{len(list_validate_dates_shootingstar)}')\n",
    "print(f'AFTER: number of hangingman:{len(list_validate_dates_hangingman)}')\n",
    "print(f'AFTER: number of dark cloud cover:{len(list_validate_dates_darkcloudcover)}')\n",
    "print(f'AFTER: number of evening star:{len(list_validate_dates_eveningstar)}')\n",
    "print(f'AFTER: number of bearish engulfoing:{len(list_validate_dates_bearishengulfing)}')"
   ]
  },
  {
   "cell_type": "markdown",
   "metadata": {},
   "source": [
    "### Plot some results"
   ]
  },
  {
   "cell_type": "markdown",
   "metadata": {},
   "source": [
    "#### Shooting Star"
   ]
  },
  {
   "cell_type": "code",
   "execution_count": 116,
   "metadata": {},
   "outputs": [
    {
     "name": "stdout",
     "output_type": "stream",
     "text": [
      "27322\n"
     ]
    },
    {
     "data": {
      "image/png": "[encoded data removed]",
      "text/plain": [
       "<Figure size 1000x400 with 2 Axes>"
      ]
     },
     "metadata": {},
     "output_type": "display_data"
    }
   ],
   "source": [
    "random_date = random.randint(0, len(list_validate_dates_shootingstar)-1)\n",
    "print(df.index.get_loc(list_validate_dates_shootingstar[random_date]))\n",
    "idx = df.index.get_loc(list_validate_dates_shootingstar[random_date])\n",
    "df_temp = df.iloc[idx - window_size :idx + 1]\n",
    "mpf.plot(df_temp, type='candle', figsize=(10,4))"
   ]
  },
  {
   "cell_type": "markdown",
   "metadata": {},
   "source": [
    "#### Hangingman"
   ]
  },
  {
   "cell_type": "code",
   "execution_count": 117,
   "metadata": {},
   "outputs": [
    {
     "name": "stdout",
     "output_type": "stream",
     "text": [
      "20452\n"
     ]
    },
    {
     "data": {
      "image/png": "[encoded data removed]",
      "text/plain": [
       "<Figure size 1000x400 with 2 Axes>"
      ]
     },
     "metadata": {},
     "output_type": "display_data"
    }
   ],
   "source": [
    "random_date = random.randint(0, len(list_validate_dates_hangingman)-1)\n",
    "print(df.index.get_loc(list_validate_dates_hangingman[random_date]))\n",
    "idx = df.index.get_loc(list_validate_dates_hangingman[random_date])\n",
    "df_temp = df.iloc[idx - window_size :idx + 1]\n",
    "mpf.plot(df_temp, type='candle', figsize=(10,4))"
   ]
  },
  {
   "cell_type": "markdown",
   "metadata": {},
   "source": [
    "#### Dark Cloud Cover"
   ]
  },
  {
   "cell_type": "code",
   "execution_count": 118,
   "metadata": {},
   "outputs": [
    {
     "name": "stdout",
     "output_type": "stream",
     "text": [
      "32553\n"
     ]
    },
    {
     "data": {
      "image/png": "[encoded data removed]",
      "text/plain": [
       "<Figure size 1000x400 with 2 Axes>"
      ]
     },
     "metadata": {},
     "output_type": "display_data"
    }
   ],
   "source": [
    "random_date = random.randint(0, len(list_validate_dates_darkcloudcover)-1)\n",
    "print(df.index.get_loc(list_validate_dates_darkcloudcover[random_date]))\n",
    "idx = df.index.get_loc(list_validate_dates_darkcloudcover[random_date])\n",
    "df_temp = df.iloc[idx - window_size :idx + 1]\n",
    "mpf.plot(df_temp, type='candle', figsize=(10,4))"
   ]
  },
  {
   "cell_type": "markdown",
   "metadata": {},
   "source": [
    "#### Evening Star"
   ]
  },
  {
   "cell_type": "code",
   "execution_count": 119,
   "metadata": {},
   "outputs": [
    {
     "name": "stdout",
     "output_type": "stream",
     "text": [
      "25158\n"
     ]
    },
    {
     "data": {
      "image/png": "[encoded data removed]",
      "text/plain": [
       "<Figure size 1000x400 with 2 Axes>"
      ]
     },
     "metadata": {},
     "output_type": "display_data"
    }
   ],
   "source": [
    "random_date = random.randint(0, len(list_validate_dates_eveningstar)-1)\n",
    "print(df.index.get_loc(list_validate_dates_eveningstar[random_date]))\n",
    "idx = df.index.get_loc(list_validate_dates_eveningstar[random_date])\n",
    "df_temp = df.iloc[idx - window_size :idx + 1]\n",
    "mpf.plot(df_temp, type='candle', figsize=(10,4))"
   ]
  },
  {
   "cell_type": "markdown",
   "metadata": {},
   "source": [
    "#### Bearish Engulfing"
   ]
  },
  {
   "cell_type": "code",
   "execution_count": 120,
   "metadata": {},
   "outputs": [
    {
     "name": "stdout",
     "output_type": "stream",
     "text": [
      "28957\n"
     ]
    },
    {
     "data": {
      "image/png": "[encoded data removed]",
      "text/plain": [
       "<Figure size 1000x400 with 2 Axes>"
      ]
     },
     "metadata": {},
     "output_type": "display_data"
    }
   ],
   "source": [
    "random_date = random.randint(0, len(list_validate_dates_bearishengulfing)-1)\n",
    "print(df.index.get_loc(list_validate_dates_bearishengulfing[random_date]))\n",
    "idx = df.index.get_loc(list_validate_dates_bearishengulfing[random_date])\n",
    "df_temp = df.iloc[idx - window_size :idx + 1]\n",
    "mpf.plot(df_temp, type='candle', figsize=(10,4))"
   ]
  },
  {
   "cell_type": "markdown",
   "metadata": {},
   "source": [
    "## Create the Data with the validation"
   ]
  },
  {
   "cell_type": "code",
   "execution_count": 121,
   "metadata": {},
   "outputs": [],
   "source": [
    "# list_new_column_name = ['CDLINVERTEDHAMMER_NEW', 'CDLHAMMER_NEW', 'CDLPIERCING_NEW', 'CDLMORNINGSTAR_NEW', 'CDLSHOOTINGSTAR_NEW', 'CDLHANGINGMAN_NEW', 'CDLDARKCLOUDCOVER_NEW', 'CDLEVENINGSTAR_NEW']\n",
    "# list_of_list_valid_dates = [list_validate_dates_invertedhammer, list_validate_dates_hammer, list_validate_dates_piercing, list_validate_dates_morningstar, list_validate_dates_shootingstar, list_validate_dates_hangingman, list_validate_dates_darkcloudcover, list_validate_dates_eveningstar]\n",
    "# list_of_list_new_sign = [list_new_sign_invertedhammer, list_new_sign_hammer, list_new_sign_piercing, list_new_sign_morningstar, list_new_sign_shootingstar, list_new_sign_hangingman, list_new_sign_darkcloudcover, list_new_sign_eveningstar]\n",
    "\n",
    "list_new_column_name_pos = ['CDLINVERTEDHAMMER_NEW', 'CDLHAMMER_NEW', 'CDLPIERCING_NEW', 'CDLMORNINGSTAR_NEW', 'CDLENGULFINGBULLISH_NEW']\n",
    "list_new_column_name_neg = ['CDLSHOOTINGSTAR_NEW', 'CDLHANGINGMAN_NEW', 'CDLDARKCLOUDCOVER_NEW', 'CDLEVENINGSTAR_NEW', 'CDLENGULFINGBEARISH_NEW']\n",
    "\n",
    "list_of_list_valid_dates_pos = [list_validate_dates_invertedhammer, list_validate_dates_hammer, list_validate_dates_piercing, list_validate_dates_morningstar, list_validate_dates_bullishengulfing]\n",
    "list_of_list_valid_dates_neg = [list_validate_dates_shootingstar, list_validate_dates_hangingman, list_validate_dates_darkcloudcover, list_validate_dates_eveningstar, list_validate_dates_bearishengulfing]"
   ]
  },
  {
   "cell_type": "code",
   "execution_count": 122,
   "metadata": {},
   "outputs": [
    {
     "data": {
      "text/plain": [
       "(69933, 28)"
      ]
     },
     "execution_count": 122,
     "metadata": {},
     "output_type": "execute_result"
    }
   ],
   "source": [
    "df.shape"
   ]
  },
  {
   "cell_type": "code",
   "execution_count": 123,
   "metadata": {},
   "outputs": [],
   "source": [
    "for i in range(0, len(list_new_column_name_pos)):\n",
    "    df[list_new_column_name_pos[i]] = np.where(df['formatted_open_time'].isin(list_of_list_valid_dates_pos[i]), 1, 0)"
   ]
  },
  {
   "cell_type": "code",
   "execution_count": 124,
   "metadata": {},
   "outputs": [],
   "source": [
    "for i in range(0, len(list_new_column_name_neg)):\n",
    "    df[list_new_column_name_neg[i]] = np.where(df['formatted_open_time'].isin(list_of_list_valid_dates_neg[i]), -1, 0)"
   ]
  },
  {
   "cell_type": "code",
   "execution_count": 125,
   "metadata": {},
   "outputs": [
    {
     "data": {
      "text/html": [
       "<div>\n",
       "<style scoped>\n",
       "    .dataframe tbody tr th:only-of-type {\n",
       "        vertical-align: middle;\n",
       "    }\n",
       "\n",
       "    .dataframe tbody tr th {\n",
       "        vertical-align: top;\n",
       "    }\n",
       "\n",
       "    .dataframe thead th {\n",
       "        text-align: right;\n",
       "    }\n",
       "</style>\n",
       "<table border=\"1\" class=\"dataframe\">\n",
       "  <thead>\n",
       "    <tr style=\"text-align: right;\">\n",
       "      <th></th>\n",
       "      <th>open_time</th>\n",
       "      <th>open</th>\n",
       "      <th>high</th>\n",
       "      <th>low</th>\n",
       "      <th>close</th>\n",
       "      <th>volume</th>\n",
       "      <th>close_time</th>\n",
       "      <th>quote_asset_volumne</th>\n",
       "      <th>number_of_trades</th>\n",
       "      <th>taker_buy_base_asset_volume</th>\n",
       "      <th>...</th>\n",
       "      <th>CDLINVERTEDHAMMER_NEW</th>\n",
       "      <th>CDLHAMMER_NEW</th>\n",
       "      <th>CDLPIERCING_NEW</th>\n",
       "      <th>CDLMORNINGSTAR_NEW</th>\n",
       "      <th>CDLENGULFINGBULLISH_NEW</th>\n",
       "      <th>CDLSHOOTINGSTAR_NEW</th>\n",
       "      <th>CDLHANGINGMAN_NEW</th>\n",
       "      <th>CDLDARKCLOUDCOVER_NEW</th>\n",
       "      <th>CDLEVENINGSTAR_NEW</th>\n",
       "      <th>CDLENGULFINGBEARISH_NEW</th>\n",
       "    </tr>\n",
       "    <tr>\n",
       "      <th>formatted_open_time</th>\n",
       "      <th></th>\n",
       "      <th></th>\n",
       "      <th></th>\n",
       "      <th></th>\n",
       "      <th></th>\n",
       "      <th></th>\n",
       "      <th></th>\n",
       "      <th></th>\n",
       "      <th></th>\n",
       "      <th></th>\n",
       "      <th></th>\n",
       "      <th></th>\n",
       "      <th></th>\n",
       "      <th></th>\n",
       "      <th></th>\n",
       "      <th></th>\n",
       "      <th></th>\n",
       "      <th></th>\n",
       "      <th></th>\n",
       "      <th></th>\n",
       "      <th></th>\n",
       "    </tr>\n",
       "  </thead>\n",
       "  <tbody>\n",
       "    <tr>\n",
       "      <th>2020-01-01 00:00:00</th>\n",
       "      <td>1577836800000</td>\n",
       "      <td>7195.24</td>\n",
       "      <td>7196.25</td>\n",
       "      <td>7178.20</td>\n",
       "      <td>7180.97</td>\n",
       "      <td>202.942868</td>\n",
       "      <td>1577837699999</td>\n",
       "      <td>1.458245e+06</td>\n",
       "      <td>2452</td>\n",
       "      <td>76.962041</td>\n",
       "      <td>...</td>\n",
       "      <td>0</td>\n",
       "      <td>0</td>\n",
       "      <td>0</td>\n",
       "      <td>0</td>\n",
       "      <td>0</td>\n",
       "      <td>0</td>\n",
       "      <td>0</td>\n",
       "      <td>0</td>\n",
       "      <td>0</td>\n",
       "      <td>0</td>\n",
       "    </tr>\n",
       "    <tr>\n",
       "      <th>2020-01-01 00:15:00</th>\n",
       "      <td>1577837700000</td>\n",
       "      <td>7180.97</td>\n",
       "      <td>7186.40</td>\n",
       "      <td>7175.47</td>\n",
       "      <td>7178.45</td>\n",
       "      <td>128.242654</td>\n",
       "      <td>1577838599999</td>\n",
       "      <td>9.207027e+05</td>\n",
       "      <td>1948</td>\n",
       "      <td>58.389110</td>\n",
       "      <td>...</td>\n",
       "      <td>0</td>\n",
       "      <td>0</td>\n",
       "      <td>0</td>\n",
       "      <td>0</td>\n",
       "      <td>0</td>\n",
       "      <td>0</td>\n",
       "      <td>0</td>\n",
       "      <td>0</td>\n",
       "      <td>0</td>\n",
       "      <td>0</td>\n",
       "    </tr>\n",
       "    <tr>\n",
       "      <th>2020-01-01 00:30:00</th>\n",
       "      <td>1577838600000</td>\n",
       "      <td>7178.19</td>\n",
       "      <td>7185.44</td>\n",
       "      <td>7176.23</td>\n",
       "      <td>7179.56</td>\n",
       "      <td>83.487458</td>\n",
       "      <td>1577839499999</td>\n",
       "      <td>5.994792e+05</td>\n",
       "      <td>1580</td>\n",
       "      <td>43.822374</td>\n",
       "      <td>...</td>\n",
       "      <td>0</td>\n",
       "      <td>0</td>\n",
       "      <td>0</td>\n",
       "      <td>0</td>\n",
       "      <td>0</td>\n",
       "      <td>0</td>\n",
       "      <td>0</td>\n",
       "      <td>0</td>\n",
       "      <td>0</td>\n",
       "      <td>0</td>\n",
       "    </tr>\n",
       "    <tr>\n",
       "      <th>2020-01-01 00:45:00</th>\n",
       "      <td>1577839500000</td>\n",
       "      <td>7179.35</td>\n",
       "      <td>7183.98</td>\n",
       "      <td>7175.46</td>\n",
       "      <td>7177.02</td>\n",
       "      <td>97.141921</td>\n",
       "      <td>1577840399999</td>\n",
       "      <td>6.974298e+05</td>\n",
       "      <td>1660</td>\n",
       "      <td>46.979601</td>\n",
       "      <td>...</td>\n",
       "      <td>0</td>\n",
       "      <td>0</td>\n",
       "      <td>0</td>\n",
       "      <td>0</td>\n",
       "      <td>0</td>\n",
       "      <td>0</td>\n",
       "      <td>0</td>\n",
       "      <td>0</td>\n",
       "      <td>0</td>\n",
       "      <td>0</td>\n",
       "    </tr>\n",
       "    <tr>\n",
       "      <th>2020-01-01 01:00:00</th>\n",
       "      <td>1577840400000</td>\n",
       "      <td>7176.47</td>\n",
       "      <td>7194.04</td>\n",
       "      <td>7175.71</td>\n",
       "      <td>7190.86</td>\n",
       "      <td>103.520522</td>\n",
       "      <td>1577841299999</td>\n",
       "      <td>7.440891e+05</td>\n",
       "      <td>1588</td>\n",
       "      <td>56.251378</td>\n",
       "      <td>...</td>\n",
       "      <td>0</td>\n",
       "      <td>0</td>\n",
       "      <td>0</td>\n",
       "      <td>0</td>\n",
       "      <td>0</td>\n",
       "      <td>0</td>\n",
       "      <td>0</td>\n",
       "      <td>0</td>\n",
       "      <td>0</td>\n",
       "      <td>0</td>\n",
       "    </tr>\n",
       "  </tbody>\n",
       "</table>\n",
       "<p>5 rows × 38 columns</p>\n",
       "</div>"
      ],
      "text/plain": [
       "                         open_time     open     high      low    close  \\\n",
       "formatted_open_time                                                      \n",
       "2020-01-01 00:00:00  1577836800000  7195.24  7196.25  7178.20  7180.97   \n",
       "2020-01-01 00:15:00  1577837700000  7180.97  7186.40  7175.47  7178.45   \n",
       "2020-01-01 00:30:00  1577838600000  7178.19  7185.44  7176.23  7179.56   \n",
       "2020-01-01 00:45:00  1577839500000  7179.35  7183.98  7175.46  7177.02   \n",
       "2020-01-01 01:00:00  1577840400000  7176.47  7194.04  7175.71  7190.86   \n",
       "\n",
       "                         volume     close_time  quote_asset_volumne  \\\n",
       "formatted_open_time                                                   \n",
       "2020-01-01 00:00:00  202.942868  1577837699999         1.458245e+06   \n",
       "2020-01-01 00:15:00  128.242654  1577838599999         9.207027e+05   \n",
       "2020-01-01 00:30:00   83.487458  1577839499999         5.994792e+05   \n",
       "2020-01-01 00:45:00   97.141921  1577840399999         6.974298e+05   \n",
       "2020-01-01 01:00:00  103.520522  1577841299999         7.440891e+05   \n",
       "\n",
       "                     number_of_trades  taker_buy_base_asset_volume  ...  \\\n",
       "formatted_open_time                                                 ...   \n",
       "2020-01-01 00:00:00              2452                    76.962041  ...   \n",
       "2020-01-01 00:15:00              1948                    58.389110  ...   \n",
       "2020-01-01 00:30:00              1580                    43.822374  ...   \n",
       "2020-01-01 00:45:00              1660                    46.979601  ...   \n",
       "2020-01-01 01:00:00              1588                    56.251378  ...   \n",
       "\n",
       "                     CDLINVERTEDHAMMER_NEW  CDLHAMMER_NEW CDLPIERCING_NEW  \\\n",
       "formatted_open_time                                                         \n",
       "2020-01-01 00:00:00                      0              0               0   \n",
       "2020-01-01 00:15:00                      0              0               0   \n",
       "2020-01-01 00:30:00                      0              0               0   \n",
       "2020-01-01 00:45:00                      0              0               0   \n",
       "2020-01-01 01:00:00                      0              0               0   \n",
       "\n",
       "                    CDLMORNINGSTAR_NEW  CDLENGULFINGBULLISH_NEW  \\\n",
       "formatted_open_time                                               \n",
       "2020-01-01 00:00:00                  0                        0   \n",
       "2020-01-01 00:15:00                  0                        0   \n",
       "2020-01-01 00:30:00                  0                        0   \n",
       "2020-01-01 00:45:00                  0                        0   \n",
       "2020-01-01 01:00:00                  0                        0   \n",
       "\n",
       "                     CDLSHOOTINGSTAR_NEW  CDLHANGINGMAN_NEW  \\\n",
       "formatted_open_time                                           \n",
       "2020-01-01 00:00:00                    0                  0   \n",
       "2020-01-01 00:15:00                    0                  0   \n",
       "2020-01-01 00:30:00                    0                  0   \n",
       "2020-01-01 00:45:00                    0                  0   \n",
       "2020-01-01 01:00:00                    0                  0   \n",
       "\n",
       "                     CDLDARKCLOUDCOVER_NEW  CDLEVENINGSTAR_NEW  \\\n",
       "formatted_open_time                                              \n",
       "2020-01-01 00:00:00                      0                   0   \n",
       "2020-01-01 00:15:00                      0                   0   \n",
       "2020-01-01 00:30:00                      0                   0   \n",
       "2020-01-01 00:45:00                      0                   0   \n",
       "2020-01-01 01:00:00                      0                   0   \n",
       "\n",
       "                     CDLENGULFINGBEARISH_NEW  \n",
       "formatted_open_time                           \n",
       "2020-01-01 00:00:00                        0  \n",
       "2020-01-01 00:15:00                        0  \n",
       "2020-01-01 00:30:00                        0  \n",
       "2020-01-01 00:45:00                        0  \n",
       "2020-01-01 01:00:00                        0  \n",
       "\n",
       "[5 rows x 38 columns]"
      ]
     },
     "execution_count": 125,
     "metadata": {},
     "output_type": "execute_result"
    }
   ],
   "source": [
    "df.head()"
   ]
  },
  {
   "cell_type": "markdown",
   "metadata": {},
   "source": [
    "### Check"
   ]
  },
  {
   "cell_type": "code",
   "execution_count": 126,
   "metadata": {},
   "outputs": [
    {
     "data": {
      "text/html": [
       "<div>\n",
       "<style scoped>\n",
       "    .dataframe tbody tr th:only-of-type {\n",
       "        vertical-align: middle;\n",
       "    }\n",
       "\n",
       "    .dataframe tbody tr th {\n",
       "        vertical-align: top;\n",
       "    }\n",
       "\n",
       "    .dataframe thead th {\n",
       "        text-align: right;\n",
       "    }\n",
       "</style>\n",
       "<table border=\"1\" class=\"dataframe\">\n",
       "  <thead>\n",
       "    <tr style=\"text-align: right;\">\n",
       "      <th></th>\n",
       "      <th>open_time</th>\n",
       "      <th>open</th>\n",
       "      <th>high</th>\n",
       "      <th>low</th>\n",
       "      <th>close</th>\n",
       "      <th>volume</th>\n",
       "      <th>close_time</th>\n",
       "      <th>quote_asset_volumne</th>\n",
       "      <th>number_of_trades</th>\n",
       "      <th>taker_buy_base_asset_volume</th>\n",
       "      <th>...</th>\n",
       "      <th>CDLINVERTEDHAMMER_NEW</th>\n",
       "      <th>CDLHAMMER_NEW</th>\n",
       "      <th>CDLPIERCING_NEW</th>\n",
       "      <th>CDLMORNINGSTAR_NEW</th>\n",
       "      <th>CDLENGULFINGBULLISH_NEW</th>\n",
       "      <th>CDLSHOOTINGSTAR_NEW</th>\n",
       "      <th>CDLHANGINGMAN_NEW</th>\n",
       "      <th>CDLDARKCLOUDCOVER_NEW</th>\n",
       "      <th>CDLEVENINGSTAR_NEW</th>\n",
       "      <th>CDLENGULFINGBEARISH_NEW</th>\n",
       "    </tr>\n",
       "    <tr>\n",
       "      <th>formatted_open_time</th>\n",
       "      <th></th>\n",
       "      <th></th>\n",
       "      <th></th>\n",
       "      <th></th>\n",
       "      <th></th>\n",
       "      <th></th>\n",
       "      <th></th>\n",
       "      <th></th>\n",
       "      <th></th>\n",
       "      <th></th>\n",
       "      <th></th>\n",
       "      <th></th>\n",
       "      <th></th>\n",
       "      <th></th>\n",
       "      <th></th>\n",
       "      <th></th>\n",
       "      <th></th>\n",
       "      <th></th>\n",
       "      <th></th>\n",
       "      <th></th>\n",
       "      <th></th>\n",
       "    </tr>\n",
       "  </thead>\n",
       "  <tbody>\n",
       "    <tr>\n",
       "      <th>2020-01-01 13:45:00</th>\n",
       "      <td>1577886300000</td>\n",
       "      <td>7228.00</td>\n",
       "      <td>7228.00</td>\n",
       "      <td>7216.00</td>\n",
       "      <td>7221.20</td>\n",
       "      <td>124.495490</td>\n",
       "      <td>1577887199999</td>\n",
       "      <td>8.992261e+05</td>\n",
       "      <td>1745</td>\n",
       "      <td>55.151789</td>\n",
       "      <td>...</td>\n",
       "      <td>0</td>\n",
       "      <td>0</td>\n",
       "      <td>0</td>\n",
       "      <td>0</td>\n",
       "      <td>0</td>\n",
       "      <td>0</td>\n",
       "      <td>0</td>\n",
       "      <td>0</td>\n",
       "      <td>0</td>\n",
       "      <td>-1</td>\n",
       "    </tr>\n",
       "    <tr>\n",
       "      <th>2020-01-01 17:30:00</th>\n",
       "      <td>1577899800000</td>\n",
       "      <td>7244.76</td>\n",
       "      <td>7244.97</td>\n",
       "      <td>7232.87</td>\n",
       "      <td>7233.00</td>\n",
       "      <td>130.031268</td>\n",
       "      <td>1577900699999</td>\n",
       "      <td>9.410902e+05</td>\n",
       "      <td>1488</td>\n",
       "      <td>68.160106</td>\n",
       "      <td>...</td>\n",
       "      <td>0</td>\n",
       "      <td>0</td>\n",
       "      <td>0</td>\n",
       "      <td>0</td>\n",
       "      <td>0</td>\n",
       "      <td>0</td>\n",
       "      <td>0</td>\n",
       "      <td>0</td>\n",
       "      <td>0</td>\n",
       "      <td>-1</td>\n",
       "    </tr>\n",
       "    <tr>\n",
       "      <th>2020-01-01 21:00:00</th>\n",
       "      <td>1577912400000</td>\n",
       "      <td>7237.26</td>\n",
       "      <td>7242.75</td>\n",
       "      <td>7228.00</td>\n",
       "      <td>7233.39</td>\n",
       "      <td>107.878779</td>\n",
       "      <td>1577913299999</td>\n",
       "      <td>7.806330e+05</td>\n",
       "      <td>1817</td>\n",
       "      <td>55.914288</td>\n",
       "      <td>...</td>\n",
       "      <td>0</td>\n",
       "      <td>0</td>\n",
       "      <td>0</td>\n",
       "      <td>0</td>\n",
       "      <td>0</td>\n",
       "      <td>0</td>\n",
       "      <td>0</td>\n",
       "      <td>0</td>\n",
       "      <td>0</td>\n",
       "      <td>-1</td>\n",
       "    </tr>\n",
       "    <tr>\n",
       "      <th>2020-01-02 01:00:00</th>\n",
       "      <td>1577926800000</td>\n",
       "      <td>7211.04</td>\n",
       "      <td>7211.16</td>\n",
       "      <td>7197.14</td>\n",
       "      <td>7197.86</td>\n",
       "      <td>90.554664</td>\n",
       "      <td>1577927699999</td>\n",
       "      <td>6.523442e+05</td>\n",
       "      <td>1434</td>\n",
       "      <td>34.093207</td>\n",
       "      <td>...</td>\n",
       "      <td>0</td>\n",
       "      <td>0</td>\n",
       "      <td>0</td>\n",
       "      <td>0</td>\n",
       "      <td>0</td>\n",
       "      <td>0</td>\n",
       "      <td>0</td>\n",
       "      <td>0</td>\n",
       "      <td>0</td>\n",
       "      <td>-1</td>\n",
       "    </tr>\n",
       "    <tr>\n",
       "      <th>2020-01-02 10:30:00</th>\n",
       "      <td>1577961000000</td>\n",
       "      <td>7177.24</td>\n",
       "      <td>7180.00</td>\n",
       "      <td>7161.88</td>\n",
       "      <td>7163.11</td>\n",
       "      <td>385.425463</td>\n",
       "      <td>1577961899999</td>\n",
       "      <td>2.762938e+06</td>\n",
       "      <td>3277</td>\n",
       "      <td>195.758417</td>\n",
       "      <td>...</td>\n",
       "      <td>0</td>\n",
       "      <td>0</td>\n",
       "      <td>0</td>\n",
       "      <td>0</td>\n",
       "      <td>0</td>\n",
       "      <td>0</td>\n",
       "      <td>0</td>\n",
       "      <td>0</td>\n",
       "      <td>0</td>\n",
       "      <td>-1</td>\n",
       "    </tr>\n",
       "    <tr>\n",
       "      <th>...</th>\n",
       "      <td>...</td>\n",
       "      <td>...</td>\n",
       "      <td>...</td>\n",
       "      <td>...</td>\n",
       "      <td>...</td>\n",
       "      <td>...</td>\n",
       "      <td>...</td>\n",
       "      <td>...</td>\n",
       "      <td>...</td>\n",
       "      <td>...</td>\n",
       "      <td>...</td>\n",
       "      <td>...</td>\n",
       "      <td>...</td>\n",
       "      <td>...</td>\n",
       "      <td>...</td>\n",
       "      <td>...</td>\n",
       "      <td>...</td>\n",
       "      <td>...</td>\n",
       "      <td>...</td>\n",
       "      <td>...</td>\n",
       "      <td>...</td>\n",
       "    </tr>\n",
       "    <tr>\n",
       "      <th>2021-12-26 13:15:00</th>\n",
       "      <td>1640524500000</td>\n",
       "      <td>49891.11</td>\n",
       "      <td>49984.00</td>\n",
       "      <td>49791.48</td>\n",
       "      <td>49806.27</td>\n",
       "      <td>219.824290</td>\n",
       "      <td>1640525399999</td>\n",
       "      <td>1.096171e+07</td>\n",
       "      <td>7897</td>\n",
       "      <td>112.365060</td>\n",
       "      <td>...</td>\n",
       "      <td>0</td>\n",
       "      <td>0</td>\n",
       "      <td>0</td>\n",
       "      <td>0</td>\n",
       "      <td>0</td>\n",
       "      <td>0</td>\n",
       "      <td>0</td>\n",
       "      <td>0</td>\n",
       "      <td>0</td>\n",
       "      <td>-1</td>\n",
       "    </tr>\n",
       "    <tr>\n",
       "      <th>2021-12-27 16:00:00</th>\n",
       "      <td>1640620800000</td>\n",
       "      <td>51450.58</td>\n",
       "      <td>51519.97</td>\n",
       "      <td>51329.00</td>\n",
       "      <td>51372.89</td>\n",
       "      <td>453.403870</td>\n",
       "      <td>1640621699999</td>\n",
       "      <td>2.331453e+07</td>\n",
       "      <td>13407</td>\n",
       "      <td>295.514230</td>\n",
       "      <td>...</td>\n",
       "      <td>0</td>\n",
       "      <td>0</td>\n",
       "      <td>0</td>\n",
       "      <td>0</td>\n",
       "      <td>0</td>\n",
       "      <td>0</td>\n",
       "      <td>0</td>\n",
       "      <td>0</td>\n",
       "      <td>0</td>\n",
       "      <td>-1</td>\n",
       "    </tr>\n",
       "    <tr>\n",
       "      <th>2021-12-29 01:45:00</th>\n",
       "      <td>1640742300000</td>\n",
       "      <td>47858.95</td>\n",
       "      <td>47879.27</td>\n",
       "      <td>47691.76</td>\n",
       "      <td>47735.13</td>\n",
       "      <td>239.498650</td>\n",
       "      <td>1640743199999</td>\n",
       "      <td>1.145308e+07</td>\n",
       "      <td>7703</td>\n",
       "      <td>120.303380</td>\n",
       "      <td>...</td>\n",
       "      <td>0</td>\n",
       "      <td>0</td>\n",
       "      <td>0</td>\n",
       "      <td>0</td>\n",
       "      <td>0</td>\n",
       "      <td>0</td>\n",
       "      <td>0</td>\n",
       "      <td>0</td>\n",
       "      <td>0</td>\n",
       "      <td>-1</td>\n",
       "    </tr>\n",
       "    <tr>\n",
       "      <th>2021-12-29 22:45:00</th>\n",
       "      <td>1640817900000</td>\n",
       "      <td>47428.76</td>\n",
       "      <td>47428.76</td>\n",
       "      <td>47182.52</td>\n",
       "      <td>47274.61</td>\n",
       "      <td>208.739720</td>\n",
       "      <td>1640818799999</td>\n",
       "      <td>9.870515e+06</td>\n",
       "      <td>7485</td>\n",
       "      <td>95.034040</td>\n",
       "      <td>...</td>\n",
       "      <td>0</td>\n",
       "      <td>0</td>\n",
       "      <td>0</td>\n",
       "      <td>0</td>\n",
       "      <td>0</td>\n",
       "      <td>0</td>\n",
       "      <td>0</td>\n",
       "      <td>0</td>\n",
       "      <td>0</td>\n",
       "      <td>-1</td>\n",
       "    </tr>\n",
       "    <tr>\n",
       "      <th>2021-12-30 19:15:00</th>\n",
       "      <td>1640891700000</td>\n",
       "      <td>47877.10</td>\n",
       "      <td>47877.37</td>\n",
       "      <td>47751.06</td>\n",
       "      <td>47831.26</td>\n",
       "      <td>177.311070</td>\n",
       "      <td>1640892599999</td>\n",
       "      <td>8.478828e+06</td>\n",
       "      <td>6660</td>\n",
       "      <td>97.891900</td>\n",
       "      <td>...</td>\n",
       "      <td>0</td>\n",
       "      <td>0</td>\n",
       "      <td>0</td>\n",
       "      <td>0</td>\n",
       "      <td>0</td>\n",
       "      <td>0</td>\n",
       "      <td>0</td>\n",
       "      <td>0</td>\n",
       "      <td>0</td>\n",
       "      <td>-1</td>\n",
       "    </tr>\n",
       "  </tbody>\n",
       "</table>\n",
       "<p>1416 rows × 38 columns</p>\n",
       "</div>"
      ],
      "text/plain": [
       "                         open_time      open      high       low     close  \\\n",
       "formatted_open_time                                                          \n",
       "2020-01-01 13:45:00  1577886300000   7228.00   7228.00   7216.00   7221.20   \n",
       "2020-01-01 17:30:00  1577899800000   7244.76   7244.97   7232.87   7233.00   \n",
       "2020-01-01 21:00:00  1577912400000   7237.26   7242.75   7228.00   7233.39   \n",
       "2020-01-02 01:00:00  1577926800000   7211.04   7211.16   7197.14   7197.86   \n",
       "2020-01-02 10:30:00  1577961000000   7177.24   7180.00   7161.88   7163.11   \n",
       "...                            ...       ...       ...       ...       ...   \n",
       "2021-12-26 13:15:00  1640524500000  49891.11  49984.00  49791.48  49806.27   \n",
       "2021-12-27 16:00:00  1640620800000  51450.58  51519.97  51329.00  51372.89   \n",
       "2021-12-29 01:45:00  1640742300000  47858.95  47879.27  47691.76  47735.13   \n",
       "2021-12-29 22:45:00  1640817900000  47428.76  47428.76  47182.52  47274.61   \n",
       "2021-12-30 19:15:00  1640891700000  47877.10  47877.37  47751.06  47831.26   \n",
       "\n",
       "                         volume     close_time  quote_asset_volumne  \\\n",
       "formatted_open_time                                                   \n",
       "2020-01-01 13:45:00  124.495490  1577887199999         8.992261e+05   \n",
       "2020-01-01 17:30:00  130.031268  1577900699999         9.410902e+05   \n",
       "2020-01-01 21:00:00  107.878779  1577913299999         7.806330e+05   \n",
       "2020-01-02 01:00:00   90.554664  1577927699999         6.523442e+05   \n",
       "2020-01-02 10:30:00  385.425463  1577961899999         2.762938e+06   \n",
       "...                         ...            ...                  ...   \n",
       "2021-12-26 13:15:00  219.824290  1640525399999         1.096171e+07   \n",
       "2021-12-27 16:00:00  453.403870  1640621699999         2.331453e+07   \n",
       "2021-12-29 01:45:00  239.498650  1640743199999         1.145308e+07   \n",
       "2021-12-29 22:45:00  208.739720  1640818799999         9.870515e+06   \n",
       "2021-12-30 19:15:00  177.311070  1640892599999         8.478828e+06   \n",
       "\n",
       "                     number_of_trades  taker_buy_base_asset_volume  ...  \\\n",
       "formatted_open_time                                                 ...   \n",
       "2020-01-01 13:45:00              1745                    55.151789  ...   \n",
       "2020-01-01 17:30:00              1488                    68.160106  ...   \n",
       "2020-01-01 21:00:00              1817                    55.914288  ...   \n",
       "2020-01-02 01:00:00              1434                    34.093207  ...   \n",
       "2020-01-02 10:30:00              3277                   195.758417  ...   \n",
       "...                               ...                          ...  ...   \n",
       "2021-12-26 13:15:00              7897                   112.365060  ...   \n",
       "2021-12-27 16:00:00             13407                   295.514230  ...   \n",
       "2021-12-29 01:45:00              7703                   120.303380  ...   \n",
       "2021-12-29 22:45:00              7485                    95.034040  ...   \n",
       "2021-12-30 19:15:00              6660                    97.891900  ...   \n",
       "\n",
       "                     CDLINVERTEDHAMMER_NEW  CDLHAMMER_NEW CDLPIERCING_NEW  \\\n",
       "formatted_open_time                                                         \n",
       "2020-01-01 13:45:00                      0              0               0   \n",
       "2020-01-01 17:30:00                      0              0               0   \n",
       "2020-01-01 21:00:00                      0              0               0   \n",
       "2020-01-02 01:00:00                      0              0               0   \n",
       "2020-01-02 10:30:00                      0              0               0   \n",
       "...                                    ...            ...             ...   \n",
       "2021-12-26 13:15:00                      0              0               0   \n",
       "2021-12-27 16:00:00                      0              0               0   \n",
       "2021-12-29 01:45:00                      0              0               0   \n",
       "2021-12-29 22:45:00                      0              0               0   \n",
       "2021-12-30 19:15:00                      0              0               0   \n",
       "\n",
       "                    CDLMORNINGSTAR_NEW  CDLENGULFINGBULLISH_NEW  \\\n",
       "formatted_open_time                                               \n",
       "2020-01-01 13:45:00                  0                        0   \n",
       "2020-01-01 17:30:00                  0                        0   \n",
       "2020-01-01 21:00:00                  0                        0   \n",
       "2020-01-02 01:00:00                  0                        0   \n",
       "2020-01-02 10:30:00                  0                        0   \n",
       "...                                ...                      ...   \n",
       "2021-12-26 13:15:00                  0                        0   \n",
       "2021-12-27 16:00:00                  0                        0   \n",
       "2021-12-29 01:45:00                  0                        0   \n",
       "2021-12-29 22:45:00                  0                        0   \n",
       "2021-12-30 19:15:00                  0                        0   \n",
       "\n",
       "                     CDLSHOOTINGSTAR_NEW  CDLHANGINGMAN_NEW  \\\n",
       "formatted_open_time                                           \n",
       "2020-01-01 13:45:00                    0                  0   \n",
       "2020-01-01 17:30:00                    0                  0   \n",
       "2020-01-01 21:00:00                    0                  0   \n",
       "2020-01-02 01:00:00                    0                  0   \n",
       "2020-01-02 10:30:00                    0                  0   \n",
       "...                                  ...                ...   \n",
       "2021-12-26 13:15:00                    0                  0   \n",
       "2021-12-27 16:00:00                    0                  0   \n",
       "2021-12-29 01:45:00                    0                  0   \n",
       "2021-12-29 22:45:00                    0                  0   \n",
       "2021-12-30 19:15:00                    0                  0   \n",
       "\n",
       "                     CDLDARKCLOUDCOVER_NEW  CDLEVENINGSTAR_NEW  \\\n",
       "formatted_open_time                                              \n",
       "2020-01-01 13:45:00                      0                   0   \n",
       "2020-01-01 17:30:00                      0                   0   \n",
       "2020-01-01 21:00:00                      0                   0   \n",
       "2020-01-02 01:00:00                      0                   0   \n",
       "2020-01-02 10:30:00                      0                   0   \n",
       "...                                    ...                 ...   \n",
       "2021-12-26 13:15:00                      0                   0   \n",
       "2021-12-27 16:00:00                      0                   0   \n",
       "2021-12-29 01:45:00                      0                   0   \n",
       "2021-12-29 22:45:00                      0                   0   \n",
       "2021-12-30 19:15:00                      0                   0   \n",
       "\n",
       "                     CDLENGULFINGBEARISH_NEW  \n",
       "formatted_open_time                           \n",
       "2020-01-01 13:45:00                       -1  \n",
       "2020-01-01 17:30:00                       -1  \n",
       "2020-01-01 21:00:00                       -1  \n",
       "2020-01-02 01:00:00                       -1  \n",
       "2020-01-02 10:30:00                       -1  \n",
       "...                                      ...  \n",
       "2021-12-26 13:15:00                       -1  \n",
       "2021-12-27 16:00:00                       -1  \n",
       "2021-12-29 01:45:00                       -1  \n",
       "2021-12-29 22:45:00                       -1  \n",
       "2021-12-30 19:15:00                       -1  \n",
       "\n",
       "[1416 rows x 38 columns]"
      ]
     },
     "execution_count": 126,
     "metadata": {},
     "output_type": "execute_result"
    }
   ],
   "source": [
    "df[df['CDLENGULFINGBEARISH_NEW'] == -1]"
   ]
  },
  {
   "cell_type": "markdown",
   "metadata": {},
   "source": [
    "## Export the Data"
   ]
  },
  {
   "cell_type": "markdown",
   "metadata": {},
   "source": [
    "### Export parameters"
   ]
  },
  {
   "cell_type": "code",
   "execution_count": 127,
   "metadata": {},
   "outputs": [],
   "source": [
    "export_path = \"../data\"\n",
    "export_filename = \"binance\" + \\\n",
    "                  \"_\" + asset_ticket + \\\n",
    "                  \"_\" + timestamp + \\\n",
    "                  \"_from_\" + datetime.datetime.strptime(start_date,'%d %b, %Y').strftime('%Y_%m_%d') + \\\n",
    "                  \"_to_\" + datetime.datetime.strptime(end_date,'%d %b, %Y').strftime('%Y_%m_%d') + \\\n",
    "                  \"_candlesticks_signals_processed\"\n",
    "export_extension = \".csv\"\n",
    "full_export_path = os.path.join(export_path, export_filename + export_extension)"
   ]
  },
  {
   "cell_type": "markdown",
   "metadata": {},
   "source": [
    "### Export"
   ]
  },
  {
   "cell_type": "code",
   "execution_count": 128,
   "metadata": {},
   "outputs": [],
   "source": [
    "df.to_csv(full_export_path, index=False)"
   ]
  },
  {
   "cell_type": "code",
   "execution_count": null,
   "metadata": {},
   "outputs": [],
   "source": []
  }
 ],
 "metadata": {
  "interpreter": {
   "hash": "0c0f2ae3d5d9aa27c4a2afc20f28a2482dc1006477ab22953abc78c31c7bb5b2"
  },
  "kernelspec": {
   "display_name": "Python 3.8.13 ('msc_uol_ai_dissertation')",
   "language": "python",
   "name": "python3"
  },
  "language_info": {
   "codemirror_mode": {
    "name": "ipython",
    "version": 3
   },
   "file_extension": ".py",
   "mimetype": "text/x-python",
   "name": "python",
   "nbconvert_exporter": "python",
   "pygments_lexer": "ipython3",
   "version": "3.8.13"
  },
  "orig_nbformat": 4
 },
 "nbformat": 4,
 "nbformat_minor": 2
}
