{
 "cells": [
  {
   "cell_type": "markdown",
   "metadata": {},
   "source": [
    "## Import libraries"
   ]
  },
  {
   "cell_type": "code",
   "execution_count": 1,
   "metadata": {},
   "outputs": [],
   "source": [
    "import warnings\n",
    "warnings.filterwarnings('ignore')"
   ]
  },
  {
   "cell_type": "code",
   "execution_count": 2,
   "metadata": {},
   "outputs": [],
   "source": [
    "# Importing Dependencies\n",
    "import gym\n",
    "import gym_anytrading\n",
    "from gym_anytrading.envs import TradingEnv2, StocksEnv2, Actions2, Positions2\n",
    "from gym_anytrading.envs import TradingEnv, ForexEnv, Actions, Positions"
   ]
  },
  {
   "cell_type": "code",
   "execution_count": 3,
   "metadata": {},
   "outputs": [],
   "source": [
    "# Stable baselines - rl stuff\n",
    "from stable_baselines3.common.vec_env import DummyVecEnv\n",
    "from stable_baselines3.common.env_checker import check_env\n",
    "from stable_baselines3 import A2C, PPO, DQN"
   ]
  },
  {
   "cell_type": "code",
   "execution_count": 4,
   "metadata": {},
   "outputs": [],
   "source": [
    "# Processing libraries\n",
    "import numpy as np\n",
    "import pandas as pd\n",
    "from matplotlib import pyplot as plt"
   ]
  },
  {
   "cell_type": "code",
   "execution_count": 5,
   "metadata": {},
   "outputs": [
    {
     "name": "stdout",
     "output_type": "stream",
     "text": [
      "2.8.1\n"
     ]
    }
   ],
   "source": [
    "import tensorflow\n",
    "print(tensorflow.__version__)"
   ]
  },
  {
   "cell_type": "code",
   "execution_count": 6,
   "metadata": {},
   "outputs": [],
   "source": [
    "import quantstats as qs"
   ]
  },
  {
   "cell_type": "markdown",
   "metadata": {},
   "source": [
    "## Import the data & pre-processing"
   ]
  },
  {
   "cell_type": "code",
   "execution_count": 7,
   "metadata": {},
   "outputs": [
    {
     "data": {
      "text/html": [
       "<div>\n",
       "<style scoped>\n",
       "    .dataframe tbody tr th:only-of-type {\n",
       "        vertical-align: middle;\n",
       "    }\n",
       "\n",
       "    .dataframe tbody tr th {\n",
       "        vertical-align: top;\n",
       "    }\n",
       "\n",
       "    .dataframe thead th {\n",
       "        text-align: right;\n",
       "    }\n",
       "</style>\n",
       "<table border=\"1\" class=\"dataframe\">\n",
       "  <thead>\n",
       "    <tr style=\"text-align: right;\">\n",
       "      <th></th>\n",
       "      <th>open_time</th>\n",
       "      <th>open</th>\n",
       "      <th>high</th>\n",
       "      <th>low</th>\n",
       "      <th>close</th>\n",
       "      <th>volume</th>\n",
       "      <th>close_time</th>\n",
       "      <th>quote_asset_volumne</th>\n",
       "      <th>number_of_trades</th>\n",
       "      <th>taker_buy_base_asset_volume</th>\n",
       "      <th>...</th>\n",
       "      <th>BBANDS_L</th>\n",
       "      <th>AD</th>\n",
       "      <th>ATR</th>\n",
       "      <th>HT_DC</th>\n",
       "      <th>SAR</th>\n",
       "      <th>ratio_high_open</th>\n",
       "      <th>ratio_low_open</th>\n",
       "      <th>ratio_close_open</th>\n",
       "      <th>time_to_chart_return</th>\n",
       "      <th>crypto_index</th>\n",
       "    </tr>\n",
       "  </thead>\n",
       "  <tbody>\n",
       "    <tr>\n",
       "      <th>0</th>\n",
       "      <td>1578268800000</td>\n",
       "      <td>7357.64</td>\n",
       "      <td>7384.72</td>\n",
       "      <td>7346.76</td>\n",
       "      <td>7378.75</td>\n",
       "      <td>1358.867787</td>\n",
       "      <td>1578272399999</td>\n",
       "      <td>1.000665e+07</td>\n",
       "      <td>10399</td>\n",
       "      <td>712.183975</td>\n",
       "      <td>...</td>\n",
       "      <td>7358.112084</td>\n",
       "      <td>19912.415403</td>\n",
       "      <td>42.216983</td>\n",
       "      <td>18.324288</td>\n",
       "      <td>7466.008435</td>\n",
       "      <td>1.003681</td>\n",
       "      <td>0.998521</td>\n",
       "      <td>1.002869</td>\n",
       "      <td>0.002718</td>\n",
       "      <td>1002.717853</td>\n",
       "    </tr>\n",
       "    <tr>\n",
       "      <th>1</th>\n",
       "      <td>1578272400000</td>\n",
       "      <td>7378.97</td>\n",
       "      <td>7426.82</td>\n",
       "      <td>7368.55</td>\n",
       "      <td>7423.50</td>\n",
       "      <td>1630.227541</td>\n",
       "      <td>1578275999999</td>\n",
       "      <td>1.204807e+07</td>\n",
       "      <td>14099</td>\n",
       "      <td>917.223564</td>\n",
       "      <td>...</td>\n",
       "      <td>7357.755635</td>\n",
       "      <td>21356.874781</td>\n",
       "      <td>43.363627</td>\n",
       "      <td>17.869168</td>\n",
       "      <td>7457.127929</td>\n",
       "      <td>1.006485</td>\n",
       "      <td>0.998588</td>\n",
       "      <td>1.006035</td>\n",
       "      <td>0.006065</td>\n",
       "      <td>1008.799049</td>\n",
       "    </tr>\n",
       "    <tr>\n",
       "      <th>2</th>\n",
       "      <td>1578276000000</td>\n",
       "      <td>7423.06</td>\n",
       "      <td>7562.00</td>\n",
       "      <td>7421.64</td>\n",
       "      <td>7551.44</td>\n",
       "      <td>5819.256972</td>\n",
       "      <td>1578279599999</td>\n",
       "      <td>4.366371e+07</td>\n",
       "      <td>38256</td>\n",
       "      <td>3402.178628</td>\n",
       "      <td>...</td>\n",
       "      <td>7344.217387</td>\n",
       "      <td>26300.506879</td>\n",
       "      <td>50.291939</td>\n",
       "      <td>17.479081</td>\n",
       "      <td>7318.000000</td>\n",
       "      <td>1.018717</td>\n",
       "      <td>0.999809</td>\n",
       "      <td>1.017295</td>\n",
       "      <td>0.017234</td>\n",
       "      <td>1026.185154</td>\n",
       "    </tr>\n",
       "    <tr>\n",
       "      <th>3</th>\n",
       "      <td>1578279600000</td>\n",
       "      <td>7551.47</td>\n",
       "      <td>7580.00</td>\n",
       "      <td>7486.85</td>\n",
       "      <td>7540.90</td>\n",
       "      <td>4769.906356</td>\n",
       "      <td>1578283199999</td>\n",
       "      <td>3.593969e+07</td>\n",
       "      <td>27817</td>\n",
       "      <td>2222.120771</td>\n",
       "      <td>...</td>\n",
       "      <td>7336.567145</td>\n",
       "      <td>27066.047406</td>\n",
       "      <td>53.353229</td>\n",
       "      <td>17.115744</td>\n",
       "      <td>7322.880000</td>\n",
       "      <td>1.003778</td>\n",
       "      <td>0.991443</td>\n",
       "      <td>0.998600</td>\n",
       "      <td>-0.001396</td>\n",
       "      <td>1024.752845</td>\n",
       "    </tr>\n",
       "    <tr>\n",
       "      <th>4</th>\n",
       "      <td>1578283200000</td>\n",
       "      <td>7540.90</td>\n",
       "      <td>7554.61</td>\n",
       "      <td>7516.06</td>\n",
       "      <td>7529.52</td>\n",
       "      <td>1554.582461</td>\n",
       "      <td>1578286799999</td>\n",
       "      <td>1.171094e+07</td>\n",
       "      <td>13475</td>\n",
       "      <td>854.354945</td>\n",
       "      <td>...</td>\n",
       "      <td>7333.356615</td>\n",
       "      <td>26597.051452</td>\n",
       "      <td>52.295856</td>\n",
       "      <td>16.755815</td>\n",
       "      <td>7333.164800</td>\n",
       "      <td>1.001818</td>\n",
       "      <td>0.996706</td>\n",
       "      <td>0.998491</td>\n",
       "      <td>-0.001509</td>\n",
       "      <td>1023.206387</td>\n",
       "    </tr>\n",
       "  </tbody>\n",
       "</table>\n",
       "<p>5 rows × 90 columns</p>\n",
       "</div>"
      ],
      "text/plain": [
       "       open_time     open     high      low    close       volume  \\\n",
       "0  1578268800000  7357.64  7384.72  7346.76  7378.75  1358.867787   \n",
       "1  1578272400000  7378.97  7426.82  7368.55  7423.50  1630.227541   \n",
       "2  1578276000000  7423.06  7562.00  7421.64  7551.44  5819.256972   \n",
       "3  1578279600000  7551.47  7580.00  7486.85  7540.90  4769.906356   \n",
       "4  1578283200000  7540.90  7554.61  7516.06  7529.52  1554.582461   \n",
       "\n",
       "      close_time  quote_asset_volumne  number_of_trades  \\\n",
       "0  1578272399999         1.000665e+07             10399   \n",
       "1  1578275999999         1.204807e+07             14099   \n",
       "2  1578279599999         4.366371e+07             38256   \n",
       "3  1578283199999         3.593969e+07             27817   \n",
       "4  1578286799999         1.171094e+07             13475   \n",
       "\n",
       "   taker_buy_base_asset_volume  ...     BBANDS_L            AD        ATR  \\\n",
       "0                   712.183975  ...  7358.112084  19912.415403  42.216983   \n",
       "1                   917.223564  ...  7357.755635  21356.874781  43.363627   \n",
       "2                  3402.178628  ...  7344.217387  26300.506879  50.291939   \n",
       "3                  2222.120771  ...  7336.567145  27066.047406  53.353229   \n",
       "4                   854.354945  ...  7333.356615  26597.051452  52.295856   \n",
       "\n",
       "       HT_DC          SAR  ratio_high_open  ratio_low_open  ratio_close_open  \\\n",
       "0  18.324288  7466.008435         1.003681        0.998521          1.002869   \n",
       "1  17.869168  7457.127929         1.006485        0.998588          1.006035   \n",
       "2  17.479081  7318.000000         1.018717        0.999809          1.017295   \n",
       "3  17.115744  7322.880000         1.003778        0.991443          0.998600   \n",
       "4  16.755815  7333.164800         1.001818        0.996706          0.998491   \n",
       "\n",
       "   time_to_chart_return  crypto_index  \n",
       "0              0.002718   1002.717853  \n",
       "1              0.006065   1008.799049  \n",
       "2              0.017234   1026.185154  \n",
       "3             -0.001396   1024.752845  \n",
       "4             -0.001509   1023.206387  \n",
       "\n",
       "[5 rows x 90 columns]"
      ]
     },
     "execution_count": 7,
     "metadata": {},
     "output_type": "execute_result"
    }
   ],
   "source": [
    "#loading our dataset\n",
    "df = pd.read_csv('../../data/binance_BTCUSDT_1h_from_2020_01_01_to_2022_09_30_candlesticks_signals_processed_technical_indicators_and_crypto_index.csv')\n",
    "#viewing first 5 columns\n",
    "df.head()"
   ]
  },
  {
   "cell_type": "code",
   "execution_count": 8,
   "metadata": {},
   "outputs": [
    {
     "data": {
      "text/plain": [
       "Index(['open_time', 'open', 'high', 'low', 'close', 'volume', 'close_time',\n",
       "       'quote_asset_volumne', 'number_of_trades',\n",
       "       'taker_buy_base_asset_volume', 'taker_buy_quote_asset_volume', 'ignore',\n",
       "       'formatted_open_time', 'formatted_close_time', 'upper_shadow',\n",
       "       'lower_shadow', 'real_body', 'CDLINVERTEDHAMMER', 'CDLHAMMER',\n",
       "       'CDLPIERCING', 'CDLMORNINGSTAR', 'CDLSHOOTINGSTAR', 'CDLHANGINGMAN',\n",
       "       'CDLDARKCLOUDCOVER', 'CDLEVENINGSTAR', 'CDLENGULFING',\n",
       "       'CDLENGULFINGBULLISH', 'CDLENGULFINGBEARISH', 'CDLINVERTEDHAMMER_NEW',\n",
       "       'CDLHAMMER_NEW', 'CDLPIERCING_NEW', 'CDLMORNINGSTAR_NEW',\n",
       "       'CDLENGULFINGBULLISH_NEW', 'CDLSHOOTINGSTAR_NEW', 'CDLHANGINGMAN_NEW',\n",
       "       'CDLDARKCLOUDCOVER_NEW', 'CDLEVENINGSTAR_NEW',\n",
       "       'CDLENGULFINGBEARISH_NEW', 'MA5', 'MA10', 'MA20', 'MA60', 'MA120',\n",
       "       'volume_MA5', 'volume_MA10', 'volume_MA20', 'SMA5', 'SMA10', 'SMA20',\n",
       "       'SMA60', 'SMA120', 'volume_SMA5', 'volume_SMA10', 'volume_SMA20',\n",
       "       'WMA5', 'WMA10', 'WMA20', 'WMA60', 'WMA120', 'volume_WMA5',\n",
       "       'volume_WMA10', 'volume_WMA20', 'EMA5', 'EMA10', 'EMA20', 'EMA60',\n",
       "       'EMA120', 'volume_EMA5', 'volume_EMA10', 'volume_EMA20', 'WILLR_14',\n",
       "       'NATR_14', 'PPO_12_26', 'CCI_14', 'ADX_14', 'ADXR_14', 'MACD_12_26_9',\n",
       "       'RSI_14', 'BBANDS_U', 'BBANDS_M', 'BBANDS_L', 'AD', 'ATR', 'HT_DC',\n",
       "       'SAR', 'ratio_high_open', 'ratio_low_open', 'ratio_close_open',\n",
       "       'time_to_chart_return', 'crypto_index'],\n",
       "      dtype='object')"
      ]
     },
     "execution_count": 8,
     "metadata": {},
     "output_type": "execute_result"
    }
   ],
   "source": [
    "df.columns"
   ]
  },
  {
   "cell_type": "code",
   "execution_count": 9,
   "metadata": {},
   "outputs": [
    {
     "data": {
      "text/plain": [
       "open_time                        int64\n",
       "open                           float64\n",
       "high                           float64\n",
       "low                            float64\n",
       "close                          float64\n",
       "                             ...      \n",
       "ratio_low_open                 float64\n",
       "ratio_close_open               float64\n",
       "time_to_chart_return           float64\n",
       "crypto_index                   float64\n",
       "Date                    datetime64[ns]\n",
       "Length: 91, dtype: object"
      ]
     },
     "execution_count": 9,
     "metadata": {},
     "output_type": "execute_result"
    }
   ],
   "source": [
    "#converting Date Column to DateTime Type\n",
    "df['Date'] = pd.to_datetime(df['formatted_open_time'])\n",
    "df.dtypes"
   ]
  },
  {
   "cell_type": "code",
   "execution_count": 10,
   "metadata": {},
   "outputs": [
    {
     "data": {
      "text/html": [
       "<div>\n",
       "<style scoped>\n",
       "    .dataframe tbody tr th:only-of-type {\n",
       "        vertical-align: middle;\n",
       "    }\n",
       "\n",
       "    .dataframe tbody tr th {\n",
       "        vertical-align: top;\n",
       "    }\n",
       "\n",
       "    .dataframe thead th {\n",
       "        text-align: right;\n",
       "    }\n",
       "</style>\n",
       "<table border=\"1\" class=\"dataframe\">\n",
       "  <thead>\n",
       "    <tr style=\"text-align: right;\">\n",
       "      <th></th>\n",
       "      <th>open_time</th>\n",
       "      <th>open</th>\n",
       "      <th>high</th>\n",
       "      <th>low</th>\n",
       "      <th>close</th>\n",
       "      <th>volume</th>\n",
       "      <th>close_time</th>\n",
       "      <th>quote_asset_volumne</th>\n",
       "      <th>number_of_trades</th>\n",
       "      <th>taker_buy_base_asset_volume</th>\n",
       "      <th>...</th>\n",
       "      <th>BBANDS_L</th>\n",
       "      <th>AD</th>\n",
       "      <th>ATR</th>\n",
       "      <th>HT_DC</th>\n",
       "      <th>SAR</th>\n",
       "      <th>ratio_high_open</th>\n",
       "      <th>ratio_low_open</th>\n",
       "      <th>ratio_close_open</th>\n",
       "      <th>time_to_chart_return</th>\n",
       "      <th>crypto_index</th>\n",
       "    </tr>\n",
       "    <tr>\n",
       "      <th>Date</th>\n",
       "      <th></th>\n",
       "      <th></th>\n",
       "      <th></th>\n",
       "      <th></th>\n",
       "      <th></th>\n",
       "      <th></th>\n",
       "      <th></th>\n",
       "      <th></th>\n",
       "      <th></th>\n",
       "      <th></th>\n",
       "      <th></th>\n",
       "      <th></th>\n",
       "      <th></th>\n",
       "      <th></th>\n",
       "      <th></th>\n",
       "      <th></th>\n",
       "      <th></th>\n",
       "      <th></th>\n",
       "      <th></th>\n",
       "      <th></th>\n",
       "      <th></th>\n",
       "    </tr>\n",
       "  </thead>\n",
       "  <tbody>\n",
       "    <tr>\n",
       "      <th>2020-01-06 00:00:00</th>\n",
       "      <td>1578268800000</td>\n",
       "      <td>7357.64</td>\n",
       "      <td>7384.72</td>\n",
       "      <td>7346.76</td>\n",
       "      <td>7378.75</td>\n",
       "      <td>1358.867787</td>\n",
       "      <td>1578272399999</td>\n",
       "      <td>1.000665e+07</td>\n",
       "      <td>10399</td>\n",
       "      <td>712.183975</td>\n",
       "      <td>...</td>\n",
       "      <td>7358.112084</td>\n",
       "      <td>19912.415403</td>\n",
       "      <td>42.216983</td>\n",
       "      <td>18.324288</td>\n",
       "      <td>7466.008435</td>\n",
       "      <td>1.003681</td>\n",
       "      <td>0.998521</td>\n",
       "      <td>1.002869</td>\n",
       "      <td>0.002718</td>\n",
       "      <td>1002.717853</td>\n",
       "    </tr>\n",
       "    <tr>\n",
       "      <th>2020-01-06 01:00:00</th>\n",
       "      <td>1578272400000</td>\n",
       "      <td>7378.97</td>\n",
       "      <td>7426.82</td>\n",
       "      <td>7368.55</td>\n",
       "      <td>7423.50</td>\n",
       "      <td>1630.227541</td>\n",
       "      <td>1578275999999</td>\n",
       "      <td>1.204807e+07</td>\n",
       "      <td>14099</td>\n",
       "      <td>917.223564</td>\n",
       "      <td>...</td>\n",
       "      <td>7357.755635</td>\n",
       "      <td>21356.874781</td>\n",
       "      <td>43.363627</td>\n",
       "      <td>17.869168</td>\n",
       "      <td>7457.127929</td>\n",
       "      <td>1.006485</td>\n",
       "      <td>0.998588</td>\n",
       "      <td>1.006035</td>\n",
       "      <td>0.006065</td>\n",
       "      <td>1008.799049</td>\n",
       "    </tr>\n",
       "    <tr>\n",
       "      <th>2020-01-06 02:00:00</th>\n",
       "      <td>1578276000000</td>\n",
       "      <td>7423.06</td>\n",
       "      <td>7562.00</td>\n",
       "      <td>7421.64</td>\n",
       "      <td>7551.44</td>\n",
       "      <td>5819.256972</td>\n",
       "      <td>1578279599999</td>\n",
       "      <td>4.366371e+07</td>\n",
       "      <td>38256</td>\n",
       "      <td>3402.178628</td>\n",
       "      <td>...</td>\n",
       "      <td>7344.217387</td>\n",
       "      <td>26300.506879</td>\n",
       "      <td>50.291939</td>\n",
       "      <td>17.479081</td>\n",
       "      <td>7318.000000</td>\n",
       "      <td>1.018717</td>\n",
       "      <td>0.999809</td>\n",
       "      <td>1.017295</td>\n",
       "      <td>0.017234</td>\n",
       "      <td>1026.185154</td>\n",
       "    </tr>\n",
       "    <tr>\n",
       "      <th>2020-01-06 03:00:00</th>\n",
       "      <td>1578279600000</td>\n",
       "      <td>7551.47</td>\n",
       "      <td>7580.00</td>\n",
       "      <td>7486.85</td>\n",
       "      <td>7540.90</td>\n",
       "      <td>4769.906356</td>\n",
       "      <td>1578283199999</td>\n",
       "      <td>3.593969e+07</td>\n",
       "      <td>27817</td>\n",
       "      <td>2222.120771</td>\n",
       "      <td>...</td>\n",
       "      <td>7336.567145</td>\n",
       "      <td>27066.047406</td>\n",
       "      <td>53.353229</td>\n",
       "      <td>17.115744</td>\n",
       "      <td>7322.880000</td>\n",
       "      <td>1.003778</td>\n",
       "      <td>0.991443</td>\n",
       "      <td>0.998600</td>\n",
       "      <td>-0.001396</td>\n",
       "      <td>1024.752845</td>\n",
       "    </tr>\n",
       "    <tr>\n",
       "      <th>2020-01-06 04:00:00</th>\n",
       "      <td>1578283200000</td>\n",
       "      <td>7540.90</td>\n",
       "      <td>7554.61</td>\n",
       "      <td>7516.06</td>\n",
       "      <td>7529.52</td>\n",
       "      <td>1554.582461</td>\n",
       "      <td>1578286799999</td>\n",
       "      <td>1.171094e+07</td>\n",
       "      <td>13475</td>\n",
       "      <td>854.354945</td>\n",
       "      <td>...</td>\n",
       "      <td>7333.356615</td>\n",
       "      <td>26597.051452</td>\n",
       "      <td>52.295856</td>\n",
       "      <td>16.755815</td>\n",
       "      <td>7333.164800</td>\n",
       "      <td>1.001818</td>\n",
       "      <td>0.996706</td>\n",
       "      <td>0.998491</td>\n",
       "      <td>-0.001509</td>\n",
       "      <td>1023.206387</td>\n",
       "    </tr>\n",
       "  </tbody>\n",
       "</table>\n",
       "<p>5 rows × 90 columns</p>\n",
       "</div>"
      ],
      "text/plain": [
       "                         open_time     open     high      low    close  \\\n",
       "Date                                                                     \n",
       "2020-01-06 00:00:00  1578268800000  7357.64  7384.72  7346.76  7378.75   \n",
       "2020-01-06 01:00:00  1578272400000  7378.97  7426.82  7368.55  7423.50   \n",
       "2020-01-06 02:00:00  1578276000000  7423.06  7562.00  7421.64  7551.44   \n",
       "2020-01-06 03:00:00  1578279600000  7551.47  7580.00  7486.85  7540.90   \n",
       "2020-01-06 04:00:00  1578283200000  7540.90  7554.61  7516.06  7529.52   \n",
       "\n",
       "                          volume     close_time  quote_asset_volumne  \\\n",
       "Date                                                                   \n",
       "2020-01-06 00:00:00  1358.867787  1578272399999         1.000665e+07   \n",
       "2020-01-06 01:00:00  1630.227541  1578275999999         1.204807e+07   \n",
       "2020-01-06 02:00:00  5819.256972  1578279599999         4.366371e+07   \n",
       "2020-01-06 03:00:00  4769.906356  1578283199999         3.593969e+07   \n",
       "2020-01-06 04:00:00  1554.582461  1578286799999         1.171094e+07   \n",
       "\n",
       "                     number_of_trades  taker_buy_base_asset_volume  ...  \\\n",
       "Date                                                                ...   \n",
       "2020-01-06 00:00:00             10399                   712.183975  ...   \n",
       "2020-01-06 01:00:00             14099                   917.223564  ...   \n",
       "2020-01-06 02:00:00             38256                  3402.178628  ...   \n",
       "2020-01-06 03:00:00             27817                  2222.120771  ...   \n",
       "2020-01-06 04:00:00             13475                   854.354945  ...   \n",
       "\n",
       "                        BBANDS_L            AD        ATR      HT_DC  \\\n",
       "Date                                                                   \n",
       "2020-01-06 00:00:00  7358.112084  19912.415403  42.216983  18.324288   \n",
       "2020-01-06 01:00:00  7357.755635  21356.874781  43.363627  17.869168   \n",
       "2020-01-06 02:00:00  7344.217387  26300.506879  50.291939  17.479081   \n",
       "2020-01-06 03:00:00  7336.567145  27066.047406  53.353229  17.115744   \n",
       "2020-01-06 04:00:00  7333.356615  26597.051452  52.295856  16.755815   \n",
       "\n",
       "                             SAR  ratio_high_open  ratio_low_open  \\\n",
       "Date                                                                \n",
       "2020-01-06 00:00:00  7466.008435         1.003681        0.998521   \n",
       "2020-01-06 01:00:00  7457.127929         1.006485        0.998588   \n",
       "2020-01-06 02:00:00  7318.000000         1.018717        0.999809   \n",
       "2020-01-06 03:00:00  7322.880000         1.003778        0.991443   \n",
       "2020-01-06 04:00:00  7333.164800         1.001818        0.996706   \n",
       "\n",
       "                     ratio_close_open  time_to_chart_return  crypto_index  \n",
       "Date                                                                       \n",
       "2020-01-06 00:00:00          1.002869              0.002718   1002.717853  \n",
       "2020-01-06 01:00:00          1.006035              0.006065   1008.799049  \n",
       "2020-01-06 02:00:00          1.017295              0.017234   1026.185154  \n",
       "2020-01-06 03:00:00          0.998600             -0.001396   1024.752845  \n",
       "2020-01-06 04:00:00          0.998491             -0.001509   1023.206387  \n",
       "\n",
       "[5 rows x 90 columns]"
      ]
     },
     "execution_count": 10,
     "metadata": {},
     "output_type": "execute_result"
    }
   ],
   "source": [
    "#setting the column as index\n",
    "df.set_index('Date', inplace=True)\n",
    "df.head()"
   ]
  },
  {
   "cell_type": "code",
   "execution_count": 11,
   "metadata": {},
   "outputs": [
    {
     "data": {
      "text/plain": [
       "<AxesSubplot:xlabel='Date'>"
      ]
     },
     "execution_count": 11,
     "metadata": {},
     "output_type": "execute_result"
    },
    {
     "data": {
      "image/png": "[encoded data removed]",
      "text/plain": [
       "<Figure size 432x288 with 1 Axes>"
      ]
     },
     "metadata": {
      "needs_background": "light"
     },
     "output_type": "display_data"
    }
   ],
   "source": [
    "df.plot(y='close')"
   ]
  },
  {
   "cell_type": "markdown",
   "metadata": {},
   "source": [
    "### Select the date period that we would like to work with"
   ]
  },
  {
   "cell_type": "code",
   "execution_count": 12,
   "metadata": {},
   "outputs": [],
   "source": [
    "cut_start_date_id = int(df.index.get_loc('2021-01-07 00:00:00'))\n",
    "cut_end_date_id = int(df.index.get_loc('2021-12-31 00:00:00'))"
   ]
  },
  {
   "cell_type": "code",
   "execution_count": 13,
   "metadata": {},
   "outputs": [],
   "source": [
    "df_selected_columns = df[cut_start_date_id:cut_end_date_id+1]\n",
    "#df_selected_columns = df[['close', 'volume', 'CCI_14', 'ADX_14', 'ADXR_14', 'MACD_12_26_9', 'RSI_14']]"
   ]
  },
  {
   "cell_type": "code",
   "execution_count": 14,
   "metadata": {},
   "outputs": [
    {
     "data": {
      "text/html": [
       "<div>\n",
       "<style scoped>\n",
       "    .dataframe tbody tr th:only-of-type {\n",
       "        vertical-align: middle;\n",
       "    }\n",
       "\n",
       "    .dataframe tbody tr th {\n",
       "        vertical-align: top;\n",
       "    }\n",
       "\n",
       "    .dataframe thead th {\n",
       "        text-align: right;\n",
       "    }\n",
       "</style>\n",
       "<table border=\"1\" class=\"dataframe\">\n",
       "  <thead>\n",
       "    <tr style=\"text-align: right;\">\n",
       "      <th></th>\n",
       "      <th>open_time</th>\n",
       "      <th>open</th>\n",
       "      <th>high</th>\n",
       "      <th>low</th>\n",
       "      <th>close</th>\n",
       "      <th>volume</th>\n",
       "      <th>close_time</th>\n",
       "      <th>quote_asset_volumne</th>\n",
       "      <th>number_of_trades</th>\n",
       "      <th>taker_buy_base_asset_volume</th>\n",
       "      <th>...</th>\n",
       "      <th>BBANDS_L</th>\n",
       "      <th>AD</th>\n",
       "      <th>ATR</th>\n",
       "      <th>HT_DC</th>\n",
       "      <th>SAR</th>\n",
       "      <th>ratio_high_open</th>\n",
       "      <th>ratio_low_open</th>\n",
       "      <th>ratio_close_open</th>\n",
       "      <th>time_to_chart_return</th>\n",
       "      <th>crypto_index</th>\n",
       "    </tr>\n",
       "    <tr>\n",
       "      <th>Date</th>\n",
       "      <th></th>\n",
       "      <th></th>\n",
       "      <th></th>\n",
       "      <th></th>\n",
       "      <th></th>\n",
       "      <th></th>\n",
       "      <th></th>\n",
       "      <th></th>\n",
       "      <th></th>\n",
       "      <th></th>\n",
       "      <th></th>\n",
       "      <th></th>\n",
       "      <th></th>\n",
       "      <th></th>\n",
       "      <th></th>\n",
       "      <th></th>\n",
       "      <th></th>\n",
       "      <th></th>\n",
       "      <th></th>\n",
       "      <th></th>\n",
       "      <th></th>\n",
       "    </tr>\n",
       "  </thead>\n",
       "  <tbody>\n",
       "    <tr>\n",
       "      <th>2021-01-07 00:00:00</th>\n",
       "      <td>1609977600000</td>\n",
       "      <td>36769.36</td>\n",
       "      <td>37287.63</td>\n",
       "      <td>36422.71</td>\n",
       "      <td>37150.66</td>\n",
       "      <td>6259.578978</td>\n",
       "      <td>1609981199999</td>\n",
       "      <td>2.311275e+08</td>\n",
       "      <td>126956</td>\n",
       "      <td>3276.043725</td>\n",
       "      <td>...</td>\n",
       "      <td>33478.486276</td>\n",
       "      <td>2.208838e+06</td>\n",
       "      <td>836.043442</td>\n",
       "      <td>28.058604</td>\n",
       "      <td>34371.316811</td>\n",
       "      <td>1.014095</td>\n",
       "      <td>0.990572</td>\n",
       "      <td>1.010370</td>\n",
       "      <td>0.010370</td>\n",
       "      <td>5048.501444</td>\n",
       "    </tr>\n",
       "    <tr>\n",
       "      <th>2021-01-07 01:00:00</th>\n",
       "      <td>1609981200000</td>\n",
       "      <td>37150.66</td>\n",
       "      <td>37227.61</td>\n",
       "      <td>36615.83</td>\n",
       "      <td>36871.47</td>\n",
       "      <td>4542.039730</td>\n",
       "      <td>1609984799999</td>\n",
       "      <td>1.677442e+08</td>\n",
       "      <td>92343</td>\n",
       "      <td>2188.222216</td>\n",
       "      <td>...</td>\n",
       "      <td>33404.259757</td>\n",
       "      <td>2.208091e+06</td>\n",
       "      <td>820.024624</td>\n",
       "      <td>27.313990</td>\n",
       "      <td>34721.274394</td>\n",
       "      <td>1.002071</td>\n",
       "      <td>0.985604</td>\n",
       "      <td>0.992485</td>\n",
       "      <td>-0.007515</td>\n",
       "      <td>5010.561576</td>\n",
       "    </tr>\n",
       "    <tr>\n",
       "      <th>2021-01-07 02:00:00</th>\n",
       "      <td>1609984800000</td>\n",
       "      <td>36871.47</td>\n",
       "      <td>37087.01</td>\n",
       "      <td>36456.00</td>\n",
       "      <td>36962.37</td>\n",
       "      <td>4112.981009</td>\n",
       "      <td>1609988399999</td>\n",
       "      <td>1.513786e+08</td>\n",
       "      <td>75846</td>\n",
       "      <td>1862.594065</td>\n",
       "      <td>...</td>\n",
       "      <td>33341.340197</td>\n",
       "      <td>2.210580e+06</td>\n",
       "      <td>806.523580</td>\n",
       "      <td>26.267528</td>\n",
       "      <td>35029.237067</td>\n",
       "      <td>1.005846</td>\n",
       "      <td>0.988732</td>\n",
       "      <td>1.002465</td>\n",
       "      <td>0.002465</td>\n",
       "      <td>5022.914218</td>\n",
       "    </tr>\n",
       "    <tr>\n",
       "      <th>2021-01-07 03:00:00</th>\n",
       "      <td>1609988400000</td>\n",
       "      <td>36962.37</td>\n",
       "      <td>37699.00</td>\n",
       "      <td>36926.53</td>\n",
       "      <td>37454.48</td>\n",
       "      <td>4747.646909</td>\n",
       "      <td>1609991999999</td>\n",
       "      <td>1.773801e+08</td>\n",
       "      <td>102236</td>\n",
       "      <td>2489.391295</td>\n",
       "      <td>...</td>\n",
       "      <td>33291.220767</td>\n",
       "      <td>2.212322e+06</td>\n",
       "      <td>804.091181</td>\n",
       "      <td>25.292858</td>\n",
       "      <td>35300.244219</td>\n",
       "      <td>1.019929</td>\n",
       "      <td>0.999030</td>\n",
       "      <td>1.013314</td>\n",
       "      <td>0.013314</td>\n",
       "      <td>5089.788347</td>\n",
       "    </tr>\n",
       "    <tr>\n",
       "      <th>2021-01-07 04:00:00</th>\n",
       "      <td>1609992000000</td>\n",
       "      <td>37452.62</td>\n",
       "      <td>37550.00</td>\n",
       "      <td>37056.12</td>\n",
       "      <td>37450.95</td>\n",
       "      <td>4099.953841</td>\n",
       "      <td>1609995599999</td>\n",
       "      <td>1.530321e+08</td>\n",
       "      <td>93723</td>\n",
       "      <td>1967.847679</td>\n",
       "      <td>...</td>\n",
       "      <td>33301.262862</td>\n",
       "      <td>2.214777e+06</td>\n",
       "      <td>781.933240</td>\n",
       "      <td>24.602389</td>\n",
       "      <td>35636.070028</td>\n",
       "      <td>1.002600</td>\n",
       "      <td>0.989413</td>\n",
       "      <td>0.999955</td>\n",
       "      <td>-0.000094</td>\n",
       "      <td>5089.308646</td>\n",
       "    </tr>\n",
       "  </tbody>\n",
       "</table>\n",
       "<p>5 rows × 90 columns</p>\n",
       "</div>"
      ],
      "text/plain": [
       "                         open_time      open      high       low     close  \\\n",
       "Date                                                                         \n",
       "2021-01-07 00:00:00  1609977600000  36769.36  37287.63  36422.71  37150.66   \n",
       "2021-01-07 01:00:00  1609981200000  37150.66  37227.61  36615.83  36871.47   \n",
       "2021-01-07 02:00:00  1609984800000  36871.47  37087.01  36456.00  36962.37   \n",
       "2021-01-07 03:00:00  1609988400000  36962.37  37699.00  36926.53  37454.48   \n",
       "2021-01-07 04:00:00  1609992000000  37452.62  37550.00  37056.12  37450.95   \n",
       "\n",
       "                          volume     close_time  quote_asset_volumne  \\\n",
       "Date                                                                   \n",
       "2021-01-07 00:00:00  6259.578978  1609981199999         2.311275e+08   \n",
       "2021-01-07 01:00:00  4542.039730  1609984799999         1.677442e+08   \n",
       "2021-01-07 02:00:00  4112.981009  1609988399999         1.513786e+08   \n",
       "2021-01-07 03:00:00  4747.646909  1609991999999         1.773801e+08   \n",
       "2021-01-07 04:00:00  4099.953841  1609995599999         1.530321e+08   \n",
       "\n",
       "                     number_of_trades  taker_buy_base_asset_volume  ...  \\\n",
       "Date                                                                ...   \n",
       "2021-01-07 00:00:00            126956                  3276.043725  ...   \n",
       "2021-01-07 01:00:00             92343                  2188.222216  ...   \n",
       "2021-01-07 02:00:00             75846                  1862.594065  ...   \n",
       "2021-01-07 03:00:00            102236                  2489.391295  ...   \n",
       "2021-01-07 04:00:00             93723                  1967.847679  ...   \n",
       "\n",
       "                         BBANDS_L            AD         ATR      HT_DC  \\\n",
       "Date                                                                     \n",
       "2021-01-07 00:00:00  33478.486276  2.208838e+06  836.043442  28.058604   \n",
       "2021-01-07 01:00:00  33404.259757  2.208091e+06  820.024624  27.313990   \n",
       "2021-01-07 02:00:00  33341.340197  2.210580e+06  806.523580  26.267528   \n",
       "2021-01-07 03:00:00  33291.220767  2.212322e+06  804.091181  25.292858   \n",
       "2021-01-07 04:00:00  33301.262862  2.214777e+06  781.933240  24.602389   \n",
       "\n",
       "                              SAR  ratio_high_open  ratio_low_open  \\\n",
       "Date                                                                 \n",
       "2021-01-07 00:00:00  34371.316811         1.014095        0.990572   \n",
       "2021-01-07 01:00:00  34721.274394         1.002071        0.985604   \n",
       "2021-01-07 02:00:00  35029.237067         1.005846        0.988732   \n",
       "2021-01-07 03:00:00  35300.244219         1.019929        0.999030   \n",
       "2021-01-07 04:00:00  35636.070028         1.002600        0.989413   \n",
       "\n",
       "                     ratio_close_open  time_to_chart_return  crypto_index  \n",
       "Date                                                                       \n",
       "2021-01-07 00:00:00          1.010370              0.010370   5048.501444  \n",
       "2021-01-07 01:00:00          0.992485             -0.007515   5010.561576  \n",
       "2021-01-07 02:00:00          1.002465              0.002465   5022.914218  \n",
       "2021-01-07 03:00:00          1.013314              0.013314   5089.788347  \n",
       "2021-01-07 04:00:00          0.999955             -0.000094   5089.308646  \n",
       "\n",
       "[5 rows x 90 columns]"
      ]
     },
     "execution_count": 14,
     "metadata": {},
     "output_type": "execute_result"
    }
   ],
   "source": [
    "df_selected_columns.head()"
   ]
  },
  {
   "cell_type": "code",
   "execution_count": 15,
   "metadata": {},
   "outputs": [
    {
     "data": {
      "text/html": [
       "<div>\n",
       "<style scoped>\n",
       "    .dataframe tbody tr th:only-of-type {\n",
       "        vertical-align: middle;\n",
       "    }\n",
       "\n",
       "    .dataframe tbody tr th {\n",
       "        vertical-align: top;\n",
       "    }\n",
       "\n",
       "    .dataframe thead th {\n",
       "        text-align: right;\n",
       "    }\n",
       "</style>\n",
       "<table border=\"1\" class=\"dataframe\">\n",
       "  <thead>\n",
       "    <tr style=\"text-align: right;\">\n",
       "      <th></th>\n",
       "      <th>open_time</th>\n",
       "      <th>open</th>\n",
       "      <th>high</th>\n",
       "      <th>low</th>\n",
       "      <th>close</th>\n",
       "      <th>volume</th>\n",
       "      <th>close_time</th>\n",
       "      <th>quote_asset_volumne</th>\n",
       "      <th>number_of_trades</th>\n",
       "      <th>taker_buy_base_asset_volume</th>\n",
       "      <th>...</th>\n",
       "      <th>BBANDS_L</th>\n",
       "      <th>AD</th>\n",
       "      <th>ATR</th>\n",
       "      <th>HT_DC</th>\n",
       "      <th>SAR</th>\n",
       "      <th>ratio_high_open</th>\n",
       "      <th>ratio_low_open</th>\n",
       "      <th>ratio_close_open</th>\n",
       "      <th>time_to_chart_return</th>\n",
       "      <th>crypto_index</th>\n",
       "    </tr>\n",
       "    <tr>\n",
       "      <th>Date</th>\n",
       "      <th></th>\n",
       "      <th></th>\n",
       "      <th></th>\n",
       "      <th></th>\n",
       "      <th></th>\n",
       "      <th></th>\n",
       "      <th></th>\n",
       "      <th></th>\n",
       "      <th></th>\n",
       "      <th></th>\n",
       "      <th></th>\n",
       "      <th></th>\n",
       "      <th></th>\n",
       "      <th></th>\n",
       "      <th></th>\n",
       "      <th></th>\n",
       "      <th></th>\n",
       "      <th></th>\n",
       "      <th></th>\n",
       "      <th></th>\n",
       "      <th></th>\n",
       "    </tr>\n",
       "  </thead>\n",
       "  <tbody>\n",
       "    <tr>\n",
       "      <th>2021-12-30 20:00:00</th>\n",
       "      <td>1640894400000</td>\n",
       "      <td>47558.35</td>\n",
       "      <td>47682.07</td>\n",
       "      <td>47071.00</td>\n",
       "      <td>47203.16</td>\n",
       "      <td>1456.46283</td>\n",
       "      <td>1640897999999</td>\n",
       "      <td>6.896119e+07</td>\n",
       "      <td>39037</td>\n",
       "      <td>694.12599</td>\n",
       "      <td>...</td>\n",
       "      <td>46317.690138</td>\n",
       "      <td>3.129011e+06</td>\n",
       "      <td>422.923489</td>\n",
       "      <td>24.150498</td>\n",
       "      <td>46618.558079</td>\n",
       "      <td>1.002601</td>\n",
       "      <td>0.989753</td>\n",
       "      <td>0.992531</td>\n",
       "      <td>-0.007469</td>\n",
       "      <td>6414.562256</td>\n",
       "    </tr>\n",
       "    <tr>\n",
       "      <th>2021-12-30 21:00:00</th>\n",
       "      <td>1640898000000</td>\n",
       "      <td>47203.16</td>\n",
       "      <td>47347.84</td>\n",
       "      <td>46919.44</td>\n",
       "      <td>47300.00</td>\n",
       "      <td>890.70108</td>\n",
       "      <td>1640901599999</td>\n",
       "      <td>4.202622e+07</td>\n",
       "      <td>34150</td>\n",
       "      <td>406.78740</td>\n",
       "      <td>...</td>\n",
       "      <td>46392.919868</td>\n",
       "      <td>3.129702e+06</td>\n",
       "      <td>423.314669</td>\n",
       "      <td>24.870725</td>\n",
       "      <td>46746.702271</td>\n",
       "      <td>1.003065</td>\n",
       "      <td>0.993989</td>\n",
       "      <td>1.002052</td>\n",
       "      <td>0.002052</td>\n",
       "      <td>6427.722100</td>\n",
       "    </tr>\n",
       "    <tr>\n",
       "      <th>2021-12-30 22:00:00</th>\n",
       "      <td>1640901600000</td>\n",
       "      <td>47299.99</td>\n",
       "      <td>47325.33</td>\n",
       "      <td>46729.00</td>\n",
       "      <td>47084.88</td>\n",
       "      <td>792.93614</td>\n",
       "      <td>1640905199999</td>\n",
       "      <td>3.729493e+07</td>\n",
       "      <td>32869</td>\n",
       "      <td>404.90476</td>\n",
       "      <td>...</td>\n",
       "      <td>46447.027770</td>\n",
       "      <td>3.129856e+06</td>\n",
       "      <td>435.672907</td>\n",
       "      <td>26.058009</td>\n",
       "      <td>47900.000000</td>\n",
       "      <td>1.000536</td>\n",
       "      <td>0.987928</td>\n",
       "      <td>0.995452</td>\n",
       "      <td>-0.004548</td>\n",
       "      <td>6398.488874</td>\n",
       "    </tr>\n",
       "    <tr>\n",
       "      <th>2021-12-30 23:00:00</th>\n",
       "      <td>1640905200000</td>\n",
       "      <td>47084.88</td>\n",
       "      <td>47242.60</td>\n",
       "      <td>46940.96</td>\n",
       "      <td>47120.87</td>\n",
       "      <td>710.18694</td>\n",
       "      <td>1640908799999</td>\n",
       "      <td>3.344807e+07</td>\n",
       "      <td>29876</td>\n",
       "      <td>344.42736</td>\n",
       "      <td>...</td>\n",
       "      <td>46544.901109</td>\n",
       "      <td>3.129993e+06</td>\n",
       "      <td>426.099128</td>\n",
       "      <td>26.916648</td>\n",
       "      <td>47876.580000</td>\n",
       "      <td>1.003350</td>\n",
       "      <td>0.996943</td>\n",
       "      <td>1.000764</td>\n",
       "      <td>0.000764</td>\n",
       "      <td>6403.379650</td>\n",
       "    </tr>\n",
       "    <tr>\n",
       "      <th>2021-12-31 00:00:00</th>\n",
       "      <td>1640908800000</td>\n",
       "      <td>47120.88</td>\n",
       "      <td>47500.00</td>\n",
       "      <td>46826.21</td>\n",
       "      <td>47073.98</td>\n",
       "      <td>1084.11426</td>\n",
       "      <td>1640912399999</td>\n",
       "      <td>5.109534e+07</td>\n",
       "      <td>39334</td>\n",
       "      <td>487.53280</td>\n",
       "      <td>...</td>\n",
       "      <td>46596.997665</td>\n",
       "      <td>3.129706e+06</td>\n",
       "      <td>443.791333</td>\n",
       "      <td>27.306459</td>\n",
       "      <td>47853.628400</td>\n",
       "      <td>1.008046</td>\n",
       "      <td>0.993747</td>\n",
       "      <td>0.999005</td>\n",
       "      <td>-0.000995</td>\n",
       "      <td>6397.007644</td>\n",
       "    </tr>\n",
       "  </tbody>\n",
       "</table>\n",
       "<p>5 rows × 90 columns</p>\n",
       "</div>"
      ],
      "text/plain": [
       "                         open_time      open      high       low     close  \\\n",
       "Date                                                                         \n",
       "2021-12-30 20:00:00  1640894400000  47558.35  47682.07  47071.00  47203.16   \n",
       "2021-12-30 21:00:00  1640898000000  47203.16  47347.84  46919.44  47300.00   \n",
       "2021-12-30 22:00:00  1640901600000  47299.99  47325.33  46729.00  47084.88   \n",
       "2021-12-30 23:00:00  1640905200000  47084.88  47242.60  46940.96  47120.87   \n",
       "2021-12-31 00:00:00  1640908800000  47120.88  47500.00  46826.21  47073.98   \n",
       "\n",
       "                         volume     close_time  quote_asset_volumne  \\\n",
       "Date                                                                  \n",
       "2021-12-30 20:00:00  1456.46283  1640897999999         6.896119e+07   \n",
       "2021-12-30 21:00:00   890.70108  1640901599999         4.202622e+07   \n",
       "2021-12-30 22:00:00   792.93614  1640905199999         3.729493e+07   \n",
       "2021-12-30 23:00:00   710.18694  1640908799999         3.344807e+07   \n",
       "2021-12-31 00:00:00  1084.11426  1640912399999         5.109534e+07   \n",
       "\n",
       "                     number_of_trades  taker_buy_base_asset_volume  ...  \\\n",
       "Date                                                                ...   \n",
       "2021-12-30 20:00:00             39037                    694.12599  ...   \n",
       "2021-12-30 21:00:00             34150                    406.78740  ...   \n",
       "2021-12-30 22:00:00             32869                    404.90476  ...   \n",
       "2021-12-30 23:00:00             29876                    344.42736  ...   \n",
       "2021-12-31 00:00:00             39334                    487.53280  ...   \n",
       "\n",
       "                         BBANDS_L            AD         ATR      HT_DC  \\\n",
       "Date                                                                     \n",
       "2021-12-30 20:00:00  46317.690138  3.129011e+06  422.923489  24.150498   \n",
       "2021-12-30 21:00:00  46392.919868  3.129702e+06  423.314669  24.870725   \n",
       "2021-12-30 22:00:00  46447.027770  3.129856e+06  435.672907  26.058009   \n",
       "2021-12-30 23:00:00  46544.901109  3.129993e+06  426.099128  26.916648   \n",
       "2021-12-31 00:00:00  46596.997665  3.129706e+06  443.791333  27.306459   \n",
       "\n",
       "                              SAR  ratio_high_open  ratio_low_open  \\\n",
       "Date                                                                 \n",
       "2021-12-30 20:00:00  46618.558079         1.002601        0.989753   \n",
       "2021-12-30 21:00:00  46746.702271         1.003065        0.993989   \n",
       "2021-12-30 22:00:00  47900.000000         1.000536        0.987928   \n",
       "2021-12-30 23:00:00  47876.580000         1.003350        0.996943   \n",
       "2021-12-31 00:00:00  47853.628400         1.008046        0.993747   \n",
       "\n",
       "                     ratio_close_open  time_to_chart_return  crypto_index  \n",
       "Date                                                                       \n",
       "2021-12-30 20:00:00          0.992531             -0.007469   6414.562256  \n",
       "2021-12-30 21:00:00          1.002052              0.002052   6427.722100  \n",
       "2021-12-30 22:00:00          0.995452             -0.004548   6398.488874  \n",
       "2021-12-30 23:00:00          1.000764              0.000764   6403.379650  \n",
       "2021-12-31 00:00:00          0.999005             -0.000995   6397.007644  \n",
       "\n",
       "[5 rows x 90 columns]"
      ]
     },
     "execution_count": 15,
     "metadata": {},
     "output_type": "execute_result"
    }
   ],
   "source": [
    "df_selected_columns.tail()"
   ]
  },
  {
   "cell_type": "code",
   "execution_count": 16,
   "metadata": {},
   "outputs": [
    {
     "data": {
      "text/plain": [
       "(8580, 90)"
      ]
     },
     "execution_count": 16,
     "metadata": {},
     "output_type": "execute_result"
    }
   ],
   "source": [
    "df_selected_columns.shape"
   ]
  },
  {
   "cell_type": "code",
   "execution_count": 17,
   "metadata": {},
   "outputs": [
    {
     "data": {
      "text/plain": [
       "<AxesSubplot:xlabel='Date'>"
      ]
     },
     "execution_count": 17,
     "metadata": {},
     "output_type": "execute_result"
    },
    {
     "data": {
      "image/png": "[encoded data removed]",
      "text/plain": [
       "<Figure size 432x288 with 1 Axes>"
      ]
     },
     "metadata": {
      "needs_background": "light"
     },
     "output_type": "display_data"
    }
   ],
   "source": [
    "df_selected_columns.plot(y='close')"
   ]
  },
  {
   "cell_type": "markdown",
   "metadata": {},
   "source": [
    "## (Re)define some important methods"
   ]
  },
  {
   "cell_type": "code",
   "execution_count": 18,
   "metadata": {},
   "outputs": [],
   "source": [
    "def my_process_data(env):\n",
    "    \n",
    "    start = env.frame_bound[0] - env.window_size\n",
    "    end = env.frame_bound[1]\n",
    "    prices = env.df.loc[:, 'close'].to_numpy()[start:end]\n",
    "    #signal_features = env.df.loc[:, ['volume', 'CCI_14', 'ADX_14', 'ADXR_14', 'MACD_12_26_9', 'RSI_14']].to_numpy()[start:end]\n",
    "    signal_features = env.df.loc[:, ['SMA20', 'SMA60', 'CCI_14', 'ADX_14', \n",
    "                                    'ADXR_14', 'MACD_12_26_9', 'RSI_14', 'BBANDS_U', 'BBANDS_L']].to_numpy()[start:end]\n",
    "\n",
    "    #dates = env.df.index[start:end].tolist()\n",
    "    return prices, signal_features #, dates\n",
    "\n",
    "\n",
    "class MyEnv(StocksEnv2):\n",
    "    _process_data = my_process_data"
   ]
  },
  {
   "cell_type": "markdown",
   "metadata": {},
   "source": [
    "## Set some important parameters "
   ]
  },
  {
   "cell_type": "code",
   "execution_count": 19,
   "metadata": {},
   "outputs": [],
   "source": [
    "window_size = 24 * 7\n",
    "start_date_id = int(df_selected_columns.index.get_loc('2021-01-14 01:00:00'))\n",
    "mid_date_id = int(df_selected_columns.index.get_loc('2021-09-01 00:00:00'))\n",
    "end_date_id = int(df_selected_columns.index.get_loc('2021-12-31 00:00:00'))"
   ]
  },
  {
   "cell_type": "code",
   "execution_count": 20,
   "metadata": {},
   "outputs": [],
   "source": [
    "# dt_start_to_mid = df_selected_columns.index[start_date_id:mid_date_id+1]\n",
    "# dt_mid_to_end = df_selected_columns.index[mid_date_id:end_date_id+1]"
   ]
  },
  {
   "cell_type": "code",
   "execution_count": 21,
   "metadata": {},
   "outputs": [],
   "source": [
    "#print(f'{start_date_id} {mid_date_id} {end_date_id}')"
   ]
  },
  {
   "cell_type": "code",
   "execution_count": 22,
   "metadata": {},
   "outputs": [
    {
     "name": "stdout",
     "output_type": "stream",
     "text": [
      "mid_date_id - start_date_id: 5508\n",
      "end_date_id - mid_date_id: 2902\n",
      "end_date_id - start_date_id: 8410\n"
     ]
    }
   ],
   "source": [
    "print(f'mid_date_id - start_date_id: {mid_date_id - start_date_id}')\n",
    "print(f'end_date_id - mid_date_id: {end_date_id - mid_date_id}')\n",
    "print(f'end_date_id - start_date_id: {end_date_id - start_date_id}')"
   ]
  },
  {
   "cell_type": "markdown",
   "metadata": {},
   "source": [
    "## Set the enviroment and train the models"
   ]
  },
  {
   "cell_type": "code",
   "execution_count": 23,
   "metadata": {},
   "outputs": [
    {
     "data": {
      "text/plain": [
       "<stable_baselines3.a2c.a2c.A2C at 0x29b9e2190>"
      ]
     },
     "execution_count": 23,
     "metadata": {},
     "output_type": "execute_result"
    }
   ],
   "source": [
    "#setting up our environment for training \n",
    "env_A2C = MyEnv(df=df_selected_columns, window_size=window_size, frame_bound=(start_date_id, mid_date_id))\n",
    "\n",
    "#Applying the Trading RL Algorithm\n",
    "model_A2C = A2C('MlpPolicy', env_A2C, verbose=0, tensorboard_log=\"../tensorboard_logs/myenv_tensorboard/\") \n",
    " \n",
    "#setting the learning timesteps\n",
    "model_A2C.learn(total_timesteps=(mid_date_id - start_date_id), tb_log_name=\"a2c\")"
   ]
  },
  {
   "cell_type": "code",
   "execution_count": null,
   "metadata": {},
   "outputs": [],
   "source": [
    "#setting up our environment for training \n",
    "env_PPO = MyEnv(df=df_selected_columns, window_size=window_size, frame_bound=(start_date_id, mid_date_id))\n",
    "\n",
    "#Applying the Trading RL Algorithm\n",
    "model_PPO = PPO('MlpPolicy', env_PPO, verbose=0, tensorboard_log=\"../tensorboard_logs/myenv_tensorboard/\") \n",
    " \n",
    "#setting the learning timesteps\n",
    "model_PPO.learn(total_timesteps=(mid_date_id - start_date_id), tb_log_name=\"ppo\")"
   ]
  },
  {
   "cell_type": "code",
   "execution_count": null,
   "metadata": {},
   "outputs": [],
   "source": [
    "#setting up our environment for training \n",
    "env_DQN = MyEnv(df=df_selected_columns, window_size=window_size, frame_bound=(start_date_id, mid_date_id))\n",
    "\n",
    "#Applying the Trading RL Algorithm\n",
    "model_DQN = DQN('MlpPolicy', env_DQN, verbose=0, tensorboard_log=\"../tensorboard_logs/myenv_tensorboard/\") \n",
    " \n",
    "#setting the learning timesteps\n",
    "model_DQN.learn(total_timesteps=(mid_date_id - start_date_id), tb_log_name=\"dqn\")"
   ]
  },
  {
   "cell_type": "markdown",
   "metadata": {},
   "source": [
    "## Trained models: Check the results"
   ]
  },
  {
   "cell_type": "code",
   "execution_count": 24,
   "metadata": {},
   "outputs": [
    {
     "data": {
      "image/png": "[encoded data removed]",
      "text/plain": [
       "<Figure size 1080x432 with 1 Axes>"
      ]
     },
     "metadata": {
      "needs_background": "light"
     },
     "output_type": "display_data"
    }
   ],
   "source": [
    "#Plotting our Model for Trained Trades\n",
    "plt.figure(figsize=(15,6))\n",
    "plt.cla()\n",
    "env_A2C.render_all()\n",
    "plt.show()"
   ]
  },
  {
   "cell_type": "code",
   "execution_count": null,
   "metadata": {},
   "outputs": [],
   "source": [
    "#Plotting our Model for Trained Trades\n",
    "plt.figure(figsize=(15,6))\n",
    "plt.cla()\n",
    "env_PPO.render_all()\n",
    "plt.show()"
   ]
  },
  {
   "cell_type": "code",
   "execution_count": null,
   "metadata": {},
   "outputs": [],
   "source": [
    "#Plotting our Model for Trained Trades\n",
    "plt.figure(figsize=(15,6))\n",
    "plt.cla()\n",
    "env_DQN.render_all()\n",
    "plt.show()"
   ]
  },
  {
   "cell_type": "markdown",
   "metadata": {},
   "source": [
    "## Validate the models"
   ]
  },
  {
   "cell_type": "code",
   "execution_count": 25,
   "metadata": {},
   "outputs": [
    {
     "name": "stdout",
     "output_type": "stream",
     "text": [
      "info {'total_reward': -125598499.99999642, 'total_profit': 0.9092575652367283, 'position': 0}\n"
     ]
    }
   ],
   "source": [
    "#Setting up the Agent Environment\n",
    "env_A2C = MyEnv(df=df_selected_columns, window_size=window_size, frame_bound=(mid_date_id, end_date_id))\n",
    "obs = env_A2C.reset()\n",
    "while True: \n",
    "    obs = obs[np.newaxis, ...]\n",
    "    action, _states = model_A2C.predict(obs)\n",
    "    obs, rewards, done, info = env_A2C.step(action)\n",
    "    if done:\n",
    "        print(\"info\", info)\n",
    "        break"
   ]
  },
  {
   "cell_type": "code",
   "execution_count": 26,
   "metadata": {},
   "outputs": [
    {
     "data": {
      "image/png": "[encoded data removed]",
      "text/plain": [
       "<Figure size 1080x432 with 1 Axes>"
      ]
     },
     "metadata": {
      "needs_background": "light"
     },
     "output_type": "display_data"
    }
   ],
   "source": [
    "#Plotting our Model for Trained Trades\n",
    "plt.figure(figsize=(15,6))\n",
    "plt.cla()\n",
    "env_A2C.render_all()\n",
    "plt.show()"
   ]
  },
  {
   "cell_type": "code",
   "execution_count": null,
   "metadata": {},
   "outputs": [],
   "source": [
    "#Setting up the Agent Environment\n",
    "env_PPO = MyEnv(df=df_selected_columns, window_size=window_size, frame_bound=(mid_date_id, end_date_id))\n",
    "obs = env_PPO.reset()\n",
    "while True: \n",
    "    obs = obs[np.newaxis, ...]\n",
    "    action, _states = model_PPO.predict(obs)\n",
    "    obs, rewards, done, info = env_PPO.step(action)\n",
    "    if done:\n",
    "        print(\"info\", info)\n",
    "        break"
   ]
  },
  {
   "cell_type": "code",
   "execution_count": null,
   "metadata": {},
   "outputs": [],
   "source": [
    "#Plotting our Model for Trained Trades\n",
    "plt.figure(figsize=(15,6))\n",
    "plt.cla()\n",
    "env_PPO.render_all()\n",
    "plt.show()"
   ]
  },
  {
   "cell_type": "code",
   "execution_count": null,
   "metadata": {},
   "outputs": [],
   "source": [
    "#Setting up the Agent Environment\n",
    "env_DQN = MyEnv(df=df_selected_columns, window_size=window_size, frame_bound=(mid_date_id, end_date_id))\n",
    "obs = env_DQN.reset()\n",
    "while True: \n",
    "    obs = obs[np.newaxis, ...]\n",
    "    action, _states = model_DQN.predict(obs)\n",
    "    obs, rewards, done, info = env_DQN.step(action)\n",
    "    if done:\n",
    "        print(\"info\", info)\n",
    "        break"
   ]
  },
  {
   "cell_type": "code",
   "execution_count": null,
   "metadata": {},
   "outputs": [],
   "source": [
    "#Plotting our Model for Trained Trades\n",
    "plt.figure(figsize=(15,6))\n",
    "plt.cla()\n",
    "env_DQN.render_all()\n",
    "plt.show()"
   ]
  },
  {
   "cell_type": "markdown",
   "metadata": {},
   "source": [
    "## Validated models: Check the results"
   ]
  },
  {
   "cell_type": "code",
   "execution_count": null,
   "metadata": {},
   "outputs": [],
   "source": [
    "qs.extend_pandas()\n",
    "\n",
    "start_index = mid_date_id\n",
    "end_index = end_date_id\n",
    "\n",
    "net_worth = pd.Series(env_A2C.history['total_profit'], index=df_selected_columns.index[start_index+1:end_index])\n",
    "returns = net_worth.pct_change().iloc[1:]\n",
    "\n",
    "qs.reports.full(returns)\n",
    "qs.reports.html(returns, output='a2c_quantstats.html')"
   ]
  },
  {
   "cell_type": "code",
   "execution_count": null,
   "metadata": {},
   "outputs": [],
   "source": [
    "qs.extend_pandas()\n",
    "\n",
    "start_index = mid_date_id\n",
    "end_index = end_date_id\n",
    "\n",
    "net_worth = pd.Series(env_PPO.history['total_profit'], index=df_selected_columns.index[start_index+1:end_index])\n",
    "returns = net_worth.pct_change().iloc[1:]\n",
    "\n",
    "qs.reports.full(returns)\n",
    "qs.reports.html(returns, output='ppo_quantstats.html')"
   ]
  },
  {
   "cell_type": "code",
   "execution_count": null,
   "metadata": {},
   "outputs": [],
   "source": [
    "qs.extend_pandas()\n",
    "\n",
    "start_index = mid_date_id\n",
    "end_index = end_date_id\n",
    "\n",
    "net_worth = pd.Series(env_DQN.history['total_profit'], index=df_selected_columns.index[start_index+1:end_index])\n",
    "returns = net_worth.pct_change().iloc[1:]\n",
    "\n",
    "qs.reports.full(returns)\n",
    "qs.reports.html(returns, output='dqn_quantstats.html')"
   ]
  },
  {
   "cell_type": "code",
   "execution_count": null,
   "metadata": {},
   "outputs": [],
   "source": []
  }
 ],
 "metadata": {
  "kernelspec": {
   "display_name": "Python 3.8.13 ('msc_uol_ai_dissertation')",
   "language": "python",
   "name": "python3"
  },
  "language_info": {
   "codemirror_mode": {
    "name": "ipython",
    "version": 3
   },
   "file_extension": ".py",
   "mimetype": "text/x-python",
   "name": "python",
   "nbconvert_exporter": "python",
   "pygments_lexer": "ipython3",
   "version": "3.8.13 | packaged by conda-forge | (default, Mar 25 2022, 06:04:14) \n[Clang 12.0.1 ]"
  },
  "orig_nbformat": 4,
  "vscode": {
   "interpreter": {
    "hash": "0c0f2ae3d5d9aa27c4a2afc20f28a2482dc1006477ab22953abc78c31c7bb5b2"
   }
  }
 },
 "nbformat": 4,
 "nbformat_minor": 2
}
