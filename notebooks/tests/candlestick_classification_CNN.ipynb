{
 "cells": [
  {
   "cell_type": "code",
   "execution_count": 1,
   "metadata": {},
   "outputs": [],
   "source": [
    "# Importing all necessary libraries\n",
    "from keras.preprocessing.image import ImageDataGenerator\n",
    "from keras.models import Sequential\n",
    "from keras.layers import Conv2D, MaxPooling2D\n",
    "from keras.layers import Activation, Dropout, Flatten, Dense\n",
    "from keras import backend as K\n",
    "from keras.optimizers import adam_v2\n",
    "\n",
    "import matplotlib.pyplot as plt"
   ]
  },
  {
   "cell_type": "code",
   "execution_count": 14,
   "metadata": {},
   "outputs": [
    {
     "name": "stdout",
     "output_type": "stream",
     "text": [
      "2.9.2\n"
     ]
    },
    {
     "data": {
      "text/plain": [
       "[PhysicalDevice(name='/physical_device:CPU:0', device_type='CPU'),\n",
       " PhysicalDevice(name='/physical_device:GPU:0', device_type='GPU')]"
      ]
     },
     "execution_count": 14,
     "metadata": {},
     "output_type": "execute_result"
    }
   ],
   "source": [
    "import tensorflow as tf\n",
    "print(tf.__version__)\n",
    "tf.config.list_physical_devices()"
   ]
  },
  {
   "cell_type": "code",
   "execution_count": 3,
   "metadata": {},
   "outputs": [],
   "source": [
    "img_width, img_height = 217, 217"
   ]
  },
  {
   "cell_type": "code",
   "execution_count": 4,
   "metadata": {},
   "outputs": [],
   "source": [
    "train_data_dir = '../data/dataset/training'\n",
    "validation_data_dir = '../data/dataset/validation'\n",
    "nb_train_samples = 31125\n",
    "nb_validation_samples = 11880\n",
    "epochs = 30 #300\n",
    "batch_size = 32"
   ]
  },
  {
   "cell_type": "code",
   "execution_count": 5,
   "metadata": {},
   "outputs": [
    {
     "name": "stdout",
     "output_type": "stream",
     "text": [
      "Found 31125 images belonging to 8 classes.\n",
      "Found 11880 images belonging to 8 classes.\n"
     ]
    }
   ],
   "source": [
    "train_datagen = ImageDataGenerator(\n",
    "    rescale=1. / 255,\n",
    "    shear_range=0.2,\n",
    "    zoom_range=0.2,\n",
    "    horizontal_flip=True)\n",
    " \n",
    "test_datagen = ImageDataGenerator(rescale=1. / 255)\n",
    " \n",
    "train_generator = train_datagen.flow_from_directory(\n",
    "    train_data_dir,\n",
    "    target_size=(img_width, img_height),\n",
    "    batch_size=batch_size,\n",
    "    color_mode='rgba',\n",
    "    class_mode='categorical')\n",
    " \n",
    "validation_generator = test_datagen.flow_from_directory(\n",
    "    validation_data_dir,\n",
    "    target_size=(img_width, img_height),\n",
    "    batch_size=batch_size,\n",
    "    color_mode='rgba',\n",
    "    class_mode='categorical')"
   ]
  },
  {
   "cell_type": "code",
   "execution_count": 6,
   "metadata": {},
   "outputs": [
    {
     "name": "stdout",
     "output_type": "stream",
     "text": [
      "(217, 217, 4)\n",
      "(217, 217, 4)\n"
     ]
    }
   ],
   "source": [
    "print(train_generator.image_shape)\n",
    "print(validation_generator.image_shape)"
   ]
  },
  {
   "cell_type": "code",
   "execution_count": 7,
   "metadata": {},
   "outputs": [
    {
     "name": "stdout",
     "output_type": "stream",
     "text": [
      "Metal device set to: Apple M1 Max\n",
      "\n",
      "systemMemory: 64.00 GB\n",
      "maxCacheSize: 24.00 GB\n",
      "\n"
     ]
    },
    {
     "name": "stderr",
     "output_type": "stream",
     "text": [
      "2022-07-19 17:27:50.313288: I tensorflow/core/common_runtime/pluggable_device/pluggable_device_factory.cc:305] Could not identify NUMA node of platform GPU ID 0, defaulting to 0. Your kernel may not have been built with NUMA support.\n",
      "2022-07-19 17:27:50.313417: I tensorflow/core/common_runtime/pluggable_device/pluggable_device_factory.cc:271] Created TensorFlow device (/job:localhost/replica:0/task:0/device:GPU:0 with 0 MB memory) -> physical PluggableDevice (device: 0, name: METAL, pci bus id: <undefined>)\n"
     ]
    }
   ],
   "source": [
    "model = Sequential()\n",
    "model.add(Conv2D(filters=16, kernel_size=(3,3), input_shape=(img_width, img_height, 4), activation='relu'))\n",
    "model.add(Conv2D(filters=16, kernel_size=(3,3), activation='relu'))\n",
    "model.add(Flatten())\n",
    "model.add(Dense(128, activation='relu'))\n",
    "model.add(Dense(8, activation='softmax'))"
   ]
  },
  {
   "cell_type": "code",
   "execution_count": 8,
   "metadata": {},
   "outputs": [],
   "source": [
    "model.compile(loss='categorical_crossentropy', optimizer=adam_v2.Adam(learning_rate=0.001, beta_1=0.9, beta_2=0.999), metrics=['acc'])"
   ]
  },
  {
   "cell_type": "code",
   "execution_count": 9,
   "metadata": {},
   "outputs": [
    {
     "name": "stdout",
     "output_type": "stream",
     "text": [
      "Model: \"sequential\"\n",
      "_________________________________________________________________\n",
      " Layer (type)                Output Shape              Param #   \n",
      "=================================================================\n",
      " conv2d (Conv2D)             (None, 215, 215, 16)      592       \n",
      "                                                                 \n",
      " conv2d_1 (Conv2D)           (None, 213, 213, 16)      2320      \n",
      "                                                                 \n",
      " flatten (Flatten)           (None, 725904)            0         \n",
      "                                                                 \n",
      " dense (Dense)               (None, 128)               92915840  \n",
      "                                                                 \n",
      " dense_1 (Dense)             (None, 8)                 1032      \n",
      "                                                                 \n",
      "=================================================================\n",
      "Total params: 92,919,784\n",
      "Trainable params: 92,919,784\n",
      "Non-trainable params: 0\n",
      "_________________________________________________________________\n"
     ]
    }
   ],
   "source": [
    "model.summary()"
   ]
  },
  {
   "cell_type": "code",
   "execution_count": 10,
   "metadata": {},
   "outputs": [
    {
     "name": "stdout",
     "output_type": "stream",
     "text": [
      "Epoch 1/30\n"
     ]
    },
    {
     "name": "stderr",
     "output_type": "stream",
     "text": [
      "2022-07-19 17:27:51.673978: W tensorflow/core/platform/profile_utils/cpu_utils.cc:128] Failed to get CPU frequency: 0 Hz\n",
      "2022-07-19 17:27:51.994566: I tensorflow/core/grappler/optimizers/custom_graph_optimizer_registry.cc:113] Plugin optimizer for device_type GPU is enabled.\n"
     ]
    },
    {
     "name": "stdout",
     "output_type": "stream",
     "text": [
      "972/972 [==============================] - ETA: 0s - loss: 1.0067 - acc: 0.7493"
     ]
    },
    {
     "name": "stderr",
     "output_type": "stream",
     "text": [
      "2022-07-19 17:33:41.389371: I tensorflow/core/grappler/optimizers/custom_graph_optimizer_registry.cc:113] Plugin optimizer for device_type GPU is enabled.\n",
      "Error: command buffer exited with error status.\n",
      "\tThe Metal Performance Shaders operations encoded on it may not have completed.\n",
      "\tError: \n",
      "\t(null)\n",
      "\tCaused GPU Hang Error (00000003:kIOGPUCommandBufferCallbackErrorHang)\n",
      "\t<AGXG13XFamilyCommandBuffer: 0x2973f8230>\n",
      "    label = <none> \n",
      "    device = <AGXG13XDevice: 0x123c80600>\n",
      "        name = Apple M1 Max \n",
      "    commandQueue = <AGXG13XFamilyCommandQueue: 0x17b1e9600>\n",
      "        label = <none> \n",
      "        device = <AGXG13XDevice: 0x123c80600>\n",
      "            name = Apple M1 Max \n",
      "    retainedReferences = 1\n"
     ]
    },
    {
     "name": "stdout",
     "output_type": "stream",
     "text": [
      "972/972 [==============================] - 471s 484ms/step - loss: 1.0067 - acc: 0.7493 - val_loss: 0.6102 - val_acc: 0.7852\n",
      "Epoch 2/30\n",
      "972/972 [==============================] - 639s 657ms/step - loss: 0.5386 - acc: 0.7997 - val_loss: 0.5367 - val_acc: 0.8128\n",
      "Epoch 3/30\n",
      "972/972 [==============================] - 729s 750ms/step - loss: 0.4964 - acc: 0.8114 - val_loss: 0.4792 - val_acc: 0.8130\n",
      "Epoch 4/30\n",
      "972/972 [==============================] - 472s 485ms/step - loss: 0.4695 - acc: 0.8225 - val_loss: 0.4526 - val_acc: 0.8271\n",
      "Epoch 5/30\n",
      "972/972 [==============================] - 529s 544ms/step - loss: 0.4505 - acc: 0.8261 - val_loss: 0.4323 - val_acc: 0.8377\n",
      "Epoch 6/30\n",
      "941/972 [============================>.] - ETA: 18s - loss: 0.4358 - acc: 0.8306"
     ]
    },
    {
     "name": "stderr",
     "output_type": "stream",
     "text": [
      "Error: command buffer exited with error status.\n",
      "\tThe Metal Performance Shaders operations encoded on it may not have completed.\n",
      "\tError: \n",
      "\t(null)\n",
      "\tCaused GPU Hang Error (00000003:kIOGPUCommandBufferCallbackErrorHang)\n",
      "\t<AGXG13XFamilyCommandBuffer: 0x1056a47e0>\n",
      "    label = <none> \n",
      "    device = <AGXG13XDevice: 0x123c80600>\n",
      "        name = Apple M1 Max \n",
      "    commandQueue = <AGXG13XFamilyCommandQueue: 0x17b1e9600>\n",
      "        label = <none> \n",
      "        device = <AGXG13XDevice: 0x123c80600>\n",
      "            name = Apple M1 Max \n",
      "    retainedReferences = 1\n"
     ]
    },
    {
     "name": "stdout",
     "output_type": "stream",
     "text": [
      "972/972 [==============================] - 770s 792ms/step - loss: 0.4526 - acc: 0.8270 - val_loss: 0.7352 - val_acc: 0.7528\n",
      "Epoch 7/30\n",
      "972/972 [==============================] - 742s 764ms/step - loss: 0.4810 - acc: 0.8201 - val_loss: 0.4268 - val_acc: 0.8384\n",
      "Epoch 8/30\n",
      "972/972 [==============================] - 742s 764ms/step - loss: 0.4341 - acc: 0.8325 - val_loss: 0.4655 - val_acc: 0.8322\n",
      "Epoch 9/30\n",
      "972/972 [==============================] - 670s 689ms/step - loss: 0.4258 - acc: 0.8348 - val_loss: 0.4425 - val_acc: 0.8395\n",
      "Epoch 10/30\n",
      "170/972 [====>.........................] - ETA: 7:05 - loss: 0.4214 - acc: 0.8327"
     ]
    },
    {
     "name": "stderr",
     "output_type": "stream",
     "text": [
      "Error: command buffer exited with error status.\n",
      "\tThe Metal Performance Shaders operations encoded on it may not have completed.\n",
      "\tError: \n",
      "\t(null)\n",
      "\tCaused GPU Hang Error (00000003:kIOGPUCommandBufferCallbackErrorHang)\n",
      "\t<AGXG13XFamilyCommandBuffer: 0x2974610e0>\n",
      "    label = <none> \n",
      "    device = <AGXG13XDevice: 0x123c80600>\n",
      "        name = Apple M1 Max \n",
      "    commandQueue = <AGXG13XFamilyCommandQueue: 0x17b1e9600>\n",
      "        label = <none> \n",
      "        device = <AGXG13XDevice: 0x123c80600>\n",
      "            name = Apple M1 Max \n",
      "    retainedReferences = 1\n"
     ]
    },
    {
     "name": "stdout",
     "output_type": "stream",
     "text": [
      "972/972 [==============================] - 746s 767ms/step - loss: 0.4915 - acc: 0.8181 - val_loss: 0.4438 - val_acc: 0.8321\n",
      "Epoch 11/30\n",
      "972/972 [==============================] - 743s 764ms/step - loss: 0.4125 - acc: 0.8372 - val_loss: 0.4447 - val_acc: 0.8322\n",
      "Epoch 12/30\n",
      "972/972 [==============================] - 742s 764ms/step - loss: 0.3937 - acc: 0.8438 - val_loss: 0.4103 - val_acc: 0.8477\n",
      "Epoch 13/30\n",
      "972/972 [==============================] - 779s 802ms/step - loss: 0.3965 - acc: 0.8432 - val_loss: 0.4205 - val_acc: 0.8333\n",
      "Epoch 14/30\n",
      " 32/972 [..............................] - ETA: 26:09 - loss: 0.3230 - acc: 0.8398"
     ]
    },
    {
     "name": "stderr",
     "output_type": "stream",
     "text": [
      "Error: command buffer exited with error status.\n",
      "\tThe Metal Performance Shaders operations encoded on it may not have completed.\n",
      "\tError: \n",
      "\t(null)\n",
      "\tCaused GPU Hang Error (00000003:kIOGPUCommandBufferCallbackErrorHang)\n",
      "\t<AGXG13XFamilyCommandBuffer: 0x17f135a20>\n",
      "    label = <none> \n",
      "    device = <AGXG13XDevice: 0x123c80600>\n",
      "        name = Apple M1 Max \n",
      "    commandQueue = <AGXG13XFamilyCommandQueue: 0x17b1e9600>\n",
      "        label = <none> \n",
      "        device = <AGXG13XDevice: 0x123c80600>\n",
      "            name = Apple M1 Max \n",
      "    retainedReferences = 1\n"
     ]
    },
    {
     "name": "stdout",
     "output_type": "stream",
     "text": [
      "972/972 [==============================] - 1181s 1s/step - loss: 0.5159 - acc: 0.8138 - val_loss: 0.4424 - val_acc: 0.8342\n",
      "Epoch 15/30\n",
      "972/972 [==============================] - 1204s 1s/step - loss: 0.3945 - acc: 0.8439 - val_loss: 0.4309 - val_acc: 0.8400\n",
      "Epoch 16/30\n",
      " 78/972 [=>............................] - ETA: 20:25 - loss: 0.3631 - acc: 0.8406"
     ]
    },
    {
     "name": "stderr",
     "output_type": "stream",
     "text": [
      "Error: command buffer exited with error status.\n",
      "\tThe Metal Performance Shaders operations encoded on it may not have completed.\n",
      "\tError: \n",
      "\t(null)\n",
      "\tCaused GPU Hang Error (00000003:kIOGPUCommandBufferCallbackErrorHang)\n",
      "\t<AGXG13XFamilyCommandBuffer: 0x2971b3b40>\n",
      "    label = <none> \n",
      "    device = <AGXG13XDevice: 0x123c80600>\n",
      "        name = Apple M1 Max \n",
      "    commandQueue = <AGXG13XFamilyCommandQueue: 0x17b1e9600>\n",
      "        label = <none> \n",
      "        device = <AGXG13XDevice: 0x123c80600>\n",
      "            name = Apple M1 Max \n",
      "    retainedReferences = 1\n"
     ]
    },
    {
     "name": "stdout",
     "output_type": "stream",
     "text": [
      "972/972 [==============================] - 868s 891ms/step - loss: 0.5219 - acc: 0.8115 - val_loss: 0.4586 - val_acc: 0.8283\n",
      "Epoch 17/30\n",
      "972/972 [==============================] - 471s 485ms/step - loss: 0.4006 - acc: 0.8418 - val_loss: 0.4394 - val_acc: 0.8325\n",
      "Epoch 18/30\n",
      "972/972 [==============================] - 472s 485ms/step - loss: 0.3888 - acc: 0.8465 - val_loss: 0.4158 - val_acc: 0.8367\n",
      "Epoch 19/30\n",
      "972/972 [==============================] - 472s 485ms/step - loss: 0.3789 - acc: 0.8490 - val_loss: 0.4215 - val_acc: 0.8335\n",
      "Epoch 20/30\n",
      "972/972 [==============================] - 472s 485ms/step - loss: 0.3742 - acc: 0.8532 - val_loss: 0.3999 - val_acc: 0.8428\n",
      "Epoch 21/30\n",
      "972/972 [==============================] - 472s 485ms/step - loss: 0.3746 - acc: 0.8498 - val_loss: 0.4428 - val_acc: 0.8393\n",
      "Epoch 22/30\n",
      "972/972 [==============================] - 608s 625ms/step - loss: 0.3718 - acc: 0.8496 - val_loss: 0.3985 - val_acc: 0.8427\n",
      "Epoch 23/30\n",
      "972/972 [==============================] - 796s 819ms/step - loss: 0.3671 - acc: 0.8548 - val_loss: 0.4191 - val_acc: 0.8431\n",
      "Epoch 24/30\n",
      "972/972 [==============================] - 1020s 1s/step - loss: 0.3686 - acc: 0.8538 - val_loss: 0.4130 - val_acc: 0.8363\n",
      "Epoch 25/30\n",
      "972/972 [==============================] - 978s 1s/step - loss: 0.3609 - acc: 0.8549 - val_loss: 0.4280 - val_acc: 0.8433\n",
      "Epoch 26/30\n",
      "972/972 [==============================] - 950s 977ms/step - loss: 0.3638 - acc: 0.8557 - val_loss: 0.3880 - val_acc: 0.8493\n",
      "Epoch 27/30\n",
      "972/972 [==============================] - 1070s 1s/step - loss: 0.3535 - acc: 0.8569 - val_loss: 0.4509 - val_acc: 0.8459\n",
      "Epoch 28/30\n",
      "972/972 [==============================] - 1035s 1s/step - loss: 0.3463 - acc: 0.8578 - val_loss: 0.4377 - val_acc: 0.8362\n",
      "Epoch 29/30\n",
      "972/972 [==============================] - ETA: 0s - loss: 0.3547 - acc: 0.8585"
     ]
    },
    {
     "name": "stderr",
     "output_type": "stream",
     "text": [
      "Error: command buffer exited with error status.\n",
      "\tThe Metal Performance Shaders operations encoded on it may not have completed.\n",
      "\tError: \n",
      "\t(null)\n",
      "\tCaused GPU Hang Error (00000003:kIOGPUCommandBufferCallbackErrorHang)\n",
      "\t<AGXG13XFamilyCommandBuffer: 0x288dbb510>\n",
      "    label = <none> \n",
      "    device = <AGXG13XDevice: 0x123c80600>\n",
      "        name = Apple M1 Max \n",
      "    commandQueue = <AGXG13XFamilyCommandQueue: 0x17b1e9600>\n",
      "        label = <none> \n",
      "        device = <AGXG13XDevice: 0x123c80600>\n",
      "            name = Apple M1 Max \n",
      "    retainedReferences = 1\n"
     ]
    },
    {
     "name": "stdout",
     "output_type": "stream",
     "text": [
      "972/972 [==============================] - 985s 1s/step - loss: 0.3547 - acc: 0.8585 - val_loss: 0.4311 - val_acc: 0.8405\n",
      "Epoch 30/30\n",
      "146/972 [===>..........................] - ETA: 10:45 - loss: 0.3336 - acc: 0.8639"
     ]
    },
    {
     "name": "stderr",
     "output_type": "stream",
     "text": [
      "Error: command buffer exited with error status.\n",
      "\tThe Metal Performance Shaders operations encoded on it may not have completed.\n",
      "\tError: \n",
      "\t(null)\n",
      "\tCaused GPU Hang Error (00000003:kIOGPUCommandBufferCallbackErrorHang)\n",
      "\t<AGXG13XFamilyCommandBuffer: 0x17f7a3870>\n",
      "    label = <none> \n",
      "    device = <AGXG13XDevice: 0x123c80600>\n",
      "        name = Apple M1 Max \n",
      "    commandQueue = <AGXG13XFamilyCommandQueue: 0x17b1e9600>\n",
      "        label = <none> \n",
      "        device = <AGXG13XDevice: 0x123c80600>\n",
      "            name = Apple M1 Max \n",
      "    retainedReferences = 1\n"
     ]
    },
    {
     "name": "stdout",
     "output_type": "stream",
     "text": [
      "972/972 [==============================] - ETA: 0s - loss: 0.4700 - acc: 0.8276"
     ]
    },
    {
     "name": "stderr",
     "output_type": "stream",
     "text": [
      "Error: command buffer exited with error status.\n",
      "\tThe Metal Performance Shaders operations encoded on it may not have completed.\n",
      "\tError: \n",
      "\t(null)\n",
      "\tCaused GPU Hang Error (00000003:kIOGPUCommandBufferCallbackErrorHang)\n",
      "\t<AGXG13XFamilyCommandBuffer: 0x29765afe0>\n",
      "    label = <none> \n",
      "    device = <AGXG13XDevice: 0x123c80600>\n",
      "        name = Apple M1 Max \n",
      "    commandQueue = <AGXG13XFamilyCommandQueue: 0x17b1e9600>\n",
      "        label = <none> \n",
      "        device = <AGXG13XDevice: 0x123c80600>\n",
      "            name = Apple M1 Max \n",
      "    retainedReferences = 1\n"
     ]
    },
    {
     "name": "stdout",
     "output_type": "stream",
     "text": [
      "972/972 [==============================] - 1124s 1s/step - loss: 0.4700 - acc: 0.8276 - val_loss: 0.4464 - val_acc: 0.8324\n"
     ]
    }
   ],
   "source": [
    "history = model.fit(train_generator,\n",
    "                    steps_per_epoch=nb_train_samples // batch_size,\n",
    "                    epochs=epochs,\n",
    "                    validation_data=validation_generator,\n",
    "                    validation_steps=nb_validation_samples // batch_size)"
   ]
  },
  {
   "cell_type": "code",
   "execution_count": 11,
   "metadata": {},
   "outputs": [],
   "source": [
    "model.save_weights('../models/candlestick_classification_CNN.h5')"
   ]
  },
  {
   "cell_type": "code",
   "execution_count": 12,
   "metadata": {},
   "outputs": [
    {
     "data": {
      "image/png": "[encoded data removed]",
      "text/plain": [
       "<Figure size 432x288 with 1 Axes>"
      ]
     },
     "metadata": {
      "needs_background": "light"
     },
     "output_type": "display_data"
    }
   ],
   "source": [
    "# summarize history for accuracy\n",
    "plt.plot(history.history['acc'])\n",
    "plt.plot(history.history['val_acc'])\n",
    "plt.title('model accuracy')\n",
    "plt.ylabel('accuracy')\n",
    "plt.xlabel('epoch')\n",
    "plt.legend(['train', 'test'], loc='upper left')\n",
    "plt.show()"
   ]
  },
  {
   "cell_type": "code",
   "execution_count": 13,
   "metadata": {},
   "outputs": [
    {
     "data": {
      "image/png": "[encoded data removed]",
      "text/plain": [
       "<Figure size 432x288 with 1 Axes>"
      ]
     },
     "metadata": {
      "needs_background": "light"
     },
     "output_type": "display_data"
    }
   ],
   "source": [
    "# summarize history for loss\n",
    "plt.plot(history.history['loss'])\n",
    "plt.plot(history.history['val_loss'])\n",
    "plt.title('model loss')\n",
    "plt.ylabel('loss')\n",
    "plt.xlabel('epoch')\n",
    "plt.legend(['train', 'test'], loc='upper left')\n",
    "plt.show()"
   ]
  },
  {
   "cell_type": "code",
   "execution_count": null,
   "metadata": {},
   "outputs": [],
   "source": []
  }
 ],
 "metadata": {
  "kernelspec": {
   "display_name": "Python 3.8.13 ('msc_uol_ai_dissertation')",
   "language": "python",
   "name": "python3"
  },
  "language_info": {
   "codemirror_mode": {
    "name": "ipython",
    "version": 3
   },
   "file_extension": ".py",
   "mimetype": "text/x-python",
   "name": "python",
   "nbconvert_exporter": "python",
   "pygments_lexer": "ipython3",
   "version": "3.8.13"
  },
  "orig_nbformat": 4,
  "vscode": {
   "interpreter": {
    "hash": "0c0f2ae3d5d9aa27c4a2afc20f28a2482dc1006477ab22953abc78c31c7bb5b2"
   }
  }
 },
 "nbformat": 4,
 "nbformat_minor": 2
}
