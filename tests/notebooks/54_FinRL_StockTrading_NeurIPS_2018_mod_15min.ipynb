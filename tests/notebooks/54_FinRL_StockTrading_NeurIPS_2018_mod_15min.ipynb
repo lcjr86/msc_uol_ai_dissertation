{
 "cells": [
  {
   "cell_type": "markdown",
   "metadata": {
    "colab_type": "text",
    "id": "view-in-github"
   },
   "source": [
    "<a href=\"https://colab.research.google.com/github/AI4Finance-Foundation/FinRL/blob/master/FinRL_StockTrading_NeurIPS_2018.ipynb\" target=\"_parent\"><img src=\"https://colab.research.google.com/assets/colab-badge.svg\" alt=\"Open In Colab\"/></a>"
   ]
  },
  {
   "cell_type": "markdown",
   "metadata": {
    "id": "gXaoZs2lh1hi"
   },
   "source": [
    "# Deep Reinforcement Learning for Stock Trading from Scratch: Multiple Stock Trading\n",
    "\n",
    "* **Pytorch Version** \n",
    "\n"
   ]
  },
  {
   "cell_type": "markdown",
   "metadata": {
    "id": "sApkDlD9LIZv"
   },
   "source": [
    "<a id='0'></a>\n",
    "# Part 1. Problem Definition"
   ]
  },
  {
   "cell_type": "markdown",
   "metadata": {
    "id": "HjLD2TZSLKZ-"
   },
   "source": [
    "This problem is to design an automated trading solution for single stock trading. We model the stock trading process as a Markov Decision Process (MDP). We then formulate our trading goal as a maximization problem.\n",
    "\n",
    "The algorithm is trained using Deep Reinforcement Learning (DRL) algorithms and the components of the reinforcement learning environment are:\n",
    "\n",
    "\n",
    "* Action: The action space describes the allowed actions that the agent interacts with the\n",
    "environment. Normally, a ∈ A includes three actions: a ∈ {−1, 0, 1}, where −1, 0, 1 represent\n",
    "selling, holding, and buying one stock. Also, an action can be carried upon multiple shares. We use\n",
    "an action space {−k, ..., −1, 0, 1, ..., k}, where k denotes the number of shares. For example, \"Buy\n",
    "10 shares of AAPL\" or \"Sell 10 shares of AAPL\" are 10 or −10, respectively\n",
    "\n",
    "* Reward function: r(s, a, s′) is the incentive mechanism for an agent to learn a better action. The change of the portfolio value when action a is taken at state s and arriving at new state s',  i.e., r(s, a, s′) = v′ − v, where v′ and v represent the portfolio\n",
    "values at state s′ and s, respectively\n",
    "\n",
    "* State: The state space describes the observations that the agent receives from the environment. Just as a human trader needs to analyze various information before executing a trade, so\n",
    "our trading agent observes many different features to better learn in an interactive environment.\n",
    "\n",
    "* Environment: Dow 30 consituents\n",
    "\n",
    "\n",
    "The data of the single stock that we will be using for this case study is obtained from Yahoo Finance API. The data contains Open-High-Low-Close price and volume.\n"
   ]
  },
  {
   "cell_type": "markdown",
   "metadata": {
    "id": "Ffsre789LY08"
   },
   "source": [
    "<a id='1'></a>\n",
    "# Part 2. Getting Started- Load Python Packages"
   ]
  },
  {
   "cell_type": "markdown",
   "metadata": {
    "id": "osBHhVysOEzi"
   },
   "source": [
    "\n",
    "<a id='1.2'></a>\n",
    "## 2.2. Check if the additional packages needed are present, if not install them. \n",
    "* Yahoo Finance API\n",
    "* pandas\n",
    "* numpy\n",
    "* matplotlib\n",
    "* stockstats\n",
    "* OpenAI gym\n",
    "* stable-baselines\n",
    "* tensorflow\n",
    "* pyfolio"
   ]
  },
  {
   "cell_type": "markdown",
   "metadata": {
    "id": "nGv01K8Sh1hn"
   },
   "source": [
    "<a id='1.3'></a>\n",
    "## 2.3. Import Packages"
   ]
  },
  {
   "cell_type": "code",
   "execution_count": 1,
   "metadata": {
    "colab": {
     "base_uri": "https://localhost:8080/"
    },
    "id": "lPqeTTwoh1hn",
    "outputId": "10b08480-3a0c-4826-8e51-f94ce97ab84a"
   },
   "outputs": [
    {
     "name": "stderr",
     "output_type": "stream",
     "text": [
      "/opt/homebrew/Caskroom/miniforge/base/envs/msc_uol_ai_dissertation/lib/python3.8/site-packages/tqdm/auto.py:22: TqdmWarning: IProgress not found. Please update jupyter and ipywidgets. See https://ipywidgets.readthedocs.io/en/stable/user_install.html\n",
      "  from .autonotebook import tqdm as notebook_tqdm\n",
      "/opt/homebrew/Caskroom/miniforge/base/envs/msc_uol_ai_dissertation/lib/python3.8/site-packages/pyfolio/pos.py:26: UserWarning: Module \"zipline.assets\" not found; multipliers will not be applied to position notionals.\n",
      "  warnings.warn(\n"
     ]
    }
   ],
   "source": [
    "import pandas as pd\n",
    "import numpy as np\n",
    "import matplotlib\n",
    "import matplotlib.pyplot as plt\n",
    "# matplotlib.use('Agg')\n",
    "import datetime\n",
    "\n",
    "%matplotlib inline\n",
    "from finrl.finrl_meta.preprocessor.yahoodownloader import YahooDownloader\n",
    "from finrl.finrl_meta.preprocessor.preprocessors import FeatureEngineer, data_split\n",
    "from finrl.finrl_meta.env_stock_trading.env_stocktrading import StockTradingEnv\n",
    "from finrl.agents.stablebaselines3.models import DRLAgent\n",
    "from finrl.finrl_meta.data_processor import DataProcessor\n",
    "\n",
    "from finrl.plot import backtest_stats, backtest_plot, backtest_plot_mod, get_daily_return, get_baseline\n",
    "from pprint import pprint\n",
    "\n",
    "import sys\n",
    "#sys.path.append(\"../FinRL-Library\")\n",
    "\n",
    "import itertools\n",
    "import os\n",
    "\n",
    "import pickle"
   ]
  },
  {
   "cell_type": "code",
   "execution_count": 2,
   "metadata": {},
   "outputs": [],
   "source": [
    "%matplotlib inline"
   ]
  },
  {
   "cell_type": "markdown",
   "metadata": {
    "id": "A289rQWMh1hq"
   },
   "source": [
    "<a id='2'></a>\n",
    "# Part 3. Get Data\n"
   ]
  },
  {
   "cell_type": "code",
   "execution_count": 3,
   "metadata": {},
   "outputs": [],
   "source": [
    "input_data_path = '../data'\n",
    "input_data_filename = 'binance_BTCUSDT_15m_from_2020_01_01_to_2021_12_31_candlesticks_signals_processed_technical_indicators_and_crypto_index_v2'\n",
    "input_data_extension = \".csv\"\n",
    "full_path_input_data = os.path.join(input_data_path, input_data_filename + input_data_extension)"
   ]
  },
  {
   "cell_type": "code",
   "execution_count": 4,
   "metadata": {},
   "outputs": [],
   "source": [
    "df = pd.read_csv(full_path_input_data)"
   ]
  },
  {
   "cell_type": "code",
   "execution_count": 5,
   "metadata": {
    "colab": {
     "base_uri": "https://localhost:8080/"
    },
    "id": "CV3HrZHLh1hy",
    "outputId": "5267773c-399c-4ec9-d4d5-13ab1e4cced0"
   },
   "outputs": [
    {
     "data": {
      "text/plain": [
       "(69805, 92)"
      ]
     },
     "execution_count": 5,
     "metadata": {},
     "output_type": "execute_result"
    }
   ],
   "source": [
    "df.shape"
   ]
  },
  {
   "cell_type": "code",
   "execution_count": 6,
   "metadata": {},
   "outputs": [
    {
     "data": {
      "text/html": [
       "<div>\n",
       "<style scoped>\n",
       "    .dataframe tbody tr th:only-of-type {\n",
       "        vertical-align: middle;\n",
       "    }\n",
       "\n",
       "    .dataframe tbody tr th {\n",
       "        vertical-align: top;\n",
       "    }\n",
       "\n",
       "    .dataframe thead th {\n",
       "        text-align: right;\n",
       "    }\n",
       "</style>\n",
       "<table border=\"1\" class=\"dataframe\">\n",
       "  <thead>\n",
       "    <tr style=\"text-align: right;\">\n",
       "      <th></th>\n",
       "      <th>time</th>\n",
       "      <th>open_time</th>\n",
       "      <th>open</th>\n",
       "      <th>high</th>\n",
       "      <th>low</th>\n",
       "      <th>close</th>\n",
       "      <th>volume</th>\n",
       "      <th>close_time</th>\n",
       "      <th>quote_asset_volumne</th>\n",
       "      <th>number_of_trades</th>\n",
       "      <th>...</th>\n",
       "      <th>AD</th>\n",
       "      <th>ATR</th>\n",
       "      <th>HT_DC</th>\n",
       "      <th>SAR</th>\n",
       "      <th>ratio_high_open</th>\n",
       "      <th>ratio_low_open</th>\n",
       "      <th>ratio_close_open</th>\n",
       "      <th>time_to_chart_return</th>\n",
       "      <th>crypto_index</th>\n",
       "      <th>datetime</th>\n",
       "    </tr>\n",
       "  </thead>\n",
       "  <tbody>\n",
       "    <tr>\n",
       "      <th>0</th>\n",
       "      <td>2020-01-02 07:00:00</td>\n",
       "      <td>1577944800000</td>\n",
       "      <td>7138.93</td>\n",
       "      <td>7144.98</td>\n",
       "      <td>7135.00</td>\n",
       "      <td>7138.90</td>\n",
       "      <td>154.330095</td>\n",
       "      <td>1577945699999</td>\n",
       "      <td>1.101881e+06</td>\n",
       "      <td>1732</td>\n",
       "      <td>...</td>\n",
       "      <td>-171.772047</td>\n",
       "      <td>16.210334</td>\n",
       "      <td>25.653704</td>\n",
       "      <td>7148.920000</td>\n",
       "      <td>1.000847</td>\n",
       "      <td>0.999449</td>\n",
       "      <td>0.999996</td>\n",
       "      <td>-0.000004</td>\n",
       "      <td>999.995798</td>\n",
       "      <td>2020-01-02 07:00:00</td>\n",
       "    </tr>\n",
       "    <tr>\n",
       "      <th>1</th>\n",
       "      <td>2020-01-02 07:15:00</td>\n",
       "      <td>1577945700000</td>\n",
       "      <td>7138.90</td>\n",
       "      <td>7149.00</td>\n",
       "      <td>7138.50</td>\n",
       "      <td>7146.58</td>\n",
       "      <td>178.369024</td>\n",
       "      <td>1577946599999</td>\n",
       "      <td>1.274135e+06</td>\n",
       "      <td>1738</td>\n",
       "      <td>...</td>\n",
       "      <td>-75.622649</td>\n",
       "      <td>15.802453</td>\n",
       "      <td>27.065789</td>\n",
       "      <td>7116.700000</td>\n",
       "      <td>1.001415</td>\n",
       "      <td>0.999944</td>\n",
       "      <td>1.001076</td>\n",
       "      <td>0.001076</td>\n",
       "      <td>1001.071589</td>\n",
       "      <td>2020-01-02 07:15:00</td>\n",
       "    </tr>\n",
       "    <tr>\n",
       "      <th>2</th>\n",
       "      <td>2020-01-02 07:30:00</td>\n",
       "      <td>1577946600000</td>\n",
       "      <td>7145.96</td>\n",
       "      <td>7149.02</td>\n",
       "      <td>7136.41</td>\n",
       "      <td>7136.81</td>\n",
       "      <td>142.773244</td>\n",
       "      <td>1577947499999</td>\n",
       "      <td>1.019787e+06</td>\n",
       "      <td>1650</td>\n",
       "      <td>...</td>\n",
       "      <td>-209.338114</td>\n",
       "      <td>15.574421</td>\n",
       "      <td>27.707202</td>\n",
       "      <td>7117.346000</td>\n",
       "      <td>1.000428</td>\n",
       "      <td>0.998664</td>\n",
       "      <td>0.998720</td>\n",
       "      <td>-0.001367</td>\n",
       "      <td>999.703037</td>\n",
       "      <td>2020-01-02 07:30:00</td>\n",
       "    </tr>\n",
       "    <tr>\n",
       "      <th>3</th>\n",
       "      <td>2020-01-02 07:45:00</td>\n",
       "      <td>1577947500000</td>\n",
       "      <td>7136.42</td>\n",
       "      <td>7139.14</td>\n",
       "      <td>7121.43</td>\n",
       "      <td>7135.97</td>\n",
       "      <td>212.128302</td>\n",
       "      <td>1577948399999</td>\n",
       "      <td>1.512872e+06</td>\n",
       "      <td>2549</td>\n",
       "      <td>...</td>\n",
       "      <td>-73.149588</td>\n",
       "      <td>15.726962</td>\n",
       "      <td>27.658012</td>\n",
       "      <td>7118.612960</td>\n",
       "      <td>1.000381</td>\n",
       "      <td>0.997900</td>\n",
       "      <td>0.999937</td>\n",
       "      <td>-0.000118</td>\n",
       "      <td>999.585372</td>\n",
       "      <td>2020-01-02 07:45:00</td>\n",
       "    </tr>\n",
       "    <tr>\n",
       "      <th>4</th>\n",
       "      <td>2020-01-02 08:00:00</td>\n",
       "      <td>1577948400000</td>\n",
       "      <td>7136.04</td>\n",
       "      <td>7140.63</td>\n",
       "      <td>7121.01</td>\n",
       "      <td>7125.26</td>\n",
       "      <td>243.045551</td>\n",
       "      <td>1577949299999</td>\n",
       "      <td>1.732451e+06</td>\n",
       "      <td>2848</td>\n",
       "      <td>...</td>\n",
       "      <td>-210.900175</td>\n",
       "      <td>16.005036</td>\n",
       "      <td>27.255142</td>\n",
       "      <td>7119.829242</td>\n",
       "      <td>1.000643</td>\n",
       "      <td>0.997894</td>\n",
       "      <td>0.998489</td>\n",
       "      <td>-0.001501</td>\n",
       "      <td>998.085147</td>\n",
       "      <td>2020-01-02 08:00:00</td>\n",
       "    </tr>\n",
       "  </tbody>\n",
       "</table>\n",
       "<p>5 rows × 92 columns</p>\n",
       "</div>"
      ],
      "text/plain": [
       "                  time      open_time     open     high      low    close  \\\n",
       "0  2020-01-02 07:00:00  1577944800000  7138.93  7144.98  7135.00  7138.90   \n",
       "1  2020-01-02 07:15:00  1577945700000  7138.90  7149.00  7138.50  7146.58   \n",
       "2  2020-01-02 07:30:00  1577946600000  7145.96  7149.02  7136.41  7136.81   \n",
       "3  2020-01-02 07:45:00  1577947500000  7136.42  7139.14  7121.43  7135.97   \n",
       "4  2020-01-02 08:00:00  1577948400000  7136.04  7140.63  7121.01  7125.26   \n",
       "\n",
       "       volume     close_time  quote_asset_volumne  number_of_trades  ...  \\\n",
       "0  154.330095  1577945699999         1.101881e+06              1732  ...   \n",
       "1  178.369024  1577946599999         1.274135e+06              1738  ...   \n",
       "2  142.773244  1577947499999         1.019787e+06              1650  ...   \n",
       "3  212.128302  1577948399999         1.512872e+06              2549  ...   \n",
       "4  243.045551  1577949299999         1.732451e+06              2848  ...   \n",
       "\n",
       "           AD        ATR      HT_DC          SAR ratio_high_open  \\\n",
       "0 -171.772047  16.210334  25.653704  7148.920000        1.000847   \n",
       "1  -75.622649  15.802453  27.065789  7116.700000        1.001415   \n",
       "2 -209.338114  15.574421  27.707202  7117.346000        1.000428   \n",
       "3  -73.149588  15.726962  27.658012  7118.612960        1.000381   \n",
       "4 -210.900175  16.005036  27.255142  7119.829242        1.000643   \n",
       "\n",
       "   ratio_low_open  ratio_close_open  time_to_chart_return  crypto_index  \\\n",
       "0        0.999449          0.999996             -0.000004    999.995798   \n",
       "1        0.999944          1.001076              0.001076   1001.071589   \n",
       "2        0.998664          0.998720             -0.001367    999.703037   \n",
       "3        0.997900          0.999937             -0.000118    999.585372   \n",
       "4        0.997894          0.998489             -0.001501    998.085147   \n",
       "\n",
       "              datetime  \n",
       "0  2020-01-02 07:00:00  \n",
       "1  2020-01-02 07:15:00  \n",
       "2  2020-01-02 07:30:00  \n",
       "3  2020-01-02 07:45:00  \n",
       "4  2020-01-02 08:00:00  \n",
       "\n",
       "[5 rows x 92 columns]"
      ]
     },
     "execution_count": 6,
     "metadata": {},
     "output_type": "execute_result"
    }
   ],
   "source": [
    "df.head()"
   ]
  },
  {
   "cell_type": "code",
   "execution_count": 7,
   "metadata": {},
   "outputs": [
    {
     "name": "stdout",
     "output_type": "stream",
     "text": [
      "<class 'pandas.core.frame.DataFrame'>\n",
      "RangeIndex: 69805 entries, 0 to 69804\n",
      "Data columns (total 92 columns):\n",
      " #   Column                        Non-Null Count  Dtype  \n",
      "---  ------                        --------------  -----  \n",
      " 0   time                          69805 non-null  object \n",
      " 1   open_time                     69805 non-null  int64  \n",
      " 2   open                          69805 non-null  float64\n",
      " 3   high                          69805 non-null  float64\n",
      " 4   low                           69805 non-null  float64\n",
      " 5   close                         69805 non-null  float64\n",
      " 6   volume                        69805 non-null  float64\n",
      " 7   close_time                    69805 non-null  int64  \n",
      " 8   quote_asset_volumne           69805 non-null  float64\n",
      " 9   number_of_trades              69805 non-null  int64  \n",
      " 10  taker_buy_base_asset_volume   69805 non-null  float64\n",
      " 11  taker_buy_quote_asset_volume  69805 non-null  float64\n",
      " 12  ignore                        69805 non-null  int64  \n",
      " 13  formatted_open_time           69805 non-null  object \n",
      " 14  formatted_close_time          69805 non-null  object \n",
      " 15  upper_shadow                  69805 non-null  float64\n",
      " 16  lower_shadow                  69805 non-null  float64\n",
      " 17  real_body                     69805 non-null  float64\n",
      " 18  CDLINVERTEDHAMMER             69805 non-null  int64  \n",
      " 19  CDLHAMMER                     69805 non-null  int64  \n",
      " 20  CDLPIERCING                   69805 non-null  int64  \n",
      " 21  CDLMORNINGSTAR                69805 non-null  int64  \n",
      " 22  CDLSHOOTINGSTAR               69805 non-null  int64  \n",
      " 23  CDLHANGINGMAN                 69805 non-null  int64  \n",
      " 24  CDLDARKCLOUDCOVER             69805 non-null  int64  \n",
      " 25  CDLEVENINGSTAR                69805 non-null  int64  \n",
      " 26  CDLENGULFING                  69805 non-null  int64  \n",
      " 27  CDLENGULFINGBULLISH           69805 non-null  int64  \n",
      " 28  CDLENGULFINGBEARISH           69805 non-null  int64  \n",
      " 29  CDLINVERTEDHAMMER_NEW         69805 non-null  int64  \n",
      " 30  CDLHAMMER_NEW                 69805 non-null  int64  \n",
      " 31  CDLPIERCING_NEW               69805 non-null  int64  \n",
      " 32  CDLMORNINGSTAR_NEW            69805 non-null  int64  \n",
      " 33  CDLENGULFINGBULLISH_NEW       69805 non-null  int64  \n",
      " 34  CDLSHOOTINGSTAR_NEW           69805 non-null  int64  \n",
      " 35  CDLHANGINGMAN_NEW             69805 non-null  int64  \n",
      " 36  CDLDARKCLOUDCOVER_NEW         69805 non-null  int64  \n",
      " 37  CDLEVENINGSTAR_NEW            69805 non-null  int64  \n",
      " 38  CDLENGULFINGBEARISH_NEW       69805 non-null  int64  \n",
      " 39  MA5                           69805 non-null  float64\n",
      " 40  MA10                          69805 non-null  float64\n",
      " 41  MA20                          69805 non-null  float64\n",
      " 42  MA60                          69805 non-null  float64\n",
      " 43  MA120                         69805 non-null  float64\n",
      " 44  volume_MA5                    69805 non-null  float64\n",
      " 45  volume_MA10                   69805 non-null  float64\n",
      " 46  volume_MA20                   69805 non-null  float64\n",
      " 47  SMA5                          69805 non-null  float64\n",
      " 48  SMA10                         69805 non-null  float64\n",
      " 49  SMA20                         69805 non-null  float64\n",
      " 50  SMA60                         69805 non-null  float64\n",
      " 51  SMA120                        69805 non-null  float64\n",
      " 52  volume_SMA5                   69805 non-null  float64\n",
      " 53  volume_SMA10                  69805 non-null  float64\n",
      " 54  volume_SMA20                  69805 non-null  float64\n",
      " 55  WMA5                          69805 non-null  float64\n",
      " 56  WMA10                         69805 non-null  float64\n",
      " 57  WMA20                         69805 non-null  float64\n",
      " 58  WMA60                         69805 non-null  float64\n",
      " 59  WMA120                        69805 non-null  float64\n",
      " 60  volume_WMA5                   69805 non-null  float64\n",
      " 61  volume_WMA10                  69805 non-null  float64\n",
      " 62  volume_WMA20                  69805 non-null  float64\n",
      " 63  EMA5                          69805 non-null  float64\n",
      " 64  EMA10                         69805 non-null  float64\n",
      " 65  EMA20                         69805 non-null  float64\n",
      " 66  EMA60                         69805 non-null  float64\n",
      " 67  EMA120                        69805 non-null  float64\n",
      " 68  volume_EMA5                   69805 non-null  float64\n",
      " 69  volume_EMA10                  69805 non-null  float64\n",
      " 70  volume_EMA20                  69805 non-null  float64\n",
      " 71  WILLR_14                      69805 non-null  float64\n",
      " 72  NATR_14                       69805 non-null  float64\n",
      " 73  PPO_12_26                     69805 non-null  float64\n",
      " 74  CCI_14                        69805 non-null  float64\n",
      " 75  ADX_14                        69805 non-null  float64\n",
      " 76  ADXR_14                       69805 non-null  float64\n",
      " 77  MACD_12_26_9                  69805 non-null  float64\n",
      " 78  RSI_14                        69805 non-null  float64\n",
      " 79  BBANDS_U                      69805 non-null  float64\n",
      " 80  BBANDS_M                      69805 non-null  float64\n",
      " 81  BBANDS_L                      69805 non-null  float64\n",
      " 82  AD                            69805 non-null  float64\n",
      " 83  ATR                           69805 non-null  float64\n",
      " 84  HT_DC                         69805 non-null  float64\n",
      " 85  SAR                           69805 non-null  float64\n",
      " 86  ratio_high_open               69805 non-null  float64\n",
      " 87  ratio_low_open                69805 non-null  float64\n",
      " 88  ratio_close_open              69805 non-null  float64\n",
      " 89  time_to_chart_return          69805 non-null  float64\n",
      " 90  crypto_index                  69805 non-null  float64\n",
      " 91  datetime                      69805 non-null  object \n",
      "dtypes: float64(63), int64(25), object(4)\n",
      "memory usage: 49.0+ MB\n"
     ]
    }
   ],
   "source": [
    "df.info()"
   ]
  },
  {
   "cell_type": "code",
   "execution_count": 8,
   "metadata": {},
   "outputs": [
    {
     "data": {
      "text/plain": [
       "Index(['time', 'open_time', 'open', 'high', 'low', 'close', 'volume',\n",
       "       'close_time', 'quote_asset_volumne', 'number_of_trades',\n",
       "       'taker_buy_base_asset_volume', 'taker_buy_quote_asset_volume', 'ignore',\n",
       "       'formatted_open_time', 'formatted_close_time', 'upper_shadow',\n",
       "       'lower_shadow', 'real_body', 'CDLINVERTEDHAMMER', 'CDLHAMMER',\n",
       "       'CDLPIERCING', 'CDLMORNINGSTAR', 'CDLSHOOTINGSTAR', 'CDLHANGINGMAN',\n",
       "       'CDLDARKCLOUDCOVER', 'CDLEVENINGSTAR', 'CDLENGULFING',\n",
       "       'CDLENGULFINGBULLISH', 'CDLENGULFINGBEARISH', 'CDLINVERTEDHAMMER_NEW',\n",
       "       'CDLHAMMER_NEW', 'CDLPIERCING_NEW', 'CDLMORNINGSTAR_NEW',\n",
       "       'CDLENGULFINGBULLISH_NEW', 'CDLSHOOTINGSTAR_NEW', 'CDLHANGINGMAN_NEW',\n",
       "       'CDLDARKCLOUDCOVER_NEW', 'CDLEVENINGSTAR_NEW',\n",
       "       'CDLENGULFINGBEARISH_NEW', 'MA5', 'MA10', 'MA20', 'MA60', 'MA120',\n",
       "       'volume_MA5', 'volume_MA10', 'volume_MA20', 'SMA5', 'SMA10', 'SMA20',\n",
       "       'SMA60', 'SMA120', 'volume_SMA5', 'volume_SMA10', 'volume_SMA20',\n",
       "       'WMA5', 'WMA10', 'WMA20', 'WMA60', 'WMA120', 'volume_WMA5',\n",
       "       'volume_WMA10', 'volume_WMA20', 'EMA5', 'EMA10', 'EMA20', 'EMA60',\n",
       "       'EMA120', 'volume_EMA5', 'volume_EMA10', 'volume_EMA20', 'WILLR_14',\n",
       "       'NATR_14', 'PPO_12_26', 'CCI_14', 'ADX_14', 'ADXR_14', 'MACD_12_26_9',\n",
       "       'RSI_14', 'BBANDS_U', 'BBANDS_M', 'BBANDS_L', 'AD', 'ATR', 'HT_DC',\n",
       "       'SAR', 'ratio_high_open', 'ratio_low_open', 'ratio_close_open',\n",
       "       'time_to_chart_return', 'crypto_index', 'datetime'],\n",
       "      dtype='object')"
      ]
     },
     "execution_count": 8,
     "metadata": {},
     "output_type": "execute_result"
    }
   ],
   "source": [
    "df.columns"
   ]
  },
  {
   "cell_type": "code",
   "execution_count": 9,
   "metadata": {},
   "outputs": [],
   "source": [
    "df.rename(columns = {'time':'date'}, inplace = True)\n",
    "# df.rename(columns = {'formatted_open_time':'date'}, inplace = True)"
   ]
  },
  {
   "cell_type": "code",
   "execution_count": 10,
   "metadata": {},
   "outputs": [
    {
     "name": "stdout",
     "output_type": "stream",
     "text": [
      "<class 'pandas.core.frame.DataFrame'>\n",
      "RangeIndex: 69805 entries, 0 to 69804\n",
      "Data columns (total 92 columns):\n",
      " #   Column                        Non-Null Count  Dtype  \n",
      "---  ------                        --------------  -----  \n",
      " 0   date                          69805 non-null  object \n",
      " 1   open_time                     69805 non-null  int64  \n",
      " 2   open                          69805 non-null  float64\n",
      " 3   high                          69805 non-null  float64\n",
      " 4   low                           69805 non-null  float64\n",
      " 5   close                         69805 non-null  float64\n",
      " 6   volume                        69805 non-null  float64\n",
      " 7   close_time                    69805 non-null  int64  \n",
      " 8   quote_asset_volumne           69805 non-null  float64\n",
      " 9   number_of_trades              69805 non-null  int64  \n",
      " 10  taker_buy_base_asset_volume   69805 non-null  float64\n",
      " 11  taker_buy_quote_asset_volume  69805 non-null  float64\n",
      " 12  ignore                        69805 non-null  int64  \n",
      " 13  formatted_open_time           69805 non-null  object \n",
      " 14  formatted_close_time          69805 non-null  object \n",
      " 15  upper_shadow                  69805 non-null  float64\n",
      " 16  lower_shadow                  69805 non-null  float64\n",
      " 17  real_body                     69805 non-null  float64\n",
      " 18  CDLINVERTEDHAMMER             69805 non-null  int64  \n",
      " 19  CDLHAMMER                     69805 non-null  int64  \n",
      " 20  CDLPIERCING                   69805 non-null  int64  \n",
      " 21  CDLMORNINGSTAR                69805 non-null  int64  \n",
      " 22  CDLSHOOTINGSTAR               69805 non-null  int64  \n",
      " 23  CDLHANGINGMAN                 69805 non-null  int64  \n",
      " 24  CDLDARKCLOUDCOVER             69805 non-null  int64  \n",
      " 25  CDLEVENINGSTAR                69805 non-null  int64  \n",
      " 26  CDLENGULFING                  69805 non-null  int64  \n",
      " 27  CDLENGULFINGBULLISH           69805 non-null  int64  \n",
      " 28  CDLENGULFINGBEARISH           69805 non-null  int64  \n",
      " 29  CDLINVERTEDHAMMER_NEW         69805 non-null  int64  \n",
      " 30  CDLHAMMER_NEW                 69805 non-null  int64  \n",
      " 31  CDLPIERCING_NEW               69805 non-null  int64  \n",
      " 32  CDLMORNINGSTAR_NEW            69805 non-null  int64  \n",
      " 33  CDLENGULFINGBULLISH_NEW       69805 non-null  int64  \n",
      " 34  CDLSHOOTINGSTAR_NEW           69805 non-null  int64  \n",
      " 35  CDLHANGINGMAN_NEW             69805 non-null  int64  \n",
      " 36  CDLDARKCLOUDCOVER_NEW         69805 non-null  int64  \n",
      " 37  CDLEVENINGSTAR_NEW            69805 non-null  int64  \n",
      " 38  CDLENGULFINGBEARISH_NEW       69805 non-null  int64  \n",
      " 39  MA5                           69805 non-null  float64\n",
      " 40  MA10                          69805 non-null  float64\n",
      " 41  MA20                          69805 non-null  float64\n",
      " 42  MA60                          69805 non-null  float64\n",
      " 43  MA120                         69805 non-null  float64\n",
      " 44  volume_MA5                    69805 non-null  float64\n",
      " 45  volume_MA10                   69805 non-null  float64\n",
      " 46  volume_MA20                   69805 non-null  float64\n",
      " 47  SMA5                          69805 non-null  float64\n",
      " 48  SMA10                         69805 non-null  float64\n",
      " 49  SMA20                         69805 non-null  float64\n",
      " 50  SMA60                         69805 non-null  float64\n",
      " 51  SMA120                        69805 non-null  float64\n",
      " 52  volume_SMA5                   69805 non-null  float64\n",
      " 53  volume_SMA10                  69805 non-null  float64\n",
      " 54  volume_SMA20                  69805 non-null  float64\n",
      " 55  WMA5                          69805 non-null  float64\n",
      " 56  WMA10                         69805 non-null  float64\n",
      " 57  WMA20                         69805 non-null  float64\n",
      " 58  WMA60                         69805 non-null  float64\n",
      " 59  WMA120                        69805 non-null  float64\n",
      " 60  volume_WMA5                   69805 non-null  float64\n",
      " 61  volume_WMA10                  69805 non-null  float64\n",
      " 62  volume_WMA20                  69805 non-null  float64\n",
      " 63  EMA5                          69805 non-null  float64\n",
      " 64  EMA10                         69805 non-null  float64\n",
      " 65  EMA20                         69805 non-null  float64\n",
      " 66  EMA60                         69805 non-null  float64\n",
      " 67  EMA120                        69805 non-null  float64\n",
      " 68  volume_EMA5                   69805 non-null  float64\n",
      " 69  volume_EMA10                  69805 non-null  float64\n",
      " 70  volume_EMA20                  69805 non-null  float64\n",
      " 71  WILLR_14                      69805 non-null  float64\n",
      " 72  NATR_14                       69805 non-null  float64\n",
      " 73  PPO_12_26                     69805 non-null  float64\n",
      " 74  CCI_14                        69805 non-null  float64\n",
      " 75  ADX_14                        69805 non-null  float64\n",
      " 76  ADXR_14                       69805 non-null  float64\n",
      " 77  MACD_12_26_9                  69805 non-null  float64\n",
      " 78  RSI_14                        69805 non-null  float64\n",
      " 79  BBANDS_U                      69805 non-null  float64\n",
      " 80  BBANDS_M                      69805 non-null  float64\n",
      " 81  BBANDS_L                      69805 non-null  float64\n",
      " 82  AD                            69805 non-null  float64\n",
      " 83  ATR                           69805 non-null  float64\n",
      " 84  HT_DC                         69805 non-null  float64\n",
      " 85  SAR                           69805 non-null  float64\n",
      " 86  ratio_high_open               69805 non-null  float64\n",
      " 87  ratio_low_open                69805 non-null  float64\n",
      " 88  ratio_close_open              69805 non-null  float64\n",
      " 89  time_to_chart_return          69805 non-null  float64\n",
      " 90  crypto_index                  69805 non-null  float64\n",
      " 91  datetime                      69805 non-null  object \n",
      "dtypes: float64(63), int64(25), object(4)\n",
      "memory usage: 49.0+ MB\n"
     ]
    }
   ],
   "source": [
    "df.info()"
   ]
  },
  {
   "cell_type": "code",
   "execution_count": 11,
   "metadata": {},
   "outputs": [],
   "source": [
    "df[\"tic\"] = 'BTCUSDT'"
   ]
  },
  {
   "cell_type": "code",
   "execution_count": 12,
   "metadata": {},
   "outputs": [],
   "source": [
    "#df[\"date\"] = pd.to_datetime(df[\"date\"], format=\"%Y-%m-%d\").dt.date"
   ]
  },
  {
   "cell_type": "code",
   "execution_count": 13,
   "metadata": {},
   "outputs": [],
   "source": [
    "df_col_selected = df[['date', 'tic', 'open', 'high', 'low', 'close', 'volume',\n",
    "        'upper_shadow', 'lower_shadow', 'real_body',\n",
    "        'MACD_12_26_9', 'BBANDS_U', 'BBANDS_M', 'BBANDS_L', 'RSI_14', 'CCI_14', 'WMA20', 'WMA60',\n",
    "        'CDLINVERTEDHAMMER_NEW', 'CDLHAMMER_NEW', 'CDLMORNINGSTAR_NEW', 'CDLENGULFINGBULLISH_NEW', \n",
    "        'CDLSHOOTINGSTAR_NEW', 'CDLHANGINGMAN_NEW', 'CDLEVENINGSTAR_NEW', 'CDLENGULFINGBEARISH_NEW']]"
   ]
  },
  {
   "cell_type": "code",
   "execution_count": 14,
   "metadata": {},
   "outputs": [
    {
     "data": {
      "text/html": [
       "<div>\n",
       "<style scoped>\n",
       "    .dataframe tbody tr th:only-of-type {\n",
       "        vertical-align: middle;\n",
       "    }\n",
       "\n",
       "    .dataframe tbody tr th {\n",
       "        vertical-align: top;\n",
       "    }\n",
       "\n",
       "    .dataframe thead th {\n",
       "        text-align: right;\n",
       "    }\n",
       "</style>\n",
       "<table border=\"1\" class=\"dataframe\">\n",
       "  <thead>\n",
       "    <tr style=\"text-align: right;\">\n",
       "      <th></th>\n",
       "      <th>date</th>\n",
       "      <th>tic</th>\n",
       "      <th>open</th>\n",
       "      <th>high</th>\n",
       "      <th>low</th>\n",
       "      <th>close</th>\n",
       "      <th>volume</th>\n",
       "      <th>upper_shadow</th>\n",
       "      <th>lower_shadow</th>\n",
       "      <th>real_body</th>\n",
       "      <th>...</th>\n",
       "      <th>WMA20</th>\n",
       "      <th>WMA60</th>\n",
       "      <th>CDLINVERTEDHAMMER_NEW</th>\n",
       "      <th>CDLHAMMER_NEW</th>\n",
       "      <th>CDLMORNINGSTAR_NEW</th>\n",
       "      <th>CDLENGULFINGBULLISH_NEW</th>\n",
       "      <th>CDLSHOOTINGSTAR_NEW</th>\n",
       "      <th>CDLHANGINGMAN_NEW</th>\n",
       "      <th>CDLEVENINGSTAR_NEW</th>\n",
       "      <th>CDLENGULFINGBEARISH_NEW</th>\n",
       "    </tr>\n",
       "  </thead>\n",
       "  <tbody>\n",
       "    <tr>\n",
       "      <th>0</th>\n",
       "      <td>2020-01-02 07:00:00</td>\n",
       "      <td>BTCUSDT</td>\n",
       "      <td>7138.93</td>\n",
       "      <td>7144.98</td>\n",
       "      <td>7135.00</td>\n",
       "      <td>7138.90</td>\n",
       "      <td>154.330095</td>\n",
       "      <td>6.05</td>\n",
       "      <td>3.90</td>\n",
       "      <td>0.03</td>\n",
       "      <td>...</td>\n",
       "      <td>7147.086143</td>\n",
       "      <td>7182.061661</td>\n",
       "      <td>0</td>\n",
       "      <td>0</td>\n",
       "      <td>0</td>\n",
       "      <td>0</td>\n",
       "      <td>0</td>\n",
       "      <td>0</td>\n",
       "      <td>0</td>\n",
       "      <td>0</td>\n",
       "    </tr>\n",
       "    <tr>\n",
       "      <th>1</th>\n",
       "      <td>2020-01-02 07:15:00</td>\n",
       "      <td>BTCUSDT</td>\n",
       "      <td>7138.90</td>\n",
       "      <td>7149.00</td>\n",
       "      <td>7138.50</td>\n",
       "      <td>7146.58</td>\n",
       "      <td>178.369024</td>\n",
       "      <td>2.42</td>\n",
       "      <td>0.40</td>\n",
       "      <td>7.68</td>\n",
       "      <td>...</td>\n",
       "      <td>7146.188286</td>\n",
       "      <td>7180.275464</td>\n",
       "      <td>0</td>\n",
       "      <td>0</td>\n",
       "      <td>0</td>\n",
       "      <td>0</td>\n",
       "      <td>0</td>\n",
       "      <td>0</td>\n",
       "      <td>0</td>\n",
       "      <td>0</td>\n",
       "    </tr>\n",
       "    <tr>\n",
       "      <th>2</th>\n",
       "      <td>2020-01-02 07:30:00</td>\n",
       "      <td>BTCUSDT</td>\n",
       "      <td>7145.96</td>\n",
       "      <td>7149.02</td>\n",
       "      <td>7136.41</td>\n",
       "      <td>7136.81</td>\n",
       "      <td>142.773244</td>\n",
       "      <td>3.06</td>\n",
       "      <td>0.40</td>\n",
       "      <td>9.15</td>\n",
       "      <td>...</td>\n",
       "      <td>7144.567571</td>\n",
       "      <td>7178.213503</td>\n",
       "      <td>0</td>\n",
       "      <td>0</td>\n",
       "      <td>0</td>\n",
       "      <td>0</td>\n",
       "      <td>0</td>\n",
       "      <td>0</td>\n",
       "      <td>0</td>\n",
       "      <td>0</td>\n",
       "    </tr>\n",
       "    <tr>\n",
       "      <th>3</th>\n",
       "      <td>2020-01-02 07:45:00</td>\n",
       "      <td>BTCUSDT</td>\n",
       "      <td>7136.42</td>\n",
       "      <td>7139.14</td>\n",
       "      <td>7121.43</td>\n",
       "      <td>7135.97</td>\n",
       "      <td>212.128302</td>\n",
       "      <td>2.72</td>\n",
       "      <td>14.54</td>\n",
       "      <td>0.45</td>\n",
       "      <td>...</td>\n",
       "      <td>7143.119000</td>\n",
       "      <td>7176.178202</td>\n",
       "      <td>0</td>\n",
       "      <td>0</td>\n",
       "      <td>0</td>\n",
       "      <td>0</td>\n",
       "      <td>0</td>\n",
       "      <td>0</td>\n",
       "      <td>0</td>\n",
       "      <td>0</td>\n",
       "    </tr>\n",
       "    <tr>\n",
       "      <th>4</th>\n",
       "      <td>2020-01-02 08:00:00</td>\n",
       "      <td>BTCUSDT</td>\n",
       "      <td>7136.04</td>\n",
       "      <td>7140.63</td>\n",
       "      <td>7121.01</td>\n",
       "      <td>7125.26</td>\n",
       "      <td>243.045551</td>\n",
       "      <td>4.59</td>\n",
       "      <td>4.25</td>\n",
       "      <td>10.78</td>\n",
       "      <td>...</td>\n",
       "      <td>7140.912429</td>\n",
       "      <td>7173.845426</td>\n",
       "      <td>0</td>\n",
       "      <td>0</td>\n",
       "      <td>0</td>\n",
       "      <td>0</td>\n",
       "      <td>0</td>\n",
       "      <td>0</td>\n",
       "      <td>0</td>\n",
       "      <td>0</td>\n",
       "    </tr>\n",
       "  </tbody>\n",
       "</table>\n",
       "<p>5 rows × 26 columns</p>\n",
       "</div>"
      ],
      "text/plain": [
       "                  date      tic     open     high      low    close  \\\n",
       "0  2020-01-02 07:00:00  BTCUSDT  7138.93  7144.98  7135.00  7138.90   \n",
       "1  2020-01-02 07:15:00  BTCUSDT  7138.90  7149.00  7138.50  7146.58   \n",
       "2  2020-01-02 07:30:00  BTCUSDT  7145.96  7149.02  7136.41  7136.81   \n",
       "3  2020-01-02 07:45:00  BTCUSDT  7136.42  7139.14  7121.43  7135.97   \n",
       "4  2020-01-02 08:00:00  BTCUSDT  7136.04  7140.63  7121.01  7125.26   \n",
       "\n",
       "       volume  upper_shadow  lower_shadow  real_body  ...        WMA20  \\\n",
       "0  154.330095          6.05          3.90       0.03  ...  7147.086143   \n",
       "1  178.369024          2.42          0.40       7.68  ...  7146.188286   \n",
       "2  142.773244          3.06          0.40       9.15  ...  7144.567571   \n",
       "3  212.128302          2.72         14.54       0.45  ...  7143.119000   \n",
       "4  243.045551          4.59          4.25      10.78  ...  7140.912429   \n",
       "\n",
       "         WMA60  CDLINVERTEDHAMMER_NEW  CDLHAMMER_NEW  CDLMORNINGSTAR_NEW  \\\n",
       "0  7182.061661                      0              0                   0   \n",
       "1  7180.275464                      0              0                   0   \n",
       "2  7178.213503                      0              0                   0   \n",
       "3  7176.178202                      0              0                   0   \n",
       "4  7173.845426                      0              0                   0   \n",
       "\n",
       "   CDLENGULFINGBULLISH_NEW  CDLSHOOTINGSTAR_NEW  CDLHANGINGMAN_NEW  \\\n",
       "0                        0                    0                  0   \n",
       "1                        0                    0                  0   \n",
       "2                        0                    0                  0   \n",
       "3                        0                    0                  0   \n",
       "4                        0                    0                  0   \n",
       "\n",
       "   CDLEVENINGSTAR_NEW  CDLENGULFINGBEARISH_NEW  \n",
       "0                   0                        0  \n",
       "1                   0                        0  \n",
       "2                   0                        0  \n",
       "3                   0                        0  \n",
       "4                   0                        0  \n",
       "\n",
       "[5 rows x 26 columns]"
      ]
     },
     "execution_count": 14,
     "metadata": {},
     "output_type": "execute_result"
    }
   ],
   "source": [
    "df_col_selected.head()"
   ]
  },
  {
   "cell_type": "code",
   "execution_count": 15,
   "metadata": {},
   "outputs": [
    {
     "data": {
      "text/html": [
       "<div>\n",
       "<style scoped>\n",
       "    .dataframe tbody tr th:only-of-type {\n",
       "        vertical-align: middle;\n",
       "    }\n",
       "\n",
       "    .dataframe tbody tr th {\n",
       "        vertical-align: top;\n",
       "    }\n",
       "\n",
       "    .dataframe thead th {\n",
       "        text-align: right;\n",
       "    }\n",
       "</style>\n",
       "<table border=\"1\" class=\"dataframe\">\n",
       "  <thead>\n",
       "    <tr style=\"text-align: right;\">\n",
       "      <th></th>\n",
       "      <th>date</th>\n",
       "      <th>tic</th>\n",
       "      <th>open</th>\n",
       "      <th>high</th>\n",
       "      <th>low</th>\n",
       "      <th>close</th>\n",
       "      <th>volume</th>\n",
       "      <th>upper_shadow</th>\n",
       "      <th>lower_shadow</th>\n",
       "      <th>real_body</th>\n",
       "      <th>...</th>\n",
       "      <th>WMA20</th>\n",
       "      <th>WMA60</th>\n",
       "      <th>CDLINVERTEDHAMMER_NEW</th>\n",
       "      <th>CDLHAMMER_NEW</th>\n",
       "      <th>CDLMORNINGSTAR_NEW</th>\n",
       "      <th>CDLENGULFINGBULLISH_NEW</th>\n",
       "      <th>CDLSHOOTINGSTAR_NEW</th>\n",
       "      <th>CDLHANGINGMAN_NEW</th>\n",
       "      <th>CDLEVENINGSTAR_NEW</th>\n",
       "      <th>CDLENGULFINGBEARISH_NEW</th>\n",
       "    </tr>\n",
       "  </thead>\n",
       "  <tbody>\n",
       "    <tr>\n",
       "      <th>69800</th>\n",
       "      <td>2021-12-31 00:00:00</td>\n",
       "      <td>BTCUSDT</td>\n",
       "      <td>47084.88</td>\n",
       "      <td>47240.0</td>\n",
       "      <td>46987.99</td>\n",
       "      <td>47110.36</td>\n",
       "      <td>235.14202</td>\n",
       "      <td>129.64</td>\n",
       "      <td>96.89</td>\n",
       "      <td>25.48</td>\n",
       "      <td>...</td>\n",
       "      <td>47288.419190</td>\n",
       "      <td>47389.988148</td>\n",
       "      <td>0</td>\n",
       "      <td>0</td>\n",
       "      <td>0</td>\n",
       "      <td>0</td>\n",
       "      <td>0</td>\n",
       "      <td>0</td>\n",
       "      <td>0</td>\n",
       "      <td>0</td>\n",
       "    </tr>\n",
       "    <tr>\n",
       "      <th>69801</th>\n",
       "      <td>2021-12-31 00:15:00</td>\n",
       "      <td>BTCUSDT</td>\n",
       "      <td>47110.36</td>\n",
       "      <td>47242.6</td>\n",
       "      <td>47040.81</td>\n",
       "      <td>47122.27</td>\n",
       "      <td>179.83497</td>\n",
       "      <td>120.33</td>\n",
       "      <td>69.55</td>\n",
       "      <td>11.91</td>\n",
       "      <td>...</td>\n",
       "      <td>47259.175618</td>\n",
       "      <td>47383.627191</td>\n",
       "      <td>0</td>\n",
       "      <td>0</td>\n",
       "      <td>0</td>\n",
       "      <td>0</td>\n",
       "      <td>0</td>\n",
       "      <td>0</td>\n",
       "      <td>0</td>\n",
       "      <td>0</td>\n",
       "    </tr>\n",
       "    <tr>\n",
       "      <th>69802</th>\n",
       "      <td>2021-12-31 00:30:00</td>\n",
       "      <td>BTCUSDT</td>\n",
       "      <td>47122.28</td>\n",
       "      <td>47160.0</td>\n",
       "      <td>46940.96</td>\n",
       "      <td>47092.12</td>\n",
       "      <td>198.46904</td>\n",
       "      <td>37.72</td>\n",
       "      <td>151.16</td>\n",
       "      <td>30.16</td>\n",
       "      <td>...</td>\n",
       "      <td>47229.788570</td>\n",
       "      <td>47376.198716</td>\n",
       "      <td>0</td>\n",
       "      <td>0</td>\n",
       "      <td>0</td>\n",
       "      <td>0</td>\n",
       "      <td>0</td>\n",
       "      <td>0</td>\n",
       "      <td>0</td>\n",
       "      <td>0</td>\n",
       "    </tr>\n",
       "    <tr>\n",
       "      <th>69803</th>\n",
       "      <td>2021-12-31 00:45:00</td>\n",
       "      <td>BTCUSDT</td>\n",
       "      <td>47092.12</td>\n",
       "      <td>47177.3</td>\n",
       "      <td>47044.16</td>\n",
       "      <td>47120.87</td>\n",
       "      <td>96.74091</td>\n",
       "      <td>56.43</td>\n",
       "      <td>47.96</td>\n",
       "      <td>28.75</td>\n",
       "      <td>...</td>\n",
       "      <td>47205.648856</td>\n",
       "      <td>47369.590945</td>\n",
       "      <td>0</td>\n",
       "      <td>0</td>\n",
       "      <td>0</td>\n",
       "      <td>0</td>\n",
       "      <td>0</td>\n",
       "      <td>0</td>\n",
       "      <td>0</td>\n",
       "      <td>0</td>\n",
       "    </tr>\n",
       "    <tr>\n",
       "      <th>69804</th>\n",
       "      <td>2021-12-31 01:00:00</td>\n",
       "      <td>BTCUSDT</td>\n",
       "      <td>47120.88</td>\n",
       "      <td>47500.0</td>\n",
       "      <td>47080.00</td>\n",
       "      <td>47296.76</td>\n",
       "      <td>379.28228</td>\n",
       "      <td>203.24</td>\n",
       "      <td>40.88</td>\n",
       "      <td>175.88</td>\n",
       "      <td>...</td>\n",
       "      <td>47201.783809</td>\n",
       "      <td>47368.572399</td>\n",
       "      <td>0</td>\n",
       "      <td>0</td>\n",
       "      <td>0</td>\n",
       "      <td>0</td>\n",
       "      <td>0</td>\n",
       "      <td>0</td>\n",
       "      <td>0</td>\n",
       "      <td>0</td>\n",
       "    </tr>\n",
       "  </tbody>\n",
       "</table>\n",
       "<p>5 rows × 26 columns</p>\n",
       "</div>"
      ],
      "text/plain": [
       "                      date      tic      open     high       low     close  \\\n",
       "69800  2021-12-31 00:00:00  BTCUSDT  47084.88  47240.0  46987.99  47110.36   \n",
       "69801  2021-12-31 00:15:00  BTCUSDT  47110.36  47242.6  47040.81  47122.27   \n",
       "69802  2021-12-31 00:30:00  BTCUSDT  47122.28  47160.0  46940.96  47092.12   \n",
       "69803  2021-12-31 00:45:00  BTCUSDT  47092.12  47177.3  47044.16  47120.87   \n",
       "69804  2021-12-31 01:00:00  BTCUSDT  47120.88  47500.0  47080.00  47296.76   \n",
       "\n",
       "          volume  upper_shadow  lower_shadow  real_body  ...         WMA20  \\\n",
       "69800  235.14202        129.64         96.89      25.48  ...  47288.419190   \n",
       "69801  179.83497        120.33         69.55      11.91  ...  47259.175618   \n",
       "69802  198.46904         37.72        151.16      30.16  ...  47229.788570   \n",
       "69803   96.74091         56.43         47.96      28.75  ...  47205.648856   \n",
       "69804  379.28228        203.24         40.88     175.88  ...  47201.783809   \n",
       "\n",
       "              WMA60  CDLINVERTEDHAMMER_NEW  CDLHAMMER_NEW  CDLMORNINGSTAR_NEW  \\\n",
       "69800  47389.988148                      0              0                   0   \n",
       "69801  47383.627191                      0              0                   0   \n",
       "69802  47376.198716                      0              0                   0   \n",
       "69803  47369.590945                      0              0                   0   \n",
       "69804  47368.572399                      0              0                   0   \n",
       "\n",
       "       CDLENGULFINGBULLISH_NEW  CDLSHOOTINGSTAR_NEW  CDLHANGINGMAN_NEW  \\\n",
       "69800                        0                    0                  0   \n",
       "69801                        0                    0                  0   \n",
       "69802                        0                    0                  0   \n",
       "69803                        0                    0                  0   \n",
       "69804                        0                    0                  0   \n",
       "\n",
       "       CDLEVENINGSTAR_NEW  CDLENGULFINGBEARISH_NEW  \n",
       "69800                   0                        0  \n",
       "69801                   0                        0  \n",
       "69802                   0                        0  \n",
       "69803                   0                        0  \n",
       "69804                   0                        0  \n",
       "\n",
       "[5 rows x 26 columns]"
      ]
     },
     "execution_count": 15,
     "metadata": {},
     "output_type": "execute_result"
    }
   ],
   "source": [
    "df_col_selected.tail()"
   ]
  },
  {
   "cell_type": "code",
   "execution_count": 16,
   "metadata": {},
   "outputs": [
    {
     "data": {
      "text/plain": [
       "False"
      ]
     },
     "execution_count": 16,
     "metadata": {},
     "output_type": "execute_result"
    }
   ],
   "source": [
    "#df_col_selected.plot(x='date', y='close')\n",
    "df_col_selected.isna().any().any()"
   ]
  },
  {
   "cell_type": "markdown",
   "metadata": {},
   "source": [
    "### Check missing date"
   ]
  },
  {
   "cell_type": "code",
   "execution_count": 17,
   "metadata": {},
   "outputs": [],
   "source": [
    "df_check_date = df_col_selected[['date']]"
   ]
  },
  {
   "cell_type": "code",
   "execution_count": 18,
   "metadata": {},
   "outputs": [
    {
     "name": "stdout",
     "output_type": "stream",
     "text": [
      "DatetimeIndex(['2017-12-15', '2017-12-16', '2017-12-17', '2017-12-18',\n",
      "               '2017-12-19', '2017-12-20', '2017-12-21', '2017-12-22',\n",
      "               '2017-12-23', '2017-12-24',\n",
      "               ...\n",
      "               '2019-12-24', '2019-12-25', '2019-12-26', '2019-12-27',\n",
      "               '2019-12-28', '2019-12-29', '2019-12-30', '2019-12-31',\n",
      "               '2020-01-01', '2020-01-02'],\n",
      "              dtype='datetime64[ns]', length=749, freq=None)\n"
     ]
    }
   ],
   "source": [
    "# Setting the Date values as index\n",
    "df_check_date = df_check_date.set_index('date')\n",
    " \n",
    "# to_datetime() method converts string\n",
    "# format to a DateTime object\n",
    "df_check_date.index = pd.to_datetime(df_check_date.index)\n",
    " \n",
    "# dates which are not in the sequence\n",
    "# are returned\n",
    "print(pd.date_range(\n",
    "  start=\"2017-12-15\", end=\"2021-12-31\").difference(df_check_date.index))"
   ]
  },
  {
   "cell_type": "markdown",
   "metadata": {
    "id": "uqC6c40Zh1iH"
   },
   "source": [
    "# Part 4: Preprocess Data\n",
    "Data preprocessing is a crucial step for training a high quality machine learning model. We need to check for missing data and do feature engineering in order to convert the data into a model-ready state.\n",
    "* Add technical indicators. In practical trading, various information needs to be taken into account, for example the historical stock prices, current holding shares, technical indicators, etc. In this article, we demonstrate two trend-following technical indicators: MACD and RSI.\n",
    "* Add turbulence index. Risk-aversion reflects whether an investor will choose to preserve the capital. It also influences one's trading strategy when facing different market volatility level. To control the risk in a worst-case scenario, such as financial crisis of 2007–2008, FinRL employs the financial turbulence index that measures extreme asset price fluctuation."
   ]
  },
  {
   "cell_type": "code",
   "execution_count": 19,
   "metadata": {
    "colab": {
     "base_uri": "https://localhost:8080/"
    },
    "id": "PmKP-1ii3RLS",
    "outputId": "0708badb-77ef-4c86-f77c-6525f0e8934d",
    "pycharm": {
     "name": "#%%\n"
    }
   },
   "outputs": [],
   "source": [
    "fe = FeatureEngineer(\n",
    "                    use_technical_indicator=False,\n",
    "                    #tech_indicator_list = [\"macd\", \"boll_ub\", \"boll_lb\", \"rsi_30\", \"cci_30\", \"dx_30\", \"close_30_sma\", \"close_60_sma\"],\n",
    "                    use_vix=False,\n",
    "                    use_turbulence=False,\n",
    "                    user_defined_feature = False)\n",
    "\n",
    "processed = fe.preprocess_data(df_col_selected)"
   ]
  },
  {
   "cell_type": "code",
   "execution_count": 20,
   "metadata": {},
   "outputs": [
    {
     "data": {
      "text/html": [
       "<div>\n",
       "<style scoped>\n",
       "    .dataframe tbody tr th:only-of-type {\n",
       "        vertical-align: middle;\n",
       "    }\n",
       "\n",
       "    .dataframe tbody tr th {\n",
       "        vertical-align: top;\n",
       "    }\n",
       "\n",
       "    .dataframe thead th {\n",
       "        text-align: right;\n",
       "    }\n",
       "</style>\n",
       "<table border=\"1\" class=\"dataframe\">\n",
       "  <thead>\n",
       "    <tr style=\"text-align: right;\">\n",
       "      <th></th>\n",
       "      <th>date</th>\n",
       "      <th>tic</th>\n",
       "      <th>open</th>\n",
       "      <th>high</th>\n",
       "      <th>low</th>\n",
       "      <th>close</th>\n",
       "      <th>volume</th>\n",
       "      <th>upper_shadow</th>\n",
       "      <th>lower_shadow</th>\n",
       "      <th>real_body</th>\n",
       "      <th>...</th>\n",
       "      <th>WMA20</th>\n",
       "      <th>WMA60</th>\n",
       "      <th>CDLINVERTEDHAMMER_NEW</th>\n",
       "      <th>CDLHAMMER_NEW</th>\n",
       "      <th>CDLMORNINGSTAR_NEW</th>\n",
       "      <th>CDLENGULFINGBULLISH_NEW</th>\n",
       "      <th>CDLSHOOTINGSTAR_NEW</th>\n",
       "      <th>CDLHANGINGMAN_NEW</th>\n",
       "      <th>CDLEVENINGSTAR_NEW</th>\n",
       "      <th>CDLENGULFINGBEARISH_NEW</th>\n",
       "    </tr>\n",
       "  </thead>\n",
       "  <tbody>\n",
       "    <tr>\n",
       "      <th>0</th>\n",
       "      <td>2020-01-02 07:00:00</td>\n",
       "      <td>BTCUSDT</td>\n",
       "      <td>7138.93</td>\n",
       "      <td>7144.98</td>\n",
       "      <td>7135.00</td>\n",
       "      <td>7138.90</td>\n",
       "      <td>154.330095</td>\n",
       "      <td>6.05</td>\n",
       "      <td>3.90</td>\n",
       "      <td>0.03</td>\n",
       "      <td>...</td>\n",
       "      <td>7147.086143</td>\n",
       "      <td>7182.061661</td>\n",
       "      <td>0</td>\n",
       "      <td>0</td>\n",
       "      <td>0</td>\n",
       "      <td>0</td>\n",
       "      <td>0</td>\n",
       "      <td>0</td>\n",
       "      <td>0</td>\n",
       "      <td>0</td>\n",
       "    </tr>\n",
       "    <tr>\n",
       "      <th>1</th>\n",
       "      <td>2020-01-02 07:15:00</td>\n",
       "      <td>BTCUSDT</td>\n",
       "      <td>7138.90</td>\n",
       "      <td>7149.00</td>\n",
       "      <td>7138.50</td>\n",
       "      <td>7146.58</td>\n",
       "      <td>178.369024</td>\n",
       "      <td>2.42</td>\n",
       "      <td>0.40</td>\n",
       "      <td>7.68</td>\n",
       "      <td>...</td>\n",
       "      <td>7146.188286</td>\n",
       "      <td>7180.275464</td>\n",
       "      <td>0</td>\n",
       "      <td>0</td>\n",
       "      <td>0</td>\n",
       "      <td>0</td>\n",
       "      <td>0</td>\n",
       "      <td>0</td>\n",
       "      <td>0</td>\n",
       "      <td>0</td>\n",
       "    </tr>\n",
       "    <tr>\n",
       "      <th>2</th>\n",
       "      <td>2020-01-02 07:30:00</td>\n",
       "      <td>BTCUSDT</td>\n",
       "      <td>7145.96</td>\n",
       "      <td>7149.02</td>\n",
       "      <td>7136.41</td>\n",
       "      <td>7136.81</td>\n",
       "      <td>142.773244</td>\n",
       "      <td>3.06</td>\n",
       "      <td>0.40</td>\n",
       "      <td>9.15</td>\n",
       "      <td>...</td>\n",
       "      <td>7144.567571</td>\n",
       "      <td>7178.213503</td>\n",
       "      <td>0</td>\n",
       "      <td>0</td>\n",
       "      <td>0</td>\n",
       "      <td>0</td>\n",
       "      <td>0</td>\n",
       "      <td>0</td>\n",
       "      <td>0</td>\n",
       "      <td>0</td>\n",
       "    </tr>\n",
       "    <tr>\n",
       "      <th>3</th>\n",
       "      <td>2020-01-02 07:45:00</td>\n",
       "      <td>BTCUSDT</td>\n",
       "      <td>7136.42</td>\n",
       "      <td>7139.14</td>\n",
       "      <td>7121.43</td>\n",
       "      <td>7135.97</td>\n",
       "      <td>212.128302</td>\n",
       "      <td>2.72</td>\n",
       "      <td>14.54</td>\n",
       "      <td>0.45</td>\n",
       "      <td>...</td>\n",
       "      <td>7143.119000</td>\n",
       "      <td>7176.178202</td>\n",
       "      <td>0</td>\n",
       "      <td>0</td>\n",
       "      <td>0</td>\n",
       "      <td>0</td>\n",
       "      <td>0</td>\n",
       "      <td>0</td>\n",
       "      <td>0</td>\n",
       "      <td>0</td>\n",
       "    </tr>\n",
       "    <tr>\n",
       "      <th>4</th>\n",
       "      <td>2020-01-02 08:00:00</td>\n",
       "      <td>BTCUSDT</td>\n",
       "      <td>7136.04</td>\n",
       "      <td>7140.63</td>\n",
       "      <td>7121.01</td>\n",
       "      <td>7125.26</td>\n",
       "      <td>243.045551</td>\n",
       "      <td>4.59</td>\n",
       "      <td>4.25</td>\n",
       "      <td>10.78</td>\n",
       "      <td>...</td>\n",
       "      <td>7140.912429</td>\n",
       "      <td>7173.845426</td>\n",
       "      <td>0</td>\n",
       "      <td>0</td>\n",
       "      <td>0</td>\n",
       "      <td>0</td>\n",
       "      <td>0</td>\n",
       "      <td>0</td>\n",
       "      <td>0</td>\n",
       "      <td>0</td>\n",
       "    </tr>\n",
       "  </tbody>\n",
       "</table>\n",
       "<p>5 rows × 26 columns</p>\n",
       "</div>"
      ],
      "text/plain": [
       "                  date      tic     open     high      low    close  \\\n",
       "0  2020-01-02 07:00:00  BTCUSDT  7138.93  7144.98  7135.00  7138.90   \n",
       "1  2020-01-02 07:15:00  BTCUSDT  7138.90  7149.00  7138.50  7146.58   \n",
       "2  2020-01-02 07:30:00  BTCUSDT  7145.96  7149.02  7136.41  7136.81   \n",
       "3  2020-01-02 07:45:00  BTCUSDT  7136.42  7139.14  7121.43  7135.97   \n",
       "4  2020-01-02 08:00:00  BTCUSDT  7136.04  7140.63  7121.01  7125.26   \n",
       "\n",
       "       volume  upper_shadow  lower_shadow  real_body  ...        WMA20  \\\n",
       "0  154.330095          6.05          3.90       0.03  ...  7147.086143   \n",
       "1  178.369024          2.42          0.40       7.68  ...  7146.188286   \n",
       "2  142.773244          3.06          0.40       9.15  ...  7144.567571   \n",
       "3  212.128302          2.72         14.54       0.45  ...  7143.119000   \n",
       "4  243.045551          4.59          4.25      10.78  ...  7140.912429   \n",
       "\n",
       "         WMA60  CDLINVERTEDHAMMER_NEW  CDLHAMMER_NEW  CDLMORNINGSTAR_NEW  \\\n",
       "0  7182.061661                      0              0                   0   \n",
       "1  7180.275464                      0              0                   0   \n",
       "2  7178.213503                      0              0                   0   \n",
       "3  7176.178202                      0              0                   0   \n",
       "4  7173.845426                      0              0                   0   \n",
       "\n",
       "   CDLENGULFINGBULLISH_NEW  CDLSHOOTINGSTAR_NEW  CDLHANGINGMAN_NEW  \\\n",
       "0                        0                    0                  0   \n",
       "1                        0                    0                  0   \n",
       "2                        0                    0                  0   \n",
       "3                        0                    0                  0   \n",
       "4                        0                    0                  0   \n",
       "\n",
       "   CDLEVENINGSTAR_NEW  CDLENGULFINGBEARISH_NEW  \n",
       "0                   0                        0  \n",
       "1                   0                        0  \n",
       "2                   0                        0  \n",
       "3                   0                        0  \n",
       "4                   0                        0  \n",
       "\n",
       "[5 rows x 26 columns]"
      ]
     },
     "execution_count": 20,
     "metadata": {},
     "output_type": "execute_result"
    }
   ],
   "source": [
    "processed.head()"
   ]
  },
  {
   "cell_type": "markdown",
   "metadata": {
    "id": "-QsYaY0Dh1iw"
   },
   "source": [
    "<a id='4'></a>\n",
    "# Part 5. Design Environment\n",
    "Considering the stochastic and interactive nature of the automated stock trading tasks, a financial task is modeled as a **Markov Decision Process (MDP)** problem. The training process involves observing stock price change, taking an action and reward's calculation to have the agent adjusting its strategy accordingly. By interacting with the environment, the trading agent will derive a trading strategy with the maximized rewards as time proceeds.\n",
    "\n",
    "Our trading environments, based on OpenAI Gym framework, simulate live stock markets with real market data according to the principle of time-driven simulation.\n",
    "\n",
    "The action space describes the allowed actions that the agent interacts with the environment. Normally, action a includes three actions: {-1, 0, 1}, where -1, 0, 1 represent selling, holding, and buying one share. Also, an action can be carried upon multiple shares. We use an action space {-k,…,-1, 0, 1, …, k}, where k denotes the number of shares to buy and -k denotes the number of shares to sell. For example, \"Buy 10 shares of AAPL\" or \"Sell 10 shares of AAPL\" are 10 or -10, respectively. The continuous action space needs to be normalized to [-1, 1], since the policy is defined on a Gaussian distribution, which needs to be normalized and symmetric."
   ]
  },
  {
   "cell_type": "code",
   "execution_count": 21,
   "metadata": {},
   "outputs": [
    {
     "name": "stdout",
     "output_type": "stream",
     "text": [
      "<class 'pandas.core.frame.DataFrame'>\n",
      "Int64Index: 69805 entries, 0 to 69804\n",
      "Data columns (total 26 columns):\n",
      " #   Column                   Non-Null Count  Dtype  \n",
      "---  ------                   --------------  -----  \n",
      " 0   date                     69805 non-null  object \n",
      " 1   tic                      69805 non-null  object \n",
      " 2   open                     69805 non-null  float64\n",
      " 3   high                     69805 non-null  float64\n",
      " 4   low                      69805 non-null  float64\n",
      " 5   close                    69805 non-null  float64\n",
      " 6   volume                   69805 non-null  float64\n",
      " 7   upper_shadow             69805 non-null  float64\n",
      " 8   lower_shadow             69805 non-null  float64\n",
      " 9   real_body                69805 non-null  float64\n",
      " 10  MACD_12_26_9             69805 non-null  float64\n",
      " 11  BBANDS_U                 69805 non-null  float64\n",
      " 12  BBANDS_M                 69805 non-null  float64\n",
      " 13  BBANDS_L                 69805 non-null  float64\n",
      " 14  RSI_14                   69805 non-null  float64\n",
      " 15  CCI_14                   69805 non-null  float64\n",
      " 16  WMA20                    69805 non-null  float64\n",
      " 17  WMA60                    69805 non-null  float64\n",
      " 18  CDLINVERTEDHAMMER_NEW    69805 non-null  int64  \n",
      " 19  CDLHAMMER_NEW            69805 non-null  int64  \n",
      " 20  CDLMORNINGSTAR_NEW       69805 non-null  int64  \n",
      " 21  CDLENGULFINGBULLISH_NEW  69805 non-null  int64  \n",
      " 22  CDLSHOOTINGSTAR_NEW      69805 non-null  int64  \n",
      " 23  CDLHANGINGMAN_NEW        69805 non-null  int64  \n",
      " 24  CDLEVENINGSTAR_NEW       69805 non-null  int64  \n",
      " 25  CDLENGULFINGBEARISH_NEW  69805 non-null  int64  \n",
      "dtypes: float64(16), int64(8), object(2)\n",
      "memory usage: 14.4+ MB\n"
     ]
    }
   ],
   "source": [
    "processed.info()"
   ]
  },
  {
   "cell_type": "markdown",
   "metadata": {
    "id": "5TOhcryx44bb"
   },
   "source": [
    "## Training data split:\n",
    "## Trade data split:"
   ]
  },
  {
   "cell_type": "code",
   "execution_count": 22,
   "metadata": {
    "colab": {
     "base_uri": "https://localhost:8080/"
    },
    "id": "W0qaVGjLtgbI",
    "outputId": "ca8d1a43-ffc3-4fc3-efa9-4de9a9065842"
   },
   "outputs": [
    {
     "name": "stdout",
     "output_type": "stream",
     "text": [
      "52162\n",
      "17542\n"
     ]
    }
   ],
   "source": [
    "train = data_split(processed, '2020-01-01','2021-06-30')\n",
    "trade = data_split(processed, '2021-06-30','2021-12-30')\n",
    "print(len(train))\n",
    "print(len(trade))"
   ]
  },
  {
   "cell_type": "code",
   "execution_count": 23,
   "metadata": {},
   "outputs": [
    {
     "data": {
      "text/html": [
       "<div>\n",
       "<style scoped>\n",
       "    .dataframe tbody tr th:only-of-type {\n",
       "        vertical-align: middle;\n",
       "    }\n",
       "\n",
       "    .dataframe tbody tr th {\n",
       "        vertical-align: top;\n",
       "    }\n",
       "\n",
       "    .dataframe thead th {\n",
       "        text-align: right;\n",
       "    }\n",
       "</style>\n",
       "<table border=\"1\" class=\"dataframe\">\n",
       "  <thead>\n",
       "    <tr style=\"text-align: right;\">\n",
       "      <th></th>\n",
       "      <th>date</th>\n",
       "      <th>tic</th>\n",
       "      <th>open</th>\n",
       "      <th>high</th>\n",
       "      <th>low</th>\n",
       "      <th>close</th>\n",
       "      <th>volume</th>\n",
       "      <th>upper_shadow</th>\n",
       "      <th>lower_shadow</th>\n",
       "      <th>real_body</th>\n",
       "      <th>...</th>\n",
       "      <th>WMA20</th>\n",
       "      <th>WMA60</th>\n",
       "      <th>CDLINVERTEDHAMMER_NEW</th>\n",
       "      <th>CDLHAMMER_NEW</th>\n",
       "      <th>CDLMORNINGSTAR_NEW</th>\n",
       "      <th>CDLENGULFINGBULLISH_NEW</th>\n",
       "      <th>CDLSHOOTINGSTAR_NEW</th>\n",
       "      <th>CDLHANGINGMAN_NEW</th>\n",
       "      <th>CDLEVENINGSTAR_NEW</th>\n",
       "      <th>CDLENGULFINGBEARISH_NEW</th>\n",
       "    </tr>\n",
       "  </thead>\n",
       "  <tbody>\n",
       "    <tr>\n",
       "      <th>0</th>\n",
       "      <td>2020-01-02 07:00:00</td>\n",
       "      <td>BTCUSDT</td>\n",
       "      <td>7138.93</td>\n",
       "      <td>7144.98</td>\n",
       "      <td>7135.00</td>\n",
       "      <td>7138.90</td>\n",
       "      <td>154.330095</td>\n",
       "      <td>6.05</td>\n",
       "      <td>3.90</td>\n",
       "      <td>0.03</td>\n",
       "      <td>...</td>\n",
       "      <td>7147.086143</td>\n",
       "      <td>7182.061661</td>\n",
       "      <td>0</td>\n",
       "      <td>0</td>\n",
       "      <td>0</td>\n",
       "      <td>0</td>\n",
       "      <td>0</td>\n",
       "      <td>0</td>\n",
       "      <td>0</td>\n",
       "      <td>0</td>\n",
       "    </tr>\n",
       "    <tr>\n",
       "      <th>1</th>\n",
       "      <td>2020-01-02 07:15:00</td>\n",
       "      <td>BTCUSDT</td>\n",
       "      <td>7138.90</td>\n",
       "      <td>7149.00</td>\n",
       "      <td>7138.50</td>\n",
       "      <td>7146.58</td>\n",
       "      <td>178.369024</td>\n",
       "      <td>2.42</td>\n",
       "      <td>0.40</td>\n",
       "      <td>7.68</td>\n",
       "      <td>...</td>\n",
       "      <td>7146.188286</td>\n",
       "      <td>7180.275464</td>\n",
       "      <td>0</td>\n",
       "      <td>0</td>\n",
       "      <td>0</td>\n",
       "      <td>0</td>\n",
       "      <td>0</td>\n",
       "      <td>0</td>\n",
       "      <td>0</td>\n",
       "      <td>0</td>\n",
       "    </tr>\n",
       "    <tr>\n",
       "      <th>2</th>\n",
       "      <td>2020-01-02 07:30:00</td>\n",
       "      <td>BTCUSDT</td>\n",
       "      <td>7145.96</td>\n",
       "      <td>7149.02</td>\n",
       "      <td>7136.41</td>\n",
       "      <td>7136.81</td>\n",
       "      <td>142.773244</td>\n",
       "      <td>3.06</td>\n",
       "      <td>0.40</td>\n",
       "      <td>9.15</td>\n",
       "      <td>...</td>\n",
       "      <td>7144.567571</td>\n",
       "      <td>7178.213503</td>\n",
       "      <td>0</td>\n",
       "      <td>0</td>\n",
       "      <td>0</td>\n",
       "      <td>0</td>\n",
       "      <td>0</td>\n",
       "      <td>0</td>\n",
       "      <td>0</td>\n",
       "      <td>0</td>\n",
       "    </tr>\n",
       "    <tr>\n",
       "      <th>3</th>\n",
       "      <td>2020-01-02 07:45:00</td>\n",
       "      <td>BTCUSDT</td>\n",
       "      <td>7136.42</td>\n",
       "      <td>7139.14</td>\n",
       "      <td>7121.43</td>\n",
       "      <td>7135.97</td>\n",
       "      <td>212.128302</td>\n",
       "      <td>2.72</td>\n",
       "      <td>14.54</td>\n",
       "      <td>0.45</td>\n",
       "      <td>...</td>\n",
       "      <td>7143.119000</td>\n",
       "      <td>7176.178202</td>\n",
       "      <td>0</td>\n",
       "      <td>0</td>\n",
       "      <td>0</td>\n",
       "      <td>0</td>\n",
       "      <td>0</td>\n",
       "      <td>0</td>\n",
       "      <td>0</td>\n",
       "      <td>0</td>\n",
       "    </tr>\n",
       "    <tr>\n",
       "      <th>4</th>\n",
       "      <td>2020-01-02 08:00:00</td>\n",
       "      <td>BTCUSDT</td>\n",
       "      <td>7136.04</td>\n",
       "      <td>7140.63</td>\n",
       "      <td>7121.01</td>\n",
       "      <td>7125.26</td>\n",
       "      <td>243.045551</td>\n",
       "      <td>4.59</td>\n",
       "      <td>4.25</td>\n",
       "      <td>10.78</td>\n",
       "      <td>...</td>\n",
       "      <td>7140.912429</td>\n",
       "      <td>7173.845426</td>\n",
       "      <td>0</td>\n",
       "      <td>0</td>\n",
       "      <td>0</td>\n",
       "      <td>0</td>\n",
       "      <td>0</td>\n",
       "      <td>0</td>\n",
       "      <td>0</td>\n",
       "      <td>0</td>\n",
       "    </tr>\n",
       "  </tbody>\n",
       "</table>\n",
       "<p>5 rows × 26 columns</p>\n",
       "</div>"
      ],
      "text/plain": [
       "                  date      tic     open     high      low    close  \\\n",
       "0  2020-01-02 07:00:00  BTCUSDT  7138.93  7144.98  7135.00  7138.90   \n",
       "1  2020-01-02 07:15:00  BTCUSDT  7138.90  7149.00  7138.50  7146.58   \n",
       "2  2020-01-02 07:30:00  BTCUSDT  7145.96  7149.02  7136.41  7136.81   \n",
       "3  2020-01-02 07:45:00  BTCUSDT  7136.42  7139.14  7121.43  7135.97   \n",
       "4  2020-01-02 08:00:00  BTCUSDT  7136.04  7140.63  7121.01  7125.26   \n",
       "\n",
       "       volume  upper_shadow  lower_shadow  real_body  ...        WMA20  \\\n",
       "0  154.330095          6.05          3.90       0.03  ...  7147.086143   \n",
       "1  178.369024          2.42          0.40       7.68  ...  7146.188286   \n",
       "2  142.773244          3.06          0.40       9.15  ...  7144.567571   \n",
       "3  212.128302          2.72         14.54       0.45  ...  7143.119000   \n",
       "4  243.045551          4.59          4.25      10.78  ...  7140.912429   \n",
       "\n",
       "         WMA60  CDLINVERTEDHAMMER_NEW  CDLHAMMER_NEW  CDLMORNINGSTAR_NEW  \\\n",
       "0  7182.061661                      0              0                   0   \n",
       "1  7180.275464                      0              0                   0   \n",
       "2  7178.213503                      0              0                   0   \n",
       "3  7176.178202                      0              0                   0   \n",
       "4  7173.845426                      0              0                   0   \n",
       "\n",
       "   CDLENGULFINGBULLISH_NEW  CDLSHOOTINGSTAR_NEW  CDLHANGINGMAN_NEW  \\\n",
       "0                        0                    0                  0   \n",
       "1                        0                    0                  0   \n",
       "2                        0                    0                  0   \n",
       "3                        0                    0                  0   \n",
       "4                        0                    0                  0   \n",
       "\n",
       "   CDLEVENINGSTAR_NEW  CDLENGULFINGBEARISH_NEW  \n",
       "0                   0                        0  \n",
       "1                   0                        0  \n",
       "2                   0                        0  \n",
       "3                   0                        0  \n",
       "4                   0                        0  \n",
       "\n",
       "[5 rows x 26 columns]"
      ]
     },
     "execution_count": 23,
     "metadata": {},
     "output_type": "execute_result"
    }
   ],
   "source": [
    "train.head()"
   ]
  },
  {
   "cell_type": "code",
   "execution_count": 24,
   "metadata": {
    "colab": {
     "base_uri": "https://localhost:8080/",
     "height": 357
    },
    "id": "p52zNCOhTtLR",
    "outputId": "b3ad3e10-376f-4186-f875-0331708c5e14"
   },
   "outputs": [
    {
     "data": {
      "text/html": [
       "<div>\n",
       "<style scoped>\n",
       "    .dataframe tbody tr th:only-of-type {\n",
       "        vertical-align: middle;\n",
       "    }\n",
       "\n",
       "    .dataframe tbody tr th {\n",
       "        vertical-align: top;\n",
       "    }\n",
       "\n",
       "    .dataframe thead th {\n",
       "        text-align: right;\n",
       "    }\n",
       "</style>\n",
       "<table border=\"1\" class=\"dataframe\">\n",
       "  <thead>\n",
       "    <tr style=\"text-align: right;\">\n",
       "      <th></th>\n",
       "      <th>date</th>\n",
       "      <th>tic</th>\n",
       "      <th>open</th>\n",
       "      <th>high</th>\n",
       "      <th>low</th>\n",
       "      <th>close</th>\n",
       "      <th>volume</th>\n",
       "      <th>upper_shadow</th>\n",
       "      <th>lower_shadow</th>\n",
       "      <th>real_body</th>\n",
       "      <th>...</th>\n",
       "      <th>WMA20</th>\n",
       "      <th>WMA60</th>\n",
       "      <th>CDLINVERTEDHAMMER_NEW</th>\n",
       "      <th>CDLHAMMER_NEW</th>\n",
       "      <th>CDLMORNINGSTAR_NEW</th>\n",
       "      <th>CDLENGULFINGBULLISH_NEW</th>\n",
       "      <th>CDLSHOOTINGSTAR_NEW</th>\n",
       "      <th>CDLHANGINGMAN_NEW</th>\n",
       "      <th>CDLEVENINGSTAR_NEW</th>\n",
       "      <th>CDLENGULFINGBEARISH_NEW</th>\n",
       "    </tr>\n",
       "  </thead>\n",
       "  <tbody>\n",
       "    <tr>\n",
       "      <th>52157</th>\n",
       "      <td>2021-06-29 22:45:00</td>\n",
       "      <td>BTCUSDT</td>\n",
       "      <td>36304.01</td>\n",
       "      <td>36353.22</td>\n",
       "      <td>36099.79</td>\n",
       "      <td>36156.04</td>\n",
       "      <td>1169.164899</td>\n",
       "      <td>49.21</td>\n",
       "      <td>56.25</td>\n",
       "      <td>147.97</td>\n",
       "      <td>...</td>\n",
       "      <td>36306.685952</td>\n",
       "      <td>36096.858683</td>\n",
       "      <td>0</td>\n",
       "      <td>0</td>\n",
       "      <td>0</td>\n",
       "      <td>0</td>\n",
       "      <td>0</td>\n",
       "      <td>0</td>\n",
       "      <td>0</td>\n",
       "      <td>0</td>\n",
       "    </tr>\n",
       "    <tr>\n",
       "      <th>52158</th>\n",
       "      <td>2021-06-29 23:00:00</td>\n",
       "      <td>BTCUSDT</td>\n",
       "      <td>36156.03</td>\n",
       "      <td>36276.86</td>\n",
       "      <td>36111.43</td>\n",
       "      <td>36119.08</td>\n",
       "      <td>554.280997</td>\n",
       "      <td>120.83</td>\n",
       "      <td>7.65</td>\n",
       "      <td>36.95</td>\n",
       "      <td>...</td>\n",
       "      <td>36288.551619</td>\n",
       "      <td>36106.795257</td>\n",
       "      <td>0</td>\n",
       "      <td>0</td>\n",
       "      <td>0</td>\n",
       "      <td>0</td>\n",
       "      <td>0</td>\n",
       "      <td>0</td>\n",
       "      <td>0</td>\n",
       "      <td>0</td>\n",
       "    </tr>\n",
       "    <tr>\n",
       "      <th>52159</th>\n",
       "      <td>2021-06-29 23:15:00</td>\n",
       "      <td>BTCUSDT</td>\n",
       "      <td>36119.09</td>\n",
       "      <td>36242.50</td>\n",
       "      <td>36106.46</td>\n",
       "      <td>36132.73</td>\n",
       "      <td>475.188271</td>\n",
       "      <td>109.77</td>\n",
       "      <td>12.63</td>\n",
       "      <td>13.64</td>\n",
       "      <td>...</td>\n",
       "      <td>36272.036809</td>\n",
       "      <td>36116.402180</td>\n",
       "      <td>0</td>\n",
       "      <td>0</td>\n",
       "      <td>0</td>\n",
       "      <td>0</td>\n",
       "      <td>0</td>\n",
       "      <td>0</td>\n",
       "      <td>0</td>\n",
       "      <td>0</td>\n",
       "    </tr>\n",
       "    <tr>\n",
       "      <th>52160</th>\n",
       "      <td>2021-06-29 23:30:00</td>\n",
       "      <td>BTCUSDT</td>\n",
       "      <td>36132.73</td>\n",
       "      <td>36273.08</td>\n",
       "      <td>36126.54</td>\n",
       "      <td>36261.84</td>\n",
       "      <td>493.900978</td>\n",
       "      <td>11.24</td>\n",
       "      <td>6.19</td>\n",
       "      <td>129.11</td>\n",
       "      <td>...</td>\n",
       "      <td>36268.710619</td>\n",
       "      <td>36129.587295</td>\n",
       "      <td>0</td>\n",
       "      <td>0</td>\n",
       "      <td>0</td>\n",
       "      <td>0</td>\n",
       "      <td>0</td>\n",
       "      <td>0</td>\n",
       "      <td>0</td>\n",
       "      <td>0</td>\n",
       "    </tr>\n",
       "    <tr>\n",
       "      <th>52161</th>\n",
       "      <td>2021-06-29 23:45:00</td>\n",
       "      <td>BTCUSDT</td>\n",
       "      <td>36263.77</td>\n",
       "      <td>36323.76</td>\n",
       "      <td>36228.00</td>\n",
       "      <td>36240.01</td>\n",
       "      <td>459.540654</td>\n",
       "      <td>59.99</td>\n",
       "      <td>12.01</td>\n",
       "      <td>23.76</td>\n",
       "      <td>...</td>\n",
       "      <td>36263.633476</td>\n",
       "      <td>36141.367137</td>\n",
       "      <td>0</td>\n",
       "      <td>0</td>\n",
       "      <td>0</td>\n",
       "      <td>0</td>\n",
       "      <td>0</td>\n",
       "      <td>0</td>\n",
       "      <td>0</td>\n",
       "      <td>0</td>\n",
       "    </tr>\n",
       "  </tbody>\n",
       "</table>\n",
       "<p>5 rows × 26 columns</p>\n",
       "</div>"
      ],
      "text/plain": [
       "                      date      tic      open      high       low     close  \\\n",
       "52157  2021-06-29 22:45:00  BTCUSDT  36304.01  36353.22  36099.79  36156.04   \n",
       "52158  2021-06-29 23:00:00  BTCUSDT  36156.03  36276.86  36111.43  36119.08   \n",
       "52159  2021-06-29 23:15:00  BTCUSDT  36119.09  36242.50  36106.46  36132.73   \n",
       "52160  2021-06-29 23:30:00  BTCUSDT  36132.73  36273.08  36126.54  36261.84   \n",
       "52161  2021-06-29 23:45:00  BTCUSDT  36263.77  36323.76  36228.00  36240.01   \n",
       "\n",
       "            volume  upper_shadow  lower_shadow  real_body  ...         WMA20  \\\n",
       "52157  1169.164899         49.21         56.25     147.97  ...  36306.685952   \n",
       "52158   554.280997        120.83          7.65      36.95  ...  36288.551619   \n",
       "52159   475.188271        109.77         12.63      13.64  ...  36272.036809   \n",
       "52160   493.900978         11.24          6.19     129.11  ...  36268.710619   \n",
       "52161   459.540654         59.99         12.01      23.76  ...  36263.633476   \n",
       "\n",
       "              WMA60  CDLINVERTEDHAMMER_NEW  CDLHAMMER_NEW  CDLMORNINGSTAR_NEW  \\\n",
       "52157  36096.858683                      0              0                   0   \n",
       "52158  36106.795257                      0              0                   0   \n",
       "52159  36116.402180                      0              0                   0   \n",
       "52160  36129.587295                      0              0                   0   \n",
       "52161  36141.367137                      0              0                   0   \n",
       "\n",
       "       CDLENGULFINGBULLISH_NEW  CDLSHOOTINGSTAR_NEW  CDLHANGINGMAN_NEW  \\\n",
       "52157                        0                    0                  0   \n",
       "52158                        0                    0                  0   \n",
       "52159                        0                    0                  0   \n",
       "52160                        0                    0                  0   \n",
       "52161                        0                    0                  0   \n",
       "\n",
       "       CDLEVENINGSTAR_NEW  CDLENGULFINGBEARISH_NEW  \n",
       "52157                   0                        0  \n",
       "52158                   0                        0  \n",
       "52159                   0                        0  \n",
       "52160                   0                        0  \n",
       "52161                   0                        0  \n",
       "\n",
       "[5 rows x 26 columns]"
      ]
     },
     "execution_count": 24,
     "metadata": {},
     "output_type": "execute_result"
    }
   ],
   "source": [
    "train.tail()"
   ]
  },
  {
   "cell_type": "code",
   "execution_count": 25,
   "metadata": {
    "colab": {
     "base_uri": "https://localhost:8080/",
     "height": 357
    },
    "id": "k9zU9YaTTvFq",
    "outputId": "72213585-39a3-4bff-c031-874ec0ca06f9"
   },
   "outputs": [
    {
     "data": {
      "text/html": [
       "<div>\n",
       "<style scoped>\n",
       "    .dataframe tbody tr th:only-of-type {\n",
       "        vertical-align: middle;\n",
       "    }\n",
       "\n",
       "    .dataframe tbody tr th {\n",
       "        vertical-align: top;\n",
       "    }\n",
       "\n",
       "    .dataframe thead th {\n",
       "        text-align: right;\n",
       "    }\n",
       "</style>\n",
       "<table border=\"1\" class=\"dataframe\">\n",
       "  <thead>\n",
       "    <tr style=\"text-align: right;\">\n",
       "      <th></th>\n",
       "      <th>date</th>\n",
       "      <th>tic</th>\n",
       "      <th>open</th>\n",
       "      <th>high</th>\n",
       "      <th>low</th>\n",
       "      <th>close</th>\n",
       "      <th>volume</th>\n",
       "      <th>upper_shadow</th>\n",
       "      <th>lower_shadow</th>\n",
       "      <th>real_body</th>\n",
       "      <th>...</th>\n",
       "      <th>WMA20</th>\n",
       "      <th>WMA60</th>\n",
       "      <th>CDLINVERTEDHAMMER_NEW</th>\n",
       "      <th>CDLHAMMER_NEW</th>\n",
       "      <th>CDLMORNINGSTAR_NEW</th>\n",
       "      <th>CDLENGULFINGBULLISH_NEW</th>\n",
       "      <th>CDLSHOOTINGSTAR_NEW</th>\n",
       "      <th>CDLHANGINGMAN_NEW</th>\n",
       "      <th>CDLEVENINGSTAR_NEW</th>\n",
       "      <th>CDLENGULFINGBEARISH_NEW</th>\n",
       "    </tr>\n",
       "  </thead>\n",
       "  <tbody>\n",
       "    <tr>\n",
       "      <th>0</th>\n",
       "      <td>2021-06-30 00:00:00</td>\n",
       "      <td>BTCUSDT</td>\n",
       "      <td>36240.01</td>\n",
       "      <td>36268.96</td>\n",
       "      <td>35963.01</td>\n",
       "      <td>36008.22</td>\n",
       "      <td>800.673290</td>\n",
       "      <td>28.95</td>\n",
       "      <td>45.21</td>\n",
       "      <td>231.79</td>\n",
       "      <td>...</td>\n",
       "      <td>36236.966238</td>\n",
       "      <td>36145.051464</td>\n",
       "      <td>0</td>\n",
       "      <td>0</td>\n",
       "      <td>0</td>\n",
       "      <td>0</td>\n",
       "      <td>0</td>\n",
       "      <td>0</td>\n",
       "      <td>0</td>\n",
       "      <td>0</td>\n",
       "    </tr>\n",
       "    <tr>\n",
       "      <th>1</th>\n",
       "      <td>2021-06-30 00:15:00</td>\n",
       "      <td>BTCUSDT</td>\n",
       "      <td>36008.23</td>\n",
       "      <td>36089.33</td>\n",
       "      <td>35700.01</td>\n",
       "      <td>35757.27</td>\n",
       "      <td>1524.930157</td>\n",
       "      <td>81.10</td>\n",
       "      <td>57.26</td>\n",
       "      <td>250.96</td>\n",
       "      <td>...</td>\n",
       "      <td>36188.155381</td>\n",
       "      <td>36140.125410</td>\n",
       "      <td>0</td>\n",
       "      <td>0</td>\n",
       "      <td>0</td>\n",
       "      <td>0</td>\n",
       "      <td>0</td>\n",
       "      <td>0</td>\n",
       "      <td>0</td>\n",
       "      <td>0</td>\n",
       "    </tr>\n",
       "    <tr>\n",
       "      <th>2</th>\n",
       "      <td>2021-06-30 00:30:00</td>\n",
       "      <td>BTCUSDT</td>\n",
       "      <td>35757.27</td>\n",
       "      <td>35973.79</td>\n",
       "      <td>35753.42</td>\n",
       "      <td>35944.57</td>\n",
       "      <td>930.759811</td>\n",
       "      <td>29.22</td>\n",
       "      <td>3.85</td>\n",
       "      <td>187.30</td>\n",
       "      <td>...</td>\n",
       "      <td>36160.266714</td>\n",
       "      <td>36141.047115</td>\n",
       "      <td>0</td>\n",
       "      <td>0</td>\n",
       "      <td>0</td>\n",
       "      <td>0</td>\n",
       "      <td>0</td>\n",
       "      <td>0</td>\n",
       "      <td>0</td>\n",
       "      <td>0</td>\n",
       "    </tr>\n",
       "    <tr>\n",
       "      <th>3</th>\n",
       "      <td>2021-06-30 00:45:00</td>\n",
       "      <td>BTCUSDT</td>\n",
       "      <td>35944.57</td>\n",
       "      <td>36189.81</td>\n",
       "      <td>35925.00</td>\n",
       "      <td>35925.00</td>\n",
       "      <td>654.603595</td>\n",
       "      <td>245.24</td>\n",
       "      <td>0.00</td>\n",
       "      <td>19.57</td>\n",
       "      <td>...</td>\n",
       "      <td>36132.492904</td>\n",
       "      <td>36140.838628</td>\n",
       "      <td>0</td>\n",
       "      <td>0</td>\n",
       "      <td>0</td>\n",
       "      <td>0</td>\n",
       "      <td>0</td>\n",
       "      <td>0</td>\n",
       "      <td>0</td>\n",
       "      <td>0</td>\n",
       "    </tr>\n",
       "    <tr>\n",
       "      <th>4</th>\n",
       "      <td>2021-06-30 01:00:00</td>\n",
       "      <td>BTCUSDT</td>\n",
       "      <td>35924.99</td>\n",
       "      <td>36050.00</td>\n",
       "      <td>35862.16</td>\n",
       "      <td>35862.17</td>\n",
       "      <td>610.343883</td>\n",
       "      <td>125.01</td>\n",
       "      <td>0.01</td>\n",
       "      <td>62.82</td>\n",
       "      <td>...</td>\n",
       "      <td>36100.855285</td>\n",
       "      <td>36137.982311</td>\n",
       "      <td>0</td>\n",
       "      <td>0</td>\n",
       "      <td>0</td>\n",
       "      <td>0</td>\n",
       "      <td>0</td>\n",
       "      <td>0</td>\n",
       "      <td>0</td>\n",
       "      <td>0</td>\n",
       "    </tr>\n",
       "  </tbody>\n",
       "</table>\n",
       "<p>5 rows × 26 columns</p>\n",
       "</div>"
      ],
      "text/plain": [
       "                  date      tic      open      high       low     close  \\\n",
       "0  2021-06-30 00:00:00  BTCUSDT  36240.01  36268.96  35963.01  36008.22   \n",
       "1  2021-06-30 00:15:00  BTCUSDT  36008.23  36089.33  35700.01  35757.27   \n",
       "2  2021-06-30 00:30:00  BTCUSDT  35757.27  35973.79  35753.42  35944.57   \n",
       "3  2021-06-30 00:45:00  BTCUSDT  35944.57  36189.81  35925.00  35925.00   \n",
       "4  2021-06-30 01:00:00  BTCUSDT  35924.99  36050.00  35862.16  35862.17   \n",
       "\n",
       "        volume  upper_shadow  lower_shadow  real_body  ...         WMA20  \\\n",
       "0   800.673290         28.95         45.21     231.79  ...  36236.966238   \n",
       "1  1524.930157         81.10         57.26     250.96  ...  36188.155381   \n",
       "2   930.759811         29.22          3.85     187.30  ...  36160.266714   \n",
       "3   654.603595        245.24          0.00      19.57  ...  36132.492904   \n",
       "4   610.343883        125.01          0.01      62.82  ...  36100.855285   \n",
       "\n",
       "          WMA60  CDLINVERTEDHAMMER_NEW  CDLHAMMER_NEW  CDLMORNINGSTAR_NEW  \\\n",
       "0  36145.051464                      0              0                   0   \n",
       "1  36140.125410                      0              0                   0   \n",
       "2  36141.047115                      0              0                   0   \n",
       "3  36140.838628                      0              0                   0   \n",
       "4  36137.982311                      0              0                   0   \n",
       "\n",
       "   CDLENGULFINGBULLISH_NEW  CDLSHOOTINGSTAR_NEW  CDLHANGINGMAN_NEW  \\\n",
       "0                        0                    0                  0   \n",
       "1                        0                    0                  0   \n",
       "2                        0                    0                  0   \n",
       "3                        0                    0                  0   \n",
       "4                        0                    0                  0   \n",
       "\n",
       "   CDLEVENINGSTAR_NEW  CDLENGULFINGBEARISH_NEW  \n",
       "0                   0                        0  \n",
       "1                   0                        0  \n",
       "2                   0                        0  \n",
       "3                   0                        0  \n",
       "4                   0                        0  \n",
       "\n",
       "[5 rows x 26 columns]"
      ]
     },
     "execution_count": 25,
     "metadata": {},
     "output_type": "execute_result"
    }
   ],
   "source": [
    "trade.head()"
   ]
  },
  {
   "cell_type": "code",
   "execution_count": 26,
   "metadata": {},
   "outputs": [
    {
     "data": {
      "text/html": [
       "<div>\n",
       "<style scoped>\n",
       "    .dataframe tbody tr th:only-of-type {\n",
       "        vertical-align: middle;\n",
       "    }\n",
       "\n",
       "    .dataframe tbody tr th {\n",
       "        vertical-align: top;\n",
       "    }\n",
       "\n",
       "    .dataframe thead th {\n",
       "        text-align: right;\n",
       "    }\n",
       "</style>\n",
       "<table border=\"1\" class=\"dataframe\">\n",
       "  <thead>\n",
       "    <tr style=\"text-align: right;\">\n",
       "      <th></th>\n",
       "      <th>date</th>\n",
       "      <th>tic</th>\n",
       "      <th>open</th>\n",
       "      <th>high</th>\n",
       "      <th>low</th>\n",
       "      <th>close</th>\n",
       "      <th>volume</th>\n",
       "      <th>upper_shadow</th>\n",
       "      <th>lower_shadow</th>\n",
       "      <th>real_body</th>\n",
       "      <th>...</th>\n",
       "      <th>WMA20</th>\n",
       "      <th>WMA60</th>\n",
       "      <th>CDLINVERTEDHAMMER_NEW</th>\n",
       "      <th>CDLHAMMER_NEW</th>\n",
       "      <th>CDLMORNINGSTAR_NEW</th>\n",
       "      <th>CDLENGULFINGBULLISH_NEW</th>\n",
       "      <th>CDLSHOOTINGSTAR_NEW</th>\n",
       "      <th>CDLHANGINGMAN_NEW</th>\n",
       "      <th>CDLEVENINGSTAR_NEW</th>\n",
       "      <th>CDLENGULFINGBEARISH_NEW</th>\n",
       "    </tr>\n",
       "  </thead>\n",
       "  <tbody>\n",
       "    <tr>\n",
       "      <th>17537</th>\n",
       "      <td>2021-12-29 22:45:00</td>\n",
       "      <td>BTCUSDT</td>\n",
       "      <td>47227.70</td>\n",
       "      <td>47272.99</td>\n",
       "      <td>47135.00</td>\n",
       "      <td>47230.00</td>\n",
       "      <td>320.66696</td>\n",
       "      <td>42.99</td>\n",
       "      <td>92.70</td>\n",
       "      <td>2.30</td>\n",
       "      <td>...</td>\n",
       "      <td>47334.396332</td>\n",
       "      <td>47458.996552</td>\n",
       "      <td>0</td>\n",
       "      <td>0</td>\n",
       "      <td>0</td>\n",
       "      <td>0</td>\n",
       "      <td>0</td>\n",
       "      <td>0</td>\n",
       "      <td>0</td>\n",
       "      <td>0</td>\n",
       "    </tr>\n",
       "    <tr>\n",
       "      <th>17538</th>\n",
       "      <td>2021-12-29 23:00:00</td>\n",
       "      <td>BTCUSDT</td>\n",
       "      <td>47230.00</td>\n",
       "      <td>47230.00</td>\n",
       "      <td>47100.00</td>\n",
       "      <td>47178.33</td>\n",
       "      <td>245.95675</td>\n",
       "      <td>0.00</td>\n",
       "      <td>78.33</td>\n",
       "      <td>51.67</td>\n",
       "      <td>...</td>\n",
       "      <td>47311.812237</td>\n",
       "      <td>47448.334229</td>\n",
       "      <td>0</td>\n",
       "      <td>1</td>\n",
       "      <td>0</td>\n",
       "      <td>0</td>\n",
       "      <td>0</td>\n",
       "      <td>0</td>\n",
       "      <td>0</td>\n",
       "      <td>0</td>\n",
       "    </tr>\n",
       "    <tr>\n",
       "      <th>17539</th>\n",
       "      <td>2021-12-29 23:15:00</td>\n",
       "      <td>BTCUSDT</td>\n",
       "      <td>47178.34</td>\n",
       "      <td>47389.86</td>\n",
       "      <td>47177.22</td>\n",
       "      <td>47362.05</td>\n",
       "      <td>207.12594</td>\n",
       "      <td>27.81</td>\n",
       "      <td>1.12</td>\n",
       "      <td>183.71</td>\n",
       "      <td>...</td>\n",
       "      <td>47309.015380</td>\n",
       "      <td>47443.951623</td>\n",
       "      <td>0</td>\n",
       "      <td>0</td>\n",
       "      <td>0</td>\n",
       "      <td>0</td>\n",
       "      <td>0</td>\n",
       "      <td>0</td>\n",
       "      <td>0</td>\n",
       "      <td>0</td>\n",
       "    </tr>\n",
       "    <tr>\n",
       "      <th>17540</th>\n",
       "      <td>2021-12-29 23:30:00</td>\n",
       "      <td>BTCUSDT</td>\n",
       "      <td>47362.05</td>\n",
       "      <td>47488.38</td>\n",
       "      <td>47302.16</td>\n",
       "      <td>47428.74</td>\n",
       "      <td>197.95416</td>\n",
       "      <td>59.64</td>\n",
       "      <td>59.89</td>\n",
       "      <td>66.69</td>\n",
       "      <td>...</td>\n",
       "      <td>47313.812332</td>\n",
       "      <td>47441.901541</td>\n",
       "      <td>0</td>\n",
       "      <td>0</td>\n",
       "      <td>0</td>\n",
       "      <td>0</td>\n",
       "      <td>0</td>\n",
       "      <td>0</td>\n",
       "      <td>0</td>\n",
       "      <td>0</td>\n",
       "    </tr>\n",
       "    <tr>\n",
       "      <th>17541</th>\n",
       "      <td>2021-12-29 23:45:00</td>\n",
       "      <td>BTCUSDT</td>\n",
       "      <td>47428.76</td>\n",
       "      <td>47428.76</td>\n",
       "      <td>47182.52</td>\n",
       "      <td>47274.61</td>\n",
       "      <td>208.73972</td>\n",
       "      <td>0.00</td>\n",
       "      <td>92.09</td>\n",
       "      <td>154.15</td>\n",
       "      <td>...</td>\n",
       "      <td>47305.127332</td>\n",
       "      <td>47434.897229</td>\n",
       "      <td>0</td>\n",
       "      <td>0</td>\n",
       "      <td>0</td>\n",
       "      <td>0</td>\n",
       "      <td>0</td>\n",
       "      <td>0</td>\n",
       "      <td>0</td>\n",
       "      <td>-1</td>\n",
       "    </tr>\n",
       "  </tbody>\n",
       "</table>\n",
       "<p>5 rows × 26 columns</p>\n",
       "</div>"
      ],
      "text/plain": [
       "                      date      tic      open      high       low     close  \\\n",
       "17537  2021-12-29 22:45:00  BTCUSDT  47227.70  47272.99  47135.00  47230.00   \n",
       "17538  2021-12-29 23:00:00  BTCUSDT  47230.00  47230.00  47100.00  47178.33   \n",
       "17539  2021-12-29 23:15:00  BTCUSDT  47178.34  47389.86  47177.22  47362.05   \n",
       "17540  2021-12-29 23:30:00  BTCUSDT  47362.05  47488.38  47302.16  47428.74   \n",
       "17541  2021-12-29 23:45:00  BTCUSDT  47428.76  47428.76  47182.52  47274.61   \n",
       "\n",
       "          volume  upper_shadow  lower_shadow  real_body  ...         WMA20  \\\n",
       "17537  320.66696         42.99         92.70       2.30  ...  47334.396332   \n",
       "17538  245.95675          0.00         78.33      51.67  ...  47311.812237   \n",
       "17539  207.12594         27.81          1.12     183.71  ...  47309.015380   \n",
       "17540  197.95416         59.64         59.89      66.69  ...  47313.812332   \n",
       "17541  208.73972          0.00         92.09     154.15  ...  47305.127332   \n",
       "\n",
       "              WMA60  CDLINVERTEDHAMMER_NEW  CDLHAMMER_NEW  CDLMORNINGSTAR_NEW  \\\n",
       "17537  47458.996552                      0              0                   0   \n",
       "17538  47448.334229                      0              1                   0   \n",
       "17539  47443.951623                      0              0                   0   \n",
       "17540  47441.901541                      0              0                   0   \n",
       "17541  47434.897229                      0              0                   0   \n",
       "\n",
       "       CDLENGULFINGBULLISH_NEW  CDLSHOOTINGSTAR_NEW  CDLHANGINGMAN_NEW  \\\n",
       "17537                        0                    0                  0   \n",
       "17538                        0                    0                  0   \n",
       "17539                        0                    0                  0   \n",
       "17540                        0                    0                  0   \n",
       "17541                        0                    0                  0   \n",
       "\n",
       "       CDLEVENINGSTAR_NEW  CDLENGULFINGBEARISH_NEW  \n",
       "17537                   0                        0  \n",
       "17538                   0                        0  \n",
       "17539                   0                        0  \n",
       "17540                   0                        0  \n",
       "17541                   0                       -1  \n",
       "\n",
       "[5 rows x 26 columns]"
      ]
     },
     "execution_count": 26,
     "metadata": {},
     "output_type": "execute_result"
    }
   ],
   "source": [
    "trade.tail()"
   ]
  },
  {
   "cell_type": "code",
   "execution_count": 27,
   "metadata": {
    "colab": {
     "base_uri": "https://localhost:8080/"
    },
    "id": "zYN573SOHhxG",
    "outputId": "7f228183-abe3-4477-f574-3c9b25c62cd8"
   },
   "outputs": [],
   "source": [
    "#list_indicators = ['macd', 'boll_ub', 'boll_lb', 'rsi_30', 'cci_30', 'dx_30', 'close_30_sma', 'close_60_sma']\n",
    "list_indicators = ['upper_shadow', 'lower_shadow', 'real_body',\n",
    "        'MACD_12_26_9', 'BBANDS_U', 'BBANDS_M', 'BBANDS_L', 'RSI_14', 'CCI_14', 'WMA20', 'WMA60',\n",
    "        'CDLINVERTEDHAMMER_NEW', 'CDLHAMMER_NEW', 'CDLMORNINGSTAR_NEW', 'CDLENGULFINGBULLISH_NEW', \n",
    "        'CDLSHOOTINGSTAR_NEW', 'CDLHANGINGMAN_NEW', 'CDLEVENINGSTAR_NEW', 'CDLENGULFINGBEARISH_NEW']"
   ]
  },
  {
   "cell_type": "code",
   "execution_count": 28,
   "metadata": {
    "colab": {
     "base_uri": "https://localhost:8080/"
    },
    "id": "Q2zqII8rMIqn",
    "outputId": "1f54d044-e2d3-4a34-c041-e913d686654e"
   },
   "outputs": [
    {
     "name": "stdout",
     "output_type": "stream",
     "text": [
      "Stock Dimension: 1, State Space: 22\n"
     ]
    }
   ],
   "source": [
    "stock_dimension = len(train.tic.unique())\n",
    "state_space = 1 + 2 * stock_dimension + len(list_indicators) * stock_dimension\n",
    "print(f\"Stock Dimension: {stock_dimension}, State Space: {state_space}\")\n"
   ]
  },
  {
   "cell_type": "code",
   "execution_count": 29,
   "metadata": {
    "id": "AWyp84Ltto19"
   },
   "outputs": [],
   "source": [
    "env_kwargs = {\n",
    "    \"hmax\": 100, \n",
    "    \"initial_amount\" : 1000000,\n",
    "    \"num_stock_shares\": stock_dimension,\n",
    "    # buy and sell cost for each stock\n",
    "    \"buy_cost_pct\": [0.001] * stock_dimension,\n",
    "    \"sell_cost_pct\": [0.001] * stock_dimension,\n",
    "    \"state_space\": state_space, \n",
    "    \"stock_dim\": stock_dimension, \n",
    "    \"tech_indicator_list\": list_indicators, \n",
    "    \"action_space\": stock_dimension, \n",
    "    \"reward_scaling\": 1e-4\n",
    "    \n",
    "}\n",
    "\n",
    "e_train_gym = StockTradingEnv(df = train, **env_kwargs)"
   ]
  },
  {
   "cell_type": "code",
   "execution_count": 30,
   "metadata": {},
   "outputs": [
    {
     "name": "stdout",
     "output_type": "stream",
     "text": [
      "{'hmax': 100, 'initial_amount': 1000000, 'num_stock_shares': 1, 'buy_cost_pct': [0.001], 'sell_cost_pct': [0.001], 'state_space': 22, 'stock_dim': 1, 'tech_indicator_list': ['upper_shadow', 'lower_shadow', 'real_body', 'MACD_12_26_9', 'BBANDS_U', 'BBANDS_M', 'BBANDS_L', 'RSI_14', 'CCI_14', 'WMA20', 'WMA60', 'CDLINVERTEDHAMMER_NEW', 'CDLHAMMER_NEW', 'CDLMORNINGSTAR_NEW', 'CDLENGULFINGBULLISH_NEW', 'CDLSHOOTINGSTAR_NEW', 'CDLHANGINGMAN_NEW', 'CDLEVENINGSTAR_NEW', 'CDLENGULFINGBEARISH_NEW'], 'action_space': 1, 'reward_scaling': 0.0001}\n"
     ]
    }
   ],
   "source": [
    "print(env_kwargs)"
   ]
  },
  {
   "cell_type": "markdown",
   "metadata": {
    "id": "64EoqOrQjiVf"
   },
   "source": [
    "## Environment for Training\n",
    "\n"
   ]
  },
  {
   "cell_type": "code",
   "execution_count": 31,
   "metadata": {
    "colab": {
     "base_uri": "https://localhost:8080/"
    },
    "id": "xwSvvPjutpqS",
    "outputId": "deeaef07-afda-4ca1-fea8-99384224c7cf"
   },
   "outputs": [
    {
     "name": "stdout",
     "output_type": "stream",
     "text": [
      "<class 'stable_baselines3.common.vec_env.dummy_vec_env.DummyVecEnv'>\n"
     ]
    }
   ],
   "source": [
    "env_train, _ = e_train_gym.get_sb_env()\n",
    "print(type(env_train))"
   ]
  },
  {
   "cell_type": "markdown",
   "metadata": {
    "id": "HMNR5nHjh1iz"
   },
   "source": [
    "<a id='5'></a>\n",
    "# Part 6: Implement DRL Algorithms\n",
    "* The implementation of the DRL algorithms are based on **OpenAI Baselines** and **Stable Baselines**. Stable Baselines is a fork of OpenAI Baselines, with a major structural refactoring, and code cleanups.\n",
    "* FinRL library includes fine-tuned standard DRL algorithms, such as DQN, DDPG,\n",
    "Multi-Agent DDPG, PPO, SAC, A2C and TD3. We also allow users to\n",
    "design their own DRL algorithms by adapting these DRL algorithms."
   ]
  },
  {
   "cell_type": "code",
   "execution_count": 32,
   "metadata": {
    "id": "364PsqckttcQ"
   },
   "outputs": [],
   "source": [
    "agent = DRLAgent(env = env_train)"
   ]
  },
  {
   "cell_type": "markdown",
   "metadata": {
    "id": "YDmqOyF9h1iz"
   },
   "source": [
    "### Model Training: 5 models, A2C DDPG, PPO, TD3, SAC\n"
   ]
  },
  {
   "cell_type": "markdown",
   "metadata": {
    "id": "uijiWgkuh1jB"
   },
   "source": [
    "### Model 1: A2C\n"
   ]
  },
  {
   "cell_type": "code",
   "execution_count": null,
   "metadata": {
    "colab": {
     "base_uri": "https://localhost:8080/"
    },
    "id": "GUCnkn-HIbmj",
    "outputId": "a90a7a60-21a5-47e1-b683-1f7cbb4b8bc0"
   },
   "outputs": [],
   "source": [
    "agent = DRLAgent(env = env_train)\n",
    "model_a2c = agent.get_model(\"a2c\")"
   ]
  },
  {
   "cell_type": "code",
   "execution_count": null,
   "metadata": {
    "colab": {
     "base_uri": "https://localhost:8080/",
     "height": 1000
    },
    "id": "0GVpkWGqH4-D",
    "outputId": "570d540f-abe9-402b-e0cc-f9b007228e8e"
   },
   "outputs": [],
   "source": [
    "trained_a2c = agent.train_model(model=model_a2c, \n",
    "                             tb_log_name='a2c',\n",
    "                             total_timesteps=50000)"
   ]
  },
  {
   "cell_type": "code",
   "execution_count": null,
   "metadata": {},
   "outputs": [],
   "source": [
    "# full_path_export_model_a2c = '../models/finrl_stocktrading_neurips_2018_mod_a2c.pkl'\n",
    "\n",
    "# # Open a file and use dump()\n",
    "# with open(full_path_export_model_a2c, 'wb') as file:\n",
    "      \n",
    "#     # A new file will be created\n",
    "#     pickle.dump(trained_a2c, file, protocol=pickle.HIGHEST_PROTOCOL)"
   ]
  },
  {
   "cell_type": "markdown",
   "metadata": {
    "id": "MRiOtrywfAo1"
   },
   "source": [
    "### Model 2: DDPG"
   ]
  },
  {
   "cell_type": "code",
   "execution_count": null,
   "metadata": {
    "id": "M2YadjfnLwgt"
   },
   "outputs": [],
   "source": [
    "agent = DRLAgent(env = env_train)\n",
    "model_ddpg = agent.get_model(\"ddpg\")"
   ]
  },
  {
   "cell_type": "code",
   "execution_count": null,
   "metadata": {
    "id": "tCDa78rqfO_a",
    "jupyter": {
     "outputs_hidden": true
    }
   },
   "outputs": [],
   "source": [
    "trained_ddpg = agent.train_model(model=model_ddpg, \n",
    "                             tb_log_name='ddpg',\n",
    "                             total_timesteps=50000)"
   ]
  },
  {
   "cell_type": "code",
   "execution_count": null,
   "metadata": {},
   "outputs": [],
   "source": [
    "# full_path_export_model_ddpg = '../models/finrl_stocktrading_neurips_2018_mod_ddpg.pkl'\n",
    "\n",
    "# # Open a file and use dump()\n",
    "# with open(full_path_export_model_ddpg, 'wb') as file:\n",
    "      \n",
    "#     # A new file will be created\n",
    "#     pickle.dump(trained_ddpg, file)"
   ]
  },
  {
   "cell_type": "markdown",
   "metadata": {
    "id": "_gDkU-j-fCmZ"
   },
   "source": [
    "### Model 3: PPO"
   ]
  },
  {
   "cell_type": "code",
   "execution_count": null,
   "metadata": {
    "id": "y5D5PFUhMzSV"
   },
   "outputs": [],
   "source": [
    "agent = DRLAgent(env = env_train)\n",
    "PPO_PARAMS = {\n",
    "    \"n_steps\": 2048,\n",
    "    \"ent_coef\": 0.01,\n",
    "    \"learning_rate\": 0.00025,\n",
    "    \"batch_size\": 128,\n",
    "}\n",
    "model_ppo = agent.get_model(\"ppo\",model_kwargs = PPO_PARAMS)"
   ]
  },
  {
   "cell_type": "code",
   "execution_count": null,
   "metadata": {
    "id": "Gt8eIQKYM4G3",
    "jupyter": {
     "outputs_hidden": true
    }
   },
   "outputs": [],
   "source": [
    "trained_ppo = agent.train_model(model=model_ppo, \n",
    "                             tb_log_name='ppo',\n",
    "                             total_timesteps=50000)"
   ]
  },
  {
   "cell_type": "markdown",
   "metadata": {
    "id": "3Zpv4S0-fDBv"
   },
   "source": [
    "### Model 4: TD3"
   ]
  },
  {
   "cell_type": "code",
   "execution_count": null,
   "metadata": {
    "id": "JSAHhV4Xc-bh"
   },
   "outputs": [],
   "source": [
    "agent = DRLAgent(env = env_train)\n",
    "TD3_PARAMS = {\"batch_size\": 100, \n",
    "              \"buffer_size\": 1000000, \n",
    "              \"learning_rate\": 0.001}\n",
    "\n",
    "model_td3 = agent.get_model(\"td3\",model_kwargs = TD3_PARAMS)"
   ]
  },
  {
   "cell_type": "code",
   "execution_count": null,
   "metadata": {
    "id": "OSRxNYAxdKpU"
   },
   "outputs": [],
   "source": [
    "trained_td3 = agent.train_model(model=model_td3, \n",
    "                             tb_log_name='td3',\n",
    "                             total_timesteps=30000)"
   ]
  },
  {
   "cell_type": "markdown",
   "metadata": {
    "id": "Dr49PotrfG01"
   },
   "source": [
    "### Model 5: SAC"
   ]
  },
  {
   "cell_type": "code",
   "execution_count": 33,
   "metadata": {
    "id": "xwOhVjqRkCdM"
   },
   "outputs": [
    {
     "name": "stdout",
     "output_type": "stream",
     "text": [
      "{'batch_size': 128, 'buffer_size': 1000000, 'learning_rate': 0.0001, 'learning_starts': 100, 'ent_coef': 'auto_0.1'}\n",
      "Using cpu device\n"
     ]
    }
   ],
   "source": [
    "agent = DRLAgent(env = env_train)\n",
    "SAC_PARAMS = {\n",
    "    \"batch_size\": 128,\n",
    "    \"buffer_size\": 1000000,\n",
    "    \"learning_rate\": 0.0001,\n",
    "    \"learning_starts\": 100,\n",
    "    \"ent_coef\": \"auto_0.1\",\n",
    "}\n",
    "\n",
    "model_sac = agent.get_model(\"sac\",model_kwargs = SAC_PARAMS)"
   ]
  },
  {
   "cell_type": "code",
   "execution_count": 34,
   "metadata": {
    "id": "K8RSdKCckJyH"
   },
   "outputs": [],
   "source": [
    "trained_sac = agent.train_model(model=model_sac, \n",
    "                             tb_log_name='sac',\n",
    "                             total_timesteps=10000)"
   ]
  },
  {
   "cell_type": "markdown",
   "metadata": {
    "id": "f2wZgkQXh1jE"
   },
   "source": [
    "## Trading\n",
    "Assume that we have $1,000 initial capital at 2021-06-30. We use the DDPG model to trade Dow jones 30 stocks."
   ]
  },
  {
   "cell_type": "markdown",
   "metadata": {
    "id": "bEv5KGC8h1jE"
   },
   "source": [
    "### Set turbulence threshold\n",
    "Set the turbulence threshold to be greater than the maximum of insample turbulence data, if current turbulence index is greater than the threshold, then we assume that the current market is volatile"
   ]
  },
  {
   "cell_type": "code",
   "execution_count": 35,
   "metadata": {},
   "outputs": [
    {
     "data": {
      "text/html": [
       "<div>\n",
       "<style scoped>\n",
       "    .dataframe tbody tr th:only-of-type {\n",
       "        vertical-align: middle;\n",
       "    }\n",
       "\n",
       "    .dataframe tbody tr th {\n",
       "        vertical-align: top;\n",
       "    }\n",
       "\n",
       "    .dataframe thead th {\n",
       "        text-align: right;\n",
       "    }\n",
       "</style>\n",
       "<table border=\"1\" class=\"dataframe\">\n",
       "  <thead>\n",
       "    <tr style=\"text-align: right;\">\n",
       "      <th></th>\n",
       "      <th>date</th>\n",
       "      <th>tic</th>\n",
       "      <th>open</th>\n",
       "      <th>high</th>\n",
       "      <th>low</th>\n",
       "      <th>close</th>\n",
       "      <th>volume</th>\n",
       "      <th>upper_shadow</th>\n",
       "      <th>lower_shadow</th>\n",
       "      <th>real_body</th>\n",
       "      <th>...</th>\n",
       "      <th>WMA20</th>\n",
       "      <th>WMA60</th>\n",
       "      <th>CDLINVERTEDHAMMER_NEW</th>\n",
       "      <th>CDLHAMMER_NEW</th>\n",
       "      <th>CDLMORNINGSTAR_NEW</th>\n",
       "      <th>CDLENGULFINGBULLISH_NEW</th>\n",
       "      <th>CDLSHOOTINGSTAR_NEW</th>\n",
       "      <th>CDLHANGINGMAN_NEW</th>\n",
       "      <th>CDLEVENINGSTAR_NEW</th>\n",
       "      <th>CDLENGULFINGBEARISH_NEW</th>\n",
       "    </tr>\n",
       "  </thead>\n",
       "  <tbody>\n",
       "    <tr>\n",
       "      <th>0</th>\n",
       "      <td>2020-01-02 07:00:00</td>\n",
       "      <td>BTCUSDT</td>\n",
       "      <td>7138.93</td>\n",
       "      <td>7144.98</td>\n",
       "      <td>7135.00</td>\n",
       "      <td>7138.90</td>\n",
       "      <td>154.330095</td>\n",
       "      <td>6.05</td>\n",
       "      <td>3.90</td>\n",
       "      <td>0.03</td>\n",
       "      <td>...</td>\n",
       "      <td>7147.086143</td>\n",
       "      <td>7182.061661</td>\n",
       "      <td>0</td>\n",
       "      <td>0</td>\n",
       "      <td>0</td>\n",
       "      <td>0</td>\n",
       "      <td>0</td>\n",
       "      <td>0</td>\n",
       "      <td>0</td>\n",
       "      <td>0</td>\n",
       "    </tr>\n",
       "    <tr>\n",
       "      <th>1</th>\n",
       "      <td>2020-01-02 07:15:00</td>\n",
       "      <td>BTCUSDT</td>\n",
       "      <td>7138.90</td>\n",
       "      <td>7149.00</td>\n",
       "      <td>7138.50</td>\n",
       "      <td>7146.58</td>\n",
       "      <td>178.369024</td>\n",
       "      <td>2.42</td>\n",
       "      <td>0.40</td>\n",
       "      <td>7.68</td>\n",
       "      <td>...</td>\n",
       "      <td>7146.188286</td>\n",
       "      <td>7180.275464</td>\n",
       "      <td>0</td>\n",
       "      <td>0</td>\n",
       "      <td>0</td>\n",
       "      <td>0</td>\n",
       "      <td>0</td>\n",
       "      <td>0</td>\n",
       "      <td>0</td>\n",
       "      <td>0</td>\n",
       "    </tr>\n",
       "    <tr>\n",
       "      <th>2</th>\n",
       "      <td>2020-01-02 07:30:00</td>\n",
       "      <td>BTCUSDT</td>\n",
       "      <td>7145.96</td>\n",
       "      <td>7149.02</td>\n",
       "      <td>7136.41</td>\n",
       "      <td>7136.81</td>\n",
       "      <td>142.773244</td>\n",
       "      <td>3.06</td>\n",
       "      <td>0.40</td>\n",
       "      <td>9.15</td>\n",
       "      <td>...</td>\n",
       "      <td>7144.567571</td>\n",
       "      <td>7178.213503</td>\n",
       "      <td>0</td>\n",
       "      <td>0</td>\n",
       "      <td>0</td>\n",
       "      <td>0</td>\n",
       "      <td>0</td>\n",
       "      <td>0</td>\n",
       "      <td>0</td>\n",
       "      <td>0</td>\n",
       "    </tr>\n",
       "    <tr>\n",
       "      <th>3</th>\n",
       "      <td>2020-01-02 07:45:00</td>\n",
       "      <td>BTCUSDT</td>\n",
       "      <td>7136.42</td>\n",
       "      <td>7139.14</td>\n",
       "      <td>7121.43</td>\n",
       "      <td>7135.97</td>\n",
       "      <td>212.128302</td>\n",
       "      <td>2.72</td>\n",
       "      <td>14.54</td>\n",
       "      <td>0.45</td>\n",
       "      <td>...</td>\n",
       "      <td>7143.119000</td>\n",
       "      <td>7176.178202</td>\n",
       "      <td>0</td>\n",
       "      <td>0</td>\n",
       "      <td>0</td>\n",
       "      <td>0</td>\n",
       "      <td>0</td>\n",
       "      <td>0</td>\n",
       "      <td>0</td>\n",
       "      <td>0</td>\n",
       "    </tr>\n",
       "    <tr>\n",
       "      <th>4</th>\n",
       "      <td>2020-01-02 08:00:00</td>\n",
       "      <td>BTCUSDT</td>\n",
       "      <td>7136.04</td>\n",
       "      <td>7140.63</td>\n",
       "      <td>7121.01</td>\n",
       "      <td>7125.26</td>\n",
       "      <td>243.045551</td>\n",
       "      <td>4.59</td>\n",
       "      <td>4.25</td>\n",
       "      <td>10.78</td>\n",
       "      <td>...</td>\n",
       "      <td>7140.912429</td>\n",
       "      <td>7173.845426</td>\n",
       "      <td>0</td>\n",
       "      <td>0</td>\n",
       "      <td>0</td>\n",
       "      <td>0</td>\n",
       "      <td>0</td>\n",
       "      <td>0</td>\n",
       "      <td>0</td>\n",
       "      <td>0</td>\n",
       "    </tr>\n",
       "  </tbody>\n",
       "</table>\n",
       "<p>5 rows × 26 columns</p>\n",
       "</div>"
      ],
      "text/plain": [
       "                  date      tic     open     high      low    close  \\\n",
       "0  2020-01-02 07:00:00  BTCUSDT  7138.93  7144.98  7135.00  7138.90   \n",
       "1  2020-01-02 07:15:00  BTCUSDT  7138.90  7149.00  7138.50  7146.58   \n",
       "2  2020-01-02 07:30:00  BTCUSDT  7145.96  7149.02  7136.41  7136.81   \n",
       "3  2020-01-02 07:45:00  BTCUSDT  7136.42  7139.14  7121.43  7135.97   \n",
       "4  2020-01-02 08:00:00  BTCUSDT  7136.04  7140.63  7121.01  7125.26   \n",
       "\n",
       "       volume  upper_shadow  lower_shadow  real_body  ...        WMA20  \\\n",
       "0  154.330095          6.05          3.90       0.03  ...  7147.086143   \n",
       "1  178.369024          2.42          0.40       7.68  ...  7146.188286   \n",
       "2  142.773244          3.06          0.40       9.15  ...  7144.567571   \n",
       "3  212.128302          2.72         14.54       0.45  ...  7143.119000   \n",
       "4  243.045551          4.59          4.25      10.78  ...  7140.912429   \n",
       "\n",
       "         WMA60  CDLINVERTEDHAMMER_NEW  CDLHAMMER_NEW  CDLMORNINGSTAR_NEW  \\\n",
       "0  7182.061661                      0              0                   0   \n",
       "1  7180.275464                      0              0                   0   \n",
       "2  7178.213503                      0              0                   0   \n",
       "3  7176.178202                      0              0                   0   \n",
       "4  7173.845426                      0              0                   0   \n",
       "\n",
       "   CDLENGULFINGBULLISH_NEW  CDLSHOOTINGSTAR_NEW  CDLHANGINGMAN_NEW  \\\n",
       "0                        0                    0                  0   \n",
       "1                        0                    0                  0   \n",
       "2                        0                    0                  0   \n",
       "3                        0                    0                  0   \n",
       "4                        0                    0                  0   \n",
       "\n",
       "   CDLEVENINGSTAR_NEW  CDLENGULFINGBEARISH_NEW  \n",
       "0                   0                        0  \n",
       "1                   0                        0  \n",
       "2                   0                        0  \n",
       "3                   0                        0  \n",
       "4                   0                        0  \n",
       "\n",
       "[5 rows x 26 columns]"
      ]
     },
     "execution_count": 35,
     "metadata": {},
     "output_type": "execute_result"
    }
   ],
   "source": [
    "processed.head()"
   ]
  },
  {
   "cell_type": "code",
   "execution_count": 36,
   "metadata": {
    "id": "efwBi84ch1jE"
   },
   "outputs": [],
   "source": [
    "#data_risk_indicator = processed[(processed.date<'2021-07-01') & (processed.date>='2020-01-01')]\n",
    "#insample_risk_indicator = data_risk_indicator.drop_duplicates(subset=['date'])"
   ]
  },
  {
   "cell_type": "markdown",
   "metadata": {
    "id": "U5mmgQF_h1jQ"
   },
   "source": [
    "### Trade\n",
    "\n",
    "DRL model needs to update periodically in order to take full advantage of the data, ideally we need to retrain our model yearly, quarterly, or monthly. We also need to tune the parameters along the way, in this notebook I only use the in-sample data from 2009-01 to 2020-07 to tune the parameters once, so there is some alpha decay here as the length of trade date extends. \n",
    "\n",
    "Numerous hyperparameters – e.g. the learning rate, the total number of samples to train on – influence the learning process and are usually determined by testing some variations."
   ]
  },
  {
   "cell_type": "code",
   "execution_count": 37,
   "metadata": {
    "id": "cIqoV0GSI52v"
   },
   "outputs": [],
   "source": [
    "# e_trade_gym = StockTradingEnv(df = trade, turbulence_threshold = 70,risk_indicator_col='vix', **env_kwargs)\n",
    "e_trade_gym = StockTradingEnv(df = trade, **env_kwargs)"
   ]
  },
  {
   "cell_type": "code",
   "execution_count": 38,
   "metadata": {
    "id": "W_XNgGsBMeVw"
   },
   "outputs": [
    {
     "data": {
      "text/html": [
       "<div>\n",
       "<style scoped>\n",
       "    .dataframe tbody tr th:only-of-type {\n",
       "        vertical-align: middle;\n",
       "    }\n",
       "\n",
       "    .dataframe tbody tr th {\n",
       "        vertical-align: top;\n",
       "    }\n",
       "\n",
       "    .dataframe thead th {\n",
       "        text-align: right;\n",
       "    }\n",
       "</style>\n",
       "<table border=\"1\" class=\"dataframe\">\n",
       "  <thead>\n",
       "    <tr style=\"text-align: right;\">\n",
       "      <th></th>\n",
       "      <th>date</th>\n",
       "      <th>tic</th>\n",
       "      <th>open</th>\n",
       "      <th>high</th>\n",
       "      <th>low</th>\n",
       "      <th>close</th>\n",
       "      <th>volume</th>\n",
       "      <th>upper_shadow</th>\n",
       "      <th>lower_shadow</th>\n",
       "      <th>real_body</th>\n",
       "      <th>...</th>\n",
       "      <th>WMA20</th>\n",
       "      <th>WMA60</th>\n",
       "      <th>CDLINVERTEDHAMMER_NEW</th>\n",
       "      <th>CDLHAMMER_NEW</th>\n",
       "      <th>CDLMORNINGSTAR_NEW</th>\n",
       "      <th>CDLENGULFINGBULLISH_NEW</th>\n",
       "      <th>CDLSHOOTINGSTAR_NEW</th>\n",
       "      <th>CDLHANGINGMAN_NEW</th>\n",
       "      <th>CDLEVENINGSTAR_NEW</th>\n",
       "      <th>CDLENGULFINGBEARISH_NEW</th>\n",
       "    </tr>\n",
       "  </thead>\n",
       "  <tbody>\n",
       "    <tr>\n",
       "      <th>0</th>\n",
       "      <td>2021-06-30 00:00:00</td>\n",
       "      <td>BTCUSDT</td>\n",
       "      <td>36240.01</td>\n",
       "      <td>36268.96</td>\n",
       "      <td>35963.01</td>\n",
       "      <td>36008.22</td>\n",
       "      <td>800.673290</td>\n",
       "      <td>28.95</td>\n",
       "      <td>45.21</td>\n",
       "      <td>231.79</td>\n",
       "      <td>...</td>\n",
       "      <td>36236.966238</td>\n",
       "      <td>36145.051464</td>\n",
       "      <td>0</td>\n",
       "      <td>0</td>\n",
       "      <td>0</td>\n",
       "      <td>0</td>\n",
       "      <td>0</td>\n",
       "      <td>0</td>\n",
       "      <td>0</td>\n",
       "      <td>0</td>\n",
       "    </tr>\n",
       "    <tr>\n",
       "      <th>1</th>\n",
       "      <td>2021-06-30 00:15:00</td>\n",
       "      <td>BTCUSDT</td>\n",
       "      <td>36008.23</td>\n",
       "      <td>36089.33</td>\n",
       "      <td>35700.01</td>\n",
       "      <td>35757.27</td>\n",
       "      <td>1524.930157</td>\n",
       "      <td>81.10</td>\n",
       "      <td>57.26</td>\n",
       "      <td>250.96</td>\n",
       "      <td>...</td>\n",
       "      <td>36188.155381</td>\n",
       "      <td>36140.125410</td>\n",
       "      <td>0</td>\n",
       "      <td>0</td>\n",
       "      <td>0</td>\n",
       "      <td>0</td>\n",
       "      <td>0</td>\n",
       "      <td>0</td>\n",
       "      <td>0</td>\n",
       "      <td>0</td>\n",
       "    </tr>\n",
       "    <tr>\n",
       "      <th>2</th>\n",
       "      <td>2021-06-30 00:30:00</td>\n",
       "      <td>BTCUSDT</td>\n",
       "      <td>35757.27</td>\n",
       "      <td>35973.79</td>\n",
       "      <td>35753.42</td>\n",
       "      <td>35944.57</td>\n",
       "      <td>930.759811</td>\n",
       "      <td>29.22</td>\n",
       "      <td>3.85</td>\n",
       "      <td>187.30</td>\n",
       "      <td>...</td>\n",
       "      <td>36160.266714</td>\n",
       "      <td>36141.047115</td>\n",
       "      <td>0</td>\n",
       "      <td>0</td>\n",
       "      <td>0</td>\n",
       "      <td>0</td>\n",
       "      <td>0</td>\n",
       "      <td>0</td>\n",
       "      <td>0</td>\n",
       "      <td>0</td>\n",
       "    </tr>\n",
       "    <tr>\n",
       "      <th>3</th>\n",
       "      <td>2021-06-30 00:45:00</td>\n",
       "      <td>BTCUSDT</td>\n",
       "      <td>35944.57</td>\n",
       "      <td>36189.81</td>\n",
       "      <td>35925.00</td>\n",
       "      <td>35925.00</td>\n",
       "      <td>654.603595</td>\n",
       "      <td>245.24</td>\n",
       "      <td>0.00</td>\n",
       "      <td>19.57</td>\n",
       "      <td>...</td>\n",
       "      <td>36132.492904</td>\n",
       "      <td>36140.838628</td>\n",
       "      <td>0</td>\n",
       "      <td>0</td>\n",
       "      <td>0</td>\n",
       "      <td>0</td>\n",
       "      <td>0</td>\n",
       "      <td>0</td>\n",
       "      <td>0</td>\n",
       "      <td>0</td>\n",
       "    </tr>\n",
       "    <tr>\n",
       "      <th>4</th>\n",
       "      <td>2021-06-30 01:00:00</td>\n",
       "      <td>BTCUSDT</td>\n",
       "      <td>35924.99</td>\n",
       "      <td>36050.00</td>\n",
       "      <td>35862.16</td>\n",
       "      <td>35862.17</td>\n",
       "      <td>610.343883</td>\n",
       "      <td>125.01</td>\n",
       "      <td>0.01</td>\n",
       "      <td>62.82</td>\n",
       "      <td>...</td>\n",
       "      <td>36100.855285</td>\n",
       "      <td>36137.982311</td>\n",
       "      <td>0</td>\n",
       "      <td>0</td>\n",
       "      <td>0</td>\n",
       "      <td>0</td>\n",
       "      <td>0</td>\n",
       "      <td>0</td>\n",
       "      <td>0</td>\n",
       "      <td>0</td>\n",
       "    </tr>\n",
       "  </tbody>\n",
       "</table>\n",
       "<p>5 rows × 26 columns</p>\n",
       "</div>"
      ],
      "text/plain": [
       "                  date      tic      open      high       low     close  \\\n",
       "0  2021-06-30 00:00:00  BTCUSDT  36240.01  36268.96  35963.01  36008.22   \n",
       "1  2021-06-30 00:15:00  BTCUSDT  36008.23  36089.33  35700.01  35757.27   \n",
       "2  2021-06-30 00:30:00  BTCUSDT  35757.27  35973.79  35753.42  35944.57   \n",
       "3  2021-06-30 00:45:00  BTCUSDT  35944.57  36189.81  35925.00  35925.00   \n",
       "4  2021-06-30 01:00:00  BTCUSDT  35924.99  36050.00  35862.16  35862.17   \n",
       "\n",
       "        volume  upper_shadow  lower_shadow  real_body  ...         WMA20  \\\n",
       "0   800.673290         28.95         45.21     231.79  ...  36236.966238   \n",
       "1  1524.930157         81.10         57.26     250.96  ...  36188.155381   \n",
       "2   930.759811         29.22          3.85     187.30  ...  36160.266714   \n",
       "3   654.603595        245.24          0.00      19.57  ...  36132.492904   \n",
       "4   610.343883        125.01          0.01      62.82  ...  36100.855285   \n",
       "\n",
       "          WMA60  CDLINVERTEDHAMMER_NEW  CDLHAMMER_NEW  CDLMORNINGSTAR_NEW  \\\n",
       "0  36145.051464                      0              0                   0   \n",
       "1  36140.125410                      0              0                   0   \n",
       "2  36141.047115                      0              0                   0   \n",
       "3  36140.838628                      0              0                   0   \n",
       "4  36137.982311                      0              0                   0   \n",
       "\n",
       "   CDLENGULFINGBULLISH_NEW  CDLSHOOTINGSTAR_NEW  CDLHANGINGMAN_NEW  \\\n",
       "0                        0                    0                  0   \n",
       "1                        0                    0                  0   \n",
       "2                        0                    0                  0   \n",
       "3                        0                    0                  0   \n",
       "4                        0                    0                  0   \n",
       "\n",
       "   CDLEVENINGSTAR_NEW  CDLENGULFINGBEARISH_NEW  \n",
       "0                   0                        0  \n",
       "1                   0                        0  \n",
       "2                   0                        0  \n",
       "3                   0                        0  \n",
       "4                   0                        0  \n",
       "\n",
       "[5 rows x 26 columns]"
      ]
     },
     "execution_count": 38,
     "metadata": {},
     "output_type": "execute_result"
    }
   ],
   "source": [
    "trade.head()"
   ]
  },
  {
   "cell_type": "code",
   "execution_count": 39,
   "metadata": {
    "id": "eLOnL5eYh1jR"
   },
   "outputs": [
    {
     "name": "stdout",
     "output_type": "stream",
     "text": [
      "hit end!\n"
     ]
    }
   ],
   "source": [
    "df_account_value, df_actions = DRLAgent.DRL_prediction(\n",
    "    model=trained_sac, \n",
    "    environment = e_trade_gym)"
   ]
  },
  {
   "cell_type": "code",
   "execution_count": 40,
   "metadata": {
    "id": "ERxw3KqLkcP4"
   },
   "outputs": [
    {
     "data": {
      "text/plain": [
       "(17542, 2)"
      ]
     },
     "execution_count": 40,
     "metadata": {},
     "output_type": "execute_result"
    }
   ],
   "source": [
    "df_account_value.shape"
   ]
  },
  {
   "cell_type": "code",
   "execution_count": 41,
   "metadata": {
    "id": "2yRkNguY5yvp"
   },
   "outputs": [
    {
     "data": {
      "text/html": [
       "<div>\n",
       "<style scoped>\n",
       "    .dataframe tbody tr th:only-of-type {\n",
       "        vertical-align: middle;\n",
       "    }\n",
       "\n",
       "    .dataframe tbody tr th {\n",
       "        vertical-align: top;\n",
       "    }\n",
       "\n",
       "    .dataframe thead th {\n",
       "        text-align: right;\n",
       "    }\n",
       "</style>\n",
       "<table border=\"1\" class=\"dataframe\">\n",
       "  <thead>\n",
       "    <tr style=\"text-align: right;\">\n",
       "      <th></th>\n",
       "      <th>date</th>\n",
       "      <th>account_value</th>\n",
       "    </tr>\n",
       "  </thead>\n",
       "  <tbody>\n",
       "    <tr>\n",
       "      <th>0</th>\n",
       "      <td>2021-06-30 00:00:00</td>\n",
       "      <td>1.036008e+06</td>\n",
       "    </tr>\n",
       "    <tr>\n",
       "      <th>1</th>\n",
       "      <td>2021-06-30 00:15:00</td>\n",
       "      <td>9.920387e+05</td>\n",
       "    </tr>\n",
       "    <tr>\n",
       "      <th>2</th>\n",
       "      <td>2021-06-30 00:30:00</td>\n",
       "      <td>9.972351e+05</td>\n",
       "    </tr>\n",
       "    <tr>\n",
       "      <th>3</th>\n",
       "      <td>2021-06-30 00:45:00</td>\n",
       "      <td>9.966922e+05</td>\n",
       "    </tr>\n",
       "    <tr>\n",
       "      <th>4</th>\n",
       "      <td>2021-06-30 01:00:00</td>\n",
       "      <td>9.949490e+05</td>\n",
       "    </tr>\n",
       "  </tbody>\n",
       "</table>\n",
       "</div>"
      ],
      "text/plain": [
       "                  date  account_value\n",
       "0  2021-06-30 00:00:00   1.036008e+06\n",
       "1  2021-06-30 00:15:00   9.920387e+05\n",
       "2  2021-06-30 00:30:00   9.972351e+05\n",
       "3  2021-06-30 00:45:00   9.966922e+05\n",
       "4  2021-06-30 01:00:00   9.949490e+05"
      ]
     },
     "execution_count": 41,
     "metadata": {},
     "output_type": "execute_result"
    }
   ],
   "source": [
    "df_account_value.head()"
   ]
  },
  {
   "cell_type": "code",
   "execution_count": 42,
   "metadata": {},
   "outputs": [
    {
     "data": {
      "text/html": [
       "<div>\n",
       "<style scoped>\n",
       "    .dataframe tbody tr th:only-of-type {\n",
       "        vertical-align: middle;\n",
       "    }\n",
       "\n",
       "    .dataframe tbody tr th {\n",
       "        vertical-align: top;\n",
       "    }\n",
       "\n",
       "    .dataframe thead th {\n",
       "        text-align: right;\n",
       "    }\n",
       "</style>\n",
       "<table border=\"1\" class=\"dataframe\">\n",
       "  <thead>\n",
       "    <tr style=\"text-align: right;\">\n",
       "      <th></th>\n",
       "      <th>date</th>\n",
       "      <th>account_value</th>\n",
       "    </tr>\n",
       "  </thead>\n",
       "  <tbody>\n",
       "    <tr>\n",
       "      <th>17537</th>\n",
       "      <td>2021-12-29 22:45:00</td>\n",
       "      <td>1.310335e+06</td>\n",
       "    </tr>\n",
       "    <tr>\n",
       "      <th>17538</th>\n",
       "      <td>2021-12-29 23:00:00</td>\n",
       "      <td>1.308901e+06</td>\n",
       "    </tr>\n",
       "    <tr>\n",
       "      <th>17539</th>\n",
       "      <td>2021-12-29 23:15:00</td>\n",
       "      <td>1.313998e+06</td>\n",
       "    </tr>\n",
       "    <tr>\n",
       "      <th>17540</th>\n",
       "      <td>2021-12-29 23:30:00</td>\n",
       "      <td>1.315848e+06</td>\n",
       "    </tr>\n",
       "    <tr>\n",
       "      <th>17541</th>\n",
       "      <td>2021-12-29 23:45:00</td>\n",
       "      <td>1.311572e+06</td>\n",
       "    </tr>\n",
       "  </tbody>\n",
       "</table>\n",
       "</div>"
      ],
      "text/plain": [
       "                      date  account_value\n",
       "17537  2021-12-29 22:45:00   1.310335e+06\n",
       "17538  2021-12-29 23:00:00   1.308901e+06\n",
       "17539  2021-12-29 23:15:00   1.313998e+06\n",
       "17540  2021-12-29 23:30:00   1.315848e+06\n",
       "17541  2021-12-29 23:45:00   1.311572e+06"
      ]
     },
     "execution_count": 42,
     "metadata": {},
     "output_type": "execute_result"
    }
   ],
   "source": [
    "df_account_value.tail()"
   ]
  },
  {
   "cell_type": "code",
   "execution_count": 43,
   "metadata": {},
   "outputs": [
    {
     "name": "stdout",
     "output_type": "stream",
     "text": [
      "<class 'pandas.core.frame.DataFrame'>\n",
      "RangeIndex: 17542 entries, 0 to 17541\n",
      "Data columns (total 2 columns):\n",
      " #   Column         Non-Null Count  Dtype  \n",
      "---  ------         --------------  -----  \n",
      " 0   date           17542 non-null  object \n",
      " 1   account_value  17542 non-null  float64\n",
      "dtypes: float64(1), object(1)\n",
      "memory usage: 274.2+ KB\n"
     ]
    }
   ],
   "source": [
    "df_account_value.info()"
   ]
  },
  {
   "cell_type": "code",
   "execution_count": 44,
   "metadata": {
    "id": "nFlK5hNbWVFk"
   },
   "outputs": [
    {
     "data": {
      "text/html": [
       "<div>\n",
       "<style scoped>\n",
       "    .dataframe tbody tr th:only-of-type {\n",
       "        vertical-align: middle;\n",
       "    }\n",
       "\n",
       "    .dataframe tbody tr th {\n",
       "        vertical-align: top;\n",
       "    }\n",
       "\n",
       "    .dataframe thead th {\n",
       "        text-align: right;\n",
       "    }\n",
       "</style>\n",
       "<table border=\"1\" class=\"dataframe\">\n",
       "  <thead>\n",
       "    <tr style=\"text-align: right;\">\n",
       "      <th></th>\n",
       "      <th>date</th>\n",
       "      <th>actions</th>\n",
       "    </tr>\n",
       "  </thead>\n",
       "  <tbody>\n",
       "    <tr>\n",
       "      <th>0</th>\n",
       "      <td>2021-06-30 00:00:00</td>\n",
       "      <td>[27]</td>\n",
       "    </tr>\n",
       "    <tr>\n",
       "      <th>1</th>\n",
       "      <td>2021-06-30 00:15:00</td>\n",
       "      <td>[0]</td>\n",
       "    </tr>\n",
       "    <tr>\n",
       "      <th>2</th>\n",
       "      <td>2021-06-30 00:30:00</td>\n",
       "      <td>[0]</td>\n",
       "    </tr>\n",
       "    <tr>\n",
       "      <th>3</th>\n",
       "      <td>2021-06-30 00:45:00</td>\n",
       "      <td>[0]</td>\n",
       "    </tr>\n",
       "    <tr>\n",
       "      <th>4</th>\n",
       "      <td>2021-06-30 01:00:00</td>\n",
       "      <td>[0]</td>\n",
       "    </tr>\n",
       "  </tbody>\n",
       "</table>\n",
       "</div>"
      ],
      "text/plain": [
       "                  date actions\n",
       "0  2021-06-30 00:00:00    [27]\n",
       "1  2021-06-30 00:15:00     [0]\n",
       "2  2021-06-30 00:30:00     [0]\n",
       "3  2021-06-30 00:45:00     [0]\n",
       "4  2021-06-30 01:00:00     [0]"
      ]
     },
     "execution_count": 44,
     "metadata": {},
     "output_type": "execute_result"
    }
   ],
   "source": [
    "df_actions.head()"
   ]
  },
  {
   "cell_type": "code",
   "execution_count": 45,
   "metadata": {},
   "outputs": [
    {
     "data": {
      "text/html": [
       "<div>\n",
       "<style scoped>\n",
       "    .dataframe tbody tr th:only-of-type {\n",
       "        vertical-align: middle;\n",
       "    }\n",
       "\n",
       "    .dataframe tbody tr th {\n",
       "        vertical-align: top;\n",
       "    }\n",
       "\n",
       "    .dataframe thead th {\n",
       "        text-align: right;\n",
       "    }\n",
       "</style>\n",
       "<table border=\"1\" class=\"dataframe\">\n",
       "  <thead>\n",
       "    <tr style=\"text-align: right;\">\n",
       "      <th></th>\n",
       "      <th>date</th>\n",
       "      <th>actions</th>\n",
       "    </tr>\n",
       "  </thead>\n",
       "  <tbody>\n",
       "    <tr>\n",
       "      <th>17536</th>\n",
       "      <td>2021-12-29 22:30:00</td>\n",
       "      <td>[0]</td>\n",
       "    </tr>\n",
       "    <tr>\n",
       "      <th>17537</th>\n",
       "      <td>2021-12-29 22:45:00</td>\n",
       "      <td>[0]</td>\n",
       "    </tr>\n",
       "    <tr>\n",
       "      <th>17538</th>\n",
       "      <td>2021-12-29 23:00:00</td>\n",
       "      <td>[0]</td>\n",
       "    </tr>\n",
       "    <tr>\n",
       "      <th>17539</th>\n",
       "      <td>2021-12-29 23:15:00</td>\n",
       "      <td>[0]</td>\n",
       "    </tr>\n",
       "    <tr>\n",
       "      <th>17540</th>\n",
       "      <td>2021-12-29 23:30:00</td>\n",
       "      <td>[0]</td>\n",
       "    </tr>\n",
       "  </tbody>\n",
       "</table>\n",
       "</div>"
      ],
      "text/plain": [
       "                      date actions\n",
       "17536  2021-12-29 22:30:00     [0]\n",
       "17537  2021-12-29 22:45:00     [0]\n",
       "17538  2021-12-29 23:00:00     [0]\n",
       "17539  2021-12-29 23:15:00     [0]\n",
       "17540  2021-12-29 23:30:00     [0]"
      ]
     },
     "execution_count": 45,
     "metadata": {},
     "output_type": "execute_result"
    }
   ],
   "source": [
    "df_actions.tail()"
   ]
  },
  {
   "cell_type": "code",
   "execution_count": 46,
   "metadata": {},
   "outputs": [
    {
     "name": "stdout",
     "output_type": "stream",
     "text": [
      "<class 'pandas.core.frame.DataFrame'>\n",
      "RangeIndex: 17541 entries, 0 to 17540\n",
      "Data columns (total 2 columns):\n",
      " #   Column   Non-Null Count  Dtype \n",
      "---  ------   --------------  ----- \n",
      " 0   date     17541 non-null  object\n",
      " 1   actions  17541 non-null  object\n",
      "dtypes: object(2)\n",
      "memory usage: 274.2+ KB\n"
     ]
    }
   ],
   "source": [
    "df_actions.info()"
   ]
  },
  {
   "cell_type": "markdown",
   "metadata": {
    "id": "W6vvNSC6h1jZ"
   },
   "source": [
    "<a id='6'></a>\n",
    "# Part 7: Backtest Our Strategy\n",
    "Backtesting plays a key role in evaluating the performance of a trading strategy. Automated backtesting tool is preferred because it reduces the human error. We usually use the Quantopian pyfolio package to backtest our trading strategies. It is easy to use and consists of various individual plots that provide a comprehensive image of the performance of a trading strategy."
   ]
  },
  {
   "cell_type": "markdown",
   "metadata": {
    "id": "Lr2zX7ZxNyFQ"
   },
   "source": [
    "<a id='6.1'></a>\n",
    "## 7.1 BackTestStats\n",
    "pass in df_account_value, this information is stored in env class\n"
   ]
  },
  {
   "cell_type": "code",
   "execution_count": 47,
   "metadata": {
    "id": "Nzkr9yv-AdV_"
   },
   "outputs": [
    {
     "name": "stdout",
     "output_type": "stream",
     "text": [
      "==============Get Backtest Results===========\n",
      "Annual return          0.003394\n",
      "Cumulative returns     0.265986\n",
      "Annual volatility      0.057165\n",
      "Sharpe ratio           0.087883\n",
      "Calmar ratio           0.010070\n",
      "Stability              0.535850\n",
      "Max drawdown          -0.337017\n",
      "Omega ratio            1.016425\n",
      "Sortino ratio          0.125005\n",
      "Skew                        NaN\n",
      "Kurtosis                    NaN\n",
      "Tail ratio             1.034809\n",
      "Daily value at risk   -0.007182\n",
      "dtype: float64\n"
     ]
    },
    {
     "name": "stderr",
     "output_type": "stream",
     "text": [
      "/opt/homebrew/Caskroom/miniforge/base/envs/msc_uol_ai_dissertation/lib/python3.8/site-packages/pyfolio/timeseries.py:724: FutureWarning: The default dtype for empty Series will be 'object' instead of 'float64' in a future version. Specify a dtype explicitly to silence this warning.\n",
      "  stats = pd.Series()\n"
     ]
    }
   ],
   "source": [
    "print(\"==============Get Backtest Results===========\")\n",
    "now = datetime.datetime.now().strftime('%Y%m%d-%Hh%M')\n",
    "\n",
    "perf_stats_all = backtest_stats(account_value=df_account_value)\n",
    "perf_stats_all = pd.DataFrame(perf_stats_all)\n",
    "perf_stats_all.to_csv(\"results/perf_stats_all_\"+now+'.csv')"
   ]
  },
  {
   "cell_type": "code",
   "execution_count": 48,
   "metadata": {
    "id": "QkV-LB66iwhD"
   },
   "outputs": [
    {
     "data": {
      "text/html": [
       "<div>\n",
       "<style scoped>\n",
       "    .dataframe tbody tr th:only-of-type {\n",
       "        vertical-align: middle;\n",
       "    }\n",
       "\n",
       "    .dataframe tbody tr th {\n",
       "        vertical-align: top;\n",
       "    }\n",
       "\n",
       "    .dataframe thead th {\n",
       "        text-align: right;\n",
       "    }\n",
       "</style>\n",
       "<table border=\"1\" class=\"dataframe\">\n",
       "  <thead>\n",
       "    <tr style=\"text-align: right;\">\n",
       "      <th></th>\n",
       "      <th>date</th>\n",
       "      <th>tic</th>\n",
       "      <th>close</th>\n",
       "    </tr>\n",
       "  </thead>\n",
       "  <tbody>\n",
       "    <tr>\n",
       "      <th>0</th>\n",
       "      <td>2020-01-02 07:00:00</td>\n",
       "      <td>BTCUSDT</td>\n",
       "      <td>999.995798</td>\n",
       "    </tr>\n",
       "    <tr>\n",
       "      <th>1</th>\n",
       "      <td>2020-01-02 07:15:00</td>\n",
       "      <td>BTCUSDT</td>\n",
       "      <td>1001.071589</td>\n",
       "    </tr>\n",
       "    <tr>\n",
       "      <th>2</th>\n",
       "      <td>2020-01-02 07:30:00</td>\n",
       "      <td>BTCUSDT</td>\n",
       "      <td>999.703037</td>\n",
       "    </tr>\n",
       "    <tr>\n",
       "      <th>3</th>\n",
       "      <td>2020-01-02 07:45:00</td>\n",
       "      <td>BTCUSDT</td>\n",
       "      <td>999.585372</td>\n",
       "    </tr>\n",
       "    <tr>\n",
       "      <th>4</th>\n",
       "      <td>2020-01-02 08:00:00</td>\n",
       "      <td>BTCUSDT</td>\n",
       "      <td>998.085147</td>\n",
       "    </tr>\n",
       "  </tbody>\n",
       "</table>\n",
       "</div>"
      ],
      "text/plain": [
       "                  date      tic        close\n",
       "0  2020-01-02 07:00:00  BTCUSDT   999.995798\n",
       "1  2020-01-02 07:15:00  BTCUSDT  1001.071589\n",
       "2  2020-01-02 07:30:00  BTCUSDT   999.703037\n",
       "3  2020-01-02 07:45:00  BTCUSDT   999.585372\n",
       "4  2020-01-02 08:00:00  BTCUSDT   998.085147"
      ]
     },
     "execution_count": 48,
     "metadata": {},
     "output_type": "execute_result"
    }
   ],
   "source": [
    "#baseline stats\n",
    "# print(\"==============Get Baseline Stats===========\")\n",
    "# baseline_df = get_baseline(\n",
    "#         ticker=\"^DJI\", \n",
    "#         start = df_account_value.loc[0,'date'],\n",
    "#         end = df_account_value.loc[len(df_account_value)-1,'date'])\n",
    "\n",
    "# stats = backtest_stats(baseline_df, value_col_name = 'close')\n",
    "\n",
    "baseline_df = df[['date', 'tic', 'crypto_index']]\n",
    "baseline_df.rename(columns = {'crypto_index':'close'}, inplace = True)\n",
    "#baseline_df[\"date\"] = pd.to_datetime(baseline_df[\"date\"], format=\"%Y-%m-%d\").dt.date\n",
    "baseline_df.head()"
   ]
  },
  {
   "cell_type": "code",
   "execution_count": 49,
   "metadata": {},
   "outputs": [
    {
     "name": "stdout",
     "output_type": "stream",
     "text": [
      "<class 'pandas.core.frame.DataFrame'>\n",
      "RangeIndex: 69805 entries, 0 to 69804\n",
      "Data columns (total 3 columns):\n",
      " #   Column  Non-Null Count  Dtype  \n",
      "---  ------  --------------  -----  \n",
      " 0   date    69805 non-null  object \n",
      " 1   tic     69805 non-null  object \n",
      " 2   close   69805 non-null  float64\n",
      "dtypes: float64(1), object(2)\n",
      "memory usage: 1.6+ MB\n"
     ]
    }
   ],
   "source": [
    "baseline_df.info()"
   ]
  },
  {
   "cell_type": "code",
   "execution_count": 50,
   "metadata": {},
   "outputs": [
    {
     "name": "stdout",
     "output_type": "stream",
     "text": [
      "Annual return          0.006850\n",
      "Cumulative returns     5.625217\n",
      "Annual volatility      0.071977\n",
      "Sharpe ratio           0.130730\n",
      "Calmar ratio           0.010875\n",
      "Stability              0.841683\n",
      "Max drawdown          -0.629869\n",
      "Omega ratio            1.028105\n",
      "Sortino ratio          0.186669\n",
      "Skew                        NaN\n",
      "Kurtosis                    NaN\n",
      "Tail ratio             1.015496\n",
      "Daily value at risk   -0.009031\n",
      "dtype: float64\n"
     ]
    },
    {
     "name": "stderr",
     "output_type": "stream",
     "text": [
      "/opt/homebrew/Caskroom/miniforge/base/envs/msc_uol_ai_dissertation/lib/python3.8/site-packages/pyfolio/timeseries.py:724: FutureWarning: The default dtype for empty Series will be 'object' instead of 'float64' in a future version. Specify a dtype explicitly to silence this warning.\n",
      "  stats = pd.Series()\n"
     ]
    }
   ],
   "source": [
    "stats = backtest_stats(baseline_df, value_col_name = 'close')"
   ]
  },
  {
   "cell_type": "code",
   "execution_count": 51,
   "metadata": {
    "id": "qg1kvfemrrQH"
   },
   "outputs": [
    {
     "data": {
      "text/plain": [
       "'2021-06-30 00:00:00'"
      ]
     },
     "execution_count": 51,
     "metadata": {},
     "output_type": "execute_result"
    }
   ],
   "source": [
    "df_account_value.loc[0,'date']"
   ]
  },
  {
   "cell_type": "code",
   "execution_count": 52,
   "metadata": {
    "id": "tt1bzL5OrsTa"
   },
   "outputs": [
    {
     "data": {
      "text/plain": [
       "'2021-12-29 23:45:00'"
      ]
     },
     "execution_count": 52,
     "metadata": {},
     "output_type": "execute_result"
    }
   ],
   "source": [
    "df_account_value.loc[len(df_account_value)-1,'date']"
   ]
  },
  {
   "cell_type": "markdown",
   "metadata": {
    "id": "9U6Suru3h1jc"
   },
   "source": [
    "<a id='6.2'></a>\n",
    "## 7.2 BackTestPlot"
   ]
  },
  {
   "cell_type": "code",
   "execution_count": 53,
   "metadata": {
    "id": "lKRGftSS7pNM"
   },
   "outputs": [
    {
     "name": "stdout",
     "output_type": "stream",
     "text": [
      "==============Compare to Crypto Index===========\n"
     ]
    },
    {
     "name": "stderr",
     "output_type": "stream",
     "text": [
      "/opt/homebrew/Caskroom/miniforge/base/envs/msc_uol_ai_dissertation/lib/python3.8/site-packages/pyfolio/timeseries.py:724: FutureWarning: The default dtype for empty Series will be 'object' instead of 'float64' in a future version. Specify a dtype explicitly to silence this warning.\n",
      "  stats = pd.Series()\n"
     ]
    },
    {
     "data": {
      "text/html": [
       "<table border=\"1\" class=\"dataframe\">\n",
       "  <thead>\n",
       "    <tr style=\"text-align: right;\"><th>Start date</th><td colspan=2>2021-06-30</td></tr>\n",
       "    <tr style=\"text-align: right;\"><th>End date</th><td colspan=2>2021-12-29</td></tr>\n",
       "    <tr style=\"text-align: right;\"><th>Total months</th><td colspan=2>835</td></tr>\n",
       "    <tr style=\"text-align: right;\">\n",
       "      <th></th>\n",
       "      <th>Backtest</th>\n",
       "    </tr>\n",
       "  </thead>\n",
       "  <tbody>\n",
       "    <tr>\n",
       "      <th>Annual return</th>\n",
       "      <td>0.339%</td>\n",
       "    </tr>\n",
       "    <tr>\n",
       "      <th>Cumulative returns</th>\n",
       "      <td>26.599%</td>\n",
       "    </tr>\n",
       "    <tr>\n",
       "      <th>Annual volatility</th>\n",
       "      <td>5.717%</td>\n",
       "    </tr>\n",
       "    <tr>\n",
       "      <th>Sharpe ratio</th>\n",
       "      <td>0.09</td>\n",
       "    </tr>\n",
       "    <tr>\n",
       "      <th>Calmar ratio</th>\n",
       "      <td>0.01</td>\n",
       "    </tr>\n",
       "    <tr>\n",
       "      <th>Stability</th>\n",
       "      <td>0.54</td>\n",
       "    </tr>\n",
       "    <tr>\n",
       "      <th>Max drawdown</th>\n",
       "      <td>-33.702%</td>\n",
       "    </tr>\n",
       "    <tr>\n",
       "      <th>Omega ratio</th>\n",
       "      <td>1.02</td>\n",
       "    </tr>\n",
       "    <tr>\n",
       "      <th>Sortino ratio</th>\n",
       "      <td>0.13</td>\n",
       "    </tr>\n",
       "    <tr>\n",
       "      <th>Skew</th>\n",
       "      <td>NaN</td>\n",
       "    </tr>\n",
       "    <tr>\n",
       "      <th>Kurtosis</th>\n",
       "      <td>NaN</td>\n",
       "    </tr>\n",
       "    <tr>\n",
       "      <th>Tail ratio</th>\n",
       "      <td>1.03</td>\n",
       "    </tr>\n",
       "    <tr>\n",
       "      <th>Daily value at risk</th>\n",
       "      <td>-0.718%</td>\n",
       "    </tr>\n",
       "    <tr>\n",
       "      <th>Alpha</th>\n",
       "      <td>-0.00</td>\n",
       "    </tr>\n",
       "    <tr>\n",
       "      <th>Beta</th>\n",
       "      <td>1.00</td>\n",
       "    </tr>\n",
       "  </tbody>\n",
       "</table>"
      ],
      "text/plain": [
       "<IPython.core.display.HTML object>"
      ]
     },
     "metadata": {},
     "output_type": "display_data"
    },
    {
     "data": {
      "text/html": [
       "<table border=\"1\" class=\"dataframe\">\n",
       "  <thead>\n",
       "    <tr style=\"text-align: right;\">\n",
       "      <th>Worst drawdown periods</th>\n",
       "      <th>Net drawdown in %</th>\n",
       "      <th>Peak date</th>\n",
       "      <th>Valley date</th>\n",
       "      <th>Recovery date</th>\n",
       "      <th>Duration</th>\n",
       "    </tr>\n",
       "  </thead>\n",
       "  <tbody>\n",
       "    <tr>\n",
       "      <th>0</th>\n",
       "      <td>33.70</td>\n",
       "      <td>2021-11-10</td>\n",
       "      <td>2021-12-04</td>\n",
       "      <td>NaT</td>\n",
       "      <td>NaN</td>\n",
       "    </tr>\n",
       "    <tr>\n",
       "      <th>1</th>\n",
       "      <td>23.59</td>\n",
       "      <td>2021-09-07</td>\n",
       "      <td>2021-09-22</td>\n",
       "      <td>2021-10-06</td>\n",
       "      <td>22</td>\n",
       "    </tr>\n",
       "    <tr>\n",
       "      <th>2</th>\n",
       "      <td>21.21</td>\n",
       "      <td>2021-06-30</td>\n",
       "      <td>2021-07-20</td>\n",
       "      <td>2021-07-26</td>\n",
       "      <td>19</td>\n",
       "    </tr>\n",
       "    <tr>\n",
       "      <th>3</th>\n",
       "      <td>12.90</td>\n",
       "      <td>2021-10-20</td>\n",
       "      <td>2021-10-28</td>\n",
       "      <td>2021-11-09</td>\n",
       "      <td>14</td>\n",
       "    </tr>\n",
       "    <tr>\n",
       "      <th>4</th>\n",
       "      <td>11.19</td>\n",
       "      <td>2021-08-01</td>\n",
       "      <td>2021-08-04</td>\n",
       "      <td>2021-08-06</td>\n",
       "      <td>5</td>\n",
       "    </tr>\n",
       "  </tbody>\n",
       "</table>"
      ],
      "text/plain": [
       "<IPython.core.display.HTML object>"
      ]
     },
     "metadata": {},
     "output_type": "display_data"
    },
    {
     "name": "stderr",
     "output_type": "stream",
     "text": [
      "/opt/homebrew/Caskroom/miniforge/base/envs/msc_uol_ai_dissertation/lib/python3.8/site-packages/pyfolio/plotting.py:805: FutureWarning: The default dtype for empty Series will be 'object' instead of 'float64' in a future version. Specify a dtype explicitly to silence this warning.\n",
      "  oos_cum_returns = pd.Series([])\n",
      "/opt/homebrew/Caskroom/miniforge/base/envs/msc_uol_ai_dissertation/lib/python3.8/site-packages/pyfolio/plotting.py:805: FutureWarning: The default dtype for empty Series will be 'object' instead of 'float64' in a future version. Specify a dtype explicitly to silence this warning.\n",
      "  oos_cum_returns = pd.Series([])\n",
      "/opt/homebrew/Caskroom/miniforge/base/envs/msc_uol_ai_dissertation/lib/python3.8/site-packages/pyfolio/plotting.py:805: FutureWarning: The default dtype for empty Series will be 'object' instead of 'float64' in a future version. Specify a dtype explicitly to silence this warning.\n",
      "  oos_cum_returns = pd.Series([])\n",
      "/opt/homebrew/Caskroom/miniforge/base/envs/msc_uol_ai_dissertation/lib/python3.8/site-packages/pyfolio/timeseries.py:541: FutureWarning: The default dtype for empty Series will be 'object' instead of 'float64' in a future version. Specify a dtype explicitly to silence this warning.\n",
      "  out = pd.Series(index=returns.index)\n",
      "/opt/homebrew/Caskroom/miniforge/base/envs/msc_uol_ai_dissertation/lib/python3.8/site-packages/pyfolio/timeseries.py:541: FutureWarning: The default dtype for empty Series will be 'object' instead of 'float64' in a future version. Specify a dtype explicitly to silence this warning.\n",
      "  out = pd.Series(index=returns.index)\n",
      "/opt/homebrew/Caskroom/miniforge/base/envs/msc_uol_ai_dissertation/lib/python3.8/site-packages/pyfolio/timeseries.py:1230: FutureWarning: Indexing a timezone-aware DatetimeIndex with a timezone-naive datetime is deprecated and will raise KeyError in a future version. Use a timezone-aware object instead.\n",
      "  period = returns_dupe.loc[start:end]\n"
     ]
    },
    {
     "data": {
      "text/html": [
       "<table border=\"1\" class=\"dataframe\">\n",
       "  <thead>\n",
       "    <tr style=\"text-align: right;\">\n",
       "      <th>Stress Events</th>\n",
       "      <th>mean</th>\n",
       "      <th>min</th>\n",
       "      <th>max</th>\n",
       "    </tr>\n",
       "  </thead>\n",
       "  <tbody>\n",
       "    <tr>\n",
       "      <th>New Normal</th>\n",
       "      <td>0.00%</td>\n",
       "      <td>-6.76%</td>\n",
       "      <td>3.66%</td>\n",
       "    </tr>\n",
       "  </tbody>\n",
       "</table>"
      ],
      "text/plain": [
       "<IPython.core.display.HTML object>"
      ]
     },
     "metadata": {},
     "output_type": "display_data"
    },
    {
     "name": "stderr",
     "output_type": "stream",
     "text": [
      "/opt/homebrew/Caskroom/miniforge/base/envs/msc_uol_ai_dissertation/lib/python3.8/site-packages/pyfolio/timeseries.py:1230: FutureWarning: Indexing a timezone-aware DatetimeIndex with a timezone-naive datetime is deprecated and will raise KeyError in a future version. Use a timezone-aware object instead.\n",
      "  period = returns_dupe.loc[start:end]\n"
     ]
    },
    {
     "data": {
      "image/png": "[encoded data removed]",
      "text/plain": [
       "<Figure size 1008x5184 with 13 Axes>"
      ]
     },
     "metadata": {
      "needs_background": "light"
     },
     "output_type": "display_data"
    },
    {
     "data": {
      "image/png": "[encoded data removed]",
      "text/plain": [
       "<Figure size 1008x432 with 1 Axes>"
      ]
     },
     "metadata": {
      "needs_background": "light"
     },
     "output_type": "display_data"
    }
   ],
   "source": [
    "print(\"==============Compare to Crypto Index===========\")\n",
    "%matplotlib inline\n",
    "backtest_plot_mod(df_account_value, baseline_df)"
   ]
  },
  {
   "cell_type": "code",
   "execution_count": 54,
   "metadata": {
    "id": "BzBaE63H3RLc"
   },
   "outputs": [],
   "source": [
    "# print(\"==============Compare to DJIA===========\")\n",
    "# %matplotlib inline\n",
    "# # S&P 500: ^GSPC\n",
    "# # Dow Jones Index: ^DJI\n",
    "# # NASDAQ 100: ^NDX\n",
    "# backtest_plot(df_account_value, \n",
    "#              baseline_ticker = '^DJI', \n",
    "#              baseline_start = df_account_value.loc[0,'date'],\n",
    "#              baseline_end = df_account_value.loc[len(df_account_value)-1,'date'])"
   ]
  },
  {
   "cell_type": "code",
   "execution_count": null,
   "metadata": {
    "id": "ZYeOjax-7H_5"
   },
   "outputs": [],
   "source": []
  }
 ],
 "metadata": {
  "colab": {
   "collapsed_sections": [
    "Uy5_PTmOh1hj",
    "_gDkU-j-fCmZ",
    "3Zpv4S0-fDBv"
   ],
   "include_colab_link": true,
   "name": "FinRL_StockTrading_NeurIPS_2018.ipynb",
   "provenance": []
  },
  "kernelspec": {
   "display_name": "Python 3.8.13 ('msc_uol_ai_dissertation')",
   "language": "python",
   "name": "python3"
  },
  "language_info": {
   "codemirror_mode": {
    "name": "ipython",
    "version": 3
   },
   "file_extension": ".py",
   "mimetype": "text/x-python",
   "name": "python",
   "nbconvert_exporter": "python",
   "pygments_lexer": "ipython3",
   "version": "3.8.13 | packaged by conda-forge | (default, Mar 25 2022, 06:04:14) \n[Clang 12.0.1 ]"
  },
  "vscode": {
   "interpreter": {
    "hash": "0c0f2ae3d5d9aa27c4a2afc20f28a2482dc1006477ab22953abc78c31c7bb5b2"
   }
  }
 },
 "nbformat": 4,
 "nbformat_minor": 0
}
