{
 "cells": [
  {
   "cell_type": "markdown",
   "metadata": {
    "colab_type": "text",
    "id": "view-in-github"
   },
   "source": [
    "<a href=\"https://colab.research.google.com/github/AI4Finance-Foundation/FinRL/blob/master/FinRL_StockTrading_NeurIPS_2018.ipynb\" target=\"_parent\"><img src=\"https://colab.research.google.com/assets/colab-badge.svg\" alt=\"Open In Colab\"/></a>"
   ]
  },
  {
   "cell_type": "markdown",
   "metadata": {
    "id": "gXaoZs2lh1hi"
   },
   "source": [
    "# Deep Reinforcement Learning for Stock Trading from Scratch: Multiple Stock Trading\n",
    "\n",
    "* **Pytorch Version** \n",
    "\n"
   ]
  },
  {
   "cell_type": "markdown",
   "metadata": {
    "id": "sApkDlD9LIZv"
   },
   "source": [
    "<a id='0'></a>\n",
    "# Part 1. Problem Definition"
   ]
  },
  {
   "cell_type": "markdown",
   "metadata": {
    "id": "HjLD2TZSLKZ-"
   },
   "source": [
    "This problem is to design an automated trading solution for single stock trading. We model the stock trading process as a Markov Decision Process (MDP). We then formulate our trading goal as a maximization problem.\n",
    "\n",
    "The algorithm is trained using Deep Reinforcement Learning (DRL) algorithms and the components of the reinforcement learning environment are:\n",
    "\n",
    "\n",
    "* Action: The action space describes the allowed actions that the agent interacts with the\n",
    "environment. Normally, a ∈ A includes three actions: a ∈ {−1, 0, 1}, where −1, 0, 1 represent\n",
    "selling, holding, and buying one stock. Also, an action can be carried upon multiple shares. We use\n",
    "an action space {−k, ..., −1, 0, 1, ..., k}, where k denotes the number of shares. For example, \"Buy\n",
    "10 shares of AAPL\" or \"Sell 10 shares of AAPL\" are 10 or −10, respectively\n",
    "\n",
    "* Reward function: r(s, a, s′) is the incentive mechanism for an agent to learn a better action. The change of the portfolio value when action a is taken at state s and arriving at new state s',  i.e., r(s, a, s′) = v′ − v, where v′ and v represent the portfolio\n",
    "values at state s′ and s, respectively\n",
    "\n",
    "* State: The state space describes the observations that the agent receives from the environment. Just as a human trader needs to analyze various information before executing a trade, so\n",
    "our trading agent observes many different features to better learn in an interactive environment.\n",
    "\n",
    "* Environment: Dow 30 consituents\n",
    "\n",
    "\n",
    "The data of the single stock that we will be using for this case study is obtained from Yahoo Finance API. The data contains Open-High-Low-Close price and volume.\n"
   ]
  },
  {
   "cell_type": "markdown",
   "metadata": {
    "id": "Ffsre789LY08"
   },
   "source": [
    "<a id='1'></a>\n",
    "# Part 2. Getting Started- Load Python Packages"
   ]
  },
  {
   "cell_type": "markdown",
   "metadata": {
    "id": "osBHhVysOEzi"
   },
   "source": [
    "\n",
    "<a id='1.2'></a>\n",
    "## 2.2. Check if the additional packages needed are present, if not install them. \n",
    "* Yahoo Finance API\n",
    "* pandas\n",
    "* numpy\n",
    "* matplotlib\n",
    "* stockstats\n",
    "* OpenAI gym\n",
    "* stable-baselines\n",
    "* tensorflow\n",
    "* pyfolio"
   ]
  },
  {
   "cell_type": "markdown",
   "metadata": {
    "id": "nGv01K8Sh1hn"
   },
   "source": [
    "<a id='1.3'></a>\n",
    "## 2.3. Import Packages"
   ]
  },
  {
   "cell_type": "code",
   "execution_count": 1,
   "metadata": {
    "colab": {
     "base_uri": "https://localhost:8080/"
    },
    "id": "lPqeTTwoh1hn",
    "outputId": "10b08480-3a0c-4826-8e51-f94ce97ab84a"
   },
   "outputs": [
    {
     "name": "stderr",
     "output_type": "stream",
     "text": [
      "/opt/homebrew/Caskroom/miniforge/base/envs/msc_uol_ai_dissertation/lib/python3.8/site-packages/tqdm/auto.py:22: TqdmWarning: IProgress not found. Please update jupyter and ipywidgets. See https://ipywidgets.readthedocs.io/en/stable/user_install.html\n",
      "  from .autonotebook import tqdm as notebook_tqdm\n",
      "/opt/homebrew/Caskroom/miniforge/base/envs/msc_uol_ai_dissertation/lib/python3.8/site-packages/pyfolio/pos.py:26: UserWarning: Module \"zipline.assets\" not found; multipliers will not be applied to position notionals.\n",
      "  warnings.warn(\n"
     ]
    }
   ],
   "source": [
    "import pandas as pd\n",
    "import numpy as np\n",
    "import matplotlib\n",
    "import matplotlib.pyplot as plt\n",
    "# matplotlib.use('Agg')\n",
    "import datetime\n",
    "\n",
    "%matplotlib inline\n",
    "from finrl.finrl_meta.preprocessor.yahoodownloader import YahooDownloader\n",
    "from finrl.finrl_meta.preprocessor.preprocessors import FeatureEngineer, data_split\n",
    "from finrl.finrl_meta.env_stock_trading.env_stocktrading import StockTradingEnv\n",
    "from finrl.agents.stablebaselines3.models import DRLAgent\n",
    "from finrl.finrl_meta.data_processor import DataProcessor\n",
    "\n",
    "from finrl.plot import backtest_stats, backtest_plot, backtest_plot_mod, get_daily_return, get_baseline\n",
    "from pprint import pprint\n",
    "\n",
    "import sys\n",
    "#sys.path.append(\"../FinRL-Library\")\n",
    "\n",
    "import itertools\n",
    "import os\n",
    "\n",
    "import pickle"
   ]
  },
  {
   "cell_type": "code",
   "execution_count": 2,
   "metadata": {},
   "outputs": [],
   "source": [
    "%matplotlib inline"
   ]
  },
  {
   "cell_type": "markdown",
   "metadata": {
    "id": "A289rQWMh1hq"
   },
   "source": [
    "<a id='2'></a>\n",
    "# Part 3. Get Data\n"
   ]
  },
  {
   "cell_type": "code",
   "execution_count": 3,
   "metadata": {},
   "outputs": [],
   "source": [
    "input_data_path = '../data'\n",
    "input_data_filename = 'binance_BTCUSDT_1d_from_2017_01_01_to_2021_12_31_candlesticks_signals_processed_technical_indicators_and_crypto_index_v2'\n",
    "input_data_extension = \".csv\"\n",
    "full_path_input_data = os.path.join(input_data_path, input_data_filename + input_data_extension)"
   ]
  },
  {
   "cell_type": "code",
   "execution_count": 4,
   "metadata": {},
   "outputs": [],
   "source": [
    "df = pd.read_csv(full_path_input_data)"
   ]
  },
  {
   "cell_type": "code",
   "execution_count": 5,
   "metadata": {
    "colab": {
     "base_uri": "https://localhost:8080/"
    },
    "id": "CV3HrZHLh1hy",
    "outputId": "5267773c-399c-4ec9-d4d5-13ab1e4cced0"
   },
   "outputs": [
    {
     "data": {
      "text/plain": [
       "(1478, 92)"
      ]
     },
     "execution_count": 5,
     "metadata": {},
     "output_type": "execute_result"
    }
   ],
   "source": [
    "df.shape"
   ]
  },
  {
   "cell_type": "code",
   "execution_count": 6,
   "metadata": {},
   "outputs": [
    {
     "data": {
      "text/html": [
       "<div>\n",
       "<style scoped>\n",
       "    .dataframe tbody tr th:only-of-type {\n",
       "        vertical-align: middle;\n",
       "    }\n",
       "\n",
       "    .dataframe tbody tr th {\n",
       "        vertical-align: top;\n",
       "    }\n",
       "\n",
       "    .dataframe thead th {\n",
       "        text-align: right;\n",
       "    }\n",
       "</style>\n",
       "<table border=\"1\" class=\"dataframe\">\n",
       "  <thead>\n",
       "    <tr style=\"text-align: right;\">\n",
       "      <th></th>\n",
       "      <th>time</th>\n",
       "      <th>open_time</th>\n",
       "      <th>open</th>\n",
       "      <th>high</th>\n",
       "      <th>low</th>\n",
       "      <th>close</th>\n",
       "      <th>volume</th>\n",
       "      <th>close_time</th>\n",
       "      <th>quote_asset_volumne</th>\n",
       "      <th>number_of_trades</th>\n",
       "      <th>...</th>\n",
       "      <th>AD</th>\n",
       "      <th>ATR</th>\n",
       "      <th>HT_DC</th>\n",
       "      <th>SAR</th>\n",
       "      <th>ratio_high_open</th>\n",
       "      <th>ratio_low_open</th>\n",
       "      <th>ratio_close_open</th>\n",
       "      <th>time_to_chart_return</th>\n",
       "      <th>crypto_index</th>\n",
       "      <th>datetime</th>\n",
       "    </tr>\n",
       "  </thead>\n",
       "  <tbody>\n",
       "    <tr>\n",
       "      <th>0</th>\n",
       "      <td>2017-12-15 01:00:00</td>\n",
       "      <td>1513296000000</td>\n",
       "      <td>16334.98</td>\n",
       "      <td>17991.00</td>\n",
       "      <td>16298.45</td>\n",
       "      <td>17539.83</td>\n",
       "      <td>9181.273947</td>\n",
       "      <td>1513382399999</td>\n",
       "      <td>1.598097e+08</td>\n",
       "      <td>85478</td>\n",
       "      <td>...</td>\n",
       "      <td>89965.427218</td>\n",
       "      <td>1578.796612</td>\n",
       "      <td>27.561481</td>\n",
       "      <td>12668.038416</td>\n",
       "      <td>1.101379</td>\n",
       "      <td>0.997764</td>\n",
       "      <td>1.073759</td>\n",
       "      <td>0.073759</td>\n",
       "      <td>1073.758890</td>\n",
       "      <td>2017-12-15 01:00:00</td>\n",
       "    </tr>\n",
       "    <tr>\n",
       "      <th>1</th>\n",
       "      <td>2017-12-16 01:00:00</td>\n",
       "      <td>1513382400000</td>\n",
       "      <td>17516.81</td>\n",
       "      <td>19539.00</td>\n",
       "      <td>17190.01</td>\n",
       "      <td>19102.66</td>\n",
       "      <td>4202.628709</td>\n",
       "      <td>1513468799999</td>\n",
       "      <td>7.629372e+07</td>\n",
       "      <td>51777</td>\n",
       "      <td>...</td>\n",
       "      <td>92606.725304</td>\n",
       "      <td>1633.810425</td>\n",
       "      <td>27.275392</td>\n",
       "      <td>12880.956879</td>\n",
       "      <td>1.115443</td>\n",
       "      <td>0.981344</td>\n",
       "      <td>1.090533</td>\n",
       "      <td>0.089102</td>\n",
       "      <td>1169.432714</td>\n",
       "      <td>2017-12-16 01:00:00</td>\n",
       "    </tr>\n",
       "    <tr>\n",
       "      <th>2</th>\n",
       "      <td>2017-12-17 01:00:00</td>\n",
       "      <td>1513468800000</td>\n",
       "      <td>19120.19</td>\n",
       "      <td>19798.68</td>\n",
       "      <td>18510.00</td>\n",
       "      <td>18860.02</td>\n",
       "      <td>9177.183434</td>\n",
       "      <td>1513555199999</td>\n",
       "      <td>1.758674e+08</td>\n",
       "      <td>84581</td>\n",
       "      <td>...</td>\n",
       "      <td>88414.794602</td>\n",
       "      <td>1609.158252</td>\n",
       "      <td>27.027934</td>\n",
       "      <td>13280.439467</td>\n",
       "      <td>1.035486</td>\n",
       "      <td>0.968087</td>\n",
       "      <td>0.986393</td>\n",
       "      <td>-0.012702</td>\n",
       "      <td>1154.578702</td>\n",
       "      <td>2017-12-17 01:00:00</td>\n",
       "    </tr>\n",
       "    <tr>\n",
       "      <th>3</th>\n",
       "      <td>2017-12-18 01:00:00</td>\n",
       "      <td>1513555200000</td>\n",
       "      <td>18860.04</td>\n",
       "      <td>19300.00</td>\n",
       "      <td>17029.98</td>\n",
       "      <td>18856.25</td>\n",
       "      <td>10624.633071</td>\n",
       "      <td>1513641599999</td>\n",
       "      <td>1.963392e+08</td>\n",
       "      <td>91956</td>\n",
       "      <td>...</td>\n",
       "      <td>94885.560372</td>\n",
       "      <td>1656.362662</td>\n",
       "      <td>26.783773</td>\n",
       "      <td>13801.898709</td>\n",
       "      <td>1.023328</td>\n",
       "      <td>0.902966</td>\n",
       "      <td>0.999799</td>\n",
       "      <td>-0.000200</td>\n",
       "      <td>1154.347909</td>\n",
       "      <td>2017-12-18 01:00:00</td>\n",
       "    </tr>\n",
       "    <tr>\n",
       "      <th>4</th>\n",
       "      <td>2017-12-19 01:00:00</td>\n",
       "      <td>1513641600000</td>\n",
       "      <td>18856.25</td>\n",
       "      <td>18950.00</td>\n",
       "      <td>16300.00</td>\n",
       "      <td>17295.20</td>\n",
       "      <td>13210.748220</td>\n",
       "      <td>1513727999999</td>\n",
       "      <td>2.327906e+08</td>\n",
       "      <td>116569</td>\n",
       "      <td>...</td>\n",
       "      <td>91597.330362</td>\n",
       "      <td>1727.336758</td>\n",
       "      <td>26.580387</td>\n",
       "      <td>14281.641213</td>\n",
       "      <td>1.004972</td>\n",
       "      <td>0.864435</td>\n",
       "      <td>0.917213</td>\n",
       "      <td>-0.082787</td>\n",
       "      <td>1058.783053</td>\n",
       "      <td>2017-12-19 01:00:00</td>\n",
       "    </tr>\n",
       "  </tbody>\n",
       "</table>\n",
       "<p>5 rows × 92 columns</p>\n",
       "</div>"
      ],
      "text/plain": [
       "                  time      open_time      open      high       low     close  \\\n",
       "0  2017-12-15 01:00:00  1513296000000  16334.98  17991.00  16298.45  17539.83   \n",
       "1  2017-12-16 01:00:00  1513382400000  17516.81  19539.00  17190.01  19102.66   \n",
       "2  2017-12-17 01:00:00  1513468800000  19120.19  19798.68  18510.00  18860.02   \n",
       "3  2017-12-18 01:00:00  1513555200000  18860.04  19300.00  17029.98  18856.25   \n",
       "4  2017-12-19 01:00:00  1513641600000  18856.25  18950.00  16300.00  17295.20   \n",
       "\n",
       "         volume     close_time  quote_asset_volumne  number_of_trades  ...  \\\n",
       "0   9181.273947  1513382399999         1.598097e+08             85478  ...   \n",
       "1   4202.628709  1513468799999         7.629372e+07             51777  ...   \n",
       "2   9177.183434  1513555199999         1.758674e+08             84581  ...   \n",
       "3  10624.633071  1513641599999         1.963392e+08             91956  ...   \n",
       "4  13210.748220  1513727999999         2.327906e+08            116569  ...   \n",
       "\n",
       "             AD          ATR      HT_DC           SAR ratio_high_open  \\\n",
       "0  89965.427218  1578.796612  27.561481  12668.038416        1.101379   \n",
       "1  92606.725304  1633.810425  27.275392  12880.956879        1.115443   \n",
       "2  88414.794602  1609.158252  27.027934  13280.439467        1.035486   \n",
       "3  94885.560372  1656.362662  26.783773  13801.898709        1.023328   \n",
       "4  91597.330362  1727.336758  26.580387  14281.641213        1.004972   \n",
       "\n",
       "   ratio_low_open  ratio_close_open  time_to_chart_return  crypto_index  \\\n",
       "0        0.997764          1.073759              0.073759   1073.758890   \n",
       "1        0.981344          1.090533              0.089102   1169.432714   \n",
       "2        0.968087          0.986393             -0.012702   1154.578702   \n",
       "3        0.902966          0.999799             -0.000200   1154.347909   \n",
       "4        0.864435          0.917213             -0.082787   1058.783053   \n",
       "\n",
       "              datetime  \n",
       "0  2017-12-15 01:00:00  \n",
       "1  2017-12-16 01:00:00  \n",
       "2  2017-12-17 01:00:00  \n",
       "3  2017-12-18 01:00:00  \n",
       "4  2017-12-19 01:00:00  \n",
       "\n",
       "[5 rows x 92 columns]"
      ]
     },
     "execution_count": 6,
     "metadata": {},
     "output_type": "execute_result"
    }
   ],
   "source": [
    "df.head()"
   ]
  },
  {
   "cell_type": "code",
   "execution_count": 7,
   "metadata": {},
   "outputs": [
    {
     "name": "stdout",
     "output_type": "stream",
     "text": [
      "<class 'pandas.core.frame.DataFrame'>\n",
      "RangeIndex: 1478 entries, 0 to 1477\n",
      "Data columns (total 92 columns):\n",
      " #   Column                        Non-Null Count  Dtype  \n",
      "---  ------                        --------------  -----  \n",
      " 0   time                          1478 non-null   object \n",
      " 1   open_time                     1478 non-null   int64  \n",
      " 2   open                          1478 non-null   float64\n",
      " 3   high                          1478 non-null   float64\n",
      " 4   low                           1478 non-null   float64\n",
      " 5   close                         1478 non-null   float64\n",
      " 6   volume                        1478 non-null   float64\n",
      " 7   close_time                    1478 non-null   int64  \n",
      " 8   quote_asset_volumne           1478 non-null   float64\n",
      " 9   number_of_trades              1478 non-null   int64  \n",
      " 10  taker_buy_base_asset_volume   1478 non-null   float64\n",
      " 11  taker_buy_quote_asset_volume  1478 non-null   float64\n",
      " 12  ignore                        1478 non-null   int64  \n",
      " 13  formatted_open_time           1478 non-null   object \n",
      " 14  formatted_close_time          1478 non-null   object \n",
      " 15  upper_shadow                  1478 non-null   float64\n",
      " 16  lower_shadow                  1478 non-null   float64\n",
      " 17  real_body                     1478 non-null   float64\n",
      " 18  CDLINVERTEDHAMMER             1478 non-null   int64  \n",
      " 19  CDLHAMMER                     1478 non-null   int64  \n",
      " 20  CDLPIERCING                   1478 non-null   int64  \n",
      " 21  CDLMORNINGSTAR                1478 non-null   int64  \n",
      " 22  CDLSHOOTINGSTAR               1478 non-null   int64  \n",
      " 23  CDLHANGINGMAN                 1478 non-null   int64  \n",
      " 24  CDLDARKCLOUDCOVER             1478 non-null   int64  \n",
      " 25  CDLEVENINGSTAR                1478 non-null   int64  \n",
      " 26  CDLENGULFING                  1478 non-null   int64  \n",
      " 27  CDLENGULFINGBULLISH           1478 non-null   int64  \n",
      " 28  CDLENGULFINGBEARISH           1478 non-null   int64  \n",
      " 29  CDLINVERTEDHAMMER_NEW         1478 non-null   int64  \n",
      " 30  CDLHAMMER_NEW                 1478 non-null   int64  \n",
      " 31  CDLPIERCING_NEW               1478 non-null   int64  \n",
      " 32  CDLMORNINGSTAR_NEW            1478 non-null   int64  \n",
      " 33  CDLENGULFINGBULLISH_NEW       1478 non-null   int64  \n",
      " 34  CDLSHOOTINGSTAR_NEW           1478 non-null   int64  \n",
      " 35  CDLHANGINGMAN_NEW             1478 non-null   int64  \n",
      " 36  CDLDARKCLOUDCOVER_NEW         1478 non-null   int64  \n",
      " 37  CDLEVENINGSTAR_NEW            1478 non-null   int64  \n",
      " 38  CDLENGULFINGBEARISH_NEW       1478 non-null   int64  \n",
      " 39  MA5                           1478 non-null   float64\n",
      " 40  MA10                          1478 non-null   float64\n",
      " 41  MA20                          1478 non-null   float64\n",
      " 42  MA60                          1478 non-null   float64\n",
      " 43  MA120                         1478 non-null   float64\n",
      " 44  volume_MA5                    1478 non-null   float64\n",
      " 45  volume_MA10                   1478 non-null   float64\n",
      " 46  volume_MA20                   1478 non-null   float64\n",
      " 47  SMA5                          1478 non-null   float64\n",
      " 48  SMA10                         1478 non-null   float64\n",
      " 49  SMA20                         1478 non-null   float64\n",
      " 50  SMA60                         1478 non-null   float64\n",
      " 51  SMA120                        1478 non-null   float64\n",
      " 52  volume_SMA5                   1478 non-null   float64\n",
      " 53  volume_SMA10                  1478 non-null   float64\n",
      " 54  volume_SMA20                  1478 non-null   float64\n",
      " 55  WMA5                          1478 non-null   float64\n",
      " 56  WMA10                         1478 non-null   float64\n",
      " 57  WMA20                         1478 non-null   float64\n",
      " 58  WMA60                         1478 non-null   float64\n",
      " 59  WMA120                        1478 non-null   float64\n",
      " 60  volume_WMA5                   1478 non-null   float64\n",
      " 61  volume_WMA10                  1478 non-null   float64\n",
      " 62  volume_WMA20                  1478 non-null   float64\n",
      " 63  EMA5                          1478 non-null   float64\n",
      " 64  EMA10                         1478 non-null   float64\n",
      " 65  EMA20                         1478 non-null   float64\n",
      " 66  EMA60                         1478 non-null   float64\n",
      " 67  EMA120                        1478 non-null   float64\n",
      " 68  volume_EMA5                   1478 non-null   float64\n",
      " 69  volume_EMA10                  1478 non-null   float64\n",
      " 70  volume_EMA20                  1478 non-null   float64\n",
      " 71  WILLR_14                      1478 non-null   float64\n",
      " 72  NATR_14                       1478 non-null   float64\n",
      " 73  PPO_12_26                     1478 non-null   float64\n",
      " 74  CCI_14                        1478 non-null   float64\n",
      " 75  ADX_14                        1478 non-null   float64\n",
      " 76  ADXR_14                       1478 non-null   float64\n",
      " 77  MACD_12_26_9                  1478 non-null   float64\n",
      " 78  RSI_14                        1478 non-null   float64\n",
      " 79  BBANDS_U                      1478 non-null   float64\n",
      " 80  BBANDS_M                      1478 non-null   float64\n",
      " 81  BBANDS_L                      1478 non-null   float64\n",
      " 82  AD                            1478 non-null   float64\n",
      " 83  ATR                           1478 non-null   float64\n",
      " 84  HT_DC                         1478 non-null   float64\n",
      " 85  SAR                           1478 non-null   float64\n",
      " 86  ratio_high_open               1478 non-null   float64\n",
      " 87  ratio_low_open                1478 non-null   float64\n",
      " 88  ratio_close_open              1478 non-null   float64\n",
      " 89  time_to_chart_return          1478 non-null   float64\n",
      " 90  crypto_index                  1478 non-null   float64\n",
      " 91  datetime                      1478 non-null   object \n",
      "dtypes: float64(63), int64(25), object(4)\n",
      "memory usage: 1.0+ MB\n"
     ]
    }
   ],
   "source": [
    "df.info()"
   ]
  },
  {
   "cell_type": "code",
   "execution_count": 8,
   "metadata": {},
   "outputs": [
    {
     "data": {
      "text/plain": [
       "Index(['time', 'open_time', 'open', 'high', 'low', 'close', 'volume',\n",
       "       'close_time', 'quote_asset_volumne', 'number_of_trades',\n",
       "       'taker_buy_base_asset_volume', 'taker_buy_quote_asset_volume', 'ignore',\n",
       "       'formatted_open_time', 'formatted_close_time', 'upper_shadow',\n",
       "       'lower_shadow', 'real_body', 'CDLINVERTEDHAMMER', 'CDLHAMMER',\n",
       "       'CDLPIERCING', 'CDLMORNINGSTAR', 'CDLSHOOTINGSTAR', 'CDLHANGINGMAN',\n",
       "       'CDLDARKCLOUDCOVER', 'CDLEVENINGSTAR', 'CDLENGULFING',\n",
       "       'CDLENGULFINGBULLISH', 'CDLENGULFINGBEARISH', 'CDLINVERTEDHAMMER_NEW',\n",
       "       'CDLHAMMER_NEW', 'CDLPIERCING_NEW', 'CDLMORNINGSTAR_NEW',\n",
       "       'CDLENGULFINGBULLISH_NEW', 'CDLSHOOTINGSTAR_NEW', 'CDLHANGINGMAN_NEW',\n",
       "       'CDLDARKCLOUDCOVER_NEW', 'CDLEVENINGSTAR_NEW',\n",
       "       'CDLENGULFINGBEARISH_NEW', 'MA5', 'MA10', 'MA20', 'MA60', 'MA120',\n",
       "       'volume_MA5', 'volume_MA10', 'volume_MA20', 'SMA5', 'SMA10', 'SMA20',\n",
       "       'SMA60', 'SMA120', 'volume_SMA5', 'volume_SMA10', 'volume_SMA20',\n",
       "       'WMA5', 'WMA10', 'WMA20', 'WMA60', 'WMA120', 'volume_WMA5',\n",
       "       'volume_WMA10', 'volume_WMA20', 'EMA5', 'EMA10', 'EMA20', 'EMA60',\n",
       "       'EMA120', 'volume_EMA5', 'volume_EMA10', 'volume_EMA20', 'WILLR_14',\n",
       "       'NATR_14', 'PPO_12_26', 'CCI_14', 'ADX_14', 'ADXR_14', 'MACD_12_26_9',\n",
       "       'RSI_14', 'BBANDS_U', 'BBANDS_M', 'BBANDS_L', 'AD', 'ATR', 'HT_DC',\n",
       "       'SAR', 'ratio_high_open', 'ratio_low_open', 'ratio_close_open',\n",
       "       'time_to_chart_return', 'crypto_index', 'datetime'],\n",
       "      dtype='object')"
      ]
     },
     "execution_count": 8,
     "metadata": {},
     "output_type": "execute_result"
    }
   ],
   "source": [
    "df.columns"
   ]
  },
  {
   "cell_type": "code",
   "execution_count": 9,
   "metadata": {},
   "outputs": [],
   "source": [
    "df.rename(columns = {'time':'date'}, inplace = True)\n",
    "# df.rename(columns = {'formatted_open_time':'date'}, inplace = True)"
   ]
  },
  {
   "cell_type": "code",
   "execution_count": 10,
   "metadata": {},
   "outputs": [
    {
     "name": "stdout",
     "output_type": "stream",
     "text": [
      "<class 'pandas.core.frame.DataFrame'>\n",
      "RangeIndex: 1478 entries, 0 to 1477\n",
      "Data columns (total 92 columns):\n",
      " #   Column                        Non-Null Count  Dtype  \n",
      "---  ------                        --------------  -----  \n",
      " 0   date                          1478 non-null   object \n",
      " 1   open_time                     1478 non-null   int64  \n",
      " 2   open                          1478 non-null   float64\n",
      " 3   high                          1478 non-null   float64\n",
      " 4   low                           1478 non-null   float64\n",
      " 5   close                         1478 non-null   float64\n",
      " 6   volume                        1478 non-null   float64\n",
      " 7   close_time                    1478 non-null   int64  \n",
      " 8   quote_asset_volumne           1478 non-null   float64\n",
      " 9   number_of_trades              1478 non-null   int64  \n",
      " 10  taker_buy_base_asset_volume   1478 non-null   float64\n",
      " 11  taker_buy_quote_asset_volume  1478 non-null   float64\n",
      " 12  ignore                        1478 non-null   int64  \n",
      " 13  formatted_open_time           1478 non-null   object \n",
      " 14  formatted_close_time          1478 non-null   object \n",
      " 15  upper_shadow                  1478 non-null   float64\n",
      " 16  lower_shadow                  1478 non-null   float64\n",
      " 17  real_body                     1478 non-null   float64\n",
      " 18  CDLINVERTEDHAMMER             1478 non-null   int64  \n",
      " 19  CDLHAMMER                     1478 non-null   int64  \n",
      " 20  CDLPIERCING                   1478 non-null   int64  \n",
      " 21  CDLMORNINGSTAR                1478 non-null   int64  \n",
      " 22  CDLSHOOTINGSTAR               1478 non-null   int64  \n",
      " 23  CDLHANGINGMAN                 1478 non-null   int64  \n",
      " 24  CDLDARKCLOUDCOVER             1478 non-null   int64  \n",
      " 25  CDLEVENINGSTAR                1478 non-null   int64  \n",
      " 26  CDLENGULFING                  1478 non-null   int64  \n",
      " 27  CDLENGULFINGBULLISH           1478 non-null   int64  \n",
      " 28  CDLENGULFINGBEARISH           1478 non-null   int64  \n",
      " 29  CDLINVERTEDHAMMER_NEW         1478 non-null   int64  \n",
      " 30  CDLHAMMER_NEW                 1478 non-null   int64  \n",
      " 31  CDLPIERCING_NEW               1478 non-null   int64  \n",
      " 32  CDLMORNINGSTAR_NEW            1478 non-null   int64  \n",
      " 33  CDLENGULFINGBULLISH_NEW       1478 non-null   int64  \n",
      " 34  CDLSHOOTINGSTAR_NEW           1478 non-null   int64  \n",
      " 35  CDLHANGINGMAN_NEW             1478 non-null   int64  \n",
      " 36  CDLDARKCLOUDCOVER_NEW         1478 non-null   int64  \n",
      " 37  CDLEVENINGSTAR_NEW            1478 non-null   int64  \n",
      " 38  CDLENGULFINGBEARISH_NEW       1478 non-null   int64  \n",
      " 39  MA5                           1478 non-null   float64\n",
      " 40  MA10                          1478 non-null   float64\n",
      " 41  MA20                          1478 non-null   float64\n",
      " 42  MA60                          1478 non-null   float64\n",
      " 43  MA120                         1478 non-null   float64\n",
      " 44  volume_MA5                    1478 non-null   float64\n",
      " 45  volume_MA10                   1478 non-null   float64\n",
      " 46  volume_MA20                   1478 non-null   float64\n",
      " 47  SMA5                          1478 non-null   float64\n",
      " 48  SMA10                         1478 non-null   float64\n",
      " 49  SMA20                         1478 non-null   float64\n",
      " 50  SMA60                         1478 non-null   float64\n",
      " 51  SMA120                        1478 non-null   float64\n",
      " 52  volume_SMA5                   1478 non-null   float64\n",
      " 53  volume_SMA10                  1478 non-null   float64\n",
      " 54  volume_SMA20                  1478 non-null   float64\n",
      " 55  WMA5                          1478 non-null   float64\n",
      " 56  WMA10                         1478 non-null   float64\n",
      " 57  WMA20                         1478 non-null   float64\n",
      " 58  WMA60                         1478 non-null   float64\n",
      " 59  WMA120                        1478 non-null   float64\n",
      " 60  volume_WMA5                   1478 non-null   float64\n",
      " 61  volume_WMA10                  1478 non-null   float64\n",
      " 62  volume_WMA20                  1478 non-null   float64\n",
      " 63  EMA5                          1478 non-null   float64\n",
      " 64  EMA10                         1478 non-null   float64\n",
      " 65  EMA20                         1478 non-null   float64\n",
      " 66  EMA60                         1478 non-null   float64\n",
      " 67  EMA120                        1478 non-null   float64\n",
      " 68  volume_EMA5                   1478 non-null   float64\n",
      " 69  volume_EMA10                  1478 non-null   float64\n",
      " 70  volume_EMA20                  1478 non-null   float64\n",
      " 71  WILLR_14                      1478 non-null   float64\n",
      " 72  NATR_14                       1478 non-null   float64\n",
      " 73  PPO_12_26                     1478 non-null   float64\n",
      " 74  CCI_14                        1478 non-null   float64\n",
      " 75  ADX_14                        1478 non-null   float64\n",
      " 76  ADXR_14                       1478 non-null   float64\n",
      " 77  MACD_12_26_9                  1478 non-null   float64\n",
      " 78  RSI_14                        1478 non-null   float64\n",
      " 79  BBANDS_U                      1478 non-null   float64\n",
      " 80  BBANDS_M                      1478 non-null   float64\n",
      " 81  BBANDS_L                      1478 non-null   float64\n",
      " 82  AD                            1478 non-null   float64\n",
      " 83  ATR                           1478 non-null   float64\n",
      " 84  HT_DC                         1478 non-null   float64\n",
      " 85  SAR                           1478 non-null   float64\n",
      " 86  ratio_high_open               1478 non-null   float64\n",
      " 87  ratio_low_open                1478 non-null   float64\n",
      " 88  ratio_close_open              1478 non-null   float64\n",
      " 89  time_to_chart_return          1478 non-null   float64\n",
      " 90  crypto_index                  1478 non-null   float64\n",
      " 91  datetime                      1478 non-null   object \n",
      "dtypes: float64(63), int64(25), object(4)\n",
      "memory usage: 1.0+ MB\n"
     ]
    }
   ],
   "source": [
    "df.info()"
   ]
  },
  {
   "cell_type": "code",
   "execution_count": 11,
   "metadata": {},
   "outputs": [],
   "source": [
    "df[\"tic\"] = 'BTCUSDT'"
   ]
  },
  {
   "cell_type": "code",
   "execution_count": 12,
   "metadata": {},
   "outputs": [],
   "source": [
    "#df[\"date\"] = pd.to_datetime(df[\"date\"], format=\"%Y-%m-%d\").dt.date"
   ]
  },
  {
   "cell_type": "code",
   "execution_count": 13,
   "metadata": {},
   "outputs": [],
   "source": [
    "df_col_selected = df[['date', 'tic', 'open', 'high', 'low', 'close', 'volume',\n",
    "        'upper_shadow', 'lower_shadow', 'real_body',\n",
    "        'MACD_12_26_9', 'BBANDS_U', 'BBANDS_M', 'BBANDS_L', 'RSI_14', 'CCI_14', 'WMA20', 'WMA60',\n",
    "        'CDLINVERTEDHAMMER_NEW', 'CDLHAMMER_NEW', 'CDLMORNINGSTAR_NEW', 'CDLENGULFINGBULLISH_NEW', \n",
    "        'CDLSHOOTINGSTAR_NEW', 'CDLHANGINGMAN_NEW', 'CDLEVENINGSTAR_NEW', 'CDLENGULFINGBEARISH_NEW']]"
   ]
  },
  {
   "cell_type": "code",
   "execution_count": 14,
   "metadata": {},
   "outputs": [
    {
     "data": {
      "text/html": [
       "<div>\n",
       "<style scoped>\n",
       "    .dataframe tbody tr th:only-of-type {\n",
       "        vertical-align: middle;\n",
       "    }\n",
       "\n",
       "    .dataframe tbody tr th {\n",
       "        vertical-align: top;\n",
       "    }\n",
       "\n",
       "    .dataframe thead th {\n",
       "        text-align: right;\n",
       "    }\n",
       "</style>\n",
       "<table border=\"1\" class=\"dataframe\">\n",
       "  <thead>\n",
       "    <tr style=\"text-align: right;\">\n",
       "      <th></th>\n",
       "      <th>date</th>\n",
       "      <th>tic</th>\n",
       "      <th>open</th>\n",
       "      <th>high</th>\n",
       "      <th>low</th>\n",
       "      <th>close</th>\n",
       "      <th>volume</th>\n",
       "      <th>upper_shadow</th>\n",
       "      <th>lower_shadow</th>\n",
       "      <th>real_body</th>\n",
       "      <th>...</th>\n",
       "      <th>WMA20</th>\n",
       "      <th>WMA60</th>\n",
       "      <th>CDLINVERTEDHAMMER_NEW</th>\n",
       "      <th>CDLHAMMER_NEW</th>\n",
       "      <th>CDLMORNINGSTAR_NEW</th>\n",
       "      <th>CDLENGULFINGBULLISH_NEW</th>\n",
       "      <th>CDLSHOOTINGSTAR_NEW</th>\n",
       "      <th>CDLHANGINGMAN_NEW</th>\n",
       "      <th>CDLEVENINGSTAR_NEW</th>\n",
       "      <th>CDLENGULFINGBEARISH_NEW</th>\n",
       "    </tr>\n",
       "  </thead>\n",
       "  <tbody>\n",
       "    <tr>\n",
       "      <th>0</th>\n",
       "      <td>2017-12-15 01:00:00</td>\n",
       "      <td>BTCUSDT</td>\n",
       "      <td>16334.98</td>\n",
       "      <td>17991.00</td>\n",
       "      <td>16298.45</td>\n",
       "      <td>17539.83</td>\n",
       "      <td>9181.273947</td>\n",
       "      <td>451.17</td>\n",
       "      <td>36.53</td>\n",
       "      <td>1204.85</td>\n",
       "      <td>...</td>\n",
       "      <td>14638.133095</td>\n",
       "      <td>10668.372940</td>\n",
       "      <td>0</td>\n",
       "      <td>0</td>\n",
       "      <td>0</td>\n",
       "      <td>0</td>\n",
       "      <td>0</td>\n",
       "      <td>0</td>\n",
       "      <td>0</td>\n",
       "      <td>0</td>\n",
       "    </tr>\n",
       "    <tr>\n",
       "      <th>1</th>\n",
       "      <td>2017-12-16 01:00:00</td>\n",
       "      <td>BTCUSDT</td>\n",
       "      <td>17516.81</td>\n",
       "      <td>19539.00</td>\n",
       "      <td>17190.01</td>\n",
       "      <td>19102.66</td>\n",
       "      <td>4202.628709</td>\n",
       "      <td>436.34</td>\n",
       "      <td>326.80</td>\n",
       "      <td>1585.85</td>\n",
       "      <td>...</td>\n",
       "      <td>15206.242524</td>\n",
       "      <td>11002.714656</td>\n",
       "      <td>0</td>\n",
       "      <td>0</td>\n",
       "      <td>0</td>\n",
       "      <td>0</td>\n",
       "      <td>0</td>\n",
       "      <td>0</td>\n",
       "      <td>0</td>\n",
       "      <td>0</td>\n",
       "    </tr>\n",
       "    <tr>\n",
       "      <th>2</th>\n",
       "      <td>2017-12-17 01:00:00</td>\n",
       "      <td>BTCUSDT</td>\n",
       "      <td>19120.19</td>\n",
       "      <td>19798.68</td>\n",
       "      <td>18510.00</td>\n",
       "      <td>18860.02</td>\n",
       "      <td>9177.183434</td>\n",
       "      <td>678.49</td>\n",
       "      <td>350.02</td>\n",
       "      <td>260.17</td>\n",
       "      <td>...</td>\n",
       "      <td>15703.745095</td>\n",
       "      <td>11321.719727</td>\n",
       "      <td>0</td>\n",
       "      <td>0</td>\n",
       "      <td>0</td>\n",
       "      <td>0</td>\n",
       "      <td>0</td>\n",
       "      <td>0</td>\n",
       "      <td>0</td>\n",
       "      <td>0</td>\n",
       "    </tr>\n",
       "    <tr>\n",
       "      <th>3</th>\n",
       "      <td>2017-12-18 01:00:00</td>\n",
       "      <td>BTCUSDT</td>\n",
       "      <td>18860.04</td>\n",
       "      <td>19300.00</td>\n",
       "      <td>17029.98</td>\n",
       "      <td>18856.25</td>\n",
       "      <td>10624.633071</td>\n",
       "      <td>439.96</td>\n",
       "      <td>1826.27</td>\n",
       "      <td>3.79</td>\n",
       "      <td>...</td>\n",
       "      <td>16157.031381</td>\n",
       "      <td>11633.307224</td>\n",
       "      <td>0</td>\n",
       "      <td>0</td>\n",
       "      <td>0</td>\n",
       "      <td>0</td>\n",
       "      <td>0</td>\n",
       "      <td>0</td>\n",
       "      <td>0</td>\n",
       "      <td>0</td>\n",
       "    </tr>\n",
       "    <tr>\n",
       "      <th>4</th>\n",
       "      <td>2017-12-19 01:00:00</td>\n",
       "      <td>BTCUSDT</td>\n",
       "      <td>18856.25</td>\n",
       "      <td>18950.00</td>\n",
       "      <td>16300.00</td>\n",
       "      <td>17295.20</td>\n",
       "      <td>13210.748220</td>\n",
       "      <td>93.75</td>\n",
       "      <td>995.20</td>\n",
       "      <td>1561.05</td>\n",
       "      <td>...</td>\n",
       "      <td>16418.982190</td>\n",
       "      <td>11886.514749</td>\n",
       "      <td>0</td>\n",
       "      <td>0</td>\n",
       "      <td>0</td>\n",
       "      <td>0</td>\n",
       "      <td>0</td>\n",
       "      <td>0</td>\n",
       "      <td>0</td>\n",
       "      <td>0</td>\n",
       "    </tr>\n",
       "  </tbody>\n",
       "</table>\n",
       "<p>5 rows × 26 columns</p>\n",
       "</div>"
      ],
      "text/plain": [
       "                  date      tic      open      high       low     close  \\\n",
       "0  2017-12-15 01:00:00  BTCUSDT  16334.98  17991.00  16298.45  17539.83   \n",
       "1  2017-12-16 01:00:00  BTCUSDT  17516.81  19539.00  17190.01  19102.66   \n",
       "2  2017-12-17 01:00:00  BTCUSDT  19120.19  19798.68  18510.00  18860.02   \n",
       "3  2017-12-18 01:00:00  BTCUSDT  18860.04  19300.00  17029.98  18856.25   \n",
       "4  2017-12-19 01:00:00  BTCUSDT  18856.25  18950.00  16300.00  17295.20   \n",
       "\n",
       "         volume  upper_shadow  lower_shadow  real_body  ...         WMA20  \\\n",
       "0   9181.273947        451.17         36.53    1204.85  ...  14638.133095   \n",
       "1   4202.628709        436.34        326.80    1585.85  ...  15206.242524   \n",
       "2   9177.183434        678.49        350.02     260.17  ...  15703.745095   \n",
       "3  10624.633071        439.96       1826.27       3.79  ...  16157.031381   \n",
       "4  13210.748220         93.75        995.20    1561.05  ...  16418.982190   \n",
       "\n",
       "          WMA60  CDLINVERTEDHAMMER_NEW  CDLHAMMER_NEW  CDLMORNINGSTAR_NEW  \\\n",
       "0  10668.372940                      0              0                   0   \n",
       "1  11002.714656                      0              0                   0   \n",
       "2  11321.719727                      0              0                   0   \n",
       "3  11633.307224                      0              0                   0   \n",
       "4  11886.514749                      0              0                   0   \n",
       "\n",
       "   CDLENGULFINGBULLISH_NEW  CDLSHOOTINGSTAR_NEW  CDLHANGINGMAN_NEW  \\\n",
       "0                        0                    0                  0   \n",
       "1                        0                    0                  0   \n",
       "2                        0                    0                  0   \n",
       "3                        0                    0                  0   \n",
       "4                        0                    0                  0   \n",
       "\n",
       "   CDLEVENINGSTAR_NEW  CDLENGULFINGBEARISH_NEW  \n",
       "0                   0                        0  \n",
       "1                   0                        0  \n",
       "2                   0                        0  \n",
       "3                   0                        0  \n",
       "4                   0                        0  \n",
       "\n",
       "[5 rows x 26 columns]"
      ]
     },
     "execution_count": 14,
     "metadata": {},
     "output_type": "execute_result"
    }
   ],
   "source": [
    "df_col_selected.head()"
   ]
  },
  {
   "cell_type": "code",
   "execution_count": 15,
   "metadata": {},
   "outputs": [
    {
     "data": {
      "text/html": [
       "<div>\n",
       "<style scoped>\n",
       "    .dataframe tbody tr th:only-of-type {\n",
       "        vertical-align: middle;\n",
       "    }\n",
       "\n",
       "    .dataframe tbody tr th {\n",
       "        vertical-align: top;\n",
       "    }\n",
       "\n",
       "    .dataframe thead th {\n",
       "        text-align: right;\n",
       "    }\n",
       "</style>\n",
       "<table border=\"1\" class=\"dataframe\">\n",
       "  <thead>\n",
       "    <tr style=\"text-align: right;\">\n",
       "      <th></th>\n",
       "      <th>date</th>\n",
       "      <th>tic</th>\n",
       "      <th>open</th>\n",
       "      <th>high</th>\n",
       "      <th>low</th>\n",
       "      <th>close</th>\n",
       "      <th>volume</th>\n",
       "      <th>upper_shadow</th>\n",
       "      <th>lower_shadow</th>\n",
       "      <th>real_body</th>\n",
       "      <th>...</th>\n",
       "      <th>WMA20</th>\n",
       "      <th>WMA60</th>\n",
       "      <th>CDLINVERTEDHAMMER_NEW</th>\n",
       "      <th>CDLHAMMER_NEW</th>\n",
       "      <th>CDLMORNINGSTAR_NEW</th>\n",
       "      <th>CDLENGULFINGBULLISH_NEW</th>\n",
       "      <th>CDLSHOOTINGSTAR_NEW</th>\n",
       "      <th>CDLHANGINGMAN_NEW</th>\n",
       "      <th>CDLEVENINGSTAR_NEW</th>\n",
       "      <th>CDLENGULFINGBEARISH_NEW</th>\n",
       "    </tr>\n",
       "  </thead>\n",
       "  <tbody>\n",
       "    <tr>\n",
       "      <th>1473</th>\n",
       "      <td>2021-12-27 01:00:00</td>\n",
       "      <td>BTCUSDT</td>\n",
       "      <td>50775.48</td>\n",
       "      <td>52088.00</td>\n",
       "      <td>50449.00</td>\n",
       "      <td>50701.44</td>\n",
       "      <td>28792.21566</td>\n",
       "      <td>1312.52</td>\n",
       "      <td>252.44</td>\n",
       "      <td>74.04</td>\n",
       "      <td>...</td>\n",
       "      <td>49029.490286</td>\n",
       "      <td>52534.924634</td>\n",
       "      <td>0</td>\n",
       "      <td>0</td>\n",
       "      <td>0</td>\n",
       "      <td>0</td>\n",
       "      <td>0</td>\n",
       "      <td>0</td>\n",
       "      <td>0</td>\n",
       "      <td>0</td>\n",
       "    </tr>\n",
       "    <tr>\n",
       "      <th>1474</th>\n",
       "      <td>2021-12-28 01:00:00</td>\n",
       "      <td>BTCUSDT</td>\n",
       "      <td>50701.44</td>\n",
       "      <td>50704.05</td>\n",
       "      <td>47313.01</td>\n",
       "      <td>47543.74</td>\n",
       "      <td>45853.33924</td>\n",
       "      <td>2.61</td>\n",
       "      <td>230.73</td>\n",
       "      <td>3157.70</td>\n",
       "      <td>...</td>\n",
       "      <td>48920.707857</td>\n",
       "      <td>52265.401038</td>\n",
       "      <td>0</td>\n",
       "      <td>0</td>\n",
       "      <td>0</td>\n",
       "      <td>0</td>\n",
       "      <td>0</td>\n",
       "      <td>0</td>\n",
       "      <td>0</td>\n",
       "      <td>0</td>\n",
       "    </tr>\n",
       "    <tr>\n",
       "      <th>1475</th>\n",
       "      <td>2021-12-29 01:00:00</td>\n",
       "      <td>BTCUSDT</td>\n",
       "      <td>47543.74</td>\n",
       "      <td>48139.08</td>\n",
       "      <td>46096.99</td>\n",
       "      <td>46464.66</td>\n",
       "      <td>39498.87000</td>\n",
       "      <td>595.34</td>\n",
       "      <td>367.67</td>\n",
       "      <td>1079.08</td>\n",
       "      <td>...</td>\n",
       "      <td>48723.096143</td>\n",
       "      <td>51968.536005</td>\n",
       "      <td>0</td>\n",
       "      <td>0</td>\n",
       "      <td>0</td>\n",
       "      <td>0</td>\n",
       "      <td>0</td>\n",
       "      <td>0</td>\n",
       "      <td>0</td>\n",
       "      <td>0</td>\n",
       "    </tr>\n",
       "    <tr>\n",
       "      <th>1476</th>\n",
       "      <td>2021-12-30 01:00:00</td>\n",
       "      <td>BTCUSDT</td>\n",
       "      <td>46464.66</td>\n",
       "      <td>47900.00</td>\n",
       "      <td>45900.00</td>\n",
       "      <td>47120.87</td>\n",
       "      <td>30352.29569</td>\n",
       "      <td>779.13</td>\n",
       "      <td>564.66</td>\n",
       "      <td>656.21</td>\n",
       "      <td>...</td>\n",
       "      <td>48593.127905</td>\n",
       "      <td>51701.598366</td>\n",
       "      <td>0</td>\n",
       "      <td>0</td>\n",
       "      <td>0</td>\n",
       "      <td>0</td>\n",
       "      <td>0</td>\n",
       "      <td>0</td>\n",
       "      <td>0</td>\n",
       "      <td>0</td>\n",
       "    </tr>\n",
       "    <tr>\n",
       "      <th>1477</th>\n",
       "      <td>2021-12-31 01:00:00</td>\n",
       "      <td>BTCUSDT</td>\n",
       "      <td>47120.88</td>\n",
       "      <td>48548.26</td>\n",
       "      <td>45678.00</td>\n",
       "      <td>46216.93</td>\n",
       "      <td>34937.99796</td>\n",
       "      <td>1427.38</td>\n",
       "      <td>538.93</td>\n",
       "      <td>903.95</td>\n",
       "      <td>...</td>\n",
       "      <td>48377.163810</td>\n",
       "      <td>51412.771399</td>\n",
       "      <td>0</td>\n",
       "      <td>0</td>\n",
       "      <td>0</td>\n",
       "      <td>0</td>\n",
       "      <td>0</td>\n",
       "      <td>0</td>\n",
       "      <td>0</td>\n",
       "      <td>0</td>\n",
       "    </tr>\n",
       "  </tbody>\n",
       "</table>\n",
       "<p>5 rows × 26 columns</p>\n",
       "</div>"
      ],
      "text/plain": [
       "                     date      tic      open      high       low     close  \\\n",
       "1473  2021-12-27 01:00:00  BTCUSDT  50775.48  52088.00  50449.00  50701.44   \n",
       "1474  2021-12-28 01:00:00  BTCUSDT  50701.44  50704.05  47313.01  47543.74   \n",
       "1475  2021-12-29 01:00:00  BTCUSDT  47543.74  48139.08  46096.99  46464.66   \n",
       "1476  2021-12-30 01:00:00  BTCUSDT  46464.66  47900.00  45900.00  47120.87   \n",
       "1477  2021-12-31 01:00:00  BTCUSDT  47120.88  48548.26  45678.00  46216.93   \n",
       "\n",
       "           volume  upper_shadow  lower_shadow  real_body  ...         WMA20  \\\n",
       "1473  28792.21566       1312.52        252.44      74.04  ...  49029.490286   \n",
       "1474  45853.33924          2.61        230.73    3157.70  ...  48920.707857   \n",
       "1475  39498.87000        595.34        367.67    1079.08  ...  48723.096143   \n",
       "1476  30352.29569        779.13        564.66     656.21  ...  48593.127905   \n",
       "1477  34937.99796       1427.38        538.93     903.95  ...  48377.163810   \n",
       "\n",
       "             WMA60  CDLINVERTEDHAMMER_NEW  CDLHAMMER_NEW  CDLMORNINGSTAR_NEW  \\\n",
       "1473  52534.924634                      0              0                   0   \n",
       "1474  52265.401038                      0              0                   0   \n",
       "1475  51968.536005                      0              0                   0   \n",
       "1476  51701.598366                      0              0                   0   \n",
       "1477  51412.771399                      0              0                   0   \n",
       "\n",
       "      CDLENGULFINGBULLISH_NEW  CDLSHOOTINGSTAR_NEW  CDLHANGINGMAN_NEW  \\\n",
       "1473                        0                    0                  0   \n",
       "1474                        0                    0                  0   \n",
       "1475                        0                    0                  0   \n",
       "1476                        0                    0                  0   \n",
       "1477                        0                    0                  0   \n",
       "\n",
       "      CDLEVENINGSTAR_NEW  CDLENGULFINGBEARISH_NEW  \n",
       "1473                   0                        0  \n",
       "1474                   0                        0  \n",
       "1475                   0                        0  \n",
       "1476                   0                        0  \n",
       "1477                   0                        0  \n",
       "\n",
       "[5 rows x 26 columns]"
      ]
     },
     "execution_count": 15,
     "metadata": {},
     "output_type": "execute_result"
    }
   ],
   "source": [
    "df_col_selected.tail()"
   ]
  },
  {
   "cell_type": "code",
   "execution_count": 16,
   "metadata": {},
   "outputs": [
    {
     "data": {
      "text/plain": [
       "False"
      ]
     },
     "execution_count": 16,
     "metadata": {},
     "output_type": "execute_result"
    }
   ],
   "source": [
    "#df_col_selected.plot(x='date', y='close')\n",
    "df_col_selected.isna().any().any()"
   ]
  },
  {
   "cell_type": "markdown",
   "metadata": {},
   "source": [
    "### Check missing date"
   ]
  },
  {
   "cell_type": "code",
   "execution_count": 17,
   "metadata": {},
   "outputs": [],
   "source": [
    "df_check_date = df_col_selected[['date']]"
   ]
  },
  {
   "cell_type": "code",
   "execution_count": 18,
   "metadata": {},
   "outputs": [
    {
     "name": "stdout",
     "output_type": "stream",
     "text": [
      "DatetimeIndex(['2017-12-15', '2017-12-16', '2017-12-17', '2017-12-18',\n",
      "               '2017-12-19', '2017-12-20', '2017-12-21', '2017-12-22',\n",
      "               '2017-12-23', '2017-12-24',\n",
      "               ...\n",
      "               '2021-12-22', '2021-12-23', '2021-12-24', '2021-12-25',\n",
      "               '2021-12-26', '2021-12-27', '2021-12-28', '2021-12-29',\n",
      "               '2021-12-30', '2021-12-31'],\n",
      "              dtype='datetime64[ns]', length=1478, freq=None)\n"
     ]
    }
   ],
   "source": [
    "# Setting the Date values as index\n",
    "df_check_date = df_check_date.set_index('date')\n",
    " \n",
    "# to_datetime() method converts string\n",
    "# format to a DateTime object\n",
    "df_check_date.index = pd.to_datetime(df_check_date.index)\n",
    " \n",
    "# dates which are not in the sequence\n",
    "# are returned\n",
    "print(pd.date_range(\n",
    "  start=\"2017-12-15\", end=\"2021-12-31\").difference(df_check_date.index))"
   ]
  },
  {
   "cell_type": "markdown",
   "metadata": {
    "id": "uqC6c40Zh1iH"
   },
   "source": [
    "# Part 4: Preprocess Data\n",
    "Data preprocessing is a crucial step for training a high quality machine learning model. We need to check for missing data and do feature engineering in order to convert the data into a model-ready state.\n",
    "* Add technical indicators. In practical trading, various information needs to be taken into account, for example the historical stock prices, current holding shares, technical indicators, etc. In this article, we demonstrate two trend-following technical indicators: MACD and RSI.\n",
    "* Add turbulence index. Risk-aversion reflects whether an investor will choose to preserve the capital. It also influences one's trading strategy when facing different market volatility level. To control the risk in a worst-case scenario, such as financial crisis of 2007–2008, FinRL employs the financial turbulence index that measures extreme asset price fluctuation."
   ]
  },
  {
   "cell_type": "code",
   "execution_count": 19,
   "metadata": {
    "colab": {
     "base_uri": "https://localhost:8080/"
    },
    "id": "PmKP-1ii3RLS",
    "outputId": "0708badb-77ef-4c86-f77c-6525f0e8934d",
    "pycharm": {
     "name": "#%%\n"
    }
   },
   "outputs": [],
   "source": [
    "fe = FeatureEngineer(\n",
    "                    use_technical_indicator=False,\n",
    "                    #tech_indicator_list = [\"macd\", \"boll_ub\", \"boll_lb\", \"rsi_30\", \"cci_30\", \"dx_30\", \"close_30_sma\", \"close_60_sma\"],\n",
    "                    use_vix=False,\n",
    "                    use_turbulence=False,\n",
    "                    user_defined_feature = False)\n",
    "\n",
    "processed = fe.preprocess_data(df_col_selected)"
   ]
  },
  {
   "cell_type": "code",
   "execution_count": 20,
   "metadata": {},
   "outputs": [
    {
     "data": {
      "text/html": [
       "<div>\n",
       "<style scoped>\n",
       "    .dataframe tbody tr th:only-of-type {\n",
       "        vertical-align: middle;\n",
       "    }\n",
       "\n",
       "    .dataframe tbody tr th {\n",
       "        vertical-align: top;\n",
       "    }\n",
       "\n",
       "    .dataframe thead th {\n",
       "        text-align: right;\n",
       "    }\n",
       "</style>\n",
       "<table border=\"1\" class=\"dataframe\">\n",
       "  <thead>\n",
       "    <tr style=\"text-align: right;\">\n",
       "      <th></th>\n",
       "      <th>date</th>\n",
       "      <th>tic</th>\n",
       "      <th>open</th>\n",
       "      <th>high</th>\n",
       "      <th>low</th>\n",
       "      <th>close</th>\n",
       "      <th>volume</th>\n",
       "      <th>upper_shadow</th>\n",
       "      <th>lower_shadow</th>\n",
       "      <th>real_body</th>\n",
       "      <th>...</th>\n",
       "      <th>WMA20</th>\n",
       "      <th>WMA60</th>\n",
       "      <th>CDLINVERTEDHAMMER_NEW</th>\n",
       "      <th>CDLHAMMER_NEW</th>\n",
       "      <th>CDLMORNINGSTAR_NEW</th>\n",
       "      <th>CDLENGULFINGBULLISH_NEW</th>\n",
       "      <th>CDLSHOOTINGSTAR_NEW</th>\n",
       "      <th>CDLHANGINGMAN_NEW</th>\n",
       "      <th>CDLEVENINGSTAR_NEW</th>\n",
       "      <th>CDLENGULFINGBEARISH_NEW</th>\n",
       "    </tr>\n",
       "  </thead>\n",
       "  <tbody>\n",
       "    <tr>\n",
       "      <th>0</th>\n",
       "      <td>2017-12-15 01:00:00</td>\n",
       "      <td>BTCUSDT</td>\n",
       "      <td>16334.98</td>\n",
       "      <td>17991.00</td>\n",
       "      <td>16298.45</td>\n",
       "      <td>17539.83</td>\n",
       "      <td>9181.273947</td>\n",
       "      <td>451.17</td>\n",
       "      <td>36.53</td>\n",
       "      <td>1204.85</td>\n",
       "      <td>...</td>\n",
       "      <td>14638.133095</td>\n",
       "      <td>10668.372940</td>\n",
       "      <td>0</td>\n",
       "      <td>0</td>\n",
       "      <td>0</td>\n",
       "      <td>0</td>\n",
       "      <td>0</td>\n",
       "      <td>0</td>\n",
       "      <td>0</td>\n",
       "      <td>0</td>\n",
       "    </tr>\n",
       "    <tr>\n",
       "      <th>1</th>\n",
       "      <td>2017-12-16 01:00:00</td>\n",
       "      <td>BTCUSDT</td>\n",
       "      <td>17516.81</td>\n",
       "      <td>19539.00</td>\n",
       "      <td>17190.01</td>\n",
       "      <td>19102.66</td>\n",
       "      <td>4202.628709</td>\n",
       "      <td>436.34</td>\n",
       "      <td>326.80</td>\n",
       "      <td>1585.85</td>\n",
       "      <td>...</td>\n",
       "      <td>15206.242524</td>\n",
       "      <td>11002.714656</td>\n",
       "      <td>0</td>\n",
       "      <td>0</td>\n",
       "      <td>0</td>\n",
       "      <td>0</td>\n",
       "      <td>0</td>\n",
       "      <td>0</td>\n",
       "      <td>0</td>\n",
       "      <td>0</td>\n",
       "    </tr>\n",
       "    <tr>\n",
       "      <th>2</th>\n",
       "      <td>2017-12-17 01:00:00</td>\n",
       "      <td>BTCUSDT</td>\n",
       "      <td>19120.19</td>\n",
       "      <td>19798.68</td>\n",
       "      <td>18510.00</td>\n",
       "      <td>18860.02</td>\n",
       "      <td>9177.183434</td>\n",
       "      <td>678.49</td>\n",
       "      <td>350.02</td>\n",
       "      <td>260.17</td>\n",
       "      <td>...</td>\n",
       "      <td>15703.745095</td>\n",
       "      <td>11321.719727</td>\n",
       "      <td>0</td>\n",
       "      <td>0</td>\n",
       "      <td>0</td>\n",
       "      <td>0</td>\n",
       "      <td>0</td>\n",
       "      <td>0</td>\n",
       "      <td>0</td>\n",
       "      <td>0</td>\n",
       "    </tr>\n",
       "    <tr>\n",
       "      <th>3</th>\n",
       "      <td>2017-12-18 01:00:00</td>\n",
       "      <td>BTCUSDT</td>\n",
       "      <td>18860.04</td>\n",
       "      <td>19300.00</td>\n",
       "      <td>17029.98</td>\n",
       "      <td>18856.25</td>\n",
       "      <td>10624.633071</td>\n",
       "      <td>439.96</td>\n",
       "      <td>1826.27</td>\n",
       "      <td>3.79</td>\n",
       "      <td>...</td>\n",
       "      <td>16157.031381</td>\n",
       "      <td>11633.307224</td>\n",
       "      <td>0</td>\n",
       "      <td>0</td>\n",
       "      <td>0</td>\n",
       "      <td>0</td>\n",
       "      <td>0</td>\n",
       "      <td>0</td>\n",
       "      <td>0</td>\n",
       "      <td>0</td>\n",
       "    </tr>\n",
       "    <tr>\n",
       "      <th>4</th>\n",
       "      <td>2017-12-19 01:00:00</td>\n",
       "      <td>BTCUSDT</td>\n",
       "      <td>18856.25</td>\n",
       "      <td>18950.00</td>\n",
       "      <td>16300.00</td>\n",
       "      <td>17295.20</td>\n",
       "      <td>13210.748220</td>\n",
       "      <td>93.75</td>\n",
       "      <td>995.20</td>\n",
       "      <td>1561.05</td>\n",
       "      <td>...</td>\n",
       "      <td>16418.982190</td>\n",
       "      <td>11886.514749</td>\n",
       "      <td>0</td>\n",
       "      <td>0</td>\n",
       "      <td>0</td>\n",
       "      <td>0</td>\n",
       "      <td>0</td>\n",
       "      <td>0</td>\n",
       "      <td>0</td>\n",
       "      <td>0</td>\n",
       "    </tr>\n",
       "  </tbody>\n",
       "</table>\n",
       "<p>5 rows × 26 columns</p>\n",
       "</div>"
      ],
      "text/plain": [
       "                  date      tic      open      high       low     close  \\\n",
       "0  2017-12-15 01:00:00  BTCUSDT  16334.98  17991.00  16298.45  17539.83   \n",
       "1  2017-12-16 01:00:00  BTCUSDT  17516.81  19539.00  17190.01  19102.66   \n",
       "2  2017-12-17 01:00:00  BTCUSDT  19120.19  19798.68  18510.00  18860.02   \n",
       "3  2017-12-18 01:00:00  BTCUSDT  18860.04  19300.00  17029.98  18856.25   \n",
       "4  2017-12-19 01:00:00  BTCUSDT  18856.25  18950.00  16300.00  17295.20   \n",
       "\n",
       "         volume  upper_shadow  lower_shadow  real_body  ...         WMA20  \\\n",
       "0   9181.273947        451.17         36.53    1204.85  ...  14638.133095   \n",
       "1   4202.628709        436.34        326.80    1585.85  ...  15206.242524   \n",
       "2   9177.183434        678.49        350.02     260.17  ...  15703.745095   \n",
       "3  10624.633071        439.96       1826.27       3.79  ...  16157.031381   \n",
       "4  13210.748220         93.75        995.20    1561.05  ...  16418.982190   \n",
       "\n",
       "          WMA60  CDLINVERTEDHAMMER_NEW  CDLHAMMER_NEW  CDLMORNINGSTAR_NEW  \\\n",
       "0  10668.372940                      0              0                   0   \n",
       "1  11002.714656                      0              0                   0   \n",
       "2  11321.719727                      0              0                   0   \n",
       "3  11633.307224                      0              0                   0   \n",
       "4  11886.514749                      0              0                   0   \n",
       "\n",
       "   CDLENGULFINGBULLISH_NEW  CDLSHOOTINGSTAR_NEW  CDLHANGINGMAN_NEW  \\\n",
       "0                        0                    0                  0   \n",
       "1                        0                    0                  0   \n",
       "2                        0                    0                  0   \n",
       "3                        0                    0                  0   \n",
       "4                        0                    0                  0   \n",
       "\n",
       "   CDLEVENINGSTAR_NEW  CDLENGULFINGBEARISH_NEW  \n",
       "0                   0                        0  \n",
       "1                   0                        0  \n",
       "2                   0                        0  \n",
       "3                   0                        0  \n",
       "4                   0                        0  \n",
       "\n",
       "[5 rows x 26 columns]"
      ]
     },
     "execution_count": 20,
     "metadata": {},
     "output_type": "execute_result"
    }
   ],
   "source": [
    "processed.head()"
   ]
  },
  {
   "cell_type": "markdown",
   "metadata": {
    "id": "-QsYaY0Dh1iw"
   },
   "source": [
    "<a id='4'></a>\n",
    "# Part 5. Design Environment\n",
    "Considering the stochastic and interactive nature of the automated stock trading tasks, a financial task is modeled as a **Markov Decision Process (MDP)** problem. The training process involves observing stock price change, taking an action and reward's calculation to have the agent adjusting its strategy accordingly. By interacting with the environment, the trading agent will derive a trading strategy with the maximized rewards as time proceeds.\n",
    "\n",
    "Our trading environments, based on OpenAI Gym framework, simulate live stock markets with real market data according to the principle of time-driven simulation.\n",
    "\n",
    "The action space describes the allowed actions that the agent interacts with the environment. Normally, action a includes three actions: {-1, 0, 1}, where -1, 0, 1 represent selling, holding, and buying one share. Also, an action can be carried upon multiple shares. We use an action space {-k,…,-1, 0, 1, …, k}, where k denotes the number of shares to buy and -k denotes the number of shares to sell. For example, \"Buy 10 shares of AAPL\" or \"Sell 10 shares of AAPL\" are 10 or -10, respectively. The continuous action space needs to be normalized to [-1, 1], since the policy is defined on a Gaussian distribution, which needs to be normalized and symmetric."
   ]
  },
  {
   "cell_type": "code",
   "execution_count": 21,
   "metadata": {},
   "outputs": [
    {
     "name": "stdout",
     "output_type": "stream",
     "text": [
      "<class 'pandas.core.frame.DataFrame'>\n",
      "Int64Index: 1478 entries, 0 to 1477\n",
      "Data columns (total 26 columns):\n",
      " #   Column                   Non-Null Count  Dtype  \n",
      "---  ------                   --------------  -----  \n",
      " 0   date                     1478 non-null   object \n",
      " 1   tic                      1478 non-null   object \n",
      " 2   open                     1478 non-null   float64\n",
      " 3   high                     1478 non-null   float64\n",
      " 4   low                      1478 non-null   float64\n",
      " 5   close                    1478 non-null   float64\n",
      " 6   volume                   1478 non-null   float64\n",
      " 7   upper_shadow             1478 non-null   float64\n",
      " 8   lower_shadow             1478 non-null   float64\n",
      " 9   real_body                1478 non-null   float64\n",
      " 10  MACD_12_26_9             1478 non-null   float64\n",
      " 11  BBANDS_U                 1478 non-null   float64\n",
      " 12  BBANDS_M                 1478 non-null   float64\n",
      " 13  BBANDS_L                 1478 non-null   float64\n",
      " 14  RSI_14                   1478 non-null   float64\n",
      " 15  CCI_14                   1478 non-null   float64\n",
      " 16  WMA20                    1478 non-null   float64\n",
      " 17  WMA60                    1478 non-null   float64\n",
      " 18  CDLINVERTEDHAMMER_NEW    1478 non-null   int64  \n",
      " 19  CDLHAMMER_NEW            1478 non-null   int64  \n",
      " 20  CDLMORNINGSTAR_NEW       1478 non-null   int64  \n",
      " 21  CDLENGULFINGBULLISH_NEW  1478 non-null   int64  \n",
      " 22  CDLSHOOTINGSTAR_NEW      1478 non-null   int64  \n",
      " 23  CDLHANGINGMAN_NEW        1478 non-null   int64  \n",
      " 24  CDLEVENINGSTAR_NEW       1478 non-null   int64  \n",
      " 25  CDLENGULFINGBEARISH_NEW  1478 non-null   int64  \n",
      "dtypes: float64(16), int64(8), object(2)\n",
      "memory usage: 311.8+ KB\n"
     ]
    }
   ],
   "source": [
    "processed.info()"
   ]
  },
  {
   "cell_type": "markdown",
   "metadata": {
    "id": "5TOhcryx44bb"
   },
   "source": [
    "## Training data split:\n",
    "## Trade data split:"
   ]
  },
  {
   "cell_type": "code",
   "execution_count": 22,
   "metadata": {
    "colab": {
     "base_uri": "https://localhost:8080/"
    },
    "id": "W0qaVGjLtgbI",
    "outputId": "ca8d1a43-ffc3-4fc3-efa9-4de9a9065842"
   },
   "outputs": [
    {
     "name": "stdout",
     "output_type": "stream",
     "text": [
      "180\n",
      "183\n"
     ]
    }
   ],
   "source": [
    "train = data_split(processed, '2021-01-01','2021-06-30')\n",
    "trade = data_split(processed, '2021-06-30','2021-12-30')\n",
    "print(len(train))\n",
    "print(len(trade))"
   ]
  },
  {
   "cell_type": "code",
   "execution_count": 23,
   "metadata": {},
   "outputs": [
    {
     "data": {
      "text/html": [
       "<div>\n",
       "<style scoped>\n",
       "    .dataframe tbody tr th:only-of-type {\n",
       "        vertical-align: middle;\n",
       "    }\n",
       "\n",
       "    .dataframe tbody tr th {\n",
       "        vertical-align: top;\n",
       "    }\n",
       "\n",
       "    .dataframe thead th {\n",
       "        text-align: right;\n",
       "    }\n",
       "</style>\n",
       "<table border=\"1\" class=\"dataframe\">\n",
       "  <thead>\n",
       "    <tr style=\"text-align: right;\">\n",
       "      <th></th>\n",
       "      <th>date</th>\n",
       "      <th>tic</th>\n",
       "      <th>open</th>\n",
       "      <th>high</th>\n",
       "      <th>low</th>\n",
       "      <th>close</th>\n",
       "      <th>volume</th>\n",
       "      <th>upper_shadow</th>\n",
       "      <th>lower_shadow</th>\n",
       "      <th>real_body</th>\n",
       "      <th>...</th>\n",
       "      <th>WMA20</th>\n",
       "      <th>WMA60</th>\n",
       "      <th>CDLINVERTEDHAMMER_NEW</th>\n",
       "      <th>CDLHAMMER_NEW</th>\n",
       "      <th>CDLMORNINGSTAR_NEW</th>\n",
       "      <th>CDLENGULFINGBULLISH_NEW</th>\n",
       "      <th>CDLSHOOTINGSTAR_NEW</th>\n",
       "      <th>CDLHANGINGMAN_NEW</th>\n",
       "      <th>CDLEVENINGSTAR_NEW</th>\n",
       "      <th>CDLENGULFINGBEARISH_NEW</th>\n",
       "    </tr>\n",
       "  </thead>\n",
       "  <tbody>\n",
       "    <tr>\n",
       "      <th>0</th>\n",
       "      <td>2021-01-01 01:00:00</td>\n",
       "      <td>BTCUSDT</td>\n",
       "      <td>28923.63</td>\n",
       "      <td>29600.00</td>\n",
       "      <td>28624.57</td>\n",
       "      <td>29331.69</td>\n",
       "      <td>54182.925011</td>\n",
       "      <td>268.31</td>\n",
       "      <td>299.06</td>\n",
       "      <td>408.06</td>\n",
       "      <td>...</td>\n",
       "      <td>25868.651333</td>\n",
       "      <td>21729.374366</td>\n",
       "      <td>0</td>\n",
       "      <td>0</td>\n",
       "      <td>0</td>\n",
       "      <td>0</td>\n",
       "      <td>0</td>\n",
       "      <td>0</td>\n",
       "      <td>0</td>\n",
       "      <td>0</td>\n",
       "    </tr>\n",
       "    <tr>\n",
       "      <th>1</th>\n",
       "      <td>2021-01-02 01:00:00</td>\n",
       "      <td>BTCUSDT</td>\n",
       "      <td>29331.70</td>\n",
       "      <td>33300.00</td>\n",
       "      <td>28946.53</td>\n",
       "      <td>32178.33</td>\n",
       "      <td>129993.873362</td>\n",
       "      <td>1121.67</td>\n",
       "      <td>385.17</td>\n",
       "      <td>2846.63</td>\n",
       "      <td>...</td>\n",
       "      <td>26623.887476</td>\n",
       "      <td>22137.903743</td>\n",
       "      <td>0</td>\n",
       "      <td>0</td>\n",
       "      <td>0</td>\n",
       "      <td>0</td>\n",
       "      <td>0</td>\n",
       "      <td>0</td>\n",
       "      <td>0</td>\n",
       "      <td>0</td>\n",
       "    </tr>\n",
       "    <tr>\n",
       "      <th>2</th>\n",
       "      <td>2021-01-03 01:00:00</td>\n",
       "      <td>BTCUSDT</td>\n",
       "      <td>32176.45</td>\n",
       "      <td>34778.11</td>\n",
       "      <td>31962.99</td>\n",
       "      <td>33000.05</td>\n",
       "      <td>120957.566750</td>\n",
       "      <td>1778.06</td>\n",
       "      <td>213.46</td>\n",
       "      <td>823.60</td>\n",
       "      <td>...</td>\n",
       "      <td>27395.462000</td>\n",
       "      <td>22563.454104</td>\n",
       "      <td>0</td>\n",
       "      <td>0</td>\n",
       "      <td>0</td>\n",
       "      <td>0</td>\n",
       "      <td>0</td>\n",
       "      <td>0</td>\n",
       "      <td>0</td>\n",
       "      <td>0</td>\n",
       "    </tr>\n",
       "    <tr>\n",
       "      <th>3</th>\n",
       "      <td>2021-01-04 01:00:00</td>\n",
       "      <td>BTCUSDT</td>\n",
       "      <td>33000.05</td>\n",
       "      <td>33600.00</td>\n",
       "      <td>28130.00</td>\n",
       "      <td>31988.71</td>\n",
       "      <td>140899.885690</td>\n",
       "      <td>599.95</td>\n",
       "      <td>3858.71</td>\n",
       "      <td>1011.34</td>\n",
       "      <td>...</td>\n",
       "      <td>28005.352190</td>\n",
       "      <td>22945.541929</td>\n",
       "      <td>0</td>\n",
       "      <td>0</td>\n",
       "      <td>0</td>\n",
       "      <td>0</td>\n",
       "      <td>0</td>\n",
       "      <td>0</td>\n",
       "      <td>0</td>\n",
       "      <td>0</td>\n",
       "    </tr>\n",
       "    <tr>\n",
       "      <th>4</th>\n",
       "      <td>2021-01-05 01:00:00</td>\n",
       "      <td>BTCUSDT</td>\n",
       "      <td>31989.75</td>\n",
       "      <td>34360.00</td>\n",
       "      <td>29900.00</td>\n",
       "      <td>33949.53</td>\n",
       "      <td>116049.997038</td>\n",
       "      <td>410.47</td>\n",
       "      <td>2089.75</td>\n",
       "      <td>1959.78</td>\n",
       "      <td>...</td>\n",
       "      <td>28742.166762</td>\n",
       "      <td>23382.957902</td>\n",
       "      <td>0</td>\n",
       "      <td>0</td>\n",
       "      <td>0</td>\n",
       "      <td>0</td>\n",
       "      <td>0</td>\n",
       "      <td>0</td>\n",
       "      <td>0</td>\n",
       "      <td>0</td>\n",
       "    </tr>\n",
       "  </tbody>\n",
       "</table>\n",
       "<p>5 rows × 26 columns</p>\n",
       "</div>"
      ],
      "text/plain": [
       "                  date      tic      open      high       low     close  \\\n",
       "0  2021-01-01 01:00:00  BTCUSDT  28923.63  29600.00  28624.57  29331.69   \n",
       "1  2021-01-02 01:00:00  BTCUSDT  29331.70  33300.00  28946.53  32178.33   \n",
       "2  2021-01-03 01:00:00  BTCUSDT  32176.45  34778.11  31962.99  33000.05   \n",
       "3  2021-01-04 01:00:00  BTCUSDT  33000.05  33600.00  28130.00  31988.71   \n",
       "4  2021-01-05 01:00:00  BTCUSDT  31989.75  34360.00  29900.00  33949.53   \n",
       "\n",
       "          volume  upper_shadow  lower_shadow  real_body  ...         WMA20  \\\n",
       "0   54182.925011        268.31        299.06     408.06  ...  25868.651333   \n",
       "1  129993.873362       1121.67        385.17    2846.63  ...  26623.887476   \n",
       "2  120957.566750       1778.06        213.46     823.60  ...  27395.462000   \n",
       "3  140899.885690        599.95       3858.71    1011.34  ...  28005.352190   \n",
       "4  116049.997038        410.47       2089.75    1959.78  ...  28742.166762   \n",
       "\n",
       "          WMA60  CDLINVERTEDHAMMER_NEW  CDLHAMMER_NEW  CDLMORNINGSTAR_NEW  \\\n",
       "0  21729.374366                      0              0                   0   \n",
       "1  22137.903743                      0              0                   0   \n",
       "2  22563.454104                      0              0                   0   \n",
       "3  22945.541929                      0              0                   0   \n",
       "4  23382.957902                      0              0                   0   \n",
       "\n",
       "   CDLENGULFINGBULLISH_NEW  CDLSHOOTINGSTAR_NEW  CDLHANGINGMAN_NEW  \\\n",
       "0                        0                    0                  0   \n",
       "1                        0                    0                  0   \n",
       "2                        0                    0                  0   \n",
       "3                        0                    0                  0   \n",
       "4                        0                    0                  0   \n",
       "\n",
       "   CDLEVENINGSTAR_NEW  CDLENGULFINGBEARISH_NEW  \n",
       "0                   0                        0  \n",
       "1                   0                        0  \n",
       "2                   0                        0  \n",
       "3                   0                        0  \n",
       "4                   0                        0  \n",
       "\n",
       "[5 rows x 26 columns]"
      ]
     },
     "execution_count": 23,
     "metadata": {},
     "output_type": "execute_result"
    }
   ],
   "source": [
    "train.head()"
   ]
  },
  {
   "cell_type": "code",
   "execution_count": 24,
   "metadata": {
    "colab": {
     "base_uri": "https://localhost:8080/",
     "height": 357
    },
    "id": "p52zNCOhTtLR",
    "outputId": "b3ad3e10-376f-4186-f875-0331708c5e14"
   },
   "outputs": [
    {
     "data": {
      "text/html": [
       "<div>\n",
       "<style scoped>\n",
       "    .dataframe tbody tr th:only-of-type {\n",
       "        vertical-align: middle;\n",
       "    }\n",
       "\n",
       "    .dataframe tbody tr th {\n",
       "        vertical-align: top;\n",
       "    }\n",
       "\n",
       "    .dataframe thead th {\n",
       "        text-align: right;\n",
       "    }\n",
       "</style>\n",
       "<table border=\"1\" class=\"dataframe\">\n",
       "  <thead>\n",
       "    <tr style=\"text-align: right;\">\n",
       "      <th></th>\n",
       "      <th>date</th>\n",
       "      <th>tic</th>\n",
       "      <th>open</th>\n",
       "      <th>high</th>\n",
       "      <th>low</th>\n",
       "      <th>close</th>\n",
       "      <th>volume</th>\n",
       "      <th>upper_shadow</th>\n",
       "      <th>lower_shadow</th>\n",
       "      <th>real_body</th>\n",
       "      <th>...</th>\n",
       "      <th>WMA20</th>\n",
       "      <th>WMA60</th>\n",
       "      <th>CDLINVERTEDHAMMER_NEW</th>\n",
       "      <th>CDLHAMMER_NEW</th>\n",
       "      <th>CDLMORNINGSTAR_NEW</th>\n",
       "      <th>CDLENGULFINGBULLISH_NEW</th>\n",
       "      <th>CDLSHOOTINGSTAR_NEW</th>\n",
       "      <th>CDLHANGINGMAN_NEW</th>\n",
       "      <th>CDLEVENINGSTAR_NEW</th>\n",
       "      <th>CDLENGULFINGBEARISH_NEW</th>\n",
       "    </tr>\n",
       "  </thead>\n",
       "  <tbody>\n",
       "    <tr>\n",
       "      <th>175</th>\n",
       "      <td>2021-06-25 02:00:00</td>\n",
       "      <td>BTCUSDT</td>\n",
       "      <td>34663.08</td>\n",
       "      <td>35500.00</td>\n",
       "      <td>31275.00</td>\n",
       "      <td>31584.45</td>\n",
       "      <td>116061.130356</td>\n",
       "      <td>836.92</td>\n",
       "      <td>309.45</td>\n",
       "      <td>3078.63</td>\n",
       "      <td>...</td>\n",
       "      <td>35320.604095</td>\n",
       "      <td>38359.668350</td>\n",
       "      <td>0</td>\n",
       "      <td>0</td>\n",
       "      <td>0</td>\n",
       "      <td>0</td>\n",
       "      <td>0</td>\n",
       "      <td>0</td>\n",
       "      <td>0</td>\n",
       "      <td>0</td>\n",
       "    </tr>\n",
       "    <tr>\n",
       "      <th>176</th>\n",
       "      <td>2021-06-26 02:00:00</td>\n",
       "      <td>BTCUSDT</td>\n",
       "      <td>31576.09</td>\n",
       "      <td>32730.00</td>\n",
       "      <td>30151.00</td>\n",
       "      <td>32283.65</td>\n",
       "      <td>107820.375287</td>\n",
       "      <td>446.35</td>\n",
       "      <td>1425.09</td>\n",
       "      <td>707.56</td>\n",
       "      <td>...</td>\n",
       "      <td>34982.178048</td>\n",
       "      <td>38017.854333</td>\n",
       "      <td>0</td>\n",
       "      <td>0</td>\n",
       "      <td>0</td>\n",
       "      <td>0</td>\n",
       "      <td>0</td>\n",
       "      <td>0</td>\n",
       "      <td>0</td>\n",
       "      <td>0</td>\n",
       "    </tr>\n",
       "    <tr>\n",
       "      <th>177</th>\n",
       "      <td>2021-06-27 02:00:00</td>\n",
       "      <td>BTCUSDT</td>\n",
       "      <td>32283.65</td>\n",
       "      <td>34749.00</td>\n",
       "      <td>31973.45</td>\n",
       "      <td>34700.34</td>\n",
       "      <td>96613.244211</td>\n",
       "      <td>48.66</td>\n",
       "      <td>310.20</td>\n",
       "      <td>2416.69</td>\n",
       "      <td>...</td>\n",
       "      <td>34890.639905</td>\n",
       "      <td>37767.695902</td>\n",
       "      <td>0</td>\n",
       "      <td>0</td>\n",
       "      <td>0</td>\n",
       "      <td>0</td>\n",
       "      <td>0</td>\n",
       "      <td>0</td>\n",
       "      <td>0</td>\n",
       "      <td>0</td>\n",
       "    </tr>\n",
       "    <tr>\n",
       "      <th>178</th>\n",
       "      <td>2021-06-28 02:00:00</td>\n",
       "      <td>BTCUSDT</td>\n",
       "      <td>34702.49</td>\n",
       "      <td>35297.71</td>\n",
       "      <td>33862.72</td>\n",
       "      <td>34494.89</td>\n",
       "      <td>82222.267819</td>\n",
       "      <td>595.22</td>\n",
       "      <td>632.17</td>\n",
       "      <td>207.60</td>\n",
       "      <td>...</td>\n",
       "      <td>34774.070571</td>\n",
       "      <td>37521.810082</td>\n",
       "      <td>0</td>\n",
       "      <td>0</td>\n",
       "      <td>0</td>\n",
       "      <td>0</td>\n",
       "      <td>0</td>\n",
       "      <td>0</td>\n",
       "      <td>0</td>\n",
       "      <td>0</td>\n",
       "    </tr>\n",
       "    <tr>\n",
       "      <th>179</th>\n",
       "      <td>2021-06-29 02:00:00</td>\n",
       "      <td>BTCUSDT</td>\n",
       "      <td>34494.89</td>\n",
       "      <td>36600.00</td>\n",
       "      <td>34225.43</td>\n",
       "      <td>35911.73</td>\n",
       "      <td>90788.796220</td>\n",
       "      <td>688.27</td>\n",
       "      <td>269.46</td>\n",
       "      <td>1416.84</td>\n",
       "      <td>...</td>\n",
       "      <td>34787.133238</td>\n",
       "      <td>37332.793393</td>\n",
       "      <td>0</td>\n",
       "      <td>0</td>\n",
       "      <td>0</td>\n",
       "      <td>0</td>\n",
       "      <td>0</td>\n",
       "      <td>0</td>\n",
       "      <td>0</td>\n",
       "      <td>0</td>\n",
       "    </tr>\n",
       "  </tbody>\n",
       "</table>\n",
       "<p>5 rows × 26 columns</p>\n",
       "</div>"
      ],
      "text/plain": [
       "                    date      tic      open      high       low     close  \\\n",
       "175  2021-06-25 02:00:00  BTCUSDT  34663.08  35500.00  31275.00  31584.45   \n",
       "176  2021-06-26 02:00:00  BTCUSDT  31576.09  32730.00  30151.00  32283.65   \n",
       "177  2021-06-27 02:00:00  BTCUSDT  32283.65  34749.00  31973.45  34700.34   \n",
       "178  2021-06-28 02:00:00  BTCUSDT  34702.49  35297.71  33862.72  34494.89   \n",
       "179  2021-06-29 02:00:00  BTCUSDT  34494.89  36600.00  34225.43  35911.73   \n",
       "\n",
       "            volume  upper_shadow  lower_shadow  real_body  ...         WMA20  \\\n",
       "175  116061.130356        836.92        309.45    3078.63  ...  35320.604095   \n",
       "176  107820.375287        446.35       1425.09     707.56  ...  34982.178048   \n",
       "177   96613.244211         48.66        310.20    2416.69  ...  34890.639905   \n",
       "178   82222.267819        595.22        632.17     207.60  ...  34774.070571   \n",
       "179   90788.796220        688.27        269.46    1416.84  ...  34787.133238   \n",
       "\n",
       "            WMA60  CDLINVERTEDHAMMER_NEW  CDLHAMMER_NEW  CDLMORNINGSTAR_NEW  \\\n",
       "175  38359.668350                      0              0                   0   \n",
       "176  38017.854333                      0              0                   0   \n",
       "177  37767.695902                      0              0                   0   \n",
       "178  37521.810082                      0              0                   0   \n",
       "179  37332.793393                      0              0                   0   \n",
       "\n",
       "     CDLENGULFINGBULLISH_NEW  CDLSHOOTINGSTAR_NEW  CDLHANGINGMAN_NEW  \\\n",
       "175                        0                    0                  0   \n",
       "176                        0                    0                  0   \n",
       "177                        0                    0                  0   \n",
       "178                        0                    0                  0   \n",
       "179                        0                    0                  0   \n",
       "\n",
       "     CDLEVENINGSTAR_NEW  CDLENGULFINGBEARISH_NEW  \n",
       "175                   0                        0  \n",
       "176                   0                        0  \n",
       "177                   0                        0  \n",
       "178                   0                        0  \n",
       "179                   0                        0  \n",
       "\n",
       "[5 rows x 26 columns]"
      ]
     },
     "execution_count": 24,
     "metadata": {},
     "output_type": "execute_result"
    }
   ],
   "source": [
    "train.tail()"
   ]
  },
  {
   "cell_type": "code",
   "execution_count": 25,
   "metadata": {
    "colab": {
     "base_uri": "https://localhost:8080/",
     "height": 357
    },
    "id": "k9zU9YaTTvFq",
    "outputId": "72213585-39a3-4bff-c031-874ec0ca06f9"
   },
   "outputs": [
    {
     "data": {
      "text/html": [
       "<div>\n",
       "<style scoped>\n",
       "    .dataframe tbody tr th:only-of-type {\n",
       "        vertical-align: middle;\n",
       "    }\n",
       "\n",
       "    .dataframe tbody tr th {\n",
       "        vertical-align: top;\n",
       "    }\n",
       "\n",
       "    .dataframe thead th {\n",
       "        text-align: right;\n",
       "    }\n",
       "</style>\n",
       "<table border=\"1\" class=\"dataframe\">\n",
       "  <thead>\n",
       "    <tr style=\"text-align: right;\">\n",
       "      <th></th>\n",
       "      <th>date</th>\n",
       "      <th>tic</th>\n",
       "      <th>open</th>\n",
       "      <th>high</th>\n",
       "      <th>low</th>\n",
       "      <th>close</th>\n",
       "      <th>volume</th>\n",
       "      <th>upper_shadow</th>\n",
       "      <th>lower_shadow</th>\n",
       "      <th>real_body</th>\n",
       "      <th>...</th>\n",
       "      <th>WMA20</th>\n",
       "      <th>WMA60</th>\n",
       "      <th>CDLINVERTEDHAMMER_NEW</th>\n",
       "      <th>CDLHAMMER_NEW</th>\n",
       "      <th>CDLMORNINGSTAR_NEW</th>\n",
       "      <th>CDLENGULFINGBULLISH_NEW</th>\n",
       "      <th>CDLSHOOTINGSTAR_NEW</th>\n",
       "      <th>CDLHANGINGMAN_NEW</th>\n",
       "      <th>CDLEVENINGSTAR_NEW</th>\n",
       "      <th>CDLENGULFINGBEARISH_NEW</th>\n",
       "    </tr>\n",
       "  </thead>\n",
       "  <tbody>\n",
       "    <tr>\n",
       "      <th>0</th>\n",
       "      <td>2021-06-30 02:00:00</td>\n",
       "      <td>BTCUSDT</td>\n",
       "      <td>35911.72</td>\n",
       "      <td>36100.00</td>\n",
       "      <td>34017.55</td>\n",
       "      <td>35045.00</td>\n",
       "      <td>77152.197634</td>\n",
       "      <td>188.28</td>\n",
       "      <td>1027.45</td>\n",
       "      <td>866.72</td>\n",
       "      <td>...</td>\n",
       "      <td>34724.680286</td>\n",
       "      <td>37127.262355</td>\n",
       "      <td>0</td>\n",
       "      <td>0</td>\n",
       "      <td>0</td>\n",
       "      <td>0</td>\n",
       "      <td>0</td>\n",
       "      <td>0</td>\n",
       "      <td>0</td>\n",
       "      <td>0</td>\n",
       "    </tr>\n",
       "    <tr>\n",
       "      <th>1</th>\n",
       "      <td>2021-07-01 02:00:00</td>\n",
       "      <td>BTCUSDT</td>\n",
       "      <td>35045.00</td>\n",
       "      <td>35057.57</td>\n",
       "      <td>32711.00</td>\n",
       "      <td>33504.69</td>\n",
       "      <td>71708.266112</td>\n",
       "      <td>12.57</td>\n",
       "      <td>793.69</td>\n",
       "      <td>1540.31</td>\n",
       "      <td>...</td>\n",
       "      <td>34523.296476</td>\n",
       "      <td>36883.663978</td>\n",
       "      <td>0</td>\n",
       "      <td>0</td>\n",
       "      <td>0</td>\n",
       "      <td>0</td>\n",
       "      <td>0</td>\n",
       "      <td>0</td>\n",
       "      <td>0</td>\n",
       "      <td>0</td>\n",
       "    </tr>\n",
       "    <tr>\n",
       "      <th>2</th>\n",
       "      <td>2021-07-02 02:00:00</td>\n",
       "      <td>BTCUSDT</td>\n",
       "      <td>33502.33</td>\n",
       "      <td>33977.04</td>\n",
       "      <td>32699.00</td>\n",
       "      <td>33786.55</td>\n",
       "      <td>56172.181378</td>\n",
       "      <td>190.49</td>\n",
       "      <td>803.33</td>\n",
       "      <td>284.22</td>\n",
       "      <td>...</td>\n",
       "      <td>34366.981667</td>\n",
       "      <td>36661.915393</td>\n",
       "      <td>0</td>\n",
       "      <td>0</td>\n",
       "      <td>0</td>\n",
       "      <td>0</td>\n",
       "      <td>0</td>\n",
       "      <td>0</td>\n",
       "      <td>0</td>\n",
       "      <td>0</td>\n",
       "    </tr>\n",
       "    <tr>\n",
       "      <th>3</th>\n",
       "      <td>2021-07-03 02:00:00</td>\n",
       "      <td>BTCUSDT</td>\n",
       "      <td>33786.54</td>\n",
       "      <td>34945.61</td>\n",
       "      <td>33316.73</td>\n",
       "      <td>34669.13</td>\n",
       "      <td>43044.578641</td>\n",
       "      <td>276.48</td>\n",
       "      <td>469.81</td>\n",
       "      <td>882.59</td>\n",
       "      <td>...</td>\n",
       "      <td>34303.100952</td>\n",
       "      <td>36481.881366</td>\n",
       "      <td>0</td>\n",
       "      <td>0</td>\n",
       "      <td>0</td>\n",
       "      <td>0</td>\n",
       "      <td>0</td>\n",
       "      <td>0</td>\n",
       "      <td>0</td>\n",
       "      <td>0</td>\n",
       "    </tr>\n",
       "    <tr>\n",
       "      <th>4</th>\n",
       "      <td>2021-07-04 02:00:00</td>\n",
       "      <td>BTCUSDT</td>\n",
       "      <td>34669.12</td>\n",
       "      <td>35967.85</td>\n",
       "      <td>34357.15</td>\n",
       "      <td>35286.51</td>\n",
       "      <td>43703.475789</td>\n",
       "      <td>681.34</td>\n",
       "      <td>311.97</td>\n",
       "      <td>617.39</td>\n",
       "      <td>...</td>\n",
       "      <td>34318.739476</td>\n",
       "      <td>36332.215470</td>\n",
       "      <td>0</td>\n",
       "      <td>0</td>\n",
       "      <td>0</td>\n",
       "      <td>0</td>\n",
       "      <td>0</td>\n",
       "      <td>0</td>\n",
       "      <td>0</td>\n",
       "      <td>0</td>\n",
       "    </tr>\n",
       "  </tbody>\n",
       "</table>\n",
       "<p>5 rows × 26 columns</p>\n",
       "</div>"
      ],
      "text/plain": [
       "                  date      tic      open      high       low     close  \\\n",
       "0  2021-06-30 02:00:00  BTCUSDT  35911.72  36100.00  34017.55  35045.00   \n",
       "1  2021-07-01 02:00:00  BTCUSDT  35045.00  35057.57  32711.00  33504.69   \n",
       "2  2021-07-02 02:00:00  BTCUSDT  33502.33  33977.04  32699.00  33786.55   \n",
       "3  2021-07-03 02:00:00  BTCUSDT  33786.54  34945.61  33316.73  34669.13   \n",
       "4  2021-07-04 02:00:00  BTCUSDT  34669.12  35967.85  34357.15  35286.51   \n",
       "\n",
       "         volume  upper_shadow  lower_shadow  real_body  ...         WMA20  \\\n",
       "0  77152.197634        188.28       1027.45     866.72  ...  34724.680286   \n",
       "1  71708.266112         12.57        793.69    1540.31  ...  34523.296476   \n",
       "2  56172.181378        190.49        803.33     284.22  ...  34366.981667   \n",
       "3  43044.578641        276.48        469.81     882.59  ...  34303.100952   \n",
       "4  43703.475789        681.34        311.97     617.39  ...  34318.739476   \n",
       "\n",
       "          WMA60  CDLINVERTEDHAMMER_NEW  CDLHAMMER_NEW  CDLMORNINGSTAR_NEW  \\\n",
       "0  37127.262355                      0              0                   0   \n",
       "1  36883.663978                      0              0                   0   \n",
       "2  36661.915393                      0              0                   0   \n",
       "3  36481.881366                      0              0                   0   \n",
       "4  36332.215470                      0              0                   0   \n",
       "\n",
       "   CDLENGULFINGBULLISH_NEW  CDLSHOOTINGSTAR_NEW  CDLHANGINGMAN_NEW  \\\n",
       "0                        0                    0                  0   \n",
       "1                        0                    0                  0   \n",
       "2                        0                    0                  0   \n",
       "3                        0                    0                  0   \n",
       "4                        0                    0                  0   \n",
       "\n",
       "   CDLEVENINGSTAR_NEW  CDLENGULFINGBEARISH_NEW  \n",
       "0                   0                        0  \n",
       "1                   0                        0  \n",
       "2                   0                        0  \n",
       "3                   0                        0  \n",
       "4                   0                        0  \n",
       "\n",
       "[5 rows x 26 columns]"
      ]
     },
     "execution_count": 25,
     "metadata": {},
     "output_type": "execute_result"
    }
   ],
   "source": [
    "trade.head()"
   ]
  },
  {
   "cell_type": "code",
   "execution_count": 26,
   "metadata": {},
   "outputs": [
    {
     "data": {
      "text/html": [
       "<div>\n",
       "<style scoped>\n",
       "    .dataframe tbody tr th:only-of-type {\n",
       "        vertical-align: middle;\n",
       "    }\n",
       "\n",
       "    .dataframe tbody tr th {\n",
       "        vertical-align: top;\n",
       "    }\n",
       "\n",
       "    .dataframe thead th {\n",
       "        text-align: right;\n",
       "    }\n",
       "</style>\n",
       "<table border=\"1\" class=\"dataframe\">\n",
       "  <thead>\n",
       "    <tr style=\"text-align: right;\">\n",
       "      <th></th>\n",
       "      <th>date</th>\n",
       "      <th>tic</th>\n",
       "      <th>open</th>\n",
       "      <th>high</th>\n",
       "      <th>low</th>\n",
       "      <th>close</th>\n",
       "      <th>volume</th>\n",
       "      <th>upper_shadow</th>\n",
       "      <th>lower_shadow</th>\n",
       "      <th>real_body</th>\n",
       "      <th>...</th>\n",
       "      <th>WMA20</th>\n",
       "      <th>WMA60</th>\n",
       "      <th>CDLINVERTEDHAMMER_NEW</th>\n",
       "      <th>CDLHAMMER_NEW</th>\n",
       "      <th>CDLMORNINGSTAR_NEW</th>\n",
       "      <th>CDLENGULFINGBULLISH_NEW</th>\n",
       "      <th>CDLSHOOTINGSTAR_NEW</th>\n",
       "      <th>CDLHANGINGMAN_NEW</th>\n",
       "      <th>CDLEVENINGSTAR_NEW</th>\n",
       "      <th>CDLENGULFINGBEARISH_NEW</th>\n",
       "    </tr>\n",
       "  </thead>\n",
       "  <tbody>\n",
       "    <tr>\n",
       "      <th>178</th>\n",
       "      <td>2021-12-25 01:00:00</td>\n",
       "      <td>BTCUSDT</td>\n",
       "      <td>50819.99</td>\n",
       "      <td>51156.23</td>\n",
       "      <td>50142.32</td>\n",
       "      <td>50399.66</td>\n",
       "      <td>19135.51613</td>\n",
       "      <td>336.24</td>\n",
       "      <td>257.34</td>\n",
       "      <td>420.33</td>\n",
       "      <td>...</td>\n",
       "      <td>48635.876333</td>\n",
       "      <td>52879.447153</td>\n",
       "      <td>0</td>\n",
       "      <td>0</td>\n",
       "      <td>0</td>\n",
       "      <td>0</td>\n",
       "      <td>0</td>\n",
       "      <td>0</td>\n",
       "      <td>0</td>\n",
       "      <td>0</td>\n",
       "    </tr>\n",
       "    <tr>\n",
       "      <th>179</th>\n",
       "      <td>2021-12-26 01:00:00</td>\n",
       "      <td>BTCUSDT</td>\n",
       "      <td>50399.67</td>\n",
       "      <td>51280.00</td>\n",
       "      <td>49412.00</td>\n",
       "      <td>50775.49</td>\n",
       "      <td>22569.88914</td>\n",
       "      <td>504.51</td>\n",
       "      <td>987.67</td>\n",
       "      <td>375.82</td>\n",
       "      <td>...</td>\n",
       "      <td>48837.003714</td>\n",
       "      <td>52706.312956</td>\n",
       "      <td>0</td>\n",
       "      <td>0</td>\n",
       "      <td>0</td>\n",
       "      <td>0</td>\n",
       "      <td>0</td>\n",
       "      <td>0</td>\n",
       "      <td>0</td>\n",
       "      <td>0</td>\n",
       "    </tr>\n",
       "    <tr>\n",
       "      <th>180</th>\n",
       "      <td>2021-12-27 01:00:00</td>\n",
       "      <td>BTCUSDT</td>\n",
       "      <td>50775.48</td>\n",
       "      <td>52088.00</td>\n",
       "      <td>50449.00</td>\n",
       "      <td>50701.44</td>\n",
       "      <td>28792.21566</td>\n",
       "      <td>1312.52</td>\n",
       "      <td>252.44</td>\n",
       "      <td>74.04</td>\n",
       "      <td>...</td>\n",
       "      <td>49029.490286</td>\n",
       "      <td>52534.924634</td>\n",
       "      <td>0</td>\n",
       "      <td>0</td>\n",
       "      <td>0</td>\n",
       "      <td>0</td>\n",
       "      <td>0</td>\n",
       "      <td>0</td>\n",
       "      <td>0</td>\n",
       "      <td>0</td>\n",
       "    </tr>\n",
       "    <tr>\n",
       "      <th>181</th>\n",
       "      <td>2021-12-28 01:00:00</td>\n",
       "      <td>BTCUSDT</td>\n",
       "      <td>50701.44</td>\n",
       "      <td>50704.05</td>\n",
       "      <td>47313.01</td>\n",
       "      <td>47543.74</td>\n",
       "      <td>45853.33924</td>\n",
       "      <td>2.61</td>\n",
       "      <td>230.73</td>\n",
       "      <td>3157.70</td>\n",
       "      <td>...</td>\n",
       "      <td>48920.707857</td>\n",
       "      <td>52265.401038</td>\n",
       "      <td>0</td>\n",
       "      <td>0</td>\n",
       "      <td>0</td>\n",
       "      <td>0</td>\n",
       "      <td>0</td>\n",
       "      <td>0</td>\n",
       "      <td>0</td>\n",
       "      <td>0</td>\n",
       "    </tr>\n",
       "    <tr>\n",
       "      <th>182</th>\n",
       "      <td>2021-12-29 01:00:00</td>\n",
       "      <td>BTCUSDT</td>\n",
       "      <td>47543.74</td>\n",
       "      <td>48139.08</td>\n",
       "      <td>46096.99</td>\n",
       "      <td>46464.66</td>\n",
       "      <td>39498.87000</td>\n",
       "      <td>595.34</td>\n",
       "      <td>367.67</td>\n",
       "      <td>1079.08</td>\n",
       "      <td>...</td>\n",
       "      <td>48723.096143</td>\n",
       "      <td>51968.536005</td>\n",
       "      <td>0</td>\n",
       "      <td>0</td>\n",
       "      <td>0</td>\n",
       "      <td>0</td>\n",
       "      <td>0</td>\n",
       "      <td>0</td>\n",
       "      <td>0</td>\n",
       "      <td>0</td>\n",
       "    </tr>\n",
       "  </tbody>\n",
       "</table>\n",
       "<p>5 rows × 26 columns</p>\n",
       "</div>"
      ],
      "text/plain": [
       "                    date      tic      open      high       low     close  \\\n",
       "178  2021-12-25 01:00:00  BTCUSDT  50819.99  51156.23  50142.32  50399.66   \n",
       "179  2021-12-26 01:00:00  BTCUSDT  50399.67  51280.00  49412.00  50775.49   \n",
       "180  2021-12-27 01:00:00  BTCUSDT  50775.48  52088.00  50449.00  50701.44   \n",
       "181  2021-12-28 01:00:00  BTCUSDT  50701.44  50704.05  47313.01  47543.74   \n",
       "182  2021-12-29 01:00:00  BTCUSDT  47543.74  48139.08  46096.99  46464.66   \n",
       "\n",
       "          volume  upper_shadow  lower_shadow  real_body  ...         WMA20  \\\n",
       "178  19135.51613        336.24        257.34     420.33  ...  48635.876333   \n",
       "179  22569.88914        504.51        987.67     375.82  ...  48837.003714   \n",
       "180  28792.21566       1312.52        252.44      74.04  ...  49029.490286   \n",
       "181  45853.33924          2.61        230.73    3157.70  ...  48920.707857   \n",
       "182  39498.87000        595.34        367.67    1079.08  ...  48723.096143   \n",
       "\n",
       "            WMA60  CDLINVERTEDHAMMER_NEW  CDLHAMMER_NEW  CDLMORNINGSTAR_NEW  \\\n",
       "178  52879.447153                      0              0                   0   \n",
       "179  52706.312956                      0              0                   0   \n",
       "180  52534.924634                      0              0                   0   \n",
       "181  52265.401038                      0              0                   0   \n",
       "182  51968.536005                      0              0                   0   \n",
       "\n",
       "     CDLENGULFINGBULLISH_NEW  CDLSHOOTINGSTAR_NEW  CDLHANGINGMAN_NEW  \\\n",
       "178                        0                    0                  0   \n",
       "179                        0                    0                  0   \n",
       "180                        0                    0                  0   \n",
       "181                        0                    0                  0   \n",
       "182                        0                    0                  0   \n",
       "\n",
       "     CDLEVENINGSTAR_NEW  CDLENGULFINGBEARISH_NEW  \n",
       "178                   0                        0  \n",
       "179                   0                        0  \n",
       "180                   0                        0  \n",
       "181                   0                        0  \n",
       "182                   0                        0  \n",
       "\n",
       "[5 rows x 26 columns]"
      ]
     },
     "execution_count": 26,
     "metadata": {},
     "output_type": "execute_result"
    }
   ],
   "source": [
    "trade.tail()"
   ]
  },
  {
   "cell_type": "code",
   "execution_count": 27,
   "metadata": {},
   "outputs": [
    {
     "data": {
      "text/plain": [
       "<AxesSubplot:xlabel='date'>"
      ]
     },
     "execution_count": 27,
     "metadata": {},
     "output_type": "execute_result"
    },
    {
     "data": {
      "image/png": "[encoded data removed]",
      "text/plain": [
       "<Figure size 432x288 with 1 Axes>"
      ]
     },
     "metadata": {
      "needs_background": "light"
     },
     "output_type": "display_data"
    }
   ],
   "source": [
    "train.plot(x='date', y='close')"
   ]
  },
  {
   "cell_type": "code",
   "execution_count": 28,
   "metadata": {},
   "outputs": [
    {
     "data": {
      "text/plain": [
       "<AxesSubplot:xlabel='date'>"
      ]
     },
     "execution_count": 28,
     "metadata": {},
     "output_type": "execute_result"
    },
    {
     "data": {
      "image/png": "[encoded data removed]",
      "text/plain": [
       "<Figure size 432x288 with 1 Axes>"
      ]
     },
     "metadata": {
      "needs_background": "light"
     },
     "output_type": "display_data"
    }
   ],
   "source": [
    "trade.plot(x='date', y='close')"
   ]
  },
  {
   "cell_type": "code",
   "execution_count": 29,
   "metadata": {
    "colab": {
     "base_uri": "https://localhost:8080/"
    },
    "id": "zYN573SOHhxG",
    "outputId": "7f228183-abe3-4477-f574-3c9b25c62cd8"
   },
   "outputs": [],
   "source": [
    "#list_indicators = ['macd', 'boll_ub', 'boll_lb', 'rsi_30', 'cci_30', 'dx_30', 'close_30_sma', 'close_60_sma']\n",
    "\n",
    "# list_indicators = ['upper_shadow', 'lower_shadow', 'real_body',\n",
    "#         'MACD_12_26_9', 'BBANDS_U', 'BBANDS_M', 'BBANDS_L', 'RSI_14', 'CCI_14', 'WMA20', 'WMA60',\n",
    "#         'CDLINVERTEDHAMMER_NEW', 'CDLHAMMER_NEW', 'CDLMORNINGSTAR_NEW', 'CDLENGULFINGBULLISH_NEW', \n",
    "#         'CDLSHOOTINGSTAR_NEW', 'CDLHANGINGMAN_NEW', 'CDLEVENINGSTAR_NEW', 'CDLENGULFINGBEARISH_NEW']\n",
    "\n",
    "# list_indicators = ['CDLINVERTEDHAMMER_NEW', 'CDLHAMMER_NEW', 'CDLMORNINGSTAR_NEW', 'CDLENGULFINGBULLISH_NEW', \n",
    "#         'CDLSHOOTINGSTAR_NEW', 'CDLHANGINGMAN_NEW', 'CDLEVENINGSTAR_NEW', 'CDLENGULFINGBEARISH_NEW']\n",
    "# \n",
    "list_indicators = ['MACD_12_26_9', 'BBANDS_U', 'BBANDS_M', 'BBANDS_L', 'RSI_14', 'CCI_14', 'WMA20', 'WMA60']        "
   ]
  },
  {
   "cell_type": "code",
   "execution_count": 30,
   "metadata": {
    "colab": {
     "base_uri": "https://localhost:8080/"
    },
    "id": "Q2zqII8rMIqn",
    "outputId": "1f54d044-e2d3-4a34-c041-e913d686654e"
   },
   "outputs": [
    {
     "name": "stdout",
     "output_type": "stream",
     "text": [
      "Stock Dimension: 1, State Space: 11\n"
     ]
    }
   ],
   "source": [
    "stock_dimension = len(train.tic.unique())\n",
    "state_space = 1 + 2 * stock_dimension + len(list_indicators) * stock_dimension\n",
    "print(f\"Stock Dimension: {stock_dimension}, State Space: {state_space}\")\n"
   ]
  },
  {
   "cell_type": "code",
   "execution_count": 31,
   "metadata": {
    "id": "AWyp84Ltto19"
   },
   "outputs": [
    {
     "name": "stdout",
     "output_type": "stream",
     "text": [
      "self.initial:True | state:[1000000, 29331.69, 0, 2519.4557888838062, 30357.813096420366, 24248.35049999999, 18138.887903579613, 82.74061426212597, 120.613447753515, 25868.65133333278, 21729.374366119817] | self.data.close:29331.69 | [0] * self.stock_dim:[0] | sum([[self.data[tech]] for tech in self.tech_indicator_list], []): [2519.4557888838062, 30357.813096420366, 24248.35049999999, 18138.887903579613, 82.74061426212597, 120.613447753515, 25868.65133333278, 21729.374366119817]\n"
     ]
    }
   ],
   "source": [
    "env_kwargs = {\n",
    "    \"hmax\": 100, \n",
    "    \"initial_amount\" : 1000000,\n",
    "    \"num_stock_shares\": stock_dimension,\n",
    "    # buy and sell cost for each stock\n",
    "    \"buy_cost_pct\": [0] * stock_dimension, #[0.001] * stock_dimension,\n",
    "    \"sell_cost_pct\": [0] * stock_dimension, #[0.001] * stock_dimension,\n",
    "    \"state_space\": state_space, \n",
    "    \"stock_dim\": stock_dimension, \n",
    "    \"tech_indicator_list\": list_indicators, \n",
    "    \"action_space\": stock_dimension, \n",
    "    \"reward_scaling\": 1e-4\n",
    "    \n",
    "}\n",
    "\n",
    "e_train_gym = StockTradingEnv(df = train, **env_kwargs)"
   ]
  },
  {
   "cell_type": "code",
   "execution_count": 32,
   "metadata": {},
   "outputs": [
    {
     "name": "stdout",
     "output_type": "stream",
     "text": [
      "{'hmax': 100, 'initial_amount': 1000000, 'num_stock_shares': 1, 'buy_cost_pct': [0], 'sell_cost_pct': [0], 'state_space': 11, 'stock_dim': 1, 'tech_indicator_list': ['MACD_12_26_9', 'BBANDS_U', 'BBANDS_M', 'BBANDS_L', 'RSI_14', 'CCI_14', 'WMA20', 'WMA60'], 'action_space': 1, 'reward_scaling': 0.0001}\n"
     ]
    }
   ],
   "source": [
    "print(env_kwargs)"
   ]
  },
  {
   "cell_type": "markdown",
   "metadata": {
    "id": "64EoqOrQjiVf"
   },
   "source": [
    "## Environment for Training\n",
    "\n"
   ]
  },
  {
   "cell_type": "code",
   "execution_count": 33,
   "metadata": {
    "colab": {
     "base_uri": "https://localhost:8080/"
    },
    "id": "xwSvvPjutpqS",
    "outputId": "deeaef07-afda-4ca1-fea8-99384224c7cf"
   },
   "outputs": [
    {
     "name": "stdout",
     "output_type": "stream",
     "text": [
      "self.initial:True | state:[1000000, 29331.69, 0, 2519.4557888838062, 30357.813096420366, 24248.35049999999, 18138.887903579613, 82.74061426212597, 120.613447753515, 25868.65133333278, 21729.374366119817] | self.data.close:29331.69 | [0] * self.stock_dim:[0] | sum([[self.data[tech]] for tech in self.tech_indicator_list], []): [2519.4557888838062, 30357.813096420366, 24248.35049999999, 18138.887903579613, 82.74061426212597, 120.613447753515, 25868.65133333278, 21729.374366119817]\n",
      "<class 'stable_baselines3.common.vec_env.dummy_vec_env.DummyVecEnv'>\n"
     ]
    }
   ],
   "source": [
    "env_train, _ = e_train_gym.get_sb_env()\n",
    "print(type(env_train))"
   ]
  },
  {
   "cell_type": "markdown",
   "metadata": {
    "id": "HMNR5nHjh1iz"
   },
   "source": [
    "<a id='5'></a>\n",
    "# Part 6: Implement DRL Algorithms\n",
    "* The implementation of the DRL algorithms are based on **OpenAI Baselines** and **Stable Baselines**. Stable Baselines is a fork of OpenAI Baselines, with a major structural refactoring, and code cleanups.\n",
    "* FinRL library includes fine-tuned standard DRL algorithms, such as DQN, DDPG,\n",
    "Multi-Agent DDPG, PPO, SAC, A2C and TD3. We also allow users to\n",
    "design their own DRL algorithms by adapting these DRL algorithms."
   ]
  },
  {
   "cell_type": "code",
   "execution_count": 34,
   "metadata": {
    "id": "364PsqckttcQ"
   },
   "outputs": [],
   "source": [
    "agent = DRLAgent(env = env_train)"
   ]
  },
  {
   "cell_type": "markdown",
   "metadata": {
    "id": "YDmqOyF9h1iz"
   },
   "source": [
    "### Model Training: 5 models, A2C DDPG, PPO, TD3, SAC\n"
   ]
  },
  {
   "cell_type": "markdown",
   "metadata": {
    "id": "uijiWgkuh1jB"
   },
   "source": [
    "### Model 1: A2C\n"
   ]
  },
  {
   "cell_type": "code",
   "execution_count": null,
   "metadata": {
    "colab": {
     "base_uri": "https://localhost:8080/"
    },
    "id": "GUCnkn-HIbmj",
    "outputId": "a90a7a60-21a5-47e1-b683-1f7cbb4b8bc0"
   },
   "outputs": [],
   "source": [
    "agent = DRLAgent(env = env_train)\n",
    "model_a2c = agent.get_model(\"a2c\")"
   ]
  },
  {
   "cell_type": "code",
   "execution_count": null,
   "metadata": {
    "colab": {
     "base_uri": "https://localhost:8080/",
     "height": 1000
    },
    "id": "0GVpkWGqH4-D",
    "outputId": "570d540f-abe9-402b-e0cc-f9b007228e8e"
   },
   "outputs": [],
   "source": [
    "trained_a2c = agent.train_model(model=model_a2c, \n",
    "                             tb_log_name='a2c',\n",
    "                             total_timesteps=50000)"
   ]
  },
  {
   "cell_type": "code",
   "execution_count": null,
   "metadata": {},
   "outputs": [],
   "source": [
    "# full_path_export_model_a2c = '../models/finrl_stocktrading_neurips_2018_mod_a2c.pkl'\n",
    "\n",
    "# # Open a file and use dump()\n",
    "# with open(full_path_export_model_a2c, 'wb') as file:\n",
    "      \n",
    "#     # A new file will be created\n",
    "#     pickle.dump(trained_a2c, file, protocol=pickle.HIGHEST_PROTOCOL)"
   ]
  },
  {
   "cell_type": "markdown",
   "metadata": {
    "id": "MRiOtrywfAo1"
   },
   "source": [
    "### Model 2: DDPG"
   ]
  },
  {
   "cell_type": "code",
   "execution_count": null,
   "metadata": {
    "id": "M2YadjfnLwgt"
   },
   "outputs": [],
   "source": [
    "agent = DRLAgent(env = env_train)\n",
    "model_ddpg = agent.get_model(\"ddpg\")"
   ]
  },
  {
   "cell_type": "code",
   "execution_count": null,
   "metadata": {
    "id": "tCDa78rqfO_a",
    "jupyter": {
     "outputs_hidden": true
    }
   },
   "outputs": [],
   "source": [
    "trained_ddpg = agent.train_model(model=model_ddpg, \n",
    "                             tb_log_name='ddpg',\n",
    "                             total_timesteps=50000)"
   ]
  },
  {
   "cell_type": "code",
   "execution_count": null,
   "metadata": {},
   "outputs": [],
   "source": [
    "# full_path_export_model_ddpg = '../models/finrl_stocktrading_neurips_2018_mod_ddpg.pkl'\n",
    "\n",
    "# # Open a file and use dump()\n",
    "# with open(full_path_export_model_ddpg, 'wb') as file:\n",
    "      \n",
    "#     # A new file will be created\n",
    "#     pickle.dump(trained_ddpg, file)"
   ]
  },
  {
   "cell_type": "markdown",
   "metadata": {
    "id": "_gDkU-j-fCmZ"
   },
   "source": [
    "### Model 3: PPO"
   ]
  },
  {
   "cell_type": "code",
   "execution_count": null,
   "metadata": {
    "id": "y5D5PFUhMzSV"
   },
   "outputs": [],
   "source": [
    "agent = DRLAgent(env = env_train)\n",
    "PPO_PARAMS = {\n",
    "    \"n_steps\": 2048,\n",
    "    \"ent_coef\": 0.01,\n",
    "    \"learning_rate\": 0.00025,\n",
    "    \"batch_size\": 128,\n",
    "}\n",
    "model_ppo = agent.get_model(\"ppo\",model_kwargs = PPO_PARAMS)"
   ]
  },
  {
   "cell_type": "code",
   "execution_count": null,
   "metadata": {
    "id": "Gt8eIQKYM4G3",
    "jupyter": {
     "outputs_hidden": true
    }
   },
   "outputs": [],
   "source": [
    "trained_ppo = agent.train_model(model=model_ppo, \n",
    "                             tb_log_name='ppo',\n",
    "                             total_timesteps=50000)"
   ]
  },
  {
   "cell_type": "markdown",
   "metadata": {
    "id": "3Zpv4S0-fDBv"
   },
   "source": [
    "### Model 4: TD3"
   ]
  },
  {
   "cell_type": "code",
   "execution_count": null,
   "metadata": {
    "id": "JSAHhV4Xc-bh"
   },
   "outputs": [],
   "source": [
    "agent = DRLAgent(env = env_train)\n",
    "TD3_PARAMS = {\"batch_size\": 100, \n",
    "              \"buffer_size\": 1000000, \n",
    "              \"learning_rate\": 0.001}\n",
    "\n",
    "model_td3 = agent.get_model(\"td3\",model_kwargs = TD3_PARAMS)"
   ]
  },
  {
   "cell_type": "code",
   "execution_count": null,
   "metadata": {
    "id": "OSRxNYAxdKpU"
   },
   "outputs": [],
   "source": [
    "trained_td3 = agent.train_model(model=model_td3, \n",
    "                             tb_log_name='td3',\n",
    "                             total_timesteps=30000)"
   ]
  },
  {
   "cell_type": "markdown",
   "metadata": {
    "id": "Dr49PotrfG01"
   },
   "source": [
    "### Model 5: SAC"
   ]
  },
  {
   "cell_type": "code",
   "execution_count": 35,
   "metadata": {
    "id": "xwOhVjqRkCdM"
   },
   "outputs": [
    {
     "name": "stdout",
     "output_type": "stream",
     "text": [
      "{'batch_size': 128, 'buffer_size': 1000000, 'learning_rate': 0.0001, 'learning_starts': 100, 'ent_coef': 'auto_0.1'}\n",
      "Using cpu device\n"
     ]
    }
   ],
   "source": [
    "agent = DRLAgent(env = env_train)\n",
    "SAC_PARAMS = {\n",
    "    \"batch_size\": 128,\n",
    "    \"buffer_size\": 1000000,\n",
    "    \"learning_rate\": 0.0001,\n",
    "    \"learning_starts\": 100,\n",
    "    \"ent_coef\": \"auto_0.1\",\n",
    "}\n",
    "\n",
    "model_sac = agent.get_model(\"sac\",model_kwargs = SAC_PARAMS)"
   ]
  },
  {
   "cell_type": "code",
   "execution_count": null,
   "metadata": {
    "id": "K8RSdKCckJyH"
   },
   "outputs": [],
   "source": [
    "trained_sac = agent.train_model(model=model_sac, \n",
    "                             tb_log_name='sac',\n",
    "                             total_timesteps=60000)"
   ]
  },
  {
   "cell_type": "markdown",
   "metadata": {
    "id": "f2wZgkQXh1jE"
   },
   "source": [
    "## Trading\n",
    "Assume that we have $1,000 initial capital at 2021-06-30. We use the DDPG model to trade Dow jones 30 stocks."
   ]
  },
  {
   "cell_type": "markdown",
   "metadata": {
    "id": "bEv5KGC8h1jE"
   },
   "source": [
    "### Set turbulence threshold\n",
    "Set the turbulence threshold to be greater than the maximum of insample turbulence data, if current turbulence index is greater than the threshold, then we assume that the current market is volatile"
   ]
  },
  {
   "cell_type": "code",
   "execution_count": null,
   "metadata": {},
   "outputs": [],
   "source": [
    "processed.head()"
   ]
  },
  {
   "cell_type": "code",
   "execution_count": null,
   "metadata": {
    "id": "efwBi84ch1jE"
   },
   "outputs": [],
   "source": [
    "#data_risk_indicator = processed[(processed.date<'2021-07-01') & (processed.date>='2020-01-01')]\n",
    "#insample_risk_indicator = data_risk_indicator.drop_duplicates(subset=['date'])"
   ]
  },
  {
   "cell_type": "markdown",
   "metadata": {
    "id": "U5mmgQF_h1jQ"
   },
   "source": [
    "### Trade\n",
    "\n",
    "DRL model needs to update periodically in order to take full advantage of the data, ideally we need to retrain our model yearly, quarterly, or monthly. We also need to tune the parameters along the way, in this notebook I only use the in-sample data from 2009-01 to 2020-07 to tune the parameters once, so there is some alpha decay here as the length of trade date extends. \n",
    "\n",
    "Numerous hyperparameters – e.g. the learning rate, the total number of samples to train on – influence the learning process and are usually determined by testing some variations."
   ]
  },
  {
   "cell_type": "code",
   "execution_count": null,
   "metadata": {
    "id": "cIqoV0GSI52v"
   },
   "outputs": [],
   "source": [
    "# e_trade_gym = StockTradingEnv(df = trade, turbulence_threshold = 70,risk_indicator_col='vix', **env_kwargs)\n",
    "e_trade_gym = StockTradingEnv(df = trade, **env_kwargs)"
   ]
  },
  {
   "cell_type": "code",
   "execution_count": null,
   "metadata": {
    "id": "W_XNgGsBMeVw"
   },
   "outputs": [],
   "source": [
    "trade.head()"
   ]
  },
  {
   "cell_type": "code",
   "execution_count": null,
   "metadata": {
    "id": "eLOnL5eYh1jR"
   },
   "outputs": [],
   "source": [
    "df_account_value, df_actions = DRLAgent.DRL_prediction(\n",
    "    model=trained_sac, \n",
    "    environment = e_trade_gym)"
   ]
  },
  {
   "cell_type": "code",
   "execution_count": null,
   "metadata": {
    "id": "ERxw3KqLkcP4"
   },
   "outputs": [],
   "source": [
    "df_account_value.shape"
   ]
  },
  {
   "cell_type": "code",
   "execution_count": null,
   "metadata": {
    "id": "2yRkNguY5yvp"
   },
   "outputs": [],
   "source": [
    "df_account_value.head()"
   ]
  },
  {
   "cell_type": "code",
   "execution_count": null,
   "metadata": {},
   "outputs": [],
   "source": [
    "df_account_value.tail()"
   ]
  },
  {
   "cell_type": "code",
   "execution_count": null,
   "metadata": {},
   "outputs": [],
   "source": [
    "df_account_value.info()"
   ]
  },
  {
   "cell_type": "code",
   "execution_count": null,
   "metadata": {
    "id": "nFlK5hNbWVFk"
   },
   "outputs": [],
   "source": [
    "df_actions.head()"
   ]
  },
  {
   "cell_type": "code",
   "execution_count": null,
   "metadata": {},
   "outputs": [],
   "source": [
    "df_actions.tail()"
   ]
  },
  {
   "cell_type": "code",
   "execution_count": null,
   "metadata": {},
   "outputs": [],
   "source": [
    "df_actions['actions_value'] = df_actions['actions'].str[0]"
   ]
  },
  {
   "cell_type": "code",
   "execution_count": null,
   "metadata": {},
   "outputs": [],
   "source": [
    "df_actions.info()"
   ]
  },
  {
   "cell_type": "code",
   "execution_count": null,
   "metadata": {},
   "outputs": [],
   "source": [
    "df_actions.plot(x='date', y='actions_value', kind='bar', figsize=(20,10))"
   ]
  },
  {
   "cell_type": "markdown",
   "metadata": {
    "id": "W6vvNSC6h1jZ"
   },
   "source": [
    "<a id='6'></a>\n",
    "# Part 7: Backtest Our Strategy\n",
    "Backtesting plays a key role in evaluating the performance of a trading strategy. Automated backtesting tool is preferred because it reduces the human error. We usually use the Quantopian pyfolio package to backtest our trading strategies. It is easy to use and consists of various individual plots that provide a comprehensive image of the performance of a trading strategy."
   ]
  },
  {
   "cell_type": "markdown",
   "metadata": {
    "id": "Lr2zX7ZxNyFQ"
   },
   "source": [
    "<a id='6.1'></a>\n",
    "## 7.1 BackTestStats\n",
    "pass in df_account_value, this information is stored in env class\n"
   ]
  },
  {
   "cell_type": "code",
   "execution_count": null,
   "metadata": {
    "id": "Nzkr9yv-AdV_"
   },
   "outputs": [],
   "source": [
    "print(\"==============Get Backtest Results===========\")\n",
    "now = datetime.datetime.now().strftime('%Y%m%d-%Hh%M')\n",
    "\n",
    "perf_stats_all = backtest_stats(account_value=df_account_value)\n",
    "perf_stats_all = pd.DataFrame(perf_stats_all)\n",
    "perf_stats_all.to_csv(\"results/perf_stats_all_\"+now+'.csv')"
   ]
  },
  {
   "cell_type": "code",
   "execution_count": null,
   "metadata": {
    "id": "QkV-LB66iwhD"
   },
   "outputs": [],
   "source": [
    "#baseline stats\n",
    "# print(\"==============Get Baseline Stats===========\")\n",
    "# baseline_df = get_baseline(\n",
    "#         ticker=\"^DJI\", \n",
    "#         start = df_account_value.loc[0,'date'],\n",
    "#         end = df_account_value.loc[len(df_account_value)-1,'date'])\n",
    "\n",
    "# stats = backtest_stats(baseline_df, value_col_name = 'close')\n",
    "\n",
    "baseline_df = df[['date', 'tic', 'crypto_index']]\n",
    "baseline_df.rename(columns = {'crypto_index':'close'}, inplace = True)\n",
    "#baseline_df[\"date\"] = pd.to_datetime(baseline_df[\"date\"], format=\"%Y-%m-%d\").dt.date\n",
    "baseline_df.head()"
   ]
  },
  {
   "cell_type": "code",
   "execution_count": null,
   "metadata": {},
   "outputs": [],
   "source": [
    "baseline_df.info()"
   ]
  },
  {
   "cell_type": "code",
   "execution_count": null,
   "metadata": {},
   "outputs": [],
   "source": [
    "stats = backtest_stats(baseline_df, value_col_name = 'close')"
   ]
  },
  {
   "cell_type": "code",
   "execution_count": null,
   "metadata": {
    "id": "qg1kvfemrrQH"
   },
   "outputs": [],
   "source": [
    "df_account_value.loc[0,'date']"
   ]
  },
  {
   "cell_type": "code",
   "execution_count": null,
   "metadata": {
    "id": "tt1bzL5OrsTa"
   },
   "outputs": [],
   "source": [
    "df_account_value.loc[len(df_account_value)-1,'date']"
   ]
  },
  {
   "cell_type": "markdown",
   "metadata": {
    "id": "9U6Suru3h1jc"
   },
   "source": [
    "<a id='6.2'></a>\n",
    "## 7.2 BackTestPlot"
   ]
  },
  {
   "cell_type": "code",
   "execution_count": null,
   "metadata": {
    "id": "lKRGftSS7pNM"
   },
   "outputs": [],
   "source": [
    "print(\"==============Compare to Crypto Index===========\")\n",
    "%matplotlib inline\n",
    "backtest_plot_mod(df_account_value, baseline_df)"
   ]
  },
  {
   "cell_type": "code",
   "execution_count": null,
   "metadata": {
    "id": "BzBaE63H3RLc"
   },
   "outputs": [],
   "source": [
    "# print(\"==============Compare to DJIA===========\")\n",
    "# %matplotlib inline\n",
    "# # S&P 500: ^GSPC\n",
    "# # Dow Jones Index: ^DJI\n",
    "# # NASDAQ 100: ^NDX\n",
    "# backtest_plot(df_account_value, \n",
    "#              baseline_ticker = '^DJI', \n",
    "#              baseline_start = df_account_value.loc[0,'date'],\n",
    "#              baseline_end = df_account_value.loc[len(df_account_value)-1,'date'])"
   ]
  },
  {
   "cell_type": "code",
   "execution_count": null,
   "metadata": {
    "id": "ZYeOjax-7H_5"
   },
   "outputs": [],
   "source": []
  }
 ],
 "metadata": {
  "colab": {
   "collapsed_sections": [
    "Uy5_PTmOh1hj",
    "_gDkU-j-fCmZ",
    "3Zpv4S0-fDBv"
   ],
   "include_colab_link": true,
   "name": "FinRL_StockTrading_NeurIPS_2018.ipynb",
   "provenance": []
  },
  "kernelspec": {
   "display_name": "Python 3.8.13 ('msc_uol_ai_dissertation')",
   "language": "python",
   "name": "python3"
  },
  "language_info": {
   "codemirror_mode": {
    "name": "ipython",
    "version": 3
   },
   "file_extension": ".py",
   "mimetype": "text/x-python",
   "name": "python",
   "nbconvert_exporter": "python",
   "pygments_lexer": "ipython3",
   "version": "3.8.13"
  },
  "vscode": {
   "interpreter": {
    "hash": "0c0f2ae3d5d9aa27c4a2afc20f28a2482dc1006477ab22953abc78c31c7bb5b2"
   }
  }
 },
 "nbformat": 4,
 "nbformat_minor": 0
}
