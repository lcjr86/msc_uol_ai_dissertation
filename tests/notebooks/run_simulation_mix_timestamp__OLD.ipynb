{
 "cells": [
  {
   "attachments": {},
   "cell_type": "markdown",
   "metadata": {},
   "source": [
    "# Run Simulations"
   ]
  },
  {
   "attachments": {},
   "cell_type": "markdown",
   "metadata": {},
   "source": [
    "## Import relevant libraries"
   ]
  },
  {
   "cell_type": "code",
   "execution_count": 53,
   "metadata": {},
   "outputs": [],
   "source": [
    "import warnings\n",
    "warnings.filterwarnings('ignore')\n",
    "\n",
    "from configparser import ConfigParser\n",
    "\n",
    "import gym\n",
    "import gym_anytrading\n",
    "\n",
    "from gym_anytrading.envs import CryptoEnvLogBLSH\n",
    "\n",
    "from stable_baselines3.common.vec_env import DummyVecEnv\n",
    "from stable_baselines3 import A2C, PPO, DQN\n",
    "\n",
    "import tensorflow as tf\n",
    "\n",
    "import numpy as np\n",
    "import pandas as pd\n",
    "from matplotlib import pyplot as plt\n",
    "import seaborn as sns\n",
    "import os"
   ]
  },
  {
   "cell_type": "code",
   "execution_count": 54,
   "metadata": {},
   "outputs": [
    {
     "name": "stdout",
     "output_type": "stream",
     "text": [
      "GPU is available\n"
     ]
    }
   ],
   "source": [
    "gpu = len(tf.config.list_physical_devices('GPU'))>0\n",
    "print(\"GPU is\", \"available\" if gpu else \"NOT AVAILABLE\")"
   ]
  },
  {
   "cell_type": "code",
   "execution_count": 55,
   "metadata": {},
   "outputs": [],
   "source": [
    "%matplotlib inline"
   ]
  },
  {
   "attachments": {},
   "cell_type": "markdown",
   "metadata": {},
   "source": [
    "## Get values from the config file"
   ]
  },
  {
   "cell_type": "code",
   "execution_count": 56,
   "metadata": {},
   "outputs": [
    {
     "name": "stdout",
     "output_type": "stream",
     "text": [
      "['config_files/config_04_mix.ini']\n"
     ]
    }
   ],
   "source": [
    "configur = ConfigParser()\n",
    "config_file_name = \"config_04_mix.ini\"\n",
    "print (configur.read(os.path.join('config_files', config_file_name)))"
   ]
  },
  {
   "cell_type": "code",
   "execution_count": 57,
   "metadata": {},
   "outputs": [],
   "source": [
    "ccy = configur.get('data', 'ccy')\n",
    "data_frequency_train = configur.get('data', 'data_frequency_train')\n",
    "data_frequency_val = configur.get('data', 'data_frequency_val')\n",
    "\n",
    "window_size = configur.getint('environment', 'window_size')\n",
    "start_date = configur.get('environment', 'start_date')\n",
    "mid_date = configur.get('environment', 'mid_date')\n",
    "end_date = configur.get('environment', 'end_date')\n",
    "list_features = configur.get('environment', 'features').split(',')\n",
    "target = configur.get('environment', 'target')\n",
    "\n",
    "num_of_simulations = configur.getint('simulation', 'num_of_simulations')"
   ]
  },
  {
   "cell_type": "code",
   "execution_count": 58,
   "metadata": {},
   "outputs": [],
   "source": [
    "def get_and_process_data(ccy, data_frequency):\n",
    "    try:\n",
    "        \n",
    "        # Get the data\n",
    "        filename_data = 'binance_' + ccy + \"_\" + data_frequency + '_from_2017_01_01_to_2022_12_31_candlesticks_signals_processed_technical_indicators_and_crypto_index_log.csv'\n",
    "        fullpath_data = os.path.join('../../data/50_log/', filename_data)\n",
    "        df = pd.read_csv(fullpath_data)\n",
    "\n",
    "        # Converting Date Column to DateTime Type\n",
    "        df['Date'] = pd.to_datetime(df['formatted_open_time'])\n",
    "\n",
    "        # Setting the column as index\n",
    "        df.set_index('Date', inplace=True)\n",
    "\n",
    "        return df\n",
    "\n",
    "    except Exception as e:\n",
    "        print(e)"
   ]
  },
  {
   "cell_type": "code",
   "execution_count": 59,
   "metadata": {},
   "outputs": [],
   "source": [
    "def my_process_data(env):\n",
    "    start = env.frame_bound[0] - env.window_size\n",
    "    end = env.frame_bound[1]\n",
    "    prices = env.df.loc[:, target].to_numpy()[start:end]\n",
    "    signal_features = env.df.loc[:, list_features].to_numpy()[start:end]\n",
    "    return prices, signal_features\n",
    "\n",
    "class MyEnv(CryptoEnvLogBLSH):\n",
    "    _process_data = my_process_data"
   ]
  },
  {
   "cell_type": "code",
   "execution_count": 60,
   "metadata": {},
   "outputs": [],
   "source": [
    "df_train = get_and_process_data(ccy, data_frequency_train)\n",
    "df_val = get_and_process_data(ccy, data_frequency_val)"
   ]
  },
  {
   "cell_type": "code",
   "execution_count": 61,
   "metadata": {},
   "outputs": [
    {
     "data": {
      "text/plain": [
       "(563476, 94)"
      ]
     },
     "execution_count": 61,
     "metadata": {},
     "output_type": "execute_result"
    }
   ],
   "source": [
    "df_train.shape"
   ]
  },
  {
   "cell_type": "code",
   "execution_count": 62,
   "metadata": {},
   "outputs": [
    {
     "data": {
      "text/plain": [
       "(1839, 94)"
      ]
     },
     "execution_count": 62,
     "metadata": {},
     "output_type": "execute_result"
    }
   ],
   "source": [
    "df_val.shape"
   ]
  },
  {
   "cell_type": "code",
   "execution_count": 63,
   "metadata": {},
   "outputs": [],
   "source": [
    "start_date_id_train = int(df_train.index.get_loc(start_date))\n",
    "mid_date_id_train = int(df_train.index.get_loc(mid_date))\n",
    "mid_date_id_val = int(df_val.index.get_loc(mid_date))\n",
    "end_date_id_val = int(df_val.index.get_loc(end_date))"
   ]
  },
  {
   "cell_type": "code",
   "execution_count": 64,
   "metadata": {},
   "outputs": [],
   "source": [
    "list_models = ['A2C', 'PPO', 'DQN']\n",
    "\n",
    "path_tensorboard = os.path.join(\"tensorboard\", config_file_name.replace(\".ini\", \"\"))\n",
    "\n",
    "df_sim_results = pd.DataFrame()\n",
    "\n",
    "for model_name in list_models:\n",
    "\n",
    "    #setting up our environment for training \n",
    "    env_maker = lambda: MyEnv(df=df_train, frame_bound=(start_date_id_train,mid_date_id_train), window_size=window_size)\n",
    "    env = DummyVecEnv([env_maker])\n",
    "\n",
    "    if(model_name == 'A2C'):\n",
    "        model = A2C('MlpPolicy', env, verbose=0, tensorboard_log=path_tensorboard) \n",
    "    elif(model_name == 'PPO'):\n",
    "        model = PPO('MlpPolicy', env, batch_size=1024, verbose=0, tensorboard_log=path_tensorboard)\n",
    "    elif(model_name == 'DQN'):\n",
    "        model = DQN('MlpPolicy', env, batch_size=1024, verbose=0, tensorboard_log=path_tensorboard)\n",
    "\n",
    "    #setting the learning timesteps\n",
    "    model.learn(total_timesteps=(mid_date_id_train - start_date_id_train))  \n",
    "\n",
    "    df_sim_results_temp = pd.DataFrame(columns=['total_reward_cash', 'total_profit_percentage', 'num_of_trades'])\n",
    "\n",
    "    for i in range(num_of_simulations):   \n",
    "        \n",
    "        # Check the progress\n",
    "        if(i % 10 == 0):\n",
    "            print(i)\n",
    "\n",
    "        env = MyEnv(df=df_val, frame_bound=(mid_date_id_val,end_date_id_val), window_size=window_size)\n",
    "        #Setting up the Agent Environment\n",
    "        obs = env.reset()\n",
    "        while True: \n",
    "            obs = obs[np.newaxis, ...]\n",
    "            action, _states = model.predict(obs)\n",
    "            obs, rewards, done, info = env.step(action)\n",
    "            if done:\n",
    "                df_sim_results_temp = df_sim_results_temp.append(info, ignore_index=True, sort=False)\n",
    "                break\n",
    "\n",
    "    df_sim_results_temp['ccy'] = ccy\n",
    "    df_sim_results_temp['data_frequency_train'] = data_frequency_train\n",
    "    df_sim_results_temp['data_frequency_val'] = data_frequency_val\n",
    "    df_sim_results_temp['window_size'] = window_size\n",
    "    df_sim_results_temp['start_date'] = start_date\n",
    "    df_sim_results_temp['mid_date'] = mid_date\n",
    "    df_sim_results_temp['end_date'] = end_date\n",
    "    df_sim_results_temp['list_features'] = str(list_features)\n",
    "    df_sim_results_temp['model_type'] = model_name \n",
    "    df_sim_results_temp['num_of_simulations'] = num_of_simulations   \n",
    "\n",
    "    df_sim_results = pd.concat([df_sim_results, df_sim_results_temp], axis=0)      "
   ]
  },
  {
   "attachments": {},
   "cell_type": "markdown",
   "metadata": {},
   "source": [
    "## Results Analysis"
   ]
  },
  {
   "cell_type": "markdown",
   "metadata": {},
   "source": [
    "### Pre-process results"
   ]
  },
  {
   "cell_type": "code",
   "execution_count": null,
   "metadata": {},
   "outputs": [],
   "source": [
    "df_sim_results = df_sim_results.reset_index(drop=True)"
   ]
  },
  {
   "cell_type": "code",
   "execution_count": null,
   "metadata": {},
   "outputs": [],
   "source": [
    "df_sim_results = df_sim_results.drop_duplicates()"
   ]
  },
  {
   "attachments": {},
   "cell_type": "markdown",
   "metadata": {},
   "source": [
    "### Display the results"
   ]
  },
  {
   "cell_type": "code",
   "execution_count": null,
   "metadata": {},
   "outputs": [],
   "source": [
    "#df_sim_results.sample(10)"
   ]
  },
  {
   "attachments": {},
   "cell_type": "markdown",
   "metadata": {},
   "source": [
    "### Plots"
   ]
  },
  {
   "cell_type": "code",
   "execution_count": null,
   "metadata": {},
   "outputs": [],
   "source": [
    "sns.set(rc={\"figure.figsize\":(15, 10)})\n",
    "\n",
    "str_title = f'ccy:{ccy} | data_frequency_train:{data_frequency_train} | data_frequency_val:{data_frequency_val} | window_size:{window_size} | start_run_date:{mid_date} | end_run_date:{end_date} | lenght list_features:{len(list_features)} | num_of_simulations:{num_of_simulations}'\n",
    "\n",
    "file_export_plot_sim_results = config_file_name.replace(\".ini\", \".png\")"
   ]
  },
  {
   "cell_type": "code",
   "execution_count": null,
   "metadata": {},
   "outputs": [],
   "source": [
    "sns.boxplot(data=df_sim_results, x=\"total_profit_percentage\", y=\"model_type\").set(title=str_title)\n",
    "plt.savefig(os.path.join('results', 'mix_box_plot_' + file_export_plot_sim_results))\n"
   ]
  },
  {
   "cell_type": "code",
   "execution_count": null,
   "metadata": {},
   "outputs": [],
   "source": [
    "sns.histplot(data=df_sim_results, x=\"total_profit_percentage\", hue=\"model_type\", kde=True).set(title=str_title)\n",
    "plt.savefig(os.path.join('results', 'mix_hist_plot_' + file_export_plot_sim_results))"
   ]
  },
  {
   "attachments": {},
   "cell_type": "markdown",
   "metadata": {},
   "source": [
    "## Export results"
   ]
  },
  {
   "cell_type": "code",
   "execution_count": null,
   "metadata": {},
   "outputs": [],
   "source": [
    "file_export_sim_results = config_file_name.replace(\".ini\", \".csv\")\n",
    "fullpath_export_sim_results = os.path.join('results', 'mix_sim_results_' + file_export_sim_results)"
   ]
  },
  {
   "cell_type": "code",
   "execution_count": null,
   "metadata": {},
   "outputs": [],
   "source": [
    "df_sim_results.to_csv(fullpath_export_sim_results)"
   ]
  }
 ],
 "metadata": {
  "kernelspec": {
   "display_name": "msc_uol_ai_dissertation",
   "language": "python",
   "name": "python3"
  },
  "language_info": {
   "codemirror_mode": {
    "name": "ipython",
    "version": 3
   },
   "file_extension": ".py",
   "mimetype": "text/x-python",
   "name": "python",
   "nbconvert_exporter": "python",
   "pygments_lexer": "ipython3",
   "version": "3.8.13 | packaged by conda-forge | (default, Mar 25 2022, 06:04:14) \n[Clang 12.0.1 ]"
  },
  "orig_nbformat": 4,
  "vscode": {
   "interpreter": {
    "hash": "0c0f2ae3d5d9aa27c4a2afc20f28a2482dc1006477ab22953abc78c31c7bb5b2"
   }
  }
 },
 "nbformat": 4,
 "nbformat_minor": 2
}
