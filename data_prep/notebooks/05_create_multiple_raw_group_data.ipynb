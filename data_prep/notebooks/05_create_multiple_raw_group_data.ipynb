{
 "cells": [
  {
   "attachments": {},
   "cell_type": "markdown",
   "metadata": {},
   "source": [
    "# Create Multiple Raw Group Data"
   ]
  },
  {
   "cell_type": "code",
   "execution_count": 1,
   "metadata": {},
   "outputs": [],
   "source": [
    "import pandas as pd\n",
    "import datetime\n",
    "import os"
   ]
  },
  {
   "cell_type": "markdown",
   "metadata": {},
   "source": [
    "## Get and process the data"
   ]
  },
  {
   "cell_type": "code",
   "execution_count": 6,
   "metadata": {},
   "outputs": [],
   "source": [
    "def run():\n",
    "    try:\n",
    "        \n",
    "        # Parameters\n",
    "        list_asset_ticket = [\"BTCUSDT\", \"ETHUSDT\", \"BNBUSDT\"]\n",
    "        list_timestamp = [\"1d\", \"1h\", \"30m\", \"15m\", \"5m\"]  \n",
    "\n",
    "        # list_asset_ticket = [\"BTCUSDT\"]\n",
    "        # list_timestamp = [\"1d\"]  \n",
    "\n",
    "        list_year = [2017, 2018, 2019, 2020, 2021, 2022, 2023]\n",
    "        prefix_start_date = \"1 Jan, \"\n",
    "        prefix_end_date = \"1 Jan, \"\n",
    "\n",
    "        for asset_ticket in list_asset_ticket:\n",
    "            for timestamp in list_timestamp:\n",
    "\n",
    "                df_group = pd.DataFrame()\n",
    "\n",
    "                for y in range(0,len(list_year)-1):\n",
    "                    \n",
    "                    start_date = prefix_start_date + str(list_year[y])\n",
    "                    end_date = prefix_end_date + str(list_year[y+1])\n",
    "\n",
    "                    # Data file parameters\n",
    "                    input_data_path = '../../data/00_raw_single/'\n",
    "                    input_data_filename = \"binance\" + \\\n",
    "                                    \"_\" + asset_ticket + \\\n",
    "                                    \"_\" + timestamp + \\\n",
    "                                    \"_from_\" + datetime.datetime.strptime(start_date,'%d %b, %Y').strftime('%Y_%m_%d') + \\\n",
    "                                    \"_to_\" + datetime.datetime.strptime(end_date,'%d %b, %Y').strftime('%Y_%m_%d')\n",
    "                    input_data_extension = \".csv\"\n",
    "                    full_path_input_data = os.path.join(input_data_path, input_data_filename + input_data_extension)        \n",
    "\n",
    "                    df_temp = pd.read_csv(full_path_input_data)\n",
    "\n",
    "                    df_group = pd.concat([df_group, df_temp], axis=0)\n",
    "\n",
    "                # Get the new start and end date for the output file\n",
    "                new_prefix_start_date = \"1 Jan, \"\n",
    "                new_prefix_end_date = \"31 Dec, \"\n",
    "                new_start_date = new_prefix_start_date + str(list_year[0])\n",
    "                new_end_date = new_prefix_end_date + str(list_year[-2])\n",
    "\n",
    "                # # Check duplicates\n",
    "                #print(df_group[df_group.duplicated()])\n",
    "\n",
    "                # Remove duplicate lines\n",
    "                df_group = df_group.drop_duplicates(keep='last')\n",
    "\n",
    "                # # Check duplicates\n",
    "                # print(df_group[df_group.duplicated()])\n",
    "\n",
    "                # Remove last line of the df\n",
    "                df_group.drop(df_group.tail(1).index,inplace=True)\n",
    "\n",
    "                # Export data parameters\n",
    "                export_path = \"../../data/05_raw_group/\"\n",
    "                export_filename = \"binance\" + \\\n",
    "                                \"_\" + asset_ticket + \\\n",
    "                                \"_\" + timestamp + \\\n",
    "                                \"_from_\" + datetime.datetime.strptime(new_start_date,'%d %b, %Y').strftime('%Y_%m_%d') + \\\n",
    "                                \"_to_\" + datetime.datetime.strptime(new_end_date,'%d %b, %Y').strftime('%Y_%m_%d')\n",
    "                export_extension = \".csv\"\n",
    "                full_export_path = os.path.join(export_path, export_filename + export_extension)\n",
    "\n",
    "                # Export data\n",
    "                df_group.to_csv(full_export_path, index=False)\n",
    "\n",
    "    except Exception as e:\n",
    "        print(e)                                        "
   ]
  },
  {
   "cell_type": "code",
   "execution_count": 7,
   "metadata": {},
   "outputs": [],
   "source": [
    "run()"
   ]
  },
  {
   "cell_type": "code",
   "execution_count": null,
   "metadata": {},
   "outputs": [],
   "source": []
  }
 ],
 "metadata": {
  "kernelspec": {
   "display_name": "msc_uol_ai_dissertation",
   "language": "python",
   "name": "python3"
  },
  "language_info": {
   "codemirror_mode": {
    "name": "ipython",
    "version": 3
   },
   "file_extension": ".py",
   "mimetype": "text/x-python",
   "name": "python",
   "nbconvert_exporter": "python",
   "pygments_lexer": "ipython3",
   "version": "3.8.13"
  },
  "orig_nbformat": 4,
  "vscode": {
   "interpreter": {
    "hash": "0c0f2ae3d5d9aa27c4a2afc20f28a2482dc1006477ab22953abc78c31c7bb5b2"
   }
  }
 },
 "nbformat": 4,
 "nbformat_minor": 2
}
