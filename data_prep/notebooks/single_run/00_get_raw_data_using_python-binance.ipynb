{
 "cells": [
  {
   "cell_type": "markdown",
   "metadata": {},
   "source": [
    "# Get Data using python-binance"
   ]
  },
  {
   "cell_type": "markdown",
   "metadata": {},
   "source": [
    "## Import relevant libraries"
   ]
  },
  {
   "cell_type": "code",
   "execution_count": 1,
   "metadata": {},
   "outputs": [],
   "source": [
    "from binance.client import Client\n",
    "from dotenv import load_dotenv\n",
    "import os\n",
    "import pandas as pd\n",
    "import datetime"
   ]
  },
  {
   "cell_type": "markdown",
   "metadata": {},
   "source": [
    "## Set some 'global' parameters"
   ]
  },
  {
   "cell_type": "code",
   "execution_count": 12,
   "metadata": {},
   "outputs": [
    {
     "data": {
      "text/plain": [
       "True"
      ]
     },
     "execution_count": 12,
     "metadata": {},
     "output_type": "execute_result"
    }
   ],
   "source": [
    "load_dotenv('.env')"
   ]
  },
  {
   "cell_type": "markdown",
   "metadata": {},
   "source": [
    "## Get the data"
   ]
  },
  {
   "cell_type": "markdown",
   "metadata": {},
   "source": [
    "### Create the client"
   ]
  },
  {
   "cell_type": "code",
   "execution_count": 14,
   "metadata": {},
   "outputs": [],
   "source": [
    "client = Client(os.environ[\"BINANCE_API_KEY\"], os.environ[\"BINANCE_SECRET_KEY\"])"
   ]
  },
  {
   "cell_type": "markdown",
   "metadata": {},
   "source": [
    "### Parameters"
   ]
  },
  {
   "cell_type": "code",
   "execution_count": 15,
   "metadata": {},
   "outputs": [],
   "source": [
    "asset_ticket = \"BTCUSDT\"\n",
    "#asset_ticket = \"ETHUSDT\"\n",
    "#asset_ticket = \"BNBUSDT\"\n",
    "\n",
    "#timestamp = Client.KLINE_INTERVAL_1MINUTE\n",
    "#timestamp = Client.KLINE_INTERVAL_5MINUTE\n",
    "timestamp = Client.KLINE_INTERVAL_15MINUTE\n",
    "#timestamp = Client.KLINE_INTERVAL_1HOUR\n",
    "#timestamp = Client.KLINE_INTERVAL_1DAY\n",
    "\n",
    "start_date = \"30 Jan, 2023\"\n",
    "end_date = \"31 Jan, 2023\""
   ]
  },
  {
   "cell_type": "markdown",
   "metadata": {},
   "source": [
    "### Get the data"
   ]
  },
  {
   "cell_type": "code",
   "execution_count": 27,
   "metadata": {},
   "outputs": [],
   "source": [
    "klines = client.get_historical_klines(asset_ticket, timestamp, start_date, end_date)\n",
    "#klines = client.get_historical_klines(asset_ticket, timestamp, start_date) #To fetch something until now"
   ]
  },
  {
   "cell_type": "markdown",
   "metadata": {},
   "source": [
    "### Convert list of lists to Pandas Datafrae"
   ]
  },
  {
   "cell_type": "code",
   "execution_count": 28,
   "metadata": {},
   "outputs": [],
   "source": [
    "df_klines = pd.DataFrame(klines, columns = ['open_time', 'open', 'high', 'low', 'close', 'volume', 'close_time', 'quote_asset_volumne', 'number_of_trades', 'taker_buy_base_asset_volume', 'taker_buy_quote_asset_volume', 'ignore'])"
   ]
  },
  {
   "cell_type": "markdown",
   "metadata": {},
   "source": [
    "### Check the data"
   ]
  },
  {
   "cell_type": "code",
   "execution_count": 29,
   "metadata": {},
   "outputs": [
    {
     "data": {
      "text/html": [
       "<div>\n",
       "<style scoped>\n",
       "    .dataframe tbody tr th:only-of-type {\n",
       "        vertical-align: middle;\n",
       "    }\n",
       "\n",
       "    .dataframe tbody tr th {\n",
       "        vertical-align: top;\n",
       "    }\n",
       "\n",
       "    .dataframe thead th {\n",
       "        text-align: right;\n",
       "    }\n",
       "</style>\n",
       "<table border=\"1\" class=\"dataframe\">\n",
       "  <thead>\n",
       "    <tr style=\"text-align: right;\">\n",
       "      <th></th>\n",
       "      <th>open_time</th>\n",
       "      <th>open</th>\n",
       "      <th>high</th>\n",
       "      <th>low</th>\n",
       "      <th>close</th>\n",
       "      <th>volume</th>\n",
       "      <th>close_time</th>\n",
       "      <th>quote_asset_volumne</th>\n",
       "      <th>number_of_trades</th>\n",
       "      <th>taker_buy_base_asset_volume</th>\n",
       "      <th>taker_buy_quote_asset_volume</th>\n",
       "      <th>ignore</th>\n",
       "    </tr>\n",
       "  </thead>\n",
       "  <tbody>\n",
       "    <tr>\n",
       "      <th>110</th>\n",
       "      <td>1675135800000</td>\n",
       "      <td>22842.10000000</td>\n",
       "      <td>22857.04000000</td>\n",
       "      <td>22814.81000000</td>\n",
       "      <td>22844.22000000</td>\n",
       "      <td>1606.17702000</td>\n",
       "      <td>1675136699999</td>\n",
       "      <td>36687811.54778370</td>\n",
       "      <td>46311</td>\n",
       "      <td>761.22242000</td>\n",
       "      <td>17387774.40232940</td>\n",
       "      <td>0</td>\n",
       "    </tr>\n",
       "    <tr>\n",
       "      <th>101</th>\n",
       "      <td>1675127700000</td>\n",
       "      <td>22823.46000000</td>\n",
       "      <td>22829.00000000</td>\n",
       "      <td>22782.53000000</td>\n",
       "      <td>22794.55000000</td>\n",
       "      <td>2025.50967000</td>\n",
       "      <td>1675128599999</td>\n",
       "      <td>46188230.88427230</td>\n",
       "      <td>54186</td>\n",
       "      <td>995.93627000</td>\n",
       "      <td>22711273.59206070</td>\n",
       "      <td>0</td>\n",
       "    </tr>\n",
       "    <tr>\n",
       "      <th>82</th>\n",
       "      <td>1675110600000</td>\n",
       "      <td>22670.58000000</td>\n",
       "      <td>22725.98000000</td>\n",
       "      <td>22651.46000000</td>\n",
       "      <td>22716.42000000</td>\n",
       "      <td>3317.07772000</td>\n",
       "      <td>1675111499999</td>\n",
       "      <td>75289710.28982000</td>\n",
       "      <td>88345</td>\n",
       "      <td>1600.85402000</td>\n",
       "      <td>36337217.59207320</td>\n",
       "      <td>0</td>\n",
       "    </tr>\n",
       "    <tr>\n",
       "      <th>34</th>\n",
       "      <td>1675067400000</td>\n",
       "      <td>23550.92000000</td>\n",
       "      <td>23599.22000000</td>\n",
       "      <td>23507.00000000</td>\n",
       "      <td>23568.92000000</td>\n",
       "      <td>3355.32451000</td>\n",
       "      <td>1675068299999</td>\n",
       "      <td>79079647.04429200</td>\n",
       "      <td>87128</td>\n",
       "      <td>1675.29758000</td>\n",
       "      <td>39486659.95305110</td>\n",
       "      <td>0</td>\n",
       "    </tr>\n",
       "    <tr>\n",
       "      <th>56</th>\n",
       "      <td>1675087200000</td>\n",
       "      <td>23057.72000000</td>\n",
       "      <td>23180.94000000</td>\n",
       "      <td>23027.30000000</td>\n",
       "      <td>23175.71000000</td>\n",
       "      <td>3703.04764000</td>\n",
       "      <td>1675088099999</td>\n",
       "      <td>85551041.26428450</td>\n",
       "      <td>94378</td>\n",
       "      <td>2013.09135000</td>\n",
       "      <td>46512225.73628620</td>\n",
       "      <td>0</td>\n",
       "    </tr>\n",
       "  </tbody>\n",
       "</table>\n",
       "</div>"
      ],
      "text/plain": [
       "         open_time            open            high             low  \\\n",
       "110  1675135800000  22842.10000000  22857.04000000  22814.81000000   \n",
       "101  1675127700000  22823.46000000  22829.00000000  22782.53000000   \n",
       "82   1675110600000  22670.58000000  22725.98000000  22651.46000000   \n",
       "34   1675067400000  23550.92000000  23599.22000000  23507.00000000   \n",
       "56   1675087200000  23057.72000000  23180.94000000  23027.30000000   \n",
       "\n",
       "              close         volume     close_time quote_asset_volumne  \\\n",
       "110  22844.22000000  1606.17702000  1675136699999   36687811.54778370   \n",
       "101  22794.55000000  2025.50967000  1675128599999   46188230.88427230   \n",
       "82   22716.42000000  3317.07772000  1675111499999   75289710.28982000   \n",
       "34   23568.92000000  3355.32451000  1675068299999   79079647.04429200   \n",
       "56   23175.71000000  3703.04764000  1675088099999   85551041.26428450   \n",
       "\n",
       "     number_of_trades taker_buy_base_asset_volume  \\\n",
       "110             46311                761.22242000   \n",
       "101             54186                995.93627000   \n",
       "82              88345               1600.85402000   \n",
       "34              87128               1675.29758000   \n",
       "56              94378               2013.09135000   \n",
       "\n",
       "    taker_buy_quote_asset_volume ignore  \n",
       "110            17387774.40232940      0  \n",
       "101            22711273.59206070      0  \n",
       "82             36337217.59207320      0  \n",
       "34             39486659.95305110      0  \n",
       "56             46512225.73628620      0  "
      ]
     },
     "execution_count": 29,
     "metadata": {},
     "output_type": "execute_result"
    }
   ],
   "source": [
    "df_klines.sample(5)"
   ]
  },
  {
   "cell_type": "code",
   "execution_count": 30,
   "metadata": {},
   "outputs": [
    {
     "data": {
      "text/html": [
       "<div>\n",
       "<style scoped>\n",
       "    .dataframe tbody tr th:only-of-type {\n",
       "        vertical-align: middle;\n",
       "    }\n",
       "\n",
       "    .dataframe tbody tr th {\n",
       "        vertical-align: top;\n",
       "    }\n",
       "\n",
       "    .dataframe thead th {\n",
       "        text-align: right;\n",
       "    }\n",
       "</style>\n",
       "<table border=\"1\" class=\"dataframe\">\n",
       "  <thead>\n",
       "    <tr style=\"text-align: right;\">\n",
       "      <th></th>\n",
       "      <th>open_time</th>\n",
       "      <th>close_time</th>\n",
       "      <th>number_of_trades</th>\n",
       "    </tr>\n",
       "  </thead>\n",
       "  <tbody>\n",
       "    <tr>\n",
       "      <th>count</th>\n",
       "      <td>1.320000e+02</td>\n",
       "      <td>1.320000e+02</td>\n",
       "      <td>132.000000</td>\n",
       "    </tr>\n",
       "    <tr>\n",
       "      <th>mean</th>\n",
       "      <td>1.675096e+12</td>\n",
       "      <td>1.675097e+12</td>\n",
       "      <td>74757.659091</td>\n",
       "    </tr>\n",
       "    <tr>\n",
       "      <th>std</th>\n",
       "      <td>3.442426e+07</td>\n",
       "      <td>3.442426e+07</td>\n",
       "      <td>30295.205643</td>\n",
       "    </tr>\n",
       "    <tr>\n",
       "      <th>min</th>\n",
       "      <td>1.675037e+12</td>\n",
       "      <td>1.675038e+12</td>\n",
       "      <td>29869.000000</td>\n",
       "    </tr>\n",
       "    <tr>\n",
       "      <th>25%</th>\n",
       "      <td>1.675066e+12</td>\n",
       "      <td>1.675067e+12</td>\n",
       "      <td>53971.500000</td>\n",
       "    </tr>\n",
       "    <tr>\n",
       "      <th>50%</th>\n",
       "      <td>1.675096e+12</td>\n",
       "      <td>1.675097e+12</td>\n",
       "      <td>67812.500000</td>\n",
       "    </tr>\n",
       "    <tr>\n",
       "      <th>75%</th>\n",
       "      <td>1.675125e+12</td>\n",
       "      <td>1.675126e+12</td>\n",
       "      <td>86857.750000</td>\n",
       "    </tr>\n",
       "    <tr>\n",
       "      <th>max</th>\n",
       "      <td>1.675155e+12</td>\n",
       "      <td>1.675156e+12</td>\n",
       "      <td>215943.000000</td>\n",
       "    </tr>\n",
       "  </tbody>\n",
       "</table>\n",
       "</div>"
      ],
      "text/plain": [
       "          open_time    close_time  number_of_trades\n",
       "count  1.320000e+02  1.320000e+02        132.000000\n",
       "mean   1.675096e+12  1.675097e+12      74757.659091\n",
       "std    3.442426e+07  3.442426e+07      30295.205643\n",
       "min    1.675037e+12  1.675038e+12      29869.000000\n",
       "25%    1.675066e+12  1.675067e+12      53971.500000\n",
       "50%    1.675096e+12  1.675097e+12      67812.500000\n",
       "75%    1.675125e+12  1.675126e+12      86857.750000\n",
       "max    1.675155e+12  1.675156e+12     215943.000000"
      ]
     },
     "execution_count": 30,
     "metadata": {},
     "output_type": "execute_result"
    }
   ],
   "source": [
    "df_klines.describe()"
   ]
  },
  {
   "cell_type": "code",
   "execution_count": 31,
   "metadata": {},
   "outputs": [
    {
     "name": "stdout",
     "output_type": "stream",
     "text": [
      "<class 'pandas.core.frame.DataFrame'>\n",
      "RangeIndex: 132 entries, 0 to 131\n",
      "Data columns (total 12 columns):\n",
      " #   Column                        Non-Null Count  Dtype \n",
      "---  ------                        --------------  ----- \n",
      " 0   open_time                     132 non-null    int64 \n",
      " 1   open                          132 non-null    object\n",
      " 2   high                          132 non-null    object\n",
      " 3   low                           132 non-null    object\n",
      " 4   close                         132 non-null    object\n",
      " 5   volume                        132 non-null    object\n",
      " 6   close_time                    132 non-null    int64 \n",
      " 7   quote_asset_volumne           132 non-null    object\n",
      " 8   number_of_trades              132 non-null    int64 \n",
      " 9   taker_buy_base_asset_volume   132 non-null    object\n",
      " 10  taker_buy_quote_asset_volume  132 non-null    object\n",
      " 11  ignore                        132 non-null    object\n",
      "dtypes: int64(3), object(9)\n",
      "memory usage: 12.5+ KB\n"
     ]
    }
   ],
   "source": [
    "df_klines.info()"
   ]
  },
  {
   "cell_type": "code",
   "execution_count": 32,
   "metadata": {},
   "outputs": [
    {
     "name": "stdout",
     "output_type": "stream",
     "text": [
      "open_time                       0\n",
      "open                            0\n",
      "high                            0\n",
      "low                             0\n",
      "close                           0\n",
      "volume                          0\n",
      "close_time                      0\n",
      "quote_asset_volumne             0\n",
      "number_of_trades                0\n",
      "taker_buy_base_asset_volume     0\n",
      "taker_buy_quote_asset_volume    0\n",
      "ignore                          0\n",
      "dtype: int64\n"
     ]
    }
   ],
   "source": [
    "print(df_klines.isnull().sum())"
   ]
  },
  {
   "cell_type": "markdown",
   "metadata": {},
   "source": [
    "## Feature Engineering"
   ]
  },
  {
   "cell_type": "markdown",
   "metadata": {},
   "source": [
    "### Copy original data"
   ]
  },
  {
   "cell_type": "code",
   "execution_count": 33,
   "metadata": {},
   "outputs": [],
   "source": [
    "df_klines_copy = df_klines.copy()"
   ]
  },
  {
   "cell_type": "markdown",
   "metadata": {},
   "source": [
    "### Convert 'object' to float pandas"
   ]
  },
  {
   "cell_type": "code",
   "execution_count": 34,
   "metadata": {},
   "outputs": [],
   "source": [
    "df_klines_copy['open'] = pd.to_numeric(df_klines_copy['open'])\n",
    "df_klines_copy['high'] = pd.to_numeric(df_klines_copy['high'])\n",
    "df_klines_copy['low'] = pd.to_numeric(df_klines_copy['low'])\n",
    "df_klines_copy['close'] = pd.to_numeric(df_klines_copy['close'])\n",
    "df_klines_copy['volume'] = pd.to_numeric(df_klines_copy['volume'])"
   ]
  },
  {
   "cell_type": "markdown",
   "metadata": {},
   "source": [
    "### Convert the 'open_time' and 'close_time' to a Pandas DataTime format"
   ]
  },
  {
   "cell_type": "code",
   "execution_count": 35,
   "metadata": {},
   "outputs": [],
   "source": [
    "df_klines_copy['formatted_open_time'] = pd.to_datetime(df_klines_copy['open_time'], infer_datetime_format=True, unit=\"ms\")\n",
    "df_klines_copy['formatted_close_time'] = pd.to_datetime(df_klines_copy['close_time'], infer_datetime_format=True, unit=\"ms\")"
   ]
  },
  {
   "cell_type": "markdown",
   "metadata": {},
   "source": [
    "### Check the data - head and tail"
   ]
  },
  {
   "cell_type": "code",
   "execution_count": 36,
   "metadata": {},
   "outputs": [
    {
     "data": {
      "text/html": [
       "<div>\n",
       "<style scoped>\n",
       "    .dataframe tbody tr th:only-of-type {\n",
       "        vertical-align: middle;\n",
       "    }\n",
       "\n",
       "    .dataframe tbody tr th {\n",
       "        vertical-align: top;\n",
       "    }\n",
       "\n",
       "    .dataframe thead th {\n",
       "        text-align: right;\n",
       "    }\n",
       "</style>\n",
       "<table border=\"1\" class=\"dataframe\">\n",
       "  <thead>\n",
       "    <tr style=\"text-align: right;\">\n",
       "      <th></th>\n",
       "      <th>open_time</th>\n",
       "      <th>open</th>\n",
       "      <th>high</th>\n",
       "      <th>low</th>\n",
       "      <th>close</th>\n",
       "      <th>volume</th>\n",
       "      <th>close_time</th>\n",
       "      <th>quote_asset_volumne</th>\n",
       "      <th>number_of_trades</th>\n",
       "      <th>taker_buy_base_asset_volume</th>\n",
       "      <th>taker_buy_quote_asset_volume</th>\n",
       "      <th>ignore</th>\n",
       "      <th>formatted_open_time</th>\n",
       "      <th>formatted_close_time</th>\n",
       "    </tr>\n",
       "  </thead>\n",
       "  <tbody>\n",
       "    <tr>\n",
       "      <th>0</th>\n",
       "      <td>1675036800000</td>\n",
       "      <td>23743.37</td>\n",
       "      <td>23800.51</td>\n",
       "      <td>23713.64</td>\n",
       "      <td>23772.51</td>\n",
       "      <td>3116.98463</td>\n",
       "      <td>1675037699999</td>\n",
       "      <td>74072219.89611140</td>\n",
       "      <td>85890</td>\n",
       "      <td>1569.17022000</td>\n",
       "      <td>37292368.69780040</td>\n",
       "      <td>0</td>\n",
       "      <td>2023-01-30 00:00:00</td>\n",
       "      <td>2023-01-30 00:14:59.999</td>\n",
       "    </tr>\n",
       "    <tr>\n",
       "      <th>1</th>\n",
       "      <td>1675037700000</td>\n",
       "      <td>23773.18</td>\n",
       "      <td>23784.96</td>\n",
       "      <td>23683.96</td>\n",
       "      <td>23708.51</td>\n",
       "      <td>3136.50005</td>\n",
       "      <td>1675038599999</td>\n",
       "      <td>74384627.68896520</td>\n",
       "      <td>86762</td>\n",
       "      <td>1527.83108000</td>\n",
       "      <td>36232533.31092170</td>\n",
       "      <td>0</td>\n",
       "      <td>2023-01-30 00:15:00</td>\n",
       "      <td>2023-01-30 00:29:59.999</td>\n",
       "    </tr>\n",
       "    <tr>\n",
       "      <th>2</th>\n",
       "      <td>1675038600000</td>\n",
       "      <td>23708.51</td>\n",
       "      <td>23754.27</td>\n",
       "      <td>23692.87</td>\n",
       "      <td>23748.00</td>\n",
       "      <td>2116.86328</td>\n",
       "      <td>1675039499999</td>\n",
       "      <td>50235967.62549490</td>\n",
       "      <td>67987</td>\n",
       "      <td>1076.71462000</td>\n",
       "      <td>25553003.00005410</td>\n",
       "      <td>0</td>\n",
       "      <td>2023-01-30 00:30:00</td>\n",
       "      <td>2023-01-30 00:44:59.999</td>\n",
       "    </tr>\n",
       "    <tr>\n",
       "      <th>3</th>\n",
       "      <td>1675039500000</td>\n",
       "      <td>23747.52</td>\n",
       "      <td>23775.80</td>\n",
       "      <td>23726.01</td>\n",
       "      <td>23751.43</td>\n",
       "      <td>1891.48873</td>\n",
       "      <td>1675040399999</td>\n",
       "      <td>44939849.04105220</td>\n",
       "      <td>55865</td>\n",
       "      <td>891.82806000</td>\n",
       "      <td>21189597.87239240</td>\n",
       "      <td>0</td>\n",
       "      <td>2023-01-30 00:45:00</td>\n",
       "      <td>2023-01-30 00:59:59.999</td>\n",
       "    </tr>\n",
       "    <tr>\n",
       "      <th>4</th>\n",
       "      <td>1675040400000</td>\n",
       "      <td>23751.02</td>\n",
       "      <td>23765.90</td>\n",
       "      <td>23675.10</td>\n",
       "      <td>23682.00</td>\n",
       "      <td>2444.47409</td>\n",
       "      <td>1675041299999</td>\n",
       "      <td>57982255.13646120</td>\n",
       "      <td>71014</td>\n",
       "      <td>1140.30518000</td>\n",
       "      <td>27048104.66745150</td>\n",
       "      <td>0</td>\n",
       "      <td>2023-01-30 01:00:00</td>\n",
       "      <td>2023-01-30 01:14:59.999</td>\n",
       "    </tr>\n",
       "  </tbody>\n",
       "</table>\n",
       "</div>"
      ],
      "text/plain": [
       "       open_time      open      high       low     close      volume  \\\n",
       "0  1675036800000  23743.37  23800.51  23713.64  23772.51  3116.98463   \n",
       "1  1675037700000  23773.18  23784.96  23683.96  23708.51  3136.50005   \n",
       "2  1675038600000  23708.51  23754.27  23692.87  23748.00  2116.86328   \n",
       "3  1675039500000  23747.52  23775.80  23726.01  23751.43  1891.48873   \n",
       "4  1675040400000  23751.02  23765.90  23675.10  23682.00  2444.47409   \n",
       "\n",
       "      close_time quote_asset_volumne  number_of_trades  \\\n",
       "0  1675037699999   74072219.89611140             85890   \n",
       "1  1675038599999   74384627.68896520             86762   \n",
       "2  1675039499999   50235967.62549490             67987   \n",
       "3  1675040399999   44939849.04105220             55865   \n",
       "4  1675041299999   57982255.13646120             71014   \n",
       "\n",
       "  taker_buy_base_asset_volume taker_buy_quote_asset_volume ignore  \\\n",
       "0               1569.17022000            37292368.69780040      0   \n",
       "1               1527.83108000            36232533.31092170      0   \n",
       "2               1076.71462000            25553003.00005410      0   \n",
       "3                891.82806000            21189597.87239240      0   \n",
       "4               1140.30518000            27048104.66745150      0   \n",
       "\n",
       "  formatted_open_time    formatted_close_time  \n",
       "0 2023-01-30 00:00:00 2023-01-30 00:14:59.999  \n",
       "1 2023-01-30 00:15:00 2023-01-30 00:29:59.999  \n",
       "2 2023-01-30 00:30:00 2023-01-30 00:44:59.999  \n",
       "3 2023-01-30 00:45:00 2023-01-30 00:59:59.999  \n",
       "4 2023-01-30 01:00:00 2023-01-30 01:14:59.999  "
      ]
     },
     "execution_count": 36,
     "metadata": {},
     "output_type": "execute_result"
    }
   ],
   "source": [
    "df_klines_copy.head()"
   ]
  },
  {
   "cell_type": "code",
   "execution_count": 37,
   "metadata": {},
   "outputs": [
    {
     "data": {
      "text/html": [
       "<div>\n",
       "<style scoped>\n",
       "    .dataframe tbody tr th:only-of-type {\n",
       "        vertical-align: middle;\n",
       "    }\n",
       "\n",
       "    .dataframe tbody tr th {\n",
       "        vertical-align: top;\n",
       "    }\n",
       "\n",
       "    .dataframe thead th {\n",
       "        text-align: right;\n",
       "    }\n",
       "</style>\n",
       "<table border=\"1\" class=\"dataframe\">\n",
       "  <thead>\n",
       "    <tr style=\"text-align: right;\">\n",
       "      <th></th>\n",
       "      <th>open_time</th>\n",
       "      <th>open</th>\n",
       "      <th>high</th>\n",
       "      <th>low</th>\n",
       "      <th>close</th>\n",
       "      <th>volume</th>\n",
       "      <th>close_time</th>\n",
       "      <th>quote_asset_volumne</th>\n",
       "      <th>number_of_trades</th>\n",
       "      <th>taker_buy_base_asset_volume</th>\n",
       "      <th>taker_buy_quote_asset_volume</th>\n",
       "      <th>ignore</th>\n",
       "      <th>formatted_open_time</th>\n",
       "      <th>formatted_close_time</th>\n",
       "    </tr>\n",
       "  </thead>\n",
       "  <tbody>\n",
       "    <tr>\n",
       "      <th>127</th>\n",
       "      <td>1675151100000</td>\n",
       "      <td>22909.52</td>\n",
       "      <td>22989.48</td>\n",
       "      <td>22906.82</td>\n",
       "      <td>22978.24</td>\n",
       "      <td>5174.85864</td>\n",
       "      <td>1675151999999</td>\n",
       "      <td>118819453.64048090</td>\n",
       "      <td>112623</td>\n",
       "      <td>2669.96634000</td>\n",
       "      <td>61305251.37909740</td>\n",
       "      <td>0</td>\n",
       "      <td>2023-01-31 07:45:00</td>\n",
       "      <td>2023-01-31 07:59:59.999</td>\n",
       "    </tr>\n",
       "    <tr>\n",
       "      <th>128</th>\n",
       "      <td>1675152000000</td>\n",
       "      <td>22978.24</td>\n",
       "      <td>22996.84</td>\n",
       "      <td>22923.33</td>\n",
       "      <td>22926.89</td>\n",
       "      <td>3491.34860</td>\n",
       "      <td>1675152899999</td>\n",
       "      <td>80161462.25832080</td>\n",
       "      <td>86917</td>\n",
       "      <td>1674.99254000</td>\n",
       "      <td>38461031.82684220</td>\n",
       "      <td>0</td>\n",
       "      <td>2023-01-31 08:00:00</td>\n",
       "      <td>2023-01-31 08:14:59.999</td>\n",
       "    </tr>\n",
       "    <tr>\n",
       "      <th>129</th>\n",
       "      <td>1675152900000</td>\n",
       "      <td>22926.89</td>\n",
       "      <td>22966.68</td>\n",
       "      <td>22914.52</td>\n",
       "      <td>22919.81</td>\n",
       "      <td>2672.23556</td>\n",
       "      <td>1675153799999</td>\n",
       "      <td>61311315.16250110</td>\n",
       "      <td>74045</td>\n",
       "      <td>1322.18186000</td>\n",
       "      <td>30337379.15040770</td>\n",
       "      <td>0</td>\n",
       "      <td>2023-01-31 08:15:00</td>\n",
       "      <td>2023-01-31 08:29:59.999</td>\n",
       "    </tr>\n",
       "    <tr>\n",
       "      <th>130</th>\n",
       "      <td>1675153800000</td>\n",
       "      <td>22919.80</td>\n",
       "      <td>22925.61</td>\n",
       "      <td>22886.01</td>\n",
       "      <td>22892.04</td>\n",
       "      <td>2273.08689</td>\n",
       "      <td>1675154699999</td>\n",
       "      <td>52072931.09594030</td>\n",
       "      <td>67137</td>\n",
       "      <td>1114.29538000</td>\n",
       "      <td>25527752.34408960</td>\n",
       "      <td>0</td>\n",
       "      <td>2023-01-31 08:30:00</td>\n",
       "      <td>2023-01-31 08:44:59.999</td>\n",
       "    </tr>\n",
       "    <tr>\n",
       "      <th>131</th>\n",
       "      <td>1675154700000</td>\n",
       "      <td>22892.43</td>\n",
       "      <td>22908.74</td>\n",
       "      <td>22837.14</td>\n",
       "      <td>22838.96</td>\n",
       "      <td>1195.91906</td>\n",
       "      <td>1675155599999</td>\n",
       "      <td>27350469.12819370</td>\n",
       "      <td>29869</td>\n",
       "      <td>555.15936000</td>\n",
       "      <td>12696665.91815630</td>\n",
       "      <td>0</td>\n",
       "      <td>2023-01-31 08:45:00</td>\n",
       "      <td>2023-01-31 08:59:59.999</td>\n",
       "    </tr>\n",
       "  </tbody>\n",
       "</table>\n",
       "</div>"
      ],
      "text/plain": [
       "         open_time      open      high       low     close      volume  \\\n",
       "127  1675151100000  22909.52  22989.48  22906.82  22978.24  5174.85864   \n",
       "128  1675152000000  22978.24  22996.84  22923.33  22926.89  3491.34860   \n",
       "129  1675152900000  22926.89  22966.68  22914.52  22919.81  2672.23556   \n",
       "130  1675153800000  22919.80  22925.61  22886.01  22892.04  2273.08689   \n",
       "131  1675154700000  22892.43  22908.74  22837.14  22838.96  1195.91906   \n",
       "\n",
       "        close_time quote_asset_volumne  number_of_trades  \\\n",
       "127  1675151999999  118819453.64048090            112623   \n",
       "128  1675152899999   80161462.25832080             86917   \n",
       "129  1675153799999   61311315.16250110             74045   \n",
       "130  1675154699999   52072931.09594030             67137   \n",
       "131  1675155599999   27350469.12819370             29869   \n",
       "\n",
       "    taker_buy_base_asset_volume taker_buy_quote_asset_volume ignore  \\\n",
       "127               2669.96634000            61305251.37909740      0   \n",
       "128               1674.99254000            38461031.82684220      0   \n",
       "129               1322.18186000            30337379.15040770      0   \n",
       "130               1114.29538000            25527752.34408960      0   \n",
       "131                555.15936000            12696665.91815630      0   \n",
       "\n",
       "    formatted_open_time    formatted_close_time  \n",
       "127 2023-01-31 07:45:00 2023-01-31 07:59:59.999  \n",
       "128 2023-01-31 08:00:00 2023-01-31 08:14:59.999  \n",
       "129 2023-01-31 08:15:00 2023-01-31 08:29:59.999  \n",
       "130 2023-01-31 08:30:00 2023-01-31 08:44:59.999  \n",
       "131 2023-01-31 08:45:00 2023-01-31 08:59:59.999  "
      ]
     },
     "execution_count": 37,
     "metadata": {},
     "output_type": "execute_result"
    }
   ],
   "source": [
    "df_klines_copy.tail()"
   ]
  },
  {
   "cell_type": "markdown",
   "metadata": {},
   "source": [
    "### Create the 'upper_shadow', 'lower_shadow' and 'real_body' values (to compose the CURL)"
   ]
  },
  {
   "cell_type": "code",
   "execution_count": null,
   "metadata": {},
   "outputs": [],
   "source": [
    "def create_curl_values(df):\n",
    "    try:\n",
    "        results_upper_shadow = []\n",
    "        results_lower_shadow = []\n",
    "        results_real_body = []\n",
    "        for index, row in df.iterrows():\n",
    "            if row.open > row.close:\n",
    "                results_upper_shadow.append(row.high - row.open)\n",
    "                results_lower_shadow.append(row.close - row.low)\n",
    "                results_real_body.append(row.open - row.close)\n",
    "            else:\n",
    "                results_upper_shadow.append(row.high - row.close)\n",
    "                results_lower_shadow.append(row.open - row.low)\n",
    "                results_real_body.append(row.close - row.open)\n",
    "\n",
    "        df['upper_shadow'] = results_upper_shadow\n",
    "        df['lower_shadow'] = results_lower_shadow\n",
    "        df['real_body'] = results_real_body\n",
    "\n",
    "        return df\n",
    "\n",
    "    except Exception as e:\n",
    "        print(row.formatted_open_time)\n",
    "        print(e)"
   ]
  },
  {
   "cell_type": "code",
   "execution_count": null,
   "metadata": {},
   "outputs": [],
   "source": [
    "df_klines_copy = create_curl_values(df_klines_copy)"
   ]
  },
  {
   "cell_type": "markdown",
   "metadata": {},
   "source": [
    "### Check the data - head and tail"
   ]
  },
  {
   "cell_type": "code",
   "execution_count": null,
   "metadata": {},
   "outputs": [],
   "source": [
    "df_klines_copy.head()"
   ]
  },
  {
   "cell_type": "code",
   "execution_count": null,
   "metadata": {},
   "outputs": [],
   "source": [
    "df_klines_copy.tail()"
   ]
  },
  {
   "cell_type": "markdown",
   "metadata": {},
   "source": [
    "## Export the Data"
   ]
  },
  {
   "cell_type": "markdown",
   "metadata": {},
   "source": [
    "### Export parameters"
   ]
  },
  {
   "cell_type": "code",
   "execution_count": null,
   "metadata": {},
   "outputs": [],
   "source": [
    "export_path = \"../data\"\n",
    "export_filename = \"binance\" + \\\n",
    "                  \"_\" + asset_ticket + \\\n",
    "                  \"_\" + timestamp + \\\n",
    "                  \"_from_\" + datetime.datetime.strptime(start_date,'%d %b, %Y').strftime('%Y_%m_%d') + \\\n",
    "                  \"_to_\" + datetime.datetime.strptime(end_date,'%d %b, %Y').strftime('%Y_%m_%d')\n",
    "export_extension = \".csv\"\n",
    "full_export_path = os.path.join(export_path, export_filename + export_extension)"
   ]
  },
  {
   "cell_type": "markdown",
   "metadata": {},
   "source": [
    "### Export"
   ]
  },
  {
   "cell_type": "code",
   "execution_count": null,
   "metadata": {},
   "outputs": [],
   "source": [
    "df_klines_copy.to_csv(full_export_path, index=False)"
   ]
  },
  {
   "cell_type": "code",
   "execution_count": null,
   "metadata": {},
   "outputs": [],
   "source": []
  }
 ],
 "metadata": {
  "interpreter": {
   "hash": "0c0f2ae3d5d9aa27c4a2afc20f28a2482dc1006477ab22953abc78c31c7bb5b2"
  },
  "kernelspec": {
   "display_name": "Python 3.8.13 ('msc_uol_ai_dissertation')",
   "language": "python",
   "name": "python3"
  },
  "language_info": {
   "codemirror_mode": {
    "name": "ipython",
    "version": 3
   },
   "file_extension": ".py",
   "mimetype": "text/x-python",
   "name": "python",
   "nbconvert_exporter": "python",
   "pygments_lexer": "ipython3",
   "version": "3.8.13"
  },
  "orig_nbformat": 4
 },
 "nbformat": 4,
 "nbformat_minor": 2
}
