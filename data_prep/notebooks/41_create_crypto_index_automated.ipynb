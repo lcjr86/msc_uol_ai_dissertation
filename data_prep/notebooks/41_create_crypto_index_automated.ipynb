{
 "cells": [
  {
   "cell_type": "markdown",
   "metadata": {},
   "source": [
    "# Create Crypto Index"
   ]
  },
  {
   "cell_type": "code",
   "execution_count": 1,
   "metadata": {},
   "outputs": [],
   "source": [
    "import pandas as pd\n",
    "import datetime\n",
    "import os"
   ]
  },
  {
   "cell_type": "code",
   "execution_count": 2,
   "metadata": {},
   "outputs": [],
   "source": [
    "def run():\n",
    "    try:\n",
    "        # Parameters\n",
    "        list_asset_ticket = [\"BTCUSDT\", \"ETHUSDT\", \"BNBUSDT\"]\n",
    "        list_timestamp = [\"1d\", \"1h\", \"30m\", \"15m\", \"5m\"]\n",
    "        start_date = \"1 Jan, 2017\"\n",
    "        end_date = \"31 Dec, 2022\"\n",
    "\n",
    "        for asset_ticket in list_asset_ticket:\n",
    "            for timestamp in list_timestamp:\n",
    "                \n",
    "                # Data file parameters\n",
    "                input_data_path = '../../data/30_technical_indicators'\n",
    "                input_data_filename = \"binance\" + \\\n",
    "                                \"_\" + asset_ticket + \\\n",
    "                                \"_\" + timestamp + \\\n",
    "                                \"_from_\" + datetime.datetime.strptime(start_date,'%d %b, %Y').strftime('%Y_%m_%d') + \\\n",
    "                                \"_to_\" + datetime.datetime.strptime(end_date,'%d %b, %Y').strftime('%Y_%m_%d') + \\\n",
    "                                \"_candlesticks_signals_processed_and_technical_indicators\"\n",
    "                input_data_extension = \".csv\"\n",
    "                full_path_input_data = os.path.join(input_data_path, input_data_filename + input_data_extension)\n",
    "\n",
    "                df = pd.read_csv(full_path_input_data)\n",
    "                \n",
    "                # Set the index on the dataframe\n",
    "                df['date_index'] = df['date']\n",
    "                df.set_index('date_index', inplace=True)\n",
    "\n",
    "                df['time_to_chart_return'] = (df['close']/ df['close'].shift(1)) -1\n",
    "\n",
    "                # Drop all Not a number values using drop method.\n",
    "                df.dropna(inplace = True)\n",
    "\n",
    "                # Add the [crypto_index]\n",
    "                df['crypto_index'] = ((1 + df['time_to_chart_return']).cumprod()) * 1000\n",
    "\n",
    "                # Export the data\n",
    "                export_path = \"../../data/40_crypto_index\"\n",
    "                export_filename = \"binance\" + \\\n",
    "                                \"_\" + asset_ticket + \\\n",
    "                                \"_\" + timestamp + \\\n",
    "                                \"_from_\" + datetime.datetime.strptime(start_date,'%d %b, %Y').strftime('%Y_%m_%d') + \\\n",
    "                                \"_to_\" + datetime.datetime.strptime(end_date,'%d %b, %Y').strftime('%Y_%m_%d') + \\\n",
    "                                \"_candlesticks_signals_processed_technical_indicators_and_crypto_index\"\n",
    "                export_extension = \".csv\"\n",
    "                full_export_path = os.path.join(export_path, export_filename + export_extension)\n",
    "\n",
    "                df.to_csv(full_export_path, index=False)\n",
    "\n",
    "    except Exception as e:\n",
    "        print(e)"
   ]
  },
  {
   "cell_type": "code",
   "execution_count": 3,
   "metadata": {},
   "outputs": [],
   "source": [
    "run()"
   ]
  },
  {
   "cell_type": "code",
   "execution_count": null,
   "metadata": {},
   "outputs": [],
   "source": []
  }
 ],
 "metadata": {
  "kernelspec": {
   "display_name": "Python 3.8.13 ('msc_uol_ai_dissertation')",
   "language": "python",
   "name": "python3"
  },
  "language_info": {
   "codemirror_mode": {
    "name": "ipython",
    "version": 3
   },
   "file_extension": ".py",
   "mimetype": "text/x-python",
   "name": "python",
   "nbconvert_exporter": "python",
   "pygments_lexer": "ipython3",
   "version": "3.8.13"
  },
  "orig_nbformat": 4,
  "vscode": {
   "interpreter": {
    "hash": "0c0f2ae3d5d9aa27c4a2afc20f28a2482dc1006477ab22953abc78c31c7bb5b2"
   }
  }
 },
 "nbformat": 4,
 "nbformat_minor": 2
}
